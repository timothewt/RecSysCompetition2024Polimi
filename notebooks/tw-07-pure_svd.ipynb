{
 "cells": [
  {
   "cell_type": "code",
   "id": "initial_id",
   "metadata": {
    "collapsed": true,
    "ExecuteTime": {
     "end_time": "2024-11-18T10:15:08.664398Z",
     "start_time": "2024-11-18T10:15:08.660817Z"
    }
   },
   "source": [
    "import numpy as np\n",
    "import scipy.sparse as sp\n",
    "from sklearn.utils.extmath import randomized_svd\n",
    "\n",
    "from src.recommender_model import RecommenderModel\n",
    "from src.utils import train_model, write_submission"
   ],
   "outputs": [],
   "execution_count": 2
  },
  {
   "metadata": {},
   "cell_type": "markdown",
   "source": [
    "# Matrix Factorization - PureSVD\n",
    "The easiest method to implement for matrix factorization uses Singular-Value-Decomposition of the URM.\n"
   ],
   "id": "4d1763973bbd13da"
  },
  {
   "metadata": {
    "ExecuteTime": {
     "end_time": "2024-11-18T10:15:08.693293Z",
     "start_time": "2024-11-18T10:15:08.685494Z"
    }
   },
   "cell_type": "code",
   "source": [
    "class PureSVD(RecommenderModel):\n",
    "\tdef __init__(self):\n",
    "\t\tsuper(PureSVD, self).__init__()\n",
    "\t\tself.u: np.ndarray | None = None  # Users embeddings\n",
    "\t\tself.sigma: np.ndarray | None = None\n",
    "\t\tself.vt: np.ndarray | None = None  # Items embeddings\n",
    "\n",
    "\tdef fit(self, urm: sp.csr_matrix, icm: sp.csr_matrix, urm_val: sp.csr_matrix, progress_bar: bool = True, embeddings_dim: int = 128, num_iter: int = 5, **kwargs) -> None:\n",
    "\t\tself.urm = urm\n",
    "\n",
    "\t\tself.u, self.sigma, self.vt = randomized_svd(self.urm, n_components=embeddings_dim, n_iter=num_iter)\n",
    "\n",
    "\t\tself.urm_pred = np.dot(np.dot(self.u, np.diag(self.sigma)), self.vt)"
   ],
   "id": "f4cb32a09a1a7e50",
   "outputs": [],
   "execution_count": 3
  },
  {
   "metadata": {
    "ExecuteTime": {
     "end_time": "2024-11-18T10:15:32.058362Z",
     "start_time": "2024-11-18T10:15:08.730943Z"
    }
   },
   "cell_type": "code",
   "source": "pure_svd_train, _ = train_model(PureSVD(), embedding_dim=64)",
   "id": "b3c53e81acd18b83",
   "outputs": [
    {
     "name": "stdout",
     "output_type": "stream",
     "text": [
      "MAP@10 evaluation of the PureSVD model: 0.03266\n"
     ]
    }
   ],
   "execution_count": 4
  },
  {
   "metadata": {
    "ExecuteTime": {
     "end_time": "2024-11-18T10:16:07.966835Z",
     "start_time": "2024-11-18T10:15:32.166421Z"
    }
   },
   "cell_type": "code",
   "source": [
    "pure_svd_submission, _ = train_model(PureSVD(), test_size=0, embedding_dim=64)\n",
    "write_submission(pure_svd_submission, \"pure_svd_submission.csv\")"
   ],
   "id": "cbc26fde06b33f0d",
   "outputs": [],
   "execution_count": 5
  },
  {
   "metadata": {},
   "cell_type": "markdown",
   "source": "Submission result: `0.03431`",
   "id": "cf2de839c33fee8b"
  }
 ],
 "metadata": {
  "kernelspec": {
   "display_name": "Python 3",
   "language": "python",
   "name": "python3"
  },
  "language_info": {
   "codemirror_mode": {
    "name": "ipython",
    "version": 2
   },
   "file_extension": ".py",
   "mimetype": "text/x-python",
   "name": "python",
   "nbconvert_exporter": "python",
   "pygments_lexer": "ipython2",
   "version": "2.7.6"
  }
 },
 "nbformat": 4,
 "nbformat_minor": 5
}
