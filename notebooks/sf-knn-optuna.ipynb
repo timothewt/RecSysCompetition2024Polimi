{
 "cells": [
  {
   "cell_type": "code",
   "execution_count": 1,
   "id": "427ee9c7-c5eb-4576-9f92-d74e65fe1ff2",
   "metadata": {},
   "outputs": [],
   "source": [
    "from pathlib import Path\n",
    "import sys  \n",
    "import os\n",
    "import pandas as pd \n",
    "from datetime import datetime\n",
    "import scipy.sparse as sps\n",
    "from numpy import linalg as LA\n",
    "\n",
    "import numpy as np\n",
    "from operator import itemgetter\n",
    "import optuna as op"
   ]
  },
  {
   "cell_type": "code",
   "execution_count": 2,
   "id": "093f7ac7-6d4f-465e-ab41-a35175a951d9",
   "metadata": {},
   "outputs": [],
   "source": [
    "sys.path.append(os.path.abspath(os.path.join(os.getcwd(), \"..\", \"libs\")))\n",
    "sys.path.append(os.path.abspath(os.path.join(os.getcwd(), \"..\")))\n",
    "sys.path.append(os.path.abspath(os.path.join(os.getcwd(), \"..\", \"src\")))"
   ]
  },
  {
   "cell_type": "code",
   "execution_count": 3,
   "id": "fdfa0eeb-aec3-4bae-9dcd-13d6332998b0",
   "metadata": {},
   "outputs": [],
   "source": [
    "%load_ext autoreload\n",
    "%autoreload 2"
   ]
  },
  {
   "cell_type": "code",
   "execution_count": 4,
   "id": "bdf9b1fa-533b-4e8a-95a2-ff86d3b89dde",
   "metadata": {},
   "outputs": [],
   "source": [
    "from Utils.load_URM import load_URM\n",
    "from Utils.load_ICM import load_ICM\n",
    "\n",
    "from scipy.sparse import hstack, vstack\n",
    "from Evaluation.Evaluator import EvaluatorHoldout\n",
    "from Data_manager.split_functions.split_train_validation_random_holdout import split_train_in_two_percentage_global_sample\n",
    "\n",
    "URM_all = load_URM(\"../data/data_train.csv\")\n",
    "ICM_all = load_ICM(\"../data/data_ICM_metadata.csv\")"
   ]
  },
  {
   "cell_type": "code",
   "execution_count": 5,
   "id": "9f73f948-e55c-4683-a283-5d256fda3580",
   "metadata": {},
   "outputs": [],
   "source": [
    "URM_train = sps.load_npz(\"URM_train_ens.npz\")\n",
    "URM_val = sps.load_npz(\"URM_val_ens.npz\")\n",
    "URM_test = sps.load_npz(\"URM_test_ens.npz\")\n",
    "\n",
    "URM_train_val = sps.load_npz(\"URM_train_val_ens.npz\")"
   ]
  },
  {
   "cell_type": "code",
   "execution_count": 6,
   "id": "126b0641-8559-4a8d-a09b-d64a0a38add1",
   "metadata": {},
   "outputs": [
    {
     "name": "stdout",
     "output_type": "stream",
     "text": [
      "EvaluatorHoldout: Ignoring 527 ( 1.5%) Users that have less than 1 test interactions\n"
     ]
    }
   ],
   "source": [
    "evaluator_validation = EvaluatorHoldout(URM_test, cutoff_list=[10])"
   ]
  },
  {
   "cell_type": "code",
   "execution_count": 7,
   "id": "7de5e196-193e-47d5-8980-f12028eaa0a1",
   "metadata": {},
   "outputs": [],
   "source": [
    "from libs.Recommenders.KNN.ItemKNNCFRecommender import ItemKNNCFRecommender"
   ]
  },
  {
   "cell_type": "code",
   "execution_count": 8,
   "id": "c64a8998-643f-4d59-b65f-794d5cea619e",
   "metadata": {},
   "outputs": [],
   "source": [
    "def objective_function_KNN(optuna_trial):\n",
    "                       \n",
    "    similarity=\"tversky\"\n",
    "    \n",
    "    recommender_instance = ItemKNNCFRecommender(URM_train_val)\n",
    "    \n",
    "    full_hyperp = {\"similarity\": similarity,\n",
    "                   \"topK\": optuna_trial.suggest_int(\"topK\", 2, 30),\n",
    "                   \"shrink\": optuna_trial.suggest_float(\"shrink\", 5 , 30),\n",
    "                   \"feature_weighting\": optuna_trial.suggest_categorical(\"feature_weighting\", [\"BM25\", \"TF-IDF\"]),\n",
    "                   \"normalize\": optuna_trial.suggest_categorical(\"normalize\", [True, False])\n",
    "                  }\n",
    "    \n",
    "    if similarity == \"asymmetric\":\n",
    "        full_hyperp[\"asymmetric_alpha\"] = optuna_trial.suggest_float(\"asymmetric_alpha\", 0, 2, log=False)\n",
    "        full_hyperp[\"normalize\"] = True\n",
    "\n",
    "    elif similarity == \"tversky\":\n",
    "        full_hyperp[\"tversky_alpha\"] = optuna_trial.suggest_float(\"tversky_alpha\", 0.1, 0.5, log=False)\n",
    "        full_hyperp[\"tversky_beta\"] = optuna_trial.suggest_float(\"tversky_beta\", 0.4, 2.4, log=False)\n",
    "        full_hyperp[\"normalize\"] = True \n",
    "\n",
    "    elif similarity == \"euclidean\":\n",
    "        full_hyperp[\"normalize_avg_row\"] = optuna_trial.suggest_categorical(\"normalize_avg_row\", [True, False])\n",
    "        full_hyperp[\"similarity_from_distance_mode\"] = optuna_trial.suggest_categorical(\"similarity_from_distance_mode\", [\"lin\", \"log\", \"exp\"])\n",
    "        full_hyperp[\"normalize\"] = optuna_trial.suggest_categorical(\"normalize\", [True, False])\n",
    "        \n",
    "    \n",
    "    recommender_instance.fit(**full_hyperp)\n",
    "    \n",
    "    eval_res, _ = evaluator_validation.evaluateRecommender(recommender_instance)   \n",
    "    \n",
    "    # Save MAP alongside RECALL\n",
    "    trial_results = {\n",
    "        \"RECALL\": eval_res[\"RECALL\"][10],\n",
    "        \"MAP\": eval_res[\"MAP\"][10]  # Save MAP for reference\n",
    "    }\n",
    "    \n",
    "    # Save the MAP value to the optuna trial user attributes for later use\n",
    "    optuna_trial.set_user_attr(\"MAP\", trial_results[\"MAP\"])\n",
    "    \n",
    "    # Return RECALL for optimization\n",
    "    return trial_results[\"MAP\"]"
   ]
  },
  {
   "cell_type": "code",
   "execution_count": 9,
   "id": "37d51566-0b96-4767-b79b-dc10521ebfb6",
   "metadata": {},
   "outputs": [],
   "source": [
    "class SaveResults(object):\n",
    "    def __init__(self, file_path=None):\n",
    "        self.file_path = file_path\n",
    "        self.results = []\n",
    "    \n",
    "    def __call__(self, optuna_study, optuna_trial):\n",
    "        trial_result = optuna_trial.params.copy()\n",
    "        trial_result[\"iteration\"] = optuna_trial.number\n",
    "        trial_result[\"RECALL\"] = optuna_trial.value\n",
    "        \n",
    "        # Retrieve the MAP metric from user attributes\n",
    "        trial_result[\"MAP\"] = optuna_trial.user_attrs.get(\"MAP\")\n",
    "        \n",
    "        self.results.append(trial_result)\n",
    "        \n",
    "        # Convert to DataFrame and save to CSV\n",
    "        results_df = pd.DataFrame(self.results)\n",
    "        results_df.to_csv(self.file_path, index=False)\n"
   ]
  },
  {
   "cell_type": "code",
   "execution_count": 10,
   "id": "325be9e0-75d1-4cb8-afd4-5c44db69051c",
   "metadata": {
    "scrolled": true
   },
   "outputs": [
    {
     "name": "stderr",
     "output_type": "stream",
     "text": [
      "[I 2025-01-06 23:56:04,132] A new study created in memory with name: no-name-1b252f92-2774-4189-9b7f-ba0ad057e4ac\n"
     ]
    },
    {
     "name": "stdout",
     "output_type": "stream",
     "text": [
      "Similarity column 38121 (100.0%), 4520.34 column/sec. Elapsed time 8.43 sec\n",
      "EvaluatorHoldout: Processed 35209 (100.0%) in 9.13 sec. Users per second: 3858\n"
     ]
    },
    {
     "name": "stderr",
     "output_type": "stream",
     "text": [
      "[I 2025-01-06 23:56:21,869] Trial 0 finished with value: 0.04211992491998874 and parameters: {'topK': 7, 'shrink': 20.313201417217225, 'feature_weighting': 'TF-IDF', 'normalize': False, 'tversky_alpha': 0.3691069118125733, 'tversky_beta': 2.145377446930075}. Best is trial 0 with value: 0.04211992491998874.\n"
     ]
    },
    {
     "name": "stdout",
     "output_type": "stream",
     "text": [
      "Similarity column 38121 (100.0%), 4466.93 column/sec. Elapsed time 8.53 sec\n",
      "EvaluatorHoldout: Processed 35209 (100.0%) in 9.07 sec. Users per second: 3883\n"
     ]
    },
    {
     "name": "stderr",
     "output_type": "stream",
     "text": [
      "[I 2025-01-06 23:56:39,635] Trial 1 finished with value: 0.040162573422107835 and parameters: {'topK': 4, 'shrink': 28.101187900121026, 'feature_weighting': 'TF-IDF', 'normalize': False, 'tversky_alpha': 0.15195064865896224, 'tversky_beta': 0.48109474639477956}. Best is trial 0 with value: 0.04211992491998874.\n"
     ]
    },
    {
     "name": "stdout",
     "output_type": "stream",
     "text": [
      "Similarity column 38121 (100.0%), 2190.19 column/sec. Elapsed time 17.41 sec\n",
      "EvaluatorHoldout: Processed 35209 (100.0%) in 8.67 sec. Users per second: 4059\n"
     ]
    },
    {
     "name": "stderr",
     "output_type": "stream",
     "text": [
      "[I 2025-01-06 23:57:05,880] Trial 2 finished with value: 0.03758990869488077 and parameters: {'topK': 2, 'shrink': 20.84904335116114, 'feature_weighting': 'BM25', 'normalize': True, 'tversky_alpha': 0.4633873741123786, 'tversky_beta': 1.3528713698821142}. Best is trial 0 with value: 0.04211992491998874.\n"
     ]
    },
    {
     "name": "stdout",
     "output_type": "stream",
     "text": [
      "Similarity column 38121 (100.0%), 4674.50 column/sec. Elapsed time 8.16 sec\n",
      "EvaluatorHoldout: Processed 35209 (100.0%) in 8.78 sec. Users per second: 4010\n"
     ]
    },
    {
     "name": "stderr",
     "output_type": "stream",
     "text": [
      "[I 2025-01-06 23:57:22,978] Trial 3 finished with value: 0.04023992219701987 and parameters: {'topK': 5, 'shrink': 22.72710020173113, 'feature_weighting': 'BM25', 'normalize': True, 'tversky_alpha': 0.13446085489602516, 'tversky_beta': 0.7296938122598308}. Best is trial 0 with value: 0.04211992491998874.\n"
     ]
    },
    {
     "name": "stdout",
     "output_type": "stream",
     "text": [
      "Similarity column 38121 (100.0%), 4580.85 column/sec. Elapsed time 8.32 sec\n",
      "EvaluatorHoldout: Processed 35209 (100.0%) in 8.82 sec. Users per second: 3991\n"
     ]
    },
    {
     "name": "stderr",
     "output_type": "stream",
     "text": [
      "[I 2025-01-06 23:57:40,291] Trial 4 finished with value: 0.04163416460527838 and parameters: {'topK': 6, 'shrink': 23.094123168064794, 'feature_weighting': 'TF-IDF', 'normalize': True, 'tversky_alpha': 0.11089522445742697, 'tversky_beta': 1.0380267639056044}. Best is trial 0 with value: 0.04211992491998874.\n"
     ]
    },
    {
     "name": "stdout",
     "output_type": "stream",
     "text": [
      "Similarity column 38121 (100.0%), 4650.06 column/sec. Elapsed time 8.20 sec\n",
      "EvaluatorHoldout: Processed 35209 (100.0%) in 9.47 sec. Users per second: 3717\n"
     ]
    },
    {
     "name": "stderr",
     "output_type": "stream",
     "text": [
      "[I 2025-01-06 23:57:58,126] Trial 5 finished with value: 0.037714381964927525 and parameters: {'topK': 26, 'shrink': 7.90358831018323, 'feature_weighting': 'TF-IDF', 'normalize': True, 'tversky_alpha': 0.18983825459239215, 'tversky_beta': 0.629575066587995}. Best is trial 0 with value: 0.04211992491998874.\n"
     ]
    },
    {
     "name": "stdout",
     "output_type": "stream",
     "text": [
      "Similarity column 38121 (100.0%), 4699.78 column/sec. Elapsed time 8.11 sec\n",
      "EvaluatorHoldout: Processed 35209 (100.0%) in 9.09 sec. Users per second: 3871\n"
     ]
    },
    {
     "name": "stderr",
     "output_type": "stream",
     "text": [
      "[I 2025-01-06 23:58:15,494] Trial 6 finished with value: 0.03692027696742292 and parameters: {'topK': 13, 'shrink': 9.732889187674344, 'feature_weighting': 'BM25', 'normalize': True, 'tversky_alpha': 0.4748635768673486, 'tversky_beta': 1.3333903697172635}. Best is trial 0 with value: 0.04211992491998874.\n"
     ]
    },
    {
     "name": "stdout",
     "output_type": "stream",
     "text": [
      "Similarity column 38121 (100.0%), 4588.39 column/sec. Elapsed time 8.31 sec\n",
      "EvaluatorHoldout: Processed 35209 (100.0%) in 9.09 sec. Users per second: 3875\n"
     ]
    },
    {
     "name": "stderr",
     "output_type": "stream",
     "text": [
      "[I 2025-01-06 23:58:33,053] Trial 7 finished with value: 0.04032094404974748 and parameters: {'topK': 15, 'shrink': 24.821551725508048, 'feature_weighting': 'TF-IDF', 'normalize': False, 'tversky_alpha': 0.20384391560007026, 'tversky_beta': 1.6999479319092377}. Best is trial 0 with value: 0.04211992491998874.\n"
     ]
    },
    {
     "name": "stdout",
     "output_type": "stream",
     "text": [
      "Similarity column 38121 (100.0%), 4646.41 column/sec. Elapsed time 8.20 sec\n",
      "EvaluatorHoldout: Processed 35209 (100.0%) in 9.52 sec. Users per second: 3697\n"
     ]
    },
    {
     "name": "stderr",
     "output_type": "stream",
     "text": [
      "[I 2025-01-06 23:58:50,954] Trial 8 finished with value: 0.03693956879711816 and parameters: {'topK': 22, 'shrink': 26.728875698622847, 'feature_weighting': 'BM25', 'normalize': True, 'tversky_alpha': 0.456721603766947, 'tversky_beta': 0.8443537257745978}. Best is trial 0 with value: 0.04211992491998874.\n"
     ]
    },
    {
     "name": "stdout",
     "output_type": "stream",
     "text": [
      "Similarity column 38121 (100.0%), 4652.15 column/sec. Elapsed time 8.19 sec\n",
      "EvaluatorHoldout: Processed 35209 (100.0%) in 8.88 sec. Users per second: 3967\n"
     ]
    },
    {
     "name": "stderr",
     "output_type": "stream",
     "text": [
      "[I 2025-01-06 23:59:08,187] Trial 9 finished with value: 0.04149206191418269 and parameters: {'topK': 7, 'shrink': 11.908762294841031, 'feature_weighting': 'TF-IDF', 'normalize': False, 'tversky_alpha': 0.19294994134643276, 'tversky_beta': 0.6829260047046485}. Best is trial 0 with value: 0.04211992491998874.\n"
     ]
    },
    {
     "name": "stdout",
     "output_type": "stream",
     "text": [
      "Similarity column 38121 (100.0%), 4578.15 column/sec. Elapsed time 8.33 sec\n",
      "EvaluatorHoldout: Processed 35209 (100.0%) in 8.93 sec. Users per second: 3942\n"
     ]
    },
    {
     "name": "stderr",
     "output_type": "stream",
     "text": [
      "[I 2025-01-06 23:59:25,621] Trial 10 finished with value: 0.04146431828622342 and parameters: {'topK': 11, 'shrink': 16.145277443844797, 'feature_weighting': 'TF-IDF', 'normalize': False, 'tversky_alpha': 0.3565520135638959, 'tversky_beta': 2.357241266445957}. Best is trial 0 with value: 0.04211992491998874.\n"
     ]
    },
    {
     "name": "stdout",
     "output_type": "stream",
     "text": [
      "Similarity column 38121 (100.0%), 4626.64 column/sec. Elapsed time 8.24 sec\n",
      "EvaluatorHoldout: Processed 35209 (100.0%) in 8.86 sec. Users per second: 3974\n"
     ]
    },
    {
     "name": "stderr",
     "output_type": "stream",
     "text": [
      "[I 2025-01-06 23:59:42,882] Trial 11 finished with value: 0.04171513686751125 and parameters: {'topK': 9, 'shrink': 17.63488807000193, 'feature_weighting': 'TF-IDF', 'normalize': False, 'tversky_alpha': 0.32136823782679325, 'tversky_beta': 2.3033624264955272}. Best is trial 0 with value: 0.04211992491998874.\n"
     ]
    },
    {
     "name": "stdout",
     "output_type": "stream",
     "text": [
      "Similarity column 38121 (100.0%), 4666.42 column/sec. Elapsed time 8.17 sec\n",
      "EvaluatorHoldout: Processed 35209 (100.0%) in 8.87 sec. Users per second: 3969\n"
     ]
    },
    {
     "name": "stderr",
     "output_type": "stream",
     "text": [
      "[I 2025-01-07 00:00:00,088] Trial 12 finished with value: 0.041499792396152965 and parameters: {'topK': 10, 'shrink': 16.762857076038834, 'feature_weighting': 'TF-IDF', 'normalize': False, 'tversky_alpha': 0.3260183112939505, 'tversky_beta': 2.3886974255273126}. Best is trial 0 with value: 0.04211992491998874.\n"
     ]
    },
    {
     "name": "stdout",
     "output_type": "stream",
     "text": [
      "Similarity column 38121 (100.0%), 4597.55 column/sec. Elapsed time 8.29 sec\n",
      "EvaluatorHoldout: Processed 35209 (100.0%) in 9.43 sec. Users per second: 3734\n"
     ]
    },
    {
     "name": "stderr",
     "output_type": "stream",
     "text": [
      "[I 2025-01-07 00:00:17,991] Trial 13 finished with value: 0.040008821472863124 and parameters: {'topK': 20, 'shrink': 19.22800357199752, 'feature_weighting': 'TF-IDF', 'normalize': False, 'tversky_alpha': 0.3840106463311465, 'tversky_beta': 1.9793750283847624}. Best is trial 0 with value: 0.04211992491998874.\n"
     ]
    },
    {
     "name": "stdout",
     "output_type": "stream",
     "text": [
      "Similarity column 38121 (100.0%), 4641.93 column/sec. Elapsed time 8.21 sec\n",
      "EvaluatorHoldout: Processed 35209 (100.0%) in 9.07 sec. Users per second: 3884\n"
     ]
    },
    {
     "name": "stderr",
     "output_type": "stream",
     "text": [
      "[I 2025-01-07 00:00:35,448] Trial 14 finished with value: 0.04033299454008493 and parameters: {'topK': 18, 'shrink': 13.170040127398746, 'feature_weighting': 'TF-IDF', 'normalize': False, 'tversky_alpha': 0.2761085968186012, 'tversky_beta': 2.0741112993176074}. Best is trial 0 with value: 0.04211992491998874.\n"
     ]
    },
    {
     "name": "stdout",
     "output_type": "stream",
     "text": [
      "Similarity column 38121 (100.0%), 4703.13 column/sec. Elapsed time 8.11 sec\n",
      "EvaluatorHoldout: Processed 35209 (100.0%) in 8.86 sec. Users per second: 3975\n"
     ]
    },
    {
     "name": "stderr",
     "output_type": "stream",
     "text": [
      "[I 2025-01-07 00:00:52,573] Trial 15 finished with value: 0.04144985025924417 and parameters: {'topK': 10, 'shrink': 15.370350343569525, 'feature_weighting': 'TF-IDF', 'normalize': False, 'tversky_alpha': 0.26858629917999166, 'tversky_beta': 1.830428152961657}. Best is trial 0 with value: 0.04211992491998874.\n"
     ]
    },
    {
     "name": "stdout",
     "output_type": "stream",
     "text": [
      "Similarity column 38121 (100.0%), 4705.00 column/sec. Elapsed time 8.10 sec\n",
      "EvaluatorHoldout: Processed 35209 (100.0%) in 8.84 sec. Users per second: 3982\n"
     ]
    },
    {
     "name": "stderr",
     "output_type": "stream",
     "text": [
      "[I 2025-01-07 00:01:09,682] Trial 16 finished with value: 0.04162530706659914 and parameters: {'topK': 9, 'shrink': 19.533819163865154, 'feature_weighting': 'TF-IDF', 'normalize': False, 'tversky_alpha': 0.3990474770457506, 'tversky_beta': 2.1582110265938925}. Best is trial 0 with value: 0.04211992491998874.\n"
     ]
    },
    {
     "name": "stdout",
     "output_type": "stream",
     "text": [
      "Similarity column 38121 (100.0%), 4646.46 column/sec. Elapsed time 8.20 sec\n",
      "EvaluatorHoldout: Processed 35209 (100.0%) in 10.06 sec. Users per second: 3500\n"
     ]
    },
    {
     "name": "stderr",
     "output_type": "stream",
     "text": [
      "[I 2025-01-07 00:01:28,120] Trial 17 finished with value: 0.03828002016980529 and parameters: {'topK': 29, 'shrink': 29.91665120761414, 'feature_weighting': 'TF-IDF', 'normalize': False, 'tversky_alpha': 0.4156070226892264, 'tversky_beta': 1.5729537741892097}. Best is trial 0 with value: 0.04211992491998874.\n"
     ]
    },
    {
     "name": "stdout",
     "output_type": "stream",
     "text": [
      "Similarity column 38121 (100.0%), 4523.79 column/sec. Elapsed time 8.43 sec\n",
      "EvaluatorHoldout: Processed 35209 (100.0%) in 9.01 sec. Users per second: 3906\n"
     ]
    },
    {
     "name": "stderr",
     "output_type": "stream",
     "text": [
      "[I 2025-01-07 00:01:45,750] Trial 18 finished with value: 0.03755212975398044 and parameters: {'topK': 14, 'shrink': 13.21544684457843, 'feature_weighting': 'BM25', 'normalize': False, 'tversky_alpha': 0.3122396042253136, 'tversky_beta': 2.197600163018376}. Best is trial 0 with value: 0.04211992491998874.\n"
     ]
    },
    {
     "name": "stdout",
     "output_type": "stream",
     "text": [
      "Similarity column 38121 (100.0%), 2145.71 column/sec. Elapsed time 17.77 sec\n",
      "EvaluatorHoldout: Processed 35209 (100.0%) in 8.69 sec. Users per second: 4051\n"
     ]
    },
    {
     "name": "stderr",
     "output_type": "stream",
     "text": [
      "[I 2025-01-07 00:02:12,389] Trial 19 finished with value: 0.04148471913972087 and parameters: {'topK': 2, 'shrink': 18.710280053481814, 'feature_weighting': 'TF-IDF', 'normalize': False, 'tversky_alpha': 0.24103388450337654, 'tversky_beta': 1.856302666494857}. Best is trial 0 with value: 0.04211992491998874.\n"
     ]
    },
    {
     "name": "stdout",
     "output_type": "stream",
     "text": [
      "Similarity column 38121 (100.0%), 4665.91 column/sec. Elapsed time 8.17 sec\n",
      "EvaluatorHoldout: Processed 35209 (100.0%) in 9.24 sec. Users per second: 3811\n"
     ]
    },
    {
     "name": "stderr",
     "output_type": "stream",
     "text": [
      "[I 2025-01-07 00:02:29,967] Trial 20 finished with value: 0.04005220526677967 and parameters: {'topK': 17, 'shrink': 21.528488960568655, 'feature_weighting': 'TF-IDF', 'normalize': False, 'tversky_alpha': 0.34467291038168213, 'tversky_beta': 1.5703417871165686}. Best is trial 0 with value: 0.04211992491998874.\n"
     ]
    },
    {
     "name": "stdout",
     "output_type": "stream",
     "text": [
      "Similarity column 38121 (100.0%), 4691.14 column/sec. Elapsed time 8.13 sec\n",
      "EvaluatorHoldout: Processed 35209 (100.0%) in 8.80 sec. Users per second: 4002\n"
     ]
    },
    {
     "name": "stderr",
     "output_type": "stream",
     "text": [
      "[I 2025-01-07 00:02:47,065] Trial 21 finished with value: 0.04130139885770417 and parameters: {'topK': 7, 'shrink': 23.725278023227254, 'feature_weighting': 'TF-IDF', 'normalize': True, 'tversky_alpha': 0.36389940001947635, 'tversky_beta': 1.0799460812102544}. Best is trial 0 with value: 0.04211992491998874.\n"
     ]
    },
    {
     "name": "stdout",
     "output_type": "stream",
     "text": [
      "Similarity column 38121 (100.0%), 4649.16 column/sec. Elapsed time 8.20 sec\n",
      "EvaluatorHoldout: Processed 35209 (100.0%) in 8.68 sec. Users per second: 4054\n"
     ]
    },
    {
     "name": "stderr",
     "output_type": "stream",
     "text": [
      "[I 2025-01-07 00:03:04,118] Trial 22 finished with value: 0.04213750700465588 and parameters: {'topK': 6, 'shrink': 5.005827112393941, 'feature_weighting': 'TF-IDF', 'normalize': True, 'tversky_alpha': 0.10129370263415999, 'tversky_beta': 1.1013695375812318}. Best is trial 22 with value: 0.04213750700465588.\n"
     ]
    },
    {
     "name": "stdout",
     "output_type": "stream",
     "text": [
      "Similarity column 38121 (100.0%), 4687.31 column/sec. Elapsed time 8.13 sec\n",
      "EvaluatorHoldout: Processed 35209 (100.0%) in 8.95 sec. Users per second: 3933\n"
     ]
    },
    {
     "name": "stderr",
     "output_type": "stream",
     "text": [
      "[I 2025-01-07 00:03:21,372] Trial 23 finished with value: 0.04052041618146752 and parameters: {'topK': 12, 'shrink': 6.856787484216364, 'feature_weighting': 'TF-IDF', 'normalize': True, 'tversky_alpha': 0.42800048241270916, 'tversky_beta': 1.1550652044850394}. Best is trial 22 with value: 0.04213750700465588.\n"
     ]
    },
    {
     "name": "stdout",
     "output_type": "stream",
     "text": [
      "Similarity column 38121 (100.0%), 4690.45 column/sec. Elapsed time 8.13 sec\n",
      "EvaluatorHoldout: Processed 35209 (100.0%) in 8.79 sec. Users per second: 4005\n"
     ]
    },
    {
     "name": "stderr",
     "output_type": "stream",
     "text": [
      "[I 2025-01-07 00:03:38,457] Trial 24 finished with value: 0.04166163435845754 and parameters: {'topK': 9, 'shrink': 5.3392773321632685, 'feature_weighting': 'TF-IDF', 'normalize': True, 'tversky_alpha': 0.2824196476763585, 'tversky_beta': 2.2693775335871162}. Best is trial 22 with value: 0.04213750700465588.\n"
     ]
    },
    {
     "name": "stdout",
     "output_type": "stream",
     "text": [
      "Similarity column 38121 (100.0%), 4518.97 column/sec. Elapsed time 8.44 sec\n",
      "EvaluatorHoldout: Processed 35209 (100.0%) in 8.91 sec. Users per second: 3951\n"
     ]
    },
    {
     "name": "stderr",
     "output_type": "stream",
     "text": [
      "[I 2025-01-07 00:03:55,976] Trial 25 finished with value: 0.042794984552559125 and parameters: {'topK': 4, 'shrink': 10.343414923184461, 'feature_weighting': 'TF-IDF', 'normalize': False, 'tversky_alpha': 0.2414570297953997, 'tversky_beta': 1.9339412273223047}. Best is trial 25 with value: 0.042794984552559125.\n"
     ]
    },
    {
     "name": "stdout",
     "output_type": "stream",
     "text": [
      "Similarity column 38121 (100.0%), 4392.54 column/sec. Elapsed time 8.68 sec\n",
      "EvaluatorHoldout: Processed 35209 (100.0%) in 8.98 sec. Users per second: 3921\n"
     ]
    },
    {
     "name": "stderr",
     "output_type": "stream",
     "text": [
      "[I 2025-01-07 00:04:13,812] Trial 26 finished with value: 0.038365553630541525 and parameters: {'topK': 4, 'shrink': 9.490080218346094, 'feature_weighting': 'BM25', 'normalize': True, 'tversky_alpha': 0.24105776425181552, 'tversky_beta': 1.9986540282329375}. Best is trial 25 with value: 0.042794984552559125.\n"
     ]
    },
    {
     "name": "stdout",
     "output_type": "stream",
     "text": [
      "Similarity column 38121 (100.0%), 2123.94 column/sec. Elapsed time 17.95 sec\n",
      "EvaluatorHoldout: Processed 35209 (100.0%) in 8.72 sec. Users per second: 4039\n"
     ]
    },
    {
     "name": "stderr",
     "output_type": "stream",
     "text": [
      "[I 2025-01-07 00:04:40,648] Trial 27 finished with value: 0.04126733356866129 and parameters: {'topK': 2, 'shrink': 5.42576139733535, 'feature_weighting': 'TF-IDF', 'normalize': False, 'tversky_alpha': 0.16277310359309705, 'tversky_beta': 1.542159924142222}. Best is trial 25 with value: 0.042794984552559125.\n"
     ]
    },
    {
     "name": "stdout",
     "output_type": "stream",
     "text": [
      "Similarity column 38121 (100.0%), 4562.62 column/sec. Elapsed time 8.36 sec\n",
      "EvaluatorHoldout: Processed 35209 (100.0%) in 8.83 sec. Users per second: 3986\n"
     ]
    },
    {
     "name": "stderr",
     "output_type": "stream",
     "text": [
      "[I 2025-01-07 00:04:58,013] Trial 28 finished with value: 0.0420254606618875 and parameters: {'topK': 7, 'shrink': 9.691178267414184, 'feature_weighting': 'TF-IDF', 'normalize': True, 'tversky_alpha': 0.24595362245092567, 'tversky_beta': 1.7966391137306337}. Best is trial 25 with value: 0.042794984552559125.\n"
     ]
    },
    {
     "name": "stdout",
     "output_type": "stream",
     "text": [
      "Similarity column 38121 (100.0%), 4665.52 column/sec. Elapsed time 8.17 sec\n",
      "EvaluatorHoldout: Processed 35209 (100.0%) in 8.86 sec. Users per second: 3972\n"
     ]
    },
    {
     "name": "stderr",
     "output_type": "stream",
     "text": [
      "[I 2025-01-07 00:05:15,217] Trial 29 finished with value: 0.04262747236794908 and parameters: {'topK': 5, 'shrink': 11.402617061202175, 'feature_weighting': 'TF-IDF', 'normalize': False, 'tversky_alpha': 0.10330526944520607, 'tversky_beta': 1.1869233029402535}. Best is trial 25 with value: 0.042794984552559125.\n"
     ]
    },
    {
     "name": "stdout",
     "output_type": "stream",
     "text": [
      "Similarity column 38121 (100.0%), 4589.60 column/sec. Elapsed time 8.31 sec\n",
      "EvaluatorHoldout: Processed 35209 (100.0%) in 8.67 sec. Users per second: 4061\n"
     ]
    },
    {
     "name": "stderr",
     "output_type": "stream",
     "text": [
      "[I 2025-01-07 00:05:32,368] Trial 30 finished with value: 0.04276061044997794 and parameters: {'topK': 4, 'shrink': 11.55973277229154, 'feature_weighting': 'TF-IDF', 'normalize': False, 'tversky_alpha': 0.10283948322404823, 'tversky_beta': 1.2274265633018933}. Best is trial 25 with value: 0.042794984552559125.\n"
     ]
    },
    {
     "name": "stdout",
     "output_type": "stream",
     "text": [
      "Similarity column 38121 (100.0%), 4613.15 column/sec. Elapsed time 8.26 sec\n",
      "EvaluatorHoldout: Processed 35209 (100.0%) in 8.74 sec. Users per second: 4027\n"
     ]
    },
    {
     "name": "stderr",
     "output_type": "stream",
     "text": [
      "[I 2025-01-07 00:05:49,543] Trial 31 finished with value: 0.04241161959401446 and parameters: {'topK': 5, 'shrink': 12.801388956441386, 'feature_weighting': 'TF-IDF', 'normalize': False, 'tversky_alpha': 0.10160145217841651, 'tversky_beta': 0.9226822893961952}. Best is trial 25 with value: 0.042794984552559125.\n"
     ]
    },
    {
     "name": "stdout",
     "output_type": "stream",
     "text": [
      "Similarity column 38121 (100.0%), 4622.21 column/sec. Elapsed time 8.25 sec\n",
      "EvaluatorHoldout: Processed 35209 (100.0%) in 8.93 sec. Users per second: 3941\n"
     ]
    },
    {
     "name": "stderr",
     "output_type": "stream",
     "text": [
      "[I 2025-01-07 00:06:06,893] Trial 32 finished with value: 0.04254042977827932 and parameters: {'topK': 4, 'shrink': 14.273013893936586, 'feature_weighting': 'TF-IDF', 'normalize': False, 'tversky_alpha': 0.13576790900833713, 'tversky_beta': 0.911792185530222}. Best is trial 25 with value: 0.042794984552559125.\n"
     ]
    },
    {
     "name": "stdout",
     "output_type": "stream",
     "text": [
      "Similarity column 38121 (100.0%), 1562.77 column/sec. Elapsed time 24.39 sec\n",
      "EvaluatorHoldout: Processed 35209 (100.0%) in 8.77 sec. Users per second: 4015\n"
     ]
    },
    {
     "name": "stderr",
     "output_type": "stream",
     "text": [
      "[I 2025-01-07 00:06:40,236] Trial 33 finished with value: 0.04253318167658117 and parameters: {'topK': 3, 'shrink': 14.63061061266532, 'feature_weighting': 'TF-IDF', 'normalize': False, 'tversky_alpha': 0.15426393638640218, 'tversky_beta': 1.266784868208164}. Best is trial 25 with value: 0.042794984552559125.\n"
     ]
    },
    {
     "name": "stdout",
     "output_type": "stream",
     "text": [
      "Similarity column 38121 (100.0%), 4615.18 column/sec. Elapsed time 8.26 sec\n",
      "EvaluatorHoldout: Processed 35209 (100.0%) in 8.75 sec. Users per second: 4025\n"
     ]
    },
    {
     "name": "stderr",
     "output_type": "stream",
     "text": [
      "[I 2025-01-07 00:06:57,417] Trial 34 finished with value: 0.04260106768336036 and parameters: {'topK': 4, 'shrink': 11.084364896156503, 'feature_weighting': 'TF-IDF', 'normalize': False, 'tversky_alpha': 0.13131185935049422, 'tversky_beta': 0.8896737234986996}. Best is trial 25 with value: 0.042794984552559125.\n"
     ]
    },
    {
     "name": "stdout",
     "output_type": "stream",
     "text": [
      "Similarity column 38121 (100.0%), 4570.38 column/sec. Elapsed time 8.34 sec\n",
      "EvaluatorHoldout: Processed 35209 (100.0%) in 9.22 sec. Users per second: 3821\n"
     ]
    },
    {
     "name": "stderr",
     "output_type": "stream",
     "text": [
      "[I 2025-01-07 00:07:15,156] Trial 35 finished with value: 0.038979157114859726 and parameters: {'topK': 4, 'shrink': 11.42163462236365, 'feature_weighting': 'BM25', 'normalize': False, 'tversky_alpha': 0.17322393567073188, 'tversky_beta': 0.5019788887387022}. Best is trial 25 with value: 0.042794984552559125.\n"
     ]
    },
    {
     "name": "stdout",
     "output_type": "stream",
     "text": [
      "Similarity column 38121 (100.0%), 2195.27 column/sec. Elapsed time 17.37 sec\n",
      "EvaluatorHoldout: Processed 35209 (100.0%) in 8.83 sec. Users per second: 3988\n"
     ]
    },
    {
     "name": "stderr",
     "output_type": "stream",
     "text": [
      "[I 2025-01-07 00:07:41,521] Trial 36 finished with value: 0.041537578099393284 and parameters: {'topK': 2, 'shrink': 11.181058099659564, 'feature_weighting': 'TF-IDF', 'normalize': False, 'tversky_alpha': 0.12527775990246998, 'tversky_beta': 1.2395830100584333}. Best is trial 25 with value: 0.042794984552559125.\n"
     ]
    },
    {
     "name": "stdout",
     "output_type": "stream",
     "text": [
      "Similarity column 38121 (100.0%), 4504.32 column/sec. Elapsed time 8.46 sec\n",
      "EvaluatorHoldout: Processed 35209 (100.0%) in 9.02 sec. Users per second: 3903\n"
     ]
    },
    {
     "name": "stderr",
     "output_type": "stream",
     "text": [
      "[I 2025-01-07 00:07:59,190] Trial 37 finished with value: 0.042342848847718204 and parameters: {'topK': 6, 'shrink': 8.164883534012619, 'feature_weighting': 'TF-IDF', 'normalize': False, 'tversky_alpha': 0.21126574290550693, 'tversky_beta': 1.4670276016815955}. Best is trial 25 with value: 0.042794984552559125.\n"
     ]
    },
    {
     "name": "stdout",
     "output_type": "stream",
     "text": [
      "Similarity column 38121 (100.0%), 4615.14 column/sec. Elapsed time 8.26 sec\n",
      "EvaluatorHoldout: Processed 35209 (100.0%) in 9.64 sec. Users per second: 3652\n"
     ]
    },
    {
     "name": "stderr",
     "output_type": "stream",
     "text": [
      "[I 2025-01-07 00:08:17,267] Trial 38 finished with value: 0.03842559194145293 and parameters: {'topK': 8, 'shrink': 10.665859636063455, 'feature_weighting': 'BM25', 'normalize': False, 'tversky_alpha': 0.13799514632615698, 'tversky_beta': 0.9493522753085576}. Best is trial 25 with value: 0.042794984552559125.\n"
     ]
    },
    {
     "name": "stdout",
     "output_type": "stream",
     "text": [
      "Similarity column 38121 (100.0%), 4453.20 column/sec. Elapsed time 8.56 sec\n",
      "EvaluatorHoldout: Processed 35209 (100.0%) in 9.00 sec. Users per second: 3910\n"
     ]
    },
    {
     "name": "stderr",
     "output_type": "stream",
     "text": [
      "[I 2025-01-07 00:08:35,019] Trial 39 finished with value: 0.042606342308760474 and parameters: {'topK': 5, 'shrink': 7.240344645764939, 'feature_weighting': 'TF-IDF', 'normalize': False, 'tversky_alpha': 0.1214497639988347, 'tversky_beta': 1.328947496081177}. Best is trial 25 with value: 0.042794984552559125.\n"
     ]
    },
    {
     "name": "stdout",
     "output_type": "stream",
     "text": [
      "Similarity column 38121 (100.0%), 4476.43 column/sec. Elapsed time 8.52 sec\n",
      "EvaluatorHoldout: Processed 35209 (100.0%) in 9.67 sec. Users per second: 3641\n"
     ]
    },
    {
     "name": "stderr",
     "output_type": "stream",
     "text": [
      "[I 2025-01-07 00:08:53,400] Trial 40 finished with value: 0.03904574926053661 and parameters: {'topK': 24, 'shrink': 7.879207784688128, 'feature_weighting': 'TF-IDF', 'normalize': False, 'tversky_alpha': 0.4994526420476707, 'tversky_beta': 1.4099891842747514}. Best is trial 25 with value: 0.042794984552559125.\n"
     ]
    },
    {
     "name": "stdout",
     "output_type": "stream",
     "text": [
      "Similarity column 38121 (100.0%), 4527.17 column/sec. Elapsed time 8.42 sec\n",
      "EvaluatorHoldout: Processed 35209 (100.0%) in 8.87 sec. Users per second: 3968\n"
     ]
    },
    {
     "name": "stderr",
     "output_type": "stream",
     "text": [
      "[I 2025-01-07 00:09:10,867] Trial 41 finished with value: 0.04264474676613458 and parameters: {'topK': 5, 'shrink': 8.472432975740345, 'feature_weighting': 'TF-IDF', 'normalize': False, 'tversky_alpha': 0.1159533644830464, 'tversky_beta': 1.2223150531779474}. Best is trial 25 with value: 0.042794984552559125.\n"
     ]
    },
    {
     "name": "stdout",
     "output_type": "stream",
     "text": [
      "Similarity column 38121 (100.0%), 4682.62 column/sec. Elapsed time 8.14 sec\n",
      "EvaluatorHoldout: Processed 35209 (100.0%) in 8.69 sec. Users per second: 4050\n"
     ]
    },
    {
     "name": "stderr",
     "output_type": "stream",
     "text": [
      "[I 2025-01-07 00:09:27,869] Trial 42 finished with value: 0.04260974038473949 and parameters: {'topK': 5, 'shrink': 7.4347147391349075, 'feature_weighting': 'TF-IDF', 'normalize': False, 'tversky_alpha': 0.11779773903114645, 'tversky_beta': 1.2085657269553831}. Best is trial 25 with value: 0.042794984552559125.\n"
     ]
    },
    {
     "name": "stdout",
     "output_type": "stream",
     "text": [
      "Similarity column 38121 (100.0%), 4633.17 column/sec. Elapsed time 8.23 sec\n",
      "EvaluatorHoldout: Processed 35209 (100.0%) in 8.73 sec. Users per second: 4034\n"
     ]
    },
    {
     "name": "stderr",
     "output_type": "stream",
     "text": [
      "[I 2025-01-07 00:09:44,996] Trial 43 finished with value: 0.042298702036409626 and parameters: {'topK': 6, 'shrink': 8.710870302166573, 'feature_weighting': 'TF-IDF', 'normalize': False, 'tversky_alpha': 0.1731875668458126, 'tversky_beta': 1.178937496429057}. Best is trial 25 with value: 0.042794984552559125.\n"
     ]
    },
    {
     "name": "stdout",
     "output_type": "stream",
     "text": [
      "Similarity column 38121 (100.0%), 1574.51 column/sec. Elapsed time 24.21 sec\n",
      "EvaluatorHoldout: Processed 35209 (100.0%) in 8.60 sec. Users per second: 4093\n"
     ]
    },
    {
     "name": "stderr",
     "output_type": "stream",
     "text": [
      "[I 2025-01-07 00:10:17,980] Trial 44 finished with value: 0.0426116417294083 and parameters: {'topK': 3, 'shrink': 6.621683717812289, 'feature_weighting': 'TF-IDF', 'normalize': False, 'tversky_alpha': 0.14639689312262866, 'tversky_beta': 1.0111795228758447}. Best is trial 25 with value: 0.042794984552559125.\n"
     ]
    },
    {
     "name": "stdout",
     "output_type": "stream",
     "text": [
      "Similarity column 38121 (100.0%), 1567.74 column/sec. Elapsed time 24.32 sec\n",
      "EvaluatorHoldout: Processed 35209 (100.0%) in 8.56 sec. Users per second: 4112\n"
     ]
    },
    {
     "name": "stderr",
     "output_type": "stream",
     "text": [
      "[I 2025-01-07 00:10:51,030] Trial 45 finished with value: 0.042502459237738446 and parameters: {'topK': 3, 'shrink': 6.39427426955716, 'feature_weighting': 'TF-IDF', 'normalize': False, 'tversky_alpha': 0.14855477158605304, 'tversky_beta': 0.7871113585428946}. Best is trial 25 with value: 0.042794984552559125.\n"
     ]
    },
    {
     "name": "stdout",
     "output_type": "stream",
     "text": [
      "Similarity column 38121 (100.0%), 4656.56 column/sec. Elapsed time 8.19 sec\n",
      "EvaluatorHoldout: Processed 35209 (100.0%) in 8.88 sec. Users per second: 3964\n"
     ]
    },
    {
     "name": "stderr",
     "output_type": "stream",
     "text": [
      "[I 2025-01-07 00:11:08,279] Trial 46 finished with value: 0.03813753089825837 and parameters: {'topK': 8, 'shrink': 9.16930828184122, 'feature_weighting': 'BM25', 'normalize': False, 'tversky_alpha': 0.20871444991279908, 'tversky_beta': 1.0049853637208441}. Best is trial 25 with value: 0.042794984552559125.\n"
     ]
    },
    {
     "name": "stdout",
     "output_type": "stream",
     "text": [
      "Similarity column 38121 (100.0%), 1582.76 column/sec. Elapsed time 24.09 sec\n",
      "EvaluatorHoldout: Processed 35209 (100.0%) in 8.65 sec. Users per second: 4070\n"
     ]
    },
    {
     "name": "stderr",
     "output_type": "stream",
     "text": [
      "[I 2025-01-07 00:11:41,178] Trial 47 finished with value: 0.042610246433201986 and parameters: {'topK': 3, 'shrink': 10.375846553430865, 'feature_weighting': 'TF-IDF', 'normalize': False, 'tversky_alpha': 0.18257678551706336, 'tversky_beta': 1.6694306873800582}. Best is trial 25 with value: 0.042794984552559125.\n"
     ]
    },
    {
     "name": "stdout",
     "output_type": "stream",
     "text": [
      "Similarity column 38121 (100.0%), 4717.65 column/sec. Elapsed time 8.08 sec\n",
      "EvaluatorHoldout: Processed 35209 (100.0%) in 8.96 sec. Users per second: 3930\n"
     ]
    },
    {
     "name": "stderr",
     "output_type": "stream",
     "text": [
      "[I 2025-01-07 00:11:58,388] Trial 48 finished with value: 0.04110625124257872 and parameters: {'topK': 11, 'shrink': 11.965227990067818, 'feature_weighting': 'TF-IDF', 'normalize': False, 'tversky_alpha': 0.15221344038260468, 'tversky_beta': 1.3679233374655457}. Best is trial 25 with value: 0.042794984552559125.\n"
     ]
    },
    {
     "name": "stdout",
     "output_type": "stream",
     "text": [
      "Similarity column 38121 (100.0%), 4640.82 column/sec. Elapsed time 8.21 sec\n",
      "EvaluatorHoldout: Processed 35209 (100.0%) in 8.81 sec. Users per second: 3994\n"
     ]
    },
    {
     "name": "stderr",
     "output_type": "stream",
     "text": [
      "[I 2025-01-07 00:12:15,587] Trial 49 finished with value: 0.041872105436604544 and parameters: {'topK': 7, 'shrink': 8.636982113021206, 'feature_weighting': 'TF-IDF', 'normalize': False, 'tversky_alpha': 0.22627659296702998, 'tversky_beta': 1.0369878305898679}. Best is trial 25 with value: 0.042794984552559125.\n"
     ]
    },
    {
     "name": "stdout",
     "output_type": "stream",
     "text": [
      "Similarity column 38121 (100.0%), 2191.02 column/sec. Elapsed time 17.40 sec\n",
      "EvaluatorHoldout: Processed 35209 (100.0%) in 8.54 sec. Users per second: 4124\n"
     ]
    },
    {
     "name": "stderr",
     "output_type": "stream",
     "text": [
      "[I 2025-01-07 00:12:41,693] Trial 50 finished with value: 0.041260809037370366 and parameters: {'topK': 2, 'shrink': 6.519831102172253, 'feature_weighting': 'TF-IDF', 'normalize': False, 'tversky_alpha': 0.11408001215475093, 'tversky_beta': 1.2954657695196994}. Best is trial 25 with value: 0.042794984552559125.\n"
     ]
    },
    {
     "name": "stdout",
     "output_type": "stream",
     "text": [
      "Similarity column 38121 (100.0%), 1580.79 column/sec. Elapsed time 24.12 sec\n",
      "EvaluatorHoldout: Processed 35209 (100.0%) in 8.89 sec. Users per second: 3962\n"
     ]
    },
    {
     "name": "stderr",
     "output_type": "stream",
     "text": [
      "[I 2025-01-07 00:13:14,863] Trial 51 finished with value: 0.04262639602879149 and parameters: {'topK': 3, 'shrink': 10.2844763343166, 'feature_weighting': 'TF-IDF', 'normalize': False, 'tversky_alpha': 0.1903463812705098, 'tversky_beta': 1.7016316283320707}. Best is trial 25 with value: 0.042794984552559125.\n"
     ]
    },
    {
     "name": "stdout",
     "output_type": "stream",
     "text": [
      "Similarity column 38121 (100.0%), 1585.44 column/sec. Elapsed time 24.04 sec\n",
      "EvaluatorHoldout: Processed 35209 (100.0%) in 8.47 sec. Users per second: 4155\n"
     ]
    },
    {
     "name": "stderr",
     "output_type": "stream",
     "text": [
      "[I 2025-01-07 00:13:47,546] Trial 52 finished with value: 0.042654771935565064 and parameters: {'topK': 3, 'shrink': 12.397668134720272, 'feature_weighting': 'TF-IDF', 'normalize': False, 'tversky_alpha': 0.19712207876136661, 'tversky_beta': 1.700169899830557}. Best is trial 25 with value: 0.042794984552559125.\n"
     ]
    },
    {
     "name": "stdout",
     "output_type": "stream",
     "text": [
      "Similarity column 38121 (100.0%), 4629.15 column/sec. Elapsed time 8.23 sec\n",
      "EvaluatorHoldout: Processed 35209 (100.0%) in 8.59 sec. Users per second: 4100\n"
     ]
    },
    {
     "name": "stderr",
     "output_type": "stream",
     "text": [
      "[I 2025-01-07 00:14:04,540] Trial 53 finished with value: 0.04262685812204229 and parameters: {'topK': 5, 'shrink': 12.419221651877818, 'feature_weighting': 'TF-IDF', 'normalize': False, 'tversky_alpha': 0.19688644355283647, 'tversky_beta': 1.7137017207692378}. Best is trial 25 with value: 0.042794984552559125.\n"
     ]
    },
    {
     "name": "stdout",
     "output_type": "stream",
     "text": [
      "Similarity column 38121 (100.0%), 4709.49 column/sec. Elapsed time 8.09 sec\n",
      "EvaluatorHoldout: Processed 35209 (100.0%) in 8.80 sec. Users per second: 4000\n"
     ]
    },
    {
     "name": "stderr",
     "output_type": "stream",
     "text": [
      "[I 2025-01-07 00:14:21,604] Trial 54 finished with value: 0.041884540253279735 and parameters: {'topK': 8, 'shrink': 12.550230676770413, 'feature_weighting': 'TF-IDF', 'normalize': False, 'tversky_alpha': 0.2642639752643509, 'tversky_beta': 1.934782233366378}. Best is trial 25 with value: 0.042794984552559125.\n"
     ]
    },
    {
     "name": "stdout",
     "output_type": "stream",
     "text": [
      "Similarity column 38121 (100.0%), 4622.09 column/sec. Elapsed time 8.25 sec\n",
      "EvaluatorHoldout: Processed 35209 (100.0%) in 8.67 sec. Users per second: 4063\n"
     ]
    },
    {
     "name": "stderr",
     "output_type": "stream",
     "text": [
      "[I 2025-01-07 00:14:38,682] Trial 55 finished with value: 0.042642544497324145 and parameters: {'topK': 5, 'shrink': 14.004950812732844, 'feature_weighting': 'TF-IDF', 'normalize': False, 'tversky_alpha': 0.22320393834231061, 'tversky_beta': 1.6579295500264961}. Best is trial 25 with value: 0.042794984552559125.\n"
     ]
    },
    {
     "name": "stdout",
     "output_type": "stream",
     "text": [
      "Similarity column 38121 (100.0%), 4628.40 column/sec. Elapsed time 8.24 sec\n",
      "EvaluatorHoldout: Processed 35209 (100.0%) in 8.67 sec. Users per second: 4063\n"
     ]
    },
    {
     "name": "stderr",
     "output_type": "stream",
     "text": [
      "[I 2025-01-07 00:14:55,751] Trial 56 finished with value: 0.04234057332022196 and parameters: {'topK': 6, 'shrink': 14.571062404061264, 'feature_weighting': 'TF-IDF', 'normalize': False, 'tversky_alpha': 0.22502801164368957, 'tversky_beta': 1.4519012872808155}. Best is trial 25 with value: 0.042794984552559125.\n"
     ]
    },
    {
     "name": "stdout",
     "output_type": "stream",
     "text": [
      "Similarity column 38121 (100.0%), 4616.75 column/sec. Elapsed time 8.26 sec\n",
      "EvaluatorHoldout: Processed 35209 (100.0%) in 9.47 sec. Users per second: 3717\n"
     ]
    },
    {
     "name": "stderr",
     "output_type": "stream",
     "text": [
      "[I 2025-01-07 00:15:13,657] Trial 57 finished with value: 0.0389828099056547 and parameters: {'topK': 30, 'shrink': 13.646704989673072, 'feature_weighting': 'TF-IDF', 'normalize': False, 'tversky_alpha': 0.30299401538062287, 'tversky_beta': 1.627903219093373}. Best is trial 25 with value: 0.042794984552559125.\n"
     ]
    },
    {
     "name": "stdout",
     "output_type": "stream",
     "text": [
      "Similarity column 38121 (100.0%), 4655.04 column/sec. Elapsed time 8.19 sec\n",
      "EvaluatorHoldout: Processed 35209 (100.0%) in 8.75 sec. Users per second: 4024\n"
     ]
    },
    {
     "name": "stderr",
     "output_type": "stream",
     "text": [
      "[I 2025-01-07 00:15:30,770] Trial 58 finished with value: 0.038413273211618776 and parameters: {'topK': 9, 'shrink': 15.711895469834658, 'feature_weighting': 'BM25', 'normalize': False, 'tversky_alpha': 0.2601656200840576, 'tversky_beta': 1.764498594806991}. Best is trial 25 with value: 0.042794984552559125.\n"
     ]
    },
    {
     "name": "stdout",
     "output_type": "stream",
     "text": [
      "Similarity column 38121 (100.0%), 4649.37 column/sec. Elapsed time 8.20 sec\n",
      "EvaluatorHoldout: Processed 35209 (100.0%) in 8.94 sec. Users per second: 3939\n"
     ]
    },
    {
     "name": "stderr",
     "output_type": "stream",
     "text": [
      "[I 2025-01-07 00:15:48,082] Trial 59 finished with value: 0.04072480228044004 and parameters: {'topK': 13, 'shrink': 17.333878687042255, 'feature_weighting': 'TF-IDF', 'normalize': False, 'tversky_alpha': 0.2825913273742716, 'tversky_beta': 1.4718824690145653}. Best is trial 25 with value: 0.042794984552559125.\n"
     ]
    },
    {
     "name": "stdout",
     "output_type": "stream",
     "text": [
      "Similarity column 38121 (100.0%), 4701.88 column/sec. Elapsed time 8.11 sec\n",
      "EvaluatorHoldout: Processed 35209 (100.0%) in 8.62 sec. Users per second: 4086\n"
     ]
    },
    {
     "name": "stderr",
     "output_type": "stream",
     "text": [
      "[I 2025-01-07 00:16:04,968] Trial 60 finished with value: 0.04268242539898776 and parameters: {'topK': 4, 'shrink': 13.694125313983998, 'feature_weighting': 'TF-IDF', 'normalize': False, 'tversky_alpha': 0.16873113978388843, 'tversky_beta': 2.058941177709035}. Best is trial 25 with value: 0.042794984552559125.\n"
     ]
    },
    {
     "name": "stdout",
     "output_type": "stream",
     "text": [
      "Similarity column 38121 (100.0%), 4702.72 column/sec. Elapsed time 8.11 sec\n",
      "EvaluatorHoldout: Processed 35209 (100.0%) in 8.65 sec. Users per second: 4068\n"
     ]
    },
    {
     "name": "stderr",
     "output_type": "stream",
     "text": [
      "[I 2025-01-07 00:16:21,893] Trial 61 finished with value: 0.04277408779410945 and parameters: {'topK': 4, 'shrink': 11.961663663862193, 'feature_weighting': 'TF-IDF', 'normalize': False, 'tversky_alpha': 0.22051956281579801, 'tversky_beta': 2.0708335862873457}. Best is trial 25 with value: 0.042794984552559125.\n"
     ]
    },
    {
     "name": "stdout",
     "output_type": "stream",
     "text": [
      "Similarity column 38121 (100.0%), 2220.65 column/sec. Elapsed time 17.17 sec\n",
      "EvaluatorHoldout: Processed 35209 (100.0%) in 8.47 sec. Users per second: 4157\n"
     ]
    },
    {
     "name": "stderr",
     "output_type": "stream",
     "text": [
      "[I 2025-01-07 00:16:47,694] Trial 62 finished with value: 0.04150288842093343 and parameters: {'topK': 2, 'shrink': 16.615120004287313, 'feature_weighting': 'TF-IDF', 'normalize': False, 'tversky_alpha': 0.22588751703640025, 'tversky_beta': 2.0472223004746386}. Best is trial 25 with value: 0.042794984552559125.\n"
     ]
    },
    {
     "name": "stdout",
     "output_type": "stream",
     "text": [
      "Similarity column 38121 (100.0%), 4682.23 column/sec. Elapsed time 8.14 sec\n",
      "EvaluatorHoldout: Processed 35209 (100.0%) in 8.68 sec. Users per second: 4054\n"
     ]
    },
    {
     "name": "stderr",
     "output_type": "stream",
     "text": [
      "[I 2025-01-07 00:17:04,692] Trial 63 finished with value: 0.04274825340021577 and parameters: {'topK': 4, 'shrink': 13.709045761533355, 'feature_weighting': 'TF-IDF', 'normalize': False, 'tversky_alpha': 0.17794294300916466, 'tversky_beta': 1.9005171950078141}. Best is trial 25 with value: 0.042794984552559125.\n"
     ]
    },
    {
     "name": "stdout",
     "output_type": "stream",
     "text": [
      "Similarity column 38121 (100.0%), 4614.83 column/sec. Elapsed time 8.26 sec\n",
      "EvaluatorHoldout: Processed 35209 (100.0%) in 8.82 sec. Users per second: 3990\n"
     ]
    },
    {
     "name": "stderr",
     "output_type": "stream",
     "text": [
      "[I 2025-01-07 00:17:21,949] Trial 64 finished with value: 0.04206681124549976 and parameters: {'topK': 7, 'shrink': 15.019189446485465, 'feature_weighting': 'TF-IDF', 'normalize': False, 'tversky_alpha': 0.17021381188401521, 'tversky_beta': 1.9186492208283208}. Best is trial 25 with value: 0.042794984552559125.\n"
     ]
    },
    {
     "name": "stdout",
     "output_type": "stream",
     "text": [
      "Similarity column 38121 (100.0%), 4626.90 column/sec. Elapsed time 8.24 sec\n",
      "EvaluatorHoldout: Processed 35209 (100.0%) in 8.69 sec. Users per second: 4053\n"
     ]
    },
    {
     "name": "stderr",
     "output_type": "stream",
     "text": [
      "[I 2025-01-07 00:17:39,041] Trial 65 finished with value: 0.04271276689266247 and parameters: {'topK': 4, 'shrink': 13.2748152070569, 'feature_weighting': 'TF-IDF', 'normalize': False, 'tversky_alpha': 0.18431043033568184, 'tversky_beta': 2.102744353107232}. Best is trial 25 with value: 0.042794984552559125.\n"
     ]
    },
    {
     "name": "stdout",
     "output_type": "stream",
     "text": [
      "Similarity column 38121 (100.0%), 1574.93 column/sec. Elapsed time 24.20 sec\n",
      "EvaluatorHoldout: Processed 35209 (100.0%) in 8.56 sec. Users per second: 4111\n"
     ]
    },
    {
     "name": "stderr",
     "output_type": "stream",
     "text": [
      "[I 2025-01-07 00:18:11,978] Trial 66 finished with value: 0.04258075586734294 and parameters: {'topK': 3, 'shrink': 13.43385766015036, 'feature_weighting': 'TF-IDF', 'normalize': True, 'tversky_alpha': 0.20180463056258977, 'tversky_beta': 2.108335971568097}. Best is trial 25 with value: 0.042794984552559125.\n"
     ]
    },
    {
     "name": "stdout",
     "output_type": "stream",
     "text": [
      "Similarity column 38121 (100.0%), 4652.66 column/sec. Elapsed time 8.19 sec\n",
      "EvaluatorHoldout: Processed 35209 (100.0%) in 8.59 sec. Users per second: 4098\n"
     ]
    },
    {
     "name": "stderr",
     "output_type": "stream",
     "text": [
      "[I 2025-01-07 00:18:28,928] Trial 67 finished with value: 0.04265756703620444 and parameters: {'topK': 4, 'shrink': 11.913744041161815, 'feature_weighting': 'TF-IDF', 'normalize': False, 'tversky_alpha': 0.1832028266802951, 'tversky_beta': 2.1964115114506355}. Best is trial 25 with value: 0.042794984552559125.\n"
     ]
    },
    {
     "name": "stdout",
     "output_type": "stream",
     "text": [
      "Similarity column 38121 (100.0%), 4651.31 column/sec. Elapsed time 8.20 sec\n",
      "EvaluatorHoldout: Processed 35209 (100.0%) in 9.01 sec. Users per second: 3909\n"
     ]
    },
    {
     "name": "stderr",
     "output_type": "stream",
     "text": [
      "[I 2025-01-07 00:18:46,303] Trial 68 finished with value: 0.04019187013421282 and parameters: {'topK': 19, 'shrink': 15.68321417968783, 'feature_weighting': 'TF-IDF', 'normalize': False, 'tversky_alpha': 0.17811518081443184, 'tversky_beta': 2.2029079532535563}. Best is trial 25 with value: 0.042794984552559125.\n"
     ]
    },
    {
     "name": "stdout",
     "output_type": "stream",
     "text": [
      "Similarity column 38121 (100.0%), 4656.08 column/sec. Elapsed time 8.19 sec\n",
      "EvaluatorHoldout: Processed 35209 (100.0%) in 8.96 sec. Users per second: 3928\n"
     ]
    },
    {
     "name": "stderr",
     "output_type": "stream",
     "text": [
      "[I 2025-01-07 00:19:03,634] Trial 69 finished with value: 0.03732406081237234 and parameters: {'topK': 16, 'shrink': 11.733570344871936, 'feature_weighting': 'BM25', 'normalize': False, 'tversky_alpha': 0.24978994966845774, 'tversky_beta': 2.2932513280074334}. Best is trial 25 with value: 0.042794984552559125.\n"
     ]
    },
    {
     "name": "stdout",
     "output_type": "stream",
     "text": [
      "Similarity column 38121 (100.0%), 4670.96 column/sec. Elapsed time 8.16 sec\n",
      "EvaluatorHoldout: Processed 35209 (100.0%) in 8.56 sec. Users per second: 4112\n"
     ]
    },
    {
     "name": "stderr",
     "output_type": "stream",
     "text": [
      "[I 2025-01-07 00:19:20,531] Trial 70 finished with value: 0.042690177295035284 and parameters: {'topK': 4, 'shrink': 17.87698286193333, 'feature_weighting': 'TF-IDF', 'normalize': True, 'tversky_alpha': 0.1567027212453425, 'tversky_beta': 2.224338975230754}. Best is trial 25 with value: 0.042794984552559125.\n"
     ]
    },
    {
     "name": "stdout",
     "output_type": "stream",
     "text": [
      "Similarity column 38121 (100.0%), 4697.67 column/sec. Elapsed time 8.11 sec\n",
      "EvaluatorHoldout: Processed 35209 (100.0%) in 8.67 sec. Users per second: 4060\n"
     ]
    },
    {
     "name": "stderr",
     "output_type": "stream",
     "text": [
      "[I 2025-01-07 00:19:37,485] Trial 71 finished with value: 0.04273414039610026 and parameters: {'topK': 4, 'shrink': 18.59506420964477, 'feature_weighting': 'TF-IDF', 'normalize': True, 'tversky_alpha': 0.1597817386518228, 'tversky_beta': 2.2204701839528473}. Best is trial 25 with value: 0.042794984552559125.\n"
     ]
    },
    {
     "name": "stdout",
     "output_type": "stream",
     "text": [
      "Similarity column 38121 (100.0%), 4700.28 column/sec. Elapsed time 8.11 sec\n",
      "EvaluatorHoldout: Processed 35209 (100.0%) in 8.66 sec. Users per second: 4064\n"
     ]
    },
    {
     "name": "stderr",
     "output_type": "stream",
     "text": [
      "[I 2025-01-07 00:19:54,424] Trial 72 finished with value: 0.04276415617038595 and parameters: {'topK': 4, 'shrink': 17.38321996889731, 'feature_weighting': 'TF-IDF', 'normalize': True, 'tversky_alpha': 0.21311736211167667, 'tversky_beta': 2.35130249857536}. Best is trial 25 with value: 0.042794984552559125.\n"
     ]
    },
    {
     "name": "stdout",
     "output_type": "stream",
     "text": [
      "Similarity column 38121 (100.0%), 4615.28 column/sec. Elapsed time 8.26 sec\n",
      "EvaluatorHoldout: Processed 35209 (100.0%) in 8.81 sec. Users per second: 3995\n"
     ]
    },
    {
     "name": "stderr",
     "output_type": "stream",
     "text": [
      "[I 2025-01-07 00:20:11,671] Trial 73 finished with value: 0.04240331882134961 and parameters: {'topK': 6, 'shrink': 18.346902682200646, 'feature_weighting': 'TF-IDF', 'normalize': True, 'tversky_alpha': 0.16057486092188084, 'tversky_beta': 2.371992071776555}. Best is trial 25 with value: 0.042794984552559125.\n"
     ]
    },
    {
     "name": "stdout",
     "output_type": "stream",
     "text": [
      "Similarity column 38121 (100.0%), 4704.15 column/sec. Elapsed time 8.10 sec\n",
      "EvaluatorHoldout: Processed 35209 (100.0%) in 8.60 sec. Users per second: 4096\n"
     ]
    },
    {
     "name": "stderr",
     "output_type": "stream",
     "text": [
      "[I 2025-01-07 00:20:28,534] Trial 74 finished with value: 0.04278388529808467 and parameters: {'topK': 4, 'shrink': 19.397318139218694, 'feature_weighting': 'TF-IDF', 'normalize': True, 'tversky_alpha': 0.21164012113637076, 'tversky_beta': 2.2644307166417477}. Best is trial 25 with value: 0.042794984552559125.\n"
     ]
    },
    {
     "name": "stdout",
     "output_type": "stream",
     "text": [
      "Similarity column 38121 (100.0%), 2192.57 column/sec. Elapsed time 17.39 sec\n",
      "EvaluatorHoldout: Processed 35209 (100.0%) in 8.56 sec. Users per second: 4113\n"
     ]
    },
    {
     "name": "stderr",
     "output_type": "stream",
     "text": [
      "[I 2025-01-07 00:20:54,648] Trial 75 finished with value: 0.041527443605462185 and parameters: {'topK': 2, 'shrink': 20.658670167237695, 'feature_weighting': 'TF-IDF', 'normalize': True, 'tversky_alpha': 0.23439739976217894, 'tversky_beta': 2.132728793577823}. Best is trial 25 with value: 0.042794984552559125.\n"
     ]
    },
    {
     "name": "stdout",
     "output_type": "stream",
     "text": [
      "Similarity column 38121 (100.0%), 4616.80 column/sec. Elapsed time 8.26 sec\n",
      "EvaluatorHoldout: Processed 35209 (100.0%) in 8.73 sec. Users per second: 4034\n"
     ]
    },
    {
     "name": "stderr",
     "output_type": "stream",
     "text": [
      "[I 2025-01-07 00:21:11,807] Trial 76 finished with value: 0.0424618987208793 and parameters: {'topK': 6, 'shrink': 22.730558588999074, 'feature_weighting': 'TF-IDF', 'normalize': True, 'tversky_alpha': 0.21539463035795212, 'tversky_beta': 2.331515391306447}. Best is trial 25 with value: 0.042794984552559125.\n"
     ]
    },
    {
     "name": "stdout",
     "output_type": "stream",
     "text": [
      "Similarity column 38121 (100.0%), 4628.37 column/sec. Elapsed time 8.24 sec\n",
      "EvaluatorHoldout: Processed 35209 (100.0%) in 8.79 sec. Users per second: 4007\n"
     ]
    },
    {
     "name": "stderr",
     "output_type": "stream",
     "text": [
      "[I 2025-01-07 00:21:29,002] Trial 77 finished with value: 0.04211664969319103 and parameters: {'topK': 7, 'shrink': 21.578335672347755, 'feature_weighting': 'TF-IDF', 'normalize': True, 'tversky_alpha': 0.25513973419190017, 'tversky_beta': 2.26536992031176}. Best is trial 25 with value: 0.042794984552559125.\n"
     ]
    },
    {
     "name": "stdout",
     "output_type": "stream",
     "text": [
      "Similarity column 38121 (100.0%), 4688.59 column/sec. Elapsed time 8.13 sec\n",
      "EvaluatorHoldout: Processed 35209 (100.0%) in 8.66 sec. Users per second: 4064\n"
     ]
    },
    {
     "name": "stderr",
     "output_type": "stream",
     "text": [
      "[I 2025-01-07 00:21:45,966] Trial 78 finished with value: 0.042723158355523476 and parameters: {'topK': 4, 'shrink': 19.72176959496581, 'feature_weighting': 'TF-IDF', 'normalize': True, 'tversky_alpha': 0.2358598899623718, 'tversky_beta': 1.9882376517011555}. Best is trial 25 with value: 0.042794984552559125.\n"
     ]
    },
    {
     "name": "stdout",
     "output_type": "stream",
     "text": [
      "Similarity column 38121 (100.0%), 4612.08 column/sec. Elapsed time 8.27 sec\n",
      "EvaluatorHoldout: Processed 35209 (100.0%) in 8.80 sec. Users per second: 4003\n"
     ]
    },
    {
     "name": "stderr",
     "output_type": "stream",
     "text": [
      "[I 2025-01-07 00:22:03,196] Trial 79 finished with value: 0.04140324308313889 and parameters: {'topK': 10, 'shrink': 18.829900095426, 'feature_weighting': 'TF-IDF', 'normalize': True, 'tversky_alpha': 0.23499152041295546, 'tversky_beta': 1.8880239677599404}. Best is trial 25 with value: 0.042794984552559125.\n"
     ]
    },
    {
     "name": "stdout",
     "output_type": "stream",
     "text": [
      "Similarity column 38121 (100.0%), 4674.86 column/sec. Elapsed time 8.15 sec\n",
      "EvaluatorHoldout: Processed 35209 (100.0%) in 9.30 sec. Users per second: 3786\n"
     ]
    },
    {
     "name": "stderr",
     "output_type": "stream",
     "text": [
      "[I 2025-01-07 00:22:20,822] Trial 80 finished with value: 0.03925106292718091 and parameters: {'topK': 27, 'shrink': 19.37248607435725, 'feature_weighting': 'TF-IDF', 'normalize': True, 'tversky_alpha': 0.2910530492611964, 'tversky_beta': 2.0222491607216413}. Best is trial 25 with value: 0.042794984552559125.\n"
     ]
    },
    {
     "name": "stdout",
     "output_type": "stream",
     "text": [
      "Similarity column 38121 (100.0%), 4704.02 column/sec. Elapsed time 8.10 sec\n",
      "EvaluatorHoldout: Processed 35209 (100.0%) in 8.61 sec. Users per second: 4091\n"
     ]
    },
    {
     "name": "stderr",
     "output_type": "stream",
     "text": [
      "[I 2025-01-07 00:22:37,697] Trial 81 finished with value: 0.04279877146310289 and parameters: {'topK': 4, 'shrink': 19.9184701733099, 'feature_weighting': 'TF-IDF', 'normalize': True, 'tversky_alpha': 0.21517358715068446, 'tversky_beta': 1.9944248298169838}. Best is trial 81 with value: 0.04279877146310289.\n"
     ]
    },
    {
     "name": "stdout",
     "output_type": "stream",
     "text": [
      "Similarity column 38121 (100.0%), 4621.65 column/sec. Elapsed time 8.25 sec\n",
      "EvaluatorHoldout: Processed 35209 (100.0%) in 8.72 sec. Users per second: 4036\n"
     ]
    },
    {
     "name": "stderr",
     "output_type": "stream",
     "text": [
      "[I 2025-01-07 00:22:54,838] Trial 82 finished with value: 0.04265906827574133 and parameters: {'topK': 5, 'shrink': 21.88021003670926, 'feature_weighting': 'TF-IDF', 'normalize': True, 'tversky_alpha': 0.2087985030883741, 'tversky_beta': 1.96279812556631}. Best is trial 81 with value: 0.04279877146310289.\n"
     ]
    },
    {
     "name": "stdout",
     "output_type": "stream",
     "text": [
      "Similarity column 38121 (100.0%), 4605.67 column/sec. Elapsed time 8.28 sec\n",
      "EvaluatorHoldout: Processed 35209 (100.0%) in 9.27 sec. Users per second: 3797\n"
     ]
    },
    {
     "name": "stderr",
     "output_type": "stream",
     "text": [
      "[I 2025-01-07 00:23:12,560] Trial 83 finished with value: 0.039818228293900526 and parameters: {'topK': 22, 'shrink': 19.94085818521756, 'feature_weighting': 'TF-IDF', 'normalize': True, 'tversky_alpha': 0.21612210706207963, 'tversky_beta': 2.164018276487477}. Best is trial 81 with value: 0.04279877146310289.\n"
     ]
    },
    {
     "name": "stdout",
     "output_type": "stream",
     "text": [
      "Similarity column 38121 (100.0%), 2195.80 column/sec. Elapsed time 17.36 sec\n",
      "EvaluatorHoldout: Processed 35209 (100.0%) in 8.52 sec. Users per second: 4131\n"
     ]
    },
    {
     "name": "stderr",
     "output_type": "stream",
     "text": [
      "[I 2025-01-07 00:23:38,611] Trial 84 finished with value: 0.04144930250968351 and parameters: {'topK': 2, 'shrink': 20.19044930388339, 'feature_weighting': 'TF-IDF', 'normalize': True, 'tversky_alpha': 0.23734837389007538, 'tversky_beta': 1.8341176161316335}. Best is trial 81 with value: 0.04279877146310289.\n"
     ]
    },
    {
     "name": "stdout",
     "output_type": "stream",
     "text": [
      "Similarity column 38121 (100.0%), 1584.77 column/sec. Elapsed time 24.05 sec\n",
      "EvaluatorHoldout: Processed 35209 (100.0%) in 8.64 sec. Users per second: 4073\n"
     ]
    },
    {
     "name": "stderr",
     "output_type": "stream",
     "text": [
      "[I 2025-01-07 00:24:11,473] Trial 85 finished with value: 0.04258850325516386 and parameters: {'topK': 3, 'shrink': 23.51774001375901, 'feature_weighting': 'TF-IDF', 'normalize': True, 'tversky_alpha': 0.27127106152344116, 'tversky_beta': 2.3944421253867643}. Best is trial 81 with value: 0.04279877146310289.\n"
     ]
    },
    {
     "name": "stdout",
     "output_type": "stream",
     "text": [
      "Similarity column 38121 (100.0%), 4701.94 column/sec. Elapsed time 8.11 sec\n",
      "EvaluatorHoldout: Processed 35209 (100.0%) in 8.70 sec. Users per second: 4048\n"
     ]
    },
    {
     "name": "stderr",
     "output_type": "stream",
     "text": [
      "[I 2025-01-07 00:24:28,452] Trial 86 finished with value: 0.03929511506572646 and parameters: {'topK': 6, 'shrink': 17.896253787040916, 'feature_weighting': 'BM25', 'normalize': True, 'tversky_alpha': 0.24731557193322556, 'tversky_beta': 1.9770033951881192}. Best is trial 81 with value: 0.04279877146310289.\n"
     ]
    },
    {
     "name": "stdout",
     "output_type": "stream",
     "text": [
      "Similarity column 38121 (100.0%), 4705.39 column/sec. Elapsed time 8.10 sec\n",
      "EvaluatorHoldout: Processed 35209 (100.0%) in 8.61 sec. Users per second: 4088\n"
     ]
    },
    {
     "name": "stderr",
     "output_type": "stream",
     "text": [
      "[I 2025-01-07 00:24:45,334] Trial 87 finished with value: 0.04280528472382676 and parameters: {'topK': 4, 'shrink': 20.71020369690971, 'feature_weighting': 'TF-IDF', 'normalize': True, 'tversky_alpha': 0.19165803609855564, 'tversky_beta': 2.258658060240813}. Best is trial 87 with value: 0.04280528472382676.\n"
     ]
    },
    {
     "name": "stdout",
     "output_type": "stream",
     "text": [
      "Similarity column 38121 (100.0%), 4665.48 column/sec. Elapsed time 8.17 sec\n",
      "EvaluatorHoldout: Processed 35209 (100.0%) in 8.77 sec. Users per second: 4017\n"
     ]
    },
    {
     "name": "stderr",
     "output_type": "stream",
     "text": [
      "[I 2025-01-07 00:25:02,434] Trial 88 finished with value: 0.041853620579513105 and parameters: {'topK': 8, 'shrink': 25.79322195282259, 'feature_weighting': 'TF-IDF', 'normalize': True, 'tversky_alpha': 0.19377785711044598, 'tversky_beta': 2.2440642008512492}. Best is trial 87 with value: 0.04280528472382676.\n"
     ]
    },
    {
     "name": "stdout",
     "output_type": "stream",
     "text": [
      "Similarity column 38121 (100.0%), 4673.60 column/sec. Elapsed time 8.16 sec\n",
      "EvaluatorHoldout: Processed 35209 (100.0%) in 8.72 sec. Users per second: 4038\n"
     ]
    },
    {
     "name": "stderr",
     "output_type": "stream",
     "text": [
      "[I 2025-01-07 00:25:19,479] Trial 89 finished with value: 0.042611131172718836 and parameters: {'topK': 5, 'shrink': 20.885359697176845, 'feature_weighting': 'TF-IDF', 'normalize': True, 'tversky_alpha': 0.1427068902008612, 'tversky_beta': 2.333749648802011}. Best is trial 87 with value: 0.04280528472382676.\n"
     ]
    },
    {
     "name": "stdout",
     "output_type": "stream",
     "text": [
      "Similarity column 38121 (100.0%), 1576.06 column/sec. Elapsed time 24.19 sec\n",
      "EvaluatorHoldout: Processed 35209 (100.0%) in 8.67 sec. Users per second: 4062\n"
     ]
    },
    {
     "name": "stderr",
     "output_type": "stream",
     "text": [
      "[I 2025-01-07 00:25:52,501] Trial 90 finished with value: 0.042557976924188674 and parameters: {'topK': 3, 'shrink': 21.042544673648337, 'feature_weighting': 'TF-IDF', 'normalize': True, 'tversky_alpha': 0.20348839628872067, 'tversky_beta': 2.182244754995681}. Best is trial 87 with value: 0.04280528472382676.\n"
     ]
    },
    {
     "name": "stdout",
     "output_type": "stream",
     "text": [
      "Similarity column 38121 (100.0%), 4634.21 column/sec. Elapsed time 8.23 sec\n",
      "EvaluatorHoldout: Processed 35209 (100.0%) in 8.72 sec. Users per second: 4040\n"
     ]
    },
    {
     "name": "stderr",
     "output_type": "stream",
     "text": [
      "[I 2025-01-07 00:26:09,609] Trial 91 finished with value: 0.04280517652638254 and parameters: {'topK': 4, 'shrink': 16.936755153767606, 'feature_weighting': 'TF-IDF', 'normalize': True, 'tversky_alpha': 0.2178600066884176, 'tversky_beta': 2.0775133965201302}. Best is trial 87 with value: 0.04280528472382676.\n"
     ]
    },
    {
     "name": "stdout",
     "output_type": "stream",
     "text": [
      "Similarity column 38121 (100.0%), 4687.47 column/sec. Elapsed time 8.13 sec\n",
      "EvaluatorHoldout: Processed 35209 (100.0%) in 8.60 sec. Users per second: 4095\n"
     ]
    },
    {
     "name": "stderr",
     "output_type": "stream",
     "text": [
      "[I 2025-01-07 00:26:26,506] Trial 92 finished with value: 0.042817716159331894 and parameters: {'topK': 4, 'shrink': 17.247134130053357, 'feature_weighting': 'TF-IDF', 'normalize': True, 'tversky_alpha': 0.2192158147356261, 'tversky_beta': 2.082596103325419}. Best is trial 92 with value: 0.042817716159331894.\n"
     ]
    },
    {
     "name": "stdout",
     "output_type": "stream",
     "text": [
      "Similarity column 38121 (100.0%), 1582.08 column/sec. Elapsed time 24.10 sec\n",
      "EvaluatorHoldout: Processed 35209 (100.0%) in 8.52 sec. Users per second: 4131\n"
     ]
    },
    {
     "name": "stderr",
     "output_type": "stream",
     "text": [
      "[I 2025-01-07 00:26:59,295] Trial 93 finished with value: 0.04258023404008646 and parameters: {'topK': 3, 'shrink': 16.730687763693574, 'feature_weighting': 'TF-IDF', 'normalize': True, 'tversky_alpha': 0.21826316188432435, 'tversky_beta': 2.0971270147634695}. Best is trial 92 with value: 0.042817716159331894.\n"
     ]
    },
    {
     "name": "stdout",
     "output_type": "stream",
     "text": [
      "Similarity column 38121 (100.0%), 4701.40 column/sec. Elapsed time 8.11 sec\n",
      "EvaluatorHoldout: Processed 35209 (100.0%) in 8.78 sec. Users per second: 4011\n"
     ]
    },
    {
     "name": "stderr",
     "output_type": "stream",
     "text": [
      "[I 2025-01-07 00:27:16,344] Trial 94 finished with value: 0.0427089427892473 and parameters: {'topK': 5, 'shrink': 17.42690228585308, 'feature_weighting': 'TF-IDF', 'normalize': True, 'tversky_alpha': 0.1887199319215608, 'tversky_beta': 2.136345574388431}. Best is trial 92 with value: 0.042817716159331894.\n"
     ]
    },
    {
     "name": "stdout",
     "output_type": "stream",
     "text": [
      "Similarity column 38121 (100.0%), 4704.96 column/sec. Elapsed time 8.10 sec\n",
      "EvaluatorHoldout: Processed 35209 (100.0%) in 8.83 sec. Users per second: 3988\n"
     ]
    },
    {
     "name": "stderr",
     "output_type": "stream",
     "text": [
      "[I 2025-01-07 00:27:33,443] Trial 95 finished with value: 0.042104299405769104 and parameters: {'topK': 7, 'shrink': 16.160811328165863, 'feature_weighting': 'TF-IDF', 'normalize': True, 'tversky_alpha': 0.33003454607472654, 'tversky_beta': 1.8832222140786674}. Best is trial 92 with value: 0.042817716159331894.\n"
     ]
    },
    {
     "name": "stdout",
     "output_type": "stream",
     "text": [
      "Similarity column 38121 (100.0%), 2195.03 column/sec. Elapsed time 17.37 sec\n",
      "EvaluatorHoldout: Processed 35209 (100.0%) in 8.53 sec. Users per second: 4127\n"
     ]
    },
    {
     "name": "stderr",
     "output_type": "stream",
     "text": [
      "[I 2025-01-07 00:27:59,504] Trial 96 finished with value: 0.041519887817282 and parameters: {'topK': 2, 'shrink': 18.95230991503858, 'feature_weighting': 'TF-IDF', 'normalize': True, 'tversky_alpha': 0.20837388761414866, 'tversky_beta': 2.0256095515481385}. Best is trial 92 with value: 0.042817716159331894.\n"
     ]
    },
    {
     "name": "stdout",
     "output_type": "stream",
     "text": [
      "Similarity column 38121 (100.0%), 4644.74 column/sec. Elapsed time 8.21 sec\n",
      "EvaluatorHoldout: Processed 35209 (100.0%) in 8.84 sec. Users per second: 3982\n"
     ]
    },
    {
     "name": "stderr",
     "output_type": "stream",
     "text": [
      "[I 2025-01-07 00:28:16,720] Trial 97 finished with value: 0.0424334630801002 and parameters: {'topK': 6, 'shrink': 16.997580348370615, 'feature_weighting': 'TF-IDF', 'normalize': True, 'tversky_alpha': 0.19862688996365052, 'tversky_beta': 2.2965350327657728}. Best is trial 92 with value: 0.042817716159331894.\n"
     ]
    },
    {
     "name": "stdout",
     "output_type": "stream",
     "text": [
      "Similarity column 38121 (100.0%), 4622.78 column/sec. Elapsed time 8.25 sec\n",
      "EvaluatorHoldout: Processed 35209 (100.0%) in 8.70 sec. Users per second: 4049\n"
     ]
    },
    {
     "name": "stderr",
     "output_type": "stream",
     "text": [
      "[I 2025-01-07 00:28:33,831] Trial 98 finished with value: 0.04222879634400684 and parameters: {'topK': 4, 'shrink': 21.933648057147522, 'feature_weighting': 'TF-IDF', 'normalize': True, 'tversky_alpha': 0.22940009227744826, 'tversky_beta': 1.121098443098111}. Best is trial 92 with value: 0.042817716159331894.\n"
     ]
    },
    {
     "name": "stdout",
     "output_type": "stream",
     "text": [
      "Similarity column 38121 (100.0%), 4723.01 column/sec. Elapsed time 8.07 sec\n",
      "EvaluatorHoldout: Processed 35209 (100.0%) in 8.73 sec. Users per second: 4031\n"
     ]
    },
    {
     "name": "stderr",
     "output_type": "stream",
     "text": [
      "[I 2025-01-07 00:28:50,803] Trial 99 finished with value: 0.04263573143951575 and parameters: {'topK': 5, 'shrink': 9.975462117822788, 'feature_weighting': 'TF-IDF', 'normalize': True, 'tversky_alpha': 0.21981711407971719, 'tversky_beta': 1.780069753946242}. Best is trial 92 with value: 0.042817716159331894.\n"
     ]
    },
    {
     "name": "stdout",
     "output_type": "stream",
     "text": [
      "Similarity column 38121 (100.0%), 2194.72 column/sec. Elapsed time 17.37 sec\n",
      "EvaluatorHoldout: Processed 35209 (100.0%) in 8.58 sec. Users per second: 4103\n"
     ]
    },
    {
     "name": "stderr",
     "output_type": "stream",
     "text": [
      "[I 2025-01-07 00:29:16,921] Trial 100 finished with value: 0.03768304415312166 and parameters: {'topK': 2, 'shrink': 18.240113441085857, 'feature_weighting': 'BM25', 'normalize': True, 'tversky_alpha': 0.24272867218917116, 'tversky_beta': 2.0664081713953957}. Best is trial 92 with value: 0.042817716159331894.\n"
     ]
    },
    {
     "name": "stdout",
     "output_type": "stream",
     "text": [
      "Similarity column 38121 (100.0%), 4635.54 column/sec. Elapsed time 8.22 sec\n",
      "EvaluatorHoldout: Processed 35209 (100.0%) in 8.71 sec. Users per second: 4041\n"
     ]
    },
    {
     "name": "stderr",
     "output_type": "stream",
     "text": [
      "[I 2025-01-07 00:29:34,024] Trial 101 finished with value: 0.04277091851064254 and parameters: {'topK': 4, 'shrink': 19.17131205127545, 'feature_weighting': 'TF-IDF', 'normalize': True, 'tversky_alpha': 0.16359369844395033, 'tversky_beta': 2.2498921293697607}. Best is trial 92 with value: 0.042817716159331894.\n"
     ]
    },
    {
     "name": "stdout",
     "output_type": "stream",
     "text": [
      "Similarity column 38121 (100.0%), 4723.66 column/sec. Elapsed time 8.07 sec\n",
      "EvaluatorHoldout: Processed 35209 (100.0%) in 8.59 sec. Users per second: 4098\n"
     ]
    },
    {
     "name": "stderr",
     "output_type": "stream",
     "text": [
      "[I 2025-01-07 00:29:50,853] Trial 102 finished with value: 0.0427841174717668 and parameters: {'topK': 4, 'shrink': 19.700335717064167, 'feature_weighting': 'TF-IDF', 'normalize': True, 'tversky_alpha': 0.20495740834082787, 'tversky_beta': 2.3414070784804695}. Best is trial 92 with value: 0.042817716159331894.\n"
     ]
    },
    {
     "name": "stdout",
     "output_type": "stream",
     "text": [
      "Similarity column 38121 (100.0%), 1571.68 column/sec. Elapsed time 24.25 sec\n",
      "EvaluatorHoldout: Processed 35209 (100.0%) in 8.55 sec. Users per second: 4117\n"
     ]
    },
    {
     "name": "stderr",
     "output_type": "stream",
     "text": [
      "[I 2025-01-07 00:30:23,834] Trial 103 finished with value: 0.042573503257417857 and parameters: {'topK': 3, 'shrink': 20.236356537653748, 'feature_weighting': 'TF-IDF', 'normalize': True, 'tversky_alpha': 0.21114723907987892, 'tversky_beta': 2.329230554831314}. Best is trial 92 with value: 0.042817716159331894.\n"
     ]
    },
    {
     "name": "stdout",
     "output_type": "stream",
     "text": [
      "Similarity column 38121 (100.0%), 4617.27 column/sec. Elapsed time 8.26 sec\n",
      "EvaluatorHoldout: Processed 35209 (100.0%) in 8.61 sec. Users per second: 4090\n"
     ]
    },
    {
     "name": "stderr",
     "output_type": "stream",
     "text": [
      "[I 2025-01-07 00:30:40,862] Trial 104 finished with value: 0.042814888374047816 and parameters: {'topK': 4, 'shrink': 19.761588568987623, 'feature_weighting': 'TF-IDF', 'normalize': True, 'tversky_alpha': 0.2565981255258123, 'tversky_beta': 2.261852000931241}. Best is trial 92 with value: 0.042817716159331894.\n"
     ]
    },
    {
     "name": "stdout",
     "output_type": "stream",
     "text": [
      "Similarity column 38121 (100.0%), 4640.89 column/sec. Elapsed time 8.21 sec\n",
      "EvaluatorHoldout: Processed 35209 (100.0%) in 8.84 sec. Users per second: 3983\n"
     ]
    },
    {
     "name": "stderr",
     "output_type": "stream",
     "text": [
      "[I 2025-01-07 00:30:58,080] Trial 105 finished with value: 0.04263328572645627 and parameters: {'topK': 5, 'shrink': 19.36786308660025, 'feature_weighting': 'TF-IDF', 'normalize': True, 'tversky_alpha': 0.2534831038494591, 'tversky_beta': 2.2719594521424837}. Best is trial 92 with value: 0.042817716159331894.\n"
     ]
    },
    {
     "name": "stdout",
     "output_type": "stream",
     "text": [
      "Similarity column 38121 (100.0%), 4674.83 column/sec. Elapsed time 8.15 sec\n",
      "EvaluatorHoldout: Processed 35209 (100.0%) in 8.64 sec. Users per second: 4075\n"
     ]
    },
    {
     "name": "stderr",
     "output_type": "stream",
     "text": [
      "[I 2025-01-07 00:31:15,038] Trial 106 finished with value: 0.04262570063480176 and parameters: {'topK': 5, 'shrink': 20.991306957686795, 'feature_weighting': 'TF-IDF', 'normalize': True, 'tversky_alpha': 0.2596366168331307, 'tversky_beta': 2.3975728329564867}. Best is trial 92 with value: 0.042817716159331894.\n"
     ]
    },
    {
     "name": "stdout",
     "output_type": "stream",
     "text": [
      "Similarity column 38121 (100.0%), 1584.15 column/sec. Elapsed time 24.06 sec\n",
      "EvaluatorHoldout: Processed 35209 (100.0%) in 8.62 sec. Users per second: 4084\n"
     ]
    },
    {
     "name": "stderr",
     "output_type": "stream",
     "text": [
      "[I 2025-01-07 00:31:47,890] Trial 107 finished with value: 0.04258521675779909 and parameters: {'topK': 3, 'shrink': 22.29442832696615, 'feature_weighting': 'TF-IDF', 'normalize': True, 'tversky_alpha': 0.22964343820134112, 'tversky_beta': 2.3445550913948785}. Best is trial 92 with value: 0.042817716159331894.\n"
     ]
    },
    {
     "name": "stdout",
     "output_type": "stream",
     "text": [
      "Similarity column 38121 (100.0%), 4620.27 column/sec. Elapsed time 8.25 sec\n",
      "EvaluatorHoldout: Processed 35209 (100.0%) in 8.65 sec. Users per second: 4072\n"
     ]
    },
    {
     "name": "stderr",
     "output_type": "stream",
     "text": [
      "[I 2025-01-07 00:32:04,965] Trial 108 finished with value: 0.04281909342263078 and parameters: {'topK': 4, 'shrink': 19.66200944058001, 'feature_weighting': 'TF-IDF', 'normalize': True, 'tversky_alpha': 0.202950448587863, 'tversky_beta': 2.1444188761436336}. Best is trial 108 with value: 0.04281909342263078.\n"
     ]
    },
    {
     "name": "stdout",
     "output_type": "stream",
     "text": [
      "Similarity column 38121 (100.0%), 4661.73 column/sec. Elapsed time 8.18 sec\n",
      "EvaluatorHoldout: Processed 35209 (100.0%) in 8.80 sec. Users per second: 4003\n"
     ]
    },
    {
     "name": "stderr",
     "output_type": "stream",
     "text": [
      "[I 2025-01-07 00:32:22,103] Trial 109 finished with value: 0.04246856526131559 and parameters: {'topK': 6, 'shrink': 19.14279235604327, 'feature_weighting': 'TF-IDF', 'normalize': True, 'tversky_alpha': 0.18829945895103906, 'tversky_beta': 2.1650909449428726}. Best is trial 108 with value: 0.04281909342263078.\n"
     ]
    },
    {
     "name": "stdout",
     "output_type": "stream",
     "text": [
      "Similarity column 38121 (100.0%), 4670.15 column/sec. Elapsed time 8.16 sec\n",
      "EvaluatorHoldout: Processed 35209 (100.0%) in 8.69 sec. Users per second: 4050\n"
     ]
    },
    {
     "name": "stderr",
     "output_type": "stream",
     "text": [
      "[I 2025-01-07 00:32:39,124] Trial 110 finished with value: 0.042126234183448186 and parameters: {'topK': 7, 'shrink': 20.405585976895587, 'feature_weighting': 'TF-IDF', 'normalize': True, 'tversky_alpha': 0.19583941472162572, 'tversky_beta': 2.2324087847130074}. Best is trial 108 with value: 0.04281909342263078.\n"
     ]
    },
    {
     "name": "stdout",
     "output_type": "stream",
     "text": [
      "Similarity column 38121 (100.0%), 4677.49 column/sec. Elapsed time 8.15 sec\n",
      "EvaluatorHoldout: Processed 35209 (100.0%) in 8.58 sec. Users per second: 4104\n"
     ]
    },
    {
     "name": "stderr",
     "output_type": "stream",
     "text": [
      "[I 2025-01-07 00:32:56,020] Trial 111 finished with value: 0.042814209885908755 and parameters: {'topK': 4, 'shrink': 19.892167045675635, 'feature_weighting': 'TF-IDF', 'normalize': True, 'tversky_alpha': 0.20717747931934263, 'tversky_beta': 2.2924455992979027}. Best is trial 108 with value: 0.04281909342263078.\n"
     ]
    },
    {
     "name": "stdout",
     "output_type": "stream",
     "text": [
      "Similarity column 38121 (100.0%), 2205.49 column/sec. Elapsed time 17.28 sec\n",
      "EvaluatorHoldout: Processed 35209 (100.0%) in 8.52 sec. Users per second: 4133\n"
     ]
    },
    {
     "name": "stderr",
     "output_type": "stream",
     "text": [
      "[I 2025-01-07 00:33:21,991] Trial 112 finished with value: 0.041520037715824264 and parameters: {'topK': 2, 'shrink': 19.861850766085944, 'feature_weighting': 'TF-IDF', 'normalize': True, 'tversky_alpha': 0.20187220738957481, 'tversky_beta': 2.122474995922157}. Best is trial 108 with value: 0.04281909342263078.\n"
     ]
    },
    {
     "name": "stdout",
     "output_type": "stream",
     "text": [
      "Similarity column 38121 (100.0%), 4611.86 column/sec. Elapsed time 8.27 sec\n",
      "EvaluatorHoldout: Processed 35209 (100.0%) in 8.66 sec. Users per second: 4066\n"
     ]
    },
    {
     "name": "stderr",
     "output_type": "stream",
     "text": [
      "[I 2025-01-07 00:33:39,089] Trial 113 finished with value: 0.04281201437943875 and parameters: {'topK': 4, 'shrink': 19.54249393515367, 'feature_weighting': 'TF-IDF', 'normalize': True, 'tversky_alpha': 0.22226388126913416, 'tversky_beta': 2.3006540223496432}. Best is trial 108 with value: 0.04281909342263078.\n"
     ]
    },
    {
     "name": "stdout",
     "output_type": "stream",
     "text": [
      "Similarity column 38121 (100.0%), 1579.75 column/sec. Elapsed time 24.13 sec\n",
      "EvaluatorHoldout: Processed 35209 (100.0%) in 8.58 sec. Users per second: 4102\n"
     ]
    },
    {
     "name": "stderr",
     "output_type": "stream",
     "text": [
      "[I 2025-01-07 00:34:11,968] Trial 114 finished with value: 0.042593329311993625 and parameters: {'topK': 3, 'shrink': 21.37195366352461, 'feature_weighting': 'TF-IDF', 'normalize': True, 'tversky_alpha': 0.24089271643865198, 'tversky_beta': 2.297203803586512}. Best is trial 108 with value: 0.04281909342263078.\n"
     ]
    },
    {
     "name": "stdout",
     "output_type": "stream",
     "text": [
      "Similarity column 38121 (100.0%), 4637.29 column/sec. Elapsed time 8.22 sec\n",
      "EvaluatorHoldout: Processed 35209 (100.0%) in 8.75 sec. Users per second: 4026\n"
     ]
    },
    {
     "name": "stderr",
     "output_type": "stream",
     "text": [
      "[I 2025-01-07 00:34:29,103] Trial 115 finished with value: 0.04244431325504202 and parameters: {'topK': 6, 'shrink': 18.318470630879357, 'feature_weighting': 'TF-IDF', 'normalize': True, 'tversky_alpha': 0.20517279122315502, 'tversky_beta': 2.0818997089727533}. Best is trial 108 with value: 0.04281909342263078.\n"
     ]
    },
    {
     "name": "stdout",
     "output_type": "stream",
     "text": [
      "Similarity column 38121 (100.0%), 4598.78 column/sec. Elapsed time 8.29 sec\n",
      "EvaluatorHoldout: Processed 35209 (100.0%) in 8.64 sec. Users per second: 4077\n"
     ]
    },
    {
     "name": "stderr",
     "output_type": "stream",
     "text": [
      "[I 2025-01-07 00:34:46,201] Trial 116 finished with value: 0.04282217028744754 and parameters: {'topK': 4, 'shrink': 19.601926369620962, 'feature_weighting': 'TF-IDF', 'normalize': True, 'tversky_alpha': 0.22607038441177355, 'tversky_beta': 2.167125540439638}. Best is trial 116 with value: 0.04282217028744754.\n"
     ]
    },
    {
     "name": "stdout",
     "output_type": "stream",
     "text": [
      "Similarity column 38121 (100.0%), 4615.55 column/sec. Elapsed time 8.26 sec\n",
      "EvaluatorHoldout: Processed 35209 (100.0%) in 8.69 sec. Users per second: 4052\n"
     ]
    },
    {
     "name": "stderr",
     "output_type": "stream",
     "text": [
      "[I 2025-01-07 00:35:03,323] Trial 117 finished with value: 0.0426409576014775 and parameters: {'topK': 5, 'shrink': 24.346272255088497, 'feature_weighting': 'TF-IDF', 'normalize': True, 'tversky_alpha': 0.22656148537695686, 'tversky_beta': 2.1817968216699817}. Best is trial 116 with value: 0.04282217028744754.\n"
     ]
    },
    {
     "name": "stdout",
     "output_type": "stream",
     "text": [
      "Similarity column 38121 (100.0%), 1582.86 column/sec. Elapsed time 24.08 sec\n",
      "EvaluatorHoldout: Processed 35209 (100.0%) in 8.63 sec. Users per second: 4081\n"
     ]
    },
    {
     "name": "stderr",
     "output_type": "stream",
     "text": [
      "[I 2025-01-07 00:35:36,202] Trial 118 finished with value: 0.04263694302547869 and parameters: {'topK': 3, 'shrink': 19.627646117160726, 'feature_weighting': 'TF-IDF', 'normalize': True, 'tversky_alpha': 0.2467220626703403, 'tversky_beta': 2.1436899335748625}. Best is trial 116 with value: 0.04282217028744754.\n"
     ]
    },
    {
     "name": "stdout",
     "output_type": "stream",
     "text": [
      "Similarity column 38121 (100.0%), 2205.30 column/sec. Elapsed time 17.29 sec\n",
      "EvaluatorHoldout: Processed 35209 (100.0%) in 8.64 sec. Users per second: 4075\n"
     ]
    },
    {
     "name": "stderr",
     "output_type": "stream",
     "text": [
      "[I 2025-01-07 00:36:02,303] Trial 119 finished with value: 0.04150443136156871 and parameters: {'topK': 2, 'shrink': 20.475029108689316, 'feature_weighting': 'TF-IDF', 'normalize': True, 'tversky_alpha': 0.2688701429044487, 'tversky_beta': 2.215860525776263}. Best is trial 116 with value: 0.04282217028744754.\n"
     ]
    },
    {
     "name": "stdout",
     "output_type": "stream",
     "text": [
      "Similarity column 38121 (100.0%), 4667.42 column/sec. Elapsed time 8.17 sec\n",
      "EvaluatorHoldout: Processed 35209 (100.0%) in 8.73 sec. Users per second: 4035\n"
     ]
    },
    {
     "name": "stderr",
     "output_type": "stream",
     "text": [
      "[I 2025-01-07 00:36:19,366] Trial 120 finished with value: 0.03938887716749776 and parameters: {'topK': 4, 'shrink': 21.334050199228887, 'feature_weighting': 'BM25', 'normalize': True, 'tversky_alpha': 0.2805126374875092, 'tversky_beta': 2.2760373767896804}. Best is trial 116 with value: 0.04282217028744754.\n"
     ]
    },
    {
     "name": "stdout",
     "output_type": "stream",
     "text": [
      "Similarity column 38121 (100.0%), 4662.07 column/sec. Elapsed time 8.18 sec\n",
      "EvaluatorHoldout: Processed 35209 (100.0%) in 8.64 sec. Users per second: 4077\n"
     ]
    },
    {
     "name": "stderr",
     "output_type": "stream",
     "text": [
      "[I 2025-01-07 00:36:36,346] Trial 121 finished with value: 0.04279508936883322 and parameters: {'topK': 4, 'shrink': 18.839354621569974, 'feature_weighting': 'TF-IDF', 'normalize': True, 'tversky_alpha': 0.22017470057005362, 'tversky_beta': 2.0264509068678374}. Best is trial 116 with value: 0.04282217028744754.\n"
     ]
    },
    {
     "name": "stdout",
     "output_type": "stream",
     "text": [
      "Similarity column 38121 (100.0%), 4639.07 column/sec. Elapsed time 8.22 sec\n",
      "EvaluatorHoldout: Processed 35209 (100.0%) in 8.64 sec. Users per second: 4077\n"
     ]
    },
    {
     "name": "stderr",
     "output_type": "stream",
     "text": [
      "[I 2025-01-07 00:36:53,372] Trial 122 finished with value: 0.04261331991684876 and parameters: {'topK': 4, 'shrink': 29.583825938859505, 'feature_weighting': 'TF-IDF', 'normalize': True, 'tversky_alpha': 0.21883557814583315, 'tversky_beta': 2.0217448237187905}. Best is trial 116 with value: 0.04282217028744754.\n"
     ]
    },
    {
     "name": "stdout",
     "output_type": "stream",
     "text": [
      "Similarity column 38121 (100.0%), 4605.42 column/sec. Elapsed time 8.28 sec\n",
      "EvaluatorHoldout: Processed 35209 (100.0%) in 8.62 sec. Users per second: 4087\n"
     ]
    },
    {
     "name": "stderr",
     "output_type": "stream",
     "text": [
      "[I 2025-01-07 00:37:10,433] Trial 123 finished with value: 0.04267485045084363 and parameters: {'topK': 5, 'shrink': 18.69011358710273, 'feature_weighting': 'TF-IDF', 'normalize': True, 'tversky_alpha': 0.2320005964988816, 'tversky_beta': 2.3004503504997267}. Best is trial 116 with value: 0.04282217028744754.\n"
     ]
    },
    {
     "name": "stdout",
     "output_type": "stream",
     "text": [
      "Similarity column 38121 (100.0%), 1573.59 column/sec. Elapsed time 24.23 sec\n",
      "EvaluatorHoldout: Processed 35209 (100.0%) in 8.58 sec. Users per second: 4101\n"
     ]
    },
    {
     "name": "stderr",
     "output_type": "stream",
     "text": [
      "[I 2025-01-07 00:37:43,410] Trial 124 finished with value: 0.042655348988600454 and parameters: {'topK': 3, 'shrink': 18.030488988420707, 'feature_weighting': 'TF-IDF', 'normalize': True, 'tversky_alpha': 0.21239505569383094, 'tversky_beta': 1.9480354927711239}. Best is trial 116 with value: 0.04282217028744754.\n"
     ]
    },
    {
     "name": "stdout",
     "output_type": "stream",
     "text": [
      "Similarity column 38121 (100.0%), 4718.66 column/sec. Elapsed time 8.08 sec\n",
      "EvaluatorHoldout: Processed 35209 (100.0%) in 8.54 sec. Users per second: 4124\n"
     ]
    },
    {
     "name": "stderr",
     "output_type": "stream",
     "text": [
      "[I 2025-01-07 00:38:00,198] Trial 125 finished with value: 0.04281928727638479 and parameters: {'topK': 4, 'shrink': 19.825915142311644, 'feature_weighting': 'TF-IDF', 'normalize': True, 'tversky_alpha': 0.19365035778213832, 'tversky_beta': 2.1713705947507864}. Best is trial 116 with value: 0.04282217028744754.\n"
     ]
    },
    {
     "name": "stdout",
     "output_type": "stream",
     "text": [
      "Similarity column 38121 (100.0%), 4693.82 column/sec. Elapsed time 8.12 sec\n",
      "EvaluatorHoldout: Processed 35209 (100.0%) in 8.65 sec. Users per second: 4072\n"
     ]
    },
    {
     "name": "stderr",
     "output_type": "stream",
     "text": [
      "[I 2025-01-07 00:38:17,134] Trial 126 finished with value: 0.04267591213826391 and parameters: {'topK': 5, 'shrink': 20.005391531233204, 'feature_weighting': 'TF-IDF', 'normalize': True, 'tversky_alpha': 0.1795112848127317, 'tversky_beta': 2.1577594884949636}. Best is trial 116 with value: 0.04282217028744754.\n"
     ]
    },
    {
     "name": "stdout",
     "output_type": "stream",
     "text": [
      "Similarity column 38121 (100.0%), 4657.04 column/sec. Elapsed time 8.19 sec\n",
      "EvaluatorHoldout: Processed 35209 (100.0%) in 8.74 sec. Users per second: 4030\n"
     ]
    },
    {
     "name": "stderr",
     "output_type": "stream",
     "text": [
      "[I 2025-01-07 00:38:34,229] Trial 127 finished with value: 0.04245731948946879 and parameters: {'topK': 6, 'shrink': 20.556546244028347, 'feature_weighting': 'TF-IDF', 'normalize': True, 'tversky_alpha': 0.19707351273773355, 'tversky_beta': 2.042327164522744}. Best is trial 116 with value: 0.04282217028744754.\n"
     ]
    },
    {
     "name": "stdout",
     "output_type": "stream",
     "text": [
      "Similarity column 38121 (100.0%), 1575.08 column/sec. Elapsed time 24.20 sec\n",
      "EvaluatorHoldout: Processed 35209 (100.0%) in 8.64 sec. Users per second: 4073\n"
     ]
    },
    {
     "name": "stderr",
     "output_type": "stream",
     "text": [
      "[I 2025-01-07 00:39:07,242] Trial 128 finished with value: 0.04255891238125757 and parameters: {'topK': 3, 'shrink': 22.365691284082953, 'feature_weighting': 'TF-IDF', 'normalize': True, 'tversky_alpha': 0.1875892780643295, 'tversky_beta': 2.093641395268911}. Best is trial 116 with value: 0.04282217028744754.\n"
     ]
    },
    {
     "name": "stdout",
     "output_type": "stream",
     "text": [
      "Similarity column 38121 (100.0%), 4720.25 column/sec. Elapsed time 8.08 sec\n",
      "EvaluatorHoldout: Processed 35209 (100.0%) in 8.70 sec. Users per second: 4045\n"
     ]
    },
    {
     "name": "stderr",
     "output_type": "stream",
     "text": [
      "[I 2025-01-07 00:39:24,192] Trial 129 finished with value: 0.042458786917304536 and parameters: {'topK': 6, 'shrink': 18.800219500823715, 'feature_weighting': 'TF-IDF', 'normalize': True, 'tversky_alpha': 0.22069722137470127, 'tversky_beta': 2.207385608656148}. Best is trial 116 with value: 0.04282217028744754.\n"
     ]
    },
    {
     "name": "stdout",
     "output_type": "stream",
     "text": [
      "Similarity column 38121 (100.0%), 4597.05 column/sec. Elapsed time 8.29 sec\n",
      "EvaluatorHoldout: Processed 35209 (100.0%) in 8.77 sec. Users per second: 4015\n"
     ]
    },
    {
     "name": "stderr",
     "output_type": "stream",
     "text": [
      "[I 2025-01-07 00:39:41,432] Trial 130 finished with value: 0.0426525843184919 and parameters: {'topK': 5, 'shrink': 19.922384717734797, 'feature_weighting': 'TF-IDF', 'normalize': True, 'tversky_alpha': 0.20362351865094985, 'tversky_beta': 1.9846993522820917}. Best is trial 116 with value: 0.04282217028744754.\n"
     ]
    },
    {
     "name": "stdout",
     "output_type": "stream",
     "text": [
      "Similarity column 38121 (100.0%), 4653.38 column/sec. Elapsed time 8.19 sec\n",
      "EvaluatorHoldout: Processed 35209 (100.0%) in 8.58 sec. Users per second: 4105\n"
     ]
    },
    {
     "name": "stderr",
     "output_type": "stream",
     "text": [
      "[I 2025-01-07 00:39:58,377] Trial 131 finished with value: 0.04279623783962009 and parameters: {'topK': 4, 'shrink': 19.66447923586813, 'feature_weighting': 'TF-IDF', 'normalize': True, 'tversky_alpha': 0.2256907472439069, 'tversky_beta': 2.2624428221435617}. Best is trial 116 with value: 0.04282217028744754.\n"
     ]
    },
    {
     "name": "stdout",
     "output_type": "stream",
     "text": [
      "Similarity column 38121 (100.0%), 4667.74 column/sec. Elapsed time 8.17 sec\n",
      "EvaluatorHoldout: Processed 35209 (100.0%) in 8.64 sec. Users per second: 4073\n"
     ]
    },
    {
     "name": "stderr",
     "output_type": "stream",
     "text": [
      "[I 2025-01-07 00:40:15,357] Trial 132 finished with value: 0.042805261055635827 and parameters: {'topK': 4, 'shrink': 20.74458916345086, 'feature_weighting': 'TF-IDF', 'normalize': True, 'tversky_alpha': 0.24003422558211335, 'tversky_beta': 2.3697680629699747}. Best is trial 116 with value: 0.04282217028744754.\n"
     ]
    },
    {
     "name": "stdout",
     "output_type": "stream",
     "text": [
      "Similarity column 38121 (100.0%), 4643.73 column/sec. Elapsed time 8.21 sec\n",
      "EvaluatorHoldout: Processed 35209 (100.0%) in 8.52 sec. Users per second: 4134\n"
     ]
    },
    {
     "name": "stderr",
     "output_type": "stream",
     "text": [
      "[I 2025-01-07 00:40:32,251] Trial 133 finished with value: 0.04276872187711597 and parameters: {'topK': 4, 'shrink': 20.891054666225536, 'feature_weighting': 'TF-IDF', 'normalize': True, 'tversky_alpha': 0.23881556123418235, 'tversky_beta': 2.1227940393862936}. Best is trial 116 with value: 0.04282217028744754.\n"
     ]
    },
    {
     "name": "stdout",
     "output_type": "stream",
     "text": [
      "Similarity column 38121 (100.0%), 1579.46 column/sec. Elapsed time 24.14 sec\n",
      "EvaluatorHoldout: Processed 35209 (100.0%) in 8.58 sec. Users per second: 4104\n"
     ]
    },
    {
     "name": "stderr",
     "output_type": "stream",
     "text": [
      "[I 2025-01-07 00:41:05,133] Trial 134 finished with value: 0.04261451121579058 and parameters: {'topK': 3, 'shrink': 17.76204677111395, 'feature_weighting': 'TF-IDF', 'normalize': True, 'tversky_alpha': 0.25607626267019723, 'tversky_beta': 2.1905840401985}. Best is trial 116 with value: 0.04282217028744754.\n"
     ]
    },
    {
     "name": "stdout",
     "output_type": "stream",
     "text": [
      "Similarity column 38121 (100.0%), 4594.10 column/sec. Elapsed time 8.30 sec\n",
      "EvaluatorHoldout: Processed 35209 (100.0%) in 8.75 sec. Users per second: 4025\n"
     ]
    },
    {
     "name": "stderr",
     "output_type": "stream",
     "text": [
      "[I 2025-01-07 00:41:22,352] Trial 135 finished with value: 0.04264983317306426 and parameters: {'topK': 5, 'shrink': 21.793427849675798, 'feature_weighting': 'TF-IDF', 'normalize': True, 'tversky_alpha': 0.22579740802173826, 'tversky_beta': 2.239971626371602}. Best is trial 116 with value: 0.04282217028744754.\n"
     ]
    },
    {
     "name": "stdout",
     "output_type": "stream",
     "text": [
      "Similarity column 38121 (100.0%), 1570.00 column/sec. Elapsed time 24.28 sec\n",
      "EvaluatorHoldout: Processed 35209 (100.0%) in 8.57 sec. Users per second: 4111\n"
     ]
    },
    {
     "name": "stderr",
     "output_type": "stream",
     "text": [
      "[I 2025-01-07 00:41:55,368] Trial 136 finished with value: 0.04258559319473984 and parameters: {'topK': 3, 'shrink': 18.52864278908622, 'feature_weighting': 'TF-IDF', 'normalize': True, 'tversky_alpha': 0.24866965697851817, 'tversky_beta': 2.3778763967858376}. Best is trial 116 with value: 0.04282217028744754.\n"
     ]
    },
    {
     "name": "stdout",
     "output_type": "stream",
     "text": [
      "Similarity column 38121 (100.0%), 2213.63 column/sec. Elapsed time 17.22 sec\n",
      "EvaluatorHoldout: Processed 35209 (100.0%) in 8.60 sec. Users per second: 4095\n"
     ]
    },
    {
     "name": "stderr",
     "output_type": "stream",
     "text": [
      "[I 2025-01-07 00:42:21,351] Trial 137 finished with value: 0.04154057494318382 and parameters: {'topK': 2, 'shrink': 22.98174176715758, 'feature_weighting': 'TF-IDF', 'normalize': True, 'tversky_alpha': 0.24077454954546967, 'tversky_beta': 2.3080847523749437}. Best is trial 116 with value: 0.04282217028744754.\n"
     ]
    },
    {
     "name": "stdout",
     "output_type": "stream",
     "text": [
      "Similarity column 38121 (100.0%), 4682.13 column/sec. Elapsed time 8.14 sec\n",
      "EvaluatorHoldout: Processed 35209 (100.0%) in 8.98 sec. Users per second: 3922\n"
     ]
    },
    {
     "name": "stderr",
     "output_type": "stream",
     "text": [
      "[I 2025-01-07 00:42:38,643] Trial 138 finished with value: 0.04065892468871655 and parameters: {'topK': 15, 'shrink': 20.356673998443007, 'feature_weighting': 'TF-IDF', 'normalize': True, 'tversky_alpha': 0.22879652068056963, 'tversky_beta': 2.1715345288590946}. Best is trial 116 with value: 0.04282217028744754.\n"
     ]
    },
    {
     "name": "stdout",
     "output_type": "stream",
     "text": [
      "Similarity column 38121 (100.0%), 4629.49 column/sec. Elapsed time 8.23 sec\n",
      "EvaluatorHoldout: Processed 35209 (100.0%) in 8.62 sec. Users per second: 4084\n"
     ]
    },
    {
     "name": "stderr",
     "output_type": "stream",
     "text": [
      "[I 2025-01-07 00:42:55,666] Trial 139 finished with value: 0.04280498718085545 and parameters: {'topK': 4, 'shrink': 19.051342293622525, 'feature_weighting': 'TF-IDF', 'normalize': True, 'tversky_alpha': 0.21558871754717698, 'tversky_beta': 2.019782594346697}. Best is trial 116 with value: 0.04282217028744754.\n"
     ]
    },
    {
     "name": "stdout",
     "output_type": "stream",
     "text": [
      "Similarity column 38121 (100.0%), 4666.41 column/sec. Elapsed time 8.17 sec\n",
      "EvaluatorHoldout: Processed 35209 (100.0%) in 8.65 sec. Users per second: 4071\n"
     ]
    },
    {
     "name": "stderr",
     "output_type": "stream",
     "text": [
      "[I 2025-01-07 00:43:12,649] Trial 140 finished with value: 0.04284370045176791 and parameters: {'topK': 4, 'shrink': 18.967233217856442, 'feature_weighting': 'TF-IDF', 'normalize': True, 'tversky_alpha': 0.21740102095513356, 'tversky_beta': 2.0572779047124636}. Best is trial 140 with value: 0.04284370045176791.\n"
     ]
    },
    {
     "name": "stdout",
     "output_type": "stream",
     "text": [
      "Similarity column 38121 (100.0%), 4667.48 column/sec. Elapsed time 8.17 sec\n",
      "EvaluatorHoldout: Processed 35209 (100.0%) in 8.65 sec. Users per second: 4070\n"
     ]
    },
    {
     "name": "stderr",
     "output_type": "stream",
     "text": [
      "[I 2025-01-07 00:43:29,642] Trial 141 finished with value: 0.042795546953857184 and parameters: {'topK': 4, 'shrink': 19.08297176607336, 'feature_weighting': 'TF-IDF', 'normalize': True, 'tversky_alpha': 0.21505730534022346, 'tversky_beta': 2.010282139327837}. Best is trial 140 with value: 0.04284370045176791.\n"
     ]
    },
    {
     "name": "stdout",
     "output_type": "stream",
     "text": [
      "Similarity column 38121 (100.0%), 4619.77 column/sec. Elapsed time 8.25 sec\n",
      "EvaluatorHoldout: Processed 35209 (100.0%) in 8.74 sec. Users per second: 4031\n"
     ]
    },
    {
     "name": "stderr",
     "output_type": "stream",
     "text": [
      "[I 2025-01-07 00:43:46,796] Trial 142 finished with value: 0.042641246127995115 and parameters: {'topK': 5, 'shrink': 19.3509444958493, 'feature_weighting': 'TF-IDF', 'normalize': True, 'tversky_alpha': 0.2120023570088903, 'tversky_beta': 2.107000494009489}. Best is trial 140 with value: 0.04284370045176791.\n"
     ]
    },
    {
     "name": "stdout",
     "output_type": "stream",
     "text": [
      "Similarity column 38121 (100.0%), 4727.67 column/sec. Elapsed time 8.06 sec\n",
      "EvaluatorHoldout: Processed 35209 (100.0%) in 8.76 sec. Users per second: 4019\n"
     ]
    },
    {
     "name": "stderr",
     "output_type": "stream",
     "text": [
      "[I 2025-01-07 00:44:03,788] Trial 143 finished with value: 0.04280013407466468 and parameters: {'topK': 4, 'shrink': 17.224065176886942, 'feature_weighting': 'TF-IDF', 'normalize': True, 'tversky_alpha': 0.2167127556373355, 'tversky_beta': 2.0647434846852946}. Best is trial 140 with value: 0.04284370045176791.\n"
     ]
    },
    {
     "name": "stdout",
     "output_type": "stream",
     "text": [
      "Similarity column 38121 (100.0%), 1571.93 column/sec. Elapsed time 24.25 sec\n",
      "EvaluatorHoldout: Processed 35209 (100.0%) in 8.56 sec. Users per second: 4112\n"
     ]
    },
    {
     "name": "stderr",
     "output_type": "stream",
     "text": [
      "[I 2025-01-07 00:44:36,770] Trial 144 finished with value: 0.042576578995177715 and parameters: {'topK': 3, 'shrink': 16.271869192015266, 'feature_weighting': 'TF-IDF', 'normalize': True, 'tversky_alpha': 0.1939183677355417, 'tversky_beta': 2.0800849930559684}. Best is trial 140 with value: 0.04284370045176791.\n"
     ]
    },
    {
     "name": "stdout",
     "output_type": "stream",
     "text": [
      "Similarity column 38121 (100.0%), 4676.11 column/sec. Elapsed time 8.15 sec\n",
      "EvaluatorHoldout: Processed 35209 (100.0%) in 8.61 sec. Users per second: 4088\n"
     ]
    },
    {
     "name": "stderr",
     "output_type": "stream",
     "text": [
      "[I 2025-01-07 00:44:53,706] Trial 145 finished with value: 0.04266690920926887 and parameters: {'topK': 5, 'shrink': 17.061322464297284, 'feature_weighting': 'TF-IDF', 'normalize': True, 'tversky_alpha': 0.23191587549687404, 'tversky_beta': 2.2378745807761624}. Best is trial 140 with value: 0.04284370045176791.\n"
     ]
    },
    {
     "name": "stdout",
     "output_type": "stream",
     "text": [
      "Similarity column 38121 (100.0%), 4653.99 column/sec. Elapsed time 8.19 sec\n",
      "EvaluatorHoldout: Processed 35209 (100.0%) in 8.61 sec. Users per second: 4092\n"
     ]
    },
    {
     "name": "stderr",
     "output_type": "stream",
     "text": [
      "[I 2025-01-07 00:45:10,672] Trial 146 finished with value: 0.041321894383965205 and parameters: {'topK': 4, 'shrink': 17.660368100219888, 'feature_weighting': 'TF-IDF', 'normalize': True, 'tversky_alpha': 0.20502829201799638, 'tversky_beta': 0.5564843643625961}. Best is trial 140 with value: 0.04284370045176791.\n"
     ]
    },
    {
     "name": "stdout",
     "output_type": "stream",
     "text": [
      "Similarity column 38121 (100.0%), 4483.50 column/sec. Elapsed time 8.50 sec\n",
      "EvaluatorHoldout: Processed 35209 (100.0%) in 8.71 sec. Users per second: 4040\n"
     ]
    },
    {
     "name": "stderr",
     "output_type": "stream",
     "text": [
      "[I 2025-01-07 00:45:28,055] Trial 147 finished with value: 0.042465001508000276 and parameters: {'topK': 6, 'shrink': 18.194574466235817, 'feature_weighting': 'TF-IDF', 'normalize': True, 'tversky_alpha': 0.1738133545370324, 'tversky_beta': 2.148145908076821}. Best is trial 140 with value: 0.04284370045176791.\n"
     ]
    },
    {
     "name": "stdout",
     "output_type": "stream",
     "text": [
      "Similarity column 38121 (100.0%), 2224.44 column/sec. Elapsed time 17.14 sec\n",
      "EvaluatorHoldout: Processed 35209 (100.0%) in 8.52 sec. Users per second: 4132\n"
     ]
    },
    {
     "name": "stderr",
     "output_type": "stream",
     "text": [
      "[I 2025-01-07 00:45:53,885] Trial 148 finished with value: 0.037612297676413636 and parameters: {'topK': 2, 'shrink': 21.288951785630523, 'feature_weighting': 'BM25', 'normalize': True, 'tversky_alpha': 0.43665785403314605, 'tversky_beta': 2.2618196642044333}. Best is trial 140 with value: 0.04284370045176791.\n"
     ]
    },
    {
     "name": "stdout",
     "output_type": "stream",
     "text": [
      "Similarity column 38121 (100.0%), 1576.56 column/sec. Elapsed time 24.18 sec\n",
      "EvaluatorHoldout: Processed 35209 (100.0%) in 8.77 sec. Users per second: 4013\n"
     ]
    },
    {
     "name": "stderr",
     "output_type": "stream",
     "text": [
      "[I 2025-01-07 00:46:27,005] Trial 149 finished with value: 0.042621065050556156 and parameters: {'topK': 3, 'shrink': 19.64547419901182, 'feature_weighting': 'TF-IDF', 'normalize': True, 'tversky_alpha': 0.2234332799892582, 'tversky_beta': 2.061312557603198}. Best is trial 140 with value: 0.04284370045176791.\n"
     ]
    },
    {
     "name": "stdout",
     "output_type": "stream",
     "text": [
      "Similarity column 38121 (100.0%), 4705.14 column/sec. Elapsed time 8.10 sec\n",
      "EvaluatorHoldout: Processed 35209 (100.0%) in 8.72 sec. Users per second: 4039\n"
     ]
    },
    {
     "name": "stderr",
     "output_type": "stream",
     "text": [
      "[I 2025-01-07 00:46:43,989] Trial 150 finished with value: 0.04271531854905267 and parameters: {'topK': 4, 'shrink': 16.361509075244733, 'feature_weighting': 'TF-IDF', 'normalize': True, 'tversky_alpha': 0.1901682040484886, 'tversky_beta': 2.188429480503505}. Best is trial 140 with value: 0.04284370045176791.\n"
     ]
    },
    {
     "name": "stdout",
     "output_type": "stream",
     "text": [
      "Similarity column 38121 (100.0%), 4697.98 column/sec. Elapsed time 8.11 sec\n",
      "EvaluatorHoldout: Processed 35209 (100.0%) in 8.61 sec. Users per second: 4087\n"
     ]
    },
    {
     "name": "stderr",
     "output_type": "stream",
     "text": [
      "[I 2025-01-07 00:47:00,885] Trial 151 finished with value: 0.042800211841577535 and parameters: {'topK': 4, 'shrink': 19.045194030207693, 'feature_weighting': 'TF-IDF', 'normalize': True, 'tversky_alpha': 0.21339174761083624, 'tversky_beta': 2.0061807469685218}. Best is trial 140 with value: 0.04284370045176791.\n"
     ]
    },
    {
     "name": "stdout",
     "output_type": "stream",
     "text": [
      "Similarity column 38121 (100.0%), 4656.06 column/sec. Elapsed time 8.19 sec\n",
      "EvaluatorHoldout: Processed 35209 (100.0%) in 8.69 sec. Users per second: 4052\n"
     ]
    },
    {
     "name": "stderr",
     "output_type": "stream",
     "text": [
      "[I 2025-01-07 00:47:17,925] Trial 152 finished with value: 0.04275557137943017 and parameters: {'topK': 4, 'shrink': 20.272111172326486, 'feature_weighting': 'TF-IDF', 'normalize': True, 'tversky_alpha': 0.21445044871021965, 'tversky_beta': 1.9396254747824289}. Best is trial 140 with value: 0.04284370045176791.\n"
     ]
    },
    {
     "name": "stdout",
     "output_type": "stream",
     "text": [
      "Similarity column 38121 (100.0%), 4673.28 column/sec. Elapsed time 8.16 sec\n",
      "EvaluatorHoldout: Processed 35209 (100.0%) in 8.68 sec. Users per second: 4056\n"
     ]
    },
    {
     "name": "stderr",
     "output_type": "stream",
     "text": [
      "[I 2025-01-07 00:47:34,932] Trial 153 finished with value: 0.04278919373518599 and parameters: {'topK': 5, 'shrink': 15.574401094307317, 'feature_weighting': 'TF-IDF', 'normalize': True, 'tversky_alpha': 0.20131847860055288, 'tversky_beta': 2.129123452257003}. Best is trial 140 with value: 0.04284370045176791.\n"
     ]
    },
    {
     "name": "stdout",
     "output_type": "stream",
     "text": [
      "Similarity column 38121 (100.0%), 1581.70 column/sec. Elapsed time 24.10 sec\n",
      "EvaluatorHoldout: Processed 35209 (100.0%) in 8.57 sec. Users per second: 4107\n"
     ]
    },
    {
     "name": "stderr",
     "output_type": "stream",
     "text": [
      "[I 2025-01-07 00:48:07,770] Trial 154 finished with value: 0.0426243752161118 and parameters: {'topK': 3, 'shrink': 20.76802005813972, 'feature_weighting': 'TF-IDF', 'normalize': True, 'tversky_alpha': 0.23424681262136332, 'tversky_beta': 1.9864824658085498}. Best is trial 140 with value: 0.04284370045176791.\n"
     ]
    },
    {
     "name": "stdout",
     "output_type": "stream",
     "text": [
      "Similarity column 38121 (100.0%), 4642.50 column/sec. Elapsed time 8.21 sec\n",
      "EvaluatorHoldout: Processed 35209 (100.0%) in 8.63 sec. Users per second: 4080\n"
     ]
    },
    {
     "name": "stderr",
     "output_type": "stream",
     "text": [
      "[I 2025-01-07 00:48:24,775] Trial 155 finished with value: 0.04278864485856859 and parameters: {'topK': 4, 'shrink': 17.11175960423409, 'feature_weighting': 'TF-IDF', 'normalize': True, 'tversky_alpha': 0.22195250523791552, 'tversky_beta': 2.3622729636598367}. Best is trial 140 with value: 0.04284370045176791.\n"
     ]
    },
    {
     "name": "stdout",
     "output_type": "stream",
     "text": [
      "Similarity column 38121 (100.0%), 4657.10 column/sec. Elapsed time 8.19 sec\n",
      "EvaluatorHoldout: Processed 35209 (100.0%) in 8.61 sec. Users per second: 4090\n"
     ]
    },
    {
     "name": "stderr",
     "output_type": "stream",
     "text": [
      "[I 2025-01-07 00:48:41,740] Trial 156 finished with value: 0.04283574005022921 and parameters: {'topK': 4, 'shrink': 18.533861355046046, 'feature_weighting': 'TF-IDF', 'normalize': True, 'tversky_alpha': 0.2095288270672395, 'tversky_beta': 2.045046149413824}. Best is trial 140 with value: 0.04284370045176791.\n"
     ]
    },
    {
     "name": "stdout",
     "output_type": "stream",
     "text": [
      "Similarity column 38121 (100.0%), 4651.60 column/sec. Elapsed time 8.20 sec\n",
      "EvaluatorHoldout: Processed 35209 (100.0%) in 8.65 sec. Users per second: 4069\n"
     ]
    },
    {
     "name": "stderr",
     "output_type": "stream",
     "text": [
      "[I 2025-01-07 00:48:58,756] Trial 157 finished with value: 0.042680306532374104 and parameters: {'topK': 5, 'shrink': 18.468147839353197, 'feature_weighting': 'TF-IDF', 'normalize': True, 'tversky_alpha': 0.1968412485814316, 'tversky_beta': 2.0522274829903413}. Best is trial 140 with value: 0.04284370045176791.\n"
     ]
    },
    {
     "name": "stdout",
     "output_type": "stream",
     "text": [
      "Similarity column 38121 (100.0%), 2206.68 column/sec. Elapsed time 17.28 sec\n",
      "EvaluatorHoldout: Processed 35209 (100.0%) in 8.52 sec. Users per second: 4134\n"
     ]
    },
    {
     "name": "stderr",
     "output_type": "stream",
     "text": [
      "[I 2025-01-07 00:49:24,721] Trial 158 finished with value: 0.04150809091470429 and parameters: {'topK': 2, 'shrink': 17.563923406766172, 'feature_weighting': 'TF-IDF', 'normalize': True, 'tversky_alpha': 0.1840073161587424, 'tversky_beta': 1.8838162806662582}. Best is trial 140 with value: 0.04284370045176791.\n"
     ]
    },
    {
     "name": "stdout",
     "output_type": "stream",
     "text": [
      "Similarity column 38121 (100.0%), 4642.93 column/sec. Elapsed time 8.21 sec\n",
      "EvaluatorHoldout: Processed 35209 (100.0%) in 8.65 sec. Users per second: 4072\n"
     ]
    },
    {
     "name": "stderr",
     "output_type": "stream",
     "text": [
      "[I 2025-01-07 00:49:41,745] Trial 159 finished with value: 0.042435994449469605 and parameters: {'topK': 6, 'shrink': 18.97352808378261, 'feature_weighting': 'TF-IDF', 'normalize': True, 'tversky_alpha': 0.2078277394966077, 'tversky_beta': 2.0945503155485263}. Best is trial 140 with value: 0.04284370045176791.\n"
     ]
    },
    {
     "name": "stdout",
     "output_type": "stream",
     "text": [
      "Similarity column 38121 (100.0%), 4682.94 column/sec. Elapsed time 8.14 sec\n",
      "EvaluatorHoldout: Processed 35209 (100.0%) in 9.45 sec. Users per second: 3726\n"
     ]
    },
    {
     "name": "stderr",
     "output_type": "stream",
     "text": [
      "[I 2025-01-07 00:49:59,509] Trial 160 finished with value: 0.03697349771229923 and parameters: {'topK': 21, 'shrink': 19.38150365916862, 'feature_weighting': 'TF-IDF', 'normalize': True, 'tversky_alpha': 0.2088931482804165, 'tversky_beta': 0.41055042211191073}. Best is trial 140 with value: 0.04284370045176791.\n"
     ]
    },
    {
     "name": "stdout",
     "output_type": "stream",
     "text": [
      "Similarity column 38121 (100.0%), 1579.17 column/sec. Elapsed time 24.14 sec\n",
      "EvaluatorHoldout: Processed 35209 (100.0%) in 8.63 sec. Users per second: 4078\n"
     ]
    },
    {
     "name": "stderr",
     "output_type": "stream",
     "text": [
      "[I 2025-01-07 00:50:32,450] Trial 161 finished with value: 0.04257731045498235 and parameters: {'topK': 3, 'shrink': 19.720783388495267, 'feature_weighting': 'TF-IDF', 'normalize': True, 'tversky_alpha': 0.22775853147398065, 'tversky_beta': 2.319052775878469}. Best is trial 140 with value: 0.04284370045176791.\n"
     ]
    },
    {
     "name": "stdout",
     "output_type": "stream",
     "text": [
      "Similarity column 38121 (100.0%), 4613.35 column/sec. Elapsed time 8.26 sec\n",
      "EvaluatorHoldout: Processed 35209 (100.0%) in 8.69 sec. Users per second: 4051\n"
     ]
    },
    {
     "name": "stderr",
     "output_type": "stream",
     "text": [
      "[I 2025-01-07 00:50:49,579] Trial 162 finished with value: 0.04280754447252914 and parameters: {'topK': 4, 'shrink': 18.17943609521671, 'feature_weighting': 'TF-IDF', 'normalize': True, 'tversky_alpha': 0.2183438536611531, 'tversky_beta': 2.21970744197942}. Best is trial 140 with value: 0.04284370045176791.\n"
     ]
    },
    {
     "name": "stdout",
     "output_type": "stream",
     "text": [
      "Similarity column 38121 (100.0%), 4725.14 column/sec. Elapsed time 8.07 sec\n",
      "EvaluatorHoldout: Processed 35209 (100.0%) in 8.68 sec. Users per second: 4058\n"
     ]
    },
    {
     "name": "stderr",
     "output_type": "stream",
     "text": [
      "[I 2025-01-07 00:51:06,490] Trial 163 finished with value: 0.04267981288153531 and parameters: {'topK': 5, 'shrink': 18.177931933182137, 'feature_weighting': 'TF-IDF', 'normalize': True, 'tversky_alpha': 0.21708564618199194, 'tversky_beta': 2.2182798027471073}. Best is trial 140 with value: 0.04284370045176791.\n"
     ]
    },
    {
     "name": "stdout",
     "output_type": "stream",
     "text": [
      "Similarity column 38121 (100.0%), 4708.57 column/sec. Elapsed time 8.10 sec\n",
      "EvaluatorHoldout: Processed 35209 (100.0%) in 8.67 sec. Users per second: 4059\n"
     ]
    },
    {
     "name": "stderr",
     "output_type": "stream",
     "text": [
      "[I 2025-01-07 00:51:23,431] Trial 164 finished with value: 0.04278747384664753 and parameters: {'topK': 4, 'shrink': 16.81594815972169, 'feature_weighting': 'TF-IDF', 'normalize': True, 'tversky_alpha': 0.2000455966367315, 'tversky_beta': 2.0126879046658157}. Best is trial 140 with value: 0.04284370045176791.\n"
     ]
    },
    {
     "name": "stdout",
     "output_type": "stream",
     "text": [
      "Similarity column 38121 (100.0%), 1577.77 column/sec. Elapsed time 24.16 sec\n",
      "EvaluatorHoldout: Processed 35209 (100.0%) in 8.59 sec. Users per second: 4099\n"
     ]
    },
    {
     "name": "stderr",
     "output_type": "stream",
     "text": [
      "[I 2025-01-07 00:51:56,351] Trial 165 finished with value: 0.04254915094309697 and parameters: {'topK': 3, 'shrink': 18.613976165555247, 'feature_weighting': 'TF-IDF', 'normalize': True, 'tversky_alpha': 0.19271658371446848, 'tversky_beta': 2.1547499177796223}. Best is trial 140 with value: 0.04284370045176791.\n"
     ]
    },
    {
     "name": "stdout",
     "output_type": "stream",
     "text": [
      "Similarity column 38121 (100.0%), 4702.46 column/sec. Elapsed time 8.11 sec\n",
      "EvaluatorHoldout: Processed 35209 (100.0%) in 8.76 sec. Users per second: 4019\n"
     ]
    },
    {
     "name": "stderr",
     "output_type": "stream",
     "text": [
      "[I 2025-01-07 00:52:13,385] Trial 166 finished with value: 0.04276030839878005 and parameters: {'topK': 4, 'shrink': 17.75748374193596, 'feature_weighting': 'TF-IDF', 'normalize': True, 'tversky_alpha': 0.23424270106817544, 'tversky_beta': 1.9547955430069817}. Best is trial 140 with value: 0.04284370045176791.\n"
     ]
    },
    {
     "name": "stdout",
     "output_type": "stream",
     "text": [
      "Similarity column 38121 (100.0%), 4666.30 column/sec. Elapsed time 8.17 sec\n",
      "EvaluatorHoldout: Processed 35209 (100.0%) in 8.75 sec. Users per second: 4025\n"
     ]
    },
    {
     "name": "stderr",
     "output_type": "stream",
     "text": [
      "[I 2025-01-07 00:52:30,472] Trial 167 finished with value: 0.042520276877257755 and parameters: {'topK': 5, 'shrink': 20.13983550011139, 'feature_weighting': 'TF-IDF', 'normalize': True, 'tversky_alpha': 0.38917040682658127, 'tversky_beta': 2.0571466779743677}. Best is trial 140 with value: 0.04284370045176791.\n"
     ]
    },
    {
     "name": "stdout",
     "output_type": "stream",
     "text": [
      "Similarity column 38121 (100.0%), 4627.57 column/sec. Elapsed time 8.24 sec\n",
      "EvaluatorHoldout: Processed 35209 (100.0%) in 8.67 sec. Users per second: 4061\n"
     ]
    },
    {
     "name": "stderr",
     "output_type": "stream",
     "text": [
      "[I 2025-01-07 00:52:47,547] Trial 168 finished with value: 0.04282689941740033 and parameters: {'topK': 4, 'shrink': 19.15960817896767, 'feature_weighting': 'TF-IDF', 'normalize': True, 'tversky_alpha': 0.21283437341387632, 'tversky_beta': 2.1058929652204306}. Best is trial 140 with value: 0.04284370045176791.\n"
     ]
    },
    {
     "name": "stdout",
     "output_type": "stream",
     "text": [
      "Similarity column 38121 (100.0%), 1571.20 column/sec. Elapsed time 24.26 sec\n",
      "EvaluatorHoldout: Processed 35209 (100.0%) in 8.53 sec. Users per second: 4130\n"
     ]
    },
    {
     "name": "stderr",
     "output_type": "stream",
     "text": [
      "[I 2025-01-07 00:53:20,508] Trial 169 finished with value: 0.04262606918234601 and parameters: {'topK': 3, 'shrink': 19.08574365600055, 'feature_weighting': 'TF-IDF', 'normalize': True, 'tversky_alpha': 0.24479450133744216, 'tversky_beta': 2.1970221635704226}. Best is trial 140 with value: 0.04284370045176791.\n"
     ]
    },
    {
     "name": "stdout",
     "output_type": "stream",
     "text": [
      "Similarity column 38121 (100.0%), 4697.75 column/sec. Elapsed time 8.11 sec\n",
      "EvaluatorHoldout: Processed 35209 (100.0%) in 9.22 sec. Users per second: 3820\n"
     ]
    },
    {
     "name": "stderr",
     "output_type": "stream",
     "text": [
      "[I 2025-01-07 00:53:38,012] Trial 170 finished with value: 0.03945504328573846 and parameters: {'topK': 25, 'shrink': 18.089097477273018, 'feature_weighting': 'TF-IDF', 'normalize': True, 'tversky_alpha': 0.2192063506438954, 'tversky_beta': 2.133782804788511}. Best is trial 140 with value: 0.04284370045176791.\n"
     ]
    },
    {
     "name": "stdout",
     "output_type": "stream",
     "text": [
      "Similarity column 38121 (100.0%), 4700.05 column/sec. Elapsed time 8.11 sec\n",
      "EvaluatorHoldout: Processed 35209 (100.0%) in 8.61 sec. Users per second: 4091\n"
     ]
    },
    {
     "name": "stderr",
     "output_type": "stream",
     "text": [
      "[I 2025-01-07 00:53:54,895] Trial 171 finished with value: 0.04283462200997325 and parameters: {'topK': 4, 'shrink': 20.641787172027122, 'feature_weighting': 'TF-IDF', 'normalize': True, 'tversky_alpha': 0.20982513924896398, 'tversky_beta': 2.0877357549275555}. Best is trial 140 with value: 0.04284370045176791.\n"
     ]
    },
    {
     "name": "stdout",
     "output_type": "stream",
     "text": [
      "Similarity column 38121 (100.0%), 4638.87 column/sec. Elapsed time 8.22 sec\n",
      "EvaluatorHoldout: Processed 35209 (100.0%) in 8.60 sec. Users per second: 4092\n"
     ]
    },
    {
     "name": "stderr",
     "output_type": "stream",
     "text": [
      "[I 2025-01-07 00:54:11,889] Trial 172 finished with value: 0.04281082195344015 and parameters: {'topK': 4, 'shrink': 20.84669447516884, 'feature_weighting': 'TF-IDF', 'normalize': True, 'tversky_alpha': 0.2076794526668131, 'tversky_beta': 2.0996845716001515}. Best is trial 140 with value: 0.04284370045176791.\n"
     ]
    },
    {
     "name": "stdout",
     "output_type": "stream",
     "text": [
      "Similarity column 38121 (100.0%), 4625.88 column/sec. Elapsed time 8.24 sec\n",
      "EvaluatorHoldout: Processed 35209 (100.0%) in 8.67 sec. Users per second: 4059\n"
     ]
    },
    {
     "name": "stderr",
     "output_type": "stream",
     "text": [
      "[I 2025-01-07 00:54:28,970] Trial 173 finished with value: 0.04266643021016733 and parameters: {'topK': 5, 'shrink': 21.028783087488428, 'feature_weighting': 'TF-IDF', 'normalize': True, 'tversky_alpha': 0.20654235726488163, 'tversky_beta': 2.1041123162569995}. Best is trial 140 with value: 0.04284370045176791.\n"
     ]
    },
    {
     "name": "stdout",
     "output_type": "stream",
     "text": [
      "Similarity column 38121 (100.0%), 4621.51 column/sec. Elapsed time 8.25 sec\n",
      "EvaluatorHoldout: Processed 35209 (100.0%) in 8.72 sec. Users per second: 4038\n"
     ]
    },
    {
     "name": "stderr",
     "output_type": "stream",
     "text": [
      "[I 2025-01-07 00:54:46,103] Trial 174 finished with value: 0.042816334387806 and parameters: {'topK': 4, 'shrink': 20.4658223906859, 'feature_weighting': 'TF-IDF', 'normalize': True, 'tversky_alpha': 0.18390584700701487, 'tversky_beta': 2.1612132523694005}. Best is trial 140 with value: 0.04284370045176791.\n"
     ]
    },
    {
     "name": "stdout",
     "output_type": "stream",
     "text": [
      "Similarity column 38121 (100.0%), 1585.66 column/sec. Elapsed time 24.04 sec\n",
      "EvaluatorHoldout: Processed 35209 (100.0%) in 8.59 sec. Users per second: 4097\n"
     ]
    },
    {
     "name": "stderr",
     "output_type": "stream",
     "text": [
      "[I 2025-01-07 00:55:18,908] Trial 175 finished with value: 0.04256221353035938 and parameters: {'topK': 3, 'shrink': 20.564453453627394, 'feature_weighting': 'TF-IDF', 'normalize': True, 'tversky_alpha': 0.1798659152410936, 'tversky_beta': 2.171731453231135}. Best is trial 140 with value: 0.04284370045176791.\n"
     ]
    },
    {
     "name": "stdout",
     "output_type": "stream",
     "text": [
      "Similarity column 38121 (100.0%), 4647.48 column/sec. Elapsed time 8.20 sec\n",
      "EvaluatorHoldout: Processed 35209 (100.0%) in 8.74 sec. Users per second: 4028\n"
     ]
    },
    {
     "name": "stderr",
     "output_type": "stream",
     "text": [
      "[I 2025-01-07 00:55:36,024] Trial 176 finished with value: 0.03938723391881532 and parameters: {'topK': 6, 'shrink': 21.425171303379955, 'feature_weighting': 'BM25', 'normalize': True, 'tversky_alpha': 0.16890474894021246, 'tversky_beta': 2.29305384324496}. Best is trial 140 with value: 0.04284370045176791.\n"
     ]
    },
    {
     "name": "stdout",
     "output_type": "stream",
     "text": [
      "Similarity column 38121 (100.0%), 4688.07 column/sec. Elapsed time 8.13 sec\n",
      "EvaluatorHoldout: Processed 35209 (100.0%) in 8.64 sec. Users per second: 4074\n"
     ]
    },
    {
     "name": "stderr",
     "output_type": "stream",
     "text": [
      "[I 2025-01-07 00:55:52,964] Trial 177 finished with value: 0.0427242121535468 and parameters: {'topK': 5, 'shrink': 22.18049823681081, 'feature_weighting': 'TF-IDF', 'normalize': True, 'tversky_alpha': 0.19392684727377463, 'tversky_beta': 2.2283694294155456}. Best is trial 140 with value: 0.04284370045176791.\n"
     ]
    },
    {
     "name": "stdout",
     "output_type": "stream",
     "text": [
      "Similarity column 38121 (100.0%), 2199.12 column/sec. Elapsed time 17.33 sec\n",
      "EvaluatorHoldout: Processed 35209 (100.0%) in 8.49 sec. Users per second: 4149\n"
     ]
    },
    {
     "name": "stderr",
     "output_type": "stream",
     "text": [
      "[I 2025-01-07 00:56:18,952] Trial 178 finished with value: 0.04147558209097729 and parameters: {'topK': 2, 'shrink': 20.344267823313103, 'feature_weighting': 'TF-IDF', 'normalize': True, 'tversky_alpha': 0.186507869954039, 'tversky_beta': 2.1275211423629403}. Best is trial 140 with value: 0.04284370045176791.\n"
     ]
    },
    {
     "name": "stdout",
     "output_type": "stream",
     "text": [
      "Similarity column 38121 (100.0%), 4661.82 column/sec. Elapsed time 8.18 sec\n",
      "EvaluatorHoldout: Processed 35209 (100.0%) in 8.59 sec. Users per second: 4100\n"
     ]
    },
    {
     "name": "stderr",
     "output_type": "stream",
     "text": [
      "[I 2025-01-07 00:56:35,890] Trial 179 finished with value: 0.04282125286328598 and parameters: {'topK': 4, 'shrink': 20.64332399494991, 'feature_weighting': 'TF-IDF', 'normalize': True, 'tversky_alpha': 0.2004216831722402, 'tversky_beta': 2.2004131627107775}. Best is trial 140 with value: 0.04284370045176791.\n"
     ]
    },
    {
     "name": "stdout",
     "output_type": "stream",
     "text": [
      "Similarity column 38121 (100.0%), 1583.94 column/sec. Elapsed time 24.07 sec\n",
      "EvaluatorHoldout: Processed 35209 (100.0%) in 8.68 sec. Users per second: 4055\n"
     ]
    },
    {
     "name": "stderr",
     "output_type": "stream",
     "text": [
      "[I 2025-01-07 00:57:08,807] Trial 180 finished with value: 0.04257722817984259 and parameters: {'topK': 3, 'shrink': 20.93448829000697, 'feature_weighting': 'TF-IDF', 'normalize': True, 'tversky_alpha': 0.1997826438809285, 'tversky_beta': 2.20087269721499}. Best is trial 140 with value: 0.04284370045176791.\n"
     ]
    },
    {
     "name": "stdout",
     "output_type": "stream",
     "text": [
      "Similarity column 38121 (100.0%), 4603.36 column/sec. Elapsed time 8.28 sec\n",
      "EvaluatorHoldout: Processed 35209 (100.0%) in 8.70 sec. Users per second: 4045\n"
     ]
    },
    {
     "name": "stderr",
     "output_type": "stream",
     "text": [
      "[I 2025-01-07 00:57:25,966] Trial 181 finished with value: 0.04281180136572074 and parameters: {'topK': 4, 'shrink': 19.830620713525338, 'feature_weighting': 'TF-IDF', 'normalize': True, 'tversky_alpha': 0.2037230083709635, 'tversky_beta': 2.2576290653836533}. Best is trial 140 with value: 0.04284370045176791.\n"
     ]
    },
    {
     "name": "stdout",
     "output_type": "stream",
     "text": [
      "Similarity column 38121 (100.0%), 4684.54 column/sec. Elapsed time 8.14 sec\n",
      "EvaluatorHoldout: Processed 35209 (100.0%) in 8.62 sec. Users per second: 4083\n"
     ]
    },
    {
     "name": "stderr",
     "output_type": "stream",
     "text": [
      "[I 2025-01-07 00:57:42,893] Trial 182 finished with value: 0.04281183968564884 and parameters: {'topK': 4, 'shrink': 19.772466331505886, 'feature_weighting': 'TF-IDF', 'normalize': True, 'tversky_alpha': 0.20474293652247852, 'tversky_beta': 2.2714662483372323}. Best is trial 140 with value: 0.04284370045176791.\n"
     ]
    },
    {
     "name": "stdout",
     "output_type": "stream",
     "text": [
      "Similarity column 38121 (100.0%), 4648.41 column/sec. Elapsed time 8.20 sec\n",
      "EvaluatorHoldout: Processed 35209 (100.0%) in 8.70 sec. Users per second: 4049\n"
     ]
    },
    {
     "name": "stderr",
     "output_type": "stream",
     "text": [
      "[I 2025-01-07 00:57:59,958] Trial 183 finished with value: 0.042688958946732254 and parameters: {'topK': 5, 'shrink': 20.029638647505877, 'feature_weighting': 'TF-IDF', 'normalize': True, 'tversky_alpha': 0.18653877445034653, 'tversky_beta': 2.278972836075173}. Best is trial 140 with value: 0.04284370045176791.\n"
     ]
    },
    {
     "name": "stdout",
     "output_type": "stream",
     "text": [
      "Similarity column 38121 (100.0%), 4663.26 column/sec. Elapsed time 8.17 sec\n",
      "EvaluatorHoldout: Processed 35209 (100.0%) in 8.67 sec. Users per second: 4059\n"
     ]
    },
    {
     "name": "stderr",
     "output_type": "stream",
     "text": [
      "[I 2025-01-07 00:58:16,977] Trial 184 finished with value: 0.04282280594743167 and parameters: {'topK': 4, 'shrink': 21.592399804913207, 'feature_weighting': 'TF-IDF', 'normalize': True, 'tversky_alpha': 0.20326755698773624, 'tversky_beta': 2.3307863079880753}. Best is trial 140 with value: 0.04284370045176791.\n"
     ]
    },
    {
     "name": "stdout",
     "output_type": "stream",
     "text": [
      "Similarity column 38121 (100.0%), 4667.62 column/sec. Elapsed time 8.17 sec\n",
      "EvaluatorHoldout: Processed 35209 (100.0%) in 8.92 sec. Users per second: 3947\n"
     ]
    },
    {
     "name": "stderr",
     "output_type": "stream",
     "text": [
      "[I 2025-01-07 00:58:34,236] Trial 185 finished with value: 0.04100276940374491 and parameters: {'topK': 12, 'shrink': 21.803996998009982, 'feature_weighting': 'TF-IDF', 'normalize': True, 'tversky_alpha': 0.17588547225958065, 'tversky_beta': 2.243927563931961}. Best is trial 140 with value: 0.04284370045176791.\n"
     ]
    },
    {
     "name": "stdout",
     "output_type": "stream",
     "text": [
      "Similarity column 38121 (100.0%), 1574.82 column/sec. Elapsed time 24.21 sec\n",
      "EvaluatorHoldout: Processed 35209 (100.0%) in 8.67 sec. Users per second: 4062\n"
     ]
    },
    {
     "name": "stderr",
     "output_type": "stream",
     "text": [
      "[I 2025-01-07 00:59:07,278] Trial 186 finished with value: 0.04253989104517233 and parameters: {'topK': 3, 'shrink': 21.304136250110876, 'feature_weighting': 'TF-IDF', 'normalize': True, 'tversky_alpha': 0.2016457535079368, 'tversky_beta': 2.3243555593010123}. Best is trial 140 with value: 0.04284370045176791.\n"
     ]
    },
    {
     "name": "stdout",
     "output_type": "stream",
     "text": [
      "Similarity column 38121 (100.0%), 4665.41 column/sec. Elapsed time 8.17 sec\n",
      "EvaluatorHoldout: Processed 35209 (100.0%) in 8.67 sec. Users per second: 4060\n"
     ]
    },
    {
     "name": "stderr",
     "output_type": "stream",
     "text": [
      "[I 2025-01-07 00:59:24,288] Trial 187 finished with value: 0.04281069346897534 and parameters: {'topK': 4, 'shrink': 19.491022446335116, 'feature_weighting': 'TF-IDF', 'normalize': True, 'tversky_alpha': 0.20586185983485183, 'tversky_beta': 2.274408115573339}. Best is trial 140 with value: 0.04284370045176791.\n"
     ]
    },
    {
     "name": "stdout",
     "output_type": "stream",
     "text": [
      "Similarity column 38121 (100.0%), 4717.90 column/sec. Elapsed time 8.08 sec\n",
      "EvaluatorHoldout: Processed 35209 (100.0%) in 8.66 sec. Users per second: 4064\n"
     ]
    },
    {
     "name": "stderr",
     "output_type": "stream",
     "text": [
      "[I 2025-01-07 00:59:41,207] Trial 188 finished with value: 0.04269140015156496 and parameters: {'topK': 5, 'shrink': 19.592531461622528, 'feature_weighting': 'TF-IDF', 'normalize': True, 'tversky_alpha': 0.20844098823938495, 'tversky_beta': 2.215158851700841}. Best is trial 140 with value: 0.04284370045176791.\n"
     ]
    },
    {
     "name": "stdout",
     "output_type": "stream",
     "text": [
      "Similarity column 38121 (100.0%), 4636.40 column/sec. Elapsed time 8.22 sec\n",
      "EvaluatorHoldout: Processed 35209 (100.0%) in 8.73 sec. Users per second: 4033\n"
     ]
    },
    {
     "name": "stderr",
     "output_type": "stream",
     "text": [
      "[I 2025-01-07 00:59:58,329] Trial 189 finished with value: 0.0428258174429593 and parameters: {'topK': 4, 'shrink': 20.081306679306714, 'feature_weighting': 'TF-IDF', 'normalize': True, 'tversky_alpha': 0.20035718025245844, 'tversky_beta': 2.3080904252641856}. Best is trial 140 with value: 0.04284370045176791.\n"
     ]
    },
    {
     "name": "stdout",
     "output_type": "stream",
     "text": [
      "Similarity column 38121 (100.0%), 1582.03 column/sec. Elapsed time 24.10 sec\n",
      "EvaluatorHoldout: Processed 35209 (100.0%) in 8.59 sec. Users per second: 4098\n"
     ]
    },
    {
     "name": "stderr",
     "output_type": "stream",
     "text": [
      "[I 2025-01-07 01:00:31,189] Trial 190 finished with value: 0.0425883364507706 and parameters: {'topK': 3, 'shrink': 19.96210775392324, 'feature_weighting': 'TF-IDF', 'normalize': True, 'tversky_alpha': 0.19538451204583182, 'tversky_beta': 2.313318890742582}. Best is trial 140 with value: 0.04284370045176791.\n"
     ]
    },
    {
     "name": "stdout",
     "output_type": "stream",
     "text": [
      "Similarity column 38121 (100.0%), 4695.94 column/sec. Elapsed time 8.12 sec\n",
      "EvaluatorHoldout: Processed 35209 (100.0%) in 8.64 sec. Users per second: 4075\n"
     ]
    },
    {
     "name": "stderr",
     "output_type": "stream",
     "text": [
      "[I 2025-01-07 01:00:48,115] Trial 191 finished with value: 0.04281583284757034 and parameters: {'topK': 4, 'shrink': 20.27140868510724, 'feature_weighting': 'TF-IDF', 'normalize': True, 'tversky_alpha': 0.20389770417249284, 'tversky_beta': 2.280174328131478}. Best is trial 140 with value: 0.04284370045176791.\n"
     ]
    },
    {
     "name": "stdout",
     "output_type": "stream",
     "text": [
      "Similarity column 38121 (100.0%), 4599.51 column/sec. Elapsed time 8.29 sec\n",
      "EvaluatorHoldout: Processed 35209 (100.0%) in 8.59 sec. Users per second: 4098\n"
     ]
    },
    {
     "name": "stderr",
     "output_type": "stream",
     "text": [
      "[I 2025-01-07 01:01:05,168] Trial 192 finished with value: 0.04281525917570525 and parameters: {'topK': 4, 'shrink': 20.369130397098278, 'feature_weighting': 'TF-IDF', 'normalize': True, 'tversky_alpha': 0.20494552809260258, 'tversky_beta': 2.276873143732348}. Best is trial 140 with value: 0.04284370045176791.\n"
     ]
    },
    {
     "name": "stdout",
     "output_type": "stream",
     "text": [
      "Similarity column 38121 (100.0%), 4725.73 column/sec. Elapsed time 8.07 sec\n",
      "EvaluatorHoldout: Processed 35209 (100.0%) in 8.62 sec. Users per second: 4085\n"
     ]
    },
    {
     "name": "stderr",
     "output_type": "stream",
     "text": [
      "[I 2025-01-07 01:01:22,024] Trial 193 finished with value: 0.04271824889649725 and parameters: {'topK': 5, 'shrink': 20.42025466082961, 'feature_weighting': 'TF-IDF', 'normalize': True, 'tversky_alpha': 0.20049324997682155, 'tversky_beta': 2.170961126944987}. Best is trial 140 with value: 0.04284370045176791.\n"
     ]
    },
    {
     "name": "stdout",
     "output_type": "stream",
     "text": [
      "Similarity column 38121 (100.0%), 4623.29 column/sec. Elapsed time 8.25 sec\n",
      "EvaluatorHoldout: Processed 35209 (100.0%) in 8.67 sec. Users per second: 4063\n"
     ]
    },
    {
     "name": "stderr",
     "output_type": "stream",
     "text": [
      "[I 2025-01-07 01:01:39,109] Trial 194 finished with value: 0.042782722175560554 and parameters: {'topK': 4, 'shrink': 20.151847728950187, 'feature_weighting': 'TF-IDF', 'normalize': True, 'tversky_alpha': 0.19273027071084106, 'tversky_beta': 2.352423418471391}. Best is trial 140 with value: 0.04284370045176791.\n"
     ]
    },
    {
     "name": "stdout",
     "output_type": "stream",
     "text": [
      "Similarity column 38121 (100.0%), 1571.25 column/sec. Elapsed time 24.26 sec\n",
      "EvaluatorHoldout: Processed 35209 (100.0%) in 8.63 sec. Users per second: 4080\n"
     ]
    },
    {
     "name": "stderr",
     "output_type": "stream",
     "text": [
      "[I 2025-01-07 01:02:12,164] Trial 195 finished with value: 0.04256280072690492 and parameters: {'topK': 3, 'shrink': 20.8922306448204, 'feature_weighting': 'TF-IDF', 'normalize': True, 'tversky_alpha': 0.18497538817510906, 'tversky_beta': 2.3952676953240504}. Best is trial 140 with value: 0.04284370045176791.\n"
     ]
    },
    {
     "name": "stdout",
     "output_type": "stream",
     "text": [
      "Similarity column 38121 (100.0%), 4631.62 column/sec. Elapsed time 8.23 sec\n",
      "EvaluatorHoldout: Processed 35209 (100.0%) in 8.58 sec. Users per second: 4102\n"
     ]
    },
    {
     "name": "stderr",
     "output_type": "stream",
     "text": [
      "[I 2025-01-07 01:02:29,150] Trial 196 finished with value: 0.04282175891174855 and parameters: {'topK': 4, 'shrink': 21.588629045639685, 'feature_weighting': 'TF-IDF', 'normalize': True, 'tversky_alpha': 0.20692160400891235, 'tversky_beta': 2.2953512917468104}. Best is trial 140 with value: 0.04284370045176791.\n"
     ]
    },
    {
     "name": "stdout",
     "output_type": "stream",
     "text": [
      "Similarity column 38121 (100.0%), 4703.77 column/sec. Elapsed time 8.10 sec\n",
      "EvaluatorHoldout: Processed 35209 (100.0%) in 8.81 sec. Users per second: 3998\n"
     ]
    },
    {
     "name": "stderr",
     "output_type": "stream",
     "text": [
      "[I 2025-01-07 01:02:46,231] Trial 197 finished with value: 0.04247033924857622 and parameters: {'topK': 6, 'shrink': 19.51215706537436, 'feature_weighting': 'TF-IDF', 'normalize': True, 'tversky_alpha': 0.2009812760725947, 'tversky_beta': 2.3177395156235496}. Best is trial 140 with value: 0.04284370045176791.\n"
     ]
    },
    {
     "name": "stdout",
     "output_type": "stream",
     "text": [
      "Similarity column 38121 (100.0%), 4604.12 column/sec. Elapsed time 8.28 sec\n",
      "EvaluatorHoldout: Processed 35209 (100.0%) in 8.68 sec. Users per second: 4057\n"
     ]
    },
    {
     "name": "stderr",
     "output_type": "stream",
     "text": [
      "[I 2025-01-07 01:03:03,360] Trial 198 finished with value: 0.042672029427899764 and parameters: {'topK': 5, 'shrink': 21.761178553483507, 'feature_weighting': 'TF-IDF', 'normalize': True, 'tversky_alpha': 0.1786917263028339, 'tversky_beta': 2.2840213955626036}. Best is trial 140 with value: 0.04284370045176791.\n"
     ]
    },
    {
     "name": "stdout",
     "output_type": "stream",
     "text": [
      "Similarity column 38121 (100.0%), 4603.75 column/sec. Elapsed time 8.28 sec\n",
      "EvaluatorHoldout: Processed 35209 (100.0%) in 8.64 sec. Users per second: 4076\n"
     ]
    },
    {
     "name": "stderr",
     "output_type": "stream",
     "text": [
      "[I 2025-01-07 01:03:20,456] Trial 199 finished with value: 0.042794457090019174 and parameters: {'topK': 4, 'shrink': 22.44521811339705, 'feature_weighting': 'TF-IDF', 'normalize': True, 'tversky_alpha': 0.1931073346934697, 'tversky_beta': 2.261296384254547}. Best is trial 140 with value: 0.04284370045176791.\n"
     ]
    },
    {
     "name": "stdout",
     "output_type": "stream",
     "text": [
      "Similarity column 38121 (100.0%), 1589.32 column/sec. Elapsed time 23.99 sec\n",
      "EvaluatorHoldout: Processed 35209 (100.0%) in 8.51 sec. Users per second: 4135\n"
     ]
    },
    {
     "name": "stderr",
     "output_type": "stream",
     "text": [
      "[I 2025-01-07 01:03:53,122] Trial 200 finished with value: 0.04256892177189396 and parameters: {'topK': 3, 'shrink': 20.026002633613768, 'feature_weighting': 'TF-IDF', 'normalize': True, 'tversky_alpha': 0.2075542606752804, 'tversky_beta': 2.3262199191841333}. Best is trial 140 with value: 0.04284370045176791.\n"
     ]
    },
    {
     "name": "stdout",
     "output_type": "stream",
     "text": [
      "Similarity column 38121 (100.0%), 4685.58 column/sec. Elapsed time 8.14 sec\n",
      "EvaluatorHoldout: Processed 35209 (100.0%) in 8.59 sec. Users per second: 4097\n"
     ]
    },
    {
     "name": "stderr",
     "output_type": "stream",
     "text": [
      "[I 2025-01-07 01:04:10,021] Trial 201 finished with value: 0.04280520244868686 and parameters: {'topK': 4, 'shrink': 21.359485042754326, 'feature_weighting': 'TF-IDF', 'normalize': True, 'tversky_alpha': 0.2094014820801764, 'tversky_beta': 2.164137098384825}. Best is trial 140 with value: 0.04284370045176791.\n"
     ]
    },
    {
     "name": "stdout",
     "output_type": "stream",
     "text": [
      "Similarity column 38121 (100.0%), 4639.16 column/sec. Elapsed time 8.22 sec\n",
      "EvaluatorHoldout: Processed 35209 (100.0%) in 8.84 sec. Users per second: 3982\n"
     ]
    },
    {
     "name": "stderr",
     "output_type": "stream",
     "text": [
      "[I 2025-01-07 01:04:27,251] Trial 202 finished with value: 0.04268079792909927 and parameters: {'topK': 5, 'shrink': 20.497520414626706, 'feature_weighting': 'TF-IDF', 'normalize': True, 'tversky_alpha': 0.20175492673310358, 'tversky_beta': 2.3532811552715236}. Best is trial 140 with value: 0.04284370045176791.\n"
     ]
    },
    {
     "name": "stdout",
     "output_type": "stream",
     "text": [
      "Similarity column 38121 (100.0%), 4614.55 column/sec. Elapsed time 8.26 sec\n",
      "EvaluatorHoldout: Processed 35209 (100.0%) in 8.68 sec. Users per second: 4057\n"
     ]
    },
    {
     "name": "stderr",
     "output_type": "stream",
     "text": [
      "[I 2025-01-07 01:04:44,365] Trial 203 finished with value: 0.04283244115524062 and parameters: {'topK': 4, 'shrink': 20.655876312013646, 'feature_weighting': 'TF-IDF', 'normalize': True, 'tversky_alpha': 0.21001328387051008, 'tversky_beta': 2.235421968947609}. Best is trial 140 with value: 0.04284370045176791.\n"
     ]
    },
    {
     "name": "stdout",
     "output_type": "stream",
     "text": [
      "Similarity column 38121 (100.0%), 4695.98 column/sec. Elapsed time 8.12 sec\n",
      "EvaluatorHoldout: Processed 35209 (100.0%) in 9.09 sec. Users per second: 3875\n"
     ]
    },
    {
     "name": "stderr",
     "output_type": "stream",
     "text": [
      "[I 2025-01-07 01:05:01,741] Trial 204 finished with value: 0.0404175700026177 and parameters: {'topK': 17, 'shrink': 19.84115785432513, 'feature_weighting': 'TF-IDF', 'normalize': True, 'tversky_alpha': 0.18811643499634442, 'tversky_beta': 2.244598943211016}. Best is trial 140 with value: 0.04284370045176791.\n"
     ]
    },
    {
     "name": "stdout",
     "output_type": "stream",
     "text": [
      "Similarity column 38121 (100.0%), 1574.65 column/sec. Elapsed time 24.21 sec\n",
      "EvaluatorHoldout: Processed 35209 (100.0%) in 8.60 sec. Users per second: 4092\n"
     ]
    },
    {
     "name": "stderr",
     "output_type": "stream",
     "text": [
      "[I 2025-01-07 01:05:34,719] Trial 205 finished with value: 0.04258747650650149 and parameters: {'topK': 3, 'shrink': 19.229939526718145, 'feature_weighting': 'TF-IDF', 'normalize': True, 'tversky_alpha': 0.22545352165690316, 'tversky_beta': 2.282748243955581}. Best is trial 140 with value: 0.04284370045176791.\n"
     ]
    },
    {
     "name": "stdout",
     "output_type": "stream",
     "text": [
      "Similarity column 38121 (100.0%), 4651.49 column/sec. Elapsed time 8.20 sec\n",
      "EvaluatorHoldout: Processed 35209 (100.0%) in 8.54 sec. Users per second: 4123\n"
     ]
    },
    {
     "name": "stderr",
     "output_type": "stream",
     "text": [
      "[I 2025-01-07 01:05:51,625] Trial 206 finished with value: 0.042836197635253176 and parameters: {'topK': 4, 'shrink': 20.569788815390496, 'feature_weighting': 'TF-IDF', 'normalize': True, 'tversky_alpha': 0.21287680248742755, 'tversky_beta': 2.2075165618867376}. Best is trial 140 with value: 0.04284370045176791.\n"
     ]
    },
    {
     "name": "stdout",
     "output_type": "stream",
     "text": [
      "Similarity column 38121 (100.0%), 4701.91 column/sec. Elapsed time 8.11 sec\n",
      "EvaluatorHoldout: Processed 35209 (100.0%) in 8.69 sec. Users per second: 4051\n"
     ]
    },
    {
     "name": "stderr",
     "output_type": "stream",
     "text": [
      "[I 2025-01-07 01:06:08,591] Trial 207 finished with value: 0.0428046186333114 and parameters: {'topK': 4, 'shrink': 21.595394106435865, 'feature_weighting': 'TF-IDF', 'normalize': True, 'tversky_alpha': 0.21080167996597435, 'tversky_beta': 2.1849000022694427}. Best is trial 140 with value: 0.04284370045176791.\n"
     ]
    },
    {
     "name": "stdout",
     "output_type": "stream",
     "text": [
      "Similarity column 38121 (100.0%), 4714.45 column/sec. Elapsed time 8.09 sec\n",
      "EvaluatorHoldout: Processed 35209 (100.0%) in 8.69 sec. Users per second: 4054\n"
     ]
    },
    {
     "name": "stderr",
     "output_type": "stream",
     "text": [
      "[I 2025-01-07 01:06:25,535] Trial 208 finished with value: 0.039437050952429185 and parameters: {'topK': 5, 'shrink': 20.483876255826328, 'feature_weighting': 'BM25', 'normalize': True, 'tversky_alpha': 0.22402180657760767, 'tversky_beta': 2.226949633832017}. Best is trial 140 with value: 0.04284370045176791.\n"
     ]
    },
    {
     "name": "stdout",
     "output_type": "stream",
     "text": [
      "Similarity column 38121 (100.0%), 2195.80 column/sec. Elapsed time 17.36 sec\n",
      "EvaluatorHoldout: Processed 35209 (100.0%) in 8.56 sec. Users per second: 4112\n"
     ]
    },
    {
     "name": "stderr",
     "output_type": "stream",
     "text": [
      "[I 2025-01-07 01:06:51,634] Trial 209 finished with value: 0.041471895488480806 and parameters: {'topK': 2, 'shrink': 21.203242704343037, 'feature_weighting': 'TF-IDF', 'normalize': True, 'tversky_alpha': 0.2135434635954141, 'tversky_beta': 2.1399025768571875}. Best is trial 140 with value: 0.04284370045176791.\n"
     ]
    },
    {
     "name": "stdout",
     "output_type": "stream",
     "text": [
      "Similarity column 38121 (100.0%), 4634.16 column/sec. Elapsed time 8.23 sec\n",
      "EvaluatorHoldout: Processed 35209 (100.0%) in 8.69 sec. Users per second: 4053\n"
     ]
    },
    {
     "name": "stderr",
     "output_type": "stream",
     "text": [
      "[I 2025-01-07 01:07:08,715] Trial 210 finished with value: 0.042789002135545505 and parameters: {'topK': 4, 'shrink': 18.86696116420524, 'feature_weighting': 'TF-IDF', 'normalize': True, 'tversky_alpha': 0.19606122369566195, 'tversky_beta': 2.2914694621099696}. Best is trial 140 with value: 0.04284370045176791.\n"
     ]
    },
    {
     "name": "stdout",
     "output_type": "stream",
     "text": [
      "Similarity column 38121 (100.0%), 4615.14 column/sec. Elapsed time 8.26 sec\n",
      "EvaluatorHoldout: Processed 35209 (100.0%) in 8.67 sec. Users per second: 4063\n"
     ]
    },
    {
     "name": "stderr",
     "output_type": "stream",
     "text": [
      "[I 2025-01-07 01:07:25,813] Trial 211 finished with value: 0.04280220898606673 and parameters: {'topK': 4, 'shrink': 19.923949039151353, 'feature_weighting': 'TF-IDF', 'normalize': True, 'tversky_alpha': 0.20184282149481503, 'tversky_beta': 2.244343898335631}. Best is trial 140 with value: 0.04284370045176791.\n"
     ]
    },
    {
     "name": "stdout",
     "output_type": "stream",
     "text": [
      "Similarity column 38121 (100.0%), 1578.13 column/sec. Elapsed time 24.16 sec\n",
      "EvaluatorHoldout: Processed 35209 (100.0%) in 8.58 sec. Users per second: 4104\n"
     ]
    },
    {
     "name": "stderr",
     "output_type": "stream",
     "text": [
      "[I 2025-01-07 01:07:58,717] Trial 212 finished with value: 0.042551928010829125 and parameters: {'topK': 3, 'shrink': 20.32896587454175, 'feature_weighting': 'TF-IDF', 'normalize': True, 'tversky_alpha': 0.21234876224448102, 'tversky_beta': 2.1945233995009206}. Best is trial 140 with value: 0.04284370045176791.\n"
     ]
    },
    {
     "name": "stdout",
     "output_type": "stream",
     "text": [
      "Similarity column 38121 (100.0%), 4657.83 column/sec. Elapsed time 8.18 sec\n",
      "EvaluatorHoldout: Processed 35209 (100.0%) in 8.56 sec. Users per second: 4115\n"
     ]
    },
    {
     "name": "stderr",
     "output_type": "stream",
     "text": [
      "[I 2025-01-07 01:08:15,624] Trial 213 finished with value: 0.042799958253817896 and parameters: {'topK': 4, 'shrink': 19.525257209713583, 'feature_weighting': 'TF-IDF', 'normalize': True, 'tversky_alpha': 0.22193723455499084, 'tversky_beta': 2.3062028688827683}. Best is trial 140 with value: 0.04284370045176791.\n"
     ]
    },
    {
     "name": "stdout",
     "output_type": "stream",
     "text": [
      "Similarity column 38121 (100.0%), 4674.56 column/sec. Elapsed time 8.16 sec\n",
      "EvaluatorHoldout: Processed 35209 (100.0%) in 8.60 sec. Users per second: 4096\n"
     ]
    },
    {
     "name": "stderr",
     "output_type": "stream",
     "text": [
      "[I 2025-01-07 01:08:32,545] Trial 214 finished with value: 0.042695667188266916 and parameters: {'topK': 5, 'shrink': 20.79754016770296, 'feature_weighting': 'TF-IDF', 'normalize': True, 'tversky_alpha': 0.2057462879751519, 'tversky_beta': 2.3501340490768023}. Best is trial 140 with value: 0.04284370045176791.\n"
     ]
    },
    {
     "name": "stdout",
     "output_type": "stream",
     "text": [
      "Similarity column 38121 (100.0%), 1573.22 column/sec. Elapsed time 24.23 sec\n",
      "EvaluatorHoldout: Processed 35209 (100.0%) in 8.67 sec. Users per second: 4061\n"
     ]
    },
    {
     "name": "stderr",
     "output_type": "stream",
     "text": [
      "[I 2025-01-07 01:09:05,618] Trial 215 finished with value: 0.042606374993405284 and parameters: {'topK': 3, 'shrink': 19.430647405162652, 'feature_weighting': 'TF-IDF', 'normalize': True, 'tversky_alpha': 0.30539667307530277, 'tversky_beta': 2.2121052633240135}. Best is trial 140 with value: 0.04284370045176791.\n"
     ]
    },
    {
     "name": "stdout",
     "output_type": "stream",
     "text": [
      "Similarity column 38121 (100.0%), 4734.94 column/sec. Elapsed time 8.05 sec\n",
      "EvaluatorHoldout: Processed 35209 (100.0%) in 8.67 sec. Users per second: 4062\n"
     ]
    },
    {
     "name": "stderr",
     "output_type": "stream",
     "text": [
      "[I 2025-01-07 01:09:22,507] Trial 216 finished with value: 0.04282274621342604 and parameters: {'topK': 4, 'shrink': 20.182715897887633, 'feature_weighting': 'TF-IDF', 'normalize': True, 'tversky_alpha': 0.1978912151945323, 'tversky_beta': 2.2563849423355014}. Best is trial 140 with value: 0.04284370045176791.\n"
     ]
    },
    {
     "name": "stdout",
     "output_type": "stream",
     "text": [
      "Similarity column 38121 (100.0%), 4707.85 column/sec. Elapsed time 8.10 sec\n",
      "EvaluatorHoldout: Processed 35209 (100.0%) in 8.59 sec. Users per second: 4100\n"
     ]
    },
    {
     "name": "stderr",
     "output_type": "stream",
     "text": [
      "[I 2025-01-07 01:09:39,363] Trial 217 finished with value: 0.04271309261205154 and parameters: {'topK': 5, 'shrink': 20.477445720851897, 'feature_weighting': 'TF-IDF', 'normalize': True, 'tversky_alpha': 0.1883940493334507, 'tversky_beta': 2.143262308149379}. Best is trial 140 with value: 0.04284370045176791.\n"
     ]
    },
    {
     "name": "stdout",
     "output_type": "stream",
     "text": [
      "Similarity column 38121 (100.0%), 4619.21 column/sec. Elapsed time 8.25 sec\n",
      "EvaluatorHoldout: Processed 35209 (100.0%) in 8.59 sec. Users per second: 4097\n"
     ]
    },
    {
     "name": "stderr",
     "output_type": "stream",
     "text": [
      "[I 2025-01-07 01:09:56,387] Trial 218 finished with value: 0.042785003338340455 and parameters: {'topK': 4, 'shrink': 21.166770742895817, 'feature_weighting': 'TF-IDF', 'normalize': True, 'tversky_alpha': 0.19662216234775426, 'tversky_beta': 2.3984188443875536}. Best is trial 140 with value: 0.04284370045176791.\n"
     ]
    },
    {
     "name": "stdout",
     "output_type": "stream",
     "text": [
      "Similarity column 38121 (100.0%), 1580.27 column/sec. Elapsed time 24.12 sec\n",
      "EvaluatorHoldout: Processed 35209 (100.0%) in 8.56 sec. Users per second: 4112\n"
     ]
    },
    {
     "name": "stderr",
     "output_type": "stream",
     "text": [
      "[I 2025-01-07 01:10:29,239] Trial 219 finished with value: 0.04256236342890175 and parameters: {'topK': 3, 'shrink': 18.738783713453987, 'feature_weighting': 'TF-IDF', 'normalize': True, 'tversky_alpha': 0.2149538370105545, 'tversky_beta': 2.2520962450343953}. Best is trial 140 with value: 0.04284370045176791.\n"
     ]
    },
    {
     "name": "stdout",
     "output_type": "stream",
     "text": [
      "Similarity column 38121 (100.0%), 4634.65 column/sec. Elapsed time 8.23 sec\n",
      "EvaluatorHoldout: Processed 35209 (100.0%) in 8.65 sec. Users per second: 4068\n"
     ]
    },
    {
     "name": "stderr",
     "output_type": "stream",
     "text": [
      "[I 2025-01-07 01:10:46,287] Trial 220 finished with value: 0.04268030089709036 and parameters: {'topK': 5, 'shrink': 20.03737239306154, 'feature_weighting': 'TF-IDF', 'normalize': True, 'tversky_alpha': 0.18032523011109186, 'tversky_beta': 2.192123276023073}. Best is trial 140 with value: 0.04284370045176791.\n"
     ]
    },
    {
     "name": "stdout",
     "output_type": "stream",
     "text": [
      "Similarity column 38121 (100.0%), 4715.26 column/sec. Elapsed time 8.08 sec\n",
      "EvaluatorHoldout: Processed 35209 (100.0%) in 8.60 sec. Users per second: 4095\n"
     ]
    },
    {
     "name": "stderr",
     "output_type": "stream",
     "text": [
      "[I 2025-01-07 01:11:03,138] Trial 221 finished with value: 0.042813857117158745 and parameters: {'topK': 4, 'shrink': 19.613539272601816, 'feature_weighting': 'TF-IDF', 'normalize': True, 'tversky_alpha': 0.20055174938612308, 'tversky_beta': 2.2768043868335917}. Best is trial 140 with value: 0.04284370045176791.\n"
     ]
    },
    {
     "name": "stdout",
     "output_type": "stream",
     "text": [
      "Similarity column 38121 (100.0%), 4608.65 column/sec. Elapsed time 8.27 sec\n",
      "EvaluatorHoldout: Processed 35209 (100.0%) in 8.65 sec. Users per second: 4070\n"
     ]
    },
    {
     "name": "stderr",
     "output_type": "stream",
     "text": [
      "[I 2025-01-07 01:11:20,238] Trial 222 finished with value: 0.04282312828565058 and parameters: {'topK': 4, 'shrink': 20.645248941842173, 'feature_weighting': 'TF-IDF', 'normalize': True, 'tversky_alpha': 0.19911287956070833, 'tversky_beta': 2.2998654141999757}. Best is trial 140 with value: 0.04284370045176791.\n"
     ]
    },
    {
     "name": "stdout",
     "output_type": "stream",
     "text": [
      "Similarity column 38121 (100.0%), 1569.67 column/sec. Elapsed time 24.29 sec\n",
      "EvaluatorHoldout: Processed 35209 (100.0%) in 8.53 sec. Users per second: 4127\n"
     ]
    },
    {
     "name": "stderr",
     "output_type": "stream",
     "text": [
      "[I 2025-01-07 01:11:53,227] Trial 223 finished with value: 0.04256194303674909 and parameters: {'topK': 3, 'shrink': 20.702249746993324, 'feature_weighting': 'TF-IDF', 'normalize': True, 'tversky_alpha': 0.19070196691350447, 'tversky_beta': 2.335037655169695}. Best is trial 140 with value: 0.04284370045176791.\n"
     ]
    },
    {
     "name": "stdout",
     "output_type": "stream",
     "text": [
      "Similarity column 38121 (100.0%), 4662.81 column/sec. Elapsed time 8.18 sec\n",
      "EvaluatorHoldout: Processed 35209 (100.0%) in 8.58 sec. Users per second: 4103\n"
     ]
    },
    {
     "name": "stderr",
     "output_type": "stream",
     "text": [
      "[I 2025-01-07 01:12:10,153] Trial 224 finished with value: 0.042798905582851314 and parameters: {'topK': 4, 'shrink': 22.10784575289149, 'feature_weighting': 'TF-IDF', 'normalize': True, 'tversky_alpha': 0.19706868604611746, 'tversky_beta': 2.2956474340253985}. Best is trial 140 with value: 0.04284370045176791.\n"
     ]
    },
    {
     "name": "stdout",
     "output_type": "stream",
     "text": [
      "Similarity column 38121 (100.0%), 4628.21 column/sec. Elapsed time 8.24 sec\n",
      "EvaluatorHoldout: Processed 35209 (100.0%) in 8.66 sec. Users per second: 4066\n"
     ]
    },
    {
     "name": "stderr",
     "output_type": "stream",
     "text": [
      "[I 2025-01-07 01:12:27,217] Trial 225 finished with value: 0.04284338600294588 and parameters: {'topK': 4, 'shrink': 21.575433144363462, 'feature_weighting': 'TF-IDF', 'normalize': True, 'tversky_alpha': 0.21354275871852293, 'tversky_beta': 2.2309319086504136}. Best is trial 140 with value: 0.04284370045176791.\n"
     ]
    },
    {
     "name": "stdout",
     "output_type": "stream",
     "text": [
      "Similarity column 38121 (100.0%), 4633.31 column/sec. Elapsed time 8.23 sec\n",
      "EvaluatorHoldout: Processed 35209 (100.0%) in 8.65 sec. Users per second: 4071\n"
     ]
    },
    {
     "name": "stderr",
     "output_type": "stream",
     "text": [
      "[I 2025-01-07 01:12:44,261] Trial 226 finished with value: 0.04278416480814857 and parameters: {'topK': 4, 'shrink': 22.65529671509379, 'feature_weighting': 'TF-IDF', 'normalize': True, 'tversky_alpha': 0.2115860666513466, 'tversky_beta': 2.2267051290477538}. Best is trial 140 with value: 0.04284370045176791.\n"
     ]
    },
    {
     "name": "stdout",
     "output_type": "stream",
     "text": [
      "Similarity column 38121 (100.0%), 4619.39 column/sec. Elapsed time 8.25 sec\n",
      "EvaluatorHoldout: Processed 35209 (100.0%) in 8.73 sec. Users per second: 4034\n"
     ]
    },
    {
     "name": "stderr",
     "output_type": "stream",
     "text": [
      "[I 2025-01-07 01:13:01,412] Trial 227 finished with value: 0.04274781272104244 and parameters: {'topK': 5, 'shrink': 21.473190711184536, 'feature_weighting': 'TF-IDF', 'normalize': True, 'tversky_alpha': 0.1979319757837992, 'tversky_beta': 2.163160064119416}. Best is trial 140 with value: 0.04284370045176791.\n"
     ]
    },
    {
     "name": "stdout",
     "output_type": "stream",
     "text": [
      "Similarity column 38121 (100.0%), 1585.52 column/sec. Elapsed time 24.04 sec\n",
      "EvaluatorHoldout: Processed 35209 (100.0%) in 8.54 sec. Users per second: 4122\n"
     ]
    },
    {
     "name": "stderr",
     "output_type": "stream",
     "text": [
      "[I 2025-01-07 01:13:34,168] Trial 228 finished with value: 0.04259450595919836 and parameters: {'topK': 3, 'shrink': 23.227651960272937, 'feature_weighting': 'TF-IDF', 'normalize': True, 'tversky_alpha': 0.2164444195056054, 'tversky_beta': 2.2073388792393005}. Best is trial 140 with value: 0.04284370045176791.\n"
     ]
    },
    {
     "name": "stdout",
     "output_type": "stream",
     "text": [
      "Similarity column 38121 (100.0%), 4649.06 column/sec. Elapsed time 8.20 sec\n",
      "EvaluatorHoldout: Processed 35209 (100.0%) in 8.59 sec. Users per second: 4097\n"
     ]
    },
    {
     "name": "stderr",
     "output_type": "stream",
     "text": [
      "[I 2025-01-07 01:13:51,137] Trial 229 finished with value: 0.04272682692511274 and parameters: {'topK': 5, 'shrink': 21.877732866219958, 'feature_weighting': 'TF-IDF', 'normalize': True, 'tversky_alpha': 0.18419159199378862, 'tversky_beta': 2.1107040096310206}. Best is trial 140 with value: 0.04284370045176791.\n"
     ]
    },
    {
     "name": "stdout",
     "output_type": "stream",
     "text": [
      "Similarity column 38121 (100.0%), 4694.07 column/sec. Elapsed time 8.12 sec\n",
      "EvaluatorHoldout: Processed 35209 (100.0%) in 8.72 sec. Users per second: 4037\n"
     ]
    },
    {
     "name": "stderr",
     "output_type": "stream",
     "text": [
      "[I 2025-01-07 01:14:08,148] Trial 230 finished with value: 0.042833425075747944 and parameters: {'topK': 4, 'shrink': 21.065350892203217, 'feature_weighting': 'TF-IDF', 'normalize': True, 'tversky_alpha': 0.20762070219697792, 'tversky_beta': 2.2528905527808702}. Best is trial 140 with value: 0.04284370045176791.\n"
     ]
    },
    {
     "name": "stdout",
     "output_type": "stream",
     "text": [
      "Similarity column 38121 (100.0%), 4628.54 column/sec. Elapsed time 8.24 sec\n",
      "EvaluatorHoldout: Processed 35209 (100.0%) in 8.68 sec. Users per second: 4058\n"
     ]
    },
    {
     "name": "stderr",
     "output_type": "stream",
     "text": [
      "[I 2025-01-07 01:14:25,232] Trial 231 finished with value: 0.04280278491204519 and parameters: {'topK': 4, 'shrink': 20.754368480926843, 'feature_weighting': 'TF-IDF', 'normalize': True, 'tversky_alpha': 0.20716713276773846, 'tversky_beta': 2.269839428476724}. Best is trial 140 with value: 0.04284370045176791.\n"
     ]
    },
    {
     "name": "stdout",
     "output_type": "stream",
     "text": [
      "Similarity column 38121 (100.0%), 4607.01 column/sec. Elapsed time 8.27 sec\n",
      "EvaluatorHoldout: Processed 35209 (100.0%) in 8.70 sec. Users per second: 4046\n"
     ]
    },
    {
     "name": "stderr",
     "output_type": "stream",
     "text": [
      "[I 2025-01-07 01:14:42,385] Trial 232 finished with value: 0.04281982713654858 and parameters: {'topK': 4, 'shrink': 21.128871425470287, 'feature_weighting': 'TF-IDF', 'normalize': True, 'tversky_alpha': 0.20202509632768076, 'tversky_beta': 2.232836948051203}. Best is trial 140 with value: 0.04284370045176791.\n"
     ]
    },
    {
     "name": "stdout",
     "output_type": "stream",
     "text": [
      "Similarity column 38121 (100.0%), 4704.81 column/sec. Elapsed time 8.10 sec\n",
      "EvaluatorHoldout: Processed 35209 (100.0%) in 9.35 sec. Users per second: 3766\n"
     ]
    },
    {
     "name": "stderr",
     "output_type": "stream",
     "text": [
      "[I 2025-01-07 01:15:00,013] Trial 233 finished with value: 0.03911325432214807 and parameters: {'topK': 28, 'shrink': 21.182856668832507, 'feature_weighting': 'TF-IDF', 'normalize': True, 'tversky_alpha': 0.2106487947263239, 'tversky_beta': 2.174382483910875}. Best is trial 140 with value: 0.04284370045176791.\n"
     ]
    },
    {
     "name": "stdout",
     "output_type": "stream",
     "text": [
      "Similarity column 38121 (100.0%), 1571.63 column/sec. Elapsed time 24.26 sec\n",
      "EvaluatorHoldout: Processed 35209 (100.0%) in 8.58 sec. Users per second: 4105\n"
     ]
    },
    {
     "name": "stderr",
     "output_type": "stream",
     "text": [
      "[I 2025-01-07 01:15:33,017] Trial 234 finished with value: 0.042529305728557315 and parameters: {'topK': 3, 'shrink': 21.422171589427524, 'feature_weighting': 'TF-IDF', 'normalize': True, 'tversky_alpha': 0.19335487232312729, 'tversky_beta': 2.226778384604992}. Best is trial 140 with value: 0.04284370045176791.\n"
     ]
    },
    {
     "name": "stdout",
     "output_type": "stream",
     "text": [
      "Similarity column 38121 (100.0%), 4668.12 column/sec. Elapsed time 8.17 sec\n",
      "EvaluatorHoldout: Processed 35209 (100.0%) in 8.75 sec. Users per second: 4024\n"
     ]
    },
    {
     "name": "stderr",
     "output_type": "stream",
     "text": [
      "[I 2025-01-07 01:15:50,103] Trial 235 finished with value: 0.04266228376853338 and parameters: {'topK': 5, 'shrink': 20.462227145042707, 'feature_weighting': 'TF-IDF', 'normalize': True, 'tversky_alpha': 0.22059188277057926, 'tversky_beta': 2.136022852027281}. Best is trial 140 with value: 0.04284370045176791.\n"
     ]
    },
    {
     "name": "stdout",
     "output_type": "stream",
     "text": [
      "Similarity column 38121 (100.0%), 4711.55 column/sec. Elapsed time 8.09 sec\n",
      "EvaluatorHoldout: Processed 35209 (100.0%) in 8.64 sec. Users per second: 4077\n"
     ]
    },
    {
     "name": "stderr",
     "output_type": "stream",
     "text": [
      "[I 2025-01-07 01:16:06,998] Trial 236 finished with value: 0.04280396043219312 and parameters: {'topK': 4, 'shrink': 21.03526547922817, 'feature_weighting': 'TF-IDF', 'normalize': True, 'tversky_alpha': 0.20299511654768265, 'tversky_beta': 2.229012051908823}. Best is trial 140 with value: 0.04284370045176791.\n"
     ]
    },
    {
     "name": "stdout",
     "output_type": "stream",
     "text": [
      "Similarity column 38121 (100.0%), 4623.36 column/sec. Elapsed time 8.25 sec\n",
      "EvaluatorHoldout: Processed 35209 (100.0%) in 8.74 sec. Users per second: 4029\n"
     ]
    },
    {
     "name": "stderr",
     "output_type": "stream",
     "text": [
      "[I 2025-01-07 01:16:24,155] Trial 237 finished with value: 0.0427801547403764 and parameters: {'topK': 4, 'shrink': 22.273795901867675, 'feature_weighting': 'TF-IDF', 'normalize': True, 'tversky_alpha': 0.21126683046032257, 'tversky_beta': 2.1922037417682203}. Best is trial 140 with value: 0.04284370045176791.\n"
     ]
    },
    {
     "name": "stdout",
     "output_type": "stream",
     "text": [
      "Similarity column 38121 (100.0%), 1570.54 column/sec. Elapsed time 24.27 sec\n",
      "EvaluatorHoldout: Processed 35209 (100.0%) in 8.53 sec. Users per second: 4129\n"
     ]
    },
    {
     "name": "stderr",
     "output_type": "stream",
     "text": [
      "[I 2025-01-07 01:16:57,133] Trial 238 finished with value: 0.042579917337151336 and parameters: {'topK': 3, 'shrink': 21.91206431020199, 'feature_weighting': 'TF-IDF', 'normalize': True, 'tversky_alpha': 0.23137921180168694, 'tversky_beta': 2.3051206654223133}. Best is trial 140 with value: 0.04284370045176791.\n"
     ]
    },
    {
     "name": "stdout",
     "output_type": "stream",
     "text": [
      "Similarity column 38121 (100.0%), 4624.93 column/sec. Elapsed time 8.24 sec\n",
      "EvaluatorHoldout: Processed 35209 (100.0%) in 8.64 sec. Users per second: 4075\n"
     ]
    },
    {
     "name": "stderr",
     "output_type": "stream",
     "text": [
      "[I 2025-01-07 01:17:14,188] Trial 239 finished with value: 0.042807020391159196 and parameters: {'topK': 4, 'shrink': 20.326672043035344, 'feature_weighting': 'TF-IDF', 'normalize': True, 'tversky_alpha': 0.19121399607749703, 'tversky_beta': 2.0933157055856073}. Best is trial 140 with value: 0.04284370045176791.\n"
     ]
    },
    {
     "name": "stdout",
     "output_type": "stream",
     "text": [
      "Similarity column 38121 (100.0%), 4659.26 column/sec. Elapsed time 8.18 sec\n",
      "EvaluatorHoldout: Processed 35209 (100.0%) in 8.86 sec. Users per second: 3972\n"
     ]
    },
    {
     "name": "stderr",
     "output_type": "stream",
     "text": [
      "[I 2025-01-07 01:17:31,407] Trial 240 finished with value: 0.04268853630046647 and parameters: {'topK': 5, 'shrink': 20.92944058820932, 'feature_weighting': 'TF-IDF', 'normalize': True, 'tversky_alpha': 0.2203467156747041, 'tversky_beta': 2.2513815895967664}. Best is trial 140 with value: 0.04284370045176791.\n"
     ]
    },
    {
     "name": "stdout",
     "output_type": "stream",
     "text": [
      "Similarity column 38121 (100.0%), 4661.28 column/sec. Elapsed time 8.18 sec\n",
      "EvaluatorHoldout: Processed 35209 (100.0%) in 8.48 sec. Users per second: 4153\n"
     ]
    },
    {
     "name": "stderr",
     "output_type": "stream",
     "text": [
      "[I 2025-01-07 01:17:48,238] Trial 241 finished with value: 0.042796792351521194 and parameters: {'topK': 4, 'shrink': 20.18776603872161, 'feature_weighting': 'TF-IDF', 'normalize': True, 'tversky_alpha': 0.19966853070205587, 'tversky_beta': 2.3300586355208437}. Best is trial 140 with value: 0.04284370045176791.\n"
     ]
    },
    {
     "name": "stdout",
     "output_type": "stream",
     "text": [
      "Similarity column 38121 (100.0%), 4640.63 column/sec. Elapsed time 8.21 sec\n",
      "EvaluatorHoldout: Processed 35209 (100.0%) in 8.59 sec. Users per second: 4101\n"
     ]
    },
    {
     "name": "stderr",
     "output_type": "stream",
     "text": [
      "[I 2025-01-07 01:18:05,210] Trial 242 finished with value: 0.04280950104297674 and parameters: {'topK': 4, 'shrink': 19.22883966579675, 'feature_weighting': 'TF-IDF', 'normalize': True, 'tversky_alpha': 0.20145188014017798, 'tversky_beta': 2.282251391363931}. Best is trial 140 with value: 0.04284370045176791.\n"
     ]
    },
    {
     "name": "stdout",
     "output_type": "stream",
     "text": [
      "Similarity column 38121 (100.0%), 1574.49 column/sec. Elapsed time 24.21 sec\n",
      "EvaluatorHoldout: Processed 35209 (100.0%) in 8.65 sec. Users per second: 4069\n"
     ]
    },
    {
     "name": "stderr",
     "output_type": "stream",
     "text": [
      "[I 2025-01-07 01:18:38,246] Trial 243 finished with value: 0.04256469192806352 and parameters: {'topK': 3, 'shrink': 20.23978891025991, 'feature_weighting': 'TF-IDF', 'normalize': True, 'tversky_alpha': 0.2066913119438665, 'tversky_beta': 2.159604021710555}. Best is trial 140 with value: 0.04284370045176791.\n"
     ]
    },
    {
     "name": "stdout",
     "output_type": "stream",
     "text": [
      "Similarity column 38121 (100.0%), 4700.34 column/sec. Elapsed time 8.11 sec\n",
      "EvaluatorHoldout: Processed 35209 (100.0%) in 8.58 sec. Users per second: 4104\n"
     ]
    },
    {
     "name": "stderr",
     "output_type": "stream",
     "text": [
      "[I 2025-01-07 01:18:55,115] Trial 244 finished with value: 0.04282306178930465 and parameters: {'topK': 4, 'shrink': 21.480299703448914, 'feature_weighting': 'TF-IDF', 'normalize': True, 'tversky_alpha': 0.19502111680234185, 'tversky_beta': 2.257826022610101}. Best is trial 140 with value: 0.04284370045176791.\n"
     ]
    },
    {
     "name": "stdout",
     "output_type": "stream",
     "text": [
      "Similarity column 38121 (100.0%), 4632.37 column/sec. Elapsed time 8.23 sec\n",
      "EvaluatorHoldout: Processed 35209 (100.0%) in 8.65 sec. Users per second: 4072\n"
     ]
    },
    {
     "name": "stderr",
     "output_type": "stream",
     "text": [
      "[I 2025-01-07 01:19:12,165] Trial 245 finished with value: 0.042483911265471054 and parameters: {'topK': 5, 'shrink': 21.75052617505679, 'feature_weighting': 'TF-IDF', 'normalize': True, 'tversky_alpha': 0.18709218082346765, 'tversky_beta': 1.5387901811557376}. Best is trial 140 with value: 0.04284370045176791.\n"
     ]
    },
    {
     "name": "stdout",
     "output_type": "stream",
     "text": [
      "Similarity column 38121 (100.0%), 4657.42 column/sec. Elapsed time 8.19 sec\n",
      "EvaluatorHoldout: Processed 35209 (100.0%) in 8.47 sec. Users per second: 4156\n"
     ]
    },
    {
     "name": "stderr",
     "output_type": "stream",
     "text": [
      "[I 2025-01-07 01:19:28,992] Trial 246 finished with value: 0.04281261960889175 and parameters: {'topK': 4, 'shrink': 20.970339033536746, 'feature_weighting': 'TF-IDF', 'normalize': True, 'tversky_alpha': 0.21529329498987787, 'tversky_beta': 2.222232795420277}. Best is trial 140 with value: 0.04284370045176791.\n"
     ]
    },
    {
     "name": "stdout",
     "output_type": "stream",
     "text": [
      "Similarity column 38121 (100.0%), 1575.03 column/sec. Elapsed time 24.20 sec\n",
      "EvaluatorHoldout: Processed 35209 (100.0%) in 8.62 sec. Users per second: 4087\n"
     ]
    },
    {
     "name": "stderr",
     "output_type": "stream",
     "text": [
      "[I 2025-01-07 01:20:01,985] Trial 247 finished with value: 0.03895449035171706 and parameters: {'topK': 3, 'shrink': 21.532701749161216, 'feature_weighting': 'BM25', 'normalize': True, 'tversky_alpha': 0.28924501255141327, 'tversky_beta': 2.3475120265480567}. Best is trial 140 with value: 0.04284370045176791.\n"
     ]
    },
    {
     "name": "stdout",
     "output_type": "stream",
     "text": [
      "Similarity column 38121 (100.0%), 4593.34 column/sec. Elapsed time 8.30 sec\n",
      "EvaluatorHoldout: Processed 35209 (100.0%) in 8.68 sec. Users per second: 4056\n"
     ]
    },
    {
     "name": "stderr",
     "output_type": "stream",
     "text": [
      "[I 2025-01-07 01:20:19,141] Trial 248 finished with value: 0.042832186440424296 and parameters: {'topK': 4, 'shrink': 20.68449411950441, 'feature_weighting': 'TF-IDF', 'normalize': True, 'tversky_alpha': 0.19476485488239487, 'tversky_beta': 2.260023404912781}. Best is trial 140 with value: 0.04284370045176791.\n"
     ]
    },
    {
     "name": "stdout",
     "output_type": "stream",
     "text": [
      "Similarity column 38121 (100.0%), 4596.25 column/sec. Elapsed time 8.29 sec\n",
      "EvaluatorHoldout: Processed 35209 (100.0%) in 8.66 sec. Users per second: 4065\n"
     ]
    },
    {
     "name": "stderr",
     "output_type": "stream",
     "text": [
      "[I 2025-01-07 01:20:36,270] Trial 249 finished with value: 0.04265878651156393 and parameters: {'topK': 5, 'shrink': 21.236394074567926, 'feature_weighting': 'TF-IDF', 'normalize': True, 'tversky_alpha': 0.17058552635425497, 'tversky_beta': 2.2428062481773363}. Best is trial 140 with value: 0.04284370045176791.\n"
     ]
    },
    {
     "name": "stdout",
     "output_type": "stream",
     "text": [
      "Similarity column 38121 (100.0%), 4610.16 column/sec. Elapsed time 8.27 sec\n",
      "EvaluatorHoldout: Processed 35209 (100.0%) in 8.51 sec. Users per second: 4137\n"
     ]
    },
    {
     "name": "stderr",
     "output_type": "stream",
     "text": [
      "[I 2025-01-07 01:20:53,225] Trial 250 finished with value: 0.04280754785369925 and parameters: {'topK': 4, 'shrink': 20.669151296312137, 'feature_weighting': 'TF-IDF', 'normalize': True, 'tversky_alpha': 0.1953840496916172, 'tversky_beta': 2.186590115314173}. Best is trial 140 with value: 0.04284370045176791.\n"
     ]
    },
    {
     "name": "stdout",
     "output_type": "stream",
     "text": [
      "Similarity column 38121 (100.0%), 1587.11 column/sec. Elapsed time 24.02 sec\n",
      "EvaluatorHoldout: Processed 35209 (100.0%) in 8.53 sec. Users per second: 4129\n"
     ]
    },
    {
     "name": "stderr",
     "output_type": "stream",
     "text": [
      "[I 2025-01-07 01:21:25,938] Trial 251 finished with value: 0.042542637682373256 and parameters: {'topK': 3, 'shrink': 21.713479133594696, 'feature_weighting': 'TF-IDF', 'normalize': True, 'tversky_alpha': 0.18115461457517879, 'tversky_beta': 2.1297094097101956}. Best is trial 140 with value: 0.04284370045176791.\n"
     ]
    },
    {
     "name": "stdout",
     "output_type": "stream",
     "text": [
      "Similarity column 38121 (100.0%), 4705.76 column/sec. Elapsed time 8.10 sec\n",
      "EvaluatorHoldout: Processed 35209 (100.0%) in 8.60 sec. Users per second: 4096\n"
     ]
    },
    {
     "name": "stderr",
     "output_type": "stream",
     "text": [
      "[I 2025-01-07 01:21:42,802] Trial 252 finished with value: 0.04246184349510046 and parameters: {'topK': 6, 'shrink': 20.65520080572516, 'feature_weighting': 'TF-IDF', 'normalize': True, 'tversky_alpha': 0.19362836581362555, 'tversky_beta': 2.2538054758780643}. Best is trial 140 with value: 0.04284370045176791.\n"
     ]
    },
    {
     "name": "stdout",
     "output_type": "stream",
     "text": [
      "Similarity column 38121 (100.0%), 4711.12 column/sec. Elapsed time 8.09 sec\n",
      "EvaluatorHoldout: Processed 35209 (100.0%) in 8.67 sec. Users per second: 4061\n"
     ]
    },
    {
     "name": "stderr",
     "output_type": "stream",
     "text": [
      "[I 2025-01-07 01:21:59,730] Trial 253 finished with value: 0.04280663944599144 and parameters: {'topK': 4, 'shrink': 22.779403008289577, 'feature_weighting': 'TF-IDF', 'normalize': True, 'tversky_alpha': 0.20788053500507328, 'tversky_beta': 2.1998663258739017}. Best is trial 140 with value: 0.04284370045176791.\n"
     ]
    },
    {
     "name": "stdout",
     "output_type": "stream",
     "text": [
      "Similarity column 38121 (100.0%), 4702.45 column/sec. Elapsed time 8.11 sec\n",
      "EvaluatorHoldout: Processed 35209 (100.0%) in 8.65 sec. Users per second: 4071\n"
     ]
    },
    {
     "name": "stderr",
     "output_type": "stream",
     "text": [
      "[I 2025-01-07 01:22:16,656] Trial 254 finished with value: 0.04279483578107352 and parameters: {'topK': 4, 'shrink': 21.129315053431956, 'feature_weighting': 'TF-IDF', 'normalize': True, 'tversky_alpha': 0.185182579601771, 'tversky_beta': 2.0862798240460183}. Best is trial 140 with value: 0.04284370045176791.\n"
     ]
    },
    {
     "name": "stdout",
     "output_type": "stream",
     "text": [
      "Similarity column 38121 (100.0%), 4687.97 column/sec. Elapsed time 8.13 sec\n",
      "EvaluatorHoldout: Processed 35209 (100.0%) in 8.62 sec. Users per second: 4084\n"
     ]
    },
    {
     "name": "stderr",
     "output_type": "stream",
     "text": [
      "[I 2025-01-07 01:22:33,583] Trial 255 finished with value: 0.04270782136782144 and parameters: {'topK': 5, 'shrink': 20.03879162559694, 'feature_weighting': 'TF-IDF', 'normalize': True, 'tversky_alpha': 0.19919425131868682, 'tversky_beta': 2.304020772473173}. Best is trial 140 with value: 0.04284370045176791.\n"
     ]
    },
    {
     "name": "stdout",
     "output_type": "stream",
     "text": [
      "Similarity column 38121 (100.0%), 1564.84 column/sec. Elapsed time 24.36 sec\n",
      "EvaluatorHoldout: Processed 35209 (100.0%) in 8.57 sec. Users per second: 4110\n"
     ]
    },
    {
     "name": "stderr",
     "output_type": "stream",
     "text": [
      "[I 2025-01-07 01:23:06,680] Trial 256 finished with value: 0.04258800058787146 and parameters: {'topK': 3, 'shrink': 22.273601964291213, 'feature_weighting': 'TF-IDF', 'normalize': True, 'tversky_alpha': 0.21259465680833453, 'tversky_beta': 2.130328522383138}. Best is trial 140 with value: 0.04284370045176791.\n"
     ]
    },
    {
     "name": "stdout",
     "output_type": "stream",
     "text": [
      "Similarity column 38121 (100.0%), 4663.57 column/sec. Elapsed time 8.17 sec\n",
      "EvaluatorHoldout: Processed 35209 (100.0%) in 8.73 sec. Users per second: 4033\n"
     ]
    },
    {
     "name": "stderr",
     "output_type": "stream",
     "text": [
      "[I 2025-01-07 01:23:23,759] Trial 257 finished with value: 0.04126269798441533 and parameters: {'topK': 5, 'shrink': 20.603751076811953, 'feature_weighting': 'TF-IDF', 'normalize': True, 'tversky_alpha': 0.34981170129833933, 'tversky_beta': 0.8034663593300593}. Best is trial 140 with value: 0.04284370045176791.\n"
     ]
    },
    {
     "name": "stdout",
     "output_type": "stream",
     "text": [
      "Similarity column 38121 (100.0%), 1585.53 column/sec. Elapsed time 24.04 sec\n",
      "EvaluatorHoldout: Processed 35209 (100.0%) in 8.61 sec. Users per second: 4090\n"
     ]
    },
    {
     "name": "stderr",
     "output_type": "stream",
     "text": [
      "[I 2025-01-07 01:23:56,582] Trial 258 finished with value: 0.042620172421642254 and parameters: {'topK': 3, 'shrink': 21.441993695746156, 'feature_weighting': 'TF-IDF', 'normalize': True, 'tversky_alpha': 0.22690767926512262, 'tversky_beta': 2.17440424693205}. Best is trial 140 with value: 0.04284370045176791.\n"
     ]
    },
    {
     "name": "stdout",
     "output_type": "stream",
     "text": [
      "Similarity column 38121 (100.0%), 4694.98 column/sec. Elapsed time 8.12 sec\n",
      "EvaluatorHoldout: Processed 35209 (100.0%) in 8.63 sec. Users per second: 4081\n"
     ]
    },
    {
     "name": "stderr",
     "output_type": "stream",
     "text": [
      "[I 2025-01-07 01:24:13,498] Trial 259 finished with value: 0.04282228524723193 and parameters: {'topK': 4, 'shrink': 20.219427344579575, 'feature_weighting': 'TF-IDF', 'normalize': True, 'tversky_alpha': 0.1914827542601185, 'tversky_beta': 2.251015204053699}. Best is trial 140 with value: 0.04284370045176791.\n"
     ]
    },
    {
     "name": "stdout",
     "output_type": "stream",
     "text": [
      "Similarity column 38121 (100.0%), 4707.02 column/sec. Elapsed time 8.10 sec\n",
      "EvaluatorHoldout: Processed 35209 (100.0%) in 8.67 sec. Users per second: 4060\n"
     ]
    },
    {
     "name": "stderr",
     "output_type": "stream",
     "text": [
      "[I 2025-01-07 01:24:30,437] Trial 260 finished with value: 0.04282256024906895 and parameters: {'topK': 4, 'shrink': 20.35823624605535, 'feature_weighting': 'TF-IDF', 'normalize': True, 'tversky_alpha': 0.17723884620791083, 'tversky_beta': 2.2216454115684905}. Best is trial 140 with value: 0.04284370045176791.\n"
     ]
    },
    {
     "name": "stdout",
     "output_type": "stream",
     "text": [
      "Similarity column 38121 (100.0%), 1571.23 column/sec. Elapsed time 24.26 sec\n",
      "EvaluatorHoldout: Processed 35209 (100.0%) in 8.54 sec. Users per second: 4121\n"
     ]
    },
    {
     "name": "stderr",
     "output_type": "stream",
     "text": [
      "[I 2025-01-07 01:25:03,416] Trial 261 finished with value: 0.04256054435937273 and parameters: {'topK': 3, 'shrink': 20.92595616720131, 'feature_weighting': 'TF-IDF', 'normalize': True, 'tversky_alpha': 0.16538864244087917, 'tversky_beta': 2.215626044932764}. Best is trial 140 with value: 0.04284370045176791.\n"
     ]
    },
    {
     "name": "stdout",
     "output_type": "stream",
     "text": [
      "Similarity column 38121 (100.0%), 2183.49 column/sec. Elapsed time 17.46 sec\n",
      "EvaluatorHoldout: Processed 35209 (100.0%) in 8.65 sec. Users per second: 4069\n"
     ]
    },
    {
     "name": "stderr",
     "output_type": "stream",
     "text": [
      "[I 2025-01-07 01:25:29,702] Trial 262 finished with value: 0.04148054902989583 and parameters: {'topK': 2, 'shrink': 20.259615566862042, 'feature_weighting': 'TF-IDF', 'normalize': True, 'tversky_alpha': 0.17812368947195872, 'tversky_beta': 2.051330233433946}. Best is trial 140 with value: 0.04284370045176791.\n"
     ]
    },
    {
     "name": "stdout",
     "output_type": "stream",
     "text": [
      "Similarity column 38121 (100.0%), 4600.80 column/sec. Elapsed time 8.29 sec\n",
      "EvaluatorHoldout: Processed 35209 (100.0%) in 8.66 sec. Users per second: 4065\n"
     ]
    },
    {
     "name": "stderr",
     "output_type": "stream",
     "text": [
      "[I 2025-01-07 01:25:46,822] Trial 263 finished with value: 0.042810065698388196 and parameters: {'topK': 4, 'shrink': 21.219344086017696, 'feature_weighting': 'TF-IDF', 'normalize': True, 'tversky_alpha': 0.18937796686719768, 'tversky_beta': 2.173717085973665}. Best is trial 140 with value: 0.04284370045176791.\n"
     ]
    },
    {
     "name": "stdout",
     "output_type": "stream",
     "text": [
      "Similarity column 38121 (100.0%), 4618.43 column/sec. Elapsed time 8.25 sec\n",
      "EvaluatorHoldout: Processed 35209 (100.0%) in 8.78 sec. Users per second: 4011\n"
     ]
    },
    {
     "name": "stderr",
     "output_type": "stream",
     "text": [
      "[I 2025-01-07 01:26:04,026] Trial 264 finished with value: 0.04267302011074739 and parameters: {'topK': 5, 'shrink': 22.005379611868552, 'feature_weighting': 'TF-IDF', 'normalize': True, 'tversky_alpha': 0.17837533249584855, 'tversky_beta': 2.233752679310102}. Best is trial 140 with value: 0.04284370045176791.\n"
     ]
    },
    {
     "name": "stdout",
     "output_type": "stream",
     "text": [
      "Similarity column 38121 (100.0%), 4688.25 column/sec. Elapsed time 8.13 sec\n",
      "EvaluatorHoldout: Processed 35209 (100.0%) in 8.73 sec. Users per second: 4034\n"
     ]
    },
    {
     "name": "stderr",
     "output_type": "stream",
     "text": [
      "[I 2025-01-07 01:26:21,061] Trial 265 finished with value: 0.042712653059934706 and parameters: {'topK': 5, 'shrink': 18.916967153802414, 'feature_weighting': 'TF-IDF', 'normalize': True, 'tversky_alpha': 0.17450458128469054, 'tversky_beta': 2.1435967672166885}. Best is trial 140 with value: 0.04284370045176791.\n"
     ]
    },
    {
     "name": "stdout",
     "output_type": "stream",
     "text": [
      "Similarity column 38121 (100.0%), 4622.23 column/sec. Elapsed time 8.25 sec\n",
      "EvaluatorHoldout: Processed 35209 (100.0%) in 8.65 sec. Users per second: 4071\n"
     ]
    },
    {
     "name": "stderr",
     "output_type": "stream",
     "text": [
      "[I 2025-01-07 01:26:38,140] Trial 266 finished with value: 0.04282783374741245 and parameters: {'topK': 4, 'shrink': 19.946243410710018, 'feature_weighting': 'TF-IDF', 'normalize': True, 'tversky_alpha': 0.19060798890232966, 'tversky_beta': 2.0985063461582256}. Best is trial 140 with value: 0.04284370045176791.\n"
     ]
    },
    {
     "name": "stdout",
     "output_type": "stream",
     "text": [
      "Similarity column 38121 (100.0%), 4685.99 column/sec. Elapsed time 8.14 sec\n",
      "EvaluatorHoldout: Processed 35209 (100.0%) in 8.63 sec. Users per second: 4080\n"
     ]
    },
    {
     "name": "stderr",
     "output_type": "stream",
     "text": [
      "[I 2025-01-07 01:26:55,077] Trial 267 finished with value: 0.03935316750271605 and parameters: {'topK': 6, 'shrink': 19.559088890103855, 'feature_weighting': 'BM25', 'normalize': True, 'tversky_alpha': 0.18524118658978858, 'tversky_beta': 2.084600691987741}. Best is trial 140 with value: 0.04284370045176791.\n"
     ]
    },
    {
     "name": "stdout",
     "output_type": "stream",
     "text": [
      "Similarity column 38121 (100.0%), 4683.70 column/sec. Elapsed time 8.14 sec\n",
      "EvaluatorHoldout: Processed 35209 (100.0%) in 8.61 sec. Users per second: 4089\n"
     ]
    },
    {
     "name": "stderr",
     "output_type": "stream",
     "text": [
      "[I 2025-01-07 01:27:11,993] Trial 268 finished with value: 0.04279149180381672 and parameters: {'topK': 4, 'shrink': 18.530146076631006, 'feature_weighting': 'TF-IDF', 'normalize': True, 'tversky_alpha': 0.16995294209980444, 'tversky_beta': 2.1101225203097775}. Best is trial 140 with value: 0.04284370045176791.\n"
     ]
    },
    {
     "name": "stdout",
     "output_type": "stream",
     "text": [
      "Similarity column 38121 (100.0%), 1574.82 column/sec. Elapsed time 24.21 sec\n",
      "EvaluatorHoldout: Processed 35209 (100.0%) in 8.70 sec. Users per second: 4045\n"
     ]
    },
    {
     "name": "stderr",
     "output_type": "stream",
     "text": [
      "[I 2025-01-07 01:27:45,073] Trial 269 finished with value: 0.04255389810595721 and parameters: {'topK': 3, 'shrink': 19.306219040346416, 'feature_weighting': 'TF-IDF', 'normalize': True, 'tversky_alpha': 0.19309651784393653, 'tversky_beta': 2.1541249370714546}. Best is trial 140 with value: 0.04284370045176791.\n"
     ]
    },
    {
     "name": "stdout",
     "output_type": "stream",
     "text": [
      "Similarity column 38121 (100.0%), 4640.70 column/sec. Elapsed time 8.21 sec\n",
      "EvaluatorHoldout: Processed 35209 (100.0%) in 8.66 sec. Users per second: 4066\n"
     ]
    },
    {
     "name": "stderr",
     "output_type": "stream",
     "text": [
      "[I 2025-01-07 01:28:02,118] Trial 270 finished with value: 0.0414502019009373 and parameters: {'topK': 4, 'shrink': 20.66982608733689, 'feature_weighting': 'TF-IDF', 'normalize': True, 'tversky_alpha': 0.1916942678900439, 'tversky_beta': 0.6662777581742656}. Best is trial 140 with value: 0.04284370045176791.\n"
     ]
    },
    {
     "name": "stdout",
     "output_type": "stream",
     "text": [
      "Similarity column 38121 (100.0%), 4609.99 column/sec. Elapsed time 8.27 sec\n",
      "EvaluatorHoldout: Processed 35209 (100.0%) in 9.25 sec. Users per second: 3807\n"
     ]
    },
    {
     "name": "stderr",
     "output_type": "stream",
     "text": [
      "[I 2025-01-07 01:28:19,812] Trial 271 finished with value: 0.039632150104115936 and parameters: {'topK': 23, 'shrink': 20.037135261266666, 'feature_weighting': 'TF-IDF', 'normalize': True, 'tversky_alpha': 0.1839015550608442, 'tversky_beta': 2.059299511087933}. Best is trial 140 with value: 0.04284370045176791.\n"
     ]
    },
    {
     "name": "stdout",
     "output_type": "stream",
     "text": [
      "Similarity column 38121 (100.0%), 4664.73 column/sec. Elapsed time 8.17 sec\n",
      "EvaluatorHoldout: Processed 35209 (100.0%) in 8.69 sec. Users per second: 4050\n"
     ]
    },
    {
     "name": "stderr",
     "output_type": "stream",
     "text": [
      "[I 2025-01-07 01:28:36,846] Trial 272 finished with value: 0.042636096605889504 and parameters: {'topK': 5, 'shrink': 21.60106999208242, 'feature_weighting': 'TF-IDF', 'normalize': True, 'tversky_alpha': 0.15854567864044294, 'tversky_beta': 2.197451185643887}. Best is trial 140 with value: 0.04284370045176791.\n"
     ]
    },
    {
     "name": "stdout",
     "output_type": "stream",
     "text": [
      "Similarity column 38121 (100.0%), 2192.76 column/sec. Elapsed time 17.38 sec\n",
      "EvaluatorHoldout: Processed 35209 (100.0%) in 8.54 sec. Users per second: 4121\n"
     ]
    },
    {
     "name": "stderr",
     "output_type": "stream",
     "text": [
      "[I 2025-01-07 01:29:02,944] Trial 273 finished with value: 0.04151652355300434 and parameters: {'topK': 2, 'shrink': 20.937606404329102, 'feature_weighting': 'TF-IDF', 'normalize': True, 'tversky_alpha': 0.20150128060363648, 'tversky_beta': 2.109685931028168}. Best is trial 140 with value: 0.04284370045176791.\n"
     ]
    },
    {
     "name": "stdout",
     "output_type": "stream",
     "text": [
      "Similarity column 38121 (100.0%), 4664.08 column/sec. Elapsed time 8.17 sec\n",
      "EvaluatorHoldout: Processed 35209 (100.0%) in 8.63 sec. Users per second: 4082\n"
     ]
    },
    {
     "name": "stderr",
     "output_type": "stream",
     "text": [
      "[I 2025-01-07 01:29:19,911] Trial 274 finished with value: 0.04281543725066539 and parameters: {'topK': 4, 'shrink': 19.84998461508551, 'feature_weighting': 'TF-IDF', 'normalize': True, 'tversky_alpha': 0.19813756064491786, 'tversky_beta': 2.2111130812180364}. Best is trial 140 with value: 0.04284370045176791.\n"
     ]
    },
    {
     "name": "stdout",
     "output_type": "stream",
     "text": [
      "Similarity column 38121 (100.0%), 4624.27 column/sec. Elapsed time 8.24 sec\n",
      "EvaluatorHoldout: Processed 35209 (100.0%) in 8.98 sec. Users per second: 3922\n"
     ]
    },
    {
     "name": "stderr",
     "output_type": "stream",
     "text": [
      "[I 2025-01-07 01:29:37,307] Trial 275 finished with value: 0.04082504946651732 and parameters: {'topK': 14, 'shrink': 20.558560649090158, 'feature_weighting': 'TF-IDF', 'normalize': True, 'tversky_alpha': 0.21855105746548933, 'tversky_beta': 2.030935170011504}. Best is trial 140 with value: 0.04284370045176791.\n"
     ]
    },
    {
     "name": "stdout",
     "output_type": "stream",
     "text": [
      "Similarity column 38121 (100.0%), 4681.33 column/sec. Elapsed time 8.14 sec\n",
      "EvaluatorHoldout: Processed 35209 (100.0%) in 8.79 sec. Users per second: 4007\n"
     ]
    },
    {
     "name": "stderr",
     "output_type": "stream",
     "text": [
      "[I 2025-01-07 01:29:54,406] Trial 276 finished with value: 0.042480166056025795 and parameters: {'topK': 5, 'shrink': 21.317093530706046, 'feature_weighting': 'TF-IDF', 'normalize': True, 'tversky_alpha': 0.46756354013411827, 'tversky_beta': 2.1621815415425503}. Best is trial 140 with value: 0.04284370045176791.\n"
     ]
    },
    {
     "name": "stdout",
     "output_type": "stream",
     "text": [
      "Similarity column 38121 (100.0%), 4645.85 column/sec. Elapsed time 8.21 sec\n",
      "EvaluatorHoldout: Processed 35209 (100.0%) in 9.07 sec. Users per second: 3880\n"
     ]
    },
    {
     "name": "stderr",
     "output_type": "stream",
     "text": [
      "[I 2025-01-07 01:30:11,867] Trial 277 finished with value: 0.040177617375065304 and parameters: {'topK': 19, 'shrink': 19.153758548675192, 'feature_weighting': 'TF-IDF', 'normalize': True, 'tversky_alpha': 0.1915561191407423, 'tversky_beta': 2.3225748024586306}. Best is trial 140 with value: 0.04284370045176791.\n"
     ]
    },
    {
     "name": "stdout",
     "output_type": "stream",
     "text": [
      "Similarity column 38121 (100.0%), 1577.12 column/sec. Elapsed time 24.17 sec\n",
      "EvaluatorHoldout: Processed 35209 (100.0%) in 8.64 sec. Users per second: 4073\n"
     ]
    },
    {
     "name": "stderr",
     "output_type": "stream",
     "text": [
      "[I 2025-01-07 01:30:44,853] Trial 278 finished with value: 0.04247356263076546 and parameters: {'topK': 3, 'shrink': 27.730202960407745, 'feature_weighting': 'TF-IDF', 'normalize': True, 'tversky_alpha': 0.17518610928002176, 'tversky_beta': 2.2403658719019184}. Best is trial 140 with value: 0.04284370045176791.\n"
     ]
    },
    {
     "name": "stdout",
     "output_type": "stream",
     "text": [
      "Similarity column 38121 (100.0%), 4684.83 column/sec. Elapsed time 8.14 sec\n",
      "EvaluatorHoldout: Processed 35209 (100.0%) in 8.71 sec. Users per second: 4044\n"
     ]
    },
    {
     "name": "stderr",
     "output_type": "stream",
     "text": [
      "[I 2025-01-07 01:31:01,864] Trial 279 finished with value: 0.042707027919898076 and parameters: {'topK': 4, 'shrink': 19.91213907367781, 'feature_weighting': 'TF-IDF', 'normalize': True, 'tversky_alpha': 0.3281223566523236, 'tversky_beta': 2.3608449075179667}. Best is trial 140 with value: 0.04284370045176791.\n"
     ]
    },
    {
     "name": "stdout",
     "output_type": "stream",
     "text": [
      "Similarity column 38121 (100.0%), 4732.07 column/sec. Elapsed time 8.06 sec\n",
      "EvaluatorHoldout: Processed 35209 (100.0%) in 8.71 sec. Users per second: 4044\n"
     ]
    },
    {
     "name": "stderr",
     "output_type": "stream",
     "text": [
      "[I 2025-01-07 01:31:18,794] Trial 280 finished with value: 0.04265692912210684 and parameters: {'topK': 5, 'shrink': 22.106257900204632, 'feature_weighting': 'TF-IDF', 'normalize': True, 'tversky_alpha': 0.2115259728449812, 'tversky_beta': 2.084181283025574}. Best is trial 140 with value: 0.04284370045176791.\n"
     ]
    },
    {
     "name": "stdout",
     "output_type": "stream",
     "text": [
      "Similarity column 38121 (100.0%), 1577.03 column/sec. Elapsed time 24.17 sec\n",
      "EvaluatorHoldout: Processed 35209 (100.0%) in 8.59 sec. Users per second: 4099\n"
     ]
    },
    {
     "name": "stderr",
     "output_type": "stream",
     "text": [
      "[I 2025-01-07 01:31:51,725] Trial 281 finished with value: 0.042551799526364294 and parameters: {'topK': 3, 'shrink': 20.875808241641113, 'feature_weighting': 'TF-IDF', 'normalize': True, 'tversky_alpha': 0.1991056951157524, 'tversky_beta': 2.130461795772624}. Best is trial 140 with value: 0.04284370045176791.\n"
     ]
    },
    {
     "name": "stdout",
     "output_type": "stream",
     "text": [
      "Similarity column 38121 (100.0%), 4689.20 column/sec. Elapsed time 8.13 sec\n",
      "EvaluatorHoldout: Processed 35209 (100.0%) in 8.60 sec. Users per second: 4093\n"
     ]
    },
    {
     "name": "stderr",
     "output_type": "stream",
     "text": [
      "[I 2025-01-07 01:32:08,626] Trial 282 finished with value: 0.04280655153556819 and parameters: {'topK': 4, 'shrink': 20.27538385210885, 'feature_weighting': 'TF-IDF', 'normalize': True, 'tversky_alpha': 0.1861551503843191, 'tversky_beta': 2.2492084058148185}. Best is trial 140 with value: 0.04284370045176791.\n"
     ]
    },
    {
     "name": "stdout",
     "output_type": "stream",
     "text": [
      "Similarity column 38121 (100.0%), 4672.90 column/sec. Elapsed time 8.16 sec\n",
      "EvaluatorHoldout: Processed 35209 (100.0%) in 8.67 sec. Users per second: 4060\n"
     ]
    },
    {
     "name": "stderr",
     "output_type": "stream",
     "text": [
      "[I 2025-01-07 01:32:25,634] Trial 283 finished with value: 0.04246618491754527 and parameters: {'topK': 6, 'shrink': 19.455724439646403, 'feature_weighting': 'TF-IDF', 'normalize': True, 'tversky_alpha': 0.21046465291904104, 'tversky_beta': 2.1939842173355575}. Best is trial 140 with value: 0.04284370045176791.\n"
     ]
    },
    {
     "name": "stdout",
     "output_type": "stream",
     "text": [
      "Similarity column 38121 (100.0%), 1576.20 column/sec. Elapsed time 24.19 sec\n",
      "EvaluatorHoldout: Processed 35209 (100.0%) in 8.66 sec. Users per second: 4064\n"
     ]
    },
    {
     "name": "stderr",
     "output_type": "stream",
     "text": [
      "[I 2025-01-07 01:32:58,655] Trial 284 finished with value: 0.04253705649754798 and parameters: {'topK': 3, 'shrink': 18.565686618745016, 'feature_weighting': 'TF-IDF', 'normalize': True, 'tversky_alpha': 0.21871296204317336, 'tversky_beta': 2.316347667656041}. Best is trial 140 with value: 0.04284370045176791.\n"
     ]
    },
    {
     "name": "stdout",
     "output_type": "stream",
     "text": [
      "Similarity column 38121 (100.0%), 4720.30 column/sec. Elapsed time 8.08 sec\n",
      "EvaluatorHoldout: Processed 35209 (100.0%) in 8.70 sec. Users per second: 4048\n"
     ]
    },
    {
     "name": "stderr",
     "output_type": "stream",
     "text": [
      "[I 2025-01-07 01:33:15,602] Trial 285 finished with value: 0.04280204443578706 and parameters: {'topK': 4, 'shrink': 21.654131248949945, 'feature_weighting': 'TF-IDF', 'normalize': True, 'tversky_alpha': 0.2060272916644361, 'tversky_beta': 2.157992555829999}. Best is trial 140 with value: 0.04284370045176791.\n"
     ]
    },
    {
     "name": "stdout",
     "output_type": "stream",
     "text": [
      "Similarity column 38121 (100.0%), 4645.48 column/sec. Elapsed time 8.21 sec\n",
      "EvaluatorHoldout: Processed 35209 (100.0%) in 8.63 sec. Users per second: 4081\n"
     ]
    },
    {
     "name": "stderr",
     "output_type": "stream",
     "text": [
      "[I 2025-01-07 01:33:32,607] Trial 286 finished with value: 0.04279005029828529 and parameters: {'topK': 4, 'shrink': 22.732561391174567, 'feature_weighting': 'TF-IDF', 'normalize': True, 'tversky_alpha': 0.19528999014614157, 'tversky_beta': 2.2759096620671966}. Best is trial 140 with value: 0.04284370045176791.\n"
     ]
    },
    {
     "name": "stdout",
     "output_type": "stream",
     "text": [
      "Similarity column 38121 (100.0%), 4659.16 column/sec. Elapsed time 8.18 sec\n",
      "EvaluatorHoldout: Processed 35209 (100.0%) in 8.64 sec. Users per second: 4074\n"
     ]
    },
    {
     "name": "stderr",
     "output_type": "stream",
     "text": [
      "[I 2025-01-07 01:33:49,600] Trial 287 finished with value: 0.04264044704478812 and parameters: {'topK': 5, 'shrink': 20.58490016019612, 'feature_weighting': 'TF-IDF', 'normalize': True, 'tversky_alpha': 0.22508890846436924, 'tversky_beta': 2.2123483131781843}. Best is trial 140 with value: 0.04284370045176791.\n"
     ]
    },
    {
     "name": "stdout",
     "output_type": "stream",
     "text": [
      "Similarity column 38121 (100.0%), 4643.79 column/sec. Elapsed time 8.21 sec\n",
      "EvaluatorHoldout: Processed 35209 (100.0%) in 8.60 sec. Users per second: 4096\n"
     ]
    },
    {
     "name": "stderr",
     "output_type": "stream",
     "text": [
      "[I 2025-01-07 01:34:06,582] Trial 288 finished with value: 0.03951343383974115 and parameters: {'topK': 4, 'shrink': 19.793027544618415, 'feature_weighting': 'BM25', 'normalize': True, 'tversky_alpha': 0.1809509685756951, 'tversky_beta': 2.042546585827007}. Best is trial 140 with value: 0.04284370045176791.\n"
     ]
    },
    {
     "name": "stdout",
     "output_type": "stream",
     "text": [
      "Similarity column 38121 (100.0%), 1578.28 column/sec. Elapsed time 24.15 sec\n",
      "EvaluatorHoldout: Processed 35209 (100.0%) in 8.56 sec. Users per second: 4112\n"
     ]
    },
    {
     "name": "stderr",
     "output_type": "stream",
     "text": [
      "[I 2025-01-07 01:34:39,470] Trial 289 finished with value: 0.042584517982639174 and parameters: {'topK': 3, 'shrink': 21.135264548039892, 'feature_weighting': 'TF-IDF', 'normalize': True, 'tversky_alpha': 0.20491464932548276, 'tversky_beta': 2.11190275529988}. Best is trial 140 with value: 0.04284370045176791.\n"
     ]
    },
    {
     "name": "stdout",
     "output_type": "stream",
     "text": [
      "Similarity column 38121 (100.0%), 4715.09 column/sec. Elapsed time 8.08 sec\n",
      "EvaluatorHoldout: Processed 35209 (100.0%) in 8.68 sec. Users per second: 4057\n"
     ]
    },
    {
     "name": "stderr",
     "output_type": "stream",
     "text": [
      "[I 2025-01-07 01:34:56,404] Trial 290 finished with value: 0.04268581671262634 and parameters: {'topK': 5, 'shrink': 20.178207245794116, 'feature_weighting': 'TF-IDF', 'normalize': True, 'tversky_alpha': 0.1914445705730318, 'tversky_beta': 2.248753647579075}. Best is trial 140 with value: 0.04284370045176791.\n"
     ]
    },
    {
     "name": "stdout",
     "output_type": "stream",
     "text": [
      "Similarity column 38121 (100.0%), 2213.33 column/sec. Elapsed time 17.22 sec\n",
      "EvaluatorHoldout: Processed 35209 (100.0%) in 8.59 sec. Users per second: 4101\n"
     ]
    },
    {
     "name": "stderr",
     "output_type": "stream",
     "text": [
      "[I 2025-01-07 01:35:22,383] Trial 291 finished with value: 0.04148416800898972 and parameters: {'topK': 2, 'shrink': 19.043146854506585, 'feature_weighting': 'TF-IDF', 'normalize': True, 'tversky_alpha': 0.19885637983643847, 'tversky_beta': 2.1726900549935926}. Best is trial 140 with value: 0.04284370045176791.\n"
     ]
    },
    {
     "name": "stdout",
     "output_type": "stream",
     "text": [
      "Similarity column 38121 (100.0%), 4617.10 column/sec. Elapsed time 8.26 sec\n",
      "EvaluatorHoldout: Processed 35209 (100.0%) in 8.66 sec. Users per second: 4066\n"
     ]
    },
    {
     "name": "stderr",
     "output_type": "stream",
     "text": [
      "[I 2025-01-07 01:35:39,472] Trial 292 finished with value: 0.04283601843323634 and parameters: {'topK': 4, 'shrink': 21.63557104981478, 'feature_weighting': 'TF-IDF', 'normalize': True, 'tversky_alpha': 0.21363053200757398, 'tversky_beta': 2.3153046263304273}. Best is trial 140 with value: 0.04284370045176791.\n"
     ]
    },
    {
     "name": "stdout",
     "output_type": "stream",
     "text": [
      "Similarity column 38121 (100.0%), 1573.90 column/sec. Elapsed time 24.22 sec\n",
      "EvaluatorHoldout: Processed 35209 (100.0%) in 8.67 sec. Users per second: 4059\n"
     ]
    },
    {
     "name": "stderr",
     "output_type": "stream",
     "text": [
      "[I 2025-01-07 01:36:12,541] Trial 293 finished with value: 0.0425721440270263 and parameters: {'topK': 3, 'shrink': 22.434143165869248, 'feature_weighting': 'TF-IDF', 'normalize': True, 'tversky_alpha': 0.215257819885642, 'tversky_beta': 2.3556432595323957}. Best is trial 140 with value: 0.04284370045176791.\n"
     ]
    },
    {
     "name": "stdout",
     "output_type": "stream",
     "text": [
      "Similarity column 38121 (100.0%), 4651.77 column/sec. Elapsed time 8.19 sec\n",
      "EvaluatorHoldout: Processed 35209 (100.0%) in 8.65 sec. Users per second: 4071\n"
     ]
    },
    {
     "name": "stderr",
     "output_type": "stream",
     "text": [
      "[I 2025-01-07 01:36:29,553] Trial 294 finished with value: 0.042829140006138654 and parameters: {'topK': 4, 'shrink': 21.92036696287081, 'feature_weighting': 'TF-IDF', 'normalize': True, 'tversky_alpha': 0.22941668437895982, 'tversky_beta': 2.3219289187130623}. Best is trial 140 with value: 0.04284370045176791.\n"
     ]
    },
    {
     "name": "stdout",
     "output_type": "stream",
     "text": [
      "Similarity column 38121 (100.0%), 4641.99 column/sec. Elapsed time 8.21 sec\n",
      "EvaluatorHoldout: Processed 35209 (100.0%) in 8.97 sec. Users per second: 3926\n"
     ]
    },
    {
     "name": "stderr",
     "output_type": "stream",
     "text": [
      "[I 2025-01-07 01:36:46,904] Trial 295 finished with value: 0.04149041979255702 and parameters: {'topK': 10, 'shrink': 21.8136882838369, 'feature_weighting': 'TF-IDF', 'normalize': True, 'tversky_alpha': 0.23255748386701972, 'tversky_beta': 2.377701602010921}. Best is trial 140 with value: 0.04284370045176791.\n"
     ]
    },
    {
     "name": "stdout",
     "output_type": "stream",
     "text": [
      "Similarity column 38121 (100.0%), 4523.74 column/sec. Elapsed time 8.43 sec\n",
      "EvaluatorHoldout: Processed 35209 (100.0%) in 8.70 sec. Users per second: 4047\n"
     ]
    },
    {
     "name": "stderr",
     "output_type": "stream",
     "text": [
      "[I 2025-01-07 01:37:04,206] Trial 296 finished with value: 0.04271957431518754 and parameters: {'topK': 5, 'shrink': 22.203810839528813, 'feature_weighting': 'TF-IDF', 'normalize': True, 'tversky_alpha': 0.2216872626751759, 'tversky_beta': 2.291743050500677}. Best is trial 140 with value: 0.04284370045176791.\n"
     ]
    },
    {
     "name": "stdout",
     "output_type": "stream",
     "text": [
      "Similarity column 38121 (100.0%), 1576.07 column/sec. Elapsed time 24.19 sec\n",
      "EvaluatorHoldout: Processed 35209 (100.0%) in 8.68 sec. Users per second: 4056\n"
     ]
    },
    {
     "name": "stderr",
     "output_type": "stream",
     "text": [
      "[I 2025-01-07 01:37:37,252] Trial 297 finished with value: 0.042560595076924654 and parameters: {'topK': 3, 'shrink': 21.697634510312806, 'feature_weighting': 'TF-IDF', 'normalize': True, 'tversky_alpha': 0.2089731113932827, 'tversky_beta': 2.341534113830437}. Best is trial 140 with value: 0.04284370045176791.\n"
     ]
    },
    {
     "name": "stdout",
     "output_type": "stream",
     "text": [
      "Similarity column 38121 (100.0%), 4616.51 column/sec. Elapsed time 8.26 sec\n",
      "EvaluatorHoldout: Processed 35209 (100.0%) in 8.73 sec. Users per second: 4031\n"
     ]
    },
    {
     "name": "stderr",
     "output_type": "stream",
     "text": [
      "[I 2025-01-07 01:37:54,415] Trial 298 finished with value: 0.04279763651699641 and parameters: {'topK': 4, 'shrink': 23.863162168639143, 'feature_weighting': 'TF-IDF', 'normalize': True, 'tversky_alpha': 0.22888006042557524, 'tversky_beta': 2.3112067460726493}. Best is trial 140 with value: 0.04284370045176791.\n"
     ]
    },
    {
     "name": "stdout",
     "output_type": "stream",
     "text": [
      "Similarity column 38121 (100.0%), 4633.13 column/sec. Elapsed time 8.23 sec\n",
      "EvaluatorHoldout: Processed 35209 (100.0%) in 8.60 sec. Users per second: 4095\n"
     ]
    },
    {
     "name": "stderr",
     "output_type": "stream",
     "text": [
      "[I 2025-01-07 01:38:11,413] Trial 299 finished with value: 0.04283902542053712 and parameters: {'topK': 4, 'shrink': 21.304789869403926, 'feature_weighting': 'TF-IDF', 'normalize': True, 'tversky_alpha': 0.211189909639066, 'tversky_beta': 2.3194317145508805}. Best is trial 140 with value: 0.04284370045176791.\n"
     ]
    },
    {
     "name": "stdout",
     "output_type": "stream",
     "text": [
      "Similarity column 38121 (100.0%), 4684.35 column/sec. Elapsed time 8.14 sec\n",
      "EvaluatorHoldout: Processed 35209 (100.0%) in 8.68 sec. Users per second: 4056\n"
     ]
    },
    {
     "name": "stderr",
     "output_type": "stream",
     "text": [
      "[I 2025-01-07 01:38:28,404] Trial 300 finished with value: 0.042483418741689205 and parameters: {'topK': 6, 'shrink': 21.440668551312108, 'feature_weighting': 'TF-IDF', 'normalize': True, 'tversky_alpha': 0.21489447101124212, 'tversky_beta': 2.3977308308295546}. Best is trial 140 with value: 0.04284370045176791.\n"
     ]
    },
    {
     "name": "stdout",
     "output_type": "stream",
     "text": [
      "Similarity column 38121 (100.0%), 4641.75 column/sec. Elapsed time 8.21 sec\n",
      "EvaluatorHoldout: Processed 35209 (100.0%) in 8.59 sec. Users per second: 4098\n"
     ]
    },
    {
     "name": "stderr",
     "output_type": "stream",
     "text": [
      "[I 2025-01-07 01:38:45,380] Trial 301 finished with value: 0.042812913770692886 and parameters: {'topK': 4, 'shrink': 22.91815793489654, 'feature_weighting': 'TF-IDF', 'normalize': True, 'tversky_alpha': 0.22437473423112758, 'tversky_beta': 2.318713446024219}. Best is trial 140 with value: 0.04284370045176791.\n"
     ]
    },
    {
     "name": "stdout",
     "output_type": "stream",
     "text": [
      "Similarity column 38121 (100.0%), 1578.23 column/sec. Elapsed time 24.15 sec\n",
      "EvaluatorHoldout: Processed 35209 (100.0%) in 8.72 sec. Users per second: 4038\n"
     ]
    },
    {
     "name": "stderr",
     "output_type": "stream",
     "text": [
      "[I 2025-01-07 01:39:18,426] Trial 302 finished with value: 0.042579688544639296 and parameters: {'topK': 3, 'shrink': 23.343319867099602, 'feature_weighting': 'TF-IDF', 'normalize': True, 'tversky_alpha': 0.21431419180960623, 'tversky_beta': 2.276037924702064}. Best is trial 140 with value: 0.04284370045176791.\n"
     ]
    },
    {
     "name": "stdout",
     "output_type": "stream",
     "text": [
      "Similarity column 38121 (100.0%), 4614.68 column/sec. Elapsed time 8.26 sec\n",
      "EvaluatorHoldout: Processed 35209 (100.0%) in 8.66 sec. Users per second: 4065\n"
     ]
    },
    {
     "name": "stderr",
     "output_type": "stream",
     "text": [
      "[I 2025-01-07 01:39:35,518] Trial 303 finished with value: 0.042691072178062506 and parameters: {'topK': 5, 'shrink': 21.962995883139747, 'feature_weighting': 'TF-IDF', 'normalize': True, 'tversky_alpha': 0.20611026571858448, 'tversky_beta': 2.3461480615035644}. Best is trial 140 with value: 0.04284370045176791.\n"
     ]
    },
    {
     "name": "stdout",
     "output_type": "stream",
     "text": [
      "Similarity column 38121 (100.0%), 4620.54 column/sec. Elapsed time 8.25 sec\n",
      "EvaluatorHoldout: Processed 35209 (100.0%) in 8.67 sec. Users per second: 4063\n"
     ]
    },
    {
     "name": "stderr",
     "output_type": "stream",
     "text": [
      "[I 2025-01-07 01:39:52,612] Trial 304 finished with value: 0.042658328926540014 and parameters: {'topK': 5, 'shrink': 21.34395955189881, 'feature_weighting': 'TF-IDF', 'normalize': True, 'tversky_alpha': 0.20083518782931012, 'tversky_beta': 2.3105877029483097}. Best is trial 140 with value: 0.04284370045176791.\n"
     ]
    },
    {
     "name": "stdout",
     "output_type": "stream",
     "text": [
      "Similarity column 38121 (100.0%), 4662.99 column/sec. Elapsed time 8.18 sec\n",
      "EvaluatorHoldout: Processed 35209 (100.0%) in 8.59 sec. Users per second: 4099\n"
     ]
    },
    {
     "name": "stderr",
     "output_type": "stream",
     "text": [
      "[I 2025-01-07 01:40:09,548] Trial 305 finished with value: 0.04280233296230464 and parameters: {'topK': 4, 'shrink': 22.447528332758765, 'feature_weighting': 'TF-IDF', 'normalize': True, 'tversky_alpha': 0.21831400652836558, 'tversky_beta': 2.253252796471655}. Best is trial 140 with value: 0.04284370045176791.\n"
     ]
    },
    {
     "name": "stdout",
     "output_type": "stream",
     "text": [
      "Similarity column 38121 (100.0%), 1583.25 column/sec. Elapsed time 24.08 sec\n",
      "EvaluatorHoldout: Processed 35209 (100.0%) in 8.50 sec. Users per second: 4144\n"
     ]
    },
    {
     "name": "stderr",
     "output_type": "stream",
     "text": [
      "[I 2025-01-07 01:40:42,298] Trial 306 finished with value: 0.042588708379484884 and parameters: {'topK': 3, 'shrink': 20.985277037070908, 'feature_weighting': 'TF-IDF', 'normalize': True, 'tversky_alpha': 0.37114146342139864, 'tversky_beta': 2.371460278078055}. Best is trial 140 with value: 0.04284370045176791.\n"
     ]
    },
    {
     "name": "stdout",
     "output_type": "stream",
     "text": [
      "Similarity column 38121 (100.0%), 4632.55 column/sec. Elapsed time 8.23 sec\n",
      "EvaluatorHoldout: Processed 35209 (100.0%) in 8.58 sec. Users per second: 4105\n"
     ]
    },
    {
     "name": "stderr",
     "output_type": "stream",
     "text": [
      "[I 2025-01-07 01:40:59,273] Trial 307 finished with value: 0.042845500361332826 and parameters: {'topK': 4, 'shrink': 21.088538274722346, 'feature_weighting': 'TF-IDF', 'normalize': True, 'tversky_alpha': 0.20979103132011626, 'tversky_beta': 2.2842964299992445}. Best is trial 307 with value: 0.042845500361332826.\n"
     ]
    },
    {
     "name": "stdout",
     "output_type": "stream",
     "text": [
      "Similarity column 38121 (100.0%), 4698.69 column/sec. Elapsed time 8.11 sec\n",
      "EvaluatorHoldout: Processed 35209 (100.0%) in 8.59 sec. Users per second: 4100\n"
     ]
    },
    {
     "name": "stderr",
     "output_type": "stream",
     "text": [
      "[I 2025-01-07 01:41:16,142] Trial 308 finished with value: 0.04281460660987042 and parameters: {'topK': 4, 'shrink': 21.707092928791653, 'feature_weighting': 'TF-IDF', 'normalize': True, 'tversky_alpha': 0.23001126211579137, 'tversky_beta': 2.2819462313415753}. Best is trial 307 with value: 0.042845500361332826.\n"
     ]
    },
    {
     "name": "stdout",
     "output_type": "stream",
     "text": [
      "Similarity column 38121 (100.0%), 2203.92 column/sec. Elapsed time 17.30 sec\n",
      "EvaluatorHoldout: Processed 35209 (100.0%) in 8.54 sec. Users per second: 4121\n"
     ]
    },
    {
     "name": "stderr",
     "output_type": "stream",
     "text": [
      "[I 2025-01-07 01:41:42,152] Trial 309 finished with value: 0.04147837719161667 and parameters: {'topK': 2, 'shrink': 21.120240497539132, 'feature_weighting': 'TF-IDF', 'normalize': True, 'tversky_alpha': 0.20897901874269115, 'tversky_beta': 2.3259998966438307}. Best is trial 307 with value: 0.042845500361332826.\n"
     ]
    },
    {
     "name": "stdout",
     "output_type": "stream",
     "text": [
      "Similarity column 38121 (100.0%), 4651.53 column/sec. Elapsed time 8.20 sec\n",
      "EvaluatorHoldout: Processed 35209 (100.0%) in 8.58 sec. Users per second: 4102\n"
     ]
    },
    {
     "name": "stderr",
     "output_type": "stream",
     "text": [
      "[I 2025-01-07 01:41:59,109] Trial 310 finished with value: 0.03961155539686465 and parameters: {'topK': 5, 'shrink': 22.08494494965186, 'feature_weighting': 'BM25', 'normalize': True, 'tversky_alpha': 0.22222284141185486, 'tversky_beta': 2.279870944386232}. Best is trial 307 with value: 0.042845500361332826.\n"
     ]
    },
    {
     "name": "stdout",
     "output_type": "stream",
     "text": [
      "Similarity column 38121 (100.0%), 4632.28 column/sec. Elapsed time 8.23 sec\n",
      "EvaluatorHoldout: Processed 35209 (100.0%) in 8.63 sec. Users per second: 4081\n"
     ]
    },
    {
     "name": "stderr",
     "output_type": "stream",
     "text": [
      "[I 2025-01-07 01:42:16,134] Trial 311 finished with value: 0.042812388562266344 and parameters: {'topK': 4, 'shrink': 20.874728453714233, 'feature_weighting': 'TF-IDF', 'normalize': True, 'tversky_alpha': 0.21143312214860174, 'tversky_beta': 2.346703985427943}. Best is trial 307 with value: 0.042845500361332826.\n"
     ]
    },
    {
     "name": "stdout",
     "output_type": "stream",
     "text": [
      "Similarity column 38121 (100.0%), 1581.43 column/sec. Elapsed time 24.11 sec\n",
      "EvaluatorHoldout: Processed 35209 (100.0%) in 8.72 sec. Users per second: 4039\n"
     ]
    },
    {
     "name": "stderr",
     "output_type": "stream",
     "text": [
      "[I 2025-01-07 01:42:49,128] Trial 312 finished with value: 0.04255230219365666 and parameters: {'topK': 3, 'shrink': 21.419234774396088, 'feature_weighting': 'TF-IDF', 'normalize': True, 'tversky_alpha': 0.2011007899194558, 'tversky_beta': 2.2423624665024593}. Best is trial 307 with value: 0.042845500361332826.\n"
     ]
    },
    {
     "name": "stdout",
     "output_type": "stream",
     "text": [
      "Similarity column 38121 (100.0%), 4667.21 column/sec. Elapsed time 8.17 sec\n",
      "EvaluatorHoldout: Processed 35209 (100.0%) in 8.66 sec. Users per second: 4067\n"
     ]
    },
    {
     "name": "stderr",
     "output_type": "stream",
     "text": [
      "[I 2025-01-07 01:43:06,128] Trial 313 finished with value: 0.04280374741847507 and parameters: {'topK': 4, 'shrink': 20.71921515935397, 'feature_weighting': 'TF-IDF', 'normalize': True, 'tversky_alpha': 0.23396385038397213, 'tversky_beta': 2.3066265040953864}. Best is trial 307 with value: 0.042845500361332826.\n"
     ]
    },
    {
     "name": "stdout",
     "output_type": "stream",
     "text": [
      "Similarity column 38121 (100.0%), 4673.96 column/sec. Elapsed time 8.16 sec\n",
      "EvaluatorHoldout: Processed 35209 (100.0%) in 8.61 sec. Users per second: 4089\n"
     ]
    },
    {
     "name": "stderr",
     "output_type": "stream",
     "text": [
      "[I 2025-01-07 01:43:23,061] Trial 314 finished with value: 0.042575022529861964 and parameters: {'topK': 5, 'shrink': 22.54071787568427, 'feature_weighting': 'TF-IDF', 'normalize': True, 'tversky_alpha': 0.2166757312200739, 'tversky_beta': 1.7416850351235431}. Best is trial 307 with value: 0.042845500361332826.\n"
     ]
    },
    {
     "name": "stdout",
     "output_type": "stream",
     "text": [
      "Similarity column 38121 (100.0%), 4689.54 column/sec. Elapsed time 8.13 sec\n",
      "EvaluatorHoldout: Processed 35209 (100.0%) in 8.63 sec. Users per second: 4079\n"
     ]
    },
    {
     "name": "stderr",
     "output_type": "stream",
     "text": [
      "[I 2025-01-07 01:43:39,994] Trial 315 finished with value: 0.04246544106011703 and parameters: {'topK': 6, 'shrink': 21.27128287319553, 'feature_weighting': 'TF-IDF', 'normalize': True, 'tversky_alpha': 0.20535818282672974, 'tversky_beta': 2.260200318894659}. Best is trial 307 with value: 0.042845500361332826.\n"
     ]
    },
    {
     "name": "stdout",
     "output_type": "stream",
     "text": [
      "Similarity column 38121 (100.0%), 1573.54 column/sec. Elapsed time 24.23 sec\n",
      "EvaluatorHoldout: Processed 35209 (100.0%) in 8.70 sec. Users per second: 4046\n"
     ]
    },
    {
     "name": "stderr",
     "output_type": "stream",
     "text": [
      "[I 2025-01-07 01:44:13,100] Trial 316 finished with value: 0.04257567058746998 and parameters: {'topK': 3, 'shrink': 20.421995640648774, 'feature_weighting': 'TF-IDF', 'normalize': True, 'tversky_alpha': 0.19561741765621682, 'tversky_beta': 2.366239346240656}. Best is trial 307 with value: 0.042845500361332826.\n"
     ]
    },
    {
     "name": "stdout",
     "output_type": "stream",
     "text": [
      "Similarity column 38121 (100.0%), 4660.22 column/sec. Elapsed time 8.18 sec\n",
      "EvaluatorHoldout: Processed 35209 (100.0%) in 8.60 sec. Users per second: 4094\n"
     ]
    },
    {
     "name": "stderr",
     "output_type": "stream",
     "text": [
      "[I 2025-01-07 01:44:30,055] Trial 317 finished with value: 0.042824535979480556 and parameters: {'topK': 4, 'shrink': 21.869787792676874, 'feature_weighting': 'TF-IDF', 'normalize': True, 'tversky_alpha': 0.21183080922845346, 'tversky_beta': 2.2133982188609402}. Best is trial 307 with value: 0.042845500361332826.\n"
     ]
    },
    {
     "name": "stdout",
     "output_type": "stream",
     "text": [
      "Similarity column 38121 (100.0%), 4628.87 column/sec. Elapsed time 8.24 sec\n",
      "EvaluatorHoldout: Processed 35209 (100.0%) in 8.72 sec. Users per second: 4038\n"
     ]
    },
    {
     "name": "stderr",
     "output_type": "stream",
     "text": [
      "[I 2025-01-07 01:44:47,182] Trial 318 finished with value: 0.042680945573528334 and parameters: {'topK': 5, 'shrink': 21.84444006316056, 'feature_weighting': 'TF-IDF', 'normalize': True, 'tversky_alpha': 0.2242767143406159, 'tversky_beta': 2.2993414084378387}. Best is trial 307 with value: 0.042845500361332826.\n"
     ]
    },
    {
     "name": "stdout",
     "output_type": "stream",
     "text": [
      "Similarity column 38121 (100.0%), 4639.62 column/sec. Elapsed time 8.22 sec\n",
      "EvaluatorHoldout: Processed 35209 (100.0%) in 8.67 sec. Users per second: 4061\n"
     ]
    },
    {
     "name": "stderr",
     "output_type": "stream",
     "text": [
      "[I 2025-01-07 01:45:04,245] Trial 319 finished with value: 0.04274844274574296 and parameters: {'topK': 4, 'shrink': 23.029586766118292, 'feature_weighting': 'TF-IDF', 'normalize': True, 'tversky_alpha': 0.21172903817176997, 'tversky_beta': 2.2262377457278366}. Best is trial 307 with value: 0.042845500361332826.\n"
     ]
    },
    {
     "name": "stdout",
     "output_type": "stream",
     "text": [
      "Similarity column 38121 (100.0%), 1577.70 column/sec. Elapsed time 24.16 sec\n",
      "EvaluatorHoldout: Processed 35209 (100.0%) in 8.64 sec. Users per second: 4077\n"
     ]
    },
    {
     "name": "stderr",
     "output_type": "stream",
     "text": [
      "[I 2025-01-07 01:45:37,223] Trial 320 finished with value: 0.04258147943775055 and parameters: {'topK': 3, 'shrink': 22.166546487348313, 'feature_weighting': 'TF-IDF', 'normalize': True, 'tversky_alpha': 0.219311137723969, 'tversky_beta': 2.274577312696949}. Best is trial 307 with value: 0.042845500361332826.\n"
     ]
    },
    {
     "name": "stdout",
     "output_type": "stream",
     "text": [
      "Similarity column 38121 (100.0%), 4617.27 column/sec. Elapsed time 8.26 sec\n",
      "EvaluatorHoldout: Processed 35209 (100.0%) in 8.72 sec. Users per second: 4040\n"
     ]
    },
    {
     "name": "stderr",
     "output_type": "stream",
     "text": [
      "[I 2025-01-07 01:45:54,373] Trial 321 finished with value: 0.04280375192670193 and parameters: {'topK': 4, 'shrink': 21.649540593435994, 'feature_weighting': 'TF-IDF', 'normalize': True, 'tversky_alpha': 0.23945704721201835, 'tversky_beta': 2.216910553096171}. Best is trial 307 with value: 0.042845500361332826.\n"
     ]
    },
    {
     "name": "stdout",
     "output_type": "stream",
     "text": [
      "Similarity column 38121 (100.0%), 4682.47 column/sec. Elapsed time 8.14 sec\n",
      "EvaluatorHoldout: Processed 35209 (100.0%) in 8.74 sec. Users per second: 4029\n"
     ]
    },
    {
     "name": "stderr",
     "output_type": "stream",
     "text": [
      "[I 2025-01-07 01:46:11,422] Trial 322 finished with value: 0.042696247622472254 and parameters: {'topK': 5, 'shrink': 20.68926027266992, 'feature_weighting': 'TF-IDF', 'normalize': True, 'tversky_alpha': 0.20998250339422642, 'tversky_beta': 2.3097916349009324}. Best is trial 307 with value: 0.042845500361332826.\n"
     ]
    },
    {
     "name": "stdout",
     "output_type": "stream",
     "text": [
      "Similarity column 38121 (100.0%), 2193.63 column/sec. Elapsed time 17.38 sec\n",
      "EvaluatorHoldout: Processed 35209 (100.0%) in 8.59 sec. Users per second: 4098\n"
     ]
    },
    {
     "name": "stderr",
     "output_type": "stream",
     "text": [
      "[I 2025-01-07 01:46:37,563] Trial 323 finished with value: 0.04146588489504933 and parameters: {'topK': 2, 'shrink': 21.024509523233494, 'feature_weighting': 'TF-IDF', 'normalize': True, 'tversky_alpha': 0.18961616227308017, 'tversky_beta': 2.342574726114805}. Best is trial 307 with value: 0.042845500361332826.\n"
     ]
    },
    {
     "name": "stdout",
     "output_type": "stream",
     "text": [
      "Similarity column 38121 (100.0%), 4602.44 column/sec. Elapsed time 8.28 sec\n",
      "EvaluatorHoldout: Processed 35209 (100.0%) in 8.71 sec. Users per second: 4044\n"
     ]
    },
    {
     "name": "stderr",
     "output_type": "stream",
     "text": [
      "[I 2025-01-07 01:46:54,724] Trial 324 finished with value: 0.04279671909283495 and parameters: {'topK': 4, 'shrink': 20.1997568357636, 'feature_weighting': 'TF-IDF', 'normalize': True, 'tversky_alpha': 0.22856462960216023, 'tversky_beta': 2.3975302869900372}. Best is trial 307 with value: 0.042845500361332826.\n"
     ]
    },
    {
     "name": "stdout",
     "output_type": "stream",
     "text": [
      "Similarity column 38121 (100.0%), 1576.74 column/sec. Elapsed time 24.18 sec\n",
      "EvaluatorHoldout: Processed 35209 (100.0%) in 8.60 sec. Users per second: 4096\n"
     ]
    },
    {
     "name": "stderr",
     "output_type": "stream",
     "text": [
      "[I 2025-01-07 01:47:27,667] Trial 325 finished with value: 0.04256179990054708 and parameters: {'topK': 3, 'shrink': 22.367633038609974, 'feature_weighting': 'TF-IDF', 'normalize': True, 'tversky_alpha': 0.214468247028425, 'tversky_beta': 2.256038317259619}. Best is trial 307 with value: 0.042845500361332826.\n"
     ]
    },
    {
     "name": "stdout",
     "output_type": "stream",
     "text": [
      "Similarity column 38121 (100.0%), 4626.16 column/sec. Elapsed time 8.24 sec\n",
      "EvaluatorHoldout: Processed 35209 (100.0%) in 8.67 sec. Users per second: 4062\n"
     ]
    },
    {
     "name": "stderr",
     "output_type": "stream",
     "text": [
      "[I 2025-01-07 01:47:44,741] Trial 326 finished with value: 0.042712228159555415 and parameters: {'topK': 5, 'shrink': 21.516958332824746, 'feature_weighting': 'TF-IDF', 'normalize': True, 'tversky_alpha': 0.1970971873195807, 'tversky_beta': 2.2020327979201135}. Best is trial 307 with value: 0.042845500361332826.\n"
     ]
    },
    {
     "name": "stdout",
     "output_type": "stream",
     "text": [
      "Similarity column 38121 (100.0%), 4668.57 column/sec. Elapsed time 8.17 sec\n",
      "EvaluatorHoldout: Processed 35209 (100.0%) in 8.67 sec. Users per second: 4060\n"
     ]
    },
    {
     "name": "stderr",
     "output_type": "stream",
     "text": [
      "[I 2025-01-07 01:48:01,751] Trial 327 finished with value: 0.04282444806905732 and parameters: {'topK': 4, 'shrink': 20.72470571247851, 'feature_weighting': 'TF-IDF', 'normalize': True, 'tversky_alpha': 0.2056349212198253, 'tversky_beta': 2.2999592200139576}. Best is trial 307 with value: 0.042845500361332826.\n"
     ]
    },
    {
     "name": "stdout",
     "output_type": "stream",
     "text": [
      "Similarity column 38121 (100.0%), 1575.72 column/sec. Elapsed time 24.19 sec\n",
      "EvaluatorHoldout: Processed 35209 (100.0%) in 8.69 sec. Users per second: 4052\n"
     ]
    },
    {
     "name": "stderr",
     "output_type": "stream",
     "text": [
      "[I 2025-01-07 01:48:34,808] Trial 328 finished with value: 0.03893475558873489 and parameters: {'topK': 3, 'shrink': 21.898023374123824, 'feature_weighting': 'BM25', 'normalize': True, 'tversky_alpha': 0.22149881624784065, 'tversky_beta': 2.3496224144424445}. Best is trial 307 with value: 0.042845500361332826.\n"
     ]
    },
    {
     "name": "stdout",
     "output_type": "stream",
     "text": [
      "Similarity column 38121 (100.0%), 4719.64 column/sec. Elapsed time 8.08 sec\n",
      "EvaluatorHoldout: Processed 35209 (100.0%) in 8.82 sec. Users per second: 3992\n"
     ]
    },
    {
     "name": "stderr",
     "output_type": "stream",
     "text": [
      "[I 2025-01-07 01:48:51,876] Trial 329 finished with value: 0.042480787064272704 and parameters: {'topK': 6, 'shrink': 20.060603706981528, 'feature_weighting': 'TF-IDF', 'normalize': True, 'tversky_alpha': 0.21139165541780344, 'tversky_beta': 2.313570886604677}. Best is trial 307 with value: 0.042845500361332826.\n"
     ]
    },
    {
     "name": "stdout",
     "output_type": "stream",
     "text": [
      "Similarity column 38121 (100.0%), 4603.49 column/sec. Elapsed time 8.28 sec\n",
      "EvaluatorHoldout: Processed 35209 (100.0%) in 8.60 sec. Users per second: 4092\n"
     ]
    },
    {
     "name": "stderr",
     "output_type": "stream",
     "text": [
      "[I 2025-01-07 01:49:08,936] Trial 330 finished with value: 0.04284507320683996 and parameters: {'topK': 4, 'shrink': 21.004340315682096, 'feature_weighting': 'TF-IDF', 'normalize': True, 'tversky_alpha': 0.20532412802971572, 'tversky_beta': 2.2747192625204673}. Best is trial 307 with value: 0.042845500361332826.\n"
     ]
    },
    {
     "name": "stdout",
     "output_type": "stream",
     "text": [
      "Similarity column 38121 (100.0%), 4615.35 column/sec. Elapsed time 8.26 sec\n",
      "EvaluatorHoldout: Processed 35209 (100.0%) in 8.92 sec. Users per second: 3946\n"
     ]
    },
    {
     "name": "stderr",
     "output_type": "stream",
     "text": [
      "[I 2025-01-07 01:49:26,291] Trial 331 finished with value: 0.041299132346661376 and parameters: {'topK': 11, 'shrink': 19.47402817066781, 'feature_weighting': 'TF-IDF', 'normalize': False, 'tversky_alpha': 0.18990653185974538, 'tversky_beta': 2.258367171975588}. Best is trial 307 with value: 0.042845500361332826.\n"
     ]
    },
    {
     "name": "stdout",
     "output_type": "stream",
     "text": [
      "Similarity column 38121 (100.0%), 4661.30 column/sec. Elapsed time 8.18 sec\n",
      "EvaluatorHoldout: Processed 35209 (100.0%) in 8.93 sec. Users per second: 3942\n"
     ]
    },
    {
     "name": "stderr",
     "output_type": "stream",
     "text": [
      "[I 2025-01-07 01:49:43,571] Trial 332 finished with value: 0.042813046763384606 and parameters: {'topK': 4, 'shrink': 20.607069566824567, 'feature_weighting': 'TF-IDF', 'normalize': True, 'tversky_alpha': 0.20504014880252433, 'tversky_beta': 2.284213883081024}. Best is trial 307 with value: 0.042845500361332826.\n"
     ]
    },
    {
     "name": "stdout",
     "output_type": "stream",
     "text": [
      "Similarity column 38121 (100.0%), 4681.08 column/sec. Elapsed time 8.14 sec\n",
      "EvaluatorHoldout: Processed 35209 (100.0%) in 8.58 sec. Users per second: 4104\n"
     ]
    },
    {
     "name": "stderr",
     "output_type": "stream",
     "text": [
      "[I 2025-01-07 01:50:00,464] Trial 333 finished with value: 0.04254846794673087 and parameters: {'topK': 5, 'shrink': 21.105973492583104, 'feature_weighting': 'TF-IDF', 'normalize': True, 'tversky_alpha': 0.4147837057773776, 'tversky_beta': 2.3304911436795623}. Best is trial 307 with value: 0.042845500361332826.\n"
     ]
    },
    {
     "name": "stdout",
     "output_type": "stream",
     "text": [
      "Similarity column 38121 (100.0%), 1578.94 column/sec. Elapsed time 24.14 sec\n",
      "EvaluatorHoldout: Processed 35209 (100.0%) in 8.63 sec. Users per second: 4081\n"
     ]
    },
    {
     "name": "stderr",
     "output_type": "stream",
     "text": [
      "[I 2025-01-07 01:50:33,409] Trial 334 finished with value: 0.04257948454737491 and parameters: {'topK': 3, 'shrink': 20.269359832236045, 'feature_weighting': 'TF-IDF', 'normalize': True, 'tversky_alpha': 0.22600407478559842, 'tversky_beta': 2.2376995848172543}. Best is trial 307 with value: 0.042845500361332826.\n"
     ]
    },
    {
     "name": "stdout",
     "output_type": "stream",
     "text": [
      "Similarity column 38121 (100.0%), 4714.22 column/sec. Elapsed time 8.09 sec\n",
      "EvaluatorHoldout: Processed 35209 (100.0%) in 8.70 sec. Users per second: 4047\n"
     ]
    },
    {
     "name": "stderr",
     "output_type": "stream",
     "text": [
      "[I 2025-01-07 01:50:50,369] Trial 335 finished with value: 0.042700002975428045 and parameters: {'topK': 5, 'shrink': 19.785299851149034, 'feature_weighting': 'TF-IDF', 'normalize': True, 'tversky_alpha': 0.21645563064506831, 'tversky_beta': 2.3691168995174996}. Best is trial 307 with value: 0.042845500361332826.\n"
     ]
    },
    {
     "name": "stdout",
     "output_type": "stream",
     "text": [
      "Similarity column 38121 (100.0%), 4707.70 column/sec. Elapsed time 8.10 sec\n",
      "EvaluatorHoldout: Processed 35209 (100.0%) in 8.71 sec. Users per second: 4042\n"
     ]
    },
    {
     "name": "stderr",
     "output_type": "stream",
     "text": [
      "[I 2025-01-07 01:51:07,351] Trial 336 finished with value: 0.04282362193648927 and parameters: {'topK': 4, 'shrink': 20.84749180002897, 'feature_weighting': 'TF-IDF', 'normalize': True, 'tversky_alpha': 0.1991685176174528, 'tversky_beta': 2.2659439742086573}. Best is trial 307 with value: 0.042845500361332826.\n"
     ]
    },
    {
     "name": "stdout",
     "output_type": "stream",
     "text": [
      "Similarity column 38121 (100.0%), 4628.43 column/sec. Elapsed time 8.24 sec\n",
      "EvaluatorHoldout: Processed 35209 (100.0%) in 8.69 sec. Users per second: 4050\n"
     ]
    },
    {
     "name": "stderr",
     "output_type": "stream",
     "text": [
      "[I 2025-01-07 01:51:24,459] Trial 337 finished with value: 0.0428216011238092 and parameters: {'topK': 4, 'shrink': 21.01079861139916, 'feature_weighting': 'TF-IDF', 'normalize': True, 'tversky_alpha': 0.1954213212690198, 'tversky_beta': 2.2811095325535695}. Best is trial 307 with value: 0.042845500361332826.\n"
     ]
    },
    {
     "name": "stdout",
     "output_type": "stream",
     "text": [
      "Similarity column 38121 (100.0%), 2206.08 column/sec. Elapsed time 17.28 sec\n",
      "EvaluatorHoldout: Processed 35209 (100.0%) in 8.62 sec. Users per second: 4084\n"
     ]
    },
    {
     "name": "stderr",
     "output_type": "stream",
     "text": [
      "[I 2025-01-07 01:51:50,533] Trial 338 finished with value: 0.041457611171745345 and parameters: {'topK': 2, 'shrink': 21.200736168936814, 'feature_weighting': 'TF-IDF', 'normalize': True, 'tversky_alpha': 0.18181855027643976, 'tversky_beta': 2.322594156012753}. Best is trial 307 with value: 0.042845500361332826.\n"
     ]
    },
    {
     "name": "stdout",
     "output_type": "stream",
     "text": [
      "Similarity column 38121 (100.0%), 4736.55 column/sec. Elapsed time 8.05 sec\n",
      "EvaluatorHoldout: Processed 35209 (100.0%) in 8.67 sec. Users per second: 4061\n"
     ]
    },
    {
     "name": "stderr",
     "output_type": "stream",
     "text": [
      "[I 2025-01-07 01:52:07,425] Trial 339 finished with value: 0.04278064275593162 and parameters: {'topK': 4, 'shrink': 20.75405425944301, 'feature_weighting': 'TF-IDF', 'normalize': True, 'tversky_alpha': 0.16553871659369265, 'tversky_beta': 2.2613368428751217}. Best is trial 307 with value: 0.042845500361332826.\n"
     ]
    },
    {
     "name": "stdout",
     "output_type": "stream",
     "text": [
      "Similarity column 38121 (100.0%), 1578.64 column/sec. Elapsed time 24.15 sec\n",
      "EvaluatorHoldout: Processed 35209 (100.0%) in 8.60 sec. Users per second: 4093\n"
     ]
    },
    {
     "name": "stderr",
     "output_type": "stream",
     "text": [
      "[I 2025-01-07 01:52:40,353] Trial 340 finished with value: 0.04254053572161012 and parameters: {'topK': 3, 'shrink': 21.51800429554083, 'feature_weighting': 'TF-IDF', 'normalize': True, 'tversky_alpha': 0.20304616034945364, 'tversky_beta': 2.3043387662225085}. Best is trial 307 with value: 0.042845500361332826.\n"
     ]
    },
    {
     "name": "stdout",
     "output_type": "stream",
     "text": [
      "Similarity column 38121 (100.0%), 4681.44 column/sec. Elapsed time 8.14 sec\n",
      "EvaluatorHoldout: Processed 35209 (100.0%) in 8.67 sec. Users per second: 4061\n"
     ]
    },
    {
     "name": "stderr",
     "output_type": "stream",
     "text": [
      "[I 2025-01-07 01:52:57,337] Trial 341 finished with value: 0.04229714106286702 and parameters: {'topK': 6, 'shrink': 22.093963029863886, 'feature_weighting': 'TF-IDF', 'normalize': True, 'tversky_alpha': 0.49008230923715945, 'tversky_beta': 2.3679042975265836}. Best is trial 307 with value: 0.042845500361332826.\n"
     ]
    },
    {
     "name": "stdout",
     "output_type": "stream",
     "text": [
      "Similarity column 38121 (100.0%), 4632.43 column/sec. Elapsed time 8.23 sec\n",
      "EvaluatorHoldout: Processed 35209 (100.0%) in 8.74 sec. Users per second: 4029\n"
     ]
    },
    {
     "name": "stderr",
     "output_type": "stream",
     "text": [
      "[I 2025-01-07 01:53:14,476] Trial 342 finished with value: 0.042665529691856496 and parameters: {'topK': 5, 'shrink': 20.459199154124708, 'feature_weighting': 'TF-IDF', 'normalize': True, 'tversky_alpha': 0.1897838839857303, 'tversky_beta': 2.2205138065456898}. Best is trial 307 with value: 0.042845500361332826.\n"
     ]
    },
    {
     "name": "stdout",
     "output_type": "stream",
     "text": [
      "Similarity column 38121 (100.0%), 4641.85 column/sec. Elapsed time 8.21 sec\n",
      "EvaluatorHoldout: Processed 35209 (100.0%) in 8.67 sec. Users per second: 4059\n"
     ]
    },
    {
     "name": "stderr",
     "output_type": "stream",
     "text": [
      "[I 2025-01-07 01:53:31,535] Trial 343 finished with value: 0.04278494360433478 and parameters: {'topK': 4, 'shrink': 20.778627458018853, 'feature_weighting': 'TF-IDF', 'normalize': True, 'tversky_alpha': 0.17428369106430136, 'tversky_beta': 2.3298141029633483}. Best is trial 307 with value: 0.042845500361332826.\n"
     ]
    },
    {
     "name": "stdout",
     "output_type": "stream",
     "text": [
      "Similarity column 38121 (100.0%), 1575.89 column/sec. Elapsed time 24.19 sec\n",
      "EvaluatorHoldout: Processed 35209 (100.0%) in 8.55 sec. Users per second: 4117\n"
     ]
    },
    {
     "name": "stderr",
     "output_type": "stream",
     "text": [
      "[I 2025-01-07 01:54:04,455] Trial 344 finished with value: 0.04253831767400594 and parameters: {'topK': 3, 'shrink': 21.391516071421783, 'feature_weighting': 'TF-IDF', 'normalize': True, 'tversky_alpha': 0.1965580162891079, 'tversky_beta': 2.2694013648872082}. Best is trial 307 with value: 0.042845500361332826.\n"
     ]
    },
    {
     "name": "stdout",
     "output_type": "stream",
     "text": [
      "Similarity column 38121 (100.0%), 4672.19 column/sec. Elapsed time 8.16 sec\n",
      "EvaluatorHoldout: Processed 35209 (100.0%) in 8.68 sec. Users per second: 4057\n"
     ]
    },
    {
     "name": "stderr",
     "output_type": "stream",
     "text": [
      "[I 2025-01-07 01:54:21,464] Trial 345 finished with value: 0.04265242314938265 and parameters: {'topK': 4, 'shrink': 20.231012078899077, 'feature_weighting': 'TF-IDF', 'normalize': True, 'tversky_alpha': 0.20900659697589474, 'tversky_beta': 1.4112720457499137}. Best is trial 307 with value: 0.042845500361332826.\n"
     ]
    },
    {
     "name": "stdout",
     "output_type": "stream",
     "text": [
      "Similarity column 38121 (100.0%), 4661.49 column/sec. Elapsed time 8.18 sec\n",
      "EvaluatorHoldout: Processed 35209 (100.0%) in 8.64 sec. Users per second: 4075\n"
     ]
    },
    {
     "name": "stderr",
     "output_type": "stream",
     "text": [
      "[I 2025-01-07 01:54:38,462] Trial 346 finished with value: 0.04279866890094236 and parameters: {'topK': 4, 'shrink': 22.444630545873558, 'feature_weighting': 'TF-IDF', 'normalize': True, 'tversky_alpha': 0.20147239477097828, 'tversky_beta': 2.236796507205089}. Best is trial 307 with value: 0.042845500361332826.\n"
     ]
    },
    {
     "name": "stdout",
     "output_type": "stream",
     "text": [
      "Similarity column 38121 (100.0%), 4693.23 column/sec. Elapsed time 8.12 sec\n",
      "EvaluatorHoldout: Processed 35209 (100.0%) in 8.67 sec. Users per second: 4061\n"
     ]
    },
    {
     "name": "stderr",
     "output_type": "stream",
     "text": [
      "[I 2025-01-07 01:54:55,426] Trial 347 finished with value: 0.0426636001707699 and parameters: {'topK': 5, 'shrink': 21.826828104054346, 'feature_weighting': 'TF-IDF', 'normalize': True, 'tversky_alpha': 0.18504948665777568, 'tversky_beta': 2.30609912393226}. Best is trial 307 with value: 0.042845500361332826.\n"
     ]
    },
    {
     "name": "stdout",
     "output_type": "stream",
     "text": [
      "Similarity column 38121 (100.0%), 4656.61 column/sec. Elapsed time 8.19 sec\n",
      "EvaluatorHoldout: Processed 35209 (100.0%) in 8.85 sec. Users per second: 3978\n"
     ]
    },
    {
     "name": "stderr",
     "output_type": "stream",
     "text": [
      "[I 2025-01-07 01:55:12,636] Trial 348 finished with value: 0.04146361049460977 and parameters: {'topK': 9, 'shrink': 20.941299133753738, 'feature_weighting': 'TF-IDF', 'normalize': True, 'tversky_alpha': 0.15051420543327187, 'tversky_beta': 1.6152938888123964}. Best is trial 307 with value: 0.042845500361332826.\n"
     ]
    },
    {
     "name": "stdout",
     "output_type": "stream",
     "text": [
      "Similarity column 38121 (100.0%), 1584.43 column/sec. Elapsed time 24.06 sec\n",
      "EvaluatorHoldout: Processed 35209 (100.0%) in 8.62 sec. Users per second: 4083\n"
     ]
    },
    {
     "name": "stderr",
     "output_type": "stream",
     "text": [
      "[I 2025-01-07 01:55:45,491] Trial 349 finished with value: 0.03881276522461889 and parameters: {'topK': 3, 'shrink': 19.0855025682855, 'feature_weighting': 'BM25', 'normalize': True, 'tversky_alpha': 0.20697159291626815, 'tversky_beta': 2.27610623045833}. Best is trial 307 with value: 0.042845500361332826.\n"
     ]
    },
    {
     "name": "stdout",
     "output_type": "stream",
     "text": [
      "Similarity column 38121 (100.0%), 4675.92 column/sec. Elapsed time 8.15 sec\n",
      "EvaluatorHoldout: Processed 35209 (100.0%) in 8.65 sec. Users per second: 4070\n"
     ]
    },
    {
     "name": "stderr",
     "output_type": "stream",
     "text": [
      "[I 2025-01-07 01:56:02,468] Trial 350 finished with value: 0.04270416519585589 and parameters: {'topK': 5, 'shrink': 20.261697232341906, 'feature_weighting': 'TF-IDF', 'normalize': True, 'tversky_alpha': 0.19600900658876455, 'tversky_beta': 2.3939179193074027}. Best is trial 307 with value: 0.042845500361332826.\n"
     ]
    },
    {
     "name": "stdout",
     "output_type": "stream",
     "text": [
      "Similarity column 38121 (100.0%), 4653.06 column/sec. Elapsed time 8.19 sec\n",
      "EvaluatorHoldout: Processed 35209 (100.0%) in 8.59 sec. Users per second: 4100\n"
     ]
    },
    {
     "name": "stderr",
     "output_type": "stream",
     "text": [
      "[I 2025-01-07 01:56:19,425] Trial 351 finished with value: 0.04284055934471862 and parameters: {'topK': 4, 'shrink': 21.26899106900664, 'feature_weighting': 'TF-IDF', 'normalize': True, 'tversky_alpha': 0.21428556401065937, 'tversky_beta': 2.2361630808715613}. Best is trial 307 with value: 0.042845500361332826.\n"
     ]
    },
    {
     "name": "stdout",
     "output_type": "stream",
     "text": [
      "Similarity column 38121 (100.0%), 2202.47 column/sec. Elapsed time 17.31 sec\n",
      "EvaluatorHoldout: Processed 35209 (100.0%) in 8.57 sec. Users per second: 4106\n"
     ]
    },
    {
     "name": "stderr",
     "output_type": "stream",
     "text": [
      "[I 2025-01-07 01:56:45,480] Trial 352 finished with value: 0.04148725952554383 and parameters: {'topK': 2, 'shrink': 21.56463520516616, 'feature_weighting': 'TF-IDF', 'normalize': True, 'tversky_alpha': 0.21640592473476047, 'tversky_beta': 2.1992645677661633}. Best is trial 307 with value: 0.042845500361332826.\n"
     ]
    },
    {
     "name": "stdout",
     "output_type": "stream",
     "text": [
      "Similarity column 38121 (100.0%), 4654.99 column/sec. Elapsed time 8.19 sec\n",
      "EvaluatorHoldout: Processed 35209 (100.0%) in 8.67 sec. Users per second: 4061\n"
     ]
    },
    {
     "name": "stderr",
     "output_type": "stream",
     "text": [
      "[I 2025-01-07 01:57:02,514] Trial 353 finished with value: 0.042757713914234836 and parameters: {'topK': 4, 'shrink': 22.65030175054374, 'feature_weighting': 'TF-IDF', 'normalize': False, 'tversky_alpha': 0.2169236794735747, 'tversky_beta': 1.9899755836466078}. Best is trial 307 with value: 0.042845500361332826.\n"
     ]
    },
    {
     "name": "stdout",
     "output_type": "stream",
     "text": [
      "Similarity column 38121 (100.0%), 1578.31 column/sec. Elapsed time 24.15 sec\n",
      "EvaluatorHoldout: Processed 35209 (100.0%) in 8.65 sec. Users per second: 4071\n"
     ]
    },
    {
     "name": "stderr",
     "output_type": "stream",
     "text": [
      "[I 2025-01-07 01:57:35,491] Trial 354 finished with value: 0.042558824470834145 and parameters: {'topK': 3, 'shrink': 21.316717165819416, 'feature_weighting': 'TF-IDF', 'normalize': True, 'tversky_alpha': 0.2076988574683975, 'tversky_beta': 2.334116573574538}. Best is trial 307 with value: 0.042845500361332826.\n"
     ]
    },
    {
     "name": "stdout",
     "output_type": "stream",
     "text": [
      "Similarity column 38121 (100.0%), 4633.64 column/sec. Elapsed time 8.23 sec\n",
      "EvaluatorHoldout: Processed 35209 (100.0%) in 8.77 sec. Users per second: 4015\n"
     ]
    },
    {
     "name": "stderr",
     "output_type": "stream",
     "text": [
      "[I 2025-01-07 01:57:52,665] Trial 355 finished with value: 0.04224296344684445 and parameters: {'topK': 5, 'shrink': 21.841909294681823, 'feature_weighting': 'TF-IDF', 'normalize': True, 'tversky_alpha': 0.21974010004537234, 'tversky_beta': 1.2663951220005811}. Best is trial 307 with value: 0.042845500361332826.\n"
     ]
    },
    {
     "name": "stdout",
     "output_type": "stream",
     "text": [
      "Similarity column 38121 (100.0%), 1576.20 column/sec. Elapsed time 24.19 sec\n",
      "EvaluatorHoldout: Processed 35209 (100.0%) in 8.58 sec. Users per second: 4102\n"
     ]
    },
    {
     "name": "stderr",
     "output_type": "stream",
     "text": [
      "[I 2025-01-07 01:58:25,607] Trial 356 finished with value: 0.04226796494582973 and parameters: {'topK': 3, 'shrink': 5.9209340762651586, 'feature_weighting': 'TF-IDF', 'normalize': True, 'tversky_alpha': 0.21258559596811258, 'tversky_beta': 2.2382259305354903}. Best is trial 307 with value: 0.042845500361332826.\n"
     ]
    },
    {
     "name": "stdout",
     "output_type": "stream",
     "text": [
      "Similarity column 38121 (100.0%), 4632.43 column/sec. Elapsed time 8.23 sec\n",
      "EvaluatorHoldout: Processed 35209 (100.0%) in 8.73 sec. Users per second: 4031\n"
     ]
    },
    {
     "name": "stderr",
     "output_type": "stream",
     "text": [
      "[I 2025-01-07 01:58:42,744] Trial 357 finished with value: 0.042057197451768426 and parameters: {'topK': 7, 'shrink': 23.86328912961595, 'feature_weighting': 'TF-IDF', 'normalize': True, 'tversky_alpha': 0.20504523056692422, 'tversky_beta': 2.2924749348851043}. Best is trial 307 with value: 0.042845500361332826.\n"
     ]
    },
    {
     "name": "stdout",
     "output_type": "stream",
     "text": [
      "Similarity column 38121 (100.0%), 4686.01 column/sec. Elapsed time 8.14 sec\n",
      "EvaluatorHoldout: Processed 35209 (100.0%) in 8.62 sec. Users per second: 4083\n"
     ]
    },
    {
     "name": "stderr",
     "output_type": "stream",
     "text": [
      "[I 2025-01-07 01:58:59,671] Trial 358 finished with value: 0.04282492594110211 and parameters: {'topK': 4, 'shrink': 20.86142182116596, 'feature_weighting': 'TF-IDF', 'normalize': True, 'tversky_alpha': 0.2296572113668902, 'tversky_beta': 2.2002432055526375}. Best is trial 307 with value: 0.042845500361332826.\n"
     ]
    },
    {
     "name": "stdout",
     "output_type": "stream",
     "text": [
      "Similarity column 38121 (100.0%), 4639.63 column/sec. Elapsed time 8.22 sec\n",
      "EvaluatorHoldout: Processed 35209 (100.0%) in 8.70 sec. Users per second: 4047\n"
     ]
    },
    {
     "name": "stderr",
     "output_type": "stream",
     "text": [
      "[I 2025-01-07 01:59:16,758] Trial 359 finished with value: 0.042651651115536614 and parameters: {'topK': 5, 'shrink': 22.15291179784594, 'feature_weighting': 'TF-IDF', 'normalize': True, 'tversky_alpha': 0.23531117621899197, 'tversky_beta': 2.339316494202327}. Best is trial 307 with value: 0.042845500361332826.\n"
     ]
    },
    {
     "name": "stdout",
     "output_type": "stream",
     "text": [
      "Similarity column 38121 (100.0%), 4680.99 column/sec. Elapsed time 8.14 sec\n",
      "EvaluatorHoldout: Processed 35209 (100.0%) in 8.70 sec. Users per second: 4046\n"
     ]
    },
    {
     "name": "stderr",
     "output_type": "stream",
     "text": [
      "[I 2025-01-07 01:59:33,777] Trial 360 finished with value: 0.04274752870275173 and parameters: {'topK': 4, 'shrink': 25.16023595149606, 'feature_weighting': 'TF-IDF', 'normalize': True, 'tversky_alpha': 0.2283781363523705, 'tversky_beta': 2.198569557587725}. Best is trial 307 with value: 0.042845500361332826.\n"
     ]
    },
    {
     "name": "stdout",
     "output_type": "stream",
     "text": [
      "Similarity column 38121 (100.0%), 1578.14 column/sec. Elapsed time 24.16 sec\n",
      "EvaluatorHoldout: Processed 35209 (100.0%) in 8.73 sec. Users per second: 4034\n"
     ]
    },
    {
     "name": "stderr",
     "output_type": "stream",
     "text": [
      "[I 2025-01-07 02:00:06,842] Trial 361 finished with value: 0.04261863737040405 and parameters: {'topK': 3, 'shrink': 21.03214232829987, 'feature_weighting': 'TF-IDF', 'normalize': True, 'tversky_alpha': 0.2403341092417619, 'tversky_beta': 2.270870733143594}. Best is trial 307 with value: 0.042845500361332826.\n"
     ]
    },
    {
     "name": "stdout",
     "output_type": "stream",
     "text": [
      "Similarity column 38121 (100.0%), 4668.58 column/sec. Elapsed time 8.17 sec\n",
      "EvaluatorHoldout: Processed 35209 (100.0%) in 8.69 sec. Users per second: 4051\n"
     ]
    },
    {
     "name": "stderr",
     "output_type": "stream",
     "text": [
      "[I 2025-01-07 02:00:23,870] Trial 362 finished with value: 0.04210694235375265 and parameters: {'topK': 4, 'shrink': 22.922263459065626, 'feature_weighting': 'TF-IDF', 'normalize': True, 'tversky_alpha': 0.22267073920809943, 'tversky_beta': 1.0664454146606164}. Best is trial 307 with value: 0.042845500361332826.\n"
     ]
    },
    {
     "name": "stdout",
     "output_type": "stream",
     "text": [
      "Similarity column 38121 (100.0%), 4641.34 column/sec. Elapsed time 8.21 sec\n",
      "EvaluatorHoldout: Processed 35209 (100.0%) in 8.72 sec. Users per second: 4039\n"
     ]
    },
    {
     "name": "stderr",
     "output_type": "stream",
     "text": [
      "[I 2025-01-07 02:00:40,973] Trial 363 finished with value: 0.04267148167833908 and parameters: {'topK': 5, 'shrink': 21.390621373652344, 'feature_weighting': 'TF-IDF', 'normalize': True, 'tversky_alpha': 0.23356774000101585, 'tversky_beta': 2.1972895617522337}. Best is trial 307 with value: 0.042845500361332826.\n"
     ]
    },
    {
     "name": "stdout",
     "output_type": "stream",
     "text": [
      "Similarity column 38121 (100.0%), 4646.53 column/sec. Elapsed time 8.20 sec\n",
      "EvaluatorHoldout: Processed 35209 (100.0%) in 8.74 sec. Users per second: 4029\n"
     ]
    },
    {
     "name": "stderr",
     "output_type": "stream",
     "text": [
      "[I 2025-01-07 02:00:58,085] Trial 364 finished with value: 0.04247411488855285 and parameters: {'topK': 6, 'shrink': 20.914268592529726, 'feature_weighting': 'TF-IDF', 'normalize': True, 'tversky_alpha': 0.2132166202999486, 'tversky_beta': 2.3634205633805}. Best is trial 307 with value: 0.042845500361332826.\n"
     ]
    },
    {
     "name": "stdout",
     "output_type": "stream",
     "text": [
      "Similarity column 38121 (100.0%), 4674.62 column/sec. Elapsed time 8.15 sec\n",
      "EvaluatorHoldout: Processed 35209 (100.0%) in 8.65 sec. Users per second: 4072\n"
     ]
    },
    {
     "name": "stderr",
     "output_type": "stream",
     "text": [
      "[I 2025-01-07 02:01:15,061] Trial 365 finished with value: 0.042835152853683535 and parameters: {'topK': 4, 'shrink': 21.924815256781766, 'feature_weighting': 'TF-IDF', 'normalize': True, 'tversky_alpha': 0.2193580658632833, 'tversky_beta': 2.3011728341513837}. Best is trial 307 with value: 0.042845500361332826.\n"
     ]
    },
    {
     "name": "stdout",
     "output_type": "stream",
     "text": [
      "Similarity column 38121 (100.0%), 1577.34 column/sec. Elapsed time 24.17 sec\n",
      "EvaluatorHoldout: Processed 35209 (100.0%) in 8.65 sec. Users per second: 4068\n"
     ]
    },
    {
     "name": "stderr",
     "output_type": "stream",
     "text": [
      "[I 2025-01-07 02:01:48,060] Trial 366 finished with value: 0.04256930835234536 and parameters: {'topK': 3, 'shrink': 21.923347733122117, 'feature_weighting': 'TF-IDF', 'normalize': True, 'tversky_alpha': 0.2264573954499414, 'tversky_beta': 2.299964086566462}. Best is trial 307 with value: 0.042845500361332826.\n"
     ]
    },
    {
     "name": "stdout",
     "output_type": "stream",
     "text": [
      "Similarity column 38121 (100.0%), 4637.55 column/sec. Elapsed time 8.22 sec\n",
      "EvaluatorHoldout: Processed 35209 (100.0%) in 8.72 sec. Users per second: 4036\n"
     ]
    },
    {
     "name": "stderr",
     "output_type": "stream",
     "text": [
      "[I 2025-01-07 02:02:05,187] Trial 367 finished with value: 0.042831967791422614 and parameters: {'topK': 4, 'shrink': 22.44019036816185, 'feature_weighting': 'TF-IDF', 'normalize': True, 'tversky_alpha': 0.21982816965476148, 'tversky_beta': 2.3250408053119798}. Best is trial 307 with value: 0.042845500361332826.\n"
     ]
    },
    {
     "name": "stdout",
     "output_type": "stream",
     "text": [
      "Similarity column 38121 (100.0%), 4648.50 column/sec. Elapsed time 8.20 sec\n",
      "EvaluatorHoldout: Processed 35209 (100.0%) in 8.63 sec. Users per second: 4081\n"
     ]
    },
    {
     "name": "stderr",
     "output_type": "stream",
     "text": [
      "[I 2025-01-07 02:02:22,193] Trial 368 finished with value: 0.042651207055193034 and parameters: {'topK': 5, 'shrink': 23.302409957309663, 'feature_weighting': 'TF-IDF', 'normalize': True, 'tversky_alpha': 0.22412809309279144, 'tversky_beta': 2.308276999748457}. Best is trial 307 with value: 0.042845500361332826.\n"
     ]
    },
    {
     "name": "stdout",
     "output_type": "stream",
     "text": [
      "Similarity column 38121 (100.0%), 4660.77 column/sec. Elapsed time 8.18 sec\n",
      "EvaluatorHoldout: Processed 35209 (100.0%) in 8.77 sec. Users per second: 4016\n"
     ]
    },
    {
     "name": "stderr",
     "output_type": "stream",
     "text": [
      "[I 2025-01-07 02:02:39,312] Trial 369 finished with value: 0.03950984867234838 and parameters: {'topK': 4, 'shrink': 22.713752783822727, 'feature_weighting': 'BM25', 'normalize': False, 'tversky_alpha': 0.24479219520745932, 'tversky_beta': 2.365190718793653}. Best is trial 307 with value: 0.042845500361332826.\n"
     ]
    },
    {
     "name": "stdout",
     "output_type": "stream",
     "text": [
      "Similarity column 38121 (100.0%), 1574.38 column/sec. Elapsed time 24.21 sec\n",
      "EvaluatorHoldout: Processed 35209 (100.0%) in 8.69 sec. Users per second: 4050\n"
     ]
    },
    {
     "name": "stderr",
     "output_type": "stream",
     "text": [
      "[I 2025-01-07 02:03:12,392] Trial 370 finished with value: 0.04262533884959833 and parameters: {'topK': 3, 'shrink': 22.49339575926161, 'feature_weighting': 'TF-IDF', 'normalize': True, 'tversky_alpha': 0.23604054525095752, 'tversky_beta': 2.2451498669055954}. Best is trial 307 with value: 0.042845500361332826.\n"
     ]
    },
    {
     "name": "stdout",
     "output_type": "stream",
     "text": [
      "Similarity column 38121 (100.0%), 4719.82 column/sec. Elapsed time 8.08 sec\n",
      "EvaluatorHoldout: Processed 35209 (100.0%) in 8.72 sec. Users per second: 4040\n"
     ]
    },
    {
     "name": "stderr",
     "output_type": "stream",
     "text": [
      "[I 2025-01-07 02:03:29,357] Trial 371 finished with value: 0.0427734431176717 and parameters: {'topK': 4, 'shrink': 22.13116355588465, 'feature_weighting': 'TF-IDF', 'normalize': True, 'tversky_alpha': 0.21883942199546125, 'tversky_beta': 2.1803449431336257}. Best is trial 307 with value: 0.042845500361332826.\n"
     ]
    },
    {
     "name": "stdout",
     "output_type": "stream",
     "text": [
      "Similarity column 38121 (100.0%), 4610.18 column/sec. Elapsed time 8.27 sec\n",
      "EvaluatorHoldout: Processed 35209 (100.0%) in 9.07 sec. Users per second: 3883\n"
     ]
    },
    {
     "name": "stderr",
     "output_type": "stream",
     "text": [
      "[I 2025-01-07 02:03:46,865] Trial 372 finished with value: 0.04057817783782578 and parameters: {'topK': 16, 'shrink': 21.667511333478455, 'feature_weighting': 'TF-IDF', 'normalize': True, 'tversky_alpha': 0.23183076251971152, 'tversky_beta': 2.2853762761852097}. Best is trial 307 with value: 0.042845500361332826.\n"
     ]
    },
    {
     "name": "stdout",
     "output_type": "stream",
     "text": [
      "Similarity column 38121 (100.0%), 4688.57 column/sec. Elapsed time 8.13 sec\n",
      "EvaluatorHoldout: Processed 35209 (100.0%) in 9.00 sec. Users per second: 3912\n"
     ]
    },
    {
     "name": "stderr",
     "output_type": "stream",
     "text": [
      "[I 2025-01-07 02:04:04,175] Trial 373 finished with value: 0.04100863460686079 and parameters: {'topK': 13, 'shrink': 22.890292860653716, 'feature_weighting': 'TF-IDF', 'normalize': True, 'tversky_alpha': 0.21776612159750167, 'tversky_beta': 2.1340386982095345}. Best is trial 307 with value: 0.042845500361332826.\n"
     ]
    },
    {
     "name": "stdout",
     "output_type": "stream",
     "text": [
      "Similarity column 38121 (100.0%), 4631.62 column/sec. Elapsed time 8.23 sec\n",
      "EvaluatorHoldout: Processed 35209 (100.0%) in 8.65 sec. Users per second: 4069\n"
     ]
    },
    {
     "name": "stderr",
     "output_type": "stream",
     "text": [
      "[I 2025-01-07 02:04:21,237] Trial 374 finished with value: 0.042678550578020676 and parameters: {'topK': 5, 'shrink': 22.173043650612914, 'feature_weighting': 'TF-IDF', 'normalize': True, 'tversky_alpha': 0.22605260180025347, 'tversky_beta': 2.0622006664442583}. Best is trial 307 with value: 0.042845500361332826.\n"
     ]
    },
    {
     "name": "stdout",
     "output_type": "stream",
     "text": [
      "Similarity column 38121 (100.0%), 2210.07 column/sec. Elapsed time 17.25 sec\n",
      "EvaluatorHoldout: Processed 35209 (100.0%) in 8.67 sec. Users per second: 4063\n"
     ]
    },
    {
     "name": "stderr",
     "output_type": "stream",
     "text": [
      "[I 2025-01-07 02:04:47,321] Trial 375 finished with value: 0.04152783920236703 and parameters: {'topK': 2, 'shrink': 21.252683639453643, 'feature_weighting': 'TF-IDF', 'normalize': True, 'tversky_alpha': 0.21155690038653369, 'tversky_beta': 2.2223175256607135}. Best is trial 307 with value: 0.042845500361332826.\n"
     ]
    },
    {
     "name": "stdout",
     "output_type": "stream",
     "text": [
      "Similarity column 38121 (100.0%), 4705.37 column/sec. Elapsed time 8.10 sec\n",
      "EvaluatorHoldout: Processed 35209 (100.0%) in 8.61 sec. Users per second: 4088\n"
     ]
    },
    {
     "name": "stderr",
     "output_type": "stream",
     "text": [
      "[I 2025-01-07 02:05:04,208] Trial 376 finished with value: 0.042661555689899176 and parameters: {'topK': 4, 'shrink': 20.708351459432404, 'feature_weighting': 'TF-IDF', 'normalize': True, 'tversky_alpha': 0.12987402588519908, 'tversky_beta': 2.3392944687465906}. Best is trial 307 with value: 0.042845500361332826.\n"
     ]
    },
    {
     "name": "stdout",
     "output_type": "stream",
     "text": [
      "Similarity column 38121 (100.0%), 1574.06 column/sec. Elapsed time 24.22 sec\n",
      "EvaluatorHoldout: Processed 35209 (100.0%) in 8.76 sec. Users per second: 4021\n"
     ]
    },
    {
     "name": "stderr",
     "output_type": "stream",
     "text": [
      "[I 2025-01-07 02:05:37,352] Trial 377 finished with value: 0.04260092229304506 and parameters: {'topK': 3, 'shrink': 23.532681022780846, 'feature_weighting': 'TF-IDF', 'normalize': True, 'tversky_alpha': 0.2168632000438851, 'tversky_beta': 2.2611514831768798}. Best is trial 307 with value: 0.042845500361332826.\n"
     ]
    },
    {
     "name": "stdout",
     "output_type": "stream",
     "text": [
      "Similarity column 38121 (100.0%), 4658.79 column/sec. Elapsed time 8.18 sec\n",
      "EvaluatorHoldout: Processed 35209 (100.0%) in 8.75 sec. Users per second: 4022\n"
     ]
    },
    {
     "name": "stderr",
     "output_type": "stream",
     "text": [
      "[I 2025-01-07 02:05:54,462] Trial 378 finished with value: 0.04247179540584479 and parameters: {'topK': 6, 'shrink': 21.688188324351696, 'feature_weighting': 'TF-IDF', 'normalize': True, 'tversky_alpha': 0.20859684234874254, 'tversky_beta': 2.306551838361181}. Best is trial 307 with value: 0.042845500361332826.\n"
     ]
    },
    {
     "name": "stdout",
     "output_type": "stream",
     "text": [
      "Similarity column 38121 (100.0%), 4648.27 column/sec. Elapsed time 8.20 sec\n",
      "EvaluatorHoldout: Processed 35209 (100.0%) in 8.63 sec. Users per second: 4079\n"
     ]
    },
    {
     "name": "stderr",
     "output_type": "stream",
     "text": [
      "[I 2025-01-07 02:06:11,465] Trial 379 finished with value: 0.04263896721932854 and parameters: {'topK': 5, 'shrink': 18.386455252143655, 'feature_weighting': 'TF-IDF', 'normalize': True, 'tversky_alpha': 0.2248076528997078, 'tversky_beta': 1.8484725430737592}. Best is trial 307 with value: 0.042845500361332826.\n"
     ]
    },
    {
     "name": "stdout",
     "output_type": "stream",
     "text": [
      "Similarity column 38121 (100.0%), 4623.11 column/sec. Elapsed time 8.25 sec\n",
      "EvaluatorHoldout: Processed 35209 (100.0%) in 8.70 sec. Users per second: 4049\n"
     ]
    },
    {
     "name": "stderr",
     "output_type": "stream",
     "text": [
      "[I 2025-01-07 02:06:28,575] Trial 380 finished with value: 0.0428359012193385 and parameters: {'topK': 4, 'shrink': 21.054967700366955, 'feature_weighting': 'TF-IDF', 'normalize': True, 'tversky_alpha': 0.2104345318022027, 'tversky_beta': 2.220332864746076}. Best is trial 307 with value: 0.042845500361332826.\n"
     ]
    },
    {
     "name": "stdout",
     "output_type": "stream",
     "text": [
      "Similarity column 38121 (100.0%), 4613.55 column/sec. Elapsed time 8.26 sec\n",
      "EvaluatorHoldout: Processed 35209 (100.0%) in 8.73 sec. Users per second: 4035\n"
     ]
    },
    {
     "name": "stderr",
     "output_type": "stream",
     "text": [
      "[I 2025-01-07 02:06:45,738] Trial 381 finished with value: 0.04278523100379585 and parameters: {'topK': 4, 'shrink': 20.556875065239982, 'feature_weighting': 'TF-IDF', 'normalize': True, 'tversky_alpha': 0.23166381262439711, 'tversky_beta': 2.1613524888407145}. Best is trial 307 with value: 0.042845500361332826.\n"
     ]
    },
    {
     "name": "stdout",
     "output_type": "stream",
     "text": [
      "Similarity column 38121 (100.0%), 4680.17 column/sec. Elapsed time 8.15 sec\n",
      "EvaluatorHoldout: Processed 35209 (100.0%) in 8.62 sec. Users per second: 4084\n"
     ]
    },
    {
     "name": "stderr",
     "output_type": "stream",
     "text": [
      "[I 2025-01-07 02:07:02,681] Trial 382 finished with value: 0.042710425995877044 and parameters: {'topK': 4, 'shrink': 21.05408561058088, 'feature_weighting': 'TF-IDF', 'normalize': True, 'tversky_alpha': 0.2509356366750617, 'tversky_beta': 2.031894958835389}. Best is trial 307 with value: 0.042845500361332826.\n"
     ]
    },
    {
     "name": "stdout",
     "output_type": "stream",
     "text": [
      "Similarity column 38121 (100.0%), 1570.10 column/sec. Elapsed time 24.28 sec\n",
      "EvaluatorHoldout: Processed 35209 (100.0%) in 8.59 sec. Users per second: 4099\n"
     ]
    },
    {
     "name": "stderr",
     "output_type": "stream",
     "text": [
      "[I 2025-01-07 02:07:35,724] Trial 383 finished with value: 0.04256228228081875 and parameters: {'topK': 3, 'shrink': 20.862953151748254, 'feature_weighting': 'TF-IDF', 'normalize': True, 'tversky_alpha': 0.21906682642379272, 'tversky_beta': 2.196128466255982}. Best is trial 307 with value: 0.042845500361332826.\n"
     ]
    },
    {
     "name": "stdout",
     "output_type": "stream",
     "text": [
      "Similarity column 38121 (100.0%), 4722.47 column/sec. Elapsed time 8.07 sec\n",
      "EvaluatorHoldout: Processed 35209 (100.0%) in 8.68 sec. Users per second: 4056\n"
     ]
    },
    {
     "name": "stderr",
     "output_type": "stream",
     "text": [
      "[I 2025-01-07 02:07:52,647] Trial 384 finished with value: 0.042626273179610236 and parameters: {'topK': 5, 'shrink': 19.475121345668533, 'feature_weighting': 'TF-IDF', 'normalize': True, 'tversky_alpha': 0.21066584402542557, 'tversky_beta': 2.0861361442026407}. Best is trial 307 with value: 0.042845500361332826.\n"
     ]
    },
    {
     "name": "stdout",
     "output_type": "stream",
     "text": [
      "Similarity column 38121 (100.0%), 4731.26 column/sec. Elapsed time 8.06 sec\n",
      "EvaluatorHoldout: Processed 35209 (100.0%) in 8.64 sec. Users per second: 4077\n"
     ]
    },
    {
     "name": "stderr",
     "output_type": "stream",
     "text": [
      "[I 2025-01-07 02:08:09,511] Trial 385 finished with value: 0.042810002583212464 and parameters: {'topK': 4, 'shrink': 19.77874076544959, 'feature_weighting': 'TF-IDF', 'normalize': True, 'tversky_alpha': 0.20509598927376835, 'tversky_beta': 2.2241448575637066}. Best is trial 307 with value: 0.042845500361332826.\n"
     ]
    },
    {
     "name": "stdout",
     "output_type": "stream",
     "text": [
      "Similarity column 38121 (100.0%), 1576.06 column/sec. Elapsed time 24.19 sec\n",
      "EvaluatorHoldout: Processed 35209 (100.0%) in 8.67 sec. Users per second: 4061\n"
     ]
    },
    {
     "name": "stderr",
     "output_type": "stream",
     "text": [
      "[I 2025-01-07 02:08:42,548] Trial 386 finished with value: 0.04261774361443344 and parameters: {'topK': 3, 'shrink': 21.288440502311595, 'feature_weighting': 'TF-IDF', 'normalize': True, 'tversky_alpha': 0.22076468877580824, 'tversky_beta': 2.1222257401577}. Best is trial 307 with value: 0.042845500361332826.\n"
     ]
    },
    {
     "name": "stdout",
     "output_type": "stream",
     "text": [
      "Similarity column 38121 (100.0%), 2189.06 column/sec. Elapsed time 17.41 sec\n",
      "EvaluatorHoldout: Processed 35209 (100.0%) in 8.54 sec. Users per second: 4123\n"
     ]
    },
    {
     "name": "stderr",
     "output_type": "stream",
     "text": [
      "[I 2025-01-07 02:09:08,672] Trial 387 finished with value: 0.04149398805409905 and parameters: {'topK': 2, 'shrink': 22.390569615728054, 'feature_weighting': 'TF-IDF', 'normalize': True, 'tversky_alpha': 0.21329841125714405, 'tversky_beta': 2.3921063933425724}. Best is trial 307 with value: 0.042845500361332826.\n"
     ]
    },
    {
     "name": "stdout",
     "output_type": "stream",
     "text": [
      "Similarity column 38121 (100.0%), 4611.48 column/sec. Elapsed time 8.27 sec\n",
      "EvaluatorHoldout: Processed 35209 (100.0%) in 8.75 sec. Users per second: 4025\n"
     ]
    },
    {
     "name": "stderr",
     "output_type": "stream",
     "text": [
      "[I 2025-01-07 02:09:25,865] Trial 388 finished with value: 0.042646859997464884 and parameters: {'topK': 5, 'shrink': 20.582461960328942, 'feature_weighting': 'TF-IDF', 'normalize': True, 'tversky_alpha': 0.22992726228066743, 'tversky_beta': 2.2823254758572546}. Best is trial 307 with value: 0.042845500361332826.\n"
     ]
    },
    {
     "name": "stdout",
     "output_type": "stream",
     "text": [
      "Similarity column 38121 (100.0%), 4717.68 column/sec. Elapsed time 8.08 sec\n",
      "EvaluatorHoldout: Processed 35209 (100.0%) in 8.70 sec. Users per second: 4045\n"
     ]
    },
    {
     "name": "stderr",
     "output_type": "stream",
     "text": [
      "[I 2025-01-07 02:09:42,820] Trial 389 finished with value: 0.04281993984221955 and parameters: {'topK': 4, 'shrink': 21.949390313975087, 'feature_weighting': 'TF-IDF', 'normalize': False, 'tversky_alpha': 0.20238810907679564, 'tversky_beta': 2.3281822466119917}. Best is trial 307 with value: 0.042845500361332826.\n"
     ]
    },
    {
     "name": "stdout",
     "output_type": "stream",
     "text": [
      "Similarity column 38121 (100.0%), 1570.11 column/sec. Elapsed time 24.28 sec\n",
      "EvaluatorHoldout: Processed 35209 (100.0%) in 8.54 sec. Users per second: 4124\n"
     ]
    },
    {
     "name": "stderr",
     "output_type": "stream",
     "text": [
      "[I 2025-01-07 02:10:15,816] Trial 390 finished with value: 0.04263800471289896 and parameters: {'topK': 3, 'shrink': 19.93280582429634, 'feature_weighting': 'TF-IDF', 'normalize': True, 'tversky_alpha': 0.2132242407447709, 'tversky_beta': 1.963109223190827}. Best is trial 307 with value: 0.042845500361332826.\n"
     ]
    },
    {
     "name": "stdout",
     "output_type": "stream",
     "text": [
      "Similarity column 38121 (100.0%), 4659.31 column/sec. Elapsed time 8.18 sec\n",
      "EvaluatorHoldout: Processed 35209 (100.0%) in 9.34 sec. Users per second: 3770\n"
     ]
    },
    {
     "name": "stderr",
     "output_type": "stream",
     "text": [
      "[I 2025-01-07 02:10:33,517] Trial 391 finished with value: 0.038109615957678845 and parameters: {'topK': 25, 'shrink': 21.164430285736085, 'feature_weighting': 'TF-IDF', 'normalize': True, 'tversky_alpha': 0.23799140191232812, 'tversky_beta': 0.9479542912780002}. Best is trial 307 with value: 0.042845500361332826.\n"
     ]
    },
    {
     "name": "stdout",
     "output_type": "stream",
     "text": [
      "Similarity column 38121 (100.0%), 4655.85 column/sec. Elapsed time 8.19 sec\n",
      "EvaluatorHoldout: Processed 35209 (100.0%) in 9.16 sec. Users per second: 3843\n"
     ]
    },
    {
     "name": "stderr",
     "output_type": "stream",
     "text": [
      "[I 2025-01-07 02:10:51,047] Trial 392 finished with value: 0.03740062740992781 and parameters: {'topK': 21, 'shrink': 18.717414879375934, 'feature_weighting': 'BM25', 'normalize': True, 'tversky_alpha': 0.22374912472773906, 'tversky_beta': 2.1701476792077172}. Best is trial 307 with value: 0.042845500361332826.\n"
     ]
    },
    {
     "name": "stdout",
     "output_type": "stream",
     "text": [
      "Similarity column 38121 (100.0%), 4642.75 column/sec. Elapsed time 8.21 sec\n",
      "EvaluatorHoldout: Processed 35209 (100.0%) in 8.83 sec. Users per second: 3987\n"
     ]
    },
    {
     "name": "stderr",
     "output_type": "stream",
     "text": [
      "[I 2025-01-07 02:11:08,264] Trial 393 finished with value: 0.04215022020433838 and parameters: {'topK': 6, 'shrink': 20.679146823813667, 'feature_weighting': 'TF-IDF', 'normalize': True, 'tversky_alpha': 0.3191833352823321, 'tversky_beta': 1.5058630167266285}. Best is trial 307 with value: 0.042845500361332826.\n"
     ]
    },
    {
     "name": "stdout",
     "output_type": "stream",
     "text": [
      "Similarity column 38121 (100.0%), 4635.65 column/sec. Elapsed time 8.22 sec\n",
      "EvaluatorHoldout: Processed 35209 (100.0%) in 8.61 sec. Users per second: 4091\n"
     ]
    },
    {
     "name": "stderr",
     "output_type": "stream",
     "text": [
      "[I 2025-01-07 02:11:25,266] Trial 394 finished with value: 0.042828784983275164 and parameters: {'topK': 4, 'shrink': 21.67919687014196, 'feature_weighting': 'TF-IDF', 'normalize': True, 'tversky_alpha': 0.20561084727323062, 'tversky_beta': 2.2262551355343874}. Best is trial 307 with value: 0.042845500361332826.\n"
     ]
    },
    {
     "name": "stdout",
     "output_type": "stream",
     "text": [
      "Similarity column 38121 (100.0%), 4621.90 column/sec. Elapsed time 8.25 sec\n",
      "EvaluatorHoldout: Processed 35209 (100.0%) in 8.72 sec. Users per second: 4036\n"
     ]
    },
    {
     "name": "stderr",
     "output_type": "stream",
     "text": [
      "[I 2025-01-07 02:11:42,411] Trial 395 finished with value: 0.042677841659350485 and parameters: {'topK': 5, 'shrink': 22.60625999556511, 'feature_weighting': 'TF-IDF', 'normalize': True, 'tversky_alpha': 0.20816794837933703, 'tversky_beta': 2.212503464460229}. Best is trial 307 with value: 0.042845500361332826.\n"
     ]
    },
    {
     "name": "stdout",
     "output_type": "stream",
     "text": [
      "Similarity column 38121 (100.0%), 1578.00 column/sec. Elapsed time 24.16 sec\n",
      "EvaluatorHoldout: Processed 35209 (100.0%) in 8.60 sec. Users per second: 4094\n"
     ]
    },
    {
     "name": "stderr",
     "output_type": "stream",
     "text": [
      "[I 2025-01-07 02:12:15,340] Trial 396 finished with value: 0.042602728964950376 and parameters: {'topK': 3, 'shrink': 22.00438599970422, 'feature_weighting': 'TF-IDF', 'normalize': True, 'tversky_alpha': 0.21921812852587383, 'tversky_beta': 2.1467038554119124}. Best is trial 307 with value: 0.042845500361332826.\n"
     ]
    },
    {
     "name": "stdout",
     "output_type": "stream",
     "text": [
      "Similarity column 38121 (100.0%), 4684.03 column/sec. Elapsed time 8.14 sec\n",
      "EvaluatorHoldout: Processed 35209 (100.0%) in 8.64 sec. Users per second: 4076\n"
     ]
    },
    {
     "name": "stderr",
     "output_type": "stream",
     "text": [
      "[I 2025-01-07 02:12:32,289] Trial 397 finished with value: 0.04282241598581012 and parameters: {'topK': 4, 'shrink': 21.52068842712838, 'feature_weighting': 'TF-IDF', 'normalize': True, 'tversky_alpha': 0.213163027942381, 'tversky_beta': 2.21938551051231}. Best is trial 307 with value: 0.042845500361332826.\n"
     ]
    },
    {
     "name": "stdout",
     "output_type": "stream",
     "text": [
      "Similarity column 38121 (100.0%), 4646.01 column/sec. Elapsed time 8.21 sec\n",
      "EvaluatorHoldout: Processed 35209 (100.0%) in 8.69 sec. Users per second: 4054\n"
     ]
    },
    {
     "name": "stderr",
     "output_type": "stream",
     "text": [
      "[I 2025-01-07 02:12:49,351] Trial 398 finished with value: 0.04279902730497595 and parameters: {'topK': 4, 'shrink': 22.29505158032306, 'feature_weighting': 'TF-IDF', 'normalize': True, 'tversky_alpha': 0.20326581106728828, 'tversky_beta': 2.250429078938862}. Best is trial 307 with value: 0.042845500361332826.\n"
     ]
    },
    {
     "name": "stdout",
     "output_type": "stream",
     "text": [
      "Similarity column 38121 (100.0%), 4703.72 column/sec. Elapsed time 8.10 sec\n",
      "EvaluatorHoldout: Processed 35209 (100.0%) in 8.74 sec. Users per second: 4030\n"
     ]
    },
    {
     "name": "stderr",
     "output_type": "stream",
     "text": [
      "[I 2025-01-07 02:13:06,366] Trial 399 finished with value: 0.04265116648115149 and parameters: {'topK': 5, 'shrink': 21.684509269938644, 'feature_weighting': 'TF-IDF', 'normalize': True, 'tversky_alpha': 0.22538963854839245, 'tversky_beta': 2.1903203418580497}. Best is trial 307 with value: 0.042845500361332826.\n"
     ]
    },
    {
     "name": "stdout",
     "output_type": "stream",
     "text": [
      "Similarity column 38121 (100.0%), 4609.73 column/sec. Elapsed time 8.27 sec\n",
      "EvaluatorHoldout: Processed 35209 (100.0%) in 9.15 sec. Users per second: 3848\n"
     ]
    },
    {
     "name": "stderr",
     "output_type": "stream",
     "text": [
      "[I 2025-01-07 02:13:23,961] Trial 400 finished with value: 0.04026972946581407 and parameters: {'topK': 17, 'shrink': 23.116072627564826, 'feature_weighting': 'TF-IDF', 'normalize': True, 'tversky_alpha': 0.20938145781120598, 'tversky_beta': 2.0915638905647356}. Best is trial 307 with value: 0.042845500361332826.\n"
     ]
    },
    {
     "name": "stdout",
     "output_type": "stream",
     "text": [
      "Similarity column 38121 (100.0%), 4618.93 column/sec. Elapsed time 8.25 sec\n",
      "EvaluatorHoldout: Processed 35209 (100.0%) in 8.71 sec. Users per second: 4041\n"
     ]
    },
    {
     "name": "stderr",
     "output_type": "stream",
     "text": [
      "[I 2025-01-07 02:13:41,090] Trial 401 finished with value: 0.042816239715042406 and parameters: {'topK': 4, 'shrink': 21.344615786200535, 'feature_weighting': 'TF-IDF', 'normalize': True, 'tversky_alpha': 0.21773498323676196, 'tversky_beta': 2.2355100894562665}. Best is trial 307 with value: 0.042845500361332826.\n"
     ]
    },
    {
     "name": "stdout",
     "output_type": "stream",
     "text": [
      "Similarity column 38121 (100.0%), 1577.57 column/sec. Elapsed time 24.16 sec\n",
      "EvaluatorHoldout: Processed 35209 (100.0%) in 8.61 sec. Users per second: 4091\n"
     ]
    },
    {
     "name": "stderr",
     "output_type": "stream",
     "text": [
      "[I 2025-01-07 02:14:14,037] Trial 402 finished with value: 0.04254970770911137 and parameters: {'topK': 3, 'shrink': 17.945565715896983, 'feature_weighting': 'TF-IDF', 'normalize': True, 'tversky_alpha': 0.20055443555587552, 'tversky_beta': 2.166928234281148}. Best is trial 307 with value: 0.042845500361332826.\n"
     ]
    },
    {
     "name": "stdout",
     "output_type": "stream",
     "text": [
      "Similarity column 38121 (100.0%), 4671.36 column/sec. Elapsed time 8.16 sec\n",
      "EvaluatorHoldout: Processed 35209 (100.0%) in 8.64 sec. Users per second: 4073\n"
     ]
    },
    {
     "name": "stderr",
     "output_type": "stream",
     "text": [
      "[I 2025-01-07 02:14:31,014] Trial 403 finished with value: 0.04265956192658008 and parameters: {'topK': 5, 'shrink': 22.03960287159723, 'feature_weighting': 'TF-IDF', 'normalize': True, 'tversky_alpha': 0.23281418080326197, 'tversky_beta': 2.2726529360854344}. Best is trial 307 with value: 0.042845500361332826.\n"
     ]
    },
    {
     "name": "stdout",
     "output_type": "stream",
     "text": [
      "Similarity column 38121 (100.0%), 1579.67 column/sec. Elapsed time 24.13 sec\n",
      "EvaluatorHoldout: Processed 35209 (100.0%) in 8.58 sec. Users per second: 4103\n"
     ]
    },
    {
     "name": "stderr",
     "output_type": "stream",
     "text": [
      "[I 2025-01-07 02:15:03,899] Trial 404 finished with value: 0.04257705348605263 and parameters: {'topK': 3, 'shrink': 21.032252006795634, 'feature_weighting': 'TF-IDF', 'normalize': True, 'tversky_alpha': 0.20689005202830246, 'tversky_beta': 2.1144988417269337}. Best is trial 307 with value: 0.042845500361332826.\n"
     ]
    },
    {
     "name": "stdout",
     "output_type": "stream",
     "text": [
      "Similarity column 38121 (100.0%), 2200.03 column/sec. Elapsed time 17.33 sec\n",
      "EvaluatorHoldout: Processed 35209 (100.0%) in 8.47 sec. Users per second: 4155\n"
     ]
    },
    {
     "name": "stderr",
     "output_type": "stream",
     "text": [
      "[I 2025-01-07 02:15:29,874] Trial 405 finished with value: 0.040982987304381095 and parameters: {'topK': 2, 'shrink': 19.185251698733154, 'feature_weighting': 'TF-IDF', 'normalize': True, 'tversky_alpha': 0.22118757931175614, 'tversky_beta': 1.1706748161868987}. Best is trial 307 with value: 0.042845500361332826.\n"
     ]
    },
    {
     "name": "stdout",
     "output_type": "stream",
     "text": [
      "Similarity column 38121 (100.0%), 4713.44 column/sec. Elapsed time 8.09 sec\n",
      "EvaluatorHoldout: Processed 35209 (100.0%) in 8.79 sec. Users per second: 4007\n"
     ]
    },
    {
     "name": "stderr",
     "output_type": "stream",
     "text": [
      "[I 2025-01-07 02:15:46,919] Trial 406 finished with value: 0.04216769634567489 and parameters: {'topK': 7, 'shrink': 20.13570749945456, 'feature_weighting': 'TF-IDF', 'normalize': True, 'tversky_alpha': 0.2134822015411857, 'tversky_beta': 2.3300021717350115}. Best is trial 307 with value: 0.042845500361332826.\n"
     ]
    },
    {
     "name": "stdout",
     "output_type": "stream",
     "text": [
      "Similarity column 38121 (100.0%), 4622.79 column/sec. Elapsed time 8.25 sec\n",
      "EvaluatorHoldout: Processed 35209 (100.0%) in 8.76 sec. Users per second: 4020\n"
     ]
    },
    {
     "name": "stderr",
     "output_type": "stream",
     "text": [
      "[I 2025-01-07 02:16:04,102] Trial 407 finished with value: 0.03958945832301938 and parameters: {'topK': 4, 'shrink': 21.717045593267464, 'feature_weighting': 'BM25', 'normalize': True, 'tversky_alpha': 0.1979410657044489, 'tversky_beta': 2.2386445604982983}. Best is trial 307 with value: 0.042845500361332826.\n"
     ]
    },
    {
     "name": "stdout",
     "output_type": "stream",
     "text": [
      "Similarity column 38121 (100.0%), 4719.42 column/sec. Elapsed time 8.08 sec\n",
      "EvaluatorHoldout: Processed 35209 (100.0%) in 8.61 sec. Users per second: 4087\n"
     ]
    },
    {
     "name": "stderr",
     "output_type": "stream",
     "text": [
      "[I 2025-01-07 02:16:20,968] Trial 408 finished with value: 0.04281473058610849 and parameters: {'topK': 4, 'shrink': 22.73020546692954, 'feature_weighting': 'TF-IDF', 'normalize': True, 'tversky_alpha': 0.20373342941890013, 'tversky_beta': 2.1874117629930123}. Best is trial 307 with value: 0.042845500361332826.\n"
     ]
    },
    {
     "name": "stdout",
     "output_type": "stream",
     "text": [
      "Similarity column 38121 (100.0%), 4619.98 column/sec. Elapsed time 8.25 sec\n",
      "EvaluatorHoldout: Processed 35209 (100.0%) in 8.76 sec. Users per second: 4018\n"
     ]
    },
    {
     "name": "stderr",
     "output_type": "stream",
     "text": [
      "[I 2025-01-07 02:16:38,161] Trial 409 finished with value: 0.042354738168946124 and parameters: {'topK': 5, 'shrink': 20.67278885736372, 'feature_weighting': 'TF-IDF', 'normalize': False, 'tversky_alpha': 0.22584445430399125, 'tversky_beta': 1.349282912315434}. Best is trial 307 with value: 0.042845500361332826.\n"
     ]
    },
    {
     "name": "stdout",
     "output_type": "stream",
     "text": [
      "Similarity column 38121 (100.0%), 4619.68 column/sec. Elapsed time 8.25 sec\n",
      "EvaluatorHoldout: Processed 35209 (100.0%) in 8.69 sec. Users per second: 4051\n"
     ]
    },
    {
     "name": "stderr",
     "output_type": "stream",
     "text": [
      "[I 2025-01-07 02:16:55,283] Trial 410 finished with value: 0.042768193287519095 and parameters: {'topK': 4, 'shrink': 21.23789748231563, 'feature_weighting': 'TF-IDF', 'normalize': True, 'tversky_alpha': 0.21463821894998827, 'tversky_beta': 2.0271209356948097}. Best is trial 307 with value: 0.042845500361332826.\n"
     ]
    },
    {
     "name": "stdout",
     "output_type": "stream",
     "text": [
      "Similarity column 38121 (100.0%), 4694.44 column/sec. Elapsed time 8.12 sec\n",
      "EvaluatorHoldout: Processed 35209 (100.0%) in 8.78 sec. Users per second: 4012\n"
     ]
    },
    {
     "name": "stderr",
     "output_type": "stream",
     "text": [
      "[I 2025-01-07 02:17:12,348] Trial 411 finished with value: 0.04246158427205737 and parameters: {'topK': 6, 'shrink': 19.88699064293281, 'feature_weighting': 'TF-IDF', 'normalize': True, 'tversky_alpha': 0.2083947647794007, 'tversky_beta': 2.2998902358652975}. Best is trial 307 with value: 0.042845500361332826.\n"
     ]
    },
    {
     "name": "stdout",
     "output_type": "stream",
     "text": [
      "Similarity column 38121 (100.0%), 1578.78 column/sec. Elapsed time 24.15 sec\n",
      "EvaluatorHoldout: Processed 35209 (100.0%) in 8.59 sec. Users per second: 4100\n"
     ]
    },
    {
     "name": "stderr",
     "output_type": "stream",
     "text": [
      "[I 2025-01-07 02:17:45,255] Trial 412 finished with value: 0.0415632659759147 and parameters: {'topK': 3, 'shrink': 22.081135147964876, 'feature_weighting': 'TF-IDF', 'normalize': True, 'tversky_alpha': 0.19372671235297922, 'tversky_beta': 0.859166400415905}. Best is trial 307 with value: 0.042845500361332826.\n"
     ]
    },
    {
     "name": "stdout",
     "output_type": "stream",
     "text": [
      "Similarity column 38121 (100.0%), 4670.85 column/sec. Elapsed time 8.16 sec\n",
      "EvaluatorHoldout: Processed 35209 (100.0%) in 8.67 sec. Users per second: 4063\n"
     ]
    },
    {
     "name": "stderr",
     "output_type": "stream",
     "text": [
      "[I 2025-01-07 02:18:02,255] Trial 413 finished with value: 0.04268449918333326 and parameters: {'topK': 5, 'shrink': 20.589775689236212, 'feature_weighting': 'TF-IDF', 'normalize': True, 'tversky_alpha': 0.22080891281496715, 'tversky_beta': 2.2616691740720443}. Best is trial 307 with value: 0.042845500361332826.\n"
     ]
    },
    {
     "name": "stdout",
     "output_type": "stream",
     "text": [
      "Similarity column 38121 (100.0%), 4608.02 column/sec. Elapsed time 8.27 sec\n",
      "EvaluatorHoldout: Processed 35209 (100.0%) in 8.70 sec. Users per second: 4047\n"
     ]
    },
    {
     "name": "stderr",
     "output_type": "stream",
     "text": [
      "[I 2025-01-07 02:18:19,400] Trial 414 finished with value: 0.04281730140246274 and parameters: {'topK': 4, 'shrink': 21.405978280123193, 'feature_weighting': 'TF-IDF', 'normalize': True, 'tversky_alpha': 0.23760896896754413, 'tversky_beta': 2.363912287644623}. Best is trial 307 with value: 0.042845500361332826.\n"
     ]
    },
    {
     "name": "stdout",
     "output_type": "stream",
     "text": [
      "Similarity column 38121 (100.0%), 1585.20 column/sec. Elapsed time 24.05 sec\n",
      "EvaluatorHoldout: Processed 35209 (100.0%) in 8.62 sec. Users per second: 4086\n"
     ]
    },
    {
     "name": "stderr",
     "output_type": "stream",
     "text": [
      "[I 2025-01-07 02:18:52,239] Trial 415 finished with value: 0.042579092331640006 and parameters: {'topK': 3, 'shrink': 19.64299167413796, 'feature_weighting': 'TF-IDF', 'normalize': True, 'tversky_alpha': 0.20202991435484396, 'tversky_beta': 2.1331566511867983}. Best is trial 307 with value: 0.042845500361332826.\n"
     ]
    },
    {
     "name": "stdout",
     "output_type": "stream",
     "text": [
      "Similarity column 38121 (100.0%), 4671.83 column/sec. Elapsed time 8.16 sec\n",
      "EvaluatorHoldout: Processed 35209 (100.0%) in 8.63 sec. Users per second: 4078\n"
     ]
    },
    {
     "name": "stderr",
     "output_type": "stream",
     "text": [
      "[I 2025-01-07 02:19:09,200] Trial 416 finished with value: 0.04280331350164193 and parameters: {'topK': 4, 'shrink': 20.960848268034724, 'feature_weighting': 'TF-IDF', 'normalize': True, 'tversky_alpha': 0.21490309937478566, 'tversky_beta': 2.290017344837195}. Best is trial 307 with value: 0.042845500361332826.\n"
     ]
    },
    {
     "name": "stdout",
     "output_type": "stream",
     "text": [
      "Similarity column 38121 (100.0%), 4687.59 column/sec. Elapsed time 8.13 sec\n",
      "EvaluatorHoldout: Processed 35209 (100.0%) in 8.87 sec. Users per second: 3968\n"
     ]
    },
    {
     "name": "stderr",
     "output_type": "stream",
     "text": [
      "[I 2025-01-07 02:19:26,379] Trial 417 finished with value: 0.04113931345114992 and parameters: {'topK': 12, 'shrink': 18.70177153864968, 'feature_weighting': 'TF-IDF', 'normalize': True, 'tversky_alpha': 0.23114487804784237, 'tversky_beta': 2.204052163491022}. Best is trial 307 with value: 0.042845500361332826.\n"
     ]
    },
    {
     "name": "stdout",
     "output_type": "stream",
     "text": [
      "Similarity column 38121 (100.0%), 4720.20 column/sec. Elapsed time 8.08 sec\n",
      "EvaluatorHoldout: Processed 35209 (100.0%) in 8.70 sec. Users per second: 4049\n"
     ]
    },
    {
     "name": "stderr",
     "output_type": "stream",
     "text": [
      "[I 2025-01-07 02:19:43,323] Trial 418 finished with value: 0.04280319628774416 and parameters: {'topK': 4, 'shrink': 20.29392022791481, 'feature_weighting': 'TF-IDF', 'normalize': True, 'tversky_alpha': 0.2740583732983881, 'tversky_beta': 2.344041170301594}. Best is trial 307 with value: 0.042845500361332826.\n"
     ]
    },
    {
     "name": "stdout",
     "output_type": "stream",
     "text": [
      "Similarity column 38121 (100.0%), 4733.85 column/sec. Elapsed time 8.05 sec\n",
      "EvaluatorHoldout: Processed 35209 (100.0%) in 8.63 sec. Users per second: 4081\n"
     ]
    },
    {
     "name": "stderr",
     "output_type": "stream",
     "text": [
      "[I 2025-01-07 02:20:00,175] Trial 419 finished with value: 0.04265458259003774 and parameters: {'topK': 5, 'shrink': 21.75737545623339, 'feature_weighting': 'TF-IDF', 'normalize': True, 'tversky_alpha': 0.24380108278787319, 'tversky_beta': 2.062186315237137}. Best is trial 307 with value: 0.042845500361332826.\n"
     ]
    },
    {
     "name": "stdout",
     "output_type": "stream",
     "text": [
      "Similarity column 38121 (100.0%), 4593.63 column/sec. Elapsed time 8.30 sec\n",
      "EvaluatorHoldout: Processed 35209 (100.0%) in 9.48 sec. Users per second: 3713\n"
     ]
    },
    {
     "name": "stderr",
     "output_type": "stream",
     "text": [
      "[I 2025-01-07 02:20:18,137] Trial 420 finished with value: 0.03905773888981149 and parameters: {'topK': 29, 'shrink': 22.49211535989575, 'feature_weighting': 'TF-IDF', 'normalize': True, 'tversky_alpha': 0.20819910406841102, 'tversky_beta': 2.2318140478958606}. Best is trial 307 with value: 0.042845500361332826.\n"
     ]
    },
    {
     "name": "stdout",
     "output_type": "stream",
     "text": [
      "Similarity column 38121 (100.0%), 1570.08 column/sec. Elapsed time 24.28 sec\n",
      "EvaluatorHoldout: Processed 35209 (100.0%) in 8.57 sec. Users per second: 4110\n"
     ]
    },
    {
     "name": "stderr",
     "output_type": "stream",
     "text": [
      "[I 2025-01-07 02:20:51,156] Trial 421 finished with value: 0.04256492635585908 and parameters: {'topK': 3, 'shrink': 20.97079630597889, 'feature_weighting': 'TF-IDF', 'normalize': True, 'tversky_alpha': 0.19763496070309325, 'tversky_beta': 2.1598543105322925}. Best is trial 307 with value: 0.042845500361332826.\n"
     ]
    },
    {
     "name": "stdout",
     "output_type": "stream",
     "text": [
      "Similarity column 38121 (100.0%), 4681.21 column/sec. Elapsed time 8.14 sec\n",
      "EvaluatorHoldout: Processed 35209 (100.0%) in 8.66 sec. Users per second: 4064\n"
     ]
    },
    {
     "name": "stderr",
     "output_type": "stream",
     "text": [
      "[I 2025-01-07 02:21:08,137] Trial 422 finished with value: 0.042635361764915086 and parameters: {'topK': 5, 'shrink': 23.201763839431305, 'feature_weighting': 'TF-IDF', 'normalize': True, 'tversky_alpha': 0.22343890282263135, 'tversky_beta': 2.2736922821528154}. Best is trial 307 with value: 0.042845500361332826.\n"
     ]
    },
    {
     "name": "stdout",
     "output_type": "stream",
     "text": [
      "Similarity column 38121 (100.0%), 1576.81 column/sec. Elapsed time 24.18 sec\n",
      "EvaluatorHoldout: Processed 35209 (100.0%) in 8.60 sec. Users per second: 4096\n"
     ]
    },
    {
     "name": "stderr",
     "output_type": "stream",
     "text": [
      "[I 2025-01-07 02:21:41,088] Trial 423 finished with value: 0.04257725522920345 and parameters: {'topK': 3, 'shrink': 19.093614581838835, 'feature_weighting': 'TF-IDF', 'normalize': True, 'tversky_alpha': 0.21276842666330248, 'tversky_beta': 2.3953530635117106}. Best is trial 307 with value: 0.042845500361332826.\n"
     ]
    },
    {
     "name": "stdout",
     "output_type": "stream",
     "text": [
      "Similarity column 38121 (100.0%), 4471.61 column/sec. Elapsed time 8.53 sec\n",
      "EvaluatorHoldout: Processed 35209 (100.0%) in 8.68 sec. Users per second: 4056\n"
     ]
    },
    {
     "name": "stderr",
     "output_type": "stream",
     "text": [
      "[I 2025-01-07 02:21:58,479] Trial 424 finished with value: 0.04162817768003788 and parameters: {'topK': 4, 'shrink': 20.361256567175182, 'feature_weighting': 'TF-IDF', 'normalize': True, 'tversky_alpha': 0.1911290936413284, 'tversky_beta': 0.7247519820791948}. Best is trial 307 with value: 0.042845500361332826.\n"
     ]
    },
    {
     "name": "stdout",
     "output_type": "stream",
     "text": [
      "Similarity column 38121 (100.0%), 2213.73 column/sec. Elapsed time 17.22 sec\n",
      "EvaluatorHoldout: Processed 35209 (100.0%) in 8.57 sec. Users per second: 4108\n"
     ]
    },
    {
     "name": "stderr",
     "output_type": "stream",
     "text": [
      "[I 2025-01-07 02:22:24,445] Trial 425 finished with value: 0.041493438050424915 and parameters: {'topK': 2, 'shrink': 21.48651267796842, 'feature_weighting': 'TF-IDF', 'normalize': True, 'tversky_alpha': 0.204237461275177, 'tversky_beta': 2.2054808468054716}. Best is trial 307 with value: 0.042845500361332826.\n"
     ]
    },
    {
     "name": "stdout",
     "output_type": "stream",
     "text": [
      "Similarity column 38121 (100.0%), 4615.88 column/sec. Elapsed time 8.26 sec\n",
      "EvaluatorHoldout: Processed 35209 (100.0%) in 8.67 sec. Users per second: 4060\n"
     ]
    },
    {
     "name": "stderr",
     "output_type": "stream",
     "text": [
      "[I 2025-01-07 02:22:41,558] Trial 426 finished with value: 0.04281620364922771 and parameters: {'topK': 4, 'shrink': 22.142106780198553, 'feature_weighting': 'TF-IDF', 'normalize': True, 'tversky_alpha': 0.21856211176043466, 'tversky_beta': 2.3042838019450986}. Best is trial 307 with value: 0.042845500361332826.\n"
     ]
    },
    {
     "name": "stdout",
     "output_type": "stream",
     "text": [
      "Similarity column 38121 (100.0%), 4731.53 column/sec. Elapsed time 8.06 sec\n",
      "EvaluatorHoldout: Processed 35209 (100.0%) in 8.78 sec. Users per second: 4009\n"
     ]
    },
    {
     "name": "stderr",
     "output_type": "stream",
     "text": [
      "[I 2025-01-07 02:22:58,569] Trial 427 finished with value: 0.04265871325287796 and parameters: {'topK': 5, 'shrink': 19.92752591773804, 'feature_weighting': 'TF-IDF', 'normalize': False, 'tversky_alpha': 0.22700764030343215, 'tversky_beta': 2.2615898417965368}. Best is trial 307 with value: 0.042845500361332826.\n"
     ]
    },
    {
     "name": "stdout",
     "output_type": "stream",
     "text": [
      "Similarity column 38121 (100.0%), 1585.47 column/sec. Elapsed time 24.04 sec\n",
      "EvaluatorHoldout: Processed 35209 (100.0%) in 8.61 sec. Users per second: 4088\n"
     ]
    },
    {
     "name": "stderr",
     "output_type": "stream",
     "text": [
      "[I 2025-01-07 02:23:31,399] Trial 428 finished with value: 0.03893555467194189 and parameters: {'topK': 3, 'shrink': 21.11448132379851, 'feature_weighting': 'BM25', 'normalize': True, 'tversky_alpha': 0.2105663371032733, 'tversky_beta': 2.3467947438209538}. Best is trial 307 with value: 0.042845500361332826.\n"
     ]
    },
    {
     "name": "stdout",
     "output_type": "stream",
     "text": [
      "Similarity column 38121 (100.0%), 4685.71 column/sec. Elapsed time 8.14 sec\n",
      "EvaluatorHoldout: Processed 35209 (100.0%) in 8.71 sec. Users per second: 4043\n"
     ]
    },
    {
     "name": "stderr",
     "output_type": "stream",
     "text": [
      "[I 2025-01-07 02:23:48,413] Trial 429 finished with value: 0.04241296304561227 and parameters: {'topK': 6, 'shrink': 20.628609247603944, 'feature_weighting': 'TF-IDF', 'normalize': True, 'tversky_alpha': 0.19835029814511057, 'tversky_beta': 1.9893212680095684}. Best is trial 307 with value: 0.042845500361332826.\n"
     ]
    },
    {
     "name": "stdout",
     "output_type": "stream",
     "text": [
      "Similarity column 38121 (100.0%), 4709.63 column/sec. Elapsed time 8.09 sec\n",
      "EvaluatorHoldout: Processed 35209 (100.0%) in 8.61 sec. Users per second: 4090\n"
     ]
    },
    {
     "name": "stderr",
     "output_type": "stream",
     "text": [
      "[I 2025-01-07 02:24:05,289] Trial 430 finished with value: 0.04279846828484802 and parameters: {'topK': 4, 'shrink': 21.78185759215897, 'feature_weighting': 'TF-IDF', 'normalize': True, 'tversky_alpha': 0.21790100453871905, 'tversky_beta': 2.115201070007713}. Best is trial 307 with value: 0.042845500361332826.\n"
     ]
    },
    {
     "name": "stdout",
     "output_type": "stream",
     "text": [
      "Similarity column 38121 (100.0%), 4603.35 column/sec. Elapsed time 8.28 sec\n",
      "EvaluatorHoldout: Processed 35209 (100.0%) in 8.64 sec. Users per second: 4076\n"
     ]
    },
    {
     "name": "stderr",
     "output_type": "stream",
     "text": [
      "[I 2025-01-07 02:24:22,383] Trial 431 finished with value: 0.042788907462781973 and parameters: {'topK': 4, 'shrink': 19.429336084064538, 'feature_weighting': 'TF-IDF', 'normalize': True, 'tversky_alpha': 0.2053277503556835, 'tversky_beta': 2.2323326134788544}. Best is trial 307 with value: 0.042845500361332826.\n"
     ]
    },
    {
     "name": "stdout",
     "output_type": "stream",
     "text": [
      "Similarity column 38121 (100.0%), 4619.56 column/sec. Elapsed time 8.25 sec\n",
      "EvaluatorHoldout: Processed 35209 (100.0%) in 8.82 sec. Users per second: 3994\n"
     ]
    },
    {
     "name": "stderr",
     "output_type": "stream",
     "text": [
      "[I 2025-01-07 02:24:39,628] Trial 432 finished with value: 0.04268416670160376 and parameters: {'topK': 5, 'shrink': 18.378631351020676, 'feature_weighting': 'TF-IDF', 'normalize': True, 'tversky_alpha': 0.19012432192239093, 'tversky_beta': 2.1834041963107786}. Best is trial 307 with value: 0.042845500361332826.\n"
     ]
    },
    {
     "name": "stdout",
     "output_type": "stream",
     "text": [
      "Similarity column 38121 (100.0%), 1575.05 column/sec. Elapsed time 24.20 sec\n",
      "EvaluatorHoldout: Processed 35209 (100.0%) in 8.61 sec. Users per second: 4087\n"
     ]
    },
    {
     "name": "stderr",
     "output_type": "stream",
     "text": [
      "[I 2025-01-07 02:25:12,620] Trial 433 finished with value: 0.04260345028124433 and parameters: {'topK': 3, 'shrink': 22.532474247156355, 'feature_weighting': 'TF-IDF', 'normalize': True, 'tversky_alpha': 0.22815758402603042, 'tversky_beta': 2.3191251785284486}. Best is trial 307 with value: 0.042845500361332826.\n"
     ]
    },
    {
     "name": "stdout",
     "output_type": "stream",
     "text": [
      "Similarity column 38121 (100.0%), 4651.76 column/sec. Elapsed time 8.19 sec\n",
      "EvaluatorHoldout: Processed 35209 (100.0%) in 8.76 sec. Users per second: 4020\n"
     ]
    },
    {
     "name": "stderr",
     "output_type": "stream",
     "text": [
      "[I 2025-01-07 02:25:29,755] Trial 434 finished with value: 0.042848370974771816 and parameters: {'topK': 4, 'shrink': 21.349848360360596, 'feature_weighting': 'TF-IDF', 'normalize': True, 'tversky_alpha': 0.21211620571743547, 'tversky_beta': 2.2770208408345005}. Best is trial 434 with value: 0.042848370974771816.\n"
     ]
    },
    {
     "name": "stdout",
     "output_type": "stream",
     "text": [
      "Similarity column 38121 (100.0%), 4627.17 column/sec. Elapsed time 8.24 sec\n",
      "EvaluatorHoldout: Processed 35209 (100.0%) in 8.66 sec. Users per second: 4067\n"
     ]
    },
    {
     "name": "stderr",
     "output_type": "stream",
     "text": [
      "[I 2025-01-07 02:25:46,831] Trial 435 finished with value: 0.04272047032527159 and parameters: {'topK': 5, 'shrink': 21.452582656164566, 'feature_weighting': 'TF-IDF', 'normalize': True, 'tversky_alpha': 0.21978119877135896, 'tversky_beta': 2.2986934445186717}. Best is trial 434 with value: 0.042848370974771816.\n"
     ]
    },
    {
     "name": "stdout",
     "output_type": "stream",
     "text": [
      "Similarity column 38121 (100.0%), 1578.37 column/sec. Elapsed time 24.15 sec\n",
      "EvaluatorHoldout: Processed 35209 (100.0%) in 8.62 sec. Users per second: 4086\n"
     ]
    },
    {
     "name": "stderr",
     "output_type": "stream",
     "text": [
      "[I 2025-01-07 02:26:19,777] Trial 436 finished with value: 0.042533689979157296 and parameters: {'topK': 3, 'shrink': 24.177840021531193, 'feature_weighting': 'TF-IDF', 'normalize': True, 'tversky_alpha': 0.2339355597690749, 'tversky_beta': 2.1530918627351734}. Best is trial 434 with value: 0.042848370974771816.\n"
     ]
    },
    {
     "name": "stdout",
     "output_type": "stream",
     "text": [
      "Similarity column 38121 (100.0%), 4677.46 column/sec. Elapsed time 8.15 sec\n",
      "EvaluatorHoldout: Processed 35209 (100.0%) in 8.68 sec. Users per second: 4055\n"
     ]
    },
    {
     "name": "stderr",
     "output_type": "stream",
     "text": [
      "[I 2025-01-07 02:26:36,781] Trial 437 finished with value: 0.042774167815135884 and parameters: {'topK': 4, 'shrink': 22.075629197342632, 'feature_weighting': 'TF-IDF', 'normalize': True, 'tversky_alpha': 0.2130965247659932, 'tversky_beta': 2.0805304503811066}. Best is trial 434 with value: 0.042848370974771816.\n"
     ]
    },
    {
     "name": "stdout",
     "output_type": "stream",
     "text": [
      "Similarity column 38121 (100.0%), 4605.28 column/sec. Elapsed time 8.28 sec\n",
      "EvaluatorHoldout: Processed 35209 (100.0%) in 8.69 sec. Users per second: 4050\n"
     ]
    },
    {
     "name": "stderr",
     "output_type": "stream",
     "text": [
      "[I 2025-01-07 02:26:53,930] Trial 438 finished with value: 0.04269985871216931 and parameters: {'topK': 5, 'shrink': 21.267267253936698, 'feature_weighting': 'TF-IDF', 'normalize': True, 'tversky_alpha': 0.2088919492081849, 'tversky_beta': 2.3514127674771044}. Best is trial 434 with value: 0.042848370974771816.\n"
     ]
    },
    {
     "name": "stdout",
     "output_type": "stream",
     "text": [
      "Similarity column 38121 (100.0%), 4639.98 column/sec. Elapsed time 8.22 sec\n",
      "EvaluatorHoldout: Processed 35209 (100.0%) in 8.72 sec. Users per second: 4036\n"
     ]
    },
    {
     "name": "stderr",
     "output_type": "stream",
     "text": [
      "[I 2025-01-07 02:27:11,044] Trial 439 finished with value: 0.042754975166430835 and parameters: {'topK': 4, 'shrink': 21.68273185259694, 'feature_weighting': 'TF-IDF', 'normalize': True, 'tversky_alpha': 0.4375554939705354, 'tversky_beta': 2.2292517995850325}. Best is trial 434 with value: 0.042848370974771816.\n"
     ]
    },
    {
     "name": "stdout",
     "output_type": "stream",
     "text": [
      "Similarity column 38121 (100.0%), 2213.28 column/sec. Elapsed time 17.22 sec\n",
      "EvaluatorHoldout: Processed 35209 (100.0%) in 8.57 sec. Users per second: 4107\n"
     ]
    },
    {
     "name": "stderr",
     "output_type": "stream",
     "text": [
      "[I 2025-01-07 02:27:37,013] Trial 440 finished with value: 0.04132061630165678 and parameters: {'topK': 2, 'shrink': 23.022308358198128, 'feature_weighting': 'TF-IDF', 'normalize': True, 'tversky_alpha': 0.22339380390749553, 'tversky_beta': 1.79774668733205}. Best is trial 434 with value: 0.042848370974771816.\n"
     ]
    },
    {
     "name": "stdout",
     "output_type": "stream",
     "text": [
      "Similarity column 38121 (100.0%), 4615.22 column/sec. Elapsed time 8.26 sec\n",
      "EvaluatorHoldout: Processed 35209 (100.0%) in 8.97 sec. Users per second: 3927\n"
     ]
    },
    {
     "name": "stderr",
     "output_type": "stream",
     "text": [
      "[I 2025-01-07 02:27:54,422] Trial 441 finished with value: 0.0408540272215738 and parameters: {'topK': 14, 'shrink': 20.262491877085438, 'feature_weighting': 'TF-IDF', 'normalize': True, 'tversky_alpha': 0.21621396656475733, 'tversky_beta': 2.275197317728846}. Best is trial 434 with value: 0.042848370974771816.\n"
     ]
    },
    {
     "name": "stdout",
     "output_type": "stream",
     "text": [
      "Similarity column 38121 (100.0%), 1575.49 column/sec. Elapsed time 24.20 sec\n",
      "EvaluatorHoldout: Processed 35209 (100.0%) in 8.66 sec. Users per second: 4064\n"
     ]
    },
    {
     "name": "stderr",
     "output_type": "stream",
     "text": [
      "[I 2025-01-07 02:28:27,455] Trial 442 finished with value: 0.0426223093211632 and parameters: {'topK': 3, 'shrink': 17.755505293755487, 'feature_weighting': 'TF-IDF', 'normalize': True, 'tversky_alpha': 0.24057973699891277, 'tversky_beta': 2.1903892499181965}. Best is trial 434 with value: 0.042848370974771816.\n"
     ]
    },
    {
     "name": "stdout",
     "output_type": "stream",
     "text": [
      "Similarity column 38121 (100.0%), 4676.83 column/sec. Elapsed time 8.15 sec\n",
      "EvaluatorHoldout: Processed 35209 (100.0%) in 8.63 sec. Users per second: 4082\n"
     ]
    },
    {
     "name": "stderr",
     "output_type": "stream",
     "text": [
      "[I 2025-01-07 02:28:44,410] Trial 443 finished with value: 0.0428212663879666 and parameters: {'topK': 4, 'shrink': 20.93432729946314, 'feature_weighting': 'TF-IDF', 'normalize': True, 'tversky_alpha': 0.20490822995112662, 'tversky_beta': 2.319692539106457}. Best is trial 434 with value: 0.042848370974771816.\n"
     ]
    },
    {
     "name": "stdout",
     "output_type": "stream",
     "text": [
      "Similarity column 38121 (100.0%), 4689.21 column/sec. Elapsed time 8.13 sec\n",
      "EvaluatorHoldout: Processed 35209 (100.0%) in 8.72 sec. Users per second: 4037\n"
     ]
    },
    {
     "name": "stderr",
     "output_type": "stream",
     "text": [
      "[I 2025-01-07 02:29:01,436] Trial 444 finished with value: 0.04269091664423663 and parameters: {'topK': 5, 'shrink': 22.302132911946714, 'feature_weighting': 'TF-IDF', 'normalize': True, 'tversky_alpha': 0.21233390468296356, 'tversky_beta': 2.234928003024937}. Best is trial 434 with value: 0.042848370974771816.\n"
     ]
    },
    {
     "name": "stdout",
     "output_type": "stream",
     "text": [
      "Similarity column 38121 (100.0%), 4616.27 column/sec. Elapsed time 8.26 sec\n",
      "EvaluatorHoldout: Processed 35209 (100.0%) in 8.69 sec. Users per second: 4052\n"
     ]
    },
    {
     "name": "stderr",
     "output_type": "stream",
     "text": [
      "[I 2025-01-07 02:29:18,558] Trial 445 finished with value: 0.04247369224228681 and parameters: {'topK': 6, 'shrink': 19.641321588541285, 'feature_weighting': 'TF-IDF', 'normalize': True, 'tversky_alpha': 0.22428570196324565, 'tversky_beta': 2.398451143328928}. Best is trial 434 with value: 0.042848370974771816.\n"
     ]
    },
    {
     "name": "stdout",
     "output_type": "stream",
     "text": [
      "Similarity column 38121 (100.0%), 4625.58 column/sec. Elapsed time 8.24 sec\n",
      "EvaluatorHoldout: Processed 35209 (100.0%) in 8.62 sec. Users per second: 4084\n"
     ]
    },
    {
     "name": "stderr",
     "output_type": "stream",
     "text": [
      "[I 2025-01-07 02:29:35,596] Trial 446 finished with value: 0.03945056548943203 and parameters: {'topK': 4, 'shrink': 20.560582105241917, 'feature_weighting': 'BM25', 'normalize': True, 'tversky_alpha': 0.2295606238180153, 'tversky_beta': 2.287203284658489}. Best is trial 434 with value: 0.042848370974771816.\n"
     ]
    },
    {
     "name": "stdout",
     "output_type": "stream",
     "text": [
      "Similarity column 38121 (100.0%), 4692.51 column/sec. Elapsed time 8.12 sec\n",
      "EvaluatorHoldout: Processed 35209 (100.0%) in 8.61 sec. Users per second: 4088\n"
     ]
    },
    {
     "name": "stderr",
     "output_type": "stream",
     "text": [
      "[I 2025-01-07 02:29:52,507] Trial 447 finished with value: 0.04276632350043825 and parameters: {'topK': 4, 'shrink': 21.695716122415604, 'feature_weighting': 'TF-IDF', 'normalize': False, 'tversky_alpha': 0.19903555598114023, 'tversky_beta': 1.9111261863174316}. Best is trial 434 with value: 0.042848370974771816.\n"
     ]
    },
    {
     "name": "stdout",
     "output_type": "stream",
     "text": [
      "Similarity column 38121 (100.0%), 1569.50 column/sec. Elapsed time 24.29 sec\n",
      "EvaluatorHoldout: Processed 35209 (100.0%) in 8.62 sec. Users per second: 4083\n"
     ]
    },
    {
     "name": "stderr",
     "output_type": "stream",
     "text": [
      "[I 2025-01-07 02:30:25,595] Trial 448 finished with value: 0.042574054388148874 and parameters: {'topK': 3, 'shrink': 21.21256600601837, 'feature_weighting': 'TF-IDF', 'normalize': True, 'tversky_alpha': 0.2170860667088526, 'tversky_beta': 2.13409285475815}. Best is trial 434 with value: 0.042848370974771816.\n"
     ]
    },
    {
     "name": "stdout",
     "output_type": "stream",
     "text": [
      "Similarity column 38121 (100.0%), 4667.34 column/sec. Elapsed time 8.17 sec\n",
      "EvaluatorHoldout: Processed 35209 (100.0%) in 8.69 sec. Users per second: 4051\n"
     ]
    },
    {
     "name": "stderr",
     "output_type": "stream",
     "text": [
      "[I 2025-01-07 02:30:42,634] Trial 449 finished with value: 0.04270855846290949 and parameters: {'topK': 5, 'shrink': 20.02349712239553, 'feature_weighting': 'TF-IDF', 'normalize': True, 'tversky_alpha': 0.2067028281290101, 'tversky_beta': 2.254763202661062}. Best is trial 434 with value: 0.042848370974771816.\n"
     ]
    },
    {
     "name": "stdout",
     "output_type": "stream",
     "text": [
      "Similarity column 38121 (100.0%), 1574.84 column/sec. Elapsed time 24.21 sec\n",
      "EvaluatorHoldout: Processed 35209 (100.0%) in 8.64 sec. Users per second: 4074\n"
     ]
    },
    {
     "name": "stderr",
     "output_type": "stream",
     "text": [
      "[I 2025-01-07 02:31:15,658] Trial 450 finished with value: 0.04253541212180901 and parameters: {'topK': 3, 'shrink': 22.461307806831115, 'feature_weighting': 'TF-IDF', 'normalize': True, 'tversky_alpha': 0.1926705839690809, 'tversky_beta': 2.3600751857101043}. Best is trial 434 with value: 0.042848370974771816.\n"
     ]
    },
    {
     "name": "stdout",
     "output_type": "stream",
     "text": [
      "Similarity column 38121 (100.0%), 4682.89 column/sec. Elapsed time 8.14 sec\n",
      "EvaluatorHoldout: Processed 35209 (100.0%) in 8.69 sec. Users per second: 4051\n"
     ]
    },
    {
     "name": "stderr",
     "output_type": "stream",
     "text": [
      "[I 2025-01-07 02:31:32,662] Trial 451 finished with value: 0.04282757903259608 and parameters: {'topK': 4, 'shrink': 19.116241274177675, 'feature_weighting': 'TF-IDF', 'normalize': True, 'tversky_alpha': 0.21027982552392568, 'tversky_beta': 2.0235666490332935}. Best is trial 434 with value: 0.042848370974771816.\n"
     ]
    },
    {
     "name": "stdout",
     "output_type": "stream",
     "text": [
      "Similarity column 38121 (100.0%), 4617.04 column/sec. Elapsed time 8.26 sec\n",
      "EvaluatorHoldout: Processed 35209 (100.0%) in 8.73 sec. Users per second: 4033\n"
     ]
    },
    {
     "name": "stderr",
     "output_type": "stream",
     "text": [
      "[I 2025-01-07 02:31:49,828] Trial 452 finished with value: 0.04266957244427334 and parameters: {'topK': 5, 'shrink': 18.944691350572377, 'feature_weighting': 'TF-IDF', 'normalize': True, 'tversky_alpha': 0.22117266757603746, 'tversky_beta': 2.0066240192024467}. Best is trial 434 with value: 0.042848370974771816.\n"
     ]
    },
    {
     "name": "stdout",
     "output_type": "stream",
     "text": [
      "Similarity column 38121 (100.0%), 4659.62 column/sec. Elapsed time 8.18 sec\n",
      "EvaluatorHoldout: Processed 35209 (100.0%) in 8.71 sec. Users per second: 4044\n"
     ]
    },
    {
     "name": "stderr",
     "output_type": "stream",
     "text": [
      "[I 2025-01-07 02:32:06,887] Trial 453 finished with value: 0.04274925535363056 and parameters: {'topK': 4, 'shrink': 18.5233879867552, 'feature_weighting': 'TF-IDF', 'normalize': True, 'tversky_alpha': 0.25120381716123386, 'tversky_beta': 2.0491953588257226}. Best is trial 434 with value: 0.042848370974771816.\n"
     ]
    },
    {
     "name": "stdout",
     "output_type": "stream",
     "text": [
      "Similarity column 38121 (100.0%), 2211.91 column/sec. Elapsed time 17.23 sec\n",
      "EvaluatorHoldout: Processed 35209 (100.0%) in 8.61 sec. Users per second: 4088\n"
     ]
    },
    {
     "name": "stderr",
     "output_type": "stream",
     "text": [
      "[I 2025-01-07 02:32:32,907] Trial 454 finished with value: 0.04149540701849639 and parameters: {'topK': 2, 'shrink': 19.20276065563669, 'feature_weighting': 'TF-IDF', 'normalize': True, 'tversky_alpha': 0.2656060083661917, 'tversky_beta': 2.0534339398310224}. Best is trial 434 with value: 0.042848370974771816.\n"
     ]
    },
    {
     "name": "stdout",
     "output_type": "stream",
     "text": [
      "Similarity column 38121 (100.0%), 1571.72 column/sec. Elapsed time 24.25 sec\n",
      "EvaluatorHoldout: Processed 35209 (100.0%) in 8.61 sec. Users per second: 4089\n"
     ]
    },
    {
     "name": "stderr",
     "output_type": "stream",
     "text": [
      "[I 2025-01-07 02:33:05,947] Trial 455 finished with value: 0.04237650501517551 and parameters: {'topK': 3, 'shrink': 29.211798236051578, 'feature_weighting': 'TF-IDF', 'normalize': True, 'tversky_alpha': 0.2289918533005929, 'tversky_beta': 1.9872490449511386}. Best is trial 434 with value: 0.042848370974771816.\n"
     ]
    },
    {
     "name": "stdout",
     "output_type": "stream",
     "text": [
      "Similarity column 38121 (100.0%), 4671.29 column/sec. Elapsed time 8.16 sec\n",
      "EvaluatorHoldout: Processed 35209 (100.0%) in 8.66 sec. Users per second: 4064\n"
     ]
    },
    {
     "name": "stderr",
     "output_type": "stream",
     "text": [
      "[I 2025-01-07 02:33:22,944] Trial 456 finished with value: 0.042656311495030054 and parameters: {'topK': 5, 'shrink': 18.37085200769528, 'feature_weighting': 'TF-IDF', 'normalize': True, 'tversky_alpha': 0.21184321783547816, 'tversky_beta': 1.9300308199417135}. Best is trial 434 with value: 0.042848370974771816.\n"
     ]
    },
    {
     "name": "stdout",
     "output_type": "stream",
     "text": [
      "Similarity column 38121 (100.0%), 4622.97 column/sec. Elapsed time 8.25 sec\n",
      "EvaluatorHoldout: Processed 35209 (100.0%) in 9.12 sec. Users per second: 3861\n"
     ]
    },
    {
     "name": "stderr",
     "output_type": "stream",
     "text": [
      "[I 2025-01-07 02:33:40,489] Trial 457 finished with value: 0.04021737542754732 and parameters: {'topK': 18, 'shrink': 19.325293097301362, 'feature_weighting': 'TF-IDF', 'normalize': True, 'tversky_alpha': 0.23744894324406376, 'tversky_beta': 2.090889829947234}. Best is trial 434 with value: 0.042848370974771816.\n"
     ]
    },
    {
     "name": "stdout",
     "output_type": "stream",
     "text": [
      "Similarity column 38121 (100.0%), 4654.21 column/sec. Elapsed time 8.19 sec\n",
      "EvaluatorHoldout: Processed 35209 (100.0%) in 8.70 sec. Users per second: 4045\n"
     ]
    },
    {
     "name": "stderr",
     "output_type": "stream",
     "text": [
      "[I 2025-01-07 02:33:57,557] Trial 458 finished with value: 0.04243782478956569 and parameters: {'topK': 6, 'shrink': 18.793405675027348, 'feature_weighting': 'TF-IDF', 'normalize': True, 'tversky_alpha': 0.2161424066002828, 'tversky_beta': 2.0429120761408495}. Best is trial 434 with value: 0.042848370974771816.\n"
     ]
    },
    {
     "name": "stdout",
     "output_type": "stream",
     "text": [
      "Similarity column 38121 (100.0%), 4600.45 column/sec. Elapsed time 8.29 sec\n",
      "EvaluatorHoldout: Processed 35209 (100.0%) in 8.73 sec. Users per second: 4033\n"
     ]
    },
    {
     "name": "stderr",
     "output_type": "stream",
     "text": [
      "[I 2025-01-07 02:34:14,754] Trial 459 finished with value: 0.04280584036278453 and parameters: {'topK': 4, 'shrink': 19.915495482749943, 'feature_weighting': 'TF-IDF', 'normalize': True, 'tversky_alpha': 0.19993437227717323, 'tversky_beta': 2.1034730113682714}. Best is trial 434 with value: 0.042848370974771816.\n"
     ]
    },
    {
     "name": "stdout",
     "output_type": "stream",
     "text": [
      "Similarity column 38121 (100.0%), 4659.08 column/sec. Elapsed time 8.18 sec\n",
      "EvaluatorHoldout: Processed 35209 (100.0%) in 8.74 sec. Users per second: 4027\n"
     ]
    },
    {
     "name": "stderr",
     "output_type": "stream",
     "text": [
      "[I 2025-01-07 02:34:31,849] Trial 460 finished with value: 0.04280698770651466 and parameters: {'topK': 4, 'shrink': 21.866885133161762, 'feature_weighting': 'TF-IDF', 'normalize': True, 'tversky_alpha': 0.20931946428981416, 'tversky_beta': 2.170656507368075}. Best is trial 434 with value: 0.042848370974771816.\n"
     ]
    },
    {
     "name": "stdout",
     "output_type": "stream",
     "text": [
      "Similarity column 38121 (100.0%), 1583.61 column/sec. Elapsed time 24.07 sec\n",
      "EvaluatorHoldout: Processed 35209 (100.0%) in 8.62 sec. Users per second: 4085\n"
     ]
    },
    {
     "name": "stderr",
     "output_type": "stream",
     "text": [
      "[I 2025-01-07 02:35:04,711] Trial 461 finished with value: 0.04258364676780266 and parameters: {'topK': 3, 'shrink': 17.974623940660464, 'feature_weighting': 'TF-IDF', 'normalize': True, 'tversky_alpha': 0.18721613142118057, 'tversky_beta': 2.197443267772997}. Best is trial 434 with value: 0.042848370974771816.\n"
     ]
    },
    {
     "name": "stdout",
     "output_type": "stream",
     "text": [
      "Similarity column 38121 (100.0%), 4659.63 column/sec. Elapsed time 8.18 sec\n",
      "EvaluatorHoldout: Processed 35209 (100.0%) in 8.70 sec. Users per second: 4046\n"
     ]
    },
    {
     "name": "stderr",
     "output_type": "stream",
     "text": [
      "[I 2025-01-07 02:35:21,768] Trial 462 finished with value: 0.04264363548821905 and parameters: {'topK': 5, 'shrink': 22.85686057996562, 'feature_weighting': 'TF-IDF', 'normalize': True, 'tversky_alpha': 0.21822014899239997, 'tversky_beta': 2.1366313606176925}. Best is trial 434 with value: 0.042848370974771816.\n"
     ]
    },
    {
     "name": "stdout",
     "output_type": "stream",
     "text": [
      "Similarity column 38121 (100.0%), 1579.04 column/sec. Elapsed time 24.14 sec\n",
      "EvaluatorHoldout: Processed 35209 (100.0%) in 8.63 sec. Users per second: 4082\n"
     ]
    },
    {
     "name": "stderr",
     "output_type": "stream",
     "text": [
      "[I 2025-01-07 02:35:54,706] Trial 463 finished with value: 0.04257652602351274 and parameters: {'topK': 3, 'shrink': 21.104570214630495, 'feature_weighting': 'TF-IDF', 'normalize': True, 'tversky_alpha': 0.22572057718607086, 'tversky_beta': 2.024561950461259}. Best is trial 434 with value: 0.042848370974771816.\n"
     ]
    },
    {
     "name": "stdout",
     "output_type": "stream",
     "text": [
      "Similarity column 38121 (100.0%), 4610.49 column/sec. Elapsed time 8.27 sec\n",
      "EvaluatorHoldout: Processed 35209 (100.0%) in 8.76 sec. Users per second: 4020\n"
     ]
    },
    {
     "name": "stderr",
     "output_type": "stream",
     "text": [
      "[I 2025-01-07 02:36:11,913] Trial 464 finished with value: 0.041258674391962694 and parameters: {'topK': 4, 'shrink': 19.560632259979457, 'feature_weighting': 'TF-IDF', 'normalize': True, 'tversky_alpha': 0.20335139480605052, 'tversky_beta': 0.5801023012833242}. Best is trial 434 with value: 0.042848370974771816.\n"
     ]
    },
    {
     "name": "stdout",
     "output_type": "stream",
     "text": [
      "Similarity column 38121 (100.0%), 4687.09 column/sec. Elapsed time 8.13 sec\n",
      "EvaluatorHoldout: Processed 35209 (100.0%) in 8.58 sec. Users per second: 4102\n"
     ]
    },
    {
     "name": "stderr",
     "output_type": "stream",
     "text": [
      "[I 2025-01-07 02:36:28,810] Trial 465 finished with value: 0.03971680220650527 and parameters: {'topK': 4, 'shrink': 23.48126999184593, 'feature_weighting': 'BM25', 'normalize': True, 'tversky_alpha': 0.19625726030028856, 'tversky_beta': 2.230090803984077}. Best is trial 434 with value: 0.042848370974771816.\n"
     ]
    },
    {
     "name": "stdout",
     "output_type": "stream",
     "text": [
      "Similarity column 38121 (100.0%), 4618.72 column/sec. Elapsed time 8.25 sec\n",
      "EvaluatorHoldout: Processed 35209 (100.0%) in 8.70 sec. Users per second: 4047\n"
     ]
    },
    {
     "name": "stderr",
     "output_type": "stream",
     "text": [
      "[I 2025-01-07 02:36:45,940] Trial 466 finished with value: 0.0426477357205279 and parameters: {'topK': 5, 'shrink': 20.38003063464629, 'feature_weighting': 'TF-IDF', 'normalize': False, 'tversky_alpha': 0.2124975856299066, 'tversky_beta': 2.080244657856503}. Best is trial 434 with value: 0.042848370974771816.\n"
     ]
    },
    {
     "name": "stdout",
     "output_type": "stream",
     "text": [
      "Similarity column 38121 (100.0%), 4705.59 column/sec. Elapsed time 8.10 sec\n",
      "EvaluatorHoldout: Processed 35209 (100.0%) in 8.66 sec. Users per second: 4064\n"
     ]
    },
    {
     "name": "stderr",
     "output_type": "stream",
     "text": [
      "[I 2025-01-07 02:37:02,875] Trial 467 finished with value: 0.04273400965752196 and parameters: {'topK': 4, 'shrink': 22.19775834662423, 'feature_weighting': 'TF-IDF', 'normalize': True, 'tversky_alpha': 0.2307254433066285, 'tversky_beta': 2.159031049864432}. Best is trial 434 with value: 0.042848370974771816.\n"
     ]
    },
    {
     "name": "stdout",
     "output_type": "stream",
     "text": [
      "Similarity column 38121 (100.0%), 1569.96 column/sec. Elapsed time 24.28 sec\n",
      "EvaluatorHoldout: Processed 35209 (100.0%) in 8.58 sec. Users per second: 4103\n"
     ]
    },
    {
     "name": "stderr",
     "output_type": "stream",
     "text": [
      "[I 2025-01-07 02:37:35,915] Trial 468 finished with value: 0.04259599254699809 and parameters: {'topK': 3, 'shrink': 21.545803297250412, 'feature_weighting': 'TF-IDF', 'normalize': True, 'tversky_alpha': 0.20353737632833474, 'tversky_beta': 1.96703873102707}. Best is trial 434 with value: 0.042848370974771816.\n"
     ]
    },
    {
     "name": "stdout",
     "output_type": "stream",
     "text": [
      "Similarity column 38121 (100.0%), 4641.34 column/sec. Elapsed time 8.21 sec\n",
      "EvaluatorHoldout: Processed 35209 (100.0%) in 8.69 sec. Users per second: 4052\n"
     ]
    },
    {
     "name": "stderr",
     "output_type": "stream",
     "text": [
      "[I 2025-01-07 02:37:52,994] Trial 469 finished with value: 0.042690030777663104 and parameters: {'topK': 5, 'shrink': 19.997484926165786, 'feature_weighting': 'TF-IDF', 'normalize': True, 'tversky_alpha': 0.21847614360401268, 'tversky_beta': 2.2168242581368025}. Best is trial 434 with value: 0.042848370974771816.\n"
     ]
    },
    {
     "name": "stdout",
     "output_type": "stream",
     "text": [
      "Similarity column 38121 (100.0%), 4629.76 column/sec. Elapsed time 8.23 sec\n",
      "EvaluatorHoldout: Processed 35209 (100.0%) in 8.75 sec. Users per second: 4024\n"
     ]
    },
    {
     "name": "stderr",
     "output_type": "stream",
     "text": [
      "[I 2025-01-07 02:38:10,150] Trial 470 finished with value: 0.04281458406873628 and parameters: {'topK': 4, 'shrink': 20.81302813001379, 'feature_weighting': 'TF-IDF', 'normalize': True, 'tversky_alpha': 0.20933138048697653, 'tversky_beta': 2.2734940249648523}. Best is trial 434 with value: 0.042848370974771816.\n"
     ]
    },
    {
     "name": "stdout",
     "output_type": "stream",
     "text": [
      "Similarity column 38121 (100.0%), 2200.64 column/sec. Elapsed time 17.32 sec\n",
      "EvaluatorHoldout: Processed 35209 (100.0%) in 8.50 sec. Users per second: 4143\n"
     ]
    },
    {
     "name": "stderr",
     "output_type": "stream",
     "text": [
      "[I 2025-01-07 02:38:36,143] Trial 471 finished with value: 0.04141622001409148 and parameters: {'topK': 2, 'shrink': 21.406846644660593, 'feature_weighting': 'TF-IDF', 'normalize': True, 'tversky_alpha': 0.297046755817007, 'tversky_beta': 2.109000120461456}. Best is trial 434 with value: 0.042848370974771816.\n"
     ]
    },
    {
     "name": "stdout",
     "output_type": "stream",
     "text": [
      "Similarity column 38121 (100.0%), 1579.03 column/sec. Elapsed time 24.14 sec\n",
      "EvaluatorHoldout: Processed 35209 (100.0%) in 8.72 sec. Users per second: 4037\n"
     ]
    },
    {
     "name": "stderr",
     "output_type": "stream",
     "text": [
      "[I 2025-01-07 02:39:09,182] Trial 472 finished with value: 0.04239364754772595 and parameters: {'topK': 3, 'shrink': 19.157219832015375, 'feature_weighting': 'TF-IDF', 'normalize': True, 'tversky_alpha': 0.10963962162308472, 'tversky_beta': 2.332298046089764}. Best is trial 434 with value: 0.042848370974771816.\n"
     ]
    },
    {
     "name": "stdout",
     "output_type": "stream",
     "text": [
      "Similarity column 38121 (100.0%), 4669.76 column/sec. Elapsed time 8.16 sec\n",
      "EvaluatorHoldout: Processed 35209 (100.0%) in 8.71 sec. Users per second: 4042\n"
     ]
    },
    {
     "name": "stderr",
     "output_type": "stream",
     "text": [
      "[I 2025-01-07 02:39:26,228] Trial 473 finished with value: 0.04281398334751016 and parameters: {'topK': 4, 'shrink': 21.943529732184004, 'feature_weighting': 'TF-IDF', 'normalize': True, 'tversky_alpha': 0.18627624734943407, 'tversky_beta': 2.1842176371346365}. Best is trial 434 with value: 0.042848370974771816.\n"
     ]
    },
    {
     "name": "stdout",
     "output_type": "stream",
     "text": [
      "Similarity column 38121 (100.0%), 4687.96 column/sec. Elapsed time 8.13 sec\n",
      "EvaluatorHoldout: Processed 35209 (100.0%) in 8.93 sec. Users per second: 3944\n"
     ]
    },
    {
     "name": "stderr",
     "output_type": "stream",
     "text": [
      "[I 2025-01-07 02:39:43,463] Trial 474 finished with value: 0.041847532219168676 and parameters: {'topK': 8, 'shrink': 22.68841930472914, 'feature_weighting': 'TF-IDF', 'normalize': True, 'tversky_alpha': 0.22384559111806993, 'tversky_beta': 2.25618337961936}. Best is trial 434 with value: 0.042848370974771816.\n"
     ]
    },
    {
     "name": "stdout",
     "output_type": "stream",
     "text": [
      "Similarity column 38121 (100.0%), 4619.65 column/sec. Elapsed time 8.25 sec\n",
      "EvaluatorHoldout: Processed 35209 (100.0%) in 8.68 sec. Users per second: 4058\n"
     ]
    },
    {
     "name": "stderr",
     "output_type": "stream",
     "text": [
      "[I 2025-01-07 02:40:00,564] Trial 475 finished with value: 0.04262448679472568 and parameters: {'topK': 5, 'shrink': 20.520034936855645, 'feature_weighting': 'TF-IDF', 'normalize': True, 'tversky_alpha': 0.3361287490349454, 'tversky_beta': 2.309799171044576}. Best is trial 434 with value: 0.042848370974771816.\n"
     ]
    },
    {
     "name": "stdout",
     "output_type": "stream",
     "text": [
      "Similarity column 38121 (100.0%), 4662.23 column/sec. Elapsed time 8.18 sec\n",
      "EvaluatorHoldout: Processed 35209 (100.0%) in 8.77 sec. Users per second: 4016\n"
     ]
    },
    {
     "name": "stderr",
     "output_type": "stream",
     "text": [
      "[I 2025-01-07 02:40:17,683] Trial 476 finished with value: 0.042479272300055174 and parameters: {'topK': 6, 'shrink': 21.1307939696813, 'feature_weighting': 'TF-IDF', 'normalize': True, 'tversky_alpha': 0.1961217472381873, 'tversky_beta': 2.2132994830044184}. Best is trial 434 with value: 0.042848370974771816.\n"
     ]
    },
    {
     "name": "stdout",
     "output_type": "stream",
     "text": [
      "Similarity column 38121 (100.0%), 4672.65 column/sec. Elapsed time 8.16 sec\n",
      "EvaluatorHoldout: Processed 35209 (100.0%) in 8.59 sec. Users per second: 4097\n"
     ]
    },
    {
     "name": "stderr",
     "output_type": "stream",
     "text": [
      "[I 2025-01-07 02:40:34,608] Trial 477 finished with value: 0.042823528390782364 and parameters: {'topK': 4, 'shrink': 19.56533270182793, 'feature_weighting': 'TF-IDF', 'normalize': True, 'tversky_alpha': 0.21115995504697874, 'tversky_beta': 2.017290348309459}. Best is trial 434 with value: 0.042848370974771816.\n"
     ]
    },
    {
     "name": "stdout",
     "output_type": "stream",
     "text": [
      "Similarity column 38121 (100.0%), 1583.33 column/sec. Elapsed time 24.08 sec\n",
      "EvaluatorHoldout: Processed 35209 (100.0%) in 8.58 sec. Users per second: 4103\n"
     ]
    },
    {
     "name": "stderr",
     "output_type": "stream",
     "text": [
      "[I 2025-01-07 02:41:07,435] Trial 478 finished with value: 0.04261174767273925 and parameters: {'topK': 3, 'shrink': 21.77112741158936, 'feature_weighting': 'TF-IDF', 'normalize': True, 'tversky_alpha': 0.24445289442852938, 'tversky_beta': 2.1362953450297093}. Best is trial 434 with value: 0.042848370974771816.\n"
     ]
    },
    {
     "name": "stdout",
     "output_type": "stream",
     "text": [
      "Similarity column 38121 (100.0%), 4688.28 column/sec. Elapsed time 8.13 sec\n",
      "EvaluatorHoldout: Processed 35209 (100.0%) in 8.62 sec. Users per second: 4083\n"
     ]
    },
    {
     "name": "stderr",
     "output_type": "stream",
     "text": [
      "[I 2025-01-07 02:41:24,368] Trial 479 finished with value: 0.04280508410773246 and parameters: {'topK': 4, 'shrink': 20.211961601566557, 'feature_weighting': 'TF-IDF', 'normalize': True, 'tversky_alpha': 0.203322914973027, 'tversky_beta': 2.2534189977694647}. Best is trial 434 with value: 0.042848370974771816.\n"
     ]
    },
    {
     "name": "stdout",
     "output_type": "stream",
     "text": [
      "Similarity column 38121 (100.0%), 4689.03 column/sec. Elapsed time 8.13 sec\n",
      "EvaluatorHoldout: Processed 35209 (100.0%) in 8.62 sec. Users per second: 4084\n"
     ]
    },
    {
     "name": "stderr",
     "output_type": "stream",
     "text": [
      "[I 2025-01-07 02:41:41,285] Trial 480 finished with value: 0.042685354619375594 and parameters: {'topK': 5, 'shrink': 18.697765605674235, 'feature_weighting': 'TF-IDF', 'normalize': True, 'tversky_alpha': 0.23568216608347178, 'tversky_beta': 2.3664537398339203}. Best is trial 434 with value: 0.042848370974771816.\n"
     ]
    },
    {
     "name": "stdout",
     "output_type": "stream",
     "text": [
      "Similarity column 38121 (100.0%), 1601.01 column/sec. Elapsed time 23.81 sec\n",
      "EvaluatorHoldout: Processed 35209 (100.0%) in 8.51 sec. Users per second: 4137\n"
     ]
    },
    {
     "name": "stderr",
     "output_type": "stream",
     "text": [
      "[I 2025-01-07 02:42:13,778] Trial 481 finished with value: 0.042650450800141244 and parameters: {'topK': 3, 'shrink': 20.852884923707855, 'feature_weighting': 'TF-IDF', 'normalize': True, 'tversky_alpha': 0.21878549735775082, 'tversky_beta': 2.063741815089019}. Best is trial 434 with value: 0.042848370974771816.\n"
     ]
    },
    {
     "name": "stdout",
     "output_type": "stream",
     "text": [
      "Similarity column 38121 (100.0%), 4692.64 column/sec. Elapsed time 8.12 sec\n",
      "EvaluatorHoldout: Processed 35209 (100.0%) in 8.47 sec. Users per second: 4158\n"
     ]
    },
    {
     "name": "stderr",
     "output_type": "stream",
     "text": [
      "[I 2025-01-07 02:42:30,535] Trial 482 finished with value: 0.04281361254585274 and parameters: {'topK': 4, 'shrink': 21.58808830637913, 'feature_weighting': 'TF-IDF', 'normalize': True, 'tversky_alpha': 0.195879195474146, 'tversky_beta': 2.295107922541526}. Best is trial 434 with value: 0.042848370974771816.\n"
     ]
    },
    {
     "name": "stdout",
     "output_type": "stream",
     "text": [
      "Similarity column 38121 (100.0%), 4742.50 column/sec. Elapsed time 8.04 sec\n",
      "EvaluatorHoldout: Processed 35209 (100.0%) in 8.64 sec. Users per second: 4076\n"
     ]
    },
    {
     "name": "stderr",
     "output_type": "stream",
     "text": [
      "[I 2025-01-07 02:42:47,382] Trial 483 finished with value: 0.041810304408999306 and parameters: {'topK': 5, 'shrink': 17.52533797659324, 'feature_weighting': 'TF-IDF', 'normalize': True, 'tversky_alpha': 0.3631066061064656, 'tversky_beta': 1.0092160169538384}. Best is trial 434 with value: 0.042848370974771816.\n"
     ]
    },
    {
     "name": "stdout",
     "output_type": "stream",
     "text": [
      "Similarity column 38121 (100.0%), 2243.92 column/sec. Elapsed time 16.99 sec\n",
      "EvaluatorHoldout: Processed 35209 (100.0%) in 8.51 sec. Users per second: 4135\n"
     ]
    },
    {
     "name": "stderr",
     "output_type": "stream",
     "text": [
      "[I 2025-01-07 02:43:13,055] Trial 484 finished with value: 0.03796598723179881 and parameters: {'topK': 2, 'shrink': 22.49228093691176, 'feature_weighting': 'BM25', 'normalize': True, 'tversky_alpha': 0.22342113545379358, 'tversky_beta': 2.188214681623054}. Best is trial 434 with value: 0.042848370974771816.\n"
     ]
    },
    {
     "name": "stdout",
     "output_type": "stream",
     "text": [
      "Similarity column 38121 (100.0%), 4700.55 column/sec. Elapsed time 8.11 sec\n",
      "EvaluatorHoldout: Processed 35209 (100.0%) in 8.59 sec. Users per second: 4098\n"
     ]
    },
    {
     "name": "stderr",
     "output_type": "stream",
     "text": [
      "[I 2025-01-07 02:43:29,934] Trial 485 finished with value: 0.04282747872454895 and parameters: {'topK': 4, 'shrink': 21.185661797711777, 'feature_weighting': 'TF-IDF', 'normalize': False, 'tversky_alpha': 0.20925437964299715, 'tversky_beta': 2.3334428675434533}. Best is trial 434 with value: 0.042848370974771816.\n"
     ]
    },
    {
     "name": "stdout",
     "output_type": "stream",
     "text": [
      "Similarity column 38121 (100.0%), 1600.70 column/sec. Elapsed time 23.82 sec\n",
      "EvaluatorHoldout: Processed 35209 (100.0%) in 8.56 sec. Users per second: 4111\n"
     ]
    },
    {
     "name": "stderr",
     "output_type": "stream",
     "text": [
      "[I 2025-01-07 02:44:02,482] Trial 486 finished with value: 0.04254495941919457 and parameters: {'topK': 3, 'shrink': 20.31749910051783, 'feature_weighting': 'TF-IDF', 'normalize': False, 'tversky_alpha': 0.20566638500695206, 'tversky_beta': 2.344737761927992}. Best is trial 434 with value: 0.042848370974771816.\n"
     ]
    },
    {
     "name": "stdout",
     "output_type": "stream",
     "text": [
      "Similarity column 38121 (100.0%), 4685.01 column/sec. Elapsed time 8.14 sec\n",
      "EvaluatorHoldout: Processed 35209 (100.0%) in 8.60 sec. Users per second: 4095\n"
     ]
    },
    {
     "name": "stderr",
     "output_type": "stream",
     "text": [
      "[I 2025-01-07 02:44:19,386] Trial 487 finished with value: 0.04269168529691227 and parameters: {'topK': 5, 'shrink': 19.89489579786628, 'feature_weighting': 'TF-IDF', 'normalize': False, 'tversky_alpha': 0.18609477898494797, 'tversky_beta': 2.371453616880083}. Best is trial 434 with value: 0.042848370974771816.\n"
     ]
    },
    {
     "name": "stdout",
     "output_type": "stream",
     "text": [
      "Similarity column 38121 (100.0%), 4686.15 column/sec. Elapsed time 8.13 sec\n",
      "EvaluatorHoldout: Processed 35209 (100.0%) in 8.60 sec. Users per second: 4096\n"
     ]
    },
    {
     "name": "stderr",
     "output_type": "stream",
     "text": [
      "[I 2025-01-07 02:44:36,284] Trial 488 finished with value: 0.042470282895740764 and parameters: {'topK': 6, 'shrink': 21.051079688230256, 'feature_weighting': 'TF-IDF', 'normalize': False, 'tversky_alpha': 0.21442709519827943, 'tversky_beta': 2.3224663724318013}. Best is trial 434 with value: 0.042848370974771816.\n"
     ]
    },
    {
     "name": "stdout",
     "output_type": "stream",
     "text": [
      "Similarity column 38121 (100.0%), 4675.04 column/sec. Elapsed time 8.15 sec\n",
      "EvaluatorHoldout: Processed 35209 (100.0%) in 9.24 sec. Users per second: 3810\n"
     ]
    },
    {
     "name": "stderr",
     "output_type": "stream",
     "text": [
      "[I 2025-01-07 02:44:53,856] Trial 489 finished with value: 0.039297344383897474 and parameters: {'topK': 27, 'shrink': 20.499345146829423, 'feature_weighting': 'TF-IDF', 'normalize': False, 'tversky_alpha': 0.13978071295741037, 'tversky_beta': 2.3151646736087717}. Best is trial 434 with value: 0.042848370974771816.\n"
     ]
    },
    {
     "name": "stdout",
     "output_type": "stream",
     "text": [
      "Similarity column 38121 (100.0%), 4688.39 column/sec. Elapsed time 8.13 sec\n",
      "EvaluatorHoldout: Processed 35209 (100.0%) in 8.51 sec. Users per second: 4138\n"
     ]
    },
    {
     "name": "stderr",
     "output_type": "stream",
     "text": [
      "[I 2025-01-07 02:45:10,670] Trial 490 finished with value: 0.04281506757606462 and parameters: {'topK': 4, 'shrink': 18.116099067091973, 'feature_weighting': 'TF-IDF', 'normalize': False, 'tversky_alpha': 0.19871477120285447, 'tversky_beta': 2.2832697376469175}. Best is trial 434 with value: 0.042848370974771816.\n"
     ]
    },
    {
     "name": "stdout",
     "output_type": "stream",
     "text": [
      "Similarity column 38121 (100.0%), 4689.36 column/sec. Elapsed time 8.13 sec\n",
      "EvaluatorHoldout: Processed 35209 (100.0%) in 8.62 sec. Users per second: 4085\n"
     ]
    },
    {
     "name": "stderr",
     "output_type": "stream",
     "text": [
      "[I 2025-01-07 02:45:27,588] Trial 491 finished with value: 0.042828516743778355 and parameters: {'topK': 4, 'shrink': 21.340612843112005, 'feature_weighting': 'TF-IDF', 'normalize': True, 'tversky_alpha': 0.2072754699609513, 'tversky_beta': 2.368455149780671}. Best is trial 434 with value: 0.042848370974771816.\n"
     ]
    },
    {
     "name": "stdout",
     "output_type": "stream",
     "text": [
      "Similarity column 38121 (100.0%), 1583.72 column/sec. Elapsed time 24.07 sec\n",
      "EvaluatorHoldout: Processed 35209 (100.0%) in 8.56 sec. Users per second: 4113\n"
     ]
    },
    {
     "name": "stderr",
     "output_type": "stream",
     "text": [
      "[I 2025-01-07 02:46:00,393] Trial 492 finished with value: 0.04254944397784145 and parameters: {'topK': 3, 'shrink': 21.390877158148317, 'feature_weighting': 'TF-IDF', 'normalize': False, 'tversky_alpha': 0.19477524984449426, 'tversky_beta': 2.387294150596927}. Best is trial 434 with value: 0.042848370974771816.\n"
     ]
    },
    {
     "name": "stdout",
     "output_type": "stream",
     "text": [
      "Similarity column 38121 (100.0%), 4734.70 column/sec. Elapsed time 8.05 sec\n",
      "EvaluatorHoldout: Processed 35209 (100.0%) in 8.81 sec. Users per second: 3995\n"
     ]
    },
    {
     "name": "stderr",
     "output_type": "stream",
     "text": [
      "[I 2025-01-07 02:46:17,432] Trial 493 finished with value: 0.04125002873994465 and parameters: {'topK': 11, 'shrink': 22.057097988496537, 'feature_weighting': 'TF-IDF', 'normalize': False, 'tversky_alpha': 0.2049322011291043, 'tversky_beta': 2.3708561671487307}. Best is trial 434 with value: 0.042848370974771816.\n"
     ]
    },
    {
     "name": "stdout",
     "output_type": "stream",
     "text": [
      "Similarity column 38121 (100.0%), 4726.68 column/sec. Elapsed time 8.07 sec\n",
      "EvaluatorHoldout: Processed 35209 (100.0%) in 8.50 sec. Users per second: 4141\n"
     ]
    },
    {
     "name": "stderr",
     "output_type": "stream",
     "text": [
      "[I 2025-01-07 02:46:34,170] Trial 494 finished with value: 0.042785844122645675 and parameters: {'topK': 4, 'shrink': 21.34179201992134, 'feature_weighting': 'TF-IDF', 'normalize': False, 'tversky_alpha': 0.19158160284252077, 'tversky_beta': 2.3916006840357062}. Best is trial 434 with value: 0.042848370974771816.\n"
     ]
    },
    {
     "name": "stdout",
     "output_type": "stream",
     "text": [
      "Similarity column 38121 (100.0%), 4682.61 column/sec. Elapsed time 8.14 sec\n",
      "EvaluatorHoldout: Processed 35209 (100.0%) in 8.54 sec. Users per second: 4121\n"
     ]
    },
    {
     "name": "stderr",
     "output_type": "stream",
     "text": [
      "[I 2025-01-07 02:46:51,024] Trial 495 finished with value: 0.04270924033221852 and parameters: {'topK': 5, 'shrink': 19.127667572261572, 'feature_weighting': 'TF-IDF', 'normalize': False, 'tversky_alpha': 0.20756053814219994, 'tversky_beta': 2.3479402555776705}. Best is trial 434 with value: 0.042848370974771816.\n"
     ]
    },
    {
     "name": "stdout",
     "output_type": "stream",
     "text": [
      "Similarity column 38121 (100.0%), 4754.34 column/sec. Elapsed time 8.02 sec\n",
      "EvaluatorHoldout: Processed 35209 (100.0%) in 8.53 sec. Users per second: 4126\n"
     ]
    },
    {
     "name": "stderr",
     "output_type": "stream",
     "text": [
      "[I 2025-01-07 02:47:07,744] Trial 496 finished with value: 0.04281213159333655 and parameters: {'topK': 4, 'shrink': 19.65444964053234, 'feature_weighting': 'TF-IDF', 'normalize': False, 'tversky_alpha': 0.2135908089953398, 'tversky_beta': 2.335509857626917}. Best is trial 434 with value: 0.042848370974771816.\n"
     ]
    },
    {
     "name": "stdout",
     "output_type": "stream",
     "text": [
      "Similarity column 38121 (100.0%), 1578.45 column/sec. Elapsed time 24.15 sec\n",
      "EvaluatorHoldout: Processed 35209 (100.0%) in 8.48 sec. Users per second: 4150\n"
     ]
    },
    {
     "name": "stderr",
     "output_type": "stream",
     "text": [
      "[I 2025-01-07 02:47:40,547] Trial 497 finished with value: 0.042556846486309 and parameters: {'topK': 3, 'shrink': 20.871824283719537, 'feature_weighting': 'TF-IDF', 'normalize': True, 'tversky_alpha': 0.19951089927173585, 'tversky_beta': 2.325159111930219}. Best is trial 434 with value: 0.042848370974771816.\n"
     ]
    },
    {
     "name": "stdout",
     "output_type": "stream",
     "text": [
      "Similarity column 38121 (100.0%), 4678.85 column/sec. Elapsed time 8.15 sec\n",
      "EvaluatorHoldout: Processed 35209 (100.0%) in 8.55 sec. Users per second: 4118\n"
     ]
    },
    {
     "name": "stderr",
     "output_type": "stream",
     "text": [
      "[I 2025-01-07 02:47:57,422] Trial 498 finished with value: 0.04270242840146683 and parameters: {'topK': 5, 'shrink': 22.201082689722007, 'feature_weighting': 'TF-IDF', 'normalize': True, 'tversky_alpha': 0.20503482677460624, 'tversky_beta': 2.355544613706662}. Best is trial 434 with value: 0.042848370974771816.\n"
     ]
    },
    {
     "name": "stdout",
     "output_type": "stream",
     "text": [
      "Similarity column 38121 (100.0%), 4693.65 column/sec. Elapsed time 8.12 sec\n",
      "EvaluatorHoldout: Processed 35209 (100.0%) in 8.49 sec. Users per second: 4146\n"
     ]
    },
    {
     "name": "stderr",
     "output_type": "stream",
     "text": [
      "[I 2025-01-07 02:48:14,211] Trial 499 finished with value: 0.04274859151722869 and parameters: {'topK': 4, 'shrink': 21.519899419966727, 'feature_weighting': 'TF-IDF', 'normalize': True, 'tversky_alpha': 0.183988307788595, 'tversky_beta': 2.3958022535967247}. Best is trial 434 with value: 0.042848370974771816.\n"
     ]
    }
   ],
   "source": [
    "optuna_study = op.create_study(direction=\"maximize\")\n",
    "        \n",
    "save_results_tanimoto = SaveResults(\"result_experiments/ItemKNNCFRecommender/results_tversky_optuna_map.csv\")\n",
    "        \n",
    "optuna_study.optimize(objective_function_KNN,\n",
    "                      callbacks=[save_results_tanimoto],\n",
    "                      n_trials = 500)"
   ]
  },
  {
   "cell_type": "code",
   "execution_count": 11,
   "id": "b0d642e3-3992-4496-a23d-0cca139af091",
   "metadata": {},
   "outputs": [
    {
     "data": {
      "text/plain": [
       "({'topK': 4,\n",
       "  'shrink': 21.349848360360596,\n",
       "  'feature_weighting': 'TF-IDF',\n",
       "  'normalize': True,\n",
       "  'tversky_alpha': 0.21211620571743547,\n",
       "  'tversky_beta': 2.2770208408345005},\n",
       " 0.042848370974771816)"
      ]
     },
     "execution_count": 11,
     "metadata": {},
     "output_type": "execute_result"
    }
   ],
   "source": [
    "optuna_study.best_params, optuna_study.best_value"
   ]
  },
  {
   "cell_type": "code",
   "execution_count": 15,
   "id": "8337f9d0-17b3-4db1-9bf2-2d698b7b6dbc",
   "metadata": {
    "scrolled": true
   },
   "outputs": [
    {
     "data": {
      "text/html": [
       "<div>\n",
       "<style scoped>\n",
       "    .dataframe tbody tr th:only-of-type {\n",
       "        vertical-align: middle;\n",
       "    }\n",
       "\n",
       "    .dataframe tbody tr th {\n",
       "        vertical-align: top;\n",
       "    }\n",
       "\n",
       "    .dataframe thead th {\n",
       "        text-align: right;\n",
       "    }\n",
       "</style>\n",
       "<table border=\"1\" class=\"dataframe\">\n",
       "  <thead>\n",
       "    <tr style=\"text-align: right;\">\n",
       "      <th></th>\n",
       "      <th>topK</th>\n",
       "      <th>shrink</th>\n",
       "      <th>feature_weighting</th>\n",
       "      <th>normalize</th>\n",
       "      <th>tversky_alpha</th>\n",
       "      <th>tversky_beta</th>\n",
       "      <th>iteration</th>\n",
       "      <th>RECALL</th>\n",
       "      <th>MAP</th>\n",
       "    </tr>\n",
       "  </thead>\n",
       "  <tbody>\n",
       "    <tr>\n",
       "      <th>96</th>\n",
       "      <td>6</td>\n",
       "      <td>21.589349</td>\n",
       "      <td>TF-IDF</td>\n",
       "      <td>False</td>\n",
       "      <td>0.167252</td>\n",
       "      <td>1.722013</td>\n",
       "      <td>96</td>\n",
       "      <td>0.118551</td>\n",
       "      <td>0.028130</td>\n",
       "    </tr>\n",
       "    <tr>\n",
       "      <th>220</th>\n",
       "      <td>6</td>\n",
       "      <td>22.217756</td>\n",
       "      <td>none</td>\n",
       "      <td>False</td>\n",
       "      <td>0.227589</td>\n",
       "      <td>1.788536</td>\n",
       "      <td>220</td>\n",
       "      <td>0.118239</td>\n",
       "      <td>0.028126</td>\n",
       "    </tr>\n",
       "    <tr>\n",
       "      <th>102</th>\n",
       "      <td>6</td>\n",
       "      <td>21.079349</td>\n",
       "      <td>TF-IDF</td>\n",
       "      <td>False</td>\n",
       "      <td>0.196247</td>\n",
       "      <td>1.733155</td>\n",
       "      <td>102</td>\n",
       "      <td>0.118240</td>\n",
       "      <td>0.028112</td>\n",
       "    </tr>\n",
       "    <tr>\n",
       "      <th>83</th>\n",
       "      <td>6</td>\n",
       "      <td>22.622420</td>\n",
       "      <td>TF-IDF</td>\n",
       "      <td>False</td>\n",
       "      <td>0.255611</td>\n",
       "      <td>1.770004</td>\n",
       "      <td>83</td>\n",
       "      <td>0.118308</td>\n",
       "      <td>0.028104</td>\n",
       "    </tr>\n",
       "    <tr>\n",
       "      <th>249</th>\n",
       "      <td>6</td>\n",
       "      <td>20.613082</td>\n",
       "      <td>none</td>\n",
       "      <td>False</td>\n",
       "      <td>0.235928</td>\n",
       "      <td>1.767350</td>\n",
       "      <td>249</td>\n",
       "      <td>0.118309</td>\n",
       "      <td>0.028103</td>\n",
       "    </tr>\n",
       "    <tr>\n",
       "      <th>...</th>\n",
       "      <td>...</td>\n",
       "      <td>...</td>\n",
       "      <td>...</td>\n",
       "      <td>...</td>\n",
       "      <td>...</td>\n",
       "      <td>...</td>\n",
       "      <td>...</td>\n",
       "      <td>...</td>\n",
       "      <td>...</td>\n",
       "    </tr>\n",
       "    <tr>\n",
       "      <th>6</th>\n",
       "      <td>19</td>\n",
       "      <td>18.287544</td>\n",
       "      <td>BM25</td>\n",
       "      <td>True</td>\n",
       "      <td>0.702835</td>\n",
       "      <td>0.703088</td>\n",
       "      <td>6</td>\n",
       "      <td>0.103331</td>\n",
       "      <td>0.023864</td>\n",
       "    </tr>\n",
       "    <tr>\n",
       "      <th>5</th>\n",
       "      <td>47</td>\n",
       "      <td>8.640345</td>\n",
       "      <td>BM25</td>\n",
       "      <td>False</td>\n",
       "      <td>0.346342</td>\n",
       "      <td>1.396634</td>\n",
       "      <td>5</td>\n",
       "      <td>0.102509</td>\n",
       "      <td>0.023736</td>\n",
       "    </tr>\n",
       "    <tr>\n",
       "      <th>3</th>\n",
       "      <td>42</td>\n",
       "      <td>8.196521</td>\n",
       "      <td>BM25</td>\n",
       "      <td>False</td>\n",
       "      <td>0.173447</td>\n",
       "      <td>0.219287</td>\n",
       "      <td>3</td>\n",
       "      <td>0.099767</td>\n",
       "      <td>0.022978</td>\n",
       "    </tr>\n",
       "    <tr>\n",
       "      <th>43</th>\n",
       "      <td>2</td>\n",
       "      <td>22.286228</td>\n",
       "      <td>TF-IDF</td>\n",
       "      <td>False</td>\n",
       "      <td>0.320202</td>\n",
       "      <td>0.102723</td>\n",
       "      <td>43</td>\n",
       "      <td>0.100111</td>\n",
       "      <td>0.022212</td>\n",
       "    </tr>\n",
       "    <tr>\n",
       "      <th>4</th>\n",
       "      <td>49</td>\n",
       "      <td>5.662980</td>\n",
       "      <td>BM25</td>\n",
       "      <td>False</td>\n",
       "      <td>0.702385</td>\n",
       "      <td>0.202923</td>\n",
       "      <td>4</td>\n",
       "      <td>0.089596</td>\n",
       "      <td>0.020286</td>\n",
       "    </tr>\n",
       "  </tbody>\n",
       "</table>\n",
       "<p>400 rows × 9 columns</p>\n",
       "</div>"
      ],
      "text/plain": [
       "     topK     shrink feature_weighting  normalize  tversky_alpha  \\\n",
       "96      6  21.589349            TF-IDF      False       0.167252   \n",
       "220     6  22.217756              none      False       0.227589   \n",
       "102     6  21.079349            TF-IDF      False       0.196247   \n",
       "83      6  22.622420            TF-IDF      False       0.255611   \n",
       "249     6  20.613082              none      False       0.235928   \n",
       "..    ...        ...               ...        ...            ...   \n",
       "6      19  18.287544              BM25       True       0.702835   \n",
       "5      47   8.640345              BM25      False       0.346342   \n",
       "3      42   8.196521              BM25      False       0.173447   \n",
       "43      2  22.286228            TF-IDF      False       0.320202   \n",
       "4      49   5.662980              BM25      False       0.702385   \n",
       "\n",
       "     tversky_beta  iteration    RECALL       MAP  \n",
       "96       1.722013         96  0.118551  0.028130  \n",
       "220      1.788536        220  0.118239  0.028126  \n",
       "102      1.733155        102  0.118240  0.028112  \n",
       "83       1.770004         83  0.118308  0.028104  \n",
       "249      1.767350        249  0.118309  0.028103  \n",
       "..            ...        ...       ...       ...  \n",
       "6        0.703088          6  0.103331  0.023864  \n",
       "5        1.396634          5  0.102509  0.023736  \n",
       "3        0.219287          3  0.099767  0.022978  \n",
       "43       0.102723         43  0.100111  0.022212  \n",
       "4        0.202923          4  0.089596  0.020286  \n",
       "\n",
       "[400 rows x 9 columns]"
      ]
     },
     "execution_count": 15,
     "metadata": {},
     "output_type": "execute_result"
    }
   ],
   "source": [
    "pd.DataFrame(save_results_tanimoto.results).sort_values(by=[\"MAP\"], ascending=False)"
   ]
  },
  {
   "cell_type": "code",
   "execution_count": 18,
   "id": "a686d64f-ee15-44d8-9a19-ae7582a46317",
   "metadata": {
    "scrolled": true
   },
   "outputs": [
    {
     "data": {
      "text/plain": [
       "{'topK': 6,\n",
       " 'shrink': 21.589349496863413,\n",
       " 'feature_weighting': 'TF-IDF',\n",
       " 'normalize': False,\n",
       " 'tversky_alpha': 0.16725184866550824,\n",
       " 'tversky_beta': 1.722012798691049,\n",
       " 'iteration': 96,\n",
       " 'RECALL': 0.11855115150555026,\n",
       " 'MAP': 0.02812995231879061}"
      ]
     },
     "execution_count": 18,
     "metadata": {},
     "output_type": "execute_result"
    }
   ],
   "source": [
    "save_results_tanimoto.results[96]"
   ]
  },
  {
   "cell_type": "code",
   "execution_count": 18,
   "id": "e2f1f652-aa78-40e2-a336-f3d7e1cc0c44",
   "metadata": {},
   "outputs": [
    {
     "data": {
      "text/plain": [
       "0.0263499559387598"
      ]
     },
     "execution_count": 18,
     "metadata": {},
     "output_type": "execute_result"
    }
   ],
   "source": [
    "save_results_cosine.results_df['result'].max() "
   ]
  },
  {
   "cell_type": "code",
   "execution_count": 33,
   "id": "3aa4441b-1c1d-49bb-8ee2-edf45f5a4981",
   "metadata": {},
   "outputs": [],
   "source": [
    "save_results_adjusted.results_df.to_csv(\"result_experiments/ItemKNNCFRecommender/results_adjusted.csv\")"
   ]
  },
  {
   "cell_type": "code",
   "execution_count": null,
   "id": "a1d4f7ab-5e08-40cd-a041-1dc60f7e8a2b",
   "metadata": {},
   "outputs": [],
   "source": []
  }
 ],
 "metadata": {
  "kernelspec": {
   "display_name": "RecSys",
   "language": "python",
   "name": "recsys"
  },
  "language_info": {
   "codemirror_mode": {
    "name": "ipython",
    "version": 3
   },
   "file_extension": ".py",
   "mimetype": "text/x-python",
   "name": "python",
   "nbconvert_exporter": "python",
   "pygments_lexer": "ipython3",
   "version": "3.12.7"
  }
 },
 "nbformat": 4,
 "nbformat_minor": 5
}
