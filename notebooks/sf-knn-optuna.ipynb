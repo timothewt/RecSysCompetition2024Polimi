{
 "cells": [
  {
   "cell_type": "code",
   "execution_count": 2,
   "id": "427ee9c7-c5eb-4576-9f92-d74e65fe1ff2",
   "metadata": {},
   "outputs": [],
   "source": [
    "from pathlib import Path\n",
    "import sys  \n",
    "import os\n",
    "import pandas as pd \n",
    "from datetime import datetime\n",
    "import scipy.sparse as sps\n",
    "from numpy import linalg as LA\n",
    "\n",
    "import numpy as np\n",
    "from operator import itemgetter\n",
    "import optuna as op"
   ]
  },
  {
   "cell_type": "code",
   "execution_count": 3,
   "id": "093f7ac7-6d4f-465e-ab41-a35175a951d9",
   "metadata": {},
   "outputs": [],
   "source": [
    "sys.path.append(os.path.abspath(os.path.join(os.getcwd(), \"..\", \"libs\")))\n",
    "sys.path.append(os.path.abspath(os.path.join(os.getcwd(), \"..\")))\n",
    "sys.path.append(os.path.abspath(os.path.join(os.getcwd(), \"..\", \"src\")))"
   ]
  },
  {
   "cell_type": "code",
   "execution_count": 4,
   "id": "fdfa0eeb-aec3-4bae-9dcd-13d6332998b0",
   "metadata": {},
   "outputs": [],
   "source": [
    "%load_ext autoreload\n",
    "%autoreload 2"
   ]
  },
  {
   "cell_type": "code",
   "execution_count": 5,
   "id": "bdf9b1fa-533b-4e8a-95a2-ff86d3b89dde",
   "metadata": {},
   "outputs": [],
   "source": [
    "from Utils.load_URM import load_URM\n",
    "from Utils.load_ICM import load_ICM\n",
    "\n",
    "from scipy.sparse import hstack, vstack\n",
    "from Evaluation.Evaluator import EvaluatorHoldout\n",
    "from Data_manager.split_functions.split_train_validation_random_holdout import split_train_in_two_percentage_global_sample\n",
    "\n",
    "URM_all = load_URM(\"../data/data_train.csv\")\n",
    "ICM_all = load_ICM(\"../data/data_ICM_metadata.csv\")"
   ]
  },
  {
   "cell_type": "code",
   "execution_count": 6,
   "id": "9f73f948-e55c-4683-a283-5d256fda3580",
   "metadata": {},
   "outputs": [],
   "source": [
    "#URM_train, URM_val = split_train_in_two_percentage_global_sample(URM_all, train_percentage = 0.80)\n",
    "URM_train = sps.load_npz(\"URM_train_ens.npz\")\n",
    "URM_val = sps.load_npz(\"URM_val_ens.npz\")"
   ]
  },
  {
   "cell_type": "code",
   "execution_count": 7,
   "id": "126b0641-8559-4a8d-a09b-d64a0a38add1",
   "metadata": {},
   "outputs": [
    {
     "name": "stdout",
     "output_type": "stream",
     "text": [
      "EvaluatorHoldout: Ignoring 1008 ( 2.8%) Users that have less than 1 test interactions\n"
     ]
    }
   ],
   "source": [
    "evaluator_validation = EvaluatorHoldout(URM_val, cutoff_list=[10])"
   ]
  },
  {
   "cell_type": "code",
   "execution_count": 8,
   "id": "7de5e196-193e-47d5-8980-f12028eaa0a1",
   "metadata": {},
   "outputs": [],
   "source": [
    "from libs.Recommenders.KNN.ItemKNNCFRecommender import ItemKNNCFRecommender"
   ]
  },
  {
   "cell_type": "code",
   "execution_count": 35,
   "id": "c64a8998-643f-4d59-b65f-794d5cea619e",
   "metadata": {},
   "outputs": [],
   "source": [
    "def objective_function_KNN(optuna_trial):\n",
    "                       \n",
    "    similarity=\"tanimoto\"\n",
    "    \n",
    "    recommender_instance = ItemKNNCFRecommender(URM_train)\n",
    "    \n",
    "    full_hyperp = {\"similarity\": similarity,\n",
    "                   \"topK\": optuna_trial.suggest_int(\"topK\", 2, 50),\n",
    "                   \"shrink\": optuna_trial.suggest_float(\"shrink\", 1 , 25),\n",
    "                   \"feature_weighting\": optuna_trial.suggest_categorical(\"feature_weighting\", [\"BM25\", \"TF-IDF\", \"none\"]),\n",
    "                   \"normalize\": optuna_trial.suggest_categorical(\"normalize\", [True, False])\n",
    "                  }\n",
    "    \n",
    "    if similarity == \"asymmetric\":\n",
    "        full_hyperp[\"asymmetric_alpha\"] = optuna_trial.suggest_float(\"asymmetric_alpha\", 0, 2, log=False)\n",
    "        full_hyperp[\"normalize\"] = True\n",
    "\n",
    "    elif similarity == \"tversky\":\n",
    "        full_hyperp[\"tversky_alpha\"] = optuna_trial.suggest_float(\"tversky_alpha\", 0.1, 0.99, log=False)\n",
    "        full_hyperp[\"tversky_beta\"] = optuna_trial.suggest_float(\"tversky_beta\", 0.1, 1.9, log=False)\n",
    "        full_hyperp[\"normalize\"] = True \n",
    "\n",
    "    elif similarity == \"euclidean\":\n",
    "        full_hyperp[\"normalize_avg_row\"] = optuna_trial.suggest_categorical(\"normalize_avg_row\", [True, False])\n",
    "        full_hyperp[\"similarity_from_distance_mode\"] = optuna_trial.suggest_categorical(\"similarity_from_distance_mode\", [\"lin\", \"log\", \"exp\"])\n",
    "        full_hyperp[\"normalize\"] = optuna_trial.suggest_categorical(\"normalize\", [True, False])\n",
    "        \n",
    "    \n",
    "    recommender_instance.fit(**full_hyperp)\n",
    "    \n",
    "    eval_res, _ = evaluator_validation.evaluateRecommender(recommender_instance)    \n",
    "    return eval_res[\"MAP\"][10]"
   ]
  },
  {
   "cell_type": "code",
   "execution_count": 36,
   "id": "37d51566-0b96-4767-b79b-dc10521ebfb6",
   "metadata": {},
   "outputs": [],
   "source": [
    "class SaveResults(object):\n",
    "    \n",
    "    def __init__(self):\n",
    "        self.results_df = pd.DataFrame()\n",
    "    \n",
    "    def __call__(self, optuna_study, optuna_trial):\n",
    "        hyperparam_dict = optuna_trial.params.copy()\n",
    "        hyperparam_dict[\"result\"] = optuna_trial.values[0]\n",
    "        \n",
    "        \n",
    "        self.results_df = self.results_df._append(hyperparam_dict, ignore_index=True)"
   ]
  },
  {
   "cell_type": "code",
   "execution_count": 37,
   "id": "325be9e0-75d1-4cb8-afd4-5c44db69051c",
   "metadata": {
    "scrolled": true
   },
   "outputs": [
    {
     "name": "stderr",
     "output_type": "stream",
     "text": [
      "[I 2024-12-14 14:06:37,031] A new study created in memory with name: no-name-0ca75cd6-e003-467d-8664-ba50b41fb5be\n"
     ]
    },
    {
     "name": "stdout",
     "output_type": "stream",
     "text": [
      "Similarity column 38121 (100.0%), 5329.18 column/sec. Elapsed time 7.15 sec\n",
      "EvaluatorHoldout: Processed 34728 (100.0%) in 9.12 sec. Users per second: 3808\n"
     ]
    },
    {
     "name": "stderr",
     "output_type": "stream",
     "text": [
      "[I 2024-12-14 14:06:53,439] Trial 0 finished with value: 0.025410928192976807 and parameters: {'topK': 29, 'shrink': 13.098235730029419, 'feature_weighting': 'none', 'normalize': True}. Best is trial 0 with value: 0.025410928192976807.\n"
     ]
    },
    {
     "name": "stdout",
     "output_type": "stream",
     "text": [
      "Similarity column 38121 (100.0%), 5317.13 column/sec. Elapsed time 7.17 sec\n",
      "EvaluatorHoldout: Processed 34728 (100.0%) in 9.25 sec. Users per second: 3756\n"
     ]
    },
    {
     "name": "stderr",
     "output_type": "stream",
     "text": [
      "[I 2024-12-14 14:07:09,973] Trial 1 finished with value: 0.025133588056661143 and parameters: {'topK': 36, 'shrink': 7.461661363209599, 'feature_weighting': 'none', 'normalize': True}. Best is trial 0 with value: 0.025410928192976807.\n"
     ]
    },
    {
     "name": "stdout",
     "output_type": "stream",
     "text": [
      "Similarity column 38121 (100.0%), 5356.77 column/sec. Elapsed time 7.12 sec\n",
      "EvaluatorHoldout: Processed 34728 (100.0%) in 9.23 sec. Users per second: 3762\n"
     ]
    },
    {
     "name": "stderr",
     "output_type": "stream",
     "text": [
      "[I 2024-12-14 14:07:26,438] Trial 2 finished with value: 0.02526016128059094 and parameters: {'topK': 36, 'shrink': 19.517293994372864, 'feature_weighting': 'none', 'normalize': True}. Best is trial 0 with value: 0.025410928192976807.\n"
     ]
    },
    {
     "name": "stdout",
     "output_type": "stream",
     "text": [
      "Similarity column 38121 (100.0%), 5361.55 column/sec. Elapsed time 7.11 sec\n",
      "EvaluatorHoldout: Processed 34728 (100.0%) in 9.61 sec. Users per second: 3615\n"
     ]
    },
    {
     "name": "stderr",
     "output_type": "stream",
     "text": [
      "[I 2024-12-14 14:07:43,304] Trial 3 finished with value: 0.02513005950095579 and parameters: {'topK': 48, 'shrink': 17.308396421614248, 'feature_weighting': 'TF-IDF', 'normalize': False}. Best is trial 0 with value: 0.025410928192976807.\n"
     ]
    },
    {
     "name": "stdout",
     "output_type": "stream",
     "text": [
      "Similarity column 38121 (100.0%), 5302.22 column/sec. Elapsed time 7.19 sec\n",
      "EvaluatorHoldout: Processed 34728 (100.0%) in 8.57 sec. Users per second: 4054\n"
     ]
    },
    {
     "name": "stderr",
     "output_type": "stream",
     "text": [
      "[I 2024-12-14 14:07:59,199] Trial 4 finished with value: 0.023092513977102425 and parameters: {'topK': 13, 'shrink': 8.463108592923488, 'feature_weighting': 'BM25', 'normalize': True}. Best is trial 0 with value: 0.025410928192976807.\n"
     ]
    },
    {
     "name": "stdout",
     "output_type": "stream",
     "text": [
      "Similarity column 38121 (100.0%), 1652.15 column/sec. Elapsed time 23.07 sec\n",
      "EvaluatorHoldout: Processed 34728 (100.0%) in 8.09 sec. Users per second: 4294\n"
     ]
    },
    {
     "name": "stderr",
     "output_type": "stream",
     "text": [
      "[I 2024-12-14 14:08:30,489] Trial 5 finished with value: 0.025869639292021244 and parameters: {'topK': 3, 'shrink': 10.843914312725538, 'feature_weighting': 'TF-IDF', 'normalize': False}. Best is trial 5 with value: 0.025869639292021244.\n"
     ]
    },
    {
     "name": "stdout",
     "output_type": "stream",
     "text": [
      "Similarity column 38121 (100.0%), 5367.32 column/sec. Elapsed time 7.10 sec\n",
      "EvaluatorHoldout: Processed 34728 (100.0%) in 8.97 sec. Users per second: 3870\n"
     ]
    },
    {
     "name": "stderr",
     "output_type": "stream",
     "text": [
      "[I 2024-12-14 14:08:46,709] Trial 6 finished with value: 0.022229834669796358 and parameters: {'topK': 32, 'shrink': 4.9596663440730575, 'feature_weighting': 'BM25', 'normalize': False}. Best is trial 5 with value: 0.025869639292021244.\n"
     ]
    },
    {
     "name": "stdout",
     "output_type": "stream",
     "text": [
      "Similarity column 38121 (100.0%), 5370.28 column/sec. Elapsed time 7.10 sec\n",
      "EvaluatorHoldout: Processed 34728 (100.0%) in 8.62 sec. Users per second: 4027\n"
     ]
    },
    {
     "name": "stderr",
     "output_type": "stream",
     "text": [
      "[I 2024-12-14 14:09:02,568] Trial 7 finished with value: 0.023091902650255756 and parameters: {'topK': 15, 'shrink': 9.512724376206773, 'feature_weighting': 'BM25', 'normalize': False}. Best is trial 5 with value: 0.025869639292021244.\n"
     ]
    },
    {
     "name": "stdout",
     "output_type": "stream",
     "text": [
      "Similarity column 38121 (100.0%), 5371.15 column/sec. Elapsed time 7.10 sec\n",
      "EvaluatorHoldout: Processed 34728 (100.0%) in 8.45 sec. Users per second: 4111\n"
     ]
    },
    {
     "name": "stderr",
     "output_type": "stream",
     "text": [
      "[I 2024-12-14 14:09:18,245] Trial 8 finished with value: 0.026022504141024666 and parameters: {'topK': 11, 'shrink': 16.90946195426806, 'feature_weighting': 'TF-IDF', 'normalize': False}. Best is trial 8 with value: 0.026022504141024666.\n"
     ]
    },
    {
     "name": "stdout",
     "output_type": "stream",
     "text": [
      "Similarity column 38121 (100.0%), 5373.48 column/sec. Elapsed time 7.09 sec\n",
      "EvaluatorHoldout: Processed 34728 (100.0%) in 8.48 sec. Users per second: 4094\n"
     ]
    },
    {
     "name": "stderr",
     "output_type": "stream",
     "text": [
      "[I 2024-12-14 14:09:33,952] Trial 9 finished with value: 0.02596450236394886 and parameters: {'topK': 12, 'shrink': 15.034619918557873, 'feature_weighting': 'TF-IDF', 'normalize': True}. Best is trial 8 with value: 0.026022504141024666.\n"
     ]
    },
    {
     "name": "stdout",
     "output_type": "stream",
     "text": [
      "Similarity column 38121 (100.0%), 1650.28 column/sec. Elapsed time 23.10 sec\n",
      "EvaluatorHoldout: Processed 34728 (100.0%) in 8.22 sec. Users per second: 4227\n"
     ]
    },
    {
     "name": "stderr",
     "output_type": "stream",
     "text": [
      "[I 2024-12-14 14:10:05,404] Trial 10 finished with value: 0.02589744380820703 and parameters: {'topK': 3, 'shrink': 23.687460149335585, 'feature_weighting': 'TF-IDF', 'normalize': False}. Best is trial 8 with value: 0.026022504141024666.\n"
     ]
    },
    {
     "name": "stdout",
     "output_type": "stream",
     "text": [
      "Similarity column 38121 (100.0%), 5365.92 column/sec. Elapsed time 7.10 sec\n",
      "EvaluatorHoldout: Processed 34728 (100.0%) in 8.66 sec. Users per second: 4012\n"
     ]
    },
    {
     "name": "stderr",
     "output_type": "stream",
     "text": [
      "[I 2024-12-14 14:10:21,307] Trial 11 finished with value: 0.02577670389932779 and parameters: {'topK': 16, 'shrink': 15.48328564752553, 'feature_weighting': 'TF-IDF', 'normalize': True}. Best is trial 8 with value: 0.026022504141024666.\n"
     ]
    },
    {
     "name": "stdout",
     "output_type": "stream",
     "text": [
      "Similarity column 38121 (100.0%), 5349.46 column/sec. Elapsed time 7.13 sec\n",
      "EvaluatorHoldout: Processed 34728 (100.0%) in 8.85 sec. Users per second: 3924\n"
     ]
    },
    {
     "name": "stderr",
     "output_type": "stream",
     "text": [
      "[I 2024-12-14 14:10:37,421] Trial 12 finished with value: 0.02552623472025632 and parameters: {'topK': 21, 'shrink': 21.462544713769198, 'feature_weighting': 'TF-IDF', 'normalize': False}. Best is trial 8 with value: 0.026022504141024666.\n"
     ]
    },
    {
     "name": "stdout",
     "output_type": "stream",
     "text": [
      "Similarity column 38121 (100.0%), 5371.09 column/sec. Elapsed time 7.10 sec\n",
      "EvaluatorHoldout: Processed 34728 (100.0%) in 8.50 sec. Users per second: 4087\n"
     ]
    },
    {
     "name": "stderr",
     "output_type": "stream",
     "text": [
      "[I 2024-12-14 14:10:53,151] Trial 13 finished with value: 0.02610796077818305 and parameters: {'topK': 9, 'shrink': 15.488770985274824, 'feature_weighting': 'TF-IDF', 'normalize': True}. Best is trial 13 with value: 0.02610796077818305.\n"
     ]
    },
    {
     "name": "stdout",
     "output_type": "stream",
     "text": [
      "Similarity column 38121 (100.0%), 5359.75 column/sec. Elapsed time 7.11 sec\n",
      "EvaluatorHoldout: Processed 34728 (100.0%) in 8.38 sec. Users per second: 4142\n"
     ]
    },
    {
     "name": "stderr",
     "output_type": "stream",
     "text": [
      "[I 2024-12-14 14:11:08,783] Trial 14 finished with value: 0.02598563141950253 and parameters: {'topK': 9, 'shrink': 2.308935026225079, 'feature_weighting': 'TF-IDF', 'normalize': False}. Best is trial 13 with value: 0.02610796077818305.\n"
     ]
    },
    {
     "name": "stdout",
     "output_type": "stream",
     "text": [
      "Similarity column 38121 (100.0%), 5360.05 column/sec. Elapsed time 7.11 sec\n",
      "EvaluatorHoldout: Processed 34728 (100.0%) in 8.81 sec. Users per second: 3940\n"
     ]
    },
    {
     "name": "stderr",
     "output_type": "stream",
     "text": [
      "[I 2024-12-14 14:11:24,846] Trial 15 finished with value: 0.025438544169106937 and parameters: {'topK': 22, 'shrink': 18.852574581532224, 'feature_weighting': 'TF-IDF', 'normalize': True}. Best is trial 13 with value: 0.02610796077818305.\n"
     ]
    },
    {
     "name": "stdout",
     "output_type": "stream",
     "text": [
      "Similarity column 38121 (100.0%), 5373.16 column/sec. Elapsed time 7.09 sec\n",
      "EvaluatorHoldout: Processed 34728 (100.0%) in 8.32 sec. Users per second: 4172\n"
     ]
    },
    {
     "name": "stderr",
     "output_type": "stream",
     "text": [
      "[I 2024-12-14 14:11:40,396] Trial 16 finished with value: 0.026415396478025495 and parameters: {'topK': 7, 'shrink': 12.285858083665067, 'feature_weighting': 'TF-IDF', 'normalize': True}. Best is trial 16 with value: 0.026415396478025495.\n"
     ]
    },
    {
     "name": "stdout",
     "output_type": "stream",
     "text": [
      "Similarity column 38121 (100.0%), 5337.67 column/sec. Elapsed time 7.14 sec\n",
      "EvaluatorHoldout: Processed 34728 (100.0%) in 8.26 sec. Users per second: 4204\n"
     ]
    },
    {
     "name": "stderr",
     "output_type": "stream",
     "text": [
      "[I 2024-12-14 14:11:55,933] Trial 17 finished with value: 0.026437332256483367 and parameters: {'topK': 6, 'shrink': 12.443456588450305, 'feature_weighting': 'TF-IDF', 'normalize': True}. Best is trial 17 with value: 0.026437332256483367.\n"
     ]
    },
    {
     "name": "stdout",
     "output_type": "stream",
     "text": [
      "Similarity column 38121 (100.0%), 2333.54 column/sec. Elapsed time 16.34 sec\n",
      "EvaluatorHoldout: Processed 34728 (100.0%) in 8.05 sec. Users per second: 4313\n"
     ]
    },
    {
     "name": "stderr",
     "output_type": "stream",
     "text": [
      "[I 2024-12-14 14:12:20,463] Trial 18 finished with value: 0.022244453951433693 and parameters: {'topK': 2, 'shrink': 11.995310737851076, 'feature_weighting': 'BM25', 'normalize': True}. Best is trial 17 with value: 0.026437332256483367.\n"
     ]
    },
    {
     "name": "stdout",
     "output_type": "stream",
     "text": [
      "Similarity column 38121 (100.0%), 5349.39 column/sec. Elapsed time 7.13 sec\n",
      "EvaluatorHoldout: Processed 34728 (100.0%) in 8.77 sec. Users per second: 3959\n"
     ]
    },
    {
     "name": "stderr",
     "output_type": "stream",
     "text": [
      "[I 2024-12-14 14:12:36,481] Trial 19 finished with value: 0.02534649777134186 and parameters: {'topK': 23, 'shrink': 6.104073277798048, 'feature_weighting': 'none', 'normalize': True}. Best is trial 17 with value: 0.026437332256483367.\n"
     ]
    },
    {
     "name": "stdout",
     "output_type": "stream",
     "text": [
      "Similarity column 38121 (100.0%), 5375.42 column/sec. Elapsed time 7.09 sec\n",
      "EvaluatorHoldout: Processed 34728 (100.0%) in 8.26 sec. Users per second: 4205\n"
     ]
    },
    {
     "name": "stderr",
     "output_type": "stream",
     "text": [
      "[I 2024-12-14 14:12:51,966] Trial 20 finished with value: 0.026428314328495146 and parameters: {'topK': 6, 'shrink': 13.242242360144953, 'feature_weighting': 'TF-IDF', 'normalize': True}. Best is trial 17 with value: 0.026437332256483367.\n"
     ]
    },
    {
     "name": "stdout",
     "output_type": "stream",
     "text": [
      "Similarity column 38121 (100.0%), 5360.31 column/sec. Elapsed time 7.11 sec\n",
      "EvaluatorHoldout: Processed 34728 (100.0%) in 8.30 sec. Users per second: 4186\n"
     ]
    },
    {
     "name": "stderr",
     "output_type": "stream",
     "text": [
      "[I 2024-12-14 14:13:07,511] Trial 21 finished with value: 0.02637361143105729 and parameters: {'topK': 7, 'shrink': 13.73502017665403, 'feature_weighting': 'TF-IDF', 'normalize': True}. Best is trial 17 with value: 0.026437332256483367.\n"
     ]
    },
    {
     "name": "stdout",
     "output_type": "stream",
     "text": [
      "Similarity column 38121 (100.0%), 5291.43 column/sec. Elapsed time 7.20 sec\n",
      "EvaluatorHoldout: Processed 34728 (100.0%) in 8.84 sec. Users per second: 3927\n"
     ]
    },
    {
     "name": "stderr",
     "output_type": "stream",
     "text": [
      "[I 2024-12-14 14:13:23,697] Trial 22 finished with value: 0.025636359252677047 and parameters: {'topK': 18, 'shrink': 11.065185060051292, 'feature_weighting': 'TF-IDF', 'normalize': True}. Best is trial 17 with value: 0.026437332256483367.\n"
     ]
    },
    {
     "name": "stdout",
     "output_type": "stream",
     "text": [
      "Similarity column 38121 (100.0%), 5375.54 column/sec. Elapsed time 7.09 sec\n",
      "EvaluatorHoldout: Processed 34728 (100.0%) in 8.28 sec. Users per second: 4196\n"
     ]
    },
    {
     "name": "stderr",
     "output_type": "stream",
     "text": [
      "[I 2024-12-14 14:13:39,202] Trial 23 finished with value: 0.026379298484731483 and parameters: {'topK': 6, 'shrink': 9.81089703017889, 'feature_weighting': 'TF-IDF', 'normalize': True}. Best is trial 17 with value: 0.026437332256483367.\n"
     ]
    },
    {
     "name": "stdout",
     "output_type": "stream",
     "text": [
      "Similarity column 38121 (100.0%), 5331.84 column/sec. Elapsed time 7.15 sec\n",
      "EvaluatorHoldout: Processed 34728 (100.0%) in 8.31 sec. Users per second: 4182\n"
     ]
    },
    {
     "name": "stderr",
     "output_type": "stream",
     "text": [
      "[I 2024-12-14 14:13:54,793] Trial 24 finished with value: 0.026428314328495146 and parameters: {'topK': 6, 'shrink': 13.302506359356983, 'feature_weighting': 'TF-IDF', 'normalize': True}. Best is trial 17 with value: 0.026437332256483367.\n"
     ]
    },
    {
     "name": "stdout",
     "output_type": "stream",
     "text": [
      "Similarity column 38121 (100.0%), 5353.54 column/sec. Elapsed time 7.12 sec\n",
      "EvaluatorHoldout: Processed 34728 (100.0%) in 9.72 sec. Users per second: 3574\n"
     ]
    },
    {
     "name": "stderr",
     "output_type": "stream",
     "text": [
      "[I 2024-12-14 14:14:11,777] Trial 25 finished with value: 0.02515122055118559 and parameters: {'topK': 47, 'shrink': 14.111853303238144, 'feature_weighting': 'TF-IDF', 'normalize': True}. Best is trial 17 with value: 0.026437332256483367.\n"
     ]
    },
    {
     "name": "stdout",
     "output_type": "stream",
     "text": [
      "Similarity column 38121 (100.0%), 5367.01 column/sec. Elapsed time 7.10 sec\n",
      "EvaluatorHoldout: Processed 34728 (100.0%) in 8.88 sec. Users per second: 3910\n"
     ]
    },
    {
     "name": "stderr",
     "output_type": "stream",
     "text": [
      "[I 2024-12-14 14:14:27,900] Trial 26 finished with value: 0.02572453315196875 and parameters: {'topK': 17, 'shrink': 17.431467925717918, 'feature_weighting': 'TF-IDF', 'normalize': True}. Best is trial 17 with value: 0.026437332256483367.\n"
     ]
    },
    {
     "name": "stdout",
     "output_type": "stream",
     "text": [
      "Similarity column 38121 (100.0%), 5236.26 column/sec. Elapsed time 7.28 sec\n",
      "EvaluatorHoldout: Processed 34728 (100.0%) in 8.61 sec. Users per second: 4034\n"
     ]
    },
    {
     "name": "stderr",
     "output_type": "stream",
     "text": [
      "[I 2024-12-14 14:14:43,916] Trial 27 finished with value: 0.02627329440952403 and parameters: {'topK': 5, 'shrink': 6.704963916283251, 'feature_weighting': 'TF-IDF', 'normalize': True}. Best is trial 17 with value: 0.026437332256483367.\n"
     ]
    },
    {
     "name": "stdout",
     "output_type": "stream",
     "text": [
      "Similarity column 38121 (100.0%), 5282.42 column/sec. Elapsed time 7.22 sec\n",
      "EvaluatorHoldout: Processed 34728 (100.0%) in 8.52 sec. Users per second: 4075\n"
     ]
    },
    {
     "name": "stderr",
     "output_type": "stream",
     "text": [
      "[I 2024-12-14 14:14:59,767] Trial 28 finished with value: 0.025824507373401195 and parameters: {'topK': 12, 'shrink': 3.9407398107126053, 'feature_weighting': 'none', 'normalize': True}. Best is trial 17 with value: 0.026437332256483367.\n"
     ]
    },
    {
     "name": "stdout",
     "output_type": "stream",
     "text": [
      "Similarity column 38121 (100.0%), 5348.45 column/sec. Elapsed time 7.13 sec\n",
      "EvaluatorHoldout: Processed 34728 (100.0%) in 9.13 sec. Users per second: 3804\n"
     ]
    },
    {
     "name": "stderr",
     "output_type": "stream",
     "text": [
      "[I 2024-12-14 14:15:16,164] Trial 29 finished with value: 0.023024960646548066 and parameters: {'topK': 29, 'shrink': 13.305274801563352, 'feature_weighting': 'BM25', 'normalize': True}. Best is trial 17 with value: 0.026437332256483367.\n"
     ]
    },
    {
     "name": "stdout",
     "output_type": "stream",
     "text": [
      "Similarity column 38121 (100.0%), 5322.52 column/sec. Elapsed time 7.16 sec\n",
      "EvaluatorHoldout: Processed 34728 (100.0%) in 8.50 sec. Users per second: 4086\n"
     ]
    },
    {
     "name": "stderr",
     "output_type": "stream",
     "text": [
      "[I 2024-12-14 14:15:31,934] Trial 30 finished with value: 0.026116044004562803 and parameters: {'topK': 9, 'shrink': 20.51238604035887, 'feature_weighting': 'none', 'normalize': True}. Best is trial 17 with value: 0.026437332256483367.\n"
     ]
    },
    {
     "name": "stdout",
     "output_type": "stream",
     "text": [
      "Similarity column 38121 (100.0%), 5297.98 column/sec. Elapsed time 7.20 sec\n",
      "EvaluatorHoldout: Processed 34728 (100.0%) in 8.39 sec. Users per second: 4139\n"
     ]
    },
    {
     "name": "stderr",
     "output_type": "stream",
     "text": [
      "[I 2024-12-14 14:15:47,654] Trial 31 finished with value: 0.026437332256483367 and parameters: {'topK': 6, 'shrink': 12.333845797030454, 'feature_weighting': 'TF-IDF', 'normalize': True}. Best is trial 17 with value: 0.026437332256483367.\n"
     ]
    },
    {
     "name": "stdout",
     "output_type": "stream",
     "text": [
      "Similarity column 38121 (100.0%), 2312.42 column/sec. Elapsed time 16.49 sec\n",
      "EvaluatorHoldout: Processed 34728 (100.0%) in 8.18 sec. Users per second: 4244\n"
     ]
    },
    {
     "name": "stderr",
     "output_type": "stream",
     "text": [
      "[I 2024-12-14 14:16:12,449] Trial 32 finished with value: 0.02520570062855781 and parameters: {'topK': 2, 'shrink': 12.225743133506889, 'feature_weighting': 'TF-IDF', 'normalize': True}. Best is trial 17 with value: 0.026437332256483367.\n"
     ]
    },
    {
     "name": "stdout",
     "output_type": "stream",
     "text": [
      "Similarity column 38121 (100.0%), 5296.87 column/sec. Elapsed time 7.20 sec\n",
      "EvaluatorHoldout: Processed 34728 (100.0%) in 9.46 sec. Users per second: 3670\n"
     ]
    },
    {
     "name": "stderr",
     "output_type": "stream",
     "text": [
      "[I 2024-12-14 14:16:29,248] Trial 33 finished with value: 0.02510141626718984 and parameters: {'topK': 43, 'shrink': 8.842592818582046, 'feature_weighting': 'TF-IDF', 'normalize': True}. Best is trial 17 with value: 0.026437332256483367.\n"
     ]
    },
    {
     "name": "stdout",
     "output_type": "stream",
     "text": [
      "Similarity column 38121 (100.0%), 5314.06 column/sec. Elapsed time 7.17 sec\n",
      "EvaluatorHoldout: Processed 34728 (100.0%) in 8.31 sec. Users per second: 4181\n"
     ]
    },
    {
     "name": "stderr",
     "output_type": "stream",
     "text": [
      "[I 2024-12-14 14:16:44,857] Trial 34 finished with value: 0.02634999021876991 and parameters: {'topK': 5, 'shrink': 10.819257858064189, 'feature_weighting': 'TF-IDF', 'normalize': True}. Best is trial 17 with value: 0.026437332256483367.\n"
     ]
    },
    {
     "name": "stdout",
     "output_type": "stream",
     "text": [
      "Similarity column 38121 (100.0%), 5355.79 column/sec. Elapsed time 7.12 sec\n",
      "EvaluatorHoldout: Processed 34728 (100.0%) in 8.61 sec. Users per second: 4031\n"
     ]
    },
    {
     "name": "stderr",
     "output_type": "stream",
     "text": [
      "[I 2024-12-14 14:17:00,700] Trial 35 finished with value: 0.025793040609470658 and parameters: {'topK': 14, 'shrink': 14.648474870760216, 'feature_weighting': 'none', 'normalize': True}. Best is trial 17 with value: 0.026437332256483367.\n"
     ]
    },
    {
     "name": "stdout",
     "output_type": "stream",
     "text": [
      "Similarity column 38121 (100.0%), 5320.31 column/sec. Elapsed time 7.17 sec\n",
      "EvaluatorHoldout: Processed 34728 (100.0%) in 8.86 sec. Users per second: 3918\n"
     ]
    },
    {
     "name": "stderr",
     "output_type": "stream",
     "text": [
      "[I 2024-12-14 14:17:16,862] Trial 36 finished with value: 0.025621602850999348 and parameters: {'topK': 19, 'shrink': 16.82886303551091, 'feature_weighting': 'TF-IDF', 'normalize': True}. Best is trial 17 with value: 0.026437332256483367.\n"
     ]
    },
    {
     "name": "stdout",
     "output_type": "stream",
     "text": [
      "Similarity column 38121 (100.0%), 5325.76 column/sec. Elapsed time 7.16 sec\n",
      "EvaluatorHoldout: Processed 34728 (100.0%) in 8.48 sec. Users per second: 4096\n"
     ]
    },
    {
     "name": "stderr",
     "output_type": "stream",
     "text": [
      "[I 2024-12-14 14:17:32,630] Trial 37 finished with value: 0.026072901469195053 and parameters: {'topK': 10, 'shrink': 7.415507904349791, 'feature_weighting': 'TF-IDF', 'normalize': True}. Best is trial 17 with value: 0.026437332256483367.\n"
     ]
    },
    {
     "name": "stdout",
     "output_type": "stream",
     "text": [
      "Similarity column 38121 (100.0%), 5336.50 column/sec. Elapsed time 7.14 sec\n",
      "EvaluatorHoldout: Processed 34728 (100.0%) in 9.10 sec. Users per second: 3818\n"
     ]
    },
    {
     "name": "stderr",
     "output_type": "stream",
     "text": [
      "[I 2024-12-14 14:17:49,009] Trial 38 finished with value: 0.022843745086531572 and parameters: {'topK': 27, 'shrink': 10.630851309439375, 'feature_weighting': 'BM25', 'normalize': True}. Best is trial 17 with value: 0.026437332256483367.\n"
     ]
    },
    {
     "name": "stdout",
     "output_type": "stream",
     "text": [
      "Similarity column 38121 (100.0%), 5339.05 column/sec. Elapsed time 7.14 sec\n",
      "EvaluatorHoldout: Processed 34728 (100.0%) in 9.32 sec. Users per second: 3726\n"
     ]
    },
    {
     "name": "stderr",
     "output_type": "stream",
     "text": [
      "[I 2024-12-14 14:18:05,605] Trial 39 finished with value: 0.025207496901086635 and parameters: {'topK': 37, 'shrink': 13.256894304599452, 'feature_weighting': 'TF-IDF', 'normalize': True}. Best is trial 17 with value: 0.026437332256483367.\n"
     ]
    },
    {
     "name": "stdout",
     "output_type": "stream",
     "text": [
      "Similarity column 38121 (100.0%), 5344.28 column/sec. Elapsed time 7.13 sec\n",
      "EvaluatorHoldout: Processed 34728 (100.0%) in 8.26 sec. Users per second: 4205\n"
     ]
    },
    {
     "name": "stderr",
     "output_type": "stream",
     "text": [
      "[I 2024-12-14 14:18:21,104] Trial 40 finished with value: 0.02641995343403376 and parameters: {'topK': 5, 'shrink': 16.235140286994977, 'feature_weighting': 'none', 'normalize': True}. Best is trial 17 with value: 0.026437332256483367.\n"
     ]
    },
    {
     "name": "stdout",
     "output_type": "stream",
     "text": [
      "Similarity column 38121 (100.0%), 5310.93 column/sec. Elapsed time 7.18 sec\n",
      "EvaluatorHoldout: Processed 34728 (100.0%) in 8.34 sec. Users per second: 4162\n"
     ]
    },
    {
     "name": "stderr",
     "output_type": "stream",
     "text": [
      "[I 2024-12-14 14:18:36,737] Trial 41 finished with value: 0.026429756374253027 and parameters: {'topK': 4, 'shrink': 18.718390706650155, 'feature_weighting': 'none', 'normalize': True}. Best is trial 17 with value: 0.026437332256483367.\n"
     ]
    },
    {
     "name": "stdout",
     "output_type": "stream",
     "text": [
      "Similarity column 38121 (100.0%), 5293.89 column/sec. Elapsed time 7.20 sec\n",
      "EvaluatorHoldout: Processed 34728 (100.0%) in 8.43 sec. Users per second: 4118\n"
     ]
    },
    {
     "name": "stderr",
     "output_type": "stream",
     "text": [
      "[I 2024-12-14 14:18:52,482] Trial 42 finished with value: 0.026229043487163116 and parameters: {'topK': 8, 'shrink': 22.678142889670234, 'feature_weighting': 'none', 'normalize': True}. Best is trial 17 with value: 0.026437332256483367.\n"
     ]
    },
    {
     "name": "stdout",
     "output_type": "stream",
     "text": [
      "Similarity column 38121 (100.0%), 5332.31 column/sec. Elapsed time 7.15 sec\n",
      "EvaluatorHoldout: Processed 34728 (100.0%) in 8.25 sec. Users per second: 4207\n"
     ]
    },
    {
     "name": "stderr",
     "output_type": "stream",
     "text": [
      "[I 2024-12-14 14:19:07,993] Trial 43 finished with value: 0.026429756374253027 and parameters: {'topK': 4, 'shrink': 18.154157401903, 'feature_weighting': 'none', 'normalize': True}. Best is trial 17 with value: 0.026437332256483367.\n"
     ]
    },
    {
     "name": "stdout",
     "output_type": "stream",
     "text": [
      "Similarity column 38121 (100.0%), 1643.16 column/sec. Elapsed time 23.20 sec\n",
      "EvaluatorHoldout: Processed 34728 (100.0%) in 8.20 sec. Users per second: 4233\n"
     ]
    },
    {
     "name": "stderr",
     "output_type": "stream",
     "text": [
      "[I 2024-12-14 14:19:39,507] Trial 44 finished with value: 0.025866751772504606 and parameters: {'topK': 3, 'shrink': 18.31945154065863, 'feature_weighting': 'none', 'normalize': False}. Best is trial 17 with value: 0.026437332256483367.\n"
     ]
    },
    {
     "name": "stdout",
     "output_type": "stream",
     "text": [
      "Similarity column 38121 (100.0%), 5309.93 column/sec. Elapsed time 7.18 sec\n",
      "EvaluatorHoldout: Processed 34728 (100.0%) in 8.54 sec. Users per second: 4068\n"
     ]
    },
    {
     "name": "stderr",
     "output_type": "stream",
     "text": [
      "[I 2024-12-14 14:19:55,333] Trial 45 finished with value: 0.025954868538446 and parameters: {'topK': 12, 'shrink': 19.939904285294993, 'feature_weighting': 'none', 'normalize': True}. Best is trial 17 with value: 0.026437332256483367.\n"
     ]
    },
    {
     "name": "stdout",
     "output_type": "stream",
     "text": [
      "Similarity column 38121 (100.0%), 5316.91 column/sec. Elapsed time 7.17 sec\n",
      "EvaluatorHoldout: Processed 34728 (100.0%) in 8.25 sec. Users per second: 4209\n"
     ]
    },
    {
     "name": "stderr",
     "output_type": "stream",
     "text": [
      "[I 2024-12-14 14:20:10,862] Trial 46 finished with value: 0.02642596043446891 and parameters: {'topK': 4, 'shrink': 21.435155936104504, 'feature_weighting': 'none', 'normalize': True}. Best is trial 17 with value: 0.026437332256483367.\n"
     ]
    },
    {
     "name": "stdout",
     "output_type": "stream",
     "text": [
      "Similarity column 38121 (100.0%), 5294.25 column/sec. Elapsed time 7.20 sec\n",
      "EvaluatorHoldout: Processed 34728 (100.0%) in 8.62 sec. Users per second: 4029\n"
     ]
    },
    {
     "name": "stderr",
     "output_type": "stream",
     "text": [
      "[I 2024-12-14 14:20:26,793] Trial 47 finished with value: 0.025788347676089077 and parameters: {'topK': 14, 'shrink': 18.62894201825049, 'feature_weighting': 'none', 'normalize': False}. Best is trial 17 with value: 0.026437332256483367.\n"
     ]
    },
    {
     "name": "stdout",
     "output_type": "stream",
     "text": [
      "Similarity column 38121 (100.0%), 5317.33 column/sec. Elapsed time 7.17 sec\n",
      "EvaluatorHoldout: Processed 34728 (100.0%) in 8.49 sec. Users per second: 4090\n"
     ]
    },
    {
     "name": "stderr",
     "output_type": "stream",
     "text": [
      "[I 2024-12-14 14:20:42,561] Trial 48 finished with value: 0.026133905032487772 and parameters: {'topK': 10, 'shrink': 15.527514404282272, 'feature_weighting': 'none', 'normalize': True}. Best is trial 17 with value: 0.026437332256483367.\n"
     ]
    },
    {
     "name": "stdout",
     "output_type": "stream",
     "text": [
      "Similarity column 38121 (100.0%), 2315.97 column/sec. Elapsed time 16.46 sec\n",
      "EvaluatorHoldout: Processed 34728 (100.0%) in 8.15 sec. Users per second: 4261\n"
     ]
    },
    {
     "name": "stderr",
     "output_type": "stream",
     "text": [
      "[I 2024-12-14 14:21:07,280] Trial 49 finished with value: 0.02514856499307039 and parameters: {'topK': 2, 'shrink': 24.629087654326515, 'feature_weighting': 'none', 'normalize': True}. Best is trial 17 with value: 0.026437332256483367.\n"
     ]
    },
    {
     "name": "stdout",
     "output_type": "stream",
     "text": [
      "Similarity column 38121 (100.0%), 5351.07 column/sec. Elapsed time 7.12 sec\n",
      "EvaluatorHoldout: Processed 34728 (100.0%) in 8.38 sec. Users per second: 4145\n"
     ]
    },
    {
     "name": "stderr",
     "output_type": "stream",
     "text": [
      "[I 2024-12-14 14:21:22,915] Trial 50 finished with value: 0.024098850522701203 and parameters: {'topK': 8, 'shrink': 17.681357517646948, 'feature_weighting': 'BM25', 'normalize': False}. Best is trial 17 with value: 0.026437332256483367.\n"
     ]
    },
    {
     "name": "stdout",
     "output_type": "stream",
     "text": [
      "Similarity column 38121 (100.0%), 5308.28 column/sec. Elapsed time 7.18 sec\n",
      "EvaluatorHoldout: Processed 34728 (100.0%) in 8.36 sec. Users per second: 4152\n"
     ]
    },
    {
     "name": "stderr",
     "output_type": "stream",
     "text": [
      "[I 2024-12-14 14:21:38,588] Trial 51 finished with value: 0.02638256765502729 and parameters: {'topK': 6, 'shrink': 11.663679468949109, 'feature_weighting': 'TF-IDF', 'normalize': True}. Best is trial 17 with value: 0.026437332256483367.\n"
     ]
    },
    {
     "name": "stdout",
     "output_type": "stream",
     "text": [
      "Similarity column 38121 (100.0%), 5318.11 column/sec. Elapsed time 7.17 sec\n",
      "EvaluatorHoldout: Processed 34728 (100.0%) in 8.25 sec. Users per second: 4211\n"
     ]
    },
    {
     "name": "stderr",
     "output_type": "stream",
     "text": [
      "[I 2024-12-14 14:21:54,133] Trial 52 finished with value: 0.02644161954307886 and parameters: {'topK': 4, 'shrink': 14.655754652138473, 'feature_weighting': 'TF-IDF', 'normalize': True}. Best is trial 52 with value: 0.02644161954307886.\n"
     ]
    },
    {
     "name": "stdout",
     "output_type": "stream",
     "text": [
      "Similarity column 38121 (100.0%), 5306.67 column/sec. Elapsed time 7.18 sec\n",
      "EvaluatorHoldout: Processed 34728 (100.0%) in 8.52 sec. Users per second: 4076\n"
     ]
    },
    {
     "name": "stderr",
     "output_type": "stream",
     "text": [
      "[I 2024-12-14 14:22:09,971] Trial 53 finished with value: 0.026022504141024666 and parameters: {'topK': 11, 'shrink': 16.119960563142577, 'feature_weighting': 'TF-IDF', 'normalize': True}. Best is trial 52 with value: 0.02644161954307886.\n"
     ]
    },
    {
     "name": "stdout",
     "output_type": "stream",
     "text": [
      "Similarity column 38121 (100.0%), 5324.96 column/sec. Elapsed time 7.16 sec\n",
      "EvaluatorHoldout: Processed 34728 (100.0%) in 8.25 sec. Users per second: 4209\n"
     ]
    },
    {
     "name": "stderr",
     "output_type": "stream",
     "text": [
      "[I 2024-12-14 14:22:25,487] Trial 54 finished with value: 0.026440659702796278 and parameters: {'topK': 4, 'shrink': 14.715660114548221, 'feature_weighting': 'none', 'normalize': True}. Best is trial 52 with value: 0.02644161954307886.\n"
     ]
    },
    {
     "name": "stdout",
     "output_type": "stream",
     "text": [
      "Similarity column 38121 (100.0%), 5293.53 column/sec. Elapsed time 7.20 sec\n",
      "EvaluatorHoldout: Processed 34728 (100.0%) in 8.22 sec. Users per second: 4225\n"
     ]
    },
    {
     "name": "stderr",
     "output_type": "stream",
     "text": [
      "[I 2024-12-14 14:22:41,016] Trial 55 finished with value: 0.026440659702796278 and parameters: {'topK': 4, 'shrink': 14.282013807662036, 'feature_weighting': 'none', 'normalize': True}. Best is trial 52 with value: 0.02644161954307886.\n"
     ]
    },
    {
     "name": "stdout",
     "output_type": "stream",
     "text": [
      "Similarity column 38121 (100.0%), 5331.59 column/sec. Elapsed time 7.15 sec\n",
      "EvaluatorHoldout: Processed 34728 (100.0%) in 8.41 sec. Users per second: 4127\n"
     ]
    },
    {
     "name": "stderr",
     "output_type": "stream",
     "text": [
      "[I 2024-12-14 14:22:56,688] Trial 56 finished with value: 0.02614394450477664 and parameters: {'topK': 8, 'shrink': 9.707265139597512, 'feature_weighting': 'none', 'normalize': True}. Best is trial 52 with value: 0.02644161954307886.\n"
     ]
    },
    {
     "name": "stdout",
     "output_type": "stream",
     "text": [
      "Similarity column 38121 (100.0%), 2311.55 column/sec. Elapsed time 16.49 sec\n",
      "EvaluatorHoldout: Processed 34728 (100.0%) in 8.17 sec. Users per second: 4252\n"
     ]
    },
    {
     "name": "stderr",
     "output_type": "stream",
     "text": [
      "[I 2024-12-14 14:23:21,462] Trial 57 finished with value: 0.025216941043866972 and parameters: {'topK': 2, 'shrink': 14.634247623969276, 'feature_weighting': 'none', 'normalize': True}. Best is trial 52 with value: 0.02644161954307886.\n"
     ]
    },
    {
     "name": "stdout",
     "output_type": "stream",
     "text": [
      "Similarity column 38121 (100.0%), 5299.86 column/sec. Elapsed time 7.19 sec\n",
      "EvaluatorHoldout: Processed 34728 (100.0%) in 9.18 sec. Users per second: 3783\n"
     ]
    },
    {
     "name": "stderr",
     "output_type": "stream",
     "text": [
      "[I 2024-12-14 14:23:37,952] Trial 58 finished with value: 0.025295490258991825 and parameters: {'topK': 33, 'shrink': 12.48725332038593, 'feature_weighting': 'none', 'normalize': False}. Best is trial 52 with value: 0.02644161954307886.\n"
     ]
    },
    {
     "name": "stdout",
     "output_type": "stream",
     "text": [
      "Similarity column 38121 (100.0%), 5316.10 column/sec. Elapsed time 7.17 sec\n",
      "EvaluatorHoldout: Processed 34728 (100.0%) in 8.34 sec. Users per second: 4166\n"
     ]
    },
    {
     "name": "stderr",
     "output_type": "stream",
     "text": [
      "[I 2024-12-14 14:23:53,565] Trial 59 finished with value: 0.026440659702796278 and parameters: {'topK': 4, 'shrink': 14.084614219611307, 'feature_weighting': 'none', 'normalize': True}. Best is trial 52 with value: 0.02644161954307886.\n"
     ]
    },
    {
     "name": "stdout",
     "output_type": "stream",
     "text": [
      "Similarity column 38121 (100.0%), 5307.83 column/sec. Elapsed time 7.18 sec\n",
      "EvaluatorHoldout: Processed 34728 (100.0%) in 8.37 sec. Users per second: 4151\n"
     ]
    },
    {
     "name": "stderr",
     "output_type": "stream",
     "text": [
      "[I 2024-12-14 14:24:09,247] Trial 60 finished with value: 0.02403699224449008 and parameters: {'topK': 7, 'shrink': 14.903194782910266, 'feature_weighting': 'BM25', 'normalize': True}. Best is trial 52 with value: 0.02644161954307886.\n"
     ]
    },
    {
     "name": "stdout",
     "output_type": "stream",
     "text": [
      "Similarity column 38121 (100.0%), 5344.08 column/sec. Elapsed time 7.13 sec\n",
      "EvaluatorHoldout: Processed 34728 (100.0%) in 8.19 sec. Users per second: 4240\n"
     ]
    },
    {
     "name": "stderr",
     "output_type": "stream",
     "text": [
      "[I 2024-12-14 14:24:24,680] Trial 61 finished with value: 0.026412230147759987 and parameters: {'topK': 4, 'shrink': 13.919854007055257, 'feature_weighting': 'none', 'normalize': True}. Best is trial 52 with value: 0.02644161954307886.\n"
     ]
    },
    {
     "name": "stdout",
     "output_type": "stream",
     "text": [
      "Similarity column 38121 (100.0%), 5359.75 column/sec. Elapsed time 7.11 sec\n",
      "EvaluatorHoldout: Processed 34728 (100.0%) in 8.26 sec. Users per second: 4203\n"
     ]
    },
    {
     "name": "stderr",
     "output_type": "stream",
     "text": [
      "[I 2024-12-14 14:24:40,163] Trial 62 finished with value: 0.026432648464437797 and parameters: {'topK': 4, 'shrink': 16.21492594349898, 'feature_weighting': 'none', 'normalize': True}. Best is trial 52 with value: 0.02644161954307886.\n"
     ]
    },
    {
     "name": "stdout",
     "output_type": "stream",
     "text": [
      "Similarity column 38121 (100.0%), 5316.24 column/sec. Elapsed time 7.17 sec\n",
      "EvaluatorHoldout: Processed 34728 (100.0%) in 8.49 sec. Users per second: 4090\n"
     ]
    },
    {
     "name": "stderr",
     "output_type": "stream",
     "text": [
      "[I 2024-12-14 14:24:55,935] Trial 63 finished with value: 0.026103888312984238 and parameters: {'topK': 10, 'shrink': 16.212023562319743, 'feature_weighting': 'none', 'normalize': True}. Best is trial 52 with value: 0.02644161954307886.\n"
     ]
    },
    {
     "name": "stdout",
     "output_type": "stream",
     "text": [
      "Similarity column 38121 (100.0%), 2303.05 column/sec. Elapsed time 16.55 sec\n",
      "EvaluatorHoldout: Processed 34728 (100.0%) in 8.00 sec. Users per second: 4343\n"
     ]
    },
    {
     "name": "stderr",
     "output_type": "stream",
     "text": [
      "[I 2024-12-14 14:25:20,593] Trial 64 finished with value: 0.025216941043866972 and parameters: {'topK': 2, 'shrink': 14.15163398864662, 'feature_weighting': 'none', 'normalize': True}. Best is trial 52 with value: 0.02644161954307886.\n"
     ]
    },
    {
     "name": "stdout",
     "output_type": "stream",
     "text": [
      "Similarity column 38121 (100.0%), 5372.57 column/sec. Elapsed time 7.10 sec\n",
      "EvaluatorHoldout: Processed 34728 (100.0%) in 4.31 min. Users per second: 134\n"
     ]
    },
    {
     "name": "stderr",
     "output_type": "stream",
     "text": [
      "[I 2024-12-14 14:29:46,396] Trial 65 finished with value: 0.026358271126541124 and parameters: {'topK': 7, 'shrink': 11.58159775540802, 'feature_weighting': 'none', 'normalize': True}. Best is trial 52 with value: 0.02644161954307886.\n"
     ]
    },
    {
     "name": "stdout",
     "output_type": "stream",
     "text": [
      "Similarity column 38121 (100.0%), 5302.39 column/sec. Elapsed time 7.19 sec\n",
      "EvaluatorHoldout: Processed 34728 (100.0%) in 8.23 sec. Users per second: 4220\n"
     ]
    },
    {
     "name": "stderr",
     "output_type": "stream",
     "text": [
      "[I 2024-12-14 14:30:01,924] Trial 66 finished with value: 0.026379351047413804 and parameters: {'topK': 5, 'shrink': 13.029559008186189, 'feature_weighting': 'none', 'normalize': True}. Best is trial 52 with value: 0.02644161954307886.\n"
     ]
    },
    {
     "name": "stdout",
     "output_type": "stream",
     "text": [
      "Similarity column 38121 (100.0%), 5345.03 column/sec. Elapsed time 7.13 sec\n",
      "EvaluatorHoldout: Processed 34728 (100.0%) in 8.45 sec. Users per second: 4110\n"
     ]
    },
    {
     "name": "stderr",
     "output_type": "stream",
     "text": [
      "[I 2024-12-14 14:30:17,635] Trial 67 finished with value: 0.02610796077818305 and parameters: {'topK': 9, 'shrink': 15.652188075931083, 'feature_weighting': 'TF-IDF', 'normalize': True}. Best is trial 52 with value: 0.02644161954307886.\n"
     ]
    },
    {
     "name": "stdout",
     "output_type": "stream",
     "text": [
      "Similarity column 38121 (100.0%), 1645.01 column/sec. Elapsed time 23.17 sec\n",
      "EvaluatorHoldout: Processed 34728 (100.0%) in 8.13 sec. Users per second: 4269\n"
     ]
    },
    {
     "name": "stderr",
     "output_type": "stream",
     "text": [
      "[I 2024-12-14 14:30:49,050] Trial 68 finished with value: 0.025920909617781894 and parameters: {'topK': 3, 'shrink': 12.772743358328114, 'feature_weighting': 'none', 'normalize': True}. Best is trial 52 with value: 0.02644161954307886.\n"
     ]
    },
    {
     "name": "stdout",
     "output_type": "stream",
     "text": [
      "Similarity column 38121 (100.0%), 5312.94 column/sec. Elapsed time 7.18 sec\n",
      "EvaluatorHoldout: Processed 34728 (100.0%) in 8.41 sec. Users per second: 4131\n"
     ]
    },
    {
     "name": "stderr",
     "output_type": "stream",
     "text": [
      "[I 2024-12-14 14:31:04,760] Trial 69 finished with value: 0.026370967299612125 and parameters: {'topK': 6, 'shrink': 10.320227777721886, 'feature_weighting': 'TF-IDF', 'normalize': True}. Best is trial 52 with value: 0.02644161954307886.\n"
     ]
    },
    {
     "name": "stdout",
     "output_type": "stream",
     "text": [
      "Similarity column 38121 (100.0%), 5364.29 column/sec. Elapsed time 7.11 sec\n",
      "EvaluatorHoldout: Processed 34728 (100.0%) in 8.57 sec. Users per second: 4051\n"
     ]
    },
    {
     "name": "stderr",
     "output_type": "stream",
     "text": [
      "[I 2024-12-14 14:31:20,570] Trial 70 finished with value: 0.025766405041629165 and parameters: {'topK': 16, 'shrink': 16.73456971174642, 'feature_weighting': 'TF-IDF', 'normalize': True}. Best is trial 52 with value: 0.02644161954307886.\n"
     ]
    },
    {
     "name": "stdout",
     "output_type": "stream",
     "text": [
      "Similarity column 38121 (100.0%), 5373.69 column/sec. Elapsed time 7.09 sec\n",
      "EvaluatorHoldout: Processed 34728 (100.0%) in 8.14 sec. Users per second: 4266\n"
     ]
    },
    {
     "name": "stderr",
     "output_type": "stream",
     "text": [
      "[I 2024-12-14 14:31:35,910] Trial 71 finished with value: 0.026440659702796278 and parameters: {'topK': 4, 'shrink': 14.273552894750537, 'feature_weighting': 'none', 'normalize': True}. Best is trial 52 with value: 0.02644161954307886.\n"
     ]
    },
    {
     "name": "stdout",
     "output_type": "stream",
     "text": [
      "Similarity column 38121 (100.0%), 5383.69 column/sec. Elapsed time 7.08 sec\n",
      "EvaluatorHoldout: Processed 34728 (100.0%) in 8.13 sec. Users per second: 4271\n"
     ]
    },
    {
     "name": "stderr",
     "output_type": "stream",
     "text": [
      "[I 2024-12-14 14:31:51,229] Trial 72 finished with value: 0.026440659702796278 and parameters: {'topK': 4, 'shrink': 14.541102540154595, 'feature_weighting': 'none', 'normalize': True}. Best is trial 52 with value: 0.02644161954307886.\n"
     ]
    },
    {
     "name": "stdout",
     "output_type": "stream",
     "text": [
      "Similarity column 38121 (100.0%), 5339.06 column/sec. Elapsed time 7.14 sec\n",
      "EvaluatorHoldout: Processed 34728 (100.0%) in 8.30 sec. Users per second: 4186\n"
     ]
    },
    {
     "name": "stderr",
     "output_type": "stream",
     "text": [
      "[I 2024-12-14 14:32:06,771] Trial 73 finished with value: 0.026390597176057923 and parameters: {'topK': 7, 'shrink': 14.234447163097636, 'feature_weighting': 'none', 'normalize': True}. Best is trial 52 with value: 0.02644161954307886.\n"
     ]
    },
    {
     "name": "stdout",
     "output_type": "stream",
     "text": [
      "Similarity column 38121 (100.0%), 5369.80 column/sec. Elapsed time 7.10 sec\n",
      "EvaluatorHoldout: Processed 34728 (100.0%) in 8.23 sec. Users per second: 4220\n"
     ]
    },
    {
     "name": "stderr",
     "output_type": "stream",
     "text": [
      "[I 2024-12-14 14:32:22,206] Trial 74 finished with value: 0.026412761487916474 and parameters: {'topK': 5, 'shrink': 15.108018295296812, 'feature_weighting': 'none', 'normalize': True}. Best is trial 52 with value: 0.02644161954307886.\n"
     ]
    },
    {
     "name": "stdout",
     "output_type": "stream",
     "text": [
      "Similarity column 38121 (100.0%), 1654.67 column/sec. Elapsed time 23.04 sec\n",
      "EvaluatorHoldout: Processed 34728 (100.0%) in 8.13 sec. Users per second: 4272\n"
     ]
    },
    {
     "name": "stderr",
     "output_type": "stream",
     "text": [
      "[I 2024-12-14 14:32:53,481] Trial 75 finished with value: 0.025888461302895818 and parameters: {'topK': 3, 'shrink': 11.435489930841541, 'feature_weighting': 'none', 'normalize': True}. Best is trial 52 with value: 0.02644161954307886.\n"
     ]
    },
    {
     "name": "stdout",
     "output_type": "stream",
     "text": [
      "Similarity column 38121 (100.0%), 5367.41 column/sec. Elapsed time 7.10 sec\n",
      "EvaluatorHoldout: Processed 34728 (100.0%) in 8.35 sec. Users per second: 4161\n"
     ]
    },
    {
     "name": "stderr",
     "output_type": "stream",
     "text": [
      "[I 2024-12-14 14:33:09,060] Trial 76 finished with value: 0.023782484880229833 and parameters: {'topK': 8, 'shrink': 13.636105922085735, 'feature_weighting': 'BM25', 'normalize': True}. Best is trial 52 with value: 0.02644161954307886.\n"
     ]
    },
    {
     "name": "stdout",
     "output_type": "stream",
     "text": [
      "Similarity column 38121 (100.0%), 5389.82 column/sec. Elapsed time 7.07 sec\n",
      "EvaluatorHoldout: Processed 34728 (100.0%) in 8.42 sec. Users per second: 4122\n"
     ]
    },
    {
     "name": "stderr",
     "output_type": "stream",
     "text": [
      "[I 2024-12-14 14:33:24,686] Trial 77 finished with value: 0.026018813326604724 and parameters: {'topK': 11, 'shrink': 12.608199714690137, 'feature_weighting': 'TF-IDF', 'normalize': False}. Best is trial 52 with value: 0.02644161954307886.\n"
     ]
    },
    {
     "name": "stdout",
     "output_type": "stream",
     "text": [
      "Similarity column 38121 (100.0%), 5368.92 column/sec. Elapsed time 7.10 sec\n",
      "EvaluatorHoldout: Processed 34728 (100.0%) in 8.25 sec. Users per second: 4208\n"
     ]
    },
    {
     "name": "stderr",
     "output_type": "stream",
     "text": [
      "[I 2024-12-14 14:33:40,145] Trial 78 finished with value: 0.026429935772972493 and parameters: {'topK': 6, 'shrink': 14.749658991217864, 'feature_weighting': 'none', 'normalize': True}. Best is trial 52 with value: 0.02644161954307886.\n"
     ]
    },
    {
     "name": "stdout",
     "output_type": "stream",
     "text": [
      "Similarity column 38121 (100.0%), 2331.65 column/sec. Elapsed time 16.35 sec\n",
      "EvaluatorHoldout: Processed 34728 (100.0%) in 8.04 sec. Users per second: 4319\n"
     ]
    },
    {
     "name": "stderr",
     "output_type": "stream",
     "text": [
      "[I 2024-12-14 14:34:04,664] Trial 79 finished with value: 0.025072592492037478 and parameters: {'topK': 2, 'shrink': 8.814113708138377, 'feature_weighting': 'TF-IDF', 'normalize': True}. Best is trial 52 with value: 0.02644161954307886.\n"
     ]
    },
    {
     "name": "stdout",
     "output_type": "stream",
     "text": [
      "Similarity column 38121 (100.0%), 5378.28 column/sec. Elapsed time 7.09 sec\n",
      "EvaluatorHoldout: Processed 34728 (100.0%) in 8.48 sec. Users per second: 4097\n"
     ]
    },
    {
     "name": "stderr",
     "output_type": "stream",
     "text": [
      "[I 2024-12-14 14:34:20,336] Trial 80 finished with value: 0.025638189805215997 and parameters: {'topK': 13, 'shrink': 1.1299983259761888, 'feature_weighting': 'none', 'normalize': True}. Best is trial 52 with value: 0.02644161954307886.\n"
     ]
    },
    {
     "name": "stdout",
     "output_type": "stream",
     "text": [
      "Similarity column 38121 (100.0%), 5383.64 column/sec. Elapsed time 7.08 sec\n",
      "EvaluatorHoldout: Processed 34728 (100.0%) in 8.17 sec. Users per second: 4250\n"
     ]
    },
    {
     "name": "stderr",
     "output_type": "stream",
     "text": [
      "[I 2024-12-14 14:34:35,697] Trial 81 finished with value: 0.02643337520065176 and parameters: {'topK': 4, 'shrink': 17.303864666024992, 'feature_weighting': 'none', 'normalize': True}. Best is trial 52 with value: 0.02644161954307886.\n"
     ]
    },
    {
     "name": "stdout",
     "output_type": "stream",
     "text": [
      "Similarity column 38121 (100.0%), 5382.92 column/sec. Elapsed time 7.08 sec\n",
      "EvaluatorHoldout: Processed 34728 (100.0%) in 8.17 sec. Users per second: 4251\n"
     ]
    },
    {
     "name": "stderr",
     "output_type": "stream",
     "text": [
      "[I 2024-12-14 14:34:51,056] Trial 82 finished with value: 0.026400636648346854 and parameters: {'topK': 4, 'shrink': 12.249382998121927, 'feature_weighting': 'none', 'normalize': True}. Best is trial 52 with value: 0.02644161954307886.\n"
     ]
    },
    {
     "name": "stdout",
     "output_type": "stream",
     "text": [
      "Similarity column 38121 (100.0%), 5390.69 column/sec. Elapsed time 7.07 sec\n",
      "EvaluatorHoldout: Processed 34728 (100.0%) in 8.27 sec. Users per second: 4198\n"
     ]
    },
    {
     "name": "stderr",
     "output_type": "stream",
     "text": [
      "[I 2024-12-14 14:35:06,508] Trial 83 finished with value: 0.026459928496469106 and parameters: {'topK': 5, 'shrink': 17.269266451311438, 'feature_weighting': 'none', 'normalize': True}. Best is trial 83 with value: 0.026459928496469106.\n"
     ]
    },
    {
     "name": "stdout",
     "output_type": "stream",
     "text": [
      "Similarity column 38121 (100.0%), 5387.64 column/sec. Elapsed time 7.08 sec\n",
      "EvaluatorHoldout: Processed 34728 (100.0%) in 8.24 sec. Users per second: 4215\n"
     ]
    },
    {
     "name": "stderr",
     "output_type": "stream",
     "text": [
      "[I 2024-12-14 14:35:21,932] Trial 84 finished with value: 0.026436638657612473 and parameters: {'topK': 6, 'shrink': 15.419622170548152, 'feature_weighting': 'none', 'normalize': True}. Best is trial 83 with value: 0.026459928496469106.\n"
     ]
    },
    {
     "name": "stdout",
     "output_type": "stream",
     "text": [
      "Similarity column 38121 (100.0%), 5377.77 column/sec. Elapsed time 7.09 sec\n",
      "EvaluatorHoldout: Processed 34728 (100.0%) in 8.37 sec. Users per second: 4149\n"
     ]
    },
    {
     "name": "stderr",
     "output_type": "stream",
     "text": [
      "[I 2024-12-14 14:35:37,498] Trial 85 finished with value: 0.026104575055852945 and parameters: {'topK': 9, 'shrink': 13.6602686234213, 'feature_weighting': 'none', 'normalize': True}. Best is trial 83 with value: 0.026459928496469106.\n"
     ]
    },
    {
     "name": "stdout",
     "output_type": "stream",
     "text": [
      "Similarity column 38121 (100.0%), 1648.84 column/sec. Elapsed time 23.12 sec\n",
      "EvaluatorHoldout: Processed 34728 (100.0%) in 8.11 sec. Users per second: 4283\n"
     ]
    },
    {
     "name": "stderr",
     "output_type": "stream",
     "text": [
      "[I 2024-12-14 14:36:08,854] Trial 86 finished with value: 0.025923965109348142 and parameters: {'topK': 3, 'shrink': 14.43810310460121, 'feature_weighting': 'TF-IDF', 'normalize': True}. Best is trial 83 with value: 0.026459928496469106.\n"
     ]
    },
    {
     "name": "stdout",
     "output_type": "stream",
     "text": [
      "Similarity column 38121 (100.0%), 5370.81 column/sec. Elapsed time 7.10 sec\n",
      "EvaluatorHoldout: Processed 34728 (100.0%) in 8.18 sec. Users per second: 4247\n"
     ]
    },
    {
     "name": "stderr",
     "output_type": "stream",
     "text": [
      "[I 2024-12-14 14:36:24,237] Trial 87 finished with value: 0.026379351047413804 and parameters: {'topK': 5, 'shrink': 13.066839154082814, 'feature_weighting': 'none', 'normalize': True}. Best is trial 83 with value: 0.026459928496469106.\n"
     ]
    },
    {
     "name": "stdout",
     "output_type": "stream",
     "text": [
      "Similarity column 38121 (100.0%), 5377.60 column/sec. Elapsed time 7.09 sec\n",
      "EvaluatorHoldout: Processed 34728 (100.0%) in 8.32 sec. Users per second: 4173\n"
     ]
    },
    {
     "name": "stderr",
     "output_type": "stream",
     "text": [
      "[I 2024-12-14 14:36:39,756] Trial 88 finished with value: 0.02622374494026996 and parameters: {'topK': 8, 'shrink': 12.054743382255694, 'feature_weighting': 'none', 'normalize': True}. Best is trial 83 with value: 0.026459928496469106.\n"
     ]
    },
    {
     "name": "stdout",
     "output_type": "stream",
     "text": [
      "Similarity column 38121 (100.0%), 5406.34 column/sec. Elapsed time 7.05 sec\n",
      "EvaluatorHoldout: Processed 34728 (100.0%) in 9.13 sec. Users per second: 3805\n"
     ]
    },
    {
     "name": "stderr",
     "output_type": "stream",
     "text": [
      "[I 2024-12-14 14:36:56,069] Trial 89 finished with value: 0.02544017704025434 and parameters: {'topK': 25, 'shrink': 11.057703022534831, 'feature_weighting': 'TF-IDF', 'normalize': True}. Best is trial 83 with value: 0.026459928496469106.\n"
     ]
    },
    {
     "name": "stdout",
     "output_type": "stream",
     "text": [
      "Similarity column 38121 (100.0%), 5363.62 column/sec. Elapsed time 7.11 sec\n",
      "EvaluatorHoldout: Processed 34728 (100.0%) in 10.15 sec. Users per second: 3420\n"
     ]
    },
    {
     "name": "stderr",
     "output_type": "stream",
     "text": [
      "[I 2024-12-14 14:37:13,482] Trial 90 finished with value: 0.023286815359638027 and parameters: {'topK': 39, 'shrink': 19.625633602027357, 'feature_weighting': 'BM25', 'normalize': False}. Best is trial 83 with value: 0.026459928496469106.\n"
     ]
    },
    {
     "name": "stdout",
     "output_type": "stream",
     "text": [
      "Similarity column 38121 (100.0%), 5035.87 column/sec. Elapsed time 7.57 sec\n",
      "EvaluatorHoldout: Processed 34728 (100.0%) in 8.74 sec. Users per second: 3971\n"
     ]
    },
    {
     "name": "stderr",
     "output_type": "stream",
     "text": [
      "[I 2024-12-14 14:37:29,929] Trial 91 finished with value: 0.026436638657612473 and parameters: {'topK': 6, 'shrink': 15.42945111919581, 'feature_weighting': 'none', 'normalize': True}. Best is trial 83 with value: 0.026459928496469106.\n"
     ]
    },
    {
     "name": "stdout",
     "output_type": "stream",
     "text": [
      "Similarity column 38121 (100.0%), 4927.40 column/sec. Elapsed time 7.74 sec\n",
      "EvaluatorHoldout: Processed 34728 (100.0%) in 8.89 sec. Users per second: 3908\n"
     ]
    },
    {
     "name": "stderr",
     "output_type": "stream",
     "text": [
      "[I 2024-12-14 14:37:46,674] Trial 92 finished with value: 0.026383295533908304 and parameters: {'topK': 7, 'shrink': 15.757350347015835, 'feature_weighting': 'none', 'normalize': True}. Best is trial 83 with value: 0.026459928496469106.\n"
     ]
    },
    {
     "name": "stdout",
     "output_type": "stream",
     "text": [
      "Similarity column 38121 (100.0%), 5079.20 column/sec. Elapsed time 7.51 sec\n",
      "EvaluatorHoldout: Processed 34728 (100.0%) in 9.11 sec. Users per second: 3812\n"
     ]
    },
    {
     "name": "stderr",
     "output_type": "stream",
     "text": [
      "[I 2024-12-14 14:38:03,414] Trial 93 finished with value: 0.02641995343403376 and parameters: {'topK': 5, 'shrink': 16.91994403958091, 'feature_weighting': 'none', 'normalize': True}. Best is trial 83 with value: 0.026459928496469106.\n"
     ]
    },
    {
     "name": "stdout",
     "output_type": "stream",
     "text": [
      "Similarity column 38121 (100.0%), 1637.94 column/sec. Elapsed time 23.27 sec\n",
      "EvaluatorHoldout: Processed 34728 (100.0%) in 8.33 sec. Users per second: 4170\n"
     ]
    },
    {
     "name": "stderr",
     "output_type": "stream",
     "text": [
      "[I 2024-12-14 14:38:35,139] Trial 94 finished with value: 0.025920248013587194 and parameters: {'topK': 3, 'shrink': 15.169915775386979, 'feature_weighting': 'none', 'normalize': True}. Best is trial 83 with value: 0.026459928496469106.\n"
     ]
    },
    {
     "name": "stdout",
     "output_type": "stream",
     "text": [
      "Similarity column 38121 (100.0%), 5346.98 column/sec. Elapsed time 7.13 sec\n",
      "EvaluatorHoldout: Processed 34728 (100.0%) in 8.40 sec. Users per second: 4133\n"
     ]
    },
    {
     "name": "stderr",
     "output_type": "stream",
     "text": [
      "[I 2024-12-14 14:38:50,786] Trial 95 finished with value: 0.02637447528731161 and parameters: {'topK': 7, 'shrink': 13.538374789832865, 'feature_weighting': 'none', 'normalize': True}. Best is trial 83 with value: 0.026459928496469106.\n"
     ]
    },
    {
     "name": "stdout",
     "output_type": "stream",
     "text": [
      "Similarity column 38121 (100.0%), 2320.82 column/sec. Elapsed time 16.43 sec\n",
      "EvaluatorHoldout: Processed 34728 (100.0%) in 8.17 sec. Users per second: 4252\n"
     ]
    },
    {
     "name": "stderr",
     "output_type": "stream",
     "text": [
      "[I 2024-12-14 14:39:15,493] Trial 96 finished with value: 0.02520513386572429 and parameters: {'topK': 2, 'shrink': 17.660659758260394, 'feature_weighting': 'none', 'normalize': True}. Best is trial 83 with value: 0.026459928496469106.\n"
     ]
    },
    {
     "name": "stdout",
     "output_type": "stream",
     "text": [
      "Similarity column 38121 (100.0%), 5186.48 column/sec. Elapsed time 7.35 sec\n",
      "EvaluatorHoldout: Processed 34728 (100.0%) in 9.06 sec. Users per second: 3833\n"
     ]
    },
    {
     "name": "stderr",
     "output_type": "stream",
     "text": [
      "[I 2024-12-14 14:39:32,045] Trial 97 finished with value: 0.02612186246494249 and parameters: {'topK': 10, 'shrink': 14.39353035155781, 'feature_weighting': 'TF-IDF', 'normalize': True}. Best is trial 83 with value: 0.026459928496469106.\n"
     ]
    },
    {
     "name": "stdout",
     "output_type": "stream",
     "text": [
      "Similarity column 38121 (100.0%), 5155.75 column/sec. Elapsed time 7.39 sec\n",
      "EvaluatorHoldout: Processed 34728 (100.0%) in 8.81 sec. Users per second: 3943\n"
     ]
    },
    {
     "name": "stderr",
     "output_type": "stream",
     "text": [
      "[I 2024-12-14 14:39:48,363] Trial 98 finished with value: 0.02644342952761169 and parameters: {'topK': 6, 'shrink': 16.505710247385274, 'feature_weighting': 'none', 'normalize': True}. Best is trial 83 with value: 0.026459928496469106.\n"
     ]
    },
    {
     "name": "stdout",
     "output_type": "stream",
     "text": [
      "Similarity column 38121 (100.0%), 1621.63 column/sec. Elapsed time 23.51 sec\n",
      "EvaluatorHoldout: Processed 34728 (100.0%) in 8.76 sec. Users per second: 3964\n"
     ]
    },
    {
     "name": "stderr",
     "output_type": "stream",
     "text": [
      "[I 2024-12-14 14:40:20,751] Trial 99 finished with value: 0.025909399533060106 and parameters: {'topK': 3, 'shrink': 16.57810393694694, 'feature_weighting': 'none', 'normalize': True}. Best is trial 83 with value: 0.026459928496469106.\n"
     ]
    },
    {
     "name": "stdout",
     "output_type": "stream",
     "text": [
      "Similarity column 38121 (100.0%), 5159.07 column/sec. Elapsed time 7.39 sec\n",
      "EvaluatorHoldout: Processed 34728 (100.0%) in 8.74 sec. Users per second: 3973\n"
     ]
    },
    {
     "name": "stderr",
     "output_type": "stream",
     "text": [
      "[I 2024-12-14 14:40:37,028] Trial 100 finished with value: 0.026089426719393356 and parameters: {'topK': 9, 'shrink': 10.312300456762006, 'feature_weighting': 'TF-IDF', 'normalize': True}. Best is trial 83 with value: 0.026459928496469106.\n"
     ]
    },
    {
     "name": "stdout",
     "output_type": "stream",
     "text": [
      "Similarity column 38121 (100.0%), 5227.06 column/sec. Elapsed time 7.29 sec\n",
      "EvaluatorHoldout: Processed 34728 (100.0%) in 8.66 sec. Users per second: 4010\n"
     ]
    },
    {
     "name": "stderr",
     "output_type": "stream",
     "text": [
      "[I 2024-12-14 14:40:53,102] Trial 101 finished with value: 0.026436638657612473 and parameters: {'topK': 6, 'shrink': 15.874511533252829, 'feature_weighting': 'none', 'normalize': True}. Best is trial 83 with value: 0.026459928496469106.\n"
     ]
    },
    {
     "name": "stdout",
     "output_type": "stream",
     "text": [
      "Similarity column 38121 (100.0%), 5211.19 column/sec. Elapsed time 7.32 sec\n",
      "EvaluatorHoldout: Processed 34728 (100.0%) in 9.90 sec. Users per second: 3508\n"
     ]
    },
    {
     "name": "stderr",
     "output_type": "stream",
     "text": [
      "[I 2024-12-14 14:41:10,438] Trial 102 finished with value: 0.025109336092188028 and parameters: {'topK': 50, 'shrink': 14.96844160000684, 'feature_weighting': 'none', 'normalize': True}. Best is trial 83 with value: 0.026459928496469106.\n"
     ]
    },
    {
     "name": "stdout",
     "output_type": "stream",
     "text": [
      "Similarity column 38121 (100.0%), 5290.16 column/sec. Elapsed time 7.21 sec\n",
      "EvaluatorHoldout: Processed 34728 (100.0%) in 8.41 sec. Users per second: 4130\n"
     ]
    },
    {
     "name": "stderr",
     "output_type": "stream",
     "text": [
      "[I 2024-12-14 14:41:26,161] Trial 103 finished with value: 0.026379351047413804 and parameters: {'topK': 5, 'shrink': 13.984176793439584, 'feature_weighting': 'none', 'normalize': True}. Best is trial 83 with value: 0.026459928496469106.\n"
     ]
    },
    {
     "name": "stdout",
     "output_type": "stream",
     "text": [
      "Similarity column 38121 (100.0%), 5299.97 column/sec. Elapsed time 7.19 sec\n",
      "EvaluatorHoldout: Processed 34728 (100.0%) in 8.37 sec. Users per second: 4149\n"
     ]
    },
    {
     "name": "stderr",
     "output_type": "stream",
     "text": [
      "[I 2024-12-14 14:41:41,833] Trial 104 finished with value: 0.026400636648346854 and parameters: {'topK': 4, 'shrink': 12.932187763814222, 'feature_weighting': 'none', 'normalize': True}. Best is trial 83 with value: 0.026459928496469106.\n"
     ]
    },
    {
     "name": "stdout",
     "output_type": "stream",
     "text": [
      "Similarity column 38121 (100.0%), 5307.87 column/sec. Elapsed time 7.18 sec\n",
      "EvaluatorHoldout: Processed 34728 (100.0%) in 8.59 sec. Users per second: 4043\n"
     ]
    },
    {
     "name": "stderr",
     "output_type": "stream",
     "text": [
      "[I 2024-12-14 14:41:57,714] Trial 105 finished with value: 0.0262301872968332 and parameters: {'topK': 8, 'shrink': 18.066841810184517, 'feature_weighting': 'none', 'normalize': True}. Best is trial 83 with value: 0.026459928496469106.\n"
     ]
    },
    {
     "name": "stdout",
     "output_type": "stream",
     "text": [
      "Similarity column 38121 (100.0%), 5302.60 column/sec. Elapsed time 7.19 sec\n",
      "EvaluatorHoldout: Processed 34728 (100.0%) in 8.45 sec. Users per second: 4108\n"
     ]
    },
    {
     "name": "stderr",
     "output_type": "stream",
     "text": [
      "[I 2024-12-14 14:42:13,467] Trial 106 finished with value: 0.026459928496469106 and parameters: {'topK': 5, 'shrink': 17.223399761629672, 'feature_weighting': 'none', 'normalize': True}. Best is trial 83 with value: 0.026459928496469106.\n"
     ]
    },
    {
     "name": "stdout",
     "output_type": "stream",
     "text": [
      "Similarity column 38121 (100.0%), 2289.06 column/sec. Elapsed time 16.65 sec\n",
      "EvaluatorHoldout: Processed 34728 (100.0%) in 8.16 sec. Users per second: 4255\n"
     ]
    },
    {
     "name": "stderr",
     "output_type": "stream",
     "text": [
      "[I 2024-12-14 14:42:38,417] Trial 107 finished with value: 0.025205129295056278 and parameters: {'topK': 2, 'shrink': 17.183319884673562, 'feature_weighting': 'TF-IDF', 'normalize': True}. Best is trial 83 with value: 0.026459928496469106.\n"
     ]
    },
    {
     "name": "stdout",
     "output_type": "stream",
     "text": [
      "Similarity column 38121 (100.0%), 5148.53 column/sec. Elapsed time 7.40 sec\n",
      "EvaluatorHoldout: Processed 34728 (100.0%) in 8.41 sec. Users per second: 4131\n"
     ]
    },
    {
     "name": "stderr",
     "output_type": "stream",
     "text": [
      "[I 2024-12-14 14:42:54,344] Trial 108 finished with value: 0.026432648464437797 and parameters: {'topK': 4, 'shrink': 16.491235571417462, 'feature_weighting': 'none', 'normalize': False}. Best is trial 83 with value: 0.026459928496469106.\n"
     ]
    },
    {
     "name": "stdout",
     "output_type": "stream",
     "text": [
      "Similarity column 38121 (100.0%), 5287.14 column/sec. Elapsed time 7.21 sec\n",
      "EvaluatorHoldout: Processed 34728 (100.0%) in 8.73 sec. Users per second: 3977\n"
     ]
    },
    {
     "name": "stderr",
     "output_type": "stream",
     "text": [
      "[I 2024-12-14 14:43:10,399] Trial 109 finished with value: 0.02600205040166973 and parameters: {'topK': 11, 'shrink': 19.186965390480587, 'feature_weighting': 'none', 'normalize': True}. Best is trial 83 with value: 0.026459928496469106.\n"
     ]
    },
    {
     "name": "stdout",
     "output_type": "stream",
     "text": [
      "Similarity column 38121 (100.0%), 5226.26 column/sec. Elapsed time 7.29 sec\n",
      "EvaluatorHoldout: Processed 34728 (100.0%) in 8.42 sec. Users per second: 4125\n"
     ]
    },
    {
     "name": "stderr",
     "output_type": "stream",
     "text": [
      "[I 2024-12-14 14:43:26,255] Trial 110 finished with value: 0.02367544783405151 and parameters: {'topK': 5, 'shrink': 11.69215683960131, 'feature_weighting': 'BM25', 'normalize': True}. Best is trial 83 with value: 0.026459928496469106.\n"
     ]
    },
    {
     "name": "stdout",
     "output_type": "stream",
     "text": [
      "Similarity column 38121 (100.0%), 5261.34 column/sec. Elapsed time 7.25 sec\n",
      "EvaluatorHoldout: Processed 34728 (100.0%) in 8.51 sec. Users per second: 4082\n"
     ]
    },
    {
     "name": "stderr",
     "output_type": "stream",
     "text": [
      "[I 2024-12-14 14:43:42,119] Trial 111 finished with value: 0.026383295533908304 and parameters: {'topK': 7, 'shrink': 15.33350311124527, 'feature_weighting': 'none', 'normalize': True}. Best is trial 83 with value: 0.026459928496469106.\n"
     ]
    },
    {
     "name": "stdout",
     "output_type": "stream",
     "text": [
      "Similarity column 38121 (100.0%), 1638.66 column/sec. Elapsed time 23.26 sec\n",
      "EvaluatorHoldout: Processed 34728 (100.0%) in 8.35 sec. Users per second: 4160\n"
     ]
    },
    {
     "name": "stderr",
     "output_type": "stream",
     "text": [
      "[I 2024-12-14 14:44:13,842] Trial 112 finished with value: 0.02592324979980423 and parameters: {'topK': 3, 'shrink': 13.919687409733065, 'feature_weighting': 'none', 'normalize': True}. Best is trial 83 with value: 0.026459928496469106.\n"
     ]
    },
    {
     "name": "stdout",
     "output_type": "stream",
     "text": [
      "Similarity column 38121 (100.0%), 5324.52 column/sec. Elapsed time 7.16 sec\n",
      "EvaluatorHoldout: Processed 34728 (100.0%) in 8.47 sec. Users per second: 4099\n"
     ]
    },
    {
     "name": "stderr",
     "output_type": "stream",
     "text": [
      "[I 2024-12-14 14:44:29,584] Trial 113 finished with value: 0.026429935772972493 and parameters: {'topK': 6, 'shrink': 14.541029089760547, 'feature_weighting': 'none', 'normalize': True}. Best is trial 83 with value: 0.026459928496469106.\n"
     ]
    },
    {
     "name": "stdout",
     "output_type": "stream",
     "text": [
      "Similarity column 38121 (100.0%), 5324.63 column/sec. Elapsed time 7.16 sec\n",
      "EvaluatorHoldout: Processed 34728 (100.0%) in 8.37 sec. Users per second: 4147\n"
     ]
    },
    {
     "name": "stderr",
     "output_type": "stream",
     "text": [
      "[I 2024-12-14 14:44:45,227] Trial 114 finished with value: 0.026444749308000278 and parameters: {'topK': 4, 'shrink': 15.87114591453237, 'feature_weighting': 'none', 'normalize': True}. Best is trial 83 with value: 0.026459928496469106.\n"
     ]
    },
    {
     "name": "stdout",
     "output_type": "stream",
     "text": [
      "Similarity column 38121 (100.0%), 5294.70 column/sec. Elapsed time 7.20 sec\n",
      "EvaluatorHoldout: Processed 34728 (100.0%) in 8.45 sec. Users per second: 4109\n"
     ]
    },
    {
     "name": "stderr",
     "output_type": "stream",
     "text": [
      "[I 2024-12-14 14:45:00,987] Trial 115 finished with value: 0.02643337520065176 and parameters: {'topK': 4, 'shrink': 17.946131554616823, 'feature_weighting': 'none', 'normalize': True}. Best is trial 83 with value: 0.026459928496469106.\n"
     ]
    },
    {
     "name": "stdout",
     "output_type": "stream",
     "text": [
      "Similarity column 38121 (100.0%), 2312.26 column/sec. Elapsed time 16.49 sec\n",
      "EvaluatorHoldout: Processed 34728 (100.0%) in 8.26 sec. Users per second: 4203\n"
     ]
    },
    {
     "name": "stderr",
     "output_type": "stream",
     "text": [
      "[I 2024-12-14 14:45:25,872] Trial 116 finished with value: 0.025250781127162825 and parameters: {'topK': 2, 'shrink': 15.809494706003692, 'feature_weighting': 'TF-IDF', 'normalize': True}. Best is trial 83 with value: 0.026459928496469106.\n"
     ]
    },
    {
     "name": "stdout",
     "output_type": "stream",
     "text": [
      "Similarity column 38121 (100.0%), 5332.41 column/sec. Elapsed time 7.15 sec\n",
      "EvaluatorHoldout: Processed 34728 (100.0%) in 8.41 sec. Users per second: 4128\n"
     ]
    },
    {
     "name": "stderr",
     "output_type": "stream",
     "text": [
      "[I 2024-12-14 14:45:41,544] Trial 117 finished with value: 0.02641995343403376 and parameters: {'topK': 5, 'shrink': 16.156694984508235, 'feature_weighting': 'none', 'normalize': True}. Best is trial 83 with value: 0.026459928496469106.\n"
     ]
    },
    {
     "name": "stdout",
     "output_type": "stream",
     "text": [
      "Similarity column 38121 (100.0%), 1638.75 column/sec. Elapsed time 23.26 sec\n",
      "EvaluatorHoldout: Processed 34728 (100.0%) in 8.28 sec. Users per second: 4193\n"
     ]
    },
    {
     "name": "stderr",
     "output_type": "stream",
     "text": [
      "[I 2024-12-14 14:46:13,198] Trial 118 finished with value: 0.025873466083814647 and parameters: {'topK': 3, 'shrink': 17.12895776399198, 'feature_weighting': 'none', 'normalize': True}. Best is trial 83 with value: 0.026459928496469106.\n"
     ]
    },
    {
     "name": "stdout",
     "output_type": "stream",
     "text": [
      "Similarity column 38121 (100.0%), 5295.77 column/sec. Elapsed time 7.20 sec\n",
      "EvaluatorHoldout: Processed 34728 (100.0%) in 8.63 sec. Users per second: 4025\n"
     ]
    },
    {
     "name": "stderr",
     "output_type": "stream",
     "text": [
      "[I 2024-12-14 14:46:29,153] Trial 119 finished with value: 0.026104575055852945 and parameters: {'topK': 9, 'shrink': 13.291263688121777, 'feature_weighting': 'TF-IDF', 'normalize': True}. Best is trial 83 with value: 0.026459928496469106.\n"
     ]
    },
    {
     "name": "stdout",
     "output_type": "stream",
     "text": [
      "Similarity column 38121 (100.0%), 5329.56 column/sec. Elapsed time 7.15 sec\n",
      "EvaluatorHoldout: Processed 34728 (100.0%) in 8.61 sec. Users per second: 4035\n"
     ]
    },
    {
     "name": "stderr",
     "output_type": "stream",
     "text": [
      "[I 2024-12-14 14:46:45,022] Trial 120 finished with value: 0.026415396478025495 and parameters: {'topK': 7, 'shrink': 12.493478233177997, 'feature_weighting': 'none', 'normalize': True}. Best is trial 83 with value: 0.026459928496469106.\n"
     ]
    },
    {
     "name": "stdout",
     "output_type": "stream",
     "text": [
      "Similarity column 38121 (100.0%), 5225.53 column/sec. Elapsed time 7.30 sec\n",
      "EvaluatorHoldout: Processed 34728 (100.0%) in 8.59 sec. Users per second: 4045\n"
     ]
    },
    {
     "name": "stderr",
     "output_type": "stream",
     "text": [
      "[I 2024-12-14 14:47:01,035] Trial 121 finished with value: 0.026429935772972493 and parameters: {'topK': 6, 'shrink': 14.80534249877084, 'feature_weighting': 'none', 'normalize': True}. Best is trial 83 with value: 0.026459928496469106.\n"
     ]
    },
    {
     "name": "stdout",
     "output_type": "stream",
     "text": [
      "Similarity column 38121 (100.0%), 5297.26 column/sec. Elapsed time 7.20 sec\n",
      "EvaluatorHoldout: Processed 34728 (100.0%) in 8.84 sec. Users per second: 3929\n"
     ]
    },
    {
     "name": "stderr",
     "output_type": "stream",
     "text": [
      "[I 2024-12-14 14:47:17,180] Trial 122 finished with value: 0.026412761487916474 and parameters: {'topK': 5, 'shrink': 15.280825398870372, 'feature_weighting': 'none', 'normalize': True}. Best is trial 83 with value: 0.026459928496469106.\n"
     ]
    },
    {
     "name": "stdout",
     "output_type": "stream",
     "text": [
      "Similarity column 38121 (100.0%), 5133.14 column/sec. Elapsed time 7.43 sec\n",
      "EvaluatorHoldout: Processed 34728 (100.0%) in 8.71 sec. Users per second: 3988\n"
     ]
    },
    {
     "name": "stderr",
     "output_type": "stream",
     "text": [
      "[I 2024-12-14 14:47:33,425] Trial 123 finished with value: 0.026440659702796278 and parameters: {'topK': 4, 'shrink': 14.136490882150449, 'feature_weighting': 'none', 'normalize': True}. Best is trial 83 with value: 0.026459928496469106.\n"
     ]
    },
    {
     "name": "stdout",
     "output_type": "stream",
     "text": [
      "Similarity column 38121 (100.0%), 5189.18 column/sec. Elapsed time 7.35 sec\n",
      "EvaluatorHoldout: Processed 34728 (100.0%) in 8.78 sec. Users per second: 3955\n"
     ]
    },
    {
     "name": "stderr",
     "output_type": "stream",
     "text": [
      "[I 2024-12-14 14:47:49,663] Trial 124 finished with value: 0.026440659702796278 and parameters: {'topK': 4, 'shrink': 14.074515854313681, 'feature_weighting': 'none', 'normalize': True}. Best is trial 83 with value: 0.026459928496469106.\n"
     ]
    },
    {
     "name": "stdout",
     "output_type": "stream",
     "text": [
      "Similarity column 38121 (100.0%), 5115.03 column/sec. Elapsed time 7.45 sec\n",
      "EvaluatorHoldout: Processed 34728 (100.0%) in 8.71 sec. Users per second: 3985\n"
     ]
    },
    {
     "name": "stderr",
     "output_type": "stream",
     "text": [
      "[I 2024-12-14 14:48:05,946] Trial 125 finished with value: 0.026440659702796278 and parameters: {'topK': 4, 'shrink': 14.41449983182339, 'feature_weighting': 'none', 'normalize': True}. Best is trial 83 with value: 0.026459928496469106.\n"
     ]
    },
    {
     "name": "stdout",
     "output_type": "stream",
     "text": [
      "Similarity column 38121 (100.0%), 5034.83 column/sec. Elapsed time 7.57 sec\n",
      "EvaluatorHoldout: Processed 34728 (100.0%) in 8.86 sec. Users per second: 3921\n"
     ]
    },
    {
     "name": "stderr",
     "output_type": "stream",
     "text": [
      "[I 2024-12-14 14:48:22,491] Trial 126 finished with value: 0.026412230147759987 and parameters: {'topK': 4, 'shrink': 13.943830444263709, 'feature_weighting': 'none', 'normalize': True}. Best is trial 83 with value: 0.026459928496469106.\n"
     ]
    },
    {
     "name": "stdout",
     "output_type": "stream",
     "text": [
      "Similarity column 38121 (100.0%), 2289.53 column/sec. Elapsed time 16.65 sec\n",
      "EvaluatorHoldout: Processed 34728 (100.0%) in 8.65 sec. Users per second: 4013\n"
     ]
    },
    {
     "name": "stderr",
     "output_type": "stream",
     "text": [
      "[I 2024-12-14 14:48:47,910] Trial 127 finished with value: 0.025216941043866972 and parameters: {'topK': 2, 'shrink': 14.318191950062165, 'feature_weighting': 'none', 'normalize': True}. Best is trial 83 with value: 0.026459928496469106.\n"
     ]
    },
    {
     "name": "stdout",
     "output_type": "stream",
     "text": [
      "Similarity column 38121 (100.0%), 1620.45 column/sec. Elapsed time 23.53 sec\n",
      "EvaluatorHoldout: Processed 34728 (100.0%) in 8.65 sec. Users per second: 4015\n"
     ]
    },
    {
     "name": "stderr",
     "output_type": "stream",
     "text": [
      "[I 2024-12-14 14:49:20,196] Trial 128 finished with value: 0.025909399533060106 and parameters: {'topK': 3, 'shrink': 16.584161220404376, 'feature_weighting': 'none', 'normalize': True}. Best is trial 83 with value: 0.026459928496469106.\n"
     ]
    },
    {
     "name": "stdout",
     "output_type": "stream",
     "text": [
      "Similarity column 38121 (100.0%), 5104.81 column/sec. Elapsed time 7.47 sec\n",
      "EvaluatorHoldout: Processed 34728 (100.0%) in 8.67 sec. Users per second: 4005\n"
     ]
    },
    {
     "name": "stderr",
     "output_type": "stream",
     "text": [
      "[I 2024-12-14 14:49:36,448] Trial 129 finished with value: 0.026412230147759987 and parameters: {'topK': 4, 'shrink': 13.507018519940367, 'feature_weighting': 'none', 'normalize': False}. Best is trial 83 with value: 0.026459928496469106.\n"
     ]
    },
    {
     "name": "stdout",
     "output_type": "stream",
     "text": [
      "Similarity column 38121 (100.0%), 5115.30 column/sec. Elapsed time 7.45 sec\n",
      "EvaluatorHoldout: Processed 34728 (100.0%) in 8.88 sec. Users per second: 3911\n"
     ]
    },
    {
     "name": "stderr",
     "output_type": "stream",
     "text": [
      "[I 2024-12-14 14:49:52,892] Trial 130 finished with value: 0.02624374846882553 and parameters: {'topK': 8, 'shrink': 15.727979187904829, 'feature_weighting': 'none', 'normalize': True}. Best is trial 83 with value: 0.026459928496469106.\n"
     ]
    },
    {
     "name": "stdout",
     "output_type": "stream",
     "text": [
      "Similarity column 38121 (100.0%), 5126.35 column/sec. Elapsed time 7.44 sec\n",
      "EvaluatorHoldout: Processed 34728 (100.0%) in 8.77 sec. Users per second: 3962\n"
     ]
    },
    {
     "name": "stderr",
     "output_type": "stream",
     "text": [
      "[I 2024-12-14 14:50:09,208] Trial 131 finished with value: 0.0263616191408602 and parameters: {'topK': 5, 'shrink': 14.669481722339697, 'feature_weighting': 'none', 'normalize': True}. Best is trial 83 with value: 0.026459928496469106.\n"
     ]
    },
    {
     "name": "stdout",
     "output_type": "stream",
     "text": [
      "Similarity column 38121 (100.0%), 1617.13 column/sec. Elapsed time 23.57 sec\n",
      "EvaluatorHoldout: Processed 34728 (100.0%) in 8.63 sec. Users per second: 4023\n"
     ]
    },
    {
     "name": "stderr",
     "output_type": "stream",
     "text": [
      "[I 2024-12-14 14:50:41,525] Trial 132 finished with value: 0.025923965109348142 and parameters: {'topK': 3, 'shrink': 14.998081161259567, 'feature_weighting': 'none', 'normalize': True}. Best is trial 83 with value: 0.026459928496469106.\n"
     ]
    },
    {
     "name": "stdout",
     "output_type": "stream",
     "text": [
      "Similarity column 38121 (100.0%), 5097.25 column/sec. Elapsed time 7.48 sec\n",
      "EvaluatorHoldout: Processed 34728 (100.0%) in 9.36 sec. Users per second: 3708\n"
     ]
    },
    {
     "name": "stderr",
     "output_type": "stream",
     "text": [
      "[I 2024-12-14 14:50:58,488] Trial 133 finished with value: 0.02546175402127322 and parameters: {'topK': 21, 'shrink': 14.280053983262055, 'feature_weighting': 'none', 'normalize': True}. Best is trial 83 with value: 0.026459928496469106.\n"
     ]
    },
    {
     "name": "stdout",
     "output_type": "stream",
     "text": [
      "Similarity column 38121 (100.0%), 5030.20 column/sec. Elapsed time 7.58 sec\n",
      "EvaluatorHoldout: Processed 34728 (100.0%) in 9.15 sec. Users per second: 3797\n"
     ]
    },
    {
     "name": "stderr",
     "output_type": "stream",
     "text": [
      "[I 2024-12-14 14:51:15,328] Trial 134 finished with value: 0.026428326897832182 and parameters: {'topK': 6, 'shrink': 13.48445815470275, 'feature_weighting': 'none', 'normalize': True}. Best is trial 83 with value: 0.026459928496469106.\n"
     ]
    },
    {
     "name": "stdout",
     "output_type": "stream",
     "text": [
      "Similarity column 38121 (100.0%), 5046.69 column/sec. Elapsed time 7.55 sec\n",
      "EvaluatorHoldout: Processed 34728 (100.0%) in 8.83 sec. Users per second: 3932\n"
     ]
    },
    {
     "name": "stderr",
     "output_type": "stream",
     "text": [
      "[I 2024-12-14 14:51:31,832] Trial 135 finished with value: 0.026400636648346854 and parameters: {'topK': 4, 'shrink': 12.890240374028782, 'feature_weighting': 'none', 'normalize': True}. Best is trial 83 with value: 0.026459928496469106.\n"
     ]
    },
    {
     "name": "stdout",
     "output_type": "stream",
     "text": [
      "Similarity column 38121 (100.0%), 5132.68 column/sec. Elapsed time 7.43 sec\n",
      "EvaluatorHoldout: Processed 34728 (100.0%) in 9.43 sec. Users per second: 3684\n"
     ]
    },
    {
     "name": "stderr",
     "output_type": "stream",
     "text": [
      "[I 2024-12-14 14:51:48,812] Trial 136 finished with value: 0.025419317654113316 and parameters: {'topK': 31, 'shrink': 17.527238204933173, 'feature_weighting': 'none', 'normalize': True}. Best is trial 83 with value: 0.026459928496469106.\n"
     ]
    },
    {
     "name": "stdout",
     "output_type": "stream",
     "text": [
      "Similarity column 38121 (100.0%), 2304.72 column/sec. Elapsed time 16.54 sec\n",
      "EvaluatorHoldout: Processed 34728 (100.0%) in 8.40 sec. Users per second: 4133\n"
     ]
    },
    {
     "name": "stderr",
     "output_type": "stream",
     "text": [
      "[I 2024-12-14 14:52:13,872] Trial 137 finished with value: 0.025214823681910283 and parameters: {'topK': 2, 'shrink': 16.154406097996155, 'feature_weighting': 'none', 'normalize': True}. Best is trial 83 with value: 0.026459928496469106.\n"
     ]
    },
    {
     "name": "stdout",
     "output_type": "stream",
     "text": [
      "Similarity column 38121 (100.0%), 5187.28 column/sec. Elapsed time 7.35 sec\n",
      "EvaluatorHoldout: Processed 34728 (100.0%) in 8.83 sec. Users per second: 3934\n"
     ]
    },
    {
     "name": "stderr",
     "output_type": "stream",
     "text": [
      "[I 2024-12-14 14:52:30,165] Trial 138 finished with value: 0.026379351047413804 and parameters: {'topK': 5, 'shrink': 13.978240610816018, 'feature_weighting': 'none', 'normalize': True}. Best is trial 83 with value: 0.026459928496469106.\n"
     ]
    },
    {
     "name": "stdout",
     "output_type": "stream",
     "text": [
      "Similarity column 38121 (100.0%), 4961.92 column/sec. Elapsed time 7.68 sec\n",
      "EvaluatorHoldout: Processed 34728 (100.0%) in 8.86 sec. Users per second: 3918\n"
     ]
    },
    {
     "name": "stderr",
     "output_type": "stream",
     "text": [
      "[I 2024-12-14 14:52:46,834] Trial 139 finished with value: 0.026444749308000278 and parameters: {'topK': 4, 'shrink': 15.3153391617593, 'feature_weighting': 'none', 'normalize': True}. Best is trial 83 with value: 0.026459928496469106.\n"
     ]
    },
    {
     "name": "stdout",
     "output_type": "stream",
     "text": [
      "Similarity column 38121 (100.0%), 5088.15 column/sec. Elapsed time 7.49 sec\n",
      "EvaluatorHoldout: Processed 34728 (100.0%) in 9.09 sec. Users per second: 3820\n"
     ]
    },
    {
     "name": "stderr",
     "output_type": "stream",
     "text": [
      "[I 2024-12-14 14:53:03,540] Trial 140 finished with value: 0.026383295533908304 and parameters: {'topK': 7, 'shrink': 15.06606690164879, 'feature_weighting': 'none', 'normalize': True}. Best is trial 83 with value: 0.026459928496469106.\n"
     ]
    },
    {
     "name": "stdout",
     "output_type": "stream",
     "text": [
      "Similarity column 38121 (100.0%), 1600.51 column/sec. Elapsed time 23.82 sec\n",
      "EvaluatorHoldout: Processed 34728 (100.0%) in 8.83 sec. Users per second: 3934\n"
     ]
    },
    {
     "name": "stderr",
     "output_type": "stream",
     "text": [
      "[I 2024-12-14 14:53:36,302] Trial 141 finished with value: 0.025923965109348142 and parameters: {'topK': 3, 'shrink': 14.590775733182582, 'feature_weighting': 'none', 'normalize': True}. Best is trial 83 with value: 0.026459928496469106.\n"
     ]
    },
    {
     "name": "stdout",
     "output_type": "stream",
     "text": [
      "Similarity column 38121 (100.0%), 5163.35 column/sec. Elapsed time 7.38 sec\n",
      "EvaluatorHoldout: Processed 34728 (100.0%) in 8.57 sec. Users per second: 4051\n"
     ]
    },
    {
     "name": "stderr",
     "output_type": "stream",
     "text": [
      "[I 2024-12-14 14:53:52,376] Trial 142 finished with value: 0.026436638657612473 and parameters: {'topK': 6, 'shrink': 15.60947124560442, 'feature_weighting': 'none', 'normalize': True}. Best is trial 83 with value: 0.026459928496469106.\n"
     ]
    },
    {
     "name": "stdout",
     "output_type": "stream",
     "text": [
      "Similarity column 38121 (100.0%), 5205.78 column/sec. Elapsed time 7.32 sec\n",
      "EvaluatorHoldout: Processed 34728 (100.0%) in 8.72 sec. Users per second: 3982\n"
     ]
    },
    {
     "name": "stderr",
     "output_type": "stream",
     "text": [
      "[I 2024-12-14 14:54:08,528] Trial 143 finished with value: 0.026432648464437797 and parameters: {'topK': 4, 'shrink': 16.70091961271926, 'feature_weighting': 'none', 'normalize': True}. Best is trial 83 with value: 0.026459928496469106.\n"
     ]
    },
    {
     "name": "stdout",
     "output_type": "stream",
     "text": [
      "Similarity column 38121 (100.0%), 5120.66 column/sec. Elapsed time 7.44 sec\n",
      "EvaluatorHoldout: Processed 34728 (100.0%) in 8.80 sec. Users per second: 3944\n"
     ]
    },
    {
     "name": "stderr",
     "output_type": "stream",
     "text": [
      "[I 2024-12-14 14:54:24,926] Trial 144 finished with value: 0.023897034961953424 and parameters: {'topK': 5, 'shrink': 13.75149577964336, 'feature_weighting': 'BM25', 'normalize': True}. Best is trial 83 with value: 0.026459928496469106.\n"
     ]
    },
    {
     "name": "stdout",
     "output_type": "stream",
     "text": [
      "Similarity column 38121 (100.0%), 1634.04 column/sec. Elapsed time 23.33 sec\n",
      "EvaluatorHoldout: Processed 34728 (100.0%) in 8.59 sec. Users per second: 4042\n"
     ]
    },
    {
     "name": "stderr",
     "output_type": "stream",
     "text": [
      "[I 2024-12-14 14:54:56,976] Trial 145 finished with value: 0.02592324979980423 and parameters: {'topK': 3, 'shrink': 13.24113926918426, 'feature_weighting': 'none', 'normalize': True}. Best is trial 83 with value: 0.026459928496469106.\n"
     ]
    },
    {
     "name": "stdout",
     "output_type": "stream",
     "text": [
      "Similarity column 38121 (100.0%), 5172.15 column/sec. Elapsed time 7.37 sec\n",
      "EvaluatorHoldout: Processed 34728 (100.0%) in 8.67 sec. Users per second: 4004\n"
     ]
    },
    {
     "name": "stderr",
     "output_type": "stream",
     "text": [
      "[I 2024-12-14 14:55:13,138] Trial 146 finished with value: 0.026383295533908304 and parameters: {'topK': 7, 'shrink': 15.126613689857129, 'feature_weighting': 'none', 'normalize': True}. Best is trial 83 with value: 0.026459928496469106.\n"
     ]
    },
    {
     "name": "stdout",
     "output_type": "stream",
     "text": [
      "Similarity column 38121 (100.0%), 2226.58 column/sec. Elapsed time 17.12 sec\n",
      "EvaluatorHoldout: Processed 34728 (100.0%) in 8.77 sec. Users per second: 3960\n"
     ]
    },
    {
     "name": "stderr",
     "output_type": "stream",
     "text": [
      "[I 2024-12-14 14:55:39,141] Trial 147 finished with value: 0.025214823681910283 and parameters: {'topK': 2, 'shrink': 16.14005594514027, 'feature_weighting': 'none', 'normalize': True}. Best is trial 83 with value: 0.026459928496469106.\n"
     ]
    },
    {
     "name": "stdout",
     "output_type": "stream",
     "text": [
      "Similarity column 38121 (100.0%), 4959.84 column/sec. Elapsed time 7.69 sec\n",
      "EvaluatorHoldout: Processed 34728 (100.0%) in 9.12 sec. Users per second: 3810\n"
     ]
    },
    {
     "name": "stderr",
     "output_type": "stream",
     "text": [
      "[I 2024-12-14 14:55:56,060] Trial 148 finished with value: 0.0263616191408602 and parameters: {'topK': 5, 'shrink': 14.564595013691832, 'feature_weighting': 'none', 'normalize': True}. Best is trial 83 with value: 0.026459928496469106.\n"
     ]
    },
    {
     "name": "stdout",
     "output_type": "stream",
     "text": [
      "Similarity column 38121 (100.0%), 4931.79 column/sec. Elapsed time 7.73 sec\n",
      "EvaluatorHoldout: Processed 34728 (100.0%) in 10.45 sec. Users per second: 3325\n"
     ]
    },
    {
     "name": "stderr",
     "output_type": "stream",
     "text": [
      "[I 2024-12-14 14:56:14,371] Trial 149 finished with value: 0.02515004588950628 and parameters: {'topK': 44, 'shrink': 12.71263035187401, 'feature_weighting': 'none', 'normalize': True}. Best is trial 83 with value: 0.026459928496469106.\n"
     ]
    },
    {
     "name": "stdout",
     "output_type": "stream",
     "text": [
      "Similarity column 38121 (100.0%), 4933.68 column/sec. Elapsed time 7.73 sec\n",
      "EvaluatorHoldout: Processed 34728 (100.0%) in 9.14 sec. Users per second: 3798\n"
     ]
    },
    {
     "name": "stderr",
     "output_type": "stream",
     "text": [
      "[I 2024-12-14 14:56:31,360] Trial 150 finished with value: 0.0262301872968332 and parameters: {'topK': 8, 'shrink': 18.275599913904138, 'feature_weighting': 'none', 'normalize': False}. Best is trial 83 with value: 0.026459928496469106.\n"
     ]
    },
    {
     "name": "stdout",
     "output_type": "stream",
     "text": [
      "Similarity column 38121 (100.0%), 5018.11 column/sec. Elapsed time 7.60 sec\n",
      "EvaluatorHoldout: Processed 34728 (100.0%) in 9.13 sec. Users per second: 3803\n"
     ]
    },
    {
     "name": "stderr",
     "output_type": "stream",
     "text": [
      "[I 2024-12-14 14:56:48,224] Trial 151 finished with value: 0.02640163648197454 and parameters: {'topK': 4, 'shrink': 12.396695172282342, 'feature_weighting': 'TF-IDF', 'normalize': True}. Best is trial 83 with value: 0.026459928496469106.\n"
     ]
    },
    {
     "name": "stdout",
     "output_type": "stream",
     "text": [
      "Similarity column 38121 (100.0%), 4897.59 column/sec. Elapsed time 7.78 sec\n",
      "EvaluatorHoldout: Processed 34728 (100.0%) in 9.26 sec. Users per second: 3752\n"
     ]
    },
    {
     "name": "stderr",
     "output_type": "stream",
     "text": [
      "[I 2024-12-14 14:57:05,412] Trial 152 finished with value: 0.026430223725057267 and parameters: {'topK': 6, 'shrink': 14.334581801216688, 'feature_weighting': 'TF-IDF', 'normalize': True}. Best is trial 83 with value: 0.026459928496469106.\n"
     ]
    },
    {
     "name": "stdout",
     "output_type": "stream",
     "text": [
      "Similarity column 38121 (100.0%), 4930.50 column/sec. Elapsed time 7.73 sec\n",
      "EvaluatorHoldout: Processed 34728 (100.0%) in 9.23 sec. Users per second: 3762\n"
     ]
    },
    {
     "name": "stderr",
     "output_type": "stream",
     "text": [
      "[I 2024-12-14 14:57:22,519] Trial 153 finished with value: 0.026444749308000278 and parameters: {'topK': 4, 'shrink': 15.637195277634348, 'feature_weighting': 'TF-IDF', 'normalize': True}. Best is trial 83 with value: 0.026459928496469106.\n"
     ]
    },
    {
     "name": "stdout",
     "output_type": "stream",
     "text": [
      "Similarity column 38121 (100.0%), 2179.69 column/sec. Elapsed time 17.49 sec\n",
      "EvaluatorHoldout: Processed 34728 (100.0%) in 8.93 sec. Users per second: 3887\n"
     ]
    },
    {
     "name": "stderr",
     "output_type": "stream",
     "text": [
      "[I 2024-12-14 14:57:49,085] Trial 154 finished with value: 0.025250781127162825 and parameters: {'topK': 2, 'shrink': 15.767773679307899, 'feature_weighting': 'TF-IDF', 'normalize': True}. Best is trial 83 with value: 0.026459928496469106.\n"
     ]
    },
    {
     "name": "stdout",
     "output_type": "stream",
     "text": [
      "Similarity column 38121 (100.0%), 4929.87 column/sec. Elapsed time 7.73 sec\n",
      "EvaluatorHoldout: Processed 34728 (100.0%) in 9.03 sec. Users per second: 3847\n"
     ]
    },
    {
     "name": "stderr",
     "output_type": "stream",
     "text": [
      "[I 2024-12-14 14:58:05,965] Trial 155 finished with value: 0.02643337520065176 and parameters: {'topK': 4, 'shrink': 17.14252978390556, 'feature_weighting': 'none', 'normalize': True}. Best is trial 83 with value: 0.026459928496469106.\n"
     ]
    },
    {
     "name": "stdout",
     "output_type": "stream",
     "text": [
      "Similarity column 38121 (100.0%), 1558.27 column/sec. Elapsed time 24.46 sec\n",
      "EvaluatorHoldout: Processed 34728 (100.0%) in 8.92 sec. Users per second: 3895\n"
     ]
    },
    {
     "name": "stderr",
     "output_type": "stream",
     "text": [
      "[I 2024-12-14 14:58:39,491] Trial 156 finished with value: 0.025697851877447105 and parameters: {'topK': 3, 'shrink': 4.368000716914663, 'feature_weighting': 'TF-IDF', 'normalize': True}. Best is trial 83 with value: 0.026459928496469106.\n"
     ]
    },
    {
     "name": "stdout",
     "output_type": "stream",
     "text": [
      "Similarity column 38121 (100.0%), 5071.13 column/sec. Elapsed time 7.52 sec\n",
      "EvaluatorHoldout: Processed 34728 (100.0%) in 9.23 sec. Users per second: 3761\n"
     ]
    },
    {
     "name": "stderr",
     "output_type": "stream",
     "text": [
      "[I 2024-12-14 14:58:56,374] Trial 157 finished with value: 0.026412761487916474 and parameters: {'topK': 5, 'shrink': 15.385517030815704, 'feature_weighting': 'none', 'normalize': True}. Best is trial 83 with value: 0.026459928496469106.\n"
     ]
    },
    {
     "name": "stdout",
     "output_type": "stream",
     "text": [
      "Similarity column 38121 (100.0%), 4890.65 column/sec. Elapsed time 7.79 sec\n",
      "EvaluatorHoldout: Processed 34728 (100.0%) in 8.69 sec. Users per second: 3995\n"
     ]
    },
    {
     "name": "stderr",
     "output_type": "stream",
     "text": [
      "[I 2024-12-14 14:59:12,988] Trial 158 finished with value: 0.026429935772972493 and parameters: {'topK': 6, 'shrink': 14.920923397606643, 'feature_weighting': 'none', 'normalize': True}. Best is trial 83 with value: 0.026459928496469106.\n"
     ]
    },
    {
     "name": "stdout",
     "output_type": "stream",
     "text": [
      "Similarity column 38121 (100.0%), 5159.87 column/sec. Elapsed time 7.39 sec\n",
      "EvaluatorHoldout: Processed 34728 (100.0%) in 8.83 sec. Users per second: 3934\n"
     ]
    },
    {
     "name": "stderr",
     "output_type": "stream",
     "text": [
      "[I 2024-12-14 14:59:29,327] Trial 159 finished with value: 0.026412230147759987 and parameters: {'topK': 4, 'shrink': 13.947065967296766, 'feature_weighting': 'none', 'normalize': True}. Best is trial 83 with value: 0.026459928496469106.\n"
     ]
    },
    {
     "name": "stdout",
     "output_type": "stream",
     "text": [
      "Similarity column 38121 (100.0%), 5049.45 column/sec. Elapsed time 7.55 sec\n",
      "EvaluatorHoldout: Processed 34728 (100.0%) in 9.15 sec. Users per second: 3796\n"
     ]
    },
    {
     "name": "stderr",
     "output_type": "stream",
     "text": [
      "[I 2024-12-14 14:59:46,178] Trial 160 finished with value: 0.02637361143105729 and parameters: {'topK': 7, 'shrink': 13.411989844697677, 'feature_weighting': 'TF-IDF', 'normalize': True}. Best is trial 83 with value: 0.026459928496469106.\n"
     ]
    },
    {
     "name": "stdout",
     "output_type": "stream",
     "text": [
      "Similarity column 38121 (100.0%), 5075.06 column/sec. Elapsed time 7.51 sec\n",
      "EvaluatorHoldout: Processed 34728 (100.0%) in 8.69 sec. Users per second: 3997\n"
     ]
    },
    {
     "name": "stderr",
     "output_type": "stream",
     "text": [
      "[I 2024-12-14 15:00:02,538] Trial 161 finished with value: 0.02633916116358179 and parameters: {'topK': 5, 'shrink': 11.820610489501812, 'feature_weighting': 'TF-IDF', 'normalize': True}. Best is trial 83 with value: 0.026459928496469106.\n"
     ]
    },
    {
     "name": "stdout",
     "output_type": "stream",
     "text": [
      "Similarity column 38121 (100.0%), 1607.19 column/sec. Elapsed time 23.72 sec\n",
      "EvaluatorHoldout: Processed 34728 (100.0%) in 8.97 sec. Users per second: 3872\n"
     ]
    },
    {
     "name": "stderr",
     "output_type": "stream",
     "text": [
      "[I 2024-12-14 15:00:35,370] Trial 162 finished with value: 0.02590915957298946 and parameters: {'topK': 3, 'shrink': 16.358676694801193, 'feature_weighting': 'TF-IDF', 'normalize': True}. Best is trial 83 with value: 0.026459928496469106.\n"
     ]
    },
    {
     "name": "stdout",
     "output_type": "stream",
     "text": [
      "Similarity column 38121 (100.0%), 4957.85 column/sec. Elapsed time 7.69 sec\n",
      "EvaluatorHoldout: Processed 34728 (100.0%) in 9.15 sec. Users per second: 3794\n"
     ]
    },
    {
     "name": "stderr",
     "output_type": "stream",
     "text": [
      "[I 2024-12-14 15:00:52,364] Trial 163 finished with value: 0.02644161954307886 and parameters: {'topK': 4, 'shrink': 14.268427763982022, 'feature_weighting': 'TF-IDF', 'normalize': True}. Best is trial 83 with value: 0.026459928496469106.\n"
     ]
    },
    {
     "name": "stdout",
     "output_type": "stream",
     "text": [
      "Similarity column 38121 (100.0%), 2217.66 column/sec. Elapsed time 17.19 sec\n",
      "EvaluatorHoldout: Processed 34728 (100.0%) in 8.42 sec. Users per second: 4124\n"
     ]
    },
    {
     "name": "stderr",
     "output_type": "stream",
     "text": [
      "[I 2024-12-14 15:01:18,129] Trial 164 finished with value: 0.025216941043866972 and parameters: {'topK': 2, 'shrink': 14.103652408191454, 'feature_weighting': 'TF-IDF', 'normalize': True}. Best is trial 83 with value: 0.026459928496469106.\n"
     ]
    },
    {
     "name": "stdout",
     "output_type": "stream",
     "text": [
      "Similarity column 38121 (100.0%), 5145.06 column/sec. Elapsed time 7.41 sec\n",
      "EvaluatorHoldout: Processed 34728 (100.0%) in 8.43 sec. Users per second: 4121\n"
     ]
    },
    {
     "name": "stderr",
     "output_type": "stream",
     "text": [
      "[I 2024-12-14 15:01:34,107] Trial 165 finished with value: 0.02644161954307886 and parameters: {'topK': 4, 'shrink': 14.828412906691725, 'feature_weighting': 'TF-IDF', 'normalize': True}. Best is trial 83 with value: 0.026459928496469106.\n"
     ]
    },
    {
     "name": "stdout",
     "output_type": "stream",
     "text": [
      "Similarity column 38121 (100.0%), 5182.60 column/sec. Elapsed time 7.36 sec\n",
      "EvaluatorHoldout: Processed 34728 (100.0%) in 8.49 sec. Users per second: 4089\n"
     ]
    },
    {
     "name": "stderr",
     "output_type": "stream",
     "text": [
      "[I 2024-12-14 15:01:50,095] Trial 166 finished with value: 0.02644161954307886 and parameters: {'topK': 4, 'shrink': 14.819260025961984, 'feature_weighting': 'TF-IDF', 'normalize': True}. Best is trial 83 with value: 0.026459928496469106.\n"
     ]
    },
    {
     "name": "stdout",
     "output_type": "stream",
     "text": [
      "Similarity column 38121 (100.0%), 1645.37 column/sec. Elapsed time 23.17 sec\n",
      "EvaluatorHoldout: Processed 34728 (100.0%) in 8.36 sec. Users per second: 4152\n"
     ]
    },
    {
     "name": "stderr",
     "output_type": "stream",
     "text": [
      "[I 2024-12-14 15:02:21,760] Trial 167 finished with value: 0.025920484545656826 and parameters: {'topK': 3, 'shrink': 15.469628298655408, 'feature_weighting': 'TF-IDF', 'normalize': True}. Best is trial 83 with value: 0.026459928496469106.\n"
     ]
    },
    {
     "name": "stdout",
     "output_type": "stream",
     "text": [
      "Similarity column 38121 (100.0%), 5163.21 column/sec. Elapsed time 7.38 sec\n",
      "EvaluatorHoldout: Processed 34728 (100.0%) in 8.43 sec. Users per second: 4119\n"
     ]
    },
    {
     "name": "stderr",
     "output_type": "stream",
     "text": [
      "[I 2024-12-14 15:02:37,705] Trial 168 finished with value: 0.026412761487916474 and parameters: {'topK': 5, 'shrink': 15.03714974990825, 'feature_weighting': 'TF-IDF', 'normalize': True}. Best is trial 83 with value: 0.026459928496469106.\n"
     ]
    },
    {
     "name": "stdout",
     "output_type": "stream",
     "text": [
      "Similarity column 38121 (100.0%), 5169.68 column/sec. Elapsed time 7.37 sec\n",
      "EvaluatorHoldout: Processed 34728 (100.0%) in 8.52 sec. Users per second: 4074\n"
     ]
    },
    {
     "name": "stderr",
     "output_type": "stream",
     "text": [
      "[I 2024-12-14 15:02:53,738] Trial 169 finished with value: 0.026436638657612473 and parameters: {'topK': 6, 'shrink': 15.988129951785162, 'feature_weighting': 'TF-IDF', 'normalize': True}. Best is trial 83 with value: 0.026459928496469106.\n"
     ]
    },
    {
     "name": "stdout",
     "output_type": "stream",
     "text": [
      "Similarity column 38121 (100.0%), 5158.00 column/sec. Elapsed time 7.39 sec\n",
      "EvaluatorHoldout: Processed 34728 (100.0%) in 8.50 sec. Users per second: 4087\n"
     ]
    },
    {
     "name": "stderr",
     "output_type": "stream",
     "text": [
      "[I 2024-12-14 15:03:09,759] Trial 170 finished with value: 0.026432464495050302 and parameters: {'topK': 4, 'shrink': 16.85117945988578, 'feature_weighting': 'TF-IDF', 'normalize': True}. Best is trial 83 with value: 0.026459928496469106.\n"
     ]
    },
    {
     "name": "stdout",
     "output_type": "stream",
     "text": [
      "Similarity column 38121 (100.0%), 5115.78 column/sec. Elapsed time 7.45 sec\n",
      "EvaluatorHoldout: Processed 34728 (100.0%) in 8.86 sec. Users per second: 3921\n"
     ]
    },
    {
     "name": "stderr",
     "output_type": "stream",
     "text": [
      "[I 2024-12-14 15:03:26,200] Trial 171 finished with value: 0.02644161954307886 and parameters: {'topK': 4, 'shrink': 14.464366493731792, 'feature_weighting': 'TF-IDF', 'normalize': True}. Best is trial 83 with value: 0.026459928496469106.\n"
     ]
    },
    {
     "name": "stdout",
     "output_type": "stream",
     "text": [
      "Similarity column 38121 (100.0%), 1594.70 column/sec. Elapsed time 23.90 sec\n",
      "EvaluatorHoldout: Processed 34728 (100.0%) in 8.79 sec. Users per second: 3952\n"
     ]
    },
    {
     "name": "stderr",
     "output_type": "stream",
     "text": [
      "[I 2024-12-14 15:03:59,034] Trial 172 finished with value: 0.025923965109348142 and parameters: {'topK': 3, 'shrink': 14.70612940949753, 'feature_weighting': 'TF-IDF', 'normalize': True}. Best is trial 83 with value: 0.026459928496469106.\n"
     ]
    },
    {
     "name": "stdout",
     "output_type": "stream",
     "text": [
      "Similarity column 38121 (100.0%), 2230.34 column/sec. Elapsed time 17.09 sec\n",
      "EvaluatorHoldout: Processed 34728 (100.0%) in 8.83 sec. Users per second: 3934\n"
     ]
    },
    {
     "name": "stderr",
     "output_type": "stream",
     "text": [
      "[I 2024-12-14 15:04:25,096] Trial 173 finished with value: 0.025184396744952577 and parameters: {'topK': 2, 'shrink': 13.719156997768897, 'feature_weighting': 'TF-IDF', 'normalize': True}. Best is trial 83 with value: 0.026459928496469106.\n"
     ]
    },
    {
     "name": "stdout",
     "output_type": "stream",
     "text": [
      "Similarity column 38121 (100.0%), 5084.94 column/sec. Elapsed time 7.50 sec\n",
      "EvaluatorHoldout: Processed 34728 (100.0%) in 8.80 sec. Users per second: 3947\n"
     ]
    },
    {
     "name": "stderr",
     "output_type": "stream",
     "text": [
      "[I 2024-12-14 15:04:41,537] Trial 174 finished with value: 0.026412761487916474 and parameters: {'topK': 5, 'shrink': 15.283033892408525, 'feature_weighting': 'TF-IDF', 'normalize': True}. Best is trial 83 with value: 0.026459928496469106.\n"
     ]
    },
    {
     "name": "stdout",
     "output_type": "stream",
     "text": [
      "Similarity column 38121 (100.0%), 5091.60 column/sec. Elapsed time 7.49 sec\n",
      "EvaluatorHoldout: Processed 34728 (100.0%) in 8.91 sec. Users per second: 3898\n"
     ]
    },
    {
     "name": "stderr",
     "output_type": "stream",
     "text": [
      "[I 2024-12-14 15:04:58,075] Trial 175 finished with value: 0.02644161954307886 and parameters: {'topK': 4, 'shrink': 14.327115380494739, 'feature_weighting': 'TF-IDF', 'normalize': True}. Best is trial 83 with value: 0.026459928496469106.\n"
     ]
    },
    {
     "name": "stdout",
     "output_type": "stream",
     "text": [
      "Similarity column 38121 (100.0%), 1629.02 column/sec. Elapsed time 23.40 sec\n",
      "EvaluatorHoldout: Processed 34728 (100.0%) in 8.78 sec. Users per second: 3954\n"
     ]
    },
    {
     "name": "stderr",
     "output_type": "stream",
     "text": [
      "[I 2024-12-14 15:05:30,395] Trial 176 finished with value: 0.025923965109348142 and parameters: {'topK': 3, 'shrink': 14.77637814784832, 'feature_weighting': 'TF-IDF', 'normalize': True}. Best is trial 83 with value: 0.026459928496469106.\n"
     ]
    },
    {
     "name": "stdout",
     "output_type": "stream",
     "text": [
      "Similarity column 38121 (100.0%), 5051.95 column/sec. Elapsed time 7.55 sec\n",
      "EvaluatorHoldout: Processed 34728 (100.0%) in 8.81 sec. Users per second: 3940\n"
     ]
    },
    {
     "name": "stderr",
     "output_type": "stream",
     "text": [
      "[I 2024-12-14 15:05:46,891] Trial 177 finished with value: 0.026444749308000278 and parameters: {'topK': 4, 'shrink': 15.744128763588629, 'feature_weighting': 'TF-IDF', 'normalize': True}. Best is trial 83 with value: 0.026459928496469106.\n"
     ]
    },
    {
     "name": "stdout",
     "output_type": "stream",
     "text": [
      "Similarity column 38121 (100.0%), 5070.76 column/sec. Elapsed time 7.52 sec\n",
      "EvaluatorHoldout: Processed 34728 (100.0%) in 8.88 sec. Users per second: 3911\n"
     ]
    },
    {
     "name": "stderr",
     "output_type": "stream",
     "text": [
      "[I 2024-12-14 15:06:03,424] Trial 178 finished with value: 0.02644342952761169 and parameters: {'topK': 6, 'shrink': 16.444694171634143, 'feature_weighting': 'TF-IDF', 'normalize': True}. Best is trial 83 with value: 0.026459928496469106.\n"
     ]
    },
    {
     "name": "stdout",
     "output_type": "stream",
     "text": [
      "Similarity column 38121 (100.0%), 5139.17 column/sec. Elapsed time 7.42 sec\n",
      "EvaluatorHoldout: Processed 34728 (100.0%) in 8.76 sec. Users per second: 3965\n"
     ]
    },
    {
     "name": "stderr",
     "output_type": "stream",
     "text": [
      "[I 2024-12-14 15:06:19,738] Trial 179 finished with value: 0.026362937778581626 and parameters: {'topK': 7, 'shrink': 16.409618820282354, 'feature_weighting': 'TF-IDF', 'normalize': True}. Best is trial 83 with value: 0.026459928496469106.\n"
     ]
    },
    {
     "name": "stdout",
     "output_type": "stream",
     "text": [
      "Similarity column 38121 (100.0%), 5119.99 column/sec. Elapsed time 7.45 sec\n",
      "EvaluatorHoldout: Processed 34728 (100.0%) in 8.91 sec. Users per second: 3898\n"
     ]
    },
    {
     "name": "stderr",
     "output_type": "stream",
     "text": [
      "[I 2024-12-14 15:06:36,225] Trial 180 finished with value: 0.026453770663989493 and parameters: {'topK': 6, 'shrink': 17.667060156698977, 'feature_weighting': 'TF-IDF', 'normalize': False}. Best is trial 83 with value: 0.026459928496469106.\n"
     ]
    },
    {
     "name": "stdout",
     "output_type": "stream",
     "text": [
      "Similarity column 38121 (100.0%), 5052.00 column/sec. Elapsed time 7.55 sec\n",
      "EvaluatorHoldout: Processed 34728 (100.0%) in 9.04 sec. Users per second: 3842\n"
     ]
    },
    {
     "name": "stderr",
     "output_type": "stream",
     "text": [
      "[I 2024-12-14 15:06:52,945] Trial 181 finished with value: 0.026459722816408553 and parameters: {'topK': 5, 'shrink': 17.28847833939827, 'feature_weighting': 'TF-IDF', 'normalize': False}. Best is trial 83 with value: 0.026459928496469106.\n"
     ]
    },
    {
     "name": "stdout",
     "output_type": "stream",
     "text": [
      "Similarity column 38121 (100.0%), 5046.05 column/sec. Elapsed time 7.55 sec\n",
      "EvaluatorHoldout: Processed 34728 (100.0%) in 9.03 sec. Users per second: 3846\n"
     ]
    },
    {
     "name": "stderr",
     "output_type": "stream",
     "text": [
      "[I 2024-12-14 15:07:09,670] Trial 182 finished with value: 0.026453770663989493 and parameters: {'topK': 6, 'shrink': 17.581461071736268, 'feature_weighting': 'TF-IDF', 'normalize': False}. Best is trial 83 with value: 0.026459928496469106.\n"
     ]
    },
    {
     "name": "stdout",
     "output_type": "stream",
     "text": [
      "Similarity column 38121 (100.0%), 5126.92 column/sec. Elapsed time 7.44 sec\n",
      "EvaluatorHoldout: Processed 34728 (100.0%) in 8.67 sec. Users per second: 4004\n"
     ]
    },
    {
     "name": "stderr",
     "output_type": "stream",
     "text": [
      "[I 2024-12-14 15:07:25,923] Trial 183 finished with value: 0.02644354150897802 and parameters: {'topK': 6, 'shrink': 18.937255301433307, 'feature_weighting': 'TF-IDF', 'normalize': False}. Best is trial 83 with value: 0.026459928496469106.\n"
     ]
    },
    {
     "name": "stdout",
     "output_type": "stream",
     "text": [
      "Similarity column 38121 (100.0%), 4960.15 column/sec. Elapsed time 7.69 sec\n",
      "EvaluatorHoldout: Processed 34728 (100.0%) in 8.55 sec. Users per second: 4063\n"
     ]
    },
    {
     "name": "stderr",
     "output_type": "stream",
     "text": [
      "[I 2024-12-14 15:07:42,302] Trial 184 finished with value: 0.02644354150897802 and parameters: {'topK': 6, 'shrink': 18.79748309329615, 'feature_weighting': 'TF-IDF', 'normalize': False}. Best is trial 83 with value: 0.026459928496469106.\n"
     ]
    },
    {
     "name": "stdout",
     "output_type": "stream",
     "text": [
      "Similarity column 38121 (100.0%), 5077.35 column/sec. Elapsed time 7.51 sec\n",
      "EvaluatorHoldout: Processed 34728 (100.0%) in 9.31 sec. Users per second: 3731\n"
     ]
    },
    {
     "name": "stderr",
     "output_type": "stream",
     "text": [
      "[I 2024-12-14 15:07:59,252] Trial 185 finished with value: 0.026140021728955156 and parameters: {'topK': 9, 'shrink': 18.839305088278074, 'feature_weighting': 'TF-IDF', 'normalize': False}. Best is trial 83 with value: 0.026459928496469106.\n"
     ]
    },
    {
     "name": "stdout",
     "output_type": "stream",
     "text": [
      "Similarity column 38121 (100.0%), 5222.82 column/sec. Elapsed time 7.30 sec\n",
      "EvaluatorHoldout: Processed 34728 (100.0%) in 8.64 sec. Users per second: 4018\n"
     ]
    },
    {
     "name": "stderr",
     "output_type": "stream",
     "text": [
      "[I 2024-12-14 15:08:15,329] Trial 186 finished with value: 0.026227036963905697 and parameters: {'topK': 8, 'shrink': 20.399528632696352, 'feature_weighting': 'TF-IDF', 'normalize': False}. Best is trial 83 with value: 0.026459928496469106.\n"
     ]
    },
    {
     "name": "stdout",
     "output_type": "stream",
     "text": [
      "Similarity column 38121 (100.0%), 5061.08 column/sec. Elapsed time 7.53 sec\n",
      "EvaluatorHoldout: Processed 34728 (100.0%) in 9.02 sec. Users per second: 3849\n"
     ]
    },
    {
     "name": "stderr",
     "output_type": "stream",
     "text": [
      "[I 2024-12-14 15:08:32,018] Trial 187 finished with value: 0.026457287793024926 and parameters: {'topK': 6, 'shrink': 19.195890674644247, 'feature_weighting': 'TF-IDF', 'normalize': False}. Best is trial 83 with value: 0.026459928496469106.\n"
     ]
    },
    {
     "name": "stdout",
     "output_type": "stream",
     "text": [
      "Similarity column 38121 (100.0%), 5060.12 column/sec. Elapsed time 7.53 sec\n",
      "EvaluatorHoldout: Processed 34728 (100.0%) in 8.79 sec. Users per second: 3952\n"
     ]
    },
    {
     "name": "stderr",
     "output_type": "stream",
     "text": [
      "[I 2024-12-14 15:08:48,471] Trial 188 finished with value: 0.026457287793024926 and parameters: {'topK': 6, 'shrink': 19.465401449430356, 'feature_weighting': 'TF-IDF', 'normalize': False}. Best is trial 83 with value: 0.026459928496469106.\n"
     ]
    },
    {
     "name": "stdout",
     "output_type": "stream",
     "text": [
      "Similarity column 38121 (100.0%), 5236.27 column/sec. Elapsed time 7.28 sec\n",
      "EvaluatorHoldout: Processed 34728 (100.0%) in 8.54 sec. Users per second: 4067\n"
     ]
    },
    {
     "name": "stderr",
     "output_type": "stream",
     "text": [
      "[I 2024-12-14 15:09:04,426] Trial 189 finished with value: 0.026336954673598863 and parameters: {'topK': 7, 'shrink': 19.256749072775367, 'feature_weighting': 'TF-IDF', 'normalize': False}. Best is trial 83 with value: 0.026459928496469106.\n"
     ]
    },
    {
     "name": "stdout",
     "output_type": "stream",
     "text": [
      "Similarity column 38121 (100.0%), 5237.79 column/sec. Elapsed time 7.28 sec\n",
      "EvaluatorHoldout: Processed 34728 (100.0%) in 8.47 sec. Users per second: 4100\n"
     ]
    },
    {
     "name": "stderr",
     "output_type": "stream",
     "text": [
      "[I 2024-12-14 15:09:20,306] Trial 190 finished with value: 0.026470012532771096 and parameters: {'topK': 6, 'shrink': 20.221446435877382, 'feature_weighting': 'TF-IDF', 'normalize': False}. Best is trial 190 with value: 0.026470012532771096.\n"
     ]
    },
    {
     "name": "stdout",
     "output_type": "stream",
     "text": [
      "Similarity column 38121 (100.0%), 5208.83 column/sec. Elapsed time 7.32 sec\n",
      "EvaluatorHoldout: Processed 34728 (100.0%) in 8.48 sec. Users per second: 4093\n"
     ]
    },
    {
     "name": "stderr",
     "output_type": "stream",
     "text": [
      "[I 2024-12-14 15:09:36,242] Trial 191 finished with value: 0.026482330483064233 and parameters: {'topK': 6, 'shrink': 21.056770645007063, 'feature_weighting': 'TF-IDF', 'normalize': False}. Best is trial 191 with value: 0.026482330483064233.\n"
     ]
    },
    {
     "name": "stdout",
     "output_type": "stream",
     "text": [
      "Similarity column 38121 (100.0%), 5168.97 column/sec. Elapsed time 7.37 sec\n",
      "EvaluatorHoldout: Processed 34728 (100.0%) in 8.47 sec. Users per second: 4098\n"
     ]
    },
    {
     "name": "stderr",
     "output_type": "stream",
     "text": [
      "[I 2024-12-14 15:09:52,227] Trial 192 finished with value: 0.026482330483064233 and parameters: {'topK': 6, 'shrink': 21.173929611271372, 'feature_weighting': 'TF-IDF', 'normalize': False}. Best is trial 191 with value: 0.026482330483064233.\n"
     ]
    },
    {
     "name": "stdout",
     "output_type": "stream",
     "text": [
      "Similarity column 38121 (100.0%), 5179.84 column/sec. Elapsed time 7.36 sec\n",
      "EvaluatorHoldout: Processed 34728 (100.0%) in 8.86 sec. Users per second: 3919\n"
     ]
    },
    {
     "name": "stderr",
     "output_type": "stream",
     "text": [
      "[I 2024-12-14 15:10:08,585] Trial 193 finished with value: 0.026210416872346116 and parameters: {'topK': 8, 'shrink': 21.562092124013283, 'feature_weighting': 'TF-IDF', 'normalize': False}. Best is trial 191 with value: 0.026482330483064233.\n"
     ]
    },
    {
     "name": "stdout",
     "output_type": "stream",
     "text": [
      "Similarity column 38121 (100.0%), 5012.68 column/sec. Elapsed time 7.60 sec\n",
      "EvaluatorHoldout: Processed 34728 (100.0%) in 8.78 sec. Users per second: 3953\n"
     ]
    },
    {
     "name": "stderr",
     "output_type": "stream",
     "text": [
      "[I 2024-12-14 15:10:25,137] Trial 194 finished with value: 0.026482330483064233 and parameters: {'topK': 6, 'shrink': 21.077529147716852, 'feature_weighting': 'TF-IDF', 'normalize': False}. Best is trial 191 with value: 0.026482330483064233.\n"
     ]
    },
    {
     "name": "stdout",
     "output_type": "stream",
     "text": [
      "Similarity column 38121 (100.0%), 5162.03 column/sec. Elapsed time 7.38 sec\n",
      "EvaluatorHoldout: Processed 34728 (100.0%) in 8.77 sec. Users per second: 3958\n"
     ]
    },
    {
     "name": "stderr",
     "output_type": "stream",
     "text": [
      "[I 2024-12-14 15:10:41,435] Trial 195 finished with value: 0.026482330483064233 and parameters: {'topK': 6, 'shrink': 21.197526020967423, 'feature_weighting': 'TF-IDF', 'normalize': False}. Best is trial 191 with value: 0.026482330483064233.\n"
     ]
    },
    {
     "name": "stdout",
     "output_type": "stream",
     "text": [
      "Similarity column 38121 (100.0%), 5116.35 column/sec. Elapsed time 7.45 sec\n",
      "EvaluatorHoldout: Processed 34728 (100.0%) in 8.97 sec. Users per second: 3873\n"
     ]
    },
    {
     "name": "stderr",
     "output_type": "stream",
     "text": [
      "[I 2024-12-14 15:10:58,002] Trial 196 finished with value: 0.026325647983603498 and parameters: {'topK': 7, 'shrink': 21.939370456319782, 'feature_weighting': 'TF-IDF', 'normalize': False}. Best is trial 191 with value: 0.026482330483064233.\n"
     ]
    },
    {
     "name": "stdout",
     "output_type": "stream",
     "text": [
      "Similarity column 38121 (100.0%), 4958.43 column/sec. Elapsed time 7.69 sec\n",
      "EvaluatorHoldout: Processed 34728 (100.0%) in 9.05 sec. Users per second: 3835\n"
     ]
    },
    {
     "name": "stderr",
     "output_type": "stream",
     "text": [
      "[I 2024-12-14 15:11:14,891] Trial 197 finished with value: 0.026470012532771096 and parameters: {'topK': 6, 'shrink': 20.777644431123225, 'feature_weighting': 'TF-IDF', 'normalize': False}. Best is trial 191 with value: 0.026482330483064233.\n"
     ]
    },
    {
     "name": "stdout",
     "output_type": "stream",
     "text": [
      "Similarity column 38121 (100.0%), 5126.35 column/sec. Elapsed time 7.44 sec\n",
      "EvaluatorHoldout: Processed 34728 (100.0%) in 8.77 sec. Users per second: 3961\n"
     ]
    },
    {
     "name": "stderr",
     "output_type": "stream",
     "text": [
      "[I 2024-12-14 15:11:31,227] Trial 198 finished with value: 0.026470012532771096 and parameters: {'topK': 6, 'shrink': 20.923143537874555, 'feature_weighting': 'TF-IDF', 'normalize': False}. Best is trial 191 with value: 0.026482330483064233.\n"
     ]
    },
    {
     "name": "stdout",
     "output_type": "stream",
     "text": [
      "Similarity column 38121 (100.0%), 5136.55 column/sec. Elapsed time 7.42 sec\n",
      "EvaluatorHoldout: Processed 34728 (100.0%) in 8.92 sec. Users per second: 3893\n"
     ]
    },
    {
     "name": "stderr",
     "output_type": "stream",
     "text": [
      "[I 2024-12-14 15:11:47,705] Trial 199 finished with value: 0.026227036963905697 and parameters: {'topK': 8, 'shrink': 20.46791354868902, 'feature_weighting': 'TF-IDF', 'normalize': False}. Best is trial 191 with value: 0.026482330483064233.\n"
     ]
    },
    {
     "name": "stdout",
     "output_type": "stream",
     "text": [
      "Similarity column 38121 (100.0%), 5163.86 column/sec. Elapsed time 7.38 sec\n",
      "EvaluatorHoldout: Processed 34728 (100.0%) in 9.14 sec. Users per second: 3801\n"
     ]
    },
    {
     "name": "stderr",
     "output_type": "stream",
     "text": [
      "[I 2024-12-14 15:12:04,359] Trial 200 finished with value: 0.026015317908242467 and parameters: {'topK': 10, 'shrink': 21.12453153212834, 'feature_weighting': 'TF-IDF', 'normalize': False}. Best is trial 191 with value: 0.026482330483064233.\n"
     ]
    },
    {
     "name": "stdout",
     "output_type": "stream",
     "text": [
      "Similarity column 38121 (100.0%), 4919.13 column/sec. Elapsed time 7.75 sec\n",
      "EvaluatorHoldout: Processed 34728 (100.0%) in 9.11 sec. Users per second: 3811\n"
     ]
    },
    {
     "name": "stderr",
     "output_type": "stream",
     "text": [
      "[I 2024-12-14 15:12:21,371] Trial 201 finished with value: 0.026470012532771096 and parameters: {'topK': 6, 'shrink': 20.04715015435115, 'feature_weighting': 'TF-IDF', 'normalize': False}. Best is trial 191 with value: 0.026482330483064233.\n"
     ]
    },
    {
     "name": "stdout",
     "output_type": "stream",
     "text": [
      "Similarity column 38121 (100.0%), 4947.71 column/sec. Elapsed time 7.70 sec\n",
      "EvaluatorHoldout: Processed 34728 (100.0%) in 9.09 sec. Users per second: 3820\n"
     ]
    },
    {
     "name": "stderr",
     "output_type": "stream",
     "text": [
      "[I 2024-12-14 15:12:38,310] Trial 202 finished with value: 0.026482330483064233 and parameters: {'topK': 6, 'shrink': 21.01888948378113, 'feature_weighting': 'TF-IDF', 'normalize': False}. Best is trial 191 with value: 0.026482330483064233.\n"
     ]
    },
    {
     "name": "stdout",
     "output_type": "stream",
     "text": [
      "Similarity column 38121 (100.0%), 5025.56 column/sec. Elapsed time 7.59 sec\n",
      "EvaluatorHoldout: Processed 34728 (100.0%) in 9.27 sec. Users per second: 3748\n"
     ]
    },
    {
     "name": "stderr",
     "output_type": "stream",
     "text": [
      "[I 2024-12-14 15:12:55,306] Trial 203 finished with value: 0.026334611063575555 and parameters: {'topK': 7, 'shrink': 20.960067846394296, 'feature_weighting': 'TF-IDF', 'normalize': False}. Best is trial 191 with value: 0.026482330483064233.\n"
     ]
    },
    {
     "name": "stdout",
     "output_type": "stream",
     "text": [
      "Similarity column 38121 (100.0%), 5113.20 column/sec. Elapsed time 7.46 sec\n",
      "EvaluatorHoldout: Processed 34728 (100.0%) in 9.16 sec. Users per second: 3792\n"
     ]
    },
    {
     "name": "stderr",
     "output_type": "stream",
     "text": [
      "[I 2024-12-14 15:13:12,060] Trial 204 finished with value: 0.026457287793024926 and parameters: {'topK': 6, 'shrink': 19.82342635644803, 'feature_weighting': 'TF-IDF', 'normalize': False}. Best is trial 191 with value: 0.026482330483064233.\n"
     ]
    },
    {
     "name": "stdout",
     "output_type": "stream",
     "text": [
      "Similarity column 38121 (100.0%), 5047.45 column/sec. Elapsed time 7.55 sec\n",
      "EvaluatorHoldout: Processed 34728 (100.0%) in 9.14 sec. Users per second: 3801\n"
     ]
    },
    {
     "name": "stderr",
     "output_type": "stream",
     "text": [
      "[I 2024-12-14 15:13:28,890] Trial 205 finished with value: 0.026108524113015646 and parameters: {'topK': 9, 'shrink': 22.297075095003287, 'feature_weighting': 'TF-IDF', 'normalize': False}. Best is trial 191 with value: 0.026482330483064233.\n"
     ]
    },
    {
     "name": "stdout",
     "output_type": "stream",
     "text": [
      "Similarity column 38121 (100.0%), 5151.44 column/sec. Elapsed time 7.40 sec\n",
      "EvaluatorHoldout: Processed 34728 (100.0%) in 8.67 sec. Users per second: 4007\n"
     ]
    },
    {
     "name": "stderr",
     "output_type": "stream",
     "text": [
      "[I 2024-12-14 15:13:45,103] Trial 206 finished with value: 0.026334611063575555 and parameters: {'topK': 7, 'shrink': 20.64709074898422, 'feature_weighting': 'TF-IDF', 'normalize': False}. Best is trial 191 with value: 0.026482330483064233.\n"
     ]
    },
    {
     "name": "stdout",
     "output_type": "stream",
     "text": [
      "Similarity column 38121 (100.0%), 5199.64 column/sec. Elapsed time 7.33 sec\n",
      "EvaluatorHoldout: Processed 34728 (100.0%) in 8.56 sec. Users per second: 4058\n"
     ]
    },
    {
     "name": "stderr",
     "output_type": "stream",
     "text": [
      "[I 2024-12-14 15:14:01,126] Trial 207 finished with value: 0.026457287793024926 and parameters: {'topK': 6, 'shrink': 19.877259087474624, 'feature_weighting': 'TF-IDF', 'normalize': False}. Best is trial 191 with value: 0.026482330483064233.\n"
     ]
    },
    {
     "name": "stdout",
     "output_type": "stream",
     "text": [
      "Similarity column 38121 (100.0%), 5172.71 column/sec. Elapsed time 7.37 sec\n",
      "EvaluatorHoldout: Processed 34728 (100.0%) in 8.58 sec. Users per second: 4045\n"
     ]
    },
    {
     "name": "stderr",
     "output_type": "stream",
     "text": [
      "[I 2024-12-14 15:14:17,215] Trial 208 finished with value: 0.026216203338049634 and parameters: {'topK': 8, 'shrink': 19.848253858541042, 'feature_weighting': 'TF-IDF', 'normalize': False}. Best is trial 191 with value: 0.026482330483064233.\n"
     ]
    },
    {
     "name": "stdout",
     "output_type": "stream",
     "text": [
      "Similarity column 38121 (100.0%), 5170.11 column/sec. Elapsed time 7.37 sec\n",
      "EvaluatorHoldout: Processed 34728 (100.0%) in 8.60 sec. Users per second: 4039\n"
     ]
    },
    {
     "name": "stderr",
     "output_type": "stream",
     "text": [
      "[I 2024-12-14 15:14:33,324] Trial 209 finished with value: 0.026470012532771096 and parameters: {'topK': 6, 'shrink': 20.120346410839307, 'feature_weighting': 'TF-IDF', 'normalize': False}. Best is trial 191 with value: 0.026482330483064233.\n"
     ]
    },
    {
     "name": "stdout",
     "output_type": "stream",
     "text": [
      "Similarity column 38121 (100.0%), 5157.89 column/sec. Elapsed time 7.39 sec\n",
      "EvaluatorHoldout: Processed 34728 (100.0%) in 8.56 sec. Users per second: 4058\n"
     ]
    },
    {
     "name": "stderr",
     "output_type": "stream",
     "text": [
      "[I 2024-12-14 15:14:49,409] Trial 210 finished with value: 0.026470012532771096 and parameters: {'topK': 6, 'shrink': 20.207753981265206, 'feature_weighting': 'TF-IDF', 'normalize': False}. Best is trial 191 with value: 0.026482330483064233.\n"
     ]
    },
    {
     "name": "stdout",
     "output_type": "stream",
     "text": [
      "Similarity column 38121 (100.0%), 5135.38 column/sec. Elapsed time 7.42 sec\n",
      "EvaluatorHoldout: Processed 34728 (100.0%) in 8.61 sec. Users per second: 4035\n"
     ]
    },
    {
     "name": "stderr",
     "output_type": "stream",
     "text": [
      "[I 2024-12-14 15:15:05,573] Trial 211 finished with value: 0.026470012532771096 and parameters: {'topK': 6, 'shrink': 20.11969662745394, 'feature_weighting': 'TF-IDF', 'normalize': False}. Best is trial 191 with value: 0.026482330483064233.\n"
     ]
    },
    {
     "name": "stdout",
     "output_type": "stream",
     "text": [
      "Similarity column 38121 (100.0%), 5162.31 column/sec. Elapsed time 7.38 sec\n",
      "EvaluatorHoldout: Processed 34728 (100.0%) in 8.67 sec. Users per second: 4008\n"
     ]
    },
    {
     "name": "stderr",
     "output_type": "stream",
     "text": [
      "[I 2024-12-14 15:15:21,757] Trial 212 finished with value: 0.026470012532771096 and parameters: {'topK': 6, 'shrink': 20.11517982001426, 'feature_weighting': 'TF-IDF', 'normalize': False}. Best is trial 191 with value: 0.026482330483064233.\n"
     ]
    },
    {
     "name": "stdout",
     "output_type": "stream",
     "text": [
      "Similarity column 38121 (100.0%), 5141.50 column/sec. Elapsed time 7.41 sec\n",
      "EvaluatorHoldout: Processed 34728 (100.0%) in 9.14 sec. Users per second: 3798\n"
     ]
    },
    {
     "name": "stderr",
     "output_type": "stream",
     "text": [
      "[I 2024-12-14 15:15:38,449] Trial 213 finished with value: 0.026457287793024926 and parameters: {'topK': 6, 'shrink': 19.779316835207005, 'feature_weighting': 'TF-IDF', 'normalize': False}. Best is trial 191 with value: 0.026482330483064233.\n"
     ]
    },
    {
     "name": "stdout",
     "output_type": "stream",
     "text": [
      "Similarity column 38121 (100.0%), 5019.77 column/sec. Elapsed time 7.59 sec\n",
      "EvaluatorHoldout: Processed 34728 (100.0%) in 8.81 sec. Users per second: 3941\n"
     ]
    },
    {
     "name": "stderr",
     "output_type": "stream",
     "text": [
      "[I 2024-12-14 15:15:54,999] Trial 214 finished with value: 0.026470012532771096 and parameters: {'topK': 6, 'shrink': 20.11335619994537, 'feature_weighting': 'TF-IDF', 'normalize': False}. Best is trial 191 with value: 0.026482330483064233.\n"
     ]
    },
    {
     "name": "stdout",
     "output_type": "stream",
     "text": [
      "Similarity column 38121 (100.0%), 5090.62 column/sec. Elapsed time 7.49 sec\n",
      "EvaluatorHoldout: Processed 34728 (100.0%) in 8.95 sec. Users per second: 3882\n"
     ]
    },
    {
     "name": "stderr",
     "output_type": "stream",
     "text": [
      "[I 2024-12-14 15:16:11,575] Trial 215 finished with value: 0.026216203338049634 and parameters: {'topK': 8, 'shrink': 19.877615143062005, 'feature_weighting': 'TF-IDF', 'normalize': False}. Best is trial 191 with value: 0.026482330483064233.\n"
     ]
    },
    {
     "name": "stdout",
     "output_type": "stream",
     "text": [
      "Similarity column 38121 (100.0%), 5071.20 column/sec. Elapsed time 7.52 sec\n",
      "EvaluatorHoldout: Processed 34728 (100.0%) in 8.90 sec. Users per second: 3902\n"
     ]
    },
    {
     "name": "stderr",
     "output_type": "stream",
     "text": [
      "[I 2024-12-14 15:16:28,132] Trial 216 finished with value: 0.026334611063575555 and parameters: {'topK': 7, 'shrink': 20.182865705005312, 'feature_weighting': 'TF-IDF', 'normalize': False}. Best is trial 191 with value: 0.026482330483064233.\n"
     ]
    },
    {
     "name": "stdout",
     "output_type": "stream",
     "text": [
      "Similarity column 38121 (100.0%), 4992.46 column/sec. Elapsed time 7.64 sec\n",
      "EvaluatorHoldout: Processed 34728 (100.0%) in 8.86 sec. Users per second: 3918\n"
     ]
    },
    {
     "name": "stderr",
     "output_type": "stream",
     "text": [
      "[I 2024-12-14 15:16:44,772] Trial 217 finished with value: 0.026470012532771096 and parameters: {'topK': 6, 'shrink': 20.99080129345272, 'feature_weighting': 'TF-IDF', 'normalize': False}. Best is trial 191 with value: 0.026482330483064233.\n"
     ]
    },
    {
     "name": "stdout",
     "output_type": "stream",
     "text": [
      "Similarity column 38121 (100.0%), 5134.83 column/sec. Elapsed time 7.42 sec\n",
      "EvaluatorHoldout: Processed 34728 (100.0%) in 8.76 sec. Users per second: 3966\n"
     ]
    },
    {
     "name": "stderr",
     "output_type": "stream",
     "text": [
      "[I 2024-12-14 15:17:01,092] Trial 218 finished with value: 0.026325647983603498 and parameters: {'topK': 7, 'shrink': 21.197823690007443, 'feature_weighting': 'TF-IDF', 'normalize': False}. Best is trial 191 with value: 0.026482330483064233.\n"
     ]
    },
    {
     "name": "stdout",
     "output_type": "stream",
     "text": [
      "Similarity column 38121 (100.0%), 5195.87 column/sec. Elapsed time 7.34 sec\n",
      "EvaluatorHoldout: Processed 34728 (100.0%) in 8.63 sec. Users per second: 4025\n"
     ]
    },
    {
     "name": "stderr",
     "output_type": "stream",
     "text": [
      "[I 2024-12-14 15:17:17,190] Trial 219 finished with value: 0.026474510070095273 and parameters: {'topK': 6, 'shrink': 22.990446431740537, 'feature_weighting': 'TF-IDF', 'normalize': False}. Best is trial 191 with value: 0.026482330483064233.\n"
     ]
    },
    {
     "name": "stdout",
     "output_type": "stream",
     "text": [
      "Similarity column 38121 (100.0%), 5080.44 column/sec. Elapsed time 7.50 sec\n",
      "EvaluatorHoldout: Processed 34728 (100.0%) in 9.31 sec. Users per second: 3731\n"
     ]
    },
    {
     "name": "stderr",
     "output_type": "stream",
     "text": [
      "[I 2024-12-14 15:17:34,135] Trial 220 finished with value: 0.026227036963905697 and parameters: {'topK': 8, 'shrink': 20.810450639700722, 'feature_weighting': 'TF-IDF', 'normalize': False}. Best is trial 191 with value: 0.026482330483064233.\n"
     ]
    },
    {
     "name": "stdout",
     "output_type": "stream",
     "text": [
      "Similarity column 38121 (100.0%), 5144.31 column/sec. Elapsed time 7.41 sec\n",
      "EvaluatorHoldout: Processed 34728 (100.0%) in 8.67 sec. Users per second: 4005\n"
     ]
    },
    {
     "name": "stderr",
     "output_type": "stream",
     "text": [
      "[I 2024-12-14 15:17:50,350] Trial 221 finished with value: 0.026474510070095273 and parameters: {'topK': 6, 'shrink': 22.918320377888932, 'feature_weighting': 'TF-IDF', 'normalize': False}. Best is trial 191 with value: 0.026482330483064233.\n"
     ]
    },
    {
     "name": "stdout",
     "output_type": "stream",
     "text": [
      "Similarity column 38121 (100.0%), 5185.37 column/sec. Elapsed time 7.35 sec\n",
      "EvaluatorHoldout: Processed 34728 (100.0%) in 8.58 sec. Users per second: 4047\n"
     ]
    },
    {
     "name": "stderr",
     "output_type": "stream",
     "text": [
      "[I 2024-12-14 15:18:06,415] Trial 222 finished with value: 0.02646383870295362 and parameters: {'topK': 6, 'shrink': 23.009520239729817, 'feature_weighting': 'TF-IDF', 'normalize': False}. Best is trial 191 with value: 0.026482330483064233.\n"
     ]
    },
    {
     "name": "stdout",
     "output_type": "stream",
     "text": [
      "Similarity column 38121 (100.0%), 5178.57 column/sec. Elapsed time 7.36 sec\n",
      "EvaluatorHoldout: Processed 34728 (100.0%) in 8.74 sec. Users per second: 3973\n"
     ]
    },
    {
     "name": "stderr",
     "output_type": "stream",
     "text": [
      "[I 2024-12-14 15:18:22,649] Trial 223 finished with value: 0.026268033570641846 and parameters: {'topK': 7, 'shrink': 23.33558698371669, 'feature_weighting': 'TF-IDF', 'normalize': False}. Best is trial 191 with value: 0.026482330483064233.\n"
     ]
    },
    {
     "name": "stdout",
     "output_type": "stream",
     "text": [
      "Similarity column 38121 (100.0%), 5192.89 column/sec. Elapsed time 7.34 sec\n",
      "EvaluatorHoldout: Processed 34728 (100.0%) in 8.60 sec. Users per second: 4038\n"
     ]
    },
    {
     "name": "stderr",
     "output_type": "stream",
     "text": [
      "[I 2024-12-14 15:18:38,722] Trial 224 finished with value: 0.02647558874774608 and parameters: {'topK': 5, 'shrink': 23.142019945898873, 'feature_weighting': 'TF-IDF', 'normalize': False}. Best is trial 191 with value: 0.026482330483064233.\n"
     ]
    },
    {
     "name": "stdout",
     "output_type": "stream",
     "text": [
      "Similarity column 38121 (100.0%), 5134.66 column/sec. Elapsed time 7.42 sec\n",
      "EvaluatorHoldout: Processed 34728 (100.0%) in 8.65 sec. Users per second: 4014\n"
     ]
    },
    {
     "name": "stderr",
     "output_type": "stream",
     "text": [
      "[I 2024-12-14 15:18:54,934] Trial 225 finished with value: 0.02647558874774608 and parameters: {'topK': 5, 'shrink': 23.13769406685931, 'feature_weighting': 'TF-IDF', 'normalize': False}. Best is trial 191 with value: 0.026482330483064233.\n"
     ]
    },
    {
     "name": "stdout",
     "output_type": "stream",
     "text": [
      "Similarity column 38121 (100.0%), 5150.84 column/sec. Elapsed time 7.40 sec\n",
      "EvaluatorHoldout: Processed 34728 (100.0%) in 8.66 sec. Users per second: 4012\n"
     ]
    },
    {
     "name": "stderr",
     "output_type": "stream",
     "text": [
      "[I 2024-12-14 15:19:11,128] Trial 226 finished with value: 0.026483016083266052 and parameters: {'topK': 5, 'shrink': 22.86968444740849, 'feature_weighting': 'TF-IDF', 'normalize': False}. Best is trial 226 with value: 0.026483016083266052.\n"
     ]
    },
    {
     "name": "stdout",
     "output_type": "stream",
     "text": [
      "Similarity column 38121 (100.0%), 5130.94 column/sec. Elapsed time 7.43 sec\n",
      "EvaluatorHoldout: Processed 34728 (100.0%) in 8.63 sec. Users per second: 4025\n"
     ]
    },
    {
     "name": "stderr",
     "output_type": "stream",
     "text": [
      "[I 2024-12-14 15:19:27,319] Trial 227 finished with value: 0.02647558874774608 and parameters: {'topK': 5, 'shrink': 23.199640529283744, 'feature_weighting': 'TF-IDF', 'normalize': False}. Best is trial 226 with value: 0.026483016083266052.\n"
     ]
    },
    {
     "name": "stdout",
     "output_type": "stream",
     "text": [
      "Similarity column 38121 (100.0%), 5198.21 column/sec. Elapsed time 7.33 sec\n",
      "EvaluatorHoldout: Processed 34728 (100.0%) in 8.62 sec. Users per second: 4027\n"
     ]
    },
    {
     "name": "stderr",
     "output_type": "stream",
     "text": [
      "[I 2024-12-14 15:19:43,410] Trial 228 finished with value: 0.02647558874774608 and parameters: {'topK': 5, 'shrink': 23.241995004699962, 'feature_weighting': 'TF-IDF', 'normalize': False}. Best is trial 226 with value: 0.026483016083266052.\n"
     ]
    },
    {
     "name": "stdout",
     "output_type": "stream",
     "text": [
      "Similarity column 38121 (100.0%), 5187.58 column/sec. Elapsed time 7.35 sec\n",
      "EvaluatorHoldout: Processed 34728 (100.0%) in 8.70 sec. Users per second: 3992\n"
     ]
    },
    {
     "name": "stderr",
     "output_type": "stream",
     "text": [
      "[I 2024-12-14 15:19:59,589] Trial 229 finished with value: 0.026262357943637606 and parameters: {'topK': 7, 'shrink': 24.043041082048163, 'feature_weighting': 'TF-IDF', 'normalize': False}. Best is trial 226 with value: 0.026483016083266052.\n"
     ]
    },
    {
     "name": "stdout",
     "output_type": "stream",
     "text": [
      "Similarity column 38121 (100.0%), 5180.31 column/sec. Elapsed time 7.36 sec\n",
      "EvaluatorHoldout: Processed 34728 (100.0%) in 8.74 sec. Users per second: 3972\n"
     ]
    },
    {
     "name": "stderr",
     "output_type": "stream",
     "text": [
      "[I 2024-12-14 15:20:15,828] Trial 230 finished with value: 0.026108524113015646 and parameters: {'topK': 9, 'shrink': 22.978535484649296, 'feature_weighting': 'TF-IDF', 'normalize': False}. Best is trial 226 with value: 0.026483016083266052.\n"
     ]
    },
    {
     "name": "stdout",
     "output_type": "stream",
     "text": [
      "Similarity column 38121 (100.0%), 5164.23 column/sec. Elapsed time 7.38 sec\n",
      "EvaluatorHoldout: Processed 34728 (100.0%) in 8.53 sec. Users per second: 4070\n"
     ]
    },
    {
     "name": "stderr",
     "output_type": "stream",
     "text": [
      "[I 2024-12-14 15:20:31,874] Trial 231 finished with value: 0.026510516650028845 and parameters: {'topK': 5, 'shrink': 24.247629872952047, 'feature_weighting': 'TF-IDF', 'normalize': False}. Best is trial 231 with value: 0.026510516650028845.\n"
     ]
    },
    {
     "name": "stdout",
     "output_type": "stream",
     "text": [
      "Similarity column 38121 (100.0%), 5159.47 column/sec. Elapsed time 7.39 sec\n",
      "EvaluatorHoldout: Processed 34728 (100.0%) in 8.64 sec. Users per second: 4018\n"
     ]
    },
    {
     "name": "stderr",
     "output_type": "stream",
     "text": [
      "[I 2024-12-14 15:20:48,038] Trial 232 finished with value: 0.02647558874774608 and parameters: {'topK': 5, 'shrink': 23.895669967506112, 'feature_weighting': 'TF-IDF', 'normalize': False}. Best is trial 231 with value: 0.026510516650028845.\n"
     ]
    },
    {
     "name": "stdout",
     "output_type": "stream",
     "text": [
      "Similarity column 38121 (100.0%), 5152.37 column/sec. Elapsed time 7.40 sec\n",
      "EvaluatorHoldout: Processed 34728 (100.0%) in 8.60 sec. Users per second: 4040\n"
     ]
    },
    {
     "name": "stderr",
     "output_type": "stream",
     "text": [
      "[I 2024-12-14 15:21:04,171] Trial 233 finished with value: 0.026510516650028845 and parameters: {'topK': 5, 'shrink': 24.15634383341965, 'feature_weighting': 'TF-IDF', 'normalize': False}. Best is trial 231 with value: 0.026510516650028845.\n"
     ]
    },
    {
     "name": "stdout",
     "output_type": "stream",
     "text": [
      "Similarity column 38121 (100.0%), 5123.03 column/sec. Elapsed time 7.44 sec\n",
      "EvaluatorHoldout: Processed 34728 (100.0%) in 8.53 sec. Users per second: 4073\n"
     ]
    },
    {
     "name": "stderr",
     "output_type": "stream",
     "text": [
      "[I 2024-12-14 15:21:20,270] Trial 234 finished with value: 0.026510516650028845 and parameters: {'topK': 5, 'shrink': 24.881921257971797, 'feature_weighting': 'TF-IDF', 'normalize': False}. Best is trial 231 with value: 0.026510516650028845.\n"
     ]
    },
    {
     "name": "stdout",
     "output_type": "stream",
     "text": [
      "Similarity column 38121 (100.0%), 5198.91 column/sec. Elapsed time 7.33 sec\n",
      "EvaluatorHoldout: Processed 34728 (100.0%) in 8.45 sec. Users per second: 4112\n"
     ]
    },
    {
     "name": "stderr",
     "output_type": "stream",
     "text": [
      "[I 2024-12-14 15:21:36,181] Trial 235 finished with value: 0.026510516650028845 and parameters: {'topK': 5, 'shrink': 24.79104518300865, 'feature_weighting': 'TF-IDF', 'normalize': False}. Best is trial 231 with value: 0.026510516650028845.\n"
     ]
    },
    {
     "name": "stdout",
     "output_type": "stream",
     "text": [
      "Similarity column 38121 (100.0%), 5136.53 column/sec. Elapsed time 7.42 sec\n",
      "EvaluatorHoldout: Processed 34728 (100.0%) in 8.92 sec. Users per second: 3894\n"
     ]
    },
    {
     "name": "stderr",
     "output_type": "stream",
     "text": [
      "[I 2024-12-14 15:21:52,654] Trial 236 finished with value: 0.026510516650028845 and parameters: {'topK': 5, 'shrink': 24.61142146419367, 'feature_weighting': 'TF-IDF', 'normalize': False}. Best is trial 231 with value: 0.026510516650028845.\n"
     ]
    },
    {
     "name": "stdout",
     "output_type": "stream",
     "text": [
      "Similarity column 38121 (100.0%), 4970.27 column/sec. Elapsed time 7.67 sec\n",
      "EvaluatorHoldout: Processed 34728 (100.0%) in 8.82 sec. Users per second: 3935\n"
     ]
    },
    {
     "name": "stderr",
     "output_type": "stream",
     "text": [
      "[I 2024-12-14 15:22:09,290] Trial 237 finished with value: 0.026510516650028845 and parameters: {'topK': 5, 'shrink': 24.748708764173806, 'feature_weighting': 'TF-IDF', 'normalize': False}. Best is trial 231 with value: 0.026510516650028845.\n"
     ]
    },
    {
     "name": "stdout",
     "output_type": "stream",
     "text": [
      "Similarity column 38121 (100.0%), 5116.97 column/sec. Elapsed time 7.45 sec\n",
      "EvaluatorHoldout: Processed 34728 (100.0%) in 8.57 sec. Users per second: 4053\n"
     ]
    },
    {
     "name": "stderr",
     "output_type": "stream",
     "text": [
      "[I 2024-12-14 15:22:25,452] Trial 238 finished with value: 0.026510516650028845 and parameters: {'topK': 5, 'shrink': 24.79831949139971, 'feature_weighting': 'TF-IDF', 'normalize': False}. Best is trial 231 with value: 0.026510516650028845.\n"
     ]
    },
    {
     "name": "stdout",
     "output_type": "stream",
     "text": [
      "Similarity column 38121 (100.0%), 5157.05 column/sec. Elapsed time 7.39 sec\n",
      "EvaluatorHoldout: Processed 34728 (100.0%) in 8.69 sec. Users per second: 3998\n"
     ]
    },
    {
     "name": "stderr",
     "output_type": "stream",
     "text": [
      "[I 2024-12-14 15:22:41,679] Trial 239 finished with value: 0.026510516650028845 and parameters: {'topK': 5, 'shrink': 24.853005208475903, 'feature_weighting': 'TF-IDF', 'normalize': False}. Best is trial 231 with value: 0.026510516650028845.\n"
     ]
    },
    {
     "name": "stdout",
     "output_type": "stream",
     "text": [
      "Similarity column 38121 (100.0%), 5177.49 column/sec. Elapsed time 7.36 sec\n",
      "EvaluatorHoldout: Processed 34728 (100.0%) in 8.71 sec. Users per second: 3987\n"
     ]
    },
    {
     "name": "stderr",
     "output_type": "stream",
     "text": [
      "[I 2024-12-14 15:22:57,891] Trial 240 finished with value: 0.026510516650028845 and parameters: {'topK': 5, 'shrink': 24.97514365409468, 'feature_weighting': 'TF-IDF', 'normalize': False}. Best is trial 231 with value: 0.026510516650028845.\n"
     ]
    },
    {
     "name": "stdout",
     "output_type": "stream",
     "text": [
      "Similarity column 38121 (100.0%), 5044.29 column/sec. Elapsed time 7.56 sec\n",
      "EvaluatorHoldout: Processed 34728 (100.0%) in 8.80 sec. Users per second: 3949\n"
     ]
    },
    {
     "name": "stderr",
     "output_type": "stream",
     "text": [
      "[I 2024-12-14 15:23:14,389] Trial 241 finished with value: 0.026510516650028845 and parameters: {'topK': 5, 'shrink': 24.99303737540715, 'feature_weighting': 'TF-IDF', 'normalize': False}. Best is trial 231 with value: 0.026510516650028845.\n"
     ]
    },
    {
     "name": "stdout",
     "output_type": "stream",
     "text": [
      "Similarity column 38121 (100.0%), 5143.75 column/sec. Elapsed time 7.41 sec\n",
      "EvaluatorHoldout: Processed 34728 (100.0%) in 8.74 sec. Users per second: 3974\n"
     ]
    },
    {
     "name": "stderr",
     "output_type": "stream",
     "text": [
      "[I 2024-12-14 15:23:30,678] Trial 242 finished with value: 0.026510516650028845 and parameters: {'topK': 5, 'shrink': 24.922851664255923, 'feature_weighting': 'TF-IDF', 'normalize': False}. Best is trial 231 with value: 0.026510516650028845.\n"
     ]
    },
    {
     "name": "stdout",
     "output_type": "stream",
     "text": [
      "Similarity column 38121 (100.0%), 5156.52 column/sec. Elapsed time 7.39 sec\n",
      "EvaluatorHoldout: Processed 34728 (100.0%) in 8.69 sec. Users per second: 3998\n"
     ]
    },
    {
     "name": "stderr",
     "output_type": "stream",
     "text": [
      "[I 2024-12-14 15:23:46,906] Trial 243 finished with value: 0.026510516650028845 and parameters: {'topK': 5, 'shrink': 24.827317141832186, 'feature_weighting': 'TF-IDF', 'normalize': False}. Best is trial 231 with value: 0.026510516650028845.\n"
     ]
    },
    {
     "name": "stdout",
     "output_type": "stream",
     "text": [
      "Similarity column 38121 (100.0%), 5159.04 column/sec. Elapsed time 7.39 sec\n",
      "EvaluatorHoldout: Processed 34728 (100.0%) in 8.93 sec. Users per second: 3890\n"
     ]
    },
    {
     "name": "stderr",
     "output_type": "stream",
     "text": [
      "[I 2024-12-14 15:24:03,370] Trial 244 finished with value: 0.026510516650028845 and parameters: {'topK': 5, 'shrink': 24.69909335137431, 'feature_weighting': 'TF-IDF', 'normalize': False}. Best is trial 231 with value: 0.026510516650028845.\n"
     ]
    },
    {
     "name": "stdout",
     "output_type": "stream",
     "text": [
      "Similarity column 38121 (100.0%), 5165.61 column/sec. Elapsed time 7.38 sec\n",
      "EvaluatorHoldout: Processed 34728 (100.0%) in 9.19 sec. Users per second: 3781\n"
     ]
    },
    {
     "name": "stderr",
     "output_type": "stream",
     "text": [
      "[I 2024-12-14 15:24:20,081] Trial 245 finished with value: 0.026510516650028845 and parameters: {'topK': 5, 'shrink': 24.971293087167012, 'feature_weighting': 'TF-IDF', 'normalize': False}. Best is trial 231 with value: 0.026510516650028845.\n"
     ]
    },
    {
     "name": "stdout",
     "output_type": "stream",
     "text": [
      "Similarity column 38121 (100.0%), 5007.07 column/sec. Elapsed time 7.61 sec\n",
      "EvaluatorHoldout: Processed 34728 (100.0%) in 8.90 sec. Users per second: 3903\n"
     ]
    },
    {
     "name": "stderr",
     "output_type": "stream",
     "text": [
      "[I 2024-12-14 15:24:36,737] Trial 246 finished with value: 0.026510516650028845 and parameters: {'topK': 5, 'shrink': 24.92179575501752, 'feature_weighting': 'TF-IDF', 'normalize': False}. Best is trial 231 with value: 0.026510516650028845.\n"
     ]
    },
    {
     "name": "stdout",
     "output_type": "stream",
     "text": [
      "Similarity column 38121 (100.0%), 5109.49 column/sec. Elapsed time 7.46 sec\n",
      "EvaluatorHoldout: Processed 34728 (100.0%) in 8.87 sec. Users per second: 3915\n"
     ]
    },
    {
     "name": "stderr",
     "output_type": "stream",
     "text": [
      "[I 2024-12-14 15:24:53,211] Trial 247 finished with value: 0.026510516650028845 and parameters: {'topK': 5, 'shrink': 24.956210814444653, 'feature_weighting': 'TF-IDF', 'normalize': False}. Best is trial 231 with value: 0.026510516650028845.\n"
     ]
    },
    {
     "name": "stdout",
     "output_type": "stream",
     "text": [
      "Similarity column 38121 (100.0%), 5069.85 column/sec. Elapsed time 7.52 sec\n",
      "EvaluatorHoldout: Processed 34728 (100.0%) in 9.18 sec. Users per second: 3783\n"
     ]
    },
    {
     "name": "stderr",
     "output_type": "stream",
     "text": [
      "[I 2024-12-14 15:25:10,049] Trial 248 finished with value: 0.025650184380747128 and parameters: {'topK': 19, 'shrink': 24.950899567891604, 'feature_weighting': 'TF-IDF', 'normalize': False}. Best is trial 231 with value: 0.026510516650028845.\n"
     ]
    },
    {
     "name": "stdout",
     "output_type": "stream",
     "text": [
      "Similarity column 38121 (100.0%), 5192.81 column/sec. Elapsed time 7.34 sec\n",
      "EvaluatorHoldout: Processed 34728 (100.0%) in 8.49 sec. Users per second: 4089\n"
     ]
    },
    {
     "name": "stderr",
     "output_type": "stream",
     "text": [
      "[I 2024-12-14 15:25:26,015] Trial 249 finished with value: 0.026510516650028845 and parameters: {'topK': 5, 'shrink': 24.52237788915591, 'feature_weighting': 'TF-IDF', 'normalize': False}. Best is trial 231 with value: 0.026510516650028845.\n"
     ]
    },
    {
     "name": "stdout",
     "output_type": "stream",
     "text": [
      "Similarity column 38121 (100.0%), 5202.13 column/sec. Elapsed time 7.33 sec\n",
      "EvaluatorHoldout: Processed 34728 (100.0%) in 8.65 sec. Users per second: 4014\n"
     ]
    },
    {
     "name": "stderr",
     "output_type": "stream",
     "text": [
      "[I 2024-12-14 15:25:42,127] Trial 250 finished with value: 0.026510516650028845 and parameters: {'topK': 5, 'shrink': 24.43567787177723, 'feature_weighting': 'TF-IDF', 'normalize': False}. Best is trial 231 with value: 0.026510516650028845.\n"
     ]
    },
    {
     "name": "stdout",
     "output_type": "stream",
     "text": [
      "Similarity column 38121 (100.0%), 5095.38 column/sec. Elapsed time 7.48 sec\n",
      "EvaluatorHoldout: Processed 34728 (100.0%) in 8.75 sec. Users per second: 3968\n"
     ]
    },
    {
     "name": "stderr",
     "output_type": "stream",
     "text": [
      "[I 2024-12-14 15:25:58,495] Trial 251 finished with value: 0.026510516650028845 and parameters: {'topK': 5, 'shrink': 24.461191155778188, 'feature_weighting': 'TF-IDF', 'normalize': False}. Best is trial 231 with value: 0.026510516650028845.\n"
     ]
    },
    {
     "name": "stdout",
     "output_type": "stream",
     "text": [
      "Similarity column 38121 (100.0%), 5141.72 column/sec. Elapsed time 7.41 sec\n",
      "EvaluatorHoldout: Processed 34728 (100.0%) in 8.50 sec. Users per second: 4087\n"
     ]
    },
    {
     "name": "stderr",
     "output_type": "stream",
     "text": [
      "[I 2024-12-14 15:26:14,545] Trial 252 finished with value: 0.026510516650028845 and parameters: {'topK': 5, 'shrink': 24.396130969265265, 'feature_weighting': 'TF-IDF', 'normalize': False}. Best is trial 231 with value: 0.026510516650028845.\n"
     ]
    },
    {
     "name": "stdout",
     "output_type": "stream",
     "text": [
      "Similarity column 38121 (100.0%), 5178.04 column/sec. Elapsed time 7.36 sec\n",
      "EvaluatorHoldout: Processed 34728 (100.0%) in 8.65 sec. Users per second: 4016\n"
     ]
    },
    {
     "name": "stderr",
     "output_type": "stream",
     "text": [
      "[I 2024-12-14 15:26:30,688] Trial 253 finished with value: 0.026510516650028845 and parameters: {'topK': 5, 'shrink': 24.38389652568278, 'feature_weighting': 'TF-IDF', 'normalize': False}. Best is trial 231 with value: 0.026510516650028845.\n"
     ]
    },
    {
     "name": "stdout",
     "output_type": "stream",
     "text": [
      "Similarity column 38121 (100.0%), 5225.73 column/sec. Elapsed time 7.29 sec\n",
      "EvaluatorHoldout: Processed 34728 (100.0%) in 8.57 sec. Users per second: 4054\n"
     ]
    },
    {
     "name": "stderr",
     "output_type": "stream",
     "text": [
      "[I 2024-12-14 15:26:46,684] Trial 254 finished with value: 0.026510516650028845 and parameters: {'topK': 5, 'shrink': 24.420444755828022, 'feature_weighting': 'TF-IDF', 'normalize': False}. Best is trial 231 with value: 0.026510516650028845.\n"
     ]
    },
    {
     "name": "stdout",
     "output_type": "stream",
     "text": [
      "Similarity column 38121 (100.0%), 5262.40 column/sec. Elapsed time 7.24 sec\n",
      "EvaluatorHoldout: Processed 34728 (100.0%) in 8.38 sec. Users per second: 4145\n"
     ]
    },
    {
     "name": "stderr",
     "output_type": "stream",
     "text": [
      "[I 2024-12-14 15:27:02,439] Trial 255 finished with value: 0.026510516650028845 and parameters: {'topK': 5, 'shrink': 24.416662899834897, 'feature_weighting': 'TF-IDF', 'normalize': False}. Best is trial 231 with value: 0.026510516650028845.\n"
     ]
    },
    {
     "name": "stdout",
     "output_type": "stream",
     "text": [
      "Similarity column 38121 (100.0%), 5339.25 column/sec. Elapsed time 7.14 sec\n",
      "EvaluatorHoldout: Processed 34728 (100.0%) in 9.12 sec. Users per second: 3808\n"
     ]
    },
    {
     "name": "stderr",
     "output_type": "stream",
     "text": [
      "[I 2024-12-14 15:27:18,840] Trial 256 finished with value: 0.023715780551258624 and parameters: {'topK': 24, 'shrink': 24.422923547873967, 'feature_weighting': 'BM25', 'normalize': False}. Best is trial 231 with value: 0.026510516650028845.\n"
     ]
    },
    {
     "name": "stdout",
     "output_type": "stream",
     "text": [
      "Similarity column 38121 (100.0%), 5357.07 column/sec. Elapsed time 7.12 sec\n",
      "EvaluatorHoldout: Processed 34728 (100.0%) in 8.39 sec. Users per second: 4137\n"
     ]
    },
    {
     "name": "stderr",
     "output_type": "stream",
     "text": [
      "[I 2024-12-14 15:27:34,480] Trial 257 finished with value: 0.026510516650028845 and parameters: {'topK': 5, 'shrink': 24.39147372672046, 'feature_weighting': 'TF-IDF', 'normalize': False}. Best is trial 231 with value: 0.026510516650028845.\n"
     ]
    },
    {
     "name": "stdout",
     "output_type": "stream",
     "text": [
      "Similarity column 38121 (100.0%), 1650.48 column/sec. Elapsed time 23.10 sec\n",
      "EvaluatorHoldout: Processed 34728 (100.0%) in 8.31 sec. Users per second: 4178\n"
     ]
    },
    {
     "name": "stderr",
     "output_type": "stream",
     "text": [
      "[I 2024-12-14 15:28:06,028] Trial 258 finished with value: 0.025897423240201 and parameters: {'topK': 3, 'shrink': 24.45608644345979, 'feature_weighting': 'TF-IDF', 'normalize': False}. Best is trial 231 with value: 0.026510516650028845.\n"
     ]
    },
    {
     "name": "stdout",
     "output_type": "stream",
     "text": [
      "Similarity column 38121 (100.0%), 5252.67 column/sec. Elapsed time 7.26 sec\n",
      "EvaluatorHoldout: Processed 34728 (100.0%) in 8.35 sec. Users per second: 4159\n"
     ]
    },
    {
     "name": "stderr",
     "output_type": "stream",
     "text": [
      "[I 2024-12-14 15:28:21,770] Trial 259 finished with value: 0.026510516650028845 and parameters: {'topK': 5, 'shrink': 24.870125278266634, 'feature_weighting': 'TF-IDF', 'normalize': False}. Best is trial 231 with value: 0.026510516650028845.\n"
     ]
    },
    {
     "name": "stdout",
     "output_type": "stream",
     "text": [
      "Similarity column 38121 (100.0%), 5395.46 column/sec. Elapsed time 7.07 sec\n",
      "EvaluatorHoldout: Processed 34728 (100.0%) in 8.45 sec. Users per second: 4111\n"
     ]
    },
    {
     "name": "stderr",
     "output_type": "stream",
     "text": [
      "[I 2024-12-14 15:28:37,416] Trial 260 finished with value: 0.026510516650028845 and parameters: {'topK': 5, 'shrink': 24.969998204190937, 'feature_weighting': 'TF-IDF', 'normalize': False}. Best is trial 231 with value: 0.026510516650028845.\n"
     ]
    },
    {
     "name": "stdout",
     "output_type": "stream",
     "text": [
      "Similarity column 38121 (100.0%), 5286.49 column/sec. Elapsed time 7.21 sec\n",
      "EvaluatorHoldout: Processed 34728 (100.0%) in 8.78 sec. Users per second: 3954\n"
     ]
    },
    {
     "name": "stderr",
     "output_type": "stream",
     "text": [
      "[I 2024-12-14 15:28:53,543] Trial 261 finished with value: 0.026411152612776177 and parameters: {'topK': 4, 'shrink': 24.211908199488754, 'feature_weighting': 'TF-IDF', 'normalize': False}. Best is trial 231 with value: 0.026510516650028845.\n"
     ]
    },
    {
     "name": "stdout",
     "output_type": "stream",
     "text": [
      "Similarity column 38121 (100.0%), 5141.90 column/sec. Elapsed time 7.41 sec\n",
      "EvaluatorHoldout: Processed 34728 (100.0%) in 8.62 sec. Users per second: 4028\n"
     ]
    },
    {
     "name": "stderr",
     "output_type": "stream",
     "text": [
      "[I 2024-12-14 15:29:09,718] Trial 262 finished with value: 0.026510516650028845 and parameters: {'topK': 5, 'shrink': 24.663069689410477, 'feature_weighting': 'TF-IDF', 'normalize': False}. Best is trial 231 with value: 0.026510516650028845.\n"
     ]
    },
    {
     "name": "stdout",
     "output_type": "stream",
     "text": [
      "Similarity column 38121 (100.0%), 1636.33 column/sec. Elapsed time 23.30 sec\n",
      "EvaluatorHoldout: Processed 34728 (100.0%) in 8.41 sec. Users per second: 4131\n"
     ]
    },
    {
     "name": "stderr",
     "output_type": "stream",
     "text": [
      "[I 2024-12-14 15:29:41,553] Trial 263 finished with value: 0.02589744380820703 and parameters: {'topK': 3, 'shrink': 23.93362774188256, 'feature_weighting': 'TF-IDF', 'normalize': False}. Best is trial 231 with value: 0.026510516650028845.\n"
     ]
    },
    {
     "name": "stdout",
     "output_type": "stream",
     "text": [
      "Similarity column 38121 (100.0%), 5347.69 column/sec. Elapsed time 7.13 sec\n",
      "EvaluatorHoldout: Processed 34728 (100.0%) in 8.31 sec. Users per second: 4179\n"
     ]
    },
    {
     "name": "stderr",
     "output_type": "stream",
     "text": [
      "[I 2024-12-14 15:29:57,123] Trial 264 finished with value: 0.026510516650028845 and parameters: {'topK': 5, 'shrink': 24.98309461739802, 'feature_weighting': 'TF-IDF', 'normalize': False}. Best is trial 231 with value: 0.026510516650028845.\n"
     ]
    },
    {
     "name": "stdout",
     "output_type": "stream",
     "text": [
      "Similarity column 38121 (100.0%), 5357.91 column/sec. Elapsed time 7.11 sec\n",
      "EvaluatorHoldout: Processed 34728 (100.0%) in 8.28 sec. Users per second: 4193\n"
     ]
    },
    {
     "name": "stderr",
     "output_type": "stream",
     "text": [
      "[I 2024-12-14 15:30:12,653] Trial 265 finished with value: 0.026411152612776177 and parameters: {'topK': 4, 'shrink': 24.400435705998504, 'feature_weighting': 'TF-IDF', 'normalize': False}. Best is trial 231 with value: 0.026510516650028845.\n"
     ]
    },
    {
     "name": "stdout",
     "output_type": "stream",
     "text": [
      "Similarity column 38121 (100.0%), 5396.13 column/sec. Elapsed time 7.06 sec\n",
      "EvaluatorHoldout: Processed 34728 (100.0%) in 8.32 sec. Users per second: 4172\n"
     ]
    },
    {
     "name": "stderr",
     "output_type": "stream",
     "text": [
      "[I 2024-12-14 15:30:28,176] Trial 266 finished with value: 0.02647558874774608 and parameters: {'topK': 5, 'shrink': 23.682130435587926, 'feature_weighting': 'TF-IDF', 'normalize': False}. Best is trial 231 with value: 0.026510516650028845.\n"
     ]
    },
    {
     "name": "stdout",
     "output_type": "stream",
     "text": [
      "Similarity column 38121 (100.0%), 5338.87 column/sec. Elapsed time 7.14 sec\n",
      "EvaluatorHoldout: Processed 34728 (100.0%) in 8.58 sec. Users per second: 4047\n"
     ]
    },
    {
     "name": "stderr",
     "output_type": "stream",
     "text": [
      "[I 2024-12-14 15:30:44,030] Trial 267 finished with value: 0.026411152612776177 and parameters: {'topK': 4, 'shrink': 24.612161452392336, 'feature_weighting': 'TF-IDF', 'normalize': False}. Best is trial 231 with value: 0.026510516650028845.\n"
     ]
    },
    {
     "name": "stdout",
     "output_type": "stream",
     "text": [
      "Similarity column 38121 (100.0%), 1625.31 column/sec. Elapsed time 23.45 sec\n",
      "EvaluatorHoldout: Processed 34728 (100.0%) in 8.58 sec. Users per second: 4046\n"
     ]
    },
    {
     "name": "stderr",
     "output_type": "stream",
     "text": [
      "[I 2024-12-14 15:31:16,202] Trial 268 finished with value: 0.02589744380820703 and parameters: {'topK': 3, 'shrink': 23.778793596808676, 'feature_weighting': 'TF-IDF', 'normalize': False}. Best is trial 231 with value: 0.026510516650028845.\n"
     ]
    },
    {
     "name": "stdout",
     "output_type": "stream",
     "text": [
      "Similarity column 38121 (100.0%), 5206.08 column/sec. Elapsed time 7.32 sec\n",
      "EvaluatorHoldout: Processed 34728 (100.0%) in 8.58 sec. Users per second: 4049\n"
     ]
    },
    {
     "name": "stderr",
     "output_type": "stream",
     "text": [
      "[I 2024-12-14 15:31:32,235] Trial 269 finished with value: 0.026510516650028845 and parameters: {'topK': 5, 'shrink': 24.310624406555977, 'feature_weighting': 'TF-IDF', 'normalize': False}. Best is trial 231 with value: 0.026510516650028845.\n"
     ]
    },
    {
     "name": "stdout",
     "output_type": "stream",
     "text": [
      "Similarity column 38121 (100.0%), 5345.14 column/sec. Elapsed time 7.13 sec\n",
      "EvaluatorHoldout: Processed 34728 (100.0%) in 9.42 sec. Users per second: 3685\n"
     ]
    },
    {
     "name": "stderr",
     "output_type": "stream",
     "text": [
      "[I 2024-12-14 15:31:48,929] Trial 270 finished with value: 0.02545590128088363 and parameters: {'topK': 27, 'shrink': 24.96808509172636, 'feature_weighting': 'TF-IDF', 'normalize': False}. Best is trial 231 with value: 0.026510516650028845.\n"
     ]
    },
    {
     "name": "stdout",
     "output_type": "stream",
     "text": [
      "Similarity column 38121 (100.0%), 5254.53 column/sec. Elapsed time 7.25 sec\n",
      "EvaluatorHoldout: Processed 34728 (100.0%) in 9.74 sec. Users per second: 3564\n"
     ]
    },
    {
     "name": "stderr",
     "output_type": "stream",
     "text": [
      "[I 2024-12-14 15:32:06,084] Trial 271 finished with value: 0.02525690125163123 and parameters: {'topK': 37, 'shrink': 24.554266989340473, 'feature_weighting': 'TF-IDF', 'normalize': False}. Best is trial 231 with value: 0.026510516650028845.\n"
     ]
    },
    {
     "name": "stdout",
     "output_type": "stream",
     "text": [
      "Similarity column 38121 (100.0%), 5217.74 column/sec. Elapsed time 7.31 sec\n",
      "EvaluatorHoldout: Processed 34728 (100.0%) in 8.77 sec. Users per second: 3958\n"
     ]
    },
    {
     "name": "stderr",
     "output_type": "stream",
     "text": [
      "[I 2024-12-14 15:32:22,300] Trial 272 finished with value: 0.02647558874774608 and parameters: {'topK': 5, 'shrink': 23.71910380934276, 'feature_weighting': 'TF-IDF', 'normalize': False}. Best is trial 231 with value: 0.026510516650028845.\n"
     ]
    },
    {
     "name": "stdout",
     "output_type": "stream",
     "text": [
      "Similarity column 38121 (100.0%), 5066.43 column/sec. Elapsed time 7.52 sec\n",
      "EvaluatorHoldout: Processed 34728 (100.0%) in 8.57 sec. Users per second: 4052\n"
     ]
    },
    {
     "name": "stderr",
     "output_type": "stream",
     "text": [
      "[I 2024-12-14 15:32:38,534] Trial 273 finished with value: 0.026411152612776177 and parameters: {'topK': 4, 'shrink': 24.169877724465426, 'feature_weighting': 'TF-IDF', 'normalize': False}. Best is trial 231 with value: 0.026510516650028845.\n"
     ]
    },
    {
     "name": "stdout",
     "output_type": "stream",
     "text": [
      "Similarity column 38121 (100.0%), 1591.44 column/sec. Elapsed time 23.95 sec\n",
      "EvaluatorHoldout: Processed 34728 (100.0%) in 8.76 sec. Users per second: 3964\n"
     ]
    },
    {
     "name": "stderr",
     "output_type": "stream",
     "text": [
      "[I 2024-12-14 15:33:11,389] Trial 274 finished with value: 0.025897423240201 and parameters: {'topK': 3, 'shrink': 24.639487209597668, 'feature_weighting': 'TF-IDF', 'normalize': False}. Best is trial 231 with value: 0.026510516650028845.\n"
     ]
    },
    {
     "name": "stdout",
     "output_type": "stream",
     "text": [
      "Similarity column 38121 (100.0%), 5071.15 column/sec. Elapsed time 7.52 sec\n",
      "EvaluatorHoldout: Processed 34728 (100.0%) in 8.73 sec. Users per second: 3976\n"
     ]
    },
    {
     "name": "stderr",
     "output_type": "stream",
     "text": [
      "[I 2024-12-14 15:33:27,774] Trial 275 finished with value: 0.026510516650028845 and parameters: {'topK': 5, 'shrink': 24.898240004167096, 'feature_weighting': 'TF-IDF', 'normalize': False}. Best is trial 231 with value: 0.026510516650028845.\n"
     ]
    },
    {
     "name": "stdout",
     "output_type": "stream",
     "text": [
      "Similarity column 38121 (100.0%), 5223.09 column/sec. Elapsed time 7.30 sec\n",
      "EvaluatorHoldout: Processed 34728 (100.0%) in 8.74 sec. Users per second: 3974\n"
     ]
    },
    {
     "name": "stderr",
     "output_type": "stream",
     "text": [
      "[I 2024-12-14 15:33:43,947] Trial 276 finished with value: 0.026411152612776177 and parameters: {'topK': 4, 'shrink': 24.18148817549773, 'feature_weighting': 'TF-IDF', 'normalize': False}. Best is trial 231 with value: 0.026510516650028845.\n"
     ]
    },
    {
     "name": "stdout",
     "output_type": "stream",
     "text": [
      "Similarity column 38121 (100.0%), 1597.64 column/sec. Elapsed time 23.86 sec\n",
      "EvaluatorHoldout: Processed 34728 (100.0%) in 8.64 sec. Users per second: 4018\n"
     ]
    },
    {
     "name": "stderr",
     "output_type": "stream",
     "text": [
      "[I 2024-12-14 15:34:16,598] Trial 277 finished with value: 0.02396398724966414 and parameters: {'topK': 3, 'shrink': 23.711624322665493, 'feature_weighting': 'BM25', 'normalize': False}. Best is trial 231 with value: 0.026510516650028845.\n"
     ]
    },
    {
     "name": "stdout",
     "output_type": "stream",
     "text": [
      "Similarity column 38121 (100.0%), 5218.11 column/sec. Elapsed time 7.31 sec\n",
      "EvaluatorHoldout: Processed 34728 (100.0%) in 8.75 sec. Users per second: 3971\n"
     ]
    },
    {
     "name": "stderr",
     "output_type": "stream",
     "text": [
      "[I 2024-12-14 15:34:32,783] Trial 278 finished with value: 0.026510516650028845 and parameters: {'topK': 5, 'shrink': 24.333147840274698, 'feature_weighting': 'TF-IDF', 'normalize': False}. Best is trial 231 with value: 0.026510516650028845.\n"
     ]
    },
    {
     "name": "stdout",
     "output_type": "stream",
     "text": [
      "Similarity column 38121 (100.0%), 5168.65 column/sec. Elapsed time 7.38 sec\n",
      "EvaluatorHoldout: Processed 34728 (100.0%) in 8.61 sec. Users per second: 4033\n"
     ]
    },
    {
     "name": "stderr",
     "output_type": "stream",
     "text": [
      "[I 2024-12-14 15:34:48,907] Trial 279 finished with value: 0.026510516650028845 and parameters: {'topK': 5, 'shrink': 24.93753460346972, 'feature_weighting': 'TF-IDF', 'normalize': False}. Best is trial 231 with value: 0.026510516650028845.\n"
     ]
    },
    {
     "name": "stdout",
     "output_type": "stream",
     "text": [
      "Similarity column 38121 (100.0%), 5162.91 column/sec. Elapsed time 7.38 sec\n",
      "EvaluatorHoldout: Processed 34728 (100.0%) in 8.48 sec. Users per second: 4094\n"
     ]
    },
    {
     "name": "stderr",
     "output_type": "stream",
     "text": [
      "[I 2024-12-14 15:35:04,915] Trial 280 finished with value: 0.026411152612776177 and parameters: {'topK': 4, 'shrink': 24.398204938802177, 'feature_weighting': 'TF-IDF', 'normalize': False}. Best is trial 231 with value: 0.026510516650028845.\n"
     ]
    },
    {
     "name": "stdout",
     "output_type": "stream",
     "text": [
      "Similarity column 38121 (100.0%), 5176.41 column/sec. Elapsed time 7.36 sec\n",
      "EvaluatorHoldout: Processed 34728 (100.0%) in 8.85 sec. Users per second: 3924\n"
     ]
    },
    {
     "name": "stderr",
     "output_type": "stream",
     "text": [
      "[I 2024-12-14 15:35:21,265] Trial 281 finished with value: 0.026411152612776177 and parameters: {'topK': 4, 'shrink': 24.998053755001465, 'feature_weighting': 'TF-IDF', 'normalize': False}. Best is trial 231 with value: 0.026510516650028845.\n"
     ]
    },
    {
     "name": "stdout",
     "output_type": "stream",
     "text": [
      "Similarity column 38121 (100.0%), 1623.05 column/sec. Elapsed time 23.49 sec\n",
      "EvaluatorHoldout: Processed 34728 (100.0%) in 8.78 sec. Users per second: 3954\n"
     ]
    },
    {
     "name": "stderr",
     "output_type": "stream",
     "text": [
      "[I 2024-12-14 15:35:53,687] Trial 282 finished with value: 0.02589744380820703 and parameters: {'topK': 3, 'shrink': 23.678439314792413, 'feature_weighting': 'TF-IDF', 'normalize': False}. Best is trial 231 with value: 0.026510516650028845.\n"
     ]
    },
    {
     "name": "stdout",
     "output_type": "stream",
     "text": [
      "Similarity column 38121 (100.0%), 4808.40 column/sec. Elapsed time 7.93 sec\n",
      "EvaluatorHoldout: Processed 34728 (100.0%) in 8.75 sec. Users per second: 3968\n"
     ]
    },
    {
     "name": "stderr",
     "output_type": "stream",
     "text": [
      "[I 2024-12-14 15:36:10,514] Trial 283 finished with value: 0.026510516650028845 and parameters: {'topK': 5, 'shrink': 24.046613203712685, 'feature_weighting': 'TF-IDF', 'normalize': False}. Best is trial 231 with value: 0.026510516650028845.\n"
     ]
    },
    {
     "name": "stdout",
     "output_type": "stream",
     "text": [
      "Similarity column 38121 (100.0%), 5145.64 column/sec. Elapsed time 7.41 sec\n",
      "EvaluatorHoldout: Processed 34728 (100.0%) in 8.73 sec. Users per second: 3980\n"
     ]
    },
    {
     "name": "stderr",
     "output_type": "stream",
     "text": [
      "[I 2024-12-14 15:36:26,795] Trial 284 finished with value: 0.026411152612776177 and parameters: {'topK': 4, 'shrink': 24.493605545251963, 'feature_weighting': 'TF-IDF', 'normalize': False}. Best is trial 231 with value: 0.026510516650028845.\n"
     ]
    },
    {
     "name": "stdout",
     "output_type": "stream",
     "text": [
      "Similarity column 38121 (100.0%), 5146.38 column/sec. Elapsed time 7.41 sec\n",
      "EvaluatorHoldout: Processed 34728 (100.0%) in 8.83 sec. Users per second: 3933\n"
     ]
    },
    {
     "name": "stderr",
     "output_type": "stream",
     "text": [
      "[I 2024-12-14 15:36:43,170] Trial 285 finished with value: 0.026262357943637606 and parameters: {'topK': 7, 'shrink': 24.598039079313228, 'feature_weighting': 'TF-IDF', 'normalize': False}. Best is trial 231 with value: 0.026510516650028845.\n"
     ]
    },
    {
     "name": "stdout",
     "output_type": "stream",
     "text": [
      "Similarity column 38121 (100.0%), 5191.25 column/sec. Elapsed time 7.34 sec\n",
      "EvaluatorHoldout: Processed 34728 (100.0%) in 8.66 sec. Users per second: 4012\n"
     ]
    },
    {
     "name": "stderr",
     "output_type": "stream",
     "text": [
      "[I 2024-12-14 15:36:59,309] Trial 286 finished with value: 0.026510516650028845 and parameters: {'topK': 5, 'shrink': 24.10074084585787, 'feature_weighting': 'TF-IDF', 'normalize': False}. Best is trial 231 with value: 0.026510516650028845.\n"
     ]
    },
    {
     "name": "stdout",
     "output_type": "stream",
     "text": [
      "Similarity column 38121 (100.0%), 5235.15 column/sec. Elapsed time 7.28 sec\n",
      "EvaluatorHoldout: Processed 34728 (100.0%) in 8.93 sec. Users per second: 3890\n"
     ]
    },
    {
     "name": "stderr",
     "output_type": "stream",
     "text": [
      "[I 2024-12-14 15:37:15,664] Trial 287 finished with value: 0.025739401535012717 and parameters: {'topK': 16, 'shrink': 23.621802123979066, 'feature_weighting': 'TF-IDF', 'normalize': False}. Best is trial 231 with value: 0.026510516650028845.\n"
     ]
    },
    {
     "name": "stdout",
     "output_type": "stream",
     "text": [
      "Similarity column 38121 (100.0%), 5292.97 column/sec. Elapsed time 7.20 sec\n",
      "EvaluatorHoldout: Processed 34728 (100.0%) in 8.56 sec. Users per second: 4058\n"
     ]
    },
    {
     "name": "stderr",
     "output_type": "stream",
     "text": [
      "[I 2024-12-14 15:37:31,560] Trial 288 finished with value: 0.026262357943637606 and parameters: {'topK': 7, 'shrink': 24.59503537598604, 'feature_weighting': 'TF-IDF', 'normalize': False}. Best is trial 231 with value: 0.026510516650028845.\n"
     ]
    },
    {
     "name": "stdout",
     "output_type": "stream",
     "text": [
      "Similarity column 38121 (100.0%), 1638.08 column/sec. Elapsed time 23.27 sec\n",
      "EvaluatorHoldout: Processed 34728 (100.0%) in 8.41 sec. Users per second: 4131\n"
     ]
    },
    {
     "name": "stderr",
     "output_type": "stream",
     "text": [
      "[I 2024-12-14 15:38:03,373] Trial 289 finished with value: 0.025897423240201 and parameters: {'topK': 3, 'shrink': 24.989255034117328, 'feature_weighting': 'TF-IDF', 'normalize': False}. Best is trial 231 with value: 0.026510516650028845.\n"
     ]
    },
    {
     "name": "stdout",
     "output_type": "stream",
     "text": [
      "Similarity column 38121 (100.0%), 5326.66 column/sec. Elapsed time 7.16 sec\n",
      "EvaluatorHoldout: Processed 34728 (100.0%) in 8.42 sec. Users per second: 4125\n"
     ]
    },
    {
     "name": "stderr",
     "output_type": "stream",
     "text": [
      "[I 2024-12-14 15:38:19,081] Trial 290 finished with value: 0.026510516650028845 and parameters: {'topK': 5, 'shrink': 24.122752183506208, 'feature_weighting': 'TF-IDF', 'normalize': False}. Best is trial 231 with value: 0.026510516650028845.\n"
     ]
    },
    {
     "name": "stdout",
     "output_type": "stream",
     "text": [
      "Similarity column 38121 (100.0%), 5295.10 column/sec. Elapsed time 7.20 sec\n",
      "EvaluatorHoldout: Processed 34728 (100.0%) in 8.39 sec. Users per second: 4137\n"
     ]
    },
    {
     "name": "stderr",
     "output_type": "stream",
     "text": [
      "[I 2024-12-14 15:38:34,809] Trial 291 finished with value: 0.026411152612776177 and parameters: {'topK': 4, 'shrink': 24.51047014237922, 'feature_weighting': 'TF-IDF', 'normalize': False}. Best is trial 231 with value: 0.026510516650028845.\n"
     ]
    },
    {
     "name": "stdout",
     "output_type": "stream",
     "text": [
      "Similarity column 38121 (100.0%), 5277.21 column/sec. Elapsed time 7.22 sec\n",
      "EvaluatorHoldout: Processed 34728 (100.0%) in 8.49 sec. Users per second: 4089\n"
     ]
    },
    {
     "name": "stderr",
     "output_type": "stream",
     "text": [
      "[I 2024-12-14 15:38:50,658] Trial 292 finished with value: 0.026510516650028845 and parameters: {'topK': 5, 'shrink': 24.083649617615873, 'feature_weighting': 'TF-IDF', 'normalize': False}. Best is trial 231 with value: 0.026510516650028845.\n"
     ]
    },
    {
     "name": "stdout",
     "output_type": "stream",
     "text": [
      "Similarity column 38121 (100.0%), 5283.77 column/sec. Elapsed time 7.21 sec\n",
      "EvaluatorHoldout: Processed 34728 (100.0%) in 8.46 sec. Users per second: 4106\n"
     ]
    },
    {
     "name": "stderr",
     "output_type": "stream",
     "text": [
      "[I 2024-12-14 15:39:06,464] Trial 293 finished with value: 0.026510516650028845 and parameters: {'topK': 5, 'shrink': 24.97017001073948, 'feature_weighting': 'TF-IDF', 'normalize': False}. Best is trial 231 with value: 0.026510516650028845.\n"
     ]
    },
    {
     "name": "stdout",
     "output_type": "stream",
     "text": [
      "Similarity column 38121 (100.0%), 2305.23 column/sec. Elapsed time 16.54 sec\n",
      "EvaluatorHoldout: Processed 34728 (100.0%) in 8.36 sec. Users per second: 4153\n"
     ]
    },
    {
     "name": "stderr",
     "output_type": "stream",
     "text": [
      "[I 2024-12-14 15:39:31,498] Trial 294 finished with value: 0.025167833786743157 and parameters: {'topK': 2, 'shrink': 23.602797981819116, 'feature_weighting': 'TF-IDF', 'normalize': False}. Best is trial 231 with value: 0.026510516650028845.\n"
     ]
    },
    {
     "name": "stdout",
     "output_type": "stream",
     "text": [
      "Similarity column 38121 (100.0%), 5286.10 column/sec. Elapsed time 7.21 sec\n",
      "EvaluatorHoldout: Processed 34728 (100.0%) in 8.47 sec. Users per second: 4100\n"
     ]
    },
    {
     "name": "stderr",
     "output_type": "stream",
     "text": [
      "[I 2024-12-14 15:39:47,315] Trial 295 finished with value: 0.026262357943637606 and parameters: {'topK': 7, 'shrink': 24.491476950386208, 'feature_weighting': 'TF-IDF', 'normalize': False}. Best is trial 231 with value: 0.026510516650028845.\n"
     ]
    },
    {
     "name": "stdout",
     "output_type": "stream",
     "text": [
      "Similarity column 38121 (100.0%), 1635.61 column/sec. Elapsed time 23.31 sec\n",
      "EvaluatorHoldout: Processed 34728 (100.0%) in 8.29 sec. Users per second: 4188\n"
     ]
    },
    {
     "name": "stderr",
     "output_type": "stream",
     "text": [
      "[I 2024-12-14 15:40:19,045] Trial 296 finished with value: 0.025897423240201 and parameters: {'topK': 3, 'shrink': 24.994990654093055, 'feature_weighting': 'TF-IDF', 'normalize': False}. Best is trial 231 with value: 0.026510516650028845.\n"
     ]
    },
    {
     "name": "stdout",
     "output_type": "stream",
     "text": [
      "Similarity column 38121 (100.0%), 5159.12 column/sec. Elapsed time 7.39 sec\n",
      "EvaluatorHoldout: Processed 34728 (100.0%) in 9.27 sec. Users per second: 3748\n"
     ]
    },
    {
     "name": "stderr",
     "output_type": "stream",
     "text": [
      "[I 2024-12-14 15:40:35,836] Trial 297 finished with value: 0.026262357943637606 and parameters: {'topK': 7, 'shrink': 24.047359954756924, 'feature_weighting': 'TF-IDF', 'normalize': False}. Best is trial 231 with value: 0.026510516650028845.\n"
     ]
    },
    {
     "name": "stdout",
     "output_type": "stream",
     "text": [
      "Similarity column 38121 (100.0%), 5305.13 column/sec. Elapsed time 7.19 sec\n",
      "EvaluatorHoldout: Processed 34728 (100.0%) in 8.53 sec. Users per second: 4072\n"
     ]
    },
    {
     "name": "stderr",
     "output_type": "stream",
     "text": [
      "[I 2024-12-14 15:40:51,703] Trial 298 finished with value: 0.026510516650028845 and parameters: {'topK': 5, 'shrink': 24.33024928597077, 'feature_weighting': 'TF-IDF', 'normalize': False}. Best is trial 231 with value: 0.026510516650028845.\n"
     ]
    },
    {
     "name": "stdout",
     "output_type": "stream",
     "text": [
      "Similarity column 38121 (100.0%), 5162.90 column/sec. Elapsed time 7.38 sec\n",
      "EvaluatorHoldout: Processed 34728 (100.0%) in 8.64 sec. Users per second: 4018\n"
     ]
    },
    {
     "name": "stderr",
     "output_type": "stream",
     "text": [
      "[I 2024-12-14 15:41:07,877] Trial 299 finished with value: 0.024445290018026297 and parameters: {'topK': 4, 'shrink': 23.568471338458384, 'feature_weighting': 'BM25', 'normalize': False}. Best is trial 231 with value: 0.026510516650028845.\n"
     ]
    }
   ],
   "source": [
    "optuna_study = op.create_study(direction=\"maximize\")\n",
    "        \n",
    "save_results_tanimoto = SaveResults()\n",
    "        \n",
    "optuna_study.optimize(objective_function_KNN,\n",
    "                      callbacks=[save_results_tanimoto],\n",
    "                      n_trials = 300)"
   ]
  },
  {
   "cell_type": "code",
   "execution_count": 39,
   "id": "8337f9d0-17b3-4db1-9bf2-2d698b7b6dbc",
   "metadata": {},
   "outputs": [],
   "source": [
    "save_results_tanimoto.results_df.to_csv(\"result_experiments/ItemKNNCFRecommender/results_tanimoto.csv\")"
   ]
  },
  {
   "cell_type": "code",
   "execution_count": 18,
   "id": "e2f1f652-aa78-40e2-a336-f3d7e1cc0c44",
   "metadata": {},
   "outputs": [
    {
     "data": {
      "text/plain": [
       "0.0263499559387598"
      ]
     },
     "execution_count": 18,
     "metadata": {},
     "output_type": "execute_result"
    }
   ],
   "source": [
    "save_results_cosine.results_df['result'].max() "
   ]
  },
  {
   "cell_type": "code",
   "execution_count": 33,
   "id": "3aa4441b-1c1d-49bb-8ee2-edf45f5a4981",
   "metadata": {},
   "outputs": [],
   "source": [
    "save_results_adjusted.results_df.to_csv(\"result_experiments/ItemKNNCFRecommender/results_adjusted.csv\")"
   ]
  },
  {
   "cell_type": "code",
   "execution_count": null,
   "id": "a1d4f7ab-5e08-40cd-a041-1dc60f7e8a2b",
   "metadata": {},
   "outputs": [],
   "source": []
  }
 ],
 "metadata": {
  "kernelspec": {
   "display_name": "RecSys",
   "language": "python",
   "name": "recsys"
  },
  "language_info": {
   "codemirror_mode": {
    "name": "ipython",
    "version": 3
   },
   "file_extension": ".py",
   "mimetype": "text/x-python",
   "name": "python",
   "nbconvert_exporter": "python",
   "pygments_lexer": "ipython3",
   "version": "3.12.7"
  }
 },
 "nbformat": 4,
 "nbformat_minor": 5
}
