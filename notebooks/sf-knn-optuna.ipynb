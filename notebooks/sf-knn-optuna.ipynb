{
 "cells": [
  {
   "cell_type": "code",
   "execution_count": 1,
   "id": "427ee9c7-c5eb-4576-9f92-d74e65fe1ff2",
   "metadata": {},
   "outputs": [],
   "source": [
    "from pathlib import Path\n",
    "import sys  \n",
    "import os\n",
    "import pandas as pd \n",
    "from datetime import datetime\n",
    "import scipy.sparse as sps\n",
    "from numpy import linalg as LA\n",
    "\n",
    "import numpy as np\n",
    "from operator import itemgetter\n",
    "import optuna as op"
   ]
  },
  {
   "cell_type": "code",
   "execution_count": 2,
   "id": "093f7ac7-6d4f-465e-ab41-a35175a951d9",
   "metadata": {},
   "outputs": [],
   "source": [
    "sys.path.append(os.path.abspath(os.path.join(os.getcwd(), \"..\", \"libs\")))\n",
    "sys.path.append(os.path.abspath(os.path.join(os.getcwd(), \"..\")))\n",
    "sys.path.append(os.path.abspath(os.path.join(os.getcwd(), \"..\", \"src\")))"
   ]
  },
  {
   "cell_type": "code",
   "execution_count": 3,
   "id": "fdfa0eeb-aec3-4bae-9dcd-13d6332998b0",
   "metadata": {},
   "outputs": [],
   "source": [
    "%load_ext autoreload\n",
    "%autoreload 2"
   ]
  },
  {
   "cell_type": "code",
   "execution_count": 4,
   "id": "bdf9b1fa-533b-4e8a-95a2-ff86d3b89dde",
   "metadata": {},
   "outputs": [],
   "source": [
    "from Utils.load_URM import load_URM\n",
    "from Utils.load_ICM import load_ICM\n",
    "\n",
    "from scipy.sparse import hstack, vstack\n",
    "from Evaluation.Evaluator import EvaluatorHoldout\n",
    "from Data_manager.split_functions.split_train_validation_random_holdout import split_train_in_two_percentage_global_sample\n",
    "\n",
    "URM_all = load_URM(\"../data/data_train.csv\")\n",
    "ICM_all = load_ICM(\"../data/data_ICM_metadata.csv\")"
   ]
  },
  {
   "cell_type": "code",
   "execution_count": 5,
   "id": "9f73f948-e55c-4683-a283-5d256fda3580",
   "metadata": {},
   "outputs": [
    {
     "name": "stdout",
     "output_type": "stream",
     "text": [
      "Warning: 168 (0.47 %) of 35736 users have no sampled items\n"
     ]
    }
   ],
   "source": [
    "URM_train, URM_validation = split_train_in_two_percentage_global_sample(URM_all, train_percentage = 0.80)"
   ]
  },
  {
   "cell_type": "code",
   "execution_count": 6,
   "id": "126b0641-8559-4a8d-a09b-d64a0a38add1",
   "metadata": {},
   "outputs": [
    {
     "name": "stdout",
     "output_type": "stream",
     "text": [
      "EvaluatorHoldout: Ignoring 168 ( 0.5%) Users that have less than 1 test interactions\n"
     ]
    }
   ],
   "source": [
    "evaluator_validation = EvaluatorHoldout(URM_validation, cutoff_list=[10])"
   ]
  },
  {
   "cell_type": "code",
   "execution_count": 7,
   "id": "7de5e196-193e-47d5-8980-f12028eaa0a1",
   "metadata": {},
   "outputs": [],
   "source": [
    "from libs.Recommenders.KNN.ItemKNNCFRecommender import ItemKNNCFRecommender"
   ]
  },
  {
   "cell_type": "code",
   "execution_count": 9,
   "id": "b8f67403-803c-4616-96fd-d94f48e1125c",
   "metadata": {},
   "outputs": [
    {
     "name": "stdout",
     "output_type": "stream",
     "text": [
      "Similarity column 38121 (100.0%), 4609.88 column/sec. Elapsed time 8.27 sec\n"
     ]
    }
   ],
   "source": [
    "ItemKNNCFRecommender(URM_train).fit(similarity=\"asymmetric\")"
   ]
  },
  {
   "cell_type": "code",
   "execution_count": 8,
   "id": "c64a8998-643f-4d59-b65f-794d5cea619e",
   "metadata": {},
   "outputs": [],
   "source": [
    "def objective_function_KNN(optuna_trial):\n",
    "                       \n",
    "        \n",
    "    recommender_instance = ItemKNNCFRecommender(URM_train)\n",
    "    \n",
    "    similarity = 'asymmetric'\n",
    "    \n",
    "    full_hyperp = {\"similarity\": similarity,\n",
    "                   \"topK\": optuna_trial.suggest_int(\"topK\", 2, 100),\n",
    "                   \"shrink\": optuna_trial.suggest_int(\"shrink\", 1 , 50),\n",
    "                   \"feature_weighting\": optuna_trial.suggest_categorical(\"feature_weighting\", [\"BM25\", \"TF-IDF\", \"none\"])\n",
    "                  }\n",
    "    \n",
    "    if similarity == \"asymmetric\":\n",
    "        full_hyperp[\"asymmetric_alpha\"] = optuna_trial.suggest_float(\"asymmetric_alpha\", 0, 2, log=False)\n",
    "        full_hyperp[\"normalize\"] = True\n",
    "\n",
    "    elif similarity == \"tversky\":\n",
    "        full_hyperp[\"tversky_alpha\"] = optuna_trial.suggest_float(\"tversky_alpha\", 0.1, 0.99, log=False)\n",
    "        full_hyperp[\"tversky_beta\"] = optuna_trial.suggest_float(\"tversky_beta\", 0.1, 1.9, log=False)\n",
    "        full_hyperp[\"normalize\"] = True \n",
    "\n",
    "    elif similarity == \"euclidean\":\n",
    "        full_hyperp[\"normalize_avg_row\"] = optuna_trial.suggest_categorical(\"normalize_avg_row\", [True, False])\n",
    "        full_hyperp[\"similarity_from_distance_mode\"] = optuna_trial.suggest_categorical(\"similarity_from_distance_mode\", [\"lin\", \"log\", \"exp\"])\n",
    "        full_hyperp[\"normalize\"] = optuna_trial.suggest_categorical(\"normalize\", [True, False])\n",
    "        \n",
    "    \n",
    "    recommender_instance.fit(**full_hyperp)\n",
    "    \n",
    "    eval_res, _ = evaluator_validation.evaluateRecommender(recommender_instance)    \n",
    "    return eval_res[\"MAP\"][10]"
   ]
  },
  {
   "cell_type": "code",
   "execution_count": 9,
   "id": "37d51566-0b96-4767-b79b-dc10521ebfb6",
   "metadata": {},
   "outputs": [],
   "source": [
    "class SaveResults(object):\n",
    "    \n",
    "    def __init__(self):\n",
    "        self.results_df = pd.DataFrame()\n",
    "    \n",
    "    def __call__(self, optuna_study, optuna_trial):\n",
    "        hyperparam_dict = optuna_trial.params.copy()\n",
    "        hyperparam_dict[\"result\"] = optuna_trial.values[0]\n",
    "        \n",
    "        \n",
    "        self.results_df = self.results_df._append(hyperparam_dict, ignore_index=True)"
   ]
  },
  {
   "cell_type": "code",
   "execution_count": null,
   "id": "325be9e0-75d1-4cb8-afd4-5c44db69051c",
   "metadata": {
    "scrolled": true
   },
   "outputs": [
    {
     "name": "stderr",
     "output_type": "stream",
     "text": [
      "[I 2024-12-10 22:35:51,844] A new study created in memory with name: no-name-c58e2f81-95a1-4a3b-a51e-ae6d3bb7c8c2\n"
     ]
    },
    {
     "name": "stdout",
     "output_type": "stream",
     "text": [
      "Similarity column 38121 (100.0%), 4783.27 column/sec. Elapsed time 7.97 sec\n",
      "EvaluatorHoldout: Processed 35568 (100.0%) in 10.59 sec. Users per second: 3357\n"
     ]
    },
    {
     "name": "stderr",
     "output_type": "stream",
     "text": [
      "[I 2024-12-10 22:36:10,476] Trial 0 finished with value: 0.03958238277317092 and parameters: {'topK': 16, 'shrink': 27, 'feature_weighting': 'none', 'asymmetric_alpha': 0.9838746470798099}. Best is trial 0 with value: 0.03958238277317092.\n"
     ]
    },
    {
     "name": "stdout",
     "output_type": "stream",
     "text": [
      "Similarity column 38121 (100.0%), 4800.97 column/sec. Elapsed time 7.94 sec\n",
      "EvaluatorHoldout: Processed 35568 (100.0%) in 11.25 sec. Users per second: 3162\n"
     ]
    },
    {
     "name": "stderr",
     "output_type": "stream",
     "text": [
      "[I 2024-12-10 22:36:29,705] Trial 1 finished with value: 0.029091866953708544 and parameters: {'topK': 16, 'shrink': 42, 'feature_weighting': 'none', 'asymmetric_alpha': 1.6420970121958254}. Best is trial 0 with value: 0.03958238277317092.\n"
     ]
    },
    {
     "name": "stdout",
     "output_type": "stream",
     "text": [
      "Similarity column 38121 (100.0%), 4864.86 column/sec. Elapsed time 7.84 sec\n",
      "EvaluatorHoldout: Processed 35568 (100.0%) in 14.96 sec. Users per second: 2377\n"
     ]
    },
    {
     "name": "stderr",
     "output_type": "stream",
     "text": [
      "[I 2024-12-10 22:36:52,561] Trial 2 finished with value: 0.03630479332233616 and parameters: {'topK': 70, 'shrink': 28, 'feature_weighting': 'none', 'asymmetric_alpha': 1.0427941583336622}. Best is trial 0 with value: 0.03958238277317092.\n"
     ]
    },
    {
     "name": "stdout",
     "output_type": "stream",
     "text": [
      "Similarity column 38121 (100.0%), 4705.30 column/sec. Elapsed time 8.10 sec\n",
      "EvaluatorHoldout: Processed 35568 (100.0%) in 10.20 sec. Users per second: 3486\n"
     ]
    },
    {
     "name": "stderr",
     "output_type": "stream",
     "text": [
      "[I 2024-12-10 22:37:10,948] Trial 3 finished with value: 0.04079702795985566 and parameters: {'topK': 30, 'shrink': 30, 'feature_weighting': 'BM25', 'asymmetric_alpha': 1.1224800644299682}. Best is trial 3 with value: 0.04079702795985566.\n"
     ]
    },
    {
     "name": "stdout",
     "output_type": "stream",
     "text": [
      "Similarity column 38121 (100.0%), 4678.36 column/sec. Elapsed time 8.15 sec\n",
      "EvaluatorHoldout: Processed 35568 (100.0%) in 11.35 sec. Users per second: 3135\n"
     ]
    },
    {
     "name": "stderr",
     "output_type": "stream",
     "text": [
      "[I 2024-12-10 22:37:30,534] Trial 4 finished with value: 0.04685049295246516 and parameters: {'topK': 82, 'shrink': 22, 'feature_weighting': 'TF-IDF', 'asymmetric_alpha': 0.4423711675039055}. Best is trial 4 with value: 0.04685049295246516.\n"
     ]
    },
    {
     "name": "stdout",
     "output_type": "stream",
     "text": [
      "Similarity column 38121 (100.0%), 4746.26 column/sec. Elapsed time 8.03 sec\n",
      "EvaluatorHoldout: Processed 35568 (100.0%) in 9.95 sec. Users per second: 3575\n"
     ]
    },
    {
     "name": "stderr",
     "output_type": "stream",
     "text": [
      "[I 2024-12-10 22:37:48,555] Trial 5 finished with value: 0.04179748918235616 and parameters: {'topK': 13, 'shrink': 50, 'feature_weighting': 'none', 'asymmetric_alpha': 0.9417099640356295}. Best is trial 4 with value: 0.04685049295246516.\n"
     ]
    },
    {
     "name": "stdout",
     "output_type": "stream",
     "text": [
      "Similarity column 38121 (100.0%), 4850.98 column/sec. Elapsed time 7.86 sec\n",
      "EvaluatorHoldout: Processed 35568 (100.0%) in 16.41 sec. Users per second: 2167\n"
     ]
    },
    {
     "name": "stderr",
     "output_type": "stream",
     "text": [
      "[I 2024-12-10 22:38:12,884] Trial 6 finished with value: 0.013571470967304556 and parameters: {'topK': 83, 'shrink': 6, 'feature_weighting': 'none', 'asymmetric_alpha': 1.642116508784345}. Best is trial 4 with value: 0.04685049295246516.\n"
     ]
    },
    {
     "name": "stdout",
     "output_type": "stream",
     "text": [
      "Similarity column 38121 (100.0%), 4931.25 column/sec. Elapsed time 7.73 sec\n",
      "EvaluatorHoldout: Processed 35568 (100.0%) in 11.58 sec. Users per second: 3071\n"
     ]
    },
    {
     "name": "stderr",
     "output_type": "stream",
     "text": [
      "[I 2024-12-10 22:38:32,268] Trial 7 finished with value: 0.013323350220280307 and parameters: {'topK': 14, 'shrink': 47, 'feature_weighting': 'TF-IDF', 'asymmetric_alpha': 1.3589689089302557}. Best is trial 4 with value: 0.04685049295246516.\n"
     ]
    },
    {
     "name": "stdout",
     "output_type": "stream",
     "text": [
      "Similarity column 38121 (100.0%), 4806.54 column/sec. Elapsed time 7.93 sec\n",
      "EvaluatorHoldout: Processed 35568 (100.0%) in 10.77 sec. Users per second: 3301\n"
     ]
    },
    {
     "name": "stderr",
     "output_type": "stream",
     "text": [
      "[I 2024-12-10 22:38:51,031] Trial 8 finished with value: 0.04607848190633097 and parameters: {'topK': 72, 'shrink': 13, 'feature_weighting': 'none', 'asymmetric_alpha': 0.45175701079506614}. Best is trial 4 with value: 0.04685049295246516.\n"
     ]
    },
    {
     "name": "stdout",
     "output_type": "stream",
     "text": [
      "Similarity column 38121 (100.0%), 4928.67 column/sec. Elapsed time 7.73 sec\n",
      "EvaluatorHoldout: Processed 35568 (100.0%) in 10.00 sec. Users per second: 3557\n"
     ]
    },
    {
     "name": "stderr",
     "output_type": "stream",
     "text": [
      "[I 2024-12-10 22:39:08,840] Trial 9 finished with value: 0.04751706657134122 and parameters: {'topK': 56, 'shrink': 39, 'feature_weighting': 'TF-IDF', 'asymmetric_alpha': 0.44640396626097223}. Best is trial 9 with value: 0.04751706657134122.\n"
     ]
    },
    {
     "name": "stdout",
     "output_type": "stream",
     "text": [
      "Similarity column 38121 (100.0%), 4876.14 column/sec. Elapsed time 7.82 sec\n",
      "EvaluatorHoldout: Processed 35568 (100.0%) in 9.38 sec. Users per second: 3793\n"
     ]
    },
    {
     "name": "stderr",
     "output_type": "stream",
     "text": [
      "[I 2024-12-10 22:39:26,113] Trial 10 finished with value: 0.04880852639076138 and parameters: {'topK': 52, 'shrink': 38, 'feature_weighting': 'TF-IDF', 'asymmetric_alpha': 0.03742004028451118}. Best is trial 10 with value: 0.04880852639076138.\n"
     ]
    },
    {
     "name": "stdout",
     "output_type": "stream",
     "text": [
      "Similarity column 38121 (100.0%), 4878.20 column/sec. Elapsed time 7.81 sec\n",
      "EvaluatorHoldout: Processed 35568 (100.0%) in 9.47 sec. Users per second: 3758\n"
     ]
    },
    {
     "name": "stderr",
     "output_type": "stream",
     "text": [
      "[I 2024-12-10 22:39:43,468] Trial 11 finished with value: 0.04860138795171502 and parameters: {'topK': 50, 'shrink': 38, 'feature_weighting': 'TF-IDF', 'asymmetric_alpha': 0.0059777621626136285}. Best is trial 10 with value: 0.04880852639076138.\n"
     ]
    },
    {
     "name": "stdout",
     "output_type": "stream",
     "text": [
      "Similarity column 38121 (100.0%), 4898.45 column/sec. Elapsed time 7.78 sec\n",
      "EvaluatorHoldout: Processed 35568 (100.0%) in 9.24 sec. Users per second: 3849\n"
     ]
    },
    {
     "name": "stderr",
     "output_type": "stream",
     "text": [
      "[I 2024-12-10 22:40:00,567] Trial 12 finished with value: 0.048821122428576835 and parameters: {'topK': 44, 'shrink': 37, 'feature_weighting': 'TF-IDF', 'asymmetric_alpha': 0.007102370309422401}. Best is trial 12 with value: 0.048821122428576835.\n"
     ]
    },
    {
     "name": "stdout",
     "output_type": "stream",
     "text": [
      "Similarity column 38121 (100.0%), 4901.20 column/sec. Elapsed time 7.78 sec\n",
      "EvaluatorHoldout: Processed 35568 (100.0%) in 9.17 sec. Users per second: 3880\n"
     ]
    },
    {
     "name": "stderr",
     "output_type": "stream",
     "text": [
      "[I 2024-12-10 22:40:17,586] Trial 13 finished with value: 0.04896718291454964 and parameters: {'topK': 41, 'shrink': 34, 'feature_weighting': 'TF-IDF', 'asymmetric_alpha': 0.010189903446641068}. Best is trial 13 with value: 0.04896718291454964.\n"
     ]
    },
    {
     "name": "stdout",
     "output_type": "stream",
     "text": [
      "Similarity column 38121 (100.0%), 4934.46 column/sec. Elapsed time 7.73 sec\n",
      "EvaluatorHoldout: Processed 35568 (100.0%) in 9.96 sec. Users per second: 3572\n"
     ]
    },
    {
     "name": "stderr",
     "output_type": "stream",
     "text": [
      "[I 2024-12-10 22:40:35,345] Trial 14 finished with value: 0.042734759352082256 and parameters: {'topK': 40, 'shrink': 20, 'feature_weighting': 'BM25', 'asymmetric_alpha': 0.24996218112335844}. Best is trial 13 with value: 0.04896718291454964.\n"
     ]
    },
    {
     "name": "stdout",
     "output_type": "stream",
     "text": [
      "Similarity column 38121 (100.0%), 4901.76 column/sec. Elapsed time 7.78 sec\n",
      "EvaluatorHoldout: Processed 35568 (100.0%) in 10.63 sec. Users per second: 3345\n"
     ]
    },
    {
     "name": "stderr",
     "output_type": "stream",
     "text": [
      "[I 2024-12-10 22:40:53,833] Trial 15 finished with value: 0.03978485208748259 and parameters: {'topK': 32, 'shrink': 32, 'feature_weighting': 'TF-IDF', 'asymmetric_alpha': 0.7787410918039408}. Best is trial 13 with value: 0.04896718291454964.\n"
     ]
    },
    {
     "name": "stdout",
     "output_type": "stream",
     "text": [
      "Similarity column 38121 (100.0%), 4789.02 column/sec. Elapsed time 7.96 sec\n",
      "EvaluatorHoldout: Processed 35568 (100.0%) in 18.45 sec. Users per second: 1927\n"
     ]
    },
    {
     "name": "stderr",
     "output_type": "stream",
     "text": [
      "[I 2024-12-10 22:41:20,336] Trial 16 finished with value: 0.005330913198237769 and parameters: {'topK': 98, 'shrink': 33, 'feature_weighting': 'TF-IDF', 'asymmetric_alpha': 1.9674475922871466}. Best is trial 13 with value: 0.04896718291454964.\n"
     ]
    },
    {
     "name": "stdout",
     "output_type": "stream",
     "text": [
      "Similarity column 38121 (100.0%), 4824.99 column/sec. Elapsed time 7.90 sec\n",
      "EvaluatorHoldout: Processed 35568 (100.0%) in 9.64 sec. Users per second: 3688\n"
     ]
    },
    {
     "name": "stderr",
     "output_type": "stream",
     "text": [
      "[I 2024-12-10 22:41:37,955] Trial 17 finished with value: 0.049683465697718206 and parameters: {'topK': 40, 'shrink': 44, 'feature_weighting': 'TF-IDF', 'asymmetric_alpha': 0.22499559985813175}. Best is trial 17 with value: 0.049683465697718206.\n"
     ]
    },
    {
     "name": "stdout",
     "output_type": "stream",
     "text": [
      "Similarity column 38121 (100.0%), 4923.54 column/sec. Elapsed time 7.74 sec\n",
      "EvaluatorHoldout: Processed 35568 (100.0%) in 9.63 sec. Users per second: 3693\n"
     ]
    },
    {
     "name": "stderr",
     "output_type": "stream",
     "text": [
      "[I 2024-12-10 22:41:55,417] Trial 18 finished with value: 0.04225105922748318 and parameters: {'topK': 30, 'shrink': 44, 'feature_weighting': 'BM25', 'asymmetric_alpha': 0.6921273879522437}. Best is trial 17 with value: 0.049683465697718206.\n"
     ]
    },
    {
     "name": "stdout",
     "output_type": "stream",
     "text": [
      "Similarity column 38121 (100.0%), 4758.55 column/sec. Elapsed time 8.01 sec\n",
      "EvaluatorHoldout: Processed 35568 (100.0%) in 10.28 sec. Users per second: 3458\n"
     ]
    },
    {
     "name": "stderr",
     "output_type": "stream",
     "text": [
      "[I 2024-12-10 22:42:13,797] Trial 19 finished with value: 0.04843840593292164 and parameters: {'topK': 64, 'shrink': 1, 'feature_weighting': 'TF-IDF', 'asymmetric_alpha': 0.25613523730974147}. Best is trial 17 with value: 0.049683465697718206.\n"
     ]
    },
    {
     "name": "stdout",
     "output_type": "stream",
     "text": [
      "Similarity column 38121 (100.0%), 4686.68 column/sec. Elapsed time 8.13 sec\n",
      "EvaluatorHoldout: Processed 35568 (100.0%) in 10.16 sec. Users per second: 3502\n"
     ]
    },
    {
     "name": "stderr",
     "output_type": "stream",
     "text": [
      "[I 2024-12-10 22:42:32,169] Trial 20 finished with value: 0.0447073490796062 and parameters: {'topK': 38, 'shrink': 17, 'feature_weighting': 'TF-IDF', 'asymmetric_alpha': 0.6259106828584817}. Best is trial 17 with value: 0.049683465697718206.\n"
     ]
    },
    {
     "name": "stdout",
     "output_type": "stream",
     "text": [
      "Similarity column 38121 (100.0%), 4823.83 column/sec. Elapsed time 7.90 sec\n",
      "EvaluatorHoldout: Processed 35568 (100.0%) in 9.55 sec. Users per second: 3724\n"
     ]
    },
    {
     "name": "stderr",
     "output_type": "stream",
     "text": [
      "[I 2024-12-10 22:42:49,703] Trial 21 finished with value: 0.0497153830980566 and parameters: {'topK': 42, 'shrink': 36, 'feature_weighting': 'TF-IDF', 'asymmetric_alpha': 0.1853211386320909}. Best is trial 21 with value: 0.0497153830980566.\n"
     ]
    },
    {
     "name": "stdout",
     "output_type": "stream",
     "text": [
      "Similarity column 38121 (100.0%), 1602.55 column/sec. Elapsed time 23.79 sec\n",
      "EvaluatorHoldout: Processed 35568 (100.0%) in 8.62 sec. Users per second: 4125\n"
     ]
    },
    {
     "name": "stderr",
     "output_type": "stream",
     "text": [
      "[I 2024-12-10 22:43:22,190] Trial 22 finished with value: 0.05360855954879895 and parameters: {'topK': 3, 'shrink': 44, 'feature_weighting': 'TF-IDF', 'asymmetric_alpha': 0.2586976780035499}. Best is trial 22 with value: 0.05360855954879895.\n"
     ]
    },
    {
     "name": "stdout",
     "output_type": "stream",
     "text": [
      "Similarity column 38121 (100.0%), 2233.28 column/sec. Elapsed time 17.07 sec\n",
      "EvaluatorHoldout: Processed 35568 (100.0%) in 8.52 sec. Users per second: 4176\n"
     ]
    },
    {
     "name": "stderr",
     "output_type": "stream",
     "text": [
      "[I 2024-12-10 22:43:47,842] Trial 23 finished with value: 0.05151847969282018 and parameters: {'topK': 2, 'shrink': 44, 'feature_weighting': 'TF-IDF', 'asymmetric_alpha': 0.3214863738720953}. Best is trial 22 with value: 0.05360855954879895.\n"
     ]
    },
    {
     "name": "stdout",
     "output_type": "stream",
     "text": [
      "Similarity column 38121 (100.0%), 1601.41 column/sec. Elapsed time 23.80 sec\n",
      "EvaluatorHoldout: Processed 35568 (100.0%) in 8.51 sec. Users per second: 4182\n"
     ]
    },
    {
     "name": "stderr",
     "output_type": "stream",
     "text": [
      "[I 2024-12-10 22:44:20,228] Trial 24 finished with value: 0.05369767679526272 and parameters: {'topK': 3, 'shrink': 50, 'feature_weighting': 'TF-IDF', 'asymmetric_alpha': 0.23727124857110837}. Best is trial 24 with value: 0.05369767679526272.\n"
     ]
    },
    {
     "name": "stdout",
     "output_type": "stream",
     "text": [
      "Similarity column 38121 (100.0%), 1604.83 column/sec. Elapsed time 23.75 sec\n",
      "EvaluatorHoldout: Processed 35568 (100.0%) in 9.01 sec. Users per second: 3946\n"
     ]
    },
    {
     "name": "stderr",
     "output_type": "stream",
     "text": [
      "[I 2024-12-10 22:44:53,069] Trial 25 finished with value: 0.044112363128260806 and parameters: {'topK': 3, 'shrink': 49, 'feature_weighting': 'BM25', 'asymmetric_alpha': 0.5597668891411784}. Best is trial 24 with value: 0.05369767679526272.\n"
     ]
    },
    {
     "name": "stdout",
     "output_type": "stream",
     "text": [
      "Similarity column 38121 (100.0%), 1567.74 column/sec. Elapsed time 24.32 sec\n",
      "EvaluatorHoldout: Processed 35568 (100.0%) in 9.08 sec. Users per second: 3915\n"
     ]
    },
    {
     "name": "stderr",
     "output_type": "stream",
     "text": [
      "[I 2024-12-10 22:45:26,542] Trial 26 finished with value: 0.05289301757777437 and parameters: {'topK': 3, 'shrink': 45, 'feature_weighting': 'TF-IDF', 'asymmetric_alpha': 0.36928777765576193}. Best is trial 24 with value: 0.05369767679526272.\n"
     ]
    },
    {
     "name": "stdout",
     "output_type": "stream",
     "text": [
      "Similarity column 38121 (100.0%), 4763.52 column/sec. Elapsed time 8.00 sec\n",
      "EvaluatorHoldout: Processed 35568 (100.0%) in 10.61 sec. Users per second: 3351\n"
     ]
    },
    {
     "name": "stderr",
     "output_type": "stream",
     "text": [
      "[I 2024-12-10 22:45:45,239] Trial 27 finished with value: 0.03962029138015867 and parameters: {'topK': 23, 'shrink': 47, 'feature_weighting': 'TF-IDF', 'asymmetric_alpha': 0.8006108126869483}. Best is trial 24 with value: 0.05369767679526272.\n"
     ]
    },
    {
     "name": "stdout",
     "output_type": "stream",
     "text": [
      "Similarity column 38121 (100.0%), 4640.09 column/sec. Elapsed time 8.22 sec\n",
      "EvaluatorHoldout: Processed 35568 (100.0%) in 9.29 sec. Users per second: 3830\n"
     ]
    },
    {
     "name": "stderr",
     "output_type": "stream",
     "text": [
      "[I 2024-12-10 22:46:02,811] Trial 28 finished with value: 0.05199693611700041 and parameters: {'topK': 8, 'shrink': 41, 'feature_weighting': 'TF-IDF', 'asymmetric_alpha': 0.4004024825039032}. Best is trial 24 with value: 0.05369767679526272.\n"
     ]
    },
    {
     "name": "stdout",
     "output_type": "stream",
     "text": [
      "Similarity column 38121 (100.0%), 4737.01 column/sec. Elapsed time 8.05 sec\n",
      "EvaluatorHoldout: Processed 35568 (100.0%) in 9.52 sec. Users per second: 3734\n"
     ]
    },
    {
     "name": "stderr",
     "output_type": "stream",
     "text": [
      "[I 2024-12-10 22:46:20,463] Trial 29 finished with value: 0.043410693534047216 and parameters: {'topK': 20, 'shrink': 50, 'feature_weighting': 'BM25', 'asymmetric_alpha': 0.15898923903943496}. Best is trial 24 with value: 0.05369767679526272.\n"
     ]
    },
    {
     "name": "stdout",
     "output_type": "stream",
     "text": [
      "Similarity column 38121 (100.0%), 4991.19 column/sec. Elapsed time 7.64 sec\n",
      "EvaluatorHoldout: Processed 35568 (100.0%) in 10.16 sec. Users per second: 3500\n"
     ]
    },
    {
     "name": "stderr",
     "output_type": "stream",
     "text": [
      "[I 2024-12-10 22:46:38,330] Trial 30 finished with value: 0.036736358792278996 and parameters: {'topK': 11, 'shrink': 46, 'feature_weighting': 'TF-IDF', 'asymmetric_alpha': 0.9045632209143779}. Best is trial 24 with value: 0.05369767679526272.\n"
     ]
    },
    {
     "name": "stdout",
     "output_type": "stream",
     "text": [
      "Similarity column 38121 (100.0%), 4700.87 column/sec. Elapsed time 8.11 sec\n",
      "EvaluatorHoldout: Processed 35568 (100.0%) in 9.08 sec. Users per second: 3918\n"
     ]
    },
    {
     "name": "stderr",
     "output_type": "stream",
     "text": [
      "[I 2024-12-10 22:46:55,593] Trial 31 finished with value: 0.05229684900463247 and parameters: {'topK': 7, 'shrink': 40, 'feature_weighting': 'TF-IDF', 'asymmetric_alpha': 0.40898161115000764}. Best is trial 24 with value: 0.05369767679526272.\n"
     ]
    },
    {
     "name": "stdout",
     "output_type": "stream",
     "text": [
      "Similarity column 38121 (100.0%), 4740.48 column/sec. Elapsed time 8.04 sec\n",
      "EvaluatorHoldout: Processed 35568 (100.0%) in 9.25 sec. Users per second: 3844\n"
     ]
    },
    {
     "name": "stderr",
     "output_type": "stream",
     "text": [
      "[I 2024-12-10 22:47:12,968] Trial 32 finished with value: 0.04978298109054516 and parameters: {'topK': 7, 'shrink': 41, 'feature_weighting': 'TF-IDF', 'asymmetric_alpha': 0.55838834427989}. Best is trial 24 with value: 0.05369767679526272.\n"
     ]
    },
    {
     "name": "stdout",
     "output_type": "stream",
     "text": [
      "Similarity column 38121 (100.0%), 4621.05 column/sec. Elapsed time 8.25 sec\n",
      "EvaluatorHoldout: Processed 35568 (100.0%) in 9.74 sec. Users per second: 3653\n"
     ]
    },
    {
     "name": "stderr",
     "output_type": "stream",
     "text": [
      "[I 2024-12-10 22:47:31,033] Trial 33 finished with value: 0.05048498873608361 and parameters: {'topK': 20, 'shrink': 43, 'feature_weighting': 'TF-IDF', 'asymmetric_alpha': 0.3272566775223489}. Best is trial 24 with value: 0.05369767679526272.\n"
     ]
    },
    {
     "name": "stdout",
     "output_type": "stream",
     "text": [
      "Similarity column 38121 (100.0%), 1552.93 column/sec. Elapsed time 24.55 sec\n",
      "EvaluatorHoldout: Processed 35568 (100.0%) in 9.14 sec. Users per second: 3893\n"
     ]
    },
    {
     "name": "stderr",
     "output_type": "stream",
     "text": [
      "[I 2024-12-10 22:48:04,792] Trial 34 finished with value: 0.0532710537918855 and parameters: {'topK': 3, 'shrink': 27, 'feature_weighting': 'TF-IDF', 'asymmetric_alpha': 0.13521571499687124}. Best is trial 24 with value: 0.05369767679526272.\n"
     ]
    },
    {
     "name": "stdout",
     "output_type": "stream",
     "text": [
      "Similarity column 38121 (100.0%), 2142.13 column/sec. Elapsed time 17.80 sec\n",
      "EvaluatorHoldout: Processed 35568 (100.0%) in 9.16 sec. Users per second: 3883\n"
     ]
    },
    {
     "name": "stderr",
     "output_type": "stream",
     "text": [
      "[I 2024-12-10 22:48:31,794] Trial 35 finished with value: 0.05157986334247145 and parameters: {'topK': 2, 'shrink': 26, 'feature_weighting': 'none', 'asymmetric_alpha': 0.15771357873228187}. Best is trial 24 with value: 0.05369767679526272.\n"
     ]
    },
    {
     "name": "stdout",
     "output_type": "stream",
     "text": [
      "Similarity column 38121 (100.0%), 4713.41 column/sec. Elapsed time 8.09 sec\n",
      "EvaluatorHoldout: Processed 35568 (100.0%) in 12.32 sec. Users per second: 2888\n"
     ]
    },
    {
     "name": "stderr",
     "output_type": "stream",
     "text": [
      "[I 2024-12-10 22:48:52,281] Trial 36 finished with value: 0.0215586810241413 and parameters: {'topK': 24, 'shrink': 10, 'feature_weighting': 'TF-IDF', 'asymmetric_alpha': 1.1165222603334821}. Best is trial 24 with value: 0.05369767679526272.\n"
     ]
    },
    {
     "name": "stdout",
     "output_type": "stream",
     "text": [
      "Similarity column 38121 (100.0%), 4539.08 column/sec. Elapsed time 8.40 sec\n",
      "EvaluatorHoldout: Processed 35568 (100.0%) in 9.37 sec. Users per second: 3796\n"
     ]
    },
    {
     "name": "stderr",
     "output_type": "stream",
     "text": [
      "[I 2024-12-10 22:49:10,101] Trial 37 finished with value: 0.05104067482630888 and parameters: {'topK': 17, 'shrink': 23, 'feature_weighting': 'none', 'asymmetric_alpha': 0.12024753958580484}. Best is trial 24 with value: 0.05369767679526272.\n"
     ]
    },
    {
     "name": "stdout",
     "output_type": "stream",
     "text": [
      "Similarity column 38121 (100.0%), 4745.10 column/sec. Elapsed time 8.03 sec\n",
      "EvaluatorHoldout: Processed 35568 (100.0%) in 12.16 sec. Users per second: 2926\n"
     ]
    },
    {
     "name": "stderr",
     "output_type": "stream",
     "text": [
      "[I 2024-12-10 22:49:30,365] Trial 38 finished with value: 0.011393498882534134 and parameters: {'topK': 13, 'shrink': 28, 'feature_weighting': 'TF-IDF', 'asymmetric_alpha': 1.3901778988936702}. Best is trial 24 with value: 0.05369767679526272.\n"
     ]
    },
    {
     "name": "stdout",
     "output_type": "stream",
     "text": [
      "Similarity column 38121 (100.0%), 4685.35 column/sec. Elapsed time 8.14 sec\n",
      "EvaluatorHoldout: Processed 35568 (100.0%) in 9.32 sec. Users per second: 3817\n"
     ]
    },
    {
     "name": "stderr",
     "output_type": "stream",
     "text": [
      "[I 2024-12-10 22:49:47,891] Trial 39 finished with value: 0.04460528547151197 and parameters: {'topK': 9, 'shrink': 30, 'feature_weighting': 'BM25', 'asymmetric_alpha': 0.5157887643524114}. Best is trial 24 with value: 0.05369767679526272.\n"
     ]
    },
    {
     "name": "stdout",
     "output_type": "stream",
     "text": [
      "Similarity column 38121 (100.0%), 4711.27 column/sec. Elapsed time 8.09 sec\n",
      "EvaluatorHoldout: Processed 35568 (100.0%) in 10.52 sec. Users per second: 3379\n"
     ]
    },
    {
     "name": "stderr",
     "output_type": "stream",
     "text": [
      "[I 2024-12-10 22:50:06,560] Trial 40 finished with value: 0.047644506342421136 and parameters: {'topK': 25, 'shrink': 48, 'feature_weighting': 'none', 'asymmetric_alpha': 0.3149304340201973}. Best is trial 24 with value: 0.05369767679526272.\n"
     ]
    },
    {
     "name": "stdout",
     "output_type": "stream",
     "text": [
      "Similarity column 38121 (100.0%), 4550.86 column/sec. Elapsed time 8.38 sec\n",
      "EvaluatorHoldout: Processed 35568 (100.0%) in 9.63 sec. Users per second: 3693\n"
     ]
    },
    {
     "name": "stderr",
     "output_type": "stream",
     "text": [
      "[I 2024-12-10 22:50:24,648] Trial 41 finished with value: 0.05286400206356172 and parameters: {'topK': 6, 'shrink': 46, 'feature_weighting': 'TF-IDF', 'asymmetric_alpha': 0.3925808706976574}. Best is trial 24 with value: 0.05369767679526272.\n"
     ]
    },
    {
     "name": "stdout",
     "output_type": "stream",
     "text": [
      "Similarity column 38121 (100.0%), 4620.23 column/sec. Elapsed time 8.25 sec\n",
      "EvaluatorHoldout: Processed 35568 (100.0%) in 9.14 sec. Users per second: 3892\n"
     ]
    },
    {
     "name": "stderr",
     "output_type": "stream",
     "text": [
      "[I 2024-12-10 22:50:42,122] Trial 42 finished with value: 0.05176415932994697 and parameters: {'topK': 16, 'shrink': 45, 'feature_weighting': 'TF-IDF', 'asymmetric_alpha': 0.11202613017603794}. Best is trial 24 with value: 0.05369767679526272.\n"
     ]
    },
    {
     "name": "stdout",
     "output_type": "stream",
     "text": [
      "Similarity column 38121 (100.0%), 4740.04 column/sec. Elapsed time 8.04 sec\n",
      "EvaluatorHoldout: Processed 35568 (100.0%) in 8.94 sec. Users per second: 3978\n"
     ]
    },
    {
     "name": "stderr",
     "output_type": "stream",
     "text": [
      "[I 2024-12-10 22:50:59,173] Trial 43 finished with value: 0.05356906444351443 and parameters: {'topK': 5, 'shrink': 50, 'feature_weighting': 'TF-IDF', 'asymmetric_alpha': 0.3361373522702209}. Best is trial 24 with value: 0.05369767679526272.\n"
     ]
    },
    {
     "name": "stdout",
     "output_type": "stream",
     "text": [
      "Similarity column 38121 (100.0%), 4786.75 column/sec. Elapsed time 7.96 sec\n",
      "EvaluatorHoldout: Processed 35568 (100.0%) in 9.59 sec. Users per second: 3709\n"
     ]
    },
    {
     "name": "stderr",
     "output_type": "stream",
     "text": [
      "[I 2024-12-10 22:51:16,792] Trial 44 finished with value: 0.04570059742482848 and parameters: {'topK': 12, 'shrink': 50, 'feature_weighting': 'TF-IDF', 'asymmetric_alpha': 0.6806892645743833}. Best is trial 24 with value: 0.05369767679526272.\n"
     ]
    },
    {
     "name": "stdout",
     "output_type": "stream",
     "text": [
      "Similarity column 38121 (100.0%), 2154.31 column/sec. Elapsed time 17.70 sec\n",
      "EvaluatorHoldout: Processed 35568 (100.0%) in 8.86 sec. Users per second: 4012\n"
     ]
    },
    {
     "name": "stderr",
     "output_type": "stream",
     "text": [
      "[I 2024-12-10 22:51:43,423] Trial 45 finished with value: 0.049132062706622376 and parameters: {'topK': 2, 'shrink': 48, 'feature_weighting': 'TF-IDF', 'asymmetric_alpha': 0.4883747499439957}. Best is trial 24 with value: 0.05369767679526272.\n"
     ]
    },
    {
     "name": "stdout",
     "output_type": "stream",
     "text": [
      "Similarity column 38121 (100.0%), 4706.31 column/sec. Elapsed time 8.10 sec\n",
      "EvaluatorHoldout: Processed 35568 (100.0%) in 9.10 sec. Users per second: 3910\n"
     ]
    },
    {
     "name": "stderr",
     "output_type": "stream",
     "text": [
      "[I 2024-12-10 22:52:00,692] Trial 46 finished with value: 0.05152579855978783 and parameters: {'topK': 16, 'shrink': 35, 'feature_weighting': 'TF-IDF', 'asymmetric_alpha': 0.08924952987883211}. Best is trial 24 with value: 0.05369767679526272.\n"
     ]
    },
    {
     "name": "stdout",
     "output_type": "stream",
     "text": [
      "Similarity column 38121 (100.0%), 4597.69 column/sec. Elapsed time 8.29 sec\n",
      "EvaluatorHoldout: Processed 35568 (100.0%) in 8.92 sec. Users per second: 3985\n"
     ]
    },
    {
     "name": "stderr",
     "output_type": "stream",
     "text": [
      "[I 2024-12-10 22:52:17,989] Trial 47 finished with value: 0.05354647636719834 and parameters: {'topK': 6, 'shrink': 42, 'feature_weighting': 'TF-IDF', 'asymmetric_alpha': 0.3083351912117459}. Best is trial 24 with value: 0.05369767679526272.\n"
     ]
    },
    {
     "name": "stdout",
     "output_type": "stream",
     "text": [
      "Similarity column 38121 (100.0%), 4760.88 column/sec. Elapsed time 8.01 sec\n",
      "EvaluatorHoldout: Processed 35568 (100.0%) in 8.99 sec. Users per second: 3959\n"
     ]
    },
    {
     "name": "stderr",
     "output_type": "stream",
     "text": [
      "[I 2024-12-10 22:52:35,051] Trial 48 finished with value: 0.05253542844825566 and parameters: {'topK': 10, 'shrink': 41, 'feature_weighting': 'TF-IDF', 'asymmetric_alpha': 0.2621418560260651}. Best is trial 24 with value: 0.05369767679526272.\n"
     ]
    },
    {
     "name": "stdout",
     "output_type": "stream",
     "text": [
      "Similarity column 38121 (100.0%), 4750.20 column/sec. Elapsed time 8.03 sec\n",
      "EvaluatorHoldout: Processed 35568 (100.0%) in 12.79 sec. Users per second: 2781\n"
     ]
    },
    {
     "name": "stderr",
     "output_type": "stream",
     "text": [
      "[I 2024-12-10 22:52:55,919] Trial 49 finished with value: 0.02766293404451246 and parameters: {'topK': 29, 'shrink': 17, 'feature_weighting': 'none', 'asymmetric_alpha': 1.3028820463213486}. Best is trial 24 with value: 0.05369767679526272.\n"
     ]
    },
    {
     "name": "stdout",
     "output_type": "stream",
     "text": [
      "Similarity column 38121 (100.0%), 4709.91 column/sec. Elapsed time 8.09 sec\n",
      "EvaluatorHoldout: Processed 35568 (100.0%) in 9.29 sec. Users per second: 3829\n"
     ]
    },
    {
     "name": "stderr",
     "output_type": "stream",
     "text": [
      "[I 2024-12-10 22:53:13,382] Trial 50 finished with value: 0.05123535780333829 and parameters: {'topK': 19, 'shrink': 39, 'feature_weighting': 'TF-IDF', 'asymmetric_alpha': 0.07695057141315503}. Best is trial 24 with value: 0.05369767679526272.\n"
     ]
    },
    {
     "name": "stdout",
     "output_type": "stream",
     "text": [
      "Similarity column 38121 (100.0%), 4626.76 column/sec. Elapsed time 8.24 sec\n",
      "EvaluatorHoldout: Processed 35568 (100.0%) in 9.21 sec. Users per second: 3863\n"
     ]
    },
    {
     "name": "stderr",
     "output_type": "stream",
     "text": [
      "[I 2024-12-10 22:53:30,910] Trial 51 finished with value: 0.05320575075509117 and parameters: {'topK': 6, 'shrink': 43, 'feature_weighting': 'TF-IDF', 'asymmetric_alpha': 0.3427974804893328}. Best is trial 24 with value: 0.05369767679526272.\n"
     ]
    },
    {
     "name": "stdout",
     "output_type": "stream",
     "text": [
      "Similarity column 38121 (100.0%), 4634.74 column/sec. Elapsed time 8.23 sec\n",
      "EvaluatorHoldout: Processed 35568 (100.0%) in 9.19 sec. Users per second: 3870\n"
     ]
    },
    {
     "name": "stderr",
     "output_type": "stream",
     "text": [
      "[I 2024-12-10 22:53:48,399] Trial 52 finished with value: 0.053301671423928346 and parameters: {'topK': 7, 'shrink': 42, 'feature_weighting': 'TF-IDF', 'asymmetric_alpha': 0.2546569076580542}. Best is trial 24 with value: 0.05369767679526272.\n"
     ]
    },
    {
     "name": "stdout",
     "output_type": "stream",
     "text": [
      "Similarity column 38121 (100.0%), 4641.16 column/sec. Elapsed time 8.21 sec\n",
      "EvaluatorHoldout: Processed 35568 (100.0%) in 9.31 sec. Users per second: 3820\n"
     ]
    },
    {
     "name": "stderr",
     "output_type": "stream",
     "text": [
      "[I 2024-12-10 22:54:06,005] Trial 53 finished with value: 0.05215154829737981 and parameters: {'topK': 13, 'shrink': 48, 'feature_weighting': 'TF-IDF', 'asymmetric_alpha': 0.22725480604559825}. Best is trial 24 with value: 0.05369767679526272.\n"
     ]
    },
    {
     "name": "stdout",
     "output_type": "stream",
     "text": [
      "Similarity column 38121 (100.0%), 4656.07 column/sec. Elapsed time 8.19 sec\n",
      "EvaluatorHoldout: Processed 35568 (100.0%) in 8.81 sec. Users per second: 4038\n"
     ]
    },
    {
     "name": "stderr",
     "output_type": "stream",
     "text": [
      "[I 2024-12-10 22:54:23,076] Trial 54 finished with value: 0.053598296399829735 and parameters: {'topK': 6, 'shrink': 37, 'feature_weighting': 'TF-IDF', 'asymmetric_alpha': 0.27028354689141576}. Best is trial 24 with value: 0.05369767679526272.\n"
     ]
    },
    {
     "name": "stdout",
     "output_type": "stream",
     "text": [
      "Similarity column 38121 (100.0%), 4742.49 column/sec. Elapsed time 8.04 sec\n",
      "EvaluatorHoldout: Processed 35568 (100.0%) in 11.68 sec. Users per second: 3045\n"
     ]
    },
    {
     "name": "stderr",
     "output_type": "stream",
     "text": [
      "[I 2024-12-10 22:54:42,896] Trial 55 finished with value: 0.04625584505244429 and parameters: {'topK': 87, 'shrink': 42, 'feature_weighting': 'TF-IDF', 'asymmetric_alpha': 0.49316018697402086}. Best is trial 24 with value: 0.05369767679526272.\n"
     ]
    },
    {
     "name": "stdout",
     "output_type": "stream",
     "text": [
      "Similarity column 38121 (100.0%), 4643.49 column/sec. Elapsed time 8.21 sec\n",
      "EvaluatorHoldout: Processed 35568 (100.0%) in 9.17 sec. Users per second: 3878\n"
     ]
    },
    {
     "name": "stderr",
     "output_type": "stream",
     "text": [
      "[I 2024-12-10 22:55:00,343] Trial 56 finished with value: 0.05229750502502516 and parameters: {'topK': 10, 'shrink': 37, 'feature_weighting': 'TF-IDF', 'asymmetric_alpha': 0.2983817324707173}. Best is trial 24 with value: 0.05369767679526272.\n"
     ]
    },
    {
     "name": "stdout",
     "output_type": "stream",
     "text": [
      "Similarity column 38121 (100.0%), 4805.18 column/sec. Elapsed time 7.93 sec\n",
      "EvaluatorHoldout: Processed 35568 (100.0%) in 8.95 sec. Users per second: 3974\n"
     ]
    },
    {
     "name": "stderr",
     "output_type": "stream",
     "text": [
      "[I 2024-12-10 22:55:17,298] Trial 57 finished with value: 0.044985256276373065 and parameters: {'topK': 6, 'shrink': 31, 'feature_weighting': 'BM25', 'asymmetric_alpha': 0.6137358016781258}. Best is trial 24 with value: 0.05369767679526272.\n"
     ]
    },
    {
     "name": "stdout",
     "output_type": "stream",
     "text": [
      "Similarity column 38121 (100.0%), 4663.00 column/sec. Elapsed time 8.18 sec\n",
      "EvaluatorHoldout: Processed 35568 (100.0%) in 9.52 sec. Users per second: 3735\n"
     ]
    },
    {
     "name": "stderr",
     "output_type": "stream",
     "text": [
      "[I 2024-12-10 22:55:35,068] Trial 58 finished with value: 0.052011466745565754 and parameters: {'topK': 14, 'shrink': 50, 'feature_weighting': 'TF-IDF', 'asymmetric_alpha': 0.21742636607120067}. Best is trial 24 with value: 0.05369767679526272.\n"
     ]
    },
    {
     "name": "stdout",
     "output_type": "stream",
     "text": [
      "Similarity column 38121 (100.0%), 4696.71 column/sec. Elapsed time 8.12 sec\n",
      "EvaluatorHoldout: Processed 35568 (100.0%) in 17.12 sec. Users per second: 2077\n"
     ]
    },
    {
     "name": "stderr",
     "output_type": "stream",
     "text": [
      "[I 2024-12-10 22:56:00,394] Trial 59 finished with value: 0.007038287715371087 and parameters: {'topK': 56, 'shrink': 39, 'feature_weighting': 'TF-IDF', 'asymmetric_alpha': 1.7163025327852293}. Best is trial 24 with value: 0.05369767679526272.\n"
     ]
    },
    {
     "name": "stdout",
     "output_type": "stream",
     "text": [
      "Similarity column 38121 (100.0%), 4628.78 column/sec. Elapsed time 8.24 sec\n",
      "EvaluatorHoldout: Processed 35568 (100.0%) in 10.30 sec. Users per second: 3454\n"
     ]
    },
    {
     "name": "stderr",
     "output_type": "stream",
     "text": [
      "[I 2024-12-10 22:56:19,012] Trial 60 finished with value: 0.04829370546201529 and parameters: {'topK': 36, 'shrink': 46, 'feature_weighting': 'TF-IDF', 'asymmetric_alpha': 0.43436844992348334}. Best is trial 24 with value: 0.05369767679526272.\n"
     ]
    },
    {
     "name": "stdout",
     "output_type": "stream",
     "text": [
      "Similarity column 38121 (100.0%), 4644.83 column/sec. Elapsed time 8.21 sec\n",
      "EvaluatorHoldout: Processed 35568 (100.0%) in 9.16 sec. Users per second: 3882\n"
     ]
    },
    {
     "name": "stderr",
     "output_type": "stream",
     "text": [
      "[I 2024-12-10 22:56:36,467] Trial 61 finished with value: 0.05315249930381345 and parameters: {'topK': 4, 'shrink': 24, 'feature_weighting': 'TF-IDF', 'asymmetric_alpha': 0.053218118532713965}. Best is trial 24 with value: 0.05369767679526272.\n"
     ]
    },
    {
     "name": "stdout",
     "output_type": "stream",
     "text": [
      "Similarity column 38121 (100.0%), 4665.67 column/sec. Elapsed time 8.17 sec\n",
      "EvaluatorHoldout: Processed 35568 (100.0%) in 9.32 sec. Users per second: 3816\n"
     ]
    },
    {
     "name": "stderr",
     "output_type": "stream",
     "text": [
      "[I 2024-12-10 22:56:54,045] Trial 62 finished with value: 0.05300986172696538 and parameters: {'topK': 9, 'shrink': 34, 'feature_weighting': 'TF-IDF', 'asymmetric_alpha': 0.1734428061893164}. Best is trial 24 with value: 0.05369767679526272.\n"
     ]
    },
    {
     "name": "stdout",
     "output_type": "stream",
     "text": [
      "Similarity column 38121 (100.0%), 2121.22 column/sec. Elapsed time 17.97 sec\n",
      "EvaluatorHoldout: Processed 35568 (100.0%) in 9.15 sec. Users per second: 3885\n"
     ]
    },
    {
     "name": "stderr",
     "output_type": "stream",
     "text": [
      "[I 2024-12-10 22:57:21,249] Trial 63 finished with value: 0.04905356785839046 and parameters: {'topK': 2, 'shrink': 37, 'feature_weighting': 'TF-IDF', 'asymmetric_alpha': 0.009646082248387228}. Best is trial 24 with value: 0.05369767679526272.\n"
     ]
    },
    {
     "name": "stdout",
     "output_type": "stream",
     "text": [
      "Similarity column 38121 (100.0%), 4652.35 column/sec. Elapsed time 8.19 sec\n",
      "EvaluatorHoldout: Processed 35568 (100.0%) in 8.83 sec. Users per second: 4027\n"
     ]
    },
    {
     "name": "stderr",
     "output_type": "stream",
     "text": [
      "[I 2024-12-10 22:57:38,353] Trial 64 finished with value: 0.05387376025533727 and parameters: {'topK': 6, 'shrink': 43, 'feature_weighting': 'TF-IDF', 'asymmetric_alpha': 0.22816438706790673}. Best is trial 64 with value: 0.05387376025533727.\n"
     ]
    },
    {
     "name": "stdout",
     "output_type": "stream",
     "text": [
      "Similarity column 38121 (100.0%), 4722.12 column/sec. Elapsed time 8.07 sec\n",
      "EvaluatorHoldout: Processed 35568 (100.0%) in 10.75 sec. Users per second: 3309\n"
     ]
    },
    {
     "name": "stderr",
     "output_type": "stream",
     "text": [
      "[I 2024-12-10 22:57:57,262] Trial 65 finished with value: 0.04846135325850062 and parameters: {'topK': 65, 'shrink': 43, 'feature_weighting': 'TF-IDF', 'asymmetric_alpha': 0.2695684169989013}. Best is trial 64 with value: 0.05387376025533727.\n"
     ]
    },
    {
     "name": "stdout",
     "output_type": "stream",
     "text": [
      "Similarity column 38121 (100.0%), 4583.56 column/sec. Elapsed time 8.32 sec\n",
      "EvaluatorHoldout: Processed 35568 (100.0%) in 8.96 sec. Users per second: 3971\n"
     ]
    },
    {
     "name": "stderr",
     "output_type": "stream",
     "text": [
      "[I 2024-12-10 22:58:14,611] Trial 66 finished with value: 0.053091970265762546 and parameters: {'topK': 6, 'shrink': 47, 'feature_weighting': 'TF-IDF', 'asymmetric_alpha': 0.3588791957682206}. Best is trial 64 with value: 0.05387376025533727.\n"
     ]
    },
    {
     "name": "stdout",
     "output_type": "stream",
     "text": [
      "Similarity column 38121 (100.0%), 4709.68 column/sec. Elapsed time 8.09 sec\n",
      "EvaluatorHoldout: Processed 35568 (100.0%) in 9.21 sec. Users per second: 3860\n"
     ]
    },
    {
     "name": "stderr",
     "output_type": "stream",
     "text": [
      "[I 2024-12-10 22:58:31,999] Trial 67 finished with value: 0.05178395150982697 and parameters: {'topK': 15, 'shrink': 44, 'feature_weighting': 'TF-IDF', 'asymmetric_alpha': 0.21413532665832302}. Best is trial 64 with value: 0.05387376025533727.\n"
     ]
    },
    {
     "name": "stdout",
     "output_type": "stream",
     "text": [
      "Similarity column 38121 (100.0%), 4667.96 column/sec. Elapsed time 8.17 sec\n",
      "EvaluatorHoldout: Processed 35568 (100.0%) in 9.85 sec. Users per second: 3612\n"
     ]
    },
    {
     "name": "stderr",
     "output_type": "stream",
     "text": [
      "[I 2024-12-10 22:58:50,102] Trial 68 finished with value: 0.043157563379601416 and parameters: {'topK': 21, 'shrink': 40, 'feature_weighting': 'BM25', 'asymmetric_alpha': 0.4336156210228933}. Best is trial 64 with value: 0.05387376025533727.\n"
     ]
    },
    {
     "name": "stdout",
     "output_type": "stream",
     "text": [
      "Similarity column 38121 (100.0%), 4753.72 column/sec. Elapsed time 8.02 sec\n",
      "EvaluatorHoldout: Processed 35568 (100.0%) in 10.10 sec. Users per second: 3521\n"
     ]
    },
    {
     "name": "stderr",
     "output_type": "stream",
     "text": [
      "[I 2024-12-10 22:59:08,296] Trial 69 finished with value: 0.046861313941904646 and parameters: {'topK': 27, 'shrink': 42, 'feature_weighting': 'TF-IDF', 'asymmetric_alpha': 0.5561785947323763}. Best is trial 64 with value: 0.05387376025533727.\n"
     ]
    },
    {
     "name": "stdout",
     "output_type": "stream",
     "text": [
      "Similarity column 38121 (100.0%), 4687.49 column/sec. Elapsed time 8.13 sec\n",
      "EvaluatorHoldout: Processed 35568 (100.0%) in 10.25 sec. Users per second: 3471\n"
     ]
    },
    {
     "name": "stderr",
     "output_type": "stream",
     "text": [
      "[I 2024-12-10 22:59:26,724] Trial 70 finished with value: 0.045009906131066674 and parameters: {'topK': 10, 'shrink': 45, 'feature_weighting': 'none', 'asymmetric_alpha': 0.7637163057613494}. Best is trial 64 with value: 0.05387376025533727.\n"
     ]
    },
    {
     "name": "stdout",
     "output_type": "stream",
     "text": [
      "Similarity column 38121 (100.0%), 4453.51 column/sec. Elapsed time 8.56 sec\n",
      "EvaluatorHoldout: Processed 35568 (100.0%) in 8.93 sec. Users per second: 3982\n"
     ]
    },
    {
     "name": "stderr",
     "output_type": "stream",
     "text": [
      "[I 2024-12-10 22:59:44,302] Trial 71 finished with value: 0.05397429872758642 and parameters: {'topK': 5, 'shrink': 28, 'feature_weighting': 'TF-IDF', 'asymmetric_alpha': 0.19202467140615784}. Best is trial 71 with value: 0.05397429872758642.\n"
     ]
    },
    {
     "name": "stdout",
     "output_type": "stream",
     "text": [
      "Similarity column 38121 (100.0%), 4673.31 column/sec. Elapsed time 8.16 sec\n",
      "EvaluatorHoldout: Processed 35568 (100.0%) in 9.27 sec. Users per second: 3835\n"
     ]
    },
    {
     "name": "stderr",
     "output_type": "stream",
     "text": [
      "[I 2024-12-10 23:00:01,808] Trial 72 finished with value: 0.05362872101907012 and parameters: {'topK': 5, 'shrink': 19, 'feature_weighting': 'TF-IDF', 'asymmetric_alpha': 0.28244970371380523}. Best is trial 71 with value: 0.05397429872758642.\n"
     ]
    },
    {
     "name": "stdout",
     "output_type": "stream",
     "text": [
      "Similarity column 38121 (100.0%), 4720.01 column/sec. Elapsed time 8.08 sec\n",
      "EvaluatorHoldout: Processed 35568 (100.0%) in 9.22 sec. Users per second: 3856\n"
     ]
    },
    {
     "name": "stderr",
     "output_type": "stream",
     "text": [
      "[I 2024-12-10 23:00:19,196] Trial 73 finished with value: 0.052228901804009895 and parameters: {'topK': 12, 'shrink': 21, 'feature_weighting': 'TF-IDF', 'asymmetric_alpha': 0.15982428546638805}. Best is trial 71 with value: 0.05397429872758642.\n"
     ]
    },
    {
     "name": "stdout",
     "output_type": "stream",
     "text": [
      "Similarity column 38121 (100.0%), 4655.68 column/sec. Elapsed time 8.19 sec\n",
      "EvaluatorHoldout: Processed 35568 (100.0%) in 9.02 sec. Users per second: 3945\n"
     ]
    },
    {
     "name": "stderr",
     "output_type": "stream",
     "text": [
      "[I 2024-12-10 23:00:36,474] Trial 74 finished with value: 0.05316979347406808 and parameters: {'topK': 5, 'shrink': 18, 'feature_weighting': 'TF-IDF', 'asymmetric_alpha': 0.36359733812315265}. Best is trial 71 with value: 0.05397429872758642.\n"
     ]
    },
    {
     "name": "stdout",
     "output_type": "stream",
     "text": [
      "Similarity column 38121 (100.0%), 4728.05 column/sec. Elapsed time 8.06 sec\n",
      "EvaluatorHoldout: Processed 35568 (100.0%) in 9.14 sec. Users per second: 3894\n"
     ]
    },
    {
     "name": "stderr",
     "output_type": "stream",
     "text": [
      "[I 2024-12-10 23:00:53,750] Trial 75 finished with value: 0.051116300143162464 and parameters: {'topK': 18, 'shrink': 29, 'feature_weighting': 'TF-IDF', 'asymmetric_alpha': 0.28336167497556525}. Best is trial 71 with value: 0.05397429872758642.\n"
     ]
    },
    {
     "name": "stdout",
     "output_type": "stream",
     "text": [
      "Similarity column 38121 (100.0%), 4719.95 column/sec. Elapsed time 8.08 sec\n",
      "EvaluatorHoldout: Processed 35568 (100.0%) in 9.09 sec. Users per second: 3915\n"
     ]
    },
    {
     "name": "stderr",
     "output_type": "stream",
     "text": [
      "[I 2024-12-10 23:01:10,981] Trial 76 finished with value: 0.05274662573456238 and parameters: {'topK': 9, 'shrink': 8, 'feature_weighting': 'TF-IDF', 'asymmetric_alpha': 0.1967932253391475}. Best is trial 71 with value: 0.05397429872758642.\n"
     ]
    },
    {
     "name": "stdout",
     "output_type": "stream",
     "text": [
      "Similarity column 38121 (100.0%), 4628.42 column/sec. Elapsed time 8.24 sec\n",
      "EvaluatorHoldout: Processed 35568 (100.0%) in 9.27 sec. Users per second: 3837\n"
     ]
    },
    {
     "name": "stderr",
     "output_type": "stream",
     "text": [
      "[I 2024-12-10 23:01:28,557] Trial 77 finished with value: 0.053522859633055274 and parameters: {'topK': 4, 'shrink': 14, 'feature_weighting': 'TF-IDF', 'asymmetric_alpha': 0.10000522887841912}. Best is trial 71 with value: 0.05397429872758642.\n"
     ]
    },
    {
     "name": "stdout",
     "output_type": "stream",
     "text": [
      "Similarity column 38121 (100.0%), 4660.51 column/sec. Elapsed time 8.18 sec\n",
      "EvaluatorHoldout: Processed 35568 (100.0%) in 10.44 sec. Users per second: 3407\n"
     ]
    },
    {
     "name": "stderr",
     "output_type": "stream",
     "text": [
      "[I 2024-12-10 23:01:47,267] Trial 78 finished with value: 0.047397596109217205 and parameters: {'topK': 46, 'shrink': 49, 'feature_weighting': 'TF-IDF', 'asymmetric_alpha': 0.48722645783211593}. Best is trial 71 with value: 0.05397429872758642.\n"
     ]
    },
    {
     "name": "stdout",
     "output_type": "stream",
     "text": [
      "Similarity column 38121 (100.0%), 4751.67 column/sec. Elapsed time 8.02 sec\n",
      "EvaluatorHoldout: Processed 35568 (100.0%) in 9.13 sec. Users per second: 3898\n"
     ]
    },
    {
     "name": "stderr",
     "output_type": "stream",
     "text": [
      "[I 2024-12-10 23:02:04,490] Trial 79 finished with value: 0.05153954598033369 and parameters: {'topK': 13, 'shrink': 25, 'feature_weighting': 'TF-IDF', 'asymmetric_alpha': 0.32164315948387495}. Best is trial 71 with value: 0.05397429872758642.\n"
     ]
    },
    {
     "name": "stdout",
     "output_type": "stream",
     "text": [
      "Similarity column 38121 (100.0%), 4754.60 column/sec. Elapsed time 8.02 sec\n",
      "EvaluatorHoldout: Processed 35568 (100.0%) in 8.78 sec. Users per second: 4052\n"
     ]
    },
    {
     "name": "stderr",
     "output_type": "stream",
     "text": [
      "[I 2024-12-10 23:02:21,363] Trial 80 finished with value: 0.04535601825075374 and parameters: {'topK': 5, 'shrink': 15, 'feature_weighting': 'BM25', 'asymmetric_alpha': 0.38373701317477316}. Best is trial 71 with value: 0.05397429872758642.\n"
     ]
    },
    {
     "name": "stdout",
     "output_type": "stream",
     "text": [
      "Similarity column 38121 (100.0%), 2179.40 column/sec. Elapsed time 17.49 sec\n",
      "EvaluatorHoldout: Processed 35568 (100.0%) in 8.60 sec. Users per second: 4136\n"
     ]
    },
    {
     "name": "stderr",
     "output_type": "stream",
     "text": [
      "[I 2024-12-10 23:02:47,523] Trial 81 finished with value: 0.05010768106162631 and parameters: {'topK': 2, 'shrink': 13, 'feature_weighting': 'TF-IDF', 'asymmetric_alpha': 0.07466835852448735}. Best is trial 71 with value: 0.05397429872758642.\n"
     ]
    },
    {
     "name": "stdout",
     "output_type": "stream",
     "text": [
      "Similarity column 38121 (100.0%), 4768.93 column/sec. Elapsed time 7.99 sec\n",
      "EvaluatorHoldout: Processed 35568 (100.0%) in 8.88 sec. Users per second: 4003\n"
     ]
    },
    {
     "name": "stderr",
     "output_type": "stream",
     "text": [
      "[I 2024-12-10 23:03:04,472] Trial 82 finished with value: 0.05300044649551055 and parameters: {'topK': 8, 'shrink': 19, 'feature_weighting': 'TF-IDF', 'asymmetric_alpha': 0.11035487752570858}. Best is trial 71 with value: 0.05397429872758642.\n"
     ]
    },
    {
     "name": "stdout",
     "output_type": "stream",
     "text": [
      "Similarity column 38121 (100.0%), 4594.81 column/sec. Elapsed time 8.30 sec\n",
      "EvaluatorHoldout: Processed 35568 (100.0%) in 9.32 sec. Users per second: 3815\n"
     ]
    },
    {
     "name": "stderr",
     "output_type": "stream",
     "text": [
      "[I 2024-12-10 23:03:22,162] Trial 83 finished with value: 0.05374134789430662 and parameters: {'topK': 5, 'shrink': 14, 'feature_weighting': 'TF-IDF', 'asymmetric_alpha': 0.13538391245613016}. Best is trial 71 with value: 0.05397429872758642.\n"
     ]
    },
    {
     "name": "stdout",
     "output_type": "stream",
     "text": [
      "Similarity column 38121 (100.0%), 4635.27 column/sec. Elapsed time 8.22 sec\n",
      "EvaluatorHoldout: Processed 35568 (100.0%) in 9.20 sec. Users per second: 3866\n"
     ]
    },
    {
     "name": "stderr",
     "output_type": "stream",
     "text": [
      "[I 2024-12-10 23:03:39,660] Trial 84 finished with value: 0.05387863801240816 and parameters: {'topK': 5, 'shrink': 12, 'feature_weighting': 'TF-IDF', 'asymmetric_alpha': 0.1695287793780289}. Best is trial 71 with value: 0.05397429872758642.\n"
     ]
    },
    {
     "name": "stdout",
     "output_type": "stream",
     "text": [
      "Similarity column 38121 (100.0%), 4728.66 column/sec. Elapsed time 8.06 sec\n",
      "EvaluatorHoldout: Processed 35568 (100.0%) in 9.44 sec. Users per second: 3768\n"
     ]
    },
    {
     "name": "stderr",
     "output_type": "stream",
     "text": [
      "[I 2024-12-10 23:03:57,232] Trial 85 finished with value: 0.052448977679239187 and parameters: {'topK': 11, 'shrink': 15, 'feature_weighting': 'TF-IDF', 'asymmetric_alpha': 0.17370223749952524}. Best is trial 71 with value: 0.05397429872758642.\n"
     ]
    },
    {
     "name": "stdout",
     "output_type": "stream",
     "text": [
      "Similarity column 38121 (100.0%), 4667.65 column/sec. Elapsed time 8.17 sec\n",
      "EvaluatorHoldout: Processed 35568 (100.0%) in 8.96 sec. Users per second: 3968\n"
     ]
    },
    {
     "name": "stderr",
     "output_type": "stream",
     "text": [
      "[I 2024-12-10 23:04:14,438] Trial 86 finished with value: 0.05222416462273735 and parameters: {'topK': 8, 'shrink': 12, 'feature_weighting': 'TF-IDF', 'asymmetric_alpha': 0.03461312071689071}. Best is trial 71 with value: 0.05397429872758642.\n"
     ]
    },
    {
     "name": "stdout",
     "output_type": "stream",
     "text": [
      "Similarity column 38121 (100.0%), 4618.90 column/sec. Elapsed time 8.25 sec\n",
      "EvaluatorHoldout: Processed 35568 (100.0%) in 9.26 sec. Users per second: 3839\n"
     ]
    },
    {
     "name": "stderr",
     "output_type": "stream",
     "text": [
      "[I 2024-12-10 23:04:32,004] Trial 87 finished with value: 0.05150381071981804 and parameters: {'topK': 15, 'shrink': 5, 'feature_weighting': 'none', 'asymmetric_alpha': 0.22246075881158117}. Best is trial 71 with value: 0.05397429872758642.\n"
     ]
    },
    {
     "name": "stdout",
     "output_type": "stream",
     "text": [
      "Similarity column 38121 (100.0%), 4712.04 column/sec. Elapsed time 8.09 sec\n",
      "EvaluatorHoldout: Processed 35568 (100.0%) in 8.83 sec. Users per second: 4029\n"
     ]
    },
    {
     "name": "stderr",
     "output_type": "stream",
     "text": [
      "[I 2024-12-10 23:04:48,998] Trial 88 finished with value: 0.053981884242299084 and parameters: {'topK': 4, 'shrink': 10, 'feature_weighting': 'TF-IDF', 'asymmetric_alpha': 0.15929704110805593}. Best is trial 88 with value: 0.053981884242299084.\n"
     ]
    },
    {
     "name": "stdout",
     "output_type": "stream",
     "text": [
      "Similarity column 38121 (100.0%), 2171.23 column/sec. Elapsed time 17.56 sec\n",
      "EvaluatorHoldout: Processed 35568 (100.0%) in 8.79 sec. Users per second: 4046\n"
     ]
    },
    {
     "name": "stderr",
     "output_type": "stream",
     "text": [
      "[I 2024-12-10 23:05:15,419] Trial 89 finished with value: 0.05106218069211306 and parameters: {'topK': 2, 'shrink': 9, 'feature_weighting': 'TF-IDF', 'asymmetric_alpha': 0.13938961577863507}. Best is trial 88 with value: 0.053981884242299084.\n"
     ]
    },
    {
     "name": "stdout",
     "output_type": "stream",
     "text": [
      "Similarity column 38121 (100.0%), 4693.11 column/sec. Elapsed time 8.12 sec\n",
      "EvaluatorHoldout: Processed 35568 (100.0%) in 8.67 sec. Users per second: 4104\n"
     ]
    },
    {
     "name": "stderr",
     "output_type": "stream",
     "text": [
      "[I 2024-12-10 23:05:32,278] Trial 90 finished with value: 0.051859450754734165 and parameters: {'topK': 4, 'shrink': 6, 'feature_weighting': 'TF-IDF', 'asymmetric_alpha': 0.00312449315734728}. Best is trial 88 with value: 0.053981884242299084.\n"
     ]
    },
    {
     "name": "stdout",
     "output_type": "stream",
     "text": [
      "Similarity column 38121 (100.0%), 4686.46 column/sec. Elapsed time 8.13 sec\n",
      "EvaluatorHoldout: Processed 35568 (100.0%) in 9.32 sec. Users per second: 3815\n"
     ]
    },
    {
     "name": "stderr",
     "output_type": "stream",
     "text": [
      "[I 2024-12-10 23:05:49,810] Trial 91 finished with value: 0.052133245551555414 and parameters: {'topK': 11, 'shrink': 11, 'feature_weighting': 'TF-IDF', 'asymmetric_alpha': 0.2693314671777243}. Best is trial 88 with value: 0.053981884242299084.\n"
     ]
    },
    {
     "name": "stdout",
     "output_type": "stream",
     "text": [
      "Similarity column 38121 (100.0%), 4745.93 column/sec. Elapsed time 8.03 sec\n",
      "EvaluatorHoldout: Processed 35568 (100.0%) in 8.92 sec. Users per second: 3988\n"
     ]
    },
    {
     "name": "stderr",
     "output_type": "stream",
     "text": [
      "[I 2024-12-10 23:06:06,830] Trial 92 finished with value: 0.05330971436782667 and parameters: {'topK': 7, 'shrink': 8, 'feature_weighting': 'TF-IDF', 'asymmetric_alpha': 0.19219327646556855}. Best is trial 88 with value: 0.053981884242299084.\n"
     ]
    },
    {
     "name": "stdout",
     "output_type": "stream",
     "text": [
      "Similarity column 38121 (100.0%), 4648.54 column/sec. Elapsed time 8.20 sec\n",
      "EvaluatorHoldout: Processed 35568 (100.0%) in 8.81 sec. Users per second: 4039\n"
     ]
    },
    {
     "name": "stderr",
     "output_type": "stream",
     "text": [
      "[I 2024-12-10 23:06:23,912] Trial 93 finished with value: 0.05363584352619261 and parameters: {'topK': 5, 'shrink': 12, 'feature_weighting': 'TF-IDF', 'asymmetric_alpha': 0.13076856005025103}. Best is trial 88 with value: 0.053981884242299084.\n"
     ]
    },
    {
     "name": "stdout",
     "output_type": "stream",
     "text": [
      "Similarity column 38121 (100.0%), 4620.49 column/sec. Elapsed time 8.25 sec\n",
      "EvaluatorHoldout: Processed 35568 (100.0%) in 9.08 sec. Users per second: 3918\n"
     ]
    },
    {
     "name": "stderr",
     "output_type": "stream",
     "text": [
      "[I 2024-12-10 23:06:41,317] Trial 94 finished with value: 0.05244566410684644 and parameters: {'topK': 9, 'shrink': 16, 'feature_weighting': 'TF-IDF', 'asymmetric_alpha': 0.06309636941959823}. Best is trial 88 with value: 0.053981884242299084.\n"
     ]
    },
    {
     "name": "stdout",
     "output_type": "stream",
     "text": [
      "Similarity column 38121 (100.0%), 4622.61 column/sec. Elapsed time 8.25 sec\n",
      "EvaluatorHoldout: Processed 35568 (100.0%) in 8.96 sec. Users per second: 3968\n"
     ]
    },
    {
     "name": "stderr",
     "output_type": "stream",
     "text": [
      "[I 2024-12-10 23:06:58,603] Trial 95 finished with value: 0.05385393125798651 and parameters: {'topK': 4, 'shrink': 11, 'feature_weighting': 'TF-IDF', 'asymmetric_alpha': 0.13519670045906565}. Best is trial 88 with value: 0.053981884242299084.\n"
     ]
    },
    {
     "name": "stdout",
     "output_type": "stream",
     "text": [
      "Similarity column 38121 (100.0%), 4607.06 column/sec. Elapsed time 8.27 sec\n",
      "EvaluatorHoldout: Processed 35568 (100.0%) in 8.81 sec. Users per second: 4036\n"
     ]
    },
    {
     "name": "stderr",
     "output_type": "stream",
     "text": [
      "[I 2024-12-10 23:07:15,771] Trial 96 finished with value: 0.05382115701468603 and parameters: {'topK': 4, 'shrink': 11, 'feature_weighting': 'TF-IDF', 'asymmetric_alpha': 0.12973016323283404}. Best is trial 88 with value: 0.053981884242299084.\n"
     ]
    },
    {
     "name": "stdout",
     "output_type": "stream",
     "text": [
      "Similarity column 38121 (100.0%), 4648.30 column/sec. Elapsed time 8.20 sec\n",
      "EvaluatorHoldout: Processed 35568 (100.0%) in 8.81 sec. Users per second: 4036\n"
     ]
    },
    {
     "name": "stderr",
     "output_type": "stream",
     "text": [
      "[I 2024-12-10 23:07:32,850] Trial 97 finished with value: 0.05345868343401073 and parameters: {'topK': 4, 'shrink': 11, 'feature_weighting': 'TF-IDF', 'asymmetric_alpha': 0.09832809651182571}. Best is trial 88 with value: 0.053981884242299084.\n"
     ]
    },
    {
     "name": "stdout",
     "output_type": "stream",
     "text": [
      "Similarity column 38121 (100.0%), 4714.03 column/sec. Elapsed time 8.09 sec\n",
      "EvaluatorHoldout: Processed 35568 (100.0%) in 9.25 sec. Users per second: 3847\n"
     ]
    },
    {
     "name": "stderr",
     "output_type": "stream",
     "text": [
      "[I 2024-12-10 23:07:50,263] Trial 98 finished with value: 0.051526780359015326 and parameters: {'topK': 17, 'shrink': 3, 'feature_weighting': 'TF-IDF', 'asymmetric_alpha': 0.14166391893401487}. Best is trial 88 with value: 0.053981884242299084.\n"
     ]
    },
    {
     "name": "stdout",
     "output_type": "stream",
     "text": [
      "Similarity column 38121 (100.0%), 4727.68 column/sec. Elapsed time 8.06 sec\n",
      "EvaluatorHoldout: Processed 35568 (100.0%) in 9.18 sec. Users per second: 3873\n"
     ]
    },
    {
     "name": "stderr",
     "output_type": "stream",
     "text": [
      "[I 2024-12-10 23:08:07,581] Trial 99 finished with value: 0.05153548936443494 and parameters: {'topK': 12, 'shrink': 13, 'feature_weighting': 'TF-IDF', 'asymmetric_alpha': 0.0349612665607046}. Best is trial 88 with value: 0.053981884242299084.\n"
     ]
    },
    {
     "name": "stdout",
     "output_type": "stream",
     "text": [
      "Similarity column 38121 (100.0%), 4668.92 column/sec. Elapsed time 8.16 sec\n",
      "EvaluatorHoldout: Processed 35568 (100.0%) in 11.00 sec. Users per second: 3234\n"
     ]
    },
    {
     "name": "stderr",
     "output_type": "stream",
     "text": [
      "[I 2024-12-10 23:08:26,847] Trial 100 finished with value: 0.04824920764339432 and parameters: {'topK': 78, 'shrink': 8, 'feature_weighting': 'TF-IDF', 'asymmetric_alpha': 0.13615505119547253}. Best is trial 88 with value: 0.053981884242299084.\n"
     ]
    },
    {
     "name": "stdout",
     "output_type": "stream",
     "text": [
      "Similarity column 38121 (100.0%), 2135.50 column/sec. Elapsed time 17.85 sec\n",
      "EvaluatorHoldout: Processed 35568 (100.0%) in 9.14 sec. Users per second: 3890\n"
     ]
    },
    {
     "name": "stderr",
     "output_type": "stream",
     "text": [
      "[I 2024-12-10 23:08:53,915] Trial 101 finished with value: 0.0517038902455552 and parameters: {'topK': 2, 'shrink': 10, 'feature_weighting': 'TF-IDF', 'asymmetric_alpha': 0.23216006438922193}. Best is trial 88 with value: 0.053981884242299084.\n"
     ]
    },
    {
     "name": "stdout",
     "output_type": "stream",
     "text": [
      "Similarity column 38121 (100.0%), 4759.55 column/sec. Elapsed time 8.01 sec\n",
      "EvaluatorHoldout: Processed 35568 (100.0%) in 9.22 sec. Users per second: 3860\n"
     ]
    },
    {
     "name": "stderr",
     "output_type": "stream",
     "text": [
      "[I 2024-12-10 23:09:11,210] Trial 102 finished with value: 0.05309136110396897 and parameters: {'topK': 8, 'shrink': 13, 'feature_weighting': 'TF-IDF', 'asymmetric_alpha': 0.1877409031274787}. Best is trial 88 with value: 0.053981884242299084.\n"
     ]
    },
    {
     "name": "stdout",
     "output_type": "stream",
     "text": [
      "Similarity column 38121 (100.0%), 4727.72 column/sec. Elapsed time 8.06 sec\n",
      "EvaluatorHoldout: Processed 35568 (100.0%) in 9.71 sec. Users per second: 3662\n"
     ]
    },
    {
     "name": "stderr",
     "output_type": "stream",
     "text": [
      "[I 2024-12-10 23:09:29,059] Trial 103 finished with value: 0.03035221266306722 and parameters: {'topK': 4, 'shrink': 11, 'feature_weighting': 'TF-IDF', 'asymmetric_alpha': 1.0093639466091509}. Best is trial 88 with value: 0.053981884242299084.\n"
     ]
    },
    {
     "name": "stdout",
     "output_type": "stream",
     "text": [
      "Similarity column 38121 (100.0%), 4619.26 column/sec. Elapsed time 8.25 sec\n",
      "EvaluatorHoldout: Processed 35568 (100.0%) in 8.91 sec. Users per second: 3991\n"
     ]
    },
    {
     "name": "stderr",
     "output_type": "stream",
     "text": [
      "[I 2024-12-10 23:09:46,296] Trial 104 finished with value: 0.05316970310391197 and parameters: {'topK': 7, 'shrink': 6, 'feature_weighting': 'TF-IDF', 'asymmetric_alpha': 0.1207024644900241}. Best is trial 88 with value: 0.053981884242299084.\n"
     ]
    },
    {
     "name": "stdout",
     "output_type": "stream",
     "text": [
      "Similarity column 38121 (100.0%), 4762.38 column/sec. Elapsed time 8.00 sec\n",
      "EvaluatorHoldout: Processed 35568 (100.0%) in 8.90 sec. Users per second: 3995\n"
     ]
    },
    {
     "name": "stderr",
     "output_type": "stream",
     "text": [
      "[I 2024-12-10 23:10:03,271] Trial 105 finished with value: 0.05288391362130236 and parameters: {'topK': 4, 'shrink': 15, 'feature_weighting': 'TF-IDF', 'asymmetric_alpha': 0.050552725802533185}. Best is trial 88 with value: 0.053981884242299084.\n"
     ]
    },
    {
     "name": "stdout",
     "output_type": "stream",
     "text": [
      "Similarity column 38121 (100.0%), 4688.72 column/sec. Elapsed time 8.13 sec\n",
      "EvaluatorHoldout: Processed 35568 (100.0%) in 9.39 sec. Users per second: 3787\n"
     ]
    },
    {
     "name": "stderr",
     "output_type": "stream",
     "text": [
      "[I 2024-12-10 23:10:20,865] Trial 106 finished with value: 0.044591012565243546 and parameters: {'topK': 10, 'shrink': 12, 'feature_weighting': 'BM25', 'asymmetric_alpha': 0.24717912083783972}. Best is trial 88 with value: 0.053981884242299084.\n"
     ]
    },
    {
     "name": "stdout",
     "output_type": "stream",
     "text": [
      "Similarity column 38121 (100.0%), 4787.50 column/sec. Elapsed time 7.96 sec\n",
      "EvaluatorHoldout: Processed 35568 (100.0%) in 11.62 sec. Users per second: 3061\n"
     ]
    },
    {
     "name": "stderr",
     "output_type": "stream",
     "text": [
      "[I 2024-12-10 23:10:40,514] Trial 107 finished with value: 0.015482057842255391 and parameters: {'topK': 14, 'shrink': 9, 'feature_weighting': 'TF-IDF', 'asymmetric_alpha': 1.254640417740992}. Best is trial 88 with value: 0.053981884242299084.\n"
     ]
    },
    {
     "name": "stdout",
     "output_type": "stream",
     "text": [
      "Similarity column 38121 (100.0%), 4615.99 column/sec. Elapsed time 8.26 sec\n",
      "EvaluatorHoldout: Processed 35568 (100.0%) in 9.70 sec. Users per second: 3666\n"
     ]
    },
    {
     "name": "stderr",
     "output_type": "stream",
     "text": [
      "[I 2024-12-10 23:10:58,524] Trial 108 finished with value: 0.04974505351698156 and parameters: {'topK': 22, 'shrink': 17, 'feature_weighting': 'none', 'asymmetric_alpha': 0.30987966235808284}. Best is trial 88 with value: 0.053981884242299084.\n"
     ]
    },
    {
     "name": "stdout",
     "output_type": "stream",
     "text": [
      "Similarity column 38121 (100.0%), 2162.95 column/sec. Elapsed time 17.62 sec\n",
      "EvaluatorHoldout: Processed 35568 (100.0%) in 8.79 sec. Users per second: 4046\n"
     ]
    },
    {
     "name": "stderr",
     "output_type": "stream",
     "text": [
      "[I 2024-12-10 23:11:25,003] Trial 109 finished with value: 0.0515915869177914 and parameters: {'topK': 2, 'shrink': 21, 'feature_weighting': 'TF-IDF', 'asymmetric_alpha': 0.17632673617160052}. Best is trial 88 with value: 0.053981884242299084.\n"
     ]
    },
    {
     "name": "stdout",
     "output_type": "stream",
     "text": [
      "Similarity column 38121 (100.0%), 4807.10 column/sec. Elapsed time 7.93 sec\n",
      "EvaluatorHoldout: Processed 35568 (100.0%) in 9.70 sec. Users per second: 3667\n"
     ]
    },
    {
     "name": "stderr",
     "output_type": "stream",
     "text": [
      "[I 2024-12-10 23:11:42,705] Trial 110 finished with value: 0.035791022249354515 and parameters: {'topK': 6, 'shrink': 14, 'feature_weighting': 'TF-IDF', 'asymmetric_alpha': 0.931349198292976}. Best is trial 88 with value: 0.053981884242299084.\n"
     ]
    },
    {
     "name": "stdout",
     "output_type": "stream",
     "text": [
      "Similarity column 38121 (100.0%), 4681.05 column/sec. Elapsed time 8.14 sec\n",
      "EvaluatorHoldout: Processed 35568 (100.0%) in 9.51 sec. Users per second: 3741\n"
     ]
    },
    {
     "name": "stderr",
     "output_type": "stream",
     "text": [
      "[I 2024-12-10 23:12:00,424] Trial 111 finished with value: 0.05373075227241719 and parameters: {'topK': 5, 'shrink': 10, 'feature_weighting': 'TF-IDF', 'asymmetric_alpha': 0.2590578173436906}. Best is trial 88 with value: 0.053981884242299084.\n"
     ]
    },
    {
     "name": "stdout",
     "output_type": "stream",
     "text": [
      "Similarity column 38121 (100.0%), 4530.40 column/sec. Elapsed time 8.41 sec\n",
      "EvaluatorHoldout: Processed 35568 (100.0%) in 9.10 sec. Users per second: 3907\n"
     ]
    },
    {
     "name": "stderr",
     "output_type": "stream",
     "text": [
      "[I 2024-12-10 23:12:18,013] Trial 112 finished with value: 0.05383022192232543 and parameters: {'topK': 5, 'shrink': 10, 'feature_weighting': 'TF-IDF', 'asymmetric_alpha': 0.2284040340272617}. Best is trial 88 with value: 0.053981884242299084.\n"
     ]
    },
    {
     "name": "stdout",
     "output_type": "stream",
     "text": [
      "Similarity column 38121 (100.0%), 4555.12 column/sec. Elapsed time 8.37 sec\n",
      "EvaluatorHoldout: Processed 35568 (100.0%) in 9.95 sec. Users per second: 3574\n"
     ]
    },
    {
     "name": "stderr",
     "output_type": "stream",
     "text": [
      "[I 2024-12-10 23:12:36,407] Trial 113 finished with value: 0.05384679424701191 and parameters: {'topK': 5, 'shrink': 10, 'feature_weighting': 'TF-IDF', 'asymmetric_alpha': 0.21541547421512883}. Best is trial 88 with value: 0.053981884242299084.\n"
     ]
    },
    {
     "name": "stdout",
     "output_type": "stream",
     "text": [
      "Similarity column 38121 (100.0%), 4723.81 column/sec. Elapsed time 8.07 sec\n",
      "EvaluatorHoldout: Processed 35568 (100.0%) in 9.29 sec. Users per second: 3827\n"
     ]
    },
    {
     "name": "stderr",
     "output_type": "stream",
     "text": [
      "[I 2024-12-10 23:12:53,837] Trial 114 finished with value: 0.05268441871237749 and parameters: {'topK': 9, 'shrink': 10, 'feature_weighting': 'TF-IDF', 'asymmetric_alpha': 0.2115693506196372}. Best is trial 88 with value: 0.053981884242299084.\n"
     ]
    },
    {
     "name": "stdout",
     "output_type": "stream",
     "text": [
      "Similarity column 38121 (100.0%), 4595.95 column/sec. Elapsed time 8.29 sec\n",
      "EvaluatorHoldout: Processed 35568 (100.0%) in 9.08 sec. Users per second: 3918\n"
     ]
    },
    {
     "name": "stderr",
     "output_type": "stream",
     "text": [
      "[I 2024-12-10 23:13:11,280] Trial 115 finished with value: 0.052151268261463844 and parameters: {'topK': 11, 'shrink': 7, 'feature_weighting': 'TF-IDF', 'asymmetric_alpha': 0.08058227039865584}. Best is trial 88 with value: 0.053981884242299084.\n"
     ]
    },
    {
     "name": "stdout",
     "output_type": "stream",
     "text": [
      "Similarity column 38121 (100.0%), 4715.38 column/sec. Elapsed time 8.08 sec\n",
      "EvaluatorHoldout: Processed 35568 (100.0%) in 19.34 sec. Users per second: 1839\n"
     ]
    },
    {
     "name": "stderr",
     "output_type": "stream",
     "text": [
      "[I 2024-12-10 23:13:38,804] Trial 116 finished with value: 0.004006927932366522 and parameters: {'topK': 93, 'shrink': 9, 'feature_weighting': 'TF-IDF', 'asymmetric_alpha': 1.9403156014866136}. Best is trial 88 with value: 0.053981884242299084.\n"
     ]
    },
    {
     "name": "stdout",
     "output_type": "stream",
     "text": [
      "Similarity column 38121 (100.0%), 4645.98 column/sec. Elapsed time 8.21 sec\n",
      "EvaluatorHoldout: Processed 35568 (100.0%) in 9.25 sec. Users per second: 3844\n"
     ]
    },
    {
     "name": "stderr",
     "output_type": "stream",
     "text": [
      "[I 2024-12-10 23:13:56,330] Trial 117 finished with value: 0.05321060954558589 and parameters: {'topK': 7, 'shrink': 4, 'feature_weighting': 'TF-IDF', 'asymmetric_alpha': 0.14398667397913528}. Best is trial 88 with value: 0.053981884242299084.\n"
     ]
    },
    {
     "name": "stdout",
     "output_type": "stream",
     "text": [
      "Similarity column 38121 (100.0%), 4608.04 column/sec. Elapsed time 8.27 sec\n",
      "EvaluatorHoldout: Processed 35568 (100.0%) in 9.51 sec. Users per second: 3740\n"
     ]
    },
    {
     "name": "stderr",
     "output_type": "stream",
     "text": [
      "[I 2024-12-10 23:14:14,187] Trial 118 finished with value: 0.05335296820219902 and parameters: {'topK': 5, 'shrink': 12, 'feature_weighting': 'TF-IDF', 'asymmetric_alpha': 0.3410754221713503}. Best is trial 88 with value: 0.053981884242299084.\n"
     ]
    },
    {
     "name": "stdout",
     "output_type": "stream",
     "text": [
      "Similarity column 38121 (100.0%), 2135.22 column/sec. Elapsed time 17.85 sec\n",
      "EvaluatorHoldout: Processed 35568 (100.0%) in 9.11 sec. Users per second: 3903\n"
     ]
    },
    {
     "name": "stderr",
     "output_type": "stream",
     "text": [
      "[I 2024-12-10 23:14:41,229] Trial 119 finished with value: 0.051683854847230225 and parameters: {'topK': 2, 'shrink': 7, 'feature_weighting': 'TF-IDF', 'asymmetric_alpha': 0.23311699505465389}. Best is trial 88 with value: 0.053981884242299084.\n"
     ]
    },
    {
     "name": "stdout",
     "output_type": "stream",
     "text": [
      "Similarity column 38121 (100.0%), 4734.40 column/sec. Elapsed time 8.05 sec\n",
      "EvaluatorHoldout: Processed 35568 (100.0%) in 9.33 sec. Users per second: 3812\n"
     ]
    },
    {
     "name": "stderr",
     "output_type": "stream",
     "text": [
      "[I 2024-12-10 23:14:58,689] Trial 120 finished with value: 0.05215833610022036 and parameters: {'topK': 13, 'shrink': 11, 'feature_weighting': 'TF-IDF', 'asymmetric_alpha': 0.17558937349951273}. Best is trial 88 with value: 0.053981884242299084.\n"
     ]
    },
    {
     "name": "stdout",
     "output_type": "stream",
     "text": [
      "Similarity column 38121 (100.0%), 4618.06 column/sec. Elapsed time 8.25 sec\n",
      "EvaluatorHoldout: Processed 35568 (100.0%) in 9.02 sec. Users per second: 3944\n"
     ]
    },
    {
     "name": "stderr",
     "output_type": "stream",
     "text": [
      "[I 2024-12-10 23:15:16,037] Trial 121 finished with value: 0.05287430537704496 and parameters: {'topK': 5, 'shrink': 10, 'feature_weighting': 'TF-IDF', 'asymmetric_alpha': 0.4040267033677106}. Best is trial 88 with value: 0.053981884242299084.\n"
     ]
    },
    {
     "name": "stdout",
     "output_type": "stream",
     "text": [
      "Similarity column 38121 (100.0%), 4700.44 column/sec. Elapsed time 8.11 sec\n",
      "EvaluatorHoldout: Processed 35568 (100.0%) in 8.95 sec. Users per second: 3974\n"
     ]
    },
    {
     "name": "stderr",
     "output_type": "stream",
     "text": [
      "[I 2024-12-10 23:15:33,172] Trial 122 finished with value: 0.052825504377037584 and parameters: {'topK': 8, 'shrink': 12, 'feature_weighting': 'TF-IDF', 'asymmetric_alpha': 0.27363653289286116}. Best is trial 88 with value: 0.053981884242299084.\n"
     ]
    },
    {
     "name": "stdout",
     "output_type": "stream",
     "text": [
      "Similarity column 38121 (100.0%), 4637.60 column/sec. Elapsed time 8.22 sec\n",
      "EvaluatorHoldout: Processed 35568 (100.0%) in 9.09 sec. Users per second: 3911\n"
     ]
    },
    {
     "name": "stderr",
     "output_type": "stream",
     "text": [
      "[I 2024-12-10 23:15:50,557] Trial 123 finished with value: 0.0536010521317522 and parameters: {'topK': 4, 'shrink': 14, 'feature_weighting': 'TF-IDF', 'asymmetric_alpha': 0.10886798656391769}. Best is trial 88 with value: 0.053981884242299084.\n"
     ]
    },
    {
     "name": "stdout",
     "output_type": "stream",
     "text": [
      "Similarity column 38121 (100.0%), 4642.99 column/sec. Elapsed time 8.21 sec\n",
      "EvaluatorHoldout: Processed 35568 (100.0%) in 9.11 sec. Users per second: 3903\n"
     ]
    },
    {
     "name": "stderr",
     "output_type": "stream",
     "text": [
      "[I 2024-12-10 23:16:07,948] Trial 124 finished with value: 0.05335300055694642 and parameters: {'topK': 6, 'shrink': 9, 'feature_weighting': 'TF-IDF', 'asymmetric_alpha': 0.29092836147365214}. Best is trial 88 with value: 0.053981884242299084.\n"
     ]
    },
    {
     "name": "stdout",
     "output_type": "stream",
     "text": [
      "Similarity column 38121 (100.0%), 4579.41 column/sec. Elapsed time 8.32 sec\n",
      "EvaluatorHoldout: Processed 35568 (100.0%) in 9.42 sec. Users per second: 3776\n"
     ]
    },
    {
     "name": "stderr",
     "output_type": "stream",
     "text": [
      "[I 2024-12-10 23:16:25,765] Trial 125 finished with value: 0.052479703532333125 and parameters: {'topK': 10, 'shrink': 14, 'feature_weighting': 'TF-IDF', 'asymmetric_alpha': 0.20087092920162414}. Best is trial 88 with value: 0.053981884242299084.\n"
     ]
    },
    {
     "name": "stdout",
     "output_type": "stream",
     "text": [
      "Similarity column 38121 (100.0%), 4651.65 column/sec. Elapsed time 8.20 sec\n",
      "EvaluatorHoldout: Processed 35568 (100.0%) in 9.31 sec. Users per second: 3819\n"
     ]
    },
    {
     "name": "stderr",
     "output_type": "stream",
     "text": [
      "[I 2024-12-10 23:16:43,347] Trial 126 finished with value: 0.053122061296401735 and parameters: {'topK': 8, 'shrink': 16, 'feature_weighting': 'TF-IDF', 'asymmetric_alpha': 0.14904724163787889}. Best is trial 88 with value: 0.053981884242299084.\n"
     ]
    },
    {
     "name": "stdout",
     "output_type": "stream",
     "text": [
      "Similarity column 38121 (100.0%), 4693.44 column/sec. Elapsed time 8.12 sec\n",
      "EvaluatorHoldout: Processed 35568 (100.0%) in 9.04 sec. Users per second: 3934\n"
     ]
    },
    {
     "name": "stderr",
     "output_type": "stream",
     "text": [
      "[I 2024-12-10 23:17:00,587] Trial 127 finished with value: 0.04498205985047954 and parameters: {'topK': 4, 'shrink': 11, 'feature_weighting': 'BM25', 'asymmetric_alpha': 0.046663918784927705}. Best is trial 88 with value: 0.053981884242299084.\n"
     ]
    },
    {
     "name": "stdout",
     "output_type": "stream",
     "text": [
      "Similarity column 38121 (100.0%), 4611.77 column/sec. Elapsed time 8.27 sec\n",
      "EvaluatorHoldout: Processed 35568 (100.0%) in 9.41 sec. Users per second: 3779\n"
     ]
    },
    {
     "name": "stderr",
     "output_type": "stream",
     "text": [
      "[I 2024-12-10 23:17:18,336] Trial 128 finished with value: 0.05227881513791421 and parameters: {'topK': 11, 'shrink': 19, 'feature_weighting': 'TF-IDF', 'asymmetric_alpha': 0.24211775482122122}. Best is trial 88 with value: 0.053981884242299084.\n"
     ]
    },
    {
     "name": "stdout",
     "output_type": "stream",
     "text": [
      "Similarity column 38121 (100.0%), 2140.85 column/sec. Elapsed time 17.81 sec\n",
      "EvaluatorHoldout: Processed 35568 (100.0%) in 9.06 sec. Users per second: 3927\n"
     ]
    },
    {
     "name": "stderr",
     "output_type": "stream",
     "text": [
      "[I 2024-12-10 23:17:45,275] Trial 129 finished with value: 0.05137533224978222 and parameters: {'topK': 2, 'shrink': 7, 'feature_weighting': 'TF-IDF', 'asymmetric_alpha': 0.30719538733486745}. Best is trial 88 with value: 0.053981884242299084.\n"
     ]
    },
    {
     "name": "stdout",
     "output_type": "stream",
     "text": [
      "Similarity column 38121 (100.0%), 4765.87 column/sec. Elapsed time 8.00 sec\n",
      "EvaluatorHoldout: Processed 35568 (100.0%) in 9.07 sec. Users per second: 3921\n"
     ]
    },
    {
     "name": "stderr",
     "output_type": "stream",
     "text": [
      "[I 2024-12-10 23:18:02,419] Trial 130 finished with value: 0.05340838853722452 and parameters: {'topK': 6, 'shrink': 13, 'feature_weighting': 'TF-IDF', 'asymmetric_alpha': 0.09004606031029784}. Best is trial 88 with value: 0.053981884242299084.\n"
     ]
    },
    {
     "name": "stdout",
     "output_type": "stream",
     "text": [
      "Similarity column 38121 (100.0%), 4591.52 column/sec. Elapsed time 8.30 sec\n",
      "EvaluatorHoldout: Processed 35568 (100.0%) in 9.41 sec. Users per second: 3780\n"
     ]
    },
    {
     "name": "stderr",
     "output_type": "stream",
     "text": [
      "[I 2024-12-10 23:18:20,210] Trial 131 finished with value: 0.05326394801997695 and parameters: {'topK': 4, 'shrink': 10, 'feature_weighting': 'TF-IDF', 'asymmetric_alpha': 0.36179617284377885}. Best is trial 88 with value: 0.053981884242299084.\n"
     ]
    },
    {
     "name": "stdout",
     "output_type": "stream",
     "text": [
      "Similarity column 38121 (100.0%), 2130.04 column/sec. Elapsed time 17.90 sec\n",
      "EvaluatorHoldout: Processed 35568 (100.0%) in 9.23 sec. Users per second: 3854\n"
     ]
    },
    {
     "name": "stderr",
     "output_type": "stream",
     "text": [
      "[I 2024-12-10 23:18:47,412] Trial 132 finished with value: 0.05166209795321475 and parameters: {'topK': 2, 'shrink': 8, 'feature_weighting': 'TF-IDF', 'asymmetric_alpha': 0.2025670250455144}. Best is trial 88 with value: 0.053981884242299084.\n"
     ]
    },
    {
     "name": "stdout",
     "output_type": "stream",
     "text": [
      "Similarity column 38121 (100.0%), 4536.64 column/sec. Elapsed time 8.40 sec\n",
      "EvaluatorHoldout: Processed 35568 (100.0%) in 10.08 sec. Users per second: 3528\n"
     ]
    },
    {
     "name": "stderr",
     "output_type": "stream",
     "text": [
      "[I 2024-12-10 23:19:05,976] Trial 133 finished with value: 0.04979593860898507 and parameters: {'topK': 33, 'shrink': 12, 'feature_weighting': 'TF-IDF', 'asymmetric_alpha': 0.25735173361544306}. Best is trial 88 with value: 0.053981884242299084.\n"
     ]
    },
    {
     "name": "stdout",
     "output_type": "stream",
     "text": [
      "Similarity column 38121 (100.0%), 4468.88 column/sec. Elapsed time 8.53 sec\n",
      "EvaluatorHoldout: Processed 35568 (100.0%) in 9.45 sec. Users per second: 3764\n"
     ]
    },
    {
     "name": "stderr",
     "output_type": "stream",
     "text": [
      "[I 2024-12-10 23:19:24,012] Trial 134 finished with value: 0.053874149627985285 and parameters: {'topK': 7, 'shrink': 9, 'feature_weighting': 'none', 'asymmetric_alpha': 0.15443776405771273}. Best is trial 88 with value: 0.053981884242299084.\n"
     ]
    },
    {
     "name": "stdout",
     "output_type": "stream",
     "text": [
      "Similarity column 38121 (100.0%), 4481.36 column/sec. Elapsed time 8.51 sec\n",
      "EvaluatorHoldout: Processed 35568 (100.0%) in 9.58 sec. Users per second: 3713\n"
     ]
    },
    {
     "name": "stderr",
     "output_type": "stream",
     "text": [
      "[I 2024-12-10 23:19:42,150] Trial 135 finished with value: 0.05355315594898739 and parameters: {'topK': 8, 'shrink': 9, 'feature_weighting': 'none', 'asymmetric_alpha': 0.12684987694400054}. Best is trial 88 with value: 0.053981884242299084.\n"
     ]
    },
    {
     "name": "stdout",
     "output_type": "stream",
     "text": [
      "Similarity column 38121 (100.0%), 4469.17 column/sec. Elapsed time 8.53 sec\n",
      "EvaluatorHoldout: Processed 35568 (100.0%) in 9.43 sec. Users per second: 3773\n"
     ]
    },
    {
     "name": "stderr",
     "output_type": "stream",
     "text": [
      "[I 2024-12-10 23:20:00,161] Trial 136 finished with value: 0.054355396370197144 and parameters: {'topK': 6, 'shrink': 10, 'feature_weighting': 'none', 'asymmetric_alpha': 0.16293174362676732}. Best is trial 136 with value: 0.054355396370197144.\n"
     ]
    },
    {
     "name": "stdout",
     "output_type": "stream",
     "text": [
      "Similarity column 38121 (100.0%), 4458.10 column/sec. Elapsed time 8.55 sec\n",
      "EvaluatorHoldout: Processed 35568 (100.0%) in 10.79 sec. Users per second: 3298\n"
     ]
    },
    {
     "name": "stderr",
     "output_type": "stream",
     "text": [
      "[I 2024-12-10 23:20:19,569] Trial 137 finished with value: 0.04775036884411694 and parameters: {'topK': 55, 'shrink': 10, 'feature_weighting': 'none', 'asymmetric_alpha': 0.15313284014443931}. Best is trial 136 with value: 0.054355396370197144.\n"
     ]
    },
    {
     "name": "stdout",
     "output_type": "stream",
     "text": [
      "Similarity column 38121 (100.0%), 4461.38 column/sec. Elapsed time 8.54 sec\n",
      "EvaluatorHoldout: Processed 35568 (100.0%) in 9.27 sec. Users per second: 3835\n"
     ]
    },
    {
     "name": "stderr",
     "output_type": "stream",
     "text": [
      "[I 2024-12-10 23:20:37,440] Trial 138 finished with value: 0.05255253629979329 and parameters: {'topK': 9, 'shrink': 5, 'feature_weighting': 'none', 'asymmetric_alpha': 0.00993810242808607}. Best is trial 136 with value: 0.054355396370197144.\n"
     ]
    },
    {
     "name": "stdout",
     "output_type": "stream",
     "text": [
      "Similarity column 38121 (100.0%), 4464.03 column/sec. Elapsed time 8.54 sec\n",
      "EvaluatorHoldout: Processed 35568 (100.0%) in 9.67 sec. Users per second: 3680\n"
     ]
    },
    {
     "name": "stderr",
     "output_type": "stream",
     "text": [
      "[I 2024-12-10 23:20:55,704] Trial 139 finished with value: 0.051039595962839725 and parameters: {'topK': 15, 'shrink': 32, 'feature_weighting': 'none', 'asymmetric_alpha': 0.08774506575259157}. Best is trial 136 with value: 0.054355396370197144.\n"
     ]
    },
    {
     "name": "stdout",
     "output_type": "stream",
     "text": [
      "Similarity column 38121 (100.0%), 4448.02 column/sec. Elapsed time 8.57 sec\n",
      "EvaluatorHoldout: Processed 35568 (100.0%) in 9.46 sec. Users per second: 3759\n"
     ]
    },
    {
     "name": "stderr",
     "output_type": "stream",
     "text": [
      "[I 2024-12-10 23:21:13,791] Trial 140 finished with value: 0.0519036919667384 and parameters: {'topK': 12, 'shrink': 2, 'feature_weighting': 'none', 'asymmetric_alpha': 0.1750725036631452}. Best is trial 136 with value: 0.054355396370197144.\n"
     ]
    },
    {
     "name": "stdout",
     "output_type": "stream",
     "text": [
      "Similarity column 38121 (100.0%), 4457.61 column/sec. Elapsed time 8.55 sec\n",
      "EvaluatorHoldout: Processed 35568 (100.0%) in 9.16 sec. Users per second: 3884\n"
     ]
    },
    {
     "name": "stderr",
     "output_type": "stream",
     "text": [
      "[I 2024-12-10 23:21:31,557] Trial 141 finished with value: 0.05454610863876028 and parameters: {'topK': 5, 'shrink': 11, 'feature_weighting': 'none', 'asymmetric_alpha': 0.2224484673203429}. Best is trial 141 with value: 0.05454610863876028.\n"
     ]
    },
    {
     "name": "stdout",
     "output_type": "stream",
     "text": [
      "Similarity column 38121 (100.0%), 4466.75 column/sec. Elapsed time 8.53 sec\n",
      "EvaluatorHoldout: Processed 35568 (100.0%) in 9.58 sec. Users per second: 3714\n"
     ]
    },
    {
     "name": "stderr",
     "output_type": "stream",
     "text": [
      "[I 2024-12-10 23:21:49,725] Trial 142 finished with value: 0.0537261556669432 and parameters: {'topK': 7, 'shrink': 11, 'feature_weighting': 'none', 'asymmetric_alpha': 0.2287054791574439}. Best is trial 141 with value: 0.05454610863876028.\n"
     ]
    },
    {
     "name": "stdout",
     "output_type": "stream",
     "text": [
      "Similarity column 38121 (100.0%), 4453.58 column/sec. Elapsed time 8.56 sec\n",
      "EvaluatorHoldout: Processed 35568 (100.0%) in 9.41 sec. Users per second: 3779\n"
     ]
    },
    {
     "name": "stderr",
     "output_type": "stream",
     "text": [
      "[I 2024-12-10 23:22:07,751] Trial 143 finished with value: 0.053962526062304894 and parameters: {'topK': 7, 'shrink': 11, 'feature_weighting': 'none', 'asymmetric_alpha': 0.2044778900879288}. Best is trial 141 with value: 0.05454610863876028.\n"
     ]
    },
    {
     "name": "stdout",
     "output_type": "stream",
     "text": [
      "Similarity column 38121 (100.0%), 4590.04 column/sec. Elapsed time 8.31 sec\n",
      "EvaluatorHoldout: Processed 35568 (100.0%) in 9.49 sec. Users per second: 3748\n"
     ]
    },
    {
     "name": "stderr",
     "output_type": "stream",
     "text": [
      "[I 2024-12-10 23:22:25,593] Trial 144 finished with value: 0.05396508431870085 and parameters: {'topK': 7, 'shrink': 11, 'feature_weighting': 'none', 'asymmetric_alpha': 0.19950231748525019}. Best is trial 141 with value: 0.05454610863876028.\n"
     ]
    },
    {
     "name": "stdout",
     "output_type": "stream",
     "text": [
      "Similarity column 38121 (100.0%), 4434.36 column/sec. Elapsed time 8.60 sec\n",
      "EvaluatorHoldout: Processed 35568 (100.0%) in 9.50 sec. Users per second: 3742\n"
     ]
    },
    {
     "name": "stderr",
     "output_type": "stream",
     "text": [
      "[I 2024-12-10 23:22:43,747] Trial 145 finished with value: 0.05290494085998283 and parameters: {'topK': 10, 'shrink': 8, 'feature_weighting': 'none', 'asymmetric_alpha': 0.17210045824927397}. Best is trial 141 with value: 0.05454610863876028.\n"
     ]
    },
    {
     "name": "stdout",
     "output_type": "stream",
     "text": [
      "Similarity column 38121 (100.0%), 4668.45 column/sec. Elapsed time 8.17 sec\n",
      "EvaluatorHoldout: Processed 35568 (100.0%) in 11.11 sec. Users per second: 3201\n"
     ]
    },
    {
     "name": "stderr",
     "output_type": "stream",
     "text": [
      "[I 2024-12-10 23:23:03,076] Trial 146 finished with value: 0.01846155184970976 and parameters: {'topK': 7, 'shrink': 9, 'feature_weighting': 'none', 'asymmetric_alpha': 1.4525779614482028}. Best is trial 141 with value: 0.05454610863876028.\n"
     ]
    },
    {
     "name": "stdout",
     "output_type": "stream",
     "text": [
      "Similarity column 38121 (100.0%), 4454.54 column/sec. Elapsed time 8.56 sec\n",
      "EvaluatorHoldout: Processed 35568 (100.0%) in 9.46 sec. Users per second: 3761\n"
     ]
    },
    {
     "name": "stderr",
     "output_type": "stream",
     "text": [
      "[I 2024-12-10 23:23:21,142] Trial 147 finished with value: 0.05471045513534368 and parameters: {'topK': 4, 'shrink': 13, 'feature_weighting': 'none', 'asymmetric_alpha': 0.1999222725842168}. Best is trial 147 with value: 0.05471045513534368.\n"
     ]
    },
    {
     "name": "stdout",
     "output_type": "stream",
     "text": [
      "Similarity column 38121 (100.0%), 155.51 column/sec. Elapsed time 4.09 min\n",
      "EvaluatorHoldout: Processed 35568 (100.0%) in 8.96 sec. Users per second: 3969\n"
     ]
    },
    {
     "name": "stderr",
     "output_type": "stream",
     "text": [
      "[I 2024-12-10 23:27:35,284] Trial 148 finished with value: 0.054390404206739996 and parameters: {'topK': 3, 'shrink': 11, 'feature_weighting': 'none', 'asymmetric_alpha': 0.05354064689339777}. Best is trial 147 with value: 0.05471045513534368.\n"
     ]
    },
    {
     "name": "stdout",
     "output_type": "stream",
     "text": [
      "Similarity column 38121 (100.0%), 2146.62 column/sec. Elapsed time 17.76 sec\n",
      "EvaluatorHoldout: Processed 35568 (100.0%) in 9.08 sec. Users per second: 3919\n"
     ]
    },
    {
     "name": "stderr",
     "output_type": "stream",
     "text": [
      "[I 2024-12-10 23:28:02,171] Trial 149 finished with value: 0.052214317622758584 and parameters: {'topK': 2, 'shrink': 7, 'feature_weighting': 'none', 'asymmetric_alpha': 0.04785927275112361}. Best is trial 147 with value: 0.05471045513534368.\n"
     ]
    },
    {
     "name": "stdout",
     "output_type": "stream",
     "text": [
      "Similarity column 38121 (100.0%), 4593.22 column/sec. Elapsed time 8.30 sec\n",
      "EvaluatorHoldout: Processed 35568 (100.0%) in 9.26 sec. Users per second: 3842\n"
     ]
    },
    {
     "name": "stderr",
     "output_type": "stream",
     "text": [
      "[I 2024-12-10 23:28:19,794] Trial 150 finished with value: 0.053093340321956735 and parameters: {'topK': 9, 'shrink': 13, 'feature_weighting': 'none', 'asymmetric_alpha': 0.2043688568758703}. Best is trial 147 with value: 0.05471045513534368.\n"
     ]
    },
    {
     "name": "stdout",
     "output_type": "stream",
     "text": [
      "Similarity column 38121 (100.0%), 4604.00 column/sec. Elapsed time 8.28 sec\n",
      "EvaluatorHoldout: Processed 35568 (100.0%) in 8.83 sec. Users per second: 4029\n"
     ]
    },
    {
     "name": "stderr",
     "output_type": "stream",
     "text": [
      "[I 2024-12-10 23:28:36,953] Trial 151 finished with value: 0.054922145552626186 and parameters: {'topK': 4, 'shrink': 11, 'feature_weighting': 'none', 'asymmetric_alpha': 0.1058400598510938}. Best is trial 151 with value: 0.054922145552626186.\n"
     ]
    },
    {
     "name": "stdout",
     "output_type": "stream",
     "text": [
      "Similarity column 38121 (100.0%), 4696.62 column/sec. Elapsed time 8.12 sec\n",
      "EvaluatorHoldout: Processed 35568 (100.0%) in 8.84 sec. Users per second: 4023\n"
     ]
    },
    {
     "name": "stderr",
     "output_type": "stream",
     "text": [
      "[I 2024-12-10 23:28:53,959] Trial 152 finished with value: 0.054883989264469836 and parameters: {'topK': 4, 'shrink': 11, 'feature_weighting': 'none', 'asymmetric_alpha': 0.08935003240954538}. Best is trial 151 with value: 0.054922145552626186.\n"
     ]
    },
    {
     "name": "stdout",
     "output_type": "stream",
     "text": [
      "Similarity column 38121 (100.0%), 4615.34 column/sec. Elapsed time 8.26 sec\n",
      "EvaluatorHoldout: Processed 35568 (100.0%) in 8.70 sec. Users per second: 4090\n"
     ]
    },
    {
     "name": "stderr",
     "output_type": "stream",
     "text": [
      "[I 2024-12-10 23:29:10,965] Trial 153 finished with value: 0.05399232366885692 and parameters: {'topK': 7, 'shrink': 12, 'feature_weighting': 'none', 'asymmetric_alpha': 0.08253030557457625}. Best is trial 151 with value: 0.054922145552626186.\n"
     ]
    },
    {
     "name": "stdout",
     "output_type": "stream",
     "text": [
      "Similarity column 38121 (100.0%), 4606.64 column/sec. Elapsed time 8.28 sec\n",
      "EvaluatorHoldout: Processed 35568 (100.0%) in 9.09 sec. Users per second: 3915\n"
     ]
    },
    {
     "name": "stderr",
     "output_type": "stream",
     "text": [
      "[I 2024-12-10 23:29:28,371] Trial 154 finished with value: 0.05401860241772344 and parameters: {'topK': 7, 'shrink': 12, 'feature_weighting': 'none', 'asymmetric_alpha': 0.06910824810768511}. Best is trial 151 with value: 0.054922145552626186.\n"
     ]
    },
    {
     "name": "stdout",
     "output_type": "stream",
     "text": [
      "Similarity column 38121 (100.0%), 4634.81 column/sec. Elapsed time 8.22 sec\n",
      "EvaluatorHoldout: Processed 35568 (100.0%) in 10.32 sec. Users per second: 3446\n"
     ]
    },
    {
     "name": "stderr",
     "output_type": "stream",
     "text": [
      "[I 2024-12-10 23:29:46,985] Trial 155 finished with value: 0.04718021348777751 and parameters: {'topK': 61, 'shrink': 12, 'feature_weighting': 'none', 'asymmetric_alpha': 0.0011089759815870043}. Best is trial 151 with value: 0.054922145552626186.\n"
     ]
    },
    {
     "name": "stdout",
     "output_type": "stream",
     "text": [
      "Similarity column 38121 (100.0%), 4632.68 column/sec. Elapsed time 8.23 sec\n",
      "EvaluatorHoldout: Processed 35568 (100.0%) in 9.10 sec. Users per second: 3910\n"
     ]
    },
    {
     "name": "stderr",
     "output_type": "stream",
     "text": [
      "[I 2024-12-10 23:30:04,359] Trial 156 finished with value: 0.05404437911016674 and parameters: {'topK': 7, 'shrink': 13, 'feature_weighting': 'none', 'asymmetric_alpha': 0.06190468702004232}. Best is trial 151 with value: 0.054922145552626186.\n"
     ]
    },
    {
     "name": "stdout",
     "output_type": "stream",
     "text": [
      "Similarity column 38121 (100.0%), 4655.49 column/sec. Elapsed time 8.19 sec\n",
      "EvaluatorHoldout: Processed 35568 (100.0%) in 9.52 sec. Users per second: 3736\n"
     ]
    },
    {
     "name": "stderr",
     "output_type": "stream",
     "text": [
      "[I 2024-12-10 23:30:22,121] Trial 157 finished with value: 0.05246981190511703 and parameters: {'topK': 13, 'shrink': 15, 'feature_weighting': 'none', 'asymmetric_alpha': 0.07381892583981874}. Best is trial 151 with value: 0.054922145552626186.\n"
     ]
    },
    {
     "name": "stdout",
     "output_type": "stream",
     "text": [
      "Similarity column 38121 (100.0%), 4591.50 column/sec. Elapsed time 8.30 sec\n",
      "EvaluatorHoldout: Processed 35568 (100.0%) in 9.34 sec. Users per second: 3807\n"
     ]
    },
    {
     "name": "stderr",
     "output_type": "stream",
     "text": [
      "[I 2024-12-10 23:30:39,818] Trial 158 finished with value: 0.054005410606286136 and parameters: {'topK': 7, 'shrink': 13, 'feature_weighting': 'none', 'asymmetric_alpha': 0.050371283372703995}. Best is trial 151 with value: 0.054922145552626186.\n"
     ]
    },
    {
     "name": "stdout",
     "output_type": "stream",
     "text": [
      "Similarity column 38121 (100.0%), 4543.00 column/sec. Elapsed time 8.39 sec\n",
      "EvaluatorHoldout: Processed 35568 (100.0%) in 9.65 sec. Users per second: 3686\n"
     ]
    },
    {
     "name": "stderr",
     "output_type": "stream",
     "text": [
      "[I 2024-12-10 23:30:57,911] Trial 159 finished with value: 0.05258014717170233 and parameters: {'topK': 11, 'shrink': 27, 'feature_weighting': 'none', 'asymmetric_alpha': 0.03945113198638944}. Best is trial 151 with value: 0.054922145552626186.\n"
     ]
    },
    {
     "name": "stdout",
     "output_type": "stream",
     "text": [
      "Similarity column 38121 (100.0%), 4583.85 column/sec. Elapsed time 8.32 sec\n",
      "EvaluatorHoldout: Processed 35568 (100.0%) in 9.43 sec. Users per second: 3770\n"
     ]
    },
    {
     "name": "stderr",
     "output_type": "stream",
     "text": [
      "[I 2024-12-10 23:31:15,710] Trial 160 finished with value: 0.05364656745139022 and parameters: {'topK': 8, 'shrink': 13, 'feature_weighting': 'none', 'asymmetric_alpha': 0.07584742382838376}. Best is trial 151 with value: 0.054922145552626186.\n"
     ]
    },
    {
     "name": "stdout",
     "output_type": "stream",
     "text": [
      "Similarity column 38121 (100.0%), 4529.73 column/sec. Elapsed time 8.42 sec\n",
      "EvaluatorHoldout: Processed 35568 (100.0%) in 9.55 sec. Users per second: 3725\n"
     ]
    },
    {
     "name": "stderr",
     "output_type": "stream",
     "text": [
      "[I 2024-12-10 23:31:33,727] Trial 161 finished with value: 0.0541998827196177 and parameters: {'topK': 7, 'shrink': 16, 'feature_weighting': 'none', 'asymmetric_alpha': 0.09545679076108061}. Best is trial 151 with value: 0.054922145552626186.\n"
     ]
    },
    {
     "name": "stdout",
     "output_type": "stream",
     "text": [
      "Similarity column 38121 (100.0%), 4528.13 column/sec. Elapsed time 8.42 sec\n",
      "EvaluatorHoldout: Processed 35568 (100.0%) in 9.06 sec. Users per second: 3928\n"
     ]
    },
    {
     "name": "stderr",
     "output_type": "stream",
     "text": [
      "[I 2024-12-10 23:31:51,258] Trial 162 finished with value: 0.0540609391623628 and parameters: {'topK': 7, 'shrink': 13, 'feature_weighting': 'none', 'asymmetric_alpha': 0.10093637824244449}. Best is trial 151 with value: 0.054922145552626186.\n"
     ]
    },
    {
     "name": "stdout",
     "output_type": "stream",
     "text": [
      "Similarity column 38121 (100.0%), 4649.96 column/sec. Elapsed time 8.20 sec\n",
      "EvaluatorHoldout: Processed 35568 (100.0%) in 9.18 sec. Users per second: 3875\n"
     ]
    },
    {
     "name": "stderr",
     "output_type": "stream",
     "text": [
      "[I 2024-12-10 23:32:08,685] Trial 163 finished with value: 0.053481990008852294 and parameters: {'topK': 9, 'shrink': 16, 'feature_weighting': 'none', 'asymmetric_alpha': 0.0375011278678339}. Best is trial 151 with value: 0.054922145552626186.\n"
     ]
    },
    {
     "name": "stdout",
     "output_type": "stream",
     "text": [
      "Similarity column 38121 (100.0%), 1554.89 column/sec. Elapsed time 24.52 sec\n",
      "EvaluatorHoldout: Processed 35568 (100.0%) in 8.72 sec. Users per second: 4078\n"
     ]
    },
    {
     "name": "stderr",
     "output_type": "stream",
     "text": [
      "[I 2024-12-10 23:32:41,974] Trial 164 finished with value: 0.05462945335203928 and parameters: {'topK': 3, 'shrink': 13, 'feature_weighting': 'none', 'asymmetric_alpha': 0.0898316661815087}. Best is trial 151 with value: 0.054922145552626186.\n"
     ]
    },
    {
     "name": "stdout",
     "output_type": "stream",
     "text": [
      "Similarity column 38121 (100.0%), 2172.34 column/sec. Elapsed time 17.55 sec\n",
      "EvaluatorHoldout: Processed 35568 (100.0%) in 9.24 sec. Users per second: 3849\n"
     ]
    },
    {
     "name": "stderr",
     "output_type": "stream",
     "text": [
      "[I 2024-12-10 23:33:08,813] Trial 165 finished with value: 0.052795205829743536 and parameters: {'topK': 2, 'shrink': 14, 'feature_weighting': 'none', 'asymmetric_alpha': 0.09197229402934805}. Best is trial 151 with value: 0.054922145552626186.\n"
     ]
    },
    {
     "name": "stdout",
     "output_type": "stream",
     "text": [
      "Similarity column 38121 (100.0%), 4587.51 column/sec. Elapsed time 8.31 sec\n",
      "EvaluatorHoldout: Processed 35568 (100.0%) in 9.33 sec. Users per second: 3812\n"
     ]
    },
    {
     "name": "stderr",
     "output_type": "stream",
     "text": [
      "[I 2024-12-10 23:33:26,507] Trial 166 finished with value: 0.054019645579402566 and parameters: {'topK': 7, 'shrink': 13, 'feature_weighting': 'none', 'asymmetric_alpha': 0.00284815208083998}. Best is trial 151 with value: 0.054922145552626186.\n"
     ]
    },
    {
     "name": "stdout",
     "output_type": "stream",
     "text": [
      "Similarity column 38121 (100.0%), 1539.17 column/sec. Elapsed time 24.77 sec\n",
      "EvaluatorHoldout: Processed 35568 (100.0%) in 9.34 sec. Users per second: 3810\n"
     ]
    },
    {
     "name": "stderr",
     "output_type": "stream",
     "text": [
      "[I 2024-12-10 23:34:00,662] Trial 167 finished with value: 0.054436475135486474 and parameters: {'topK': 3, 'shrink': 15, 'feature_weighting': 'none', 'asymmetric_alpha': 0.017437476106917663}. Best is trial 151 with value: 0.054922145552626186.\n"
     ]
    },
    {
     "name": "stdout",
     "output_type": "stream",
     "text": [
      "Similarity column 38121 (100.0%), 1542.42 column/sec. Elapsed time 24.72 sec\n",
      "EvaluatorHoldout: Processed 35568 (100.0%) in 9.25 sec. Users per second: 3844\n"
     ]
    },
    {
     "name": "stderr",
     "output_type": "stream",
     "text": [
      "[I 2024-12-10 23:34:34,681] Trial 168 finished with value: 0.05443202245285397 and parameters: {'topK': 3, 'shrink': 16, 'feature_weighting': 'none', 'asymmetric_alpha': 0.02243106670087605}. Best is trial 151 with value: 0.054922145552626186.\n"
     ]
    },
    {
     "name": "stdout",
     "output_type": "stream",
     "text": [
      "Similarity column 38121 (100.0%), 1537.63 column/sec. Elapsed time 24.79 sec\n",
      "EvaluatorHoldout: Processed 35568 (100.0%) in 9.29 sec. Users per second: 3830\n"
     ]
    },
    {
     "name": "stderr",
     "output_type": "stream",
     "text": [
      "[I 2024-12-10 23:35:08,812] Trial 169 finished with value: 0.054403209992572144 and parameters: {'topK': 3, 'shrink': 17, 'feature_weighting': 'none', 'asymmetric_alpha': 0.0021489108614768937}. Best is trial 151 with value: 0.054922145552626186.\n"
     ]
    },
    {
     "name": "stdout",
     "output_type": "stream",
     "text": [
      "Similarity column 38121 (100.0%), 2147.34 column/sec. Elapsed time 17.75 sec\n",
      "EvaluatorHoldout: Processed 35568 (100.0%) in 8.83 sec. Users per second: 4029\n"
     ]
    },
    {
     "name": "stderr",
     "output_type": "stream",
     "text": [
      "[I 2024-12-10 23:35:35,445] Trial 170 finished with value: 0.05269228872573002 and parameters: {'topK': 2, 'shrink': 17, 'feature_weighting': 'none', 'asymmetric_alpha': 0.025143520420736136}. Best is trial 151 with value: 0.054922145552626186.\n"
     ]
    },
    {
     "name": "stdout",
     "output_type": "stream",
     "text": [
      "Similarity column 38121 (100.0%), 4644.41 column/sec. Elapsed time 8.21 sec\n",
      "EvaluatorHoldout: Processed 35568 (100.0%) in 9.11 sec. Users per second: 3903\n"
     ]
    },
    {
     "name": "stderr",
     "output_type": "stream",
     "text": [
      "[I 2024-12-10 23:35:52,819] Trial 171 finished with value: 0.05476348679747633 and parameters: {'topK': 4, 'shrink': 15, 'feature_weighting': 'none', 'asymmetric_alpha': 0.0016806116219012096}. Best is trial 151 with value: 0.054922145552626186.\n"
     ]
    },
    {
     "name": "stdout",
     "output_type": "stream",
     "text": [
      "Similarity column 38121 (100.0%), 1535.08 column/sec. Elapsed time 24.83 sec\n",
      "EvaluatorHoldout: Processed 35568 (100.0%) in 9.03 sec. Users per second: 3937\n"
     ]
    },
    {
     "name": "stderr",
     "output_type": "stream",
     "text": [
      "[I 2024-12-10 23:36:26,737] Trial 172 finished with value: 0.05440159783361352 and parameters: {'topK': 3, 'shrink': 15, 'feature_weighting': 'none', 'asymmetric_alpha': 0.008402544886851271}. Best is trial 151 with value: 0.054922145552626186.\n"
     ]
    },
    {
     "name": "stdout",
     "output_type": "stream",
     "text": [
      "Similarity column 38121 (100.0%), 1554.78 column/sec. Elapsed time 24.52 sec\n",
      "EvaluatorHoldout: Processed 35568 (100.0%) in 9.12 sec. Users per second: 3901\n"
     ]
    },
    {
     "name": "stderr",
     "output_type": "stream",
     "text": [
      "[I 2024-12-10 23:37:00,419] Trial 173 finished with value: 0.05441552153174754 and parameters: {'topK': 3, 'shrink': 16, 'feature_weighting': 'none', 'asymmetric_alpha': 0.00016963612198150554}. Best is trial 151 with value: 0.054922145552626186.\n"
     ]
    },
    {
     "name": "stdout",
     "output_type": "stream",
     "text": [
      "Similarity column 38121 (100.0%), 1549.19 column/sec. Elapsed time 24.61 sec\n",
      "EvaluatorHoldout: Processed 35568 (100.0%) in 8.85 sec. Users per second: 4019\n"
     ]
    },
    {
     "name": "stderr",
     "output_type": "stream",
     "text": [
      "[I 2024-12-10 23:37:33,928] Trial 174 finished with value: 0.054405518336437426 and parameters: {'topK': 3, 'shrink': 15, 'feature_weighting': 'none', 'asymmetric_alpha': 0.0001435484859165538}. Best is trial 151 with value: 0.054922145552626186.\n"
     ]
    },
    {
     "name": "stdout",
     "output_type": "stream",
     "text": [
      "Similarity column 38121 (100.0%), 1555.84 column/sec. Elapsed time 24.50 sec\n",
      "EvaluatorHoldout: Processed 35568 (100.0%) in 8.73 sec. Users per second: 4075\n"
     ]
    },
    {
     "name": "stderr",
     "output_type": "stream",
     "text": [
      "[I 2024-12-10 23:38:07,204] Trial 175 finished with value: 0.05448433784782252 and parameters: {'topK': 3, 'shrink': 18, 'feature_weighting': 'none', 'asymmetric_alpha': 0.01239632251522092}. Best is trial 151 with value: 0.054922145552626186.\n"
     ]
    },
    {
     "name": "stdout",
     "output_type": "stream",
     "text": [
      "Similarity column 38121 (100.0%), 1535.24 column/sec. Elapsed time 24.83 sec\n",
      "EvaluatorHoldout: Processed 35568 (100.0%) in 9.16 sec. Users per second: 3884\n"
     ]
    },
    {
     "name": "stderr",
     "output_type": "stream",
     "text": [
      "[I 2024-12-10 23:38:41,246] Trial 176 finished with value: 0.05449125395397114 and parameters: {'topK': 3, 'shrink': 18, 'feature_weighting': 'none', 'asymmetric_alpha': 0.010238866324041732}. Best is trial 151 with value: 0.054922145552626186.\n"
     ]
    },
    {
     "name": "stdout",
     "output_type": "stream",
     "text": [
      "Similarity column 38121 (100.0%), 1564.97 column/sec. Elapsed time 24.36 sec\n",
      "EvaluatorHoldout: Processed 35568 (100.0%) in 8.91 sec. Users per second: 3993\n"
     ]
    },
    {
     "name": "stderr",
     "output_type": "stream",
     "text": [
      "[I 2024-12-10 23:39:14,566] Trial 177 finished with value: 0.05444192746824113 and parameters: {'topK': 3, 'shrink': 18, 'feature_weighting': 'none', 'asymmetric_alpha': 0.00011451673051887093}. Best is trial 151 with value: 0.054922145552626186.\n"
     ]
    },
    {
     "name": "stdout",
     "output_type": "stream",
     "text": [
      "Similarity column 38121 (100.0%), 1598.52 column/sec. Elapsed time 23.85 sec\n",
      "EvaluatorHoldout: Processed 35568 (100.0%) in 8.80 sec. Users per second: 4040\n"
     ]
    },
    {
     "name": "stderr",
     "output_type": "stream",
     "text": [
      "[I 2024-12-10 23:39:47,271] Trial 178 finished with value: 0.05444128260465768 and parameters: {'topK': 3, 'shrink': 18, 'feature_weighting': 'none', 'asymmetric_alpha': 0.002029191963865087}. Best is trial 151 with value: 0.054922145552626186.\n"
     ]
    },
    {
     "name": "stdout",
     "output_type": "stream",
     "text": [
      "Similarity column 38121 (100.0%), 2232.05 column/sec. Elapsed time 17.08 sec\n",
      "EvaluatorHoldout: Processed 35568 (100.0%) in 8.82 sec. Users per second: 4034\n"
     ]
    },
    {
     "name": "stderr",
     "output_type": "stream",
     "text": [
      "[I 2024-12-10 23:40:13,211] Trial 179 finished with value: 0.05272481528786179 and parameters: {'topK': 2, 'shrink': 18, 'feature_weighting': 'none', 'asymmetric_alpha': 0.0020979224586372726}. Best is trial 151 with value: 0.054922145552626186.\n"
     ]
    },
    {
     "name": "stdout",
     "output_type": "stream",
     "text": [
      "Similarity column 38121 (100.0%), 1608.82 column/sec. Elapsed time 23.70 sec\n",
      "EvaluatorHoldout: Processed 35568 (100.0%) in 8.88 sec. Users per second: 4006\n"
     ]
    },
    {
     "name": "stderr",
     "output_type": "stream",
     "text": [
      "[I 2024-12-10 23:40:45,837] Trial 180 finished with value: 0.05447427552142251 and parameters: {'topK': 3, 'shrink': 18, 'feature_weighting': 'none', 'asymmetric_alpha': 0.013135338961098253}. Best is trial 151 with value: 0.054922145552626186.\n"
     ]
    },
    {
     "name": "stdout",
     "output_type": "stream",
     "text": [
      "Similarity column 38121 (100.0%), 1607.40 column/sec. Elapsed time 23.72 sec\n",
      "EvaluatorHoldout: Processed 35568 (100.0%) in 8.83 sec. Users per second: 4029\n"
     ]
    },
    {
     "name": "stderr",
     "output_type": "stream",
     "text": [
      "[I 2024-12-10 23:41:18,431] Trial 181 finished with value: 0.054440398985353015 and parameters: {'topK': 3, 'shrink': 18, 'feature_weighting': 'none', 'asymmetric_alpha': 0.0021581501792309297}. Best is trial 151 with value: 0.054922145552626186.\n"
     ]
    },
    {
     "name": "stdout",
     "output_type": "stream",
     "text": [
      "Similarity column 38121 (100.0%), 1601.26 column/sec. Elapsed time 23.81 sec\n",
      "EvaluatorHoldout: Processed 35568 (100.0%) in 8.91 sec. Users per second: 3994\n"
     ]
    },
    {
     "name": "stderr",
     "output_type": "stream",
     "text": [
      "[I 2024-12-10 23:41:51,196] Trial 182 finished with value: 0.05444123351469632 and parameters: {'topK': 3, 'shrink': 18, 'feature_weighting': 'none', 'asymmetric_alpha': 0.0016641640951750823}. Best is trial 151 with value: 0.054922145552626186.\n"
     ]
    },
    {
     "name": "stdout",
     "output_type": "stream",
     "text": [
      "Similarity column 38121 (100.0%), 1610.92 column/sec. Elapsed time 23.66 sec\n",
      "EvaluatorHoldout: Processed 35568 (100.0%) in 8.83 sec. Users per second: 4029\n"
     ]
    },
    {
     "name": "stderr",
     "output_type": "stream",
     "text": [
      "[I 2024-12-10 23:42:23,742] Trial 183 finished with value: 0.05442719824846814 and parameters: {'topK': 3, 'shrink': 20, 'feature_weighting': 'none', 'asymmetric_alpha': 0.009615321329728633}. Best is trial 151 with value: 0.054922145552626186.\n"
     ]
    },
    {
     "name": "stdout",
     "output_type": "stream",
     "text": [
      "Similarity column 38121 (100.0%), 2238.75 column/sec. Elapsed time 17.03 sec\n",
      "EvaluatorHoldout: Processed 35568 (100.0%) in 8.71 sec. Users per second: 4084\n"
     ]
    },
    {
     "name": "stderr",
     "output_type": "stream",
     "text": [
      "[I 2024-12-10 23:42:49,530] Trial 184 finished with value: 0.052727987168774935 and parameters: {'topK': 2, 'shrink': 19, 'feature_weighting': 'none', 'asymmetric_alpha': 0.009130207504185299}. Best is trial 151 with value: 0.054922145552626186.\n"
     ]
    },
    {
     "name": "stdout",
     "output_type": "stream",
     "text": [
      "Similarity column 38121 (100.0%), 4714.37 column/sec. Elapsed time 8.09 sec\n",
      "EvaluatorHoldout: Processed 35568 (100.0%) in 8.74 sec. Users per second: 4071\n"
     ]
    },
    {
     "name": "stderr",
     "output_type": "stream",
     "text": [
      "[I 2024-12-10 23:43:06,398] Trial 185 finished with value: 0.05472740009746389 and parameters: {'topK': 4, 'shrink': 18, 'feature_weighting': 'none', 'asymmetric_alpha': 0.0359379455702468}. Best is trial 151 with value: 0.054922145552626186.\n"
     ]
    },
    {
     "name": "stdout",
     "output_type": "stream",
     "text": [
      "Similarity column 38121 (100.0%), 1586.25 column/sec. Elapsed time 24.03 sec\n",
      "EvaluatorHoldout: Processed 35568 (100.0%) in 8.75 sec. Users per second: 4063\n"
     ]
    },
    {
     "name": "stderr",
     "output_type": "stream",
     "text": [
      "[I 2024-12-10 23:43:39,232] Trial 186 finished with value: 0.054416212138249674 and parameters: {'topK': 3, 'shrink': 20, 'feature_weighting': 'none', 'asymmetric_alpha': 0.039005651385568954}. Best is trial 151 with value: 0.054922145552626186.\n"
     ]
    },
    {
     "name": "stdout",
     "output_type": "stream",
     "text": [
      "Similarity column 38121 (100.0%), 4700.22 column/sec. Elapsed time 8.11 sec\n",
      "EvaluatorHoldout: Processed 35568 (100.0%) in 9.02 sec. Users per second: 3941\n"
     ]
    },
    {
     "name": "stderr",
     "output_type": "stream",
     "text": [
      "[I 2024-12-10 23:43:56,413] Trial 187 finished with value: 0.05459684199815597 and parameters: {'topK': 4, 'shrink': 22, 'feature_weighting': 'none', 'asymmetric_alpha': 0.04093962016860197}. Best is trial 151 with value: 0.054922145552626186.\n"
     ]
    },
    {
     "name": "stdout",
     "output_type": "stream",
     "text": [
      "Similarity column 38121 (100.0%), 4603.13 column/sec. Elapsed time 8.28 sec\n",
      "EvaluatorHoldout: Processed 35568 (100.0%) in 9.05 sec. Users per second: 3931\n"
     ]
    },
    {
     "name": "stderr",
     "output_type": "stream",
     "text": [
      "[I 2024-12-10 23:44:13,792] Trial 188 finished with value: 0.054614011212145236 and parameters: {'topK': 4, 'shrink': 21, 'feature_weighting': 'none', 'asymmetric_alpha': 0.0472140779200835}. Best is trial 151 with value: 0.054922145552626186.\n"
     ]
    },
    {
     "name": "stdout",
     "output_type": "stream",
     "text": [
      "Similarity column 38121 (100.0%), 4661.99 column/sec. Elapsed time 8.18 sec\n",
      "EvaluatorHoldout: Processed 35568 (100.0%) in 8.86 sec. Users per second: 4013\n"
     ]
    },
    {
     "name": "stderr",
     "output_type": "stream",
     "text": [
      "[I 2024-12-10 23:44:30,882] Trial 189 finished with value: 0.05457144909995609 and parameters: {'topK': 4, 'shrink': 22, 'feature_weighting': 'none', 'asymmetric_alpha': 0.05174271353665766}. Best is trial 151 with value: 0.054922145552626186.\n"
     ]
    },
    {
     "name": "stdout",
     "output_type": "stream",
     "text": [
      "Similarity column 38121 (100.0%), 4699.36 column/sec. Elapsed time 8.11 sec\n",
      "EvaluatorHoldout: Processed 35568 (100.0%) in 8.80 sec. Users per second: 4041\n"
     ]
    },
    {
     "name": "stderr",
     "output_type": "stream",
     "text": [
      "[I 2024-12-10 23:44:47,842] Trial 190 finished with value: 0.05474441200044106 and parameters: {'topK': 5, 'shrink': 21, 'feature_weighting': 'none', 'asymmetric_alpha': 0.042236463814131875}. Best is trial 151 with value: 0.054922145552626186.\n"
     ]
    },
    {
     "name": "stdout",
     "output_type": "stream",
     "text": [
      "Similarity column 38121 (100.0%), 4616.04 column/sec. Elapsed time 8.26 sec\n",
      "EvaluatorHoldout: Processed 35568 (100.0%) in 9.16 sec. Users per second: 3882\n"
     ]
    },
    {
     "name": "stderr",
     "output_type": "stream",
     "text": [
      "[I 2024-12-10 23:45:05,310] Trial 191 finished with value: 0.05440675004819569 and parameters: {'topK': 4, 'shrink': 23, 'feature_weighting': 'none', 'asymmetric_alpha': 0.05143370891647941}. Best is trial 151 with value: 0.054922145552626186.\n"
     ]
    },
    {
     "name": "stdout",
     "output_type": "stream",
     "text": [
      "Similarity column 38121 (100.0%), 4544.86 column/sec. Elapsed time 8.39 sec\n",
      "EvaluatorHoldout: Processed 35568 (100.0%) in 9.44 sec. Users per second: 3767\n"
     ]
    },
    {
     "name": "stderr",
     "output_type": "stream",
     "text": [
      "[I 2024-12-10 23:45:23,192] Trial 192 finished with value: 0.054624317872671496 and parameters: {'topK': 5, 'shrink': 22, 'feature_weighting': 'none', 'asymmetric_alpha': 0.051455038175628645}. Best is trial 151 with value: 0.054922145552626186.\n"
     ]
    },
    {
     "name": "stdout",
     "output_type": "stream",
     "text": [
      "Similarity column 38121 (100.0%), 4584.12 column/sec. Elapsed time 8.32 sec\n",
      "EvaluatorHoldout: Processed 35568 (100.0%) in 9.09 sec. Users per second: 3912\n"
     ]
    },
    {
     "name": "stderr",
     "output_type": "stream",
     "text": [
      "[I 2024-12-10 23:45:40,653] Trial 193 finished with value: 0.05463402318117066 and parameters: {'topK': 5, 'shrink': 22, 'feature_weighting': 'none', 'asymmetric_alpha': 0.06152761618022727}. Best is trial 151 with value: 0.054922145552626186.\n"
     ]
    },
    {
     "name": "stdout",
     "output_type": "stream",
     "text": [
      "Similarity column 38121 (100.0%), 4637.61 column/sec. Elapsed time 8.22 sec\n",
      "EvaluatorHoldout: Processed 35568 (100.0%) in 9.06 sec. Users per second: 3924\n"
     ]
    },
    {
     "name": "stderr",
     "output_type": "stream",
     "text": [
      "[I 2024-12-10 23:45:57,986] Trial 194 finished with value: 0.054638059714812476 and parameters: {'topK': 5, 'shrink': 22, 'feature_weighting': 'none', 'asymmetric_alpha': 0.10426193272982429}. Best is trial 151 with value: 0.054922145552626186.\n"
     ]
    },
    {
     "name": "stdout",
     "output_type": "stream",
     "text": [
      "Similarity column 38121 (100.0%), 4660.58 column/sec. Elapsed time 8.18 sec\n",
      "EvaluatorHoldout: Processed 35568 (100.0%) in 8.98 sec. Users per second: 3960\n"
     ]
    },
    {
     "name": "stderr",
     "output_type": "stream",
     "text": [
      "[I 2024-12-10 23:46:15,199] Trial 195 finished with value: 0.05460418206306196 and parameters: {'topK': 5, 'shrink': 22, 'feature_weighting': 'none', 'asymmetric_alpha': 0.10736914933641223}. Best is trial 151 with value: 0.054922145552626186.\n"
     ]
    },
    {
     "name": "stdout",
     "output_type": "stream",
     "text": [
      "Similarity column 38121 (100.0%), 4664.47 column/sec. Elapsed time 8.17 sec\n",
      "EvaluatorHoldout: Processed 35568 (100.0%) in 8.99 sec. Users per second: 3958\n"
     ]
    },
    {
     "name": "stderr",
     "output_type": "stream",
     "text": [
      "[I 2024-12-10 23:46:32,406] Trial 196 finished with value: 0.05461862678419526 and parameters: {'topK': 5, 'shrink': 22, 'feature_weighting': 'none', 'asymmetric_alpha': 0.1061303870898105}. Best is trial 151 with value: 0.054922145552626186.\n"
     ]
    },
    {
     "name": "stdout",
     "output_type": "stream",
     "text": [
      "Similarity column 38121 (100.0%), 4663.78 column/sec. Elapsed time 8.17 sec\n",
      "EvaluatorHoldout: Processed 35568 (100.0%) in 9.00 sec. Users per second: 3951\n"
     ]
    },
    {
     "name": "stderr",
     "output_type": "stream",
     "text": [
      "[I 2024-12-10 23:46:49,633] Trial 197 finished with value: 0.054574689037406574 and parameters: {'topK': 5, 'shrink': 22, 'feature_weighting': 'none', 'asymmetric_alpha': 0.1162170673027266}. Best is trial 151 with value: 0.054922145552626186.\n"
     ]
    },
    {
     "name": "stdout",
     "output_type": "stream",
     "text": [
      "Similarity column 38121 (100.0%), 4663.49 column/sec. Elapsed time 8.17 sec\n",
      "EvaluatorHoldout: Processed 35568 (100.0%) in 8.96 sec. Users per second: 3968\n"
     ]
    },
    {
     "name": "stderr",
     "output_type": "stream",
     "text": [
      "[I 2024-12-10 23:47:06,820] Trial 198 finished with value: 0.05459168866789306 and parameters: {'topK': 5, 'shrink': 22, 'feature_weighting': 'none', 'asymmetric_alpha': 0.11478866164909056}. Best is trial 151 with value: 0.054922145552626186.\n"
     ]
    },
    {
     "name": "stdout",
     "output_type": "stream",
     "text": [
      "Similarity column 38121 (100.0%), 4651.69 column/sec. Elapsed time 8.20 sec\n",
      "EvaluatorHoldout: Processed 35568 (100.0%) in 8.99 sec. Users per second: 3956\n"
     ]
    },
    {
     "name": "stderr",
     "output_type": "stream",
     "text": [
      "[I 2024-12-10 23:47:24,054] Trial 199 finished with value: 0.05461954722097103 and parameters: {'topK': 5, 'shrink': 22, 'feature_weighting': 'none', 'asymmetric_alpha': 0.09996157071650832}. Best is trial 151 with value: 0.054922145552626186.\n"
     ]
    },
    {
     "name": "stdout",
     "output_type": "stream",
     "text": [
      "Similarity column 38121 (100.0%), 4676.44 column/sec. Elapsed time 8.15 sec\n",
      "EvaluatorHoldout: Processed 35568 (100.0%) in 8.88 sec. Users per second: 4005\n"
     ]
    },
    {
     "name": "stderr",
     "output_type": "stream",
     "text": [
      "[I 2024-12-10 23:47:41,132] Trial 200 finished with value: 0.05462449415025995 and parameters: {'topK': 5, 'shrink': 22, 'feature_weighting': 'none', 'asymmetric_alpha': 0.09634877871033468}. Best is trial 151 with value: 0.054922145552626186.\n"
     ]
    },
    {
     "name": "stdout",
     "output_type": "stream",
     "text": [
      "Similarity column 38121 (100.0%), 4634.61 column/sec. Elapsed time 8.23 sec\n",
      "EvaluatorHoldout: Processed 35568 (100.0%) in 9.33 sec. Users per second: 3813\n"
     ]
    },
    {
     "name": "stderr",
     "output_type": "stream",
     "text": [
      "[I 2024-12-10 23:47:58,737] Trial 201 finished with value: 0.05460814607744263 and parameters: {'topK': 5, 'shrink': 22, 'feature_weighting': 'none', 'asymmetric_alpha': 0.10625069793792181}. Best is trial 151 with value: 0.054922145552626186.\n"
     ]
    },
    {
     "name": "stdout",
     "output_type": "stream",
     "text": [
      "Similarity column 38121 (100.0%), 4681.50 column/sec. Elapsed time 8.14 sec\n",
      "EvaluatorHoldout: Processed 35568 (100.0%) in 8.98 sec. Users per second: 3959\n"
     ]
    },
    {
     "name": "stderr",
     "output_type": "stream",
     "text": [
      "[I 2024-12-10 23:48:15,913] Trial 202 finished with value: 0.054569380627492926 and parameters: {'topK': 5, 'shrink': 22, 'feature_weighting': 'none', 'asymmetric_alpha': 0.11633988149600244}. Best is trial 151 with value: 0.054922145552626186.\n"
     ]
    },
    {
     "name": "stdout",
     "output_type": "stream",
     "text": [
      "Similarity column 38121 (100.0%), 4697.04 column/sec. Elapsed time 8.12 sec\n",
      "EvaluatorHoldout: Processed 35568 (100.0%) in 9.10 sec. Users per second: 3909\n"
     ]
    },
    {
     "name": "stderr",
     "output_type": "stream",
     "text": [
      "[I 2024-12-10 23:48:33,174] Trial 203 finished with value: 0.05453379709958487 and parameters: {'topK': 5, 'shrink': 22, 'feature_weighting': 'none', 'asymmetric_alpha': 0.12477464440540012}. Best is trial 151 with value: 0.054922145552626186.\n"
     ]
    },
    {
     "name": "stdout",
     "output_type": "stream",
     "text": [
      "Similarity column 38121 (100.0%), 4564.01 column/sec. Elapsed time 8.35 sec\n",
      "EvaluatorHoldout: Processed 35568 (100.0%) in 9.32 sec. Users per second: 3816\n"
     ]
    },
    {
     "name": "stderr",
     "output_type": "stream",
     "text": [
      "[I 2024-12-10 23:48:50,897] Trial 204 finished with value: 0.05302279470042445 and parameters: {'topK': 10, 'shrink': 23, 'feature_weighting': 'none', 'asymmetric_alpha': 0.10658159543446291}. Best is trial 151 with value: 0.054922145552626186.\n"
     ]
    },
    {
     "name": "stdout",
     "output_type": "stream",
     "text": [
      "Similarity column 38121 (100.0%), 4501.87 column/sec. Elapsed time 8.47 sec\n",
      "EvaluatorHoldout: Processed 35568 (100.0%) in 9.07 sec. Users per second: 3921\n"
     ]
    },
    {
     "name": "stderr",
     "output_type": "stream",
     "text": [
      "[I 2024-12-10 23:49:08,482] Trial 205 finished with value: 0.05438303624981091 and parameters: {'topK': 5, 'shrink': 25, 'feature_weighting': 'none', 'asymmetric_alpha': 0.1107967008301419}. Best is trial 151 with value: 0.054922145552626186.\n"
     ]
    },
    {
     "name": "stdout",
     "output_type": "stream",
     "text": [
      "Similarity column 38121 (100.0%), 4606.68 column/sec. Elapsed time 8.28 sec\n",
      "EvaluatorHoldout: Processed 35568 (100.0%) in 9.39 sec. Users per second: 3789\n"
     ]
    },
    {
     "name": "stderr",
     "output_type": "stream",
     "text": [
      "[I 2024-12-10 23:49:26,191] Trial 206 finished with value: 0.05330085139843724 and parameters: {'topK': 9, 'shrink': 22, 'feature_weighting': 'none', 'asymmetric_alpha': 0.10324210777451381}. Best is trial 151 with value: 0.054922145552626186.\n"
     ]
    },
    {
     "name": "stdout",
     "output_type": "stream",
     "text": [
      "Similarity column 38121 (100.0%), 4557.45 column/sec. Elapsed time 8.36 sec\n",
      "EvaluatorHoldout: Processed 35568 (100.0%) in 9.18 sec. Users per second: 3873\n"
     ]
    },
    {
     "name": "stderr",
     "output_type": "stream",
     "text": [
      "[I 2024-12-10 23:49:43,788] Trial 207 finished with value: 0.05464766461202695 and parameters: {'topK': 5, 'shrink': 21, 'feature_weighting': 'none', 'asymmetric_alpha': 0.07097767686243893}. Best is trial 151 with value: 0.054922145552626186.\n"
     ]
    },
    {
     "name": "stdout",
     "output_type": "stream",
     "text": [
      "Similarity column 38121 (100.0%), 4679.85 column/sec. Elapsed time 8.15 sec\n",
      "EvaluatorHoldout: Processed 35568 (100.0%) in 9.10 sec. Users per second: 3908\n"
     ]
    },
    {
     "name": "stderr",
     "output_type": "stream",
     "text": [
      "[I 2024-12-10 23:50:01,084] Trial 208 finished with value: 0.05434730879906153 and parameters: {'topK': 6, 'shrink': 24, 'feature_weighting': 'none', 'asymmetric_alpha': 0.06742934380822138}. Best is trial 151 with value: 0.054922145552626186.\n"
     ]
    },
    {
     "name": "stdout",
     "output_type": "stream",
     "text": [
      "Similarity column 38121 (100.0%), 4636.90 column/sec. Elapsed time 8.22 sec\n",
      "EvaluatorHoldout: Processed 35568 (100.0%) in 9.04 sec. Users per second: 3933\n"
     ]
    },
    {
     "name": "stderr",
     "output_type": "stream",
     "text": [
      "[I 2024-12-10 23:50:18,396] Trial 209 finished with value: 0.05327086970452999 and parameters: {'topK': 9, 'shrink': 21, 'feature_weighting': 'none', 'asymmetric_alpha': 0.0722547076592049}. Best is trial 151 with value: 0.054922145552626186.\n"
     ]
    },
    {
     "name": "stdout",
     "output_type": "stream",
     "text": [
      "Similarity column 38121 (100.0%), 4637.25 column/sec. Elapsed time 8.22 sec\n",
      "EvaluatorHoldout: Processed 35568 (100.0%) in 8.75 sec. Users per second: 4065\n"
     ]
    },
    {
     "name": "stderr",
     "output_type": "stream",
     "text": [
      "[I 2024-12-10 23:50:35,412] Trial 210 finished with value: 0.05457711229640892 and parameters: {'topK': 5, 'shrink': 24, 'feature_weighting': 'none', 'asymmetric_alpha': 0.07559336249462655}. Best is trial 151 with value: 0.054922145552626186.\n"
     ]
    },
    {
     "name": "stdout",
     "output_type": "stream",
     "text": [
      "Similarity column 38121 (100.0%), 4648.83 column/sec. Elapsed time 8.20 sec\n",
      "EvaluatorHoldout: Processed 35568 (100.0%) in 8.77 sec. Users per second: 4056\n"
     ]
    },
    {
     "name": "stderr",
     "output_type": "stream",
     "text": [
      "[I 2024-12-10 23:50:52,435] Trial 211 finished with value: 0.05462988177352037 and parameters: {'topK': 5, 'shrink': 24, 'feature_weighting': 'none', 'asymmetric_alpha': 0.0682166643933744}. Best is trial 151 with value: 0.054922145552626186.\n"
     ]
    },
    {
     "name": "stdout",
     "output_type": "stream",
     "text": [
      "Similarity column 38121 (100.0%), 4681.76 column/sec. Elapsed time 8.14 sec\n",
      "EvaluatorHoldout: Processed 35568 (100.0%) in 8.90 sec. Users per second: 3994\n"
     ]
    },
    {
     "name": "stderr",
     "output_type": "stream",
     "text": [
      "[I 2024-12-10 23:51:09,530] Trial 212 finished with value: 0.05431543714164176 and parameters: {'topK': 6, 'shrink': 24, 'feature_weighting': 'none', 'asymmetric_alpha': 0.11883244920556446}. Best is trial 151 with value: 0.054922145552626186.\n"
     ]
    }
   ],
   "source": [
    "optuna_study = op.create_study(direction=\"maximize\")\n",
    "        \n",
    "save_results = SaveResults()\n",
    "        \n",
    "optuna_study.optimize(objective_function_KNN,\n",
    "                      callbacks=[save_results],\n",
    "                      n_trials = 250)"
   ]
  },
  {
   "cell_type": "code",
   "execution_count": null,
   "id": "8337f9d0-17b3-4db1-9bf2-2d698b7b6dbc",
   "metadata": {},
   "outputs": [],
   "source": []
  }
 ],
 "metadata": {
  "kernelspec": {
   "display_name": "RecSys",
   "language": "python",
   "name": "recsys"
  },
  "language_info": {
   "codemirror_mode": {
    "name": "ipython",
    "version": 3
   },
   "file_extension": ".py",
   "mimetype": "text/x-python",
   "name": "python",
   "nbconvert_exporter": "python",
   "pygments_lexer": "ipython3",
   "version": "3.12.7"
  }
 },
 "nbformat": 4,
 "nbformat_minor": 5
}
