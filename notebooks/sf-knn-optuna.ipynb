{
 "cells": [
  {
   "cell_type": "code",
   "execution_count": 1,
   "id": "427ee9c7-c5eb-4576-9f92-d74e65fe1ff2",
   "metadata": {},
   "outputs": [],
   "source": [
    "from pathlib import Path\n",
    "import sys  \n",
    "import os\n",
    "import pandas as pd \n",
    "from datetime import datetime\n",
    "import scipy.sparse as sps\n",
    "from numpy import linalg as LA\n",
    "\n",
    "import numpy as np\n",
    "from operator import itemgetter\n",
    "import optuna as op"
   ]
  },
  {
   "cell_type": "code",
   "execution_count": 2,
   "id": "093f7ac7-6d4f-465e-ab41-a35175a951d9",
   "metadata": {},
   "outputs": [],
   "source": [
    "sys.path.append(os.path.abspath(os.path.join(os.getcwd(), \"..\", \"libs\")))\n",
    "sys.path.append(os.path.abspath(os.path.join(os.getcwd(), \"..\")))\n",
    "sys.path.append(os.path.abspath(os.path.join(os.getcwd(), \"..\", \"src\")))"
   ]
  },
  {
   "cell_type": "code",
   "execution_count": 3,
   "id": "fdfa0eeb-aec3-4bae-9dcd-13d6332998b0",
   "metadata": {},
   "outputs": [],
   "source": [
    "%load_ext autoreload\n",
    "%autoreload 2"
   ]
  },
  {
   "cell_type": "code",
   "execution_count": 4,
   "id": "bdf9b1fa-533b-4e8a-95a2-ff86d3b89dde",
   "metadata": {},
   "outputs": [],
   "source": [
    "from Utils.load_URM import load_URM\n",
    "from Utils.load_ICM import load_ICM\n",
    "\n",
    "from scipy.sparse import hstack, vstack\n",
    "from Evaluation.Evaluator import EvaluatorHoldout\n",
    "from Data_manager.split_functions.split_train_validation_random_holdout import split_train_in_two_percentage_global_sample\n",
    "\n",
    "URM_all = load_URM(\"../data/data_train.csv\")\n",
    "ICM_all = load_ICM(\"../data/data_ICM_metadata.csv\")"
   ]
  },
  {
   "cell_type": "code",
   "execution_count": 5,
   "id": "9f73f948-e55c-4683-a283-5d256fda3580",
   "metadata": {},
   "outputs": [],
   "source": [
    "#URM_train, URM_val = split_train_in_two_percentage_global_sample(URM_all, train_percentage = 0.80)\n",
    "URM_train = sps.load_npz(\"URM_train_ens.npz\")\n",
    "URM_val = sps.load_npz(\"URM_val_ens.npz\")"
   ]
  },
  {
   "cell_type": "code",
   "execution_count": 6,
   "id": "126b0641-8559-4a8d-a09b-d64a0a38add1",
   "metadata": {},
   "outputs": [
    {
     "name": "stdout",
     "output_type": "stream",
     "text": [
      "EvaluatorHoldout: Ignoring 1008 ( 2.8%) Users that have less than 1 test interactions\n"
     ]
    }
   ],
   "source": [
    "evaluator_validation = EvaluatorHoldout(URM_val, cutoff_list=[10])"
   ]
  },
  {
   "cell_type": "code",
   "execution_count": 7,
   "id": "7de5e196-193e-47d5-8980-f12028eaa0a1",
   "metadata": {},
   "outputs": [],
   "source": [
    "from libs.Recommenders.KNN.ItemKNNCFRecommender import ItemKNNCFRecommender"
   ]
  },
  {
   "cell_type": "code",
   "execution_count": 8,
   "id": "c64a8998-643f-4d59-b65f-794d5cea619e",
   "metadata": {},
   "outputs": [],
   "source": [
    "def objective_function_KNN(optuna_trial):\n",
    "                       \n",
    "    similarity=\"tversky\"\n",
    "    \n",
    "    recommender_instance = ItemKNNCFRecommender(URM_train)\n",
    "    \n",
    "    full_hyperp = {\"similarity\": similarity,\n",
    "                   \"topK\": optuna_trial.suggest_int(\"topK\", 2, 50),\n",
    "                   \"shrink\": optuna_trial.suggest_float(\"shrink\", 1 , 25),\n",
    "                   \"feature_weighting\": optuna_trial.suggest_categorical(\"feature_weighting\", [\"BM25\", \"TF-IDF\", \"none\"]),\n",
    "                   \"normalize\": optuna_trial.suggest_categorical(\"normalize\", [True, False])\n",
    "                  }\n",
    "    \n",
    "    if similarity == \"asymmetric\":\n",
    "        full_hyperp[\"asymmetric_alpha\"] = optuna_trial.suggest_float(\"asymmetric_alpha\", 0, 2, log=False)\n",
    "        full_hyperp[\"normalize\"] = True\n",
    "\n",
    "    elif similarity == \"tversky\":\n",
    "        full_hyperp[\"tversky_alpha\"] = optuna_trial.suggest_float(\"tversky_alpha\", 0.1, 0.99, log=False)\n",
    "        full_hyperp[\"tversky_beta\"] = optuna_trial.suggest_float(\"tversky_beta\", 0.1, 1.9, log=False)\n",
    "        full_hyperp[\"normalize\"] = True \n",
    "\n",
    "    elif similarity == \"euclidean\":\n",
    "        full_hyperp[\"normalize_avg_row\"] = optuna_trial.suggest_categorical(\"normalize_avg_row\", [True, False])\n",
    "        full_hyperp[\"similarity_from_distance_mode\"] = optuna_trial.suggest_categorical(\"similarity_from_distance_mode\", [\"lin\", \"log\", \"exp\"])\n",
    "        full_hyperp[\"normalize\"] = optuna_trial.suggest_categorical(\"normalize\", [True, False])\n",
    "        \n",
    "    \n",
    "    recommender_instance.fit(**full_hyperp)\n",
    "    \n",
    "    eval_res, _ = evaluator_validation.evaluateRecommender(recommender_instance)   \n",
    "    \n",
    "    # Save MAP alongside RECALL\n",
    "    trial_results = {\n",
    "        \"RECALL\": eval_res[\"RECALL\"][10],\n",
    "        \"MAP\": eval_res[\"MAP\"][10]  # Save MAP for reference\n",
    "    }\n",
    "    \n",
    "    # Save the MAP value to the optuna trial user attributes for later use\n",
    "    optuna_trial.set_user_attr(\"MAP\", trial_results[\"MAP\"])\n",
    "    \n",
    "    # Return RECALL for optimization\n",
    "    return trial_results[\"RECALL\"]"
   ]
  },
  {
   "cell_type": "code",
   "execution_count": 9,
   "id": "37d51566-0b96-4767-b79b-dc10521ebfb6",
   "metadata": {},
   "outputs": [],
   "source": [
    "class SaveResults(object):\n",
    "    def __init__(self, file_path=None):\n",
    "        self.file_path = file_path\n",
    "        self.results = []\n",
    "    \n",
    "    def __call__(self, optuna_study, optuna_trial):\n",
    "        trial_result = optuna_trial.params.copy()\n",
    "        trial_result[\"iteration\"] = optuna_trial.number\n",
    "        trial_result[\"RECALL\"] = optuna_trial.value\n",
    "        \n",
    "        # Retrieve the MAP metric from user attributes\n",
    "        trial_result[\"MAP\"] = optuna_trial.user_attrs.get(\"MAP\")\n",
    "        \n",
    "        self.results.append(trial_result)\n",
    "        \n",
    "        # Convert to DataFrame and save to CSV\n",
    "        results_df = pd.DataFrame(self.results)\n",
    "        results_df.to_csv(self.file_path, index=False)\n"
   ]
  },
  {
   "cell_type": "code",
   "execution_count": 11,
   "id": "325be9e0-75d1-4cb8-afd4-5c44db69051c",
   "metadata": {
    "scrolled": true
   },
   "outputs": [
    {
     "name": "stderr",
     "output_type": "stream",
     "text": [
      "[I 2024-12-26 01:13:50,931] A new study created in memory with name: no-name-4ac80043-f512-475c-88f7-2a6781cbeb97\n"
     ]
    },
    {
     "name": "stdout",
     "output_type": "stream",
     "text": [
      "Similarity column 38121 (100.0%), 5094.61 column/sec. Elapsed time 7.48 sec\n",
      "EvaluatorHoldout: Processed 34728 (100.0%) in 8.66 sec. Users per second: 4009\n"
     ]
    },
    {
     "name": "stderr",
     "output_type": "stream",
     "text": [
      "[I 2024-12-26 01:14:07,223] Trial 0 finished with value: 0.1092142859885148 and parameters: {'topK': 9, 'shrink': 24.089285247117747, 'feature_weighting': 'BM25', 'normalize': True, 'tversky_alpha': 0.23395549947699276, 'tversky_beta': 1.3434575160393993}. Best is trial 0 with value: 0.1092142859885148.\n"
     ]
    },
    {
     "name": "stdout",
     "output_type": "stream",
     "text": [
      "Similarity column 38121 (100.0%), 5108.64 column/sec. Elapsed time 7.46 sec\n",
      "EvaluatorHoldout: Processed 34728 (100.0%) in 8.75 sec. Users per second: 3969\n"
     ]
    },
    {
     "name": "stderr",
     "output_type": "stream",
     "text": [
      "[I 2024-12-26 01:14:23,547] Trial 1 finished with value: 0.11367735561015511 and parameters: {'topK': 5, 'shrink': 15.223312050813266, 'feature_weighting': 'none', 'normalize': False, 'tversky_alpha': 0.9181056608982311, 'tversky_beta': 0.7736133317488086}. Best is trial 1 with value: 0.11367735561015511.\n"
     ]
    },
    {
     "name": "stdout",
     "output_type": "stream",
     "text": [
      "Similarity column 38121 (100.0%), 5048.15 column/sec. Elapsed time 7.55 sec\n",
      "EvaluatorHoldout: Processed 34728 (100.0%) in 8.62 sec. Users per second: 4031\n"
     ]
    },
    {
     "name": "stderr",
     "output_type": "stream",
     "text": [
      "[I 2024-12-26 01:14:39,824] Trial 2 finished with value: 0.11763864508328313 and parameters: {'topK': 4, 'shrink': 16.47789048283951, 'feature_weighting': 'none', 'normalize': True, 'tversky_alpha': 0.3574802131236736, 'tversky_beta': 1.1591572005478132}. Best is trial 2 with value: 0.11763864508328313.\n"
     ]
    },
    {
     "name": "stdout",
     "output_type": "stream",
     "text": [
      "Similarity column 38121 (100.0%), 4997.18 column/sec. Elapsed time 7.63 sec\n",
      "EvaluatorHoldout: Processed 34728 (100.0%) in 10.00 sec. Users per second: 3472\n"
     ]
    },
    {
     "name": "stderr",
     "output_type": "stream",
     "text": [
      "[I 2024-12-26 01:14:57,596] Trial 3 finished with value: 0.09976745065143207 and parameters: {'topK': 42, 'shrink': 8.196520847476858, 'feature_weighting': 'BM25', 'normalize': False, 'tversky_alpha': 0.17344740473904788, 'tversky_beta': 0.21928739180866622}. Best is trial 2 with value: 0.11763864508328313.\n"
     ]
    },
    {
     "name": "stdout",
     "output_type": "stream",
     "text": [
      "Similarity column 38121 (100.0%), 5088.00 column/sec. Elapsed time 7.49 sec\n",
      "EvaluatorHoldout: Processed 34728 (100.0%) in 10.81 sec. Users per second: 3212\n"
     ]
    },
    {
     "name": "stderr",
     "output_type": "stream",
     "text": [
      "[I 2024-12-26 01:15:16,059] Trial 4 finished with value: 0.08959614728313285 and parameters: {'topK': 49, 'shrink': 5.662979653604231, 'feature_weighting': 'BM25', 'normalize': False, 'tversky_alpha': 0.702384505884715, 'tversky_beta': 0.2029225926858354}. Best is trial 2 with value: 0.11763864508328313.\n"
     ]
    },
    {
     "name": "stdout",
     "output_type": "stream",
     "text": [
      "Similarity column 38121 (100.0%), 5015.52 column/sec. Elapsed time 7.60 sec\n",
      "EvaluatorHoldout: Processed 34728 (100.0%) in 9.82 sec. Users per second: 3537\n"
     ]
    },
    {
     "name": "stderr",
     "output_type": "stream",
     "text": [
      "[I 2024-12-26 01:15:33,632] Trial 5 finished with value: 0.10250864455455766 and parameters: {'topK': 47, 'shrink': 8.640344642954908, 'feature_weighting': 'BM25', 'normalize': False, 'tversky_alpha': 0.34634219446253733, 'tversky_beta': 1.3966335770029623}. Best is trial 2 with value: 0.11763864508328313.\n"
     ]
    },
    {
     "name": "stdout",
     "output_type": "stream",
     "text": [
      "Similarity column 38121 (100.0%), 5039.96 column/sec. Elapsed time 7.56 sec\n",
      "EvaluatorHoldout: Processed 34728 (100.0%) in 9.27 sec. Users per second: 3747\n"
     ]
    },
    {
     "name": "stderr",
     "output_type": "stream",
     "text": [
      "[I 2024-12-26 01:15:50,614] Trial 6 finished with value: 0.10333073044325432 and parameters: {'topK': 19, 'shrink': 18.28754404875015, 'feature_weighting': 'BM25', 'normalize': True, 'tversky_alpha': 0.7028345535741669, 'tversky_beta': 0.7030881064238056}. Best is trial 2 with value: 0.11763864508328313.\n"
     ]
    },
    {
     "name": "stdout",
     "output_type": "stream",
     "text": [
      "Similarity column 38121 (100.0%), 4816.30 column/sec. Elapsed time 7.92 sec\n",
      "EvaluatorHoldout: Processed 34728 (100.0%) in 9.55 sec. Users per second: 3636\n"
     ]
    },
    {
     "name": "stderr",
     "output_type": "stream",
     "text": [
      "[I 2024-12-26 01:16:08,230] Trial 7 finished with value: 0.11056946500572318 and parameters: {'topK': 29, 'shrink': 11.067810001928901, 'feature_weighting': 'TF-IDF', 'normalize': False, 'tversky_alpha': 0.7052724208912791, 'tversky_beta': 0.8789246630349067}. Best is trial 2 with value: 0.11763864508328313.\n"
     ]
    },
    {
     "name": "stdout",
     "output_type": "stream",
     "text": [
      "Similarity column 38121 (100.0%), 5066.57 column/sec. Elapsed time 7.52 sec\n",
      "EvaluatorHoldout: Processed 34728 (100.0%) in 9.79 sec. Users per second: 3546\n"
     ]
    },
    {
     "name": "stderr",
     "output_type": "stream",
     "text": [
      "[I 2024-12-26 01:16:25,667] Trial 8 finished with value: 0.11235105642363892 and parameters: {'topK': 39, 'shrink': 19.71939044947227, 'feature_weighting': 'none', 'normalize': True, 'tversky_alpha': 0.34069144825581127, 'tversky_beta': 1.3584016024299024}. Best is trial 2 with value: 0.11763864508328313.\n"
     ]
    },
    {
     "name": "stdout",
     "output_type": "stream",
     "text": [
      "Similarity column 38121 (100.0%), 5024.43 column/sec. Elapsed time 7.59 sec\n",
      "EvaluatorHoldout: Processed 34728 (100.0%) in 9.21 sec. Users per second: 3770\n"
     ]
    },
    {
     "name": "stderr",
     "output_type": "stream",
     "text": [
      "[I 2024-12-26 01:16:42,607] Trial 9 finished with value: 0.11210408630832538 and parameters: {'topK': 26, 'shrink': 17.358326406106514, 'feature_weighting': 'TF-IDF', 'normalize': True, 'tversky_alpha': 0.3311495557664812, 'tversky_beta': 0.8638625277434478}. Best is trial 2 with value: 0.11763864508328313.\n"
     ]
    },
    {
     "name": "stdout",
     "output_type": "stream",
     "text": [
      "Similarity column 38121 (100.0%), 5074.45 column/sec. Elapsed time 7.51 sec\n",
      "EvaluatorHoldout: Processed 34728 (100.0%) in 8.71 sec. Users per second: 3987\n"
     ]
    },
    {
     "name": "stderr",
     "output_type": "stream",
     "text": [
      "[I 2024-12-26 01:16:58,948] Trial 10 finished with value: 0.11603671411973714 and parameters: {'topK': 13, 'shrink': 1.2397067252947966, 'feature_weighting': 'none', 'normalize': True, 'tversky_alpha': 0.5019779177466618, 'tversky_beta': 1.7720061243179928}. Best is trial 2 with value: 0.11763864508328313.\n"
     ]
    },
    {
     "name": "stdout",
     "output_type": "stream",
     "text": [
      "Similarity column 38121 (100.0%), 5105.58 column/sec. Elapsed time 7.47 sec\n",
      "EvaluatorHoldout: Processed 34728 (100.0%) in 8.73 sec. Users per second: 3979\n"
     ]
    },
    {
     "name": "stderr",
     "output_type": "stream",
     "text": [
      "[I 2024-12-26 01:17:15,257] Trial 11 finished with value: 0.11602398083832506 and parameters: {'topK': 13, 'shrink': 2.455080220863442, 'feature_weighting': 'none', 'normalize': True, 'tversky_alpha': 0.504827920739827, 'tversky_beta': 1.8286043807152825}. Best is trial 2 with value: 0.11763864508328313.\n"
     ]
    },
    {
     "name": "stdout",
     "output_type": "stream",
     "text": [
      "Similarity column 38121 (100.0%), 5101.40 column/sec. Elapsed time 7.47 sec\n",
      "EvaluatorHoldout: Processed 34728 (100.0%) in 8.58 sec. Users per second: 4049\n"
     ]
    },
    {
     "name": "stderr",
     "output_type": "stream",
     "text": [
      "[I 2024-12-26 01:17:31,422] Trial 12 finished with value: 0.11737008764434739 and parameters: {'topK': 4, 'shrink': 13.067585611711184, 'feature_weighting': 'none', 'normalize': True, 'tversky_alpha': 0.500776147341131, 'tversky_beta': 1.7500326834701978}. Best is trial 2 with value: 0.11763864508328313.\n"
     ]
    },
    {
     "name": "stdout",
     "output_type": "stream",
     "text": [
      "Similarity column 38121 (100.0%), 2232.27 column/sec. Elapsed time 17.08 sec\n",
      "EvaluatorHoldout: Processed 34728 (100.0%) in 8.47 sec. Users per second: 4098\n"
     ]
    },
    {
     "name": "stderr",
     "output_type": "stream",
     "text": [
      "[I 2024-12-26 01:17:57,086] Trial 13 finished with value: 0.11424938324737918 and parameters: {'topK': 2, 'shrink': 13.60325354091416, 'feature_weighting': 'none', 'normalize': True, 'tversky_alpha': 0.5521666764149287, 'tversky_beta': 1.608712074506545}. Best is trial 2 with value: 0.11763864508328313.\n"
     ]
    },
    {
     "name": "stdout",
     "output_type": "stream",
     "text": [
      "Similarity column 38121 (100.0%), 5130.88 column/sec. Elapsed time 7.43 sec\n",
      "EvaluatorHoldout: Processed 34728 (100.0%) in 8.93 sec. Users per second: 3890\n"
     ]
    },
    {
     "name": "stderr",
     "output_type": "stream",
     "text": [
      "[I 2024-12-26 01:18:13,558] Trial 14 finished with value: 0.11571821498241766 and parameters: {'topK': 20, 'shrink': 11.908597003424163, 'feature_weighting': 'none', 'normalize': True, 'tversky_alpha': 0.10380077727691112, 'tversky_beta': 1.193038880623952}. Best is trial 2 with value: 0.11763864508328313.\n"
     ]
    },
    {
     "name": "stdout",
     "output_type": "stream",
     "text": [
      "Similarity column 38121 (100.0%), 2251.33 column/sec. Elapsed time 16.93 sec\n",
      "EvaluatorHoldout: Processed 34728 (100.0%) in 8.31 sec. Users per second: 4181\n"
     ]
    },
    {
     "name": "stderr",
     "output_type": "stream",
     "text": [
      "[I 2024-12-26 01:18:38,912] Trial 15 finished with value: 0.11445570761842054 and parameters: {'topK': 2, 'shrink': 22.37522547783979, 'feature_weighting': 'none', 'normalize': True, 'tversky_alpha': 0.44889583457211696, 'tversky_beta': 1.1090006056994097}. Best is trial 2 with value: 0.11763864508328313.\n"
     ]
    },
    {
     "name": "stdout",
     "output_type": "stream",
     "text": [
      "Similarity column 38121 (100.0%), 5127.81 column/sec. Elapsed time 7.43 sec\n",
      "EvaluatorHoldout: Processed 34728 (100.0%) in 8.81 sec. Users per second: 3941\n"
     ]
    },
    {
     "name": "stderr",
     "output_type": "stream",
     "text": [
      "[I 2024-12-26 01:18:55,270] Trial 16 finished with value: 0.11153267244577422 and parameters: {'topK': 11, 'shrink': 15.804560645639329, 'feature_weighting': 'none', 'normalize': True, 'tversky_alpha': 0.5939425338074307, 'tversky_beta': 0.5085330548766548}. Best is trial 2 with value: 0.11763864508328313.\n"
     ]
    },
    {
     "name": "stdout",
     "output_type": "stream",
     "text": [
      "Similarity column 38121 (100.0%), 5155.48 column/sec. Elapsed time 7.39 sec\n",
      "EvaluatorHoldout: Processed 34728 (100.0%) in 8.95 sec. Users per second: 3882\n"
     ]
    },
    {
     "name": "stderr",
     "output_type": "stream",
     "text": [
      "[I 2024-12-26 01:19:11,749] Trial 17 finished with value: 0.11388302790814395 and parameters: {'topK': 19, 'shrink': 20.422986604537268, 'feature_weighting': 'TF-IDF', 'normalize': True, 'tversky_alpha': 0.9468667147555206, 'tversky_beta': 1.587204347909924}. Best is trial 2 with value: 0.11763864508328313.\n"
     ]
    },
    {
     "name": "stdout",
     "output_type": "stream",
     "text": [
      "Similarity column 38121 (100.0%), 5155.53 column/sec. Elapsed time 7.39 sec\n",
      "EvaluatorHoldout: Processed 34728 (100.0%) in 9.19 sec. Users per second: 3779\n"
     ]
    },
    {
     "name": "stderr",
     "output_type": "stream",
     "text": [
      "[I 2024-12-26 01:19:28,453] Trial 18 finished with value: 0.11360337334597674 and parameters: {'topK': 32, 'shrink': 13.248524455143851, 'feature_weighting': 'none', 'normalize': True, 'tversky_alpha': 0.3723694965563733, 'tversky_beta': 1.5883794693089197}. Best is trial 2 with value: 0.11763864508328313.\n"
     ]
    },
    {
     "name": "stdout",
     "output_type": "stream",
     "text": [
      "Similarity column 38121 (100.0%), 5182.08 column/sec. Elapsed time 7.36 sec\n",
      "EvaluatorHoldout: Processed 34728 (100.0%) in 8.56 sec. Users per second: 4058\n"
     ]
    },
    {
     "name": "stderr",
     "output_type": "stream",
     "text": [
      "[I 2024-12-26 01:19:44,479] Trial 19 finished with value: 0.11115363128504298 and parameters: {'topK': 7, 'shrink': 9.028595987567819, 'feature_weighting': 'none', 'normalize': True, 'tversky_alpha': 0.8360435130563552, 'tversky_beta': 0.5206716792303994}. Best is trial 2 with value: 0.11763864508328313.\n"
     ]
    },
    {
     "name": "stdout",
     "output_type": "stream",
     "text": [
      "Similarity column 38121 (100.0%), 5168.37 column/sec. Elapsed time 7.38 sec\n",
      "EvaluatorHoldout: Processed 34728 (100.0%) in 8.63 sec. Users per second: 4024\n"
     ]
    },
    {
     "name": "stderr",
     "output_type": "stream",
     "text": [
      "[I 2024-12-26 01:20:00,622] Trial 20 finished with value: 0.11742310886618705 and parameters: {'topK': 16, 'shrink': 16.138466727736496, 'feature_weighting': 'TF-IDF', 'normalize': True, 'tversky_alpha': 0.24003188090350402, 'tversky_beta': 1.8892445094057653}. Best is trial 2 with value: 0.11763864508328313.\n"
     ]
    },
    {
     "name": "stdout",
     "output_type": "stream",
     "text": [
      "Similarity column 38121 (100.0%), 5121.41 column/sec. Elapsed time 7.44 sec\n",
      "EvaluatorHoldout: Processed 34728 (100.0%) in 8.63 sec. Users per second: 4023\n"
     ]
    },
    {
     "name": "stderr",
     "output_type": "stream",
     "text": [
      "[I 2024-12-26 01:20:16,835] Trial 21 finished with value: 0.11714618874268988 and parameters: {'topK': 14, 'shrink': 15.544195177566964, 'feature_weighting': 'TF-IDF', 'normalize': True, 'tversky_alpha': 0.23338828310834359, 'tversky_beta': 1.8030155623769906}. Best is trial 2 with value: 0.11763864508328313.\n"
     ]
    },
    {
     "name": "stdout",
     "output_type": "stream",
     "text": [
      "Similarity column 38121 (100.0%), 5143.40 column/sec. Elapsed time 7.41 sec\n",
      "EvaluatorHoldout: Processed 34728 (100.0%) in 8.53 sec. Users per second: 4069\n"
     ]
    },
    {
     "name": "stderr",
     "output_type": "stream",
     "text": [
      "[I 2024-12-26 01:20:32,914] Trial 22 finished with value: 0.11801140825109484 and parameters: {'topK': 7, 'shrink': 17.87574080553652, 'feature_weighting': 'TF-IDF', 'normalize': True, 'tversky_alpha': 0.432517708566306, 'tversky_beta': 1.8940628379657236}. Best is trial 22 with value: 0.11801140825109484.\n"
     ]
    },
    {
     "name": "stdout",
     "output_type": "stream",
     "text": [
      "Similarity column 38121 (100.0%), 5164.60 column/sec. Elapsed time 7.38 sec\n",
      "EvaluatorHoldout: Processed 34728 (100.0%) in 8.84 sec. Users per second: 3928\n"
     ]
    },
    {
     "name": "stderr",
     "output_type": "stream",
     "text": [
      "[I 2024-12-26 01:20:49,273] Trial 23 finished with value: 0.11740802620271149 and parameters: {'topK': 16, 'shrink': 20.88295973551539, 'feature_weighting': 'TF-IDF', 'normalize': True, 'tversky_alpha': 0.2553467449022991, 'tversky_beta': 1.8735667222229953}. Best is trial 22 with value: 0.11801140825109484.\n"
     ]
    },
    {
     "name": "stdout",
     "output_type": "stream",
     "text": [
      "Similarity column 38121 (100.0%), 5167.00 column/sec. Elapsed time 7.38 sec\n",
      "EvaluatorHoldout: Processed 34728 (100.0%) in 8.60 sec. Users per second: 4037\n"
     ]
    },
    {
     "name": "stderr",
     "output_type": "stream",
     "text": [
      "[I 2024-12-26 01:21:05,389] Trial 24 finished with value: 0.11740994380173482 and parameters: {'topK': 8, 'shrink': 18.087486122560435, 'feature_weighting': 'TF-IDF', 'normalize': True, 'tversky_alpha': 0.44621805809896564, 'tversky_beta': 1.458362679679203}. Best is trial 22 with value: 0.11801140825109484.\n"
     ]
    },
    {
     "name": "stdout",
     "output_type": "stream",
     "text": [
      "Similarity column 38121 (100.0%), 5169.11 column/sec. Elapsed time 7.37 sec\n",
      "EvaluatorHoldout: Processed 34728 (100.0%) in 9.10 sec. Users per second: 3817\n"
     ]
    },
    {
     "name": "stderr",
     "output_type": "stream",
     "text": [
      "[I 2024-12-26 01:21:22,002] Trial 25 finished with value: 0.11473179289611524 and parameters: {'topK': 24, 'shrink': 16.3357162392307, 'feature_weighting': 'TF-IDF', 'normalize': True, 'tversky_alpha': 0.41210918991826734, 'tversky_beta': 1.6542239530127865}. Best is trial 22 with value: 0.11801140825109484.\n"
     ]
    },
    {
     "name": "stdout",
     "output_type": "stream",
     "text": [
      "Similarity column 38121 (100.0%), 5158.64 column/sec. Elapsed time 7.39 sec\n",
      "EvaluatorHoldout: Processed 34728 (100.0%) in 8.60 sec. Users per second: 4040\n"
     ]
    },
    {
     "name": "stderr",
     "output_type": "stream",
     "text": [
      "[I 2024-12-26 01:21:38,123] Trial 26 finished with value: 0.11785955845417082 and parameters: {'topK': 9, 'shrink': 18.96456751263914, 'feature_weighting': 'TF-IDF', 'normalize': False, 'tversky_alpha': 0.14675577855184113, 'tversky_beta': 1.8938426682218652}. Best is trial 22 with value: 0.11801140825109484.\n"
     ]
    },
    {
     "name": "stdout",
     "output_type": "stream",
     "text": [
      "Similarity column 38121 (100.0%), 5154.42 column/sec. Elapsed time 7.40 sec\n",
      "EvaluatorHoldout: Processed 34728 (100.0%) in 8.63 sec. Users per second: 4025\n"
     ]
    },
    {
     "name": "stderr",
     "output_type": "stream",
     "text": [
      "[I 2024-12-26 01:21:54,282] Trial 27 finished with value: 0.11754174215373364 and parameters: {'topK': 9, 'shrink': 22.90950392565686, 'feature_weighting': 'TF-IDF', 'normalize': False, 'tversky_alpha': 0.1405533704545232, 'tversky_beta': 1.1675465513040586}. Best is trial 22 with value: 0.11801140825109484.\n"
     ]
    },
    {
     "name": "stdout",
     "output_type": "stream",
     "text": [
      "Similarity column 38121 (100.0%), 5154.80 column/sec. Elapsed time 7.40 sec\n",
      "EvaluatorHoldout: Processed 34728 (100.0%) in 8.46 sec. Users per second: 4105\n"
     ]
    },
    {
     "name": "stderr",
     "output_type": "stream",
     "text": [
      "[I 2024-12-26 01:22:10,270] Trial 28 finished with value: 0.1184488790924235 and parameters: {'topK': 6, 'shrink': 19.340719259354763, 'feature_weighting': 'TF-IDF', 'normalize': False, 'tversky_alpha': 0.2935609055984808, 'tversky_beta': 1.4837719430840142}. Best is trial 28 with value: 0.1184488790924235.\n"
     ]
    },
    {
     "name": "stdout",
     "output_type": "stream",
     "text": [
      "Similarity column 38121 (100.0%), 5172.83 column/sec. Elapsed time 7.37 sec\n",
      "EvaluatorHoldout: Processed 34728 (100.0%) in 8.62 sec. Users per second: 4027\n"
     ]
    },
    {
     "name": "stderr",
     "output_type": "stream",
     "text": [
      "[I 2024-12-26 01:22:26,398] Trial 29 finished with value: 0.11809827192356406 and parameters: {'topK': 9, 'shrink': 24.194463773805445, 'feature_weighting': 'TF-IDF', 'normalize': False, 'tversky_alpha': 0.28207157842986963, 'tversky_beta': 1.4954557575221947}. Best is trial 28 with value: 0.1184488790924235.\n"
     ]
    },
    {
     "name": "stdout",
     "output_type": "stream",
     "text": [
      "Similarity column 38121 (100.0%), 5152.46 column/sec. Elapsed time 7.40 sec\n",
      "EvaluatorHoldout: Processed 34728 (100.0%) in 8.91 sec. Users per second: 3898\n"
     ]
    },
    {
     "name": "stderr",
     "output_type": "stream",
     "text": [
      "[I 2024-12-26 01:22:42,846] Trial 30 finished with value: 0.11428417758256092 and parameters: {'topK': 23, 'shrink': 24.74233746851465, 'feature_weighting': 'TF-IDF', 'normalize': False, 'tversky_alpha': 0.2809527076198557, 'tversky_beta': 1.477618843871123}. Best is trial 28 with value: 0.1184488790924235.\n"
     ]
    },
    {
     "name": "stdout",
     "output_type": "stream",
     "text": [
      "Similarity column 38121 (100.0%), 5131.39 column/sec. Elapsed time 7.43 sec\n",
      "EvaluatorHoldout: Processed 34728 (100.0%) in 8.63 sec. Users per second: 4026\n"
     ]
    },
    {
     "name": "stderr",
     "output_type": "stream",
     "text": [
      "[I 2024-12-26 01:22:59,036] Trial 31 finished with value: 0.11736512043947045 and parameters: {'topK': 10, 'shrink': 22.705671700955225, 'feature_weighting': 'TF-IDF', 'normalize': False, 'tversky_alpha': 0.18858401044149808, 'tversky_beta': 1.2768922487082146}. Best is trial 28 with value: 0.1184488790924235.\n"
     ]
    },
    {
     "name": "stdout",
     "output_type": "stream",
     "text": [
      "Similarity column 38121 (100.0%), 5149.13 column/sec. Elapsed time 7.40 sec\n",
      "EvaluatorHoldout: Processed 34728 (100.0%) in 8.59 sec. Users per second: 4045\n"
     ]
    },
    {
     "name": "stderr",
     "output_type": "stream",
     "text": [
      "[I 2024-12-26 01:23:15,161] Trial 32 finished with value: 0.11831100132158559 and parameters: {'topK': 6, 'shrink': 19.329049745234776, 'feature_weighting': 'TF-IDF', 'normalize': False, 'tversky_alpha': 0.2860305718657076, 'tversky_beta': 1.6909157336506841}. Best is trial 28 with value: 0.1184488790924235.\n"
     ]
    },
    {
     "name": "stdout",
     "output_type": "stream",
     "text": [
      "Similarity column 38121 (100.0%), 5158.67 column/sec. Elapsed time 7.39 sec\n",
      "EvaluatorHoldout: Processed 34728 (100.0%) in 8.53 sec. Users per second: 4073\n"
     ]
    },
    {
     "name": "stderr",
     "output_type": "stream",
     "text": [
      "[I 2024-12-26 01:23:31,211] Trial 33 finished with value: 0.11861526404584104 and parameters: {'topK': 5, 'shrink': 21.51679230273982, 'feature_weighting': 'TF-IDF', 'normalize': False, 'tversky_alpha': 0.28895301426805425, 'tversky_beta': 1.6781174157534493}. Best is trial 33 with value: 0.11861526404584104.\n"
     ]
    },
    {
     "name": "stdout",
     "output_type": "stream",
     "text": [
      "Similarity column 38121 (100.0%), 5170.29 column/sec. Elapsed time 7.37 sec\n",
      "EvaluatorHoldout: Processed 34728 (100.0%) in 8.51 sec. Users per second: 4079\n"
     ]
    },
    {
     "name": "stderr",
     "output_type": "stream",
     "text": [
      "[I 2024-12-26 01:23:47,235] Trial 34 finished with value: 0.1185736925458122 and parameters: {'topK': 5, 'shrink': 21.270164774233972, 'feature_weighting': 'TF-IDF', 'normalize': False, 'tversky_alpha': 0.29771296294501126, 'tversky_beta': 1.686607111661352}. Best is trial 33 with value: 0.11861526404584104.\n"
     ]
    },
    {
     "name": "stdout",
     "output_type": "stream",
     "text": [
      "Similarity column 38121 (100.0%), 5171.49 column/sec. Elapsed time 7.37 sec\n",
      "EvaluatorHoldout: Processed 34728 (100.0%) in 8.48 sec. Users per second: 4097\n"
     ]
    },
    {
     "name": "stderr",
     "output_type": "stream",
     "text": [
      "[I 2024-12-26 01:24:03,219] Trial 35 finished with value: 0.1184265688861023 and parameters: {'topK': 5, 'shrink': 20.97051856931693, 'feature_weighting': 'TF-IDF', 'normalize': False, 'tversky_alpha': 0.1985996421974277, 'tversky_beta': 1.709012183310442}. Best is trial 33 with value: 0.11861526404584104.\n"
     ]
    },
    {
     "name": "stdout",
     "output_type": "stream",
     "text": [
      "Similarity column 38121 (100.0%), 5172.50 column/sec. Elapsed time 7.37 sec\n",
      "EvaluatorHoldout: Processed 34728 (100.0%) in 8.46 sec. Users per second: 4107\n"
     ]
    },
    {
     "name": "stderr",
     "output_type": "stream",
     "text": [
      "[I 2024-12-26 01:24:19,181] Trial 36 finished with value: 0.11849858635211623 and parameters: {'topK': 4, 'shrink': 21.225554306292437, 'feature_weighting': 'TF-IDF', 'normalize': False, 'tversky_alpha': 0.21628830358647816, 'tversky_beta': 1.2875605592866364}. Best is trial 33 with value: 0.11861526404584104.\n"
     ]
    },
    {
     "name": "stdout",
     "output_type": "stream",
     "text": [
      "Similarity column 38121 (100.0%), 2241.32 column/sec. Elapsed time 17.01 sec\n",
      "EvaluatorHoldout: Processed 34728 (100.0%) in 8.37 sec. Users per second: 4150\n"
     ]
    },
    {
     "name": "stderr",
     "output_type": "stream",
     "text": [
      "[I 2024-12-26 01:24:44,695] Trial 37 finished with value: 0.10541280086895234 and parameters: {'topK': 2, 'shrink': 21.68214729545162, 'feature_weighting': 'BM25', 'normalize': False, 'tversky_alpha': 0.38620472795117994, 'tversky_beta': 1.276036315448551}. Best is trial 33 with value: 0.11861526404584104.\n"
     ]
    },
    {
     "name": "stdout",
     "output_type": "stream",
     "text": [
      "Similarity column 38121 (100.0%), 5154.47 column/sec. Elapsed time 7.40 sec\n",
      "EvaluatorHoldout: Processed 34728 (100.0%) in 8.46 sec. Users per second: 4106\n"
     ]
    },
    {
     "name": "stderr",
     "output_type": "stream",
     "text": [
      "[I 2024-12-26 01:25:00,686] Trial 38 finished with value: 0.11866717737298337 and parameters: {'topK': 5, 'shrink': 23.608937522848798, 'feature_weighting': 'TF-IDF', 'normalize': False, 'tversky_alpha': 0.31920453794856396, 'tversky_beta': 1.5514412177506365}. Best is trial 38 with value: 0.11866717737298337.\n"
     ]
    },
    {
     "name": "stdout",
     "output_type": "stream",
     "text": [
      "Similarity column 38121 (100.0%), 5161.30 column/sec. Elapsed time 7.39 sec\n",
      "EvaluatorHoldout: Processed 34728 (100.0%) in 9.26 sec. Users per second: 3751\n"
     ]
    },
    {
     "name": "stderr",
     "output_type": "stream",
     "text": [
      "[I 2024-12-26 01:25:17,485] Trial 39 finished with value: 0.10687169017428273 and parameters: {'topK': 32, 'shrink': 23.18278184658834, 'feature_weighting': 'BM25', 'normalize': False, 'tversky_alpha': 0.2064750130886597, 'tversky_beta': 1.0804431824619998}. Best is trial 38 with value: 0.11866717737298337.\n"
     ]
    },
    {
     "name": "stdout",
     "output_type": "stream",
     "text": [
      "Similarity column 38121 (100.0%), 5144.06 column/sec. Elapsed time 7.41 sec\n",
      "EvaluatorHoldout: Processed 34728 (100.0%) in 8.42 sec. Users per second: 4123\n"
     ]
    },
    {
     "name": "stderr",
     "output_type": "stream",
     "text": [
      "[I 2024-12-26 01:25:33,458] Trial 40 finished with value: 0.1179644458787188 and parameters: {'topK': 4, 'shrink': 23.71221958676178, 'feature_weighting': 'TF-IDF', 'normalize': False, 'tversky_alpha': 0.32806562534599293, 'tversky_beta': 1.3035691959594684}. Best is trial 38 with value: 0.11866717737298337.\n"
     ]
    },
    {
     "name": "stdout",
     "output_type": "stream",
     "text": [
      "Similarity column 38121 (100.0%), 5112.82 column/sec. Elapsed time 7.46 sec\n",
      "EvaluatorHoldout: Processed 34728 (100.0%) in 8.48 sec. Users per second: 4097\n"
     ]
    },
    {
     "name": "stderr",
     "output_type": "stream",
     "text": [
      "[I 2024-12-26 01:25:49,527] Trial 41 finished with value: 0.11852118882003655 and parameters: {'topK': 5, 'shrink': 21.59168251384499, 'feature_weighting': 'TF-IDF', 'normalize': False, 'tversky_alpha': 0.29869204262218146, 'tversky_beta': 1.5339998226953637}. Best is trial 38 with value: 0.11866717737298337.\n"
     ]
    },
    {
     "name": "stdout",
     "output_type": "stream",
     "text": [
      "Similarity column 38121 (100.0%), 5178.97 column/sec. Elapsed time 7.36 sec\n",
      "EvaluatorHoldout: Processed 34728 (100.0%) in 8.67 sec. Users per second: 4005\n"
     ]
    },
    {
     "name": "stderr",
     "output_type": "stream",
     "text": [
      "[I 2024-12-26 01:26:05,696] Trial 42 finished with value: 0.11768264703460478 and parameters: {'topK': 12, 'shrink': 21.235655938012517, 'feature_weighting': 'TF-IDF', 'normalize': False, 'tversky_alpha': 0.1010404953391762, 'tversky_beta': 1.3938422925667084}. Best is trial 38 with value: 0.11866717737298337.\n"
     ]
    },
    {
     "name": "stdout",
     "output_type": "stream",
     "text": [
      "Similarity column 38121 (100.0%), 2251.98 column/sec. Elapsed time 16.93 sec\n",
      "EvaluatorHoldout: Processed 34728 (100.0%) in 8.44 sec. Users per second: 4113\n"
     ]
    },
    {
     "name": "stderr",
     "output_type": "stream",
     "text": [
      "[I 2024-12-26 01:26:31,204] Trial 43 finished with value: 0.10011096595439412 and parameters: {'topK': 2, 'shrink': 22.286227873935157, 'feature_weighting': 'TF-IDF', 'normalize': False, 'tversky_alpha': 0.3202018954332887, 'tversky_beta': 0.10272328449103663}. Best is trial 38 with value: 0.11866717737298337.\n"
     ]
    },
    {
     "name": "stdout",
     "output_type": "stream",
     "text": [
      "Similarity column 38121 (100.0%), 5178.63 column/sec. Elapsed time 7.36 sec\n",
      "EvaluatorHoldout: Processed 34728 (100.0%) in 8.50 sec. Users per second: 4087\n"
     ]
    },
    {
     "name": "stderr",
     "output_type": "stream",
     "text": [
      "[I 2024-12-26 01:26:47,197] Trial 44 finished with value: 0.11845683058896085 and parameters: {'topK': 5, 'shrink': 20.18164615509561, 'feature_weighting': 'TF-IDF', 'normalize': False, 'tversky_alpha': 0.38548846704629225, 'tversky_beta': 1.5443677148741386}. Best is trial 38 with value: 0.11866717737298337.\n"
     ]
    },
    {
     "name": "stdout",
     "output_type": "stream",
     "text": [
      "Similarity column 38121 (100.0%), 5136.35 column/sec. Elapsed time 7.42 sec\n",
      "EvaluatorHoldout: Processed 34728 (100.0%) in 9.42 sec. Users per second: 3687\n"
     ]
    },
    {
     "name": "stderr",
     "output_type": "stream",
     "text": [
      "[I 2024-12-26 01:27:04,181] Trial 45 finished with value: 0.1122200775903644 and parameters: {'topK': 40, 'shrink': 23.626217903131028, 'feature_weighting': 'TF-IDF', 'normalize': False, 'tversky_alpha': 0.1532887454247765, 'tversky_beta': 1.4062723441350586}. Best is trial 38 with value: 0.11866717737298337.\n"
     ]
    },
    {
     "name": "stdout",
     "output_type": "stream",
     "text": [
      "Similarity column 38121 (100.0%), 5155.89 column/sec. Elapsed time 7.39 sec\n",
      "EvaluatorHoldout: Processed 34728 (100.0%) in 8.98 sec. Users per second: 3867\n"
     ]
    },
    {
     "name": "stderr",
     "output_type": "stream",
     "text": [
      "[I 2024-12-26 01:27:20,696] Trial 46 finished with value: 0.10613960531870387 and parameters: {'topK': 15, 'shrink': 24.918537121789072, 'feature_weighting': 'BM25', 'normalize': False, 'tversky_alpha': 0.6278816147212325, 'tversky_beta': 0.9917591277004533}. Best is trial 38 with value: 0.11866717737298337.\n"
     ]
    },
    {
     "name": "stdout",
     "output_type": "stream",
     "text": [
      "Similarity column 38121 (100.0%), 5176.50 column/sec. Elapsed time 7.36 sec\n",
      "EvaluatorHoldout: Processed 34728 (100.0%) in 8.63 sec. Users per second: 4022\n"
     ]
    },
    {
     "name": "stderr",
     "output_type": "stream",
     "text": [
      "[I 2024-12-26 01:27:36,830] Trial 47 finished with value: 0.11639145951021376 and parameters: {'topK': 11, 'shrink': 4.9936581886869185, 'feature_weighting': 'TF-IDF', 'normalize': False, 'tversky_alpha': 0.23077498675828334, 'tversky_beta': 1.6482501013805304}. Best is trial 38 with value: 0.11866717737298337.\n"
     ]
    },
    {
     "name": "stdout",
     "output_type": "stream",
     "text": [
      "Similarity column 38121 (100.0%), 5189.65 column/sec. Elapsed time 7.35 sec\n",
      "EvaluatorHoldout: Processed 34728 (100.0%) in 8.51 sec. Users per second: 4082\n"
     ]
    },
    {
     "name": "stderr",
     "output_type": "stream",
     "text": [
      "[I 2024-12-26 01:27:52,818] Trial 48 finished with value: 0.11790912502185362 and parameters: {'topK': 4, 'shrink': 14.362876190943126, 'feature_weighting': 'TF-IDF', 'normalize': False, 'tversky_alpha': 0.349335976500825, 'tversky_beta': 1.719661234807361}. Best is trial 38 with value: 0.11866717737298337.\n"
     ]
    },
    {
     "name": "stdout",
     "output_type": "stream",
     "text": [
      "Similarity column 38121 (100.0%), 5186.39 column/sec. Elapsed time 7.35 sec\n",
      "EvaluatorHoldout: Processed 34728 (100.0%) in 8.55 sec. Users per second: 4061\n"
     ]
    },
    {
     "name": "stderr",
     "output_type": "stream",
     "text": [
      "[I 2024-12-26 01:28:08,853] Trial 49 finished with value: 0.11778005690469626 and parameters: {'topK': 7, 'shrink': 17.217533022011594, 'feature_weighting': 'TF-IDF', 'normalize': False, 'tversky_alpha': 0.30385145327102, 'tversky_beta': 1.5353325017376025}. Best is trial 38 with value: 0.11866717737298337.\n"
     ]
    },
    {
     "name": "stdout",
     "output_type": "stream",
     "text": [
      "Similarity column 38121 (100.0%), 1595.01 column/sec. Elapsed time 23.90 sec\n",
      "EvaluatorHoldout: Processed 34728 (100.0%) in 8.40 sec. Users per second: 4135\n"
     ]
    },
    {
     "name": "stderr",
     "output_type": "stream",
     "text": [
      "[I 2024-12-26 01:28:41,290] Trial 50 finished with value: 0.10638043691296643 and parameters: {'topK': 3, 'shrink': 21.88795468347695, 'feature_weighting': 'BM25', 'normalize': False, 'tversky_alpha': 0.4663462137851738, 'tversky_beta': 1.2323636180021107}. Best is trial 38 with value: 0.11866717737298337.\n"
     ]
    },
    {
     "name": "stdout",
     "output_type": "stream",
     "text": [
      "Similarity column 38121 (100.0%), 5129.28 column/sec. Elapsed time 7.43 sec\n",
      "EvaluatorHoldout: Processed 34728 (100.0%) in 8.56 sec. Users per second: 4055\n"
     ]
    },
    {
     "name": "stderr",
     "output_type": "stream",
     "text": [
      "[I 2024-12-26 01:28:57,421] Trial 51 finished with value: 0.11838059274017376 and parameters: {'topK': 5, 'shrink': 20.243720353393844, 'feature_weighting': 'TF-IDF', 'normalize': False, 'tversky_alpha': 0.3843893288431717, 'tversky_beta': 1.363333487449621}. Best is trial 38 with value: 0.11866717737298337.\n"
     ]
    },
    {
     "name": "stdout",
     "output_type": "stream",
     "text": [
      "Similarity column 38121 (100.0%), 5158.71 column/sec. Elapsed time 7.39 sec\n",
      "EvaluatorHoldout: Processed 34728 (100.0%) in 9.49 sec. Users per second: 3660\n"
     ]
    },
    {
     "name": "stderr",
     "output_type": "stream",
     "text": [
      "[I 2024-12-26 01:29:14,444] Trial 52 finished with value: 0.11196682143550027 and parameters: {'topK': 45, 'shrink': 18.67714341484148, 'feature_weighting': 'TF-IDF', 'normalize': False, 'tversky_alpha': 0.23453679421756554, 'tversky_beta': 1.584963198557788}. Best is trial 38 with value: 0.11866717737298337.\n"
     ]
    },
    {
     "name": "stdout",
     "output_type": "stream",
     "text": [
      "Similarity column 38121 (100.0%), 5168.53 column/sec. Elapsed time 7.38 sec\n",
      "EvaluatorHoldout: Processed 34728 (100.0%) in 8.46 sec. Users per second: 4104\n"
     ]
    },
    {
     "name": "stderr",
     "output_type": "stream",
     "text": [
      "[I 2024-12-26 01:29:30,415] Trial 53 finished with value: 0.11849869466454713 and parameters: {'topK': 5, 'shrink': 19.651874407875944, 'feature_weighting': 'TF-IDF', 'normalize': False, 'tversky_alpha': 0.4075241696335574, 'tversky_beta': 1.7761268601145632}. Best is trial 38 with value: 0.11866717737298337.\n"
     ]
    },
    {
     "name": "stdout",
     "output_type": "stream",
     "text": [
      "Similarity column 38121 (100.0%), 5165.65 column/sec. Elapsed time 7.38 sec\n",
      "EvaluatorHoldout: Processed 34728 (100.0%) in 8.68 sec. Users per second: 3999\n"
     ]
    },
    {
     "name": "stderr",
     "output_type": "stream",
     "text": [
      "[I 2024-12-26 01:29:46,615] Trial 54 finished with value: 0.11806288024320485 and parameters: {'topK': 11, 'shrink': 22.079319477404194, 'feature_weighting': 'TF-IDF', 'normalize': False, 'tversky_alpha': 0.2618662128006597, 'tversky_beta': 1.752904530049172}. Best is trial 38 with value: 0.11866717737298337.\n"
     ]
    },
    {
     "name": "stdout",
     "output_type": "stream",
     "text": [
      "Similarity column 38121 (100.0%), 5188.89 column/sec. Elapsed time 7.35 sec\n",
      "EvaluatorHoldout: Processed 34728 (100.0%) in 8.58 sec. Users per second: 4045\n"
     ]
    },
    {
     "name": "stderr",
     "output_type": "stream",
     "text": [
      "[I 2024-12-26 01:30:02,684] Trial 55 finished with value: 0.1180428101284674 and parameters: {'topK': 8, 'shrink': 24.006330313105725, 'feature_weighting': 'TF-IDF', 'normalize': False, 'tversky_alpha': 0.34566145139088933, 'tversky_beta': 1.7988742861014004}. Best is trial 38 with value: 0.11866717737298337.\n"
     ]
    },
    {
     "name": "stdout",
     "output_type": "stream",
     "text": [
      "Similarity column 38121 (100.0%), 1601.14 column/sec. Elapsed time 23.81 sec\n",
      "EvaluatorHoldout: Processed 34728 (100.0%) in 8.43 sec. Users per second: 4118\n"
     ]
    },
    {
     "name": "stderr",
     "output_type": "stream",
     "text": [
      "[I 2024-12-26 01:30:35,061] Trial 56 finished with value: 0.11714127162143882 and parameters: {'topK': 3, 'shrink': 19.903784662561502, 'feature_weighting': 'TF-IDF', 'normalize': False, 'tversky_alpha': 0.41032432532319074, 'tversky_beta': 1.6312819648008299}. Best is trial 38 with value: 0.11866717737298337.\n"
     ]
    },
    {
     "name": "stdout",
     "output_type": "stream",
     "text": [
      "Similarity column 38121 (100.0%), 5139.26 column/sec. Elapsed time 7.42 sec\n",
      "EvaluatorHoldout: Processed 34728 (100.0%) in 8.58 sec. Users per second: 4049\n"
     ]
    },
    {
     "name": "stderr",
     "output_type": "stream",
     "text": [
      "[I 2024-12-26 01:30:51,191] Trial 57 finished with value: 0.11747512485402464 and parameters: {'topK': 7, 'shrink': 20.98998407087703, 'feature_weighting': 'TF-IDF', 'normalize': False, 'tversky_alpha': 0.4888845159177927, 'tversky_beta': 1.4307123374634592}. Best is trial 38 with value: 0.11866717737298337.\n"
     ]
    },
    {
     "name": "stdout",
     "output_type": "stream",
     "text": [
      "Similarity column 38121 (100.0%), 5164.76 column/sec. Elapsed time 7.38 sec\n",
      "EvaluatorHoldout: Processed 34728 (100.0%) in 8.76 sec. Users per second: 3963\n"
     ]
    },
    {
     "name": "stderr",
     "output_type": "stream",
     "text": [
      "[I 2024-12-26 01:31:07,472] Trial 58 finished with value: 0.11679323687624438 and parameters: {'topK': 13, 'shrink': 16.927329086113136, 'feature_weighting': 'TF-IDF', 'normalize': False, 'tversky_alpha': 0.5340004718505516, 'tversky_beta': 1.8196736463760035}. Best is trial 38 with value: 0.11866717737298337.\n"
     ]
    },
    {
     "name": "stdout",
     "output_type": "stream",
     "text": [
      "Similarity column 38121 (100.0%), 5172.76 column/sec. Elapsed time 7.37 sec\n",
      "EvaluatorHoldout: Processed 34728 (100.0%) in 8.93 sec. Users per second: 3890\n"
     ]
    },
    {
     "name": "stderr",
     "output_type": "stream",
     "text": [
      "[I 2024-12-26 01:31:23,907] Trial 59 finished with value: 0.11410452230011613 and parameters: {'topK': 18, 'shrink': 10.530927454006527, 'feature_weighting': 'TF-IDF', 'normalize': False, 'tversky_alpha': 0.8520618658755446, 'tversky_beta': 1.5567872659801245}. Best is trial 38 with value: 0.11866717737298337.\n"
     ]
    },
    {
     "name": "stdout",
     "output_type": "stream",
     "text": [
      "Similarity column 38121 (100.0%), 5117.48 column/sec. Elapsed time 7.45 sec\n",
      "EvaluatorHoldout: Processed 34728 (100.0%) in 8.52 sec. Users per second: 4076\n"
     ]
    },
    {
     "name": "stderr",
     "output_type": "stream",
     "text": [
      "[I 2024-12-26 01:31:40,011] Trial 60 finished with value: 0.1180420850247491 and parameters: {'topK': 10, 'shrink': 23.045677475497715, 'feature_weighting': 'TF-IDF', 'normalize': False, 'tversky_alpha': 0.2086168757265079, 'tversky_beta': 1.6839335764444132}. Best is trial 38 with value: 0.11866717737298337.\n"
     ]
    },
    {
     "name": "stdout",
     "output_type": "stream",
     "text": [
      "Similarity column 38121 (100.0%), 5153.43 column/sec. Elapsed time 7.40 sec\n",
      "EvaluatorHoldout: Processed 34728 (100.0%) in 8.51 sec. Users per second: 4080\n"
     ]
    },
    {
     "name": "stderr",
     "output_type": "stream",
     "text": [
      "[I 2024-12-26 01:31:56,053] Trial 61 finished with value: 0.11841583461282093 and parameters: {'topK': 5, 'shrink': 20.22295250261637, 'feature_weighting': 'TF-IDF', 'normalize': False, 'tversky_alpha': 0.40372165885300765, 'tversky_beta': 1.5609719705915492}. Best is trial 38 with value: 0.11866717737298337.\n"
     ]
    },
    {
     "name": "stdout",
     "output_type": "stream",
     "text": [
      "Similarity column 38121 (100.0%), 5166.42 column/sec. Elapsed time 7.38 sec\n",
      "EvaluatorHoldout: Processed 34728 (100.0%) in 8.45 sec. Users per second: 4108\n"
     ]
    },
    {
     "name": "stderr",
     "output_type": "stream",
     "text": [
      "[I 2024-12-26 01:32:12,022] Trial 62 finished with value: 0.11835039516694966 and parameters: {'topK': 6, 'shrink': 21.540361954675017, 'feature_weighting': 'TF-IDF', 'normalize': False, 'tversky_alpha': 0.3686678626950016, 'tversky_beta': 1.5259824929968917}. Best is trial 38 with value: 0.11866717737298337.\n"
     ]
    },
    {
     "name": "stdout",
     "output_type": "stream",
     "text": [
      "Similarity column 38121 (100.0%), 5176.28 column/sec. Elapsed time 7.36 sec\n",
      "EvaluatorHoldout: Processed 34728 (100.0%) in 8.43 sec. Users per second: 4122\n"
     ]
    },
    {
     "name": "stderr",
     "output_type": "stream",
     "text": [
      "[I 2024-12-26 01:32:27,949] Trial 63 finished with value: 0.11809993747764845 and parameters: {'topK': 4, 'shrink': 19.76780452376147, 'feature_weighting': 'TF-IDF', 'normalize': False, 'tversky_alpha': 0.3204896186908338, 'tversky_beta': 1.6223189740242445}. Best is trial 38 with value: 0.11866717737298337.\n"
     ]
    },
    {
     "name": "stdout",
     "output_type": "stream",
     "text": [
      "Similarity column 38121 (100.0%), 2262.27 column/sec. Elapsed time 16.85 sec\n",
      "EvaluatorHoldout: Processed 34728 (100.0%) in 8.48 sec. Users per second: 4094\n"
     ]
    },
    {
     "name": "stderr",
     "output_type": "stream",
     "text": [
      "[I 2024-12-26 01:32:53,415] Trial 64 finished with value: 0.11357338583034247 and parameters: {'topK': 2, 'shrink': 17.667209054456123, 'feature_weighting': 'TF-IDF', 'normalize': False, 'tversky_alpha': 0.2624522922737318, 'tversky_beta': 1.7532619803046106}. Best is trial 38 with value: 0.11866717737298337.\n"
     ]
    },
    {
     "name": "stdout",
     "output_type": "stream",
     "text": [
      "Similarity column 38121 (100.0%), 5182.79 column/sec. Elapsed time 7.36 sec\n",
      "EvaluatorHoldout: Processed 34728 (100.0%) in 8.62 sec. Users per second: 4027\n"
     ]
    },
    {
     "name": "stderr",
     "output_type": "stream",
     "text": [
      "[I 2024-12-26 01:33:09,531] Trial 65 finished with value: 0.11796774344783156 and parameters: {'topK': 7, 'shrink': 18.946102207701824, 'feature_weighting': 'TF-IDF', 'normalize': False, 'tversky_alpha': 0.3536602302913221, 'tversky_beta': 1.8352421604375133}. Best is trial 38 with value: 0.11866717737298337.\n"
     ]
    },
    {
     "name": "stdout",
     "output_type": "stream",
     "text": [
      "Similarity column 38121 (100.0%), 5166.21 column/sec. Elapsed time 7.38 sec\n",
      "EvaluatorHoldout: Processed 34728 (100.0%) in 8.66 sec. Users per second: 4012\n"
     ]
    },
    {
     "name": "stderr",
     "output_type": "stream",
     "text": [
      "[I 2024-12-26 01:33:25,679] Trial 66 finished with value: 0.11561673613804875 and parameters: {'topK': 8, 'shrink': 20.750277046431904, 'feature_weighting': 'none', 'normalize': False, 'tversky_alpha': 0.3073319360625724, 'tversky_beta': 0.6405868990164487}. Best is trial 38 with value: 0.11866717737298337.\n"
     ]
    },
    {
     "name": "stdout",
     "output_type": "stream",
     "text": [
      "Similarity column 38121 (100.0%), 5146.35 column/sec. Elapsed time 7.41 sec\n",
      "EvaluatorHoldout: Processed 34728 (100.0%) in 8.41 sec. Users per second: 4129\n"
     ]
    },
    {
     "name": "stderr",
     "output_type": "stream",
     "text": [
      "[I 2024-12-26 01:33:41,634] Trial 67 finished with value: 0.1182293011003139 and parameters: {'topK': 5, 'shrink': 22.425347357135383, 'feature_weighting': 'TF-IDF', 'normalize': False, 'tversky_alpha': 0.4300890922866124, 'tversky_beta': 1.3355877919722787}. Best is trial 38 with value: 0.11866717737298337.\n"
     ]
    },
    {
     "name": "stdout",
     "output_type": "stream",
     "text": [
      "Similarity column 38121 (100.0%), 5145.31 column/sec. Elapsed time 7.41 sec\n",
      "EvaluatorHoldout: Processed 34728 (100.0%) in 8.52 sec. Users per second: 4077\n"
     ]
    },
    {
     "name": "stderr",
     "output_type": "stream",
     "text": [
      "[I 2024-12-26 01:33:57,698] Trial 68 finished with value: 0.11792155000141992 and parameters: {'topK': 9, 'shrink': 18.373920763355738, 'feature_weighting': 'TF-IDF', 'normalize': False, 'tversky_alpha': 0.16583588797821136, 'tversky_beta': 1.4582508587124072}. Best is trial 38 with value: 0.11866717737298337.\n"
     ]
    },
    {
     "name": "stdout",
     "output_type": "stream",
     "text": [
      "Similarity column 38121 (100.0%), 1592.95 column/sec. Elapsed time 23.93 sec\n",
      "EvaluatorHoldout: Processed 34728 (100.0%) in 8.31 sec. Users per second: 4181\n"
     ]
    },
    {
     "name": "stderr",
     "output_type": "stream",
     "text": [
      "[I 2024-12-26 01:34:30,078] Trial 69 finished with value: 0.1168704822601606 and parameters: {'topK': 3, 'shrink': 23.409218381497347, 'feature_weighting': 'TF-IDF', 'normalize': False, 'tversky_alpha': 0.47031198655990036, 'tversky_beta': 1.700073934578058}. Best is trial 38 with value: 0.11866717737298337.\n"
     ]
    },
    {
     "name": "stdout",
     "output_type": "stream",
     "text": [
      "Similarity column 38121 (100.0%), 5138.80 column/sec. Elapsed time 7.42 sec\n",
      "EvaluatorHoldout: Processed 34728 (100.0%) in 9.20 sec. Users per second: 3775\n"
     ]
    },
    {
     "name": "stderr",
     "output_type": "stream",
     "text": [
      "[I 2024-12-26 01:34:46,842] Trial 70 finished with value: 0.10666433820102182 and parameters: {'topK': 30, 'shrink': 24.390032578435502, 'feature_weighting': 'BM25', 'normalize': False, 'tversky_alpha': 0.262550606708451, 'tversky_beta': 1.5137747374137913}. Best is trial 38 with value: 0.11866717737298337.\n"
     ]
    },
    {
     "name": "stdout",
     "output_type": "stream",
     "text": [
      "Similarity column 38121 (100.0%), 5188.53 column/sec. Elapsed time 7.35 sec\n",
      "EvaluatorHoldout: Processed 34728 (100.0%) in 8.54 sec. Users per second: 4067\n"
     ]
    },
    {
     "name": "stderr",
     "output_type": "stream",
     "text": [
      "[I 2024-12-26 01:35:02,864] Trial 71 finished with value: 0.11830414267563842 and parameters: {'topK': 6, 'shrink': 19.527541794488137, 'feature_weighting': 'TF-IDF', 'normalize': False, 'tversky_alpha': 0.28971806210305673, 'tversky_beta': 1.6038844105474892}. Best is trial 38 with value: 0.11866717737298337.\n"
     ]
    },
    {
     "name": "stdout",
     "output_type": "stream",
     "text": [
      "Similarity column 38121 (100.0%), 5125.44 column/sec. Elapsed time 7.44 sec\n",
      "EvaluatorHoldout: Processed 34728 (100.0%) in 8.46 sec. Users per second: 4105\n"
     ]
    },
    {
     "name": "stderr",
     "output_type": "stream",
     "text": [
      "[I 2024-12-26 01:35:18,899] Trial 72 finished with value: 0.1182927943619261 and parameters: {'topK': 6, 'shrink': 21.37992364273691, 'feature_weighting': 'TF-IDF', 'normalize': False, 'tversky_alpha': 0.37703738598756087, 'tversky_beta': 1.4852712456668233}. Best is trial 38 with value: 0.11866717737298337.\n"
     ]
    },
    {
     "name": "stdout",
     "output_type": "stream",
     "text": [
      "Similarity column 38121 (100.0%), 1595.15 column/sec. Elapsed time 23.90 sec\n",
      "EvaluatorHoldout: Processed 34728 (100.0%) in 8.46 sec. Users per second: 4105\n"
     ]
    },
    {
     "name": "stderr",
     "output_type": "stream",
     "text": [
      "[I 2024-12-26 01:35:51,394] Trial 73 finished with value: 0.117252395546575 and parameters: {'topK': 3, 'shrink': 20.408996305359654, 'feature_weighting': 'TF-IDF', 'normalize': False, 'tversky_alpha': 0.3090934087631897, 'tversky_beta': 1.6705583085990396}. Best is trial 38 with value: 0.11866717737298337.\n"
     ]
    },
    {
     "name": "stdout",
     "output_type": "stream",
     "text": [
      "Similarity column 38121 (100.0%), 5191.44 column/sec. Elapsed time 7.34 sec\n",
      "EvaluatorHoldout: Processed 34728 (100.0%) in 8.44 sec. Users per second: 4115\n"
     ]
    },
    {
     "name": "stderr",
     "output_type": "stream",
     "text": [
      "[I 2024-12-26 01:36:07,312] Trial 74 finished with value: 0.11869598801026732 and parameters: {'topK': 4, 'shrink': 22.666612780372112, 'feature_weighting': 'TF-IDF', 'normalize': False, 'tversky_alpha': 0.18635646587934276, 'tversky_beta': 1.42813393651823}. Best is trial 74 with value: 0.11869598801026732.\n"
     ]
    },
    {
     "name": "stdout",
     "output_type": "stream",
     "text": [
      "Similarity column 38121 (100.0%), 5173.48 column/sec. Elapsed time 7.37 sec\n",
      "EvaluatorHoldout: Processed 34728 (100.0%) in 8.55 sec. Users per second: 4063\n"
     ]
    },
    {
     "name": "stderr",
     "output_type": "stream",
     "text": [
      "[I 2024-12-26 01:36:23,364] Trial 75 finished with value: 0.11767224300142992 and parameters: {'topK': 10, 'shrink': 22.759873031810233, 'feature_weighting': 'TF-IDF', 'normalize': False, 'tversky_alpha': 0.18749268867153498, 'tversky_beta': 1.3806797321124087}. Best is trial 74 with value: 0.11869598801026732.\n"
     ]
    },
    {
     "name": "stdout",
     "output_type": "stream",
     "text": [
      "Similarity column 38121 (100.0%), 5142.17 column/sec. Elapsed time 7.41 sec\n",
      "EvaluatorHoldout: Processed 34728 (100.0%) in 9.32 sec. Users per second: 3727\n"
     ]
    },
    {
     "name": "stderr",
     "output_type": "stream",
     "text": [
      "[I 2024-12-26 01:36:40,218] Trial 76 finished with value: 0.11113252122204735 and parameters: {'topK': 36, 'shrink': 21.975094628155137, 'feature_weighting': 'none', 'normalize': False, 'tversky_alpha': 0.12631649167351344, 'tversky_beta': 0.9628399649597101}. Best is trial 74 with value: 0.11869598801026732.\n"
     ]
    },
    {
     "name": "stdout",
     "output_type": "stream",
     "text": [
      "Similarity column 38121 (100.0%), 5166.40 column/sec. Elapsed time 7.38 sec\n",
      "EvaluatorHoldout: Processed 34728 (100.0%) in 8.41 sec. Users per second: 4132\n"
     ]
    },
    {
     "name": "stderr",
     "output_type": "stream",
     "text": [
      "[I 2024-12-26 01:36:56,136] Trial 77 finished with value: 0.1181136632216895 and parameters: {'topK': 4, 'shrink': 23.96577274757726, 'feature_weighting': 'TF-IDF', 'normalize': False, 'tversky_alpha': 0.2312386784812975, 'tversky_beta': 1.235298211572962}. Best is trial 74 with value: 0.11869598801026732.\n"
     ]
    },
    {
     "name": "stdout",
     "output_type": "stream",
     "text": [
      "Similarity column 38121 (100.0%), 5170.75 column/sec. Elapsed time 7.37 sec\n",
      "EvaluatorHoldout: Processed 34728 (100.0%) in 8.56 sec. Users per second: 4055\n"
     ]
    },
    {
     "name": "stderr",
     "output_type": "stream",
     "text": [
      "[I 2024-12-26 01:37:12,208] Trial 78 finished with value: 0.11774143884943973 and parameters: {'topK': 8, 'shrink': 14.810674830930102, 'feature_weighting': 'TF-IDF', 'normalize': False, 'tversky_alpha': 0.17841390990085296, 'tversky_beta': 1.335028972770668}. Best is trial 74 with value: 0.11869598801026732.\n"
     ]
    },
    {
     "name": "stdout",
     "output_type": "stream",
     "text": [
      "Similarity column 38121 (100.0%), 5164.33 column/sec. Elapsed time 7.38 sec\n",
      "EvaluatorHoldout: Processed 34728 (100.0%) in 8.69 sec. Users per second: 3998\n"
     ]
    },
    {
     "name": "stderr",
     "output_type": "stream",
     "text": [
      "[I 2024-12-26 01:37:28,417] Trial 79 finished with value: 0.11701189003809642 and parameters: {'topK': 12, 'shrink': 21.444156397461423, 'feature_weighting': 'TF-IDF', 'normalize': False, 'tversky_alpha': 0.2141122564980636, 'tversky_beta': 1.0801311476304603}. Best is trial 74 with value: 0.11869598801026732.\n"
     ]
    },
    {
     "name": "stdout",
     "output_type": "stream",
     "text": [
      "Similarity column 38121 (100.0%), 5153.44 column/sec. Elapsed time 7.40 sec\n",
      "EvaluatorHoldout: Processed 34728 (100.0%) in 8.47 sec. Users per second: 4098\n"
     ]
    },
    {
     "name": "stderr",
     "output_type": "stream",
     "text": [
      "[I 2024-12-26 01:37:44,423] Trial 80 finished with value: 0.11759201014182023 and parameters: {'topK': 5, 'shrink': 6.799339591715212, 'feature_weighting': 'TF-IDF', 'normalize': False, 'tversky_alpha': 0.3350322412824653, 'tversky_beta': 1.4413535446675603}. Best is trial 74 with value: 0.11869598801026732.\n"
     ]
    },
    {
     "name": "stdout",
     "output_type": "stream",
     "text": [
      "Similarity column 38121 (100.0%), 5142.06 column/sec. Elapsed time 7.41 sec\n",
      "EvaluatorHoldout: Processed 34728 (100.0%) in 9.56 sec. Users per second: 3632\n"
     ]
    },
    {
     "name": "stderr",
     "output_type": "stream",
     "text": [
      "[I 2024-12-26 01:38:01,549] Trial 81 finished with value: 0.11123050232439922 and parameters: {'topK': 50, 'shrink': 19.115178348062766, 'feature_weighting': 'TF-IDF', 'normalize': False, 'tversky_alpha': 0.23849053112627527, 'tversky_beta': 1.5046064237523373}. Best is trial 74 with value: 0.11869598801026732.\n"
     ]
    },
    {
     "name": "stdout",
     "output_type": "stream",
     "text": [
      "Similarity column 38121 (100.0%), 2257.30 column/sec. Elapsed time 16.89 sec\n",
      "EvaluatorHoldout: Processed 34728 (100.0%) in 8.27 sec. Users per second: 4197\n"
     ]
    },
    {
     "name": "stderr",
     "output_type": "stream",
     "text": [
      "[I 2024-12-26 01:38:26,848] Trial 82 finished with value: 0.11466590776386171 and parameters: {'topK': 2, 'shrink': 20.52275098759658, 'feature_weighting': 'TF-IDF', 'normalize': False, 'tversky_alpha': 0.28221788245836493, 'tversky_beta': 1.5696140388750879}. Best is trial 74 with value: 0.11869598801026732.\n"
     ]
    },
    {
     "name": "stdout",
     "output_type": "stream",
     "text": [
      "Similarity column 38121 (100.0%), 5104.31 column/sec. Elapsed time 7.47 sec\n",
      "EvaluatorHoldout: Processed 34728 (100.0%) in 8.51 sec. Users per second: 4083\n"
     ]
    },
    {
     "name": "stderr",
     "output_type": "stream",
     "text": [
      "[I 2024-12-26 01:38:42,958] Trial 83 finished with value: 0.1183081261513318 and parameters: {'topK': 6, 'shrink': 22.62241957666351, 'feature_weighting': 'TF-IDF', 'normalize': False, 'tversky_alpha': 0.2556106998493518, 'tversky_beta': 1.7700039502794618}. Best is trial 74 with value: 0.11869598801026732.\n"
     ]
    },
    {
     "name": "stdout",
     "output_type": "stream",
     "text": [
      "Similarity column 38121 (100.0%), 5161.39 column/sec. Elapsed time 7.39 sec\n",
      "EvaluatorHoldout: Processed 34728 (100.0%) in 8.39 sec. Users per second: 4140\n"
     ]
    },
    {
     "name": "stderr",
     "output_type": "stream",
     "text": [
      "[I 2024-12-26 01:38:58,869] Trial 84 finished with value: 0.11845012233310588 and parameters: {'topK': 4, 'shrink': 23.280269857512913, 'feature_weighting': 'TF-IDF', 'normalize': False, 'tversky_alpha': 0.2950956012103457, 'tversky_beta': 1.637167634167298}. Best is trial 74 with value: 0.11869598801026732.\n"
     ]
    },
    {
     "name": "stdout",
     "output_type": "stream",
     "text": [
      "Similarity column 38121 (100.0%), 5142.29 column/sec. Elapsed time 7.41 sec\n",
      "EvaluatorHoldout: Processed 34728 (100.0%) in 8.46 sec. Users per second: 4106\n"
     ]
    },
    {
     "name": "stderr",
     "output_type": "stream",
     "text": [
      "[I 2024-12-26 01:39:14,874] Trial 85 finished with value: 0.11796992933071465 and parameters: {'topK': 4, 'shrink': 23.476820260210683, 'feature_weighting': 'TF-IDF', 'normalize': False, 'tversky_alpha': 0.3990787077077941, 'tversky_beta': 1.7160824096152567}. Best is trial 74 with value: 0.11869598801026732.\n"
     ]
    },
    {
     "name": "stdout",
     "output_type": "stream",
     "text": [
      "Similarity column 38121 (100.0%), 1600.28 column/sec. Elapsed time 23.82 sec\n",
      "EvaluatorHoldout: Processed 34728 (100.0%) in 8.45 sec. Users per second: 4111\n"
     ]
    },
    {
     "name": "stderr",
     "output_type": "stream",
     "text": [
      "[I 2024-12-26 01:39:47,284] Trial 86 finished with value: 0.10747174256757264 and parameters: {'topK': 3, 'shrink': 24.747732651384418, 'feature_weighting': 'BM25', 'normalize': False, 'tversky_alpha': 0.359965165984252, 'tversky_beta': 1.6374571439545378}. Best is trial 74 with value: 0.11869598801026732.\n"
     ]
    },
    {
     "name": "stdout",
     "output_type": "stream",
     "text": [
      "Similarity column 38121 (100.0%), 5178.03 column/sec. Elapsed time 7.36 sec\n",
      "EvaluatorHoldout: Processed 34728 (100.0%) in 8.60 sec. Users per second: 4039\n"
     ]
    },
    {
     "name": "stderr",
     "output_type": "stream",
     "text": [
      "[I 2024-12-26 01:40:03,385] Trial 87 finished with value: 0.11740856740287478 and parameters: {'topK': 8, 'shrink': 22.113200776023753, 'feature_weighting': 'TF-IDF', 'normalize': False, 'tversky_alpha': 0.6133551464368605, 'tversky_beta': 1.8348078822360974}. Best is trial 74 with value: 0.11869598801026732.\n"
     ]
    },
    {
     "name": "stdout",
     "output_type": "stream",
     "text": [
      "Similarity column 38121 (100.0%), 5177.44 column/sec. Elapsed time 7.36 sec\n",
      "EvaluatorHoldout: Processed 34728 (100.0%) in 8.53 sec. Users per second: 4069\n"
     ]
    },
    {
     "name": "stderr",
     "output_type": "stream",
     "text": [
      "[I 2024-12-26 01:40:19,418] Trial 88 finished with value: 0.11838701776061017 and parameters: {'topK': 7, 'shrink': 23.022515945816593, 'feature_weighting': 'TF-IDF', 'normalize': False, 'tversky_alpha': 0.3309382943495541, 'tversky_beta': 1.6107156728080987}. Best is trial 74 with value: 0.11869598801026732.\n"
     ]
    },
    {
     "name": "stdout",
     "output_type": "stream",
     "text": [
      "Similarity column 38121 (100.0%), 5202.23 column/sec. Elapsed time 7.33 sec\n",
      "EvaluatorHoldout: Processed 34728 (100.0%) in 8.55 sec. Users per second: 4064\n"
     ]
    },
    {
     "name": "stderr",
     "output_type": "stream",
     "text": [
      "[I 2024-12-26 01:40:35,424] Trial 89 finished with value: 0.1107799916377181 and parameters: {'topK': 5, 'shrink': 21.062813825180054, 'feature_weighting': 'TF-IDF', 'normalize': False, 'tversky_alpha': 0.42815381164822636, 'tversky_beta': 0.30645055964702694}. Best is trial 74 with value: 0.11869598801026732.\n"
     ]
    },
    {
     "name": "stdout",
     "output_type": "stream",
     "text": [
      "Similarity column 38121 (100.0%), 5191.63 column/sec. Elapsed time 7.34 sec\n",
      "EvaluatorHoldout: Processed 34728 (100.0%) in 8.63 sec. Users per second: 4024\n"
     ]
    },
    {
     "name": "stderr",
     "output_type": "stream",
     "text": [
      "[I 2024-12-26 01:40:51,512] Trial 90 finished with value: 0.11764026696764915 and parameters: {'topK': 10, 'shrink': 12.368201755946185, 'feature_weighting': 'none', 'normalize': True, 'tversky_alpha': 0.2727002624558262, 'tversky_beta': 1.4294786985484031}. Best is trial 74 with value: 0.11869598801026732.\n"
     ]
    },
    {
     "name": "stdout",
     "output_type": "stream",
     "text": [
      "Similarity column 38121 (100.0%), 2255.20 column/sec. Elapsed time 16.90 sec\n",
      "EvaluatorHoldout: Processed 34728 (100.0%) in 8.26 sec. Users per second: 4203\n"
     ]
    },
    {
     "name": "stderr",
     "output_type": "stream",
     "text": [
      "[I 2024-12-26 01:41:16,817] Trial 91 finished with value: 0.11452421559968698 and parameters: {'topK': 2, 'shrink': 19.817236186773748, 'feature_weighting': 'TF-IDF', 'normalize': False, 'tversky_alpha': 0.29648735744896326, 'tversky_beta': 1.536372529256744}. Best is trial 74 with value: 0.11869598801026732.\n"
     ]
    },
    {
     "name": "stdout",
     "output_type": "stream",
     "text": [
      "Similarity column 38121 (100.0%), 5102.41 column/sec. Elapsed time 7.47 sec\n",
      "EvaluatorHoldout: Processed 34728 (100.0%) in 8.39 sec. Users per second: 4139\n"
     ]
    },
    {
     "name": "stderr",
     "output_type": "stream",
     "text": [
      "[I 2024-12-26 01:41:32,819] Trial 92 finished with value: 0.11802169082192246 and parameters: {'topK': 4, 'shrink': 21.98866010708797, 'feature_weighting': 'TF-IDF', 'normalize': False, 'tversky_alpha': 0.12650069967628913, 'tversky_beta': 1.6756771480225328}. Best is trial 74 with value: 0.11869598801026732.\n"
     ]
    },
    {
     "name": "stdout",
     "output_type": "stream",
     "text": [
      "Similarity column 38121 (100.0%), 5168.30 column/sec. Elapsed time 7.38 sec\n",
      "EvaluatorHoldout: Processed 34728 (100.0%) in 8.49 sec. Users per second: 4091\n"
     ]
    },
    {
     "name": "stderr",
     "output_type": "stream",
     "text": [
      "[I 2024-12-26 01:41:48,818] Trial 93 finished with value: 0.11845994252546622 and parameters: {'topK': 6, 'shrink': 18.504006385499977, 'feature_weighting': 'TF-IDF', 'normalize': False, 'tversky_alpha': 0.21939217096350783, 'tversky_beta': 1.7272714873630575}. Best is trial 74 with value: 0.11869598801026732.\n"
     ]
    },
    {
     "name": "stdout",
     "output_type": "stream",
     "text": [
      "Similarity column 38121 (100.0%), 5168.02 column/sec. Elapsed time 7.38 sec\n",
      "EvaluatorHoldout: Processed 34728 (100.0%) in 8.61 sec. Users per second: 4035\n"
     ]
    },
    {
     "name": "stderr",
     "output_type": "stream",
     "text": [
      "[I 2024-12-26 01:42:04,940] Trial 94 finished with value: 0.11802449477931366 and parameters: {'topK': 9, 'shrink': 18.464771758036918, 'feature_weighting': 'TF-IDF', 'normalize': False, 'tversky_alpha': 0.20778644667942137, 'tversky_beta': 1.7863777933957958}. Best is trial 74 with value: 0.11869598801026732.\n"
     ]
    },
    {
     "name": "stdout",
     "output_type": "stream",
     "text": [
      "Similarity column 38121 (100.0%), 5178.83 column/sec. Elapsed time 7.36 sec\n",
      "EvaluatorHoldout: Processed 34728 (100.0%) in 8.95 sec. Users per second: 3882\n"
     ]
    },
    {
     "name": "stderr",
     "output_type": "stream",
     "text": [
      "[I 2024-12-26 01:42:21,386] Trial 95 finished with value: 0.11565644679890144 and parameters: {'topK': 22, 'shrink': 24.38411015623459, 'feature_weighting': 'TF-IDF', 'normalize': False, 'tversky_alpha': 0.21948192511157955, 'tversky_beta': 1.8490400803019456}. Best is trial 74 with value: 0.11869598801026732.\n"
     ]
    },
    {
     "name": "stdout",
     "output_type": "stream",
     "text": [
      "Similarity column 38121 (100.0%), 5182.50 column/sec. Elapsed time 7.36 sec\n",
      "EvaluatorHoldout: Processed 34728 (100.0%) in 8.51 sec. Users per second: 4082\n"
     ]
    },
    {
     "name": "stderr",
     "output_type": "stream",
     "text": [
      "[I 2024-12-26 01:42:37,385] Trial 96 finished with value: 0.11855115150555026 and parameters: {'topK': 6, 'shrink': 21.589349496863413, 'feature_weighting': 'TF-IDF', 'normalize': False, 'tversky_alpha': 0.16725184866550824, 'tversky_beta': 1.722012798691049}. Best is trial 74 with value: 0.11869598801026732.\n"
     ]
    },
    {
     "name": "stdout",
     "output_type": "stream",
     "text": [
      "Similarity column 38121 (100.0%), 5178.62 column/sec. Elapsed time 7.36 sec\n",
      "EvaluatorHoldout: Processed 34728 (100.0%) in 8.50 sec. Users per second: 4087\n"
     ]
    },
    {
     "name": "stderr",
     "output_type": "stream",
     "text": [
      "[I 2024-12-26 01:42:53,380] Trial 97 finished with value: 0.11861399290484703 and parameters: {'topK': 6, 'shrink': 20.800028847987832, 'feature_weighting': 'TF-IDF', 'normalize': False, 'tversky_alpha': 0.15345131998046505, 'tversky_beta': 1.7409249403558222}. Best is trial 74 with value: 0.11869598801026732.\n"
     ]
    },
    {
     "name": "stdout",
     "output_type": "stream",
     "text": [
      "Similarity column 38121 (100.0%), 5178.19 column/sec. Elapsed time 7.36 sec\n",
      "EvaluatorHoldout: Processed 34728 (100.0%) in 8.59 sec. Users per second: 4043\n"
     ]
    },
    {
     "name": "stderr",
     "output_type": "stream",
     "text": [
      "[I 2024-12-26 01:43:09,469] Trial 98 finished with value: 0.11809512700052761 and parameters: {'topK': 7, 'shrink': 21.567826260733504, 'feature_weighting': 'TF-IDF', 'normalize': False, 'tversky_alpha': 0.17354890222689354, 'tversky_beta': 1.722003900246022}. Best is trial 74 with value: 0.11869598801026732.\n"
     ]
    },
    {
     "name": "stdout",
     "output_type": "stream",
     "text": [
      "Similarity column 38121 (100.0%), 5164.46 column/sec. Elapsed time 7.38 sec\n",
      "EvaluatorHoldout: Processed 34728 (100.0%) in 8.98 sec. Users per second: 3869\n"
     ]
    },
    {
     "name": "stderr",
     "output_type": "stream",
     "text": [
      "[I 2024-12-26 01:43:25,967] Trial 99 finished with value: 0.11501250798416089 and parameters: {'topK': 26, 'shrink': 20.63365850236205, 'feature_weighting': 'TF-IDF', 'normalize': False, 'tversky_alpha': 0.15452063561687962, 'tversky_beta': 1.8700021716605217}. Best is trial 74 with value: 0.11869598801026732.\n"
     ]
    },
    {
     "name": "stdout",
     "output_type": "stream",
     "text": [
      "Similarity column 38121 (100.0%), 5172.14 column/sec. Elapsed time 7.37 sec\n",
      "EvaluatorHoldout: Processed 34728 (100.0%) in 8.50 sec. Users per second: 4084\n"
     ]
    },
    {
     "name": "stderr",
     "output_type": "stream",
     "text": [
      "[I 2024-12-26 01:43:41,977] Trial 100 finished with value: 0.11768884626149728 and parameters: {'topK': 11, 'shrink': 22.56337193696073, 'feature_weighting': 'TF-IDF', 'normalize': False, 'tversky_alpha': 0.13823805386014745, 'tversky_beta': 1.7697387093046086}. Best is trial 74 with value: 0.11869598801026732.\n"
     ]
    },
    {
     "name": "stdout",
     "output_type": "stream",
     "text": [
      "Similarity column 38121 (100.0%), 5177.86 column/sec. Elapsed time 7.36 sec\n",
      "EvaluatorHoldout: Processed 34728 (100.0%) in 8.46 sec. Users per second: 4107\n"
     ]
    },
    {
     "name": "stderr",
     "output_type": "stream",
     "text": [
      "[I 2024-12-26 01:43:57,933] Trial 101 finished with value: 0.11847018124320476 and parameters: {'topK': 5, 'shrink': 20.07905900203987, 'feature_weighting': 'TF-IDF', 'normalize': False, 'tversky_alpha': 0.19221547208950499, 'tversky_beta': 1.7342025290675498}. Best is trial 74 with value: 0.11869598801026732.\n"
     ]
    },
    {
     "name": "stdout",
     "output_type": "stream",
     "text": [
      "Similarity column 38121 (100.0%), 5164.48 column/sec. Elapsed time 7.38 sec\n",
      "EvaluatorHoldout: Processed 34728 (100.0%) in 8.53 sec. Users per second: 4073\n"
     ]
    },
    {
     "name": "stderr",
     "output_type": "stream",
     "text": [
      "[I 2024-12-26 01:44:13,974] Trial 102 finished with value: 0.1182395180032825 and parameters: {'topK': 6, 'shrink': 21.079349336815124, 'feature_weighting': 'TF-IDF', 'normalize': False, 'tversky_alpha': 0.1962469236243487, 'tversky_beta': 1.7331553463851481}. Best is trial 74 with value: 0.11869598801026732.\n"
     ]
    },
    {
     "name": "stdout",
     "output_type": "stream",
     "text": [
      "Similarity column 38121 (100.0%), 1600.85 column/sec. Elapsed time 23.81 sec\n",
      "EvaluatorHoldout: Processed 34728 (100.0%) in 8.40 sec. Users per second: 4134\n"
     ]
    },
    {
     "name": "stderr",
     "output_type": "stream",
     "text": [
      "[I 2024-12-26 01:44:46,324] Trial 103 finished with value: 0.11703973997213322 and parameters: {'topK': 3, 'shrink': 19.437864143585244, 'feature_weighting': 'TF-IDF', 'normalize': False, 'tversky_alpha': 0.16388131930427075, 'tversky_beta': 1.6611464097422095}. Best is trial 74 with value: 0.11869598801026732.\n"
     ]
    },
    {
     "name": "stdout",
     "output_type": "stream",
     "text": [
      "Similarity column 38121 (100.0%), 5172.25 column/sec. Elapsed time 7.37 sec\n",
      "EvaluatorHoldout: Processed 34728 (100.0%) in 8.42 sec. Users per second: 4124\n"
     ]
    },
    {
     "name": "stderr",
     "output_type": "stream",
     "text": [
      "[I 2024-12-26 01:45:02,259] Trial 104 finished with value: 0.11794771980059734 and parameters: {'topK': 8, 'shrink': 17.976758748548566, 'feature_weighting': 'TF-IDF', 'normalize': False, 'tversky_alpha': 0.11940348264888204, 'tversky_beta': 1.8083652021954437}. Best is trial 74 with value: 0.11869598801026732.\n"
     ]
    },
    {
     "name": "stdout",
     "output_type": "stream",
     "text": [
      "Similarity column 38121 (100.0%), 5115.66 column/sec. Elapsed time 7.45 sec\n",
      "EvaluatorHoldout: Processed 34728 (100.0%) in 8.40 sec. Users per second: 4134\n"
     ]
    },
    {
     "name": "stderr",
     "output_type": "stream",
     "text": [
      "[I 2024-12-26 01:45:18,267] Trial 105 finished with value: 0.10745857689383069 and parameters: {'topK': 6, 'shrink': 21.660787028330528, 'feature_weighting': 'BM25', 'normalize': False, 'tversky_alpha': 0.2515727664640923, 'tversky_beta': 1.7517356040978453}. Best is trial 74 with value: 0.11869598801026732.\n"
     ]
    },
    {
     "name": "stdout",
     "output_type": "stream",
     "text": [
      "Similarity column 38121 (100.0%), 1591.88 column/sec. Elapsed time 23.95 sec\n",
      "EvaluatorHoldout: Processed 34728 (100.0%) in 8.42 sec. Users per second: 4122\n"
     ]
    },
    {
     "name": "stderr",
     "output_type": "stream",
     "text": [
      "[I 2024-12-26 01:45:50,778] Trial 106 finished with value: 0.11705056400494268 and parameters: {'topK': 3, 'shrink': 18.81020691905478, 'feature_weighting': 'TF-IDF', 'normalize': False, 'tversky_alpha': 0.18858865535951969, 'tversky_beta': 1.5860526900970708}. Best is trial 74 with value: 0.11869598801026732.\n"
     ]
    },
    {
     "name": "stdout",
     "output_type": "stream",
     "text": [
      "Similarity column 38121 (100.0%), 5185.13 column/sec. Elapsed time 7.35 sec\n",
      "EvaluatorHoldout: Processed 34728 (100.0%) in 8.58 sec. Users per second: 4047\n"
     ]
    },
    {
     "name": "stderr",
     "output_type": "stream",
     "text": [
      "[I 2024-12-26 01:46:06,847] Trial 107 finished with value: 0.1173742547252059 and parameters: {'topK': 7, 'shrink': 20.046780521916343, 'feature_weighting': 'TF-IDF', 'normalize': True, 'tversky_alpha': 0.10098635031797419, 'tversky_beta': 0.8254685036772951}. Best is trial 74 with value: 0.11869598801026732.\n"
     ]
    },
    {
     "name": "stdout",
     "output_type": "stream",
     "text": [
      "Similarity column 38121 (100.0%), 5185.78 column/sec. Elapsed time 7.35 sec\n",
      "EvaluatorHoldout: Processed 34728 (100.0%) in 8.50 sec. Users per second: 4087\n"
     ]
    },
    {
     "name": "stderr",
     "output_type": "stream",
     "text": [
      "[I 2024-12-26 01:46:22,834] Trial 108 finished with value: 0.11833289034222673 and parameters: {'topK': 5, 'shrink': 20.9442558541994, 'feature_weighting': 'TF-IDF', 'normalize': False, 'tversky_alpha': 0.22046146132879296, 'tversky_beta': 1.6962695120997546}. Best is trial 74 with value: 0.11869598801026732.\n"
     ]
    },
    {
     "name": "stdout",
     "output_type": "stream",
     "text": [
      "Similarity column 38121 (100.0%), 5179.72 column/sec. Elapsed time 7.36 sec\n",
      "EvaluatorHoldout: Processed 34728 (100.0%) in 8.66 sec. Users per second: 4011\n"
     ]
    },
    {
     "name": "stderr",
     "output_type": "stream",
     "text": [
      "[I 2024-12-26 01:46:38,988] Trial 109 finished with value: 0.11804944413411303 and parameters: {'topK': 9, 'shrink': 22.21888606187998, 'feature_weighting': 'TF-IDF', 'normalize': False, 'tversky_alpha': 0.24132981110910837, 'tversky_beta': 1.7935660143059524}. Best is trial 74 with value: 0.11869598801026732.\n"
     ]
    },
    {
     "name": "stdout",
     "output_type": "stream",
     "text": [
      "Similarity column 38121 (100.0%), 2250.32 column/sec. Elapsed time 16.94 sec\n",
      "EvaluatorHoldout: Processed 34728 (100.0%) in 8.32 sec. Users per second: 4173\n"
     ]
    },
    {
     "name": "stderr",
     "output_type": "stream",
     "text": [
      "[I 2024-12-26 01:47:04,368] Trial 110 finished with value: 0.11453619639929105 and parameters: {'topK': 2, 'shrink': 20.51115381589307, 'feature_weighting': 'none', 'normalize': False, 'tversky_alpha': 0.7404084045486222, 'tversky_beta': 1.8689009602737805}. Best is trial 74 with value: 0.11869598801026732.\n"
     ]
    },
    {
     "name": "stdout",
     "output_type": "stream",
     "text": [
      "Similarity column 38121 (100.0%), 5187.27 column/sec. Elapsed time 7.35 sec\n",
      "EvaluatorHoldout: Processed 34728 (100.0%) in 8.45 sec. Users per second: 4108\n"
     ]
    },
    {
     "name": "stderr",
     "output_type": "stream",
     "text": [
      "[I 2024-12-26 01:47:20,306] Trial 111 finished with value: 0.1185097865590035 and parameters: {'topK': 5, 'shrink': 19.463869310047333, 'feature_weighting': 'TF-IDF', 'normalize': False, 'tversky_alpha': 0.14117328421752479, 'tversky_beta': 1.6057627272979262}. Best is trial 74 with value: 0.11869598801026732.\n"
     ]
    },
    {
     "name": "stdout",
     "output_type": "stream",
     "text": [
      "Similarity column 38121 (100.0%), 5179.51 column/sec. Elapsed time 7.36 sec\n",
      "EvaluatorHoldout: Processed 34728 (100.0%) in 8.48 sec. Users per second: 4096\n"
     ]
    },
    {
     "name": "stderr",
     "output_type": "stream",
     "text": [
      "[I 2024-12-26 01:47:36,283] Trial 112 finished with value: 0.11799441999268771 and parameters: {'topK': 6, 'shrink': 16.91589259376625, 'feature_weighting': 'TF-IDF', 'normalize': False, 'tversky_alpha': 0.13189853435934248, 'tversky_beta': 1.608864045939372}. Best is trial 74 with value: 0.11869598801026732.\n"
     ]
    },
    {
     "name": "stdout",
     "output_type": "stream",
     "text": [
      "Similarity column 38121 (100.0%), 5185.05 column/sec. Elapsed time 7.35 sec\n",
      "EvaluatorHoldout: Processed 34728 (100.0%) in 8.41 sec. Users per second: 4132\n"
     ]
    },
    {
     "name": "stderr",
     "output_type": "stream",
     "text": [
      "[I 2024-12-26 01:47:52,178] Trial 113 finished with value: 0.11821998824542823 and parameters: {'topK': 4, 'shrink': 19.658525201680433, 'feature_weighting': 'TF-IDF', 'normalize': False, 'tversky_alpha': 0.16092755594404756, 'tversky_beta': 1.671489463579777}. Best is trial 74 with value: 0.11869598801026732.\n"
     ]
    },
    {
     "name": "stdout",
     "output_type": "stream",
     "text": [
      "Similarity column 38121 (100.0%), 5173.50 column/sec. Elapsed time 7.37 sec\n",
      "EvaluatorHoldout: Processed 34728 (100.0%) in 8.47 sec. Users per second: 4102\n"
     ]
    },
    {
     "name": "stderr",
     "output_type": "stream",
     "text": [
      "[I 2024-12-26 01:48:08,148] Trial 114 finished with value: 0.11810554994165526 and parameters: {'topK': 8, 'shrink': 20.102241198455545, 'feature_weighting': 'TF-IDF', 'normalize': False, 'tversky_alpha': 0.14903753373649797, 'tversky_beta': 1.734019035497313}. Best is trial 74 with value: 0.11869598801026732.\n"
     ]
    },
    {
     "name": "stdout",
     "output_type": "stream",
     "text": [
      "Similarity column 38121 (100.0%), 5188.27 column/sec. Elapsed time 7.35 sec\n",
      "EvaluatorHoldout: Processed 34728 (100.0%) in 8.45 sec. Users per second: 4108\n"
     ]
    },
    {
     "name": "stderr",
     "output_type": "stream",
     "text": [
      "[I 2024-12-26 01:48:24,085] Trial 115 finished with value: 0.11832674360796969 and parameters: {'topK': 5, 'shrink': 21.334930851568533, 'feature_weighting': 'TF-IDF', 'normalize': False, 'tversky_alpha': 0.18433003549658292, 'tversky_beta': 1.5642691237393387}. Best is trial 74 with value: 0.11869598801026732.\n"
     ]
    },
    {
     "name": "stdout",
     "output_type": "stream",
     "text": [
      "Similarity column 38121 (100.0%), 1604.70 column/sec. Elapsed time 23.76 sec\n",
      "EvaluatorHoldout: Processed 34728 (100.0%) in 8.38 sec. Users per second: 4143\n"
     ]
    },
    {
     "name": "stderr",
     "output_type": "stream",
     "text": [
      "[I 2024-12-26 01:48:56,361] Trial 116 finished with value: 0.11730823481856517 and parameters: {'topK': 3, 'shrink': 19.30406522553364, 'feature_weighting': 'TF-IDF', 'normalize': False, 'tversky_alpha': 0.27336246783489593, 'tversky_beta': 1.6436418835262754}. Best is trial 74 with value: 0.11869598801026732.\n"
     ]
    },
    {
     "name": "stdout",
     "output_type": "stream",
     "text": [
      "Similarity column 38121 (100.0%), 5122.01 column/sec. Elapsed time 7.44 sec\n",
      "EvaluatorHoldout: Processed 34728 (100.0%) in 8.45 sec. Users per second: 4111\n"
     ]
    },
    {
     "name": "stderr",
     "output_type": "stream",
     "text": [
      "[I 2024-12-26 01:49:12,388] Trial 117 finished with value: 0.11814887003597678 and parameters: {'topK': 6, 'shrink': 17.45656950390389, 'feature_weighting': 'TF-IDF', 'normalize': False, 'tversky_alpha': 0.11584823083483417, 'tversky_beta': 1.694869399193749}. Best is trial 74 with value: 0.11869598801026732.\n"
     ]
    },
    {
     "name": "stdout",
     "output_type": "stream",
     "text": [
      "Similarity column 38121 (100.0%), 5153.14 column/sec. Elapsed time 7.40 sec\n",
      "EvaluatorHoldout: Processed 34728 (100.0%) in 8.45 sec. Users per second: 4110\n"
     ]
    },
    {
     "name": "stderr",
     "output_type": "stream",
     "text": [
      "[I 2024-12-26 01:49:28,372] Trial 118 finished with value: 0.11598198745678234 and parameters: {'topK': 7, 'shrink': 2.3540641564693026, 'feature_weighting': 'TF-IDF', 'normalize': False, 'tversky_alpha': 0.20102634245676704, 'tversky_beta': 1.5065474008206692}. Best is trial 74 with value: 0.11869598801026732.\n"
     ]
    },
    {
     "name": "stdout",
     "output_type": "stream",
     "text": [
      "Similarity column 38121 (100.0%), 2247.95 column/sec. Elapsed time 16.96 sec\n",
      "EvaluatorHoldout: Processed 34728 (100.0%) in 8.29 sec. Users per second: 4188\n"
     ]
    },
    {
     "name": "stderr",
     "output_type": "stream",
     "text": [
      "[I 2024-12-26 01:49:53,759] Trial 119 finished with value: 0.11355369788068549 and parameters: {'topK': 2, 'shrink': 23.824328210807668, 'feature_weighting': 'TF-IDF', 'normalize': False, 'tversky_alpha': 0.1746060769163141, 'tversky_beta': 1.7681704281366788}. Best is trial 74 with value: 0.11869598801026732.\n"
     ]
    },
    {
     "name": "stdout",
     "output_type": "stream",
     "text": [
      "Similarity column 38121 (100.0%), 5133.22 column/sec. Elapsed time 7.43 sec\n",
      "EvaluatorHoldout: Processed 34728 (100.0%) in 8.50 sec. Users per second: 4087\n"
     ]
    },
    {
     "name": "stderr",
     "output_type": "stream",
     "text": [
      "[I 2024-12-26 01:50:09,817] Trial 120 finished with value: 0.11844529470380012 and parameters: {'topK': 5, 'shrink': 22.81441361931885, 'feature_weighting': 'TF-IDF', 'normalize': False, 'tversky_alpha': 0.2229116311867814, 'tversky_beta': 1.4766073171554326}. Best is trial 74 with value: 0.11869598801026732.\n"
     ]
    },
    {
     "name": "stdout",
     "output_type": "stream",
     "text": [
      "Similarity column 38121 (100.0%), 5107.35 column/sec. Elapsed time 7.46 sec\n",
      "EvaluatorHoldout: Processed 34728 (100.0%) in 8.41 sec. Users per second: 4130\n"
     ]
    },
    {
     "name": "stderr",
     "output_type": "stream",
     "text": [
      "[I 2024-12-26 01:50:25,827] Trial 121 finished with value: 0.11822785964283465 and parameters: {'topK': 4, 'shrink': 20.218375875410715, 'feature_weighting': 'TF-IDF', 'normalize': False, 'tversky_alpha': 0.3225815463406857, 'tversky_beta': 1.5458059994511026}. Best is trial 74 with value: 0.11869598801026732.\n"
     ]
    },
    {
     "name": "stdout",
     "output_type": "stream",
     "text": [
      "Similarity column 38121 (100.0%), 5113.54 column/sec. Elapsed time 7.45 sec\n",
      "EvaluatorHoldout: Processed 34728 (100.0%) in 8.43 sec. Users per second: 4118\n"
     ]
    },
    {
     "name": "stderr",
     "output_type": "stream",
     "text": [
      "[I 2024-12-26 01:50:41,852] Trial 122 finished with value: 0.11847009886653351 and parameters: {'topK': 4, 'shrink': 20.75765236318474, 'feature_weighting': 'TF-IDF', 'normalize': False, 'tversky_alpha': 0.2506974518969516, 'tversky_beta': 1.5931201809840996}. Best is trial 74 with value: 0.11869598801026732.\n"
     ]
    },
    {
     "name": "stdout",
     "output_type": "stream",
     "text": [
      "Similarity column 38121 (100.0%), 5182.13 column/sec. Elapsed time 7.36 sec\n",
      "EvaluatorHoldout: Processed 34728 (100.0%) in 8.44 sec. Users per second: 4115\n"
     ]
    },
    {
     "name": "stderr",
     "output_type": "stream",
     "text": [
      "[I 2024-12-26 01:50:57,783] Trial 123 finished with value: 0.11847117802654955 and parameters: {'topK': 5, 'shrink': 20.782121247897656, 'feature_weighting': 'TF-IDF', 'normalize': False, 'tversky_alpha': 0.23861817562535176, 'tversky_beta': 1.5967091172511998}. Best is trial 74 with value: 0.11869598801026732.\n"
     ]
    },
    {
     "name": "stdout",
     "output_type": "stream",
     "text": [
      "Similarity column 38121 (100.0%), 5168.17 column/sec. Elapsed time 7.38 sec\n",
      "EvaluatorHoldout: Processed 34728 (100.0%) in 8.31 sec. Users per second: 4180\n"
     ]
    },
    {
     "name": "stderr",
     "output_type": "stream",
     "text": [
      "[I 2024-12-26 01:51:13,601] Trial 124 finished with value: 0.1184878346257112 and parameters: {'topK': 4, 'shrink': 21.809689333766443, 'feature_weighting': 'TF-IDF', 'normalize': False, 'tversky_alpha': 0.2442913946740515, 'tversky_beta': 1.6024348242400703}. Best is trial 74 with value: 0.11869598801026732.\n"
     ]
    },
    {
     "name": "stdout",
     "output_type": "stream",
     "text": [
      "Similarity column 38121 (100.0%), 1594.30 column/sec. Elapsed time 23.91 sec\n",
      "EvaluatorHoldout: Processed 34728 (100.0%) in 8.37 sec. Users per second: 4147\n"
     ]
    },
    {
     "name": "stderr",
     "output_type": "stream",
     "text": [
      "[I 2024-12-26 01:51:46,022] Trial 125 finished with value: 0.11729760537083733 and parameters: {'topK': 3, 'shrink': 21.786498847038498, 'feature_weighting': 'TF-IDF', 'normalize': False, 'tversky_alpha': 0.27350219418768934, 'tversky_beta': 1.6497082955446205}. Best is trial 74 with value: 0.11869598801026732.\n"
     ]
    },
    {
     "name": "stdout",
     "output_type": "stream",
     "text": [
      "Similarity column 38121 (100.0%), 5170.44 column/sec. Elapsed time 7.37 sec\n",
      "EvaluatorHoldout: Processed 34728 (100.0%) in 8.56 sec. Users per second: 4059\n"
     ]
    },
    {
     "name": "stderr",
     "output_type": "stream",
     "text": [
      "[I 2024-12-26 01:52:02,090] Trial 126 finished with value: 0.11819419934364972 and parameters: {'topK': 9, 'shrink': 21.39041757189817, 'feature_weighting': 'TF-IDF', 'normalize': False, 'tversky_alpha': 0.24055739055026296, 'tversky_beta': 1.6162574911062717}. Best is trial 74 with value: 0.11869598801026732.\n"
     ]
    },
    {
     "name": "stdout",
     "output_type": "stream",
     "text": [
      "Similarity column 38121 (100.0%), 5098.91 column/sec. Elapsed time 7.48 sec\n",
      "EvaluatorHoldout: Processed 34728 (100.0%) in 8.56 sec. Users per second: 4056\n"
     ]
    },
    {
     "name": "stderr",
     "output_type": "stream",
     "text": [
      "[I 2024-12-26 01:52:18,269] Trial 127 finished with value: 0.11809067534380653 and parameters: {'topK': 7, 'shrink': 22.578360666213626, 'feature_weighting': 'TF-IDF', 'normalize': True, 'tversky_alpha': 0.3096014866457128, 'tversky_beta': 1.401349649733027}. Best is trial 74 with value: 0.11869598801026732.\n"
     ]
    },
    {
     "name": "stdout",
     "output_type": "stream",
     "text": [
      "Similarity column 38121 (100.0%), 5184.47 column/sec. Elapsed time 7.35 sec\n",
      "EvaluatorHoldout: Processed 34728 (100.0%) in 8.52 sec. Users per second: 4074\n"
     ]
    },
    {
     "name": "stderr",
     "output_type": "stream",
     "text": [
      "[I 2024-12-26 01:52:34,288] Trial 128 finished with value: 0.10847938576221439 and parameters: {'topK': 5, 'shrink': 23.277308587965024, 'feature_weighting': 'BM25', 'normalize': False, 'tversky_alpha': 0.15793516826332457, 'tversky_beta': 1.5185048327926924}. Best is trial 74 with value: 0.11869598801026732.\n"
     ]
    },
    {
     "name": "stdout",
     "output_type": "stream",
     "text": [
      "Similarity column 38121 (100.0%), 5165.26 column/sec. Elapsed time 7.38 sec\n",
      "EvaluatorHoldout: Processed 34728 (100.0%) in 9.31 sec. Users per second: 3732\n"
     ]
    },
    {
     "name": "stderr",
     "output_type": "stream",
     "text": [
      "[I 2024-12-26 01:52:51,119] Trial 129 finished with value: 0.1127389482206026 and parameters: {'topK': 36, 'shrink': 22.149811568972673, 'feature_weighting': 'TF-IDF', 'normalize': False, 'tversky_alpha': 0.20246892858404414, 'tversky_beta': 1.4608027255986715}. Best is trial 74 with value: 0.11869598801026732.\n"
     ]
    },
    {
     "name": "stdout",
     "output_type": "stream",
     "text": [
      "Similarity column 38121 (100.0%), 5166.22 column/sec. Elapsed time 7.38 sec\n",
      "EvaluatorHoldout: Processed 34728 (100.0%) in 8.56 sec. Users per second: 4055\n"
     ]
    },
    {
     "name": "stderr",
     "output_type": "stream",
     "text": [
      "[I 2024-12-26 01:53:07,200] Trial 130 finished with value: 0.11822969878880812 and parameters: {'topK': 8, 'shrink': 20.905618225978735, 'feature_weighting': 'TF-IDF', 'normalize': False, 'tversky_alpha': 0.1789914428793287, 'tversky_beta': 1.5702852056402048}. Best is trial 74 with value: 0.11869598801026732.\n"
     ]
    },
    {
     "name": "stdout",
     "output_type": "stream",
     "text": [
      "Similarity column 38121 (100.0%), 5183.62 column/sec. Elapsed time 7.35 sec\n",
      "EvaluatorHoldout: Processed 34728 (100.0%) in 8.44 sec. Users per second: 4117\n"
     ]
    },
    {
     "name": "stderr",
     "output_type": "stream",
     "text": [
      "[I 2024-12-26 01:53:23,126] Trial 131 finished with value: 0.1184749936942055 and parameters: {'topK': 4, 'shrink': 21.690547457812105, 'feature_weighting': 'TF-IDF', 'normalize': False, 'tversky_alpha': 0.2511570640260792, 'tversky_beta': 1.5893473530905935}. Best is trial 74 with value: 0.11869598801026732.\n"
     ]
    },
    {
     "name": "stdout",
     "output_type": "stream",
     "text": [
      "Similarity column 38121 (100.0%), 5183.33 column/sec. Elapsed time 7.35 sec\n",
      "EvaluatorHoldout: Processed 34728 (100.0%) in 8.47 sec. Users per second: 4102\n"
     ]
    },
    {
     "name": "stderr",
     "output_type": "stream",
     "text": [
      "[I 2024-12-26 01:53:39,084] Trial 132 finished with value: 0.11847323520679949 and parameters: {'topK': 4, 'shrink': 21.996481817176825, 'feature_weighting': 'TF-IDF', 'normalize': False, 'tversky_alpha': 0.2645379740070196, 'tversky_beta': 1.6785854594775929}. Best is trial 74 with value: 0.11869598801026732.\n"
     ]
    },
    {
     "name": "stdout",
     "output_type": "stream",
     "text": [
      "Similarity column 38121 (100.0%), 1601.37 column/sec. Elapsed time 23.81 sec\n",
      "EvaluatorHoldout: Processed 34728 (100.0%) in 8.39 sec. Users per second: 4139\n"
     ]
    },
    {
     "name": "stderr",
     "output_type": "stream",
     "text": [
      "[I 2024-12-26 01:54:11,421] Trial 133 finished with value: 0.11739455440092318 and parameters: {'topK': 3, 'shrink': 21.820451966038526, 'feature_weighting': 'TF-IDF', 'normalize': False, 'tversky_alpha': 0.26343538419482004, 'tversky_beta': 1.6109974262938942}. Best is trial 74 with value: 0.11869598801026732.\n"
     ]
    },
    {
     "name": "stdout",
     "output_type": "stream",
     "text": [
      "Similarity column 38121 (100.0%), 2237.19 column/sec. Elapsed time 17.04 sec\n",
      "EvaluatorHoldout: Processed 34728 (100.0%) in 8.45 sec. Users per second: 4109\n"
     ]
    },
    {
     "name": "stderr",
     "output_type": "stream",
     "text": [
      "[I 2024-12-26 01:54:37,051] Trial 134 finished with value: 0.11463926623102737 and parameters: {'topK': 2, 'shrink': 22.29062046394889, 'feature_weighting': 'TF-IDF', 'normalize': False, 'tversky_alpha': 0.306578722235735, 'tversky_beta': 1.676961488072799}. Best is trial 74 with value: 0.11869598801026732.\n"
     ]
    },
    {
     "name": "stdout",
     "output_type": "stream",
     "text": [
      "Similarity column 38121 (100.0%), 1602.35 column/sec. Elapsed time 23.79 sec\n",
      "EvaluatorHoldout: Processed 34728 (100.0%) in 8.41 sec. Users per second: 4130\n"
     ]
    },
    {
     "name": "stderr",
     "output_type": "stream",
     "text": [
      "[I 2024-12-26 01:55:09,387] Trial 135 finished with value: 0.11707802991583754 and parameters: {'topK': 3, 'shrink': 22.98339065627713, 'feature_weighting': 'TF-IDF', 'normalize': False, 'tversky_alpha': 0.29136716494833553, 'tversky_beta': 1.5338672668567956}. Best is trial 74 with value: 0.11869598801026732.\n"
     ]
    },
    {
     "name": "stdout",
     "output_type": "stream",
     "text": [
      "Similarity column 38121 (100.0%), 5135.56 column/sec. Elapsed time 7.42 sec\n",
      "EvaluatorHoldout: Processed 34728 (100.0%) in 8.39 sec. Users per second: 4141\n"
     ]
    },
    {
     "name": "stderr",
     "output_type": "stream",
     "text": [
      "[I 2024-12-26 01:55:25,334] Trial 136 finished with value: 0.11603668028063592 and parameters: {'topK': 4, 'shrink': 21.416678039173792, 'feature_weighting': 'TF-IDF', 'normalize': False, 'tversky_alpha': 0.9895506946590839, 'tversky_beta': 1.577035911949752}. Best is trial 74 with value: 0.11869598801026732.\n"
     ]
    },
    {
     "name": "stdout",
     "output_type": "stream",
     "text": [
      "Similarity column 38121 (100.0%), 5076.74 column/sec. Elapsed time 7.51 sec\n",
      "EvaluatorHoldout: Processed 34728 (100.0%) in 8.51 sec. Users per second: 4080\n"
     ]
    },
    {
     "name": "stderr",
     "output_type": "stream",
     "text": [
      "[I 2024-12-26 01:55:41,470] Trial 137 finished with value: 0.11863590556318886 and parameters: {'topK': 5, 'shrink': 23.702119049751026, 'feature_weighting': 'none', 'normalize': False, 'tversky_alpha': 0.2461277843029518, 'tversky_beta': 1.6437584074937335}. Best is trial 74 with value: 0.11869598801026732.\n"
     ]
    },
    {
     "name": "stdout",
     "output_type": "stream",
     "text": [
      "Similarity column 38121 (100.0%), 5166.63 column/sec. Elapsed time 7.38 sec\n",
      "EvaluatorHoldout: Processed 34728 (100.0%) in 8.47 sec. Users per second: 4098\n"
     ]
    },
    {
     "name": "stderr",
     "output_type": "stream",
     "text": [
      "[I 2024-12-26 01:55:57,438] Trial 138 finished with value: 0.11846434375907232 and parameters: {'topK': 6, 'shrink': 24.422022412761407, 'feature_weighting': 'none', 'normalize': False, 'tversky_alpha': 0.3402335733181113, 'tversky_beta': 1.6523701245087796}. Best is trial 74 with value: 0.11869598801026732.\n"
     ]
    },
    {
     "name": "stdout",
     "output_type": "stream",
     "text": [
      "Similarity column 38121 (100.0%), 5149.87 column/sec. Elapsed time 7.40 sec\n",
      "EvaluatorHoldout: Processed 34728 (100.0%) in 8.44 sec. Users per second: 4112\n"
     ]
    },
    {
     "name": "stderr",
     "output_type": "stream",
     "text": [
      "[I 2024-12-26 01:56:13,400] Trial 139 finished with value: 0.11854197601029327 and parameters: {'topK': 4, 'shrink': 23.728391893999685, 'feature_weighting': 'none', 'normalize': False, 'tversky_alpha': 0.27949157995584667, 'tversky_beta': 1.701615541274848}. Best is trial 74 with value: 0.11869598801026732.\n"
     ]
    },
    {
     "name": "stdout",
     "output_type": "stream",
     "text": [
      "Similarity column 38121 (100.0%), 5069.80 column/sec. Elapsed time 7.52 sec\n",
      "EvaluatorHoldout: Processed 34728 (100.0%) in 8.56 sec. Users per second: 4059\n"
     ]
    },
    {
     "name": "stderr",
     "output_type": "stream",
     "text": [
      "[I 2024-12-26 01:56:29,594] Trial 140 finished with value: 0.11808509775099507 and parameters: {'topK': 7, 'shrink': 23.56639140942687, 'feature_weighting': 'none', 'normalize': False, 'tversky_alpha': 0.28354440172407563, 'tversky_beta': 1.823304405732627}. Best is trial 74 with value: 0.11869598801026732.\n"
     ]
    },
    {
     "name": "stdout",
     "output_type": "stream",
     "text": [
      "Similarity column 38121 (100.0%), 5142.48 column/sec. Elapsed time 7.41 sec\n",
      "EvaluatorHoldout: Processed 34728 (100.0%) in 8.42 sec. Users per second: 4126\n"
     ]
    },
    {
     "name": "stderr",
     "output_type": "stream",
     "text": [
      "[I 2024-12-26 01:56:45,538] Trial 141 finished with value: 0.11859777481514228 and parameters: {'topK': 4, 'shrink': 23.08217915560383, 'feature_weighting': 'none', 'normalize': False, 'tversky_alpha': 0.25074981932623625, 'tversky_beta': 1.6729795070113547}. Best is trial 74 with value: 0.11869598801026732.\n"
     ]
    },
    {
     "name": "stdout",
     "output_type": "stream",
     "text": [
      "Similarity column 38121 (100.0%), 2247.88 column/sec. Elapsed time 16.96 sec\n",
      "EvaluatorHoldout: Processed 34728 (100.0%) in 8.35 sec. Users per second: 4159\n"
     ]
    },
    {
     "name": "stderr",
     "output_type": "stream",
     "text": [
      "[I 2024-12-26 01:57:10,963] Trial 142 finished with value: 0.1140059809322331 and parameters: {'topK': 2, 'shrink': 23.628512254435197, 'feature_weighting': 'none', 'normalize': False, 'tversky_alpha': 0.22245605307949184, 'tversky_beta': 1.7007190564378398}. Best is trial 74 with value: 0.11869598801026732.\n"
     ]
    },
    {
     "name": "stdout",
     "output_type": "stream",
     "text": [
      "Similarity column 38121 (100.0%), 5160.09 column/sec. Elapsed time 7.39 sec\n",
      "EvaluatorHoldout: Processed 34728 (100.0%) in 8.45 sec. Users per second: 4111\n"
     ]
    },
    {
     "name": "stderr",
     "output_type": "stream",
     "text": [
      "[I 2024-12-26 01:57:26,914] Trial 143 finished with value: 0.11854064546672023 and parameters: {'topK': 4, 'shrink': 22.881555190998526, 'feature_weighting': 'none', 'normalize': False, 'tversky_alpha': 0.2543778394666403, 'tversky_beta': 1.6313936785666694}. Best is trial 74 with value: 0.11869598801026732.\n"
     ]
    },
    {
     "name": "stdout",
     "output_type": "stream",
     "text": [
      "Similarity column 38121 (100.0%), 5160.85 column/sec. Elapsed time 7.39 sec\n",
      "EvaluatorHoldout: Processed 34728 (100.0%) in 8.47 sec. Users per second: 4099\n"
     ]
    },
    {
     "name": "stderr",
     "output_type": "stream",
     "text": [
      "[I 2024-12-26 01:57:42,886] Trial 144 finished with value: 0.11864640579151967 and parameters: {'topK': 5, 'shrink': 23.93878807497883, 'feature_weighting': 'none', 'normalize': False, 'tversky_alpha': 0.3134610563536739, 'tversky_beta': 1.7792760989862084}. Best is trial 74 with value: 0.11869598801026732.\n"
     ]
    },
    {
     "name": "stdout",
     "output_type": "stream",
     "text": [
      "Similarity column 38121 (100.0%), 5148.96 column/sec. Elapsed time 7.40 sec\n",
      "EvaluatorHoldout: Processed 34728 (100.0%) in 8.58 sec. Users per second: 4047\n"
     ]
    },
    {
     "name": "stderr",
     "output_type": "stream",
     "text": [
      "[I 2024-12-26 01:57:58,986] Trial 145 finished with value: 0.11830255926071694 and parameters: {'topK': 6, 'shrink': 24.28248795668286, 'feature_weighting': 'none', 'normalize': False, 'tversky_alpha': 0.35445333645116195, 'tversky_beta': 1.7626463045882153}. Best is trial 74 with value: 0.11869598801026732.\n"
     ]
    },
    {
     "name": "stdout",
     "output_type": "stream",
     "text": [
      "Similarity column 38121 (100.0%), 5154.52 column/sec. Elapsed time 7.40 sec\n",
      "EvaluatorHoldout: Processed 34728 (100.0%) in 8.50 sec. Users per second: 4088\n"
     ]
    },
    {
     "name": "stderr",
     "output_type": "stream",
     "text": [
      "[I 2024-12-26 01:58:14,991] Trial 146 finished with value: 0.11853582631813614 and parameters: {'topK': 5, 'shrink': 24.79954220371926, 'feature_weighting': 'none', 'normalize': False, 'tversky_alpha': 0.31409247392929196, 'tversky_beta': 1.7819405882002024}. Best is trial 74 with value: 0.11869598801026732.\n"
     ]
    },
    {
     "name": "stdout",
     "output_type": "stream",
     "text": [
      "Similarity column 38121 (100.0%), 5149.90 column/sec. Elapsed time 7.40 sec\n",
      "EvaluatorHoldout: Processed 34728 (100.0%) in 8.46 sec. Users per second: 4105\n"
     ]
    },
    {
     "name": "stderr",
     "output_type": "stream",
     "text": [
      "[I 2024-12-26 01:58:30,969] Trial 147 finished with value: 0.11835101108258582 and parameters: {'topK': 6, 'shrink': 24.91037121209806, 'feature_weighting': 'none', 'normalize': False, 'tversky_alpha': 0.3241322792899291, 'tversky_beta': 1.789538391401629}. Best is trial 74 with value: 0.11869598801026732.\n"
     ]
    },
    {
     "name": "stdout",
     "output_type": "stream",
     "text": [
      "Similarity column 38121 (100.0%), 5163.90 column/sec. Elapsed time 7.38 sec\n",
      "EvaluatorHoldout: Processed 34728 (100.0%) in 8.47 sec. Users per second: 4102\n"
     ]
    },
    {
     "name": "stderr",
     "output_type": "stream",
     "text": [
      "[I 2024-12-26 01:58:46,934] Trial 148 finished with value: 0.11781417073758295 and parameters: {'topK': 7, 'shrink': 23.883229031822967, 'feature_weighting': 'none', 'normalize': True, 'tversky_alpha': 0.30818792213170976, 'tversky_beta': 1.8448530693017213}. Best is trial 74 with value: 0.11869598801026732.\n"
     ]
    },
    {
     "name": "stdout",
     "output_type": "stream",
     "text": [
      "Similarity column 38121 (100.0%), 5169.36 column/sec. Elapsed time 7.37 sec\n",
      "EvaluatorHoldout: Processed 34728 (100.0%) in 8.41 sec. Users per second: 4129\n"
     ]
    },
    {
     "name": "stderr",
     "output_type": "stream",
     "text": [
      "[I 2024-12-26 01:59:02,837] Trial 149 finished with value: 0.11843786439783019 and parameters: {'topK': 5, 'shrink': 24.12023037584082, 'feature_weighting': 'none', 'normalize': False, 'tversky_alpha': 0.3338257007282112, 'tversky_beta': 1.7112470181926}. Best is trial 74 with value: 0.11869598801026732.\n"
     ]
    },
    {
     "name": "stdout",
     "output_type": "stream",
     "text": [
      "Similarity column 38121 (100.0%), 5103.57 column/sec. Elapsed time 7.47 sec\n",
      "EvaluatorHoldout: Processed 34728 (100.0%) in 8.49 sec. Users per second: 4089\n"
     ]
    },
    {
     "name": "stderr",
     "output_type": "stream",
     "text": [
      "[I 2024-12-26 01:59:18,916] Trial 150 finished with value: 0.1182869904174029 and parameters: {'topK': 8, 'shrink': 24.989125588353957, 'feature_weighting': 'none', 'normalize': False, 'tversky_alpha': 0.2882046329003453, 'tversky_beta': 1.808368654458407}. Best is trial 74 with value: 0.11869598801026732.\n"
     ]
    },
    {
     "name": "stdout",
     "output_type": "stream",
     "text": [
      "Similarity column 38121 (100.0%), 1590.61 column/sec. Elapsed time 23.97 sec\n",
      "EvaluatorHoldout: Processed 34728 (100.0%) in 8.32 sec. Users per second: 4173\n"
     ]
    },
    {
     "name": "stderr",
     "output_type": "stream",
     "text": [
      "[I 2024-12-26 01:59:51,320] Trial 151 finished with value: 0.11718400508514533 and parameters: {'topK': 3, 'shrink': 22.939046293319386, 'feature_weighting': 'none', 'normalize': False, 'tversky_alpha': 0.27195242743649606, 'tversky_beta': 1.7517974259355953}. Best is trial 74 with value: 0.11869598801026732.\n"
     ]
    },
    {
     "name": "stdout",
     "output_type": "stream",
     "text": [
      "Similarity column 38121 (100.0%), 5127.55 column/sec. Elapsed time 7.43 sec\n",
      "EvaluatorHoldout: Processed 34728 (100.0%) in 8.44 sec. Users per second: 4117\n"
     ]
    },
    {
     "name": "stderr",
     "output_type": "stream",
     "text": [
      "[I 2024-12-26 02:00:07,305] Trial 152 finished with value: 0.11828375355640239 and parameters: {'topK': 5, 'shrink': 23.22903921083123, 'feature_weighting': 'none', 'normalize': False, 'tversky_alpha': 0.550781521587068, 'tversky_beta': 1.8879033261707205}. Best is trial 74 with value: 0.11869598801026732.\n"
     ]
    },
    {
     "name": "stdout",
     "output_type": "stream",
     "text": [
      "Similarity column 38121 (100.0%), 5147.12 column/sec. Elapsed time 7.41 sec\n",
      "EvaluatorHoldout: Processed 34728 (100.0%) in 8.51 sec. Users per second: 4083\n"
     ]
    },
    {
     "name": "stderr",
     "output_type": "stream",
     "text": [
      "[I 2024-12-26 02:00:23,332] Trial 153 finished with value: 0.1185540172575934 and parameters: {'topK': 5, 'shrink': 23.835396958568293, 'feature_weighting': 'none', 'normalize': False, 'tversky_alpha': 0.30978377061368056, 'tversky_beta': 1.6525756026227252}. Best is trial 74 with value: 0.11869598801026732.\n"
     ]
    },
    {
     "name": "stdout",
     "output_type": "stream",
     "text": [
      "Similarity column 38121 (100.0%), 5163.98 column/sec. Elapsed time 7.38 sec\n",
      "EvaluatorHoldout: Processed 34728 (100.0%) in 8.66 sec. Users per second: 4011\n"
     ]
    },
    {
     "name": "stderr",
     "output_type": "stream",
     "text": [
      "[I 2024-12-26 02:00:39,487] Trial 154 finished with value: 0.11827360346578804 and parameters: {'topK': 7, 'shrink': 24.352324234162758, 'feature_weighting': 'none', 'normalize': False, 'tversky_alpha': 0.36017365607017904, 'tversky_beta': 1.6540175407570687}. Best is trial 74 with value: 0.11869598801026732.\n"
     ]
    },
    {
     "name": "stdout",
     "output_type": "stream",
     "text": [
      "Similarity column 38121 (100.0%), 5155.30 column/sec. Elapsed time 7.39 sec\n",
      "EvaluatorHoldout: Processed 34728 (100.0%) in 9.12 sec. Users per second: 3807\n"
     ]
    },
    {
     "name": "stderr",
     "output_type": "stream",
     "text": [
      "[I 2024-12-26 02:00:56,127] Trial 155 finished with value: 0.11393991501947022 and parameters: {'topK': 28, 'shrink': 23.755498275382962, 'feature_weighting': 'none', 'normalize': False, 'tversky_alpha': 0.30888020662943605, 'tversky_beta': 1.7197123001910202}. Best is trial 74 with value: 0.11869598801026732.\n"
     ]
    },
    {
     "name": "stdout",
     "output_type": "stream",
     "text": [
      "Similarity column 38121 (100.0%), 5156.79 column/sec. Elapsed time 7.39 sec\n",
      "EvaluatorHoldout: Processed 34728 (100.0%) in 8.51 sec. Users per second: 4080\n"
     ]
    },
    {
     "name": "stderr",
     "output_type": "stream",
     "text": [
      "[I 2024-12-26 02:01:12,150] Trial 156 finished with value: 0.11851914441692063 and parameters: {'topK': 5, 'shrink': 23.304587899763177, 'feature_weighting': 'none', 'normalize': False, 'tversky_alpha': 0.2946412983737734, 'tversky_beta': 1.6323273902390683}. Best is trial 74 with value: 0.11869598801026732.\n"
     ]
    },
    {
     "name": "stdout",
     "output_type": "stream",
     "text": [
      "Similarity column 38121 (100.0%), 5147.19 column/sec. Elapsed time 7.41 sec\n",
      "EvaluatorHoldout: Processed 34728 (100.0%) in 8.33 sec. Users per second: 4168\n"
     ]
    },
    {
     "name": "stderr",
     "output_type": "stream",
     "text": [
      "[I 2024-12-26 02:01:28,004] Trial 157 finished with value: 0.11845355394958662 and parameters: {'topK': 4, 'shrink': 22.668868050836497, 'feature_weighting': 'none', 'normalize': False, 'tversky_alpha': 0.2926054316507988, 'tversky_beta': 1.6881686030990861}. Best is trial 74 with value: 0.11869598801026732.\n"
     ]
    },
    {
     "name": "stdout",
     "output_type": "stream",
     "text": [
      "Similarity column 38121 (100.0%), 5161.41 column/sec. Elapsed time 7.39 sec\n",
      "EvaluatorHoldout: Processed 34728 (100.0%) in 8.45 sec. Users per second: 4111\n"
     ]
    },
    {
     "name": "stderr",
     "output_type": "stream",
     "text": [
      "[I 2024-12-26 02:01:43,953] Trial 158 finished with value: 0.1184902679074036 and parameters: {'topK': 6, 'shrink': 24.60291038828436, 'feature_weighting': 'none', 'normalize': False, 'tversky_alpha': 0.3183393457282272, 'tversky_beta': 1.6308624927421733}. Best is trial 74 with value: 0.11869598801026732.\n"
     ]
    },
    {
     "name": "stdout",
     "output_type": "stream",
     "text": [
      "Similarity column 38121 (100.0%), 2238.37 column/sec. Elapsed time 17.03 sec\n",
      "EvaluatorHoldout: Processed 34728 (100.0%) in 8.38 sec. Users per second: 4143\n"
     ]
    },
    {
     "name": "stderr",
     "output_type": "stream",
     "text": [
      "[I 2024-12-26 02:02:09,482] Trial 159 finished with value: 0.11454321316878971 and parameters: {'topK': 2, 'shrink': 23.218952544468056, 'feature_weighting': 'none', 'normalize': False, 'tversky_alpha': 0.2763825037325687, 'tversky_beta': 1.6649771842572847}. Best is trial 74 with value: 0.11869598801026732.\n"
     ]
    },
    {
     "name": "stdout",
     "output_type": "stream",
     "text": [
      "Similarity column 38121 (100.0%), 5151.29 column/sec. Elapsed time 7.40 sec\n",
      "EvaluatorHoldout: Processed 34728 (100.0%) in 9.60 sec. Users per second: 3617\n"
     ]
    },
    {
     "name": "stderr",
     "output_type": "stream",
     "text": [
      "[I 2024-12-26 02:02:26,606] Trial 160 finished with value: 0.11136639922669928 and parameters: {'topK': 43, 'shrink': 23.985856047598283, 'feature_weighting': 'none', 'normalize': False, 'tversky_alpha': 0.6690325243532024, 'tversky_beta': 1.6316922615117313}. Best is trial 74 with value: 0.11869598801026732.\n"
     ]
    },
    {
     "name": "stdout",
     "output_type": "stream",
     "text": [
      "Similarity column 38121 (100.0%), 5159.05 column/sec. Elapsed time 7.39 sec\n",
      "EvaluatorHoldout: Processed 34728 (100.0%) in 8.43 sec. Users per second: 4118\n"
     ]
    },
    {
     "name": "stderr",
     "output_type": "stream",
     "text": [
      "[I 2024-12-26 02:02:42,545] Trial 161 finished with value: 0.11859581543736551 and parameters: {'topK': 5, 'shrink': 23.380725335021907, 'feature_weighting': 'none', 'normalize': False, 'tversky_alpha': 0.3252399798854772, 'tversky_beta': 1.780770043365157}. Best is trial 74 with value: 0.11869598801026732.\n"
     ]
    },
    {
     "name": "stdout",
     "output_type": "stream",
     "text": [
      "Similarity column 38121 (100.0%), 5141.97 column/sec. Elapsed time 7.41 sec\n",
      "EvaluatorHoldout: Processed 34728 (100.0%) in 8.48 sec. Users per second: 4094\n"
     ]
    },
    {
     "name": "stderr",
     "output_type": "stream",
     "text": [
      "[I 2024-12-26 02:02:58,557] Trial 162 finished with value: 0.1186251855336123 and parameters: {'topK': 5, 'shrink': 22.511186607644607, 'feature_weighting': 'none', 'normalize': False, 'tversky_alpha': 0.34320480311726465, 'tversky_beta': 1.729054960848294}. Best is trial 74 with value: 0.11869598801026732.\n"
     ]
    },
    {
     "name": "stdout",
     "output_type": "stream",
     "text": [
      "Similarity column 38121 (100.0%), 5174.21 column/sec. Elapsed time 7.37 sec\n",
      "EvaluatorHoldout: Processed 34728 (100.0%) in 8.41 sec. Users per second: 4131\n"
     ]
    },
    {
     "name": "stderr",
     "output_type": "stream",
     "text": [
      "[I 2024-12-26 02:03:14,447] Trial 163 finished with value: 0.11848469790449076 and parameters: {'topK': 5, 'shrink': 23.51605066895501, 'feature_weighting': 'none', 'normalize': False, 'tversky_alpha': 0.3431836457312381, 'tversky_beta': 1.7236813577111065}. Best is trial 74 with value: 0.11869598801026732.\n"
     ]
    },
    {
     "name": "stdout",
     "output_type": "stream",
     "text": [
      "Similarity column 38121 (100.0%), 1593.33 column/sec. Elapsed time 23.93 sec\n",
      "EvaluatorHoldout: Processed 34728 (100.0%) in 8.45 sec. Users per second: 4109\n"
     ]
    },
    {
     "name": "stderr",
     "output_type": "stream",
     "text": [
      "[I 2024-12-26 02:03:46,939] Trial 164 finished with value: 0.11719446829876486 and parameters: {'topK': 3, 'shrink': 22.5153996928304, 'feature_weighting': 'none', 'normalize': False, 'tversky_alpha': 0.37491700174235426, 'tversky_beta': 1.7821597387693995}. Best is trial 74 with value: 0.11869598801026732.\n"
     ]
    },
    {
     "name": "stdout",
     "output_type": "stream",
     "text": [
      "Similarity column 38121 (100.0%), 5158.39 column/sec. Elapsed time 7.39 sec\n",
      "EvaluatorHoldout: Processed 34728 (100.0%) in 8.46 sec. Users per second: 4105\n"
     ]
    },
    {
     "name": "stderr",
     "output_type": "stream",
     "text": [
      "[I 2024-12-26 02:04:02,905] Trial 165 finished with value: 0.11849598957929992 and parameters: {'topK': 6, 'shrink': 24.136358076434803, 'feature_weighting': 'none', 'normalize': False, 'tversky_alpha': 0.32569460252162546, 'tversky_beta': 1.7520412961890326}. Best is trial 74 with value: 0.11869598801026732.\n"
     ]
    },
    {
     "name": "stdout",
     "output_type": "stream",
     "text": [
      "Similarity column 38121 (100.0%), 5115.19 column/sec. Elapsed time 7.45 sec\n",
      "EvaluatorHoldout: Processed 34728 (100.0%) in 8.36 sec. Users per second: 4153\n"
     ]
    },
    {
     "name": "stderr",
     "output_type": "stream",
     "text": [
      "[I 2024-12-26 02:04:18,844] Trial 166 finished with value: 0.11847358570957839 and parameters: {'topK': 4, 'shrink': 23.67261600685147, 'feature_weighting': 'none', 'normalize': False, 'tversky_alpha': 0.29896708905486746, 'tversky_beta': 1.8089649218966772}. Best is trial 74 with value: 0.11869598801026732.\n"
     ]
    },
    {
     "name": "stdout",
     "output_type": "stream",
     "text": [
      "Similarity column 38121 (100.0%), 5150.31 column/sec. Elapsed time 7.40 sec\n",
      "EvaluatorHoldout: Processed 34728 (100.0%) in 8.61 sec. Users per second: 4033\n"
     ]
    },
    {
     "name": "stderr",
     "output_type": "stream",
     "text": [
      "[I 2024-12-26 02:04:34,980] Trial 167 finished with value: 0.11807671933568878 and parameters: {'topK': 7, 'shrink': 23.09992951452933, 'feature_weighting': 'none', 'normalize': False, 'tversky_alpha': 0.3341526841959395, 'tversky_beta': 1.6996558419320646}. Best is trial 74 with value: 0.11869598801026732.\n"
     ]
    },
    {
     "name": "stdout",
     "output_type": "stream",
     "text": [
      "Similarity column 38121 (100.0%), 1594.17 column/sec. Elapsed time 23.91 sec\n",
      "EvaluatorHoldout: Processed 34728 (100.0%) in 8.43 sec. Users per second: 4118\n"
     ]
    },
    {
     "name": "stderr",
     "output_type": "stream",
     "text": [
      "[I 2024-12-26 02:05:07,442] Trial 168 finished with value: 0.1172787463930022 and parameters: {'topK': 3, 'shrink': 22.79136979423205, 'feature_weighting': 'none', 'normalize': False, 'tversky_alpha': 0.28911485592206493, 'tversky_beta': 1.7403541483898903}. Best is trial 74 with value: 0.11869598801026732.\n"
     ]
    },
    {
     "name": "stdout",
     "output_type": "stream",
     "text": [
      "Similarity column 38121 (100.0%), 5169.13 column/sec. Elapsed time 7.37 sec\n",
      "EvaluatorHoldout: Processed 34728 (100.0%) in 8.60 sec. Users per second: 4040\n"
     ]
    },
    {
     "name": "stderr",
     "output_type": "stream",
     "text": [
      "[I 2024-12-26 02:05:23,528] Trial 169 finished with value: 0.11825711666845144 and parameters: {'topK': 9, 'shrink': 22.34967217755916, 'feature_weighting': 'none', 'normalize': False, 'tversky_alpha': 0.3525592409151349, 'tversky_beta': 1.8452573753488084}. Best is trial 74 with value: 0.11869598801026732.\n"
     ]
    },
    {
     "name": "stdout",
     "output_type": "stream",
     "text": [
      "Similarity column 38121 (100.0%), 5168.05 column/sec. Elapsed time 7.38 sec\n",
      "EvaluatorHoldout: Processed 34728 (100.0%) in 8.54 sec. Users per second: 4066\n"
     ]
    },
    {
     "name": "stderr",
     "output_type": "stream",
     "text": [
      "[I 2024-12-26 02:05:39,563] Trial 170 finished with value: 0.11856494765625367 and parameters: {'topK': 6, 'shrink': 23.28858882368635, 'feature_weighting': 'none', 'normalize': False, 'tversky_alpha': 0.30915104620858996, 'tversky_beta': 1.6763314612520368}. Best is trial 74 with value: 0.11869598801026732.\n"
     ]
    },
    {
     "name": "stdout",
     "output_type": "stream",
     "text": [
      "Similarity column 38121 (100.0%), 5152.29 column/sec. Elapsed time 7.40 sec\n",
      "EvaluatorHoldout: Processed 34728 (100.0%) in 8.57 sec. Users per second: 4053\n"
     ]
    },
    {
     "name": "stderr",
     "output_type": "stream",
     "text": [
      "[I 2024-12-26 02:05:55,646] Trial 171 finished with value: 0.11843277853123177 and parameters: {'topK': 6, 'shrink': 23.376654157868224, 'feature_weighting': 'none', 'normalize': False, 'tversky_alpha': 0.3162688864270655, 'tversky_beta': 1.6699531216959302}. Best is trial 74 with value: 0.11869598801026732.\n"
     ]
    },
    {
     "name": "stdout",
     "output_type": "stream",
     "text": [
      "Similarity column 38121 (100.0%), 5167.59 column/sec. Elapsed time 7.38 sec\n",
      "EvaluatorHoldout: Processed 34728 (100.0%) in 8.42 sec. Users per second: 4125\n"
     ]
    },
    {
     "name": "stderr",
     "output_type": "stream",
     "text": [
      "[I 2024-12-26 02:06:11,557] Trial 172 finished with value: 0.11866678645253717 and parameters: {'topK': 5, 'shrink': 24.044983531183256, 'feature_weighting': 'none', 'normalize': False, 'tversky_alpha': 0.2622926957548144, 'tversky_beta': 1.716917548885313}. Best is trial 74 with value: 0.11869598801026732.\n"
     ]
    },
    {
     "name": "stdout",
     "output_type": "stream",
     "text": [
      "Similarity column 38121 (100.0%), 5182.54 column/sec. Elapsed time 7.36 sec\n",
      "EvaluatorHoldout: Processed 34728 (100.0%) in 8.39 sec. Users per second: 4138\n"
     ]
    },
    {
     "name": "stderr",
     "output_type": "stream",
     "text": [
      "[I 2024-12-26 02:06:27,425] Trial 173 finished with value: 0.11850508519008494 and parameters: {'topK': 4, 'shrink': 24.537897762209177, 'feature_weighting': 'none', 'normalize': False, 'tversky_alpha': 0.2607430601113516, 'tversky_beta': 1.7697559830182048}. Best is trial 74 with value: 0.11869598801026732.\n"
     ]
    },
    {
     "name": "stdout",
     "output_type": "stream",
     "text": [
      "Similarity column 38121 (100.0%), 5172.99 column/sec. Elapsed time 7.37 sec\n",
      "EvaluatorHoldout: Processed 34728 (100.0%) in 8.57 sec. Users per second: 4051\n"
     ]
    },
    {
     "name": "stderr",
     "output_type": "stream",
     "text": [
      "[I 2024-12-26 02:06:43,482] Trial 174 finished with value: 0.11829975267346102 and parameters: {'topK': 8, 'shrink': 23.936274592154128, 'feature_weighting': 'none', 'normalize': False, 'tversky_alpha': 0.2777323198783954, 'tversky_beta': 1.706398409053054}. Best is trial 74 with value: 0.11869598801026732.\n"
     ]
    },
    {
     "name": "stdout",
     "output_type": "stream",
     "text": [
      "Similarity column 38121 (100.0%), 5112.88 column/sec. Elapsed time 7.46 sec\n",
      "EvaluatorHoldout: Processed 34728 (100.0%) in 8.32 sec. Users per second: 4174\n"
     ]
    },
    {
     "name": "stderr",
     "output_type": "stream",
     "text": [
      "[I 2024-12-26 02:06:59,373] Trial 175 finished with value: 0.1185682401260677 and parameters: {'topK': 5, 'shrink': 24.98283375289819, 'feature_weighting': 'none', 'normalize': False, 'tversky_alpha': 0.3092945549605606, 'tversky_beta': 1.7332383167638439}. Best is trial 74 with value: 0.11869598801026732.\n"
     ]
    },
    {
     "name": "stdout",
     "output_type": "stream",
     "text": [
      "Similarity column 38121 (100.0%), 5029.38 column/sec. Elapsed time 7.58 sec\n",
      "EvaluatorHoldout: Processed 34728 (100.0%) in 8.49 sec. Users per second: 4090\n"
     ]
    },
    {
     "name": "stderr",
     "output_type": "stream",
     "text": [
      "[I 2024-12-26 02:07:15,558] Trial 176 finished with value: 0.11851053285401165 and parameters: {'topK': 5, 'shrink': 24.89991650036566, 'feature_weighting': 'none', 'normalize': False, 'tversky_alpha': 0.3177053609552296, 'tversky_beta': 1.7399934771449566}. Best is trial 74 with value: 0.11869598801026732.\n"
     ]
    },
    {
     "name": "stdout",
     "output_type": "stream",
     "text": [
      "Similarity column 38121 (100.0%), 5116.38 column/sec. Elapsed time 7.45 sec\n",
      "EvaluatorHoldout: Processed 34728 (100.0%) in 8.50 sec. Users per second: 4087\n"
     ]
    },
    {
     "name": "stderr",
     "output_type": "stream",
     "text": [
      "[I 2024-12-26 02:07:31,621] Trial 177 finished with value: 0.11814887639822741 and parameters: {'topK': 7, 'shrink': 24.138419719960133, 'feature_weighting': 'none', 'normalize': False, 'tversky_alpha': 0.39201755838778024, 'tversky_beta': 1.7999208400845217}. Best is trial 74 with value: 0.11869598801026732.\n"
     ]
    },
    {
     "name": "stdout",
     "output_type": "stream",
     "text": [
      "Similarity column 38121 (100.0%), 5127.63 column/sec. Elapsed time 7.43 sec\n",
      "EvaluatorHoldout: Processed 34728 (100.0%) in 8.51 sec. Users per second: 4080\n"
     ]
    },
    {
     "name": "stderr",
     "output_type": "stream",
     "text": [
      "[I 2024-12-26 02:07:47,681] Trial 178 finished with value: 0.1184642254208239 and parameters: {'topK': 6, 'shrink': 24.5213246630354, 'feature_weighting': 'none', 'normalize': True, 'tversky_alpha': 0.26565480839086636, 'tversky_beta': 1.6932631549162522}. Best is trial 74 with value: 0.11869598801026732.\n"
     ]
    },
    {
     "name": "stdout",
     "output_type": "stream",
     "text": [
      "Similarity column 38121 (100.0%), 2243.36 column/sec. Elapsed time 16.99 sec\n",
      "EvaluatorHoldout: Processed 34728 (100.0%) in 8.39 sec. Users per second: 4141\n"
     ]
    },
    {
     "name": "stderr",
     "output_type": "stream",
     "text": [
      "[I 2024-12-26 02:08:13,174] Trial 179 finished with value: 0.11463030614250908 and parameters: {'topK': 2, 'shrink': 23.621661610388436, 'feature_weighting': 'none', 'normalize': False, 'tversky_alpha': 0.3472657598211733, 'tversky_beta': 1.7714417652514782}. Best is trial 74 with value: 0.11869598801026732.\n"
     ]
    },
    {
     "name": "stdout",
     "output_type": "stream",
     "text": [
      "Similarity column 38121 (100.0%), 1593.60 column/sec. Elapsed time 23.92 sec\n",
      "EvaluatorHoldout: Processed 34728 (100.0%) in 8.43 sec. Users per second: 4121\n"
     ]
    },
    {
     "name": "stderr",
     "output_type": "stream",
     "text": [
      "[I 2024-12-26 02:08:45,639] Trial 180 finished with value: 0.11710675665247024 and parameters: {'topK': 3, 'shrink': 22.952085559047006, 'feature_weighting': 'none', 'normalize': False, 'tversky_alpha': 0.3692242342915651, 'tversky_beta': 1.7321135796150866}. Best is trial 74 with value: 0.11869598801026732.\n"
     ]
    },
    {
     "name": "stdout",
     "output_type": "stream",
     "text": [
      "Similarity column 38121 (100.0%), 5166.34 column/sec. Elapsed time 7.38 sec\n",
      "EvaluatorHoldout: Processed 34728 (100.0%) in 8.43 sec. Users per second: 4120\n"
     ]
    },
    {
     "name": "stderr",
     "output_type": "stream",
     "text": [
      "[I 2024-12-26 02:09:01,561] Trial 181 finished with value: 0.1185330011666887 and parameters: {'topK': 5, 'shrink': 22.672090200034603, 'feature_weighting': 'none', 'normalize': False, 'tversky_alpha': 0.2947687481698351, 'tversky_beta': 1.6650721165215034}. Best is trial 74 with value: 0.11869598801026732.\n"
     ]
    },
    {
     "name": "stdout",
     "output_type": "stream",
     "text": [
      "Similarity column 38121 (100.0%), 5130.80 column/sec. Elapsed time 7.43 sec\n",
      "EvaluatorHoldout: Processed 34728 (100.0%) in 8.83 sec. Users per second: 3934\n"
     ]
    },
    {
     "name": "stderr",
     "output_type": "stream",
     "text": [
      "[I 2024-12-26 02:09:17,938] Trial 182 finished with value: 0.11690039441398795 and parameters: {'topK': 17, 'shrink': 10.76117439465593, 'feature_weighting': 'none', 'normalize': False, 'tversky_alpha': 0.30157348554373675, 'tversky_beta': 1.670944341956158}. Best is trial 74 with value: 0.11869598801026732.\n"
     ]
    },
    {
     "name": "stdout",
     "output_type": "stream",
     "text": [
      "Similarity column 38121 (100.0%), 5154.67 column/sec. Elapsed time 7.40 sec\n",
      "EvaluatorHoldout: Processed 34728 (100.0%) in 8.46 sec. Users per second: 4104\n"
     ]
    },
    {
     "name": "stderr",
     "output_type": "stream",
     "text": [
      "[I 2024-12-26 02:09:33,910] Trial 183 finished with value: 0.11704444531972684 and parameters: {'topK': 4, 'shrink': 22.68648339109267, 'feature_weighting': 'none', 'normalize': False, 'tversky_alpha': 0.2474604529896573, 'tversky_beta': 0.6836330770803178}. Best is trial 74 with value: 0.11869598801026732.\n"
     ]
    },
    {
     "name": "stdout",
     "output_type": "stream",
     "text": [
      "Similarity column 38121 (100.0%), 5122.16 column/sec. Elapsed time 7.44 sec\n",
      "EvaluatorHoldout: Processed 34728 (100.0%) in 8.49 sec. Users per second: 4092\n"
     ]
    },
    {
     "name": "stderr",
     "output_type": "stream",
     "text": [
      "[I 2024-12-26 02:09:49,957] Trial 184 finished with value: 0.11845738738297165 and parameters: {'topK': 5, 'shrink': 24.960233725392083, 'feature_weighting': 'none', 'normalize': False, 'tversky_alpha': 0.33305245793587634, 'tversky_beta': 1.7110369867704234}. Best is trial 74 with value: 0.11869598801026732.\n"
     ]
    },
    {
     "name": "stdout",
     "output_type": "stream",
     "text": [
      "Similarity column 38121 (100.0%), 5155.25 column/sec. Elapsed time 7.39 sec\n",
      "EvaluatorHoldout: Processed 34728 (100.0%) in 8.48 sec. Users per second: 4095\n"
     ]
    },
    {
     "name": "stderr",
     "output_type": "stream",
     "text": [
      "[I 2024-12-26 02:10:05,949] Trial 185 finished with value: 0.11836170712210166 and parameters: {'topK': 6, 'shrink': 24.09390509758253, 'feature_weighting': 'none', 'normalize': False, 'tversky_alpha': 0.2793960652934629, 'tversky_beta': 1.6472965489324136}. Best is trial 74 with value: 0.11869598801026732.\n"
     ]
    },
    {
     "name": "stdout",
     "output_type": "stream",
     "text": [
      "Similarity column 38121 (100.0%), 5175.86 column/sec. Elapsed time 7.37 sec\n",
      "EvaluatorHoldout: Processed 34728 (100.0%) in 8.53 sec. Users per second: 4073\n"
     ]
    },
    {
     "name": "stderr",
     "output_type": "stream",
     "text": [
      "[I 2024-12-26 02:10:21,956] Trial 186 finished with value: 0.1182855674946331 and parameters: {'topK': 4, 'shrink': 22.21642389185403, 'feature_weighting': 'none', 'normalize': False, 'tversky_alpha': 0.3085731337033418, 'tversky_beta': 1.8390158051219452}. Best is trial 74 with value: 0.11869598801026732.\n"
     ]
    },
    {
     "name": "stdout",
     "output_type": "stream",
     "text": [
      "Similarity column 38121 (100.0%), 5149.79 column/sec. Elapsed time 7.40 sec\n",
      "EvaluatorHoldout: Processed 34728 (100.0%) in 8.66 sec. Users per second: 4012\n"
     ]
    },
    {
     "name": "stderr",
     "output_type": "stream",
     "text": [
      "[I 2024-12-26 02:10:38,134] Trial 187 finished with value: 0.11829027084941175 and parameters: {'topK': 7, 'shrink': 23.695458864418967, 'feature_weighting': 'none', 'normalize': False, 'tversky_alpha': 0.2515539323000676, 'tversky_beta': 1.749215099569548}. Best is trial 74 with value: 0.11869598801026732.\n"
     ]
    },
    {
     "name": "stdout",
     "output_type": "stream",
     "text": [
      "Similarity column 38121 (100.0%), 5178.66 column/sec. Elapsed time 7.36 sec\n",
      "EvaluatorHoldout: Processed 34728 (100.0%) in 8.63 sec. Users per second: 4023\n"
     ]
    },
    {
     "name": "stderr",
     "output_type": "stream",
     "text": [
      "[I 2024-12-26 02:10:54,244] Trial 188 finished with value: 0.1136799281524371 and parameters: {'topK': 5, 'shrink': 24.513189408641296, 'feature_weighting': 'none', 'normalize': False, 'tversky_alpha': 0.2880274430964142, 'tversky_beta': 0.420998456240105}. Best is trial 74 with value: 0.11869598801026732.\n"
     ]
    },
    {
     "name": "stdout",
     "output_type": "stream",
     "text": [
      "Similarity column 38121 (100.0%), 1597.21 column/sec. Elapsed time 23.87 sec\n",
      "EvaluatorHoldout: Processed 34728 (100.0%) in 8.44 sec. Users per second: 4113\n"
     ]
    },
    {
     "name": "stderr",
     "output_type": "stream",
     "text": [
      "[I 2024-12-26 02:11:26,670] Trial 189 finished with value: 0.11702763419008828 and parameters: {'topK': 3, 'shrink': 23.061062548796347, 'feature_weighting': 'none', 'normalize': False, 'tversky_alpha': 0.32379246762388103, 'tversky_beta': 1.6846710903899949}. Best is trial 74 with value: 0.11869598801026732.\n"
     ]
    },
    {
     "name": "stdout",
     "output_type": "stream",
     "text": [
      "Similarity column 38121 (100.0%), 5162.84 column/sec. Elapsed time 7.38 sec\n",
      "EvaluatorHoldout: Processed 34728 (100.0%) in 8.51 sec. Users per second: 4083\n"
     ]
    },
    {
     "name": "stderr",
     "output_type": "stream",
     "text": [
      "[I 2024-12-26 02:11:42,678] Trial 190 finished with value: 0.11832690477494362 and parameters: {'topK': 6, 'shrink': 23.49020925794668, 'feature_weighting': 'none', 'normalize': False, 'tversky_alpha': 0.26950060663635145, 'tversky_beta': 1.7988134964561369}. Best is trial 74 with value: 0.11869598801026732.\n"
     ]
    },
    {
     "name": "stdout",
     "output_type": "stream",
     "text": [
      "Similarity column 38121 (100.0%), 5148.94 column/sec. Elapsed time 7.40 sec\n",
      "EvaluatorHoldout: Processed 34728 (100.0%) in 8.27 sec. Users per second: 4200\n"
     ]
    },
    {
     "name": "stderr",
     "output_type": "stream",
     "text": [
      "[I 2024-12-26 02:11:58,468] Trial 191 finished with value: 0.11775464176575898 and parameters: {'topK': 5, 'shrink': 9.542391042583604, 'feature_weighting': 'none', 'normalize': False, 'tversky_alpha': 0.30200701839146604, 'tversky_beta': 1.6275011140127604}. Best is trial 74 with value: 0.11869598801026732.\n"
     ]
    },
    {
     "name": "stdout",
     "output_type": "stream",
     "text": [
      "Similarity column 38121 (100.0%), 5103.21 column/sec. Elapsed time 7.47 sec\n",
      "EvaluatorHoldout: Processed 34728 (100.0%) in 8.31 sec. Users per second: 4178\n"
     ]
    },
    {
     "name": "stderr",
     "output_type": "stream",
     "text": [
      "[I 2024-12-26 02:12:14,368] Trial 192 finished with value: 0.11832209846099612 and parameters: {'topK': 4, 'shrink': 22.648699501404923, 'feature_weighting': 'none', 'normalize': False, 'tversky_alpha': 0.23283804107586267, 'tversky_beta': 1.665921350094415}. Best is trial 74 with value: 0.11869598801026732.\n"
     ]
    },
    {
     "name": "stdout",
     "output_type": "stream",
     "text": [
      "Similarity column 38121 (100.0%), 5167.85 column/sec. Elapsed time 7.38 sec\n",
      "EvaluatorHoldout: Processed 34728 (100.0%) in 8.50 sec. Users per second: 4087\n"
     ]
    },
    {
     "name": "stderr",
     "output_type": "stream",
     "text": [
      "[I 2024-12-26 02:12:30,354] Trial 193 finished with value: 0.11858909988107365 and parameters: {'topK': 5, 'shrink': 22.23650918471794, 'feature_weighting': 'none', 'normalize': False, 'tversky_alpha': 0.3154889179994527, 'tversky_beta': 1.568968249636255}. Best is trial 74 with value: 0.11869598801026732.\n"
     ]
    },
    {
     "name": "stdout",
     "output_type": "stream",
     "text": [
      "Similarity column 38121 (100.0%), 5134.93 column/sec. Elapsed time 7.42 sec\n",
      "EvaluatorHoldout: Processed 34728 (100.0%) in 8.98 sec. Users per second: 3869\n"
     ]
    },
    {
     "name": "stderr",
     "output_type": "stream",
     "text": [
      "[I 2024-12-26 02:12:46,875] Trial 194 finished with value: 0.11549141326488893 and parameters: {'topK': 20, 'shrink': 22.310519380025823, 'feature_weighting': 'none', 'normalize': False, 'tversky_alpha': 0.3224839720309879, 'tversky_beta': 1.7145992492747169}. Best is trial 74 with value: 0.11869598801026732.\n"
     ]
    },
    {
     "name": "stdout",
     "output_type": "stream",
     "text": [
      "Similarity column 38121 (100.0%), 5148.17 column/sec. Elapsed time 7.40 sec\n",
      "EvaluatorHoldout: Processed 34728 (100.0%) in 8.57 sec. Users per second: 4053\n"
     ]
    },
    {
     "name": "stderr",
     "output_type": "stream",
     "text": [
      "[I 2024-12-26 02:13:02,964] Trial 195 finished with value: 0.11817727423651916 and parameters: {'topK': 7, 'shrink': 24.135051918034495, 'feature_weighting': 'none', 'normalize': False, 'tversky_alpha': 0.3528985513349061, 'tversky_beta': 1.7542902373765537}. Best is trial 74 with value: 0.11869598801026732.\n"
     ]
    },
    {
     "name": "stdout",
     "output_type": "stream",
     "text": [
      "Similarity column 38121 (100.0%), 5164.34 column/sec. Elapsed time 7.38 sec\n",
      "EvaluatorHoldout: Processed 34728 (100.0%) in 8.41 sec. Users per second: 4129\n"
     ]
    },
    {
     "name": "stderr",
     "output_type": "stream",
     "text": [
      "[I 2024-12-26 02:13:18,872] Trial 196 finished with value: 0.11860404646199006 and parameters: {'topK': 5, 'shrink': 23.38975420284788, 'feature_weighting': 'none', 'normalize': False, 'tversky_alpha': 0.2804626840599501, 'tversky_beta': 1.5589138787058787}. Best is trial 74 with value: 0.11869598801026732.\n"
     ]
    },
    {
     "name": "stdout",
     "output_type": "stream",
     "text": [
      "Similarity column 38121 (100.0%), 5168.98 column/sec. Elapsed time 7.37 sec\n",
      "EvaluatorHoldout: Processed 34728 (100.0%) in 8.49 sec. Users per second: 4090\n"
     ]
    },
    {
     "name": "stderr",
     "output_type": "stream",
     "text": [
      "[I 2024-12-26 02:13:34,854] Trial 197 finished with value: 0.11838110821747339 and parameters: {'topK': 6, 'shrink': 23.274176579510456, 'feature_weighting': 'none', 'normalize': False, 'tversky_alpha': 0.2581242140867613, 'tversky_beta': 1.5455097991141036}. Best is trial 74 with value: 0.11869598801026732.\n"
     ]
    },
    {
     "name": "stdout",
     "output_type": "stream",
     "text": [
      "Similarity column 38121 (100.0%), 5188.20 column/sec. Elapsed time 7.35 sec\n",
      "EvaluatorHoldout: Processed 34728 (100.0%) in 8.46 sec. Users per second: 4104\n"
     ]
    },
    {
     "name": "stderr",
     "output_type": "stream",
     "text": [
      "[I 2024-12-26 02:13:50,786] Trial 198 finished with value: 0.11822864693801814 and parameters: {'topK': 4, 'shrink': 23.851405322614536, 'feature_weighting': 'none', 'normalize': False, 'tversky_alpha': 0.34044905766457567, 'tversky_beta': 1.5781961780000402}. Best is trial 74 with value: 0.11869598801026732.\n"
     ]
    },
    {
     "name": "stdout",
     "output_type": "stream",
     "text": [
      "Similarity column 38121 (100.0%), 1591.43 column/sec. Elapsed time 23.95 sec\n",
      "EvaluatorHoldout: Processed 34728 (100.0%) in 8.36 sec. Users per second: 4152\n"
     ]
    },
    {
     "name": "stderr",
     "output_type": "stream",
     "text": [
      "[I 2024-12-26 02:14:23,225] Trial 199 finished with value: 0.11720964796277122 and parameters: {'topK': 3, 'shrink': 24.423364189702355, 'feature_weighting': 'none', 'normalize': False, 'tversky_alpha': 0.2744880010727749, 'tversky_beta': 1.619321318928892}. Best is trial 74 with value: 0.11869598801026732.\n"
     ]
    },
    {
     "name": "stdout",
     "output_type": "stream",
     "text": [
      "Similarity column 38121 (100.0%), 5119.35 column/sec. Elapsed time 7.45 sec\n",
      "EvaluatorHoldout: Processed 34728 (100.0%) in 8.57 sec. Users per second: 4053\n"
     ]
    },
    {
     "name": "stderr",
     "output_type": "stream",
     "text": [
      "[I 2024-12-26 02:14:39,356] Trial 200 finished with value: 0.11833254185111315 and parameters: {'topK': 8, 'shrink': 23.125766311254353, 'feature_weighting': 'none', 'normalize': False, 'tversky_alpha': 0.3078354084281733, 'tversky_beta': 1.5652960044456656}. Best is trial 74 with value: 0.11869598801026732.\n"
     ]
    },
    {
     "name": "stdout",
     "output_type": "stream",
     "text": [
      "Similarity column 38121 (100.0%), 5165.55 column/sec. Elapsed time 7.38 sec\n",
      "EvaluatorHoldout: Processed 34728 (100.0%) in 8.56 sec. Users per second: 4057\n"
     ]
    },
    {
     "name": "stderr",
     "output_type": "stream",
     "text": [
      "[I 2024-12-26 02:14:55,411] Trial 201 finished with value: 0.11863836315216236 and parameters: {'topK': 5, 'shrink': 22.366455237331202, 'feature_weighting': 'none', 'normalize': False, 'tversky_alpha': 0.28123600950454564, 'tversky_beta': 1.6588720899375393}. Best is trial 74 with value: 0.11869598801026732.\n"
     ]
    },
    {
     "name": "stdout",
     "output_type": "stream",
     "text": [
      "Similarity column 38121 (100.0%), 5180.86 column/sec. Elapsed time 7.36 sec\n",
      "EvaluatorHoldout: Processed 34728 (100.0%) in 8.50 sec. Users per second: 4086\n"
     ]
    },
    {
     "name": "stderr",
     "output_type": "stream",
     "text": [
      "[I 2024-12-26 02:15:11,383] Trial 202 finished with value: 0.11859357297091802 and parameters: {'topK': 5, 'shrink': 22.03104211133445, 'feature_weighting': 'none', 'normalize': False, 'tversky_alpha': 0.2904004766022619, 'tversky_beta': 1.7030481714824406}. Best is trial 74 with value: 0.11869598801026732.\n"
     ]
    },
    {
     "name": "stdout",
     "output_type": "stream",
     "text": [
      "Similarity column 38121 (100.0%), 5171.79 column/sec. Elapsed time 7.37 sec\n",
      "EvaluatorHoldout: Processed 34728 (100.0%) in 8.48 sec. Users per second: 4097\n"
     ]
    },
    {
     "name": "stderr",
     "output_type": "stream",
     "text": [
      "[I 2024-12-26 02:15:27,348] Trial 203 finished with value: 0.11854727689489643 and parameters: {'topK': 4, 'shrink': 22.127436366490773, 'feature_weighting': 'none', 'normalize': False, 'tversky_alpha': 0.2876033050930427, 'tversky_beta': 1.641715349593872}. Best is trial 74 with value: 0.11869598801026732.\n"
     ]
    },
    {
     "name": "stdout",
     "output_type": "stream",
     "text": [
      "Similarity column 38121 (100.0%), 5180.92 column/sec. Elapsed time 7.36 sec\n",
      "EvaluatorHoldout: Processed 34728 (100.0%) in 8.58 sec. Users per second: 4050\n"
     ]
    },
    {
     "name": "stderr",
     "output_type": "stream",
     "text": [
      "[I 2024-12-26 02:15:43,401] Trial 204 finished with value: 0.11845867812336326 and parameters: {'topK': 6, 'shrink': 22.021342262387492, 'feature_weighting': 'none', 'normalize': False, 'tversky_alpha': 0.2846308079400534, 'tversky_beta': 1.6939281369432628}. Best is trial 74 with value: 0.11869598801026732.\n"
     ]
    },
    {
     "name": "stdout",
     "output_type": "stream",
     "text": [
      "Similarity column 38121 (100.0%), 5145.40 column/sec. Elapsed time 7.41 sec\n",
      "EvaluatorHoldout: Processed 34728 (100.0%) in 8.44 sec. Users per second: 4114\n"
     ]
    },
    {
     "name": "stderr",
     "output_type": "stream",
     "text": [
      "[I 2024-12-26 02:15:59,369] Trial 205 finished with value: 0.11870552861454274 and parameters: {'topK': 5, 'shrink': 21.50550108177907, 'feature_weighting': 'none', 'normalize': False, 'tversky_alpha': 0.2825748219750581, 'tversky_beta': 1.7142521924242735}. Best is trial 205 with value: 0.11870552861454274.\n"
     ]
    },
    {
     "name": "stdout",
     "output_type": "stream",
     "text": [
      "Similarity column 38121 (100.0%), 5093.16 column/sec. Elapsed time 7.48 sec\n",
      "EvaluatorHoldout: Processed 34728 (100.0%) in 8.41 sec. Users per second: 4128\n"
     ]
    },
    {
     "name": "stderr",
     "output_type": "stream",
     "text": [
      "[I 2024-12-26 02:16:15,408] Trial 206 finished with value: 0.10770896983047863 and parameters: {'topK': 7, 'shrink': 21.458298383877256, 'feature_weighting': 'BM25', 'normalize': False, 'tversky_alpha': 0.3053853308099185, 'tversky_beta': 1.6457611647640384}. Best is trial 205 with value: 0.11870552861454274.\n"
     ]
    },
    {
     "name": "stdout",
     "output_type": "stream",
     "text": [
      "Similarity column 38121 (100.0%), 5155.40 column/sec. Elapsed time 7.39 sec\n",
      "EvaluatorHoldout: Processed 34728 (100.0%) in 8.50 sec. Users per second: 4084\n"
     ]
    },
    {
     "name": "stderr",
     "output_type": "stream",
     "text": [
      "[I 2024-12-26 02:16:31,421] Trial 207 finished with value: 0.11813579675650512 and parameters: {'topK': 6, 'shrink': 21.922243648057457, 'feature_weighting': 'none', 'normalize': False, 'tversky_alpha': 0.33163579202517557, 'tversky_beta': 1.7276850717259835}. Best is trial 205 with value: 0.11870552861454274.\n"
     ]
    },
    {
     "name": "stdout",
     "output_type": "stream",
     "text": [
      "Similarity column 38121 (100.0%), 5149.27 column/sec. Elapsed time 7.40 sec\n",
      "EvaluatorHoldout: Processed 34728 (100.0%) in 8.37 sec. Users per second: 4150\n"
     ]
    },
    {
     "name": "stderr",
     "output_type": "stream",
     "text": [
      "[I 2024-12-26 02:16:47,308] Trial 208 finished with value: 0.11861888525567549 and parameters: {'topK': 5, 'shrink': 22.456176100515496, 'feature_weighting': 'none', 'normalize': False, 'tversky_alpha': 0.29192283265509567, 'tversky_beta': 1.6734735865156014}. Best is trial 205 with value: 0.11870552861454274.\n"
     ]
    },
    {
     "name": "stdout",
     "output_type": "stream",
     "text": [
      "Similarity column 38121 (100.0%), 5109.46 column/sec. Elapsed time 7.46 sec\n",
      "EvaluatorHoldout: Processed 34728 (100.0%) in 8.42 sec. Users per second: 4123\n"
     ]
    },
    {
     "name": "stderr",
     "output_type": "stream",
     "text": [
      "[I 2024-12-26 02:17:03,307] Trial 209 finished with value: 0.1184434500872785 and parameters: {'topK': 5, 'shrink': 21.337280615831098, 'feature_weighting': 'none', 'normalize': False, 'tversky_alpha': 0.2403330642233168, 'tversky_beta': 1.597771095109743}. Best is trial 205 with value: 0.11870552861454274.\n"
     ]
    },
    {
     "name": "stdout",
     "output_type": "stream",
     "text": [
      "Similarity column 38121 (100.0%), 5112.93 column/sec. Elapsed time 7.46 sec\n",
      "EvaluatorHoldout: Processed 34728 (100.0%) in 8.50 sec. Users per second: 4087\n"
     ]
    },
    {
     "name": "stderr",
     "output_type": "stream",
     "text": [
      "[I 2024-12-26 02:17:19,377] Trial 210 finished with value: 0.11796519936156803 and parameters: {'topK': 8, 'shrink': 13.613496618068016, 'feature_weighting': 'none', 'normalize': True, 'tversky_alpha': 0.26593464186952304, 'tversky_beta': 1.7291349313047943}. Best is trial 205 with value: 0.11870552861454274.\n"
     ]
    },
    {
     "name": "stdout",
     "output_type": "stream",
     "text": [
      "Similarity column 38121 (100.0%), 5158.82 column/sec. Elapsed time 7.39 sec\n",
      "EvaluatorHoldout: Processed 34728 (100.0%) in 8.46 sec. Users per second: 4105\n"
     ]
    },
    {
     "name": "stderr",
     "output_type": "stream",
     "text": [
      "[I 2024-12-26 02:17:35,342] Trial 211 finished with value: 0.11847822979616628 and parameters: {'topK': 5, 'shrink': 22.30060418132733, 'feature_weighting': 'none', 'normalize': False, 'tversky_alpha': 0.30200988075594914, 'tversky_beta': 1.6743891140800833}. Best is trial 205 with value: 0.11870552861454274.\n"
     ]
    },
    {
     "name": "stdout",
     "output_type": "stream",
     "text": [
      "Similarity column 38121 (100.0%), 5178.39 column/sec. Elapsed time 7.36 sec\n",
      "EvaluatorHoldout: Processed 34728 (100.0%) in 8.44 sec. Users per second: 4116\n"
     ]
    },
    {
     "name": "stderr",
     "output_type": "stream",
     "text": [
      "[I 2024-12-26 02:17:51,257] Trial 212 finished with value: 0.11842187219214789 and parameters: {'topK': 4, 'shrink': 21.954825727595725, 'feature_weighting': 'none', 'normalize': False, 'tversky_alpha': 0.28285572391750935, 'tversky_beta': 1.6420370256272019}. Best is trial 205 with value: 0.11870552861454274.\n"
     ]
    },
    {
     "name": "stdout",
     "output_type": "stream",
     "text": [
      "Similarity column 38121 (100.0%), 5186.51 column/sec. Elapsed time 7.35 sec\n",
      "EvaluatorHoldout: Processed 34728 (100.0%) in 8.57 sec. Users per second: 4054\n"
     ]
    },
    {
     "name": "stderr",
     "output_type": "stream",
     "text": [
      "[I 2024-12-26 02:18:07,289] Trial 213 finished with value: 0.11840873768956912 and parameters: {'topK': 6, 'shrink': 22.450633176263633, 'feature_weighting': 'none', 'normalize': False, 'tversky_alpha': 0.31950546538520547, 'tversky_beta': 1.6984439016651462}. Best is trial 205 with value: 0.11870552861454274.\n"
     ]
    },
    {
     "name": "stdout",
     "output_type": "stream",
     "text": [
      "Similarity column 38121 (100.0%), 1616.97 column/sec. Elapsed time 23.58 sec\n",
      "EvaluatorHoldout: Processed 34728 (100.0%) in 8.40 sec. Users per second: 4134\n"
     ]
    },
    {
     "name": "stderr",
     "output_type": "stream",
     "text": [
      "[I 2024-12-26 02:18:39,380] Trial 214 finished with value: 0.11724387612467449 and parameters: {'topK': 3, 'shrink': 21.17123539311549, 'feature_weighting': 'none', 'normalize': False, 'tversky_alpha': 0.28839380341056603, 'tversky_beta': 1.615201625339591}. Best is trial 205 with value: 0.11870552861454274.\n"
     ]
    },
    {
     "name": "stdout",
     "output_type": "stream",
     "text": [
      "Similarity column 38121 (100.0%), 5179.69 column/sec. Elapsed time 7.36 sec\n",
      "EvaluatorHoldout: Processed 34728 (100.0%) in 8.47 sec. Users per second: 4100\n"
     ]
    },
    {
     "name": "stderr",
     "output_type": "stream",
     "text": [
      "[I 2024-12-26 02:18:55,330] Trial 215 finished with value: 0.11843501281650477 and parameters: {'topK': 5, 'shrink': 21.81014295127415, 'feature_weighting': 'none', 'normalize': False, 'tversky_alpha': 0.2961357576281061, 'tversky_beta': 1.1255362934506263}. Best is trial 205 with value: 0.11870552861454274.\n"
     ]
    },
    {
     "name": "stdout",
     "output_type": "stream",
     "text": [
      "Similarity column 38121 (100.0%), 5191.66 column/sec. Elapsed time 7.34 sec\n",
      "EvaluatorHoldout: Processed 34728 (100.0%) in 8.36 sec. Users per second: 4154\n"
     ]
    },
    {
     "name": "stderr",
     "output_type": "stream",
     "text": [
      "[I 2024-12-26 02:19:11,149] Trial 216 finished with value: 0.11562263141921583 and parameters: {'topK': 4, 'shrink': 4.843273170531818, 'feature_weighting': 'none', 'normalize': False, 'tversky_alpha': 0.7589004690495207, 'tversky_beta': 1.7583539752164792}. Best is trial 205 with value: 0.11870552861454274.\n"
     ]
    },
    {
     "name": "stdout",
     "output_type": "stream",
     "text": [
      "Similarity column 38121 (100.0%), 5117.77 column/sec. Elapsed time 7.45 sec\n",
      "EvaluatorHoldout: Processed 34728 (100.0%) in 8.52 sec. Users per second: 4076\n"
     ]
    },
    {
     "name": "stderr",
     "output_type": "stream",
     "text": [
      "[I 2024-12-26 02:19:27,235] Trial 217 finished with value: 0.11821250143135725 and parameters: {'topK': 7, 'shrink': 22.56169980506897, 'feature_weighting': 'none', 'normalize': False, 'tversky_alpha': 0.26563830546686873, 'tversky_beta': 1.6631248470432964}. Best is trial 205 with value: 0.11870552861454274.\n"
     ]
    },
    {
     "name": "stdout",
     "output_type": "stream",
     "text": [
      "Similarity column 38121 (100.0%), 1595.20 column/sec. Elapsed time 23.90 sec\n",
      "EvaluatorHoldout: Processed 34728 (100.0%) in 8.38 sec. Users per second: 4145\n"
     ]
    },
    {
     "name": "stderr",
     "output_type": "stream",
     "text": [
      "[I 2024-12-26 02:19:59,626] Trial 218 finished with value: 0.11665407074116065 and parameters: {'topK': 3, 'shrink': 22.962279415900596, 'feature_weighting': 'none', 'normalize': False, 'tversky_alpha': 0.5804270521710968, 'tversky_beta': 1.7044110351891482}. Best is trial 205 with value: 0.11870552861454274.\n"
     ]
    },
    {
     "name": "stdout",
     "output_type": "stream",
     "text": [
      "Similarity column 38121 (100.0%), 5149.68 column/sec. Elapsed time 7.40 sec\n",
      "EvaluatorHoldout: Processed 34728 (100.0%) in 9.55 sec. Users per second: 3635\n"
     ]
    },
    {
     "name": "stderr",
     "output_type": "stream",
     "text": [
      "[I 2024-12-26 02:20:16,711] Trial 219 finished with value: 0.11204336610357991 and parameters: {'topK': 47, 'shrink': 21.536361121392765, 'feature_weighting': 'none', 'normalize': False, 'tversky_alpha': 0.33925516851360804, 'tversky_beta': 1.5656812066335175}. Best is trial 205 with value: 0.11870552861454274.\n"
     ]
    },
    {
     "name": "stdout",
     "output_type": "stream",
     "text": [
      "Similarity column 38121 (100.0%), 5131.37 column/sec. Elapsed time 7.43 sec\n",
      "EvaluatorHoldout: Processed 34728 (100.0%) in 8.55 sec. Users per second: 4062\n"
     ]
    },
    {
     "name": "stderr",
     "output_type": "stream",
     "text": [
      "[I 2024-12-26 02:20:32,806] Trial 220 finished with value: 0.11823924042612842 and parameters: {'topK': 6, 'shrink': 22.217756176889164, 'feature_weighting': 'none', 'normalize': False, 'tversky_alpha': 0.2275891237805074, 'tversky_beta': 1.7885363600298418}. Best is trial 205 with value: 0.11870552861454274.\n"
     ]
    },
    {
     "name": "stdout",
     "output_type": "stream",
     "text": [
      "Similarity column 38121 (100.0%), 5157.65 column/sec. Elapsed time 7.39 sec\n",
      "EvaluatorHoldout: Processed 34728 (100.0%) in 8.47 sec. Users per second: 4100\n"
     ]
    },
    {
     "name": "stderr",
     "output_type": "stream",
     "text": [
      "[I 2024-12-26 02:20:48,783] Trial 221 finished with value: 0.11854283785709432 and parameters: {'topK': 5, 'shrink': 23.881939606320184, 'feature_weighting': 'none', 'normalize': False, 'tversky_alpha': 0.27733111886636347, 'tversky_beta': 1.695915302167232}. Best is trial 205 with value: 0.11870552861454274.\n"
     ]
    },
    {
     "name": "stdout",
     "output_type": "stream",
     "text": [
      "Similarity column 38121 (100.0%), 5153.28 column/sec. Elapsed time 7.40 sec\n",
      "EvaluatorHoldout: Processed 34728 (100.0%) in 8.47 sec. Users per second: 4098\n"
     ]
    },
    {
     "name": "stderr",
     "output_type": "stream",
     "text": [
      "[I 2024-12-26 02:21:04,771] Trial 222 finished with value: 0.11749210148483587 and parameters: {'topK': 5, 'shrink': 23.436498434658322, 'feature_weighting': 'none', 'normalize': False, 'tversky_alpha': 0.2819623421406747, 'tversky_beta': 0.9402666059715404}. Best is trial 205 with value: 0.11870552861454274.\n"
     ]
    },
    {
     "name": "stdout",
     "output_type": "stream",
     "text": [
      "Similarity column 38121 (100.0%), 5179.27 column/sec. Elapsed time 7.36 sec\n",
      "EvaluatorHoldout: Processed 34728 (100.0%) in 8.49 sec. Users per second: 4089\n"
     ]
    },
    {
     "name": "stderr",
     "output_type": "stream",
     "text": [
      "[I 2024-12-26 02:21:20,742] Trial 223 finished with value: 0.1182118687945396 and parameters: {'topK': 6, 'shrink': 22.87890805143039, 'feature_weighting': 'none', 'normalize': False, 'tversky_alpha': 0.3121625953673031, 'tversky_beta': 1.7348727833016169}. Best is trial 205 with value: 0.11870552861454274.\n"
     ]
    },
    {
     "name": "stdout",
     "output_type": "stream",
     "text": [
      "Similarity column 38121 (100.0%), 5178.11 column/sec. Elapsed time 7.36 sec\n",
      "EvaluatorHoldout: Processed 34728 (100.0%) in 8.47 sec. Users per second: 4099\n"
     ]
    },
    {
     "name": "stderr",
     "output_type": "stream",
     "text": [
      "[I 2024-12-26 02:21:36,691] Trial 224 finished with value: 0.11850478009921755 and parameters: {'topK': 5, 'shrink': 23.199536010378868, 'feature_weighting': 'none', 'normalize': False, 'tversky_alpha': 0.2500305219504761, 'tversky_beta': 1.6801316528658488}. Best is trial 205 with value: 0.11870552861454274.\n"
     ]
    },
    {
     "name": "stdout",
     "output_type": "stream",
     "text": [
      "Similarity column 38121 (100.0%), 5180.18 column/sec. Elapsed time 7.36 sec\n",
      "EvaluatorHoldout: Processed 34728 (100.0%) in 8.39 sec. Users per second: 4139\n"
     ]
    },
    {
     "name": "stderr",
     "output_type": "stream",
     "text": [
      "[I 2024-12-26 02:21:52,558] Trial 225 finished with value: 0.11845603317641668 and parameters: {'topK': 4, 'shrink': 23.851913769883364, 'feature_weighting': 'none', 'normalize': False, 'tversky_alpha': 0.29486142908081325, 'tversky_beta': 1.6524459256278847}. Best is trial 205 with value: 0.11870552861454274.\n"
     ]
    },
    {
     "name": "stdout",
     "output_type": "stream",
     "text": [
      "Similarity column 38121 (100.0%), 5186.04 column/sec. Elapsed time 7.35 sec\n",
      "EvaluatorHoldout: Processed 34728 (100.0%) in 8.45 sec. Users per second: 4111\n"
     ]
    },
    {
     "name": "stderr",
     "output_type": "stream",
     "text": [
      "[I 2024-12-26 02:22:08,474] Trial 226 finished with value: 0.11839097883514176 and parameters: {'topK': 4, 'shrink': 21.05796418907733, 'feature_weighting': 'none', 'normalize': False, 'tversky_alpha': 0.27095018885367117, 'tversky_beta': 1.7183039090575696}. Best is trial 205 with value: 0.11870552861454274.\n"
     ]
    },
    {
     "name": "stdout",
     "output_type": "stream",
     "text": [
      "Similarity column 38121 (100.0%), 5160.49 column/sec. Elapsed time 7.39 sec\n",
      "EvaluatorHoldout: Processed 34728 (100.0%) in 8.43 sec. Users per second: 4119\n"
     ]
    },
    {
     "name": "stderr",
     "output_type": "stream",
     "text": [
      "[I 2024-12-26 02:22:24,433] Trial 227 finished with value: 0.10845230780662038 and parameters: {'topK': 5, 'shrink': 22.401299498339895, 'feature_weighting': 'BM25', 'normalize': False, 'tversky_alpha': 0.31110613509059265, 'tversky_beta': 1.5044929634307176}. Best is trial 205 with value: 0.11870552861454274.\n"
     ]
    },
    {
     "name": "stdout",
     "output_type": "stream",
     "text": [
      "Similarity column 38121 (100.0%), 2239.30 column/sec. Elapsed time 17.02 sec\n",
      "EvaluatorHoldout: Processed 34728 (100.0%) in 8.34 sec. Users per second: 4166\n"
     ]
    },
    {
     "name": "stderr",
     "output_type": "stream",
     "text": [
      "[I 2024-12-26 02:22:49,909] Trial 228 finished with value: 0.11462764377767647 and parameters: {'topK': 2, 'shrink': 23.446878908349884, 'feature_weighting': 'none', 'normalize': False, 'tversky_alpha': 0.32725316867636256, 'tversky_beta': 1.5984220394020112}. Best is trial 205 with value: 0.11870552861454274.\n"
     ]
    },
    {
     "name": "stdout",
     "output_type": "stream",
     "text": [
      "Similarity column 38121 (100.0%), 5166.54 column/sec. Elapsed time 7.38 sec\n",
      "EvaluatorHoldout: Processed 34728 (100.0%) in 8.57 sec. Users per second: 4054\n"
     ]
    },
    {
     "name": "stderr",
     "output_type": "stream",
     "text": [
      "[I 2024-12-26 02:23:05,972] Trial 229 finished with value: 0.11803545839116387 and parameters: {'topK': 7, 'shrink': 21.765508516260685, 'feature_weighting': 'none', 'normalize': False, 'tversky_alpha': 0.2927217672759203, 'tversky_beta': 1.6857761647360583}. Best is trial 205 with value: 0.11870552861454274.\n"
     ]
    },
    {
     "name": "stdout",
     "output_type": "stream",
     "text": [
      "Similarity column 38121 (100.0%), 1602.79 column/sec. Elapsed time 23.78 sec\n",
      "EvaluatorHoldout: Processed 34728 (100.0%) in 8.33 sec. Users per second: 4168\n"
     ]
    },
    {
     "name": "stderr",
     "output_type": "stream",
     "text": [
      "[I 2024-12-26 02:23:38,203] Trial 230 finished with value: 0.11706916198680666 and parameters: {'topK': 3, 'shrink': 22.80717552735985, 'feature_weighting': 'none', 'normalize': False, 'tversky_alpha': 0.1492802072856421, 'tversky_beta': 1.7521843173544125}. Best is trial 205 with value: 0.11870552861454274.\n"
     ]
    },
    {
     "name": "stdout",
     "output_type": "stream",
     "text": [
      "Similarity column 38121 (100.0%), 5125.24 column/sec. Elapsed time 7.44 sec\n",
      "EvaluatorHoldout: Processed 34728 (100.0%) in 8.39 sec. Users per second: 4141\n"
     ]
    },
    {
     "name": "stderr",
     "output_type": "stream",
     "text": [
      "[I 2024-12-26 02:23:54,143] Trial 231 finished with value: 0.11851575812174088 and parameters: {'topK': 4, 'shrink': 23.670714415026506, 'feature_weighting': 'none', 'normalize': False, 'tversky_alpha': 0.2825198314750609, 'tversky_beta': 1.7052176818105542}. Best is trial 205 with value: 0.11870552861454274.\n"
     ]
    },
    {
     "name": "stdout",
     "output_type": "stream",
     "text": [
      "Similarity column 38121 (100.0%), 5111.19 column/sec. Elapsed time 7.46 sec\n",
      "EvaluatorHoldout: Processed 34728 (100.0%) in 8.42 sec. Users per second: 4122\n"
     ]
    },
    {
     "name": "stderr",
     "output_type": "stream",
     "text": [
      "[I 2024-12-26 02:24:10,142] Trial 232 finished with value: 0.11846119129341122 and parameters: {'topK': 6, 'shrink': 24.131983771388963, 'feature_weighting': 'none', 'normalize': False, 'tversky_alpha': 0.2659472535410954, 'tversky_beta': 1.6359737683618372}. Best is trial 205 with value: 0.11870552861454274.\n"
     ]
    },
    {
     "name": "stdout",
     "output_type": "stream",
     "text": [
      "Similarity column 38121 (100.0%), 5136.53 column/sec. Elapsed time 7.42 sec\n",
      "EvaluatorHoldout: Processed 34728 (100.0%) in 8.47 sec. Users per second: 4100\n"
     ]
    },
    {
     "name": "stderr",
     "output_type": "stream",
     "text": [
      "[I 2024-12-26 02:24:26,151] Trial 233 finished with value: 0.11856726338399447 and parameters: {'topK': 5, 'shrink': 23.764855113400735, 'feature_weighting': 'none', 'normalize': False, 'tversky_alpha': 0.28120096198179745, 'tversky_beta': 1.6909183159245658}. Best is trial 205 with value: 0.11870552861454274.\n"
     ]
    },
    {
     "name": "stdout",
     "output_type": "stream",
     "text": [
      "Similarity column 38121 (100.0%), 5117.64 column/sec. Elapsed time 7.45 sec\n",
      "EvaluatorHoldout: Processed 34728 (100.0%) in 8.38 sec. Users per second: 4144\n"
     ]
    },
    {
     "name": "stderr",
     "output_type": "stream",
     "text": [
      "[I 2024-12-26 02:24:42,098] Trial 234 finished with value: 0.11851046094190337 and parameters: {'topK': 5, 'shrink': 23.163527098054875, 'feature_weighting': 'none', 'normalize': False, 'tversky_alpha': 0.3007606204479322, 'tversky_beta': 1.6658373478089044}. Best is trial 205 with value: 0.11870552861454274.\n"
     ]
    },
    {
     "name": "stdout",
     "output_type": "stream",
     "text": [
      "Similarity column 38121 (100.0%), 5151.30 column/sec. Elapsed time 7.40 sec\n",
      "EvaluatorHoldout: Processed 34728 (100.0%) in 8.52 sec. Users per second: 4078\n"
     ]
    },
    {
     "name": "stderr",
     "output_type": "stream",
     "text": [
      "[I 2024-12-26 02:24:58,130] Trial 235 finished with value: 0.11845335809046129 and parameters: {'topK': 6, 'shrink': 24.241168740301593, 'feature_weighting': 'none', 'normalize': False, 'tversky_alpha': 0.2492585426039075, 'tversky_beta': 1.7370497904613693}. Best is trial 205 with value: 0.11870552861454274.\n"
     ]
    },
    {
     "name": "stdout",
     "output_type": "stream",
     "text": [
      "Similarity column 38121 (100.0%), 5137.42 column/sec. Elapsed time 7.42 sec\n",
      "EvaluatorHoldout: Processed 34728 (100.0%) in 8.54 sec. Users per second: 4066\n"
     ]
    },
    {
     "name": "stderr",
     "output_type": "stream",
     "text": [
      "[I 2024-12-26 02:25:14,212] Trial 236 finished with value: 0.11849109508026656 and parameters: {'topK': 5, 'shrink': 22.376433208740632, 'feature_weighting': 'none', 'normalize': False, 'tversky_alpha': 0.32045345877963166, 'tversky_beta': 1.6330672469853138}. Best is trial 205 with value: 0.11870552861454274.\n"
     ]
    },
    {
     "name": "stdout",
     "output_type": "stream",
     "text": [
      "Similarity column 38121 (100.0%), 5136.27 column/sec. Elapsed time 7.42 sec\n",
      "EvaluatorHoldout: Processed 34728 (100.0%) in 8.55 sec. Users per second: 4064\n"
     ]
    },
    {
     "name": "stderr",
     "output_type": "stream",
     "text": [
      "[I 2024-12-26 02:25:30,296] Trial 237 finished with value: 0.11837668950615252 and parameters: {'topK': 7, 'shrink': 23.598428606584005, 'feature_weighting': 'none', 'normalize': False, 'tversky_alpha': 0.26826646662567405, 'tversky_beta': 1.6894430470145656}. Best is trial 205 with value: 0.11870552861454274.\n"
     ]
    },
    {
     "name": "stdout",
     "output_type": "stream",
     "text": [
      "Similarity column 38121 (100.0%), 1599.14 column/sec. Elapsed time 23.84 sec\n",
      "EvaluatorHoldout: Processed 34728 (100.0%) in 8.35 sec. Users per second: 4157\n"
     ]
    },
    {
     "name": "stderr",
     "output_type": "stream",
     "text": [
      "[I 2024-12-26 02:26:02,604] Trial 238 finished with value: 0.1171150811358152 and parameters: {'topK': 3, 'shrink': 22.702938116485583, 'feature_weighting': 'none', 'normalize': False, 'tversky_alpha': 0.20173623212135422, 'tversky_beta': 1.7874353819159141}. Best is trial 205 with value: 0.11870552861454274.\n"
     ]
    },
    {
     "name": "stdout",
     "output_type": "stream",
     "text": [
      "Similarity column 38121 (100.0%), 5154.65 column/sec. Elapsed time 7.40 sec\n",
      "EvaluatorHoldout: Processed 34728 (100.0%) in 8.45 sec. Users per second: 4111\n"
     ]
    },
    {
     "name": "stderr",
     "output_type": "stream",
     "text": [
      "[I 2024-12-26 02:26:18,563] Trial 239 finished with value: 0.11830039336220265 and parameters: {'topK': 5, 'shrink': 24.577760901478353, 'feature_weighting': 'none', 'normalize': False, 'tversky_alpha': 0.5225792999371078, 'tversky_beta': 1.7604304919931002}. Best is trial 205 with value: 0.11870552861454274.\n"
     ]
    },
    {
     "name": "stdout",
     "output_type": "stream",
     "text": [
      "Similarity column 38121 (100.0%), 5096.23 column/sec. Elapsed time 7.48 sec\n",
      "EvaluatorHoldout: Processed 34728 (100.0%) in 8.34 sec. Users per second: 4164\n"
     ]
    },
    {
     "name": "stderr",
     "output_type": "stream",
     "text": [
      "[I 2024-12-26 02:26:34,506] Trial 240 finished with value: 0.11837818955040094 and parameters: {'topK': 4, 'shrink': 21.956216524865333, 'feature_weighting': 'none', 'normalize': False, 'tversky_alpha': 0.28575257491945183, 'tversky_beta': 1.7124375560610676}. Best is trial 205 with value: 0.11870552861454274.\n"
     ]
    },
    {
     "name": "stdout",
     "output_type": "stream",
     "text": [
      "Similarity column 38121 (100.0%), 5090.11 column/sec. Elapsed time 7.49 sec\n",
      "EvaluatorHoldout: Processed 34728 (100.0%) in 8.41 sec. Users per second: 4131\n"
     ]
    },
    {
     "name": "stderr",
     "output_type": "stream",
     "text": [
      "[I 2024-12-26 02:26:50,517] Trial 241 finished with value: 0.11856961255033807 and parameters: {'topK': 4, 'shrink': 23.929944689602873, 'feature_weighting': 'none', 'normalize': False, 'tversky_alpha': 0.27566852054147656, 'tversky_beta': 1.6780150058419392}. Best is trial 205 with value: 0.11870552861454274.\n"
     ]
    },
    {
     "name": "stdout",
     "output_type": "stream",
     "text": [
      "Similarity column 38121 (100.0%), 5117.95 column/sec. Elapsed time 7.45 sec\n",
      "EvaluatorHoldout: Processed 34728 (100.0%) in 8.36 sec. Users per second: 4152\n"
     ]
    },
    {
     "name": "stderr",
     "output_type": "stream",
     "text": [
      "[I 2024-12-26 02:27:06,446] Trial 242 finished with value: 0.11854343373257693 and parameters: {'topK': 4, 'shrink': 24.15869568200455, 'feature_weighting': 'none', 'normalize': False, 'tversky_alpha': 0.29847600982702976, 'tversky_beta': 1.6604771778889986}. Best is trial 205 with value: 0.11870552861454274.\n"
     ]
    },
    {
     "name": "stdout",
     "output_type": "stream",
     "text": [
      "Similarity column 38121 (100.0%), 5160.36 column/sec. Elapsed time 7.39 sec\n",
      "EvaluatorHoldout: Processed 34728 (100.0%) in 8.42 sec. Users per second: 4124\n"
     ]
    },
    {
     "name": "stderr",
     "output_type": "stream",
     "text": [
      "[I 2024-12-26 02:27:22,370] Trial 243 finished with value: 0.11850650585146748 and parameters: {'topK': 4, 'shrink': 24.263996932681763, 'feature_weighting': 'none', 'normalize': False, 'tversky_alpha': 0.30609067631234893, 'tversky_beta': 1.6560799006512374}. Best is trial 205 with value: 0.11870552861454274.\n"
     ]
    },
    {
     "name": "stdout",
     "output_type": "stream",
     "text": [
      "Similarity column 38121 (100.0%), 1601.77 column/sec. Elapsed time 23.80 sec\n",
      "EvaluatorHoldout: Processed 34728 (100.0%) in 8.43 sec. Users per second: 4117\n"
     ]
    },
    {
     "name": "stderr",
     "output_type": "stream",
     "text": [
      "[I 2024-12-26 02:27:54,721] Trial 244 finished with value: 0.11702281483041965 and parameters: {'topK': 3, 'shrink': 23.050241343553598, 'feature_weighting': 'none', 'normalize': False, 'tversky_alpha': 0.32069229587139253, 'tversky_beta': 1.6079462301305165}. Best is trial 205 with value: 0.11870552861454274.\n"
     ]
    },
    {
     "name": "stdout",
     "output_type": "stream",
     "text": [
      "Similarity column 38121 (100.0%), 5151.84 column/sec. Elapsed time 7.40 sec\n",
      "EvaluatorHoldout: Processed 34728 (100.0%) in 8.55 sec. Users per second: 4062\n"
     ]
    },
    {
     "name": "stderr",
     "output_type": "stream",
     "text": [
      "[I 2024-12-26 02:28:10,786] Trial 245 finished with value: 0.11839381560067672 and parameters: {'topK': 6, 'shrink': 23.444983628584346, 'feature_weighting': 'none', 'normalize': False, 'tversky_alpha': 0.1717890577371359, 'tversky_beta': 1.6601025491053867}. Best is trial 205 with value: 0.11870552861454274.\n"
     ]
    },
    {
     "name": "stdout",
     "output_type": "stream",
     "text": [
      "Similarity column 38121 (100.0%), 5187.79 column/sec. Elapsed time 7.35 sec\n",
      "EvaluatorHoldout: Processed 34728 (100.0%) in 8.50 sec. Users per second: 4086\n"
     ]
    },
    {
     "name": "stderr",
     "output_type": "stream",
     "text": [
      "[I 2024-12-26 02:28:26,752] Trial 246 finished with value: 0.11859083025821755 and parameters: {'topK': 5, 'shrink': 23.939603341468857, 'feature_weighting': 'none', 'normalize': False, 'tversky_alpha': 0.29723549851611625, 'tversky_beta': 1.727826653622943}. Best is trial 205 with value: 0.11870552861454274.\n"
     ]
    },
    {
     "name": "stdout",
     "output_type": "stream",
     "text": [
      "Similarity column 38121 (100.0%), 5192.42 column/sec. Elapsed time 7.34 sec\n",
      "EvaluatorHoldout: Processed 34728 (100.0%) in 8.48 sec. Users per second: 4096\n"
     ]
    },
    {
     "name": "stderr",
     "output_type": "stream",
     "text": [
      "[I 2024-12-26 02:28:42,688] Trial 247 finished with value: 0.11850420431780503 and parameters: {'topK': 5, 'shrink': 21.464946212187517, 'feature_weighting': 'none', 'normalize': False, 'tversky_alpha': 0.3365581365922268, 'tversky_beta': 1.7376042313034616}. Best is trial 205 with value: 0.11870552861454274.\n"
     ]
    },
    {
     "name": "stdout",
     "output_type": "stream",
     "text": [
      "Similarity column 38121 (100.0%), 5171.08 column/sec. Elapsed time 7.37 sec\n",
      "EvaluatorHoldout: Processed 34728 (100.0%) in 8.46 sec. Users per second: 4104\n"
     ]
    },
    {
     "name": "stderr",
     "output_type": "stream",
     "text": [
      "[I 2024-12-26 02:28:58,642] Trial 248 finished with value: 0.11836712369745084 and parameters: {'topK': 6, 'shrink': 23.338297796888284, 'feature_weighting': 'none', 'normalize': True, 'tversky_alpha': 0.2612765633728026, 'tversky_beta': 1.8191766205754416}. Best is trial 205 with value: 0.11870552861454274.\n"
     ]
    },
    {
     "name": "stdout",
     "output_type": "stream",
     "text": [
      "Similarity column 38121 (100.0%), 5070.46 column/sec. Elapsed time 7.52 sec\n",
      "EvaluatorHoldout: Processed 34728 (100.0%) in 8.58 sec. Users per second: 4045\n"
     ]
    },
    {
     "name": "stderr",
     "output_type": "stream",
     "text": [
      "[I 2024-12-26 02:29:14,864] Trial 249 finished with value: 0.11830893177828648 and parameters: {'topK': 6, 'shrink': 20.613082495739082, 'feature_weighting': 'none', 'normalize': False, 'tversky_alpha': 0.23592770342500993, 'tversky_beta': 1.767349728027248}. Best is trial 205 with value: 0.11870552861454274.\n"
     ]
    },
    {
     "name": "stdout",
     "output_type": "stream",
     "text": [
      "Similarity column 38121 (100.0%), 5103.71 column/sec. Elapsed time 7.47 sec\n",
      "EvaluatorHoldout: Processed 34728 (100.0%) in 8.39 sec. Users per second: 4138\n"
     ]
    },
    {
     "name": "stderr",
     "output_type": "stream",
     "text": [
      "[I 2024-12-26 02:29:30,843] Trial 250 finished with value: 0.11840301425511324 and parameters: {'topK': 4, 'shrink': 22.269170503160897, 'feature_weighting': 'none', 'normalize': False, 'tversky_alpha': 0.3057268832737168, 'tversky_beta': 1.712324159667122}. Best is trial 205 with value: 0.11870552861454274.\n"
     ]
    },
    {
     "name": "stdout",
     "output_type": "stream",
     "text": [
      "Similarity column 38121 (100.0%), 5139.64 column/sec. Elapsed time 7.42 sec\n",
      "EvaluatorHoldout: Processed 34728 (100.0%) in 8.57 sec. Users per second: 4054\n"
     ]
    },
    {
     "name": "stderr",
     "output_type": "stream",
     "text": [
      "[I 2024-12-26 02:29:46,942] Trial 251 finished with value: 0.11802537031226687 and parameters: {'topK': 7, 'shrink': 24.921094102093775, 'feature_weighting': 'none', 'normalize': False, 'tversky_alpha': 0.28535270432877324, 'tversky_beta': 1.6194523462793964}. Best is trial 205 with value: 0.11870552861454274.\n"
     ]
    },
    {
     "name": "stdout",
     "output_type": "stream",
     "text": [
      "Similarity column 38121 (100.0%), 5139.93 column/sec. Elapsed time 7.42 sec\n",
      "EvaluatorHoldout: Processed 34728 (100.0%) in 8.48 sec. Users per second: 4095\n"
     ]
    },
    {
     "name": "stderr",
     "output_type": "stream",
     "text": [
      "[I 2024-12-26 02:30:02,956] Trial 252 finished with value: 0.11855522153720356 and parameters: {'topK': 5, 'shrink': 22.701304179082644, 'feature_weighting': 'none', 'normalize': False, 'tversky_alpha': 0.3529848630021646, 'tversky_beta': 1.7319186736666992}. Best is trial 205 with value: 0.11870552861454274.\n"
     ]
    },
    {
     "name": "stdout",
     "output_type": "stream",
     "text": [
      "Similarity column 38121 (100.0%), 5159.74 column/sec. Elapsed time 7.39 sec\n",
      "EvaluatorHoldout: Processed 34728 (100.0%) in 8.44 sec. Users per second: 4113\n"
     ]
    },
    {
     "name": "stderr",
     "output_type": "stream",
     "text": [
      "[I 2024-12-26 02:30:18,931] Trial 253 finished with value: 0.1082185233691834 and parameters: {'topK': 5, 'shrink': 23.788079816442767, 'feature_weighting': 'BM25', 'normalize': False, 'tversky_alpha': 0.36197861987954333, 'tversky_beta': 1.7373450382478894}. Best is trial 205 with value: 0.11870552861454274.\n"
     ]
    },
    {
     "name": "stdout",
     "output_type": "stream",
     "text": [
      "Similarity column 38121 (100.0%), 5149.37 column/sec. Elapsed time 7.40 sec\n",
      "EvaluatorHoldout: Processed 34728 (100.0%) in 8.49 sec. Users per second: 4089\n"
     ]
    },
    {
     "name": "stderr",
     "output_type": "stream",
     "text": [
      "[I 2024-12-26 02:30:34,943] Trial 254 finished with value: 0.11828832940849592 and parameters: {'topK': 6, 'shrink': 15.59292175324613, 'feature_weighting': 'none', 'normalize': False, 'tversky_alpha': 0.3462917431747642, 'tversky_beta': 1.7795404519805986}. Best is trial 205 with value: 0.11870552861454274.\n"
     ]
    },
    {
     "name": "stdout",
     "output_type": "stream",
     "text": [
      "Similarity column 38121 (100.0%), 5172.38 column/sec. Elapsed time 7.37 sec\n",
      "EvaluatorHoldout: Processed 34728 (100.0%) in 8.53 sec. Users per second: 4070\n"
     ]
    },
    {
     "name": "stderr",
     "output_type": "stream",
     "text": [
      "[I 2024-12-26 02:30:50,964] Trial 255 finished with value: 0.11844311191583705 and parameters: {'topK': 6, 'shrink': 23.11221853551896, 'feature_weighting': 'none', 'normalize': False, 'tversky_alpha': 0.32886856996125735, 'tversky_beta': 1.7168856519497218}. Best is trial 205 with value: 0.11870552861454274.\n"
     ]
    },
    {
     "name": "stdout",
     "output_type": "stream",
     "text": [
      "Similarity column 38121 (100.0%), 1600.60 column/sec. Elapsed time 23.82 sec\n",
      "EvaluatorHoldout: Processed 34728 (100.0%) in 8.34 sec. Users per second: 4164\n"
     ]
    },
    {
     "name": "stderr",
     "output_type": "stream",
     "text": [
      "[I 2024-12-26 02:31:23,244] Trial 256 finished with value: 0.11717123957033877 and parameters: {'topK': 3, 'shrink': 22.672972057417635, 'feature_weighting': 'none', 'normalize': False, 'tversky_alpha': 0.31549098240477297, 'tversky_beta': 1.811825193164598}. Best is trial 205 with value: 0.11870552861454274.\n"
     ]
    },
    {
     "name": "stdout",
     "output_type": "stream",
     "text": [
      "Similarity column 38121 (100.0%), 5133.27 column/sec. Elapsed time 7.43 sec\n",
      "EvaluatorHoldout: Processed 34728 (100.0%) in 8.46 sec. Users per second: 4106\n"
     ]
    },
    {
     "name": "stderr",
     "output_type": "stream",
     "text": [
      "[I 2024-12-26 02:31:39,249] Trial 257 finished with value: 0.11827888476336082 and parameters: {'topK': 8, 'shrink': 23.903050903080217, 'feature_weighting': 'none', 'normalize': False, 'tversky_alpha': 0.34760678380769405, 'tversky_beta': 1.6838197316676895}. Best is trial 205 with value: 0.11870552861454274.\n"
     ]
    },
    {
     "name": "stdout",
     "output_type": "stream",
     "text": [
      "Similarity column 38121 (100.0%), 5166.26 column/sec. Elapsed time 7.38 sec\n",
      "EvaluatorHoldout: Processed 34728 (100.0%) in 8.48 sec. Users per second: 4096\n"
     ]
    },
    {
     "name": "stderr",
     "output_type": "stream",
     "text": [
      "[I 2024-12-26 02:31:55,222] Trial 258 finished with value: 0.11860919914828298 and parameters: {'topK': 5, 'shrink': 24.494563019382202, 'feature_weighting': 'none', 'normalize': False, 'tversky_alpha': 0.37411038724310375, 'tversky_beta': 1.7662684291686266}. Best is trial 205 with value: 0.11870552861454274.\n"
     ]
    },
    {
     "name": "stdout",
     "output_type": "stream",
     "text": [
      "Similarity column 38121 (100.0%), 2239.47 column/sec. Elapsed time 17.02 sec\n",
      "EvaluatorHoldout: Processed 34728 (100.0%) in 8.39 sec. Users per second: 4139\n"
     ]
    },
    {
     "name": "stderr",
     "output_type": "stream",
     "text": [
      "[I 2024-12-26 02:32:20,753] Trial 259 finished with value: 0.11459832575677734 and parameters: {'topK': 2, 'shrink': 24.389864363781435, 'feature_weighting': 'none', 'normalize': False, 'tversky_alpha': 0.33639285141960895, 'tversky_beta': 1.7613585678537105}. Best is trial 205 with value: 0.11870552861454274.\n"
     ]
    },
    {
     "name": "stdout",
     "output_type": "stream",
     "text": [
      "Similarity column 38121 (100.0%), 5091.67 column/sec. Elapsed time 7.49 sec\n",
      "EvaluatorHoldout: Processed 34728 (100.0%) in 8.37 sec. Users per second: 4147\n"
     ]
    },
    {
     "name": "stderr",
     "output_type": "stream",
     "text": [
      "[I 2024-12-26 02:32:36,732] Trial 260 finished with value: 0.1186353985278368 and parameters: {'topK': 5, 'shrink': 24.972010291961137, 'feature_weighting': 'none', 'normalize': False, 'tversky_alpha': 0.38176350653973457, 'tversky_beta': 1.8256083573159356}. Best is trial 205 with value: 0.11870552861454274.\n"
     ]
    },
    {
     "name": "stdout",
     "output_type": "stream",
     "text": [
      "Similarity column 38121 (100.0%), 5106.89 column/sec. Elapsed time 7.46 sec\n",
      "EvaluatorHoldout: Processed 34728 (100.0%) in 8.40 sec. Users per second: 4136\n"
     ]
    },
    {
     "name": "stderr",
     "output_type": "stream",
     "text": [
      "[I 2024-12-26 02:32:52,712] Trial 261 finished with value: 0.11867676140690685 and parameters: {'topK': 5, 'shrink': 24.68374666763153, 'feature_weighting': 'none', 'normalize': False, 'tversky_alpha': 0.40974217863433243, 'tversky_beta': 1.830864483185849}. Best is trial 205 with value: 0.11870552861454274.\n"
     ]
    },
    {
     "name": "stdout",
     "output_type": "stream",
     "text": [
      "Similarity column 38121 (100.0%), 5115.11 column/sec. Elapsed time 7.45 sec\n",
      "EvaluatorHoldout: Processed 34728 (100.0%) in 8.42 sec. Users per second: 4125\n"
     ]
    },
    {
     "name": "stderr",
     "output_type": "stream",
     "text": [
      "[I 2024-12-26 02:33:08,700] Trial 262 finished with value: 0.11823013782971159 and parameters: {'topK': 4, 'shrink': 24.9488469481441, 'feature_weighting': 'none', 'normalize': False, 'tversky_alpha': 0.3916525355288034, 'tversky_beta': 1.8951250737871417}. Best is trial 205 with value: 0.11870552861454274.\n"
     ]
    },
    {
     "name": "stdout",
     "output_type": "stream",
     "text": [
      "Similarity column 38121 (100.0%), 5162.31 column/sec. Elapsed time 7.38 sec\n",
      "EvaluatorHoldout: Processed 34728 (100.0%) in 8.53 sec. Users per second: 4072\n"
     ]
    },
    {
     "name": "stderr",
     "output_type": "stream",
     "text": [
      "[I 2024-12-26 02:33:24,730] Trial 263 finished with value: 0.11794247723786863 and parameters: {'topK': 7, 'shrink': 24.566643099785637, 'feature_weighting': 'none', 'normalize': False, 'tversky_alpha': 0.4049121799295765, 'tversky_beta': 1.8727422385544643}. Best is trial 205 with value: 0.11870552861454274.\n"
     ]
    },
    {
     "name": "stdout",
     "output_type": "stream",
     "text": [
      "Similarity column 38121 (100.0%), 1596.85 column/sec. Elapsed time 23.87 sec\n",
      "EvaluatorHoldout: Processed 34728 (100.0%) in 8.47 sec. Users per second: 4102\n"
     ]
    },
    {
     "name": "stderr",
     "output_type": "stream",
     "text": [
      "[I 2024-12-26 02:33:57,183] Trial 264 finished with value: 0.11717846353913967 and parameters: {'topK': 3, 'shrink': 24.963959749847227, 'feature_weighting': 'none', 'normalize': False, 'tversky_alpha': 0.3699725276087196, 'tversky_beta': 1.8471179021300372}. Best is trial 205 with value: 0.11870552861454274.\n"
     ]
    },
    {
     "name": "stdout",
     "output_type": "stream",
     "text": [
      "Similarity column 38121 (100.0%), 5155.18 column/sec. Elapsed time 7.39 sec\n",
      "EvaluatorHoldout: Processed 34728 (100.0%) in 9.35 sec. Users per second: 3714\n"
     ]
    },
    {
     "name": "stderr",
     "output_type": "stream",
     "text": [
      "[I 2024-12-26 02:34:14,054] Trial 265 finished with value: 0.1133252343954677 and parameters: {'topK': 35, 'shrink': 24.381816906845337, 'feature_weighting': 'none', 'normalize': False, 'tversky_alpha': 0.426778065936984, 'tversky_beta': 1.8213066310678283}. Best is trial 205 with value: 0.11870552861454274.\n"
     ]
    },
    {
     "name": "stdout",
     "output_type": "stream",
     "text": [
      "Similarity column 38121 (100.0%), 5165.19 column/sec. Elapsed time 7.38 sec\n",
      "EvaluatorHoldout: Processed 34728 (100.0%) in 8.76 sec. Users per second: 3966\n"
     ]
    },
    {
     "name": "stderr",
     "output_type": "stream",
     "text": [
      "[I 2024-12-26 02:34:30,317] Trial 266 finished with value: 0.11701620624519285 and parameters: {'topK': 15, 'shrink': 24.034031150309143, 'feature_weighting': 'none', 'normalize': False, 'tversky_alpha': 0.361547665585515, 'tversky_beta': 1.8106198714298487}. Best is trial 205 with value: 0.11870552861454274.\n"
     ]
    },
    {
     "name": "stdout",
     "output_type": "stream",
     "text": [
      "Similarity column 38121 (100.0%), 5092.76 column/sec. Elapsed time 7.49 sec\n",
      "EvaluatorHoldout: Processed 34728 (100.0%) in 8.45 sec. Users per second: 4110\n"
     ]
    },
    {
     "name": "stderr",
     "output_type": "stream",
     "text": [
      "[I 2024-12-26 02:34:46,372] Trial 267 finished with value: 0.11842475284732427 and parameters: {'topK': 5, 'shrink': 24.590028841646912, 'feature_weighting': 'none', 'normalize': False, 'tversky_alpha': 0.25336602842232714, 'tversky_beta': 1.798607086900371}. Best is trial 205 with value: 0.11870552861454274.\n"
     ]
    },
    {
     "name": "stdout",
     "output_type": "stream",
     "text": [
      "Similarity column 38121 (100.0%), 5133.03 column/sec. Elapsed time 7.43 sec\n",
      "EvaluatorHoldout: Processed 34728 (100.0%) in 8.46 sec. Users per second: 4106\n"
     ]
    },
    {
     "name": "stderr",
     "output_type": "stream",
     "text": [
      "[I 2024-12-26 02:35:02,373] Trial 268 finished with value: 0.11866594869196702 and parameters: {'topK': 5, 'shrink': 24.54210766497931, 'feature_weighting': 'none', 'normalize': True, 'tversky_alpha': 0.4528129054897269, 'tversky_beta': 1.839790327775967}. Best is trial 205 with value: 0.11870552861454274.\n"
     ]
    },
    {
     "name": "stdout",
     "output_type": "stream",
     "text": [
      "Similarity column 38121 (100.0%), 5116.91 column/sec. Elapsed time 7.45 sec\n",
      "EvaluatorHoldout: Processed 34728 (100.0%) in 8.47 sec. Users per second: 4100\n"
     ]
    },
    {
     "name": "stderr",
     "output_type": "stream",
     "text": [
      "[I 2024-12-26 02:35:18,410] Trial 269 finished with value: 0.11790302791083523 and parameters: {'topK': 4, 'shrink': 24.414490615145727, 'feature_weighting': 'none', 'normalize': True, 'tversky_alpha': 0.4553244732677878, 'tversky_beta': 1.8642436457380263}. Best is trial 205 with value: 0.11870552861454274.\n"
     ]
    },
    {
     "name": "stdout",
     "output_type": "stream",
     "text": [
      "Similarity column 38121 (100.0%), 5137.82 column/sec. Elapsed time 7.42 sec\n",
      "EvaluatorHoldout: Processed 34728 (100.0%) in 9.06 sec. Users per second: 3835\n"
     ]
    },
    {
     "name": "stderr",
     "output_type": "stream",
     "text": [
      "[I 2024-12-26 02:35:35,006] Trial 270 finished with value: 0.1142291091050784 and parameters: {'topK': 25, 'shrink': 24.893930970391438, 'feature_weighting': 'none', 'normalize': True, 'tversky_alpha': 0.4816314694389045, 'tversky_beta': 1.8131435323170186}. Best is trial 205 with value: 0.11870552861454274.\n"
     ]
    },
    {
     "name": "stdout",
     "output_type": "stream",
     "text": [
      "Similarity column 38121 (100.0%), 5174.60 column/sec. Elapsed time 7.37 sec\n",
      "EvaluatorHoldout: Processed 34728 (100.0%) in 8.39 sec. Users per second: 4140\n"
     ]
    },
    {
     "name": "stderr",
     "output_type": "stream",
     "text": [
      "[I 2024-12-26 02:35:50,881] Trial 271 finished with value: 0.11822920122203891 and parameters: {'topK': 4, 'shrink': 24.11123037770806, 'feature_weighting': 'none', 'normalize': True, 'tversky_alpha': 0.38092528264106856, 'tversky_beta': 1.845292794175039}. Best is trial 205 with value: 0.11870552861454274.\n"
     ]
    },
    {
     "name": "stdout",
     "output_type": "stream",
     "text": [
      "Similarity column 38121 (100.0%), 5164.67 column/sec. Elapsed time 7.38 sec\n",
      "EvaluatorHoldout: Processed 34728 (100.0%) in 8.38 sec. Users per second: 4146\n"
     ]
    },
    {
     "name": "stderr",
     "output_type": "stream",
     "text": [
      "[I 2024-12-26 02:36:06,757] Trial 272 finished with value: 0.11865195153525254 and parameters: {'topK': 5, 'shrink': 24.953396554768354, 'feature_weighting': 'none', 'normalize': True, 'tversky_alpha': 0.4346272944633651, 'tversky_beta': 1.8420049158525975}. Best is trial 205 with value: 0.11870552861454274.\n"
     ]
    },
    {
     "name": "stdout",
     "output_type": "stream",
     "text": [
      "Similarity column 38121 (100.0%), 1593.06 column/sec. Elapsed time 23.93 sec\n",
      "EvaluatorHoldout: Processed 34728 (100.0%) in 8.40 sec. Users per second: 4135\n"
     ]
    },
    {
     "name": "stderr",
     "output_type": "stream",
     "text": [
      "[I 2024-12-26 02:36:39,207] Trial 273 finished with value: 0.11719231383359244 and parameters: {'topK': 3, 'shrink': 24.94478728031509, 'feature_weighting': 'none', 'normalize': True, 'tversky_alpha': 0.43441280604113297, 'tversky_beta': 1.8553080590642383}. Best is trial 205 with value: 0.11870552861454274.\n"
     ]
    },
    {
     "name": "stdout",
     "output_type": "stream",
     "text": [
      "Similarity column 38121 (100.0%), 5158.61 column/sec. Elapsed time 7.39 sec\n",
      "EvaluatorHoldout: Processed 34728 (100.0%) in 8.50 sec. Users per second: 4087\n"
     ]
    },
    {
     "name": "stderr",
     "output_type": "stream",
     "text": [
      "[I 2024-12-26 02:36:55,211] Trial 274 finished with value: 0.11857028788785025 and parameters: {'topK': 5, 'shrink': 24.49444839434548, 'feature_weighting': 'none', 'normalize': True, 'tversky_alpha': 0.45938726017720133, 'tversky_beta': 1.8332199058825238}. Best is trial 205 with value: 0.11870552861454274.\n"
     ]
    },
    {
     "name": "stdout",
     "output_type": "stream",
     "text": [
      "Similarity column 38121 (100.0%), 5172.99 column/sec. Elapsed time 7.37 sec\n",
      "EvaluatorHoldout: Processed 34728 (100.0%) in 8.53 sec. Users per second: 4070\n"
     ]
    },
    {
     "name": "stderr",
     "output_type": "stream",
     "text": [
      "[I 2024-12-26 02:37:11,256] Trial 275 finished with value: 0.10812580224808266 and parameters: {'topK': 6, 'shrink': 24.577037818194803, 'feature_weighting': 'BM25', 'normalize': True, 'tversky_alpha': 0.451590389325695, 'tversky_beta': 1.8393588287603602}. Best is trial 205 with value: 0.11870552861454274.\n"
     ]
    },
    {
     "name": "stdout",
     "output_type": "stream",
     "text": [
      "Similarity column 38121 (100.0%), 2251.82 column/sec. Elapsed time 16.93 sec\n",
      "EvaluatorHoldout: Processed 34728 (100.0%) in 8.39 sec. Users per second: 4139\n"
     ]
    },
    {
     "name": "stderr",
     "output_type": "stream",
     "text": [
      "[I 2024-12-26 02:37:36,697] Trial 276 finished with value: 0.11451699308405426 and parameters: {'topK': 2, 'shrink': 24.381147593866846, 'feature_weighting': 'none', 'normalize': True, 'tversky_alpha': 0.42632672022615753, 'tversky_beta': 1.858416049481695}. Best is trial 205 with value: 0.11870552861454274.\n"
     ]
    },
    {
     "name": "stdout",
     "output_type": "stream",
     "text": [
      "Similarity column 38121 (100.0%), 5127.56 column/sec. Elapsed time 7.43 sec\n",
      "EvaluatorHoldout: Processed 34728 (100.0%) in 8.37 sec. Users per second: 4148\n"
     ]
    },
    {
     "name": "stderr",
     "output_type": "stream",
     "text": [
      "[I 2024-12-26 02:37:52,633] Trial 277 finished with value: 0.11781825313154275 and parameters: {'topK': 4, 'shrink': 23.922158824005002, 'feature_weighting': 'none', 'normalize': True, 'tversky_alpha': 0.47082999872717884, 'tversky_beta': 1.8957879172830605}. Best is trial 205 with value: 0.11870552861454274.\n"
     ]
    },
    {
     "name": "stdout",
     "output_type": "stream",
     "text": [
      "Similarity column 38121 (100.0%), 5162.20 column/sec. Elapsed time 7.38 sec\n",
      "EvaluatorHoldout: Processed 34728 (100.0%) in 8.49 sec. Users per second: 4090\n"
     ]
    },
    {
     "name": "stderr",
     "output_type": "stream",
     "text": [
      "[I 2024-12-26 02:38:08,627] Trial 278 finished with value: 0.11860119756807963 and parameters: {'topK': 5, 'shrink': 23.629032057809866, 'feature_weighting': 'none', 'normalize': True, 'tversky_alpha': 0.4331359082190645, 'tversky_beta': 1.7854773456057076}. Best is trial 205 with value: 0.11870552861454274.\n"
     ]
    },
    {
     "name": "stdout",
     "output_type": "stream",
     "text": [
      "Similarity column 38121 (100.0%), 5154.22 column/sec. Elapsed time 7.40 sec\n",
      "EvaluatorHoldout: Processed 34728 (100.0%) in 8.56 sec. Users per second: 4059\n"
     ]
    },
    {
     "name": "stderr",
     "output_type": "stream",
     "text": [
      "[I 2024-12-26 02:38:24,699] Trial 279 finished with value: 0.11808495153348678 and parameters: {'topK': 7, 'shrink': 23.33998424879441, 'feature_weighting': 'none', 'normalize': True, 'tversky_alpha': 0.4439851128459675, 'tversky_beta': 1.7908506084915594}. Best is trial 205 with value: 0.11870552861454274.\n"
     ]
    },
    {
     "name": "stdout",
     "output_type": "stream",
     "text": [
      "Similarity column 38121 (100.0%), 5161.46 column/sec. Elapsed time 7.39 sec\n",
      "EvaluatorHoldout: Processed 34728 (100.0%) in 8.53 sec. Users per second: 4069\n"
     ]
    },
    {
     "name": "stderr",
     "output_type": "stream",
     "text": [
      "[I 2024-12-26 02:38:40,737] Trial 280 finished with value: 0.11809009872585984 and parameters: {'topK': 7, 'shrink': 23.56724984181063, 'feature_weighting': 'none', 'normalize': True, 'tversky_alpha': 0.41673888779161367, 'tversky_beta': 1.8263539740462662}. Best is trial 205 with value: 0.11870552861454274.\n"
     ]
    },
    {
     "name": "stdout",
     "output_type": "stream",
     "text": [
      "Similarity column 38121 (100.0%), 5187.37 column/sec. Elapsed time 7.35 sec\n",
      "EvaluatorHoldout: Processed 34728 (100.0%) in 8.48 sec. Users per second: 4095\n"
     ]
    },
    {
     "name": "stderr",
     "output_type": "stream",
     "text": [
      "[I 2024-12-26 02:38:56,684] Trial 281 finished with value: 0.11874846200526792 and parameters: {'topK': 5, 'shrink': 24.383722796914824, 'feature_weighting': 'none', 'normalize': True, 'tversky_alpha': 0.40575001000578736, 'tversky_beta': 1.8237069903942442}. Best is trial 281 with value: 0.11874846200526792.\n"
     ]
    },
    {
     "name": "stdout",
     "output_type": "stream",
     "text": [
      "Similarity column 38121 (100.0%), 5167.33 column/sec. Elapsed time 7.38 sec\n",
      "EvaluatorHoldout: Processed 34728 (100.0%) in 8.49 sec. Users per second: 4089\n"
     ]
    },
    {
     "name": "stderr",
     "output_type": "stream",
     "text": [
      "[I 2024-12-26 02:39:12,670] Trial 282 finished with value: 0.11845123671512169 and parameters: {'topK': 6, 'shrink': 21.106906992231757, 'feature_weighting': 'none', 'normalize': True, 'tversky_alpha': 0.40273625508707506, 'tversky_beta': 1.7786517933226091}. Best is trial 281 with value: 0.11874846200526792.\n"
     ]
    },
    {
     "name": "stdout",
     "output_type": "stream",
     "text": [
      "Similarity column 38121 (100.0%), 5163.51 column/sec. Elapsed time 7.38 sec\n",
      "EvaluatorHoldout: Processed 34728 (100.0%) in 8.49 sec. Users per second: 4092\n"
     ]
    },
    {
     "name": "stderr",
     "output_type": "stream",
     "text": [
      "[I 2024-12-26 02:39:28,659] Trial 283 finished with value: 0.11861370481001247 and parameters: {'topK': 5, 'shrink': 24.20065199903172, 'feature_weighting': 'none', 'normalize': True, 'tversky_alpha': 0.39863867802341046, 'tversky_beta': 1.7857296307149935}. Best is trial 281 with value: 0.11874846200526792.\n"
     ]
    },
    {
     "name": "stdout",
     "output_type": "stream",
     "text": [
      "Similarity column 38121 (100.0%), 5123.68 column/sec. Elapsed time 7.44 sec\n",
      "EvaluatorHoldout: Processed 34728 (100.0%) in 8.44 sec. Users per second: 4116\n"
     ]
    },
    {
     "name": "stderr",
     "output_type": "stream",
     "text": [
      "[I 2024-12-26 02:39:44,655] Trial 284 finished with value: 0.11830355838055097 and parameters: {'topK': 5, 'shrink': 24.179951469672723, 'feature_weighting': 'none', 'normalize': True, 'tversky_alpha': 0.4961658660004805, 'tversky_beta': 1.796649988971594}. Best is trial 281 with value: 0.11874846200526792.\n"
     ]
    },
    {
     "name": "stdout",
     "output_type": "stream",
     "text": [
      "Similarity column 38121 (100.0%), 1594.46 column/sec. Elapsed time 23.91 sec\n",
      "EvaluatorHoldout: Processed 34728 (100.0%) in 8.41 sec. Users per second: 4130\n"
     ]
    },
    {
     "name": "stderr",
     "output_type": "stream",
     "text": [
      "[I 2024-12-26 02:40:17,090] Trial 285 finished with value: 0.11718080835981615 and parameters: {'topK': 3, 'shrink': 23.51750400407164, 'feature_weighting': 'none', 'normalize': True, 'tversky_alpha': 0.3912511953630877, 'tversky_beta': 1.8270172587277653}. Best is trial 281 with value: 0.11874846200526792.\n"
     ]
    },
    {
     "name": "stdout",
     "output_type": "stream",
     "text": [
      "Similarity column 38121 (100.0%), 5151.17 column/sec. Elapsed time 7.40 sec\n",
      "EvaluatorHoldout: Processed 34728 (100.0%) in 8.48 sec. Users per second: 4095\n"
     ]
    },
    {
     "name": "stderr",
     "output_type": "stream",
     "text": [
      "[I 2024-12-26 02:40:33,090] Trial 286 finished with value: 0.11803969576876477 and parameters: {'topK': 7, 'shrink': 24.608818671346825, 'feature_weighting': 'none', 'normalize': True, 'tversky_alpha': 0.3835010290016957, 'tversky_beta': 1.8973857346283913}. Best is trial 281 with value: 0.11874846200526792.\n"
     ]
    },
    {
     "name": "stdout",
     "output_type": "stream",
     "text": [
      "Similarity column 38121 (100.0%), 5151.58 column/sec. Elapsed time 7.40 sec\n",
      "EvaluatorHoldout: Processed 34728 (100.0%) in 8.52 sec. Users per second: 4076\n"
     ]
    },
    {
     "name": "stderr",
     "output_type": "stream",
     "text": [
      "[I 2024-12-26 02:40:49,129] Trial 287 finished with value: 0.11866400993438656 and parameters: {'topK': 5, 'shrink': 24.05553357597374, 'feature_weighting': 'none', 'normalize': True, 'tversky_alpha': 0.406145425273688, 'tversky_beta': 1.7823226744238008}. Best is trial 281 with value: 0.11874846200526792.\n"
     ]
    },
    {
     "name": "stdout",
     "output_type": "stream",
     "text": [
      "Similarity column 38121 (100.0%), 5141.46 column/sec. Elapsed time 7.41 sec\n",
      "EvaluatorHoldout: Processed 34728 (100.0%) in 8.53 sec. Users per second: 4073\n"
     ]
    },
    {
     "name": "stderr",
     "output_type": "stream",
     "text": [
      "[I 2024-12-26 02:41:05,188] Trial 288 finished with value: 0.11832526161497374 and parameters: {'topK': 6, 'shrink': 24.980952088402095, 'feature_weighting': 'none', 'normalize': True, 'tversky_alpha': 0.4305369660077232, 'tversky_beta': 1.7802117183326738}. Best is trial 281 with value: 0.11874846200526792.\n"
     ]
    },
    {
     "name": "stdout",
     "output_type": "stream",
     "text": [
      "Similarity column 38121 (100.0%), 5148.17 column/sec. Elapsed time 7.40 sec\n",
      "EvaluatorHoldout: Processed 34728 (100.0%) in 8.42 sec. Users per second: 4123\n"
     ]
    },
    {
     "name": "stderr",
     "output_type": "stream",
     "text": [
      "[I 2024-12-26 02:41:21,133] Trial 289 finished with value: 0.11790656417790858 and parameters: {'topK': 4, 'shrink': 24.10884603987343, 'feature_weighting': 'none', 'normalize': True, 'tversky_alpha': 0.41553686664248723, 'tversky_beta': 1.7702490031940188}. Best is trial 281 with value: 0.11874846200526792.\n"
     ]
    },
    {
     "name": "stdout",
     "output_type": "stream",
     "text": [
      "Similarity column 38121 (100.0%), 5093.99 column/sec. Elapsed time 7.48 sec\n",
      "EvaluatorHoldout: Processed 34728 (100.0%) in 8.45 sec. Users per second: 4111\n"
     ]
    },
    {
     "name": "stderr",
     "output_type": "stream",
     "text": [
      "[I 2024-12-26 02:41:37,183] Trial 290 finished with value: 0.11765088820539552 and parameters: {'topK': 8, 'shrink': 11.650696345835827, 'feature_weighting': 'none', 'normalize': True, 'tversky_alpha': 0.4202711669887126, 'tversky_beta': 1.8117161301947367}. Best is trial 281 with value: 0.11874846200526792.\n"
     ]
    },
    {
     "name": "stdout",
     "output_type": "stream",
     "text": [
      "Similarity column 38121 (100.0%), 5168.39 column/sec. Elapsed time 7.38 sec\n",
      "EvaluatorHoldout: Processed 34728 (100.0%) in 8.54 sec. Users per second: 4065\n"
     ]
    },
    {
     "name": "stderr",
     "output_type": "stream",
     "text": [
      "[I 2024-12-26 02:41:53,225] Trial 291 finished with value: 0.11859667915791934 and parameters: {'topK': 5, 'shrink': 23.680865089740795, 'feature_weighting': 'none', 'normalize': True, 'tversky_alpha': 0.4101912685503652, 'tversky_beta': 1.8381319603300124}. Best is trial 281 with value: 0.11874846200526792.\n"
     ]
    },
    {
     "name": "stdout",
     "output_type": "stream",
     "text": [
      "Similarity column 38121 (100.0%), 5160.11 column/sec. Elapsed time 7.39 sec\n",
      "EvaluatorHoldout: Processed 34728 (100.0%) in 8.44 sec. Users per second: 4112\n"
     ]
    },
    {
     "name": "stderr",
     "output_type": "stream",
     "text": [
      "[I 2024-12-26 02:42:09,173] Trial 292 finished with value: 0.11803711923998572 and parameters: {'topK': 4, 'shrink': 23.539469097608475, 'feature_weighting': 'none', 'normalize': True, 'tversky_alpha': 0.4013470800297422, 'tversky_beta': 1.8641796747247883}. Best is trial 281 with value: 0.11874846200526792.\n"
     ]
    },
    {
     "name": "stdout",
     "output_type": "stream",
     "text": [
      "Similarity column 38121 (100.0%), 1601.18 column/sec. Elapsed time 23.81 sec\n",
      "EvaluatorHoldout: Processed 34728 (100.0%) in 8.39 sec. Users per second: 4141\n"
     ]
    },
    {
     "name": "stderr",
     "output_type": "stream",
     "text": [
      "[I 2024-12-26 02:42:41,487] Trial 293 finished with value: 0.11715725455028694 and parameters: {'topK': 3, 'shrink': 23.033945780256378, 'feature_weighting': 'none', 'normalize': True, 'tversky_alpha': 0.4035652615072279, 'tversky_beta': 1.8581754889276114}. Best is trial 281 with value: 0.11874846200526792.\n"
     ]
    },
    {
     "name": "stdout",
     "output_type": "stream",
     "text": [
      "Similarity column 38121 (100.0%), 5136.59 column/sec. Elapsed time 7.42 sec\n",
      "EvaluatorHoldout: Processed 34728 (100.0%) in 8.41 sec. Users per second: 4129\n"
     ]
    },
    {
     "name": "stderr",
     "output_type": "stream",
     "text": [
      "[I 2024-12-26 02:42:57,437] Trial 294 finished with value: 0.11821019994695896 and parameters: {'topK': 6, 'shrink': 24.42804848476511, 'feature_weighting': 'none', 'normalize': True, 'tversky_alpha': 0.38390671182864533, 'tversky_beta': 1.8234752481827352}. Best is trial 281 with value: 0.11874846200526792.\n"
     ]
    },
    {
     "name": "stdout",
     "output_type": "stream",
     "text": [
      "Similarity column 38121 (100.0%), 5117.65 column/sec. Elapsed time 7.45 sec\n",
      "EvaluatorHoldout: Processed 34728 (100.0%) in 8.43 sec. Users per second: 4119\n"
     ]
    },
    {
     "name": "stderr",
     "output_type": "stream",
     "text": [
      "[I 2024-12-26 02:43:13,436] Trial 295 finished with value: 0.11859240379519223 and parameters: {'topK': 5, 'shrink': 23.655317147792456, 'feature_weighting': 'none', 'normalize': True, 'tversky_alpha': 0.4344393634606451, 'tversky_beta': 1.7860544107959953}. Best is trial 281 with value: 0.11874846200526792.\n"
     ]
    },
    {
     "name": "stdout",
     "output_type": "stream",
     "text": [
      "Similarity column 38121 (100.0%), 5131.41 column/sec. Elapsed time 7.43 sec\n",
      "EvaluatorHoldout: Processed 34728 (100.0%) in 8.90 sec. Users per second: 3902\n"
     ]
    },
    {
     "name": "stderr",
     "output_type": "stream",
     "text": [
      "[I 2024-12-26 02:43:29,886] Trial 296 finished with value: 0.11493775957379206 and parameters: {'topK': 21, 'shrink': 23.072383639422622, 'feature_weighting': 'none', 'normalize': True, 'tversky_alpha': 0.41589255630667077, 'tversky_beta': 1.8723797786553174}. Best is trial 281 with value: 0.11874846200526792.\n"
     ]
    },
    {
     "name": "stdout",
     "output_type": "stream",
     "text": [
      "Similarity column 38121 (100.0%), 5180.63 column/sec. Elapsed time 7.36 sec\n",
      "EvaluatorHoldout: Processed 34728 (100.0%) in 8.37 sec. Users per second: 4148\n"
     ]
    },
    {
     "name": "stderr",
     "output_type": "stream",
     "text": [
      "[I 2024-12-26 02:43:45,735] Trial 297 finished with value: 0.11817717698318105 and parameters: {'topK': 7, 'shrink': 24.46880829493233, 'feature_weighting': 'none', 'normalize': True, 'tversky_alpha': 0.37612389154718695, 'tversky_beta': 1.7669348345377238}. Best is trial 281 with value: 0.11874846200526792.\n"
     ]
    },
    {
     "name": "stdout",
     "output_type": "stream",
     "text": [
      "Similarity column 38121 (100.0%), 5174.69 column/sec. Elapsed time 7.37 sec\n",
      "EvaluatorHoldout: Processed 34728 (100.0%) in 8.30 sec. Users per second: 4182\n"
     ]
    },
    {
     "name": "stderr",
     "output_type": "stream",
     "text": [
      "[I 2024-12-26 02:44:01,524] Trial 298 finished with value: 0.11799996786199435 and parameters: {'topK': 4, 'shrink': 23.936886624031395, 'feature_weighting': 'none', 'normalize': True, 'tversky_alpha': 0.40074675847933255, 'tversky_beta': 1.8219950565085818}. Best is trial 281 with value: 0.11874846200526792.\n"
     ]
    },
    {
     "name": "stdout",
     "output_type": "stream",
     "text": [
      "Similarity column 38121 (100.0%), 2255.47 column/sec. Elapsed time 16.90 sec\n",
      "EvaluatorHoldout: Processed 34728 (100.0%) in 8.17 sec. Users per second: 4252\n"
     ]
    },
    {
     "name": "stderr",
     "output_type": "stream",
     "text": [
      "[I 2024-12-26 02:44:26,733] Trial 299 finished with value: 0.1053020609566503 and parameters: {'topK': 2, 'shrink': 23.36926434595165, 'feature_weighting': 'BM25', 'normalize': True, 'tversky_alpha': 0.4446501192231614, 'tversky_beta': 1.7900112624690105}. Best is trial 281 with value: 0.11874846200526792.\n"
     ]
    },
    {
     "name": "stdout",
     "output_type": "stream",
     "text": [
      "Similarity column 38121 (100.0%), 5188.38 column/sec. Elapsed time 7.35 sec\n",
      "EvaluatorHoldout: Processed 34728 (100.0%) in 8.36 sec. Users per second: 4152\n"
     ]
    },
    {
     "name": "stderr",
     "output_type": "stream",
     "text": [
      "[I 2024-12-26 02:44:42,562] Trial 300 finished with value: 0.11816415936493563 and parameters: {'topK': 6, 'shrink': 24.273937319556453, 'feature_weighting': 'none', 'normalize': True, 'tversky_alpha': 0.3895970606784716, 'tversky_beta': 1.8518271801313484}. Best is trial 281 with value: 0.11874846200526792.\n"
     ]
    },
    {
     "name": "stdout",
     "output_type": "stream",
     "text": [
      "Similarity column 38121 (100.0%), 1646.52 column/sec. Elapsed time 23.15 sec\n",
      "EvaluatorHoldout: Processed 34728 (100.0%) in 8.25 sec. Users per second: 4211\n"
     ]
    },
    {
     "name": "stderr",
     "output_type": "stream",
     "text": [
      "[I 2024-12-26 02:45:14,080] Trial 301 finished with value: 0.11725286878457566 and parameters: {'topK': 3, 'shrink': 22.930742891487284, 'feature_weighting': 'none', 'normalize': True, 'tversky_alpha': 0.414800774477764, 'tversky_beta': 1.7570951916750437}. Best is trial 281 with value: 0.11874846200526792.\n"
     ]
    },
    {
     "name": "stdout",
     "output_type": "stream",
     "text": [
      "Similarity column 38121 (100.0%), 5175.42 column/sec. Elapsed time 7.37 sec\n",
      "EvaluatorHoldout: Processed 34728 (100.0%) in 8.38 sec. Users per second: 4146\n"
     ]
    },
    {
     "name": "stderr",
     "output_type": "stream",
     "text": [
      "[I 2024-12-26 02:45:29,936] Trial 302 finished with value: 0.11873411676377346 and parameters: {'topK': 5, 'shrink': 24.955893581261083, 'feature_weighting': 'none', 'normalize': True, 'tversky_alpha': 0.4352070766792818, 'tversky_beta': 1.81075212626509}. Best is trial 281 with value: 0.11874846200526792.\n"
     ]
    },
    {
     "name": "stdout",
     "output_type": "stream",
     "text": [
      "Similarity column 38121 (100.0%), 5178.63 column/sec. Elapsed time 7.36 sec\n",
      "EvaluatorHoldout: Processed 34728 (100.0%) in 8.42 sec. Users per second: 4126\n"
     ]
    },
    {
     "name": "stderr",
     "output_type": "stream",
     "text": [
      "[I 2024-12-26 02:45:45,836] Trial 303 finished with value: 0.11832046116994854 and parameters: {'topK': 6, 'shrink': 24.92349124173236, 'feature_weighting': 'none', 'normalize': True, 'tversky_alpha': 0.4424955707066603, 'tversky_beta': 1.8304799215130862}. Best is trial 281 with value: 0.11874846200526792.\n"
     ]
    },
    {
     "name": "stdout",
     "output_type": "stream",
     "text": [
      "Similarity column 38121 (100.0%), 5164.34 column/sec. Elapsed time 7.38 sec\n",
      "EvaluatorHoldout: Processed 34728 (100.0%) in 8.30 sec. Users per second: 4183\n"
     ]
    },
    {
     "name": "stderr",
     "output_type": "stream",
     "text": [
      "[I 2024-12-26 02:46:01,637] Trial 304 finished with value: 0.1185569213891149 and parameters: {'topK': 5, 'shrink': 24.637448748953936, 'feature_weighting': 'none', 'normalize': True, 'tversky_alpha': 0.4181866467253, 'tversky_beta': 1.8854603906204708}. Best is trial 281 with value: 0.11874846200526792.\n"
     ]
    },
    {
     "name": "stdout",
     "output_type": "stream",
     "text": [
      "Similarity column 38121 (100.0%), 5159.30 column/sec. Elapsed time 7.39 sec\n",
      "EvaluatorHoldout: Processed 34728 (100.0%) in 8.28 sec. Users per second: 4194\n"
     ]
    },
    {
     "name": "stderr",
     "output_type": "stream",
     "text": [
      "[I 2024-12-26 02:46:17,421] Trial 305 finished with value: 0.11811186851598933 and parameters: {'topK': 4, 'shrink': 24.968286861283953, 'feature_weighting': 'none', 'normalize': True, 'tversky_alpha': 0.4772369417410942, 'tversky_beta': 1.806121597387637}. Best is trial 281 with value: 0.11874846200526792.\n"
     ]
    },
    {
     "name": "stdout",
     "output_type": "stream",
     "text": [
      "Similarity column 38121 (100.0%), 5169.27 column/sec. Elapsed time 7.37 sec\n",
      "EvaluatorHoldout: Processed 34728 (100.0%) in 8.39 sec. Users per second: 4140\n"
     ]
    },
    {
     "name": "stderr",
     "output_type": "stream",
     "text": [
      "[I 2024-12-26 02:46:33,301] Trial 306 finished with value: 0.11753654803618495 and parameters: {'topK': 7, 'shrink': 24.118040038001116, 'feature_weighting': 'none', 'normalize': True, 'tversky_alpha': 0.37051690611741883, 'tversky_beta': 1.23977084530626}. Best is trial 281 with value: 0.11874846200526792.\n"
     ]
    },
    {
     "name": "stdout",
     "output_type": "stream",
     "text": [
      "Similarity column 38121 (100.0%), 5173.62 column/sec. Elapsed time 7.37 sec\n",
      "EvaluatorHoldout: Processed 34728 (100.0%) in 8.35 sec. Users per second: 4160\n"
     ]
    },
    {
     "name": "stderr",
     "output_type": "stream",
     "text": [
      "[I 2024-12-26 02:46:49,132] Trial 307 finished with value: 0.11753626273336952 and parameters: {'topK': 5, 'shrink': 23.635945197428697, 'feature_weighting': 'none', 'normalize': True, 'tversky_alpha': 0.44216964159240374, 'tversky_beta': 1.044650607604227}. Best is trial 281 with value: 0.11874846200526792.\n"
     ]
    },
    {
     "name": "stdout",
     "output_type": "stream",
     "text": [
      "Similarity column 38121 (100.0%), 5185.53 column/sec. Elapsed time 7.35 sec\n",
      "EvaluatorHoldout: Processed 34728 (100.0%) in 8.40 sec. Users per second: 4134\n"
     ]
    },
    {
     "name": "stderr",
     "output_type": "stream",
     "text": [
      "[I 2024-12-26 02:47:05,003] Trial 308 finished with value: 0.11794258538253076 and parameters: {'topK': 8, 'shrink': 24.431289460173623, 'feature_weighting': 'none', 'normalize': True, 'tversky_alpha': 0.46224450253651184, 'tversky_beta': 1.8434121013747011}. Best is trial 281 with value: 0.11874846200526792.\n"
     ]
    },
    {
     "name": "stdout",
     "output_type": "stream",
     "text": [
      "Similarity column 38121 (100.0%), 5171.67 column/sec. Elapsed time 7.37 sec\n",
      "EvaluatorHoldout: Processed 34728 (100.0%) in 8.27 sec. Users per second: 4201\n"
     ]
    },
    {
     "name": "stderr",
     "output_type": "stream",
     "text": [
      "[I 2024-12-26 02:47:20,757] Trial 309 finished with value: 0.11798054658872853 and parameters: {'topK': 4, 'shrink': 23.966408881245524, 'feature_weighting': 'none', 'normalize': True, 'tversky_alpha': 0.40011588813527205, 'tversky_beta': 1.771802244439802}. Best is trial 281 with value: 0.11874846200526792.\n"
     ]
    },
    {
     "name": "stdout",
     "output_type": "stream",
     "text": [
      "Similarity column 38121 (100.0%), 5172.61 column/sec. Elapsed time 7.37 sec\n",
      "EvaluatorHoldout: Processed 34728 (100.0%) in 8.35 sec. Users per second: 4160\n"
     ]
    },
    {
     "name": "stderr",
     "output_type": "stream",
     "text": [
      "[I 2024-12-26 02:47:36,591] Trial 310 finished with value: 0.11827037713853811 and parameters: {'topK': 6, 'shrink': 24.550245908442452, 'feature_weighting': 'none', 'normalize': True, 'tversky_alpha': 0.3806015476393806, 'tversky_beta': 1.8122324750281957}. Best is trial 281 with value: 0.11874846200526792.\n"
     ]
    },
    {
     "name": "stdout",
     "output_type": "stream",
     "text": [
      "Similarity column 38121 (100.0%), 1653.47 column/sec. Elapsed time 23.06 sec\n",
      "EvaluatorHoldout: Processed 34728 (100.0%) in 8.22 sec. Users per second: 4223\n"
     ]
    },
    {
     "name": "stderr",
     "output_type": "stream",
     "text": [
      "[I 2024-12-26 02:48:07,986] Trial 311 finished with value: 0.11717991691784706 and parameters: {'topK': 3, 'shrink': 23.503366106861325, 'feature_weighting': 'none', 'normalize': True, 'tversky_alpha': 0.3684993945434478, 'tversky_beta': 1.8962089695433126}. Best is trial 281 with value: 0.11874846200526792.\n"
     ]
    },
    {
     "name": "stdout",
     "output_type": "stream",
     "text": [
      "Similarity column 38121 (100.0%), 5180.59 column/sec. Elapsed time 7.36 sec\n",
      "EvaluatorHoldout: Processed 34728 (100.0%) in 8.29 sec. Users per second: 4187\n"
     ]
    },
    {
     "name": "stderr",
     "output_type": "stream",
     "text": [
      "[I 2024-12-26 02:48:23,754] Trial 312 finished with value: 0.11871789098637507 and parameters: {'topK': 5, 'shrink': 24.0580908949661, 'feature_weighting': 'none', 'normalize': True, 'tversky_alpha': 0.4293191851774386, 'tversky_beta': 1.805926775166285}. Best is trial 281 with value: 0.11874846200526792.\n"
     ]
    },
    {
     "name": "stdout",
     "output_type": "stream",
     "text": [
      "Similarity column 38121 (100.0%), 5179.94 column/sec. Elapsed time 7.36 sec\n",
      "EvaluatorHoldout: Processed 34728 (100.0%) in 8.90 sec. Users per second: 3902\n"
     ]
    },
    {
     "name": "stderr",
     "output_type": "stream",
     "text": [
      "[I 2024-12-26 02:48:40,136] Trial 313 finished with value: 0.11449548445656647 and parameters: {'topK': 30, 'shrink': 8.210713588780097, 'feature_weighting': 'none', 'normalize': True, 'tversky_alpha': 0.42804072923067227, 'tversky_beta': 1.8612992542163163}. Best is trial 281 with value: 0.11874846200526792.\n"
     ]
    },
    {
     "name": "stdout",
     "output_type": "stream",
     "text": [
      "Similarity column 38121 (100.0%), 5177.12 column/sec. Elapsed time 7.36 sec\n",
      "EvaluatorHoldout: Processed 34728 (100.0%) in 8.26 sec. Users per second: 4203\n"
     ]
    },
    {
     "name": "stderr",
     "output_type": "stream",
     "text": [
      "[I 2024-12-26 02:48:55,879] Trial 314 finished with value: 0.11793024663313341 and parameters: {'topK': 4, 'shrink': 24.067182400083684, 'feature_weighting': 'none', 'normalize': True, 'tversky_alpha': 0.41687637170646047, 'tversky_beta': 1.7474587182370909}. Best is trial 281 with value: 0.11874846200526792.\n"
     ]
    },
    {
     "name": "stdout",
     "output_type": "stream",
     "text": [
      "Similarity column 38121 (100.0%), 5170.27 column/sec. Elapsed time 7.37 sec\n",
      "EvaluatorHoldout: Processed 34728 (100.0%) in 8.32 sec. Users per second: 4172\n"
     ]
    },
    {
     "name": "stderr",
     "output_type": "stream",
     "text": [
      "[I 2024-12-26 02:49:11,693] Trial 315 finished with value: 0.11826890368076681 and parameters: {'topK': 6, 'shrink': 24.99839073182626, 'feature_weighting': 'none', 'normalize': True, 'tversky_alpha': 0.44949329933741394, 'tversky_beta': 1.8017816789225798}. Best is trial 281 with value: 0.11874846200526792.\n"
     ]
    },
    {
     "name": "stdout",
     "output_type": "stream",
     "text": [
      "Similarity column 38121 (100.0%), 5167.81 column/sec. Elapsed time 7.38 sec\n",
      "EvaluatorHoldout: Processed 34728 (100.0%) in 8.30 sec. Users per second: 4182\n"
     ]
    },
    {
     "name": "stderr",
     "output_type": "stream",
     "text": [
      "[I 2024-12-26 02:49:27,491] Trial 316 finished with value: 0.11860930710933079 and parameters: {'topK': 5, 'shrink': 24.45283858420131, 'feature_weighting': 'none', 'normalize': True, 'tversky_alpha': 0.40480482180340477, 'tversky_beta': 1.8398206434209121}. Best is trial 281 with value: 0.11874846200526792.\n"
     ]
    },
    {
     "name": "stdout",
     "output_type": "stream",
     "text": [
      "Similarity column 38121 (100.0%), 1650.56 column/sec. Elapsed time 23.10 sec\n",
      "EvaluatorHoldout: Processed 34728 (100.0%) in 8.11 sec. Users per second: 4281\n"
     ]
    },
    {
     "name": "stderr",
     "output_type": "stream",
     "text": [
      "[I 2024-12-26 02:49:58,816] Trial 317 finished with value: 0.11711911958055449 and parameters: {'topK': 3, 'shrink': 24.518902177783147, 'feature_weighting': 'none', 'normalize': True, 'tversky_alpha': 0.38996524473944916, 'tversky_beta': 1.7605586676630942}. Best is trial 281 with value: 0.11874846200526792.\n"
     ]
    },
    {
     "name": "stdout",
     "output_type": "stream",
     "text": [
      "Similarity column 38121 (100.0%), 5183.92 column/sec. Elapsed time 7.35 sec\n",
      "EvaluatorHoldout: Processed 34728 (100.0%) in 8.23 sec. Users per second: 4218\n"
     ]
    },
    {
     "name": "stderr",
     "output_type": "stream",
     "text": [
      "[I 2024-12-26 02:50:14,543] Trial 318 finished with value: 0.10822013587125676 and parameters: {'topK': 5, 'shrink': 24.986214276906477, 'feature_weighting': 'BM25', 'normalize': True, 'tversky_alpha': 0.3974885065186774, 'tversky_beta': 1.799394962073831}. Best is trial 281 with value: 0.11874846200526792.\n"
     ]
    },
    {
     "name": "stdout",
     "output_type": "stream",
     "text": [
      "Similarity column 38121 (100.0%), 5121.08 column/sec. Elapsed time 7.44 sec\n",
      "EvaluatorHoldout: Processed 34728 (100.0%) in 8.36 sec. Users per second: 4154\n"
     ]
    },
    {
     "name": "stderr",
     "output_type": "stream",
     "text": [
      "[I 2024-12-26 02:50:30,464] Trial 319 finished with value: 0.11601068377462971 and parameters: {'topK': 7, 'shrink': 6.550507064441938, 'feature_weighting': 'none', 'normalize': True, 'tversky_alpha': 0.4490246903649894, 'tversky_beta': 0.7798980240218213}. Best is trial 281 with value: 0.11874846200526792.\n"
     ]
    },
    {
     "name": "stdout",
     "output_type": "stream",
     "text": [
      "Similarity column 38121 (100.0%), 5188.04 column/sec. Elapsed time 7.35 sec\n",
      "EvaluatorHoldout: Processed 34728 (100.0%) in 8.23 sec. Users per second: 4221\n"
     ]
    },
    {
     "name": "stderr",
     "output_type": "stream",
     "text": [
      "[I 2024-12-26 02:50:46,157] Trial 320 finished with value: 0.11631489465270933 and parameters: {'topK': 4, 'shrink': 24.26773254388194, 'feature_weighting': 'none', 'normalize': True, 'tversky_alpha': 0.8983282847112111, 'tversky_beta': 1.3313426957430314}. Best is trial 281 with value: 0.11874846200526792.\n"
     ]
    },
    {
     "name": "stdout",
     "output_type": "stream",
     "text": [
      "Similarity column 38121 (100.0%), 5169.41 column/sec. Elapsed time 7.37 sec\n",
      "EvaluatorHoldout: Processed 34728 (100.0%) in 8.37 sec. Users per second: 4148\n"
     ]
    },
    {
     "name": "stderr",
     "output_type": "stream",
     "text": [
      "[I 2024-12-26 02:51:02,042] Trial 321 finished with value: 0.11723869079374269 and parameters: {'topK': 9, 'shrink': 24.529567808418605, 'feature_weighting': 'TF-IDF', 'normalize': True, 'tversky_alpha': 0.41908905103761046, 'tversky_beta': 1.4414455040601666}. Best is trial 281 with value: 0.11874846200526792.\n"
     ]
    },
    {
     "name": "stdout",
     "output_type": "stream",
     "text": [
      "Similarity column 38121 (100.0%), 5157.97 column/sec. Elapsed time 7.39 sec\n",
      "EvaluatorHoldout: Processed 34728 (100.0%) in 9.20 sec. Users per second: 3777\n"
     ]
    },
    {
     "name": "stderr",
     "output_type": "stream",
     "text": [
      "[I 2024-12-26 02:51:18,753] Trial 322 finished with value: 0.11261089982549624 and parameters: {'topK': 41, 'shrink': 23.996828279683434, 'feature_weighting': 'none', 'normalize': True, 'tversky_alpha': 0.5118546731878472, 'tversky_beta': 1.8581214084656499}. Best is trial 281 with value: 0.11874846200526792.\n"
     ]
    },
    {
     "name": "stdout",
     "output_type": "stream",
     "text": [
      "Similarity column 38121 (100.0%), 2323.64 column/sec. Elapsed time 16.41 sec\n",
      "EvaluatorHoldout: Processed 34728 (100.0%) in 8.08 sec. Users per second: 4300\n"
     ]
    },
    {
     "name": "stderr",
     "output_type": "stream",
     "text": [
      "[I 2024-12-26 02:51:43,350] Trial 323 finished with value: 0.11458241409882779 and parameters: {'topK': 2, 'shrink': 24.43036848278133, 'feature_weighting': 'none', 'normalize': True, 'tversky_alpha': 0.44137612626175676, 'tversky_beta': 1.7493353097407764}. Best is trial 281 with value: 0.11874846200526792.\n"
     ]
    },
    {
     "name": "stdout",
     "output_type": "stream",
     "text": [
      "Similarity column 38121 (100.0%), 5227.12 column/sec. Elapsed time 7.29 sec\n",
      "EvaluatorHoldout: Processed 34728 (100.0%) in 8.46 sec. Users per second: 4105\n"
     ]
    },
    {
     "name": "stderr",
     "output_type": "stream",
     "text": [
      "[I 2024-12-26 02:51:59,219] Trial 324 finished with value: 0.10640146012348238 and parameters: {'topK': 6, 'shrink': 23.793553711045302, 'feature_weighting': 'none', 'normalize': True, 'tversky_alpha': 0.4285499787105247, 'tversky_beta': 0.1738683747662173}. Best is trial 281 with value: 0.11874846200526792.\n"
     ]
    },
    {
     "name": "stdout",
     "output_type": "stream",
     "text": [
      "Similarity column 38121 (100.0%), 5209.41 column/sec. Elapsed time 7.32 sec\n",
      "EvaluatorHoldout: Processed 34728 (100.0%) in 8.23 sec. Users per second: 4222\n"
     ]
    },
    {
     "name": "stderr",
     "output_type": "stream",
     "text": [
      "[I 2024-12-26 02:52:14,879] Trial 325 finished with value: 0.11847920509055523 and parameters: {'topK': 5, 'shrink': 23.223451827770564, 'feature_weighting': 'none', 'normalize': True, 'tversky_alpha': 0.4636644550274701, 'tversky_beta': 1.8198868188841695}. Best is trial 281 with value: 0.11874846200526792.\n"
     ]
    },
    {
     "name": "stdout",
     "output_type": "stream",
     "text": [
      "Similarity column 38121 (100.0%), 5179.74 column/sec. Elapsed time 7.36 sec\n",
      "EvaluatorHoldout: Processed 34728 (100.0%) in 8.36 sec. Users per second: 4153\n"
     ]
    },
    {
     "name": "stderr",
     "output_type": "stream",
     "text": [
      "[I 2024-12-26 02:52:30,739] Trial 326 finished with value: 0.11824874280146165 and parameters: {'topK': 8, 'shrink': 22.714774658971482, 'feature_weighting': 'TF-IDF', 'normalize': True, 'tversky_alpha': 0.3960765497842171, 'tversky_beta': 1.7801434769710816}. Best is trial 281 with value: 0.11874846200526792.\n"
     ]
    },
    {
     "name": "stdout",
     "output_type": "stream",
     "text": [
      "Similarity column 38121 (100.0%), 5195.81 column/sec. Elapsed time 7.34 sec\n",
      "EvaluatorHoldout: Processed 34728 (100.0%) in 8.25 sec. Users per second: 4210\n"
     ]
    },
    {
     "name": "stderr",
     "output_type": "stream",
     "text": [
      "[I 2024-12-26 02:52:46,440] Trial 327 finished with value: 0.11832335174321537 and parameters: {'topK': 6, 'shrink': 24.513238835779745, 'feature_weighting': 'none', 'normalize': True, 'tversky_alpha': 0.36842467832026693, 'tversky_beta': 1.7529203606396688}. Best is trial 281 with value: 0.11874846200526792.\n"
     ]
    },
    {
     "name": "stdout",
     "output_type": "stream",
     "text": [
      "Similarity column 38121 (100.0%), 1653.06 column/sec. Elapsed time 23.06 sec\n",
      "EvaluatorHoldout: Processed 34728 (100.0%) in 8.10 sec. Users per second: 4288\n"
     ]
    },
    {
     "name": "stderr",
     "output_type": "stream",
     "text": [
      "[I 2024-12-26 02:53:17,717] Trial 328 finished with value: 0.11711584975625082 and parameters: {'topK': 3, 'shrink': 24.001096118020637, 'feature_weighting': 'none', 'normalize': True, 'tversky_alpha': 0.40614840693201293, 'tversky_beta': 1.8041196907284194}. Best is trial 281 with value: 0.11874846200526792.\n"
     ]
    },
    {
     "name": "stdout",
     "output_type": "stream",
     "text": [
      "Similarity column 38121 (100.0%), 5291.38 column/sec. Elapsed time 7.20 sec\n",
      "EvaluatorHoldout: Processed 34728 (100.0%) in 8.14 sec. Users per second: 4268\n"
     ]
    },
    {
     "name": "stderr",
     "output_type": "stream",
     "text": [
      "[I 2024-12-26 02:53:33,176] Trial 329 finished with value: 0.11792612914787526 and parameters: {'topK': 4, 'shrink': 16.120190996092358, 'feature_weighting': 'none', 'normalize': True, 'tversky_alpha': 0.2220147844047931, 'tversky_beta': 1.8988192384913742}. Best is trial 281 with value: 0.11874846200526792.\n"
     ]
    },
    {
     "name": "stdout",
     "output_type": "stream",
     "text": [
      "Similarity column 38121 (100.0%), 5262.44 column/sec. Elapsed time 7.24 sec\n",
      "EvaluatorHoldout: Processed 34728 (100.0%) in 8.27 sec. Users per second: 4199\n"
     ]
    },
    {
     "name": "stderr",
     "output_type": "stream",
     "text": [
      "[I 2024-12-26 02:53:48,809] Trial 330 finished with value: 0.11807574638413736 and parameters: {'topK': 7, 'shrink': 23.08568825579265, 'feature_weighting': 'none', 'normalize': True, 'tversky_alpha': 0.42945160956927436, 'tversky_beta': 1.845001554299327}. Best is trial 281 with value: 0.11874846200526792.\n"
     ]
    },
    {
     "name": "stdout",
     "output_type": "stream",
     "text": [
      "Similarity column 38121 (100.0%), 5267.56 column/sec. Elapsed time 7.24 sec\n",
      "EvaluatorHoldout: Processed 34728 (100.0%) in 8.23 sec. Users per second: 4220\n"
     ]
    },
    {
     "name": "stderr",
     "output_type": "stream",
     "text": [
      "[I 2024-12-26 02:54:04,416] Trial 331 finished with value: 0.11823187699320922 and parameters: {'topK': 5, 'shrink': 24.624859469144734, 'feature_weighting': 'TF-IDF', 'normalize': True, 'tversky_alpha': 0.38425478780758815, 'tversky_beta': 1.4859457178148903}. Best is trial 281 with value: 0.11874846200526792.\n"
     ]
    },
    {
     "name": "stdout",
     "output_type": "stream",
     "text": [
      "Similarity column 38121 (100.0%), 5248.06 column/sec. Elapsed time 7.26 sec\n",
      "EvaluatorHoldout: Processed 34728 (100.0%) in 8.22 sec. Users per second: 4223\n"
     ]
    },
    {
     "name": "stderr",
     "output_type": "stream",
     "text": [
      "[I 2024-12-26 02:54:20,020] Trial 332 finished with value: 0.11841314747434141 and parameters: {'topK': 5, 'shrink': 24.95718179528326, 'feature_weighting': 'none', 'normalize': True, 'tversky_alpha': 0.12229803577038945, 'tversky_beta': 1.7367531633446935}. Best is trial 281 with value: 0.11874846200526792.\n"
     ]
    },
    {
     "name": "stdout",
     "output_type": "stream",
     "text": [
      "Similarity column 38121 (100.0%), 1648.90 column/sec. Elapsed time 23.12 sec\n",
      "EvaluatorHoldout: Processed 34728 (100.0%) in 8.11 sec. Users per second: 4281\n"
     ]
    },
    {
     "name": "stderr",
     "output_type": "stream",
     "text": [
      "[I 2024-12-26 02:54:51,368] Trial 333 finished with value: 0.11654363710893167 and parameters: {'topK': 3, 'shrink': 23.737560523899408, 'feature_weighting': 'none', 'normalize': True, 'tversky_alpha': 0.5746763080025384, 'tversky_beta': 1.7838770254515424}. Best is trial 281 with value: 0.11874846200526792.\n"
     ]
    },
    {
     "name": "stdout",
     "output_type": "stream",
     "text": [
      "Similarity column 38121 (100.0%), 5302.80 column/sec. Elapsed time 7.19 sec\n",
      "EvaluatorHoldout: Processed 34728 (100.0%) in 8.21 sec. Users per second: 4228\n"
     ]
    },
    {
     "name": "stderr",
     "output_type": "stream",
     "text": [
      "[I 2024-12-26 02:55:06,887] Trial 334 finished with value: 0.11814642222417723 and parameters: {'topK': 6, 'shrink': 24.177578486274506, 'feature_weighting': 'none', 'normalize': True, 'tversky_alpha': 0.40326811782883665, 'tversky_beta': 1.865519971965172}. Best is trial 281 with value: 0.11874846200526792.\n"
     ]
    },
    {
     "name": "stdout",
     "output_type": "stream",
     "text": [
      "Similarity column 38121 (100.0%), 5323.57 column/sec. Elapsed time 7.16 sec\n",
      "EvaluatorHoldout: Processed 34728 (100.0%) in 8.17 sec. Users per second: 4249\n"
     ]
    },
    {
     "name": "stderr",
     "output_type": "stream",
     "text": [
      "[I 2024-12-26 02:55:22,338] Trial 335 finished with value: 0.1175312017321194 and parameters: {'topK': 4, 'shrink': 15.028284184631714, 'feature_weighting': 'none', 'normalize': True, 'tversky_alpha': 0.4827115028106327, 'tversky_beta': 1.8268480812953234}. Best is trial 281 with value: 0.11874846200526792.\n"
     ]
    },
    {
     "name": "stdout",
     "output_type": "stream",
     "text": [
      "Similarity column 38121 (100.0%), 5288.63 column/sec. Elapsed time 7.21 sec\n",
      "EvaluatorHoldout: Processed 34728 (100.0%) in 8.24 sec. Users per second: 4216\n"
     ]
    },
    {
     "name": "stderr",
     "output_type": "stream",
     "text": [
      "[I 2024-12-26 02:55:37,919] Trial 336 finished with value: 0.11803377040697245 and parameters: {'topK': 7, 'shrink': 22.582332361112336, 'feature_weighting': 'TF-IDF', 'normalize': True, 'tversky_alpha': 0.35732585583516224, 'tversky_beta': 1.7280433555923596}. Best is trial 281 with value: 0.11874846200526792.\n"
     ]
    },
    {
     "name": "stdout",
     "output_type": "stream",
     "text": [
      "Similarity column 38121 (100.0%), 2313.63 column/sec. Elapsed time 16.48 sec\n",
      "EvaluatorHoldout: Processed 34728 (100.0%) in 8.10 sec. Users per second: 4289\n"
     ]
    },
    {
     "name": "stderr",
     "output_type": "stream",
     "text": [
      "[I 2024-12-26 02:56:02,619] Trial 337 finished with value: 0.11406512931820012 and parameters: {'topK': 2, 'shrink': 23.728974686831222, 'feature_weighting': 'none', 'normalize': True, 'tversky_alpha': 0.3817591868774044, 'tversky_beta': 0.896192988700483}. Best is trial 281 with value: 0.11874846200526792.\n"
     ]
    },
    {
     "name": "stdout",
     "output_type": "stream",
     "text": [
      "Similarity column 38121 (100.0%), 5312.60 column/sec. Elapsed time 7.18 sec\n",
      "EvaluatorHoldout: Processed 34728 (100.0%) in 8.28 sec. Users per second: 4196\n"
     ]
    },
    {
     "name": "stderr",
     "output_type": "stream",
     "text": [
      "[I 2024-12-26 02:56:18,186] Trial 338 finished with value: 0.1139965330512505 and parameters: {'topK': 5, 'shrink': 24.98556641998805, 'feature_weighting': 'none', 'normalize': False, 'tversky_alpha': 0.43424494067327885, 'tversky_beta': 0.5441822572061407}. Best is trial 281 with value: 0.11874846200526792.\n"
     ]
    },
    {
     "name": "stdout",
     "output_type": "stream",
     "text": [
      "Similarity column 38121 (100.0%), 5275.73 column/sec. Elapsed time 7.23 sec\n",
      "EvaluatorHoldout: Processed 34728 (100.0%) in 8.19 sec. Users per second: 4239\n"
     ]
    },
    {
     "name": "stderr",
     "output_type": "stream",
     "text": [
      "[I 2024-12-26 02:56:33,719] Trial 339 finished with value: 0.11823786895902487 and parameters: {'topK': 6, 'shrink': 14.100096047787098, 'feature_weighting': 'none', 'normalize': False, 'tversky_alpha': 0.4138747694102805, 'tversky_beta': 1.7704212355521338}. Best is trial 281 with value: 0.11874846200526792.\n"
     ]
    },
    {
     "name": "stdout",
     "output_type": "stream",
     "text": [
      "Similarity column 38121 (100.0%), 5255.08 column/sec. Elapsed time 7.25 sec\n",
      "EvaluatorHoldout: Processed 34728 (100.0%) in 8.17 sec. Users per second: 4252\n"
     ]
    },
    {
     "name": "stderr",
     "output_type": "stream",
     "text": [
      "[I 2024-12-26 02:56:49,281] Trial 340 finished with value: 0.10802630967360942 and parameters: {'topK': 4, 'shrink': 23.11933803454779, 'feature_weighting': 'BM25', 'normalize': True, 'tversky_alpha': 0.36582356107517167, 'tversky_beta': 1.8185116357397744}. Best is trial 281 with value: 0.11874846200526792.\n"
     ]
    },
    {
     "name": "stdout",
     "output_type": "stream",
     "text": [
      "Similarity column 38121 (100.0%), 5239.65 column/sec. Elapsed time 7.28 sec\n",
      "EvaluatorHoldout: Processed 34728 (100.0%) in 8.20 sec. Users per second: 4235\n"
     ]
    },
    {
     "name": "stderr",
     "output_type": "stream",
     "text": [
      "[I 2024-12-26 02:57:04,875] Trial 341 finished with value: 0.11830517052794398 and parameters: {'topK': 5, 'shrink': 24.16097538355269, 'feature_weighting': 'none', 'normalize': False, 'tversky_alpha': 0.4607759636598249, 'tversky_beta': 1.7153737498219725}. Best is trial 281 with value: 0.11874846200526792.\n"
     ]
    },
    {
     "name": "stdout",
     "output_type": "stream",
     "text": [
      "Similarity column 38121 (100.0%), 5164.18 column/sec. Elapsed time 7.38 sec\n",
      "EvaluatorHoldout: Processed 34728 (100.0%) in 8.18 sec. Users per second: 4246\n"
     ]
    },
    {
     "name": "stderr",
     "output_type": "stream",
     "text": [
      "[I 2024-12-26 02:57:20,574] Trial 342 finished with value: 0.1184561787481868 and parameters: {'topK': 6, 'shrink': 23.372246215222525, 'feature_weighting': 'TF-IDF', 'normalize': False, 'tversky_alpha': 0.24079641164453763, 'tversky_beta': 1.7826408719549087}. Best is trial 281 with value: 0.11874846200526792.\n"
     ]
    },
    {
     "name": "stdout",
     "output_type": "stream",
     "text": [
      "Similarity column 38121 (100.0%), 5171.57 column/sec. Elapsed time 7.37 sec\n",
      "EvaluatorHoldout: Processed 34728 (100.0%) in 8.31 sec. Users per second: 4181\n"
     ]
    },
    {
     "name": "stderr",
     "output_type": "stream",
     "text": [
      "[I 2024-12-26 02:57:36,369] Trial 343 finished with value: 0.11801093452031833 and parameters: {'topK': 9, 'shrink': 24.515779198908525, 'feature_weighting': 'none', 'normalize': True, 'tversky_alpha': 0.20931237399347763, 'tversky_beta': 1.868057650490393}. Best is trial 281 with value: 0.11874846200526792.\n"
     ]
    },
    {
     "name": "stdout",
     "output_type": "stream",
     "text": [
      "Similarity column 38121 (100.0%), 1648.16 column/sec. Elapsed time 23.13 sec\n",
      "EvaluatorHoldout: Processed 34728 (100.0%) in 8.13 sec. Users per second: 4274\n"
     ]
    },
    {
     "name": "stderr",
     "output_type": "stream",
     "text": [
      "[I 2024-12-26 02:58:07,742] Trial 344 finished with value: 0.11686855992322859 and parameters: {'topK': 3, 'shrink': 23.660995007001606, 'feature_weighting': 'none', 'normalize': False, 'tversky_alpha': 0.4334466660889806, 'tversky_beta': 1.5419590624054267}. Best is trial 281 with value: 0.11874846200526792.\n"
     ]
    },
    {
     "name": "stdout",
     "output_type": "stream",
     "text": [
      "Similarity column 38121 (100.0%), 5317.31 column/sec. Elapsed time 7.17 sec\n",
      "EvaluatorHoldout: Processed 34728 (100.0%) in 8.11 sec. Users per second: 4283\n"
     ]
    },
    {
     "name": "stderr",
     "output_type": "stream",
     "text": [
      "[I 2024-12-26 02:58:23,140] Trial 345 finished with value: 0.11732862404892146 and parameters: {'topK': 4, 'shrink': 12.64269124460916, 'feature_weighting': 'none', 'normalize': False, 'tversky_alpha': 0.14059115445819445, 'tversky_beta': 1.759421197589949}. Best is trial 281 with value: 0.11874846200526792.\n"
     ]
    },
    {
     "name": "stdout",
     "output_type": "stream",
     "text": [
      "Similarity column 38121 (100.0%), 5304.64 column/sec. Elapsed time 7.19 sec\n",
      "EvaluatorHoldout: Processed 34728 (100.0%) in 8.29 sec. Users per second: 4192\n"
     ]
    },
    {
     "name": "stderr",
     "output_type": "stream",
     "text": [
      "[I 2024-12-26 02:58:38,748] Trial 346 finished with value: 0.11807992047103186 and parameters: {'topK': 7, 'shrink': 22.717107628858585, 'feature_weighting': 'none', 'normalize': True, 'tversky_alpha': 0.39690181731661617, 'tversky_beta': 1.8327114268581672}. Best is trial 281 with value: 0.11874846200526792.\n"
     ]
    },
    {
     "name": "stdout",
     "output_type": "stream",
     "text": [
      "Similarity column 38121 (100.0%), 5354.07 column/sec. Elapsed time 7.12 sec\n",
      "EvaluatorHoldout: Processed 34728 (100.0%) in 8.17 sec. Users per second: 4252\n"
     ]
    },
    {
     "name": "stderr",
     "output_type": "stream",
     "text": [
      "[I 2024-12-26 02:58:54,174] Trial 347 finished with value: 0.11801037146366104 and parameters: {'topK': 4, 'shrink': 24.18481433050168, 'feature_weighting': 'TF-IDF', 'normalize': False, 'tversky_alpha': 0.4135328191514036, 'tversky_beta': 1.7988615468592268}. Best is trial 281 with value: 0.11874846200526792.\n"
     ]
    },
    {
     "name": "stdout",
     "output_type": "stream",
     "text": [
      "Similarity column 38121 (100.0%), 5325.93 column/sec. Elapsed time 7.16 sec\n",
      "EvaluatorHoldout: Processed 34728 (100.0%) in 8.19 sec. Users per second: 4240\n"
     ]
    },
    {
     "name": "stderr",
     "output_type": "stream",
     "text": [
      "[I 2024-12-26 02:59:09,640] Trial 348 finished with value: 0.11841815192983109 and parameters: {'topK': 5, 'shrink': 23.344274472418, 'feature_weighting': 'none', 'normalize': False, 'tversky_alpha': 0.184347385067795, 'tversky_beta': 1.7338083981420496}. Best is trial 281 with value: 0.11874846200526792.\n"
     ]
    },
    {
     "name": "stdout",
     "output_type": "stream",
     "text": [
      "Similarity column 38121 (100.0%), 5348.86 column/sec. Elapsed time 7.13 sec\n",
      "EvaluatorHoldout: Processed 34728 (100.0%) in 8.60 sec. Users per second: 4037\n"
     ]
    },
    {
     "name": "stderr",
     "output_type": "stream",
     "text": [
      "[I 2024-12-26 02:59:25,488] Trial 349 finished with value: 0.11577834910346446 and parameters: {'topK': 18, 'shrink': 24.55212617855571, 'feature_weighting': 'none', 'normalize': True, 'tversky_alpha': 0.35665332785368903, 'tversky_beta': 1.7141830312471542}. Best is trial 281 with value: 0.11874846200526792.\n"
     ]
    },
    {
     "name": "stdout",
     "output_type": "stream",
     "text": [
      "Similarity column 38121 (100.0%), 5320.78 column/sec. Elapsed time 7.16 sec\n",
      "EvaluatorHoldout: Processed 34728 (100.0%) in 8.27 sec. Users per second: 4200\n"
     ]
    },
    {
     "name": "stderr",
     "output_type": "stream",
     "text": [
      "[I 2024-12-26 02:59:41,037] Trial 350 finished with value: 0.11830521541528743 and parameters: {'topK': 6, 'shrink': 22.343090936093752, 'feature_weighting': 'none', 'normalize': False, 'tversky_alpha': 0.37914372005457664, 'tversky_beta': 1.8465404438586042}. Best is trial 281 with value: 0.11874846200526792.\n"
     ]
    },
    {
     "name": "stdout",
     "output_type": "stream",
     "text": [
      "Similarity column 38121 (100.0%), 1651.93 column/sec. Elapsed time 23.08 sec\n",
      "EvaluatorHoldout: Processed 34728 (100.0%) in 8.10 sec. Users per second: 4286\n"
     ]
    },
    {
     "name": "stderr",
     "output_type": "stream",
     "text": [
      "[I 2024-12-26 03:00:12,335] Trial 351 finished with value: 0.11634279389002165 and parameters: {'topK': 3, 'shrink': 21.733623238071143, 'feature_weighting': 'none', 'normalize': True, 'tversky_alpha': 0.4469203060237903, 'tversky_beta': 1.1855173815708944}. Best is trial 281 with value: 0.11874846200526792.\n"
     ]
    },
    {
     "name": "stdout",
     "output_type": "stream",
     "text": [
      "Similarity column 38121 (100.0%), 5322.60 column/sec. Elapsed time 7.16 sec\n",
      "EvaluatorHoldout: Processed 34728 (100.0%) in 8.23 sec. Users per second: 4221\n"
     ]
    },
    {
     "name": "stderr",
     "output_type": "stream",
     "text": [
      "[I 2024-12-26 03:00:27,840] Trial 352 finished with value: 0.11840123937002056 and parameters: {'topK': 5, 'shrink': 23.975934067966133, 'feature_weighting': 'none', 'normalize': False, 'tversky_alpha': 0.2538479804388799, 'tversky_beta': 1.7649620845112481}. Best is trial 281 with value: 0.11874846200526792.\n"
     ]
    },
    {
     "name": "stdout",
     "output_type": "stream",
     "text": [
      "Similarity column 38121 (100.0%), 5346.26 column/sec. Elapsed time 7.13 sec\n",
      "EvaluatorHoldout: Processed 34728 (100.0%) in 8.24 sec. Users per second: 4212\n"
     ]
    },
    {
     "name": "stderr",
     "output_type": "stream",
     "text": [
      "[I 2024-12-26 03:00:43,351] Trial 353 finished with value: 0.118309105768524 and parameters: {'topK': 6, 'shrink': 22.947176015143345, 'feature_weighting': 'TF-IDF', 'normalize': False, 'tversky_alpha': 0.42547594924149934, 'tversky_beta': 1.6960444288137158}. Best is trial 281 with value: 0.11874846200526792.\n"
     ]
    },
    {
     "name": "stdout",
     "output_type": "stream",
     "text": [
      "Similarity column 38121 (100.0%), 5346.17 column/sec. Elapsed time 7.13 sec\n",
      "EvaluatorHoldout: Processed 34728 (100.0%) in 8.22 sec. Users per second: 4226\n"
     ]
    },
    {
     "name": "stderr",
     "output_type": "stream",
     "text": [
      "[I 2024-12-26 03:00:58,815] Trial 354 finished with value: 0.11800032351195705 and parameters: {'topK': 4, 'shrink': 24.664430886614017, 'feature_weighting': 'none', 'normalize': True, 'tversky_alpha': 0.40606829660402527, 'tversky_beta': 1.398184087066221}. Best is trial 281 with value: 0.11874846200526792.\n"
     ]
    },
    {
     "name": "stdout",
     "output_type": "stream",
     "text": [
      "Similarity column 38121 (100.0%), 5339.69 column/sec. Elapsed time 7.14 sec\n",
      "EvaluatorHoldout: Processed 34728 (100.0%) in 8.35 sec. Users per second: 4160\n"
     ]
    },
    {
     "name": "stderr",
     "output_type": "stream",
     "text": [
      "[I 2024-12-26 03:01:14,419] Trial 355 finished with value: 0.11827182189249495 and parameters: {'topK': 8, 'shrink': 23.696189597615557, 'feature_weighting': 'none', 'normalize': False, 'tversky_alpha': 0.38635988639207863, 'tversky_beta': 1.8040535856082494}. Best is trial 281 with value: 0.11874846200526792.\n"
     ]
    },
    {
     "name": "stdout",
     "output_type": "stream",
     "text": [
      "Similarity column 38121 (100.0%), 1649.16 column/sec. Elapsed time 23.12 sec\n",
      "EvaluatorHoldout: Processed 34728 (100.0%) in 8.14 sec. Users per second: 4269\n"
     ]
    },
    {
     "name": "stderr",
     "output_type": "stream",
     "text": [
      "[I 2024-12-26 03:01:45,789] Trial 356 finished with value: 0.11689962248530728 and parameters: {'topK': 3, 'shrink': 24.21097767907653, 'feature_weighting': 'none', 'normalize': False, 'tversky_alpha': 0.46883893294827106, 'tversky_beta': 1.750806812004962}. Best is trial 281 with value: 0.11874846200526792.\n"
     ]
    },
    {
     "name": "stdout",
     "output_type": "stream",
     "text": [
      "Similarity column 38121 (100.0%), 5325.94 column/sec. Elapsed time 7.16 sec\n",
      "EvaluatorHoldout: Processed 34728 (100.0%) in 8.19 sec. Users per second: 4242\n"
     ]
    },
    {
     "name": "stderr",
     "output_type": "stream",
     "text": [
      "[I 2024-12-26 03:02:01,249] Trial 357 finished with value: 0.11635940456620568 and parameters: {'topK': 7, 'shrink': 3.63351034357029, 'feature_weighting': 'none', 'normalize': True, 'tversky_alpha': 0.22666466686176806, 'tversky_beta': 1.5965607305725893}. Best is trial 281 with value: 0.11874846200526792.\n"
     ]
    },
    {
     "name": "stdout",
     "output_type": "stream",
     "text": [
      "Similarity column 38121 (100.0%), 5317.44 column/sec. Elapsed time 7.17 sec\n",
      "EvaluatorHoldout: Processed 34728 (100.0%) in 8.16 sec. Users per second: 4255\n"
     ]
    },
    {
     "name": "stderr",
     "output_type": "stream",
     "text": [
      "[I 2024-12-26 03:02:16,724] Trial 358 finished with value: 0.1183614350824425 and parameters: {'topK': 4, 'shrink': 24.96504473612616, 'feature_weighting': 'TF-IDF', 'normalize': False, 'tversky_alpha': 0.26457550351626663, 'tversky_beta': 1.8747672898566392}. Best is trial 281 with value: 0.11874846200526792.\n"
     ]
    },
    {
     "name": "stdout",
     "output_type": "stream",
     "text": [
      "Similarity column 38121 (100.0%), 5299.00 column/sec. Elapsed time 7.19 sec\n",
      "EvaluatorHoldout: Processed 34728 (100.0%) in 8.15 sec. Users per second: 4262\n"
     ]
    },
    {
     "name": "stderr",
     "output_type": "stream",
     "text": [
      "[I 2024-12-26 03:02:32,182] Trial 359 finished with value: 0.11865099233351199 and parameters: {'topK': 5, 'shrink': 23.350810834766044, 'feature_weighting': 'none', 'normalize': False, 'tversky_alpha': 0.3494881920643097, 'tversky_beta': 1.7990418477594903}. Best is trial 281 with value: 0.11874846200526792.\n"
     ]
    },
    {
     "name": "stdout",
     "output_type": "stream",
     "text": [
      "Similarity column 38121 (100.0%), 5302.33 column/sec. Elapsed time 7.19 sec\n",
      "EvaluatorHoldout: Processed 34728 (100.0%) in 8.17 sec. Users per second: 4251\n"
     ]
    },
    {
     "name": "stderr",
     "output_type": "stream",
     "text": [
      "[I 2024-12-26 03:02:47,659] Trial 360 finished with value: 0.1186373012621454 and parameters: {'topK': 5, 'shrink': 23.484903904108084, 'feature_weighting': 'none', 'normalize': True, 'tversky_alpha': 0.3522546120508887, 'tversky_beta': 1.8216206288338848}. Best is trial 281 with value: 0.11874846200526792.\n"
     ]
    },
    {
     "name": "stdout",
     "output_type": "stream",
     "text": [
      "Similarity column 38121 (100.0%), 5292.53 column/sec. Elapsed time 7.20 sec\n",
      "EvaluatorHoldout: Processed 34728 (100.0%) in 8.20 sec. Users per second: 4234\n"
     ]
    },
    {
     "name": "stderr",
     "output_type": "stream",
     "text": [
      "[I 2024-12-26 03:03:03,181] Trial 361 finished with value: 0.11836026993479917 and parameters: {'topK': 6, 'shrink': 24.183623151530938, 'feature_weighting': 'none', 'normalize': False, 'tversky_alpha': 0.3669346031057149, 'tversky_beta': 1.8978667408539711}. Best is trial 281 with value: 0.11874846200526792.\n"
     ]
    },
    {
     "name": "stdout",
     "output_type": "stream",
     "text": [
      "Similarity column 38121 (100.0%), 5305.25 column/sec. Elapsed time 7.19 sec\n",
      "EvaluatorHoldout: Processed 34728 (100.0%) in 8.26 sec. Users per second: 4202\n"
     ]
    },
    {
     "name": "stderr",
     "output_type": "stream",
     "text": [
      "[I 2024-12-26 03:03:18,748] Trial 362 finished with value: 0.11783158679627938 and parameters: {'topK': 7, 'shrink': 22.62411890045536, 'feature_weighting': 'none', 'normalize': False, 'tversky_alpha': 0.3315419673402741, 'tversky_beta': 1.8335588044855469}. Best is trial 281 with value: 0.11874846200526792.\n"
     ]
    },
    {
     "name": "stdout",
     "output_type": "stream",
     "text": [
      "Similarity column 38121 (100.0%), 5266.91 column/sec. Elapsed time 7.24 sec\n",
      "EvaluatorHoldout: Processed 34728 (100.0%) in 8.18 sec. Users per second: 4243\n"
     ]
    },
    {
     "name": "stderr",
     "output_type": "stream",
     "text": [
      "[I 2024-12-26 03:03:34,307] Trial 363 finished with value: 0.11865303429604099 and parameters: {'topK': 5, 'shrink': 23.171700745812025, 'feature_weighting': 'TF-IDF', 'normalize': True, 'tversky_alpha': 0.3482711423766558, 'tversky_beta': 1.8270691913175046}. Best is trial 281 with value: 0.11874846200526792.\n"
     ]
    },
    {
     "name": "stdout",
     "output_type": "stream",
     "text": [
      "Similarity column 38121 (100.0%), 5325.67 column/sec. Elapsed time 7.16 sec\n",
      "EvaluatorHoldout: Processed 34728 (100.0%) in 8.23 sec. Users per second: 4222\n"
     ]
    },
    {
     "name": "stderr",
     "output_type": "stream",
     "text": [
      "[I 2024-12-26 03:03:49,828] Trial 364 finished with value: 0.11820573418341661 and parameters: {'topK': 6, 'shrink': 22.204278107922363, 'feature_weighting': 'TF-IDF', 'normalize': True, 'tversky_alpha': 0.34685274671138167, 'tversky_beta': 1.8308286105346603}. Best is trial 281 with value: 0.11874846200526792.\n"
     ]
    },
    {
     "name": "stdout",
     "output_type": "stream",
     "text": [
      "Similarity column 38121 (100.0%), 5234.56 column/sec. Elapsed time 7.28 sec\n",
      "EvaluatorHoldout: Processed 34728 (100.0%) in 9.01 sec. Users per second: 3856\n"
     ]
    },
    {
     "name": "stderr",
     "output_type": "stream",
     "text": [
      "[I 2024-12-26 03:04:06,261] Trial 365 finished with value: 0.11315087703576307 and parameters: {'topK': 38, 'shrink': 24.98680345686343, 'feature_weighting': 'TF-IDF', 'normalize': True, 'tversky_alpha': 0.3435592873391712, 'tversky_beta': 1.854740357804615}. Best is trial 281 with value: 0.11874846200526792.\n"
     ]
    },
    {
     "name": "stdout",
     "output_type": "stream",
     "text": [
      "Similarity column 38121 (100.0%), 5297.10 column/sec. Elapsed time 7.20 sec\n",
      "EvaluatorHoldout: Processed 34728 (100.0%) in 8.22 sec. Users per second: 4224\n"
     ]
    },
    {
     "name": "stderr",
     "output_type": "stream",
     "text": [
      "[I 2024-12-26 03:04:21,816] Trial 366 finished with value: 0.11866107361204482 and parameters: {'topK': 5, 'shrink': 23.238204752518723, 'feature_weighting': 'TF-IDF', 'normalize': True, 'tversky_alpha': 0.3557784545627073, 'tversky_beta': 1.8043160503134543}. Best is trial 281 with value: 0.11874846200526792.\n"
     ]
    },
    {
     "name": "stdout",
     "output_type": "stream",
     "text": [
      "Similarity column 38121 (100.0%), 5299.99 column/sec. Elapsed time 7.19 sec\n",
      "EvaluatorHoldout: Processed 34728 (100.0%) in 8.19 sec. Users per second: 4241\n"
     ]
    },
    {
     "name": "stderr",
     "output_type": "stream",
     "text": [
      "[I 2024-12-26 03:04:37,336] Trial 367 finished with value: 0.11862668700872926 and parameters: {'topK': 5, 'shrink': 22.82542531736269, 'feature_weighting': 'TF-IDF', 'normalize': True, 'tversky_alpha': 0.3519381413211384, 'tversky_beta': 1.813067753998802}. Best is trial 281 with value: 0.11874846200526792.\n"
     ]
    },
    {
     "name": "stdout",
     "output_type": "stream",
     "text": [
      "Similarity column 38121 (100.0%), 5299.82 column/sec. Elapsed time 7.19 sec\n",
      "EvaluatorHoldout: Processed 34728 (100.0%) in 8.28 sec. Users per second: 4193\n"
     ]
    },
    {
     "name": "stderr",
     "output_type": "stream",
     "text": [
      "[I 2024-12-26 03:04:52,948] Trial 368 finished with value: 0.11816792427899091 and parameters: {'topK': 8, 'shrink': 22.775402989065928, 'feature_weighting': 'TF-IDF', 'normalize': True, 'tversky_alpha': 0.3373209945060316, 'tversky_beta': 1.8010780026008755}. Best is trial 281 with value: 0.11874846200526792.\n"
     ]
    },
    {
     "name": "stdout",
     "output_type": "stream",
     "text": [
      "Similarity column 38121 (100.0%), 5347.81 column/sec. Elapsed time 7.13 sec\n",
      "EvaluatorHoldout: Processed 34728 (100.0%) in 8.50 sec. Users per second: 4088\n"
     ]
    },
    {
     "name": "stderr",
     "output_type": "stream",
     "text": [
      "[I 2024-12-26 03:05:08,720] Trial 369 finished with value: 0.11741240336531035 and parameters: {'topK': 14, 'shrink': 21.907395524896174, 'feature_weighting': 'TF-IDF', 'normalize': True, 'tversky_alpha': 0.3556615369230728, 'tversky_beta': 1.803409198363951}. Best is trial 281 with value: 0.11874846200526792.\n"
     ]
    },
    {
     "name": "stdout",
     "output_type": "stream",
     "text": [
      "Similarity column 38121 (100.0%), 2314.89 column/sec. Elapsed time 16.47 sec\n",
      "EvaluatorHoldout: Processed 34728 (100.0%) in 8.08 sec. Users per second: 4299\n"
     ]
    },
    {
     "name": "stderr",
     "output_type": "stream",
     "text": [
      "[I 2024-12-26 03:05:33,421] Trial 370 finished with value: 0.11449062315365478 and parameters: {'topK': 2, 'shrink': 22.43646493219993, 'feature_weighting': 'TF-IDF', 'normalize': True, 'tversky_alpha': 0.35678368053881915, 'tversky_beta': 1.8673982285180275}. Best is trial 281 with value: 0.11874846200526792.\n"
     ]
    },
    {
     "name": "stdout",
     "output_type": "stream",
     "text": [
      "Similarity column 38121 (100.0%), 5293.12 column/sec. Elapsed time 7.20 sec\n",
      "EvaluatorHoldout: Processed 34728 (100.0%) in 8.15 sec. Users per second: 4260\n"
     ]
    },
    {
     "name": "stderr",
     "output_type": "stream",
     "text": [
      "[I 2024-12-26 03:05:48,913] Trial 371 finished with value: 0.11838124428535532 and parameters: {'topK': 4, 'shrink': 23.178931524034407, 'feature_weighting': 'TF-IDF', 'normalize': True, 'tversky_alpha': 0.35667921024097243, 'tversky_beta': 1.8158729823947275}. Best is trial 281 with value: 0.11874846200526792.\n"
     ]
    },
    {
     "name": "stdout",
     "output_type": "stream",
     "text": [
      "Similarity column 38121 (100.0%), 5277.22 column/sec. Elapsed time 7.22 sec\n",
      "EvaluatorHoldout: Processed 34728 (100.0%) in 8.67 sec. Users per second: 4004\n"
     ]
    },
    {
     "name": "stderr",
     "output_type": "stream",
     "text": [
      "[I 2024-12-26 03:06:04,951] Trial 372 finished with value: 0.11475697788632404 and parameters: {'topK': 23, 'shrink': 21.644753784107838, 'feature_weighting': 'TF-IDF', 'normalize': True, 'tversky_alpha': 0.3421328298209771, 'tversky_beta': 1.7847890960543997}. Best is trial 281 with value: 0.11874846200526792.\n"
     ]
    },
    {
     "name": "stdout",
     "output_type": "stream",
     "text": [
      "Similarity column 38121 (100.0%), 5307.58 column/sec. Elapsed time 7.18 sec\n",
      "EvaluatorHoldout: Processed 34728 (100.0%) in 8.21 sec. Users per second: 4231\n"
     ]
    },
    {
     "name": "stderr",
     "output_type": "stream",
     "text": [
      "[I 2024-12-26 03:06:20,479] Trial 373 finished with value: 0.11834405040539903 and parameters: {'topK': 6, 'shrink': 22.969227619061623, 'feature_weighting': 'TF-IDF', 'normalize': True, 'tversky_alpha': 0.33201250198423515, 'tversky_beta': 1.8581114288419982}. Best is trial 281 with value: 0.11874846200526792.\n"
     ]
    },
    {
     "name": "stdout",
     "output_type": "stream",
     "text": [
      "Similarity column 38121 (100.0%), 5312.01 column/sec. Elapsed time 7.18 sec\n",
      "EvaluatorHoldout: Processed 34728 (100.0%) in 8.23 sec. Users per second: 4221\n"
     ]
    },
    {
     "name": "stderr",
     "output_type": "stream",
     "text": [
      "[I 2024-12-26 03:06:36,020] Trial 374 finished with value: 0.11809897362185819 and parameters: {'topK': 7, 'shrink': 22.40614423734149, 'feature_weighting': 'TF-IDF', 'normalize': True, 'tversky_alpha': 0.36768164621136357, 'tversky_beta': 1.7484861610326217}. Best is trial 281 with value: 0.11874846200526792.\n"
     ]
    },
    {
     "name": "stdout",
     "output_type": "stream",
     "text": [
      "Similarity column 38121 (100.0%), 5320.62 column/sec. Elapsed time 7.16 sec\n",
      "EvaluatorHoldout: Processed 34728 (100.0%) in 8.21 sec. Users per second: 4230\n"
     ]
    },
    {
     "name": "stderr",
     "output_type": "stream",
     "text": [
      "[I 2024-12-26 03:06:51,532] Trial 375 finished with value: 0.11858769875148469 and parameters: {'topK': 5, 'shrink': 23.386737192741716, 'feature_weighting': 'TF-IDF', 'normalize': True, 'tversky_alpha': 0.3253527997010354, 'tversky_beta': 1.8285541160650032}. Best is trial 281 with value: 0.11874846200526792.\n"
     ]
    },
    {
     "name": "stdout",
     "output_type": "stream",
     "text": [
      "Similarity column 38121 (100.0%), 1649.92 column/sec. Elapsed time 23.10 sec\n",
      "EvaluatorHoldout: Processed 34728 (100.0%) in 8.13 sec. Users per second: 4273\n"
     ]
    },
    {
     "name": "stderr",
     "output_type": "stream",
     "text": [
      "[I 2024-12-26 03:07:22,902] Trial 376 finished with value: 0.11665616260520562 and parameters: {'topK': 3, 'shrink': 22.89705912121772, 'feature_weighting': 'TF-IDF', 'normalize': True, 'tversky_alpha': 0.6462306680733432, 'tversky_beta': 1.7908633710916542}. Best is trial 281 with value: 0.11874846200526792.\n"
     ]
    },
    {
     "name": "stdout",
     "output_type": "stream",
     "text": [
      "Similarity column 38121 (100.0%), 5297.54 column/sec. Elapsed time 7.20 sec\n",
      "EvaluatorHoldout: Processed 34728 (100.0%) in 8.91 sec. Users per second: 3896\n"
     ]
    },
    {
     "name": "stderr",
     "output_type": "stream",
     "text": [
      "[I 2024-12-26 03:07:39,154] Trial 377 finished with value: 0.11380266108518217 and parameters: {'topK': 32, 'shrink': 21.282069172338648, 'feature_weighting': 'TF-IDF', 'normalize': True, 'tversky_alpha': 0.3488161644956565, 'tversky_beta': 1.8681691601172183}. Best is trial 281 with value: 0.11874846200526792.\n"
     ]
    },
    {
     "name": "stdout",
     "output_type": "stream",
     "text": [
      "Similarity column 38121 (100.0%), 5350.67 column/sec. Elapsed time 7.12 sec\n",
      "EvaluatorHoldout: Processed 34728 (100.0%) in 8.17 sec. Users per second: 4252\n"
     ]
    },
    {
     "name": "stderr",
     "output_type": "stream",
     "text": [
      "[I 2024-12-26 03:07:54,586] Trial 378 finished with value: 0.11807386667781031 and parameters: {'topK': 4, 'shrink': 21.978240788106504, 'feature_weighting': 'TF-IDF', 'normalize': True, 'tversky_alpha': 0.3758745899621372, 'tversky_beta': 1.742938296453645}. Best is trial 281 with value: 0.11874846200526792.\n"
     ]
    },
    {
     "name": "stdout",
     "output_type": "stream",
     "text": [
      "Similarity column 38121 (100.0%), 5333.35 column/sec. Elapsed time 7.15 sec\n",
      "EvaluatorHoldout: Processed 34728 (100.0%) in 8.24 sec. Users per second: 4215\n"
     ]
    },
    {
     "name": "stderr",
     "output_type": "stream",
     "text": [
      "[I 2024-12-26 03:08:10,113] Trial 379 finished with value: 0.11832709256366884 and parameters: {'topK': 6, 'shrink': 23.5713563801093, 'feature_weighting': 'TF-IDF', 'normalize': True, 'tversky_alpha': 0.3402325279838953, 'tversky_beta': 1.809682522532608}. Best is trial 281 with value: 0.11874846200526792.\n"
     ]
    },
    {
     "name": "stdout",
     "output_type": "stream",
     "text": [
      "Similarity column 38121 (100.0%), 5348.80 column/sec. Elapsed time 7.13 sec\n",
      "EvaluatorHoldout: Processed 34728 (100.0%) in 8.27 sec. Users per second: 4200\n"
     ]
    },
    {
     "name": "stderr",
     "output_type": "stream",
     "text": [
      "[I 2024-12-26 03:08:25,646] Trial 380 finished with value: 0.11850955434239557 and parameters: {'topK': 5, 'shrink': 22.48069846527513, 'feature_weighting': 'TF-IDF', 'normalize': True, 'tversky_alpha': 0.3645823306738701, 'tversky_beta': 1.7847546587078023}. Best is trial 281 with value: 0.11874846200526792.\n"
     ]
    },
    {
     "name": "stdout",
     "output_type": "stream",
     "text": [
      "Similarity column 38121 (100.0%), 5349.67 column/sec. Elapsed time 7.13 sec\n",
      "EvaluatorHoldout: Processed 34728 (100.0%) in 8.21 sec. Users per second: 4230\n"
     ]
    },
    {
     "name": "stderr",
     "output_type": "stream",
     "text": [
      "[I 2024-12-26 03:08:41,118] Trial 381 finished with value: 0.11827781111223426 and parameters: {'topK': 4, 'shrink': 23.32123366574323, 'feature_weighting': 'TF-IDF', 'normalize': True, 'tversky_alpha': 0.3841921036867299, 'tversky_beta': 1.8208110636213577}. Best is trial 281 with value: 0.11874846200526792.\n"
     ]
    },
    {
     "name": "stdout",
     "output_type": "stream",
     "text": [
      "Similarity column 38121 (100.0%), 5351.75 column/sec. Elapsed time 7.12 sec\n",
      "EvaluatorHoldout: Processed 34728 (100.0%) in 8.24 sec. Users per second: 4217\n"
     ]
    },
    {
     "name": "stderr",
     "output_type": "stream",
     "text": [
      "[I 2024-12-26 03:08:56,614] Trial 382 finished with value: 0.11843390105299446 and parameters: {'topK': 5, 'shrink': 20.892736946866336, 'feature_weighting': 'TF-IDF', 'normalize': True, 'tversky_alpha': 0.3497573575916429, 'tversky_beta': 1.7201280465748303}. Best is trial 281 with value: 0.11874846200526792.\n"
     ]
    },
    {
     "name": "stdout",
     "output_type": "stream",
     "text": [
      "Similarity column 38121 (100.0%), 5344.53 column/sec. Elapsed time 7.13 sec\n",
      "EvaluatorHoldout: Processed 34728 (100.0%) in 8.90 sec. Users per second: 3904\n"
     ]
    },
    {
     "name": "stderr",
     "output_type": "stream",
     "text": [
      "[I 2024-12-26 03:09:12,784] Trial 383 finished with value: 0.11328703164665631 and parameters: {'topK': 27, 'shrink': 23.80000440486675, 'feature_weighting': 'TF-IDF', 'normalize': True, 'tversky_alpha': 0.7879405974582482, 'tversky_beta': 1.895251489572163}. Best is trial 281 with value: 0.11874846200526792.\n"
     ]
    },
    {
     "name": "stdout",
     "output_type": "stream",
     "text": [
      "Similarity column 38121 (100.0%), 5332.71 column/sec. Elapsed time 7.15 sec\n",
      "EvaluatorHoldout: Processed 34728 (100.0%) in 8.33 sec. Users per second: 4169\n"
     ]
    },
    {
     "name": "stderr",
     "output_type": "stream",
     "text": [
      "[I 2024-12-26 03:09:28,401] Trial 384 finished with value: 0.11824068506209179 and parameters: {'topK': 8, 'shrink': 23.092957511996165, 'feature_weighting': 'TF-IDF', 'normalize': True, 'tversky_alpha': 0.3210428850198582, 'tversky_beta': 1.7650870833178844}. Best is trial 281 with value: 0.11874846200526792.\n"
     ]
    },
    {
     "name": "stdout",
     "output_type": "stream",
     "text": [
      "Similarity column 38121 (100.0%), 5321.81 column/sec. Elapsed time 7.16 sec\n",
      "EvaluatorHoldout: Processed 34728 (100.0%) in 8.23 sec. Users per second: 4221\n"
     ]
    },
    {
     "name": "stderr",
     "output_type": "stream",
     "text": [
      "[I 2024-12-26 03:09:43,932] Trial 385 finished with value: 0.10804963601157895 and parameters: {'topK': 6, 'shrink': 23.86402896790301, 'feature_weighting': 'BM25', 'normalize': True, 'tversky_alpha': 0.3869403376422383, 'tversky_beta': 1.8461174529168995}. Best is trial 281 with value: 0.11874846200526792.\n"
     ]
    },
    {
     "name": "stdout",
     "output_type": "stream",
     "text": [
      "Similarity column 38121 (100.0%), 5325.08 column/sec. Elapsed time 7.16 sec\n",
      "EvaluatorHoldout: Processed 34728 (100.0%) in 8.35 sec. Users per second: 4161\n"
     ]
    },
    {
     "name": "stderr",
     "output_type": "stream",
     "text": [
      "[I 2024-12-26 03:09:59,574] Trial 386 finished with value: 0.11564739235540561 and parameters: {'topK': 7, 'shrink': 9.810229612666868, 'feature_weighting': 'TF-IDF', 'normalize': True, 'tversky_alpha': 0.1612706371014617, 'tversky_beta': 0.37402494980272316}. Best is trial 281 with value: 0.11874846200526792.\n"
     ]
    },
    {
     "name": "stdout",
     "output_type": "stream",
     "text": [
      "Similarity column 38121 (100.0%), 1650.86 column/sec. Elapsed time 23.09 sec\n",
      "EvaluatorHoldout: Processed 34728 (100.0%) in 8.07 sec. Users per second: 4306\n"
     ]
    },
    {
     "name": "stderr",
     "output_type": "stream",
     "text": [
      "[I 2024-12-26 03:10:30,870] Trial 387 finished with value: 0.11726615400309644 and parameters: {'topK': 3, 'shrink': 22.79793846981926, 'feature_weighting': 'TF-IDF', 'normalize': True, 'tversky_alpha': 0.32917268012120143, 'tversky_beta': 1.765575391433554}. Best is trial 281 with value: 0.11874846200526792.\n"
     ]
    },
    {
     "name": "stdout",
     "output_type": "stream",
     "text": [
      "Similarity column 38121 (100.0%), 5313.49 column/sec. Elapsed time 7.17 sec\n",
      "EvaluatorHoldout: Processed 34728 (100.0%) in 8.25 sec. Users per second: 4210\n"
     ]
    },
    {
     "name": "stderr",
     "output_type": "stream",
     "text": [
      "[I 2024-12-26 03:10:46,430] Trial 388 finished with value: 0.11835283699295146 and parameters: {'topK': 6, 'shrink': 22.040690773398026, 'feature_weighting': 'TF-IDF', 'normalize': True, 'tversky_alpha': 0.36637543678466344, 'tversky_beta': 1.7165688584561622}. Best is trial 281 with value: 0.11874846200526792.\n"
     ]
    },
    {
     "name": "stdout",
     "output_type": "stream",
     "text": [
      "Similarity column 38121 (100.0%), 5336.35 column/sec. Elapsed time 7.14 sec\n",
      "EvaluatorHoldout: Processed 34728 (100.0%) in 8.24 sec. Users per second: 4214\n"
     ]
    },
    {
     "name": "stderr",
     "output_type": "stream",
     "text": [
      "[I 2024-12-26 03:11:01,953] Trial 389 finished with value: 0.11864551915911428 and parameters: {'topK': 5, 'shrink': 23.406650150099733, 'feature_weighting': 'TF-IDF', 'normalize': False, 'tversky_alpha': 0.3452121504512711, 'tversky_beta': 1.8239845912823462}. Best is trial 281 with value: 0.11874846200526792.\n"
     ]
    },
    {
     "name": "stdout",
     "output_type": "stream",
     "text": [
      "Similarity column 38121 (100.0%), 5307.88 column/sec. Elapsed time 7.18 sec\n",
      "EvaluatorHoldout: Processed 34728 (100.0%) in 8.16 sec. Users per second: 4255\n"
     ]
    },
    {
     "name": "stderr",
     "output_type": "stream",
     "text": [
      "[I 2024-12-26 03:11:17,438] Trial 390 finished with value: 0.11841548517436468 and parameters: {'topK': 4, 'shrink': 22.512977320186568, 'feature_weighting': 'TF-IDF', 'normalize': False, 'tversky_alpha': 0.3416861935756726, 'tversky_beta': 1.8979530835509315}. Best is trial 281 with value: 0.11874846200526792.\n"
     ]
    },
    {
     "name": "stdout",
     "output_type": "stream",
     "text": [
      "Similarity column 38121 (100.0%), 5319.43 column/sec. Elapsed time 7.17 sec\n",
      "EvaluatorHoldout: Processed 34728 (100.0%) in 8.36 sec. Users per second: 4156\n"
     ]
    },
    {
     "name": "stderr",
     "output_type": "stream",
     "text": [
      "[I 2024-12-26 03:11:33,101] Trial 391 finished with value: 0.11775433742389754 and parameters: {'topK': 10, 'shrink': 23.244105466210357, 'feature_weighting': 'TF-IDF', 'normalize': False, 'tversky_alpha': 0.3237336588347871, 'tversky_beta': 1.8399232112615176}. Best is trial 281 with value: 0.11874846200526792.\n"
     ]
    },
    {
     "name": "stdout",
     "output_type": "stream",
     "text": [
      "Similarity column 38121 (100.0%), 5307.18 column/sec. Elapsed time 7.18 sec\n",
      "EvaluatorHoldout: Processed 34728 (100.0%) in 8.18 sec. Users per second: 4248\n"
     ]
    },
    {
     "name": "stderr",
     "output_type": "stream",
     "text": [
      "[I 2024-12-26 03:11:48,596] Trial 392 finished with value: 0.11832174161655855 and parameters: {'topK': 5, 'shrink': 21.49158563353688, 'feature_weighting': 'TF-IDF', 'normalize': False, 'tversky_alpha': 0.3527400877900233, 'tversky_beta': 1.8190243503840693}. Best is trial 281 with value: 0.11874846200526792.\n"
     ]
    },
    {
     "name": "stdout",
     "output_type": "stream",
     "text": [
      "Similarity column 38121 (100.0%), 2320.33 column/sec. Elapsed time 16.43 sec\n",
      "EvaluatorHoldout: Processed 34728 (100.0%) in 8.04 sec. Users per second: 4321\n"
     ]
    },
    {
     "name": "stderr",
     "output_type": "stream",
     "text": [
      "[I 2024-12-26 03:12:13,202] Trial 393 finished with value: 0.11428715034380202 and parameters: {'topK': 2, 'shrink': 22.8687780653295, 'feature_weighting': 'TF-IDF', 'normalize': False, 'tversky_alpha': 0.31245472608153385, 'tversky_beta': 1.840153530871707}. Best is trial 281 with value: 0.11874846200526792.\n"
     ]
    },
    {
     "name": "stdout",
     "output_type": "stream",
     "text": [
      "Similarity column 38121 (100.0%), 5336.16 column/sec. Elapsed time 7.14 sec\n",
      "EvaluatorHoldout: Processed 34728 (100.0%) in 8.18 sec. Users per second: 4247\n"
     ]
    },
    {
     "name": "stderr",
     "output_type": "stream",
     "text": [
      "[I 2024-12-26 03:12:28,661] Trial 394 finished with value: 0.11825627649490476 and parameters: {'topK': 4, 'shrink': 23.613618646178047, 'feature_weighting': 'TF-IDF', 'normalize': False, 'tversky_alpha': 0.34296919185340163, 'tversky_beta': 1.870717143207857}. Best is trial 281 with value: 0.11874846200526792.\n"
     ]
    },
    {
     "name": "stdout",
     "output_type": "stream",
     "text": [
      "Similarity column 38121 (100.0%), 5322.70 column/sec. Elapsed time 7.16 sec\n",
      "EvaluatorHoldout: Processed 34728 (100.0%) in 8.29 sec. Users per second: 4190\n"
     ]
    },
    {
     "name": "stderr",
     "output_type": "stream",
     "text": [
      "[I 2024-12-26 03:12:44,248] Trial 395 finished with value: 0.11796724570097826 and parameters: {'topK': 7, 'shrink': 22.351691189446843, 'feature_weighting': 'TF-IDF', 'normalize': False, 'tversky_alpha': 0.3074501854352232, 'tversky_beta': 1.8011971302580936}. Best is trial 281 with value: 0.11874846200526792.\n"
     ]
    },
    {
     "name": "stdout",
     "output_type": "stream",
     "text": [
      "Similarity column 38121 (100.0%), 5342.40 column/sec. Elapsed time 7.14 sec\n",
      "EvaluatorHoldout: Processed 34728 (100.0%) in 8.28 sec. Users per second: 4196\n"
     ]
    },
    {
     "name": "stderr",
     "output_type": "stream",
     "text": [
      "[I 2024-12-26 03:12:59,797] Trial 396 finished with value: 0.11824605942478109 and parameters: {'topK': 6, 'shrink': 23.22530124076518, 'feature_weighting': 'TF-IDF', 'normalize': False, 'tversky_alpha': 0.36582580110801177, 'tversky_beta': 1.7533682577146368}. Best is trial 281 with value: 0.11874846200526792.\n"
     ]
    },
    {
     "name": "stdout",
     "output_type": "stream",
     "text": [
      "Similarity column 38121 (100.0%), 1649.78 column/sec. Elapsed time 23.11 sec\n",
      "EvaluatorHoldout: Processed 34728 (100.0%) in 8.03 sec. Users per second: 4326\n"
     ]
    },
    {
     "name": "stderr",
     "output_type": "stream",
     "text": [
      "[I 2024-12-26 03:13:31,070] Trial 397 finished with value: 0.11713153359009996 and parameters: {'topK': 3, 'shrink': 23.822285534598688, 'feature_weighting': 'TF-IDF', 'normalize': False, 'tversky_alpha': 0.14589552191993113, 'tversky_beta': 1.6957760480842856}. Best is trial 281 with value: 0.11874846200526792.\n"
     ]
    },
    {
     "name": "stdout",
     "output_type": "stream",
     "text": [
      "Similarity column 38121 (100.0%), 5326.93 column/sec. Elapsed time 7.16 sec\n",
      "EvaluatorHoldout: Processed 34728 (100.0%) in 8.20 sec. Users per second: 4235\n"
     ]
    },
    {
     "name": "stderr",
     "output_type": "stream",
     "text": [
      "[I 2024-12-26 03:13:46,564] Trial 398 finished with value: 0.11842205410935974 and parameters: {'topK': 5, 'shrink': 22.034718519239668, 'feature_weighting': 'TF-IDF', 'normalize': False, 'tversky_alpha': 0.3274519540362769, 'tversky_beta': 1.8019344321457857}. Best is trial 281 with value: 0.11874846200526792.\n"
     ]
    },
    {
     "name": "stdout",
     "output_type": "stream",
     "text": [
      "Similarity column 38121 (100.0%), 5323.23 column/sec. Elapsed time 7.16 sec\n",
      "EvaluatorHoldout: Processed 34728 (100.0%) in 8.16 sec. Users per second: 4258\n"
     ]
    },
    {
     "name": "stderr",
     "output_type": "stream",
     "text": [
      "[I 2024-12-26 03:14:02,021] Trial 399 finished with value: 0.10721877532469669 and parameters: {'topK': 4, 'shrink': 20.47049282776635, 'feature_weighting': 'BM25', 'normalize': False, 'tversky_alpha': 0.10895234557741798, 'tversky_beta': 1.861708540293437}. Best is trial 281 with value: 0.11874846200526792.\n"
     ]
    }
   ],
   "source": [
    "optuna_study = op.create_study(direction=\"maximize\")\n",
    "        \n",
    "save_results_tanimoto = SaveResults(\"result_experiments/ItemKNNCFRecommender/results_tversky_optuna_recall.csv\")\n",
    "        \n",
    "optuna_study.optimize(objective_function_KNN,\n",
    "                      callbacks=[save_results_tanimoto],\n",
    "                      n_trials = 400)"
   ]
  },
  {
   "cell_type": "code",
   "execution_count": 15,
   "id": "8337f9d0-17b3-4db1-9bf2-2d698b7b6dbc",
   "metadata": {
    "scrolled": true
   },
   "outputs": [
    {
     "data": {
      "text/html": [
       "<div>\n",
       "<style scoped>\n",
       "    .dataframe tbody tr th:only-of-type {\n",
       "        vertical-align: middle;\n",
       "    }\n",
       "\n",
       "    .dataframe tbody tr th {\n",
       "        vertical-align: top;\n",
       "    }\n",
       "\n",
       "    .dataframe thead th {\n",
       "        text-align: right;\n",
       "    }\n",
       "</style>\n",
       "<table border=\"1\" class=\"dataframe\">\n",
       "  <thead>\n",
       "    <tr style=\"text-align: right;\">\n",
       "      <th></th>\n",
       "      <th>topK</th>\n",
       "      <th>shrink</th>\n",
       "      <th>feature_weighting</th>\n",
       "      <th>normalize</th>\n",
       "      <th>tversky_alpha</th>\n",
       "      <th>tversky_beta</th>\n",
       "      <th>iteration</th>\n",
       "      <th>RECALL</th>\n",
       "      <th>MAP</th>\n",
       "    </tr>\n",
       "  </thead>\n",
       "  <tbody>\n",
       "    <tr>\n",
       "      <th>96</th>\n",
       "      <td>6</td>\n",
       "      <td>21.589349</td>\n",
       "      <td>TF-IDF</td>\n",
       "      <td>False</td>\n",
       "      <td>0.167252</td>\n",
       "      <td>1.722013</td>\n",
       "      <td>96</td>\n",
       "      <td>0.118551</td>\n",
       "      <td>0.028130</td>\n",
       "    </tr>\n",
       "    <tr>\n",
       "      <th>220</th>\n",
       "      <td>6</td>\n",
       "      <td>22.217756</td>\n",
       "      <td>none</td>\n",
       "      <td>False</td>\n",
       "      <td>0.227589</td>\n",
       "      <td>1.788536</td>\n",
       "      <td>220</td>\n",
       "      <td>0.118239</td>\n",
       "      <td>0.028126</td>\n",
       "    </tr>\n",
       "    <tr>\n",
       "      <th>102</th>\n",
       "      <td>6</td>\n",
       "      <td>21.079349</td>\n",
       "      <td>TF-IDF</td>\n",
       "      <td>False</td>\n",
       "      <td>0.196247</td>\n",
       "      <td>1.733155</td>\n",
       "      <td>102</td>\n",
       "      <td>0.118240</td>\n",
       "      <td>0.028112</td>\n",
       "    </tr>\n",
       "    <tr>\n",
       "      <th>83</th>\n",
       "      <td>6</td>\n",
       "      <td>22.622420</td>\n",
       "      <td>TF-IDF</td>\n",
       "      <td>False</td>\n",
       "      <td>0.255611</td>\n",
       "      <td>1.770004</td>\n",
       "      <td>83</td>\n",
       "      <td>0.118308</td>\n",
       "      <td>0.028104</td>\n",
       "    </tr>\n",
       "    <tr>\n",
       "      <th>249</th>\n",
       "      <td>6</td>\n",
       "      <td>20.613082</td>\n",
       "      <td>none</td>\n",
       "      <td>False</td>\n",
       "      <td>0.235928</td>\n",
       "      <td>1.767350</td>\n",
       "      <td>249</td>\n",
       "      <td>0.118309</td>\n",
       "      <td>0.028103</td>\n",
       "    </tr>\n",
       "    <tr>\n",
       "      <th>...</th>\n",
       "      <td>...</td>\n",
       "      <td>...</td>\n",
       "      <td>...</td>\n",
       "      <td>...</td>\n",
       "      <td>...</td>\n",
       "      <td>...</td>\n",
       "      <td>...</td>\n",
       "      <td>...</td>\n",
       "      <td>...</td>\n",
       "    </tr>\n",
       "    <tr>\n",
       "      <th>6</th>\n",
       "      <td>19</td>\n",
       "      <td>18.287544</td>\n",
       "      <td>BM25</td>\n",
       "      <td>True</td>\n",
       "      <td>0.702835</td>\n",
       "      <td>0.703088</td>\n",
       "      <td>6</td>\n",
       "      <td>0.103331</td>\n",
       "      <td>0.023864</td>\n",
       "    </tr>\n",
       "    <tr>\n",
       "      <th>5</th>\n",
       "      <td>47</td>\n",
       "      <td>8.640345</td>\n",
       "      <td>BM25</td>\n",
       "      <td>False</td>\n",
       "      <td>0.346342</td>\n",
       "      <td>1.396634</td>\n",
       "      <td>5</td>\n",
       "      <td>0.102509</td>\n",
       "      <td>0.023736</td>\n",
       "    </tr>\n",
       "    <tr>\n",
       "      <th>3</th>\n",
       "      <td>42</td>\n",
       "      <td>8.196521</td>\n",
       "      <td>BM25</td>\n",
       "      <td>False</td>\n",
       "      <td>0.173447</td>\n",
       "      <td>0.219287</td>\n",
       "      <td>3</td>\n",
       "      <td>0.099767</td>\n",
       "      <td>0.022978</td>\n",
       "    </tr>\n",
       "    <tr>\n",
       "      <th>43</th>\n",
       "      <td>2</td>\n",
       "      <td>22.286228</td>\n",
       "      <td>TF-IDF</td>\n",
       "      <td>False</td>\n",
       "      <td>0.320202</td>\n",
       "      <td>0.102723</td>\n",
       "      <td>43</td>\n",
       "      <td>0.100111</td>\n",
       "      <td>0.022212</td>\n",
       "    </tr>\n",
       "    <tr>\n",
       "      <th>4</th>\n",
       "      <td>49</td>\n",
       "      <td>5.662980</td>\n",
       "      <td>BM25</td>\n",
       "      <td>False</td>\n",
       "      <td>0.702385</td>\n",
       "      <td>0.202923</td>\n",
       "      <td>4</td>\n",
       "      <td>0.089596</td>\n",
       "      <td>0.020286</td>\n",
       "    </tr>\n",
       "  </tbody>\n",
       "</table>\n",
       "<p>400 rows × 9 columns</p>\n",
       "</div>"
      ],
      "text/plain": [
       "     topK     shrink feature_weighting  normalize  tversky_alpha  \\\n",
       "96      6  21.589349            TF-IDF      False       0.167252   \n",
       "220     6  22.217756              none      False       0.227589   \n",
       "102     6  21.079349            TF-IDF      False       0.196247   \n",
       "83      6  22.622420            TF-IDF      False       0.255611   \n",
       "249     6  20.613082              none      False       0.235928   \n",
       "..    ...        ...               ...        ...            ...   \n",
       "6      19  18.287544              BM25       True       0.702835   \n",
       "5      47   8.640345              BM25      False       0.346342   \n",
       "3      42   8.196521              BM25      False       0.173447   \n",
       "43      2  22.286228            TF-IDF      False       0.320202   \n",
       "4      49   5.662980              BM25      False       0.702385   \n",
       "\n",
       "     tversky_beta  iteration    RECALL       MAP  \n",
       "96       1.722013         96  0.118551  0.028130  \n",
       "220      1.788536        220  0.118239  0.028126  \n",
       "102      1.733155        102  0.118240  0.028112  \n",
       "83       1.770004         83  0.118308  0.028104  \n",
       "249      1.767350        249  0.118309  0.028103  \n",
       "..            ...        ...       ...       ...  \n",
       "6        0.703088          6  0.103331  0.023864  \n",
       "5        1.396634          5  0.102509  0.023736  \n",
       "3        0.219287          3  0.099767  0.022978  \n",
       "43       0.102723         43  0.100111  0.022212  \n",
       "4        0.202923          4  0.089596  0.020286  \n",
       "\n",
       "[400 rows x 9 columns]"
      ]
     },
     "execution_count": 15,
     "metadata": {},
     "output_type": "execute_result"
    }
   ],
   "source": [
    "pd.DataFrame(save_results_tanimoto.results).sort_values(by=[\"MAP\"], ascending=False)"
   ]
  },
  {
   "cell_type": "code",
   "execution_count": 18,
   "id": "a686d64f-ee15-44d8-9a19-ae7582a46317",
   "metadata": {
    "scrolled": true
   },
   "outputs": [
    {
     "data": {
      "text/plain": [
       "{'topK': 6,\n",
       " 'shrink': 21.589349496863413,\n",
       " 'feature_weighting': 'TF-IDF',\n",
       " 'normalize': False,\n",
       " 'tversky_alpha': 0.16725184866550824,\n",
       " 'tversky_beta': 1.722012798691049,\n",
       " 'iteration': 96,\n",
       " 'RECALL': 0.11855115150555026,\n",
       " 'MAP': 0.02812995231879061}"
      ]
     },
     "execution_count": 18,
     "metadata": {},
     "output_type": "execute_result"
    }
   ],
   "source": [
    "save_results_tanimoto.results[96]"
   ]
  },
  {
   "cell_type": "code",
   "execution_count": 18,
   "id": "e2f1f652-aa78-40e2-a336-f3d7e1cc0c44",
   "metadata": {},
   "outputs": [
    {
     "data": {
      "text/plain": [
       "0.0263499559387598"
      ]
     },
     "execution_count": 18,
     "metadata": {},
     "output_type": "execute_result"
    }
   ],
   "source": [
    "save_results_cosine.results_df['result'].max() "
   ]
  },
  {
   "cell_type": "code",
   "execution_count": 33,
   "id": "3aa4441b-1c1d-49bb-8ee2-edf45f5a4981",
   "metadata": {},
   "outputs": [],
   "source": [
    "save_results_adjusted.results_df.to_csv(\"result_experiments/ItemKNNCFRecommender/results_adjusted.csv\")"
   ]
  },
  {
   "cell_type": "code",
   "execution_count": null,
   "id": "a1d4f7ab-5e08-40cd-a041-1dc60f7e8a2b",
   "metadata": {},
   "outputs": [],
   "source": []
  }
 ],
 "metadata": {
  "kernelspec": {
   "display_name": "RecSys",
   "language": "python",
   "name": "recsys"
  },
  "language_info": {
   "codemirror_mode": {
    "name": "ipython",
    "version": 3
   },
   "file_extension": ".py",
   "mimetype": "text/x-python",
   "name": "python",
   "nbconvert_exporter": "python",
   "pygments_lexer": "ipython3",
   "version": "3.12.7"
  }
 },
 "nbformat": 4,
 "nbformat_minor": 5
}
