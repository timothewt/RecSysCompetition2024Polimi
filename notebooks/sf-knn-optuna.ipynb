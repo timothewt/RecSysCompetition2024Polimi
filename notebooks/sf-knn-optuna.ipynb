{
 "cells": [
  {
   "cell_type": "code",
   "execution_count": 1,
   "id": "427ee9c7-c5eb-4576-9f92-d74e65fe1ff2",
   "metadata": {},
   "outputs": [],
   "source": [
    "from pathlib import Path\n",
    "import sys  \n",
    "import os\n",
    "import pandas as pd \n",
    "from datetime import datetime\n",
    "import scipy.sparse as sps\n",
    "from numpy import linalg as LA\n",
    "\n",
    "import numpy as np\n",
    "from operator import itemgetter\n",
    "import optuna as op"
   ]
  },
  {
   "cell_type": "code",
   "execution_count": 2,
   "id": "093f7ac7-6d4f-465e-ab41-a35175a951d9",
   "metadata": {},
   "outputs": [],
   "source": [
    "sys.path.append(os.path.abspath(os.path.join(os.getcwd(), \"..\", \"libs\")))\n",
    "sys.path.append(os.path.abspath(os.path.join(os.getcwd(), \"..\")))\n",
    "sys.path.append(os.path.abspath(os.path.join(os.getcwd(), \"..\", \"src\")))"
   ]
  },
  {
   "cell_type": "code",
   "execution_count": 3,
   "id": "fdfa0eeb-aec3-4bae-9dcd-13d6332998b0",
   "metadata": {},
   "outputs": [],
   "source": [
    "%load_ext autoreload\n",
    "%autoreload 2"
   ]
  },
  {
   "cell_type": "code",
   "execution_count": 4,
   "id": "bdf9b1fa-533b-4e8a-95a2-ff86d3b89dde",
   "metadata": {},
   "outputs": [],
   "source": [
    "from Utils.load_URM import load_URM\n",
    "from Utils.load_ICM import load_ICM\n",
    "\n",
    "from scipy.sparse import hstack, vstack\n",
    "from Evaluation.Evaluator import EvaluatorHoldout\n",
    "from Data_manager.split_functions.split_train_validation_random_holdout import split_train_in_two_percentage_global_sample\n",
    "\n",
    "URM_all = load_URM(\"../data/data_train.csv\")\n",
    "ICM_all = load_ICM(\"../data/data_ICM_metadata.csv\")"
   ]
  },
  {
   "cell_type": "code",
   "execution_count": 5,
   "id": "9f73f948-e55c-4683-a283-5d256fda3580",
   "metadata": {},
   "outputs": [
    {
     "name": "stdout",
     "output_type": "stream",
     "text": [
      "Warning: 168 (0.47 %) of 35736 users have no sampled items\n"
     ]
    }
   ],
   "source": [
    "URM_train, URM_validation = split_train_in_two_percentage_global_sample(URM_all, train_percentage = 0.80)"
   ]
  },
  {
   "cell_type": "code",
   "execution_count": 6,
   "id": "126b0641-8559-4a8d-a09b-d64a0a38add1",
   "metadata": {},
   "outputs": [
    {
     "name": "stdout",
     "output_type": "stream",
     "text": [
      "EvaluatorHoldout: Ignoring 168 ( 0.5%) Users that have less than 1 test interactions\n"
     ]
    }
   ],
   "source": [
    "evaluator_validation = EvaluatorHoldout(URM_validation, cutoff_list=[10])"
   ]
  },
  {
   "cell_type": "code",
   "execution_count": 7,
   "id": "7de5e196-193e-47d5-8980-f12028eaa0a1",
   "metadata": {},
   "outputs": [],
   "source": [
    "from libs.Recommenders.KNN.ItemKNNCFRecommender import ItemKNNCFRecommender"
   ]
  },
  {
   "cell_type": "code",
   "execution_count": 9,
   "id": "b8f67403-803c-4616-96fd-d94f48e1125c",
   "metadata": {},
   "outputs": [
    {
     "name": "stdout",
     "output_type": "stream",
     "text": [
      "Similarity column 38121 (100.0%), 4609.88 column/sec. Elapsed time 8.27 sec\n"
     ]
    }
   ],
   "source": [
    "ItemKNNCFRecommender(URM_train).fit(similarity=\"asymmetric\")"
   ]
  },
  {
   "cell_type": "code",
   "execution_count": 12,
   "id": "c64a8998-643f-4d59-b65f-794d5cea619e",
   "metadata": {},
   "outputs": [],
   "source": [
    "def objective_function_KNN(optuna_trial):\n",
    "                       \n",
    "        \n",
    "    recommender_instance = ItemKNNCFRecommender(URM_train)\n",
    "    \n",
    "    similarity = 'euclidean'\n",
    "    \n",
    "    full_hyperp = {\"similarity\": similarity,\n",
    "                   \"topK\": optuna_trial.suggest_int(\"topK\", 2, 100),\n",
    "                   \"shrink\": optuna_trial.suggest_int(\"shrink\", 1 , 50),\n",
    "                   \"feature_weighting\": optuna_trial.suggest_categorical(\"feature_weighting\", [\"BM25\", \"TF-IDF\", \"none\"])\n",
    "                  }\n",
    "    \n",
    "    if similarity == \"asymmetric\":\n",
    "        full_hyperp[\"asymmetric_alpha\"] = optuna_trial.suggest_float(\"asymmetric_alpha\", 0, 2, log=False)\n",
    "        full_hyperp[\"normalize\"] = True\n",
    "\n",
    "    elif similarity == \"tversky\":\n",
    "        full_hyperp[\"tversky_alpha\"] = optuna_trial.suggest_float(\"tversky_alpha\", 0.1, 0.99, log=False)\n",
    "        full_hyperp[\"tversky_beta\"] = optuna_trial.suggest_float(\"tversky_beta\", 0.1, 1.9, log=False)\n",
    "        full_hyperp[\"normalize\"] = True \n",
    "\n",
    "    elif similarity == \"euclidean\":\n",
    "        full_hyperp[\"normalize_avg_row\"] = optuna_trial.suggest_categorical(\"normalize_avg_row\", [True, False])\n",
    "        full_hyperp[\"similarity_from_distance_mode\"] = optuna_trial.suggest_categorical(\"similarity_from_distance_mode\", [\"lin\", \"log\", \"exp\"])\n",
    "        full_hyperp[\"normalize\"] = optuna_trial.suggest_categorical(\"normalize\", [True, False])\n",
    "        \n",
    "    \n",
    "    recommender_instance.fit(**full_hyperp)\n",
    "    \n",
    "    eval_res, _ = evaluator_validation.evaluateRecommender(recommender_instance)    \n",
    "    return eval_res[\"MAP\"][10]"
   ]
  },
  {
   "cell_type": "code",
   "execution_count": 13,
   "id": "37d51566-0b96-4767-b79b-dc10521ebfb6",
   "metadata": {},
   "outputs": [],
   "source": [
    "class SaveResults(object):\n",
    "    \n",
    "    def __init__(self):\n",
    "        self.results_df = pd.DataFrame()\n",
    "    \n",
    "    def __call__(self, optuna_study, optuna_trial):\n",
    "        hyperparam_dict = optuna_trial.params.copy()\n",
    "        hyperparam_dict[\"result\"] = optuna_trial.values[0]\n",
    "        \n",
    "        \n",
    "        self.results_df = self.results_df._append(hyperparam_dict, ignore_index=True)"
   ]
  },
  {
   "cell_type": "code",
   "execution_count": 15,
   "id": "325be9e0-75d1-4cb8-afd4-5c44db69051c",
   "metadata": {
    "scrolled": true
   },
   "outputs": [
    {
     "name": "stderr",
     "output_type": "stream",
     "text": [
      "[I 2024-12-11 00:28:40,380] A new study created in memory with name: no-name-efc75200-8ce1-4db6-80a8-58524fe83bcd\n"
     ]
    },
    {
     "name": "stdout",
     "output_type": "stream",
     "text": [
      "Similarity column 38121 (100.0%), 1178.91 column/sec. Elapsed time 32.34 sec\n",
      "EvaluatorHoldout: Processed 35568 (100.0%) in 11.31 sec. Users per second: 3145\n"
     ]
    },
    {
     "name": "stderr",
     "output_type": "stream",
     "text": [
      "[I 2024-12-11 00:29:24,098] Trial 0 finished with value: 0.02592084065219966 and parameters: {'topK': 65, 'shrink': 3, 'feature_weighting': 'BM25', 'normalize_avg_row': True, 'similarity_from_distance_mode': 'log', 'normalize': True}. Best is trial 0 with value: 0.02592084065219966.\n"
     ]
    },
    {
     "name": "stdout",
     "output_type": "stream",
     "text": [
      "Similarity column 38121 (100.0%), 1075.67 column/sec. Elapsed time 35.44 sec\n",
      "EvaluatorHoldout: Processed 35568 (100.0%) in 9.13 sec. Users per second: 3894\n"
     ]
    },
    {
     "name": "stderr",
     "output_type": "stream",
     "text": [
      "[I 2024-12-11 00:30:08,724] Trial 1 finished with value: 0.04713635495433576 and parameters: {'topK': 2, 'shrink': 24, 'feature_weighting': 'TF-IDF', 'normalize_avg_row': False, 'similarity_from_distance_mode': 'log', 'normalize': True}. Best is trial 1 with value: 0.04713635495433576.\n"
     ]
    },
    {
     "name": "stdout",
     "output_type": "stream",
     "text": [
      "Similarity column 38121 (100.0%), 1305.89 column/sec. Elapsed time 29.19 sec\n",
      "EvaluatorHoldout: Processed 35568 (100.0%) in 11.07 sec. Users per second: 3213\n"
     ]
    },
    {
     "name": "stderr",
     "output_type": "stream",
     "text": [
      "[I 2024-12-11 00:30:49,041] Trial 2 finished with value: 0.027765742927474725 and parameters: {'topK': 83, 'shrink': 22, 'feature_weighting': 'none', 'normalize_avg_row': False, 'similarity_from_distance_mode': 'lin', 'normalize': True}. Best is trial 1 with value: 0.04713635495433576.\n"
     ]
    },
    {
     "name": "stdout",
     "output_type": "stream",
     "text": [
      "Similarity column 38121 (100.0%), 1293.56 column/sec. Elapsed time 29.47 sec\n",
      "EvaluatorHoldout: Processed 35568 (100.0%) in 11.03 sec. Users per second: 3224\n"
     ]
    },
    {
     "name": "stderr",
     "output_type": "stream",
     "text": [
      "[I 2024-12-11 00:31:29,614] Trial 3 finished with value: 0.02539188739298325 and parameters: {'topK': 76, 'shrink': 31, 'feature_weighting': 'BM25', 'normalize_avg_row': False, 'similarity_from_distance_mode': 'lin', 'normalize': True}. Best is trial 1 with value: 0.04713635495433576.\n"
     ]
    },
    {
     "name": "stdout",
     "output_type": "stream",
     "text": [
      "Similarity column 38121 (100.0%), 1237.94 column/sec. Elapsed time 30.79 sec\n",
      "EvaluatorHoldout: Processed 35568 (100.0%) in 10.86 sec. Users per second: 3276\n"
     ]
    },
    {
     "name": "stderr",
     "output_type": "stream",
     "text": [
      "[I 2024-12-11 00:32:11,307] Trial 4 finished with value: 0.029224909674470164 and parameters: {'topK': 67, 'shrink': 27, 'feature_weighting': 'none', 'normalize_avg_row': True, 'similarity_from_distance_mode': 'log', 'normalize': True}. Best is trial 1 with value: 0.04713635495433576.\n"
     ]
    },
    {
     "name": "stdout",
     "output_type": "stream",
     "text": [
      "Similarity column 38121 (100.0%), 1253.80 column/sec. Elapsed time 30.40 sec\n",
      "EvaluatorHoldout: Processed 35568 (100.0%) in 9.59 sec. Users per second: 3709\n"
     ]
    },
    {
     "name": "stderr",
     "output_type": "stream",
     "text": [
      "[I 2024-12-11 00:32:51,333] Trial 5 finished with value: 0.037879771097971575 and parameters: {'topK': 19, 'shrink': 25, 'feature_weighting': 'none', 'normalize_avg_row': False, 'similarity_from_distance_mode': 'log', 'normalize': True}. Best is trial 1 with value: 0.04713635495433576.\n"
     ]
    },
    {
     "name": "stdout",
     "output_type": "stream",
     "text": [
      "Similarity column 38121 (100.0%), 1180.33 column/sec. Elapsed time 32.30 sec\n",
      "EvaluatorHoldout: Processed 35568 (100.0%) in 15.02 sec. Users per second: 2368\n"
     ]
    },
    {
     "name": "stderr",
     "output_type": "stream",
     "text": [
      "[I 2024-12-11 00:33:38,720] Trial 6 finished with value: 0.0330743391598649 and parameters: {'topK': 84, 'shrink': 17, 'feature_weighting': 'BM25', 'normalize_avg_row': True, 'similarity_from_distance_mode': 'exp', 'normalize': False}. Best is trial 1 with value: 0.04713635495433576.\n"
     ]
    },
    {
     "name": "stdout",
     "output_type": "stream",
     "text": [
      "Similarity column 38121 (100.0%), 1269.81 column/sec. Elapsed time 30.02 sec\n",
      "EvaluatorHoldout: Processed 35568 (100.0%) in 8.92 sec. Users per second: 3990\n"
     ]
    },
    {
     "name": "stderr",
     "output_type": "stream",
     "text": [
      "[I 2024-12-11 00:34:17,714] Trial 7 finished with value: 0.028215980433633707 and parameters: {'topK': 30, 'shrink': 2, 'feature_weighting': 'TF-IDF', 'normalize_avg_row': True, 'similarity_from_distance_mode': 'exp', 'normalize': False}. Best is trial 1 with value: 0.04713635495433576.\n"
     ]
    },
    {
     "name": "stdout",
     "output_type": "stream",
     "text": [
      "Similarity column 38121 (100.0%), 1496.18 column/sec. Elapsed time 25.48 sec\n",
      "EvaluatorHoldout: Processed 35568 (100.0%) in 9.03 sec. Users per second: 3938\n"
     ]
    },
    {
     "name": "stderr",
     "output_type": "stream",
     "text": [
      "[I 2024-12-11 00:34:52,251] Trial 8 finished with value: 0.028731060200358174 and parameters: {'topK': 18, 'shrink': 35, 'feature_weighting': 'none', 'normalize_avg_row': False, 'similarity_from_distance_mode': 'lin', 'normalize': False}. Best is trial 1 with value: 0.04713635495433576.\n"
     ]
    },
    {
     "name": "stdout",
     "output_type": "stream",
     "text": [
      "Similarity column 38121 (100.0%), 1261.76 column/sec. Elapsed time 30.21 sec\n",
      "EvaluatorHoldout: Processed 35568 (100.0%) in 9.13 sec. Users per second: 3897\n"
     ]
    },
    {
     "name": "stderr",
     "output_type": "stream",
     "text": [
      "[I 2024-12-11 00:35:31,619] Trial 9 finished with value: 0.047777543484778806 and parameters: {'topK': 4, 'shrink': 47, 'feature_weighting': 'none', 'normalize_avg_row': False, 'similarity_from_distance_mode': 'exp', 'normalize': True}. Best is trial 9 with value: 0.047777543484778806.\n"
     ]
    },
    {
     "name": "stdout",
     "output_type": "stream",
     "text": [
      "Similarity column 38121 (100.0%), 1331.71 column/sec. Elapsed time 28.63 sec\n",
      "EvaluatorHoldout: Processed 35568 (100.0%) in 9.08 sec. Users per second: 3917\n"
     ]
    },
    {
     "name": "stderr",
     "output_type": "stream",
     "text": [
      "[I 2024-12-11 00:36:09,375] Trial 10 finished with value: 0.021604220888760264 and parameters: {'topK': 44, 'shrink': 50, 'feature_weighting': 'none', 'normalize_avg_row': False, 'similarity_from_distance_mode': 'exp', 'normalize': False}. Best is trial 9 with value: 0.047777543484778806.\n"
     ]
    },
    {
     "name": "stdout",
     "output_type": "stream",
     "text": [
      "Similarity column 38121 (100.0%), 1263.29 column/sec. Elapsed time 30.18 sec\n",
      "EvaluatorHoldout: Processed 35568 (100.0%) in 8.95 sec. Users per second: 3976\n"
     ]
    },
    {
     "name": "stderr",
     "output_type": "stream",
     "text": [
      "[I 2024-12-11 00:36:48,552] Trial 11 finished with value: 0.04791212807660016 and parameters: {'topK': 4, 'shrink': 39, 'feature_weighting': 'TF-IDF', 'normalize_avg_row': False, 'similarity_from_distance_mode': 'log', 'normalize': True}. Best is trial 11 with value: 0.04791212807660016.\n"
     ]
    },
    {
     "name": "stdout",
     "output_type": "stream",
     "text": [
      "Similarity column 38121 (100.0%), 1153.14 column/sec. Elapsed time 33.06 sec\n",
      "EvaluatorHoldout: Processed 35568 (100.0%) in 8.92 sec. Users per second: 3987\n"
     ]
    },
    {
     "name": "stderr",
     "output_type": "stream",
     "text": [
      "[I 2024-12-11 00:37:30,591] Trial 12 finished with value: 0.047138157894735216 and parameters: {'topK': 2, 'shrink': 43, 'feature_weighting': 'TF-IDF', 'normalize_avg_row': False, 'similarity_from_distance_mode': 'exp', 'normalize': True}. Best is trial 11 with value: 0.04791212807660016.\n"
     ]
    },
    {
     "name": "stdout",
     "output_type": "stream",
     "text": [
      "Similarity column 38121 (100.0%), 1202.20 column/sec. Elapsed time 31.71 sec\n",
      "EvaluatorHoldout: Processed 35568 (100.0%) in 11.86 sec. Users per second: 2998\n"
     ]
    },
    {
     "name": "stderr",
     "output_type": "stream",
     "text": [
      "[I 2024-12-11 00:38:14,257] Trial 13 finished with value: 0.026741502081413692 and parameters: {'topK': 100, 'shrink': 41, 'feature_weighting': 'TF-IDF', 'normalize_avg_row': False, 'similarity_from_distance_mode': 'log', 'normalize': True}. Best is trial 11 with value: 0.04791212807660016.\n"
     ]
    },
    {
     "name": "stdout",
     "output_type": "stream",
     "text": [
      "Similarity column 38121 (100.0%), 1244.65 column/sec. Elapsed time 30.63 sec\n",
      "EvaluatorHoldout: Processed 35568 (100.0%) in 10.28 sec. Users per second: 3459\n"
     ]
    },
    {
     "name": "stderr",
     "output_type": "stream",
     "text": [
      "[I 2024-12-11 00:38:55,234] Trial 14 finished with value: 0.033684470479973784 and parameters: {'topK': 34, 'shrink': 50, 'feature_weighting': 'TF-IDF', 'normalize_avg_row': False, 'similarity_from_distance_mode': 'exp', 'normalize': True}. Best is trial 11 with value: 0.04791212807660016.\n"
     ]
    },
    {
     "name": "stdout",
     "output_type": "stream",
     "text": [
      "Similarity column 38121 (100.0%), 1242.93 column/sec. Elapsed time 30.67 sec\n",
      "EvaluatorHoldout: Processed 35568 (100.0%) in 9.50 sec. Users per second: 3746\n"
     ]
    },
    {
     "name": "stderr",
     "output_type": "stream",
     "text": [
      "[I 2024-12-11 00:39:35,431] Trial 15 finished with value: 0.03842271388049763 and parameters: {'topK': 17, 'shrink': 40, 'feature_weighting': 'none', 'normalize_avg_row': False, 'similarity_from_distance_mode': 'log', 'normalize': True}. Best is trial 11 with value: 0.04791212807660016.\n"
     ]
    },
    {
     "name": "stdout",
     "output_type": "stream",
     "text": [
      "Similarity column 38121 (100.0%), 1216.17 column/sec. Elapsed time 31.35 sec\n",
      "EvaluatorHoldout: Processed 35568 (100.0%) in 11.01 sec. Users per second: 3229\n"
     ]
    },
    {
     "name": "stderr",
     "output_type": "stream",
     "text": [
      "[I 2024-12-11 00:40:17,856] Trial 16 finished with value: 0.03109538335689553 and parameters: {'topK': 49, 'shrink': 45, 'feature_weighting': 'TF-IDF', 'normalize_avg_row': False, 'similarity_from_distance_mode': 'exp', 'normalize': True}. Best is trial 11 with value: 0.04791212807660016.\n"
     ]
    },
    {
     "name": "stdout",
     "output_type": "stream",
     "text": [
      "Similarity column 38121 (100.0%), 1272.65 column/sec. Elapsed time 29.95 sec\n",
      "EvaluatorHoldout: Processed 35568 (100.0%) in 9.46 sec. Users per second: 3760\n"
     ]
    },
    {
     "name": "stderr",
     "output_type": "stream",
     "text": [
      "[I 2024-12-11 00:40:57,326] Trial 17 finished with value: 0.04082728076423109 and parameters: {'topK': 13, 'shrink': 35, 'feature_weighting': 'TF-IDF', 'normalize_avg_row': False, 'similarity_from_distance_mode': 'exp', 'normalize': True}. Best is trial 11 with value: 0.04791212807660016.\n"
     ]
    },
    {
     "name": "stdout",
     "output_type": "stream",
     "text": [
      "Similarity column 38121 (100.0%), 1299.53 column/sec. Elapsed time 29.33 sec\n",
      "EvaluatorHoldout: Processed 35568 (100.0%) in 8.90 sec. Users per second: 3996\n"
     ]
    },
    {
     "name": "stderr",
     "output_type": "stream",
     "text": [
      "[I 2024-12-11 00:41:35,593] Trial 18 finished with value: 0.028262902626937633 and parameters: {'topK': 32, 'shrink': 36, 'feature_weighting': 'none', 'normalize_avg_row': True, 'similarity_from_distance_mode': 'log', 'normalize': False}. Best is trial 11 with value: 0.04791212807660016.\n"
     ]
    },
    {
     "name": "stdout",
     "output_type": "stream",
     "text": [
      "Similarity column 38121 (100.0%), 1189.75 column/sec. Elapsed time 32.04 sec\n",
      "EvaluatorHoldout: Processed 35568 (100.0%) in 9.02 sec. Users per second: 3944\n"
     ]
    },
    {
     "name": "stderr",
     "output_type": "stream",
     "text": [
      "[I 2024-12-11 00:42:16,711] Trial 19 finished with value: 0.028969398656898102 and parameters: {'topK': 2, 'shrink': 11, 'feature_weighting': 'BM25', 'normalize_avg_row': False, 'similarity_from_distance_mode': 'lin', 'normalize': True}. Best is trial 11 with value: 0.04791212807660016.\n"
     ]
    },
    {
     "name": "stdout",
     "output_type": "stream",
     "text": [
      "Similarity column 38121 (100.0%), 1231.83 column/sec. Elapsed time 30.95 sec\n",
      "EvaluatorHoldout: Processed 35568 (100.0%) in 10.36 sec. Users per second: 3432\n"
     ]
    },
    {
     "name": "stderr",
     "output_type": "stream",
     "text": [
      "[I 2024-12-11 00:42:58,064] Trial 20 finished with value: 0.035474646373768036 and parameters: {'topK': 26, 'shrink': 46, 'feature_weighting': 'none', 'normalize_avg_row': False, 'similarity_from_distance_mode': 'exp', 'normalize': True}. Best is trial 11 with value: 0.04791212807660016.\n"
     ]
    },
    {
     "name": "stdout",
     "output_type": "stream",
     "text": [
      "Similarity column 38121 (100.0%), 1259.30 column/sec. Elapsed time 30.27 sec\n",
      "EvaluatorHoldout: Processed 35568 (100.0%) in 9.17 sec. Users per second: 3878\n"
     ]
    },
    {
     "name": "stderr",
     "output_type": "stream",
     "text": [
      "[I 2024-12-11 00:43:37,570] Trial 21 finished with value: 0.04277733708380487 and parameters: {'topK': 10, 'shrink': 42, 'feature_weighting': 'TF-IDF', 'normalize_avg_row': False, 'similarity_from_distance_mode': 'exp', 'normalize': True}. Best is trial 11 with value: 0.04791212807660016.\n"
     ]
    },
    {
     "name": "stdout",
     "output_type": "stream",
     "text": [
      "Similarity column 38121 (100.0%), 1254.11 column/sec. Elapsed time 30.40 sec\n",
      "EvaluatorHoldout: Processed 35568 (100.0%) in 9.41 sec. Users per second: 3781\n"
     ]
    },
    {
     "name": "stderr",
     "output_type": "stream",
     "text": [
      "[I 2024-12-11 00:44:17,426] Trial 22 finished with value: 0.04500993179172828 and parameters: {'topK': 7, 'shrink': 45, 'feature_weighting': 'TF-IDF', 'normalize_avg_row': False, 'similarity_from_distance_mode': 'exp', 'normalize': True}. Best is trial 11 with value: 0.04791212807660016.\n"
     ]
    },
    {
     "name": "stdout",
     "output_type": "stream",
     "text": [
      "Similarity column 38121 (100.0%), 1219.63 column/sec. Elapsed time 31.26 sec\n",
      "EvaluatorHoldout: Processed 35568 (100.0%) in 10.11 sec. Users per second: 3518\n"
     ]
    },
    {
     "name": "stderr",
     "output_type": "stream",
     "text": [
      "[I 2024-12-11 00:44:58,858] Trial 23 finished with value: 0.036150583902775785 and parameters: {'topK': 24, 'shrink': 40, 'feature_weighting': 'TF-IDF', 'normalize_avg_row': False, 'similarity_from_distance_mode': 'exp', 'normalize': True}. Best is trial 11 with value: 0.04791212807660016.\n"
     ]
    },
    {
     "name": "stdout",
     "output_type": "stream",
     "text": [
      "Similarity column 38121 (100.0%), 1248.74 column/sec. Elapsed time 30.53 sec\n",
      "EvaluatorHoldout: Processed 35568 (100.0%) in 10.37 sec. Users per second: 3428\n"
     ]
    },
    {
     "name": "stderr",
     "output_type": "stream",
     "text": [
      "[I 2024-12-11 00:45:39,830] Trial 24 finished with value: 0.03293040404608279 and parameters: {'topK': 38, 'shrink': 32, 'feature_weighting': 'TF-IDF', 'normalize_avg_row': False, 'similarity_from_distance_mode': 'exp', 'normalize': True}. Best is trial 11 with value: 0.04791212807660016.\n"
     ]
    },
    {
     "name": "stdout",
     "output_type": "stream",
     "text": [
      "Similarity column 38121 (100.0%), 1242.56 column/sec. Elapsed time 30.68 sec\n",
      "EvaluatorHoldout: Processed 35568 (100.0%) in 9.25 sec. Users per second: 3845\n"
     ]
    },
    {
     "name": "stderr",
     "output_type": "stream",
     "text": [
      "[I 2024-12-11 00:46:19,825] Trial 25 finished with value: 0.04435153946118704 and parameters: {'topK': 8, 'shrink': 47, 'feature_weighting': 'TF-IDF', 'normalize_avg_row': False, 'similarity_from_distance_mode': 'log', 'normalize': True}. Best is trial 11 with value: 0.04791212807660016.\n"
     ]
    },
    {
     "name": "stdout",
     "output_type": "stream",
     "text": [
      "Similarity column 38121 (100.0%), 1224.49 column/sec. Elapsed time 31.13 sec\n",
      "EvaluatorHoldout: Processed 35568 (100.0%) in 8.83 sec. Users per second: 4030\n"
     ]
    },
    {
     "name": "stderr",
     "output_type": "stream",
     "text": [
      "[I 2024-12-11 00:46:59,839] Trial 26 finished with value: 0.026337673555327002 and parameters: {'topK': 2, 'shrink': 38, 'feature_weighting': 'TF-IDF', 'normalize_avg_row': True, 'similarity_from_distance_mode': 'exp', 'normalize': False}. Best is trial 11 with value: 0.04791212807660016.\n"
     ]
    },
    {
     "name": "stdout",
     "output_type": "stream",
     "text": [
      "Similarity column 38121 (100.0%), 1236.54 column/sec. Elapsed time 30.83 sec\n",
      "EvaluatorHoldout: Processed 35568 (100.0%) in 9.73 sec. Users per second: 3654\n"
     ]
    },
    {
     "name": "stderr",
     "output_type": "stream",
     "text": [
      "[I 2024-12-11 00:47:40,462] Trial 27 finished with value: 0.03643870069582664 and parameters: {'topK': 23, 'shrink': 30, 'feature_weighting': 'TF-IDF', 'normalize_avg_row': False, 'similarity_from_distance_mode': 'exp', 'normalize': True}. Best is trial 11 with value: 0.04791212807660016.\n"
     ]
    },
    {
     "name": "stdout",
     "output_type": "stream",
     "text": [
      "Similarity column 38121 (100.0%), 1182.43 column/sec. Elapsed time 32.24 sec\n",
      "EvaluatorHoldout: Processed 35568 (100.0%) in 9.81 sec. Users per second: 3624\n"
     ]
    },
    {
     "name": "stderr",
     "output_type": "stream",
     "text": [
      "[I 2024-12-11 00:48:22,587] Trial 28 finished with value: 0.03324110222136446 and parameters: {'topK': 12, 'shrink': 43, 'feature_weighting': 'BM25', 'normalize_avg_row': False, 'similarity_from_distance_mode': 'log', 'normalize': True}. Best is trial 11 with value: 0.04791212807660016.\n"
     ]
    },
    {
     "name": "stdout",
     "output_type": "stream",
     "text": [
      "Similarity column 38121 (100.0%), 1292.06 column/sec. Elapsed time 29.50 sec\n",
      "EvaluatorHoldout: Processed 35568 (100.0%) in 10.92 sec. Users per second: 3258\n"
     ]
    },
    {
     "name": "stderr",
     "output_type": "stream",
     "text": [
      "[I 2024-12-11 00:49:03,061] Trial 29 finished with value: 0.030165239041334647 and parameters: {'topK': 58, 'shrink': 11, 'feature_weighting': 'none', 'normalize_avg_row': True, 'similarity_from_distance_mode': 'lin', 'normalize': True}. Best is trial 11 with value: 0.04791212807660016.\n"
     ]
    },
    {
     "name": "stdout",
     "output_type": "stream",
     "text": [
      "Similarity column 38121 (100.0%), 1158.20 column/sec. Elapsed time 32.91 sec\n",
      "EvaluatorHoldout: Processed 35568 (100.0%) in 10.51 sec. Users per second: 3383\n"
     ]
    },
    {
     "name": "stderr",
     "output_type": "stream",
     "text": [
      "[I 2024-12-11 00:49:46,559] Trial 30 finished with value: 0.027994959576647507 and parameters: {'topK': 41, 'shrink': 48, 'feature_weighting': 'BM25', 'normalize_avg_row': False, 'similarity_from_distance_mode': 'log', 'normalize': True}. Best is trial 11 with value: 0.04791212807660016.\n"
     ]
    },
    {
     "name": "stdout",
     "output_type": "stream",
     "text": [
      "Similarity column 38121 (100.0%), 1085.78 column/sec. Elapsed time 35.11 sec\n",
      "EvaluatorHoldout: Processed 35568 (100.0%) in 8.96 sec. Users per second: 3969\n"
     ]
    },
    {
     "name": "stderr",
     "output_type": "stream",
     "text": [
      "[I 2024-12-11 00:50:30,700] Trial 31 finished with value: 0.04713419945875921 and parameters: {'topK': 2, 'shrink': 21, 'feature_weighting': 'TF-IDF', 'normalize_avg_row': False, 'similarity_from_distance_mode': 'log', 'normalize': True}. Best is trial 11 with value: 0.04791212807660016.\n"
     ]
    },
    {
     "name": "stdout",
     "output_type": "stream",
     "text": [
      "Similarity column 38121 (100.0%), 1245.38 column/sec. Elapsed time 30.61 sec\n",
      "EvaluatorHoldout: Processed 35568 (100.0%) in 9.17 sec. Users per second: 3877\n"
     ]
    },
    {
     "name": "stderr",
     "output_type": "stream",
     "text": [
      "[I 2024-12-11 00:51:10,545] Trial 32 finished with value: 0.04435198015515844 and parameters: {'topK': 8, 'shrink': 16, 'feature_weighting': 'TF-IDF', 'normalize_avg_row': False, 'similarity_from_distance_mode': 'log', 'normalize': True}. Best is trial 11 with value: 0.04791212807660016.\n"
     ]
    },
    {
     "name": "stdout",
     "output_type": "stream",
     "text": [
      "Similarity column 38121 (100.0%), 1153.42 column/sec. Elapsed time 33.05 sec\n",
      "EvaluatorHoldout: Processed 35568 (100.0%) in 9.66 sec. Users per second: 3683\n"
     ]
    },
    {
     "name": "stderr",
     "output_type": "stream",
     "text": [
      "[I 2024-12-11 00:51:53,309] Trial 33 finished with value: 0.03984828970574449 and parameters: {'topK': 15, 'shrink': 28, 'feature_weighting': 'TF-IDF', 'normalize_avg_row': False, 'similarity_from_distance_mode': 'log', 'normalize': True}. Best is trial 11 with value: 0.04791212807660016.\n"
     ]
    },
    {
     "name": "stdout",
     "output_type": "stream",
     "text": [
      "Similarity column 38121 (100.0%), 1103.52 column/sec. Elapsed time 34.55 sec\n",
      "EvaluatorHoldout: Processed 35568 (100.0%) in 8.89 sec. Users per second: 4002\n"
     ]
    },
    {
     "name": "stderr",
     "output_type": "stream",
     "text": [
      "[I 2024-12-11 00:52:36,813] Trial 34 finished with value: 0.04713419945875921 and parameters: {'topK': 2, 'shrink': 21, 'feature_weighting': 'TF-IDF', 'normalize_avg_row': False, 'similarity_from_distance_mode': 'log', 'normalize': True}. Best is trial 11 with value: 0.04791212807660016.\n"
     ]
    },
    {
     "name": "stdout",
     "output_type": "stream",
     "text": [
      "Similarity column 38121 (100.0%), 1415.59 column/sec. Elapsed time 26.93 sec\n",
      "EvaluatorHoldout: Processed 35568 (100.0%) in 9.60 sec. Users per second: 3706\n"
     ]
    },
    {
     "name": "stderr",
     "output_type": "stream",
     "text": [
      "[I 2024-12-11 00:53:13,373] Trial 35 finished with value: 0.037059583833157196 and parameters: {'topK': 21, 'shrink': 24, 'feature_weighting': 'none', 'normalize_avg_row': False, 'similarity_from_distance_mode': 'lin', 'normalize': True}. Best is trial 11 with value: 0.04791212807660016.\n"
     ]
    },
    {
     "name": "stdout",
     "output_type": "stream",
     "text": [
      "Similarity column 38121 (100.0%), 1214.01 column/sec. Elapsed time 31.40 sec\n",
      "EvaluatorHoldout: Processed 35568 (100.0%) in 9.34 sec. Users per second: 3810\n"
     ]
    },
    {
     "name": "stderr",
     "output_type": "stream",
     "text": [
      "[I 2024-12-11 00:53:54,166] Trial 36 finished with value: 0.04203547843076204 and parameters: {'topK': 11, 'shrink': 38, 'feature_weighting': 'TF-IDF', 'normalize_avg_row': False, 'similarity_from_distance_mode': 'log', 'normalize': True}. Best is trial 11 with value: 0.04791212807660016.\n"
     ]
    },
    {
     "name": "stdout",
     "output_type": "stream",
     "text": [
      "Similarity column 38121 (100.0%), 1145.55 column/sec. Elapsed time 33.28 sec\n",
      "EvaluatorHoldout: Processed 35568 (100.0%) in 11.24 sec. Users per second: 3164\n"
     ]
    },
    {
     "name": "stderr",
     "output_type": "stream",
     "text": [
      "[I 2024-12-11 00:54:38,764] Trial 37 finished with value: 0.02536205520032218 and parameters: {'topK': 75, 'shrink': 32, 'feature_weighting': 'BM25', 'normalize_avg_row': True, 'similarity_from_distance_mode': 'log', 'normalize': True}. Best is trial 11 with value: 0.04791212807660016.\n"
     ]
    },
    {
     "name": "stdout",
     "output_type": "stream",
     "text": [
      "Similarity column 38121 (100.0%), 1333.35 column/sec. Elapsed time 28.59 sec\n",
      "EvaluatorHoldout: Processed 35568 (100.0%) in 8.80 sec. Users per second: 4041\n"
     ]
    },
    {
     "name": "stderr",
     "output_type": "stream",
     "text": [
      "[I 2024-12-11 00:55:16,186] Trial 38 finished with value: 0.023771797058529415 and parameters: {'topK': 7, 'shrink': 16, 'feature_weighting': 'none', 'normalize_avg_row': False, 'similarity_from_distance_mode': 'exp', 'normalize': False}. Best is trial 11 with value: 0.04791212807660016.\n"
     ]
    },
    {
     "name": "stdout",
     "output_type": "stream",
     "text": [
      "Similarity column 38121 (100.0%), 1307.03 column/sec. Elapsed time 29.17 sec\n",
      "EvaluatorHoldout: Processed 35568 (100.0%) in 10.19 sec. Users per second: 3491\n"
     ]
    },
    {
     "name": "stderr",
     "output_type": "stream",
     "text": [
      "[I 2024-12-11 00:55:55,602] Trial 39 finished with value: 0.03506453210126347 and parameters: {'topK': 28, 'shrink': 44, 'feature_weighting': 'TF-IDF', 'normalize_avg_row': True, 'similarity_from_distance_mode': 'lin', 'normalize': True}. Best is trial 11 with value: 0.04791212807660016.\n"
     ]
    },
    {
     "name": "stdout",
     "output_type": "stream",
     "text": [
      "Similarity column 38121 (100.0%), 1216.27 column/sec. Elapsed time 31.34 sec\n",
      "EvaluatorHoldout: Processed 35568 (100.0%) in 11.92 sec. Users per second: 2983\n"
     ]
    },
    {
     "name": "stderr",
     "output_type": "stream",
     "text": [
      "[I 2024-12-11 00:56:38,936] Trial 40 finished with value: 0.02882469372326804 and parameters: {'topK': 17, 'shrink': 28, 'feature_weighting': 'none', 'normalize_avg_row': False, 'similarity_from_distance_mode': 'log', 'normalize': False}. Best is trial 11 with value: 0.04791212807660016.\n"
     ]
    },
    {
     "name": "stdout",
     "output_type": "stream",
     "text": [
      "Similarity column 38121 (100.0%), 930.03 column/sec. Elapsed time 40.99 sec\n",
      "EvaluatorHoldout: Processed 35568 (100.0%) in 11.87 sec. Users per second: 2998\n"
     ]
    },
    {
     "name": "stderr",
     "output_type": "stream",
     "text": [
      "[I 2024-12-11 00:57:31,891] Trial 41 finished with value: 0.04791565139700943 and parameters: {'topK': 4, 'shrink': 20, 'feature_weighting': 'TF-IDF', 'normalize_avg_row': False, 'similarity_from_distance_mode': 'log', 'normalize': True}. Best is trial 41 with value: 0.04791565139700943.\n"
     ]
    },
    {
     "name": "stdout",
     "output_type": "stream",
     "text": [
      "Similarity column 38121 (100.0%), 961.29 column/sec. Elapsed time 39.66 sec\n",
      "EvaluatorHoldout: Processed 35568 (100.0%) in 11.69 sec. Users per second: 3041\n"
     ]
    },
    {
     "name": "stderr",
     "output_type": "stream",
     "text": [
      "[I 2024-12-11 00:58:23,334] Trial 42 finished with value: 0.04698070295931982 and parameters: {'topK': 5, 'shrink': 19, 'feature_weighting': 'TF-IDF', 'normalize_avg_row': False, 'similarity_from_distance_mode': 'log', 'normalize': True}. Best is trial 41 with value: 0.04791565139700943.\n"
     ]
    },
    {
     "name": "stdout",
     "output_type": "stream",
     "text": [
      "Similarity column 38121 (100.0%), 945.55 column/sec. Elapsed time 40.32 sec\n",
      "EvaluatorHoldout: Processed 35568 (100.0%) in 10.73 sec. Users per second: 3314\n"
     ]
    },
    {
     "name": "stderr",
     "output_type": "stream",
     "text": [
      "[I 2024-12-11 00:59:14,454] Trial 43 finished with value: 0.04034516267520481 and parameters: {'topK': 14, 'shrink': 25, 'feature_weighting': 'TF-IDF', 'normalize_avg_row': False, 'similarity_from_distance_mode': 'log', 'normalize': True}. Best is trial 41 with value: 0.04791565139700943.\n"
     ]
    },
    {
     "name": "stdout",
     "output_type": "stream",
     "text": [
      "Similarity column 38121 (100.0%), 1219.70 column/sec. Elapsed time 31.25 sec\n",
      "EvaluatorHoldout: Processed 35568 (100.0%) in 9.46 sec. Users per second: 3760\n"
     ]
    },
    {
     "name": "stderr",
     "output_type": "stream",
     "text": [
      "[I 2024-12-11 00:59:55,224] Trial 44 finished with value: 0.037664941154523325 and parameters: {'topK': 19, 'shrink': 14, 'feature_weighting': 'TF-IDF', 'normalize_avg_row': False, 'similarity_from_distance_mode': 'log', 'normalize': True}. Best is trial 41 with value: 0.04791565139700943.\n"
     ]
    },
    {
     "name": "stdout",
     "output_type": "stream",
     "text": [
      "Similarity column 38121 (100.0%), 1127.23 column/sec. Elapsed time 33.82 sec\n",
      "EvaluatorHoldout: Processed 35568 (100.0%) in 17.67 sec. Users per second: 2012\n"
     ]
    },
    {
     "name": "stderr",
     "output_type": "stream",
     "text": [
      "[I 2024-12-11 01:00:46,820] Trial 45 finished with value: 0.026966314022234355 and parameters: {'topK': 97, 'shrink': 5, 'feature_weighting': 'TF-IDF', 'normalize_avg_row': False, 'similarity_from_distance_mode': 'exp', 'normalize': True}. Best is trial 41 with value: 0.04791565139700943.\n"
     ]
    },
    {
     "name": "stdout",
     "output_type": "stream",
     "text": [
      "Similarity column 38121 (100.0%), 808.29 column/sec. Elapsed time 47.16 sec\n",
      "EvaluatorHoldout: Processed 35568 (100.0%) in 11.80 sec. Users per second: 3014\n"
     ]
    },
    {
     "name": "stderr",
     "output_type": "stream",
     "text": [
      "[I 2024-12-11 01:01:45,871] Trial 46 finished with value: 0.04697997888238961 and parameters: {'topK': 5, 'shrink': 49, 'feature_weighting': 'TF-IDF', 'normalize_avg_row': False, 'similarity_from_distance_mode': 'log', 'normalize': True}. Best is trial 41 with value: 0.04791565139700943.\n"
     ]
    },
    {
     "name": "stdout",
     "output_type": "stream",
     "text": [
      "Similarity column 38121 (100.0%), 957.02 column/sec. Elapsed time 39.83 sec\n",
      "EvaluatorHoldout: Processed 35568 (100.0%) in 11.96 sec. Users per second: 2973\n"
     ]
    },
    {
     "name": "stderr",
     "output_type": "stream",
     "text": [
      "[I 2024-12-11 01:02:37,735] Trial 47 finished with value: 0.04142798569607626 and parameters: {'topK': 12, 'shrink': 22, 'feature_weighting': 'none', 'normalize_avg_row': False, 'similarity_from_distance_mode': 'exp', 'normalize': True}. Best is trial 41 with value: 0.04791565139700943.\n"
     ]
    },
    {
     "name": "stdout",
     "output_type": "stream",
     "text": [
      "Similarity column 38121 (100.0%), 935.38 column/sec. Elapsed time 40.75 sec\n",
      "EvaluatorHoldout: Processed 35568 (100.0%) in 18.03 sec. Users per second: 1972\n"
     ]
    },
    {
     "name": "stderr",
     "output_type": "stream",
     "text": [
      "[I 2024-12-11 01:03:36,645] Trial 48 finished with value: 0.033441482980956 and parameters: {'topK': 63, 'shrink': 37, 'feature_weighting': 'BM25', 'normalize_avg_row': False, 'similarity_from_distance_mode': 'log', 'normalize': False}. Best is trial 41 with value: 0.04791565139700943.\n"
     ]
    },
    {
     "name": "stdout",
     "output_type": "stream",
     "text": [
      "Similarity column 38121 (100.0%), 1012.13 column/sec. Elapsed time 37.66 sec\n",
      "EvaluatorHoldout: Processed 35568 (100.0%) in 12.70 sec. Users per second: 2800\n"
     ]
    },
    {
     "name": "stderr",
     "output_type": "stream",
     "text": [
      "[I 2024-12-11 01:04:27,119] Trial 49 finished with value: 0.03916266137209004 and parameters: {'topK': 16, 'shrink': 19, 'feature_weighting': 'TF-IDF', 'normalize_avg_row': True, 'similarity_from_distance_mode': 'lin', 'normalize': True}. Best is trial 41 with value: 0.04791565139700943.\n"
     ]
    },
    {
     "name": "stdout",
     "output_type": "stream",
     "text": [
      "Similarity column 38121 (100.0%), 972.21 column/sec. Elapsed time 39.21 sec\n",
      "EvaluatorHoldout: Processed 35568 (100.0%) in 11.94 sec. Users per second: 2980\n"
     ]
    },
    {
     "name": "stderr",
     "output_type": "stream",
     "text": [
      "[I 2024-12-11 01:05:18,312] Trial 50 finished with value: 0.046792857990773186 and parameters: {'topK': 5, 'shrink': 42, 'feature_weighting': 'none', 'normalize_avg_row': False, 'similarity_from_distance_mode': 'exp', 'normalize': True}. Best is trial 41 with value: 0.04791565139700943.\n"
     ]
    },
    {
     "name": "stdout",
     "output_type": "stream",
     "text": [
      "Similarity column 38121 (100.0%), 923.88 column/sec. Elapsed time 41.26 sec\n",
      "EvaluatorHoldout: Processed 35568 (100.0%) in 11.70 sec. Users per second: 3039\n"
     ]
    },
    {
     "name": "stderr",
     "output_type": "stream",
     "text": [
      "[I 2024-12-11 01:06:11,368] Trial 51 finished with value: 0.04791303958792832 and parameters: {'topK': 4, 'shrink': 23, 'feature_weighting': 'TF-IDF', 'normalize_avg_row': False, 'similarity_from_distance_mode': 'log', 'normalize': True}. Best is trial 41 with value: 0.04791565139700943.\n"
     ]
    },
    {
     "name": "stdout",
     "output_type": "stream",
     "text": [
      "Similarity column 38121 (100.0%), 946.49 column/sec. Elapsed time 40.28 sec\n",
      "EvaluatorHoldout: Processed 35568 (100.0%) in 12.14 sec. Users per second: 2931\n"
     ]
    },
    {
     "name": "stderr",
     "output_type": "stream",
     "text": [
      "[I 2024-12-11 01:07:03,887] Trial 52 finished with value: 0.042836494949980326 and parameters: {'topK': 10, 'shrink': 24, 'feature_weighting': 'TF-IDF', 'normalize_avg_row': False, 'similarity_from_distance_mode': 'log', 'normalize': True}. Best is trial 41 with value: 0.04791565139700943.\n"
     ]
    },
    {
     "name": "stdout",
     "output_type": "stream",
     "text": [
      "Similarity column 38121 (100.0%), 976.68 column/sec. Elapsed time 39.03 sec\n",
      "EvaluatorHoldout: Processed 35568 (100.0%) in 11.63 sec. Users per second: 3057\n"
     ]
    },
    {
     "name": "stderr",
     "output_type": "stream",
     "text": [
      "[I 2024-12-11 01:07:54,653] Trial 53 finished with value: 0.04697834440981214 and parameters: {'topK': 5, 'shrink': 34, 'feature_weighting': 'TF-IDF', 'normalize_avg_row': False, 'similarity_from_distance_mode': 'log', 'normalize': True}. Best is trial 41 with value: 0.04791565139700943.\n"
     ]
    },
    {
     "name": "stdout",
     "output_type": "stream",
     "text": [
      "Similarity column 38121 (100.0%), 954.34 column/sec. Elapsed time 39.94 sec\n",
      "EvaluatorHoldout: Processed 35568 (100.0%) in 12.89 sec. Users per second: 2759\n"
     ]
    },
    {
     "name": "stderr",
     "output_type": "stream",
     "text": [
      "[I 2024-12-11 01:08:47,604] Trial 54 finished with value: 0.04347897655463302 and parameters: {'topK': 9, 'shrink': 26, 'feature_weighting': 'TF-IDF', 'normalize_avg_row': False, 'similarity_from_distance_mode': 'log', 'normalize': True}. Best is trial 41 with value: 0.04791565139700943.\n"
     ]
    },
    {
     "name": "stdout",
     "output_type": "stream",
     "text": [
      "Similarity column 38121 (100.0%), 940.13 column/sec. Elapsed time 40.55 sec\n",
      "EvaluatorHoldout: Processed 35568 (100.0%) in 12.20 sec. Users per second: 2916\n"
     ]
    },
    {
     "name": "stderr",
     "output_type": "stream",
     "text": [
      "[I 2024-12-11 01:09:40,450] Trial 55 finished with value: 0.03735727205299469 and parameters: {'topK': 20, 'shrink': 19, 'feature_weighting': 'TF-IDF', 'normalize_avg_row': False, 'similarity_from_distance_mode': 'log', 'normalize': True}. Best is trial 41 with value: 0.04791565139700943.\n"
     ]
    },
    {
     "name": "stdout",
     "output_type": "stream",
     "text": [
      "Similarity column 38121 (100.0%), 976.87 column/sec. Elapsed time 39.02 sec\n",
      "EvaluatorHoldout: Processed 35568 (100.0%) in 12.22 sec. Users per second: 2912\n"
     ]
    },
    {
     "name": "stderr",
     "output_type": "stream",
     "text": [
      "[I 2024-12-11 01:10:31,777] Trial 56 finished with value: 0.04030073960720728 and parameters: {'topK': 14, 'shrink': 40, 'feature_weighting': 'TF-IDF', 'normalize_avg_row': False, 'similarity_from_distance_mode': 'exp', 'normalize': True}. Best is trial 41 with value: 0.04791565139700943.\n"
     ]
    },
    {
     "name": "stdout",
     "output_type": "stream",
     "text": [
      "Similarity column 38121 (100.0%), 875.62 column/sec. Elapsed time 43.54 sec\n",
      "EvaluatorHoldout: Processed 35568 (100.0%) in 11.97 sec. Users per second: 2970\n"
     ]
    },
    {
     "name": "stderr",
     "output_type": "stream",
     "text": [
      "[I 2024-12-11 01:11:27,381] Trial 57 finished with value: 0.04713788901562859 and parameters: {'topK': 2, 'shrink': 29, 'feature_weighting': 'TF-IDF', 'normalize_avg_row': False, 'similarity_from_distance_mode': 'log', 'normalize': True}. Best is trial 41 with value: 0.04791565139700943.\n"
     ]
    },
    {
     "name": "stdout",
     "output_type": "stream",
     "text": [
      "Similarity column 38121 (100.0%), 917.35 column/sec. Elapsed time 41.56 sec\n",
      "EvaluatorHoldout: Processed 35568 (100.0%) in 8.77 sec. Users per second: 4057\n"
     ]
    },
    {
     "name": "stderr",
     "output_type": "stream",
     "text": [
      "[I 2024-12-11 01:12:17,760] Trial 58 finished with value: 0.04713788901562859 and parameters: {'topK': 2, 'shrink': 29, 'feature_weighting': 'TF-IDF', 'normalize_avg_row': False, 'similarity_from_distance_mode': 'log', 'normalize': True}. Best is trial 41 with value: 0.04791565139700943.\n"
     ]
    },
    {
     "name": "stdout",
     "output_type": "stream",
     "text": [
      "Similarity column 38121 (100.0%), 1390.72 column/sec. Elapsed time 27.41 sec\n",
      "EvaluatorHoldout: Processed 35568 (100.0%) in 8.54 sec. Users per second: 4164\n"
     ]
    },
    {
     "name": "stderr",
     "output_type": "stream",
     "text": [
      "[I 2024-12-11 01:12:53,742] Trial 59 finished with value: 0.024253119667045003 and parameters: {'topK': 6, 'shrink': 46, 'feature_weighting': 'none', 'normalize_avg_row': False, 'similarity_from_distance_mode': 'exp', 'normalize': False}. Best is trial 41 with value: 0.04791565139700943.\n"
     ]
    },
    {
     "name": "stdout",
     "output_type": "stream",
     "text": [
      "Similarity column 38121 (100.0%), 1240.90 column/sec. Elapsed time 30.72 sec\n",
      "EvaluatorHoldout: Processed 35568 (100.0%) in 10.07 sec. Users per second: 3534\n"
     ]
    },
    {
     "name": "stderr",
     "output_type": "stream",
     "text": [
      "[I 2024-12-11 01:13:34,590] Trial 60 finished with value: 0.036208727614976496 and parameters: {'topK': 24, 'shrink': 33, 'feature_weighting': 'TF-IDF', 'normalize_avg_row': False, 'similarity_from_distance_mode': 'log', 'normalize': True}. Best is trial 41 with value: 0.04791565139700943.\n"
     ]
    },
    {
     "name": "stdout",
     "output_type": "stream",
     "text": [
      "Similarity column 38121 (100.0%), 1046.73 column/sec. Elapsed time 36.42 sec\n",
      "EvaluatorHoldout: Processed 35568 (100.0%) in 8.82 sec. Users per second: 4033\n"
     ]
    },
    {
     "name": "stderr",
     "output_type": "stream",
     "text": [
      "[I 2024-12-11 01:14:19,882] Trial 61 finished with value: 0.047137420429633696 and parameters: {'topK': 2, 'shrink': 30, 'feature_weighting': 'TF-IDF', 'normalize_avg_row': False, 'similarity_from_distance_mode': 'log', 'normalize': True}. Best is trial 41 with value: 0.04791565139700943.\n"
     ]
    },
    {
     "name": "stdout",
     "output_type": "stream",
     "text": [
      "Similarity column 38121 (100.0%), 1280.85 column/sec. Elapsed time 29.76 sec\n",
      "EvaluatorHoldout: Processed 35568 (100.0%) in 9.15 sec. Users per second: 3889\n"
     ]
    },
    {
     "name": "stderr",
     "output_type": "stream",
     "text": [
      "[I 2024-12-11 01:14:58,842] Trial 62 finished with value: 0.04203911108790347 and parameters: {'topK': 11, 'shrink': 27, 'feature_weighting': 'TF-IDF', 'normalize_avg_row': False, 'similarity_from_distance_mode': 'log', 'normalize': True}. Best is trial 41 with value: 0.04791565139700943.\n"
     ]
    },
    {
     "name": "stdout",
     "output_type": "stream",
     "text": [
      "Similarity column 38121 (100.0%), 1235.73 column/sec. Elapsed time 30.85 sec\n",
      "EvaluatorHoldout: Processed 35568 (100.0%) in 10.31 sec. Users per second: 3450\n"
     ]
    },
    {
     "name": "stderr",
     "output_type": "stream",
     "text": [
      "[I 2024-12-11 01:15:40,066] Trial 63 finished with value: 0.031022247124219825 and parameters: {'topK': 50, 'shrink': 23, 'feature_weighting': 'TF-IDF', 'normalize_avg_row': False, 'similarity_from_distance_mode': 'log', 'normalize': True}. Best is trial 41 with value: 0.04791565139700943.\n"
     ]
    },
    {
     "name": "stdout",
     "output_type": "stream",
     "text": [
      "Similarity column 38121 (100.0%), 1263.20 column/sec. Elapsed time 30.18 sec\n",
      "EvaluatorHoldout: Processed 35568 (100.0%) in 8.86 sec. Users per second: 4015\n"
     ]
    },
    {
     "name": "stderr",
     "output_type": "stream",
     "text": [
      "[I 2024-12-11 01:16:19,156] Trial 64 finished with value: 0.046977333602880283 and parameters: {'topK': 5, 'shrink': 29, 'feature_weighting': 'TF-IDF', 'normalize_avg_row': False, 'similarity_from_distance_mode': 'log', 'normalize': True}. Best is trial 41 with value: 0.04791565139700943.\n"
     ]
    },
    {
     "name": "stdout",
     "output_type": "stream",
     "text": [
      "Similarity column 38121 (100.0%), 1229.21 column/sec. Elapsed time 31.01 sec\n",
      "EvaluatorHoldout: Processed 35568 (100.0%) in 9.00 sec. Users per second: 3953\n"
     ]
    },
    {
     "name": "stderr",
     "output_type": "stream",
     "text": [
      "[I 2024-12-11 01:16:59,217] Trial 65 finished with value: 0.043428284475432205 and parameters: {'topK': 9, 'shrink': 50, 'feature_weighting': 'TF-IDF', 'normalize_avg_row': False, 'similarity_from_distance_mode': 'exp', 'normalize': True}. Best is trial 41 with value: 0.04791565139700943.\n"
     ]
    },
    {
     "name": "stdout",
     "output_type": "stream",
     "text": [
      "Similarity column 38121 (100.0%), 1159.20 column/sec. Elapsed time 32.89 sec\n",
      "EvaluatorHoldout: Processed 35568 (100.0%) in 8.63 sec. Users per second: 4123\n"
     ]
    },
    {
     "name": "stderr",
     "output_type": "stream",
     "text": [
      "[I 2024-12-11 01:17:40,779] Trial 66 finished with value: 0.04714109325128897 and parameters: {'topK': 2, 'shrink': 44, 'feature_weighting': 'TF-IDF', 'normalize_avg_row': False, 'similarity_from_distance_mode': 'log', 'normalize': True}. Best is trial 41 with value: 0.04791565139700943.\n"
     ]
    },
    {
     "name": "stdout",
     "output_type": "stream",
     "text": [
      "Similarity column 38121 (100.0%), 1266.92 column/sec. Elapsed time 30.09 sec\n",
      "EvaluatorHoldout: Processed 35568 (100.0%) in 8.86 sec. Users per second: 4015\n"
     ]
    },
    {
     "name": "stderr",
     "output_type": "stream",
     "text": [
      "[I 2024-12-11 01:18:19,781] Trial 67 finished with value: 0.03429079509671542 and parameters: {'topK': 8, 'shrink': 44, 'feature_weighting': 'BM25', 'normalize_avg_row': True, 'similarity_from_distance_mode': 'log', 'normalize': True}. Best is trial 41 with value: 0.04791565139700943.\n"
     ]
    },
    {
     "name": "stdout",
     "output_type": "stream",
     "text": [
      "Similarity column 38121 (100.0%), 1275.60 column/sec. Elapsed time 29.88 sec\n",
      "EvaluatorHoldout: Processed 35568 (100.0%) in 9.17 sec. Users per second: 3880\n"
     ]
    },
    {
     "name": "stderr",
     "output_type": "stream",
     "text": [
      "[I 2024-12-11 01:18:58,889] Trial 68 finished with value: 0.03981780037700962 and parameters: {'topK': 15, 'shrink': 47, 'feature_weighting': 'TF-IDF', 'normalize_avg_row': False, 'similarity_from_distance_mode': 'exp', 'normalize': True}. Best is trial 41 with value: 0.04791565139700943.\n"
     ]
    },
    {
     "name": "stdout",
     "output_type": "stream",
     "text": [
      "Similarity column 38121 (100.0%), 1341.47 column/sec. Elapsed time 28.42 sec\n",
      "EvaluatorHoldout: Processed 35568 (100.0%) in 8.84 sec. Users per second: 4024\n"
     ]
    },
    {
     "name": "stderr",
     "output_type": "stream",
     "text": [
      "[I 2024-12-11 01:19:36,175] Trial 69 finished with value: 0.04682235324779033 and parameters: {'topK': 5, 'shrink': 41, 'feature_weighting': 'none', 'normalize_avg_row': False, 'similarity_from_distance_mode': 'lin', 'normalize': True}. Best is trial 41 with value: 0.04791565139700943.\n"
     ]
    },
    {
     "name": "stdout",
     "output_type": "stream",
     "text": [
      "Similarity column 38121 (100.0%), 1273.21 column/sec. Elapsed time 29.94 sec\n",
      "EvaluatorHoldout: Processed 35568 (100.0%) in 8.96 sec. Users per second: 3968\n"
     ]
    },
    {
     "name": "stderr",
     "output_type": "stream",
     "text": [
      "[I 2024-12-11 01:20:15,133] Trial 70 finished with value: 0.04142844758798556 and parameters: {'topK': 12, 'shrink': 38, 'feature_weighting': 'TF-IDF', 'normalize_avg_row': False, 'similarity_from_distance_mode': 'log', 'normalize': True}. Best is trial 41 with value: 0.04791565139700943.\n"
     ]
    },
    {
     "name": "stdout",
     "output_type": "stream",
     "text": [
      "Similarity column 38121 (100.0%), 1099.51 column/sec. Elapsed time 34.67 sec\n",
      "EvaluatorHoldout: Processed 35568 (100.0%) in 8.60 sec. Users per second: 4134\n"
     ]
    },
    {
     "name": "stderr",
     "output_type": "stream",
     "text": [
      "[I 2024-12-11 01:20:58,460] Trial 71 finished with value: 0.04714047404836714 and parameters: {'topK': 2, 'shrink': 45, 'feature_weighting': 'TF-IDF', 'normalize_avg_row': False, 'similarity_from_distance_mode': 'log', 'normalize': True}. Best is trial 41 with value: 0.04791565139700943.\n"
     ]
    },
    {
     "name": "stdout",
     "output_type": "stream",
     "text": [
      "Similarity column 38121 (100.0%), 1277.54 column/sec. Elapsed time 29.84 sec\n",
      "EvaluatorHoldout: Processed 35568 (100.0%) in 8.69 sec. Users per second: 4092\n"
     ]
    },
    {
     "name": "stderr",
     "output_type": "stream",
     "text": [
      "[I 2024-12-11 01:21:37,045] Trial 72 finished with value: 0.04791457699626398 and parameters: {'topK': 4, 'shrink': 48, 'feature_weighting': 'TF-IDF', 'normalize_avg_row': False, 'similarity_from_distance_mode': 'log', 'normalize': True}. Best is trial 41 with value: 0.04791565139700943.\n"
     ]
    },
    {
     "name": "stdout",
     "output_type": "stream",
     "text": [
      "Similarity column 38121 (100.0%), 1154.18 column/sec. Elapsed time 33.03 sec\n",
      "EvaluatorHoldout: Processed 35568 (100.0%) in 8.77 sec. Users per second: 4055\n"
     ]
    },
    {
     "name": "stderr",
     "output_type": "stream",
     "text": [
      "[I 2024-12-11 01:22:18,895] Trial 73 finished with value: 0.045071574279357575 and parameters: {'topK': 7, 'shrink': 48, 'feature_weighting': 'TF-IDF', 'normalize_avg_row': False, 'similarity_from_distance_mode': 'log', 'normalize': True}. Best is trial 41 with value: 0.04791565139700943.\n"
     ]
    },
    {
     "name": "stdout",
     "output_type": "stream",
     "text": [
      "Similarity column 38121 (100.0%), 1255.98 column/sec. Elapsed time 30.35 sec\n",
      "EvaluatorHoldout: Processed 35568 (100.0%) in 8.69 sec. Users per second: 4091\n"
     ]
    },
    {
     "name": "stderr",
     "output_type": "stream",
     "text": [
      "[I 2024-12-11 01:22:57,991] Trial 74 finished with value: 0.047911393958541486 and parameters: {'topK': 4, 'shrink': 45, 'feature_weighting': 'TF-IDF', 'normalize_avg_row': False, 'similarity_from_distance_mode': 'log', 'normalize': True}. Best is trial 41 with value: 0.04791565139700943.\n"
     ]
    },
    {
     "name": "stdout",
     "output_type": "stream",
     "text": [
      "Similarity column 38121 (100.0%), 1256.89 column/sec. Elapsed time 30.33 sec\n",
      "EvaluatorHoldout: Processed 35568 (100.0%) in 8.83 sec. Users per second: 4028\n"
     ]
    },
    {
     "name": "stderr",
     "output_type": "stream",
     "text": [
      "[I 2024-12-11 01:23:37,204] Trial 75 finished with value: 0.04283965121136027 and parameters: {'topK': 10, 'shrink': 45, 'feature_weighting': 'TF-IDF', 'normalize_avg_row': False, 'similarity_from_distance_mode': 'log', 'normalize': True}. Best is trial 41 with value: 0.04791565139700943.\n"
     ]
    },
    {
     "name": "stdout",
     "output_type": "stream",
     "text": [
      "Similarity column 38121 (100.0%), 1321.74 column/sec. Elapsed time 28.84 sec\n",
      "EvaluatorHoldout: Processed 35568 (100.0%) in 8.42 sec. Users per second: 4222\n"
     ]
    },
    {
     "name": "stderr",
     "output_type": "stream",
     "text": [
      "[I 2024-12-11 01:24:14,519] Trial 76 finished with value: 0.02788905133203374 and parameters: {'topK': 4, 'shrink': 43, 'feature_weighting': 'TF-IDF', 'normalize_avg_row': False, 'similarity_from_distance_mode': 'log', 'normalize': False}. Best is trial 41 with value: 0.04791565139700943.\n"
     ]
    },
    {
     "name": "stdout",
     "output_type": "stream",
     "text": [
      "Similarity column 38121 (100.0%), 1264.39 column/sec. Elapsed time 30.15 sec\n",
      "EvaluatorHoldout: Processed 35568 (100.0%) in 9.80 sec. Users per second: 3628\n"
     ]
    },
    {
     "name": "stderr",
     "output_type": "stream",
     "text": [
      "[I 2024-12-11 01:24:54,533] Trial 77 finished with value: 0.03353005912216324 and parameters: {'topK': 35, 'shrink': 48, 'feature_weighting': 'TF-IDF', 'normalize_avg_row': False, 'similarity_from_distance_mode': 'log', 'normalize': True}. Best is trial 41 with value: 0.04791565139700943.\n"
     ]
    },
    {
     "name": "stdout",
     "output_type": "stream",
     "text": [
      "Similarity column 38121 (100.0%), 1293.43 column/sec. Elapsed time 29.47 sec\n",
      "EvaluatorHoldout: Processed 35568 (100.0%) in 8.91 sec. Users per second: 3990\n"
     ]
    },
    {
     "name": "stderr",
     "output_type": "stream",
     "text": [
      "[I 2024-12-11 01:25:32,950] Trial 78 finished with value: 0.044381255623030365 and parameters: {'topK': 8, 'shrink': 46, 'feature_weighting': 'none', 'normalize_avg_row': True, 'similarity_from_distance_mode': 'log', 'normalize': True}. Best is trial 41 with value: 0.04791565139700943.\n"
     ]
    },
    {
     "name": "stdout",
     "output_type": "stream",
     "text": [
      "Similarity column 38121 (100.0%), 1244.11 column/sec. Elapsed time 30.64 sec\n",
      "EvaluatorHoldout: Processed 35568 (100.0%) in 9.08 sec. Users per second: 3917\n"
     ]
    },
    {
     "name": "stderr",
     "output_type": "stream",
     "text": [
      "[I 2024-12-11 01:26:12,728] Trial 79 finished with value: 0.038688226977699545 and parameters: {'topK': 17, 'shrink': 49, 'feature_weighting': 'TF-IDF', 'normalize_avg_row': False, 'similarity_from_distance_mode': 'log', 'normalize': True}. Best is trial 41 with value: 0.04791565139700943.\n"
     ]
    },
    {
     "name": "stdout",
     "output_type": "stream",
     "text": [
      "Similarity column 38121 (100.0%), 1201.33 column/sec. Elapsed time 31.73 sec\n",
      "EvaluatorHoldout: Processed 35568 (100.0%) in 10.05 sec. Users per second: 3539\n"
     ]
    },
    {
     "name": "stderr",
     "output_type": "stream",
     "text": [
      "[I 2024-12-11 01:26:54,578] Trial 80 finished with value: 0.027588181190154305 and parameters: {'topK': 45, 'shrink': 41, 'feature_weighting': 'BM25', 'normalize_avg_row': False, 'similarity_from_distance_mode': 'log', 'normalize': True}. Best is trial 41 with value: 0.04791565139700943.\n"
     ]
    },
    {
     "name": "stdout",
     "output_type": "stream",
     "text": [
      "Similarity column 38121 (100.0%), 1181.18 column/sec. Elapsed time 32.27 sec\n",
      "EvaluatorHoldout: Processed 35568 (100.0%) in 8.51 sec. Users per second: 4182\n"
     ]
    },
    {
     "name": "stderr",
     "output_type": "stream",
     "text": [
      "[I 2024-12-11 01:27:35,410] Trial 81 finished with value: 0.04713843904633216 and parameters: {'topK': 2, 'shrink': 44, 'feature_weighting': 'TF-IDF', 'normalize_avg_row': False, 'similarity_from_distance_mode': 'exp', 'normalize': True}. Best is trial 41 with value: 0.04791565139700943.\n"
     ]
    },
    {
     "name": "stdout",
     "output_type": "stream",
     "text": [
      "Similarity column 38121 (100.0%), 1222.77 column/sec. Elapsed time 31.18 sec\n",
      "EvaluatorHoldout: Processed 35568 (100.0%) in 8.56 sec. Users per second: 4157\n"
     ]
    },
    {
     "name": "stderr",
     "output_type": "stream",
     "text": [
      "[I 2024-12-11 01:28:15,193] Trial 82 finished with value: 0.047912234066289486 and parameters: {'topK': 4, 'shrink': 44, 'feature_weighting': 'TF-IDF', 'normalize_avg_row': False, 'similarity_from_distance_mode': 'log', 'normalize': True}. Best is trial 41 with value: 0.04791565139700943.\n"
     ]
    },
    {
     "name": "stdout",
     "output_type": "stream",
     "text": [
      "Similarity column 38121 (100.0%), 1206.27 column/sec. Elapsed time 31.60 sec\n",
      "EvaluatorHoldout: Processed 35568 (100.0%) in 9.04 sec. Users per second: 3936\n"
     ]
    },
    {
     "name": "stderr",
     "output_type": "stream",
     "text": [
      "[I 2024-12-11 01:28:55,888] Trial 83 finished with value: 0.04142718017443745 and parameters: {'topK': 12, 'shrink': 46, 'feature_weighting': 'TF-IDF', 'normalize_avg_row': False, 'similarity_from_distance_mode': 'log', 'normalize': True}. Best is trial 41 with value: 0.04791565139700943.\n"
     ]
    },
    {
     "name": "stdout",
     "output_type": "stream",
     "text": [
      "Similarity column 38121 (100.0%), 1281.82 column/sec. Elapsed time 29.74 sec\n",
      "EvaluatorHoldout: Processed 35568 (100.0%) in 8.61 sec. Users per second: 4131\n"
     ]
    },
    {
     "name": "stderr",
     "output_type": "stream",
     "text": [
      "[I 2024-12-11 01:29:34,289] Trial 84 finished with value: 0.04791212807660016 and parameters: {'topK': 4, 'shrink': 39, 'feature_weighting': 'TF-IDF', 'normalize_avg_row': False, 'similarity_from_distance_mode': 'log', 'normalize': True}. Best is trial 41 with value: 0.04791565139700943.\n"
     ]
    },
    {
     "name": "stdout",
     "output_type": "stream",
     "text": [
      "Similarity column 38121 (100.0%), 1274.87 column/sec. Elapsed time 29.90 sec\n",
      "EvaluatorHoldout: Processed 35568 (100.0%) in 8.86 sec. Users per second: 4014\n"
     ]
    },
    {
     "name": "stderr",
     "output_type": "stream",
     "text": [
      "[I 2024-12-11 01:30:13,103] Trial 85 finished with value: 0.04507200716356239 and parameters: {'topK': 7, 'shrink': 42, 'feature_weighting': 'TF-IDF', 'normalize_avg_row': False, 'similarity_from_distance_mode': 'log', 'normalize': True}. Best is trial 41 with value: 0.04791565139700943.\n"
     ]
    },
    {
     "name": "stdout",
     "output_type": "stream",
     "text": [
      "Similarity column 38121 (100.0%), 1210.04 column/sec. Elapsed time 31.50 sec\n",
      "EvaluatorHoldout: Processed 35568 (100.0%) in 9.10 sec. Users per second: 3908\n"
     ]
    },
    {
     "name": "stderr",
     "output_type": "stream",
     "text": [
      "[I 2024-12-11 01:30:53,763] Trial 86 finished with value: 0.04034920367157036 and parameters: {'topK': 14, 'shrink': 39, 'feature_weighting': 'TF-IDF', 'normalize_avg_row': False, 'similarity_from_distance_mode': 'log', 'normalize': True}. Best is trial 41 with value: 0.04791565139700943.\n"
     ]
    },
    {
     "name": "stdout",
     "output_type": "stream",
     "text": [
      "Similarity column 38121 (100.0%), 1255.42 column/sec. Elapsed time 30.37 sec\n",
      "EvaluatorHoldout: Processed 35568 (100.0%) in 8.66 sec. Users per second: 4108\n"
     ]
    },
    {
     "name": "stderr",
     "output_type": "stream",
     "text": [
      "[I 2024-12-11 01:31:32,835] Trial 87 finished with value: 0.047911050328811884 and parameters: {'topK': 4, 'shrink': 36, 'feature_weighting': 'TF-IDF', 'normalize_avg_row': False, 'similarity_from_distance_mode': 'log', 'normalize': True}. Best is trial 41 with value: 0.04791565139700943.\n"
     ]
    },
    {
     "name": "stdout",
     "output_type": "stream",
     "text": [
      "Similarity column 38121 (100.0%), 1300.42 column/sec. Elapsed time 29.31 sec\n",
      "EvaluatorHoldout: Processed 35568 (100.0%) in 8.46 sec. Users per second: 4203\n"
     ]
    },
    {
     "name": "stderr",
     "output_type": "stream",
     "text": [
      "[I 2024-12-11 01:32:10,642] Trial 88 finished with value: 0.029221833742118557 and parameters: {'topK': 10, 'shrink': 21, 'feature_weighting': 'none', 'normalize_avg_row': False, 'similarity_from_distance_mode': 'log', 'normalize': False}. Best is trial 41 with value: 0.04791565139700943.\n"
     ]
    },
    {
     "name": "stdout",
     "output_type": "stream",
     "text": [
      "Similarity column 38121 (100.0%), 1363.34 column/sec. Elapsed time 27.96 sec\n",
      "EvaluatorHoldout: Processed 35568 (100.0%) in 8.65 sec. Users per second: 4110\n"
     ]
    },
    {
     "name": "stderr",
     "output_type": "stream",
     "text": [
      "[I 2024-12-11 01:32:47,308] Trial 89 finished with value: 0.04790148224906834 and parameters: {'topK': 4, 'shrink': 35, 'feature_weighting': 'TF-IDF', 'normalize_avg_row': False, 'similarity_from_distance_mode': 'lin', 'normalize': True}. Best is trial 41 with value: 0.04791565139700943.\n"
     ]
    },
    {
     "name": "stdout",
     "output_type": "stream",
     "text": [
      "Similarity column 38121 (100.0%), 1369.38 column/sec. Elapsed time 27.84 sec\n",
      "EvaluatorHoldout: Processed 35568 (100.0%) in 10.81 sec. Users per second: 3291\n"
     ]
    },
    {
     "name": "stderr",
     "output_type": "stream",
     "text": [
      "[I 2024-12-11 01:33:26,026] Trial 90 finished with value: 0.02822634176252503 and parameters: {'topK': 78, 'shrink': 35, 'feature_weighting': 'TF-IDF', 'normalize_avg_row': False, 'similarity_from_distance_mode': 'lin', 'normalize': True}. Best is trial 41 with value: 0.04791565139700943.\n"
     ]
    },
    {
     "name": "stdout",
     "output_type": "stream",
     "text": [
      "Similarity column 38121 (100.0%), 1438.65 column/sec. Elapsed time 26.50 sec\n",
      "EvaluatorHoldout: Processed 35568 (100.0%) in 8.69 sec. Users per second: 4091\n"
     ]
    },
    {
     "name": "stderr",
     "output_type": "stream",
     "text": [
      "[I 2024-12-11 01:34:01,272] Trial 91 finished with value: 0.04790148224906834 and parameters: {'topK': 4, 'shrink': 37, 'feature_weighting': 'TF-IDF', 'normalize_avg_row': False, 'similarity_from_distance_mode': 'lin', 'normalize': True}. Best is trial 41 with value: 0.04791565139700943.\n"
     ]
    },
    {
     "name": "stdout",
     "output_type": "stream",
     "text": [
      "Similarity column 38121 (100.0%), 1446.29 column/sec. Elapsed time 26.36 sec\n",
      "EvaluatorHoldout: Processed 35568 (100.0%) in 8.86 sec. Users per second: 4013\n"
     ]
    },
    {
     "name": "stderr",
     "output_type": "stream",
     "text": [
      "[I 2024-12-11 01:34:36,546] Trial 92 finished with value: 0.04604196009075224 and parameters: {'topK': 6, 'shrink': 36, 'feature_weighting': 'TF-IDF', 'normalize_avg_row': False, 'similarity_from_distance_mode': 'lin', 'normalize': True}. Best is trial 41 with value: 0.04791565139700943.\n"
     ]
    },
    {
     "name": "stdout",
     "output_type": "stream",
     "text": [
      "Similarity column 38121 (100.0%), 1422.68 column/sec. Elapsed time 26.80 sec\n",
      "EvaluatorHoldout: Processed 35568 (100.0%) in 8.66 sec. Users per second: 4106\n"
     ]
    },
    {
     "name": "stderr",
     "output_type": "stream",
     "text": [
      "[I 2024-12-11 01:35:12,056] Trial 93 finished with value: 0.04790148224906834 and parameters: {'topK': 4, 'shrink': 37, 'feature_weighting': 'TF-IDF', 'normalize_avg_row': False, 'similarity_from_distance_mode': 'lin', 'normalize': True}. Best is trial 41 with value: 0.04791565139700943.\n"
     ]
    },
    {
     "name": "stdout",
     "output_type": "stream",
     "text": [
      "Similarity column 38121 (100.0%), 1258.35 column/sec. Elapsed time 30.29 sec\n",
      "EvaluatorHoldout: Processed 35568 (100.0%) in 8.94 sec. Users per second: 3980\n"
     ]
    },
    {
     "name": "stderr",
     "output_type": "stream",
     "text": [
      "[I 2024-12-11 01:35:51,340] Trial 94 finished with value: 0.044336070544950576 and parameters: {'topK': 8, 'shrink': 39, 'feature_weighting': 'TF-IDF', 'normalize_avg_row': False, 'similarity_from_distance_mode': 'lin', 'normalize': True}. Best is trial 41 with value: 0.04791565139700943.\n"
     ]
    },
    {
     "name": "stdout",
     "output_type": "stream",
     "text": [
      "Similarity column 38121 (100.0%), 1454.97 column/sec. Elapsed time 26.20 sec\n",
      "EvaluatorHoldout: Processed 35568 (100.0%) in 8.79 sec. Users per second: 4044\n"
     ]
    },
    {
     "name": "stderr",
     "output_type": "stream",
     "text": [
      "[I 2024-12-11 01:36:26,391] Trial 95 finished with value: 0.04790148224906834 and parameters: {'topK': 4, 'shrink': 34, 'feature_weighting': 'TF-IDF', 'normalize_avg_row': False, 'similarity_from_distance_mode': 'lin', 'normalize': True}. Best is trial 41 with value: 0.04791565139700943.\n"
     ]
    },
    {
     "name": "stdout",
     "output_type": "stream",
     "text": [
      "Similarity column 38121 (100.0%), 1352.95 column/sec. Elapsed time 28.18 sec\n",
      "EvaluatorHoldout: Processed 35568 (100.0%) in 9.18 sec. Users per second: 3875\n"
     ]
    },
    {
     "name": "stderr",
     "output_type": "stream",
     "text": [
      "[I 2024-12-11 01:37:03,804] Trial 96 finished with value: 0.04140099625845093 and parameters: {'topK': 12, 'shrink': 40, 'feature_weighting': 'TF-IDF', 'normalize_avg_row': True, 'similarity_from_distance_mode': 'lin', 'normalize': True}. Best is trial 41 with value: 0.04791565139700943.\n"
     ]
    },
    {
     "name": "stdout",
     "output_type": "stream",
     "text": [
      "Similarity column 38121 (100.0%), 1433.78 column/sec. Elapsed time 26.59 sec\n",
      "EvaluatorHoldout: Processed 35568 (100.0%) in 8.91 sec. Users per second: 3992\n"
     ]
    },
    {
     "name": "stderr",
     "output_type": "stream",
     "text": [
      "[I 2024-12-11 01:37:39,354] Trial 97 finished with value: 0.04504532119115274 and parameters: {'topK': 7, 'shrink': 39, 'feature_weighting': 'TF-IDF', 'normalize_avg_row': False, 'similarity_from_distance_mode': 'lin', 'normalize': True}. Best is trial 41 with value: 0.04791565139700943.\n"
     ]
    },
    {
     "name": "stdout",
     "output_type": "stream",
     "text": [
      "Similarity column 38121 (100.0%), 1420.81 column/sec. Elapsed time 26.83 sec\n",
      "EvaluatorHoldout: Processed 35568 (100.0%) in 9.49 sec. Users per second: 3748\n"
     ]
    },
    {
     "name": "stderr",
     "output_type": "stream",
     "text": [
      "[I 2024-12-11 01:38:15,730] Trial 98 finished with value: 0.03674100560339443 and parameters: {'topK': 22, 'shrink': 32, 'feature_weighting': 'TF-IDF', 'normalize_avg_row': False, 'similarity_from_distance_mode': 'lin', 'normalize': True}. Best is trial 41 with value: 0.04791565139700943.\n"
     ]
    },
    {
     "name": "stdout",
     "output_type": "stream",
     "text": [
      "Similarity column 38121 (100.0%), 1303.90 column/sec. Elapsed time 29.24 sec\n",
      "EvaluatorHoldout: Processed 35568 (100.0%) in 8.79 sec. Users per second: 4045\n"
     ]
    },
    {
     "name": "stderr",
     "output_type": "stream",
     "text": [
      "[I 2024-12-11 01:38:53,813] Trial 99 finished with value: 0.047911050328811884 and parameters: {'topK': 4, 'shrink': 36, 'feature_weighting': 'TF-IDF', 'normalize_avg_row': False, 'similarity_from_distance_mode': 'log', 'normalize': True}. Best is trial 41 with value: 0.04791565139700943.\n"
     ]
    },
    {
     "name": "stdout",
     "output_type": "stream",
     "text": [
      "Similarity column 38121 (100.0%), 1285.37 column/sec. Elapsed time 29.66 sec\n",
      "EvaluatorHoldout: Processed 35568 (100.0%) in 9.20 sec. Users per second: 3866\n"
     ]
    },
    {
     "name": "stderr",
     "output_type": "stream",
     "text": [
      "[I 2024-12-11 01:39:32,731] Trial 100 finished with value: 0.03811066238423567 and parameters: {'topK': 18, 'shrink': 35, 'feature_weighting': 'TF-IDF', 'normalize_avg_row': False, 'similarity_from_distance_mode': 'log', 'normalize': True}. Best is trial 41 with value: 0.04791565139700943.\n"
     ]
    },
    {
     "name": "stdout",
     "output_type": "stream",
     "text": [
      "Similarity column 38121 (100.0%), 1228.80 column/sec. Elapsed time 31.02 sec\n",
      "EvaluatorHoldout: Processed 35568 (100.0%) in 8.68 sec. Users per second: 4099\n"
     ]
    },
    {
     "name": "stderr",
     "output_type": "stream",
     "text": [
      "[I 2024-12-11 01:40:12,485] Trial 101 finished with value: 0.047912195017456576 and parameters: {'topK': 4, 'shrink': 37, 'feature_weighting': 'TF-IDF', 'normalize_avg_row': False, 'similarity_from_distance_mode': 'log', 'normalize': True}. Best is trial 41 with value: 0.04791565139700943.\n"
     ]
    },
    {
     "name": "stdout",
     "output_type": "stream",
     "text": [
      "Similarity column 38121 (100.0%), 1277.42 column/sec. Elapsed time 29.84 sec\n",
      "EvaluatorHoldout: Processed 35568 (100.0%) in 8.99 sec. Users per second: 3955\n"
     ]
    },
    {
     "name": "stderr",
     "output_type": "stream",
     "text": [
      "[I 2024-12-11 01:40:51,376] Trial 102 finished with value: 0.042842618922661314 and parameters: {'topK': 10, 'shrink': 36, 'feature_weighting': 'TF-IDF', 'normalize_avg_row': False, 'similarity_from_distance_mode': 'log', 'normalize': True}. Best is trial 41 with value: 0.04791565139700943.\n"
     ]
    },
    {
     "name": "stdout",
     "output_type": "stream",
     "text": [
      "Similarity column 38121 (100.0%), 1222.64 column/sec. Elapsed time 31.18 sec\n",
      "EvaluatorHoldout: Processed 35568 (100.0%) in 10.35 sec. Users per second: 3438\n"
     ]
    },
    {
     "name": "stderr",
     "output_type": "stream",
     "text": [
      "[I 2024-12-11 01:41:32,966] Trial 103 finished with value: 0.030514510769444156 and parameters: {'topK': 55, 'shrink': 34, 'feature_weighting': 'TF-IDF', 'normalize_avg_row': False, 'similarity_from_distance_mode': 'log', 'normalize': True}. Best is trial 41 with value: 0.04791565139700943.\n"
     ]
    },
    {
     "name": "stdout",
     "output_type": "stream",
     "text": [
      "Similarity column 38121 (100.0%), 1284.50 column/sec. Elapsed time 29.68 sec\n",
      "EvaluatorHoldout: Processed 35568 (100.0%) in 8.83 sec. Users per second: 4030\n"
     ]
    },
    {
     "name": "stderr",
     "output_type": "stream",
     "text": [
      "[I 2024-12-11 01:42:11,523] Trial 104 finished with value: 0.04606818305557174 and parameters: {'topK': 6, 'shrink': 38, 'feature_weighting': 'TF-IDF', 'normalize_avg_row': False, 'similarity_from_distance_mode': 'log', 'normalize': True}. Best is trial 41 with value: 0.04791565139700943.\n"
     ]
    },
    {
     "name": "stdout",
     "output_type": "stream",
     "text": [
      "Similarity column 38121 (100.0%), 1287.18 column/sec. Elapsed time 29.62 sec\n",
      "EvaluatorHoldout: Processed 35568 (100.0%) in 8.72 sec. Users per second: 4081\n"
     ]
    },
    {
     "name": "stderr",
     "output_type": "stream",
     "text": [
      "[I 2024-12-11 01:42:49,909] Trial 105 finished with value: 0.047912432657496846 and parameters: {'topK': 4, 'shrink': 42, 'feature_weighting': 'TF-IDF', 'normalize_avg_row': False, 'similarity_from_distance_mode': 'log', 'normalize': True}. Best is trial 41 with value: 0.04791565139700943.\n"
     ]
    },
    {
     "name": "stdout",
     "output_type": "stream",
     "text": [
      "Similarity column 38121 (100.0%), 1266.41 column/sec. Elapsed time 30.10 sec\n",
      "EvaluatorHoldout: Processed 35568 (100.0%) in 8.80 sec. Users per second: 4042\n"
     ]
    },
    {
     "name": "stderr",
     "output_type": "stream",
     "text": [
      "[I 2024-12-11 01:43:28,864] Trial 106 finished with value: 0.04347909481681269 and parameters: {'topK': 9, 'shrink': 43, 'feature_weighting': 'TF-IDF', 'normalize_avg_row': False, 'similarity_from_distance_mode': 'log', 'normalize': True}. Best is trial 41 with value: 0.04791565139700943.\n"
     ]
    },
    {
     "name": "stdout",
     "output_type": "stream",
     "text": [
      "Similarity column 38121 (100.0%), 1263.22 column/sec. Elapsed time 30.18 sec\n",
      "EvaluatorHoldout: Processed 35568 (100.0%) in 9.18 sec. Users per second: 3875\n"
     ]
    },
    {
     "name": "stderr",
     "output_type": "stream",
     "text": [
      "[I 2024-12-11 01:44:08,280] Trial 107 finished with value: 0.03258381664631589 and parameters: {'topK': 14, 'shrink': 41, 'feature_weighting': 'BM25', 'normalize_avg_row': False, 'similarity_from_distance_mode': 'log', 'normalize': True}. Best is trial 41 with value: 0.04791565139700943.\n"
     ]
    },
    {
     "name": "stdout",
     "output_type": "stream",
     "text": [
      "Similarity column 38121 (100.0%), 1327.83 column/sec. Elapsed time 28.71 sec\n",
      "EvaluatorHoldout: Processed 35568 (100.0%) in 8.44 sec. Users per second: 4213\n"
     ]
    },
    {
     "name": "stderr",
     "output_type": "stream",
     "text": [
      "[I 2024-12-11 01:44:45,484] Trial 108 finished with value: 0.028182546822897593 and parameters: {'topK': 6, 'shrink': 17, 'feature_weighting': 'TF-IDF', 'normalize_avg_row': False, 'similarity_from_distance_mode': 'log', 'normalize': False}. Best is trial 41 with value: 0.04791565139700943.\n"
     ]
    },
    {
     "name": "stdout",
     "output_type": "stream",
     "text": [
      "Similarity column 38121 (100.0%), 1281.18 column/sec. Elapsed time 29.75 sec\n",
      "EvaluatorHoldout: Processed 35568 (100.0%) in 8.69 sec. Users per second: 4092\n"
     ]
    },
    {
     "name": "stderr",
     "output_type": "stream",
     "text": [
      "[I 2024-12-11 01:45:23,984] Trial 109 finished with value: 0.047912432657496846 and parameters: {'topK': 4, 'shrink': 42, 'feature_weighting': 'TF-IDF', 'normalize_avg_row': False, 'similarity_from_distance_mode': 'log', 'normalize': True}. Best is trial 41 with value: 0.04791565139700943.\n"
     ]
    },
    {
     "name": "stdout",
     "output_type": "stream",
     "text": [
      "Similarity column 38121 (100.0%), 1297.70 column/sec. Elapsed time 29.38 sec\n",
      "EvaluatorHoldout: Processed 35568 (100.0%) in 8.96 sec. Users per second: 3971\n"
     ]
    },
    {
     "name": "stderr",
     "output_type": "stream",
     "text": [
      "[I 2024-12-11 01:46:02,371] Trial 110 finished with value: 0.042034735387255835 and parameters: {'topK': 11, 'shrink': 43, 'feature_weighting': 'TF-IDF', 'normalize_avg_row': False, 'similarity_from_distance_mode': 'log', 'normalize': True}. Best is trial 41 with value: 0.04791565139700943.\n"
     ]
    },
    {
     "name": "stdout",
     "output_type": "stream",
     "text": [
      "Similarity column 38121 (100.0%), 1238.58 column/sec. Elapsed time 30.78 sec\n",
      "EvaluatorHoldout: Processed 35568 (100.0%) in 8.59 sec. Users per second: 4142\n"
     ]
    },
    {
     "name": "stderr",
     "output_type": "stream",
     "text": [
      "[I 2024-12-11 01:46:41,788] Trial 111 finished with value: 0.047912432657496846 and parameters: {'topK': 4, 'shrink': 42, 'feature_weighting': 'TF-IDF', 'normalize_avg_row': False, 'similarity_from_distance_mode': 'log', 'normalize': True}. Best is trial 41 with value: 0.04791565139700943.\n"
     ]
    },
    {
     "name": "stdout",
     "output_type": "stream",
     "text": [
      "Similarity column 38121 (100.0%), 1186.82 column/sec. Elapsed time 32.12 sec\n",
      "EvaluatorHoldout: Processed 35568 (100.0%) in 8.86 sec. Users per second: 4013\n"
     ]
    },
    {
     "name": "stderr",
     "output_type": "stream",
     "text": [
      "[I 2024-12-11 01:47:22,825] Trial 112 finished with value: 0.04507200716356239 and parameters: {'topK': 7, 'shrink': 42, 'feature_weighting': 'TF-IDF', 'normalize_avg_row': False, 'similarity_from_distance_mode': 'log', 'normalize': True}. Best is trial 41 with value: 0.04791565139700943.\n"
     ]
    },
    {
     "name": "stdout",
     "output_type": "stream",
     "text": [
      "Similarity column 38121 (100.0%), 1164.00 column/sec. Elapsed time 32.75 sec\n",
      "EvaluatorHoldout: Processed 35568 (100.0%) in 11.25 sec. Users per second: 3163\n"
     ]
    },
    {
     "name": "stderr",
     "output_type": "stream",
     "text": [
      "[I 2024-12-11 01:48:06,894] Trial 113 finished with value: 0.027457369831272508 and parameters: {'topK': 91, 'shrink': 40, 'feature_weighting': 'TF-IDF', 'normalize_avg_row': False, 'similarity_from_distance_mode': 'log', 'normalize': True}. Best is trial 41 with value: 0.04791565139700943.\n"
     ]
    },
    {
     "name": "stdout",
     "output_type": "stream",
     "text": [
      "Similarity column 38121 (100.0%), 918.47 column/sec. Elapsed time 41.50 sec\n",
      "EvaluatorHoldout: Processed 35568 (100.0%) in 8.74 sec. Users per second: 4068\n"
     ]
    },
    {
     "name": "stderr",
     "output_type": "stream",
     "text": [
      "[I 2024-12-11 01:48:57,197] Trial 114 finished with value: 0.04830890326778306 and parameters: {'topK': 3, 'shrink': 41, 'feature_weighting': 'TF-IDF', 'normalize_avg_row': False, 'similarity_from_distance_mode': 'log', 'normalize': True}. Best is trial 114 with value: 0.04830890326778306.\n"
     ]
    },
    {
     "name": "stdout",
     "output_type": "stream",
     "text": [
      "Similarity column 38121 (100.0%), 1148.29 column/sec. Elapsed time 33.20 sec\n",
      "EvaluatorHoldout: Processed 35568 (100.0%) in 8.57 sec. Users per second: 4149\n"
     ]
    },
    {
     "name": "stderr",
     "output_type": "stream",
     "text": [
      "[I 2024-12-11 01:49:39,019] Trial 115 finished with value: 0.04713929923633705 and parameters: {'topK': 2, 'shrink': 47, 'feature_weighting': 'TF-IDF', 'normalize_avg_row': False, 'similarity_from_distance_mode': 'log', 'normalize': True}. Best is trial 114 with value: 0.04830890326778306.\n"
     ]
    },
    {
     "name": "stdout",
     "output_type": "stream",
     "text": [
      "Similarity column 38121 (100.0%), 1207.15 column/sec. Elapsed time 31.58 sec\n",
      "EvaluatorHoldout: Processed 35568 (100.0%) in 8.88 sec. Users per second: 4003\n"
     ]
    },
    {
     "name": "stderr",
     "output_type": "stream",
     "text": [
      "[I 2024-12-11 01:50:19,540] Trial 116 finished with value: 0.04350154789573512 and parameters: {'topK': 9, 'shrink': 41, 'feature_weighting': 'TF-IDF', 'normalize_avg_row': True, 'similarity_from_distance_mode': 'log', 'normalize': True}. Best is trial 114 with value: 0.04830890326778306.\n"
     ]
    },
    {
     "name": "stdout",
     "output_type": "stream",
     "text": [
      "Similarity column 38121 (100.0%), 1204.79 column/sec. Elapsed time 31.64 sec\n",
      "EvaluatorHoldout: Processed 35568 (100.0%) in 8.71 sec. Users per second: 4085\n"
     ]
    },
    {
     "name": "stderr",
     "output_type": "stream",
     "text": [
      "[I 2024-12-11 01:50:59,942] Trial 117 finished with value: 0.046066944649728075 and parameters: {'topK': 6, 'shrink': 44, 'feature_weighting': 'TF-IDF', 'normalize_avg_row': False, 'similarity_from_distance_mode': 'log', 'normalize': True}. Best is trial 114 with value: 0.04830890326778306.\n"
     ]
    },
    {
     "name": "stdout",
     "output_type": "stream",
     "text": [
      "Similarity column 38121 (100.0%), 903.41 column/sec. Elapsed time 42.20 sec\n",
      "EvaluatorHoldout: Processed 35568 (100.0%) in 8.69 sec. Users per second: 4092\n"
     ]
    },
    {
     "name": "stderr",
     "output_type": "stream",
     "text": [
      "[I 2024-12-11 01:51:50,886] Trial 118 finished with value: 0.04830903268677213 and parameters: {'topK': 3, 'shrink': 42, 'feature_weighting': 'TF-IDF', 'normalize_avg_row': False, 'similarity_from_distance_mode': 'log', 'normalize': True}. Best is trial 118 with value: 0.04830903268677213.\n"
     ]
    },
    {
     "name": "stdout",
     "output_type": "stream",
     "text": [
      "Similarity column 38121 (100.0%), 1226.89 column/sec. Elapsed time 31.07 sec\n",
      "EvaluatorHoldout: Processed 35568 (100.0%) in 9.03 sec. Users per second: 3940\n"
     ]
    },
    {
     "name": "stderr",
     "output_type": "stream",
     "text": [
      "[I 2024-12-11 01:52:31,038] Trial 119 finished with value: 0.040885027294017044 and parameters: {'topK': 13, 'shrink': 42, 'feature_weighting': 'TF-IDF', 'normalize_avg_row': False, 'similarity_from_distance_mode': 'log', 'normalize': True}. Best is trial 118 with value: 0.04830903268677213.\n"
     ]
    },
    {
     "name": "stdout",
     "output_type": "stream",
     "text": [
      "Similarity column 38121 (100.0%), 1193.97 column/sec. Elapsed time 31.93 sec\n",
      "EvaluatorHoldout: Processed 35568 (100.0%) in 8.80 sec. Users per second: 4042\n"
     ]
    },
    {
     "name": "stderr",
     "output_type": "stream",
     "text": [
      "[I 2024-12-11 01:53:11,818] Trial 120 finished with value: 0.04435207164099554 and parameters: {'topK': 8, 'shrink': 39, 'feature_weighting': 'TF-IDF', 'normalize_avg_row': False, 'similarity_from_distance_mode': 'log', 'normalize': True}. Best is trial 118 with value: 0.04830903268677213.\n"
     ]
    },
    {
     "name": "stdout",
     "output_type": "stream",
     "text": [
      "Similarity column 38121 (100.0%), 958.27 column/sec. Elapsed time 39.78 sec\n",
      "EvaluatorHoldout: Processed 35568 (100.0%) in 8.55 sec. Users per second: 4162\n"
     ]
    },
    {
     "name": "stderr",
     "output_type": "stream",
     "text": [
      "[I 2024-12-11 01:54:00,197] Trial 121 finished with value: 0.04830903268677213 and parameters: {'topK': 3, 'shrink': 42, 'feature_weighting': 'TF-IDF', 'normalize_avg_row': False, 'similarity_from_distance_mode': 'log', 'normalize': True}. Best is trial 118 with value: 0.04830903268677213.\n"
     ]
    },
    {
     "name": "stdout",
     "output_type": "stream",
     "text": [
      "Similarity column 38121 (100.0%), 935.78 column/sec. Elapsed time 40.74 sec\n",
      "EvaluatorHoldout: Processed 35568 (100.0%) in 8.59 sec. Users per second: 4143\n"
     ]
    },
    {
     "name": "stderr",
     "output_type": "stream",
     "text": [
      "[I 2024-12-11 01:54:49,572] Trial 122 finished with value: 0.04830890326778306 and parameters: {'topK': 3, 'shrink': 41, 'feature_weighting': 'TF-IDF', 'normalize_avg_row': False, 'similarity_from_distance_mode': 'log', 'normalize': True}. Best is trial 118 with value: 0.04830903268677213.\n"
     ]
    },
    {
     "name": "stdout",
     "output_type": "stream",
     "text": [
      "Similarity column 38121 (100.0%), 1115.16 column/sec. Elapsed time 34.18 sec\n",
      "EvaluatorHoldout: Processed 35568 (100.0%) in 8.53 sec. Users per second: 4172\n"
     ]
    },
    {
     "name": "stderr",
     "output_type": "stream",
     "text": [
      "[I 2024-12-11 01:55:32,335] Trial 123 finished with value: 0.04714057780669458 and parameters: {'topK': 2, 'shrink': 42, 'feature_weighting': 'TF-IDF', 'normalize_avg_row': False, 'similarity_from_distance_mode': 'log', 'normalize': True}. Best is trial 118 with value: 0.04830903268677213.\n"
     ]
    },
    {
     "name": "stdout",
     "output_type": "stream",
     "text": [
      "Similarity column 38121 (100.0%), 1151.67 column/sec. Elapsed time 33.10 sec\n",
      "EvaluatorHoldout: Processed 35568 (100.0%) in 8.51 sec. Users per second: 4181\n"
     ]
    },
    {
     "name": "stderr",
     "output_type": "stream",
     "text": [
      "[I 2024-12-11 01:56:13,996] Trial 124 finished with value: 0.047134798579424125 and parameters: {'topK': 2, 'shrink': 22, 'feature_weighting': 'TF-IDF', 'normalize_avg_row': False, 'similarity_from_distance_mode': 'log', 'normalize': True}. Best is trial 118 with value: 0.04830903268677213.\n"
     ]
    },
    {
     "name": "stdout",
     "output_type": "stream",
     "text": [
      "Similarity column 38121 (100.0%), 1279.87 column/sec. Elapsed time 29.79 sec\n",
      "EvaluatorHoldout: Processed 35568 (100.0%) in 8.71 sec. Users per second: 4083\n"
     ]
    },
    {
     "name": "stderr",
     "output_type": "stream",
     "text": [
      "[I 2024-12-11 01:56:52,547] Trial 125 finished with value: 0.04606841177016449 and parameters: {'topK': 6, 'shrink': 43, 'feature_weighting': 'TF-IDF', 'normalize_avg_row': False, 'similarity_from_distance_mode': 'log', 'normalize': True}. Best is trial 118 with value: 0.04830903268677213.\n"
     ]
    },
    {
     "name": "stdout",
     "output_type": "stream",
     "text": [
      "Similarity column 38121 (100.0%), 1259.61 column/sec. Elapsed time 30.26 sec\n",
      "EvaluatorHoldout: Processed 35568 (100.0%) in 8.80 sec. Users per second: 4040\n"
     ]
    },
    {
     "name": "stderr",
     "output_type": "stream",
     "text": [
      "[I 2024-12-11 01:57:31,673] Trial 126 finished with value: 0.04347881366521575 and parameters: {'topK': 9, 'shrink': 41, 'feature_weighting': 'TF-IDF', 'normalize_avg_row': False, 'similarity_from_distance_mode': 'log', 'normalize': True}. Best is trial 118 with value: 0.04830903268677213.\n"
     ]
    },
    {
     "name": "stdout",
     "output_type": "stream",
     "text": [
      "Similarity column 38121 (100.0%), 1248.30 column/sec. Elapsed time 30.54 sec\n",
      "EvaluatorHoldout: Processed 35568 (100.0%) in 8.54 sec. Users per second: 4164\n"
     ]
    },
    {
     "name": "stderr",
     "output_type": "stream",
     "text": [
      "[I 2024-12-11 01:58:10,814] Trial 127 finished with value: 0.03389342190054813 and parameters: {'topK': 4, 'shrink': 44, 'feature_weighting': 'BM25', 'normalize_avg_row': False, 'similarity_from_distance_mode': 'log', 'normalize': True}. Best is trial 118 with value: 0.04830903268677213.\n"
     ]
    },
    {
     "name": "stdout",
     "output_type": "stream",
     "text": [
      "Similarity column 38121 (100.0%), 1291.62 column/sec. Elapsed time 29.51 sec\n",
      "EvaluatorHoldout: Processed 35568 (100.0%) in 8.59 sec. Users per second: 4142\n"
     ]
    },
    {
     "name": "stderr",
     "output_type": "stream",
     "text": [
      "[I 2024-12-11 01:58:48,983] Trial 128 finished with value: 0.02801970091717877 and parameters: {'topK': 65, 'shrink': 40, 'feature_weighting': 'TF-IDF', 'normalize_avg_row': False, 'similarity_from_distance_mode': 'log', 'normalize': False}. Best is trial 118 with value: 0.04830903268677213.\n"
     ]
    },
    {
     "name": "stdout",
     "output_type": "stream",
     "text": [
      "Similarity column 38121 (100.0%), 1214.62 column/sec. Elapsed time 31.39 sec\n",
      "EvaluatorHoldout: Processed 35568 (100.0%) in 8.82 sec. Users per second: 4032\n"
     ]
    },
    {
     "name": "stderr",
     "output_type": "stream",
     "text": [
      "[I 2024-12-11 01:59:29,241] Trial 129 finished with value: 0.04507200716356239 and parameters: {'topK': 7, 'shrink': 42, 'feature_weighting': 'TF-IDF', 'normalize_avg_row': False, 'similarity_from_distance_mode': 'log', 'normalize': True}. Best is trial 118 with value: 0.04830903268677213.\n"
     ]
    },
    {
     "name": "stdout",
     "output_type": "stream",
     "text": [
      "Similarity column 38121 (100.0%), 1252.35 column/sec. Elapsed time 30.44 sec\n",
      "EvaluatorHoldout: Processed 35568 (100.0%) in 9.03 sec. Users per second: 3940\n"
     ]
    },
    {
     "name": "stderr",
     "output_type": "stream",
     "text": [
      "[I 2024-12-11 02:00:08,762] Trial 130 finished with value: 0.042035945901076 and parameters: {'topK': 11, 'shrink': 46, 'feature_weighting': 'TF-IDF', 'normalize_avg_row': False, 'similarity_from_distance_mode': 'log', 'normalize': True}. Best is trial 118 with value: 0.04830903268677213.\n"
     ]
    },
    {
     "name": "stdout",
     "output_type": "stream",
     "text": [
      "Similarity column 38121 (100.0%), 920.09 column/sec. Elapsed time 41.43 sec\n",
      "EvaluatorHoldout: Processed 35568 (100.0%) in 8.60 sec. Users per second: 4136\n"
     ]
    },
    {
     "name": "stderr",
     "output_type": "stream",
     "text": [
      "[I 2024-12-11 02:00:58,848] Trial 131 finished with value: 0.0483088407896504 and parameters: {'topK': 3, 'shrink': 38, 'feature_weighting': 'TF-IDF', 'normalize_avg_row': False, 'similarity_from_distance_mode': 'log', 'normalize': True}. Best is trial 118 with value: 0.04830903268677213.\n"
     ]
    },
    {
     "name": "stdout",
     "output_type": "stream",
     "text": [
      "Similarity column 38121 (100.0%), 1194.97 column/sec. Elapsed time 31.90 sec\n",
      "EvaluatorHoldout: Processed 35568 (100.0%) in 8.73 sec. Users per second: 4075\n"
     ]
    },
    {
     "name": "stderr",
     "output_type": "stream",
     "text": [
      "[I 2024-12-11 02:01:39,529] Trial 132 finished with value: 0.0479124092281971 and parameters: {'topK': 4, 'shrink': 38, 'feature_weighting': 'TF-IDF', 'normalize_avg_row': False, 'similarity_from_distance_mode': 'log', 'normalize': True}. Best is trial 118 with value: 0.04830903268677213.\n"
     ]
    },
    {
     "name": "stdout",
     "output_type": "stream",
     "text": [
      "Similarity column 38121 (100.0%), 1132.27 column/sec. Elapsed time 33.67 sec\n",
      "EvaluatorHoldout: Processed 35568 (100.0%) in 8.51 sec. Users per second: 4181\n"
     ]
    },
    {
     "name": "stderr",
     "output_type": "stream",
     "text": [
      "[I 2024-12-11 02:02:21,759] Trial 133 finished with value: 0.04713376769023534 and parameters: {'topK': 2, 'shrink': 20, 'feature_weighting': 'TF-IDF', 'normalize_avg_row': False, 'similarity_from_distance_mode': 'log', 'normalize': True}. Best is trial 118 with value: 0.04830903268677213.\n"
     ]
    },
    {
     "name": "stdout",
     "output_type": "stream",
     "text": [
      "Similarity column 38121 (100.0%), 1206.39 column/sec. Elapsed time 31.60 sec\n",
      "EvaluatorHoldout: Processed 35568 (100.0%) in 8.67 sec. Users per second: 4102\n"
     ]
    },
    {
     "name": "stderr",
     "output_type": "stream",
     "text": [
      "[I 2024-12-11 02:03:02,082] Trial 134 finished with value: 0.046978879936663456 and parameters: {'topK': 5, 'shrink': 38, 'feature_weighting': 'TF-IDF', 'normalize_avg_row': False, 'similarity_from_distance_mode': 'log', 'normalize': True}. Best is trial 118 with value: 0.04830903268677213.\n"
     ]
    },
    {
     "name": "stdout",
     "output_type": "stream",
     "text": [
      "Similarity column 38121 (100.0%), 1192.00 column/sec. Elapsed time 31.98 sec\n",
      "EvaluatorHoldout: Processed 35568 (100.0%) in 8.79 sec. Users per second: 4045\n"
     ]
    },
    {
     "name": "stderr",
     "output_type": "stream",
     "text": [
      "[I 2024-12-11 02:03:42,913] Trial 135 finished with value: 0.04435160305500064 and parameters: {'topK': 8, 'shrink': 41, 'feature_weighting': 'TF-IDF', 'normalize_avg_row': False, 'similarity_from_distance_mode': 'log', 'normalize': True}. Best is trial 118 with value: 0.04830903268677213.\n"
     ]
    },
    {
     "name": "stdout",
     "output_type": "stream",
     "text": [
      "Similarity column 38121 (100.0%), 940.61 column/sec. Elapsed time 40.53 sec\n",
      "EvaluatorHoldout: Processed 35568 (100.0%) in 8.61 sec. Users per second: 4133\n"
     ]
    },
    {
     "name": "stderr",
     "output_type": "stream",
     "text": [
      "[I 2024-12-11 02:04:32,104] Trial 136 finished with value: 0.04831132206406149 and parameters: {'topK': 3, 'shrink': 23, 'feature_weighting': 'TF-IDF', 'normalize_avg_row': False, 'similarity_from_distance_mode': 'log', 'normalize': True}. Best is trial 136 with value: 0.04831132206406149.\n"
     ]
    },
    {
     "name": "stdout",
     "output_type": "stream",
     "text": [
      "Similarity column 38121 (100.0%), 1270.05 column/sec. Elapsed time 30.02 sec\n",
      "EvaluatorHoldout: Processed 35568 (100.0%) in 8.71 sec. Users per second: 4084\n"
     ]
    },
    {
     "name": "stderr",
     "output_type": "stream",
     "text": [
      "[I 2024-12-11 02:05:10,886] Trial 137 finished with value: 0.046062862373167736 and parameters: {'topK': 6, 'shrink': 23, 'feature_weighting': 'TF-IDF', 'normalize_avg_row': False, 'similarity_from_distance_mode': 'log', 'normalize': True}. Best is trial 136 with value: 0.04831132206406149.\n"
     ]
    },
    {
     "name": "stdout",
     "output_type": "stream",
     "text": [
      "Similarity column 38121 (100.0%), 946.70 column/sec. Elapsed time 40.27 sec\n",
      "EvaluatorHoldout: Processed 35568 (100.0%) in 8.54 sec. Users per second: 4165\n"
     ]
    },
    {
     "name": "stderr",
     "output_type": "stream",
     "text": [
      "[I 2024-12-11 02:05:59,747] Trial 138 finished with value: 0.048301468369997304 and parameters: {'topK': 3, 'shrink': 24, 'feature_weighting': 'TF-IDF', 'normalize_avg_row': True, 'similarity_from_distance_mode': 'log', 'normalize': True}. Best is trial 136 with value: 0.04831132206406149.\n"
     ]
    },
    {
     "name": "stdout",
     "output_type": "stream",
     "text": [
      "Similarity column 38121 (100.0%), 1138.31 column/sec. Elapsed time 33.49 sec\n",
      "EvaluatorHoldout: Processed 35568 (100.0%) in 8.42 sec. Users per second: 4225\n"
     ]
    },
    {
     "name": "stderr",
     "output_type": "stream",
     "text": [
      "[I 2024-12-11 02:06:41,712] Trial 139 finished with value: 0.04713620433740883 and parameters: {'topK': 2, 'shrink': 25, 'feature_weighting': 'TF-IDF', 'normalize_avg_row': False, 'similarity_from_distance_mode': 'log', 'normalize': True}. Best is trial 136 with value: 0.04831132206406149.\n"
     ]
    },
    {
     "name": "stdout",
     "output_type": "stream",
     "text": [
      "Similarity column 38121 (100.0%), 1258.06 column/sec. Elapsed time 30.30 sec\n",
      "EvaluatorHoldout: Processed 35568 (100.0%) in 8.88 sec. Users per second: 4004\n"
     ]
    },
    {
     "name": "stderr",
     "output_type": "stream",
     "text": [
      "[I 2024-12-11 02:07:20,954] Trial 140 finished with value: 0.042812696359844034 and parameters: {'topK': 10, 'shrink': 24, 'feature_weighting': 'TF-IDF', 'normalize_avg_row': True, 'similarity_from_distance_mode': 'log', 'normalize': True}. Best is trial 136 with value: 0.04831132206406149.\n"
     ]
    },
    {
     "name": "stdout",
     "output_type": "stream",
     "text": [
      "Similarity column 38121 (100.0%), 1236.77 column/sec. Elapsed time 30.82 sec\n",
      "EvaluatorHoldout: Processed 35568 (100.0%) in 8.68 sec. Users per second: 4096\n"
     ]
    },
    {
     "name": "stderr",
     "output_type": "stream",
     "text": [
      "[I 2024-12-11 02:08:00,513] Trial 141 finished with value: 0.04792815929603044 and parameters: {'topK': 4, 'shrink': 26, 'feature_weighting': 'TF-IDF', 'normalize_avg_row': True, 'similarity_from_distance_mode': 'log', 'normalize': True}. Best is trial 136 with value: 0.04831132206406149.\n"
     ]
    },
    {
     "name": "stdout",
     "output_type": "stream",
     "text": [
      "Similarity column 38121 (100.0%), 903.97 column/sec. Elapsed time 42.17 sec\n",
      "EvaluatorHoldout: Processed 35568 (100.0%) in 8.58 sec. Users per second: 4145\n"
     ]
    },
    {
     "name": "stderr",
     "output_type": "stream",
     "text": [
      "[I 2024-12-11 02:08:51,319] Trial 142 finished with value: 0.04827653401666382 and parameters: {'topK': 3, 'shrink': 26, 'feature_weighting': 'TF-IDF', 'normalize_avg_row': True, 'similarity_from_distance_mode': 'log', 'normalize': True}. Best is trial 136 with value: 0.04831132206406149.\n"
     ]
    },
    {
     "name": "stdout",
     "output_type": "stream",
     "text": [
      "Similarity column 38121 (100.0%), 1277.20 column/sec. Elapsed time 29.85 sec\n",
      "EvaluatorHoldout: Processed 35568 (100.0%) in 8.83 sec. Users per second: 4030\n"
     ]
    },
    {
     "name": "stderr",
     "output_type": "stream",
     "text": [
      "[I 2024-12-11 02:09:30,047] Trial 143 finished with value: 0.045091235924567576 and parameters: {'topK': 7, 'shrink': 26, 'feature_weighting': 'TF-IDF', 'normalize_avg_row': True, 'similarity_from_distance_mode': 'log', 'normalize': True}. Best is trial 136 with value: 0.04831132206406149.\n"
     ]
    },
    {
     "name": "stdout",
     "output_type": "stream",
     "text": [
      "Similarity column 38121 (100.0%), 1130.38 column/sec. Elapsed time 33.72 sec\n",
      "EvaluatorHoldout: Processed 35568 (100.0%) in 8.50 sec. Users per second: 4184\n"
     ]
    },
    {
     "name": "stderr",
     "output_type": "stream",
     "text": [
      "[I 2024-12-11 02:10:12,325] Trial 144 finished with value: 0.04713769377146409 and parameters: {'topK': 2, 'shrink': 22, 'feature_weighting': 'TF-IDF', 'normalize_avg_row': True, 'similarity_from_distance_mode': 'log', 'normalize': True}. Best is trial 136 with value: 0.04831132206406149.\n"
     ]
    },
    {
     "name": "stdout",
     "output_type": "stream",
     "text": [
      "Similarity column 38121 (100.0%), 1255.56 column/sec. Elapsed time 30.36 sec\n",
      "EvaluatorHoldout: Processed 35568 (100.0%) in 8.72 sec. Users per second: 4080\n"
     ]
    },
    {
     "name": "stderr",
     "output_type": "stream",
     "text": [
      "[I 2024-12-11 02:10:51,458] Trial 145 finished with value: 0.04605331660704299 and parameters: {'topK': 6, 'shrink': 23, 'feature_weighting': 'TF-IDF', 'normalize_avg_row': True, 'similarity_from_distance_mode': 'log', 'normalize': True}. Best is trial 136 with value: 0.04831132206406149.\n"
     ]
    },
    {
     "name": "stdout",
     "output_type": "stream",
     "text": [
      "Similarity column 38121 (100.0%), 1122.07 column/sec. Elapsed time 33.97 sec\n",
      "EvaluatorHoldout: Processed 35568 (100.0%) in 8.50 sec. Users per second: 4183\n"
     ]
    },
    {
     "name": "stderr",
     "output_type": "stream",
     "text": [
      "[I 2024-12-11 02:11:33,988] Trial 146 finished with value: 0.047144239471540526 and parameters: {'topK': 2, 'shrink': 27, 'feature_weighting': 'TF-IDF', 'normalize_avg_row': True, 'similarity_from_distance_mode': 'log', 'normalize': True}. Best is trial 136 with value: 0.04831132206406149.\n"
     ]
    },
    {
     "name": "stdout",
     "output_type": "stream",
     "text": [
      "Similarity column 38121 (100.0%), 1173.35 column/sec. Elapsed time 32.49 sec\n",
      "EvaluatorHoldout: Processed 35568 (100.0%) in 8.66 sec. Users per second: 4106\n"
     ]
    },
    {
     "name": "stderr",
     "output_type": "stream",
     "text": [
      "[I 2024-12-11 02:12:15,193] Trial 147 finished with value: 0.04786742385700563 and parameters: {'topK': 4, 'shrink': 20, 'feature_weighting': 'TF-IDF', 'normalize_avg_row': True, 'similarity_from_distance_mode': 'log', 'normalize': True}. Best is trial 136 with value: 0.04831132206406149.\n"
     ]
    },
    {
     "name": "stdout",
     "output_type": "stream",
     "text": [
      "Similarity column 38121 (100.0%), 1276.04 column/sec. Elapsed time 29.87 sec\n",
      "EvaluatorHoldout: Processed 35568 (100.0%) in 8.96 sec. Users per second: 3970\n"
     ]
    },
    {
     "name": "stderr",
     "output_type": "stream",
     "text": [
      "[I 2024-12-11 02:12:54,081] Trial 148 finished with value: 0.04348795890188289 and parameters: {'topK': 9, 'shrink': 6, 'feature_weighting': 'TF-IDF', 'normalize_avg_row': True, 'similarity_from_distance_mode': 'log', 'normalize': True}. Best is trial 136 with value: 0.04831132206406149.\n"
     ]
    },
    {
     "name": "stdout",
     "output_type": "stream",
     "text": [
      "Similarity column 38121 (100.0%), 1191.29 column/sec. Elapsed time 32.00 sec\n",
      "EvaluatorHoldout: Processed 35568 (100.0%) in 8.74 sec. Users per second: 4070\n"
     ]
    },
    {
     "name": "stderr",
     "output_type": "stream",
     "text": [
      "[I 2024-12-11 02:13:34,876] Trial 149 finished with value: 0.04694469993537815 and parameters: {'topK': 5, 'shrink': 26, 'feature_weighting': 'TF-IDF', 'normalize_avg_row': True, 'similarity_from_distance_mode': 'log', 'normalize': True}. Best is trial 136 with value: 0.04831132206406149.\n"
     ]
    },
    {
     "name": "stdout",
     "output_type": "stream",
     "text": [
      "Similarity column 38121 (100.0%), 1266.80 column/sec. Elapsed time 30.09 sec\n",
      "EvaluatorHoldout: Processed 35568 (100.0%) in 8.88 sec. Users per second: 4004\n"
     ]
    },
    {
     "name": "stderr",
     "output_type": "stream",
     "text": [
      "[I 2024-12-11 02:14:13,906] Trial 150 finished with value: 0.04431312210369074 and parameters: {'topK': 8, 'shrink': 18, 'feature_weighting': 'TF-IDF', 'normalize_avg_row': True, 'similarity_from_distance_mode': 'log', 'normalize': True}. Best is trial 136 with value: 0.04831132206406149.\n"
     ]
    },
    {
     "name": "stdout",
     "output_type": "stream",
     "text": [
      "Similarity column 38121 (100.0%), 1221.83 column/sec. Elapsed time 31.20 sec\n",
      "EvaluatorHoldout: Processed 35568 (100.0%) in 8.64 sec. Users per second: 4119\n"
     ]
    },
    {
     "name": "stderr",
     "output_type": "stream",
     "text": [
      "[I 2024-12-11 02:14:53,794] Trial 151 finished with value: 0.04788326317931422 and parameters: {'topK': 4, 'shrink': 25, 'feature_weighting': 'TF-IDF', 'normalize_avg_row': True, 'similarity_from_distance_mode': 'log', 'normalize': True}. Best is trial 136 with value: 0.04831132206406149.\n"
     ]
    },
    {
     "name": "stdout",
     "output_type": "stream",
     "text": [
      "Similarity column 38121 (100.0%), 1216.67 column/sec. Elapsed time 31.33 sec\n",
      "EvaluatorHoldout: Processed 35568 (100.0%) in 8.68 sec. Users per second: 4096\n"
     ]
    },
    {
     "name": "stderr",
     "output_type": "stream",
     "text": [
      "[I 2024-12-11 02:15:33,863] Trial 152 finished with value: 0.04786742385700563 and parameters: {'topK': 4, 'shrink': 20, 'feature_weighting': 'TF-IDF', 'normalize_avg_row': True, 'similarity_from_distance_mode': 'log', 'normalize': True}. Best is trial 136 with value: 0.04831132206406149.\n"
     ]
    },
    {
     "name": "stdout",
     "output_type": "stream",
     "text": [
      "Similarity column 38121 (100.0%), 1265.19 column/sec. Elapsed time 30.13 sec\n",
      "EvaluatorHoldout: Processed 35568 (100.0%) in 8.73 sec. Users per second: 4072\n"
     ]
    },
    {
     "name": "stderr",
     "output_type": "stream",
     "text": [
      "[I 2024-12-11 02:16:12,779] Trial 153 finished with value: 0.046013548159928044 and parameters: {'topK': 6, 'shrink': 28, 'feature_weighting': 'TF-IDF', 'normalize_avg_row': True, 'similarity_from_distance_mode': 'log', 'normalize': True}. Best is trial 136 with value: 0.04831132206406149.\n"
     ]
    },
    {
     "name": "stdout",
     "output_type": "stream",
     "text": [
      "Similarity column 38121 (100.0%), 1048.70 column/sec. Elapsed time 36.35 sec\n",
      "EvaluatorHoldout: Processed 35568 (100.0%) in 8.56 sec. Users per second: 4155\n"
     ]
    },
    {
     "name": "stderr",
     "output_type": "stream",
     "text": [
      "[I 2024-12-11 02:16:57,741] Trial 154 finished with value: 0.047119221442136545 and parameters: {'topK': 2, 'shrink': 24, 'feature_weighting': 'TF-IDF', 'normalize_avg_row': True, 'similarity_from_distance_mode': 'log', 'normalize': True}. Best is trial 136 with value: 0.04831132206406149.\n"
     ]
    },
    {
     "name": "stdout",
     "output_type": "stream",
     "text": [
      "Similarity column 38121 (100.0%), 1238.91 column/sec. Elapsed time 30.77 sec\n",
      "EvaluatorHoldout: Processed 35568 (100.0%) in 8.73 sec. Users per second: 4076\n"
     ]
    },
    {
     "name": "stderr",
     "output_type": "stream",
     "text": [
      "[I 2024-12-11 02:17:37,292] Trial 155 finished with value: 0.04788716583124317 and parameters: {'topK': 4, 'shrink': 13, 'feature_weighting': 'TF-IDF', 'normalize_avg_row': True, 'similarity_from_distance_mode': 'log', 'normalize': True}. Best is trial 136 with value: 0.04831132206406149.\n"
     ]
    },
    {
     "name": "stdout",
     "output_type": "stream",
     "text": [
      "Similarity column 38121 (100.0%), 1196.35 column/sec. Elapsed time 31.86 sec\n",
      "EvaluatorHoldout: Processed 35568 (100.0%) in 8.83 sec. Users per second: 4028\n"
     ]
    },
    {
     "name": "stderr",
     "output_type": "stream",
     "text": [
      "[I 2024-12-11 02:18:18,044] Trial 156 finished with value: 0.034647210529885016 and parameters: {'topK': 7, 'shrink': 23, 'feature_weighting': 'BM25', 'normalize_avg_row': True, 'similarity_from_distance_mode': 'log', 'normalize': True}. Best is trial 136 with value: 0.04831132206406149.\n"
     ]
    },
    {
     "name": "stdout",
     "output_type": "stream",
     "text": [
      "Similarity column 38121 (100.0%), 1322.05 column/sec. Elapsed time 28.83 sec\n",
      "EvaluatorHoldout: Processed 35568 (100.0%) in 8.39 sec. Users per second: 4240\n"
     ]
    },
    {
     "name": "stderr",
     "output_type": "stream",
     "text": [
      "[I 2024-12-11 02:18:55,325] Trial 157 finished with value: 0.028387141509400114 and parameters: {'topK': 11, 'shrink': 27, 'feature_weighting': 'TF-IDF', 'normalize_avg_row': False, 'similarity_from_distance_mode': 'log', 'normalize': False}. Best is trial 136 with value: 0.04831132206406149.\n"
     ]
    },
    {
     "name": "stdout",
     "output_type": "stream",
     "text": [
      "Similarity column 38121 (100.0%), 1118.47 column/sec. Elapsed time 34.08 sec\n",
      "EvaluatorHoldout: Processed 35568 (100.0%) in 8.43 sec. Users per second: 4220\n"
     ]
    },
    {
     "name": "stderr",
     "output_type": "stream",
     "text": [
      "[I 2024-12-11 02:19:37,892] Trial 158 finished with value: 0.04713419945875921 and parameters: {'topK': 2, 'shrink': 21, 'feature_weighting': 'TF-IDF', 'normalize_avg_row': False, 'similarity_from_distance_mode': 'log', 'normalize': True}. Best is trial 136 with value: 0.04831132206406149.\n"
     ]
    },
    {
     "name": "stdout",
     "output_type": "stream",
     "text": [
      "Similarity column 38121 (100.0%), 1279.90 column/sec. Elapsed time 29.78 sec\n",
      "EvaluatorHoldout: Processed 35568 (100.0%) in 8.70 sec. Users per second: 4088\n"
     ]
    },
    {
     "name": "stderr",
     "output_type": "stream",
     "text": [
      "[I 2024-12-11 02:20:16,434] Trial 159 finished with value: 0.04606828346685636 and parameters: {'topK': 6, 'shrink': 40, 'feature_weighting': 'TF-IDF', 'normalize_avg_row': False, 'similarity_from_distance_mode': 'log', 'normalize': True}. Best is trial 136 with value: 0.04831132206406149.\n"
     ]
    },
    {
     "name": "stdout",
     "output_type": "stream",
     "text": [
      "Similarity column 38121 (100.0%), 1241.36 column/sec. Elapsed time 30.71 sec\n",
      "EvaluatorHoldout: Processed 35568 (100.0%) in 8.96 sec. Users per second: 3968\n"
     ]
    },
    {
     "name": "stderr",
     "output_type": "stream",
     "text": [
      "[I 2024-12-11 02:20:56,164] Trial 160 finished with value: 0.04348486400295469 and parameters: {'topK': 9, 'shrink': 22, 'feature_weighting': 'TF-IDF', 'normalize_avg_row': False, 'similarity_from_distance_mode': 'log', 'normalize': True}. Best is trial 136 with value: 0.04831132206406149.\n"
     ]
    },
    {
     "name": "stdout",
     "output_type": "stream",
     "text": [
      "Similarity column 38121 (100.0%), 1259.65 column/sec. Elapsed time 30.26 sec\n",
      "EvaluatorHoldout: Processed 35568 (100.0%) in 8.79 sec. Users per second: 4047\n"
     ]
    },
    {
     "name": "stderr",
     "output_type": "stream",
     "text": [
      "[I 2024-12-11 02:21:35,268] Trial 161 finished with value: 0.047912284271931796 and parameters: {'topK': 4, 'shrink': 43, 'feature_weighting': 'TF-IDF', 'normalize_avg_row': False, 'similarity_from_distance_mode': 'log', 'normalize': True}. Best is trial 136 with value: 0.04831132206406149.\n"
     ]
    },
    {
     "name": "stdout",
     "output_type": "stream",
     "text": [
      "Similarity column 38121 (100.0%), 1237.65 column/sec. Elapsed time 30.80 sec\n",
      "EvaluatorHoldout: Processed 35568 (100.0%) in 8.67 sec. Users per second: 4101\n"
     ]
    },
    {
     "name": "stderr",
     "output_type": "stream",
     "text": [
      "[I 2024-12-11 02:22:14,798] Trial 162 finished with value: 0.047912284271931796 and parameters: {'topK': 4, 'shrink': 43, 'feature_weighting': 'TF-IDF', 'normalize_avg_row': False, 'similarity_from_distance_mode': 'log', 'normalize': True}. Best is trial 136 with value: 0.04831132206406149.\n"
     ]
    },
    {
     "name": "stdout",
     "output_type": "stream",
     "text": [
      "Similarity column 38121 (100.0%), 1277.49 column/sec. Elapsed time 29.84 sec\n",
      "EvaluatorHoldout: Processed 35568 (100.0%) in 8.64 sec. Users per second: 4116\n"
     ]
    },
    {
     "name": "stderr",
     "output_type": "stream",
     "text": [
      "[I 2024-12-11 02:22:53,335] Trial 163 finished with value: 0.04697639419952859 and parameters: {'topK': 5, 'shrink': 45, 'feature_weighting': 'TF-IDF', 'normalize_avg_row': False, 'similarity_from_distance_mode': 'log', 'normalize': True}. Best is trial 136 with value: 0.04831132206406149.\n"
     ]
    },
    {
     "name": "stdout",
     "output_type": "stream",
     "text": [
      "Similarity column 38121 (100.0%), 943.45 column/sec. Elapsed time 40.41 sec\n",
      "EvaluatorHoldout: Processed 35568 (100.0%) in 8.66 sec. Users per second: 4109\n"
     ]
    },
    {
     "name": "stderr",
     "output_type": "stream",
     "text": [
      "[I 2024-12-11 02:23:42,452] Trial 164 finished with value: 0.04830890326778306 and parameters: {'topK': 3, 'shrink': 41, 'feature_weighting': 'TF-IDF', 'normalize_avg_row': False, 'similarity_from_distance_mode': 'log', 'normalize': True}. Best is trial 136 with value: 0.04831132206406149.\n"
     ]
    },
    {
     "name": "stdout",
     "output_type": "stream",
     "text": [
      "Similarity column 38121 (100.0%), 1146.57 column/sec. Elapsed time 33.25 sec\n",
      "EvaluatorHoldout: Processed 35568 (100.0%) in 8.52 sec. Users per second: 4177\n"
     ]
    },
    {
     "name": "stderr",
     "output_type": "stream",
     "text": [
      "[I 2024-12-11 02:24:24,270] Trial 165 finished with value: 0.04714109325128897 and parameters: {'topK': 2, 'shrink': 41, 'feature_weighting': 'TF-IDF', 'normalize_avg_row': False, 'similarity_from_distance_mode': 'log', 'normalize': True}. Best is trial 136 with value: 0.04831132206406149.\n"
     ]
    },
    {
     "name": "stdout",
     "output_type": "stream",
     "text": [
      "Similarity column 38121 (100.0%), 1274.43 column/sec. Elapsed time 29.91 sec\n",
      "EvaluatorHoldout: Processed 35568 (100.0%) in 8.73 sec. Users per second: 4074\n"
     ]
    },
    {
     "name": "stderr",
     "output_type": "stream",
     "text": [
      "[I 2024-12-11 02:25:02,966] Trial 166 finished with value: 0.04435067703982023 and parameters: {'topK': 8, 'shrink': 42, 'feature_weighting': 'TF-IDF', 'normalize_avg_row': False, 'similarity_from_distance_mode': 'log', 'normalize': True}. Best is trial 136 with value: 0.04831132206406149.\n"
     ]
    },
    {
     "name": "stdout",
     "output_type": "stream",
     "text": [
      "Similarity column 38121 (100.0%), 1282.36 column/sec. Elapsed time 29.73 sec\n",
      "EvaluatorHoldout: Processed 35568 (100.0%) in 8.68 sec. Users per second: 4097\n"
     ]
    },
    {
     "name": "stderr",
     "output_type": "stream",
     "text": [
      "[I 2024-12-11 02:25:41,430] Trial 167 finished with value: 0.04606828346685636 and parameters: {'topK': 6, 'shrink': 40, 'feature_weighting': 'TF-IDF', 'normalize_avg_row': False, 'similarity_from_distance_mode': 'log', 'normalize': True}. Best is trial 136 with value: 0.04831132206406149.\n"
     ]
    },
    {
     "name": "stdout",
     "output_type": "stream",
     "text": [
      "Similarity column 38121 (100.0%), 926.63 column/sec. Elapsed time 41.14 sec\n",
      "EvaluatorHoldout: Processed 35568 (100.0%) in 8.57 sec. Users per second: 4150\n"
     ]
    },
    {
     "name": "stderr",
     "output_type": "stream",
     "text": [
      "[I 2024-12-11 02:26:31,193] Trial 168 finished with value: 0.048308573026224745 and parameters: {'topK': 3, 'shrink': 39, 'feature_weighting': 'TF-IDF', 'normalize_avg_row': False, 'similarity_from_distance_mode': 'log', 'normalize': True}. Best is trial 136 with value: 0.04831132206406149.\n"
     ]
    },
    {
     "name": "stdout",
     "output_type": "stream",
     "text": [
      "Similarity column 38121 (100.0%), 894.32 column/sec. Elapsed time 42.63 sec\n",
      "EvaluatorHoldout: Processed 35568 (100.0%) in 8.48 sec. Users per second: 4196\n"
     ]
    },
    {
     "name": "stderr",
     "output_type": "stream",
     "text": [
      "[I 2024-12-11 02:27:22,347] Trial 169 finished with value: 0.048308573026224745 and parameters: {'topK': 3, 'shrink': 39, 'feature_weighting': 'TF-IDF', 'normalize_avg_row': False, 'similarity_from_distance_mode': 'log', 'normalize': True}. Best is trial 136 with value: 0.04831132206406149.\n"
     ]
    },
    {
     "name": "stdout",
     "output_type": "stream",
     "text": [
      "Similarity column 38121 (100.0%), 1151.05 column/sec. Elapsed time 33.12 sec\n",
      "EvaluatorHoldout: Processed 35568 (100.0%) in 10.72 sec. Users per second: 3319\n"
     ]
    },
    {
     "name": "stderr",
     "output_type": "stream",
     "text": [
      "[I 2024-12-11 02:28:06,253] Trial 170 finished with value: 0.028724138515804357 and parameters: {'topK': 71, 'shrink': 39, 'feature_weighting': 'TF-IDF', 'normalize_avg_row': True, 'similarity_from_distance_mode': 'log', 'normalize': True}. Best is trial 136 with value: 0.04831132206406149.\n"
     ]
    },
    {
     "name": "stdout",
     "output_type": "stream",
     "text": [
      "Similarity column 38121 (100.0%), 935.05 column/sec. Elapsed time 40.77 sec\n",
      "EvaluatorHoldout: Processed 35568 (100.0%) in 8.61 sec. Users per second: 4133\n"
     ]
    },
    {
     "name": "stderr",
     "output_type": "stream",
     "text": [
      "[I 2024-12-11 02:28:55,679] Trial 171 finished with value: 0.0483088407896504 and parameters: {'topK': 3, 'shrink': 40, 'feature_weighting': 'TF-IDF', 'normalize_avg_row': False, 'similarity_from_distance_mode': 'log', 'normalize': True}. Best is trial 136 with value: 0.04831132206406149.\n"
     ]
    },
    {
     "name": "stdout",
     "output_type": "stream",
     "text": [
      "Similarity column 38121 (100.0%), 1091.35 column/sec. Elapsed time 34.93 sec\n",
      "EvaluatorHoldout: Processed 35568 (100.0%) in 8.55 sec. Users per second: 4159\n"
     ]
    },
    {
     "name": "stderr",
     "output_type": "stream",
     "text": [
      "[I 2024-12-11 02:29:39,216] Trial 172 finished with value: 0.04714213083456339 and parameters: {'topK': 2, 'shrink': 38, 'feature_weighting': 'TF-IDF', 'normalize_avg_row': False, 'similarity_from_distance_mode': 'log', 'normalize': True}. Best is trial 136 with value: 0.04831132206406149.\n"
     ]
    },
    {
     "name": "stdout",
     "output_type": "stream",
     "text": [
      "Similarity column 38121 (100.0%), 1289.60 column/sec. Elapsed time 29.56 sec\n",
      "EvaluatorHoldout: Processed 35568 (100.0%) in 8.84 sec. Users per second: 4023\n"
     ]
    },
    {
     "name": "stderr",
     "output_type": "stream",
     "text": [
      "[I 2024-12-11 02:30:17,674] Trial 173 finished with value: 0.04507329577504838 and parameters: {'topK': 7, 'shrink': 40, 'feature_weighting': 'TF-IDF', 'normalize_avg_row': False, 'similarity_from_distance_mode': 'log', 'normalize': True}. Best is trial 136 with value: 0.04831132206406149.\n"
     ]
    },
    {
     "name": "stdout",
     "output_type": "stream",
     "text": [
      "Similarity column 38121 (100.0%), 922.12 column/sec. Elapsed time 41.34 sec\n",
      "EvaluatorHoldout: Processed 35568 (100.0%) in 8.52 sec. Users per second: 4174\n"
     ]
    },
    {
     "name": "stderr",
     "output_type": "stream",
     "text": [
      "[I 2024-12-11 02:31:07,589] Trial 174 finished with value: 0.04830890326778306 and parameters: {'topK': 3, 'shrink': 41, 'feature_weighting': 'TF-IDF', 'normalize_avg_row': False, 'similarity_from_distance_mode': 'log', 'normalize': True}. Best is trial 136 with value: 0.04831132206406149.\n"
     ]
    },
    {
     "name": "stdout",
     "output_type": "stream",
     "text": [
      "Similarity column 38121 (100.0%), 1101.15 column/sec. Elapsed time 34.62 sec\n",
      "EvaluatorHoldout: Processed 35568 (100.0%) in 8.55 sec. Users per second: 4160\n"
     ]
    },
    {
     "name": "stderr",
     "output_type": "stream",
     "text": [
      "[I 2024-12-11 02:31:50,787] Trial 175 finished with value: 0.0471671934912052 and parameters: {'topK': 2, 'shrink': 40, 'feature_weighting': 'none', 'normalize_avg_row': False, 'similarity_from_distance_mode': 'log', 'normalize': True}. Best is trial 136 with value: 0.04831132206406149.\n"
     ]
    },
    {
     "name": "stdout",
     "output_type": "stream",
     "text": [
      "Similarity column 38121 (100.0%), 1287.79 column/sec. Elapsed time 29.60 sec\n",
      "EvaluatorHoldout: Processed 35568 (100.0%) in 8.71 sec. Users per second: 4082\n"
     ]
    },
    {
     "name": "stderr",
     "output_type": "stream",
     "text": [
      "[I 2024-12-11 02:32:29,155] Trial 176 finished with value: 0.046064268131152435 and parameters: {'topK': 6, 'shrink': 24, 'feature_weighting': 'TF-IDF', 'normalize_avg_row': False, 'similarity_from_distance_mode': 'log', 'normalize': True}. Best is trial 136 with value: 0.04831132206406149.\n"
     ]
    },
    {
     "name": "stdout",
     "output_type": "stream",
     "text": [
      "Similarity column 38121 (100.0%), 1125.72 column/sec. Elapsed time 33.86 sec\n",
      "EvaluatorHoldout: Processed 35568 (100.0%) in 8.49 sec. Users per second: 4188\n"
     ]
    },
    {
     "name": "stderr",
     "output_type": "stream",
     "text": [
      "[I 2024-12-11 02:33:11,566] Trial 177 finished with value: 0.047137420429633696 and parameters: {'topK': 2, 'shrink': 30, 'feature_weighting': 'TF-IDF', 'normalize_avg_row': False, 'similarity_from_distance_mode': 'log', 'normalize': True}. Best is trial 136 with value: 0.04831132206406149.\n"
     ]
    },
    {
     "name": "stdout",
     "output_type": "stream",
     "text": [
      "Similarity column 38121 (100.0%), 1234.03 column/sec. Elapsed time 30.89 sec\n",
      "EvaluatorHoldout: Processed 35568 (100.0%) in 8.86 sec. Users per second: 4013\n"
     ]
    },
    {
     "name": "stderr",
     "output_type": "stream",
     "text": [
      "[I 2024-12-11 02:33:51,377] Trial 178 finished with value: 0.043477817362136115 and parameters: {'topK': 9, 'shrink': 39, 'feature_weighting': 'TF-IDF', 'normalize_avg_row': False, 'similarity_from_distance_mode': 'log', 'normalize': True}. Best is trial 136 with value: 0.04831132206406149.\n"
     ]
    },
    {
     "name": "stdout",
     "output_type": "stream",
     "text": [
      "Similarity column 38121 (100.0%), 1263.48 column/sec. Elapsed time 30.17 sec\n",
      "EvaluatorHoldout: Processed 35568 (100.0%) in 8.76 sec. Users per second: 4058\n"
     ]
    },
    {
     "name": "stderr",
     "output_type": "stream",
     "text": [
      "[I 2024-12-11 02:34:30,369] Trial 179 finished with value: 0.046068300202070464 and parameters: {'topK': 6, 'shrink': 41, 'feature_weighting': 'TF-IDF', 'normalize_avg_row': False, 'similarity_from_distance_mode': 'log', 'normalize': True}. Best is trial 136 with value: 0.04831132206406149.\n"
     ]
    },
    {
     "name": "stdout",
     "output_type": "stream",
     "text": [
      "Similarity column 38121 (100.0%), 1246.70 column/sec. Elapsed time 30.58 sec\n",
      "EvaluatorHoldout: Processed 35568 (100.0%) in 9.49 sec. Users per second: 3748\n"
     ]
    },
    {
     "name": "stderr",
     "output_type": "stream",
     "text": [
      "[I 2024-12-11 02:35:10,497] Trial 180 finished with value: 0.03493273113338786 and parameters: {'topK': 29, 'shrink': 37, 'feature_weighting': 'TF-IDF', 'normalize_avg_row': False, 'similarity_from_distance_mode': 'log', 'normalize': True}. Best is trial 136 with value: 0.04831132206406149.\n"
     ]
    },
    {
     "name": "stdout",
     "output_type": "stream",
     "text": [
      "Similarity column 38121 (100.0%), 945.96 column/sec. Elapsed time 40.30 sec\n",
      "EvaluatorHoldout: Processed 35568 (100.0%) in 8.52 sec. Users per second: 4177\n"
     ]
    },
    {
     "name": "stderr",
     "output_type": "stream",
     "text": [
      "[I 2024-12-11 02:35:59,367] Trial 181 finished with value: 0.04830903268677213 and parameters: {'topK': 3, 'shrink': 42, 'feature_weighting': 'TF-IDF', 'normalize_avg_row': False, 'similarity_from_distance_mode': 'log', 'normalize': True}. Best is trial 136 with value: 0.04831132206406149.\n"
     ]
    },
    {
     "name": "stdout",
     "output_type": "stream",
     "text": [
      "Similarity column 38121 (100.0%), 1273.54 column/sec. Elapsed time 29.93 sec\n",
      "EvaluatorHoldout: Processed 35568 (100.0%) in 8.55 sec. Users per second: 4162\n"
     ]
    },
    {
     "name": "stderr",
     "output_type": "stream",
     "text": [
      "[I 2024-12-11 02:36:37,903] Trial 182 finished with value: 0.04791235121278821 and parameters: {'topK': 4, 'shrink': 41, 'feature_weighting': 'TF-IDF', 'normalize_avg_row': False, 'similarity_from_distance_mode': 'log', 'normalize': True}. Best is trial 136 with value: 0.04831132206406149.\n"
     ]
    },
    {
     "name": "stdout",
     "output_type": "stream",
     "text": [
      "Similarity column 38121 (100.0%), 946.83 column/sec. Elapsed time 40.26 sec\n",
      "EvaluatorHoldout: Processed 35568 (100.0%) in 8.64 sec. Users per second: 4114\n"
     ]
    },
    {
     "name": "stderr",
     "output_type": "stream",
     "text": [
      "[I 2024-12-11 02:37:26,866] Trial 183 finished with value: 0.04830903268677213 and parameters: {'topK': 3, 'shrink': 42, 'feature_weighting': 'TF-IDF', 'normalize_avg_row': False, 'similarity_from_distance_mode': 'log', 'normalize': True}. Best is trial 136 with value: 0.04831132206406149.\n"
     ]
    },
    {
     "name": "stdout",
     "output_type": "stream",
     "text": [
      "Similarity column 38121 (100.0%), 1139.25 column/sec. Elapsed time 33.46 sec\n",
      "EvaluatorHoldout: Processed 35568 (100.0%) in 8.56 sec. Users per second: 4156\n"
     ]
    },
    {
     "name": "stderr",
     "output_type": "stream",
     "text": [
      "[I 2024-12-11 02:38:08,940] Trial 184 finished with value: 0.047141256140706245 and parameters: {'topK': 2, 'shrink': 39, 'feature_weighting': 'TF-IDF', 'normalize_avg_row': False, 'similarity_from_distance_mode': 'log', 'normalize': True}. Best is trial 136 with value: 0.04831132206406149.\n"
     ]
    },
    {
     "name": "stdout",
     "output_type": "stream",
     "text": [
      "Similarity column 38121 (100.0%), 1288.34 column/sec. Elapsed time 29.59 sec\n",
      "EvaluatorHoldout: Processed 35568 (100.0%) in 8.65 sec. Users per second: 4112\n"
     ]
    },
    {
     "name": "stderr",
     "output_type": "stream",
     "text": [
      "[I 2024-12-11 02:38:47,235] Trial 185 finished with value: 0.04697760806039158 and parameters: {'topK': 5, 'shrink': 43, 'feature_weighting': 'TF-IDF', 'normalize_avg_row': False, 'similarity_from_distance_mode': 'log', 'normalize': True}. Best is trial 136 with value: 0.04831132206406149.\n"
     ]
    },
    {
     "name": "stdout",
     "output_type": "stream",
     "text": [
      "Similarity column 38121 (100.0%), 1271.87 column/sec. Elapsed time 29.97 sec\n",
      "EvaluatorHoldout: Processed 35568 (100.0%) in 8.41 sec. Users per second: 4228\n"
     ]
    },
    {
     "name": "stderr",
     "output_type": "stream",
     "text": [
      "[I 2024-12-11 02:39:25,677] Trial 186 finished with value: 0.028256696093867096 and parameters: {'topK': 7, 'shrink': 49, 'feature_weighting': 'TF-IDF', 'normalize_avg_row': False, 'similarity_from_distance_mode': 'log', 'normalize': False}. Best is trial 136 with value: 0.04831132206406149.\n"
     ]
    },
    {
     "name": "stdout",
     "output_type": "stream",
     "text": [
      "Similarity column 38121 (100.0%), 1247.26 column/sec. Elapsed time 30.56 sec\n",
      "EvaluatorHoldout: Processed 35568 (100.0%) in 8.64 sec. Users per second: 4116\n"
     ]
    },
    {
     "name": "stderr",
     "output_type": "stream",
     "text": [
      "[I 2024-12-11 02:40:04,939] Trial 187 finished with value: 0.033894214034015685 and parameters: {'topK': 4, 'shrink': 41, 'feature_weighting': 'BM25', 'normalize_avg_row': False, 'similarity_from_distance_mode': 'log', 'normalize': True}. Best is trial 136 with value: 0.04831132206406149.\n"
     ]
    },
    {
     "name": "stdout",
     "output_type": "stream",
     "text": [
      "Similarity column 38121 (100.0%), 1133.32 column/sec. Elapsed time 33.64 sec\n",
      "EvaluatorHoldout: Processed 35568 (100.0%) in 8.49 sec. Users per second: 4191\n"
     ]
    },
    {
     "name": "stderr",
     "output_type": "stream",
     "text": [
      "[I 2024-12-11 02:40:47,115] Trial 188 finished with value: 0.04713620433740883 and parameters: {'topK': 2, 'shrink': 25, 'feature_weighting': 'TF-IDF', 'normalize_avg_row': False, 'similarity_from_distance_mode': 'log', 'normalize': True}. Best is trial 136 with value: 0.04831132206406149.\n"
     ]
    },
    {
     "name": "stdout",
     "output_type": "stream",
     "text": [
      "Similarity column 38121 (100.0%), 1217.53 column/sec. Elapsed time 31.31 sec\n",
      "EvaluatorHoldout: Processed 35568 (100.0%) in 10.08 sec. Users per second: 3528\n"
     ]
    },
    {
     "name": "stderr",
     "output_type": "stream",
     "text": [
      "[I 2024-12-11 02:41:28,572] Trial 189 finished with value: 0.031420734885646125 and parameters: {'topK': 47, 'shrink': 40, 'feature_weighting': 'TF-IDF', 'normalize_avg_row': True, 'similarity_from_distance_mode': 'log', 'normalize': True}. Best is trial 136 with value: 0.04831132206406149.\n"
     ]
    },
    {
     "name": "stdout",
     "output_type": "stream",
     "text": [
      "Similarity column 38121 (100.0%), 1226.11 column/sec. Elapsed time 31.09 sec\n",
      "EvaluatorHoldout: Processed 35568 (100.0%) in 8.81 sec. Users per second: 4037\n"
     ]
    },
    {
     "name": "stderr",
     "output_type": "stream",
     "text": [
      "[I 2024-12-11 02:42:08,527] Trial 190 finished with value: 0.04435198015515844 and parameters: {'topK': 8, 'shrink': 16, 'feature_weighting': 'TF-IDF', 'normalize_avg_row': False, 'similarity_from_distance_mode': 'log', 'normalize': True}. Best is trial 136 with value: 0.04831132206406149.\n"
     ]
    },
    {
     "name": "stdout",
     "output_type": "stream",
     "text": [
      "Similarity column 38121 (100.0%), 1198.17 column/sec. Elapsed time 31.82 sec\n",
      "EvaluatorHoldout: Processed 35568 (100.0%) in 8.69 sec. Users per second: 4093\n"
     ]
    },
    {
     "name": "stderr",
     "output_type": "stream",
     "text": [
      "[I 2024-12-11 02:42:49,086] Trial 191 finished with value: 0.047912284271931796 and parameters: {'topK': 4, 'shrink': 43, 'feature_weighting': 'TF-IDF', 'normalize_avg_row': False, 'similarity_from_distance_mode': 'log', 'normalize': True}. Best is trial 136 with value: 0.04831132206406149.\n"
     ]
    },
    {
     "name": "stdout",
     "output_type": "stream",
     "text": [
      "Similarity column 38121 (100.0%), 932.34 column/sec. Elapsed time 40.89 sec\n",
      "EvaluatorHoldout: Processed 35568 (100.0%) in 8.62 sec. Users per second: 4125\n"
     ]
    },
    {
     "name": "stderr",
     "output_type": "stream",
     "text": [
      "[I 2024-12-11 02:43:38,650] Trial 192 finished with value: 0.04830903268677213 and parameters: {'topK': 3, 'shrink': 42, 'feature_weighting': 'TF-IDF', 'normalize_avg_row': False, 'similarity_from_distance_mode': 'log', 'normalize': True}. Best is trial 136 with value: 0.04831132206406149.\n"
     ]
    },
    {
     "name": "stdout",
     "output_type": "stream",
     "text": [
      "Similarity column 38121 (100.0%), 1252.65 column/sec. Elapsed time 30.43 sec\n",
      "EvaluatorHoldout: Processed 35568 (100.0%) in 9.84 sec. Users per second: 3613\n"
     ]
    },
    {
     "name": "stderr",
     "output_type": "stream",
     "text": [
      "[I 2024-12-11 02:44:18,993] Trial 193 finished with value: 0.03279207969174962 and parameters: {'topK': 39, 'shrink': 41, 'feature_weighting': 'TF-IDF', 'normalize_avg_row': False, 'similarity_from_distance_mode': 'log', 'normalize': True}. Best is trial 136 with value: 0.04831132206406149.\n"
     ]
    },
    {
     "name": "stdout",
     "output_type": "stream",
     "text": [
      "Similarity column 38121 (100.0%), 1034.65 column/sec. Elapsed time 36.84 sec\n",
      "EvaluatorHoldout: Processed 35568 (100.0%) in 8.63 sec. Users per second: 4123\n"
     ]
    },
    {
     "name": "stderr",
     "output_type": "stream",
     "text": [
      "[I 2024-12-11 02:45:04,518] Trial 194 finished with value: 0.04714057780669458 and parameters: {'topK': 2, 'shrink': 42, 'feature_weighting': 'TF-IDF', 'normalize_avg_row': False, 'similarity_from_distance_mode': 'log', 'normalize': True}. Best is trial 136 with value: 0.04831132206406149.\n"
     ]
    },
    {
     "name": "stdout",
     "output_type": "stream",
     "text": [
      "Similarity column 38121 (100.0%), 1268.70 column/sec. Elapsed time 30.05 sec\n",
      "EvaluatorHoldout: Processed 35568 (100.0%) in 8.70 sec. Users per second: 4090\n"
     ]
    },
    {
     "name": "stderr",
     "output_type": "stream",
     "text": [
      "[I 2024-12-11 02:45:43,316] Trial 195 finished with value: 0.046066944649728075 and parameters: {'topK': 6, 'shrink': 44, 'feature_weighting': 'TF-IDF', 'normalize_avg_row': False, 'similarity_from_distance_mode': 'log', 'normalize': True}. Best is trial 136 with value: 0.04831132206406149.\n"
     ]
    },
    {
     "name": "stdout",
     "output_type": "stream",
     "text": [
      "Similarity column 38121 (100.0%), 1217.21 column/sec. Elapsed time 31.32 sec\n",
      "EvaluatorHoldout: Processed 35568 (100.0%) in 8.70 sec. Users per second: 4087\n"
     ]
    },
    {
     "name": "stderr",
     "output_type": "stream",
     "text": [
      "[I 2024-12-11 02:46:23,391] Trial 196 finished with value: 0.04791212807660016 and parameters: {'topK': 4, 'shrink': 39, 'feature_weighting': 'TF-IDF', 'normalize_avg_row': False, 'similarity_from_distance_mode': 'log', 'normalize': True}. Best is trial 136 with value: 0.04831132206406149.\n"
     ]
    },
    {
     "name": "stdout",
     "output_type": "stream",
     "text": [
      "Similarity column 38121 (100.0%), 1247.61 column/sec. Elapsed time 30.56 sec\n",
      "EvaluatorHoldout: Processed 35568 (100.0%) in 8.77 sec. Users per second: 4058\n"
     ]
    },
    {
     "name": "stderr",
     "output_type": "stream",
     "text": [
      "[I 2024-12-11 02:47:02,768] Trial 197 finished with value: 0.04606828346685636 and parameters: {'topK': 6, 'shrink': 40, 'feature_weighting': 'TF-IDF', 'normalize_avg_row': False, 'similarity_from_distance_mode': 'log', 'normalize': True}. Best is trial 136 with value: 0.04831132206406149.\n"
     ]
    },
    {
     "name": "stdout",
     "output_type": "stream",
     "text": [
      "Similarity column 38121 (100.0%), 945.93 column/sec. Elapsed time 40.30 sec\n",
      "EvaluatorHoldout: Processed 35568 (100.0%) in 8.62 sec. Users per second: 4128\n"
     ]
    },
    {
     "name": "stderr",
     "output_type": "stream",
     "text": [
      "[I 2024-12-11 02:47:51,739] Trial 198 finished with value: 0.04831407110189834 and parameters: {'topK': 3, 'shrink': 23, 'feature_weighting': 'TF-IDF', 'normalize_avg_row': True, 'similarity_from_distance_mode': 'log', 'normalize': True}. Best is trial 198 with value: 0.04831407110189834.\n"
     ]
    },
    {
     "name": "stdout",
     "output_type": "stream",
     "text": [
      "Similarity column 38121 (100.0%), 1133.58 column/sec. Elapsed time 33.63 sec\n",
      "EvaluatorHoldout: Processed 35568 (100.0%) in 8.49 sec. Users per second: 4188\n"
     ]
    },
    {
     "name": "stderr",
     "output_type": "stream",
     "text": [
      "[I 2024-12-11 02:48:33,914] Trial 199 finished with value: 0.04714709896179034 and parameters: {'topK': 2, 'shrink': 44, 'feature_weighting': 'TF-IDF', 'normalize_avg_row': True, 'similarity_from_distance_mode': 'log', 'normalize': True}. Best is trial 198 with value: 0.04831407110189834.\n"
     ]
    },
    {
     "name": "stdout",
     "output_type": "stream",
     "text": [
      "Similarity column 38121 (100.0%), 1265.82 column/sec. Elapsed time 30.12 sec\n",
      "EvaluatorHoldout: Processed 35568 (100.0%) in 8.70 sec. Users per second: 4087\n"
     ]
    },
    {
     "name": "stderr",
     "output_type": "stream",
     "text": [
      "[I 2024-12-11 02:49:12,788] Trial 200 finished with value: 0.04787623215802887 and parameters: {'topK': 4, 'shrink': 21, 'feature_weighting': 'TF-IDF', 'normalize_avg_row': True, 'similarity_from_distance_mode': 'log', 'normalize': True}. Best is trial 198 with value: 0.04831407110189834.\n"
     ]
    },
    {
     "name": "stdout",
     "output_type": "stream",
     "text": [
      "Similarity column 38121 (100.0%), 940.56 column/sec. Elapsed time 40.53 sec\n",
      "EvaluatorHoldout: Processed 35568 (100.0%) in 8.58 sec. Users per second: 4147\n"
     ]
    },
    {
     "name": "stderr",
     "output_type": "stream",
     "text": [
      "[I 2024-12-11 02:50:01,949] Trial 201 finished with value: 0.048271689730021314 and parameters: {'topK': 3, 'shrink': 25, 'feature_weighting': 'TF-IDF', 'normalize_avg_row': True, 'similarity_from_distance_mode': 'log', 'normalize': True}. Best is trial 198 with value: 0.04831407110189834.\n"
     ]
    },
    {
     "name": "stdout",
     "output_type": "stream",
     "text": [
      "Similarity column 38121 (100.0%), 914.69 column/sec. Elapsed time 41.68 sec\n",
      "EvaluatorHoldout: Processed 35568 (100.0%) in 8.61 sec. Users per second: 4131\n"
     ]
    },
    {
     "name": "stderr",
     "output_type": "stream",
     "text": [
      "[I 2024-12-11 02:50:52,292] Trial 202 finished with value: 0.04827653401666382 and parameters: {'topK': 3, 'shrink': 26, 'feature_weighting': 'TF-IDF', 'normalize_avg_row': True, 'similarity_from_distance_mode': 'log', 'normalize': True}. Best is trial 198 with value: 0.04831407110189834.\n"
     ]
    },
    {
     "name": "stdout",
     "output_type": "stream",
     "text": [
      "Similarity column 38121 (100.0%), 1138.80 column/sec. Elapsed time 33.47 sec\n",
      "EvaluatorHoldout: Processed 35568 (100.0%) in 8.49 sec. Users per second: 4190\n"
     ]
    },
    {
     "name": "stderr",
     "output_type": "stream",
     "text": [
      "[I 2024-12-11 02:51:34,311] Trial 203 finished with value: 0.04713659482573799 and parameters: {'topK': 2, 'shrink': 25, 'feature_weighting': 'TF-IDF', 'normalize_avg_row': True, 'similarity_from_distance_mode': 'log', 'normalize': True}. Best is trial 198 with value: 0.04831407110189834.\n"
     ]
    },
    {
     "name": "stdout",
     "output_type": "stream",
     "text": [
      "Similarity column 38121 (100.0%), 1273.73 column/sec. Elapsed time 29.93 sec\n",
      "EvaluatorHoldout: Processed 35568 (100.0%) in 8.67 sec. Users per second: 4101\n"
     ]
    },
    {
     "name": "stderr",
     "output_type": "stream",
     "text": [
      "[I 2024-12-11 02:52:12,965] Trial 204 finished with value: 0.04699960036308571 and parameters: {'topK': 5, 'shrink': 27, 'feature_weighting': 'TF-IDF', 'normalize_avg_row': True, 'similarity_from_distance_mode': 'log', 'normalize': True}. Best is trial 198 with value: 0.04831407110189834.\n"
     ]
    },
    {
     "name": "stdout",
     "output_type": "stream",
     "text": [
      "Similarity column 38121 (100.0%), 888.38 column/sec. Elapsed time 42.91 sec\n",
      "EvaluatorHoldout: Processed 35568 (100.0%) in 8.57 sec. Users per second: 4151\n"
     ]
    },
    {
     "name": "stderr",
     "output_type": "stream",
     "text": [
      "[I 2024-12-11 02:53:04,497] Trial 205 finished with value: 0.04827653401666382 and parameters: {'topK': 3, 'shrink': 26, 'feature_weighting': 'TF-IDF', 'normalize_avg_row': True, 'similarity_from_distance_mode': 'log', 'normalize': True}. Best is trial 198 with value: 0.04831407110189834.\n"
     ]
    },
    {
     "name": "stdout",
     "output_type": "stream",
     "text": [
      "Similarity column 38121 (100.0%), 880.12 column/sec. Elapsed time 43.31 sec\n",
      "EvaluatorHoldout: Processed 35568 (100.0%) in 8.65 sec. Users per second: 4113\n"
     ]
    },
    {
     "name": "stderr",
     "output_type": "stream",
     "text": [
      "[I 2024-12-11 02:53:56,516] Trial 206 finished with value: 0.048299689974578605 and parameters: {'topK': 3, 'shrink': 27, 'feature_weighting': 'TF-IDF', 'normalize_avg_row': True, 'similarity_from_distance_mode': 'log', 'normalize': True}. Best is trial 198 with value: 0.04831407110189834.\n"
     ]
    },
    {
     "name": "stdout",
     "output_type": "stream",
     "text": [
      "Similarity column 38121 (100.0%), 1272.30 column/sec. Elapsed time 29.96 sec\n",
      "EvaluatorHoldout: Processed 35568 (100.0%) in 8.80 sec. Users per second: 4043\n"
     ]
    },
    {
     "name": "stderr",
     "output_type": "stream",
     "text": [
      "[I 2024-12-11 02:54:35,332] Trial 207 finished with value: 0.04507289078286708 and parameters: {'topK': 7, 'shrink': 28, 'feature_weighting': 'TF-IDF', 'normalize_avg_row': True, 'similarity_from_distance_mode': 'log', 'normalize': True}. Best is trial 198 with value: 0.04831407110189834.\n"
     ]
    },
    {
     "name": "stdout",
     "output_type": "stream",
     "text": [
      "Similarity column 38121 (100.0%), 1135.43 column/sec. Elapsed time 33.57 sec\n",
      "EvaluatorHoldout: Processed 35568 (100.0%) in 8.57 sec. Users per second: 4150\n"
     ]
    },
    {
     "name": "stderr",
     "output_type": "stream",
     "text": [
      "[I 2024-12-11 02:55:17,530] Trial 208 finished with value: 0.04713826500010551 and parameters: {'topK': 2, 'shrink': 26, 'feature_weighting': 'TF-IDF', 'normalize_avg_row': True, 'similarity_from_distance_mode': 'log', 'normalize': True}. Best is trial 198 with value: 0.04831407110189834.\n"
     ]
    },
    {
     "name": "stdout",
     "output_type": "stream",
     "text": [
      "Similarity column 38121 (100.0%), 1201.32 column/sec. Elapsed time 31.73 sec\n",
      "EvaluatorHoldout: Processed 35568 (100.0%) in 8.64 sec. Users per second: 4118\n"
     ]
    },
    {
     "name": "stderr",
     "output_type": "stream",
     "text": [
      "[I 2024-12-11 02:55:57,954] Trial 209 finished with value: 0.046014640411568504 and parameters: {'topK': 6, 'shrink': 24, 'feature_weighting': 'TF-IDF', 'normalize_avg_row': True, 'similarity_from_distance_mode': 'log', 'normalize': True}. Best is trial 198 with value: 0.04831407110189834.\n"
     ]
    },
    {
     "name": "stdout",
     "output_type": "stream",
     "text": [
      "Similarity column 38121 (100.0%), 974.26 column/sec. Elapsed time 39.13 sec\n",
      "EvaluatorHoldout: Processed 35568 (100.0%) in 8.52 sec. Users per second: 4173\n"
     ]
    },
    {
     "name": "stderr",
     "output_type": "stream",
     "text": [
      "[I 2024-12-11 02:56:45,660] Trial 210 finished with value: 0.048263857649820795 and parameters: {'topK': 3, 'shrink': 25, 'feature_weighting': 'TF-IDF', 'normalize_avg_row': True, 'similarity_from_distance_mode': 'exp', 'normalize': True}. Best is trial 198 with value: 0.04831407110189834.\n"
     ]
    },
    {
     "name": "stdout",
     "output_type": "stream",
     "text": [
      "Similarity column 38121 (100.0%), 941.92 column/sec. Elapsed time 40.47 sec\n",
      "EvaluatorHoldout: Processed 35568 (100.0%) in 8.58 sec. Users per second: 4147\n"
     ]
    },
    {
     "name": "stderr",
     "output_type": "stream",
     "text": [
      "[I 2024-12-11 02:57:34,761] Trial 211 finished with value: 0.048301468369997304 and parameters: {'topK': 3, 'shrink': 24, 'feature_weighting': 'TF-IDF', 'normalize_avg_row': True, 'similarity_from_distance_mode': 'log', 'normalize': True}. Best is trial 198 with value: 0.04831407110189834.\n"
     ]
    },
    {
     "name": "stdout",
     "output_type": "stream",
     "text": [
      "Similarity column 38121 (100.0%), 1214.70 column/sec. Elapsed time 31.38 sec\n",
      "EvaluatorHoldout: Processed 35568 (100.0%) in 8.64 sec. Users per second: 4117\n"
     ]
    },
    {
     "name": "stderr",
     "output_type": "stream",
     "text": [
      "[I 2024-12-11 02:58:14,838] Trial 212 finished with value: 0.046988296283799094 and parameters: {'topK': 5, 'shrink': 23, 'feature_weighting': 'TF-IDF', 'normalize_avg_row': True, 'similarity_from_distance_mode': 'log', 'normalize': True}. Best is trial 198 with value: 0.04831407110189834.\n"
     ]
    },
    {
     "name": "stdout",
     "output_type": "stream",
     "text": [
      "Similarity column 38121 (100.0%), 1136.45 column/sec. Elapsed time 33.54 sec\n",
      "EvaluatorHoldout: Processed 35568 (100.0%) in 8.49 sec. Users per second: 4188\n"
     ]
    },
    {
     "name": "stderr",
     "output_type": "stream",
     "text": [
      "[I 2024-12-11 02:58:56,927] Trial 213 finished with value: 0.047119221442136545 and parameters: {'topK': 2, 'shrink': 24, 'feature_weighting': 'TF-IDF', 'normalize_avg_row': True, 'similarity_from_distance_mode': 'log', 'normalize': True}. Best is trial 198 with value: 0.04831407110189834.\n"
     ]
    },
    {
     "name": "stdout",
     "output_type": "stream",
     "text": [
      "Similarity column 38121 (100.0%), 1259.88 column/sec. Elapsed time 30.26 sec\n",
      "EvaluatorHoldout: Processed 35568 (100.0%) in 8.58 sec. Users per second: 4146\n"
     ]
    },
    {
     "name": "stderr",
     "output_type": "stream",
     "text": [
      "[I 2024-12-11 02:59:35,818] Trial 214 finished with value: 0.04792815929603044 and parameters: {'topK': 4, 'shrink': 26, 'feature_weighting': 'TF-IDF', 'normalize_avg_row': True, 'similarity_from_distance_mode': 'log', 'normalize': True}. Best is trial 198 with value: 0.04831407110189834.\n"
     ]
    },
    {
     "name": "stdout",
     "output_type": "stream",
     "text": [
      "Similarity column 38121 (100.0%), 1284.60 column/sec. Elapsed time 29.68 sec\n",
      "EvaluatorHoldout: Processed 35568 (100.0%) in 8.71 sec. Users per second: 4085\n"
     ]
    },
    {
     "name": "stderr",
     "output_type": "stream",
     "text": [
      "[I 2024-12-11 03:00:14,230] Trial 215 finished with value: 0.04588132100193341 and parameters: {'topK': 6, 'shrink': 23, 'feature_weighting': 'none', 'normalize_avg_row': True, 'similarity_from_distance_mode': 'log', 'normalize': True}. Best is trial 198 with value: 0.04831407110189834.\n"
     ]
    },
    {
     "name": "stdout",
     "output_type": "stream",
     "text": [
      "Similarity column 38121 (100.0%), 1165.41 column/sec. Elapsed time 32.71 sec\n",
      "EvaluatorHoldout: Processed 35568 (100.0%) in 10.25 sec. Users per second: 3469\n"
     ]
    },
    {
     "name": "stderr",
     "output_type": "stream",
     "text": [
      "[I 2024-12-11 03:00:57,263] Trial 216 finished with value: 0.030715654654798467 and parameters: {'topK': 53, 'shrink': 24, 'feature_weighting': 'TF-IDF', 'normalize_avg_row': True, 'similarity_from_distance_mode': 'log', 'normalize': True}. Best is trial 198 with value: 0.04831407110189834.\n"
     ]
    },
    {
     "name": "stdout",
     "output_type": "stream",
     "text": [
      "Similarity column 38121 (100.0%), 1179.56 column/sec. Elapsed time 32.32 sec\n",
      "EvaluatorHoldout: Processed 35568 (100.0%) in 8.84 sec. Users per second: 4024\n"
     ]
    },
    {
     "name": "stderr",
     "output_type": "stream",
     "text": [
      "[I 2024-12-11 03:01:38,475] Trial 217 finished with value: 0.04432812131825127 and parameters: {'topK': 8, 'shrink': 27, 'feature_weighting': 'TF-IDF', 'normalize_avg_row': True, 'similarity_from_distance_mode': 'log', 'normalize': True}. Best is trial 198 with value: 0.04831407110189834.\n"
     ]
    },
    {
     "name": "stdout",
     "output_type": "stream",
     "text": [
      "Similarity column 38121 (100.0%), 950.83 column/sec. Elapsed time 40.09 sec\n",
      "EvaluatorHoldout: Processed 35568 (100.0%) in 8.64 sec. Users per second: 4119\n"
     ]
    },
    {
     "name": "stderr",
     "output_type": "stream",
     "text": [
      "[I 2024-12-11 03:02:27,258] Trial 218 finished with value: 0.048299689974578605 and parameters: {'topK': 3, 'shrink': 27, 'feature_weighting': 'TF-IDF', 'normalize_avg_row': True, 'similarity_from_distance_mode': 'log', 'normalize': True}. Best is trial 198 with value: 0.04831407110189834.\n"
     ]
    },
    {
     "name": "stdout",
     "output_type": "stream",
     "text": [
      "Similarity column 38121 (100.0%), 1126.34 column/sec. Elapsed time 33.85 sec\n",
      "EvaluatorHoldout: Processed 35568 (100.0%) in 8.54 sec. Users per second: 4167\n"
     ]
    },
    {
     "name": "stderr",
     "output_type": "stream",
     "text": [
      "[I 2024-12-11 03:03:09,692] Trial 219 finished with value: 0.0471468590903882 and parameters: {'topK': 2, 'shrink': 30, 'feature_weighting': 'TF-IDF', 'normalize_avg_row': True, 'similarity_from_distance_mode': 'log', 'normalize': True}. Best is trial 198 with value: 0.04831407110189834.\n"
     ]
    },
    {
     "name": "stdout",
     "output_type": "stream",
     "text": [
      "Similarity column 38121 (100.0%), 1329.63 column/sec. Elapsed time 28.67 sec\n",
      "EvaluatorHoldout: Processed 35568 (100.0%) in 8.43 sec. Users per second: 4218\n"
     ]
    },
    {
     "name": "stderr",
     "output_type": "stream",
     "text": [
      "[I 2024-12-11 03:03:46,847] Trial 220 finished with value: 0.02812338672536032 and parameters: {'topK': 5, 'shrink': 28, 'feature_weighting': 'TF-IDF', 'normalize_avg_row': True, 'similarity_from_distance_mode': 'log', 'normalize': False}. Best is trial 198 with value: 0.04831407110189834.\n"
     ]
    },
    {
     "name": "stdout",
     "output_type": "stream",
     "text": [
      "Similarity column 38121 (100.0%), 924.98 column/sec. Elapsed time 41.21 sec\n",
      "EvaluatorHoldout: Processed 35568 (100.0%) in 8.58 sec. Users per second: 4146\n"
     ]
    },
    {
     "name": "stderr",
     "output_type": "stream",
     "text": [
      "[I 2024-12-11 03:04:36,691] Trial 221 finished with value: 0.048299689974578605 and parameters: {'topK': 3, 'shrink': 27, 'feature_weighting': 'TF-IDF', 'normalize_avg_row': True, 'similarity_from_distance_mode': 'log', 'normalize': True}. Best is trial 198 with value: 0.04831407110189834.\n"
     ]
    },
    {
     "name": "stdout",
     "output_type": "stream",
     "text": [
      "Similarity column 38121 (100.0%), 1223.39 column/sec. Elapsed time 31.16 sec\n",
      "EvaluatorHoldout: Processed 35568 (100.0%) in 8.70 sec. Users per second: 4091\n"
     ]
    },
    {
     "name": "stderr",
     "output_type": "stream",
     "text": [
      "[I 2024-12-11 03:05:16,598] Trial 222 finished with value: 0.0478925289095229 and parameters: {'topK': 4, 'shrink': 27, 'feature_weighting': 'TF-IDF', 'normalize_avg_row': True, 'similarity_from_distance_mode': 'log', 'normalize': True}. Best is trial 198 with value: 0.04831407110189834.\n"
     ]
    },
    {
     "name": "stdout",
     "output_type": "stream",
     "text": [
      "Similarity column 38121 (100.0%), 1116.43 column/sec. Elapsed time 34.15 sec\n",
      "EvaluatorHoldout: Processed 35568 (100.0%) in 8.54 sec. Users per second: 4166\n"
     ]
    },
    {
     "name": "stderr",
     "output_type": "stream",
     "text": [
      "[I 2024-12-11 03:05:59,334] Trial 223 finished with value: 0.04715330214781809 and parameters: {'topK': 2, 'shrink': 29, 'feature_weighting': 'TF-IDF', 'normalize_avg_row': True, 'similarity_from_distance_mode': 'log', 'normalize': True}. Best is trial 198 with value: 0.04831407110189834.\n"
     ]
    },
    {
     "name": "stdout",
     "output_type": "stream",
     "text": [
      "Similarity column 38121 (100.0%), 1227.86 column/sec. Elapsed time 31.05 sec\n",
      "EvaluatorHoldout: Processed 35568 (100.0%) in 8.71 sec. Users per second: 4084\n"
     ]
    },
    {
     "name": "stderr",
     "output_type": "stream",
     "text": [
      "[I 2024-12-11 03:06:39,142] Trial 224 finished with value: 0.04602629593035127 and parameters: {'topK': 6, 'shrink': 42, 'feature_weighting': 'TF-IDF', 'normalize_avg_row': True, 'similarity_from_distance_mode': 'log', 'normalize': True}. Best is trial 198 with value: 0.04831407110189834.\n"
     ]
    },
    {
     "name": "stdout",
     "output_type": "stream",
     "text": [
      "Similarity column 38121 (100.0%), 1266.57 column/sec. Elapsed time 30.10 sec\n",
      "EvaluatorHoldout: Processed 35568 (100.0%) in 8.59 sec. Users per second: 4139\n"
     ]
    },
    {
     "name": "stderr",
     "output_type": "stream",
     "text": [
      "[I 2024-12-11 03:07:17,886] Trial 225 finished with value: 0.04792815929603044 and parameters: {'topK': 4, 'shrink': 26, 'feature_weighting': 'TF-IDF', 'normalize_avg_row': True, 'similarity_from_distance_mode': 'log', 'normalize': True}. Best is trial 198 with value: 0.04831407110189834.\n"
     ]
    },
    {
     "name": "stdout",
     "output_type": "stream",
     "text": [
      "Similarity column 38121 (100.0%), 1200.93 column/sec. Elapsed time 31.74 sec\n",
      "EvaluatorHoldout: Processed 35568 (100.0%) in 10.35 sec. Users per second: 3437\n"
     ]
    },
    {
     "name": "stderr",
     "output_type": "stream",
     "text": [
      "[I 2024-12-11 03:08:00,045] Trial 226 finished with value: 0.030006244466221643 and parameters: {'topK': 59, 'shrink': 28, 'feature_weighting': 'TF-IDF', 'normalize_avg_row': True, 'similarity_from_distance_mode': 'log', 'normalize': True}. Best is trial 198 with value: 0.04831407110189834.\n"
     ]
    },
    {
     "name": "stdout",
     "output_type": "stream",
     "text": [
      "Similarity column 38121 (100.0%), 1123.67 column/sec. Elapsed time 33.93 sec\n",
      "EvaluatorHoldout: Processed 35568 (100.0%) in 8.45 sec. Users per second: 4211\n"
     ]
    },
    {
     "name": "stderr",
     "output_type": "stream",
     "text": [
      "[I 2024-12-11 03:08:42,471] Trial 227 finished with value: 0.04714160088611681 and parameters: {'topK': 2, 'shrink': 41, 'feature_weighting': 'TF-IDF', 'normalize_avg_row': True, 'similarity_from_distance_mode': 'log', 'normalize': True}. Best is trial 198 with value: 0.04831407110189834.\n"
     ]
    },
    {
     "name": "stdout",
     "output_type": "stream",
     "text": [
      "Similarity column 38121 (100.0%), 1295.67 column/sec. Elapsed time 29.42 sec\n",
      "EvaluatorHoldout: Processed 35568 (100.0%) in 8.73 sec. Users per second: 4073\n"
     ]
    },
    {
     "name": "stderr",
     "output_type": "stream",
     "text": [
      "[I 2024-12-11 03:09:20,680] Trial 228 finished with value: 0.04430073023548746 and parameters: {'topK': 8, 'shrink': 26, 'feature_weighting': 'TF-IDF', 'normalize_avg_row': True, 'similarity_from_distance_mode': 'log', 'normalize': True}. Best is trial 198 with value: 0.04831407110189834.\n"
     ]
    },
    {
     "name": "stdout",
     "output_type": "stream",
     "text": [
      "Similarity column 38121 (100.0%), 1221.05 column/sec. Elapsed time 31.22 sec\n",
      "EvaluatorHoldout: Processed 35568 (100.0%) in 8.58 sec. Users per second: 4148\n"
     ]
    },
    {
     "name": "stderr",
     "output_type": "stream",
     "text": [
      "[I 2024-12-11 03:10:00,533] Trial 229 finished with value: 0.0345639494926765 and parameters: {'topK': 5, 'shrink': 43, 'feature_weighting': 'BM25', 'normalize_avg_row': True, 'similarity_from_distance_mode': 'log', 'normalize': True}. Best is trial 198 with value: 0.04831407110189834.\n"
     ]
    },
    {
     "name": "stdout",
     "output_type": "stream",
     "text": [
      "Similarity column 38121 (100.0%), 1241.06 column/sec. Elapsed time 30.72 sec\n",
      "EvaluatorHoldout: Processed 35568 (100.0%) in 8.58 sec. Users per second: 4144\n"
     ]
    },
    {
     "name": "stderr",
     "output_type": "stream",
     "text": [
      "[I 2024-12-11 03:10:39,885] Trial 230 finished with value: 0.04789348504808875 and parameters: {'topK': 4, 'shrink': 41, 'feature_weighting': 'TF-IDF', 'normalize_avg_row': True, 'similarity_from_distance_mode': 'log', 'normalize': True}. Best is trial 198 with value: 0.04831407110189834.\n"
     ]
    },
    {
     "name": "stdout",
     "output_type": "stream",
     "text": [
      "Similarity column 38121 (100.0%), 941.04 column/sec. Elapsed time 40.51 sec\n",
      "EvaluatorHoldout: Processed 35568 (100.0%) in 8.49 sec. Users per second: 4188\n"
     ]
    },
    {
     "name": "stderr",
     "output_type": "stream",
     "text": [
      "[I 2024-12-11 03:11:28,939] Trial 231 finished with value: 0.048271689730021314 and parameters: {'topK': 3, 'shrink': 25, 'feature_weighting': 'TF-IDF', 'normalize_avg_row': True, 'similarity_from_distance_mode': 'log', 'normalize': True}. Best is trial 198 with value: 0.04831407110189834.\n"
     ]
    },
    {
     "name": "stdout",
     "output_type": "stream",
     "text": [
      "Similarity column 38121 (100.0%), 1180.49 column/sec. Elapsed time 32.29 sec\n",
      "EvaluatorHoldout: Processed 35568 (100.0%) in 8.41 sec. Users per second: 4230\n"
     ]
    },
    {
     "name": "stderr",
     "output_type": "stream",
     "text": [
      "[I 2024-12-11 03:12:09,691] Trial 232 finished with value: 0.047132024996606715 and parameters: {'topK': 2, 'shrink': 23, 'feature_weighting': 'TF-IDF', 'normalize_avg_row': True, 'similarity_from_distance_mode': 'log', 'normalize': True}. Best is trial 198 with value: 0.04831407110189834.\n"
     ]
    },
    {
     "name": "stdout",
     "output_type": "stream",
     "text": [
      "Similarity column 38121 (100.0%), 1305.51 column/sec. Elapsed time 29.20 sec\n",
      "EvaluatorHoldout: Processed 35568 (100.0%) in 8.64 sec. Users per second: 4118\n"
     ]
    },
    {
     "name": "stderr",
     "output_type": "stream",
     "text": [
      "[I 2024-12-11 03:12:47,582] Trial 233 finished with value: 0.04606362661461179 and parameters: {'topK': 6, 'shrink': 25, 'feature_weighting': 'TF-IDF', 'normalize_avg_row': True, 'similarity_from_distance_mode': 'log', 'normalize': True}. Best is trial 198 with value: 0.04831407110189834.\n"
     ]
    },
    {
     "name": "stdout",
     "output_type": "stream",
     "text": [
      "Similarity column 38121 (100.0%), 1233.60 column/sec. Elapsed time 30.90 sec\n",
      "EvaluatorHoldout: Processed 35568 (100.0%) in 8.58 sec. Users per second: 4146\n"
     ]
    },
    {
     "name": "stderr",
     "output_type": "stream",
     "text": [
      "[I 2024-12-11 03:13:27,117] Trial 234 finished with value: 0.0478925289095229 and parameters: {'topK': 4, 'shrink': 27, 'feature_weighting': 'TF-IDF', 'normalize_avg_row': True, 'similarity_from_distance_mode': 'log', 'normalize': True}. Best is trial 198 with value: 0.04831407110189834.\n"
     ]
    },
    {
     "name": "stdout",
     "output_type": "stream",
     "text": [
      "Similarity column 38121 (100.0%), 950.22 column/sec. Elapsed time 40.12 sec\n",
      "EvaluatorHoldout: Processed 35568 (100.0%) in 8.50 sec. Users per second: 4186\n"
     ]
    },
    {
     "name": "stderr",
     "output_type": "stream",
     "text": [
      "[I 2024-12-11 03:14:15,783] Trial 235 finished with value: 0.04828056608758178 and parameters: {'topK': 3, 'shrink': 42, 'feature_weighting': 'TF-IDF', 'normalize_avg_row': True, 'similarity_from_distance_mode': 'log', 'normalize': True}. Best is trial 198 with value: 0.04831407110189834.\n"
     ]
    },
    {
     "name": "stdout",
     "output_type": "stream",
     "text": [
      "Similarity column 38121 (100.0%), 1271.02 column/sec. Elapsed time 29.99 sec\n",
      "EvaluatorHoldout: Processed 35568 (100.0%) in 8.59 sec. Users per second: 4139\n"
     ]
    },
    {
     "name": "stderr",
     "output_type": "stream",
     "text": [
      "[I 2024-12-11 03:14:54,423] Trial 236 finished with value: 0.04602629593035127 and parameters: {'topK': 6, 'shrink': 42, 'feature_weighting': 'TF-IDF', 'normalize_avg_row': True, 'similarity_from_distance_mode': 'log', 'normalize': True}. Best is trial 198 with value: 0.04831407110189834.\n"
     ]
    },
    {
     "name": "stdout",
     "output_type": "stream",
     "text": [
      "Similarity column 38121 (100.0%), 1220.50 column/sec. Elapsed time 31.23 sec\n",
      "EvaluatorHoldout: Processed 35568 (100.0%) in 9.50 sec. Users per second: 3745\n"
     ]
    },
    {
     "name": "stderr",
     "output_type": "stream",
     "text": [
      "[I 2024-12-11 03:15:35,214] Trial 237 finished with value: 0.034009774034443954 and parameters: {'topK': 33, 'shrink': 40, 'feature_weighting': 'TF-IDF', 'normalize_avg_row': True, 'similarity_from_distance_mode': 'log', 'normalize': True}. Best is trial 198 with value: 0.04831407110189834.\n"
     ]
    },
    {
     "name": "stdout",
     "output_type": "stream",
     "text": [
      "Similarity column 38121 (100.0%), 1141.41 column/sec. Elapsed time 33.40 sec\n",
      "EvaluatorHoldout: Processed 35568 (100.0%) in 8.39 sec. Users per second: 4238\n"
     ]
    },
    {
     "name": "stderr",
     "output_type": "stream",
     "text": [
      "[I 2024-12-11 03:16:17,058] Trial 238 finished with value: 0.047154137792842346 and parameters: {'topK': 2, 'shrink': 42, 'feature_weighting': 'TF-IDF', 'normalize_avg_row': True, 'similarity_from_distance_mode': 'log', 'normalize': True}. Best is trial 198 with value: 0.04831407110189834.\n"
     ]
    },
    {
     "name": "stdout",
     "output_type": "stream",
     "text": [
      "Similarity column 38121 (100.0%), 1293.93 column/sec. Elapsed time 29.46 sec\n",
      "EvaluatorHoldout: Processed 35568 (100.0%) in 8.47 sec. Users per second: 4201\n"
     ]
    },
    {
     "name": "stderr",
     "output_type": "stream",
     "text": [
      "[I 2024-12-11 03:16:55,041] Trial 239 finished with value: 0.04791872286663798 and parameters: {'topK': 4, 'shrink': 39, 'feature_weighting': 'TF-IDF', 'normalize_avg_row': True, 'similarity_from_distance_mode': 'log', 'normalize': True}. Best is trial 198 with value: 0.04831407110189834.\n"
     ]
    },
    {
     "name": "stdout",
     "output_type": "stream",
     "text": [
      "Similarity column 38121 (100.0%), 1305.94 column/sec. Elapsed time 29.19 sec\n",
      "EvaluatorHoldout: Processed 35568 (100.0%) in 8.65 sec. Users per second: 4111\n"
     ]
    },
    {
     "name": "stderr",
     "output_type": "stream",
     "text": [
      "[I 2024-12-11 03:17:32,937] Trial 240 finished with value: 0.04506285411712869 and parameters: {'topK': 7, 'shrink': 43, 'feature_weighting': 'TF-IDF', 'normalize_avg_row': True, 'similarity_from_distance_mode': 'log', 'normalize': True}. Best is trial 198 with value: 0.04831407110189834.\n"
     ]
    },
    {
     "name": "stdout",
     "output_type": "stream",
     "text": [
      "Similarity column 38121 (100.0%), 934.69 column/sec. Elapsed time 40.78 sec\n",
      "EvaluatorHoldout: Processed 35568 (100.0%) in 8.40 sec. Users per second: 4236\n"
     ]
    },
    {
     "name": "stderr",
     "output_type": "stream",
     "text": [
      "[I 2024-12-11 03:18:22,168] Trial 241 finished with value: 0.048301468369997304 and parameters: {'topK': 3, 'shrink': 24, 'feature_weighting': 'TF-IDF', 'normalize_avg_row': True, 'similarity_from_distance_mode': 'log', 'normalize': True}. Best is trial 198 with value: 0.04831407110189834.\n"
     ]
    },
    {
     "name": "stdout",
     "output_type": "stream",
     "text": [
      "Similarity column 38121 (100.0%), 1237.69 column/sec. Elapsed time 30.80 sec\n",
      "EvaluatorHoldout: Processed 35568 (100.0%) in 8.51 sec. Users per second: 4182\n"
     ]
    },
    {
     "name": "stderr",
     "output_type": "stream",
     "text": [
      "[I 2024-12-11 03:19:01,528] Trial 242 finished with value: 0.047875752415224564 and parameters: {'topK': 4, 'shrink': 22, 'feature_weighting': 'TF-IDF', 'normalize_avg_row': True, 'similarity_from_distance_mode': 'log', 'normalize': True}. Best is trial 198 with value: 0.04831407110189834.\n"
     ]
    },
    {
     "name": "stdout",
     "output_type": "stream",
     "text": [
      "Similarity column 38121 (100.0%), 1194.24 column/sec. Elapsed time 31.92 sec\n",
      "EvaluatorHoldout: Processed 35568 (100.0%) in 8.33 sec. Users per second: 4270\n"
     ]
    },
    {
     "name": "stderr",
     "output_type": "stream",
     "text": [
      "[I 2024-12-11 03:19:41,831] Trial 243 finished with value: 0.04714160088611681 and parameters: {'topK': 2, 'shrink': 41, 'feature_weighting': 'TF-IDF', 'normalize_avg_row': True, 'similarity_from_distance_mode': 'log', 'normalize': True}. Best is trial 198 with value: 0.04831407110189834.\n"
     ]
    },
    {
     "name": "stdout",
     "output_type": "stream",
     "text": [
      "Similarity column 38121 (100.0%), 1267.49 column/sec. Elapsed time 30.08 sec\n",
      "EvaluatorHoldout: Processed 35568 (100.0%) in 8.53 sec. Users per second: 4170\n"
     ]
    },
    {
     "name": "stderr",
     "output_type": "stream",
     "text": [
      "[I 2024-12-11 03:20:20,490] Trial 244 finished with value: 0.046973635120563316 and parameters: {'topK': 5, 'shrink': 24, 'feature_weighting': 'TF-IDF', 'normalize_avg_row': True, 'similarity_from_distance_mode': 'log', 'normalize': True}. Best is trial 198 with value: 0.04831407110189834.\n"
     ]
    },
    {
     "name": "stdout",
     "output_type": "stream",
     "text": [
      "Similarity column 38121 (100.0%), 1132.70 column/sec. Elapsed time 33.65 sec\n",
      "EvaluatorHoldout: Processed 35568 (100.0%) in 8.41 sec. Users per second: 4231\n"
     ]
    },
    {
     "name": "stderr",
     "output_type": "stream",
     "text": [
      "[I 2024-12-11 03:21:02,603] Trial 245 finished with value: 0.04714160088611681 and parameters: {'topK': 2, 'shrink': 41, 'feature_weighting': 'TF-IDF', 'normalize_avg_row': True, 'similarity_from_distance_mode': 'log', 'normalize': True}. Best is trial 198 with value: 0.04831407110189834.\n"
     ]
    },
    {
     "name": "stdout",
     "output_type": "stream",
     "text": [
      "Similarity column 38121 (100.0%), 1239.01 column/sec. Elapsed time 30.77 sec\n",
      "EvaluatorHoldout: Processed 35568 (100.0%) in 8.47 sec. Users per second: 4199\n"
     ]
    },
    {
     "name": "stderr",
     "output_type": "stream",
     "text": [
      "[I 2024-12-11 03:21:41,895] Trial 246 finished with value: 0.047915227438252196 and parameters: {'topK': 4, 'shrink': 40, 'feature_weighting': 'TF-IDF', 'normalize_avg_row': True, 'similarity_from_distance_mode': 'log', 'normalize': True}. Best is trial 198 with value: 0.04831407110189834.\n"
     ]
    },
    {
     "name": "stdout",
     "output_type": "stream",
     "text": [
      "Similarity column 38121 (100.0%), 1322.03 column/sec. Elapsed time 28.84 sec\n",
      "EvaluatorHoldout: Processed 35568 (100.0%) in 8.58 sec. Users per second: 4146\n"
     ]
    },
    {
     "name": "stderr",
     "output_type": "stream",
     "text": [
      "[I 2024-12-11 03:22:19,360] Trial 247 finished with value: 0.04606818305557174 and parameters: {'topK': 6, 'shrink': 38, 'feature_weighting': 'TF-IDF', 'normalize_avg_row': False, 'similarity_from_distance_mode': 'log', 'normalize': True}. Best is trial 198 with value: 0.04831407110189834.\n"
     ]
    },
    {
     "name": "stdout",
     "output_type": "stream",
     "text": [
      "Similarity column 38121 (100.0%), 1255.17 column/sec. Elapsed time 30.37 sec\n",
      "EvaluatorHoldout: Processed 35568 (100.0%) in 8.51 sec. Users per second: 4179\n"
     ]
    },
    {
     "name": "stderr",
     "output_type": "stream",
     "text": [
      "[I 2024-12-11 03:22:58,295] Trial 248 finished with value: 0.04791303958792832 and parameters: {'topK': 4, 'shrink': 23, 'feature_weighting': 'TF-IDF', 'normalize_avg_row': False, 'similarity_from_distance_mode': 'log', 'normalize': True}. Best is trial 198 with value: 0.04831407110189834.\n"
     ]
    },
    {
     "name": "stdout",
     "output_type": "stream",
     "text": [
      "Similarity column 38121 (100.0%), 1205.98 column/sec. Elapsed time 31.61 sec\n",
      "EvaluatorHoldout: Processed 35568 (100.0%) in 8.31 sec. Users per second: 4279\n"
     ]
    },
    {
     "name": "stderr",
     "output_type": "stream",
     "text": [
      "[I 2024-12-11 03:23:38,270] Trial 249 finished with value: 0.04715704414169169 and parameters: {'topK': 2, 'shrink': 42, 'feature_weighting': 'TF-IDF', 'normalize_avg_row': True, 'similarity_from_distance_mode': 'exp', 'normalize': True}. Best is trial 198 with value: 0.04831407110189834.\n"
     ]
    }
   ],
   "source": [
    "optuna_study = op.create_study(direction=\"maximize\")\n",
    "        \n",
    "save_results_euclidian = SaveResults()\n",
    "        \n",
    "optuna_study.optimize(objective_function_KNN,\n",
    "                      callbacks=[save_results_euclidian],\n",
    "                      n_trials = 250)"
   ]
  },
  {
   "cell_type": "code",
   "execution_count": 11,
   "id": "8337f9d0-17b3-4db1-9bf2-2d698b7b6dbc",
   "metadata": {},
   "outputs": [],
   "source": [
    "save_results.results_df.to_csv(\"result_experiments/ItemKNNCFRecommender/results_asymmetric.csv\")"
   ]
  },
  {
   "cell_type": "code",
   "execution_count": null,
   "id": "e2f1f652-aa78-40e2-a336-f3d7e1cc0c44",
   "metadata": {},
   "outputs": [],
   "source": []
  }
 ],
 "metadata": {
  "kernelspec": {
   "display_name": "RecSys",
   "language": "python",
   "name": "recsys"
  },
  "language_info": {
   "codemirror_mode": {
    "name": "ipython",
    "version": 3
   },
   "file_extension": ".py",
   "mimetype": "text/x-python",
   "name": "python",
   "nbconvert_exporter": "python",
   "pygments_lexer": "ipython3",
   "version": "3.12.7"
  }
 },
 "nbformat": 4,
 "nbformat_minor": 5
}
