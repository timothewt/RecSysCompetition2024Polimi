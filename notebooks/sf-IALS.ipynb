{
 "cells": [
  {
   "cell_type": "code",
   "execution_count": 1,
   "id": "225b0ac2-eed7-404b-adce-20f307c51b8d",
   "metadata": {},
   "outputs": [],
   "source": [
    "from pathlib import Path\n",
    "import sys  \n",
    "import os\n",
    "import pandas as pd \n",
    "from datetime import datetime\n",
    "import scipy.sparse as sps\n",
    "from numpy import linalg as LA\n",
    "\n",
    "import numpy as np\n",
    "from operator import itemgetter\n",
    "import optuna as op"
   ]
  },
  {
   "cell_type": "code",
   "execution_count": 2,
   "id": "304996c1-789d-4f97-934d-9bca31101791",
   "metadata": {},
   "outputs": [],
   "source": [
    "sys.path.append(os.path.abspath(os.path.join(os.getcwd(), \"..\", \"libs\")))\n",
    "sys.path.append(os.path.abspath(os.path.join(os.getcwd(), \"..\")))\n",
    "sys.path.append(os.path.abspath(os.path.join(os.getcwd(), \"..\", \"src\")))"
   ]
  },
  {
   "cell_type": "code",
   "execution_count": 3,
   "id": "782a1c4b-a247-4cbb-be20-cf90fb3e6d6e",
   "metadata": {},
   "outputs": [],
   "source": [
    "%load_ext autoreload\n",
    "%autoreload 2"
   ]
  },
  {
   "cell_type": "code",
   "execution_count": 4,
   "id": "7d6c7df7-c36f-41dc-a77f-2319adca3005",
   "metadata": {},
   "outputs": [],
   "source": [
    "from Utils.load_URM import load_URM\n",
    "from Utils.load_ICM import load_ICM\n",
    "\n",
    "from scipy.sparse import hstack, vstack\n",
    "from Evaluation.Evaluator import EvaluatorHoldout\n",
    "from Data_manager.split_functions.split_train_validation_random_holdout import split_train_in_two_percentage_global_sample\n",
    "\n",
    "URM_all = load_URM(\"../data/data_train.csv\")\n",
    "ICM_all = load_ICM(\"../data/data_ICM_metadata.csv\")"
   ]
  },
  {
   "cell_type": "code",
   "execution_count": 5,
   "id": "75e82256-6a22-4afa-a314-15df2497406f",
   "metadata": {},
   "outputs": [
    {
     "name": "stdout",
     "output_type": "stream",
     "text": [
      "Warning: 153 (0.43 %) of 35736 users have no sampled items\n"
     ]
    }
   ],
   "source": [
    "URM_train, URM_validation = split_train_in_two_percentage_global_sample(URM_all, train_percentage = 0.80)"
   ]
  },
  {
   "cell_type": "code",
   "execution_count": 6,
   "id": "5fbf6d6d-9bf0-45ae-b46c-5bed1bdf7509",
   "metadata": {},
   "outputs": [
    {
     "name": "stdout",
     "output_type": "stream",
     "text": [
      "EvaluatorHoldout: Ignoring 153 ( 0.4%) Users that have less than 1 test interactions\n"
     ]
    }
   ],
   "source": [
    "evaluator_validation = EvaluatorHoldout(URM_validation, cutoff_list=[10])"
   ]
  },
  {
   "cell_type": "code",
   "execution_count": 8,
   "id": "3c531612-5204-4ddc-9a12-73e6f88dc81d",
   "metadata": {},
   "outputs": [],
   "source": [
    "from libs.Recommenders.MatrixFactorization.IALSRecommender import IALSRecommender"
   ]
  },
  {
   "cell_type": "code",
   "execution_count": 9,
   "id": "fb5aed53-3125-4405-99fa-b556fe4e5f8c",
   "metadata": {},
   "outputs": [],
   "source": [
    "def objective_function_IALS(optuna_trial):\n",
    "    # Define the parameters to be tuned\n",
    "    num_factors = optuna_trial.suggest_int(\"num_factors\", 10, 200)  # Number of latent factors\n",
    "    confidence_scaling = optuna_trial.suggest_categorical(\"confidence_scaling\", [\"linear\", \"log\"])\n",
    "    alpha = optuna_trial.suggest_float(\"alpha\", 0.1, 2.0, step=0.1)  # Confidence weight\n",
    "    epsilon = optuna_trial.suggest_float(\"epsilon\", 0.1, 10.0, step=0.1)  # Used for log scaling only\n",
    "    reg = optuna_trial.suggest_loguniform(\"reg\", 1e-5, 1e-1)  # Regularization\n",
    "    init_mean = optuna_trial.suggest_float(\"init_mean\", -0.1, 0.1)  # Initialization mean\n",
    "    init_std = optuna_trial.suggest_float(\"init_std\", 0.01, 0.2)  # Initialization std\n",
    "    \n",
    "    # Instantiate and fit the recommender\n",
    "    recommender_instance = IALSRecommender(URM_train)\n",
    "    recommender_instance.fit(\n",
    "        epochs=50,  # Fixed number of epochs, adjust if necessary\n",
    "        num_factors=num_factors,\n",
    "        confidence_scaling=confidence_scaling,\n",
    "        alpha=alpha,\n",
    "        epsilon=epsilon,\n",
    "        reg=reg,\n",
    "        init_mean=init_mean,\n",
    "        init_std=init_std,\n",
    "    )\n",
    "    \n",
    "    # Evaluate the recommender on the validation set\n",
    "    eval_res, _ = evaluator_validation.evaluateRecommender(recommender_instance)\n",
    "    \n",
    "    # Return the MAP at 10 for optimization\n",
    "    return eval_res[\"MAP\"][10]\n"
   ]
  },
  {
   "cell_type": "code",
   "execution_count": 10,
   "id": "8d7ebd58-902e-4698-8a31-e0345ce30353",
   "metadata": {},
   "outputs": [],
   "source": [
    "import pandas as pd\n",
    "\n",
    "class SaveResultsToCSV:\n",
    "    def __init__(self, file_path=None):\n",
    "        self.file_path = file_path\n",
    "        self.results = []\n",
    "\n",
    "    def __call__(self, study, trial):\n",
    "        # Collect parameters and the resulting metric\n",
    "        trial_result = trial.params.copy()\n",
    "        trial_result[\"iteration\"] = trial.number\n",
    "        trial_result[\"MAP_value\"] = trial.value\n",
    "        self.results.append(trial_result)\n",
    "        \n",
    "        # Convert to DataFrame and save to CSV\n",
    "        results_df = pd.DataFrame(self.results)\n",
    "        results_df.to_csv(self.file_path, index=False)\n"
   ]
  },
  {
   "cell_type": "code",
   "execution_count": 13,
   "id": "ab7a4a73-69c6-462f-b944-be7cf2e4a41f",
   "metadata": {},
   "outputs": [
    {
     "name": "stderr",
     "output_type": "stream",
     "text": [
      "[I 2024-12-11 01:00:15,605] A new study created in memory with name: no-name-b06170ae-215c-49df-8364-dfb076f6da70\n",
      "/var/folders/tr/d1rx7zt15lzgkp2yc1nwbg100000gn/T/ipykernel_31963/163794949.py:7: FutureWarning: suggest_loguniform has been deprecated in v3.0.0. This feature will be removed in v6.0.0. See https://github.com/optuna/optuna/releases/tag/v3.0.0. Use suggest_float(..., log=True) instead.\n",
      "  reg = optuna_trial.suggest_loguniform(\"reg\", 1e-5, 1e-1)  # Regularization\n"
     ]
    },
    {
     "name": "stdout",
     "output_type": "stream",
     "text": [
      "IALSRecommender: Epoch 1 of 50. Elapsed time 11.30 min\n"
     ]
    },
    {
     "name": "stderr",
     "output_type": "stream",
     "text": [
      "[W 2024-12-11 01:11:54,085] Trial 0 failed with parameters: {'num_factors': 59, 'confidence_scaling': 'log', 'alpha': 0.7000000000000001, 'epsilon': 6.8, 'reg': 0.004209572203717478, 'init_mean': 0.050782753989069646, 'init_std': 0.04862937969547563} because of the following error: KeyboardInterrupt().\n",
      "Traceback (most recent call last):\n",
      "  File \"/opt/miniconda3/envs/RecSys/lib/python3.12/site-packages/optuna/study/_optimize.py\", line 197, in _run_trial\n",
      "    value_or_values = func(trial)\n",
      "                      ^^^^^^^^^^^\n",
      "  File \"/var/folders/tr/d1rx7zt15lzgkp2yc1nwbg100000gn/T/ipykernel_31963/163794949.py\", line 13, in objective_function_IALS\n",
      "    recommender_instance.fit(\n",
      "  File \"/Users/safuan/Python/RecSysCompetition2024Polimi/libs/Recommenders/MatrixFactorization/IALSRecommender.py\", line 88, in fit\n",
      "    self._train_with_early_stopping(epochs,\n",
      "  File \"/Users/safuan/Python/RecSysCompetition2024Polimi/libs/Recommenders/Incremental_Training_Early_Stopping.py\", line 199, in _train_with_early_stopping\n",
      "    self._run_epoch(epochs_current)\n",
      "  File \"/Users/safuan/Python/RecSysCompetition2024Polimi/libs/Recommenders/MatrixFactorization/IALSRecommender.py\", line 152, in _run_epoch\n",
      "    self.USER_factors[user_id, :] = self._update_row(user_profile, user_confidence, self.ITEM_factors, VV)\n",
      "                                    ^^^^^^^^^^^^^^^^^^^^^^^^^^^^^^^^^^^^^^^^^^^^^^^^^^^^^^^^^^^^^^^^^^^^^^\n",
      "  File \"/Users/safuan/Python/RecSysCompetition2024Polimi/libs/Recommenders/MatrixFactorization/IALSRecommender.py\", line 201, in _update_row\n",
      "    return np.dot(np.linalg.inv(B), Y_interactions.T.dot(interaction_confidence))\n",
      "                  ^^^^^^^^^^^^^^^^\n",
      "  File \"/opt/miniconda3/envs/RecSys/lib/python3.12/site-packages/numpy/linalg/linalg.py\", line 561, in inv\n",
      "    ainv = _umath_linalg.inv(a, signature=signature, extobj=extobj)\n",
      "           ^^^^^^^^^^^^^^^^^^^^^^^^^^^^^^^^^^^^^^^^^^^^^^^^^^^^^^^^\n",
      "KeyboardInterrupt\n",
      "[W 2024-12-11 01:11:54,087] Trial 0 failed with value None.\n"
     ]
    },
    {
     "ename": "KeyboardInterrupt",
     "evalue": "",
     "output_type": "error",
     "traceback": [
      "\u001b[0;31m---------------------------------------------------------------------------\u001b[0m",
      "\u001b[0;31mKeyboardInterrupt\u001b[0m                         Traceback (most recent call last)",
      "Cell \u001b[0;32mIn[13], line 7\u001b[0m\n\u001b[1;32m      4\u001b[0m \u001b[38;5;66;03m# Create and optimize the Optuna study\u001b[39;00m\n\u001b[1;32m      5\u001b[0m optuna_study_IALS \u001b[38;5;241m=\u001b[39m op\u001b[38;5;241m.\u001b[39mcreate_study(direction\u001b[38;5;241m=\u001b[39m\u001b[38;5;124m\"\u001b[39m\u001b[38;5;124mmaximize\u001b[39m\u001b[38;5;124m\"\u001b[39m)\n\u001b[0;32m----> 7\u001b[0m optuna_study_IALS\u001b[38;5;241m.\u001b[39moptimize(\n\u001b[1;32m      8\u001b[0m     objective_function_IALS,\n\u001b[1;32m      9\u001b[0m     callbacks\u001b[38;5;241m=\u001b[39m[save_results_to_csv],\n\u001b[1;32m     10\u001b[0m     n_trials\u001b[38;5;241m=\u001b[39m\u001b[38;5;241m300\u001b[39m  \u001b[38;5;66;03m# Adjust as needed\u001b[39;00m\n\u001b[1;32m     11\u001b[0m )\n\u001b[1;32m     13\u001b[0m \u001b[38;5;66;03m# Check the results saved in the CSV file\u001b[39;00m\n\u001b[1;32m     14\u001b[0m \u001b[38;5;28mprint\u001b[39m(\u001b[38;5;124m\"\u001b[39m\u001b[38;5;124mOptimization results saved to \u001b[39m\u001b[38;5;124m'\u001b[39m\u001b[38;5;124mresult_experiments/IALS/results_optuna.csv\u001b[39m\u001b[38;5;124m'\u001b[39m\u001b[38;5;124m\"\u001b[39m)\n",
      "File \u001b[0;32m/opt/miniconda3/envs/RecSys/lib/python3.12/site-packages/optuna/study/study.py:475\u001b[0m, in \u001b[0;36mStudy.optimize\u001b[0;34m(self, func, n_trials, timeout, n_jobs, catch, callbacks, gc_after_trial, show_progress_bar)\u001b[0m\n\u001b[1;32m    373\u001b[0m \u001b[38;5;28;01mdef\u001b[39;00m \u001b[38;5;21moptimize\u001b[39m(\n\u001b[1;32m    374\u001b[0m     \u001b[38;5;28mself\u001b[39m,\n\u001b[1;32m    375\u001b[0m     func: ObjectiveFuncType,\n\u001b[0;32m   (...)\u001b[0m\n\u001b[1;32m    382\u001b[0m     show_progress_bar: \u001b[38;5;28mbool\u001b[39m \u001b[38;5;241m=\u001b[39m \u001b[38;5;28;01mFalse\u001b[39;00m,\n\u001b[1;32m    383\u001b[0m ) \u001b[38;5;241m-\u001b[39m\u001b[38;5;241m>\u001b[39m \u001b[38;5;28;01mNone\u001b[39;00m:\n\u001b[1;32m    384\u001b[0m \u001b[38;5;250m    \u001b[39m\u001b[38;5;124;03m\"\"\"Optimize an objective function.\u001b[39;00m\n\u001b[1;32m    385\u001b[0m \n\u001b[1;32m    386\u001b[0m \u001b[38;5;124;03m    Optimization is done by choosing a suitable set of hyperparameter values from a given\u001b[39;00m\n\u001b[0;32m   (...)\u001b[0m\n\u001b[1;32m    473\u001b[0m \u001b[38;5;124;03m            If nested invocation of this method occurs.\u001b[39;00m\n\u001b[1;32m    474\u001b[0m \u001b[38;5;124;03m    \"\"\"\u001b[39;00m\n\u001b[0;32m--> 475\u001b[0m     _optimize(\n\u001b[1;32m    476\u001b[0m         study\u001b[38;5;241m=\u001b[39m\u001b[38;5;28mself\u001b[39m,\n\u001b[1;32m    477\u001b[0m         func\u001b[38;5;241m=\u001b[39mfunc,\n\u001b[1;32m    478\u001b[0m         n_trials\u001b[38;5;241m=\u001b[39mn_trials,\n\u001b[1;32m    479\u001b[0m         timeout\u001b[38;5;241m=\u001b[39mtimeout,\n\u001b[1;32m    480\u001b[0m         n_jobs\u001b[38;5;241m=\u001b[39mn_jobs,\n\u001b[1;32m    481\u001b[0m         catch\u001b[38;5;241m=\u001b[39m\u001b[38;5;28mtuple\u001b[39m(catch) \u001b[38;5;28;01mif\u001b[39;00m \u001b[38;5;28misinstance\u001b[39m(catch, Iterable) \u001b[38;5;28;01melse\u001b[39;00m (catch,),\n\u001b[1;32m    482\u001b[0m         callbacks\u001b[38;5;241m=\u001b[39mcallbacks,\n\u001b[1;32m    483\u001b[0m         gc_after_trial\u001b[38;5;241m=\u001b[39mgc_after_trial,\n\u001b[1;32m    484\u001b[0m         show_progress_bar\u001b[38;5;241m=\u001b[39mshow_progress_bar,\n\u001b[1;32m    485\u001b[0m     )\n",
      "File \u001b[0;32m/opt/miniconda3/envs/RecSys/lib/python3.12/site-packages/optuna/study/_optimize.py:63\u001b[0m, in \u001b[0;36m_optimize\u001b[0;34m(study, func, n_trials, timeout, n_jobs, catch, callbacks, gc_after_trial, show_progress_bar)\u001b[0m\n\u001b[1;32m     61\u001b[0m \u001b[38;5;28;01mtry\u001b[39;00m:\n\u001b[1;32m     62\u001b[0m     \u001b[38;5;28;01mif\u001b[39;00m n_jobs \u001b[38;5;241m==\u001b[39m \u001b[38;5;241m1\u001b[39m:\n\u001b[0;32m---> 63\u001b[0m         _optimize_sequential(\n\u001b[1;32m     64\u001b[0m             study,\n\u001b[1;32m     65\u001b[0m             func,\n\u001b[1;32m     66\u001b[0m             n_trials,\n\u001b[1;32m     67\u001b[0m             timeout,\n\u001b[1;32m     68\u001b[0m             catch,\n\u001b[1;32m     69\u001b[0m             callbacks,\n\u001b[1;32m     70\u001b[0m             gc_after_trial,\n\u001b[1;32m     71\u001b[0m             reseed_sampler_rng\u001b[38;5;241m=\u001b[39m\u001b[38;5;28;01mFalse\u001b[39;00m,\n\u001b[1;32m     72\u001b[0m             time_start\u001b[38;5;241m=\u001b[39m\u001b[38;5;28;01mNone\u001b[39;00m,\n\u001b[1;32m     73\u001b[0m             progress_bar\u001b[38;5;241m=\u001b[39mprogress_bar,\n\u001b[1;32m     74\u001b[0m         )\n\u001b[1;32m     75\u001b[0m     \u001b[38;5;28;01melse\u001b[39;00m:\n\u001b[1;32m     76\u001b[0m         \u001b[38;5;28;01mif\u001b[39;00m n_jobs \u001b[38;5;241m==\u001b[39m \u001b[38;5;241m-\u001b[39m\u001b[38;5;241m1\u001b[39m:\n",
      "File \u001b[0;32m/opt/miniconda3/envs/RecSys/lib/python3.12/site-packages/optuna/study/_optimize.py:160\u001b[0m, in \u001b[0;36m_optimize_sequential\u001b[0;34m(study, func, n_trials, timeout, catch, callbacks, gc_after_trial, reseed_sampler_rng, time_start, progress_bar)\u001b[0m\n\u001b[1;32m    157\u001b[0m         \u001b[38;5;28;01mbreak\u001b[39;00m\n\u001b[1;32m    159\u001b[0m \u001b[38;5;28;01mtry\u001b[39;00m:\n\u001b[0;32m--> 160\u001b[0m     frozen_trial \u001b[38;5;241m=\u001b[39m _run_trial(study, func, catch)\n\u001b[1;32m    161\u001b[0m \u001b[38;5;28;01mfinally\u001b[39;00m:\n\u001b[1;32m    162\u001b[0m     \u001b[38;5;66;03m# The following line mitigates memory problems that can be occurred in some\u001b[39;00m\n\u001b[1;32m    163\u001b[0m     \u001b[38;5;66;03m# environments (e.g., services that use computing containers such as GitHub Actions).\u001b[39;00m\n\u001b[1;32m    164\u001b[0m     \u001b[38;5;66;03m# Please refer to the following PR for further details:\u001b[39;00m\n\u001b[1;32m    165\u001b[0m     \u001b[38;5;66;03m# https://github.com/optuna/optuna/pull/325.\u001b[39;00m\n\u001b[1;32m    166\u001b[0m     \u001b[38;5;28;01mif\u001b[39;00m gc_after_trial:\n",
      "File \u001b[0;32m/opt/miniconda3/envs/RecSys/lib/python3.12/site-packages/optuna/study/_optimize.py:248\u001b[0m, in \u001b[0;36m_run_trial\u001b[0;34m(study, func, catch)\u001b[0m\n\u001b[1;32m    241\u001b[0m         \u001b[38;5;28;01massert\u001b[39;00m \u001b[38;5;28;01mFalse\u001b[39;00m, \u001b[38;5;124m\"\u001b[39m\u001b[38;5;124mShould not reach.\u001b[39m\u001b[38;5;124m\"\u001b[39m\n\u001b[1;32m    243\u001b[0m \u001b[38;5;28;01mif\u001b[39;00m (\n\u001b[1;32m    244\u001b[0m     frozen_trial\u001b[38;5;241m.\u001b[39mstate \u001b[38;5;241m==\u001b[39m TrialState\u001b[38;5;241m.\u001b[39mFAIL\n\u001b[1;32m    245\u001b[0m     \u001b[38;5;129;01mand\u001b[39;00m func_err \u001b[38;5;129;01mis\u001b[39;00m \u001b[38;5;129;01mnot\u001b[39;00m \u001b[38;5;28;01mNone\u001b[39;00m\n\u001b[1;32m    246\u001b[0m     \u001b[38;5;129;01mand\u001b[39;00m \u001b[38;5;129;01mnot\u001b[39;00m \u001b[38;5;28misinstance\u001b[39m(func_err, catch)\n\u001b[1;32m    247\u001b[0m ):\n\u001b[0;32m--> 248\u001b[0m     \u001b[38;5;28;01mraise\u001b[39;00m func_err\n\u001b[1;32m    249\u001b[0m \u001b[38;5;28;01mreturn\u001b[39;00m frozen_trial\n",
      "File \u001b[0;32m/opt/miniconda3/envs/RecSys/lib/python3.12/site-packages/optuna/study/_optimize.py:197\u001b[0m, in \u001b[0;36m_run_trial\u001b[0;34m(study, func, catch)\u001b[0m\n\u001b[1;32m    195\u001b[0m \u001b[38;5;28;01mwith\u001b[39;00m get_heartbeat_thread(trial\u001b[38;5;241m.\u001b[39m_trial_id, study\u001b[38;5;241m.\u001b[39m_storage):\n\u001b[1;32m    196\u001b[0m     \u001b[38;5;28;01mtry\u001b[39;00m:\n\u001b[0;32m--> 197\u001b[0m         value_or_values \u001b[38;5;241m=\u001b[39m func(trial)\n\u001b[1;32m    198\u001b[0m     \u001b[38;5;28;01mexcept\u001b[39;00m exceptions\u001b[38;5;241m.\u001b[39mTrialPruned \u001b[38;5;28;01mas\u001b[39;00m e:\n\u001b[1;32m    199\u001b[0m         \u001b[38;5;66;03m# TODO(mamu): Handle multi-objective cases.\u001b[39;00m\n\u001b[1;32m    200\u001b[0m         state \u001b[38;5;241m=\u001b[39m TrialState\u001b[38;5;241m.\u001b[39mPRUNED\n",
      "Cell \u001b[0;32mIn[9], line 13\u001b[0m, in \u001b[0;36mobjective_function_IALS\u001b[0;34m(optuna_trial)\u001b[0m\n\u001b[1;32m     11\u001b[0m \u001b[38;5;66;03m# Instantiate and fit the recommender\u001b[39;00m\n\u001b[1;32m     12\u001b[0m recommender_instance \u001b[38;5;241m=\u001b[39m IALSRecommender(URM_train)\n\u001b[0;32m---> 13\u001b[0m recommender_instance\u001b[38;5;241m.\u001b[39mfit(\n\u001b[1;32m     14\u001b[0m     epochs\u001b[38;5;241m=\u001b[39m\u001b[38;5;241m50\u001b[39m,  \u001b[38;5;66;03m# Fixed number of epochs, adjust if necessary\u001b[39;00m\n\u001b[1;32m     15\u001b[0m     num_factors\u001b[38;5;241m=\u001b[39mnum_factors,\n\u001b[1;32m     16\u001b[0m     confidence_scaling\u001b[38;5;241m=\u001b[39mconfidence_scaling,\n\u001b[1;32m     17\u001b[0m     alpha\u001b[38;5;241m=\u001b[39malpha,\n\u001b[1;32m     18\u001b[0m     epsilon\u001b[38;5;241m=\u001b[39mepsilon,\n\u001b[1;32m     19\u001b[0m     reg\u001b[38;5;241m=\u001b[39mreg,\n\u001b[1;32m     20\u001b[0m     init_mean\u001b[38;5;241m=\u001b[39minit_mean,\n\u001b[1;32m     21\u001b[0m     init_std\u001b[38;5;241m=\u001b[39minit_std,\n\u001b[1;32m     22\u001b[0m )\n\u001b[1;32m     24\u001b[0m \u001b[38;5;66;03m# Evaluate the recommender on the validation set\u001b[39;00m\n\u001b[1;32m     25\u001b[0m eval_res, _ \u001b[38;5;241m=\u001b[39m evaluator_validation\u001b[38;5;241m.\u001b[39mevaluateRecommender(recommender_instance)\n",
      "File \u001b[0;32m~/Python/RecSysCompetition2024Polimi/libs/Recommenders/MatrixFactorization/IALSRecommender.py:88\u001b[0m, in \u001b[0;36mIALSRecommender.fit\u001b[0;34m(self, epochs, num_factors, confidence_scaling, alpha, epsilon, reg, init_mean, init_std, **earlystopping_kwargs)\u001b[0m\n\u001b[1;32m     84\u001b[0m \u001b[38;5;28mself\u001b[39m\u001b[38;5;241m.\u001b[39mregularization_diagonal \u001b[38;5;241m=\u001b[39m np\u001b[38;5;241m.\u001b[39mdiag(\u001b[38;5;28mself\u001b[39m\u001b[38;5;241m.\u001b[39mreg \u001b[38;5;241m*\u001b[39m np\u001b[38;5;241m.\u001b[39mones(\u001b[38;5;28mself\u001b[39m\u001b[38;5;241m.\u001b[39mnum_factors))\n\u001b[1;32m     86\u001b[0m \u001b[38;5;28mself\u001b[39m\u001b[38;5;241m.\u001b[39m_update_best_model()\n\u001b[0;32m---> 88\u001b[0m \u001b[38;5;28mself\u001b[39m\u001b[38;5;241m.\u001b[39m_train_with_early_stopping(epochs,\n\u001b[1;32m     89\u001b[0m                                 algorithm_name \u001b[38;5;241m=\u001b[39m \u001b[38;5;28mself\u001b[39m\u001b[38;5;241m.\u001b[39mRECOMMENDER_NAME,\n\u001b[1;32m     90\u001b[0m                                 \u001b[38;5;241m*\u001b[39m\u001b[38;5;241m*\u001b[39mearlystopping_kwargs)\n\u001b[1;32m     93\u001b[0m \u001b[38;5;28mself\u001b[39m\u001b[38;5;241m.\u001b[39mUSER_factors \u001b[38;5;241m=\u001b[39m \u001b[38;5;28mself\u001b[39m\u001b[38;5;241m.\u001b[39mUSER_factors_best\n\u001b[1;32m     94\u001b[0m \u001b[38;5;28mself\u001b[39m\u001b[38;5;241m.\u001b[39mITEM_factors \u001b[38;5;241m=\u001b[39m \u001b[38;5;28mself\u001b[39m\u001b[38;5;241m.\u001b[39mITEM_factors_best\n",
      "File \u001b[0;32m~/Python/RecSysCompetition2024Polimi/libs/Recommenders/Incremental_Training_Early_Stopping.py:199\u001b[0m, in \u001b[0;36mIncremental_Training_Early_Stopping._train_with_early_stopping\u001b[0;34m(self, epochs_max, epochs_min, validation_every_n, stop_on_validation, validation_metric, lower_validations_allowed, evaluator_object, algorithm_name)\u001b[0m\n\u001b[1;32m    195\u001b[0m epochs_current \u001b[38;5;241m=\u001b[39m \u001b[38;5;241m1\u001b[39m\n\u001b[1;32m    197\u001b[0m \u001b[38;5;28;01mwhile\u001b[39;00m epochs_current \u001b[38;5;241m<\u001b[39m\u001b[38;5;241m=\u001b[39m epochs_max \u001b[38;5;129;01mand\u001b[39;00m \u001b[38;5;129;01mnot\u001b[39;00m convergence:\n\u001b[0;32m--> 199\u001b[0m     \u001b[38;5;28mself\u001b[39m\u001b[38;5;241m.\u001b[39m_run_epoch(epochs_current)\n\u001b[1;32m    201\u001b[0m     \u001b[38;5;66;03m# If no validation required, always keep the latest\u001b[39;00m\n\u001b[1;32m    202\u001b[0m     \u001b[38;5;28;01mif\u001b[39;00m evaluator_object \u001b[38;5;129;01mis\u001b[39;00m \u001b[38;5;28;01mNone\u001b[39;00m:\n",
      "File \u001b[0;32m~/Python/RecSysCompetition2024Polimi/libs/Recommenders/MatrixFactorization/IALSRecommender.py:152\u001b[0m, in \u001b[0;36mIALSRecommender._run_epoch\u001b[0;34m(self, num_epoch)\u001b[0m\n\u001b[1;32m    149\u001b[0m     user_profile \u001b[38;5;241m=\u001b[39m \u001b[38;5;28mself\u001b[39m\u001b[38;5;241m.\u001b[39mC\u001b[38;5;241m.\u001b[39mindices[start_pos:end_pos]\n\u001b[1;32m    150\u001b[0m     user_confidence \u001b[38;5;241m=\u001b[39m \u001b[38;5;28mself\u001b[39m\u001b[38;5;241m.\u001b[39mC\u001b[38;5;241m.\u001b[39mdata[start_pos:end_pos]\n\u001b[0;32m--> 152\u001b[0m     \u001b[38;5;28mself\u001b[39m\u001b[38;5;241m.\u001b[39mUSER_factors[user_id, :] \u001b[38;5;241m=\u001b[39m \u001b[38;5;28mself\u001b[39m\u001b[38;5;241m.\u001b[39m_update_row(user_profile, user_confidence, \u001b[38;5;28mself\u001b[39m\u001b[38;5;241m.\u001b[39mITEM_factors, VV)\n\u001b[1;32m    154\u001b[0m \u001b[38;5;66;03m# fit item factors\u001b[39;00m\n\u001b[1;32m    155\u001b[0m \u001b[38;5;66;03m# UU = n_factors x n_factors\u001b[39;00m\n\u001b[1;32m    156\u001b[0m UU \u001b[38;5;241m=\u001b[39m \u001b[38;5;28mself\u001b[39m\u001b[38;5;241m.\u001b[39mUSER_factors\u001b[38;5;241m.\u001b[39mT\u001b[38;5;241m.\u001b[39mdot(\u001b[38;5;28mself\u001b[39m\u001b[38;5;241m.\u001b[39mUSER_factors)\n",
      "File \u001b[0;32m~/Python/RecSysCompetition2024Polimi/libs/Recommenders/MatrixFactorization/IALSRecommender.py:201\u001b[0m, in \u001b[0;36mIALSRecommender._update_row\u001b[0;34m(self, interaction_profile, interaction_confidence, Y, YtY)\u001b[0m\n\u001b[1;32m    197\u001b[0m A \u001b[38;5;241m=\u001b[39m Y_interactions\u001b[38;5;241m.\u001b[39mT\u001b[38;5;241m.\u001b[39mdot(((interaction_confidence \u001b[38;5;241m-\u001b[39m \u001b[38;5;241m1\u001b[39m) \u001b[38;5;241m*\u001b[39m Y_interactions\u001b[38;5;241m.\u001b[39mT)\u001b[38;5;241m.\u001b[39mT)\n\u001b[1;32m    199\u001b[0m B \u001b[38;5;241m=\u001b[39m YtY \u001b[38;5;241m+\u001b[39m A \u001b[38;5;241m+\u001b[39m \u001b[38;5;28mself\u001b[39m\u001b[38;5;241m.\u001b[39mregularization_diagonal\n\u001b[0;32m--> 201\u001b[0m \u001b[38;5;28;01mreturn\u001b[39;00m np\u001b[38;5;241m.\u001b[39mdot(np\u001b[38;5;241m.\u001b[39mlinalg\u001b[38;5;241m.\u001b[39minv(B), Y_interactions\u001b[38;5;241m.\u001b[39mT\u001b[38;5;241m.\u001b[39mdot(interaction_confidence))\n",
      "File \u001b[0;32m/opt/miniconda3/envs/RecSys/lib/python3.12/site-packages/numpy/linalg/linalg.py:561\u001b[0m, in \u001b[0;36minv\u001b[0;34m(a)\u001b[0m\n\u001b[1;32m    559\u001b[0m signature \u001b[38;5;241m=\u001b[39m \u001b[38;5;124m'\u001b[39m\u001b[38;5;124mD->D\u001b[39m\u001b[38;5;124m'\u001b[39m \u001b[38;5;28;01mif\u001b[39;00m isComplexType(t) \u001b[38;5;28;01melse\u001b[39;00m \u001b[38;5;124m'\u001b[39m\u001b[38;5;124md->d\u001b[39m\u001b[38;5;124m'\u001b[39m\n\u001b[1;32m    560\u001b[0m extobj \u001b[38;5;241m=\u001b[39m get_linalg_error_extobj(_raise_linalgerror_singular)\n\u001b[0;32m--> 561\u001b[0m ainv \u001b[38;5;241m=\u001b[39m _umath_linalg\u001b[38;5;241m.\u001b[39minv(a, signature\u001b[38;5;241m=\u001b[39msignature, extobj\u001b[38;5;241m=\u001b[39mextobj)\n\u001b[1;32m    562\u001b[0m \u001b[38;5;28;01mreturn\u001b[39;00m wrap(ainv\u001b[38;5;241m.\u001b[39mastype(result_t, copy\u001b[38;5;241m=\u001b[39m\u001b[38;5;28;01mFalse\u001b[39;00m))\n",
      "\u001b[0;31mKeyboardInterrupt\u001b[0m: "
     ]
    }
   ],
   "source": [
    "# Instantiate the callback with the desired file path\n",
    "save_results_to_csv = SaveResultsToCSV(file_path=\"result_experiments/IALS/results_optuna.csv\")\n",
    "\n",
    "# Create and optimize the Optuna study\n",
    "optuna_study_IALS = op.create_study(direction=\"maximize\")\n",
    "\n",
    "optuna_study_IALS.optimize(\n",
    "    objective_function_IALS,\n",
    "    callbacks=[save_results_to_csv],\n",
    "    n_trials=300  # Adjust as needed\n",
    ")\n",
    "\n",
    "# Check the results saved in the CSV file\n",
    "print(\"Optimization results saved to 'result_experiments/IALS/results_optuna.csv'\")"
   ]
  },
  {
   "cell_type": "code",
   "execution_count": null,
   "id": "9de7e3da-3c82-42e0-a255-a4d2b9a70a2b",
   "metadata": {},
   "outputs": [],
   "source": []
  }
 ],
 "metadata": {
  "kernelspec": {
   "display_name": "RecSys",
   "language": "python",
   "name": "recsys"
  },
  "language_info": {
   "codemirror_mode": {
    "name": "ipython",
    "version": 3
   },
   "file_extension": ".py",
   "mimetype": "text/x-python",
   "name": "python",
   "nbconvert_exporter": "python",
   "pygments_lexer": "ipython3",
   "version": "3.12.7"
  }
 },
 "nbformat": 4,
 "nbformat_minor": 5
}
