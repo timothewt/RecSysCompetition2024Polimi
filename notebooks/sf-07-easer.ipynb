{
 "cells": [
  {
   "cell_type": "code",
   "execution_count": 1,
   "id": "3424e5d2-f571-42f0-a8dc-6039a0111e62",
   "metadata": {},
   "outputs": [],
   "source": [
    "from pathlib import Path\n",
    "import sys  \n",
    "import os\n",
    "import pandas as pd \n",
    "from datetime import datetime\n",
    "\n",
    "import numpy as np\n",
    "from operator import itemgetter"
   ]
  },
  {
   "cell_type": "code",
   "execution_count": 2,
   "id": "c9cef4bb-e4d6-421e-84a0-51d8ef43d70f",
   "metadata": {},
   "outputs": [],
   "source": [
    "sys.path.append(os.path.abspath(os.path.join(os.getcwd(), \"..\", \"libs\")))\n",
    "sys.path.append(os.path.abspath(os.path.join(os.getcwd(), \"..\")))\n",
    "sys.path.append(os.path.abspath(os.path.join(os.getcwd(), \"..\", \"src\")))"
   ]
  },
  {
   "cell_type": "code",
   "execution_count": 3,
   "id": "74697627-dcb5-4289-a928-2193d0f08f9d",
   "metadata": {},
   "outputs": [],
   "source": [
    "%load_ext autoreload\n",
    "%autoreload 2"
   ]
  },
  {
   "cell_type": "code",
   "execution_count": 4,
   "id": "5891017c-a68b-4d0d-98ff-aaa64fb766f3",
   "metadata": {},
   "outputs": [],
   "source": [
    "from Utils.load_URM import load_URM\n",
    "from Utils.load_ICM import load_ICM\n",
    "\n",
    "from scipy.sparse import hstack, vstack\n",
    "from Evaluation.Evaluator import EvaluatorHoldout\n",
    "from Data_manager.split_functions.split_train_validation_random_holdout import split_train_in_two_percentage_global_sample\n",
    "\n",
    "URM_all = load_URM(\"../data/data_train.csv\")\n",
    "ICM_all = load_ICM(\"../data/data_ICM_metadata.csv\")"
   ]
  },
  {
   "cell_type": "code",
   "execution_count": 6,
   "id": "2281b2c1-9a01-409e-b159-c47355f4e26e",
   "metadata": {},
   "outputs": [
    {
     "name": "stdout",
     "output_type": "stream",
     "text": [
      "Warning: 160 (0.45 %) of 35736 users have no sampled items\n"
     ]
    }
   ],
   "source": [
    "URM_train, URM_validation = split_train_in_two_percentage_global_sample(URM_all, train_percentage = 0.80)"
   ]
  },
  {
   "cell_type": "code",
   "execution_count": 7,
   "id": "d3520547-12be-4acb-85e5-81ffefafbab0",
   "metadata": {},
   "outputs": [
    {
     "name": "stdout",
     "output_type": "stream",
     "text": [
      "EvaluatorHoldout: Ignoring 160 ( 0.4%) Users that have less than 1 test interactions\n"
     ]
    }
   ],
   "source": [
    "evaluator_validation = EvaluatorHoldout(URM_validation, cutoff_list=[10])"
   ]
  },
  {
   "cell_type": "code",
   "execution_count": 8,
   "id": "bf71062a-678b-4a5c-8854-f95100049297",
   "metadata": {},
   "outputs": [],
   "source": [
    "from libs.Recommenders.EASE_R.EASE_R_Recommender import EASE_R_Recommender"
   ]
  },
  {
   "cell_type": "code",
   "execution_count": 19,
   "id": "1f33cbb3-5904-4431-89a7-37c435cb318c",
   "metadata": {},
   "outputs": [],
   "source": [
    "results = pd.DataFrame()"
   ]
  },
  {
   "cell_type": "code",
   "execution_count": 20,
   "id": "0df9c5c8-c748-4c90-b57a-577fb7578c81",
   "metadata": {},
   "outputs": [],
   "source": [
    "save_path = \"result_experiments/EASE_R/\""
   ]
  },
  {
   "cell_type": "code",
   "execution_count": 22,
   "id": "122eecb8-a9f1-4b6a-8962-38abcb3e13e3",
   "metadata": {},
   "outputs": [],
   "source": [
    "# if os.path.exists(save_path+\"results.csv\"):\n",
    "#     results = pd.read_csv(save_path+\"results.csv\")\n",
    "# else:\n",
    "#     os.makedirs(save_path)"
   ]
  },
  {
   "cell_type": "code",
   "execution_count": 23,
   "id": "07a4a643-a210-4fd0-9bb1-c080154d5126",
   "metadata": {},
   "outputs": [],
   "source": [
    "URM_train_coo = URM_train.tocoo()"
   ]
  },
  {
   "cell_type": "code",
   "execution_count": null,
   "id": "56f9f879-5d8e-4ebc-bdbb-e9c4b1fceef5",
   "metadata": {},
   "outputs": [],
   "source": [
    "max_MAP = -1"
   ]
  },
  {
   "cell_type": "code",
   "execution_count": null,
   "id": "765f7dd0-0c4d-4683-9f73-1d604b3cbf34",
   "metadata": {},
   "outputs": [],
   "source": [
    "for topK in [10, 30, 50, 70, 100, 200, 300, 400, None]:\n",
    "    for l2_norm in [10, 30, 50, 100, 500, 1000, 2000, 3000, 4000]:\n",
    "        for normalize_matrix in [True, False]:\n",
    "            model_ease = EASE_R_Recommender(URM_train)\n",
    "\n",
    "            current_timestamp = datetime.now().strftime(\"%Y-%m-%d %H:%M:%S\")\n",
    "            params = {\n",
    "                \"topK\": topK,\n",
    "                \"l2_norm\": l2_norm,\n",
    "                \"normalize_matrix\": normalize_matrix,\n",
    "                \"time\": current_timestamp\n",
    "            }\n",
    "            \n",
    "            model_ease.fit(topK=topK, l2_norm=l2_norm, normalize_matrix=normalize_matrix)\n",
    "\n",
    "            metrics_df, _ = evaluator_validation.evaluateRecommender(model_ease)\n",
    "            if max_MAP < metrics_df[\"MAP\"][10]:\n",
    "                max_MAP = metrics_df[\"MAP\"][10]\n",
    "            print(', '.join(f\"{key}: {value}\" for key, value in params.items()), \"MAP: \", metrics_df[\"MAP\"][10], \"max MAP: \", max_MAP)\n",
    "                  \n",
    "            params_df = pd.DataFrame([params])\n",
    "            iteration_results = pd.concat([params_df, metrics_df.reset_index()], axis=1)\n",
    "            results = pd.concat([results, iteration_results], ignore_index=True)\n",
    "            results.to_csv(save_path+\"results.csv\", index=False)"
   ]
  },
  {
   "cell_type": "code",
   "execution_count": 9,
   "id": "5883f648-7cce-4cb0-bd93-a28c075fd8ef",
   "metadata": {},
   "outputs": [],
   "source": [
    "ease = EASE_R_Recommender(URM_train)"
   ]
  },
  {
   "cell_type": "code",
   "execution_count": 10,
   "id": "4c9ee755-190e-4fdc-aa04-c4d50e5f5f1a",
   "metadata": {},
   "outputs": [
    {
     "name": "stdout",
     "output_type": "stream",
     "text": [
      "EASE_R_Recommender: Fitting model... \n",
      "EASE_R_Recommender: Fitting model... done in 46.68 min\n"
     ]
    }
   ],
   "source": [
    "ease.fit(topK=None, l2_norm = 45, normalize_matrix = False)"
   ]
  },
  {
   "cell_type": "code",
   "execution_count": 12,
   "id": "b16ee38a-50ca-4b7f-9e97-dae605ae425e",
   "metadata": {},
   "outputs": [
    {
     "name": "stdout",
     "output_type": "stream",
     "text": [
      "EASE_R_Recommender: Saving model in file 'result_experiments/EASE_R/ease_l245_weights'\n",
      "EASE_R_Recommender: Saving complete\n"
     ]
    }
   ],
   "source": [
    "ease.save_model(\"result_experiments/EASE_R/\", 'ease_l245_weights')"
   ]
  },
  {
   "cell_type": "code",
   "execution_count": 13,
   "id": "2a942485-457a-40af-9e5e-c555167ecc1d",
   "metadata": {},
   "outputs": [
    {
     "name": "stdout",
     "output_type": "stream",
     "text": [
      "EvaluatorHoldout: Processed 35576 (100.0%) in 24.84 sec. Users per second: 1432\n"
     ]
    }
   ],
   "source": [
    "result_dict, _ = evaluator_validation.evaluateRecommender(ease)"
   ]
  },
  {
   "cell_type": "code",
   "execution_count": 14,
   "id": "7bde6055-d6ae-4f73-9f00-6121f27b9b6f",
   "metadata": {},
   "outputs": [
    {
     "data": {
      "text/html": [
       "<div>\n",
       "<style scoped>\n",
       "    .dataframe tbody tr th:only-of-type {\n",
       "        vertical-align: middle;\n",
       "    }\n",
       "\n",
       "    .dataframe tbody tr th {\n",
       "        vertical-align: top;\n",
       "    }\n",
       "\n",
       "    .dataframe thead th {\n",
       "        text-align: right;\n",
       "    }\n",
       "</style>\n",
       "<table border=\"1\" class=\"dataframe\">\n",
       "  <thead>\n",
       "    <tr style=\"text-align: right;\">\n",
       "      <th></th>\n",
       "      <th>PRECISION</th>\n",
       "      <th>PRECISION_RECALL_MIN_DEN</th>\n",
       "      <th>RECALL</th>\n",
       "      <th>MAP</th>\n",
       "      <th>MAP_MIN_DEN</th>\n",
       "      <th>MRR</th>\n",
       "      <th>NDCG</th>\n",
       "      <th>F1</th>\n",
       "      <th>HIT_RATE</th>\n",
       "      <th>ARHR_ALL_HITS</th>\n",
       "      <th>...</th>\n",
       "      <th>COVERAGE_USER</th>\n",
       "      <th>COVERAGE_USER_HIT</th>\n",
       "      <th>USERS_IN_GT</th>\n",
       "      <th>DIVERSITY_GINI</th>\n",
       "      <th>SHANNON_ENTROPY</th>\n",
       "      <th>RATIO_DIVERSITY_HERFINDAHL</th>\n",
       "      <th>RATIO_DIVERSITY_GINI</th>\n",
       "      <th>RATIO_SHANNON_ENTROPY</th>\n",
       "      <th>RATIO_AVERAGE_POPULARITY</th>\n",
       "      <th>RATIO_NOVELTY</th>\n",
       "    </tr>\n",
       "    <tr>\n",
       "      <th>cutoff</th>\n",
       "      <th></th>\n",
       "      <th></th>\n",
       "      <th></th>\n",
       "      <th></th>\n",
       "      <th></th>\n",
       "      <th></th>\n",
       "      <th></th>\n",
       "      <th></th>\n",
       "      <th></th>\n",
       "      <th></th>\n",
       "      <th></th>\n",
       "      <th></th>\n",
       "      <th></th>\n",
       "      <th></th>\n",
       "      <th></th>\n",
       "      <th></th>\n",
       "      <th></th>\n",
       "      <th></th>\n",
       "      <th></th>\n",
       "      <th></th>\n",
       "      <th></th>\n",
       "    </tr>\n",
       "  </thead>\n",
       "  <tbody>\n",
       "    <tr>\n",
       "      <th>10</th>\n",
       "      <td>0.099398</td>\n",
       "      <td>0.149848</td>\n",
       "      <td>0.128295</td>\n",
       "      <td>0.052053</td>\n",
       "      <td>0.077257</td>\n",
       "      <td>0.283543</td>\n",
       "      <td>0.146298</td>\n",
       "      <td>0.112013</td>\n",
       "      <td>0.542332</td>\n",
       "      <td>0.378402</td>\n",
       "      <td>...</td>\n",
       "      <td>0.995523</td>\n",
       "      <td>0.539904</td>\n",
       "      <td>0.995523</td>\n",
       "      <td>0.157081</td>\n",
       "      <td>12.686545</td>\n",
       "      <td>0.999625</td>\n",
       "      <td>0.258119</td>\n",
       "      <td>0.859389</td>\n",
       "      <td>1.985036</td>\n",
       "      <td>0.234347</td>\n",
       "    </tr>\n",
       "  </tbody>\n",
       "</table>\n",
       "<p>1 rows × 27 columns</p>\n",
       "</div>"
      ],
      "text/plain": [
       "       PRECISION PRECISION_RECALL_MIN_DEN    RECALL       MAP MAP_MIN_DEN  \\\n",
       "cutoff                                                                      \n",
       "10      0.099398                 0.149848  0.128295  0.052053    0.077257   \n",
       "\n",
       "             MRR      NDCG        F1  HIT_RATE ARHR_ALL_HITS  ...  \\\n",
       "cutoff                                                        ...   \n",
       "10      0.283543  0.146298  0.112013  0.542332      0.378402  ...   \n",
       "\n",
       "       COVERAGE_USER COVERAGE_USER_HIT USERS_IN_GT DIVERSITY_GINI  \\\n",
       "cutoff                                                              \n",
       "10          0.995523          0.539904    0.995523       0.157081   \n",
       "\n",
       "       SHANNON_ENTROPY RATIO_DIVERSITY_HERFINDAHL RATIO_DIVERSITY_GINI  \\\n",
       "cutoff                                                                   \n",
       "10           12.686545                   0.999625             0.258119   \n",
       "\n",
       "       RATIO_SHANNON_ENTROPY RATIO_AVERAGE_POPULARITY RATIO_NOVELTY  \n",
       "cutoff                                                               \n",
       "10                  0.859389                 1.985036      0.234347  \n",
       "\n",
       "[1 rows x 27 columns]"
      ]
     },
     "execution_count": 14,
     "metadata": {},
     "output_type": "execute_result"
    }
   ],
   "source": [
    "result_dict"
   ]
  },
  {
   "cell_type": "code",
   "execution_count": null,
   "id": "358972fb-f6a5-42c9-9c61-77cc06b54318",
   "metadata": {},
   "outputs": [],
   "source": []
  }
 ],
 "metadata": {
  "kernelspec": {
   "display_name": "RecSys",
   "language": "python",
   "name": "recsys"
  },
  "language_info": {
   "codemirror_mode": {
    "name": "ipython",
    "version": 3
   },
   "file_extension": ".py",
   "mimetype": "text/x-python",
   "name": "python",
   "nbconvert_exporter": "python",
   "pygments_lexer": "ipython3",
   "version": "3.12.7"
  }
 },
 "nbformat": 4,
 "nbformat_minor": 5
}
