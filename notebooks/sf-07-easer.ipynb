{
 "cells": [
  {
   "cell_type": "code",
   "execution_count": 8,
   "id": "3424e5d2-f571-42f0-a8dc-6039a0111e62",
   "metadata": {},
   "outputs": [],
   "source": [
    "from pathlib import Path\n",
    "import sys  \n",
    "import os\n",
    "import pandas as pd \n",
    "import scipy.sparse as sps\n",
    "from datetime import datetime\n",
    "\n",
    "import numpy as np\n",
    "from operator import itemgetter\n",
    "import optuna as op"
   ]
  },
  {
   "cell_type": "code",
   "execution_count": 5,
   "id": "c9cef4bb-e4d6-421e-84a0-51d8ef43d70f",
   "metadata": {},
   "outputs": [],
   "source": [
    "sys.path.append(os.path.abspath(os.path.join(os.getcwd(), \"..\", \"libs\")))\n",
    "sys.path.append(os.path.abspath(os.path.join(os.getcwd(), \"..\")))\n",
    "sys.path.append(os.path.abspath(os.path.join(os.getcwd(), \"..\", \"src\")))"
   ]
  },
  {
   "cell_type": "code",
   "execution_count": 6,
   "id": "74697627-dcb5-4289-a928-2193d0f08f9d",
   "metadata": {},
   "outputs": [
    {
     "name": "stdout",
     "output_type": "stream",
     "text": [
      "The autoreload extension is already loaded. To reload it, use:\n",
      "  %reload_ext autoreload\n"
     ]
    }
   ],
   "source": [
    "%load_ext autoreload\n",
    "%autoreload 2"
   ]
  },
  {
   "cell_type": "code",
   "execution_count": 11,
   "id": "5891017c-a68b-4d0d-98ff-aaa64fb766f3",
   "metadata": {},
   "outputs": [],
   "source": [
    "from Utils.load_URM import load_URM\n",
    "from Utils.load_ICM import load_ICM\n",
    "\n",
    "from scipy.sparse import hstack, vstack\n",
    "from Evaluation.Evaluator import EvaluatorHoldout\n",
    "from Data_manager.split_functions.split_train_validation_random_holdout import split_train_in_two_percentage_global_sample\n",
    "\n",
    "URM_all = load_URM(\"../data/data_train.csv\")\n",
    "ICM_all = load_ICM(\"../data/data_ICM_metadata.csv\")"
   ]
  },
  {
   "cell_type": "code",
   "execution_count": 12,
   "id": "2281b2c1-9a01-409e-b159-c47355f4e26e",
   "metadata": {},
   "outputs": [],
   "source": [
    "URM_train = sps.load_npz(\"URM_train_ens.npz\")\n",
    "URM_val = sps.load_npz(\"URM_val_ens.npz\")\n",
    "URM_test = sps.load_npz(\"URM_test_ens.npz\")\n",
    "\n",
    "URM_train_val = sps.load_npz(\"URM_train_val_ens.npz\")"
   ]
  },
  {
   "cell_type": "code",
   "execution_count": 13,
   "id": "d3520547-12be-4acb-85e5-81ffefafbab0",
   "metadata": {},
   "outputs": [
    {
     "name": "stdout",
     "output_type": "stream",
     "text": [
      "EvaluatorHoldout: Ignoring 1008 ( 2.8%) Users that have less than 1 test interactions\n"
     ]
    }
   ],
   "source": [
    "evaluator_validation = EvaluatorHoldout(URM_val, cutoff_list=[10])"
   ]
  },
  {
   "cell_type": "code",
   "execution_count": 14,
   "id": "bf71062a-678b-4a5c-8854-f95100049297",
   "metadata": {},
   "outputs": [],
   "source": [
    "from libs.Recommenders.EASE_R.EASE_R_Recommender import EASE_R_Recommender"
   ]
  },
  {
   "cell_type": "code",
   "execution_count": 23,
   "id": "07a4a643-a210-4fd0-9bb1-c080154d5126",
   "metadata": {},
   "outputs": [],
   "source": [
    "URM_train_coo = URM_train.tocoo()"
   ]
  },
  {
   "cell_type": "code",
   "execution_count": 15,
   "id": "56f9f879-5d8e-4ebc-bdbb-e9c4b1fceef5",
   "metadata": {},
   "outputs": [],
   "source": [
    "def objective_function_EASE(optuna_trial):\n",
    "    recommender_instance = EASE_R_Recommender(URM_train)\n",
    "    recommender_instance.fit(\n",
    "        topK = optuna_trial.suggest_int(\"topK\", 2, 100),\n",
    "        l2_norm = optuna_trial.suggest_float(\"l2_norm\", 1, 100),\n",
    "        normalize_similarity= optuna_trial.suggest_categorical(\n",
    "            \"normalize_similarity\", [True, False])\n",
    "    )\n",
    "    \n",
    "    eval_res, _ = evaluator_validation.evaluateRecommender(recommender_instance)  \n",
    "    \n",
    "    trial_results = {\n",
    "        \"RECALL\": eval_res[\"RECALL\"][10],\n",
    "        \"MAP\": eval_res[\"MAP\"][10]  # Save MAP for reference\n",
    "    }\n",
    "    \n",
    "    # Save the MAP value to the optuna trial user attributes for later use\n",
    "    optuna_trial.set_user_attr(\"MAP\", trial_results[\"MAP\"])\n",
    "    \n",
    "    # Return RECALL for optimization\n",
    "    return trial_results[\"MAP\"]"
   ]
  },
  {
   "cell_type": "code",
   "execution_count": null,
   "id": "bdb46dcb-e1d8-4861-bebc-dd710b0dcc46",
   "metadata": {},
   "outputs": [],
   "source": [
    "class SaveResults(object):\n",
    "    def __init__(self, file_path=None):\n",
    "        self.file_path = file_path\n",
    "        self.results = []\n",
    "    \n",
    "    def __call__(self, optuna_study, optuna_trial):\n",
    "        trial_result = optuna_trial.params.copy()\n",
    "        trial_result[\"iteration\"] = optuna_trial.number\n",
    "        trial_result[\"RECALL\"] = optuna_trial.value\n",
    "        \n",
    "        # Retrieve the MAP metric from user attributes\n",
    "        trial_result[\"MAP\"] = optuna_trial.user_attrs.get(\"MAP\")\n",
    "        \n",
    "        self.results.append(trial_result)\n",
    "        \n",
    "        # Convert to DataFrame and save to CSV\n",
    "        results_df = pd.DataFrame(self.results)\n",
    "        results_df.to_csv(self.file_path, index=False)\n"
   ]
  },
  {
   "cell_type": "code",
   "execution_count": 9,
   "id": "5883f648-7cce-4cb0-bd93-a28c075fd8ef",
   "metadata": {},
   "outputs": [],
   "source": [
    "optuna_study_EASE = op.create_study(direction=\"maximize\")\n",
    "        \n",
    "save_results_EASE = SaveResults(\"result_experiments/EASE_R/results_optuna.csv\")\n",
    "        \n",
    "optuna_study_EASE.optimize(objective_function_EASE,\n",
    "                      callbacks=[save_results_EASE],\n",
    "                      n_trials = 400)"
   ]
  },
  {
   "cell_type": "code",
   "execution_count": null,
   "id": "358972fb-f6a5-42c9-9c61-77cc06b54318",
   "metadata": {},
   "outputs": [],
   "source": []
  }
 ],
 "metadata": {
  "kernelspec": {
   "display_name": "RecSys",
   "language": "python",
   "name": "recsys"
  },
  "language_info": {
   "codemirror_mode": {
    "name": "ipython",
    "version": 3
   },
   "file_extension": ".py",
   "mimetype": "text/x-python",
   "name": "python",
   "nbconvert_exporter": "python",
   "pygments_lexer": "ipython3",
   "version": "3.12.7"
  }
 },
 "nbformat": 4,
 "nbformat_minor": 5
}
