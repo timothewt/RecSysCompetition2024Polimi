{
 "cells": [
  {
   "cell_type": "code",
   "id": "initial_id",
   "metadata": {
    "collapsed": true,
    "ExecuteTime": {
     "end_time": "2024-11-05T09:57:57.031016Z",
     "start_time": "2024-11-05T09:57:54.688148Z"
    }
   },
   "source": [
    "import numpy as np\n",
    "import scipy.sparse as sp\n",
    "\n",
    "from src.utils import train_model, write_submission\n",
    "from src.recommender_model import RecommenderModel"
   ],
   "outputs": [],
   "execution_count": 3
  },
  {
   "metadata": {},
   "cell_type": "markdown",
   "source": [
    "# Top Popularity Recommender Model\n",
    "This notebook provides an implementation of a TopPop recommender model."
   ],
   "id": "5056053afe0f6df8"
  },
  {
   "metadata": {},
   "cell_type": "markdown",
   "source": "## TopPop Recommender",
   "id": "132d3562541c771c"
  },
  {
   "metadata": {
    "ExecuteTime": {
     "end_time": "2024-11-04T21:19:59.470066Z",
     "start_time": "2024-11-04T21:19:59.459376Z"
    }
   },
   "cell_type": "code",
   "source": [
    "class TopPopRecommender(RecommenderModel):\n",
    "\tdef __init__(self):\n",
    "\t\tsuper(TopPopRecommender, self).__init__()\n",
    "\t\tself.urm_train: sp.csr_matrix | None = None\n",
    "\t\tself.items_popularity: np.ndarray | None = None\n",
    "\n",
    "\tdef fit(self, urm: sp.csr_matrix, icm: sp.csr_matrix) -> None:\n",
    "\t\tself.urm = urm\n",
    "\t\tself.items_popularity = np.ediff1d(urm.tocsc().indptr)\n",
    "\n",
    "\tdef _get_recommendations_predictions(self, user_id: int) -> np.ndarray:\n",
    "\t\treturn self.items_popularity"
   ],
   "id": "a19c771cd23d20d5",
   "outputs": [],
   "execution_count": 2
  },
  {
   "metadata": {
    "ExecuteTime": {
     "end_time": "2024-11-04T21:20:01.984799Z",
     "start_time": "2024-11-04T21:20:00.008627Z"
    }
   },
   "cell_type": "code",
   "source": "top_pop_train = train_model(TopPopRecommender(), test_size=0.2)",
   "id": "a5e7262c0fc89516",
   "outputs": [],
   "execution_count": 3
  },
  {
   "metadata": {
    "jupyter": {
     "is_executing": true
    },
    "ExecuteTime": {
     "end_time": "2024-11-04T21:20:12.566646900Z",
     "start_time": "2024-11-04T21:20:02.011905Z"
    }
   },
   "cell_type": "code",
   "source": [
    "top_pop_submission = train_model(TopPopRecommender(), test_size=0)\n",
    "write_submission(top_pop_submission, \"top_pop_recommendation.csv\")"
   ],
   "id": "2ea440dbb10ade40",
   "outputs": [],
   "execution_count": null
  }
 ],
 "metadata": {
  "kernelspec": {
   "display_name": "Python 3",
   "language": "python",
   "name": "python3"
  },
  "language_info": {
   "codemirror_mode": {
    "name": "ipython",
    "version": 2
   },
   "file_extension": ".py",
   "mimetype": "text/x-python",
   "name": "python",
   "nbconvert_exporter": "python",
   "pygments_lexer": "ipython2",
   "version": "2.7.6"
  }
 },
 "nbformat": 4,
 "nbformat_minor": 5
}
