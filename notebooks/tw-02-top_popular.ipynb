{
 "cells": [
  {
   "cell_type": "code",
   "execution_count": 1,
   "id": "initial_id",
   "metadata": {
    "ExecuteTime": {
     "end_time": "2024-11-16T16:52:43.686111Z",
     "start_time": "2024-11-16T16:52:42.440898Z"
    },
    "collapsed": true,
    "jupyter": {
     "outputs_hidden": true
    }
   },
   "outputs": [],
   "source": [
    "import sys, os\n",
    "\n",
    "import numpy as np\n",
    "import scipy.sparse as sp\n",
    "\n",
    "from src.utils import train_model, write_submission\n",
    "from src.recommender_model import RecommenderModel"
   ]
  },
  {
   "cell_type": "markdown",
   "id": "5056053afe0f6df8",
   "metadata": {},
   "source": [
    "# Top Popularity Recommender Model\n",
    "This notebook provides an implementation of a TopPop recommender model."
   ]
  },
  {
   "cell_type": "markdown",
   "id": "132d3562541c771c",
   "metadata": {},
   "source": [
    "## TopPop Recommender"
   ]
  },
  {
   "cell_type": "code",
   "execution_count": 2,
   "id": "30233109ff7853d6",
   "metadata": {
    "ExecuteTime": {
     "end_time": "2024-11-16T16:52:43.718495Z",
     "start_time": "2024-11-16T16:52:43.709234Z"
    }
   },
   "outputs": [],
   "source": [
    "class TopPop(RecommenderModel):\n",
    "\tdef __init__(self):\n",
    "\t\tsuper(TopPop, self).__init__()\n",
    "\t\tself.urm_train: sp.csr_matrix | None = None\n",
    "\t\tself.items_popularity: np.ndarray | None = None\n",
    "\n",
    "\tdef fit(self, urm: sp.csr_matrix, icm: sp.csr_matrix, val_urm: sp.csr_matrix, progress_bar: bool = True, **kwargs) -> None:\n",
    "\t\tself.urm = urm\n",
    "\t\tself.items_popularity = np.ediff1d(urm.tocsc().indptr)\n",
    "\n",
    "\tdef _get_recommendations_predictions(self, user_id: int) -> np.ndarray:\n",
    "\t\treturn self.items_popularity"
   ]
  },
  {
   "cell_type": "code",
   "execution_count": 3,
   "id": "a5e7262c0fc89516",
   "metadata": {
    "ExecuteTime": {
     "end_time": "2024-11-16T16:53:12.678257Z",
     "start_time": "2024-11-16T16:52:44.010994Z"
    }
   },
   "outputs": [
    {
     "name": "stdout",
     "output_type": "stream",
     "text": [
      "MAP@10 evaluation of the TopPop model: 0.00314\n"
     ]
    }
   ],
   "source": [
    "top_pop_train, _ = train_model(TopPop(), test_size=0.2)"
   ]
  },
  {
   "cell_type": "markdown",
   "id": "9e882d026f37de6c",
   "metadata": {},
   "source": [
    "For the submission, a model is trained again on the whole dataset, taking advantage of all the data available"
   ]
  },
  {
   "cell_type": "code",
   "execution_count": 4,
   "id": "2ea440dbb10ade40",
   "metadata": {
    "ExecuteTime": {
     "end_time": "2024-11-16T16:53:30.504432Z",
     "start_time": "2024-11-16T16:53:12.782857Z"
    }
   },
   "outputs": [],
   "source": [
    "top_pop_submission, _ = train_model(TopPop(), test_size=0)\n",
    "write_submission(top_pop_submission, \"top_pop_submission.csv\")"
   ]
  },
  {
   "cell_type": "markdown",
   "id": "34bc41bc08a38c3d",
   "metadata": {},
   "source": [
    "Submission result: `0.00279`"
   ]
  }
 ],
 "metadata": {
  "kernelspec": {
   "display_name": "Python 3 (ipykernel)",
   "language": "python",
   "name": "python3"
  },
  "language_info": {
   "codemirror_mode": {
    "name": "ipython",
    "version": 3
   },
   "file_extension": ".py",
   "mimetype": "text/x-python",
   "name": "python",
   "nbconvert_exporter": "python",
   "pygments_lexer": "ipython3",
   "version": "3.12.5"
  }
 },
 "nbformat": 4,
 "nbformat_minor": 5
}
