{
 "cells": [
  {
   "cell_type": "code",
   "id": "initial_id",
   "metadata": {
    "collapsed": true,
    "ExecuteTime": {
     "end_time": "2024-11-04T17:10:25.088768Z",
     "start_time": "2024-11-04T17:10:25.079029Z"
    }
   },
   "source": [
    "import numpy as np\n",
    "import scipy.sparse as sp\n",
    "\n",
    "from src.utils import train_and_test_model, write_submission\n",
    "from src.recommender_model import RecommenderModel"
   ],
   "outputs": [],
   "execution_count": 5
  },
  {
   "metadata": {},
   "cell_type": "markdown",
   "source": [
    "## Building the Top Recommender model\n",
    "Seen items are removed from the recommendations"
   ],
   "id": "132d3562541c771c"
  },
  {
   "metadata": {
    "ExecuteTime": {
     "end_time": "2024-11-04T17:10:25.126327Z",
     "start_time": "2024-11-04T17:10:25.111123Z"
    }
   },
   "cell_type": "code",
   "source": [
    "class TopPopRecommender(RecommenderModel):\n",
    "\tdef __init__(self):\n",
    "\t\tsuper(TopPopRecommender, self).__init__()\n",
    "\t\tself.urm_train: sp.csr_matrix | None = None\n",
    "\t\tself.items_popularity_ranking: np.ndarray | None = None\n",
    "\n",
    "\tdef fit(self, urm_train: sp.csr_matrix, icm: sp.csr_matrix) -> None:\n",
    "\t\tself.urm_train = urm_train\n",
    "\t\titems_popularity = np.ediff1d(urm_train.tocsc().indptr)\n",
    "\t\tself.items_popularity_ranking = np.argsort(-items_popularity)\n",
    "\n",
    "\tdef recommend(self, user_id: int, at: int = 10) -> np.ndarray:\n",
    "\t\tseen_items = self.urm_train.indices[self.urm_train.indptr[user_id]:self.urm_train.indptr[user_id + 1]]\n",
    "\t\tunseen_items_mask = np.isin(self.items_popularity_ranking, seen_items, assume_unique=True, invert=True)\n",
    "\n",
    "\t\treturn self.items_popularity_ranking[unseen_items_mask][:at]"
   ],
   "id": "a19c771cd23d20d5",
   "outputs": [],
   "execution_count": 6
  },
  {
   "metadata": {},
   "cell_type": "markdown",
   "source": "## Testing the model",
   "id": "598030d35354ebfa"
  },
  {
   "metadata": {
    "ExecuteTime": {
     "end_time": "2024-11-04T17:10:30.612600Z",
     "start_time": "2024-11-04T17:10:25.151463Z"
    }
   },
   "cell_type": "code",
   "source": "top_pop = train_and_test_model(TopPopRecommender())",
   "id": "a5e7262c0fc89516",
   "outputs": [
    {
     "name": "stderr",
     "output_type": "stream",
     "text": [
      "\n",
      "KeyboardInterrupt\n",
      "\n"
     ]
    }
   ],
   "execution_count": 7
  },
  {
   "metadata": {
    "ExecuteTime": {
     "end_time": "2024-11-04T17:10:30.620943900Z",
     "start_time": "2024-11-04T17:07:16.526989Z"
    }
   },
   "cell_type": "code",
   "source": "write_submission(top_pop, \"top_pop_recommendation.csv\")",
   "id": "2ea440dbb10ade40",
   "outputs": [],
   "execution_count": 4
  }
 ],
 "metadata": {
  "kernelspec": {
   "display_name": "Python 3",
   "language": "python",
   "name": "python3"
  },
  "language_info": {
   "codemirror_mode": {
    "name": "ipython",
    "version": 2
   },
   "file_extension": ".py",
   "mimetype": "text/x-python",
   "name": "python",
   "nbconvert_exporter": "python",
   "pygments_lexer": "ipython2",
   "version": "2.7.6"
  }
 },
 "nbformat": 4,
 "nbformat_minor": 5
}
