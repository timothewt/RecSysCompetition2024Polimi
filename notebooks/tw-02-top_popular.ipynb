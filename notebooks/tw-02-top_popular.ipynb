{
 "cells": [
  {
   "cell_type": "code",
   "id": "initial_id",
   "metadata": {
    "collapsed": true,
    "ExecuteTime": {
     "end_time": "2024-11-04T11:16:50.571435Z",
     "start_time": "2024-11-04T11:16:50.565515Z"
    }
   },
   "source": [
    "import numpy as np\n",
    "import scipy.sparse as sp\n",
    "\n",
    "from src.utils import RecommenderModel, open_data, make_submission"
   ],
   "outputs": [],
   "execution_count": 22
  },
  {
   "metadata": {},
   "cell_type": "markdown",
   "source": "## Opening the data",
   "id": "c46412f1b4767a3d"
  },
  {
   "metadata": {
    "ExecuteTime": {
     "end_time": "2024-11-04T11:16:51.744054Z",
     "start_time": "2024-11-04T11:16:50.599366Z"
    }
   },
   "cell_type": "code",
   "source": [
    "urm, icm = open_data()\n",
    "urm, icm"
   ],
   "id": "e17b69df55c3254c",
   "outputs": [
    {
     "data": {
      "text/plain": [
       "(<Compressed Sparse Row sparse matrix of dtype 'float64'\n",
       " \twith 1764607 stored elements and shape (35736, 38121)>,\n",
       " <Compressed Sparse Row sparse matrix of dtype 'float64'\n",
       " \twith 2940040 stored elements and shape (38121, 94331)>)"
      ]
     },
     "execution_count": 23,
     "metadata": {},
     "output_type": "execute_result"
    }
   ],
   "execution_count": 23
  },
  {
   "metadata": {},
   "cell_type": "markdown",
   "source": [
    "## Building the Top Recommender model\n",
    "Seen items are removed from the recommendations"
   ],
   "id": "132d3562541c771c"
  },
  {
   "metadata": {
    "ExecuteTime": {
     "end_time": "2024-11-04T11:16:51.835090Z",
     "start_time": "2024-11-04T11:16:51.828059Z"
    }
   },
   "cell_type": "code",
   "source": [
    "class TopPopRecommender(RecommenderModel):\n",
    "\tdef __init__(self):\n",
    "\t\tsuper(TopPopRecommender, self).__init__()\n",
    "\t\tself.urm_train: sp.csr_matrix | None = None\n",
    "\t\tself.items_popularity_ranking: np.ndarray | None = None\n",
    "\n",
    "\tdef fit(self, urm: sp.csr_matrix) -> None:\n",
    "\t\tself.urm_train = urm\n",
    "\t\titems_popularity = np.ediff1d(urm.tocsc().indptr)\n",
    "\t\tself.items_popularity_ranking = np.argsort(-items_popularity)\n",
    "\n",
    "\tdef recommend(self, user_id: int, at: int = 10) -> np.ndarray:\n",
    "\t\tseen_items = self.urm_train.indices[self.urm_train.indptr[user_id]:self.urm_train.indptr[user_id + 1]]\n",
    "\t\tunseen_items_mask = np.isin(self.items_popularity_ranking, seen_items, assume_unique=True, invert=True)\n",
    "\n",
    "\t\treturn self.items_popularity_ranking[unseen_items_mask][:at]"
   ],
   "id": "a19c771cd23d20d5",
   "outputs": [],
   "execution_count": 24
  },
  {
   "metadata": {
    "ExecuteTime": {
     "end_time": "2024-11-04T11:16:51.896773Z",
     "start_time": "2024-11-04T11:16:51.858129Z"
    }
   },
   "cell_type": "code",
   "source": [
    "top_pop = TopPopRecommender()\n",
    "top_pop.fit(urm)"
   ],
   "id": "a6abdb10bc88f718",
   "outputs": [],
   "execution_count": 25
  },
  {
   "metadata": {},
   "cell_type": "markdown",
   "source": "## Testing the model",
   "id": "598030d35354ebfa"
  },
  {
   "metadata": {
    "ExecuteTime": {
     "end_time": "2024-11-04T11:17:09.871386Z",
     "start_time": "2024-11-04T11:16:51.908201Z"
    }
   },
   "cell_type": "code",
   "source": "make_submission(top_pop, \"top_pop_recommendation.csv\")",
   "id": "2ea440dbb10ade40",
   "outputs": [
    {
     "ename": "KeyboardInterrupt",
     "evalue": "",
     "output_type": "error",
     "traceback": [
      "\u001B[1;31m---------------------------------------------------------------------------\u001B[0m",
      "\u001B[1;31mKeyboardInterrupt\u001B[0m                         Traceback (most recent call last)",
      "    \u001B[1;31m[... skipping hidden 1 frame]\u001B[0m\n",
      "Cell \u001B[1;32mIn[26], line 1\u001B[0m\n\u001B[1;32m----> 1\u001B[0m \u001B[43mmake_submission\u001B[49m\u001B[43m(\u001B[49m\u001B[43mtop_pop\u001B[49m\u001B[43m,\u001B[49m\u001B[43m \u001B[49m\u001B[38;5;124;43m\"\u001B[39;49m\u001B[38;5;124;43mtop_pop_recommendation.csv\u001B[39;49m\u001B[38;5;124;43m\"\u001B[39;49m\u001B[43m)\u001B[49m\n",
      "File \u001B[1;32m~\\Documents\\UTBM\\INFO5_POLIMI\\RecSys\\RecSysCompetition2024Polimi\\src\\utils.py:33\u001B[0m, in \u001B[0;36mmake_submission\u001B[1;34m(trained_model, filename)\u001B[0m\n\u001B[0;32m     32\u001B[0m target_users_test \u001B[38;5;241m=\u001B[39m get_target_users_test()\n\u001B[1;32m---> 33\u001B[0m recommendations \u001B[38;5;241m=\u001B[39m np\u001B[38;5;241m.\u001B[39marray(\u001B[43m[\u001B[49m\n\u001B[0;32m     34\u001B[0m \u001B[43m\t\t\u001B[49m\u001B[43mtrained_model\u001B[49m\u001B[38;5;241;43m.\u001B[39;49m\u001B[43mrecommend\u001B[49m\u001B[43m(\u001B[49m\u001B[43muser_id\u001B[49m\u001B[43m)\u001B[49m\u001B[43m \u001B[49m\u001B[38;5;28;43;01mfor\u001B[39;49;00m\u001B[43m \u001B[49m\u001B[43muser_id\u001B[49m\u001B[43m \u001B[49m\u001B[38;5;129;43;01min\u001B[39;49;00m\u001B[43m \u001B[49m\u001B[43mtarget_users_test\u001B[49m\n\u001B[0;32m     35\u001B[0m \u001B[43m\u001B[49m\u001B[43m]\u001B[49m)\n\u001B[0;32m     36\u001B[0m \u001B[38;5;28;01mif\u001B[39;00m \u001B[38;5;129;01mnot\u001B[39;00m os\u001B[38;5;241m.\u001B[39mpath\u001B[38;5;241m.\u001B[39mexists(\u001B[38;5;124m\"\u001B[39m\u001B[38;5;124m../submissions\u001B[39m\u001B[38;5;124m\"\u001B[39m):\n",
      "File \u001B[1;32m~\\Documents\\UTBM\\INFO5_POLIMI\\RecSys\\RecSysCompetition2024Polimi\\src\\utils.py:33\u001B[0m, in \u001B[0;36m<listcomp>\u001B[1;34m(.0)\u001B[0m\n\u001B[0;32m     32\u001B[0m target_users_test \u001B[38;5;241m=\u001B[39m get_target_users_test()\n\u001B[1;32m---> 33\u001B[0m recommendations \u001B[38;5;241m=\u001B[39m np\u001B[38;5;241m.\u001B[39marray([\n\u001B[0;32m     34\u001B[0m \t\ttrained_model\u001B[38;5;241m.\u001B[39mrecommend(user_id) \u001B[38;5;28;01mfor\u001B[39;00m user_id \u001B[38;5;129;01min\u001B[39;00m target_users_test\n\u001B[0;32m     35\u001B[0m ])\n\u001B[0;32m     36\u001B[0m \u001B[38;5;28;01mif\u001B[39;00m \u001B[38;5;129;01mnot\u001B[39;00m os\u001B[38;5;241m.\u001B[39mpath\u001B[38;5;241m.\u001B[39mexists(\u001B[38;5;124m\"\u001B[39m\u001B[38;5;124m../submissions\u001B[39m\u001B[38;5;124m\"\u001B[39m):\n",
      "\u001B[1;31mKeyboardInterrupt\u001B[0m: ",
      "\nDuring handling of the above exception, another exception occurred:\n",
      "\u001B[1;31mKeyboardInterrupt\u001B[0m                         Traceback (most recent call last)",
      "    \u001B[1;31m[... skipping hidden 1 frame]\u001B[0m\n",
      "File \u001B[1;32m~\\Documents\\UTBM\\INFO5_POLIMI\\RecSys\\RecSysCompetition2024Polimi\\.venv\\Lib\\site-packages\\IPython\\core\\interactiveshell.py:2115\u001B[0m, in \u001B[0;36mInteractiveShell.showtraceback\u001B[1;34m(self, exc_tuple, filename, tb_offset, exception_only, running_compiled_code)\u001B[0m\n\u001B[0;32m   2112\u001B[0m     msg \u001B[38;5;241m=\u001B[39m traceback\u001B[38;5;241m.\u001B[39mformat_exception_only(etype, value)\n\u001B[0;32m   2113\u001B[0m     \u001B[38;5;28;01mreturn\u001B[39;00m \u001B[38;5;124m'\u001B[39m\u001B[38;5;124m'\u001B[39m\u001B[38;5;241m.\u001B[39mjoin(msg)\n\u001B[1;32m-> 2115\u001B[0m \u001B[38;5;28;01mdef\u001B[39;00m \u001B[38;5;21mshowtraceback\u001B[39m(\u001B[38;5;28mself\u001B[39m, exc_tuple\u001B[38;5;241m=\u001B[39m\u001B[38;5;28;01mNone\u001B[39;00m, filename\u001B[38;5;241m=\u001B[39m\u001B[38;5;28;01mNone\u001B[39;00m, tb_offset\u001B[38;5;241m=\u001B[39m\u001B[38;5;28;01mNone\u001B[39;00m,\n\u001B[0;32m   2116\u001B[0m                   exception_only\u001B[38;5;241m=\u001B[39m\u001B[38;5;28;01mFalse\u001B[39;00m, running_compiled_code\u001B[38;5;241m=\u001B[39m\u001B[38;5;28;01mFalse\u001B[39;00m):\n\u001B[0;32m   2117\u001B[0m \u001B[38;5;250m    \u001B[39m\u001B[38;5;124;03m\"\"\"Display the exception that just occurred.\u001B[39;00m\n\u001B[0;32m   2118\u001B[0m \n\u001B[0;32m   2119\u001B[0m \u001B[38;5;124;03m    If nothing is known about the exception, this is the method which\u001B[39;00m\n\u001B[1;32m   (...)\u001B[0m\n\u001B[0;32m   2125\u001B[0m \u001B[38;5;124;03m    SyntaxError exception, don't try to analyze the stack manually and\u001B[39;00m\n\u001B[0;32m   2126\u001B[0m \u001B[38;5;124;03m    simply call this method.\"\"\"\u001B[39;00m\n\u001B[0;32m   2128\u001B[0m     \u001B[38;5;28;01mtry\u001B[39;00m:\n",
      "\u001B[1;31mKeyboardInterrupt\u001B[0m: "
     ]
    }
   ],
   "execution_count": 26
  }
 ],
 "metadata": {
  "kernelspec": {
   "display_name": "Python 3",
   "language": "python",
   "name": "python3"
  },
  "language_info": {
   "codemirror_mode": {
    "name": "ipython",
    "version": 2
   },
   "file_extension": ".py",
   "mimetype": "text/x-python",
   "name": "python",
   "nbconvert_exporter": "python",
   "pygments_lexer": "ipython2",
   "version": "2.7.6"
  }
 },
 "nbformat": 4,
 "nbformat_minor": 5
}
