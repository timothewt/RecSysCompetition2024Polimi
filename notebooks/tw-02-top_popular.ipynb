{
 "cells": [
  {
   "cell_type": "code",
   "id": "initial_id",
   "metadata": {
    "collapsed": true,
    "ExecuteTime": {
     "end_time": "2024-11-16T16:52:43.686111Z",
     "start_time": "2024-11-16T16:52:42.440898Z"
    }
   },
   "source": [
    "import sys, os\n",
    "\n",
    "import numpy as np\n",
    "import scipy.sparse as sp\n",
    "\n",
    "from src.utils import train_model, write_submission\n",
    "from src.recommender_model import RecommenderModel"
   ],
   "outputs": [],
   "execution_count": 1
  },
  {
   "metadata": {},
   "cell_type": "markdown",
   "source": [
    "# Top Popularity Recommender Model\n",
    "This notebook provides an implementation of a TopPop recommender model."
   ],
   "id": "5056053afe0f6df8"
  },
  {
   "metadata": {},
   "cell_type": "markdown",
   "source": "## TopPop Recommender",
   "id": "132d3562541c771c"
  },
  {
   "metadata": {
    "ExecuteTime": {
     "end_time": "2024-11-16T16:52:43.718495Z",
     "start_time": "2024-11-16T16:52:43.709234Z"
    }
   },
   "cell_type": "code",
   "source": [
    "class TopPop(RecommenderModel):\n",
    "\tdef __init__(self):\n",
    "\t\tsuper(TopPop, self).__init__()\n",
    "\t\tself.urm_train: sp.csr_matrix | None = None\n",
    "\t\tself.items_popularity: np.ndarray | None = None\n",
    "\n",
    "\tdef fit(self, urm: sp.csr_matrix, icm: sp.csr_matrix, val_urm: sp.csr_matrix, progress_bar: bool = True, **kwargs) -> None:\n",
    "\t\tself.urm = urm\n",
    "\t\tself.items_popularity = np.ediff1d(urm.tocsc().indptr)\n",
    "\n",
    "\tdef _get_recommendations_predictions(self, user_id: int) -> np.ndarray:\n",
    "\t\treturn self.items_popularity"
   ],
   "id": "30233109ff7853d6",
   "outputs": [],
   "execution_count": 2
  },
  {
   "metadata": {
    "ExecuteTime": {
     "end_time": "2024-11-16T16:53:12.678257Z",
     "start_time": "2024-11-16T16:52:44.010994Z"
    }
   },
   "cell_type": "code",
   "source": "top_pop_train, _ = train_model(TopPop(), test_size=0.2)",
   "id": "a5e7262c0fc89516",
   "outputs": [
    {
     "name": "stdout",
     "output_type": "stream",
     "text": [
      "MAP@10 evaluation of the TopPop model: 0.00314\n"
     ]
    }
   ],
   "execution_count": 3
  },
  {
   "metadata": {},
   "cell_type": "markdown",
   "source": "For the submission, a model is trained again on the whole dataset, taking advantage of all the data available",
   "id": "9e882d026f37de6c"
  },
  {
   "metadata": {
    "ExecuteTime": {
     "end_time": "2024-11-16T16:53:30.504432Z",
     "start_time": "2024-11-16T16:53:12.782857Z"
    }
   },
   "cell_type": "code",
   "source": [
    "top_pop_submission, _ = train_model(TopPop(), test_size=0)\n",
    "write_submission(top_pop_submission, \"top_pop_submission.csv\")"
   ],
   "id": "2ea440dbb10ade40",
   "outputs": [],
   "execution_count": 4
  },
  {
   "metadata": {},
   "cell_type": "markdown",
   "source": "Submission result: `0.00279`",
   "id": "34bc41bc08a38c3d"
  }
 ],
 "metadata": {
  "kernelspec": {
   "display_name": "Python 3",
   "language": "python",
   "name": "python3"
  },
  "language_info": {
   "codemirror_mode": {
    "name": "ipython",
    "version": 2
   },
   "file_extension": ".py",
   "mimetype": "text/x-python",
   "name": "python",
   "nbconvert_exporter": "python",
   "pygments_lexer": "ipython2",
   "version": "2.7.6"
  }
 },
 "nbformat": 4,
 "nbformat_minor": 5
}
