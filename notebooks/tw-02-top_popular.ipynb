{
 "cells": [
  {
   "cell_type": "code",
   "id": "initial_id",
   "metadata": {
    "collapsed": true
   },
   "source": [
    "import numpy as np\n",
    "import scipy.sparse as sp\n",
    "\n",
    "from src.utils import RecommenderModel, open_data, get_target_users_test, make_submission"
   ],
   "outputs": [],
   "execution_count": null
  },
  {
   "metadata": {},
   "cell_type": "markdown",
   "source": "## Opening the data",
   "id": "c46412f1b4767a3d"
  },
  {
   "metadata": {},
   "cell_type": "code",
   "source": [
    "urm, icm = open_data()\n",
    "urm, icm"
   ],
   "id": "e17b69df55c3254c",
   "outputs": [
    {
     "data": {
      "text/plain": [
       "(<Compressed Sparse Row sparse matrix of dtype 'float64'\n",
       " \twith 1764607 stored elements and shape (35736, 38121)>,\n",
       " <Compressed Sparse Row sparse matrix of dtype 'float64'\n",
       " \twith 2940040 stored elements and shape (38121, 94331)>)"
      ]
     },
     "execution_count": 2,
     "metadata": {},
     "output_type": "execute_result"
    }
   ],
   "execution_count": 2
  },
  {
   "metadata": {
    "ExecuteTime": {
     "end_time": "2024-11-04T09:53:42.583756Z",
     "start_time": "2024-11-04T09:53:42.569366Z"
    }
   },
   "cell_type": "code",
   "source": [
    "target_users = get_target_users_test()\n",
    "target_users"
   ],
   "id": "d699caa4b903dd5a",
   "outputs": [
    {
     "data": {
      "text/plain": [
       "array([    0,     1,     2, ..., 35731, 35734, 35735])"
      ]
     },
     "execution_count": 3,
     "metadata": {},
     "output_type": "execute_result"
    }
   ],
   "execution_count": 3
  },
  {
   "metadata": {},
   "cell_type": "markdown",
   "source": "## Building the Top Recommender model",
   "id": "132d3562541c771c"
  },
  {
   "metadata": {
    "ExecuteTime": {
     "end_time": "2024-11-04T09:53:42.616606Z",
     "start_time": "2024-11-04T09:53:42.610383Z"
    }
   },
   "cell_type": "code",
   "source": [
    "class TopPopRecommender(RecommenderModel):\n",
    "\tdef __init__(self):\n",
    "\t\tsuper(TopPopRecommender, self).__init__()\n",
    "\t\tself.items_popularity_ranking: np.ndarray | None = None\n",
    "\n",
    "\tdef fit(self, urm: sp.csr_matrix) -> None:\n",
    "\t\titems_popularity = np.ediff1d(urm.indptr)\n",
    "\t\tself.items_popularity_ranking = np.argsort(-items_popularity)\n",
    "\n",
    "\tdef recommend(self, user_id: int, at: int = 10) -> np.ndarray:\n",
    "\t\treturn self.items_popularity_ranking[:at]"
   ],
   "id": "a19c771cd23d20d5",
   "outputs": [],
   "execution_count": 4
  },
  {
   "metadata": {
    "ExecuteTime": {
     "end_time": "2024-11-04T09:53:42.631998Z",
     "start_time": "2024-11-04T09:53:42.625533Z"
    }
   },
   "cell_type": "code",
   "source": [
    "top_pop = TopPopRecommender()\n",
    "top_pop.fit(urm)"
   ],
   "id": "a6abdb10bc88f718",
   "outputs": [],
   "execution_count": 5
  },
  {
   "metadata": {},
   "cell_type": "markdown",
   "source": "## Testing the model",
   "id": "598030d35354ebfa"
  },
  {
   "metadata": {
    "ExecuteTime": {
     "end_time": "2024-11-04T09:53:42.866484Z",
     "start_time": "2024-11-04T09:53:42.654517Z"
    }
   },
   "cell_type": "code",
   "source": "make_submission(top_pop, \"top_popular.csv\")",
   "id": "dd8ed647236166d6",
   "outputs": [],
   "execution_count": 6
  }
 ],
 "metadata": {
  "kernelspec": {
   "display_name": "Python 3",
   "language": "python",
   "name": "python3"
  },
  "language_info": {
   "codemirror_mode": {
    "name": "ipython",
    "version": 2
   },
   "file_extension": ".py",
   "mimetype": "text/x-python",
   "name": "python",
   "nbconvert_exporter": "python",
   "pygments_lexer": "ipython2",
   "version": "2.7.6"
  }
 },
 "nbformat": 4,
 "nbformat_minor": 5
}
