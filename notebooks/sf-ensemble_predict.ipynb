{
 "cells": [
  {
   "cell_type": "code",
   "execution_count": 1,
   "id": "ad1951bd-dc3d-4c55-a307-abdee35b2ca9",
   "metadata": {},
   "outputs": [],
   "source": [
    "from pathlib import Path\n",
    "import sys  \n",
    "import os\n",
    "import pandas as pd \n",
    "from datetime import datetime\n",
    "import scipy.sparse as sps\n",
    "from numpy import linalg as LA\n",
    "\n",
    "import numpy as np\n",
    "from operator import itemgetter"
   ]
  },
  {
   "cell_type": "code",
   "execution_count": 2,
   "id": "137f848d-9d43-40ba-9521-dc3a5b53f84b",
   "metadata": {},
   "outputs": [],
   "source": [
    "sys.path.append(os.path.abspath(os.path.join(os.getcwd(), \"..\", \"libs\")))\n",
    "sys.path.append(os.path.abspath(os.path.join(os.getcwd(), \"..\")))\n",
    "sys.path.append(os.path.abspath(os.path.join(os.getcwd(), \"..\", \"src\")))"
   ]
  },
  {
   "cell_type": "code",
   "execution_count": 3,
   "id": "5a5c3ba9-ed8d-44ed-bfad-3b941f230827",
   "metadata": {},
   "outputs": [],
   "source": [
    "%load_ext autoreload\n",
    "%autoreload 2"
   ]
  },
  {
   "cell_type": "code",
   "execution_count": 4,
   "id": "7028de78-376c-422a-aee9-5e306aa6936d",
   "metadata": {},
   "outputs": [],
   "source": [
    "from Utils.load_URM import load_URM\n",
    "from Utils.load_ICM import load_ICM\n",
    "\n",
    "from scipy.sparse import hstack, vstack\n",
    "from Evaluation.Evaluator import EvaluatorHoldout\n",
    "from Data_manager.split_functions.split_train_validation_random_holdout import split_train_in_two_percentage_global_sample\n",
    "\n",
    "URM_all = load_URM(\"../data/data_train.csv\")\n",
    "ICM_all = load_ICM(\"../data/data_ICM_metadata.csv\")"
   ]
  },
  {
   "cell_type": "code",
   "execution_count": 5,
   "id": "0edfe084-e6e9-439f-9716-013c2e9ee8d9",
   "metadata": {},
   "outputs": [],
   "source": [
    "from libs.Recommenders.SLIM.SLIMElasticNetRecommender import SLIMElasticNetRecommender \n",
    "from libs.Recommenders.GraphBased.RP3betaRecommender import RP3betaRecommender\n",
    "from libs.Recommenders.KNN.ItemKNNCFRecommender import ItemKNNCFRecommender\n",
    "from libs.Recommenders.KNN.ItemKNNCustomSimilarityRecommender import ItemKNNCustomSimilarityRecommender"
   ]
  },
  {
   "cell_type": "code",
   "execution_count": 14,
   "id": "ebd5ba16-af4a-4803-aa55-07d9f8bb0bf2",
   "metadata": {},
   "outputs": [],
   "source": [
    "def AP(recommended_items, relevant_items):\n",
    "   \n",
    "    is_relevant = np.in1d(recommended_items, relevant_items, assume_unique=True)\n",
    "    \n",
    "    # Cumulative sum: precision at 1, at 2, at 3 ...\n",
    "    p_at_k = is_relevant * np.cumsum(is_relevant, dtype=np.float32) / (1 + np.arange(is_relevant.shape[0]))\n",
    "    ap_score = np.sum(p_at_k) / np.min([relevant_items.shape[0], is_relevant.shape[0]])\n",
    "\n",
    "    return ap_score"
   ]
  },
  {
   "cell_type": "code",
   "execution_count": 15,
   "id": "19315560-6d1c-4a66-8aab-b4bf383181a5",
   "metadata": {},
   "outputs": [],
   "source": [
    "# We pass as paramether the recommender class\n",
    "\n",
    "def evaluate_algorithm(URM_test, recommender_object, at=10):\n",
    "    \n",
    "    #cumulative_precision = 0.0\n",
    "    #cumulative_recall = 0.0\n",
    "    cumulative_AP = 0.0\n",
    "    \n",
    "    num_eval = 0\n",
    "\n",
    "\n",
    "    for user_id in range(URM_test.shape[0]):\n",
    "\n",
    "        relevant_items = URM_test.indices[URM_test.indptr[user_id]:URM_test.indptr[user_id+1]]\n",
    "        \n",
    "        if len(relevant_items)>0:\n",
    "            \n",
    "            recommended_items = recommender_object.recommend(user_id, cutoff=at)\n",
    "            num_eval+=1\n",
    "\n",
    "            #cumulative_precision += precision(recommended_items, relevant_items)\n",
    "            #cumulative_recall += recall(recommended_items, relevant_items)\n",
    "            cumulative_AP += AP(recommended_items, relevant_items)\n",
    "            \n",
    "    #cumulative_precision /= num_eval\n",
    "    #cumulative_recall /= num_eval\n",
    "    MAP = cumulative_AP / num_eval\n",
    "    \n",
    "    return MAP\n"
   ]
  },
  {
   "cell_type": "code",
   "execution_count": 13,
   "id": "5d11c9c8-31be-487b-866a-45503ae6756c",
   "metadata": {},
   "outputs": [],
   "source": [
    "URM_train = sps.load_npz('URM_train.npz')\n",
    "URM_validation = sps.load_npz('URM_validation.npz')"
   ]
  },
  {
   "cell_type": "code",
   "execution_count": 7,
   "id": "fa5fda94-dd0a-4d5e-b22f-55c62f2c8a5a",
   "metadata": {},
   "outputs": [],
   "source": [
    "# evaluator_validation = EvaluatorHoldout(URM_validation, cutoff_list=[10])"
   ]
  },
  {
   "cell_type": "code",
   "execution_count": 8,
   "id": "da07c140-f26e-4f52-93b3-17770898b0bc",
   "metadata": {},
   "outputs": [
    {
     "name": "stdout",
     "output_type": "stream",
     "text": [
      "SLIMElasticNetRecommender: Loading model from file 'result_experiments/SLIM/slim_300_2_weights'\n",
      "SLIMElasticNetRecommender: Loading complete\n"
     ]
    }
   ],
   "source": [
    "slim_model_all = SLIMElasticNetRecommender(URM_all)\n",
    "slim_model_all.load_model('result_experiments/SLIM/', 'slim_300_2_weights')"
   ]
  },
  {
   "cell_type": "code",
   "execution_count": 17,
   "id": "f5ea17c1-d177-4d33-be88-8ff36cb157cc",
   "metadata": {},
   "outputs": [
    {
     "name": "stdout",
     "output_type": "stream",
     "text": [
      "SLIMElasticNetRecommender: Loading model from file 'result_experiments/SLIM/slim_300_2_weights'\n",
      "SLIMElasticNetRecommender: Loading complete\n"
     ]
    }
   ],
   "source": [
    "slim_model_buff = SLIMElasticNetRecommender(URM_all)\n",
    "slim_model_buff.load_model('result_experiments/SLIM/', 'slim_300_2_weights')"
   ]
  },
  {
   "cell_type": "code",
   "execution_count": 18,
   "id": "1049071f-df81-422f-8143-f949ab0e4afb",
   "metadata": {},
   "outputs": [
    {
     "data": {
      "text/plain": [
       "True"
      ]
     },
     "execution_count": 18,
     "metadata": {},
     "output_type": "execute_result"
    }
   ],
   "source": [
    "(slim_model_all.W_sparse != slim_model_buff.W_sparse).nnz==0 "
   ]
  },
  {
   "cell_type": "code",
   "execution_count": 25,
   "id": "6bcee3be-92dd-48d2-8041-8db6d7c8797a",
   "metadata": {},
   "outputs": [
    {
     "data": {
      "text/plain": [
       "0.0"
      ]
     },
     "execution_count": 25,
     "metadata": {},
     "output_type": "execute_result"
    }
   ],
   "source": [
    "evaluate_algorithm(URM_validation, slim_model_all)"
   ]
  },
  {
   "cell_type": "code",
   "execution_count": 9,
   "id": "a62654f6-dc1b-4bec-b792-6ae3bd9915eb",
   "metadata": {},
   "outputs": [
    {
     "name": "stdout",
     "output_type": "stream",
     "text": [
      "RP3betaRecommender: Loading model from file 'result_experiments/RP3beta/rp3beta_10_weights'\n",
      "RP3betaRecommender: Loading complete\n"
     ]
    }
   ],
   "source": [
    "rp3_beta_all = RP3betaRecommender(URM_all)\n",
    "rp3_beta_all.load_model('result_experiments/RP3beta/', 'rp3beta_10_weights')"
   ]
  },
  {
   "cell_type": "code",
   "execution_count": 29,
   "id": "6954cfd9-29ef-41af-a977-5e96789f411f",
   "metadata": {},
   "outputs": [
    {
     "data": {
      "text/plain": [
       "0.0"
      ]
     },
     "execution_count": 29,
     "metadata": {},
     "output_type": "execute_result"
    }
   ],
   "source": [
    "evaluate_algorithm(URM_validation, rp3_beta_all)"
   ]
  },
  {
   "cell_type": "code",
   "execution_count": 10,
   "id": "4931a082-1435-4eb5-9239-389a6d70fe2f",
   "metadata": {},
   "outputs": [
    {
     "name": "stdout",
     "output_type": "stream",
     "text": [
      "ItemKNNCFRecommender: Loading model from file 'result_experiments/ItemKNNCFRecommender/ItemKNNCF_5_weights'\n",
      "ItemKNNCFRecommender: Loading complete\n"
     ]
    }
   ],
   "source": [
    "ItemKNNCF_all = ItemKNNCFRecommender(URM_all)\n",
    "ItemKNNCF_all.load_model(\"result_experiments/ItemKNNCFRecommender/\", \"ItemKNNCF_5_weights\")"
   ]
  },
  {
   "cell_type": "code",
   "execution_count": 32,
   "id": "551902d8-423f-45ca-b205-50e0f88312ab",
   "metadata": {},
   "outputs": [
    {
     "data": {
      "text/plain": [
       "0.0"
      ]
     },
     "execution_count": 32,
     "metadata": {},
     "output_type": "execute_result"
    }
   ],
   "source": [
    "evaluate_algorithm(URM_validation, ItemKNNCF_all)"
   ]
  },
  {
   "cell_type": "code",
   "execution_count": 11,
   "id": "e4fe9e65-abd2-44a5-8387-e13915f921b9",
   "metadata": {},
   "outputs": [],
   "source": [
    "#new_similarity = 0.7963351700386568 * slim_model_all.W_sparse + 0.05677318666537923 * rp3_beta_all.W_sparse + 0.171828939868 * ItemKNNCF_all.W_sparse\n",
    "#new_similarity = 0.00013801449258364696 * slim_model_all.W_sparse + 0.9998467429232237 * rp3_beta_all.W_sparse + 1.5242584192611179e-05 * ItemKNNCF_all.W_sparse\n",
    "new_similarity = 0.48676074557629584 * slim_model_all.W_sparse + 0.5131741952410963 * rp3_beta_all.W_sparse + 6.505918260791844e-05 * ItemKNNCF_all.W_sparse\n",
    "recommender_object_all = ItemKNNCustomSimilarityRecommender(URM_all)\n",
    "recommender_object_all.fit(new_similarity)"
   ]
  },
  {
   "cell_type": "code",
   "execution_count": 34,
   "id": "63eed504-469c-49e1-9d53-5a765f41ec1b",
   "metadata": {},
   "outputs": [
    {
     "name": "stdout",
     "output_type": "stream",
     "text": [
      "ItemKNNCustomSimilarityRecommender: Saving model in file 'result_experiments/ensemble_SLIM_RP3_KNNCFR/ensemble_weights'\n",
      "ItemKNNCustomSimilarityRecommender: Saving complete\n"
     ]
    }
   ],
   "source": [
    "recommender_object_all.save_model(\"result_experiments/ensemble_SLIM_RP3_KNNCFR/\", \"ensemble_weights\")"
   ]
  },
  {
   "cell_type": "code",
   "execution_count": 35,
   "id": "fc983c40-d00e-457a-b44f-e0070ad8500b",
   "metadata": {},
   "outputs": [],
   "source": [
    "# recommender_object_all = ItemKNNCustomSimilarityRecommender(URM_train)\n",
    "# recommender_object_all.load_model(\"result_experiments/ensemble_SLIM_RP3_KNNCFR/\", \"ensemble_weights\")"
   ]
  },
  {
   "cell_type": "code",
   "execution_count": 16,
   "id": "f1da0041-96fa-4291-a47a-f27f273a66b9",
   "metadata": {},
   "outputs": [
    {
     "data": {
      "text/plain": [
       "0.0"
      ]
     },
     "execution_count": 16,
     "metadata": {},
     "output_type": "execute_result"
    }
   ],
   "source": [
    "evaluate_algorithm(URM_validation, recommender_object_all)"
   ]
  },
  {
   "cell_type": "code",
   "execution_count": 17,
   "id": "2c95f0aa-672a-4efa-bb45-7ca21380b82f",
   "metadata": {},
   "outputs": [],
   "source": [
    "def write_submission_lib_model(trained_model, filename: str = \"submission.csv\") -> None:\n",
    "\t\"\"\"Builds the submission file from a trained recommender model. The file is saved in a CSV format.\n",
    "\n",
    "\t:param trained_model: A fitted recommender model\n",
    "\t:type trained_model: RecommenderModel\n",
    "\t:param filename: The filename of the submission for this particular recommender model\n",
    "\t:type filename: str\n",
    "\t\"\"\"\n",
    "\ttarget_users_test = pd.read_csv(\"../data/data_target_users_test.csv\",).to_numpy().ravel()\n",
    "\n",
    "\trecommendations = np.array([\n",
    "\t\ttrained_model.recommend(user_id, cutoff=10) for user_id in target_users_test\n",
    "\t])\n",
    "\n",
    "\tif not os.path.exists(\"../submissions\"):\n",
    "\t\tos.makedirs(\"../submissions\")\n",
    "\twith open(f\"../submissions/{filename}\", \"w\") as f:\n",
    "\t\tf.write(\"user_id,item_list\\n\")\n",
    "\t\tfor user_id, recs in zip(target_users_test, recommendations):\n",
    "\t\t\tf.write(f\"{user_id},{' '.join(map(str, recs))}\\n\")"
   ]
  },
  {
   "cell_type": "code",
   "execution_count": 18,
   "id": "646f537b-9eb7-402b-9cdb-e469664a6fd9",
   "metadata": {},
   "outputs": [],
   "source": [
    "write_submission_lib_model(recommender_object_all, \"ensemble_SLIM_RP3_KNNCF_5.csv\")"
   ]
  },
  {
   "cell_type": "code",
   "execution_count": 19,
   "id": "a2b90643-ee68-494a-ae1c-b4b3f8ff3294",
   "metadata": {},
   "outputs": [
    {
     "data": {
      "text/plain": [
       "[23253, 17532, 6822, 11300, 11307, 16350, 13279, 19055, 10468, 16327]"
      ]
     },
     "execution_count": 19,
     "metadata": {},
     "output_type": "execute_result"
    }
   ],
   "source": [
    "recommender_object_all.recommend(100, cutoff=10)"
   ]
  },
  {
   "cell_type": "code",
   "execution_count": 37,
   "id": "d7569865-9dfd-4132-9588-20d046edacfd",
   "metadata": {},
   "outputs": [
    {
     "name": "stdout",
     "output_type": "stream",
     "text": [
      "ItemKNNCustomSimilarityRecommender: Loading model from file 'result_experiments/ensemble_SLIM_RP3_KNNCFR/ensemble_weights'\n",
      "ItemKNNCustomSimilarityRecommender: Loading complete\n"
     ]
    }
   ],
   "source": [
    "recommender_object_all = ItemKNNCustomSimilarityRecommender(URM_all)\n",
    "recommender_object_all.load_model(\"result_experiments/ensemble_SLIM_RP3_KNNCFR/\", \"ensemble_weights\")"
   ]
  },
  {
   "cell_type": "code",
   "execution_count": 38,
   "id": "e75937d0-ee90-4921-add0-a9b99cfdad45",
   "metadata": {},
   "outputs": [
    {
     "data": {
      "text/plain": [
       "[23253, 17532, 6822, 23215, 11307, 13279, 23225, 23190, 11300, 18217]"
      ]
     },
     "execution_count": 38,
     "metadata": {},
     "output_type": "execute_result"
    }
   ],
   "source": [
    "recommender_object_all.recommend(100, cutoff=10)"
   ]
  },
  {
   "cell_type": "code",
   "execution_count": 40,
   "id": "4df174ef-5d29-4301-9535-f8d5e59bf005",
   "metadata": {},
   "outputs": [
    {
     "name": "stdout",
     "output_type": "stream",
     "text": [
      "ItemKNNCustomSimilarityRecommender: Loading model from file 'result_experiments/ensemble_SLIM_RP3_KNNCFR/ensemble_weights'\n",
      "ItemKNNCustomSimilarityRecommender: Loading complete\n"
     ]
    }
   ],
   "source": [
    "recommender_object_train = ItemKNNCustomSimilarityRecommender(URM_train)\n",
    "recommender_object_train.load_model(\"result_experiments/ensemble_SLIM_RP3_KNNCFR/\", \"ensemble_weights\")"
   ]
  },
  {
   "cell_type": "code",
   "execution_count": 41,
   "id": "04858ef1-69fe-4c08-bdba-a5df9026ef0f",
   "metadata": {},
   "outputs": [
    {
     "data": {
      "text/plain": [
       "[16310, 23253, 17532, 6822, 29025, 23215, 11307, 11300, 18217, 23277]"
      ]
     },
     "execution_count": 41,
     "metadata": {},
     "output_type": "execute_result"
    }
   ],
   "source": [
    "recommender_object_train.recommend(100, cutoff=10)"
   ]
  },
  {
   "cell_type": "code",
   "execution_count": null,
   "id": "3bc5124b-8056-4808-bb08-41ee7f4ccba4",
   "metadata": {},
   "outputs": [],
   "source": []
  }
 ],
 "metadata": {
  "kernelspec": {
   "display_name": "RecSys",
   "language": "python",
   "name": "recsys"
  },
  "language_info": {
   "codemirror_mode": {
    "name": "ipython",
    "version": 3
   },
   "file_extension": ".py",
   "mimetype": "text/x-python",
   "name": "python",
   "nbconvert_exporter": "python",
   "pygments_lexer": "ipython3",
   "version": "3.12.7"
  }
 },
 "nbformat": 4,
 "nbformat_minor": 5
}
