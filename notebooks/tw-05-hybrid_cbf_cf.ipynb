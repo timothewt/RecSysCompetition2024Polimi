{
 "cells": [
  {
   "cell_type": "code",
   "execution_count": 10,
   "id": "initial_id",
   "metadata": {
    "ExecuteTime": {
     "end_time": "2024-11-05T14:44:30.526367Z",
     "start_time": "2024-11-05T14:44:30.520211Z"
    },
    "editable": true,
    "slideshow": {
     "slide_type": ""
    },
    "tags": []
   },
   "outputs": [],
   "source": [
    "import numpy as np\n",
    "import scipy.sparse as sp\n",
    "import sys\n",
    "import os"
   ]
  },
  {
   "cell_type": "code",
   "execution_count": 11,
   "id": "39686b3b-8a68-4a89-9eef-f001d33cdf4e",
   "metadata": {},
   "outputs": [],
   "source": [
    "sys.path.append(os.path.abspath(os.path.join(os.getcwd(), \"..\", \"libs\")))\n",
    "sys.path.append(os.path.abspath(os.path.join(os.getcwd(), \"..\")))\n",
    "sys.path.append(os.path.abspath(os.path.join(os.getcwd(), \"..\", \"src\")))"
   ]
  },
  {
   "cell_type": "code",
   "execution_count": 12,
   "id": "e01355f0-73df-4a33-9bc7-8fd563d48c95",
   "metadata": {},
   "outputs": [],
   "source": [
    "from src.algorithms import UserBasedCF, ItemBasedCF, CBF\n",
    "from src.recommender_model import RecommenderModel\n",
    "from src.utils import tf_idf, train_model, write_submission"
   ]
  },
  {
   "cell_type": "markdown",
   "id": "8b8b066c7e7d2784",
   "metadata": {},
   "source": [
    "# Hybrid Model: Content-Based Filtering and Collaborative Filtering\n",
    "This notebook provides a simple hybrid model taking advantage of several filtering methods that uses similarity between users/items/features."
   ]
  },
  {
   "cell_type": "code",
   "execution_count": 13,
   "id": "e9735ea67a6143b3",
   "metadata": {
    "ExecuteTime": {
     "end_time": "2024-11-05T14:44:34.493921Z",
     "start_time": "2024-11-05T14:44:34.480264Z"
    }
   },
   "outputs": [],
   "source": [
    "class HybridCBFCF(RecommenderModel):\n",
    "\tdef __init__(self, ubcf_coeff: float, ibcf_coeff: float, cbf_coeff: float):\n",
    "\t\tsuper(HybridCBFCF, self).__init__()\n",
    "\t\tself.ubcf = UserBasedCF()\n",
    "\t\tself.ibcf = ItemBasedCF()\n",
    "\t\tself.cbf = CBF()\n",
    "\n",
    "\t\tself.ubcf_coeff = ubcf_coeff\n",
    "\t\tself.ibcf_coeff = ibcf_coeff\n",
    "\t\tself.cbf_coeff = cbf_coeff\n",
    "\n",
    "\tdef fit(self, urm: sp.csr_matrix, icm: sp.csr_matrix) -> None:\n",
    "\t\tself.urm = urm\n",
    "\t\tself.icm = icm\n",
    "\n",
    "\t\tself.ubcf.fit(urm, icm)\n",
    "\t\tself.ibcf.fit(urm, icm)\n",
    "\t\tself.cbf.fit(urm, icm)\n",
    "\n",
    "\tdef _get_recommendations_predictions(self, user_id: int) -> np.ndarray:\n",
    "\t\treturn (\n",
    "\t\t\tself.ubcf_coeff * self.ubcf._get_recommendations_predictions(user_id) +\n",
    "\t\t\tself.ibcf_coeff * self.ibcf._get_recommendations_predictions(user_id) +\n",
    "\t\t\tself.cbf_coeff * self.cbf._get_recommendations_predictions(user_id)\n",
    "        )"
   ]
  },
  {
   "cell_type": "code",
   "execution_count": 14,
   "id": "d7ee540dbb239f5c",
   "metadata": {
    "ExecuteTime": {
     "start_time": "2024-11-05T14:51:25.570662Z"
    },
    "jupyter": {
     "is_executing": true
    }
   },
   "outputs": [
    {
     "name": "stdout",
     "output_type": "stream",
     "text": [
      "Unable to load Cython Compute_Similarity, reverting to Python\n",
      "Similarity column 35736 (100.0%), 1810.96 column/sec. Elapsed time 19.73 sec\n",
      "Unable to load Cython Compute_Similarity, reverting to Python\n",
      "Similarity column 38121 (100.0%), 1764.59 column/sec. Elapsed time 21.60 sec\n",
      "Unable to load Cython Compute_Similarity, reverting to Python\n"
     ]
    },
    {
     "name": "stderr",
     "output_type": "stream",
     "text": [
      "\n",
      "KeyboardInterrupt\n",
      "\n"
     ]
    }
   ],
   "source": [
    "hybrid_cbf_cb = train_model(HybridCBFCF(1, .5, .2))"
   ]
  },
  {
   "cell_type": "code",
   "execution_count": 15,
   "id": "ea53b2664c1d53f5",
   "metadata": {},
   "outputs": [
    {
     "name": "stdout",
     "output_type": "stream",
     "text": [
      "Unable to load Cython Compute_Similarity, reverting to Python\n",
      "Similarity column 35736 (100.0%), 1573.03 column/sec. Elapsed time 22.72 sec\n",
      "Unable to load Cython Compute_Similarity, reverting to Python\n",
      "Similarity column 38121 (100.0%), 1565.54 column/sec. Elapsed time 24.35 sec\n",
      "Unable to load Cython Compute_Similarity, reverting to Python\n",
      "Similarity column 38121 (100.0%), 1016.95 column/sec. Elapsed time 37.49 sec\n"
     ]
    }
   ],
   "source": [
    "hybrid_cbf_cb_submission = train_model(HybridCBFCF(1, .5, .2), test_size=0)"
   ]
  },
  {
   "cell_type": "code",
   "execution_count": 17,
   "id": "d9a37278-ba08-4496-93ca-9299b19865a3",
   "metadata": {},
   "outputs": [
    {
     "ename": "TypeError",
     "evalue": "HybridCBFCF._get_recommendations_predictions() missing 1 required positional argument: 'user_id'",
     "output_type": "error",
     "traceback": [
      "\u001b[0;31m---------------------------------------------------------------------------\u001b[0m",
      "\u001b[0;31mTypeError\u001b[0m                                 Traceback (most recent call last)",
      "Cell \u001b[0;32mIn[17], line 1\u001b[0m\n\u001b[0;32m----> 1\u001b[0m hybrid_cbf_cb_submission\u001b[38;5;241m.\u001b[39m_get_recommendations_predictions()\n",
      "\u001b[0;31mTypeError\u001b[0m: HybridCBFCF._get_recommendations_predictions() missing 1 required positional argument: 'user_id'"
     ]
    }
   ],
   "source": [
    "hybrid_cbf_cb_submission._get_recommendations_predictions()"
   ]
  },
  {
   "cell_type": "code",
   "execution_count": null,
   "id": "3f718d50-f138-4783-a50b-2eff07cc51b8",
   "metadata": {},
   "outputs": [],
   "source": [
    "write_submission(hybrid_cbf_cb_submission, \"hybrid_cbf_cb_submission.csv\")"
   ]
  }
 ],
 "metadata": {
  "kernelspec": {
   "display_name": "RecSys",
   "language": "python",
   "name": "recsys"
  },
  "language_info": {
   "codemirror_mode": {
    "name": "ipython",
    "version": 3
   },
   "file_extension": ".py",
   "mimetype": "text/x-python",
   "name": "python",
   "nbconvert_exporter": "python",
   "pygments_lexer": "ipython3",
   "version": "3.12.7"
  }
 },
 "nbformat": 4,
 "nbformat_minor": 5
}
