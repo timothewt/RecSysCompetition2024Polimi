{
 "cells": [
  {
   "cell_type": "code",
   "id": "initial_id",
   "metadata": {
    "collapsed": true,
    "ExecuteTime": {
     "end_time": "2024-11-05T14:44:30.526367Z",
     "start_time": "2024-11-05T14:44:30.520211Z"
    }
   },
   "source": [
    "import numpy as np\n",
    "import scipy.sparse as sp\n",
    "\n",
    "from src.algorithms import UserBasedCF, ItemBasedCF, CBF\n",
    "from src.recommender_model import RecommenderModel\n",
    "from src.utils import tf_idf, train_model, write_submission"
   ],
   "outputs": [],
   "execution_count": 5
  },
  {
   "metadata": {},
   "cell_type": "markdown",
   "source": [
    "# Hybrid Model: Content-Based Filtering and Collaborative Filtering\n",
    "This notebook provides a simple hybrid model taking advantage of several filtering methods that uses similarity between users/items/features."
   ],
   "id": "8b8b066c7e7d2784"
  },
  {
   "metadata": {
    "ExecuteTime": {
     "end_time": "2024-11-05T14:44:34.493921Z",
     "start_time": "2024-11-05T14:44:34.480264Z"
    }
   },
   "cell_type": "code",
   "source": [
    "class HybridCBFCF(RecommenderModel):\n",
    "\tdef __init__(self, ubcf_coeff: float, ibcf_coeff: float, cbf_coeff: float):\n",
    "\t\tsuper(HybridCBFCF, self).__init__()\n",
    "\t\tself.ubcf = UserBasedCF()\n",
    "\t\tself.ibcf = ItemBasedCF()\n",
    "\t\tself.cbf = CBF()\n",
    "\n",
    "\t\tself.ubcf_coeff = ubcf_coeff\n",
    "\t\tself.ibcf_coeff = ibcf_coeff\n",
    "\t\tself.cbf_coeff = cbf_coeff\n",
    "\n",
    "\tdef fit(self, urm: sp.csr_matrix, icm: sp.csr_matrix) -> None:\n",
    "\t\tself.urm = urm\n",
    "\t\tself.icm = icm\n",
    "\n",
    "\t\tself.ubcf.fit(urm, icm)\n",
    "\t\tself.ibcf.fit(urm, icm)\n",
    "\t\tself.cbf.fit(urm, icm)\n",
    "\n",
    "\tdef _get_recommendations_predictions(self, user_id: int) -> np.ndarray:\n",
    "\t\treturn (\n",
    "\t\t\tself.ubcf_coeff * self.ubcf._get_recommendations_predictions(user_id) +\n",
    "\t\t\tself.ibcf_coeff * self.ibcf._get_recommendations_predictions(user_id) +\n",
    "\t\t\tself.cbf_coeff * self.cbf._get_recommendations_predictions(user_id)\n",
    "        )"
   ],
   "id": "e9735ea67a6143b3",
   "outputs": [],
   "execution_count": 7
  },
  {
   "metadata": {
    "jupyter": {
     "is_executing": true
    },
    "ExecuteTime": {
     "start_time": "2024-11-05T14:51:25.570662Z"
    }
   },
   "cell_type": "code",
   "source": "hybrid_cbf_cb = train_model(HybridCBFCF(1, .5, .2))",
   "id": "d7ee540dbb239f5c",
   "outputs": [
    {
     "name": "stdout",
     "output_type": "stream",
     "text": [
      "Unable to load Cython Compute_Similarity, reverting to Python\n",
      "Similarity column 35736 (100.0%), 503.68 column/sec. Elapsed time 1.18 min\n",
      "Unable to load Cython Compute_Similarity, reverting to Python\n",
      "Similarity column 38121 (100.0%), 549.96 column/sec. Elapsed time 1.16 min\n",
      "Unable to load Cython Compute_Similarity, reverting to Python\n",
      "Similarity column 38121 (100.0%), 384.54 column/sec. Elapsed time 1.65 min\n"
     ]
    }
   ],
   "execution_count": null
  },
  {
   "metadata": {},
   "cell_type": "code",
   "outputs": [],
   "execution_count": null,
   "source": [
    "hybrid_cbf_cb_submission = train_model(HybridCBFCF(1, .5, .2), test_size=0)\n",
    "write_submission(hybrid_cbf_cb_submission, \"hybrid_cbf_cb_submission.csv\")"
   ],
   "id": "ea53b2664c1d53f5"
  }
 ],
 "metadata": {
  "kernelspec": {
   "display_name": "Python 3",
   "language": "python",
   "name": "python3"
  },
  "language_info": {
   "codemirror_mode": {
    "name": "ipython",
    "version": 2
   },
   "file_extension": ".py",
   "mimetype": "text/x-python",
   "name": "python",
   "nbconvert_exporter": "python",
   "pygments_lexer": "ipython2",
   "version": "2.7.6"
  }
 },
 "nbformat": 4,
 "nbformat_minor": 5
}
