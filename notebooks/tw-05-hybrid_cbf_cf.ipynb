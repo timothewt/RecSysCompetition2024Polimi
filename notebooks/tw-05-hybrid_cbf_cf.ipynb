{
 "cells": [
  {
   "cell_type": "code",
   "id": "initial_id",
   "metadata": {
    "editable": true,
    "slideshow": {
     "slide_type": ""
    },
    "tags": [],
    "ExecuteTime": {
     "end_time": "2024-11-16T17:12:33.521729Z",
     "start_time": "2024-11-16T17:12:33.041122Z"
    }
   },
   "source": [
    "import numpy as np\n",
    "import scipy.sparse as sp\n",
    "\n",
    "from src.algorithms import UserBasedCF, ItemBasedCF, CBF\n",
    "from src.recommender_model import RecommenderModel\n",
    "from src.utils import train_model, write_submission"
   ],
   "outputs": [],
   "execution_count": 1
  },
  {
   "cell_type": "markdown",
   "id": "8b8b066c7e7d2784",
   "metadata": {},
   "source": [
    "# Hybrid Model: Content-Based Filtering and Collaborative Filtering\n",
    "This notebook provides a simple hybrid model taking advantage of several filtering methods that uses similarity between users/items/features."
   ]
  },
  {
   "cell_type": "code",
   "id": "e9735ea67a6143b3",
   "metadata": {
    "ExecuteTime": {
     "end_time": "2024-11-16T17:12:33.531912Z",
     "start_time": "2024-11-16T17:12:33.527374Z"
    }
   },
   "source": [
    "class HybridCBFCF(RecommenderModel):\n",
    "\tdef __init__(self, ubcf_coeff: float, ibcf_coeff: float, cbf_coeff: float):\n",
    "\t\tsuper(HybridCBFCF, self).__init__()\n",
    "\t\tself.ubcf = UserBasedCF()\n",
    "\t\tself.ibcf = ItemBasedCF()\n",
    "\t\tself.cbf = CBF()\n",
    "\n",
    "\t\tself.ubcf_coeff = ubcf_coeff\n",
    "\t\tself.ibcf_coeff = ibcf_coeff\n",
    "\t\tself.cbf_coeff = cbf_coeff\n",
    "\n",
    "\tdef fit(self, urm: sp.csr_matrix, icm: sp.csr_matrix, urm_val: sp.csr_matrix, progress_bar: bool = True, **kwargs) -> None:\n",
    "\t\tself.urm = urm\n",
    "\t\tself.icm = icm\n",
    "\n",
    "\t\tself.ubcf.fit(urm, icm, urm_val, **kwargs)\n",
    "\t\tself.ibcf.fit(urm, icm, urm_val, **kwargs)\n",
    "\t\tself.cbf.fit(urm, icm, urm_val, **kwargs)\n",
    "\n",
    "\tdef _get_recommendations_predictions(self, user_id: int) -> np.ndarray:\n",
    "\t\treturn (\n",
    "\t\t\tself.ubcf_coeff * self.ubcf._get_recommendations_predictions(user_id) +\n",
    "\t\t\tself.ibcf_coeff * self.ibcf._get_recommendations_predictions(user_id) +\n",
    "\t\t\tself.cbf_coeff * self.cbf._get_recommendations_predictions(user_id)\n",
    "        )"
   ],
   "outputs": [],
   "execution_count": 2
  },
  {
   "cell_type": "code",
   "id": "d7ee540dbb239f5c",
   "metadata": {
    "ExecuteTime": {
     "end_time": "2024-11-16T17:13:53.011042Z",
     "start_time": "2024-11-16T17:12:33.622126Z"
    }
   },
   "source": "hybrid_cbf_cb, _ = train_model(HybridCBFCF(1, .5, .2))",
   "outputs": [
    {
     "name": "stdout",
     "output_type": "stream",
     "text": [
      "Similarity column 35736 (100.0%), 6427.27 column/sec. Elapsed time 5.56 sec\n",
      "Similarity column 38121 (100.0%), 6050.63 column/sec. Elapsed time 6.30 sec\n",
      "Similarity column 38121 (100.0%), 1191.52 column/sec. Elapsed time 31.99 sec\n",
      "MAP@10 evaluation of the HybridCBFCF model: 0.05595\n"
     ]
    }
   ],
   "execution_count": 3
  },
  {
   "cell_type": "code",
   "id": "ea53b2664c1d53f5",
   "metadata": {
    "ExecuteTime": {
     "end_time": "2024-11-16T17:15:15.019899Z",
     "start_time": "2024-11-16T17:13:53.080184Z"
    }
   },
   "source": [
    "hybrid_cbf_cb_submission, _ = train_model(HybridCBFCF(1, .5, .2), test_size=0)\n",
    "write_submission(hybrid_cbf_cb_submission, \"hybrid_cbf_cb_submission.csv\")"
   ],
   "outputs": [
    {
     "name": "stdout",
     "output_type": "stream",
     "text": [
      "Similarity column 35736 (100.0%), 5853.93 column/sec. Elapsed time 6.10 sec\n",
      "Similarity column 38121 (100.0%), 5343.27 column/sec. Elapsed time 7.13 sec\n",
      "Similarity column 38121 (100.0%), 1146.35 column/sec. Elapsed time 33.25 sec\n"
     ]
    }
   ],
   "execution_count": 4
  },
  {
   "metadata": {},
   "cell_type": "markdown",
   "source": "Submission result: `0.05768`",
   "id": "38f1639c30d94cc2"
  }
 ],
 "metadata": {
  "kernelspec": {
   "display_name": "Python 3 (ipykernel)",
   "language": "python",
   "name": "python3"
  },
  "language_info": {
   "codemirror_mode": {
    "name": "ipython",
    "version": 3
   },
   "file_extension": ".py",
   "mimetype": "text/x-python",
   "name": "python",
   "nbconvert_exporter": "python",
   "pygments_lexer": "ipython3",
   "version": "3.12.7"
  }
 },
 "nbformat": 4,
 "nbformat_minor": 5
}
