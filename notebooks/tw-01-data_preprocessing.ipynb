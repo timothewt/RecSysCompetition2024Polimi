{
 "cells": [
  {
   "cell_type": "code",
   "id": "initial_id",
   "metadata": {
    "collapsed": true,
    "ExecuteTime": {
     "end_time": "2024-11-04T08:43:36.257247Z",
     "start_time": "2024-11-04T08:43:33.455561Z"
    }
   },
   "source": [
    "import pandas as pd\n",
    "import scipy.sparse as sp"
   ],
   "outputs": [],
   "execution_count": 1
  },
  {
   "metadata": {
    "ExecuteTime": {
     "end_time": "2024-11-04T08:43:38.608775Z",
     "start_time": "2024-11-04T08:43:36.279265Z"
    }
   },
   "cell_type": "code",
   "source": [
    "train = pd.read_csv(\"../data/data_train.csv\")\n",
    "ICM_metadata = pd.read_csv(\"../data/data_ICM_metadata.csv\")"
   ],
   "id": "3e9c9b654f3d0124",
   "outputs": [],
   "execution_count": 2
  },
  {
   "metadata": {
    "ExecuteTime": {
     "end_time": "2024-11-04T08:43:39.573238Z",
     "start_time": "2024-11-04T08:43:39.537945Z"
    }
   },
   "cell_type": "code",
   "source": "train.head()",
   "id": "42a01cb5bc1c883a",
   "outputs": [
    {
     "data": {
      "text/plain": [
       "   item_id  feature_id  data\n",
       "0     2519           0   1.0\n",
       "1     2642           0   1.0\n",
       "2     3316           0   1.0\n",
       "3     3400           0   1.0\n",
       "4     3472           0   1.0"
      ],
      "text/html": [
       "<div>\n",
       "<style scoped>\n",
       "    .dataframe tbody tr th:only-of-type {\n",
       "        vertical-align: middle;\n",
       "    }\n",
       "\n",
       "    .dataframe tbody tr th {\n",
       "        vertical-align: top;\n",
       "    }\n",
       "\n",
       "    .dataframe thead th {\n",
       "        text-align: right;\n",
       "    }\n",
       "</style>\n",
       "<table border=\"1\" class=\"dataframe\">\n",
       "  <thead>\n",
       "    <tr style=\"text-align: right;\">\n",
       "      <th></th>\n",
       "      <th>item_id</th>\n",
       "      <th>feature_id</th>\n",
       "      <th>data</th>\n",
       "    </tr>\n",
       "  </thead>\n",
       "  <tbody>\n",
       "    <tr>\n",
       "      <th>0</th>\n",
       "      <td>2519</td>\n",
       "      <td>0</td>\n",
       "      <td>1.0</td>\n",
       "    </tr>\n",
       "    <tr>\n",
       "      <th>1</th>\n",
       "      <td>2642</td>\n",
       "      <td>0</td>\n",
       "      <td>1.0</td>\n",
       "    </tr>\n",
       "    <tr>\n",
       "      <th>2</th>\n",
       "      <td>3316</td>\n",
       "      <td>0</td>\n",
       "      <td>1.0</td>\n",
       "    </tr>\n",
       "    <tr>\n",
       "      <th>3</th>\n",
       "      <td>3400</td>\n",
       "      <td>0</td>\n",
       "      <td>1.0</td>\n",
       "    </tr>\n",
       "    <tr>\n",
       "      <th>4</th>\n",
       "      <td>3472</td>\n",
       "      <td>0</td>\n",
       "      <td>1.0</td>\n",
       "    </tr>\n",
       "  </tbody>\n",
       "</table>\n",
       "</div>"
      ]
     },
     "execution_count": 3,
     "metadata": {},
     "output_type": "execute_result"
    }
   ],
   "execution_count": 3
  },
  {
   "metadata": {
    "ExecuteTime": {
     "end_time": "2024-11-04T08:43:39.792240Z",
     "start_time": "2024-11-04T08:43:39.713568Z"
    }
   },
   "cell_type": "code",
   "source": "ICM_metadata.head()",
   "id": "ec9b1492d1b80b5c",
   "outputs": [
    {
     "data": {
      "text/plain": [
       "   user_id  item_id  data\n",
       "0        0        0   1.0\n",
       "1        0        2   1.0\n",
       "2        0      120   1.0\n",
       "3        0      128   1.0\n",
       "4        0      211   1.0"
      ],
      "text/html": [
       "<div>\n",
       "<style scoped>\n",
       "    .dataframe tbody tr th:only-of-type {\n",
       "        vertical-align: middle;\n",
       "    }\n",
       "\n",
       "    .dataframe tbody tr th {\n",
       "        vertical-align: top;\n",
       "    }\n",
       "\n",
       "    .dataframe thead th {\n",
       "        text-align: right;\n",
       "    }\n",
       "</style>\n",
       "<table border=\"1\" class=\"dataframe\">\n",
       "  <thead>\n",
       "    <tr style=\"text-align: right;\">\n",
       "      <th></th>\n",
       "      <th>user_id</th>\n",
       "      <th>item_id</th>\n",
       "      <th>data</th>\n",
       "    </tr>\n",
       "  </thead>\n",
       "  <tbody>\n",
       "    <tr>\n",
       "      <th>0</th>\n",
       "      <td>0</td>\n",
       "      <td>0</td>\n",
       "      <td>1.0</td>\n",
       "    </tr>\n",
       "    <tr>\n",
       "      <th>1</th>\n",
       "      <td>0</td>\n",
       "      <td>2</td>\n",
       "      <td>1.0</td>\n",
       "    </tr>\n",
       "    <tr>\n",
       "      <th>2</th>\n",
       "      <td>0</td>\n",
       "      <td>120</td>\n",
       "      <td>1.0</td>\n",
       "    </tr>\n",
       "    <tr>\n",
       "      <th>3</th>\n",
       "      <td>0</td>\n",
       "      <td>128</td>\n",
       "      <td>1.0</td>\n",
       "    </tr>\n",
       "    <tr>\n",
       "      <th>4</th>\n",
       "      <td>0</td>\n",
       "      <td>211</td>\n",
       "      <td>1.0</td>\n",
       "    </tr>\n",
       "  </tbody>\n",
       "</table>\n",
       "</div>"
      ]
     },
     "execution_count": 4,
     "metadata": {},
     "output_type": "execute_result"
    }
   ],
   "execution_count": 4
  },
  {
   "metadata": {
    "ExecuteTime": {
     "end_time": "2024-11-04T08:43:40.256230Z",
     "start_time": "2024-11-04T08:43:40.031872Z"
    }
   },
   "cell_type": "code",
   "source": [
    "urm = sp.coo_matrix((train['data'], (train['user_id'], train['item_id']))).tocsr()\n",
    "icm = sp.coo_matrix((ICM_metadata['data'], (ICM_metadata['item_id'], ICM_metadata['feature_id']))).tocsr()\n",
    "\n",
    "urm, icm"
   ],
   "id": "ceaca43a80cfff28",
   "outputs": [
    {
     "data": {
      "text/plain": [
       "(<Compressed Sparse Row sparse matrix of dtype 'float64'\n",
       " \twith 2940040 stored elements and shape (38121, 94331)>,\n",
       " <Compressed Sparse Row sparse matrix of dtype 'float64'\n",
       " \twith 1764607 stored elements and shape (35736, 38121)>)"
      ]
     },
     "execution_count": 5,
     "metadata": {},
     "output_type": "execute_result"
    }
   ],
   "execution_count": 5
  },
  {
   "metadata": {},
   "cell_type": "markdown",
   "source": [
    "The shapes of the User-Rating Matrix and Item-Content Matrix are:\n",
    "$$\\text{URM}\\in \\mathbb{R}^{|U|\\times|I|}$$\n",
    "$$\\text{ICM}\\in \\mathbb{R}^{|I|\\times|F|}$$"
   ],
   "id": "a652b082bda928c4"
  }
 ],
 "metadata": {
  "kernelspec": {
   "display_name": "Python 3",
   "language": "python",
   "name": "python3"
  },
  "language_info": {
   "codemirror_mode": {
    "name": "ipython",
    "version": 2
   },
   "file_extension": ".py",
   "mimetype": "text/x-python",
   "name": "python",
   "nbconvert_exporter": "python",
   "pygments_lexer": "ipython2",
   "version": "2.7.6"
  }
 },
 "nbformat": 4,
 "nbformat_minor": 5
}
