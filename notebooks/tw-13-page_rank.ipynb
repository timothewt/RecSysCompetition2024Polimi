{
 "cells": [
  {
   "cell_type": "code",
   "id": "initial_id",
   "metadata": {
    "collapsed": true,
    "ExecuteTime": {
     "end_time": "2024-11-21T22:47:40.496603Z",
     "start_time": "2024-11-21T22:47:37.747731Z"
    }
   },
   "source": [
    "import numpy as np\n",
    "from scipy import sparse as sp\n",
    "from tqdm import trange\n",
    "\n",
    "from src.hyperparameters_optimizer import HyperparametersOptimizer\n",
    "from src.recommender_model import RecommenderModel\n",
    "from src.utils import train_model, write_submission"
   ],
   "outputs": [],
   "execution_count": 1
  },
  {
   "metadata": {},
   "cell_type": "markdown",
   "source": [
    "# PageRank\n",
    "This notebook provides an implementation of the PageRank recommender."
   ],
   "id": "1acbc5e86cb30075"
  },
  {
   "metadata": {
    "ExecuteTime": {
     "end_time": "2024-11-21T22:47:40.522542Z",
     "start_time": "2024-11-21T22:47:40.509571Z"
    }
   },
   "cell_type": "code",
   "source": [
    "class PageRank(RecommenderModel):\n",
    "\tdef __init__(self):\n",
    "\t\tsuper(PageRank, self).__init__()\n",
    "\t\tself.num_walks: int = 0\n",
    "\t\tself.alpha: float = 0\n",
    "\t\tself.adjacency: sp.csr_matrix | None = None\n",
    "\t\tself.transition_mat: sp.csr_matrix | None = None\n",
    "\n",
    "\tdef fit(self, urm: sp.csr_matrix, icm: sp.csr_matrix, urm_val: sp.csr_matrix, progress_bar: bool = True, num_walks: int = 3, alpha: float = .3, batch_size: int = 4096) -> None:\n",
    "\t\t\"\"\"\n",
    "\t\talpha: restart probability\n",
    "\t\t\"\"\"\n",
    "\t\tself.urm = urm\n",
    "\t\tself.num_walks = num_walks\n",
    "\t\tself.alpha = alpha\n",
    "\t\tnum_users, num_items = self.urm.shape\n",
    "\t\tnum_nodes = num_users + num_items\n",
    "\n",
    "\t\turm_coo = self.urm.tocoo()\n",
    "\t\trow = np.concatenate([urm_coo.row, urm_coo.col + num_users])\n",
    "\t\tcol = np.concatenate([urm_coo.col + num_users, urm_coo.row])\n",
    "\t\tself.adjacency = sp.csr_matrix((np.ones_like(row, dtype=np.float32), (row, col)), shape=(num_nodes, num_nodes))\n",
    "\t\tdeg_inv = sp.diags(self.adjacency.sum(axis=1).A.ravel()).power(-1)\n",
    "\t\tself.transition_mat = deg_inv @ self.adjacency\n",
    "\n",
    "\t\tself.urm_pred = np.zeros((num_users, num_items), dtype=np.float32)\n",
    "\n",
    "\t\titerator = trange(0, num_users, batch_size, desc=\"Users\") if progress_bar else range(0, num_users, batch_size)\n",
    "\t\tfor start_user_idx in iterator:\n",
    "\t\t\tnum_users_batch = min(batch_size, num_users - start_user_idx)\n",
    "\t\t\tusers_idxs = np.arange(num_users_batch) + start_user_idx\n",
    "\t\t\trestart_probs = sp.csr_matrix(\n",
    "\t\t\t\t(np.full((num_users_batch,), self.alpha), (users_idxs - start_user_idx, users_idxs)),\n",
    "\t\t\t\tshape=(num_users_batch, num_nodes),\n",
    "\t\t\t)\n",
    "\t\t\tp = sp.csr_matrix(\n",
    "\t\t\t\t(np.ones((num_users_batch,)), (users_idxs - start_user_idx, users_idxs)),\n",
    "\t\t\t\tshape=(num_users_batch, num_nodes),\n",
    "\t\t\t)\n",
    "\n",
    "\t\t\tfor _ in range(self.num_walks):\n",
    "\t\t\t\tnext_p = (1 - alpha) * (p @ self.transition_mat)\n",
    "\t\t\t\tp = next_p + restart_probs\n",
    "\n",
    "\t\t\tself.urm_pred[users_idxs, :] = p.toarray()[:, num_users:]"
   ],
   "id": "4c56b0a2226afb6f",
   "outputs": [],
   "execution_count": 2
  },
  {
   "metadata": {
    "ExecuteTime": {
     "end_time": "2024-11-21T23:07:46.680478Z",
     "start_time": "2024-11-21T22:47:40.722879Z"
    }
   },
   "cell_type": "code",
   "source": [
    "optimizer = HyperparametersOptimizer({\n",
    "\t'alpha': np.arange(.8, 1.21, .05),\n",
    "}, PageRank)\n",
    "_, best_parameters = optimizer.optimize()"
   ],
   "id": "7138cb09dd6c1617",
   "outputs": [
    {
     "name": "stderr",
     "output_type": "stream",
     "text": [
      "100%|██████████| 9/9 [20:03<00:00, 133.77s/it, Best MAP@10: 0.0458 with ['alpha: 8.00e-01']]\n"
     ]
    }
   ],
   "execution_count": 3
  },
  {
   "metadata": {
    "ExecuteTime": {
     "end_time": "2024-11-21T23:09:59.304081Z",
     "start_time": "2024-11-21T23:07:46.773504Z"
    }
   },
   "cell_type": "code",
   "source": [
    "page_rank_submission, _ = train_model(PageRank(), test_size=0, **best_parameters)\n",
    "write_submission(page_rank_submission, \"page_rank_submission.csv.csv\")"
   ],
   "id": "63977a8341edb9dd",
   "outputs": [
    {
     "name": "stderr",
     "output_type": "stream",
     "text": [
      "Users: 100%|██████████| 9/9 [02:04<00:00, 13.80s/it]\n"
     ]
    }
   ],
   "execution_count": 4
  },
  {
   "metadata": {},
   "cell_type": "markdown",
   "source": "Submission result: `0.04478`",
   "id": "3b0cf57b963882d4"
  }
 ],
 "metadata": {
  "kernelspec": {
   "display_name": "Python 3",
   "language": "python",
   "name": "python3"
  },
  "language_info": {
   "codemirror_mode": {
    "name": "ipython",
    "version": 2
   },
   "file_extension": ".py",
   "mimetype": "text/x-python",
   "name": "python",
   "nbconvert_exporter": "python",
   "pygments_lexer": "ipython2",
   "version": "2.7.6"
  }
 },
 "nbformat": 4,
 "nbformat_minor": 5
}
