{
 "cells": [
  {
   "metadata": {
    "collapsed": true,
    "jupyter": {
     "outputs_hidden": true
    },
    "ExecuteTime": {
     "end_time": "2024-11-16T17:05:02.173808Z",
     "start_time": "2024-11-16T17:05:01.401842Z"
    }
   },
   "cell_type": "code",
   "source": [
    "import scipy.sparse as sp\n",
    "\n",
    "from src.utils import train_model, write_submission\n",
    "from libs.Recommenders.Similarity.Compute_Similarity import Compute_Similarity\n",
    "from src.recommender_model import RecommenderModel"
   ],
   "id": "initial_id",
   "outputs": [],
   "execution_count": 1
  },
  {
   "metadata": {},
   "cell_type": "markdown",
   "source": [
    "# Collaborative Filtering\n",
    "This notebook provides an implementation of a Collaborative Filtering model."
   ],
   "id": "1b171f3a6ed33fbd"
  },
  {
   "cell_type": "markdown",
   "id": "caaf1adf01fdf128",
   "metadata": {},
   "source": [
    "## User Based CF\n",
    "The user-based method computes the similarity among user interactions and recommends items based on similar users."
   ]
  },
  {
   "cell_type": "code",
   "id": "329e4c4baeb5c670",
   "metadata": {
    "ExecuteTime": {
     "end_time": "2024-11-16T17:05:02.189995Z",
     "start_time": "2024-11-16T17:05:02.185067Z"
    }
   },
   "source": [
    "class UserBasedCF(RecommenderModel):\n",
    "\tdef __init__(self, top_k: int = 300, shrink: int = 500):\n",
    "\t\tsuper(UserBasedCF, self).__init__()\n",
    "\t\tself.similarity_matrix: sp.csr_matrix | None = None\n",
    "\t\tself.top_k: int = top_k\n",
    "\t\tself.shrink: int = shrink\n",
    "\n",
    "\tdef fit(self, urm: sp.csr_matrix, icm: sp.csr_matrix, val_urm: sp.csr_matrix, **kwargs) -> None:\n",
    "\t\tself.urm = urm\n",
    "\n",
    "\t\tself.similarity_matrix = Compute_Similarity(self.urm.T, topK=min(self.top_k, self.urm.shape[0]), shrink=self.shrink).compute_similarity()\n",
    "\n",
    "\t\tself.urm_pred = self.similarity_matrix @ self.urm"
   ],
   "outputs": [],
   "execution_count": 2
  },
  {
   "cell_type": "code",
   "id": "cf65e8dcd67949f8",
   "metadata": {
    "ExecuteTime": {
     "end_time": "2024-11-16T17:05:23.124144Z",
     "start_time": "2024-11-16T17:05:02.356501Z"
    }
   },
   "source": [
    "ubcf = train_model(UserBasedCF())"
   ],
   "outputs": [
    {
     "name": "stdout",
     "output_type": "stream",
     "text": [
      "Similarity column 35736 (100.0%), 6625.32 column/sec. Elapsed time 5.39 sec\n",
      "MAP@10 evaluation of the UserBasedCF model: 0.05475\n"
     ]
    }
   ],
   "execution_count": 3
  },
  {
   "cell_type": "code",
   "id": "f26e81b3295402fa",
   "metadata": {
    "ExecuteTime": {
     "end_time": "2024-11-16T17:05:42.513354Z",
     "start_time": "2024-11-16T17:05:23.192376Z"
    }
   },
   "source": [
    "ubcf_submission = train_model(UserBasedCF(), test_size=0)\n",
    "write_submission(ubcf_submission, \"ubcf_submission.csv\")"
   ],
   "outputs": [
    {
     "name": "stdout",
     "output_type": "stream",
     "text": [
      "Similarity column 35736 (100.0%), 5589.96 column/sec. Elapsed time 6.39 sec\n"
     ]
    }
   ],
   "execution_count": 4
  },
  {
   "cell_type": "markdown",
   "id": "ea45ac99da8ba55b",
   "metadata": {},
   "source": [
    "## Item Based CF\n",
    "The item-based method computes the similarity among the items and recommends them based on which one the user interacted with."
   ]
  },
  {
   "cell_type": "code",
   "id": "641a5fd0c2222e6b",
   "metadata": {
    "ExecuteTime": {
     "end_time": "2024-11-16T17:05:42.523153Z",
     "start_time": "2024-11-16T17:05:42.519920Z"
    }
   },
   "source": [
    "class ItemBasedCF(RecommenderModel):\n",
    "\tdef __init__(self, top_k: int = 300, shrink: int = 500):\n",
    "\t\tsuper(ItemBasedCF, self).__init__()\n",
    "\t\tself.similarity_matrix: sp.csr_matrix | None = None\n",
    "\t\tself.top_k: int = top_k\n",
    "\t\tself.shrink: int = shrink\n",
    "\n",
    "\tdef fit(self, urm: sp.csr_matrix, icm: sp.csr_matrix, urm_val: sp.csr_matrix, **kwargs) -> None:\n",
    "\t\tself.urm = urm\n",
    "\n",
    "\t\tself.similarity_matrix = Compute_Similarity(self.urm, topK=min(self.top_k, self.urm.shape[1]), shrink=self.shrink).compute_similarity()\n",
    "\n",
    "\t\tself.urm_pred = self.urm @ self.similarity_matrix"
   ],
   "outputs": [],
   "execution_count": 5
  },
  {
   "cell_type": "code",
   "id": "e95f7bce8e32a72f",
   "metadata": {
    "ExecuteTime": {
     "end_time": "2024-11-16T17:06:06.918426Z",
     "start_time": "2024-11-16T17:05:42.580064Z"
    }
   },
   "source": [
    "ibcf = train_model(ItemBasedCF())"
   ],
   "outputs": [
    {
     "name": "stdout",
     "output_type": "stream",
     "text": [
      "Similarity column 38121 (100.0%), 5911.33 column/sec. Elapsed time 6.45 sec\n",
      "MAP@10 evaluation of the ItemBasedCF model: 0.04983\n"
     ]
    }
   ],
   "execution_count": 6
  },
  {
   "cell_type": "code",
   "id": "2098f2c68f64411c",
   "metadata": {
    "ExecuteTime": {
     "end_time": "2024-11-16T17:06:37.795272Z",
     "start_time": "2024-11-16T17:06:06.929857Z"
    }
   },
   "source": [
    "ibcf_submission = train_model(ItemBasedCF(), test_size=0)\n",
    "write_submission(ibcf_submission, \"ibcf_submission.csv\")"
   ],
   "outputs": [
    {
     "name": "stdout",
     "output_type": "stream",
     "text": [
      "Similarity column 38121 (100.0%), 3523.53 column/sec. Elapsed time 10.82 sec\n"
     ]
    }
   ],
   "execution_count": 7
  }
 ],
 "metadata": {
  "kernelspec": {
   "display_name": "Python 3 (ipykernel)",
   "language": "python",
   "name": "python3"
  },
  "language_info": {
   "codemirror_mode": {
    "name": "ipython",
    "version": 3
   },
   "file_extension": ".py",
   "mimetype": "text/x-python",
   "name": "python",
   "nbconvert_exporter": "python",
   "pygments_lexer": "ipython3",
   "version": "3.12.5"
  }
 },
 "nbformat": 4,
 "nbformat_minor": 5
}
