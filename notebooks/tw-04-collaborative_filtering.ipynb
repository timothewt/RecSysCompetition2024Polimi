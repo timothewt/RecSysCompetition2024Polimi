{
 "cells": [
  {
   "cell_type": "code",
   "execution_count": 53,
   "id": "initial_id",
   "metadata": {
    "ExecuteTime": {
     "end_time": "2024-11-05T14:25:57.056807Z",
     "start_time": "2024-11-05T14:25:57.029771Z"
    },
    "collapsed": true,
    "jupyter": {
     "outputs_hidden": true
    }
   },
   "outputs": [],
   "source": [
    "import scipy.sparse as sp\n",
    "\n",
    "from src.utils import train_model, write_submission\n",
    "from libs.Recommenders.Similarity.Compute_Similarity import Compute_Similarity\n",
    "from src.recommender_model import RecommenderModel"
   ]
  },
  {
   "cell_type": "markdown",
   "id": "1b171f3a6ed33fbd",
   "metadata": {},
   "source": [
    "# Collaborative Filtering\n",
    "This notebook provies an implementation of a Collaborative Filtering model."
   ]
  },
  {
   "cell_type": "markdown",
   "id": "caaf1adf01fdf128",
   "metadata": {},
   "source": [
    "## User Based CF\n",
    "The user-based method computes the similarity among user interactions and recommends items based on similar users."
   ]
  },
  {
   "cell_type": "code",
   "execution_count": 54,
   "id": "329e4c4baeb5c670",
   "metadata": {
    "ExecuteTime": {
     "end_time": "2024-11-05T14:25:58.776047Z",
     "start_time": "2024-11-05T14:25:58.764061Z"
    }
   },
   "outputs": [],
   "source": [
    "class UserBasedCF(RecommenderModel):\n",
    "\tdef __init__(self, top_k: int = 300, shrink: int = 500):\n",
    "\t\tsuper(UserBasedCF, self).__init__()\n",
    "\t\tself.similarity_matrix: sp.csr_matrix | None = None\n",
    "\t\tself.top_k: int = top_k\n",
    "\t\tself.shrink: int = shrink\n",
    "\n",
    "\tdef fit(self, urm: sp.csr_matrix, icm: sp.csr_matrix) -> None:\n",
    "\t\tself.urm = urm\n",
    "\n",
    "\t\tself.similarity_matrix = Compute_Similarity(self.urm.T, topK=min(self.top_k, self.urm.shape[0]), shrink=self.shrink).compute_similarity()\n",
    "\n",
    "\t\tself.urm_pred = self.similarity_matrix @ self.urm"
   ]
  },
  {
   "cell_type": "code",
   "execution_count": 55,
   "id": "cf65e8dcd67949f8",
   "metadata": {
    "ExecuteTime": {
     "end_time": "2024-11-05T14:29:00.219767Z",
     "start_time": "2024-11-05T14:26:19.966309Z"
    }
   },
   "outputs": [
    {
     "name": "stdout",
     "output_type": "stream",
     "text": [
      "Unable to load Cython Compute_Similarity, reverting to Python\n",
      "Similarity column 35736 (100.0%), 282.56 column/sec. Elapsed time 2.11 min\n",
      "MAP@10 evaluation of the UserBasedCF model: 0.05459\n"
     ]
    }
   ],
   "source": [
    "ubcf = train_model(UserBasedCF())"
   ]
  },
  {
   "cell_type": "code",
   "execution_count": 60,
   "id": "f26e81b3295402fa",
   "metadata": {
    "ExecuteTime": {
     "end_time": "2024-11-05T14:39:01.517479Z",
     "start_time": "2024-11-05T14:35:47.916093Z"
    }
   },
   "outputs": [
    {
     "name": "stdout",
     "output_type": "stream",
     "text": [
      "Unable to load Cython Compute_Similarity, reverting to Python\n",
      "Similarity column 35736 (100.0%), 294.99 column/sec. Elapsed time 2.02 min\n"
     ]
    }
   ],
   "source": [
    "ubcf_submission = train_model(UserBasedCF(), test_size=0)\n",
    "write_submission(ubcf_submission, \"ubcf_submission.csv\")"
   ]
  },
  {
   "cell_type": "markdown",
   "id": "ea45ac99da8ba55b",
   "metadata": {},
   "source": [
    "## Item Based CF\n",
    "The item-based method computes the similarity among the items and recommends them based on which one the user interacted with."
   ]
  },
  {
   "cell_type": "code",
   "execution_count": 57,
   "id": "641a5fd0c2222e6b",
   "metadata": {
    "ExecuteTime": {
     "end_time": "2024-11-05T14:30:54.007605Z",
     "start_time": "2024-11-05T14:30:53.999673Z"
    }
   },
   "outputs": [],
   "source": [
    "class ItemBasedCF(RecommenderModel):\n",
    "\tdef __init__(self, top_k: int = 300, shrink: int = 500):\n",
    "\t\tsuper(ItemBasedCF, self).__init__()\n",
    "\t\tself.similarity_matrix: sp.csr_matrix | None = None\n",
    "\t\tself.top_k: int = top_k\n",
    "\t\tself.shrink: int = shrink\n",
    "\n",
    "\tdef fit(self, urm: sp.csr_matrix, icm: sp.csr_matrix) -> None:\n",
    "\t\tself.urm = urm\n",
    "\n",
    "\t\tself.similarity_matrix = Compute_Similarity(self.urm, topK=min(self.top_k, self.urm.shape[1]), shrink=self.shrink).compute_similarity()\n",
    "\n",
    "\t\tself.urm_pred = self.urm @ self.similarity_matrix"
   ]
  },
  {
   "cell_type": "code",
   "execution_count": 58,
   "id": "e95f7bce8e32a72f",
   "metadata": {
    "ExecuteTime": {
     "end_time": "2024-11-05T14:32:43.876396Z",
     "start_time": "2024-11-05T14:30:54.324398Z"
    }
   },
   "outputs": [
    {
     "name": "stdout",
     "output_type": "stream",
     "text": [
      "Unable to load Cython Compute_Similarity, reverting to Python\n",
      "Similarity column 38121 (100.0%), 542.09 column/sec. Elapsed time 1.17 min\n",
      "MAP@10 evaluation of the ItemBasedCF model: 0.04953\n"
     ]
    }
   ],
   "source": [
    "ibcf = train_model(ItemBasedCF())"
   ]
  },
  {
   "cell_type": "code",
   "execution_count": 59,
   "id": "2098f2c68f64411c",
   "metadata": {
    "ExecuteTime": {
     "end_time": "2024-11-05T14:35:47.857324Z",
     "start_time": "2024-11-05T14:32:43.899413Z"
    }
   },
   "outputs": [
    {
     "name": "stdout",
     "output_type": "stream",
     "text": [
      "Unable to load Cython Compute_Similarity, reverting to Python\n",
      "Similarity column 38121 (100.0%), 362.89 column/sec. Elapsed time 1.75 min\n"
     ]
    }
   ],
   "source": [
    "ibcf_submission = train_model(ItemBasedCF(), test_size=0)\n",
    "write_submission(ibcf_submission, \"ibcf_submission.csv\")"
   ]
  }
 ],
 "metadata": {
  "kernelspec": {
   "display_name": "Python 3 (ipykernel)",
   "language": "python",
   "name": "python3"
  },
  "language_info": {
   "codemirror_mode": {
    "name": "ipython",
    "version": 3
   },
   "file_extension": ".py",
   "mimetype": "text/x-python",
   "name": "python",
   "nbconvert_exporter": "python",
   "pygments_lexer": "ipython3",
   "version": "3.12.5"
  }
 },
 "nbformat": 4,
 "nbformat_minor": 5
}
