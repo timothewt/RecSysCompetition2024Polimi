{
 "cells": [
  {
   "cell_type": "code",
   "id": "initial_id",
   "metadata": {
    "collapsed": true,
    "ExecuteTime": {
     "end_time": "2024-11-03T19:07:50.733310Z",
     "start_time": "2024-11-03T19:07:49.816191Z"
    }
   },
   "source": [
    "import pandas as pd\n",
    "import scipy.sparse as sp"
   ],
   "outputs": [],
   "execution_count": 46
  },
  {
   "metadata": {
    "ExecuteTime": {
     "end_time": "2024-11-03T19:08:00.266393Z",
     "start_time": "2024-11-03T19:07:59.266182Z"
    }
   },
   "cell_type": "code",
   "source": [
    "ICM_metadata = pd.read_csv(\"../data/data_ICM_metadata.csv\")\n",
    "train = pd.read_csv(\"../data/data_train.csv\")"
   ],
   "id": "3e9c9b654f3d0124",
   "outputs": [],
   "execution_count": 47
  },
  {
   "metadata": {
    "ExecuteTime": {
     "end_time": "2024-11-03T19:10:54.991258Z",
     "start_time": "2024-11-03T19:10:54.980460Z"
    }
   },
   "cell_type": "code",
   "source": "ICM_metadata.head()",
   "id": "42a01cb5bc1c883a",
   "outputs": [
    {
     "data": {
      "text/plain": [
       "   item_id  feature_id  data\n",
       "0     2519           0   1.0\n",
       "1     2642           0   1.0\n",
       "2     3316           0   1.0\n",
       "3     3400           0   1.0\n",
       "4     3472           0   1.0"
      ],
      "text/html": [
       "<div>\n",
       "<style scoped>\n",
       "    .dataframe tbody tr th:only-of-type {\n",
       "        vertical-align: middle;\n",
       "    }\n",
       "\n",
       "    .dataframe tbody tr th {\n",
       "        vertical-align: top;\n",
       "    }\n",
       "\n",
       "    .dataframe thead th {\n",
       "        text-align: right;\n",
       "    }\n",
       "</style>\n",
       "<table border=\"1\" class=\"dataframe\">\n",
       "  <thead>\n",
       "    <tr style=\"text-align: right;\">\n",
       "      <th></th>\n",
       "      <th>item_id</th>\n",
       "      <th>feature_id</th>\n",
       "      <th>data</th>\n",
       "    </tr>\n",
       "  </thead>\n",
       "  <tbody>\n",
       "    <tr>\n",
       "      <th>0</th>\n",
       "      <td>2519</td>\n",
       "      <td>0</td>\n",
       "      <td>1.0</td>\n",
       "    </tr>\n",
       "    <tr>\n",
       "      <th>1</th>\n",
       "      <td>2642</td>\n",
       "      <td>0</td>\n",
       "      <td>1.0</td>\n",
       "    </tr>\n",
       "    <tr>\n",
       "      <th>2</th>\n",
       "      <td>3316</td>\n",
       "      <td>0</td>\n",
       "      <td>1.0</td>\n",
       "    </tr>\n",
       "    <tr>\n",
       "      <th>3</th>\n",
       "      <td>3400</td>\n",
       "      <td>0</td>\n",
       "      <td>1.0</td>\n",
       "    </tr>\n",
       "    <tr>\n",
       "      <th>4</th>\n",
       "      <td>3472</td>\n",
       "      <td>0</td>\n",
       "      <td>1.0</td>\n",
       "    </tr>\n",
       "  </tbody>\n",
       "</table>\n",
       "</div>"
      ]
     },
     "execution_count": 52,
     "metadata": {},
     "output_type": "execute_result"
    }
   ],
   "execution_count": 52
  },
  {
   "metadata": {
    "ExecuteTime": {
     "end_time": "2024-11-03T19:10:59.145585Z",
     "start_time": "2024-11-03T19:10:59.132042Z"
    }
   },
   "cell_type": "code",
   "source": "train.head()",
   "id": "ec9b1492d1b80b5c",
   "outputs": [
    {
     "data": {
      "text/plain": [
       "   user_id  item_id  data\n",
       "0        0        0   1.0\n",
       "1        0        2   1.0\n",
       "2        0      120   1.0\n",
       "3        0      128   1.0\n",
       "4        0      211   1.0"
      ],
      "text/html": [
       "<div>\n",
       "<style scoped>\n",
       "    .dataframe tbody tr th:only-of-type {\n",
       "        vertical-align: middle;\n",
       "    }\n",
       "\n",
       "    .dataframe tbody tr th {\n",
       "        vertical-align: top;\n",
       "    }\n",
       "\n",
       "    .dataframe thead th {\n",
       "        text-align: right;\n",
       "    }\n",
       "</style>\n",
       "<table border=\"1\" class=\"dataframe\">\n",
       "  <thead>\n",
       "    <tr style=\"text-align: right;\">\n",
       "      <th></th>\n",
       "      <th>user_id</th>\n",
       "      <th>item_id</th>\n",
       "      <th>data</th>\n",
       "    </tr>\n",
       "  </thead>\n",
       "  <tbody>\n",
       "    <tr>\n",
       "      <th>0</th>\n",
       "      <td>0</td>\n",
       "      <td>0</td>\n",
       "      <td>1.0</td>\n",
       "    </tr>\n",
       "    <tr>\n",
       "      <th>1</th>\n",
       "      <td>0</td>\n",
       "      <td>2</td>\n",
       "      <td>1.0</td>\n",
       "    </tr>\n",
       "    <tr>\n",
       "      <th>2</th>\n",
       "      <td>0</td>\n",
       "      <td>120</td>\n",
       "      <td>1.0</td>\n",
       "    </tr>\n",
       "    <tr>\n",
       "      <th>3</th>\n",
       "      <td>0</td>\n",
       "      <td>128</td>\n",
       "      <td>1.0</td>\n",
       "    </tr>\n",
       "    <tr>\n",
       "      <th>4</th>\n",
       "      <td>0</td>\n",
       "      <td>211</td>\n",
       "      <td>1.0</td>\n",
       "    </tr>\n",
       "  </tbody>\n",
       "</table>\n",
       "</div>"
      ]
     },
     "execution_count": 53,
     "metadata": {},
     "output_type": "execute_result"
    }
   ],
   "execution_count": 53
  },
  {
   "metadata": {
    "ExecuteTime": {
     "end_time": "2024-11-03T19:12:40.041754Z",
     "start_time": "2024-11-03T19:12:39.985104Z"
    }
   },
   "cell_type": "code",
   "source": [
    "icm = sp.coo_matrix((ICM_metadata['data'], (ICM_metadata['item_id'], ICM_metadata['feature_id']))).tocsr()\n",
    "interactions = sp.coo_matrix((train['data'], (train['user_id'], train['item_id']))).tocsr()\n",
    "\n",
    "icm, interactions"
   ],
   "id": "ceaca43a80cfff28",
   "outputs": [
    {
     "data": {
      "text/plain": [
       "(<COOrdinate sparse matrix of dtype 'float64'\n",
       " \twith 2940040 stored elements and shape (38121, 94331)>,\n",
       " <COOrdinate sparse matrix of dtype 'float64'\n",
       " \twith 1764607 stored elements and shape (35736, 38121)>)"
      ]
     },
     "execution_count": 56,
     "metadata": {},
     "output_type": "execute_result"
    }
   ],
   "execution_count": 56
  },
  {
   "metadata": {
    "ExecuteTime": {
     "end_time": "2024-11-03T19:10:10.907033Z",
     "start_time": "2024-11-03T19:10:10.900555Z"
    }
   },
   "cell_type": "code",
   "source": "",
   "id": "95fc21750ce6659",
   "outputs": [],
   "execution_count": null
  }
 ],
 "metadata": {
  "kernelspec": {
   "display_name": "Python 3",
   "language": "python",
   "name": "python3"
  },
  "language_info": {
   "codemirror_mode": {
    "name": "ipython",
    "version": 2
   },
   "file_extension": ".py",
   "mimetype": "text/x-python",
   "name": "python",
   "nbconvert_exporter": "python",
   "pygments_lexer": "ipython2",
   "version": "2.7.6"
  }
 },
 "nbformat": 4,
 "nbformat_minor": 5
}
