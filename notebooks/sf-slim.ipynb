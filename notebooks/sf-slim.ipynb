{
 "cells": [
  {
   "cell_type": "code",
   "execution_count": 1,
   "id": "d68f4f10-7586-40be-995d-317f8151a32d",
   "metadata": {},
   "outputs": [],
   "source": [
    "from pathlib import Path\n",
    "import sys  \n",
    "import os"
   ]
  },
  {
   "cell_type": "code",
   "execution_count": 2,
   "id": "ce52585f-1bac-48b4-8a40-a5c046909747",
   "metadata": {},
   "outputs": [],
   "source": [
    "sys.path.append(os.path.abspath(os.path.join(os.getcwd(), \"..\", \"libs\")))\n",
    "sys.path.append(os.path.abspath(os.path.join(os.getcwd(), \"..\")))\n",
    "sys.path.append(os.path.abspath(os.path.join(os.getcwd(), \"..\", \"src\")))"
   ]
  },
  {
   "cell_type": "code",
   "execution_count": 3,
   "id": "b65cfc17-e72f-4920-9a18-a09f45a90ce7",
   "metadata": {},
   "outputs": [],
   "source": [
    "%load_ext autoreload\n",
    "%autoreload 2"
   ]
  },
  {
   "cell_type": "code",
   "execution_count": 4,
   "id": "9ad4cc94-c45a-41db-9768-5d81b7cb417b",
   "metadata": {},
   "outputs": [],
   "source": [
    "from libs.Recommenders.SLIM.SLIMElasticNetRecommender import SLIMElasticNetRecommender\n",
    "import numpy as np\n",
    "from operator import itemgetter"
   ]
  },
  {
   "cell_type": "code",
   "execution_count": 1,
   "id": "08cf1451-2c25-40e0-8858-3b7424eca31d",
   "metadata": {},
   "outputs": [
    {
     "ename": "ModuleNotFoundError",
     "evalue": "No module named 'Utils'",
     "output_type": "error",
     "traceback": [
      "\u001b[0;31m---------------------------------------------------------------------------\u001b[0m",
      "\u001b[0;31mModuleNotFoundError\u001b[0m                       Traceback (most recent call last)",
      "Cell \u001b[0;32mIn[1], line 1\u001b[0m\n\u001b[0;32m----> 1\u001b[0m \u001b[38;5;28;01mfrom\u001b[39;00m \u001b[38;5;21;01mUtils\u001b[39;00m\u001b[38;5;21;01m.\u001b[39;00m\u001b[38;5;21;01mload_URM\u001b[39;00m \u001b[38;5;28;01mimport\u001b[39;00m load_URM\n\u001b[1;32m      2\u001b[0m \u001b[38;5;28;01mfrom\u001b[39;00m \u001b[38;5;21;01mUtils\u001b[39;00m\u001b[38;5;21;01m.\u001b[39;00m\u001b[38;5;21;01mload_ICM\u001b[39;00m \u001b[38;5;28;01mimport\u001b[39;00m load_ICM\n\u001b[1;32m      3\u001b[0m \u001b[38;5;28;01mfrom\u001b[39;00m \u001b[38;5;21;01mlibs\u001b[39;00m\u001b[38;5;21;01m.\u001b[39;00m\u001b[38;5;21;01mEvaluation\u001b[39;00m\u001b[38;5;21;01m.\u001b[39;00m\u001b[38;5;21;01mEvaluator\u001b[39;00m \u001b[38;5;28;01mimport\u001b[39;00m EvaluatorHoldout\n",
      "\u001b[0;31mModuleNotFoundError\u001b[0m: No module named 'Utils'"
     ]
    }
   ],
   "source": [
    "from Utils.load_URM import load_URM\n",
    "from Utils.load_ICM import load_ICM\n",
    "from libs.Evaluation.Evaluator import EvaluatorHoldout\n",
    "from Data_manager.split_functions.split_train_validation_random_holdout import split_train_in_two_percentage_global_sample\n",
    "\n",
    "URM_all = load_URM(\"../data/data_train.csv\")\n",
    "ICM_all = load_ICM(\"../data/data_ICM_metadata.csv\")"
   ]
  },
  {
   "cell_type": "code",
   "execution_count": 6,
   "id": "af220037-bc27-42f9-a209-92f385760c97",
   "metadata": {},
   "outputs": [
    {
     "name": "stdout",
     "output_type": "stream",
     "text": [
      "Warning: 146 (0.41 %) of 35736 users have no sampled items\n",
      "EvaluatorHoldout: Ignoring 146 ( 0.4%) Users that have less than 1 test interactions\n"
     ]
    }
   ],
   "source": [
    "URM_train, URM_validation = split_train_in_two_percentage_global_sample(URM_all, train_percentage = 0.80)\n",
    "\n",
    "evaluator_validation = EvaluatorHoldout(URM_validation, cutoff_list=[10])"
   ]
  },
  {
   "cell_type": "code",
   "execution_count": 24,
   "id": "02cf27c7-6346-4b35-953d-d0aa2c433ff9",
   "metadata": {},
   "outputs": [
    {
     "data": {
      "text/plain": [
       "array([0.        , 0.10526316, 0.21052632, 0.31578947, 0.42105263,\n",
       "       0.52631579, 0.63157895, 0.73684211, 0.84210526, 0.94736842,\n",
       "       1.05263158, 1.15789474, 1.26315789, 1.36842105, 1.47368421,\n",
       "       1.57894737, 1.68421053, 1.78947368, 1.89473684, 2.        ])"
      ]
     },
     "execution_count": 24,
     "metadata": {},
     "output_type": "execute_result"
    }
   ],
   "source": [
    "np.linspace(0, 2, 20)"
   ]
  },
  {
   "cell_type": "code",
   "execution_count": 13,
   "id": "2ed2e481-4c25-4b37-a11a-a529d76f6372",
   "metadata": {},
   "outputs": [],
   "source": [
    "#from Data_manager.Movielens.Movielens10MReader import Movielens10MReader"
   ]
  },
  {
   "cell_type": "code",
   "execution_count": 6,
   "id": "791689ab-93b7-4163-9e39-4242ab32fc85",
   "metadata": {},
   "outputs": [],
   "source": [
    "#data_reader = Movielens10MReader()\n",
    "#data_loaded = data_reader.load_data()\n",
    "\n",
    "#URM_all = data_loaded.get_URM_all()"
   ]
  },
  {
   "cell_type": "code",
   "execution_count": 17,
   "id": "d93f2487-b68a-428b-b001-8b7db70d5273",
   "metadata": {},
   "outputs": [
    {
     "name": "stdout",
     "output_type": "stream",
     "text": [
      "Warning: 58 (0.08 %) of 69878 users have no sampled items\n"
     ]
    }
   ],
   "source": [
    "#URM_train, URM_validation = split_train_in_two_percentage_global_sample(URM_all, train_percentage = 0.80)"
   ]
  },
  {
   "cell_type": "code",
   "execution_count": 22,
   "id": "362515a7-efa0-4766-a61b-7d14da57862f",
   "metadata": {},
   "outputs": [
    {
     "data": {
      "text/plain": [
       "<Compressed Sparse Row sparse matrix of dtype 'float64'\n",
       "\twith 8000043 stored elements and shape (69878, 10681)>"
      ]
     },
     "execution_count": 22,
     "metadata": {},
     "output_type": "execute_result"
    }
   ],
   "source": [
    "URM_train"
   ]
  },
  {
   "cell_type": "code",
   "execution_count": null,
   "id": "5073b616-d87b-47eb-8067-18cc47d3a3cf",
   "metadata": {},
   "outputs": [
    {
     "name": "stdout",
     "output_type": "stream",
     "text": [
      "SLIMElasticNetRecommender: Processed 5112 (13.4%) in 5.00 min. Items per second: 17.04\n",
      "SLIMElasticNetRecommender: Processed 10228 (26.8%) in 10.00 min. Items per second: 17.04\n",
      "SLIMElasticNetRecommender: Processed 15351 (40.3%) in 15.00 min. Items per second: 17.05\n",
      "SLIMElasticNetRecommender: Processed 20487 (53.7%) in 20.00 min. Items per second: 17.07\n",
      "SLIMElasticNetRecommender: Processed 25527 (67.0%) in 25.00 min. Items per second: 17.02\n",
      "SLIMElasticNetRecommender: Processed 30553 (80.1%) in 30.00 min. Items per second: 16.97\n",
      "SLIMElasticNetRecommender: Processed 35782 (93.9%) in 35.00 min. Items per second: 17.04\n",
      "SLIMElasticNetRecommender: Processed 38121 (100.0%) in 37.39 min. Items per second: 16.99\n",
      "EvaluatorHoldout: Processed 35572 (100.0%) in 9.80 sec. Users per second: 3632\n",
      "('topK=50', 'l1_ratio=0.001', 'alpha=1e-05', 0.056627780633597836)\n",
      "SLIMElasticNetRecommender: Processed 8016 (21.0%) in 5.00 min. Items per second: 26.71\n",
      "SLIMElasticNetRecommender: Processed 16162 (42.4%) in 10.00 min. Items per second: 26.93\n",
      "SLIMElasticNetRecommender: Processed 24341 (63.9%) in 15.00 min. Items per second: 27.04\n",
      "SLIMElasticNetRecommender: Processed 32492 (85.2%) in 20.00 min. Items per second: 27.07\n",
      "SLIMElasticNetRecommender: Processed 38121 (100.0%) in 23.46 min. Items per second: 27.08\n",
      "EvaluatorHoldout: Processed 35572 (100.0%) in 9.80 sec. Users per second: 3629\n",
      "('topK=50', 'l1_ratio=0.001', 'alpha=0.000255', 0.059006874499113904)\n",
      "SLIMElasticNetRecommender: Processed 8583 (22.5%) in 5.00 min. Items per second: 28.60\n",
      "SLIMElasticNetRecommender: Processed 17280 (45.3%) in 10.00 min. Items per second: 28.80\n",
      "SLIMElasticNetRecommender: Processed 25998 (68.2%) in 15.00 min. Items per second: 28.88\n",
      "SLIMElasticNetRecommender: Processed 34752 (91.2%) in 20.00 min. Items per second: 28.96\n",
      "SLIMElasticNetRecommender: Processed 38121 (100.0%) in 21.95 min. Items per second: 28.95\n",
      "EvaluatorHoldout: Processed 35572 (100.0%) in 9.92 sec. Users per second: 3586\n",
      "('topK=50', 'l1_ratio=0.001', 'alpha=0.0005', 0.059339143815626445)\n",
      "SLIMElasticNetRecommender: Processed 7744 (20.3%) in 5.00 min. Items per second: 25.81\n",
      "SLIMElasticNetRecommender: Processed 15518 (40.7%) in 10.00 min. Items per second: 25.86\n",
      "SLIMElasticNetRecommender: Processed 23292 (61.1%) in 15.00 min. Items per second: 25.88\n",
      "SLIMElasticNetRecommender: Processed 31067 (81.5%) in 20.00 min. Items per second: 25.89\n",
      "SLIMElasticNetRecommender: Processed 38121 (100.0%) in 24.58 min. Items per second: 25.85\n",
      "EvaluatorHoldout: Processed 35572 (100.0%) in 9.77 sec. Users per second: 3642\n",
      "('topK=50', 'l1_ratio=0.112', 'alpha=1e-05', 0.05685529036570389)\n",
      "SLIMElasticNetRecommender: Processed 8952 (23.5%) in 5.00 min. Items per second: 29.83\n",
      "SLIMElasticNetRecommender: Processed 17990 (47.2%) in 10.00 min. Items per second: 29.98\n",
      "SLIMElasticNetRecommender: Processed 27211 (71.4%) in 15.00 min. Items per second: 30.23\n",
      "SLIMElasticNetRecommender: Processed 36428 (95.6%) in 20.00 min. Items per second: 30.35\n",
      "SLIMElasticNetRecommender: Processed 38121 (100.0%) in 20.97 min. Items per second: 30.29\n",
      "EvaluatorHoldout: Processed 35572 (100.0%) in 10.66 sec. Users per second: 3337\n",
      "('topK=50', 'l1_ratio=0.112', 'alpha=0.000255', 0.06072039449611488)\n",
      "SLIMElasticNetRecommender: Processed 9791 (25.7%) in 5.00 min. Items per second: 32.63\n",
      "SLIMElasticNetRecommender: Processed 19770 (51.9%) in 10.00 min. Items per second: 32.95\n",
      "SLIMElasticNetRecommender: Processed 30105 (79.0%) in 15.00 min. Items per second: 33.45\n",
      "SLIMElasticNetRecommender: Processed 38121 (100.0%) in 18.80 min. Items per second: 33.80\n",
      "EvaluatorHoldout: Processed 35572 (100.0%) in 11.03 sec. Users per second: 3226\n",
      "('topK=50', 'l1_ratio=0.112', 'alpha=0.0005', 0.05990284292621599)\n",
      "SLIMElasticNetRecommender: Processed 7897 (20.7%) in 5.00 min. Items per second: 26.32\n",
      "SLIMElasticNetRecommender: Processed 15837 (41.5%) in 10.00 min. Items per second: 26.39\n",
      "SLIMElasticNetRecommender: Processed 23774 (62.4%) in 15.00 min. Items per second: 26.41\n",
      "SLIMElasticNetRecommender: Processed 31736 (83.3%) in 20.00 min. Items per second: 26.44\n",
      "SLIMElasticNetRecommender: Processed 38121 (100.0%) in 24.06 min. Items per second: 26.41\n",
      "EvaluatorHoldout: Processed 35572 (100.0%) in 9.68 sec. Users per second: 3676\n",
      "('topK=50', 'l1_ratio=0.223', 'alpha=1e-05', 0.05699168933475214)\n",
      "SLIMElasticNetRecommender: Processed 9568 (25.1%) in 5.00 min. Items per second: 31.89\n",
      "SLIMElasticNetRecommender: Processed 19234 (50.5%) in 10.00 min. Items per second: 32.05\n",
      "SLIMElasticNetRecommender: Processed 29372 (77.0%) in 15.00 min. Items per second: 32.63\n",
      "SLIMElasticNetRecommender: Processed 38121 (100.0%) in 19.28 min. Items per second: 32.96\n",
      "EvaluatorHoldout: Processed 35572 (100.0%) in 10.91 sec. Users per second: 3261\n",
      "('topK=50', 'l1_ratio=0.223', 'alpha=0.000255', 0.06058386723818631)\n",
      "SLIMElasticNetRecommender: Processed 13035 (34.2%) in 5.00 min. Items per second: 43.44\n",
      "SLIMElasticNetRecommender: Processed 27380 (71.8%) in 10.00 min. Items per second: 45.63\n",
      "SLIMElasticNetRecommender: Processed 38121 (100.0%) in 13.58 min. Items per second: 46.79\n",
      "EvaluatorHoldout: Processed 35572 (100.0%) in 10.13 sec. Users per second: 3513\n",
      "('topK=50', 'l1_ratio=0.223', 'alpha=0.0005', 0.05740024368193791)\n",
      "SLIMElasticNetRecommender: Processed 7907 (20.7%) in 5.00 min. Items per second: 26.35\n",
      "SLIMElasticNetRecommender: Processed 15873 (41.6%) in 10.00 min. Items per second: 26.45\n",
      "SLIMElasticNetRecommender: Processed 23815 (62.5%) in 15.00 min. Items per second: 26.46\n",
      "SLIMElasticNetRecommender: Processed 31796 (83.4%) in 20.00 min. Items per second: 26.49\n",
      "SLIMElasticNetRecommender: Processed 38121 (100.0%) in 24.01 min. Items per second: 26.46\n",
      "EvaluatorHoldout: Processed 35572 (100.0%) in 9.76 sec. Users per second: 3644\n",
      "('topK=50', 'l1_ratio=0.334', 'alpha=1e-05', 0.057128639388209446)\n",
      "SLIMElasticNetRecommender: Processed 10904 (28.6%) in 5.00 min. Items per second: 36.34\n",
      "SLIMElasticNetRecommender: Processed 22705 (59.6%) in 10.00 min. Items per second: 37.84\n",
      "SLIMElasticNetRecommender: Processed 35199 (92.3%) in 15.00 min. Items per second: 39.11\n",
      "SLIMElasticNetRecommender: Processed 38121 (100.0%) in 16.26 min. Items per second: 39.07\n",
      "EvaluatorHoldout: Processed 35572 (100.0%) in 10.51 sec. Users per second: 3386\n",
      "('topK=50', 'l1_ratio=0.334', 'alpha=0.000255', 0.05975400997574157)\n",
      "SLIMElasticNetRecommender: Processed 19776 (51.9%) in 5.00 min. Items per second: 65.92\n",
      "SLIMElasticNetRecommender: Processed 38121 (100.0%) in 9.33 min. Items per second: 68.08\n",
      "EvaluatorHoldout: Processed 35572 (100.0%) in 9.53 sec. Users per second: 3732\n",
      "('topK=50', 'l1_ratio=0.334', 'alpha=0.0005', 0.05402873380882575)\n",
      "SLIMElasticNetRecommender: Processed 7960 (20.9%) in 5.00 min. Items per second: 26.53\n",
      "SLIMElasticNetRecommender: Processed 15959 (41.9%) in 10.00 min. Items per second: 26.59\n",
      "SLIMElasticNetRecommender: Processed 23934 (62.8%) in 15.00 min. Items per second: 26.59\n",
      "SLIMElasticNetRecommender: Processed 31974 (83.9%) in 20.00 min. Items per second: 26.64\n",
      "SLIMElasticNetRecommender: Processed 38121 (100.0%) in 23.88 min. Items per second: 26.61\n",
      "EvaluatorHoldout: Processed 35572 (100.0%) in 9.82 sec. Users per second: 3624\n",
      "('topK=50', 'l1_ratio=0.445', 'alpha=1e-05', 0.05724379483417287)\n",
      "SLIMElasticNetRecommender: Processed 13223 (34.7%) in 5.00 min. Items per second: 44.07\n",
      "SLIMElasticNetRecommender: Processed 27818 (73.0%) in 10.00 min. Items per second: 46.36\n",
      "SLIMElasticNetRecommender: Processed 38121 (100.0%) in 13.35 min. Items per second: 47.58\n",
      "EvaluatorHoldout: Processed 35572 (100.0%) in 10.13 sec. Users per second: 3510\n",
      "('topK=50', 'l1_ratio=0.445', 'alpha=0.000255', 0.05829565990907593)\n",
      "SLIMElasticNetRecommender: Processed 26693 (70.0%) in 5.00 min. Items per second: 88.97\n",
      "SLIMElasticNetRecommender: Processed 38121 (100.0%) in 7.07 min. Items per second: 89.84\n",
      "EvaluatorHoldout: Processed 35572 (100.0%) in 9.18 sec. Users per second: 3875\n",
      "('topK=50', 'l1_ratio=0.445', 'alpha=0.0005', 0.050616700267196134)\n",
      "SLIMElasticNetRecommender: Processed 7983 (20.9%) in 5.00 min. Items per second: 26.61\n",
      "SLIMElasticNetRecommender: Processed 16031 (42.1%) in 10.00 min. Items per second: 26.72\n",
      "SLIMElasticNetRecommender: Processed 24066 (63.1%) in 15.00 min. Items per second: 26.74\n",
      "SLIMElasticNetRecommender: Processed 32131 (84.3%) in 20.00 min. Items per second: 26.77\n",
      "SLIMElasticNetRecommender: Processed 38121 (100.0%) in 23.75 min. Items per second: 26.75\n",
      "EvaluatorHoldout: Processed 35572 (100.0%) in 9.85 sec. Users per second: 3610\n",
      "('topK=50', 'l1_ratio=0.556', 'alpha=1e-05', 0.057461098349154235)\n",
      "SLIMElasticNetRecommender: Processed 16679 (43.8%) in 5.00 min. Items per second: 55.59\n",
      "SLIMElasticNetRecommender: Processed 35023 (91.9%) in 10.00 min. Items per second: 58.37\n",
      "SLIMElasticNetRecommender: Processed 38121 (100.0%) in 10.91 min. Items per second: 58.22\n",
      "EvaluatorHoldout: Processed 35572 (100.0%) in 9.69 sec. Users per second: 3672\n",
      "('topK=50', 'l1_ratio=0.556', 'alpha=0.000255', 0.05661403141225574)\n",
      "SLIMElasticNetRecommender: Processed 32400 (85.0%) in 5.00 min. Items per second: 108.00\n",
      "SLIMElasticNetRecommender: Processed 38121 (100.0%) in 5.83 min. Items per second: 108.96\n",
      "EvaluatorHoldout: Processed 35572 (100.0%) in 8.98 sec. Users per second: 3960\n",
      "('topK=50', 'l1_ratio=0.556', 'alpha=0.0005', 0.04752919520257421)\n",
      "SLIMElasticNetRecommender: Processed 8125 (21.3%) in 5.00 min. Items per second: 27.08\n",
      "SLIMElasticNetRecommender: Processed 16307 (42.8%) in 10.00 min. Items per second: 27.17\n",
      "SLIMElasticNetRecommender: Processed 24492 (64.2%) in 15.00 min. Items per second: 27.21\n",
      "SLIMElasticNetRecommender: Processed 32727 (85.9%) in 20.00 min. Items per second: 27.27\n",
      "SLIMElasticNetRecommender: Processed 38121 (100.0%) in 23.34 min. Items per second: 27.22\n",
      "EvaluatorHoldout: Processed 35572 (100.0%) in 9.87 sec. Users per second: 3603\n",
      "('topK=50', 'l1_ratio=0.667', 'alpha=1e-05', 0.057587465127733384)\n",
      "SLIMElasticNetRecommender: Processed 20378 (53.5%) in 5.00 min. Items per second: 67.92\n",
      "SLIMElasticNetRecommender: Processed 38121 (100.0%) in 9.12 min. Items per second: 69.65\n",
      "EvaluatorHoldout: Processed 35572 (100.0%) in 9.46 sec. Users per second: 3762\n",
      "('topK=50', 'l1_ratio=0.667', 'alpha=0.000255', 0.05488794356716984)\n",
      "SLIMElasticNetRecommender: Processed 37699 (98.9%) in 5.00 min. Items per second: 125.66\n",
      "SLIMElasticNetRecommender: Processed 38121 (100.0%) in 5.07 min. Items per second: 125.43\n",
      "EvaluatorHoldout: Processed 35572 (100.0%) in 8.89 sec. Users per second: 4002\n",
      "('topK=50', 'l1_ratio=0.667', 'alpha=0.0005', 0.04469154109973956)\n",
      "SLIMElasticNetRecommender: Processed 8088 (21.2%) in 5.00 min. Items per second: 26.95\n",
      "SLIMElasticNetRecommender: Processed 16214 (42.5%) in 10.00 min. Items per second: 27.02\n",
      "SLIMElasticNetRecommender: Processed 24351 (63.9%) in 15.00 min. Items per second: 27.05\n",
      "SLIMElasticNetRecommender: Processed 32550 (85.4%) in 20.00 min. Items per second: 27.12\n",
      "SLIMElasticNetRecommender: Processed 38121 (100.0%) in 23.44 min. Items per second: 27.11\n",
      "EvaluatorHoldout: Processed 35572 (100.0%) in 9.87 sec. Users per second: 3604\n",
      "('topK=50', 'l1_ratio=0.778', 'alpha=1e-05', 0.05768329134382276)\n",
      "SLIMElasticNetRecommender: Processed 23104 (60.6%) in 5.00 min. Items per second: 77.01\n",
      "SLIMElasticNetRecommender: Processed 38121 (100.0%) in 8.20 min. Items per second: 77.50\n",
      "EvaluatorHoldout: Processed 35572 (100.0%) in 9.24 sec. Users per second: 3850\n",
      "('topK=50', 'l1_ratio=0.778', 'alpha=0.000255', 0.05319445448444217)\n",
      "SLIMElasticNetRecommender: Processed 38121 (100.0%) in 4.61 min. Items per second: 137.80\n",
      "EvaluatorHoldout: Processed 35572 (100.0%) in 8.72 sec. Users per second: 4077\n",
      "('topK=50', 'l1_ratio=0.778', 'alpha=0.0005', 0.042045188029106215)\n",
      "SLIMElasticNetRecommender: Processed 8106 (21.3%) in 5.00 min. Items per second: 27.01\n",
      "SLIMElasticNetRecommender: Processed 16268 (42.7%) in 10.00 min. Items per second: 27.11\n",
      "SLIMElasticNetRecommender: Processed 24410 (64.0%) in 15.00 min. Items per second: 27.12\n",
      "SLIMElasticNetRecommender: Processed 32632 (85.6%) in 20.00 min. Items per second: 27.19\n",
      "SLIMElasticNetRecommender: Processed 38121 (100.0%) in 23.39 min. Items per second: 27.16\n",
      "EvaluatorHoldout: Processed 35572 (100.0%) in 9.84 sec. Users per second: 3615\n",
      "('topK=50', 'l1_ratio=0.889', 'alpha=1e-05', 0.05775495462812526)\n",
      "SLIMElasticNetRecommender: Processed 27073 (71.0%) in 5.00 min. Items per second: 90.24\n",
      "SLIMElasticNetRecommender: Processed 38121 (100.0%) in 6.95 min. Items per second: 91.46\n",
      "EvaluatorHoldout: Processed 35572 (100.0%) in 9.12 sec. Users per second: 3901\n",
      "('topK=50', 'l1_ratio=0.889', 'alpha=0.000255', 0.051415581900512056)\n",
      "SLIMElasticNetRecommender: Processed 38121 (100.0%) in 4.25 min. Items per second: 149.60\n",
      "EvaluatorHoldout: Processed 35572 (100.0%) in 8.70 sec. Users per second: 4087\n",
      "('topK=50', 'l1_ratio=0.889', 'alpha=0.0005', 0.039647923995864524)\n",
      "SLIMElasticNetRecommender: Processed 8222 (21.6%) in 5.00 min. Items per second: 27.40\n",
      "SLIMElasticNetRecommender: Processed 16489 (43.3%) in 10.00 min. Items per second: 27.48\n",
      "SLIMElasticNetRecommender: Processed 24814 (65.1%) in 15.00 min. Items per second: 27.57\n",
      "SLIMElasticNetRecommender: Processed 33197 (87.1%) in 20.00 min. Items per second: 27.66\n",
      "SLIMElasticNetRecommender: Processed 38121 (100.0%) in 23.01 min. Items per second: 27.61\n",
      "EvaluatorHoldout: Processed 35572 (100.0%) in 9.87 sec. Users per second: 3604\n",
      "('topK=50', 'l1_ratio=1.0', 'alpha=1e-05', 0.05789322103705405)\n",
      "SLIMElasticNetRecommender: Processed 29737 (78.0%) in 5.00 min. Items per second: 99.12\n",
      "SLIMElasticNetRecommender: Processed 38121 (100.0%) in 6.27 min. Items per second: 101.40\n",
      "EvaluatorHoldout: Processed 35572 (100.0%) in 9.02 sec. Users per second: 3945\n",
      "('topK=50', 'l1_ratio=1.0', 'alpha=0.000255', 0.04972144356449263)\n",
      "SLIMElasticNetRecommender: Processed 38121 (100.0%) in 3.98 min. Items per second: 159.75\n",
      "EvaluatorHoldout: Processed 35572 (100.0%) in 8.64 sec. Users per second: 4117\n",
      "('topK=50', 'l1_ratio=1.0', 'alpha=0.0005', 0.037543943961630716)\n",
      "SLIMElasticNetRecommender: Processed 5352 (14.0%) in 5.00 min. Items per second: 17.83\n",
      "SLIMElasticNetRecommender: Processed 10723 (28.1%) in 10.00 min. Items per second: 17.87\n",
      "SLIMElasticNetRecommender: Processed 16066 (42.1%) in 15.00 min. Items per second: 17.85\n",
      "SLIMElasticNetRecommender: Processed 21385 (56.1%) in 20.00 min. Items per second: 17.82\n",
      "SLIMElasticNetRecommender: Processed 26659 (69.9%) in 25.00 min. Items per second: 17.77\n",
      "SLIMElasticNetRecommender: Processed 31896 (83.7%) in 30.00 min. Items per second: 17.72\n",
      "SLIMElasticNetRecommender: Processed 37150 (97.5%) in 35.00 min. Items per second: 17.69\n",
      "SLIMElasticNetRecommender: Processed 38121 (100.0%) in 36.00 min. Items per second: 17.65\n",
      "EvaluatorHoldout: Processed 35572 (100.0%) in 10.60 sec. Users per second: 3356\n",
      "('topK=100', 'l1_ratio=0.001', 'alpha=1e-05', 0.057371538208219525)\n",
      "SLIMElasticNetRecommender: Processed 8143 (21.4%) in 5.00 min. Items per second: 27.14\n",
      "SLIMElasticNetRecommender: Processed 16372 (42.9%) in 10.00 min. Items per second: 27.28\n",
      "SLIMElasticNetRecommender: Processed 24592 (64.5%) in 15.00 min. Items per second: 27.32\n",
      "SLIMElasticNetRecommender: Processed 32771 (86.0%) in 20.00 min. Items per second: 27.31\n",
      "SLIMElasticNetRecommender: Processed 38121 (100.0%) in 23.28 min. Items per second: 27.29\n",
      "EvaluatorHoldout: Processed 35572 (100.0%) in 10.68 sec. Users per second: 3330\n",
      "('topK=100', 'l1_ratio=0.001', 'alpha=0.000255', 0.05947460906473415)\n",
      "SLIMElasticNetRecommender: Processed 8665 (22.7%) in 5.00 min. Items per second: 28.88\n",
      "SLIMElasticNetRecommender: Processed 17408 (45.7%) in 10.00 min. Items per second: 29.01\n",
      "SLIMElasticNetRecommender: Processed 26183 (68.7%) in 15.00 min. Items per second: 29.09\n",
      "SLIMElasticNetRecommender: Processed 34998 (91.8%) in 20.00 min. Items per second: 29.16\n",
      "SLIMElasticNetRecommender: Processed 38121 (100.0%) in 21.80 min. Items per second: 29.14\n",
      "EvaluatorHoldout: Processed 35572 (100.0%) in 10.78 sec. Users per second: 3300\n",
      "('topK=100', 'l1_ratio=0.001', 'alpha=0.0005', 0.0596731188164741)\n",
      "SLIMElasticNetRecommender: Processed 7897 (20.7%) in 5.00 min. Items per second: 26.32\n",
      "SLIMElasticNetRecommender: Processed 15839 (41.5%) in 10.00 min. Items per second: 26.39\n",
      "SLIMElasticNetRecommender: Processed 23782 (62.4%) in 15.00 min. Items per second: 26.42\n",
      "SLIMElasticNetRecommender: Processed 31720 (83.2%) in 20.00 min. Items per second: 26.43\n",
      "SLIMElasticNetRecommender: Processed 38121 (100.0%) in 24.07 min. Items per second: 26.40\n",
      "EvaluatorHoldout: Processed 35572 (100.0%) in 10.58 sec. Users per second: 3362\n",
      "('topK=100', 'l1_ratio=0.112', 'alpha=1e-05', 0.0575216027319487)\n",
      "SLIMElasticNetRecommender: Processed 8879 (23.3%) in 5.00 min. Items per second: 29.59\n",
      "SLIMElasticNetRecommender: Processed 17867 (46.9%) in 10.00 min. Items per second: 29.78\n",
      "SLIMElasticNetRecommender: Processed 27008 (70.8%) in 15.00 min. Items per second: 30.01\n",
      "SLIMElasticNetRecommender: Processed 36138 (94.8%) in 20.00 min. Items per second: 30.11\n",
      "SLIMElasticNetRecommender: Processed 38121 (100.0%) in 21.15 min. Items per second: 30.04\n",
      "EvaluatorHoldout: Processed 35572 (100.0%) in 12.03 sec. Users per second: 2958\n",
      "('topK=100', 'l1_ratio=0.112', 'alpha=0.000255', 0.0611189657372732)\n",
      "SLIMElasticNetRecommender: Processed 9721 (25.5%) in 5.00 min. Items per second: 32.40\n",
      "SLIMElasticNetRecommender: Processed 19664 (51.6%) in 10.00 min. Items per second: 32.77\n",
      "SLIMElasticNetRecommender: Processed 29889 (78.4%) in 15.00 min. Items per second: 33.21\n",
      "SLIMElasticNetRecommender: Processed 38121 (100.0%) in 18.95 min. Items per second: 33.53\n",
      "EvaluatorHoldout: Processed 35572 (100.0%) in 11.76 sec. Users per second: 3025\n",
      "('topK=100', 'l1_ratio=0.112', 'alpha=0.0005', 0.06017852792190558)\n",
      "SLIMElasticNetRecommender: Processed 7884 (20.7%) in 5.00 min. Items per second: 26.27\n",
      "SLIMElasticNetRecommender: Processed 15797 (41.4%) in 10.00 min. Items per second: 26.32\n",
      "SLIMElasticNetRecommender: Processed 23715 (62.2%) in 15.00 min. Items per second: 26.35\n",
      "SLIMElasticNetRecommender: Processed 31672 (83.1%) in 20.00 min. Items per second: 26.39\n",
      "SLIMElasticNetRecommender: Processed 38121 (100.0%) in 24.09 min. Items per second: 26.37\n",
      "EvaluatorHoldout: Processed 35572 (100.0%) in 10.76 sec. Users per second: 3306\n",
      "('topK=100', 'l1_ratio=0.223', 'alpha=1e-05', 0.05765708248327813)\n",
      "SLIMElasticNetRecommender: Processed 9556 (25.1%) in 5.00 min. Items per second: 31.85\n",
      "SLIMElasticNetRecommender: Processed 19218 (50.4%) in 10.00 min. Items per second: 32.03\n",
      "SLIMElasticNetRecommender: Processed 29388 (77.1%) in 15.00 min. Items per second: 32.65\n",
      "SLIMElasticNetRecommender: Processed 38121 (100.0%) in 19.26 min. Items per second: 32.99\n",
      "EvaluatorHoldout: Processed 35572 (100.0%) in 11.58 sec. Users per second: 3073\n",
      "('topK=100', 'l1_ratio=0.223', 'alpha=0.000255', 0.06084934267008468)\n",
      "SLIMElasticNetRecommender: Processed 13021 (34.2%) in 5.00 min. Items per second: 43.40\n",
      "SLIMElasticNetRecommender: Processed 27023 (70.9%) in 10.00 min. Items per second: 45.04\n",
      "SLIMElasticNetRecommender: Processed 38121 (100.0%) in 13.87 min. Items per second: 45.81\n",
      "EvaluatorHoldout: Processed 35572 (100.0%) in 10.74 sec. Users per second: 3313\n",
      "('topK=100', 'l1_ratio=0.223', 'alpha=0.0005', 0.05741763630749143)\n",
      "SLIMElasticNetRecommender: Processed 7688 (20.2%) in 5.00 min. Items per second: 25.62\n",
      "SLIMElasticNetRecommender: Processed 15563 (40.8%) in 10.00 min. Items per second: 25.94\n",
      "SLIMElasticNetRecommender: Processed 23358 (61.3%) in 15.00 min. Items per second: 25.95\n",
      "SLIMElasticNetRecommender: Processed 31157 (81.7%) in 20.00 min. Items per second: 25.96\n",
      "SLIMElasticNetRecommender: Processed 38121 (100.0%) in 24.51 min. Items per second: 25.92\n",
      "EvaluatorHoldout: Processed 35572 (100.0%) in 10.95 sec. Users per second: 3250\n",
      "('topK=100', 'l1_ratio=0.334', 'alpha=1e-05', 0.05774462012212025)\n",
      "SLIMElasticNetRecommender: Processed 10556 (27.7%) in 5.00 min. Items per second: 35.18\n",
      "SLIMElasticNetRecommender: Processed 21875 (57.4%) in 10.00 min. Items per second: 36.46\n",
      "SLIMElasticNetRecommender: Processed 33966 (89.1%) in 15.00 min. Items per second: 37.74\n",
      "SLIMElasticNetRecommender: Processed 38121 (100.0%) in 16.79 min. Items per second: 37.84\n",
      "EvaluatorHoldout: Processed 35572 (100.0%) in 11.09 sec. Users per second: 3208\n",
      "('topK=100', 'l1_ratio=0.334', 'alpha=0.000255', 0.05985638784918911)\n",
      "SLIMElasticNetRecommender: Processed 18339 (48.1%) in 5.00 min. Items per second: 61.12\n",
      "SLIMElasticNetRecommender: Processed 38121 (100.0%) in 9.88 min. Items per second: 64.28\n",
      "EvaluatorHoldout: Processed 35572 (100.0%) in 9.84 sec. Users per second: 3613\n",
      "('topK=100', 'l1_ratio=0.334', 'alpha=0.0005', 0.05397123361695014)\n",
      "SLIMElasticNetRecommender: Processed 7712 (20.2%) in 5.00 min. Items per second: 25.70\n",
      "SLIMElasticNetRecommender: Processed 15472 (40.6%) in 10.00 min. Items per second: 25.78\n",
      "SLIMElasticNetRecommender: Processed 23174 (60.8%) in 15.00 min. Items per second: 25.75\n",
      "SLIMElasticNetRecommender: Processed 30956 (81.2%) in 20.00 min. Items per second: 25.79\n",
      "SLIMElasticNetRecommender: Processed 38121 (100.0%) in 24.67 min. Items per second: 25.75\n",
      "EvaluatorHoldout: Processed 35572 (100.0%) in 11.19 sec. Users per second: 3178\n",
      "('topK=100', 'l1_ratio=0.445', 'alpha=1e-05', 0.057907134245052776)\n",
      "SLIMElasticNetRecommender: Processed 12763 (33.5%) in 5.00 min. Items per second: 42.54\n",
      "SLIMElasticNetRecommender: Processed 27129 (71.2%) in 10.00 min. Items per second: 45.21\n",
      "SLIMElasticNetRecommender: Processed 38121 (100.0%) in 13.72 min. Items per second: 46.32\n",
      "EvaluatorHoldout: Processed 35572 (100.0%) in 10.16 sec. Users per second: 3501\n",
      "('topK=100', 'l1_ratio=0.445', 'alpha=0.000255', 0.05831689673882784)\n",
      "SLIMElasticNetRecommender: Processed 26204 (68.7%) in 5.00 min. Items per second: 87.34\n",
      "SLIMElasticNetRecommender: Processed 38121 (100.0%) in 7.23 min. Items per second: 87.87\n",
      "EvaluatorHoldout: Processed 35572 (100.0%) in 9.22 sec. Users per second: 3856\n",
      "('topK=100', 'l1_ratio=0.445', 'alpha=0.0005', 0.05057405704325871)\n",
      "SLIMElasticNetRecommender: Processed 7738 (20.3%) in 5.00 min. Items per second: 25.79\n",
      "SLIMElasticNetRecommender: Processed 15541 (40.8%) in 10.00 min. Items per second: 25.90\n",
      "SLIMElasticNetRecommender: Processed 23227 (60.9%) in 15.00 min. Items per second: 25.81\n",
      "SLIMElasticNetRecommender: Processed 31047 (81.4%) in 20.00 min. Items per second: 25.87\n",
      "SLIMElasticNetRecommender: Processed 38121 (100.0%) in 24.56 min. Items per second: 25.87\n",
      "EvaluatorHoldout: Processed 35572 (100.0%) in 11.25 sec. Users per second: 3162\n",
      "('topK=100', 'l1_ratio=0.556', 'alpha=1e-05', 0.0579705937343246)\n",
      "SLIMElasticNetRecommender: Processed 16159 (42.4%) in 5.00 min. Items per second: 53.86\n",
      "SLIMElasticNetRecommender: Processed 34148 (89.6%) in 10.00 min. Items per second: 56.91\n",
      "SLIMElasticNetRecommender: Processed 38121 (100.0%) in 11.17 min. Items per second: 56.87\n",
      "EvaluatorHoldout: Processed 35572 (100.0%) in 10.06 sec. Users per second: 3535\n",
      "('topK=100', 'l1_ratio=0.556', 'alpha=0.000255', 0.056587763427270135)\n",
      "SLIMElasticNetRecommender: Processed 31658 (83.0%) in 5.00 min. Items per second: 105.52\n",
      "SLIMElasticNetRecommender: Processed 38121 (100.0%) in 5.95 min. Items per second: 106.79\n",
      "EvaluatorHoldout: Processed 35572 (100.0%) in 9.09 sec. Users per second: 3915\n",
      "('topK=100', 'l1_ratio=0.556', 'alpha=0.0005', 0.04750258251094411)\n",
      "SLIMElasticNetRecommender: Processed 7931 (20.8%) in 5.00 min. Items per second: 26.43\n",
      "SLIMElasticNetRecommender: Processed 15929 (41.8%) in 10.00 min. Items per second: 26.55\n",
      "SLIMElasticNetRecommender: Processed 23975 (62.9%) in 15.00 min. Items per second: 26.64\n",
      "SLIMElasticNetRecommender: Processed 32086 (84.2%) in 20.00 min. Items per second: 26.74\n",
      "SLIMElasticNetRecommender: Processed 38121 (100.0%) in 23.75 min. Items per second: 26.75\n",
      "EvaluatorHoldout: Processed 35572 (100.0%) in 10.97 sec. Users per second: 3242\n",
      "('topK=100', 'l1_ratio=0.667', 'alpha=1e-05', 0.05810549562791319)\n",
      "SLIMElasticNetRecommender: Processed 20254 (53.1%) in 5.00 min. Items per second: 67.51\n",
      "SLIMElasticNetRecommender: Processed 38121 (100.0%) in 9.18 min. Items per second: 69.23\n",
      "EvaluatorHoldout: Processed 35572 (100.0%) in 9.51 sec. Users per second: 3739\n",
      "('topK=100', 'l1_ratio=0.667', 'alpha=0.000255', 0.05485709176469986)\n",
      "SLIMElasticNetRecommender: Processed 37826 (99.2%) in 5.00 min. Items per second: 126.08\n",
      "SLIMElasticNetRecommender: Processed 38121 (100.0%) in 5.05 min. Items per second: 125.90\n",
      "EvaluatorHoldout: Processed 35572 (100.0%) in 8.88 sec. Users per second: 4006\n",
      "('topK=100', 'l1_ratio=0.667', 'alpha=0.0005', 0.04467393317197761)\n",
      "SLIMElasticNetRecommender: Processed 8127 (21.3%) in 5.00 min. Items per second: 27.09\n",
      "SLIMElasticNetRecommender: Processed 16319 (42.8%) in 10.00 min. Items per second: 27.19\n",
      "SLIMElasticNetRecommender: Processed 24550 (64.4%) in 15.00 min. Items per second: 27.27\n",
      "SLIMElasticNetRecommender: Processed 32825 (86.1%) in 20.00 min. Items per second: 27.35\n",
      "SLIMElasticNetRecommender: Processed 38121 (100.0%) in 23.26 min. Items per second: 27.32\n",
      "EvaluatorHoldout: Processed 35572 (100.0%) in 10.90 sec. Users per second: 3264\n",
      "('topK=100', 'l1_ratio=0.778', 'alpha=1e-05', 0.05826219882232857)\n",
      "SLIMElasticNetRecommender: Processed 24052 (63.1%) in 5.00 min. Items per second: 80.17\n",
      "SLIMElasticNetRecommender: Processed 38121 (100.0%) in 7.90 min. Items per second: 80.43\n",
      "EvaluatorHoldout: Processed 35572 (100.0%) in 9.31 sec. Users per second: 3822\n",
      "('topK=100', 'l1_ratio=0.778', 'alpha=0.000255', 0.05317447934794269)\n",
      "SLIMElasticNetRecommender: Processed 38121 (100.0%) in 4.56 min. Items per second: 139.22\n",
      "EvaluatorHoldout: Processed 35572 (100.0%) in 8.79 sec. Users per second: 4046\n",
      "('topK=100', 'l1_ratio=0.778', 'alpha=0.0005', 0.042043994384738166)\n",
      "SLIMElasticNetRecommender: Processed 8125 (21.3%) in 5.00 min. Items per second: 27.08\n",
      "SLIMElasticNetRecommender: Processed 16301 (42.8%) in 10.00 min. Items per second: 27.17\n",
      "SLIMElasticNetRecommender: Processed 24474 (64.2%) in 15.00 min. Items per second: 27.19\n",
      "SLIMElasticNetRecommender: Processed 32723 (85.8%) in 20.00 min. Items per second: 27.27\n",
      "SLIMElasticNetRecommender: Processed 38121 (100.0%) in 23.43 min. Items per second: 27.12\n",
      "EvaluatorHoldout: Processed 35572 (100.0%) in 11.07 sec. Users per second: 3212\n",
      "('topK=100', 'l1_ratio=0.889', 'alpha=1e-05', 0.0584185093412136)\n",
      "SLIMElasticNetRecommender: Processed 26549 (69.6%) in 5.00 min. Items per second: 88.49\n",
      "SLIMElasticNetRecommender: Processed 38121 (100.0%) in 7.14 min. Items per second: 89.00\n",
      "EvaluatorHoldout: Processed 35572 (100.0%) in 9.64 sec. Users per second: 3690\n",
      "('topK=100', 'l1_ratio=0.889', 'alpha=0.000255', 0.051375678480843706)\n",
      "SLIMElasticNetRecommender: Processed 38121 (100.0%) in 4.55 min. Items per second: 139.53\n",
      "EvaluatorHoldout: Processed 35572 (100.0%) in 9.20 sec. Users per second: 3866\n",
      "('topK=100', 'l1_ratio=0.889', 'alpha=0.0005', 0.039644958849387665)\n",
      "SLIMElasticNetRecommender: Processed 7613 (20.0%) in 5.00 min. Items per second: 25.37\n",
      "SLIMElasticNetRecommender: Processed 15362 (40.3%) in 10.00 min. Items per second: 25.60\n",
      "SLIMElasticNetRecommender: Processed 23097 (60.6%) in 15.00 min. Items per second: 25.66\n",
      "SLIMElasticNetRecommender: Processed 30884 (81.0%) in 20.00 min. Items per second: 25.73\n",
      "SLIMElasticNetRecommender: Processed 38121 (100.0%) in 24.69 min. Items per second: 25.74\n",
      "EvaluatorHoldout: Processed 35572 (100.0%) in 11.63 sec. Users per second: 3058\n",
      "('topK=100', 'l1_ratio=1.0', 'alpha=1e-05', 0.05854934057284022)\n",
      "SLIMElasticNetRecommender: Processed 28163 (73.9%) in 5.00 min. Items per second: 93.87\n",
      "SLIMElasticNetRecommender: Processed 38121 (100.0%) in 6.62 min. Items per second: 96.03\n",
      "EvaluatorHoldout: Processed 35572 (100.0%) in 9.44 sec. Users per second: 3766\n",
      "('topK=100', 'l1_ratio=1.0', 'alpha=0.000255', 0.04969056833535751)\n",
      "SLIMElasticNetRecommender: Processed 38121 (100.0%) in 4.25 min. Items per second: 149.62\n",
      "EvaluatorHoldout: Processed 35572 (100.0%) in 9.05 sec. Users per second: 3929\n",
      "('topK=100', 'l1_ratio=1.0', 'alpha=0.0005', 0.03754545665486718)\n",
      "SLIMElasticNetRecommender: Processed 4992 (13.1%) in 5.00 min. Items per second: 16.63\n",
      "SLIMElasticNetRecommender: Processed 10006 (26.2%) in 10.00 min. Items per second: 16.67\n",
      "SLIMElasticNetRecommender: Processed 15006 (39.4%) in 15.00 min. Items per second: 16.67\n",
      "SLIMElasticNetRecommender: Processed 20026 (52.5%) in 20.00 min. Items per second: 16.69\n",
      "SLIMElasticNetRecommender: Processed 25019 (65.6%) in 25.00 min. Items per second: 16.68\n",
      "SLIMElasticNetRecommender: Processed 29828 (78.2%) in 30.00 min. Items per second: 16.57\n",
      "SLIMElasticNetRecommender: Processed 34874 (91.5%) in 35.01 min. Items per second: 16.60\n",
      "SLIMElasticNetRecommender: Processed 38121 (100.0%) in 38.41 min. Items per second: 16.54\n",
      "EvaluatorHoldout: Processed 35572 (100.0%) in 12.33 sec. Users per second: 2884\n",
      "('topK=150', 'l1_ratio=0.001', 'alpha=1e-05', 0.05756358108481772)\n",
      "SLIMElasticNetRecommender: Processed 7517 (19.7%) in 5.00 min. Items per second: 25.05\n",
      "SLIMElasticNetRecommender: Processed 15100 (39.6%) in 10.00 min. Items per second: 25.16\n",
      "SLIMElasticNetRecommender: Processed 22692 (59.5%) in 15.00 min. Items per second: 25.21\n",
      "SLIMElasticNetRecommender: Processed 30230 (79.3%) in 20.00 min. Items per second: 25.19\n",
      "SLIMElasticNetRecommender: Processed 37805 (99.2%) in 25.00 min. Items per second: 25.20\n",
      "SLIMElasticNetRecommender: Processed 38121 (100.0%) in 25.22 min. Items per second: 25.19\n",
      "EvaluatorHoldout: Processed 35572 (100.0%) in 12.38 sec. Users per second: 2874\n",
      "('topK=150', 'l1_ratio=0.001', 'alpha=0.000255', 0.05963523901445378)\n",
      "SLIMElasticNetRecommender: Processed 8133 (21.3%) in 5.00 min. Items per second: 27.11\n",
      "SLIMElasticNetRecommender: Processed 16464 (43.2%) in 10.00 min. Items per second: 27.44\n",
      "SLIMElasticNetRecommender: Processed 24871 (65.2%) in 15.00 min. Items per second: 27.63\n",
      "SLIMElasticNetRecommender: Processed 33256 (87.2%) in 20.00 min. Items per second: 27.71\n",
      "SLIMElasticNetRecommender: Processed 38121 (100.0%) in 22.91 min. Items per second: 27.73\n",
      "EvaluatorHoldout: Processed 35572 (100.0%) in 12.77 sec. Users per second: 2786\n",
      "('topK=150', 'l1_ratio=0.001', 'alpha=0.0005', 0.059804504479176374)\n",
      "SLIMElasticNetRecommender: Processed 7580 (19.9%) in 5.00 min. Items per second: 25.26\n",
      "SLIMElasticNetRecommender: Processed 15174 (39.8%) in 10.00 min. Items per second: 25.29\n",
      "SLIMElasticNetRecommender: Processed 22685 (59.5%) in 15.00 min. Items per second: 25.20\n",
      "SLIMElasticNetRecommender: Processed 30242 (79.3%) in 20.00 min. Items per second: 25.20\n",
      "SLIMElasticNetRecommender: Processed 37788 (99.1%) in 25.00 min. Items per second: 25.19\n",
      "SLIMElasticNetRecommender: Processed 38121 (100.0%) in 25.24 min. Items per second: 25.18\n",
      "EvaluatorHoldout: Processed 35572 (100.0%) in 12.08 sec. Users per second: 2945\n",
      "('topK=150', 'l1_ratio=0.112', 'alpha=1e-05', 0.057742819615568895)\n",
      "SLIMElasticNetRecommender: Processed 7965 (20.9%) in 5.00 min. Items per second: 26.54\n",
      "SLIMElasticNetRecommender: Processed 16413 (43.1%) in 10.00 min. Items per second: 27.35\n",
      "SLIMElasticNetRecommender: Processed 24853 (65.2%) in 15.00 min. Items per second: 27.61\n",
      "SLIMElasticNetRecommender: Processed 33607 (88.2%) in 20.00 min. Items per second: 28.00\n",
      "SLIMElasticNetRecommender: Processed 38121 (100.0%) in 22.67 min. Items per second: 28.03\n",
      "EvaluatorHoldout: Processed 35572 (100.0%) in 13.94 sec. Users per second: 2552\n",
      "('topK=150', 'l1_ratio=0.112', 'alpha=0.000255', 0.06124384659594754)\n",
      "SLIMElasticNetRecommender: Processed 9394 (24.6%) in 5.00 min. Items per second: 31.31\n",
      "SLIMElasticNetRecommender: Processed 18963 (49.7%) in 10.00 min. Items per second: 31.60\n",
      "SLIMElasticNetRecommender: Processed 28966 (76.0%) in 15.00 min. Items per second: 32.18\n",
      "SLIMElasticNetRecommender: Processed 38121 (100.0%) in 19.52 min. Items per second: 32.55\n",
      "EvaluatorHoldout: Processed 35572 (100.0%) in 12.22 sec. Users per second: 2912\n",
      "('topK=150', 'l1_ratio=0.112', 'alpha=0.0005', 0.06016469949612378)\n",
      "SLIMElasticNetRecommender: Processed 7585 (19.9%) in 5.00 min. Items per second: 25.28\n",
      "SLIMElasticNetRecommender: Processed 15211 (39.9%) in 10.00 min. Items per second: 25.35\n",
      "SLIMElasticNetRecommender: Processed 22857 (60.0%) in 15.00 min. Items per second: 25.39\n",
      "SLIMElasticNetRecommender: Processed 30545 (80.1%) in 20.00 min. Items per second: 25.45\n",
      "SLIMElasticNetRecommender: Processed 38121 (100.0%) in 24.95 min. Items per second: 25.47\n",
      "EvaluatorHoldout: Processed 35572 (100.0%) in 11.70 sec. Users per second: 3039\n",
      "('topK=150', 'l1_ratio=0.223', 'alpha=1e-05', 0.05788428097540432)\n",
      "SLIMElasticNetRecommender: Processed 9507 (24.9%) in 5.00 min. Items per second: 31.68\n",
      "SLIMElasticNetRecommender: Processed 19112 (50.1%) in 10.00 min. Items per second: 31.85\n",
      "SLIMElasticNetRecommender: Processed 29256 (76.7%) in 15.00 min. Items per second: 32.50\n",
      "SLIMElasticNetRecommender: Processed 38121 (100.0%) in 19.35 min. Items per second: 32.84\n",
      "EvaluatorHoldout: Processed 35572 (100.0%) in 11.83 sec. Users per second: 3007\n",
      "('topK=150', 'l1_ratio=0.223', 'alpha=0.000255', 0.06084022858177928)\n",
      "SLIMElasticNetRecommender: Processed 13164 (34.5%) in 5.00 min. Items per second: 43.87\n",
      "SLIMElasticNetRecommender: Processed 27662 (72.6%) in 10.00 min. Items per second: 46.10\n",
      "SLIMElasticNetRecommender: Processed 38121 (100.0%) in 13.44 min. Items per second: 47.26\n",
      "EvaluatorHoldout: Processed 35572 (100.0%) in 10.29 sec. Users per second: 3456\n",
      "('topK=150', 'l1_ratio=0.223', 'alpha=0.0005', 0.05736179159995445)\n",
      "SLIMElasticNetRecommender: Processed 7281 (19.1%) in 5.00 min. Items per second: 24.26\n",
      "SLIMElasticNetRecommender: Processed 14552 (38.2%) in 10.00 min. Items per second: 24.25\n",
      "SLIMElasticNetRecommender: Processed 21819 (57.2%) in 15.00 min. Items per second: 24.24\n",
      "SLIMElasticNetRecommender: Processed 29119 (76.4%) in 20.00 min. Items per second: 24.26\n",
      "SLIMElasticNetRecommender: Processed 36425 (95.6%) in 25.00 min. Items per second: 24.28\n",
      "SLIMElasticNetRecommender: Processed 38121 (100.0%) in 26.21 min. Items per second: 24.24\n",
      "EvaluatorHoldout: Processed 35572 (100.0%) in 11.79 sec. Users per second: 3016\n",
      "('topK=150', 'l1_ratio=0.334', 'alpha=1e-05', 0.05802472160197164)\n",
      "SLIMElasticNetRecommender: Processed 10851 (28.5%) in 5.00 min. Items per second: 36.16\n",
      "SLIMElasticNetRecommender: Processed 22543 (59.1%) in 10.00 min. Items per second: 37.57\n",
      "SLIMElasticNetRecommender: Processed 34936 (91.6%) in 15.00 min. Items per second: 38.82\n",
      "SLIMElasticNetRecommender: Processed 38121 (100.0%) in 16.39 min. Items per second: 38.76\n",
      "EvaluatorHoldout: Processed 35572 (100.0%) in 10.86 sec. Users per second: 3277\n",
      "('topK=150', 'l1_ratio=0.334', 'alpha=0.000255', 0.05984089389906965)\n",
      "SLIMElasticNetRecommender: Processed 19111 (50.1%) in 5.00 min. Items per second: 63.70\n",
      "SLIMElasticNetRecommender: Processed 38121 (100.0%) in 9.66 min. Items per second: 65.80\n",
      "EvaluatorHoldout: Processed 35572 (100.0%) in 9.84 sec. Users per second: 3616\n",
      "('topK=150', 'l1_ratio=0.334', 'alpha=0.0005', 0.05396114787981783)\n",
      "SLIMElasticNetRecommender: Processed 7180 (18.8%) in 5.00 min. Items per second: 23.93\n",
      "SLIMElasticNetRecommender: Processed 14372 (37.7%) in 10.00 min. Items per second: 23.95\n",
      "SLIMElasticNetRecommender: Processed 21525 (56.5%) in 15.00 min. Items per second: 23.91\n",
      "SLIMElasticNetRecommender: Processed 28700 (75.3%) in 20.00 min. Items per second: 23.91\n",
      "SLIMElasticNetRecommender: Processed 35866 (94.1%) in 25.00 min. Items per second: 23.91\n",
      "SLIMElasticNetRecommender: Processed 38121 (100.0%) in 26.62 min. Items per second: 23.86\n",
      "EvaluatorHoldout: Processed 35572 (100.0%) in 12.34 sec. Users per second: 2883\n",
      "('topK=150', 'l1_ratio=0.445', 'alpha=1e-05', 0.05821011019010682)\n",
      "SLIMElasticNetRecommender: Processed 12223 (32.1%) in 5.00 min. Items per second: 40.74\n",
      "SLIMElasticNetRecommender: Processed 26041 (68.3%) in 10.00 min. Items per second: 43.40\n",
      "SLIMElasticNetRecommender: Processed 38121 (100.0%) in 14.26 min. Items per second: 44.56\n",
      "EvaluatorHoldout: Processed 35572 (100.0%) in 10.45 sec. Users per second: 3404\n",
      "('topK=150', 'l1_ratio=0.445', 'alpha=0.000255', 0.05831751252545515)\n",
      "SLIMElasticNetRecommender: Processed 26105 (68.5%) in 5.00 min. Items per second: 87.01\n",
      "SLIMElasticNetRecommender: Processed 38121 (100.0%) in 7.26 min. Items per second: 87.47\n",
      "EvaluatorHoldout: Processed 35572 (100.0%) in 9.52 sec. Users per second: 3738\n",
      "('topK=150', 'l1_ratio=0.445', 'alpha=0.0005', 0.05058484111812407)\n",
      "SLIMElasticNetRecommender: Processed 7756 (20.3%) in 5.00 min. Items per second: 25.85\n",
      "SLIMElasticNetRecommender: Processed 15554 (40.8%) in 10.00 min. Items per second: 25.92\n",
      "SLIMElasticNetRecommender: Processed 23360 (61.3%) in 15.00 min. Items per second: 25.95\n",
      "SLIMElasticNetRecommender: Processed 31229 (81.9%) in 20.00 min. Items per second: 26.02\n",
      "SLIMElasticNetRecommender: Processed 38121 (100.0%) in 24.47 min. Items per second: 25.96\n",
      "EvaluatorHoldout: Processed 35572 (100.0%) in 12.40 sec. Users per second: 2869\n",
      "('topK=150', 'l1_ratio=0.556', 'alpha=1e-05', 0.058358940909470525)\n",
      "SLIMElasticNetRecommender: Processed 15617 (41.0%) in 5.00 min. Items per second: 52.05\n",
      "SLIMElasticNetRecommender: Processed 32848 (86.2%) in 10.00 min. Items per second: 54.74\n",
      "SLIMElasticNetRecommender: Processed 38121 (100.0%) in 11.54 min. Items per second: 55.04\n",
      "EvaluatorHoldout: Processed 35572 (100.0%) in 10.11 sec. Users per second: 3517\n",
      "('topK=150', 'l1_ratio=0.556', 'alpha=0.000255', 0.0565935966668968)\n",
      "SLIMElasticNetRecommender: Processed 31126 (81.7%) in 5.00 min. Items per second: 103.75\n",
      "SLIMElasticNetRecommender: Processed 38121 (100.0%) in 6.19 min. Items per second: 102.67\n",
      "EvaluatorHoldout: Processed 35572 (100.0%) in 10.17 sec. Users per second: 3498\n",
      "('topK=150', 'l1_ratio=0.556', 'alpha=0.0005', 0.047515211714580265)\n",
      "SLIMElasticNetRecommender: Processed 7527 (19.7%) in 5.00 min. Items per second: 25.08\n",
      "SLIMElasticNetRecommender: Processed 15221 (39.9%) in 10.00 min. Items per second: 25.36\n",
      "SLIMElasticNetRecommender: Processed 22596 (59.3%) in 15.00 min. Items per second: 25.10\n",
      "SLIMElasticNetRecommender: Processed 30563 (80.2%) in 20.00 min. Items per second: 25.47\n",
      "SLIMElasticNetRecommender: Processed 38121 (100.0%) in 24.79 min. Items per second: 25.63\n",
      "EvaluatorHoldout: Processed 35572 (100.0%) in 12.11 sec. Users per second: 2936\n",
      "('topK=150', 'l1_ratio=0.667', 'alpha=1e-05', 0.05844079925534274)\n",
      "SLIMElasticNetRecommender: Processed 19816 (52.0%) in 5.00 min. Items per second: 66.05\n",
      "SLIMElasticNetRecommender: Processed 38121 (100.0%) in 9.38 min. Items per second: 67.76\n",
      "EvaluatorHoldout: Processed 35572 (100.0%) in 9.69 sec. Users per second: 3672\n",
      "('topK=150', 'l1_ratio=0.667', 'alpha=0.000255', 0.05485525332926197)\n",
      "SLIMElasticNetRecommender: Processed 36109 (94.7%) in 5.00 min. Items per second: 120.35\n",
      "SLIMElasticNetRecommender: Processed 38121 (100.0%) in 5.30 min. Items per second: 119.96\n",
      "EvaluatorHoldout: Processed 35572 (100.0%) in 9.65 sec. Users per second: 3684\n",
      "('topK=150', 'l1_ratio=0.667', 'alpha=0.0005', 0.04467610069628331)\n",
      "SLIMElasticNetRecommender: Processed 7319 (19.2%) in 5.00 min. Items per second: 24.39\n",
      "SLIMElasticNetRecommender: Processed 14823 (38.9%) in 10.00 min. Items per second: 24.70\n",
      "SLIMElasticNetRecommender: Processed 22045 (57.8%) in 15.00 min. Items per second: 24.49\n",
      "SLIMElasticNetRecommender: Processed 29828 (78.2%) in 20.00 min. Items per second: 24.85\n",
      "SLIMElasticNetRecommender: Processed 37519 (98.4%) in 25.00 min. Items per second: 25.01\n",
      "SLIMElasticNetRecommender: Processed 38121 (100.0%) in 25.40 min. Items per second: 25.01\n",
      "EvaluatorHoldout: Processed 35572 (100.0%) in 12.37 sec. Users per second: 2875\n",
      "('topK=150', 'l1_ratio=0.778', 'alpha=1e-05', 0.0585787176109603)\n",
      "SLIMElasticNetRecommender: Processed 23233 (60.9%) in 5.00 min. Items per second: 77.44\n",
      "SLIMElasticNetRecommender: Processed 38121 (100.0%) in 8.12 min. Items per second: 78.20\n",
      "EvaluatorHoldout: Processed 35572 (100.0%) in 9.71 sec. Users per second: 3665\n",
      "('topK=150', 'l1_ratio=0.778', 'alpha=0.000255', 0.053176400334486396)\n",
      "SLIMElasticNetRecommender: Processed 38121 (100.0%) in 4.70 min. Items per second: 135.27\n",
      "EvaluatorHoldout: Processed 35572 (100.0%) in 9.36 sec. Users per second: 3799\n",
      "('topK=150', 'l1_ratio=0.778', 'alpha=0.0005', 0.04203273954545847)\n",
      "SLIMElasticNetRecommender: Processed 6968 (18.3%) in 5.00 min. Items per second: 23.22\n",
      "SLIMElasticNetRecommender: Processed 14867 (39.0%) in 10.00 min. Items per second: 24.78\n",
      "SLIMElasticNetRecommender: Processed 22806 (59.8%) in 15.00 min. Items per second: 25.34\n",
      "SLIMElasticNetRecommender: Processed 30773 (80.7%) in 20.00 min. Items per second: 25.64\n",
      "SLIMElasticNetRecommender: Processed 38121 (100.0%) in 24.72 min. Items per second: 25.70\n",
      "EvaluatorHoldout: Processed 35572 (100.0%) in 12.43 sec. Users per second: 2862\n",
      "('topK=150', 'l1_ratio=0.889', 'alpha=1e-05', 0.05866451386769135)\n",
      "SLIMElasticNetRecommender: Processed 26460 (69.4%) in 5.00 min. Items per second: 88.20\n",
      "SLIMElasticNetRecommender: Processed 38121 (100.0%) in 7.21 min. Items per second: 88.10\n",
      "EvaluatorHoldout: Processed 35572 (100.0%) in 9.66 sec. Users per second: 3682\n",
      "('topK=150', 'l1_ratio=0.889', 'alpha=0.000255', 0.05137678064966205)\n",
      "SLIMElasticNetRecommender: Processed 38121 (100.0%) in 4.52 min. Items per second: 140.52\n",
      "EvaluatorHoldout: Processed 35572 (100.0%) in 8.81 sec. Users per second: 4037\n",
      "('topK=150', 'l1_ratio=0.889', 'alpha=0.0005', 0.039668802732306066)\n",
      "SLIMElasticNetRecommender: Processed 8108 (21.3%) in 5.00 min. Items per second: 27.02\n",
      "SLIMElasticNetRecommender: Processed 16075 (42.2%) in 10.00 min. Items per second: 26.79\n",
      "SLIMElasticNetRecommender: Processed 24063 (63.1%) in 15.00 min. Items per second: 26.73\n",
      "SLIMElasticNetRecommender: Processed 32036 (84.0%) in 20.00 min. Items per second: 26.69\n",
      "SLIMElasticNetRecommender: Processed 38121 (100.0%) in 23.80 min. Items per second: 26.70\n",
      "EvaluatorHoldout: Processed 35572 (100.0%) in 12.44 sec. Users per second: 2859\n",
      "('topK=150', 'l1_ratio=1.0', 'alpha=1e-05', 0.058845707967206215)\n",
      "SLIMElasticNetRecommender: Processed 28948 (75.9%) in 5.00 min. Items per second: 96.49\n",
      "SLIMElasticNetRecommender: Processed 38121 (100.0%) in 6.43 min. Items per second: 98.87\n",
      "EvaluatorHoldout: Processed 35572 (100.0%) in 9.42 sec. Users per second: 3775\n",
      "('topK=150', 'l1_ratio=1.0', 'alpha=0.000255', 0.04970213999239472)\n",
      "SLIMElasticNetRecommender: Processed 38121 (100.0%) in 4.08 min. Items per second: 155.89\n",
      "EvaluatorHoldout: Processed 35572 (100.0%) in 9.10 sec. Users per second: 3907\n",
      "('topK=150', 'l1_ratio=1.0', 'alpha=0.0005', 0.03754848650356214)\n",
      "SLIMElasticNetRecommender: Processed 5183 (13.6%) in 5.00 min. Items per second: 17.27\n",
      "SLIMElasticNetRecommender: Processed 10437 (27.4%) in 10.00 min. Items per second: 17.39\n",
      "SLIMElasticNetRecommender: Processed 15650 (41.1%) in 15.00 min. Items per second: 17.39\n",
      "SLIMElasticNetRecommender: Processed 20839 (54.7%) in 20.00 min. Items per second: 17.36\n"
     ]
    }
   ],
   "source": [
    "#MAP = []\n",
    "URM_train_coo = URM_train.tocoo()\n",
    "\n",
    "\n",
    "for topK_ in [50, 100, 150, 200]:\n",
    "    for l1_ratio_ in np.linspace(0.001, 1, 10):\n",
    "        for alpha_ in np.linspace(0.00001, 0.0005, 3):\n",
    "            slim_model = SLIMElasticNetRecommender(URM_train_coo, verbose=True)\n",
    "            slim_model.fit(l1_ratio=l1_ratio_, alpha = alpha_, topK = topK_)\n",
    "\n",
    "            result_dict, _ = evaluator_validation.evaluateRecommender(slim_model)\n",
    "            MAP.append(('topK={}'.format(topK_), 'l1_ratio={}'.format(l1_ratio_), 'alpha={}'.format(alpha_), result_dict[\"MAP\"][10]))\n",
    "\n",
    "            print(MAP[-1])\n",
    "            "
   ]
  },
  {
   "cell_type": "code",
   "execution_count": 14,
   "id": "5f3d7bd5-2ca5-4aae-bd82-fa10da43bbf8",
   "metadata": {},
   "outputs": [
    {
     "name": "stdout",
     "output_type": "stream",
     "text": [
      "The best combination for the ICF recommender is (topK=20,l1_ratio=0.15873684210526315,alpha=0.00034), with a MAP = 0.05992418684929483\n"
     ]
    }
   ],
   "source": [
    "max_tuple = max(MAP, key=itemgetter(3))\n",
    "print('The best combination for the ICF recommender is ({},{},{}), with a MAP = {}'.format(max_tuple[0],max_tuple[1], max_tuple[2], max_tuple[3]))"
   ]
  },
  {
   "cell_type": "code",
   "execution_count": null,
   "id": "85cfca6d-1b4b-4451-ac2f-728076b5c8fa",
   "metadata": {},
   "outputs": [],
   "source": [
    "slim_model = SLIMElasticNetRecommender(URM_train)"
   ]
  },
  {
   "cell_type": "code",
   "execution_count": 14,
   "id": "369f362b-db09-42db-aaa9-3ecfca6364a7",
   "metadata": {},
   "outputs": [
    {
     "name": "stdout",
     "output_type": "stream",
     "text": [
      "SLIMElasticNetRecommender: Processed 38121 (100.0%) in 3.09 min. Items per second: 205.70\n"
     ]
    }
   ],
   "source": [
    "slim_model.fit()"
   ]
  },
  {
   "cell_type": "code",
   "execution_count": 16,
   "id": "6ac1bea9-6498-4cf1-927d-db831cc5d12a",
   "metadata": {},
   "outputs": [
    {
     "name": "stdout",
     "output_type": "stream",
     "text": [
      "EvaluatorHoldout: Processed 35590 (100.0%) in 8.42 sec. Users per second: 4225\n"
     ]
    }
   ],
   "source": [
    "result_dict, _ = evaluator_validation.evaluateRecommender(slim_model)"
   ]
  },
  {
   "cell_type": "code",
   "execution_count": 17,
   "id": "4e087591-4310-4134-95c7-d3c87bb3a218",
   "metadata": {},
   "outputs": [
    {
     "data": {
      "text/html": [
       "<div>\n",
       "<style scoped>\n",
       "    .dataframe tbody tr th:only-of-type {\n",
       "        vertical-align: middle;\n",
       "    }\n",
       "\n",
       "    .dataframe tbody tr th {\n",
       "        vertical-align: top;\n",
       "    }\n",
       "\n",
       "    .dataframe thead th {\n",
       "        text-align: right;\n",
       "    }\n",
       "</style>\n",
       "<table border=\"1\" class=\"dataframe\">\n",
       "  <thead>\n",
       "    <tr style=\"text-align: right;\">\n",
       "      <th></th>\n",
       "      <th>PRECISION</th>\n",
       "      <th>PRECISION_RECALL_MIN_DEN</th>\n",
       "      <th>RECALL</th>\n",
       "      <th>MAP</th>\n",
       "      <th>MAP_MIN_DEN</th>\n",
       "      <th>MRR</th>\n",
       "      <th>NDCG</th>\n",
       "      <th>F1</th>\n",
       "      <th>HIT_RATE</th>\n",
       "      <th>ARHR_ALL_HITS</th>\n",
       "      <th>...</th>\n",
       "      <th>COVERAGE_USER</th>\n",
       "      <th>COVERAGE_USER_HIT</th>\n",
       "      <th>USERS_IN_GT</th>\n",
       "      <th>DIVERSITY_GINI</th>\n",
       "      <th>SHANNON_ENTROPY</th>\n",
       "      <th>RATIO_DIVERSITY_HERFINDAHL</th>\n",
       "      <th>RATIO_DIVERSITY_GINI</th>\n",
       "      <th>RATIO_SHANNON_ENTROPY</th>\n",
       "      <th>RATIO_AVERAGE_POPULARITY</th>\n",
       "      <th>RATIO_NOVELTY</th>\n",
       "    </tr>\n",
       "    <tr>\n",
       "      <th>cutoff</th>\n",
       "      <th></th>\n",
       "      <th></th>\n",
       "      <th></th>\n",
       "      <th></th>\n",
       "      <th></th>\n",
       "      <th></th>\n",
       "      <th></th>\n",
       "      <th></th>\n",
       "      <th></th>\n",
       "      <th></th>\n",
       "      <th></th>\n",
       "      <th></th>\n",
       "      <th></th>\n",
       "      <th></th>\n",
       "      <th></th>\n",
       "      <th></th>\n",
       "      <th></th>\n",
       "      <th></th>\n",
       "      <th></th>\n",
       "      <th></th>\n",
       "      <th></th>\n",
       "    </tr>\n",
       "  </thead>\n",
       "  <tbody>\n",
       "    <tr>\n",
       "      <th>10</th>\n",
       "      <td>0.000865</td>\n",
       "      <td>0.001183</td>\n",
       "      <td>0.000963</td>\n",
       "      <td>0.000252</td>\n",
       "      <td>0.000365</td>\n",
       "      <td>0.002385</td>\n",
       "      <td>0.001031</td>\n",
       "      <td>0.000912</td>\n",
       "      <td>0.008205</td>\n",
       "      <td>0.00245</td>\n",
       "      <td>...</td>\n",
       "      <td>0.995914</td>\n",
       "      <td>0.008171</td>\n",
       "      <td>0.995914</td>\n",
       "      <td>0.000638</td>\n",
       "      <td>4.95516</td>\n",
       "      <td>0.955743</td>\n",
       "      <td>0.00105</td>\n",
       "      <td>0.335671</td>\n",
       "      <td>2.365443</td>\n",
       "      <td>0.232804</td>\n",
       "    </tr>\n",
       "  </tbody>\n",
       "</table>\n",
       "<p>1 rows × 27 columns</p>\n",
       "</div>"
      ],
      "text/plain": [
       "       PRECISION PRECISION_RECALL_MIN_DEN    RECALL       MAP MAP_MIN_DEN  \\\n",
       "cutoff                                                                      \n",
       "10      0.000865                 0.001183  0.000963  0.000252    0.000365   \n",
       "\n",
       "             MRR      NDCG        F1  HIT_RATE ARHR_ALL_HITS  ...  \\\n",
       "cutoff                                                        ...   \n",
       "10      0.002385  0.001031  0.000912  0.008205       0.00245  ...   \n",
       "\n",
       "       COVERAGE_USER COVERAGE_USER_HIT USERS_IN_GT DIVERSITY_GINI  \\\n",
       "cutoff                                                              \n",
       "10          0.995914          0.008171    0.995914       0.000638   \n",
       "\n",
       "       SHANNON_ENTROPY RATIO_DIVERSITY_HERFINDAHL RATIO_DIVERSITY_GINI  \\\n",
       "cutoff                                                                   \n",
       "10             4.95516                   0.955743              0.00105   \n",
       "\n",
       "       RATIO_SHANNON_ENTROPY RATIO_AVERAGE_POPULARITY RATIO_NOVELTY  \n",
       "cutoff                                                               \n",
       "10                  0.335671                 2.365443      0.232804  \n",
       "\n",
       "[1 rows x 27 columns]"
      ]
     },
     "execution_count": 17,
     "metadata": {},
     "output_type": "execute_result"
    }
   ],
   "source": [
    "result_dict"
   ]
  },
  {
   "cell_type": "code",
   "execution_count": 18,
   "id": "79d3269b-53c7-4d76-b02c-a9c93964ad71",
   "metadata": {},
   "outputs": [
    {
     "data": {
      "text/plain": [
       "0.00025152753805465186"
      ]
     },
     "execution_count": 18,
     "metadata": {},
     "output_type": "execute_result"
    }
   ],
   "source": [
    "result_dict[\"MAP\"][10]"
   ]
  },
  {
   "cell_type": "markdown",
   "id": "31f206ab-a0da-4d22-b2c4-60029a17fe0c",
   "metadata": {},
   "source": [
    "# SLIM BPR"
   ]
  },
  {
   "cell_type": "code",
   "execution_count": 7,
   "id": "e9d3a944-8bc5-4d73-b8a2-733f068a5ec0",
   "metadata": {},
   "outputs": [],
   "source": [
    "from libs.Recommenders.SLIM.SLIM_BPR_Python import SLIM_BPR_Python"
   ]
  },
  {
   "cell_type": "code",
   "execution_count": 8,
   "id": "5a495879-896b-4b1c-a8fd-a2a552366665",
   "metadata": {},
   "outputs": [],
   "source": [
    "MAP_bpr = []"
   ]
  },
  {
   "cell_type": "code",
   "execution_count": null,
   "id": "b05f9272-cd2b-4082-a027-ba908900a6c6",
   "metadata": {},
   "outputs": [],
   "source": [
    "evaluator_validation = EvaluatorHoldout(URM_validation, cutoff_list=[10])"
   ]
  },
  {
   "cell_type": "code",
   "execution_count": null,
   "id": "2f40e0b1-0e64-4d56-a190-c9a2e41149f0",
   "metadata": {},
   "outputs": [],
   "source": []
  },
  {
   "cell_type": "code",
   "execution_count": 10,
   "id": "2a7032a5-6d52-43bd-874a-742f28dd9e34",
   "metadata": {},
   "outputs": [
    {
     "name": "stdout",
     "output_type": "stream",
     "text": [
      "Train completed in 3.08 minutes\n",
      "EvaluatorHoldout: Processed 35570 (100.0%) in 17.81 sec. Users per second: 1998\n",
      "('topK=200', 'learning_rate=0.001', 'lambda_i_=0.005', 'lambda_j_=0.005', 0.030668128126519298)\n",
      "Train completed in 3.35 minutes\n",
      "EvaluatorHoldout: Processed 35570 (100.0%) in 17.78 sec. Users per second: 2000\n",
      "('topK=200', 'learning_rate=0.001', 'lambda_i_=0.005', 'lambda_j_=0.006666666666666667', 0.030627258569062735)\n",
      "Train completed in 3.33 minutes\n",
      "EvaluatorHoldout: Processed 35570 (100.0%) in 17.57 sec. Users per second: 2024\n",
      "('topK=200', 'learning_rate=0.001', 'lambda_i_=0.005', 'lambda_j_=0.008333333333333333', 0.030665032285990212)\n",
      "Train completed in 3.08 minutes\n",
      "EvaluatorHoldout: Processed 35570 (100.0%) in 18.27 sec. Users per second: 1947\n",
      "('topK=200', 'learning_rate=0.001', 'lambda_i_=0.005', 'lambda_j_=0.01', 0.03056500930425509)\n",
      "Train completed in 3.12 minutes\n",
      "EvaluatorHoldout: Processed 35570 (100.0%) in 17.87 sec. Users per second: 1990\n",
      "('topK=200', 'learning_rate=0.001', 'lambda_i_=0.006666666666666667', 'lambda_j_=0.005', 0.030712491800205553)\n",
      "Train completed in 3.15 minutes\n",
      "EvaluatorHoldout: Processed 35570 (100.0%) in 17.86 sec. Users per second: 1992\n",
      "('topK=200', 'learning_rate=0.001', 'lambda_i_=0.006666666666666667', 'lambda_j_=0.006666666666666667', 0.030682192725276055)\n",
      "Train completed in 3.39 minutes\n",
      "EvaluatorHoldout: Processed 35570 (100.0%) in 17.87 sec. Users per second: 1990\n",
      "('topK=200', 'learning_rate=0.001', 'lambda_i_=0.006666666666666667', 'lambda_j_=0.008333333333333333', 0.030621408267176357)\n",
      "Train completed in 3.36 minutes\n",
      "EvaluatorHoldout: Processed 35570 (100.0%) in 18.22 sec. Users per second: 1952\n",
      "('topK=200', 'learning_rate=0.001', 'lambda_i_=0.006666666666666667', 'lambda_j_=0.01', 0.03065364182407958)\n",
      "Train completed in 3.40 minutes\n",
      "EvaluatorHoldout: Processed 35570 (100.0%) in 18.27 sec. Users per second: 1947\n",
      "('topK=200', 'learning_rate=0.001', 'lambda_i_=0.008333333333333333', 'lambda_j_=0.005', 0.03055225890374819)\n",
      "Train completed in 3.41 minutes\n",
      "EvaluatorHoldout: Processed 35570 (100.0%) in 17.93 sec. Users per second: 1984\n",
      "('topK=200', 'learning_rate=0.001', 'lambda_i_=0.008333333333333333', 'lambda_j_=0.006666666666666667', 0.03068486463088583)\n",
      "Train completed in 3.25 minutes\n",
      "EvaluatorHoldout: Processed 35570 (100.0%) in 18.16 sec. Users per second: 1959\n",
      "('topK=200', 'learning_rate=0.001', 'lambda_i_=0.008333333333333333', 'lambda_j_=0.008333333333333333', 0.030619993663287732)\n",
      "Train completed in 3.37 minutes\n",
      "EvaluatorHoldout: Processed 35570 (100.0%) in 17.67 sec. Users per second: 2013\n",
      "('topK=200', 'learning_rate=0.001', 'lambda_i_=0.008333333333333333', 'lambda_j_=0.01', 0.030709435006313596)\n",
      "Train completed in 3.31 minutes\n",
      "EvaluatorHoldout: Processed 35570 (100.0%) in 17.73 sec. Users per second: 2006\n",
      "('topK=200', 'learning_rate=0.001', 'lambda_i_=0.01', 'lambda_j_=0.005', 0.030679109156547313)\n",
      "Train completed in 3.23 minutes\n",
      "EvaluatorHoldout: Processed 35570 (100.0%) in 17.61 sec. Users per second: 2020\n",
      "('topK=200', 'learning_rate=0.001', 'lambda_i_=0.01', 'lambda_j_=0.006666666666666667', 0.030704815231311532)\n",
      "Train completed in 3.16 minutes\n",
      "EvaluatorHoldout: Processed 35570 (100.0%) in 17.53 sec. Users per second: 2029\n",
      "('topK=200', 'learning_rate=0.001', 'lambda_i_=0.01', 'lambda_j_=0.008333333333333333', 0.03057822268631863)\n",
      "Train completed in 3.28 minutes\n",
      "EvaluatorHoldout: Processed 35570 (100.0%) in 17.68 sec. Users per second: 2012\n",
      "('topK=200', 'learning_rate=0.001', 'lambda_i_=0.01', 'lambda_j_=0.01', 0.03062202855090049)\n",
      "Train completed in 3.19 minutes\n",
      "EvaluatorHoldout: Processed 35570 (100.0%) in 16.15 sec. Users per second: 2203\n",
      "('topK=200', 'learning_rate=0.334', 'lambda_i_=0.005', 'lambda_j_=0.005', 0.035390831180189375)\n",
      "Train completed in 3.51 minutes\n",
      "EvaluatorHoldout: Processed 35570 (100.0%) in 16.25 sec. Users per second: 2189\n",
      "('topK=200', 'learning_rate=0.334', 'lambda_i_=0.005', 'lambda_j_=0.006666666666666667', 0.03544715316545398)\n"
     ]
    },
    {
     "name": "stderr",
     "output_type": "stream",
     "text": [
      "/Users/safuan/Python/RecSysCompetition2024Polimi/libs/Recommenders/SLIM/SLIM_BPR_Python.py:78: RuntimeWarning: overflow encountered in exp\n",
      "  sigmoid_gradient = 1 / (1 + np.exp(x_uij))\n"
     ]
    },
    {
     "name": "stdout",
     "output_type": "stream",
     "text": [
      "Train completed in 3.70 minutes\n",
      "EvaluatorHoldout: Processed 35570 (100.0%) in 15.97 sec. Users per second: 2227\n",
      "('topK=200', 'learning_rate=0.334', 'lambda_i_=0.005', 'lambda_j_=0.008333333333333333', 0.035371372567393256)\n"
     ]
    },
    {
     "name": "stderr",
     "output_type": "stream",
     "text": [
      "/Users/safuan/Python/RecSysCompetition2024Polimi/libs/Recommenders/SLIM/SLIM_BPR_Python.py:78: RuntimeWarning: overflow encountered in exp\n",
      "  sigmoid_gradient = 1 / (1 + np.exp(x_uij))\n"
     ]
    },
    {
     "name": "stdout",
     "output_type": "stream",
     "text": [
      "Train completed in 3.64 minutes\n",
      "EvaluatorHoldout: Processed 35570 (100.0%) in 16.60 sec. Users per second: 2143\n",
      "('topK=200', 'learning_rate=0.334', 'lambda_i_=0.005', 'lambda_j_=0.01', 0.035436725482057396)\n"
     ]
    },
    {
     "name": "stderr",
     "output_type": "stream",
     "text": [
      "/Users/safuan/Python/RecSysCompetition2024Polimi/libs/Recommenders/SLIM/SLIM_BPR_Python.py:78: RuntimeWarning: overflow encountered in exp\n",
      "  sigmoid_gradient = 1 / (1 + np.exp(x_uij))\n"
     ]
    },
    {
     "name": "stdout",
     "output_type": "stream",
     "text": [
      "Train completed in 3.72 minutes\n",
      "EvaluatorHoldout: Processed 35570 (100.0%) in 15.86 sec. Users per second: 2243\n",
      "('topK=200', 'learning_rate=0.334', 'lambda_i_=0.006666666666666667', 'lambda_j_=0.005', 0.035459151639288485)\n",
      "Train completed in 3.74 minutes\n",
      "EvaluatorHoldout: Processed 35570 (100.0%) in 15.56 sec. Users per second: 2286\n",
      "('topK=200', 'learning_rate=0.334', 'lambda_i_=0.006666666666666667', 'lambda_j_=0.006666666666666667', 0.03538924142424184)\n",
      "Train completed in 3.41 minutes\n",
      "EvaluatorHoldout: Processed 35570 (100.0%) in 15.77 sec. Users per second: 2256\n",
      "('topK=200', 'learning_rate=0.334', 'lambda_i_=0.006666666666666667', 'lambda_j_=0.008333333333333333', 0.03546026279502406)\n"
     ]
    },
    {
     "name": "stderr",
     "output_type": "stream",
     "text": [
      "/Users/safuan/Python/RecSysCompetition2024Polimi/libs/Recommenders/SLIM/SLIM_BPR_Python.py:78: RuntimeWarning: overflow encountered in exp\n",
      "  sigmoid_gradient = 1 / (1 + np.exp(x_uij))\n"
     ]
    },
    {
     "name": "stdout",
     "output_type": "stream",
     "text": [
      "Train completed in 3.34 minutes\n",
      "EvaluatorHoldout: Processed 35570 (100.0%) in 15.75 sec. Users per second: 2258\n",
      "('topK=200', 'learning_rate=0.334', 'lambda_i_=0.006666666666666667', 'lambda_j_=0.01', 0.03534308941456712)\n",
      "Train completed in 3.39 minutes\n",
      "EvaluatorHoldout: Processed 35570 (100.0%) in 15.77 sec. Users per second: 2256\n",
      "('topK=200', 'learning_rate=0.334', 'lambda_i_=0.008333333333333333', 'lambda_j_=0.005', 0.035207723647981116)\n"
     ]
    },
    {
     "name": "stderr",
     "output_type": "stream",
     "text": [
      "/Users/safuan/Python/RecSysCompetition2024Polimi/libs/Recommenders/SLIM/SLIM_BPR_Python.py:78: RuntimeWarning: overflow encountered in exp\n",
      "  sigmoid_gradient = 1 / (1 + np.exp(x_uij))\n"
     ]
    },
    {
     "name": "stdout",
     "output_type": "stream",
     "text": [
      "Train completed in 3.40 minutes\n",
      "EvaluatorHoldout: Processed 35570 (100.0%) in 15.72 sec. Users per second: 2263\n",
      "('topK=200', 'learning_rate=0.334', 'lambda_i_=0.008333333333333333', 'lambda_j_=0.006666666666666667', 0.035518350803913475)\n",
      "Train completed in 3.27 minutes\n",
      "EvaluatorHoldout: Processed 35570 (100.0%) in 15.68 sec. Users per second: 2269\n",
      "('topK=200', 'learning_rate=0.334', 'lambda_i_=0.008333333333333333', 'lambda_j_=0.008333333333333333', 0.035485619681289035)\n"
     ]
    },
    {
     "name": "stderr",
     "output_type": "stream",
     "text": [
      "/Users/safuan/Python/RecSysCompetition2024Polimi/libs/Recommenders/SLIM/SLIM_BPR_Python.py:78: RuntimeWarning: overflow encountered in exp\n",
      "  sigmoid_gradient = 1 / (1 + np.exp(x_uij))\n"
     ]
    },
    {
     "name": "stdout",
     "output_type": "stream",
     "text": [
      "Train completed in 3.22 minutes\n",
      "EvaluatorHoldout: Processed 35570 (100.0%) in 15.62 sec. Users per second: 2277\n",
      "('topK=200', 'learning_rate=0.334', 'lambda_i_=0.008333333333333333', 'lambda_j_=0.01', 0.0353185000736297)\n"
     ]
    },
    {
     "name": "stderr",
     "output_type": "stream",
     "text": [
      "/Users/safuan/Python/RecSysCompetition2024Polimi/libs/Recommenders/SLIM/SLIM_BPR_Python.py:78: RuntimeWarning: overflow encountered in exp\n",
      "  sigmoid_gradient = 1 / (1 + np.exp(x_uij))\n"
     ]
    },
    {
     "name": "stdout",
     "output_type": "stream",
     "text": [
      "Train completed in 3.22 minutes\n",
      "EvaluatorHoldout: Processed 35570 (100.0%) in 15.66 sec. Users per second: 2271\n",
      "('topK=200', 'learning_rate=0.334', 'lambda_i_=0.01', 'lambda_j_=0.005', 0.035173586846413994)\n"
     ]
    },
    {
     "name": "stderr",
     "output_type": "stream",
     "text": [
      "/Users/safuan/Python/RecSysCompetition2024Polimi/libs/Recommenders/SLIM/SLIM_BPR_Python.py:78: RuntimeWarning: overflow encountered in exp\n",
      "  sigmoid_gradient = 1 / (1 + np.exp(x_uij))\n"
     ]
    },
    {
     "name": "stdout",
     "output_type": "stream",
     "text": [
      "Train completed in 3.23 minutes\n",
      "EvaluatorHoldout: Processed 35570 (100.0%) in 15.70 sec. Users per second: 2266\n",
      "('topK=200', 'learning_rate=0.334', 'lambda_i_=0.01', 'lambda_j_=0.006666666666666667', 0.035078460312996884)\n",
      "Train completed in 3.24 minutes\n",
      "EvaluatorHoldout: Processed 35570 (100.0%) in 15.64 sec. Users per second: 2274\n",
      "('topK=200', 'learning_rate=0.334', 'lambda_i_=0.01', 'lambda_j_=0.008333333333333333', 0.03529963831657562)\n",
      "Train completed in 3.22 minutes\n",
      "EvaluatorHoldout: Processed 35570 (100.0%) in 15.56 sec. Users per second: 2286\n",
      "('topK=200', 'learning_rate=0.334', 'lambda_i_=0.01', 'lambda_j_=0.01', 0.035407594459392705)\n"
     ]
    },
    {
     "name": "stderr",
     "output_type": "stream",
     "text": [
      "/Users/safuan/Python/RecSysCompetition2024Polimi/libs/Recommenders/SLIM/SLIM_BPR_Python.py:78: RuntimeWarning: overflow encountered in exp\n",
      "  sigmoid_gradient = 1 / (1 + np.exp(x_uij))\n"
     ]
    },
    {
     "name": "stdout",
     "output_type": "stream",
     "text": [
      "Train completed in 3.23 minutes\n",
      "EvaluatorHoldout: Processed 35570 (100.0%) in 15.30 sec. Users per second: 2325\n",
      "('topK=200', 'learning_rate=0.667', 'lambda_i_=0.005', 'lambda_j_=0.005', 0.032245769575751766)\n"
     ]
    },
    {
     "name": "stderr",
     "output_type": "stream",
     "text": [
      "/Users/safuan/Python/RecSysCompetition2024Polimi/libs/Recommenders/SLIM/SLIM_BPR_Python.py:78: RuntimeWarning: overflow encountered in exp\n",
      "  sigmoid_gradient = 1 / (1 + np.exp(x_uij))\n"
     ]
    },
    {
     "name": "stdout",
     "output_type": "stream",
     "text": [
      "Train completed in 3.22 minutes\n",
      "EvaluatorHoldout: Processed 35570 (100.0%) in 15.26 sec. Users per second: 2331\n",
      "('topK=200', 'learning_rate=0.667', 'lambda_i_=0.005', 'lambda_j_=0.006666666666666667', 0.032376750962777555)\n"
     ]
    },
    {
     "name": "stderr",
     "output_type": "stream",
     "text": [
      "/Users/safuan/Python/RecSysCompetition2024Polimi/libs/Recommenders/SLIM/SLIM_BPR_Python.py:78: RuntimeWarning: overflow encountered in exp\n",
      "  sigmoid_gradient = 1 / (1 + np.exp(x_uij))\n"
     ]
    },
    {
     "name": "stdout",
     "output_type": "stream",
     "text": [
      "Train completed in 3.40 minutes\n",
      "EvaluatorHoldout: Processed 35570 (100.0%) in 15.54 sec. Users per second: 2289\n",
      "('topK=200', 'learning_rate=0.667', 'lambda_i_=0.005', 'lambda_j_=0.008333333333333333', 0.03272319169444446)\n",
      "Train completed in 3.33 minutes\n",
      "EvaluatorHoldout: Processed 35570 (100.0%) in 15.56 sec. Users per second: 2286\n",
      "('topK=200', 'learning_rate=0.667', 'lambda_i_=0.005', 'lambda_j_=0.01', 0.03219929068994173)\n"
     ]
    },
    {
     "name": "stderr",
     "output_type": "stream",
     "text": [
      "/Users/safuan/Python/RecSysCompetition2024Polimi/libs/Recommenders/SLIM/SLIM_BPR_Python.py:78: RuntimeWarning: overflow encountered in exp\n",
      "  sigmoid_gradient = 1 / (1 + np.exp(x_uij))\n"
     ]
    },
    {
     "name": "stdout",
     "output_type": "stream",
     "text": [
      "Train completed in 3.38 minutes\n",
      "EvaluatorHoldout: Processed 35570 (100.0%) in 15.59 sec. Users per second: 2282\n",
      "('topK=200', 'learning_rate=0.667', 'lambda_i_=0.006666666666666667', 'lambda_j_=0.005', 0.0319331744692994)\n"
     ]
    },
    {
     "name": "stderr",
     "output_type": "stream",
     "text": [
      "/Users/safuan/Python/RecSysCompetition2024Polimi/libs/Recommenders/SLIM/SLIM_BPR_Python.py:78: RuntimeWarning: overflow encountered in exp\n",
      "  sigmoid_gradient = 1 / (1 + np.exp(x_uij))\n"
     ]
    },
    {
     "name": "stdout",
     "output_type": "stream",
     "text": [
      "Train completed in 3.37 minutes\n",
      "EvaluatorHoldout: Processed 35570 (100.0%) in 15.69 sec. Users per second: 2267\n",
      "('topK=200', 'learning_rate=0.667', 'lambda_i_=0.006666666666666667', 'lambda_j_=0.006666666666666667', 0.03180278212868781)\n"
     ]
    },
    {
     "name": "stderr",
     "output_type": "stream",
     "text": [
      "/Users/safuan/Python/RecSysCompetition2024Polimi/libs/Recommenders/SLIM/SLIM_BPR_Python.py:78: RuntimeWarning: overflow encountered in exp\n",
      "  sigmoid_gradient = 1 / (1 + np.exp(x_uij))\n"
     ]
    },
    {
     "name": "stdout",
     "output_type": "stream",
     "text": [
      "Train completed in 3.34 minutes\n",
      "EvaluatorHoldout: Processed 35570 (100.0%) in 15.54 sec. Users per second: 2288\n",
      "('topK=200', 'learning_rate=0.667', 'lambda_i_=0.006666666666666667', 'lambda_j_=0.008333333333333333', 0.03218637852479468)\n",
      "Train completed in 3.46 minutes\n",
      "EvaluatorHoldout: Processed 35570 (100.0%) in 16.01 sec. Users per second: 2222\n",
      "('topK=200', 'learning_rate=0.667', 'lambda_i_=0.006666666666666667', 'lambda_j_=0.01', 0.03189457184804302)\n"
     ]
    },
    {
     "name": "stderr",
     "output_type": "stream",
     "text": [
      "/Users/safuan/Python/RecSysCompetition2024Polimi/libs/Recommenders/SLIM/SLIM_BPR_Python.py:78: RuntimeWarning: overflow encountered in exp\n",
      "  sigmoid_gradient = 1 / (1 + np.exp(x_uij))\n"
     ]
    },
    {
     "name": "stdout",
     "output_type": "stream",
     "text": [
      "Train completed in 3.68 minutes\n",
      "EvaluatorHoldout: Processed 35570 (100.0%) in 16.00 sec. Users per second: 2223\n",
      "('topK=200', 'learning_rate=0.667', 'lambda_i_=0.008333333333333333', 'lambda_j_=0.005', 0.03121640092640836)\n"
     ]
    },
    {
     "name": "stderr",
     "output_type": "stream",
     "text": [
      "/Users/safuan/Python/RecSysCompetition2024Polimi/libs/Recommenders/SLIM/SLIM_BPR_Python.py:78: RuntimeWarning: overflow encountered in exp\n",
      "  sigmoid_gradient = 1 / (1 + np.exp(x_uij))\n"
     ]
    },
    {
     "name": "stdout",
     "output_type": "stream",
     "text": [
      "Train completed in 3.84 minutes\n",
      "EvaluatorHoldout: Processed 35570 (100.0%) in 15.81 sec. Users per second: 2249\n",
      "('topK=200', 'learning_rate=0.667', 'lambda_i_=0.008333333333333333', 'lambda_j_=0.006666666666666667', 0.03135544265499193)\n"
     ]
    },
    {
     "name": "stderr",
     "output_type": "stream",
     "text": [
      "/Users/safuan/Python/RecSysCompetition2024Polimi/libs/Recommenders/SLIM/SLIM_BPR_Python.py:78: RuntimeWarning: overflow encountered in exp\n",
      "  sigmoid_gradient = 1 / (1 + np.exp(x_uij))\n"
     ]
    },
    {
     "name": "stdout",
     "output_type": "stream",
     "text": [
      "Train completed in 3.61 minutes\n",
      "EvaluatorHoldout: Processed 35570 (100.0%) in 16.03 sec. Users per second: 2219\n",
      "('topK=200', 'learning_rate=0.667', 'lambda_i_=0.008333333333333333', 'lambda_j_=0.008333333333333333', 0.03126038305866741)\n"
     ]
    },
    {
     "name": "stderr",
     "output_type": "stream",
     "text": [
      "/Users/safuan/Python/RecSysCompetition2024Polimi/libs/Recommenders/SLIM/SLIM_BPR_Python.py:78: RuntimeWarning: overflow encountered in exp\n",
      "  sigmoid_gradient = 1 / (1 + np.exp(x_uij))\n"
     ]
    },
    {
     "name": "stdout",
     "output_type": "stream",
     "text": [
      "Train completed in 4.16 minutes\n",
      "EvaluatorHoldout: Processed 35570 (100.0%) in 16.33 sec. Users per second: 2178\n",
      "('topK=200', 'learning_rate=0.667', 'lambda_i_=0.008333333333333333', 'lambda_j_=0.01', 0.03102712960359761)\n"
     ]
    },
    {
     "name": "stderr",
     "output_type": "stream",
     "text": [
      "/Users/safuan/Python/RecSysCompetition2024Polimi/libs/Recommenders/SLIM/SLIM_BPR_Python.py:78: RuntimeWarning: overflow encountered in exp\n",
      "  sigmoid_gradient = 1 / (1 + np.exp(x_uij))\n"
     ]
    },
    {
     "name": "stdout",
     "output_type": "stream",
     "text": [
      "Train completed in 4.37 minutes\n",
      "EvaluatorHoldout: Processed 35570 (100.0%) in 16.16 sec. Users per second: 2201\n",
      "('topK=200', 'learning_rate=0.667', 'lambda_i_=0.01', 'lambda_j_=0.005', 0.030758995229615463)\n"
     ]
    },
    {
     "name": "stderr",
     "output_type": "stream",
     "text": [
      "/Users/safuan/Python/RecSysCompetition2024Polimi/libs/Recommenders/SLIM/SLIM_BPR_Python.py:78: RuntimeWarning: overflow encountered in exp\n",
      "  sigmoid_gradient = 1 / (1 + np.exp(x_uij))\n"
     ]
    },
    {
     "name": "stdout",
     "output_type": "stream",
     "text": [
      "Train completed in 3.98 minutes\n",
      "EvaluatorHoldout: Processed 35570 (100.0%) in 15.72 sec. Users per second: 2262\n",
      "('topK=200', 'learning_rate=0.667', 'lambda_i_=0.01', 'lambda_j_=0.006666666666666667', 0.03084340513452017)\n"
     ]
    },
    {
     "name": "stderr",
     "output_type": "stream",
     "text": [
      "/Users/safuan/Python/RecSysCompetition2024Polimi/libs/Recommenders/SLIM/SLIM_BPR_Python.py:78: RuntimeWarning: overflow encountered in exp\n",
      "  sigmoid_gradient = 1 / (1 + np.exp(x_uij))\n"
     ]
    },
    {
     "name": "stdout",
     "output_type": "stream",
     "text": [
      "Train completed in 13.53 minutes\n",
      "EvaluatorHoldout: Processed 35570 (100.0%) in 15.42 sec. Users per second: 2307\n",
      "('topK=200', 'learning_rate=0.667', 'lambda_i_=0.01', 'lambda_j_=0.008333333333333333', 0.03037312855045412)\n"
     ]
    },
    {
     "name": "stderr",
     "output_type": "stream",
     "text": [
      "/Users/safuan/Python/RecSysCompetition2024Polimi/libs/Recommenders/SLIM/SLIM_BPR_Python.py:78: RuntimeWarning: overflow encountered in exp\n",
      "  sigmoid_gradient = 1 / (1 + np.exp(x_uij))\n"
     ]
    },
    {
     "name": "stdout",
     "output_type": "stream",
     "text": [
      "Train completed in 3.95 minutes\n",
      "EvaluatorHoldout: Processed 35570 (100.0%) in 15.75 sec. Users per second: 2258\n",
      "('topK=200', 'learning_rate=0.667', 'lambda_i_=0.01', 'lambda_j_=0.01', 0.030802398356024087)\n"
     ]
    },
    {
     "name": "stderr",
     "output_type": "stream",
     "text": [
      "/Users/safuan/Python/RecSysCompetition2024Polimi/libs/Recommenders/SLIM/SLIM_BPR_Python.py:78: RuntimeWarning: overflow encountered in exp\n",
      "  sigmoid_gradient = 1 / (1 + np.exp(x_uij))\n"
     ]
    },
    {
     "name": "stdout",
     "output_type": "stream",
     "text": [
      "Train completed in 4.30 minutes\n",
      "EvaluatorHoldout: Processed 35570 (100.0%) in 16.05 sec. Users per second: 2216\n",
      "('topK=200', 'learning_rate=1.0', 'lambda_i_=0.005', 'lambda_j_=0.005', 0.02698147850649889)\n"
     ]
    },
    {
     "name": "stderr",
     "output_type": "stream",
     "text": [
      "/Users/safuan/Python/RecSysCompetition2024Polimi/libs/Recommenders/SLIM/SLIM_BPR_Python.py:78: RuntimeWarning: overflow encountered in exp\n",
      "  sigmoid_gradient = 1 / (1 + np.exp(x_uij))\n"
     ]
    },
    {
     "name": "stdout",
     "output_type": "stream",
     "text": [
      "Train completed in 4.37 minutes\n",
      "EvaluatorHoldout: Processed 35570 (100.0%) in 16.10 sec. Users per second: 2209\n",
      "('topK=200', 'learning_rate=1.0', 'lambda_i_=0.005', 'lambda_j_=0.006666666666666667', 0.026692474262687265)\n"
     ]
    },
    {
     "name": "stderr",
     "output_type": "stream",
     "text": [
      "/Users/safuan/Python/RecSysCompetition2024Polimi/libs/Recommenders/SLIM/SLIM_BPR_Python.py:78: RuntimeWarning: overflow encountered in exp\n",
      "  sigmoid_gradient = 1 / (1 + np.exp(x_uij))\n"
     ]
    },
    {
     "ename": "KeyboardInterrupt",
     "evalue": "",
     "output_type": "error",
     "traceback": [
      "\u001b[0;31m---------------------------------------------------------------------------\u001b[0m",
      "\u001b[0;31mKeyboardInterrupt\u001b[0m                         Traceback (most recent call last)",
      "Cell \u001b[0;32mIn[10], line 9\u001b[0m\n\u001b[1;32m      7\u001b[0m \u001b[38;5;28;01mfor\u001b[39;00m lambda_j_ \u001b[38;5;129;01min\u001b[39;00m np\u001b[38;5;241m.\u001b[39mlinspace(\u001b[38;5;241m0.005\u001b[39m, \u001b[38;5;241m0.01\u001b[39m, \u001b[38;5;241m4\u001b[39m):\n\u001b[1;32m      8\u001b[0m     slim_bpr_model \u001b[38;5;241m=\u001b[39m SLIM_BPR_Python(URM_train_coo, verbose\u001b[38;5;241m=\u001b[39m\u001b[38;5;28;01mFalse\u001b[39;00m)\n\u001b[0;32m----> 9\u001b[0m     slim_bpr_model\u001b[38;5;241m.\u001b[39mfit(learning_rate\u001b[38;5;241m=\u001b[39mlearning_rate_,\n\u001b[1;32m     10\u001b[0m                        lambda_i\u001b[38;5;241m=\u001b[39mlambda_i_,\n\u001b[1;32m     11\u001b[0m                        lambda_j\u001b[38;5;241m=\u001b[39mlambda_j_,\n\u001b[1;32m     12\u001b[0m                        topK \u001b[38;5;241m=\u001b[39m topK_,\n\u001b[1;32m     13\u001b[0m                        epochs\u001b[38;5;241m=\u001b[39m\u001b[38;5;241m100\u001b[39m,\n\u001b[1;32m     14\u001b[0m                       )\n\u001b[1;32m     16\u001b[0m     result_dict, _ \u001b[38;5;241m=\u001b[39m evaluator_validation\u001b[38;5;241m.\u001b[39mevaluateRecommender(slim_bpr_model)\n\u001b[1;32m     17\u001b[0m     MAP_bpr\u001b[38;5;241m.\u001b[39mappend((\u001b[38;5;124m'\u001b[39m\u001b[38;5;124mtopK=\u001b[39m\u001b[38;5;132;01m{}\u001b[39;00m\u001b[38;5;124m'\u001b[39m\u001b[38;5;241m.\u001b[39mformat(topK_),\n\u001b[1;32m     18\u001b[0m                     \u001b[38;5;124m'\u001b[39m\u001b[38;5;124mlearning_rate=\u001b[39m\u001b[38;5;132;01m{}\u001b[39;00m\u001b[38;5;124m'\u001b[39m\u001b[38;5;241m.\u001b[39mformat(learning_rate_),\n\u001b[1;32m     19\u001b[0m                     \u001b[38;5;124m'\u001b[39m\u001b[38;5;124mlambda_i_=\u001b[39m\u001b[38;5;132;01m{}\u001b[39;00m\u001b[38;5;124m'\u001b[39m\u001b[38;5;241m.\u001b[39mformat(lambda_i_),\n\u001b[1;32m     20\u001b[0m                     \u001b[38;5;124m'\u001b[39m\u001b[38;5;124mlambda_j_=\u001b[39m\u001b[38;5;132;01m{}\u001b[39;00m\u001b[38;5;124m'\u001b[39m\u001b[38;5;241m.\u001b[39mformat(lambda_j_),\n\u001b[1;32m     21\u001b[0m                     result_dict[\u001b[38;5;124m\"\u001b[39m\u001b[38;5;124mMAP\u001b[39m\u001b[38;5;124m\"\u001b[39m][\u001b[38;5;241m10\u001b[39m]))\n",
      "File \u001b[0;32m~/Python/RecSysCompetition2024Polimi/libs/Recommenders/SLIM/SLIM_BPR_Python.py:52\u001b[0m, in \u001b[0;36mSLIM_BPR_Python.fit\u001b[0;34m(self, topK, epochs, lambda_i, lambda_j, learning_rate)\u001b[0m\n\u001b[1;32m     49\u001b[0m start_time_train \u001b[38;5;241m=\u001b[39m time\u001b[38;5;241m.\u001b[39mtime()\n\u001b[1;32m     51\u001b[0m \u001b[38;5;28;01mfor\u001b[39;00m n_epoch \u001b[38;5;129;01min\u001b[39;00m \u001b[38;5;28mrange\u001b[39m(epochs):\n\u001b[0;32m---> 52\u001b[0m     \u001b[38;5;28mself\u001b[39m\u001b[38;5;241m.\u001b[39m_run_epoch(n_epoch)\n\u001b[1;32m     54\u001b[0m \u001b[38;5;28mprint\u001b[39m(\u001b[38;5;124m\"\u001b[39m\u001b[38;5;124mTrain completed in \u001b[39m\u001b[38;5;132;01m{:.2f}\u001b[39;00m\u001b[38;5;124m minutes\u001b[39m\u001b[38;5;124m\"\u001b[39m\u001b[38;5;241m.\u001b[39mformat(\u001b[38;5;28mfloat\u001b[39m(time\u001b[38;5;241m.\u001b[39mtime()\u001b[38;5;241m-\u001b[39mstart_time_train)\u001b[38;5;241m/\u001b[39m\u001b[38;5;241m60\u001b[39m))\n\u001b[1;32m     56\u001b[0m \u001b[38;5;28mself\u001b[39m\u001b[38;5;241m.\u001b[39mW_sparse \u001b[38;5;241m=\u001b[39m similarityMatrixTopK(\u001b[38;5;28mself\u001b[39m\u001b[38;5;241m.\u001b[39mitem_item_S, k\u001b[38;5;241m=\u001b[39mtopK, verbose\u001b[38;5;241m=\u001b[39m\u001b[38;5;28;01mFalse\u001b[39;00m)\n",
      "File \u001b[0;32m~/Python/RecSysCompetition2024Polimi/libs/Recommenders/SLIM/SLIM_BPR_Python.py:73\u001b[0m, in \u001b[0;36mSLIM_BPR_Python._run_epoch\u001b[0;34m(self, n_epoch)\u001b[0m\n\u001b[1;32m     70\u001b[0m user_seen_items \u001b[38;5;241m=\u001b[39m \u001b[38;5;28mself\u001b[39m\u001b[38;5;241m.\u001b[39mURM_train\u001b[38;5;241m.\u001b[39mindices[\u001b[38;5;28mself\u001b[39m\u001b[38;5;241m.\u001b[39mURM_train\u001b[38;5;241m.\u001b[39mindptr[user_id]:\u001b[38;5;28mself\u001b[39m\u001b[38;5;241m.\u001b[39mURM_train\u001b[38;5;241m.\u001b[39mindptr[user_id\u001b[38;5;241m+\u001b[39m\u001b[38;5;241m1\u001b[39m]]\n\u001b[1;32m     72\u001b[0m \u001b[38;5;66;03m# Compute positive and negative item predictions. Assuming implicit interactions.\u001b[39;00m\n\u001b[0;32m---> 73\u001b[0m x_ui \u001b[38;5;241m=\u001b[39m \u001b[38;5;28mself\u001b[39m\u001b[38;5;241m.\u001b[39mitem_item_S[pos_item_id, user_seen_items]\u001b[38;5;241m.\u001b[39msum()\n\u001b[1;32m     74\u001b[0m x_uj \u001b[38;5;241m=\u001b[39m \u001b[38;5;28mself\u001b[39m\u001b[38;5;241m.\u001b[39mitem_item_S[neg_item_id, user_seen_items]\u001b[38;5;241m.\u001b[39msum()\n\u001b[1;32m     76\u001b[0m \u001b[38;5;66;03m# Gradient\u001b[39;00m\n",
      "File \u001b[0;32m/opt/miniconda3/envs/RecSys/lib/python3.12/site-packages/numpy/core/_methods.py:49\u001b[0m, in \u001b[0;36m_sum\u001b[0;34m(a, axis, dtype, out, keepdims, initial, where)\u001b[0m\n\u001b[1;32m     47\u001b[0m \u001b[38;5;28;01mdef\u001b[39;00m \u001b[38;5;21m_sum\u001b[39m(a, axis\u001b[38;5;241m=\u001b[39m\u001b[38;5;28;01mNone\u001b[39;00m, dtype\u001b[38;5;241m=\u001b[39m\u001b[38;5;28;01mNone\u001b[39;00m, out\u001b[38;5;241m=\u001b[39m\u001b[38;5;28;01mNone\u001b[39;00m, keepdims\u001b[38;5;241m=\u001b[39m\u001b[38;5;28;01mFalse\u001b[39;00m,\n\u001b[1;32m     48\u001b[0m          initial\u001b[38;5;241m=\u001b[39m_NoValue, where\u001b[38;5;241m=\u001b[39m\u001b[38;5;28;01mTrue\u001b[39;00m):\n\u001b[0;32m---> 49\u001b[0m     \u001b[38;5;28;01mreturn\u001b[39;00m umr_sum(a, axis, dtype, out, keepdims, initial, where)\n",
      "\u001b[0;31mKeyboardInterrupt\u001b[0m: "
     ]
    }
   ],
   "source": [
    "URM_train_coo = URM_train.tocoo()\n",
    "\n",
    "\n",
    "for topK_ in [200, 300, 400]:\n",
    "    for learning_rate_ in np.linspace(0.001, 1, 4):\n",
    "        for lambda_i_ in np.linspace(0.005, 0.01, 4):\n",
    "            for lambda_j_ in np.linspace(0.005, 0.01, 4):\n",
    "                slim_bpr_model = SLIM_BPR_Python(URM_train_coo, verbose=False)\n",
    "                slim_bpr_model.fit(learning_rate=learning_rate_,\n",
    "                                   lambda_i=lambda_i_,\n",
    "                                   lambda_j=lambda_j_,\n",
    "                                   topK = topK_,\n",
    "                                   epochs=100,\n",
    "                                  )\n",
    "    \n",
    "                result_dict, _ = evaluator_validation.evaluateRecommender(slim_bpr_model)\n",
    "                MAP_bpr.append(('topK={}'.format(topK_),\n",
    "                                'learning_rate={}'.format(learning_rate_),\n",
    "                                'lambda_i_={}'.format(lambda_i_),\n",
    "                                'lambda_j_={}'.format(lambda_j_),\n",
    "                                result_dict[\"MAP\"][10]))\n",
    "    \n",
    "                print(MAP_bpr[-1])\n",
    "            "
   ]
  },
  {
   "cell_type": "code",
   "execution_count": null,
   "id": "05dee4b5-1a39-448a-aed9-6bc95e52d8f3",
   "metadata": {},
   "outputs": [],
   "source": []
  }
 ],
 "metadata": {
  "kernelspec": {
   "display_name": "RecSys",
   "language": "python",
   "name": "recsys"
  },
  "language_info": {
   "codemirror_mode": {
    "name": "ipython",
    "version": 3
   },
   "file_extension": ".py",
   "mimetype": "text/x-python",
   "name": "python",
   "nbconvert_exporter": "python",
   "pygments_lexer": "ipython3",
   "version": "3.12.7"
  }
 },
 "nbformat": 4,
 "nbformat_minor": 5
}
