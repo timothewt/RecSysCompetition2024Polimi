{
 "cells": [
  {
   "cell_type": "code",
   "execution_count": 1,
   "id": "d68f4f10-7586-40be-995d-317f8151a32d",
   "metadata": {},
   "outputs": [],
   "source": [
    "from pathlib import Path\n",
    "import sys  \n",
    "import os"
   ]
  },
  {
   "cell_type": "code",
   "execution_count": 2,
   "id": "ce52585f-1bac-48b4-8a40-a5c046909747",
   "metadata": {},
   "outputs": [],
   "source": [
    "sys.path.append(os.path.abspath(os.path.join(os.getcwd(), \"..\", \"libs\")))\n",
    "sys.path.append(os.path.abspath(os.path.join(os.getcwd(), \"..\")))\n",
    "sys.path.append(os.path.abspath(os.path.join(os.getcwd(), \"..\", \"src\")))"
   ]
  },
  {
   "cell_type": "code",
   "execution_count": 3,
   "id": "9ad4cc94-c45a-41db-9768-5d81b7cb417b",
   "metadata": {},
   "outputs": [],
   "source": [
    "from libs.Recommenders.SLIM.SLIMElasticNetRecommender import SLIMElasticNetRecommender\n",
    "import numpy as np"
   ]
  },
  {
   "cell_type": "code",
   "execution_count": 4,
   "id": "08cf1451-2c25-40e0-8858-3b7424eca31d",
   "metadata": {},
   "outputs": [],
   "source": [
    "from Utils.load_URM import load_URM\n",
    "from Utils.load_ICM import load_ICM\n",
    "from libs.Evaluation.Evaluator import EvaluatorHoldout\n",
    "from Data_manager.split_functions.split_train_validation_random_holdout import split_train_in_two_percentage_global_sample\n",
    "\n",
    "URM_all = load_URM(\"../data/data_train.csv\")\n",
    "ICM_all = load_ICM(\"../data/data_ICM_metadata.csv\")"
   ]
  },
  {
   "cell_type": "code",
   "execution_count": 5,
   "id": "af220037-bc27-42f9-a209-92f385760c97",
   "metadata": {},
   "outputs": [
    {
     "name": "stdout",
     "output_type": "stream",
     "text": [
      "Warning: 164 (0.46 %) of 35736 users have no sampled items\n",
      "EvaluatorHoldout: Ignoring 164 ( 0.5%) Users that have less than 1 test interactions\n"
     ]
    }
   ],
   "source": [
    "URM_train, URM_validation = split_train_in_two_percentage_global_sample(URM_all, train_percentage = 0.80)\n",
    "\n",
    "evaluator_validation = EvaluatorHoldout(URM_validation, cutoff_list=[10])"
   ]
  },
  {
   "cell_type": "code",
   "execution_count": 24,
   "id": "02cf27c7-6346-4b35-953d-d0aa2c433ff9",
   "metadata": {},
   "outputs": [
    {
     "data": {
      "text/plain": [
       "array([0.        , 0.10526316, 0.21052632, 0.31578947, 0.42105263,\n",
       "       0.52631579, 0.63157895, 0.73684211, 0.84210526, 0.94736842,\n",
       "       1.05263158, 1.15789474, 1.26315789, 1.36842105, 1.47368421,\n",
       "       1.57894737, 1.68421053, 1.78947368, 1.89473684, 2.        ])"
      ]
     },
     "execution_count": 24,
     "metadata": {},
     "output_type": "execute_result"
    }
   ],
   "source": [
    "np.linspace(0, 2, 20)"
   ]
  },
  {
   "cell_type": "code",
   "execution_count": 13,
   "id": "2ed2e481-4c25-4b37-a11a-a529d76f6372",
   "metadata": {},
   "outputs": [],
   "source": [
    "#from Data_manager.Movielens.Movielens10MReader import Movielens10MReader"
   ]
  },
  {
   "cell_type": "code",
   "execution_count": 6,
   "id": "791689ab-93b7-4163-9e39-4242ab32fc85",
   "metadata": {},
   "outputs": [],
   "source": [
    "#data_reader = Movielens10MReader()\n",
    "#data_loaded = data_reader.load_data()\n",
    "\n",
    "#URM_all = data_loaded.get_URM_all()"
   ]
  },
  {
   "cell_type": "code",
   "execution_count": 17,
   "id": "d93f2487-b68a-428b-b001-8b7db70d5273",
   "metadata": {},
   "outputs": [
    {
     "name": "stdout",
     "output_type": "stream",
     "text": [
      "Warning: 58 (0.08 %) of 69878 users have no sampled items\n"
     ]
    }
   ],
   "source": [
    "#URM_train, URM_validation = split_train_in_two_percentage_global_sample(URM_all, train_percentage = 0.80)"
   ]
  },
  {
   "cell_type": "code",
   "execution_count": 22,
   "id": "362515a7-efa0-4766-a61b-7d14da57862f",
   "metadata": {},
   "outputs": [
    {
     "data": {
      "text/plain": [
       "<Compressed Sparse Row sparse matrix of dtype 'float64'\n",
       "\twith 8000043 stored elements and shape (69878, 10681)>"
      ]
     },
     "execution_count": 22,
     "metadata": {},
     "output_type": "execute_result"
    }
   ],
   "source": [
    "URM_train"
   ]
  },
  {
   "cell_type": "code",
   "execution_count": null,
   "id": "5073b616-d87b-47eb-8067-18cc47d3a3cf",
   "metadata": {},
   "outputs": [
    {
     "name": "stdout",
     "output_type": "stream",
     "text": [
      "SLIMElasticNetRecommender: Processed 3760 ( 9.9%) in 20.39 min. Items per second: 3.07\n",
      "SLIMElasticNetRecommender: Processed 3852 (10.1%) in 37.37 min. Items per second: 1.72\n",
      "SLIMElasticNetRecommender: Processed 3938 (10.3%) in 50.37 min. Items per second: 1.30\n",
      "SLIMElasticNetRecommender: Processed 8965 (23.5%) in 55.38 min. Items per second: 2.70\n",
      "SLIMElasticNetRecommender: Processed 13994 (36.7%) in 1.01 hour. Items per second: 3.86\n",
      "SLIMElasticNetRecommender: Processed 18999 (49.8%) in 1.09 hour. Items per second: 4.84\n",
      "SLIMElasticNetRecommender: Processed 23980 (62.9%) in 1.17 hour. Items per second: 5.68\n",
      "SLIMElasticNetRecommender: Processed 28792 (75.5%) in 1.26 hour. Items per second: 6.37\n",
      "SLIMElasticNetRecommender: Processed 33857 (88.8%) in 1.34 hour. Items per second: 7.02\n",
      "SLIMElasticNetRecommender: Processed 38121 (100.0%) in 1.41 hour. Items per second: 7.49\n",
      "EvaluatorHoldout: Processed 35572 (100.0%) in 9.15 sec. Users per second: 3886\n",
      "('topK=10', 'l1_ratio=0.001', 'alpha=1e-05', 0.05432789678523474)\n",
      "SLIMElasticNetRecommender: Processed 7806 (20.5%) in 5.00 min. Items per second: 26.01\n",
      "SLIMElasticNetRecommender: Processed 15660 (41.1%) in 10.00 min. Items per second: 26.10\n",
      "SLIMElasticNetRecommender: Processed 23493 (61.6%) in 15.00 min. Items per second: 26.10\n",
      "SLIMElasticNetRecommender: Processed 31250 (82.0%) in 20.00 min. Items per second: 26.04\n",
      "SLIMElasticNetRecommender: Processed 38121 (100.0%) in 24.35 min. Items per second: 26.09\n",
      "EvaluatorHoldout: Processed 35572 (100.0%) in 9.09 sec. Users per second: 3912\n",
      "('topK=10', 'l1_ratio=0.001', 'alpha=0.00034', 0.057886186344171024)\n",
      "SLIMElasticNetRecommender: Processed 8405 (22.0%) in 5.00 min. Items per second: 28.01\n",
      "SLIMElasticNetRecommender: Processed 16959 (44.5%) in 10.00 min. Items per second: 28.26\n",
      "SLIMElasticNetRecommender: Processed 25482 (66.8%) in 15.00 min. Items per second: 28.31\n",
      "SLIMElasticNetRecommender: Processed 34154 (89.6%) in 20.00 min. Items per second: 28.46\n",
      "SLIMElasticNetRecommender: Processed 38121 (100.0%) in 22.27 min. Items per second: 28.53\n",
      "EvaluatorHoldout: Processed 35572 (100.0%) in 9.15 sec. Users per second: 3886\n",
      "('topK=10', 'l1_ratio=0.001', 'alpha=0.00067', 0.05792339458178987)\n",
      "SLIMElasticNetRecommender: Processed 8654 (22.7%) in 5.00 min. Items per second: 28.84\n",
      "SLIMElasticNetRecommender: Processed 17344 (45.5%) in 10.00 min. Items per second: 28.90\n",
      "SLIMElasticNetRecommender: Processed 26077 (68.4%) in 15.00 min. Items per second: 28.97\n",
      "SLIMElasticNetRecommender: Processed 30079 (78.9%) in 23.12 min. Items per second: 21.68\n",
      "SLIMElasticNetRecommender: Processed 30602 (80.3%) in 29.86 min. Items per second: 17.08\n",
      "SLIMElasticNetRecommender: Processed 38121 (100.0%) in 33.91 min. Items per second: 18.74\n",
      "EvaluatorHoldout: Processed 35572 (100.0%) in 9.32 sec. Users per second: 3817\n",
      "('topK=10', 'l1_ratio=0.001', 'alpha=0.001', 0.05733637589935887)\n",
      "SLIMElasticNetRecommender: Processed 7473 (19.6%) in 5.00 min. Items per second: 24.91\n",
      "SLIMElasticNetRecommender: Processed 14971 (39.3%) in 10.00 min. Items per second: 24.95\n",
      "SLIMElasticNetRecommender: Processed 22396 (58.7%) in 15.00 min. Items per second: 24.88\n",
      "SLIMElasticNetRecommender: Processed 29884 (78.4%) in 20.00 min. Items per second: 24.90\n",
      "SLIMElasticNetRecommender: Processed 33735 (88.5%) in 30.03 min. Items per second: 18.72\n",
      "SLIMElasticNetRecommender: Processed 34187 (89.7%) in 39.13 min. Items per second: 14.56\n",
      "SLIMElasticNetRecommender: Processed 34747 (91.1%) in 48.23 min. Items per second: 12.01\n",
      "SLIMElasticNetRecommender: Processed 38121 (100.0%) in 50.47 min. Items per second: 12.59\n",
      "EvaluatorHoldout: Processed 35572 (100.0%) in 8.92 sec. Users per second: 3986\n",
      "('topK=10', 'l1_ratio=0.05357894736842105', 'alpha=1e-05', 0.05440370435816079)\n",
      "SLIMElasticNetRecommender: Processed 6278 (16.5%) in 11.76 min. Items per second: 8.90\n",
      "SLIMElasticNetRecommender: Processed 6799 (17.8%) in 18.29 min. Items per second: 6.19\n",
      "SLIMElasticNetRecommender: Processed 15900 (41.7%) in 23.29 min. Items per second: 11.38\n",
      "SLIMElasticNetRecommender: Processed 24924 (65.4%) in 28.29 min. Items per second: 14.68\n",
      "SLIMElasticNetRecommender: Processed 34139 (89.6%) in 33.29 min. Items per second: 17.09\n",
      "SLIMElasticNetRecommender: Processed 38121 (100.0%) in 35.49 min. Items per second: 17.90\n",
      "EvaluatorHoldout: Processed 35572 (100.0%) in 9.42 sec. Users per second: 3776\n",
      "('topK=10', 'l1_ratio=0.05357894736842105', 'alpha=0.00034', 0.058585805850506704)\n",
      "SLIMElasticNetRecommender: Processed 6284 (16.5%) in 11.85 min. Items per second: 8.84\n",
      "SLIMElasticNetRecommender: Processed 6520 (17.1%) in 27.50 min. Items per second: 3.95\n",
      "SLIMElasticNetRecommender: Processed 13601 (35.7%) in 32.50 min. Items per second: 6.97\n",
      "SLIMElasticNetRecommender: Processed 21658 (56.8%) in 37.50 min. Items per second: 9.63\n",
      "SLIMElasticNetRecommender: Processed 29373 (77.1%) in 42.50 min. Items per second: 11.52\n",
      "SLIMElasticNetRecommender: Processed 37273 (97.8%) in 47.50 min. Items per second: 13.08\n",
      "SLIMElasticNetRecommender: Processed 38121 (100.0%) in 48.09 min. Items per second: 13.21\n",
      "EvaluatorHoldout: Processed 35572 (100.0%) in 10.38 sec. Users per second: 3425\n",
      "('topK=10', 'l1_ratio=0.05357894736842105', 'alpha=0.00067', 0.05859089166795904)\n",
      "SLIMElasticNetRecommender: Processed 8156 (21.4%) in 5.00 min. Items per second: 27.18\n",
      "SLIMElasticNetRecommender: Processed 16494 (43.3%) in 10.00 min. Items per second: 27.49\n",
      "SLIMElasticNetRecommender: Processed 24992 (65.6%) in 15.00 min. Items per second: 27.77\n",
      "SLIMElasticNetRecommender: Processed 33157 (87.0%) in 20.00 min. Items per second: 27.63\n",
      "SLIMElasticNetRecommender: Processed 38121 (100.0%) in 23.07 min. Items per second: 27.54\n",
      "EvaluatorHoldout: Processed 35572 (100.0%) in 10.71 sec. Users per second: 3322\n",
      "('topK=10', 'l1_ratio=0.05357894736842105', 'alpha=0.001', 0.05744170330150693)\n",
      "SLIMElasticNetRecommender: Processed 6601 (17.3%) in 5.00 min. Items per second: 22.00\n",
      "SLIMElasticNetRecommender: Processed 13121 (34.4%) in 10.00 min. Items per second: 21.87\n",
      "SLIMElasticNetRecommender: Processed 19722 (51.7%) in 15.00 min. Items per second: 21.91\n",
      "SLIMElasticNetRecommender: Processed 26218 (68.8%) in 20.00 min. Items per second: 21.85\n",
      "SLIMElasticNetRecommender: Processed 32913 (86.3%) in 25.00 min. Items per second: 21.94\n",
      "SLIMElasticNetRecommender: Processed 38121 (100.0%) in 28.94 min. Items per second: 21.95\n",
      "EvaluatorHoldout: Processed 35572 (100.0%) in 9.76 sec. Users per second: 3644\n",
      "('topK=10', 'l1_ratio=0.1061578947368421', 'alpha=1e-05', 0.054462178429973994)\n",
      "SLIMElasticNetRecommender: Processed 7673 (20.1%) in 5.00 min. Items per second: 25.57\n",
      "SLIMElasticNetRecommender: Processed 15514 (40.7%) in 10.00 min. Items per second: 25.85\n",
      "SLIMElasticNetRecommender: Processed 23453 (61.5%) in 15.00 min. Items per second: 26.06\n",
      "SLIMElasticNetRecommender: Processed 31251 (82.0%) in 20.00 min. Items per second: 26.04\n",
      "SLIMElasticNetRecommender: Processed 38121 (100.0%) in 24.15 min. Items per second: 26.31\n",
      "EvaluatorHoldout: Processed 35572 (100.0%) in 9.85 sec. Users per second: 3612\n",
      "('topK=10', 'l1_ratio=0.1061578947368421', 'alpha=0.00034', 0.05899676868198272)\n",
      "SLIMElasticNetRecommender: Processed 9014 (23.6%) in 5.00 min. Items per second: 30.04\n",
      "SLIMElasticNetRecommender: Processed 18022 (47.3%) in 10.00 min. Items per second: 30.03\n",
      "SLIMElasticNetRecommender: Processed 27535 (72.2%) in 15.00 min. Items per second: 30.59\n",
      "SLIMElasticNetRecommender: Processed 37057 (97.2%) in 20.00 min. Items per second: 30.88\n",
      "SLIMElasticNetRecommender: Processed 38121 (100.0%) in 20.60 min. Items per second: 30.84\n",
      "EvaluatorHoldout: Processed 35572 (100.0%) in 10.86 sec. Users per second: 3275\n",
      "('topK=10', 'l1_ratio=0.1061578947368421', 'alpha=0.00067', 0.057868486940859505)\n",
      "SLIMElasticNetRecommender: Processed 11105 (29.1%) in 5.00 min. Items per second: 37.01\n",
      "SLIMElasticNetRecommender: Processed 24158 (63.4%) in 10.00 min. Items per second: 40.26\n",
      "SLIMElasticNetRecommender: Processed 37799 (99.2%) in 15.00 min. Items per second: 42.00\n",
      "SLIMElasticNetRecommender: Processed 38121 (100.0%) in 15.13 min. Items per second: 41.99\n",
      "EvaluatorHoldout: Processed 35572 (100.0%) in 9.89 sec. Users per second: 3598\n",
      "('topK=10', 'l1_ratio=0.1061578947368421', 'alpha=0.001', 0.055280966035349446)\n",
      "SLIMElasticNetRecommender: Processed 7622 (20.0%) in 5.00 min. Items per second: 25.40\n",
      "SLIMElasticNetRecommender: Processed 15400 (40.4%) in 10.00 min. Items per second: 25.66\n",
      "SLIMElasticNetRecommender: Processed 23186 (60.8%) in 15.00 min. Items per second: 25.76\n",
      "SLIMElasticNetRecommender: Processed 31015 (81.4%) in 20.00 min. Items per second: 25.84\n",
      "SLIMElasticNetRecommender: Processed 38121 (100.0%) in 24.57 min. Items per second: 25.85\n",
      "EvaluatorHoldout: Processed 35572 (100.0%) in 9.65 sec. Users per second: 3685\n",
      "('topK=10', 'l1_ratio=0.15873684210526315', 'alpha=1e-05', 0.05454386609585713)\n",
      "SLIMElasticNetRecommender: Processed 9014 (23.6%) in 5.00 min. Items per second: 30.04\n",
      "SLIMElasticNetRecommender: Processed 18411 (48.3%) in 10.00 min. Items per second: 30.68\n",
      "SLIMElasticNetRecommender: Processed 28303 (74.2%) in 15.00 min. Items per second: 31.44\n",
      "SLIMElasticNetRecommender: Processed 38121 (100.0%) in 19.93 min. Items per second: 31.88\n",
      "EvaluatorHoldout: Processed 35572 (100.0%) in 9.39 sec. Users per second: 3788\n",
      "('topK=10', 'l1_ratio=0.15873684210526315', 'alpha=0.00034', 0.0590187741294634)\n",
      "SLIMElasticNetRecommender: Processed 12049 (31.6%) in 5.00 min. Items per second: 40.16\n",
      "SLIMElasticNetRecommender: Processed 25394 (66.6%) in 10.00 min. Items per second: 42.32\n",
      "SLIMElasticNetRecommender: Processed 38121 (100.0%) in 14.64 min. Items per second: 43.41\n",
      "EvaluatorHoldout: Processed 35572 (100.0%) in 9.54 sec. Users per second: 3730\n",
      "('topK=10', 'l1_ratio=0.15873684210526315', 'alpha=0.00067', 0.05628561187771895)\n",
      "SLIMElasticNetRecommender: Processed 18107 (47.5%) in 5.00 min. Items per second: 60.35\n",
      "SLIMElasticNetRecommender: Processed 38121 (100.0%) in 9.92 min. Items per second: 64.02\n",
      "EvaluatorHoldout: Processed 35572 (100.0%) in 9.40 sec. Users per second: 3782\n",
      "('topK=10', 'l1_ratio=0.15873684210526315', 'alpha=0.001', 0.05240661127264168)\n",
      "SLIMElasticNetRecommender: Processed 7912 (20.8%) in 5.00 min. Items per second: 26.37\n",
      "SLIMElasticNetRecommender: Processed 15667 (41.1%) in 10.00 min. Items per second: 26.11\n",
      "SLIMElasticNetRecommender: Processed 23570 (61.8%) in 15.00 min. Items per second: 26.19\n",
      "SLIMElasticNetRecommender: Processed 31527 (82.7%) in 20.00 min. Items per second: 26.27\n",
      "SLIMElasticNetRecommender: Processed 38121 (100.0%) in 24.17 min. Items per second: 26.28\n",
      "EvaluatorHoldout: Processed 35572 (100.0%) in 9.00 sec. Users per second: 3954\n",
      "('topK=10', 'l1_ratio=0.2113157894736842', 'alpha=1e-05', 0.05462510419288019)\n",
      "SLIMElasticNetRecommender: Processed 9964 (26.1%) in 5.00 min. Items per second: 33.21\n",
      "SLIMElasticNetRecommender: Processed 20249 (53.1%) in 10.00 min. Items per second: 33.74\n",
      "SLIMElasticNetRecommender: Processed 30775 (80.7%) in 15.00 min. Items per second: 34.19\n",
      "SLIMElasticNetRecommender: Processed 38121 (100.0%) in 18.36 min. Items per second: 34.60\n",
      "EvaluatorHoldout: Processed 35572 (100.0%) in 9.48 sec. Users per second: 3753\n",
      "('topK=10', 'l1_ratio=0.2113157894736842', 'alpha=0.00034', 0.05875569602630055)\n",
      "SLIMElasticNetRecommender: Processed 16861 (44.2%) in 5.00 min. Items per second: 56.20\n",
      "SLIMElasticNetRecommender: Processed 35614 (93.4%) in 10.00 min. Items per second: 59.35\n",
      "SLIMElasticNetRecommender: Processed 38121 (100.0%) in 10.76 min. Items per second: 59.02\n",
      "EvaluatorHoldout: Processed 35572 (100.0%) in 9.47 sec. Users per second: 3756\n",
      "('topK=10', 'l1_ratio=0.2113157894736842', 'alpha=0.00067', 0.05441741565061684)\n",
      "SLIMElasticNetRecommender: Processed 23876 (62.6%) in 5.00 min. Items per second: 79.58\n",
      "SLIMElasticNetRecommender: Processed 38121 (100.0%) in 7.96 min. Items per second: 79.85\n",
      "EvaluatorHoldout: Processed 35572 (100.0%) in 9.59 sec. Users per second: 3710\n",
      "('topK=10', 'l1_ratio=0.2113157894736842', 'alpha=0.001', 0.049447560190909894)\n",
      "SLIMElasticNetRecommender: Processed 7562 (19.8%) in 5.00 min. Items per second: 25.20\n",
      "SLIMElasticNetRecommender: Processed 15038 (39.4%) in 10.00 min. Items per second: 25.06\n",
      "SLIMElasticNetRecommender: Processed 22689 (59.5%) in 15.00 min. Items per second: 25.21\n",
      "SLIMElasticNetRecommender: Processed 30297 (79.5%) in 20.00 min. Items per second: 25.24\n",
      "SLIMElasticNetRecommender: Processed 37878 (99.4%) in 25.00 min. Items per second: 25.25\n",
      "SLIMElasticNetRecommender: Processed 38121 (100.0%) in 25.17 min. Items per second: 25.24\n"
     ]
    }
   ],
   "source": [
    "#MAP = []\n",
    "URM_train_coo = URM_train.tocoo()\n",
    "\n",
    "\n",
    "for topK_ in [10, 20, 50, 100, 150, 200]:\n",
    "    for l1_ratio_ in np.linspace(0.001, 1, 20):\n",
    "        for alpha_ in np.linspace(0.00001, 0.001, 4):\n",
    "            slim_model = SLIMElasticNetRecommender(URM_train_coo, verbose=True)\n",
    "            slim_model.fit(l1_ratio=l1_ratio_, alpha = alpha_, topK = topK_)\n",
    "\n",
    "            result_dict, _ = evaluator_validation.evaluateRecommender(slim_model)\n",
    "            MAP.append(('topK={}'.format(topK_), 'l1_ratio={}'.format(l1_ratio_), 'alpha={}'.format(alpha_), result_dict[\"MAP\"][10]))\n",
    "\n",
    "            print(MAP[-1])\n",
    "            "
   ]
  },
  {
   "cell_type": "code",
   "execution_count": 10,
   "id": "5f3d7bd5-2ca5-4aae-bd82-fa10da43bbf8",
   "metadata": {},
   "outputs": [
    {
     "data": {
      "text/plain": [
       "[('topK=10', 'l1_ratio=0.001', 'alpha=0.001', 0.05733553253941284),\n",
       " ('topK=10',\n",
       "  'l1_ratio=0.001',\n",
       "  'alpha=0.10621052631578948',\n",
       "  0.03670501611754433),\n",
       " ('topK=10',\n",
       "  'l1_ratio=0.001',\n",
       "  'alpha=0.21142105263157895',\n",
       "  0.03253027506028376),\n",
       " ('topK=10',\n",
       "  'l1_ratio=0.001',\n",
       "  'alpha=0.31663157894736843',\n",
       "  0.029867489857368923),\n",
       " ('topK=10',\n",
       "  'l1_ratio=0.001',\n",
       "  'alpha=0.4218421052631579',\n",
       "  0.027487542591907926),\n",
       " ('topK=10',\n",
       "  'l1_ratio=0.001',\n",
       "  'alpha=0.5270526315789473',\n",
       "  0.02549643334600571),\n",
       " ('topK=10',\n",
       "  'l1_ratio=0.001',\n",
       "  'alpha=0.6322631578947369',\n",
       "  0.023481549381625208),\n",
       " ('topK=10',\n",
       "  'l1_ratio=0.001',\n",
       "  'alpha=0.7374736842105264',\n",
       "  0.021585467614085627),\n",
       " ('topK=10',\n",
       "  'l1_ratio=0.001',\n",
       "  'alpha=0.8426842105263158',\n",
       "  0.019975717703776444),\n",
       " ('topK=10',\n",
       "  'l1_ratio=0.001',\n",
       "  'alpha=0.9478947368421052',\n",
       "  0.018765908936759834),\n",
       " ('topK=10',\n",
       "  'l1_ratio=0.001',\n",
       "  'alpha=1.0531052631578945',\n",
       "  0.017574644048556427),\n",
       " ('topK=10',\n",
       "  'l1_ratio=0.001',\n",
       "  'alpha=1.1583157894736842',\n",
       "  0.016608952288138547),\n",
       " ('topK=10',\n",
       "  'l1_ratio=0.001',\n",
       "  'alpha=1.2635263157894736',\n",
       "  0.015549897458140293),\n",
       " ('topK=10',\n",
       "  'l1_ratio=0.001',\n",
       "  'alpha=1.368736842105263',\n",
       "  0.014759534206501335),\n",
       " ('topK=10',\n",
       "  'l1_ratio=0.001',\n",
       "  'alpha=1.4739473684210527',\n",
       "  0.013953811986956473),\n",
       " ('topK=10', 'l1_ratio=0.001', 'alpha=1.579157894736842', 0.01342142651880686),\n",
       " ('topK=10',\n",
       "  'l1_ratio=0.001',\n",
       "  'alpha=1.6843684210526315',\n",
       "  0.012866005945464871),\n",
       " ('topK=10',\n",
       "  'l1_ratio=0.001',\n",
       "  'alpha=1.789578947368421',\n",
       "  0.012420631573968782),\n",
       " ('topK=10',\n",
       "  'l1_ratio=0.001',\n",
       "  'alpha=1.8947894736842104',\n",
       "  0.011781163934894659),\n",
       " ('topK=10', 'l1_ratio=0.001', 'alpha=2.0', 0.011378256529569595),\n",
       " ('topK=10',\n",
       "  'l1_ratio=0.05357894736842105',\n",
       "  'alpha=0.001',\n",
       "  0.057443863016924265),\n",
       " ('topK=10',\n",
       "  'l1_ratio=0.05357894736842105',\n",
       "  'alpha=0.10621052631578948',\n",
       "  0.002491807360524308),\n",
       " ('topK=10',\n",
       "  'l1_ratio=0.05357894736842105',\n",
       "  'alpha=0.21142105263157895',\n",
       "  0.00026067073442818364),\n",
       " ('topK=10',\n",
       "  'l1_ratio=0.05357894736842105',\n",
       "  'alpha=0.31663157894736843',\n",
       "  0.00026067073442818364),\n",
       " ('topK=10',\n",
       "  'l1_ratio=0.05357894736842105',\n",
       "  'alpha=0.4218421052631579',\n",
       "  0.00026067073442818364),\n",
       " ('topK=10',\n",
       "  'l1_ratio=0.05357894736842105',\n",
       "  'alpha=0.5270526315789473',\n",
       "  0.00026067073442818364),\n",
       " ('topK=10',\n",
       "  'l1_ratio=0.05357894736842105',\n",
       "  'alpha=0.6322631578947369',\n",
       "  0.00026067073442818364),\n",
       " ('topK=10',\n",
       "  'l1_ratio=0.05357894736842105',\n",
       "  'alpha=0.7374736842105264',\n",
       "  0.00026067073442818364),\n",
       " ('topK=10',\n",
       "  'l1_ratio=0.05357894736842105',\n",
       "  'alpha=0.8426842105263158',\n",
       "  0.00026067073442818364),\n",
       " ('topK=10',\n",
       "  'l1_ratio=0.05357894736842105',\n",
       "  'alpha=0.9478947368421052',\n",
       "  0.00026067073442818364),\n",
       " ('topK=10',\n",
       "  'l1_ratio=0.05357894736842105',\n",
       "  'alpha=1.0531052631578945',\n",
       "  0.00026067073442818364)]"
      ]
     },
     "execution_count": 10,
     "metadata": {},
     "output_type": "execute_result"
    }
   ],
   "source": [
    "MAP"
   ]
  },
  {
   "cell_type": "code",
   "execution_count": null,
   "id": "85cfca6d-1b4b-4451-ac2f-728076b5c8fa",
   "metadata": {},
   "outputs": [],
   "source": [
    "slim_model = SLIMElasticNetRecommender(URM_train)"
   ]
  },
  {
   "cell_type": "code",
   "execution_count": 14,
   "id": "369f362b-db09-42db-aaa9-3ecfca6364a7",
   "metadata": {},
   "outputs": [
    {
     "name": "stdout",
     "output_type": "stream",
     "text": [
      "SLIMElasticNetRecommender: Processed 38121 (100.0%) in 3.09 min. Items per second: 205.70\n"
     ]
    }
   ],
   "source": [
    "slim_model.fit()"
   ]
  },
  {
   "cell_type": "code",
   "execution_count": 16,
   "id": "6ac1bea9-6498-4cf1-927d-db831cc5d12a",
   "metadata": {},
   "outputs": [
    {
     "name": "stdout",
     "output_type": "stream",
     "text": [
      "EvaluatorHoldout: Processed 35590 (100.0%) in 8.42 sec. Users per second: 4225\n"
     ]
    }
   ],
   "source": [
    "result_dict, _ = evaluator_validation.evaluateRecommender(slim_model)"
   ]
  },
  {
   "cell_type": "code",
   "execution_count": 17,
   "id": "4e087591-4310-4134-95c7-d3c87bb3a218",
   "metadata": {},
   "outputs": [
    {
     "data": {
      "text/html": [
       "<div>\n",
       "<style scoped>\n",
       "    .dataframe tbody tr th:only-of-type {\n",
       "        vertical-align: middle;\n",
       "    }\n",
       "\n",
       "    .dataframe tbody tr th {\n",
       "        vertical-align: top;\n",
       "    }\n",
       "\n",
       "    .dataframe thead th {\n",
       "        text-align: right;\n",
       "    }\n",
       "</style>\n",
       "<table border=\"1\" class=\"dataframe\">\n",
       "  <thead>\n",
       "    <tr style=\"text-align: right;\">\n",
       "      <th></th>\n",
       "      <th>PRECISION</th>\n",
       "      <th>PRECISION_RECALL_MIN_DEN</th>\n",
       "      <th>RECALL</th>\n",
       "      <th>MAP</th>\n",
       "      <th>MAP_MIN_DEN</th>\n",
       "      <th>MRR</th>\n",
       "      <th>NDCG</th>\n",
       "      <th>F1</th>\n",
       "      <th>HIT_RATE</th>\n",
       "      <th>ARHR_ALL_HITS</th>\n",
       "      <th>...</th>\n",
       "      <th>COVERAGE_USER</th>\n",
       "      <th>COVERAGE_USER_HIT</th>\n",
       "      <th>USERS_IN_GT</th>\n",
       "      <th>DIVERSITY_GINI</th>\n",
       "      <th>SHANNON_ENTROPY</th>\n",
       "      <th>RATIO_DIVERSITY_HERFINDAHL</th>\n",
       "      <th>RATIO_DIVERSITY_GINI</th>\n",
       "      <th>RATIO_SHANNON_ENTROPY</th>\n",
       "      <th>RATIO_AVERAGE_POPULARITY</th>\n",
       "      <th>RATIO_NOVELTY</th>\n",
       "    </tr>\n",
       "    <tr>\n",
       "      <th>cutoff</th>\n",
       "      <th></th>\n",
       "      <th></th>\n",
       "      <th></th>\n",
       "      <th></th>\n",
       "      <th></th>\n",
       "      <th></th>\n",
       "      <th></th>\n",
       "      <th></th>\n",
       "      <th></th>\n",
       "      <th></th>\n",
       "      <th></th>\n",
       "      <th></th>\n",
       "      <th></th>\n",
       "      <th></th>\n",
       "      <th></th>\n",
       "      <th></th>\n",
       "      <th></th>\n",
       "      <th></th>\n",
       "      <th></th>\n",
       "      <th></th>\n",
       "      <th></th>\n",
       "    </tr>\n",
       "  </thead>\n",
       "  <tbody>\n",
       "    <tr>\n",
       "      <th>10</th>\n",
       "      <td>0.000865</td>\n",
       "      <td>0.001183</td>\n",
       "      <td>0.000963</td>\n",
       "      <td>0.000252</td>\n",
       "      <td>0.000365</td>\n",
       "      <td>0.002385</td>\n",
       "      <td>0.001031</td>\n",
       "      <td>0.000912</td>\n",
       "      <td>0.008205</td>\n",
       "      <td>0.00245</td>\n",
       "      <td>...</td>\n",
       "      <td>0.995914</td>\n",
       "      <td>0.008171</td>\n",
       "      <td>0.995914</td>\n",
       "      <td>0.000638</td>\n",
       "      <td>4.95516</td>\n",
       "      <td>0.955743</td>\n",
       "      <td>0.00105</td>\n",
       "      <td>0.335671</td>\n",
       "      <td>2.365443</td>\n",
       "      <td>0.232804</td>\n",
       "    </tr>\n",
       "  </tbody>\n",
       "</table>\n",
       "<p>1 rows × 27 columns</p>\n",
       "</div>"
      ],
      "text/plain": [
       "       PRECISION PRECISION_RECALL_MIN_DEN    RECALL       MAP MAP_MIN_DEN  \\\n",
       "cutoff                                                                      \n",
       "10      0.000865                 0.001183  0.000963  0.000252    0.000365   \n",
       "\n",
       "             MRR      NDCG        F1  HIT_RATE ARHR_ALL_HITS  ...  \\\n",
       "cutoff                                                        ...   \n",
       "10      0.002385  0.001031  0.000912  0.008205       0.00245  ...   \n",
       "\n",
       "       COVERAGE_USER COVERAGE_USER_HIT USERS_IN_GT DIVERSITY_GINI  \\\n",
       "cutoff                                                              \n",
       "10          0.995914          0.008171    0.995914       0.000638   \n",
       "\n",
       "       SHANNON_ENTROPY RATIO_DIVERSITY_HERFINDAHL RATIO_DIVERSITY_GINI  \\\n",
       "cutoff                                                                   \n",
       "10             4.95516                   0.955743              0.00105   \n",
       "\n",
       "       RATIO_SHANNON_ENTROPY RATIO_AVERAGE_POPULARITY RATIO_NOVELTY  \n",
       "cutoff                                                               \n",
       "10                  0.335671                 2.365443      0.232804  \n",
       "\n",
       "[1 rows x 27 columns]"
      ]
     },
     "execution_count": 17,
     "metadata": {},
     "output_type": "execute_result"
    }
   ],
   "source": [
    "result_dict"
   ]
  },
  {
   "cell_type": "code",
   "execution_count": 18,
   "id": "79d3269b-53c7-4d76-b02c-a9c93964ad71",
   "metadata": {},
   "outputs": [
    {
     "data": {
      "text/plain": [
       "0.00025152753805465186"
      ]
     },
     "execution_count": 18,
     "metadata": {},
     "output_type": "execute_result"
    }
   ],
   "source": [
    "result_dict[\"MAP\"][10]"
   ]
  },
  {
   "cell_type": "code",
   "execution_count": null,
   "id": "29973e5e-3ce2-49d3-a3a2-621749777574",
   "metadata": {},
   "outputs": [],
   "source": []
  }
 ],
 "metadata": {
  "kernelspec": {
   "display_name": "RecSys",
   "language": "python",
   "name": "recsys"
  },
  "language_info": {
   "codemirror_mode": {
    "name": "ipython",
    "version": 3
   },
   "file_extension": ".py",
   "mimetype": "text/x-python",
   "name": "python",
   "nbconvert_exporter": "python",
   "pygments_lexer": "ipython3",
   "version": "3.12.7"
  }
 },
 "nbformat": 4,
 "nbformat_minor": 5
}
