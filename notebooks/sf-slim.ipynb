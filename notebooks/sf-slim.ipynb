{
 "cells": [
  {
   "cell_type": "code",
   "execution_count": 1,
   "id": "d68f4f10-7586-40be-995d-317f8151a32d",
   "metadata": {},
   "outputs": [],
   "source": [
    "from pathlib import Path\n",
    "import sys  \n",
    "import os"
   ]
  },
  {
   "cell_type": "code",
   "execution_count": 2,
   "id": "ce52585f-1bac-48b4-8a40-a5c046909747",
   "metadata": {},
   "outputs": [],
   "source": [
    "sys.path.append(os.path.abspath(os.path.join(os.getcwd(), \"..\", \"libs\")))\n",
    "sys.path.append(os.path.abspath(os.path.join(os.getcwd(), \"..\")))\n",
    "sys.path.append(os.path.abspath(os.path.join(os.getcwd(), \"..\", \"src\")))"
   ]
  },
  {
   "cell_type": "code",
   "execution_count": 13,
   "id": "9ad4cc94-c45a-41db-9768-5d81b7cb417b",
   "metadata": {},
   "outputs": [],
   "source": [
    "from libs.Recommenders.SLIM.SLIMElasticNetRecommender import SLIMElasticNetRecommender\n",
    "import numpy as np\n",
    "from operator import itemgetter"
   ]
  },
  {
   "cell_type": "code",
   "execution_count": 4,
   "id": "08cf1451-2c25-40e0-8858-3b7424eca31d",
   "metadata": {},
   "outputs": [],
   "source": [
    "from Utils.load_URM import load_URM\n",
    "from Utils.load_ICM import load_ICM\n",
    "from libs.Evaluation.Evaluator import EvaluatorHoldout\n",
    "from Data_manager.split_functions.split_train_validation_random_holdout import split_train_in_two_percentage_global_sample\n",
    "\n",
    "URM_all = load_URM(\"../data/data_train.csv\")\n",
    "ICM_all = load_ICM(\"../data/data_ICM_metadata.csv\")"
   ]
  },
  {
   "cell_type": "code",
   "execution_count": 5,
   "id": "af220037-bc27-42f9-a209-92f385760c97",
   "metadata": {},
   "outputs": [
    {
     "name": "stdout",
     "output_type": "stream",
     "text": [
      "Warning: 164 (0.46 %) of 35736 users have no sampled items\n",
      "EvaluatorHoldout: Ignoring 164 ( 0.5%) Users that have less than 1 test interactions\n"
     ]
    }
   ],
   "source": [
    "URM_train, URM_validation = split_train_in_two_percentage_global_sample(URM_all, train_percentage = 0.80)\n",
    "\n",
    "evaluator_validation = EvaluatorHoldout(URM_validation, cutoff_list=[10])"
   ]
  },
  {
   "cell_type": "code",
   "execution_count": 24,
   "id": "02cf27c7-6346-4b35-953d-d0aa2c433ff9",
   "metadata": {},
   "outputs": [
    {
     "data": {
      "text/plain": [
       "array([0.        , 0.10526316, 0.21052632, 0.31578947, 0.42105263,\n",
       "       0.52631579, 0.63157895, 0.73684211, 0.84210526, 0.94736842,\n",
       "       1.05263158, 1.15789474, 1.26315789, 1.36842105, 1.47368421,\n",
       "       1.57894737, 1.68421053, 1.78947368, 1.89473684, 2.        ])"
      ]
     },
     "execution_count": 24,
     "metadata": {},
     "output_type": "execute_result"
    }
   ],
   "source": [
    "np.linspace(0, 2, 20)"
   ]
  },
  {
   "cell_type": "code",
   "execution_count": 13,
   "id": "2ed2e481-4c25-4b37-a11a-a529d76f6372",
   "metadata": {},
   "outputs": [],
   "source": [
    "#from Data_manager.Movielens.Movielens10MReader import Movielens10MReader"
   ]
  },
  {
   "cell_type": "code",
   "execution_count": 6,
   "id": "791689ab-93b7-4163-9e39-4242ab32fc85",
   "metadata": {},
   "outputs": [],
   "source": [
    "#data_reader = Movielens10MReader()\n",
    "#data_loaded = data_reader.load_data()\n",
    "\n",
    "#URM_all = data_loaded.get_URM_all()"
   ]
  },
  {
   "cell_type": "code",
   "execution_count": 17,
   "id": "d93f2487-b68a-428b-b001-8b7db70d5273",
   "metadata": {},
   "outputs": [
    {
     "name": "stdout",
     "output_type": "stream",
     "text": [
      "Warning: 58 (0.08 %) of 69878 users have no sampled items\n"
     ]
    }
   ],
   "source": [
    "#URM_train, URM_validation = split_train_in_two_percentage_global_sample(URM_all, train_percentage = 0.80)"
   ]
  },
  {
   "cell_type": "code",
   "execution_count": 22,
   "id": "362515a7-efa0-4766-a61b-7d14da57862f",
   "metadata": {},
   "outputs": [
    {
     "data": {
      "text/plain": [
       "<Compressed Sparse Row sparse matrix of dtype 'float64'\n",
       "\twith 8000043 stored elements and shape (69878, 10681)>"
      ]
     },
     "execution_count": 22,
     "metadata": {},
     "output_type": "execute_result"
    }
   ],
   "source": [
    "URM_train"
   ]
  },
  {
   "cell_type": "code",
   "execution_count": null,
   "id": "5073b616-d87b-47eb-8067-18cc47d3a3cf",
   "metadata": {},
   "outputs": [],
   "source": [
    "#MAP = []\n",
    "URM_train_coo = URM_train.tocoo()\n",
    "\n",
    "\n",
    "for topK_ in [50, 100, 150, 200]:\n",
    "    for l1_ratio_ in np.linspace(0.001, 1, 10):\n",
    "        for alpha_ in np.linspace(0.00001, 0.0005, 3):\n",
    "            slim_model = SLIMElasticNetRecommender(URM_train_coo, verbose=True)\n",
    "            slim_model.fit(l1_ratio=l1_ratio_, alpha = alpha_, topK = topK_)\n",
    "\n",
    "            result_dict, _ = evaluator_validation.evaluateRecommender(slim_model)\n",
    "            MAP.append(('topK={}'.format(topK_), 'l1_ratio={}'.format(l1_ratio_), 'alpha={}'.format(alpha_), result_dict[\"MAP\"][10]))\n",
    "\n",
    "            print(MAP[-1])\n",
    "            "
   ]
  },
  {
   "cell_type": "code",
   "execution_count": 14,
   "id": "5f3d7bd5-2ca5-4aae-bd82-fa10da43bbf8",
   "metadata": {},
   "outputs": [
    {
     "name": "stdout",
     "output_type": "stream",
     "text": [
      "The best combination for the ICF recommender is (topK=20,l1_ratio=0.15873684210526315,alpha=0.00034), with a MAP = 0.05992418684929483\n"
     ]
    }
   ],
   "source": [
    "max_tuple = max(MAP, key=itemgetter(3))\n",
    "print('The best combination for the ICF recommender is ({},{},{}), with a MAP = {}'.format(max_tuple[0],max_tuple[1], max_tuple[2], max_tuple[3]))"
   ]
  },
  {
   "cell_type": "code",
   "execution_count": null,
   "id": "85cfca6d-1b4b-4451-ac2f-728076b5c8fa",
   "metadata": {},
   "outputs": [],
   "source": [
    "slim_model = SLIMElasticNetRecommender(URM_train)"
   ]
  },
  {
   "cell_type": "code",
   "execution_count": 14,
   "id": "369f362b-db09-42db-aaa9-3ecfca6364a7",
   "metadata": {},
   "outputs": [
    {
     "name": "stdout",
     "output_type": "stream",
     "text": [
      "SLIMElasticNetRecommender: Processed 38121 (100.0%) in 3.09 min. Items per second: 205.70\n"
     ]
    }
   ],
   "source": [
    "slim_model.fit()"
   ]
  },
  {
   "cell_type": "code",
   "execution_count": 16,
   "id": "6ac1bea9-6498-4cf1-927d-db831cc5d12a",
   "metadata": {},
   "outputs": [
    {
     "name": "stdout",
     "output_type": "stream",
     "text": [
      "EvaluatorHoldout: Processed 35590 (100.0%) in 8.42 sec. Users per second: 4225\n"
     ]
    }
   ],
   "source": [
    "result_dict, _ = evaluator_validation.evaluateRecommender(slim_model)"
   ]
  },
  {
   "cell_type": "code",
   "execution_count": 17,
   "id": "4e087591-4310-4134-95c7-d3c87bb3a218",
   "metadata": {},
   "outputs": [
    {
     "data": {
      "text/html": [
       "<div>\n",
       "<style scoped>\n",
       "    .dataframe tbody tr th:only-of-type {\n",
       "        vertical-align: middle;\n",
       "    }\n",
       "\n",
       "    .dataframe tbody tr th {\n",
       "        vertical-align: top;\n",
       "    }\n",
       "\n",
       "    .dataframe thead th {\n",
       "        text-align: right;\n",
       "    }\n",
       "</style>\n",
       "<table border=\"1\" class=\"dataframe\">\n",
       "  <thead>\n",
       "    <tr style=\"text-align: right;\">\n",
       "      <th></th>\n",
       "      <th>PRECISION</th>\n",
       "      <th>PRECISION_RECALL_MIN_DEN</th>\n",
       "      <th>RECALL</th>\n",
       "      <th>MAP</th>\n",
       "      <th>MAP_MIN_DEN</th>\n",
       "      <th>MRR</th>\n",
       "      <th>NDCG</th>\n",
       "      <th>F1</th>\n",
       "      <th>HIT_RATE</th>\n",
       "      <th>ARHR_ALL_HITS</th>\n",
       "      <th>...</th>\n",
       "      <th>COVERAGE_USER</th>\n",
       "      <th>COVERAGE_USER_HIT</th>\n",
       "      <th>USERS_IN_GT</th>\n",
       "      <th>DIVERSITY_GINI</th>\n",
       "      <th>SHANNON_ENTROPY</th>\n",
       "      <th>RATIO_DIVERSITY_HERFINDAHL</th>\n",
       "      <th>RATIO_DIVERSITY_GINI</th>\n",
       "      <th>RATIO_SHANNON_ENTROPY</th>\n",
       "      <th>RATIO_AVERAGE_POPULARITY</th>\n",
       "      <th>RATIO_NOVELTY</th>\n",
       "    </tr>\n",
       "    <tr>\n",
       "      <th>cutoff</th>\n",
       "      <th></th>\n",
       "      <th></th>\n",
       "      <th></th>\n",
       "      <th></th>\n",
       "      <th></th>\n",
       "      <th></th>\n",
       "      <th></th>\n",
       "      <th></th>\n",
       "      <th></th>\n",
       "      <th></th>\n",
       "      <th></th>\n",
       "      <th></th>\n",
       "      <th></th>\n",
       "      <th></th>\n",
       "      <th></th>\n",
       "      <th></th>\n",
       "      <th></th>\n",
       "      <th></th>\n",
       "      <th></th>\n",
       "      <th></th>\n",
       "      <th></th>\n",
       "    </tr>\n",
       "  </thead>\n",
       "  <tbody>\n",
       "    <tr>\n",
       "      <th>10</th>\n",
       "      <td>0.000865</td>\n",
       "      <td>0.001183</td>\n",
       "      <td>0.000963</td>\n",
       "      <td>0.000252</td>\n",
       "      <td>0.000365</td>\n",
       "      <td>0.002385</td>\n",
       "      <td>0.001031</td>\n",
       "      <td>0.000912</td>\n",
       "      <td>0.008205</td>\n",
       "      <td>0.00245</td>\n",
       "      <td>...</td>\n",
       "      <td>0.995914</td>\n",
       "      <td>0.008171</td>\n",
       "      <td>0.995914</td>\n",
       "      <td>0.000638</td>\n",
       "      <td>4.95516</td>\n",
       "      <td>0.955743</td>\n",
       "      <td>0.00105</td>\n",
       "      <td>0.335671</td>\n",
       "      <td>2.365443</td>\n",
       "      <td>0.232804</td>\n",
       "    </tr>\n",
       "  </tbody>\n",
       "</table>\n",
       "<p>1 rows × 27 columns</p>\n",
       "</div>"
      ],
      "text/plain": [
       "       PRECISION PRECISION_RECALL_MIN_DEN    RECALL       MAP MAP_MIN_DEN  \\\n",
       "cutoff                                                                      \n",
       "10      0.000865                 0.001183  0.000963  0.000252    0.000365   \n",
       "\n",
       "             MRR      NDCG        F1  HIT_RATE ARHR_ALL_HITS  ...  \\\n",
       "cutoff                                                        ...   \n",
       "10      0.002385  0.001031  0.000912  0.008205       0.00245  ...   \n",
       "\n",
       "       COVERAGE_USER COVERAGE_USER_HIT USERS_IN_GT DIVERSITY_GINI  \\\n",
       "cutoff                                                              \n",
       "10          0.995914          0.008171    0.995914       0.000638   \n",
       "\n",
       "       SHANNON_ENTROPY RATIO_DIVERSITY_HERFINDAHL RATIO_DIVERSITY_GINI  \\\n",
       "cutoff                                                                   \n",
       "10             4.95516                   0.955743              0.00105   \n",
       "\n",
       "       RATIO_SHANNON_ENTROPY RATIO_AVERAGE_POPULARITY RATIO_NOVELTY  \n",
       "cutoff                                                               \n",
       "10                  0.335671                 2.365443      0.232804  \n",
       "\n",
       "[1 rows x 27 columns]"
      ]
     },
     "execution_count": 17,
     "metadata": {},
     "output_type": "execute_result"
    }
   ],
   "source": [
    "result_dict"
   ]
  },
  {
   "cell_type": "code",
   "execution_count": 18,
   "id": "79d3269b-53c7-4d76-b02c-a9c93964ad71",
   "metadata": {},
   "outputs": [
    {
     "data": {
      "text/plain": [
       "0.00025152753805465186"
      ]
     },
     "execution_count": 18,
     "metadata": {},
     "output_type": "execute_result"
    }
   ],
   "source": [
    "result_dict[\"MAP\"][10]"
   ]
  },
  {
   "cell_type": "code",
   "execution_count": null,
   "id": "29973e5e-3ce2-49d3-a3a2-621749777574",
   "metadata": {},
   "outputs": [],
   "source": []
  }
 ],
 "metadata": {
  "kernelspec": {
   "display_name": "RecSys",
   "language": "python",
   "name": "recsys"
  },
  "language_info": {
   "codemirror_mode": {
    "name": "ipython",
    "version": 3
   },
   "file_extension": ".py",
   "mimetype": "text/x-python",
   "name": "python",
   "nbconvert_exporter": "python",
   "pygments_lexer": "ipython3",
   "version": "3.12.7"
  }
 },
 "nbformat": 4,
 "nbformat_minor": 5
}
