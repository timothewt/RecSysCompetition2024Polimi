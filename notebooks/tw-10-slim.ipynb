{
 "cells": [
  {
   "metadata": {
    "ExecuteTime": {
     "end_time": "2024-11-22T00:30:50.996650Z",
     "start_time": "2024-11-22T00:30:49.434540Z"
    }
   },
   "cell_type": "code",
   "source": [
    "from fast_map import fast_map\n",
    "import numpy as np\n",
    "import scipy.sparse as sp\n",
    "from sklearn.linear_model import ElasticNet\n",
    "from tqdm import tqdm\n",
    "\n",
    "from src.recommender_model import RecommenderModel\n",
    "from src.utils import train_model, write_submission"
   ],
   "id": "4e2334859af7ce65",
   "outputs": [],
   "execution_count": 1
  },
  {
   "metadata": {},
   "cell_type": "markdown",
   "source": "# SLIM Elastic Net\n",
   "id": "f03bb9fb6a27757a"
  },
  {
   "metadata": {
    "ExecuteTime": {
     "end_time": "2024-11-22T00:30:51.007791Z",
     "start_time": "2024-11-22T00:30:51.001017Z"
    }
   },
   "cell_type": "code",
   "source": [
    "class SLIMElasticNet(RecommenderModel):\n",
    "\tdef __init__(self):\n",
    "\t   super(SLIMElasticNet, self).__init__()\n",
    "\t   self.alpha: float = 0\n",
    "\t   self.l1_ratio: float = 0\n",
    "\t   self.top_k: int = 0\n",
    "\t   self.max_iter: int = 0\n",
    "\t   self.similarity_matrix: sp.csr_matrix | None = None\n",
    "\n",
    "\t@staticmethod\n",
    "\tdef process_item(item_idx: int, urm_csc: sp.csc_matrix, top_k: int, alpha: float, l1_ratio: float, max_iter: int):\n",
    "\t\telastic_net = ElasticNet(\n",
    "\t\t\talpha=alpha,\n",
    "\t\t\tl1_ratio=l1_ratio,\n",
    "\t\t\tfit_intercept=False,\n",
    "\t\t\tpositive=True,\n",
    "\t\t\tcopy_X=False,\n",
    "\t\t\tselection='random',\n",
    "\t\t\tmax_iter=max_iter,\n",
    "\t\t\ttol=1e-3\n",
    "\t\t)\n",
    "\n",
    "\t\ty = urm_csc[:, item_idx].toarray()\n",
    "\t\tx = urm_csc.copy()\n",
    "\t\tx.data[x.indptr[item_idx]:x.indptr[item_idx + 1]] = 0.\n",
    "\n",
    "\t\telastic_net.fit(urm_csc, y)\n",
    "\n",
    "\t\tcoeffs_idxs = elastic_net.sparse_coef_.indices\n",
    "\t\tcoeffs_vals = elastic_net.sparse_coef_.data\n",
    "\n",
    "\t\tif coeffs_idxs.shape[0] > top_k:\n",
    "\t\t\trelevant_items = np.argpartition(-np.abs(coeffs_vals), top_k)[:top_k]\n",
    "\t\t\tcoeffs_idxs = coeffs_idxs[relevant_items]\n",
    "\t\t\tcoeffs_vals = coeffs_vals[relevant_items]\n",
    "\n",
    "\t\treturn item_idx, coeffs_idxs, coeffs_vals\n",
    "\n",
    "\tdef fit(\n",
    "\t\tself,\n",
    "\t\turm: sp.csr_matrix,\n",
    "\t\tprogress_bar: bool = True,\n",
    "\t\ttop_k: int = 300,\n",
    "\t\tl1_reg: float = 1e-7,\n",
    "\t\tl2_reg: float = 1e-5,\n",
    "\t\tmax_iter: int = 100,\n",
    "\t\t**kwargs\n",
    "\t) -> None:\n",
    "\t\tself.urm = urm\n",
    "\t\turm_csc = self.urm.tocsr()\n",
    "\t\tnum_items = self.urm.shape[1]\n",
    "\n",
    "\t\tself.top_k = min(top_k, num_items - 1)\n",
    "\t\tself.alpha = l1_reg + l2_reg\n",
    "\t\tself.l1_ratio = l1_reg / self.alpha\n",
    "\t\tself.max_iter = max_iter\n",
    "\n",
    "\t\ts_rows = []\n",
    "\t\ts_cols = []\n",
    "\t\ts_vals = []\n",
    "\n",
    "\t\tmapper = fast_map(self.process_item, range(num_items), [urm_csc] * num_items, [self.top_k] * num_items, [self.alpha] * num_items, [self.l1_ratio] * num_items, [self.max_iter] * num_items)\n",
    "\t\titerator = tqdm(mapper, desc=\"Items\", total=num_items) if progress_bar else mapper\n",
    "\n",
    "\t\tfor item_idx, coeffs_idxs, coeffs_vals in iterator:\n",
    "\t\t\ts_rows.extend([item_idx] * len(coeffs_idxs))\n",
    "\t\t\ts_cols.extend(coeffs_idxs)\n",
    "\t\t\ts_vals.extend(coeffs_vals)\n",
    "\n",
    "\t\tself.similarity_matrix = sp.csr_matrix(\n",
    "\t\t\t(s_vals, (s_rows, s_cols)),\n",
    "\t\t\tshape=(num_items, num_items),\n",
    "\t\t\tdtype=np.float32\n",
    "\t\t)\n",
    "\n",
    "\t\tself.urm_pred = self.urm @ self.similarity_matrix"
   ],
   "id": "bb59ffd59a930d44",
   "outputs": [],
   "execution_count": 2
  },
  {
   "metadata": {
    "jupyter": {
     "is_executing": true
    },
    "ExecuteTime": {
     "start_time": "2024-11-22T00:30:51.101608Z"
    }
   },
   "cell_type": "code",
   "source": "slim_elastic_train, _ = train_model(SLIMElasticNet())",
   "id": "4219c84bc7c8fb31",
   "outputs": [
    {
     "name": "stderr",
     "output_type": "stream",
     "text": [
      "Items:   0%|          | 189/38121 [00:15<28:24, 22.25it/s]  "
     ]
    }
   ],
   "execution_count": null
  },
  {
   "metadata": {},
   "cell_type": "code",
   "outputs": [],
   "execution_count": null,
   "source": [
    "slim_elastic_submission, _ = train_model(SLIMElasticNet(), test_size=0)\n",
    "write_submission(slim_elastic_submission, \"slim_elastic_submission\")"
   ],
   "id": "8ebc3da5a166ca16"
  },
  {
   "metadata": {},
   "cell_type": "markdown",
   "source": "Submission result: `0.0xxxx`",
   "id": "2c2b73fd017b6539"
  }
 ],
 "metadata": {
  "kernelspec": {
   "name": "python3",
   "language": "python",
   "display_name": "Python 3 (ipykernel)"
  }
 },
 "nbformat": 5,
 "nbformat_minor": 9
}
