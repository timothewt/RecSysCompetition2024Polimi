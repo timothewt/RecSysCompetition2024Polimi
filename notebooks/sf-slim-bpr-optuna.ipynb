{
 "cells": [
  {
   "cell_type": "code",
   "execution_count": 1,
   "id": "763b949d-faf7-4102-814f-f0b6052b6970",
   "metadata": {},
   "outputs": [],
   "source": [
    "from pathlib import Path\n",
    "import sys  \n",
    "import os\n",
    "import pandas as pd \n",
    "from datetime import datetime\n",
    "import scipy.sparse as sps\n",
    "from numpy import linalg as LA\n",
    "\n",
    "import numpy as np\n",
    "from operator import itemgetter\n",
    "import optuna as op"
   ]
  },
  {
   "cell_type": "code",
   "execution_count": 2,
   "id": "b2d58d26-9581-4f17-9400-d29c3c0b5571",
   "metadata": {},
   "outputs": [],
   "source": [
    "sys.path.append(os.path.abspath(os.path.join(os.getcwd(), \"..\", \"libs\")))\n",
    "sys.path.append(os.path.abspath(os.path.join(os.getcwd(), \"..\")))\n",
    "sys.path.append(os.path.abspath(os.path.join(os.getcwd(), \"..\", \"src\")))"
   ]
  },
  {
   "cell_type": "code",
   "execution_count": 3,
   "id": "82b44c7c-35ae-4089-8999-62a5b1dd3ba8",
   "metadata": {},
   "outputs": [],
   "source": [
    "from libs.Recommenders.SLIM.SLIM_BPR_Python import SLIM_BPR_Python\n",
    "from libs.Evaluation.Evaluator import EvaluatorHoldout"
   ]
  },
  {
   "cell_type": "code",
   "execution_count": 4,
   "id": "5e9b4ba7-0a70-4c9e-af34-529dc66d654a",
   "metadata": {},
   "outputs": [],
   "source": [
    "URM_train = sps.load_npz(\"URM_train_ens.npz\")\n",
    "URM_val = sps.load_npz(\"URM_val_ens.npz\")"
   ]
  },
  {
   "cell_type": "code",
   "execution_count": 5,
   "id": "e78d0a20-892b-438e-b2db-eec56621e814",
   "metadata": {},
   "outputs": [
    {
     "name": "stdout",
     "output_type": "stream",
     "text": [
      "EvaluatorHoldout: Ignoring 1008 ( 2.8%) Users that have less than 1 test interactions\n"
     ]
    }
   ],
   "source": [
    "evaluator_validation = EvaluatorHoldout(URM_val, cutoff_list=[10])"
   ]
  },
  {
   "cell_type": "code",
   "execution_count": 7,
   "id": "0f15d51c-b205-4b8f-8976-11e6c36dc70d",
   "metadata": {},
   "outputs": [],
   "source": [
    "slim_model_bpr = SLIM_BPR_Python"
   ]
  },
  {
   "cell_type": "code",
   "execution_count": 10,
   "id": "8c7adb14-e128-418c-97c1-0492957d46f3",
   "metadata": {},
   "outputs": [],
   "source": [
    "def objective(trial):\n",
    "    topK = trial.suggest_int(\"topK\", 250, 350)\n",
    "    lambda_i = trial.suggest_float(\"lambda_i\", 0.0005, 0.0125)\n",
    "    lambda_j = trial.suggest_float(\"lambda_j\", 0.00005, 0.00125)\n",
    "    learning_rate = trial.suggest_float(\"learning_rate\", 0.05, 0.7)\n",
    "    \n",
    "    recommender = slim_model_bpr(URM_train)\n",
    "    recommender.fit(**trial.params)\n",
    "    \n",
    "    result_data, _ = evaluator_validation.evaluateRecommender(recommender)\n",
    "    \n",
    "    return result_data[\"MAP\"][10]"
   ]
  },
  {
   "cell_type": "code",
   "execution_count": 11,
   "id": "e1a7fab4-6de7-4beb-b763-7aeddb21ae9f",
   "metadata": {},
   "outputs": [],
   "source": [
    "class SaveResults(object):\n",
    "    \n",
    "    def __init__(self):\n",
    "        self.results_df = pd.DataFrame()\n",
    "    \n",
    "    def __call__(self, optuna_study, optuna_trial):\n",
    "        hyperparam_dict = optuna_trial.params.copy()\n",
    "        hyperparam_dict[\"result\"] = optuna_trial.values[0]\n",
    "        \n",
    "        #self.results_df = pd.concat([self.results_df, pd.DataFrame(hyperparam_dict).transpose()], ignore_index=True)\n",
    "        self.results_df = self.results_df._append(hyperparam_dict, ignore_index=True)"
   ]
  },
  {
   "cell_type": "code",
   "execution_count": null,
   "id": "aabfa51e-9f3a-4841-a22d-504adba0e87d",
   "metadata": {
    "scrolled": true
   },
   "outputs": [
    {
     "name": "stderr",
     "output_type": "stream",
     "text": [
      "[I 2024-12-18 00:02:07,637] A new study created in memory with name: no-name-de1582e4-33f9-413d-ac8c-fa0ed659f8be\n"
     ]
    },
    {
     "name": "stdout",
     "output_type": "stream",
     "text": [
      "Epoch 1, Iteration 35736 in 2.38 seconds. Samples per second 14990.63\n",
      "Epoch 2, Iteration 35736 in 2.42 seconds. Samples per second 14760.53\n",
      "Epoch 3, Iteration 35736 in 2.62 seconds. Samples per second 13652.81\n",
      "Epoch 4, Iteration 35736 in 2.31 seconds. Samples per second 15478.18\n",
      "Epoch 5, Iteration 35736 in 2.33 seconds. Samples per second 15361.44\n",
      "Epoch 6, Iteration 35736 in 2.46 seconds. Samples per second 14514.58\n",
      "Epoch 7, Iteration 35736 in 2.72 seconds. Samples per second 13125.72\n",
      "Epoch 8, Iteration 35736 in 2.72 seconds. Samples per second 13141.48\n",
      "Epoch 9, Iteration 35736 in 2.54 seconds. Samples per second 14053.89\n",
      "Epoch 10, Iteration 35736 in 2.61 seconds. Samples per second 13718.04\n",
      "Epoch 11, Iteration 35736 in 2.38 seconds. Samples per second 14995.86\n",
      "Epoch 12, Iteration 35736 in 2.33 seconds. Samples per second 15367.32\n",
      "Epoch 13, Iteration 35736 in 2.34 seconds. Samples per second 15299.22\n",
      "Epoch 14, Iteration 35736 in 2.30 seconds. Samples per second 15518.94\n",
      "Epoch 15, Iteration 35736 in 2.67 seconds. Samples per second 13406.96\n",
      "Epoch 16, Iteration 35736 in 2.67 seconds. Samples per second 13372.99\n",
      "Epoch 17, Iteration 35736 in 2.68 seconds. Samples per second 13354.55\n",
      "Epoch 18, Iteration 35736 in 2.71 seconds. Samples per second 13192.79\n",
      "Epoch 19, Iteration 35736 in 2.41 seconds. Samples per second 14818.70\n",
      "Epoch 20, Iteration 35736 in 2.45 seconds. Samples per second 14565.37\n",
      "Epoch 21, Iteration 35736 in 2.75 seconds. Samples per second 13005.86\n",
      "Epoch 22, Iteration 35736 in 2.71 seconds. Samples per second 13178.25\n",
      "Epoch 23, Iteration 35736 in 2.95 seconds. Samples per second 12116.05\n",
      "Epoch 24, Iteration 35736 in 2.77 seconds. Samples per second 12909.54\n",
      "Epoch 25, Iteration 35736 in 2.68 seconds. Samples per second 13358.77\n",
      "Train completed in 1.07 minutes\n",
      "EvaluatorHoldout: Processed 34728 (100.0%) in 18.54 sec. Users per second: 1873\n"
     ]
    },
    {
     "name": "stderr",
     "output_type": "stream",
     "text": [
      "[I 2024-12-18 00:03:48,882] Trial 0 finished with value: 0.01777028988090674 and parameters: {'topK': 318, 'lambda_i': 0.0011157823850022623, 'lambda_j': 0.00017452996482221594, 'learning_rate': 0.19463064094902288}. Best is trial 0 with value: 0.01777028988090674.\n"
     ]
    },
    {
     "name": "stdout",
     "output_type": "stream",
     "text": [
      "Epoch 1, Iteration 35736 in 1.65 seconds. Samples per second 21606.34\n",
      "Epoch 2, Iteration 35736 in 2.17 seconds. Samples per second 16451.35\n",
      "Epoch 3, Iteration 35736 in 2.16 seconds. Samples per second 16528.46\n",
      "Epoch 4, Iteration 35736 in 2.23 seconds. Samples per second 15990.54\n",
      "Epoch 5, Iteration 35736 in 2.32 seconds. Samples per second 15394.98\n",
      "Epoch 6, Iteration 35736 in 2.58 seconds. Samples per second 13846.33\n",
      "Epoch 7, Iteration 35736 in 2.65 seconds. Samples per second 13476.96\n",
      "Epoch 8, Iteration 35736 in 2.82 seconds. Samples per second 12682.25\n",
      "Epoch 9, Iteration 35736 in 2.84 seconds. Samples per second 12590.33\n",
      "Epoch 10, Iteration 35736 in 2.48 seconds. Samples per second 14385.54\n",
      "Epoch 11, Iteration 35736 in 2.45 seconds. Samples per second 14560.77\n",
      "Epoch 12, Iteration 35736 in 2.48 seconds. Samples per second 14436.46\n",
      "Epoch 13, Iteration 35736 in 2.68 seconds. Samples per second 13328.68\n",
      "Epoch 14, Iteration 35736 in 2.94 seconds. Samples per second 12167.55\n",
      "Epoch 15, Iteration 35736 in 2.98 seconds. Samples per second 11978.80\n",
      "Epoch 16, Iteration 35736 in 3.09 seconds. Samples per second 11560.82\n",
      "Epoch 17, Iteration 35736 in 2.65 seconds. Samples per second 13473.38\n",
      "Epoch 18, Iteration 35736 in 2.58 seconds. Samples per second 13838.56\n",
      "Epoch 19, Iteration 35736 in 2.49 seconds. Samples per second 14353.94\n",
      "Epoch 20, Iteration 35736 in 2.48 seconds. Samples per second 14413.14\n",
      "Epoch 21, Iteration 35736 in 2.45 seconds. Samples per second 14613.48\n",
      "Epoch 22, Iteration 35736 in 2.44 seconds. Samples per second 14637.24\n",
      "Epoch 23, Iteration 35736 in 2.50 seconds. Samples per second 14304.55\n",
      "Epoch 24, Iteration 35736 in 2.80 seconds. Samples per second 12755.99\n",
      "Epoch 25, Iteration 35736 in 2.87 seconds. Samples per second 12449.29\n",
      "Train completed in 1.06 minutes\n",
      "EvaluatorHoldout: Processed 34728 (100.0%) in 17.06 sec. Users per second: 2035\n"
     ]
    },
    {
     "name": "stderr",
     "output_type": "stream",
     "text": [
      "[I 2024-12-18 00:05:28,347] Trial 1 finished with value: 0.017586674720183798 and parameters: {'topK': 261, 'lambda_i': 0.009593761858407294, 'lambda_j': 0.0010206720856885511, 'learning_rate': 0.42276790880883514}. Best is trial 0 with value: 0.01777028988090674.\n"
     ]
    },
    {
     "name": "stdout",
     "output_type": "stream",
     "text": [
      "Epoch 1, Iteration 35736 in 1.87 seconds. Samples per second 19101.37\n",
      "Epoch 2, Iteration 35736 in 2.37 seconds. Samples per second 15048.04\n",
      "Epoch 3, Iteration 35736 in 2.45 seconds. Samples per second 14591.06\n",
      "Epoch 4, Iteration 35736 in 2.39 seconds. Samples per second 14923.47\n",
      "Epoch 5, Iteration 35736 in 2.52 seconds. Samples per second 14187.71\n",
      "Epoch 6, Iteration 35736 in 2.45 seconds. Samples per second 14569.21\n",
      "Epoch 7, Iteration 35736 in 2.68 seconds. Samples per second 13334.80\n",
      "Epoch 8, Iteration 35736 in 2.70 seconds. Samples per second 13231.79\n",
      "Epoch 9, Iteration 35736 in 2.77 seconds. Samples per second 12895.91\n",
      "Epoch 10, Iteration 35736 in 2.80 seconds. Samples per second 12783.70\n",
      "Epoch 11, Iteration 35736 in 2.61 seconds. Samples per second 13716.45\n",
      "Epoch 12, Iteration 35736 in 2.47 seconds. Samples per second 14448.06\n",
      "Epoch 13, Iteration 35736 in 2.48 seconds. Samples per second 14409.35\n",
      "Epoch 14, Iteration 35736 in 2.45 seconds. Samples per second 14592.28\n",
      "Epoch 15, Iteration 35736 in 2.77 seconds. Samples per second 12881.42\n",
      "Epoch 16, Iteration 35736 in 2.81 seconds. Samples per second 12733.03\n",
      "Epoch 17, Iteration 35736 in 2.76 seconds. Samples per second 12924.58\n",
      "Epoch 18, Iteration 35736 in 2.85 seconds. Samples per second 12558.29\n",
      "Epoch 19, Iteration 35736 in 2.53 seconds. Samples per second 14114.22\n",
      "Epoch 20, Iteration 35736 in 2.48 seconds. Samples per second 14401.87\n",
      "Epoch 21, Iteration 35736 in 2.57 seconds. Samples per second 13915.59\n",
      "Epoch 22, Iteration 35736 in 2.56 seconds. Samples per second 13940.53\n",
      "Epoch 23, Iteration 35736 in 2.85 seconds. Samples per second 12544.21\n",
      "Epoch 24, Iteration 35736 in 2.96 seconds. Samples per second 12059.24\n",
      "Epoch 25, Iteration 35736 in 2.88 seconds. Samples per second 12427.11\n",
      "Train completed in 1.08 minutes\n",
      "EvaluatorHoldout: Processed 34728 (100.0%) in 18.69 sec. Users per second: 1858\n"
     ]
    },
    {
     "name": "stderr",
     "output_type": "stream",
     "text": [
      "[I 2024-12-18 00:07:12,090] Trial 2 finished with value: 0.01745034083471379 and parameters: {'topK': 328, 'lambda_i': 0.0019975768979037297, 'lambda_j': 0.0008176350511021447, 'learning_rate': 0.4834189869255874}. Best is trial 0 with value: 0.01777028988090674.\n"
     ]
    },
    {
     "name": "stdout",
     "output_type": "stream",
     "text": [
      "Epoch 1, Iteration 35736 in 1.72 seconds. Samples per second 20779.34\n",
      "Epoch 2, Iteration 35736 in 2.26 seconds. Samples per second 15842.52\n",
      "Epoch 3, Iteration 35736 in 2.27 seconds. Samples per second 15777.18\n",
      "Epoch 4, Iteration 35736 in 2.87 seconds. Samples per second 12440.56\n",
      "Epoch 5, Iteration 35736 in 3.33 seconds. Samples per second 10722.48\n",
      "Epoch 6, Iteration 35736 in 2.88 seconds. Samples per second 12420.09\n",
      "Epoch 7, Iteration 35736 in 2.81 seconds. Samples per second 12703.28\n",
      "Epoch 8, Iteration 35736 in 2.60 seconds. Samples per second 13739.17\n",
      "Epoch 9, Iteration 35736 in 2.62 seconds. Samples per second 13616.73\n",
      "Epoch 10, Iteration 35736 in 2.57 seconds. Samples per second 13918.31\n",
      "Epoch 11, Iteration 35736 in 2.81 seconds. Samples per second 12733.37\n",
      "Epoch 12, Iteration 35736 in 2.86 seconds. Samples per second 12495.32\n",
      "Epoch 13, Iteration 35736 in 2.86 seconds. Samples per second 12514.81\n",
      "Epoch 14, Iteration 35736 in 2.79 seconds. Samples per second 12794.97\n",
      "Epoch 15, Iteration 35736 in 2.75 seconds. Samples per second 13008.96\n",
      "Epoch 16, Iteration 35736 in 2.62 seconds. Samples per second 13665.57\n",
      "Epoch 17, Iteration 35736 in 2.48 seconds. Samples per second 14393.64\n",
      "Epoch 18, Iteration 35736 in 2.73 seconds. Samples per second 13077.76\n",
      "Epoch 19, Iteration 35736 in 2.93 seconds. Samples per second 12216.63\n",
      "Epoch 20, Iteration 35736 in 2.96 seconds. Samples per second 12062.72\n",
      "Epoch 21, Iteration 35736 in 2.92 seconds. Samples per second 12237.24\n",
      "Epoch 22, Iteration 35736 in 2.65 seconds. Samples per second 13485.59\n",
      "Epoch 23, Iteration 35736 in 2.67 seconds. Samples per second 13390.38\n",
      "Epoch 24, Iteration 35736 in 2.67 seconds. Samples per second 13365.59\n",
      "Epoch 25, Iteration 35736 in 2.94 seconds. Samples per second 12157.89\n",
      "Train completed in 1.13 minutes\n",
      "EvaluatorHoldout: Processed 34728 (100.0%) in 18.54 sec. Users per second: 1873\n"
     ]
    },
    {
     "name": "stderr",
     "output_type": "stream",
     "text": [
      "[I 2024-12-18 00:08:57,208] Trial 3 finished with value: 0.017413831481298655 and parameters: {'topK': 317, 'lambda_i': 0.0045106723523952955, 'lambda_j': 9.641371814130687e-05, 'learning_rate': 0.11759836952718397}. Best is trial 0 with value: 0.01777028988090674.\n"
     ]
    },
    {
     "name": "stdout",
     "output_type": "stream",
     "text": [
      "Epoch 1, Iteration 35736 in 1.84 seconds. Samples per second 19372.03\n",
      "Epoch 2, Iteration 35736 in 2.42 seconds. Samples per second 14773.93\n",
      "Epoch 3, Iteration 35736 in 2.54 seconds. Samples per second 14086.99\n",
      "Epoch 4, Iteration 35736 in 2.65 seconds. Samples per second 13497.95\n",
      "Epoch 5, Iteration 35736 in 2.55 seconds. Samples per second 14029.36\n",
      "Epoch 6, Iteration 35736 in 2.48 seconds. Samples per second 14423.96\n",
      "Epoch 7, Iteration 35736 in 2.46 seconds. Samples per second 14537.31\n",
      "Epoch 8, Iteration 35736 in 2.80 seconds. Samples per second 12777.17\n",
      "Epoch 9, Iteration 35736 in 2.90 seconds. Samples per second 12319.81\n",
      "Epoch 10, Iteration 35736 in 2.91 seconds. Samples per second 12285.78\n",
      "Epoch 11, Iteration 35736 in 2.79 seconds. Samples per second 12816.85\n",
      "Epoch 12, Iteration 35736 in 2.60 seconds. Samples per second 13751.64\n",
      "Epoch 13, Iteration 35736 in 2.57 seconds. Samples per second 13923.07\n",
      "Epoch 14, Iteration 35736 in 2.53 seconds. Samples per second 14140.72\n",
      "Epoch 15, Iteration 35736 in 2.65 seconds. Samples per second 13481.70\n",
      "Epoch 16, Iteration 35736 in 2.91 seconds. Samples per second 12285.82\n",
      "Epoch 17, Iteration 35736 in 2.86 seconds. Samples per second 12479.31\n",
      "Epoch 18, Iteration 35736 in 2.89 seconds. Samples per second 12352.73\n",
      "Epoch 19, Iteration 35736 in 2.68 seconds. Samples per second 13345.41\n",
      "Epoch 20, Iteration 35736 in 2.57 seconds. Samples per second 13919.97\n",
      "Epoch 21, Iteration 35736 in 2.62 seconds. Samples per second 13644.46\n",
      "Epoch 22, Iteration 35736 in 2.65 seconds. Samples per second 13506.32\n",
      "Epoch 23, Iteration 35736 in 2.93 seconds. Samples per second 12193.49\n",
      "Epoch 24, Iteration 35736 in 2.89 seconds. Samples per second 12349.02\n",
      "Epoch 25, Iteration 35736 in 2.97 seconds. Samples per second 12030.19\n",
      "Train completed in 1.11 minutes\n",
      "EvaluatorHoldout: Processed 34728 (100.0%) in 17.67 sec. Users per second: 1965\n"
     ]
    },
    {
     "name": "stderr",
     "output_type": "stream",
     "text": [
      "[I 2024-12-18 00:10:40,754] Trial 4 finished with value: 0.01745686317796735 and parameters: {'topK': 289, 'lambda_i': 0.011163617717003324, 'lambda_j': 0.00023454871897007174, 'learning_rate': 0.3892114074946194}. Best is trial 0 with value: 0.01777028988090674.\n"
     ]
    },
    {
     "name": "stdout",
     "output_type": "stream",
     "text": [
      "Epoch 1, Iteration 35736 in 1.81 seconds. Samples per second 19766.90\n",
      "Epoch 2, Iteration 35736 in 2.19 seconds. Samples per second 16292.94\n",
      "Epoch 3, Iteration 35736 in 2.23 seconds. Samples per second 16042.37\n",
      "Epoch 4, Iteration 35736 in 2.36 seconds. Samples per second 15121.70\n",
      "Epoch 5, Iteration 35736 in 2.41 seconds. Samples per second 14817.51\n",
      "Epoch 6, Iteration 35736 in 2.67 seconds. Samples per second 13402.20\n",
      "Epoch 7, Iteration 35736 in 2.66 seconds. Samples per second 13437.51\n",
      "Epoch 8, Iteration 35736 in 2.76 seconds. Samples per second 12934.63\n",
      "Epoch 9, Iteration 35736 in 2.79 seconds. Samples per second 12820.06\n",
      "Epoch 10, Iteration 35736 in 2.71 seconds. Samples per second 13188.36\n",
      "Epoch 11, Iteration 35736 in 2.53 seconds. Samples per second 14151.49\n",
      "Epoch 12, Iteration 35736 in 2.48 seconds. Samples per second 14395.32\n",
      "Epoch 13, Iteration 35736 in 2.49 seconds. Samples per second 14342.46\n",
      "Epoch 14, Iteration 35736 in 2.83 seconds. Samples per second 12644.27\n",
      "Epoch 15, Iteration 35736 in 2.74 seconds. Samples per second 13060.81\n",
      "Epoch 16, Iteration 35736 in 2.81 seconds. Samples per second 12701.49\n",
      "Epoch 17, Iteration 35736 in 2.67 seconds. Samples per second 13379.72\n",
      "Epoch 18, Iteration 35736 in 2.46 seconds. Samples per second 14525.97\n",
      "Epoch 19, Iteration 35736 in 2.44 seconds. Samples per second 14645.30\n",
      "Epoch 20, Iteration 35736 in 2.46 seconds. Samples per second 14554.76\n",
      "Epoch 21, Iteration 35736 in 2.72 seconds. Samples per second 13146.77\n",
      "Epoch 22, Iteration 35736 in 2.81 seconds. Samples per second 12735.86\n",
      "Epoch 23, Iteration 35736 in 2.85 seconds. Samples per second 12558.40\n",
      "Epoch 24, Iteration 35736 in 2.80 seconds. Samples per second 12760.77\n",
      "Epoch 25, Iteration 35736 in 2.56 seconds. Samples per second 13936.88\n",
      "Train completed in 1.07 minutes\n",
      "EvaluatorHoldout: Processed 34728 (100.0%) in 17.61 sec. Users per second: 1972\n"
     ]
    },
    {
     "name": "stderr",
     "output_type": "stream",
     "text": [
      "[I 2024-12-18 00:12:21,285] Trial 5 finished with value: 0.01754416065166769 and parameters: {'topK': 280, 'lambda_i': 0.010170039106917711, 'lambda_j': 0.0006726453054362039, 'learning_rate': 0.3590080643784929}. Best is trial 0 with value: 0.01777028988090674.\n"
     ]
    },
    {
     "name": "stdout",
     "output_type": "stream",
     "text": [
      "Epoch 1, Iteration 35736 in 1.68 seconds. Samples per second 21274.82\n",
      "Epoch 2, Iteration 35736 in 2.14 seconds. Samples per second 16705.82\n",
      "Epoch 3, Iteration 35736 in 2.74 seconds. Samples per second 13036.95\n",
      "Epoch 4, Iteration 35736 in 2.50 seconds. Samples per second 14284.99\n",
      "Epoch 5, Iteration 35736 in 2.80 seconds. Samples per second 12780.91\n",
      "Epoch 6, Iteration 35736 in 2.66 seconds. Samples per second 13409.66\n",
      "Epoch 7, Iteration 35736 in 2.68 seconds. Samples per second 13318.17\n",
      "Epoch 8, Iteration 35736 in 2.63 seconds. Samples per second 13582.66\n",
      "Epoch 9, Iteration 35736 in 2.49 seconds. Samples per second 14349.38\n",
      "Epoch 10, Iteration 35736 in 2.47 seconds. Samples per second 14481.85\n",
      "Epoch 11, Iteration 35736 in 2.45 seconds. Samples per second 14561.56\n",
      "Epoch 12, Iteration 35736 in 2.60 seconds. Samples per second 13730.36\n",
      "Epoch 13, Iteration 35736 in 2.81 seconds. Samples per second 12706.40\n",
      "Epoch 14, Iteration 35736 in 2.73 seconds. Samples per second 13109.59\n",
      "Epoch 15, Iteration 35736 in 2.81 seconds. Samples per second 12704.69\n",
      "Epoch 16, Iteration 35736 in 2.56 seconds. Samples per second 13940.07\n",
      "Epoch 17, Iteration 35736 in 2.45 seconds. Samples per second 14591.79\n",
      "Epoch 18, Iteration 35736 in 2.62 seconds. Samples per second 13626.98\n",
      "Epoch 19, Iteration 35736 in 2.49 seconds. Samples per second 14352.72\n",
      "Epoch 20, Iteration 35736 in 2.74 seconds. Samples per second 13053.02\n",
      "Epoch 21, Iteration 35736 in 2.70 seconds. Samples per second 13213.52\n",
      "Epoch 22, Iteration 35736 in 2.75 seconds. Samples per second 13001.62\n",
      "Epoch 23, Iteration 35736 in 2.72 seconds. Samples per second 13150.49\n",
      "Epoch 24, Iteration 35736 in 2.53 seconds. Samples per second 14098.38\n",
      "Epoch 25, Iteration 35736 in 2.48 seconds. Samples per second 14394.50\n",
      "Train completed in 1.07 minutes\n",
      "EvaluatorHoldout: Processed 34728 (100.0%) in 18.86 sec. Users per second: 1841\n"
     ]
    },
    {
     "name": "stderr",
     "output_type": "stream",
     "text": [
      "[I 2024-12-18 00:14:04,327] Trial 6 finished with value: 0.016958623799285588 and parameters: {'topK': 338, 'lambda_i': 0.0030793163157000966, 'lambda_j': 0.0009025129243059085, 'learning_rate': 0.6259413923735263}. Best is trial 0 with value: 0.01777028988090674.\n"
     ]
    },
    {
     "name": "stdout",
     "output_type": "stream",
     "text": [
      "Epoch 1, Iteration 35736 in 1.59 seconds. Samples per second 22496.96\n",
      "Epoch 2, Iteration 35736 in 2.23 seconds. Samples per second 16048.64\n",
      "Epoch 3, Iteration 35736 in 2.34 seconds. Samples per second 15300.23\n",
      "Epoch 4, Iteration 35736 in 2.49 seconds. Samples per second 14331.74\n",
      "Epoch 5, Iteration 35736 in 2.51 seconds. Samples per second 14232.11\n",
      "Epoch 6, Iteration 35736 in 2.51 seconds. Samples per second 14263.47\n",
      "Epoch 7, Iteration 35736 in 2.45 seconds. Samples per second 14587.69\n",
      "Epoch 8, Iteration 35736 in 2.53 seconds. Samples per second 14117.95\n",
      "Epoch 9, Iteration 35736 in 2.48 seconds. Samples per second 14405.28\n",
      "Epoch 10, Iteration 35736 in 2.57 seconds. Samples per second 13885.64\n",
      "Epoch 11, Iteration 35736 in 2.63 seconds. Samples per second 13584.15\n",
      "Epoch 12, Iteration 35736 in 2.63 seconds. Samples per second 13567.65\n",
      "Epoch 13, Iteration 35736 in 2.75 seconds. Samples per second 13001.32\n",
      "Epoch 14, Iteration 35736 in 2.59 seconds. Samples per second 13779.58\n",
      "Epoch 15, Iteration 35736 in 2.50 seconds. Samples per second 14314.19\n",
      "Epoch 16, Iteration 35736 in 2.38 seconds. Samples per second 15000.38\n",
      "Epoch 17, Iteration 35736 in 2.41 seconds. Samples per second 14828.02\n",
      "Epoch 18, Iteration 35736 in 2.87 seconds. Samples per second 12462.84\n",
      "Epoch 19, Iteration 35736 in 2.67 seconds. Samples per second 13380.98\n",
      "Epoch 20, Iteration 35736 in 2.71 seconds. Samples per second 13195.08\n",
      "Epoch 21, Iteration 35736 in 2.64 seconds. Samples per second 13523.54\n",
      "Epoch 22, Iteration 35736 in 2.49 seconds. Samples per second 14324.73\n",
      "Epoch 23, Iteration 35736 in 2.88 seconds. Samples per second 12399.01\n",
      "Epoch 24, Iteration 35736 in 2.94 seconds. Samples per second 12142.06\n",
      "Epoch 25, Iteration 35736 in 3.07 seconds. Samples per second 11638.96\n",
      "Train completed in 1.06 minutes\n",
      "EvaluatorHoldout: Processed 34728 (100.0%) in 17.99 sec. Users per second: 1930\n"
     ]
    },
    {
     "name": "stderr",
     "output_type": "stream",
     "text": [
      "[I 2024-12-18 00:15:45,771] Trial 7 finished with value: 0.017164692366618866 and parameters: {'topK': 297, 'lambda_i': 0.01088111043878276, 'lambda_j': 0.001211566342286424, 'learning_rate': 0.46155697904910914}. Best is trial 0 with value: 0.01777028988090674.\n"
     ]
    },
    {
     "name": "stdout",
     "output_type": "stream",
     "text": [
      "Epoch 1, Iteration 35736 in 1.72 seconds. Samples per second 20762.05\n",
      "Epoch 2, Iteration 35736 in 2.25 seconds. Samples per second 15871.23\n",
      "Epoch 3, Iteration 35736 in 2.35 seconds. Samples per second 15233.62\n",
      "Epoch 4, Iteration 35736 in 2.40 seconds. Samples per second 14911.46\n",
      "Epoch 5, Iteration 35736 in 2.32 seconds. Samples per second 15423.17\n",
      "Epoch 6, Iteration 35736 in 2.26 seconds. Samples per second 15836.06\n",
      "Epoch 7, Iteration 35736 in 2.17 seconds. Samples per second 16458.33\n",
      "Epoch 8, Iteration 35736 in 2.29 seconds. Samples per second 15632.55\n",
      "Epoch 9, Iteration 35736 in 2.59 seconds. Samples per second 13798.54\n",
      "Epoch 10, Iteration 35736 in 2.60 seconds. Samples per second 13770.11\n",
      "Epoch 11, Iteration 35736 in 2.55 seconds. Samples per second 13988.85\n",
      "Epoch 12, Iteration 35736 in 2.60 seconds. Samples per second 13720.50\n",
      "Epoch 13, Iteration 35736 in 2.37 seconds. Samples per second 15047.53\n",
      "Epoch 14, Iteration 35736 in 2.40 seconds. Samples per second 14914.54\n",
      "Epoch 15, Iteration 35736 in 2.41 seconds. Samples per second 14811.29\n",
      "Epoch 16, Iteration 35736 in 2.61 seconds. Samples per second 13696.38\n",
      "Epoch 17, Iteration 35736 in 2.61 seconds. Samples per second 13690.67\n",
      "Epoch 18, Iteration 35736 in 2.70 seconds. Samples per second 13229.00\n",
      "Epoch 19, Iteration 35736 in 2.58 seconds. Samples per second 13869.96\n",
      "Epoch 20, Iteration 35736 in 2.68 seconds. Samples per second 13344.99\n",
      "Epoch 21, Iteration 35736 in 2.43 seconds. Samples per second 14706.18\n",
      "Epoch 22, Iteration 35736 in 2.37 seconds. Samples per second 15091.66\n",
      "Epoch 23, Iteration 35736 in 2.34 seconds. Samples per second 15257.45\n",
      "Epoch 24, Iteration 35736 in 2.40 seconds. Samples per second 14901.13\n",
      "Epoch 25, Iteration 35736 in 2.67 seconds. Samples per second 13409.30\n",
      "Train completed in 1.01 minutes\n",
      "EvaluatorHoldout: Processed 34728 (100.0%) in 18.77 sec. Users per second: 1851\n"
     ]
    },
    {
     "name": "stderr",
     "output_type": "stream",
     "text": [
      "[I 2024-12-18 00:17:25,209] Trial 8 finished with value: 0.017477649433420065 and parameters: {'topK': 330, 'lambda_i': 0.011923512928216817, 'lambda_j': 0.0008809516470935043, 'learning_rate': 0.2166450001901555}. Best is trial 0 with value: 0.01777028988090674.\n"
     ]
    },
    {
     "name": "stdout",
     "output_type": "stream",
     "text": [
      "Epoch 1, Iteration 35736 in 1.79 seconds. Samples per second 19946.66\n",
      "Epoch 2, Iteration 35736 in 2.26 seconds. Samples per second 15783.52\n",
      "Epoch 3, Iteration 35736 in 2.25 seconds. Samples per second 15912.85\n",
      "Epoch 4, Iteration 35736 in 2.30 seconds. Samples per second 15521.66\n",
      "Epoch 5, Iteration 35736 in 2.23 seconds. Samples per second 16023.84\n",
      "Epoch 6, Iteration 35736 in 2.23 seconds. Samples per second 16058.13\n",
      "Epoch 7, Iteration 35736 in 2.25 seconds. Samples per second 15855.73\n",
      "Epoch 8, Iteration 35736 in 2.47 seconds. Samples per second 14480.73\n",
      "Epoch 9, Iteration 35736 in 2.51 seconds. Samples per second 14263.22\n",
      "Epoch 10, Iteration 35736 in 2.52 seconds. Samples per second 14167.94\n",
      "Epoch 11, Iteration 35736 in 2.55 seconds. Samples per second 14040.62\n",
      "Epoch 12, Iteration 35736 in 2.46 seconds. Samples per second 14537.87\n",
      "Epoch 13, Iteration 35736 in 2.36 seconds. Samples per second 15132.92\n",
      "Epoch 14, Iteration 35736 in 2.37 seconds. Samples per second 15075.68\n",
      "Epoch 15, Iteration 35736 in 2.30 seconds. Samples per second 15525.28\n",
      "Epoch 16, Iteration 35736 in 2.50 seconds. Samples per second 14289.08\n",
      "Epoch 17, Iteration 35736 in 2.62 seconds. Samples per second 13652.67\n",
      "Epoch 18, Iteration 35736 in 2.55 seconds. Samples per second 14005.99\n",
      "Epoch 19, Iteration 35736 in 2.56 seconds. Samples per second 13952.70\n",
      "Epoch 20, Iteration 35736 in 2.47 seconds. Samples per second 14451.54\n",
      "Epoch 21, Iteration 35736 in 2.38 seconds. Samples per second 15040.82\n",
      "Epoch 22, Iteration 35736 in 2.29 seconds. Samples per second 15623.29\n",
      "Epoch 23, Iteration 35736 in 2.32 seconds. Samples per second 15407.63\n",
      "Epoch 24, Iteration 35736 in 2.58 seconds. Samples per second 13838.28\n",
      "Epoch 25, Iteration 35736 in 2.64 seconds. Samples per second 13542.21\n",
      "Train completed in 1.00 minutes\n",
      "EvaluatorHoldout: Processed 34728 (100.0%) in 17.39 sec. Users per second: 1996\n"
     ]
    },
    {
     "name": "stderr",
     "output_type": "stream",
     "text": [
      "[I 2024-12-18 00:19:00,875] Trial 9 finished with value: 0.01783294916868689 and parameters: {'topK': 272, 'lambda_i': 0.01028152632536698, 'lambda_j': 9.944986363595256e-05, 'learning_rate': 0.2577649267798507}. Best is trial 9 with value: 0.01783294916868689.\n"
     ]
    },
    {
     "name": "stdout",
     "output_type": "stream",
     "text": [
      "Epoch 1, Iteration 35736 in 1.69 seconds. Samples per second 21199.62\n",
      "Epoch 2, Iteration 35736 in 2.23 seconds. Samples per second 15999.23\n",
      "Epoch 3, Iteration 35736 in 2.54 seconds. Samples per second 14055.43\n",
      "Epoch 4, Iteration 35736 in 2.40 seconds. Samples per second 14899.15\n",
      "Epoch 5, Iteration 35736 in 2.31 seconds. Samples per second 15498.58\n",
      "Epoch 6, Iteration 35736 in 2.25 seconds. Samples per second 15847.51\n",
      "Epoch 7, Iteration 35736 in 2.25 seconds. Samples per second 15890.37\n",
      "Epoch 8, Iteration 35736 in 2.40 seconds. Samples per second 14876.27\n",
      "Epoch 9, Iteration 35736 in 2.68 seconds. Samples per second 13328.42\n",
      "Epoch 10, Iteration 35736 in 2.56 seconds. Samples per second 13943.68\n",
      "Epoch 11, Iteration 35736 in 2.54 seconds. Samples per second 14062.25\n",
      "Epoch 12, Iteration 35736 in 2.49 seconds. Samples per second 14362.25\n",
      "Epoch 13, Iteration 35736 in 2.29 seconds. Samples per second 15613.61\n",
      "Epoch 14, Iteration 35736 in 2.28 seconds. Samples per second 15674.27\n",
      "Epoch 15, Iteration 35736 in 2.28 seconds. Samples per second 15643.82\n",
      "Epoch 16, Iteration 35736 in 2.35 seconds. Samples per second 15184.16\n",
      "Epoch 17, Iteration 35736 in 2.63 seconds. Samples per second 13600.50\n",
      "Epoch 18, Iteration 35736 in 2.60 seconds. Samples per second 13753.89\n",
      "Epoch 19, Iteration 35736 in 2.57 seconds. Samples per second 13897.71\n",
      "Epoch 20, Iteration 35736 in 2.56 seconds. Samples per second 13981.99\n",
      "Epoch 21, Iteration 35736 in 2.42 seconds. Samples per second 14776.66\n",
      "Epoch 22, Iteration 35736 in 2.37 seconds. Samples per second 15093.98\n",
      "Epoch 23, Iteration 35736 in 2.33 seconds. Samples per second 15364.21\n",
      "Epoch 24, Iteration 35736 in 2.34 seconds. Samples per second 15266.09\n",
      "Epoch 25, Iteration 35736 in 2.64 seconds. Samples per second 13550.72\n",
      "Train completed in 1.00 minutes\n",
      "EvaluatorHoldout: Processed 34728 (100.0%) in 16.87 sec. Users per second: 2058\n"
     ]
    },
    {
     "name": "stderr",
     "output_type": "stream",
     "text": [
      "[I 2024-12-18 00:20:36,046] Trial 10 finished with value: 0.017870901710526833 and parameters: {'topK': 253, 'lambda_i': 0.007534082926633805, 'lambda_j': 0.0003882324183794378, 'learning_rate': 0.27411575225147167}. Best is trial 10 with value: 0.017870901710526833.\n"
     ]
    },
    {
     "name": "stdout",
     "output_type": "stream",
     "text": [
      "Epoch 1, Iteration 35736 in 1.69 seconds. Samples per second 21146.21\n",
      "Epoch 2, Iteration 35736 in 2.24 seconds. Samples per second 15979.24\n",
      "Epoch 3, Iteration 35736 in 2.27 seconds. Samples per second 15772.78\n",
      "Epoch 4, Iteration 35736 in 2.39 seconds. Samples per second 14935.29\n",
      "Epoch 5, Iteration 35736 in 2.32 seconds. Samples per second 15416.45\n",
      "Epoch 6, Iteration 35736 in 2.25 seconds. Samples per second 15877.95\n",
      "Epoch 7, Iteration 35736 in 2.24 seconds. Samples per second 15946.22\n",
      "Epoch 8, Iteration 35736 in 2.32 seconds. Samples per second 15406.04\n",
      "Epoch 9, Iteration 35736 in 2.65 seconds. Samples per second 13472.34\n",
      "Epoch 10, Iteration 35736 in 2.83 seconds. Samples per second 12641.67\n",
      "Epoch 11, Iteration 35736 in 2.75 seconds. Samples per second 13002.83\n",
      "Epoch 12, Iteration 35736 in 2.77 seconds. Samples per second 12906.02\n",
      "Epoch 13, Iteration 35736 in 2.75 seconds. Samples per second 12992.23\n",
      "Epoch 14, Iteration 35736 in 2.58 seconds. Samples per second 13832.57\n",
      "Epoch 15, Iteration 35736 in 2.47 seconds. Samples per second 14453.17\n",
      "Epoch 16, Iteration 35736 in 2.64 seconds. Samples per second 13558.95\n",
      "Epoch 17, Iteration 35736 in 2.77 seconds. Samples per second 12881.77\n",
      "Epoch 18, Iteration 35736 in 2.70 seconds. Samples per second 13258.26\n",
      "Epoch 19, Iteration 35736 in 2.85 seconds. Samples per second 12522.62\n",
      "Epoch 20, Iteration 35736 in 2.51 seconds. Samples per second 14233.46\n",
      "Epoch 21, Iteration 35736 in 2.42 seconds. Samples per second 14751.33\n",
      "Epoch 22, Iteration 35736 in 2.37 seconds. Samples per second 15055.76\n",
      "Epoch 23, Iteration 35736 in 2.38 seconds. Samples per second 15001.11\n",
      "Epoch 24, Iteration 35736 in 2.69 seconds. Samples per second 13309.02\n",
      "Epoch 25, Iteration 35736 in 2.72 seconds. Samples per second 13139.42\n",
      "Train completed in 1.04 minutes\n",
      "EvaluatorHoldout: Processed 34728 (100.0%) in 16.88 sec. Users per second: 2057\n"
     ]
    },
    {
     "name": "stderr",
     "output_type": "stream",
     "text": [
      "[I 2024-12-18 00:22:13,479] Trial 11 finished with value: 0.017946900492900864 and parameters: {'topK': 251, 'lambda_i': 0.007479435466149543, 'lambda_j': 0.00041688717942844585, 'learning_rate': 0.2659933080850479}. Best is trial 11 with value: 0.017946900492900864.\n"
     ]
    },
    {
     "name": "stdout",
     "output_type": "stream",
     "text": [
      "Epoch 1, Iteration 35736 in 1.67 seconds. Samples per second 21449.02\n",
      "Epoch 2, Iteration 35736 in 2.20 seconds. Samples per second 16270.59\n",
      "Epoch 3, Iteration 35736 in 2.31 seconds. Samples per second 15467.06\n",
      "Epoch 4, Iteration 35736 in 2.39 seconds. Samples per second 14933.29\n",
      "Epoch 5, Iteration 35736 in 2.34 seconds. Samples per second 15255.15\n",
      "Epoch 6, Iteration 35736 in 2.28 seconds. Samples per second 15692.23\n",
      "Epoch 7, Iteration 35736 in 2.32 seconds. Samples per second 15397.96\n",
      "Epoch 8, Iteration 35736 in 2.46 seconds. Samples per second 14510.38\n",
      "Epoch 9, Iteration 35736 in 2.65 seconds. Samples per second 13499.40\n",
      "Epoch 10, Iteration 35736 in 2.61 seconds. Samples per second 13673.91\n",
      "Epoch 11, Iteration 35736 in 2.59 seconds. Samples per second 13817.18\n",
      "Epoch 12, Iteration 35736 in 2.50 seconds. Samples per second 14309.82\n",
      "Epoch 13, Iteration 35736 in 2.39 seconds. Samples per second 14975.45\n",
      "Epoch 14, Iteration 35736 in 2.39 seconds. Samples per second 14944.77\n",
      "Epoch 15, Iteration 35736 in 2.37 seconds. Samples per second 15101.83\n",
      "Epoch 16, Iteration 35736 in 2.61 seconds. Samples per second 13710.11\n",
      "Epoch 17, Iteration 35736 in 2.68 seconds. Samples per second 13323.87\n",
      "Epoch 18, Iteration 35736 in 2.67 seconds. Samples per second 13403.82\n",
      "Epoch 19, Iteration 35736 in 2.79 seconds. Samples per second 12804.59\n",
      "Epoch 20, Iteration 35736 in 2.58 seconds. Samples per second 13848.81\n",
      "Epoch 21, Iteration 35736 in 2.53 seconds. Samples per second 14105.45\n",
      "Epoch 22, Iteration 35736 in 2.74 seconds. Samples per second 13022.35\n",
      "Epoch 23, Iteration 35736 in 2.62 seconds. Samples per second 13621.20\n",
      "Epoch 24, Iteration 35736 in 2.77 seconds. Samples per second 12885.06\n",
      "Epoch 25, Iteration 35736 in 2.70 seconds. Samples per second 13232.39\n",
      "Train completed in 1.04 minutes\n",
      "EvaluatorHoldout: Processed 34728 (100.0%) in 17.09 sec. Users per second: 2032\n"
     ]
    },
    {
     "name": "stderr",
     "output_type": "stream",
     "text": [
      "[I 2024-12-18 00:23:50,477] Trial 12 finished with value: 0.017683829982119665 and parameters: {'topK': 251, 'lambda_i': 0.0070846884649968305, 'lambda_j': 0.00042423136794699336, 'learning_rate': 0.0714390047653117}. Best is trial 11 with value: 0.017946900492900864.\n"
     ]
    },
    {
     "name": "stdout",
     "output_type": "stream",
     "text": [
      "Epoch 1, Iteration 35736 in 1.67 seconds. Samples per second 21336.01\n",
      "Epoch 2, Iteration 35736 in 2.22 seconds. Samples per second 16088.52\n",
      "Epoch 3, Iteration 35736 in 2.26 seconds. Samples per second 15823.94\n",
      "Epoch 4, Iteration 35736 in 2.35 seconds. Samples per second 15186.14\n",
      "Epoch 5, Iteration 35736 in 2.30 seconds. Samples per second 15550.71\n",
      "Epoch 6, Iteration 35736 in 2.32 seconds. Samples per second 15411.95\n",
      "Epoch 7, Iteration 35736 in 2.33 seconds. Samples per second 15321.31\n",
      "Epoch 8, Iteration 35736 in 2.56 seconds. Samples per second 13943.73\n",
      "Epoch 9, Iteration 35736 in 2.58 seconds. Samples per second 13866.22\n",
      "Epoch 10, Iteration 35736 in 2.62 seconds. Samples per second 13640.18\n",
      "Epoch 11, Iteration 35736 in 2.61 seconds. Samples per second 13695.90\n",
      "Epoch 12, Iteration 35736 in 2.51 seconds. Samples per second 14209.99\n",
      "Epoch 13, Iteration 35736 in 2.44 seconds. Samples per second 14651.15\n",
      "Epoch 14, Iteration 35736 in 2.44 seconds. Samples per second 14632.01\n",
      "Epoch 15, Iteration 35736 in 2.45 seconds. Samples per second 14572.42\n",
      "Epoch 16, Iteration 35736 in 2.62 seconds. Samples per second 13621.02\n",
      "Epoch 17, Iteration 35736 in 2.61 seconds. Samples per second 13717.89\n",
      "Epoch 18, Iteration 35736 in 2.67 seconds. Samples per second 13408.39\n",
      "Epoch 19, Iteration 35736 in 2.85 seconds. Samples per second 12557.82\n",
      "Epoch 20, Iteration 35736 in 2.54 seconds. Samples per second 14070.23\n",
      "Epoch 21, Iteration 35736 in 2.42 seconds. Samples per second 14753.35\n",
      "Epoch 22, Iteration 35736 in 2.39 seconds. Samples per second 14927.78\n",
      "Epoch 23, Iteration 35736 in 2.42 seconds. Samples per second 14779.69\n",
      "Epoch 24, Iteration 35736 in 2.71 seconds. Samples per second 13182.85\n",
      "Epoch 25, Iteration 35736 in 2.75 seconds. Samples per second 13015.59\n",
      "Train completed in 1.03 minutes\n",
      "EvaluatorHoldout: Processed 34728 (100.0%) in 16.89 sec. Users per second: 2056\n"
     ]
    },
    {
     "name": "stderr",
     "output_type": "stream",
     "text": [
      "[I 2024-12-18 00:25:27,055] Trial 13 finished with value: 0.017838685357042337 and parameters: {'topK': 251, 'lambda_i': 0.007862898122774511, 'lambda_j': 0.0004117136988662996, 'learning_rate': 0.29769025492025203}. Best is trial 11 with value: 0.017946900492900864.\n"
     ]
    },
    {
     "name": "stdout",
     "output_type": "stream",
     "text": [
      "Epoch 1, Iteration 35736 in 1.77 seconds. Samples per second 20216.90\n",
      "Epoch 2, Iteration 35736 in 2.25 seconds. Samples per second 15891.91\n",
      "Epoch 3, Iteration 35736 in 2.35 seconds. Samples per second 15214.39\n",
      "Epoch 4, Iteration 35736 in 2.34 seconds. Samples per second 15288.90\n",
      "Epoch 5, Iteration 35736 in 2.34 seconds. Samples per second 15291.68\n",
      "Epoch 6, Iteration 35736 in 2.66 seconds. Samples per second 13426.38\n",
      "Epoch 7, Iteration 35736 in 2.40 seconds. Samples per second 14918.81\n",
      "Epoch 8, Iteration 35736 in 2.52 seconds. Samples per second 14190.24\n",
      "Epoch 9, Iteration 35736 in 2.63 seconds. Samples per second 13593.59\n",
      "Epoch 10, Iteration 35736 in 2.60 seconds. Samples per second 13768.45\n",
      "Epoch 11, Iteration 35736 in 2.63 seconds. Samples per second 13571.89\n",
      "Epoch 12, Iteration 35736 in 2.46 seconds. Samples per second 14513.70\n",
      "Epoch 13, Iteration 35736 in 2.37 seconds. Samples per second 15080.22\n",
      "Epoch 14, Iteration 35736 in 2.28 seconds. Samples per second 15696.75\n",
      "Epoch 15, Iteration 35736 in 2.36 seconds. Samples per second 15162.97\n",
      "Epoch 16, Iteration 35736 in 2.59 seconds. Samples per second 13802.69\n",
      "Epoch 17, Iteration 35736 in 2.57 seconds. Samples per second 13879.40\n",
      "Epoch 18, Iteration 35736 in 2.61 seconds. Samples per second 13669.03\n",
      "Epoch 19, Iteration 35736 in 2.61 seconds. Samples per second 13713.96\n",
      "Epoch 20, Iteration 35736 in 2.41 seconds. Samples per second 14828.13\n",
      "Epoch 21, Iteration 35736 in 2.35 seconds. Samples per second 15197.59\n",
      "Epoch 22, Iteration 35736 in 2.34 seconds. Samples per second 15276.11\n",
      "Epoch 23, Iteration 35736 in 2.42 seconds. Samples per second 14758.31\n",
      "Epoch 24, Iteration 35736 in 2.66 seconds. Samples per second 13448.22\n",
      "Epoch 25, Iteration 35736 in 2.67 seconds. Samples per second 13401.46\n",
      "Train completed in 1.02 minutes\n",
      "EvaluatorHoldout: Processed 34728 (100.0%) in 17.41 sec. Users per second: 1995\n"
     ]
    },
    {
     "name": "stderr",
     "output_type": "stream",
     "text": [
      "[I 2024-12-18 00:27:04,006] Trial 14 finished with value: 0.017819573108749074 and parameters: {'topK': 268, 'lambda_i': 0.005022756836524129, 'lambda_j': 0.00044043028057293, 'learning_rate': 0.15772741580136332}. Best is trial 11 with value: 0.017946900492900864.\n"
     ]
    },
    {
     "name": "stdout",
     "output_type": "stream",
     "text": [
      "Epoch 1, Iteration 35736 in 1.66 seconds. Samples per second 21562.46\n",
      "Epoch 2, Iteration 35736 in 2.47 seconds. Samples per second 14448.09\n",
      "Epoch 3, Iteration 35736 in 2.33 seconds. Samples per second 15366.69\n",
      "Epoch 4, Iteration 35736 in 2.26 seconds. Samples per second 15827.16\n",
      "Epoch 5, Iteration 35736 in 2.26 seconds. Samples per second 15781.28\n",
      "Epoch 6, Iteration 35736 in 2.28 seconds. Samples per second 15683.75\n",
      "Epoch 7, Iteration 35736 in 2.35 seconds. Samples per second 15234.07\n",
      "Epoch 8, Iteration 35736 in 2.66 seconds. Samples per second 13425.71\n",
      "Epoch 9, Iteration 35736 in 2.55 seconds. Samples per second 13997.86\n",
      "Epoch 10, Iteration 35736 in 2.61 seconds. Samples per second 13707.85\n",
      "Epoch 11, Iteration 35736 in 2.50 seconds. Samples per second 14296.43\n",
      "Epoch 12, Iteration 35736 in 2.37 seconds. Samples per second 15105.24\n",
      "Epoch 13, Iteration 35736 in 2.37 seconds. Samples per second 15089.70\n",
      "Epoch 14, Iteration 35736 in 2.28 seconds. Samples per second 15654.48\n",
      "Epoch 15, Iteration 35736 in 2.41 seconds. Samples per second 14807.33\n",
      "Epoch 16, Iteration 35736 in 2.60 seconds. Samples per second 13755.96\n",
      "Epoch 17, Iteration 35736 in 2.63 seconds. Samples per second 13605.56\n",
      "Epoch 18, Iteration 35736 in 2.60 seconds. Samples per second 13729.79\n",
      "Epoch 19, Iteration 35736 in 2.56 seconds. Samples per second 13967.90\n",
      "Epoch 20, Iteration 35736 in 2.44 seconds. Samples per second 14654.38\n",
      "Epoch 21, Iteration 35736 in 2.43 seconds. Samples per second 14689.97\n",
      "Epoch 22, Iteration 35736 in 2.39 seconds. Samples per second 14926.55\n",
      "Epoch 23, Iteration 35736 in 2.48 seconds. Samples per second 14438.54\n",
      "Epoch 24, Iteration 35736 in 2.67 seconds. Samples per second 13407.39\n",
      "Epoch 25, Iteration 35736 in 2.69 seconds. Samples per second 13268.05\n",
      "Train completed in 1.01 minutes\n",
      "EvaluatorHoldout: Processed 34728 (100.0%) in 17.51 sec. Users per second: 1983\n"
     ]
    },
    {
     "name": "stderr",
     "output_type": "stream",
     "text": [
      "[I 2024-12-18 00:28:41,378] Trial 15 finished with value: 0.017587228913680267 and parameters: {'topK': 282, 'lambda_i': 0.008430570943468876, 'lambda_j': 0.0006039935688153627, 'learning_rate': 0.31489801267120743}. Best is trial 11 with value: 0.017946900492900864.\n"
     ]
    },
    {
     "name": "stdout",
     "output_type": "stream",
     "text": [
      "Epoch 1, Iteration 35736 in 1.64 seconds. Samples per second 21789.74\n",
      "Epoch 2, Iteration 35736 in 2.18 seconds. Samples per second 16392.90\n",
      "Epoch 3, Iteration 35736 in 2.17 seconds. Samples per second 16452.95\n",
      "Epoch 4, Iteration 35736 in 2.24 seconds. Samples per second 15945.86\n",
      "Epoch 5, Iteration 35736 in 2.31 seconds. Samples per second 15480.97\n",
      "Epoch 6, Iteration 35736 in 2.35 seconds. Samples per second 15232.60\n",
      "Epoch 7, Iteration 35736 in 2.58 seconds. Samples per second 13853.41\n",
      "Epoch 8, Iteration 35736 in 2.64 seconds. Samples per second 13533.97\n",
      "Epoch 9, Iteration 35736 in 2.60 seconds. Samples per second 13731.11\n",
      "Epoch 10, Iteration 35736 in 2.66 seconds. Samples per second 13430.36\n",
      "Epoch 11, Iteration 35736 in 2.62 seconds. Samples per second 13638.81\n",
      "Epoch 12, Iteration 35736 in 2.54 seconds. Samples per second 14086.89\n",
      "Epoch 13, Iteration 35736 in 2.44 seconds. Samples per second 14672.85\n",
      "Epoch 14, Iteration 35736 in 2.41 seconds. Samples per second 14814.27\n",
      "Epoch 15, Iteration 35736 in 2.62 seconds. Samples per second 13618.12\n",
      "Epoch 16, Iteration 35736 in 2.62 seconds. Samples per second 13654.81\n",
      "Epoch 17, Iteration 35736 in 2.70 seconds. Samples per second 13226.83\n",
      "Epoch 18, Iteration 35736 in 2.58 seconds. Samples per second 13836.15\n",
      "Epoch 19, Iteration 35736 in 2.34 seconds. Samples per second 15285.25\n",
      "Epoch 20, Iteration 35736 in 2.36 seconds. Samples per second 15161.69\n",
      "Epoch 21, Iteration 35736 in 2.34 seconds. Samples per second 15303.59\n",
      "Epoch 22, Iteration 35736 in 2.43 seconds. Samples per second 14736.35\n",
      "Epoch 23, Iteration 35736 in 2.67 seconds. Samples per second 13379.79\n",
      "Epoch 24, Iteration 35736 in 2.64 seconds. Samples per second 13523.83\n",
      "Epoch 25, Iteration 35736 in 2.64 seconds. Samples per second 13517.96\n",
      "Train completed in 1.02 minutes\n",
      "EvaluatorHoldout: Processed 34728 (100.0%) in 17.03 sec. Users per second: 2040\n"
     ]
    },
    {
     "name": "stderr",
     "output_type": "stream",
     "text": [
      "[I 2024-12-18 00:30:17,980] Trial 16 finished with value: 0.01741134160989913 and parameters: {'topK': 261, 'lambda_i': 0.005683381186058541, 'lambda_j': 0.0003412304978983614, 'learning_rate': 0.5606640004219317}. Best is trial 11 with value: 0.017946900492900864.\n"
     ]
    },
    {
     "name": "stdout",
     "output_type": "stream",
     "text": [
      "Epoch 1, Iteration 35736 in 1.61 seconds. Samples per second 22233.91\n",
      "Epoch 2, Iteration 35736 in 2.24 seconds. Samples per second 15945.04\n",
      "Epoch 3, Iteration 35736 in 2.16 seconds. Samples per second 16544.54\n",
      "Epoch 4, Iteration 35736 in 2.19 seconds. Samples per second 16339.16\n",
      "Epoch 5, Iteration 35736 in 2.23 seconds. Samples per second 16038.56\n",
      "Epoch 6, Iteration 35736 in 2.24 seconds. Samples per second 15933.80\n",
      "Epoch 7, Iteration 35736 in 2.51 seconds. Samples per second 14247.91\n",
      "Epoch 8, Iteration 35736 in 2.64 seconds. Samples per second 13544.51\n",
      "Epoch 9, Iteration 35736 in 2.64 seconds. Samples per second 13537.66\n",
      "Epoch 10, Iteration 35736 in 2.56 seconds. Samples per second 13977.62\n",
      "Epoch 11, Iteration 35736 in 2.39 seconds. Samples per second 14970.52\n",
      "Epoch 12, Iteration 35736 in 2.36 seconds. Samples per second 15161.82\n",
      "Epoch 13, Iteration 35736 in 2.27 seconds. Samples per second 15768.29\n",
      "Epoch 14, Iteration 35736 in 2.28 seconds. Samples per second 15707.55\n",
      "Epoch 15, Iteration 35736 in 2.62 seconds. Samples per second 13635.98\n",
      "Epoch 16, Iteration 35736 in 2.53 seconds. Samples per second 14108.25\n",
      "Epoch 17, Iteration 35736 in 2.58 seconds. Samples per second 13837.64\n",
      "Epoch 18, Iteration 35736 in 2.56 seconds. Samples per second 13962.74\n",
      "Epoch 19, Iteration 35736 in 2.33 seconds. Samples per second 15340.58\n",
      "Epoch 20, Iteration 35736 in 2.34 seconds. Samples per second 15282.69\n",
      "Epoch 21, Iteration 35736 in 2.52 seconds. Samples per second 14206.75\n",
      "Epoch 22, Iteration 35736 in 2.45 seconds. Samples per second 14591.73\n",
      "Epoch 23, Iteration 35736 in 2.68 seconds. Samples per second 13333.46\n",
      "Epoch 24, Iteration 35736 in 2.56 seconds. Samples per second 13945.03\n",
      "Epoch 25, Iteration 35736 in 2.58 seconds. Samples per second 13850.31\n",
      "Train completed in 1.00 minutes\n",
      "EvaluatorHoldout: Processed 34728 (100.0%) in 18.03 sec. Users per second: 1926\n"
     ]
    },
    {
     "name": "stderr",
     "output_type": "stream",
     "text": [
      "[I 2024-12-18 00:31:54,961] Trial 17 finished with value: 0.017685256030539512 and parameters: {'topK': 305, 'lambda_i': 0.006617185324512106, 'lambda_j': 0.0005975384507275665, 'learning_rate': 0.25818240925657654}. Best is trial 11 with value: 0.017946900492900864.\n"
     ]
    },
    {
     "name": "stdout",
     "output_type": "stream",
     "text": [
      "Epoch 1, Iteration 35736 in 1.60 seconds. Samples per second 22287.15\n",
      "Epoch 2, Iteration 35736 in 2.04 seconds. Samples per second 17538.97\n",
      "Epoch 3, Iteration 35736 in 2.09 seconds. Samples per second 17124.92\n",
      "Epoch 4, Iteration 35736 in 2.13 seconds. Samples per second 16782.77\n",
      "Epoch 5, Iteration 35736 in 2.26 seconds. Samples per second 15784.33\n",
      "Epoch 6, Iteration 35736 in 2.39 seconds. Samples per second 14955.14\n",
      "Epoch 7, Iteration 35736 in 2.55 seconds. Samples per second 14000.63\n",
      "Epoch 8, Iteration 35736 in 2.47 seconds. Samples per second 14468.54\n",
      "Epoch 9, Iteration 35736 in 2.49 seconds. Samples per second 14346.38\n",
      "Epoch 10, Iteration 35736 in 2.42 seconds. Samples per second 14787.60\n",
      "Epoch 11, Iteration 35736 in 2.28 seconds. Samples per second 15655.58\n",
      "Epoch 12, Iteration 35736 in 2.22 seconds. Samples per second 16125.56\n",
      "Epoch 13, Iteration 35736 in 2.29 seconds. Samples per second 15624.24\n",
      "Epoch 14, Iteration 35736 in 2.28 seconds. Samples per second 15648.57\n",
      "Epoch 15, Iteration 35736 in 2.54 seconds. Samples per second 14059.82\n",
      "Epoch 16, Iteration 35736 in 2.53 seconds. Samples per second 14110.37\n",
      "Epoch 17, Iteration 35736 in 2.52 seconds. Samples per second 14198.69\n",
      "Epoch 18, Iteration 35736 in 2.54 seconds. Samples per second 14053.62\n",
      "Epoch 19, Iteration 35736 in 2.36 seconds. Samples per second 15116.96\n",
      "Epoch 20, Iteration 35736 in 2.36 seconds. Samples per second 15164.38\n",
      "Epoch 21, Iteration 35736 in 2.32 seconds. Samples per second 15396.84\n",
      "Epoch 22, Iteration 35736 in 2.32 seconds. Samples per second 15420.58\n",
      "Epoch 23, Iteration 35736 in 2.61 seconds. Samples per second 13708.98\n",
      "Epoch 24, Iteration 35736 in 2.60 seconds. Samples per second 13750.53\n",
      "Epoch 25, Iteration 35736 in 2.68 seconds. Samples per second 13341.98\n",
      "Train completed in 0.98 minutes\n",
      "EvaluatorHoldout: Processed 34728 (100.0%) in 19.00 sec. Users per second: 1828\n"
     ]
    },
    {
     "name": "stderr",
     "output_type": "stream",
     "text": [
      "[I 2024-12-18 00:33:32,594] Trial 18 finished with value: 0.016548176669116725 and parameters: {'topK': 349, 'lambda_i': 0.008751453392269291, 'lambda_j': 0.00032744927770553506, 'learning_rate': 0.6909976085501164}. Best is trial 11 with value: 0.017946900492900864.\n"
     ]
    },
    {
     "name": "stdout",
     "output_type": "stream",
     "text": [
      "Epoch 1, Iteration 35736 in 1.62 seconds. Samples per second 22068.51\n",
      "Epoch 2, Iteration 35736 in 2.10 seconds. Samples per second 16986.51\n",
      "Epoch 3, Iteration 35736 in 2.13 seconds. Samples per second 16791.84\n",
      "Epoch 4, Iteration 35736 in 2.17 seconds. Samples per second 16448.43\n",
      "Epoch 5, Iteration 35736 in 2.32 seconds. Samples per second 15372.38\n",
      "Epoch 6, Iteration 35736 in 2.54 seconds. Samples per second 14068.85\n",
      "Epoch 7, Iteration 35736 in 2.54 seconds. Samples per second 14047.22\n",
      "Epoch 8, Iteration 35736 in 2.48 seconds. Samples per second 14437.32\n",
      "Epoch 9, Iteration 35736 in 2.52 seconds. Samples per second 14201.99\n",
      "Epoch 10, Iteration 35736 in 2.31 seconds. Samples per second 15472.28\n",
      "Epoch 11, Iteration 35736 in 2.26 seconds. Samples per second 15797.48\n",
      "Epoch 12, Iteration 35736 in 2.29 seconds. Samples per second 15635.41\n",
      "Epoch 13, Iteration 35736 in 2.41 seconds. Samples per second 14837.22\n",
      "Epoch 14, Iteration 35736 in 2.68 seconds. Samples per second 13344.48\n",
      "Epoch 15, Iteration 35736 in 2.65 seconds. Samples per second 13469.65\n",
      "Epoch 16, Iteration 35736 in 2.63 seconds. Samples per second 13567.69\n",
      "Epoch 17, Iteration 35736 in 2.55 seconds. Samples per second 14015.59\n",
      "Epoch 18, Iteration 35736 in 2.39 seconds. Samples per second 14973.25\n",
      "Epoch 19, Iteration 35736 in 2.35 seconds. Samples per second 15198.10\n",
      "Epoch 20, Iteration 35736 in 2.38 seconds. Samples per second 15017.71\n",
      "Epoch 21, Iteration 35736 in 2.52 seconds. Samples per second 14204.75\n",
      "Epoch 22, Iteration 35736 in 2.69 seconds. Samples per second 13299.67\n",
      "Epoch 23, Iteration 35736 in 2.58 seconds. Samples per second 13827.04\n",
      "Epoch 24, Iteration 35736 in 2.63 seconds. Samples per second 13608.04\n",
      "Epoch 25, Iteration 35736 in 2.50 seconds. Samples per second 14289.38\n",
      "Train completed in 1.00 minutes\n",
      "EvaluatorHoldout: Processed 34728 (100.0%) in 16.83 sec. Users per second: 2063\n"
     ]
    },
    {
     "name": "stderr",
     "output_type": "stream",
     "text": [
      "[I 2024-12-18 00:35:07,455] Trial 19 finished with value: 0.017922585681742605 and parameters: {'topK': 250, 'lambda_i': 0.003713353807850802, 'lambda_j': 0.0005192240447221357, 'learning_rate': 0.32433419406525077}. Best is trial 11 with value: 0.017946900492900864.\n"
     ]
    },
    {
     "name": "stdout",
     "output_type": "stream",
     "text": [
      "Epoch 1, Iteration 35736 in 1.77 seconds. Samples per second 20221.38\n",
      "Epoch 2, Iteration 35736 in 2.14 seconds. Samples per second 16734.34\n",
      "Epoch 3, Iteration 35736 in 2.17 seconds. Samples per second 16458.37\n",
      "Epoch 4, Iteration 35736 in 2.20 seconds. Samples per second 16263.83\n",
      "Epoch 5, Iteration 35736 in 2.28 seconds. Samples per second 15703.85\n",
      "Epoch 6, Iteration 35736 in 2.53 seconds. Samples per second 14130.15\n",
      "Epoch 7, Iteration 35736 in 2.57 seconds. Samples per second 13924.02\n",
      "Epoch 8, Iteration 35736 in 2.56 seconds. Samples per second 13939.58\n",
      "Epoch 9, Iteration 35736 in 2.57 seconds. Samples per second 13917.25\n",
      "Epoch 10, Iteration 35736 in 2.34 seconds. Samples per second 15273.64\n",
      "Epoch 11, Iteration 35736 in 2.27 seconds. Samples per second 15715.94\n",
      "Epoch 12, Iteration 35736 in 2.30 seconds. Samples per second 15527.41\n",
      "Epoch 13, Iteration 35736 in 2.28 seconds. Samples per second 15649.54\n",
      "Epoch 14, Iteration 35736 in 2.56 seconds. Samples per second 13945.35\n",
      "Epoch 15, Iteration 35736 in 2.61 seconds. Samples per second 13692.40\n",
      "Epoch 16, Iteration 35736 in 2.61 seconds. Samples per second 13708.63\n",
      "Epoch 17, Iteration 35736 in 2.59 seconds. Samples per second 13809.51\n",
      "Epoch 18, Iteration 35736 in 2.36 seconds. Samples per second 15153.57\n",
      "Epoch 19, Iteration 35736 in 2.32 seconds. Samples per second 15412.55\n",
      "Epoch 20, Iteration 35736 in 2.40 seconds. Samples per second 14894.71\n",
      "Epoch 21, Iteration 35736 in 2.35 seconds. Samples per second 15210.53\n",
      "Epoch 22, Iteration 35736 in 2.57 seconds. Samples per second 13895.40\n",
      "Epoch 23, Iteration 35736 in 2.68 seconds. Samples per second 13339.38\n",
      "Epoch 24, Iteration 35736 in 2.64 seconds. Samples per second 13551.60\n",
      "Epoch 25, Iteration 35736 in 2.63 seconds. Samples per second 13598.24\n",
      "Train completed in 1.00 minutes\n",
      "EvaluatorHoldout: Processed 34728 (100.0%) in 17.35 sec. Users per second: 2002\n"
     ]
    },
    {
     "name": "stderr",
     "output_type": "stream",
     "text": [
      "[I 2024-12-18 00:36:43,405] Trial 20 finished with value: 0.017361922404683403 and parameters: {'topK': 272, 'lambda_i': 0.0036060361108208295, 'lambda_j': 0.0005301829241120791, 'learning_rate': 0.5287123464532424}. Best is trial 11 with value: 0.017946900492900864.\n"
     ]
    },
    {
     "name": "stdout",
     "output_type": "stream",
     "text": [
      "Epoch 1, Iteration 35736 in 1.60 seconds. Samples per second 22371.62\n",
      "Epoch 2, Iteration 35736 in 2.07 seconds. Samples per second 17294.61\n",
      "Epoch 3, Iteration 35736 in 2.12 seconds. Samples per second 16879.61\n",
      "Epoch 4, Iteration 35736 in 2.20 seconds. Samples per second 16241.73\n",
      "Epoch 5, Iteration 35736 in 2.27 seconds. Samples per second 15728.52\n",
      "Epoch 6, Iteration 35736 in 2.44 seconds. Samples per second 14674.68\n",
      "Epoch 7, Iteration 35736 in 2.52 seconds. Samples per second 14208.07\n",
      "Epoch 8, Iteration 35736 in 2.56 seconds. Samples per second 13975.50\n",
      "Epoch 9, Iteration 35736 in 2.66 seconds. Samples per second 13454.70\n",
      "Epoch 10, Iteration 35736 in 2.49 seconds. Samples per second 14379.81\n",
      "Epoch 11, Iteration 35736 in 2.65 seconds. Samples per second 13503.05\n",
      "Epoch 12, Iteration 35736 in 2.45 seconds. Samples per second 14560.75\n",
      "Epoch 13, Iteration 35736 in 2.42 seconds. Samples per second 14737.13\n",
      "Epoch 14, Iteration 35736 in 2.52 seconds. Samples per second 14185.92\n",
      "Epoch 15, Iteration 35736 in 2.64 seconds. Samples per second 13561.31\n",
      "Epoch 16, Iteration 35736 in 2.61 seconds. Samples per second 13707.70\n",
      "Epoch 17, Iteration 35736 in 2.67 seconds. Samples per second 13385.40\n",
      "Epoch 18, Iteration 35736 in 2.36 seconds. Samples per second 15150.71\n",
      "Epoch 19, Iteration 35736 in 2.38 seconds. Samples per second 15034.67\n",
      "Epoch 20, Iteration 35736 in 2.35 seconds. Samples per second 15238.63\n",
      "Epoch 21, Iteration 35736 in 2.32 seconds. Samples per second 15424.00\n",
      "Epoch 22, Iteration 35736 in 2.58 seconds. Samples per second 13868.96\n",
      "Epoch 23, Iteration 35736 in 2.68 seconds. Samples per second 13347.09\n",
      "Epoch 24, Iteration 35736 in 2.62 seconds. Samples per second 13646.83\n",
      "Epoch 25, Iteration 35736 in 2.64 seconds. Samples per second 13511.99\n",
      "Train completed in 1.01 minutes\n",
      "EvaluatorHoldout: Processed 34728 (100.0%) in 16.76 sec. Users per second: 2072\n"
     ]
    },
    {
     "name": "stderr",
     "output_type": "stream",
     "text": [
      "[I 2024-12-18 00:38:18,866] Trial 21 finished with value: 0.017875165001115332 and parameters: {'topK': 250, 'lambda_i': 0.00566078484403519, 'lambda_j': 0.0007137270928294231, 'learning_rate': 0.3469102531078999}. Best is trial 11 with value: 0.017946900492900864.\n"
     ]
    },
    {
     "name": "stdout",
     "output_type": "stream",
     "text": [
      "Epoch 1, Iteration 35736 in 1.63 seconds. Samples per second 21976.82\n",
      "Epoch 2, Iteration 35736 in 2.08 seconds. Samples per second 17139.87\n",
      "Epoch 3, Iteration 35736 in 2.15 seconds. Samples per second 16637.52\n",
      "Epoch 4, Iteration 35736 in 2.19 seconds. Samples per second 16350.68\n",
      "Epoch 5, Iteration 35736 in 2.25 seconds. Samples per second 15913.69\n",
      "Epoch 6, Iteration 35736 in 2.36 seconds. Samples per second 15126.13\n",
      "Epoch 7, Iteration 35736 in 2.54 seconds. Samples per second 14051.92\n",
      "Epoch 8, Iteration 35736 in 2.49 seconds. Samples per second 14360.64\n",
      "Epoch 9, Iteration 35736 in 2.55 seconds. Samples per second 14026.04\n",
      "Epoch 10, Iteration 35736 in 2.49 seconds. Samples per second 14337.52\n",
      "Epoch 11, Iteration 35736 in 2.42 seconds. Samples per second 14762.66\n",
      "Epoch 12, Iteration 35736 in 2.39 seconds. Samples per second 14928.54\n",
      "Epoch 13, Iteration 35736 in 2.44 seconds. Samples per second 14675.47\n",
      "Epoch 14, Iteration 35736 in 2.38 seconds. Samples per second 15042.81\n",
      "Epoch 15, Iteration 35736 in 2.70 seconds. Samples per second 13249.97\n",
      "Epoch 16, Iteration 35736 in 2.56 seconds. Samples per second 13963.58\n",
      "Epoch 17, Iteration 35736 in 2.64 seconds. Samples per second 13560.26\n",
      "Epoch 18, Iteration 35736 in 2.49 seconds. Samples per second 14364.03\n",
      "Epoch 19, Iteration 35736 in 2.47 seconds. Samples per second 14440.91\n",
      "Epoch 20, Iteration 35736 in 2.38 seconds. Samples per second 15007.48\n",
      "Epoch 21, Iteration 35736 in 2.66 seconds. Samples per second 13458.30\n",
      "Epoch 22, Iteration 35736 in 2.65 seconds. Samples per second 13500.20\n",
      "Epoch 23, Iteration 35736 in 2.70 seconds. Samples per second 13245.30\n",
      "Epoch 24, Iteration 35736 in 2.68 seconds. Samples per second 13326.64\n",
      "Epoch 25, Iteration 35736 in 2.70 seconds. Samples per second 13217.42\n",
      "Train completed in 1.02 minutes\n",
      "EvaluatorHoldout: Processed 34728 (100.0%) in 17.00 sec. Users per second: 2043\n"
     ]
    },
    {
     "name": "stderr",
     "output_type": "stream",
     "text": [
      "[I 2024-12-18 00:39:55,235] Trial 22 finished with value: 0.017827094142963247 and parameters: {'topK': 262, 'lambda_i': 0.003787186166311089, 'lambda_j': 0.0007374094345905706, 'learning_rate': 0.3545374615122857}. Best is trial 11 with value: 0.017946900492900864.\n"
     ]
    },
    {
     "name": "stdout",
     "output_type": "stream",
     "text": [
      "Epoch 1, Iteration 35736 in 1.63 seconds. Samples per second 21901.16\n",
      "Epoch 2, Iteration 35736 in 2.08 seconds. Samples per second 17142.04\n",
      "Epoch 3, Iteration 35736 in 2.13 seconds. Samples per second 16794.18\n",
      "Epoch 4, Iteration 35736 in 2.23 seconds. Samples per second 16036.43\n",
      "Epoch 5, Iteration 35736 in 2.26 seconds. Samples per second 15803.44\n",
      "Epoch 6, Iteration 35736 in 2.51 seconds. Samples per second 14251.30\n",
      "Epoch 7, Iteration 35736 in 2.53 seconds. Samples per second 14122.04\n",
      "Epoch 8, Iteration 35736 in 2.55 seconds. Samples per second 14039.16\n",
      "Epoch 9, Iteration 35736 in 2.53 seconds. Samples per second 14108.79\n",
      "Epoch 10, Iteration 35736 in 2.47 seconds. Samples per second 14459.79\n",
      "Epoch 11, Iteration 35736 in 2.45 seconds. Samples per second 14572.88\n",
      "Epoch 12, Iteration 35736 in 2.36 seconds. Samples per second 15136.88\n",
      "Epoch 13, Iteration 35736 in 2.38 seconds. Samples per second 15012.68\n",
      "Epoch 14, Iteration 35736 in 2.58 seconds. Samples per second 13843.96\n",
      "Epoch 15, Iteration 35736 in 2.60 seconds. Samples per second 13749.42\n",
      "Epoch 16, Iteration 35736 in 2.67 seconds. Samples per second 13396.56\n",
      "Epoch 17, Iteration 35736 in 2.59 seconds. Samples per second 13815.82\n",
      "Epoch 18, Iteration 35736 in 2.35 seconds. Samples per second 15221.71\n",
      "Epoch 19, Iteration 35736 in 2.35 seconds. Samples per second 15208.57\n",
      "Epoch 20, Iteration 35736 in 2.41 seconds. Samples per second 14810.67\n",
      "Epoch 21, Iteration 35736 in 2.44 seconds. Samples per second 14632.94\n",
      "Epoch 22, Iteration 35736 in 2.60 seconds. Samples per second 13726.19\n",
      "Epoch 23, Iteration 35736 in 2.65 seconds. Samples per second 13481.22\n",
      "Epoch 24, Iteration 35736 in 2.69 seconds. Samples per second 13274.52\n",
      "Epoch 25, Iteration 35736 in 2.64 seconds. Samples per second 13558.35\n",
      "Train completed in 1.01 minutes\n",
      "EvaluatorHoldout: Processed 34728 (100.0%) in 17.09 sec. Users per second: 2032\n"
     ]
    },
    {
     "name": "stderr",
     "output_type": "stream",
     "text": [
      "[I 2024-12-18 00:41:31,393] Trial 23 finished with value: 0.017839445230599372 and parameters: {'topK': 259, 'lambda_i': 0.005843616150101977, 'lambda_j': 0.0005053735518165193, 'learning_rate': 0.34214669659355107}. Best is trial 11 with value: 0.017946900492900864.\n"
     ]
    },
    {
     "name": "stdout",
     "output_type": "stream",
     "text": [
      "Epoch 1, Iteration 35736 in 1.56 seconds. Samples per second 22848.59\n",
      "Epoch 2, Iteration 35736 in 2.08 seconds. Samples per second 17218.56\n",
      "Epoch 3, Iteration 35736 in 2.12 seconds. Samples per second 16847.76\n",
      "Epoch 4, Iteration 35736 in 2.22 seconds. Samples per second 16061.68\n",
      "Epoch 5, Iteration 35736 in 2.23 seconds. Samples per second 16034.78\n",
      "Epoch 6, Iteration 35736 in 2.53 seconds. Samples per second 14147.37\n",
      "Epoch 7, Iteration 35736 in 2.51 seconds. Samples per second 14264.44\n",
      "Epoch 8, Iteration 35736 in 2.53 seconds. Samples per second 14138.60\n",
      "Epoch 9, Iteration 35736 in 2.57 seconds. Samples per second 13878.25\n",
      "Epoch 10, Iteration 35736 in 2.43 seconds. Samples per second 14703.73\n",
      "Epoch 11, Iteration 35736 in 2.33 seconds. Samples per second 15332.25\n",
      "Epoch 12, Iteration 35736 in 2.31 seconds. Samples per second 15458.30\n",
      "Epoch 13, Iteration 35736 in 2.30 seconds. Samples per second 15559.55\n",
      "Epoch 14, Iteration 35736 in 2.55 seconds. Samples per second 13987.80\n",
      "Epoch 15, Iteration 35736 in 2.59 seconds. Samples per second 13809.02\n",
      "Epoch 16, Iteration 35736 in 2.64 seconds. Samples per second 13551.18\n",
      "Epoch 17, Iteration 35736 in 2.56 seconds. Samples per second 13976.67\n",
      "Epoch 18, Iteration 35736 in 2.38 seconds. Samples per second 14993.11\n",
      "Epoch 19, Iteration 35736 in 2.37 seconds. Samples per second 15083.56\n",
      "Epoch 20, Iteration 35736 in 2.40 seconds. Samples per second 14878.69\n",
      "Epoch 21, Iteration 35736 in 2.38 seconds. Samples per second 14985.11\n",
      "Epoch 22, Iteration 35736 in 2.54 seconds. Samples per second 14061.55\n",
      "Epoch 23, Iteration 35736 in 2.64 seconds. Samples per second 13554.33\n",
      "Epoch 24, Iteration 35736 in 2.60 seconds. Samples per second 13741.74\n",
      "Epoch 25, Iteration 35736 in 2.67 seconds. Samples per second 13384.07\n",
      "Train completed in 1.00 minutes\n",
      "EvaluatorHoldout: Processed 34728 (100.0%) in 16.76 sec. Users per second: 2072\n"
     ]
    },
    {
     "name": "stderr",
     "output_type": "stream",
     "text": [
      "[I 2024-12-18 00:43:06,521] Trial 24 finished with value: 0.017864556480658843 and parameters: {'topK': 250, 'lambda_i': 0.00252694623067287, 'lambda_j': 0.000744892681551698, 'learning_rate': 0.40534421670308324}. Best is trial 11 with value: 0.017946900492900864.\n"
     ]
    },
    {
     "name": "stdout",
     "output_type": "stream",
     "text": [
      "Epoch 1, Iteration 35736 in 1.58 seconds. Samples per second 22686.55\n",
      "Epoch 2, Iteration 35736 in 1.97 seconds. Samples per second 18179.39\n",
      "Epoch 3, Iteration 35736 in 2.09 seconds. Samples per second 17125.25\n",
      "Epoch 4, Iteration 35736 in 2.18 seconds. Samples per second 16413.59\n",
      "Epoch 5, Iteration 35736 in 2.20 seconds. Samples per second 16222.86\n",
      "Epoch 6, Iteration 35736 in 2.39 seconds. Samples per second 14924.10\n",
      "Epoch 7, Iteration 35736 in 2.83 seconds. Samples per second 12613.14\n",
      "Epoch 8, Iteration 35736 in 3.10 seconds. Samples per second 11539.52\n",
      "Epoch 9, Iteration 35736 in 3.19 seconds. Samples per second 11196.90\n",
      "Epoch 10, Iteration 35736 in 2.77 seconds. Samples per second 12923.91\n",
      "Epoch 11, Iteration 35736 in 2.40 seconds. Samples per second 14873.88\n",
      "Epoch 12, Iteration 35736 in 2.36 seconds. Samples per second 15126.09\n",
      "Epoch 13, Iteration 35736 in 2.56 seconds. Samples per second 13932.78\n",
      "Epoch 14, Iteration 35736 in 2.99 seconds. Samples per second 11957.50\n",
      "Epoch 15, Iteration 35736 in 2.94 seconds. Samples per second 12166.91\n",
      "Epoch 16, Iteration 35736 in 2.75 seconds. Samples per second 12997.74\n",
      "Epoch 17, Iteration 35736 in 2.57 seconds. Samples per second 13887.64\n",
      "Epoch 18, Iteration 35736 in 2.68 seconds. Samples per second 13343.06\n",
      "Epoch 19, Iteration 35736 in 2.63 seconds. Samples per second 13572.77\n",
      "Epoch 20, Iteration 35736 in 2.69 seconds. Samples per second 13279.99\n",
      "Epoch 21, Iteration 35736 in 2.75 seconds. Samples per second 13016.70\n",
      "Epoch 22, Iteration 35736 in 2.86 seconds. Samples per second 12514.61\n",
      "Epoch 23, Iteration 35736 in 2.76 seconds. Samples per second 12970.50\n",
      "Epoch 24, Iteration 35736 in 2.66 seconds. Samples per second 13430.99\n",
      "Epoch 25, Iteration 35736 in 2.54 seconds. Samples per second 14048.95\n",
      "Train completed in 1.07 minutes\n",
      "EvaluatorHoldout: Processed 34728 (100.0%) in 17.69 sec. Users per second: 1964\n"
     ]
    },
    {
     "name": "stderr",
     "output_type": "stream",
     "text": [
      "[I 2024-12-18 00:44:46,886] Trial 25 finished with value: 0.017666275188951478 and parameters: {'topK': 268, 'lambda_i': 0.004588121426972054, 'lambda_j': 0.00026625769207622255, 'learning_rate': 0.17470702972011193}. Best is trial 11 with value: 0.017946900492900864.\n"
     ]
    },
    {
     "name": "stdout",
     "output_type": "stream",
     "text": [
      "Epoch 1, Iteration 35736 in 1.62 seconds. Samples per second 22076.51\n",
      "Epoch 2, Iteration 35736 in 2.11 seconds. Samples per second 16911.01\n",
      "Epoch 3, Iteration 35736 in 2.19 seconds. Samples per second 16311.29\n",
      "Epoch 4, Iteration 35736 in 2.28 seconds. Samples per second 15670.05\n",
      "Epoch 5, Iteration 35736 in 2.37 seconds. Samples per second 15077.85\n",
      "Epoch 6, Iteration 35736 in 2.59 seconds. Samples per second 13801.94\n",
      "Epoch 7, Iteration 35736 in 2.59 seconds. Samples per second 13771.67\n",
      "Epoch 8, Iteration 35736 in 2.65 seconds. Samples per second 13466.25\n",
      "Epoch 9, Iteration 35736 in 2.50 seconds. Samples per second 14278.89\n",
      "Epoch 10, Iteration 35736 in 2.39 seconds. Samples per second 14980.78\n",
      "Epoch 11, Iteration 35736 in 2.34 seconds. Samples per second 15270.40\n",
      "Epoch 12, Iteration 35736 in 2.36 seconds. Samples per second 15158.30\n",
      "Epoch 13, Iteration 35736 in 2.49 seconds. Samples per second 14355.15\n",
      "Epoch 14, Iteration 35736 in 2.71 seconds. Samples per second 13207.97\n",
      "Epoch 15, Iteration 35736 in 2.75 seconds. Samples per second 12989.79\n",
      "Epoch 16, Iteration 35736 in 2.79 seconds. Samples per second 12806.89\n",
      "Epoch 17, Iteration 35736 in 2.41 seconds. Samples per second 14825.16\n",
      "Epoch 18, Iteration 35736 in 2.37 seconds. Samples per second 15075.82\n",
      "Epoch 19, Iteration 35736 in 2.36 seconds. Samples per second 15140.08\n",
      "Epoch 20, Iteration 35736 in 2.42 seconds. Samples per second 14790.40\n",
      "Epoch 21, Iteration 35736 in 2.69 seconds. Samples per second 13261.08\n",
      "Epoch 22, Iteration 35736 in 2.91 seconds. Samples per second 12272.35\n",
      "Epoch 23, Iteration 35736 in 2.77 seconds. Samples per second 12919.86\n",
      "Epoch 24, Iteration 35736 in 2.62 seconds. Samples per second 13637.26\n",
      "Epoch 25, Iteration 35736 in 2.43 seconds. Samples per second 14687.61\n",
      "Train completed in 1.03 minutes\n",
      "EvaluatorHoldout: Processed 34728 (100.0%) in 17.75 sec. Users per second: 1957\n"
     ]
    },
    {
     "name": "stderr",
     "output_type": "stream",
     "text": [
      "[I 2024-12-18 00:46:24,937] Trial 26 finished with value: 0.017767107553303203 and parameters: {'topK': 282, 'lambda_i': 0.006593476203133403, 'lambda_j': 0.0005174658649144304, 'learning_rate': 0.23361544095844494}. Best is trial 11 with value: 0.017946900492900864.\n"
     ]
    },
    {
     "name": "stdout",
     "output_type": "stream",
     "text": [
      "Epoch 1, Iteration 35736 in 1.66 seconds. Samples per second 21576.01\n",
      "Epoch 2, Iteration 35736 in 2.11 seconds. Samples per second 16933.12\n",
      "Epoch 3, Iteration 35736 in 2.06 seconds. Samples per second 17341.23\n",
      "Epoch 4, Iteration 35736 in 2.19 seconds. Samples per second 16345.87\n",
      "Epoch 5, Iteration 35736 in 2.27 seconds. Samples per second 15767.62\n",
      "Epoch 6, Iteration 35736 in 2.27 seconds. Samples per second 15764.27\n",
      "Epoch 7, Iteration 35736 in 2.33 seconds. Samples per second 15308.24\n",
      "Epoch 8, Iteration 35736 in 2.27 seconds. Samples per second 15768.02\n",
      "Epoch 9, Iteration 35736 in 2.33 seconds. Samples per second 15334.95\n",
      "Epoch 10, Iteration 35736 in 2.36 seconds. Samples per second 15167.64\n",
      "Epoch 11, Iteration 35736 in 2.33 seconds. Samples per second 15368.22\n",
      "Epoch 12, Iteration 35736 in 2.32 seconds. Samples per second 15408.27\n",
      "Epoch 13, Iteration 35736 in 2.33 seconds. Samples per second 15328.05\n",
      "Epoch 14, Iteration 35736 in 2.32 seconds. Samples per second 15414.20\n",
      "Epoch 15, Iteration 35736 in 2.30 seconds. Samples per second 15557.63\n",
      "Epoch 16, Iteration 35736 in 2.29 seconds. Samples per second 15599.48\n",
      "Epoch 17, Iteration 35736 in 2.35 seconds. Samples per second 15186.97\n",
      "Epoch 18, Iteration 35736 in 2.35 seconds. Samples per second 15195.18\n",
      "Epoch 19, Iteration 35736 in 2.32 seconds. Samples per second 15423.17\n",
      "Epoch 20, Iteration 35736 in 2.34 seconds. Samples per second 15303.89\n",
      "Epoch 21, Iteration 35736 in 2.31 seconds. Samples per second 15456.79\n",
      "Epoch 22, Iteration 35736 in 2.36 seconds. Samples per second 15144.48\n",
      "Epoch 23, Iteration 35736 in 2.33 seconds. Samples per second 15308.49\n",
      "Epoch 24, Iteration 35736 in 2.40 seconds. Samples per second 14920.67\n",
      "Epoch 25, Iteration 35736 in 2.35 seconds. Samples per second 15204.49\n",
      "Train completed in 0.95 minutes\n",
      "EvaluatorHoldout: Processed 34728 (100.0%) in 17.16 sec. Users per second: 2023\n"
     ]
    },
    {
     "name": "stderr",
     "output_type": "stream",
     "text": [
      "[I 2024-12-18 00:47:57,282] Trial 27 finished with value: 0.01771819340690287 and parameters: {'topK': 258, 'lambda_i': 0.0055306778393520665, 'lambda_j': 0.0010138257200879288, 'learning_rate': 0.32537995356178495}. Best is trial 11 with value: 0.017946900492900864.\n"
     ]
    },
    {
     "name": "stdout",
     "output_type": "stream",
     "text": [
      "Epoch 1, Iteration 35736 in 1.62 seconds. Samples per second 22033.29\n",
      "Epoch 2, Iteration 35736 in 2.11 seconds. Samples per second 16964.30\n",
      "Epoch 3, Iteration 35736 in 2.08 seconds. Samples per second 17204.55\n",
      "Epoch 4, Iteration 35736 in 2.14 seconds. Samples per second 16707.36\n",
      "Epoch 5, Iteration 35736 in 2.18 seconds. Samples per second 16404.20\n",
      "Epoch 6, Iteration 35736 in 2.29 seconds. Samples per second 15573.81\n",
      "Epoch 7, Iteration 35736 in 2.23 seconds. Samples per second 16014.66\n",
      "Epoch 8, Iteration 35736 in 2.31 seconds. Samples per second 15444.66\n",
      "Epoch 9, Iteration 35736 in 2.32 seconds. Samples per second 15391.47\n",
      "Epoch 10, Iteration 35736 in 2.48 seconds. Samples per second 14395.89\n",
      "Epoch 11, Iteration 35736 in 2.52 seconds. Samples per second 14166.74\n",
      "Epoch 12, Iteration 35736 in 2.50 seconds. Samples per second 14316.11\n",
      "Epoch 13, Iteration 35736 in 2.53 seconds. Samples per second 14125.02\n",
      "Epoch 14, Iteration 35736 in 2.44 seconds. Samples per second 14638.73\n",
      "Epoch 15, Iteration 35736 in 2.35 seconds. Samples per second 15233.29\n",
      "Epoch 16, Iteration 35736 in 2.35 seconds. Samples per second 15220.30\n",
      "Epoch 17, Iteration 35736 in 2.36 seconds. Samples per second 15123.56\n",
      "Epoch 18, Iteration 35736 in 2.39 seconds. Samples per second 14980.87\n",
      "Epoch 19, Iteration 35736 in 2.56 seconds. Samples per second 13934.04\n",
      "Epoch 20, Iteration 35736 in 2.48 seconds. Samples per second 14383.88\n",
      "Epoch 21, Iteration 35736 in 2.46 seconds. Samples per second 14512.80\n",
      "Epoch 22, Iteration 35736 in 2.53 seconds. Samples per second 14110.06\n",
      "Epoch 23, Iteration 35736 in 2.50 seconds. Samples per second 14316.22\n",
      "Epoch 24, Iteration 35736 in 2.50 seconds. Samples per second 14309.40\n",
      "Epoch 25, Iteration 35736 in 2.44 seconds. Samples per second 14675.02\n",
      "Train completed in 0.98 minutes\n",
      "EvaluatorHoldout: Processed 34728 (100.0%) in 17.65 sec. Users per second: 1968\n"
     ]
    },
    {
     "name": "stderr",
     "output_type": "stream",
     "text": [
      "[I 2024-12-18 00:49:32,543] Trial 28 finished with value: 0.017541179433456656 and parameters: {'topK': 274, 'lambda_i': 0.0012359916749457743, 'lambda_j': 0.000678043684411655, 'learning_rate': 0.45855610127757174}. Best is trial 11 with value: 0.017946900492900864.\n"
     ]
    },
    {
     "name": "stdout",
     "output_type": "stream",
     "text": [
      "Epoch 1, Iteration 35736 in 1.65 seconds. Samples per second 21681.73\n",
      "Epoch 2, Iteration 35736 in 2.07 seconds. Samples per second 17292.75\n",
      "Epoch 3, Iteration 35736 in 2.11 seconds. Samples per second 16912.40\n",
      "Epoch 4, Iteration 35736 in 2.55 seconds. Samples per second 14034.71\n",
      "Epoch 5, Iteration 35736 in 2.29 seconds. Samples per second 15608.72\n",
      "Epoch 6, Iteration 35736 in 2.29 seconds. Samples per second 15598.44\n",
      "Epoch 7, Iteration 35736 in 2.28 seconds. Samples per second 15662.54\n",
      "Epoch 8, Iteration 35736 in 2.36 seconds. Samples per second 15136.27\n",
      "Epoch 9, Iteration 35736 in 2.38 seconds. Samples per second 15005.98\n",
      "Epoch 10, Iteration 35736 in 2.37 seconds. Samples per second 15060.47\n",
      "Epoch 11, Iteration 35736 in 2.38 seconds. Samples per second 15019.26\n",
      "Epoch 12, Iteration 35736 in 2.36 seconds. Samples per second 15149.97\n",
      "Epoch 13, Iteration 35736 in 2.34 seconds. Samples per second 15260.85\n",
      "Epoch 14, Iteration 35736 in 2.53 seconds. Samples per second 14124.36\n",
      "Epoch 15, Iteration 35736 in 2.42 seconds. Samples per second 14774.37\n",
      "Epoch 16, Iteration 35736 in 2.43 seconds. Samples per second 14683.80\n",
      "Epoch 17, Iteration 35736 in 2.43 seconds. Samples per second 14729.85\n",
      "Epoch 18, Iteration 35736 in 2.55 seconds. Samples per second 14034.75\n",
      "Epoch 19, Iteration 35736 in 2.58 seconds. Samples per second 13837.31\n",
      "Epoch 20, Iteration 35736 in 2.46 seconds. Samples per second 14521.65\n",
      "Epoch 21, Iteration 35736 in 2.55 seconds. Samples per second 13997.92\n",
      "Epoch 22, Iteration 35736 in 2.64 seconds. Samples per second 13540.30\n",
      "Epoch 23, Iteration 35736 in 2.53 seconds. Samples per second 14116.75\n",
      "Epoch 24, Iteration 35736 in 2.47 seconds. Samples per second 14458.88\n",
      "Epoch 25, Iteration 35736 in 2.57 seconds. Samples per second 13891.73\n",
      "Train completed in 0.99 minutes\n",
      "EvaluatorHoldout: Processed 34728 (100.0%) in 18.65 sec. Users per second: 1862\n"
     ]
    },
    {
     "name": "stderr",
     "output_type": "stream",
     "text": [
      "[I 2024-12-18 00:51:10,200] Trial 29 finished with value: 0.017467070622305653 and parameters: {'topK': 309, 'lambda_i': 0.001376747696407176, 'lambda_j': 0.00021275463102885631, 'learning_rate': 0.13230900373368568}. Best is trial 11 with value: 0.017946900492900864.\n"
     ]
    },
    {
     "name": "stdout",
     "output_type": "stream",
     "text": [
      "Epoch 1, Iteration 35736 in 1.68 seconds. Samples per second 21307.09\n",
      "Epoch 2, Iteration 35736 in 2.14 seconds. Samples per second 16724.42\n",
      "Epoch 3, Iteration 35736 in 2.13 seconds. Samples per second 16802.83\n",
      "Epoch 4, Iteration 35736 in 2.27 seconds. Samples per second 15735.45\n",
      "Epoch 5, Iteration 35736 in 2.32 seconds. Samples per second 15388.39\n",
      "Epoch 6, Iteration 35736 in 2.36 seconds. Samples per second 15114.03\n",
      "Epoch 7, Iteration 35736 in 2.42 seconds. Samples per second 14754.49\n",
      "Epoch 8, Iteration 35736 in 2.45 seconds. Samples per second 14566.25\n",
      "Epoch 9, Iteration 35736 in 2.31 seconds. Samples per second 15479.05\n",
      "Epoch 10, Iteration 35736 in 2.19 seconds. Samples per second 16298.47\n",
      "Epoch 11, Iteration 35736 in 2.22 seconds. Samples per second 16116.14\n",
      "Epoch 12, Iteration 35736 in 2.24 seconds. Samples per second 15941.34\n",
      "Epoch 13, Iteration 35736 in 2.39 seconds. Samples per second 14973.74\n",
      "Epoch 14, Iteration 35736 in 2.47 seconds. Samples per second 14456.27\n",
      "Epoch 15, Iteration 35736 in 2.50 seconds. Samples per second 14299.75\n",
      "Epoch 16, Iteration 35736 in 2.57 seconds. Samples per second 13905.81\n",
      "Epoch 17, Iteration 35736 in 2.59 seconds. Samples per second 13824.30\n",
      "Epoch 18, Iteration 35736 in 2.65 seconds. Samples per second 13473.16\n",
      "Epoch 19, Iteration 35736 in 2.65 seconds. Samples per second 13496.74\n",
      "Epoch 20, Iteration 35736 in 2.61 seconds. Samples per second 13707.94\n",
      "Epoch 21, Iteration 35736 in 2.58 seconds. Samples per second 13845.96\n",
      "Epoch 22, Iteration 35736 in 2.59 seconds. Samples per second 13796.00\n",
      "Epoch 23, Iteration 35736 in 2.45 seconds. Samples per second 14610.11\n",
      "Epoch 24, Iteration 35736 in 2.24 seconds. Samples per second 15935.21\n",
      "Epoch 25, Iteration 35736 in 2.25 seconds. Samples per second 15866.45\n",
      "Train completed in 0.99 minutes\n",
      "EvaluatorHoldout: Processed 34728 (100.0%) in 17.68 sec. Users per second: 1964\n"
     ]
    },
    {
     "name": "stderr",
     "output_type": "stream",
     "text": [
      "[I 2024-12-18 00:52:45,053] Trial 30 finished with value: 0.017998765005503244 and parameters: {'topK': 267, 'lambda_i': 0.004076290932026558, 'lambda_j': 0.0005808676449230288, 'learning_rate': 0.20510843074606608}. Best is trial 30 with value: 0.017998765005503244.\n"
     ]
    },
    {
     "name": "stdout",
     "output_type": "stream",
     "text": [
      "Epoch 1, Iteration 35736 in 1.64 seconds. Samples per second 21748.27\n",
      "Epoch 2, Iteration 35736 in 2.17 seconds. Samples per second 16441.53\n",
      "Epoch 3, Iteration 35736 in 2.18 seconds. Samples per second 16392.34\n",
      "Epoch 4, Iteration 35736 in 2.31 seconds. Samples per second 15486.14\n",
      "Epoch 5, Iteration 35736 in 2.41 seconds. Samples per second 14846.47\n",
      "Epoch 6, Iteration 35736 in 2.42 seconds. Samples per second 14758.75\n",
      "Epoch 7, Iteration 35736 in 2.36 seconds. Samples per second 15154.12\n",
      "Epoch 8, Iteration 35736 in 2.46 seconds. Samples per second 14511.60\n",
      "Epoch 9, Iteration 35736 in 2.41 seconds. Samples per second 14816.23\n",
      "Epoch 10, Iteration 35736 in 2.45 seconds. Samples per second 14584.47\n",
      "Epoch 11, Iteration 35736 in 2.43 seconds. Samples per second 14735.45\n",
      "Epoch 12, Iteration 35736 in 2.45 seconds. Samples per second 14567.04\n",
      "Epoch 13, Iteration 35736 in 2.54 seconds. Samples per second 14043.86\n",
      "Epoch 14, Iteration 35736 in 2.35 seconds. Samples per second 15201.12\n",
      "Epoch 15, Iteration 35736 in 2.76 seconds. Samples per second 12958.51\n",
      "Epoch 16, Iteration 35736 in 2.65 seconds. Samples per second 13461.39\n",
      "Epoch 17, Iteration 35736 in 2.83 seconds. Samples per second 12639.33\n",
      "Epoch 18, Iteration 35736 in 2.68 seconds. Samples per second 13317.47\n",
      "Epoch 19, Iteration 35736 in 2.80 seconds. Samples per second 12766.86\n",
      "Epoch 20, Iteration 35736 in 2.80 seconds. Samples per second 12748.49\n",
      "Epoch 21, Iteration 35736 in 2.87 seconds. Samples per second 12450.93\n",
      "Epoch 22, Iteration 35736 in 3.07 seconds. Samples per second 11655.15\n",
      "Epoch 23, Iteration 35736 in 2.86 seconds. Samples per second 12509.51\n",
      "Epoch 24, Iteration 35736 in 2.78 seconds. Samples per second 12843.84\n",
      "Epoch 25, Iteration 35736 in 2.82 seconds. Samples per second 12667.24\n",
      "Train completed in 1.06 minutes\n",
      "EvaluatorHoldout: Processed 34728 (100.0%) in 17.43 sec. Users per second: 1992\n"
     ]
    },
    {
     "name": "stderr",
     "output_type": "stream",
     "text": [
      "[I 2024-12-18 00:54:24,695] Trial 31 finished with value: 0.017878484448759172 and parameters: {'topK': 256, 'lambda_i': 0.004306415300041604, 'lambda_j': 0.0005961556985626423, 'learning_rate': 0.20076280268035993}. Best is trial 30 with value: 0.017998765005503244.\n"
     ]
    },
    {
     "name": "stdout",
     "output_type": "stream",
     "text": [
      "Epoch 1, Iteration 35736 in 1.74 seconds. Samples per second 20484.55\n",
      "Epoch 2, Iteration 35736 in 2.31 seconds. Samples per second 15480.29\n",
      "Epoch 3, Iteration 35736 in 2.30 seconds. Samples per second 15561.99\n",
      "Epoch 4, Iteration 35736 in 2.47 seconds. Samples per second 14466.13\n",
      "Epoch 5, Iteration 35736 in 2.51 seconds. Samples per second 14251.18\n",
      "Epoch 6, Iteration 35736 in 2.55 seconds. Samples per second 14014.26\n",
      "Epoch 7, Iteration 35736 in 2.58 seconds. Samples per second 13833.80\n",
      "Epoch 8, Iteration 35736 in 2.74 seconds. Samples per second 13049.96\n",
      "Epoch 9, Iteration 35736 in 2.71 seconds. Samples per second 13163.10\n",
      "Epoch 10, Iteration 35736 in 2.75 seconds. Samples per second 13010.34\n",
      "Epoch 11, Iteration 35736 in 2.89 seconds. Samples per second 12346.74\n",
      "Epoch 12, Iteration 35736 in 2.68 seconds. Samples per second 13323.09\n",
      "Epoch 13, Iteration 35736 in 2.71 seconds. Samples per second 13186.22\n",
      "Epoch 14, Iteration 35736 in 2.76 seconds. Samples per second 12968.33\n",
      "Epoch 15, Iteration 35736 in 3.00 seconds. Samples per second 11910.84\n",
      "Epoch 16, Iteration 35736 in 2.86 seconds. Samples per second 12511.23\n",
      "Epoch 17, Iteration 35736 in 2.82 seconds. Samples per second 12651.81\n",
      "Epoch 18, Iteration 35736 in 2.72 seconds. Samples per second 13132.42\n",
      "Epoch 19, Iteration 35736 in 2.83 seconds. Samples per second 12639.92\n",
      "Epoch 20, Iteration 35736 in 2.70 seconds. Samples per second 13223.61\n",
      "Epoch 21, Iteration 35736 in 2.74 seconds. Samples per second 13055.53\n",
      "Epoch 22, Iteration 35736 in 2.79 seconds. Samples per second 12816.91\n",
      "Epoch 23, Iteration 35736 in 2.79 seconds. Samples per second 12828.31\n",
      "Epoch 24, Iteration 35736 in 2.71 seconds. Samples per second 13166.59\n",
      "Epoch 25, Iteration 35736 in 2.95 seconds. Samples per second 12100.54\n",
      "Train completed in 1.11 minutes\n",
      "EvaluatorHoldout: Processed 34728 (100.0%) in 17.80 sec. Users per second: 1951\n"
     ]
    },
    {
     "name": "stderr",
     "output_type": "stream",
     "text": [
      "[I 2024-12-18 00:56:08,468] Trial 32 finished with value: 0.01776098628616777 and parameters: {'topK': 266, 'lambda_i': 0.003910714572177195, 'lambda_j': 0.0005657448455300798, 'learning_rate': 0.20964899300258263}. Best is trial 30 with value: 0.017998765005503244.\n"
     ]
    },
    {
     "name": "stdout",
     "output_type": "stream",
     "text": [
      "Epoch 1, Iteration 35736 in 1.76 seconds. Samples per second 20326.15\n",
      "Epoch 2, Iteration 35736 in 2.26 seconds. Samples per second 15825.12\n",
      "Epoch 3, Iteration 35736 in 2.40 seconds. Samples per second 14917.46\n",
      "Epoch 4, Iteration 35736 in 2.48 seconds. Samples per second 14399.48\n",
      "Epoch 5, Iteration 35736 in 2.56 seconds. Samples per second 13967.02\n",
      "Epoch 6, Iteration 35736 in 2.51 seconds. Samples per second 14253.53\n",
      "Epoch 7, Iteration 35736 in 2.63 seconds. Samples per second 13565.44\n",
      "Epoch 8, Iteration 35736 in 2.63 seconds. Samples per second 13573.51\n",
      "Epoch 9, Iteration 35736 in 2.83 seconds. Samples per second 12609.03\n",
      "Epoch 10, Iteration 35736 in 2.58 seconds. Samples per second 13841.38\n",
      "Epoch 11, Iteration 35736 in 2.59 seconds. Samples per second 13804.16\n",
      "Epoch 12, Iteration 35736 in 2.68 seconds. Samples per second 13321.60\n",
      "Epoch 13, Iteration 35736 in 2.67 seconds. Samples per second 13377.46\n",
      "Epoch 14, Iteration 35736 in 2.69 seconds. Samples per second 13308.62\n",
      "Epoch 15, Iteration 35736 in 2.67 seconds. Samples per second 13362.25\n",
      "Epoch 16, Iteration 35736 in 2.67 seconds. Samples per second 13388.45\n",
      "Epoch 17, Iteration 35736 in 2.76 seconds. Samples per second 12950.62\n",
      "Epoch 18, Iteration 35736 in 2.72 seconds. Samples per second 13156.89\n",
      "Epoch 19, Iteration 35736 in 2.56 seconds. Samples per second 13940.13\n",
      "Epoch 20, Iteration 35736 in 2.39 seconds. Samples per second 14978.06\n",
      "Epoch 21, Iteration 35736 in 2.44 seconds. Samples per second 14650.08\n",
      "Epoch 22, Iteration 35736 in 2.38 seconds. Samples per second 14993.95\n",
      "Epoch 23, Iteration 35736 in 2.24 seconds. Samples per second 15929.81\n",
      "Epoch 24, Iteration 35736 in 2.34 seconds. Samples per second 15280.79\n",
      "Epoch 25, Iteration 35736 in 2.33 seconds. Samples per second 15355.96\n",
      "Train completed in 1.05 minutes\n",
      "EvaluatorHoldout: Processed 34728 (100.0%) in 18.02 sec. Users per second: 1927\n"
     ]
    },
    {
     "name": "stderr",
     "output_type": "stream",
     "text": [
      "[I 2024-12-18 00:57:47,391] Trial 33 finished with value: 0.017354410511805245 and parameters: {'topK': 258, 'lambda_i': 0.002542659998742163, 'lambda_j': 0.0004716997093165311, 'learning_rate': 0.05411623554922779}. Best is trial 30 with value: 0.017998765005503244.\n"
     ]
    },
    {
     "name": "stdout",
     "output_type": "stream",
     "text": [
      "Epoch 1, Iteration 35736 in 1.53 seconds. Samples per second 23331.98\n",
      "Epoch 2, Iteration 35736 in 1.86 seconds. Samples per second 19190.57\n",
      "Epoch 3, Iteration 35736 in 1.95 seconds. Samples per second 18315.76\n",
      "Epoch 4, Iteration 35736 in 1.89 seconds. Samples per second 18948.45\n",
      "Epoch 5, Iteration 35736 in 1.94 seconds. Samples per second 18409.45\n",
      "Epoch 6, Iteration 35736 in 2.00 seconds. Samples per second 17827.71\n",
      "Epoch 7, Iteration 35736 in 1.96 seconds. Samples per second 18251.10\n",
      "Epoch 8, Iteration 35736 in 2.13 seconds. Samples per second 16780.81\n",
      "Epoch 9, Iteration 35736 in 1.92 seconds. Samples per second 18601.19\n",
      "Epoch 10, Iteration 35736 in 1.89 seconds. Samples per second 18877.11\n",
      "Epoch 11, Iteration 35736 in 1.96 seconds. Samples per second 18218.48\n",
      "Epoch 12, Iteration 35736 in 1.86 seconds. Samples per second 19211.56\n",
      "Epoch 13, Iteration 35736 in 1.86 seconds. Samples per second 19204.46\n",
      "Epoch 14, Iteration 35736 in 1.88 seconds. Samples per second 19023.63\n",
      "Epoch 15, Iteration 35736 in 1.92 seconds. Samples per second 18573.09\n",
      "Epoch 16, Iteration 35736 in 1.91 seconds. Samples per second 18744.66\n",
      "Epoch 17, Iteration 35736 in 1.88 seconds. Samples per second 18978.62\n",
      "Epoch 18, Iteration 35736 in 1.97 seconds. Samples per second 18137.11\n",
      "Epoch 19, Iteration 35736 in 1.97 seconds. Samples per second 18146.90\n",
      "Epoch 20, Iteration 35736 in 1.92 seconds. Samples per second 18619.99\n",
      "Epoch 21, Iteration 35736 in 1.91 seconds. Samples per second 18686.53\n",
      "Epoch 22, Iteration 35736 in 1.92 seconds. Samples per second 18624.03\n",
      "Epoch 23, Iteration 35736 in 1.91 seconds. Samples per second 18720.48\n",
      "Epoch 24, Iteration 35736 in 1.95 seconds. Samples per second 18281.42\n",
      "Epoch 25, Iteration 35736 in 2.00 seconds. Samples per second 17863.99\n",
      "Train completed in 0.80 minutes\n",
      "EvaluatorHoldout: Processed 34728 (100.0%) in 17.11 sec. Users per second: 2030\n"
     ]
    },
    {
     "name": "stderr",
     "output_type": "stream",
     "text": [
      "[I 2024-12-18 00:59:10,070] Trial 34 finished with value: 0.018005800406241015 and parameters: {'topK': 256, 'lambda_i': 0.0006080779210636657, 'lambda_j': 0.0007949838797654321, 'learning_rate': 0.18510552536502287}. Best is trial 34 with value: 0.018005800406241015.\n"
     ]
    },
    {
     "name": "stdout",
     "output_type": "stream",
     "text": [
      "Epoch 1, Iteration 35736 in 1.41 seconds. Samples per second 25259.19\n",
      "Epoch 2, Iteration 35736 in 1.56 seconds. Samples per second 22893.62\n",
      "Epoch 3, Iteration 35736 in 1.73 seconds. Samples per second 20621.14\n",
      "Epoch 4, Iteration 35736 in 1.82 seconds. Samples per second 19678.03\n",
      "Epoch 5, Iteration 35736 in 1.84 seconds. Samples per second 19373.47\n",
      "Epoch 6, Iteration 35736 in 1.85 seconds. Samples per second 19273.98\n",
      "Epoch 7, Iteration 35736 in 1.93 seconds. Samples per second 18536.85\n",
      "Epoch 8, Iteration 35736 in 1.90 seconds. Samples per second 18784.40\n",
      "Epoch 9, Iteration 35736 in 1.98 seconds. Samples per second 18058.47\n",
      "Epoch 10, Iteration 35736 in 1.92 seconds. Samples per second 18569.02\n",
      "Epoch 11, Iteration 35736 in 1.94 seconds. Samples per second 18442.80\n",
      "Epoch 12, Iteration 35736 in 1.93 seconds. Samples per second 18480.34\n",
      "Epoch 13, Iteration 35736 in 1.90 seconds. Samples per second 18803.79\n",
      "Epoch 14, Iteration 35736 in 1.88 seconds. Samples per second 19003.33\n",
      "Epoch 15, Iteration 35736 in 1.87 seconds. Samples per second 19153.59\n",
      "Epoch 16, Iteration 35736 in 1.92 seconds. Samples per second 18600.71\n",
      "Epoch 17, Iteration 35736 in 1.88 seconds. Samples per second 18980.18\n",
      "Epoch 18, Iteration 35736 in 1.88 seconds. Samples per second 19044.44\n",
      "Epoch 19, Iteration 35736 in 1.91 seconds. Samples per second 18750.26\n",
      "Epoch 20, Iteration 35736 in 1.91 seconds. Samples per second 18671.23\n",
      "Epoch 21, Iteration 35736 in 1.97 seconds. Samples per second 18107.50\n",
      "Epoch 22, Iteration 35736 in 1.91 seconds. Samples per second 18695.02\n",
      "Epoch 23, Iteration 35736 in 2.01 seconds. Samples per second 17746.17\n",
      "Epoch 24, Iteration 35736 in 1.98 seconds. Samples per second 18026.59\n",
      "Epoch 25, Iteration 35736 in 1.93 seconds. Samples per second 18478.92\n",
      "Train completed in 0.78 minutes\n",
      "EvaluatorHoldout: Processed 34728 (100.0%) in 18.04 sec. Users per second: 1925\n"
     ]
    },
    {
     "name": "stderr",
     "output_type": "stream",
     "text": [
      "[I 2024-12-18 01:00:33,188] Trial 35 finished with value: 0.017639248828994928 and parameters: {'topK': 290, 'lambda_i': 0.0006351062475357795, 'lambda_j': 0.0008026450137754499, 'learning_rate': 0.11340194117844843}. Best is trial 34 with value: 0.018005800406241015.\n"
     ]
    },
    {
     "name": "stdout",
     "output_type": "stream",
     "text": [
      "Epoch 1, Iteration 35736 in 1.41 seconds. Samples per second 25353.67\n",
      "Epoch 2, Iteration 35736 in 1.57 seconds. Samples per second 22830.54\n",
      "Epoch 3, Iteration 35736 in 1.83 seconds. Samples per second 19528.43\n",
      "Epoch 4, Iteration 35736 in 1.79 seconds. Samples per second 19938.32\n",
      "Epoch 5, Iteration 35736 in 1.82 seconds. Samples per second 19679.67\n",
      "Epoch 6, Iteration 35736 in 1.88 seconds. Samples per second 19006.63\n",
      "Epoch 7, Iteration 35736 in 1.90 seconds. Samples per second 18775.89\n",
      "Epoch 8, Iteration 35736 in 1.93 seconds. Samples per second 18488.68\n",
      "Epoch 9, Iteration 35736 in 1.91 seconds. Samples per second 18713.01\n",
      "Epoch 10, Iteration 35736 in 1.87 seconds. Samples per second 19094.97\n",
      "Epoch 11, Iteration 35736 in 1.98 seconds. Samples per second 18068.83\n",
      "Epoch 12, Iteration 35736 in 1.90 seconds. Samples per second 18843.20\n",
      "Epoch 13, Iteration 35736 in 1.92 seconds. Samples per second 18641.13\n",
      "Epoch 14, Iteration 35736 in 1.93 seconds. Samples per second 18554.11\n",
      "Epoch 15, Iteration 35736 in 1.95 seconds. Samples per second 18371.70\n",
      "Epoch 16, Iteration 35736 in 1.99 seconds. Samples per second 17949.00\n",
      "Epoch 17, Iteration 35736 in 1.95 seconds. Samples per second 18367.24\n",
      "Epoch 18, Iteration 35736 in 1.89 seconds. Samples per second 18894.96\n",
      "Epoch 19, Iteration 35736 in 1.94 seconds. Samples per second 18444.28\n",
      "Epoch 20, Iteration 35736 in 1.94 seconds. Samples per second 18457.95\n",
      "Epoch 21, Iteration 35736 in 1.94 seconds. Samples per second 18447.53\n",
      "Epoch 22, Iteration 35736 in 1.96 seconds. Samples per second 18249.81\n",
      "Epoch 23, Iteration 35736 in 1.93 seconds. Samples per second 18499.20\n",
      "Epoch 24, Iteration 35736 in 1.98 seconds. Samples per second 18070.91\n",
      "Epoch 25, Iteration 35736 in 1.99 seconds. Samples per second 17995.32\n",
      "Train completed in 0.78 minutes\n",
      "EvaluatorHoldout: Processed 34728 (100.0%) in 17.22 sec. Users per second: 2017\n"
     ]
    },
    {
     "name": "stderr",
     "output_type": "stream",
     "text": [
      "[I 2024-12-18 01:01:55,209] Trial 36 finished with value: 0.017765455256816786 and parameters: {'topK': 264, 'lambda_i': 0.001695044441873757, 'lambda_j': 0.000992307462418901, 'learning_rate': 0.284463469975354}. Best is trial 34 with value: 0.018005800406241015.\n"
     ]
    },
    {
     "name": "stdout",
     "output_type": "stream",
     "text": [
      "Epoch 1, Iteration 35736 in 1.40 seconds. Samples per second 25498.52\n",
      "Epoch 2, Iteration 35736 in 1.61 seconds. Samples per second 22183.23\n",
      "Epoch 3, Iteration 35736 in 1.81 seconds. Samples per second 19791.72\n",
      "Epoch 4, Iteration 35736 in 1.77 seconds. Samples per second 20179.34\n",
      "Epoch 5, Iteration 35736 in 1.86 seconds. Samples per second 19172.10\n",
      "Epoch 6, Iteration 35736 in 1.86 seconds. Samples per second 19176.56\n",
      "Epoch 7, Iteration 35736 in 1.85 seconds. Samples per second 19344.05\n",
      "Epoch 8, Iteration 35736 in 1.89 seconds. Samples per second 18957.93\n",
      "Epoch 9, Iteration 35736 in 1.88 seconds. Samples per second 18980.82\n",
      "Epoch 10, Iteration 35736 in 1.85 seconds. Samples per second 19301.35\n",
      "Epoch 11, Iteration 35736 in 1.90 seconds. Samples per second 18831.45\n",
      "Epoch 12, Iteration 35736 in 1.94 seconds. Samples per second 18452.19\n",
      "Epoch 13, Iteration 35736 in 1.91 seconds. Samples per second 18695.17\n",
      "Epoch 14, Iteration 35736 in 1.94 seconds. Samples per second 18377.26\n",
      "Epoch 15, Iteration 35736 in 1.98 seconds. Samples per second 18055.89\n",
      "Epoch 16, Iteration 35736 in 1.97 seconds. Samples per second 18095.25\n",
      "Epoch 17, Iteration 35736 in 1.91 seconds. Samples per second 18715.92\n",
      "Epoch 18, Iteration 35736 in 1.95 seconds. Samples per second 18341.13\n",
      "Epoch 19, Iteration 35736 in 1.93 seconds. Samples per second 18500.32\n",
      "Epoch 20, Iteration 35736 in 1.93 seconds. Samples per second 18542.47\n",
      "Epoch 21, Iteration 35736 in 1.99 seconds. Samples per second 17957.01\n",
      "Epoch 22, Iteration 35736 in 1.88 seconds. Samples per second 18963.99\n",
      "Epoch 23, Iteration 35736 in 1.93 seconds. Samples per second 18528.76\n",
      "Epoch 24, Iteration 35736 in 1.93 seconds. Samples per second 18482.91\n",
      "Epoch 25, Iteration 35736 in 1.94 seconds. Samples per second 18403.77\n",
      "Train completed in 0.78 minutes\n",
      "EvaluatorHoldout: Processed 34728 (100.0%) in 17.61 sec. Users per second: 1973\n"
     ]
    },
    {
     "name": "stderr",
     "output_type": "stream",
     "text": [
      "[I 2024-12-18 01:03:17,413] Trial 37 finished with value: 0.01763621847610287 and parameters: {'topK': 275, 'lambda_i': 0.0024421947456786343, 'lambda_j': 0.0011415447726534906, 'learning_rate': 0.15627149478664512}. Best is trial 34 with value: 0.018005800406241015.\n"
     ]
    },
    {
     "name": "stdout",
     "output_type": "stream",
     "text": [
      "Epoch 1, Iteration 35736 in 1.39 seconds. Samples per second 25649.82\n",
      "Epoch 2, Iteration 35736 in 1.57 seconds. Samples per second 22772.26\n",
      "Epoch 3, Iteration 35736 in 1.80 seconds. Samples per second 19820.34\n",
      "Epoch 4, Iteration 35736 in 1.81 seconds. Samples per second 19792.49\n",
      "Epoch 5, Iteration 35736 in 1.83 seconds. Samples per second 19538.88\n",
      "Epoch 6, Iteration 35736 in 1.92 seconds. Samples per second 18649.41\n",
      "Epoch 7, Iteration 35736 in 1.84 seconds. Samples per second 19407.13\n",
      "Epoch 8, Iteration 35736 in 1.88 seconds. Samples per second 19044.51\n",
      "Epoch 9, Iteration 35736 in 1.83 seconds. Samples per second 19483.95\n",
      "Epoch 10, Iteration 35736 in 1.92 seconds. Samples per second 18628.71\n",
      "Epoch 11, Iteration 35736 in 1.85 seconds. Samples per second 19342.57\n",
      "Epoch 12, Iteration 35736 in 1.86 seconds. Samples per second 19232.98\n",
      "Epoch 13, Iteration 35736 in 1.86 seconds. Samples per second 19243.86\n",
      "Epoch 14, Iteration 35736 in 1.88 seconds. Samples per second 18974.53\n",
      "Epoch 15, Iteration 35736 in 1.85 seconds. Samples per second 19369.04\n",
      "Epoch 16, Iteration 35736 in 1.89 seconds. Samples per second 18892.64\n",
      "Epoch 17, Iteration 35736 in 1.90 seconds. Samples per second 18789.24\n",
      "Epoch 18, Iteration 35736 in 1.91 seconds. Samples per second 18745.00\n",
      "Epoch 19, Iteration 35736 in 1.97 seconds. Samples per second 18117.86\n",
      "Epoch 20, Iteration 35736 in 1.94 seconds. Samples per second 18415.44\n",
      "Epoch 21, Iteration 35736 in 1.92 seconds. Samples per second 18595.45\n",
      "Epoch 22, Iteration 35736 in 1.91 seconds. Samples per second 18735.14\n",
      "Epoch 23, Iteration 35736 in 1.92 seconds. Samples per second 18645.77\n",
      "Epoch 24, Iteration 35736 in 1.97 seconds. Samples per second 18106.30\n",
      "Epoch 25, Iteration 35736 in 1.95 seconds. Samples per second 18300.94\n",
      "Train completed in 0.77 minutes\n",
      "EvaluatorHoldout: Processed 34728 (100.0%) in 16.88 sec. Users per second: 2058\n"
     ]
    },
    {
     "name": "stderr",
     "output_type": "stream",
     "text": [
      "[I 2024-12-18 01:04:38,043] Trial 38 finished with value: 0.01794868305342559 and parameters: {'topK': 255, 'lambda_i': 0.003231499426609172, 'lambda_j': 0.000822812040390335, 'learning_rate': 0.2345781478776816}. Best is trial 34 with value: 0.018005800406241015.\n"
     ]
    },
    {
     "name": "stdout",
     "output_type": "stream",
     "text": [
      "Epoch 1, Iteration 35736 in 1.38 seconds. Samples per second 25965.46\n",
      "Epoch 2, Iteration 35736 in 1.54 seconds. Samples per second 23215.78\n",
      "Epoch 3, Iteration 35736 in 1.72 seconds. Samples per second 20832.33\n",
      "Epoch 4, Iteration 35736 in 1.78 seconds. Samples per second 20087.32\n",
      "Epoch 5, Iteration 35736 in 1.76 seconds. Samples per second 20256.13\n",
      "Epoch 6, Iteration 35736 in 1.80 seconds. Samples per second 19815.09\n",
      "Epoch 7, Iteration 35736 in 1.90 seconds. Samples per second 18818.74\n",
      "Epoch 8, Iteration 35736 in 1.88 seconds. Samples per second 19021.71\n",
      "Epoch 9, Iteration 35736 in 1.91 seconds. Samples per second 18691.11\n",
      "Epoch 10, Iteration 35736 in 1.86 seconds. Samples per second 19235.26\n",
      "Epoch 11, Iteration 35736 in 1.84 seconds. Samples per second 19377.29\n",
      "Epoch 12, Iteration 35736 in 1.89 seconds. Samples per second 18914.58\n",
      "Epoch 13, Iteration 35736 in 1.88 seconds. Samples per second 19031.51\n",
      "Epoch 14, Iteration 35736 in 1.89 seconds. Samples per second 18925.91\n",
      "Epoch 15, Iteration 35736 in 1.93 seconds. Samples per second 18470.92\n",
      "Epoch 16, Iteration 35736 in 1.90 seconds. Samples per second 18798.77\n",
      "Epoch 17, Iteration 35736 in 1.87 seconds. Samples per second 19071.33\n",
      "Epoch 18, Iteration 35736 in 1.90 seconds. Samples per second 18791.00\n",
      "Epoch 19, Iteration 35736 in 1.93 seconds. Samples per second 18468.42\n",
      "Epoch 20, Iteration 35736 in 1.92 seconds. Samples per second 18592.86\n",
      "Epoch 21, Iteration 35736 in 1.92 seconds. Samples per second 18615.44\n",
      "Epoch 22, Iteration 35736 in 1.88 seconds. Samples per second 19004.93\n",
      "Epoch 23, Iteration 35736 in 1.99 seconds. Samples per second 17973.26\n",
      "Epoch 24, Iteration 35736 in 1.99 seconds. Samples per second 17930.62\n",
      "Epoch 25, Iteration 35736 in 1.98 seconds. Samples per second 18040.65\n",
      "Train completed in 0.77 minutes\n",
      "EvaluatorHoldout: Processed 34728 (100.0%) in 17.96 sec. Users per second: 1934\n"
     ]
    },
    {
     "name": "stderr",
     "output_type": "stream",
     "text": [
      "[I 2024-12-18 01:06:00,213] Trial 39 finished with value: 0.01734463728092804 and parameters: {'topK': 288, 'lambda_i': 0.000549780027651496, 'lambda_j': 0.0009106465180459427, 'learning_rate': 0.10590126502934616}. Best is trial 34 with value: 0.018005800406241015.\n"
     ]
    },
    {
     "name": "stdout",
     "output_type": "stream",
     "text": [
      "Epoch 1, Iteration 35736 in 1.37 seconds. Samples per second 25994.64\n",
      "Epoch 2, Iteration 35736 in 1.47 seconds. Samples per second 24234.59\n",
      "Epoch 3, Iteration 35736 in 1.72 seconds. Samples per second 20763.44\n",
      "Epoch 4, Iteration 35736 in 1.79 seconds. Samples per second 20006.35\n",
      "Epoch 5, Iteration 35736 in 1.78 seconds. Samples per second 20083.22\n",
      "Epoch 6, Iteration 35736 in 1.80 seconds. Samples per second 19813.47\n",
      "Epoch 7, Iteration 35736 in 1.84 seconds. Samples per second 19393.88\n",
      "Epoch 8, Iteration 35736 in 1.82 seconds. Samples per second 19641.91\n",
      "Epoch 9, Iteration 35736 in 1.84 seconds. Samples per second 19444.63\n",
      "Epoch 10, Iteration 35736 in 1.89 seconds. Samples per second 18901.47\n",
      "Epoch 11, Iteration 35736 in 1.90 seconds. Samples per second 18831.99\n",
      "Epoch 12, Iteration 35736 in 1.88 seconds. Samples per second 18967.81\n",
      "Epoch 13, Iteration 35736 in 1.90 seconds. Samples per second 18763.90\n",
      "Epoch 14, Iteration 35736 in 1.89 seconds. Samples per second 18897.41\n",
      "Epoch 15, Iteration 35736 in 1.90 seconds. Samples per second 18767.84\n",
      "Epoch 16, Iteration 35736 in 1.89 seconds. Samples per second 18875.84\n",
      "Epoch 17, Iteration 35736 in 1.93 seconds. Samples per second 18515.49\n",
      "Epoch 18, Iteration 35736 in 1.91 seconds. Samples per second 18753.11\n",
      "Epoch 19, Iteration 35736 in 1.91 seconds. Samples per second 18695.76\n",
      "Epoch 20, Iteration 35736 in 1.92 seconds. Samples per second 18586.30\n",
      "Epoch 21, Iteration 35736 in 1.89 seconds. Samples per second 18937.73\n",
      "Epoch 22, Iteration 35736 in 1.86 seconds. Samples per second 19203.27\n",
      "Epoch 23, Iteration 35736 in 1.92 seconds. Samples per second 18652.31\n",
      "Epoch 24, Iteration 35736 in 1.89 seconds. Samples per second 18881.03\n",
      "Epoch 25, Iteration 35736 in 1.88 seconds. Samples per second 19048.25\n",
      "Train completed in 0.76 minutes\n",
      "EvaluatorHoldout: Processed 34728 (100.0%) in 17.77 sec. Users per second: 1954\n"
     ]
    },
    {
     "name": "stderr",
     "output_type": "stream",
     "text": [
      "[I 2024-12-18 01:07:21,462] Trial 40 finished with value: 0.017685713097340648 and parameters: {'topK': 279, 'lambda_i': 0.0032019281509510452, 'lambda_j': 0.0008327979226036275, 'learning_rate': 0.2497209747407421}. Best is trial 34 with value: 0.018005800406241015.\n"
     ]
    },
    {
     "name": "stdout",
     "output_type": "stream",
     "text": [
      "Epoch 1, Iteration 35736 in 1.54 seconds. Samples per second 23178.45\n",
      "Epoch 2, Iteration 35736 in 1.77 seconds. Samples per second 20212.94\n",
      "Epoch 3, Iteration 35736 in 2.05 seconds. Samples per second 17447.01\n",
      "Epoch 4, Iteration 35736 in 2.00 seconds. Samples per second 17873.40\n",
      "Epoch 5, Iteration 35736 in 2.03 seconds. Samples per second 17577.03\n",
      "Epoch 6, Iteration 35736 in 2.02 seconds. Samples per second 17705.69\n",
      "Epoch 7, Iteration 35736 in 1.99 seconds. Samples per second 17967.34\n",
      "Epoch 8, Iteration 35736 in 2.00 seconds. Samples per second 17839.73\n",
      "Epoch 9, Iteration 35736 in 1.95 seconds. Samples per second 18333.84\n",
      "Epoch 10, Iteration 35736 in 1.92 seconds. Samples per second 18606.77\n",
      "Epoch 11, Iteration 35736 in 1.98 seconds. Samples per second 18047.38\n",
      "Epoch 12, Iteration 35736 in 1.93 seconds. Samples per second 18529.46\n",
      "Epoch 13, Iteration 35736 in 1.93 seconds. Samples per second 18482.94\n",
      "Epoch 14, Iteration 35736 in 1.97 seconds. Samples per second 18160.67\n",
      "Epoch 15, Iteration 35736 in 1.96 seconds. Samples per second 18221.26\n",
      "Epoch 16, Iteration 35736 in 2.01 seconds. Samples per second 17806.81\n",
      "Epoch 17, Iteration 35736 in 1.98 seconds. Samples per second 18003.17\n",
      "Epoch 18, Iteration 35736 in 1.96 seconds. Samples per second 18226.42\n",
      "Epoch 19, Iteration 35736 in 1.95 seconds. Samples per second 18344.67\n",
      "Epoch 20, Iteration 35736 in 1.98 seconds. Samples per second 18006.36\n",
      "Epoch 21, Iteration 35736 in 2.00 seconds. Samples per second 17847.69\n",
      "Epoch 22, Iteration 35736 in 1.98 seconds. Samples per second 18026.40\n",
      "Epoch 23, Iteration 35736 in 1.90 seconds. Samples per second 18818.16\n",
      "Epoch 24, Iteration 35736 in 1.98 seconds. Samples per second 18068.09\n",
      "Epoch 25, Iteration 35736 in 2.01 seconds. Samples per second 17817.77\n",
      "Train completed in 0.81 minutes\n",
      "EvaluatorHoldout: Processed 34728 (100.0%) in 17.12 sec. Users per second: 2028\n"
     ]
    },
    {
     "name": "stderr",
     "output_type": "stream",
     "text": [
      "[I 2024-12-18 01:08:44,656] Trial 41 finished with value: 0.017779097558166392 and parameters: {'topK': 256, 'lambda_i': 0.001964173673810711, 'lambda_j': 0.0006382966999000325, 'learning_rate': 0.18445869138099918}. Best is trial 34 with value: 0.018005800406241015.\n"
     ]
    },
    {
     "name": "stdout",
     "output_type": "stream",
     "text": [
      "Epoch 1, Iteration 35736 in 1.41 seconds. Samples per second 25410.69\n",
      "Epoch 2, Iteration 35736 in 1.58 seconds. Samples per second 22670.12\n",
      "Epoch 3, Iteration 35736 in 1.74 seconds. Samples per second 20485.96\n",
      "Epoch 4, Iteration 35736 in 1.87 seconds. Samples per second 19104.01\n",
      "Epoch 5, Iteration 35736 in 1.90 seconds. Samples per second 18841.63\n",
      "Epoch 6, Iteration 35736 in 1.88 seconds. Samples per second 19023.35\n",
      "Epoch 7, Iteration 35736 in 1.88 seconds. Samples per second 19051.76\n",
      "Epoch 8, Iteration 35736 in 1.90 seconds. Samples per second 18831.75\n",
      "Epoch 9, Iteration 35736 in 1.93 seconds. Samples per second 18529.57\n",
      "Epoch 10, Iteration 35736 in 1.91 seconds. Samples per second 18729.05\n",
      "Epoch 11, Iteration 35736 in 1.92 seconds. Samples per second 18587.88\n",
      "Epoch 12, Iteration 35736 in 1.92 seconds. Samples per second 18639.35\n",
      "Epoch 13, Iteration 35736 in 1.90 seconds. Samples per second 18845.78\n",
      "Epoch 14, Iteration 35736 in 1.92 seconds. Samples per second 18650.29\n",
      "Epoch 15, Iteration 35736 in 1.92 seconds. Samples per second 18587.02\n",
      "Epoch 16, Iteration 35736 in 1.92 seconds. Samples per second 18651.57\n",
      "Epoch 17, Iteration 35736 in 1.97 seconds. Samples per second 18144.30\n",
      "Epoch 18, Iteration 35736 in 1.93 seconds. Samples per second 18553.02\n",
      "Epoch 19, Iteration 35736 in 1.96 seconds. Samples per second 18220.94\n",
      "Epoch 20, Iteration 35736 in 1.99 seconds. Samples per second 17980.94\n",
      "Epoch 21, Iteration 35736 in 1.96 seconds. Samples per second 18189.82\n",
      "Epoch 22, Iteration 35736 in 2.00 seconds. Samples per second 17869.52\n",
      "Epoch 23, Iteration 35736 in 1.98 seconds. Samples per second 18044.65\n",
      "Epoch 24, Iteration 35736 in 2.01 seconds. Samples per second 17819.35\n",
      "Epoch 25, Iteration 35736 in 1.97 seconds. Samples per second 18178.23\n",
      "Train completed in 0.79 minutes\n",
      "EvaluatorHoldout: Processed 34728 (100.0%) in 17.24 sec. Users per second: 2014\n"
     ]
    },
    {
     "name": "stderr",
     "output_type": "stream",
     "text": [
      "[I 2024-12-18 01:10:06,504] Trial 42 finished with value: 0.017746229884490178 and parameters: {'topK': 263, 'lambda_i': 0.003049075539033852, 'lambda_j': 0.0008002226349357909, 'learning_rate': 0.226584707357534}. Best is trial 34 with value: 0.018005800406241015.\n"
     ]
    },
    {
     "name": "stdout",
     "output_type": "stream",
     "text": [
      "Epoch 1, Iteration 35736 in 1.40 seconds. Samples per second 25608.03\n",
      "Epoch 2, Iteration 35736 in 1.53 seconds. Samples per second 23316.22\n",
      "Epoch 3, Iteration 35736 in 1.75 seconds. Samples per second 20364.11\n",
      "Epoch 4, Iteration 35736 in 1.74 seconds. Samples per second 20543.23\n",
      "Epoch 5, Iteration 35736 in 1.84 seconds. Samples per second 19395.86\n",
      "Epoch 6, Iteration 35736 in 1.87 seconds. Samples per second 19068.20\n",
      "Epoch 7, Iteration 35736 in 1.93 seconds. Samples per second 18533.77\n",
      "Epoch 8, Iteration 35736 in 1.87 seconds. Samples per second 19141.71\n",
      "Epoch 9, Iteration 35736 in 2.02 seconds. Samples per second 17674.43\n",
      "Epoch 10, Iteration 35736 in 1.98 seconds. Samples per second 18053.57\n",
      "Epoch 11, Iteration 35736 in 1.92 seconds. Samples per second 18580.31\n",
      "Epoch 12, Iteration 35736 in 1.92 seconds. Samples per second 18616.14\n",
      "Epoch 13, Iteration 35736 in 1.91 seconds. Samples per second 18692.48\n",
      "Epoch 14, Iteration 35736 in 1.94 seconds. Samples per second 18428.53\n",
      "Epoch 15, Iteration 35736 in 1.98 seconds. Samples per second 18048.31\n",
      "Epoch 16, Iteration 35736 in 1.98 seconds. Samples per second 18047.59\n",
      "Epoch 17, Iteration 35736 in 1.92 seconds. Samples per second 18568.54\n",
      "Epoch 18, Iteration 35736 in 1.93 seconds. Samples per second 18489.67\n",
      "Epoch 19, Iteration 35736 in 1.92 seconds. Samples per second 18634.20\n",
      "Epoch 20, Iteration 35736 in 1.95 seconds. Samples per second 18332.50\n",
      "Epoch 21, Iteration 35736 in 1.97 seconds. Samples per second 18172.76\n",
      "Epoch 22, Iteration 35736 in 1.96 seconds. Samples per second 18272.35\n",
      "Epoch 23, Iteration 35736 in 1.98 seconds. Samples per second 18021.16\n",
      "Epoch 24, Iteration 35736 in 1.95 seconds. Samples per second 18342.24\n",
      "Epoch 25, Iteration 35736 in 2.04 seconds. Samples per second 17479.79\n",
      "Train completed in 0.79 minutes\n",
      "EvaluatorHoldout: Processed 34728 (100.0%) in 17.02 sec. Users per second: 2040\n"
     ]
    },
    {
     "name": "stderr",
     "output_type": "stream",
     "text": [
      "[I 2024-12-18 01:11:28,008] Trial 43 finished with value: 0.017687710479262084 and parameters: {'topK': 255, 'lambda_i': 0.004995705446666314, 'lambda_j': 0.0009211893405803803, 'learning_rate': 0.3830171642198614}. Best is trial 34 with value: 0.018005800406241015.\n"
     ]
    },
    {
     "name": "stdout",
     "output_type": "stream",
     "text": [
      "Epoch 1, Iteration 35736 in 1.40 seconds. Samples per second 25525.48\n",
      "Epoch 2, Iteration 35736 in 1.58 seconds. Samples per second 22583.29\n",
      "Epoch 3, Iteration 35736 in 1.78 seconds. Samples per second 20068.66\n",
      "Epoch 4, Iteration 35736 in 1.79 seconds. Samples per second 19962.25\n",
      "Epoch 5, Iteration 35736 in 1.77 seconds. Samples per second 20241.76\n",
      "Epoch 6, Iteration 35736 in 1.87 seconds. Samples per second 19147.45\n",
      "Epoch 7, Iteration 35736 in 1.86 seconds. Samples per second 19207.47\n",
      "Epoch 8, Iteration 35736 in 1.86 seconds. Samples per second 19241.93\n",
      "Epoch 9, Iteration 35736 in 1.90 seconds. Samples per second 18851.76\n",
      "Epoch 10, Iteration 35736 in 1.85 seconds. Samples per second 19332.07\n",
      "Epoch 11, Iteration 35736 in 1.90 seconds. Samples per second 18789.67\n",
      "Epoch 12, Iteration 35736 in 1.88 seconds. Samples per second 19044.40\n",
      "Epoch 13, Iteration 35736 in 1.88 seconds. Samples per second 18997.48\n",
      "Epoch 14, Iteration 35736 in 1.94 seconds. Samples per second 18432.93\n",
      "Epoch 15, Iteration 35736 in 1.94 seconds. Samples per second 18429.06\n",
      "Epoch 16, Iteration 35736 in 1.92 seconds. Samples per second 18653.04\n",
      "Epoch 17, Iteration 35736 in 1.90 seconds. Samples per second 18797.01\n",
      "Epoch 18, Iteration 35736 in 1.92 seconds. Samples per second 18569.11\n",
      "Epoch 19, Iteration 35736 in 1.93 seconds. Samples per second 18560.19\n",
      "Epoch 20, Iteration 35736 in 1.95 seconds. Samples per second 18359.84\n",
      "Epoch 21, Iteration 35736 in 1.94 seconds. Samples per second 18396.53\n",
      "Epoch 22, Iteration 35736 in 1.93 seconds. Samples per second 18524.90\n",
      "Epoch 23, Iteration 35736 in 1.91 seconds. Samples per second 18749.69\n",
      "Epoch 24, Iteration 35736 in 1.91 seconds. Samples per second 18741.17\n",
      "Epoch 25, Iteration 35736 in 1.93 seconds. Samples per second 18502.53\n",
      "Train completed in 0.77 minutes\n",
      "EvaluatorHoldout: Processed 34728 (100.0%) in 17.30 sec. Users per second: 2007\n"
     ]
    },
    {
     "name": "stderr",
     "output_type": "stream",
     "text": [
      "[I 2024-12-18 01:12:49,029] Trial 44 finished with value: 0.01771724385062334 and parameters: {'topK': 268, 'lambda_i': 0.009175042656740238, 'lambda_j': 0.0006650142660652217, 'learning_rate': 0.2851252856876304}. Best is trial 34 with value: 0.018005800406241015.\n"
     ]
    },
    {
     "name": "stdout",
     "output_type": "stream",
     "text": [
      "Epoch 1, Iteration 35736 in 1.40 seconds. Samples per second 25611.26\n",
      "Epoch 2, Iteration 35736 in 1.57 seconds. Samples per second 22834.24\n",
      "Epoch 3, Iteration 35736 in 1.76 seconds. Samples per second 20309.17\n",
      "Epoch 4, Iteration 35736 in 1.86 seconds. Samples per second 19216.81\n",
      "Epoch 5, Iteration 35736 in 1.84 seconds. Samples per second 19465.54\n",
      "Epoch 6, Iteration 35736 in 1.85 seconds. Samples per second 19339.66\n",
      "Epoch 7, Iteration 35736 in 1.86 seconds. Samples per second 19241.25\n",
      "Epoch 8, Iteration 35736 in 1.89 seconds. Samples per second 18914.63\n",
      "Epoch 9, Iteration 35736 in 1.91 seconds. Samples per second 18662.01\n",
      "Epoch 10, Iteration 35736 in 1.91 seconds. Samples per second 18718.25\n",
      "Epoch 11, Iteration 35736 in 1.86 seconds. Samples per second 19189.41\n",
      "Epoch 12, Iteration 35736 in 1.88 seconds. Samples per second 18980.60\n",
      "Epoch 13, Iteration 35736 in 1.87 seconds. Samples per second 19136.50\n",
      "Epoch 14, Iteration 35736 in 1.89 seconds. Samples per second 18901.02\n",
      "Epoch 15, Iteration 35736 in 1.88 seconds. Samples per second 18986.99\n",
      "Epoch 16, Iteration 35736 in 1.89 seconds. Samples per second 18912.00\n",
      "Epoch 17, Iteration 35736 in 1.90 seconds. Samples per second 18776.04\n",
      "Epoch 18, Iteration 35736 in 1.95 seconds. Samples per second 18351.52\n",
      "Epoch 19, Iteration 35736 in 1.93 seconds. Samples per second 18561.03\n",
      "Epoch 20, Iteration 35736 in 1.87 seconds. Samples per second 19141.01\n",
      "Epoch 21, Iteration 35736 in 1.99 seconds. Samples per second 17922.62\n",
      "Epoch 22, Iteration 35736 in 1.95 seconds. Samples per second 18279.53\n",
      "Epoch 23, Iteration 35736 in 1.93 seconds. Samples per second 18481.28\n",
      "Epoch 24, Iteration 35736 in 1.97 seconds. Samples per second 18107.44\n",
      "Epoch 25, Iteration 35736 in 2.10 seconds. Samples per second 17054.65\n",
      "Train completed in 0.78 minutes\n",
      "EvaluatorHoldout: Processed 34728 (100.0%) in 17.04 sec. Users per second: 2038\n"
     ]
    },
    {
     "name": "stderr",
     "output_type": "stream",
     "text": [
      "[I 2024-12-18 01:14:09,778] Trial 45 finished with value: 0.017891716532654787 and parameters: {'topK': 255, 'lambda_i': 0.007366313404442484, 'lambda_j': 0.0010990446092696473, 'learning_rate': 0.31082592182746843}. Best is trial 34 with value: 0.018005800406241015.\n"
     ]
    },
    {
     "name": "stdout",
     "output_type": "stream",
     "text": [
      "Epoch 1, Iteration 35736 in 1.38 seconds. Samples per second 25943.01\n",
      "Epoch 2, Iteration 35736 in 1.49 seconds. Samples per second 24057.29\n",
      "Epoch 3, Iteration 35736 in 1.68 seconds. Samples per second 21261.27\n",
      "Epoch 4, Iteration 35736 in 1.73 seconds. Samples per second 20665.69\n",
      "Epoch 5, Iteration 35736 in 1.76 seconds. Samples per second 20336.30\n",
      "Epoch 6, Iteration 35736 in 1.80 seconds. Samples per second 19830.42\n",
      "Epoch 7, Iteration 35736 in 1.81 seconds. Samples per second 19721.14\n",
      "Epoch 8, Iteration 35736 in 1.85 seconds. Samples per second 19264.73\n",
      "Epoch 9, Iteration 35736 in 1.85 seconds. Samples per second 19292.73\n",
      "Epoch 10, Iteration 35736 in 1.82 seconds. Samples per second 19593.98\n",
      "Epoch 11, Iteration 35736 in 1.83 seconds. Samples per second 19546.13\n",
      "Epoch 12, Iteration 35736 in 1.85 seconds. Samples per second 19308.48\n",
      "Epoch 13, Iteration 35736 in 1.84 seconds. Samples per second 19405.49\n",
      "Epoch 14, Iteration 35736 in 1.88 seconds. Samples per second 19054.45\n",
      "Epoch 15, Iteration 35736 in 1.86 seconds. Samples per second 19247.79\n",
      "Epoch 16, Iteration 35736 in 1.87 seconds. Samples per second 19134.57\n",
      "Epoch 17, Iteration 35736 in 1.88 seconds. Samples per second 18958.92\n",
      "Epoch 18, Iteration 35736 in 1.84 seconds. Samples per second 19404.16\n",
      "Epoch 19, Iteration 35736 in 1.86 seconds. Samples per second 19218.89\n",
      "Epoch 20, Iteration 35736 in 1.84 seconds. Samples per second 19369.92\n",
      "Epoch 21, Iteration 35736 in 1.85 seconds. Samples per second 19308.07\n",
      "Epoch 22, Iteration 35736 in 1.90 seconds. Samples per second 18825.90\n",
      "Epoch 23, Iteration 35736 in 1.91 seconds. Samples per second 18752.44\n",
      "Epoch 24, Iteration 35736 in 1.87 seconds. Samples per second 19060.84\n",
      "Epoch 25, Iteration 35736 in 1.92 seconds. Samples per second 18631.21\n",
      "Train completed in 0.75 minutes\n",
      "EvaluatorHoldout: Processed 34728 (100.0%) in 17.14 sec. Users per second: 2026\n"
     ]
    },
    {
     "name": "stderr",
     "output_type": "stream",
     "text": [
      "[I 2024-12-18 01:15:29,195] Trial 46 finished with value: 0.01768729683380694 and parameters: {'topK': 261, 'lambda_i': 0.00612237753961852, 'lambda_j': 0.0003544536521678617, 'learning_rate': 0.43094867645753043}. Best is trial 34 with value: 0.018005800406241015.\n"
     ]
    },
    {
     "name": "stdout",
     "output_type": "stream",
     "text": [
      "Epoch 1, Iteration 35736 in 1.39 seconds. Samples per second 25672.84\n",
      "Epoch 2, Iteration 35736 in 1.52 seconds. Samples per second 23449.08\n",
      "Epoch 3, Iteration 35736 in 1.74 seconds. Samples per second 20568.88\n",
      "Epoch 4, Iteration 35736 in 1.70 seconds. Samples per second 20997.87\n",
      "Epoch 5, Iteration 35736 in 1.79 seconds. Samples per second 19957.87\n",
      "Epoch 6, Iteration 35736 in 1.80 seconds. Samples per second 19806.18\n",
      "Epoch 7, Iteration 35736 in 1.81 seconds. Samples per second 19777.17\n",
      "Epoch 8, Iteration 35736 in 1.85 seconds. Samples per second 19328.04\n",
      "Epoch 9, Iteration 35736 in 1.83 seconds. Samples per second 19523.94\n",
      "Epoch 10, Iteration 35736 in 1.80 seconds. Samples per second 19834.49\n",
      "Epoch 11, Iteration 35736 in 1.85 seconds. Samples per second 19311.31\n",
      "Epoch 12, Iteration 35736 in 1.82 seconds. Samples per second 19676.53\n",
      "Epoch 13, Iteration 35736 in 1.87 seconds. Samples per second 19132.55\n",
      "Epoch 14, Iteration 35736 in 1.90 seconds. Samples per second 18804.48\n",
      "Epoch 15, Iteration 35736 in 1.90 seconds. Samples per second 18822.62\n",
      "Epoch 16, Iteration 35736 in 1.84 seconds. Samples per second 19434.06\n",
      "Epoch 17, Iteration 35736 in 1.90 seconds. Samples per second 18855.91\n",
      "Epoch 18, Iteration 35736 in 1.91 seconds. Samples per second 18675.66\n",
      "Epoch 19, Iteration 35736 in 1.92 seconds. Samples per second 18620.20\n",
      "Epoch 20, Iteration 35736 in 1.91 seconds. Samples per second 18662.20\n",
      "Epoch 21, Iteration 35736 in 1.88 seconds. Samples per second 18975.51\n",
      "Epoch 22, Iteration 35736 in 1.86 seconds. Samples per second 19212.19\n",
      "Epoch 23, Iteration 35736 in 1.90 seconds. Samples per second 18857.19\n",
      "Epoch 24, Iteration 35736 in 1.90 seconds. Samples per second 18776.51\n",
      "Epoch 25, Iteration 35736 in 1.89 seconds. Samples per second 18904.24\n",
      "Train completed in 0.76 minutes\n",
      "EvaluatorHoldout: Processed 34728 (100.0%) in 16.82 sec. Users per second: 2064\n"
     ]
    },
    {
     "name": "stderr",
     "output_type": "stream",
     "text": [
      "[I 2024-12-18 01:16:48,475] Trial 47 finished with value: 0.017928654386195918 and parameters: {'topK': 250, 'lambda_i': 0.0050574182201139, 'lambda_j': 0.00047420732871437737, 'learning_rate': 0.2442566476388224}. Best is trial 34 with value: 0.018005800406241015.\n"
     ]
    },
    {
     "name": "stdout",
     "output_type": "stream",
     "text": [
      "Epoch 1, Iteration 35736 in 1.37 seconds. Samples per second 26065.08\n",
      "Epoch 2, Iteration 35736 in 1.51 seconds. Samples per second 23719.54\n",
      "Epoch 3, Iteration 35736 in 1.64 seconds. Samples per second 21727.08\n",
      "Epoch 4, Iteration 35736 in 1.79 seconds. Samples per second 19924.68\n",
      "Epoch 5, Iteration 35736 in 1.83 seconds. Samples per second 19517.34\n",
      "Epoch 6, Iteration 35736 in 1.83 seconds. Samples per second 19480.97\n",
      "Epoch 7, Iteration 35736 in 1.82 seconds. Samples per second 19586.79\n",
      "Epoch 8, Iteration 35736 in 1.86 seconds. Samples per second 19241.11\n",
      "Epoch 9, Iteration 35736 in 1.88 seconds. Samples per second 18960.62\n",
      "Epoch 10, Iteration 35736 in 1.86 seconds. Samples per second 19221.47\n",
      "Epoch 11, Iteration 35736 in 1.88 seconds. Samples per second 19048.85\n",
      "Epoch 12, Iteration 35736 in 1.81 seconds. Samples per second 19715.88\n",
      "Epoch 13, Iteration 35736 in 1.84 seconds. Samples per second 19401.00\n",
      "Epoch 14, Iteration 35736 in 1.84 seconds. Samples per second 19400.78\n",
      "Epoch 15, Iteration 35736 in 1.81 seconds. Samples per second 19699.47\n",
      "Epoch 16, Iteration 35736 in 1.87 seconds. Samples per second 19117.83\n",
      "Epoch 17, Iteration 35736 in 1.86 seconds. Samples per second 19195.98\n",
      "Epoch 18, Iteration 35736 in 1.86 seconds. Samples per second 19170.58\n",
      "Epoch 19, Iteration 35736 in 1.88 seconds. Samples per second 19027.63\n",
      "Epoch 20, Iteration 35736 in 1.86 seconds. Samples per second 19194.91\n",
      "Epoch 21, Iteration 35736 in 1.91 seconds. Samples per second 18665.19\n",
      "Epoch 22, Iteration 35736 in 1.86 seconds. Samples per second 19238.36\n",
      "Epoch 23, Iteration 35736 in 1.88 seconds. Samples per second 18974.92\n",
      "Epoch 24, Iteration 35736 in 1.90 seconds. Samples per second 18793.45\n",
      "Epoch 25, Iteration 35736 in 1.86 seconds. Samples per second 19183.04\n",
      "Train completed in 0.76 minutes\n",
      "EvaluatorHoldout: Processed 34728 (100.0%) in 18.64 sec. Users per second: 1863\n"
     ]
    },
    {
     "name": "stderr",
     "output_type": "stream",
     "text": [
      "[I 2024-12-18 01:18:10,674] Trial 48 finished with value: 0.0173801319460443 and parameters: {'topK': 322, 'lambda_i': 0.00510178738500968, 'lambda_j': 0.0001272019002413665, 'learning_rate': 0.15252181076050003}. Best is trial 34 with value: 0.018005800406241015.\n"
     ]
    },
    {
     "name": "stdout",
     "output_type": "stream",
     "text": [
      "Epoch 1, Iteration 35736 in 1.37 seconds. Samples per second 26004.50\n",
      "Epoch 2, Iteration 35736 in 1.52 seconds. Samples per second 23467.27\n",
      "Epoch 3, Iteration 35736 in 1.69 seconds. Samples per second 21120.72\n",
      "Epoch 4, Iteration 35736 in 1.71 seconds. Samples per second 20869.64\n",
      "Epoch 5, Iteration 35736 in 1.74 seconds. Samples per second 20568.74\n",
      "Epoch 6, Iteration 35736 in 1.83 seconds. Samples per second 19572.73\n",
      "Epoch 7, Iteration 35736 in 1.81 seconds. Samples per second 19734.41\n",
      "Epoch 8, Iteration 35736 in 1.85 seconds. Samples per second 19281.35\n",
      "Epoch 9, Iteration 35736 in 1.84 seconds. Samples per second 19370.01\n",
      "Epoch 10, Iteration 35736 in 1.88 seconds. Samples per second 19035.82\n",
      "Epoch 11, Iteration 35736 in 1.85 seconds. Samples per second 19310.81\n",
      "Epoch 12, Iteration 35736 in 1.87 seconds. Samples per second 19131.92\n",
      "Epoch 13, Iteration 35736 in 1.87 seconds. Samples per second 19140.97\n",
      "Epoch 14, Iteration 35736 in 1.91 seconds. Samples per second 18693.04\n",
      "Epoch 15, Iteration 35736 in 1.87 seconds. Samples per second 19119.35\n",
      "Epoch 16, Iteration 35736 in 1.87 seconds. Samples per second 19112.50\n",
      "Epoch 17, Iteration 35736 in 1.90 seconds. Samples per second 18829.96\n",
      "Epoch 18, Iteration 35736 in 1.89 seconds. Samples per second 18861.44\n",
      "Epoch 19, Iteration 35736 in 1.87 seconds. Samples per second 19081.83\n",
      "Epoch 20, Iteration 35736 in 1.90 seconds. Samples per second 18812.96\n",
      "Epoch 21, Iteration 35736 in 1.94 seconds. Samples per second 18378.79\n",
      "Epoch 22, Iteration 35736 in 1.92 seconds. Samples per second 18634.24\n",
      "Epoch 23, Iteration 35736 in 2.01 seconds. Samples per second 17736.07\n",
      "Epoch 24, Iteration 35736 in 1.91 seconds. Samples per second 18731.53\n",
      "Epoch 25, Iteration 35736 in 1.95 seconds. Samples per second 18291.92\n",
      "Train completed in 0.76 minutes\n",
      "EvaluatorHoldout: Processed 34728 (100.0%) in 17.24 sec. Users per second: 2014\n"
     ]
    },
    {
     "name": "stderr",
     "output_type": "stream",
     "text": [
      "[I 2024-12-18 01:19:30,826] Trial 49 finished with value: 0.017521920923786898 and parameters: {'topK': 254, 'lambda_i': 0.008083738353250517, 'lambda_j': 0.0002858462012235679, 'learning_rate': 0.09128177791313749}. Best is trial 34 with value: 0.018005800406241015.\n"
     ]
    },
    {
     "name": "stdout",
     "output_type": "stream",
     "text": [
      "Epoch 1, Iteration 35736 in 1.39 seconds. Samples per second 25665.81\n",
      "Epoch 2, Iteration 35736 in 1.54 seconds. Samples per second 23187.11\n",
      "Epoch 3, Iteration 35736 in 1.75 seconds. Samples per second 20404.55\n",
      "Epoch 4, Iteration 35736 in 1.73 seconds. Samples per second 20607.53\n",
      "Epoch 5, Iteration 35736 in 1.77 seconds. Samples per second 20180.07\n",
      "Epoch 6, Iteration 35736 in 1.78 seconds. Samples per second 20064.38\n",
      "Epoch 7, Iteration 35736 in 1.76 seconds. Samples per second 20269.23\n",
      "Epoch 8, Iteration 35736 in 1.87 seconds. Samples per second 19153.99\n",
      "Epoch 9, Iteration 35736 in 1.83 seconds. Samples per second 19547.58\n",
      "Epoch 10, Iteration 35736 in 1.86 seconds. Samples per second 19207.32\n",
      "Epoch 11, Iteration 35736 in 1.86 seconds. Samples per second 19165.33\n",
      "Epoch 12, Iteration 35736 in 1.86 seconds. Samples per second 19163.12\n",
      "Epoch 13, Iteration 35736 in 1.89 seconds. Samples per second 18901.57\n",
      "Epoch 14, Iteration 35736 in 1.88 seconds. Samples per second 18958.28\n",
      "Epoch 15, Iteration 35736 in 1.90 seconds. Samples per second 18833.71\n",
      "Epoch 16, Iteration 35736 in 1.91 seconds. Samples per second 18751.17\n",
      "Epoch 17, Iteration 35736 in 1.88 seconds. Samples per second 19026.30\n",
      "Epoch 18, Iteration 35736 in 1.91 seconds. Samples per second 18702.90\n",
      "Epoch 19, Iteration 35736 in 1.92 seconds. Samples per second 18595.72\n",
      "Epoch 20, Iteration 35736 in 1.90 seconds. Samples per second 18806.26\n",
      "Epoch 21, Iteration 35736 in 1.95 seconds. Samples per second 18304.18\n",
      "Epoch 22, Iteration 35736 in 1.92 seconds. Samples per second 18602.94\n",
      "Epoch 23, Iteration 35736 in 1.96 seconds. Samples per second 18264.21\n",
      "Epoch 24, Iteration 35736 in 1.89 seconds. Samples per second 18927.55\n",
      "Epoch 25, Iteration 35736 in 1.91 seconds. Samples per second 18704.46\n",
      "Train completed in 0.76 minutes\n",
      "EvaluatorHoldout: Processed 34728 (100.0%) in 17.39 sec. Users per second: 1998\n"
     ]
    },
    {
     "name": "stderr",
     "output_type": "stream",
     "text": [
      "[I 2024-12-18 01:20:51,535] Trial 50 finished with value: 0.01782234978956643 and parameters: {'topK': 270, 'lambda_i': 0.006325019544399221, 'lambda_j': 0.0008618799474519826, 'learning_rate': 0.24536888550903413}. Best is trial 34 with value: 0.018005800406241015.\n"
     ]
    },
    {
     "name": "stdout",
     "output_type": "stream",
     "text": [
      "Epoch 1, Iteration 35736 in 1.39 seconds. Samples per second 25782.56\n",
      "Epoch 2, Iteration 35736 in 1.48 seconds. Samples per second 24220.09\n",
      "Epoch 3, Iteration 35736 in 1.72 seconds. Samples per second 20749.46\n",
      "Epoch 4, Iteration 35736 in 1.76 seconds. Samples per second 20359.08\n",
      "Epoch 5, Iteration 35736 in 1.77 seconds. Samples per second 20208.55\n",
      "Epoch 6, Iteration 35736 in 1.83 seconds. Samples per second 19506.89\n",
      "Epoch 7, Iteration 35736 in 1.86 seconds. Samples per second 19204.54\n",
      "Epoch 8, Iteration 35736 in 1.84 seconds. Samples per second 19383.34\n",
      "Epoch 9, Iteration 35736 in 1.85 seconds. Samples per second 19356.55\n",
      "Epoch 10, Iteration 35736 in 1.87 seconds. Samples per second 19129.47\n",
      "Epoch 11, Iteration 35736 in 1.87 seconds. Samples per second 19129.00\n",
      "Epoch 12, Iteration 35736 in 1.85 seconds. Samples per second 19349.04\n",
      "Epoch 13, Iteration 35736 in 1.87 seconds. Samples per second 19084.63\n",
      "Epoch 14, Iteration 35736 in 1.89 seconds. Samples per second 18872.26\n",
      "Epoch 15, Iteration 35736 in 1.88 seconds. Samples per second 19057.26\n",
      "Epoch 16, Iteration 35736 in 1.89 seconds. Samples per second 18891.66\n",
      "Epoch 17, Iteration 35736 in 1.89 seconds. Samples per second 18875.49\n",
      "Epoch 18, Iteration 35736 in 1.89 seconds. Samples per second 18941.15\n",
      "Epoch 19, Iteration 35736 in 1.92 seconds. Samples per second 18614.66\n",
      "Epoch 20, Iteration 35736 in 1.89 seconds. Samples per second 18935.52\n",
      "Epoch 21, Iteration 35736 in 1.91 seconds. Samples per second 18665.35\n",
      "Epoch 22, Iteration 35736 in 1.89 seconds. Samples per second 18908.77\n",
      "Epoch 23, Iteration 35736 in 1.92 seconds. Samples per second 18579.77\n",
      "Epoch 24, Iteration 35736 in 1.92 seconds. Samples per second 18596.89\n",
      "Epoch 25, Iteration 35736 in 1.96 seconds. Samples per second 18235.74\n",
      "Train completed in 0.76 minutes\n",
      "EvaluatorHoldout: Processed 34728 (100.0%) in 16.94 sec. Users per second: 2050\n"
     ]
    },
    {
     "name": "stderr",
     "output_type": "stream",
     "text": [
      "[I 2024-12-18 01:22:11,421] Trial 51 finished with value: 0.01777001335549198 and parameters: {'topK': 252, 'lambda_i': 0.0032553978340315584, 'lambda_j': 0.00046603923387992786, 'learning_rate': 0.21086925850721647}. Best is trial 34 with value: 0.018005800406241015.\n"
     ]
    },
    {
     "name": "stdout",
     "output_type": "stream",
     "text": [
      "Epoch 1, Iteration 35736 in 1.37 seconds. Samples per second 26010.04\n",
      "Epoch 2, Iteration 35736 in 1.53 seconds. Samples per second 23362.74\n",
      "Epoch 3, Iteration 35736 in 1.73 seconds. Samples per second 20651.86\n",
      "Epoch 4, Iteration 35736 in 1.76 seconds. Samples per second 20247.66\n",
      "Epoch 5, Iteration 35736 in 1.78 seconds. Samples per second 20058.05\n",
      "Epoch 6, Iteration 35736 in 1.81 seconds. Samples per second 19742.31\n",
      "Epoch 7, Iteration 35736 in 1.80 seconds. Samples per second 19840.02\n",
      "Epoch 8, Iteration 35736 in 1.80 seconds. Samples per second 19902.28\n",
      "Epoch 9, Iteration 35736 in 1.85 seconds. Samples per second 19326.46\n",
      "Epoch 10, Iteration 35736 in 1.86 seconds. Samples per second 19251.40\n",
      "Epoch 11, Iteration 35736 in 1.88 seconds. Samples per second 19030.03\n",
      "Epoch 12, Iteration 35736 in 1.86 seconds. Samples per second 19248.74\n",
      "Epoch 13, Iteration 35736 in 1.85 seconds. Samples per second 19353.16\n",
      "Epoch 14, Iteration 35736 in 1.90 seconds. Samples per second 18778.48\n",
      "Epoch 15, Iteration 35736 in 1.90 seconds. Samples per second 18809.94\n",
      "Epoch 16, Iteration 35736 in 1.93 seconds. Samples per second 18474.78\n",
      "Epoch 17, Iteration 35736 in 1.87 seconds. Samples per second 19103.79\n",
      "Epoch 18, Iteration 35736 in 2.03 seconds. Samples per second 17577.41\n",
      "Epoch 19, Iteration 35736 in 1.96 seconds. Samples per second 18270.47\n",
      "Epoch 20, Iteration 35736 in 1.90 seconds. Samples per second 18842.64\n",
      "Epoch 21, Iteration 35736 in 1.90 seconds. Samples per second 18772.48\n",
      "Epoch 22, Iteration 35736 in 1.94 seconds. Samples per second 18393.84\n",
      "Epoch 23, Iteration 35736 in 1.94 seconds. Samples per second 18451.81\n",
      "Epoch 24, Iteration 35736 in 1.93 seconds. Samples per second 18554.56\n",
      "Epoch 25, Iteration 35736 in 1.95 seconds. Samples per second 18324.09\n",
      "Train completed in 0.77 minutes\n",
      "EvaluatorHoldout: Processed 34728 (100.0%) in 17.26 sec. Users per second: 2012\n"
     ]
    },
    {
     "name": "stderr",
     "output_type": "stream",
     "text": [
      "[I 2024-12-18 01:23:32,094] Trial 52 finished with value: 0.017877277792403945 and parameters: {'topK': 264, 'lambda_i': 0.004376644151953641, 'lambda_j': 0.0005647261493021819, 'learning_rate': 0.2612425191744248}. Best is trial 34 with value: 0.018005800406241015.\n"
     ]
    },
    {
     "name": "stdout",
     "output_type": "stream",
     "text": [
      "Epoch 1, Iteration 35736 in 1.41 seconds. Samples per second 25357.13\n",
      "Epoch 2, Iteration 35736 in 1.48 seconds. Samples per second 24123.06\n",
      "Epoch 3, Iteration 35736 in 1.74 seconds. Samples per second 20572.18\n",
      "Epoch 4, Iteration 35736 in 1.78 seconds. Samples per second 20052.82\n",
      "Epoch 5, Iteration 35736 in 1.74 seconds. Samples per second 20547.74\n",
      "Epoch 6, Iteration 35736 in 1.85 seconds. Samples per second 19356.46\n",
      "Epoch 7, Iteration 35736 in 1.83 seconds. Samples per second 19482.54\n",
      "Epoch 8, Iteration 35736 in 1.82 seconds. Samples per second 19627.61\n",
      "Epoch 9, Iteration 35736 in 1.85 seconds. Samples per second 19331.57\n",
      "Epoch 10, Iteration 35736 in 1.86 seconds. Samples per second 19262.67\n",
      "Epoch 11, Iteration 35736 in 1.91 seconds. Samples per second 18698.16\n",
      "Epoch 12, Iteration 35736 in 1.89 seconds. Samples per second 18952.52\n",
      "Epoch 13, Iteration 35736 in 1.87 seconds. Samples per second 19140.14\n",
      "Epoch 14, Iteration 35736 in 1.92 seconds. Samples per second 18612.42\n",
      "Epoch 15, Iteration 35736 in 1.95 seconds. Samples per second 18348.06\n",
      "Epoch 16, Iteration 35736 in 1.90 seconds. Samples per second 18848.15\n",
      "Epoch 17, Iteration 35736 in 1.89 seconds. Samples per second 18896.80\n",
      "Epoch 18, Iteration 35736 in 1.93 seconds. Samples per second 18548.50\n",
      "Epoch 19, Iteration 35736 in 1.92 seconds. Samples per second 18596.85\n",
      "Epoch 20, Iteration 35736 in 1.94 seconds. Samples per second 18414.05\n",
      "Epoch 21, Iteration 35736 in 1.92 seconds. Samples per second 18645.66\n",
      "Epoch 22, Iteration 35736 in 1.91 seconds. Samples per second 18755.50\n",
      "Epoch 23, Iteration 35736 in 1.90 seconds. Samples per second 18814.49\n",
      "Epoch 24, Iteration 35736 in 1.88 seconds. Samples per second 18984.82\n",
      "Epoch 25, Iteration 35736 in 1.95 seconds. Samples per second 18352.96\n",
      "Train completed in 0.77 minutes\n",
      "EvaluatorHoldout: Processed 34728 (100.0%) in 16.95 sec. Users per second: 2049\n"
     ]
    },
    {
     "name": "stderr",
     "output_type": "stream",
     "text": [
      "[I 2024-12-18 01:24:52,424] Trial 53 finished with value: 0.017801454980748393 and parameters: {'topK': 250, 'lambda_i': 0.006942734891297534, 'lambda_j': 0.0009655163498934866, 'learning_rate': 0.18648558121588701}. Best is trial 34 with value: 0.018005800406241015.\n"
     ]
    },
    {
     "name": "stdout",
     "output_type": "stream",
     "text": [
      "Epoch 1, Iteration 35736 in 1.39 seconds. Samples per second 25750.39\n",
      "Epoch 2, Iteration 35736 in 1.51 seconds. Samples per second 23737.28\n",
      "Epoch 3, Iteration 35736 in 1.77 seconds. Samples per second 20156.29\n",
      "Epoch 4, Iteration 35736 in 1.77 seconds. Samples per second 20169.65\n",
      "Epoch 5, Iteration 35736 in 1.81 seconds. Samples per second 19768.18\n",
      "Epoch 6, Iteration 35736 in 1.87 seconds. Samples per second 19109.16\n",
      "Epoch 7, Iteration 35736 in 1.88 seconds. Samples per second 19031.62\n",
      "Epoch 8, Iteration 35736 in 1.88 seconds. Samples per second 19050.42\n",
      "Epoch 9, Iteration 35736 in 1.85 seconds. Samples per second 19290.78\n",
      "Epoch 10, Iteration 35736 in 1.87 seconds. Samples per second 19067.96\n",
      "Epoch 11, Iteration 35736 in 1.88 seconds. Samples per second 19042.59\n",
      "Epoch 12, Iteration 35736 in 1.85 seconds. Samples per second 19302.24\n",
      "Epoch 13, Iteration 35736 in 1.88 seconds. Samples per second 18971.35\n",
      "Epoch 14, Iteration 35736 in 1.89 seconds. Samples per second 18870.97\n",
      "Epoch 15, Iteration 35736 in 1.86 seconds. Samples per second 19169.49\n",
      "Epoch 16, Iteration 35736 in 1.87 seconds. Samples per second 19059.34\n",
      "Epoch 17, Iteration 35736 in 1.91 seconds. Samples per second 18708.51\n",
      "Epoch 18, Iteration 35736 in 1.91 seconds. Samples per second 18716.08\n",
      "Epoch 19, Iteration 35736 in 1.94 seconds. Samples per second 18443.70\n",
      "Epoch 20, Iteration 35736 in 1.91 seconds. Samples per second 18735.00\n",
      "Epoch 21, Iteration 35736 in 1.94 seconds. Samples per second 18458.37\n",
      "Epoch 22, Iteration 35736 in 1.96 seconds. Samples per second 18260.78\n",
      "Epoch 23, Iteration 35736 in 1.95 seconds. Samples per second 18308.37\n",
      "Epoch 24, Iteration 35736 in 1.94 seconds. Samples per second 18451.63\n",
      "Epoch 25, Iteration 35736 in 1.95 seconds. Samples per second 18287.47\n",
      "Train completed in 0.77 minutes\n",
      "EvaluatorHoldout: Processed 34728 (100.0%) in 17.13 sec. Users per second: 2027\n"
     ]
    },
    {
     "name": "stderr",
     "output_type": "stream",
     "text": [
      "[I 2024-12-18 01:26:13,274] Trial 54 finished with value: 0.017986897266009237 and parameters: {'topK': 259, 'lambda_i': 0.004134888834033267, 'lambda_j': 0.0007626571310134549, 'learning_rate': 0.29738244276106185}. Best is trial 34 with value: 0.018005800406241015.\n"
     ]
    },
    {
     "name": "stdout",
     "output_type": "stream",
     "text": [
      "Epoch 1, Iteration 35736 in 1.39 seconds. Samples per second 25617.28\n",
      "Epoch 2, Iteration 35736 in 1.53 seconds. Samples per second 23282.83\n",
      "Epoch 3, Iteration 35736 in 1.72 seconds. Samples per second 20778.73\n",
      "Epoch 4, Iteration 35736 in 1.80 seconds. Samples per second 19887.99\n",
      "Epoch 5, Iteration 35736 in 1.85 seconds. Samples per second 19348.61\n",
      "Epoch 6, Iteration 35736 in 1.87 seconds. Samples per second 19153.59\n",
      "Epoch 7, Iteration 35736 in 1.86 seconds. Samples per second 19208.38\n",
      "Epoch 8, Iteration 35736 in 1.87 seconds. Samples per second 19143.99\n",
      "Epoch 9, Iteration 35736 in 1.88 seconds. Samples per second 19016.43\n",
      "Epoch 10, Iteration 35736 in 1.85 seconds. Samples per second 19306.44\n",
      "Epoch 11, Iteration 35736 in 1.89 seconds. Samples per second 18940.90\n",
      "Epoch 12, Iteration 35736 in 1.91 seconds. Samples per second 18715.00\n",
      "Epoch 13, Iteration 35736 in 1.88 seconds. Samples per second 18976.09\n",
      "Epoch 14, Iteration 35736 in 1.93 seconds. Samples per second 18504.19\n",
      "Epoch 15, Iteration 35736 in 1.91 seconds. Samples per second 18741.32\n",
      "Epoch 16, Iteration 35736 in 1.90 seconds. Samples per second 18849.31\n",
      "Epoch 17, Iteration 35736 in 1.96 seconds. Samples per second 18244.89\n",
      "Epoch 18, Iteration 35736 in 1.88 seconds. Samples per second 18986.30\n",
      "Epoch 19, Iteration 35736 in 1.90 seconds. Samples per second 18814.00\n",
      "Epoch 20, Iteration 35736 in 1.89 seconds. Samples per second 18888.44\n",
      "Epoch 21, Iteration 35736 in 1.89 seconds. Samples per second 18927.02\n",
      "Epoch 22, Iteration 35736 in 1.92 seconds. Samples per second 18656.08\n",
      "Epoch 23, Iteration 35736 in 1.94 seconds. Samples per second 18377.03\n",
      "Epoch 24, Iteration 35736 in 1.90 seconds. Samples per second 18857.98\n",
      "Epoch 25, Iteration 35736 in 1.98 seconds. Samples per second 18058.32\n",
      "Train completed in 0.77 minutes\n",
      "EvaluatorHoldout: Processed 34728 (100.0%) in 17.15 sec. Users per second: 2025\n"
     ]
    },
    {
     "name": "stderr",
     "output_type": "stream",
     "text": [
      "[I 2024-12-18 01:27:34,150] Trial 55 finished with value: 0.01781927372999427 and parameters: {'topK': 261, 'lambda_i': 0.004915588937700508, 'lambda_j': 0.0007925421765014563, 'learning_rate': 0.2747285226101919}. Best is trial 34 with value: 0.018005800406241015.\n"
     ]
    },
    {
     "name": "stdout",
     "output_type": "stream",
     "text": [
      "Epoch 1, Iteration 35736 in 1.40 seconds. Samples per second 25610.39\n",
      "Epoch 2, Iteration 35736 in 1.57 seconds. Samples per second 22704.78\n",
      "Epoch 3, Iteration 35736 in 1.78 seconds. Samples per second 20115.29\n",
      "Epoch 4, Iteration 35736 in 1.75 seconds. Samples per second 20471.74\n",
      "Epoch 5, Iteration 35736 in 1.76 seconds. Samples per second 20297.73\n",
      "Epoch 6, Iteration 35736 in 1.81 seconds. Samples per second 19737.69\n",
      "Epoch 7, Iteration 35736 in 1.80 seconds. Samples per second 19873.07\n",
      "Epoch 8, Iteration 35736 in 1.83 seconds. Samples per second 19550.73\n",
      "Epoch 9, Iteration 35736 in 1.79 seconds. Samples per second 19993.14\n",
      "Epoch 10, Iteration 35736 in 1.89 seconds. Samples per second 18927.12\n",
      "Epoch 11, Iteration 35736 in 1.88 seconds. Samples per second 19030.69\n",
      "Epoch 12, Iteration 35736 in 1.89 seconds. Samples per second 18925.13\n",
      "Epoch 13, Iteration 35736 in 1.85 seconds. Samples per second 19286.21\n",
      "Epoch 14, Iteration 35736 in 1.87 seconds. Samples per second 19093.87\n",
      "Epoch 15, Iteration 35736 in 1.91 seconds. Samples per second 18674.64\n",
      "Epoch 16, Iteration 35736 in 1.89 seconds. Samples per second 18908.01\n",
      "Epoch 17, Iteration 35736 in 1.91 seconds. Samples per second 18750.03\n",
      "Epoch 18, Iteration 35736 in 1.92 seconds. Samples per second 18612.10\n",
      "Epoch 19, Iteration 35736 in 1.92 seconds. Samples per second 18608.11\n",
      "Epoch 20, Iteration 35736 in 1.91 seconds. Samples per second 18724.60\n",
      "Epoch 21, Iteration 35736 in 1.93 seconds. Samples per second 18516.38\n",
      "Epoch 22, Iteration 35736 in 1.92 seconds. Samples per second 18624.03\n",
      "Epoch 23, Iteration 35736 in 1.90 seconds. Samples per second 18853.45\n",
      "Epoch 24, Iteration 35736 in 1.89 seconds. Samples per second 18866.72\n",
      "Epoch 25, Iteration 35736 in 1.93 seconds. Samples per second 18519.92\n",
      "Train completed in 0.76 minutes\n",
      "EvaluatorHoldout: Processed 34728 (100.0%) in 17.22 sec. Users per second: 2017\n"
     ]
    },
    {
     "name": "stderr",
     "output_type": "stream",
     "text": [
      "[I 2024-12-18 01:28:54,847] Trial 56 finished with value: 0.017808955446956584 and parameters: {'topK': 258, 'lambda_i': 0.012427758660567379, 'lambda_j': 0.0007556700815774416, 'learning_rate': 0.13825875212389802}. Best is trial 34 with value: 0.018005800406241015.\n"
     ]
    },
    {
     "name": "stdout",
     "output_type": "stream",
     "text": [
      "Epoch 1, Iteration 35736 in 1.38 seconds. Samples per second 25874.22\n",
      "Epoch 2, Iteration 35736 in 1.60 seconds. Samples per second 22273.21\n",
      "Epoch 3, Iteration 35736 in 1.77 seconds. Samples per second 20159.36\n",
      "Epoch 4, Iteration 35736 in 1.77 seconds. Samples per second 20228.07\n",
      "Epoch 5, Iteration 35736 in 1.82 seconds. Samples per second 19625.73\n",
      "Epoch 6, Iteration 35736 in 1.85 seconds. Samples per second 19311.07\n",
      "Epoch 7, Iteration 35736 in 1.85 seconds. Samples per second 19313.97\n",
      "Epoch 8, Iteration 35736 in 1.86 seconds. Samples per second 19166.54\n",
      "Epoch 9, Iteration 35736 in 1.89 seconds. Samples per second 18880.31\n",
      "Epoch 10, Iteration 35736 in 1.83 seconds. Samples per second 19479.33\n",
      "Epoch 11, Iteration 35736 in 1.92 seconds. Samples per second 18640.06\n",
      "Epoch 12, Iteration 35736 in 1.88 seconds. Samples per second 18963.46\n",
      "Epoch 13, Iteration 35736 in 1.88 seconds. Samples per second 19043.00\n",
      "Epoch 14, Iteration 35736 in 1.86 seconds. Samples per second 19166.24\n",
      "Epoch 15, Iteration 35736 in 1.89 seconds. Samples per second 18896.87\n",
      "Epoch 16, Iteration 35736 in 1.91 seconds. Samples per second 18709.13\n",
      "Epoch 17, Iteration 35736 in 1.89 seconds. Samples per second 18917.18\n",
      "Epoch 18, Iteration 35736 in 1.88 seconds. Samples per second 18970.00\n",
      "Epoch 19, Iteration 35736 in 1.97 seconds. Samples per second 18163.46\n",
      "Epoch 20, Iteration 35736 in 1.91 seconds. Samples per second 18709.62\n",
      "Epoch 21, Iteration 35736 in 1.91 seconds. Samples per second 18688.35\n",
      "Epoch 22, Iteration 35736 in 1.93 seconds. Samples per second 18556.61\n",
      "Epoch 23, Iteration 35736 in 1.93 seconds. Samples per second 18509.48\n",
      "Epoch 24, Iteration 35736 in 1.93 seconds. Samples per second 18521.62\n",
      "Epoch 25, Iteration 35736 in 1.93 seconds. Samples per second 18537.20\n",
      "Train completed in 0.77 minutes\n",
      "EvaluatorHoldout: Processed 34728 (100.0%) in 17.50 sec. Users per second: 1985\n"
     ]
    },
    {
     "name": "stderr",
     "output_type": "stream",
     "text": [
      "[I 2024-12-18 01:30:16,626] Trial 57 finished with value: 0.01785690289707229 and parameters: {'topK': 277, 'lambda_i': 0.00530386207474127, 'lambda_j': 0.000689373307570241, 'learning_rate': 0.22977186553541637}. Best is trial 34 with value: 0.018005800406241015.\n"
     ]
    },
    {
     "name": "stdout",
     "output_type": "stream",
     "text": [
      "Epoch 1, Iteration 35736 in 1.38 seconds. Samples per second 25977.24\n",
      "Epoch 2, Iteration 35736 in 1.49 seconds. Samples per second 23981.47\n",
      "Epoch 3, Iteration 35736 in 1.70 seconds. Samples per second 20978.59\n",
      "Epoch 4, Iteration 35736 in 1.77 seconds. Samples per second 20198.11\n",
      "Epoch 5, Iteration 35736 in 1.78 seconds. Samples per second 20109.34\n",
      "Epoch 6, Iteration 35736 in 1.80 seconds. Samples per second 19815.36\n",
      "Epoch 7, Iteration 35736 in 1.84 seconds. Samples per second 19447.40\n",
      "Epoch 8, Iteration 35736 in 1.91 seconds. Samples per second 18679.99\n",
      "Epoch 9, Iteration 35736 in 1.85 seconds. Samples per second 19296.53\n",
      "Epoch 10, Iteration 35736 in 1.87 seconds. Samples per second 19141.99\n",
      "Epoch 11, Iteration 35736 in 1.86 seconds. Samples per second 19163.48\n",
      "Epoch 12, Iteration 35736 in 1.90 seconds. Samples per second 18807.03\n",
      "Epoch 13, Iteration 35736 in 1.89 seconds. Samples per second 18931.26\n",
      "Epoch 14, Iteration 35736 in 1.90 seconds. Samples per second 18760.64\n",
      "Epoch 15, Iteration 35736 in 1.92 seconds. Samples per second 18647.82\n",
      "Epoch 16, Iteration 35736 in 1.96 seconds. Samples per second 18268.46\n",
      "Epoch 17, Iteration 35736 in 1.91 seconds. Samples per second 18663.53\n",
      "Epoch 18, Iteration 35736 in 1.99 seconds. Samples per second 17926.27\n",
      "Epoch 19, Iteration 35736 in 1.98 seconds. Samples per second 18043.02\n",
      "Epoch 20, Iteration 35736 in 1.90 seconds. Samples per second 18772.24\n",
      "Epoch 21, Iteration 35736 in 1.84 seconds. Samples per second 19378.04\n",
      "Epoch 22, Iteration 35736 in 1.88 seconds. Samples per second 19058.66\n",
      "Epoch 23, Iteration 35736 in 1.81 seconds. Samples per second 19697.74\n",
      "Epoch 24, Iteration 35736 in 1.96 seconds. Samples per second 18227.96\n",
      "Epoch 25, Iteration 35736 in 1.91 seconds. Samples per second 18681.58\n",
      "Train completed in 0.77 minutes\n",
      "EvaluatorHoldout: Processed 34728 (100.0%) in 17.40 sec. Users per second: 1995\n"
     ]
    },
    {
     "name": "stderr",
     "output_type": "stream",
     "text": [
      "[I 2024-12-18 01:31:37,603] Trial 58 finished with value: 0.017841468893861904 and parameters: {'topK': 265, 'lambda_i': 0.003998573236300661, 'lambda_j': 0.0006322590503604923, 'learning_rate': 0.17171980145387222}. Best is trial 34 with value: 0.018005800406241015.\n"
     ]
    },
    {
     "name": "stdout",
     "output_type": "stream",
     "text": [
      "Epoch 1, Iteration 35736 in 1.39 seconds. Samples per second 25740.97\n",
      "Epoch 2, Iteration 35736 in 1.48 seconds. Samples per second 24145.93\n",
      "Epoch 3, Iteration 35736 in 1.66 seconds. Samples per second 21517.25\n",
      "Epoch 4, Iteration 35736 in 1.74 seconds. Samples per second 20586.69\n",
      "Epoch 5, Iteration 35736 in 1.74 seconds. Samples per second 20590.33\n",
      "Epoch 6, Iteration 35736 in 1.78 seconds. Samples per second 20032.20\n",
      "Epoch 7, Iteration 35736 in 1.82 seconds. Samples per second 19677.24\n",
      "Epoch 8, Iteration 35736 in 1.80 seconds. Samples per second 19892.33\n",
      "Epoch 9, Iteration 35736 in 1.80 seconds. Samples per second 19801.81\n",
      "Epoch 10, Iteration 35736 in 1.87 seconds. Samples per second 19085.81\n",
      "Epoch 11, Iteration 35736 in 1.83 seconds. Samples per second 19536.93\n",
      "Epoch 12, Iteration 35736 in 1.87 seconds. Samples per second 19113.75\n",
      "Epoch 13, Iteration 35736 in 1.83 seconds. Samples per second 19546.22\n",
      "Epoch 14, Iteration 35736 in 1.90 seconds. Samples per second 18852.29\n",
      "Epoch 15, Iteration 35736 in 1.85 seconds. Samples per second 19310.17\n",
      "Epoch 16, Iteration 35736 in 1.85 seconds. Samples per second 19364.16\n",
      "Epoch 17, Iteration 35736 in 1.87 seconds. Samples per second 19136.82\n",
      "Epoch 18, Iteration 35736 in 1.88 seconds. Samples per second 18965.26\n",
      "Epoch 19, Iteration 35736 in 1.87 seconds. Samples per second 19139.28\n",
      "Epoch 20, Iteration 35736 in 1.94 seconds. Samples per second 18448.95\n",
      "Epoch 21, Iteration 35736 in 1.81 seconds. Samples per second 19705.66\n",
      "Epoch 22, Iteration 35736 in 1.85 seconds. Samples per second 19293.66\n",
      "Epoch 23, Iteration 35736 in 1.88 seconds. Samples per second 19047.18\n",
      "Epoch 24, Iteration 35736 in 1.88 seconds. Samples per second 18997.48\n",
      "Epoch 25, Iteration 35736 in 1.88 seconds. Samples per second 19008.78\n",
      "Train completed in 0.75 minutes\n",
      "EvaluatorHoldout: Processed 34728 (100.0%) in 16.94 sec. Users per second: 2050\n"
     ]
    },
    {
     "name": "stderr",
     "output_type": "stream",
     "text": [
      "[I 2024-12-18 01:32:57,079] Trial 59 finished with value: 0.017824667118248705 and parameters: {'topK': 254, 'lambda_i': 0.004656183639870358, 'lambda_j': 0.00038510965219823933, 'learning_rate': 0.3065721525779441}. Best is trial 34 with value: 0.018005800406241015.\n"
     ]
    },
    {
     "name": "stdout",
     "output_type": "stream",
     "text": [
      "Epoch 1, Iteration 35736 in 1.41 seconds. Samples per second 25327.33\n",
      "Epoch 2, Iteration 35736 in 1.64 seconds. Samples per second 21849.93\n",
      "Epoch 3, Iteration 35736 in 1.79 seconds. Samples per second 19914.72\n",
      "Epoch 4, Iteration 35736 in 1.76 seconds. Samples per second 20268.87\n",
      "Epoch 5, Iteration 35736 in 1.80 seconds. Samples per second 19811.10\n",
      "Epoch 6, Iteration 35736 in 1.83 seconds. Samples per second 19529.92\n",
      "Epoch 7, Iteration 35736 in 1.83 seconds. Samples per second 19524.69\n",
      "Epoch 8, Iteration 35736 in 1.88 seconds. Samples per second 18993.97\n",
      "Epoch 9, Iteration 35736 in 1.86 seconds. Samples per second 19247.45\n",
      "Epoch 10, Iteration 35736 in 1.85 seconds. Samples per second 19334.61\n",
      "Epoch 11, Iteration 35736 in 1.83 seconds. Samples per second 19505.22\n",
      "Epoch 12, Iteration 35736 in 1.85 seconds. Samples per second 19306.39\n",
      "Epoch 13, Iteration 35736 in 1.85 seconds. Samples per second 19291.28\n",
      "Epoch 14, Iteration 35736 in 1.89 seconds. Samples per second 18887.65\n",
      "Epoch 15, Iteration 35736 in 1.84 seconds. Samples per second 19462.62\n",
      "Epoch 16, Iteration 35736 in 1.90 seconds. Samples per second 18827.17\n",
      "Epoch 17, Iteration 35736 in 1.88 seconds. Samples per second 19038.88\n",
      "Epoch 18, Iteration 35736 in 1.90 seconds. Samples per second 18842.23\n",
      "Epoch 19, Iteration 35736 in 1.88 seconds. Samples per second 19054.31\n",
      "Epoch 20, Iteration 35736 in 1.87 seconds. Samples per second 19113.14\n",
      "Epoch 21, Iteration 35736 in 1.92 seconds. Samples per second 18598.14\n",
      "Epoch 22, Iteration 35736 in 1.90 seconds. Samples per second 18793.56\n",
      "Epoch 23, Iteration 35736 in 1.88 seconds. Samples per second 18971.63\n",
      "Epoch 24, Iteration 35736 in 1.93 seconds. Samples per second 18560.36\n",
      "Epoch 25, Iteration 35736 in 1.92 seconds. Samples per second 18643.80\n",
      "Train completed in 0.76 minutes\n",
      "EvaluatorHoldout: Processed 34728 (100.0%) in 17.92 sec. Users per second: 1938\n"
     ]
    },
    {
     "name": "stderr",
     "output_type": "stream",
     "text": [
      "[I 2024-12-18 01:34:19,237] Trial 60 finished with value: 0.01768802242735389 and parameters: {'topK': 295, 'lambda_i': 0.0028645952451233454, 'lambda_j': 0.0004454490375711728, 'learning_rate': 0.2948425530319404}. Best is trial 34 with value: 0.018005800406241015.\n"
     ]
    },
    {
     "name": "stdout",
     "output_type": "stream",
     "text": [
      "Epoch 1, Iteration 35736 in 1.40 seconds. Samples per second 25534.62\n",
      "Epoch 2, Iteration 35736 in 1.54 seconds. Samples per second 23277.03\n",
      "Epoch 3, Iteration 35736 in 1.78 seconds. Samples per second 20035.38\n",
      "Epoch 4, Iteration 35736 in 1.72 seconds. Samples per second 20782.30\n",
      "Epoch 5, Iteration 35736 in 1.79 seconds. Samples per second 19959.91\n",
      "Epoch 6, Iteration 35736 in 1.82 seconds. Samples per second 19603.02\n",
      "Epoch 7, Iteration 35736 in 1.84 seconds. Samples per second 19401.95\n",
      "Epoch 8, Iteration 35736 in 1.88 seconds. Samples per second 18977.31\n",
      "Epoch 9, Iteration 35736 in 1.83 seconds. Samples per second 19503.10\n",
      "Epoch 10, Iteration 35736 in 1.82 seconds. Samples per second 19683.01\n",
      "Epoch 11, Iteration 35736 in 1.85 seconds. Samples per second 19315.04\n",
      "Epoch 12, Iteration 35736 in 1.85 seconds. Samples per second 19316.35\n",
      "Epoch 13, Iteration 35736 in 1.89 seconds. Samples per second 18872.75\n",
      "Epoch 14, Iteration 35736 in 1.90 seconds. Samples per second 18832.21\n",
      "Epoch 15, Iteration 35736 in 1.89 seconds. Samples per second 18957.37\n",
      "Epoch 16, Iteration 35736 in 1.86 seconds. Samples per second 19188.59\n",
      "Epoch 17, Iteration 35736 in 1.86 seconds. Samples per second 19162.18\n",
      "Epoch 18, Iteration 35736 in 1.89 seconds. Samples per second 18881.37\n",
      "Epoch 19, Iteration 35736 in 1.92 seconds. Samples per second 18576.50\n",
      "Epoch 20, Iteration 35736 in 1.85 seconds. Samples per second 19317.34\n",
      "Epoch 21, Iteration 35736 in 1.97 seconds. Samples per second 18131.30\n",
      "Epoch 22, Iteration 35736 in 1.91 seconds. Samples per second 18711.25\n",
      "Epoch 23, Iteration 35736 in 1.94 seconds. Samples per second 18422.83\n",
      "Epoch 24, Iteration 35736 in 1.92 seconds. Samples per second 18651.07\n",
      "Epoch 25, Iteration 35736 in 1.94 seconds. Samples per second 18437.73\n",
      "Train completed in 0.76 minutes\n",
      "EvaluatorHoldout: Processed 34728 (100.0%) in 16.94 sec. Users per second: 2050\n"
     ]
    },
    {
     "name": "stderr",
     "output_type": "stream",
     "text": [
      "[I 2024-12-18 01:35:39,605] Trial 61 finished with value: 0.017914651002073276 and parameters: {'topK': 259, 'lambda_i': 0.0035382890417406535, 'lambda_j': 0.0005037141298670216, 'learning_rate': 0.34237157330401363}. Best is trial 34 with value: 0.018005800406241015.\n"
     ]
    },
    {
     "name": "stdout",
     "output_type": "stream",
     "text": [
      "Epoch 1, Iteration 35736 in 1.37 seconds. Samples per second 25993.11\n",
      "Epoch 2, Iteration 35736 in 1.51 seconds. Samples per second 23738.79\n",
      "Epoch 3, Iteration 35736 in 1.63 seconds. Samples per second 21929.11\n",
      "Epoch 4, Iteration 35736 in 1.79 seconds. Samples per second 19953.53\n",
      "Epoch 5, Iteration 35736 in 1.76 seconds. Samples per second 20269.70\n",
      "Epoch 6, Iteration 35736 in 1.81 seconds. Samples per second 19752.99\n",
      "Epoch 7, Iteration 35736 in 1.82 seconds. Samples per second 19641.07\n",
      "Epoch 8, Iteration 35736 in 1.84 seconds. Samples per second 19414.09\n",
      "Epoch 9, Iteration 35736 in 1.84 seconds. Samples per second 19446.27\n",
      "Epoch 10, Iteration 35736 in 1.85 seconds. Samples per second 19323.58\n",
      "Epoch 11, Iteration 35736 in 1.82 seconds. Samples per second 19655.28\n",
      "Epoch 12, Iteration 35736 in 1.90 seconds. Samples per second 18815.09\n",
      "Epoch 13, Iteration 35736 in 1.90 seconds. Samples per second 18840.39\n",
      "Epoch 14, Iteration 35736 in 1.88 seconds. Samples per second 18977.24\n",
      "Epoch 15, Iteration 35736 in 1.89 seconds. Samples per second 18900.58\n",
      "Epoch 16, Iteration 35736 in 1.88 seconds. Samples per second 19000.35\n",
      "Epoch 17, Iteration 35736 in 1.92 seconds. Samples per second 18648.54\n",
      "Epoch 18, Iteration 35736 in 1.90 seconds. Samples per second 18822.85\n",
      "Epoch 19, Iteration 35736 in 1.93 seconds. Samples per second 18495.20\n",
      "Epoch 20, Iteration 35736 in 1.90 seconds. Samples per second 18855.89\n",
      "Epoch 21, Iteration 35736 in 1.88 seconds. Samples per second 19031.14\n",
      "Epoch 22, Iteration 35736 in 1.91 seconds. Samples per second 18715.23\n",
      "Epoch 23, Iteration 35736 in 1.93 seconds. Samples per second 18527.39\n",
      "Epoch 24, Iteration 35736 in 1.88 seconds. Samples per second 18987.54\n",
      "Epoch 25, Iteration 35736 in 1.91 seconds. Samples per second 18738.77\n",
      "Train completed in 0.76 minutes\n",
      "EvaluatorHoldout: Processed 34728 (100.0%) in 16.87 sec. Users per second: 2059\n"
     ]
    },
    {
     "name": "stderr",
     "output_type": "stream",
     "text": [
      "[I 2024-12-18 01:36:59,506] Trial 62 finished with value: 0.017872219205581432 and parameters: {'topK': 252, 'lambda_i': 0.004140655631538379, 'lambda_j': 0.0005411693700770859, 'learning_rate': 0.326772723985703}. Best is trial 34 with value: 0.018005800406241015.\n"
     ]
    },
    {
     "name": "stdout",
     "output_type": "stream",
     "text": [
      "Epoch 1, Iteration 35736 in 1.40 seconds. Samples per second 25455.91\n",
      "Epoch 2, Iteration 35736 in 1.51 seconds. Samples per second 23714.61\n",
      "Epoch 3, Iteration 35736 in 1.67 seconds. Samples per second 21336.57\n",
      "Epoch 4, Iteration 35736 in 1.73 seconds. Samples per second 20606.93\n",
      "Epoch 5, Iteration 35736 in 1.76 seconds. Samples per second 20333.54\n",
      "Epoch 6, Iteration 35736 in 1.78 seconds. Samples per second 20126.93\n",
      "Epoch 7, Iteration 35736 in 1.86 seconds. Samples per second 19193.70\n",
      "Epoch 8, Iteration 35736 in 1.82 seconds. Samples per second 19608.66\n",
      "Epoch 9, Iteration 35736 in 1.79 seconds. Samples per second 20012.50\n",
      "Epoch 10, Iteration 35736 in 1.87 seconds. Samples per second 19095.22\n",
      "Epoch 11, Iteration 35736 in 1.86 seconds. Samples per second 19206.50\n",
      "Epoch 12, Iteration 35736 in 1.86 seconds. Samples per second 19263.05\n",
      "Epoch 13, Iteration 35736 in 1.86 seconds. Samples per second 19204.03\n",
      "Epoch 14, Iteration 35736 in 1.88 seconds. Samples per second 19016.30\n",
      "Epoch 15, Iteration 35736 in 1.87 seconds. Samples per second 19144.53\n",
      "Epoch 16, Iteration 35736 in 1.90 seconds. Samples per second 18804.00\n",
      "Epoch 17, Iteration 35736 in 1.83 seconds. Samples per second 19573.95\n",
      "Epoch 18, Iteration 35736 in 1.93 seconds. Samples per second 18489.40\n",
      "Epoch 19, Iteration 35736 in 1.90 seconds. Samples per second 18782.57\n",
      "Epoch 20, Iteration 35736 in 1.92 seconds. Samples per second 18587.57\n",
      "Epoch 21, Iteration 35736 in 1.92 seconds. Samples per second 18621.28\n",
      "Epoch 22, Iteration 35736 in 1.91 seconds. Samples per second 18684.19\n",
      "Epoch 23, Iteration 35736 in 1.91 seconds. Samples per second 18731.75\n",
      "Epoch 24, Iteration 35736 in 1.94 seconds. Samples per second 18394.90\n",
      "Epoch 25, Iteration 35736 in 1.92 seconds. Samples per second 18613.01\n",
      "Train completed in 0.76 minutes\n",
      "EvaluatorHoldout: Processed 34728 (100.0%) in 16.76 sec. Users per second: 2072\n"
     ]
    },
    {
     "name": "stderr",
     "output_type": "stream",
     "text": [
      "[I 2024-12-18 01:38:19,374] Trial 63 finished with value: 0.017728616815304826 and parameters: {'topK': 250, 'lambda_i': 0.0035580300018668515, 'lambda_j': 0.000760438028155096, 'learning_rate': 0.37447505433486916}. Best is trial 34 with value: 0.018005800406241015.\n"
     ]
    },
    {
     "name": "stdout",
     "output_type": "stream",
     "text": [
      "Epoch 1, Iteration 35736 in 1.38 seconds. Samples per second 25839.59\n",
      "Epoch 2, Iteration 35736 in 1.51 seconds. Samples per second 23637.52\n",
      "Epoch 3, Iteration 35736 in 1.72 seconds. Samples per second 20832.33\n",
      "Epoch 4, Iteration 35736 in 1.73 seconds. Samples per second 20715.92\n",
      "Epoch 5, Iteration 35736 in 1.76 seconds. Samples per second 20274.10\n",
      "Epoch 6, Iteration 35736 in 1.75 seconds. Samples per second 20367.16\n",
      "Epoch 7, Iteration 35736 in 1.86 seconds. Samples per second 19185.73\n",
      "Epoch 8, Iteration 35736 in 1.85 seconds. Samples per second 19299.53\n",
      "Epoch 9, Iteration 35736 in 1.87 seconds. Samples per second 19143.86\n",
      "Epoch 10, Iteration 35736 in 1.83 seconds. Samples per second 19530.29\n",
      "Epoch 11, Iteration 35736 in 1.87 seconds. Samples per second 19103.75\n",
      "Epoch 12, Iteration 35736 in 1.88 seconds. Samples per second 18991.21\n",
      "Epoch 13, Iteration 35736 in 1.86 seconds. Samples per second 19161.53\n",
      "Epoch 14, Iteration 35736 in 1.89 seconds. Samples per second 18879.26\n",
      "Epoch 15, Iteration 35736 in 1.87 seconds. Samples per second 19089.65\n",
      "Epoch 16, Iteration 35736 in 1.82 seconds. Samples per second 19590.47\n",
      "Epoch 17, Iteration 35736 in 1.89 seconds. Samples per second 18863.44\n",
      "Epoch 18, Iteration 35736 in 1.86 seconds. Samples per second 19162.61\n",
      "Epoch 19, Iteration 35736 in 1.88 seconds. Samples per second 18982.63\n",
      "Epoch 20, Iteration 35736 in 1.91 seconds. Samples per second 18663.79\n",
      "Epoch 21, Iteration 35736 in 1.89 seconds. Samples per second 18920.43\n",
      "Epoch 22, Iteration 35736 in 1.87 seconds. Samples per second 19063.77\n",
      "Epoch 23, Iteration 35736 in 1.91 seconds. Samples per second 18662.11\n",
      "Epoch 24, Iteration 35736 in 1.94 seconds. Samples per second 18407.65\n",
      "Epoch 25, Iteration 35736 in 1.91 seconds. Samples per second 18719.58\n",
      "Train completed in 0.76 minutes\n",
      "EvaluatorHoldout: Processed 34728 (100.0%) in 17.04 sec. Users per second: 2038\n"
     ]
    },
    {
     "name": "stderr",
     "output_type": "stream",
     "text": [
      "[I 2024-12-18 01:39:39,439] Trial 64 finished with value: 0.01793435058120627 and parameters: {'topK': 257, 'lambda_i': 0.006018660821712424, 'lambda_j': 0.0008537092060990106, 'learning_rate': 0.2622259741328365}. Best is trial 34 with value: 0.018005800406241015.\n"
     ]
    },
    {
     "name": "stdout",
     "output_type": "stream",
     "text": [
      "Epoch 1, Iteration 35736 in 1.39 seconds. Samples per second 25749.25\n",
      "Epoch 2, Iteration 35736 in 1.54 seconds. Samples per second 23182.27\n",
      "Epoch 3, Iteration 35736 in 1.77 seconds. Samples per second 20224.55\n",
      "Epoch 4, Iteration 35736 in 1.70 seconds. Samples per second 20988.51\n",
      "Epoch 5, Iteration 35736 in 1.77 seconds. Samples per second 20236.18\n",
      "Epoch 6, Iteration 35736 in 1.83 seconds. Samples per second 19568.51\n",
      "Epoch 7, Iteration 35736 in 1.83 seconds. Samples per second 19483.90\n",
      "Epoch 8, Iteration 35736 in 1.83 seconds. Samples per second 19560.13\n",
      "Epoch 9, Iteration 35736 in 1.83 seconds. Samples per second 19564.99\n",
      "Epoch 10, Iteration 35736 in 1.85 seconds. Samples per second 19329.90\n",
      "Epoch 11, Iteration 35736 in 1.86 seconds. Samples per second 19216.28\n",
      "Epoch 12, Iteration 35736 in 1.87 seconds. Samples per second 19101.21\n",
      "Epoch 13, Iteration 35736 in 1.93 seconds. Samples per second 18487.87\n",
      "Epoch 14, Iteration 35736 in 1.97 seconds. Samples per second 18157.16\n",
      "Epoch 15, Iteration 35736 in 1.93 seconds. Samples per second 18523.76\n",
      "Epoch 16, Iteration 35736 in 1.86 seconds. Samples per second 19175.38\n",
      "Epoch 17, Iteration 35736 in 1.91 seconds. Samples per second 18670.01\n",
      "Epoch 18, Iteration 35736 in 1.93 seconds. Samples per second 18470.82\n",
      "Epoch 19, Iteration 35736 in 1.91 seconds. Samples per second 18727.22\n",
      "Epoch 20, Iteration 35736 in 1.92 seconds. Samples per second 18636.63\n",
      "Epoch 21, Iteration 35736 in 1.89 seconds. Samples per second 18907.10\n",
      "Epoch 22, Iteration 35736 in 1.88 seconds. Samples per second 18994.75\n",
      "Epoch 23, Iteration 35736 in 1.94 seconds. Samples per second 18457.09\n",
      "Epoch 24, Iteration 35736 in 1.93 seconds. Samples per second 18526.31\n",
      "Epoch 25, Iteration 35736 in 1.93 seconds. Samples per second 18528.86\n",
      "Train completed in 0.77 minutes\n",
      "EvaluatorHoldout: Processed 34728 (100.0%) in 16.97 sec. Users per second: 2046\n"
     ]
    },
    {
     "name": "stderr",
     "output_type": "stream",
     "text": [
      "[I 2024-12-18 01:41:00,090] Trial 65 finished with value: 0.01781525725547856 and parameters: {'topK': 258, 'lambda_i': 0.0059565249148981776, 'lambda_j': 0.0008401170852509078, 'learning_rate': 0.2635604929903249}. Best is trial 34 with value: 0.018005800406241015.\n"
     ]
    },
    {
     "name": "stdout",
     "output_type": "stream",
     "text": [
      "Epoch 1, Iteration 35736 in 1.41 seconds. Samples per second 25387.77\n",
      "Epoch 2, Iteration 35736 in 1.59 seconds. Samples per second 22524.61\n",
      "Epoch 3, Iteration 35736 in 1.75 seconds. Samples per second 20365.86\n",
      "Epoch 4, Iteration 35736 in 1.77 seconds. Samples per second 20144.40\n",
      "Epoch 5, Iteration 35736 in 1.81 seconds. Samples per second 19732.58\n",
      "Epoch 6, Iteration 35736 in 1.83 seconds. Samples per second 19506.79\n",
      "Epoch 7, Iteration 35736 in 1.84 seconds. Samples per second 19410.56\n",
      "Epoch 8, Iteration 35736 in 1.88 seconds. Samples per second 18993.42\n",
      "Epoch 9, Iteration 35736 in 1.88 seconds. Samples per second 19000.98\n",
      "Epoch 10, Iteration 35736 in 1.89 seconds. Samples per second 18865.18\n",
      "Epoch 11, Iteration 35736 in 1.89 seconds. Samples per second 18880.14\n",
      "Epoch 12, Iteration 35736 in 1.87 seconds. Samples per second 19080.09\n",
      "Epoch 13, Iteration 35736 in 1.87 seconds. Samples per second 19153.67\n",
      "Epoch 14, Iteration 35736 in 1.88 seconds. Samples per second 19002.57\n",
      "Epoch 15, Iteration 35736 in 1.90 seconds. Samples per second 18853.14\n",
      "Epoch 16, Iteration 35736 in 1.91 seconds. Samples per second 18714.39\n",
      "Epoch 17, Iteration 35736 in 1.90 seconds. Samples per second 18846.49\n",
      "Epoch 18, Iteration 35736 in 1.92 seconds. Samples per second 18639.97\n",
      "Epoch 19, Iteration 35736 in 1.94 seconds. Samples per second 18383.36\n",
      "Epoch 20, Iteration 35736 in 1.91 seconds. Samples per second 18679.05\n",
      "Epoch 21, Iteration 35736 in 1.91 seconds. Samples per second 18743.94\n",
      "Epoch 22, Iteration 35736 in 1.96 seconds. Samples per second 18251.25\n",
      "Epoch 23, Iteration 35736 in 1.93 seconds. Samples per second 18556.40\n",
      "Epoch 24, Iteration 35736 in 1.95 seconds. Samples per second 18297.39\n",
      "Epoch 25, Iteration 35736 in 1.95 seconds. Samples per second 18305.23\n",
      "Train completed in 0.77 minutes\n",
      "EvaluatorHoldout: Processed 34728 (100.0%) in 17.41 sec. Users per second: 1995\n"
     ]
    },
    {
     "name": "stderr",
     "output_type": "stream",
     "text": [
      "[I 2024-12-18 01:42:21,776] Trial 66 finished with value: 0.01781398318177009 and parameters: {'topK': 271, 'lambda_i': 0.006811058231601216, 'lambda_j': 0.0009383981094869269, 'learning_rate': 0.22148114043645634}. Best is trial 34 with value: 0.018005800406241015.\n"
     ]
    },
    {
     "name": "stdout",
     "output_type": "stream",
     "text": [
      "Epoch 1, Iteration 35736 in 1.40 seconds. Samples per second 25571.49\n",
      "Epoch 2, Iteration 35736 in 1.55 seconds. Samples per second 23041.75\n",
      "Epoch 3, Iteration 35736 in 1.77 seconds. Samples per second 20186.60\n",
      "Epoch 4, Iteration 35736 in 1.72 seconds. Samples per second 20823.96\n",
      "Epoch 5, Iteration 35736 in 1.76 seconds. Samples per second 20277.69\n",
      "Epoch 6, Iteration 35736 in 1.80 seconds. Samples per second 19865.57\n",
      "Epoch 7, Iteration 35736 in 1.87 seconds. Samples per second 19104.02\n",
      "Epoch 8, Iteration 35736 in 1.84 seconds. Samples per second 19428.88\n",
      "Epoch 9, Iteration 35736 in 1.86 seconds. Samples per second 19261.70\n",
      "Epoch 10, Iteration 35736 in 1.87 seconds. Samples per second 19132.55\n",
      "Epoch 11, Iteration 35736 in 1.84 seconds. Samples per second 19419.03\n",
      "Epoch 12, Iteration 35736 in 1.89 seconds. Samples per second 18951.35\n",
      "Epoch 13, Iteration 35736 in 1.89 seconds. Samples per second 18929.15\n",
      "Epoch 14, Iteration 35736 in 1.91 seconds. Samples per second 18723.52\n",
      "Epoch 15, Iteration 35736 in 1.89 seconds. Samples per second 18932.41\n",
      "Epoch 16, Iteration 35736 in 1.86 seconds. Samples per second 19170.65\n",
      "Epoch 17, Iteration 35736 in 1.89 seconds. Samples per second 18955.12\n",
      "Epoch 18, Iteration 35736 in 1.92 seconds. Samples per second 18653.22\n",
      "Epoch 19, Iteration 35736 in 1.86 seconds. Samples per second 19187.54\n",
      "Epoch 20, Iteration 35736 in 1.90 seconds. Samples per second 18823.32\n",
      "Epoch 21, Iteration 35736 in 1.90 seconds. Samples per second 18768.76\n",
      "Epoch 22, Iteration 35736 in 1.87 seconds. Samples per second 19106.27\n",
      "Epoch 23, Iteration 35736 in 1.95 seconds. Samples per second 18342.98\n",
      "Epoch 24, Iteration 35736 in 1.90 seconds. Samples per second 18765.55\n",
      "Epoch 25, Iteration 35736 in 1.90 seconds. Samples per second 18846.59\n",
      "Train completed in 0.76 minutes\n",
      "EvaluatorHoldout: Processed 34728 (100.0%) in 17.27 sec. Users per second: 2011\n"
     ]
    },
    {
     "name": "stderr",
     "output_type": "stream",
     "text": [
      "[I 2024-12-18 01:43:42,548] Trial 67 finished with value: 0.0178995198056187 and parameters: {'topK': 261, 'lambda_i': 0.007759126257653942, 'lambda_j': 0.0007074283588310336, 'learning_rate': 0.19459268792694007}. Best is trial 34 with value: 0.018005800406241015.\n"
     ]
    },
    {
     "name": "stdout",
     "output_type": "stream",
     "text": [
      "Epoch 1, Iteration 35736 in 1.40 seconds. Samples per second 25464.42\n",
      "Epoch 2, Iteration 35736 in 1.51 seconds. Samples per second 23669.14\n",
      "Epoch 3, Iteration 35736 in 1.72 seconds. Samples per second 20836.30\n",
      "Epoch 4, Iteration 35736 in 1.75 seconds. Samples per second 20367.07\n",
      "Epoch 5, Iteration 35736 in 1.81 seconds. Samples per second 19748.47\n",
      "Epoch 6, Iteration 35736 in 1.80 seconds. Samples per second 19800.60\n",
      "Epoch 7, Iteration 35736 in 1.86 seconds. Samples per second 19230.05\n",
      "Epoch 8, Iteration 35736 in 1.82 seconds. Samples per second 19594.26\n",
      "Epoch 9, Iteration 35736 in 1.87 seconds. Samples per second 19097.90\n",
      "Epoch 10, Iteration 35736 in 1.85 seconds. Samples per second 19347.49\n",
      "Epoch 11, Iteration 35736 in 1.82 seconds. Samples per second 19602.70\n",
      "Epoch 12, Iteration 35736 in 1.95 seconds. Samples per second 18330.42\n",
      "Epoch 13, Iteration 35736 in 1.89 seconds. Samples per second 18866.92\n",
      "Epoch 14, Iteration 35736 in 1.93 seconds. Samples per second 18548.57\n",
      "Epoch 15, Iteration 35736 in 1.93 seconds. Samples per second 18544.27\n",
      "Epoch 16, Iteration 35736 in 1.91 seconds. Samples per second 18674.18\n",
      "Epoch 17, Iteration 35736 in 1.89 seconds. Samples per second 18887.48\n",
      "Epoch 18, Iteration 35736 in 1.93 seconds. Samples per second 18500.95\n",
      "Epoch 19, Iteration 35736 in 1.94 seconds. Samples per second 18417.51\n",
      "Epoch 20, Iteration 35736 in 1.91 seconds. Samples per second 18668.46\n",
      "Epoch 21, Iteration 35736 in 1.89 seconds. Samples per second 18919.64\n",
      "Epoch 22, Iteration 35736 in 1.95 seconds. Samples per second 18331.92\n",
      "Epoch 23, Iteration 35736 in 1.88 seconds. Samples per second 19003.87\n",
      "Epoch 24, Iteration 35736 in 1.99 seconds. Samples per second 17973.74\n",
      "Epoch 25, Iteration 35736 in 1.94 seconds. Samples per second 18451.94\n",
      "Train completed in 0.77 minutes\n",
      "EvaluatorHoldout: Processed 34728 (100.0%) in 17.34 sec. Users per second: 2003\n"
     ]
    },
    {
     "name": "stderr",
     "output_type": "stream",
     "text": [
      "[I 2024-12-18 01:45:03,910] Trial 68 finished with value: 0.017809193121693098 and parameters: {'topK': 266, 'lambda_i': 0.007334671829051062, 'lambda_j': 0.0008856070091597339, 'learning_rate': 0.23883268260330368}. Best is trial 34 with value: 0.018005800406241015.\n"
     ]
    },
    {
     "name": "stdout",
     "output_type": "stream",
     "text": [
      "Epoch 1, Iteration 35736 in 1.40 seconds. Samples per second 25478.60\n",
      "Epoch 2, Iteration 35736 in 1.55 seconds. Samples per second 23083.46\n",
      "Epoch 3, Iteration 35736 in 1.76 seconds. Samples per second 20342.97\n",
      "Epoch 4, Iteration 35736 in 1.73 seconds. Samples per second 20708.32\n",
      "Epoch 5, Iteration 35736 in 1.76 seconds. Samples per second 20351.05\n",
      "Epoch 6, Iteration 35736 in 1.80 seconds. Samples per second 19833.78\n",
      "Epoch 7, Iteration 35736 in 1.84 seconds. Samples per second 19451.09\n",
      "Epoch 8, Iteration 35736 in 1.78 seconds. Samples per second 20130.67\n",
      "Epoch 9, Iteration 35736 in 1.84 seconds. Samples per second 19442.70\n",
      "Epoch 10, Iteration 35736 in 1.87 seconds. Samples per second 19156.93\n",
      "Epoch 11, Iteration 35736 in 1.92 seconds. Samples per second 18605.73\n",
      "Epoch 12, Iteration 35736 in 1.88 seconds. Samples per second 19042.31\n",
      "Epoch 13, Iteration 35736 in 1.90 seconds. Samples per second 18845.54\n",
      "Epoch 14, Iteration 35736 in 1.88 seconds. Samples per second 19010.11\n",
      "Epoch 15, Iteration 35736 in 1.91 seconds. Samples per second 18740.87\n",
      "Epoch 16, Iteration 35736 in 1.86 seconds. Samples per second 19258.82\n",
      "Epoch 17, Iteration 35736 in 1.96 seconds. Samples per second 18214.87\n",
      "Epoch 18, Iteration 35736 in 1.92 seconds. Samples per second 18614.15\n",
      "Epoch 19, Iteration 35736 in 1.90 seconds. Samples per second 18782.43\n",
      "Epoch 20, Iteration 35736 in 1.95 seconds. Samples per second 18323.55\n",
      "Epoch 21, Iteration 35736 in 1.92 seconds. Samples per second 18639.34\n",
      "Epoch 22, Iteration 35736 in 1.93 seconds. Samples per second 18551.32\n",
      "Epoch 23, Iteration 35736 in 1.95 seconds. Samples per second 18305.87\n",
      "Epoch 24, Iteration 35736 in 1.97 seconds. Samples per second 18184.13\n",
      "Epoch 25, Iteration 35736 in 1.90 seconds. Samples per second 18844.02\n",
      "Train completed in 0.77 minutes\n",
      "EvaluatorHoldout: Processed 34728 (100.0%) in 16.98 sec. Users per second: 2046\n"
     ]
    },
    {
     "name": "stderr",
     "output_type": "stream",
     "text": [
      "[I 2024-12-18 01:46:24,636] Trial 69 finished with value: 0.017820718061086108 and parameters: {'topK': 254, 'lambda_i': 0.005312085942350771, 'lambda_j': 0.0008479822471353786, 'learning_rate': 0.2652945157781072}. Best is trial 34 with value: 0.018005800406241015.\n"
     ]
    },
    {
     "name": "stdout",
     "output_type": "stream",
     "text": [
      "Epoch 1, Iteration 35736 in 1.42 seconds. Samples per second 25182.48\n",
      "Epoch 2, Iteration 35736 in 1.60 seconds. Samples per second 22362.64\n",
      "Epoch 3, Iteration 35736 in 1.80 seconds. Samples per second 19876.73\n",
      "Epoch 4, Iteration 35736 in 1.71 seconds. Samples per second 20936.64\n",
      "Epoch 5, Iteration 35736 in 1.78 seconds. Samples per second 20067.68\n",
      "Epoch 6, Iteration 35736 in 1.83 seconds. Samples per second 19535.84\n",
      "Epoch 7, Iteration 35736 in 1.85 seconds. Samples per second 19331.15\n",
      "Epoch 8, Iteration 35736 in 1.86 seconds. Samples per second 19230.70\n",
      "Epoch 9, Iteration 35736 in 1.83 seconds. Samples per second 19490.27\n",
      "Epoch 10, Iteration 35736 in 1.87 seconds. Samples per second 19132.13\n",
      "Epoch 11, Iteration 35736 in 1.90 seconds. Samples per second 18845.46\n",
      "Epoch 12, Iteration 35736 in 1.90 seconds. Samples per second 18835.71\n",
      "Epoch 13, Iteration 35736 in 1.91 seconds. Samples per second 18693.35\n",
      "Epoch 14, Iteration 35736 in 1.88 seconds. Samples per second 18964.18\n",
      "Epoch 15, Iteration 35736 in 1.90 seconds. Samples per second 18799.82\n",
      "Epoch 16, Iteration 35736 in 1.88 seconds. Samples per second 18965.79\n",
      "Epoch 17, Iteration 35736 in 1.86 seconds. Samples per second 19212.48\n",
      "Epoch 18, Iteration 35736 in 1.92 seconds. Samples per second 18633.98\n",
      "Epoch 19, Iteration 35736 in 1.87 seconds. Samples per second 19143.29\n",
      "Epoch 20, Iteration 35736 in 1.92 seconds. Samples per second 18564.19\n",
      "Epoch 21, Iteration 35736 in 1.91 seconds. Samples per second 18739.70\n",
      "Epoch 22, Iteration 35736 in 1.94 seconds. Samples per second 18453.55\n",
      "Epoch 23, Iteration 35736 in 1.91 seconds. Samples per second 18687.13\n",
      "Epoch 24, Iteration 35736 in 1.92 seconds. Samples per second 18608.91\n",
      "Epoch 25, Iteration 35736 in 1.96 seconds. Samples per second 18228.63\n",
      "Train completed in 0.77 minutes\n",
      "EvaluatorHoldout: Processed 34728 (100.0%) in 18.25 sec. Users per second: 1903\n"
     ]
    },
    {
     "name": "stderr",
     "output_type": "stream",
     "text": [
      "[I 2024-12-18 01:47:47,522] Trial 70 finished with value: 0.017718609337691957 and parameters: {'topK': 310, 'lambda_i': 0.004641431213054775, 'lambda_j': 0.0007710623876537242, 'learning_rate': 0.202302040037827}. Best is trial 34 with value: 0.018005800406241015.\n"
     ]
    },
    {
     "name": "stdout",
     "output_type": "stream",
     "text": [
      "Epoch 1, Iteration 35736 in 1.40 seconds. Samples per second 25437.59\n",
      "Epoch 2, Iteration 35736 in 1.54 seconds. Samples per second 23216.90\n",
      "Epoch 3, Iteration 35736 in 1.74 seconds. Samples per second 20542.27\n",
      "Epoch 4, Iteration 35736 in 1.82 seconds. Samples per second 19673.71\n",
      "Epoch 5, Iteration 35736 in 1.81 seconds. Samples per second 19789.31\n",
      "Epoch 6, Iteration 35736 in 1.85 seconds. Samples per second 19281.60\n",
      "Epoch 7, Iteration 35736 in 1.82 seconds. Samples per second 19684.68\n",
      "Epoch 8, Iteration 35736 in 1.87 seconds. Samples per second 19111.51\n",
      "Epoch 9, Iteration 35736 in 1.89 seconds. Samples per second 18942.43\n",
      "Epoch 10, Iteration 35736 in 1.93 seconds. Samples per second 18487.55\n",
      "Epoch 11, Iteration 35736 in 1.91 seconds. Samples per second 18698.29\n",
      "Epoch 12, Iteration 35736 in 1.86 seconds. Samples per second 19224.27\n",
      "Epoch 13, Iteration 35736 in 2.00 seconds. Samples per second 17827.20\n",
      "Epoch 14, Iteration 35736 in 1.92 seconds. Samples per second 18611.64\n",
      "Epoch 15, Iteration 35736 in 1.87 seconds. Samples per second 19087.97\n",
      "Epoch 16, Iteration 35736 in 1.87 seconds. Samples per second 19080.70\n",
      "Epoch 17, Iteration 35736 in 1.87 seconds. Samples per second 19077.60\n",
      "Epoch 18, Iteration 35736 in 1.84 seconds. Samples per second 19454.07\n",
      "Epoch 19, Iteration 35736 in 1.84 seconds. Samples per second 19386.35\n",
      "Epoch 20, Iteration 35736 in 1.86 seconds. Samples per second 19252.13\n",
      "Epoch 21, Iteration 35736 in 1.86 seconds. Samples per second 19228.45\n",
      "Epoch 22, Iteration 35736 in 1.85 seconds. Samples per second 19278.99\n",
      "Epoch 23, Iteration 35736 in 1.87 seconds. Samples per second 19151.75\n",
      "Epoch 24, Iteration 35736 in 1.90 seconds. Samples per second 18853.48\n",
      "Epoch 25, Iteration 35736 in 1.91 seconds. Samples per second 18735.13\n",
      "Train completed in 0.76 minutes\n",
      "EvaluatorHoldout: Processed 34728 (100.0%) in 17.00 sec. Users per second: 2043\n"
     ]
    },
    {
     "name": "stderr",
     "output_type": "stream",
     "text": [
      "[I 2024-12-18 01:49:07,800] Trial 71 finished with value: 0.0179631503603515 and parameters: {'topK': 257, 'lambda_i': 0.0024181398084604216, 'lambda_j': 0.0006149355648276996, 'learning_rate': 0.3263531452487403}. Best is trial 34 with value: 0.018005800406241015.\n"
     ]
    },
    {
     "name": "stdout",
     "output_type": "stream",
     "text": [
      "Epoch 1, Iteration 35736 in 1.39 seconds. Samples per second 25666.40\n",
      "Epoch 2, Iteration 35736 in 1.45 seconds. Samples per second 24565.08\n",
      "Epoch 3, Iteration 35736 in 1.69 seconds. Samples per second 21118.51\n",
      "Epoch 4, Iteration 35736 in 1.73 seconds. Samples per second 20703.40\n",
      "Epoch 5, Iteration 35736 in 1.72 seconds. Samples per second 20783.96\n",
      "Epoch 6, Iteration 35736 in 1.78 seconds. Samples per second 20057.55\n",
      "Epoch 7, Iteration 35736 in 1.77 seconds. Samples per second 20172.91\n",
      "Epoch 8, Iteration 35736 in 1.81 seconds. Samples per second 19747.53\n",
      "Epoch 9, Iteration 35736 in 1.80 seconds. Samples per second 19852.73\n",
      "Epoch 10, Iteration 35736 in 1.82 seconds. Samples per second 19589.03\n",
      "Epoch 11, Iteration 35736 in 1.81 seconds. Samples per second 19704.15\n",
      "Epoch 12, Iteration 35736 in 1.92 seconds. Samples per second 18628.51\n",
      "Epoch 13, Iteration 35736 in 1.90 seconds. Samples per second 18786.95\n",
      "Epoch 14, Iteration 35736 in 1.86 seconds. Samples per second 19218.45\n",
      "Epoch 15, Iteration 35736 in 1.87 seconds. Samples per second 19146.24\n",
      "Epoch 16, Iteration 35736 in 1.87 seconds. Samples per second 19109.06\n",
      "Epoch 17, Iteration 35736 in 1.92 seconds. Samples per second 18602.13\n",
      "Epoch 18, Iteration 35736 in 1.91 seconds. Samples per second 18754.72\n",
      "Epoch 19, Iteration 35736 in 1.91 seconds. Samples per second 18758.00\n",
      "Epoch 20, Iteration 35736 in 1.91 seconds. Samples per second 18717.40\n",
      "Epoch 21, Iteration 35736 in 1.89 seconds. Samples per second 18874.82\n",
      "Epoch 22, Iteration 35736 in 1.91 seconds. Samples per second 18685.97\n",
      "Epoch 23, Iteration 35736 in 1.92 seconds. Samples per second 18645.92\n",
      "Epoch 24, Iteration 35736 in 1.90 seconds. Samples per second 18783.75\n",
      "Epoch 25, Iteration 35736 in 1.87 seconds. Samples per second 19083.09\n",
      "Train completed in 0.76 minutes\n",
      "EvaluatorHoldout: Processed 34728 (100.0%) in 16.99 sec. Users per second: 2044\n"
     ]
    },
    {
     "name": "stderr",
     "output_type": "stream",
     "text": [
      "[I 2024-12-18 01:50:27,812] Trial 72 finished with value: 0.01799661679153737 and parameters: {'topK': 257, 'lambda_i': 0.002261523652040392, 'lambda_j': 0.0006099624629619019, 'learning_rate': 0.2960100394169144}. Best is trial 34 with value: 0.018005800406241015.\n"
     ]
    },
    {
     "name": "stdout",
     "output_type": "stream",
     "text": [
      "Epoch 1, Iteration 35736 in 1.39 seconds. Samples per second 25662.28\n",
      "Epoch 2, Iteration 35736 in 1.50 seconds. Samples per second 23827.14\n",
      "Epoch 3, Iteration 35736 in 1.69 seconds. Samples per second 21147.73\n",
      "Epoch 4, Iteration 35736 in 1.73 seconds. Samples per second 20700.79\n",
      "Epoch 5, Iteration 35736 in 1.77 seconds. Samples per second 20175.69\n",
      "Epoch 6, Iteration 35736 in 1.85 seconds. Samples per second 19358.55\n",
      "Epoch 7, Iteration 35736 in 1.82 seconds. Samples per second 19634.68\n",
      "Epoch 8, Iteration 35736 in 1.81 seconds. Samples per second 19691.12\n",
      "Epoch 9, Iteration 35736 in 1.83 seconds. Samples per second 19502.65\n",
      "Epoch 10, Iteration 35736 in 1.89 seconds. Samples per second 18942.51\n",
      "Epoch 11, Iteration 35736 in 1.92 seconds. Samples per second 18602.13\n",
      "Epoch 12, Iteration 35736 in 1.88 seconds. Samples per second 18970.77\n",
      "Epoch 13, Iteration 35736 in 1.85 seconds. Samples per second 19332.88\n",
      "Epoch 14, Iteration 35736 in 1.83 seconds. Samples per second 19578.61\n",
      "Epoch 15, Iteration 35736 in 1.86 seconds. Samples per second 19195.94\n",
      "Epoch 16, Iteration 35736 in 1.87 seconds. Samples per second 19076.27\n",
      "Epoch 17, Iteration 35736 in 1.88 seconds. Samples per second 18967.19\n",
      "Epoch 18, Iteration 35736 in 1.90 seconds. Samples per second 18835.35\n",
      "Epoch 19, Iteration 35736 in 1.90 seconds. Samples per second 18771.80\n",
      "Epoch 20, Iteration 35736 in 1.89 seconds. Samples per second 18864.23\n",
      "Epoch 21, Iteration 35736 in 1.92 seconds. Samples per second 18599.66\n",
      "Epoch 22, Iteration 35736 in 1.95 seconds. Samples per second 18361.20\n",
      "Epoch 23, Iteration 35736 in 1.89 seconds. Samples per second 18881.66\n",
      "Epoch 24, Iteration 35736 in 1.90 seconds. Samples per second 18798.96\n",
      "Epoch 25, Iteration 35736 in 1.92 seconds. Samples per second 18577.70\n",
      "Train completed in 0.76 minutes\n",
      "EvaluatorHoldout: Processed 34728 (100.0%) in 17.02 sec. Users per second: 2041\n"
     ]
    },
    {
     "name": "stderr",
     "output_type": "stream",
     "text": [
      "[I 2024-12-18 01:51:48,144] Trial 73 finished with value: 0.017949359512291544 and parameters: {'topK': 257, 'lambda_i': 0.0017515309997374108, 'lambda_j': 0.0006095382203343242, 'learning_rate': 0.36988405421752607}. Best is trial 34 with value: 0.018005800406241015.\n"
     ]
    },
    {
     "name": "stdout",
     "output_type": "stream",
     "text": [
      "Epoch 1, Iteration 35736 in 1.38 seconds. Samples per second 25953.03\n",
      "Epoch 2, Iteration 35736 in 1.54 seconds. Samples per second 23173.70\n",
      "Epoch 3, Iteration 35736 in 1.66 seconds. Samples per second 21561.06\n",
      "Epoch 4, Iteration 35736 in 1.74 seconds. Samples per second 20497.61\n",
      "Epoch 5, Iteration 35736 in 1.76 seconds. Samples per second 20331.11\n",
      "Epoch 6, Iteration 35736 in 1.80 seconds. Samples per second 19847.14\n",
      "Epoch 7, Iteration 35736 in 1.79 seconds. Samples per second 19911.54\n",
      "Epoch 8, Iteration 35736 in 1.84 seconds. Samples per second 19455.28\n",
      "Epoch 9, Iteration 35736 in 1.83 seconds. Samples per second 19481.23\n",
      "Epoch 10, Iteration 35736 in 1.87 seconds. Samples per second 19080.78\n",
      "Epoch 11, Iteration 35736 in 1.81 seconds. Samples per second 19728.43\n",
      "Epoch 12, Iteration 35736 in 1.88 seconds. Samples per second 19046.73\n",
      "Epoch 13, Iteration 35736 in 1.87 seconds. Samples per second 19083.97\n",
      "Epoch 14, Iteration 35736 in 1.87 seconds. Samples per second 19096.45\n",
      "Epoch 15, Iteration 35736 in 1.90 seconds. Samples per second 18789.11\n",
      "Epoch 16, Iteration 35736 in 1.86 seconds. Samples per second 19236.21\n",
      "Epoch 17, Iteration 35736 in 1.89 seconds. Samples per second 18883.40\n",
      "Epoch 18, Iteration 35736 in 1.83 seconds. Samples per second 19498.83\n",
      "Epoch 19, Iteration 35736 in 1.90 seconds. Samples per second 18794.42\n",
      "Epoch 20, Iteration 35736 in 1.86 seconds. Samples per second 19239.55\n",
      "Epoch 21, Iteration 35736 in 1.89 seconds. Samples per second 18870.28\n",
      "Epoch 22, Iteration 35736 in 1.86 seconds. Samples per second 19227.92\n",
      "Epoch 23, Iteration 35736 in 1.89 seconds. Samples per second 18903.50\n",
      "Epoch 24, Iteration 35736 in 1.92 seconds. Samples per second 18631.84\n",
      "Epoch 25, Iteration 35736 in 1.89 seconds. Samples per second 18932.00\n",
      "Train completed in 0.76 minutes\n",
      "EvaluatorHoldout: Processed 34728 (100.0%) in 17.29 sec. Users per second: 2009\n"
     ]
    },
    {
     "name": "stderr",
     "output_type": "stream",
     "text": [
      "[I 2024-12-18 01:53:08,355] Trial 74 finished with value: 0.01769891661456106 and parameters: {'topK': 268, 'lambda_i': 0.001553753781734686, 'lambda_j': 0.0006154865787355213, 'learning_rate': 0.40519822530061333}. Best is trial 34 with value: 0.018005800406241015.\n"
     ]
    },
    {
     "name": "stdout",
     "output_type": "stream",
     "text": [
      "Epoch 1, Iteration 35736 in 1.38 seconds. Samples per second 25893.38\n",
      "Epoch 2, Iteration 35736 in 1.53 seconds. Samples per second 23425.91\n",
      "Epoch 3, Iteration 35736 in 1.71 seconds. Samples per second 20920.79\n",
      "Epoch 4, Iteration 35736 in 1.74 seconds. Samples per second 20536.71\n",
      "Epoch 5, Iteration 35736 in 1.76 seconds. Samples per second 20309.97\n",
      "Epoch 6, Iteration 35736 in 1.76 seconds. Samples per second 20287.24\n",
      "Epoch 7, Iteration 35736 in 1.74 seconds. Samples per second 20504.67\n",
      "Epoch 8, Iteration 35736 in 1.83 seconds. Samples per second 19487.63\n",
      "Epoch 9, Iteration 35736 in 1.80 seconds. Samples per second 19826.51\n",
      "Epoch 10, Iteration 35736 in 1.85 seconds. Samples per second 19271.93\n",
      "Epoch 11, Iteration 35736 in 1.82 seconds. Samples per second 19648.11\n",
      "Epoch 12, Iteration 35736 in 1.82 seconds. Samples per second 19611.51\n",
      "Epoch 13, Iteration 35736 in 1.87 seconds. Samples per second 19090.94\n",
      "Epoch 14, Iteration 35736 in 1.86 seconds. Samples per second 19235.71\n",
      "Epoch 15, Iteration 35736 in 1.88 seconds. Samples per second 19000.09\n",
      "Epoch 16, Iteration 35736 in 1.90 seconds. Samples per second 18845.68\n",
      "Epoch 17, Iteration 35736 in 1.90 seconds. Samples per second 18826.55\n",
      "Epoch 18, Iteration 35736 in 1.86 seconds. Samples per second 19236.23\n",
      "Epoch 19, Iteration 35736 in 1.88 seconds. Samples per second 18963.79\n",
      "Epoch 20, Iteration 35736 in 1.87 seconds. Samples per second 19059.89\n",
      "Epoch 21, Iteration 35736 in 1.90 seconds. Samples per second 18762.12\n",
      "Epoch 22, Iteration 35736 in 1.90 seconds. Samples per second 18815.26\n",
      "Epoch 23, Iteration 35736 in 1.92 seconds. Samples per second 18610.44\n",
      "Epoch 24, Iteration 35736 in 1.87 seconds. Samples per second 19123.83\n",
      "Epoch 25, Iteration 35736 in 1.89 seconds. Samples per second 18956.04\n",
      "Train completed in 0.75 minutes\n",
      "EvaluatorHoldout: Processed 34728 (100.0%) in 17.06 sec. Users per second: 2035\n"
     ]
    },
    {
     "name": "stderr",
     "output_type": "stream",
     "text": [
      "[I 2024-12-18 01:54:28,204] Trial 75 finished with value: 0.01771351532819232 and parameters: {'topK': 260, 'lambda_i': 0.0009888405137842293, 'lambda_j': 0.000719957653485609, 'learning_rate': 0.36734949279824136}. Best is trial 34 with value: 0.018005800406241015.\n"
     ]
    },
    {
     "name": "stdout",
     "output_type": "stream",
     "text": [
      "Epoch 1, Iteration 35736 in 1.37 seconds. Samples per second 26071.42\n",
      "Epoch 2, Iteration 35736 in 1.49 seconds. Samples per second 24004.28\n",
      "Epoch 3, Iteration 35736 in 1.69 seconds. Samples per second 21108.13\n",
      "Epoch 4, Iteration 35736 in 1.68 seconds. Samples per second 21289.82\n",
      "Epoch 5, Iteration 35736 in 1.82 seconds. Samples per second 19674.11\n",
      "Epoch 6, Iteration 35736 in 1.76 seconds. Samples per second 20266.69\n",
      "Epoch 7, Iteration 35736 in 1.84 seconds. Samples per second 19435.96\n",
      "Epoch 8, Iteration 35736 in 1.83 seconds. Samples per second 19539.30\n",
      "Epoch 9, Iteration 35736 in 1.83 seconds. Samples per second 19485.72\n",
      "Epoch 10, Iteration 35736 in 1.85 seconds. Samples per second 19323.11\n",
      "Epoch 11, Iteration 35736 in 1.86 seconds. Samples per second 19194.20\n",
      "Epoch 12, Iteration 35736 in 1.84 seconds. Samples per second 19425.46\n",
      "Epoch 13, Iteration 35736 in 1.83 seconds. Samples per second 19492.28\n",
      "Epoch 14, Iteration 35736 in 1.84 seconds. Samples per second 19404.87\n",
      "Epoch 15, Iteration 35736 in 1.86 seconds. Samples per second 19245.42\n",
      "Epoch 16, Iteration 35736 in 1.83 seconds. Samples per second 19523.91\n",
      "Epoch 17, Iteration 35736 in 1.86 seconds. Samples per second 19177.44\n",
      "Epoch 18, Iteration 35736 in 1.87 seconds. Samples per second 19153.99\n",
      "Epoch 19, Iteration 35736 in 1.85 seconds. Samples per second 19293.63\n",
      "Epoch 20, Iteration 35736 in 1.90 seconds. Samples per second 18830.35\n",
      "Epoch 21, Iteration 35736 in 1.88 seconds. Samples per second 18970.97\n",
      "Epoch 22, Iteration 35736 in 1.90 seconds. Samples per second 18770.68\n",
      "Epoch 23, Iteration 35736 in 1.90 seconds. Samples per second 18853.85\n",
      "Epoch 24, Iteration 35736 in 1.89 seconds. Samples per second 18931.74\n",
      "Epoch 25, Iteration 35736 in 1.88 seconds. Samples per second 18958.24\n",
      "Train completed in 0.75 minutes\n",
      "EvaluatorHoldout: Processed 34728 (100.0%) in 17.23 sec. Users per second: 2016\n"
     ]
    },
    {
     "name": "stderr",
     "output_type": "stream",
     "text": [
      "[I 2024-12-18 01:55:48,085] Trial 76 finished with value: 0.017826974162927917 and parameters: {'topK': 263, 'lambda_i': 0.002002672202301149, 'lambda_j': 0.0005994809734070333, 'learning_rate': 0.32780331499183457}. Best is trial 34 with value: 0.018005800406241015.\n"
     ]
    },
    {
     "name": "stdout",
     "output_type": "stream",
     "text": [
      "Epoch 1, Iteration 35736 in 1.38 seconds. Samples per second 25823.79\n",
      "Epoch 2, Iteration 35736 in 1.46 seconds. Samples per second 24422.63\n",
      "Epoch 3, Iteration 35736 in 1.74 seconds. Samples per second 20485.11\n",
      "Epoch 4, Iteration 35736 in 1.75 seconds. Samples per second 20416.24\n",
      "Epoch 5, Iteration 35736 in 1.75 seconds. Samples per second 20475.40\n",
      "Epoch 6, Iteration 35736 in 1.78 seconds. Samples per second 20057.30\n",
      "Epoch 7, Iteration 35736 in 1.79 seconds. Samples per second 19943.63\n",
      "Epoch 8, Iteration 35736 in 1.84 seconds. Samples per second 19414.90\n",
      "Epoch 9, Iteration 35736 in 1.83 seconds. Samples per second 19498.69\n",
      "Epoch 10, Iteration 35736 in 1.82 seconds. Samples per second 19636.68\n",
      "Epoch 11, Iteration 35736 in 1.86 seconds. Samples per second 19216.05\n",
      "Epoch 12, Iteration 35736 in 1.85 seconds. Samples per second 19287.48\n",
      "Epoch 13, Iteration 35736 in 1.86 seconds. Samples per second 19226.85\n",
      "Epoch 14, Iteration 35736 in 1.82 seconds. Samples per second 19614.12\n",
      "Epoch 15, Iteration 35736 in 1.85 seconds. Samples per second 19341.33\n",
      "Epoch 16, Iteration 35736 in 1.89 seconds. Samples per second 18936.71\n",
      "Epoch 17, Iteration 35736 in 1.87 seconds. Samples per second 19154.90\n",
      "Epoch 18, Iteration 35736 in 1.87 seconds. Samples per second 19149.39\n",
      "Epoch 19, Iteration 35736 in 1.87 seconds. Samples per second 19100.26\n",
      "Epoch 20, Iteration 35736 in 1.85 seconds. Samples per second 19361.25\n",
      "Epoch 21, Iteration 35736 in 1.93 seconds. Samples per second 18472.06\n",
      "Epoch 22, Iteration 35736 in 1.88 seconds. Samples per second 18988.24\n",
      "Epoch 23, Iteration 35736 in 1.87 seconds. Samples per second 19068.25\n",
      "Epoch 24, Iteration 35736 in 1.89 seconds. Samples per second 18915.25\n",
      "Epoch 25, Iteration 35736 in 1.90 seconds. Samples per second 18826.57\n",
      "Train completed in 0.75 minutes\n",
      "EvaluatorHoldout: Processed 34728 (100.0%) in 16.94 sec. Users per second: 2050\n"
     ]
    },
    {
     "name": "stderr",
     "output_type": "stream",
     "text": [
      "[I 2024-12-18 01:57:07,557] Trial 77 finished with value: 0.017827215265665605 and parameters: {'topK': 256, 'lambda_i': 0.0020655287541871776, 'lambda_j': 0.0006561765951767095, 'learning_rate': 0.300546966885577}. Best is trial 34 with value: 0.018005800406241015.\n"
     ]
    },
    {
     "name": "stdout",
     "output_type": "stream",
     "text": [
      "Epoch 1, Iteration 35736 in 1.37 seconds. Samples per second 26110.06\n",
      "Epoch 2, Iteration 35736 in 1.47 seconds. Samples per second 24315.98\n",
      "Epoch 3, Iteration 35736 in 1.66 seconds. Samples per second 21519.31\n",
      "Epoch 4, Iteration 35736 in 1.74 seconds. Samples per second 20536.70\n",
      "Epoch 5, Iteration 35736 in 1.74 seconds. Samples per second 20492.23\n",
      "Epoch 6, Iteration 35736 in 1.76 seconds. Samples per second 20277.49\n",
      "Epoch 7, Iteration 35736 in 1.79 seconds. Samples per second 19966.75\n",
      "Epoch 8, Iteration 35736 in 1.76 seconds. Samples per second 20263.78\n",
      "Epoch 9, Iteration 35736 in 1.91 seconds. Samples per second 18737.61\n",
      "Epoch 10, Iteration 35736 in 1.88 seconds. Samples per second 19030.11\n",
      "Epoch 11, Iteration 35736 in 1.84 seconds. Samples per second 19450.82\n",
      "Epoch 12, Iteration 35736 in 1.86 seconds. Samples per second 19177.96\n",
      "Epoch 13, Iteration 35736 in 1.85 seconds. Samples per second 19300.56\n",
      "Epoch 14, Iteration 35736 in 1.87 seconds. Samples per second 19078.24\n",
      "Epoch 15, Iteration 35736 in 1.87 seconds. Samples per second 19123.02\n",
      "Epoch 16, Iteration 35736 in 1.85 seconds. Samples per second 19339.36\n",
      "Epoch 17, Iteration 35736 in 1.89 seconds. Samples per second 18888.65\n",
      "Epoch 18, Iteration 35736 in 1.92 seconds. Samples per second 18569.37\n",
      "Epoch 19, Iteration 35736 in 1.90 seconds. Samples per second 18791.75\n",
      "Epoch 20, Iteration 35736 in 1.88 seconds. Samples per second 18968.75\n",
      "Epoch 21, Iteration 35736 in 1.90 seconds. Samples per second 18799.19\n",
      "Epoch 22, Iteration 35736 in 1.94 seconds. Samples per second 18442.36\n",
      "Epoch 23, Iteration 35736 in 1.92 seconds. Samples per second 18651.65\n",
      "Epoch 24, Iteration 35736 in 1.93 seconds. Samples per second 18526.80\n",
      "Epoch 25, Iteration 35736 in 1.91 seconds. Samples per second 18707.00\n",
      "Train completed in 0.76 minutes\n",
      "EvaluatorHoldout: Processed 34728 (100.0%) in 18.65 sec. Users per second: 1863\n"
     ]
    },
    {
     "name": "stderr",
     "output_type": "stream",
     "text": [
      "[I 2024-12-18 01:58:30,475] Trial 78 finished with value: 0.017377235285191434 and parameters: {'topK': 334, 'lambda_i': 0.0008409492021759142, 'lambda_j': 0.0005519324162980549, 'learning_rate': 0.5072057749167429}. Best is trial 34 with value: 0.018005800406241015.\n"
     ]
    },
    {
     "name": "stdout",
     "output_type": "stream",
     "text": [
      "Epoch 1, Iteration 35736 in 1.39 seconds. Samples per second 25783.92\n",
      "Epoch 2, Iteration 35736 in 1.53 seconds. Samples per second 23421.19\n",
      "Epoch 3, Iteration 35736 in 1.71 seconds. Samples per second 20947.87\n",
      "Epoch 4, Iteration 35736 in 1.74 seconds. Samples per second 20538.41\n",
      "Epoch 5, Iteration 35736 in 1.84 seconds. Samples per second 19469.18\n",
      "Epoch 6, Iteration 35736 in 1.77 seconds. Samples per second 20153.47\n",
      "Epoch 7, Iteration 35736 in 1.81 seconds. Samples per second 19790.98\n",
      "Epoch 8, Iteration 35736 in 1.85 seconds. Samples per second 19338.09\n",
      "Epoch 9, Iteration 35736 in 1.84 seconds. Samples per second 19417.64\n",
      "Epoch 10, Iteration 35736 in 1.86 seconds. Samples per second 19245.91\n",
      "Epoch 11, Iteration 35736 in 1.87 seconds. Samples per second 19085.28\n",
      "Epoch 12, Iteration 35736 in 1.86 seconds. Samples per second 19237.91\n",
      "Epoch 13, Iteration 35736 in 1.90 seconds. Samples per second 18816.71\n",
      "Epoch 14, Iteration 35736 in 1.83 seconds. Samples per second 19523.81\n",
      "Epoch 15, Iteration 35736 in 1.85 seconds. Samples per second 19295.52\n",
      "Epoch 16, Iteration 35736 in 1.83 seconds. Samples per second 19503.78\n",
      "Epoch 17, Iteration 35736 in 1.91 seconds. Samples per second 18719.17\n",
      "Epoch 18, Iteration 35736 in 1.88 seconds. Samples per second 19010.05\n",
      "Epoch 19, Iteration 35736 in 1.88 seconds. Samples per second 18996.16\n",
      "Epoch 20, Iteration 35736 in 1.86 seconds. Samples per second 19197.74\n",
      "Epoch 21, Iteration 35736 in 1.92 seconds. Samples per second 18612.96\n",
      "Epoch 22, Iteration 35736 in 1.89 seconds. Samples per second 18894.20\n",
      "Epoch 23, Iteration 35736 in 1.90 seconds. Samples per second 18823.96\n",
      "Epoch 24, Iteration 35736 in 1.91 seconds. Samples per second 18681.54\n",
      "Epoch 25, Iteration 35736 in 1.91 seconds. Samples per second 18696.23\n",
      "Train completed in 0.76 minutes\n",
      "EvaluatorHoldout: Processed 34728 (100.0%) in 16.85 sec. Users per second: 2061\n"
     ]
    },
    {
     "name": "stderr",
     "output_type": "stream",
     "text": [
      "[I 2024-12-18 01:59:50,233] Trial 79 finished with value: 0.017692532534014985 and parameters: {'topK': 253, 'lambda_i': 0.0026590832965355917, 'lambda_j': 0.0006838807610973785, 'learning_rate': 0.4268023893204978}. Best is trial 34 with value: 0.018005800406241015.\n"
     ]
    },
    {
     "name": "stdout",
     "output_type": "stream",
     "text": [
      "Epoch 1, Iteration 35736 in 1.38 seconds. Samples per second 25950.14\n",
      "Epoch 2, Iteration 35736 in 1.55 seconds. Samples per second 22997.68\n",
      "Epoch 3, Iteration 35736 in 1.71 seconds. Samples per second 20860.72\n",
      "Epoch 4, Iteration 35736 in 1.74 seconds. Samples per second 20484.84\n",
      "Epoch 5, Iteration 35736 in 1.74 seconds. Samples per second 20591.77\n",
      "Epoch 6, Iteration 35736 in 1.83 seconds. Samples per second 19495.88\n",
      "Epoch 7, Iteration 35736 in 1.84 seconds. Samples per second 19430.39\n",
      "Epoch 8, Iteration 35736 in 1.85 seconds. Samples per second 19271.26\n",
      "Epoch 9, Iteration 35736 in 1.85 seconds. Samples per second 19333.60\n",
      "Epoch 10, Iteration 35736 in 1.87 seconds. Samples per second 19109.12\n",
      "Epoch 11, Iteration 35736 in 1.91 seconds. Samples per second 18685.55\n",
      "Epoch 12, Iteration 35736 in 1.87 seconds. Samples per second 19108.70\n",
      "Epoch 13, Iteration 35736 in 1.87 seconds. Samples per second 19086.43\n",
      "Epoch 14, Iteration 35736 in 1.85 seconds. Samples per second 19285.85\n",
      "Epoch 15, Iteration 35736 in 1.88 seconds. Samples per second 19025.46\n",
      "Epoch 16, Iteration 35736 in 1.88 seconds. Samples per second 18989.60\n",
      "Epoch 17, Iteration 35736 in 1.91 seconds. Samples per second 18691.29\n",
      "Epoch 18, Iteration 35736 in 1.90 seconds. Samples per second 18831.54\n",
      "Epoch 19, Iteration 35736 in 1.89 seconds. Samples per second 18922.46\n",
      "Epoch 20, Iteration 35736 in 1.91 seconds. Samples per second 18729.90\n",
      "Epoch 21, Iteration 35736 in 1.87 seconds. Samples per second 19160.71\n",
      "Epoch 22, Iteration 35736 in 1.89 seconds. Samples per second 18927.44\n",
      "Epoch 23, Iteration 35736 in 1.87 seconds. Samples per second 19130.94\n",
      "Epoch 24, Iteration 35736 in 1.89 seconds. Samples per second 18893.23\n",
      "Epoch 25, Iteration 35736 in 1.95 seconds. Samples per second 18364.16\n",
      "Train completed in 0.76 minutes\n",
      "EvaluatorHoldout: Processed 34728 (100.0%) in 17.53 sec. Users per second: 1981\n"
     ]
    },
    {
     "name": "stderr",
     "output_type": "stream",
     "text": [
      "[I 2024-12-18 02:01:10,964] Trial 80 finished with value: 0.01771967316067174 and parameters: {'topK': 274, 'lambda_i': 0.002244414548910658, 'lambda_j': 0.0005870837392401281, 'learning_rate': 0.4060258568574423}. Best is trial 34 with value: 0.018005800406241015.\n"
     ]
    },
    {
     "name": "stdout",
     "output_type": "stream",
     "text": [
      "Epoch 1, Iteration 35736 in 1.40 seconds. Samples per second 25602.95\n",
      "Epoch 2, Iteration 35736 in 1.52 seconds. Samples per second 23579.30\n",
      "Epoch 3, Iteration 35736 in 1.70 seconds. Samples per second 21073.76\n",
      "Epoch 4, Iteration 35736 in 1.73 seconds. Samples per second 20696.08\n",
      "Epoch 5, Iteration 35736 in 1.77 seconds. Samples per second 20198.88\n",
      "Epoch 6, Iteration 35736 in 1.78 seconds. Samples per second 20106.42\n",
      "Epoch 7, Iteration 35736 in 1.84 seconds. Samples per second 19426.31\n",
      "Epoch 8, Iteration 35736 in 1.87 seconds. Samples per second 19120.11\n",
      "Epoch 9, Iteration 35736 in 1.82 seconds. Samples per second 19601.95\n",
      "Epoch 10, Iteration 35736 in 1.85 seconds. Samples per second 19357.46\n",
      "Epoch 11, Iteration 35736 in 1.84 seconds. Samples per second 19405.27\n",
      "Epoch 12, Iteration 35736 in 1.85 seconds. Samples per second 19303.81\n",
      "Epoch 13, Iteration 35736 in 1.84 seconds. Samples per second 19384.79\n",
      "Epoch 14, Iteration 35736 in 1.86 seconds. Samples per second 19167.98\n",
      "Epoch 15, Iteration 35736 in 1.88 seconds. Samples per second 19044.96\n",
      "Epoch 16, Iteration 35736 in 1.90 seconds. Samples per second 18767.27\n",
      "Epoch 17, Iteration 35736 in 1.91 seconds. Samples per second 18743.59\n",
      "Epoch 18, Iteration 35736 in 1.91 seconds. Samples per second 18694.85\n",
      "Epoch 19, Iteration 35736 in 1.92 seconds. Samples per second 18570.24\n",
      "Epoch 20, Iteration 35736 in 1.92 seconds. Samples per second 18659.42\n",
      "Epoch 21, Iteration 35736 in 1.93 seconds. Samples per second 18511.32\n",
      "Epoch 22, Iteration 35736 in 1.92 seconds. Samples per second 18595.54\n",
      "Epoch 23, Iteration 35736 in 1.94 seconds. Samples per second 18445.98\n",
      "Epoch 24, Iteration 35736 in 1.89 seconds. Samples per second 18862.09\n",
      "Epoch 25, Iteration 35736 in 1.89 seconds. Samples per second 18946.53\n",
      "Train completed in 0.76 minutes\n",
      "EvaluatorHoldout: Processed 34728 (100.0%) in 16.97 sec. Users per second: 2046\n"
     ]
    },
    {
     "name": "stderr",
     "output_type": "stream",
     "text": [
      "[I 2024-12-18 02:02:30,830] Trial 81 finished with value: 0.017699209137313942 and parameters: {'topK': 256, 'lambda_i': 0.0012528089714292639, 'lambda_j': 0.0007291601509545754, 'learning_rate': 0.28142520387652314}. Best is trial 34 with value: 0.018005800406241015.\n"
     ]
    },
    {
     "name": "stdout",
     "output_type": "stream",
     "text": [
      "Epoch 1, Iteration 35736 in 1.39 seconds. Samples per second 25725.71\n",
      "Epoch 2, Iteration 35736 in 1.53 seconds. Samples per second 23302.90\n",
      "Epoch 3, Iteration 35736 in 1.71 seconds. Samples per second 20862.06\n",
      "Epoch 4, Iteration 35736 in 1.70 seconds. Samples per second 20998.16\n",
      "Epoch 5, Iteration 35736 in 1.81 seconds. Samples per second 19693.47\n",
      "Epoch 6, Iteration 35736 in 1.82 seconds. Samples per second 19658.98\n",
      "Epoch 7, Iteration 35736 in 1.81 seconds. Samples per second 19732.03\n",
      "Epoch 8, Iteration 35736 in 1.84 seconds. Samples per second 19471.55\n",
      "Epoch 9, Iteration 35736 in 1.84 seconds. Samples per second 19393.29\n",
      "Epoch 10, Iteration 35736 in 1.86 seconds. Samples per second 19166.40\n",
      "Epoch 11, Iteration 35736 in 1.90 seconds. Samples per second 18850.24\n",
      "Epoch 12, Iteration 35736 in 1.89 seconds. Samples per second 18899.64\n",
      "Epoch 13, Iteration 35736 in 1.85 seconds. Samples per second 19334.44\n",
      "Epoch 14, Iteration 35736 in 1.88 seconds. Samples per second 19025.37\n",
      "Epoch 15, Iteration 35736 in 1.87 seconds. Samples per second 19144.90\n",
      "Epoch 16, Iteration 35736 in 1.87 seconds. Samples per second 19107.24\n",
      "Epoch 17, Iteration 35736 in 1.87 seconds. Samples per second 19065.53\n",
      "Epoch 18, Iteration 35736 in 1.92 seconds. Samples per second 18604.52\n",
      "Epoch 19, Iteration 35736 in 1.90 seconds. Samples per second 18844.15\n",
      "Epoch 20, Iteration 35736 in 1.89 seconds. Samples per second 18900.33\n",
      "Epoch 21, Iteration 35736 in 1.93 seconds. Samples per second 18563.66\n",
      "Epoch 22, Iteration 35736 in 1.88 seconds. Samples per second 19053.49\n",
      "Epoch 23, Iteration 35736 in 1.94 seconds. Samples per second 18404.84\n",
      "Epoch 24, Iteration 35736 in 1.91 seconds. Samples per second 18746.95\n",
      "Epoch 25, Iteration 35736 in 1.93 seconds. Samples per second 18506.44\n",
      "Train completed in 0.76 minutes\n",
      "EvaluatorHoldout: Processed 34728 (100.0%) in 17.03 sec. Users per second: 2039\n"
     ]
    },
    {
     "name": "stderr",
     "output_type": "stream",
     "text": [
      "[I 2024-12-18 02:03:50,979] Trial 82 finished with value: 0.017791180119056844 and parameters: {'topK': 258, 'lambda_i': 0.0016440294363499468, 'lambda_j': 0.0008130024881724746, 'learning_rate': 0.3498481954175551}. Best is trial 34 with value: 0.018005800406241015.\n"
     ]
    },
    {
     "name": "stdout",
     "output_type": "stream",
     "text": [
      "Epoch 1, Iteration 35736 in 1.40 seconds. Samples per second 25579.03\n",
      "Epoch 2, Iteration 35736 in 1.50 seconds. Samples per second 23759.39\n",
      "Epoch 3, Iteration 35736 in 1.67 seconds. Samples per second 21359.77\n",
      "Epoch 4, Iteration 35736 in 1.76 seconds. Samples per second 20279.36\n",
      "Epoch 5, Iteration 35736 in 1.74 seconds. Samples per second 20592.20\n",
      "Epoch 6, Iteration 35736 in 1.80 seconds. Samples per second 19868.66\n",
      "Epoch 7, Iteration 35736 in 1.84 seconds. Samples per second 19418.81\n",
      "Epoch 8, Iteration 35736 in 1.87 seconds. Samples per second 19129.95\n",
      "Epoch 9, Iteration 35736 in 1.82 seconds. Samples per second 19622.99\n",
      "Epoch 10, Iteration 35736 in 1.85 seconds. Samples per second 19312.88\n",
      "Epoch 11, Iteration 35736 in 1.83 seconds. Samples per second 19563.40\n",
      "Epoch 12, Iteration 35736 in 1.89 seconds. Samples per second 18909.57\n",
      "Epoch 13, Iteration 35736 in 1.84 seconds. Samples per second 19471.04\n",
      "Epoch 14, Iteration 35736 in 1.87 seconds. Samples per second 19115.67\n",
      "Epoch 15, Iteration 35736 in 1.86 seconds. Samples per second 19205.33\n",
      "Epoch 16, Iteration 35736 in 1.86 seconds. Samples per second 19194.93\n",
      "Epoch 17, Iteration 35736 in 1.91 seconds. Samples per second 18677.62\n",
      "Epoch 18, Iteration 35736 in 1.88 seconds. Samples per second 19008.92\n",
      "Epoch 19, Iteration 35736 in 1.88 seconds. Samples per second 19046.95\n",
      "Epoch 20, Iteration 35736 in 1.85 seconds. Samples per second 19265.21\n",
      "Epoch 21, Iteration 35736 in 1.91 seconds. Samples per second 18728.95\n",
      "Epoch 22, Iteration 35736 in 1.88 seconds. Samples per second 19041.11\n",
      "Epoch 23, Iteration 35736 in 1.88 seconds. Samples per second 18974.58\n",
      "Epoch 24, Iteration 35736 in 1.89 seconds. Samples per second 18944.79\n",
      "Epoch 25, Iteration 35736 in 1.96 seconds. Samples per second 18265.62\n",
      "Train completed in 0.76 minutes\n",
      "EvaluatorHoldout: Processed 34728 (100.0%) in 18.84 sec. Users per second: 1843\n"
     ]
    },
    {
     "name": "stderr",
     "output_type": "stream",
     "text": [
      "[I 2024-12-18 02:05:14,248] Trial 83 finished with value: 0.0175213290222793 and parameters: {'topK': 343, 'lambda_i': 0.0028957919633534304, 'lambda_j': 0.0007820991164638079, 'learning_rate': 0.29187706579743367}. Best is trial 34 with value: 0.018005800406241015.\n"
     ]
    },
    {
     "name": "stdout",
     "output_type": "stream",
     "text": [
      "Epoch 1, Iteration 35736 in 1.39 seconds. Samples per second 25654.29\n",
      "Epoch 2, Iteration 35736 in 1.54 seconds. Samples per second 23254.76\n",
      "Epoch 3, Iteration 35736 in 1.74 seconds. Samples per second 20571.30\n",
      "Epoch 4, Iteration 35736 in 1.74 seconds. Samples per second 20520.52\n",
      "Epoch 5, Iteration 35736 in 1.83 seconds. Samples per second 19530.38\n",
      "Epoch 6, Iteration 35736 in 1.81 seconds. Samples per second 19769.08\n",
      "Epoch 7, Iteration 35736 in 1.83 seconds. Samples per second 19474.89\n",
      "Epoch 8, Iteration 35736 in 1.92 seconds. Samples per second 18596.34\n",
      "Epoch 9, Iteration 35736 in 1.87 seconds. Samples per second 19145.88\n",
      "Epoch 10, Iteration 35736 in 1.86 seconds. Samples per second 19207.35\n",
      "Epoch 11, Iteration 35736 in 1.85 seconds. Samples per second 19330.68\n",
      "Epoch 12, Iteration 35736 in 1.86 seconds. Samples per second 19217.74\n",
      "Epoch 13, Iteration 35736 in 1.84 seconds. Samples per second 19392.09\n",
      "Epoch 14, Iteration 35736 in 1.86 seconds. Samples per second 19249.06\n",
      "Epoch 15, Iteration 35736 in 1.86 seconds. Samples per second 19257.99\n",
      "Epoch 16, Iteration 35736 in 1.88 seconds. Samples per second 18970.86\n",
      "Epoch 17, Iteration 35736 in 1.85 seconds. Samples per second 19365.88\n",
      "Epoch 18, Iteration 35736 in 1.85 seconds. Samples per second 19349.68\n",
      "Epoch 19, Iteration 35736 in 1.93 seconds. Samples per second 18492.40\n",
      "Epoch 20, Iteration 35736 in 1.94 seconds. Samples per second 18428.93\n",
      "Epoch 21, Iteration 35736 in 1.90 seconds. Samples per second 18785.66\n",
      "Epoch 22, Iteration 35736 in 1.88 seconds. Samples per second 19004.05\n",
      "Epoch 23, Iteration 35736 in 1.90 seconds. Samples per second 18848.95\n",
      "Epoch 24, Iteration 35736 in 1.87 seconds. Samples per second 19157.85\n",
      "Epoch 25, Iteration 35736 in 1.88 seconds. Samples per second 19029.01\n",
      "Train completed in 0.76 minutes\n",
      "EvaluatorHoldout: Processed 34728 (100.0%) in 17.20 sec. Users per second: 2020\n"
     ]
    },
    {
     "name": "stderr",
     "output_type": "stream",
     "text": [
      "[I 2024-12-18 02:06:34,719] Trial 84 finished with value: 0.017736826877721944 and parameters: {'topK': 267, 'lambda_i': 0.0033235073145046483, 'lambda_j': 0.0008749347931707384, 'learning_rate': 0.3135132087026944}. Best is trial 34 with value: 0.018005800406241015.\n"
     ]
    },
    {
     "name": "stdout",
     "output_type": "stream",
     "text": [
      "Epoch 1, Iteration 35736 in 1.40 seconds. Samples per second 25511.30\n",
      "Epoch 2, Iteration 35736 in 1.45 seconds. Samples per second 24574.03\n",
      "Epoch 3, Iteration 35736 in 1.67 seconds. Samples per second 21338.18\n",
      "Epoch 4, Iteration 35736 in 1.77 seconds. Samples per second 20211.56\n",
      "Epoch 5, Iteration 35736 in 1.78 seconds. Samples per second 20095.32\n",
      "Epoch 6, Iteration 35736 in 1.83 seconds. Samples per second 19507.90\n",
      "Epoch 7, Iteration 35736 in 1.83 seconds. Samples per second 19542.90\n",
      "Epoch 8, Iteration 35736 in 1.84 seconds. Samples per second 19410.46\n",
      "Epoch 9, Iteration 35736 in 1.85 seconds. Samples per second 19265.86\n",
      "Epoch 10, Iteration 35736 in 1.88 seconds. Samples per second 19044.99\n",
      "Epoch 11, Iteration 35736 in 1.81 seconds. Samples per second 19784.09\n",
      "Epoch 12, Iteration 35736 in 1.85 seconds. Samples per second 19271.29\n",
      "Epoch 13, Iteration 35736 in 1.85 seconds. Samples per second 19301.18\n",
      "Epoch 14, Iteration 35736 in 1.81 seconds. Samples per second 19763.37\n",
      "Epoch 15, Iteration 35736 in 1.84 seconds. Samples per second 19426.77\n",
      "Epoch 16, Iteration 35736 in 1.83 seconds. Samples per second 19480.08\n",
      "Epoch 17, Iteration 35736 in 1.87 seconds. Samples per second 19109.45\n",
      "Epoch 18, Iteration 35736 in 1.90 seconds. Samples per second 18805.57\n",
      "Epoch 19, Iteration 35736 in 1.87 seconds. Samples per second 19142.24\n",
      "Epoch 20, Iteration 35736 in 1.92 seconds. Samples per second 18646.86\n",
      "Epoch 21, Iteration 35736 in 1.90 seconds. Samples per second 18812.81\n",
      "Epoch 22, Iteration 35736 in 1.87 seconds. Samples per second 19151.46\n",
      "Epoch 23, Iteration 35736 in 1.89 seconds. Samples per second 18862.43\n",
      "Epoch 24, Iteration 35736 in 1.87 seconds. Samples per second 19108.69\n",
      "Epoch 25, Iteration 35736 in 1.89 seconds. Samples per second 18893.78\n",
      "Train completed in 0.75 minutes\n",
      "EvaluatorHoldout: Processed 34728 (100.0%) in 17.24 sec. Users per second: 2014\n"
     ]
    },
    {
     "name": "stderr",
     "output_type": "stream",
     "text": [
      "[I 2024-12-18 02:07:55,334] Trial 85 finished with value: 0.017941628227348752 and parameters: {'topK': 263, 'lambda_i': 0.00831644562108974, 'lambda_j': 0.0006432033396236159, 'learning_rate': 0.3624317042533795}. Best is trial 34 with value: 0.018005800406241015.\n"
     ]
    },
    {
     "name": "stdout",
     "output_type": "stream",
     "text": [
      "Epoch 1, Iteration 35736 in 1.39 seconds. Samples per second 25674.90\n",
      "Epoch 2, Iteration 35736 in 1.56 seconds. Samples per second 22947.42\n",
      "Epoch 3, Iteration 35736 in 1.74 seconds. Samples per second 20496.09\n",
      "Epoch 4, Iteration 35736 in 1.73 seconds. Samples per second 20648.21\n",
      "Epoch 5, Iteration 35736 in 1.82 seconds. Samples per second 19638.99\n",
      "Epoch 6, Iteration 35736 in 1.79 seconds. Samples per second 20005.90\n",
      "Epoch 7, Iteration 35736 in 1.83 seconds. Samples per second 19562.96\n",
      "Epoch 8, Iteration 35736 in 1.84 seconds. Samples per second 19456.67\n",
      "Epoch 9, Iteration 35736 in 1.97 seconds. Samples per second 18171.18\n",
      "Epoch 10, Iteration 35736 in 1.86 seconds. Samples per second 19164.75\n",
      "Epoch 11, Iteration 35736 in 1.90 seconds. Samples per second 18855.69\n",
      "Epoch 12, Iteration 35736 in 1.93 seconds. Samples per second 18544.21\n",
      "Epoch 13, Iteration 35736 in 1.87 seconds. Samples per second 19093.94\n",
      "Epoch 14, Iteration 35736 in 1.94 seconds. Samples per second 18458.12\n",
      "Epoch 15, Iteration 35736 in 1.90 seconds. Samples per second 18846.68\n",
      "Epoch 16, Iteration 35736 in 1.96 seconds. Samples per second 18200.95\n",
      "Epoch 17, Iteration 35736 in 1.92 seconds. Samples per second 18564.32\n",
      "Epoch 18, Iteration 35736 in 1.91 seconds. Samples per second 18689.62\n",
      "Epoch 19, Iteration 35736 in 1.92 seconds. Samples per second 18636.04\n",
      "Epoch 20, Iteration 35736 in 1.90 seconds. Samples per second 18833.74\n",
      "Epoch 21, Iteration 35736 in 1.93 seconds. Samples per second 18518.51\n",
      "Epoch 22, Iteration 35736 in 1.93 seconds. Samples per second 18552.14\n",
      "Epoch 23, Iteration 35736 in 1.94 seconds. Samples per second 18404.73\n",
      "Epoch 24, Iteration 35736 in 1.93 seconds. Samples per second 18555.66\n",
      "Epoch 25, Iteration 35736 in 1.93 seconds. Samples per second 18531.99\n",
      "Train completed in 0.77 minutes\n",
      "EvaluatorHoldout: Processed 34728 (100.0%) in 17.10 sec. Users per second: 2031\n"
     ]
    },
    {
     "name": "stderr",
     "output_type": "stream",
     "text": [
      "[I 2024-12-18 02:09:16,360] Trial 86 finished with value: 0.01772791636043193 and parameters: {'topK': 263, 'lambda_i': 0.008584528086549359, 'lambda_j': 0.0006385662536677371, 'learning_rate': 0.39307294464779174}. Best is trial 34 with value: 0.018005800406241015.\n"
     ]
    },
    {
     "name": "stdout",
     "output_type": "stream",
     "text": [
      "Epoch 1, Iteration 35736 in 1.40 seconds. Samples per second 25552.07\n",
      "Epoch 2, Iteration 35736 in 1.50 seconds. Samples per second 23779.85\n",
      "Epoch 3, Iteration 35736 in 1.71 seconds. Samples per second 20845.94\n",
      "Epoch 4, Iteration 35736 in 1.78 seconds. Samples per second 20051.40\n",
      "Epoch 5, Iteration 35736 in 1.74 seconds. Samples per second 20515.51\n",
      "Epoch 6, Iteration 35736 in 1.83 seconds. Samples per second 19575.42\n",
      "Epoch 7, Iteration 35736 in 1.91 seconds. Samples per second 18702.15\n",
      "Epoch 8, Iteration 35736 in 1.90 seconds. Samples per second 18857.12\n",
      "Epoch 9, Iteration 35736 in 1.87 seconds. Samples per second 19073.53\n",
      "Epoch 10, Iteration 35736 in 1.88 seconds. Samples per second 19006.09\n",
      "Epoch 11, Iteration 35736 in 1.87 seconds. Samples per second 19083.33\n",
      "Epoch 12, Iteration 35736 in 1.86 seconds. Samples per second 19216.60\n",
      "Epoch 13, Iteration 35736 in 1.90 seconds. Samples per second 18784.63\n",
      "Epoch 14, Iteration 35736 in 1.92 seconds. Samples per second 18650.34\n",
      "Epoch 15, Iteration 35736 in 1.93 seconds. Samples per second 18484.05\n",
      "Epoch 16, Iteration 35736 in 1.88 seconds. Samples per second 19020.50\n",
      "Epoch 17, Iteration 35736 in 1.88 seconds. Samples per second 19002.34\n",
      "Epoch 18, Iteration 35736 in 1.94 seconds. Samples per second 18456.38\n",
      "Epoch 19, Iteration 35736 in 1.92 seconds. Samples per second 18598.09\n",
      "Epoch 20, Iteration 35736 in 1.93 seconds. Samples per second 18469.47\n",
      "Epoch 21, Iteration 35736 in 1.97 seconds. Samples per second 18120.21\n",
      "Epoch 22, Iteration 35736 in 1.94 seconds. Samples per second 18434.18\n",
      "Epoch 23, Iteration 35736 in 1.92 seconds. Samples per second 18657.20\n",
      "Epoch 24, Iteration 35736 in 1.90 seconds. Samples per second 18789.86\n",
      "Epoch 25, Iteration 35736 in 1.94 seconds. Samples per second 18414.64\n",
      "Train completed in 0.77 minutes\n",
      "EvaluatorHoldout: Processed 34728 (100.0%) in 16.81 sec. Users per second: 2066\n"
     ]
    },
    {
     "name": "stderr",
     "output_type": "stream",
     "text": [
      "[I 2024-12-18 02:10:37,115] Trial 87 finished with value: 0.017582700524347142 and parameters: {'topK': 253, 'lambda_i': 0.008919864318674165, 'lambda_j': 0.0004923217976690988, 'learning_rate': 0.4503618209815483}. Best is trial 34 with value: 0.018005800406241015.\n"
     ]
    },
    {
     "name": "stdout",
     "output_type": "stream",
     "text": [
      "Epoch 1, Iteration 35736 in 1.39 seconds. Samples per second 25668.85\n",
      "Epoch 2, Iteration 35736 in 1.51 seconds. Samples per second 23676.89\n",
      "Epoch 3, Iteration 35736 in 1.74 seconds. Samples per second 20536.03\n",
      "Epoch 4, Iteration 35736 in 1.80 seconds. Samples per second 19837.89\n",
      "Epoch 5, Iteration 35736 in 1.79 seconds. Samples per second 19918.18\n",
      "Epoch 6, Iteration 35736 in 1.87 seconds. Samples per second 19155.21\n",
      "Epoch 7, Iteration 35736 in 1.85 seconds. Samples per second 19273.26\n",
      "Epoch 8, Iteration 35736 in 1.83 seconds. Samples per second 19507.58\n",
      "Epoch 9, Iteration 35736 in 1.87 seconds. Samples per second 19061.43\n",
      "Epoch 10, Iteration 35736 in 1.87 seconds. Samples per second 19128.39\n",
      "Epoch 11, Iteration 35736 in 1.83 seconds. Samples per second 19489.54\n",
      "Epoch 12, Iteration 35736 in 1.83 seconds. Samples per second 19519.08\n",
      "Epoch 13, Iteration 35736 in 1.86 seconds. Samples per second 19208.73\n",
      "Epoch 14, Iteration 35736 in 1.87 seconds. Samples per second 19124.52\n",
      "Epoch 15, Iteration 35736 in 1.88 seconds. Samples per second 19015.21\n",
      "Epoch 16, Iteration 35736 in 1.86 seconds. Samples per second 19165.45\n",
      "Epoch 17, Iteration 35736 in 1.88 seconds. Samples per second 19045.75\n",
      "Epoch 18, Iteration 35736 in 1.89 seconds. Samples per second 18870.61\n",
      "Epoch 19, Iteration 35736 in 1.90 seconds. Samples per second 18762.39\n",
      "Epoch 20, Iteration 35736 in 1.87 seconds. Samples per second 19114.26\n",
      "Epoch 21, Iteration 35736 in 1.90 seconds. Samples per second 18764.42\n",
      "Epoch 22, Iteration 35736 in 1.92 seconds. Samples per second 18643.05\n",
      "Epoch 23, Iteration 35736 in 1.92 seconds. Samples per second 18649.04\n",
      "Epoch 24, Iteration 35736 in 1.92 seconds. Samples per second 18586.21\n",
      "Epoch 25, Iteration 35736 in 1.96 seconds. Samples per second 18201.51\n",
      "Train completed in 0.76 minutes\n",
      "EvaluatorHoldout: Processed 34728 (100.0%) in 17.10 sec. Users per second: 2031\n"
     ]
    },
    {
     "name": "stderr",
     "output_type": "stream",
     "text": [
      "[I 2024-12-18 02:11:57,886] Trial 88 finished with value: 0.017884149791760392 and parameters: {'topK': 260, 'lambda_i': 0.009457478119640294, 'lambda_j': 0.0005773714485051156, 'learning_rate': 0.35362061542346046}. Best is trial 34 with value: 0.018005800406241015.\n"
     ]
    },
    {
     "name": "stdout",
     "output_type": "stream",
     "text": [
      "Epoch 1, Iteration 35736 in 1.40 seconds. Samples per second 25532.72\n",
      "Epoch 2, Iteration 35736 in 1.50 seconds. Samples per second 23759.93\n",
      "Epoch 3, Iteration 35736 in 1.69 seconds. Samples per second 21172.08\n",
      "Epoch 4, Iteration 35736 in 1.76 seconds. Samples per second 20346.36\n",
      "Epoch 5, Iteration 35736 in 1.78 seconds. Samples per second 20117.11\n",
      "Epoch 6, Iteration 35736 in 1.81 seconds. Samples per second 19788.27\n",
      "Epoch 7, Iteration 35736 in 1.83 seconds. Samples per second 19520.23\n",
      "Epoch 8, Iteration 35736 in 1.83 seconds. Samples per second 19506.49\n",
      "Epoch 9, Iteration 35736 in 1.83 seconds. Samples per second 19563.08\n",
      "Epoch 10, Iteration 35736 in 1.82 seconds. Samples per second 19662.01\n",
      "Epoch 11, Iteration 35736 in 1.87 seconds. Samples per second 19111.61\n",
      "Epoch 12, Iteration 35736 in 1.86 seconds. Samples per second 19192.58\n",
      "Epoch 13, Iteration 35736 in 1.85 seconds. Samples per second 19336.28\n",
      "Epoch 14, Iteration 35736 in 1.85 seconds. Samples per second 19277.25\n",
      "Epoch 15, Iteration 35736 in 1.89 seconds. Samples per second 18932.19\n",
      "Epoch 16, Iteration 35736 in 1.88 seconds. Samples per second 19040.06\n",
      "Epoch 17, Iteration 35736 in 1.91 seconds. Samples per second 18731.86\n",
      "Epoch 18, Iteration 35736 in 1.87 seconds. Samples per second 19134.01\n",
      "Epoch 19, Iteration 35736 in 1.88 seconds. Samples per second 19048.64\n",
      "Epoch 20, Iteration 35736 in 1.90 seconds. Samples per second 18810.54\n",
      "Epoch 21, Iteration 35736 in 1.88 seconds. Samples per second 18966.97\n",
      "Epoch 22, Iteration 35736 in 1.91 seconds. Samples per second 18749.63\n",
      "Epoch 23, Iteration 35736 in 1.91 seconds. Samples per second 18730.81\n",
      "Epoch 24, Iteration 35736 in 1.91 seconds. Samples per second 18683.37\n",
      "Epoch 25, Iteration 35736 in 1.92 seconds. Samples per second 18644.36\n",
      "Train completed in 0.76 minutes\n",
      "EvaluatorHoldout: Processed 34728 (100.0%) in 17.27 sec. Users per second: 2011\n"
     ]
    },
    {
     "name": "stderr",
     "output_type": "stream",
     "text": [
      "[I 2024-12-18 02:13:18,359] Trial 89 finished with value: 0.017931934983161625 and parameters: {'topK': 265, 'lambda_i': 0.0017668047931034422, 'lambda_j': 0.0006643631755853813, 'learning_rate': 0.36614427249805664}. Best is trial 34 with value: 0.018005800406241015.\n"
     ]
    },
    {
     "name": "stdout",
     "output_type": "stream",
     "text": [
      "Epoch 1, Iteration 35736 in 1.38 seconds. Samples per second 25807.59\n",
      "Epoch 2, Iteration 35736 in 1.47 seconds. Samples per second 24327.17\n",
      "Epoch 3, Iteration 35736 in 1.69 seconds. Samples per second 21086.67\n",
      "Epoch 4, Iteration 35736 in 1.75 seconds. Samples per second 20407.21\n",
      "Epoch 5, Iteration 35736 in 1.70 seconds. Samples per second 21023.44\n",
      "Epoch 6, Iteration 35736 in 1.84 seconds. Samples per second 19395.28\n",
      "Epoch 7, Iteration 35736 in 1.82 seconds. Samples per second 19589.39\n",
      "Epoch 8, Iteration 35736 in 1.83 seconds. Samples per second 19537.10\n",
      "Epoch 9, Iteration 35736 in 1.83 seconds. Samples per second 19508.13\n",
      "Epoch 10, Iteration 35736 in 1.84 seconds. Samples per second 19404.64\n",
      "Epoch 11, Iteration 35736 in 1.84 seconds. Samples per second 19384.06\n",
      "Epoch 12, Iteration 35736 in 1.88 seconds. Samples per second 19015.76\n",
      "Epoch 13, Iteration 35736 in 1.83 seconds. Samples per second 19541.37\n",
      "Epoch 14, Iteration 35736 in 1.89 seconds. Samples per second 18908.44\n",
      "Epoch 15, Iteration 35736 in 1.87 seconds. Samples per second 19152.86\n",
      "Epoch 16, Iteration 35736 in 1.85 seconds. Samples per second 19321.73\n",
      "Epoch 17, Iteration 35736 in 1.85 seconds. Samples per second 19280.86\n",
      "Epoch 18, Iteration 35736 in 1.88 seconds. Samples per second 19022.94\n",
      "Epoch 19, Iteration 35736 in 1.94 seconds. Samples per second 18426.12\n",
      "Epoch 20, Iteration 35736 in 1.91 seconds. Samples per second 18689.31\n",
      "Epoch 21, Iteration 35736 in 1.89 seconds. Samples per second 18926.36\n",
      "Epoch 22, Iteration 35736 in 1.88 seconds. Samples per second 18991.78\n",
      "Epoch 23, Iteration 35736 in 1.93 seconds. Samples per second 18509.50\n",
      "Epoch 24, Iteration 35736 in 1.95 seconds. Samples per second 18312.29\n",
      "Epoch 25, Iteration 35736 in 1.91 seconds. Samples per second 18734.04\n",
      "Train completed in 0.76 minutes\n",
      "EvaluatorHoldout: Processed 34728 (100.0%) in 17.25 sec. Users per second: 2013\n"
     ]
    },
    {
     "name": "stderr",
     "output_type": "stream",
     "text": [
      "[I 2024-12-18 02:14:39,066] Trial 90 finished with value: 0.017686867191013828 and parameters: {'topK': 270, 'lambda_i': 0.010834250379191342, 'lambda_j': 0.0007031868094763908, 'learning_rate': 0.33260540949630113}. Best is trial 34 with value: 0.018005800406241015.\n"
     ]
    },
    {
     "name": "stdout",
     "output_type": "stream",
     "text": [
      "Epoch 1, Iteration 35736 in 1.37 seconds. Samples per second 26037.01\n",
      "Epoch 2, Iteration 35736 in 1.53 seconds. Samples per second 23421.58\n",
      "Epoch 3, Iteration 35736 in 1.69 seconds. Samples per second 21154.09\n",
      "Epoch 4, Iteration 35736 in 1.92 seconds. Samples per second 18565.35\n",
      "Epoch 5, Iteration 35736 in 1.86 seconds. Samples per second 19227.57\n",
      "Epoch 6, Iteration 35736 in 1.86 seconds. Samples per second 19206.54\n",
      "Epoch 7, Iteration 35736 in 1.88 seconds. Samples per second 19003.80\n",
      "Epoch 8, Iteration 35736 in 1.88 seconds. Samples per second 19001.57\n",
      "Epoch 9, Iteration 35736 in 1.89 seconds. Samples per second 18924.63\n",
      "Epoch 10, Iteration 35736 in 1.84 seconds. Samples per second 19429.65\n",
      "Epoch 11, Iteration 35736 in 1.88 seconds. Samples per second 18981.81\n",
      "Epoch 12, Iteration 35736 in 1.83 seconds. Samples per second 19563.37\n",
      "Epoch 13, Iteration 35736 in 1.90 seconds. Samples per second 18832.64\n",
      "Epoch 14, Iteration 35736 in 1.83 seconds. Samples per second 19503.24\n",
      "Epoch 15, Iteration 35736 in 1.89 seconds. Samples per second 18945.13\n",
      "Epoch 16, Iteration 35736 in 1.88 seconds. Samples per second 18987.24\n",
      "Epoch 17, Iteration 35736 in 1.89 seconds. Samples per second 18906.80\n",
      "Epoch 18, Iteration 35736 in 1.85 seconds. Samples per second 19309.49\n",
      "Epoch 19, Iteration 35736 in 1.90 seconds. Samples per second 18831.19\n",
      "Epoch 20, Iteration 35736 in 1.93 seconds. Samples per second 18551.15\n",
      "Epoch 21, Iteration 35736 in 1.88 seconds. Samples per second 19037.01\n",
      "Epoch 22, Iteration 35736 in 1.89 seconds. Samples per second 18931.06\n",
      "Epoch 23, Iteration 35736 in 1.93 seconds. Samples per second 18531.38\n",
      "Epoch 24, Iteration 35736 in 1.92 seconds. Samples per second 18592.40\n",
      "Epoch 25, Iteration 35736 in 1.96 seconds. Samples per second 18264.43\n",
      "Train completed in 0.77 minutes\n",
      "EvaluatorHoldout: Processed 34728 (100.0%) in 17.00 sec. Users per second: 2043\n"
     ]
    },
    {
     "name": "stderr",
     "output_type": "stream",
     "text": [
      "[I 2024-12-18 02:15:59,986] Trial 91 finished with value: 0.0178747422143242 and parameters: {'topK': 256, 'lambda_i': 0.008251066937541638, 'lambda_j': 0.0006244773023706263, 'learning_rate': 0.27628498627432396}. Best is trial 34 with value: 0.018005800406241015.\n"
     ]
    },
    {
     "name": "stdout",
     "output_type": "stream",
     "text": [
      "Epoch 1, Iteration 35736 in 1.39 seconds. Samples per second 25718.76\n",
      "Epoch 2, Iteration 35736 in 1.50 seconds. Samples per second 23819.23\n",
      "Epoch 3, Iteration 35736 in 1.70 seconds. Samples per second 20985.02\n",
      "Epoch 4, Iteration 35736 in 1.76 seconds. Samples per second 20296.57\n",
      "Epoch 5, Iteration 35736 in 1.76 seconds. Samples per second 20350.72\n",
      "Epoch 6, Iteration 35736 in 1.79 seconds. Samples per second 19981.45\n",
      "Epoch 7, Iteration 35736 in 1.74 seconds. Samples per second 20507.72\n",
      "Epoch 8, Iteration 35736 in 1.89 seconds. Samples per second 18913.81\n",
      "Epoch 9, Iteration 35736 in 1.88 seconds. Samples per second 19049.49\n",
      "Epoch 10, Iteration 35736 in 1.83 seconds. Samples per second 19529.84\n",
      "Epoch 11, Iteration 35736 in 1.89 seconds. Samples per second 18934.70\n",
      "Epoch 12, Iteration 35736 in 1.85 seconds. Samples per second 19284.54\n",
      "Epoch 13, Iteration 35736 in 1.91 seconds. Samples per second 18745.64\n",
      "Epoch 14, Iteration 35736 in 1.90 seconds. Samples per second 18843.02\n",
      "Epoch 15, Iteration 35736 in 1.90 seconds. Samples per second 18848.28\n",
      "Epoch 16, Iteration 35736 in 1.85 seconds. Samples per second 19327.62\n",
      "Epoch 17, Iteration 35736 in 1.92 seconds. Samples per second 18626.05\n",
      "Epoch 18, Iteration 35736 in 1.86 seconds. Samples per second 19238.61\n",
      "Epoch 19, Iteration 35736 in 1.88 seconds. Samples per second 19037.14\n",
      "Epoch 20, Iteration 35736 in 1.90 seconds. Samples per second 18773.18\n",
      "Epoch 21, Iteration 35736 in 1.88 seconds. Samples per second 18983.82\n",
      "Epoch 22, Iteration 35736 in 1.90 seconds. Samples per second 18769.43\n",
      "Epoch 23, Iteration 35736 in 1.95 seconds. Samples per second 18291.19\n",
      "Epoch 24, Iteration 35736 in 1.96 seconds. Samples per second 18198.92\n",
      "Epoch 25, Iteration 35736 in 1.97 seconds. Samples per second 18113.81\n",
      "Train completed in 0.76 minutes\n",
      "EvaluatorHoldout: Processed 34728 (100.0%) in 17.17 sec. Users per second: 2022\n"
     ]
    },
    {
     "name": "stderr",
     "output_type": "stream",
     "text": [
      "[I 2024-12-18 02:17:20,849] Trial 92 finished with value: 0.017913243236325566 and parameters: {'topK': 257, 'lambda_i': 0.0023256269161891522, 'lambda_j': 0.0005295300252609062, 'learning_rate': 0.17108564667974685}. Best is trial 34 with value: 0.018005800406241015.\n"
     ]
    },
    {
     "name": "stdout",
     "output_type": "stream",
     "text": [
      "Epoch 1, Iteration 35736 in 1.39 seconds. Samples per second 25752.82\n",
      "Epoch 2, Iteration 35736 in 1.55 seconds. Samples per second 23114.08\n",
      "Epoch 3, Iteration 35736 in 1.74 seconds. Samples per second 20498.19\n",
      "Epoch 4, Iteration 35736 in 1.74 seconds. Samples per second 20549.68\n",
      "Epoch 5, Iteration 35736 in 1.76 seconds. Samples per second 20287.35\n",
      "Epoch 6, Iteration 35736 in 1.78 seconds. Samples per second 20022.14\n",
      "Epoch 7, Iteration 35736 in 1.79 seconds. Samples per second 19956.55\n",
      "Epoch 8, Iteration 35736 in 1.83 seconds. Samples per second 19532.05\n",
      "Epoch 9, Iteration 35736 in 1.83 seconds. Samples per second 19496.92\n",
      "Epoch 10, Iteration 35736 in 1.86 seconds. Samples per second 19180.73\n",
      "Epoch 11, Iteration 35736 in 1.86 seconds. Samples per second 19217.44\n",
      "Epoch 12, Iteration 35736 in 1.87 seconds. Samples per second 19143.13\n",
      "Epoch 13, Iteration 35736 in 1.86 seconds. Samples per second 19171.95\n",
      "Epoch 14, Iteration 35736 in 1.90 seconds. Samples per second 18839.75\n",
      "Epoch 15, Iteration 35736 in 1.88 seconds. Samples per second 19016.12\n",
      "Epoch 16, Iteration 35736 in 1.86 seconds. Samples per second 19184.86\n",
      "Epoch 17, Iteration 35736 in 1.92 seconds. Samples per second 18628.56\n",
      "Epoch 18, Iteration 35736 in 1.88 seconds. Samples per second 19029.95\n",
      "Epoch 19, Iteration 35736 in 1.94 seconds. Samples per second 18436.98\n",
      "Epoch 20, Iteration 35736 in 1.90 seconds. Samples per second 18830.92\n",
      "Epoch 21, Iteration 35736 in 1.86 seconds. Samples per second 19230.30\n",
      "Epoch 22, Iteration 35736 in 1.89 seconds. Samples per second 18935.31\n",
      "Epoch 23, Iteration 35736 in 1.89 seconds. Samples per second 18924.24\n",
      "Epoch 24, Iteration 35736 in 1.86 seconds. Samples per second 19172.52\n",
      "Epoch 25, Iteration 35736 in 1.92 seconds. Samples per second 18564.25\n",
      "Train completed in 0.76 minutes\n",
      "EvaluatorHoldout: Processed 34728 (100.0%) in 17.15 sec. Users per second: 2025\n"
     ]
    },
    {
     "name": "stderr",
     "output_type": "stream",
     "text": [
      "[I 2024-12-18 02:18:41,660] Trial 93 finished with value: 0.017881493090978348 and parameters: {'topK': 262, 'lambda_i': 0.0026652760158613203, 'lambda_j': 0.0007386014038721892, 'learning_rate': 0.25009418253150084}. Best is trial 34 with value: 0.018005800406241015.\n"
     ]
    },
    {
     "name": "stdout",
     "output_type": "stream",
     "text": [
      "Epoch 1, Iteration 35736 in 1.38 seconds. Samples per second 25888.84\n",
      "Epoch 2, Iteration 35736 in 1.60 seconds. Samples per second 22269.46\n",
      "Epoch 3, Iteration 35736 in 1.80 seconds. Samples per second 19802.29\n",
      "Epoch 4, Iteration 35736 in 1.75 seconds. Samples per second 20442.28\n",
      "Epoch 5, Iteration 35736 in 1.82 seconds. Samples per second 19612.54\n",
      "Epoch 6, Iteration 35736 in 1.87 seconds. Samples per second 19077.08\n",
      "Epoch 7, Iteration 35736 in 1.84 seconds. Samples per second 19456.32\n",
      "Epoch 8, Iteration 35736 in 1.89 seconds. Samples per second 18930.92\n",
      "Epoch 9, Iteration 35736 in 1.86 seconds. Samples per second 19205.70\n",
      "Epoch 10, Iteration 35736 in 1.82 seconds. Samples per second 19593.55\n",
      "Epoch 11, Iteration 35736 in 1.86 seconds. Samples per second 19193.70\n",
      "Epoch 12, Iteration 35736 in 1.84 seconds. Samples per second 19372.53\n",
      "Epoch 13, Iteration 35736 in 1.85 seconds. Samples per second 19334.21\n",
      "Epoch 14, Iteration 35736 in 1.90 seconds. Samples per second 18822.98\n",
      "Epoch 15, Iteration 35736 in 1.87 seconds. Samples per second 19119.37\n",
      "Epoch 16, Iteration 35736 in 1.89 seconds. Samples per second 18954.13\n",
      "Epoch 17, Iteration 35736 in 1.92 seconds. Samples per second 18615.95\n",
      "Epoch 18, Iteration 35736 in 1.91 seconds. Samples per second 18739.21\n",
      "Epoch 19, Iteration 35736 in 1.88 seconds. Samples per second 19013.14\n",
      "Epoch 20, Iteration 35736 in 1.87 seconds. Samples per second 19108.36\n",
      "Epoch 21, Iteration 35736 in 1.92 seconds. Samples per second 18611.39\n",
      "Epoch 22, Iteration 35736 in 1.95 seconds. Samples per second 18306.95\n",
      "Epoch 23, Iteration 35736 in 1.93 seconds. Samples per second 18484.09\n",
      "Epoch 24, Iteration 35736 in 1.96 seconds. Samples per second 18233.76\n",
      "Epoch 25, Iteration 35736 in 1.94 seconds. Samples per second 18420.62\n",
      "Train completed in 0.77 minutes\n",
      "EvaluatorHoldout: Processed 34728 (100.0%) in 17.10 sec. Users per second: 2031\n"
     ]
    },
    {
     "name": "stderr",
     "output_type": "stream",
     "text": [
      "[I 2024-12-18 02:20:02,557] Trial 94 finished with value: 0.01796429645535558 and parameters: {'topK': 260, 'lambda_i': 0.0007541254925358086, 'lambda_j': 0.00042146975323458153, 'learning_rate': 0.21705566519440928}. Best is trial 34 with value: 0.018005800406241015.\n"
     ]
    },
    {
     "name": "stdout",
     "output_type": "stream",
     "text": [
      "Epoch 1, Iteration 35736 in 1.38 seconds. Samples per second 25913.30\n",
      "Epoch 2, Iteration 35736 in 1.50 seconds. Samples per second 23767.21\n",
      "Epoch 3, Iteration 35736 in 1.74 seconds. Samples per second 20584.05\n",
      "Epoch 4, Iteration 35736 in 1.71 seconds. Samples per second 20927.25\n",
      "Epoch 5, Iteration 35736 in 1.76 seconds. Samples per second 20288.88\n",
      "Epoch 6, Iteration 35736 in 1.78 seconds. Samples per second 20023.77\n",
      "Epoch 7, Iteration 35736 in 1.87 seconds. Samples per second 19071.39\n",
      "Epoch 8, Iteration 35736 in 1.81 seconds. Samples per second 19763.56\n",
      "Epoch 9, Iteration 35736 in 1.86 seconds. Samples per second 19189.99\n",
      "Epoch 10, Iteration 35736 in 1.86 seconds. Samples per second 19205.39\n",
      "Epoch 11, Iteration 35736 in 1.91 seconds. Samples per second 18715.39\n",
      "Epoch 12, Iteration 35736 in 1.87 seconds. Samples per second 19149.77\n",
      "Epoch 13, Iteration 35736 in 1.91 seconds. Samples per second 18686.27\n",
      "Epoch 14, Iteration 35736 in 1.86 seconds. Samples per second 19255.20\n",
      "Epoch 15, Iteration 35736 in 1.88 seconds. Samples per second 19023.02\n",
      "Epoch 16, Iteration 35736 in 1.87 seconds. Samples per second 19157.41\n",
      "Epoch 17, Iteration 35736 in 1.88 seconds. Samples per second 18994.69\n",
      "Epoch 18, Iteration 35736 in 1.88 seconds. Samples per second 18987.94\n",
      "Epoch 19, Iteration 35736 in 1.88 seconds. Samples per second 19027.36\n",
      "Epoch 20, Iteration 35736 in 1.86 seconds. Samples per second 19202.21\n",
      "Epoch 21, Iteration 35736 in 1.89 seconds. Samples per second 18864.99\n",
      "Epoch 22, Iteration 35736 in 1.88 seconds. Samples per second 18989.01\n",
      "Epoch 23, Iteration 35736 in 1.90 seconds. Samples per second 18817.06\n",
      "Epoch 24, Iteration 35736 in 2.05 seconds. Samples per second 17462.15\n",
      "Epoch 25, Iteration 35736 in 1.96 seconds. Samples per second 18225.32\n",
      "Train completed in 0.76 minutes\n",
      "EvaluatorHoldout: Processed 34728 (100.0%) in 17.03 sec. Users per second: 2039\n"
     ]
    },
    {
     "name": "stderr",
     "output_type": "stream",
     "text": [
      "[I 2024-12-18 02:21:23,389] Trial 95 finished with value: 0.017959237868533068 and parameters: {'topK': 252, 'lambda_i': 0.000781364861234363, 'lambda_j': 0.00041131888064671916, 'learning_rate': 0.2103629018272334}. Best is trial 34 with value: 0.018005800406241015.\n"
     ]
    },
    {
     "name": "stdout",
     "output_type": "stream",
     "text": [
      "Epoch 1, Iteration 35736 in 1.41 seconds. Samples per second 25365.13\n",
      "Epoch 2, Iteration 35736 in 1.52 seconds. Samples per second 23559.66\n",
      "Epoch 3, Iteration 35736 in 1.71 seconds. Samples per second 20879.08\n",
      "Epoch 4, Iteration 35736 in 1.74 seconds. Samples per second 20524.43\n",
      "Epoch 5, Iteration 35736 in 1.77 seconds. Samples per second 20206.16\n",
      "Epoch 6, Iteration 35736 in 1.82 seconds. Samples per second 19599.42\n",
      "Epoch 7, Iteration 35736 in 1.82 seconds. Samples per second 19672.40\n",
      "Epoch 8, Iteration 35736 in 1.82 seconds. Samples per second 19677.23\n",
      "Epoch 9, Iteration 35736 in 1.85 seconds. Samples per second 19364.29\n",
      "Epoch 10, Iteration 35736 in 1.87 seconds. Samples per second 19113.46\n",
      "Epoch 11, Iteration 35736 in 1.86 seconds. Samples per second 19178.26\n",
      "Epoch 12, Iteration 35736 in 1.87 seconds. Samples per second 19104.10\n",
      "Epoch 13, Iteration 35736 in 1.87 seconds. Samples per second 19158.07\n",
      "Epoch 14, Iteration 35736 in 1.88 seconds. Samples per second 19033.68\n",
      "Epoch 15, Iteration 35736 in 1.86 seconds. Samples per second 19214.38\n",
      "Epoch 16, Iteration 35736 in 1.89 seconds. Samples per second 18946.93\n",
      "Epoch 17, Iteration 35736 in 1.93 seconds. Samples per second 18485.93\n",
      "Epoch 18, Iteration 35736 in 1.88 seconds. Samples per second 18996.57\n",
      "Epoch 19, Iteration 35736 in 1.90 seconds. Samples per second 18763.93\n",
      "Epoch 20, Iteration 35736 in 1.86 seconds. Samples per second 19237.25\n",
      "Epoch 21, Iteration 35736 in 1.92 seconds. Samples per second 18608.71\n",
      "Epoch 22, Iteration 35736 in 1.94 seconds. Samples per second 18436.17\n",
      "Epoch 23, Iteration 35736 in 1.89 seconds. Samples per second 18860.29\n",
      "Epoch 24, Iteration 35736 in 1.84 seconds. Samples per second 19391.98\n",
      "Epoch 25, Iteration 35736 in 1.90 seconds. Samples per second 18779.43\n",
      "Train completed in 0.76 minutes\n",
      "EvaluatorHoldout: Processed 34728 (100.0%) in 16.97 sec. Users per second: 2046\n"
     ]
    },
    {
     "name": "stderr",
     "output_type": "stream",
     "text": [
      "[I 2024-12-18 02:22:43,937] Trial 96 finished with value: 0.017781459450861764 and parameters: {'topK': 252, 'lambda_i': 0.0007814804476491066, 'lambda_j': 0.0004109938877481999, 'learning_rate': 0.21793809520815016}. Best is trial 34 with value: 0.018005800406241015.\n"
     ]
    },
    {
     "name": "stdout",
     "output_type": "stream",
     "text": [
      "Epoch 1, Iteration 35736 in 1.42 seconds. Samples per second 25188.03\n",
      "Epoch 2, Iteration 35736 in 1.59 seconds. Samples per second 22459.94\n",
      "Epoch 3, Iteration 35736 in 1.79 seconds. Samples per second 19994.71\n",
      "Epoch 4, Iteration 35736 in 1.82 seconds. Samples per second 19676.56\n"
     ]
    }
   ],
   "source": [
    "study = op.create_study(direction=\"maximize\")\n",
    "save_results_bpr = SaveResults()\n",
    "study.optimize(objective, callbacks=[save_results_bpr], n_trials=100)"
   ]
  },
  {
   "cell_type": "code",
   "execution_count": null,
   "id": "827389ff-2e13-4e3f-b502-cbcbc01e382f",
   "metadata": {},
   "outputs": [],
   "source": [
    "save_results_bpr.results_df.to_csv(\"result_experiments/SLIM_bpr/results_optuna.csv\")"
   ]
  },
  {
   "cell_type": "code",
   "execution_count": null,
   "id": "b0a719b9-9306-4e35-b299-8c52b35dc299",
   "metadata": {},
   "outputs": [],
   "source": []
  }
 ],
 "metadata": {
  "kernelspec": {
   "display_name": "RecSys",
   "language": "python",
   "name": "recsys"
  },
  "language_info": {
   "codemirror_mode": {
    "name": "ipython",
    "version": 3
   },
   "file_extension": ".py",
   "mimetype": "text/x-python",
   "name": "python",
   "nbconvert_exporter": "python",
   "pygments_lexer": "ipython3",
   "version": "3.12.7"
  }
 },
 "nbformat": 4,
 "nbformat_minor": 5
}
