{
 "cells": [
  {
   "cell_type": "code",
   "execution_count": 1,
   "id": "75566b91-23f5-4fdc-9ad9-c76a6b7383a3",
   "metadata": {},
   "outputs": [],
   "source": [
    "from pathlib import Path\n",
    "import sys  \n",
    "import os\n",
    "import pandas as pd \n",
    "from datetime import datetime\n",
    "import scipy.sparse as sps\n",
    "from numpy import linalg as LA\n",
    "\n",
    "import numpy as np\n",
    "from operator import itemgetter"
   ]
  },
  {
   "cell_type": "code",
   "execution_count": 7,
   "id": "80604c25-c0ce-4050-a55c-7ad4390f0502",
   "metadata": {},
   "outputs": [],
   "source": [
    "sys.path.append(os.path.abspath(os.path.join(os.getcwd(), \"..\", \"libs\")))\n",
    "sys.path.append(os.path.abspath(os.path.join(os.getcwd(), \"..\")))\n",
    "sys.path.append(os.path.abspath(os.path.join(os.getcwd(), \"..\", \"src\")))"
   ]
  },
  {
   "cell_type": "code",
   "execution_count": 8,
   "id": "70affe32-5cda-4979-b30a-7bd7f3c2147d",
   "metadata": {},
   "outputs": [
    {
     "name": "stdout",
     "output_type": "stream",
     "text": [
      "The autoreload extension is already loaded. To reload it, use:\n",
      "  %reload_ext autoreload\n"
     ]
    }
   ],
   "source": [
    "%load_ext autoreload\n",
    "%autoreload 2"
   ]
  },
  {
   "cell_type": "code",
   "execution_count": 10,
   "id": "e1890247-aa8a-4586-8f67-b0e1c1abce17",
   "metadata": {},
   "outputs": [],
   "source": [
    "from Utils.load_URM import load_URM\n",
    "from Utils.load_ICM import load_ICM\n",
    "\n",
    "from scipy.sparse import hstack, vstack\n",
    "from Evaluation.Evaluator import EvaluatorHoldout\n",
    "from Data_manager.split_functions.split_train_validation_random_holdout import split_train_in_two_percentage_global_sample\n",
    "\n",
    "URM_all = load_URM(\"../data/data_train.csv\")\n",
    "ICM_all = load_ICM(\"../data/data_ICM_metadata.csv\")"
   ]
  },
  {
   "cell_type": "code",
   "execution_count": 11,
   "id": "afb5e122-ce25-45b9-b2d1-480a1894ac36",
   "metadata": {},
   "outputs": [],
   "source": [
    "from libs.Recommenders.SLIM.SLIMElasticNetRecommender import SLIMElasticNetRecommender \n",
    "from libs.Recommenders.GraphBased.RP3betaRecommender import RP3betaRecommender\n",
    "from libs.Recommenders.KNN.ItemKNNCFRecommender import ItemKNNCFRecommender\n",
    "from libs.Recommenders.KNN.ItemKNNCustomSimilarityRecommender import ItemKNNCustomSimilarityRecommender"
   ]
  },
  {
   "cell_type": "code",
   "execution_count": 12,
   "id": "c1cbc0a6-0415-4a01-96fa-236835067caf",
   "metadata": {},
   "outputs": [],
   "source": [
    "import optuna as op"
   ]
  },
  {
   "cell_type": "code",
   "execution_count": 7,
   "id": "a770d918-4de6-4163-906f-a9bf18a9551c",
   "metadata": {},
   "outputs": [],
   "source": [
    "# URM_train = sps.load_npz('URM_train.npz')\n",
    "# URM_val = sps.load_npz('URM_val.npz')\n",
    "\n",
    "# URM_train_val, URM_test = split_train_in_two_percentage_global_sample(URM_all, train_percentage = 0.85)\n",
    "# URM_train, URM_val = split_train_in_two_percentage_global_sample(URM_train_val, train_percentage = 0.85)"
   ]
  },
  {
   "cell_type": "code",
   "execution_count": 13,
   "id": "63156ad4-61f1-4e44-9ce2-158938e872bb",
   "metadata": {},
   "outputs": [],
   "source": [
    "URM_train = sps.load_npz(\"URM_train_ens.npz\")\n",
    "URM_val = sps.load_npz(\"URM_val_ens.npz\")\n",
    "URM_test = sps.load_npz(\"URM_test_ens.npz\")\n",
    "\n",
    "URM_train_val = sps.load_npz(\"URM_train_val_ens.npz\")"
   ]
  },
  {
   "cell_type": "code",
   "execution_count": 14,
   "id": "f27af10e-7408-443f-a2a7-066b44ab03f2",
   "metadata": {},
   "outputs": [
    {
     "name": "stdout",
     "output_type": "stream",
     "text": [
      "Train size: 1274929, Val size: 224987, Test size: 264691\n"
     ]
    }
   ],
   "source": [
    "print(f\"Train size: {URM_train.getnnz()}, Val size: {URM_val.getnnz()}, Test size: {URM_test.getnnz()}\")"
   ]
  },
  {
   "cell_type": "code",
   "execution_count": 15,
   "id": "2c38d97a-e2b6-430e-b791-d89617d0ecbc",
   "metadata": {},
   "outputs": [
    {
     "name": "stdout",
     "output_type": "stream",
     "text": [
      "EvaluatorHoldout: Ignoring 1008 ( 2.8%) Users that have less than 1 test interactions\n",
      "EvaluatorHoldout: Ignoring 527 ( 1.5%) Users that have less than 1 test interactions\n"
     ]
    }
   ],
   "source": [
    "evaluator_val = EvaluatorHoldout(URM_val, cutoff_list=[10])\n",
    "evaluator_test = EvaluatorHoldout(URM_test, cutoff_list=[10])"
   ]
  },
  {
   "cell_type": "code",
   "execution_count": 16,
   "id": "fc2ba4ea-d74a-4711-b8bf-09be563412a0",
   "metadata": {},
   "outputs": [],
   "source": [
    "def AP(recommended_items, relevant_items):\n",
    "   \n",
    "    is_relevant = np.in1d(recommended_items, relevant_items, assume_unique=True)\n",
    "    \n",
    "    # Cumulative sum: precision at 1, at 2, at 3 ...\n",
    "    p_at_k = is_relevant * np.cumsum(is_relevant, dtype=np.float32) / (1 + np.arange(is_relevant.shape[0]))\n",
    "    ap_score = np.sum(p_at_k) / np.min([relevant_items.shape[0], is_relevant.shape[0]])\n",
    "\n",
    "    return ap_score"
   ]
  },
  {
   "cell_type": "code",
   "execution_count": 17,
   "id": "a0c58da2-f2a6-447d-9095-770323c42fdf",
   "metadata": {},
   "outputs": [],
   "source": [
    "# We pass as paramether the recommender class\n",
    "\n",
    "def evaluate_algorithm(URM_test, recommender_object, at=10):\n",
    "    \n",
    "    #cumulative_precision = 0.0\n",
    "    #cumulative_recall = 0.0\n",
    "    cumulative_AP = 0.0\n",
    "    \n",
    "    num_eval = 0\n",
    "\n",
    "\n",
    "    for user_id in range(URM_test.shape[0]):\n",
    "\n",
    "        relevant_items = URM_test.indices[URM_test.indptr[user_id]:URM_test.indptr[user_id+1]]\n",
    "        \n",
    "        if len(relevant_items)>0:\n",
    "            \n",
    "            recommended_items = recommender_object.recommend(user_id, cutoff=at)\n",
    "            num_eval+=1\n",
    "\n",
    "            #cumulative_precision += precision(recommended_items, relevant_items)\n",
    "            #cumulative_recall += recall(recommended_items, relevant_items)\n",
    "            cumulative_AP += AP(recommended_items, relevant_items)\n",
    "            \n",
    "    #cumulative_precision /= num_eval\n",
    "    #cumulative_recall /= num_eval\n",
    "    MAP = cumulative_AP / num_eval\n",
    "    \n",
    "    return MAP\n"
   ]
  },
  {
   "cell_type": "code",
   "execution_count": 18,
   "id": "fd60c2da-fb70-4d92-8f7f-cbdbcada2321",
   "metadata": {},
   "outputs": [
    {
     "name": "stdout",
     "output_type": "stream",
     "text": [
      "SLIMElasticNetRecommender: Loading model from file 'result_experiments/SLIM/slim_307_train_ens'\n",
      "SLIMElasticNetRecommender: Loading complete\n"
     ]
    }
   ],
   "source": [
    "slim_model_train = SLIMElasticNetRecommender(URM_train)\n",
    "#slim_model_train.fit(l1_ratio=0.11006885790633625, alpha=0.0002551115306127753, topK = 307)\n",
    "\n",
    "slim_model_train.load_model('result_experiments/SLIM/', 'slim_307_train_ens')\n",
    "# slim_model_all = SLIMElasticNetRecommender(URM_train)\n",
    "# slim_model_all.load_model('result_experiments/SLIM/', 'slim_300_2_weights')"
   ]
  },
  {
   "cell_type": "code",
   "execution_count": 19,
   "id": "d9a95f2a-119c-432a-b21e-504dbdc4a3ad",
   "metadata": {},
   "outputs": [
    {
     "name": "stdout",
     "output_type": "stream",
     "text": [
      "EvaluatorHoldout: Processed 34728 (100.0%) in 13.34 sec. Users per second: 2603\n"
     ]
    }
   ],
   "source": [
    "slim_train_res, _ = evaluator_val.evaluateRecommender(slim_model_train)"
   ]
  },
  {
   "cell_type": "code",
   "execution_count": 20,
   "id": "784ca8c6-fdbe-4978-a5ca-c5fc943e461d",
   "metadata": {},
   "outputs": [
    {
     "data": {
      "text/plain": [
       "cutoff\n",
       "10    0.030621\n",
       "Name: MAP, dtype: object"
      ]
     },
     "execution_count": 20,
     "metadata": {},
     "output_type": "execute_result"
    }
   ],
   "source": [
    "slim_train_res[\"MAP\"]"
   ]
  },
  {
   "cell_type": "code",
   "execution_count": 21,
   "id": "69cce39f-86d3-4543-a892-1194b5d1f858",
   "metadata": {},
   "outputs": [
    {
     "data": {
      "text/plain": [
       "0.06297588460871925"
      ]
     },
     "execution_count": 21,
     "metadata": {},
     "output_type": "execute_result"
    }
   ],
   "source": [
    "evaluate_algorithm(URM_val, slim_model_train)"
   ]
  },
  {
   "cell_type": "code",
   "execution_count": 22,
   "id": "27e021d3-ac4f-46d5-9345-7c31fd94f990",
   "metadata": {},
   "outputs": [
    {
     "name": "stdout",
     "output_type": "stream",
     "text": [
      "SLIMElasticNetRecommender: Loading model from file 'result_experiments/SLIM/slim_307_train_val_ens'\n",
      "SLIMElasticNetRecommender: Loading complete\n"
     ]
    }
   ],
   "source": [
    "slim_model_train_val = SLIMElasticNetRecommender(URM_train_val)\n",
    "slim_model_train_val.load_model('result_experiments/SLIM/', 'slim_307_train_val_ens')\n",
    "#slim_model_train_val.fit(l1_ratio=0.11006885790633625, alpha=0.0002551115306127753, topK = 307)"
   ]
  },
  {
   "cell_type": "code",
   "execution_count": 23,
   "id": "a63ef2cd-2338-4ff2-98f1-d25e86c490f6",
   "metadata": {},
   "outputs": [
    {
     "name": "stdout",
     "output_type": "stream",
     "text": [
      "EvaluatorHoldout: Processed 35209 (100.0%) in 14.46 sec. Users per second: 2434\n"
     ]
    }
   ],
   "source": [
    "slim_train_val_res, _ = evaluator_test.evaluateRecommender(slim_model_train_val)"
   ]
  },
  {
   "cell_type": "code",
   "execution_count": 24,
   "id": "a671e066-688c-4271-ac91-91d1d7ca53ac",
   "metadata": {},
   "outputs": [
    {
     "data": {
      "text/plain": [
       "cutoff\n",
       "10    0.047714\n",
       "Name: MAP, dtype: object"
      ]
     },
     "execution_count": 24,
     "metadata": {},
     "output_type": "execute_result"
    }
   ],
   "source": [
    "slim_train_val_res[\"MAP\"]"
   ]
  },
  {
   "cell_type": "code",
   "execution_count": 25,
   "id": "1bbccc39-7b35-4d62-9823-76b7c715f2d8",
   "metadata": {},
   "outputs": [
    {
     "data": {
      "text/plain": [
       "0.08366541182230076"
      ]
     },
     "execution_count": 25,
     "metadata": {},
     "output_type": "execute_result"
    }
   ],
   "source": [
    "evaluate_algorithm(URM_test, slim_model_train_val)"
   ]
  },
  {
   "cell_type": "code",
   "execution_count": 56,
   "id": "1f174078-ecca-411f-9a40-44ab69c7470f",
   "metadata": {},
   "outputs": [
    {
     "name": "stdout",
     "output_type": "stream",
     "text": [
      "RP3betaRecommender: Similarity column 38121 (100.0%), 4155.69 column/sec. Elapsed time 9.17 sec\n",
      "RP3betaRecommender: Similarity column 38121 (100.0%), 3808.90 column/sec. Elapsed time 10.01 sec\n"
     ]
    }
   ],
   "source": [
    "rp3_beta_train = RP3betaRecommender(URM_train)\n",
    "#rp3_beta_train.load_model('result_experiments/RP3beta/', 'rp3_beta_12_weights_train_ens')\n",
    "#rp3_beta_train.fit(alpha=0.34989902568351894, beta=0.1817338725671425, topK=12, min_rating=0.0, implicit=False, normalize_similarity=True)\n",
    "rp3_beta_train.fit(alpha=0.4176290154380183, beta=0.21520987912346945, topK=19, min_rating=0.0, implicit=False, normalize_similarity=True)\n",
    "\n",
    "rp3_beta_train_val = RP3betaRecommender(URM_train_val)\n",
    "#rp3_beta_train_val.load_model('result_experiments/RP3beta/', 'rp3_beta_12_weights_train_val_ens')\n",
    "rp3_beta_train_val.fit(alpha=0.4176290154380183, beta=0.21520987912346945, topK=19, min_rating=0.0, implicit=False, normalize_similarity=True)\n",
    "\n"
   ]
  },
  {
   "cell_type": "code",
   "execution_count": 57,
   "id": "b5621d0e-d71c-4761-8e17-d3dede57fe8e",
   "metadata": {},
   "outputs": [
    {
     "data": {
      "text/plain": [
       "(0.058588907885092474, 0.07551240567510359)"
      ]
     },
     "execution_count": 57,
     "metadata": {},
     "output_type": "execute_result"
    }
   ],
   "source": [
    "evaluate_algorithm(URM_val, rp3_beta_train), evaluate_algorithm(URM_test, rp3_beta_train_val)"
   ]
  },
  {
   "cell_type": "code",
   "execution_count": 58,
   "id": "ab3fa75f-ad1f-4373-85d7-32e81eb026b7",
   "metadata": {},
   "outputs": [
    {
     "name": "stdout",
     "output_type": "stream",
     "text": [
      "EvaluatorHoldout: Processed 34728 (100.0%) in 10.00 sec. Users per second: 3472\n",
      "EvaluatorHoldout: Processed 35209 (100.0%) in 10.22 sec. Users per second: 3446\n"
     ]
    }
   ],
   "source": [
    "rp3_beta_train_res, _ = evaluator_val.evaluateRecommender(rp3_beta_train)\n",
    "rp3_beta_train_val_res, _ = evaluator_test.evaluateRecommender(rp3_beta_train_val)"
   ]
  },
  {
   "cell_type": "code",
   "execution_count": 59,
   "id": "5b73157c-4aa9-4b5f-9c5d-034906717215",
   "metadata": {},
   "outputs": [
    {
     "data": {
      "text/plain": [
       "(cutoff\n",
       " 10    0.02844\n",
       " Name: MAP, dtype: object,\n",
       " cutoff\n",
       " 10    0.042595\n",
       " Name: MAP, dtype: object)"
      ]
     },
     "execution_count": 59,
     "metadata": {},
     "output_type": "execute_result"
    }
   ],
   "source": [
    "rp3_beta_train_res[\"MAP\"], rp3_beta_train_val_res[\"MAP\"]"
   ]
  },
  {
   "cell_type": "code",
   "execution_count": 30,
   "id": "f456dd00-6e21-46c8-9b7d-3e7f26f6cb35",
   "metadata": {},
   "outputs": [
    {
     "name": "stdout",
     "output_type": "stream",
     "text": [
      "ItemKNNCFRecommender: Loading model from file 'result_experiments/ItemKNNCFRecommender/knn_4_train_ens.zip'\n",
      "ItemKNNCFRecommender: Loading complete\n",
      "ItemKNNCFRecommender: Loading model from file 'result_experiments/ItemKNNCFRecommender/knn_4_train_val_ens.zip'\n",
      "ItemKNNCFRecommender: Loading complete\n"
     ]
    }
   ],
   "source": [
    "# similarity='jaccard', topK=5, shrink=12, normalize=False\n",
    "\n",
    "knn_train = ItemKNNCFRecommender(URM_train)\n",
    "knn_train.load_model(\"result_experiments/ItemKNNCFRecommender/\", \"knn_4_train_ens.zip\")\n",
    "# knn_train.fit(similarity='tversky', topK=4, shrink=18,\n",
    "#                   feature_weighting='none', tversky_alpha=0.1263621,\n",
    "#                   tversky_beta=1.72181042,\n",
    "#                   normalize=False)\n",
    "\n",
    "knn_train_val = ItemKNNCFRecommender(URM_train_val)\n",
    "knn_train_val.load_model(\"result_experiments/ItemKNNCFRecommender/\", \"knn_4_train_val_ens.zip\")\n",
    "# knn_train_val.fit(similarity='tversky', topK=4, shrink=18,\n",
    "#                   feature_weighting='none', tversky_alpha=0.1263621,\n",
    "#                   tversky_beta=1.72181042,\n",
    "#                   normalize=False)"
   ]
  },
  {
   "cell_type": "code",
   "execution_count": 31,
   "id": "5bb55a26-dc2c-47fa-95b0-080009b55fb4",
   "metadata": {},
   "outputs": [
    {
     "data": {
      "text/plain": [
       "(0.057754182629180306, 0.07549006255404529)"
      ]
     },
     "execution_count": 31,
     "metadata": {},
     "output_type": "execute_result"
    }
   ],
   "source": [
    "evaluate_algorithm(URM_val, knn_train), evaluate_algorithm(URM_test, knn_train_val)"
   ]
  },
  {
   "cell_type": "code",
   "execution_count": 32,
   "id": "78e97b86-5dc0-45c0-a862-9ab540f04994",
   "metadata": {},
   "outputs": [
    {
     "name": "stdout",
     "output_type": "stream",
     "text": [
      "EvaluatorHoldout: Processed 34728 (100.0%) in 8.17 sec. Users per second: 4251\n",
      "EvaluatorHoldout: Processed 35209 (100.0%) in 8.42 sec. Users per second: 4182\n"
     ]
    }
   ],
   "source": [
    "knn_train_res, _ = evaluator_val.evaluateRecommender(knn_train)\n",
    "knn_train_val_res, _ = evaluator_test.evaluateRecommender(knn_train_val)"
   ]
  },
  {
   "cell_type": "code",
   "execution_count": 33,
   "id": "62b6e56a-ac98-42c0-a7be-8ddb51593dc0",
   "metadata": {},
   "outputs": [
    {
     "data": {
      "text/plain": [
       "(cutoff\n",
       " 10    0.027949\n",
       " Name: MAP, dtype: object,\n",
       " cutoff\n",
       " 10    0.042742\n",
       " Name: MAP, dtype: object)"
      ]
     },
     "execution_count": 33,
     "metadata": {},
     "output_type": "execute_result"
    }
   ],
   "source": [
    "knn_train_res[\"MAP\"], knn_train_val_res[\"MAP\"]"
   ]
  },
  {
   "cell_type": "markdown",
   "id": "021f7fc2-5d55-4c4c-b061-5033b6a38500",
   "metadata": {},
   "source": [
    "# Optuna"
   ]
  },
  {
   "cell_type": "code",
   "execution_count": 60,
   "id": "d65b69fd-3332-4451-acd2-ac20184407f8",
   "metadata": {},
   "outputs": [],
   "source": [
    "results_dict={\n",
    "    'Iteration':[],\n",
    "    'SLIM_w':[],\n",
    "    'RP3b_w':[],\n",
    "    'ItemKNN_w':[],\n",
    "    'MAP_val':[],\n",
    "    'MAP_test':[],\n",
    "}"
   ]
  },
  {
   "cell_type": "code",
   "execution_count": 61,
   "id": "b4a93ed4-6da1-45cf-b714-5af4d33174d5",
   "metadata": {},
   "outputs": [],
   "source": [
    "new_best_on_test={\n",
    "    'SLIM_w':0,\n",
    "    'RP3b_w':0,\n",
    "    'ItemKNN_w':0,\n",
    "    'MAP_test':0\n",
    "}"
   ]
  },
  {
   "cell_type": "code",
   "execution_count": 62,
   "id": "8087e497-1e8e-4516-87a3-29b39e9631e7",
   "metadata": {},
   "outputs": [],
   "source": [
    "improving_treshold=0.85 "
   ]
  },
  {
   "cell_type": "code",
   "execution_count": 63,
   "id": "fb05b902-540d-4a95-9704-288337553aec",
   "metadata": {},
   "outputs": [],
   "source": [
    "import optuna as op\n",
    "\n",
    "best_on_val = 0.03\n",
    "\n",
    "def objective_function_weight_hybrid(trial):\n",
    "    results_dict['Iteration'].append(trial.number)\n",
    "    n = 3\n",
    "    x = []\n",
    "    for i in range(n):\n",
    "        x.append(- np.log(trial.suggest_float(f\"x_{i}\", 0, 1)))\n",
    "    weights = []\n",
    "    for i in range(n):\n",
    "        weights.append(x[i] / sum(x))\n",
    "        if i==0:\n",
    "            key='SLIM_w'\n",
    "        elif i==1:\n",
    "            key='RP3b_w'\n",
    "        else:\n",
    "            key='ItemKNN_w'\n",
    "        results_dict[key].append(weights[i])\n",
    "\n",
    "    for i in range(n):\n",
    "        trial.set_user_attr(f\"weights_{i}\",weights[i])\n",
    "        \n",
    "    #PRINT WEIGHTS CHOSEN ###################################################\n",
    "    print(\"__________Iteration \" + str(trial.number) + \"______________\")\n",
    "    print(\"SLIM weight: \"+str(weights[0]))\n",
    "    print(\"RP3b weight: \"+str(weights[1]))\n",
    "    print(\"ItemKNN weight: \"+str(weights[2]))##\n",
    "    \n",
    "    #BUILD HYBRID ###########################################################\n",
    "    new_similarity_train = weights[0] * slim_model_train.W_sparse + weights[1] * rp3_beta_train.W_sparse + weights[2] * knn_train.W_sparse\n",
    "    recommender_object_train = ItemKNNCustomSimilarityRecommender(URM_train)\n",
    "    recommender_object_train.fit(new_similarity_train)\n",
    "    res_on_val, _ = evaluator_val.evaluateRecommender(recommender_object_train)\n",
    "    results_dict['MAP_val'].append(res_on_val['MAP'][10])\n",
    "\n",
    "    #print(\"VAL\", res_on_val['MAP'][10], best_on_val * improving_treshold)\n",
    "    if res_on_val['MAP'][10] >= best_on_val * improving_treshold:\n",
    "        new_similarity_train_val = weights[0] * slim_model_train_val.W_sparse + weights[1] * rp3_beta_train_val.W_sparse + weights[2] * knn_train_val.W_sparse\n",
    "        recommender_object_train_val = ItemKNNCustomSimilarityRecommender(URM_train_val)\n",
    "        recommender_object_train_val.fit(new_similarity_train_val)\n",
    "        res_on_test, _ = evaluator_test.evaluateRecommender(recommender_object_train_val)\n",
    "        results_dict['MAP_test'].append(res_on_test[\"MAP\"][10])\n",
    "\n",
    "        #print(\"Test\", res_on_test[\"MAP\"][10], new_best_on_test['MAP_test'])\n",
    "        if res_on_test[\"MAP\"][10] > new_best_on_test['MAP_test']:\n",
    "            new_best_on_test['SLIM_w']=weights[0]\n",
    "            new_best_on_test['RP3b_w']=weights[1]\n",
    "            new_best_on_test['ItemKNN_w']=weights[2]\n",
    "            new_best_on_test['MAP_test']=res_on_test[\"MAP\"][10]\n",
    "            print(\"New best on test found! Score is \"+ str(res_on_test[\"MAP\"][10]))\n",
    "            print(f\"weights: SLIM_w: {weights[0]}, RP3b_w: {weights[1]}, ItemKNN_w: {weights[2]}\")\n",
    "            \n",
    "        \n",
    "        \n",
    "    else:\n",
    "         results_dict['MAP_test'].append(0.0)\n",
    "    return res_on_val['MAP'][10]"
   ]
  },
  {
   "cell_type": "code",
   "execution_count": 64,
   "id": "26e62f82-f6af-48a9-816b-a22ff6bb722f",
   "metadata": {
    "scrolled": true
   },
   "outputs": [
    {
     "name": "stderr",
     "output_type": "stream",
     "text": [
      "[I 2024-12-18 00:53:18,473] A new study created in memory with name: no-name-9c6f5412-3f52-4fe7-b001-f6b6709bd811\n"
     ]
    },
    {
     "name": "stdout",
     "output_type": "stream",
     "text": [
      "__________Iteration 0______________\n",
      "SLIM weight: 0.1555905222316807\n",
      "RP3b weight: 0.4603506048669601\n",
      "ItemKNN weight: 0.38405887290135915\n",
      "EvaluatorHoldout: Processed 34728 (100.0%) in 15.33 sec. Users per second: 2265\n",
      "EvaluatorHoldout: Processed 35209 (100.0%) in 16.60 sec. Users per second: 2120\n"
     ]
    },
    {
     "name": "stderr",
     "output_type": "stream",
     "text": [
      "[I 2024-12-18 00:53:50,624] Trial 0 finished with value: 0.030289843198662226 and parameters: {'x_0': 0.46359243423077034, 'x_1': 0.10284590795296422, 'x_2': 0.14993140055314513}. Best is trial 0 with value: 0.030289843198662226.\n"
     ]
    },
    {
     "name": "stdout",
     "output_type": "stream",
     "text": [
      "New best on test found! Score is 0.04628595141844424\n",
      "weights: SLIM_w: 0.1555905222316807, RP3b_w: 0.4603506048669601, ItemKNN_w: 0.38405887290135915\n",
      "__________Iteration 1______________\n",
      "SLIM weight: 0.13670679085741672\n",
      "RP3b weight: 0.5253840472394294\n",
      "ItemKNN weight: 0.33790916190315384\n",
      "EvaluatorHoldout: Processed 34728 (100.0%) in 14.71 sec. Users per second: 2360\n",
      "EvaluatorHoldout: Processed 35209 (100.0%) in 15.06 sec. Users per second: 2338\n"
     ]
    },
    {
     "name": "stderr",
     "output_type": "stream",
     "text": [
      "[I 2024-12-18 00:54:20,547] Trial 1 finished with value: 0.03035995953130447 and parameters: {'x_0': 0.6943600406456691, 'x_1': 0.2461427659491442, 'x_2': 0.4059123084250371}. Best is trial 1 with value: 0.03035995953130447.\n"
     ]
    },
    {
     "name": "stdout",
     "output_type": "stream",
     "text": [
      "__________Iteration 2______________\n",
      "SLIM weight: 0.44378805044714265\n",
      "RP3b weight: 0.1341909043296017\n",
      "ItemKNN weight: 0.4220210452232557\n",
      "EvaluatorHoldout: Processed 34728 (100.0%) in 14.87 sec. Users per second: 2335\n",
      "EvaluatorHoldout: Processed 35209 (100.0%) in 16.60 sec. Users per second: 2121\n"
     ]
    },
    {
     "name": "stderr",
     "output_type": "stream",
     "text": [
      "[I 2024-12-18 00:54:52,192] Trial 2 finished with value: 0.030321619625350633 and parameters: {'x_0': 0.3585590594745557, 'x_1': 0.7333474686852459, 'x_2': 0.3770584657486018}. Best is trial 1 with value: 0.03035995953130447.\n"
     ]
    },
    {
     "name": "stdout",
     "output_type": "stream",
     "text": [
      "New best on test found! Score is 0.046699287069006105\n",
      "weights: SLIM_w: 0.44378805044714265, RP3b_w: 0.1341909043296017, ItemKNN_w: 0.4220210452232557\n",
      "__________Iteration 3______________\n",
      "SLIM weight: 0.3385057246236832\n",
      "RP3b weight: 0.25741059133722216\n",
      "ItemKNN weight: 0.4040836840390945\n",
      "EvaluatorHoldout: Processed 34728 (100.0%) in 15.38 sec. Users per second: 2258\n",
      "EvaluatorHoldout: Processed 35209 (100.0%) in 16.56 sec. Users per second: 2126\n"
     ]
    },
    {
     "name": "stderr",
     "output_type": "stream",
     "text": [
      "[I 2024-12-18 00:55:24,314] Trial 3 finished with value: 0.030395312505712424 and parameters: {'x_0': 0.05630876732199286, 'x_1': 0.1121754967577766, 'x_2': 0.03224986476265712}. Best is trial 3 with value: 0.030395312505712424.\n"
     ]
    },
    {
     "name": "stdout",
     "output_type": "stream",
     "text": [
      "New best on test found! Score is 0.04671930697733606\n",
      "weights: SLIM_w: 0.3385057246236832, RP3b_w: 0.25741059133722216, ItemKNN_w: 0.4040836840390945\n",
      "__________Iteration 4______________\n",
      "SLIM weight: 0.9369503824846588\n",
      "RP3b weight: 0.0029245393468951635\n",
      "ItemKNN weight: 0.060125078168446054\n",
      "EvaluatorHoldout: Processed 34728 (100.0%) in 15.00 sec. Users per second: 2315\n",
      "EvaluatorHoldout: Processed 35209 (100.0%) in 15.88 sec. Users per second: 2218\n"
     ]
    },
    {
     "name": "stderr",
     "output_type": "stream",
     "text": [
      "[I 2024-12-18 00:55:55,364] Trial 4 finished with value: 0.030650511183509532 and parameters: {'x_0': 0.1403689670050985, 'x_1': 0.9938900536539759, 'x_2': 0.8816160784121003}. Best is trial 4 with value: 0.030650511183509532.\n"
     ]
    },
    {
     "name": "stdout",
     "output_type": "stream",
     "text": [
      "New best on test found! Score is 0.04780803474219756\n",
      "weights: SLIM_w: 0.9369503824846588, RP3b_w: 0.0029245393468951635, ItemKNN_w: 0.060125078168446054\n",
      "__________Iteration 5______________\n",
      "SLIM weight: 0.04038462143100809\n",
      "RP3b weight: 0.6131853763511195\n",
      "ItemKNN weight: 0.3464300022178725\n",
      "EvaluatorHoldout: Processed 34728 (100.0%) in 13.90 sec. Users per second: 2498\n",
      "EvaluatorHoldout: Processed 35209 (100.0%) in 16.48 sec. Users per second: 2137\n"
     ]
    },
    {
     "name": "stderr",
     "output_type": "stream",
     "text": [
      "[I 2024-12-18 00:56:25,920] Trial 5 finished with value: 0.03004451373577067 and parameters: {'x_0': 0.7680950116670165, 'x_1': 0.018204647417233155, 'x_2': 0.10400614030226696}. Best is trial 4 with value: 0.030650511183509532.\n"
     ]
    },
    {
     "name": "stdout",
     "output_type": "stream",
     "text": [
      "__________Iteration 6______________\n",
      "SLIM weight: 0.5102901984397954\n",
      "RP3b weight: 0.3634011732011643\n",
      "ItemKNN weight: 0.12630862835904033\n",
      "EvaluatorHoldout: Processed 34728 (100.0%) in 15.31 sec. Users per second: 2268\n",
      "EvaluatorHoldout: Processed 35209 (100.0%) in 16.59 sec. Users per second: 2122\n"
     ]
    },
    {
     "name": "stderr",
     "output_type": "stream",
     "text": [
      "[I 2024-12-18 00:56:58,014] Trial 6 finished with value: 0.031002182951041745 and parameters: {'x_0': 0.5481338358876899, 'x_1': 0.6517020986399488, 'x_2': 0.8617244116555678}. Best is trial 6 with value: 0.031002182951041745.\n"
     ]
    },
    {
     "name": "stdout",
     "output_type": "stream",
     "text": [
      "__________Iteration 7______________\n",
      "SLIM weight: 0.39609756831462256\n",
      "RP3b weight: 0.11858016719011584\n",
      "ItemKNN weight: 0.4853222644952616\n",
      "EvaluatorHoldout: Processed 34728 (100.0%) in 15.28 sec. Users per second: 2273\n",
      "EvaluatorHoldout: Processed 35209 (100.0%) in 15.91 sec. Users per second: 2214\n"
     ]
    },
    {
     "name": "stderr",
     "output_type": "stream",
     "text": [
      "[I 2024-12-18 00:57:29,372] Trial 7 finished with value: 0.03007425735786052 and parameters: {'x_0': 0.20400670410495514, 'x_1': 0.6213373948687606, 'x_2': 0.14260520190423664}. Best is trial 6 with value: 0.031002182951041745.\n"
     ]
    },
    {
     "name": "stdout",
     "output_type": "stream",
     "text": [
      "__________Iteration 8______________\n",
      "SLIM weight: 0.5119872675033181\n",
      "RP3b weight: 0.17240457966608178\n",
      "ItemKNN weight: 0.3156081528306001\n",
      "EvaluatorHoldout: Processed 34728 (100.0%) in 14.08 sec. Users per second: 2466\n",
      "EvaluatorHoldout: Processed 35209 (100.0%) in 15.87 sec. Users per second: 2219\n"
     ]
    },
    {
     "name": "stderr",
     "output_type": "stream",
     "text": [
      "[I 2024-12-18 00:57:59,467] Trial 8 finished with value: 0.030586966328801958 and parameters: {'x_0': 0.4986231124854237, 'x_1': 0.7910957801719833, 'x_2': 0.651171787484646}. Best is trial 6 with value: 0.031002182951041745.\n"
     ]
    },
    {
     "name": "stdout",
     "output_type": "stream",
     "text": [
      "__________Iteration 9______________\n",
      "SLIM weight: 0.3323217023966566\n",
      "RP3b weight: 0.41181736768560395\n",
      "ItemKNN weight: 0.2558609299177394\n",
      "EvaluatorHoldout: Processed 34728 (100.0%) in 14.96 sec. Users per second: 2321\n",
      "EvaluatorHoldout: Processed 35209 (100.0%) in 16.09 sec. Users per second: 2189\n"
     ]
    },
    {
     "name": "stderr",
     "output_type": "stream",
     "text": [
      "[I 2024-12-18 00:58:30,692] Trial 9 finished with value: 0.030737327594401603 and parameters: {'x_0': 0.13079925415176896, 'x_1': 0.08040550420483406, 'x_2': 0.2088609487517048}. Best is trial 6 with value: 0.031002182951041745.\n"
     ]
    },
    {
     "name": "stdout",
     "output_type": "stream",
     "text": [
      "__________Iteration 10______________\n",
      "SLIM weight: 0.08656570073527518\n",
      "RP3b weight: 0.8892421790097282\n",
      "ItemKNN weight: 0.02419212025499661\n",
      "EvaluatorHoldout: Processed 34728 (100.0%) in 14.53 sec. Users per second: 2391\n",
      "EvaluatorHoldout: Processed 35209 (100.0%) in 15.23 sec. Users per second: 2311\n"
     ]
    },
    {
     "name": "stderr",
     "output_type": "stream",
     "text": [
      "[I 2024-12-18 00:59:00,609] Trial 10 finished with value: 0.029171540141433926 and parameters: {'x_0': 0.9164329980607804, 'x_1': 0.40801992691907035, 'x_2': 0.9759070631278205}. Best is trial 6 with value: 0.031002182951041745.\n"
     ]
    },
    {
     "name": "stdout",
     "output_type": "stream",
     "text": [
      "__________Iteration 11______________\n",
      "SLIM weight: 0.47394686352249416\n",
      "RP3b weight: 0.3582497540322596\n",
      "ItemKNN weight: 0.16780338244524629\n",
      "EvaluatorHoldout: Processed 34728 (100.0%) in 13.89 sec. Users per second: 2501\n",
      "EvaluatorHoldout: Processed 35209 (100.0%) in 16.02 sec. Users per second: 2197\n"
     ]
    },
    {
     "name": "stderr",
     "output_type": "stream",
     "text": [
      "[I 2024-12-18 00:59:30,667] Trial 11 finished with value: 0.03095930094375058 and parameters: {'x_0': 0.3315628163270552, 'x_1': 0.4341126693935948, 'x_2': 0.6764781977116141}. Best is trial 6 with value: 0.031002182951041745.\n"
     ]
    },
    {
     "name": "stdout",
     "output_type": "stream",
     "text": [
      "__________Iteration 12______________\n",
      "SLIM weight: 0.5107386813600366\n",
      "RP3b weight: 0.34781049090771954\n",
      "ItemKNN weight: 0.14145082773224385\n",
      "EvaluatorHoldout: Processed 34728 (100.0%) in 14.73 sec. Users per second: 2357\n",
      "EvaluatorHoldout: Processed 35209 (100.0%) in 15.88 sec. Users per second: 2218\n"
     ]
    },
    {
     "name": "stderr",
     "output_type": "stream",
     "text": [
      "[I 2024-12-18 01:00:01,465] Trial 12 finished with value: 0.030983480920202474 and parameters: {'x_0': 0.3291973370050017, 'x_1': 0.4692347420200256, 'x_2': 0.7351193807339542}. Best is trial 6 with value: 0.031002182951041745.\n"
     ]
    },
    {
     "name": "stdout",
     "output_type": "stream",
     "text": [
      "__________Iteration 13______________\n",
      "SLIM weight: 0.3328686779757119\n",
      "RP3b weight: 0.47181615269093774\n",
      "ItemKNN weight: 0.1953151693333504\n",
      "EvaluatorHoldout: Processed 34728 (100.0%) in 14.49 sec. Users per second: 2396\n",
      "EvaluatorHoldout: Processed 35209 (100.0%) in 14.69 sec. Users per second: 2397\n"
     ]
    },
    {
     "name": "stderr",
     "output_type": "stream",
     "text": [
      "[I 2024-12-18 01:00:30,803] Trial 13 finished with value: 0.03079906360724347 and parameters: {'x_0': 0.6667122208597506, 'x_1': 0.562919161903171, 'x_2': 0.7883035818116888}. Best is trial 6 with value: 0.031002182951041745.\n"
     ]
    },
    {
     "name": "stdout",
     "output_type": "stream",
     "text": [
      "__________Iteration 14______________\n",
      "SLIM weight: 0.41685275781538234\n",
      "RP3b weight: 0.4612991297162016\n",
      "ItemKNN weight: 0.12184811246841615\n",
      "EvaluatorHoldout: Processed 34728 (100.0%) in 14.45 sec. Users per second: 2403\n",
      "EvaluatorHoldout: Processed 35209 (100.0%) in 15.98 sec. Users per second: 2203\n"
     ]
    },
    {
     "name": "stderr",
     "output_type": "stream",
     "text": [
      "[I 2024-12-18 01:01:01,408] Trial 14 finished with value: 0.031007666609989402 and parameters: {'x_0': 0.3378791792033942, 'x_1': 0.30096517347613644, 'x_2': 0.7282066609593805}. Best is trial 14 with value: 0.031007666609989402.\n"
     ]
    },
    {
     "name": "stdout",
     "output_type": "stream",
     "text": [
      "__________Iteration 15______________\n",
      "SLIM weight: 0.24197325361361538\n",
      "RP3b weight: 0.5218633592446448\n",
      "ItemKNN weight: 0.23616338714173973\n",
      "EvaluatorHoldout: Processed 34728 (100.0%) in 14.71 sec. Users per second: 2361\n",
      "EvaluatorHoldout: Processed 35209 (100.0%) in 15.71 sec. Users per second: 2242\n"
     ]
    },
    {
     "name": "stderr",
     "output_type": "stream",
     "text": [
      "[I 2024-12-18 01:01:31,996] Trial 15 finished with value: 0.030649553628560998 and parameters: {'x_0': 0.5590752827912179, 'x_1': 0.28534452989022696, 'x_2': 0.5669354617980349}. Best is trial 14 with value: 0.031007666609989402.\n"
     ]
    },
    {
     "name": "stdout",
     "output_type": "stream",
     "text": [
      "__________Iteration 16______________\n",
      "SLIM weight: 0.12222645805003853\n",
      "RP3b weight: 0.6113007478227639\n",
      "ItemKNN weight: 0.2664727941271977\n",
      "EvaluatorHoldout: Processed 34728 (100.0%) in 13.94 sec. Users per second: 2492\n",
      "EvaluatorHoldout: Processed 35209 (100.0%) in 15.16 sec. Users per second: 2322\n"
     ]
    },
    {
     "name": "stderr",
     "output_type": "stream",
     "text": [
      "[I 2024-12-18 01:02:01,246] Trial 16 finished with value: 0.030341614012570354 and parameters: {'x_0': 0.9330178915733722, 'x_1': 0.7069820061786212, 'x_2': 0.8597168318963908}. Best is trial 14 with value: 0.031007666609989402.\n"
     ]
    },
    {
     "name": "stdout",
     "output_type": "stream",
     "text": [
      "__________Iteration 17______________\n",
      "SLIM weight: 0.8286120550497336\n",
      "RP3b weight: 0.13171530650313643\n",
      "ItemKNN weight: 0.03967263844713009\n",
      "EvaluatorHoldout: Processed 34728 (100.0%) in 14.75 sec. Users per second: 2355\n",
      "EvaluatorHoldout: Processed 35209 (100.0%) in 16.04 sec. Users per second: 2195\n"
     ]
    },
    {
     "name": "stderr",
     "output_type": "stream",
     "text": [
      "[I 2024-12-18 01:02:32,203] Trial 17 finished with value: 0.030872340556816195 and parameters: {'x_0': 0.5890759442518936, 'x_1': 0.9193199146895533, 'x_2': 0.9749810253204355}. Best is trial 14 with value: 0.031007666609989402.\n"
     ]
    },
    {
     "name": "stdout",
     "output_type": "stream",
     "text": [
      "New best on test found! Score is 0.04796397994379889\n",
      "weights: SLIM_w: 0.8286120550497336, RP3b_w: 0.13171530650313643, ItemKNN_w: 0.03967263844713009\n",
      "__________Iteration 18______________\n",
      "SLIM weight: 0.33466244319029304\n",
      "RP3b weight: 0.4415270156185272\n",
      "ItemKNN weight: 0.22381054119117988\n",
      "EvaluatorHoldout: Processed 34728 (100.0%) in 14.61 sec. Users per second: 2377\n",
      "EvaluatorHoldout: Processed 35209 (100.0%) in 15.68 sec. Users per second: 2245\n"
     ]
    },
    {
     "name": "stderr",
     "output_type": "stream",
     "text": [
      "[I 2024-12-18 01:03:02,652] Trial 18 finished with value: 0.03079445980188806 and parameters: {'x_0': 0.3843294761686064, 'x_1': 0.28319858408064313, 'x_2': 0.5275508784676727}. Best is trial 14 with value: 0.031007666609989402.\n"
     ]
    },
    {
     "name": "stdout",
     "output_type": "stream",
     "text": [
      "__________Iteration 19______________\n",
      "SLIM weight: 0.52031430870908\n",
      "RP3b weight: 0.3878888848284342\n",
      "ItemKNN weight: 0.09179680646248582\n",
      "EvaluatorHoldout: Processed 34728 (100.0%) in 13.55 sec. Users per second: 2563\n",
      "EvaluatorHoldout: Processed 35209 (100.0%) in 15.93 sec. Users per second: 2210\n"
     ]
    },
    {
     "name": "stderr",
     "output_type": "stream",
     "text": [
      "[I 2024-12-18 01:03:32,273] Trial 19 finished with value: 0.031065229602935986 and parameters: {'x_0': 0.27178937483922916, 'x_1': 0.3786397604959519, 'x_2': 0.7946649877997101}. Best is trial 19 with value: 0.031065229602935986.\n"
     ]
    },
    {
     "name": "stdout",
     "output_type": "stream",
     "text": [
      "__________Iteration 20______________\n",
      "SLIM weight: 0.41479583992736063\n",
      "RP3b weight: 0.4479391901336003\n",
      "ItemKNN weight: 0.13726496993903917\n",
      "EvaluatorHoldout: Processed 34728 (100.0%) in 14.73 sec. Users per second: 2358\n",
      "EvaluatorHoldout: Processed 35209 (100.0%) in 16.03 sec. Users per second: 2196\n"
     ]
    },
    {
     "name": "stderr",
     "output_type": "stream",
     "text": [
      "[I 2024-12-18 01:04:03,199] Trial 20 finished with value: 0.030976755182222378 and parameters: {'x_0': 0.23543997523554755, 'x_1': 0.20974502629780686, 'x_2': 0.6196429182161276}. Best is trial 19 with value: 0.031065229602935986.\n"
     ]
    },
    {
     "name": "stdout",
     "output_type": "stream",
     "text": [
      "__________Iteration 21______________\n",
      "SLIM weight: 0.5102745811492707\n",
      "RP3b weight: 0.40152209206026135\n",
      "ItemKNN weight: 0.08820332679046779\n",
      "EvaluatorHoldout: Processed 34728 (100.0%) in 14.45 sec. Users per second: 2404\n",
      "EvaluatorHoldout: Processed 35209 (100.0%) in 14.92 sec. Users per second: 2361\n"
     ]
    },
    {
     "name": "stderr",
     "output_type": "stream",
     "text": [
      "[I 2024-12-18 01:04:32,712] Trial 21 finished with value: 0.031041367287910876 and parameters: {'x_0': 0.26557604358790465, 'x_1': 0.35229695154930707, 'x_2': 0.7951853706277017}. Best is trial 19 with value: 0.031065229602935986.\n"
     ]
    },
    {
     "name": "stdout",
     "output_type": "stream",
     "text": [
      "__________Iteration 22______________\n",
      "SLIM weight: 0.5148114328798785\n",
      "RP3b weight: 0.3770308642127692\n",
      "ItemKNN weight: 0.10815770290735235\n",
      "EvaluatorHoldout: Processed 34728 (100.0%) in 14.13 sec. Users per second: 2458\n",
      "EvaluatorHoldout: Processed 35209 (100.0%) in 16.01 sec. Users per second: 2199\n"
     ]
    },
    {
     "name": "stderr",
     "output_type": "stream",
     "text": [
      "[I 2024-12-18 01:05:03,022] Trial 22 finished with value: 0.03103986468080193 and parameters: {'x_0': 0.25220571891511745, 'x_1': 0.36464066511155374, 'x_2': 0.7487098854329366}. Best is trial 19 with value: 0.031065229602935986.\n"
     ]
    },
    {
     "name": "stdout",
     "output_type": "stream",
     "text": [
      "__________Iteration 23______________\n",
      "SLIM weight: 0.7370655998448854\n",
      "RP3b weight: 0.21876484638368643\n",
      "ItemKNN weight: 0.04416955377142822\n",
      "EvaluatorHoldout: Processed 34728 (100.0%) in 14.82 sec. Users per second: 2343\n",
      "EvaluatorHoldout: Processed 35209 (100.0%) in 15.78 sec. Users per second: 2231\n"
     ]
    },
    {
     "name": "stderr",
     "output_type": "stream",
     "text": [
      "[I 2024-12-18 01:05:33,793] Trial 23 finished with value: 0.031025069428446055 and parameters: {'x_0': 0.02992653981063917, 'x_1': 0.35292771382832056, 'x_2': 0.8103559588863328}. Best is trial 19 with value: 0.031065229602935986.\n"
     ]
    },
    {
     "name": "stdout",
     "output_type": "stream",
     "text": [
      "New best on test found! Score is 0.04798054316920077\n",
      "weights: SLIM_w: 0.7370655998448854, RP3b_w: 0.21876484638368643, ItemKNN_w: 0.04416955377142822\n",
      "__________Iteration 24______________\n",
      "SLIM weight: 0.49065242310877577\n",
      "RP3b weight: 0.21848787667295239\n",
      "ItemKNN weight: 0.29085970021827184\n",
      "EvaluatorHoldout: Processed 34728 (100.0%) in 14.08 sec. Users per second: 2466\n",
      "EvaluatorHoldout: Processed 35209 (100.0%) in 14.77 sec. Users per second: 2385\n"
     ]
    },
    {
     "name": "stderr",
     "output_type": "stream",
     "text": [
      "[I 2024-12-18 01:06:02,767] Trial 24 finished with value: 0.030713143047281753 and parameters: {'x_0': 0.24661619119321856, 'x_1': 0.5361258839512336, 'x_2': 0.4361031531544114}. Best is trial 19 with value: 0.031065229602935986.\n"
     ]
    },
    {
     "name": "stdout",
     "output_type": "stream",
     "text": [
      "__________Iteration 25______________\n",
      "SLIM weight: 0.6492759517944179\n",
      "RP3b weight: 0.3247245941663623\n",
      "ItemKNN weight: 0.025999454039219654\n",
      "EvaluatorHoldout: Processed 34728 (100.0%) in 14.78 sec. Users per second: 2350\n",
      "EvaluatorHoldout: Processed 35209 (100.0%) in 16.15 sec. Users per second: 2180\n"
     ]
    },
    {
     "name": "stderr",
     "output_type": "stream",
     "text": [
      "[I 2024-12-18 01:06:33,842] Trial 25 finished with value: 0.03098664039446582 and parameters: {'x_0': 0.14520184498148495, 'x_1': 0.38095551765458563, 'x_2': 0.9256402022845174}. Best is trial 19 with value: 0.031065229602935986.\n"
     ]
    },
    {
     "name": "stdout",
     "output_type": "stream",
     "text": [
      "__________Iteration 26______________\n",
      "SLIM weight: 0.3969271731612581\n",
      "RP3b weight: 0.5262972459322264\n",
      "ItemKNN weight: 0.07677558090651547\n",
      "EvaluatorHoldout: Processed 34728 (100.0%) in 14.70 sec. Users per second: 2362\n",
      "EvaluatorHoldout: Processed 35209 (100.0%) in 15.64 sec. Users per second: 2251\n"
     ]
    },
    {
     "name": "stderr",
     "output_type": "stream",
     "text": [
      "[I 2024-12-18 01:07:04,339] Trial 26 finished with value: 0.03083553868064823 and parameters: {'x_0': 0.2660092165034364, 'x_1': 0.17276423479742256, 'x_2': 0.7740352239095675}. Best is trial 19 with value: 0.031065229602935986.\n"
     ]
    },
    {
     "name": "stdout",
     "output_type": "stream",
     "text": [
      "__________Iteration 27______________\n",
      "SLIM weight: 0.29937677674936347\n",
      "RP3b weight: 0.26586913745069074\n",
      "ItemKNN weight: 0.4347540857999458\n",
      "EvaluatorHoldout: Processed 34728 (100.0%) in 13.54 sec. Users per second: 2564\n",
      "EvaluatorHoldout: Processed 35209 (100.0%) in 16.13 sec. Users per second: 2182\n"
     ]
    },
    {
     "name": "stderr",
     "output_type": "stream",
     "text": [
      "[I 2024-12-18 01:07:34,153] Trial 27 finished with value: 0.030305781118021027 and parameters: {'x_0': 0.4308402053795853, 'x_1': 0.4734185280978831, 'x_2': 0.29441171207530636}. Best is trial 19 with value: 0.031065229602935986.\n"
     ]
    },
    {
     "name": "stdout",
     "output_type": "stream",
     "text": [
      "__________Iteration 28______________\n",
      "SLIM weight: 0.610929973736637\n",
      "RP3b weight: 0.2597597362818745\n",
      "ItemKNN weight: 0.12931028998148836\n",
      "EvaluatorHoldout: Processed 34728 (100.0%) in 14.88 sec. Users per second: 2334\n",
      "EvaluatorHoldout: Processed 35209 (100.0%) in 16.06 sec. Users per second: 2193\n"
     ]
    },
    {
     "name": "stderr",
     "output_type": "stream",
     "text": [
      "[I 2024-12-18 01:08:05,250] Trial 28 finished with value: 0.030981160163519244 and parameters: {'x_0': 0.08282773182498884, 'x_1': 0.346754376859216, 'x_2': 0.5902276829040887}. Best is trial 19 with value: 0.031065229602935986.\n"
     ]
    },
    {
     "name": "stdout",
     "output_type": "stream",
     "text": [
      "__________Iteration 29______________\n",
      "SLIM weight: 0.27287047273665554\n",
      "RP3b weight: 0.5997943636935094\n",
      "ItemKNN weight: 0.12733516356983499\n",
      "EvaluatorHoldout: Processed 34728 (100.0%) in 14.54 sec. Users per second: 2388\n",
      "EvaluatorHoldout: Processed 35209 (100.0%) in 15.23 sec. Users per second: 2312\n"
     ]
    },
    {
     "name": "stderr",
     "output_type": "stream",
     "text": [
      "[I 2024-12-18 01:08:35,161] Trial 29 finished with value: 0.03056680968286792 and parameters: {'x_0': 0.430843129032377, 'x_1': 0.1571085964566766, 'x_2': 0.6750793604374691}. Best is trial 19 with value: 0.031065229602935986.\n"
     ]
    },
    {
     "name": "stdout",
     "output_type": "stream",
     "text": [
      "__________Iteration 30______________\n",
      "SLIM weight: 0.6590606872102693\n",
      "RP3b weight: 0.21530313934297687\n",
      "ItemKNN weight: 0.12563617344675373\n",
      "EvaluatorHoldout: Processed 34728 (100.0%) in 13.82 sec. Users per second: 2514\n",
      "EvaluatorHoldout: Processed 35209 (100.0%) in 16.06 sec. Users per second: 2193\n"
     ]
    },
    {
     "name": "stderr",
     "output_type": "stream",
     "text": [
      "[I 2024-12-18 01:09:05,174] Trial 30 finished with value: 0.03098082650475433 and parameters: {'x_0': 0.18187198225737267, 'x_1': 0.573032099543506, 'x_2': 0.7225864102573154}. Best is trial 19 with value: 0.031065229602935986.\n"
     ]
    },
    {
     "name": "stdout",
     "output_type": "stream",
     "text": [
      "__________Iteration 31______________\n",
      "SLIM weight: 0.7773772046810709\n",
      "RP3b weight: 0.18585499026247077\n",
      "ItemKNN weight: 0.03676780505645841\n",
      "EvaluatorHoldout: Processed 34728 (100.0%) in 14.80 sec. Users per second: 2346\n",
      "EvaluatorHoldout: Processed 35209 (100.0%) in 15.97 sec. Users per second: 2205\n"
     ]
    },
    {
     "name": "stderr",
     "output_type": "stream",
     "text": [
      "[I 2024-12-18 01:09:36,098] Trial 31 finished with value: 0.03097540112182386 and parameters: {'x_0': 0.012601443909514131, 'x_1': 0.3514385088915545, 'x_2': 0.813120858576186}. Best is trial 19 with value: 0.031065229602935986.\n"
     ]
    },
    {
     "name": "stdout",
     "output_type": "stream",
     "text": [
      "New best on test found! Score is 0.04799036997665035\n",
      "weights: SLIM_w: 0.7773772046810709, RP3b_w: 0.18585499026247077, ItemKNN_w: 0.03676780505645841\n",
      "__________Iteration 32______________\n",
      "SLIM weight: 0.4354649713296333\n",
      "RP3b weight: 0.49623789344368074\n",
      "ItemKNN weight: 0.068297135226686\n",
      "EvaluatorHoldout: Processed 34728 (100.0%) in 14.51 sec. Users per second: 2394\n",
      "EvaluatorHoldout: Processed 35209 (100.0%) in 14.67 sec. Users per second: 2399\n"
     ]
    },
    {
     "name": "stderr",
     "output_type": "stream",
     "text": [
      "[I 2024-12-18 01:10:05,423] Trial 32 finished with value: 0.03090072326250525 and parameters: {'x_0': 0.28306983816074105, 'x_1': 0.23735620166485982, 'x_2': 0.8204204754086961}. Best is trial 19 with value: 0.031065229602935986.\n"
     ]
    },
    {
     "name": "stdout",
     "output_type": "stream",
     "text": [
      "__________Iteration 33______________\n",
      "SLIM weight: 0.7468809950634823\n",
      "RP3b weight: 0.2335857407336248\n",
      "ItemKNN weight: 0.01953326420289277\n",
      "EvaluatorHoldout: Processed 34728 (100.0%) in 14.63 sec. Users per second: 2373\n",
      "EvaluatorHoldout: Processed 35209 (100.0%) in 16.02 sec. Users per second: 2198\n"
     ]
    },
    {
     "name": "stderr",
     "output_type": "stream",
     "text": [
      "[I 2024-12-18 01:10:36,232] Trial 33 finished with value: 0.030986519271763616 and parameters: {'x_0': 0.030874775126993076, 'x_1': 0.3369971275590577, 'x_2': 0.9130581456303039}. Best is trial 19 with value: 0.031065229602935986.\n"
     ]
    },
    {
     "name": "stdout",
     "output_type": "stream",
     "text": [
      "__________Iteration 34______________\n",
      "SLIM weight: 0.569232461996417\n",
      "RP3b weight: 0.2350213103091456\n",
      "ItemKNN weight: 0.1957462276944374\n",
      "EvaluatorHoldout: Processed 34728 (100.0%) in 14.80 sec. Users per second: 2347\n",
      "EvaluatorHoldout: Processed 35209 (100.0%) in 15.71 sec. Users per second: 2241\n"
     ]
    },
    {
     "name": "stderr",
     "output_type": "stream",
     "text": [
      "[I 2024-12-18 01:11:06,902] Trial 34 finished with value: 0.030894007808528325 and parameters: {'x_0': 0.12478048528738617, 'x_1': 0.4234697746628392, 'x_2': 0.48886077252921584}. Best is trial 19 with value: 0.031065229602935986.\n"
     ]
    },
    {
     "name": "stdout",
     "output_type": "stream",
     "text": [
      "__________Iteration 35______________\n",
      "SLIM weight: 0.7396758747537002\n",
      "RP3b weight: 0.18298982396992217\n",
      "ItemKNN weight: 0.0773343012763776\n",
      "EvaluatorHoldout: Processed 34728 (100.0%) in 13.81 sec. Users per second: 2515\n",
      "EvaluatorHoldout: Processed 35209 (100.0%) in 15.40 sec. Users per second: 2286\n"
     ]
    },
    {
     "name": "stderr",
     "output_type": "stream",
     "text": [
      "[I 2024-12-18 01:11:36,260] Trial 35 finished with value: 0.03096089839222079 and parameters: {'x_0': 0.06722380579336121, 'x_1': 0.5127890051145407, 'x_2': 0.7540769323012653}. Best is trial 19 with value: 0.031065229602935986.\n"
     ]
    },
    {
     "name": "stdout",
     "output_type": "stream",
     "text": [
      "New best on test found! Score is 0.04799919257657174\n",
      "weights: SLIM_w: 0.7396758747537002, RP3b_w: 0.18298982396992217, ItemKNN_w: 0.0773343012763776\n",
      "__________Iteration 36______________\n",
      "SLIM weight: 0.44050090368204275\n",
      "RP3b weight: 0.5342266805535089\n",
      "ItemKNN weight: 0.025272415764448393\n",
      "EvaluatorHoldout: Processed 34728 (100.0%) in 14.77 sec. Users per second: 2351\n",
      "EvaluatorHoldout: Processed 35209 (100.0%) in 16.09 sec. Users per second: 2188\n"
     ]
    },
    {
     "name": "stderr",
     "output_type": "stream",
     "text": [
      "[I 2024-12-18 01:12:07,283] Trial 36 finished with value: 0.03076958736923218 and parameters: {'x_0': 0.28545523966549685, 'x_1': 0.21862123811936532, 'x_2': 0.9306001748667249}. Best is trial 19 with value: 0.031065229602935986.\n"
     ]
    },
    {
     "name": "stdout",
     "output_type": "stream",
     "text": [
      "__________Iteration 37______________\n",
      "SLIM weight: 0.5525094015394965\n",
      "RP3b weight: 0.39139513366579926\n",
      "ItemKNN weight: 0.0560954647947043\n",
      "EvaluatorHoldout: Processed 34728 (100.0%) in 14.58 sec. Users per second: 2383\n",
      "EvaluatorHoldout: Processed 35209 (100.0%) in 15.39 sec. Users per second: 2287\n"
     ]
    },
    {
     "name": "stderr",
     "output_type": "stream",
     "text": [
      "[I 2024-12-18 01:12:37,402] Trial 37 finished with value: 0.031018178003750542 and parameters: {'x_0': 0.1884105642081111, 'x_1': 0.3065405087160506, 'x_2': 0.8441167244027076}. Best is trial 19 with value: 0.031065229602935986.\n"
     ]
    },
    {
     "name": "stdout",
     "output_type": "stream",
     "text": [
      "__________Iteration 38______________\n",
      "SLIM weight: 0.41007421577005465\n",
      "RP3b weight: 0.4095386442843266\n",
      "ItemKNN weight: 0.1803871399456187\n",
      "EvaluatorHoldout: Processed 34728 (100.0%) in 13.55 sec. Users per second: 2563\n",
      "EvaluatorHoldout: Processed 35209 (100.0%) in 16.09 sec. Users per second: 2189\n"
     ]
    },
    {
     "name": "stderr",
     "output_type": "stream",
     "text": [
      "[I 2024-12-18 01:13:07,194] Trial 38 finished with value: 0.030909588073115096 and parameters: {'x_0': 0.39495350331357276, 'x_1': 0.395432987390722, 'x_2': 0.6645459371700457}. Best is trial 19 with value: 0.031065229602935986.\n"
     ]
    },
    {
     "name": "stdout",
     "output_type": "stream",
     "text": [
      "__________Iteration 39______________\n",
      "SLIM weight: 0.4552534066905465\n",
      "RP3b weight: 0.4619220725615351\n",
      "ItemKNN weight: 0.08282452074791835\n",
      "EvaluatorHoldout: Processed 34728 (100.0%) in 14.76 sec. Users per second: 2353\n",
      "EvaluatorHoldout: Processed 35209 (100.0%) in 16.03 sec. Users per second: 2196\n"
     ]
    },
    {
     "name": "stderr",
     "output_type": "stream",
     "text": [
      "[I 2024-12-18 01:13:38,143] Trial 39 finished with value: 0.030972794698389778 and parameters: {'x_0': 0.4721393980910338, 'x_1': 0.4669774844442338, 'x_2': 0.8723753928931428}. Best is trial 19 with value: 0.031065229602935986.\n"
     ]
    },
    {
     "name": "stdout",
     "output_type": "stream",
     "text": [
      "__________Iteration 40______________\n",
      "SLIM weight: 0.39400275358093073\n",
      "RP3b weight: 0.42360020481738436\n",
      "ItemKNN weight: 0.18239704160168504\n",
      "EvaluatorHoldout: Processed 34728 (100.0%) in 14.44 sec. Users per second: 2405\n",
      "EvaluatorHoldout: Processed 35209 (100.0%) in 14.75 sec. Users per second: 2387\n"
     ]
    },
    {
     "name": "stderr",
     "output_type": "stream",
     "text": [
      "[I 2024-12-18 01:14:07,473] Trial 40 finished with value: 0.030892802294840083 and parameters: {'x_0': 0.10327350326901372, 'x_1': 0.08708028575605242, 'x_2': 0.34957672971673565}. Best is trial 19 with value: 0.031065229602935986.\n"
     ]
    },
    {
     "name": "stdout",
     "output_type": "stream",
     "text": [
      "__________Iteration 41______________\n",
      "SLIM weight: 0.5562113297869699\n",
      "RP3b weight: 0.3776558036033228\n",
      "ItemKNN weight: 0.06613286660970731\n",
      "EvaluatorHoldout: Processed 34728 (100.0%) in 14.46 sec. Users per second: 2402\n",
      "EvaluatorHoldout: Processed 35209 (100.0%) in 15.98 sec. Users per second: 2203\n"
     ]
    },
    {
     "name": "stderr",
     "output_type": "stream",
     "text": [
      "[I 2024-12-18 01:14:38,061] Trial 41 finished with value: 0.031042343125531485 and parameters: {'x_0': 0.17750722417242487, 'x_1': 0.3091957135809343, 'x_2': 0.814202961746225}. Best is trial 19 with value: 0.031065229602935986.\n"
     ]
    },
    {
     "name": "stdout",
     "output_type": "stream",
     "text": [
      "__________Iteration 42______________\n",
      "SLIM weight: 0.5252862238504298\n",
      "RP3b weight: 0.408911241549848\n",
      "ItemKNN weight: 0.06580253459972218\n",
      "EvaluatorHoldout: Processed 34728 (100.0%) in 14.69 sec. Users per second: 2363\n",
      "EvaluatorHoldout: Processed 35209 (100.0%) in 15.65 sec. Users per second: 2249\n"
     ]
    },
    {
     "name": "stderr",
     "output_type": "stream",
     "text": [
      "[I 2024-12-18 01:15:08,560] Trial 42 finished with value: 0.031030083451255498 and parameters: {'x_0': 0.17877521837311344, 'x_1': 0.26179149138141034, 'x_2': 0.8060029627401462}. Best is trial 19 with value: 0.031065229602935986.\n"
     ]
    },
    {
     "name": "stdout",
     "output_type": "stream",
     "text": [
      "__________Iteration 43______________\n",
      "SLIM weight: 0.5058568479216949\n",
      "RP3b weight: 0.45554116336251266\n",
      "ItemKNN weight: 0.03860198871579234\n",
      "EvaluatorHoldout: Processed 34728 (100.0%) in 13.78 sec. Users per second: 2520\n",
      "EvaluatorHoldout: Processed 35209 (100.0%) in 15.36 sec. Users per second: 2292\n"
     ]
    },
    {
     "name": "stderr",
     "output_type": "stream",
     "text": [
      "[I 2024-12-18 01:15:37,851] Trial 43 finished with value: 0.030888998356386754 and parameters: {'x_0': 0.2226731306619594, 'x_1': 0.25855494744186946, 'x_2': 0.8917034831476647}. Best is trial 19 with value: 0.031065229602935986.\n"
     ]
    },
    {
     "name": "stdout",
     "output_type": "stream",
     "text": [
      "__________Iteration 44______________\n",
      "SLIM weight: 0.4322115050843619\n",
      "RP3b weight: 0.47160186813474475\n",
      "ItemKNN weight: 0.09618662678089335\n",
      "EvaluatorHoldout: Processed 34728 (100.0%) in 14.74 sec. Users per second: 2356\n",
      "EvaluatorHoldout: Processed 35209 (100.0%) in 16.10 sec. Users per second: 2186\n"
     ]
    },
    {
     "name": "stderr",
     "output_type": "stream",
     "text": [
      "[I 2024-12-18 01:16:08,844] Trial 44 finished with value: 0.030979620991066093 and parameters: {'x_0': 0.19372081451139894, 'x_1': 0.16680606271300807, 'x_2': 0.6940079622261279}. Best is trial 19 with value: 0.031065229602935986.\n"
     ]
    },
    {
     "name": "stdout",
     "output_type": "stream",
     "text": [
      "__________Iteration 45______________\n",
      "SLIM weight: 0.5889840956359119\n",
      "RP3b weight: 0.4093259101027268\n",
      "ItemKNN weight: 0.001689994261361201\n",
      "EvaluatorHoldout: Processed 34728 (100.0%) in 14.51 sec. Users per second: 2393\n",
      "EvaluatorHoldout: Processed 35209 (100.0%) in 15.21 sec. Users per second: 2315\n"
     ]
    },
    {
     "name": "stderr",
     "output_type": "stream",
     "text": [
      "[I 2024-12-18 01:16:38,704] Trial 45 finished with value: 0.030919024217226393 and parameters: {'x_0': 0.30306442770696096, 'x_1': 0.43619700244876863, 'x_2': 0.9965804165094362}. Best is trial 19 with value: 0.031065229602935986.\n"
     ]
    },
    {
     "name": "stdout",
     "output_type": "stream",
     "text": [
      "__________Iteration 46______________\n",
      "SLIM weight: 0.13009785420306394\n",
      "RP3b weight: 0.5304740588710201\n",
      "ItemKNN weight: 0.3394280869259161\n",
      "EvaluatorHoldout: Processed 34728 (100.0%) in 13.72 sec. Users per second: 2532\n",
      "EvaluatorHoldout: Processed 35209 (100.0%) in 16.04 sec. Users per second: 2195\n"
     ]
    },
    {
     "name": "stderr",
     "output_type": "stream",
     "text": [
      "[I 2024-12-18 01:17:08,600] Trial 46 finished with value: 0.030351558643497936 and parameters: {'x_0': 0.1678585186365891, 'x_1': 0.0006913632797449498, 'x_2': 0.009502999379685129}. Best is trial 19 with value: 0.031065229602935986.\n"
     ]
    },
    {
     "name": "stdout",
     "output_type": "stream",
     "text": [
      "__________Iteration 47______________\n",
      "SLIM weight: 0.3102382700872248\n",
      "RP3b weight: 0.6160241454315312\n",
      "ItemKNN weight: 0.07373758448124393\n",
      "EvaluatorHoldout: Processed 34728 (100.0%) in 14.68 sec. Users per second: 2366\n",
      "EvaluatorHoldout: Processed 35209 (100.0%) in 15.83 sec. Users per second: 2224\n"
     ]
    },
    {
     "name": "stderr",
     "output_type": "stream",
     "text": [
      "[I 2024-12-18 01:17:39,263] Trial 47 finished with value: 0.030554322617858395 and parameters: {'x_0': 0.35111507660532176, 'x_1': 0.1251475791450043, 'x_2': 0.7797622542891114}. Best is trial 19 with value: 0.031065229602935986.\n"
     ]
    },
    {
     "name": "stdout",
     "output_type": "stream",
     "text": [
      "__________Iteration 48______________\n",
      "SLIM weight: 0.11781901901361443\n",
      "RP3b weight: 0.6317193813768213\n",
      "ItemKNN weight: 0.25046159960956427\n",
      "EvaluatorHoldout: Processed 34728 (100.0%) in 14.35 sec. Users per second: 2419\n",
      "EvaluatorHoldout: Processed 35209 (100.0%) in 14.69 sec. Users per second: 2396\n"
     ]
    },
    {
     "name": "stderr",
     "output_type": "stream",
     "text": [
      "[I 2024-12-18 01:18:08,448] Trial 48 finished with value: 0.030294421865343597 and parameters: {'x_0': 0.8059398549311654, 'x_1': 0.31449630837372544, 'x_2': 0.632144848005327}. Best is trial 19 with value: 0.031065229602935986.\n"
     ]
    },
    {
     "name": "stdout",
     "output_type": "stream",
     "text": [
      "__________Iteration 49______________\n",
      "SLIM weight: 0.5176712971582914\n",
      "RP3b weight: 0.35449454151604165\n",
      "ItemKNN weight: 0.1278341613256669\n",
      "EvaluatorHoldout: Processed 34728 (100.0%) in 14.47 sec. Users per second: 2400\n",
      "EvaluatorHoldout: Processed 35209 (100.0%) in 16.02 sec. Users per second: 2198\n"
     ]
    },
    {
     "name": "stderr",
     "output_type": "stream",
     "text": [
      "[I 2024-12-18 01:18:39,096] Trial 49 finished with value: 0.03100773974067771 and parameters: {'x_0': 0.23760748304359033, 'x_1': 0.37376373384777567, 'x_2': 0.7012524647971842}. Best is trial 19 with value: 0.031065229602935986.\n"
     ]
    },
    {
     "name": "stdout",
     "output_type": "stream",
     "text": [
      "__________Iteration 50______________\n",
      "SLIM weight: 0.0036140540559146898\n",
      "RP3b weight: 0.8819137533261775\n",
      "ItemKNN weight: 0.11447219261790775\n",
      "EvaluatorHoldout: Processed 34728 (100.0%) in 14.79 sec. Users per second: 2348\n",
      "EvaluatorHoldout: Processed 35209 (100.0%) in 15.70 sec. Users per second: 2242\n"
     ]
    },
    {
     "name": "stderr",
     "output_type": "stream",
     "text": [
      "[I 2024-12-18 01:19:09,747] Trial 50 finished with value: 0.029331632359231738 and parameters: {'x_0': 0.9945753273194958, 'x_1': 0.26517891003235106, 'x_2': 0.8417352187123313}. Best is trial 19 with value: 0.031065229602935986.\n"
     ]
    },
    {
     "name": "stdout",
     "output_type": "stream",
     "text": [
      "__________Iteration 51______________\n",
      "SLIM weight: 0.6891692856006397\n",
      "RP3b weight: 0.25990392827334835\n",
      "ItemKNN weight: 0.0509267861260118\n",
      "EvaluatorHoldout: Processed 34728 (100.0%) in 13.88 sec. Users per second: 2502\n",
      "EvaluatorHoldout: Processed 35209 (100.0%) in 15.29 sec. Users per second: 2302\n"
     ]
    },
    {
     "name": "stderr",
     "output_type": "stream",
     "text": [
      "[I 2024-12-18 01:19:39,067] Trial 51 finished with value: 0.031057801124748947 and parameters: {'x_0': 0.05521278427195486, 'x_1': 0.335420766786404, 'x_2': 0.8073128865814888}. Best is trial 19 with value: 0.031065229602935986.\n"
     ]
    },
    {
     "name": "stdout",
     "output_type": "stream",
     "text": [
      "__________Iteration 52______________\n",
      "SLIM weight: 0.5152708729416879\n",
      "RP3b weight: 0.41156175206482914\n",
      "ItemKNN weight: 0.07316737499348291\n",
      "EvaluatorHoldout: Processed 34728 (100.0%) in 14.71 sec. Users per second: 2361\n",
      "EvaluatorHoldout: Processed 35209 (100.0%) in 16.05 sec. Users per second: 2193\n"
     ]
    },
    {
     "name": "stderr",
     "output_type": "stream",
     "text": [
      "[I 2024-12-18 01:20:09,983] Trial 52 finished with value: 0.031039347052649408 and parameters: {'x_0': 0.14346088403018373, 'x_1': 0.21205994989051105, 'x_2': 0.7590282490937965}. Best is trial 19 with value: 0.031065229602935986.\n"
     ]
    },
    {
     "name": "stdout",
     "output_type": "stream",
     "text": [
      "__________Iteration 53______________\n",
      "SLIM weight: 0.40604252443899486\n",
      "RP3b weight: 0.5430144775555544\n",
      "ItemKNN weight: 0.05094299800545068\n",
      "EvaluatorHoldout: Processed 34728 (100.0%) in 14.53 sec. Users per second: 2390\n",
      "EvaluatorHoldout: Processed 35209 (100.0%) in 15.29 sec. Users per second: 2302\n"
     ]
    },
    {
     "name": "stderr",
     "output_type": "stream",
     "text": [
      "[I 2024-12-18 01:20:39,949] Trial 53 finished with value: 0.03081080222536595 and parameters: {'x_0': 0.10074679414334381, 'x_1': 0.046450161753737146, 'x_2': 0.7497960951612018}. Best is trial 19 with value: 0.031065229602935986.\n"
     ]
    },
    {
     "name": "stdout",
     "output_type": "stream",
     "text": [
      "__________Iteration 54______________\n",
      "SLIM weight: 0.7001516608322392\n",
      "RP3b weight: 0.28711561464215984\n",
      "ItemKNN weight: 0.012732724525600977\n",
      "EvaluatorHoldout: Processed 34728 (100.0%) in 13.54 sec. Users per second: 2566\n",
      "EvaluatorHoldout: Processed 35209 (100.0%) in 16.05 sec. Users per second: 2194\n"
     ]
    },
    {
     "name": "stderr",
     "output_type": "stream",
     "text": [
      "[I 2024-12-18 01:21:09,671] Trial 54 finished with value: 0.031023081187860714 and parameters: {'x_0': 0.06140322053331407, 'x_1': 0.31846806526603133, 'x_2': 0.9505226027271112}. Best is trial 19 with value: 0.031065229602935986.\n"
     ]
    },
    {
     "name": "stdout",
     "output_type": "stream",
     "text": [
      "__________Iteration 55______________\n",
      "SLIM weight: 0.5269869806136245\n",
      "RP3b weight: 0.44045151820721873\n",
      "ItemKNN weight: 0.032561501179156814\n",
      "EvaluatorHoldout: Processed 34728 (100.0%) in 14.75 sec. Users per second: 2354\n",
      "EvaluatorHoldout: Processed 35209 (100.0%) in 15.92 sec. Users per second: 2212\n"
     ]
    },
    {
     "name": "stderr",
     "output_type": "stream",
     "text": [
      "[I 2024-12-18 01:21:40,491] Trial 55 finished with value: 0.03094522557160673 and parameters: {'x_0': 0.143399576454516, 'x_1': 0.19726472484893137, 'x_2': 0.8869205799261095}. Best is trial 19 with value: 0.031065229602935986.\n"
     ]
    },
    {
     "name": "stdout",
     "output_type": "stream",
     "text": [
      "__________Iteration 56______________\n",
      "SLIM weight: 0.8367860993514044\n",
      "RP3b weight: 0.12511413970724544\n",
      "ItemKNN weight: 0.03809976094135024\n",
      "EvaluatorHoldout: Processed 34728 (100.0%) in 14.41 sec. Users per second: 2410\n",
      "EvaluatorHoldout: Processed 35209 (100.0%) in 14.64 sec. Users per second: 2406\n"
     ]
    },
    {
     "name": "stderr",
     "output_type": "stream",
     "text": [
      "[I 2024-12-18 01:22:09,686] Trial 56 finished with value: 0.030856983112294945 and parameters: {'x_0': 0.0022576885614672693, 'x_1': 0.4020930290176928, 'x_2': 0.7577213237191028}. Best is trial 19 with value: 0.031065229602935986.\n"
     ]
    },
    {
     "name": "stdout",
     "output_type": "stream",
     "text": [
      "__________Iteration 57______________\n",
      "SLIM weight: 0.45749165652277085\n",
      "RP3b weight: 0.33004011201825106\n",
      "ItemKNN weight: 0.2124682314589782\n",
      "EvaluatorHoldout: Processed 34728 (100.0%) in 14.54 sec. Users per second: 2388\n",
      "EvaluatorHoldout: Processed 35209 (100.0%) in 15.97 sec. Users per second: 2205\n"
     ]
    },
    {
     "name": "stderr",
     "output_type": "stream",
     "text": [
      "[I 2024-12-18 01:22:40,347] Trial 57 finished with value: 0.030862519333924768 and parameters: {'x_0': 0.31988576959791526, 'x_1': 0.43943762917509493, 'x_2': 0.5889925319439269}. Best is trial 19 with value: 0.031065229602935986.\n"
     ]
    },
    {
     "name": "stdout",
     "output_type": "stream",
     "text": [
      "__________Iteration 58______________\n",
      "SLIM weight: 0.5667093203431639\n",
      "RP3b weight: 0.29336045795767857\n",
      "ItemKNN weight: 0.13993022169915736\n",
      "EvaluatorHoldout: Processed 34728 (100.0%) in 14.77 sec. Users per second: 2351\n",
      "EvaluatorHoldout: Processed 35209 (100.0%) in 15.63 sec. Users per second: 2253\n"
     ]
    },
    {
     "name": "stderr",
     "output_type": "stream",
     "text": [
      "[I 2024-12-18 01:23:10,901] Trial 58 finished with value: 0.030993335280436927 and parameters: {'x_0': 0.25365388825039903, 'x_1': 0.4915889061320607, 'x_2': 0.7126840593890823}. Best is trial 19 with value: 0.031065229602935986.\n"
     ]
    },
    {
     "name": "stdout",
     "output_type": "stream",
     "text": [
      "__________Iteration 59______________\n",
      "SLIM weight: 0.2137365940493416\n",
      "RP3b weight: 0.21683845827268064\n",
      "ItemKNN weight: 0.5694249476779777\n",
      "EvaluatorHoldout: Processed 34728 (100.0%) in 13.84 sec. Users per second: 2510\n",
      "EvaluatorHoldout: Processed 35209 (100.0%) in 15.25 sec. Users per second: 2309\n"
     ]
    },
    {
     "name": "stderr",
     "output_type": "stream",
     "text": [
      "[I 2024-12-18 01:23:40,137] Trial 59 finished with value: 0.02984188459611664 and parameters: {'x_0': 0.37804683064960576, 'x_1': 0.3727474735534208, 'x_2': 0.07490673715059015}. Best is trial 19 with value: 0.031065229602935986.\n"
     ]
    },
    {
     "name": "stdout",
     "output_type": "stream",
     "text": [
      "__________Iteration 60______________\n",
      "SLIM weight: 0.5573080599215928\n",
      "RP3b weight: 0.39029104990365704\n",
      "ItemKNN weight: 0.05240089017475016\n",
      "EvaluatorHoldout: Processed 34728 (100.0%) in 14.70 sec. Users per second: 2363\n",
      "EvaluatorHoldout: Processed 35209 (100.0%) in 16.03 sec. Users per second: 2197\n"
     ]
    },
    {
     "name": "stderr",
     "output_type": "stream",
     "text": [
      "[I 2024-12-18 01:24:11,018] Trial 60 finished with value: 0.031013512494377022 and parameters: {'x_0': 0.12515037293402664, 'x_1': 0.23330198189605114, 'x_2': 0.822500286658522}. Best is trial 19 with value: 0.031065229602935986.\n"
     ]
    },
    {
     "name": "stdout",
     "output_type": "stream",
     "text": [
      "__________Iteration 61______________\n",
      "SLIM weight: 0.5550843244548904\n",
      "RP3b weight: 0.3716474275226817\n",
      "ItemKNN weight: 0.07326824802242794\n",
      "EvaluatorHoldout: Processed 34728 (100.0%) in 14.53 sec. Users per second: 2389\n",
      "EvaluatorHoldout: Processed 35209 (100.0%) in 15.34 sec. Users per second: 2295\n"
     ]
    },
    {
     "name": "stderr",
     "output_type": "stream",
     "text": [
      "[I 2024-12-18 01:24:41,039] Trial 61 finished with value: 0.03106121198575314 and parameters: {'x_0': 0.1493747639654906, 'x_1': 0.27999554938072924, 'x_2': 0.7780524650269754}. Best is trial 19 with value: 0.031065229602935986.\n"
     ]
    },
    {
     "name": "stdout",
     "output_type": "stream",
     "text": [
      "__________Iteration 62______________\n",
      "SLIM weight: 0.4073340271294609\n",
      "RP3b weight: 0.531419162735036\n",
      "ItemKNN weight: 0.061246810135503114\n",
      "EvaluatorHoldout: Processed 34728 (100.0%) in 13.57 sec. Users per second: 2559\n",
      "EvaluatorHoldout: Processed 35209 (100.0%) in 16.02 sec. Users per second: 2198\n"
     ]
    },
    {
     "name": "stderr",
     "output_type": "stream",
     "text": [
      "[I 2024-12-18 01:25:10,775] Trial 62 finished with value: 0.030837568057245742 and parameters: {'x_0': 0.21032805831598922, 'x_1': 0.1308076372184982, 'x_2': 0.791025921768159}. Best is trial 19 with value: 0.031065229602935986.\n"
     ]
    },
    {
     "name": "stdout",
     "output_type": "stream",
     "text": [
      "__________Iteration 63______________\n",
      "SLIM weight: 0.5724168470849845\n",
      "RP3b weight: 0.3811935417661169\n",
      "ItemKNN weight: 0.046389611148898474\n",
      "EvaluatorHoldout: Processed 34728 (100.0%) in 14.73 sec. Users per second: 2357\n",
      "EvaluatorHoldout: Processed 35209 (100.0%) in 16.09 sec. Users per second: 2189\n"
     ]
    },
    {
     "name": "stderr",
     "output_type": "stream",
     "text": [
      "[I 2024-12-18 01:25:41,757] Trial 63 finished with value: 0.031016274320523448 and parameters: {'x_0': 0.15493686766314246, 'x_1': 0.28886446573380953, 'x_2': 0.8597432976396993}. Best is trial 19 with value: 0.031065229602935986.\n"
     ]
    },
    {
     "name": "stdout",
     "output_type": "stream",
     "text": [
      "__________Iteration 64______________\n",
      "SLIM weight: 0.5410975476058263\n",
      "RP3b weight: 0.3865599854502883\n",
      "ItemKNN weight: 0.07234246694388538\n",
      "EvaluatorHoldout: Processed 34728 (100.0%) in 14.41 sec. Users per second: 2409\n",
      "EvaluatorHoldout: Processed 35209 (100.0%) in 14.67 sec. Users per second: 2399\n"
     ]
    },
    {
     "name": "stderr",
     "output_type": "stream",
     "text": [
      "[I 2024-12-18 01:26:10,986] Trial 64 finished with value: 0.031049402522276493 and parameters: {'x_0': 0.10332330568601164, 'x_1': 0.1975802119245603, 'x_2': 0.7382483019659003}. Best is trial 19 with value: 0.031065229602935986.\n"
     ]
    },
    {
     "name": "stdout",
     "output_type": "stream",
     "text": [
      "__________Iteration 65______________\n",
      "SLIM weight: 0.6755804520616385\n",
      "RP3b weight: 0.22940438641187455\n",
      "ItemKNN weight: 0.09501516152648681\n",
      "EvaluatorHoldout: Processed 34728 (100.0%) in 14.48 sec. Users per second: 2399\n",
      "EvaluatorHoldout: Processed 35209 (100.0%) in 16.04 sec. Users per second: 2196\n"
     ]
    },
    {
     "name": "stderr",
     "output_type": "stream",
     "text": [
      "[I 2024-12-18 01:26:41,650] Trial 65 finished with value: 0.031036016178335513 and parameters: {'x_0': 0.041982152146432326, 'x_1': 0.3407525457428472, 'x_2': 0.6402428061978334}. Best is trial 19 with value: 0.031065229602935986.\n"
     ]
    },
    {
     "name": "stdout",
     "output_type": "stream",
     "text": [
      "__________Iteration 66______________\n",
      "SLIM weight: 0.5467962252780572\n",
      "RP3b weight: 0.3805872497704874\n",
      "ItemKNN weight: 0.0726165249514555\n",
      "EvaluatorHoldout: Processed 34728 (100.0%) in 14.76 sec. Users per second: 2354\n",
      "EvaluatorHoldout: Processed 35209 (100.0%) in 15.65 sec. Users per second: 2250\n"
     ]
    },
    {
     "name": "stderr",
     "output_type": "stream",
     "text": [
      "[I 2024-12-18 01:27:12,223] Trial 66 finished with value: 0.03105938486121527 and parameters: {'x_0': 0.09019166062485683, 'x_1': 0.1873972319458863, 'x_2': 0.7265111774484269}. Best is trial 19 with value: 0.031065229602935986.\n"
     ]
    },
    {
     "name": "stdout",
     "output_type": "stream",
     "text": [
      "__________Iteration 67______________\n",
      "SLIM weight: 0.5633356034961489\n",
      "RP3b weight: 0.3650705496583162\n",
      "ItemKNN weight: 0.07159384684553502\n",
      "EvaluatorHoldout: Processed 34728 (100.0%) in 13.98 sec. Users per second: 2485\n",
      "EvaluatorHoldout: Processed 35209 (100.0%) in 15.16 sec. Users per second: 2323\n"
     ]
    },
    {
     "name": "stderr",
     "output_type": "stream",
     "text": [
      "[I 2024-12-18 01:27:41,502] Trial 67 finished with value: 0.03104408226471014 and parameters: {'x_0': 0.07517328153386774, 'x_1': 0.18690939758080588, 'x_2': 0.7197138480405956}. Best is trial 19 with value: 0.031065229602935986.\n"
     ]
    },
    {
     "name": "stdout",
     "output_type": "stream",
     "text": [
      "__________Iteration 68______________\n",
      "SLIM weight: 0.5222049276122807\n",
      "RP3b weight: 0.3508241179958565\n",
      "ItemKNN weight: 0.1269709543918628\n",
      "EvaluatorHoldout: Processed 34728 (100.0%) in 14.72 sec. Users per second: 2360\n",
      "EvaluatorHoldout: Processed 35209 (100.0%) in 16.06 sec. Users per second: 2192\n"
     ]
    },
    {
     "name": "stderr",
     "output_type": "stream",
     "text": [
      "[I 2024-12-18 01:28:12,446] Trial 68 finished with value: 0.031007806015363848 and parameters: {'x_0': 0.07431677161636863, 'x_1': 0.17441399611041375, 'x_2': 0.5315102266528011}. Best is trial 19 with value: 0.031065229602935986.\n"
     ]
    },
    {
     "name": "stdout",
     "output_type": "stream",
     "text": [
      "__________Iteration 69______________\n",
      "SLIM weight: 0.4745950249776193\n",
      "RP3b weight: 0.45900121144892503\n",
      "ItemKNN weight: 0.06640376357345562\n",
      "EvaluatorHoldout: Processed 34728 (100.0%) in 14.54 sec. Users per second: 2388\n",
      "EvaluatorHoldout: Processed 35209 (100.0%) in 15.44 sec. Users per second: 2281\n"
     ]
    },
    {
     "name": "stderr",
     "output_type": "stream",
     "text": [
      "[I 2024-12-18 01:28:42,578] Trial 69 finished with value: 0.030964277258548858 and parameters: {'x_0': 0.1008259021130705, 'x_1': 0.10872060024038842, 'x_2': 0.7254092876146787}. Best is trial 19 with value: 0.031065229602935986.\n"
     ]
    },
    {
     "name": "stdout",
     "output_type": "stream",
     "text": [
      "__________Iteration 70______________\n",
      "SLIM weight: 0.8525443774593169\n",
      "RP3b weight: 0.016354930405132504\n",
      "ItemKNN weight: 0.13110069213555067\n",
      "EvaluatorHoldout: Processed 34728 (100.0%) in 13.49 sec. Users per second: 2573\n",
      "EvaluatorHoldout: Processed 35209 (100.0%) in 16.01 sec. Users per second: 2199\n"
     ]
    },
    {
     "name": "stderr",
     "output_type": "stream",
     "text": [
      "[I 2024-12-18 01:29:12,222] Trial 70 finished with value: 0.030736531155500447 and parameters: {'x_0': 0.038574213476117475, 'x_1': 0.939463667538601, 'x_2': 0.6061871208164917}. Best is trial 19 with value: 0.031065229602935986.\n"
     ]
    },
    {
     "name": "stdout",
     "output_type": "stream",
     "text": [
      "__________Iteration 71______________\n",
      "SLIM weight: 0.38979449256799975\n",
      "RP3b weight: 0.5427832621274573\n",
      "ItemKNN weight: 0.06742224530454295\n",
      "EvaluatorHoldout: Processed 34728 (100.0%) in 14.72 sec. Users per second: 2359\n",
      "EvaluatorHoldout: Processed 35209 (100.0%) in 15.99 sec. Users per second: 2202\n"
     ]
    },
    {
     "name": "stderr",
     "output_type": "stream",
     "text": [
      "[I 2024-12-18 01:29:43,092] Trial 71 finished with value: 0.030807952413860265 and parameters: {'x_0': 0.10536736609050106, 'x_1': 0.04356445042190868, 'x_2': 0.6775771504573375}. Best is trial 19 with value: 0.031065229602935986.\n"
     ]
    },
    {
     "name": "stdout",
     "output_type": "stream",
     "text": [
      "__________Iteration 72______________\n",
      "SLIM weight: 0.5902122858680805\n",
      "RP3b weight: 0.35825908364600706\n",
      "ItemKNN weight: 0.0515286304859124\n",
      "EvaluatorHoldout: Processed 34728 (100.0%) in 14.39 sec. Users per second: 2414\n",
      "EvaluatorHoldout: Processed 35209 (100.0%) in 14.76 sec. Users per second: 2385\n"
     ]
    },
    {
     "name": "stderr",
     "output_type": "stream",
     "text": [
      "[I 2024-12-18 01:30:12,393] Trial 72 finished with value: 0.03102090212188583 and parameters: {'x_0': 0.061374654565364936, 'x_1': 0.18378450611462904, 'x_2': 0.7837635882706393}. Best is trial 19 with value: 0.031065229602935986.\n"
     ]
    },
    {
     "name": "stdout",
     "output_type": "stream",
     "text": [
      "__________Iteration 73______________\n",
      "SLIM weight: 0.8011551243595696\n",
      "RP3b weight: 0.176441040480307\n",
      "ItemKNN weight: 0.022403835160123328\n",
      "EvaluatorHoldout: Processed 34728 (100.0%) in 14.23 sec. Users per second: 2440\n",
      "EvaluatorHoldout: Processed 35209 (100.0%) in 16.03 sec. Users per second: 2197\n"
     ]
    },
    {
     "name": "stderr",
     "output_type": "stream",
     "text": [
      "[I 2024-12-18 01:30:42,811] Trial 73 finished with value: 0.030933656068200765 and parameters: {'x_0': 0.001492443524443804, 'x_1': 0.2385603135321136, 'x_2': 0.833623032562796}. Best is trial 19 with value: 0.031065229602935986.\n"
     ]
    },
    {
     "name": "stdout",
     "output_type": "stream",
     "text": [
      "New best on test found! Score is 0.0480096505357787\n",
      "weights: SLIM_w: 0.8011551243595696, RP3b_w: 0.176441040480307, ItemKNN_w: 0.022403835160123328\n",
      "__________Iteration 74______________\n",
      "SLIM weight: 0.40310971006692403\n",
      "RP3b weight: 0.5148304691528781\n",
      "ItemKNN weight: 0.08205982078019794\n",
      "EvaluatorHoldout: Processed 34728 (100.0%) in 14.78 sec. Users per second: 2350\n",
      "EvaluatorHoldout: Processed 35209 (100.0%) in 15.69 sec. Users per second: 2243\n"
     ]
    },
    {
     "name": "stderr",
     "output_type": "stream",
     "text": [
      "[I 2024-12-18 01:31:13,445] Trial 74 finished with value: 0.030851306342623515 and parameters: {'x_0': 0.21317163294214247, 'x_1': 0.13889563429288926, 'x_2': 0.7300481130937466}. Best is trial 19 with value: 0.031065229602935986.\n"
     ]
    },
    {
     "name": "stdout",
     "output_type": "stream",
     "text": [
      "__________Iteration 75______________\n",
      "SLIM weight: 0.2215023862527419\n",
      "RP3b weight: 0.581183443308366\n",
      "ItemKNN weight: 0.19731417043889204\n",
      "EvaluatorHoldout: Processed 34728 (100.0%) in 14.04 sec. Users per second: 2474\n",
      "EvaluatorHoldout: Processed 35209 (100.0%) in 14.97 sec. Users per second: 2352\n"
     ]
    },
    {
     "name": "stderr",
     "output_type": "stream",
     "text": [
      "[I 2024-12-18 01:31:42,592] Trial 75 finished with value: 0.030570016006478642 and parameters: {'x_0': 0.6227630360783043, 'x_1': 0.28862845425960554, 'x_2': 0.6558173751692717}. Best is trial 19 with value: 0.031065229602935986.\n"
     ]
    },
    {
     "name": "stdout",
     "output_type": "stream",
     "text": [
      "__________Iteration 76______________\n",
      "SLIM weight: 0.6431466122708743\n",
      "RP3b weight: 0.2969466501202746\n",
      "ItemKNN weight: 0.05990673760885119\n",
      "EvaluatorHoldout: Processed 34728 (100.0%) in 14.81 sec. Users per second: 2345\n",
      "EvaluatorHoldout: Processed 35209 (100.0%) in 16.00 sec. Users per second: 2201\n"
     ]
    },
    {
     "name": "stderr",
     "output_type": "stream",
     "text": [
      "[I 2024-12-18 01:32:13,551] Trial 76 finished with value: 0.031030605650075902 and parameters: {'x_0': 0.08860471199896508, 'x_1': 0.3266113133904173, 'x_2': 0.7979202375090725}. Best is trial 19 with value: 0.031065229602935986.\n"
     ]
    },
    {
     "name": "stdout",
     "output_type": "stream",
     "text": [
      "__________Iteration 77______________\n",
      "SLIM weight: 0.5613247781226954\n",
      "RP3b weight: 0.4062790002510484\n",
      "ItemKNN weight: 0.032396221626256126\n",
      "EvaluatorHoldout: Processed 34728 (100.0%) in 14.56 sec. Users per second: 2386\n",
      "EvaluatorHoldout: Processed 35209 (100.0%) in 15.51 sec. Users per second: 2271\n"
     ]
    },
    {
     "name": "stderr",
     "output_type": "stream",
     "text": [
      "[I 2024-12-18 01:32:43,759] Trial 77 finished with value: 0.030967650411541925 and parameters: {'x_0': 0.16697678380197065, 'x_1': 0.273759616368511, 'x_2': 0.9018545065457935}. Best is trial 19 with value: 0.031065229602935986.\n"
     ]
    },
    {
     "name": "stdout",
     "output_type": "stream",
     "text": [
      "__________Iteration 78______________\n",
      "SLIM weight: 0.4003169528845852\n",
      "RP3b weight: 0.4849800484713145\n",
      "ItemKNN weight: 0.11470299864410036\n",
      "EvaluatorHoldout: Processed 34728 (100.0%) in 13.51 sec. Users per second: 2571\n",
      "EvaluatorHoldout: Processed 35209 (100.0%) in 15.97 sec. Users per second: 2205\n"
     ]
    },
    {
     "name": "stderr",
     "output_type": "stream",
     "text": [
      "[I 2024-12-18 01:33:13,372] Trial 78 finished with value: 0.03094698984945946 and parameters: {'x_0': 0.2793310924797245, 'x_1': 0.21329415722109754, 'x_2': 0.6938990697568994}. Best is trial 19 with value: 0.031065229602935986.\n"
     ]
    },
    {
     "name": "stdout",
     "output_type": "stream",
     "text": [
      "__________Iteration 79______________\n",
      "SLIM weight: 0.43209259497874336\n",
      "RP3b weight: 0.2736946471699024\n",
      "ItemKNN weight: 0.29421275785135426\n",
      "EvaluatorHoldout: Processed 34728 (100.0%) in 14.76 sec. Users per second: 2353\n",
      "EvaluatorHoldout: Processed 35209 (100.0%) in 16.03 sec. Users per second: 2196\n"
     ]
    },
    {
     "name": "stderr",
     "output_type": "stream",
     "text": [
      "[I 2024-12-18 01:33:44,322] Trial 79 finished with value: 0.030690542236628045 and parameters: {'x_0': 0.11338409485075232, 'x_1': 0.2518474600299001, 'x_2': 0.22711329564063776}. Best is trial 19 with value: 0.031065229602935986.\n"
     ]
    },
    {
     "name": "stdout",
     "output_type": "stream",
     "text": [
      "__________Iteration 80______________\n",
      "SLIM weight: 0.18790507661054126\n",
      "RP3b weight: 0.7697324792213628\n",
      "ItemKNN weight: 0.04236244416809602\n",
      "EvaluatorHoldout: Processed 34728 (100.0%) in 14.39 sec. Users per second: 2414\n",
      "EvaluatorHoldout: Processed 35209 (100.0%) in 14.88 sec. Users per second: 2366\n"
     ]
    },
    {
     "name": "stderr",
     "output_type": "stream",
     "text": [
      "[I 2024-12-18 01:34:13,738] Trial 80 finished with value: 0.02983148289838783 and parameters: {'x_0': 0.5252600753864667, 'x_1': 0.07153926117662301, 'x_2': 0.8648873212747017}. Best is trial 19 with value: 0.031065229602935986.\n"
     ]
    },
    {
     "name": "stdout",
     "output_type": "stream",
     "text": [
      "__________Iteration 81______________\n",
      "SLIM weight: 0.5604560933669073\n",
      "RP3b weight: 0.3418777018503517\n",
      "ItemKNN weight: 0.09766620478274103\n",
      "EvaluatorHoldout: Processed 34728 (100.0%) in 14.16 sec. Users per second: 2453\n",
      "EvaluatorHoldout: Processed 35209 (100.0%) in 15.96 sec. Users per second: 2206\n"
     ]
    },
    {
     "name": "stderr",
     "output_type": "stream",
     "text": [
      "[I 2024-12-18 01:34:44,007] Trial 81 finished with value: 0.031038003276253914 and parameters: {'x_0': 0.19665524424911646, 'x_1': 0.3708181849786531, 'x_2': 0.7532162953404004}. Best is trial 19 with value: 0.031065229602935986.\n"
     ]
    },
    {
     "name": "stdout",
     "output_type": "stream",
     "text": [
      "__________Iteration 82______________\n",
      "SLIM weight: 0.5525029186664722\n",
      "RP3b weight: 0.363983136861308\n",
      "ItemKNN weight: 0.08351394447221983\n",
      "EvaluatorHoldout: Processed 34728 (100.0%) in 14.78 sec. Users per second: 2350\n",
      "EvaluatorHoldout: Processed 35209 (100.0%) in 15.75 sec. Users per second: 2236\n"
     ]
    },
    {
     "name": "stderr",
     "output_type": "stream",
     "text": [
      "[I 2024-12-18 01:35:14,691] Trial 82 finished with value: 0.031051044534759858 and parameters: {'x_0': 0.2494659553932574, 'x_1': 0.40064280681757314, 'x_2': 0.8106900480359205}. Best is trial 19 with value: 0.031065229602935986.\n"
     ]
    },
    {
     "name": "stdout",
     "output_type": "stream",
     "text": [
      "__________Iteration 83______________\n",
      "SLIM weight: 0.7653477628255845\n",
      "RP3b weight: 0.19573469795265702\n",
      "ItemKNN weight: 0.03891753922175864\n",
      "EvaluatorHoldout: Processed 34728 (100.0%) in 14.07 sec. Users per second: 2468\n",
      "EvaluatorHoldout: Processed 35209 (100.0%) in 14.81 sec. Users per second: 2378\n"
     ]
    },
    {
     "name": "stderr",
     "output_type": "stream",
     "text": [
      "[I 2024-12-18 01:35:43,701] Trial 83 finished with value: 0.030988902875132077 and parameters: {'x_0': 0.03081635398555492, 'x_1': 0.4106877173584851, 'x_2': 0.837828840138447}. Best is trial 19 with value: 0.031065229602935986.\n"
     ]
    },
    {
     "name": "stdout",
     "output_type": "stream",
     "text": [
      "__________Iteration 84______________\n",
      "SLIM weight: 0.48848073157525446\n",
      "RP3b weight: 0.4498098340859342\n",
      "ItemKNN weight: 0.06170943433881142\n",
      "EvaluatorHoldout: Processed 34728 (100.0%) in 14.73 sec. Users per second: 2357\n",
      "EvaluatorHoldout: Processed 35209 (100.0%) in 16.07 sec. Users per second: 2190\n"
     ]
    },
    {
     "name": "stderr",
     "output_type": "stream",
     "text": [
      "[I 2024-12-18 01:36:14,656] Trial 84 finished with value: 0.030981138452846172 and parameters: {'x_0': 0.12981790025484036, 'x_1': 0.15259068752260654, 'x_2': 0.772659534857358}. Best is trial 19 with value: 0.031065229602935986.\n"
     ]
    },
    {
     "name": "stdout",
     "output_type": "stream",
     "text": [
      "__________Iteration 85______________\n",
      "SLIM weight: 0.6337432263107696\n",
      "RP3b weight: 0.34201151590763806\n",
      "ItemKNN weight: 0.024245257781592307\n",
      "EvaluatorHoldout: Processed 34728 (100.0%) in 14.64 sec. Users per second: 2371\n",
      "EvaluatorHoldout: Processed 35209 (100.0%) in 15.61 sec. Users per second: 2255\n"
     ]
    },
    {
     "name": "stderr",
     "output_type": "stream",
     "text": [
      "[I 2024-12-18 01:36:45,063] Trial 85 finished with value: 0.030989994122119897 and parameters: {'x_0': 0.23266174822330862, 'x_1': 0.4552407857776803, 'x_2': 0.9457419531052675}. Best is trial 19 with value: 0.031065229602935986.\n"
     ]
    },
    {
     "name": "stdout",
     "output_type": "stream",
     "text": [
      "__________Iteration 86______________\n",
      "SLIM weight: 0.4545244308463487\n",
      "RP3b weight: 0.46393311024645206\n",
      "ItemKNN weight: 0.08154245890719913\n",
      "EvaluatorHoldout: Processed 34728 (100.0%) in 13.52 sec. Users per second: 2568\n",
      "EvaluatorHoldout: Processed 35209 (100.0%) in 15.79 sec. Users per second: 2229\n"
     ]
    },
    {
     "name": "stderr",
     "output_type": "stream",
     "text": [
      "[I 2024-12-18 01:37:14,512] Trial 86 finished with value: 0.030966927103329045 and parameters: {'x_0': 0.3075708664186816, 'x_1': 0.30015503639887964, 'x_2': 0.8093502290020729}. Best is trial 19 with value: 0.031065229602935986.\n"
     ]
    },
    {
     "name": "stdout",
     "output_type": "stream",
     "text": [
      "__________Iteration 87______________\n",
      "SLIM weight: 0.6456284805095547\n",
      "RP3b weight: 0.27525347580800086\n",
      "ItemKNN weight: 0.07911804368244445\n",
      "EvaluatorHoldout: Processed 34728 (100.0%) in 14.74 sec. Users per second: 2357\n",
      "EvaluatorHoldout: Processed 35209 (100.0%) in 16.04 sec. Users per second: 2195\n"
     ]
    },
    {
     "name": "stderr",
     "output_type": "stream",
     "text": [
      "[I 2024-12-18 01:37:45,446] Trial 87 finished with value: 0.03105974937198917 and parameters: {'x_0': 0.08135251433663548, 'x_1': 0.3431262368326596, 'x_2': 0.7353130149680684}. Best is trial 19 with value: 0.031065229602935986.\n"
     ]
    },
    {
     "name": "stdout",
     "output_type": "stream",
     "text": [
      "__________Iteration 88______________\n",
      "SLIM weight: 0.5806880702757017\n",
      "RP3b weight: 0.3457914667665645\n",
      "ItemKNN weight: 0.07352046295773376\n",
      "EvaluatorHoldout: Processed 34728 (100.0%) in 14.41 sec. Users per second: 2410\n",
      "EvaluatorHoldout: Processed 35209 (100.0%) in 14.94 sec. Users per second: 2357\n"
     ]
    },
    {
     "name": "stderr",
     "output_type": "stream",
     "text": [
      "[I 2024-12-18 01:38:14,933] Trial 88 finished with value: 0.031044533618176398 and parameters: {'x_0': 0.08526103679388602, 'x_1': 0.2308220174777634, 'x_2': 0.7321889493224072}. Best is trial 19 with value: 0.031065229602935986.\n"
     ]
    },
    {
     "name": "stdout",
     "output_type": "stream",
     "text": [
      "__________Iteration 89______________\n",
      "SLIM weight: 0.8325884042074431\n",
      "RP3b weight: 0.0674168218682277\n",
      "ItemKNN weight: 0.09999477392432926\n",
      "EvaluatorHoldout: Processed 34728 (100.0%) in 14.24 sec. Users per second: 2438\n",
      "EvaluatorHoldout: Processed 35209 (100.0%) in 16.00 sec. Users per second: 2200\n"
     ]
    },
    {
     "name": "stderr",
     "output_type": "stream",
     "text": [
      "[I 2024-12-18 01:38:45,326] Trial 89 finished with value: 0.03082340241440875 and parameters: {'x_0': 0.053548648747722624, 'x_1': 0.7889754717110286, 'x_2': 0.7035926800971513}. Best is trial 19 with value: 0.031065229602935986.\n"
     ]
    },
    {
     "name": "stdout",
     "output_type": "stream",
     "text": [
      "__________Iteration 90______________\n",
      "SLIM weight: 0.5674148507315209\n",
      "RP3b weight: 0.3612786838941107\n",
      "ItemKNN weight: 0.07130646537436842\n",
      "EvaluatorHoldout: Processed 34728 (100.0%) in 14.71 sec. Users per second: 2361\n",
      "EvaluatorHoldout: Processed 35209 (100.0%) in 15.71 sec. Users per second: 2240\n"
     ]
    },
    {
     "name": "stderr",
     "output_type": "stream",
     "text": [
      "[I 2024-12-18 01:39:15,905] Trial 90 finished with value: 0.031037162273339563 and parameters: {'x_0': 0.08015987832795807, 'x_1': 0.20051115679768, 'x_2': 0.7282179202692227}. Best is trial 19 with value: 0.031065229602935986.\n"
     ]
    },
    {
     "name": "stdout",
     "output_type": "stream",
     "text": [
      "__________Iteration 91______________\n",
      "SLIM weight: 0.4973484559802875\n",
      "RP3b weight: 0.39675006335956947\n",
      "ItemKNN weight: 0.10590148066014318\n",
      "EvaluatorHoldout: Processed 34728 (100.0%) in 13.95 sec. Users per second: 2490\n",
      "EvaluatorHoldout: Processed 35209 (100.0%) in 15.10 sec. Users per second: 2331\n"
     ]
    },
    {
     "name": "stderr",
     "output_type": "stream",
     "text": [
      "[I 2024-12-18 01:39:45,096] Trial 91 finished with value: 0.031039388188661587 and parameters: {'x_0': 0.16144748141916626, 'x_1': 0.2334653015812201, 'x_2': 0.6782103125260586}. Best is trial 19 with value: 0.031065229602935986.\n"
     ]
    },
    {
     "name": "stdout",
     "output_type": "stream",
     "text": [
      "__________Iteration 92______________\n",
      "SLIM weight: 0.603841181295392\n",
      "RP3b weight: 0.3214183294438021\n",
      "ItemKNN weight: 0.07474048926080595\n",
      "EvaluatorHoldout: Processed 34728 (100.0%) in 14.73 sec. Users per second: 2357\n",
      "EvaluatorHoldout: Processed 35209 (100.0%) in 16.03 sec. Users per second: 2196\n"
     ]
    },
    {
     "name": "stderr",
     "output_type": "stream",
     "text": [
      "[I 2024-12-18 01:40:16,011] Trial 92 finished with value: 0.03101348278503493 and parameters: {'x_0': 0.12413626679761626, 'x_1': 0.3293758613214826, 'x_2': 0.7724088454664837}. Best is trial 19 with value: 0.031065229602935986.\n"
     ]
    },
    {
     "name": "stdout",
     "output_type": "stream",
     "text": [
      "__________Iteration 93______________\n",
      "SLIM weight: 0.6148048474319926\n",
      "RP3b weight: 0.31182841023009367\n",
      "ItemKNN weight: 0.07336674233791358\n",
      "EvaluatorHoldout: Processed 34728 (100.0%) in 14.64 sec. Users per second: 2373\n",
      "EvaluatorHoldout: Processed 35209 (100.0%) in 15.53 sec. Users per second: 2267\n"
     ]
    },
    {
     "name": "stderr",
     "output_type": "stream",
     "text": [
      "[I 2024-12-18 01:40:46,327] Trial 93 finished with value: 0.031024386113578228 and parameters: {'x_0': 0.08186992756847614, 'x_1': 0.2810203525849012, 'x_2': 0.7418215721910225}. Best is trial 19 with value: 0.031065229602935986.\n"
     ]
    },
    {
     "name": "stdout",
     "output_type": "stream",
     "text": [
      "__________Iteration 94______________\n",
      "SLIM weight: 0.5813878956765045\n",
      "RP3b weight: 0.3557732876980294\n",
      "ItemKNN weight: 0.0628388166254661\n",
      "EvaluatorHoldout: Processed 34728 (100.0%) in 13.47 sec. Users per second: 2577\n",
      "EvaluatorHoldout: Processed 35209 (100.0%) in 15.97 sec. Users per second: 2204\n"
     ]
    },
    {
     "name": "stderr",
     "output_type": "stream",
     "text": [
      "[I 2024-12-18 01:41:15,916] Trial 94 finished with value: 0.03104618934266379 and parameters: {'x_0': 0.14872713933818776, 'x_1': 0.31156897994309435, 'x_2': 0.8138577449950721}. Best is trial 19 with value: 0.031065229602935986.\n"
     ]
    },
    {
     "name": "stdout",
     "output_type": "stream",
     "text": [
      "__________Iteration 95______________\n",
      "SLIM weight: 0.7889329075574213\n",
      "RP3b weight: 0.1802850550483666\n",
      "ItemKNN weight: 0.03078203739421204\n",
      "EvaluatorHoldout: Processed 34728 (100.0%) in 14.77 sec. Users per second: 2351\n",
      "EvaluatorHoldout: Processed 35209 (100.0%) in 16.07 sec. Users per second: 2191\n"
     ]
    },
    {
     "name": "stderr",
     "output_type": "stream",
     "text": [
      "[I 2024-12-18 01:41:46,916] Trial 95 finished with value: 0.030962989472836485 and parameters: {'x_0': 0.015786183506667273, 'x_1': 0.38750259635661793, 'x_2': 0.8505534812601169}. Best is trial 19 with value: 0.031065229602935986.\n"
     ]
    },
    {
     "name": "stdout",
     "output_type": "stream",
     "text": [
      "__________Iteration 96______________\n",
      "SLIM weight: 0.6114706033073439\n",
      "RP3b weight: 0.34045674748319965\n",
      "ItemKNN weight: 0.04807264920945638\n",
      "EvaluatorHoldout: Processed 34728 (100.0%) in 14.39 sec. Users per second: 2413\n",
      "EvaluatorHoldout: Processed 35209 (100.0%) in 14.88 sec. Users per second: 2366\n"
     ]
    },
    {
     "name": "stderr",
     "output_type": "stream",
     "text": [
      "[I 2024-12-18 01:42:16,335] Trial 96 finished with value: 0.031029765789828648 and parameters: {'x_0': 0.04959897315929592, 'x_1': 0.1877849166228836, 'x_2': 0.7896607606230663}. Best is trial 19 with value: 0.031065229602935986.\n"
     ]
    },
    {
     "name": "stdout",
     "output_type": "stream",
     "text": [
      "__________Iteration 97______________\n",
      "SLIM weight: 0.5959099479682286\n",
      "RP3b weight: 0.32245088529964977\n",
      "ItemKNN weight: 0.08163916673212171\n",
      "EvaluatorHoldout: Processed 34728 (100.0%) in 14.17 sec. Users per second: 2450\n",
      "EvaluatorHoldout: Processed 35209 (100.0%) in 16.04 sec. Users per second: 2195\n"
     ]
    },
    {
     "name": "stderr",
     "output_type": "stream",
     "text": [
      "[I 2024-12-18 01:42:46,703] Trial 97 finished with value: 0.031026338931486482 and parameters: {'x_0': 0.14247757697770766, 'x_1': 0.3484067370728826, 'x_2': 0.7657093987683484}. Best is trial 19 with value: 0.031065229602935986.\n"
     ]
    },
    {
     "name": "stdout",
     "output_type": "stream",
     "text": [
      "__________Iteration 98______________\n",
      "SLIM weight: 0.6054553311527253\n",
      "RP3b weight: 0.34512954333749624\n",
      "ItemKNN weight: 0.049415125509778446\n",
      "EvaluatorHoldout: Processed 34728 (100.0%) in 14.75 sec. Users per second: 2355\n",
      "EvaluatorHoldout: Processed 35209 (100.0%) in 15.75 sec. Users per second: 2235\n"
     ]
    },
    {
     "name": "stderr",
     "output_type": "stream",
     "text": [
      "[I 2024-12-18 01:43:17,362] Trial 98 finished with value: 0.031026228092787135 and parameters: {'x_0': 0.09784967493799254, 'x_1': 0.2658186807308996, 'x_2': 0.8272047561077012}. Best is trial 19 with value: 0.031065229602935986.\n"
     ]
    },
    {
     "name": "stdout",
     "output_type": "stream",
     "text": [
      "__________Iteration 99______________\n",
      "SLIM weight: 0.6843211220862357\n",
      "RP3b weight: 0.22645199913657138\n",
      "ItemKNN weight: 0.08922687877719282\n",
      "EvaluatorHoldout: Processed 34728 (100.0%) in 14.08 sec. Users per second: 2466\n",
      "EvaluatorHoldout: Processed 35209 (100.0%) in 14.93 sec. Users per second: 2358\n"
     ]
    },
    {
     "name": "stderr",
     "output_type": "stream",
     "text": [
      "[I 2024-12-18 01:43:46,511] Trial 99 finished with value: 0.031035326007465683 and parameters: {'x_0': 0.0688750707211676, 'x_1': 0.4125698793251169, 'x_2': 0.70550141164308}. Best is trial 19 with value: 0.031065229602935986.\n"
     ]
    },
    {
     "name": "stdout",
     "output_type": "stream",
     "text": [
      "__________Iteration 100______________\n",
      "SLIM weight: 0.17082237523379565\n",
      "RP3b weight: 0.7610904614045326\n",
      "ItemKNN weight: 0.06808716336167174\n",
      "EvaluatorHoldout: Processed 34728 (100.0%) in 14.73 sec. Users per second: 2357\n",
      "EvaluatorHoldout: Processed 35209 (100.0%) in 16.06 sec. Users per second: 2192\n"
     ]
    },
    {
     "name": "stderr",
     "output_type": "stream",
     "text": [
      "[I 2024-12-18 01:44:17,457] Trial 100 finished with value: 0.029855933686919436 and parameters: {'x_0': 0.7155402718028148, 'x_1': 0.2250761593026769, 'x_2': 0.8751034330619472}. Best is trial 19 with value: 0.031065229602935986.\n"
     ]
    },
    {
     "name": "stdout",
     "output_type": "stream",
     "text": [
      "__________Iteration 101______________\n",
      "SLIM weight: 0.5428009568181301\n",
      "RP3b weight: 0.36390828427938166\n",
      "ItemKNN weight: 0.09329075890248816\n",
      "EvaluatorHoldout: Processed 34728 (100.0%) in 14.80 sec. Users per second: 2347\n",
      "EvaluatorHoldout: Processed 35209 (100.0%) in 15.63 sec. Users per second: 2253\n"
     ]
    },
    {
     "name": "stderr",
     "output_type": "stream",
     "text": [
      "[I 2024-12-18 01:44:48,035] Trial 101 finished with value: 0.031039905816814005 and parameters: {'x_0': 0.17452418123155006, 'x_1': 0.31025566208481675, 'x_2': 0.7407955080807787}. Best is trial 19 with value: 0.031065229602935986.\n"
     ]
    },
    {
     "name": "stdout",
     "output_type": "stream",
     "text": [
      "__________Iteration 102______________\n",
      "SLIM weight: 0.6288346038431436\n",
      "RP3b weight: 0.31031598430204804\n",
      "ItemKNN weight: 0.06084941185480848\n",
      "EvaluatorHoldout: Processed 34728 (100.0%) in 13.51 sec. Users per second: 2571\n",
      "EvaluatorHoldout: Processed 35209 (100.0%) in 15.69 sec. Users per second: 2244\n"
     ]
    },
    {
     "name": "stderr",
     "output_type": "stream",
     "text": [
      "[I 2024-12-18 01:45:17,372] Trial 102 finished with value: 0.031019354950763692 and parameters: {'x_0': 0.12278988939117785, 'x_1': 0.35524000707563097, 'x_2': 0.8163238488782012}. Best is trial 19 with value: 0.031065229602935986.\n"
     ]
    },
    {
     "name": "stdout",
     "output_type": "stream",
     "text": [
      "__________Iteration 103______________\n",
      "SLIM weight: 0.5434251256547376\n",
      "RP3b weight: 0.3855308355850439\n",
      "ItemKNN weight: 0.07104403876021866\n",
      "EvaluatorHoldout: Processed 34728 (100.0%) in 14.74 sec. Users per second: 2356\n",
      "EvaluatorHoldout: Processed 35209 (100.0%) in 16.05 sec. Users per second: 2194\n"
     ]
    },
    {
     "name": "stderr",
     "output_type": "stream",
     "text": [
      "[I 2024-12-18 01:45:48,320] Trial 103 finished with value: 0.03104857865936727 and parameters: {'x_0': 0.1908562870055302, 'x_1': 0.3088161550502102, 'x_2': 0.805311710076509}. Best is trial 19 with value: 0.031065229602935986.\n"
     ]
    },
    {
     "name": "stdout",
     "output_type": "stream",
     "text": [
      "__________Iteration 104______________\n",
      "SLIM weight: 0.4332112228349584\n",
      "RP3b weight: 0.5074868193543807\n",
      "ItemKNN weight: 0.059301957810661006\n",
      "EvaluatorHoldout: Processed 34728 (100.0%) in 14.43 sec. Users per second: 2407\n",
      "EvaluatorHoldout: Processed 35209 (100.0%) in 15.01 sec. Users per second: 2345\n"
     ]
    },
    {
     "name": "stderr",
     "output_type": "stream",
     "text": [
      "[I 2024-12-18 01:46:17,908] Trial 104 finished with value: 0.030878169301198667 and parameters: {'x_0': 0.1974646544300968, 'x_1': 0.1495197388821027, 'x_2': 0.8008663950753623}. Best is trial 19 with value: 0.031065229602935986.\n"
     ]
    },
    {
     "name": "stdout",
     "output_type": "stream",
     "text": [
      "__________Iteration 105______________\n",
      "SLIM weight: 0.5173711912972776\n",
      "RP3b weight: 0.3769659914344719\n",
      "ItemKNN weight: 0.10566281726825051\n",
      "EvaluatorHoldout: Processed 34728 (100.0%) in 14.02 sec. Users per second: 2476\n",
      "EvaluatorHoldout: Processed 35209 (100.0%) in 16.04 sec. Users per second: 2196\n"
     ]
    },
    {
     "name": "stderr",
     "output_type": "stream",
     "text": [
      "[I 2024-12-18 01:46:48,115] Trial 105 finished with value: 0.031040279468924067 and parameters: {'x_0': 0.15098872660452922, 'x_1': 0.2522110756597539, 'x_2': 0.6796975162233787}. Best is trial 19 with value: 0.031065229602935986.\n"
     ]
    },
    {
     "name": "stdout",
     "output_type": "stream",
     "text": [
      "__________Iteration 106______________\n",
      "SLIM weight: 0.5130415828915229\n",
      "RP3b weight: 0.3720653890261558\n",
      "ItemKNN weight: 0.11489302808232128\n",
      "EvaluatorHoldout: Processed 34728 (100.0%) in 14.78 sec. Users per second: 2350\n",
      "EvaluatorHoldout: Processed 35209 (100.0%) in 15.77 sec. Users per second: 2233\n"
     ]
    },
    {
     "name": "stderr",
     "output_type": "stream",
     "text": [
      "[I 2024-12-18 01:47:18,812] Trial 106 finished with value: 0.031039166511263067 and parameters: {'x_0': 0.2216517397945218, 'x_1': 0.33532889575777014, 'x_2': 0.713619013420173}. Best is trial 19 with value: 0.031065229602935986.\n"
     ]
    },
    {
     "name": "stdout",
     "output_type": "stream",
     "text": [
      "__________Iteration 107______________\n",
      "SLIM weight: 0.5154875180810994\n",
      "RP3b weight: 0.28071717977261545\n",
      "ItemKNN weight: 0.203795302146285\n",
      "EvaluatorHoldout: Processed 34728 (100.0%) in 14.28 sec. Users per second: 2432\n",
      "EvaluatorHoldout: Processed 35209 (100.0%) in 14.59 sec. Users per second: 2413\n"
     ]
    },
    {
     "name": "stderr",
     "output_type": "stream",
     "text": [
      "[I 2024-12-18 01:47:47,826] Trial 107 finished with value: 0.030891284833059952 and parameters: {'x_0': 0.11397159309474723, 'x_1': 0.3064524757763351, 'x_2': 0.42374975666873427}. Best is trial 19 with value: 0.031065229602935986.\n"
     ]
    },
    {
     "name": "stdout",
     "output_type": "stream",
     "text": [
      "__________Iteration 108______________\n",
      "SLIM weight: 0.7716178889029335\n",
      "RP3b weight: 0.208257180841762\n",
      "ItemKNN weight: 0.020124930255304395\n",
      "EvaluatorHoldout: Processed 34728 (100.0%) in 14.71 sec. Users per second: 2360\n",
      "EvaluatorHoldout: Processed 35209 (100.0%) in 16.02 sec. Users per second: 2198\n"
     ]
    },
    {
     "name": "stderr",
     "output_type": "stream",
     "text": [
      "[I 2024-12-18 01:48:18,706] Trial 108 finished with value: 0.030977671601158902 and parameters: {'x_0': 0.028735161290660297, 'x_1': 0.3836461202782911, 'x_2': 0.9115765796781855}. Best is trial 19 with value: 0.031065229602935986.\n"
     ]
    },
    {
     "name": "stdout",
     "output_type": "stream",
     "text": [
      "__________Iteration 109______________\n",
      "SLIM weight: 0.47584763232930194\n",
      "RP3b weight: 0.4356738629214294\n",
      "ItemKNN weight: 0.0884785047492686\n",
      "EvaluatorHoldout: Processed 34728 (100.0%) in 14.73 sec. Users per second: 2358\n",
      "EvaluatorHoldout: Processed 35209 (100.0%) in 15.61 sec. Users per second: 2255\n"
     ]
    },
    {
     "name": "stderr",
     "output_type": "stream",
     "text": [
      "[I 2024-12-18 01:48:49,227] Trial 109 finished with value: 0.031039320771308297 and parameters: {'x_0': 0.2533543530763902, 'x_1': 0.2844913199556957, 'x_2': 0.7746936748638864}. Best is trial 19 with value: 0.031065229602935986.\n"
     ]
    },
    {
     "name": "stdout",
     "output_type": "stream",
     "text": [
      "__________Iteration 110______________\n",
      "SLIM weight: 0.5194925719241633\n",
      "RP3b weight: 0.37820646129377095\n",
      "ItemKNN weight: 0.10230096678206575\n",
      "EvaluatorHoldout: Processed 34728 (100.0%) in 13.62 sec. Users per second: 2550\n",
      "EvaluatorHoldout: Processed 35209 (100.0%) in 15.49 sec. Users per second: 2273\n"
     ]
    },
    {
     "name": "stderr",
     "output_type": "stream",
     "text": [
      "[I 2024-12-18 01:49:18,474] Trial 110 finished with value: 0.031045023822320772 and parameters: {'x_0': 0.09006285578769668, 'x_1': 0.17333143964924502, 'x_2': 0.622478179147583}. Best is trial 19 with value: 0.031065229602935986.\n"
     ]
    },
    {
     "name": "stdout",
     "output_type": "stream",
     "text": [
      "__________Iteration 111______________\n",
      "SLIM weight: 0.519678739723219\n",
      "RP3b weight: 0.3757683115182304\n",
      "ItemKNN weight: 0.10455294875855059\n",
      "EvaluatorHoldout: Processed 34728 (100.0%) in 14.71 sec. Users per second: 2361\n",
      "EvaluatorHoldout: Processed 35209 (100.0%) in 16.07 sec. Users per second: 2191\n"
     ]
    },
    {
     "name": "stderr",
     "output_type": "stream",
     "text": [
      "[I 2024-12-18 01:49:49,404] Trial 111 finished with value: 0.03103935505131859 and parameters: {'x_0': 0.0957229195505177, 'x_1': 0.1833137101860367, 'x_2': 0.6237247566627526}. Best is trial 19 with value: 0.031065229602935986.\n"
     ]
    },
    {
     "name": "stdout",
     "output_type": "stream",
     "text": [
      "__________Iteration 112______________\n",
      "SLIM weight: 0.4899208541665266\n",
      "RP3b weight: 0.4088110493539165\n",
      "ItemKNN weight: 0.10126809647955685\n",
      "EvaluatorHoldout: Processed 34728 (100.0%) in 14.53 sec. Users per second: 2390\n",
      "EvaluatorHoldout: Processed 35209 (100.0%) in 15.18 sec. Users per second: 2320\n"
     ]
    },
    {
     "name": "stderr",
     "output_type": "stream",
     "text": [
      "[I 2024-12-18 01:50:19,251] Trial 112 finished with value: 0.03104212030546587 and parameters: {'x_0': 0.056770114522923146, 'x_1': 0.09128173947773216, 'x_2': 0.552678861236291}. Best is trial 19 with value: 0.031065229602935986.\n"
     ]
    },
    {
     "name": "stdout",
     "output_type": "stream",
     "text": [
      "__________Iteration 113______________\n",
      "SLIM weight: 0.43604266006030956\n",
      "RP3b weight: 0.403637089522071\n",
      "ItemKNN weight: 0.16032025041761955\n",
      "EvaluatorHoldout: Processed 34728 (100.0%) in 13.86 sec. Users per second: 2506\n",
      "EvaluatorHoldout: Processed 35209 (100.0%) in 16.07 sec. Users per second: 2191\n"
     ]
    },
    {
     "name": "stderr",
     "output_type": "stream",
     "text": [
      "[I 2024-12-18 01:50:49,334] Trial 113 finished with value: 0.03096869023851476 and parameters: {'x_0': 0.14166657128697666, 'x_1': 0.1638109809819435, 'x_2': 0.4874674385545449}. Best is trial 19 with value: 0.031065229602935986.\n"
     ]
    },
    {
     "name": "stdout",
     "output_type": "stream",
     "text": [
      "__________Iteration 114______________\n",
      "SLIM weight: 0.5826023016685516\n",
      "RP3b weight: 0.3518415295636109\n",
      "ItemKNN weight: 0.06555616876783736\n",
      "EvaluatorHoldout: Processed 34728 (100.0%) in 14.72 sec. Users per second: 2359\n",
      "EvaluatorHoldout: Processed 35209 (100.0%) in 15.84 sec. Users per second: 2223\n"
     ]
    },
    {
     "name": "stderr",
     "output_type": "stream",
     "text": [
      "[I 2024-12-18 01:51:20,049] Trial 114 finished with value: 0.031043093857752505 and parameters: {'x_0': 0.0775489760779542, 'x_1': 0.21350091491630802, 'x_2': 0.7499835691977763}. Best is trial 19 with value: 0.031065229602935986.\n"
     ]
    },
    {
     "name": "stdout",
     "output_type": "stream",
     "text": [
      "__________Iteration 115______________\n",
      "SLIM weight: 0.613907304539364\n",
      "RP3b weight: 0.3207116200211481\n",
      "ItemKNN weight: 0.06538107543948778\n",
      "EvaluatorHoldout: Processed 34728 (100.0%) in 14.29 sec. Users per second: 2430\n",
      "EvaluatorHoldout: Processed 35209 (100.0%) in 14.65 sec. Users per second: 2403\n"
     ]
    },
    {
     "name": "stderr",
     "output_type": "stream",
     "text": [
      "[I 2024-12-18 01:51:49,129] Trial 115 finished with value: 0.030999989030395782 and parameters: {'x_0': 0.01882999752050729, 'x_1': 0.12553466517249967, 'x_2': 0.6550458514537543}. Best is trial 19 with value: 0.031065229602935986.\n"
     ]
    },
    {
     "name": "stdout",
     "output_type": "stream",
     "text": [
      "__________Iteration 116______________\n",
      "SLIM weight: 0.5095800248015767\n",
      "RP3b weight: 0.39942388720327804\n",
      "ItemKNN weight: 0.09099608799514525\n",
      "EvaluatorHoldout: Processed 34728 (100.0%) in 14.75 sec. Users per second: 2355\n",
      "EvaluatorHoldout: Processed 35209 (100.0%) in 15.99 sec. Users per second: 2202\n"
     ]
    },
    {
     "name": "stderr",
     "output_type": "stream",
     "text": [
      "[I 2024-12-18 01:52:20,014] Trial 116 finished with value: 0.03104525806905632 and parameters: {'x_0': 0.1663139825467655, 'x_1': 0.24509865860955993, 'x_2': 0.725906464109181}. Best is trial 19 with value: 0.031065229602935986.\n"
     ]
    },
    {
     "name": "stdout",
     "output_type": "stream",
     "text": [
      "__________Iteration 117______________\n",
      "SLIM weight: 0.522842681657784\n",
      "RP3b weight: 0.40576426498418766\n",
      "ItemKNN weight: 0.07139305335802837\n",
      "EvaluatorHoldout: Processed 34728 (100.0%) in 14.70 sec. Users per second: 2362\n",
      "EvaluatorHoldout: Processed 35209 (100.0%) in 15.61 sec. Users per second: 2255\n"
     ]
    },
    {
     "name": "stderr",
     "output_type": "stream",
     "text": [
      "[I 2024-12-18 01:52:50,475] Trial 117 finished with value: 0.03102871796418689 and parameters: {'x_0': 0.18049977996374533, 'x_1': 0.26483255656131166, 'x_2': 0.7915411099936072}. Best is trial 19 with value: 0.031065229602935986.\n"
     ]
    },
    {
     "name": "stdout",
     "output_type": "stream",
     "text": [
      "__________Iteration 118______________\n",
      "SLIM weight: 0.5422285028213886\n",
      "RP3b weight: 0.4134549381330303\n",
      "ItemKNN weight: 0.04431655904558108\n",
      "EvaluatorHoldout: Processed 34728 (100.0%) in 13.59 sec. Users per second: 2556\n",
      "EvaluatorHoldout: Processed 35209 (100.0%) in 15.47 sec. Users per second: 2276\n"
     ]
    },
    {
     "name": "stderr",
     "output_type": "stream",
     "text": [
      "[I 2024-12-18 01:53:19,678] Trial 118 finished with value: 0.031000192425122256 and parameters: {'x_0': 0.15507913616640562, 'x_1': 0.24142844154589832, 'x_2': 0.8587042127635789}. Best is trial 19 with value: 0.031065229602935986.\n"
     ]
    },
    {
     "name": "stdout",
     "output_type": "stream",
     "text": [
      "__________Iteration 119______________\n",
      "SLIM weight: 0.6189929746694872\n",
      "RP3b weight: 0.17889296766979498\n",
      "ItemKNN weight: 0.20211405766071777\n",
      "EvaluatorHoldout: Processed 34728 (100.0%) in 14.72 sec. Users per second: 2360\n",
      "EvaluatorHoldout: Processed 35209 (100.0%) in 16.00 sec. Users per second: 2201\n"
     ]
    },
    {
     "name": "stderr",
     "output_type": "stream",
     "text": [
      "[I 2024-12-18 01:53:50,543] Trial 119 finished with value: 0.030841784498487183 and parameters: {'x_0': 0.21334815465332405, 'x_1': 0.6398856283068515, 'x_2': 0.6038562886926448}. Best is trial 19 with value: 0.031065229602935986.\n"
     ]
    },
    {
     "name": "stdout",
     "output_type": "stream",
     "text": [
      "__________Iteration 120______________\n",
      "SLIM weight: 0.6436478717992792\n",
      "RP3b weight: 0.3015597292974607\n",
      "ItemKNN weight: 0.054792398903260126\n",
      "EvaluatorHoldout: Processed 34728 (100.0%) in 14.52 sec. Users per second: 2392\n",
      "EvaluatorHoldout: Processed 35209 (100.0%) in 15.08 sec. Users per second: 2335\n"
     ]
    },
    {
     "name": "stderr",
     "output_type": "stream",
     "text": [
      "[I 2024-12-18 01:54:20,286] Trial 120 finished with value: 0.03103245448528688 and parameters: {'x_0': 0.11463966717731053, 'x_1': 0.3624789313521633, 'x_2': 0.8316165933245371}. Best is trial 19 with value: 0.031065229602935986.\n"
     ]
    },
    {
     "name": "stdout",
     "output_type": "stream",
     "text": [
      "__________Iteration 121______________\n",
      "SLIM weight: 0.5703209305688604\n",
      "RP3b weight: 0.3560525742446044\n",
      "ItemKNN weight: 0.07362649518653533\n",
      "EvaluatorHoldout: Processed 34728 (100.0%) in 13.89 sec. Users per second: 2501\n",
      "EvaluatorHoldout: Processed 35209 (100.0%) in 15.96 sec. Users per second: 2206\n"
     ]
    },
    {
     "name": "stderr",
     "output_type": "stream",
     "text": [
      "[I 2024-12-18 01:54:50,280] Trial 121 finished with value: 0.03105759887268945 and parameters: {'x_0': 0.08318605216041601, 'x_1': 0.21173138134832417, 'x_2': 0.7254077466942047}. Best is trial 19 with value: 0.031065229602935986.\n"
     ]
    },
    {
     "name": "stdout",
     "output_type": "stream",
     "text": [
      "__________Iteration 122______________\n",
      "SLIM weight: 0.6081630489196262\n",
      "RP3b weight: 0.3174894853878497\n",
      "ItemKNN weight: 0.07434746569252416\n",
      "EvaluatorHoldout: Processed 34728 (100.0%) in 14.72 sec. Users per second: 2360\n",
      "EvaluatorHoldout: Processed 35209 (100.0%) in 15.75 sec. Users per second: 2236\n"
     ]
    },
    {
     "name": "stderr",
     "output_type": "stream",
     "text": [
      "[I 2024-12-18 01:55:20,893] Trial 122 finished with value: 0.031005818917445378 and parameters: {'x_0': 0.0468813313246238, 'x_1': 0.2023950851709717, 'x_2': 0.6879086378806372}. Best is trial 19 with value: 0.031065229602935986.\n"
     ]
    },
    {
     "name": "stdout",
     "output_type": "stream",
     "text": [
      "__________Iteration 123______________\n",
      "SLIM weight: 0.5938634083550958\n",
      "RP3b weight: 0.3297799710200465\n",
      "ItemKNN weight: 0.07635662062485772\n",
      "EvaluatorHoldout: Processed 34728 (100.0%) in 14.23 sec. Users per second: 2440\n",
      "EvaluatorHoldout: Processed 35209 (100.0%) in 14.69 sec. Users per second: 2398\n"
     ]
    },
    {
     "name": "stderr",
     "output_type": "stream",
     "text": [
      "[I 2024-12-18 01:55:49,941] Trial 123 finished with value: 0.0310262166661172 and parameters: {'x_0': 0.13237010651018577, 'x_1': 0.3253259244721534, 'x_2': 0.7710511741039874}. Best is trial 19 with value: 0.031065229602935986.\n"
     ]
    },
    {
     "name": "stdout",
     "output_type": "stream",
     "text": [
      "__________Iteration 124______________\n",
      "SLIM weight: 0.6103607026944277\n",
      "RP3b weight: 0.3108258869084492\n",
      "ItemKNN weight: 0.07881341039712318\n",
      "EvaluatorHoldout: Processed 34728 (100.0%) in 14.74 sec. Users per second: 2356\n",
      "EvaluatorHoldout: Processed 35209 (100.0%) in 16.01 sec. Users per second: 2199\n"
     ]
    },
    {
     "name": "stderr",
     "output_type": "stream",
     "text": [
      "[I 2024-12-18 01:56:20,838] Trial 124 finished with value: 0.031008805848991402 and parameters: {'x_0': 0.089716197927652, 'x_1': 0.2929206586063595, 'x_2': 0.7324676471478606}. Best is trial 19 with value: 0.031065229602935986.\n"
     ]
    },
    {
     "name": "stdout",
     "output_type": "stream",
     "text": [
      "__________Iteration 125______________\n",
      "SLIM weight: 0.47948881247715824\n",
      "RP3b weight: 0.40100299223428915\n",
      "ItemKNN weight: 0.11950819528855268\n",
      "EvaluatorHoldout: Processed 34728 (100.0%) in 14.73 sec. Users per second: 2358\n",
      "EvaluatorHoldout: Processed 35209 (100.0%) in 15.65 sec. Users per second: 2250\n"
     ]
    },
    {
     "name": "stderr",
     "output_type": "stream",
     "text": [
      "[I 2024-12-18 01:56:51,357] Trial 125 finished with value: 0.03103381768702159 and parameters: {'x_0': 0.16756717774308888, 'x_1': 0.22448054538841505, 'x_2': 0.6406726757685972}. Best is trial 19 with value: 0.031065229602935986.\n"
     ]
    },
    {
     "name": "stdout",
     "output_type": "stream",
     "text": [
      "__________Iteration 126______________\n",
      "SLIM weight: 0.5010384736602633\n",
      "RP3b weight: 0.41410790129709163\n",
      "ItemKNN weight: 0.08485362504264503\n",
      "EvaluatorHoldout: Processed 34728 (100.0%) in 13.52 sec. Users per second: 2569\n",
      "EvaluatorHoldout: Processed 35209 (100.0%) in 15.71 sec. Users per second: 2242\n"
     ]
    },
    {
     "name": "stderr",
     "output_type": "stream",
     "text": [
      "[I 2024-12-18 01:57:20,716] Trial 126 finished with value: 0.031032848705402974 and parameters: {'x_0': 0.18763139699664552, 'x_1': 0.2508346803693421, 'x_2': 0.7532346431861221}. Best is trial 19 with value: 0.031065229602935986.\n"
     ]
    },
    {
     "name": "stdout",
     "output_type": "stream",
     "text": [
      "__________Iteration 127______________\n",
      "SLIM weight: 0.5702855548455874\n",
      "RP3b weight: 0.3407484821107026\n",
      "ItemKNN weight: 0.08896596304371002\n",
      "EvaluatorHoldout: Processed 34728 (100.0%) in 14.75 sec. Users per second: 2354\n",
      "EvaluatorHoldout: Processed 35209 (100.0%) in 16.03 sec. Users per second: 2196\n"
     ]
    },
    {
     "name": "stderr",
     "output_type": "stream",
     "text": [
      "[I 2024-12-18 01:57:51,658] Trial 127 finished with value: 0.031050731444001084 and parameters: {'x_0': 0.11778426938008593, 'x_1': 0.2785928675867773, 'x_2': 0.7162873978083296}. Best is trial 19 with value: 0.031065229602935986.\n"
     ]
    },
    {
     "name": "stdout",
     "output_type": "stream",
     "text": [
      "__________Iteration 128______________\n",
      "SLIM weight: 0.5555067932217618\n",
      "RP3b weight: 0.3553676192375677\n",
      "ItemKNN weight: 0.0891255875406705\n",
      "EvaluatorHoldout: Processed 34728 (100.0%) in 14.42 sec. Users per second: 2409\n",
      "EvaluatorHoldout: Processed 35209 (100.0%) in 15.08 sec. Users per second: 2335\n"
     ]
    },
    {
     "name": "stderr",
     "output_type": "stream",
     "text": [
      "[I 2024-12-18 01:58:21,300] Trial 128 finished with value: 0.03103995038082709 and parameters: {'x_0': 0.26722339361879116, 'x_1': 0.42989397979298843, 'x_2': 0.8091846964716549}. Best is trial 19 with value: 0.031065229602935986.\n"
     ]
    },
    {
     "name": "stdout",
     "output_type": "stream",
     "text": [
      "__________Iteration 129______________\n",
      "SLIM weight: 0.5837675497078848\n",
      "RP3b weight: 0.35096878802596987\n",
      "ItemKNN weight: 0.06526366226614527\n",
      "EvaluatorHoldout: Processed 34728 (100.0%) in 13.78 sec. Users per second: 2520\n",
      "EvaluatorHoldout: Processed 35209 (100.0%) in 16.01 sec. Users per second: 2199\n"
     ]
    },
    {
     "name": "stderr",
     "output_type": "stream",
     "text": [
      "[I 2024-12-18 01:58:51,243] Trial 129 finished with value: 0.031047811929808166 and parameters: {'x_0': 0.1165520154136199, 'x_1': 0.2746498234699812, 'x_2': 0.7863925499735839}. Best is trial 19 with value: 0.031065229602935986.\n"
     ]
    },
    {
     "name": "stdout",
     "output_type": "stream",
     "text": [
      "__________Iteration 130______________\n",
      "SLIM weight: 0.610193262088699\n",
      "RP3b weight: 0.35446334869481727\n",
      "ItemKNN weight: 0.035343389216483855\n",
      "EvaluatorHoldout: Processed 34728 (100.0%) in 14.71 sec. Users per second: 2361\n",
      "EvaluatorHoldout: Processed 35209 (100.0%) in 15.88 sec. Users per second: 2218\n"
     ]
    },
    {
     "name": "stderr",
     "output_type": "stream",
     "text": [
      "[I 2024-12-18 01:59:21,989] Trial 130 finished with value: 0.031013718174437585 and parameters: {'x_0': 0.11325180046329039, 'x_1': 0.2821574869254677, 'x_2': 0.8814724634848481}. Best is trial 19 with value: 0.031065229602935986.\n"
     ]
    },
    {
     "name": "stdout",
     "output_type": "stream",
     "text": [
      "__________Iteration 131______________\n",
      "SLIM weight: 0.5735186712916701\n",
      "RP3b weight: 0.3287829930507711\n",
      "ItemKNN weight: 0.09769833565755871\n",
      "EvaluatorHoldout: Processed 34728 (100.0%) in 14.34 sec. Users per second: 2421\n",
      "EvaluatorHoldout: Processed 35209 (100.0%) in 14.65 sec. Users per second: 2403\n"
     ]
    },
    {
     "name": "stderr",
     "output_type": "stream",
     "text": [
      "[I 2024-12-18 01:59:51,127] Trial 131 finished with value: 0.031020618740469227 and parameters: {'x_0': 0.13473385830738088, 'x_1': 0.31692185062719835, 'x_2': 0.7107342247043751}. Best is trial 19 with value: 0.031065229602935986.\n"
     ]
    },
    {
     "name": "stdout",
     "output_type": "stream",
     "text": [
      "__________Iteration 132______________\n",
      "SLIM weight: 0.5478698535533694\n",
      "RP3b weight: 0.3821401246264571\n",
      "ItemKNN weight: 0.06999002182017355\n",
      "EvaluatorHoldout: Processed 34728 (100.0%) in 14.74 sec. Users per second: 2356\n",
      "EvaluatorHoldout: Processed 35209 (100.0%) in 16.05 sec. Users per second: 2194\n"
     ]
    },
    {
     "name": "stderr",
     "output_type": "stream",
     "text": [
      "[I 2024-12-18 02:00:22,068] Trial 132 finished with value: 0.03105598314154715 and parameters: {'x_0': 0.15201468212835578, 'x_1': 0.2687594938801885, 'x_2': 0.7861155784479812}. Best is trial 19 with value: 0.031065229602935986.\n"
     ]
    },
    {
     "name": "stdout",
     "output_type": "stream",
     "text": [
      "__________Iteration 133______________\n",
      "SLIM weight: 0.5522693361572825\n",
      "RP3b weight: 0.363302141603278\n",
      "ItemKNN weight: 0.08442852223943945\n",
      "EvaluatorHoldout: Processed 34728 (100.0%) in 14.82 sec. Users per second: 2343\n",
      "EvaluatorHoldout: Processed 35209 (100.0%) in 15.60 sec. Users per second: 2257\n"
     ]
    },
    {
     "name": "stderr",
     "output_type": "stream",
     "text": [
      "[I 2024-12-18 02:00:52,639] Trial 133 finished with value: 0.031046429302734473 and parameters: {'x_0': 0.2006812736386347, 'x_1': 0.3476678554204401, 'x_2': 0.7822945337480234}. Best is trial 19 with value: 0.031065229602935986.\n"
     ]
    },
    {
     "name": "stdout",
     "output_type": "stream",
     "text": [
      "__________Iteration 134______________\n",
      "SLIM weight: 0.5948882271851142\n",
      "RP3b weight: 0.34194413093955306\n",
      "ItemKNN weight: 0.06316764187533279\n",
      "EvaluatorHoldout: Processed 34728 (100.0%) in 13.72 sec. Users per second: 2532\n",
      "EvaluatorHoldout: Processed 35209 (100.0%) in 15.47 sec. Users per second: 2276\n"
     ]
    },
    {
     "name": "stderr",
     "output_type": "stream",
     "text": [
      "[I 2024-12-18 02:01:21,968] Trial 134 finished with value: 0.03103680576123459 and parameters: {'x_0': 0.20004821341119977, 'x_1': 0.3965422065086105, 'x_2': 0.8429302681884886}. Best is trial 19 with value: 0.031065229602935986.\n"
     ]
    },
    {
     "name": "stdout",
     "output_type": "stream",
     "text": [
      "__________Iteration 135______________\n",
      "SLIM weight: 0.5303137401704894\n",
      "RP3b weight: 0.3889993222259655\n",
      "ItemKNN weight: 0.08068693760354502\n",
      "EvaluatorHoldout: Processed 34728 (100.0%) in 14.77 sec. Users per second: 2352\n",
      "EvaluatorHoldout: Processed 35209 (100.0%) in 16.04 sec. Users per second: 2195\n"
     ]
    },
    {
     "name": "stderr",
     "output_type": "stream",
     "text": [
      "[I 2024-12-18 02:01:52,925] Trial 135 finished with value: 0.031065206749595918 and parameters: {'x_0': 0.23254834112731101, 'x_1': 0.34302084353894274, 'x_2': 0.8009683331555089}. Best is trial 19 with value: 0.031065229602935986.\n"
     ]
    },
    {
     "name": "stdout",
     "output_type": "stream",
     "text": [
      "__________Iteration 136______________\n",
      "SLIM weight: 0.5265739182513709\n",
      "RP3b weight: 0.38534469089379597\n",
      "ItemKNN weight: 0.0880813908548333\n",
      "EvaluatorHoldout: Processed 34728 (100.0%) in 14.51 sec. Users per second: 2394\n",
      "EvaluatorHoldout: Processed 35209 (100.0%) in 15.16 sec. Users per second: 2323\n"
     ]
    },
    {
     "name": "stderr",
     "output_type": "stream",
     "text": [
      "[I 2024-12-18 02:02:22,737] Trial 136 finished with value: 0.03106064865092066 and parameters: {'x_0': 0.23745078523219165, 'x_1': 0.3491783119032528, 'x_2': 0.7862317384253805}. Best is trial 19 with value: 0.031065229602935986.\n"
     ]
    },
    {
     "name": "stdout",
     "output_type": "stream",
     "text": [
      "__________Iteration 137______________\n",
      "SLIM weight: 0.4852146407047404\n",
      "RP3b weight: 0.4242060293540468\n",
      "ItemKNN weight: 0.09057932994121287\n",
      "EvaluatorHoldout: Processed 34728 (100.0%) in 13.89 sec. Users per second: 2500\n",
      "EvaluatorHoldout: Processed 35209 (100.0%) in 15.97 sec. Users per second: 2205\n"
     ]
    },
    {
     "name": "stderr",
     "output_type": "stream",
     "text": [
      "[I 2024-12-18 02:02:52,739] Trial 137 finished with value: 0.031040967354459763 and parameters: {'x_0': 0.2904965399730758, 'x_1': 0.3393462850665292, 'x_2': 0.7939255009329849}. Best is trial 19 with value: 0.031065229602935986.\n"
     ]
    },
    {
     "name": "stdout",
     "output_type": "stream",
     "text": [
      "__________Iteration 138______________\n",
      "SLIM weight: 0.5236427739994043\n",
      "RP3b weight: 0.3766450239983121\n",
      "ItemKNN weight: 0.09971220200228363\n",
      "EvaluatorHoldout: Processed 34728 (100.0%) in 14.72 sec. Users per second: 2359\n",
      "EvaluatorHoldout: Processed 35209 (100.0%) in 15.84 sec. Users per second: 2223\n"
     ]
    },
    {
     "name": "stderr",
     "output_type": "stream",
     "text": [
      "[I 2024-12-18 02:03:23,460] Trial 138 finished with value: 0.031039777838109666 and parameters: {'x_0': 0.2424642940833701, 'x_1': 0.3609028785426561, 'x_2': 0.7635271107072935}. Best is trial 19 with value: 0.031065229602935986.\n"
     ]
    },
    {
     "name": "stdout",
     "output_type": "stream",
     "text": [
      "__________Iteration 139______________\n",
      "SLIM weight: 0.5182410926942518\n",
      "RP3b weight: 0.37711134648148564\n",
      "ItemKNN weight: 0.10464756082426258\n",
      "EvaluatorHoldout: Processed 34728 (100.0%) in 14.39 sec. Users per second: 2414\n",
      "EvaluatorHoldout: Processed 35209 (100.0%) in 14.62 sec. Users per second: 2408\n"
     ]
    },
    {
     "name": "stderr",
     "output_type": "stream",
     "text": [
      "[I 2024-12-18 02:03:52,602] Trial 139 finished with value: 0.031040751390396328 and parameters: {'x_0': 0.3319345419588996, 'x_1': 0.4482100608641335, 'x_2': 0.8003628435501798}. Best is trial 19 with value: 0.031065229602935986.\n"
     ]
    },
    {
     "name": "stdout",
     "output_type": "stream",
     "text": [
      "__________Iteration 140______________\n",
      "SLIM weight: 0.4817370627776064\n",
      "RP3b weight: 0.45006942243373654\n",
      "ItemKNN weight: 0.06819351478865696\n",
      "EvaluatorHoldout: Processed 34728 (100.0%) in 14.71 sec. Users per second: 2361\n",
      "EvaluatorHoldout: Processed 35209 (100.0%) in 15.96 sec. Users per second: 2206\n"
     ]
    },
    {
     "name": "stderr",
     "output_type": "stream",
     "text": [
      "[I 2024-12-18 02:04:23,427] Trial 140 finished with value: 0.030988818317773743 and parameters: {'x_0': 0.2737451025298333, 'x_1': 0.29808022112794436, 'x_2': 0.8324384523493538}. Best is trial 19 with value: 0.031065229602935986.\n"
     ]
    },
    {
     "name": "stdout",
     "output_type": "stream",
     "text": [
      "__________Iteration 141______________\n",
      "SLIM weight: 0.5596587483480753\n",
      "RP3b weight: 0.35030223004231253\n",
      "ItemKNN weight: 0.09003902160961211\n",
      "EvaluatorHoldout: Processed 34728 (100.0%) in 14.74 sec. Users per second: 2356\n",
      "EvaluatorHoldout: Processed 35209 (100.0%) in 15.63 sec. Users per second: 2253\n"
     ]
    },
    {
     "name": "stderr",
     "output_type": "stream",
     "text": [
      "[I 2024-12-18 02:04:53,945] Trial 141 finished with value: 0.031032772146713825 and parameters: {'x_0': 0.219009413319402, 'x_1': 0.38652868242345323, 'x_2': 0.7832354392919767}. Best is trial 19 with value: 0.031065229602935986.\n"
     ]
    },
    {
     "name": "stdout",
     "output_type": "stream",
     "text": [
      "__________Iteration 142______________\n",
      "SLIM weight: 0.5237366923049437\n",
      "RP3b weight: 0.3803461356465751\n",
      "ItemKNN weight: 0.09591717204848109\n",
      "EvaluatorHoldout: Processed 34728 (100.0%) in 13.62 sec. Users per second: 2550\n",
      "EvaluatorHoldout: Processed 35209 (100.0%) in 15.32 sec. Users per second: 2298\n"
     ]
    },
    {
     "name": "stderr",
     "output_type": "stream",
     "text": [
      "[I 2024-12-18 02:05:23,023] Trial 142 finished with value: 0.0310544656797671 and parameters: {'x_0': 0.2289233371076582, 'x_1': 0.3427650043016341, 'x_2': 0.7633673789240663}. Best is trial 19 with value: 0.031065229602935986.\n"
     ]
    },
    {
     "name": "stdout",
     "output_type": "stream",
     "text": [
      "__________Iteration 143______________\n",
      "SLIM weight: 0.4845495908226035\n",
      "RP3b weight: 0.4258425693805089\n",
      "ItemKNN weight: 0.08960783979688758\n",
      "EvaluatorHoldout: Processed 34728 (100.0%) in 14.78 sec. Users per second: 2349\n",
      "EvaluatorHoldout: Processed 35209 (100.0%) in 16.02 sec. Users per second: 2198\n"
     ]
    },
    {
     "name": "stderr",
     "output_type": "stream",
     "text": [
      "[I 2024-12-18 02:05:53,983] Trial 143 finished with value: 0.031044252522093595 and parameters: {'x_0': 0.2293515066152914, 'x_1': 0.27414598817058944, 'x_2': 0.7616184384517698}. Best is trial 19 with value: 0.031065229602935986.\n"
     ]
    },
    {
     "name": "stdout",
     "output_type": "stream",
     "text": [
      "__________Iteration 144______________\n",
      "SLIM weight: 0.5369613971211789\n",
      "RP3b weight: 0.3312291794710659\n",
      "ItemKNN weight: 0.1318094234077552\n",
      "EvaluatorHoldout: Processed 34728 (100.0%) in 14.52 sec. Users per second: 2392\n",
      "EvaluatorHoldout: Processed 35209 (100.0%) in 15.29 sec. Users per second: 2302\n"
     ]
    },
    {
     "name": "stderr",
     "output_type": "stream",
     "text": [
      "[I 2024-12-18 02:06:23,937] Trial 144 finished with value: 0.031008392203536364 and parameters: {'x_0': 0.3105059417570526, 'x_1': 0.4860478551969817, 'x_2': 0.750441727316131}. Best is trial 19 with value: 0.031065229602935986.\n"
     ]
    },
    {
     "name": "stdout",
     "output_type": "stream",
     "text": [
      "__________Iteration 145______________\n",
      "SLIM weight: 0.5352387609334847\n",
      "RP3b weight: 0.3885709200937008\n",
      "ItemKNN weight: 0.07619031897281446\n",
      "EvaluatorHoldout: Processed 34728 (100.0%) in 13.57 sec. Users per second: 2560\n",
      "EvaluatorHoldout: Processed 35209 (100.0%) in 16.07 sec. Users per second: 2191\n"
     ]
    },
    {
     "name": "stderr",
     "output_type": "stream",
     "text": [
      "[I 2024-12-18 02:06:53,707] Trial 145 finished with value: 0.031059199749160795 and parameters: {'x_0': 0.254781342080505, 'x_1': 0.3705881028316534, 'x_2': 0.8231310418140226}. Best is trial 19 with value: 0.031065229602935986.\n"
     ]
    },
    {
     "name": "stdout",
     "output_type": "stream",
     "text": [
      "__________Iteration 146______________\n",
      "SLIM weight: 0.5494224986648828\n",
      "RP3b weight: 0.3861580001760657\n",
      "ItemKNN weight: 0.0644195011590515\n",
      "EvaluatorHoldout: Processed 34728 (100.0%) in 14.74 sec. Users per second: 2356\n",
      "EvaluatorHoldout: Processed 35209 (100.0%) in 15.88 sec. Users per second: 2218\n"
     ]
    },
    {
     "name": "stderr",
     "output_type": "stream",
     "text": [
      "[I 2024-12-18 02:07:24,481] Trial 146 finished with value: 0.031032969828105304 and parameters: {'x_0': 0.24578597185395074, 'x_1': 0.37295552804686427, 'x_2': 0.8482876361669192}. Best is trial 19 with value: 0.031065229602935986.\n"
     ]
    },
    {
     "name": "stdout",
     "output_type": "stream",
     "text": [
      "__________Iteration 147______________\n",
      "SLIM weight: 0.6059023951725064\n",
      "RP3b weight: 0.2979474033965559\n",
      "ItemKNN weight: 0.09615020143093775\n",
      "EvaluatorHoldout: Processed 34728 (100.0%) in 14.43 sec. Users per second: 2406\n",
      "EvaluatorHoldout: Processed 35209 (100.0%) in 14.78 sec. Users per second: 2382\n"
     ]
    },
    {
     "name": "stderr",
     "output_type": "stream",
     "text": [
      "[I 2024-12-18 02:07:53,840] Trial 147 finished with value: 0.031051957525695277 and parameters: {'x_0': 0.2589316033801582, 'x_1': 0.5145631630126181, 'x_2': 0.8070097333135358}. Best is trial 19 with value: 0.031065229602935986.\n"
     ]
    },
    {
     "name": "stdout",
     "output_type": "stream",
     "text": [
      "__________Iteration 148______________\n",
      "SLIM weight: 0.5983045206111735\n",
      "RP3b weight: 0.3054373595566095\n",
      "ItemKNN weight: 0.09625811983221705\n",
      "EvaluatorHoldout: Processed 34728 (100.0%) in 14.58 sec. Users per second: 2382\n",
      "EvaluatorHoldout: Processed 35209 (100.0%) in 16.06 sec. Users per second: 2192\n"
     ]
    },
    {
     "name": "stderr",
     "output_type": "stream",
     "text": [
      "[I 2024-12-18 02:08:24,629] Trial 148 finished with value: 0.03103917222459795 and parameters: {'x_0': 0.2861779272436614, 'x_1': 0.5279710515488242, 'x_2': 0.8176755239321497}. Best is trial 19 with value: 0.031065229602935986.\n"
     ]
    },
    {
     "name": "stdout",
     "output_type": "stream",
     "text": [
      "__________Iteration 149______________\n",
      "SLIM weight: 0.6007139735907403\n",
      "RP3b weight: 0.3175043616257139\n",
      "ItemKNN weight: 0.08178166478354576\n",
      "EvaluatorHoldout: Processed 34728 (100.0%) in 14.77 sec. Users per second: 2351\n",
      "EvaluatorHoldout: Processed 35209 (100.0%) in 15.63 sec. Users per second: 2253\n"
     ]
    },
    {
     "name": "stderr",
     "output_type": "stream",
     "text": [
      "[I 2024-12-18 02:08:55,183] Trial 149 finished with value: 0.031019065856011923 and parameters: {'x_0': 0.35225984711493263, 'x_1': 0.5760985520916125, 'x_2': 0.8675801319179851}. Best is trial 19 with value: 0.031065229602935986.\n"
     ]
    },
    {
     "name": "stdout",
     "output_type": "stream",
     "text": [
      "__________Iteration 150______________\n",
      "SLIM weight: 0.528793936605118\n",
      "RP3b weight: 0.3529338413042322\n",
      "ItemKNN weight: 0.11827222209064983\n",
      "EvaluatorHoldout: Processed 34728 (100.0%) in 13.81 sec. Users per second: 2514\n",
      "EvaluatorHoldout: Processed 35209 (100.0%) in 15.25 sec. Users per second: 2309\n"
     ]
    },
    {
     "name": "stderr",
     "output_type": "stream",
     "text": [
      "[I 2024-12-18 02:09:24,385] Trial 150 finished with value: 0.031026126395424066 and parameters: {'x_0': 0.25941194359863956, 'x_1': 0.4063294703144348, 'x_2': 0.7394870808613594}. Best is trial 19 with value: 0.031065229602935986.\n"
     ]
    },
    {
     "name": "stdout",
     "output_type": "stream",
     "text": [
      "__________Iteration 151______________\n",
      "SLIM weight: 0.6275367937231469\n",
      "RP3b weight: 0.28831493276677506\n",
      "ItemKNN weight: 0.08414827351007818\n",
      "EvaluatorHoldout: Processed 34728 (100.0%) in 14.77 sec. Users per second: 2352\n",
      "EvaluatorHoldout: Processed 35209 (100.0%) in 16.12 sec. Users per second: 2184\n"
     ]
    },
    {
     "name": "stderr",
     "output_type": "stream",
     "text": [
      "[I 2024-12-18 02:09:55,429] Trial 151 finished with value: 0.031054093170323968 and parameters: {'x_0': 0.2305445953879691, 'x_1': 0.509594477391594, 'x_2': 0.8213909564919304}. Best is trial 19 with value: 0.031065229602935986.\n"
     ]
    },
    {
     "name": "stdout",
     "output_type": "stream",
     "text": [
      "__________Iteration 152______________\n",
      "SLIM weight: 0.6042047179017498\n",
      "RP3b weight: 0.30009769810080855\n",
      "ItemKNN weight: 0.09569758399744169\n",
      "EvaluatorHoldout: Processed 34728 (100.0%) in 14.60 sec. Users per second: 2379\n",
      "EvaluatorHoldout: Processed 35209 (100.0%) in 15.36 sec. Users per second: 2292\n"
     ]
    },
    {
     "name": "stderr",
     "output_type": "stream",
     "text": [
      "[I 2024-12-18 02:10:25,540] Trial 152 finished with value: 0.031048496387342982 and parameters: {'x_0': 0.2995732251077647, 'x_1': 0.5495261732924405, 'x_2': 0.8262003790358672}. Best is trial 19 with value: 0.031065229602935986.\n"
     ]
    },
    {
     "name": "stdout",
     "output_type": "stream",
     "text": [
      "__________Iteration 153______________\n",
      "SLIM weight: 0.6127130268284221\n",
      "RP3b weight: 0.27918051741770283\n",
      "ItemKNN weight: 0.10810645575387512\n",
      "EvaluatorHoldout: Processed 34728 (100.0%) in 13.51 sec. Users per second: 2570\n",
      "EvaluatorHoldout: Processed 35209 (100.0%) in 16.01 sec. Users per second: 2200\n"
     ]
    },
    {
     "name": "stderr",
     "output_type": "stream",
     "text": [
      "[I 2024-12-18 02:10:55,200] Trial 153 finished with value: 0.031025692181962765 and parameters: {'x_0': 0.2349240113863074, 'x_1': 0.5168509331427452, 'x_2': 0.7744744223337436}. Best is trial 19 with value: 0.031065229602935986.\n"
     ]
    },
    {
     "name": "stdout",
     "output_type": "stream",
     "text": [
      "__________Iteration 154______________\n",
      "SLIM weight: 0.5992211352858747\n",
      "RP3b weight: 0.3525553297579927\n",
      "ItemKNN weight: 0.04822353495613254\n",
      "EvaluatorHoldout: Processed 34728 (100.0%) in 14.79 sec. Users per second: 2349\n",
      "EvaluatorHoldout: Processed 35209 (100.0%) in 15.97 sec. Users per second: 2204\n"
     ]
    },
    {
     "name": "stderr",
     "output_type": "stream",
     "text": [
      "[I 2024-12-18 02:11:26,117] Trial 154 finished with value: 0.03102027936836918 and parameters: {'x_0': 0.2607135621490484, 'x_1': 0.45341552343405167, 'x_2': 0.8974589328715946}. Best is trial 19 with value: 0.031065229602935986.\n"
     ]
    },
    {
     "name": "stdout",
     "output_type": "stream",
     "text": [
      "__________Iteration 155______________\n",
      "SLIM weight: 0.3977825598932702\n",
      "RP3b weight: 0.2501014484953201\n",
      "ItemKNN weight: 0.35211599161140966\n",
      "EvaluatorHoldout: Processed 34728 (100.0%) in 14.45 sec. Users per second: 2404\n",
      "EvaluatorHoldout: Processed 35209 (100.0%) in 14.72 sec. Users per second: 2391\n"
     ]
    },
    {
     "name": "stderr",
     "output_type": "stream",
     "text": [
      "[I 2024-12-18 02:11:55,433] Trial 155 finished with value: 0.030545856598032623 and parameters: {'x_0': 0.3232800966949891, 'x_1': 0.49164669218096746, 'x_2': 0.3680278593171903}. Best is trial 19 with value: 0.031065229602935986.\n"
     ]
    },
    {
     "name": "stdout",
     "output_type": "stream",
     "text": [
      "__________Iteration 156______________\n",
      "SLIM weight: 0.6756474792106408\n",
      "RP3b weight: 0.2484379503232179\n",
      "ItemKNN weight: 0.07591457046614117\n",
      "EvaluatorHoldout: Processed 34728 (100.0%) in 14.42 sec. Users per second: 2409\n",
      "EvaluatorHoldout: Processed 35209 (100.0%) in 15.99 sec. Users per second: 2202\n"
     ]
    },
    {
     "name": "stderr",
     "output_type": "stream",
     "text": [
      "[I 2024-12-18 02:12:25,987] Trial 156 finished with value: 0.031057717710057723 and parameters: {'x_0': 0.23649251608590655, 'x_1': 0.5885054107345203, 'x_2': 0.850439095990759}. Best is trial 19 with value: 0.031065229602935986.\n"
     ]
    },
    {
     "name": "stdout",
     "output_type": "stream",
     "text": [
      "__________Iteration 157______________\n",
      "SLIM weight: 0.704529764882157\n",
      "RP3b weight: 0.21032261950646708\n",
      "ItemKNN weight: 0.08514761561137592\n",
      "EvaluatorHoldout: Processed 34728 (100.0%) in 14.76 sec. Users per second: 2353\n",
      "EvaluatorHoldout: Processed 35209 (100.0%) in 15.66 sec. Users per second: 2249\n"
     ]
    },
    {
     "name": "stderr",
     "output_type": "stream",
     "text": [
      "[I 2024-12-18 02:12:56,552] Trial 157 finished with value: 0.031023703941377507 and parameters: {'x_0': 0.27330593043353585, 'x_1': 0.6789274423053566, 'x_2': 0.8548991505366215}. Best is trial 19 with value: 0.031065229602935986.\n"
     ]
    },
    {
     "name": "stdout",
     "output_type": "stream",
     "text": [
      "__________Iteration 158______________\n",
      "SLIM weight: 0.6718290456962518\n",
      "RP3b weight: 0.23839560010716598\n",
      "ItemKNN weight: 0.08977535419658232\n",
      "EvaluatorHoldout: Processed 34728 (100.0%) in 13.94 sec. Users per second: 2491\n",
      "EvaluatorHoldout: Processed 35209 (100.0%) in 15.24 sec. Users per second: 2310\n"
     ]
    },
    {
     "name": "stderr",
     "output_type": "stream",
     "text": [
      "[I 2024-12-18 02:13:25,877] Trial 158 finished with value: 0.031032856704072024 and parameters: {'x_0': 0.21822456747100816, 'x_1': 0.5826568371022232, 'x_2': 0.815941149930903}. Best is trial 19 with value: 0.031065229602935986.\n"
     ]
    },
    {
     "name": "stdout",
     "output_type": "stream",
     "text": [
      "__________Iteration 159______________\n",
      "SLIM weight: 0.6243538593517665\n",
      "RP3b weight: 0.2986123659354597\n",
      "ItemKNN weight: 0.07703377471277387\n",
      "EvaluatorHoldout: Processed 34728 (100.0%) in 14.77 sec. Users per second: 2351\n",
      "EvaluatorHoldout: Processed 35209 (100.0%) in 16.03 sec. Users per second: 2197\n"
     ]
    },
    {
     "name": "stderr",
     "output_type": "stream",
     "text": [
      "[I 2024-12-18 02:13:56,831] Trial 159 finished with value: 0.031028404873427996 and parameters: {'x_0': 0.2415012043173079, 'x_1': 0.5068345347233538, 'x_2': 0.8391963753487512}. Best is trial 19 with value: 0.031065229602935986.\n"
     ]
    },
    {
     "name": "stdout",
     "output_type": "stream",
     "text": [
      "__________Iteration 160______________\n",
      "SLIM weight: 0.5673474781147775\n",
      "RP3b weight: 0.34588436316557425\n",
      "ItemKNN weight: 0.08676815871964813\n",
      "EvaluatorHoldout: Processed 34728 (100.0%) in 14.62 sec. Users per second: 2375\n",
      "EvaluatorHoldout: Processed 35209 (100.0%) in 15.33 sec. Users per second: 2296\n"
     ]
    },
    {
     "name": "stderr",
     "output_type": "stream",
     "text": [
      "[I 2024-12-18 02:14:26,934] Trial 160 finished with value: 0.031038336935018764 and parameters: {'x_0': 0.4148616986536373, 'x_1': 0.5848629582531042, 'x_2': 0.8741047094618019}. Best is trial 19 with value: 0.031065229602935986.\n"
     ]
    },
    {
     "name": "stdout",
     "output_type": "stream",
     "text": [
      "__________Iteration 161______________\n",
      "SLIM weight: 0.5227008773737319\n",
      "RP3b weight: 0.3658067684630959\n",
      "ItemKNN weight: 0.1114923541631721\n",
      "EvaluatorHoldout: Processed 34728 (100.0%) in 13.46 sec. Users per second: 2580\n",
      "EvaluatorHoldout: Processed 35209 (100.0%) in 16.01 sec. Users per second: 2199\n"
     ]
    },
    {
     "name": "stderr",
     "output_type": "stream",
     "text": [
      "[I 2024-12-18 02:14:56,537] Trial 161 finished with value: 0.03104236026553663 and parameters: {'x_0': 0.28690966422811376, 'x_1': 0.41735786911937967, 'x_2': 0.7661905296460175}. Best is trial 19 with value: 0.031065229602935986.\n"
     ]
    },
    {
     "name": "stdout",
     "output_type": "stream",
     "text": [
      "__________Iteration 162______________\n",
      "SLIM weight: 0.6219495385966864\n",
      "RP3b weight: 0.27438589126585095\n",
      "ItemKNN weight: 0.10366457013746269\n",
      "EvaluatorHoldout: Processed 34728 (100.0%) in 14.76 sec. Users per second: 2353\n",
      "EvaluatorHoldout: Processed 35209 (100.0%) in 16.00 sec. Users per second: 2200\n"
     ]
    },
    {
     "name": "stderr",
     "output_type": "stream",
     "text": [
      "[I 2024-12-18 02:15:27,468] Trial 162 finished with value: 0.031029220737668176 and parameters: {'x_0': 0.2536038013951981, 'x_1': 0.5459225079307501, 'x_2': 0.7955849844339026}. Best is trial 19 with value: 0.031065229602935986.\n"
     ]
    },
    {
     "name": "stdout",
     "output_type": "stream",
     "text": [
      "__________Iteration 163______________\n",
      "SLIM weight: 0.6364920633070232\n",
      "RP3b weight: 0.2138459533193966\n",
      "ItemKNN weight: 0.14966198337358005\n",
      "EvaluatorHoldout: Processed 34728 (100.0%) in 14.47 sec. Users per second: 2400\n",
      "EvaluatorHoldout: Processed 35209 (100.0%) in 14.78 sec. Users per second: 2383\n"
     ]
    },
    {
     "name": "stderr",
     "output_type": "stream",
     "text": [
      "[I 2024-12-18 02:15:56,862] Trial 163 finished with value: 0.030969511816089996 and parameters: {'x_0': 0.21607062454479534, 'x_1': 0.5976408062036167, 'x_2': 0.6974927939029103}. Best is trial 19 with value: 0.031065229602935986.\n"
     ]
    },
    {
     "name": "stdout",
     "output_type": "stream",
     "text": [
      "__________Iteration 164______________\n",
      "SLIM weight: 0.3543018486668309\n",
      "RP3b weight: 0.5104217108871675\n",
      "ItemKNN weight: 0.1352764404460018\n",
      "EvaluatorHoldout: Processed 34728 (100.0%) in 14.34 sec. Users per second: 2422\n",
      "EvaluatorHoldout: Processed 35209 (100.0%) in 16.12 sec. Users per second: 2184\n"
     ]
    },
    {
     "name": "stderr",
     "output_type": "stream",
     "text": [
      "[I 2024-12-18 02:16:27,474] Trial 164 finished with value: 0.030826453335306907 and parameters: {'x_0': 0.46426429167974304, 'x_1': 0.331076577787884, 'x_2': 0.7460487850631853}. Best is trial 19 with value: 0.031065229602935986.\n"
     ]
    },
    {
     "name": "stdout",
     "output_type": "stream",
     "text": [
      "__________Iteration 165______________\n",
      "SLIM weight: 0.4767980482459413\n",
      "RP3b weight: 0.36042495256519447\n",
      "ItemKNN weight: 0.1627769991888642\n",
      "EvaluatorHoldout: Processed 34728 (100.0%) in 14.78 sec. Users per second: 2350\n",
      "EvaluatorHoldout: Processed 35209 (100.0%) in 15.68 sec. Users per second: 2246\n"
     ]
    },
    {
     "name": "stderr",
     "output_type": "stream",
     "text": [
      "[I 2024-12-18 02:16:58,081] Trial 165 finished with value: 0.0309750686057259 and parameters: {'x_0': 0.37086526834072264, 'x_1': 0.47245285127830144, 'x_2': 0.7127415442917107}. Best is trial 19 with value: 0.031065229602935986.\n"
     ]
    },
    {
     "name": "stdout",
     "output_type": "stream",
     "text": [
      "__________Iteration 166______________\n",
      "SLIM weight: 0.6896931649870814\n",
      "RP3b weight: 0.2594579624519776\n",
      "ItemKNN weight: 0.050848872560941\n",
      "EvaluatorHoldout: Processed 34728 (100.0%) in 13.98 sec. Users per second: 2484\n",
      "EvaluatorHoldout: Processed 35209 (100.0%) in 15.17 sec. Users per second: 2321\n"
     ]
    },
    {
     "name": "stderr",
     "output_type": "stream",
     "text": [
      "[I 2024-12-18 02:17:27,379] Trial 166 finished with value: 0.031055719185469365 and parameters: {'x_0': 0.06716053973731986, 'x_1': 0.36204969581935625, 'x_2': 0.819458335580869}. Best is trial 19 with value: 0.031065229602935986.\n"
     ]
    },
    {
     "name": "stdout",
     "output_type": "stream",
     "text": [
      "__________Iteration 167______________\n",
      "SLIM weight: 0.6957922260516454\n",
      "RP3b weight: 0.2552855035820771\n",
      "ItemKNN weight: 0.04892227036627762\n",
      "EvaluatorHoldout: Processed 34728 (100.0%) in 14.73 sec. Users per second: 2357\n",
      "EvaluatorHoldout: Processed 35209 (100.0%) in 16.02 sec. Users per second: 2197\n"
     ]
    },
    {
     "name": "stderr",
     "output_type": "stream",
     "text": [
      "[I 2024-12-18 02:17:58,302] Trial 167 finished with value: 0.03104200832409958 and parameters: {'x_0': 0.061422649410455915, 'x_1': 0.3592848460612099, 'x_2': 0.8218743590007758}. Best is trial 19 with value: 0.031065229602935986.\n"
     ]
    },
    {
     "name": "stdout",
     "output_type": "stream",
     "text": [
      "__________Iteration 168______________\n",
      "SLIM weight: 0.17091667671753902\n",
      "RP3b weight: 0.7699950035588021\n",
      "ItemKNN weight: 0.05908831972365897\n",
      "EvaluatorHoldout: Processed 34728 (100.0%) in 14.54 sec. Users per second: 2388\n",
      "EvaluatorHoldout: Processed 35209 (100.0%) in 15.44 sec. Users per second: 2280\n"
     ]
    },
    {
     "name": "stderr",
     "output_type": "stream",
     "text": [
      "[I 2024-12-18 02:18:28,440] Trial 168 finished with value: 0.029831121815614845 and parameters: {'x_0': 0.8042700289625677, 'x_1': 0.3748236474990409, 'x_2': 0.9274619252469969}. Best is trial 19 with value: 0.031065229602935986.\n"
     ]
    },
    {
     "name": "stdout",
     "output_type": "stream",
     "text": [
      "__________Iteration 169______________\n",
      "SLIM weight: 0.5282188973621349\n",
      "RP3b weight: 0.39512074802139296\n",
      "ItemKNN weight: 0.07666035461647226\n",
      "EvaluatorHoldout: Processed 34728 (100.0%) in 13.45 sec. Users per second: 2582\n",
      "EvaluatorHoldout: Processed 35209 (100.0%) in 16.00 sec. Users per second: 2201\n"
     ]
    },
    {
     "name": "stderr",
     "output_type": "stream",
     "text": [
      "[I 2024-12-18 02:18:58,033] Trial 169 finished with value: 0.031034187911130606 and parameters: {'x_0': 0.22992676538342707, 'x_1': 0.3330069065280566, 'x_2': 0.8078812962977545}. Best is trial 19 with value: 0.031065229602935986.\n"
     ]
    },
    {
     "name": "stdout",
     "output_type": "stream",
     "text": [
      "__________Iteration 170______________\n",
      "SLIM weight: 0.732749691615367\n",
      "RP3b weight: 0.1970003265676499\n",
      "ItemKNN weight: 0.0702499818169832\n",
      "EvaluatorHoldout: Processed 34728 (100.0%) in 14.77 sec. Users per second: 2351\n",
      "EvaluatorHoldout: Processed 35209 (100.0%) in 16.02 sec. Users per second: 2197\n"
     ]
    },
    {
     "name": "stderr",
     "output_type": "stream",
     "text": [
      "[I 2024-12-18 02:19:28,986] Trial 170 finished with value: 0.03098789732816932 and parameters: {'x_0': 0.17410831944103594, 'x_1': 0.6250197434790483, 'x_2': 0.8456994595896123}. Best is trial 19 with value: 0.031065229602935986.\n"
     ]
    },
    {
     "name": "stdout",
     "output_type": "stream",
     "text": [
      "__________Iteration 171______________\n",
      "SLIM weight: 0.6985358236586217\n",
      "RP3b weight: 0.23922794429032418\n",
      "ItemKNN weight: 0.06223623205105424\n",
      "EvaluatorHoldout: Processed 34728 (100.0%) in 14.17 sec. Users per second: 2451\n",
      "EvaluatorHoldout: Processed 35209 (100.0%) in 14.80 sec. Users per second: 2380\n"
     ]
    },
    {
     "name": "stderr",
     "output_type": "stream",
     "text": [
      "[I 2024-12-18 02:19:58,095] Trial 171 finished with value: 0.031050667454648823 and parameters: {'x_0': 0.06555753792715946, 'x_1': 0.3933037694392538, 'x_2': 0.7844525586901191}. Best is trial 19 with value: 0.031065229602935986.\n"
     ]
    },
    {
     "name": "stdout",
     "output_type": "stream",
     "text": [
      "__________Iteration 172______________\n",
      "SLIM weight: 0.8958712619637744\n",
      "RP3b weight: 0.08326119354964545\n",
      "ItemKNN weight: 0.020867544486580174\n",
      "EvaluatorHoldout: Processed 34728 (100.0%) in 14.19 sec. Users per second: 2447\n",
      "EvaluatorHoldout: Processed 35209 (100.0%) in 16.02 sec. Users per second: 2197\n"
     ]
    },
    {
     "name": "stderr",
     "output_type": "stream",
     "text": [
      "[I 2024-12-18 02:20:28,457] Trial 172 finished with value: 0.030801665460009443 and parameters: {'x_0': 3.5038325942024495e-05, 'x_1': 0.3854031302015174, 'x_2': 0.7874427208343608}. Best is trial 19 with value: 0.031065229602935986.\n"
     ]
    },
    {
     "name": "stdout",
     "output_type": "stream",
     "text": [
      "__________Iteration 173______________\n",
      "SLIM weight: 0.7423854702180611\n",
      "RP3b weight: 0.1956766652613842\n",
      "ItemKNN weight: 0.06193786452055464\n",
      "EvaluatorHoldout: Processed 34728 (100.0%) in 14.77 sec. Users per second: 2352\n",
      "EvaluatorHoldout: Processed 35209 (100.0%) in 15.77 sec. Users per second: 2232\n"
     ]
    },
    {
     "name": "stderr",
     "output_type": "stream",
     "text": [
      "[I 2024-12-18 02:20:59,151] Trial 173 finished with value: 0.030998464712613683 and parameters: {'x_0': 0.04229259157179732, 'x_1': 0.4344233334373303, 'x_2': 0.7680474248328043}. Best is trial 19 with value: 0.031065229602935986.\n"
     ]
    },
    {
     "name": "stdout",
     "output_type": "stream",
     "text": [
      "__________Iteration 174______________\n",
      "SLIM weight: 0.6770004490915901\n",
      "RP3b weight: 0.2727780241249792\n",
      "ItemKNN weight: 0.05022152678343075\n",
      "EvaluatorHoldout: Processed 34728 (100.0%) in 14.05 sec. Users per second: 2471\n",
      "EvaluatorHoldout: Processed 35209 (100.0%) in 15.01 sec. Users per second: 2346\n"
     ]
    },
    {
     "name": "stderr",
     "output_type": "stream",
     "text": [
      "[I 2024-12-18 02:21:28,357] Trial 174 finished with value: 0.03104123588120546 and parameters: {'x_0': 0.07723066380325522, 'x_1': 0.35634166517445287, 'x_2': 0.8269772482228557}. Best is trial 19 with value: 0.031065229602935986.\n"
     ]
    },
    {
     "name": "stdout",
     "output_type": "stream",
     "text": [
      "__________Iteration 175______________\n",
      "SLIM weight: 0.7556281515073604\n",
      "RP3b weight: 0.19576394951846515\n",
      "ItemKNN weight: 0.04860789897417447\n",
      "EvaluatorHoldout: Processed 34728 (100.0%) in 14.74 sec. Users per second: 2356\n",
      "EvaluatorHoldout: Processed 35209 (100.0%) in 16.01 sec. Users per second: 2199\n"
     ]
    },
    {
     "name": "stderr",
     "output_type": "stream",
     "text": [
      "[I 2024-12-18 02:21:59,273] Trial 175 finished with value: 0.03100663592435262 and parameters: {'x_0': 0.03068653772210691, 'x_1': 0.40551493473039957, 'x_2': 0.7992243034541514}. Best is trial 19 with value: 0.031065229602935986.\n"
     ]
    },
    {
     "name": "stdout",
     "output_type": "stream",
     "text": [
      "__________Iteration 176______________\n",
      "SLIM weight: 0.6994218640670352\n",
      "RP3b weight: 0.26406631408204867\n",
      "ItemKNN weight: 0.036511821850916\n",
      "EvaluatorHoldout: Processed 34728 (100.0%) in 14.66 sec. Users per second: 2368\n",
      "EvaluatorHoldout: Processed 35209 (100.0%) in 15.62 sec. Users per second: 2253\n"
     ]
    },
    {
     "name": "stderr",
     "output_type": "stream",
     "text": [
      "[I 2024-12-18 02:22:29,714] Trial 176 finished with value: 0.03104012063821047 and parameters: {'x_0': 0.06000342485947649, 'x_1': 0.3457013545382024, 'x_2': 0.8634104376991002}. Best is trial 19 with value: 0.031065229602935986.\n"
     ]
    },
    {
     "name": "stdout",
     "output_type": "stream",
     "text": [
      "__________Iteration 177______________\n",
      "SLIM weight: 0.6625807248814146\n",
      "RP3b weight: 0.27271523169998474\n",
      "ItemKNN weight: 0.06470404341860073\n",
      "EvaluatorHoldout: Processed 34728 (100.0%) in 13.57 sec. Users per second: 2559\n",
      "EvaluatorHoldout: Processed 35209 (100.0%) in 15.90 sec. Users per second: 2214\n"
     ]
    },
    {
     "name": "stderr",
     "output_type": "stream",
     "text": [
      "[I 2024-12-18 02:22:59,326] Trial 177 finished with value: 0.031039826972790695 and parameters: {'x_0': 0.10367891865484599, 'x_1': 0.39342562343355747, 'x_2': 0.8014522706567442}. Best is trial 19 with value: 0.031065229602935986.\n"
     ]
    },
    {
     "name": "stdout",
     "output_type": "stream",
     "text": [
      "__________Iteration 178______________\n",
      "SLIM weight: 0.4869918710481814\n",
      "RP3b weight: 0.4194454746002341\n",
      "ItemKNN weight: 0.09356265435158449\n",
      "EvaluatorHoldout: Processed 34728 (100.0%) in 14.75 sec. Users per second: 2355\n",
      "EvaluatorHoldout: Processed 35209 (100.0%) in 15.97 sec. Users per second: 2205\n"
     ]
    },
    {
     "name": "stderr",
     "output_type": "stream",
     "text": [
      "[I 2024-12-18 02:23:30,200] Trial 178 finished with value: 0.031027138798388632 and parameters: {'x_0': 0.26587169134080296, 'x_1': 0.3194999653583617, 'x_2': 0.7752930758171145}. Best is trial 19 with value: 0.031065229602935986.\n"
     ]
    },
    {
     "name": "stdout",
     "output_type": "stream",
     "text": [
      "__________Iteration 179______________\n",
      "SLIM weight: 0.5917243730878189\n",
      "RP3b weight: 0.3654943126443303\n",
      "ItemKNN weight: 0.0427813142678508\n",
      "EvaluatorHoldout: Processed 34728 (100.0%) in 14.36 sec. Users per second: 2419\n",
      "EvaluatorHoldout: Processed 35209 (100.0%) in 14.90 sec. Users per second: 2363\n"
     ]
    },
    {
     "name": "stderr",
     "output_type": "stream",
     "text": [
      "[I 2024-12-18 02:23:59,599] Trial 179 finished with value: 0.031014078114543566 and parameters: {'x_0': 0.20028466379640755, 'x_1': 0.37037708294211, 'x_2': 0.8902450156524392}. Best is trial 19 with value: 0.031065229602935986.\n"
     ]
    },
    {
     "name": "stdout",
     "output_type": "stream",
     "text": [
      "__________Iteration 180______________\n",
      "SLIM weight: 0.7002404063962445\n",
      "RP3b weight: 0.22632232261468319\n",
      "ItemKNN weight: 0.07343727098907223\n",
      "EvaluatorHoldout: Processed 34728 (100.0%) in 14.18 sec. Users per second: 2449\n",
      "EvaluatorHoldout: Processed 35209 (100.0%) in 16.02 sec. Users per second: 2198\n"
     ]
    },
    {
     "name": "stderr",
     "output_type": "stream",
     "text": [
      "[I 2024-12-18 02:24:29,945] Trial 180 finished with value: 0.0310413707159119 and parameters: {'x_0': 0.06850381296392123, 'x_1': 0.42043156908133567, 'x_2': 0.754911981370655}. Best is trial 19 with value: 0.031065229602935986.\n"
     ]
    },
    {
     "name": "stdout",
     "output_type": "stream",
     "text": [
      "__________Iteration 181______________\n",
      "SLIM weight: 0.6101774577144099\n",
      "RP3b weight: 0.31271882923591177\n",
      "ItemKNN weight: 0.07710371304967835\n",
      "EvaluatorHoldout: Processed 34728 (100.0%) in 14.76 sec. Users per second: 2353\n",
      "EvaluatorHoldout: Processed 35209 (100.0%) in 15.73 sec. Users per second: 2238\n"
     ]
    },
    {
     "name": "stderr",
     "output_type": "stream",
     "text": [
      "[I 2024-12-18 02:25:00,593] Trial 181 finished with value: 0.03099998217439371 and parameters: {'x_0': 0.09293231475302303, 'x_1': 0.2959242720324395, 'x_2': 0.7406528428399534}. Best is trial 19 with value: 0.031065229602935986.\n"
     ]
    },
    {
     "name": "stdout",
     "output_type": "stream",
     "text": [
      "__________Iteration 182______________\n",
      "SLIM weight: 0.5924006075486808\n",
      "RP3b weight: 0.3140761970073987\n",
      "ItemKNN weight: 0.09352319544392049\n",
      "EvaluatorHoldout: Processed 34728 (100.0%) in 14.10 sec. Users per second: 2462\n",
      "EvaluatorHoldout: Processed 35209 (100.0%) in 15.06 sec. Users per second: 2338\n"
     ]
    },
    {
     "name": "stderr",
     "output_type": "stream",
     "text": [
      "[I 2024-12-18 02:25:29,897] Trial 182 finished with value: 0.0310249311657387 and parameters: {'x_0': 0.13186687257875582, 'x_1': 0.3415998283528086, 'x_2': 0.7262639211548453}. Best is trial 19 with value: 0.031065229602935986.\n"
     ]
    },
    {
     "name": "stdout",
     "output_type": "stream",
     "text": [
      "__________Iteration 183______________\n",
      "SLIM weight: 0.661503565097607\n",
      "RP3b weight: 0.28637892491029576\n",
      "ItemKNN weight: 0.05211750999209726\n",
      "EvaluatorHoldout: Processed 34728 (100.0%) in 14.75 sec. Users per second: 2354\n",
      "EvaluatorHoldout: Processed 35209 (100.0%) in 16.10 sec. Users per second: 2187\n"
     ]
    },
    {
     "name": "stderr",
     "output_type": "stream",
     "text": [
      "[I 2024-12-18 02:26:00,903] Trial 183 finished with value: 0.031028573988144476 and parameters: {'x_0': 0.09842803383247431, 'x_1': 0.3665217699974911, 'x_2': 0.8330506680030575}. Best is trial 19 with value: 0.031065229602935986.\n"
     ]
    },
    {
     "name": "stdout",
     "output_type": "stream",
     "text": [
      "__________Iteration 184______________\n",
      "SLIM weight: 0.6908125448869332\n",
      "RP3b weight: 0.25491080607977734\n",
      "ItemKNN weight: 0.05427664903328941\n",
      "EvaluatorHoldout: Processed 34728 (100.0%) in 14.65 sec. Users per second: 2370\n",
      "EvaluatorHoldout: Processed 35209 (100.0%) in 15.52 sec. Users per second: 2268\n"
     ]
    },
    {
     "name": "stderr",
     "output_type": "stream",
     "text": [
      "[I 2024-12-18 02:26:31,234] Trial 184 finished with value: 0.031056424211010323 and parameters: {'x_0': 0.04841460800576744, 'x_1': 0.32715566062690593, 'x_2': 0.7882782341793422}. Best is trial 19 with value: 0.031065229602935986.\n"
     ]
    },
    {
     "name": "stdout",
     "output_type": "stream",
     "text": [
      "__________Iteration 185______________\n",
      "SLIM weight: 0.6914585858538355\n",
      "RP3b weight: 0.25291261081659944\n",
      "ItemKNN weight: 0.05562880332956512\n",
      "EvaluatorHoldout: Processed 34728 (100.0%) in 13.54 sec. Users per second: 2565\n",
      "EvaluatorHoldout: Processed 35209 (100.0%) in 14.16 sec. Users per second: 2487\n"
     ]
    },
    {
     "name": "stderr",
     "output_type": "stream",
     "text": [
      "[I 2024-12-18 02:26:59,057] Trial 185 finished with value: 0.03106029213881569 and parameters: {'x_0': 0.047478098948489034, 'x_1': 0.32802365669817884, 'x_2': 0.7825679365783992}. Best is trial 19 with value: 0.031065229602935986.\n"
     ]
    },
    {
     "name": "stdout",
     "output_type": "stream",
     "text": [
      "__________Iteration 186______________\n",
      "SLIM weight: 0.7074149648024913\n",
      "RP3b weight: 0.24836300457612595\n",
      "ItemKNN weight: 0.04422203062138276\n",
      "EvaluatorHoldout: Processed 34728 (100.0%) in 13.05 sec. Users per second: 2661\n",
      "EvaluatorHoldout: Processed 35209 (100.0%) in 14.12 sec. Users per second: 2494\n"
     ]
    },
    {
     "name": "stderr",
     "output_type": "stream",
     "text": [
      "[I 2024-12-18 02:27:26,322] Trial 186 finished with value: 0.031042826473673745 and parameters: {'x_0': 0.038992227079132045, 'x_1': 0.32012020331020324, 'x_2': 0.8164300993623954}. Best is trial 19 with value: 0.031065229602935986.\n"
     ]
    },
    {
     "name": "stdout",
     "output_type": "stream",
     "text": [
      "__________Iteration 187______________\n",
      "SLIM weight: 0.7439683753330851\n",
      "RP3b weight: 0.21391014898502755\n",
      "ItemKNN weight: 0.04212147568188738\n",
      "EvaluatorHoldout: Processed 34728 (100.0%) in 13.02 sec. Users per second: 2667\n",
      "EvaluatorHoldout: Processed 35209 (100.0%) in 14.15 sec. Users per second: 2489\n"
     ]
    },
    {
     "name": "stderr",
     "output_type": "stream",
     "text": [
      "[I 2024-12-18 02:27:53,586] Trial 187 finished with value: 0.031008088254113508 and parameters: {'x_0': 0.017784283983708835, 'x_1': 0.31393533588262995, 'x_2': 0.7960159992854876}. Best is trial 19 with value: 0.031065229602935986.\n"
     ]
    },
    {
     "name": "stdout",
     "output_type": "stream",
     "text": [
      "__________Iteration 188______________\n",
      "SLIM weight: 0.5256134900903497\n",
      "RP3b weight: 0.41213649897266885\n",
      "ItemKNN weight: 0.06225001093698149\n",
      "EvaluatorHoldout: Processed 34728 (100.0%) in 13.07 sec. Users per second: 2656\n",
      "EvaluatorHoldout: Processed 35209 (100.0%) in 14.12 sec. Users per second: 2493\n"
     ]
    },
    {
     "name": "stderr",
     "output_type": "stream",
     "text": [
      "[I 2024-12-18 02:28:20,877] Trial 188 finished with value: 0.03103329777353511 and parameters: {'x_0': 0.24864011758693835, 'x_1': 0.33578707424554244, 'x_2': 0.8480386607150522}. Best is trial 19 with value: 0.031065229602935986.\n"
     ]
    },
    {
     "name": "stdout",
     "output_type": "stream",
     "text": [
      "__________Iteration 189______________\n",
      "SLIM weight: 0.6645093365884097\n",
      "RP3b weight: 0.27583329174665144\n",
      "ItemKNN weight: 0.05965737166493888\n",
      "EvaluatorHoldout: Processed 34728 (100.0%) in 13.01 sec. Users per second: 2668\n",
      "EvaluatorHoldout: Processed 35209 (100.0%) in 14.15 sec. Users per second: 2489\n"
     ]
    },
    {
     "name": "stderr",
     "output_type": "stream",
     "text": [
      "[I 2024-12-18 02:28:48,137] Trial 189 finished with value: 0.031045535737138037 and parameters: {'x_0': 0.051814640720238746, 'x_1': 0.2926698602647265, 'x_2': 0.7666337752658863}. Best is trial 19 with value: 0.031065229602935986.\n"
     ]
    },
    {
     "name": "stdout",
     "output_type": "stream",
     "text": [
      "__________Iteration 190______________\n",
      "SLIM weight: 0.3901003334159991\n",
      "RP3b weight: 0.2807787574534707\n",
      "ItemKNN weight: 0.32912090913053016\n",
      "EvaluatorHoldout: Processed 34728 (100.0%) in 13.02 sec. Users per second: 2666\n",
      "EvaluatorHoldout: Processed 35209 (100.0%) in 14.09 sec. Users per second: 2500\n"
     ]
    },
    {
     "name": "stderr",
     "output_type": "stream",
     "text": [
      "[I 2024-12-18 02:29:15,343] Trial 190 finished with value: 0.03060679959997419 and parameters: {'x_0': 0.2330101245029421, 'x_1': 0.35047855597154887, 'x_2': 0.2925937504428719}. Best is trial 19 with value: 0.031065229602935986.\n"
     ]
    },
    {
     "name": "stdout",
     "output_type": "stream",
     "text": [
      "__________Iteration 191______________\n",
      "SLIM weight: 0.7039012567194475\n",
      "RP3b weight: 0.2347802185728311\n",
      "ItemKNN weight: 0.061318524707721415\n",
      "EvaluatorHoldout: Processed 34728 (100.0%) in 13.00 sec. Users per second: 2672\n",
      "EvaluatorHoldout: Processed 35209 (100.0%) in 14.14 sec. Users per second: 2491\n"
     ]
    },
    {
     "name": "stderr",
     "output_type": "stream",
     "text": [
      "[I 2024-12-18 02:29:42,575] Trial 191 finished with value: 0.0310512947788335 and parameters: {'x_0': 0.05961457552386228, 'x_1': 0.3904175482503, 'x_2': 0.7822003730261775}. Best is trial 19 with value: 0.031065229602935986.\n"
     ]
    },
    {
     "name": "stdout",
     "output_type": "stream",
     "text": [
      "__________Iteration 192______________\n",
      "SLIM weight: 0.7399338376194836\n",
      "RP3b weight: 0.2076830805319746\n",
      "ItemKNN weight: 0.05238308184854171\n",
      "EvaluatorHoldout: Processed 34728 (100.0%) in 12.99 sec. Users per second: 2673\n",
      "EvaluatorHoldout: Processed 35209 (100.0%) in 13.95 sec. Users per second: 2524\n"
     ]
    },
    {
     "name": "stderr",
     "output_type": "stream",
     "text": [
      "[I 2024-12-18 02:30:09,614] Trial 192 finished with value: 0.03102436668823923 and parameters: {'x_0': 0.03029566229059212, 'x_1': 0.3747632910563694, 'x_2': 0.7807112280883113}. Best is trial 19 with value: 0.031065229602935986.\n"
     ]
    },
    {
     "name": "stdout",
     "output_type": "stream",
     "text": [
      "__________Iteration 193______________\n",
      "SLIM weight: 0.6593597575729675\n",
      "RP3b weight: 0.2881011419859051\n",
      "ItemKNN weight: 0.05253910044112747\n",
      "EvaluatorHoldout: Processed 34728 (100.0%) in 12.89 sec. Users per second: 2694\n",
      "EvaluatorHoldout: Processed 35209 (100.0%) in 13.96 sec. Users per second: 2522\n"
     ]
    },
    {
     "name": "stderr",
     "output_type": "stream",
     "text": [
      "[I 2024-12-18 02:30:36,561] Trial 193 finished with value: 0.031035516832855117 and parameters: {'x_0': 0.07704983518589757, 'x_1': 0.32627605775268553, 'x_2': 0.8152592782039105}. Best is trial 19 with value: 0.031065229602935986.\n"
     ]
    },
    {
     "name": "stdout",
     "output_type": "stream",
     "text": [
      "__________Iteration 194______________\n",
      "SLIM weight: 0.7067289984356591\n",
      "RP3b weight: 0.23182455954903566\n",
      "ItemKNN weight: 0.06144644201530532\n",
      "EvaluatorHoldout: Processed 34728 (100.0%) in 12.90 sec. Users per second: 2692\n",
      "EvaluatorHoldout: Processed 35209 (100.0%) in 13.89 sec. Users per second: 2534\n"
     ]
    },
    {
     "name": "stderr",
     "output_type": "stream",
     "text": [
      "[I 2024-12-18 02:31:03,454] Trial 194 finished with value: 0.031037950713571683 and parameters: {'x_0': 0.0424899657425577, 'x_1': 0.35484939362209406, 'x_2': 0.7598652333033794}. Best is trial 19 with value: 0.031065229602935986.\n"
     ]
    },
    {
     "name": "stdout",
     "output_type": "stream",
     "text": [
      "__________Iteration 195______________\n",
      "SLIM weight: 0.5864702387461317\n",
      "RP3b weight: 0.3073956442481367\n",
      "ItemKNN weight: 0.10613411700573158\n",
      "EvaluatorHoldout: Processed 34728 (100.0%) in 12.85 sec. Users per second: 2703\n",
      "EvaluatorHoldout: Processed 35209 (100.0%) in 13.86 sec. Users per second: 2540\n"
     ]
    },
    {
     "name": "stderr",
     "output_type": "stream",
     "text": [
      "[I 2024-12-18 02:31:30,261] Trial 195 finished with value: 0.031035241450107436 and parameters: {'x_0': 0.294133762047269, 'x_1': 0.5265507950109888, 'x_2': 0.8013496004156814}. Best is trial 19 with value: 0.031065229602935986.\n"
     ]
    },
    {
     "name": "stdout",
     "output_type": "stream",
     "text": [
      "__________Iteration 196______________\n",
      "SLIM weight: 0.6463856966711978\n",
      "RP3b weight: 0.3043021065034479\n",
      "ItemKNN weight: 0.049312196825354364\n",
      "EvaluatorHoldout: Processed 34728 (100.0%) in 12.85 sec. Users per second: 2702\n",
      "EvaluatorHoldout: Processed 35209 (100.0%) in 13.90 sec. Users per second: 2533\n"
     ]
    },
    {
     "name": "stderr",
     "output_type": "stream",
     "text": [
      "[I 2024-12-18 02:31:57,112] Trial 196 finished with value: 0.031034899792673477 and parameters: {'x_0': 0.07857628954816503, 'x_1': 0.30194724318731625, 'x_2': 0.8236121799563215}. Best is trial 19 with value: 0.031065229602935986.\n"
     ]
    },
    {
     "name": "stdout",
     "output_type": "stream",
     "text": [
      "__________Iteration 197______________\n",
      "SLIM weight: 0.7706178462565341\n",
      "RP3b weight: 0.12607682314462726\n",
      "ItemKNN weight: 0.10330533059883855\n",
      "EvaluatorHoldout: Processed 34728 (100.0%) in 12.85 sec. Users per second: 2702\n",
      "EvaluatorHoldout: Processed 35209 (100.0%) in 13.87 sec. Users per second: 2538\n"
     ]
    },
    {
     "name": "stderr",
     "output_type": "stream",
     "text": [
      "[I 2024-12-18 02:32:23,927] Trial 197 finished with value: 0.03088200637699511 and parameters: {'x_0': 0.15761916402248752, 'x_1': 0.7391369913036504, 'x_2': 0.7806121659295648}. Best is trial 19 with value: 0.031065229602935986.\n"
     ]
    },
    {
     "name": "stdout",
     "output_type": "stream",
     "text": [
      "__________Iteration 198______________\n",
      "SLIM weight: 0.4920400931891834\n",
      "RP3b weight: 0.41778929296406014\n",
      "ItemKNN weight: 0.09017061384675634\n",
      "EvaluatorHoldout: Processed 34728 (100.0%) in 12.82 sec. Users per second: 2710\n",
      "EvaluatorHoldout: Processed 35209 (100.0%) in 13.91 sec. Users per second: 2531\n"
     ]
    },
    {
     "name": "stderr",
     "output_type": "stream",
     "text": [
      "[I 2024-12-18 02:32:50,749] Trial 198 finished with value: 0.031028302033397754 and parameters: {'x_0': 0.2054933076857869, 'x_1': 0.26091511336102574, 'x_2': 0.7482801355209728}. Best is trial 19 with value: 0.031065229602935986.\n"
     ]
    },
    {
     "name": "stdout",
     "output_type": "stream",
     "text": [
      "__________Iteration 199______________\n",
      "SLIM weight: 0.8525224093058942\n",
      "RP3b weight: 0.10865988576047027\n",
      "ItemKNN weight: 0.03881770493363552\n",
      "EvaluatorHoldout: Processed 34728 (100.0%) in 12.78 sec. Users per second: 2718\n",
      "EvaluatorHoldout: Processed 35209 (100.0%) in 13.85 sec. Users per second: 2542\n"
     ]
    },
    {
     "name": "stderr",
     "output_type": "stream",
     "text": [
      "[I 2024-12-18 02:33:17,473] Trial 199 finished with value: 0.030833361900007544 and parameters: {'x_0': 0.019455143572985334, 'x_1': 0.6052371659438126, 'x_2': 0.8357858273031256}. Best is trial 19 with value: 0.031065229602935986.\n"
     ]
    },
    {
     "name": "stdout",
     "output_type": "stream",
     "text": [
      "__________Iteration 200______________\n",
      "SLIM weight: 0.6261323435455479\n",
      "RP3b weight: 0.3119689616029467\n",
      "ItemKNN weight: 0.061898694851505384\n",
      "EvaluatorHoldout: Processed 34728 (100.0%) in 12.83 sec. Users per second: 2707\n",
      "EvaluatorHoldout: Processed 35209 (100.0%) in 13.81 sec. Users per second: 2549\n"
     ]
    },
    {
     "name": "stderr",
     "output_type": "stream",
     "text": [
      "[I 2024-12-18 02:33:44,211] Trial 200 finished with value: 0.031018976727985696 and parameters: {'x_0': 0.112443289616757, 'x_1': 0.3366122205843116, 'x_2': 0.8057056790205185}. Best is trial 19 with value: 0.031065229602935986.\n"
     ]
    },
    {
     "name": "stdout",
     "output_type": "stream",
     "text": [
      "__________Iteration 201______________\n",
      "SLIM weight: 0.7041124025536145\n",
      "RP3b weight: 0.2319502590123406\n",
      "ItemKNN weight: 0.0639373384340448\n",
      "EvaluatorHoldout: Processed 34728 (100.0%) in 12.79 sec. Users per second: 2715\n",
      "EvaluatorHoldout: Processed 35209 (100.0%) in 13.84 sec. Users per second: 2544\n"
     ]
    },
    {
     "name": "stderr",
     "output_type": "stream",
     "text": [
      "[I 2024-12-18 02:34:10,933] Trial 201 finished with value: 0.031047449704368207 and parameters: {'x_0': 0.057408282276671815, 'x_1': 0.39010243640927106, 'x_2': 0.7714503111891717}. Best is trial 19 with value: 0.031065229602935986.\n"
     ]
    },
    {
     "name": "stdout",
     "output_type": "stream",
     "text": [
      "__________Iteration 202______________\n",
      "SLIM weight: 0.6992495680587891\n",
      "RP3b weight: 0.24156944844933803\n",
      "ItemKNN weight: 0.059180983491872945\n",
      "EvaluatorHoldout: Processed 34728 (100.0%) in 12.79 sec. Users per second: 2715\n",
      "EvaluatorHoldout: Processed 35209 (100.0%) in 13.93 sec. Users per second: 2528\n"
     ]
    },
    {
     "name": "stderr",
     "output_type": "stream",
     "text": [
      "[I 2024-12-18 02:34:37,742] Trial 202 finished with value: 0.031048874610121024 and parameters: {'x_0': 0.06557890756802161, 'x_1': 0.39014678085743304, 'x_2': 0.7940664415194646}. Best is trial 19 with value: 0.031065229602935986.\n"
     ]
    },
    {
     "name": "stdout",
     "output_type": "stream",
     "text": [
      "__________Iteration 203______________\n",
      "SLIM weight: 0.6816113385443657\n",
      "RP3b weight: 0.25028107639731856\n",
      "ItemKNN weight: 0.0681075850583157\n",
      "EvaluatorHoldout: Processed 34728 (100.0%) in 12.81 sec. Users per second: 2710\n",
      "EvaluatorHoldout: Processed 35209 (100.0%) in 13.83 sec. Users per second: 2546\n"
     ]
    },
    {
     "name": "stderr",
     "output_type": "stream",
     "text": [
      "[I 2024-12-18 02:35:04,478] Trial 203 finished with value: 0.031075370772588123 and parameters: {'x_0': 0.08627768680272853, 'x_1': 0.40669819155438813, 'x_2': 0.7828407913501341}. Best is trial 203 with value: 0.031075370772588123.\n"
     ]
    },
    {
     "name": "stdout",
     "output_type": "stream",
     "text": [
      "__________Iteration 204______________\n",
      "SLIM weight: 0.666137905438241\n",
      "RP3b weight: 0.24383215125334307\n",
      "ItemKNN weight: 0.09002994330841585\n",
      "EvaluatorHoldout: Processed 34728 (100.0%) in 12.78 sec. Users per second: 2717\n",
      "EvaluatorHoldout: Processed 35209 (100.0%) in 13.84 sec. Users per second: 2544\n"
     ]
    },
    {
     "name": "stderr",
     "output_type": "stream",
     "text": [
      "[I 2024-12-18 02:35:31,190] Trial 204 finished with value: 0.03104543518244179 and parameters: {'x_0': 0.09337300804663723, 'x_1': 0.4198182547221211, 'x_2': 0.7258104936515895}. Best is trial 203 with value: 0.031075370772588123.\n"
     ]
    },
    {
     "name": "stdout",
     "output_type": "stream",
     "text": [
      "__________Iteration 205______________\n",
      "SLIM weight: 0.6116105127042037\n",
      "RP3b weight: 0.3048814293421967\n",
      "ItemKNN weight: 0.08350805795359938\n",
      "EvaluatorHoldout: Processed 34728 (100.0%) in 12.77 sec. Users per second: 2719\n",
      "EvaluatorHoldout: Processed 35209 (100.0%) in 13.84 sec. Users per second: 2545\n"
     ]
    },
    {
     "name": "stderr",
     "output_type": "stream",
     "text": [
      "[I 2024-12-18 02:35:57,896] Trial 205 finished with value: 0.031026072690074787 and parameters: {'x_0': 0.13039545392569257, 'x_1': 0.3622159796547188, 'x_2': 0.7571810404427958}. Best is trial 203 with value: 0.031075370772588123.\n"
     ]
    },
    {
     "name": "stdout",
     "output_type": "stream",
     "text": [
      "__________Iteration 206______________\n",
      "SLIM weight: 0.6370643366450646\n",
      "RP3b weight: 0.26883892969135575\n",
      "ItemKNN weight: 0.09409673366357967\n",
      "EvaluatorHoldout: Processed 34728 (100.0%) in 12.76 sec. Users per second: 2723\n",
      "EvaluatorHoldout: Processed 35209 (100.0%) in 13.83 sec. Users per second: 2546\n"
     ]
    },
    {
     "name": "stderr",
     "output_type": "stream",
     "text": [
      "[I 2024-12-18 02:36:24,576] Trial 206 finished with value: 0.031049968142442926 and parameters: {'x_0': 0.2564133849996727, 'x_1': 0.5630863921181997, 'x_2': 0.8178965521193658}. Best is trial 203 with value: 0.031075370772588123.\n"
     ]
    },
    {
     "name": "stdout",
     "output_type": "stream",
     "text": [
      "__________Iteration 207______________\n",
      "SLIM weight: 0.5546070104803786\n",
      "RP3b weight: 0.341010660279258\n",
      "ItemKNN weight: 0.10438232924036321\n",
      "EvaluatorHoldout: Processed 34728 (100.0%) in 12.80 sec. Users per second: 2714\n",
      "EvaluatorHoldout: Processed 35209 (100.0%) in 13.84 sec. Users per second: 2544\n"
     ]
    },
    {
     "name": "stderr",
     "output_type": "stream",
     "text": [
      "[I 2024-12-18 02:36:51,305] Trial 207 finished with value: 0.031025838443339254 and parameters: {'x_0': 0.2706901823475949, 'x_1': 0.4477596289960209, 'x_2': 0.781962474525397}. Best is trial 203 with value: 0.031075370772588123.\n"
     ]
    },
    {
     "name": "stdout",
     "output_type": "stream",
     "text": [
      "__________Iteration 208______________\n",
      "SLIM weight: 0.5871095817453331\n",
      "RP3b weight: 0.35216873493306095\n",
      "ItemKNN weight: 0.06072168332160601\n",
      "EvaluatorHoldout: Processed 34728 (100.0%) in 12.78 sec. Users per second: 2718\n",
      "EvaluatorHoldout: Processed 35209 (100.0%) in 13.86 sec. Users per second: 2541\n"
     ]
    },
    {
     "name": "stderr",
     "output_type": "stream",
     "text": [
      "[I 2024-12-18 02:37:18,035] Trial 208 finished with value: 0.031043074432413397 and parameters: {'x_0': 0.21966091993239878, 'x_1': 0.40286584345167453, 'x_2': 0.8549110361513708}. Best is trial 203 with value: 0.031075370772588123.\n"
     ]
    },
    {
     "name": "stdout",
     "output_type": "stream",
     "text": [
      "__________Iteration 209______________\n",
      "SLIM weight: 0.6110114525537843\n",
      "RP3b weight: 0.2792175092938954\n",
      "ItemKNN weight: 0.10977103815232027\n",
      "EvaluatorHoldout: Processed 34728 (100.0%) in 12.80 sec. Users per second: 2713\n",
      "EvaluatorHoldout: Processed 35209 (100.0%) in 13.85 sec. Users per second: 2541\n"
     ]
    },
    {
     "name": "stderr",
     "output_type": "stream",
     "text": [
      "[I 2024-12-18 02:37:44,787] Trial 209 finished with value: 0.03102752501983567 and parameters: {'x_0': 0.18779830129867853, 'x_1': 0.4656875114883293, 'x_2': 0.7404834251544161}. Best is trial 203 with value: 0.031075370772588123.\n"
     ]
    },
    {
     "name": "stdout",
     "output_type": "stream",
     "text": [
      "__________Iteration 210______________\n",
      "SLIM weight: 0.6699536755083244\n",
      "RP3b weight: 0.2686277147132225\n",
      "ItemKNN weight: 0.061418609778453176\n",
      "EvaluatorHoldout: Processed 34728 (100.0%) in 12.80 sec. Users per second: 2714\n",
      "EvaluatorHoldout: Processed 35209 (100.0%) in 13.82 sec. Users per second: 2547\n"
     ]
    },
    {
     "name": "stderr",
     "output_type": "stream",
     "text": [
      "[I 2024-12-18 02:38:11,500] Trial 210 finished with value: 0.031052952788654914 and parameters: {'x_0': 0.08542486657822909, 'x_1': 0.3729092175971843, 'x_2': 0.798090284892591}. Best is trial 203 with value: 0.031075370772588123.\n"
     ]
    },
    {
     "name": "stdout",
     "output_type": "stream",
     "text": [
      "__________Iteration 211______________\n",
      "SLIM weight: 0.6621529981162924\n",
      "RP3b weight: 0.27711150552905367\n",
      "ItemKNN weight: 0.06073549635465399\n",
      "EvaluatorHoldout: Processed 34728 (100.0%) in 12.79 sec. Users per second: 2715\n",
      "EvaluatorHoldout: Processed 35209 (100.0%) in 13.84 sec. Users per second: 2544\n"
     ]
    },
    {
     "name": "stderr",
     "output_type": "stream",
     "text": [
      "[I 2024-12-18 02:38:38,221] Trial 211 finished with value: 0.031043900580656633 and parameters: {'x_0': 0.09124650782124644, 'x_1': 0.3671552599170231, 'x_2': 0.8028355611911397}. Best is trial 203 with value: 0.031075370772588123.\n"
     ]
    },
    {
     "name": "stdout",
     "output_type": "stream",
     "text": [
      "__________Iteration 212______________\n",
      "SLIM weight: 0.6363841187262694\n",
      "RP3b weight: 0.3105956828800306\n",
      "ItemKNN weight: 0.05302019839369989\n",
      "EvaluatorHoldout: Processed 34728 (100.0%) in 12.78 sec. Users per second: 2717\n",
      "EvaluatorHoldout: Processed 35209 (100.0%) in 13.81 sec. Users per second: 2550\n"
     ]
    },
    {
     "name": "stderr",
     "output_type": "stream",
     "text": [
      "[I 2024-12-18 02:39:04,902] Trial 212 finished with value: 0.031022439009005 and parameters: {'x_0': 0.11398094649601022, 'x_1': 0.3464770828783199, 'x_2': 0.8344881880844098}. Best is trial 203 with value: 0.031075370772588123.\n"
     ]
    },
    {
     "name": "stdout",
     "output_type": "stream",
     "text": [
      "__________Iteration 213______________\n",
      "SLIM weight: 0.7129465289268717\n",
      "RP3b weight: 0.2299198069939371\n",
      "ItemKNN weight: 0.057133664079191335\n",
      "EvaluatorHoldout: Processed 34728 (100.0%) in 12.76 sec. Users per second: 2722\n",
      "EvaluatorHoldout: Processed 35209 (100.0%) in 13.83 sec. Users per second: 2545\n"
     ]
    },
    {
     "name": "stderr",
     "output_type": "stream",
     "text": [
      "[I 2024-12-18 02:39:31,590] Trial 213 finished with value: 0.03102747474248755 and parameters: {'x_0': 0.048565395017143353, 'x_1': 0.37700791936995504, 'x_2': 0.7847398133197018}. Best is trial 203 with value: 0.031075370772588123.\n"
     ]
    },
    {
     "name": "stdout",
     "output_type": "stream",
     "text": [
      "__________Iteration 214______________\n",
      "SLIM weight: 0.6440819205366509\n",
      "RP3b weight: 0.28923052520978093\n",
      "ItemKNN weight: 0.06668755425356816\n",
      "EvaluatorHoldout: Processed 34728 (100.0%) in 12.81 sec. Users per second: 2711\n",
      "EvaluatorHoldout: Processed 35209 (100.0%) in 13.84 sec. Users per second: 2544\n"
     ]
    },
    {
     "name": "stderr",
     "output_type": "stream",
     "text": [
      "[I 2024-12-18 02:39:58,335] Trial 214 finished with value: 0.03104090107977359 and parameters: {'x_0': 0.07724997418995105, 'x_1': 0.3166658185302468, 'x_2': 0.7671038846141764}. Best is trial 203 with value: 0.031075370772588123.\n"
     ]
    },
    {
     "name": "stdout",
     "output_type": "stream",
     "text": [
      "__________Iteration 215______________\n",
      "SLIM weight: 0.4958993852855891\n",
      "RP3b weight: 0.4318823243075143\n",
      "ItemKNN weight: 0.0722182904068966\n",
      "EvaluatorHoldout: Processed 34728 (100.0%) in 12.82 sec. Users per second: 2710\n",
      "EvaluatorHoldout: Processed 35209 (100.0%) in 13.82 sec. Users per second: 2547\n"
     ]
    },
    {
     "name": "stderr",
     "output_type": "stream",
     "text": [
      "[I 2024-12-18 02:40:25,066] Trial 215 finished with value: 0.031028074642664133 and parameters: {'x_0': 0.23210238588392262, 'x_1': 0.28026303926109103, 'x_2': 0.808394460195949}. Best is trial 203 with value: 0.031075370772588123.\n"
     ]
    },
    {
     "name": "stdout",
     "output_type": "stream",
     "text": [
      "__________Iteration 216______________\n",
      "SLIM weight: 0.6311861534564012\n",
      "RP3b weight: 0.3038262859376817\n",
      "ItemKNN weight: 0.064987560605917\n",
      "EvaluatorHoldout: Processed 34728 (100.0%) in 12.81 sec. Users per second: 2712\n",
      "EvaluatorHoldout: Processed 35209 (100.0%) in 13.81 sec. Users per second: 2550\n"
     ]
    },
    {
     "name": "stderr",
     "output_type": "stream",
     "text": [
      "[I 2024-12-18 02:40:51,769] Trial 216 finished with value: 0.031024399825582267 and parameters: {'x_0': 0.1010463324165104, 'x_1': 0.33175566683106217, 'x_2': 0.7897769164119058}. Best is trial 203 with value: 0.031075370772588123.\n"
     ]
    },
    {
     "name": "stdout",
     "output_type": "stream",
     "text": [
      "__________Iteration 217______________\n",
      "SLIM weight: 0.7512559473556344\n",
      "RP3b weight: 0.2034548342279981\n",
      "ItemKNN weight: 0.045289218416367454\n",
      "EvaluatorHoldout: Processed 34728 (100.0%) in 12.75 sec. Users per second: 2724\n",
      "EvaluatorHoldout: Processed 35209 (100.0%) in 13.88 sec. Users per second: 2537\n"
     ]
    },
    {
     "name": "stderr",
     "output_type": "stream",
     "text": [
      "[I 2024-12-18 02:41:18,491] Trial 217 finished with value: 0.03100910065707825 and parameters: {'x_0': 0.04357746721387988, 'x_1': 0.42804110517804966, 'x_2': 0.827881837652647}. Best is trial 203 with value: 0.031075370772588123.\n"
     ]
    },
    {
     "name": "stdout",
     "output_type": "stream",
     "text": [
      "__________Iteration 218______________\n",
      "SLIM weight: 0.7215321619132662\n",
      "RP3b weight: 0.1986521476458649\n",
      "ItemKNN weight: 0.07981569044086893\n",
      "EvaluatorHoldout: Processed 34728 (100.0%) in 12.74 sec. Users per second: 2726\n",
      "EvaluatorHoldout: Processed 35209 (100.0%) in 13.80 sec. Users per second: 2551\n"
     ]
    },
    {
     "name": "stderr",
     "output_type": "stream",
     "text": [
      "[I 2024-12-18 02:41:45,133] Trial 218 finished with value: 0.030983330088158092 and parameters: {'x_0': 0.07800313827907818, 'x_1': 0.49542330316325245, 'x_2': 0.7541291717556131}. Best is trial 203 with value: 0.031075370772588123.\n"
     ]
    },
    {
     "name": "stdout",
     "output_type": "stream",
     "text": [
      "__________Iteration 219______________\n",
      "SLIM weight: 0.34240358208521054\n",
      "RP3b weight: 0.49410474436538104\n",
      "ItemKNN weight: 0.16349167354940852\n",
      "EvaluatorHoldout: Processed 34728 (100.0%) in 12.76 sec. Users per second: 2721\n",
      "EvaluatorHoldout: Processed 35209 (100.0%) in 13.80 sec. Users per second: 2551\n"
     ]
    },
    {
     "name": "stderr",
     "output_type": "stream",
     "text": [
      "[I 2024-12-18 02:42:11,795] Trial 219 finished with value: 0.03081585852685448 and parameters: {'x_0': 0.48853515772424516, 'x_1': 0.3556819240799479, 'x_2': 0.7103186878980782}. Best is trial 203 with value: 0.031075370772588123.\n"
     ]
    },
    {
     "name": "stdout",
     "output_type": "stream",
     "text": [
      "__________Iteration 220______________\n",
      "SLIM weight: 0.5006472397045364\n",
      "RP3b weight: 0.3641590168956866\n",
      "ItemKNN weight: 0.135193743399777\n",
      "EvaluatorHoldout: Processed 34728 (100.0%) in 12.73 sec. Users per second: 2727\n",
      "EvaluatorHoldout: Processed 35209 (100.0%) in 13.84 sec. Users per second: 2544\n"
     ]
    },
    {
     "name": "stderr",
     "output_type": "stream",
     "text": [
      "[I 2024-12-18 02:42:38,461] Trial 220 finished with value: 0.03100040724651897 and parameters: {'x_0': 0.5668994240866887, 'x_1': 0.661768480727911, 'x_2': 0.857901199750642}. Best is trial 203 with value: 0.031075370772588123.\n"
     ]
    },
    {
     "name": "stdout",
     "output_type": "stream",
     "text": [
      "__________Iteration 221______________\n",
      "SLIM weight: 0.6886648222225691\n",
      "RP3b weight: 0.24510486881779348\n",
      "ItemKNN weight: 0.06623030895963739\n",
      "EvaluatorHoldout: Processed 34728 (100.0%) in 12.75 sec. Users per second: 2724\n",
      "EvaluatorHoldout: Processed 35209 (100.0%) in 13.86 sec. Users per second: 2541\n"
     ]
    },
    {
     "name": "stderr",
     "output_type": "stream",
     "text": [
      "[I 2024-12-18 02:43:05,157] Trial 221 finished with value: 0.03107112347933776 and parameters: {'x_0': 0.07655278402365437, 'x_1': 0.4006701936675181, 'x_2': 0.7810309399438008}. Best is trial 203 with value: 0.031075370772588123.\n"
     ]
    },
    {
     "name": "stdout",
     "output_type": "stream",
     "text": [
      "__________Iteration 222______________\n",
      "SLIM weight: 0.7138970264998549\n",
      "RP3b weight: 0.23132932223638952\n",
      "ItemKNN weight: 0.05477365126375566\n",
      "EvaluatorHoldout: Processed 34728 (100.0%) in 12.71 sec. Users per second: 2731\n",
      "EvaluatorHoldout: Processed 35209 (100.0%) in 13.82 sec. Users per second: 2547\n"
     ]
    },
    {
     "name": "stderr",
     "output_type": "stream",
     "text": [
      "[I 2024-12-18 02:43:31,794] Trial 222 finished with value: 0.031032485337295995 and parameters: {'x_0': 0.060141333344361975, 'x_1': 0.40216700243205933, 'x_2': 0.8059947634181588}. Best is trial 203 with value: 0.031075370772588123.\n"
     ]
    },
    {
     "name": "stdout",
     "output_type": "stream",
     "text": [
      "__________Iteration 223______________\n",
      "SLIM weight: 0.662459682304743\n",
      "RP3b weight: 0.26747735347890467\n",
      "ItemKNN weight: 0.0700629642163523\n",
      "EvaluatorHoldout: Processed 34728 (100.0%) in 12.76 sec. Users per second: 2721\n",
      "EvaluatorHoldout: Processed 35209 (100.0%) in 13.84 sec. Users per second: 2544\n"
     ]
    },
    {
     "name": "stderr",
     "output_type": "stream",
     "text": [
      "[I 2024-12-18 02:43:58,488] Trial 223 finished with value: 0.0310705567165042 and parameters: {'x_0': 0.08853433811822085, 'x_1': 0.3757350024684295, 'x_2': 0.7738282601136174}. Best is trial 203 with value: 0.031075370772588123.\n"
     ]
    },
    {
     "name": "stdout",
     "output_type": "stream",
     "text": [
      "__________Iteration 224______________\n",
      "SLIM weight: 0.6959656340283071\n",
      "RP3b weight: 0.2408939414902413\n",
      "ItemKNN weight: 0.06314042448145156\n",
      "EvaluatorHoldout: Processed 34728 (100.0%) in 12.77 sec. Users per second: 2719\n",
      "EvaluatorHoldout: Processed 35209 (100.0%) in 13.85 sec. Users per second: 2542\n"
     ]
    },
    {
     "name": "stderr",
     "output_type": "stream",
     "text": [
      "[I 2024-12-18 02:44:25,205] Trial 224 finished with value: 0.031061863305944893 and parameters: {'x_0': 0.06308424173887536, 'x_1': 0.3842534063823112, 'x_2': 0.7782598863044632}. Best is trial 203 with value: 0.031075370772588123.\n"
     ]
    },
    {
     "name": "stdout",
     "output_type": "stream",
     "text": [
      "__________Iteration 225______________\n",
      "SLIM weight: 0.7583740924062173\n",
      "RP3b weight: 0.1911979603299489\n",
      "ItemKNN weight: 0.0504279472638338\n",
      "EvaluatorHoldout: Processed 34728 (100.0%) in 12.71 sec. Users per second: 2732\n",
      "EvaluatorHoldout: Processed 35209 (100.0%) in 13.77 sec. Users per second: 2556\n"
     ]
    },
    {
     "name": "stderr",
     "output_type": "stream",
     "text": [
      "[I 2024-12-18 02:44:51,784] Trial 225 finished with value: 0.030989333660592203 and parameters: {'x_0': 0.02042791266411357, 'x_1': 0.37495665070508727, 'x_2': 0.7720379553579901}. Best is trial 203 with value: 0.031075370772588123.\n"
     ]
    },
    {
     "name": "stdout",
     "output_type": "stream",
     "text": [
      "__________Iteration 226______________\n",
      "SLIM weight: 0.7015206600185289\n",
      "RP3b weight: 0.24036363994500196\n",
      "ItemKNN weight: 0.05811570003646905\n",
      "EvaluatorHoldout: Processed 34728 (100.0%) in 12.83 sec. Users per second: 2706\n",
      "EvaluatorHoldout: Processed 35209 (100.0%) in 13.82 sec. Users per second: 2548\n"
     ]
    },
    {
     "name": "stderr",
     "output_type": "stream",
     "text": [
      "[I 2024-12-18 02:45:18,531] Trial 226 finished with value: 0.03104588196523998 and parameters: {'x_0': 0.05919174761861808, 'x_1': 0.3796094485839667, 'x_2': 0.7912087646561307}. Best is trial 203 with value: 0.031075370772588123.\n"
     ]
    },
    {
     "name": "stdout",
     "output_type": "stream",
     "text": [
      "__________Iteration 227______________\n",
      "SLIM weight: 0.7381946902315711\n",
      "RP3b weight: 0.20005566982481435\n",
      "ItemKNN weight: 0.06174963994361447\n",
      "EvaluatorHoldout: Processed 34728 (100.0%) in 12.72 sec. Users per second: 2730\n",
      "EvaluatorHoldout: Processed 35209 (100.0%) in 13.84 sec. Users per second: 2544\n"
     ]
    },
    {
     "name": "stderr",
     "output_type": "stream",
     "text": [
      "[I 2024-12-18 02:45:45,188] Trial 227 finished with value: 0.03101325425163435 and parameters: {'x_0': 0.037823754607800644, 'x_1': 0.4116847305652981, 'x_2': 0.7603799878632949}. Best is trial 203 with value: 0.031075370772588123.\n"
     ]
    },
    {
     "name": "stdout",
     "output_type": "stream",
     "text": [
      "__________Iteration 228______________\n",
      "SLIM weight: 0.6543841627797448\n",
      "RP3b weight: 0.2799174373708149\n",
      "ItemKNN weight: 0.0656983998494403\n",
      "EvaluatorHoldout: Processed 34728 (100.0%) in 12.79 sec. Users per second: 2716\n",
      "EvaluatorHoldout: Processed 35209 (100.0%) in 13.77 sec. Users per second: 2556\n"
     ]
    },
    {
     "name": "stderr",
     "output_type": "stream",
     "text": [
      "[I 2024-12-18 02:46:11,845] Trial 228 finished with value: 0.031036648073188164 and parameters: {'x_0': 0.08637115736940212, 'x_1': 0.3507714453652205, 'x_2': 0.7820135866167212}. Best is trial 203 with value: 0.031075370772588123.\n"
     ]
    },
    {
     "name": "stdout",
     "output_type": "stream",
     "text": [
      "__________Iteration 229______________\n",
      "SLIM weight: 0.6860542996290581\n",
      "RP3b weight: 0.24030014039798203\n",
      "ItemKNN weight: 0.07364555997295986\n",
      "EvaluatorHoldout: Processed 34728 (100.0%) in 12.74 sec. Users per second: 2726\n",
      "EvaluatorHoldout: Processed 35209 (100.0%) in 13.80 sec. Users per second: 2552\n"
     ]
    },
    {
     "name": "stderr",
     "output_type": "stream",
     "text": [
      "[I 2024-12-18 02:46:38,473] Trial 229 finished with value: 0.031057003543180823 and parameters: {'x_0': 0.0644566430099783, 'x_1': 0.38276243250673553, 'x_2': 0.7450389838803727}. Best is trial 203 with value: 0.031075370772588123.\n"
     ]
    },
    {
     "name": "stdout",
     "output_type": "stream",
     "text": [
      "__________Iteration 230______________\n",
      "SLIM weight: 0.6584248090983733\n",
      "RP3b weight: 0.2634139279188926\n",
      "ItemKNN weight: 0.07816126298273407\n",
      "EvaluatorHoldout: Processed 34728 (100.0%) in 12.72 sec. Users per second: 2730\n",
      "EvaluatorHoldout: Processed 35209 (100.0%) in 13.82 sec. Users per second: 2547\n"
     ]
    },
    {
     "name": "stderr",
     "output_type": "stream",
     "text": [
      "[I 2024-12-18 02:47:05,108] Trial 230 finished with value: 0.03107075668322972 and parameters: {'x_0': 0.07911919531108344, 'x_1': 0.36244249710311877, 'x_2': 0.7399725661169925}. Best is trial 203 with value: 0.031075370772588123.\n"
     ]
    },
    {
     "name": "stdout",
     "output_type": "stream",
     "text": [
      "__________Iteration 231______________\n",
      "SLIM weight: 0.6466071028958833\n",
      "RP3b weight: 0.27124543875782037\n",
      "ItemKNN weight: 0.08214745834629635\n",
      "EvaluatorHoldout: Processed 34728 (100.0%) in 12.71 sec. Users per second: 2732\n",
      "EvaluatorHoldout: Processed 35209 (100.0%) in 13.81 sec. Users per second: 2549\n"
     ]
    },
    {
     "name": "stderr",
     "output_type": "stream",
     "text": [
      "[I 2024-12-18 02:47:31,728] Trial 231 finished with value: 0.031064869662829946 and parameters: {'x_0': 0.08689113223301576, 'x_1': 0.3588479294500342, 'x_2': 0.7331677491915254}. Best is trial 203 with value: 0.031075370772588123.\n"
     ]
    },
    {
     "name": "stdout",
     "output_type": "stream",
     "text": [
      "__________Iteration 232______________\n",
      "SLIM weight: 0.6584600081633953\n",
      "RP3b weight: 0.2613492498918903\n",
      "ItemKNN weight: 0.08019074194471446\n",
      "EvaluatorHoldout: Processed 34728 (100.0%) in 12.72 sec. Users per second: 2730\n",
      "EvaluatorHoldout: Processed 35209 (100.0%) in 13.80 sec. Users per second: 2552\n"
     ]
    },
    {
     "name": "stderr",
     "output_type": "stream",
     "text": [
      "[I 2024-12-18 02:47:58,342] Trial 232 finished with value: 0.031059336869201083 and parameters: {'x_0': 0.08035387097787015, 'x_1': 0.3676092547939178, 'x_2': 0.7356071431646614}. Best is trial 203 with value: 0.031075370772588123.\n"
     ]
    },
    {
     "name": "stdout",
     "output_type": "stream",
     "text": [
      "__________Iteration 233______________\n",
      "SLIM weight: 0.6590073730658704\n",
      "RP3b weight: 0.26338502898556304\n",
      "ItemKNN weight: 0.07760759794856655\n",
      "EvaluatorHoldout: Processed 34728 (100.0%) in 12.73 sec. Users per second: 2728\n",
      "EvaluatorHoldout: Processed 35209 (100.0%) in 13.80 sec. Users per second: 2552\n"
     ]
    },
    {
     "name": "stderr",
     "output_type": "stream",
     "text": [
      "[I 2024-12-18 02:48:24,962] Trial 233 finished with value: 0.03106763148897633 and parameters: {'x_0': 0.0701784388759715, 'x_1': 0.34583028138285105, 'x_2': 0.7313476812071089}. Best is trial 203 with value: 0.031075370772588123.\n"
     ]
    },
    {
     "name": "stdout",
     "output_type": "stream",
     "text": [
      "__________Iteration 234______________\n",
      "SLIM weight: 0.6541389004182929\n",
      "RP3b weight: 0.2667637295996394\n",
      "ItemKNN weight: 0.07909736998206776\n",
      "EvaluatorHoldout: Processed 34728 (100.0%) in 12.75 sec. Users per second: 2724\n",
      "EvaluatorHoldout: Processed 35209 (100.0%) in 13.83 sec. Users per second: 2546\n"
     ]
    },
    {
     "name": "stderr",
     "output_type": "stream",
     "text": [
      "[I 2024-12-18 02:48:51,634] Trial 234 finished with value: 0.031065463849671526 and parameters: {'x_0': 0.07265415311548984, 'x_1': 0.34325096187219123, 'x_2': 0.7282919977564353}. Best is trial 203 with value: 0.031075370772588123.\n"
     ]
    },
    {
     "name": "stdout",
     "output_type": "stream",
     "text": [
      "__________Iteration 235______________\n",
      "SLIM weight: 0.6529377486759456\n",
      "RP3b weight: 0.2552866262320386\n",
      "ItemKNN weight: 0.09177562509201584\n",
      "EvaluatorHoldout: Processed 34728 (100.0%) in 12.72 sec. Users per second: 2730\n",
      "EvaluatorHoldout: Processed 35209 (100.0%) in 13.84 sec. Users per second: 2543\n"
     ]
    },
    {
     "name": "stderr",
     "output_type": "stream",
     "text": [
      "[I 2024-12-18 02:49:18,301] Trial 235 finished with value: 0.031048005040531637 and parameters: {'x_0': 0.07200052119480455, 'x_1': 0.35746974817651633, 'x_2': 0.6908589387714117}. Best is trial 203 with value: 0.031075370772588123.\n"
     ]
    },
    {
     "name": "stdout",
     "output_type": "stream",
     "text": [
      "__________Iteration 236______________\n",
      "SLIM weight: 0.6108827096766558\n",
      "RP3b weight: 0.30367422298840785\n",
      "ItemKNN weight: 0.08544306733493628\n",
      "EvaluatorHoldout: Processed 34728 (100.0%) in 12.72 sec. Users per second: 2730\n",
      "EvaluatorHoldout: Processed 35209 (100.0%) in 13.78 sec. Users per second: 2554\n"
     ]
    },
    {
     "name": "stderr",
     "output_type": "stream",
     "text": [
      "[I 2024-12-18 02:49:44,899] Trial 236 finished with value: 0.031030684494099167 and parameters: {'x_0': 0.10578807303796617, 'x_1': 0.3273711585423828, 'x_2': 0.7303814160953948}. Best is trial 203 with value: 0.031075370772588123.\n"
     ]
    },
    {
     "name": "stdout",
     "output_type": "stream",
     "text": [
      "__________Iteration 237______________\n",
      "SLIM weight: 0.7025596016143509\n",
      "RP3b weight: 0.23074788678484523\n",
      "ItemKNN weight: 0.06669251160080386\n",
      "EvaluatorHoldout: Processed 34728 (100.0%) in 12.73 sec. Users per second: 2728\n",
      "EvaluatorHoldout: Processed 35209 (100.0%) in 13.77 sec. Users per second: 2557\n"
     ]
    },
    {
     "name": "stderr",
     "output_type": "stream",
     "text": [
      "[I 2024-12-18 02:50:11,494] Trial 237 finished with value: 0.03105607684024136 and parameters: {'x_0': 0.03602756874783652, 'x_1': 0.33569340195530456, 'x_2': 0.7294312734240902}. Best is trial 203 with value: 0.031075370772588123.\n"
     ]
    },
    {
     "name": "stdout",
     "output_type": "stream",
     "text": [
      "__________Iteration 238______________\n",
      "SLIM weight: 0.6713275704876589\n",
      "RP3b weight: 0.24588510761281754\n",
      "ItemKNN weight: 0.08278732189952355\n",
      "EvaluatorHoldout: Processed 34728 (100.0%) in 12.77 sec. Users per second: 2720\n",
      "EvaluatorHoldout: Processed 35209 (100.0%) in 13.78 sec. Users per second: 2556\n"
     ]
    },
    {
     "name": "stderr",
     "output_type": "stream",
     "text": [
      "[I 2024-12-18 02:50:38,133] Trial 238 finished with value: 0.03104261850827922 and parameters: {'x_0': 0.04008160737721267, 'x_1': 0.3078257606468424, 'x_2': 0.6725380276716697}. Best is trial 203 with value: 0.031075370772588123.\n"
     ]
    },
    {
     "name": "stdout",
     "output_type": "stream",
     "text": [
      "__________Iteration 239______________\n",
      "SLIM weight: 0.7505082739084443\n",
      "RP3b weight: 0.1901871701173785\n",
      "ItemKNN weight: 0.05930455597417723\n",
      "EvaluatorHoldout: Processed 34728 (100.0%) in 12.72 sec. Users per second: 2730\n",
      "EvaluatorHoldout: Processed 35209 (100.0%) in 13.79 sec. Users per second: 2553\n"
     ]
    },
    {
     "name": "stderr",
     "output_type": "stream",
     "text": [
      "[I 2024-12-18 02:51:04,736] Trial 239 finished with value: 0.030985585712822145 and parameters: {'x_0': 0.013692668796643617, 'x_1': 0.3371050775299338, 'x_2': 0.7124375462127633}. Best is trial 203 with value: 0.031075370772588123.\n"
     ]
    },
    {
     "name": "stdout",
     "output_type": "stream",
     "text": [
      "__________Iteration 240______________\n",
      "SLIM weight: 0.6932663161577105\n",
      "RP3b weight: 0.23728353537379382\n",
      "ItemKNN weight: 0.06945014846849572\n",
      "EvaluatorHoldout: Processed 34728 (100.0%) in 12.77 sec. Users per second: 2720\n",
      "EvaluatorHoldout: Processed 35209 (100.0%) in 13.98 sec. Users per second: 2519\n"
     ]
    },
    {
     "name": "stderr",
     "output_type": "stream",
     "text": [
      "[I 2024-12-18 02:51:31,574] Trial 240 finished with value: 0.031054142305005146 and parameters: {'x_0': 0.04626290611332991, 'x_1': 0.349261461776347, 'x_2': 0.734996854088167}. Best is trial 203 with value: 0.031075370772588123.\n"
     ]
    },
    {
     "name": "stdout",
     "output_type": "stream",
     "text": [
      "__________Iteration 241______________\n",
      "SLIM weight: 0.6671788085988276\n",
      "RP3b weight: 0.25464027375564857\n",
      "ItemKNN weight: 0.07818091764552376\n",
      "EvaluatorHoldout: Processed 34728 (100.0%) in 12.82 sec. Users per second: 2709\n",
      "EvaluatorHoldout: Processed 35209 (100.0%) in 13.96 sec. Users per second: 2522\n"
     ]
    },
    {
     "name": "stderr",
     "output_type": "stream",
     "text": [
      "[I 2024-12-18 02:51:58,448] Trial 241 finished with value: 0.031054351413066682 and parameters: {'x_0': 0.07228894312559407, 'x_1': 0.36689783328627606, 'x_2': 0.7350290352157225}. Best is trial 203 with value: 0.031075370772588123.\n"
     ]
    },
    {
     "name": "stdout",
     "output_type": "stream",
     "text": [
      "__________Iteration 242______________\n",
      "SLIM weight: 0.6179876642337323\n",
      "RP3b weight: 0.28940549850335623\n",
      "ItemKNN weight: 0.09260683726291151\n",
      "EvaluatorHoldout: Processed 34728 (100.0%) in 12.82 sec. Users per second: 2709\n",
      "EvaluatorHoldout: Processed 35209 (100.0%) in 13.90 sec. Users per second: 2533\n"
     ]
    },
    {
     "name": "stderr",
     "output_type": "stream",
     "text": [
      "[I 2024-12-18 02:52:25,261] Trial 242 finished with value: 0.031058539287632938 and parameters: {'x_0': 0.09016679554684254, 'x_1': 0.32407473038166446, 'x_2': 0.6972867217401706}. Best is trial 203 with value: 0.031075370772588123.\n"
     ]
    },
    {
     "name": "stdout",
     "output_type": "stream",
     "text": [
      "__________Iteration 243______________\n",
      "SLIM weight: 0.6169948063937056\n",
      "RP3b weight: 0.29330538406065004\n",
      "ItemKNN weight: 0.0896998095456443\n",
      "EvaluatorHoldout: Processed 34728 (100.0%) in 12.84 sec. Users per second: 2705\n",
      "EvaluatorHoldout: Processed 35209 (100.0%) in 13.92 sec. Users per second: 2530\n"
     ]
    },
    {
     "name": "stderr",
     "output_type": "stream",
     "text": [
      "[I 2024-12-18 02:52:52,108] Trial 243 finished with value: 0.031052109500406693 and parameters: {'x_0': 0.09338319006230618, 'x_1': 0.3239582314131847, 'x_2': 0.7084281679700547}. Best is trial 203 with value: 0.031075370772588123.\n"
     ]
    },
    {
     "name": "stdout",
     "output_type": "stream",
     "text": [
      "__________Iteration 244______________\n",
      "SLIM weight: 0.6127178356716088\n",
      "RP3b weight: 0.29010945368292895\n",
      "ItemKNN weight: 0.09717271064546232\n",
      "EvaluatorHoldout: Processed 34728 (100.0%) in 12.82 sec. Users per second: 2710\n",
      "EvaluatorHoldout: Processed 35209 (100.0%) in 13.91 sec. Users per second: 2531\n"
     ]
    },
    {
     "name": "stderr",
     "output_type": "stream",
     "text": [
      "[I 2024-12-18 02:53:18,928] Trial 244 finished with value: 0.031059796221336318 and parameters: {'x_0': 0.10344987933721557, 'x_1': 0.3415817473926101, 'x_2': 0.6978195814167726}. Best is trial 203 with value: 0.031075370772588123.\n"
     ]
    },
    {
     "name": "stdout",
     "output_type": "stream",
     "text": [
      "__________Iteration 245______________\n",
      "SLIM weight: 0.6071722712283935\n",
      "RP3b weight: 0.29336712855303393\n",
      "ItemKNN weight: 0.09946060021857261\n",
      "EvaluatorHoldout: Processed 34728 (100.0%) in 12.80 sec. Users per second: 2712\n",
      "EvaluatorHoldout: Processed 35209 (100.0%) in 13.90 sec. Users per second: 2532\n"
     ]
    },
    {
     "name": "stderr",
     "output_type": "stream",
     "text": [
      "[I 2024-12-18 02:53:45,730] Trial 245 finished with value: 0.031054914747899214 and parameters: {'x_0': 0.10698703857538991, 'x_1': 0.3396271616439684, 'x_2': 0.693418143981927}. Best is trial 203 with value: 0.031075370772588123.\n"
     ]
    },
    {
     "name": "stdout",
     "output_type": "stream",
     "text": [
      "__________Iteration 246______________\n",
      "SLIM weight: 0.6305419195268351\n",
      "RP3b weight: 0.2874910895085422\n",
      "ItemKNN weight: 0.08196699096462269\n",
      "EvaluatorHoldout: Processed 34728 (100.0%) in 12.79 sec. Users per second: 2716\n",
      "EvaluatorHoldout: Processed 35209 (100.0%) in 13.95 sec. Users per second: 2525\n"
     ]
    },
    {
     "name": "stderr",
     "output_type": "stream",
     "text": [
      "[I 2024-12-18 02:54:12,559] Trial 246 finished with value: 0.031048412972651696 and parameters: {'x_0': 0.07781850964395577, 'x_1': 0.3121743126353492, 'x_2': 0.7175412299130441}. Best is trial 203 with value: 0.031075370772588123.\n"
     ]
    },
    {
     "name": "stdout",
     "output_type": "stream",
     "text": [
      "__________Iteration 247______________\n",
      "SLIM weight: 0.6817915823187759\n",
      "RP3b weight: 0.2235508367986161\n",
      "ItemKNN weight: 0.09465758088260787\n",
      "EvaluatorHoldout: Processed 34728 (100.0%) in 12.82 sec. Users per second: 2709\n",
      "EvaluatorHoldout: Processed 35209 (100.0%) in 13.94 sec. Users per second: 2525\n"
     ]
    },
    {
     "name": "stderr",
     "output_type": "stream",
     "text": [
      "[I 2024-12-18 02:54:39,418] Trial 247 finished with value: 0.031038170105636313 and parameters: {'x_0': 0.05234220930393086, 'x_1': 0.38012618812939913, 'x_2': 0.6639415649294992}. Best is trial 203 with value: 0.031075370772588123.\n"
     ]
    },
    {
     "name": "stdout",
     "output_type": "stream",
     "text": [
      "__________Iteration 248______________\n",
      "SLIM weight: 0.6378450473343245\n",
      "RP3b weight: 0.28139031082130117\n",
      "ItemKNN weight: 0.08076464184437446\n",
      "EvaluatorHoldout: Processed 34728 (100.0%) in 12.81 sec. Users per second: 2712\n",
      "EvaluatorHoldout: Processed 35209 (100.0%) in 13.94 sec. Users per second: 2525\n"
     ]
    },
    {
     "name": "stderr",
     "output_type": "stream",
     "text": [
      "[I 2024-12-18 02:55:06,261] Trial 248 finished with value: 0.031052815668614547 and parameters: {'x_0': 0.09236603056530315, 'x_1': 0.3496452919616529, 'x_2': 0.7396257564538116}. Best is trial 203 with value: 0.031075370772588123.\n"
     ]
    },
    {
     "name": "stdout",
     "output_type": "stream",
     "text": [
      "__________Iteration 249______________\n",
      "SLIM weight: 0.590627999503851\n",
      "RP3b weight: 0.3168777625559606\n",
      "ItemKNN weight: 0.09249423794018834\n",
      "EvaluatorHoldout: Processed 34728 (100.0%) in 12.78 sec. Users per second: 2717\n",
      "EvaluatorHoldout: Processed 35209 (100.0%) in 13.91 sec. Users per second: 2531\n"
     ]
    },
    {
     "name": "stderr",
     "output_type": "stream",
     "text": [
      "[I 2024-12-18 02:55:33,052] Trial 249 finished with value: 0.03100933033314583 and parameters: {'x_0': 0.12602728576991967, 'x_1': 0.32914734260361284, 'x_2': 0.7229859711403244}. Best is trial 203 with value: 0.031075370772588123.\n"
     ]
    },
    {
     "name": "stdout",
     "output_type": "stream",
     "text": [
      "__________Iteration 250______________\n",
      "SLIM weight: 0.745191453536826\n",
      "RP3b weight: 0.18433136646969944\n",
      "ItemKNN weight: 0.07047717999347451\n",
      "EvaluatorHoldout: Processed 34728 (100.0%) in 12.81 sec. Users per second: 2710\n",
      "EvaluatorHoldout: Processed 35209 (100.0%) in 13.91 sec. Users per second: 2531\n"
     ]
    },
    {
     "name": "stderr",
     "output_type": "stream",
     "text": [
      "[I 2024-12-18 02:55:59,869] Trial 250 finished with value: 0.030973041514462382 and parameters: {'x_0': 0.023428924899167647, 'x_1': 0.39513015518191524, 'x_2': 0.701161080901456}. Best is trial 203 with value: 0.031075370772588123.\n"
     ]
    },
    {
     "name": "stdout",
     "output_type": "stream",
     "text": [
      "__________Iteration 251______________\n",
      "SLIM weight: 0.6728202427192556\n",
      "RP3b weight: 0.25101356783878714\n",
      "ItemKNN weight: 0.07616618944195734\n",
      "EvaluatorHoldout: Processed 34728 (100.0%) in 12.82 sec. Users per second: 2709\n",
      "EvaluatorHoldout: Processed 35209 (100.0%) in 13.92 sec. Users per second: 2528\n"
     ]
    },
    {
     "name": "stderr",
     "output_type": "stream",
     "text": [
      "[I 2024-12-18 02:56:26,710] Trial 251 finished with value: 0.03105188096700607 and parameters: {'x_0': 0.06602732434448444, 'x_1': 0.36279925896160303, 'x_2': 0.7351696483951538}. Best is trial 203 with value: 0.031075370772588123.\n"
     ]
    },
    {
     "name": "stdout",
     "output_type": "stream",
     "text": [
      "__________Iteration 252______________\n",
      "SLIM weight: 0.6425957656489448\n",
      "RP3b weight: 0.2585609245179298\n",
      "ItemKNN weight: 0.09884330983312534\n",
      "EvaluatorHoldout: Processed 34728 (100.0%) in 12.80 sec. Users per second: 2714\n",
      "EvaluatorHoldout: Processed 35209 (100.0%) in 13.96 sec. Users per second: 2523\n"
     ]
    },
    {
     "name": "stderr",
     "output_type": "stream",
     "text": [
      "[I 2024-12-18 02:56:53,554] Trial 252 finished with value: 0.03103516032075014 and parameters: {'x_0': 0.08929273905457401, 'x_1': 0.3783035678093329, 'x_2': 0.6896294478607101}. Best is trial 203 with value: 0.031075370772588123.\n"
     ]
    },
    {
     "name": "stdout",
     "output_type": "stream",
     "text": [
      "__________Iteration 253______________\n",
      "SLIM weight: 0.6930276406003424\n",
      "RP3b weight: 0.2491960233474943\n",
      "ItemKNN weight: 0.0577763360521633\n",
      "EvaluatorHoldout: Processed 34728 (100.0%) in 12.88 sec. Users per second: 2697\n",
      "EvaluatorHoldout: Processed 35209 (100.0%) in 13.93 sec. Users per second: 2528\n"
     ]
    },
    {
     "name": "stderr",
     "output_type": "stream",
     "text": [
      "[I 2024-12-18 02:57:20,452] Trial 253 finished with value: 0.03105952540925662 and parameters: {'x_0': 0.036514159303726035, 'x_1': 0.3041555600221675, 'x_2': 0.7588488112968665}. Best is trial 203 with value: 0.031075370772588123.\n"
     ]
    },
    {
     "name": "stdout",
     "output_type": "stream",
     "text": [
      "__________Iteration 254______________\n",
      "SLIM weight: 0.6051689811466214\n",
      "RP3b weight: 0.3149039704112671\n",
      "ItemKNN weight: 0.07992704844211128\n",
      "EvaluatorHoldout: Processed 34728 (100.0%) in 12.78 sec. Users per second: 2718\n",
      "EvaluatorHoldout: Processed 35209 (100.0%) in 13.93 sec. Users per second: 2527\n"
     ]
    },
    {
     "name": "stderr",
     "output_type": "stream",
     "text": [
      "[I 2024-12-18 02:57:47,260] Trial 254 finished with value: 0.031009893667978322 and parameters: {'x_0': 0.10965973781475716, 'x_1': 0.3165787467047837, 'x_2': 0.7468188257723027}. Best is trial 203 with value: 0.031075370772588123.\n"
     ]
    },
    {
     "name": "stdout",
     "output_type": "stream",
     "text": [
      "__________Iteration 255______________\n",
      "SLIM weight: 0.6562266860933292\n",
      "RP3b weight: 0.27809047327031194\n",
      "ItemKNN weight: 0.06568284063635886\n",
      "EvaluatorHoldout: Processed 34728 (100.0%) in 12.83 sec. Users per second: 2708\n",
      "EvaluatorHoldout: Processed 35209 (100.0%) in 13.94 sec. Users per second: 2526\n"
     ]
    },
    {
     "name": "stderr",
     "output_type": "stream",
     "text": [
      "[I 2024-12-18 02:58:14,121] Trial 255 finished with value: 0.031032055694502837 and parameters: {'x_0': 0.05753519333941855, 'x_1': 0.29819105613279917, 'x_2': 0.7514146379174067}. Best is trial 203 with value: 0.031075370772588123.\n"
     ]
    },
    {
     "name": "stdout",
     "output_type": "stream",
     "text": [
      "__________Iteration 256______________\n",
      "SLIM weight: 0.6574238530431138\n",
      "RP3b weight: 0.26917500598343475\n",
      "ItemKNN weight: 0.07340114097345155\n",
      "EvaluatorHoldout: Processed 34728 (100.0%) in 12.82 sec. Users per second: 2708\n",
      "EvaluatorHoldout: Processed 35209 (100.0%) in 13.91 sec. Users per second: 2531\n"
     ]
    },
    {
     "name": "stderr",
     "output_type": "stream",
     "text": [
      "[I 2024-12-18 02:58:40,951] Trial 256 finished with value: 0.031061006305692546 and parameters: {'x_0': 0.07700278682357445, 'x_1': 0.35001950161205736, 'x_2': 0.7510672716825195}. Best is trial 203 with value: 0.031075370772588123.\n"
     ]
    },
    {
     "name": "stdout",
     "output_type": "stream",
     "text": [
      "__________Iteration 257______________\n",
      "SLIM weight: 0.6817631361851275\n",
      "RP3b weight: 0.24126805457336867\n",
      "ItemKNN weight: 0.07696880924150379\n",
      "EvaluatorHoldout: Processed 34728 (100.0%) in 12.83 sec. Users per second: 2706\n",
      "EvaluatorHoldout: Processed 35209 (100.0%) in 13.92 sec. Users per second: 2529\n"
     ]
    },
    {
     "name": "stderr",
     "output_type": "stream",
     "text": [
      "[I 2024-12-18 02:59:07,796] Trial 257 finished with value: 0.03104920369821791 and parameters: {'x_0': 0.08031112618602515, 'x_1': 0.40964989506332905, 'x_2': 0.7522337088625718}. Best is trial 203 with value: 0.031075370772588123.\n"
     ]
    },
    {
     "name": "stdout",
     "output_type": "stream",
     "text": [
      "__________Iteration 258______________\n",
      "SLIM weight: 0.6073526778631092\n",
      "RP3b weight: 0.2941355764093436\n",
      "ItemKNN weight: 0.09851174572754717\n",
      "EvaluatorHoldout: Processed 34728 (100.0%) in 12.85 sec. Users per second: 2704\n",
      "EvaluatorHoldout: Processed 35209 (100.0%) in 13.91 sec. Users per second: 2530\n"
     ]
    },
    {
     "name": "stderr",
     "output_type": "stream",
     "text": [
      "[I 2024-12-18 02:59:34,647] Trial 258 finished with value: 0.031055098717286705 and parameters: {'x_0': 0.12041267449689551, 'x_1': 0.3587381868111055, 'x_2': 0.7093920725654809}. Best is trial 203 with value: 0.031075370772588123.\n"
     ]
    },
    {
     "name": "stdout",
     "output_type": "stream",
     "text": [
      "__________Iteration 259______________\n",
      "SLIM weight: 0.653640338271644\n",
      "RP3b weight: 0.26472750289543956\n",
      "ItemKNN weight: 0.0816321588329164\n",
      "EvaluatorHoldout: Processed 34728 (100.0%) in 12.79 sec. Users per second: 2715\n",
      "EvaluatorHoldout: Processed 35209 (100.0%) in 13.97 sec. Users per second: 2520\n"
     ]
    },
    {
     "name": "stderr",
     "output_type": "stream",
     "text": [
      "[I 2024-12-18 03:00:01,508] Trial 259 finished with value: 0.03105438226507579 and parameters: {'x_0': 0.09938275362486623, 'x_1': 0.3925600577826114, 'x_2': 0.7495069804366822}. Best is trial 203 with value: 0.031075370772588123.\n"
     ]
    },
    {
     "name": "stdout",
     "output_type": "stream",
     "text": [
      "__________Iteration 260______________\n",
      "SLIM weight: 0.6546005899923463\n",
      "RP3b weight: 0.26377010205519136\n",
      "ItemKNN weight: 0.08162930795246243\n",
      "EvaluatorHoldout: Processed 34728 (100.0%) in 12.82 sec. Users per second: 2710\n",
      "EvaluatorHoldout: Processed 35209 (100.0%) in 13.96 sec. Users per second: 2522\n"
     ]
    },
    {
     "name": "stderr",
     "output_type": "stream",
     "text": [
      "[I 2024-12-18 03:00:28,379] Trial 260 finished with value: 0.031054649649154515 and parameters: {'x_0': 0.0723430424771025, 'x_1': 0.34705318080503933, 'x_2': 0.7207185607627118}. Best is trial 203 with value: 0.031075370772588123.\n"
     ]
    },
    {
     "name": "stdout",
     "output_type": "stream",
     "text": [
      "__________Iteration 261______________\n",
      "SLIM weight: 0.6328678581652136\n",
      "RP3b weight: 0.2634175031567025\n",
      "ItemKNN weight: 0.10371463867808398\n",
      "EvaluatorHoldout: Processed 34728 (100.0%) in 12.83 sec. Users per second: 2707\n",
      "EvaluatorHoldout: Processed 35209 (100.0%) in 13.92 sec. Users per second: 2529\n"
     ]
    },
    {
     "name": "stderr",
     "output_type": "stream",
     "text": [
      "[I 2024-12-18 03:00:55,226] Trial 261 finished with value: 0.031025774453986948 and parameters: {'x_0': 0.09417336508114384, 'x_1': 0.37404155036706005, 'x_2': 0.6789642744929554}. Best is trial 203 with value: 0.031075370772588123.\n"
     ]
    },
    {
     "name": "stdout",
     "output_type": "stream",
     "text": [
      "__________Iteration 262______________\n",
      "SLIM weight: 0.0456428742077916\n",
      "RP3b weight: 0.7803402146031643\n",
      "ItemKNN weight: 0.17401691118904405\n",
      "EvaluatorHoldout: Processed 34728 (100.0%) in 12.82 sec. Users per second: 2708\n",
      "EvaluatorHoldout: Processed 35209 (100.0%) in 13.92 sec. Users per second: 2529\n"
     ]
    },
    {
     "name": "stderr",
     "output_type": "stream",
     "text": [
      "[I 2024-12-18 03:01:22,067] Trial 262 finished with value: 0.02983074816350487 and parameters: {'x_0': 0.9312510569443384, 'x_1': 0.2959004068867133, 'x_2': 0.7621926444886081}. Best is trial 203 with value: 0.031075370772588123.\n"
     ]
    },
    {
     "name": "stdout",
     "output_type": "stream",
     "text": [
      "__________Iteration 263______________\n",
      "SLIM weight: 0.610090631956641\n",
      "RP3b weight: 0.3024379027594048\n",
      "ItemKNN weight: 0.0874714652839542\n",
      "EvaluatorHoldout: Processed 34728 (100.0%) in 12.81 sec. Users per second: 2711\n",
      "EvaluatorHoldout: Processed 35209 (100.0%) in 13.95 sec. Users per second: 2524\n"
     ]
    },
    {
     "name": "stderr",
     "output_type": "stream",
     "text": [
      "[I 2024-12-18 03:01:48,923] Trial 263 finished with value: 0.031038904840519237 and parameters: {'x_0': 0.12680969327187044, 'x_1': 0.35926026397411803, 'x_2': 0.7437293029906599}. Best is trial 203 with value: 0.031075370772588123.\n"
     ]
    },
    {
     "name": "stdout",
     "output_type": "stream",
     "text": [
      "__________Iteration 264______________\n",
      "SLIM weight: 0.687929205566735\n",
      "RP3b weight: 0.24332239616716592\n",
      "ItemKNN weight: 0.06874839826609913\n",
      "EvaluatorHoldout: Processed 34728 (100.0%) in 12.80 sec. Users per second: 2713\n",
      "EvaluatorHoldout: Processed 35209 (100.0%) in 13.95 sec. Users per second: 2524\n"
     ]
    },
    {
     "name": "stderr",
     "output_type": "stream",
     "text": [
      "[I 2024-12-18 03:02:15,767] Trial 264 finished with value: 0.031069610588225712 and parameters: {'x_0': 0.06816628435369709, 'x_1': 0.3867501242777528, 'x_2': 0.7645967589133899}. Best is trial 203 with value: 0.031075370772588123.\n"
     ]
    },
    {
     "name": "stdout",
     "output_type": "stream",
     "text": [
      "__________Iteration 265______________\n",
      "SLIM weight: 0.6736144136839902\n",
      "RP3b weight: 0.2490716824771879\n",
      "ItemKNN weight: 0.07731390383882196\n",
      "EvaluatorHoldout: Processed 34728 (100.0%) in 12.82 sec. Users per second: 2709\n",
      "EvaluatorHoldout: Processed 35209 (100.0%) in 13.93 sec. Users per second: 2528\n"
     ]
    },
    {
     "name": "stderr",
     "output_type": "stream",
     "text": [
      "[I 2024-12-18 03:02:42,610] Trial 265 finished with value: 0.03105422800503036 and parameters: {'x_0': 0.09892002291958135, 'x_1': 0.42511088946461273, 'x_2': 0.766803398702093}. Best is trial 203 with value: 0.031075370772588123.\n"
     ]
    },
    {
     "name": "stdout",
     "output_type": "stream",
     "text": [
      "__________Iteration 266______________\n",
      "SLIM weight: 0.630234115598295\n",
      "RP3b weight: 0.2877773386515397\n",
      "ItemKNN weight: 0.08198854575016538\n",
      "EvaluatorHoldout: Processed 34728 (100.0%) in 12.86 sec. Users per second: 2701\n",
      "EvaluatorHoldout: Processed 35209 (100.0%) in 13.93 sec. Users per second: 2527\n"
     ]
    },
    {
     "name": "stderr",
     "output_type": "stream",
     "text": [
      "[I 2024-12-18 03:03:09,494] Trial 266 finished with value: 0.031048699782069467 and parameters: {'x_0': 0.08039073545336532, 'x_1': 0.31629727334054497, 'x_2': 0.7204035342646592}. Best is trial 203 with value: 0.031075370772588123.\n"
     ]
    },
    {
     "name": "stdout",
     "output_type": "stream",
     "text": [
      "__________Iteration 267______________\n",
      "SLIM weight: 0.9554071692193871\n",
      "RP3b weight: 0.005444698642541751\n",
      "ItemKNN weight: 0.039148132138071105\n",
      "EvaluatorHoldout: Processed 34728 (100.0%) in 12.87 sec. Users per second: 2699\n",
      "EvaluatorHoldout: Processed 35209 (100.0%) in 13.96 sec. Users per second: 2521\n"
     ]
    },
    {
     "name": "stderr",
     "output_type": "stream",
     "text": [
      "[I 2024-12-18 03:03:36,419] Trial 267 finished with value: 0.030686049269972034 and parameters: {'x_0': 0.0016813712353718202, 'x_1': 0.964249764197496, 'x_2': 0.7696984775222436}. Best is trial 203 with value: 0.031075370772588123.\n"
     ]
    },
    {
     "name": "stdout",
     "output_type": "stream",
     "text": [
      "__________Iteration 268______________\n",
      "SLIM weight: 0.6459901874672948\n",
      "RP3b weight: 0.20486216020184841\n",
      "ItemKNN weight: 0.14914765233085692\n",
      "EvaluatorHoldout: Processed 34728 (100.0%) in 12.86 sec. Users per second: 2701\n",
      "EvaluatorHoldout: Processed 35209 (100.0%) in 13.91 sec. Users per second: 2531\n"
     ]
    },
    {
     "name": "stderr",
     "output_type": "stream",
     "text": [
      "[I 2024-12-18 03:04:03,292] Trial 268 finished with value: 0.030952596916443625 and parameters: {'x_0': 0.03274853307195059, 'x_1': 0.33816170066945334, 'x_2': 0.45413417976500925}. Best is trial 203 with value: 0.031075370772588123.\n"
     ]
    },
    {
     "name": "stdout",
     "output_type": "stream",
     "text": [
      "__________Iteration 269______________\n",
      "SLIM weight: 0.13887152456453\n",
      "RP3b weight: 0.2713866691115606\n",
      "ItemKNN weight: 0.5897418063239094\n",
      "EvaluatorHoldout: Processed 34728 (100.0%) in 12.79 sec. Users per second: 2715\n",
      "EvaluatorHoldout: Processed 35209 (100.0%) in 13.91 sec. Users per second: 2532\n"
     ]
    },
    {
     "name": "stderr",
     "output_type": "stream",
     "text": [
      "[I 2024-12-18 03:04:30,086] Trial 269 finished with value: 0.029733987121684943 and parameters: {'x_0': 0.6235478165084185, 'x_1': 0.3973092504733845, 'x_2': 0.1345485983934911}. Best is trial 203 with value: 0.031075370772588123.\n"
     ]
    },
    {
     "name": "stdout",
     "output_type": "stream",
     "text": [
      "__________Iteration 270______________\n",
      "SLIM weight: 0.5835578606084817\n",
      "RP3b weight: 0.310197035735568\n",
      "ItemKNN weight: 0.10624510365595045\n",
      "EvaluatorHoldout: Processed 34728 (100.0%) in 12.85 sec. Users per second: 2702\n",
      "EvaluatorHoldout: Processed 35209 (100.0%) in 13.91 sec. Users per second: 2531\n"
     ]
    },
    {
     "name": "stderr",
     "output_type": "stream",
     "text": [
      "[I 2024-12-18 03:04:56,946] Trial 270 finished with value: 0.031038133540292195 and parameters: {'x_0': 0.13958105873819004, 'x_1': 0.3510932453942242, 'x_2': 0.698720297588271}. Best is trial 203 with value: 0.031075370772588123.\n"
     ]
    },
    {
     "name": "stdout",
     "output_type": "stream",
     "text": [
      "__________Iteration 271______________\n",
      "SLIM weight: 0.6880046547531581\n",
      "RP3b weight: 0.24563457051853085\n",
      "ItemKNN weight: 0.06636077472831106\n",
      "EvaluatorHoldout: Processed 34728 (100.0%) in 12.83 sec. Users per second: 2708\n",
      "EvaluatorHoldout: Processed 35209 (100.0%) in 13.93 sec. Users per second: 2527\n"
     ]
    },
    {
     "name": "stderr",
     "output_type": "stream",
     "text": [
      "[I 2024-12-18 03:05:23,799] Trial 271 finished with value: 0.03106923350811467 and parameters: {'x_0': 0.06229238293556286, 'x_1': 0.371179213033813, 'x_2': 0.7651004794927707}. Best is trial 203 with value: 0.031075370772588123.\n"
     ]
    },
    {
     "name": "stdout",
     "output_type": "stream",
     "text": [
      "__________Iteration 272______________\n",
      "SLIM weight: 0.6972373000838794\n",
      "RP3b weight: 0.23939258960022933\n",
      "ItemKNN weight: 0.06337011031589118\n",
      "EvaluatorHoldout: Processed 34728 (100.0%) in 12.85 sec. Users per second: 2703\n",
      "EvaluatorHoldout: Processed 35209 (100.0%) in 13.98 sec. Users per second: 2518\n"
     ]
    },
    {
     "name": "stderr",
     "output_type": "stream",
     "text": [
      "[I 2024-12-18 03:05:50,718] Trial 272 finished with value: 0.03105891179707594 and parameters: {'x_0': 0.055325431842825804, 'x_1': 0.3701605680256277, 'x_2': 0.7686836783041551}. Best is trial 203 with value: 0.031075370772588123.\n"
     ]
    },
    {
     "name": "stdout",
     "output_type": "stream",
     "text": [
      "__________Iteration 273______________\n",
      "SLIM weight: 0.6968832697852427\n",
      "RP3b weight: 0.23551747674717965\n",
      "ItemKNN weight: 0.06759925346757768\n",
      "EvaluatorHoldout: Processed 34728 (100.0%) in 12.83 sec. Users per second: 2708\n",
      "EvaluatorHoldout: Processed 35209 (100.0%) in 13.95 sec. Users per second: 2524\n"
     ]
    },
    {
     "name": "stderr",
     "output_type": "stream",
     "text": [
      "[I 2024-12-18 03:06:17,587] Trial 273 finished with value: 0.031055815169497666 and parameters: {'x_0': 0.0540425488226393, 'x_1': 0.3730075037709251, 'x_2': 0.7534813520890932}. Best is trial 203 with value: 0.031075370772588123.\n"
     ]
    },
    {
     "name": "stdout",
     "output_type": "stream",
     "text": [
      "__________Iteration 274______________\n",
      "SLIM weight: 0.7545998567598262\n",
      "RP3b weight: 0.1917158201728547\n",
      "ItemKNN weight: 0.05368432306731918\n",
      "EvaluatorHoldout: Processed 34728 (100.0%) in 12.81 sec. Users per second: 2712\n",
      "EvaluatorHoldout: Processed 35209 (100.0%) in 13.92 sec. Users per second: 2530\n"
     ]
    },
    {
     "name": "stderr",
     "output_type": "stream",
     "text": [
      "[I 2024-12-18 03:06:44,408] Trial 274 finished with value: 0.03099083512503422 and parameters: {'x_0': 0.027416875499293527, 'x_1': 0.4010128868658629, 'x_2': 0.774241191326491}. Best is trial 203 with value: 0.031075370772588123.\n"
     ]
    },
    {
     "name": "stdout",
     "output_type": "stream",
     "text": [
      "__________Iteration 275______________\n",
      "SLIM weight: 0.6898604644538582\n",
      "RP3b weight: 0.2449802126777421\n",
      "ItemKNN weight: 0.06515932286839965\n",
      "EvaluatorHoldout: Processed 34728 (100.0%) in 12.81 sec. Users per second: 2711\n",
      "EvaluatorHoldout: Processed 35209 (100.0%) in 13.92 sec. Users per second: 2529\n"
     ]
    },
    {
     "name": "stderr",
     "output_type": "stream",
     "text": [
      "[I 2024-12-18 03:07:11,234] Trial 275 finished with value: 0.031071677672834256 and parameters: {'x_0': 0.059641379652254495, 'x_1': 0.36743276442981965, 'x_2': 0.766208428593555}. Best is trial 203 with value: 0.031075370772588123.\n"
     ]
    },
    {
     "name": "stdout",
     "output_type": "stream",
     "text": [
      "__________Iteration 276______________\n",
      "SLIM weight: 0.6888879888908258\n",
      "RP3b weight: 0.2423140208349253\n",
      "ItemKNN weight: 0.06879799027424885\n",
      "EvaluatorHoldout: Processed 34728 (100.0%) in 12.84 sec. Users per second: 2704\n",
      "EvaluatorHoldout: Processed 35209 (100.0%) in 13.90 sec. Users per second: 2533\n"
     ]
    },
    {
     "name": "stderr",
     "output_type": "stream",
     "text": [
      "[I 2024-12-18 03:07:38,072] Trial 276 finished with value: 0.03106731497021655 and parameters: {'x_0': 0.06721979462101604, 'x_1': 0.38687983854886115, 'x_2': 0.7636674438003453}. Best is trial 203 with value: 0.031075370772588123.\n"
     ]
    },
    {
     "name": "stdout",
     "output_type": "stream",
     "text": [
      "__________Iteration 277______________\n",
      "SLIM weight: 0.7312395544453886\n",
      "RP3b weight: 0.2057530630613899\n",
      "ItemKNN weight: 0.06300738249322146\n",
      "EvaluatorHoldout: Processed 34728 (100.0%) in 12.81 sec. Users per second: 2710\n",
      "EvaluatorHoldout: Processed 35209 (100.0%) in 13.94 sec. Users per second: 2526\n"
     ]
    },
    {
     "name": "stderr",
     "output_type": "stream",
     "text": [
      "[I 2024-12-18 03:08:04,915] Trial 277 finished with value: 0.031011133461676672 and parameters: {'x_0': 0.046915467828689016, 'x_1': 0.4228054577169097, 'x_2': 0.7682697227069473}. Best is trial 203 with value: 0.031075370772588123.\n"
     ]
    },
    {
     "name": "stdout",
     "output_type": "stream",
     "text": [
      "__________Iteration 278______________\n",
      "SLIM weight: 0.6901376517074335\n",
      "RP3b weight: 0.24109859721338248\n",
      "ItemKNN weight: 0.06876375107918398\n",
      "EvaluatorHoldout: Processed 34728 (100.0%) in 12.79 sec. Users per second: 2715\n",
      "EvaluatorHoldout: Processed 35209 (100.0%) in 13.99 sec. Users per second: 2517\n"
     ]
    },
    {
     "name": "stderr",
     "output_type": "stream",
     "text": [
      "[I 2024-12-18 03:08:31,791] Trial 278 finished with value: 0.0310683422278523 and parameters: {'x_0': 0.06503573040638781, 'x_1': 0.38492521753110925, 'x_2': 0.7616319568541207}. Best is trial 203 with value: 0.031075370772588123.\n"
     ]
    },
    {
     "name": "stdout",
     "output_type": "stream",
     "text": [
      "__________Iteration 279______________\n",
      "SLIM weight: 0.6901321849598275\n",
      "RP3b weight: 0.23362800799641945\n",
      "ItemKNN weight: 0.07623980704375305\n",
      "EvaluatorHoldout: Processed 34728 (100.0%) in 12.82 sec. Users per second: 2709\n",
      "EvaluatorHoldout: Processed 35209 (100.0%) in 13.98 sec. Users per second: 2518\n"
     ]
    },
    {
     "name": "stderr",
     "output_type": "stream",
     "text": [
      "[I 2024-12-18 03:08:58,691] Trial 279 finished with value: 0.03105724807391953 and parameters: {'x_0': 0.07190815042229455, 'x_1': 0.4101938448105251, 'x_2': 0.7476645343598673}. Best is trial 203 with value: 0.031075370772588123.\n"
     ]
    },
    {
     "name": "stdout",
     "output_type": "stream",
     "text": [
      "__________Iteration 280______________\n",
      "SLIM weight: 0.6365972711466915\n",
      "RP3b weight: 0.27301659973876924\n",
      "ItemKNN weight: 0.09038612911453923\n",
      "EvaluatorHoldout: Processed 34728 (100.0%) in 12.84 sec. Users per second: 2706\n",
      "EvaluatorHoldout: Processed 35209 (100.0%) in 13.91 sec. Users per second: 2532\n"
     ]
    },
    {
     "name": "stderr",
     "output_type": "stream",
     "text": [
      "[I 2024-12-18 03:09:25,528] Trial 280 finished with value: 0.031052180345760853 and parameters: {'x_0': 0.11151209575518661, 'x_1': 0.3903249219848695, 'x_2': 0.7323787061534702}. Best is trial 203 with value: 0.031075370772588123.\n"
     ]
    },
    {
     "name": "stdout",
     "output_type": "stream",
     "text": [
      "__________Iteration 281______________\n",
      "SLIM weight: 0.753133860991056\n",
      "RP3b weight: 0.18662369883092075\n",
      "ItemKNN weight: 0.0602424401780232\n",
      "EvaluatorHoldout: Processed 34728 (100.0%) in 12.86 sec. Users per second: 2699\n",
      "EvaluatorHoldout: Processed 35209 (100.0%) in 13.90 sec. Users per second: 2533\n"
     ]
    },
    {
     "name": "stderr",
     "output_type": "stream",
     "text": [
      "[I 2024-12-18 03:09:52,387] Trial 281 finished with value: 0.030970845308482573 and parameters: {'x_0': 0.03477873655514452, 'x_1': 0.43505395615408815, 'x_2': 0.7644007756545588}. Best is trial 203 with value: 0.031075370772588123.\n"
     ]
    },
    {
     "name": "stdout",
     "output_type": "stream",
     "text": [
      "__________Iteration 282______________\n",
      "SLIM weight: 0.6847874342072507\n",
      "RP3b weight: 0.2516520438664397\n",
      "ItemKNN weight: 0.06356052192630955\n",
      "EvaluatorHoldout: Processed 34728 (100.0%) in 12.86 sec. Users per second: 2701\n",
      "EvaluatorHoldout: Processed 35209 (100.0%) in 13.93 sec. Users per second: 2528\n"
     ]
    },
    {
     "name": "stderr",
     "output_type": "stream",
     "text": [
      "[I 2024-12-18 03:10:19,272] Trial 282 finished with value: 0.031074156117563877 and parameters: {'x_0': 0.06941502590928947, 'x_1': 0.3751859552902441, 'x_2': 0.780667612593256}. Best is trial 203 with value: 0.031075370772588123.\n"
     ]
    },
    {
     "name": "stdout",
     "output_type": "stream",
     "text": [
      "__________Iteration 283______________\n",
      "SLIM weight: 0.6930482356081852\n",
      "RP3b weight: 0.24442067189970582\n",
      "ItemKNN weight: 0.06253109249210914\n",
      "EvaluatorHoldout: Processed 34728 (100.0%) in 12.89 sec. Users per second: 2695\n",
      "EvaluatorHoldout: Processed 35209 (100.0%) in 13.92 sec. Users per second: 2528\n"
     ]
    },
    {
     "name": "stderr",
     "output_type": "stream",
     "text": [
      "[I 2024-12-18 03:10:46,179] Trial 283 finished with value: 0.031067661198318466 and parameters: {'x_0': 0.06870894998656368, 'x_1': 0.3889053002172559, 'x_2': 0.7853588782767383}. Best is trial 203 with value: 0.031075370772588123.\n"
     ]
    },
    {
     "name": "stdout",
     "output_type": "stream",
     "text": [
      "__________Iteration 284______________\n",
      "SLIM weight: 0.8747030795598743\n",
      "RP3b weight: 0.05253936766112158\n",
      "ItemKNN weight: 0.0727575527790041\n",
      "EvaluatorHoldout: Processed 34728 (100.0%) in 12.84 sec. Users per second: 2705\n",
      "EvaluatorHoldout: Processed 35209 (100.0%) in 13.92 sec. Users per second: 2530\n"
     ]
    },
    {
     "name": "stderr",
     "output_type": "stream",
     "text": [
      "[I 2024-12-18 03:11:13,032] Trial 284 finished with value: 0.030776534784611058 and parameters: {'x_0': 0.05676113780448412, 'x_1': 0.8417083059836277, 'x_2': 0.7877026836734767}. Best is trial 203 with value: 0.031075370772588123.\n"
     ]
    },
    {
     "name": "stdout",
     "output_type": "stream",
     "text": [
      "__________Iteration 285______________\n",
      "SLIM weight: 0.6951662346467395\n",
      "RP3b weight: 0.24118653563169482\n",
      "ItemKNN weight: 0.06364722972156564\n",
      "EvaluatorHoldout: Processed 34728 (100.0%) in 12.92 sec. Users per second: 2689\n",
      "EvaluatorHoldout: Processed 35209 (100.0%) in 13.95 sec. Users per second: 2525\n"
     ]
    },
    {
     "name": "stderr",
     "output_type": "stream",
     "text": [
      "[I 2024-12-18 03:11:39,987] Trial 285 finished with value: 0.031063721282491897 and parameters: {'x_0': 0.06629771326605435, 'x_1': 0.3900508935456212, 'x_2': 0.7800099111035844}. Best is trial 203 with value: 0.031075370772588123.\n"
     ]
    },
    {
     "name": "stdout",
     "output_type": "stream",
     "text": [
      "__________Iteration 286______________\n",
      "SLIM weight: 0.7464574707468428\n",
      "RP3b weight: 0.19857502138855115\n",
      "ItemKNN weight: 0.05496750786460615\n",
      "EvaluatorHoldout: Processed 34728 (100.0%) in 12.89 sec. Users per second: 2694\n",
      "EvaluatorHoldout: Processed 35209 (100.0%) in 13.95 sec. Users per second: 2525\n"
     ]
    },
    {
     "name": "stderr",
     "output_type": "stream",
     "text": [
      "[I 2024-12-18 03:12:06,914] Trial 286 finished with value: 0.0310038786688742 and parameters: {'x_0': 0.03497583439448328, 'x_1': 0.4098344803606414, 'x_2': 0.7812072095839824}. Best is trial 203 with value: 0.031075370772588123.\n"
     ]
    },
    {
     "name": "stdout",
     "output_type": "stream",
     "text": [
      "__________Iteration 287______________\n",
      "SLIM weight: 0.6898691416445881\n",
      "RP3b weight: 0.2414059959446755\n",
      "ItemKNN weight: 0.06872486241073636\n",
      "EvaluatorHoldout: Processed 34728 (100.0%) in 12.88 sec. Users per second: 2697\n",
      "EvaluatorHoldout: Processed 35209 (100.0%) in 13.93 sec. Users per second: 2527\n"
     ]
    },
    {
     "name": "stderr",
     "output_type": "stream",
     "text": [
      "[I 2024-12-18 03:12:33,821] Trial 287 finished with value: 0.031069451757512283 and parameters: {'x_0': 0.06765644074752372, 'x_1': 0.38966368374140475, 'x_2': 0.7646720743817624}. Best is trial 203 with value: 0.031075370772588123.\n"
     ]
    },
    {
     "name": "stdout",
     "output_type": "stream",
     "text": [
      "__________Iteration 288______________\n",
      "SLIM weight: 0.6897903481544951\n",
      "RP3b weight: 0.24640977236087708\n",
      "ItemKNN weight: 0.06379987948462773\n",
      "EvaluatorHoldout: Processed 34728 (100.0%) in 12.86 sec. Users per second: 2701\n",
      "EvaluatorHoldout: Processed 35209 (100.0%) in 13.94 sec. Users per second: 2525\n"
     ]
    },
    {
     "name": "stderr",
     "output_type": "stream",
     "text": [
      "[I 2024-12-18 03:13:00,717] Trial 288 finished with value: 0.03106223924338889 and parameters: {'x_0': 0.07150432863365917, 'x_1': 0.3897084646708477, 'x_2': 0.7834932404401843}. Best is trial 203 with value: 0.031075370772588123.\n"
     ]
    },
    {
     "name": "stdout",
     "output_type": "stream",
     "text": [
      "__________Iteration 289______________\n",
      "SLIM weight: 0.6979384166896336\n",
      "RP3b weight: 0.2417288297657683\n",
      "ItemKNN weight: 0.060332753544598154\n",
      "EvaluatorHoldout: Processed 34728 (100.0%) in 12.87 sec. Users per second: 2698\n",
      "EvaluatorHoldout: Processed 35209 (100.0%) in 13.95 sec. Users per second: 2523\n"
     ]
    },
    {
     "name": "stderr",
     "output_type": "stream",
     "text": [
      "[I 2024-12-18 03:13:27,638] Trial 289 finished with value: 0.03104804160587578 and parameters: {'x_0': 0.06681849738118417, 'x_1': 0.39174781088184374, 'x_2': 0.7914419987649608}. Best is trial 203 with value: 0.031075370772588123.\n"
     ]
    },
    {
     "name": "stdout",
     "output_type": "stream",
     "text": [
      "__________Iteration 290______________\n",
      "SLIM weight: 0.7140975685499413\n",
      "RP3b weight: 0.21979501196156645\n",
      "ItemKNN weight: 0.06610741948849211\n",
      "EvaluatorHoldout: Processed 34728 (100.0%) in 12.86 sec. Users per second: 2701\n",
      "EvaluatorHoldout: Processed 35209 (100.0%) in 13.93 sec. Users per second: 2528\n"
     ]
    },
    {
     "name": "stderr",
     "output_type": "stream",
     "text": [
      "[I 2024-12-18 03:13:54,513] Trial 290 finished with value: 0.03103817239097029 and parameters: {'x_0': 0.06626233831469834, 'x_1': 0.43370344630011637, 'x_2': 0.7778198801506047}. Best is trial 203 with value: 0.031075370772588123.\n"
     ]
    },
    {
     "name": "stdout",
     "output_type": "stream",
     "text": [
      "__________Iteration 291______________\n",
      "SLIM weight: 0.6730026502127634\n",
      "RP3b weight: 0.26227716793301553\n",
      "ItemKNN weight: 0.0647201818542211\n",
      "EvaluatorHoldout: Processed 34728 (100.0%) in 12.86 sec. Users per second: 2701\n",
      "EvaluatorHoldout: Processed 35209 (100.0%) in 14.00 sec. Users per second: 2516\n"
     ]
    },
    {
     "name": "stderr",
     "output_type": "stream",
     "text": [
      "[I 2024-12-18 03:14:21,462] Trial 291 finished with value: 0.03105192667368621 and parameters: {'x_0': 0.08981532495735355, 'x_1': 0.3909382570812691, 'x_2': 0.7931358378473149}. Best is trial 203 with value: 0.031075370772588123.\n"
     ]
    },
    {
     "name": "stdout",
     "output_type": "stream",
     "text": [
      "__________Iteration 292______________\n",
      "SLIM weight: 0.7836613977305374\n",
      "RP3b weight: 0.16754093145517496\n",
      "ItemKNN weight: 0.048797670814287486\n",
      "EvaluatorHoldout: Processed 34728 (100.0%) in 12.82 sec. Users per second: 2708\n",
      "EvaluatorHoldout: Processed 35209 (100.0%) in 13.92 sec. Users per second: 2529\n"
     ]
    },
    {
     "name": "stderr",
     "output_type": "stream",
     "text": [
      "[I 2024-12-18 03:14:48,301] Trial 292 finished with value: 0.030944584535418092 and parameters: {'x_0': 0.016021065645163826, 'x_1': 0.4132153834539989, 'x_2': 0.7730511868268848}. Best is trial 203 with value: 0.031075370772588123.\n"
     ]
    },
    {
     "name": "stdout",
     "output_type": "stream",
     "text": [
      "__________Iteration 293______________\n",
      "SLIM weight: 0.6440578402116349\n",
      "RP3b weight: 0.27700817985936127\n",
      "ItemKNN weight: 0.0789339799290037\n",
      "EvaluatorHoldout: Processed 34728 (100.0%) in 12.88 sec. Users per second: 2697\n",
      "EvaluatorHoldout: Processed 35209 (100.0%) in 13.96 sec. Users per second: 2521\n"
     ]
    },
    {
     "name": "stderr",
     "output_type": "stream",
     "text": [
      "[I 2024-12-18 03:15:15,239] Trial 293 finished with value: 0.031052413449829487 and parameters: {'x_0': 0.1080284403729522, 'x_1': 0.3839957218998415, 'x_2': 0.7612951354964516}. Best is trial 203 with value: 0.031075370772588123.\n"
     ]
    },
    {
     "name": "stdout",
     "output_type": "stream",
     "text": [
      "__________Iteration 294______________\n",
      "SLIM weight: 0.7402208102045736\n",
      "RP3b weight: 0.20383468436368576\n",
      "ItemKNN weight: 0.055944505431740725\n",
      "EvaluatorHoldout: Processed 34728 (100.0%) in 12.91 sec. Users per second: 2690\n",
      "EvaluatorHoldout: Processed 35209 (100.0%) in 13.93 sec. Users per second: 2527\n"
     ]
    },
    {
     "name": "stderr",
     "output_type": "stream",
     "text": [
      "[I 2024-12-18 03:15:42,175] Trial 294 finished with value: 0.031012602931442604 and parameters: {'x_0': 0.05309551831632327, 'x_1': 0.4455731849474484, 'x_2': 0.8010179645178145}. Best is trial 203 with value: 0.031075370772588123.\n"
     ]
    },
    {
     "name": "stdout",
     "output_type": "stream",
     "text": [
      "__________Iteration 295______________\n",
      "SLIM weight: 0.7027131550003233\n",
      "RP3b weight: 0.23286670343521113\n",
      "ItemKNN weight: 0.06442014156446557\n",
      "EvaluatorHoldout: Processed 34728 (100.0%) in 12.88 sec. Users per second: 2697\n",
      "EvaluatorHoldout: Processed 35209 (100.0%) in 13.91 sec. Users per second: 2530\n"
     ]
    },
    {
     "name": "stderr",
     "output_type": "stream",
     "text": [
      "[I 2024-12-18 03:16:09,058] Trial 295 finished with value: 0.031060134450769272 and parameters: {'x_0': 0.06697672260467988, 'x_1': 0.4082554169304032, 'x_2': 0.7804918794010811}. Best is trial 203 with value: 0.031075370772588123.\n"
     ]
    },
    {
     "name": "stdout",
     "output_type": "stream",
     "text": [
      "__________Iteration 296______________\n",
      "SLIM weight: 0.7020765300181909\n",
      "RP3b weight: 0.23153846522126442\n",
      "ItemKNN weight: 0.06638500476054462\n",
      "EvaluatorHoldout: Processed 34728 (100.0%) in 12.82 sec. Users per second: 2708\n",
      "EvaluatorHoldout: Processed 35209 (100.0%) in 13.93 sec. Users per second: 2528\n"
     ]
    },
    {
     "name": "stderr",
     "output_type": "stream",
     "text": [
      "[I 2024-12-18 03:16:35,906] Trial 296 finished with value: 0.031057654863372607 and parameters: {'x_0': 0.07110164363192864, 'x_1': 0.41817717991738484, 'x_2': 0.7788238101015424}. Best is trial 203 with value: 0.031075370772588123.\n"
     ]
    },
    {
     "name": "stdout",
     "output_type": "stream",
     "text": [
      "__________Iteration 297______________\n",
      "SLIM weight: 0.7242403305459779\n",
      "RP3b weight: 0.22241643366355004\n",
      "ItemKNN weight: 0.053343235790472066\n",
      "EvaluatorHoldout: Processed 34728 (100.0%) in 12.83 sec. Users per second: 2706\n",
      "EvaluatorHoldout: Processed 35209 (100.0%) in 13.97 sec. Users per second: 2520\n"
     ]
    },
    {
     "name": "stderr",
     "output_type": "stream",
     "text": [
      "[I 2024-12-18 03:17:02,807] Trial 297 finished with value: 0.031021552299410594 and parameters: {'x_0': 0.04935060575882492, 'x_1': 0.39692285168624764, 'x_2': 0.8012272206541643}. Best is trial 203 with value: 0.031075370772588123.\n"
     ]
    },
    {
     "name": "stdout",
     "output_type": "stream",
     "text": [
      "__________Iteration 298______________\n",
      "SLIM weight: 0.7655594714256333\n",
      "RP3b weight: 0.1821688509190011\n",
      "ItemKNN weight: 0.05227167765536561\n",
      "EvaluatorHoldout: Processed 34728 (100.0%) in 12.87 sec. Users per second: 2699\n",
      "EvaluatorHoldout: Processed 35209 (100.0%) in 13.98 sec. Users per second: 2519\n"
     ]
    },
    {
     "name": "stderr",
     "output_type": "stream",
     "text": [
      "[I 2024-12-18 03:17:29,745] Trial 298 finished with value: 0.03096815547035741 and parameters: {'x_0': 0.01732242206288056, 'x_1': 0.38094982223439955, 'x_2': 0.7581128533353543}. Best is trial 203 with value: 0.031075370772588123.\n"
     ]
    },
    {
     "name": "stdout",
     "output_type": "stream",
     "text": [
      "__________Iteration 299______________\n",
      "SLIM weight: 0.6989573938185095\n",
      "RP3b weight: 0.23698409864081846\n",
      "ItemKNN weight: 0.0640585075406721\n",
      "EvaluatorHoldout: Processed 34728 (100.0%) in 12.81 sec. Users per second: 2710\n",
      "EvaluatorHoldout: Processed 35209 (100.0%) in 13.92 sec. Users per second: 2530\n"
     ]
    },
    {
     "name": "stderr",
     "output_type": "stream",
     "text": [
      "[I 2024-12-18 03:17:56,575] Trial 299 finished with value: 0.031060773201623967 and parameters: {'x_0': 0.07533742691011529, 'x_1': 0.4161465877331019, 'x_2': 0.789004617215896}. Best is trial 203 with value: 0.031075370772588123.\n"
     ]
    },
    {
     "name": "stdout",
     "output_type": "stream",
     "text": [
      "__________Iteration 300______________\n",
      "SLIM weight: 0.7030334592579075\n",
      "RP3b weight: 0.2369715344948792\n",
      "ItemKNN weight: 0.05999500624721324\n",
      "EvaluatorHoldout: Processed 34728 (100.0%) in 12.83 sec. Users per second: 2706\n",
      "EvaluatorHoldout: Processed 35209 (100.0%) in 13.91 sec. Users per second: 2531\n"
     ]
    },
    {
     "name": "stderr",
     "output_type": "stream",
     "text": [
      "[I 2024-12-18 03:18:23,412] Trial 300 finished with value: 0.031050109833151332 and parameters: {'x_0': 0.08580033534902387, 'x_1': 0.437029810506676, 'x_2': 0.8109363828025887}. Best is trial 203 with value: 0.031075370772588123.\n"
     ]
    },
    {
     "name": "stdout",
     "output_type": "stream",
     "text": [
      "__________Iteration 301______________\n",
      "SLIM weight: 0.7242620609853528\n",
      "RP3b weight: 0.2215397541235682\n",
      "ItemKNN weight: 0.05419818489107908\n",
      "EvaluatorHoldout: Processed 34728 (100.0%) in 12.91 sec. Users per second: 2691\n",
      "EvaluatorHoldout: Processed 35209 (100.0%) in 13.94 sec. Users per second: 2525\n"
     ]
    },
    {
     "name": "stderr",
     "output_type": "stream",
     "text": [
      "[I 2024-12-18 03:18:50,358] Trial 301 finished with value: 0.031021559155412617 and parameters: {'x_0': 0.043864726529165274, 'x_1': 0.3842780926717098, 'x_2': 0.7913824130973701}. Best is trial 203 with value: 0.031075370772588123.\n"
     ]
    },
    {
     "name": "stdout",
     "output_type": "stream",
     "text": [
      "__________Iteration 302______________\n",
      "SLIM weight: 0.09428044250572638\n",
      "RP3b weight: 0.7053577220346678\n",
      "ItemKNN weight: 0.20036183545960579\n",
      "EvaluatorHoldout: Processed 34728 (100.0%) in 12.85 sec. Users per second: 2703\n",
      "EvaluatorHoldout: Processed 35209 (100.0%) in 13.94 sec. Users per second: 2525\n"
     ]
    },
    {
     "name": "stderr",
     "output_type": "stream",
     "text": [
      "[I 2024-12-18 03:19:17,245] Trial 302 finished with value: 0.0301067079580807 and parameters: {'x_0': 0.8731695890648263, 'x_1': 0.36251841113335026, 'x_2': 0.7495914046317628}. Best is trial 203 with value: 0.031075370772588123.\n"
     ]
    },
    {
     "name": "stdout",
     "output_type": "stream",
     "text": [
      "__________Iteration 303______________\n",
      "SLIM weight: 0.6944825054558457\n",
      "RP3b weight: 0.2337300873597373\n",
      "ItemKNN weight: 0.07178740718441703\n",
      "EvaluatorHoldout: Processed 34728 (100.0%) in 12.86 sec. Users per second: 2700\n",
      "EvaluatorHoldout: Processed 35209 (100.0%) in 13.96 sec. Users per second: 2522\n"
     ]
    },
    {
     "name": "stderr",
     "output_type": "stream",
     "text": [
      "[I 2024-12-18 03:19:44,159] Trial 303 finished with value: 0.031063713283822854 and parameters: {'x_0': 0.07670350076400495, 'x_1': 0.4213871995611184, 'x_2': 0.7668763630899196}. Best is trial 203 with value: 0.031075370772588123.\n"
     ]
    },
    {
     "name": "stdout",
     "output_type": "stream",
     "text": [
      "__________Iteration 304______________\n",
      "SLIM weight: 0.6892068773752976\n",
      "RP3b weight: 0.23571235590166803\n",
      "ItemKNN weight: 0.0750807667230343\n",
      "EvaluatorHoldout: Processed 34728 (100.0%) in 12.89 sec. Users per second: 2693\n",
      "EvaluatorHoldout: Processed 35209 (100.0%) in 13.95 sec. Users per second: 2525\n"
     ]
    },
    {
     "name": "stderr",
     "output_type": "stream",
     "text": [
      "[I 2024-12-18 03:20:11,096] Trial 304 finished with value: 0.031055384384037495 and parameters: {'x_0': 0.08209175253758944, 'x_1': 0.4252895986389165, 'x_2': 0.7615984367602003}. Best is trial 203 with value: 0.031075370772588123.\n"
     ]
    },
    {
     "name": "stdout",
     "output_type": "stream",
     "text": [
      "__________Iteration 305______________\n",
      "SLIM weight: 0.6818009003894832\n",
      "RP3b weight: 0.2486483171804991\n",
      "ItemKNN weight: 0.0695507824300177\n",
      "EvaluatorHoldout: Processed 34728 (100.0%) in 12.92 sec. Users per second: 2688\n",
      "EvaluatorHoldout: Processed 35209 (100.0%) in 13.91 sec. Users per second: 2532\n"
     ]
    },
    {
     "name": "stderr",
     "output_type": "stream",
     "text": [
      "[I 2024-12-18 03:20:38,018] Trial 305 finished with value: 0.031071278882050146 and parameters: {'x_0': 0.11620660054727178, 'x_1': 0.45613752494779974, 'x_2': 0.8028673923799107}. Best is trial 203 with value: 0.031075370772588123.\n"
     ]
    },
    {
     "name": "stdout",
     "output_type": "stream",
     "text": [
      "__________Iteration 306______________\n",
      "SLIM weight: 0.6797237284515126\n",
      "RP3b weight: 0.2512460109622089\n",
      "ItemKNN weight: 0.06903026058627848\n",
      "EvaluatorHoldout: Processed 34728 (100.0%) in 12.92 sec. Users per second: 2688\n",
      "EvaluatorHoldout: Processed 35209 (100.0%) in 13.92 sec. Users per second: 2529\n"
     ]
    },
    {
     "name": "stderr",
     "output_type": "stream",
     "text": [
      "[I 2024-12-18 03:21:04,957] Trial 306 finished with value: 0.031073256838632445 and parameters: {'x_0': 0.12271652996074975, 'x_1': 0.46050208762289513, 'x_2': 0.8081134243257603}. Best is trial 203 with value: 0.031075370772588123.\n"
     ]
    },
    {
     "name": "stdout",
     "output_type": "stream",
     "text": [
      "__________Iteration 307______________\n",
      "SLIM weight: 0.678443683932012\n",
      "RP3b weight: 0.25107183669523486\n",
      "ItemKNN weight: 0.07048447937275315\n",
      "EvaluatorHoldout: Processed 34728 (100.0%) in 12.83 sec. Users per second: 2708\n",
      "EvaluatorHoldout: Processed 35209 (100.0%) in 13.92 sec. Users per second: 2530\n"
     ]
    },
    {
     "name": "stderr",
     "output_type": "stream",
     "text": [
      "[I 2024-12-18 03:21:31,796] Trial 307 finished with value: 0.031062779724881324 and parameters: {'x_0': 0.1383868986304846, 'x_1': 0.48099967929998305, 'x_2': 0.8142675643057545}. Best is trial 203 with value: 0.031075370772588123.\n"
     ]
    },
    {
     "name": "stdout",
     "output_type": "stream",
     "text": [
      "__________Iteration 308______________\n",
      "SLIM weight: 0.6637773014564096\n",
      "RP3b weight: 0.2681290450330276\n",
      "ItemKNN weight: 0.06809365351056278\n",
      "EvaluatorHoldout: Processed 34728 (100.0%) in 12.86 sec. Users per second: 2700\n",
      "EvaluatorHoldout: Processed 35209 (100.0%) in 13.95 sec. Users per second: 2524\n"
     ]
    },
    {
     "name": "stderr",
     "output_type": "stream",
     "text": [
      "[I 2024-12-18 03:21:58,707] Trial 308 finished with value: 0.03106256147548374 and parameters: {'x_0': 0.13946965564747388, 'x_1': 0.4512502741614136, 'x_2': 0.8170269400268398}. Best is trial 203 with value: 0.031075370772588123.\n"
     ]
    },
    {
     "name": "stdout",
     "output_type": "stream",
     "text": [
      "__________Iteration 309______________\n",
      "SLIM weight: 0.6767135849933771\n",
      "RP3b weight: 0.2552759616327033\n",
      "ItemKNN weight: 0.06801045337391974\n",
      "EvaluatorHoldout: Processed 34728 (100.0%) in 12.86 sec. Users per second: 2700\n",
      "EvaluatorHoldout: Processed 35209 (100.0%) in 13.95 sec. Users per second: 2525\n"
     ]
    },
    {
     "name": "stderr",
     "output_type": "stream",
     "text": [
      "[I 2024-12-18 03:22:25,607] Trial 309 finished with value: 0.031069947674991577 and parameters: {'x_0': 0.13745434577760787, 'x_1': 0.47302970944293143, 'x_2': 0.8191887637451791}. Best is trial 203 with value: 0.031075370772588123.\n"
     ]
    },
    {
     "name": "stdout",
     "output_type": "stream",
     "text": [
      "__________Iteration 310______________\n",
      "SLIM weight: 0.689890500097769\n",
      "RP3b weight: 0.24855801709366118\n",
      "ItemKNN weight: 0.061551482808569785\n",
      "EvaluatorHoldout: Processed 34728 (100.0%) in 12.82 sec. Users per second: 2709\n",
      "EvaluatorHoldout: Processed 35209 (100.0%) in 14.01 sec. Users per second: 2514\n"
     ]
    },
    {
     "name": "stderr",
     "output_type": "stream",
     "text": [
      "[I 2024-12-18 03:22:52,523] Trial 310 finished with value: 0.031068027994426425 and parameters: {'x_0': 0.12498922478602592, 'x_1': 0.47273272158167834, 'x_2': 0.8306607463602892}. Best is trial 203 with value: 0.031075370772588123.\n"
     ]
    },
    {
     "name": "stdout",
     "output_type": "stream",
     "text": [
      "__________Iteration 311______________\n",
      "SLIM weight: 0.6854608301714148\n",
      "RP3b weight: 0.2556308740588458\n",
      "ItemKNN weight: 0.05890829576973934\n",
      "EvaluatorHoldout: Processed 34728 (100.0%) in 12.85 sec. Users per second: 2703\n",
      "EvaluatorHoldout: Processed 35209 (100.0%) in 13.93 sec. Users per second: 2527\n"
     ]
    },
    {
     "name": "stderr",
     "output_type": "stream",
     "text": [
      "[I 2024-12-18 03:23:19,400] Trial 311 finished with value: 0.031060943459007423 and parameters: {'x_0': 0.13614302765670183, 'x_1': 0.47537728019295894, 'x_2': 0.8425114811120057}. Best is trial 203 with value: 0.031075370772588123.\n"
     ]
    },
    {
     "name": "stdout",
     "output_type": "stream",
     "text": [
      "__________Iteration 312______________\n",
      "SLIM weight: 0.6690606004473745\n",
      "RP3b weight: 0.26383012076707085\n",
      "ItemKNN weight: 0.06710927878555477\n",
      "EvaluatorHoldout: Processed 34728 (100.0%) in 12.86 sec. Users per second: 2700\n",
      "EvaluatorHoldout: Processed 35209 (100.0%) in 13.98 sec. Users per second: 2518\n"
     ]
    },
    {
     "name": "stderr",
     "output_type": "stream",
     "text": [
      "[I 2024-12-18 03:23:46,341] Trial 312 finished with value: 0.03106380698251711 and parameters: {'x_0': 0.14836664748224523, 'x_1': 0.4712308478758979, 'x_2': 0.8258134123939581}. Best is trial 203 with value: 0.031075370772588123.\n"
     ]
    },
    {
     "name": "stdout",
     "output_type": "stream",
     "text": [
      "__________Iteration 313______________\n",
      "SLIM weight: 0.6815816295529257\n",
      "RP3b weight: 0.25614608311431364\n",
      "ItemKNN weight: 0.06227228733276059\n",
      "EvaluatorHoldout: Processed 34728 (100.0%) in 12.83 sec. Users per second: 2707\n",
      "EvaluatorHoldout: Processed 35209 (100.0%) in 13.92 sec. Users per second: 2529\n"
     ]
    },
    {
     "name": "stderr",
     "output_type": "stream",
     "text": [
      "[I 2024-12-18 03:24:13,187] Trial 313 finished with value: 0.031059287734519974 and parameters: {'x_0': 0.12407741088646862, 'x_1': 0.4564565856828561, 'x_2': 0.8264104338733459}. Best is trial 203 with value: 0.031075370772588123.\n"
     ]
    },
    {
     "name": "stdout",
     "output_type": "stream",
     "text": [
      "__________Iteration 314______________\n",
      "SLIM weight: 0.6697690019929844\n",
      "RP3b weight: 0.26413707884170673\n",
      "ItemKNN weight: 0.0660939191653089\n",
      "EvaluatorHoldout: Processed 34728 (100.0%) in 12.84 sec. Users per second: 2705\n",
      "EvaluatorHoldout: Processed 35209 (100.0%) in 13.92 sec. Users per second: 2529\n"
     ]
    },
    {
     "name": "stderr",
     "output_type": "stream",
     "text": [
      "[I 2024-12-18 03:24:40,043] Trial 314 finished with value: 0.031057148661890226 and parameters: {'x_0': 0.15415304545617375, 'x_1': 0.47835722384154555, 'x_2': 0.8315067200110876}. Best is trial 203 with value: 0.031075370772588123.\n"
     ]
    },
    {
     "name": "stdout",
     "output_type": "stream",
     "text": [
      "__________Iteration 315______________\n",
      "SLIM weight: 0.6632449637329362\n",
      "RP3b weight: 0.25958799451231673\n",
      "ItemKNN weight: 0.07716704175474717\n",
      "EvaluatorHoldout: Processed 34728 (100.0%) in 12.84 sec. Users per second: 2704\n",
      "EvaluatorHoldout: Processed 35209 (100.0%) in 13.93 sec. Users per second: 2528\n"
     ]
    },
    {
     "name": "stderr",
     "output_type": "stream",
     "text": [
      "[I 2024-12-18 03:25:06,910] Trial 315 finished with value: 0.03106407893726383 and parameters: {'x_0': 0.16656435463180752, 'x_1': 0.49583178286178153, 'x_2': 0.8117697159058865}. Best is trial 203 with value: 0.031075370772588123.\n"
     ]
    },
    {
     "name": "stdout",
     "output_type": "stream",
     "text": [
      "__________Iteration 316______________\n",
      "SLIM weight: 0.6958016441655023\n",
      "RP3b weight: 0.24537099286204786\n",
      "ItemKNN weight: 0.058827362972449886\n",
      "EvaluatorHoldout: Processed 34728 (100.0%) in 12.82 sec. Users per second: 2709\n",
      "EvaluatorHoldout: Processed 35209 (100.0%) in 13.93 sec. Users per second: 2527\n"
     ]
    },
    {
     "name": "stderr",
     "output_type": "stream",
     "text": [
      "[I 2024-12-18 03:25:33,756] Trial 316 finished with value: 0.031056348794988076 and parameters: {'x_0': 0.12034514321627832, 'x_1': 0.47393382230290815, 'x_2': 0.8360914049109928}. Best is trial 203 with value: 0.031075370772588123.\n"
     ]
    },
    {
     "name": "stdout",
     "output_type": "stream",
     "text": [
      "__________Iteration 317______________\n",
      "SLIM weight: 0.6678743229738144\n",
      "RP3b weight: 0.254196022842801\n",
      "ItemKNN weight: 0.07792965418338461\n",
      "EvaluatorHoldout: Processed 34728 (100.0%) in 12.86 sec. Users per second: 2700\n",
      "EvaluatorHoldout: Processed 35209 (100.0%) in 13.93 sec. Users per second: 2528\n"
     ]
    },
    {
     "name": "stderr",
     "output_type": "stream",
     "text": [
      "[I 2024-12-18 03:26:00,640] Trial 317 finished with value: 0.031052322036469224 and parameters: {'x_0': 0.16387004324809268, 'x_1': 0.5023830081461836, 'x_2': 0.8097395751025076}. Best is trial 203 with value: 0.031075370772588123.\n"
     ]
    },
    {
     "name": "stdout",
     "output_type": "stream",
     "text": [
      "__________Iteration 318______________\n",
      "SLIM weight: 0.729764360110077\n",
      "RP3b weight: 0.26753796920534556\n",
      "ItemKNN weight: 0.0026976706845774708\n",
      "EvaluatorHoldout: Processed 34728 (100.0%) in 12.88 sec. Users per second: 2696\n",
      "EvaluatorHoldout: Processed 35209 (100.0%) in 13.94 sec. Users per second: 2525\n"
     ]
    },
    {
     "name": "stderr",
     "output_type": "stream",
     "text": [
      "[I 2024-12-18 03:26:27,562] Trial 318 finished with value: 0.030988412670987654 and parameters: {'x_0': 0.11816173941491698, 'x_1': 0.4570481397715919, 'x_2': 0.9921361813528029}. Best is trial 203 with value: 0.031075370772588123.\n"
     ]
    },
    {
     "name": "stdout",
     "output_type": "stream",
     "text": [
      "__________Iteration 319______________\n",
      "SLIM weight: 0.6711317985272647\n",
      "RP3b weight: 0.27943179480501085\n",
      "ItemKNN weight: 0.04943640666772463\n",
      "EvaluatorHoldout: Processed 34728 (100.0%) in 12.90 sec. Users per second: 2693\n",
      "EvaluatorHoldout: Processed 35209 (100.0%) in 13.91 sec. Users per second: 2531\n"
     ]
    },
    {
     "name": "stderr",
     "output_type": "stream",
     "text": [
      "[I 2024-12-18 03:26:54,467] Trial 319 finished with value: 0.031025779024654948 and parameters: {'x_0': 0.15275594208047227, 'x_1': 0.45735163233251347, 'x_2': 0.8707475910383755}. Best is trial 203 with value: 0.031075370772588123.\n"
     ]
    },
    {
     "name": "stdout",
     "output_type": "stream",
     "text": [
      "__________Iteration 320______________\n",
      "SLIM weight: 0.6987344680107149\n",
      "RP3b weight: 0.23505760594748462\n",
      "ItemKNN weight: 0.06620792604180048\n",
      "EvaluatorHoldout: Processed 34728 (100.0%) in 12.87 sec. Users per second: 2699\n",
      "EvaluatorHoldout: Processed 35209 (100.0%) in 13.92 sec. Users per second: 2529\n"
     ]
    },
    {
     "name": "stderr",
     "output_type": "stream",
     "text": [
      "[I 2024-12-18 03:27:21,350] Trial 320 finished with value: 0.031057180656566333 and parameters: {'x_0': 0.1069748417820221, 'x_1': 0.47146094301397967, 'x_2': 0.8091340877314798}. Best is trial 203 with value: 0.031075370772588123.\n"
     ]
    },
    {
     "name": "stdout",
     "output_type": "stream",
     "text": [
      "__________Iteration 321______________\n",
      "SLIM weight: 0.6964908782160741\n",
      "RP3b weight: 0.2416414249143262\n",
      "ItemKNN weight: 0.06186769686959973\n",
      "EvaluatorHoldout: Processed 34728 (100.0%) in 12.89 sec. Users per second: 2695\n",
      "EvaluatorHoldout: Processed 35209 (100.0%) in 13.96 sec. Users per second: 2522\n"
     ]
    },
    {
     "name": "stderr",
     "output_type": "stream",
     "text": [
      "[I 2024-12-18 03:27:48,294] Trial 321 finished with value: 0.031061936436633082 and parameters: {'x_0': 0.13422136891643388, 'x_1': 0.4982018622219247, 'x_2': 0.8366164251707785}. Best is trial 203 with value: 0.031075370772588123.\n"
     ]
    },
    {
     "name": "stdout",
     "output_type": "stream",
     "text": [
      "__________Iteration 322______________\n",
      "SLIM weight: 0.690338522868264\n",
      "RP3b weight: 0.2426865682903637\n",
      "ItemKNN weight: 0.06697490884137222\n",
      "EvaluatorHoldout: Processed 34728 (100.0%) in 12.84 sec. Users per second: 2704\n",
      "EvaluatorHoldout: Processed 35209 (100.0%) in 13.95 sec. Users per second: 2524\n"
     ]
    },
    {
     "name": "stderr",
     "output_type": "stream",
     "text": [
      "[I 2024-12-18 03:28:15,186] Trial 322 finished with value: 0.03106987911497144 and parameters: {'x_0': 0.10543902167881233, 'x_1': 0.4534598870970727, 'x_2': 0.8039222480164567}. Best is trial 203 with value: 0.031075370772588123.\n"
     ]
    },
    {
     "name": "stdout",
     "output_type": "stream",
     "text": [
      "__________Iteration 323______________\n",
      "SLIM weight: 0.6728805499921862\n",
      "RP3b weight: 0.24293792431611105\n",
      "ItemKNN weight: 0.08418152569170279\n",
      "EvaluatorHoldout: Processed 34728 (100.0%) in 12.92 sec. Users per second: 2688\n",
      "EvaluatorHoldout: Processed 35209 (100.0%) in 13.91 sec. Users per second: 2531\n"
     ]
    },
    {
     "name": "stderr",
     "output_type": "stream",
     "text": [
      "[I 2024-12-18 03:28:42,107] Trial 323 finished with value: 0.03103782387753437 and parameters: {'x_0': 0.17623650596810167, 'x_1': 0.5343295439123612, 'x_2': 0.8047887984240698}. Best is trial 203 with value: 0.031075370772588123.\n"
     ]
    },
    {
     "name": "stdout",
     "output_type": "stream",
     "text": [
      "__________Iteration 324______________\n",
      "SLIM weight: 0.6743817142431622\n",
      "RP3b weight: 0.2761159995151119\n",
      "ItemKNN weight: 0.049502286241726035\n",
      "EvaluatorHoldout: Processed 34728 (100.0%) in 12.88 sec. Users per second: 2696\n",
      "EvaluatorHoldout: Processed 35209 (100.0%) in 13.94 sec. Users per second: 2525\n"
     ]
    },
    {
     "name": "stderr",
     "output_type": "stream",
     "text": [
      "[I 2024-12-18 03:29:09,024] Trial 324 finished with value: 0.031026721724932472 and parameters: {'x_0': 0.11222927947260247, 'x_1': 0.40839412502545863, 'x_2': 0.8516752656518913}. Best is trial 203 with value: 0.031075370772588123.\n"
     ]
    },
    {
     "name": "stdout",
     "output_type": "stream",
     "text": [
      "__________Iteration 325______________\n",
      "SLIM weight: 0.6659610614323441\n",
      "RP3b weight: 0.26530032675577625\n",
      "ItemKNN weight: 0.06873861181187974\n",
      "EvaluatorHoldout: Processed 34728 (100.0%) in 12.87 sec. Users per second: 2698\n",
      "EvaluatorHoldout: Processed 35209 (100.0%) in 13.92 sec. Users per second: 2529\n"
     ]
    },
    {
     "name": "stderr",
     "output_type": "stream",
     "text": [
      "[I 2024-12-18 03:29:35,909] Trial 325 finished with value: 0.031069608302891683 and parameters: {'x_0': 0.153673670743096, 'x_1': 0.4742025621284501, 'x_2': 0.8242199152032199}. Best is trial 203 with value: 0.031075370772588123.\n"
     ]
    },
    {
     "name": "stdout",
     "output_type": "stream",
     "text": [
      "__________Iteration 326______________\n",
      "SLIM weight: 0.6560268386862514\n",
      "RP3b weight: 0.2754314868213831\n",
      "ItemKNN weight: 0.06854167449236558\n",
      "EvaluatorHoldout: Processed 34728 (100.0%) in 12.82 sec. Users per second: 2710\n",
      "EvaluatorHoldout: Processed 35209 (100.0%) in 13.91 sec. Users per second: 2531\n"
     ]
    },
    {
     "name": "stderr",
     "output_type": "stream",
     "text": [
      "[I 2024-12-18 03:30:02,728] Trial 326 finished with value: 0.031045825974556806 and parameters: {'x_0': 0.1604205383447907, 'x_1': 0.46379928165404755, 'x_2': 0.8259724717174025}. Best is trial 203 with value: 0.031075370772588123.\n"
     ]
    },
    {
     "name": "stdout",
     "output_type": "stream",
     "text": [
      "__________Iteration 327______________\n",
      "SLIM weight: 0.685270627797079\n",
      "RP3b weight: 0.2560841197537487\n",
      "ItemKNN weight: 0.05864525244917236\n",
      "EvaluatorHoldout: Processed 34728 (100.0%) in 12.88 sec. Users per second: 2696\n",
      "EvaluatorHoldout: Processed 35209 (100.0%) in 13.93 sec. Users per second: 2527\n"
     ]
    },
    {
     "name": "stderr",
     "output_type": "stream",
     "text": [
      "[I 2024-12-18 03:30:29,636] Trial 327 finished with value: 0.03106148508316687 and parameters: {'x_0': 0.14361222838332, 'x_1': 0.4842217533298718, 'x_2': 0.8469791070988377}. Best is trial 203 with value: 0.031075370772588123.\n"
     ]
    },
    {
     "name": "stdout",
     "output_type": "stream",
     "text": [
      "__________Iteration 328______________\n",
      "SLIM weight: 0.6922144773605095\n",
      "RP3b weight: 0.24006693463361972\n",
      "ItemKNN weight: 0.0677185880058708\n",
      "EvaluatorHoldout: Processed 34728 (100.0%) in 12.88 sec. Users per second: 2696\n",
      "EvaluatorHoldout: Processed 35209 (100.0%) in 13.96 sec. Users per second: 2522\n"
     ]
    },
    {
     "name": "stderr",
     "output_type": "stream",
     "text": [
      "[I 2024-12-18 03:30:56,567] Trial 328 finished with value: 0.031061675908556397 and parameters: {'x_0': 0.13002642866412478, 'x_1': 0.4928755451757129, 'x_2': 0.8190806763499858}. Best is trial 203 with value: 0.031075370772588123.\n"
     ]
    },
    {
     "name": "stdout",
     "output_type": "stream",
     "text": [
      "__________Iteration 329______________\n",
      "SLIM weight: 0.6368744502041919\n",
      "RP3b weight: 0.28606992125506675\n",
      "ItemKNN weight: 0.07705562854074141\n",
      "EvaluatorHoldout: Processed 34728 (100.0%) in 12.86 sec. Users per second: 2700\n",
      "EvaluatorHoldout: Processed 35209 (100.0%) in 13.94 sec. Users per second: 2526\n"
     ]
    },
    {
     "name": "stderr",
     "output_type": "stream",
     "text": [
      "[I 2024-12-18 03:31:23,462] Trial 329 finished with value: 0.031050049271800103 and parameters: {'x_0': 0.165067709123169, 'x_1': 0.4452368732553953, 'x_2': 0.8041641505447564}. Best is trial 203 with value: 0.031075370772588123.\n"
     ]
    },
    {
     "name": "stdout",
     "output_type": "stream",
     "text": [
      "__________Iteration 330______________\n",
      "SLIM weight: 0.5598311250417669\n",
      "RP3b weight: 0.15988790399426264\n",
      "ItemKNN weight: 0.2802809709639704\n",
      "EvaluatorHoldout: Processed 34728 (100.0%) in 12.82 sec. Users per second: 2709\n",
      "EvaluatorHoldout: Processed 35209 (100.0%) in 13.93 sec. Users per second: 2528\n"
     ]
    },
    {
     "name": "stderr",
     "output_type": "stream",
     "text": [
      "[I 2024-12-18 03:31:50,303] Trial 330 finished with value: 0.03068665145548264 and parameters: {'x_0': 0.10108481055454999, 'x_1': 0.519682454003269, 'x_2': 0.31746313260328735}. Best is trial 203 with value: 0.031075370772588123.\n"
     ]
    },
    {
     "name": "stdout",
     "output_type": "stream",
     "text": [
      "__________Iteration 331______________\n",
      "SLIM weight: 0.6809962274115045\n",
      "RP3b weight: 0.2723348009897299\n",
      "ItemKNN weight: 0.04666897159876556\n",
      "EvaluatorHoldout: Processed 34728 (100.0%) in 12.82 sec. Users per second: 2709\n",
      "EvaluatorHoldout: Processed 35209 (100.0%) in 13.97 sec. Users per second: 2521\n"
     ]
    },
    {
     "name": "stderr",
     "output_type": "stream",
     "text": [
      "[I 2024-12-18 03:32:17,186] Trial 331 finished with value: 0.031047113760269255 and parameters: {'x_0': 0.12732894126819366, 'x_1': 0.43858579606938664, 'x_2': 0.8682809277021006}. Best is trial 203 with value: 0.031075370772588123.\n"
     ]
    },
    {
     "name": "stdout",
     "output_type": "stream",
     "text": [
      "__________Iteration 332______________\n",
      "SLIM weight: 0.6993194846427409\n",
      "RP3b weight: 0.24246271176364562\n",
      "ItemKNN weight: 0.05821780359361349\n",
      "EvaluatorHoldout: Processed 34728 (100.0%) in 12.86 sec. Users per second: 2700\n",
      "EvaluatorHoldout: Processed 35209 (100.0%) in 13.96 sec. Users per second: 2522\n"
     ]
    },
    {
     "name": "stderr",
     "output_type": "stream",
     "text": [
      "[I 2024-12-18 03:32:44,108] Trial 332 finished with value: 0.0310453289144105 and parameters: {'x_0': 0.11077692227602018, 'x_1': 0.4663357990255557, 'x_2': 0.8326282588106371}. Best is trial 203 with value: 0.031075370772588123.\n"
     ]
    },
    {
     "name": "stdout",
     "output_type": "stream",
     "text": [
      "__________Iteration 333______________\n",
      "SLIM weight: 0.5383231299322879\n",
      "RP3b weight: 0.256781858405848\n",
      "ItemKNN weight: 0.20489501166186413\n",
      "EvaluatorHoldout: Processed 34728 (100.0%) in 12.85 sec. Users per second: 2703\n",
      "EvaluatorHoldout: Processed 35209 (100.0%) in 13.93 sec. Users per second: 2528\n"
     ]
    },
    {
     "name": "stderr",
     "output_type": "stream",
     "text": [
      "[I 2024-12-18 03:33:10,977] Trial 333 finished with value: 0.03088977765528288 and parameters: {'x_0': 0.18226975369637155, 'x_1': 0.44397498153958526, 'x_2': 0.52313684135619}. Best is trial 203 with value: 0.031075370772588123.\n"
     ]
    },
    {
     "name": "stdout",
     "output_type": "stream",
     "text": [
      "__________Iteration 334______________\n",
      "SLIM weight: 0.6574327601004413\n",
      "RP3b weight: 0.26714849399300256\n",
      "ItemKNN weight: 0.07541874590655605\n",
      "EvaluatorHoldout: Processed 34728 (100.0%) in 12.85 sec. Users per second: 2702\n",
      "EvaluatorHoldout: Processed 35209 (100.0%) in 13.96 sec. Users per second: 2522\n"
     ]
    },
    {
     "name": "stderr",
     "output_type": "stream",
     "text": [
      "[I 2024-12-18 03:33:37,886] Trial 334 finished with value: 0.031056626463069795 and parameters: {'x_0': 0.15121757495866103, 'x_1': 0.4641202511774268, 'x_2': 0.8051677911188906}. Best is trial 203 with value: 0.031075370772588123.\n"
     ]
    },
    {
     "name": "stdout",
     "output_type": "stream",
     "text": [
      "__________Iteration 335______________\n",
      "SLIM weight: 0.730098880745111\n",
      "RP3b weight: 0.21008081057070033\n",
      "ItemKNN weight: 0.05982030868418857\n",
      "EvaluatorHoldout: Processed 34728 (100.0%) in 12.81 sec. Users per second: 2710\n",
      "EvaluatorHoldout: Processed 35209 (100.0%) in 13.92 sec. Users per second: 2529\n"
     ]
    },
    {
     "name": "stderr",
     "output_type": "stream",
     "text": [
      "[I 2024-12-18 03:34:04,718] Trial 335 finished with value: 0.03101511108551435 and parameters: {'x_0': 0.0974489384375932, 'x_1': 0.5117145155288553, 'x_2': 0.8263155544541192}. Best is trial 203 with value: 0.031075370772588123.\n"
     ]
    },
    {
     "name": "stdout",
     "output_type": "stream",
     "text": [
      "__________Iteration 336______________\n",
      "SLIM weight: 0.6674152508337735\n",
      "RP3b weight: 0.2606723767985243\n",
      "ItemKNN weight: 0.07191237236770218\n",
      "EvaluatorHoldout: Processed 34728 (100.0%) in 12.91 sec. Users per second: 2690\n",
      "EvaluatorHoldout: Processed 35209 (100.0%) in 13.95 sec. Users per second: 2524\n"
     ]
    },
    {
     "name": "stderr",
     "output_type": "stream",
     "text": [
      "[I 2024-12-18 03:34:31,666] Trial 336 finished with value: 0.031068934129359863 and parameters: {'x_0': 0.11869386550430039, 'x_1': 0.4350102074339987, 'x_2': 0.7948256875067043}. Best is trial 203 with value: 0.031075370772588123.\n"
     ]
    },
    {
     "name": "stdout",
     "output_type": "stream",
     "text": [
      "__________Iteration 337______________\n",
      "SLIM weight: 0.666933794456775\n",
      "RP3b weight: 0.2629401332273248\n",
      "ItemKNN weight: 0.07012607231590014\n",
      "EvaluatorHoldout: Processed 34728 (100.0%) in 12.85 sec. Users per second: 2703\n",
      "EvaluatorHoldout: Processed 35209 (100.0%) in 13.95 sec. Users per second: 2524\n"
     ]
    },
    {
     "name": "stderr",
     "output_type": "stream",
     "text": [
      "[I 2024-12-18 03:34:58,559] Trial 337 finished with value: 0.031068416501207476 and parameters: {'x_0': 0.11957575737174646, 'x_1': 0.432871262378416, 'x_2': 0.7998654989602394}. Best is trial 203 with value: 0.031075370772588123.\n"
     ]
    },
    {
     "name": "stdout",
     "output_type": "stream",
     "text": [
      "__________Iteration 338______________\n",
      "SLIM weight: 0.6687870152468054\n",
      "RP3b weight: 0.2600231676845119\n",
      "ItemKNN weight: 0.07118981706868271\n",
      "EvaluatorHoldout: Processed 34728 (100.0%) in 12.86 sec. Users per second: 2701\n",
      "EvaluatorHoldout: Processed 35209 (100.0%) in 13.95 sec. Users per second: 2525\n"
     ]
    },
    {
     "name": "stderr",
     "output_type": "stream",
     "text": [
      "[I 2024-12-18 03:35:25,455] Trial 338 finished with value: 0.031070420739130848 and parameters: {'x_0': 0.11600990045749206, 'x_1': 0.4327901709282423, 'x_2': 0.7950951063092059}. Best is trial 203 with value: 0.031075370772588123.\n"
     ]
    },
    {
     "name": "stdout",
     "output_type": "stream",
     "text": [
      "__________Iteration 339______________\n",
      "SLIM weight: 0.6693665479099641\n",
      "RP3b weight: 0.25978336425344134\n",
      "ItemKNN weight: 0.07085008783659452\n",
      "EvaluatorHoldout: Processed 34728 (100.0%) in 12.82 sec. Users per second: 2709\n",
      "EvaluatorHoldout: Processed 35209 (100.0%) in 13.95 sec. Users per second: 2524\n"
     ]
    },
    {
     "name": "stderr",
     "output_type": "stream",
     "text": [
      "[I 2024-12-18 03:35:52,315] Trial 339 finished with value: 0.03106944375884322 and parameters: {'x_0': 0.12049451020833384, 'x_1': 0.4398659693515447, 'x_2': 0.7993254236505851}. Best is trial 203 with value: 0.031075370772588123.\n"
     ]
    },
    {
     "name": "stdout",
     "output_type": "stream",
     "text": [
      "__________Iteration 340______________\n",
      "SLIM weight: 0.46831757162219\n",
      "RP3b weight: 0.17731238370484242\n",
      "ItemKNN weight: 0.3543700446729677\n",
      "EvaluatorHoldout: Processed 34728 (100.0%) in 12.89 sec. Users per second: 2695\n",
      "EvaluatorHoldout: Processed 35209 (100.0%) in 13.93 sec. Users per second: 2528\n"
     ]
    },
    {
     "name": "stderr",
     "output_type": "stream",
     "text": [
      "[I 2024-12-18 03:36:19,225] Trial 340 finished with value: 0.030532823338195566 and parameters: {'x_0': 0.11752112776786505, 'x_1': 0.4445609405655703, 'x_2': 0.1978647263366492}. Best is trial 203 with value: 0.031075370772588123.\n"
     ]
    },
    {
     "name": "stdout",
     "output_type": "stream",
     "text": [
      "__________Iteration 341______________\n",
      "SLIM weight: 0.6860412196392767\n",
      "RP3b weight: 0.2457011800458385\n",
      "ItemKNN weight: 0.06825760031488481\n",
      "EvaluatorHoldout: Processed 34728 (100.0%) in 12.87 sec. Users per second: 2699\n",
      "EvaluatorHoldout: Processed 35209 (100.0%) in 14.00 sec. Users per second: 2516\n"
     ]
    },
    {
     "name": "stderr",
     "output_type": "stream",
     "text": [
      "[I 2024-12-18 03:36:46,182] Trial 341 finished with value: 0.03106956830954656 and parameters: {'x_0': 0.10179856206213729, 'x_1': 0.44119354858859927, 'x_2': 0.7966643022123847}. Best is trial 203 with value: 0.031075370772588123.\n"
     ]
    },
    {
     "name": "stdout",
     "output_type": "stream",
     "text": [
      "__________Iteration 342______________\n",
      "SLIM weight: 0.6803067491578472\n",
      "RP3b weight: 0.2518876415287089\n",
      "ItemKNN weight: 0.06780560931344391\n",
      "EvaluatorHoldout: Processed 34728 (100.0%) in 12.92 sec. Users per second: 2689\n",
      "EvaluatorHoldout: Processed 35209 (100.0%) in 13.93 sec. Users per second: 2528\n"
     ]
    },
    {
     "name": "stderr",
     "output_type": "stream",
     "text": [
      "[I 2024-12-18 03:37:13,123] Trial 342 finished with value: 0.03107451262966882 and parameters: {'x_0': 0.10443532622826851, 'x_1': 0.4332338614734855, 'x_2': 0.7983794265297193}. Best is trial 203 with value: 0.031075370772588123.\n"
     ]
    },
    {
     "name": "stdout",
     "output_type": "stream",
     "text": [
      "__________Iteration 343______________\n",
      "SLIM weight: 0.6670745257380041\n",
      "RP3b weight: 0.26112538490276743\n",
      "ItemKNN weight: 0.07180008935922857\n",
      "EvaluatorHoldout: Processed 34728 (100.0%) in 12.83 sec. Users per second: 2707\n",
      "EvaluatorHoldout: Processed 35209 (100.0%) in 13.91 sec. Users per second: 2532\n"
     ]
    },
    {
     "name": "stderr",
     "output_type": "stream",
     "text": [
      "[I 2024-12-18 03:37:39,952] Trial 343 finished with value: 0.031068447353216556 and parameters: {'x_0': 0.12045096820220777, 'x_1': 0.43670129809555464, 'x_2': 0.7962760871908514}. Best is trial 203 with value: 0.031075370772588123.\n"
     ]
    },
    {
     "name": "stdout",
     "output_type": "stream",
     "text": [
      "__________Iteration 344______________\n",
      "SLIM weight: 0.6654045382008666\n",
      "RP3b weight: 0.26344967747391657\n",
      "ItemKNN weight: 0.07114578432521684\n",
      "EvaluatorHoldout: Processed 34728 (100.0%) in 12.86 sec. Users per second: 2700\n",
      "EvaluatorHoldout: Processed 35209 (100.0%) in 13.96 sec. Users per second: 2521\n"
     ]
    },
    {
     "name": "stderr",
     "output_type": "stream",
     "text": [
      "[I 2024-12-18 03:38:06,871] Trial 344 finished with value: 0.031067152711502063 and parameters: {'x_0': 0.12282622968721825, 'x_1': 0.4359417144043468, 'x_2': 0.7991457718423063}. Best is trial 203 with value: 0.031075370772588123.\n"
     ]
    },
    {
     "name": "stdout",
     "output_type": "stream",
     "text": [
      "__________Iteration 345______________\n",
      "SLIM weight: 0.6774538022547612\n",
      "RP3b weight: 0.25280820321739\n",
      "ItemKNN weight: 0.06973799452784889\n",
      "EvaluatorHoldout: Processed 34728 (100.0%) in 12.86 sec. Users per second: 2701\n",
      "EvaluatorHoldout: Processed 35209 (100.0%) in 13.92 sec. Users per second: 2530\n"
     ]
    },
    {
     "name": "stderr",
     "output_type": "stream",
     "text": [
      "[I 2024-12-18 03:38:33,739] Trial 345 finished with value: 0.03106972028425797 and parameters: {'x_0': 0.10592597501289598, 'x_1': 0.43266940694961153, 'x_2': 0.7936562832090142}. Best is trial 203 with value: 0.031075370772588123.\n"
     ]
    },
    {
     "name": "stdout",
     "output_type": "stream",
     "text": [
      "__________Iteration 346______________\n",
      "SLIM weight: 0.6554760842668207\n",
      "RP3b weight: 0.2714517045711389\n",
      "ItemKNN weight: 0.07307221116204032\n",
      "EvaluatorHoldout: Processed 34728 (100.0%) in 12.87 sec. Users per second: 2697\n",
      "EvaluatorHoldout: Processed 35209 (100.0%) in 13.94 sec. Users per second: 2525\n"
     ]
    },
    {
     "name": "stderr",
     "output_type": "stream",
     "text": [
      "[I 2024-12-18 03:39:00,652] Trial 346 finished with value: 0.031071457138102606 and parameters: {'x_0': 0.12993616775517008, 'x_1': 0.4295066050042539, 'x_2': 0.7965242119993098}. Best is trial 203 with value: 0.031075370772588123.\n"
     ]
    },
    {
     "name": "stdout",
     "output_type": "stream",
     "text": [
      "__________Iteration 347______________\n",
      "SLIM weight: 0.34929362002324926\n",
      "RP3b weight: 0.1411522155932779\n",
      "ItemKNN weight: 0.5095541643834729\n",
      "EvaluatorHoldout: Processed 34728 (100.0%) in 12.84 sec. Users per second: 2705\n",
      "EvaluatorHoldout: Processed 35209 (100.0%) in 13.91 sec. Users per second: 2531\n"
     ]
    },
    {
     "name": "stderr",
     "output_type": "stream",
     "text": [
      "[I 2024-12-18 03:39:27,496] Trial 347 finished with value: 0.02998012445014779 and parameters: {'x_0': 0.1396491450598802, 'x_1': 0.4513396101628607, 'x_2': 0.056594015351068894}. Best is trial 203 with value: 0.031075370772588123.\n"
     ]
    },
    {
     "name": "stdout",
     "output_type": "stream",
     "text": [
      "__________Iteration 348______________\n",
      "SLIM weight: 0.6718649074461758\n",
      "RP3b weight: 0.2583786424460767\n",
      "ItemKNN weight: 0.06975645010774739\n",
      "EvaluatorHoldout: Processed 34728 (100.0%) in 12.92 sec. Users per second: 2688\n",
      "EvaluatorHoldout: Processed 35209 (100.0%) in 14.01 sec. Users per second: 2513\n"
     ]
    },
    {
     "name": "stderr",
     "output_type": "stream",
     "text": [
      "[I 2024-12-18 03:39:54,517] Trial 348 finished with value: 0.031069319208139906 and parameters: {'x_0': 0.11296763630527958, 'x_1': 0.43230988212950244, 'x_2': 0.7973937845372304}. Best is trial 203 with value: 0.031075370772588123.\n"
     ]
    },
    {
     "name": "stdout",
     "output_type": "stream",
     "text": [
      "__________Iteration 349______________\n",
      "SLIM weight: 0.6744198096098968\n",
      "RP3b weight: 0.257089615972773\n",
      "ItemKNN weight: 0.0684905744173301\n",
      "EvaluatorHoldout: Processed 34728 (100.0%) in 12.83 sec. Users per second: 2706\n",
      "EvaluatorHoldout: Processed 35209 (100.0%) in 13.92 sec. Users per second: 2529\n"
     ]
    },
    {
     "name": "stderr",
     "output_type": "stream",
     "text": [
      "[I 2024-12-18 03:40:21,367] Trial 349 finished with value: 0.03106933063480993 and parameters: {'x_0': 0.11002689371647796, 'x_1': 0.4311399305266811, 'x_2': 0.7992075901223951}. Best is trial 203 with value: 0.031075370772588123.\n"
     ]
    },
    {
     "name": "stdout",
     "output_type": "stream",
     "text": [
      "__________Iteration 350______________\n",
      "SLIM weight: 0.6683725762136056\n",
      "RP3b weight: 0.26280194731712897\n",
      "ItemKNN weight: 0.06882547646926546\n",
      "EvaluatorHoldout: Processed 34728 (100.0%) in 12.86 sec. Users per second: 2700\n",
      "EvaluatorHoldout: Processed 35209 (100.0%) in 13.95 sec. Users per second: 2524\n"
     ]
    },
    {
     "name": "stderr",
     "output_type": "stream",
     "text": [
      "[I 2024-12-18 03:40:48,274] Trial 350 finished with value: 0.031067935438399173 and parameters: {'x_0': 0.1138421656020953, 'x_1': 0.425541022930214, 'x_2': 0.7995084982823872}. Best is trial 203 with value: 0.031075370772588123.\n"
     ]
    },
    {
     "name": "stdout",
     "output_type": "stream",
     "text": [
      "__________Iteration 351______________\n",
      "SLIM weight: 0.6571764257307059\n",
      "RP3b weight: 0.2722080182652984\n",
      "ItemKNN weight: 0.07061555600399573\n",
      "EvaluatorHoldout: Processed 34728 (100.0%) in 12.87 sec. Users per second: 2698\n",
      "EvaluatorHoldout: Processed 35209 (100.0%) in 13.94 sec. Users per second: 2526\n"
     ]
    },
    {
     "name": "stderr",
     "output_type": "stream",
     "text": [
      "[I 2024-12-18 03:41:15,179] Trial 351 finished with value: 0.0310564356376803 and parameters: {'x_0': 0.13783165768199512, 'x_1': 0.44005918327316856, 'x_2': 0.8082030690874087}. Best is trial 203 with value: 0.031075370772588123.\n"
     ]
    },
    {
     "name": "stdout",
     "output_type": "stream",
     "text": [
      "__________Iteration 352______________\n",
      "SLIM weight: 0.6752029468431746\n",
      "RP3b weight: 0.2563240422530098\n",
      "ItemKNN weight: 0.06847301090381558\n",
      "EvaluatorHoldout: Processed 34728 (100.0%) in 12.89 sec. Users per second: 2694\n",
      "EvaluatorHoldout: Processed 35209 (100.0%) in 13.93 sec. Users per second: 2527\n"
     ]
    },
    {
     "name": "stderr",
     "output_type": "stream",
     "text": [
      "[I 2024-12-18 03:41:42,095] Trial 352 finished with value: 0.031066625942013665 and parameters: {'x_0': 0.1061115893495586, 'x_1': 0.4267318240081741, 'x_2': 0.796529062485433}. Best is trial 203 with value: 0.031075370772588123.\n"
     ]
    },
    {
     "name": "stdout",
     "output_type": "stream",
     "text": [
      "__________Iteration 353______________\n",
      "SLIM weight: 0.6836697177815734\n",
      "RP3b weight: 0.24703326583324955\n",
      "ItemKNN weight: 0.06929701638517712\n",
      "EvaluatorHoldout: Processed 34728 (100.0%) in 12.88 sec. Users per second: 2696\n",
      "EvaluatorHoldout: Processed 35209 (100.0%) in 13.95 sec. Users per second: 2524\n"
     ]
    },
    {
     "name": "stderr",
     "output_type": "stream",
     "text": [
      "[I 2024-12-18 03:42:09,023] Trial 353 finished with value: 0.031067874877048016 and parameters: {'x_0': 0.10346576970075137, 'x_1': 0.44056737055939826, 'x_2': 0.7945832889322886}. Best is trial 203 with value: 0.031075370772588123.\n"
     ]
    },
    {
     "name": "stdout",
     "output_type": "stream",
     "text": [
      "__________Iteration 354______________\n",
      "SLIM weight: 0.6769388942210504\n",
      "RP3b weight: 0.2664885445112336\n",
      "ItemKNN weight: 0.05657256126771609\n",
      "EvaluatorHoldout: Processed 34728 (100.0%) in 12.91 sec. Users per second: 2689\n",
      "EvaluatorHoldout: Processed 35209 (100.0%) in 13.93 sec. Users per second: 2528\n"
     ]
    },
    {
     "name": "stderr",
     "output_type": "stream",
     "text": [
      "[I 2024-12-18 03:42:35,963] Trial 354 finished with value: 0.03104578255321067 and parameters: {'x_0': 0.13091058552848578, 'x_1': 0.44914032785770347, 'x_2': 0.8437320886974653}. Best is trial 203 with value: 0.031075370772588123.\n"
     ]
    },
    {
     "name": "stdout",
     "output_type": "stream",
     "text": [
      "__________Iteration 355______________\n",
      "SLIM weight: 0.6844280202229066\n",
      "RP3b weight: 0.2542462514131896\n",
      "ItemKNN weight: 0.06132572836390377\n",
      "EvaluatorHoldout: Processed 34728 (100.0%) in 12.90 sec. Users per second: 2693\n",
      "EvaluatorHoldout: Processed 35209 (100.0%) in 13.99 sec. Users per second: 2517\n"
     ]
    },
    {
     "name": "stderr",
     "output_type": "stream",
     "text": [
      "[I 2024-12-18 03:43:02,943] Trial 355 finished with value: 0.031068599327927986 and parameters: {'x_0': 0.1021862521678808, 'x_1': 0.42856475557664514, 'x_2': 0.8151549126952072}. Best is trial 203 with value: 0.031075370772588123.\n"
     ]
    },
    {
     "name": "stdout",
     "output_type": "stream",
     "text": [
      "__________Iteration 356______________\n",
      "SLIM weight: 0.7071610371007285\n",
      "RP3b weight: 0.23478657555480698\n",
      "ItemKNN weight: 0.0580523873444645\n",
      "EvaluatorHoldout: Processed 34728 (100.0%) in 12.82 sec. Users per second: 2709\n",
      "EvaluatorHoldout: Processed 35209 (100.0%) in 13.95 sec. Users per second: 2525\n"
     ]
    },
    {
     "name": "stderr",
     "output_type": "stream",
     "text": [
      "[I 2024-12-18 03:43:29,804] Trial 356 finished with value: 0.031037733606841082 and parameters: {'x_0': 0.09649504831116801, 'x_1': 0.4600897789482053, 'x_2': 0.8253455411994716}. Best is trial 203 with value: 0.031075370772588123.\n"
     ]
    },
    {
     "name": "stdout",
     "output_type": "stream",
     "text": [
      "__________Iteration 357______________\n",
      "SLIM weight: 0.6923191366734265\n",
      "RP3b weight: 0.25815859967346694\n",
      "ItemKNN weight: 0.049522263653106496\n",
      "EvaluatorHoldout: Processed 34728 (100.0%) in 12.81 sec. Users per second: 2710\n",
      "EvaluatorHoldout: Processed 35209 (100.0%) in 13.95 sec. Users per second: 2524\n"
     ]
    },
    {
     "name": "stderr",
     "output_type": "stream",
     "text": [
      "[I 2024-12-18 03:43:56,661] Trial 357 finished with value: 0.031050697163990896 and parameters: {'x_0': 0.10145922853587402, 'x_1': 0.42604597301592834, 'x_2': 0.8490222366937901}. Best is trial 203 with value: 0.031075370772588123.\n"
     ]
    },
    {
     "name": "stdout",
     "output_type": "stream",
     "text": [
      "__________Iteration 358______________\n",
      "SLIM weight: 0.6664217957752968\n",
      "RP3b weight: 0.2648051442592003\n",
      "ItemKNN weight: 0.06877305996550281\n",
      "EvaluatorHoldout: Processed 34728 (100.0%) in 12.89 sec. Users per second: 2695\n",
      "EvaluatorHoldout: Processed 35209 (100.0%) in 13.94 sec. Users per second: 2526\n"
     ]
    },
    {
     "name": "stderr",
     "output_type": "stream",
     "text": [
      "[I 2024-12-18 03:44:23,578] Trial 358 finished with value: 0.03106611974053131 and parameters: {'x_0': 0.140146318240992, 'x_1': 0.4580270279834079, 'x_2': 0.8164495772359699}. Best is trial 203 with value: 0.031075370772588123.\n"
     ]
    },
    {
     "name": "stdout",
     "output_type": "stream",
     "text": [
      "__________Iteration 359______________\n",
      "SLIM weight: 0.22749564378065085\n",
      "RP3b weight: 0.6059649124269358\n",
      "ItemKNN weight: 0.16653944379241317\n",
      "EvaluatorHoldout: Processed 34728 (100.0%) in 12.87 sec. Users per second: 2699\n",
      "EvaluatorHoldout: Processed 35209 (100.0%) in 13.91 sec. Users per second: 2531\n"
     ]
    },
    {
     "name": "stderr",
     "output_type": "stream",
     "text": [
      "[I 2024-12-18 03:44:50,446] Trial 359 finished with value: 0.030528376078219784 and parameters: {'x_0': 0.7212593398999787, 'x_1': 0.4188009886597718, 'x_2': 0.7872543362664793}. Best is trial 203 with value: 0.031075370772588123.\n"
     ]
    },
    {
     "name": "stdout",
     "output_type": "stream",
     "text": [
      "__________Iteration 360______________\n",
      "SLIM weight: 0.6727838376868663\n",
      "RP3b weight: 0.26173528776307947\n",
      "ItemKNN weight: 0.06548087455005425\n",
      "EvaluatorHoldout: Processed 34728 (100.0%) in 12.86 sec. Users per second: 2701\n",
      "EvaluatorHoldout: Processed 35209 (100.0%) in 13.95 sec. Users per second: 2524\n"
     ]
    },
    {
     "name": "stderr",
     "output_type": "stream",
     "text": [
      "[I 2024-12-18 03:45:17,351] Trial 360 finished with value: 0.031055340962691382 and parameters: {'x_0': 0.11792029707425197, 'x_1': 0.4353284748267861, 'x_2': 0.8121557778789512}. Best is trial 203 with value: 0.031075370772588123.\n"
     ]
    },
    {
     "name": "stdout",
     "output_type": "stream",
     "text": [
      "__________Iteration 361______________\n",
      "SLIM weight: 0.670986845352423\n",
      "RP3b weight: 0.25681856516981555\n",
      "ItemKNN weight: 0.07219458947776142\n",
      "EvaluatorHoldout: Processed 34728 (100.0%) in 12.91 sec. Users per second: 2689\n",
      "EvaluatorHoldout: Processed 35209 (100.0%) in 13.98 sec. Users per second: 2519\n"
     ]
    },
    {
     "name": "stderr",
     "output_type": "stream",
     "text": [
      "[I 2024-12-18 03:45:44,338] Trial 361 finished with value: 0.031065358724307268 and parameters: {'x_0': 0.10212487492677112, 'x_1': 0.4175875407678281, 'x_2': 0.7823261774373579}. Best is trial 203 with value: 0.031075370772588123.\n"
     ]
    },
    {
     "name": "stdout",
     "output_type": "stream",
     "text": [
      "__________Iteration 362______________\n",
      "SLIM weight: 0.658607372894119\n",
      "RP3b weight: 0.2724605137387643\n",
      "ItemKNN weight: 0.06893211336711674\n",
      "EvaluatorHoldout: Processed 34728 (100.0%) in 12.83 sec. Users per second: 2706\n",
      "EvaluatorHoldout: Processed 35209 (100.0%) in 13.96 sec. Users per second: 2523\n"
     ]
    },
    {
     "name": "stderr",
     "output_type": "stream",
     "text": [
      "[I 2024-12-18 03:46:11,223] Trial 362 finished with value: 0.03105043092257917 and parameters: {'x_0': 0.14956434289654674, 'x_1': 0.45565179189464977, 'x_2': 0.8196617459214922}. Best is trial 203 with value: 0.031075370772588123.\n"
     ]
    },
    {
     "name": "stdout",
     "output_type": "stream",
     "text": [
      "__________Iteration 363______________\n",
      "SLIM weight: 0.6538512859535532\n",
      "RP3b weight: 0.27521401864932044\n",
      "ItemKNN weight: 0.07093469539712635\n",
      "EvaluatorHoldout: Processed 34728 (100.0%) in 12.88 sec. Users per second: 2697\n",
      "EvaluatorHoldout: Processed 35209 (100.0%) in 13.95 sec. Users per second: 2523\n"
     ]
    },
    {
     "name": "stderr",
     "output_type": "stream",
     "text": [
      "[I 2024-12-18 03:46:38,146] Trial 363 finished with value: 0.03105634536698705 and parameters: {'x_0': 0.12242171246761031, 'x_1': 0.413112602810543, 'x_2': 0.7962400860989705}. Best is trial 203 with value: 0.031075370772588123.\n"
     ]
    },
    {
     "name": "stdout",
     "output_type": "stream",
     "text": [
      "__________Iteration 364______________\n",
      "SLIM weight: 0.7205322156204137\n",
      "RP3b weight: 0.2273179590488564\n",
      "ItemKNN weight: 0.052149825330729926\n",
      "EvaluatorHoldout: Processed 34728 (100.0%) in 12.89 sec. Users per second: 2695\n",
      "EvaluatorHoldout: Processed 35209 (100.0%) in 13.93 sec. Users per second: 2528\n"
     ]
    },
    {
     "name": "stderr",
     "output_type": "stream",
     "text": [
      "[I 2024-12-18 03:47:05,055] Trial 364 finished with value: 0.03102961381511727 and parameters: {'x_0': 0.09890173301811944, 'x_1': 0.4819485892816971, 'x_2': 0.8458163204571445}. Best is trial 203 with value: 0.031075370772588123.\n"
     ]
    },
    {
     "name": "stdout",
     "output_type": "stream",
     "text": [
      "__________Iteration 365______________\n",
      "SLIM weight: 0.6884941989979158\n",
      "RP3b weight: 0.23890037230827046\n",
      "ItemKNN weight: 0.07260542869381373\n",
      "EvaluatorHoldout: Processed 34728 (100.0%) in 12.87 sec. Users per second: 2698\n",
      "EvaluatorHoldout: Processed 35209 (100.0%) in 13.95 sec. Users per second: 2524\n"
     ]
    },
    {
     "name": "stderr",
     "output_type": "stream",
     "text": [
      "[I 2024-12-18 03:47:31,968] Trial 365 finished with value: 0.03105668359641998 and parameters: {'x_0': 0.09521941505622869, 'x_1': 0.44220974133737573, 'x_2': 0.7803709494374501}. Best is trial 203 with value: 0.031075370772588123.\n"
     ]
    },
    {
     "name": "stdout",
     "output_type": "stream",
     "text": [
      "__________Iteration 366______________\n",
      "SLIM weight: 0.6769791546276274\n",
      "RP3b weight: 0.2545972167784112\n",
      "ItemKNN weight: 0.06842362859396148\n",
      "EvaluatorHoldout: Processed 34728 (100.0%) in 12.89 sec. Users per second: 2695\n",
      "EvaluatorHoldout: Processed 35209 (100.0%) in 13.94 sec. Users per second: 2527\n"
     ]
    },
    {
     "name": "stderr",
     "output_type": "stream",
     "text": [
      "[I 2024-12-18 03:47:58,886] Trial 366 finished with value: 0.031067441806253846 and parameters: {'x_0': 0.12753110506580134, 'x_1': 0.4609369986594466, 'x_2': 0.812087534291171}. Best is trial 203 with value: 0.031075370772588123.\n"
     ]
    },
    {
     "name": "stdout",
     "output_type": "stream",
     "text": [
      "__________Iteration 367______________\n",
      "SLIM weight: 0.6696892986801506\n",
      "RP3b weight: 0.28696029873845347\n",
      "ItemKNN weight: 0.04335040258139591\n",
      "EvaluatorHoldout: Processed 34728 (100.0%) in 12.84 sec. Users per second: 2705\n",
      "EvaluatorHoldout: Processed 35209 (100.0%) in 13.93 sec. Users per second: 2528\n"
     ]
    },
    {
     "name": "stderr",
     "output_type": "stream",
     "text": [
      "[I 2024-12-18 03:48:25,746] Trial 367 finished with value: 0.031037234261360687 and parameters: {'x_0': 0.1429888440693936, 'x_1': 0.434559199717146, 'x_2': 0.8817001702370495}. Best is trial 203 with value: 0.031075370772588123.\n"
     ]
    },
    {
     "name": "stdout",
     "output_type": "stream",
     "text": [
      "__________Iteration 368______________\n",
      "SLIM weight: 0.65841000261531\n",
      "RP3b weight: 0.2655495642490827\n",
      "ItemKNN weight: 0.07604043313560724\n",
      "EvaluatorHoldout: Processed 34728 (100.0%) in 12.90 sec. Users per second: 2691\n",
      "EvaluatorHoldout: Processed 35209 (100.0%) in 13.95 sec. Users per second: 2524\n"
     ]
    },
    {
     "name": "stderr",
     "output_type": "stream",
     "text": [
      "[I 2024-12-18 03:48:52,694] Trial 368 finished with value: 0.0310638104105181 and parameters: {'x_0': 0.11287469670116673, 'x_1': 0.4148525599781846, 'x_2': 0.7772906228217606}. Best is trial 203 with value: 0.031075370772588123.\n"
     ]
    },
    {
     "name": "stdout",
     "output_type": "stream",
     "text": [
      "__________Iteration 369______________\n",
      "SLIM weight: 0.7173952581995433\n",
      "RP3b weight: 0.21513126150648562\n",
      "ItemKNN weight: 0.06747348029397109\n",
      "EvaluatorHoldout: Processed 34728 (100.0%) in 12.88 sec. Users per second: 2697\n",
      "EvaluatorHoldout: Processed 35209 (100.0%) in 13.94 sec. Users per second: 2526\n"
     ]
    },
    {
     "name": "stderr",
     "output_type": "stream",
     "text": [
      "[I 2024-12-18 03:49:19,603] Trial 369 finished with value: 0.03103337090422337 and parameters: {'x_0': 0.08897388346662138, 'x_1': 0.4840683097977379, 'x_2': 0.7964793948220383}. Best is trial 203 with value: 0.031075370772588123.\n"
     ]
    },
    {
     "name": "stdout",
     "output_type": "stream",
     "text": [
      "__________Iteration 370______________\n",
      "SLIM weight: 0.6859290248906125\n",
      "RP3b weight: 0.25953848251357137\n",
      "ItemKNN weight: 0.05453249259581628\n",
      "EvaluatorHoldout: Processed 34728 (100.0%) in 12.84 sec. Users per second: 2705\n",
      "EvaluatorHoldout: Processed 35209 (100.0%) in 13.97 sec. Users per second: 2520\n"
     ]
    },
    {
     "name": "stderr",
     "output_type": "stream",
     "text": [
      "[I 2024-12-18 03:49:46,505] Trial 370 finished with value: 0.03106022814946349 and parameters: {'x_0': 0.09453291804675935, 'x_1': 0.40962467593049495, 'x_2': 0.8290050160048051}. Best is trial 203 with value: 0.031075370772588123.\n"
     ]
    },
    {
     "name": "stdout",
     "output_type": "stream",
     "text": [
      "__________Iteration 371______________\n",
      "SLIM weight: 0.6472559199948353\n",
      "RP3b weight: 0.27434083371869905\n",
      "ItemKNN weight: 0.07840324628646571\n",
      "EvaluatorHoldout: Processed 34728 (100.0%) in 12.84 sec. Users per second: 2704\n",
      "EvaluatorHoldout: Processed 35209 (100.0%) in 13.91 sec. Users per second: 2531\n"
     ]
    },
    {
     "name": "stderr",
     "output_type": "stream",
     "text": [
      "[I 2024-12-18 03:50:13,352] Trial 371 finished with value: 0.031058904941073887 and parameters: {'x_0': 0.1515021728075905, 'x_1': 0.4493851804798201, 'x_2': 0.7956511546317425}. Best is trial 203 with value: 0.031075370772588123.\n"
     ]
    },
    {
     "name": "stdout",
     "output_type": "stream",
     "text": [
      "__________Iteration 372______________\n",
      "SLIM weight: 0.6839959978381266\n",
      "RP3b weight: 0.2687418573948038\n",
      "ItemKNN weight: 0.04726214476706963\n",
      "EvaluatorHoldout: Processed 34728 (100.0%) in 12.92 sec. Users per second: 2688\n",
      "EvaluatorHoldout: Processed 35209 (100.0%) in 13.94 sec. Users per second: 2526\n"
     ]
    },
    {
     "name": "stderr",
     "output_type": "stream",
     "text": [
      "[I 2024-12-18 03:50:40,301] Trial 372 finished with value: 0.031053135615375455 and parameters: {'x_0': 0.117636364999205, 'x_1': 0.4313363156250282, 'x_2': 0.8625357668782374}. Best is trial 203 with value: 0.031075370772588123.\n"
     ]
    },
    {
     "name": "stdout",
     "output_type": "stream",
     "text": [
      "__________Iteration 373______________\n",
      "SLIM weight: 0.4481723536044181\n",
      "RP3b weight: 0.4080022045610684\n",
      "ItemKNN weight: 0.14382544183451357\n",
      "EvaluatorHoldout: Processed 34728 (100.0%) in 12.83 sec. Users per second: 2707\n",
      "EvaluatorHoldout: Processed 35209 (100.0%) in 13.93 sec. Users per second: 2527\n"
     ]
    },
    {
     "name": "stderr",
     "output_type": "stream",
     "text": [
      "[I 2024-12-18 03:51:07,159] Trial 373 finished with value: 0.03100343531407702 and parameters: {'x_0': 0.43813032207231206, 'x_1': 0.471766148258158, 'x_2': 0.7673349114895089}. Best is trial 203 with value: 0.031075370772588123.\n"
     ]
    },
    {
     "name": "stdout",
     "output_type": "stream",
     "text": [
      "__________Iteration 374______________\n",
      "SLIM weight: 0.6454872595680646\n",
      "RP3b weight: 0.292268527885084\n",
      "ItemKNN weight: 0.06224421254685138\n",
      "EvaluatorHoldout: Processed 34728 (100.0%) in 12.85 sec. Users per second: 2703\n",
      "EvaluatorHoldout: Processed 35209 (100.0%) in 13.95 sec. Users per second: 2524\n"
     ]
    },
    {
     "name": "stderr",
     "output_type": "stream",
     "text": [
      "[I 2024-12-18 03:51:34,051] Trial 374 finished with value: 0.031037350813395048 and parameters: {'x_0': 0.13602645576381178, 'x_1': 0.4052430205613069, 'x_2': 0.8250028884156017}. Best is trial 203 with value: 0.031075370772588123.\n"
     ]
    },
    {
     "name": "stdout",
     "output_type": "stream",
     "text": [
      "__________Iteration 375______________\n",
      "SLIM weight: 0.6712793115682117\n",
      "RP3b weight: 0.25296360018324954\n",
      "ItemKNN weight: 0.07575708824853868\n",
      "EvaluatorHoldout: Processed 34728 (100.0%) in 12.83 sec. Users per second: 2708\n",
      "EvaluatorHoldout: Processed 35209 (100.0%) in 13.94 sec. Users per second: 2526\n"
     ]
    },
    {
     "name": "stderr",
     "output_type": "stream",
     "text": [
      "[I 2024-12-18 03:52:00,913] Trial 375 finished with value: 0.031063219651677507 and parameters: {'x_0': 0.10691389189059078, 'x_1': 0.43062882711119654, 'x_2': 0.7770014835938392}. Best is trial 203 with value: 0.031075370772588123.\n"
     ]
    },
    {
     "name": "stdout",
     "output_type": "stream",
     "text": [
      "__________Iteration 376______________\n",
      "SLIM weight: 0.004658029010306466\n",
      "RP3b weight: 0.5750171781721174\n",
      "ItemKNN weight: 0.42032479281757623\n",
      "EvaluatorHoldout: Processed 34728 (100.0%) in 12.87 sec. Users per second: 2699\n",
      "EvaluatorHoldout: Processed 35209 (100.0%) in 13.92 sec. Users per second: 2530\n"
     ]
    },
    {
     "name": "stderr",
     "output_type": "stream",
     "text": [
      "[I 2024-12-18 03:52:27,789] Trial 376 finished with value: 0.02994643062822838 and parameters: {'x_0': 0.9936426076584836, 'x_1': 0.45507054994191803, 'x_2': 0.5624230903137185}. Best is trial 203 with value: 0.031075370772588123.\n"
     ]
    },
    {
     "name": "stdout",
     "output_type": "stream",
     "text": [
      "__________Iteration 377______________\n",
      "SLIM weight: 0.7237651849084856\n",
      "RP3b weight: 0.21354613688388682\n",
      "ItemKNN weight: 0.06268867820762755\n",
      "EvaluatorHoldout: Processed 34728 (100.0%) in 12.89 sec. Users per second: 2695\n",
      "EvaluatorHoldout: Processed 35209 (100.0%) in 13.95 sec. Users per second: 2523\n"
     ]
    },
    {
     "name": "stderr",
     "output_type": "stream",
     "text": [
      "[I 2024-12-18 03:52:54,727] Trial 377 finished with value: 0.03102969151647348 and parameters: {'x_0': 0.0883787414937054, 'x_1': 0.4887885895970052, 'x_2': 0.8104724748512874}. Best is trial 203 with value: 0.031075370772588123.\n"
     ]
    },
    {
     "name": "stdout",
     "output_type": "stream",
     "text": [
      "__________Iteration 378______________\n",
      "SLIM weight: 0.6371200834953141\n",
      "RP3b weight: 0.30046587655153517\n",
      "ItemKNN weight: 0.06241403995315082\n",
      "EvaluatorHoldout: Processed 34728 (100.0%) in 12.83 sec. Users per second: 2706\n",
      "EvaluatorHoldout: Processed 35209 (100.0%) in 13.95 sec. Users per second: 2525\n"
     ]
    },
    {
     "name": "stderr",
     "output_type": "stream",
     "text": [
      "[I 2024-12-18 03:53:21,603] Trial 378 finished with value: 0.03102942527506173 and parameters: {'x_0': 0.16031607995758257, 'x_1': 0.4217616978644761, 'x_2': 0.8358288613010452}. Best is trial 203 with value: 0.031075370772588123.\n"
     ]
    },
    {
     "name": "stdout",
     "output_type": "stream",
     "text": [
      "__________Iteration 379______________\n",
      "SLIM weight: 0.6651666083214733\n",
      "RP3b weight: 0.25949363662259983\n",
      "ItemKNN weight: 0.07533975505592677\n",
      "EvaluatorHoldout: Processed 34728 (100.0%) in 12.87 sec. Users per second: 2697\n",
      "EvaluatorHoldout: Processed 35209 (100.0%) in 13.97 sec. Users per second: 2521\n"
     ]
    },
    {
     "name": "stderr",
     "output_type": "stream",
     "text": [
      "[I 2024-12-18 03:53:48,542] Trial 379 finished with value: 0.03106211355001853 and parameters: {'x_0': 0.12807381680587945, 'x_1': 0.4485429035296781, 'x_2': 0.7923315584497088}. Best is trial 203 with value: 0.031075370772588123.\n"
     ]
    },
    {
     "name": "stdout",
     "output_type": "stream",
     "text": [
      "__________Iteration 380______________\n",
      "SLIM weight: 0.6704136604402287\n",
      "RP3b weight: 0.2555019439192812\n",
      "ItemKNN weight: 0.07408439564049009\n",
      "EvaluatorHoldout: Processed 34728 (100.0%) in 12.83 sec. Users per second: 2708\n",
      "EvaluatorHoldout: Processed 35209 (100.0%) in 13.99 sec. Users per second: 2517\n"
     ]
    },
    {
     "name": "stderr",
     "output_type": "stream",
     "text": [
      "[I 2024-12-18 03:54:15,455] Trial 380 finished with value: 0.031059341439869097 and parameters: {'x_0': 0.09238474853158442, 'x_1': 0.4034400480937893, 'x_2': 0.7685871930871088}. Best is trial 203 with value: 0.031075370772588123.\n"
     ]
    },
    {
     "name": "stdout",
     "output_type": "stream",
     "text": [
      "__________Iteration 381______________\n",
      "SLIM weight: 0.6955386816897152\n",
      "RP3b weight: 0.23882478447825845\n",
      "ItemKNN weight: 0.06563653383202625\n",
      "EvaluatorHoldout: Processed 34728 (100.0%) in 12.86 sec. Users per second: 2701\n",
      "EvaluatorHoldout: Processed 35209 (100.0%) in 13.94 sec. Users per second: 2526\n"
     ]
    },
    {
     "name": "stderr",
     "output_type": "stream",
     "text": [
      "[I 2024-12-18 03:54:42,347] Trial 381 finished with value: 0.03106507305755653 and parameters: {'x_0': 0.11228965618836066, 'x_1': 0.47197429409396674, 'x_2': 0.8135468058808812}. Best is trial 203 with value: 0.031075370772588123.\n"
     ]
    },
    {
     "name": "stdout",
     "output_type": "stream",
     "text": [
      "__________Iteration 382______________\n",
      "SLIM weight: 0.6882283007488212\n",
      "RP3b weight: 0.24471834677216256\n",
      "ItemKNN weight: 0.06705335247901627\n",
      "EvaluatorHoldout: Processed 34728 (100.0%) in 12.89 sec. Users per second: 2695\n",
      "EvaluatorHoldout: Processed 35209 (100.0%) in 13.96 sec. Users per second: 2522\n"
     ]
    },
    {
     "name": "stderr",
     "output_type": "stream",
     "text": [
      "[I 2024-12-18 03:55:09,289] Trial 382 finished with value: 0.031065403288320408 and parameters: {'x_0': 0.0919903330570776, 'x_1': 0.4280852534318419, 'x_2': 0.7925715923784401}. Best is trial 203 with value: 0.031075370772588123.\n"
     ]
    },
    {
     "name": "stdout",
     "output_type": "stream",
     "text": [
      "__________Iteration 383______________\n",
      "SLIM weight: 0.6729715809218533\n",
      "RP3b weight: 0.27394186057013037\n",
      "ItemKNN weight: 0.05308655850801635\n",
      "EvaluatorHoldout: Processed 34728 (100.0%) in 12.83 sec. Users per second: 2707\n",
      "EvaluatorHoldout: Processed 35209 (100.0%) in 13.93 sec. Users per second: 2528\n"
     ]
    },
    {
     "name": "stderr",
     "output_type": "stream",
     "text": [
      "[I 2024-12-18 03:55:36,143] Trial 383 finished with value: 0.03104418967540842 and parameters: {'x_0': 0.13651795615111745, 'x_1': 0.44459821837162583, 'x_2': 0.8546346164009844}. Best is trial 203 with value: 0.031075370772588123.\n"
     ]
    },
    {
     "name": "stdout",
     "output_type": "stream",
     "text": [
      "__________Iteration 384______________\n",
      "SLIM weight: 0.6494320770465345\n",
      "RP3b weight: 0.27346010506959534\n",
      "ItemKNN weight: 0.07710781788387024\n",
      "EvaluatorHoldout: Processed 34728 (100.0%) in 12.83 sec. Users per second: 2707\n",
      "EvaluatorHoldout: Processed 35209 (100.0%) in 13.94 sec. Users per second: 2526\n"
     ]
    },
    {
     "name": "stderr",
     "output_type": "stream",
     "text": [
      "[I 2024-12-18 03:56:03,008] Trial 384 finished with value: 0.031065388433649317 and parameters: {'x_0': 0.11486568859100946, 'x_1': 0.4020396862603984, 'x_2': 0.7734198518640694}. Best is trial 203 with value: 0.031075370772588123.\n"
     ]
    },
    {
     "name": "stdout",
     "output_type": "stream",
     "text": [
      "__________Iteration 385______________\n",
      "SLIM weight: 0.7141837444017228\n",
      "RP3b weight: 0.2248181698911633\n",
      "ItemKNN weight: 0.060998085707113806\n",
      "EvaluatorHoldout: Processed 34728 (100.0%) in 12.90 sec. Users per second: 2692\n",
      "EvaluatorHoldout: Processed 35209 (100.0%) in 13.95 sec. Users per second: 2524\n"
     ]
    },
    {
     "name": "stderr",
     "output_type": "stream",
     "text": [
      "[I 2024-12-18 03:56:29,951] Trial 385 finished with value: 0.031039774410108596 and parameters: {'x_0': 0.08685729512112933, 'x_1': 0.463389763378406, 'x_2': 0.8116409734596469}. Best is trial 203 with value: 0.031075370772588123.\n"
     ]
    },
    {
     "name": "stdout",
     "output_type": "stream",
     "text": [
      "__________Iteration 386______________\n",
      "SLIM weight: 0.6056915829375111\n",
      "RP3b weight: 0.2998027421459904\n",
      "ItemKNN weight: 0.09450567491649853\n",
      "EvaluatorHoldout: Processed 34728 (100.0%) in 12.84 sec. Users per second: 2705\n",
      "EvaluatorHoldout: Processed 35209 (100.0%) in 13.94 sec. Users per second: 2526\n"
     ]
    },
    {
     "name": "stderr",
     "output_type": "stream",
     "text": [
      "[I 2024-12-18 03:56:56,821] Trial 386 finished with value: 0.031050962262735602 and parameters: {'x_0': 0.16957229230957685, 'x_1': 0.4154791517676795, 'x_2': 0.7581527780467214}. Best is trial 203 with value: 0.031075370772588123.\n"
     ]
    },
    {
     "name": "stdout",
     "output_type": "stream",
     "text": [
      "__________Iteration 387______________\n",
      "SLIM weight: 0.7125447770847677\n",
      "RP3b weight: 0.2293080952203136\n",
      "ItemKNN weight: 0.0581471276949188\n",
      "EvaluatorHoldout: Processed 34728 (100.0%) in 12.89 sec. Users per second: 2694\n",
      "EvaluatorHoldout: Processed 35209 (100.0%) in 13.93 sec. Users per second: 2527\n"
     ]
    },
    {
     "name": "stderr",
     "output_type": "stream",
     "text": [
      "[I 2024-12-18 03:57:23,736] Trial 387 finished with value: 0.03102812492001228 and parameters: {'x_0': 0.11073785231486577, 'x_1': 0.4925377029273809, 'x_2': 0.8356220705615962}. Best is trial 203 with value: 0.031075370772588123.\n"
     ]
    },
    {
     "name": "stdout",
     "output_type": "stream",
     "text": [
      "__________Iteration 388______________\n",
      "SLIM weight: 0.274718741006353\n",
      "RP3b weight: 0.3435152752515101\n",
      "ItemKNN weight: 0.3817659837421369\n",
      "EvaluatorHoldout: Processed 34728 (100.0%) in 12.85 sec. Users per second: 2702\n",
      "EvaluatorHoldout: Processed 35209 (100.0%) in 13.93 sec. Users per second: 2528\n"
     ]
    },
    {
     "name": "stderr",
     "output_type": "stream",
     "text": [
      "[I 2024-12-18 03:57:50,615] Trial 388 finished with value: 0.03044180305539914 and parameters: {'x_0': 0.5115185620612881, 'x_1': 0.43246694120295737, 'x_2': 0.39392720271251397}. Best is trial 203 with value: 0.031075370772588123.\n"
     ]
    },
    {
     "name": "stdout",
     "output_type": "stream",
     "text": [
      "__________Iteration 389______________\n",
      "SLIM weight: 0.6416324003384506\n",
      "RP3b weight: 0.2852062330978659\n",
      "ItemKNN weight: 0.0731613665636835\n",
      "EvaluatorHoldout: Processed 34728 (100.0%) in 12.88 sec. Users per second: 2696\n",
      "EvaluatorHoldout: Processed 35209 (100.0%) in 13.94 sec. Users per second: 2526\n"
     ]
    },
    {
     "name": "stderr",
     "output_type": "stream",
     "text": [
      "[I 2024-12-18 03:58:17,527] Trial 389 finished with value: 0.031036953165277936 and parameters: {'x_0': 0.12967313431615213, 'x_1': 0.4033303990141812, 'x_2': 0.7922163183382245}. Best is trial 203 with value: 0.031075370772588123.\n"
     ]
    },
    {
     "name": "stdout",
     "output_type": "stream",
     "text": [
      "__________Iteration 390______________\n",
      "SLIM weight: 0.6433784688374327\n",
      "RP3b weight: 0.27050652062572483\n",
      "ItemKNN weight: 0.08611501053684244\n",
      "EvaluatorHoldout: Processed 34728 (100.0%) in 12.82 sec. Users per second: 2709\n",
      "EvaluatorHoldout: Processed 35209 (100.0%) in 13.89 sec. Users per second: 2535\n"
     ]
    },
    {
     "name": "stderr",
     "output_type": "stream",
     "text": [
      "[I 2024-12-18 03:58:44,335] Trial 390 finished with value: 0.031050281233201752 and parameters: {'x_0': 0.15223094127891282, 'x_1': 0.4531957664008818, 'x_2': 0.7772836618869089}. Best is trial 203 with value: 0.031075370772588123.\n"
     ]
    },
    {
     "name": "stdout",
     "output_type": "stream",
     "text": [
      "__________Iteration 391______________\n",
      "SLIM weight: 0.713350555175497\n",
      "RP3b weight: 0.22567893654102486\n",
      "ItemKNN weight: 0.06097050828347835\n",
      "EvaluatorHoldout: Processed 34728 (100.0%) in 12.86 sec. Users per second: 2700\n",
      "EvaluatorHoldout: Processed 35209 (100.0%) in 13.98 sec. Users per second: 2519\n"
     ]
    },
    {
     "name": "stderr",
     "output_type": "stream",
     "text": [
      "[I 2024-12-18 03:59:11,268] Trial 391 finished with value: 0.031037205694685696 and parameters: {'x_0': 0.092962245726569, 'x_1': 0.4716378229065547, 'x_2': 0.816245001206598}. Best is trial 203 with value: 0.031075370772588123.\n"
     ]
    },
    {
     "name": "stdout",
     "output_type": "stream",
     "text": [
      "__________Iteration 392______________\n",
      "SLIM weight: 0.7107626896571401\n",
      "RP3b weight: 0.27593280502160555\n",
      "ItemKNN weight: 0.013304505321254469\n",
      "EvaluatorHoldout: Processed 34728 (100.0%) in 12.87 sec. Users per second: 2698\n",
      "EvaluatorHoldout: Processed 35209 (100.0%) in 13.92 sec. Users per second: 2530\n"
     ]
    },
    {
     "name": "stderr",
     "output_type": "stream",
     "text": [
      "[I 2024-12-18 03:59:38,151] Trial 392 finished with value: 0.03102231788630266 and parameters: {'x_0': 0.10909534438134887, 'x_1': 0.42311306367449464, 'x_2': 0.9593764389473347}. Best is trial 203 with value: 0.031075370772588123.\n"
     ]
    },
    {
     "name": "stdout",
     "output_type": "stream",
     "text": [
      "__________Iteration 393______________\n",
      "SLIM weight: 0.6630179493176133\n",
      "RP3b weight: 0.26250924251928015\n",
      "ItemKNN weight: 0.07447280816310653\n",
      "EvaluatorHoldout: Processed 34728 (100.0%) in 12.88 sec. Users per second: 2697\n",
      "EvaluatorHoldout: Processed 35209 (100.0%) in 13.99 sec. Users per second: 2516\n"
     ]
    },
    {
     "name": "stderr",
     "output_type": "stream",
     "text": [
      "[I 2024-12-18 04:00:05,122] Trial 393 finished with value: 0.031069714570922974 and parameters: {'x_0': 0.1288548033338055, 'x_1': 0.44428474635428145, 'x_2': 0.7944068274470261}. Best is trial 203 with value: 0.031075370772588123.\n"
     ]
    },
    {
     "name": "stdout",
     "output_type": "stream",
     "text": [
      "__________Iteration 394______________\n",
      "SLIM weight: 0.6156208193481731\n",
      "RP3b weight: 0.29173643263326177\n",
      "ItemKNN weight: 0.09264274801856502\n",
      "EvaluatorHoldout: Processed 34728 (100.0%) in 12.91 sec. Users per second: 2690\n",
      "EvaluatorHoldout: Processed 35209 (100.0%) in 13.94 sec. Users per second: 2525\n"
     ]
    },
    {
     "name": "stderr",
     "output_type": "stream",
     "text": [
      "[I 2024-12-18 04:00:32,072] Trial 394 finished with value: 0.03106279000888438 and parameters: {'x_0': 0.14832409060408175, 'x_1': 0.40480481341082286, 'x_2': 0.7503750400774438}. Best is trial 203 with value: 0.031075370772588123.\n"
     ]
    },
    {
     "name": "stdout",
     "output_type": "stream",
     "text": [
      "__________Iteration 395______________\n",
      "SLIM weight: 0.7369101615092666\n",
      "RP3b weight: 0.20990014444452856\n",
      "ItemKNN weight: 0.05318969404620488\n",
      "EvaluatorHoldout: Processed 34728 (100.0%) in 12.88 sec. Users per second: 2696\n",
      "EvaluatorHoldout: Processed 35209 (100.0%) in 13.97 sec. Users per second: 2520\n"
     ]
    },
    {
     "name": "stderr",
     "output_type": "stream",
     "text": [
      "[I 2024-12-18 04:00:59,019] Trial 395 finished with value: 0.03103417077112554 and parameters: {'x_0': 0.08702881007617598, 'x_1': 0.4988564118197751, 'x_2': 0.8384276096859178}. Best is trial 203 with value: 0.031075370772588123.\n"
     ]
    },
    {
     "name": "stdout",
     "output_type": "stream",
     "text": [
      "__________Iteration 396______________\n",
      "SLIM weight: 0.6638652895043774\n",
      "RP3b weight: 0.25322920298721796\n",
      "ItemKNN weight: 0.08290550750840447\n",
      "EvaluatorHoldout: Processed 34728 (100.0%) in 12.85 sec. Users per second: 2704\n",
      "EvaluatorHoldout: Processed 35209 (100.0%) in 13.96 sec. Users per second: 2522\n"
     ]
    },
    {
     "name": "stderr",
     "output_type": "stream",
     "text": [
      "[I 2024-12-18 04:01:25,922] Trial 396 finished with value: 0.031053028204677133 and parameters: {'x_0': 0.13055666477740563, 'x_1': 0.4599646885663503, 'x_2': 0.7754937600846065}. Best is trial 203 with value: 0.031075370772588123.\n"
     ]
    },
    {
     "name": "stdout",
     "output_type": "stream",
     "text": [
      "__________Iteration 397______________\n",
      "SLIM weight: 0.624688141385013\n",
      "RP3b weight: 0.2995543050862427\n",
      "ItemKNN weight: 0.07575755352874422\n",
      "EvaluatorHoldout: Processed 34728 (100.0%) in 12.85 sec. Users per second: 2703\n",
      "EvaluatorHoldout: Processed 35209 (100.0%) in 13.96 sec. Users per second: 2521\n"
     ]
    },
    {
     "name": "stderr",
     "output_type": "stream",
     "text": [
      "[I 2024-12-18 04:01:52,826] Trial 397 finished with value: 0.031035332863467595 and parameters: {'x_0': 0.17839873556203448, 'x_1': 0.43754504668912436, 'x_2': 0.8113613871022812}. Best is trial 203 with value: 0.031075370772588123.\n"
     ]
    },
    {
     "name": "stdout",
     "output_type": "stream",
     "text": [
      "__________Iteration 398______________\n",
      "SLIM weight: 0.7086906825067694\n",
      "RP3b weight: 0.2100266459094201\n",
      "ItemKNN weight: 0.08128267158381047\n",
      "EvaluatorHoldout: Processed 34728 (100.0%) in 12.90 sec. Users per second: 2692\n",
      "EvaluatorHoldout: Processed 35209 (100.0%) in 13.95 sec. Users per second: 2524\n"
     ]
    },
    {
     "name": "stderr",
     "output_type": "stream",
     "text": [
      "[I 2024-12-18 04:02:19,773] Trial 398 finished with value: 0.031016850224693103 and parameters: {'x_0': 0.08683773231721229, 'x_1': 0.484704473669631, 'x_2': 0.7555723841732969}. Best is trial 203 with value: 0.031075370772588123.\n"
     ]
    },
    {
     "name": "stdout",
     "output_type": "stream",
     "text": [
      "__________Iteration 399______________\n",
      "SLIM weight: 0.6625200008243115\n",
      "RP3b weight: 0.2665610747322062\n",
      "ItemKNN weight: 0.07091892444348234\n",
      "EvaluatorHoldout: Processed 34728 (100.0%) in 12.85 sec. Users per second: 2703\n",
      "EvaluatorHoldout: Processed 35209 (100.0%) in 13.97 sec. Users per second: 2521\n"
     ]
    },
    {
     "name": "stderr",
     "output_type": "stream",
     "text": [
      "[I 2024-12-18 04:02:46,685] Trial 399 finished with value: 0.031064911941509062 and parameters: {'x_0': 0.11048416758340944, 'x_1': 0.4121709035912521, 'x_2': 0.7899340193616151}. Best is trial 203 with value: 0.031075370772588123.\n"
     ]
    },
    {
     "name": "stdout",
     "output_type": "stream",
     "text": [
      "__________Iteration 400______________\n",
      "SLIM weight: 0.7205733197453024\n",
      "RP3b weight: 0.22278847621503314\n",
      "ItemKNN weight: 0.05663820403966444\n",
      "EvaluatorHoldout: Processed 34728 (100.0%) in 12.90 sec. Users per second: 2693\n",
      "EvaluatorHoldout: Processed 35209 (100.0%) in 13.92 sec. Users per second: 2530\n"
     ]
    },
    {
     "name": "stderr",
     "output_type": "stream",
     "text": [
      "[I 2024-12-18 04:03:13,594] Trial 400 finished with value: 0.031036638931852146 and parameters: {'x_0': 0.07890258294848705, 'x_1': 0.45603711361084454, 'x_2': 0.8190485076536834}. Best is trial 203 with value: 0.031075370772588123.\n"
     ]
    },
    {
     "name": "stdout",
     "output_type": "stream",
     "text": [
      "__________Iteration 401______________\n",
      "SLIM weight: 0.6420289118156038\n",
      "RP3b weight: 0.2740737135558298\n",
      "ItemKNN weight: 0.08389737462856636\n",
      "EvaluatorHoldout: Processed 34728 (100.0%) in 12.88 sec. Users per second: 2695\n",
      "EvaluatorHoldout: Processed 35209 (100.0%) in 13.93 sec. Users per second: 2527\n"
     ]
    },
    {
     "name": "stderr",
     "output_type": "stream",
     "text": [
      "[I 2024-12-18 04:03:40,503] Trial 401 finished with value: 0.031062672314183044 and parameters: {'x_0': 0.13367185473237397, 'x_1': 0.4235629249815101, 'x_2': 0.7687673635328416}. Best is trial 203 with value: 0.031075370772588123.\n"
     ]
    },
    {
     "name": "stdout",
     "output_type": "stream",
     "text": [
      "__________Iteration 402______________\n",
      "SLIM weight: 0.7349379459741611\n",
      "RP3b weight: 0.22794151401533722\n",
      "ItemKNN weight: 0.03712054001050172\n",
      "EvaluatorHoldout: Processed 34728 (100.0%) in 12.88 sec. Users per second: 2695\n",
      "EvaluatorHoldout: Processed 35209 (100.0%) in 13.93 sec. Users per second: 2528\n"
     ]
    },
    {
     "name": "stderr",
     "output_type": "stream",
     "text": [
      "[I 2024-12-18 04:04:07,412] Trial 402 finished with value: 0.031016171480493224 and parameters: {'x_0': 0.05293560931347599, 'x_1': 0.40194768388646923, 'x_2': 0.8620620935881773}. Best is trial 203 with value: 0.031075370772588123.\n"
     ]
    },
    {
     "name": "stdout",
     "output_type": "stream",
     "text": [
      "__________Iteration 403______________\n",
      "SLIM weight: 0.6856933212812385\n",
      "RP3b weight: 0.24544136953964832\n",
      "ItemKNN weight: 0.0688653091791131\n",
      "EvaluatorHoldout: Processed 34728 (100.0%) in 12.83 sec. Users per second: 2707\n",
      "EvaluatorHoldout: Processed 35209 (100.0%) in 14.00 sec. Users per second: 2516\n"
     ]
    },
    {
     "name": "stderr",
     "output_type": "stream",
     "text": [
      "[I 2024-12-18 04:04:34,335] Trial 403 finished with value: 0.031071771371528487 and parameters: {'x_0': 0.10279836138115714, 'x_1': 0.44293922215409565, 'x_2': 0.7957417535053288}. Best is trial 203 with value: 0.031075370772588123.\n"
     ]
    },
    {
     "name": "stdout",
     "output_type": "stream",
     "text": [
      "__________Iteration 404______________\n",
      "SLIM weight: 0.657556291187627\n",
      "RP3b weight: 0.26098813716341007\n",
      "ItemKNN weight: 0.08145557164896298\n",
      "EvaluatorHoldout: Processed 34728 (100.0%) in 12.88 sec. Users per second: 2697\n",
      "EvaluatorHoldout: Processed 35209 (100.0%) in 13.95 sec. Users per second: 2524\n"
     ]
    },
    {
     "name": "stderr",
     "output_type": "stream",
     "text": [
      "[I 2024-12-18 04:05:01,260] Trial 404 finished with value: 0.031060663505591637 and parameters: {'x_0': 0.15545426379995506, 'x_1': 0.4776855609592245, 'x_2': 0.7940700397876717}. Best is trial 203 with value: 0.031075370772588123.\n"
     ]
    },
    {
     "name": "stdout",
     "output_type": "stream",
     "text": [
      "__________Iteration 405______________\n",
      "SLIM weight: 0.698951138415155\n",
      "RP3b weight: 0.21999770236186225\n",
      "ItemKNN weight: 0.0810511592229828\n",
      "EvaluatorHoldout: Processed 34728 (100.0%) in 12.87 sec. Users per second: 2699\n",
      "EvaluatorHoldout: Processed 35209 (100.0%) in 13.93 sec. Users per second: 2528\n"
     ]
    },
    {
     "name": "stderr",
     "output_type": "stream",
     "text": [
      "[I 2024-12-18 04:05:28,147] Trial 405 finished with value: 0.031043248117797982 and parameters: {'x_0': 0.08601498426076494, 'x_1': 0.4620116068930049, 'x_2': 0.7524055967308708}. Best is trial 203 with value: 0.031075370772588123.\n"
     ]
    },
    {
     "name": "stdout",
     "output_type": "stream",
     "text": [
      "__________Iteration 406______________\n",
      "SLIM weight: 0.6901159942464998\n",
      "RP3b weight: 0.22552672553960956\n",
      "ItemKNN weight: 0.08435728021389073\n",
      "EvaluatorHoldout: Processed 34728 (100.0%) in 12.88 sec. Users per second: 2697\n",
      "EvaluatorHoldout: Processed 35209 (100.0%) in 14.01 sec. Users per second: 2513\n"
     ]
    },
    {
     "name": "stderr",
     "output_type": "stream",
     "text": [
      "[I 2024-12-18 04:05:55,131] Trial 406 finished with value: 0.031045227217047285 and parameters: {'x_0': 0.13013362859102057, 'x_1': 0.5135545533173351, 'x_2': 0.7793744855212121}. Best is trial 203 with value: 0.031075370772588123.\n"
     ]
    },
    {
     "name": "stdout",
     "output_type": "stream",
     "text": [
      "__________Iteration 407______________\n",
      "SLIM weight: 0.6889540962353853\n",
      "RP3b weight: 0.24076383709228924\n",
      "ItemKNN weight: 0.0702820666723256\n",
      "EvaluatorHoldout: Processed 34728 (100.0%) in 12.87 sec. Users per second: 2699\n",
      "EvaluatorHoldout: Processed 35209 (100.0%) in 13.91 sec. Users per second: 2532\n"
     ]
    },
    {
     "name": "stderr",
     "output_type": "stream",
     "text": [
      "[I 2024-12-18 04:06:21,997] Trial 407 finished with value: 0.03106023500546552 and parameters: {'x_0': 0.10416734407137959, 'x_1': 0.45366337346491326, 'x_2': 0.7939554765232905}. Best is trial 203 with value: 0.031075370772588123.\n"
     ]
    },
    {
     "name": "stdout",
     "output_type": "stream",
     "text": [
      "__________Iteration 408______________\n",
      "SLIM weight: 0.73112928517619\n",
      "RP3b weight: 0.205243914385567\n",
      "ItemKNN weight: 0.06362680043824298\n",
      "EvaluatorHoldout: Processed 34728 (100.0%) in 12.88 sec. Users per second: 2697\n",
      "EvaluatorHoldout: Processed 35209 (100.0%) in 13.94 sec. Users per second: 2525\n"
     ]
    },
    {
     "name": "stderr",
     "output_type": "stream",
     "text": [
      "[I 2024-12-18 04:06:48,913] Trial 408 finished with value: 0.031020606171132097 and parameters: {'x_0': 0.05464090495757334, 'x_1': 0.44217458100298984, 'x_2': 0.7764831217418824}. Best is trial 203 with value: 0.031075370772588123.\n"
     ]
    },
    {
     "name": "stdout",
     "output_type": "stream",
     "text": [
      "__________Iteration 409______________\n",
      "SLIM weight: 0.7001709112278202\n",
      "RP3b weight: 0.2503199843830767\n",
      "ItemKNN weight: 0.049509104389103234\n",
      "EvaluatorHoldout: Processed 34728 (100.0%) in 12.84 sec. Users per second: 2704\n",
      "EvaluatorHoldout: Processed 35209 (100.0%) in 13.93 sec. Users per second: 2528\n"
     ]
    },
    {
     "name": "stderr",
     "output_type": "stream",
     "text": [
      "[I 2024-12-18 04:07:15,782] Trial 409 finished with value: 0.031035388854150813 and parameters: {'x_0': 0.07899011351699745, 'x_1': 0.4035229747085696, 'x_2': 0.835694103699186}. Best is trial 203 with value: 0.031075370772588123.\n"
     ]
    },
    {
     "name": "stdout",
     "output_type": "stream",
     "text": [
      "__________Iteration 410______________\n",
      "SLIM weight: 0.6923408820988962\n",
      "RP3b weight: 0.23724488922103462\n",
      "ItemKNN weight: 0.07041422868006908\n",
      "EvaluatorHoldout: Processed 34728 (100.0%) in 12.83 sec. Users per second: 2707\n",
      "EvaluatorHoldout: Processed 35209 (100.0%) in 13.94 sec. Users per second: 2525\n"
     ]
    },
    {
     "name": "stderr",
     "output_type": "stream",
     "text": [
      "[I 2024-12-18 04:07:42,651] Trial 410 finished with value: 0.031059307159859023 and parameters: {'x_0': 0.11704993897467629, 'x_1': 0.47946638583488194, 'x_2': 0.8039871299561401}. Best is trial 203 with value: 0.031075370772588123.\n"
     ]
    },
    {
     "name": "stdout",
     "output_type": "stream",
     "text": [
      "__________Iteration 411______________\n",
      "SLIM weight: 0.6739218041268691\n",
      "RP3b weight: 0.24381028630617302\n",
      "ItemKNN weight: 0.08226790956695787\n",
      "EvaluatorHoldout: Processed 34728 (100.0%) in 12.89 sec. Users per second: 2694\n",
      "EvaluatorHoldout: Processed 35209 (100.0%) in 13.92 sec. Users per second: 2530\n"
     ]
    },
    {
     "name": "stderr",
     "output_type": "stream",
     "text": [
      "[I 2024-12-18 04:08:09,552] Trial 411 finished with value: 0.03104192262407438 and parameters: {'x_0': 0.10296278539425015, 'x_1': 0.43934850070482884, 'x_2': 0.7576603307688805}. Best is trial 203 with value: 0.031075370772588123.\n"
     ]
    },
    {
     "name": "stdout",
     "output_type": "stream",
     "text": [
      "__________Iteration 412______________\n",
      "SLIM weight: 0.6194581548472718\n",
      "RP3b weight: 0.2843657521083653\n",
      "ItemKNN weight: 0.09617609304436284\n",
      "EvaluatorHoldout: Processed 34728 (100.0%) in 12.87 sec. Users per second: 2699\n",
      "EvaluatorHoldout: Processed 35209 (100.0%) in 13.98 sec. Users per second: 2519\n"
     ]
    },
    {
     "name": "stderr",
     "output_type": "stream",
     "text": [
      "[I 2024-12-18 04:08:36,499] Trial 412 finished with value: 0.03104604422395438 and parameters: {'x_0': 0.14890530461488732, 'x_1': 0.41717642552143125, 'x_2': 0.7440246795484852}. Best is trial 203 with value: 0.031075370772588123.\n"
     ]
    },
    {
     "name": "stdout",
     "output_type": "stream",
     "text": [
      "__________Iteration 413______________\n",
      "SLIM weight: 0.5989977107458033\n",
      "RP3b weight: 0.31479143212267097\n",
      "ItemKNN weight: 0.08621085713152575\n",
      "EvaluatorHoldout: Processed 34728 (100.0%) in 12.88 sec. Users per second: 2696\n",
      "EvaluatorHoldout: Processed 35209 (100.0%) in 13.94 sec. Users per second: 2525\n"
     ]
    },
    {
     "name": "stderr",
     "output_type": "stream",
     "text": [
      "[I 2024-12-18 04:09:03,418] Trial 413 finished with value: 0.031011984748593947 and parameters: {'x_0': 0.16661327822477204, 'x_1': 0.3899283719365628, 'x_2': 0.7726528493817659}. Best is trial 203 with value: 0.031075370772588123.\n"
     ]
    },
    {
     "name": "stdout",
     "output_type": "stream",
     "text": [
      "__________Iteration 414______________\n",
      "SLIM weight: 0.7199335912101512\n",
      "RP3b weight: 0.21714845956292472\n",
      "ItemKNN weight: 0.06291794922692406\n",
      "EvaluatorHoldout: Processed 34728 (100.0%) in 12.85 sec. Users per second: 2703\n",
      "EvaluatorHoldout: Processed 35209 (100.0%) in 13.96 sec. Users per second: 2521\n"
     ]
    },
    {
     "name": "stderr",
     "output_type": "stream",
     "text": [
      "[I 2024-12-18 04:09:30,328] Trial 414 finished with value: 0.031027357047786218 and parameters: {'x_0': 0.08028842910634976, 'x_1': 0.46732417344504656, 'x_2': 0.8021824010832536}. Best is trial 203 with value: 0.031075370772588123.\n"
     ]
    },
    {
     "name": "stdout",
     "output_type": "stream",
     "text": [
      "__________Iteration 415______________\n",
      "SLIM weight: 0.6253596284123631\n",
      "RP3b weight: 0.21271074253453653\n",
      "ItemKNN weight: 0.16192962905310024\n",
      "EvaluatorHoldout: Processed 34728 (100.0%) in 12.83 sec. Users per second: 2706\n",
      "EvaluatorHoldout: Processed 35209 (100.0%) in 13.96 sec. Users per second: 2522\n"
     ]
    },
    {
     "name": "stderr",
     "output_type": "stream",
     "text": [
      "[I 2024-12-18 04:09:57,221] Trial 415 finished with value: 0.030936842966472304 and parameters: {'x_0': 0.12786302726470075, 'x_1': 0.49678322940488484, 'x_2': 0.5870863248176518}. Best is trial 203 with value: 0.031075370772588123.\n"
     ]
    },
    {
     "name": "stdout",
     "output_type": "stream",
     "text": [
      "__________Iteration 416______________\n",
      "SLIM weight: 0.7421670347347267\n",
      "RP3b weight: 0.20882620611220315\n",
      "ItemKNN weight: 0.0490067591530702\n",
      "EvaluatorHoldout: Processed 34728 (100.0%) in 12.87 sec. Users per second: 2698\n",
      "EvaluatorHoldout: Processed 35209 (100.0%) in 13.96 sec. Users per second: 2522\n"
     ]
    },
    {
     "name": "stderr",
     "output_type": "stream",
     "text": [
      "[I 2024-12-18 04:10:24,146] Trial 416 finished with value: 0.031031260398268718 and parameters: {'x_0': 0.054864699549639934, 'x_1': 0.441845403665273, 'x_2': 0.8255683221910235}. Best is trial 203 with value: 0.031075370772588123.\n"
     ]
    },
    {
     "name": "stdout",
     "output_type": "stream",
     "text": [
      "__________Iteration 417______________\n",
      "SLIM weight: 0.6774315417030708\n",
      "RP3b weight: 0.2526060387381276\n",
      "ItemKNN weight: 0.0699624195588015\n",
      "EvaluatorHoldout: Processed 34728 (100.0%) in 12.86 sec. Users per second: 2700\n",
      "EvaluatorHoldout: Processed 35209 (100.0%) in 13.95 sec. Users per second: 2523\n"
     ]
    },
    {
     "name": "stderr",
     "output_type": "stream",
     "text": [
      "[I 2024-12-18 04:10:51,059] Trial 417 finished with value: 0.031063930390553433 and parameters: {'x_0': 0.0995428050001021, 'x_1': 0.4230288492617652, 'x_2': 0.787985939716209}. Best is trial 203 with value: 0.031075370772588123.\n"
     ]
    },
    {
     "name": "stdout",
     "output_type": "stream",
     "text": [
      "__________Iteration 418______________\n",
      "SLIM weight: 0.7458219032894934\n",
      "RP3b weight: 0.19645553796108037\n",
      "ItemKNN weight: 0.05772255874942633\n",
      "EvaluatorHoldout: Processed 34728 (100.0%) in 12.84 sec. Users per second: 2705\n",
      "EvaluatorHoldout: Processed 35209 (100.0%) in 13.93 sec. Users per second: 2527\n"
     ]
    },
    {
     "name": "stderr",
     "output_type": "stream",
     "text": [
      "[I 2024-12-18 04:11:17,923] Trial 418 finished with value: 0.031002781708551252 and parameters: {'x_0': 0.029844561869158306, 'x_1': 0.39652185280335933, 'x_2': 0.7620138454748321}. Best is trial 203 with value: 0.031075370772588123.\n"
     ]
    },
    {
     "name": "stdout",
     "output_type": "stream",
     "text": [
      "__________Iteration 419______________\n",
      "SLIM weight: 0.6269857111421173\n",
      "RP3b weight: 0.31779606515927056\n",
      "ItemKNN weight: 0.05521822369861215\n",
      "EvaluatorHoldout: Processed 34728 (100.0%) in 12.88 sec. Users per second: 2695\n",
      "EvaluatorHoldout: Processed 35209 (100.0%) in 13.94 sec. Users per second: 2525\n"
     ]
    },
    {
     "name": "stderr",
     "output_type": "stream",
     "text": [
      "[I 2024-12-18 04:11:44,848] Trial 419 finished with value: 0.031009450313181103 and parameters: {'x_0': 0.14212272732189668, 'x_1': 0.3719771109349195, 'x_2': 0.8421231932150994}. Best is trial 203 with value: 0.031075370772588123.\n"
     ]
    },
    {
     "name": "stdout",
     "output_type": "stream",
     "text": [
      "__________Iteration 420______________\n",
      "SLIM weight: 0.721883212915865\n",
      "RP3b weight: 0.21956124729911836\n",
      "ItemKNN weight: 0.058555539785016666\n",
      "EvaluatorHoldout: Processed 34728 (100.0%) in 12.87 sec. Users per second: 2699\n",
      "EvaluatorHoldout: Processed 35209 (100.0%) in 13.92 sec. Users per second: 2529\n"
     ]
    },
    {
     "name": "stderr",
     "output_type": "stream",
     "text": [
      "[I 2024-12-18 04:12:11,733] Trial 420 finished with value: 0.031029143036311997 and parameters: {'x_0': 0.07225130966313184, 'x_1': 0.44969409717037157, 'x_2': 0.8080445357996219}. Best is trial 203 with value: 0.031075370772588123.\n"
     ]
    },
    {
     "name": "stdout",
     "output_type": "stream",
     "text": [
      "__________Iteration 421______________\n",
      "SLIM weight: 0.6561740768728436\n",
      "RP3b weight: 0.26758674188667575\n",
      "ItemKNN weight: 0.07623918124048078\n",
      "EvaluatorHoldout: Processed 34728 (100.0%) in 12.87 sec. Users per second: 2698\n",
      "EvaluatorHoldout: Processed 35209 (100.0%) in 13.96 sec. Users per second: 2522\n"
     ]
    },
    {
     "name": "stderr",
     "output_type": "stream",
     "text": [
      "[I 2024-12-18 04:12:38,656] Trial 421 finished with value: 0.031061185704412027 and parameters: {'x_0': 0.11776663991365774, 'x_1': 0.4179885345823743, 'x_2': 0.7799458729600566}. Best is trial 203 with value: 0.031075370772588123.\n"
     ]
    },
    {
     "name": "stdout",
     "output_type": "stream",
     "text": [
      "__________Iteration 422______________\n",
      "SLIM weight: 0.7184653933449334\n",
      "RP3b weight: 0.2213434653532267\n",
      "ItemKNN weight: 0.060191141301839876\n",
      "EvaluatorHoldout: Processed 34728 (100.0%) in 12.88 sec. Users per second: 2696\n",
      "EvaluatorHoldout: Processed 35209 (100.0%) in 13.97 sec. Users per second: 2519\n"
     ]
    },
    {
     "name": "stderr",
     "output_type": "stream",
     "text": [
      "[I 2024-12-18 04:13:05,612] Trial 422 finished with value: 0.031031206692919554 and parameters: {'x_0': 0.0900033277363188, 'x_1': 0.4762444731747799, 'x_2': 0.8173170009599448}. Best is trial 203 with value: 0.031075370772588123.\n"
     ]
    },
    {
     "name": "stdout",
     "output_type": "stream",
     "text": [
      "__________Iteration 423______________\n",
      "SLIM weight: 0.706432252906446\n",
      "RP3b weight: 0.22485298566391126\n",
      "ItemKNN weight: 0.06871476142964264\n",
      "EvaluatorHoldout: Processed 34728 (100.0%) in 12.86 sec. Users per second: 2700\n",
      "EvaluatorHoldout: Processed 35209 (100.0%) in 13.97 sec. Users per second: 2520\n"
     ]
    },
    {
     "name": "stderr",
     "output_type": "stream",
     "text": [
      "[I 2024-12-18 04:13:32,538] Trial 423 finished with value: 0.031053765224894166 and parameters: {'x_0': 0.049355516751873774, 'x_1': 0.3837928624361904, 'x_2': 0.7462779088855905}. Best is trial 203 with value: 0.031075370772588123.\n"
     ]
    },
    {
     "name": "stdout",
     "output_type": "stream",
     "text": [
      "__________Iteration 424______________\n",
      "SLIM weight: 0.668377918897607\n",
      "RP3b weight: 0.2604066117396287\n",
      "ItemKNN weight: 0.0712154693627643\n",
      "EvaluatorHoldout: Processed 34728 (100.0%) in 12.84 sec. Users per second: 2705\n",
      "EvaluatorHoldout: Processed 35209 (100.0%) in 13.94 sec. Users per second: 2525\n"
     ]
    },
    {
     "name": "stderr",
     "output_type": "stream",
     "text": [
      "[I 2024-12-18 04:13:59,419] Trial 424 finished with value: 0.03107175651685743 and parameters: {'x_0': 0.116628276757623, 'x_1': 0.43292992276801073, 'x_2': 0.7953682076813856}. Best is trial 203 with value: 0.031075370772588123.\n"
     ]
    },
    {
     "name": "stdout",
     "output_type": "stream",
     "text": [
      "__________Iteration 425______________\n",
      "SLIM weight: 0.714245131264681\n",
      "RP3b weight: 0.24287752466635507\n",
      "ItemKNN weight: 0.04287734406896386\n",
      "EvaluatorHoldout: Processed 34728 (100.0%) in 12.86 sec. Users per second: 2700\n",
      "EvaluatorHoldout: Processed 35209 (100.0%) in 14.00 sec. Users per second: 2516\n"
     ]
    },
    {
     "name": "stderr",
     "output_type": "stream",
     "text": [
      "[I 2024-12-18 04:14:26,368] Trial 425 finished with value: 0.031028178625361426 and parameters: {'x_0': 0.06685790195667746, 'x_1': 0.39856183611467616, 'x_2': 0.8501037478009613}. Best is trial 203 with value: 0.031075370772588123.\n"
     ]
    },
    {
     "name": "stdout",
     "output_type": "stream",
     "text": [
      "__________Iteration 426______________\n",
      "SLIM weight: 0.6850483789469164\n",
      "RP3b weight: 0.2336662389843434\n",
      "ItemKNN weight: 0.08128538206874013\n",
      "EvaluatorHoldout: Processed 34728 (100.0%) in 12.87 sec. Users per second: 2698\n",
      "EvaluatorHoldout: Processed 35209 (100.0%) in 13.94 sec. Users per second: 2526\n"
     ]
    },
    {
     "name": "stderr",
     "output_type": "stream",
     "text": [
      "[I 2024-12-18 04:14:53,275] Trial 426 finished with value: 0.03105270025924733 and parameters: {'x_0': 0.10415775014668452, 'x_1': 0.46231714279316044, 'x_2': 0.7646149927778808}. Best is trial 203 with value: 0.031075370772588123.\n"
     ]
    },
    {
     "name": "stdout",
     "output_type": "stream",
     "text": [
      "__________Iteration 427______________\n",
      "SLIM weight: 0.6192801133923345\n",
      "RP3b weight: 0.31176427397356077\n",
      "ItemKNN weight: 0.06895561263410473\n",
      "EvaluatorHoldout: Processed 34728 (100.0%) in 12.88 sec. Users per second: 2697\n",
      "EvaluatorHoldout: Processed 35209 (100.0%) in 13.96 sec. Users per second: 2522\n"
     ]
    },
    {
     "name": "stderr",
     "output_type": "stream",
     "text": [
      "[I 2024-12-18 04:15:20,211] Trial 427 finished with value: 0.031025994988718532 and parameters: {'x_0': 0.17731606284486318, 'x_1': 0.41859799207250703, 'x_2': 0.8248017777605738}. Best is trial 203 with value: 0.031075370772588123.\n"
     ]
    },
    {
     "name": "stdout",
     "output_type": "stream",
     "text": [
      "__________Iteration 428______________\n",
      "SLIM weight: 0.6573356457048504\n",
      "RP3b weight: 0.2676006259591771\n",
      "ItemKNN weight: 0.0750637283359724\n",
      "EvaluatorHoldout: Processed 34728 (100.0%) in 12.88 sec. Users per second: 2697\n",
      "EvaluatorHoldout: Processed 35209 (100.0%) in 13.93 sec. Users per second: 2527\n"
     ]
    },
    {
     "name": "stderr",
     "output_type": "stream",
     "text": [
      "[I 2024-12-18 04:15:47,114] Trial 428 finished with value: 0.031060288710814638 and parameters: {'x_0': 0.1378431412298291, 'x_1': 0.44631824005089293, 'x_2': 0.7974859226718016}. Best is trial 203 with value: 0.031075370772588123.\n"
     ]
    },
    {
     "name": "stdout",
     "output_type": "stream",
     "text": [
      "__________Iteration 429______________\n",
      "SLIM weight: 0.32184865438584326\n",
      "RP3b weight: 0.6181192287976677\n",
      "ItemKNN weight: 0.060032116816489116\n",
      "EvaluatorHoldout: Processed 34728 (100.0%) in 12.84 sec. Users per second: 2705\n",
      "EvaluatorHoldout: Processed 35209 (100.0%) in 13.96 sec. Users per second: 2521\n"
     ]
    },
    {
     "name": "stderr",
     "output_type": "stream",
     "text": [
      "[I 2024-12-18 04:16:14,012] Trial 429 finished with value: 0.030529711855946294 and parameters: {'x_0': 0.5977242732618545, 'x_1': 0.372189221806442, 'x_2': 0.9084736128521942}. Best is trial 203 with value: 0.031075370772588123.\n"
     ]
    },
    {
     "name": "stdout",
     "output_type": "stream",
     "text": [
      "__________Iteration 430______________\n",
      "SLIM weight: 0.7262546523137285\n",
      "RP3b weight: 0.2005293611931278\n",
      "ItemKNN weight: 0.07321598649314366\n",
      "EvaluatorHoldout: Processed 34728 (100.0%) in 12.87 sec. Users per second: 2698\n",
      "EvaluatorHoldout: Processed 35209 (100.0%) in 13.95 sec. Users per second: 2523\n"
     ]
    },
    {
     "name": "stderr",
     "output_type": "stream",
     "text": [
      "[I 2024-12-18 04:16:40,930] Trial 430 finished with value: 0.030990867119710316 and parameters: {'x_0': 0.08359646958626654, 'x_1': 0.5039652347322952, 'x_2': 0.7786502356157081}. Best is trial 203 with value: 0.031075370772588123.\n"
     ]
    },
    {
     "name": "stdout",
     "output_type": "stream",
     "text": [
      "__________Iteration 431______________\n",
      "SLIM weight: 0.562081809783782\n",
      "RP3b weight: 0.23800706955201414\n",
      "ItemKNN weight: 0.19991112066420388\n",
      "EvaluatorHoldout: Processed 34728 (100.0%) in 12.86 sec. Users per second: 2700\n",
      "EvaluatorHoldout: Processed 35209 (100.0%) in 13.97 sec. Users per second: 2521\n"
     ]
    },
    {
     "name": "stderr",
     "output_type": "stream",
     "text": [
      "[I 2024-12-18 04:17:07,857] Trial 431 finished with value: 0.030896214298511228 and parameters: {'x_0': 0.11839678573091438, 'x_1': 0.40515057258679826, 'x_2': 0.4681901286560111}. Best is trial 203 with value: 0.031075370772588123.\n"
     ]
    },
    {
     "name": "stdout",
     "output_type": "stream",
     "text": [
      "__________Iteration 432______________\n",
      "SLIM weight: 0.7758438410280287\n",
      "RP3b weight: 0.1945045475235782\n",
      "ItemKNN weight: 0.029651611448393036\n",
      "EvaluatorHoldout: Processed 34728 (100.0%) in 12.94 sec. Users per second: 2684\n",
      "EvaluatorHoldout: Processed 35209 (100.0%) in 13.95 sec. Users per second: 2524\n"
     ]
    },
    {
     "name": "stderr",
     "output_type": "stream",
     "text": [
      "[I 2024-12-18 04:17:34,843] Trial 432 finished with value: 0.030976828312910626 and parameters: {'x_0': 0.03549485361499955, 'x_1': 0.43303752825029207, 'x_2': 0.8802163915544925}. Best is trial 203 with value: 0.031075370772588123.\n"
     ]
    },
    {
     "name": "stdout",
     "output_type": "stream",
     "text": [
      "__________Iteration 433______________\n",
      "SLIM weight: 0.6995298066070645\n",
      "RP3b weight: 0.23341136851039182\n",
      "ItemKNN weight: 0.06705882488254362\n",
      "EvaluatorHoldout: Processed 34728 (100.0%) in 12.87 sec. Users per second: 2698\n",
      "EvaluatorHoldout: Processed 35209 (100.0%) in 13.95 sec. Users per second: 2523\n"
     ]
    },
    {
     "name": "stderr",
     "output_type": "stream",
     "text": [
      "[I 2024-12-18 04:18:01,766] Trial 433 finished with value: 0.031054271426376522 and parameters: {'x_0': 0.09925847446508304, 'x_1': 0.4626499376972417, 'x_2': 0.8013595562634803}. Best is trial 203 with value: 0.031075370772588123.\n"
     ]
    },
    {
     "name": "stdout",
     "output_type": "stream",
     "text": [
      "__________Iteration 434______________\n",
      "SLIM weight: 0.6545162950860596\n",
      "RP3b weight: 0.24466127057438353\n",
      "ItemKNN weight: 0.10082243433955701\n",
      "EvaluatorHoldout: Processed 34728 (100.0%) in 12.85 sec. Users per second: 2702\n",
      "EvaluatorHoldout: Processed 35209 (100.0%) in 13.92 sec. Users per second: 2530\n"
     ]
    },
    {
     "name": "stderr",
     "output_type": "stream",
     "text": [
      "[I 2024-12-18 04:18:28,632] Trial 434 finished with value: 0.031022770382435932 and parameters: {'x_0': 0.1460000239752643, 'x_1': 0.487114651422357, 'x_2': 0.7434914433154275}. Best is trial 203 with value: 0.031075370772588123.\n"
     ]
    },
    {
     "name": "stdout",
     "output_type": "stream",
     "text": [
      "__________Iteration 435______________\n",
      "SLIM weight: 0.7074664091470878\n",
      "RP3b weight: 0.24257600504380214\n",
      "ItemKNN weight: 0.04995758580911006\n",
      "EvaluatorHoldout: Processed 34728 (100.0%) in 12.84 sec. Users per second: 2704\n",
      "EvaluatorHoldout: Processed 35209 (100.0%) in 13.95 sec. Users per second: 2524\n"
     ]
    },
    {
     "name": "stderr",
     "output_type": "stream",
     "text": [
      "[I 2024-12-18 04:18:55,515] Trial 435 finished with value: 0.03102174198213318 and parameters: {'x_0': 0.06735859165529878, 'x_1': 0.3965331676252409, 'x_2': 0.8265463791670391}. Best is trial 203 with value: 0.031075370772588123.\n"
     ]
    },
    {
     "name": "stdout",
     "output_type": "stream",
     "text": [
      "__________Iteration 436______________\n",
      "SLIM weight: 0.6834152537243114\n",
      "RP3b weight: 0.2419586846216951\n",
      "ItemKNN weight: 0.07462606165399352\n",
      "EvaluatorHoldout: Processed 34728 (100.0%) in 12.86 sec. Users per second: 2700\n",
      "EvaluatorHoldout: Processed 35209 (100.0%) in 13.92 sec. Users per second: 2530\n"
     ]
    },
    {
     "name": "stderr",
     "output_type": "stream",
     "text": [
      "[I 2024-12-18 04:19:22,393] Trial 436 finished with value: 0.031058960931757078 and parameters: {'x_0': 0.08748280160078103, 'x_1': 0.4220799000848584, 'x_2': 0.7664122224675818}. Best is trial 203 with value: 0.031075370772588123.\n"
     ]
    },
    {
     "name": "stdout",
     "output_type": "stream",
     "text": [
      "__________Iteration 437______________\n",
      "SLIM weight: 0.24644721516152962\n",
      "RP3b weight: 0.6054803312621225\n",
      "ItemKNN weight: 0.14807245357634777\n",
      "EvaluatorHoldout: Processed 34728 (100.0%) in 12.84 sec. Users per second: 2704\n",
      "EvaluatorHoldout: Processed 35209 (100.0%) in 13.94 sec. Users per second: 2526\n"
     ]
    },
    {
     "name": "stderr",
     "output_type": "stream",
     "text": [
      "[I 2024-12-18 04:19:49,272] Trial 437 finished with value: 0.03053217316067098 and parameters: {'x_0': 0.672611821661342, 'x_1': 0.377438028274432, 'x_2': 0.7879815345413479}. Best is trial 203 with value: 0.031075370772588123.\n"
     ]
    },
    {
     "name": "stdout",
     "output_type": "stream",
     "text": [
      "__________Iteration 438______________\n",
      "SLIM weight: 0.473464501764724\n",
      "RP3b weight: 0.41677656847814837\n",
      "ItemKNN weight: 0.1097589297571276\n",
      "EvaluatorHoldout: Processed 34728 (100.0%) in 12.84 sec. Users per second: 2705\n",
      "EvaluatorHoldout: Processed 35209 (100.0%) in 14.01 sec. Users per second: 2513\n"
     ]
    },
    {
     "name": "stderr",
     "output_type": "stream",
     "text": [
      "[I 2024-12-18 04:20:16,215] Trial 438 finished with value: 0.031046950358887836 and parameters: {'x_0': 0.40509096108924303, 'x_1': 0.4513779182315142, 'x_2': 0.8110030927264485}. Best is trial 203 with value: 0.031075370772588123.\n"
     ]
    },
    {
     "name": "stdout",
     "output_type": "stream",
     "text": [
      "__________Iteration 439______________\n",
      "SLIM weight: 0.6595066937545818\n",
      "RP3b weight: 0.2895479854386871\n",
      "ItemKNN weight: 0.05094532080673094\n",
      "EvaluatorHoldout: Processed 34728 (100.0%) in 12.84 sec. Users per second: 2704\n",
      "EvaluatorHoldout: Processed 35209 (100.0%) in 13.94 sec. Users per second: 2526\n"
     ]
    },
    {
     "name": "stderr",
     "output_type": "stream",
     "text": [
      "[I 2024-12-18 04:20:43,092] Trial 439 finished with value: 0.031033297773535144 and parameters: {'x_0': 0.12945644861201713, 'x_1': 0.4075578406598759, 'x_2': 0.8539130885197564}. Best is trial 203 with value: 0.031075370772588123.\n"
     ]
    },
    {
     "name": "stdout",
     "output_type": "stream",
     "text": [
      "__________Iteration 440______________\n",
      "SLIM weight: 0.6729885676924183\n",
      "RP3b weight: 0.2509662278058252\n",
      "ItemKNN weight: 0.07604520450175642\n",
      "EvaluatorHoldout: Processed 34728 (100.0%) in 12.85 sec. Users per second: 2703\n",
      "EvaluatorHoldout: Processed 35209 (100.0%) in 13.96 sec. Users per second: 2522\n"
     ]
    },
    {
     "name": "stderr",
     "output_type": "stream",
     "text": [
      "[I 2024-12-18 04:21:09,993] Trial 440 finished with value: 0.031051421614870837 and parameters: {'x_0': 0.10725979605094767, 'x_1': 0.43494794174018225, 'x_2': 0.7770392995047185}. Best is trial 203 with value: 0.031075370772588123.\n"
     ]
    },
    {
     "name": "stdout",
     "output_type": "stream",
     "text": [
      "__________Iteration 441______________\n",
      "SLIM weight: 0.6714442911879971\n",
      "RP3b weight: 0.26440750905261323\n",
      "ItemKNN weight: 0.06414819975938964\n",
      "EvaluatorHoldout: Processed 34728 (100.0%) in 12.89 sec. Users per second: 2694\n",
      "EvaluatorHoldout: Processed 35209 (100.0%) in 13.95 sec. Users per second: 2524\n"
     ]
    },
    {
     "name": "stderr",
     "output_type": "stream",
     "text": [
      "[I 2024-12-18 04:21:36,933] Trial 441 finished with value: 0.031046990352232944 and parameters: {'x_0': 0.1530190986607555, 'x_1': 0.47748709567400377, 'x_2': 0.8358195521711247}. Best is trial 203 with value: 0.031075370772588123.\n"
     ]
    },
    {
     "name": "stdout",
     "output_type": "stream",
     "text": [
      "__________Iteration 442______________\n",
      "SLIM weight: 0.6927705294990433\n",
      "RP3b weight: 0.23643085610786657\n",
      "ItemKNN weight: 0.07079861439309024\n",
      "EvaluatorHoldout: Processed 34728 (100.0%) in 12.85 sec. Users per second: 2703\n",
      "EvaluatorHoldout: Processed 35209 (100.0%) in 13.96 sec. Users per second: 2522\n"
     ]
    },
    {
     "name": "stderr",
     "output_type": "stream",
     "text": [
      "[I 2024-12-18 04:22:03,836] Trial 442 finished with value: 0.031057523456667235 and parameters: {'x_0': 0.05602956335533486, 'x_1': 0.37398655312686585, 'x_2': 0.7448911581409622}. Best is trial 203 with value: 0.031075370772588123.\n"
     ]
    },
    {
     "name": "stdout",
     "output_type": "stream",
     "text": [
      "__________Iteration 443______________\n",
      "SLIM weight: 0.3727280619531706\n",
      "RP3b weight: 0.4952335316551024\n",
      "ItemKNN weight: 0.13203840639172693\n",
      "EvaluatorHoldout: Processed 34728 (100.0%) in 12.85 sec. Users per second: 2703\n",
      "EvaluatorHoldout: Processed 35209 (100.0%) in 13.93 sec. Users per second: 2528\n"
     ]
    },
    {
     "name": "stderr",
     "output_type": "stream",
     "text": [
      "[I 2024-12-18 04:22:30,710] Trial 443 finished with value: 0.03089540757560699 and parameters: {'x_0': 0.543904587994369, 'x_1': 0.4452421898272337, 'x_2': 0.8059522014865069}. Best is trial 203 with value: 0.031075370772588123.\n"
     ]
    },
    {
     "name": "stdout",
     "output_type": "stream",
     "text": [
      "__________Iteration 444______________\n",
      "SLIM weight: 0.6915844961375202\n",
      "RP3b weight: 0.2344563098750491\n",
      "ItemKNN weight: 0.0739591939874309\n",
      "EvaluatorHoldout: Processed 34728 (100.0%) in 12.89 sec. Users per second: 2695\n",
      "EvaluatorHoldout: Processed 35209 (100.0%) in 13.97 sec. Users per second: 2521\n"
     ]
    },
    {
     "name": "stderr",
     "output_type": "stream",
     "text": [
      "[I 2024-12-18 04:22:57,659] Trial 444 finished with value: 0.031056562473717637 and parameters: {'x_0': 0.07740719617175375, 'x_1': 0.42003177539918213, 'x_2': 0.7606142045246006}. Best is trial 203 with value: 0.031075370772588123.\n"
     ]
    },
    {
     "name": "stdout",
     "output_type": "stream",
     "text": [
      "__________Iteration 445______________\n",
      "SLIM weight: 0.19322621471892326\n",
      "RP3b weight: 0.08434616691201469\n",
      "ItemKNN weight: 0.7224276183690621\n",
      "EvaluatorHoldout: Processed 34728 (100.0%) in 12.95 sec. Users per second: 2681\n",
      "EvaluatorHoldout: Processed 35209 (100.0%) in 13.96 sec. Users per second: 2523\n"
     ]
    },
    {
     "name": "stderr",
     "output_type": "stream",
     "text": [
      "[I 2024-12-18 04:23:24,661] Trial 445 finished with value: 0.029199305806941488 and parameters: {'x_0': 0.12116004446952656, 'x_1': 0.3979903268046156, 'x_2': 0.0003740204103213074}. Best is trial 203 with value: 0.031075370772588123.\n"
     ]
    },
    {
     "name": "stdout",
     "output_type": "stream",
     "text": [
      "__________Iteration 446______________\n",
      "SLIM weight: 0.7258802370675592\n",
      "RP3b weight: 0.19884231376583347\n",
      "ItemKNN weight: 0.07527744916660731\n",
      "EvaluatorHoldout: Processed 34728 (100.0%) in 12.91 sec. Users per second: 2691\n",
      "EvaluatorHoldout: Processed 35209 (100.0%) in 13.95 sec. Users per second: 2525\n"
     ]
    },
    {
     "name": "stderr",
     "output_type": "stream",
     "text": [
      "[I 2024-12-18 04:23:51,610] Trial 446 finished with value: 0.03098605877696141 and parameters: {'x_0': 0.099045202686227, 'x_1': 0.5307939587297479, 'x_2': 0.7867972860643588}. Best is trial 203 with value: 0.031075370772588123.\n"
     ]
    },
    {
     "name": "stdout",
     "output_type": "stream",
     "text": [
      "__________Iteration 447______________\n",
      "SLIM weight: 0.7603673928471031\n",
      "RP3b weight: 0.18948472161977836\n",
      "ItemKNN weight: 0.0501478855331185\n",
      "EvaluatorHoldout: Processed 34728 (100.0%) in 12.86 sec. Users per second: 2700\n",
      "EvaluatorHoldout: Processed 35209 (100.0%) in 13.96 sec. Users per second: 2523\n"
     ]
    },
    {
     "name": "stderr",
     "output_type": "stream",
     "text": [
      "[I 2024-12-18 04:24:18,525] Trial 447 finished with value: 0.03098331409082006 and parameters: {'x_0': 0.044561007316999926, 'x_1': 0.4605931892245549, 'x_2': 0.8145085356063969}. Best is trial 203 with value: 0.031075370772588123.\n"
     ]
    },
    {
     "name": "stdout",
     "output_type": "stream",
     "text": [
      "__________Iteration 448______________\n",
      "SLIM weight: 0.7024936811136454\n",
      "RP3b weight: 0.23227231069110213\n",
      "ItemKNN weight: 0.06523400819525259\n",
      "EvaluatorHoldout: Processed 34728 (100.0%) in 12.84 sec. Users per second: 2704\n",
      "EvaluatorHoldout: Processed 35209 (100.0%) in 13.97 sec. Users per second: 2521\n"
     ]
    },
    {
     "name": "stderr",
     "output_type": "stream",
     "text": [
      "[I 2024-12-18 04:24:45,432] Trial 448 finished with value: 0.031059510554585595 and parameters: {'x_0': 0.0787928533369965, 'x_1': 0.43165295566406564, 'x_2': 0.7898180741160581}. Best is trial 203 with value: 0.031075370772588123.\n"
     ]
    },
    {
     "name": "stdout",
     "output_type": "stream",
     "text": [
      "__________Iteration 449______________\n",
      "SLIM weight: 0.6123068834480161\n",
      "RP3b weight: 0.3234304178066644\n",
      "ItemKNN weight: 0.06426269874531935\n",
      "EvaluatorHoldout: Processed 34728 (100.0%) in 12.87 sec. Users per second: 2699\n",
      "EvaluatorHoldout: Processed 35209 (100.0%) in 13.96 sec. Users per second: 2523\n"
     ]
    },
    {
     "name": "stderr",
     "output_type": "stream",
     "text": [
      "[I 2024-12-18 04:25:12,349] Trial 449 finished with value: 0.031002389773769217 and parameters: {'x_0': 0.1673580258660622, 'x_1': 0.3889712696666486, 'x_2': 0.8289347021328377}. Best is trial 203 with value: 0.031075370772588123.\n"
     ]
    },
    {
     "name": "stdout",
     "output_type": "stream",
     "text": [
      "__________Iteration 450______________\n",
      "SLIM weight: 0.8497248517261788\n",
      "RP3b weight: 0.10862273019704152\n",
      "ItemKNN weight: 0.04165241807677961\n",
      "EvaluatorHoldout: Processed 34728 (100.0%) in 12.93 sec. Users per second: 2686\n",
      "EvaluatorHoldout: Processed 35209 (100.0%) in 13.92 sec. Users per second: 2529\n"
     ]
    },
    {
     "name": "stderr",
     "output_type": "stream",
     "text": [
      "[I 2024-12-18 04:25:39,293] Trial 450 finished with value: 0.030828258749171847 and parameters: {'x_0': 0.004584915779494325, 'x_1': 0.5023904508923779, 'x_2': 0.7680004505201143}. Best is trial 203 with value: 0.031075370772588123.\n"
     ]
    },
    {
     "name": "stdout",
     "output_type": "stream",
     "text": [
      "__________Iteration 451______________\n",
      "SLIM weight: 0.6740301444912605\n",
      "RP3b weight: 0.2520629967092635\n",
      "ItemKNN weight: 0.07390685879947606\n",
      "EvaluatorHoldout: Processed 34728 (100.0%) in 12.88 sec. Users per second: 2696\n",
      "EvaluatorHoldout: Processed 35209 (100.0%) in 13.99 sec. Users per second: 2518\n"
     ]
    },
    {
     "name": "stderr",
     "output_type": "stream",
     "text": [
      "[I 2024-12-18 04:26:06,256] Trial 451 finished with value: 0.03106185987794386 and parameters: {'x_0': 0.1361410576957574, 'x_1': 0.4743982989853762, 'x_2': 0.8036049611665134}. Best is trial 203 with value: 0.031075370772588123.\n"
     ]
    },
    {
     "name": "stdout",
     "output_type": "stream",
     "text": [
      "__________Iteration 452______________\n",
      "SLIM weight: 0.6666733092744868\n",
      "RP3b weight: 0.2597626461586008\n",
      "ItemKNN weight: 0.0735640445669124\n",
      "EvaluatorHoldout: Processed 34728 (100.0%) in 12.86 sec. Users per second: 2701\n",
      "EvaluatorHoldout: Processed 35209 (100.0%) in 13.93 sec. Users per second: 2527\n"
     ]
    },
    {
     "name": "stderr",
     "output_type": "stream",
     "text": [
      "[I 2024-12-18 04:26:33,140] Trial 452 finished with value: 0.03106512333490462 and parameters: {'x_0': 0.10357784965935607, 'x_1': 0.41334101887583974, 'x_2': 0.7786452832727015}. Best is trial 203 with value: 0.031075370772588123.\n"
     ]
    },
    {
     "name": "stdout",
     "output_type": "stream",
     "text": [
      "__________Iteration 453______________\n",
      "SLIM weight: 0.6679345597284531\n",
      "RP3b weight: 0.24680591275815483\n",
      "ItemKNN weight: 0.08525952751339212\n",
      "EvaluatorHoldout: Processed 34728 (100.0%) in 12.89 sec. Users per second: 2695\n",
      "EvaluatorHoldout: Processed 35209 (100.0%) in 13.94 sec. Users per second: 2525\n"
     ]
    },
    {
     "name": "stderr",
     "output_type": "stream",
     "text": [
      "[I 2024-12-18 04:27:00,065] Trial 453 finished with value: 0.0310551341399638 and parameters: {'x_0': 0.11556866983183345, 'x_1': 0.4505195894621432, 'x_2': 0.759232507022646}. Best is trial 203 with value: 0.031075370772588123.\n"
     ]
    },
    {
     "name": "stdout",
     "output_type": "stream",
     "text": [
      "__________Iteration 454______________\n",
      "SLIM weight: 0.09215939356449185\n",
      "RP3b weight: 0.6955995055273549\n",
      "ItemKNN weight: 0.21224110090815326\n",
      "EvaluatorHoldout: Processed 34728 (100.0%) in 12.84 sec. Users per second: 2705\n",
      "EvaluatorHoldout: Processed 35209 (100.0%) in 13.92 sec. Users per second: 2530\n"
     ]
    },
    {
     "name": "stderr",
     "output_type": "stream",
     "text": [
      "[I 2024-12-18 04:27:26,915] Trial 454 finished with value: 0.03011757357861286 and parameters: {'x_0': 0.875241787750366, 'x_1': 0.36575880205579236, 'x_2': 0.7357362111424833}. Best is trial 203 with value: 0.031075370772588123.\n"
     ]
    },
    {
     "name": "stdout",
     "output_type": "stream",
     "text": [
      "__________Iteration 455______________\n",
      "SLIM weight: 0.9065173791917454\n",
      "RP3b weight: 0.03562051449089234\n",
      "ItemKNN weight: 0.057862106317362216\n",
      "EvaluatorHoldout: Processed 34728 (100.0%) in 12.90 sec. Users per second: 2691\n",
      "EvaluatorHoldout: Processed 35209 (100.0%) in 13.96 sec. Users per second: 2522\n"
     ]
    },
    {
     "name": "stderr",
     "output_type": "stream",
     "text": [
      "[I 2024-12-18 04:27:53,872] Trial 455 finished with value: 0.030723447618315455 and parameters: {'x_0': 0.06304992542673055, 'x_1': 0.8970879917484696, 'x_2': 0.8382721843749413}. Best is trial 203 with value: 0.031075370772588123.\n"
     ]
    },
    {
     "name": "stdout",
     "output_type": "stream",
     "text": [
      "__________Iteration 456______________\n",
      "SLIM weight: 0.6916953901857565\n",
      "RP3b weight: 0.2429217914196367\n",
      "ItemKNN weight: 0.06538281839460675\n",
      "EvaluatorHoldout: Processed 34728 (100.0%) in 12.86 sec. Users per second: 2701\n",
      "EvaluatorHoldout: Processed 35209 (100.0%) in 13.96 sec. Users per second: 2522\n"
     ]
    },
    {
     "name": "stderr",
     "output_type": "stream",
     "text": [
      "[I 2024-12-18 04:28:20,787] Trial 456 finished with value: 0.03106526274027905 and parameters: {'x_0': 0.09401531021216311, 'x_1': 0.43590290328135545, 'x_2': 0.7997258486783455}. Best is trial 203 with value: 0.031075370772588123.\n"
     ]
    },
    {
     "name": "stdout",
     "output_type": "stream",
     "text": [
      "__________Iteration 457______________\n",
      "SLIM weight: 0.6120916160287716\n",
      "RP3b weight: 0.33173611718638807\n",
      "ItemKNN weight: 0.05617226678484033\n",
      "EvaluatorHoldout: Processed 34728 (100.0%) in 12.84 sec. Users per second: 2704\n",
      "EvaluatorHoldout: Processed 35209 (100.0%) in 13.94 sec. Users per second: 2525\n"
     ]
    },
    {
     "name": "stderr",
     "output_type": "stream",
     "text": [
      "[I 2024-12-18 04:28:47,669] Trial 457 finished with value: 0.03102101067525115 and parameters: {'x_0': 0.1886100418247414, 'x_1': 0.4049271394923262, 'x_2': 0.8580603810894659}. Best is trial 203 with value: 0.031075370772588123.\n"
     ]
    },
    {
     "name": "stdout",
     "output_type": "stream",
     "text": [
      "__________Iteration 458______________\n",
      "SLIM weight: 0.4730486595314924\n",
      "RP3b weight: 0.2210151742402733\n",
      "ItemKNN weight: 0.3059361662282342\n",
      "EvaluatorHoldout: Processed 34728 (100.0%) in 12.91 sec. Users per second: 2689\n",
      "EvaluatorHoldout: Processed 35209 (100.0%) in 13.93 sec. Users per second: 2527\n"
     ]
    },
    {
     "name": "stderr",
     "output_type": "stream",
     "text": [
      "[I 2024-12-18 04:29:14,610] Trial 458 finished with value: 0.030674823709333908 and parameters: {'x_0': 0.12863258387728352, 'x_1': 0.38359762088547245, 'x_2': 0.26545317222064696}. Best is trial 203 with value: 0.031075370772588123.\n"
     ]
    },
    {
     "name": "stdout",
     "output_type": "stream",
     "text": [
      "__________Iteration 459______________\n",
      "SLIM weight: 0.22116716214784662\n",
      "RP3b weight: 0.621111016569449\n",
      "ItemKNN weight: 0.15772182128270434\n",
      "EvaluatorHoldout: Processed 34728 (100.0%) in 12.86 sec. Users per second: 2701\n",
      "EvaluatorHoldout: Processed 35209 (100.0%) in 13.96 sec. Users per second: 2521\n"
     ]
    },
    {
     "name": "stderr",
     "output_type": "stream",
     "text": [
      "[I 2024-12-18 04:29:41,527] Trial 459 finished with value: 0.030487374900815736 and parameters: {'x_0': 0.7591194293119159, 'x_1': 0.46118050099957775, 'x_2': 0.8215709391668172}. Best is trial 203 with value: 0.031075370772588123.\n"
     ]
    },
    {
     "name": "stdout",
     "output_type": "stream",
     "text": [
      "__________Iteration 460______________\n",
      "SLIM weight: 0.756613262091204\n",
      "RP3b weight: 0.18592172647053512\n",
      "ItemKNN weight: 0.05746501143826069\n",
      "EvaluatorHoldout: Processed 34728 (100.0%) in 12.89 sec. Users per second: 2694\n",
      "EvaluatorHoldout: Processed 35209 (100.0%) in 13.92 sec. Users per second: 2529\n"
     ]
    },
    {
     "name": "stderr",
     "output_type": "stream",
     "text": [
      "[I 2024-12-18 04:30:08,429] Trial 460 finished with value: 0.030960669858820258 and parameters: {'x_0': 0.029754389636999234, 'x_1': 0.421606612935605, 'x_2': 0.7657124869721322}. Best is trial 203 with value: 0.031075370772588123.\n"
     ]
    },
    {
     "name": "stdout",
     "output_type": "stream",
     "text": [
      "__________Iteration 461______________\n",
      "SLIM weight: 0.720414154668378\n",
      "RP3b weight: 0.20877558715673775\n",
      "ItemKNN weight: 0.07081025817488427\n",
      "EvaluatorHoldout: Processed 34728 (100.0%) in 12.85 sec. Users per second: 2703\n",
      "EvaluatorHoldout: Processed 35209 (100.0%) in 13.94 sec. Users per second: 2525\n"
     ]
    },
    {
     "name": "stderr",
     "output_type": "stream",
     "text": [
      "[I 2024-12-18 04:30:35,316] Trial 461 finished with value: 0.03101547445362135 and parameters: {'x_0': 0.08253302190865568, 'x_1': 0.4853325005037137, 'x_2': 0.7825538132147026}. Best is trial 203 with value: 0.031075370772588123.\n"
     ]
    },
    {
     "name": "stdout",
     "output_type": "stream",
     "text": [
      "__________Iteration 462______________\n",
      "SLIM weight: 0.6459230880938435\n",
      "RP3b weight: 0.28130636614656274\n",
      "ItemKNN weight: 0.07277054575959388\n",
      "EvaluatorHoldout: Processed 34728 (100.0%) in 12.88 sec. Users per second: 2696\n",
      "EvaluatorHoldout: Processed 35209 (100.0%) in 13.93 sec. Users per second: 2528\n"
     ]
    },
    {
     "name": "stderr",
     "output_type": "stream",
     "text": [
      "[I 2024-12-18 04:31:02,219] Trial 462 finished with value: 0.031036025319671468 and parameters: {'x_0': 0.1533226731749758, 'x_1': 0.4418989084043954, 'x_2': 0.8095605607277623}. Best is trial 203 with value: 0.031075370772588123.\n"
     ]
    },
    {
     "name": "stdout",
     "output_type": "stream",
     "text": [
      "__________Iteration 463______________\n",
      "SLIM weight: 0.6826767291973099\n",
      "RP3b weight: 0.24690289633263418\n",
      "ItemKNN weight: 0.07042037447005595\n",
      "EvaluatorHoldout: Processed 34728 (100.0%) in 12.86 sec. Users per second: 2699\n",
      "EvaluatorHoldout: Processed 35209 (100.0%) in 13.93 sec. Users per second: 2528\n"
     ]
    },
    {
     "name": "stderr",
     "output_type": "stream",
     "text": [
      "[I 2024-12-18 04:31:29,105] Trial 463 finished with value: 0.031065190752257787 and parameters: {'x_0': 0.061020815224374705, 'x_1': 0.36370162956399193, 'x_2': 0.7494074704906898}. Best is trial 203 with value: 0.031075370772588123.\n"
     ]
    },
    {
     "name": "stdout",
     "output_type": "stream",
     "text": [
      "__________Iteration 464______________\n",
      "SLIM weight: 0.6539112208046539\n",
      "RP3b weight: 0.2765233639026851\n",
      "ItemKNN weight: 0.06956541529266097\n",
      "EvaluatorHoldout: Processed 34728 (100.0%) in 12.91 sec. Users per second: 2690\n",
      "EvaluatorHoldout: Processed 35209 (100.0%) in 13.94 sec. Users per second: 2526\n"
     ]
    },
    {
     "name": "stderr",
     "output_type": "stream",
     "text": [
      "[I 2024-12-18 04:31:56,046] Trial 464 finished with value: 0.031045751701201604 and parameters: {'x_0': 0.11041621475192273, 'x_1': 0.3938415734470825, 'x_2': 0.7910326531324129}. Best is trial 203 with value: 0.031075370772588123.\n"
     ]
    },
    {
     "name": "stdout",
     "output_type": "stream",
     "text": [
      "__________Iteration 465______________\n",
      "SLIM weight: 0.6965186925282396\n",
      "RP3b weight: 0.2470895050467671\n",
      "ItemKNN weight: 0.056391802424993275\n",
      "EvaluatorHoldout: Processed 34728 (100.0%) in 12.91 sec. Users per second: 2691\n",
      "EvaluatorHoldout: Processed 35209 (100.0%) in 13.93 sec. Users per second: 2528\n"
     ]
    },
    {
     "name": "stderr",
     "output_type": "stream",
     "text": [
      "[I 2024-12-18 04:32:22,976] Trial 465 finished with value: 0.031056660743079927 and parameters: {'x_0': 0.08643325773174552, 'x_1': 0.41955442700115697, 'x_2': 0.8201837616849371}. Best is trial 203 with value: 0.031075370772588123.\n"
     ]
    },
    {
     "name": "stdout",
     "output_type": "stream",
     "text": [
      "__________Iteration 466______________\n",
      "SLIM weight: 0.6678205554687556\n",
      "RP3b weight: 0.2498960992571869\n",
      "ItemKNN weight: 0.08228334527405744\n",
      "EvaluatorHoldout: Processed 34728 (100.0%) in 12.85 sec. Users per second: 2703\n",
      "EvaluatorHoldout: Processed 35209 (100.0%) in 13.95 sec. Users per second: 2524\n"
     ]
    },
    {
     "name": "stderr",
     "output_type": "stream",
     "text": [
      "[I 2024-12-18 04:32:49,875] Trial 466 finished with value: 0.03104945279962454 and parameters: {'x_0': 0.1296435501592795, 'x_1': 0.46558021666614474, 'x_2': 0.7774643423833144}. Best is trial 203 with value: 0.031075370772588123.\n"
     ]
    },
    {
     "name": "stdout",
     "output_type": "stream",
     "text": [
      "__________Iteration 467______________\n",
      "SLIM weight: 0.693934457164268\n",
      "RP3b weight: 0.2526312824876134\n",
      "ItemKNN weight: 0.05343426034811853\n",
      "EvaluatorHoldout: Processed 34728 (100.0%) in 12.86 sec. Users per second: 2700\n",
      "EvaluatorHoldout: Processed 35209 (100.0%) in 13.96 sec. Users per second: 2523\n"
     ]
    },
    {
     "name": "stderr",
     "output_type": "stream",
     "text": [
      "[I 2024-12-18 04:33:16,789] Trial 467 finished with value: 0.031048604940708317 and parameters: {'x_0': 0.10272576726534273, 'x_1': 0.43671243166512025, 'x_2': 0.839261791322696}. Best is trial 203 with value: 0.031075370772588123.\n"
     ]
    },
    {
     "name": "stdout",
     "output_type": "stream",
     "text": [
      "__________Iteration 468______________\n",
      "SLIM weight: 0.7673771341075234\n",
      "RP3b weight: 0.1587005708763167\n",
      "ItemKNN weight: 0.07392229501615996\n",
      "EvaluatorHoldout: Processed 34728 (100.0%) in 12.89 sec. Users per second: 2695\n",
      "EvaluatorHoldout: Processed 35209 (100.0%) in 13.92 sec. Users per second: 2530\n"
     ]
    },
    {
     "name": "stderr",
     "output_type": "stream",
     "text": [
      "[I 2024-12-18 04:33:43,689] Trial 468 finished with value: 0.030925274605733275 and parameters: {'x_0': 0.039744300987284834, 'x_1': 0.5132362246353129, 'x_2': 0.7329368977570124}. Best is trial 203 with value: 0.031075370772588123.\n"
     ]
    },
    {
     "name": "stdout",
     "output_type": "stream",
     "text": [
      "__________Iteration 469______________\n",
      "SLIM weight: 0.63349715784493\n",
      "RP3b weight: 0.2922624265109898\n",
      "ItemKNN weight: 0.07424041564408032\n",
      "EvaluatorHoldout: Processed 34728 (100.0%) in 12.87 sec. Users per second: 2699\n",
      "EvaluatorHoldout: Processed 35209 (100.0%) in 13.95 sec. Users per second: 2524\n"
     ]
    },
    {
     "name": "stderr",
     "output_type": "stream",
     "text": [
      "[I 2024-12-18 04:34:10,599] Trial 469 finished with value: 0.031038828281829956 and parameters: {'x_0': 0.14512867080122077, 'x_1': 0.41046564629369414, 'x_2': 0.7975624343076132}. Best is trial 203 with value: 0.031075370772588123.\n"
     ]
    },
    {
     "name": "stdout",
     "output_type": "stream",
     "text": [
      "__________Iteration 470______________\n",
      "SLIM weight: 0.7047097327537969\n",
      "RP3b weight: 0.2595182658309701\n",
      "ItemKNN weight: 0.03577200141523312\n",
      "EvaluatorHoldout: Processed 34728 (100.0%) in 12.86 sec. Users per second: 2700\n",
      "EvaluatorHoldout: Processed 35209 (100.0%) in 13.99 sec. Users per second: 2517\n"
     ]
    },
    {
     "name": "stderr",
     "output_type": "stream",
     "text": [
      "[I 2024-12-18 04:34:37,549] Trial 470 finished with value: 0.03102363423869021 and parameters: {'x_0': 0.06932819027149256, 'x_1': 0.37424017510626945, 'x_2': 0.8732991675624598}. Best is trial 203 with value: 0.031075370772588123.\n"
     ]
    },
    {
     "name": "stdout",
     "output_type": "stream",
     "text": [
      "__________Iteration 471______________\n",
      "SLIM weight: 0.6790265884428426\n",
      "RP3b weight: 0.23178577462800523\n",
      "ItemKNN weight: 0.08918763692915223\n",
      "EvaluatorHoldout: Processed 34728 (100.0%) in 12.86 sec. Users per second: 2701\n",
      "EvaluatorHoldout: Processed 35209 (100.0%) in 13.94 sec. Users per second: 2525\n"
     ]
    },
    {
     "name": "stderr",
     "output_type": "stream",
     "text": [
      "[I 2024-12-18 04:35:04,447] Trial 471 finished with value: 0.031042081454787825 and parameters: {'x_0': 0.11981983689420056, 'x_1': 0.4846806860214634, 'x_2': 0.7567773893555345}. Best is trial 203 with value: 0.031075370772588123.\n"
     ]
    },
    {
     "name": "stdout",
     "output_type": "stream",
     "text": [
      "__________Iteration 472______________\n",
      "SLIM weight: 0.7045687468227327\n",
      "RP3b weight: 0.23129289862107769\n",
      "ItemKNN weight: 0.06413835455618945\n",
      "EvaluatorHoldout: Processed 34728 (100.0%) in 12.83 sec. Users per second: 2706\n",
      "EvaluatorHoldout: Processed 35209 (100.0%) in 13.98 sec. Users per second: 2518\n"
     ]
    },
    {
     "name": "stderr",
     "output_type": "stream",
     "text": [
      "[I 2024-12-18 04:35:31,358] Trial 472 finished with value: 0.031042885892357954 and parameters: {'x_0': 0.094657507615875, 'x_1': 0.46120758587398053, 'x_2': 0.8068583016323849}. Best is trial 203 with value: 0.031075370772588123.\n"
     ]
    },
    {
     "name": "stdout",
     "output_type": "stream",
     "text": [
      "__________Iteration 473______________\n",
      "SLIM weight: 0.6052090190001507\n",
      "RP3b weight: 0.3112666980723995\n",
      "ItemKNN weight: 0.0835242829274498\n",
      "EvaluatorHoldout: Processed 34728 (100.0%) in 12.81 sec. Users per second: 2710\n",
      "EvaluatorHoldout: Processed 35209 (100.0%) in 13.93 sec. Users per second: 2527\n"
     ]
    },
    {
     "name": "stderr",
     "output_type": "stream",
     "text": [
      "[I 2024-12-18 04:35:58,203] Trial 473 finished with value: 0.03102249957035617 and parameters: {'x_0': 0.16538133080727696, 'x_1': 0.39633064610796037, 'x_2': 0.7800889246245732}. Best is trial 203 with value: 0.031075370772588123.\n"
     ]
    },
    {
     "name": "stdout",
     "output_type": "stream",
     "text": [
      "__________Iteration 474______________\n",
      "SLIM weight: 0.7494589310325722\n",
      "RP3b weight: 0.20250466274029078\n",
      "ItemKNN weight: 0.048036406227137035\n",
      "EvaluatorHoldout: Processed 34728 (100.0%) in 12.83 sec. Users per second: 2707\n",
      "EvaluatorHoldout: Processed 35209 (100.0%) in 13.92 sec. Users per second: 2529\n"
     ]
    },
    {
     "name": "stderr",
     "output_type": "stream",
     "text": [
      "[I 2024-12-18 04:36:25,044] Trial 474 finished with value: 0.031021383184694218 and parameters: {'x_0': 0.04990649896469876, 'x_1': 0.4448776177304199, 'x_2': 0.8251989456459738}. Best is trial 203 with value: 0.031075370772588123.\n"
     ]
    },
    {
     "name": "stdout",
     "output_type": "stream",
     "text": [
      "__________Iteration 475______________\n",
      "SLIM weight: 0.7020253905942174\n",
      "RP3b weight: 0.23563539034633926\n",
      "ItemKNN weight: 0.062339219059443375\n",
      "EvaluatorHoldout: Processed 34728 (100.0%) in 12.89 sec. Users per second: 2694\n",
      "EvaluatorHoldout: Processed 35209 (100.0%) in 13.96 sec. Users per second: 2523\n"
     ]
    },
    {
     "name": "stderr",
     "output_type": "stream",
     "text": [
      "[I 2024-12-18 04:36:51,990] Trial 475 finished with value: 0.03105845587294173 and parameters: {'x_0': 0.07778308638278982, 'x_1': 0.42435049246042594, 'x_2': 0.7970977944617746}. Best is trial 203 with value: 0.031075370772588123.\n"
     ]
    },
    {
     "name": "stdout",
     "output_type": "stream",
     "text": [
      "__________Iteration 476______________\n",
      "SLIM weight: 0.6360699189726647\n",
      "RP3b weight: 0.2860914928211211\n",
      "ItemKNN weight: 0.07783858820621414\n",
      "EvaluatorHoldout: Processed 34728 (100.0%) in 12.83 sec. Users per second: 2706\n",
      "EvaluatorHoldout: Processed 35209 (100.0%) in 13.93 sec. Users per second: 2527\n"
     ]
    },
    {
     "name": "stderr",
     "output_type": "stream",
     "text": [
      "[I 2024-12-18 04:37:18,849] Trial 476 finished with value: 0.031046028226616305 and parameters: {'x_0': 0.11656657315555766, 'x_1': 0.38033274570996406, 'x_2': 0.7687279712896431}. Best is trial 203 with value: 0.031075370772588123.\n"
     ]
    },
    {
     "name": "stdout",
     "output_type": "stream",
     "text": [
      "__________Iteration 477______________\n",
      "SLIM weight: 0.6442115426338778\n",
      "RP3b weight: 0.29880604369146185\n",
      "ItemKNN weight: 0.05698241367466023\n",
      "EvaluatorHoldout: Processed 34728 (100.0%) in 12.87 sec. Users per second: 2698\n",
      "EvaluatorHoldout: Processed 35209 (100.0%) in 13.93 sec. Users per second: 2527\n"
     ]
    },
    {
     "name": "stderr",
     "output_type": "stream",
     "text": [
      "[I 2024-12-18 04:37:45,745] Trial 477 finished with value: 0.03103110042488822 and parameters: {'x_0': 0.14314161570273384, 'x_1': 0.40589814316353157, 'x_2': 0.8420250303072269}. Best is trial 203 with value: 0.031075370772588123.\n"
     ]
    },
    {
     "name": "stdout",
     "output_type": "stream",
     "text": [
      "__________Iteration 478______________\n",
      "SLIM weight: 0.6898383990220897\n",
      "RP3b weight: 0.22718802312924136\n",
      "ItemKNN weight: 0.082973577848669\n",
      "EvaluatorHoldout: Processed 34728 (100.0%) in 12.84 sec. Users per second: 2705\n",
      "EvaluatorHoldout: Processed 35209 (100.0%) in 13.92 sec. Users per second: 2529\n"
     ]
    },
    {
     "name": "stderr",
     "output_type": "stream",
     "text": [
      "[I 2024-12-18 04:38:12,599] Trial 478 finished with value: 0.031045501457128043 and parameters: {'x_0': 0.08835699343851067, 'x_1': 0.44973854751765574, 'x_2': 0.7468856945467427}. Best is trial 203 with value: 0.031075370772588123.\n"
     ]
    },
    {
     "name": "stdout",
     "output_type": "stream",
     "text": [
      "__________Iteration 479______________\n",
      "SLIM weight: 0.7175127002404723\n",
      "RP3b weight: 0.21972204582354687\n",
      "ItemKNN weight: 0.06276525393598077\n",
      "EvaluatorHoldout: Processed 34728 (100.0%) in 12.84 sec. Users per second: 2705\n",
      "EvaluatorHoldout: Processed 35209 (100.0%) in 13.95 sec. Users per second: 2525\n"
     ]
    },
    {
     "name": "stderr",
     "output_type": "stream",
     "text": [
      "[I 2024-12-18 04:38:39,477] Trial 479 finished with value: 0.03103419362446558 and parameters: {'x_0': 0.06374037773290665, 'x_1': 0.4304066831821598, 'x_2': 0.7859859560853519}. Best is trial 203 with value: 0.031075370772588123.\n"
     ]
    },
    {
     "name": "stdout",
     "output_type": "stream",
     "text": [
      "__________Iteration 480______________\n",
      "SLIM weight: 0.6959040749296643\n",
      "RP3b weight: 0.24141921766338134\n",
      "ItemKNN weight: 0.06267670740695429\n",
      "EvaluatorHoldout: Processed 34728 (100.0%) in 12.85 sec. Users per second: 2702\n",
      "EvaluatorHoldout: Processed 35209 (100.0%) in 13.92 sec. Users per second: 2529\n"
     ]
    },
    {
     "name": "stderr",
     "output_type": "stream",
     "text": [
      "[I 2024-12-18 04:39:06,347] Trial 480 finished with value: 0.031060207581457444 and parameters: {'x_0': 0.10731793998290737, 'x_1': 0.46102679811817854, 'x_2': 0.8178946253030759}. Best is trial 203 with value: 0.031075370772588123.\n"
     ]
    },
    {
     "name": "stdout",
     "output_type": "stream",
     "text": [
      "__________Iteration 481______________\n",
      "SLIM weight: 0.8014153488862846\n",
      "RP3b weight: 0.1517086618472142\n",
      "ItemKNN weight: 0.04687598926650111\n",
      "EvaluatorHoldout: Processed 34728 (100.0%) in 12.81 sec. Users per second: 2712\n",
      "EvaluatorHoldout: Processed 35209 (100.0%) in 13.97 sec. Users per second: 2521\n"
     ]
    },
    {
     "name": "stderr",
     "output_type": "stream",
     "text": [
      "[I 2024-12-18 04:39:33,216] Trial 481 finished with value: 0.03092567453918441 and parameters: {'x_0': 0.02327479100199966, 'x_1': 0.49073832880089924, 'x_2': 0.8025584898431731}. Best is trial 203 with value: 0.031075370772588123.\n"
     ]
    },
    {
     "name": "stdout",
     "output_type": "stream",
     "text": [
      "__________Iteration 482______________\n",
      "SLIM weight: 0.6073564553503616\n",
      "RP3b weight: 0.3085723074819516\n",
      "ItemKNN weight: 0.0840712371676866\n",
      "EvaluatorHoldout: Processed 34728 (100.0%) in 12.85 sec. Users per second: 2702\n",
      "EvaluatorHoldout: Processed 35209 (100.0%) in 13.93 sec. Users per second: 2527\n"
     ]
    },
    {
     "name": "stderr",
     "output_type": "stream",
     "text": [
      "[I 2024-12-18 04:40:00,097] Trial 482 finished with value: 0.03102462264564785 and parameters: {'x_0': 0.13309159094394796, 'x_1': 0.3589365728228105, 'x_2': 0.7564209503112912}. Best is trial 203 with value: 0.031075370772588123.\n"
     ]
    },
    {
     "name": "stdout",
     "output_type": "stream",
     "text": [
      "__________Iteration 483______________\n",
      "SLIM weight: 0.6564074332500087\n",
      "RP3b weight: 0.25260715890026597\n",
      "ItemKNN weight: 0.09098540784972534\n",
      "EvaluatorHoldout: Processed 34728 (100.0%) in 12.87 sec. Users per second: 2699\n",
      "EvaluatorHoldout: Processed 35209 (100.0%) in 13.97 sec. Users per second: 2521\n"
     ]
    },
    {
     "name": "stderr",
     "output_type": "stream",
     "text": [
      "[I 2024-12-18 04:40:27,025] Trial 483 finished with value: 0.031055363816031422 and parameters: {'x_0': 0.09800344986595935, 'x_1': 0.40906894910682584, 'x_2': 0.7247275594433168}. Best is trial 203 with value: 0.031075370772588123.\n"
     ]
    },
    {
     "name": "stdout",
     "output_type": "stream",
     "text": [
      "__________Iteration 484______________\n",
      "SLIM weight: 0.6848235416678965\n",
      "RP3b weight: 0.24921941441703044\n",
      "ItemKNN weight: 0.06595704391507307\n",
      "EvaluatorHoldout: Processed 34728 (100.0%) in 12.83 sec. Users per second: 2707\n",
      "EvaluatorHoldout: Processed 35209 (100.0%) in 13.97 sec. Users per second: 2520\n"
     ]
    },
    {
     "name": "stderr",
     "output_type": "stream",
     "text": [
      "[I 2024-12-18 04:40:53,922] Trial 484 finished with value: 0.031073699050762644 and parameters: {'x_0': 0.07204272336292501, 'x_1': 0.38393421274320383, 'x_2': 0.7761965135791715}. Best is trial 203 with value: 0.031075370772588123.\n"
     ]
    },
    {
     "name": "stdout",
     "output_type": "stream",
     "text": [
      "__________Iteration 485______________\n",
      "SLIM weight: 0.6775125983419306\n",
      "RP3b weight: 0.2690685083502512\n",
      "ItemKNN weight: 0.053418893307818315\n",
      "EvaluatorHoldout: Processed 34728 (100.0%) in 12.84 sec. Users per second: 2704\n",
      "EvaluatorHoldout: Processed 35209 (100.0%) in 13.95 sec. Users per second: 2524\n"
     ]
    },
    {
     "name": "stderr",
     "output_type": "stream",
     "text": [
      "[I 2024-12-18 04:41:20,807] Trial 485 finished with value: 0.031055047297271567 and parameters: {'x_0': 0.12417858777769443, 'x_1': 0.43672511564484096, 'x_2': 0.8483392517159132}. Best is trial 203 with value: 0.031075370772588123.\n"
     ]
    },
    {
     "name": "stdout",
     "output_type": "stream",
     "text": [
      "__________Iteration 486______________\n",
      "SLIM weight: 0.612022661728265\n",
      "RP3b weight: 0.3092673908368013\n",
      "ItemKNN weight: 0.07870994743493355\n",
      "EvaluatorHoldout: Processed 34728 (100.0%) in 12.84 sec. Users per second: 2705\n",
      "EvaluatorHoldout: Processed 35209 (100.0%) in 13.95 sec. Users per second: 2523\n"
     ]
    },
    {
     "name": "stderr",
     "output_type": "stream",
     "text": [
      "[I 2024-12-18 04:41:47,698] Trial 486 finished with value: 0.031009991937340598 and parameters: {'x_0': 0.15574990370995018, 'x_1': 0.39076663769514725, 'x_2': 0.7873016389209736}. Best is trial 203 with value: 0.031075370772588123.\n"
     ]
    },
    {
     "name": "stdout",
     "output_type": "stream",
     "text": [
      "__________Iteration 487______________\n",
      "SLIM weight: 0.7274414795679189\n",
      "RP3b weight: 0.21530936832527003\n",
      "ItemKNN weight: 0.057249152106811\n",
      "EvaluatorHoldout: Processed 34728 (100.0%) in 12.84 sec. Users per second: 2706\n",
      "EvaluatorHoldout: Processed 35209 (100.0%) in 13.96 sec. Users per second: 2522\n"
     ]
    },
    {
     "name": "stderr",
     "output_type": "stream",
     "text": [
      "[I 2024-12-18 04:42:14,587] Trial 487 finished with value: 0.03101216528998043 and parameters: {'x_0': 0.07968820675794765, 'x_1': 0.47296906976501224, 'x_2': 0.8194839565408398}. Best is trial 203 with value: 0.031075370772588123.\n"
     ]
    },
    {
     "name": "stdout",
     "output_type": "stream",
     "text": [
      "__________Iteration 488______________\n",
      "SLIM weight: 0.36820736590860287\n",
      "RP3b weight: 0.5957491876626767\n",
      "ItemKNN weight: 0.03604344642872043\n",
      "EvaluatorHoldout: Processed 34728 (100.0%) in 12.87 sec. Users per second: 2699\n",
      "EvaluatorHoldout: Processed 35209 (100.0%) in 13.94 sec. Users per second: 2526\n"
     ]
    },
    {
     "name": "stderr",
     "output_type": "stream",
     "text": [
      "[I 2024-12-18 04:42:41,489] Trial 488 finished with value: 0.030624616063885956 and parameters: {'x_0': 0.10677678893955156, 'x_1': 0.026798026390576046, 'x_2': 0.8033385029711798}. Best is trial 203 with value: 0.031075370772588123.\n"
     ]
    },
    {
     "name": "stdout",
     "output_type": "stream",
     "text": [
      "__________Iteration 489______________\n",
      "SLIM weight: 0.6073859946050475\n",
      "RP3b weight: 0.3009079563191927\n",
      "ItemKNN weight: 0.09170604907575991\n",
      "EvaluatorHoldout: Processed 34728 (100.0%) in 12.82 sec. Users per second: 2709\n",
      "EvaluatorHoldout: Processed 35209 (100.0%) in 13.97 sec. Users per second: 2520\n"
     ]
    },
    {
     "name": "stderr",
     "output_type": "stream",
     "text": [
      "[I 2024-12-18 04:43:08,374] Trial 489 finished with value: 0.031040397163625232 and parameters: {'x_0': 0.17800304673485062, 'x_1': 0.4252562699814711, 'x_2': 0.7705945640175078}. Best is trial 203 with value: 0.031075370772588123.\n"
     ]
    },
    {
     "name": "stdout",
     "output_type": "stream",
     "text": [
      "__________Iteration 490______________\n",
      "SLIM weight: 0.6983639198133383\n",
      "RP3b weight: 0.25023020683323965\n",
      "ItemKNN weight: 0.051405873353422\n",
      "EvaluatorHoldout: Processed 34728 (100.0%) in 12.82 sec. Users per second: 2709\n",
      "EvaluatorHoldout: Processed 35209 (100.0%) in 13.95 sec. Users per second: 2525\n"
     ]
    },
    {
     "name": "stderr",
     "output_type": "stream",
     "text": [
      "[I 2024-12-18 04:43:35,235] Trial 490 finished with value: 0.031037004585293168 and parameters: {'x_0': 0.08180960644121509, 'x_1': 0.407800539687012, 'x_2': 0.8317113083415979}. Best is trial 203 with value: 0.031075370772588123.\n"
     ]
    },
    {
     "name": "stdout",
     "output_type": "stream",
     "text": [
      "__________Iteration 491______________\n",
      "SLIM weight: 0.6331017071188881\n",
      "RP3b weight: 0.2936463879618214\n",
      "ItemKNN weight: 0.07325190491929058\n",
      "EvaluatorHoldout: Processed 34728 (100.0%) in 12.83 sec. Users per second: 2706\n",
      "EvaluatorHoldout: Processed 35209 (100.0%) in 13.95 sec. Users per second: 2523\n"
     ]
    },
    {
     "name": "stderr",
     "output_type": "stream",
     "text": [
      "[I 2024-12-18 04:44:02,121] Trial 491 finished with value: 0.031039147085923816 and parameters: {'x_0': 0.12881977619120238, 'x_1': 0.3865364727702134, 'x_2': 0.7889002900167014}. Best is trial 203 with value: 0.031075370772588123.\n"
     ]
    },
    {
     "name": "stdout",
     "output_type": "stream",
     "text": [
      "__________Iteration 492______________\n",
      "SLIM weight: 0.763230741146909\n",
      "RP3b weight: 0.19906007694482863\n",
      "ItemKNN weight: 0.03770918190826232\n",
      "EvaluatorHoldout: Processed 34728 (100.0%) in 12.83 sec. Users per second: 2706\n",
      "EvaluatorHoldout: Processed 35209 (100.0%) in 13.92 sec. Users per second: 2529\n"
     ]
    },
    {
     "name": "stderr",
     "output_type": "stream",
     "text": [
      "[I 2024-12-18 04:44:28,972] Trial 492 finished with value: 0.03098515835536304 and parameters: {'x_0': 0.04777029395471975, 'x_1': 0.45238473701454185, 'x_2': 0.8604799167450659}. Best is trial 203 with value: 0.031075370772588123.\n"
     ]
    },
    {
     "name": "stdout",
     "output_type": "stream",
     "text": [
      "__________Iteration 493______________\n",
      "SLIM weight: 0.6835507006123633\n",
      "RP3b weight: 0.25679144604931536\n",
      "ItemKNN weight: 0.05965785333832134\n",
      "EvaluatorHoldout: Processed 34728 (100.0%) in 12.87 sec. Users per second: 2699\n",
      "EvaluatorHoldout: Processed 35209 (100.0%) in 13.92 sec. Users per second: 2529\n"
     ]
    },
    {
     "name": "stderr",
     "output_type": "stream",
     "text": [
      "[I 2024-12-18 04:44:55,856] Trial 493 finished with value: 0.031063399050397015 and parameters: {'x_0': 0.10243114958984438, 'x_1': 0.4248603257484912, 'x_2': 0.8196605978836483}. Best is trial 203 with value: 0.031075370772588123.\n"
     ]
    },
    {
     "name": "stdout",
     "output_type": "stream",
     "text": [
      "__________Iteration 494______________\n",
      "SLIM weight: 0.6947743609265105\n",
      "RP3b weight: 0.26505840162175737\n",
      "ItemKNN weight: 0.0401672374517323\n",
      "EvaluatorHoldout: Processed 34728 (100.0%) in 12.82 sec. Users per second: 2710\n",
      "EvaluatorHoldout: Processed 35209 (100.0%) in 13.91 sec. Users per second: 2530\n"
     ]
    },
    {
     "name": "stderr",
     "output_type": "stream",
     "text": [
      "[I 2024-12-18 04:45:22,681] Trial 494 finished with value: 0.0310539377676116 and parameters: {'x_0': 0.14180238863152866, 'x_1': 0.4746405645009408, 'x_2': 0.8932149407845711}. Best is trial 203 with value: 0.031075370772588123.\n"
     ]
    },
    {
     "name": "stdout",
     "output_type": "stream",
     "text": [
      "__________Iteration 495______________\n",
      "SLIM weight: 0.7196563351900359\n",
      "RP3b weight: 0.21241172473254624\n",
      "ItemKNN weight: 0.06793194007741779\n",
      "EvaluatorHoldout: Processed 34728 (100.0%) in 12.84 sec. Users per second: 2705\n",
      "EvaluatorHoldout: Processed 35209 (100.0%) in 13.93 sec. Users per second: 2528\n"
     ]
    },
    {
     "name": "stderr",
     "output_type": "stream",
     "text": [
      "[I 2024-12-18 04:45:49,547] Trial 495 finished with value: 0.031028231188043574 and parameters: {'x_0': 0.06556590800313962, 'x_1': 0.4474392260039153, 'x_2': 0.773215158781701}. Best is trial 203 with value: 0.031075370772588123.\n"
     ]
    },
    {
     "name": "stdout",
     "output_type": "stream",
     "text": [
      "__________Iteration 496______________\n",
      "SLIM weight: 0.7017887073405444\n",
      "RP3b weight: 0.22648323692188493\n",
      "ItemKNN weight: 0.07172805573757063\n",
      "EvaluatorHoldout: Processed 34728 (100.0%) in 12.89 sec. Users per second: 2695\n",
      "EvaluatorHoldout: Processed 35209 (100.0%) in 13.93 sec. Users per second: 2528\n"
     ]
    },
    {
     "name": "stderr",
     "output_type": "stream",
     "text": [
      "[I 2024-12-18 04:46:16,459] Trial 496 finished with value: 0.031046221337339946 and parameters: {'x_0': 0.11736868066768154, 'x_1': 0.5008679714940621, 'x_2': 0.803343486526143}. Best is trial 203 with value: 0.031075370772588123.\n"
     ]
    },
    {
     "name": "stdout",
     "output_type": "stream",
     "text": [
      "__________Iteration 497______________\n",
      "SLIM weight: 0.6766981127973457\n",
      "RP3b weight: 0.2559120741690742\n",
      "ItemKNN weight: 0.06738981303358\n",
      "EvaluatorHoldout: Processed 34728 (100.0%) in 12.85 sec. Users per second: 2703\n",
      "EvaluatorHoldout: Processed 35209 (100.0%) in 13.92 sec. Users per second: 2529\n"
     ]
    },
    {
     "name": "stderr",
     "output_type": "stream",
     "text": [
      "[I 2024-12-18 04:46:43,321] Trial 497 finished with value: 0.03107241926371922 and parameters: {'x_0': 0.09037765443603266, 'x_1': 0.40290779545452216, 'x_2': 0.7871147639312055}. Best is trial 203 with value: 0.031075370772588123.\n"
     ]
    },
    {
     "name": "stdout",
     "output_type": "stream",
     "text": [
      "__________Iteration 498______________\n",
      "SLIM weight: 0.6568606713364563\n",
      "RP3b weight: 0.2654444004017231\n",
      "ItemKNN weight: 0.07769492826182053\n",
      "EvaluatorHoldout: Processed 34728 (100.0%) in 12.87 sec. Users per second: 2698\n",
      "EvaluatorHoldout: Processed 35209 (100.0%) in 13.96 sec. Users per second: 2523\n"
     ]
    },
    {
     "name": "stderr",
     "output_type": "stream",
     "text": [
      "[I 2024-12-18 04:47:10,241] Trial 498 finished with value: 0.031069103244076277 and parameters: {'x_0': 0.0817924622809566, 'x_1': 0.3635932778276494, 'x_2': 0.7436923773495275}. Best is trial 203 with value: 0.031075370772588123.\n"
     ]
    },
    {
     "name": "stdout",
     "output_type": "stream",
     "text": [
      "__________Iteration 499______________\n",
      "SLIM weight: 0.721499899182245\n",
      "RP3b weight: 0.2171641142458087\n",
      "ItemKNN weight: 0.06133598657194633\n",
      "EvaluatorHoldout: Processed 34728 (100.0%) in 12.83 sec. Users per second: 2707\n",
      "EvaluatorHoldout: Processed 35209 (100.0%) in 13.94 sec. Users per second: 2526\n"
     ]
    },
    {
     "name": "stderr",
     "output_type": "stream",
     "text": [
      "[I 2024-12-18 04:47:37,100] Trial 499 finished with value: 0.031023643380026226 and parameters: {'x_0': 0.04464387935663588, 'x_1': 0.3922763311626962, 'x_2': 0.767739464813105}. Best is trial 203 with value: 0.031075370772588123.\n"
     ]
    }
   ],
   "source": [
    "study = op.create_study(direction=\"maximize\")\n",
    "study.optimize(objective_function_weight_hybrid,\n",
    "                      callbacks=[],\n",
    "                      n_trials = 500)"
   ]
  },
  {
   "cell_type": "code",
   "execution_count": null,
   "id": "b9e034a0-df61-4649-befe-abe2fcd38274",
   "metadata": {},
   "outputs": [],
   "source": []
  },
  {
   "cell_type": "code",
   "execution_count": null,
   "id": "6f5436db-e9e5-4dd2-b976-5471583b0306",
   "metadata": {},
   "outputs": [],
   "source": [
    "similarity_best = 0.862708291473966 * slim_model_train_val.W_sparse + 0.10238146945917358 * rp3_beta_train_val.W_sparse + 0.034910239066860506 * knn_train_val.W_sparse\n",
    "recommender_best = ItemKNNCustomSimilarityRecommender(URM_train_val)\n",
    "recommender_best.fit(similarity_best)"
   ]
  },
  {
   "cell_type": "code",
   "execution_count": 67,
   "id": "afadcd27-f25d-48ea-bd53-8b2fc5ee55a9",
   "metadata": {},
   "outputs": [],
   "source": [
    "results_df=pd.DataFrame(results_dict)\n",
    "results_df.to_csv(\"result_experiments/ensemble_SLIM_RP3_KNNCFR/results_prof_eval_18_12_24.csv\",sep=',',index=False)"
   ]
  },
  {
   "cell_type": "code",
   "execution_count": null,
   "id": "f734394c-2297-4831-8d69-cdce2a322561",
   "metadata": {},
   "outputs": [],
   "source": [
    "res_best, _ = evaluator_test.evaluateRecommender(recommender_best)"
   ]
  },
  {
   "cell_type": "code",
   "execution_count": null,
   "id": "8ba0512d-91e5-47cc-99c7-c2e6a666d5dc",
   "metadata": {},
   "outputs": [],
   "source": [
    "res_best"
   ]
  },
  {
   "cell_type": "code",
   "execution_count": 35,
   "id": "d5e5babe-a1e0-41d8-9286-8c9516ee3a67",
   "metadata": {},
   "outputs": [
    {
     "data": {
      "text/html": [
       "<div>\n",
       "<style scoped>\n",
       "    .dataframe tbody tr th:only-of-type {\n",
       "        vertical-align: middle;\n",
       "    }\n",
       "\n",
       "    .dataframe tbody tr th {\n",
       "        vertical-align: top;\n",
       "    }\n",
       "\n",
       "    .dataframe thead th {\n",
       "        text-align: right;\n",
       "    }\n",
       "</style>\n",
       "<table border=\"1\" class=\"dataframe\">\n",
       "  <thead>\n",
       "    <tr style=\"text-align: right;\">\n",
       "      <th></th>\n",
       "      <th>Iteration</th>\n",
       "      <th>SLIM_w</th>\n",
       "      <th>RP3b_w</th>\n",
       "      <th>ItemKNN_w</th>\n",
       "      <th>MAP_val</th>\n",
       "      <th>MAP_test</th>\n",
       "    </tr>\n",
       "  </thead>\n",
       "  <tbody>\n",
       "    <tr>\n",
       "      <th>148</th>\n",
       "      <td>148</td>\n",
       "      <td>0.867298</td>\n",
       "      <td>0.105076</td>\n",
       "      <td>0.027626</td>\n",
       "      <td>0.030877</td>\n",
       "      <td>0.047923</td>\n",
       "    </tr>\n",
       "  </tbody>\n",
       "</table>\n",
       "</div>"
      ],
      "text/plain": [
       "     Iteration    SLIM_w    RP3b_w  ItemKNN_w   MAP_val  MAP_test\n",
       "148        148  0.867298  0.105076   0.027626  0.030877  0.047923"
      ]
     },
     "execution_count": 35,
     "metadata": {},
     "output_type": "execute_result"
    }
   ],
   "source": [
    "results_best[results_best[\"MAP_test\"]==results_best[\"MAP_test\"].max()]"
   ]
  },
  {
   "cell_type": "code",
   "execution_count": 66,
   "id": "93a1c6fe-c9f5-471c-adfc-c7d8c86e44c6",
   "metadata": {},
   "outputs": [
    {
     "data": {
      "text/plain": [
       "{'SLIM_w': 0.8011551243595696,\n",
       " 'RP3b_w': 0.176441040480307,\n",
       " 'ItemKNN_w': 0.022403835160123328,\n",
       " 'MAP_test': 0.0480096505357787}"
      ]
     },
     "execution_count": 66,
     "metadata": {},
     "output_type": "execute_result"
    }
   ],
   "source": [
    "new_best_on_test"
   ]
  },
  {
   "cell_type": "code",
   "execution_count": 88,
   "id": "c6479d9d-02db-4dc6-93e9-e49ce6757133",
   "metadata": {},
   "outputs": [],
   "source": [
    "# slim_model_train.save_model(\"result_experiments/SLIM/\", \"slim_307_train_ens\")\n",
    "# slim_model_train_val.save_model(\"result_experiments/SLIM/\", \"slim_307_train_val_ens\")"
   ]
  },
  {
   "cell_type": "code",
   "execution_count": 89,
   "id": "429adbc0-527c-43ba-867a-89a4930c65e1",
   "metadata": {},
   "outputs": [],
   "source": [
    "# knn_train.save_model(\"result_experiments/ItemKNNCFRecommender/\", \"knn_4_train_ens\")\n",
    "# knn_train_val.save_model(\"result_experiments/ItemKNNCFRecommender/\", \"knn_4_train_val_ens\")"
   ]
  },
  {
   "cell_type": "code",
   "execution_count": 90,
   "id": "f8bfa83f-b9a8-49f4-be8c-6aaf6c2b3b31",
   "metadata": {},
   "outputs": [],
   "source": [
    "# rp3_beta_train.save_model(\"result_experiments/RP3beta/\", \"rp3_beta_12_weights_train\")\n",
    "# rp3_beta_train_val.save_model(\"result_experiments/RP3beta/\", \"rp3_beta_12_weights_train_val\")"
   ]
  },
  {
   "cell_type": "code",
   "execution_count": 57,
   "id": "b6bb27ce-d4d6-42f2-b8e3-dece5b8685e5",
   "metadata": {},
   "outputs": [],
   "source": [
    "# results_df=pd.DataFrame(results_dict)\n",
    "# results_df.to_csv(\"result_experiments/ensemble_SLIM_RP3_KNNCFR/results_prof_eval_11_12_24.csv\",sep=',',index=False)"
   ]
  },
  {
   "cell_type": "code",
   "execution_count": 63,
   "id": "b7aa5fd3-e728-4431-a050-8022729a7d15",
   "metadata": {},
   "outputs": [],
   "source": [
    "# sps.save_npz('URM_train_ens.npz', URM_train)\n",
    "# sps.save_npz('URM_train_val_ens.npz', URM_train_val)\n",
    "# sps.save_npz('URM_test_ens.npz', URM_test)"
   ]
  },
  {
   "cell_type": "code",
   "execution_count": 70,
   "id": "bc153cd5-3f93-4d9e-951d-d85b360c5a8f",
   "metadata": {},
   "outputs": [
    {
     "name": "stdout",
     "output_type": "stream",
     "text": [
      "0.8011551243595696\n",
      "0.176441040480307\n",
      "0.022403835160123328\n"
     ]
    }
   ],
   "source": [
    "print(new_best_on_test['SLIM_w'])\n",
    "print(new_best_on_test['RP3b_w'])\n",
    "print(new_best_on_test['ItemKNN_w'])"
   ]
  },
  {
   "cell_type": "code",
   "execution_count": 70,
   "id": "9265f793-ab18-404f-bd8a-f464a04958ee",
   "metadata": {},
   "outputs": [
    {
     "data": {
      "text/html": [
       "<div>\n",
       "<style scoped>\n",
       "    .dataframe tbody tr th:only-of-type {\n",
       "        vertical-align: middle;\n",
       "    }\n",
       "\n",
       "    .dataframe tbody tr th {\n",
       "        vertical-align: top;\n",
       "    }\n",
       "\n",
       "    .dataframe thead th {\n",
       "        text-align: right;\n",
       "    }\n",
       "</style>\n",
       "<table border=\"1\" class=\"dataframe\">\n",
       "  <thead>\n",
       "    <tr style=\"text-align: right;\">\n",
       "      <th></th>\n",
       "      <th>Iteration</th>\n",
       "      <th>SLIM_w</th>\n",
       "      <th>RP3b_w</th>\n",
       "      <th>ItemKNN_w</th>\n",
       "      <th>MAP_val</th>\n",
       "      <th>MAP_test</th>\n",
       "    </tr>\n",
       "  </thead>\n",
       "  <tbody>\n",
       "    <tr>\n",
       "      <th>267</th>\n",
       "      <td>267</td>\n",
       "      <td>0.000138</td>\n",
       "      <td>0.999847</td>\n",
       "      <td>0.000015</td>\n",
       "      <td>0.128963</td>\n",
       "      <td>0.0</td>\n",
       "    </tr>\n",
       "    <tr>\n",
       "      <th>257</th>\n",
       "      <td>257</td>\n",
       "      <td>0.000048</td>\n",
       "      <td>0.999820</td>\n",
       "      <td>0.000133</td>\n",
       "      <td>0.128963</td>\n",
       "      <td>0.0</td>\n",
       "    </tr>\n",
       "    <tr>\n",
       "      <th>297</th>\n",
       "      <td>297</td>\n",
       "      <td>0.000019</td>\n",
       "      <td>0.999837</td>\n",
       "      <td>0.000144</td>\n",
       "      <td>0.128961</td>\n",
       "      <td>0.0</td>\n",
       "    </tr>\n",
       "    <tr>\n",
       "      <th>260</th>\n",
       "      <td>260</td>\n",
       "      <td>0.000519</td>\n",
       "      <td>0.999391</td>\n",
       "      <td>0.000089</td>\n",
       "      <td>0.128960</td>\n",
       "      <td>0.0</td>\n",
       "    </tr>\n",
       "    <tr>\n",
       "      <th>253</th>\n",
       "      <td>253</td>\n",
       "      <td>0.000198</td>\n",
       "      <td>0.999592</td>\n",
       "      <td>0.000210</td>\n",
       "      <td>0.128958</td>\n",
       "      <td>0.0</td>\n",
       "    </tr>\n",
       "    <tr>\n",
       "      <th>...</th>\n",
       "      <td>...</td>\n",
       "      <td>...</td>\n",
       "      <td>...</td>\n",
       "      <td>...</td>\n",
       "      <td>...</td>\n",
       "      <td>...</td>\n",
       "    </tr>\n",
       "    <tr>\n",
       "      <th>9</th>\n",
       "      <td>9</td>\n",
       "      <td>0.415903</td>\n",
       "      <td>0.133992</td>\n",
       "      <td>0.450105</td>\n",
       "      <td>0.089874</td>\n",
       "      <td>0.0</td>\n",
       "    </tr>\n",
       "    <tr>\n",
       "      <th>1</th>\n",
       "      <td>1</td>\n",
       "      <td>0.752678</td>\n",
       "      <td>0.061503</td>\n",
       "      <td>0.185818</td>\n",
       "      <td>0.089587</td>\n",
       "      <td>0.0</td>\n",
       "    </tr>\n",
       "    <tr>\n",
       "      <th>237</th>\n",
       "      <td>237</td>\n",
       "      <td>0.052045</td>\n",
       "      <td>0.195269</td>\n",
       "      <td>0.752685</td>\n",
       "      <td>0.086758</td>\n",
       "      <td>0.0</td>\n",
       "    </tr>\n",
       "    <tr>\n",
       "      <th>30</th>\n",
       "      <td>30</td>\n",
       "      <td>0.013971</td>\n",
       "      <td>0.168956</td>\n",
       "      <td>0.817073</td>\n",
       "      <td>0.084429</td>\n",
       "      <td>0.0</td>\n",
       "    </tr>\n",
       "    <tr>\n",
       "      <th>90</th>\n",
       "      <td>90</td>\n",
       "      <td>0.058501</td>\n",
       "      <td>0.028829</td>\n",
       "      <td>0.912670</td>\n",
       "      <td>0.077466</td>\n",
       "      <td>0.0</td>\n",
       "    </tr>\n",
       "  </tbody>\n",
       "</table>\n",
       "<p>300 rows × 6 columns</p>\n",
       "</div>"
      ],
      "text/plain": [
       "     Iteration    SLIM_w    RP3b_w  ItemKNN_w   MAP_val  MAP_test\n",
       "267        267  0.000138  0.999847   0.000015  0.128963       0.0\n",
       "257        257  0.000048  0.999820   0.000133  0.128963       0.0\n",
       "297        297  0.000019  0.999837   0.000144  0.128961       0.0\n",
       "260        260  0.000519  0.999391   0.000089  0.128960       0.0\n",
       "253        253  0.000198  0.999592   0.000210  0.128958       0.0\n",
       "..         ...       ...       ...        ...       ...       ...\n",
       "9            9  0.415903  0.133992   0.450105  0.089874       0.0\n",
       "1            1  0.752678  0.061503   0.185818  0.089587       0.0\n",
       "237        237  0.052045  0.195269   0.752685  0.086758       0.0\n",
       "30          30  0.013971  0.168956   0.817073  0.084429       0.0\n",
       "90          90  0.058501  0.028829   0.912670  0.077466       0.0\n",
       "\n",
       "[300 rows x 6 columns]"
      ]
     },
     "execution_count": 70,
     "metadata": {},
     "output_type": "execute_result"
    }
   ],
   "source": [
    "results_df.sort_values('MAP_val', ascending=False)"
   ]
  },
  {
   "cell_type": "code",
   "execution_count": 69,
   "id": "824e0286-8c8d-4398-8705-373def87a948",
   "metadata": {},
   "outputs": [],
   "source": [
    "def write_submission_lib_model(trained_model, filename: str = \"submission.csv\") -> None:\n",
    "\t\"\"\"Builds the submission file from a trained recommender model. The file is saved in a CSV format.\n",
    "\n",
    "\t:param trained_model: A fitted recommender model\n",
    "\t:type trained_model: RecommenderModel\n",
    "\t:param filename: The filename of the submission for this particular recommender model\n",
    "\t:type filename: str\n",
    "\t\"\"\"\n",
    "\ttarget_users_test = pd.read_csv(\"../data/data_target_users_test.csv\",).to_numpy().ravel()\n",
    "\n",
    "\trecommendations = np.array([\n",
    "\t\ttrained_model.recommend(user_id, cutoff=10) for user_id in target_users_test\n",
    "\t])\n",
    "\n",
    "\tif not os.path.exists(\"../submissions\"):\n",
    "\t\tos.makedirs(\"../submissions\")\n",
    "\twith open(f\"../submissions/{filename}\", \"w\") as f:\n",
    "\t\tf.write(\"user_id,item_list\\n\")\n",
    "\t\tfor user_id, recs in zip(target_users_test, recommendations):\n",
    "\t\t\tf.write(f\"{user_id},{' '.join(map(str, recs))}\\n\")"
   ]
  },
  {
   "cell_type": "code",
   "execution_count": 71,
   "id": "1a3751d2-d8d0-4cc8-89a5-1da0b673f514",
   "metadata": {},
   "outputs": [
    {
     "name": "stdout",
     "output_type": "stream",
     "text": [
      "SLIMElasticNetRecommender: Loading model from file 'result_experiments/SLIM/slim_307_weights_all'\n",
      "SLIMElasticNetRecommender: Loading complete\n"
     ]
    }
   ],
   "source": [
    "SLIM_all = SLIMElasticNetRecommender(URM_all)\n",
    "# SLIM_all.fit(l1_ratio=0.11006885790633625, alpha=0.0002551115306127753, topK = 307)\n",
    "SLIM_all.load_model(\"result_experiments/SLIM/\", \"slim_307_weights_all\")\n"
   ]
  },
  {
   "cell_type": "code",
   "execution_count": 72,
   "id": "98fbbab0-cedc-49d0-a721-bdfdde6de046",
   "metadata": {},
   "outputs": [
    {
     "name": "stdout",
     "output_type": "stream",
     "text": [
      "RP3betaRecommender: Similarity column 38121 (100.0%), 3554.66 column/sec. Elapsed time 10.72 sec\n"
     ]
    }
   ],
   "source": [
    "RP3_beta_all = RP3betaRecommender(URM_all)\n",
    "RP3_beta_all.fit(alpha=0.4176290154380183, beta=0.21520987912346945, topK=19, min_rating=0.0, implicit=False, normalize_similarity=True)\n",
    "\n",
    "#RP3_beta_all.load_model(\"result_experiments/RP3beta/\", \"rp3_beta_12_weights_all\")\n"
   ]
  },
  {
   "cell_type": "code",
   "execution_count": 73,
   "id": "07e236b8-3a69-4dfd-a654-f7ad5d62168f",
   "metadata": {},
   "outputs": [
    {
     "name": "stdout",
     "output_type": "stream",
     "text": [
      "ItemKNNCFRecommender: Loading model from file 'result_experiments/ItemKNNCFRecommender/knn_4_weights_all'\n",
      "ItemKNNCFRecommender: Loading complete\n"
     ]
    }
   ],
   "source": [
    "KNN_all = ItemKNNCFRecommender(URM_all)\n",
    "# KNN_all.fit(similarity='tversky', topK=4, shrink=18,\n",
    "#                   feature_weighting='none', tversky_alpha=0.1263621,\n",
    "#                   tversky_beta=1.72181042,\n",
    "#                   normalize=False)\n",
    "\n",
    "KNN_all.load_model(\"result_experiments/ItemKNNCFRecommender/\", \"knn_4_weights_all\")"
   ]
  },
  {
   "cell_type": "code",
   "execution_count": 74,
   "id": "80184a7b-db48-4e9c-912a-3d376f934ec4",
   "metadata": {},
   "outputs": [],
   "source": [
    "# iter 239 0.04801274656744886\n",
    "# 0.7380796311636464 * SLIM_all.W_sparse + 0.21602197286950797 * RP3_beta_all.W_sparse + 0.04589839596684567 * KNN_all.W_sparse\n",
    "\n",
    "similarity_all = 0.8011551243595696 * SLIM_all.W_sparse + 0.176441040480307 * RP3_beta_all.W_sparse + 0.022403835160123328 * KNN_all.W_sparse\n",
    "recommender_best = ItemKNNCustomSimilarityRecommender(URM_all)\n",
    "recommender_best.fit(similarity_all)"
   ]
  },
  {
   "cell_type": "code",
   "execution_count": 75,
   "id": "f8fed399-212e-4401-b902-8b5180ab06e0",
   "metadata": {},
   "outputs": [
    {
     "name": "stdout",
     "output_type": "stream",
     "text": [
      "EvaluatorHoldout: Processed 35209 (100.0%) in 15.03 sec. Users per second: 2343\n"
     ]
    }
   ],
   "source": [
    "recommender_best_res, _ = evaluator_test.evaluateRecommender(recommender_best)"
   ]
  },
  {
   "cell_type": "code",
   "execution_count": 76,
   "id": "e245746a-10aa-4f89-bfc7-c3eac8d092a3",
   "metadata": {},
   "outputs": [
    {
     "data": {
      "text/html": [
       "<div>\n",
       "<style scoped>\n",
       "    .dataframe tbody tr th:only-of-type {\n",
       "        vertical-align: middle;\n",
       "    }\n",
       "\n",
       "    .dataframe tbody tr th {\n",
       "        vertical-align: top;\n",
       "    }\n",
       "\n",
       "    .dataframe thead th {\n",
       "        text-align: right;\n",
       "    }\n",
       "</style>\n",
       "<table border=\"1\" class=\"dataframe\">\n",
       "  <thead>\n",
       "    <tr style=\"text-align: right;\">\n",
       "      <th></th>\n",
       "      <th>PRECISION</th>\n",
       "      <th>PRECISION_RECALL_MIN_DEN</th>\n",
       "      <th>RECALL</th>\n",
       "      <th>MAP</th>\n",
       "      <th>MAP_MIN_DEN</th>\n",
       "      <th>MRR</th>\n",
       "      <th>NDCG</th>\n",
       "      <th>F1</th>\n",
       "      <th>HIT_RATE</th>\n",
       "      <th>ARHR_ALL_HITS</th>\n",
       "      <th>...</th>\n",
       "      <th>COVERAGE_USER</th>\n",
       "      <th>COVERAGE_USER_HIT</th>\n",
       "      <th>USERS_IN_GT</th>\n",
       "      <th>DIVERSITY_GINI</th>\n",
       "      <th>SHANNON_ENTROPY</th>\n",
       "      <th>RATIO_DIVERSITY_HERFINDAHL</th>\n",
       "      <th>RATIO_DIVERSITY_GINI</th>\n",
       "      <th>RATIO_SHANNON_ENTROPY</th>\n",
       "      <th>RATIO_AVERAGE_POPULARITY</th>\n",
       "      <th>RATIO_NOVELTY</th>\n",
       "    </tr>\n",
       "    <tr>\n",
       "      <th>cutoff</th>\n",
       "      <th></th>\n",
       "      <th></th>\n",
       "      <th></th>\n",
       "      <th></th>\n",
       "      <th></th>\n",
       "      <th></th>\n",
       "      <th></th>\n",
       "      <th></th>\n",
       "      <th></th>\n",
       "      <th></th>\n",
       "      <th></th>\n",
       "      <th></th>\n",
       "      <th></th>\n",
       "      <th></th>\n",
       "      <th></th>\n",
       "      <th></th>\n",
       "      <th></th>\n",
       "      <th></th>\n",
       "      <th></th>\n",
       "      <th></th>\n",
       "      <th></th>\n",
       "    </tr>\n",
       "  </thead>\n",
       "  <tbody>\n",
       "    <tr>\n",
       "      <th>10</th>\n",
       "      <td>0.0</td>\n",
       "      <td>0.0</td>\n",
       "      <td>0.0</td>\n",
       "      <td>0.0</td>\n",
       "      <td>0.0</td>\n",
       "      <td>0.0</td>\n",
       "      <td>0.0</td>\n",
       "      <td>0.0</td>\n",
       "      <td>0.0</td>\n",
       "      <td>0.0</td>\n",
       "      <td>...</td>\n",
       "      <td>0.985253</td>\n",
       "      <td>0.0</td>\n",
       "      <td>0.985253</td>\n",
       "      <td>0.25946</td>\n",
       "      <td>13.573524</td>\n",
       "      <td>0.999895</td>\n",
       "      <td>0.424386</td>\n",
       "      <td>0.919259</td>\n",
       "      <td>1.269521</td>\n",
       "      <td>0.196495</td>\n",
       "    </tr>\n",
       "  </tbody>\n",
       "</table>\n",
       "<p>1 rows × 27 columns</p>\n",
       "</div>"
      ],
      "text/plain": [
       "       PRECISION PRECISION_RECALL_MIN_DEN RECALL  MAP MAP_MIN_DEN  MRR NDCG  \\\n",
       "cutoff                                                                        \n",
       "10           0.0                      0.0    0.0  0.0         0.0  0.0  0.0   \n",
       "\n",
       "         F1 HIT_RATE ARHR_ALL_HITS  ... COVERAGE_USER COVERAGE_USER_HIT  \\\n",
       "cutoff                              ...                                   \n",
       "10      0.0      0.0           0.0  ...      0.985253               0.0   \n",
       "\n",
       "       USERS_IN_GT DIVERSITY_GINI SHANNON_ENTROPY RATIO_DIVERSITY_HERFINDAHL  \\\n",
       "cutoff                                                                         \n",
       "10        0.985253        0.25946       13.573524                   0.999895   \n",
       "\n",
       "       RATIO_DIVERSITY_GINI RATIO_SHANNON_ENTROPY RATIO_AVERAGE_POPULARITY  \\\n",
       "cutoff                                                                       \n",
       "10                 0.424386              0.919259                 1.269521   \n",
       "\n",
       "       RATIO_NOVELTY  \n",
       "cutoff                \n",
       "10          0.196495  \n",
       "\n",
       "[1 rows x 27 columns]"
      ]
     },
     "execution_count": 76,
     "metadata": {},
     "output_type": "execute_result"
    }
   ],
   "source": [
    "recommender_best_res"
   ]
  },
  {
   "cell_type": "code",
   "execution_count": 77,
   "id": "d067b63a-a944-4b28-98e7-29a139dfe535",
   "metadata": {},
   "outputs": [],
   "source": [
    "write_submission_lib_model(recommender_best, \"ensemble_SLIM_RP3beta_KNN_9.csv\")"
   ]
  },
  {
   "cell_type": "code",
   "execution_count": 72,
   "id": "09a1b834-8cbe-45c0-8949-bcba446d55c8",
   "metadata": {},
   "outputs": [
    {
     "name": "stdout",
     "output_type": "stream",
     "text": [
      "ItemKNNCustomSimilarityRecommender: Saving model in file 'result_experiments/ensemble_SLIM_RP3_KNNCFR/ensemble_weights_11_12_24'\n",
      "ItemKNNCustomSimilarityRecommender: Saving complete\n"
     ]
    }
   ],
   "source": [
    "recommender_best.save_model(\"result_experiments/ensemble_SLIM_RP3_KNNCFR/\", \"ensemble_weights_11_12_24\")"
   ]
  },
  {
   "cell_type": "code",
   "execution_count": 73,
   "id": "500ebeaa-078a-403b-8e1c-999a9b496d48",
   "metadata": {},
   "outputs": [
    {
     "name": "stdout",
     "output_type": "stream",
     "text": [
      "SLIMElasticNetRecommender: Saving model in file 'result_experiments/SLIM/slim_307_weights_all'\n",
      "SLIMElasticNetRecommender: Saving complete\n"
     ]
    }
   ],
   "source": [
    "SLIM_all.save_model(\"result_experiments/SLIM/\", \"slim_307_weights_all\")"
   ]
  },
  {
   "cell_type": "code",
   "execution_count": 74,
   "id": "819c59c2-bb58-49e8-9333-97ecb74231d7",
   "metadata": {},
   "outputs": [
    {
     "name": "stdout",
     "output_type": "stream",
     "text": [
      "RP3betaRecommender: Saving model in file 'result_experiments/RP3beta/rp3_beta_12_weights_all'\n",
      "RP3betaRecommender: Saving complete\n"
     ]
    }
   ],
   "source": [
    "RP3_beta_all.save_model(\"result_experiments/RP3beta/\", \"rp3_beta_12_weights_all\")"
   ]
  },
  {
   "cell_type": "code",
   "execution_count": 75,
   "id": "9c6f51fa-6f5d-4aa5-8ab6-29a7d3f62736",
   "metadata": {},
   "outputs": [
    {
     "name": "stdout",
     "output_type": "stream",
     "text": [
      "ItemKNNCFRecommender: Saving model in file 'result_experiments/ItemKNNCFRecommender/knn_4_weights_all'\n",
      "ItemKNNCFRecommender: Saving complete\n"
     ]
    }
   ],
   "source": [
    "KNN_all.save_model(\"result_experiments/ItemKNNCFRecommender/\", \"knn_4_weights_all\")"
   ]
  },
  {
   "cell_type": "code",
   "execution_count": null,
   "id": "2673b20b-f984-405d-b078-a8e753718433",
   "metadata": {},
   "outputs": [],
   "source": []
  }
 ],
 "metadata": {
  "kernelspec": {
   "display_name": "RecSys",
   "language": "python",
   "name": "recsys"
  },
  "language_info": {
   "codemirror_mode": {
    "name": "ipython",
    "version": 3
   },
   "file_extension": ".py",
   "mimetype": "text/x-python",
   "name": "python",
   "nbconvert_exporter": "python",
   "pygments_lexer": "ipython3",
   "version": "3.12.7"
  }
 },
 "nbformat": 4,
 "nbformat_minor": 5
}
