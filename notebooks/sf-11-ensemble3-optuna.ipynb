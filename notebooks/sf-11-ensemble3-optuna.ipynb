{
 "cells": [
  {
   "cell_type": "code",
   "execution_count": 1,
   "id": "75566b91-23f5-4fdc-9ad9-c76a6b7383a3",
   "metadata": {},
   "outputs": [],
   "source": [
    "from pathlib import Path\n",
    "import sys  \n",
    "import os\n",
    "import pandas as pd \n",
    "from datetime import datetime\n",
    "import scipy.sparse as sps\n",
    "from numpy import linalg as LA\n",
    "\n",
    "import numpy as np\n",
    "from operator import itemgetter"
   ]
  },
  {
   "cell_type": "code",
   "execution_count": 2,
   "id": "80604c25-c0ce-4050-a55c-7ad4390f0502",
   "metadata": {},
   "outputs": [],
   "source": [
    "sys.path.append(os.path.abspath(os.path.join(os.getcwd(), \"..\", \"libs\")))\n",
    "sys.path.append(os.path.abspath(os.path.join(os.getcwd(), \"..\")))\n",
    "sys.path.append(os.path.abspath(os.path.join(os.getcwd(), \"..\", \"src\")))"
   ]
  },
  {
   "cell_type": "code",
   "execution_count": 3,
   "id": "70affe32-5cda-4979-b30a-7bd7f3c2147d",
   "metadata": {},
   "outputs": [],
   "source": [
    "%load_ext autoreload\n",
    "%autoreload 2"
   ]
  },
  {
   "cell_type": "code",
   "execution_count": 4,
   "id": "e1890247-aa8a-4586-8f67-b0e1c1abce17",
   "metadata": {},
   "outputs": [],
   "source": [
    "from Utils.load_URM import load_URM\n",
    "from Utils.load_ICM import load_ICM\n",
    "\n",
    "from scipy.sparse import hstack, vstack\n",
    "from Evaluation.Evaluator import EvaluatorHoldout\n",
    "from Data_manager.split_functions.split_train_validation_random_holdout import split_train_in_two_percentage_global_sample\n",
    "\n",
    "URM_all = load_URM(\"../data/data_train.csv\")\n",
    "ICM_all = load_ICM(\"../data/data_ICM_metadata.csv\")"
   ]
  },
  {
   "cell_type": "code",
   "execution_count": 5,
   "id": "afb5e122-ce25-45b9-b2d1-480a1894ac36",
   "metadata": {},
   "outputs": [],
   "source": [
    "from libs.Recommenders.SLIM.SLIMElasticNetRecommender import SLIMElasticNetRecommender \n",
    "from libs.Recommenders.GraphBased.RP3betaRecommender import RP3betaRecommender\n",
    "from libs.Recommenders.KNN.ItemKNNCFRecommender import ItemKNNCFRecommender\n",
    "from libs.Recommenders.KNN.ItemKNNCustomSimilarityRecommender import ItemKNNCustomSimilarityRecommender"
   ]
  },
  {
   "cell_type": "code",
   "execution_count": 6,
   "id": "c1cbc0a6-0415-4a01-96fa-236835067caf",
   "metadata": {},
   "outputs": [],
   "source": [
    "import optuna as op"
   ]
  },
  {
   "cell_type": "code",
   "execution_count": 7,
   "id": "a770d918-4de6-4163-906f-a9bf18a9551c",
   "metadata": {},
   "outputs": [],
   "source": [
    "# URM_train = sps.load_npz('URM_train.npz')\n",
    "# URM_val = sps.load_npz('URM_val.npz')\n",
    "\n",
    "# URM_train_val, URM_test = split_train_in_two_percentage_global_sample(URM_all, train_percentage = 0.85)\n",
    "# URM_train, URM_val = split_train_in_two_percentage_global_sample(URM_train_val, train_percentage = 0.85)"
   ]
  },
  {
   "cell_type": "code",
   "execution_count": 8,
   "id": "63156ad4-61f1-4e44-9ce2-158938e872bb",
   "metadata": {},
   "outputs": [],
   "source": [
    "URM_train = sps.load_npz(\"URM_train_ens.npz\")\n",
    "URM_val = sps.load_npz(\"URM_val_ens.npz\")\n",
    "URM_test = sps.load_npz(\"URM_test_ens.npz\")\n",
    "\n",
    "URM_train_val = sps.load_npz(\"URM_train_val_ens.npz\")"
   ]
  },
  {
   "cell_type": "code",
   "execution_count": 9,
   "id": "f27af10e-7408-443f-a2a7-066b44ab03f2",
   "metadata": {},
   "outputs": [
    {
     "name": "stdout",
     "output_type": "stream",
     "text": [
      "Train size: 1274929, Val size: 224987, Test size: 264691\n"
     ]
    }
   ],
   "source": [
    "print(f\"Train size: {URM_train.getnnz()}, Val size: {URM_val.getnnz()}, Test size: {URM_test.getnnz()}\")"
   ]
  },
  {
   "cell_type": "code",
   "execution_count": 10,
   "id": "2c38d97a-e2b6-430e-b791-d89617d0ecbc",
   "metadata": {},
   "outputs": [
    {
     "name": "stdout",
     "output_type": "stream",
     "text": [
      "EvaluatorHoldout: Ignoring 1008 ( 2.8%) Users that have less than 1 test interactions\n",
      "EvaluatorHoldout: Ignoring 527 ( 1.5%) Users that have less than 1 test interactions\n"
     ]
    }
   ],
   "source": [
    "evaluator_val = EvaluatorHoldout(URM_val, cutoff_list=[10])\n",
    "evaluator_test = EvaluatorHoldout(URM_test, cutoff_list=[10])"
   ]
  },
  {
   "cell_type": "code",
   "execution_count": 17,
   "id": "fc2ba4ea-d74a-4711-b8bf-09be563412a0",
   "metadata": {},
   "outputs": [],
   "source": [
    "def AP(recommended_items, relevant_items):\n",
    "   \n",
    "    is_relevant = np.in1d(recommended_items, relevant_items, assume_unique=True)\n",
    "    \n",
    "    # Cumulative sum: precision at 1, at 2, at 3 ...\n",
    "    p_at_k = is_relevant * np.cumsum(is_relevant, dtype=np.float32) / (1 + np.arange(is_relevant.shape[0]))\n",
    "    ap_score = np.sum(p_at_k) / np.min([relevant_items.shape[0], is_relevant.shape[0]])\n",
    "\n",
    "    return ap_score\n",
    "\n",
    "def recall(recommended_items, relevant_items):\n",
    "\n",
    "    is_relevant = np.in1d(recommended_items, relevant_items, assume_unique=True)\n",
    "\n",
    "    recall_score = np.sum(is_relevant, dtype=np.float32) / relevant_items.shape[0]\n",
    "\n",
    "    return recall_score"
   ]
  },
  {
   "cell_type": "code",
   "execution_count": 12,
   "id": "a0c58da2-f2a6-447d-9095-770323c42fdf",
   "metadata": {},
   "outputs": [],
   "source": [
    "# We pass as paramether the recommender class\n",
    "\n",
    "def evaluate_algorithm(URM_test, recommender_object, at=10):\n",
    "    \n",
    "    #cumulative_precision = 0.0\n",
    "    cumulative_recall = 0.0\n",
    "    cumulative_AP = 0.0\n",
    "    \n",
    "    num_eval = 0\n",
    "\n",
    "\n",
    "    for user_id in range(URM_test.shape[0]):\n",
    "\n",
    "        relevant_items = URM_test.indices[URM_test.indptr[user_id]:URM_test.indptr[user_id+1]]\n",
    "        \n",
    "        if len(relevant_items)>0:\n",
    "            \n",
    "            recommended_items = recommender_object.recommend(user_id, cutoff=at)\n",
    "            num_eval+=1\n",
    "\n",
    "            #cumulative_precision += precision(recommended_items, relevant_items)\n",
    "            cumulative_recall += recall(recommended_items, relevant_items)\n",
    "            cumulative_AP += AP(recommended_items, relevant_items)\n",
    "            \n",
    "    #cumulative_precision /= num_eval\n",
    "    cumulative_recall /= num_eval\n",
    "    MAP = cumulative_AP / num_eval\n",
    "    \n",
    "    return MAP, cumulative_recall\n"
   ]
  },
  {
   "cell_type": "code",
   "execution_count": 13,
   "id": "fd60c2da-fb70-4d92-8f7f-cbdbcada2321",
   "metadata": {},
   "outputs": [
    {
     "name": "stdout",
     "output_type": "stream",
     "text": [
      "SLIMElasticNetRecommender: Loading model from file 'result_experiments/SLIM/slim_320_train_ens'\n",
      "SLIMElasticNetRecommender: Loading complete\n"
     ]
    }
   ],
   "source": [
    "slim_model_train = SLIMElasticNetRecommender(URM_train)\n",
    "#slim_model_train.fit(topK =320, l1_ratio=0.1527515113685262, alpha=0.00022576119312621578)\n",
    "slim_model_train.load_model('result_experiments/SLIM/', 'slim_320_train_ens')\n",
    "\n",
    "#slim_model_train.fit(l1_ratio=0.11006885790633625, alpha=0.0002551115306127753, topK = 307)\n",
    "\n",
    "#slim_model_train.load_model('result_experiments/SLIM/', 'slim_307_train_ens')\n",
    "# slim_model_all = SLIMElasticNetRecommender(URM_train)\n",
    "# slim_model_all.load_model('result_experiments/SLIM/', 'slim_300_2_weights')"
   ]
  },
  {
   "cell_type": "code",
   "execution_count": 27,
   "id": "e1cd57db-1f66-4855-8a1b-98ba4c52ad7f",
   "metadata": {},
   "outputs": [
    {
     "name": "stdout",
     "output_type": "stream",
     "text": [
      "SLIMElasticNetRecommender: Loading model from file 'result_experiments/SLIM/SLIM_ElasticRecall_eval'\n",
      "SLIMElasticNetRecommender: Loading complete\n"
     ]
    }
   ],
   "source": [
    "SLIM_ElasticRecall_eval = SLIMElasticNetRecommender(URM_train)\n",
    "#SLIM_ElasticRecall_eval.fit(topK= 296, l1_ratio=0.10442943478590742, alpha=0.00035921608889258387)\n",
    "SLIM_ElasticRecall_eval.load_model(\"result_experiments/SLIM/\", \"SLIM_ElasticRecall_eval\")"
   ]
  },
  {
   "cell_type": "code",
   "execution_count": 28,
   "id": "f21d7bcd-916e-4348-a81b-04f0e6009436",
   "metadata": {},
   "outputs": [
    {
     "name": "stdout",
     "output_type": "stream",
     "text": [
      "EvaluatorHoldout: Processed 34728 (100.0%) in 13.21 sec. Users per second: 2629\n"
     ]
    }
   ],
   "source": [
    "slim_recall_train_res, _ = evaluator_val.evaluateRecommender(SLIM_ElasticRecall_eval)"
   ]
  },
  {
   "cell_type": "code",
   "execution_count": 29,
   "id": "f1a1aa0c-c4ee-42a1-9d40-a5b041450017",
   "metadata": {},
   "outputs": [
    {
     "data": {
      "text/plain": [
       "(cutoff\n",
       " 10    0.030483\n",
       " Name: MAP, dtype: object,\n",
       " cutoff\n",
       " 10    0.128475\n",
       " Name: RECALL, dtype: object,\n",
       " cutoff\n",
       " 10    0.065403\n",
       " Name: PRECISION, dtype: object)"
      ]
     },
     "execution_count": 29,
     "metadata": {},
     "output_type": "execute_result"
    }
   ],
   "source": [
    "slim_recall_train_res[\"MAP\"], slim_recall_train_res[\"RECALL\"], slim_recall_train_res[\"PRECISION\"]"
   ]
  },
  {
   "cell_type": "code",
   "execution_count": 14,
   "id": "d9a95f2a-119c-432a-b21e-504dbdc4a3ad",
   "metadata": {},
   "outputs": [
    {
     "name": "stdout",
     "output_type": "stream",
     "text": [
      "EvaluatorHoldout: Processed 34728 (100.0%) in 13.28 sec. Users per second: 2615\n"
     ]
    }
   ],
   "source": [
    "slim_train_res, _ = evaluator_val.evaluateRecommender(slim_model_train)"
   ]
  },
  {
   "cell_type": "code",
   "execution_count": 15,
   "id": "784ca8c6-fdbe-4978-a5ca-c5fc943e461d",
   "metadata": {},
   "outputs": [
    {
     "data": {
      "text/plain": [
       "(cutoff\n",
       " 10    0.030645\n",
       " Name: MAP, dtype: object,\n",
       " cutoff\n",
       " 10    0.127663\n",
       " Name: RECALL, dtype: object,\n",
       " cutoff\n",
       " 10    0.065405\n",
       " Name: PRECISION, dtype: object)"
      ]
     },
     "execution_count": 15,
     "metadata": {},
     "output_type": "execute_result"
    }
   ],
   "source": [
    "slim_train_res[\"MAP\"], slim_train_res[\"RECALL\"], slim_train_res[\"PRECISION\"]"
   ]
  },
  {
   "cell_type": "code",
   "execution_count": 18,
   "id": "69cce39f-86d3-4543-a892-1194b5d1f858",
   "metadata": {},
   "outputs": [
    {
     "data": {
      "text/plain": [
       "(0.06301192406753578, 0.12766340864666403)"
      ]
     },
     "execution_count": 18,
     "metadata": {},
     "output_type": "execute_result"
    }
   ],
   "source": [
    "evaluate_algorithm(URM_val, slim_model_train)"
   ]
  },
  {
   "cell_type": "code",
   "execution_count": 19,
   "id": "27e021d3-ac4f-46d5-9345-7c31fd94f990",
   "metadata": {},
   "outputs": [
    {
     "name": "stdout",
     "output_type": "stream",
     "text": [
      "SLIMElasticNetRecommender: Loading model from file 'result_experiments/SLIM/slim_320_train_val_ens'\n",
      "SLIMElasticNetRecommender: Loading complete\n"
     ]
    }
   ],
   "source": [
    "slim_model_train_val = SLIMElasticNetRecommender(URM_train_val)\n",
    "#slim_model_train_val.fit(topK=320, l1_ratio=0.1527515113685262, alpha=0.00022576119312621578)\n",
    "slim_model_train_val.load_model('result_experiments/SLIM/', 'slim_320_train_val_ens')\n",
    "\n",
    "#slim_model_train_val.load_model('result_experiments/SLIM/', 'slim_307_train_val_ens')\n",
    "#slim_model_train_val.fit(l1_ratio=0.11006885790633625, alpha=0.0002551115306127753, topK = 307)"
   ]
  },
  {
   "cell_type": "code",
   "execution_count": 20,
   "id": "a63ef2cd-2338-4ff2-98f1-d25e86c490f6",
   "metadata": {},
   "outputs": [
    {
     "name": "stdout",
     "output_type": "stream",
     "text": [
      "EvaluatorHoldout: Processed 35209 (100.0%) in 14.48 sec. Users per second: 2432\n"
     ]
    }
   ],
   "source": [
    "slim_train_val_res, _ = evaluator_test.evaluateRecommender(slim_model_train_val)"
   ]
  },
  {
   "cell_type": "code",
   "execution_count": 21,
   "id": "a671e066-688c-4271-ac91-91d1d7ca53ac",
   "metadata": {},
   "outputs": [
    {
     "data": {
      "text/plain": [
       "(cutoff\n",
       " 10    0.047761\n",
       " Name: MAP, dtype: object,\n",
       " cutoff\n",
       " 10    0.148651\n",
       " Name: RECALL, dtype: object,\n",
       " cutoff\n",
       " 10    0.090886\n",
       " Name: PRECISION, dtype: object)"
      ]
     },
     "execution_count": 21,
     "metadata": {},
     "output_type": "execute_result"
    }
   ],
   "source": [
    "slim_train_val_res[\"MAP\"], slim_train_val_res[\"RECALL\"], slim_train_val_res[\"PRECISION\"]"
   ]
  },
  {
   "cell_type": "code",
   "execution_count": 22,
   "id": "1bbccc39-7b35-4d62-9823-76b7c715f2d8",
   "metadata": {},
   "outputs": [
    {
     "data": {
      "text/plain": [
       "(0.08371722317381694, 0.14865124595112233)"
      ]
     },
     "execution_count": 22,
     "metadata": {},
     "output_type": "execute_result"
    }
   ],
   "source": [
    "evaluate_algorithm(URM_test, slim_model_train_val)"
   ]
  },
  {
   "cell_type": "code",
   "execution_count": 23,
   "id": "1f174078-ecca-411f-9a40-44ab69c7470f",
   "metadata": {},
   "outputs": [
    {
     "name": "stdout",
     "output_type": "stream",
     "text": [
      "RP3betaRecommender: Loading model from file 'result_experiments/RP3beta/rp3_beta_19_weights_train_ens'\n",
      "RP3betaRecommender: Loading complete\n",
      "RP3betaRecommender: Loading model from file 'result_experiments/RP3beta/rp3_beta_19_weights_train_val_ens'\n",
      "RP3betaRecommender: Loading complete\n"
     ]
    }
   ],
   "source": [
    "rp3_beta_train = RP3betaRecommender(URM_train)\n",
    "#rp3_beta_train.load_model('result_experiments/RP3beta/', 'rp3_beta_12_weights_train_ens')\n",
    "#rp3_beta_train.fit(alpha=0.34989902568351894, beta=0.1817338725671425, topK=12, min_rating=0.0, implicit=False, normalize_similarity=True)\n",
    "\n",
    "#rp3_beta_train.fit(alpha=0.4176290154380183, beta=0.21520987912346945, topK=19, min_rating=0.0, implicit=False, normalize_similarity=True)\n",
    "rp3_beta_train.load_model('result_experiments/RP3beta/', 'rp3_beta_19_weights_train_ens')\n",
    "\n",
    "rp3_beta_train_val = RP3betaRecommender(URM_train_val)\n",
    "#rp3_beta_train_val.load_model('result_experiments/RP3beta/', 'rp3_beta_12_weights_train_val_ens')\n",
    "\n",
    "#rp3_beta_train_val.fit(alpha=0.4176290154380183, beta=0.21520987912346945, topK=19, min_rating=0.0, implicit=False, normalize_similarity=True)\n",
    "rp3_beta_train_val.load_model('result_experiments/RP3beta/', 'rp3_beta_19_weights_train_val_ens')\n"
   ]
  },
  {
   "cell_type": "code",
   "execution_count": 24,
   "id": "b5621d0e-d71c-4761-8e17-d3dede57fe8e",
   "metadata": {},
   "outputs": [
    {
     "data": {
      "text/plain": [
       "((0.058588907885092474, 0.12086354687120603),\n",
       " (0.07551240567510359, 0.13757912073177564))"
      ]
     },
     "execution_count": 24,
     "metadata": {},
     "output_type": "execute_result"
    }
   ],
   "source": [
    "evaluate_algorithm(URM_val, rp3_beta_train), evaluate_algorithm(URM_test, rp3_beta_train_val)"
   ]
  },
  {
   "cell_type": "code",
   "execution_count": 25,
   "id": "ab3fa75f-ad1f-4373-85d7-32e81eb026b7",
   "metadata": {},
   "outputs": [
    {
     "name": "stdout",
     "output_type": "stream",
     "text": [
      "EvaluatorHoldout: Processed 34728 (100.0%) in 8.90 sec. Users per second: 3903\n",
      "EvaluatorHoldout: Processed 35209 (100.0%) in 9.13 sec. Users per second: 3857\n"
     ]
    }
   ],
   "source": [
    "rp3_beta_train_res, _ = evaluator_val.evaluateRecommender(rp3_beta_train)\n",
    "rp3_beta_train_val_res, _ = evaluator_test.evaluateRecommender(rp3_beta_train_val)"
   ]
  },
  {
   "cell_type": "code",
   "execution_count": 26,
   "id": "5b73157c-4aa9-4b5f-9c5d-034906717215",
   "metadata": {},
   "outputs": [
    {
     "data": {
      "text/plain": [
       "(cutoff\n",
       " 10    0.02844\n",
       " Name: MAP, dtype: object,\n",
       " cutoff\n",
       " 10    0.120864\n",
       " Name: RECALL, dtype: object,\n",
       " cutoff\n",
       " 10    0.042595\n",
       " Name: MAP, dtype: object,\n",
       " cutoff\n",
       " 10    0.137579\n",
       " Name: RECALL, dtype: object)"
      ]
     },
     "execution_count": 26,
     "metadata": {},
     "output_type": "execute_result"
    }
   ],
   "source": [
    "rp3_beta_train_res[\"MAP\"], rp3_beta_train_res[\"RECALL\"], rp3_beta_train_val_res[\"MAP\"], rp3_beta_train_val_res[\"RECALL\"]"
   ]
  },
  {
   "cell_type": "code",
   "execution_count": 26,
   "id": "f456dd00-6e21-46c8-9b7d-3e7f26f6cb35",
   "metadata": {},
   "outputs": [
    {
     "name": "stdout",
     "output_type": "stream",
     "text": [
      "Similarity column 38121 (100.0%), 4877.97 column/sec. Elapsed time 7.81 sec\n",
      "Similarity column 38121 (100.0%), 4532.06 column/sec. Elapsed time 8.41 sec\n"
     ]
    }
   ],
   "source": [
    "# similarity='jaccard', topK=5, shrink=12, normalize=False\n",
    "\n",
    "knn_train = ItemKNNCFRecommender(URM_train)\n",
    "knn_train.fit(\n",
    "    similarity='tversky', \n",
    "    topK = 6,\n",
    "    shrink= 21.589349496863413,\n",
    "    feature_weighting= 'TF-IDF',\n",
    "    normalize= False,\n",
    "    tversky_alpha= 0.16725184866550824,\n",
    "    tversky_beta= 1.722012798691049\n",
    ")\n",
    "\n",
    "#knn_train.load_model(\"result_experiments/ItemKNNCFRecommender/\", \"knn_4_train_ens.zip\")\n",
    "# knn_train.fit(similarity='tversky', topK=4, shrink=18,\n",
    "#                   feature_weighting='none', tversky_alpha=0.1263621,\n",
    "#                   tversky_beta=1.72181042,\n",
    "#                   normalize=False)\n",
    "\n",
    "knn_train_val = ItemKNNCFRecommender(URM_train_val)\n",
    "knn_train_val.fit(\n",
    "    similarity='tversky', \n",
    "    topK = 6,\n",
    "    shrink= 21.589349496863413,\n",
    "    feature_weighting= 'TF-IDF',\n",
    "    normalize= False,\n",
    "    tversky_alpha= 0.16725184866550824,\n",
    "    tversky_beta= 1.722012798691049\n",
    ")\n",
    "#knn_train_val.load_model(\"result_experiments/ItemKNNCFRecommender/\", \"knn_4_train_val_ens.zip\")\n",
    "# knn_train_val.fit(similarity='tversky', topK=4, shrink=18,\n",
    "#                   feature_weighting='none', tversky_alpha=0.1263621,\n",
    "#                   tversky_beta=1.72181042,\n",
    "#                   normalize=False)"
   ]
  },
  {
   "cell_type": "code",
   "execution_count": 27,
   "id": "5bb55a26-dc2c-47fa-95b0-080009b55fb4",
   "metadata": {},
   "outputs": [
    {
     "data": {
      "text/plain": [
       "(0.058090943997984236, 0.0747781539320609)"
      ]
     },
     "execution_count": 27,
     "metadata": {},
     "output_type": "execute_result"
    }
   ],
   "source": [
    "evaluate_algorithm(URM_val, knn_train), evaluate_algorithm(URM_test, knn_train_val)"
   ]
  },
  {
   "cell_type": "code",
   "execution_count": 28,
   "id": "78e97b86-5dc0-45c0-a862-9ab540f04994",
   "metadata": {},
   "outputs": [
    {
     "name": "stdout",
     "output_type": "stream",
     "text": [
      "EvaluatorHoldout: Processed 34728 (100.0%) in 8.91 sec. Users per second: 3898\n",
      "EvaluatorHoldout: Processed 35209 (100.0%) in 9.26 sec. Users per second: 3804\n"
     ]
    }
   ],
   "source": [
    "knn_train_res, _ = evaluator_val.evaluateRecommender(knn_train)\n",
    "knn_train_val_res, _ = evaluator_test.evaluateRecommender(knn_train_val)"
   ]
  },
  {
   "cell_type": "code",
   "execution_count": 29,
   "id": "62b6e56a-ac98-42c0-a7be-8ddb51593dc0",
   "metadata": {},
   "outputs": [
    {
     "data": {
      "text/plain": [
       "(cutoff\n",
       " 10    0.02813\n",
       " Name: MAP, dtype: object,\n",
       " cutoff\n",
       " 10    0.118551\n",
       " Name: RECALL, dtype: object,\n",
       " cutoff\n",
       " 10    0.04233\n",
       " Name: MAP, dtype: object,\n",
       " cutoff\n",
       " 10    0.135404\n",
       " Name: RECALL, dtype: object)"
      ]
     },
     "execution_count": 29,
     "metadata": {},
     "output_type": "execute_result"
    }
   ],
   "source": [
    "knn_train_res[\"MAP\"], knn_train_res[\"RECALL\"], knn_train_val_res[\"MAP\"], knn_train_val_res[\"RECALL\"]"
   ]
  },
  {
   "cell_type": "markdown",
   "id": "021f7fc2-5d55-4c4c-b061-5033b6a38500",
   "metadata": {},
   "source": [
    "# Optuna"
   ]
  },
  {
   "cell_type": "code",
   "execution_count": 30,
   "id": "d65b69fd-3332-4451-acd2-ac20184407f8",
   "metadata": {},
   "outputs": [],
   "source": [
    "results_dict={\n",
    "    'Iteration':[],\n",
    "    'SLIM_w':[],\n",
    "    'RP3b_w':[],\n",
    "    'ItemKNN_w':[],\n",
    "    'MAP_val':[],\n",
    "    'MAP_test':[],\n",
    "}"
   ]
  },
  {
   "cell_type": "code",
   "execution_count": 31,
   "id": "b4a93ed4-6da1-45cf-b714-5af4d33174d5",
   "metadata": {},
   "outputs": [],
   "source": [
    "new_best_on_test={\n",
    "    'SLIM_w':0,\n",
    "    'RP3b_w':0,\n",
    "    'ItemKNN_w':0,\n",
    "    'MAP_test':0\n",
    "}"
   ]
  },
  {
   "cell_type": "code",
   "execution_count": 32,
   "id": "8087e497-1e8e-4516-87a3-29b39e9631e7",
   "metadata": {},
   "outputs": [],
   "source": [
    "improving_treshold=0.70 "
   ]
  },
  {
   "cell_type": "code",
   "execution_count": 33,
   "id": "fb05b902-540d-4a95-9704-288337553aec",
   "metadata": {},
   "outputs": [],
   "source": [
    "import optuna as op\n",
    "\n",
    "best_on_val = 0.03\n",
    "\n",
    "def objective_function_weight_hybrid(trial):\n",
    "    results_dict['Iteration'].append(trial.number)\n",
    "    n = 3\n",
    "    x = []\n",
    "    for i in range(n):\n",
    "        x.append(- np.log(trial.suggest_float(f\"x_{i}\", 0, 1)))\n",
    "    weights = []\n",
    "    for i in range(n):\n",
    "        weights.append(x[i] / sum(x))\n",
    "        if i==0:\n",
    "            key='SLIM_w'\n",
    "        elif i==1:\n",
    "            key='RP3b_w'\n",
    "        else:\n",
    "            key='ItemKNN_w'\n",
    "        results_dict[key].append(weights[i])\n",
    "\n",
    "    for i in range(n):\n",
    "        trial.set_user_attr(f\"weights_{i}\",weights[i])\n",
    "        \n",
    "    #PRINT WEIGHTS CHOSEN ###################################################\n",
    "    print(\"__________Iteration \" + str(trial.number) + \"______________\")\n",
    "    print(\"SLIM weight: \"+str(weights[0]))\n",
    "    print(\"RP3b weight: \"+str(weights[1]))\n",
    "    print(\"ItemKNN weight: \"+str(weights[2]))##\n",
    "    \n",
    "    #BUILD HYBRID ###########################################################\n",
    "    new_similarity_train = weights[0] * slim_model_train.W_sparse + weights[1] * rp3_beta_train.W_sparse + weights[2] * knn_train.W_sparse\n",
    "    recommender_object_train = ItemKNNCustomSimilarityRecommender(URM_train)\n",
    "    recommender_object_train.fit(new_similarity_train)\n",
    "    res_on_val, _ = evaluator_val.evaluateRecommender(recommender_object_train)\n",
    "    results_dict['MAP_val'].append(res_on_val['MAP'][10])\n",
    "\n",
    "    #print(\"VAL\", res_on_val['MAP'][10], best_on_val * improving_treshold)\n",
    "    if res_on_val['MAP'][10] >= best_on_val * improving_treshold:\n",
    "        new_similarity_train_val = weights[0] * slim_model_train_val.W_sparse + weights[1] * rp3_beta_train_val.W_sparse + weights[2] * knn_train_val.W_sparse\n",
    "        recommender_object_train_val = ItemKNNCustomSimilarityRecommender(URM_train_val)\n",
    "        recommender_object_train_val.fit(new_similarity_train_val)\n",
    "        res_on_test, _ = evaluator_test.evaluateRecommender(recommender_object_train_val)\n",
    "        results_dict['MAP_test'].append(res_on_test[\"MAP\"][10])\n",
    "\n",
    "        #print(\"Test\", res_on_test[\"MAP\"][10], new_best_on_test['MAP_test'])\n",
    "        if res_on_test[\"MAP\"][10] > new_best_on_test['MAP_test']:\n",
    "            new_best_on_test['SLIM_w']=weights[0]\n",
    "            new_best_on_test['RP3b_w']=weights[1]\n",
    "            new_best_on_test['ItemKNN_w']=weights[2]\n",
    "            new_best_on_test['MAP_test']=res_on_test[\"MAP\"][10]\n",
    "            print(\"New best on test found! Score is \"+ str(res_on_test[\"MAP\"][10]))\n",
    "            print(f\"weights: SLIM_w: {weights[0]}, RP3b_w: {weights[1]}, ItemKNN_w: {weights[2]}\")\n",
    "            \n",
    "        \n",
    "        \n",
    "    else:\n",
    "         results_dict['MAP_test'].append(0.0)\n",
    "    return res_on_val['MAP'][10]"
   ]
  },
  {
   "cell_type": "code",
   "execution_count": 34,
   "id": "26e62f82-f6af-48a9-816b-a22ff6bb722f",
   "metadata": {
    "scrolled": true
   },
   "outputs": [
    {
     "name": "stderr",
     "output_type": "stream",
     "text": [
      "[I 2024-12-27 01:07:26,998] A new study created in memory with name: no-name-d29ea8de-e660-4063-8ab5-08e4a5cf9d77\n"
     ]
    },
    {
     "name": "stdout",
     "output_type": "stream",
     "text": [
      "__________Iteration 0______________\n",
      "SLIM weight: 0.008681939735686655\n",
      "RP3b weight: 0.0057793576347350524\n",
      "ItemKNN weight: 0.9855387026295783\n",
      "EvaluatorHoldout: Processed 34728 (100.0%) in 13.18 sec. Users per second: 2635\n",
      "EvaluatorHoldout: Processed 35209 (100.0%) in 14.35 sec. Users per second: 2454\n"
     ]
    },
    {
     "name": "stderr",
     "output_type": "stream",
     "text": [
      "[I 2024-12-27 01:07:54,642] Trial 0 finished with value: 0.02817954406672374 and parameters: {'x_0': 0.9862799545135115, 'x_1': 0.9908458216601674, 'x_2': 0.20841438528577194}. Best is trial 0 with value: 0.02817954406672374.\n"
     ]
    },
    {
     "name": "stdout",
     "output_type": "stream",
     "text": [
      "New best on test found! Score is 0.04243987152454994\n",
      "weights: SLIM_w: 0.008681939735686655, RP3b_w: 0.0057793576347350524, ItemKNN_w: 0.9855387026295783\n",
      "__________Iteration 1______________\n",
      "SLIM weight: 0.45714239921586314\n",
      "RP3b weight: 0.08279925818436454\n",
      "ItemKNN weight: 0.4600583425997722\n",
      "EvaluatorHoldout: Processed 34728 (100.0%) in 13.33 sec. Users per second: 2604\n",
      "EvaluatorHoldout: Processed 35209 (100.0%) in 14.50 sec. Users per second: 2428\n"
     ]
    },
    {
     "name": "stderr",
     "output_type": "stream",
     "text": [
      "[I 2024-12-27 01:08:22,567] Trial 1 finished with value: 0.030270789226386118 and parameters: {'x_0': 0.3854972696330816, 'x_1': 0.8414313827156279, 'x_2': 0.3831604621807765}. Best is trial 1 with value: 0.030270789226386118.\n"
     ]
    },
    {
     "name": "stdout",
     "output_type": "stream",
     "text": [
      "New best on test found! Score is 0.046176567183623424\n",
      "weights: SLIM_w: 0.45714239921586314, RP3b_w: 0.08279925818436454, ItemKNN_w: 0.4600583425997722\n",
      "__________Iteration 2______________\n",
      "SLIM weight: 0.3652225967580089\n",
      "RP3b weight: 0.26076594344308496\n",
      "ItemKNN weight: 0.3740114597989061\n",
      "EvaluatorHoldout: Processed 34728 (100.0%) in 13.49 sec. Users per second: 2573\n",
      "EvaluatorHoldout: Processed 35209 (100.0%) in 14.49 sec. Users per second: 2430\n"
     ]
    },
    {
     "name": "stderr",
     "output_type": "stream",
     "text": [
      "[I 2024-12-27 01:08:50,642] Trial 2 finished with value: 0.030481190786994936 and parameters: {'x_0': 0.3020636131139989, 'x_1': 0.4253970991271745, 'x_2': 0.2934859347247185}. Best is trial 2 with value: 0.030481190786994936.\n"
     ]
    },
    {
     "name": "stdout",
     "output_type": "stream",
     "text": [
      "New best on test found! Score is 0.046472415061623605\n",
      "weights: SLIM_w: 0.3652225967580089, RP3b_w: 0.26076594344308496, ItemKNN_w: 0.3740114597989061\n",
      "__________Iteration 3______________\n",
      "SLIM weight: 0.03026119004814753\n",
      "RP3b weight: 0.4464084345731719\n",
      "ItemKNN weight: 0.5233303753786805\n",
      "EvaluatorHoldout: Processed 34728 (100.0%) in 13.39 sec. Users per second: 2594\n",
      "EvaluatorHoldout: Processed 35209 (100.0%) in 14.36 sec. Users per second: 2453\n"
     ]
    },
    {
     "name": "stderr",
     "output_type": "stream",
     "text": [
      "[I 2024-12-27 01:09:18,478] Trial 3 finished with value: 0.029577991365093266 and parameters: {'x_0': 0.874515503841346, 'x_1': 0.13834494231019734, 'x_2': 0.09838755365638774}. Best is trial 2 with value: 0.030481190786994936.\n"
     ]
    },
    {
     "name": "stdout",
     "output_type": "stream",
     "text": [
      "__________Iteration 4______________\n",
      "SLIM weight: 0.9553504443511524\n",
      "RP3b weight: 0.020200462760469273\n",
      "ItemKNN weight: 0.02444909288837836\n",
      "EvaluatorHoldout: Processed 34728 (100.0%) in 13.25 sec. Users per second: 2621\n",
      "EvaluatorHoldout: Processed 35209 (100.0%) in 14.16 sec. Users per second: 2486\n"
     ]
    },
    {
     "name": "stderr",
     "output_type": "stream",
     "text": [
      "[I 2024-12-27 01:09:45,983] Trial 4 finished with value: 0.030695613392787622 and parameters: {'x_0': 0.12535588982763302, 'x_1': 0.9570412772884205, 'x_2': 0.9482436493091937}. Best is trial 4 with value: 0.030695613392787622.\n"
     ]
    },
    {
     "name": "stdout",
     "output_type": "stream",
     "text": [
      "New best on test found! Score is 0.04781450968299336\n",
      "weights: SLIM_w: 0.9553504443511524, RP3b_w: 0.020200462760469273, ItemKNN_w: 0.02444909288837836\n",
      "__________Iteration 5______________\n",
      "SLIM weight: 0.2966702759636952\n",
      "RP3b weight: 0.07207902611742796\n",
      "ItemKNN weight: 0.6312506979188769\n",
      "EvaluatorHoldout: Processed 34728 (100.0%) in 13.10 sec. Users per second: 2651\n",
      "EvaluatorHoldout: Processed 35209 (100.0%) in 13.94 sec. Users per second: 2526\n"
     ]
    },
    {
     "name": "stderr",
     "output_type": "stream",
     "text": [
      "[I 2024-12-27 01:10:13,116] Trial 5 finished with value: 0.029655325925193852 and parameters: {'x_0': 0.5012610659607473, 'x_1': 0.8455270906159676, 'x_2': 0.23003847784074127}. Best is trial 4 with value: 0.030695613392787622.\n"
     ]
    },
    {
     "name": "stdout",
     "output_type": "stream",
     "text": [
      "__________Iteration 6______________\n",
      "SLIM weight: 0.654636146865378\n",
      "RP3b weight: 0.07522452504207475\n",
      "ItemKNN weight: 0.2701393280925475\n",
      "EvaluatorHoldout: Processed 34728 (100.0%) in 13.18 sec. Users per second: 2634\n",
      "EvaluatorHoldout: Processed 35209 (100.0%) in 14.18 sec. Users per second: 2483\n"
     ]
    },
    {
     "name": "stderr",
     "output_type": "stream",
     "text": [
      "[I 2024-12-27 01:10:40,572] Trial 6 finished with value: 0.030647296861229946 and parameters: {'x_0': 0.45890477487949943, 'x_1': 0.9143835276869415, 'x_2': 0.7251166840835429}. Best is trial 4 with value: 0.030695613392787622.\n"
     ]
    },
    {
     "name": "stdout",
     "output_type": "stream",
     "text": [
      "__________Iteration 7______________\n",
      "SLIM weight: 0.35997550183441707\n",
      "RP3b weight: 0.44508805926820877\n",
      "ItemKNN weight: 0.19493643889737414\n",
      "EvaluatorHoldout: Processed 34728 (100.0%) in 13.06 sec. Users per second: 2659\n",
      "EvaluatorHoldout: Processed 35209 (100.0%) in 14.10 sec. Users per second: 2497\n"
     ]
    },
    {
     "name": "stderr",
     "output_type": "stream",
     "text": [
      "[I 2024-12-27 01:11:07,823] Trial 7 finished with value: 0.030768722370310937 and parameters: {'x_0': 0.3775499161945238, 'x_1': 0.2998846657582296, 'x_2': 0.5900926719003591}. Best is trial 7 with value: 0.030768722370310937.\n"
     ]
    },
    {
     "name": "stdout",
     "output_type": "stream",
     "text": [
      "__________Iteration 8______________\n",
      "SLIM weight: 0.45982615349924283\n",
      "RP3b weight: 0.30893608547417356\n",
      "ItemKNN weight: 0.23123776102658364\n",
      "EvaluatorHoldout: Processed 34728 (100.0%) in 13.15 sec. Users per second: 2641\n",
      "EvaluatorHoldout: Processed 35209 (100.0%) in 14.15 sec. Users per second: 2487\n"
     ]
    },
    {
     "name": "stderr",
     "output_type": "stream",
     "text": [
      "[I 2024-12-27 01:11:35,222] Trial 8 finished with value: 0.030843778452407516 and parameters: {'x_0': 0.3405738430181223, 'x_1': 0.48496928986722854, 'x_2': 0.5817789745974833}. Best is trial 8 with value: 0.030843778452407516.\n"
     ]
    },
    {
     "name": "stdout",
     "output_type": "stream",
     "text": [
      "__________Iteration 9______________\n",
      "SLIM weight: 0.30977123926731903\n",
      "RP3b weight: 0.6722016860936935\n",
      "ItemKNN weight: 0.018027074638987596\n",
      "EvaluatorHoldout: Processed 34728 (100.0%) in 13.21 sec. Users per second: 2629\n",
      "EvaluatorHoldout: Processed 35209 (100.0%) in 14.12 sec. Users per second: 2494\n"
     ]
    },
    {
     "name": "stderr",
     "output_type": "stream",
     "text": [
      "[I 2024-12-27 01:12:02,642] Trial 9 finished with value: 0.03031212863322324 and parameters: {'x_0': 0.5106008189901898, 'x_1': 0.2325619518694888, 'x_2': 0.9616385442309435}. Best is trial 8 with value: 0.030843778452407516.\n"
     ]
    },
    {
     "name": "stdout",
     "output_type": "stream",
     "text": [
      "__________Iteration 10______________\n",
      "SLIM weight: 0.8719273562862894\n",
      "RP3b weight: 0.06887298020564074\n",
      "ItemKNN weight: 0.059199663508069905\n",
      "EvaluatorHoldout: Processed 34728 (100.0%) in 13.13 sec. Users per second: 2644\n",
      "EvaluatorHoldout: Processed 35209 (100.0%) in 14.10 sec. Users per second: 2496\n"
     ]
    },
    {
     "name": "stderr",
     "output_type": "stream",
     "text": [
      "[I 2024-12-27 01:12:29,980] Trial 10 finished with value: 0.0308159990748959 and parameters: {'x_0': 0.003094121304999975, 'x_1': 0.6335474696370835, 'x_2': 0.6754910271413113}. Best is trial 8 with value: 0.030843778452407516.\n"
     ]
    },
    {
     "name": "stdout",
     "output_type": "stream",
     "text": [
      "New best on test found! Score is 0.047876088680426844\n",
      "weights: SLIM_w: 0.8719273562862894, RP3b_w: 0.06887298020564074, ItemKNN_w: 0.059199663508069905\n",
      "__________Iteration 11______________\n",
      "SLIM weight: 0.8397894333605097\n",
      "RP3b weight: 0.08335036660091036\n",
      "ItemKNN weight: 0.07686020003857984\n",
      "EvaluatorHoldout: Processed 34728 (100.0%) in 13.26 sec. Users per second: 2618\n",
      "EvaluatorHoldout: Processed 35209 (100.0%) in 14.25 sec. Users per second: 2471\n"
     ]
    },
    {
     "name": "stderr",
     "output_type": "stream",
     "text": [
      "[I 2024-12-27 01:12:57,592] Trial 11 finished with value: 0.03087731801428155 and parameters: {'x_0': 0.011829183773651436, 'x_1': 0.6437805599074902, 'x_2': 0.666239982455541}. Best is trial 11 with value: 0.03087731801428155.\n"
     ]
    },
    {
     "name": "stdout",
     "output_type": "stream",
     "text": [
      "__________Iteration 12______________\n",
      "SLIM weight: 0.6025056403758382\n",
      "RP3b weight: 0.15280922229121777\n",
      "ItemKNN weight: 0.24468513733294406\n",
      "EvaluatorHoldout: Processed 34728 (100.0%) in 13.09 sec. Users per second: 2653\n",
      "EvaluatorHoldout: Processed 35209 (100.0%) in 14.20 sec. Users per second: 2480\n"
     ]
    },
    {
     "name": "stderr",
     "output_type": "stream",
     "text": [
      "[I 2024-12-27 01:13:24,978] Trial 12 finished with value: 0.030824781613481435 and parameters: {'x_0': 0.17310338178202167, 'x_1': 0.6409392269690858, 'x_2': 0.4905307992826869}. Best is trial 11 with value: 0.03087731801428155.\n"
     ]
    },
    {
     "name": "stdout",
     "output_type": "stream",
     "text": [
      "__________Iteration 13______________\n",
      "SLIM weight: 0.26961124070002673\n",
      "RP3b weight: 0.5533825814431228\n",
      "ItemKNN weight: 0.17700617785685044\n",
      "EvaluatorHoldout: Processed 34728 (100.0%) in 12.87 sec. Users per second: 2699\n",
      "EvaluatorHoldout: Processed 35209 (100.0%) in 14.11 sec. Users per second: 2496\n"
     ]
    },
    {
     "name": "stderr",
     "output_type": "stream",
     "text": [
      "[I 2024-12-27 01:13:52,048] Trial 13 finished with value: 0.030603444729653317 and parameters: {'x_0': 0.7197667276006305, 'x_1': 0.5091938889578933, 'x_2': 0.8058292100294713}. Best is trial 11 with value: 0.03087731801428155.\n"
     ]
    },
    {
     "name": "stdout",
     "output_type": "stream",
     "text": [
      "__________Iteration 14______________\n",
      "SLIM weight: 0.5690945929494912\n",
      "RP3b weight: 0.14591778244799458\n",
      "ItemKNN weight: 0.2849876246025143\n",
      "EvaluatorHoldout: Processed 34728 (100.0%) in 13.05 sec. Users per second: 2662\n",
      "EvaluatorHoldout: Processed 35209 (100.0%) in 14.14 sec. Users per second: 2490\n"
     ]
    },
    {
     "name": "stderr",
     "output_type": "stream",
     "text": [
      "[I 2024-12-27 01:14:19,331] Trial 14 finished with value: 0.030740559056686306 and parameters: {'x_0': 0.21634075975072647, 'x_1': 0.675347380494303, 'x_2': 0.4645738375311788}. Best is trial 11 with value: 0.03087731801428155.\n"
     ]
    },
    {
     "name": "stdout",
     "output_type": "stream",
     "text": [
      "__________Iteration 15______________\n",
      "SLIM weight: 0.7290419650753196\n",
      "RP3b weight: 0.1635026025805358\n",
      "ItemKNN weight: 0.10745543234414458\n",
      "EvaluatorHoldout: Processed 34728 (100.0%) in 13.15 sec. Users per second: 2642\n",
      "EvaluatorHoldout: Processed 35209 (100.0%) in 14.21 sec. Users per second: 2478\n"
     ]
    },
    {
     "name": "stderr",
     "output_type": "stream",
     "text": [
      "[I 2024-12-27 01:14:46,781] Trial 15 finished with value: 0.031002408056441395 and parameters: {'x_0': 0.029593834408996766, 'x_1': 0.45408331549063313, 'x_2': 0.5952046131441028}. Best is trial 15 with value: 0.031002408056441395.\n"
     ]
    },
    {
     "name": "stdout",
     "output_type": "stream",
     "text": [
      "__________Iteration 16______________\n",
      "SLIM weight: 0.7469869264167551\n",
      "RP3b weight: 0.2115369446517116\n",
      "ItemKNN weight: 0.04147612893153325\n",
      "EvaluatorHoldout: Processed 34728 (100.0%) in 13.12 sec. Users per second: 2647\n",
      "EvaluatorHoldout: Processed 35209 (100.0%) in 14.06 sec. Users per second: 2505\n"
     ]
    },
    {
     "name": "stderr",
     "output_type": "stream",
     "text": [
      "[I 2024-12-27 01:15:14,055] Trial 16 finished with value: 0.031001576194863073 and parameters: {'x_0': 0.02712874966471912, 'x_1': 0.36005410508369606, 'x_2': 0.8184965625812227}. Best is trial 15 with value: 0.031002408056441395.\n"
     ]
    },
    {
     "name": "stdout",
     "output_type": "stream",
     "text": [
      "New best on test found! Score is 0.04797549959042605\n",
      "weights: SLIM_w: 0.7469869264167551, RP3b_w: 0.2115369446517116, ItemKNN_w: 0.04147612893153325\n",
      "__________Iteration 17______________\n",
      "SLIM weight: 0.27387103925706013\n",
      "RP3b weight: 0.6243231296114394\n",
      "ItemKNN weight: 0.10180583113150038\n",
      "EvaluatorHoldout: Processed 34728 (100.0%) in 13.26 sec. Users per second: 2620\n",
      "EvaluatorHoldout: Processed 35209 (100.0%) in 14.14 sec. Users per second: 2490\n"
     ]
    },
    {
     "name": "stderr",
     "output_type": "stream",
     "text": [
      "[I 2024-12-27 01:15:41,548] Trial 17 finished with value: 0.030447950603875843 and parameters: {'x_0': 0.6259629988095863, 'x_1': 0.34372201364115956, 'x_2': 0.8401778352720993}. Best is trial 15 with value: 0.031002408056441395.\n"
     ]
    },
    {
     "name": "stdout",
     "output_type": "stream",
     "text": [
      "__________Iteration 18______________\n",
      "SLIM weight: 0.40780368924146776\n",
      "RP3b weight: 0.5630913122872999\n",
      "ItemKNN weight: 0.029104998471232293\n",
      "EvaluatorHoldout: Processed 34728 (100.0%) in 13.16 sec. Users per second: 2639\n",
      "EvaluatorHoldout: Processed 35209 (100.0%) in 14.10 sec. Users per second: 2497\n"
     ]
    },
    {
     "name": "stderr",
     "output_type": "stream",
     "text": [
      "[I 2024-12-27 01:16:08,903] Trial 18 finished with value: 0.03076823559416767 and parameters: {'x_0': 0.1118998824586471, 'x_1': 0.04859967154528111, 'x_2': 0.8552928786810627}. Best is trial 15 with value: 0.031002408056441395.\n"
     ]
    },
    {
     "name": "stdout",
     "output_type": "stream",
     "text": [
      "__________Iteration 19______________\n",
      "SLIM weight: 0.4493189075342026\n",
      "RP3b weight: 0.46807059318775573\n",
      "ItemKNN weight: 0.08261049927804161\n",
      "EvaluatorHoldout: Processed 34728 (100.0%) in 13.14 sec. Users per second: 2644\n",
      "EvaluatorHoldout: Processed 35209 (100.0%) in 14.19 sec. Users per second: 2482\n"
     ]
    },
    {
     "name": "stderr",
     "output_type": "stream",
     "text": [
      "[I 2024-12-27 01:16:36,320] Trial 19 finished with value: 0.030924802684260875 and parameters: {'x_0': 0.24530018382736618, 'x_1': 0.23132777587825837, 'x_2': 0.7723098661874273}. Best is trial 15 with value: 0.031002408056441395.\n"
     ]
    },
    {
     "name": "stdout",
     "output_type": "stream",
     "text": [
      "__________Iteration 20______________\n",
      "SLIM weight: 0.6446202058120566\n",
      "RP3b weight: 0.22930092909873084\n",
      "ItemKNN weight: 0.12607886508921262\n",
      "EvaluatorHoldout: Processed 34728 (100.0%) in 13.07 sec. Users per second: 2656\n",
      "EvaluatorHoldout: Processed 35209 (100.0%) in 14.31 sec. Users per second: 2460\n"
     ]
    },
    {
     "name": "stderr",
     "output_type": "stream",
     "text": [
      "[I 2024-12-27 01:17:03,807] Trial 20 finished with value: 0.03099247256684961 and parameters: {'x_0': 0.06689485719255626, 'x_1': 0.3820980698670073, 'x_2': 0.5892002727479901}. Best is trial 15 with value: 0.031002408056441395.\n"
     ]
    },
    {
     "name": "stdout",
     "output_type": "stream",
     "text": [
      "__________Iteration 21______________\n",
      "SLIM weight: 0.6316014937898248\n",
      "RP3b weight: 0.23566522496663894\n",
      "ItemKNN weight: 0.1327332812435363\n",
      "EvaluatorHoldout: Processed 34728 (100.0%) in 13.12 sec. Users per second: 2647\n",
      "EvaluatorHoldout: Processed 35209 (100.0%) in 14.20 sec. Users per second: 2479\n"
     ]
    },
    {
     "name": "stderr",
     "output_type": "stream",
     "text": [
      "[I 2024-12-27 01:17:31,230] Trial 21 finished with value: 0.030995741737145397 and parameters: {'x_0': 0.07846362344353214, 'x_1': 0.38687888369018286, 'x_2': 0.5857477889533501}. Best is trial 15 with value: 0.031002408056441395.\n"
     ]
    },
    {
     "name": "stdout",
     "output_type": "stream",
     "text": [
      "__________Iteration 22______________\n",
      "SLIM weight: 0.619316396129529\n",
      "RP3b weight: 0.15656997107586063\n",
      "ItemKNN weight: 0.22411363279461044\n",
      "EvaluatorHoldout: Processed 34728 (100.0%) in 13.06 sec. Users per second: 2658\n",
      "EvaluatorHoldout: Processed 35209 (100.0%) in 14.16 sec. Users per second: 2486\n"
     ]
    },
    {
     "name": "stderr",
     "output_type": "stream",
     "text": [
      "[I 2024-12-27 01:17:58,556] Trial 22 finished with value: 0.030847916049625595 and parameters: {'x_0': 0.07752654163370294, 'x_1': 0.5238909486188918, 'x_2': 0.39638985957461564}. Best is trial 15 with value: 0.031002408056441395.\n"
     ]
    },
    {
     "name": "stdout",
     "output_type": "stream",
     "text": [
      "__________Iteration 23______________\n",
      "SLIM weight: 0.49044461993180505\n",
      "RP3b weight: 0.38329312888511685\n",
      "ItemKNN weight: 0.1262622511830781\n",
      "EvaluatorHoldout: Processed 34728 (100.0%) in 13.02 sec. Users per second: 2667\n",
      "EvaluatorHoldout: Processed 35209 (100.0%) in 14.01 sec. Users per second: 2514\n"
     ]
    },
    {
     "name": "stderr",
     "output_type": "stream",
     "text": [
      "[I 2024-12-27 01:18:25,680] Trial 23 finished with value: 0.030990397483571998 and parameters: {'x_0': 0.2038024318108718, 'x_1': 0.2884908902511326, 'x_2': 0.6639873049385863}. Best is trial 15 with value: 0.031002408056441395.\n"
     ]
    },
    {
     "name": "stdout",
     "output_type": "stream",
     "text": [
      "__________Iteration 24______________\n",
      "SLIM weight: 0.6884740088759054\n",
      "RP3b weight: 0.2956642643501703\n",
      "ItemKNN weight: 0.015861726773924275\n",
      "EvaluatorHoldout: Processed 34728 (100.0%) in 13.15 sec. Users per second: 2640\n",
      "EvaluatorHoldout: Processed 35209 (100.0%) in 14.24 sec. Users per second: 2473\n"
     ]
    },
    {
     "name": "stderr",
     "output_type": "stream",
     "text": [
      "[I 2024-12-27 01:18:53,170] Trial 24 finished with value: 0.031061829025934868 and parameters: {'x_0': 0.012229261558567243, 'x_1': 0.15088168558505965, 'x_2': 0.903515663537037}. Best is trial 24 with value: 0.031061829025934868.\n"
     ]
    },
    {
     "name": "stdout",
     "output_type": "stream",
     "text": [
      "New best on test found! Score is 0.047987208582580404\n",
      "weights: SLIM_w: 0.6884740088759054, RP3b_w: 0.2956642643501703, ItemKNN_w: 0.015861726773924275\n",
      "__________Iteration 25______________\n",
      "SLIM weight: 0.5435802937542038\n",
      "RP3b weight: 0.4558273889735567\n",
      "ItemKNN weight: 0.0005923172722395187\n",
      "EvaluatorHoldout: Processed 34728 (100.0%) in 13.09 sec. Users per second: 2653\n",
      "EvaluatorHoldout: Processed 35209 (100.0%) in 14.03 sec. Users per second: 2509\n"
     ]
    },
    {
     "name": "stderr",
     "output_type": "stream",
     "text": [
      "[I 2024-12-27 01:19:20,390] Trial 25 finished with value: 0.030921206711202333 and parameters: {'x_0': 0.006298437427320218, 'x_1': 0.014272950190667127, 'x_2': 0.9944934195146959}. Best is trial 24 with value: 0.031061829025934868.\n"
     ]
    },
    {
     "name": "stdout",
     "output_type": "stream",
     "text": [
      "__________Iteration 26______________\n",
      "SLIM weight: 0.4443615461999263\n",
      "RP3b weight: 0.5313600483572417\n",
      "ItemKNN weight: 0.02427840544283204\n",
      "EvaluatorHoldout: Processed 34728 (100.0%) in 13.02 sec. Users per second: 2666\n",
      "EvaluatorHoldout: Processed 35209 (100.0%) in 14.34 sec. Users per second: 2456\n"
     ]
    },
    {
     "name": "stderr",
     "output_type": "stream",
     "text": [
      "[I 2024-12-27 01:19:47,841] Trial 26 finished with value: 0.030786969619682886 and parameters: {'x_0': 0.1499547570297669, 'x_1': 0.10342538614644059, 'x_2': 0.9015239465747384}. Best is trial 24 with value: 0.031061829025934868.\n"
     ]
    },
    {
     "name": "stdout",
     "output_type": "stream",
     "text": [
      "__________Iteration 27______________\n",
      "SLIM weight: 0.3790279451359558\n",
      "RP3b weight: 0.5248093524531237\n",
      "ItemKNN weight: 0.0961627024109205\n",
      "EvaluatorHoldout: Processed 34728 (100.0%) in 13.05 sec. Users per second: 2660\n",
      "EvaluatorHoldout: Processed 35209 (100.0%) in 14.23 sec. Users per second: 2475\n"
     ]
    },
    {
     "name": "stderr",
     "output_type": "stream",
     "text": [
      "[I 2024-12-27 01:20:15,215] Trial 27 finished with value: 0.030748323478972175 and parameters: {'x_0': 0.3082102029530368, 'x_1': 0.19599625890996075, 'x_2': 0.741849860391773}. Best is trial 24 with value: 0.031061829025934868.\n"
     ]
    },
    {
     "name": "stdout",
     "output_type": "stream",
     "text": [
      "__________Iteration 28______________\n",
      "SLIM weight: 0.6609126560147183\n",
      "RP3b weight: 0.2839811196689979\n",
      "ItemKNN weight: 0.05510622431628374\n",
      "EvaluatorHoldout: Processed 34728 (100.0%) in 13.01 sec. Users per second: 2669\n",
      "EvaluatorHoldout: Processed 35209 (100.0%) in 14.04 sec. Users per second: 2508\n"
     ]
    },
    {
     "name": "stderr",
     "output_type": "stream",
     "text": [
      "[I 2024-12-27 01:20:42,358] Trial 28 finished with value: 0.031078644513551898 and parameters: {'x_0': 0.2676742250436125, 'x_1': 0.5676149652999579, 'x_2': 0.8959306977004888}. Best is trial 28 with value: 0.031078644513551898.\n"
     ]
    },
    {
     "name": "stdout",
     "output_type": "stream",
     "text": [
      "__________Iteration 29______________\n",
      "SLIM weight: 0.7659045926903386\n",
      "RP3b weight: 0.174870190142599\n",
      "ItemKNN weight: 0.05922521716706227\n",
      "EvaluatorHoldout: Processed 34728 (100.0%) in 12.99 sec. Users per second: 2673\n",
      "EvaluatorHoldout: Processed 35209 (100.0%) in 13.98 sec. Users per second: 2518\n"
     ]
    },
    {
     "name": "stderr",
     "output_type": "stream",
     "text": [
      "[I 2024-12-27 01:21:09,425] Trial 29 finished with value: 0.0309754765378461 and parameters: {'x_0': 0.24856899958312906, 'x_1': 0.7277284536545624, 'x_2': 0.8979489323928701}. Best is trial 28 with value: 0.031078644513551898.\n"
     ]
    },
    {
     "name": "stdout",
     "output_type": "stream",
     "text": [
      "__________Iteration 30______________\n",
      "SLIM weight: 0.14384585589161333\n",
      "RP3b weight: 0.15065841398234758\n",
      "ItemKNN weight: 0.7054957301260392\n",
      "EvaluatorHoldout: Processed 34728 (100.0%) in 13.10 sec. Users per second: 2650\n",
      "EvaluatorHoldout: Processed 35209 (100.0%) in 14.10 sec. Users per second: 2498\n"
     ]
    },
    {
     "name": "stderr",
     "output_type": "stream",
     "text": [
      "[I 2024-12-27 01:21:36,717] Trial 30 finished with value: 0.029305566982224873 and parameters: {'x_0': 0.5954356609464826, 'x_1': 0.580993121284035, 'x_2': 0.07864509478667836}. Best is trial 28 with value: 0.031078644513551898.\n"
     ]
    },
    {
     "name": "stdout",
     "output_type": "stream",
     "text": [
      "__________Iteration 31______________\n",
      "SLIM weight: 0.7298297429023238\n",
      "RP3b weight: 0.23205048665032912\n",
      "ItemKNN weight: 0.03811977044734713\n",
      "EvaluatorHoldout: Processed 34728 (100.0%) in 13.08 sec. Users per second: 2656\n",
      "EvaluatorHoldout: Processed 35209 (100.0%) in 14.08 sec. Users per second: 2501\n"
     ]
    },
    {
     "name": "stderr",
     "output_type": "stream",
     "text": [
      "[I 2024-12-27 01:22:03,972] Trial 31 finished with value: 0.031027363903788237 and parameters: {'x_0': 0.0805829478650053, 'x_1': 0.44899171926756, 'x_2': 0.8767422514507611}. Best is trial 28 with value: 0.031078644513551898.\n"
     ]
    },
    {
     "name": "stdout",
     "output_type": "stream",
     "text": [
      "New best on test found! Score is 0.04801891156076011\n",
      "weights: SLIM_w: 0.7298297429023238, RP3b_w: 0.23205048665032912, ItemKNN_w: 0.03811977044734713\n",
      "__________Iteration 32______________\n",
      "SLIM weight: 0.8117091879535592\n",
      "RP3b weight: 0.13276611228040733\n",
      "ItemKNN weight: 0.05552469976603361\n",
      "EvaluatorHoldout: Processed 34728 (100.0%) in 13.03 sec. Users per second: 2665\n",
      "EvaluatorHoldout: Processed 35209 (100.0%) in 14.12 sec. Users per second: 2493\n"
     ]
    },
    {
     "name": "stderr",
     "output_type": "stream",
     "text": [
      "[I 2024-12-27 01:22:31,214] Trial 32 finished with value: 0.03092345776519841 and parameters: {'x_0': 0.16230607967945365, 'x_1': 0.7427445618958771, 'x_2': 0.883045763192184}. Best is trial 28 with value: 0.031078644513551898.\n"
     ]
    },
    {
     "name": "stdout",
     "output_type": "stream",
     "text": [
      "__________Iteration 33______________\n",
      "SLIM weight: 0.7534552456738296\n",
      "RP3b weight: 0.23042275394327472\n",
      "ItemKNN weight: 0.016122000382895744\n",
      "EvaluatorHoldout: Processed 34728 (100.0%) in 13.02 sec. Users per second: 2666\n",
      "EvaluatorHoldout: Processed 35209 (100.0%) in 14.19 sec. Users per second: 2480\n"
     ]
    },
    {
     "name": "stderr",
     "output_type": "stream",
     "text": [
      "[I 2024-12-27 01:22:58,529] Trial 33 finished with value: 0.030993606092516633 and parameters: {'x_0': 0.09491016214894621, 'x_1': 0.48667643859106197, 'x_2': 0.9508612033919361}. Best is trial 28 with value: 0.031078644513551898.\n"
     ]
    },
    {
     "name": "stdout",
     "output_type": "stream",
     "text": [
      "New best on test found! Score is 0.04802994995417217\n",
      "weights: SLIM_w: 0.7534552456738296, RP3b_w: 0.23042275394327472, ItemKNN_w: 0.016122000382895744\n",
      "__________Iteration 34______________\n",
      "SLIM weight: 0.6203259823986877\n",
      "RP3b weight: 0.37905490638412537\n",
      "ItemKNN weight: 0.0006191112171869339\n",
      "EvaluatorHoldout: Processed 34728 (100.0%) in 13.07 sec. Users per second: 2656\n",
      "EvaluatorHoldout: Processed 35209 (100.0%) in 14.09 sec. Users per second: 2500\n"
     ]
    },
    {
     "name": "stderr",
     "output_type": "stream",
     "text": [
      "[I 2024-12-27 01:23:25,778] Trial 34 finished with value: 0.030950985755969197 and parameters: {'x_0': 0.2523973951132017, 'x_1': 0.4311609442318526, 'x_2': 0.9986268891596307}. Best is trial 28 with value: 0.031078644513551898.\n"
     ]
    },
    {
     "name": "stdout",
     "output_type": "stream",
     "text": [
      "__________Iteration 35______________\n",
      "SLIM weight: 0.6367046851233736\n",
      "RP3b weight: 0.11999996413732533\n",
      "ItemKNN weight: 0.24329535073930103\n",
      "EvaluatorHoldout: Processed 34728 (100.0%) in 13.08 sec. Users per second: 2655\n",
      "EvaluatorHoldout: Processed 35209 (100.0%) in 14.25 sec. Users per second: 2471\n"
     ]
    },
    {
     "name": "stderr",
     "output_type": "stream",
     "text": [
      "[I 2024-12-27 01:23:53,200] Trial 35 finished with value: 0.030750974466419306 and parameters: {'x_0': 0.0570862040234051, 'x_1': 0.5829656630730358, 'x_2': 0.3348498205091529}. Best is trial 28 with value: 0.031078644513551898.\n"
     ]
    },
    {
     "name": "stdout",
     "output_type": "stream",
     "text": [
      "__________Iteration 36______________\n",
      "SLIM weight: 0.2811657110982995\n",
      "RP3b weight: 0.11174662670009752\n",
      "ItemKNN weight: 0.6070876622016029\n",
      "EvaluatorHoldout: Processed 34728 (100.0%) in 13.07 sec. Users per second: 2656\n",
      "EvaluatorHoldout: Processed 35209 (100.0%) in 14.06 sec. Users per second: 2504\n"
     ]
    },
    {
     "name": "stderr",
     "output_type": "stream",
     "text": [
      "[I 2024-12-27 01:24:20,427] Trial 36 finished with value: 0.02973876461242491 and parameters: {'x_0': 0.13667210772705543, 'x_1': 0.4534028310031065, 'x_2': 0.013607440441210095}. Best is trial 28 with value: 0.031078644513551898.\n"
     ]
    },
    {
     "name": "stdout",
     "output_type": "stream",
     "text": [
      "__________Iteration 37______________\n",
      "SLIM weight: 0.4814042062247703\n",
      "RP3b weight: 0.3375339680265077\n",
      "ItemKNN weight: 0.18106182574872184\n",
      "EvaluatorHoldout: Processed 34728 (100.0%) in 13.01 sec. Users per second: 2670\n",
      "EvaluatorHoldout: Processed 35209 (100.0%) in 14.12 sec. Users per second: 2494\n"
     ]
    },
    {
     "name": "stderr",
     "output_type": "stream",
     "text": [
      "[I 2024-12-27 01:24:47,643] Trial 37 finished with value: 0.030945759197097293 and parameters: {'x_0': 0.43381064704895533, 'x_1': 0.556794571173138, 'x_2': 0.7304396007188472}. Best is trial 28 with value: 0.031078644513551898.\n"
     ]
    },
    {
     "name": "stdout",
     "output_type": "stream",
     "text": [
      "__________Iteration 38______________\n",
      "SLIM weight: 0.12773522742779744\n",
      "RP3b weight: 0.6954709494613112\n",
      "ItemKNN weight: 0.1767938231108913\n",
      "EvaluatorHoldout: Processed 34728 (100.0%) in 13.02 sec. Users per second: 2668\n",
      "EvaluatorHoldout: Processed 35209 (100.0%) in 13.99 sec. Users per second: 2516\n"
     ]
    },
    {
     "name": "stderr",
     "output_type": "stream",
     "text": [
      "[I 2024-12-27 01:25:14,740] Trial 38 finished with value: 0.0300523535740787 and parameters: {'x_0': 0.9439752145927567, 'x_1': 0.7305832397659737, 'x_2': 0.9233021305898165}. Best is trial 28 with value: 0.031078644513551898.\n"
     ]
    },
    {
     "name": "stdout",
     "output_type": "stream",
     "text": [
      "__________Iteration 39______________\n",
      "SLIM weight: 0.272265980456385\n",
      "RP3b weight: 0.4105133505860187\n",
      "ItemKNN weight: 0.3172206689575962\n",
      "EvaluatorHoldout: Processed 34728 (100.0%) in 13.00 sec. Users per second: 2671\n",
      "EvaluatorHoldout: Processed 35209 (100.0%) in 14.01 sec. Users per second: 2513\n"
     ]
    },
    {
     "name": "stderr",
     "output_type": "stream",
     "text": [
      "[I 2024-12-27 01:25:41,841] Trial 39 finished with value: 0.030553986673759508 and parameters: {'x_0': 0.29384885116021303, 'x_1': 0.15778129647565275, 'x_2': 0.24005142311779182}. Best is trial 28 with value: 0.031078644513551898.\n"
     ]
    },
    {
     "name": "stdout",
     "output_type": "stream",
     "text": [
      "__________Iteration 40______________\n",
      "SLIM weight: 0.7864631178494286\n",
      "RP3b weight: 0.09925969068985828\n",
      "ItemKNN weight: 0.11427719146071315\n",
      "EvaluatorHoldout: Processed 34728 (100.0%) in 13.08 sec. Users per second: 2655\n",
      "EvaluatorHoldout: Processed 35209 (100.0%) in 14.17 sec. Users per second: 2485\n"
     ]
    },
    {
     "name": "stderr",
     "output_type": "stream",
     "text": [
      "[I 2024-12-27 01:26:09,193] Trial 40 finished with value: 0.030883262168031497 and parameters: {'x_0': 0.1963244962414714, 'x_1': 0.8142657135593413, 'x_2': 0.789342537337829}. Best is trial 28 with value: 0.031078644513551898.\n"
     ]
    },
    {
     "name": "stdout",
     "output_type": "stream",
     "text": [
      "__________Iteration 41______________\n",
      "SLIM weight: 0.6976764172292241\n",
      "RP3b weight: 0.26253691318257144\n",
      "ItemKNN weight: 0.03978666958820443\n",
      "EvaluatorHoldout: Processed 34728 (100.0%) in 13.10 sec. Users per second: 2651\n",
      "EvaluatorHoldout: Processed 35209 (100.0%) in 14.11 sec. Users per second: 2496\n"
     ]
    },
    {
     "name": "stderr",
     "output_type": "stream",
     "text": [
      "[I 2024-12-27 01:26:36,492] Trial 41 finished with value: 0.031082859812126246 and parameters: {'x_0': 0.0438374479444404, 'x_1': 0.30826476404414993, 'x_2': 0.8366580065729514}. Best is trial 41 with value: 0.031082859812126246.\n"
     ]
    },
    {
     "name": "stdout",
     "output_type": "stream",
     "text": [
      "__________Iteration 42______________\n",
      "SLIM weight: 0.6216924014843165\n",
      "RP3b weight: 0.33698462422260633\n",
      "ItemKNN weight: 0.04132297429307728\n",
      "EvaluatorHoldout: Processed 34728 (100.0%) in 13.03 sec. Users per second: 2665\n",
      "EvaluatorHoldout: Processed 35209 (100.0%) in 14.03 sec. Users per second: 2510\n"
     ]
    },
    {
     "name": "stderr",
     "output_type": "stream",
     "text": [
      "[I 2024-12-27 01:27:03,640] Trial 42 finished with value: 0.031042684782965412 and parameters: {'x_0': 0.11092909970132425, 'x_1': 0.3036495590886099, 'x_2': 0.8640235626462818}. Best is trial 41 with value: 0.031082859812126246.\n"
     ]
    },
    {
     "name": "stdout",
     "output_type": "stream",
     "text": [
      "__________Iteration 43______________\n",
      "SLIM weight: 0.5911167913908804\n",
      "RP3b weight: 0.3627485510237083\n",
      "ItemKNN weight: 0.0461346575854113\n",
      "EvaluatorHoldout: Processed 34728 (100.0%) in 13.13 sec. Users per second: 2645\n",
      "EvaluatorHoldout: Processed 35209 (100.0%) in 14.01 sec. Users per second: 2514\n"
     ]
    },
    {
     "name": "stderr",
     "output_type": "stream",
     "text": [
      "[I 2024-12-27 01:27:30,861] Trial 43 finished with value: 0.03100581091877636 and parameters: {'x_0': 0.12987762339800768, 'x_1': 0.28576283704660577, 'x_2': 0.8527355443653906}. Best is trial 41 with value: 0.031082859812126246.\n"
     ]
    },
    {
     "name": "stdout",
     "output_type": "stream",
     "text": [
      "__________Iteration 44______________\n",
      "SLIM weight: 0.6583268027153792\n",
      "RP3b weight: 0.31646689973378195\n",
      "ItemKNN weight: 0.02520629755083871\n",
      "EvaluatorHoldout: Processed 34728 (100.0%) in 13.18 sec. Users per second: 2634\n",
      "EvaluatorHoldout: Processed 35209 (100.0%) in 14.12 sec. Users per second: 2494\n"
     ]
    },
    {
     "name": "stderr",
     "output_type": "stream",
     "text": [
      "[I 2024-12-27 01:27:58,250] Trial 44 finished with value: 0.03104384344730648 and parameters: {'x_0': 0.10001195227409679, 'x_1': 0.33060618035002837, 'x_2': 0.9156163951943597}. Best is trial 41 with value: 0.031082859812126246.\n"
     ]
    },
    {
     "name": "stdout",
     "output_type": "stream",
     "text": [
      "__________Iteration 45______________\n",
      "SLIM weight: 0.2869543418761814\n",
      "RP3b weight: 0.6978890377924273\n",
      "ItemKNN weight: 0.015156620331391283\n",
      "EvaluatorHoldout: Processed 34728 (100.0%) in 13.04 sec. Users per second: 2663\n",
      "EvaluatorHoldout: Processed 35209 (100.0%) in 14.09 sec. Users per second: 2499\n"
     ]
    },
    {
     "name": "stderr",
     "output_type": "stream",
     "text": [
      "[I 2024-12-27 01:28:25,475] Trial 45 finished with value: 0.030202164074182976 and parameters: {'x_0': 0.4005648455655869, 'x_1': 0.10806325995238558, 'x_2': 0.9528260134392902}. Best is trial 41 with value: 0.031082859812126246.\n"
     ]
    },
    {
     "name": "stdout",
     "output_type": "stream",
     "text": [
      "__________Iteration 46______________\n",
      "SLIM weight: 0.40187397593931107\n",
      "RP3b weight: 0.5026053172687873\n",
      "ItemKNN weight: 0.09552070679190149\n",
      "EvaluatorHoldout: Processed 34728 (100.0%) in 13.07 sec. Users per second: 2656\n",
      "EvaluatorHoldout: Processed 35209 (100.0%) in 14.05 sec. Users per second: 2506\n"
     ]
    },
    {
     "name": "stderr",
     "output_type": "stream",
     "text": [
      "[I 2024-12-27 01:28:52,692] Trial 46 finished with value: 0.030822859647582298 and parameters: {'x_0': 0.33182145793832846, 'x_1': 0.2516617600087823, 'x_2': 0.7693512069218456}. Best is trial 41 with value: 0.031082859812126246.\n"
     ]
    },
    {
     "name": "stdout",
     "output_type": "stream",
     "text": [
      "__________Iteration 47______________\n",
      "SLIM weight: 0.7207241447073944\n",
      "RP3b weight: 0.2609526696677681\n",
      "ItemKNN weight: 0.018323185624837566\n",
      "EvaluatorHoldout: Processed 34728 (100.0%) in 13.10 sec. Users per second: 2652\n",
      "EvaluatorHoldout: Processed 35209 (100.0%) in 14.03 sec. Users per second: 2510\n"
     ]
    },
    {
     "name": "stderr",
     "output_type": "stream",
     "text": [
      "[I 2024-12-27 01:29:19,905] Trial 47 finished with value: 0.03105173927629776 and parameters: {'x_0': 0.04355557468769472, 'x_1': 0.32154252773860703, 'x_2': 0.9234215423444104}. Best is trial 41 with value: 0.031082859812126246.\n"
     ]
    },
    {
     "name": "stdout",
     "output_type": "stream",
     "text": [
      "__________Iteration 48______________\n",
      "SLIM weight: 0.6535480495781433\n",
      "RP3b weight: 0.3322206137135765\n",
      "ItemKNN weight: 0.014231336708280177\n",
      "EvaluatorHoldout: Processed 34728 (100.0%) in 13.14 sec. Users per second: 2642\n",
      "EvaluatorHoldout: Processed 35209 (100.0%) in 14.07 sec. Users per second: 2502\n"
     ]
    },
    {
     "name": "stderr",
     "output_type": "stream",
     "text": [
      "[I 2024-12-27 01:29:47,208] Trial 48 finished with value: 0.031017758644960477 and parameters: {'x_0': 0.03159632703067383, 'x_1': 0.1727087959209197, 'x_2': 0.9275318555488596}. Best is trial 41 with value: 0.031082859812126246.\n"
     ]
    },
    {
     "name": "stdout",
     "output_type": "stream",
     "text": [
      "__________Iteration 49______________\n",
      "SLIM weight: 0.5318070547202992\n",
      "RP3b weight: 0.35272745365886155\n",
      "ItemKNN weight: 0.11546549162083915\n",
      "EvaluatorHoldout: Processed 34728 (100.0%) in 13.03 sec. Users per second: 2666\n",
      "EvaluatorHoldout: Processed 35209 (100.0%) in 14.08 sec. Users per second: 2500\n"
     ]
    },
    {
     "name": "stderr",
     "output_type": "stream",
     "text": [
      "[I 2024-12-27 01:30:14,406] Trial 49 finished with value: 0.031014556892017892 and parameters: {'x_0': 0.19236157165506668, 'x_1': 0.33510647944322186, 'x_2': 0.6991468139685078}. Best is trial 41 with value: 0.031082859812126246.\n"
     ]
    },
    {
     "name": "stdout",
     "output_type": "stream",
     "text": [
      "__________Iteration 50______________\n",
      "SLIM weight: 0.12724435279120902\n",
      "RP3b weight: 0.8569683227248182\n",
      "ItemKNN weight: 0.01578732448397269\n",
      "EvaluatorHoldout: Processed 34728 (100.0%) in 12.97 sec. Users per second: 2677\n",
      "EvaluatorHoldout: Processed 35209 (100.0%) in 14.05 sec. Users per second: 2506\n"
     ]
    },
    {
     "name": "stderr",
     "output_type": "stream",
     "text": [
      "[I 2024-12-27 01:30:41,517] Trial 50 finished with value: 0.029370502462675113 and parameters: {'x_0': 0.8097938838038894, 'x_1': 0.24150066480010418, 'x_2': 0.9741636910676633}. Best is trial 41 with value: 0.031082859812126246.\n"
     ]
    },
    {
     "name": "stdout",
     "output_type": "stream",
     "text": [
      "__________Iteration 51______________\n",
      "SLIM weight: 0.668231134296469\n",
      "RP3b weight: 0.27136298454388963\n",
      "ItemKNN weight: 0.06040588115964143\n",
      "EvaluatorHoldout: Processed 34728 (100.0%) in 13.03 sec. Users per second: 2664\n",
      "EvaluatorHoldout: Processed 35209 (100.0%) in 14.02 sec. Users per second: 2512\n"
     ]
    },
    {
     "name": "stderr",
     "output_type": "stream",
     "text": [
      "[I 2024-12-27 01:31:08,657] Trial 51 finished with value: 0.03107446120965362 and parameters: {'x_0': 0.10696308085029652, 'x_1': 0.40344109919836807, 'x_2': 0.8170449693546831}. Best is trial 41 with value: 0.031082859812126246.\n"
     ]
    },
    {
     "name": "stdout",
     "output_type": "stream",
     "text": [
      "__________Iteration 52______________\n",
      "SLIM weight: 0.7434907181440569\n",
      "RP3b weight: 0.21083530490822636\n",
      "ItemKNN weight: 0.045673976947716875\n",
      "EvaluatorHoldout: Processed 34728 (100.0%) in 13.10 sec. Users per second: 2650\n",
      "EvaluatorHoldout: Processed 35209 (100.0%) in 14.09 sec. Users per second: 2499\n"
     ]
    },
    {
     "name": "stderr",
     "output_type": "stream",
     "text": [
      "[I 2024-12-27 01:31:35,941] Trial 52 finished with value: 0.031009894810645405 and parameters: {'x_0': 0.03818058834211257, 'x_1': 0.3961376892473113, 'x_2': 0.8182387292947265}. Best is trial 41 with value: 0.031082859812126246.\n"
     ]
    },
    {
     "name": "stdout",
     "output_type": "stream",
     "text": [
      "__________Iteration 53______________\n",
      "SLIM weight: 0.8029246115240852\n",
      "RP3b weight: 0.1832627816552143\n",
      "ItemKNN weight: 0.013812606820700448\n",
      "EvaluatorHoldout: Processed 34728 (100.0%) in 13.04 sec. Users per second: 2663\n",
      "EvaluatorHoldout: Processed 35209 (100.0%) in 14.05 sec. Users per second: 2506\n"
     ]
    },
    {
     "name": "stderr",
     "output_type": "stream",
     "text": [
      "[I 2024-12-27 01:32:03,118] Trial 53 finished with value: 0.030929343642931192 and parameters: {'x_0': 0.006888890768845704, 'x_1': 0.3210483158546359, 'x_2': 0.9179308497184243}. Best is trial 41 with value: 0.031082859812126246.\n"
     ]
    },
    {
     "name": "stdout",
     "output_type": "stream",
     "text": [
      "__________Iteration 54______________\n",
      "SLIM weight: 0.5216037375867885\n",
      "RP3b weight: 0.4304175644607872\n",
      "ItemKNN weight: 0.04797869795242428\n",
      "EvaluatorHoldout: Processed 34728 (100.0%) in 13.11 sec. Users per second: 2648\n",
      "EvaluatorHoldout: Processed 35209 (100.0%) in 14.10 sec. Users per second: 2497\n"
     ]
    },
    {
     "name": "stderr",
     "output_type": "stream",
     "text": [
      "[I 2024-12-27 01:32:30,425] Trial 54 finished with value: 0.03095150338412158 and parameters: {'x_0': 0.1482322379908368, 'x_1': 0.20695576437810476, 'x_2': 0.8389590925763818}. Best is trial 41 with value: 0.031082859812126246.\n"
     ]
    },
    {
     "name": "stdout",
     "output_type": "stream",
     "text": [
      "__________Iteration 55______________\n",
      "SLIM weight: 0.6591825679503173\n",
      "RP3b weight: 0.2713027278350123\n",
      "ItemKNN weight: 0.06951470421467035\n",
      "EvaluatorHoldout: Processed 34728 (100.0%) in 13.00 sec. Users per second: 2671\n",
      "EvaluatorHoldout: Processed 35209 (100.0%) in 14.00 sec. Users per second: 2514\n"
     ]
    },
    {
     "name": "stderr",
     "output_type": "stream",
     "text": [
      "[I 2024-12-27 01:32:57,526] Trial 55 finished with value: 0.031070685837875534 and parameters: {'x_0': 0.10832030136577532, 'x_1': 0.4006002396853572, 'x_2': 0.7910509202274184}. Best is trial 41 with value: 0.031082859812126246.\n"
     ]
    },
    {
     "name": "stdout",
     "output_type": "stream",
     "text": [
      "__________Iteration 56______________\n",
      "SLIM weight: 0.6903369803670731\n",
      "RP3b weight: 0.20610287138780506\n",
      "ItemKNN weight: 0.10356014824512184\n",
      "EvaluatorHoldout: Processed 34728 (100.0%) in 13.06 sec. Users per second: 2660\n",
      "EvaluatorHoldout: Processed 35209 (100.0%) in 14.04 sec. Users per second: 2507\n"
     ]
    },
    {
     "name": "stderr",
     "output_type": "stream",
     "text": [
      "[I 2024-12-27 01:33:24,719] Trial 56 finished with value: 0.031032244234558436 and parameters: {'x_0': 0.0524313381693254, 'x_1': 0.4146949490002421, 'x_2': 0.642570573858246}. Best is trial 41 with value: 0.031082859812126246.\n"
     ]
    },
    {
     "name": "stdout",
     "output_type": "stream",
     "text": [
      "__________Iteration 57______________\n",
      "SLIM weight: 0.6141491019846073\n",
      "RP3b weight: 0.2708626218440091\n",
      "ItemKNN weight: 0.11498827617138366\n",
      "EvaluatorHoldout: Processed 34728 (100.0%) in 13.04 sec. Users per second: 2663\n",
      "EvaluatorHoldout: Processed 35209 (100.0%) in 14.07 sec. Users per second: 2503\n"
     ]
    },
    {
     "name": "stderr",
     "output_type": "stream",
     "text": [
      "[I 2024-12-27 01:33:51,916] Trial 57 finished with value: 0.03105203522705148 and parameters: {'x_0': 0.2332658689709103, 'x_1': 0.5262581568711586, 'x_2': 0.7614503780643964}. Best is trial 41 with value: 0.031082859812126246.\n"
     ]
    },
    {
     "name": "stdout",
     "output_type": "stream",
     "text": [
      "__________Iteration 58______________\n",
      "SLIM weight: 0.5326383010804536\n",
      "RP3b weight: 0.245766991457369\n",
      "ItemKNN weight: 0.22159470746217746\n",
      "EvaluatorHoldout: Processed 34728 (100.0%) in 12.97 sec. Users per second: 2678\n",
      "EvaluatorHoldout: Processed 35209 (100.0%) in 14.09 sec. Users per second: 2498\n"
     ]
    },
    {
     "name": "stderr",
     "output_type": "stream",
     "text": [
      "[I 2024-12-27 01:34:19,067] Trial 58 finished with value: 0.030888550430921622 and parameters: {'x_0': 0.22542109774636288, 'x_1': 0.5028776821247671, 'x_2': 0.5380527745988323}. Best is trial 41 with value: 0.031082859812126246.\n"
     ]
    },
    {
     "name": "stdout",
     "output_type": "stream",
     "text": [
      "__________Iteration 59______________\n",
      "SLIM weight: 0.6506546747040489\n",
      "RP3b weight: 0.2047838880487634\n",
      "ItemKNN weight: 0.14456143724718784\n",
      "EvaluatorHoldout: Processed 34728 (100.0%) in 13.06 sec. Users per second: 2658\n",
      "EvaluatorHoldout: Processed 35209 (100.0%) in 14.13 sec. Users per second: 2492\n"
     ]
    },
    {
     "name": "stderr",
     "output_type": "stream",
     "text": [
      "[I 2024-12-27 01:34:46,352] Trial 59 finished with value: 0.030991247627822353 and parameters: {'x_0': 0.2836987955868663, 'x_1': 0.6726591093475659, 'x_2': 0.7558519432341501}. Best is trial 41 with value: 0.031082859812126246.\n"
     ]
    },
    {
     "name": "stdout",
     "output_type": "stream",
     "text": [
      "__________Iteration 60______________\n",
      "SLIM weight: 0.4324976722013825\n",
      "RP3b weight: 0.408093280387497\n",
      "ItemKNN weight: 0.1594090474111205\n",
      "EvaluatorHoldout: Processed 34728 (100.0%) in 13.03 sec. Users per second: 2666\n",
      "EvaluatorHoldout: Processed 35209 (100.0%) in 14.03 sec. Users per second: 2509\n"
     ]
    },
    {
     "name": "stderr",
     "output_type": "stream",
     "text": [
      "[I 2024-12-27 01:35:13,498] Trial 60 finished with value: 0.03087452533612604 and parameters: {'x_0': 0.5402507859457, 'x_1': 0.5593506548821248, 'x_2': 0.7969674777333922}. Best is trial 41 with value: 0.031082859812126246.\n"
     ]
    },
    {
     "name": "stdout",
     "output_type": "stream",
     "text": [
      "__________Iteration 61______________\n",
      "SLIM weight: 0.610695793813819\n",
      "RP3b weight: 0.287546509839274\n",
      "ItemKNN weight: 0.10175769634690691\n",
      "EvaluatorHoldout: Processed 34728 (100.0%) in 13.07 sec. Users per second: 2658\n",
      "EvaluatorHoldout: Processed 35209 (100.0%) in 14.08 sec. Users per second: 2500\n"
     ]
    },
    {
     "name": "stderr",
     "output_type": "stream",
     "text": [
      "[I 2024-12-27 01:35:40,737] Trial 61 finished with value: 0.031040031510184262 and parameters: {'x_0': 0.12068188316759171, 'x_1': 0.3694796964576938, 'x_2': 0.703036454164053}. Best is trial 41 with value: 0.031082859812126246.\n"
     ]
    },
    {
     "name": "stdout",
     "output_type": "stream",
     "text": [
      "__________Iteration 62______________\n",
      "SLIM weight: 0.6820647119310752\n",
      "RP3b weight: 0.24431864035015646\n",
      "ItemKNN weight: 0.07361664771876847\n",
      "EvaluatorHoldout: Processed 34728 (100.0%) in 13.02 sec. Users per second: 2668\n",
      "EvaluatorHoldout: Processed 35209 (100.0%) in 14.08 sec. Users per second: 2501\n"
     ]
    },
    {
     "name": "stderr",
     "output_type": "stream",
     "text": [
      "[I 2024-12-27 01:36:07,920] Trial 62 finished with value: 0.031045189509036092 and parameters: {'x_0': 0.17496781286998986, 'x_1': 0.535579834911909, 'x_2': 0.8284969556359353}. Best is trial 41 with value: 0.031082859812126246.\n"
     ]
    },
    {
     "name": "stdout",
     "output_type": "stream",
     "text": [
      "__________Iteration 63______________\n",
      "SLIM weight: 0.6610985760658805\n",
      "RP3b weight: 0.28777813935282054\n",
      "ItemKNN weight: 0.05112328458129902\n",
      "EvaluatorHoldout: Processed 34728 (100.0%) in 12.94 sec. Users per second: 2683\n",
      "EvaluatorHoldout: Processed 35209 (100.0%) in 13.97 sec. Users per second: 2521\n"
     ]
    },
    {
     "name": "stderr",
     "output_type": "stream",
     "text": [
      "[I 2024-12-27 01:36:34,922] Trial 63 finished with value: 0.031070881233933048 and parameters: {'x_0': 0.051825606186662085, 'x_1': 0.275700416414742, 'x_2': 0.7954166615454934}. Best is trial 41 with value: 0.031082859812126246.\n"
     ]
    },
    {
     "name": "stdout",
     "output_type": "stream",
     "text": [
      "__________Iteration 64______________\n",
      "SLIM weight: 0.7571388971117371\n",
      "RP3b weight: 0.179789696771406\n",
      "ItemKNN weight: 0.06307140611685683\n",
      "EvaluatorHoldout: Processed 34728 (100.0%) in 13.03 sec. Users per second: 2665\n",
      "EvaluatorHoldout: Processed 35209 (100.0%) in 13.95 sec. Users per second: 2525\n"
     ]
    },
    {
     "name": "stderr",
     "output_type": "stream",
     "text": [
      "[I 2024-12-27 01:37:01,988] Trial 64 finished with value: 0.030984776704584015 and parameters: {'x_0': 0.004250947240040097, 'x_1': 0.2734398467108069, 'x_2': 0.6345230784339535}. Best is trial 41 with value: 0.031082859812126246.\n"
     ]
    },
    {
     "name": "stdout",
     "output_type": "stream",
     "text": [
      "__________Iteration 65______________\n",
      "SLIM weight: 0.7710200255310589\n",
      "RP3b weight: 0.15686726609471557\n",
      "ItemKNN weight: 0.07211270837422563\n",
      "EvaluatorHoldout: Processed 34728 (100.0%) in 13.01 sec. Users per second: 2670\n",
      "EvaluatorHoldout: Processed 35209 (100.0%) in 14.10 sec. Users per second: 2497\n"
     ]
    },
    {
     "name": "stderr",
     "output_type": "stream",
     "text": [
      "[I 2024-12-27 01:37:29,187] Trial 65 finished with value: 0.030967564711516866 and parameters: {'x_0': 0.08155685066961751, 'x_1': 0.6005263261901028, 'x_2': 0.7910246504052699}. Best is trial 41 with value: 0.031082859812126246.\n"
     ]
    },
    {
     "name": "stdout",
     "output_type": "stream",
     "text": [
      "__________Iteration 66______________\n",
      "SLIM weight: 0.44217005698340706\n",
      "RP3b weight: 0.39773421009516374\n",
      "ItemKNN weight: 0.1600957329214292\n",
      "EvaluatorHoldout: Processed 34728 (100.0%) in 13.05 sec. Users per second: 2662\n",
      "EvaluatorHoldout: Processed 35209 (100.0%) in 14.09 sec. Users per second: 2498\n"
     ]
    },
    {
     "name": "stderr",
     "output_type": "stream",
     "text": [
      "[I 2024-12-27 01:37:56,417] Trial 66 finished with value: 0.030905733857313784 and parameters: {'x_0': 0.37736873556643713, 'x_1': 0.4161968551614824, 'x_2': 0.7026845126410496}. Best is trial 41 with value: 0.031082859812126246.\n"
     ]
    },
    {
     "name": "stdout",
     "output_type": "stream",
     "text": [
      "__________Iteration 67______________\n",
      "SLIM weight: 0.4032887792984879\n",
      "RP3b weight: 0.5312566508849363\n",
      "ItemKNN weight: 0.06545456981657573\n",
      "EvaluatorHoldout: Processed 34728 (100.0%) in 12.98 sec. Users per second: 2676\n",
      "EvaluatorHoldout: Processed 35209 (100.0%) in 14.07 sec. Users per second: 2502\n"
     ]
    },
    {
     "name": "stderr",
     "output_type": "stream",
     "text": [
      "[I 2024-12-27 01:38:23,552] Trial 67 finished with value: 0.030774004919866118 and parameters: {'x_0': 0.16621287629005926, 'x_1': 0.09405311258529589, 'x_2': 0.7473298466855947}. Best is trial 41 with value: 0.031082859812126246.\n"
     ]
    },
    {
     "name": "stdout",
     "output_type": "stream",
     "text": [
      "__________Iteration 68______________\n",
      "SLIM weight: 0.597307590654744\n",
      "RP3b weight: 0.34126331808057503\n",
      "ItemKNN weight: 0.061429091264680866\n",
      "EvaluatorHoldout: Processed 34728 (100.0%) in 12.94 sec. Users per second: 2684\n",
      "EvaluatorHoldout: Processed 35209 (100.0%) in 14.02 sec. Users per second: 2511\n"
     ]
    },
    {
     "name": "stderr",
     "output_type": "stream",
     "text": [
      "[I 2024-12-27 01:38:50,601] Trial 68 finished with value: 0.031037238832028777 and parameters: {'x_0': 0.26637916526822014, 'x_1': 0.4696427517513312, 'x_2': 0.8728036283508467}. Best is trial 41 with value: 0.031082859812126246.\n"
     ]
    },
    {
     "name": "stdout",
     "output_type": "stream",
     "text": [
      "__________Iteration 69______________\n",
      "SLIM weight: 0.5502522138334597\n",
      "RP3b weight: 0.3741484075463041\n",
      "ItemKNN weight: 0.0755993786202362\n",
      "EvaluatorHoldout: Processed 34728 (100.0%) in 13.00 sec. Users per second: 2671\n",
      "EvaluatorHoldout: Processed 35209 (100.0%) in 14.11 sec. Users per second: 2496\n"
     ]
    },
    {
     "name": "stderr",
     "output_type": "stream",
     "text": [
      "[I 2024-12-27 01:39:17,800] Trial 69 finished with value: 0.03100799569808627 and parameters: {'x_0': 0.22935066980578117, 'x_1': 0.36742343490310925, 'x_2': 0.8168434538628156}. Best is trial 41 with value: 0.031082859812126246.\n"
     ]
    },
    {
     "name": "stdout",
     "output_type": "stream",
     "text": [
      "__________Iteration 70______________\n",
      "SLIM weight: 0.9052130083354576\n",
      "RP3b weight: 0.00865320964934762\n",
      "ItemKNN weight: 0.08613378201519467\n",
      "EvaluatorHoldout: Processed 34728 (100.0%) in 12.96 sec. Users per second: 2680\n",
      "EvaluatorHoldout: Processed 35209 (100.0%) in 14.01 sec. Users per second: 2513\n"
     ]
    },
    {
     "name": "stderr",
     "output_type": "stream",
     "text": [
      "[I 2024-12-27 01:39:44,855] Trial 70 finished with value: 0.03070520608227836 and parameters: {'x_0': 0.06273937364575788, 'x_1': 0.9738797074446298, 'x_2': 0.7683910116667232}. Best is trial 41 with value: 0.031082859812126246.\n"
     ]
    },
    {
     "name": "stdout",
     "output_type": "stream",
     "text": [
      "__________Iteration 71______________\n",
      "SLIM weight: 0.6456712241097997\n",
      "RP3b weight: 0.3269151908600553\n",
      "ItemKNN weight: 0.027413585030145064\n",
      "EvaluatorHoldout: Processed 34728 (100.0%) in 13.09 sec. Users per second: 2652\n",
      "EvaluatorHoldout: Processed 35209 (100.0%) in 13.98 sec. Users per second: 2518\n"
     ]
    },
    {
     "name": "stderr",
     "output_type": "stream",
     "text": [
      "[I 2024-12-27 01:40:12,020] Trial 71 finished with value: 0.03105185011499699 and parameters: {'x_0': 0.0403727099780682, 'x_1': 0.19689592233791003, 'x_2': 0.872605566677685}. Best is trial 41 with value: 0.031082859812126246.\n"
     ]
    },
    {
     "name": "stdout",
     "output_type": "stream",
     "text": [
      "__________Iteration 72______________\n",
      "SLIM weight: 0.5691154349054918\n",
      "RP3b weight: 0.4002502646897643\n",
      "ItemKNN weight: 0.03063430040474379\n",
      "EvaluatorHoldout: Processed 34728 (100.0%) in 12.99 sec. Users per second: 2674\n",
      "EvaluatorHoldout: Processed 35209 (100.0%) in 14.14 sec. Users per second: 2490\n"
     ]
    },
    {
     "name": "stderr",
     "output_type": "stream",
     "text": [
      "[I 2024-12-27 01:40:39,238] Trial 72 finished with value: 0.03093967563797281 and parameters: {'x_0': 0.10274537292294286, 'x_1': 0.2018307694029976, 'x_2': 0.8847187229120893}. Best is trial 41 with value: 0.031082859812126246.\n"
     ]
    },
    {
     "name": "stdout",
     "output_type": "stream",
     "text": [
      "__________Iteration 73______________\n",
      "SLIM weight: 0.5487432029484548\n",
      "RP3b weight: 0.4238321793784053\n",
      "ItemKNN weight: 0.027424617673139855\n",
      "EvaluatorHoldout: Processed 34728 (100.0%) in 12.92 sec. Users per second: 2688\n",
      "EvaluatorHoldout: Processed 35209 (100.0%) in 13.96 sec. Users per second: 2522\n"
     ]
    },
    {
     "name": "stderr",
     "output_type": "stream",
     "text": [
      "[I 2024-12-27 01:41:06,210] Trial 73 finished with value: 0.03090974804649544 and parameters: {'x_0': 0.0326848011137967, 'x_1': 0.07120769837369913, 'x_2': 0.8428518599521834}. Best is trial 41 with value: 0.031082859812126246.\n"
     ]
    },
    {
     "name": "stdout",
     "output_type": "stream",
     "text": [
      "__________Iteration 74______________\n",
      "SLIM weight: 0.47530949055824295\n",
      "RP3b weight: 0.4701100635592637\n",
      "ItemKNN weight: 0.054580445882493285\n",
      "EvaluatorHoldout: Processed 34728 (100.0%) in 12.83 sec. Users per second: 2706\n",
      "EvaluatorHoldout: Processed 35209 (100.0%) in 13.95 sec. Users per second: 2524\n"
     ]
    },
    {
     "name": "stderr",
     "output_type": "stream",
     "text": [
      "[I 2024-12-27 01:41:33,088] Trial 74 finished with value: 0.030931612979599125 and parameters: {'x_0': 0.14293546335240453, 'x_1': 0.14600978005586093, 'x_2': 0.7998039737158179}. Best is trial 41 with value: 0.031082859812126246.\n"
     ]
    },
    {
     "name": "stdout",
     "output_type": "stream",
     "text": [
      "__________Iteration 75______________\n",
      "SLIM weight: 0.6518118624972169\n",
      "RP3b weight: 0.34131326453108474\n",
      "ItemKNN weight: 0.006874872971698377\n",
      "EvaluatorHoldout: Processed 34728 (100.0%) in 12.92 sec. Users per second: 2689\n",
      "EvaluatorHoldout: Processed 35209 (100.0%) in 14.03 sec. Users per second: 2510\n"
     ]
    },
    {
     "name": "stderr",
     "output_type": "stream",
     "text": [
      "[I 2024-12-27 01:42:00,122] Trial 75 finished with value: 0.031015978369769662 and parameters: {'x_0': 0.07446425774753143, 'x_1': 0.25663115256968, 'x_2': 0.9729758593529237}. Best is trial 41 with value: 0.031082859812126246.\n"
     ]
    },
    {
     "name": "stdout",
     "output_type": "stream",
     "text": [
      "__________Iteration 76______________\n",
      "SLIM weight: 0.5529800657283367\n",
      "RP3b weight: 0.4188872303419102\n",
      "ItemKNN weight: 0.028132703929752995\n",
      "EvaluatorHoldout: Processed 34728 (100.0%) in 12.94 sec. Users per second: 2684\n",
      "EvaluatorHoldout: Processed 35209 (100.0%) in 13.93 sec. Users per second: 2527\n"
     ]
    },
    {
     "name": "stderr",
     "output_type": "stream",
     "text": [
      "[I 2024-12-27 01:42:27,080] Trial 76 finished with value: 0.03091914305459467 and parameters: {'x_0': 0.10154899029184315, 'x_1': 0.1768268038256416, 'x_2': 0.8901534994202944}. Best is trial 41 with value: 0.031082859812126246.\n"
     ]
    },
    {
     "name": "stdout",
     "output_type": "stream",
     "text": [
      "__________Iteration 77______________\n",
      "SLIM weight: 0.6202713141536744\n",
      "RP3b weight: 0.2636787695390297\n",
      "ItemKNN weight: 0.11604991630729583\n",
      "EvaluatorHoldout: Processed 34728 (100.0%) in 13.12 sec. Users per second: 2646\n",
      "EvaluatorHoldout: Processed 35209 (100.0%) in 14.08 sec. Users per second: 2501\n"
     ]
    },
    {
     "name": "stderr",
     "output_type": "stream",
     "text": [
      "[I 2024-12-27 01:42:54,374] Trial 77 finished with value: 0.031043835448637473 and parameters: {'x_0': 0.1757349195427641, 'x_1': 0.47751543991319223, 'x_2': 0.7222979958629484}. Best is trial 41 with value: 0.031082859812126246.\n"
     ]
    },
    {
     "name": "stdout",
     "output_type": "stream",
     "text": [
      "__________Iteration 78______________\n",
      "SLIM weight: 0.8184532000215824\n",
      "RP3b weight: 0.16594339951706613\n",
      "ItemKNN weight: 0.015603400461351417\n",
      "EvaluatorHoldout: Processed 34728 (100.0%) in 13.06 sec. Users per second: 2659\n",
      "EvaluatorHoldout: Processed 35209 (100.0%) in 14.05 sec. Users per second: 2506\n"
     ]
    },
    {
     "name": "stderr",
     "output_type": "stream",
     "text": [
      "[I 2024-12-27 01:43:21,571] Trial 78 finished with value: 0.0308948168167665 and parameters: {'x_0': 0.0005689499130135944, 'x_1': 0.21982813675362117, 'x_2': 0.8672356276983846}. Best is trial 41 with value: 0.031082859812126246.\n"
     ]
    },
    {
     "name": "stdout",
     "output_type": "stream",
     "text": [
      "__________Iteration 79______________\n",
      "SLIM weight: 0.34171392793247407\n",
      "RP3b weight: 0.6305259581859718\n",
      "ItemKNN weight: 0.027760113881554173\n",
      "EvaluatorHoldout: Processed 34728 (100.0%) in 12.95 sec. Users per second: 2681\n",
      "EvaluatorHoldout: Processed 35209 (100.0%) in 14.01 sec. Users per second: 2514\n"
     ]
    },
    {
     "name": "stderr",
     "output_type": "stream",
     "text": [
      "[I 2024-12-27 01:43:48,619] Trial 79 finished with value: 0.03046840091522975 and parameters: {'x_0': 0.1239400331904068, 'x_1': 0.02122297279392113, 'x_2': 0.8439844335915561}. Best is trial 41 with value: 0.031082859812126246.\n"
     ]
    },
    {
     "name": "stdout",
     "output_type": "stream",
     "text": [
      "__________Iteration 80______________\n",
      "SLIM weight: 0.8371727130977207\n",
      "RP3b weight: 0.141749390662825\n",
      "ItemKNN weight: 0.021077896239454278\n",
      "EvaluatorHoldout: Processed 34728 (100.0%) in 13.03 sec. Users per second: 2665\n",
      "EvaluatorHoldout: Processed 35209 (100.0%) in 14.06 sec. Users per second: 2505\n"
     ]
    },
    {
     "name": "stderr",
     "output_type": "stream",
     "text": [
      "[I 2024-12-27 01:44:15,801] Trial 80 finished with value: 0.03087567257379714 and parameters: {'x_0': 0.05968643051565933, 'x_1': 0.6204864062023564, 'x_2': 0.9314930887297006}. Best is trial 41 with value: 0.031082859812126246.\n"
     ]
    },
    {
     "name": "stdout",
     "output_type": "stream",
     "text": [
      "__________Iteration 81______________\n",
      "SLIM weight: 0.6295398516907518\n",
      "RP3b weight: 0.21905903444676067\n",
      "ItemKNN weight: 0.15140111386248756\n",
      "EvaluatorHoldout: Processed 34728 (100.0%) in 13.08 sec. Users per second: 2654\n",
      "EvaluatorHoldout: Processed 35209 (100.0%) in 14.01 sec. Users per second: 2513\n"
     ]
    },
    {
     "name": "stderr",
     "output_type": "stream",
     "text": [
      "[I 2024-12-27 01:44:42,984] Trial 81 finished with value: 0.030966595729898135 and parameters: {'x_0': 0.03410636166301992, 'x_1': 0.3086563889729812, 'x_2': 0.4437664011433935}. Best is trial 41 with value: 0.031082859812126246.\n"
     ]
    },
    {
     "name": "stdout",
     "output_type": "stream",
     "text": [
      "__________Iteration 82______________\n",
      "SLIM weight: 0.6851753409178625\n",
      "RP3b weight: 0.2923906740134904\n",
      "ItemKNN weight: 0.022433985068647137\n",
      "EvaluatorHoldout: Processed 34728 (100.0%) in 13.02 sec. Users per second: 2667\n",
      "EvaluatorHoldout: Processed 35209 (100.0%) in 14.07 sec. Users per second: 2503\n"
     ]
    },
    {
     "name": "stderr",
     "output_type": "stream",
     "text": [
      "[I 2024-12-27 01:45:10,161] Trial 82 finished with value: 0.031061693048561476 and parameters: {'x_0': 0.04857452164673436, 'x_1': 0.2750679507713178, 'x_2': 0.9057126591211244}. Best is trial 41 with value: 0.031082859812126246.\n"
     ]
    },
    {
     "name": "stdout",
     "output_type": "stream",
     "text": [
      "__________Iteration 83______________\n",
      "SLIM weight: 0.633827302998138\n",
      "RP3b weight: 0.33676507858271715\n",
      "ItemKNN weight: 0.02940761841914486\n",
      "EvaluatorHoldout: Processed 34728 (100.0%) in 13.08 sec. Users per second: 2656\n",
      "EvaluatorHoldout: Processed 35209 (100.0%) in 14.00 sec. Users per second: 2515\n"
     ]
    },
    {
     "name": "stderr",
     "output_type": "stream",
     "text": [
      "[I 2024-12-27 01:45:37,324] Trial 83 finished with value: 0.031057136092553186 and parameters: {'x_0': 0.08855318570719176, 'x_1': 0.2758218094260897, 'x_2': 0.8936213660538214}. Best is trial 41 with value: 0.031082859812126246.\n"
     ]
    },
    {
     "name": "stdout",
     "output_type": "stream",
     "text": [
      "__________Iteration 84______________\n",
      "SLIM weight: 0.6956395554749598\n",
      "RP3b weight: 0.29479676476276434\n",
      "ItemKNN weight: 0.009563679762275864\n",
      "EvaluatorHoldout: Processed 34728 (100.0%) in 13.03 sec. Users per second: 2665\n",
      "EvaluatorHoldout: Processed 35209 (100.0%) in 14.02 sec. Users per second: 2511\n"
     ]
    },
    {
     "name": "stderr",
     "output_type": "stream",
     "text": [
      "[I 2024-12-27 01:46:04,468] Trial 84 finished with value: 0.03105334243810305 and parameters: {'x_0': 0.08630754298180335, 'x_1': 0.3540958443759013, 'x_2': 0.9668804003476461}. Best is trial 41 with value: 0.031082859812126246.\n"
     ]
    },
    {
     "name": "stdout",
     "output_type": "stream",
     "text": [
      "__________Iteration 85______________\n",
      "SLIM weight: 0.6987461686369046\n",
      "RP3b weight: 0.30082413160845844\n",
      "ItemKNN weight: 0.00042969975463692973\n",
      "EvaluatorHoldout: Processed 34728 (100.0%) in 12.99 sec. Users per second: 2674\n",
      "EvaluatorHoldout: Processed 35209 (100.0%) in 14.06 sec. Users per second: 2505\n"
     ]
    },
    {
     "name": "stderr",
     "output_type": "stream",
     "text": [
      "[I 2024-12-27 01:46:31,598] Trial 85 finished with value: 0.031026378924831666 and parameters: {'x_0': 0.09069900782657664, 'x_1': 0.35581737116203727, 'x_2': 0.9985250604379629}. Best is trial 41 with value: 0.031082859812126246.\n"
     ]
    },
    {
     "name": "stdout",
     "output_type": "stream",
     "text": [
      "__________Iteration 86______________\n",
      "SLIM weight: 0.6037118885742524\n",
      "RP3b weight: 0.37927000138789135\n",
      "ItemKNN weight: 0.017018110037856332\n",
      "EvaluatorHoldout: Processed 34728 (100.0%) in 13.04 sec. Users per second: 2662\n",
      "EvaluatorHoldout: Processed 35209 (100.0%) in 14.06 sec. Users per second: 2505\n"
     ]
    },
    {
     "name": "stderr",
     "output_type": "stream",
     "text": [
      "[I 2024-12-27 01:46:58,793] Trial 86 finished with value: 0.03097399906941093 and parameters: {'x_0': 0.1306581179886958, 'x_1': 0.27843911837804114, 'x_2': 0.9442449226402748}. Best is trial 41 with value: 0.031082859812126246.\n"
     ]
    },
    {
     "name": "stdout",
     "output_type": "stream",
     "text": [
      "__________Iteration 87______________\n",
      "SLIM weight: 0.7211469738014081\n",
      "RP3b weight: 0.25165107245583296\n",
      "ItemKNN weight: 0.027201953742758866\n",
      "EvaluatorHoldout: Processed 34728 (100.0%) in 13.05 sec. Users per second: 2660\n",
      "EvaluatorHoldout: Processed 35209 (100.0%) in 14.05 sec. Users per second: 2507\n"
     ]
    },
    {
     "name": "stderr",
     "output_type": "stream",
     "text": [
      "[I 2024-12-27 01:47:25,982] Trial 87 finished with value: 0.031040983351797842 and parameters: {'x_0': 0.06656817919919791, 'x_1': 0.3884791839343176, 'x_2': 0.9028448936135415}. Best is trial 41 with value: 0.031082859812126246.\n"
     ]
    },
    {
     "name": "stdout",
     "output_type": "stream",
     "text": [
      "__________Iteration 88______________\n",
      "SLIM weight: 0.8194778696903577\n",
      "RP3b weight: 0.1733539253425968\n",
      "ItemKNN weight: 0.007168204967045356\n",
      "EvaluatorHoldout: Processed 34728 (100.0%) in 13.06 sec. Users per second: 2660\n",
      "EvaluatorHoldout: Processed 35209 (100.0%) in 14.04 sec. Users per second: 2508\n"
     ]
    },
    {
     "name": "stderr",
     "output_type": "stream",
     "text": [
      "[I 2024-12-27 01:47:53,165] Trial 88 finished with value: 0.030894054657875474 and parameters: {'x_0': 0.019735600064817557, 'x_1': 0.435887059360044, 'x_2': 0.9662468074209057}. Best is trial 41 with value: 0.031082859812126246.\n"
     ]
    },
    {
     "name": "stdout",
     "output_type": "stream",
     "text": [
      "__________Iteration 89______________\n",
      "SLIM weight: 0.5850559074115959\n",
      "RP3b weight: 0.3789220326881264\n",
      "ItemKNN weight: 0.0360220599002779\n",
      "EvaluatorHoldout: Processed 34728 (100.0%) in 13.04 sec. Users per second: 2663\n",
      "EvaluatorHoldout: Processed 35209 (100.0%) in 13.94 sec. Users per second: 2526\n"
     ]
    },
    {
     "name": "stderr",
     "output_type": "stream",
     "text": [
      "[I 2024-12-27 01:48:20,238] Trial 89 finished with value: 0.030977480775769315 and parameters: {'x_0': 0.19051921227511087, 'x_1': 0.3416955593095585, 'x_2': 0.9029539956676325}. Best is trial 41 with value: 0.031082859812126246.\n"
     ]
    },
    {
     "name": "stdout",
     "output_type": "stream",
     "text": [
      "__________Iteration 90______________\n",
      "SLIM weight: 0.6637091566276135\n",
      "RP3b weight: 0.3187228472164998\n",
      "ItemKNN weight: 0.017567996155886566\n",
      "EvaluatorHoldout: Processed 34728 (100.0%) in 12.89 sec. Users per second: 2694\n",
      "EvaluatorHoldout: Processed 35209 (100.0%) in 13.99 sec. Users per second: 2516\n"
     ]
    },
    {
     "name": "stderr",
     "output_type": "stream",
     "text": [
      "[I 2024-12-27 01:48:47,206] Trial 90 finished with value: 0.031032916122756188 and parameters: {'x_0': 0.1527472214056343, 'x_1': 0.40563185076409053, 'x_2': 0.9514812783174429}. Best is trial 41 with value: 0.031082859812126246.\n"
     ]
    },
    {
     "name": "stdout",
     "output_type": "stream",
     "text": [
      "__________Iteration 91______________\n",
      "SLIM weight: 0.6101053646342252\n",
      "RP3b weight: 0.33870164079477333\n",
      "ItemKNN weight: 0.05119299457100156\n",
      "EvaluatorHoldout: Processed 34728 (100.0%) in 13.06 sec. Users per second: 2660\n",
      "EvaluatorHoldout: Processed 35209 (100.0%) in 13.98 sec. Users per second: 2518\n"
     ]
    },
    {
     "name": "stderr",
     "output_type": "stream",
     "text": [
      "[I 2024-12-27 01:49:14,330] Trial 91 finished with value: 0.031019965134943414 and parameters: {'x_0': 0.09487832627129827, 'x_1': 0.2705026387820373, 'x_2': 0.8206834417872227}. Best is trial 41 with value: 0.031082859812126246.\n"
     ]
    },
    {
     "name": "stdout",
     "output_type": "stream",
     "text": [
      "__________Iteration 92______________\n",
      "SLIM weight: 0.5270179812975462\n",
      "RP3b weight: 0.4166247422410803\n",
      "ItemKNN weight: 0.05635727646137338\n",
      "EvaluatorHoldout: Processed 34728 (100.0%) in 13.10 sec. Users per second: 2652\n",
      "EvaluatorHoldout: Processed 35209 (100.0%) in 14.07 sec. Users per second: 2503\n"
     ]
    },
    {
     "name": "stderr",
     "output_type": "stream",
     "text": [
      "[I 2024-12-27 01:49:41,583] Trial 92 finished with value: 0.030956045485458775 and parameters: {'x_0': 0.2135758816158061, 'x_1': 0.2951136910572389, 'x_2': 0.8478224084864097}. Best is trial 41 with value: 0.031082859812126246.\n"
     ]
    },
    {
     "name": "stdout",
     "output_type": "stream",
     "text": [
      "__________Iteration 93______________\n",
      "SLIM weight: 0.4545062289439876\n",
      "RP3b weight: 0.39509900541508747\n",
      "ItemKNN weight: 0.15039476564092497\n",
      "EvaluatorHoldout: Processed 34728 (100.0%) in 13.07 sec. Users per second: 2658\n",
      "EvaluatorHoldout: Processed 35209 (100.0%) in 14.05 sec. Users per second: 2506\n"
     ]
    },
    {
     "name": "stderr",
     "output_type": "stream",
     "text": [
      "[I 2024-12-27 01:50:08,789] Trial 93 finished with value: 0.030944234879315136 and parameters: {'x_0': 0.4703422821445966, 'x_1': 0.5190770868208123, 'x_2': 0.7791171598700226}. Best is trial 41 with value: 0.031082859812126246.\n"
     ]
    },
    {
     "name": "stdout",
     "output_type": "stream",
     "text": [
      "__________Iteration 94______________\n",
      "SLIM weight: 0.3411852242847366\n",
      "RP3b weight: 0.6277505585524598\n",
      "ItemKNN weight: 0.03106421716280372\n",
      "EvaluatorHoldout: Processed 34728 (100.0%) in 13.02 sec. Users per second: 2666\n",
      "EvaluatorHoldout: Processed 35209 (100.0%) in 14.05 sec. Users per second: 2505\n"
     ]
    },
    {
     "name": "stderr",
     "output_type": "stream",
     "text": [
      "[I 2024-12-27 01:50:35,959] Trial 94 finished with value: 0.03047579625607363 and parameters: {'x_0': 0.3313554182453463, 'x_1': 0.1310338911643052, 'x_2': 0.9043233743838666}. Best is trial 41 with value: 0.031082859812126246.\n"
     ]
    },
    {
     "name": "stdout",
     "output_type": "stream",
     "text": [
      "__________Iteration 95______________\n",
      "SLIM weight: 0.5970024603938989\n",
      "RP3b weight: 0.39777844891133285\n",
      "ItemKNN weight: 0.005219090694768276\n",
      "EvaluatorHoldout: Processed 34728 (100.0%) in 12.97 sec. Users per second: 2677\n",
      "EvaluatorHoldout: Processed 35209 (100.0%) in 14.05 sec. Users per second: 2505\n"
     ]
    },
    {
     "name": "stderr",
     "output_type": "stream",
     "text": [
      "[I 2024-12-27 01:51:03,081] Trial 95 finished with value: 0.030948124517793444 and parameters: {'x_0': 0.11344341991679091, 'x_1': 0.23453423598722412, 'x_2': 0.9811529862777753}. Best is trial 41 with value: 0.031082859812126246.\n"
     ]
    },
    {
     "name": "stdout",
     "output_type": "stream",
     "text": [
      "__________Iteration 96______________\n",
      "SLIM weight: 0.7738712881056266\n",
      "RP3b weight: 0.20732496605311507\n",
      "ItemKNN weight: 0.018803745841258313\n",
      "EvaluatorHoldout: Processed 34728 (100.0%) in 13.03 sec. Users per second: 2665\n",
      "EvaluatorHoldout: Processed 35209 (100.0%) in 14.03 sec. Users per second: 2510\n"
     ]
    },
    {
     "name": "stderr",
     "output_type": "stream",
     "text": [
      "[I 2024-12-27 01:51:30,229] Trial 96 finished with value: 0.03095536331325797 and parameters: {'x_0': 0.05338664559321728, 'x_1': 0.4561117187176825, 'x_2': 0.9312768221483579}. Best is trial 41 with value: 0.031082859812126246.\n"
     ]
    },
    {
     "name": "stdout",
     "output_type": "stream",
     "text": [
      "__________Iteration 97______________\n",
      "SLIM weight: 0.753665443680714\n",
      "RP3b weight: 0.20651031231297962\n",
      "ItemKNN weight: 0.03982424400630642\n",
      "EvaluatorHoldout: Processed 34728 (100.0%) in 13.05 sec. Users per second: 2661\n",
      "EvaluatorHoldout: Processed 35209 (100.0%) in 14.09 sec. Users per second: 2499\n"
     ]
    },
    {
     "name": "stderr",
     "output_type": "stream",
     "text": [
      "[I 2024-12-27 01:51:57,461] Trial 97 finished with value: 0.030991173354467143 and parameters: {'x_0': 0.020655120358094917, 'x_1': 0.3453856000550204, 'x_2': 0.814638270743323}. Best is trial 41 with value: 0.031082859812126246.\n"
     ]
    },
    {
     "name": "stdout",
     "output_type": "stream",
     "text": [
      "__________Iteration 98______________\n",
      "SLIM weight: 0.6338741947698482\n",
      "RP3b weight: 0.28916022145019815\n",
      "ItemKNN weight: 0.07696558377995383\n",
      "EvaluatorHoldout: Processed 34728 (100.0%) in 13.08 sec. Users per second: 2654\n",
      "EvaluatorHoldout: Processed 35209 (100.0%) in 14.08 sec. Users per second: 2501\n"
     ]
    },
    {
     "name": "stderr",
     "output_type": "stream",
     "text": [
      "[I 2024-12-27 01:52:24,713] Trial 98 finished with value: 0.0310509119853874 and parameters: {'x_0': 0.07659029615962964, 'x_1': 0.3097300026660806, 'x_2': 0.7320072075520254}. Best is trial 41 with value: 0.031082859812126246.\n"
     ]
    },
    {
     "name": "stdout",
     "output_type": "stream",
     "text": [
      "__________Iteration 99______________\n",
      "SLIM weight: 0.3310720659465436\n",
      "RP3b weight: 0.546892166558397\n",
      "ItemKNN weight: 0.12203576749505932\n",
      "EvaluatorHoldout: Processed 34728 (100.0%) in 13.08 sec. Users per second: 2655\n",
      "EvaluatorHoldout: Processed 35209 (100.0%) in 14.05 sec. Users per second: 2506\n"
     ]
    },
    {
     "name": "stderr",
     "output_type": "stream",
     "text": [
      "[I 2024-12-27 01:52:51,941] Trial 99 finished with value: 0.030646498136994847 and parameters: {'x_0': 0.6511089149960972, 'x_1': 0.49224090854318503, 'x_2': 0.8537117654004046}. Best is trial 41 with value: 0.031082859812126246.\n"
     ]
    },
    {
     "name": "stdout",
     "output_type": "stream",
     "text": [
      "__________Iteration 100______________\n",
      "SLIM weight: 0.6980034077804459\n",
      "RP3b weight: 0.20376548671876024\n",
      "ItemKNN weight: 0.09823110550079389\n",
      "EvaluatorHoldout: Processed 34728 (100.0%) in 13.00 sec. Users per second: 2671\n",
      "EvaluatorHoldout: Processed 35209 (100.0%) in 14.06 sec. Users per second: 2504\n"
     ]
    },
    {
     "name": "stderr",
     "output_type": "stream",
     "text": [
      "[I 2024-12-27 01:53:19,092] Trial 100 finished with value: 0.031035311152794693 and parameters: {'x_0': 0.13584315731481322, 'x_1': 0.5583557648469919, 'x_2': 0.7550766775150218}. Best is trial 41 with value: 0.031082859812126246.\n"
     ]
    },
    {
     "name": "stdout",
     "output_type": "stream",
     "text": [
      "__________Iteration 101______________\n",
      "SLIM weight: 0.6796325826250372\n",
      "RP3b weight: 0.28973908933342624\n",
      "ItemKNN weight: 0.030628328041536562\n",
      "EvaluatorHoldout: Processed 34728 (100.0%) in 13.03 sec. Users per second: 2664\n",
      "EvaluatorHoldout: Processed 35209 (100.0%) in 14.07 sec. Users per second: 2503\n"
     ]
    },
    {
     "name": "stderr",
     "output_type": "stream",
     "text": [
      "[I 2024-12-27 01:53:46,286] Trial 101 finished with value: 0.0310754656139494 and parameters: {'x_0': 0.03877220743089686, 'x_1': 0.2501853998329395, 'x_2': 0.863754361774195}. Best is trial 41 with value: 0.031082859812126246.\n"
     ]
    },
    {
     "name": "stdout",
     "output_type": "stream",
     "text": [
      "__________Iteration 102______________\n",
      "SLIM weight: 0.7127737924537246\n",
      "RP3b weight: 0.261864892023784\n",
      "ItemKNN weight: 0.02536131552249148\n",
      "EvaluatorHoldout: Processed 34728 (100.0%) in 13.05 sec. Users per second: 2660\n",
      "EvaluatorHoldout: Processed 35209 (100.0%) in 14.07 sec. Users per second: 2502\n"
     ]
    },
    {
     "name": "stderr",
     "output_type": "stream",
     "text": [
      "[I 2024-12-27 01:54:13,499] Trial 102 finished with value: 0.031056163682933645 and parameters: {'x_0': 0.022038584897971444, 'x_1': 0.2462094694068502, 'x_2': 0.873068985655608}. Best is trial 41 with value: 0.031082859812126246.\n"
     ]
    },
    {
     "name": "stdout",
     "output_type": "stream",
     "text": [
      "__________Iteration 103______________\n",
      "SLIM weight: 0.7269771957281567\n",
      "RP3b weight: 0.2509639575364053\n",
      "ItemKNN weight: 0.022058846735437978\n",
      "EvaluatorHoldout: Processed 34728 (100.0%) in 13.00 sec. Users per second: 2670\n",
      "EvaluatorHoldout: Processed 35209 (100.0%) in 14.07 sec. Users per second: 2502\n"
     ]
    },
    {
     "name": "stderr",
     "output_type": "stream",
     "text": [
      "[I 2024-12-27 01:54:40,666] Trial 103 finished with value: 0.03103618986371997 and parameters: {'x_0': 0.019827583549013022, 'x_1': 0.2583394678278579, 'x_2': 0.8878378198272997}. Best is trial 41 with value: 0.031082859812126246.\n"
     ]
    },
    {
     "name": "stdout",
     "output_type": "stream",
     "text": [
      "__________Iteration 104______________\n",
      "SLIM weight: 0.6524209048631264\n",
      "RP3b weight: 0.33381624782978864\n",
      "ItemKNN weight: 0.013762847307085062\n",
      "EvaluatorHoldout: Processed 34728 (100.0%) in 13.12 sec. Users per second: 2647\n",
      "EvaluatorHoldout: Processed 35209 (100.0%) in 14.12 sec. Users per second: 2494\n"
     ]
    },
    {
     "name": "stderr",
     "output_type": "stream",
     "text": [
      "[I 2024-12-27 01:55:07,992] Trial 104 finished with value: 0.031016994200735417 and parameters: {'x_0': 0.05263837551882596, 'x_1': 0.2216891474337685, 'x_2': 0.9397791819417531}. Best is trial 41 with value: 0.031082859812126246.\n"
     ]
    },
    {
     "name": "stdout",
     "output_type": "stream",
     "text": [
      "__________Iteration 105______________\n",
      "SLIM weight: 0.6492263856341931\n",
      "RP3b weight: 0.31397851474308786\n",
      "ItemKNN weight: 0.036795099622719124\n",
      "EvaluatorHoldout: Processed 34728 (100.0%) in 13.04 sec. Users per second: 2664\n",
      "EvaluatorHoldout: Processed 35209 (100.0%) in 14.05 sec. Users per second: 2507\n"
     ]
    },
    {
     "name": "stderr",
     "output_type": "stream",
     "text": [
      "[I 2024-12-27 01:55:35,165] Trial 105 finished with value: 0.031062441495448408 and parameters: {'x_0': 0.07940122082552784, 'x_1': 0.2937210104983695, 'x_2': 0.8662582351725512}. Best is trial 41 with value: 0.031082859812126246.\n"
     ]
    },
    {
     "name": "stdout",
     "output_type": "stream",
     "text": [
      "__________Iteration 106______________\n",
      "SLIM weight: 0.6202804997679535\n",
      "RP3b weight: 0.3428108792702817\n",
      "ItemKNN weight: 0.03690862096176475\n",
      "EvaluatorHoldout: Processed 34728 (100.0%) in 12.99 sec. Users per second: 2673\n",
      "EvaluatorHoldout: Processed 35209 (100.0%) in 14.10 sec. Users per second: 2497\n"
     ]
    },
    {
     "name": "stderr",
     "output_type": "stream",
     "text": [
      "[I 2024-12-27 01:56:02,354] Trial 106 finished with value: 0.031037051434640257 and parameters: {'x_0': 0.042461753347413686, 'x_1': 0.17447556156083116, 'x_2': 0.8286318167031684}. Best is trial 41 with value: 0.031082859812126246.\n"
     ]
    },
    {
     "name": "stdout",
     "output_type": "stream",
     "text": [
      "__________Iteration 107______________\n",
      "SLIM weight: 0.6114274633388134\n",
      "RP3b weight: 0.34667128757698745\n",
      "ItemKNN weight: 0.04190124908419923\n",
      "EvaluatorHoldout: Processed 34728 (100.0%) in 13.06 sec. Users per second: 2659\n",
      "EvaluatorHoldout: Processed 35209 (100.0%) in 14.09 sec. Users per second: 2500\n"
     ]
    },
    {
     "name": "stderr",
     "output_type": "stream",
     "text": [
      "[I 2024-12-27 01:56:29,597] Trial 107 finished with value: 0.03101671196198564 and parameters: {'x_0': 0.11320649280811615, 'x_1': 0.2907753297817867, 'x_2': 0.8613142038681564}. Best is trial 41 with value: 0.031082859812126246.\n"
     ]
    },
    {
     "name": "stdout",
     "output_type": "stream",
     "text": [
      "__________Iteration 108______________\n",
      "SLIM weight: 0.7071431122952043\n",
      "RP3b weight: 0.2511549782642491\n",
      "ItemKNN weight: 0.041701909440546595\n",
      "EvaluatorHoldout: Processed 34728 (100.0%) in 13.00 sec. Users per second: 2672\n",
      "EvaluatorHoldout: Processed 35209 (100.0%) in 14.05 sec. Users per second: 2507\n"
     ]
    },
    {
     "name": "stderr",
     "output_type": "stream",
     "text": [
      "[I 2024-12-27 01:56:56,730] Trial 108 finished with value: 0.031061729613905492 and parameters: {'x_0': 0.0189332778299195, 'x_1': 0.24441329512670956, 'x_2': 0.7914143355345087}. Best is trial 41 with value: 0.031082859812126246.\n"
     ]
    },
    {
     "name": "stdout",
     "output_type": "stream",
     "text": [
      "__________Iteration 109______________\n",
      "SLIM weight: 0.5322145133932078\n",
      "RP3b weight: 0.41969065074629036\n",
      "ItemKNN weight: 0.048094835860501825\n",
      "EvaluatorHoldout: Processed 34728 (100.0%) in 13.01 sec. Users per second: 2669\n",
      "EvaluatorHoldout: Processed 35209 (100.0%) in 14.01 sec. Users per second: 2512\n"
     ]
    },
    {
     "name": "stderr",
     "output_type": "stream",
     "text": [
      "[I 2024-12-27 01:57:23,847] Trial 109 finished with value: 0.03095238895104896 and parameters: {'x_0': 0.07222086786708788, 'x_1': 0.12588408235916654, 'x_2': 0.788606457045488}. Best is trial 41 with value: 0.031082859812126246.\n"
     ]
    },
    {
     "name": "stdout",
     "output_type": "stream",
     "text": [
      "__________Iteration 110______________\n",
      "SLIM weight: 0.6915617067186588\n",
      "RP3b weight: 0.2588816915870338\n",
      "ItemKNN weight: 0.049556601694307326\n",
      "EvaluatorHoldout: Processed 34728 (100.0%) in 13.06 sec. Users per second: 2660\n",
      "EvaluatorHoldout: Processed 35209 (100.0%) in 14.01 sec. Users per second: 2513\n"
     ]
    },
    {
     "name": "stderr",
     "output_type": "stream",
     "text": [
      "[I 2024-12-27 01:57:51,009] Trial 110 finished with value: 0.031077675531933302 and parameters: {'x_0': 0.048421114823207385, 'x_1': 0.32192240323625043, 'x_2': 0.8049537780029564}. Best is trial 41 with value: 0.031082859812126246.\n"
     ]
    },
    {
     "name": "stdout",
     "output_type": "stream",
     "text": [
      "__________Iteration 111______________\n",
      "SLIM weight: 0.8664439811902427\n",
      "RP3b weight: 0.11183969485299831\n",
      "ItemKNN weight: 0.021716323956759036\n",
      "EvaluatorHoldout: Processed 34728 (100.0%) in 12.99 sec. Users per second: 2673\n",
      "EvaluatorHoldout: Processed 35209 (100.0%) in 14.07 sec. Users per second: 2502\n"
     ]
    },
    {
     "name": "stderr",
     "output_type": "stream",
     "text": [
      "[I 2024-12-27 01:58:18,162] Trial 111 finished with value: 0.03087011464149421 and parameters: {'x_0': 0.00012235812659849854, 'x_1': 0.31260482870889056, 'x_2': 0.7978871272841576}. Best is trial 41 with value: 0.031082859812126246.\n"
     ]
    },
    {
     "name": "stdout",
     "output_type": "stream",
     "text": [
      "__________Iteration 112______________\n",
      "SLIM weight: 0.6678351001096432\n",
      "RP3b weight: 0.2891337661360404\n",
      "ItemKNN weight: 0.043031133754316456\n",
      "EvaluatorHoldout: Processed 34728 (100.0%) in 12.99 sec. Users per second: 2673\n",
      "EvaluatorHoldout: Processed 35209 (100.0%) in 14.05 sec. Users per second: 2506\n"
     ]
    },
    {
     "name": "stderr",
     "output_type": "stream",
     "text": [
      "[I 2024-12-27 01:58:45,296] Trial 112 finished with value: 0.03108707853870155 and parameters: {'x_0': 0.04937907421167614, 'x_1': 0.27188175223288263, 'x_2': 0.8237966953970334}. Best is trial 112 with value: 0.03108707853870155.\n"
     ]
    },
    {
     "name": "stdout",
     "output_type": "stream",
     "text": [
      "__________Iteration 113______________\n",
      "SLIM weight: 0.7196465258647183\n",
      "RP3b weight: 0.23623083358476243\n",
      "ItemKNN weight: 0.04412264055051927\n",
      "EvaluatorHoldout: Processed 34728 (100.0%) in 13.01 sec. Users per second: 2669\n",
      "EvaluatorHoldout: Processed 35209 (100.0%) in 14.05 sec. Users per second: 2507\n"
     ]
    },
    {
     "name": "stderr",
     "output_type": "stream",
     "text": [
      "[I 2024-12-27 01:59:12,447] Trial 113 finished with value: 0.03103824323632451 and parameters: {'x_0': 0.05029166425493015, 'x_1': 0.37476039143426754, 'x_2': 0.8325047376427533}. Best is trial 112 with value: 0.03108707853870155.\n"
     ]
    },
    {
     "name": "stdout",
     "output_type": "stream",
     "text": [
      "__________Iteration 114______________\n",
      "SLIM weight: 0.5242171950275859\n",
      "RP3b weight: 0.21642338451871282\n",
      "ItemKNN weight: 0.2593594204537012\n",
      "EvaluatorHoldout: Processed 34728 (100.0%) in 13.01 sec. Users per second: 2669\n",
      "EvaluatorHoldout: Processed 35209 (100.0%) in 13.96 sec. Users per second: 2523\n"
     ]
    },
    {
     "name": "stderr",
     "output_type": "stream",
     "text": [
      "[I 2024-12-27 01:59:39,503] Trial 114 finished with value: 0.030819263674523607 and parameters: {'x_0': 0.02776966866623428, 'x_1': 0.2277336599235081, 'x_2': 0.16980395635563972}. Best is trial 112 with value: 0.03108707853870155.\n"
     ]
    },
    {
     "name": "stdout",
     "output_type": "stream",
     "text": [
      "__________Iteration 115______________\n",
      "SLIM weight: 0.6509534275395001\n",
      "RP3b weight: 0.2692089926623608\n",
      "ItemKNN weight: 0.07983757979813916\n",
      "EvaluatorHoldout: Processed 34728 (100.0%) in 12.96 sec. Users per second: 2680\n",
      "EvaluatorHoldout: Processed 35209 (100.0%) in 14.03 sec. Users per second: 2509\n"
     ]
    },
    {
     "name": "stderr",
     "output_type": "stream",
     "text": [
      "[I 2024-12-27 02:00:06,585] Trial 115 finished with value: 0.031068916989354777 and parameters: {'x_0': 0.0652992860107526, 'x_1': 0.32351339666006185, 'x_2': 0.715569633168546}. Best is trial 112 with value: 0.03108707853870155.\n"
     ]
    },
    {
     "name": "stdout",
     "output_type": "stream",
     "text": [
      "__________Iteration 116______________\n",
      "SLIM weight: 0.6414709565403691\n",
      "RP3b weight: 0.2673713630103027\n",
      "ItemKNN weight: 0.09115768044932814\n",
      "EvaluatorHoldout: Processed 34728 (100.0%) in 13.05 sec. Users per second: 2661\n",
      "EvaluatorHoldout: Processed 35209 (100.0%) in 14.05 sec. Users per second: 2505\n"
     ]
    },
    {
     "name": "stderr",
     "output_type": "stream",
     "text": [
      "[I 2024-12-27 02:00:33,780] Trial 116 finished with value: 0.031062498628798573 and parameters: {'x_0': 0.06952337413072951, 'x_1': 0.3291461807960103, 'x_2': 0.6846338778681939}. Best is trial 112 with value: 0.03108707853870155.\n"
     ]
    },
    {
     "name": "stdout",
     "output_type": "stream",
     "text": [
      "__________Iteration 117______________\n",
      "SLIM weight: 0.5806659357160351\n",
      "RP3b weight: 0.2914171766751333\n",
      "ItemKNN weight: 0.12791688760883163\n",
      "EvaluatorHoldout: Processed 34728 (100.0%) in 13.05 sec. Users per second: 2661\n",
      "EvaluatorHoldout: Processed 35209 (100.0%) in 14.09 sec. Users per second: 2499\n"
     ]
    },
    {
     "name": "stderr",
     "output_type": "stream",
     "text": [
      "[I 2024-12-27 02:01:01,008] Trial 117 finished with value: 0.031028247185381684 and parameters: {'x_0': 0.10815411190640524, 'x_1': 0.3275049742456685, 'x_2': 0.6126409636728157}. Best is trial 112 with value: 0.03108707853870155.\n"
     ]
    },
    {
     "name": "stdout",
     "output_type": "stream",
     "text": [
      "__________Iteration 118______________\n",
      "SLIM weight: 0.668531477186237\n",
      "RP3b weight: 0.24055279274161778\n",
      "ItemKNN weight: 0.09091573007214523\n",
      "EvaluatorHoldout: Processed 34728 (100.0%) in 13.04 sec. Users per second: 2662\n",
      "EvaluatorHoldout: Processed 35209 (100.0%) in 14.07 sec. Users per second: 2503\n"
     ]
    },
    {
     "name": "stderr",
     "output_type": "stream",
     "text": [
      "[I 2024-12-27 02:01:28,208] Trial 118 finished with value: 0.03104337152583417 and parameters: {'x_0': 0.0712493987256167, 'x_1': 0.38654908506001945, 'x_2': 0.6982099813654754}. Best is trial 112 with value: 0.03108707853870155.\n"
     ]
    },
    {
     "name": "stdout",
     "output_type": "stream",
     "text": [
      "__________Iteration 119______________\n",
      "SLIM weight: 0.5528440814563763\n",
      "RP3b weight: 0.3333944187968913\n",
      "ItemKNN weight: 0.11376149974673225\n",
      "EvaluatorHoldout: Processed 34728 (100.0%) in 13.08 sec. Users per second: 2655\n",
      "EvaluatorHoldout: Processed 35209 (100.0%) in 14.05 sec. Users per second: 2506\n"
     ]
    },
    {
     "name": "stderr",
     "output_type": "stream",
     "text": [
      "[I 2024-12-27 02:01:55,426] Trial 119 finished with value: 0.031030192004620892 and parameters: {'x_0': 0.15548096155350974, 'x_1': 0.3254905026593982, 'x_2': 0.6818162794727868}. Best is trial 112 with value: 0.03108707853870155.\n"
     ]
    },
    {
     "name": "stdout",
     "output_type": "stream",
     "text": [
      "__________Iteration 120______________\n",
      "SLIM weight: 0.638082148644441\n",
      "RP3b weight: 0.25879490317163467\n",
      "ItemKNN weight: 0.10312294818392428\n",
      "EvaluatorHoldout: Processed 34728 (100.0%) in 13.07 sec. Users per second: 2657\n",
      "EvaluatorHoldout: Processed 35209 (100.0%) in 14.14 sec. Users per second: 2489\n"
     ]
    },
    {
     "name": "stderr",
     "output_type": "stream",
     "text": [
      "[I 2024-12-27 02:02:22,727] Trial 120 finished with value: 0.031058871803730854 and parameters: {'x_0': 0.12618417315276703, 'x_1': 0.431900179515975, 'x_2': 0.715665181544707}. Best is trial 112 with value: 0.03108707853870155.\n"
     ]
    },
    {
     "name": "stdout",
     "output_type": "stream",
     "text": [
      "__________Iteration 121______________\n",
      "SLIM weight: 0.7199241424681557\n",
      "RP3b weight: 0.2367688707482989\n",
      "ItemKNN weight: 0.04330698678354532\n",
      "EvaluatorHoldout: Processed 34728 (100.0%) in 13.08 sec. Users per second: 2655\n",
      "EvaluatorHoldout: Processed 35209 (100.0%) in 14.13 sec. Users per second: 2492\n"
     ]
    },
    {
     "name": "stderr",
     "output_type": "stream",
     "text": [
      "[I 2024-12-27 02:02:50,028] Trial 121 finished with value: 0.03104563629183434 and parameters: {'x_0': 0.01604506265790198, 'x_1': 0.25690475344800084, 'x_2': 0.779906316310946}. Best is trial 112 with value: 0.03108707853870155.\n"
     ]
    },
    {
     "name": "stdout",
     "output_type": "stream",
     "text": [
      "__________Iteration 122______________\n",
      "SLIM weight: 0.9007030591358408\n",
      "RP3b weight: 0.029923983554417406\n",
      "ItemKNN weight: 0.06937295730974175\n",
      "EvaluatorHoldout: Processed 34728 (100.0%) in 13.08 sec. Users per second: 2656\n",
      "EvaluatorHoldout: Processed 35209 (100.0%) in 14.06 sec. Users per second: 2504\n"
     ]
    },
    {
     "name": "stderr",
     "output_type": "stream",
     "text": [
      "[I 2024-12-27 02:03:17,255] Trial 122 finished with value: 0.030735157669762845 and parameters: {'x_0': 0.06400916915289229, 'x_1': 0.9127248662420631, 'x_2': 0.8091996811774773}. Best is trial 112 with value: 0.03108707853870155.\n"
     ]
    },
    {
     "name": "stdout",
     "output_type": "stream",
     "text": [
      "__________Iteration 123______________\n",
      "SLIM weight: 0.8347836264667758\n",
      "RP3b weight: 0.13327597581033004\n",
      "ItemKNN weight: 0.03194039772289403\n",
      "EvaluatorHoldout: Processed 34728 (100.0%) in 13.06 sec. Users per second: 2660\n",
      "EvaluatorHoldout: Processed 35209 (100.0%) in 14.07 sec. Users per second: 2503\n"
     ]
    },
    {
     "name": "stderr",
     "output_type": "stream",
     "text": [
      "[I 2024-12-27 02:03:44,472] Trial 123 finished with value: 0.030901523129407513 and parameters: {'x_0': 0.0004642660117411771, 'x_1': 0.2936555912593544, 'x_2': 0.745528426882223}. Best is trial 112 with value: 0.03108707853870155.\n"
     ]
    },
    {
     "name": "stdout",
     "output_type": "stream",
     "text": [
      "__________Iteration 124______________\n",
      "SLIM weight: 0.6168847614242747\n",
      "RP3b weight: 0.2743053360674925\n",
      "ItemKNN weight: 0.10880990250823275\n",
      "EvaluatorHoldout: Processed 34728 (100.0%) in 13.07 sec. Users per second: 2657\n",
      "EvaluatorHoldout: Processed 35209 (100.0%) in 14.04 sec. Users per second: 2509\n"
     ]
    },
    {
     "name": "stderr",
     "output_type": "stream",
     "text": [
      "[I 2024-12-27 02:04:11,666] Trial 124 finished with value: 0.031055448373389617 and parameters: {'x_0': 0.09223863040033398, 'x_1': 0.3465260333491085, 'x_2': 0.6567876907591393}. Best is trial 112 with value: 0.03108707853870155.\n"
     ]
    },
    {
     "name": "stdout",
     "output_type": "stream",
     "text": [
      "__________Iteration 125______________\n",
      "SLIM weight: 0.7227455326410628\n",
      "RP3b weight: 0.22194374885477008\n",
      "ItemKNN weight: 0.05531071850416728\n",
      "EvaluatorHoldout: Processed 34728 (100.0%) in 13.12 sec. Users per second: 2647\n",
      "EvaluatorHoldout: Processed 35209 (100.0%) in 14.03 sec. Users per second: 2509\n"
     ]
    },
    {
     "name": "stderr",
     "output_type": "stream",
     "text": [
      "[I 2024-12-27 02:04:38,910] Trial 125 finished with value: 0.031052736824591448 and parameters: {'x_0': 0.037339690339698424, 'x_1': 0.364364582486134, 'x_2': 0.7775533457419286}. Best is trial 112 with value: 0.03108707853870155.\n"
     ]
    },
    {
     "name": "stdout",
     "output_type": "stream",
     "text": [
      "__________Iteration 126______________\n",
      "SLIM weight: 0.6129498466166685\n",
      "RP3b weight: 0.26175041878389904\n",
      "ItemKNN weight: 0.12529973459943244\n",
      "EvaluatorHoldout: Processed 34728 (100.0%) in 13.02 sec. Users per second: 2668\n",
      "EvaluatorHoldout: Processed 35209 (100.0%) in 14.10 sec. Users per second: 2498\n"
     ]
    },
    {
     "name": "stderr",
     "output_type": "stream",
     "text": [
      "[I 2024-12-27 02:05:06,111] Trial 126 finished with value: 0.031022938354485323 and parameters: {'x_0': 0.061400119061537736, 'x_1': 0.3037435494881012, 'x_2': 0.5652967762182016}. Best is trial 112 with value: 0.03108707853870155.\n"
     ]
    },
    {
     "name": "stdout",
     "output_type": "stream",
     "text": [
      "__________Iteration 127______________\n",
      "SLIM weight: 0.6404471493123876\n",
      "RP3b weight: 0.31719060950395706\n",
      "ItemKNN weight: 0.04236224118365554\n",
      "EvaluatorHoldout: Processed 34728 (100.0%) in 13.06 sec. Users per second: 2658\n",
      "EvaluatorHoldout: Processed 35209 (100.0%) in 14.08 sec. Users per second: 2500\n"
     ]
    },
    {
     "name": "stderr",
     "output_type": "stream",
     "text": [
      "[I 2024-12-27 02:05:33,348] Trial 127 finished with value: 0.031062705451526125 and parameters: {'x_0': 0.04187041267993527, 'x_1': 0.20772073645383052, 'x_2': 0.8106741895528738}. Best is trial 112 with value: 0.03108707853870155.\n"
     ]
    },
    {
     "name": "stdout",
     "output_type": "stream",
     "text": [
      "__________Iteration 128______________\n",
      "SLIM weight: 0.5702971416085091\n",
      "RP3b weight: 0.388370096774208\n",
      "ItemKNN weight: 0.04133276161728303\n",
      "EvaluatorHoldout: Processed 34728 (100.0%) in 13.14 sec. Users per second: 2643\n",
      "EvaluatorHoldout: Processed 35209 (100.0%) in 14.01 sec. Users per second: 2513\n"
     ]
    },
    {
     "name": "stderr",
     "output_type": "stream",
     "text": [
      "[I 2024-12-27 02:06:00,589] Trial 128 finished with value: 0.030953893843492 and parameters: {'x_0': 0.08541256737794703, 'x_1': 0.1872278963255017, 'x_2': 0.8366833919928842}. Best is trial 112 with value: 0.03108707853870155.\n"
     ]
    },
    {
     "name": "stdout",
     "output_type": "stream",
     "text": [
      "__________Iteration 129______________\n",
      "SLIM weight: 0.6437365083404469\n",
      "RP3b weight: 0.31403860006090245\n",
      "ItemKNN weight: 0.04222489159865066\n",
      "EvaluatorHoldout: Processed 34728 (100.0%) in 13.09 sec. Users per second: 2652\n",
      "EvaluatorHoldout: Processed 35209 (100.0%) in 14.08 sec. Users per second: 2500\n"
     ]
    },
    {
     "name": "stderr",
     "output_type": "stream",
     "text": [
      "[I 2024-12-27 02:06:27,856] Trial 129 finished with value: 0.031059694523973034 and parameters: {'x_0': 0.038121578772393354, 'x_1': 0.20316196681646376, 'x_2': 0.807112583041393}. Best is trial 112 with value: 0.03108707853870155.\n"
     ]
    },
    {
     "name": "stdout",
     "output_type": "stream",
     "text": [
      "__________Iteration 130______________\n",
      "SLIM weight: 0.5303314105288456\n",
      "RP3b weight: 0.4352129117085953\n",
      "ItemKNN weight: 0.03445567776255928\n",
      "EvaluatorHoldout: Processed 34728 (100.0%) in 13.02 sec. Users per second: 2667\n",
      "EvaluatorHoldout: Processed 35209 (100.0%) in 13.99 sec. Users per second: 2517\n"
     ]
    },
    {
     "name": "stderr",
     "output_type": "stream",
     "text": [
      "[I 2024-12-27 02:06:54,953] Trial 130 finished with value: 0.030915509373524937 and parameters: {'x_0': 0.10500769560918591, 'x_1': 0.15731556328552032, 'x_2': 0.8637909542769248}. Best is trial 112 with value: 0.03108707853870155.\n"
     ]
    },
    {
     "name": "stdout",
     "output_type": "stream",
     "text": [
      "__________Iteration 131______________\n",
      "SLIM weight: 0.7151777569154889\n",
      "RP3b weight: 0.23773088718780816\n",
      "ItemKNN weight: 0.047091355896702915\n",
      "EvaluatorHoldout: Processed 34728 (100.0%) in 13.01 sec. Users per second: 2669\n",
      "EvaluatorHoldout: Processed 35209 (100.0%) in 14.16 sec. Users per second: 2486\n"
     ]
    },
    {
     "name": "stderr",
     "output_type": "stream",
     "text": [
      "[I 2024-12-27 02:07:22,223] Trial 131 finished with value: 0.031051123378783067 and parameters: {'x_0': 0.016421465269610754, 'x_1': 0.2551458112340697, 'x_2': 0.7629439051423498}. Best is trial 112 with value: 0.03108707853870155.\n"
     ]
    },
    {
     "name": "stdout",
     "output_type": "stream",
     "text": [
      "__________Iteration 132______________\n",
      "SLIM weight: 0.6455603934132269\n",
      "RP3b weight: 0.31206141382632385\n",
      "ItemKNN weight: 0.04237819276044916\n",
      "EvaluatorHoldout: Processed 34728 (100.0%) in 13.01 sec. Users per second: 2670\n",
      "EvaluatorHoldout: Processed 35209 (100.0%) in 14.06 sec. Users per second: 2504\n"
     ]
    },
    {
     "name": "stderr",
     "output_type": "stream",
     "text": [
      "[I 2024-12-27 02:07:49,384] Trial 132 finished with value: 0.031062198107376742 and parameters: {'x_0': 0.052774368872322355, 'x_1': 0.24122605263609395, 'x_2': 0.8243899856774891}. Best is trial 112 with value: 0.03108707853870155.\n"
     ]
    },
    {
     "name": "stdout",
     "output_type": "stream",
     "text": [
      "__________Iteration 133______________\n",
      "SLIM weight: 0.600327786563256\n",
      "RP3b weight: 0.36209624594990136\n",
      "ItemKNN weight: 0.03757596748684268\n",
      "EvaluatorHoldout: Processed 34728 (100.0%) in 13.07 sec. Users per second: 2657\n",
      "EvaluatorHoldout: Processed 35209 (100.0%) in 13.99 sec. Users per second: 2516\n"
     ]
    },
    {
     "name": "stderr",
     "output_type": "stream",
     "text": [
      "[I 2024-12-27 02:08:16,536] Trial 133 finished with value: 0.031003759831505863 and parameters: {'x_0': 0.07582141937935283, 'x_1': 0.21102336898537405, 'x_2': 0.8509096863620278}. Best is trial 112 with value: 0.03108707853870155.\n"
     ]
    },
    {
     "name": "stdout",
     "output_type": "stream",
     "text": [
      "__________Iteration 134______________\n",
      "SLIM weight: 0.6686928248303926\n",
      "RP3b weight: 0.28815226720144116\n",
      "ItemKNN weight: 0.04315490796816622\n",
      "EvaluatorHoldout: Processed 34728 (100.0%) in 13.09 sec. Users per second: 2654\n",
      "EvaluatorHoldout: Processed 35209 (100.0%) in 14.14 sec. Users per second: 2490\n"
     ]
    },
    {
     "name": "stderr",
     "output_type": "stream",
     "text": [
      "[I 2024-12-27 02:08:43,854] Trial 134 finished with value: 0.03108995577421528 and parameters: {'x_0': 0.050343124446471876, 'x_1': 0.2758301250115736, 'x_2': 0.8245711270070738}. Best is trial 134 with value: 0.03108995577421528.\n"
     ]
    },
    {
     "name": "stdout",
     "output_type": "stream",
     "text": [
      "__________Iteration 135______________\n",
      "SLIM weight: 0.6609811059713407\n",
      "RP3b weight: 0.2934684595178603\n",
      "ItemKNN weight: 0.045550434510798904\n",
      "EvaluatorHoldout: Processed 34728 (100.0%) in 13.01 sec. Users per second: 2669\n",
      "EvaluatorHoldout: Processed 35209 (100.0%) in 14.03 sec. Users per second: 2509\n"
     ]
    },
    {
     "name": "stderr",
     "output_type": "stream",
     "text": [
      "[I 2024-12-27 02:09:10,989] Trial 135 finished with value: 0.031069707714920913 and parameters: {'x_0': 0.05514226488153794, 'x_1': 0.27620579047665367, 'x_2': 0.8189765459646953}. Best is trial 134 with value: 0.03108995577421528.\n"
     ]
    },
    {
     "name": "stdout",
     "output_type": "stream",
     "text": [
      "__________Iteration 136______________\n",
      "SLIM weight: 0.5520506799955376\n",
      "RP3b weight: 0.36025483107104905\n",
      "ItemKNN weight: 0.08769448893341336\n",
      "EvaluatorHoldout: Processed 34728 (100.0%) in 13.12 sec. Users per second: 2647\n",
      "EvaluatorHoldout: Processed 35209 (100.0%) in 14.11 sec. Users per second: 2495\n"
     ]
    },
    {
     "name": "stderr",
     "output_type": "stream",
     "text": [
      "[I 2024-12-27 02:09:38,314] Trial 136 finished with value: 0.031017166743452913 and parameters: {'x_0': 0.13967227722529277, 'x_1': 0.2767704644924142, 'x_2': 0.7314739087632438}. Best is trial 134 with value: 0.03108995577421528.\n"
     ]
    },
    {
     "name": "stdout",
     "output_type": "stream",
     "text": [
      "__________Iteration 137______________\n",
      "SLIM weight: 0.6182564836846463\n",
      "RP3b weight: 0.3203567232129391\n",
      "ItemKNN weight: 0.06138679310241466\n",
      "EvaluatorHoldout: Processed 34728 (100.0%) in 13.02 sec. Users per second: 2668\n",
      "EvaluatorHoldout: Processed 35209 (100.0%) in 14.06 sec. Users per second: 2504\n"
     ]
    },
    {
     "name": "stderr",
     "output_type": "stream",
     "text": [
      "[I 2024-12-27 02:10:05,481] Trial 137 finished with value: 0.031052141495082786 and parameters: {'x_0': 0.11868081482852699, 'x_1': 0.3314206747591167, 'x_2': 0.8092730571569258}. Best is trial 134 with value: 0.03108995577421528.\n"
     ]
    },
    {
     "name": "stdout",
     "output_type": "stream",
     "text": [
      "__________Iteration 138______________\n",
      "SLIM weight: 0.5396162089348042\n",
      "RP3b weight: 0.37866821435367776\n",
      "ItemKNN weight: 0.08171557671151793\n",
      "EvaluatorHoldout: Processed 34728 (100.0%) in 12.96 sec. Users per second: 2680\n",
      "EvaluatorHoldout: Processed 35209 (100.0%) in 14.03 sec. Users per second: 2509\n"
     ]
    },
    {
     "name": "stderr",
     "output_type": "stream",
     "text": [
      "[I 2024-12-27 02:10:32,560] Trial 138 finished with value: 0.031002097251016384 and parameters: {'x_0': 0.17418689528693315, 'x_1': 0.2933547366853538, 'x_2': 0.7674761217092831}. Best is trial 134 with value: 0.03108995577421528.\n"
     ]
    },
    {
     "name": "stdout",
     "output_type": "stream",
     "text": [
      "__________Iteration 139______________\n",
      "SLIM weight: 0.6381171304574238\n",
      "RP3b weight: 0.3132201405835587\n",
      "ItemKNN weight: 0.04866272895901744\n",
      "EvaluatorHoldout: Processed 34728 (100.0%) in 13.05 sec. Users per second: 2661\n",
      "EvaluatorHoldout: Processed 35209 (100.0%) in 14.12 sec. Users per second: 2493\n"
     ]
    },
    {
     "name": "stderr",
     "output_type": "stream",
     "text": [
      "[I 2024-12-27 02:10:59,827] Trial 139 finished with value: 0.03105774056339779 and parameters: {'x_0': 0.09187652002227036, 'x_1': 0.3098049718155398, 'x_2': 0.8335547171018735}. Best is trial 134 with value: 0.03108995577421528.\n"
     ]
    },
    {
     "name": "stdout",
     "output_type": "stream",
     "text": [
      "__________Iteration 140______________\n",
      "SLIM weight: 0.14286374753250092\n",
      "RP3b weight: 0.7509493800012059\n",
      "ItemKNN weight: 0.1061868724662931\n",
      "EvaluatorHoldout: Processed 34728 (100.0%) in 13.08 sec. Users per second: 2655\n",
      "EvaluatorHoldout: Processed 35209 (100.0%) in 14.04 sec. Users per second: 2508\n"
     ]
    },
    {
     "name": "stderr",
     "output_type": "stream",
     "text": [
      "[I 2024-12-27 02:11:27,042] Trial 140 finished with value: 0.02984696603627944 and parameters: {'x_0': 0.8414283431269161, 'x_1': 0.40351518298718003, 'x_2': 0.879563515971582}. Best is trial 134 with value: 0.03108995577421528.\n"
     ]
    },
    {
     "name": "stdout",
     "output_type": "stream",
     "text": [
      "__________Iteration 141______________\n",
      "SLIM weight: 0.6413101115586112\n",
      "RP3b weight: 0.3159855415242321\n",
      "ItemKNN weight: 0.04270434691715678\n",
      "EvaluatorHoldout: Processed 34728 (100.0%) in 13.09 sec. Users per second: 2653\n",
      "EvaluatorHoldout: Processed 35209 (100.0%) in 14.27 sec. Users per second: 2467\n"
     ]
    },
    {
     "name": "stderr",
     "output_type": "stream",
     "text": [
      "[I 2024-12-27 02:11:54,490] Trial 141 finished with value: 0.031060469252201104 and parameters: {'x_0': 0.05104382323533569, 'x_1': 0.23087629065418017, 'x_2': 0.820281527558896}. Best is trial 134 with value: 0.03108995577421528.\n"
     ]
    },
    {
     "name": "stdout",
     "output_type": "stream",
     "text": [
      "__________Iteration 142______________\n",
      "SLIM weight: 0.6444280892387675\n",
      "RP3b weight: 0.3151490026436642\n",
      "ItemKNN weight: 0.040422908117568164\n",
      "EvaluatorHoldout: Processed 34728 (100.0%) in 13.02 sec. Users per second: 2667\n",
      "EvaluatorHoldout: Processed 35209 (100.0%) in 14.13 sec. Users per second: 2491\n"
     ]
    },
    {
     "name": "stderr",
     "output_type": "stream",
     "text": [
      "[I 2024-12-27 02:12:21,739] Trial 142 finished with value: 0.0310597927933353 and parameters: {'x_0': 0.06706355703082191, 'x_1': 0.2667527110152261, 'x_2': 0.8440909918956805}. Best is trial 134 with value: 0.03108995577421528.\n"
     ]
    },
    {
     "name": "stdout",
     "output_type": "stream",
     "text": [
      "__________Iteration 143______________\n",
      "SLIM weight: 0.6819412509418876\n",
      "RP3b weight: 0.26962386980492203\n",
      "ItemKNN weight: 0.04843487925319019\n",
      "EvaluatorHoldout: Processed 34728 (100.0%) in 13.03 sec. Users per second: 2664\n",
      "EvaluatorHoldout: Processed 35209 (100.0%) in 14.10 sec. Users per second: 2498\n"
     ]
    },
    {
     "name": "stderr",
     "output_type": "stream",
     "text": [
      "[I 2024-12-27 02:12:48,960] Trial 143 finished with value: 0.0310916583480498 and parameters: {'x_0': 0.04058762211960686, 'x_1': 0.2817026112300153, 'x_2': 0.796454833319984}. Best is trial 143 with value: 0.0310916583480498.\n"
     ]
    },
    {
     "name": "stdout",
     "output_type": "stream",
     "text": [
      "__________Iteration 144______________\n",
      "SLIM weight: 0.6823456835726955\n",
      "RP3b weight: 0.26774528258951436\n",
      "ItemKNN weight: 0.04990903383779013\n",
      "EvaluatorHoldout: Processed 34728 (100.0%) in 13.05 sec. Users per second: 2661\n",
      "EvaluatorHoldout: Processed 35209 (100.0%) in 14.02 sec. Users per second: 2512\n"
     ]
    },
    {
     "name": "stderr",
     "output_type": "stream",
     "text": [
      "[I 2024-12-27 02:13:16,120] Trial 144 finished with value: 0.031079103865687095 and parameters: {'x_0': 0.04108900809720677, 'x_1': 0.28578570515875173, 'x_2': 0.7917777287414945}. Best is trial 143 with value: 0.0310916583480498.\n"
     ]
    },
    {
     "name": "stdout",
     "output_type": "stream",
     "text": [
      "__________Iteration 145______________\n",
      "SLIM weight: 0.7035921816779487\n",
      "RP3b weight: 0.24367577087919862\n",
      "ItemKNN weight: 0.0527320474428527\n",
      "EvaluatorHoldout: Processed 34728 (100.0%) in 12.95 sec. Users per second: 2682\n",
      "EvaluatorHoldout: Processed 35209 (100.0%) in 14.03 sec. Users per second: 2509\n"
     ]
    },
    {
     "name": "stderr",
     "output_type": "stream",
     "text": [
      "[I 2024-12-27 02:13:43,194] Trial 145 finished with value: 0.031047650813760663 and parameters: {'x_0': 0.03755842691104496, 'x_1': 0.32090539085320186, 'x_2': 0.7819495762093484}. Best is trial 143 with value: 0.0310916583480498.\n"
     ]
    },
    {
     "name": "stdout",
     "output_type": "stream",
     "text": [
      "__________Iteration 146______________\n",
      "SLIM weight: 0.6877317703962862\n",
      "RP3b weight: 0.2552445918412014\n",
      "ItemKNN weight: 0.057023637762512416\n",
      "EvaluatorHoldout: Processed 34728 (100.0%) in 13.03 sec. Users per second: 2666\n",
      "EvaluatorHoldout: Processed 35209 (100.0%) in 14.10 sec. Users per second: 2497\n"
     ]
    },
    {
     "name": "stderr",
     "output_type": "stream",
     "text": [
      "[I 2024-12-27 02:14:10,411] Trial 146 finished with value: 0.03105350926748539 and parameters: {'x_0': 0.03030752368024224, 'x_1': 0.27317630530528625, 'x_2': 0.7483365636868441}. Best is trial 143 with value: 0.0310916583480498.\n"
     ]
    },
    {
     "name": "stdout",
     "output_type": "stream",
     "text": [
      "__________Iteration 147______________\n",
      "SLIM weight: 0.5679397943190841\n",
      "RP3b weight: 0.37646242191965357\n",
      "ItemKNN weight: 0.05559778376126219\n",
      "EvaluatorHoldout: Processed 34728 (100.0%) in 12.99 sec. Users per second: 2674\n",
      "EvaluatorHoldout: Processed 35209 (100.0%) in 13.92 sec. Users per second: 2529\n"
     ]
    },
    {
     "name": "stderr",
     "output_type": "stream",
     "text": [
      "[I 2024-12-27 02:14:37,408] Trial 147 finished with value: 0.03100829736217503 and parameters: {'x_0': 0.10148568714075021, 'x_1': 0.21947711614837595, 'x_2': 0.7993430281528532}. Best is trial 143 with value: 0.0310916583480498.\n"
     ]
    },
    {
     "name": "stdout",
     "output_type": "stream",
     "text": [
      "__________Iteration 148______________\n",
      "SLIM weight: 0.6850238228386788\n",
      "RP3b weight: 0.23959204567891265\n",
      "ItemKNN weight: 0.07538413148240863\n",
      "EvaluatorHoldout: Processed 34728 (100.0%) in 12.96 sec. Users per second: 2680\n",
      "EvaluatorHoldout: Processed 35209 (100.0%) in 14.04 sec. Users per second: 2507\n"
     ]
    },
    {
     "name": "stderr",
     "output_type": "stream",
     "text": [
      "[I 2024-12-27 02:15:04,500] Trial 148 finished with value: 0.031038926551192284 and parameters: {'x_0': 0.0484552909983091, 'x_1': 0.34688742847202997, 'x_2': 0.7166829268076919}. Best is trial 143 with value: 0.0310916583480498.\n"
     ]
    },
    {
     "name": "stdout",
     "output_type": "stream",
     "text": [
      "__________Iteration 149______________\n",
      "SLIM weight: 0.8106821817617031\n",
      "RP3b weight: 0.15624965958937892\n",
      "ItemKNN weight: 0.03306815864891796\n",
      "EvaluatorHoldout: Processed 34728 (100.0%) in 12.93 sec. Users per second: 2686\n",
      "EvaluatorHoldout: Processed 35209 (100.0%) in 13.92 sec. Users per second: 2530\n"
     ]
    },
    {
     "name": "stderr",
     "output_type": "stream",
     "text": [
      "[I 2024-12-27 02:15:31,438] Trial 149 finished with value: 0.03092015088689152 and parameters: {'x_0': 0.001555143178168697, 'x_1': 0.28757164608801206, 'x_2': 0.768158456094811}. Best is trial 143 with value: 0.0310916583480498.\n"
     ]
    },
    {
     "name": "stdout",
     "output_type": "stream",
     "text": [
      "__________Iteration 150______________\n",
      "SLIM weight: 0.3197011551519014\n",
      "RP3b weight: 0.488939647665005\n",
      "ItemKNN weight: 0.19135919718309352\n",
      "EvaluatorHoldout: Processed 34728 (100.0%) in 12.98 sec. Users per second: 2676\n",
      "EvaluatorHoldout: Processed 35209 (100.0%) in 13.97 sec. Users per second: 2520\n"
     ]
    },
    {
     "name": "stderr",
     "output_type": "stream",
     "text": [
      "[I 2024-12-27 02:15:58,482] Trial 150 finished with value: 0.030750894479729184 and parameters: {'x_0': 0.528788938177124, 'x_1': 0.37739646122530257, 'x_2': 0.6829184801394391}. Best is trial 143 with value: 0.0310916583480498.\n"
     ]
    },
    {
     "name": "stdout",
     "output_type": "stream",
     "text": [
      "__________Iteration 151______________\n",
      "SLIM weight: 0.6514243497481744\n",
      "RP3b weight: 0.29435197036719263\n",
      "ItemKNN weight: 0.05422367988463295\n",
      "EvaluatorHoldout: Processed 34728 (100.0%) in 12.97 sec. Users per second: 2679\n",
      "EvaluatorHoldout: Processed 35209 (100.0%) in 14.04 sec. Users per second: 2508\n"
     ]
    },
    {
     "name": "stderr",
     "output_type": "stream",
     "text": [
      "[I 2024-12-27 02:16:25,581] Trial 151 finished with value: 0.031086644325240376 and parameters: {'x_0': 0.07271938789825033, 'x_1': 0.3059330369659372, 'x_2': 0.8039801140369432}. Best is trial 143 with value: 0.0310916583480498.\n"
     ]
    },
    {
     "name": "stdout",
     "output_type": "stream",
     "text": [
      "__________Iteration 152______________\n",
      "SLIM weight: 0.6503510336313392\n",
      "RP3b weight: 0.2929681410022916\n",
      "ItemKNN weight: 0.05668082536636908\n",
      "EvaluatorHoldout: Processed 34728 (100.0%) in 12.99 sec. Users per second: 2673\n",
      "EvaluatorHoldout: Processed 35209 (100.0%) in 13.96 sec. Users per second: 2523\n"
     ]
    },
    {
     "name": "stderr",
     "output_type": "stream",
     "text": [
      "[I 2024-12-27 02:16:52,622] Trial 152 finished with value: 0.031079725476536788 and parameters: {'x_0': 0.07625044557183153, 'x_1': 0.3136721600989266, 'x_2': 0.7990661382160374}. Best is trial 143 with value: 0.0310916583480498.\n"
     ]
    },
    {
     "name": "stdout",
     "output_type": "stream",
     "text": [
      "__________Iteration 153______________\n",
      "SLIM weight: 0.6873570073147628\n",
      "RP3b weight: 0.2709564955867873\n",
      "ItemKNN weight: 0.041686497098449814\n",
      "EvaluatorHoldout: Processed 34728 (100.0%) in 12.97 sec. Users per second: 2679\n",
      "EvaluatorHoldout: Processed 35209 (100.0%) in 13.95 sec. Users per second: 2525\n"
     ]
    },
    {
     "name": "stderr",
     "output_type": "stream",
     "text": [
      "[I 2024-12-27 02:17:19,621] Trial 153 finished with value: 0.031099257083620213 and parameters: {'x_0': 0.03298198312010739, 'x_1': 0.2605577034002827, 'x_2': 0.8130872708464465}. Best is trial 153 with value: 0.031099257083620213.\n"
     ]
    },
    {
     "name": "stdout",
     "output_type": "stream",
     "text": [
      "__________Iteration 154______________\n",
      "SLIM weight: 0.6026366170918204\n",
      "RP3b weight: 0.33830236211579906\n",
      "ItemKNN weight: 0.0590610207923805\n",
      "EvaluatorHoldout: Processed 34728 (100.0%) in 13.03 sec. Users per second: 2665\n",
      "EvaluatorHoldout: Processed 35209 (100.0%) in 14.03 sec. Users per second: 2509\n"
     ]
    },
    {
     "name": "stderr",
     "output_type": "stream",
     "text": [
      "[I 2024-12-27 02:17:46,775] Trial 154 finished with value: 0.031029091616296946 and parameters: {'x_0': 0.08949404679363773, 'x_1': 0.2579694365358266, 'x_2': 0.7893529708003577}. Best is trial 153 with value: 0.031099257083620213.\n"
     ]
    },
    {
     "name": "stdout",
     "output_type": "stream",
     "text": [
      "__________Iteration 155______________\n",
      "SLIM weight: 0.017492785829801665\n",
      "RP3b weight: 0.8626920231356754\n",
      "ItemKNN weight: 0.11981519103452297\n",
      "EvaluatorHoldout: Processed 34728 (100.0%) in 12.90 sec. Users per second: 2693\n",
      "EvaluatorHoldout: Processed 35209 (100.0%) in 14.03 sec. Users per second: 2510\n"
     ]
    },
    {
     "name": "stderr",
     "output_type": "stream",
     "text": [
      "[I 2024-12-27 02:18:13,792] Trial 155 finished with value: 0.029264660646181953 and parameters: {'x_0': 0.9763861366546479, 'x_1': 0.3077290412243635, 'x_2': 0.8490126392352753}. Best is trial 153 with value: 0.031099257083620213.\n"
     ]
    },
    {
     "name": "stdout",
     "output_type": "stream",
     "text": [
      "__________Iteration 156______________\n",
      "SLIM weight: 0.6537195488674103\n",
      "RP3b weight: 0.3010413681717233\n",
      "ItemKNN weight: 0.04523908296086647\n",
      "EvaluatorHoldout: Processed 34728 (100.0%) in 12.97 sec. Users per second: 2679\n",
      "EvaluatorHoldout: Processed 35209 (100.0%) in 14.01 sec. Users per second: 2512\n"
     ]
    },
    {
     "name": "stderr",
     "output_type": "stream",
     "text": [
      "[I 2024-12-27 02:18:40,864] Trial 156 finished with value: 0.03106202556465929 and parameters: {'x_0': 0.06262409854233691, 'x_1': 0.2791855801878658, 'x_2': 0.8255272240953391}. Best is trial 153 with value: 0.031099257083620213.\n"
     ]
    },
    {
     "name": "stdout",
     "output_type": "stream",
     "text": [
      "__________Iteration 157______________\n",
      "SLIM weight: 0.6176091322909146\n",
      "RP3b weight: 0.29915033031302024\n",
      "ItemKNN weight: 0.08324053739606502\n",
      "EvaluatorHoldout: Processed 34728 (100.0%) in 12.94 sec. Users per second: 2683\n",
      "EvaluatorHoldout: Processed 35209 (100.0%) in 13.97 sec. Users per second: 2520\n"
     ]
    },
    {
     "name": "stderr",
     "output_type": "stream",
     "text": [
      "[I 2024-12-27 02:19:07,875] Trial 157 finished with value: 0.031048986591487224 and parameters: {'x_0': 0.11496720852204978, 'x_1': 0.35072905952421174, 'x_2': 0.7471114828064525}. Best is trial 153 with value: 0.031099257083620213.\n"
     ]
    },
    {
     "name": "stdout",
     "output_type": "stream",
     "text": [
      "__________Iteration 158______________\n",
      "SLIM weight: 0.7045895870762964\n",
      "RP3b weight: 0.25500364984821977\n",
      "ItemKNN weight: 0.040406763075483784\n",
      "EvaluatorHoldout: Processed 34728 (100.0%) in 13.00 sec. Users per second: 2671\n",
      "EvaluatorHoldout: Processed 35209 (100.0%) in 14.03 sec. Users per second: 2510\n"
     ]
    },
    {
     "name": "stderr",
     "output_type": "stream",
     "text": [
      "[I 2024-12-27 02:19:34,991] Trial 158 finished with value: 0.031070573856509253 and parameters: {'x_0': 0.020560043948185266, 'x_1': 0.24516193720908408, 'x_2': 0.8003047594845425}. Best is trial 153 with value: 0.031099257083620213.\n"
     ]
    },
    {
     "name": "stdout",
     "output_type": "stream",
     "text": [
      "__________Iteration 159______________\n",
      "SLIM weight: 0.6870076097434615\n",
      "RP3b weight: 0.26807476323290436\n",
      "ItemKNN weight: 0.04491762702363409\n",
      "EvaluatorHoldout: Processed 34728 (100.0%) in 13.02 sec. Users per second: 2668\n",
      "EvaluatorHoldout: Processed 35209 (100.0%) in 14.00 sec. Users per second: 2515\n"
     ]
    },
    {
     "name": "stderr",
     "output_type": "stream",
     "text": [
      "[I 2024-12-27 02:20:02,099] Trial 159 finished with value: 0.03109569881857266 and parameters: {'x_0': 0.031220763239234135, 'x_1': 0.25853671765116437, 'x_2': 0.7971946459960686}. Best is trial 153 with value: 0.031099257083620213.\n"
     ]
    },
    {
     "name": "stdout",
     "output_type": "stream",
     "text": [
      "__________Iteration 160______________\n",
      "SLIM weight: 0.5845615562196843\n",
      "RP3b weight: 0.233690765534683\n",
      "ItemKNN weight: 0.18174767824563265\n",
      "EvaluatorHoldout: Processed 34728 (100.0%) in 13.02 sec. Users per second: 2667\n",
      "EvaluatorHoldout: Processed 35209 (100.0%) in 13.96 sec. Users per second: 2522\n"
     ]
    },
    {
     "name": "stderr",
     "output_type": "stream",
     "text": [
      "[I 2024-12-27 02:20:29,176] Trial 160 finished with value: 0.030916624616520057 and parameters: {'x_0': 0.028150404886680896, 'x_1': 0.23996555449328563, 'x_2': 0.32955272604049257}. Best is trial 153 with value: 0.031099257083620213.\n"
     ]
    },
    {
     "name": "stdout",
     "output_type": "stream",
     "text": [
      "__________Iteration 161______________\n",
      "SLIM weight: 0.7165456508092872\n",
      "RP3b weight: 0.24262211134166847\n",
      "ItemKNN weight: 0.04083223784904439\n",
      "EvaluatorHoldout: Processed 34728 (100.0%) in 12.96 sec. Users per second: 2680\n",
      "EvaluatorHoldout: Processed 35209 (100.0%) in 13.93 sec. Users per second: 2527\n"
     ]
    },
    {
     "name": "stderr",
     "output_type": "stream",
     "text": [
      "[I 2024-12-27 02:20:56,155] Trial 161 finished with value: 0.03104925626090005 and parameters: {'x_0': 0.019900410407239548, 'x_1': 0.2654576640711694, 'x_2': 0.7999464740535611}. Best is trial 153 with value: 0.031099257083620213.\n"
     ]
    },
    {
     "name": "stdout",
     "output_type": "stream",
     "text": [
      "__________Iteration 162______________\n",
      "SLIM weight: 0.6669633387753824\n",
      "RP3b weight: 0.2946494041971263\n",
      "ItemKNN weight: 0.038387257027491135\n",
      "EvaluatorHoldout: Processed 34728 (100.0%) in 12.98 sec. Users per second: 2675\n",
      "EvaluatorHoldout: Processed 35209 (100.0%) in 14.09 sec. Users per second: 2499\n"
     ]
    },
    {
     "name": "stderr",
     "output_type": "stream",
     "text": [
      "[I 2024-12-27 02:21:23,314] Trial 162 finished with value: 0.031064328038670465 and parameters: {'x_0': 0.04096128764026049, 'x_1': 0.24376865553070215, 'x_2': 0.8320219499981513}. Best is trial 153 with value: 0.031099257083620213.\n"
     ]
    },
    {
     "name": "stdout",
     "output_type": "stream",
     "text": [
      "__________Iteration 163______________\n",
      "SLIM weight: 0.7225993257940292\n",
      "RP3b weight: 0.22983271264392283\n",
      "ItemKNN weight: 0.047567961562048\n",
      "EvaluatorHoldout: Processed 34728 (100.0%) in 13.15 sec. Users per second: 2641\n",
      "EvaluatorHoldout: Processed 35209 (100.0%) in 14.16 sec. Users per second: 2486\n"
     ]
    },
    {
     "name": "stderr",
     "output_type": "stream",
     "text": [
      "[I 2024-12-27 02:21:50,718] Trial 163 finished with value: 0.03104403541536306 and parameters: {'x_0': 0.022240852435865804, 'x_1': 0.29804966972688834, 'x_2': 0.7783854311846498}. Best is trial 153 with value: 0.031099257083620213.\n"
     ]
    },
    {
     "name": "stdout",
     "output_type": "stream",
     "text": [
      "__________Iteration 164______________\n",
      "SLIM weight: 0.8900665940556465\n",
      "RP3b weight: 0.07808652518980627\n",
      "ItemKNN weight: 0.0318468807545473\n",
      "EvaluatorHoldout: Processed 34728 (100.0%) in 13.04 sec. Users per second: 2664\n",
      "EvaluatorHoldout: Processed 35209 (100.0%) in 14.13 sec. Users per second: 2493\n"
     ]
    },
    {
     "name": "stderr",
     "output_type": "stream",
     "text": [
      "[I 2024-12-27 02:22:17,971] Trial 164 finished with value: 0.030806152713330474 and parameters: {'x_0': 0.002180594000076405, 'x_1': 0.5841309655022258, 'x_2': 0.8031068231836976}. Best is trial 153 with value: 0.031099257083620213.\n"
     ]
    },
    {
     "name": "stdout",
     "output_type": "stream",
     "text": [
      "__________Iteration 165______________\n",
      "SLIM weight: 0.406432680841125\n",
      "RP3b weight: 0.5312119769445663\n",
      "ItemKNN weight: 0.062355342214308586\n",
      "EvaluatorHoldout: Processed 34728 (100.0%) in 13.10 sec. Users per second: 2651\n",
      "EvaluatorHoldout: Processed 35209 (100.0%) in 14.10 sec. Users per second: 2497\n"
     ]
    },
    {
     "name": "stderr",
     "output_type": "stream",
     "text": [
      "[I 2024-12-27 02:22:45,261] Trial 165 finished with value: 0.030779955929618102 and parameters: {'x_0': 0.36041800741116764, 'x_1': 0.2634760866395812, 'x_2': 0.8550761048470509}. Best is trial 153 with value: 0.031099257083620213.\n"
     ]
    },
    {
     "name": "stdout",
     "output_type": "stream",
     "text": [
      "__________Iteration 166______________\n",
      "SLIM weight: 0.5969865673126039\n",
      "RP3b weight: 0.35548811907936834\n",
      "ItemKNN weight: 0.04752531360802768\n",
      "EvaluatorHoldout: Processed 34728 (100.0%) in 13.06 sec. Users per second: 2658\n",
      "EvaluatorHoldout: Processed 35209 (100.0%) in 14.08 sec. Users per second: 2500\n"
     ]
    },
    {
     "name": "stderr",
     "output_type": "stream",
     "text": [
      "[I 2024-12-27 02:23:12,496] Trial 166 finished with value: 0.030998974342097002 and parameters: {'x_0': 0.08073468329629231, 'x_1': 0.2234529737878073, 'x_2': 0.8184506520975223}. Best is trial 153 with value: 0.031099257083620213.\n"
     ]
    },
    {
     "name": "stdout",
     "output_type": "stream",
     "text": [
      "__________Iteration 167______________\n",
      "SLIM weight: 0.6581924485553046\n",
      "RP3b weight: 0.2803579287046869\n",
      "ItemKNN weight: 0.061449622740008515\n",
      "EvaluatorHoldout: Processed 34728 (100.0%) in 13.03 sec. Users per second: 2664\n",
      "EvaluatorHoldout: Processed 35209 (100.0%) in 14.04 sec. Users per second: 2508\n"
     ]
    },
    {
     "name": "stderr",
     "output_type": "stream",
     "text": [
      "[I 2024-12-27 02:23:39,661] Trial 167 finished with value: 0.03107170509684224 and parameters: {'x_0': 0.05199779254569039, 'x_1': 0.28383902263068295, 'x_2': 0.7587921644791951}. Best is trial 153 with value: 0.031099257083620213.\n"
     ]
    },
    {
     "name": "stdout",
     "output_type": "stream",
     "text": [
      "__________Iteration 168______________\n",
      "SLIM weight: 0.6897784330980358\n",
      "RP3b weight: 0.2556508977798168\n",
      "ItemKNN weight: 0.05457066912214738\n",
      "EvaluatorHoldout: Processed 34728 (100.0%) in 13.03 sec. Users per second: 2664\n",
      "EvaluatorHoldout: Processed 35209 (100.0%) in 14.10 sec. Users per second: 2497\n"
     ]
    },
    {
     "name": "stderr",
     "output_type": "stream",
     "text": [
      "[I 2024-12-27 02:24:06,889] Trial 168 finished with value: 0.031056619607067758 and parameters: {'x_0': 0.039509898814078286, 'x_1': 0.3019260170080049, 'x_2': 0.7744274377628203}. Best is trial 153 with value: 0.031099257083620213.\n"
     ]
    },
    {
     "name": "stdout",
     "output_type": "stream",
     "text": [
      "__________Iteration 169______________\n",
      "SLIM weight: 0.7751504904451293\n",
      "RP3b weight: 0.13358544285810314\n",
      "ItemKNN weight: 0.09126406669676752\n",
      "EvaluatorHoldout: Processed 34728 (100.0%) in 13.06 sec. Users per second: 2658\n",
      "EvaluatorHoldout: Processed 35209 (100.0%) in 14.08 sec. Users per second: 2501\n"
     ]
    },
    {
     "name": "stderr",
     "output_type": "stream",
     "text": [
      "[I 2024-12-27 02:24:34,120] Trial 169 finished with value: 0.03095103146264954 and parameters: {'x_0': 0.09895085387183233, 'x_1': 0.6712368319976509, 'x_2': 0.761593951700894}. Best is trial 153 with value: 0.031099257083620213.\n"
     ]
    },
    {
     "name": "stdout",
     "output_type": "stream",
     "text": [
      "__________Iteration 170______________\n",
      "SLIM weight: 0.14516066167463687\n",
      "RP3b weight: 0.7319784066239775\n",
      "ItemKNN weight: 0.1228609317013856\n",
      "EvaluatorHoldout: Processed 34728 (100.0%) in 13.06 sec. Users per second: 2658\n",
      "EvaluatorHoldout: Processed 35209 (100.0%) in 14.08 sec. Users per second: 2500\n"
     ]
    },
    {
     "name": "stderr",
     "output_type": "stream",
     "text": [
      "[I 2024-12-27 02:25:01,357] Trial 170 finished with value: 0.029962761625036277 and parameters: {'x_0': 0.7588156799081156, 'x_1': 0.24864659145640206, 'x_2': 0.7916803793322911}. Best is trial 153 with value: 0.031099257083620213.\n"
     ]
    },
    {
     "name": "stdout",
     "output_type": "stream",
     "text": [
      "__________Iteration 171______________\n",
      "SLIM weight: 0.6565796571262336\n",
      "RP3b weight: 0.2963788480657866\n",
      "ItemKNN weight: 0.04704149480797981\n",
      "EvaluatorHoldout: Processed 34728 (100.0%) in 13.04 sec. Users per second: 2663\n",
      "EvaluatorHoldout: Processed 35209 (100.0%) in 14.07 sec. Users per second: 2503\n"
     ]
    },
    {
     "name": "stderr",
     "output_type": "stream",
     "text": [
      "[I 2024-12-27 02:25:28,554] Trial 171 finished with value: 0.031057498317993145 and parameters: {'x_0': 0.05763062971201201, 'x_1': 0.275779011988775, 'x_2': 0.8150897181463184}. Best is trial 153 with value: 0.031099257083620213.\n"
     ]
    },
    {
     "name": "stdout",
     "output_type": "stream",
     "text": [
      "__________Iteration 172______________\n",
      "SLIM weight: 0.6573739002930891\n",
      "RP3b weight: 0.30087871148609485\n",
      "ItemKNN weight: 0.04174738822081614\n",
      "EvaluatorHoldout: Processed 34728 (100.0%) in 13.05 sec. Users per second: 2661\n",
      "EvaluatorHoldout: Processed 35209 (100.0%) in 14.10 sec. Users per second: 2497\n"
     ]
    },
    {
     "name": "stderr",
     "output_type": "stream",
     "text": [
      "[I 2024-12-27 02:25:55,794] Trial 172 finished with value: 0.031052308324465216 and parameters: {'x_0': 0.06148665235290277, 'x_1': 0.27901492264052297, 'x_2': 0.8376834700997763}. Best is trial 153 with value: 0.031099257083620213.\n"
     ]
    },
    {
     "name": "stdout",
     "output_type": "stream",
     "text": [
      "__________Iteration 173______________\n",
      "SLIM weight: 0.7417020960032299\n",
      "RP3b weight: 0.23012363774804068\n",
      "ItemKNN weight: 0.0281742662487292\n",
      "EvaluatorHoldout: Processed 34728 (100.0%) in 12.96 sec. Users per second: 2680\n",
      "EvaluatorHoldout: Processed 35209 (100.0%) in 14.11 sec. Users per second: 2495\n"
     ]
    },
    {
     "name": "stderr",
     "output_type": "stream",
     "text": [
      "[I 2024-12-27 02:26:22,957] Trial 173 finished with value: 0.031016234327178375 and parameters: {'x_0': 0.02394270456871642, 'x_1': 0.3141343334926153, 'x_2': 0.8678233635890057}. Best is trial 153 with value: 0.031099257083620213.\n"
     ]
    },
    {
     "name": "stdout",
     "output_type": "stream",
     "text": [
      "__________Iteration 174______________\n",
      "SLIM weight: 0.6337760366888278\n",
      "RP3b weight: 0.3111281938880142\n",
      "ItemKNN weight: 0.05509576942315801\n",
      "EvaluatorHoldout: Processed 34728 (100.0%) in 13.04 sec. Users per second: 2663\n",
      "EvaluatorHoldout: Processed 35209 (100.0%) in 14.16 sec. Users per second: 2487\n"
     ]
    },
    {
     "name": "stderr",
     "output_type": "stream",
     "text": [
      "[I 2024-12-27 02:26:50,252] Trial 174 finished with value: 0.03106164734188126 and parameters: {'x_0': 0.07837747525460648, 'x_1': 0.28651366686913976, 'x_2': 0.8014366943289043}. Best is trial 153 with value: 0.031099257083620213.\n"
     ]
    },
    {
     "name": "stdout",
     "output_type": "stream",
     "text": [
      "__________Iteration 175______________\n",
      "SLIM weight: 0.6372760645840524\n",
      "RP3b weight: 0.3011030608794564\n",
      "ItemKNN weight: 0.06162087453649122\n",
      "EvaluatorHoldout: Processed 34728 (100.0%) in 13.06 sec. Users per second: 2660\n",
      "EvaluatorHoldout: Processed 35209 (100.0%) in 14.07 sec. Users per second: 2502\n"
     ]
    },
    {
     "name": "stderr",
     "output_type": "stream",
     "text": [
      "[I 2024-12-27 02:27:17,471] Trial 175 finished with value: 0.031080905851550957 and parameters: {'x_0': 0.04531473949241064, 'x_1': 0.23178962353489085, 'x_2': 0.741423256124767}. Best is trial 153 with value: 0.031099257083620213.\n"
     ]
    },
    {
     "name": "stdout",
     "output_type": "stream",
     "text": [
      "__________Iteration 176______________\n",
      "SLIM weight: 0.6362234727987465\n",
      "RP3b weight: 0.30770622612835\n",
      "ItemKNN weight: 0.05607030107290352\n",
      "EvaluatorHoldout: Processed 34728 (100.0%) in 12.99 sec. Users per second: 2673\n",
      "EvaluatorHoldout: Processed 35209 (100.0%) in 14.12 sec. Users per second: 2494\n"
     ]
    },
    {
     "name": "stderr",
     "output_type": "stream",
     "text": [
      "[I 2024-12-27 02:27:44,674] Trial 176 finished with value: 0.031073527650712172 and parameters: {'x_0': 0.03456141352685148, 'x_1': 0.19642522414387759, 'x_2': 0.7433720663382177}. Best is trial 153 with value: 0.031099257083620213.\n"
     ]
    },
    {
     "name": "stdout",
     "output_type": "stream",
     "text": [
      "__________Iteration 177______________\n",
      "SLIM weight: 0.3129404090965152\n",
      "RP3b weight: 0.5727953473171026\n",
      "ItemKNN weight: 0.11426424358638208\n",
      "EvaluatorHoldout: Processed 34728 (100.0%) in 13.04 sec. Users per second: 2664\n",
      "EvaluatorHoldout: Processed 35209 (100.0%) in 14.09 sec. Users per second: 2498\n"
     ]
    },
    {
     "name": "stderr",
     "output_type": "stream",
     "text": [
      "[I 2024-12-27 02:28:11,897] Trial 177 finished with value: 0.030614060106111774 and parameters: {'x_0': 0.43667687655716575, 'x_1': 0.219463152843836, 'x_2': 0.738943670200458}. Best is trial 153 with value: 0.031099257083620213.\n"
     ]
    },
    {
     "name": "stdout",
     "output_type": "stream",
     "text": [
      "__________Iteration 178______________\n",
      "SLIM weight: 0.6094014477714195\n",
      "RP3b weight: 0.338067828228289\n",
      "ItemKNN weight: 0.05253072400029154\n",
      "EvaluatorHoldout: Processed 34728 (100.0%) in 13.04 sec. Users per second: 2663\n",
      "EvaluatorHoldout: Processed 35209 (100.0%) in 14.12 sec. Users per second: 2493\n"
     ]
    },
    {
     "name": "stderr",
     "output_type": "stream",
     "text": [
      "[I 2024-12-27 02:28:39,156] Trial 178 finished with value: 0.031029268729682393 and parameters: {'x_0': 0.04059162002192679, 'x_1': 0.16905369237223253, 'x_2': 0.7586587785029548}. Best is trial 153 with value: 0.031099257083620213.\n"
     ]
    },
    {
     "name": "stdout",
     "output_type": "stream",
     "text": [
      "__________Iteration 179______________\n",
      "SLIM weight: 0.7318039419547837\n",
      "RP3b weight: 0.17774370206936516\n",
      "ItemKNN weight: 0.09045235597585113\n",
      "EvaluatorHoldout: Processed 34728 (100.0%) in 13.07 sec. Users per second: 2656\n",
      "EvaluatorHoldout: Processed 35209 (100.0%) in 14.10 sec. Users per second: 2498\n"
     ]
    },
    {
     "name": "stderr",
     "output_type": "stream",
     "text": [
      "[I 2024-12-27 02:29:06,417] Trial 179 finished with value: 0.031011887621898895 and parameters: {'x_0': 0.08112608278617775, 'x_1': 0.543315621936713, 'x_2': 0.7331117301545189}. Best is trial 153 with value: 0.031099257083620213.\n"
     ]
    },
    {
     "name": "stdout",
     "output_type": "stream",
     "text": [
      "__________Iteration 180______________\n",
      "SLIM weight: 0.7566619943844742\n",
      "RP3b weight: 0.21056146126014566\n",
      "ItemKNN weight: 0.03277654435538013\n",
      "EvaluatorHoldout: Processed 34728 (100.0%) in 13.09 sec. Users per second: 2653\n",
      "EvaluatorHoldout: Processed 35209 (100.0%) in 14.10 sec. Users per second: 2497\n"
     ]
    },
    {
     "name": "stderr",
     "output_type": "stream",
     "text": [
      "[I 2024-12-27 02:29:33,702] Trial 180 finished with value: 0.030988982861822223 and parameters: {'x_0': 0.003018422879285429, 'x_1': 0.19892131606225516, 'x_2': 0.7777336896159137}. Best is trial 153 with value: 0.031099257083620213.\n"
     ]
    },
    {
     "name": "stdout",
     "output_type": "stream",
     "text": [
      "__________Iteration 181______________\n",
      "SLIM weight: 0.6847533162708821\n",
      "RP3b weight: 0.27062803416549996\n",
      "ItemKNN weight: 0.04461864956361798\n",
      "EvaluatorHoldout: Processed 34728 (100.0%) in 13.06 sec. Users per second: 2659\n",
      "EvaluatorHoldout: Processed 35209 (100.0%) in 14.04 sec. Users per second: 2508\n"
     ]
    },
    {
     "name": "stderr",
     "output_type": "stream",
     "text": [
      "[I 2024-12-27 02:30:00,891] Trial 181 finished with value: 0.0310995804583821 and parameters: {'x_0': 0.027137934163696125, 'x_1': 0.24039122417700087, 'x_2': 0.7905540735249205}. Best is trial 181 with value: 0.0310995804583821.\n"
     ]
    },
    {
     "name": "stdout",
     "output_type": "stream",
     "text": [
      "__________Iteration 182______________\n",
      "SLIM weight: 0.6359766798724041\n",
      "RP3b weight: 0.3038314569828592\n",
      "ItemKNN weight: 0.06019186314473678\n",
      "EvaluatorHoldout: Processed 34728 (100.0%) in 13.02 sec. Users per second: 2668\n",
      "EvaluatorHoldout: Processed 35209 (100.0%) in 14.01 sec. Users per second: 2513\n"
     ]
    },
    {
     "name": "stderr",
     "output_type": "stream",
     "text": [
      "[I 2024-12-27 02:30:28,014] Trial 182 finished with value: 0.03107910729368814 and parameters: {'x_0': 0.048704577457233035, 'x_1': 0.23604764583435514, 'x_2': 0.7512514976467642}. Best is trial 181 with value: 0.0310995804583821.\n"
     ]
    },
    {
     "name": "stdout",
     "output_type": "stream",
     "text": [
      "__________Iteration 183______________\n",
      "SLIM weight: 0.6495426648925703\n",
      "RP3b weight: 0.29435765521281393\n",
      "ItemKNN weight: 0.05609967989461575\n",
      "EvaluatorHoldout: Processed 34728 (100.0%) in 13.09 sec. Users per second: 2652\n",
      "EvaluatorHoldout: Processed 35209 (100.0%) in 14.14 sec. Users per second: 2489\n"
     ]
    },
    {
     "name": "stderr",
     "output_type": "stream",
     "text": [
      "[I 2024-12-27 02:30:55,341] Trial 183 finished with value: 0.03107840226814724 and parameters: {'x_0': 0.04025471755545518, 'x_1': 0.2332036580757659, 'x_2': 0.7577062351429777}. Best is trial 181 with value: 0.0310995804583821.\n"
     ]
    },
    {
     "name": "stdout",
     "output_type": "stream",
     "text": [
      "__________Iteration 184______________\n",
      "SLIM weight: 0.6315514481370326\n",
      "RP3b weight: 0.315152997273271\n",
      "ItemKNN weight: 0.05329555458969649\n",
      "EvaluatorHoldout: Processed 34728 (100.0%) in 12.97 sec. Users per second: 2678\n",
      "EvaluatorHoldout: Processed 35209 (100.0%) in 14.01 sec. Users per second: 2514\n"
     ]
    },
    {
     "name": "stderr",
     "output_type": "stream",
     "text": [
      "[I 2024-12-27 02:31:22,402] Trial 184 finished with value: 0.03106275687154125 and parameters: {'x_0': 0.03521180728260092, 'x_1': 0.18826828336861728, 'x_2': 0.7539759517208574}. Best is trial 181 with value: 0.0310995804583821.\n"
     ]
    },
    {
     "name": "stdout",
     "output_type": "stream",
     "text": [
      "__________Iteration 185______________\n",
      "SLIM weight: 0.6218187728418308\n",
      "RP3b weight: 0.31012509465991744\n",
      "ItemKNN weight: 0.06805613249825164\n",
      "EvaluatorHoldout: Processed 34728 (100.0%) in 13.07 sec. Users per second: 2656\n",
      "EvaluatorHoldout: Processed 35209 (100.0%) in 14.11 sec. Users per second: 2496\n"
     ]
    },
    {
     "name": "stderr",
     "output_type": "stream",
     "text": [
      "[I 2024-12-27 02:31:49,673] Trial 185 finished with value: 0.031052515147192768 and parameters: {'x_0': 0.0526300659399637, 'x_1': 0.23026601640866004, 'x_2': 0.724507733305273}. Best is trial 181 with value: 0.0310995804583821.\n"
     ]
    },
    {
     "name": "stdout",
     "output_type": "stream",
     "text": [
      "__________Iteration 186______________\n",
      "SLIM weight: 0.6514598432838101\n",
      "RP3b weight: 0.24249089812985178\n",
      "ItemKNN weight: 0.10604925858633817\n",
      "EvaluatorHoldout: Processed 34728 (100.0%) in 13.07 sec. Users per second: 2657\n",
      "EvaluatorHoldout: Processed 35209 (100.0%) in 14.05 sec. Users per second: 2506\n"
     ]
    },
    {
     "name": "stderr",
     "output_type": "stream",
     "text": [
      "[I 2024-12-27 02:32:16,885] Trial 186 finished with value: 0.031041189031858336 and parameters: {'x_0': 0.015194633368737581, 'x_1': 0.21046318238906644, 'x_2': 0.5058277194663859}. Best is trial 181 with value: 0.0310995804583821.\n"
     ]
    },
    {
     "name": "stdout",
     "output_type": "stream",
     "text": [
      "__________Iteration 187______________\n",
      "SLIM weight: 0.5806870745163579\n",
      "RP3b weight: 0.36367296730727056\n",
      "ItemKNN weight: 0.055639958176371435\n",
      "EvaluatorHoldout: Processed 34728 (100.0%) in 13.04 sec. Users per second: 2663\n",
      "EvaluatorHoldout: Processed 35209 (100.0%) in 14.11 sec. Users per second: 2495\n"
     ]
    },
    {
     "name": "stderr",
     "output_type": "stream",
     "text": [
      "[I 2024-12-27 02:32:44,125] Trial 187 finished with value: 0.031020214236350024 and parameters: {'x_0': 0.06867814616967856, 'x_1': 0.18686251798789608, 'x_2': 0.7736542470508222}. Best is trial 181 with value: 0.0310995804583821.\n"
     ]
    },
    {
     "name": "stdout",
     "output_type": "stream",
     "text": [
      "__________Iteration 188______________\n",
      "SLIM weight: 0.6687451548821133\n",
      "RP3b weight: 0.27227017845015816\n",
      "ItemKNN weight: 0.05898466666772863\n",
      "EvaluatorHoldout: Processed 34728 (100.0%) in 13.07 sec. Users per second: 2656\n",
      "EvaluatorHoldout: Processed 35209 (100.0%) in 14.05 sec. Users per second: 2506\n"
     ]
    },
    {
     "name": "stderr",
     "output_type": "stream",
     "text": [
      "[I 2024-12-27 02:33:11,334] Trial 188 finished with value: 0.031078610233541793 and parameters: {'x_0': 0.03580876304391279, 'x_1': 0.2577965501411776, 'x_2': 0.7455194045403359}. Best is trial 181 with value: 0.0310995804583821.\n"
     ]
    },
    {
     "name": "stdout",
     "output_type": "stream",
     "text": [
      "__________Iteration 189______________\n",
      "SLIM weight: 0.6734787555442826\n",
      "RP3b weight: 0.2615980275950642\n",
      "ItemKNN weight: 0.0649232168606533\n",
      "EvaluatorHoldout: Processed 34728 (100.0%) in 13.07 sec. Users per second: 2658\n",
      "EvaluatorHoldout: Processed 35209 (100.0%) in 14.07 sec. Users per second: 2502\n"
     ]
    },
    {
     "name": "stderr",
     "output_type": "stream",
     "text": [
      "[I 2024-12-27 02:33:38,560] Trial 189 finished with value: 0.031067578926294144 and parameters: {'x_0': 0.02808280315660061, 'x_1': 0.24964954551506166, 'x_2': 0.7086470300921756}. Best is trial 181 with value: 0.0310995804583821.\n"
     ]
    },
    {
     "name": "stdout",
     "output_type": "stream",
     "text": [
      "__________Iteration 190______________\n",
      "SLIM weight: 0.7651060420191569\n",
      "RP3b weight: 0.19542746079172998\n",
      "ItemKNN weight: 0.0394664971891131\n",
      "EvaluatorHoldout: Processed 34728 (100.0%) in 13.03 sec. Users per second: 2665\n",
      "EvaluatorHoldout: Processed 35209 (100.0%) in 14.01 sec. Users per second: 2514\n"
     ]
    },
    {
     "name": "stderr",
     "output_type": "stream",
     "text": [
      "[I 2024-12-27 02:34:05,691] Trial 190 finished with value: 0.030970344820335234 and parameters: {'x_0': 0.0031193490117414416, 'x_1': 0.22904481792315623, 'x_2': 0.7425679422623905}. Best is trial 181 with value: 0.0310995804583821.\n"
     ]
    },
    {
     "name": "stdout",
     "output_type": "stream",
     "text": [
      "__________Iteration 191______________\n",
      "SLIM weight: 0.6583689779228887\n",
      "RP3b weight: 0.2841906941193313\n",
      "ItemKNN weight: 0.05744032795778003\n",
      "EvaluatorHoldout: Processed 34728 (100.0%) in 13.02 sec. Users per second: 2667\n",
      "EvaluatorHoldout: Processed 35209 (100.0%) in 14.04 sec. Users per second: 2508\n"
     ]
    },
    {
     "name": "stderr",
     "output_type": "stream",
     "text": [
      "[I 2024-12-27 02:34:32,839] Trial 191 finished with value: 0.031077175043785935 and parameters: {'x_0': 0.04381117651070662, 'x_1': 0.2591960130658026, 'x_2': 0.7611726312416834}. Best is trial 181 with value: 0.0310995804583821.\n"
     ]
    },
    {
     "name": "stdout",
     "output_type": "stream",
     "text": [
      "__________Iteration 192______________\n",
      "SLIM weight: 0.6729555567688091\n",
      "RP3b weight: 0.278398293783202\n",
      "ItemKNN weight: 0.04864614944798889\n",
      "EvaluatorHoldout: Processed 34728 (100.0%) in 13.00 sec. Users per second: 2672\n",
      "EvaluatorHoldout: Processed 35209 (100.0%) in 14.06 sec. Users per second: 2504\n"
     ]
    },
    {
     "name": "stderr",
     "output_type": "stream",
     "text": [
      "[I 2024-12-27 02:34:59,985] Trial 192 finished with value: 0.031090427695687522 and parameters: {'x_0': 0.037930450809891936, 'x_1': 0.2583060386595102, 'x_2': 0.7893668066195587}. Best is trial 181 with value: 0.0310995804583821.\n"
     ]
    },
    {
     "name": "stdout",
     "output_type": "stream",
     "text": [
      "__________Iteration 193______________\n",
      "SLIM weight: 0.6271005945867609\n",
      "RP3b weight: 0.3173098188655993\n",
      "ItemKNN weight: 0.05558958654763981\n",
      "EvaluatorHoldout: Processed 34728 (100.0%) in 13.05 sec. Users per second: 2661\n",
      "EvaluatorHoldout: Processed 35209 (100.0%) in 13.99 sec. Users per second: 2516\n"
     ]
    },
    {
     "name": "stderr",
     "output_type": "stream",
     "text": [
      "[I 2024-12-27 02:35:27,120] Trial 193 finished with value: 0.031053927483608544 and parameters: {'x_0': 0.06912834835277093, 'x_1': 0.25874485933255154, 'x_2': 0.7891160042808126}. Best is trial 181 with value: 0.0310995804583821.\n"
     ]
    },
    {
     "name": "stdout",
     "output_type": "stream",
     "text": [
      "__________Iteration 194______________\n",
      "SLIM weight: 0.6684508276074682\n",
      "RP3b weight: 0.2930773728367909\n",
      "ItemKNN weight: 0.03847179955574095\n",
      "EvaluatorHoldout: Processed 34728 (100.0%) in 13.11 sec. Users per second: 2648\n",
      "EvaluatorHoldout: Processed 35209 (100.0%) in 14.15 sec. Users per second: 2489\n"
     ]
    },
    {
     "name": "stderr",
     "output_type": "stream",
     "text": [
      "[I 2024-12-27 02:35:54,470] Trial 194 finished with value: 0.031074926275123902 and parameters: {'x_0': 0.046088612298502765, 'x_1': 0.25945521799374643, 'x_2': 0.837693038798038}. Best is trial 181 with value: 0.0310995804583821.\n"
     ]
    },
    {
     "name": "stdout",
     "output_type": "stream",
     "text": [
      "__________Iteration 195______________\n",
      "SLIM weight: 0.6833915964554521\n",
      "RP3b weight: 0.28101811407529276\n",
      "ItemKNN weight: 0.035590289469255236\n",
      "EvaluatorHoldout: Processed 34728 (100.0%) in 13.10 sec. Users per second: 2651\n",
      "EvaluatorHoldout: Processed 35209 (100.0%) in 14.08 sec. Users per second: 2501\n"
     ]
    },
    {
     "name": "stderr",
     "output_type": "stream",
     "text": [
      "[I 2024-12-27 02:36:21,741] Trial 195 finished with value: 0.031083629969686312 and parameters: {'x_0': 0.03801055069224118, 'x_1': 0.2606399764764741, 'x_2': 0.8434181771580053}. Best is trial 181 with value: 0.0310995804583821.\n"
     ]
    },
    {
     "name": "stdout",
     "output_type": "stream",
     "text": [
      "__________Iteration 196______________\n",
      "SLIM weight: 0.7077178649303842\n",
      "RP3b weight: 0.26300302854263835\n",
      "ItemKNN weight: 0.029279106526977485\n",
      "EvaluatorHoldout: Processed 34728 (100.0%) in 13.08 sec. Users per second: 2655\n",
      "EvaluatorHoldout: Processed 35209 (100.0%) in 14.08 sec. Users per second: 2500\n"
     ]
    },
    {
     "name": "stderr",
     "output_type": "stream",
     "text": [
      "[I 2024-12-27 02:36:48,996] Trial 196 finished with value: 0.0310641474972841 and parameters: {'x_0': 0.021444715898049017, 'x_1': 0.23981872515989017, 'x_2': 0.8530309543508474}. Best is trial 181 with value: 0.0310995804583821.\n"
     ]
    },
    {
     "name": "stdout",
     "output_type": "stream",
     "text": [
      "__________Iteration 197______________\n",
      "SLIM weight: 0.7103432357838528\n",
      "RP3b weight: 0.2613779098280941\n",
      "ItemKNN weight: 0.028278854388053176\n",
      "EvaluatorHoldout: Processed 34728 (100.0%) in 13.06 sec. Users per second: 2659\n",
      "EvaluatorHoldout: Processed 35209 (100.0%) in 14.11 sec. Users per second: 2496\n"
     ]
    },
    {
     "name": "stderr",
     "output_type": "stream",
     "text": [
      "[I 2024-12-27 02:37:16,255] Trial 197 finished with value: 0.03105157587491635 and parameters: {'x_0': 0.038370754544765656, 'x_1': 0.30127891554414543, 'x_2': 0.8782716692399095}. Best is trial 181 with value: 0.0310995804583821.\n"
     ]
    },
    {
     "name": "stdout",
     "output_type": "stream",
     "text": [
      "__________Iteration 198______________\n",
      "SLIM weight: 0.595366300880218\n",
      "RP3b weight: 0.35586009859807155\n",
      "ItemKNN weight: 0.04877360052171029\n",
      "EvaluatorHoldout: Processed 34728 (100.0%) in 13.04 sec. Users per second: 2664\n",
      "EvaluatorHoldout: Processed 35209 (100.0%) in 14.03 sec. Users per second: 2509\n"
     ]
    },
    {
     "name": "stderr",
     "output_type": "stream",
     "text": [
      "[I 2024-12-27 02:37:43,416] Trial 198 finished with value: 0.03101124201504193 and parameters: {'x_0': 0.08483309261464411, 'x_1': 0.22886853738992569, 'x_2': 0.8170072720194888}. Best is trial 181 with value: 0.0310995804583821.\n"
     ]
    },
    {
     "name": "stdout",
     "output_type": "stream",
     "text": [
      "__________Iteration 199______________\n",
      "SLIM weight: 0.8484242769812531\n",
      "RP3b weight: 0.12799615043313503\n",
      "ItemKNN weight: 0.023579572585611767\n",
      "EvaluatorHoldout: Processed 34728 (100.0%) in 13.08 sec. Users per second: 2656\n",
      "EvaluatorHoldout: Processed 35209 (100.0%) in 14.11 sec. Users per second: 2495\n"
     ]
    },
    {
     "name": "stderr",
     "output_type": "stream",
     "text": [
      "[I 2024-12-27 02:38:10,692] Trial 199 finished with value: 0.03087895888409797 and parameters: {'x_0': 0.00013923929036907534, 'x_1': 0.26195994339568063, 'x_2': 0.7813159274322596}. Best is trial 181 with value: 0.0310995804583821.\n"
     ]
    },
    {
     "name": "stdout",
     "output_type": "stream",
     "text": [
      "__________Iteration 200______________\n",
      "SLIM weight: 0.5714611389806619\n",
      "RP3b weight: 0.24772550086803302\n",
      "ItemKNN weight: 0.18081336015130506\n",
      "EvaluatorHoldout: Processed 34728 (100.0%) in 12.96 sec. Users per second: 2680\n",
      "EvaluatorHoldout: Processed 35209 (100.0%) in 14.03 sec. Users per second: 2510\n"
     ]
    },
    {
     "name": "stderr",
     "output_type": "stream",
     "text": [
      "[I 2024-12-27 02:38:37,767] Trial 200 finished with value: 0.03092900312816426 and parameters: {'x_0': 0.05819465221176507, 'x_1': 0.29146276997631104, 'x_2': 0.4066327944379067}. Best is trial 181 with value: 0.0310995804583821.\n"
     ]
    },
    {
     "name": "stdout",
     "output_type": "stream",
     "text": [
      "__________Iteration 201______________\n",
      "SLIM weight: 0.6684702676839164\n",
      "RP3b weight: 0.293151396230807\n",
      "ItemKNN weight: 0.03837833608527671\n",
      "EvaluatorHoldout: Processed 34728 (100.0%) in 13.10 sec. Users per second: 2651\n",
      "EvaluatorHoldout: Processed 35209 (100.0%) in 14.05 sec. Users per second: 2507\n"
     ]
    },
    {
     "name": "stderr",
     "output_type": "stream",
     "text": [
      "[I 2024-12-27 02:39:05,003] Trial 201 finished with value: 0.031073398529340806 and parameters: {'x_0': 0.044717470607355134, 'x_1': 0.2559642933451191, 'x_2': 0.8366059602464008}. Best is trial 181 with value: 0.0310995804583821.\n"
     ]
    },
    {
     "name": "stdout",
     "output_type": "stream",
     "text": [
      "__________Iteration 202______________\n",
      "SLIM weight: 0.6791677979816297\n",
      "RP3b weight: 0.2840172589936568\n",
      "ItemKNN weight: 0.036814943024713276\n",
      "EvaluatorHoldout: Processed 34728 (100.0%) in 13.05 sec. Users per second: 2661\n",
      "EvaluatorHoldout: Processed 35209 (100.0%) in 14.07 sec. Users per second: 2502\n"
     ]
    },
    {
     "name": "stderr",
     "output_type": "stream",
     "text": [
      "[I 2024-12-27 02:39:32,216] Trial 202 finished with value: 0.031081526319733675 and parameters: {'x_0': 0.03385446409458008, 'x_1': 0.24272168780926695, 'x_2': 0.8323316695246294}. Best is trial 181 with value: 0.0310995804583821.\n"
     ]
    },
    {
     "name": "stdout",
     "output_type": "stream",
     "text": [
      "__________Iteration 203______________\n",
      "SLIM weight: 0.691193009702764\n",
      "RP3b weight: 0.26875218489484337\n",
      "ItemKNN weight: 0.04005480540239246\n",
      "EvaluatorHoldout: Processed 34728 (100.0%) in 13.08 sec. Users per second: 2654\n",
      "EvaluatorHoldout: Processed 35209 (100.0%) in 14.05 sec. Users per second: 2506\n"
     ]
    },
    {
     "name": "stderr",
     "output_type": "stream",
     "text": [
      "[I 2024-12-27 02:39:59,442] Trial 203 finished with value: 0.031094256772814792 and parameters: {'x_0': 0.024057958078846337, 'x_1': 0.23474434207388933, 'x_2': 0.8057374431833653}. Best is trial 181 with value: 0.0310995804583821.\n"
     ]
    },
    {
     "name": "stdout",
     "output_type": "stream",
     "text": [
      "__________Iteration 204______________\n",
      "SLIM weight: 0.6949940068554304\n",
      "RP3b weight: 0.26567790889039283\n",
      "ItemKNN weight: 0.039328084254176804\n",
      "EvaluatorHoldout: Processed 34728 (100.0%) in 13.04 sec. Users per second: 2662\n",
      "EvaluatorHoldout: Processed 35209 (100.0%) in 14.00 sec. Users per second: 2514\n"
     ]
    },
    {
     "name": "stderr",
     "output_type": "stream",
     "text": [
      "[I 2024-12-27 02:40:26,580] Trial 204 finished with value: 0.03108941300738883 and parameters: {'x_0': 0.018416681525199374, 'x_1': 0.2171880812965416, 'x_2': 0.7976867386244555}. Best is trial 181 with value: 0.0310995804583821.\n"
     ]
    },
    {
     "name": "stdout",
     "output_type": "stream",
     "text": [
      "__________Iteration 205______________\n",
      "SLIM weight: 0.6903972433751983\n",
      "RP3b weight: 0.2716861181884968\n",
      "ItemKNN weight: 0.037916638436305064\n",
      "EvaluatorHoldout: Processed 34728 (100.0%) in 13.04 sec. Users per second: 2663\n",
      "EvaluatorHoldout: Processed 35209 (100.0%) in 14.02 sec. Users per second: 2511\n"
     ]
    },
    {
     "name": "stderr",
     "output_type": "stream",
     "text": [
      "[I 2024-12-27 02:40:53,736] Trial 205 finished with value: 0.031093789422010562 and parameters: {'x_0': 0.019905801258416414, 'x_1': 0.2140977118400015, 'x_2': 0.8064545737873925}. Best is trial 181 with value: 0.0310995804583821.\n"
     ]
    },
    {
     "name": "stdout",
     "output_type": "stream",
     "text": [
      "__________Iteration 206______________\n",
      "SLIM weight: 0.6993033544069257\n",
      "RP3b weight: 0.2608818340370866\n",
      "ItemKNN weight: 0.039814811555987775\n",
      "EvaluatorHoldout: Processed 34728 (100.0%) in 13.01 sec. Users per second: 2668\n",
      "EvaluatorHoldout: Processed 35209 (100.0%) in 14.15 sec. Users per second: 2488\n"
     ]
    },
    {
     "name": "stderr",
     "output_type": "stream",
     "text": [
      "[I 2024-12-27 02:41:20,995] Trial 206 finished with value: 0.031079988289947555 and parameters: {'x_0': 0.017371477166023663, 'x_1': 0.22047238032079006, 'x_2': 0.7939354025404655}. Best is trial 181 with value: 0.0310995804583821.\n"
     ]
    },
    {
     "name": "stdout",
     "output_type": "stream",
     "text": [
      "__________Iteration 207______________\n",
      "SLIM weight: 0.6823982931283327\n",
      "RP3b weight: 0.28163632731237165\n",
      "ItemKNN weight: 0.035965379559295754\n",
      "EvaluatorHoldout: Processed 34728 (100.0%) in 13.06 sec. Users per second: 2659\n",
      "EvaluatorHoldout: Processed 35209 (100.0%) in 14.06 sec. Users per second: 2504\n"
     ]
    },
    {
     "name": "stderr",
     "output_type": "stream",
     "text": [
      "[I 2024-12-27 02:41:48,200] Trial 207 finished with value: 0.031085177140808475 and parameters: {'x_0': 0.024059992189449587, 'x_1': 0.21475120818684781, 'x_2': 0.8216506072144161}. Best is trial 181 with value: 0.0310995804583821.\n"
     ]
    },
    {
     "name": "stdout",
     "output_type": "stream",
     "text": [
      "__________Iteration 208______________\n",
      "SLIM weight: 0.6995085934658316\n",
      "RP3b weight: 0.26667224343153\n",
      "ItemKNN weight: 0.03381916310263832\n",
      "EvaluatorHoldout: Processed 34728 (100.0%) in 12.94 sec. Users per second: 2683\n",
      "EvaluatorHoldout: Processed 35209 (100.0%) in 14.03 sec. Users per second: 2510\n"
     ]
    },
    {
     "name": "stderr",
     "output_type": "stream",
     "text": [
      "[I 2024-12-27 02:42:15,265] Trial 208 finished with value: 0.03108512343545934 and parameters: {'x_0': 0.017459225814415752, 'x_1': 0.21370306288997462, 'x_2': 0.8222561467006171}. Best is trial 181 with value: 0.0310995804583821.\n"
     ]
    },
    {
     "name": "stdout",
     "output_type": "stream",
     "text": [
      "__________Iteration 209______________\n",
      "SLIM weight: 0.681512115221643\n",
      "RP3b weight: 0.28757124793260846\n",
      "ItemKNN weight: 0.030916636845748597\n",
      "EvaluatorHoldout: Processed 34728 (100.0%) in 13.06 sec. Users per second: 2658\n",
      "EvaluatorHoldout: Processed 35209 (100.0%) in 14.05 sec. Users per second: 2506\n"
     ]
    },
    {
     "name": "stderr",
     "output_type": "stream",
     "text": [
      "[I 2024-12-27 02:42:42,472] Trial 209 finished with value: 0.031074277240266217 and parameters: {'x_0': 0.013986631031606963, 'x_1': 0.16503042971504117, 'x_2': 0.8239117787979844}. Best is trial 181 with value: 0.0310995804583821.\n"
     ]
    },
    {
     "name": "stdout",
     "output_type": "stream",
     "text": [
      "__________Iteration 210______________\n",
      "SLIM weight: 0.7123718668155516\n",
      "RP3b weight: 0.25228094353794434\n",
      "ItemKNN weight: 0.035347189646504025\n",
      "EvaluatorHoldout: Processed 34728 (100.0%) in 13.01 sec. Users per second: 2669\n",
      "EvaluatorHoldout: Processed 35209 (100.0%) in 14.10 sec. Users per second: 2497\n"
     ]
    },
    {
     "name": "stderr",
     "output_type": "stream",
     "text": [
      "[I 2024-12-27 02:43:09,677] Trial 210 finished with value: 0.031058471870279786 and parameters: {'x_0': 0.012167780694129403, 'x_1': 0.20984205668067957, 'x_2': 0.8035077616979787}. Best is trial 181 with value: 0.0310995804583821.\n"
     ]
    },
    {
     "name": "stdout",
     "output_type": "stream",
     "text": [
      "__________Iteration 211______________\n",
      "SLIM weight: 0.6905314830648185\n",
      "RP3b weight: 0.27520428818846215\n",
      "ItemKNN weight: 0.034264228746719305\n",
      "EvaluatorHoldout: Processed 34728 (100.0%) in 12.96 sec. Users per second: 2679\n",
      "EvaluatorHoldout: Processed 35209 (100.0%) in 14.07 sec. Users per second: 2502\n"
     ]
    },
    {
     "name": "stderr",
     "output_type": "stream",
     "text": [
      "[I 2024-12-27 02:43:36,809] Trial 211 finished with value: 0.03109329464719824 and parameters: {'x_0': 0.019563675129823162, 'x_1': 0.2084850790631686, 'x_2': 0.8226623674167833}. Best is trial 181 with value: 0.0310995804583821.\n"
     ]
    },
    {
     "name": "stdout",
     "output_type": "stream",
     "text": [
      "__________Iteration 212______________\n",
      "SLIM weight: 0.6997801509889017\n",
      "RP3b weight: 0.26962743542875744\n",
      "ItemKNN weight: 0.030592413582340963\n",
      "EvaluatorHoldout: Processed 34728 (100.0%) in 13.00 sec. Users per second: 2670\n",
      "EvaluatorHoldout: Processed 35209 (100.0%) in 14.03 sec. Users per second: 2509\n"
     ]
    },
    {
     "name": "stderr",
     "output_type": "stream",
     "text": [
      "[I 2024-12-27 02:44:03,937] Trial 212 finished with value: 0.031089599262110378 and parameters: {'x_0': 0.012905855555232286, 'x_1': 0.18710283494131288, 'x_2': 0.826816109674615}. Best is trial 181 with value: 0.0310995804583821.\n"
     ]
    },
    {
     "name": "stdout",
     "output_type": "stream",
     "text": [
      "__________Iteration 213______________\n",
      "SLIM weight: 0.6857271659919699\n",
      "RP3b weight: 0.2862884037273088\n",
      "ItemKNN weight: 0.027984430280721295\n",
      "EvaluatorHoldout: Processed 34728 (100.0%) in 12.99 sec. Users per second: 2673\n",
      "EvaluatorHoldout: Processed 35209 (100.0%) in 14.07 sec. Users per second: 2502\n"
     ]
    },
    {
     "name": "stderr",
     "output_type": "stream",
     "text": [
      "[I 2024-12-27 02:44:31,091] Trial 213 finished with value: 0.03107169024217127 and parameters: {'x_0': 0.016583164637355773, 'x_1': 0.1806001570554808, 'x_2': 0.8459503504851511}. Best is trial 181 with value: 0.0310995804583821.\n"
     ]
    },
    {
     "name": "stdout",
     "output_type": "stream",
     "text": [
      "__________Iteration 214______________\n",
      "SLIM weight: 0.6805074397878138\n",
      "RP3b weight: 0.283899497523884\n",
      "ItemKNN weight: 0.03559306268830228\n",
      "EvaluatorHoldout: Processed 34728 (100.0%) in 13.06 sec. Users per second: 2659\n",
      "EvaluatorHoldout: Processed 35209 (100.0%) in 14.05 sec. Users per second: 2505\n"
     ]
    },
    {
     "name": "stderr",
     "output_type": "stream",
     "text": [
      "[I 2024-12-27 02:44:58,293] Trial 214 finished with value: 0.03108362539901832 and parameters: {'x_0': 0.02324522840286233, 'x_1': 0.20818726962611692, 'x_2': 0.8213971665502227}. Best is trial 181 with value: 0.0310995804583821.\n"
     ]
    },
    {
     "name": "stdout",
     "output_type": "stream",
     "text": [
      "__________Iteration 215______________\n",
      "SLIM weight: 0.7447863874191153\n",
      "RP3b weight: 0.2320246323076688\n",
      "ItemKNN weight: 0.023188980273215833\n",
      "EvaluatorHoldout: Processed 34728 (100.0%) in 13.11 sec. Users per second: 2648\n",
      "EvaluatorHoldout: Processed 35209 (100.0%) in 14.03 sec. Users per second: 2510\n"
     ]
    },
    {
     "name": "stderr",
     "output_type": "stream",
     "text": [
      "[I 2024-12-27 02:45:25,521] Trial 215 finished with value: 0.031007716887337517 and parameters: {'x_0': 0.0023226924079116917, 'x_1': 0.15115506144492874, 'x_2': 0.8279230106124712}. Best is trial 181 with value: 0.0310995804583821.\n"
     ]
    },
    {
     "name": "stdout",
     "output_type": "stream",
     "text": [
      "__________Iteration 216______________\n",
      "SLIM weight: 0.6836629949891624\n",
      "RP3b weight: 0.2802031718924116\n",
      "ItemKNN weight: 0.036133833118425863\n",
      "EvaluatorHoldout: Processed 34728 (100.0%) in 12.95 sec. Users per second: 2682\n",
      "EvaluatorHoldout: Processed 35209 (100.0%) in 14.10 sec. Users per second: 2498\n"
     ]
    },
    {
     "name": "stderr",
     "output_type": "stream",
     "text": [
      "[I 2024-12-27 02:45:52,657] Trial 216 finished with value: 0.03108247816134722 and parameters: {'x_0': 0.020890891332343252, 'x_1': 0.20484473049564905, 'x_2': 0.8150874603856946}. Best is trial 181 with value: 0.0310995804583821.\n"
     ]
    },
    {
     "name": "stdout",
     "output_type": "stream",
     "text": [
      "__________Iteration 217______________\n",
      "SLIM weight: 0.8306262331162099\n",
      "RP3b weight: 0.15098476984698145\n",
      "ItemKNN weight: 0.018388997036808616\n",
      "EvaluatorHoldout: Processed 34728 (100.0%) in 13.05 sec. Users per second: 2661\n",
      "EvaluatorHoldout: Processed 35209 (100.0%) in 14.05 sec. Users per second: 2506\n"
     ]
    },
    {
     "name": "stderr",
     "output_type": "stream",
     "text": [
      "[I 2024-12-27 02:46:19,850] Trial 217 finished with value: 0.03087683352347227 and parameters: {'x_0': 0.0001504101184955954, 'x_1': 0.20189947257512367, 'x_2': 0.8229431375596367}. Best is trial 181 with value: 0.0310995804583821.\n"
     ]
    },
    {
     "name": "stdout",
     "output_type": "stream",
     "text": [
      "__________Iteration 218______________\n",
      "SLIM weight: 0.6712581375785786\n",
      "RP3b weight: 0.30036216598399723\n",
      "ItemKNN weight: 0.02837969643742418\n",
      "EvaluatorHoldout: Processed 34728 (100.0%) in 13.00 sec. Users per second: 2671\n",
      "EvaluatorHoldout: Processed 35209 (100.0%) in 14.10 sec. Users per second: 2496\n"
     ]
    },
    {
     "name": "stderr",
     "output_type": "stream",
     "text": [
      "[I 2024-12-27 02:46:47,048] Trial 218 finished with value: 0.031061966145975166 and parameters: {'x_0': 0.021732765781134304, 'x_1': 0.18026981002782977, 'x_2': 0.850542347067276}. Best is trial 181 with value: 0.0310995804583821.\n"
     ]
    },
    {
     "name": "stdout",
     "output_type": "stream",
     "text": [
      "__________Iteration 219______________\n",
      "SLIM weight: 0.6886943812916755\n",
      "RP3b weight: 0.27374160494417976\n",
      "ItemKNN weight: 0.037564013764144824\n",
      "EvaluatorHoldout: Processed 34728 (100.0%) in 13.09 sec. Users per second: 2652\n",
      "EvaluatorHoldout: Processed 35209 (100.0%) in 14.09 sec. Users per second: 2499\n"
     ]
    },
    {
     "name": "stderr",
     "output_type": "stream",
     "text": [
      "[I 2024-12-27 02:47:14,322] Trial 219 finished with value: 0.03108880510854319 and parameters: {'x_0': 0.021299120573799186, 'x_1': 0.21655027788038672, 'x_2': 0.8106296428148405}. Best is trial 181 with value: 0.0310995804583821.\n"
     ]
    },
    {
     "name": "stdout",
     "output_type": "stream",
     "text": [
      "__________Iteration 220______________\n",
      "SLIM weight: 0.6392173390668101\n",
      "RP3b weight: 0.32743527507684017\n",
      "ItemKNN weight: 0.033347385856349686\n",
      "EvaluatorHoldout: Processed 34728 (100.0%) in 13.05 sec. Users per second: 2661\n",
      "EvaluatorHoldout: Processed 35209 (100.0%) in 14.05 sec. Users per second: 2507\n"
     ]
    },
    {
     "name": "stderr",
     "output_type": "stream",
     "text": [
      "[I 2024-12-27 02:47:41,514] Trial 220 finished with value: 0.031052498007187696 and parameters: {'x_0': 0.021196498213199334, 'x_1': 0.13887969779907122, 'x_2': 0.8178670746349688}. Best is trial 181 with value: 0.0310995804583821.\n"
     ]
    },
    {
     "name": "stdout",
     "output_type": "stream",
     "text": [
      "__________Iteration 221______________\n",
      "SLIM weight: 0.6854570141463399\n",
      "RP3b weight: 0.2812261715217268\n",
      "ItemKNN weight: 0.03331681433193349\n",
      "EvaluatorHoldout: Processed 34728 (100.0%) in 13.02 sec. Users per second: 2667\n",
      "EvaluatorHoldout: Processed 35209 (100.0%) in 14.04 sec. Users per second: 2508\n"
     ]
    },
    {
     "name": "stderr",
     "output_type": "stream",
     "text": [
      "[I 2024-12-27 02:48:08,666] Trial 221 finished with value: 0.031088340043072978 and parameters: {'x_0': 0.023877623622988245, 'x_1': 0.21603772800513613, 'x_2': 0.8339919154129876}. Best is trial 181 with value: 0.0310995804583821.\n"
     ]
    },
    {
     "name": "stdout",
     "output_type": "stream",
     "text": [
      "__________Iteration 222______________\n",
      "SLIM weight: 0.6806206020794868\n",
      "RP3b weight: 0.2877838280116089\n",
      "ItemKNN weight: 0.03159556990890435\n",
      "EvaluatorHoldout: Processed 34728 (100.0%) in 13.02 sec. Users per second: 2667\n",
      "EvaluatorHoldout: Processed 35209 (100.0%) in 14.07 sec. Users per second: 2503\n"
     ]
    },
    {
     "name": "stderr",
     "output_type": "stream",
     "text": [
      "[I 2024-12-27 02:48:35,844] Trial 222 finished with value: 0.031074758303074507 and parameters: {'x_0': 0.024308849828079446, 'x_1': 0.20771116244422344, 'x_2': 0.8415199747274054}. Best is trial 181 with value: 0.0310995804583821.\n"
     ]
    },
    {
     "name": "stdout",
     "output_type": "stream",
     "text": [
      "__________Iteration 223______________\n",
      "SLIM weight: 0.6677929790127277\n",
      "RP3b weight: 0.30487065568654814\n",
      "ItemKNN weight: 0.0273363653007242\n",
      "EvaluatorHoldout: Processed 34728 (100.0%) in 13.05 sec. Users per second: 2661\n",
      "EvaluatorHoldout: Processed 35209 (100.0%) in 14.01 sec. Users per second: 2513\n"
     ]
    },
    {
     "name": "stderr",
     "output_type": "stream",
     "text": [
      "[I 2024-12-27 02:49:02,996] Trial 223 finished with value: 0.03104835012596662 and parameters: {'x_0': 0.026729942064351593, 'x_1': 0.1913683177834407, 'x_2': 0.8622010593221431}. Best is trial 181 with value: 0.0310995804583821.\n"
     ]
    },
    {
     "name": "stdout",
     "output_type": "stream",
     "text": [
      "__________Iteration 224______________\n",
      "SLIM weight: 0.6795883993830046\n",
      "RP3b weight: 0.2833194252723453\n",
      "ItemKNN weight: 0.037092175344649994\n",
      "EvaluatorHoldout: Processed 34728 (100.0%) in 13.05 sec. Users per second: 2661\n",
      "EvaluatorHoldout: Processed 35209 (100.0%) in 14.10 sec. Users per second: 2497\n"
     ]
    },
    {
     "name": "stderr",
     "output_type": "stream",
     "text": [
      "[I 2024-12-27 02:49:30,239] Trial 224 finished with value: 0.031085718764967938 and parameters: {'x_0': 0.025253139593128495, 'x_1': 0.21573846379139983, 'x_2': 0.8180838288252589}. Best is trial 181 with value: 0.0310995804583821.\n"
     ]
    },
    {
     "name": "stdout",
     "output_type": "stream",
     "text": [
      "__________Iteration 225______________\n",
      "SLIM weight: 0.7561377727334888\n",
      "RP3b weight: 0.22133200296030894\n",
      "ItemKNN weight: 0.02253022430620225\n",
      "EvaluatorHoldout: Processed 34728 (100.0%) in 12.99 sec. Users per second: 2673\n",
      "EvaluatorHoldout: Processed 35209 (100.0%) in 14.05 sec. Users per second: 2506\n"
     ]
    },
    {
     "name": "stderr",
     "output_type": "stream",
     "text": [
      "[I 2024-12-27 02:49:57,372] Trial 225 finished with value: 0.030991612138596265 and parameters: {'x_0': 0.0021983013610793745, 'x_1': 0.16672169018086364, 'x_2': 0.8333043032756786}. Best is trial 181 with value: 0.0310995804583821.\n"
     ]
    },
    {
     "name": "stdout",
     "output_type": "stream",
     "text": [
      "__________Iteration 226______________\n",
      "SLIM weight: 0.8133469566877548\n",
      "RP3b weight: 0.16523021611532496\n",
      "ItemKNN weight: 0.021422827196920326\n",
      "EvaluatorHoldout: Processed 34728 (100.0%) in 13.07 sec. Users per second: 2656\n",
      "EvaluatorHoldout: Processed 35209 (100.0%) in 14.04 sec. Users per second: 2508\n"
     ]
    },
    {
     "name": "stderr",
     "output_type": "stream",
     "text": [
      "[I 2024-12-27 02:50:24,576] Trial 226 finished with value: 0.030912690414028506 and parameters: {'x_0': 0.00041456825568359293, 'x_1': 0.2055273876352812, 'x_2': 0.8145364480164522}. Best is trial 181 with value: 0.0310995804583821.\n"
     ]
    },
    {
     "name": "stdout",
     "output_type": "stream",
     "text": [
      "__________Iteration 227______________\n",
      "SLIM weight: 0.6777781871319237\n",
      "RP3b weight: 0.2842571772484337\n",
      "ItemKNN weight: 0.037964635619642494\n",
      "EvaluatorHoldout: Processed 34728 (100.0%) in 12.97 sec. Users per second: 2677\n",
      "EvaluatorHoldout: Processed 35209 (100.0%) in 14.05 sec. Users per second: 2507\n"
     ]
    },
    {
     "name": "stderr",
     "output_type": "stream",
     "text": [
      "[I 2024-12-27 02:50:51,684] Trial 227 finished with value: 0.03107505196849431 and parameters: {'x_0': 0.025922277865089223, 'x_1': 0.21612327123461347, 'x_2': 0.8149753985163644}. Best is trial 181 with value: 0.0310995804583821.\n"
     ]
    },
    {
     "name": "stdout",
     "output_type": "stream",
     "text": [
      "__________Iteration 228______________\n",
      "SLIM weight: 0.6560224531925638\n",
      "RP3b weight: 0.3141551623351466\n",
      "ItemKNN weight: 0.02982238447228957\n",
      "EvaluatorHoldout: Processed 34728 (100.0%) in 13.02 sec. Users per second: 2667\n",
      "EvaluatorHoldout: Processed 35209 (100.0%) in 13.93 sec. Users per second: 2528\n"
     ]
    },
    {
     "name": "stderr",
     "output_type": "stream",
     "text": [
      "[I 2024-12-27 02:51:18,724] Trial 228 finished with value: 0.031059149471812573 and parameters: {'x_0': 0.029192224458237617, 'x_1': 0.18409804949794312, 'x_2': 0.8515927853250164}. Best is trial 181 with value: 0.0310995804583821.\n"
     ]
    },
    {
     "name": "stdout",
     "output_type": "stream",
     "text": [
      "__________Iteration 229______________\n",
      "SLIM weight: 0.6178428454529545\n",
      "RP3b weight: 0.3411499899428514\n",
      "ItemKNN weight: 0.04100716460419409\n",
      "EvaluatorHoldout: Processed 34728 (100.0%) in 13.02 sec. Users per second: 2667\n",
      "EvaluatorHoldout: Processed 35209 (100.0%) in 14.05 sec. Users per second: 2505\n"
     ]
    },
    {
     "name": "stderr",
     "output_type": "stream",
     "text": [
      "[I 2024-12-27 02:51:45,889] Trial 229 finished with value: 0.031029442415066825 and parameters: {'x_0': 0.06288104058867798, 'x_1': 0.21706359131893282, 'x_2': 0.832254085326331}. Best is trial 181 with value: 0.0310995804583821.\n"
     ]
    },
    {
     "name": "stdout",
     "output_type": "stream",
     "text": [
      "__________Iteration 230______________\n",
      "SLIM weight: 0.6869042424467825\n",
      "RP3b weight: 0.2898439853496721\n",
      "ItemKNN weight: 0.023251772203545438\n",
      "EvaluatorHoldout: Processed 34728 (100.0%) in 13.02 sec. Users per second: 2666\n",
      "EvaluatorHoldout: Processed 35209 (100.0%) in 14.05 sec. Users per second: 2505\n"
     ]
    },
    {
     "name": "stderr",
     "output_type": "stream",
     "text": [
      "[I 2024-12-27 02:52:13,056] Trial 230 finished with value: 0.031065308446959157 and parameters: {'x_0': 0.020907532262631295, 'x_1': 0.1955420504028518, 'x_2': 0.8772878071813128}. Best is trial 181 with value: 0.0310995804583821.\n"
     ]
    },
    {
     "name": "stdout",
     "output_type": "stream",
     "text": [
      "__________Iteration 231______________\n",
      "SLIM weight: 0.6357594097943169\n",
      "RP3b weight: 0.31760221197588995\n",
      "ItemKNN weight: 0.04663837822979306\n",
      "EvaluatorHoldout: Processed 34728 (100.0%) in 13.03 sec. Users per second: 2666\n",
      "EvaluatorHoldout: Processed 35209 (100.0%) in 14.06 sec. Users per second: 2504\n"
     ]
    },
    {
     "name": "stderr",
     "output_type": "stream",
     "text": [
      "[I 2024-12-27 02:52:40,234] Trial 231 finished with value: 0.03106372471049287 and parameters: {'x_0': 0.054499840120966384, 'x_1': 0.23374866849935272, 'x_2': 0.8077999212333231}. Best is trial 181 with value: 0.0310995804583821.\n"
     ]
    },
    {
     "name": "stdout",
     "output_type": "stream",
     "text": [
      "__________Iteration 232______________\n",
      "SLIM weight: 0.6583307167668445\n",
      "RP3b weight: 0.29368464791470095\n",
      "ItemKNN weight: 0.04798463531845463\n",
      "EvaluatorHoldout: Processed 34728 (100.0%) in 12.97 sec. Users per second: 2678\n",
      "EvaluatorHoldout: Processed 35209 (100.0%) in 14.03 sec. Users per second: 2509\n"
     ]
    },
    {
     "name": "stderr",
     "output_type": "stream",
     "text": [
      "[I 2024-12-27 02:53:07,325] Trial 232 finished with value: 0.031067553787620127 and parameters: {'x_0': 0.034831052210730545, 'x_1': 0.22364745241567016, 'x_2': 0.7829361763016514}. Best is trial 181 with value: 0.0310995804583821.\n"
     ]
    },
    {
     "name": "stdout",
     "output_type": "stream",
     "text": [
      "__________Iteration 233______________\n",
      "SLIM weight: 0.7008281751785287\n",
      "RP3b weight: 0.26016353773611833\n",
      "ItemKNN weight: 0.03900828708535301\n",
      "EvaluatorHoldout: Processed 34728 (100.0%) in 13.00 sec. Users per second: 2671\n",
      "EvaluatorHoldout: Processed 35209 (100.0%) in 14.00 sec. Users per second: 2516\n"
     ]
    },
    {
     "name": "stderr",
     "output_type": "stream",
     "text": [
      "[I 2024-12-27 02:53:34,410] Trial 233 finished with value: 0.031079822603232114 and parameters: {'x_0': 0.020787543060907583, 'x_1': 0.23742685675155314, 'x_2': 0.8060620335796298}. Best is trial 181 with value: 0.0310995804583821.\n"
     ]
    },
    {
     "name": "stdout",
     "output_type": "stream",
     "text": [
      "__________Iteration 234______________\n",
      "SLIM weight: 0.6208007200427096\n",
      "RP3b weight: 0.3399395451357499\n",
      "ItemKNN weight: 0.03925973482154056\n",
      "EvaluatorHoldout: Processed 34728 (100.0%) in 12.98 sec. Users per second: 2675\n",
      "EvaluatorHoldout: Processed 35209 (100.0%) in 14.04 sec. Users per second: 2507\n"
     ]
    },
    {
     "name": "stderr",
     "output_type": "stream",
     "text": [
      "[I 2024-12-27 02:54:01,525] Trial 234 finished with value: 0.031038132397625182 and parameters: {'x_0': 0.055779786891644756, 'x_1': 0.2058698706464246, 'x_2': 0.8331565170221085}. Best is trial 181 with value: 0.0310995804583821.\n"
     ]
    },
    {
     "name": "stdout",
     "output_type": "stream",
     "text": [
      "__________Iteration 235______________\n",
      "SLIM weight: 0.21970682316439336\n",
      "RP3b weight: 0.7170788108015854\n",
      "ItemKNN weight: 0.06321436603402131\n",
      "EvaluatorHoldout: Processed 34728 (100.0%) in 13.01 sec. Users per second: 2669\n",
      "EvaluatorHoldout: Processed 35209 (100.0%) in 14.06 sec. Users per second: 2503\n"
     ]
    },
    {
     "name": "stderr",
     "output_type": "stream",
     "text": [
      "[I 2024-12-27 02:54:28,691] Trial 235 finished with value: 0.030057253330188015 and parameters: {'x_0': 0.5825994596441857, 'x_1': 0.1714806808565824, 'x_2': 0.8560358209230413}. Best is trial 181 with value: 0.0310995804583821.\n"
     ]
    },
    {
     "name": "stdout",
     "output_type": "stream",
     "text": [
      "__________Iteration 236______________\n",
      "SLIM weight: 0.6540180011949595\n",
      "RP3b weight: 0.29884042438430797\n",
      "ItemKNN weight: 0.04714157442073268\n",
      "EvaluatorHoldout: Processed 34728 (100.0%) in 12.99 sec. Users per second: 2674\n",
      "EvaluatorHoldout: Processed 35209 (100.0%) in 14.04 sec. Users per second: 2508\n"
     ]
    },
    {
     "name": "stderr",
     "output_type": "stream",
     "text": [
      "[I 2024-12-27 02:54:55,810] Trial 236 finished with value: 0.031064056083923743 and parameters: {'x_0': 0.03691140247470052, 'x_1': 0.22145868381074232, 'x_2': 0.7883535482516767}. Best is trial 181 with value: 0.0310995804583821.\n"
     ]
    },
    {
     "name": "stdout",
     "output_type": "stream",
     "text": [
      "__________Iteration 237______________\n",
      "SLIM weight: 0.628871608013455\n",
      "RP3b weight: 0.32567459984515895\n",
      "ItemKNN weight: 0.04545379214138602\n",
      "EvaluatorHoldout: Processed 34728 (100.0%) in 13.06 sec. Users per second: 2658\n",
      "EvaluatorHoldout: Processed 35209 (100.0%) in 14.03 sec. Users per second: 2510\n"
     ]
    },
    {
     "name": "stderr",
     "output_type": "stream",
     "text": [
      "[I 2024-12-27 02:55:22,992] Trial 237 finished with value: 0.03106579522310245 and parameters: {'x_0': 0.0642790470052348, 'x_1': 0.24139778731864428, 'x_2': 0.820066826487219}. Best is trial 181 with value: 0.0310995804583821.\n"
     ]
    },
    {
     "name": "stdout",
     "output_type": "stream",
     "text": [
      "__________Iteration 238______________\n",
      "SLIM weight: 0.687834211935562\n",
      "RP3b weight: 0.2758796854525124\n",
      "ItemKNN weight: 0.036286102611925566\n",
      "EvaluatorHoldout: Processed 34728 (100.0%) in 13.02 sec. Users per second: 2667\n",
      "EvaluatorHoldout: Processed 35209 (100.0%) in 14.02 sec. Users per second: 2512\n"
     ]
    },
    {
     "name": "stderr",
     "output_type": "stream",
     "text": [
      "[I 2024-12-27 02:55:50,121] Trial 238 finished with value: 0.031083064349519775 and parameters: {'x_0': 0.016209673079105424, 'x_1': 0.19141152652516244, 'x_2': 0.8045595230941999}. Best is trial 181 with value: 0.0310995804583821.\n"
     ]
    },
    {
     "name": "stdout",
     "output_type": "stream",
     "text": [
      "__________Iteration 239______________\n",
      "SLIM weight: 0.7564986450674813\n",
      "RP3b weight: 0.2150026748420407\n",
      "ItemKNN weight: 0.028498680090477884\n",
      "EvaluatorHoldout: Processed 34728 (100.0%) in 13.01 sec. Users per second: 2670\n",
      "EvaluatorHoldout: Processed 35209 (100.0%) in 14.10 sec. Users per second: 2497\n"
     ]
    },
    {
     "name": "stderr",
     "output_type": "stream",
     "text": [
      "[I 2024-12-27 02:56:17,317] Trial 239 finished with value: 0.030995115555627704 and parameters: {'x_0': 0.0029501117611101264, 'x_1': 0.1909452364688206, 'x_2': 0.8029420686544927}. Best is trial 181 with value: 0.0310995804583821.\n"
     ]
    },
    {
     "name": "stdout",
     "output_type": "stream",
     "text": [
      "__________Iteration 240______________\n",
      "SLIM weight: 0.6597544410561491\n",
      "RP3b weight: 0.3118467643687605\n",
      "ItemKNN weight: 0.028398794575090272\n",
      "EvaluatorHoldout: Processed 34728 (100.0%) in 12.98 sec. Users per second: 2676\n",
      "EvaluatorHoldout: Processed 35209 (100.0%) in 14.05 sec. Users per second: 2506\n"
     ]
    },
    {
     "name": "stderr",
     "output_type": "stream",
     "text": [
      "[I 2024-12-27 02:56:44,437] Trial 240 finished with value: 0.03105097483207263 and parameters: {'x_0': 0.020136290096582073, 'x_1': 0.15788480844058003, 'x_2': 0.8452703940195615}. Best is trial 181 with value: 0.0310995804583821.\n"
     ]
    },
    {
     "name": "stdout",
     "output_type": "stream",
     "text": [
      "__________Iteration 241______________\n",
      "SLIM weight: 0.6462260384553723\n",
      "RP3b weight: 0.3157516776901912\n",
      "ItemKNN weight: 0.03802228385443647\n",
      "EvaluatorHoldout: Processed 34728 (100.0%) in 13.06 sec. Users per second: 2659\n",
      "EvaluatorHoldout: Processed 35209 (100.0%) in 13.98 sec. Users per second: 2518\n"
     ]
    },
    {
     "name": "stderr",
     "output_type": "stream",
     "text": [
      "[I 2024-12-27 02:57:11,570] Trial 241 finished with value: 0.031059425997227337 and parameters: {'x_0': 0.03925560196103547, 'x_1': 0.2055739498282964, 'x_2': 0.8265493265050182}. Best is trial 181 with value: 0.0310995804583821.\n"
     ]
    },
    {
     "name": "stdout",
     "output_type": "stream",
     "text": [
      "__________Iteration 242______________\n",
      "SLIM weight: 0.6697068760777212\n",
      "RP3b weight: 0.284196344104465\n",
      "ItemKNN weight: 0.04609677981781384\n",
      "EvaluatorHoldout: Processed 34728 (100.0%) in 13.05 sec. Users per second: 2660\n",
      "EvaluatorHoldout: Processed 35209 (100.0%) in 14.10 sec. Users per second: 2497\n"
     ]
    },
    {
     "name": "stderr",
     "output_type": "stream",
     "text": [
      "[I 2024-12-27 02:57:38,817] Trial 242 finished with value: 0.031095909069301243 and parameters: {'x_0': 0.02918655197381021, 'x_1': 0.22319580977299586, 'x_2': 0.7840731298220576}. Best is trial 181 with value: 0.0310995804583821.\n"
     ]
    },
    {
     "name": "stdout",
     "output_type": "stream",
     "text": [
      "__________Iteration 243______________\n",
      "SLIM weight: 0.674069185998301\n",
      "RP3b weight: 0.2839494185843358\n",
      "ItemKNN weight: 0.041981395417363246\n",
      "EvaluatorHoldout: Processed 34728 (100.0%) in 13.04 sec. Users per second: 2663\n",
      "EvaluatorHoldout: Processed 35209 (100.0%) in 14.10 sec. Users per second: 2498\n"
     ]
    },
    {
     "name": "stderr",
     "output_type": "stream",
     "text": [
      "[I 2024-12-27 02:58:06,046] Trial 243 finished with value: 0.03108973295414973 and parameters: {'x_0': 0.019732258936004367, 'x_1': 0.19135898528802175, 'x_2': 0.7831098462451831}. Best is trial 181 with value: 0.0310995804583821.\n"
     ]
    },
    {
     "name": "stdout",
     "output_type": "stream",
     "text": [
      "__________Iteration 244______________\n",
      "SLIM weight: 0.7749600036409622\n",
      "RP3b weight: 0.1959123526889243\n",
      "ItemKNN weight: 0.02912764367011345\n",
      "EvaluatorHoldout: Processed 34728 (100.0%) in 12.92 sec. Users per second: 2687\n",
      "EvaluatorHoldout: Processed 35209 (100.0%) in 14.15 sec. Users per second: 2489\n"
     ]
    },
    {
     "name": "stderr",
     "output_type": "stream",
     "text": [
      "[I 2024-12-27 02:58:33,210] Trial 244 finished with value: 0.03095641913756887 and parameters: {'x_0': 0.001258295690530084, 'x_1': 0.18484846498311905, 'x_2': 0.7780230150410212}. Best is trial 181 with value: 0.0310995804583821.\n"
     ]
    },
    {
     "name": "stdout",
     "output_type": "stream",
     "text": [
      "__________Iteration 245______________\n",
      "SLIM weight: 0.627659356524895\n",
      "RP3b weight: 0.33534434237001254\n",
      "ItemKNN weight: 0.036996301105092506\n",
      "EvaluatorHoldout: Processed 34728 (100.0%) in 12.97 sec. Users per second: 2677\n",
      "EvaluatorHoldout: Processed 35209 (100.0%) in 14.07 sec. Users per second: 2503\n"
     ]
    },
    {
     "name": "stderr",
     "output_type": "stream",
     "text": [
      "[I 2024-12-27 02:59:00,340] Trial 245 finished with value: 0.031049129424862713 and parameters: {'x_0': 0.02030883208488803, 'x_1': 0.1246906690198927, 'x_2': 0.7947845210246751}. Best is trial 181 with value: 0.0310995804583821.\n"
     ]
    },
    {
     "name": "stdout",
     "output_type": "stream",
     "text": [
      "__________Iteration 246______________\n",
      "SLIM weight: 0.6791507297407569\n",
      "RP3b weight: 0.28160775255203047\n",
      "ItemKNN weight: 0.03924151770721283\n",
      "EvaluatorHoldout: Processed 34728 (100.0%) in 13.02 sec. Users per second: 2667\n",
      "EvaluatorHoldout: Processed 35209 (100.0%) in 14.05 sec. Users per second: 2505\n"
     ]
    },
    {
     "name": "stderr",
     "output_type": "stream",
     "text": [
      "[I 2024-12-27 02:59:27,508] Trial 246 finished with value: 0.031088153788351485 and parameters: {'x_0': 0.023737599365060515, 'x_1': 0.21202149122933803, 'x_2': 0.8056237986042587}. Best is trial 181 with value: 0.0310995804583821.\n"
     ]
    },
    {
     "name": "stdout",
     "output_type": "stream",
     "text": [
      "__________Iteration 247______________\n",
      "SLIM weight: 0.5913119654996866\n",
      "RP3b weight: 0.358632777166361\n",
      "ItemKNN weight: 0.05005525733395256\n",
      "EvaluatorHoldout: Processed 34728 (100.0%) in 13.08 sec. Users per second: 2656\n",
      "EvaluatorHoldout: Processed 35209 (100.0%) in 14.14 sec. Users per second: 2490\n"
     ]
    },
    {
     "name": "stderr",
     "output_type": "stream",
     "text": [
      "[I 2024-12-27 02:59:54,817] Trial 247 finished with value: 0.03100785172204384 and parameters: {'x_0': 0.05691822818215516, 'x_1': 0.17581486830292248, 'x_2': 0.7845679378463428}. Best is trial 181 with value: 0.0310995804583821.\n"
     ]
    },
    {
     "name": "stdout",
     "output_type": "stream",
     "text": [
      "__________Iteration 248______________\n",
      "SLIM weight: 0.8092197707885983\n",
      "RP3b weight: 0.16675455888202276\n",
      "ItemKNN weight: 0.024025670329378995\n",
      "EvaluatorHoldout: Processed 34728 (100.0%) in 13.08 sec. Users per second: 2655\n",
      "EvaluatorHoldout: Processed 35209 (100.0%) in 14.16 sec. Users per second: 2487\n"
     ]
    },
    {
     "name": "stderr",
     "output_type": "stream",
     "text": [
      "[I 2024-12-27 03:00:22,150] Trial 248 finished with value: 0.030921121011177145 and parameters: {'x_0': 0.0006079887614399496, 'x_1': 0.21740161127300967, 'x_2': 0.802627648350334}. Best is trial 181 with value: 0.0310995804583821.\n"
     ]
    },
    {
     "name": "stdout",
     "output_type": "stream",
     "text": [
      "__________Iteration 249______________\n",
      "SLIM weight: 0.6401137720330874\n",
      "RP3b weight: 0.3122648999736463\n",
      "ItemKNN weight: 0.04762132799326629\n",
      "EvaluatorHoldout: Processed 34728 (100.0%) in 13.01 sec. Users per second: 2670\n",
      "EvaluatorHoldout: Processed 35209 (100.0%) in 14.07 sec. Users per second: 2502\n"
     ]
    },
    {
     "name": "stderr",
     "output_type": "stream",
     "text": [
      "[I 2024-12-27 03:00:49,319] Trial 249 finished with value: 0.031058757537030524 and parameters: {'x_0': 0.03360279500115113, 'x_1': 0.19104068194955054, 'x_2': 0.776907923807016}. Best is trial 181 with value: 0.0310995804583821.\n"
     ]
    },
    {
     "name": "stdout",
     "output_type": "stream",
     "text": [
      "__________Iteration 250______________\n",
      "SLIM weight: 0.6293304574394819\n",
      "RP3b weight: 0.32485597294313656\n",
      "ItemKNN weight: 0.045813569617381596\n",
      "EvaluatorHoldout: Processed 34728 (100.0%) in 13.01 sec. Users per second: 2668\n",
      "EvaluatorHoldout: Processed 35209 (100.0%) in 14.03 sec. Users per second: 2509\n"
     ]
    },
    {
     "name": "stderr",
     "output_type": "stream",
     "text": [
      "[I 2024-12-27 03:01:16,457] Trial 250 finished with value: 0.031065034206878412 and parameters: {'x_0': 0.05470846019133478, 'x_1': 0.22314777962324386, 'x_2': 0.809345117575258}. Best is trial 181 with value: 0.0310995804583821.\n"
     ]
    },
    {
     "name": "stdout",
     "output_type": "stream",
     "text": [
      "__________Iteration 251______________\n",
      "SLIM weight: 0.6490049879423513\n",
      "RP3b weight: 0.31051482667009783\n",
      "ItemKNN weight: 0.040480185387550875\n",
      "EvaluatorHoldout: Processed 34728 (100.0%) in 13.07 sec. Users per second: 2656\n",
      "EvaluatorHoldout: Processed 35209 (100.0%) in 14.02 sec. Users per second: 2511\n"
     ]
    },
    {
     "name": "stderr",
     "output_type": "stream",
     "text": [
      "[I 2024-12-27 03:01:43,642] Trial 251 finished with value: 0.031061979857979167 and parameters: {'x_0': 0.02200258844293637, 'x_1': 0.1610499851864624, 'x_2': 0.7881622583171584}. Best is trial 181 with value: 0.0310995804583821.\n"
     ]
    },
    {
     "name": "stdout",
     "output_type": "stream",
     "text": [
      "__________Iteration 252______________\n",
      "SLIM weight: 0.6724476203127432\n",
      "RP3b weight: 0.2909567439418283\n",
      "ItemKNN weight: 0.03659563574542843\n",
      "EvaluatorHoldout: Processed 34728 (100.0%) in 13.00 sec. Users per second: 2670\n",
      "EvaluatorHoldout: Processed 35209 (100.0%) in 13.99 sec. Users per second: 2517\n"
     ]
    },
    {
     "name": "stderr",
     "output_type": "stream",
     "text": [
      "[I 2024-12-27 03:02:10,726] Trial 252 finished with value: 0.03106946089884826 and parameters: {'x_0': 0.03970503933857208, 'x_1': 0.24759629175105818, 'x_2': 0.8389711368278965}. Best is trial 181 with value: 0.0310995804583821.\n"
     ]
    },
    {
     "name": "stdout",
     "output_type": "stream",
     "text": [
      "__________Iteration 253______________\n",
      "SLIM weight: 0.636792382551733\n",
      "RP3b weight: 0.31493936188465804\n",
      "ItemKNN weight: 0.04826825556360898\n",
      "EvaluatorHoldout: Processed 34728 (100.0%) in 13.06 sec. Users per second: 2658\n",
      "EvaluatorHoldout: Processed 35209 (100.0%) in 14.01 sec. Users per second: 2514\n"
     ]
    },
    {
     "name": "stderr",
     "output_type": "stream",
     "text": [
      "[I 2024-12-27 03:02:37,889] Trial 253 finished with value: 0.03106508562689353 and parameters: {'x_0': 0.06880588827681737, 'x_1': 0.2661477235773589, 'x_2': 0.8163814518088849}. Best is trial 181 with value: 0.0310995804583821.\n"
     ]
    },
    {
     "name": "stdout",
     "output_type": "stream",
     "text": [
      "__________Iteration 254______________\n",
      "SLIM weight: 0.7052609607908665\n",
      "RP3b weight: 0.2692338195718558\n",
      "ItemKNN weight: 0.02550521963727752\n",
      "EvaluatorHoldout: Processed 34728 (100.0%) in 13.03 sec. Users per second: 2666\n",
      "EvaluatorHoldout: Processed 35209 (100.0%) in 14.05 sec. Users per second: 2507\n"
     ]
    },
    {
     "name": "stderr",
     "output_type": "stream",
     "text": [
      "[I 2024-12-27 03:03:05,050] Trial 254 finished with value: 0.0310705212938272 and parameters: {'x_0': 0.014966905999242941, 'x_1': 0.20107380401043426, 'x_2': 0.8590235199999441}. Best is trial 181 with value: 0.0310995804583821.\n"
     ]
    },
    {
     "name": "stdout",
     "output_type": "stream",
     "text": [
      "__________Iteration 255______________\n",
      "SLIM weight: 0.6444629921836442\n",
      "RP3b weight: 0.3093576333812111\n",
      "ItemKNN weight: 0.04617937443514464\n",
      "EvaluatorHoldout: Processed 34728 (100.0%) in 13.00 sec. Users per second: 2670\n",
      "EvaluatorHoldout: Processed 35209 (100.0%) in 14.06 sec. Users per second: 2505\n"
     ]
    },
    {
     "name": "stderr",
     "output_type": "stream",
     "text": [
      "[I 2024-12-27 03:03:32,202] Trial 255 finished with value: 0.031060020184068917 and parameters: {'x_0': 0.04517151243644334, 'x_1': 0.22610120979359707, 'x_2': 0.8009649920663955}. Best is trial 181 with value: 0.0310995804583821.\n"
     ]
    },
    {
     "name": "stdout",
     "output_type": "stream",
     "text": [
      "__________Iteration 256______________\n",
      "SLIM weight: 0.7129894948126364\n",
      "RP3b weight: 0.24258115615028336\n",
      "ItemKNN weight: 0.04442934903708021\n",
      "EvaluatorHoldout: Processed 34728 (100.0%) in 12.97 sec. Users per second: 2678\n",
      "EvaluatorHoldout: Processed 35209 (100.0%) in 14.03 sec. Users per second: 2510\n"
     ]
    },
    {
     "name": "stderr",
     "output_type": "stream",
     "text": [
      "[I 2024-12-27 03:03:59,286] Trial 256 finished with value: 0.03105499244925543 and parameters: {'x_0': 0.015535401522840851, 'x_1': 0.24245534915022704, 'x_2': 0.771425091247652}. Best is trial 181 with value: 0.0310995804583821.\n"
     ]
    },
    {
     "name": "stdout",
     "output_type": "stream",
     "text": [
      "__________Iteration 257______________\n",
      "SLIM weight: 0.6413405056161647\n",
      "RP3b weight: 0.3237085057001199\n",
      "ItemKNN weight: 0.03495098868371553\n",
      "EvaluatorHoldout: Processed 34728 (100.0%) in 13.04 sec. Users per second: 2663\n",
      "EvaluatorHoldout: Processed 35209 (100.0%) in 14.06 sec. Users per second: 2504\n"
     ]
    },
    {
     "name": "stderr",
     "output_type": "stream",
     "text": [
      "[I 2024-12-27 03:04:26,479] Trial 257 finished with value: 0.03106836622385931 and parameters: {'x_0': 0.03259732535800873, 'x_1': 0.17764271816156285, 'x_2': 0.8297995853499825}. Best is trial 181 with value: 0.0310995804583821.\n"
     ]
    },
    {
     "name": "stdout",
     "output_type": "stream",
     "text": [
      "__________Iteration 258______________\n",
      "SLIM weight: 0.6017250930313888\n",
      "RP3b weight: 0.34749073710202244\n",
      "ItemKNN weight: 0.05078416986658893\n",
      "EvaluatorHoldout: Processed 34728 (100.0%) in 13.07 sec. Users per second: 2657\n",
      "EvaluatorHoldout: Processed 35209 (100.0%) in 14.04 sec. Users per second: 2508\n"
     ]
    },
    {
     "name": "stderr",
     "output_type": "stream",
     "text": [
      "[I 2024-12-27 03:04:53,678] Trial 258 finished with value: 0.031020696441825316 and parameters: {'x_0': 0.06993050379837419, 'x_1': 0.2151818131147069, 'x_2': 0.79890034303}. Best is trial 181 with value: 0.0310995804583821.\n"
     ]
    },
    {
     "name": "stdout",
     "output_type": "stream",
     "text": [
      "__________Iteration 259______________\n",
      "SLIM weight: 0.8033968706570481\n",
      "RP3b weight: 0.1713097207529885\n",
      "ItemKNN weight: 0.0252934085899634\n",
      "EvaluatorHoldout: Processed 34728 (100.0%) in 13.08 sec. Users per second: 2655\n",
      "EvaluatorHoldout: Processed 35209 (100.0%) in 14.15 sec. Users per second: 2488\n"
     ]
    },
    {
     "name": "stderr",
     "output_type": "stream",
     "text": [
      "[I 2024-12-27 03:05:21,000] Trial 259 finished with value: 0.030931104492782923 and parameters: {'x_0': 0.002046719007435433, 'x_1': 0.2670743861863288, 'x_2': 0.8228938730982727}. Best is trial 181 with value: 0.0310995804583821.\n"
     ]
    },
    {
     "name": "stdout",
     "output_type": "stream",
     "text": [
      "__________Iteration 260______________\n",
      "SLIM weight: 0.5751873564767518\n",
      "RP3b weight: 0.3744883431491472\n",
      "ItemKNN weight: 0.05032430037410102\n",
      "EvaluatorHoldout: Processed 34728 (100.0%) in 13.04 sec. Users per second: 2664\n",
      "EvaluatorHoldout: Processed 35209 (100.0%) in 14.07 sec. Users per second: 2503\n"
     ]
    },
    {
     "name": "stderr",
     "output_type": "stream",
     "text": [
      "[I 2024-12-27 03:05:48,194] Trial 260 finished with value: 0.031001635613547143 and parameters: {'x_0': 0.051230628414830434, 'x_1': 0.14448108629591327, 'x_2': 0.7710706148612319}. Best is trial 181 with value: 0.0310995804583821.\n"
     ]
    },
    {
     "name": "stdout",
     "output_type": "stream",
     "text": [
      "__________Iteration 261______________\n",
      "SLIM weight: 0.6582912154758632\n",
      "RP3b weight: 0.31423342643119284\n",
      "ItemKNN weight: 0.027475358092943956\n",
      "EvaluatorHoldout: Processed 34728 (100.0%) in 12.98 sec. Users per second: 2675\n",
      "EvaluatorHoldout: Processed 35209 (100.0%) in 14.10 sec. Users per second: 2497\n"
     ]
    },
    {
     "name": "stderr",
     "output_type": "stream",
     "text": [
      "[I 2024-12-27 03:06:15,366] Trial 261 finished with value: 0.031048090740556884 and parameters: {'x_0': 0.031922805324682765, 'x_1': 0.1931687724898737, 'x_2': 0.8660940998898903}. Best is trial 181 with value: 0.0310995804583821.\n"
     ]
    },
    {
     "name": "stdout",
     "output_type": "stream",
     "text": [
      "__________Iteration 262______________\n",
      "SLIM weight: 0.7188969095072528\n",
      "RP3b weight: 0.25140195635918927\n",
      "ItemKNN weight: 0.02970113413355794\n",
      "EvaluatorHoldout: Processed 34728 (100.0%) in 13.04 sec. Users per second: 2663\n",
      "EvaluatorHoldout: Processed 35209 (100.0%) in 14.00 sec. Users per second: 2515\n"
     ]
    },
    {
     "name": "stderr",
     "output_type": "stream",
     "text": [
      "[I 2024-12-27 03:06:42,501] Trial 262 finished with value: 0.031051252500154416 and parameters: {'x_0': 0.017765302975101004, 'x_1': 0.2442679672622875, 'x_2': 0.8466059491644238}. Best is trial 181 with value: 0.0310995804583821.\n"
     ]
    },
    {
     "name": "stdout",
     "output_type": "stream",
     "text": [
      "__________Iteration 263______________\n",
      "SLIM weight: 0.6231701185396209\n",
      "RP3b weight: 0.33128863099292016\n",
      "ItemKNN weight: 0.04554125046745888\n",
      "EvaluatorHoldout: Processed 34728 (100.0%) in 13.03 sec. Users per second: 2664\n",
      "EvaluatorHoldout: Processed 35209 (100.0%) in 14.01 sec. Users per second: 2513\n"
     ]
    },
    {
     "name": "stderr",
     "output_type": "stream",
     "text": [
      "[I 2024-12-27 03:07:09,639] Trial 263 finished with value: 0.03104699035223301 and parameters: {'x_0': 0.055176956290419694, 'x_1': 0.21433613987822808, 'x_2': 0.8091847690728191}. Best is trial 181 with value: 0.0310995804583821.\n"
     ]
    },
    {
     "name": "stdout",
     "output_type": "stream",
     "text": [
      "__________Iteration 264______________\n",
      "SLIM weight: 0.19528099115835268\n",
      "RP3b weight: 0.6809221837836913\n",
      "ItemKNN weight: 0.1237968250579561\n",
      "EvaluatorHoldout: Processed 34728 (100.0%) in 13.11 sec. Users per second: 2649\n",
      "EvaluatorHoldout: Processed 35209 (100.0%) in 14.01 sec. Users per second: 2513\n"
     ]
    },
    {
     "name": "stderr",
     "output_type": "stream",
     "text": [
      "[I 2024-12-27 03:07:36,859] Trial 264 finished with value: 0.03019532292683556 and parameters: {'x_0': 0.6861058268906528, 'x_1': 0.2688529178139424, 'x_2': 0.7875560082943516}. Best is trial 181 with value: 0.0310995804583821.\n"
     ]
    },
    {
     "name": "stdout",
     "output_type": "stream",
     "text": [
      "__________Iteration 265______________\n",
      "SLIM weight: 0.6665375776899374\n",
      "RP3b weight: 0.29679399144061536\n",
      "ItemKNN weight: 0.03666843086944727\n",
      "EvaluatorHoldout: Processed 34728 (100.0%) in 13.07 sec. Users per second: 2658\n",
      "EvaluatorHoldout: Processed 35209 (100.0%) in 14.06 sec. Users per second: 2505\n"
     ]
    },
    {
     "name": "stderr",
     "output_type": "stream",
     "text": [
      "[I 2024-12-27 03:08:04,074] Trial 265 finished with value: 0.031068456494552556 and parameters: {'x_0': 0.03807506319679015, 'x_1': 0.23334130598215688, 'x_2': 0.8354421047845823}. Best is trial 181 with value: 0.0310995804583821.\n"
     ]
    },
    {
     "name": "stdout",
     "output_type": "stream",
     "text": [
      "__________Iteration 266______________\n",
      "SLIM weight: 0.044960080105644444\n",
      "RP3b weight: 0.8459076004099643\n",
      "ItemKNN weight: 0.10913231948439131\n",
      "EvaluatorHoldout: Processed 34728 (100.0%) in 13.01 sec. Users per second: 2669\n",
      "EvaluatorHoldout: Processed 35209 (100.0%) in 14.05 sec. Users per second: 2506\n"
     ]
    },
    {
     "name": "stderr",
     "output_type": "stream",
     "text": [
      "[I 2024-12-27 03:08:31,226] Trial 266 finished with value: 0.02937303689808793 and parameters: {'x_0': 0.9173030986950241, 'x_1': 0.1971029245101336, 'x_2': 0.8109738837753104}. Best is trial 181 with value: 0.0310995804583821.\n"
     ]
    },
    {
     "name": "stdout",
     "output_type": "stream",
     "text": [
      "__________Iteration 267______________\n",
      "SLIM weight: 0.4045099376497144\n",
      "RP3b weight: 0.21695430618338052\n",
      "ItemKNN weight: 0.37853575616690505\n",
      "EvaluatorHoldout: Processed 34728 (100.0%) in 13.03 sec. Users per second: 2665\n",
      "EvaluatorHoldout: Processed 35209 (100.0%) in 14.04 sec. Users per second: 2507\n"
     ]
    },
    {
     "name": "stderr",
     "output_type": "stream",
     "text": [
      "[I 2024-12-27 03:08:58,393] Trial 267 finished with value: 0.030483120751563165 and parameters: {'x_0': 0.08043728994788996, 'x_1': 0.2587941986042719, 'x_2': 0.09456700344040658}. Best is trial 181 with value: 0.0310995804583821.\n"
     ]
    },
    {
     "name": "stdout",
     "output_type": "stream",
     "text": [
      "__________Iteration 268______________\n",
      "SLIM weight: 0.7009522829744765\n",
      "RP3b weight: 0.2756297679753145\n",
      "ItemKNN weight: 0.02341794905020888\n",
      "EvaluatorHoldout: Processed 34728 (100.0%) in 13.06 sec. Users per second: 2659\n",
      "EvaluatorHoldout: Processed 35209 (100.0%) in 14.08 sec. Users per second: 2500\n"
     ]
    },
    {
     "name": "stderr",
     "output_type": "stream",
     "text": [
      "[I 2024-12-27 03:09:25,622] Trial 268 finished with value: 0.031072302711684964 and parameters: {'x_0': 0.022455922035914434, 'x_1': 0.22475390654488275, 'x_2': 0.8808866001918899}. Best is trial 181 with value: 0.0310995804583821.\n"
     ]
    },
    {
     "name": "stdout",
     "output_type": "stream",
     "text": [
      "__________Iteration 269______________\n",
      "SLIM weight: 0.5859659618181922\n",
      "RP3b weight: 0.3656387410671452\n",
      "ItemKNN weight: 0.048395297114662575\n",
      "EvaluatorHoldout: Processed 34728 (100.0%) in 13.00 sec. Users per second: 2671\n",
      "EvaluatorHoldout: Processed 35209 (100.0%) in 14.03 sec. Users per second: 2509\n"
     ]
    },
    {
     "name": "stderr",
     "output_type": "stream",
     "text": [
      "[I 2024-12-27 03:09:52,746] Trial 269 finished with value: 0.031018856747950383 and parameters: {'x_0': 0.05697509379839385, 'x_1': 0.1673231396790495, 'x_2': 0.7892802688097983}. Best is trial 181 with value: 0.0310995804583821.\n"
     ]
    },
    {
     "name": "stdout",
     "output_type": "stream",
     "text": [
      "__________Iteration 270______________\n",
      "SLIM weight: 0.9038740362281411\n",
      "RP3b weight: 0.05650444918496026\n",
      "ItemKNN weight: 0.03962151458689872\n",
      "EvaluatorHoldout: Processed 34728 (100.0%) in 13.04 sec. Users per second: 2663\n",
      "EvaluatorHoldout: Processed 35209 (100.0%) in 13.99 sec. Users per second: 2516\n"
     ]
    },
    {
     "name": "stderr",
     "output_type": "stream",
     "text": [
      "[I 2024-12-27 03:10:19,873] Trial 270 finished with value: 0.030792197321221956 and parameters: {'x_0': 0.014423942913944245, 'x_1': 0.7672160042019848, 'x_2': 0.8304300329809151}. Best is trial 181 with value: 0.0310995804583821.\n"
     ]
    },
    {
     "name": "stdout",
     "output_type": "stream",
     "text": [
      "__________Iteration 271______________\n",
      "SLIM weight: 0.7938004732002635\n",
      "RP3b weight: 0.18476656537305655\n",
      "ItemKNN weight: 0.021432961426679897\n",
      "EvaluatorHoldout: Processed 34728 (100.0%) in 13.04 sec. Users per second: 2664\n",
      "EvaluatorHoldout: Processed 35209 (100.0%) in 14.09 sec. Users per second: 2499\n"
     ]
    },
    {
     "name": "stderr",
     "output_type": "stream",
     "text": [
      "[I 2024-12-27 03:10:47,092] Trial 271 finished with value: 0.030932453982513552 and parameters: {'x_0': 0.002448332697358488, 'x_1': 0.24673361773510338, 'x_2': 0.8501554726678067}. Best is trial 181 with value: 0.0310995804583821.\n"
     ]
    },
    {
     "name": "stdout",
     "output_type": "stream",
     "text": [
      "__________Iteration 272______________\n",
      "SLIM weight: 0.7010128624880313\n",
      "RP3b weight: 0.2571671972229397\n",
      "ItemKNN weight: 0.04181994028902914\n",
      "EvaluatorHoldout: Processed 34728 (100.0%) in 13.07 sec. Users per second: 2657\n",
      "EvaluatorHoldout: Processed 35209 (100.0%) in 14.03 sec. Users per second: 2509\n"
     ]
    },
    {
     "name": "stderr",
     "output_type": "stream",
     "text": [
      "[I 2024-12-27 03:11:14,289] Trial 272 finished with value: 0.03107136115407435 and parameters: {'x_0': 0.03161027341792328, 'x_1': 0.2816181551371217, 'x_2': 0.8137763719215225}. Best is trial 181 with value: 0.0310995804583821.\n"
     ]
    },
    {
     "name": "stdout",
     "output_type": "stream",
     "text": [
      "__________Iteration 273______________\n",
      "SLIM weight: 0.5919818434472294\n",
      "RP3b weight: 0.3509321341338104\n",
      "ItemKNN weight: 0.05708602241896023\n",
      "EvaluatorHoldout: Processed 34728 (100.0%) in 13.09 sec. Users per second: 2653\n",
      "EvaluatorHoldout: Processed 35209 (100.0%) in 14.02 sec. Users per second: 2512\n"
     ]
    },
    {
     "name": "stderr",
     "output_type": "stream",
     "text": [
      "[I 2024-12-27 03:11:41,487] Trial 273 finished with value: 0.03104021547957173 and parameters: {'x_0': 0.07032438023217111, 'x_1': 0.20727841011455062, 'x_2': 0.7741481145524427}. Best is trial 181 with value: 0.0310995804583821.\n"
     ]
    },
    {
     "name": "stdout",
     "output_type": "stream",
     "text": [
      "__________Iteration 274______________\n",
      "SLIM weight: 0.6240356158470374\n",
      "RP3b weight: 0.3307125386478207\n",
      "ItemKNN weight: 0.045251845505141955\n",
      "EvaluatorHoldout: Processed 34728 (100.0%) in 13.00 sec. Users per second: 2671\n",
      "EvaluatorHoldout: Processed 35209 (100.0%) in 14.08 sec. Users per second: 2501\n"
     ]
    },
    {
     "name": "stderr",
     "output_type": "stream",
     "text": [
      "[I 2024-12-27 03:12:08,657] Trial 274 finished with value: 0.031055482653399795 and parameters: {'x_0': 0.0416726307937743, 'x_1': 0.185600540505967, 'x_2': 0.7941795580659151}. Best is trial 181 with value: 0.0310995804583821.\n"
     ]
    },
    {
     "name": "stdout",
     "output_type": "stream",
     "text": [
      "__________Iteration 275______________\n",
      "SLIM weight: 0.6484631595262074\n",
      "RP3b weight: 0.3105124296233717\n",
      "ItemKNN weight: 0.041024410850420925\n",
      "EvaluatorHoldout: Processed 34728 (100.0%) in 13.07 sec. Users per second: 2657\n",
      "EvaluatorHoldout: Processed 35209 (100.0%) in 14.09 sec. Users per second: 2499\n"
     ]
    },
    {
     "name": "stderr",
     "output_type": "stream",
     "text": [
      "[I 2024-12-27 03:12:35,907] Trial 275 finished with value: 0.031057016112517852 and parameters: {'x_0': 0.04806519922625764, 'x_1': 0.23377770875190085, 'x_2': 0.8252912946117227}. Best is trial 181 with value: 0.0310995804583821.\n"
     ]
    },
    {
     "name": "stdout",
     "output_type": "stream",
     "text": [
      "__________Iteration 276______________\n",
      "SLIM weight: 0.7326228980579599\n",
      "RP3b weight: 0.24017824320571343\n",
      "ItemKNN weight: 0.027198858736326707\n",
      "EvaluatorHoldout: Processed 34728 (100.0%) in 13.03 sec. Users per second: 2666\n",
      "EvaluatorHoldout: Processed 35209 (100.0%) in 14.05 sec. Users per second: 2507\n"
     ]
    },
    {
     "name": "stderr",
     "output_type": "stream",
     "text": [
      "[I 2024-12-27 03:13:03,073] Trial 276 finished with value: 0.031034269040487783 and parameters: {'x_0': 0.01862085207249272, 'x_1': 0.2709243871994924, 'x_2': 0.8625279587208905}. Best is trial 181 with value: 0.0310995804583821.\n"
     ]
    },
    {
     "name": "stdout",
     "output_type": "stream",
     "text": [
      "__________Iteration 277______________\n",
      "SLIM weight: 0.4115649216835969\n",
      "RP3b weight: 0.10683601541758514\n",
      "ItemKNN weight: 0.48159906289881793\n",
      "EvaluatorHoldout: Processed 34728 (100.0%) in 12.98 sec. Users per second: 2676\n",
      "EvaluatorHoldout: Processed 35209 (100.0%) in 14.07 sec. Users per second: 2503\n"
     ]
    },
    {
     "name": "stderr",
     "output_type": "stream",
     "text": [
      "[I 2024-12-27 03:13:30,210] Trial 277 finished with value: 0.030189373059750585 and parameters: {'x_0': 0.002880845793883806, 'x_1': 0.2190432639126048, 'x_2': 0.00106467736965421}. Best is trial 181 with value: 0.0310995804583821.\n"
     ]
    },
    {
     "name": "stdout",
     "output_type": "stream",
     "text": [
      "__________Iteration 278______________\n",
      "SLIM weight: 0.6775747446476795\n",
      "RP3b weight: 0.27025167303414993\n",
      "ItemKNN weight: 0.05217358231817051\n",
      "EvaluatorHoldout: Processed 34728 (100.0%) in 13.03 sec. Users per second: 2666\n",
      "EvaluatorHoldout: Processed 35209 (100.0%) in 14.05 sec. Users per second: 2507\n"
     ]
    },
    {
     "name": "stderr",
     "output_type": "stream",
     "text": [
      "[I 2024-12-27 03:13:57,373] Trial 278 finished with value: 0.0310717302355163 and parameters: {'x_0': 0.03197829138584632, 'x_1': 0.25331408741600625, 'x_2': 0.7671373591501636}. Best is trial 181 with value: 0.0310995804583821.\n"
     ]
    },
    {
     "name": "stdout",
     "output_type": "stream",
     "text": [
      "__________Iteration 279______________\n",
      "SLIM weight: 0.5887325296975487\n",
      "RP3b weight: 0.3616366441738784\n",
      "ItemKNN weight: 0.04963082612857293\n",
      "EvaluatorHoldout: Processed 34728 (100.0%) in 12.96 sec. Users per second: 2679\n",
      "EvaluatorHoldout: Processed 35209 (100.0%) in 14.07 sec. Users per second: 2503\n"
     ]
    },
    {
     "name": "stderr",
     "output_type": "stream",
     "text": [
      "[I 2024-12-27 03:14:24,495] Trial 279 finished with value: 0.03101800203303209 and parameters: {'x_0': 0.07579610189363356, 'x_1': 0.20502577425971458, 'x_2': 0.8045498326555671}. Best is trial 181 with value: 0.0310995804583821.\n"
     ]
    },
    {
     "name": "stdout",
     "output_type": "stream",
     "text": [
      "__________Iteration 280______________\n",
      "SLIM weight: 0.4924981656410391\n",
      "RP3b weight: 0.28743876373108457\n",
      "ItemKNN weight: 0.22006307062787625\n",
      "EvaluatorHoldout: Processed 34728 (100.0%) in 13.00 sec. Users per second: 2670\n",
      "EvaluatorHoldout: Processed 35209 (100.0%) in 14.10 sec. Users per second: 2497\n"
     ]
    },
    {
     "name": "stderr",
     "output_type": "stream",
     "text": [
      "[I 2024-12-27 03:14:51,691] Trial 280 finished with value: 0.0308612464028834 and parameters: {'x_0': 0.051437505508249035, 'x_1': 0.17695339480164848, 'x_2': 0.2655589211684297}. Best is trial 181 with value: 0.0310995804583821.\n"
     ]
    },
    {
     "name": "stdout",
     "output_type": "stream",
     "text": [
      "__________Iteration 281______________\n",
      "SLIM weight: 0.7115928896985841\n",
      "RP3b weight: 0.2526328542506788\n",
      "ItemKNN weight: 0.035774256050737016\n",
      "EvaluatorHoldout: Processed 34728 (100.0%) in 13.01 sec. Users per second: 2670\n",
      "EvaluatorHoldout: Processed 35209 (100.0%) in 14.02 sec. Users per second: 2511\n"
     ]
    },
    {
     "name": "stderr",
     "output_type": "stream",
     "text": [
      "[I 2024-12-27 03:15:18,816] Trial 281 finished with value: 0.03105951169725257 and parameters: {'x_0': 0.031175726034315544, 'x_1': 0.2919228570511624, 'x_2': 0.8399992666139992}. Best is trial 181 with value: 0.0310995804583821.\n"
     ]
    },
    {
     "name": "stdout",
     "output_type": "stream",
     "text": [
      "__________Iteration 282______________\n",
      "SLIM weight: 0.7543139107121462\n",
      "RP3b weight: 0.2220484447741522\n",
      "ItemKNN weight: 0.023637644513701594\n",
      "EvaluatorHoldout: Processed 34728 (100.0%) in 13.03 sec. Users per second: 2665\n",
      "EvaluatorHoldout: Processed 35209 (100.0%) in 14.05 sec. Users per second: 2506\n"
     ]
    },
    {
     "name": "stderr",
     "output_type": "stream",
     "text": [
      "[I 2024-12-27 03:15:45,986] Trial 282 finished with value: 0.03098973016604222 and parameters: {'x_0': 0.0017410911413813478, 'x_1': 0.1540908154440948, 'x_2': 0.8194768439310517}. Best is trial 181 with value: 0.0310995804583821.\n"
     ]
    },
    {
     "name": "stdout",
     "output_type": "stream",
     "text": [
      "New best on test found! Score is 0.04803199330798644\n",
      "weights: SLIM_w: 0.7543139107121462, RP3b_w: 0.2220484447741522, ItemKNN_w: 0.023637644513701594\n",
      "__________Iteration 283______________\n",
      "SLIM weight: 0.6234484645456446\n",
      "RP3b weight: 0.3242870702842708\n",
      "ItemKNN weight: 0.05226446517008449\n",
      "EvaluatorHoldout: Processed 34728 (100.0%) in 12.99 sec. Users per second: 2673\n",
      "EvaluatorHoldout: Processed 35209 (100.0%) in 14.08 sec. Users per second: 2501\n"
     ]
    },
    {
     "name": "stderr",
     "output_type": "stream",
     "text": [
      "[I 2024-12-27 03:16:13,149] Trial 283 finished with value: 0.031058556427638016 and parameters: {'x_0': 0.061762618798341405, 'x_1': 0.23496073514214966, 'x_2': 0.7918173651742683}. Best is trial 181 with value: 0.0310995804583821.\n"
     ]
    },
    {
     "name": "stdout",
     "output_type": "stream",
     "text": [
      "__________Iteration 284______________\n",
      "SLIM weight: 0.5744178719900825\n",
      "RP3b weight: 0.3865659159774829\n",
      "ItemKNN weight: 0.039016212032434494\n",
      "EvaluatorHoldout: Processed 34728 (100.0%) in 13.11 sec. Users per second: 2649\n",
      "EvaluatorHoldout: Processed 35209 (100.0%) in 13.94 sec. Users per second: 2525\n"
     ]
    },
    {
     "name": "stderr",
     "output_type": "stream",
     "text": [
      "[I 2024-12-27 03:16:40,293] Trial 284 finished with value: 0.030953058553912765 and parameters: {'x_0': 0.09043964500173733, 'x_1': 0.19845450349547378, 'x_2': 0.849400892919508}. Best is trial 181 with value: 0.0310995804583821.\n"
     ]
    },
    {
     "name": "stdout",
     "output_type": "stream",
     "text": [
      "__________Iteration 285______________\n",
      "SLIM weight: 0.7124189325786375\n",
      "RP3b weight: 0.23840930520770565\n",
      "ItemKNN weight: 0.049171762213656836\n",
      "EvaluatorHoldout: Processed 34728 (100.0%) in 13.05 sec. Users per second: 2660\n",
      "EvaluatorHoldout: Processed 35209 (100.0%) in 13.93 sec. Users per second: 2527\n"
     ]
    },
    {
     "name": "stderr",
     "output_type": "stream",
     "text": [
      "[I 2024-12-27 03:17:07,374] Trial 285 finished with value: 0.031045643147836338 and parameters: {'x_0': 0.022035308922825205, 'x_1': 0.2789515334535409, 'x_2': 0.7684943350368335}. Best is trial 181 with value: 0.0310995804583821.\n"
     ]
    },
    {
     "name": "stdout",
     "output_type": "stream",
     "text": [
      "__________Iteration 286______________\n",
      "SLIM weight: 0.6692421195601236\n",
      "RP3b weight: 0.28692697591896016\n",
      "ItemKNN weight: 0.043830904520916154\n",
      "EvaluatorHoldout: Processed 34728 (100.0%) in 12.92 sec. Users per second: 2687\n",
      "EvaluatorHoldout: Processed 35209 (100.0%) in 13.98 sec. Users per second: 2518\n"
     ]
    },
    {
     "name": "stderr",
     "output_type": "stream",
     "text": [
      "[I 2024-12-27 03:17:34,369] Trial 286 finished with value: 0.031093867123366786 and parameters: {'x_0': 0.037727395880543774, 'x_1': 0.2453376059895428, 'x_2': 0.8068271347573159}. Best is trial 181 with value: 0.0310995804583821.\n"
     ]
    },
    {
     "name": "stdout",
     "output_type": "stream",
     "text": [
      "__________Iteration 287______________\n",
      "SLIM weight: 0.6682163884536203\n",
      "RP3b weight: 0.2880297538000427\n",
      "ItemKNN weight: 0.043753857746336965\n",
      "EvaluatorHoldout: Processed 34728 (100.0%) in 13.04 sec. Users per second: 2663\n",
      "EvaluatorHoldout: Processed 35209 (100.0%) in 14.10 sec. Users per second: 2497\n"
     ]
    },
    {
     "name": "stderr",
     "output_type": "stream",
     "text": [
      "[I 2024-12-27 03:18:01,602] Trial 287 finished with value: 0.031089413007388822 and parameters: {'x_0': 0.040155413053133616, 'x_1': 0.25012331425353457, 'x_2': 0.8101681231032247}. Best is trial 181 with value: 0.0310995804583821.\n"
     ]
    },
    {
     "name": "stdout",
     "output_type": "stream",
     "text": [
      "__________Iteration 288______________\n",
      "SLIM weight: 0.49527470305234633\n",
      "RP3b weight: 0.2209564435501132\n",
      "ItemKNN weight: 0.28376885339754043\n",
      "EvaluatorHoldout: Processed 34728 (100.0%) in 12.97 sec. Users per second: 2678\n",
      "EvaluatorHoldout: Processed 35209 (100.0%) in 14.06 sec. Users per second: 2504\n"
     ]
    },
    {
     "name": "stderr",
     "output_type": "stream",
     "text": [
      "[I 2024-12-27 03:18:28,721] Trial 288 finished with value: 0.030789544048440844 and parameters: {'x_0': 0.04616944705688253, 'x_1': 0.253588637429177, 'x_2': 0.1716875253191159}. Best is trial 181 with value: 0.0310995804583821.\n"
     ]
    },
    {
     "name": "stdout",
     "output_type": "stream",
     "text": [
      "__________Iteration 289______________\n",
      "SLIM weight: 0.6260543924392228\n",
      "RP3b weight: 0.3189014399878061\n",
      "ItemKNN weight: 0.05504416757297114\n",
      "EvaluatorHoldout: Processed 34728 (100.0%) in 12.99 sec. Users per second: 2673\n",
      "EvaluatorHoldout: Processed 35209 (100.0%) in 14.08 sec. Users per second: 2500\n"
     ]
    },
    {
     "name": "stderr",
     "output_type": "stream",
     "text": [
      "[I 2024-12-27 03:18:55,885] Trial 289 finished with value: 0.031051205650807268 and parameters: {'x_0': 0.06388644496070914, 'x_1': 0.24631766442433214, 'x_2': 0.7851791139398744}. Best is trial 181 with value: 0.0310995804583821.\n"
     ]
    },
    {
     "name": "stdout",
     "output_type": "stream",
     "text": [
      "__________Iteration 290______________\n",
      "SLIM weight: 0.6567854624463797\n",
      "RP3b weight: 0.3038925275149973\n",
      "ItemKNN weight: 0.03932201003862306\n",
      "EvaluatorHoldout: Processed 34728 (100.0%) in 12.91 sec. Users per second: 2690\n",
      "EvaluatorHoldout: Processed 35209 (100.0%) in 14.14 sec. Users per second: 2490\n"
     ]
    },
    {
     "name": "stderr",
     "output_type": "stream",
     "text": [
      "[I 2024-12-27 03:19:23,029] Trial 290 finished with value: 0.031060804053633026 and parameters: {'x_0': 0.03862058884533824, 'x_1': 0.22188381901420828, 'x_2': 0.822985679206261}. Best is trial 181 with value: 0.0310995804583821.\n"
     ]
    },
    {
     "name": "stdout",
     "output_type": "stream",
     "text": [
      "__________Iteration 291______________\n",
      "SLIM weight: 0.6213208185672389\n",
      "RP3b weight: 0.32497217063141326\n",
      "ItemKNN weight: 0.05370701080134774\n",
      "EvaluatorHoldout: Processed 34728 (100.0%) in 13.07 sec. Users per second: 2656\n",
      "EvaluatorHoldout: Processed 35209 (100.0%) in 14.02 sec. Users per second: 2511\n"
     ]
    },
    {
     "name": "stderr",
     "output_type": "stream",
     "text": [
      "[I 2024-12-27 03:19:50,215] Trial 291 finished with value: 0.031053167610051547 and parameters: {'x_0': 0.08190437270092941, 'x_1': 0.270160722532614, 'x_2': 0.805501208045605}. Best is trial 181 with value: 0.0310995804583821.\n"
     ]
    },
    {
     "name": "stdout",
     "output_type": "stream",
     "text": [
      "__________Iteration 292______________\n",
      "SLIM weight: 0.681633326557089\n",
      "RP3b weight: 0.2834293544447211\n",
      "ItemKNN weight: 0.03493731899818988\n",
      "EvaluatorHoldout: Processed 34728 (100.0%) in 13.07 sec. Users per second: 2658\n",
      "EvaluatorHoldout: Processed 35209 (100.0%) in 14.01 sec. Users per second: 2514\n"
     ]
    },
    {
     "name": "stderr",
     "output_type": "stream",
     "text": [
      "[I 2024-12-27 03:20:17,379] Trial 292 finished with value: 0.03108155031574074 and parameters: {'x_0': 0.03083132422389175, 'x_1': 0.2353472704085019, 'x_2': 0.8366673942705076}. Best is trial 181 with value: 0.0310995804583821.\n"
     ]
    },
    {
     "name": "stdout",
     "output_type": "stream",
     "text": [
      "__________Iteration 293______________\n",
      "SLIM weight: 0.621299561061493\n",
      "RP3b weight: 0.32447389274950206\n",
      "ItemKNN weight: 0.05422654618900501\n",
      "EvaluatorHoldout: Processed 34728 (100.0%) in 13.04 sec. Users per second: 2662\n",
      "EvaluatorHoldout: Processed 35209 (100.0%) in 14.07 sec. Users per second: 2503\n"
     ]
    },
    {
     "name": "stderr",
     "output_type": "stream",
     "text": [
      "[I 2024-12-27 03:20:44,591] Trial 293 finished with value: 0.031056231100286765 and parameters: {'x_0': 0.054600260244455585, 'x_1': 0.2190279499763751, 'x_2': 0.7758599410974248}. Best is trial 181 with value: 0.0310995804583821.\n"
     ]
    },
    {
     "name": "stdout",
     "output_type": "stream",
     "text": [
      "__________Iteration 294______________\n",
      "SLIM weight: 0.8102036223800059\n",
      "RP3b weight: 0.16515242655026108\n",
      "ItemKNN weight: 0.024643951069733005\n",
      "EvaluatorHoldout: Processed 34728 (100.0%) in 13.01 sec. Users per second: 2669\n",
      "EvaluatorHoldout: Processed 35209 (100.0%) in 14.01 sec. Users per second: 2514\n"
     ]
    },
    {
     "name": "stderr",
     "output_type": "stream",
     "text": [
      "[I 2024-12-27 03:21:11,704] Trial 294 finished with value: 0.030924591290865448 and parameters: {'x_0': 0.0012407567127298673, 'x_1': 0.2556084562831291, 'x_2': 0.815828196442914}. Best is trial 181 with value: 0.0310995804583821.\n"
     ]
    },
    {
     "name": "stdout",
     "output_type": "stream",
     "text": [
      "__________Iteration 295______________\n",
      "SLIM weight: 0.6862802101359744\n",
      "RP3b weight: 0.2696097053584845\n",
      "ItemKNN weight: 0.044110084505541096\n",
      "EvaluatorHoldout: Processed 34728 (100.0%) in 13.06 sec. Users per second: 2660\n",
      "EvaluatorHoldout: Processed 35209 (100.0%) in 14.07 sec. Users per second: 2502\n"
     ]
    },
    {
     "name": "stderr",
     "output_type": "stream",
     "text": [
      "[I 2024-12-27 03:21:38,926] Trial 295 finished with value: 0.03109722999235678 and parameters: {'x_0': 0.025051353515057787, 'x_1': 0.2349472025188408, 'x_2': 0.7890167428192291}. Best is trial 181 with value: 0.0310995804583821.\n"
     ]
    },
    {
     "name": "stdout",
     "output_type": "stream",
     "text": [
      "__________Iteration 296______________\n",
      "SLIM weight: 0.6501795375452456\n",
      "RP3b weight: 0.2930787696153311\n",
      "ItemKNN weight: 0.05674169283942345\n",
      "EvaluatorHoldout: Processed 34728 (100.0%) in 13.11 sec. Users per second: 2650\n",
      "EvaluatorHoldout: Processed 35209 (100.0%) in 14.06 sec. Users per second: 2504\n"
     ]
    },
    {
     "name": "stderr",
     "output_type": "stream",
     "text": [
      "[I 2024-12-27 03:22:06,186] Trial 296 finished with value: 0.031079227273723455 and parameters: {'x_0': 0.04350743195529598, 'x_1': 0.24339453191128066, 'x_2': 0.7606525644410718}. Best is trial 181 with value: 0.0310995804583821.\n"
     ]
    },
    {
     "name": "stdout",
     "output_type": "stream",
     "text": [
      "__________Iteration 297______________\n",
      "SLIM weight: 0.6464408224496264\n",
      "RP3b weight: 0.2988466936858061\n",
      "ItemKNN weight: 0.05471248386456747\n",
      "EvaluatorHoldout: Processed 34728 (100.0%) in 13.03 sec. Users per second: 2665\n",
      "EvaluatorHoldout: Processed 35209 (100.0%) in 14.10 sec. Users per second: 2498\n"
     ]
    },
    {
     "name": "stderr",
     "output_type": "stream",
     "text": [
      "[I 2024-12-27 03:22:33,404] Trial 297 finished with value: 0.03106753436228104 and parameters: {'x_0': 0.05989483210808362, 'x_1': 0.2721401246375399, 'x_2': 0.7879932965501064}. Best is trial 181 with value: 0.0310995804583821.\n"
     ]
    },
    {
     "name": "stdout",
     "output_type": "stream",
     "text": [
      "__________Iteration 298______________\n",
      "SLIM weight: 0.6950564960958321\n",
      "RP3b weight: 0.26352663499264256\n",
      "ItemKNN weight: 0.04141686891152544\n",
      "EvaluatorHoldout: Processed 34728 (100.0%) in 13.00 sec. Users per second: 2672\n",
      "EvaluatorHoldout: Processed 35209 (100.0%) in 13.95 sec. Users per second: 2525\n"
     ]
    },
    {
     "name": "stderr",
     "output_type": "stream",
     "text": [
      "[I 2024-12-27 03:23:00,443] Trial 298 finished with value: 0.03108713795738573 and parameters: {'x_0': 0.02103632348195438, 'x_1': 0.23129367245780652, 'x_2': 0.7944553738864231}. Best is trial 181 with value: 0.0310995804583821.\n"
     ]
    },
    {
     "name": "stdout",
     "output_type": "stream",
     "text": [
      "__________Iteration 299______________\n",
      "SLIM weight: 0.6348542275835243\n",
      "RP3b weight: 0.1129142603522476\n",
      "ItemKNN weight: 0.2522315120642281\n",
      "EvaluatorHoldout: Processed 34728 (100.0%) in 13.04 sec. Users per second: 2664\n",
      "EvaluatorHoldout: Processed 35209 (100.0%) in 14.00 sec. Users per second: 2515\n"
     ]
    },
    {
     "name": "stderr",
     "output_type": "stream",
     "text": [
      "[I 2024-12-27 03:23:27,572] Trial 299 finished with value: 0.030740891572784226 and parameters: {'x_0': 0.0002485726681330132, 'x_1': 0.22850753130955878, 'x_2': 0.03697356491826087}. Best is trial 181 with value: 0.0310995804583821.\n"
     ]
    },
    {
     "name": "stdout",
     "output_type": "stream",
     "text": [
      "__________Iteration 300______________\n",
      "SLIM weight: 0.6896603337288237\n",
      "RP3b weight: 0.2654886858831864\n",
      "ItemKNN weight: 0.044850980387989715\n",
      "EvaluatorHoldout: Processed 34728 (100.0%) in 12.89 sec. Users per second: 2693\n",
      "EvaluatorHoldout: Processed 35209 (100.0%) in 14.04 sec. Users per second: 2509\n"
     ]
    },
    {
     "name": "stderr",
     "output_type": "stream",
     "text": [
      "[I 2024-12-27 03:23:54,592] Trial 300 finished with value: 0.031086610045230265 and parameters: {'x_0': 0.018375128167210823, 'x_1': 0.2146869104856916, 'x_2': 0.7711110725409334}. Best is trial 181 with value: 0.0310995804583821.\n"
     ]
    },
    {
     "name": "stdout",
     "output_type": "stream",
     "text": [
      "__________Iteration 301______________\n",
      "SLIM weight: 0.6831172061079775\n",
      "RP3b weight: 0.2660758037949486\n",
      "ItemKNN weight: 0.05080699009707388\n",
      "EvaluatorHoldout: Processed 34728 (100.0%) in 13.04 sec. Users per second: 2663\n",
      "EvaluatorHoldout: Processed 35209 (100.0%) in 14.05 sec. Users per second: 2506\n"
     ]
    },
    {
     "name": "stderr",
     "output_type": "stream",
     "text": [
      "[I 2024-12-27 03:24:21,777] Trial 301 finished with value: 0.031075074821834293 and parameters: {'x_0': 0.024985808942312313, 'x_1': 0.23762805325616093, 'x_2': 0.7600253898689816}. Best is trial 181 with value: 0.0310995804583821.\n"
     ]
    },
    {
     "name": "stdout",
     "output_type": "stream",
     "text": [
      "__________Iteration 302______________\n",
      "SLIM weight: 0.6299313113665708\n",
      "RP3b weight: 0.30859655249417745\n",
      "ItemKNN weight: 0.06147213613925182\n",
      "EvaluatorHoldout: Processed 34728 (100.0%) in 13.07 sec. Users per second: 2658\n",
      "EvaluatorHoldout: Processed 35209 (100.0%) in 14.03 sec. Users per second: 2510\n"
     ]
    },
    {
     "name": "stderr",
     "output_type": "stream",
     "text": [
      "[I 2024-12-27 03:24:48,965] Trial 302 finished with value: 0.03106549927234862 and parameters: {'x_0': 0.0792073913559094, 'x_1': 0.28874681586655815, 'x_2': 0.7807923443055798}. Best is trial 181 with value: 0.0310995804583821.\n"
     ]
    },
    {
     "name": "stdout",
     "output_type": "stream",
     "text": [
      "__________Iteration 303______________\n",
      "SLIM weight: 0.6778393005345105\n",
      "RP3b weight: 0.27616795339778033\n",
      "ItemKNN weight: 0.045992746067709186\n",
      "EvaluatorHoldout: Processed 34728 (100.0%) in 13.04 sec. Users per second: 2663\n",
      "EvaluatorHoldout: Processed 35209 (100.0%) in 14.04 sec. Users per second: 2507\n"
     ]
    },
    {
     "name": "stderr",
     "output_type": "stream",
     "text": [
      "[I 2024-12-27 03:25:16,141] Trial 303 finished with value: 0.031090594525069966 and parameters: {'x_0': 0.03414281245821086, 'x_1': 0.25259865283282074, 'x_2': 0.7952092751018451}. Best is trial 181 with value: 0.0310995804583821.\n"
     ]
    },
    {
     "name": "stdout",
     "output_type": "stream",
     "text": [
      "__________Iteration 304______________\n",
      "SLIM weight: 0.6486930301195623\n",
      "RP3b weight: 0.29225773360603835\n",
      "ItemKNN weight: 0.059049236274399335\n",
      "EvaluatorHoldout: Processed 34728 (100.0%) in 13.04 sec. Users per second: 2664\n",
      "EvaluatorHoldout: Processed 35209 (100.0%) in 14.07 sec. Users per second: 2502\n"
     ]
    },
    {
     "name": "stderr",
     "output_type": "stream",
     "text": [
      "[I 2024-12-27 03:25:43,344] Trial 304 finished with value: 0.031081262363655913 and parameters: {'x_0': 0.04867695797431578, 'x_1': 0.25620974876141556, 'x_2': 0.759468320066354}. Best is trial 181 with value: 0.0310995804583821.\n"
     ]
    },
    {
     "name": "stdout",
     "output_type": "stream",
     "text": [
      "__________Iteration 305______________\n",
      "SLIM weight: 0.6426369596279673\n",
      "RP3b weight: 0.30301997310845075\n",
      "ItemKNN weight: 0.0543430672635819\n",
      "EvaluatorHoldout: Processed 34728 (100.0%) in 13.05 sec. Users per second: 2661\n",
      "EvaluatorHoldout: Processed 35209 (100.0%) in 13.99 sec. Users per second: 2517\n"
     ]
    },
    {
     "name": "stderr",
     "output_type": "stream",
     "text": [
      "[I 2024-12-27 03:26:10,476] Trial 305 finished with value: 0.031070537291165105 and parameters: {'x_0': 0.06324509333917877, 'x_1': 0.2720527349715878, 'x_2': 0.7917930472857327}. Best is trial 181 with value: 0.0310995804583821.\n"
     ]
    },
    {
     "name": "stdout",
     "output_type": "stream",
     "text": [
      "__________Iteration 306______________\n",
      "SLIM weight: 0.5857442595483642\n",
      "RP3b weight: 0.35042082730864715\n",
      "ItemKNN weight: 0.06383491314298857\n",
      "EvaluatorHoldout: Processed 34728 (100.0%) in 13.02 sec. Users per second: 2667\n",
      "EvaluatorHoldout: Processed 35209 (100.0%) in 14.05 sec. Users per second: 2505\n"
     ]
    },
    {
     "name": "stderr",
     "output_type": "stream",
     "text": [
      "[I 2024-12-27 03:26:37,642] Trial 306 finished with value: 0.03103552940219217 and parameters: {'x_0': 0.09428594383142333, 'x_1': 0.24348043728296384, 'x_2': 0.773097638983452}. Best is trial 181 with value: 0.0310995804583821.\n"
     ]
    },
    {
     "name": "stdout",
     "output_type": "stream",
     "text": [
      "__________Iteration 307______________\n",
      "SLIM weight: 0.5692604101651592\n",
      "RP3b weight: 0.39351575089905383\n",
      "ItemKNN weight: 0.03722383893578703\n",
      "EvaluatorHoldout: Processed 34728 (100.0%) in 12.94 sec. Users per second: 2683\n",
      "EvaluatorHoldout: Processed 35209 (100.0%) in 14.01 sec. Users per second: 2513\n"
     ]
    },
    {
     "name": "stderr",
     "output_type": "stream",
     "text": [
      "[I 2024-12-27 03:27:04,688] Trial 307 finished with value: 0.030941122254398736 and parameters: {'x_0': 0.03153265622152762, 'x_1': 0.09167058765910083, 'x_2': 0.7976901228904927}. Best is trial 181 with value: 0.0310995804583821.\n"
     ]
    },
    {
     "name": "stdout",
     "output_type": "stream",
     "text": [
      "__________Iteration 308______________\n",
      "SLIM weight: 0.706071618472441\n",
      "RP3b weight: 0.2540868077195067\n",
      "ItemKNN weight: 0.0398415738080523\n",
      "EvaluatorHoldout: Processed 34728 (100.0%) in 13.02 sec. Users per second: 2667\n",
      "EvaluatorHoldout: Processed 35209 (100.0%) in 13.99 sec. Users per second: 2516\n"
     ]
    },
    {
     "name": "stderr",
     "output_type": "stream",
     "text": [
      "[I 2024-12-27 03:27:31,791] Trial 308 finished with value: 0.031072986026552733 and parameters: {'x_0': 0.01687621367344883, 'x_1': 0.23017995490926227, 'x_2': 0.7942738602780725}. Best is trial 181 with value: 0.0310995804583821.\n"
     ]
    },
    {
     "name": "stdout",
     "output_type": "stream",
     "text": [
      "__________Iteration 309______________\n",
      "SLIM weight: 0.6688633605805269\n",
      "RP3b weight: 0.2681713178327687\n",
      "ItemKNN weight: 0.06296532158670433\n",
      "EvaluatorHoldout: Processed 34728 (100.0%) in 13.03 sec. Users per second: 2665\n",
      "EvaluatorHoldout: Processed 35209 (100.0%) in 14.02 sec. Users per second: 2512\n"
     ]
    },
    {
     "name": "stderr",
     "output_type": "stream",
     "text": [
      "[I 2024-12-27 03:27:58,934] Trial 309 finished with value: 0.031072157592975446 and parameters: {'x_0': 0.04869477706919849, 'x_1': 0.29769024135106475, 'x_2': 0.7523890843603266}. Best is trial 181 with value: 0.0310995804583821.\n"
     ]
    },
    {
     "name": "stdout",
     "output_type": "stream",
     "text": [
      "__________Iteration 310______________\n",
      "SLIM weight: 0.7145250160885884\n",
      "RP3b weight: 0.24020985566275901\n",
      "ItemKNN weight: 0.045265128248652496\n",
      "EvaluatorHoldout: Processed 34728 (100.0%) in 12.98 sec. Users per second: 2676\n",
      "EvaluatorHoldout: Processed 35209 (100.0%) in 14.08 sec. Users per second: 2501\n"
     ]
    },
    {
     "name": "stderr",
     "output_type": "stream",
     "text": [
      "[I 2024-12-27 03:28:26,080] Trial 310 finished with value: 0.031054497674443127 and parameters: {'x_0': 0.016716025940508326, 'x_1': 0.25272650172794675, 'x_2': 0.7716770000718508}. Best is trial 181 with value: 0.0310995804583821.\n"
     ]
    },
    {
     "name": "stdout",
     "output_type": "stream",
     "text": [
      "__________Iteration 311______________\n",
      "SLIM weight: 0.6418249853852278\n",
      "RP3b weight: 0.3160125995017443\n",
      "ItemKNN weight: 0.04216241511302785\n",
      "EvaluatorHoldout: Processed 34728 (100.0%) in 13.05 sec. Users per second: 2661\n",
      "EvaluatorHoldout: Processed 35209 (100.0%) in 14.10 sec. Users per second: 2497\n"
     ]
    },
    {
     "name": "stderr",
     "output_type": "stream",
     "text": [
      "[I 2024-12-27 03:28:53,332] Trial 311 finished with value: 0.031056125974922442 and parameters: {'x_0': 0.03631347355838315, 'x_1': 0.1954460018090121, 'x_2': 0.8042827659343301}. Best is trial 181 with value: 0.0310995804583821.\n"
     ]
    },
    {
     "name": "stdout",
     "output_type": "stream",
     "text": [
      "__________Iteration 312______________\n",
      "SLIM weight: 0.7989615705817497\n",
      "RP3b weight: 0.17378821384328963\n",
      "ItemKNN weight: 0.02725021557496053\n",
      "EvaluatorHoldout: Processed 34728 (100.0%) in 12.99 sec. Users per second: 2673\n",
      "EvaluatorHoldout: Processed 35209 (100.0%) in 14.01 sec. Users per second: 2512\n"
     ]
    },
    {
     "name": "stderr",
     "output_type": "stream",
     "text": [
      "[I 2024-12-27 03:29:20,432] Trial 312 finished with value: 0.03093008637648318 and parameters: {'x_0': 0.0008825055281923601, 'x_1': 0.21659067084612973, 'x_2': 0.7867331630185973}. Best is trial 181 with value: 0.0310995804583821.\n"
     ]
    },
    {
     "name": "stdout",
     "output_type": "stream",
     "text": [
      "__________Iteration 313______________\n",
      "SLIM weight: 0.6237648721040719\n",
      "RP3b weight: 0.30446207754797444\n",
      "ItemKNN weight: 0.07177305034795353\n",
      "EvaluatorHoldout: Processed 34728 (100.0%) in 13.04 sec. Users per second: 2663\n",
      "EvaluatorHoldout: Processed 35209 (100.0%) in 13.96 sec. Users per second: 2523\n"
     ]
    },
    {
     "name": "stderr",
     "output_type": "stream",
     "text": [
      "[I 2024-12-27 03:29:47,520] Trial 313 finished with value: 0.03105260313255199 and parameters: {'x_0': 0.06734235791526284, 'x_1': 0.267968002164131, 'x_2': 0.7331246961157318}. Best is trial 181 with value: 0.0310995804583821.\n"
     ]
    },
    {
     "name": "stdout",
     "output_type": "stream",
     "text": [
      "__________Iteration 314______________\n",
      "SLIM weight: 0.6101561601832368\n",
      "RP3b weight: 0.34763607928488105\n",
      "ItemKNN weight: 0.04220776053188206\n",
      "EvaluatorHoldout: Processed 34728 (100.0%) in 12.99 sec. Users per second: 2673\n",
      "EvaluatorHoldout: Processed 35209 (100.0%) in 14.02 sec. Users per second: 2511\n"
     ]
    },
    {
     "name": "stderr",
     "output_type": "stream",
     "text": [
      "[I 2024-12-27 03:30:14,633] Trial 314 finished with value: 0.03101543788827721 and parameters: {'x_0': 0.045545425426942614, 'x_1': 0.1720480551989894, 'x_2': 0.8076021358070955}. Best is trial 181 with value: 0.0310995804583821.\n"
     ]
    },
    {
     "name": "stdout",
     "output_type": "stream",
     "text": [
      "__________Iteration 315______________\n",
      "SLIM weight: 0.6033431937792324\n",
      "RP3b weight: 0.33931285905380865\n",
      "ItemKNN weight: 0.05734394716695898\n",
      "EvaluatorHoldout: Processed 34728 (100.0%) in 13.01 sec. Users per second: 2668\n",
      "EvaluatorHoldout: Processed 35209 (100.0%) in 14.09 sec. Users per second: 2499\n"
     ]
    },
    {
     "name": "stderr",
     "output_type": "stream",
     "text": [
      "[I 2024-12-27 03:30:41,825] Trial 315 finished with value: 0.031030788476796477 and parameters: {'x_0': 0.07383104592441352, 'x_1': 0.23094651785219494, 'x_2': 0.7806085268819964}. Best is trial 181 with value: 0.0310995804583821.\n"
     ]
    },
    {
     "name": "stdout",
     "output_type": "stream",
     "text": [
      "__________Iteration 316______________\n",
      "SLIM weight: 0.6846878555941258\n",
      "RP3b weight: 0.27724186549446905\n",
      "ItemKNN weight: 0.03807027891140509\n",
      "EvaluatorHoldout: Processed 34728 (100.0%) in 13.01 sec. Users per second: 2670\n",
      "EvaluatorHoldout: Processed 35209 (100.0%) in 13.99 sec. Users per second: 2517\n"
     ]
    },
    {
     "name": "stderr",
     "output_type": "stream",
     "text": [
      "[I 2024-12-27 03:31:08,913] Trial 316 finished with value: 0.031082416457329055 and parameters: {'x_0': 0.019478086515107743, 'x_1': 0.20295882168266963, 'x_2': 0.8033313052154977}. Best is trial 181 with value: 0.0310995804583821.\n"
     ]
    },
    {
     "name": "stdout",
     "output_type": "stream",
     "text": [
      "__________Iteration 317______________\n",
      "SLIM weight: 0.6904495712408725\n",
      "RP3b weight: 0.254560352475192\n",
      "ItemKNN weight: 0.05499007628393548\n",
      "EvaluatorHoldout: Processed 34728 (100.0%) in 12.93 sec. Users per second: 2686\n",
      "EvaluatorHoldout: Processed 35209 (100.0%) in 14.05 sec. Users per second: 2506\n"
     ]
    },
    {
     "name": "stderr",
     "output_type": "stream",
     "text": [
      "[I 2024-12-27 03:31:35,989] Trial 317 finished with value: 0.031053592682176615 and parameters: {'x_0': 0.03356923185187083, 'x_1': 0.28610967127426484, 'x_2': 0.763133059529725}. Best is trial 181 with value: 0.0310995804583821.\n"
     ]
    },
    {
     "name": "stdout",
     "output_type": "stream",
     "text": [
      "__________Iteration 318______________\n",
      "SLIM weight: 0.644090673887492\n",
      "RP3b weight: 0.3084895021299922\n",
      "ItemKNN weight: 0.047419823982515805\n",
      "EvaluatorHoldout: Processed 34728 (100.0%) in 12.94 sec. Users per second: 2683\n",
      "EvaluatorHoldout: Processed 35209 (100.0%) in 14.01 sec. Users per second: 2513\n"
     ]
    },
    {
     "name": "stderr",
     "output_type": "stream",
     "text": [
      "[I 2024-12-27 03:32:03,031] Trial 318 finished with value: 0.031056291661637904 and parameters: {'x_0': 0.056141839335209345, 'x_1': 0.2517482262586538, 'x_2': 0.8089447368942957}. Best is trial 181 with value: 0.0310995804583821.\n"
     ]
    },
    {
     "name": "stdout",
     "output_type": "stream",
     "text": [
      "__________Iteration 319______________\n",
      "SLIM weight: 0.6597500896824535\n",
      "RP3b weight: 0.12116525012362381\n",
      "ItemKNN weight: 0.21908466019392256\n",
      "EvaluatorHoldout: Processed 34728 (100.0%) in 13.05 sec. Users per second: 2661\n",
      "EvaluatorHoldout: Processed 35209 (100.0%) in 14.02 sec. Users per second: 2511\n"
     ]
    },
    {
     "name": "stderr",
     "output_type": "stream",
     "text": [
      "[I 2024-12-27 03:32:30,191] Trial 319 finished with value: 0.03081355033950834 and parameters: {'x_0': 0.4783066215388243, 'x_1': 0.8733273017786082, 'x_2': 0.7827794198532925}. Best is trial 181 with value: 0.0310995804583821.\n"
     ]
    },
    {
     "name": "stdout",
     "output_type": "stream",
     "text": [
      "__________Iteration 320______________\n",
      "SLIM weight: 0.6894924000664021\n",
      "RP3b weight: 0.2790838413145665\n",
      "ItemKNN weight: 0.0314237586190314\n",
      "EvaluatorHoldout: Processed 34728 (100.0%) in 13.06 sec. Users per second: 2660\n",
      "EvaluatorHoldout: Processed 35209 (100.0%) in 14.10 sec. Users per second: 2497\n"
     ]
    },
    {
     "name": "stderr",
     "output_type": "stream",
     "text": [
      "[I 2024-12-27 03:32:57,434] Trial 320 finished with value: 0.03108656662388421 and parameters: {'x_0': 0.016332460401957804, 'x_1': 0.18910459359895213, 'x_2': 0.829009405829459}. Best is trial 181 with value: 0.0310995804583821.\n"
     ]
    },
    {
     "name": "stdout",
     "output_type": "stream",
     "text": [
      "__________Iteration 321______________\n",
      "SLIM weight: 0.6909769480586939\n",
      "RP3b weight: 0.27968448751556163\n",
      "ItemKNN weight: 0.029338564425744458\n",
      "EvaluatorHoldout: Processed 34728 (100.0%) in 12.97 sec. Users per second: 2678\n",
      "EvaluatorHoldout: Processed 35209 (100.0%) in 14.06 sec. Users per second: 2504\n"
     ]
    },
    {
     "name": "stderr",
     "output_type": "stream",
     "text": [
      "[I 2024-12-27 03:33:24,558] Trial 321 finished with value: 0.031093523180598902 and parameters: {'x_0': 0.01529351045002034, 'x_1': 0.184140318183925, 'x_2': 0.8373653913895462}. Best is trial 181 with value: 0.0310995804583821.\n"
     ]
    },
    {
     "name": "stdout",
     "output_type": "stream",
     "text": [
      "__________Iteration 322______________\n",
      "SLIM weight: 0.5556266594454683\n",
      "RP3b weight: 0.3457734269061385\n",
      "ItemKNN weight: 0.0985999136483932\n",
      "EvaluatorHoldout: Processed 34728 (100.0%) in 12.98 sec. Users per second: 2675\n",
      "EvaluatorHoldout: Processed 35209 (100.0%) in 14.11 sec. Users per second: 2495\n"
     ]
    },
    {
     "name": "stderr",
     "output_type": "stream",
     "text": [
      "[I 2024-12-27 03:33:51,750] Trial 322 finished with value: 0.031029500691084046 and parameters: {'x_0': 0.03996808916004432, 'x_1': 0.13484310132760088, 'x_2': 0.5647601789612791}. Best is trial 181 with value: 0.0310995804583821.\n"
     ]
    },
    {
     "name": "stdout",
     "output_type": "stream",
     "text": [
      "__________Iteration 323______________\n",
      "SLIM weight: 0.10907178200118416\n",
      "RP3b weight: 0.8287773725529786\n",
      "ItemKNN weight: 0.06215084544583721\n",
      "EvaluatorHoldout: Processed 34728 (100.0%) in 13.04 sec. Users per second: 2663\n",
      "EvaluatorHoldout: Processed 35209 (100.0%) in 14.00 sec. Users per second: 2514\n"
     ]
    },
    {
     "name": "stderr",
     "output_type": "stream",
     "text": [
      "[I 2024-12-27 03:34:18,884] Trial 323 finished with value: 0.029521309368405996 and parameters: {'x_0': 0.7805953345360856, 'x_1': 0.15226605326794243, 'x_2': 0.8683655524456814}. Best is trial 181 with value: 0.0310995804583821.\n"
     ]
    },
    {
     "name": "stdout",
     "output_type": "stream",
     "text": [
      "__________Iteration 324______________\n",
      "SLIM weight: 0.7134617246129193\n",
      "RP3b weight: 0.19749257959906427\n",
      "ItemKNN weight: 0.08904569578801638\n",
      "EvaluatorHoldout: Processed 34728 (100.0%) in 13.07 sec. Users per second: 2656\n",
      "EvaluatorHoldout: Processed 35209 (100.0%) in 14.04 sec. Users per second: 2508\n"
     ]
    },
    {
     "name": "stderr",
     "output_type": "stream",
     "text": [
      "[I 2024-12-27 03:34:46,087] Trial 324 finished with value: 0.031029211596332297 and parameters: {'x_0': 0.001599852933277631, 'x_1': 0.16829235267145903, 'x_2': 0.4477617198901735}. Best is trial 181 with value: 0.0310995804583821.\n"
     ]
    },
    {
     "name": "stdout",
     "output_type": "stream",
     "text": [
      "__________Iteration 325______________\n",
      "SLIM weight: 0.8219859242464912\n",
      "RP3b weight: 0.14282452851659178\n",
      "ItemKNN weight: 0.035189547236916925\n",
      "EvaluatorHoldout: Processed 34728 (100.0%) in 13.06 sec. Users per second: 2660\n",
      "EvaluatorHoldout: Processed 35209 (100.0%) in 14.03 sec. Users per second: 2509\n"
     ]
    },
    {
     "name": "stderr",
     "output_type": "stream",
     "text": [
      "[I 2024-12-27 03:35:13,266] Trial 325 finished with value: 0.030929768715056358 and parameters: {'x_0': 0.0010907039745707524, 'x_1': 0.30569296829370735, 'x_2': 0.7467634330510743}. Best is trial 181 with value: 0.0310995804583821.\n"
     ]
    },
    {
     "name": "stdout",
     "output_type": "stream",
     "text": [
      "__________Iteration 326______________\n",
      "SLIM weight: 0.5970506582721746\n",
      "RP3b weight: 0.3588762430466884\n",
      "ItemKNN weight: 0.04407309868113687\n",
      "EvaluatorHoldout: Processed 34728 (100.0%) in 12.99 sec. Users per second: 2673\n",
      "EvaluatorHoldout: Processed 35209 (100.0%) in 14.04 sec. Users per second: 2508\n"
     ]
    },
    {
     "name": "stderr",
     "output_type": "stream",
     "text": [
      "[I 2024-12-27 03:35:40,388] Trial 326 finished with value: 0.030998537843301813 and parameters: {'x_0': 0.08893083683387715, 'x_1': 0.23350414002554293, 'x_2': 0.8364136760967757}. Best is trial 181 with value: 0.0310995804583821.\n"
     ]
    },
    {
     "name": "stdout",
     "output_type": "stream",
     "text": [
      "__________Iteration 327______________\n",
      "SLIM weight: 0.6419938911276617\n",
      "RP3b weight: 0.30454400292984696\n",
      "ItemKNN weight: 0.05346210594249135\n",
      "EvaluatorHoldout: Processed 34728 (100.0%) in 13.02 sec. Users per second: 2668\n",
      "EvaluatorHoldout: Processed 35209 (100.0%) in 14.03 sec. Users per second: 2510\n"
     ]
    },
    {
     "name": "stderr",
     "output_type": "stream",
     "text": [
      "[I 2024-12-27 03:36:07,524] Trial 327 finished with value: 0.03106756978495815 and parameters: {'x_0': 0.06769470020901608, 'x_1': 0.27877109415830564, 'x_2': 0.7991242729225689}. Best is trial 181 with value: 0.0310995804583821.\n"
     ]
    },
    {
     "name": "stdout",
     "output_type": "stream",
     "text": [
      "__________Iteration 328______________\n",
      "SLIM weight: 0.6309085521050242\n",
      "RP3b weight: 0.32079973642306564\n",
      "ItemKNN weight: 0.048291711471910234\n",
      "EvaluatorHoldout: Processed 34728 (100.0%) in 13.05 sec. Users per second: 2662\n",
      "EvaluatorHoldout: Processed 35209 (100.0%) in 13.96 sec. Users per second: 2521\n"
     ]
    },
    {
     "name": "stderr",
     "output_type": "stream",
     "text": [
      "[I 2024-12-27 03:36:34,630] Trial 328 finished with value: 0.031057959955462407 and parameters: {'x_0': 0.03509862964762396, 'x_1': 0.18210415250998405, 'x_2': 0.7738414072361977}. Best is trial 181 with value: 0.0310995804583821.\n"
     ]
    },
    {
     "name": "stdout",
     "output_type": "stream",
     "text": [
      "__________Iteration 329______________\n",
      "SLIM weight: 0.6648281297538332\n",
      "RP3b weight: 0.2977009007293356\n",
      "ItemKNN weight: 0.037470969516831126\n",
      "EvaluatorHoldout: Processed 34728 (100.0%) in 12.95 sec. Users per second: 2682\n",
      "EvaluatorHoldout: Processed 35209 (100.0%) in 14.01 sec. Users per second: 2513\n"
     ]
    },
    {
     "name": "stderr",
     "output_type": "stream",
     "text": [
      "[I 2024-12-27 03:37:01,687] Trial 329 finished with value: 0.031065710665744182 and parameters: {'x_0': 0.04847180972986628, 'x_1': 0.2578577226473274, 'x_2': 0.843163289716089}. Best is trial 181 with value: 0.0310995804583821.\n"
     ]
    },
    {
     "name": "stdout",
     "output_type": "stream",
     "text": [
      "__________Iteration 330______________\n",
      "SLIM weight: 0.6919197046581579\n",
      "RP3b weight: 0.28626980395971174\n",
      "ItemKNN weight: 0.02181049138213023\n",
      "EvaluatorHoldout: Processed 34728 (100.0%) in 13.02 sec. Users per second: 2668\n",
      "EvaluatorHoldout: Processed 35209 (100.0%) in 14.09 sec. Users per second: 2499\n"
     ]
    },
    {
     "name": "stderr",
     "output_type": "stream",
     "text": [
      "[I 2024-12-27 03:37:28,889] Trial 330 finished with value: 0.03107241355038427 and parameters: {'x_0': 0.02081663700275751, 'x_1': 0.20149834029870953, 'x_2': 0.8851022154071557}. Best is trial 181 with value: 0.0310995804583821.\n"
     ]
    },
    {
     "name": "stdout",
     "output_type": "stream",
     "text": [
      "__________Iteration 331______________\n",
      "SLIM weight: 0.6690960408544873\n",
      "RP3b weight: 0.2925919991955314\n",
      "ItemKNN weight: 0.038311959949981315\n",
      "EvaluatorHoldout: Processed 34728 (100.0%) in 13.00 sec. Users per second: 2671\n",
      "EvaluatorHoldout: Processed 35209 (100.0%) in 14.23 sec. Users per second: 2475\n"
     ]
    },
    {
     "name": "stderr",
     "output_type": "stream",
     "text": [
      "[I 2024-12-27 03:37:56,209] Trial 331 finished with value: 0.031077640109256188 and parameters: {'x_0': 0.03055898583262557, 'x_1': 0.21755027316985762, 'x_2': 0.818955192410054}. Best is trial 181 with value: 0.0310995804583821.\n"
     ]
    },
    {
     "name": "stdout",
     "output_type": "stream",
     "text": [
      "__________Iteration 332______________\n",
      "SLIM weight: 0.8287534331931175\n",
      "RP3b weight: 0.1542598745281004\n",
      "ItemKNN weight: 0.016986692278782176\n",
      "EvaluatorHoldout: Processed 34728 (100.0%) in 13.06 sec. Users per second: 2658\n",
      "EvaluatorHoldout: Processed 35209 (100.0%) in 14.12 sec. Users per second: 2494\n"
     ]
    },
    {
     "name": "stderr",
     "output_type": "stream",
     "text": [
      "[I 2024-12-27 03:38:23,482] Trial 332 finished with value: 0.030881912678300903 and parameters: {'x_0': 0.0005075424656740511, 'x_1': 0.24365407651485166, 'x_2': 0.8559987455917132}. Best is trial 181 with value: 0.0310995804583821.\n"
     ]
    },
    {
     "name": "stdout",
     "output_type": "stream",
     "text": [
      "__________Iteration 333______________\n",
      "SLIM weight: 0.6436452498761311\n",
      "RP3b weight: 0.3065550552348514\n",
      "ItemKNN weight: 0.049799694889017386\n",
      "EvaluatorHoldout: Processed 34728 (100.0%) in 12.98 sec. Users per second: 2676\n",
      "EvaluatorHoldout: Processed 35209 (100.0%) in 14.05 sec. Users per second: 2506\n"
     ]
    },
    {
     "name": "stderr",
     "output_type": "stream",
     "text": [
      "[I 2024-12-27 03:38:50,600] Trial 333 finished with value: 0.031056248240291774 and parameters: {'x_0': 0.06452648505274625, 'x_1': 0.2710831862116609, 'x_2': 0.808924214432526}. Best is trial 181 with value: 0.0310995804583821.\n"
     ]
    },
    {
     "name": "stdout",
     "output_type": "stream",
     "text": [
      "__________Iteration 334______________\n",
      "SLIM weight: 0.6414532240494234\n",
      "RP3b weight: 0.30891483480399073\n",
      "ItemKNN weight: 0.049631941146585944\n",
      "EvaluatorHoldout: Processed 34728 (100.0%) in 13.05 sec. Users per second: 2661\n",
      "EvaluatorHoldout: Processed 35209 (100.0%) in 14.05 sec. Users per second: 2506\n"
     ]
    },
    {
     "name": "stderr",
     "output_type": "stream",
     "text": [
      "[I 2024-12-27 03:39:17,792] Trial 334 finished with value: 0.031058092504834718 and parameters: {'x_0': 0.048085743304894665, 'x_1': 0.23188765906813924, 'x_2': 0.7907187649886632}. Best is trial 181 with value: 0.0310995804583821.\n"
     ]
    },
    {
     "name": "stdout",
     "output_type": "stream",
     "text": [
      "__________Iteration 335______________\n",
      "SLIM weight: 0.6587462560556081\n",
      "RP3b weight: 0.29056200264333926\n",
      "ItemKNN weight: 0.0506917413010525\n",
      "EvaluatorHoldout: Processed 34728 (100.0%) in 13.00 sec. Users per second: 2671\n",
      "EvaluatorHoldout: Processed 35209 (100.0%) in 13.98 sec. Users per second: 2519\n"
     ]
    },
    {
     "name": "stderr",
     "output_type": "stream",
     "text": [
      "[I 2024-12-27 03:39:44,860] Trial 335 finished with value: 0.031072407837049155 and parameters: {'x_0': 0.023777292448265732, 'x_1': 0.19219951088269596, 'x_2': 0.7499679375424168}. Best is trial 181 with value: 0.0310995804583821.\n"
     ]
    },
    {
     "name": "stdout",
     "output_type": "stream",
     "text": [
      "__________Iteration 336______________\n",
      "SLIM weight: 0.616868197029384\n",
      "RP3b weight: 0.33310350011801637\n",
      "ItemKNN weight: 0.0500283028525997\n",
      "EvaluatorHoldout: Processed 34728 (100.0%) in 13.05 sec. Users per second: 2661\n",
      "EvaluatorHoldout: Processed 35209 (100.0%) in 14.11 sec. Users per second: 2496\n"
     ]
    },
    {
     "name": "stderr",
     "output_type": "stream",
     "text": [
      "[I 2024-12-27 03:40:12,108] Trial 336 finished with value: 0.031044793003586067 and parameters: {'x_0': 0.10451617258978792, 'x_1': 0.29537079867705396, 'x_2': 0.8326362550860493}. Best is trial 181 with value: 0.0310995804583821.\n"
     ]
    },
    {
     "name": "stdout",
     "output_type": "stream",
     "text": [
      "__________Iteration 337______________\n",
      "SLIM weight: 0.6265035829871483\n",
      "RP3b weight: 0.33179367813095206\n",
      "ItemKNN weight: 0.041702738881899695\n",
      "EvaluatorHoldout: Processed 34728 (100.0%) in 12.99 sec. Users per second: 2673\n",
      "EvaluatorHoldout: Processed 35209 (100.0%) in 14.10 sec. Users per second: 2497\n"
     ]
    },
    {
     "name": "stderr",
     "output_type": "stream",
     "text": [
      "[I 2024-12-27 03:40:39,294] Trial 337 finished with value: 0.03105106281743189 and parameters: {'x_0': 0.01800224665573698, 'x_1': 0.1191319687694161, 'x_2': 0.7653624251160935}. Best is trial 181 with value: 0.0310995804583821.\n"
     ]
    },
    {
     "name": "stdout",
     "output_type": "stream",
     "text": [
      "__________Iteration 338______________\n",
      "SLIM weight: 0.5895167371771427\n",
      "RP3b weight: 0.3565970187195423\n",
      "ItemKNN weight: 0.05388624410331493\n",
      "EvaluatorHoldout: Processed 34728 (100.0%) in 13.03 sec. Users per second: 2665\n",
      "EvaluatorHoldout: Processed 35209 (100.0%) in 14.07 sec. Users per second: 2502\n"
     ]
    },
    {
     "name": "stderr",
     "output_type": "stream",
     "text": [
      "[I 2024-12-27 03:41:06,491] Trial 338 finished with value: 0.031026461196855787 and parameters: {'x_0': 0.07691018842454148, 'x_1': 0.21190186292208416, 'x_2': 0.7909892557977828}. Best is trial 181 with value: 0.0310995804583821.\n"
     ]
    },
    {
     "name": "stdout",
     "output_type": "stream",
     "text": [
      "__________Iteration 339______________\n",
      "SLIM weight: 0.6612206016147413\n",
      "RP3b weight: 0.29447001219534447\n",
      "ItemKNN weight: 0.044309386189914216\n",
      "EvaluatorHoldout: Processed 34728 (100.0%) in 13.08 sec. Users per second: 2656\n",
      "EvaluatorHoldout: Processed 35209 (100.0%) in 14.04 sec. Users per second: 2509\n"
     ]
    },
    {
     "name": "stderr",
     "output_type": "stream",
     "text": [
      "[I 2024-12-27 03:41:33,695] Trial 339 finished with value: 0.031077841218648764 and parameters: {'x_0': 0.045239046039649476, 'x_1': 0.2519081555335421, 'x_2': 0.8126507397372379}. Best is trial 181 with value: 0.0310995804583821.\n"
     ]
    },
    {
     "name": "stdout",
     "output_type": "stream",
     "text": [
      "__________Iteration 340______________\n",
      "SLIM weight: 0.6620681833183634\n",
      "RP3b weight: 0.3054167003896318\n",
      "ItemKNN weight: 0.032515116292004806\n",
      "EvaluatorHoldout: Processed 34728 (100.0%) in 12.95 sec. Users per second: 2681\n",
      "EvaluatorHoldout: Processed 35209 (100.0%) in 14.00 sec. Users per second: 2514\n"
     ]
    },
    {
     "name": "stderr",
     "output_type": "stream",
     "text": [
      "[I 2024-12-27 03:42:00,743] Trial 340 finished with value: 0.031053077339358272 and parameters: {'x_0': 0.038408938001927705, 'x_1': 0.22232519554008584, 'x_2': 0.8520781793289728}. Best is trial 181 with value: 0.0310995804583821.\n"
     ]
    },
    {
     "name": "stdout",
     "output_type": "stream",
     "text": [
      "__________Iteration 341______________\n",
      "SLIM weight: 0.35863317950993484\n",
      "RP3b weight: 0.5641338618668276\n",
      "ItemKNN weight: 0.07723295862323762\n",
      "EvaluatorHoldout: Processed 34728 (100.0%) in 13.07 sec. Users per second: 2658\n",
      "EvaluatorHoldout: Processed 35209 (100.0%) in 13.99 sec. Users per second: 2517\n"
     ]
    },
    {
     "name": "stderr",
     "output_type": "stream",
     "text": [
      "[I 2024-12-27 03:42:27,886] Trial 341 finished with value: 0.0306507442875782 and parameters: {'x_0': 0.31986140629320825, 'x_1': 0.16645606944081204, 'x_2': 0.7823331508503171}. Best is trial 181 with value: 0.0310995804583821.\n"
     ]
    },
    {
     "name": "stdout",
     "output_type": "stream",
     "text": [
      "__________Iteration 342______________\n",
      "SLIM weight: 0.7264908111786981\n",
      "RP3b weight: 0.2411613189512098\n",
      "ItemKNN weight: 0.03234786987009221\n",
      "EvaluatorHoldout: Processed 34728 (100.0%) in 13.07 sec. Users per second: 2658\n",
      "EvaluatorHoldout: Processed 35209 (100.0%) in 14.09 sec. Users per second: 2499\n"
     ]
    },
    {
     "name": "stderr",
     "output_type": "stream",
     "text": [
      "[I 2024-12-27 03:42:55,130] Trial 342 finished with value: 0.031034392448524135 and parameters: {'x_0': 0.017077735973868326, 'x_1': 0.25896953764185815, 'x_2': 0.83425122043694}. Best is trial 181 with value: 0.0310995804583821.\n"
     ]
    },
    {
     "name": "stdout",
     "output_type": "stream",
     "text": [
      "__________Iteration 343______________\n",
      "SLIM weight: 0.6145412988484541\n",
      "RP3b weight: 0.31521717954702266\n",
      "ItemKNN weight: 0.0702415216045233\n",
      "EvaluatorHoldout: Processed 34728 (100.0%) in 13.03 sec. Users per second: 2665\n",
      "EvaluatorHoldout: Processed 35209 (100.0%) in 14.05 sec. Users per second: 2507\n"
     ]
    },
    {
     "name": "stderr",
     "output_type": "stream",
     "text": [
      "[I 2024-12-27 03:43:22,300] Trial 343 finished with value: 0.03106369957181884 and parameters: {'x_0': 0.060502763849131905, 'x_1': 0.23721106722224647, 'x_2': 0.7257014569680377}. Best is trial 181 with value: 0.0310995804583821.\n"
     ]
    },
    {
     "name": "stdout",
     "output_type": "stream",
     "text": [
      "__________Iteration 344______________\n",
      "SLIM weight: 0.6901275900558957\n",
      "RP3b weight: 0.26410509901821444\n",
      "ItemKNN weight: 0.045767310925889884\n",
      "EvaluatorHoldout: Processed 34728 (100.0%) in 13.07 sec. Users per second: 2658\n",
      "EvaluatorHoldout: Processed 35209 (100.0%) in 14.04 sec. Users per second: 2508\n"
     ]
    },
    {
     "name": "stderr",
     "output_type": "stream",
     "text": [
      "[I 2024-12-27 03:43:49,495] Trial 344 finished with value: 0.031078485682838445 and parameters: {'x_0': 0.03751897890937478, 'x_1': 0.2846949507388491, 'x_2': 0.8043560955147797}. Best is trial 181 with value: 0.0310995804583821.\n"
     ]
    },
    {
     "name": "stdout",
     "output_type": "stream",
     "text": [
      "__________Iteration 345______________\n",
      "SLIM weight: 0.6817789727412744\n",
      "RP3b weight: 0.2752443541010175\n",
      "ItemKNN weight: 0.042976673157708006\n",
      "EvaluatorHoldout: Processed 34728 (100.0%) in 13.06 sec. Users per second: 2658\n",
      "EvaluatorHoldout: Processed 35209 (100.0%) in 14.06 sec. Users per second: 2504\n"
     ]
    },
    {
     "name": "stderr",
     "output_type": "stream",
     "text": [
      "[I 2024-12-27 03:44:16,710] Trial 345 finished with value: 0.031092898141748142 and parameters: {'x_0': 0.015150093666638404, 'x_1': 0.1842495717806215, 'x_2': 0.7678926599274531}. Best is trial 181 with value: 0.0310995804583821.\n"
     ]
    },
    {
     "name": "stdout",
     "output_type": "stream",
     "text": [
      "__________Iteration 346______________\n",
      "SLIM weight: 0.5761264656911791\n",
      "RP3b weight: 0.38330581853663304\n",
      "ItemKNN weight: 0.04056771577218777\n",
      "EvaluatorHoldout: Processed 34728 (100.0%) in 13.03 sec. Users per second: 2665\n",
      "EvaluatorHoldout: Processed 35209 (100.0%) in 14.14 sec. Users per second: 2489\n"
     ]
    },
    {
     "name": "stderr",
     "output_type": "stream",
     "text": [
      "[I 2024-12-27 03:44:43,974] Trial 346 finished with value: 0.030962387287325782 and parameters: {'x_0': 0.05990151179463442, 'x_1': 0.15367757950612437, 'x_2': 0.82018867456381}. Best is trial 181 with value: 0.0310995804583821.\n"
     ]
    },
    {
     "name": "stdout",
     "output_type": "stream",
     "text": [
      "__________Iteration 347______________\n",
      "SLIM weight: 0.8012855370425885\n",
      "RP3b weight: 0.1834101455354234\n",
      "ItemKNN weight: 0.015304317421987962\n",
      "EvaluatorHoldout: Processed 34728 (100.0%) in 13.02 sec. Users per second: 2668\n",
      "EvaluatorHoldout: Processed 35209 (100.0%) in 14.05 sec. Users per second: 2506\n"
     ]
    },
    {
     "name": "stderr",
     "output_type": "stream",
     "text": [
      "[I 2024-12-27 03:45:11,134] Trial 347 finished with value: 0.030928200975928126 and parameters: {'x_0': 0.0005972791031114612, 'x_1': 0.18284519001405364, 'x_2': 0.8678125724188299}. Best is trial 181 with value: 0.0310995804583821.\n"
     ]
    },
    {
     "name": "stdout",
     "output_type": "stream",
     "text": [
      "__________Iteration 348______________\n",
      "SLIM weight: 0.8169604904168613\n",
      "RP3b weight: 0.15979683520099075\n",
      "ItemKNN weight: 0.023242674382147964\n",
      "EvaluatorHoldout: Processed 34728 (100.0%) in 13.02 sec. Users per second: 2668\n",
      "EvaluatorHoldout: Processed 35209 (100.0%) in 14.14 sec. Users per second: 2490\n"
     ]
    },
    {
     "name": "stderr",
     "output_type": "stream",
     "text": [
      "[I 2024-12-27 03:45:38,382] Trial 348 finished with value: 0.03090945209574184 and parameters: {'x_0': 0.00020343612211280032, 'x_1': 0.18964063785396132, 'x_2': 0.7851888211398796}. Best is trial 181 with value: 0.0310995804583821.\n"
     ]
    },
    {
     "name": "stdout",
     "output_type": "stream",
     "text": [
      "__________Iteration 349______________\n",
      "SLIM weight: 0.6081566826762076\n",
      "RP3b weight: 0.33552467645623707\n",
      "ItemKNN weight: 0.05631864086755532\n",
      "EvaluatorHoldout: Processed 34728 (100.0%) in 13.06 sec. Users per second: 2659\n",
      "EvaluatorHoldout: Processed 35209 (100.0%) in 14.11 sec. Users per second: 2496\n"
     ]
    },
    {
     "name": "stderr",
     "output_type": "stream",
     "text": [
      "[I 2024-12-27 03:46:05,639] Trial 349 finished with value: 0.03103213225319211 and parameters: {'x_0': 0.09186076710084164, 'x_1': 0.2678865792717912, 'x_2': 0.8016414470805695}. Best is trial 181 with value: 0.0310995804583821.\n"
     ]
    },
    {
     "name": "stdout",
     "output_type": "stream",
     "text": [
      "__________Iteration 350______________\n",
      "SLIM weight: 0.6440384539892396\n",
      "RP3b weight: 0.30307717100483256\n",
      "ItemKNN weight: 0.052884375005927735\n",
      "EvaluatorHoldout: Processed 34728 (100.0%) in 13.04 sec. Users per second: 2662\n",
      "EvaluatorHoldout: Processed 35209 (100.0%) in 14.00 sec. Users per second: 2514\n"
     ]
    },
    {
     "name": "stderr",
     "output_type": "stream",
     "text": [
      "[I 2024-12-27 03:46:32,777] Trial 350 finished with value: 0.031066374555272943 and parameters: {'x_0': 0.03436846698620844, 'x_1': 0.20470743741651332, 'x_2': 0.7582260598856349}. Best is trial 181 with value: 0.0310995804583821.\n"
     ]
    },
    {
     "name": "stdout",
     "output_type": "stream",
     "text": [
      "__________Iteration 351______________\n",
      "SLIM weight: 0.6496089400457307\n",
      "RP3b weight: 0.31180352565584013\n",
      "ItemKNN weight: 0.03858753429842916\n",
      "EvaluatorHoldout: Processed 34728 (100.0%) in 12.99 sec. Users per second: 2674\n",
      "EvaluatorHoldout: Processed 35209 (100.0%) in 14.06 sec. Users per second: 2504\n"
     ]
    },
    {
     "name": "stderr",
     "output_type": "stream",
     "text": [
      "[I 2024-12-27 03:46:59,918] Trial 351 finished with value: 0.03105527126000416 and parameters: {'x_0': 0.05194724198136007, 'x_1': 0.24181727848311588, 'x_2': 0.8388859158303562}. Best is trial 181 with value: 0.0310995804583821.\n"
     ]
    },
    {
     "name": "stdout",
     "output_type": "stream",
     "text": [
      "__________Iteration 352______________\n",
      "SLIM weight: 0.6690600589690392\n",
      "RP3b weight: 0.20833365067340875\n",
      "ItemKNN weight: 0.12260629035755193\n",
      "EvaluatorHoldout: Processed 34728 (100.0%) in 13.11 sec. Users per second: 2650\n",
      "EvaluatorHoldout: Processed 35209 (100.0%) in 14.03 sec. Users per second: 2509\n"
     ]
    },
    {
     "name": "stderr",
     "output_type": "stream",
     "text": [
      "[I 2024-12-27 03:47:27,148] Trial 352 finished with value: 0.031009731409263965 and parameters: {'x_0': 0.02414861425202836, 'x_1': 0.3136611984160499, 'x_2': 0.5054317243772785}. Best is trial 181 with value: 0.0310995804583821.\n"
     ]
    },
    {
     "name": "stdout",
     "output_type": "stream",
     "text": [
      "__________Iteration 353______________\n",
      "SLIM weight: 0.1264507560494282\n",
      "RP3b weight: 0.8248358517387264\n",
      "ItemKNN weight: 0.0487133922118454\n",
      "EvaluatorHoldout: Processed 34728 (100.0%) in 13.07 sec. Users per second: 2657\n",
      "EvaluatorHoldout: Processed 35209 (100.0%) in 14.11 sec. Users per second: 2496\n"
     ]
    },
    {
     "name": "stderr",
     "output_type": "stream",
     "text": [
      "[I 2024-12-27 03:47:54,418] Trial 353 finished with value: 0.029550954721133636 and parameters: {'x_0': 0.5973621502125664, 'x_1': 0.034705861341305766, 'x_2': 0.8199713753339541}. Best is trial 181 with value: 0.0310995804583821.\n"
     ]
    },
    {
     "name": "stdout",
     "output_type": "stream",
     "text": [
      "__________Iteration 354______________\n",
      "SLIM weight: 0.29870529007355484\n",
      "RP3b weight: 0.663610891727108\n",
      "ItemKNN weight: 0.037683818199337187\n",
      "EvaluatorHoldout: Processed 34728 (100.0%) in 13.04 sec. Users per second: 2663\n",
      "EvaluatorHoldout: Processed 35209 (100.0%) in 14.02 sec. Users per second: 2511\n"
     ]
    },
    {
     "name": "stderr",
     "output_type": "stream",
     "text": [
      "[I 2024-12-27 03:48:21,574] Trial 354 finished with value: 0.030336392024366422 and parameters: {'x_0': 0.4167226551043596, 'x_1': 0.14303527494471538, 'x_2': 0.8954492605327437}. Best is trial 181 with value: 0.0310995804583821.\n"
     ]
    },
    {
     "name": "stdout",
     "output_type": "stream",
     "text": [
      "__________Iteration 355______________\n",
      "SLIM weight: 0.5750999961313378\n",
      "RP3b weight: 0.376285892063126\n",
      "ItemKNN weight: 0.04861411180553617\n",
      "EvaluatorHoldout: Processed 34728 (100.0%) in 13.11 sec. Users per second: 2649\n",
      "EvaluatorHoldout: Processed 35209 (100.0%) in 14.01 sec. Users per second: 2513\n"
     ]
    },
    {
     "name": "stderr",
     "output_type": "stream",
     "text": [
      "[I 2024-12-27 03:48:48,783] Trial 355 finished with value: 0.03099405630331579 and parameters: {'x_0': 0.06801150728267655, 'x_1': 0.17225141411491557, 'x_2': 0.7967394927266164}. Best is trial 181 with value: 0.0310995804583821.\n"
     ]
    },
    {
     "name": "stdout",
     "output_type": "stream",
     "text": [
      "__________Iteration 356______________\n",
      "SLIM weight: 0.4261742499457613\n",
      "RP3b weight: 0.4876522760587553\n",
      "ItemKNN weight: 0.08617347399548352\n",
      "EvaluatorHoldout: Processed 34728 (100.0%) in 12.97 sec. Users per second: 2677\n",
      "EvaluatorHoldout: Processed 35209 (100.0%) in 14.05 sec. Users per second: 2506\n"
     ]
    },
    {
     "name": "stderr",
     "output_type": "stream",
     "text": [
      "[I 2024-12-27 03:49:15,900] Trial 356 finished with value: 0.03087939195489203 and parameters: {'x_0': 0.2742017620025356, 'x_1': 0.22751431194510746, 'x_2': 0.76979738350591}. Best is trial 181 with value: 0.0310995804583821.\n"
     ]
    },
    {
     "name": "stdout",
     "output_type": "stream",
     "text": [
      "__________Iteration 357______________\n",
      "SLIM weight: 0.6956137493631256\n",
      "RP3b weight: 0.2767021339968728\n",
      "ItemKNN weight: 0.027684116640001578\n",
      "EvaluatorHoldout: Processed 34728 (100.0%) in 13.06 sec. Users per second: 2658\n",
      "EvaluatorHoldout: Processed 35209 (100.0%) in 14.05 sec. Users per second: 2505\n"
     ]
    },
    {
     "name": "stderr",
     "output_type": "stream",
     "text": [
      "[I 2024-12-27 03:49:43,111] Trial 357 finished with value: 0.031075518176631577 and parameters: {'x_0': 0.01788577666815906, 'x_1': 0.20178101452710456, 'x_2': 0.8520265008592515}. Best is trial 181 with value: 0.0310995804583821.\n"
     ]
    },
    {
     "name": "stdout",
     "output_type": "stream",
     "text": [
      "__________Iteration 358______________\n",
      "SLIM weight: 0.6883722534155947\n",
      "RP3b weight: 0.27076346326475836\n",
      "ItemKNN weight: 0.04086428331964687\n",
      "EvaluatorHoldout: Processed 34728 (100.0%) in 13.03 sec. Users per second: 2664\n",
      "EvaluatorHoldout: Processed 35209 (100.0%) in 14.01 sec. Users per second: 2512\n"
     ]
    },
    {
     "name": "stderr",
     "output_type": "stream",
     "text": [
      "[I 2024-12-27 03:50:10,249] Trial 358 finished with value: 0.031101669253663686 and parameters: {'x_0': 0.03874263927436278, 'x_1': 0.2784069955651299, 'x_2': 0.8244983117129786}. Best is trial 358 with value: 0.031101669253663686.\n"
     ]
    },
    {
     "name": "stdout",
     "output_type": "stream",
     "text": [
      "__________Iteration 359______________\n",
      "SLIM weight: 0.6824796678090014\n",
      "RP3b weight: 0.2799490100429726\n",
      "ItemKNN weight: 0.03757132214802606\n",
      "EvaluatorHoldout: Processed 34728 (100.0%) in 13.04 sec. Users per second: 2663\n",
      "EvaluatorHoldout: Processed 35209 (100.0%) in 14.07 sec. Users per second: 2502\n"
     ]
    },
    {
     "name": "stderr",
     "output_type": "stream",
     "text": [
      "[I 2024-12-27 03:50:37,457] Trial 359 finished with value: 0.031080057992634722 and parameters: {'x_0': 0.0377825532674092, 'x_1': 0.26086363588962586, 'x_2': 0.8349840590227195}. Best is trial 358 with value: 0.031101669253663686.\n"
     ]
    },
    {
     "name": "stdout",
     "output_type": "stream",
     "text": [
      "__________Iteration 360______________\n",
      "SLIM weight: 0.7274175641070767\n",
      "RP3b weight: 0.2355301584693953\n",
      "ItemKNN weight: 0.03705227742352802\n",
      "EvaluatorHoldout: Processed 34728 (100.0%) in 13.06 sec. Users per second: 2659\n",
      "EvaluatorHoldout: Processed 35209 (100.0%) in 14.08 sec. Users per second: 2500\n"
     ]
    },
    {
     "name": "stderr",
     "output_type": "stream",
     "text": [
      "[I 2024-12-27 03:51:04,689] Trial 360 finished with value: 0.031029562395102166 and parameters: {'x_0': 0.019147588961228968, 'x_1': 0.27782198363384275, 'x_2': 0.8175164436196778}. Best is trial 358 with value: 0.031101669253663686.\n"
     ]
    },
    {
     "name": "stdout",
     "output_type": "stream",
     "text": [
      "__________Iteration 361______________\n",
      "SLIM weight: 0.5525093069998196\n",
      "RP3b weight: 0.2594393710501645\n",
      "ItemKNN weight: 0.18805132195001584\n",
      "EvaluatorHoldout: Processed 34728 (100.0%) in 13.03 sec. Users per second: 2665\n",
      "EvaluatorHoldout: Processed 35209 (100.0%) in 14.02 sec. Users per second: 2511\n"
     ]
    },
    {
     "name": "stderr",
     "output_type": "stream",
     "text": [
      "[I 2024-12-27 03:51:31,834] Trial 361 finished with value: 0.030951846184222614 and parameters: {'x_0': 0.049002021881122584, 'x_1': 0.24264398778273433, 'x_2': 0.35826386346860417}. Best is trial 358 with value: 0.031101669253663686.\n"
     ]
    },
    {
     "name": "stdout",
     "output_type": "stream",
     "text": [
      "__________Iteration 362______________\n",
      "SLIM weight: 0.6718151219161982\n",
      "RP3b weight: 0.3017096901731453\n",
      "ItemKNN weight: 0.026475187910656575\n",
      "EvaluatorHoldout: Processed 34728 (100.0%) in 12.94 sec. Users per second: 2683\n",
      "EvaluatorHoldout: Processed 35209 (100.0%) in 14.14 sec. Users per second: 2489\n"
     ]
    },
    {
     "name": "stderr",
     "output_type": "stream",
     "text": [
      "[I 2024-12-27 03:51:59,012] Trial 362 finished with value: 0.031065440996331503 and parameters: {'x_0': 0.034938585139857654, 'x_1': 0.22171945184638714, 'x_2': 0.8761812003295415}. Best is trial 358 with value: 0.031101669253663686.\n"
     ]
    },
    {
     "name": "stdout",
     "output_type": "stream",
     "text": [
      "__________Iteration 363______________\n",
      "SLIM weight: 0.6871305963332542\n",
      "RP3b weight: 0.27368689852957906\n",
      "ItemKNN weight: 0.03918250513716677\n",
      "EvaluatorHoldout: Processed 34728 (100.0%) in 13.00 sec. Users per second: 2671\n",
      "EvaluatorHoldout: Processed 35209 (100.0%) in 14.11 sec. Users per second: 2496\n"
     ]
    },
    {
     "name": "stderr",
     "output_type": "stream",
     "text": [
      "[I 2024-12-27 03:52:26,212] Trial 363 finished with value: 0.03109325922452114 and parameters: {'x_0': 0.01659425692377389, 'x_1': 0.19543484052151872, 'x_2': 0.7915821420729428}. Best is trial 358 with value: 0.031101669253663686.\n"
     ]
    },
    {
     "name": "stdout",
     "output_type": "stream",
     "text": [
      "__________Iteration 364______________\n",
      "SLIM weight: 0.770707351437052\n",
      "RP3b weight: 0.20077621072082258\n",
      "ItemKNN weight: 0.028516437842125396\n",
      "EvaluatorHoldout: Processed 34728 (100.0%) in 13.11 sec. Users per second: 2648\n",
      "EvaluatorHoldout: Processed 35209 (100.0%) in 14.05 sec. Users per second: 2505\n"
     ]
    },
    {
     "name": "stderr",
     "output_type": "stream",
     "text": [
      "[I 2024-12-27 03:52:53,472] Trial 364 finished with value: 0.030962807788783 and parameters: {'x_0': 0.0014111409976287764, 'x_1': 0.18089951537572854, 'x_2': 0.7843919391357507}. Best is trial 358 with value: 0.031101669253663686.\n"
     ]
    },
    {
     "name": "stdout",
     "output_type": "stream",
     "text": [
      "__________Iteration 365______________\n",
      "SLIM weight: 0.7997728891968373\n",
      "RP3b weight: 0.1723627272703029\n",
      "ItemKNN weight: 0.027864383532859638\n",
      "EvaluatorHoldout: Processed 34728 (100.0%) in 13.02 sec. Users per second: 2668\n",
      "EvaluatorHoldout: Processed 35209 (100.0%) in 14.01 sec. Users per second: 2513\n"
     ]
    },
    {
     "name": "stderr",
     "output_type": "stream",
     "text": [
      "[I 2024-12-27 03:53:20,589] Trial 365 finished with value: 0.030928546061363058 and parameters: {'x_0': 0.0001791678881309551, 'x_1': 0.15578401698609567, 'x_2': 0.7403928182057782}. Best is trial 358 with value: 0.031101669253663686.\n"
     ]
    },
    {
     "name": "stdout",
     "output_type": "stream",
     "text": [
      "__________Iteration 366______________\n",
      "SLIM weight: 0.6818113950013148\n",
      "RP3b weight: 0.2791409018181751\n",
      "ItemKNN weight: 0.039047703180510075\n",
      "EvaluatorHoldout: Processed 34728 (100.0%) in 13.06 sec. Users per second: 2658\n",
      "EvaluatorHoldout: Processed 35209 (100.0%) in 13.99 sec. Users per second: 2516\n"
     ]
    },
    {
     "name": "stderr",
     "output_type": "stream",
     "text": [
      "[I 2024-12-27 03:53:47,738] Trial 366 finished with value: 0.031082541008032375 and parameters: {'x_0': 0.01875942075471855, 'x_1': 0.19635298222245168, 'x_2': 0.7963543433402553}. Best is trial 358 with value: 0.031101669253663686.\n"
     ]
    },
    {
     "name": "stdout",
     "output_type": "stream",
     "text": [
      "__________Iteration 367______________\n",
      "SLIM weight: 0.6316114327635669\n",
      "RP3b weight: 0.3191859054562127\n",
      "ItemKNN weight: 0.04920266178022026\n",
      "EvaluatorHoldout: Processed 34728 (100.0%) in 12.98 sec. Users per second: 2675\n",
      "EvaluatorHoldout: Processed 35209 (100.0%) in 14.14 sec. Users per second: 2489\n"
     ]
    },
    {
     "name": "stderr",
     "output_type": "stream",
     "text": [
      "[I 2024-12-27 03:54:14,955] Trial 367 finished with value: 0.031056481344360436 and parameters: {'x_0': 0.03219255704814619, 'x_1': 0.17615367405391297, 'x_2': 0.7651627890718619}. Best is trial 358 with value: 0.031101669253663686.\n"
     ]
    },
    {
     "name": "stdout",
     "output_type": "stream",
     "text": [
      "__________Iteration 368______________\n",
      "SLIM weight: 0.6981797553504084\n",
      "RP3b weight: 0.2663236066900618\n",
      "ItemKNN weight: 0.03549663795952976\n",
      "EvaluatorHoldout: Processed 34728 (100.0%) in 13.03 sec. Users per second: 2665\n",
      "EvaluatorHoldout: Processed 35209 (100.0%) in 14.00 sec. Users per second: 2515\n"
     ]
    },
    {
     "name": "stderr",
     "output_type": "stream",
     "text": [
      "[I 2024-12-27 03:54:42,079] Trial 368 finished with value: 0.031086950559997214 and parameters: {'x_0': 0.01583567311497224, 'x_1': 0.2057044917566394, 'x_2': 0.8099654246569886}. Best is trial 358 with value: 0.031101669253663686.\n"
     ]
    },
    {
     "name": "stdout",
     "output_type": "stream",
     "text": [
      "__________Iteration 369______________\n",
      "SLIM weight: 0.6350240452659274\n",
      "RP3b weight: 0.31312545495875804\n",
      "ItemKNN weight: 0.051850499775314696\n",
      "EvaluatorHoldout: Processed 34728 (100.0%) in 13.11 sec. Users per second: 2650\n",
      "EvaluatorHoldout: Processed 35209 (100.0%) in 14.03 sec. Users per second: 2510\n"
     ]
    },
    {
     "name": "stderr",
     "output_type": "stream",
     "text": [
      "[I 2024-12-27 03:55:09,304] Trial 369 finished with value: 0.031060039609407973 and parameters: {'x_0': 0.047852658515850036, 'x_1': 0.22339418967128358, 'x_2': 0.7802121258563154}. Best is trial 358 with value: 0.031101669253663686.\n"
     ]
    },
    {
     "name": "stdout",
     "output_type": "stream",
     "text": [
      "__________Iteration 370______________\n",
      "SLIM weight: 0.6423623233168361\n",
      "RP3b weight: 0.30457019815444175\n",
      "ItemKNN weight: 0.05306747852872227\n",
      "EvaluatorHoldout: Processed 34728 (100.0%) in 12.97 sec. Users per second: 2678\n",
      "EvaluatorHoldout: Processed 35209 (100.0%) in 14.11 sec. Users per second: 2496\n"
     ]
    },
    {
     "name": "stderr",
     "output_type": "stream",
     "text": [
      "[I 2024-12-27 03:55:36,472] Trial 370 finished with value: 0.03106623286456457 and parameters: {'x_0': 0.030279974927522296, 'x_1': 0.19048195069658663, 'x_2': 0.7490722360016632}. Best is trial 358 with value: 0.031101669253663686.\n"
     ]
    },
    {
     "name": "stdout",
     "output_type": "stream",
     "text": [
      "__________Iteration 371______________\n",
      "SLIM weight: 0.5969258053546166\n",
      "RP3b weight: 0.3596638267228904\n",
      "ItemKNN weight: 0.04341036792249306\n",
      "EvaluatorHoldout: Processed 34728 (100.0%) in 12.93 sec. Users per second: 2686\n",
      "EvaluatorHoldout: Processed 35209 (100.0%) in 14.01 sec. Users per second: 2514\n"
     ]
    },
    {
     "name": "stderr",
     "output_type": "stream",
     "text": [
      "[I 2024-12-27 03:56:03,502] Trial 371 finished with value: 0.031001961273643013 and parameters: {'x_0': 0.07752452772880469, 'x_1': 0.21421863809977756, 'x_2': 0.8303026712458641}. Best is trial 358 with value: 0.031101669253663686.\n"
     ]
    },
    {
     "name": "stdout",
     "output_type": "stream",
     "text": [
      "__________Iteration 372______________\n",
      "SLIM weight: 0.7278695781207726\n",
      "RP3b weight: 0.2448129959401099\n",
      "ItemKNN weight: 0.027317425939117478\n",
      "EvaluatorHoldout: Processed 34728 (100.0%) in 12.95 sec. Users per second: 2681\n",
      "EvaluatorHoldout: Processed 35209 (100.0%) in 13.97 sec. Users per second: 2521\n"
     ]
    },
    {
     "name": "stderr",
     "output_type": "stream",
     "text": [
      "[I 2024-12-27 03:56:30,516] Trial 372 finished with value: 0.031039280777963234 and parameters: {'x_0': 0.015123345275532538, 'x_1': 0.24419648447022985, 'x_2': 0.8544388411725148}. Best is trial 358 with value: 0.031101669253663686.\n"
     ]
    },
    {
     "name": "stdout",
     "output_type": "stream",
     "text": [
      "__________Iteration 373______________\n",
      "SLIM weight: 0.7863690613339869\n",
      "RP3b weight: 0.17009249784306218\n",
      "ItemKNN weight: 0.043538440822950907\n",
      "EvaluatorHoldout: Processed 34728 (100.0%) in 12.96 sec. Users per second: 2681\n",
      "EvaluatorHoldout: Processed 35209 (100.0%) in 14.12 sec. Users per second: 2493\n"
     ]
    },
    {
     "name": "stderr",
     "output_type": "stream",
     "text": [
      "[I 2024-12-27 03:56:57,686] Trial 373 finished with value: 0.03095621688550935 and parameters: {'x_0': 0.0002377500365693258, 'x_1': 0.16449430829571743, 'x_2': 0.6300264254600462}. Best is trial 358 with value: 0.031101669253663686.\n"
     ]
    },
    {
     "name": "stdout",
     "output_type": "stream",
     "text": [
      "__________Iteration 374______________\n",
      "SLIM weight: 0.6145010763396223\n",
      "RP3b weight: 0.33765112181716944\n",
      "ItemKNN weight: 0.04784780184320815\n",
      "EvaluatorHoldout: Processed 34728 (100.0%) in 12.99 sec. Users per second: 2674\n",
      "EvaluatorHoldout: Processed 35209 (100.0%) in 14.28 sec. Users per second: 2466\n"
     ]
    },
    {
     "name": "stderr",
     "output_type": "stream",
     "text": [
      "[I 2024-12-27 03:57:25,039] Trial 374 finished with value: 0.03103541742082594 and parameters: {'x_0': 0.05517662246228656, 'x_1': 0.20353059066812504, 'x_2': 0.798045083148247}. Best is trial 358 with value: 0.031101669253663686.\n"
     ]
    },
    {
     "name": "stdout",
     "output_type": "stream",
     "text": [
      "__________Iteration 375______________\n",
      "SLIM weight: 0.673283833992146\n",
      "RP3b weight: 0.28825758453681233\n",
      "ItemKNN weight: 0.03845858147104167\n",
      "EvaluatorHoldout: Processed 34728 (100.0%) in 12.89 sec. Users per second: 2694\n",
      "EvaluatorHoldout: Processed 35209 (100.0%) in 14.06 sec. Users per second: 2504\n"
     ]
    },
    {
     "name": "stderr",
     "output_type": "stream",
     "text": [
      "[I 2024-12-27 03:57:52,082] Trial 375 finished with value: 0.031083122625536967 and parameters: {'x_0': 0.03248368125700568, 'x_1': 0.23056273876078148, 'x_2': 0.8222141992668525}. Best is trial 358 with value: 0.031101669253663686.\n"
     ]
    },
    {
     "name": "stdout",
     "output_type": "stream",
     "text": [
      "__________Iteration 376______________\n",
      "SLIM weight: 0.4999061727548617\n",
      "RP3b weight: 0.45725057090937027\n",
      "ItemKNN weight: 0.04284325633576803\n",
      "EvaluatorHoldout: Processed 34728 (100.0%) in 12.95 sec. Users per second: 2682\n",
      "EvaluatorHoldout: Processed 35209 (100.0%) in 14.10 sec. Users per second: 2498\n"
     ]
    },
    {
     "name": "stderr",
     "output_type": "stream",
     "text": [
      "[I 2024-12-27 03:58:19,226] Trial 376 finished with value: 0.030952438085730075 and parameters: {'x_0': 0.05031289056888867, 'x_1': 0.06493238606604068, 'x_2': 0.7739814356442998}. Best is trial 358 with value: 0.031101669253663686.\n"
     ]
    },
    {
     "name": "stdout",
     "output_type": "stream",
     "text": [
      "__________Iteration 377______________\n",
      "SLIM weight: 0.7068463649723912\n",
      "RP3b weight: 0.25191121722019394\n",
      "ItemKNN weight: 0.041242417807414826\n",
      "EvaluatorHoldout: Processed 34728 (100.0%) in 12.96 sec. Users per second: 2680\n",
      "EvaluatorHoldout: Processed 35209 (100.0%) in 14.14 sec. Users per second: 2491\n"
     ]
    },
    {
     "name": "stderr",
     "output_type": "stream",
     "text": [
      "[I 2024-12-27 03:58:46,412] Trial 377 finished with value: 0.03106265288884398 and parameters: {'x_0': 0.02010417701869435, 'x_1': 0.2484920083445269, 'x_2': 0.7961625010408636}. Best is trial 358 with value: 0.031101669253663686.\n"
     ]
    },
    {
     "name": "stdout",
     "output_type": "stream",
     "text": [
      "__________Iteration 378______________\n",
      "SLIM weight: 0.5851386505168531\n",
      "RP3b weight: 0.37669140417882996\n",
      "ItemKNN weight: 0.03816994530431693\n",
      "EvaluatorHoldout: Processed 34728 (100.0%) in 13.03 sec. Users per second: 2665\n",
      "EvaluatorHoldout: Processed 35209 (100.0%) in 14.03 sec. Users per second: 2510\n"
     ]
    },
    {
     "name": "stderr",
     "output_type": "stream",
     "text": [
      "[I 2024-12-27 03:59:13,557] Trial 378 finished with value: 0.03098788932950026 and parameters: {'x_0': 0.06830728524101207, 'x_1': 0.17769345015756324, 'x_2': 0.8394012135651795}. Best is trial 358 with value: 0.031101669253663686.\n"
     ]
    },
    {
     "name": "stdout",
     "output_type": "stream",
     "text": [
      "__________Iteration 379______________\n",
      "SLIM weight: 0.6585833638839917\n",
      "RP3b weight: 0.30100227401669793\n",
      "ItemKNN weight: 0.040414362099310396\n",
      "EvaluatorHoldout: Processed 34728 (100.0%) in 12.98 sec. Users per second: 2675\n",
      "EvaluatorHoldout: Processed 35209 (100.0%) in 14.12 sec. Users per second: 2493\n"
     ]
    },
    {
     "name": "stderr",
     "output_type": "stream",
     "text": [
      "[I 2024-12-27 03:59:40,749] Trial 379 finished with value: 0.031063822979855132 and parameters: {'x_0': 0.03436298965419511, 'x_1': 0.21425333677423114, 'x_2': 0.8131419087815449}. Best is trial 358 with value: 0.031101669253663686.\n"
     ]
    },
    {
     "name": "stdout",
     "output_type": "stream",
     "text": [
      "__________Iteration 380______________\n",
      "SLIM weight: 0.7161300292083514\n",
      "RP3b weight: 0.23421392579979705\n",
      "ItemKNN weight: 0.04965604499185165\n",
      "EvaluatorHoldout: Processed 34728 (100.0%) in 13.05 sec. Users per second: 2661\n",
      "EvaluatorHoldout: Processed 35209 (100.0%) in 14.03 sec. Users per second: 2510\n"
     ]
    },
    {
     "name": "stderr",
     "output_type": "stream",
     "text": [
      "[I 2024-12-27 04:00:07,922] Trial 380 finished with value: 0.031047015490907055 and parameters: {'x_0': 0.017743730691877808, 'x_1': 0.26751081548266936, 'x_2': 0.7561183560584745}. Best is trial 358 with value: 0.031101669253663686.\n"
     ]
    },
    {
     "name": "stdout",
     "output_type": "stream",
     "text": [
      "__________Iteration 381______________\n",
      "SLIM weight: 0.570411567653687\n",
      "RP3b weight: 0.3831282831500764\n",
      "ItemKNN weight: 0.046460149196236845\n",
      "EvaluatorHoldout: Processed 34728 (100.0%) in 13.07 sec. Users per second: 2658\n",
      "EvaluatorHoldout: Processed 35209 (100.0%) in 14.20 sec. Users per second: 2479\n"
     ]
    },
    {
     "name": "stderr",
     "output_type": "stream",
     "text": [
      "[I 2024-12-27 04:00:35,288] Trial 381 finished with value: 0.030980433427305214 and parameters: {'x_0': 0.050915952608748205, 'x_1': 0.1353420233371573, 'x_2': 0.7846445454877928}. Best is trial 358 with value: 0.031101669253663686.\n"
     ]
    },
    {
     "name": "stdout",
     "output_type": "stream",
     "text": [
      "__________Iteration 382______________\n",
      "SLIM weight: 0.6047355231352652\n",
      "RP3b weight: 0.35873894784892724\n",
      "ItemKNN weight: 0.036525529015807336\n",
      "EvaluatorHoldout: Processed 34728 (100.0%) in 13.08 sec. Users per second: 2656\n",
      "EvaluatorHoldout: Processed 35209 (100.0%) in 14.11 sec. Users per second: 2494\n"
     ]
    },
    {
     "name": "stderr",
     "output_type": "stream",
     "text": [
      "[I 2024-12-27 04:01:02,573] Trial 382 finished with value: 0.031005325285300055 and parameters: {'x_0': 0.08442188840157297, 'x_1': 0.23075742430229654, 'x_2': 0.8613085677471194}. Best is trial 358 with value: 0.031101669253663686.\n"
     ]
    },
    {
     "name": "stdout",
     "output_type": "stream",
     "text": [
      "__________Iteration 383______________\n",
      "SLIM weight: 0.6409617670649057\n",
      "RP3b weight: 0.3184037814091616\n",
      "ItemKNN weight: 0.04063445152593267\n",
      "EvaluatorHoldout: Processed 34728 (100.0%) in 13.04 sec. Users per second: 2662\n",
      "EvaluatorHoldout: Processed 35209 (100.0%) in 14.09 sec. Users per second: 2498\n"
     ]
    },
    {
     "name": "stderr",
     "output_type": "stream",
     "text": [
      "[I 2024-12-27 04:01:29,803] Trial 383 finished with value: 0.031057614870027454 and parameters: {'x_0': 0.035942070052724685, 'x_1': 0.1916382776573665, 'x_2': 0.8098991153824853}. Best is trial 358 with value: 0.031101669253663686.\n"
     ]
    },
    {
     "name": "stdout",
     "output_type": "stream",
     "text": [
      "__________Iteration 384______________\n",
      "SLIM weight: 0.7276215437448292\n",
      "RP3b weight: 0.24164702954793324\n",
      "ItemKNN weight: 0.03073142670723753\n",
      "EvaluatorHoldout: Processed 34728 (100.0%) in 13.01 sec. Users per second: 2669\n",
      "EvaluatorHoldout: Processed 35209 (100.0%) in 14.17 sec. Users per second: 2484\n"
     ]
    },
    {
     "name": "stderr",
     "output_type": "stream",
     "text": [
      "[I 2024-12-27 04:01:57,082] Trial 384 finished with value: 0.031036539519822867 and parameters: {'x_0': 0.015618867637423147, 'x_1': 0.2512472372522079, 'x_2': 0.8388956980048211}. Best is trial 358 with value: 0.031101669253663686.\n"
     ]
    },
    {
     "name": "stdout",
     "output_type": "stream",
     "text": [
      "__________Iteration 385______________\n",
      "SLIM weight: 0.8019974149815539\n",
      "RP3b weight: 0.15821067023149238\n",
      "ItemKNN weight: 0.03979191478695377\n",
      "EvaluatorHoldout: Processed 34728 (100.0%) in 13.11 sec. Users per second: 2649\n",
      "EvaluatorHoldout: Processed 35209 (100.0%) in 14.00 sec. Users per second: 2515\n"
     ]
    },
    {
     "name": "stderr",
     "output_type": "stream",
     "text": [
      "[I 2024-12-27 04:02:24,282] Trial 385 finished with value: 0.030953065409914854 and parameters: {'x_0': 0.0018168664683366163, 'x_1': 0.2879681540372923, 'x_2': 0.7311702841457477}. Best is trial 358 with value: 0.031101669253663686.\n"
     ]
    },
    {
     "name": "stdout",
     "output_type": "stream",
     "text": [
      "__________Iteration 386______________\n",
      "SLIM weight: 0.6053784715748698\n",
      "RP3b weight: 0.34270039738287406\n",
      "ItemKNN weight: 0.05192113104225598\n",
      "EvaluatorHoldout: Processed 34728 (100.0%) in 13.13 sec. Users per second: 2644\n",
      "EvaluatorHoldout: Processed 35209 (100.0%) in 14.05 sec. Users per second: 2505\n"
     ]
    },
    {
     "name": "stderr",
     "output_type": "stream",
     "text": [
      "[I 2024-12-27 04:02:51,564] Trial 386 finished with value: 0.031026825707629813 and parameters: {'x_0': 0.06170537501427824, 'x_1': 0.2066381719122575, 'x_2': 0.7874996336292398}. Best is trial 358 with value: 0.031101669253663686.\n"
     ]
    },
    {
     "name": "stdout",
     "output_type": "stream",
     "text": [
      "__________Iteration 387______________\n",
      "SLIM weight: 0.659631483302451\n",
      "RP3b weight: 0.28749130576154414\n",
      "ItemKNN weight: 0.052877210936004795\n",
      "EvaluatorHoldout: Processed 34728 (100.0%) in 12.91 sec. Users per second: 2691\n",
      "EvaluatorHoldout: Processed 35209 (100.0%) in 14.02 sec. Users per second: 2511\n"
     ]
    },
    {
     "name": "stderr",
     "output_type": "stream",
     "text": [
      "[I 2024-12-27 04:03:18,587] Trial 387 finished with value: 0.031079973435276447 and parameters: {'x_0': 0.03549224141698501, 'x_1': 0.2333971795815176, 'x_2': 0.7652021209159764}. Best is trial 358 with value: 0.031101669253663686.\n"
     ]
    },
    {
     "name": "stdout",
     "output_type": "stream",
     "text": [
      "__________Iteration 388______________\n",
      "SLIM weight: 0.5950992552989639\n",
      "RP3b weight: 0.3669915529157895\n",
      "ItemKNN weight: 0.037909191785246626\n",
      "EvaluatorHoldout: Processed 34728 (100.0%) in 13.05 sec. Users per second: 2662\n",
      "EvaluatorHoldout: Processed 35209 (100.0%) in 14.08 sec. Users per second: 2501\n"
     ]
    },
    {
     "name": "stderr",
     "output_type": "stream",
     "text": [
      "[I 2024-12-27 04:03:45,801] Trial 388 finished with value: 0.03100056036389728 and parameters: {'x_0': 0.046927888786781106, 'x_1': 0.15159513191374396, 'x_2': 0.822937966187773}. Best is trial 358 with value: 0.031101669253663686.\n"
     ]
    },
    {
     "name": "stdout",
     "output_type": "stream",
     "text": [
      "__________Iteration 389______________\n",
      "SLIM weight: 0.6288054463604141\n",
      "RP3b weight: 0.33717055875293156\n",
      "ItemKNN weight: 0.03402399488665429\n",
      "EvaluatorHoldout: Processed 34728 (100.0%) in 13.01 sec. Users per second: 2669\n",
      "EvaluatorHoldout: Processed 35209 (100.0%) in 14.08 sec. Users per second: 2501\n"
     ]
    },
    {
     "name": "stderr",
     "output_type": "stream",
     "text": [
      "[I 2024-12-27 04:04:12,978] Trial 389 finished with value: 0.031042796764331707 and parameters: {'x_0': 0.01586672542254078, 'x_1': 0.1084143474750801, 'x_2': 0.7991536351486599}. Best is trial 358 with value: 0.031101669253663686.\n"
     ]
    },
    {
     "name": "stdout",
     "output_type": "stream",
     "text": [
      "__________Iteration 390______________\n",
      "SLIM weight: 0.6310330506485721\n",
      "RP3b weight: 0.3226123048641175\n",
      "ItemKNN weight: 0.04635464448731034\n",
      "EvaluatorHoldout: Processed 34728 (100.0%) in 13.05 sec. Users per second: 2661\n",
      "EvaluatorHoldout: Processed 35209 (100.0%) in 14.13 sec. Users per second: 2492\n"
     ]
    },
    {
     "name": "stderr",
     "output_type": "stream",
     "text": [
      "[I 2024-12-27 04:04:40,253] Trial 390 finished with value: 0.031067712618333587 and parameters: {'x_0': 0.07074421186425094, 'x_1': 0.2581728516102511, 'x_2': 0.8231902093391218}. Best is trial 358 with value: 0.031101669253663686.\n"
     ]
    },
    {
     "name": "stdout",
     "output_type": "stream",
     "text": [
      "__________Iteration 391______________\n",
      "SLIM weight: 0.8526088318278157\n",
      "RP3b weight: 0.08499484929811416\n",
      "ItemKNN weight: 0.06239631887407021\n",
      "EvaluatorHoldout: Processed 34728 (100.0%) in 12.95 sec. Users per second: 2681\n",
      "EvaluatorHoldout: Processed 35209 (100.0%) in 13.92 sec. Users per second: 2529\n"
     ]
    },
    {
     "name": "stderr",
     "output_type": "stream",
     "text": [
      "[I 2024-12-27 04:05:07,221] Trial 391 finished with value: 0.030852877509752907 and parameters: {'x_0': 0.03029694117497151, 'x_1': 0.7056896005139226, 'x_2': 0.77422016784694}. Best is trial 358 with value: 0.031101669253663686.\n"
     ]
    },
    {
     "name": "stdout",
     "output_type": "stream",
     "text": [
      "__________Iteration 392______________\n",
      "SLIM weight: 0.34562536525273796\n",
      "RP3b weight: 0.5972065127890561\n",
      "ItemKNN weight: 0.05716812195820595\n",
      "EvaluatorHoldout: Processed 34728 (100.0%) in 12.93 sec. Users per second: 2686\n",
      "EvaluatorHoldout: Processed 35209 (100.0%) in 13.98 sec. Users per second: 2519\n"
     ]
    },
    {
     "name": "stderr",
     "output_type": "stream",
     "text": [
      "[I 2024-12-27 04:05:34,215] Trial 392 finished with value: 0.030567812944496606 and parameters: {'x_0': 0.37134072137731944, 'x_1': 0.1805549845725516, 'x_2': 0.8488643305369515}. Best is trial 358 with value: 0.031101669253663686.\n"
     ]
    },
    {
     "name": "stdout",
     "output_type": "stream",
     "text": [
      "__________Iteration 393______________\n",
      "SLIM weight: 0.8066325277667064\n",
      "RP3b weight: 0.16837869141386755\n",
      "ItemKNN weight: 0.02498878081942596\n",
      "EvaluatorHoldout: Processed 34728 (100.0%) in 12.93 sec. Users per second: 2686\n",
      "EvaluatorHoldout: Processed 35209 (100.0%) in 14.01 sec. Users per second: 2514\n"
     ]
    },
    {
     "name": "stderr",
     "output_type": "stream",
     "text": [
      "[I 2024-12-27 04:06:01,241] Trial 393 finished with value: 0.030920759928404176 and parameters: {'x_0': 0.0007776719492903171, 'x_1': 0.22437594753952766, 'x_2': 0.8010867563994565}. Best is trial 358 with value: 0.031101669253663686.\n"
     ]
    },
    {
     "name": "stdout",
     "output_type": "stream",
     "text": [
      "__________Iteration 394______________\n",
      "SLIM weight: 0.6135024461703595\n",
      "RP3b weight: 0.32749804802517274\n",
      "ItemKNN weight: 0.05899950580446761\n",
      "EvaluatorHoldout: Processed 34728 (100.0%) in 12.98 sec. Users per second: 2676\n",
      "EvaluatorHoldout: Processed 35209 (100.0%) in 13.97 sec. Users per second: 2520\n"
     ]
    },
    {
     "name": "stderr",
     "output_type": "stream",
     "text": [
      "[I 2024-12-27 04:06:28,279] Trial 394 finished with value: 0.03104976474771642 and parameters: {'x_0': 0.05022801994310956, 'x_1': 0.2025549658887822, 'x_2': 0.7500188034993667}. Best is trial 358 with value: 0.031101669253663686.\n"
     ]
    },
    {
     "name": "stdout",
     "output_type": "stream",
     "text": [
      "__________Iteration 395______________\n",
      "SLIM weight: 0.5824538272605432\n",
      "RP3b weight: 0.3638942582361664\n",
      "ItemKNN weight: 0.05365191450329041\n",
      "EvaluatorHoldout: Processed 34728 (100.0%) in 12.96 sec. Users per second: 2679\n",
      "EvaluatorHoldout: Processed 35209 (100.0%) in 13.98 sec. Users per second: 2518\n"
     ]
    },
    {
     "name": "stderr",
     "output_type": "stream",
     "text": [
      "[I 2024-12-27 04:06:55,314] Trial 395 finished with value: 0.03101554301364147 and parameters: {'x_0': 0.10526006781931788, 'x_1': 0.24499022418576227, 'x_2': 0.8127129722200036}. Best is trial 358 with value: 0.031101669253663686.\n"
     ]
    },
    {
     "name": "stdout",
     "output_type": "stream",
     "text": [
      "__________Iteration 396______________\n",
      "SLIM weight: 0.7181442873161302\n",
      "RP3b weight: 0.23678339562192216\n",
      "ItemKNN weight: 0.045072317061947635\n",
      "EvaluatorHoldout: Processed 34728 (100.0%) in 13.01 sec. Users per second: 2669\n",
      "EvaluatorHoldout: Processed 35209 (100.0%) in 13.96 sec. Users per second: 2522\n"
     ]
    },
    {
     "name": "stderr",
     "output_type": "stream",
     "text": [
      "[I 2024-12-27 04:07:22,375] Trial 396 finished with value: 0.031050717731996993 and parameters: {'x_0': 0.019987271481674534, 'x_1': 0.2752528818627767, 'x_2': 0.782260764493282}. Best is trial 358 with value: 0.031101669253663686.\n"
     ]
    },
    {
     "name": "stdout",
     "output_type": "stream",
     "text": [
      "__________Iteration 397______________\n",
      "SLIM weight: 0.7079278872228417\n",
      "RP3b weight: 0.2624614038509363\n",
      "ItemKNN weight: 0.029610708926221932\n",
      "EvaluatorHoldout: Processed 34728 (100.0%) in 12.96 sec. Users per second: 2680\n",
      "EvaluatorHoldout: Processed 35209 (100.0%) in 13.88 sec. Users per second: 2537\n"
     ]
    },
    {
     "name": "stderr",
     "output_type": "stream",
     "text": [
      "[I 2024-12-27 04:07:49,304] Trial 397 finished with value: 0.031064497153387036 and parameters: {'x_0': 0.037985245076254906, 'x_1': 0.2974390431332663, 'x_2': 0.8721458810964937}. Best is trial 358 with value: 0.031101669253663686.\n"
     ]
    },
    {
     "name": "stdout",
     "output_type": "stream",
     "text": [
      "__________Iteration 398______________\n",
      "SLIM weight: 0.6229230684472026\n",
      "RP3b weight: 0.3373973014244112\n",
      "ItemKNN weight: 0.03967963012838613\n",
      "EvaluatorHoldout: Processed 34728 (100.0%) in 12.98 sec. Users per second: 2675\n",
      "EvaluatorHoldout: Processed 35209 (100.0%) in 14.01 sec. Users per second: 2514\n"
     ]
    },
    {
     "name": "stderr",
     "output_type": "stream",
     "text": [
      "[I 2024-12-27 04:08:16,385] Trial 398 finished with value: 0.031038660309780603 and parameters: {'x_0': 0.059279951860933405, 'x_1': 0.21645280573899192, 'x_2': 0.835286285999699}. Best is trial 358 with value: 0.031101669253663686.\n"
     ]
    },
    {
     "name": "stdout",
     "output_type": "stream",
     "text": [
      "__________Iteration 399______________\n",
      "SLIM weight: 0.5563127977606313\n",
      "RP3b weight: 0.39541860236935644\n",
      "ItemKNN weight: 0.04826859987001223\n",
      "EvaluatorHoldout: Processed 34728 (100.0%) in 12.96 sec. Users per second: 2679\n",
      "EvaluatorHoldout: Processed 35209 (100.0%) in 14.07 sec. Users per second: 2502\n"
     ]
    },
    {
     "name": "stderr",
     "output_type": "stream",
     "text": [
      "[I 2024-12-27 04:08:43,513] Trial 399 finished with value: 0.030960637864144065 and parameters: {'x_0': 0.08006809053236483, 'x_1': 0.16618652785519178, 'x_2': 0.8032642238244101}. Best is trial 358 with value: 0.031101669253663686.\n"
     ]
    },
    {
     "name": "stdout",
     "output_type": "stream",
     "text": [
      "__________Iteration 400______________\n",
      "SLIM weight: 0.8710240553083078\n",
      "RP3b weight: 0.10818109572822929\n",
      "ItemKNN weight: 0.02079484896346274\n",
      "EvaluatorHoldout: Processed 34728 (100.0%) in 13.07 sec. Users per second: 2658\n",
      "EvaluatorHoldout: Processed 35209 (100.0%) in 14.02 sec. Users per second: 2511\n"
     ]
    },
    {
     "name": "stderr",
     "output_type": "stream",
     "text": [
      "[I 2024-12-27 04:09:10,691] Trial 400 finished with value: 0.030866459249751413 and parameters: {'x_0': 0.021693636365097517, 'x_1': 0.6214020107708738, 'x_2': 0.9126023004626815}. Best is trial 358 with value: 0.031101669253663686.\n"
     ]
    },
    {
     "name": "stdout",
     "output_type": "stream",
     "text": [
      "__________Iteration 401______________\n",
      "SLIM weight: 0.6309321706528361\n",
      "RP3b weight: 0.31851833267424406\n",
      "ItemKNN weight: 0.0505494966729198\n",
      "EvaluatorHoldout: Processed 34728 (100.0%) in 12.97 sec. Users per second: 2677\n",
      "EvaluatorHoldout: Processed 35209 (100.0%) in 13.99 sec. Users per second: 2517\n"
     ]
    },
    {
     "name": "stderr",
     "output_type": "stream",
     "text": [
      "[I 2024-12-27 04:09:37,744] Trial 401 finished with value: 0.031052664836570192 and parameters: {'x_0': 0.03682044493737537, 'x_1': 0.18884596725555083, 'x_2': 0.7675679741832074}. Best is trial 358 with value: 0.031101669253663686.\n"
     ]
    },
    {
     "name": "stdout",
     "output_type": "stream",
     "text": [
      "__________Iteration 402______________\n",
      "SLIM weight: 0.8243193647704951\n",
      "RP3b weight: 0.1406615333089068\n",
      "ItemKNN weight: 0.03501910192059829\n",
      "EvaluatorHoldout: Processed 34728 (100.0%) in 12.98 sec. Users per second: 2676\n",
      "EvaluatorHoldout: Processed 35209 (100.0%) in 13.92 sec. Users per second: 2529\n"
     ]
    },
    {
     "name": "stderr",
     "output_type": "stream",
     "text": [
      "[I 2024-12-27 04:10:04,731] Trial 402 finished with value: 0.030922567627603013 and parameters: {'x_0': 0.0003770375982516186, 'x_1': 0.2604927378567223, 'x_2': 0.7154123784518905}. Best is trial 358 with value: 0.031101669253663686.\n"
     ]
    },
    {
     "name": "stdout",
     "output_type": "stream",
     "text": [
      "__________Iteration 403______________\n",
      "SLIM weight: 0.6342618585638122\n",
      "RP3b weight: 0.3219689039937025\n",
      "ItemKNN weight: 0.04376923744248526\n",
      "EvaluatorHoldout: Processed 34728 (100.0%) in 13.00 sec. Users per second: 2671\n",
      "EvaluatorHoldout: Processed 35209 (100.0%) in 13.97 sec. Users per second: 2520\n"
     ]
    },
    {
     "name": "stderr",
     "output_type": "stream",
     "text": [
      "[I 2024-12-27 04:10:31,798] Trial 403 finished with value: 0.03107079553390786 and parameters: {'x_0': 0.05885333607471244, 'x_1': 0.23741146919576142, 'x_2': 0.8224399132635718}. Best is trial 358 with value: 0.031101669253663686.\n"
     ]
    },
    {
     "name": "stdout",
     "output_type": "stream",
     "text": [
      "__________Iteration 404______________\n",
      "SLIM weight: 0.699369943142656\n",
      "RP3b weight: 0.27251422013655696\n",
      "ItemKNN weight: 0.028115836720787067\n",
      "EvaluatorHoldout: Processed 34728 (100.0%) in 13.03 sec. Users per second: 2665\n",
      "EvaluatorHoldout: Processed 35209 (100.0%) in 13.91 sec. Users per second: 2531\n"
     ]
    },
    {
     "name": "stderr",
     "output_type": "stream",
     "text": [
      "[I 2024-12-27 04:10:58,833] Trial 404 finished with value: 0.031089465570071015 and parameters: {'x_0': 0.01848299801619614, 'x_1': 0.2111719208626862, 'x_2': 0.8517680860746666}. Best is trial 358 with value: 0.031101669253663686.\n"
     ]
    },
    {
     "name": "stdout",
     "output_type": "stream",
     "text": [
      "__________Iteration 405______________\n",
      "SLIM weight: 0.6623514713792326\n",
      "RP3b weight: 0.3124572302793938\n",
      "ItemKNN weight: 0.025191298341373704\n",
      "EvaluatorHoldout: Processed 34728 (100.0%) in 12.90 sec. Users per second: 2692\n",
      "EvaluatorHoldout: Processed 35209 (100.0%) in 13.87 sec. Users per second: 2538\n"
     ]
    },
    {
     "name": "stderr",
     "output_type": "stream",
     "text": [
      "[I 2024-12-27 04:11:25,701] Trial 405 finished with value: 0.03104048743431849 and parameters: {'x_0': 0.03648363711530553, 'x_1': 0.20974187865311997, 'x_2': 0.8816822423711197}. Best is trial 358 with value: 0.031101669253663686.\n"
     ]
    },
    {
     "name": "stdout",
     "output_type": "stream",
     "text": [
      "__________Iteration 406______________\n",
      "SLIM weight: 0.7977765782244652\n",
      "RP3b weight: 0.18536132225297486\n",
      "ItemKNN weight: 0.01686209952255979\n",
      "EvaluatorHoldout: Processed 34728 (100.0%) in 12.90 sec. Users per second: 2693\n",
      "EvaluatorHoldout: Processed 35209 (100.0%) in 13.88 sec. Users per second: 2536\n"
     ]
    },
    {
     "name": "stderr",
     "output_type": "stream",
     "text": [
      "[I 2024-12-27 04:11:52,574] Trial 406 finished with value: 0.03092589393124893 and parameters: {'x_0': 0.0007473460303960566, 'x_1': 0.18774607648571223, 'x_2': 0.858850561784505}. Best is trial 358 with value: 0.031101669253663686.\n"
     ]
    },
    {
     "name": "stdout",
     "output_type": "stream",
     "text": [
      "__________Iteration 407______________\n",
      "SLIM weight: 0.4967883613839404\n",
      "RP3b weight: 0.3728750309962028\n",
      "ItemKNN weight: 0.1303366076198568\n",
      "EvaluatorHoldout: Processed 34728 (100.0%) in 12.88 sec. Users per second: 2697\n",
      "EvaluatorHoldout: Processed 35209 (100.0%) in 13.98 sec. Users per second: 2518\n"
     ]
    },
    {
     "name": "stderr",
     "output_type": "stream",
     "text": [
      "[I 2024-12-27 04:12:19,525] Trial 407 finished with value: 0.030998103629840748 and parameters: {'x_0': 0.09069265154437334, 'x_1': 0.1650378857430153, 'x_2': 0.5327338184830724}. Best is trial 358 with value: 0.031101669253663686.\n"
     ]
    },
    {
     "name": "stdout",
     "output_type": "stream",
     "text": [
      "__________Iteration 408______________\n",
      "SLIM weight: 0.746394632367857\n",
      "RP3b weight: 0.2217095485588333\n",
      "ItemKNN weight: 0.031895819073309586\n",
      "EvaluatorHoldout: Processed 34728 (100.0%) in 13.00 sec. Users per second: 2671\n",
      "EvaluatorHoldout: Processed 35209 (100.0%) in 13.95 sec. Users per second: 2523\n"
     ]
    },
    {
     "name": "stderr",
     "output_type": "stream",
     "text": [
      "[I 2024-12-27 04:12:46,570] Trial 408 finished with value: 0.030991864668003983 and parameters: {'x_0': 0.02288089061349426, 'x_1': 0.32560927500190795, 'x_2': 0.8509323896545575}. Best is trial 358 with value: 0.031101669253663686.\n"
     ]
    },
    {
     "name": "stdout",
     "output_type": "stream",
     "text": [
      "__________Iteration 409______________\n",
      "SLIM weight: 0.6247850469284778\n",
      "RP3b weight: 0.3392485677174566\n",
      "ItemKNN weight: 0.035966385354065614\n",
      "EvaluatorHoldout: Processed 34728 (100.0%) in 13.00 sec. Users per second: 2672\n",
      "EvaluatorHoldout: Processed 35209 (100.0%) in 13.96 sec. Users per second: 2521\n"
     ]
    },
    {
     "name": "stderr",
     "output_type": "stream",
     "text": [
      "[I 2024-12-27 04:13:13,624] Trial 409 finished with value: 0.031047366289676994 and parameters: {'x_0': 0.051999854465335525, 'x_1': 0.2008209958298777, 'x_2': 0.8435005290330975}. Best is trial 358 with value: 0.031101669253663686.\n"
     ]
    },
    {
     "name": "stdout",
     "output_type": "stream",
     "text": [
      "__________Iteration 410______________\n",
      "SLIM weight: 0.6261381703163947\n",
      "RP3b weight: 0.3496315808250987\n",
      "ItemKNN weight: 0.024230248858506453\n",
      "EvaluatorHoldout: Processed 34728 (100.0%) in 12.88 sec. Users per second: 2697\n",
      "EvaluatorHoldout: Processed 35209 (100.0%) in 13.94 sec. Users per second: 2525\n"
     ]
    },
    {
     "name": "stderr",
     "output_type": "stream",
     "text": [
      "[I 2024-12-27 04:13:40,537] Trial 410 finished with value: 0.03101224870467168 and parameters: {'x_0': 0.06953795445477357, 'x_1': 0.22568571066069293, 'x_2': 0.901978921757639}. Best is trial 358 with value: 0.031101669253663686.\n"
     ]
    },
    {
     "name": "stdout",
     "output_type": "stream",
     "text": [
      "__________Iteration 411______________\n",
      "SLIM weight: 0.726779851562398\n",
      "RP3b weight: 0.2371621886291185\n",
      "ItemKNN weight: 0.03605795980848353\n",
      "EvaluatorHoldout: Processed 34728 (100.0%) in 12.90 sec. Users per second: 2691\n",
      "EvaluatorHoldout: Processed 35209 (100.0%) in 13.96 sec. Users per second: 2522\n"
     ]
    },
    {
     "name": "stderr",
     "output_type": "stream",
     "text": [
      "[I 2024-12-27 04:14:07,491] Trial 411 finished with value: 0.031042429968223723 and parameters: {'x_0': 0.020560397238483272, 'x_1': 0.28152039375332644, 'x_2': 0.8247150037596004}. Best is trial 358 with value: 0.031101669253663686.\n"
     ]
    },
    {
     "name": "stdout",
     "output_type": "stream",
     "text": [
      "__________Iteration 412______________\n",
      "SLIM weight: 0.6378621857275844\n",
      "RP3b weight: 0.1018894281924318\n",
      "ItemKNN weight: 0.26024838607998385\n",
      "EvaluatorHoldout: Processed 34728 (100.0%) in 12.85 sec. Users per second: 2702\n",
      "EvaluatorHoldout: Processed 35209 (100.0%) in 13.93 sec. Users per second: 2528\n"
     ]
    },
    {
     "name": "stderr",
     "output_type": "stream",
     "text": [
      "[I 2024-12-27 04:14:34,358] Trial 412 finished with value: 0.03069535972071296 and parameters: {'x_0': 0.7179914221212675, 'x_1': 0.9484557937947427, 'x_2': 0.8735675995719973}. Best is trial 358 with value: 0.031101669253663686.\n"
     ]
    },
    {
     "name": "stdout",
     "output_type": "stream",
     "text": [
      "__________Iteration 413______________\n",
      "SLIM weight: 0.6623548205119019\n",
      "RP3b weight: 0.2980647753022175\n",
      "ItemKNN weight: 0.039580404185880574\n",
      "EvaluatorHoldout: Processed 34728 (100.0%) in 12.86 sec. Users per second: 2700\n",
      "EvaluatorHoldout: Processed 35209 (100.0%) in 13.93 sec. Users per second: 2527\n"
     ]
    },
    {
     "name": "stderr",
     "output_type": "stream",
     "text": [
      "[I 2024-12-27 04:15:01,242] Trial 413 finished with value: 0.03107382245879896 and parameters: {'x_0': 0.04740546890114175, 'x_1': 0.25357859604043165, 'x_2': 0.8334342545269809}. Best is trial 358 with value: 0.031101669253663686.\n"
     ]
    },
    {
     "name": "stdout",
     "output_type": "stream",
     "text": [
      "__________Iteration 414______________\n",
      "SLIM weight: 0.7956934048308585\n",
      "RP3b weight: 0.18219661299316606\n",
      "ItemKNN weight: 0.02210998217597542\n",
      "EvaluatorHoldout: Processed 34728 (100.0%) in 12.85 sec. Users per second: 2702\n",
      "EvaluatorHoldout: Processed 35209 (100.0%) in 13.94 sec. Users per second: 2527\n"
     ]
    },
    {
     "name": "stderr",
     "output_type": "stream",
     "text": [
      "[I 2024-12-27 04:15:28,121] Trial 414 finished with value: 0.030936688706426886 and parameters: {'x_0': 0.0005521822731578661, 'x_1': 0.17947634324860204, 'x_2': 0.8118429852516413}. Best is trial 358 with value: 0.031101669253663686.\n"
     ]
    },
    {
     "name": "stdout",
     "output_type": "stream",
     "text": [
      "__________Iteration 415______________\n",
      "SLIM weight: 0.6103263120176511\n",
      "RP3b weight: 0.34666346409555876\n",
      "ItemKNN weight: 0.04301022388679013\n",
      "EvaluatorHoldout: Processed 34728 (100.0%) in 12.83 sec. Users per second: 2706\n",
      "EvaluatorHoldout: Processed 35209 (100.0%) in 13.88 sec. Users per second: 2537\n"
     ]
    },
    {
     "name": "stderr",
     "output_type": "stream",
     "text": [
      "[I 2024-12-27 04:15:54,927] Trial 415 finished with value: 0.031018995010657777 and parameters: {'x_0': 0.03357697032995404, 'x_1': 0.1454775970539559, 'x_2': 0.7872793644698164}. Best is trial 358 with value: 0.031101669253663686.\n"
     ]
    },
    {
     "name": "stdout",
     "output_type": "stream",
     "text": [
      "__________Iteration 416______________\n",
      "SLIM weight: 0.7042806289256622\n",
      "RP3b weight: 0.26835786690027963\n",
      "ItemKNN weight: 0.02736150417405829\n",
      "EvaluatorHoldout: Processed 34728 (100.0%) in 12.84 sec. Users per second: 2705\n",
      "EvaluatorHoldout: Processed 35209 (100.0%) in 13.95 sec. Users per second: 2524\n"
     ]
    },
    {
     "name": "stderr",
     "output_type": "stream",
     "text": [
      "[I 2024-12-27 04:16:21,811] Trial 416 finished with value: 0.031076663128968698 and parameters: {'x_0': 0.017595091691126323, 'x_1': 0.21449987307030105, 'x_2': 0.8547378941605338}. Best is trial 358 with value: 0.031101669253663686.\n"
     ]
    },
    {
     "name": "stdout",
     "output_type": "stream",
     "text": [
      "__________Iteration 417______________\n",
      "SLIM weight: 0.6540229831846472\n",
      "RP3b weight: 0.3004601171504518\n",
      "ItemKNN weight: 0.04551689966490101\n",
      "EvaluatorHoldout: Processed 34728 (100.0%) in 12.88 sec. Users per second: 2696\n",
      "EvaluatorHoldout: Processed 35209 (100.0%) in 14.10 sec. Users per second: 2497\n"
     ]
    },
    {
     "name": "stderr",
     "output_type": "stream",
     "text": [
      "[I 2024-12-27 04:16:48,889] Trial 417 finished with value: 0.031058439875603666 and parameters: {'x_0': 0.04516178583044865, 'x_1': 0.24098933196275713, 'x_2': 0.806080555691006}. Best is trial 358 with value: 0.031101669253663686.\n"
     ]
    },
    {
     "name": "stdout",
     "output_type": "stream",
     "text": [
      "__________Iteration 418______________\n",
      "SLIM weight: 0.6016612785067634\n",
      "RP3b weight: 0.35852200874378926\n",
      "ItemKNN weight: 0.03981671274944727\n",
      "EvaluatorHoldout: Processed 34728 (100.0%) in 12.98 sec. Users per second: 2675\n",
      "EvaluatorHoldout: Processed 35209 (100.0%) in 14.11 sec. Users per second: 2495\n"
     ]
    },
    {
     "name": "stderr",
     "output_type": "stream",
     "text": [
      "[I 2024-12-27 04:17:16,077] Trial 418 finished with value: 0.03099427569538038 and parameters: {'x_0': 0.06413450873889642, 'x_1': 0.19460847251691502, 'x_2': 0.8337882555698423}. Best is trial 358 with value: 0.031101669253663686.\n"
     ]
    },
    {
     "name": "stdout",
     "output_type": "stream",
     "text": [
      "__________Iteration 419______________\n",
      "SLIM weight: 0.68656679176731\n",
      "RP3b weight: 0.26465960735817995\n",
      "ItemKNN weight: 0.048773600874510055\n",
      "EvaluatorHoldout: Processed 34728 (100.0%) in 13.04 sec. Users per second: 2662\n",
      "EvaluatorHoldout: Processed 35209 (100.0%) in 14.11 sec. Users per second: 2495\n"
     ]
    },
    {
     "name": "stderr",
     "output_type": "stream",
     "text": [
      "[I 2024-12-27 04:17:43,328] Trial 419 finished with value: 0.031077223035800062 and parameters: {'x_0': 0.02978942564493645, 'x_1': 0.2580936855072263, 'x_2': 0.7791078943488395}. Best is trial 358 with value: 0.031101669253663686.\n"
     ]
    },
    {
     "name": "stdout",
     "output_type": "stream",
     "text": [
      "__________Iteration 420______________\n",
      "SLIM weight: 0.053714327894123316\n",
      "RP3b weight: 0.7870221473534272\n",
      "ItemKNN weight: 0.15926352475244937\n",
      "EvaluatorHoldout: Processed 34728 (100.0%) in 13.08 sec. Users per second: 2655\n",
      "EvaluatorHoldout: Processed 35209 (100.0%) in 14.08 sec. Users per second: 2501\n"
     ]
    },
    {
     "name": "stderr",
     "output_type": "stream",
     "text": [
      "[I 2024-12-27 04:18:10,577] Trial 420 finished with value: 0.02964458257003102 and parameters: {'x_0': 0.9016606288407352, 'x_1': 0.21942785208883914, 'x_2': 0.7357027117535985}. Best is trial 358 with value: 0.031101669253663686.\n"
     ]
    },
    {
     "name": "stdout",
     "output_type": "stream",
     "text": [
      "__________Iteration 421______________\n",
      "SLIM weight: 0.8426553481601401\n",
      "RP3b weight: 0.12872484677671464\n",
      "ItemKNN weight: 0.028619805063145445\n",
      "EvaluatorHoldout: Processed 34728 (100.0%) in 13.09 sec. Users per second: 2653\n",
      "EvaluatorHoldout: Processed 35209 (100.0%) in 14.19 sec. Users per second: 2481\n"
     ]
    },
    {
     "name": "stderr",
     "output_type": "stream",
     "text": [
      "[I 2024-12-27 04:18:37,957] Trial 421 finished with value: 0.03089488651945373 and parameters: {'x_0': 0.0003275004679496908, 'x_1': 0.29353534311625995, 'x_2': 0.7614532447750811}. Best is trial 358 with value: 0.031101669253663686.\n"
     ]
    },
    {
     "name": "stdout",
     "output_type": "stream",
     "text": [
      "__________Iteration 422______________\n",
      "SLIM weight: 0.2341293416236406\n",
      "RP3b weight: 0.687542455703709\n",
      "ItemKNN weight: 0.07832820267265038\n",
      "EvaluatorHoldout: Processed 34728 (100.0%) in 12.97 sec. Users per second: 2677\n",
      "EvaluatorHoldout: Processed 35209 (100.0%) in 14.07 sec. Users per second: 2503\n"
     ]
    },
    {
     "name": "stderr",
     "output_type": "stream",
     "text": [
      "[I 2024-12-27 04:19:05,096] Trial 422 finished with value: 0.030201379061951927 and parameters: {'x_0': 0.5427370685064038, 'x_1': 0.1661871674377101, 'x_2': 0.8150920358077759}. Best is trial 358 with value: 0.031101669253663686.\n"
     ]
    },
    {
     "name": "stdout",
     "output_type": "stream",
     "text": [
      "__________Iteration 423______________\n",
      "SLIM weight: 0.8084948489901918\n",
      "RP3b weight: 0.12472945899393159\n",
      "ItemKNN weight: 0.06677569201587664\n",
      "EvaluatorHoldout: Processed 34728 (100.0%) in 13.12 sec. Users per second: 2647\n",
      "EvaluatorHoldout: Processed 35209 (100.0%) in 14.03 sec. Users per second: 2510\n"
     ]
    },
    {
     "name": "stderr",
     "output_type": "stream",
     "text": [
      "[I 2024-12-27 04:19:32,335] Trial 423 finished with value: 0.03091650349381775 and parameters: {'x_0': 0.24612414907743818, 'x_1': 0.8055103678551163, 'x_2': 0.8906638884359439}. Best is trial 358 with value: 0.031101669253663686.\n"
     ]
    },
    {
     "name": "stdout",
     "output_type": "stream",
     "text": [
      "__________Iteration 424______________\n",
      "SLIM weight: 0.6278351470914522\n",
      "RP3b weight: 0.3333448974877623\n",
      "ItemKNN weight: 0.03881995542078556\n",
      "EvaluatorHoldout: Processed 34728 (100.0%) in 13.06 sec. Users per second: 2659\n",
      "EvaluatorHoldout: Processed 35209 (100.0%) in 14.13 sec. Users per second: 2492\n"
     ]
    },
    {
     "name": "stderr",
     "output_type": "stream",
     "text": [
      "[I 2024-12-27 04:19:59,616] Trial 424 finished with value: 0.031058410166261603 and parameters: {'x_0': 0.08785994661863113, 'x_1': 0.2749241042172312, 'x_2': 0.8603854660600013}. Best is trial 358 with value: 0.031101669253663686.\n"
     ]
    },
    {
     "name": "stdout",
     "output_type": "stream",
     "text": [
      "__________Iteration 425______________\n",
      "SLIM weight: 0.7057497911844093\n",
      "RP3b weight: 0.25363885607503917\n",
      "ItemKNN weight: 0.040611352740551575\n",
      "EvaluatorHoldout: Processed 34728 (100.0%) in 13.06 sec. Users per second: 2660\n",
      "EvaluatorHoldout: Processed 35209 (100.0%) in 14.06 sec. Users per second: 2504\n"
     ]
    },
    {
     "name": "stderr",
     "output_type": "stream",
     "text": [
      "[I 2024-12-27 04:20:26,825] Trial 425 finished with value: 0.03106922436677863 and parameters: {'x_0': 0.018242585648576424, 'x_1': 0.23716643327031098, 'x_2': 0.7942125167845221}. Best is trial 358 with value: 0.031101669253663686.\n"
     ]
    },
    {
     "name": "stdout",
     "output_type": "stream",
     "text": [
      "__________Iteration 426______________\n",
      "SLIM weight: 0.6292441649460595\n",
      "RP3b weight: 0.3338880337989945\n",
      "ItemKNN weight: 0.036867801254945966\n",
      "EvaluatorHoldout: Processed 34728 (100.0%) in 12.99 sec. Users per second: 2673\n",
      "EvaluatorHoldout: Processed 35209 (100.0%) in 14.07 sec. Users per second: 2503\n"
     ]
    },
    {
     "name": "stderr",
     "output_type": "stream",
     "text": [
      "[I 2024-12-27 04:20:53,978] Trial 426 finished with value: 0.03105383835558235 and parameters: {'x_0': 0.0469626139404227, 'x_1': 0.19733692748056683, 'x_2': 0.8359439346223768}. Best is trial 358 with value: 0.031101669253663686.\n"
     ]
    },
    {
     "name": "stdout",
     "output_type": "stream",
     "text": [
      "__________Iteration 427______________\n",
      "SLIM weight: 0.601059487019305\n",
      "RP3b weight: 0.3478310194016005\n",
      "ItemKNN weight: 0.05110949357909465\n",
      "EvaluatorHoldout: Processed 34728 (100.0%) in 13.05 sec. Users per second: 2660\n",
      "EvaluatorHoldout: Processed 35209 (100.0%) in 14.04 sec. Users per second: 2508\n"
     ]
    },
    {
     "name": "stderr",
     "output_type": "stream",
     "text": [
      "[I 2024-12-27 04:21:21,164] Trial 427 finished with value: 0.031020694156491318 and parameters: {'x_0': 0.06851291151731628, 'x_1': 0.21196569541850413, 'x_2': 0.7961648629143118}. Best is trial 358 with value: 0.031101669253663686.\n"
     ]
    },
    {
     "name": "stdout",
     "output_type": "stream",
     "text": [
      "__________Iteration 428______________\n",
      "SLIM weight: 0.6818564487420066\n",
      "RP3b weight: 0.2770099303876666\n",
      "ItemKNN weight: 0.04113362087032688\n",
      "EvaluatorHoldout: Processed 34728 (100.0%) in 13.04 sec. Users per second: 2663\n",
      "EvaluatorHoldout: Processed 35209 (100.0%) in 14.12 sec. Users per second: 2494\n"
     ]
    },
    {
     "name": "stderr",
     "output_type": "stream",
     "text": [
      "[I 2024-12-27 04:21:48,422] Trial 428 finished with value: 0.03109069050909823 and parameters: {'x_0': 0.033043240974751004, 'x_1': 0.25024467066648337, 'x_2': 0.8140710122922328}. Best is trial 358 with value: 0.031101669253663686.\n"
     ]
    },
    {
     "name": "stdout",
     "output_type": "stream",
     "text": [
      "__________Iteration 429______________\n",
      "SLIM weight: 0.6913156209594447\n",
      "RP3b weight: 0.2732659337469912\n",
      "ItemKNN weight: 0.03541844529356417\n",
      "EvaluatorHoldout: Processed 34728 (100.0%) in 13.14 sec. Users per second: 2644\n",
      "EvaluatorHoldout: Processed 35209 (100.0%) in 14.07 sec. Users per second: 2503\n"
     ]
    },
    {
     "name": "stderr",
     "output_type": "stream",
     "text": [
      "[I 2024-12-27 04:22:15,716] Trial 429 finished with value: 0.0310936957233163 and parameters: {'x_0': 0.03750325937025603, 'x_1': 0.2731193314224334, 'x_2': 0.845171252376245}. Best is trial 358 with value: 0.031101669253663686.\n"
     ]
    },
    {
     "name": "stdout",
     "output_type": "stream",
     "text": [
      "__________Iteration 430______________\n",
      "SLIM weight: 0.6866893984614814\n",
      "RP3b weight: 0.276214552975086\n",
      "ItemKNN weight: 0.03709604856343265\n",
      "EvaluatorHoldout: Processed 34728 (100.0%) in 13.08 sec. Users per second: 2655\n",
      "EvaluatorHoldout: Processed 35209 (100.0%) in 14.10 sec. Users per second: 2498\n"
     ]
    },
    {
     "name": "stderr",
     "output_type": "stream",
     "text": [
      "[I 2024-12-27 04:22:42,986] Trial 430 finished with value: 0.031082608425385554 and parameters: {'x_0': 0.05578981290731089, 'x_1': 0.31319378310835966, 'x_2': 0.8556317889010503}. Best is trial 358 with value: 0.031101669253663686.\n"
     ]
    },
    {
     "name": "stdout",
     "output_type": "stream",
     "text": [
      "__________Iteration 431______________\n",
      "SLIM weight: 0.6215023737731278\n",
      "RP3b weight: 0.32479287318315575\n",
      "ItemKNN weight: 0.05370475304371649\n",
      "EvaluatorHoldout: Processed 34728 (100.0%) in 13.10 sec. Users per second: 2650\n",
      "EvaluatorHoldout: Processed 35209 (100.0%) in 14.05 sec. Users per second: 2505\n"
     ]
    },
    {
     "name": "stderr",
     "output_type": "stream",
     "text": [
      "[I 2024-12-27 04:23:10,236] Trial 431 finished with value: 0.031054909034564232 and parameters: {'x_0': 0.10325966925017771, 'x_1': 0.30527199848665687, 'x_2': 0.821850060563931}. Best is trial 358 with value: 0.031101669253663686.\n"
     ]
    },
    {
     "name": "stdout",
     "output_type": "stream",
     "text": [
      "__________Iteration 432______________\n",
      "SLIM weight: 0.6229971002115084\n",
      "RP3b weight: 0.31521068686850634\n",
      "ItemKNN weight: 0.06179221291998529\n",
      "EvaluatorHoldout: Processed 34728 (100.0%) in 13.06 sec. Users per second: 2660\n",
      "EvaluatorHoldout: Processed 35209 (100.0%) in 14.12 sec. Users per second: 2493\n"
     ]
    },
    {
     "name": "stderr",
     "output_type": "stream",
     "text": [
      "[I 2024-12-27 04:23:37,507] Trial 432 finished with value: 0.03105604370289823 and parameters: {'x_0': 0.07927518230493555, 'x_1': 0.2773378336914678, 'x_2': 0.7776971263595801}. Best is trial 358 with value: 0.031101669253663686.\n"
     ]
    },
    {
     "name": "stdout",
     "output_type": "stream",
     "text": [
      "__________Iteration 433______________\n",
      "SLIM weight: 0.6881281247848587\n",
      "RP3b weight: 0.28362396900387565\n",
      "ItemKNN weight: 0.028247906211265605\n",
      "EvaluatorHoldout: Processed 34728 (100.0%) in 13.09 sec. Users per second: 2654\n",
      "EvaluatorHoldout: Processed 35209 (100.0%) in 14.07 sec. Users per second: 2503\n"
     ]
    },
    {
     "name": "stderr",
     "output_type": "stream",
     "text": [
      "[I 2024-12-27 04:24:04,753] Trial 433 finished with value: 0.03107639345955592 and parameters: {'x_0': 0.03953187831120669, 'x_1': 0.26406296832971965, 'x_2': 0.8757984854821905}. Best is trial 358 with value: 0.031101669253663686.\n"
     ]
    },
    {
     "name": "stdout",
     "output_type": "stream",
     "text": [
      "__________Iteration 434______________\n",
      "SLIM weight: 0.6877611723417489\n",
      "RP3b weight: 0.25332960568618357\n",
      "ItemKNN weight: 0.058909221972067605\n",
      "EvaluatorHoldout: Processed 34728 (100.0%) in 12.97 sec. Users per second: 2678\n",
      "EvaluatorHoldout: Processed 35209 (100.0%) in 14.08 sec. Users per second: 2500\n"
     ]
    },
    {
     "name": "stderr",
     "output_type": "stream",
     "text": [
      "[I 2024-12-27 04:24:31,899] Trial 434 finished with value: 0.031051904963013074 and parameters: {'x_0': 0.03662326795783101, 'x_1': 0.2957842246950811, 'x_2': 0.7533219489059121}. Best is trial 358 with value: 0.031101669253663686.\n"
     ]
    },
    {
     "name": "stdout",
     "output_type": "stream",
     "text": [
      "__________Iteration 435______________\n",
      "SLIM weight: 0.64055879020159\n",
      "RP3b weight: 0.3197511694204835\n",
      "ItemKNN weight: 0.03969004037792647\n",
      "EvaluatorHoldout: Processed 34728 (100.0%) in 13.00 sec. Users per second: 2671\n",
      "EvaluatorHoldout: Processed 35209 (100.0%) in 14.06 sec. Users per second: 2504\n"
     ]
    },
    {
     "name": "stderr",
     "output_type": "stream",
     "text": [
      "[I 2024-12-27 04:24:59,052] Trial 435 finished with value: 0.031060422402854 and parameters: {'x_0': 0.06559140170982737, 'x_1': 0.25668419162101086, 'x_2': 0.844675611416629}. Best is trial 358 with value: 0.031101669253663686.\n"
     ]
    },
    {
     "name": "stdout",
     "output_type": "stream",
     "text": [
      "__________Iteration 436______________\n",
      "SLIM weight: 0.7532061762961393\n",
      "RP3b weight: 0.20857276860902432\n",
      "ItemKNN weight: 0.03822105509483627\n",
      "EvaluatorHoldout: Processed 34728 (100.0%) in 13.08 sec. Users per second: 2654\n",
      "EvaluatorHoldout: Processed 35209 (100.0%) in 14.10 sec. Users per second: 2497\n"
     ]
    },
    {
     "name": "stderr",
     "output_type": "stream",
     "text": [
      "[I 2024-12-27 04:25:26,334] Trial 436 finished with value: 0.030989860430080615 and parameters: {'x_0': 0.01845288519324394, 'x_1': 0.33101694642699786, 'x_2': 0.8166055646286606}. Best is trial 358 with value: 0.031101669253663686.\n"
     ]
    },
    {
     "name": "stdout",
     "output_type": "stream",
     "text": [
      "__________Iteration 437______________\n",
      "SLIM weight: 0.6660596547271169\n",
      "RP3b weight: 0.2823053698407294\n",
      "ItemKNN weight: 0.05163497543215383\n",
      "EvaluatorHoldout: Processed 34728 (100.0%) in 13.05 sec. Users per second: 2660\n",
      "EvaluatorHoldout: Processed 35209 (100.0%) in 14.08 sec. Users per second: 2501\n"
     ]
    },
    {
     "name": "stderr",
     "output_type": "stream",
     "text": [
      "[I 2024-12-27 04:25:53,556] Trial 437 finished with value: 0.031087635017532023 and parameters: {'x_0': 0.04905966757608645, 'x_1': 0.27865799896324844, 'x_2': 0.7915912385818281}. Best is trial 358 with value: 0.031101669253663686.\n"
     ]
    },
    {
     "name": "stdout",
     "output_type": "stream",
     "text": [
      "__________Iteration 438______________\n",
      "SLIM weight: 0.6120794933785613\n",
      "RP3b weight: 0.20996523914023188\n",
      "ItemKNN weight: 0.17795526748120685\n",
      "EvaluatorHoldout: Processed 34728 (100.0%) in 13.04 sec. Users per second: 2663\n",
      "EvaluatorHoldout: Processed 35209 (100.0%) in 14.08 sec. Users per second: 2501\n"
     ]
    },
    {
     "name": "stderr",
     "output_type": "stream",
     "text": [
      "[I 2024-12-27 04:26:20,766] Trial 438 finished with value: 0.030947507477611876 and parameters: {'x_0': 0.016278889049108694, 'x_1': 0.24351352829364728, 'x_2': 0.3020298731649892}. Best is trial 358 with value: 0.031101669253663686.\n"
     ]
    },
    {
     "name": "stdout",
     "output_type": "stream",
     "text": [
      "__________Iteration 439______________\n",
      "SLIM weight: 0.5956056909665528\n",
      "RP3b weight: 0.2404723483124775\n",
      "ItemKNN weight: 0.16392196072096973\n",
      "EvaluatorHoldout: Processed 34728 (100.0%) in 12.99 sec. Users per second: 2673\n",
      "EvaluatorHoldout: Processed 35209 (100.0%) in 14.11 sec. Users per second: 2495\n"
     ]
    },
    {
     "name": "stderr",
     "output_type": "stream",
     "text": [
      "[I 2024-12-27 04:26:47,962] Trial 439 finished with value: 0.03095088177327202 and parameters: {'x_0': 0.035806111891528714, 'x_1': 0.26071653754173013, 'x_2': 0.39996467746133857}. Best is trial 358 with value: 0.031101669253663686.\n"
     ]
    },
    {
     "name": "stdout",
     "output_type": "stream",
     "text": [
      "__________Iteration 440______________\n",
      "SLIM weight: 0.7207109557003801\n",
      "RP3b weight: 0.1222059531746698\n",
      "ItemKNN weight: 0.15708309112495006\n",
      "EvaluatorHoldout: Processed 34728 (100.0%) in 13.07 sec. Users per second: 2658\n",
      "EvaluatorHoldout: Processed 35209 (100.0%) in 14.18 sec. Users per second: 2484\n"
     ]
    },
    {
     "name": "stderr",
     "output_type": "stream",
     "text": [
      "[I 2024-12-27 04:27:15,297] Trial 440 finished with value: 0.03089132711173921 and parameters: {'x_0': 0.0006764842343439537, 'x_1': 0.29008735681071895, 'x_2': 0.20376822416093354}. Best is trial 358 with value: 0.031101669253663686.\n"
     ]
    },
    {
     "name": "stdout",
     "output_type": "stream",
     "text": [
      "__________Iteration 441______________\n",
      "SLIM weight: 0.6234702114680946\n",
      "RP3b weight: 0.316786037561301\n",
      "ItemKNN weight: 0.0597437509706043\n",
      "EvaluatorHoldout: Processed 34728 (100.0%) in 13.06 sec. Users per second: 2660\n",
      "EvaluatorHoldout: Processed 35209 (100.0%) in 14.01 sec. Users per second: 2512\n"
     ]
    },
    {
     "name": "stderr",
     "output_type": "stream",
     "text": [
      "[I 2024-12-27 04:27:42,457] Trial 441 finished with value: 0.03106248263146051 and parameters: {'x_0': 0.06346240772717035, 'x_1': 0.24635255767720549, 'x_2': 0.7678063324726581}. Best is trial 358 with value: 0.031101669253663686.\n"
     ]
    },
    {
     "name": "stdout",
     "output_type": "stream",
     "text": [
      "__________Iteration 442______________\n",
      "SLIM weight: 0.6862716666627281\n",
      "RP3b weight: 0.2700231816110642\n",
      "ItemKNN weight: 0.04370515172620775\n",
      "EvaluatorHoldout: Processed 34728 (100.0%) in 13.08 sec. Users per second: 2656\n",
      "EvaluatorHoldout: Processed 35209 (100.0%) in 14.04 sec. Users per second: 2508\n"
     ]
    },
    {
     "name": "stderr",
     "output_type": "stream",
     "text": [
      "[I 2024-12-27 04:28:09,662] Trial 442 finished with value: 0.031095851935951078 and parameters: {'x_0': 0.035871513461452835, 'x_1': 0.2699889963489704, 'x_2': 0.8090201893359159}. Best is trial 358 with value: 0.031101669253663686.\n"
     ]
    },
    {
     "name": "stdout",
     "output_type": "stream",
     "text": [
      "__________Iteration 443______________\n",
      "SLIM weight: 0.6244992257826709\n",
      "RP3b weight: 0.32731037305698946\n",
      "ItemKNN weight: 0.048190401160339624\n",
      "EvaluatorHoldout: Processed 34728 (100.0%) in 13.11 sec. Users per second: 2650\n",
      "EvaluatorHoldout: Processed 35209 (100.0%) in 14.07 sec. Users per second: 2502\n"
     ]
    },
    {
     "name": "stderr",
     "output_type": "stream",
     "text": [
      "[I 2024-12-27 04:28:36,929] Trial 443 finished with value: 0.03105963053462092 and parameters: {'x_0': 0.08570340383804483, 'x_1': 0.2759094918966402, 'x_2': 0.8273003860481609}. Best is trial 358 with value: 0.031101669253663686.\n"
     ]
    },
    {
     "name": "stdout",
     "output_type": "stream",
     "text": [
      "__________Iteration 444______________\n",
      "SLIM weight: 0.6413769817986421\n",
      "RP3b weight: 0.268655628952127\n",
      "ItemKNN weight: 0.08996738924923083\n",
      "EvaluatorHoldout: Processed 34728 (100.0%) in 13.05 sec. Users per second: 2661\n",
      "EvaluatorHoldout: Processed 35209 (100.0%) in 14.03 sec. Users per second: 2509\n"
     ]
    },
    {
     "name": "stderr",
     "output_type": "stream",
     "text": [
      "[I 2024-12-27 04:29:04,104] Trial 444 finished with value: 0.031066034040506042 and parameters: {'x_0': 0.05175937319216418, 'x_1': 0.2892840309129631, 'x_2': 0.6600978996264584}. Best is trial 358 with value: 0.031101669253663686.\n"
     ]
    },
    {
     "name": "stdout",
     "output_type": "stream",
     "text": [
      "__________Iteration 445______________\n",
      "SLIM weight: 0.6805356698420358\n",
      "RP3b weight: 0.27065801528647315\n",
      "ItemKNN weight: 0.04880631487149103\n",
      "EvaluatorHoldout: Processed 34728 (100.0%) in 13.04 sec. Users per second: 2662\n",
      "EvaluatorHoldout: Processed 35209 (100.0%) in 14.04 sec. Users per second: 2508\n"
     ]
    },
    {
     "name": "stderr",
     "output_type": "stream",
     "text": [
      "[I 2024-12-27 04:29:31,278] Trial 445 finished with value: 0.03108274097475785 and parameters: {'x_0': 0.035711504198149495, 'x_1': 0.2657251760967839, 'x_2': 0.7874283057306924}. Best is trial 358 with value: 0.031101669253663686.\n"
     ]
    },
    {
     "name": "stdout",
     "output_type": "stream",
     "text": [
      "__________Iteration 446______________\n",
      "SLIM weight: 0.6208045585011491\n",
      "RP3b weight: 0.33227596027973477\n",
      "ItemKNN weight: 0.0469194812191161\n",
      "EvaluatorHoldout: Processed 34728 (100.0%) in 13.08 sec. Users per second: 2655\n",
      "EvaluatorHoldout: Processed 35209 (100.0%) in 14.01 sec. Users per second: 2514\n"
     ]
    },
    {
     "name": "stderr",
     "output_type": "stream",
     "text": [
      "[I 2024-12-27 04:29:58,456] Trial 446 finished with value: 0.03104439192746803 and parameters: {'x_0': 0.11261699804445943, 'x_1': 0.31073187085456855, 'x_2': 0.8478551118068238}. Best is trial 358 with value: 0.031101669253663686.\n"
     ]
    },
    {
     "name": "stdout",
     "output_type": "stream",
     "text": [
      "__________Iteration 447______________\n",
      "SLIM weight: 0.650526040024384\n",
      "RP3b weight: 0.315421945048987\n",
      "ItemKNN weight: 0.034052014926629216\n",
      "EvaluatorHoldout: Processed 34728 (100.0%) in 13.13 sec. Users per second: 2645\n",
      "EvaluatorHoldout: Processed 35209 (100.0%) in 14.09 sec. Users per second: 2500\n"
     ]
    },
    {
     "name": "stderr",
     "output_type": "stream",
     "text": [
      "[I 2024-12-27 04:30:25,762] Trial 447 finished with value: 0.03105634422432003 and parameters: {'x_0': 0.0660489274520881, 'x_1': 0.2677847278475041, 'x_2': 0.867412063166268}. Best is trial 358 with value: 0.031101669253663686.\n"
     ]
    },
    {
     "name": "stdout",
     "output_type": "stream",
     "text": [
      "__________Iteration 448______________\n",
      "SLIM weight: 0.6733620353393582\n",
      "RP3b weight: 0.2833657505563151\n",
      "ItemKNN weight: 0.04327221410432657\n",
      "EvaluatorHoldout: Processed 34728 (100.0%) in 13.00 sec. Users per second: 2670\n",
      "EvaluatorHoldout: Processed 35209 (100.0%) in 14.08 sec. Users per second: 2501\n"
     ]
    },
    {
     "name": "stderr",
     "output_type": "stream",
     "text": [
      "[I 2024-12-27 04:30:52,937] Trial 448 finished with value: 0.031093405485897563 and parameters: {'x_0': 0.03585427840450634, 'x_1': 0.24644421870721298, 'x_2': 0.8074405861981073}. Best is trial 358 with value: 0.031101669253663686.\n"
     ]
    },
    {
     "name": "stdout",
     "output_type": "stream",
     "text": [
      "__________Iteration 449______________\n",
      "SLIM weight: 0.7332768293620872\n",
      "RP3b weight: 0.21971124639270648\n",
      "ItemKNN weight: 0.04701192424520653\n",
      "EvaluatorHoldout: Processed 34728 (100.0%) in 13.02 sec. Users per second: 2667\n",
      "EvaluatorHoldout: Processed 35209 (100.0%) in 14.03 sec. Users per second: 2510\n"
     ]
    },
    {
     "name": "stderr",
     "output_type": "stream",
     "text": [
      "[I 2024-12-27 04:31:20,075] Trial 449 finished with value: 0.031030943879508898 and parameters: {'x_0': 0.01818855089838116, 'x_1': 0.30101245616238526, 'x_2': 0.7734495400539445}. Best is trial 358 with value: 0.031101669253663686.\n"
     ]
    },
    {
     "name": "stdout",
     "output_type": "stream",
     "text": [
      "__________Iteration 450______________\n",
      "SLIM weight: 0.6708130082401284\n",
      "RP3b weight: 0.28602101537885216\n",
      "ItemKNN weight: 0.04316597638101952\n",
      "EvaluatorHoldout: Processed 34728 (100.0%) in 13.08 sec. Users per second: 2655\n",
      "EvaluatorHoldout: Processed 35209 (100.0%) in 14.14 sec. Users per second: 2490\n"
     ]
    },
    {
     "name": "stderr",
     "output_type": "stream",
     "text": [
      "[I 2024-12-27 04:31:47,391] Trial 450 finished with value: 0.031092629615002466 and parameters: {'x_0': 0.03423469209463035, 'x_1': 0.2372063486267565, 'x_2': 0.8048125707408103}. Best is trial 358 with value: 0.031101669253663686.\n"
     ]
    },
    {
     "name": "stdout",
     "output_type": "stream",
     "text": [
      "__________Iteration 451______________\n",
      "SLIM weight: 0.6130092197988659\n",
      "RP3b weight: 0.3432015398885853\n",
      "ItemKNN weight: 0.04378924031254869\n",
      "EvaluatorHoldout: Processed 34728 (100.0%) in 13.04 sec. Users per second: 2664\n",
      "EvaluatorHoldout: Processed 35209 (100.0%) in 14.07 sec. Users per second: 2502\n"
     ]
    },
    {
     "name": "stderr",
     "output_type": "stream",
     "text": [
      "[I 2024-12-27 04:32:14,594] Trial 451 finished with value: 0.031022409299662948 and parameters: {'x_0': 0.07704729198840055, 'x_1': 0.23808717085495662, 'x_2': 0.8326787134473534}. Best is trial 358 with value: 0.031101669253663686.\n"
     ]
    },
    {
     "name": "stdout",
     "output_type": "stream",
     "text": [
      "__________Iteration 452______________\n",
      "SLIM weight: 0.6708203928392568\n",
      "RP3b weight: 0.2818477480741456\n",
      "ItemKNN weight: 0.047331859086597504\n",
      "EvaluatorHoldout: Processed 34728 (100.0%) in 13.06 sec. Users per second: 2659\n",
      "EvaluatorHoldout: Processed 35209 (100.0%) in 14.09 sec. Users per second: 2499\n"
     ]
    },
    {
     "name": "stderr",
     "output_type": "stream",
     "text": [
      "[I 2024-12-27 04:32:41,836] Trial 452 finished with value: 0.03108914448064308 and parameters: {'x_0': 0.049270893189327813, 'x_1': 0.2822844024471134, 'x_2': 0.808633211097443}. Best is trial 358 with value: 0.031101669253663686.\n"
     ]
    },
    {
     "name": "stdout",
     "output_type": "stream",
     "text": [
      "__________Iteration 453______________\n",
      "SLIM weight: 0.6729394746068104\n",
      "RP3b weight: 0.26953245580508123\n",
      "ItemKNN weight: 0.05752806958810835\n",
      "EvaluatorHoldout: Processed 34728 (100.0%) in 13.14 sec. Users per second: 2642\n",
      "EvaluatorHoldout: Processed 35209 (100.0%) in 14.14 sec. Users per second: 2490\n"
     ]
    },
    {
     "name": "stderr",
     "output_type": "stream",
     "text": [
      "[I 2024-12-27 04:33:09,214] Trial 453 finished with value: 0.03106938319749202 and parameters: {'x_0': 0.034863042593945015, 'x_1': 0.2607195217356629, 'x_2': 0.7505681199045018}. Best is trial 358 with value: 0.031101669253663686.\n"
     ]
    },
    {
     "name": "stdout",
     "output_type": "stream",
     "text": [
      "__________Iteration 454______________\n",
      "SLIM weight: 0.6923841248285951\n",
      "RP3b weight: 0.25989019105565786\n",
      "ItemKNN weight: 0.04772568411574691\n",
      "EvaluatorHoldout: Processed 34728 (100.0%) in 12.99 sec. Users per second: 2673\n",
      "EvaluatorHoldout: Processed 35209 (100.0%) in 14.10 sec. Users per second: 2496\n"
     ]
    },
    {
     "name": "stderr",
     "output_type": "stream",
     "text": [
      "[I 2024-12-27 04:33:36,401] Trial 454 finished with value: 0.031075182232532618 and parameters: {'x_0': 0.058187292224980036, 'x_1': 0.3438519160632466, 'x_2': 0.8219780777817147}. Best is trial 358 with value: 0.031101669253663686.\n"
     ]
    },
    {
     "name": "stdout",
     "output_type": "stream",
     "text": [
      "__________Iteration 455______________\n",
      "SLIM weight: 0.5895052656302799\n",
      "RP3b weight: 0.3535412178025897\n",
      "ItemKNN weight: 0.05695351656713028\n",
      "EvaluatorHoldout: Processed 34728 (100.0%) in 13.14 sec. Users per second: 2643\n",
      "EvaluatorHoldout: Processed 35209 (100.0%) in 14.09 sec. Users per second: 2498\n"
     ]
    },
    {
     "name": "stderr",
     "output_type": "stream",
     "text": [
      "[I 2024-12-27 04:34:03,727] Trial 455 finished with value: 0.0310328372787329 and parameters: {'x_0': 0.09238480060358864, 'x_1': 0.239686996250236, 'x_2': 0.7944456431930218}. Best is trial 358 with value: 0.031101669253663686.\n"
     ]
    },
    {
     "name": "stdout",
     "output_type": "stream",
     "text": [
      "__________Iteration 456______________\n",
      "SLIM weight: 0.6915999809530502\n",
      "RP3b weight: 0.27257440357814033\n",
      "ItemKNN weight: 0.03582561546880949\n",
      "EvaluatorHoldout: Processed 34728 (100.0%) in 13.06 sec. Users per second: 2660\n",
      "EvaluatorHoldout: Processed 35209 (100.0%) in 14.09 sec. Users per second: 2499\n"
     ]
    },
    {
     "name": "stderr",
     "output_type": "stream",
     "text": [
      "[I 2024-12-27 04:34:30,962] Trial 456 finished with value: 0.03109116243057052 and parameters: {'x_0': 0.03224902222019366, 'x_1': 0.25832970353886314, 'x_2': 0.837027196363368}. Best is trial 358 with value: 0.031101669253663686.\n"
     ]
    },
    {
     "name": "stdout",
     "output_type": "stream",
     "text": [
      "__________Iteration 457______________\n",
      "SLIM weight: 0.5736424906200984\n",
      "RP3b weight: 0.35581588345972065\n",
      "ItemKNN weight: 0.07054162592018101\n",
      "EvaluatorHoldout: Processed 34728 (100.0%) in 13.05 sec. Users per second: 2661\n",
      "EvaluatorHoldout: Processed 35209 (100.0%) in 14.02 sec. Users per second: 2512\n"
     ]
    },
    {
     "name": "stderr",
     "output_type": "stream",
     "text": [
      "[I 2024-12-27 04:34:58,127] Trial 457 finished with value: 0.031021713415458077 and parameters: {'x_0': 0.13130934097073563, 'x_1': 0.28385800307221265, 'x_2': 0.779068364480724}. Best is trial 358 with value: 0.031101669253663686.\n"
     ]
    },
    {
     "name": "stdout",
     "output_type": "stream",
     "text": [
      "__________Iteration 458______________\n",
      "SLIM weight: 0.6331646370541614\n",
      "RP3b weight: 0.31592688507977595\n",
      "ItemKNN weight: 0.05090847786606265\n",
      "EvaluatorHoldout: Processed 34728 (100.0%) in 13.05 sec. Users per second: 2662\n",
      "EvaluatorHoldout: Processed 35209 (100.0%) in 14.01 sec. Users per second: 2513\n"
     ]
    },
    {
     "name": "stderr",
     "output_type": "stream",
     "text": [
      "[I 2024-12-27 04:35:25,276] Trial 458 finished with value: 0.031052142637749768 and parameters: {'x_0': 0.0699025142311357, 'x_1': 0.2651200331847117, 'x_2': 0.8074088325176386}. Best is trial 358 with value: 0.031101669253663686.\n"
     ]
    },
    {
     "name": "stdout",
     "output_type": "stream",
     "text": [
      "__________Iteration 459______________\n",
      "SLIM weight: 0.6815430708053792\n",
      "RP3b weight: 0.2522126237070675\n",
      "ItemKNN weight: 0.06624430548755313\n",
      "EvaluatorHoldout: Processed 34728 (100.0%) in 13.04 sec. Users per second: 2663\n",
      "EvaluatorHoldout: Processed 35209 (100.0%) in 14.11 sec. Users per second: 2495\n"
     ]
    },
    {
     "name": "stderr",
     "output_type": "stream",
     "text": [
      "[I 2024-12-27 04:35:52,522] Trial 459 finished with value: 0.03105605284423424 and parameters: {'x_0': 0.042002676356996824, 'x_1': 0.30940566960885957, 'x_2': 0.7348283724928207}. Best is trial 358 with value: 0.031101669253663686.\n"
     ]
    },
    {
     "name": "stdout",
     "output_type": "stream",
     "text": [
      "__________Iteration 460______________\n",
      "SLIM weight: 0.8434247724232907\n",
      "RP3b weight: 0.13826902929133897\n",
      "ItemKNN weight: 0.018306198285370348\n",
      "EvaluatorHoldout: Processed 34728 (100.0%) in 13.11 sec. Users per second: 2648\n",
      "EvaluatorHoldout: Processed 35209 (100.0%) in 14.04 sec. Users per second: 2508\n"
     ]
    },
    {
     "name": "stderr",
     "output_type": "stream",
     "text": [
      "[I 2024-12-27 04:36:19,767] Trial 460 finished with value: 0.030868827998448763 and parameters: {'x_0': 0.0002184712445733733, 'x_1': 0.25112450872147574, 'x_2': 0.832813991714272}. Best is trial 358 with value: 0.031101669253663686.\n"
     ]
    },
    {
     "name": "stdout",
     "output_type": "stream",
     "text": [
      "__________Iteration 461______________\n",
      "SLIM weight: 0.11859862484071597\n",
      "RP3b weight: 0.7483435827780186\n",
      "ItemKNN weight: 0.13305779238126542\n",
      "EvaluatorHoldout: Processed 34728 (100.0%) in 12.93 sec. Users per second: 2685\n",
      "EvaluatorHoldout: Processed 35209 (100.0%) in 14.28 sec. Users per second: 2465\n"
     ]
    },
    {
     "name": "stderr",
     "output_type": "stream",
     "text": [
      "[I 2024-12-27 04:36:47,076] Trial 461 finished with value: 0.029859438246617825 and parameters: {'x_0': 0.8223905343166594, 'x_1': 0.2911740506424013, 'x_2': 0.8030169179518903}. Best is trial 358 with value: 0.031101669253663686.\n"
     ]
    },
    {
     "name": "stdout",
     "output_type": "stream",
     "text": [
      "__________Iteration 462______________\n",
      "SLIM weight: 0.6447235131452592\n",
      "RP3b weight: 0.2964602472123162\n",
      "ItemKNN weight: 0.05881623964242469\n",
      "EvaluatorHoldout: Processed 34728 (100.0%) in 12.97 sec. Users per second: 2677\n",
      "EvaluatorHoldout: Processed 35209 (100.0%) in 14.03 sec. Users per second: 2510\n"
     ]
    },
    {
     "name": "stderr",
     "output_type": "stream",
     "text": [
      "[I 2024-12-27 04:37:14,171] Trial 462 finished with value: 0.031070844668588952 and parameters: {'x_0': 0.054428183485241366, 'x_1': 0.2622404562730199, 'x_2': 0.7667837630070015}. Best is trial 358 with value: 0.031101669253663686.\n"
     ]
    },
    {
     "name": "stdout",
     "output_type": "stream",
     "text": [
      "__________Iteration 463______________\n",
      "SLIM weight: 0.6803716855942356\n",
      "RP3b weight: 0.282261846268156\n",
      "ItemKNN weight: 0.03736646813760849\n",
      "EvaluatorHoldout: Processed 34728 (100.0%) in 13.02 sec. Users per second: 2668\n",
      "EvaluatorHoldout: Processed 35209 (100.0%) in 14.04 sec. Users per second: 2507\n"
     ]
    },
    {
     "name": "stderr",
     "output_type": "stream",
     "text": [
      "[I 2024-12-27 04:37:41,323] Trial 463 finished with value: 0.031083738523051612 and parameters: {'x_0': 0.030211053306507345, 'x_1': 0.2341398026522772, 'x_2': 0.8251438985471758}. Best is trial 358 with value: 0.031101669253663686.\n"
     ]
    },
    {
     "name": "stdout",
     "output_type": "stream",
     "text": [
      "__________Iteration 464______________\n",
      "SLIM weight: 0.6522651387742913\n",
      "RP3b weight: 0.2869486023249841\n",
      "ItemKNN weight: 0.060786258900724706\n",
      "EvaluatorHoldout: Processed 34728 (100.0%) in 13.02 sec. Users per second: 2666\n",
      "EvaluatorHoldout: Processed 35209 (100.0%) in 14.04 sec. Users per second: 2507\n"
     ]
    },
    {
     "name": "stderr",
     "output_type": "stream",
     "text": [
      "[I 2024-12-27 04:38:08,484] Trial 464 finished with value: 0.03107849482417448 and parameters: {'x_0': 0.07578845746807425, 'x_1': 0.32144590716929666, 'x_2': 0.7862983064533037}. Best is trial 358 with value: 0.031101669253663686.\n"
     ]
    },
    {
     "name": "stdout",
     "output_type": "stream",
     "text": [
      "__________Iteration 465______________\n",
      "SLIM weight: 0.7005074821366403\n",
      "RP3b weight: 0.2654346651793213\n",
      "ItemKNN weight: 0.034057852684038575\n",
      "EvaluatorHoldout: Processed 34728 (100.0%) in 13.04 sec. Users per second: 2664\n",
      "EvaluatorHoldout: Processed 35209 (100.0%) in 14.14 sec. Users per second: 2490\n"
     ]
    },
    {
     "name": "stderr",
     "output_type": "stream",
     "text": [
      "[I 2024-12-27 04:38:35,754] Trial 465 finished with value: 0.031079683197857737 and parameters: {'x_0': 0.03097066316609364, 'x_1': 0.2680368322099116, 'x_2': 0.8445624771798625}. Best is trial 358 with value: 0.031101669253663686.\n"
     ]
    },
    {
     "name": "stdout",
     "output_type": "stream",
     "text": [
      "__________Iteration 466______________\n",
      "SLIM weight: 0.640983924021815\n",
      "RP3b weight: 0.31382235042480616\n",
      "ItemKNN weight: 0.045193725553378736\n",
      "EvaluatorHoldout: Processed 34728 (100.0%) in 13.01 sec. Users per second: 2669\n",
      "EvaluatorHoldout: Processed 35209 (100.0%) in 14.10 sec. Users per second: 2498\n"
     ]
    },
    {
     "name": "stderr",
     "output_type": "stream",
     "text": [
      "[I 2024-12-27 04:39:02,953] Trial 466 finished with value: 0.031057743991398788 and parameters: {'x_0': 0.054743761631296364, 'x_1': 0.24115445442732314, 'x_2': 0.8147868516058361}. Best is trial 358 with value: 0.031101669253663686.\n"
     ]
    },
    {
     "name": "stdout",
     "output_type": "stream",
     "text": [
      "__________Iteration 467______________\n",
      "SLIM weight: 0.40854255521664606\n",
      "RP3b weight: 0.5018267455557555\n",
      "ItemKNN weight: 0.08963069922759845\n",
      "EvaluatorHoldout: Processed 34728 (100.0%) in 13.09 sec. Users per second: 2652\n",
      "EvaluatorHoldout: Processed 35209 (100.0%) in 14.03 sec. Users per second: 2509\n"
     ]
    },
    {
     "name": "stderr",
     "output_type": "stream",
     "text": [
      "[I 2024-12-27 04:39:30,170] Trial 467 finished with value: 0.03084054013412075 and parameters: {'x_0': 0.34969378550006325, 'x_1': 0.2751036243860517, 'x_2': 0.7941253859713356}. Best is trial 358 with value: 0.031101669253663686.\n"
     ]
    },
    {
     "name": "stdout",
     "output_type": "stream",
     "text": [
      "__________Iteration 468______________\n",
      "SLIM weight: 0.654308814903205\n",
      "RP3b weight: 0.3266323790769877\n",
      "ItemKNN weight: 0.01905880601980723\n",
      "EvaluatorHoldout: Processed 34728 (100.0%) in 13.01 sec. Users per second: 2669\n",
      "EvaluatorHoldout: Processed 35209 (100.0%) in 14.01 sec. Users per second: 2512\n"
     ]
    },
    {
     "name": "stderr",
     "output_type": "stream",
     "text": [
      "[I 2024-12-27 04:39:57,288] Trial 468 finished with value: 0.03104208488278883 and parameters: {'x_0': 0.016453311533642746, 'x_1': 0.1286914784591543, 'x_2': 0.8872433587538269}. Best is trial 358 with value: 0.031101669253663686.\n"
     ]
    },
    {
     "name": "stdout",
     "output_type": "stream",
     "text": [
      "__________Iteration 469______________\n",
      "SLIM weight: 0.683327072544848\n",
      "RP3b weight: 0.2578878098983423\n",
      "ItemKNN weight: 0.05878511755680958\n",
      "EvaluatorHoldout: Processed 34728 (100.0%) in 12.98 sec. Users per second: 2675\n",
      "EvaluatorHoldout: Processed 35209 (100.0%) in 14.03 sec. Users per second: 2510\n"
     ]
    },
    {
     "name": "stderr",
     "output_type": "stream",
     "text": [
      "[I 2024-12-27 04:40:24,389] Trial 469 finished with value: 0.031060998307023475 and parameters: {'x_0': 0.03960025624165465, 'x_1': 0.2956452251608743, 'x_2': 0.7574658513018138}. Best is trial 358 with value: 0.031101669253663686.\n"
     ]
    },
    {
     "name": "stdout",
     "output_type": "stream",
     "text": [
      "__________Iteration 470______________\n",
      "SLIM weight: 0.5965038304962857\n",
      "RP3b weight: 0.3578172962938999\n",
      "ItemKNN weight: 0.04567887320981435\n",
      "EvaluatorHoldout: Processed 34728 (100.0%) in 13.00 sec. Users per second: 2671\n",
      "EvaluatorHoldout: Processed 35209 (100.0%) in 14.07 sec. Users per second: 2502\n"
     ]
    },
    {
     "name": "stderr",
     "output_type": "stream",
     "text": [
      "[I 2024-12-27 04:40:51,556] Trial 470 finished with value: 0.03100450256505784 and parameters: {'x_0': 0.09789040735483599, 'x_1': 0.24807779971109062, 'x_2': 0.8369764369209604}. Best is trial 358 with value: 0.031101669253663686.\n"
     ]
    },
    {
     "name": "stdout",
     "output_type": "stream",
     "text": [
      "__________Iteration 471______________\n",
      "SLIM weight: 0.7240461176970782\n",
      "RP3b weight: 0.2513120154512075\n",
      "ItemKNN weight: 0.024641866851714343\n",
      "EvaluatorHoldout: Processed 34728 (100.0%) in 13.06 sec. Users per second: 2658\n",
      "EvaluatorHoldout: Processed 35209 (100.0%) in 14.02 sec. Users per second: 2511\n"
     ]
    },
    {
     "name": "stderr",
     "output_type": "stream",
     "text": [
      "[I 2024-12-27 04:41:18,727] Trial 471 finished with value: 0.03103680804656862 and parameters: {'x_0': 0.014623352932832547, 'x_1': 0.23072727192796683, 'x_2': 0.866064058883324}. Best is trial 358 with value: 0.031101669253663686.\n"
     ]
    },
    {
     "name": "stdout",
     "output_type": "stream",
     "text": [
      "__________Iteration 472______________\n",
      "SLIM weight: 0.6518065647395446\n",
      "RP3b weight: 0.302397592786434\n",
      "ItemKNN weight: 0.04579584247402136\n",
      "EvaluatorHoldout: Processed 34728 (100.0%) in 13.03 sec. Users per second: 2666\n",
      "EvaluatorHoldout: Processed 35209 (100.0%) in 14.01 sec. Users per second: 2513\n"
     ]
    },
    {
     "name": "stderr",
     "output_type": "stream",
     "text": [
      "[I 2024-12-27 04:41:45,862] Trial 472 finished with value: 0.03105329216075485 and parameters: {'x_0': 0.05143721542720968, 'x_1': 0.2524138113262148, 'x_2': 0.8118102401140079}. Best is trial 358 with value: 0.031101669253663686.\n"
     ]
    },
    {
     "name": "stdout",
     "output_type": "stream",
     "text": [
      "__________Iteration 473______________\n",
      "SLIM weight: 0.016375400403156975\n",
      "RP3b weight: 0.8226634139567337\n",
      "ItemKNN weight: 0.16096118564010928\n",
      "EvaluatorHoldout: Processed 34728 (100.0%) in 13.04 sec. Users per second: 2664\n",
      "EvaluatorHoldout: Processed 35209 (100.0%) in 14.01 sec. Users per second: 2512\n"
     ]
    },
    {
     "name": "stderr",
     "output_type": "stream",
     "text": [
      "[I 2024-12-27 04:42:13,014] Trial 473 finished with value: 0.029469289453091303 and parameters: {'x_0': 0.974822064036982, 'x_1': 0.27773743871789397, 'x_2': 0.7782914892696848}. Best is trial 358 with value: 0.031101669253663686.\n"
     ]
    },
    {
     "name": "stdout",
     "output_type": "stream",
     "text": [
      "__________Iteration 474______________\n",
      "SLIM weight: 0.666869948022385\n",
      "RP3b weight: 0.2883666465890723\n",
      "ItemKNN weight: 0.04476340538854284\n",
      "EvaluatorHoldout: Processed 34728 (100.0%) in 13.03 sec. Users per second: 2666\n",
      "EvaluatorHoldout: Processed 35209 (100.0%) in 14.03 sec. Users per second: 2510\n"
     ]
    },
    {
     "name": "stderr",
     "output_type": "stream",
     "text": [
      "[I 2024-12-27 04:42:40,161] Trial 474 finished with value: 0.03109283415239599 and parameters: {'x_0': 0.03283382359481528, 'x_1': 0.22826037221053566, 'x_2': 0.7950759406555122}. Best is trial 358 with value: 0.031101669253663686.\n"
     ]
    },
    {
     "name": "stdout",
     "output_type": "stream",
     "text": [
      "__________Iteration 475______________\n",
      "SLIM weight: 0.5945401747053677\n",
      "RP3b weight: 0.3411699480427035\n",
      "ItemKNN weight: 0.06428987725192895\n",
      "EvaluatorHoldout: Processed 34728 (100.0%) in 12.98 sec. Users per second: 2675\n",
      "EvaluatorHoldout: Processed 35209 (100.0%) in 14.07 sec. Users per second: 2503\n"
     ]
    },
    {
     "name": "stderr",
     "output_type": "stream",
     "text": [
      "[I 2024-12-27 04:43:07,305] Trial 475 finished with value: 0.031033068097467583 and parameters: {'x_0': 0.07482368981369293, 'x_1': 0.2258814027669126, 'x_2': 0.7555193512914479}. Best is trial 358 with value: 0.031101669253663686.\n"
     ]
    },
    {
     "name": "stdout",
     "output_type": "stream",
     "text": [
      "__________Iteration 476______________\n",
      "SLIM weight: 0.6617272531688332\n",
      "RP3b weight: 0.2697357628470794\n",
      "ItemKNN weight: 0.0685369839840876\n",
      "EvaluatorHoldout: Processed 34728 (100.0%) in 12.99 sec. Users per second: 2673\n",
      "EvaluatorHoldout: Processed 35209 (100.0%) in 13.98 sec. Users per second: 2518\n"
     ]
    },
    {
     "name": "stderr",
     "output_type": "stream",
     "text": [
      "[I 2024-12-27 04:43:34,368] Trial 476 finished with value: 0.03107597295809873 and parameters: {'x_0': 0.03410816977388174, 'x_1': 0.25232379324556514, 'x_2': 0.7047643873363839}. Best is trial 358 with value: 0.031101669253663686.\n"
     ]
    },
    {
     "name": "stdout",
     "output_type": "stream",
     "text": [
      "__________Iteration 477______________\n",
      "SLIM weight: 0.6428870722443752\n",
      "RP3b weight: 0.30223029208212837\n",
      "ItemKNN weight: 0.05488263567349644\n",
      "EvaluatorHoldout: Processed 34728 (100.0%) in 12.98 sec. Users per second: 2676\n",
      "EvaluatorHoldout: Processed 35209 (100.0%) in 13.99 sec. Users per second: 2516\n"
     ]
    },
    {
     "name": "stderr",
     "output_type": "stream",
     "text": [
      "[I 2024-12-27 04:44:01,427] Trial 477 finished with value: 0.031071289166053128 and parameters: {'x_0': 0.06134213778172036, 'x_1': 0.2692206335308311, 'x_2': 0.7879745171876521}. Best is trial 358 with value: 0.031101669253663686.\n"
     ]
    },
    {
     "name": "stdout",
     "output_type": "stream",
     "text": [
      "__________Iteration 478______________\n",
      "SLIM weight: 0.7147006621918571\n",
      "RP3b weight: 0.1967562902706825\n",
      "ItemKNN weight: 0.08854304753746038\n",
      "EvaluatorHoldout: Processed 34728 (100.0%) in 12.93 sec. Users per second: 2686\n",
      "EvaluatorHoldout: Processed 35209 (100.0%) in 14.06 sec. Users per second: 2505\n"
     ]
    },
    {
     "name": "stderr",
     "output_type": "stream",
     "text": [
      "[I 2024-12-27 04:44:28,507] Trial 478 finished with value: 0.031024416965587425 and parameters: {'x_0': 0.08084142726110519, 'x_1': 0.500348795283536, 'x_2': 0.7322656019386685}. Best is trial 358 with value: 0.031101669253663686.\n"
     ]
    },
    {
     "name": "stdout",
     "output_type": "stream",
     "text": [
      "__________Iteration 479______________\n",
      "SLIM weight: 0.6443865048013514\n",
      "RP3b weight: 0.3024612271743611\n",
      "ItemKNN weight: 0.05315226802428751\n",
      "EvaluatorHoldout: Processed 34728 (100.0%) in 13.02 sec. Users per second: 2667\n",
      "EvaluatorHoldout: Processed 35209 (100.0%) in 14.03 sec. Users per second: 2509\n"
     ]
    },
    {
     "name": "stderr",
     "output_type": "stream",
     "text": [
      "[I 2024-12-27 04:44:55,649] Trial 479 finished with value: 0.031069007260048 and parameters: {'x_0': 0.04377453061019619, 'x_1': 0.2302599820583686, 'x_2': 0.7725401432349732}. Best is trial 358 with value: 0.031101669253663686.\n"
     ]
    },
    {
     "name": "stdout",
     "output_type": "stream",
     "text": [
      "__________Iteration 480______________\n",
      "SLIM weight: 0.6976490805536382\n",
      "RP3b weight: 0.2549594329080517\n",
      "ItemKNN weight: 0.04739148653830998\n",
      "EvaluatorHoldout: Processed 34728 (100.0%) in 12.94 sec. Users per second: 2683\n",
      "EvaluatorHoldout: Processed 35209 (100.0%) in 14.04 sec. Users per second: 2508\n"
     ]
    },
    {
     "name": "stderr",
     "output_type": "stream",
     "text": [
      "[I 2024-12-27 04:45:22,722] Trial 480 finished with value: 0.03106172275790344 and parameters: {'x_0': 0.03600621863392383, 'x_1': 0.296770522968562, 'x_2': 0.7978740544663638}. Best is trial 358 with value: 0.031101669253663686.\n"
     ]
    },
    {
     "name": "stdout",
     "output_type": "stream",
     "text": [
      "__________Iteration 481______________\n",
      "SLIM weight: 0.8232364348996409\n",
      "RP3b weight: 0.15335208341934875\n",
      "ItemKNN weight: 0.02341148168101025\n",
      "EvaluatorHoldout: Processed 34728 (100.0%) in 13.02 sec. Users per second: 2667\n",
      "EvaluatorHoldout: Processed 35209 (100.0%) in 14.03 sec. Users per second: 2510\n"
     ]
    },
    {
     "name": "stderr",
     "output_type": "stream",
     "text": [
      "[I 2024-12-27 04:45:49,869] Trial 481 finished with value: 0.030903191423232033 and parameters: {'x_0': 0.0005417662707890916, 'x_1': 0.2463633371329962, 'x_2': 0.8074488457741849}. Best is trial 358 with value: 0.031101669253663686.\n"
     ]
    },
    {
     "name": "stdout",
     "output_type": "stream",
     "text": [
      "__________Iteration 482______________\n",
      "SLIM weight: 0.5880788688596015\n",
      "RP3b weight: 0.3026752342302797\n",
      "ItemKNN weight: 0.10924589691011889\n",
      "EvaluatorHoldout: Processed 34728 (100.0%) in 13.05 sec. Users per second: 2660\n",
      "EvaluatorHoldout: Processed 35209 (100.0%) in 13.99 sec. Users per second: 2518\n"
     ]
    },
    {
     "name": "stderr",
     "output_type": "stream",
     "text": [
      "[I 2024-12-27 04:46:17,001] Trial 482 finished with value: 0.031058751823695524 and parameters: {'x_0': 0.05763321389541971, 'x_1': 0.2302168946675766, 'x_2': 0.5885364767224264}. Best is trial 358 with value: 0.031101669253663686.\n"
     ]
    },
    {
     "name": "stdout",
     "output_type": "stream",
     "text": [
      "__________Iteration 483______________\n",
      "SLIM weight: 0.7017393633140012\n",
      "RP3b weight: 0.2495186193755704\n",
      "ItemKNN weight: 0.048742017310428196\n",
      "EvaluatorHoldout: Processed 34728 (100.0%) in 12.95 sec. Users per second: 2683\n",
      "EvaluatorHoldout: Processed 35209 (100.0%) in 14.08 sec. Users per second: 2501\n"
     ]
    },
    {
     "name": "stderr",
     "output_type": "stream",
     "text": [
      "[I 2024-12-27 04:46:44,117] Trial 483 finished with value: 0.031067169851507037 and parameters: {'x_0': 0.025422484986602423, 'x_1': 0.27098218581247774, 'x_2': 0.7748689486772338}. Best is trial 358 with value: 0.031101669253663686.\n"
     ]
    },
    {
     "name": "stdout",
     "output_type": "stream",
     "text": [
      "__________Iteration 484______________\n",
      "SLIM weight: 0.747755443322575\n",
      "RP3b weight: 0.21567580131499714\n",
      "ItemKNN weight: 0.03656875536242779\n",
      "EvaluatorHoldout: Processed 34728 (100.0%) in 13.03 sec. Users per second: 2665\n",
      "EvaluatorHoldout: Processed 35209 (100.0%) in 13.99 sec. Users per second: 2516\n"
     ]
    },
    {
     "name": "stderr",
     "output_type": "stream",
     "text": [
      "[I 2024-12-27 04:47:11,233] Trial 484 finished with value: 0.030998438431272597 and parameters: {'x_0': 0.018302161081278266, 'x_1': 0.31539291697178257, 'x_2': 0.8222960431084769}. Best is trial 358 with value: 0.031101669253663686.\n"
     ]
    },
    {
     "name": "stdout",
     "output_type": "stream",
     "text": [
      "__________Iteration 485______________\n",
      "SLIM weight: 0.6408547455088117\n",
      "RP3b weight: 0.2964928985825801\n",
      "ItemKNN weight: 0.06265235590860815\n",
      "EvaluatorHoldout: Processed 34728 (100.0%) in 13.08 sec. Users per second: 2654\n",
      "EvaluatorHoldout: Processed 35209 (100.0%) in 13.98 sec. Users per second: 2518\n"
     ]
    },
    {
     "name": "stderr",
     "output_type": "stream",
     "text": [
      "[I 2024-12-27 04:47:38,387] Trial 485 finished with value: 0.03107565301133786 and parameters: {'x_0': 0.04966139193336645, 'x_1': 0.2492930591436982, 'x_2': 0.7456206567454782}. Best is trial 358 with value: 0.031101669253663686.\n"
     ]
    },
    {
     "name": "stdout",
     "output_type": "stream",
     "text": [
      "__________Iteration 486______________\n",
      "SLIM weight: 0.5126597663257394\n",
      "RP3b weight: 0.32290326270501174\n",
      "ItemKNN weight: 0.16443697096924884\n",
      "EvaluatorHoldout: Processed 34728 (100.0%) in 13.03 sec. Users per second: 2665\n",
      "EvaluatorHoldout: Processed 35209 (100.0%) in 13.96 sec. Users per second: 2521\n"
     ]
    },
    {
     "name": "stderr",
     "output_type": "stream",
     "text": [
      "[I 2024-12-27 04:48:05,476] Trial 486 finished with value: 0.03099549149307171 and parameters: {'x_0': 0.09303624789414755, 'x_1': 0.22407660163300241, 'x_2': 0.4668662409922797}. Best is trial 358 with value: 0.031101669253663686.\n"
     ]
    },
    {
     "name": "stdout",
     "output_type": "stream",
     "text": [
      "__________Iteration 487______________\n",
      "SLIM weight: 0.6465843342708075\n",
      "RP3b weight: 0.29751982124915005\n",
      "ItemKNN weight: 0.0558958444800424\n",
      "EvaluatorHoldout: Processed 34728 (100.0%) in 12.99 sec. Users per second: 2673\n",
      "EvaluatorHoldout: Processed 35209 (100.0%) in 13.95 sec. Users per second: 2523\n"
     ]
    },
    {
     "name": "stderr",
     "output_type": "stream",
     "text": [
      "[I 2024-12-27 04:48:32,515] Trial 487 finished with value: 0.031078780490925228 and parameters: {'x_0': 0.06589861162739273, 'x_1': 0.2860993036612162, 'x_2': 0.7904863189024649}. Best is trial 358 with value: 0.031101669253663686.\n"
     ]
    },
    {
     "name": "stdout",
     "output_type": "stream",
     "text": [
      "__________Iteration 488______________\n",
      "SLIM weight: 0.6900134819190831\n",
      "RP3b weight: 0.26780821152332634\n",
      "ItemKNN weight: 0.04217830655759064\n",
      "EvaluatorHoldout: Processed 34728 (100.0%) in 13.02 sec. Users per second: 2668\n",
      "EvaluatorHoldout: Processed 35209 (100.0%) in 14.00 sec. Users per second: 2515\n"
     ]
    },
    {
     "name": "stderr",
     "output_type": "stream",
     "text": [
      "[I 2024-12-27 04:48:59,626] Trial 488 finished with value: 0.03108993177820819 and parameters: {'x_0': 0.03108247195314562, 'x_1': 0.2599649181300887, 'x_2': 0.8088208170807963}. Best is trial 358 with value: 0.031101669253663686.\n"
     ]
    },
    {
     "name": "stdout",
     "output_type": "stream",
     "text": [
      "__________Iteration 489______________\n",
      "SLIM weight: 0.6862259724362959\n",
      "RP3b weight: 0.27776446018836104\n",
      "ItemKNN weight: 0.036009567375343186\n",
      "EvaluatorHoldout: Processed 34728 (100.0%) in 12.97 sec. Users per second: 2677\n",
      "EvaluatorHoldout: Processed 35209 (100.0%) in 14.09 sec. Users per second: 2499\n"
     ]
    },
    {
     "name": "stderr",
     "output_type": "stream",
     "text": [
      "[I 2024-12-27 04:49:26,780] Trial 489 finished with value: 0.031081923967850734 and parameters: {'x_0': 0.03677308714374908, 'x_1': 0.26264431108971187, 'x_2': 0.8408654054532284}. Best is trial 358 with value: 0.031101669253663686.\n"
     ]
    },
    {
     "name": "stdout",
     "output_type": "stream",
     "text": [
      "__________Iteration 490______________\n",
      "SLIM weight: 0.6446703734095842\n",
      "RP3b weight: 0.3045437756210352\n",
      "ItemKNN weight: 0.05078585096938062\n",
      "EvaluatorHoldout: Processed 34728 (100.0%) in 13.04 sec. Users per second: 2664\n",
      "EvaluatorHoldout: Processed 35209 (100.0%) in 13.99 sec. Users per second: 2517\n"
     ]
    },
    {
     "name": "stderr",
     "output_type": "stream",
     "text": [
      "[I 2024-12-27 04:49:53,900] Trial 490 finished with value: 0.03106251919680461 and parameters: {'x_0': 0.07821243934960616, 'x_1': 0.30004123378731656, 'x_2': 0.8181152142690157}. Best is trial 358 with value: 0.031101669253663686.\n"
     ]
    },
    {
     "name": "stdout",
     "output_type": "stream",
     "text": [
      "__________Iteration 491______________\n",
      "SLIM weight: 0.6702727982364521\n",
      "RP3b weight: 0.29257472414502633\n",
      "ItemKNN weight: 0.03715247761852148\n",
      "EvaluatorHoldout: Processed 34728 (100.0%) in 13.06 sec. Users per second: 2658\n",
      "EvaluatorHoldout: Processed 35209 (100.0%) in 14.05 sec. Users per second: 2506\n"
     ]
    },
    {
     "name": "stderr",
     "output_type": "stream",
     "text": [
      "[I 2024-12-27 04:50:21,106] Trial 491 finished with value: 0.031075719286024053 and parameters: {'x_0': 0.05157143086823492, 'x_1': 0.27413555296036984, 'x_2': 0.8484578445201085}. Best is trial 358 with value: 0.031101669253663686.\n"
     ]
    },
    {
     "name": "stdout",
     "output_type": "stream",
     "text": [
      "__________Iteration 492______________\n",
      "SLIM weight: 0.6863958334629067\n",
      "RP3b weight: 0.27121914004119807\n",
      "ItemKNN weight: 0.042385026495895255\n",
      "EvaluatorHoldout: Processed 34728 (100.0%) in 12.97 sec. Users per second: 2678\n",
      "EvaluatorHoldout: Processed 35209 (100.0%) in 14.01 sec. Users per second: 2513\n"
     ]
    },
    {
     "name": "stderr",
     "output_type": "stream",
     "text": [
      "[I 2024-12-27 04:50:48,176] Trial 492 finished with value: 0.031099916402480977 and parameters: {'x_0': 0.03016956703914728, 'x_1': 0.2507403665555768, 'x_2': 0.8055884017867078}. Best is trial 358 with value: 0.031101669253663686.\n"
     ]
    },
    {
     "name": "stdout",
     "output_type": "stream",
     "text": [
      "__________Iteration 493______________\n",
      "SLIM weight: 0.27562346093025736\n",
      "RP3b weight: 0.7006034137272551\n",
      "ItemKNN weight: 0.02377312534248758\n",
      "EvaluatorHoldout: Processed 34728 (100.0%) in 13.06 sec. Users per second: 2659\n",
      "EvaluatorHoldout: Processed 35209 (100.0%) in 13.99 sec. Users per second: 2517\n"
     ]
    },
    {
     "name": "stderr",
     "output_type": "stream",
     "text": [
      "[I 2024-12-27 04:51:15,323] Trial 493 finished with value: 0.03019052258275573 and parameters: {'x_0': 0.1189850649563352, 'x_1': 0.004466910146715963, 'x_2': 0.8322603510089829}. Best is trial 358 with value: 0.031101669253663686.\n"
     ]
    },
    {
     "name": "stdout",
     "output_type": "stream",
     "text": [
      "__________Iteration 494______________\n",
      "SLIM weight: 0.7506362397725902\n",
      "RP3b weight: 0.20796486774789913\n",
      "ItemKNN weight: 0.041398892479510584\n",
      "EvaluatorHoldout: Processed 34728 (100.0%) in 12.98 sec. Users per second: 2676\n",
      "EvaluatorHoldout: Processed 35209 (100.0%) in 13.99 sec. Users per second: 2517\n"
     ]
    },
    {
     "name": "stderr",
     "output_type": "stream",
     "text": [
      "[I 2024-12-27 04:51:42,383] Trial 494 finished with value: 0.030995961129210013 and parameters: {'x_0': 0.018469590257285326, 'x_1': 0.3309172826817944, 'x_2': 0.8024021926492073}. Best is trial 358 with value: 0.031101669253663686.\n"
     ]
    },
    {
     "name": "stdout",
     "output_type": "stream",
     "text": [
      "__________Iteration 495______________\n",
      "SLIM weight: 0.35336100870556075\n",
      "RP3b weight: 0.5695581018390653\n",
      "ItemKNN weight: 0.0770808894553738\n",
      "EvaluatorHoldout: Processed 34728 (100.0%) in 12.96 sec. Users per second: 2679\n",
      "EvaluatorHoldout: Processed 35209 (100.0%) in 13.98 sec. Users per second: 2518\n"
     ]
    },
    {
     "name": "stderr",
     "output_type": "stream",
     "text": [
      "[I 2024-12-27 04:52:09,419] Trial 495 finished with value: 0.030644902973858534 and parameters: {'x_0': 0.4039163638252171, 'x_1': 0.23195753859373652, 'x_2': 0.8205741729971426}. Best is trial 358 with value: 0.031101669253663686.\n"
     ]
    },
    {
     "name": "stdout",
     "output_type": "stream",
     "text": [
      "__________Iteration 496______________\n",
      "SLIM weight: 0.6405874948603897\n",
      "RP3b weight: 0.3236566120549906\n",
      "ItemKNN weight: 0.03575589308461962\n",
      "EvaluatorHoldout: Processed 34728 (100.0%) in 13.07 sec. Users per second: 2656\n",
      "EvaluatorHoldout: Processed 35209 (100.0%) in 13.97 sec. Users per second: 2520\n"
     ]
    },
    {
     "name": "stderr",
     "output_type": "stream",
     "text": [
      "[I 2024-12-27 04:52:36,566] Trial 496 finished with value: 0.031067330967554544 and parameters: {'x_0': 0.06270651063213258, 'x_1': 0.24679855989659746, 'x_2': 0.8567797327110998}. Best is trial 358 with value: 0.031101669253663686.\n"
     ]
    },
    {
     "name": "stdout",
     "output_type": "stream",
     "text": [
      "__________Iteration 497______________\n",
      "SLIM weight: 0.686417927284323\n",
      "RP3b weight: 0.2648726651372816\n",
      "ItemKNN weight: 0.04870940757839524\n",
      "EvaluatorHoldout: Processed 34728 (100.0%) in 13.03 sec. Users per second: 2666\n",
      "EvaluatorHoldout: Processed 35209 (100.0%) in 13.95 sec. Users per second: 2524\n"
     ]
    },
    {
     "name": "stderr",
     "output_type": "stream",
     "text": [
      "[I 2024-12-27 04:53:03,633] Trial 497 finished with value: 0.031077667533264255 and parameters: {'x_0': 0.03738423277027156, 'x_1': 0.28134148679313303, 'x_2': 0.7919823380248096}. Best is trial 358 with value: 0.031101669253663686.\n"
     ]
    },
    {
     "name": "stdout",
     "output_type": "stream",
     "text": [
      "__________Iteration 498______________\n",
      "SLIM weight: 0.7057232212523773\n",
      "RP3b weight: 0.24660066220809615\n",
      "ItemKNN weight: 0.04767611653952661\n",
      "EvaluatorHoldout: Processed 34728 (100.0%) in 13.00 sec. Users per second: 2670\n",
      "EvaluatorHoldout: Processed 35209 (100.0%) in 14.03 sec. Users per second: 2510\n"
     ]
    },
    {
     "name": "stderr",
     "output_type": "stream",
     "text": [
      "[I 2024-12-27 04:53:30,762] Trial 498 finished with value: 0.03105894264908499 and parameters: {'x_0': 0.018861729492764816, 'x_1': 0.24971058022689846, 'x_2': 0.7647236189917076}. Best is trial 358 with value: 0.031101669253663686.\n"
     ]
    },
    {
     "name": "stdout",
     "output_type": "stream",
     "text": [
      "__________Iteration 499______________\n",
      "SLIM weight: 0.6412992824139915\n",
      "RP3b weight: 0.32067435287959795\n",
      "ItemKNN weight: 0.03802636470641056\n",
      "EvaluatorHoldout: Processed 34728 (100.0%) in 12.98 sec. Users per second: 2676\n",
      "EvaluatorHoldout: Processed 35209 (100.0%) in 14.02 sec. Users per second: 2512\n"
     ]
    },
    {
     "name": "stderr",
     "output_type": "stream",
     "text": [
      "[I 2024-12-27 04:53:57,848] Trial 499 finished with value: 0.031066108313861272 and parameters: {'x_0': 0.04834837899154544, 'x_1': 0.21985698256251174, 'x_2': 0.8355825299520795}. Best is trial 358 with value: 0.031101669253663686.\n"
     ]
    }
   ],
   "source": [
    "study = op.create_study(direction=\"maximize\")\n",
    "study.optimize(objective_function_weight_hybrid,\n",
    "                      callbacks=[],\n",
    "                      n_trials = 500)"
   ]
  },
  {
   "cell_type": "code",
   "execution_count": 35,
   "id": "b9e034a0-df61-4649-befe-abe2fcd38274",
   "metadata": {},
   "outputs": [],
   "source": [
    "results_df=pd.DataFrame(results_dict)\n",
    "results_df.to_csv(\"result_experiments/ensemble_SLIM_RP3_KNNCFR/results_prof_eval_27_12_24.csv\",sep=',',index=False)"
   ]
  },
  {
   "cell_type": "code",
   "execution_count": 60,
   "id": "6f5436db-e9e5-4dd2-b976-5471583b0306",
   "metadata": {},
   "outputs": [],
   "source": [
    "similarity_best = 0.862708291473966 * slim_model_train_val.W_sparse + 0.10238146945917358 * rp3_beta_train_val.W_sparse + 0.034910239066860506 * knn_train_val.W_sparse\n",
    "recommender_best = ItemKNNCustomSimilarityRecommender(URM_train_val)\n",
    "recommender_best.fit(similarity_best)"
   ]
  },
  {
   "cell_type": "code",
   "execution_count": null,
   "id": "cc53c275-4cfc-44c5-9307-4d6460823814",
   "metadata": {},
   "outputs": [],
   "source": []
  },
  {
   "cell_type": "code",
   "execution_count": 62,
   "id": "fda79d98-cebe-4458-a44e-24ba80d92377",
   "metadata": {},
   "outputs": [
    {
     "name": "stdout",
     "output_type": "stream",
     "text": [
      "EvaluatorHoldout: Processed 35209 (100.0%) in 14.67 sec. Users per second: 2400\n"
     ]
    },
    {
     "data": {
      "text/plain": [
       "(cutoff\n",
       " 10    0.04793\n",
       " Name: MAP, dtype: object,\n",
       " cutoff\n",
       " 10    0.149136\n",
       " Name: RECALL, dtype: object,\n",
       " cutoff\n",
       " 10    0.09109\n",
       " Name: PRECISION, dtype: object)"
      ]
     },
     "execution_count": 62,
     "metadata": {},
     "output_type": "execute_result"
    }
   ],
   "source": [
    "recommender_best_res, _ = evaluator_test.evaluateRecommender(recommender_best)\n",
    "recommender_best_res[\"MAP\"], recommender_best_res[\"RECALL\"], recommender_best_res[\"PRECISION\"] "
   ]
  },
  {
   "cell_type": "code",
   "execution_count": 64,
   "id": "edc89fca-3297-40f5-b53d-a69755ed91b9",
   "metadata": {},
   "outputs": [
    {
     "data": {
      "text/plain": [
       "0.08402824403040553"
      ]
     },
     "execution_count": 64,
     "metadata": {},
     "output_type": "execute_result"
    }
   ],
   "source": [
    "evaluate_algorithm(URM_test, recommender_best)"
   ]
  },
  {
   "cell_type": "code",
   "execution_count": 63,
   "id": "612f8bf2-3f05-41f8-801a-86e096ee54a9",
   "metadata": {},
   "outputs": [
    {
     "data": {
      "text/html": [
       "<div>\n",
       "<style scoped>\n",
       "    .dataframe tbody tr th:only-of-type {\n",
       "        vertical-align: middle;\n",
       "    }\n",
       "\n",
       "    .dataframe tbody tr th {\n",
       "        vertical-align: top;\n",
       "    }\n",
       "\n",
       "    .dataframe thead th {\n",
       "        text-align: right;\n",
       "    }\n",
       "</style>\n",
       "<table border=\"1\" class=\"dataframe\">\n",
       "  <thead>\n",
       "    <tr style=\"text-align: right;\">\n",
       "      <th></th>\n",
       "      <th>Iteration</th>\n",
       "      <th>SLIM_w</th>\n",
       "      <th>RP3b_w</th>\n",
       "      <th>ItemKNN_w</th>\n",
       "      <th>MAP_val</th>\n",
       "      <th>MAP_test</th>\n",
       "    </tr>\n",
       "  </thead>\n",
       "  <tbody>\n",
       "    <tr>\n",
       "      <th>282</th>\n",
       "      <td>282</td>\n",
       "      <td>0.754314</td>\n",
       "      <td>0.222048</td>\n",
       "      <td>0.023638</td>\n",
       "      <td>0.030990</td>\n",
       "      <td>0.048032</td>\n",
       "    </tr>\n",
       "    <tr>\n",
       "      <th>33</th>\n",
       "      <td>33</td>\n",
       "      <td>0.753455</td>\n",
       "      <td>0.230423</td>\n",
       "      <td>0.016122</td>\n",
       "      <td>0.030994</td>\n",
       "      <td>0.048030</td>\n",
       "    </tr>\n",
       "    <tr>\n",
       "      <th>262</th>\n",
       "      <td>262</td>\n",
       "      <td>0.718897</td>\n",
       "      <td>0.251402</td>\n",
       "      <td>0.029701</td>\n",
       "      <td>0.031051</td>\n",
       "      <td>0.048029</td>\n",
       "    </tr>\n",
       "    <tr>\n",
       "      <th>225</th>\n",
       "      <td>225</td>\n",
       "      <td>0.756138</td>\n",
       "      <td>0.221332</td>\n",
       "      <td>0.022530</td>\n",
       "      <td>0.030992</td>\n",
       "      <td>0.048028</td>\n",
       "    </tr>\n",
       "    <tr>\n",
       "      <th>384</th>\n",
       "      <td>384</td>\n",
       "      <td>0.727622</td>\n",
       "      <td>0.241647</td>\n",
       "      <td>0.030731</td>\n",
       "      <td>0.031037</td>\n",
       "      <td>0.048028</td>\n",
       "    </tr>\n",
       "    <tr>\n",
       "      <th>...</th>\n",
       "      <td>...</td>\n",
       "      <td>...</td>\n",
       "      <td>...</td>\n",
       "      <td>...</td>\n",
       "      <td>...</td>\n",
       "      <td>...</td>\n",
       "    </tr>\n",
       "    <tr>\n",
       "      <th>473</th>\n",
       "      <td>473</td>\n",
       "      <td>0.016375</td>\n",
       "      <td>0.822663</td>\n",
       "      <td>0.160961</td>\n",
       "      <td>0.029469</td>\n",
       "      <td>0.044360</td>\n",
       "    </tr>\n",
       "    <tr>\n",
       "      <th>266</th>\n",
       "      <td>266</td>\n",
       "      <td>0.044960</td>\n",
       "      <td>0.845908</td>\n",
       "      <td>0.109132</td>\n",
       "      <td>0.029373</td>\n",
       "      <td>0.044305</td>\n",
       "    </tr>\n",
       "    <tr>\n",
       "      <th>30</th>\n",
       "      <td>30</td>\n",
       "      <td>0.143846</td>\n",
       "      <td>0.150658</td>\n",
       "      <td>0.705496</td>\n",
       "      <td>0.029306</td>\n",
       "      <td>0.044252</td>\n",
       "    </tr>\n",
       "    <tr>\n",
       "      <th>155</th>\n",
       "      <td>155</td>\n",
       "      <td>0.017493</td>\n",
       "      <td>0.862692</td>\n",
       "      <td>0.119815</td>\n",
       "      <td>0.029265</td>\n",
       "      <td>0.044074</td>\n",
       "    </tr>\n",
       "    <tr>\n",
       "      <th>0</th>\n",
       "      <td>0</td>\n",
       "      <td>0.008682</td>\n",
       "      <td>0.005779</td>\n",
       "      <td>0.985539</td>\n",
       "      <td>0.028180</td>\n",
       "      <td>0.042440</td>\n",
       "    </tr>\n",
       "  </tbody>\n",
       "</table>\n",
       "<p>500 rows × 6 columns</p>\n",
       "</div>"
      ],
      "text/plain": [
       "     Iteration    SLIM_w    RP3b_w  ItemKNN_w   MAP_val  MAP_test\n",
       "282        282  0.754314  0.222048   0.023638  0.030990  0.048032\n",
       "33          33  0.753455  0.230423   0.016122  0.030994  0.048030\n",
       "262        262  0.718897  0.251402   0.029701  0.031051  0.048029\n",
       "225        225  0.756138  0.221332   0.022530  0.030992  0.048028\n",
       "384        384  0.727622  0.241647   0.030731  0.031037  0.048028\n",
       "..         ...       ...       ...        ...       ...       ...\n",
       "473        473  0.016375  0.822663   0.160961  0.029469  0.044360\n",
       "266        266  0.044960  0.845908   0.109132  0.029373  0.044305\n",
       "30          30  0.143846  0.150658   0.705496  0.029306  0.044252\n",
       "155        155  0.017493  0.862692   0.119815  0.029265  0.044074\n",
       "0            0  0.008682  0.005779   0.985539  0.028180  0.042440\n",
       "\n",
       "[500 rows x 6 columns]"
      ]
     },
     "execution_count": 63,
     "metadata": {},
     "output_type": "execute_result"
    }
   ],
   "source": [
    "results_df.sort_values('MAP_test', ascending=False)"
   ]
  },
  {
   "cell_type": "code",
   "execution_count": 67,
   "id": "afadcd27-f25d-48ea-bd53-8b2fc5ee55a9",
   "metadata": {},
   "outputs": [],
   "source": [
    "results_df=pd.DataFrame(results_dict)\n",
    "results_df.to_csv(\"result_experiments/ensemble_SLIM_RP3_KNNCFR/results_prof_eval_18_12_24.csv\",sep=',',index=False)"
   ]
  },
  {
   "cell_type": "code",
   "execution_count": null,
   "id": "f734394c-2297-4831-8d69-cdce2a322561",
   "metadata": {},
   "outputs": [],
   "source": [
    "res_best, _ = evaluator_test.evaluateRecommender(recommender_best)"
   ]
  },
  {
   "cell_type": "code",
   "execution_count": null,
   "id": "8ba0512d-91e5-47cc-99c7-c2e6a666d5dc",
   "metadata": {},
   "outputs": [],
   "source": [
    "res_best"
   ]
  },
  {
   "cell_type": "code",
   "execution_count": 35,
   "id": "d5e5babe-a1e0-41d8-9286-8c9516ee3a67",
   "metadata": {},
   "outputs": [
    {
     "data": {
      "text/html": [
       "<div>\n",
       "<style scoped>\n",
       "    .dataframe tbody tr th:only-of-type {\n",
       "        vertical-align: middle;\n",
       "    }\n",
       "\n",
       "    .dataframe tbody tr th {\n",
       "        vertical-align: top;\n",
       "    }\n",
       "\n",
       "    .dataframe thead th {\n",
       "        text-align: right;\n",
       "    }\n",
       "</style>\n",
       "<table border=\"1\" class=\"dataframe\">\n",
       "  <thead>\n",
       "    <tr style=\"text-align: right;\">\n",
       "      <th></th>\n",
       "      <th>Iteration</th>\n",
       "      <th>SLIM_w</th>\n",
       "      <th>RP3b_w</th>\n",
       "      <th>ItemKNN_w</th>\n",
       "      <th>MAP_val</th>\n",
       "      <th>MAP_test</th>\n",
       "    </tr>\n",
       "  </thead>\n",
       "  <tbody>\n",
       "    <tr>\n",
       "      <th>148</th>\n",
       "      <td>148</td>\n",
       "      <td>0.867298</td>\n",
       "      <td>0.105076</td>\n",
       "      <td>0.027626</td>\n",
       "      <td>0.030877</td>\n",
       "      <td>0.047923</td>\n",
       "    </tr>\n",
       "  </tbody>\n",
       "</table>\n",
       "</div>"
      ],
      "text/plain": [
       "     Iteration    SLIM_w    RP3b_w  ItemKNN_w   MAP_val  MAP_test\n",
       "148        148  0.867298  0.105076   0.027626  0.030877  0.047923"
      ]
     },
     "execution_count": 35,
     "metadata": {},
     "output_type": "execute_result"
    }
   ],
   "source": [
    "results_best[results_best[\"MAP_test\"]==results_best[\"MAP_test\"].max()]"
   ]
  },
  {
   "cell_type": "code",
   "execution_count": 43,
   "id": "93a1c6fe-c9f5-471c-adfc-c7d8c86e44c6",
   "metadata": {},
   "outputs": [
    {
     "data": {
      "text/plain": [
       "{'SLIM_w': 0.7543139107121462,\n",
       " 'RP3b_w': 0.2220484447741522,\n",
       " 'ItemKNN_w': 0.023637644513701594,\n",
       " 'MAP_test': 0.04803199330798644}"
      ]
     },
     "execution_count": 43,
     "metadata": {},
     "output_type": "execute_result"
    }
   ],
   "source": [
    "new_best_on_test"
   ]
  },
  {
   "cell_type": "code",
   "execution_count": 57,
   "id": "c6479d9d-02db-4dc6-93e9-e49ce6757133",
   "metadata": {},
   "outputs": [
    {
     "name": "stdout",
     "output_type": "stream",
     "text": [
      "SLIMElasticNetRecommender: Saving model in file 'result_experiments/SLIM/slim_320_train_ens'\n",
      "SLIMElasticNetRecommender: Saving complete\n",
      "SLIMElasticNetRecommender: Saving model in file 'result_experiments/SLIM/slim_320_train_val_ens'\n",
      "SLIMElasticNetRecommender: Saving complete\n"
     ]
    }
   ],
   "source": [
    "# slim_model_train.save_model(\"result_experiments/SLIM/\", \"slim_320_train_ens\")\n",
    "# slim_model_train_val.save_model(\"result_experiments/SLIM/\", \"slim_320_train_val_ens\")"
   ]
  },
  {
   "cell_type": "code",
   "execution_count": 58,
   "id": "429adbc0-527c-43ba-867a-89a4930c65e1",
   "metadata": {},
   "outputs": [
    {
     "name": "stdout",
     "output_type": "stream",
     "text": [
      "ItemKNNCFRecommender: Saving model in file 'result_experiments/ItemKNNCFRecommender/knn_6_train_ens'\n",
      "ItemKNNCFRecommender: Saving complete\n",
      "ItemKNNCFRecommender: Saving model in file 'result_experiments/ItemKNNCFRecommender/knn_6_train_val_ens'\n",
      "ItemKNNCFRecommender: Saving complete\n"
     ]
    }
   ],
   "source": [
    "# knn_train.save_model(\"result_experiments/ItemKNNCFRecommender/\", \"knn_6_train_ens\")\n",
    "# knn_train_val.save_model(\"result_experiments/ItemKNNCFRecommender/\", \"knn_6_train_val_ens\")"
   ]
  },
  {
   "cell_type": "code",
   "execution_count": 59,
   "id": "f8bfa83f-b9a8-49f4-be8c-6aaf6c2b3b31",
   "metadata": {},
   "outputs": [
    {
     "name": "stdout",
     "output_type": "stream",
     "text": [
      "RP3betaRecommender: Saving model in file 'result_experiments/RP3beta/rp3_beta_19_weights_train'\n",
      "RP3betaRecommender: Saving complete\n",
      "RP3betaRecommender: Saving model in file 'result_experiments/RP3beta/rp3_beta_19_weights_train_val'\n",
      "RP3betaRecommender: Saving complete\n"
     ]
    }
   ],
   "source": [
    "# rp3_beta_train.save_model(\"result_experiments/RP3beta/\", \"rp3_beta_19_weights_train_ens\")\n",
    "# rp3_beta_train_val.save_model(\"result_experiments/RP3beta/\", \"rp3_beta_19_weights_train_val_ens\")"
   ]
  },
  {
   "cell_type": "code",
   "execution_count": 57,
   "id": "b6bb27ce-d4d6-42f2-b8e3-dece5b8685e5",
   "metadata": {},
   "outputs": [],
   "source": [
    "# results_df=pd.DataFrame(results_dict)\n",
    "# results_df.to_csv(\"result_experiments/ensemble_SLIM_RP3_KNNCFR/results_prof_eval_11_12_24.csv\",sep=',',index=False)"
   ]
  },
  {
   "cell_type": "code",
   "execution_count": 63,
   "id": "b7aa5fd3-e728-4431-a050-8022729a7d15",
   "metadata": {},
   "outputs": [],
   "source": [
    "# sps.save_npz('URM_train_ens.npz', URM_train)\n",
    "# sps.save_npz('URM_train_val_ens.npz', URM_train_val)\n",
    "# sps.save_npz('URM_test_ens.npz', URM_test)"
   ]
  },
  {
   "cell_type": "code",
   "execution_count": 70,
   "id": "bc153cd5-3f93-4d9e-951d-d85b360c5a8f",
   "metadata": {},
   "outputs": [
    {
     "name": "stdout",
     "output_type": "stream",
     "text": [
      "0.8011551243595696\n",
      "0.176441040480307\n",
      "0.022403835160123328\n"
     ]
    }
   ],
   "source": [
    "print(new_best_on_test['SLIM_w'])\n",
    "print(new_best_on_test['RP3b_w'])\n",
    "print(new_best_on_test['ItemKNN_w'])"
   ]
  },
  {
   "cell_type": "code",
   "execution_count": 49,
   "id": "824e0286-8c8d-4398-8705-373def87a948",
   "metadata": {},
   "outputs": [],
   "source": [
    "def write_submission_lib_model(trained_model, filename: str = \"submission.csv\") -> None:\n",
    "\t\"\"\"Builds the submission file from a trained recommender model. The file is saved in a CSV format.\n",
    "\n",
    "\t:param trained_model: A fitted recommender model\n",
    "\t:type trained_model: RecommenderModel\n",
    "\t:param filename: The filename of the submission for this particular recommender model\n",
    "\t:type filename: str\n",
    "\t\"\"\"\n",
    "\ttarget_users_test = pd.read_csv(\"../data/data_target_users_test.csv\",).to_numpy().ravel()\n",
    "\n",
    "\trecommendations = np.array([\n",
    "\t\ttrained_model.recommend(user_id, cutoff=10) for user_id in target_users_test\n",
    "\t])\n",
    "\n",
    "\tif not os.path.exists(\"../submissions\"):\n",
    "\t\tos.makedirs(\"../submissions\")\n",
    "\twith open(f\"../submissions/{filename}\", \"w\") as f:\n",
    "\t\tf.write(\"user_id,item_list\\n\")\n",
    "\t\tfor user_id, recs in zip(target_users_test, recommendations):\n",
    "\t\t\tf.write(f\"{user_id},{' '.join(map(str, recs))}\\n\")"
   ]
  },
  {
   "cell_type": "code",
   "execution_count": 38,
   "id": "1a3751d2-d8d0-4cc8-89a5-1da0b673f514",
   "metadata": {},
   "outputs": [
    {
     "name": "stdout",
     "output_type": "stream",
     "text": [
      "SLIMElasticNetRecommender: Processed 6617 (17.4%) in 5.00 min. Items per second: 22.05\n",
      "SLIMElasticNetRecommender: Processed 11348 (29.8%) in 21.42 min. Items per second: 8.83\n",
      "SLIMElasticNetRecommender: Processed 18122 (47.5%) in 26.42 min. Items per second: 11.43\n",
      "SLIMElasticNetRecommender: Processed 24984 (65.5%) in 31.42 min. Items per second: 13.25\n",
      "SLIMElasticNetRecommender: Processed 31711 (83.2%) in 36.42 min. Items per second: 14.51\n",
      "SLIMElasticNetRecommender: Processed 38121 (100.0%) in 41.17 min. Items per second: 15.43\n"
     ]
    }
   ],
   "source": [
    "SLIM_all = SLIMElasticNetRecommender(URM_all)\n",
    "#SLIM_all.fit(l1_ratio=0.11006885790633625, alpha=0.0002551115306127753, topK = 307)\n",
    "SLIM_all.fit(topK =320, l1_ratio=0.1527515113685262, alpha=0.00022576119312621578)\n",
    "#SLIM_all.load_model(\"result_experiments/SLIM/\", \"slim_307_weights_all\")\n"
   ]
  },
  {
   "cell_type": "code",
   "execution_count": 39,
   "id": "98fbbab0-cedc-49d0-a721-bdfdde6de046",
   "metadata": {},
   "outputs": [
    {
     "name": "stdout",
     "output_type": "stream",
     "text": [
      "RP3betaRecommender: Similarity column 38121 (100.0%), 3795.54 column/sec. Elapsed time 10.04 sec\n"
     ]
    }
   ],
   "source": [
    "RP3_beta_all = RP3betaRecommender(URM_all)\n",
    "RP3_beta_all.fit(alpha=0.4176290154380183, beta=0.21520987912346945, topK=19, min_rating=0.0, implicit=False, normalize_similarity=True)\n",
    "\n",
    "#RP3_beta_all.load_model(\"result_experiments/RP3beta/\", \"rp3_beta_12_weights_all\")\n"
   ]
  },
  {
   "cell_type": "code",
   "execution_count": 40,
   "id": "07e236b8-3a69-4dfd-a654-f7ad5d62168f",
   "metadata": {},
   "outputs": [
    {
     "name": "stdout",
     "output_type": "stream",
     "text": [
      "Similarity column 38121 (100.0%), 4254.06 column/sec. Elapsed time 8.96 sec\n",
      "ItemKNNCFRecommender: Loading model from file 'result_experiments/ItemKNNCFRecommender/knn_4_weights_all'\n",
      "ItemKNNCFRecommender: Loading complete\n"
     ]
    }
   ],
   "source": [
    "KNN_all = ItemKNNCFRecommender(URM_all)\n",
    "KNN_all.fit(\n",
    "    similarity='tversky', \n",
    "    topK = 6,\n",
    "    shrink= 21.589349496863413,\n",
    "    feature_weighting= 'TF-IDF',\n",
    "    normalize= False,\n",
    "    tversky_alpha= 0.16725184866550824,\n",
    "    tversky_beta= 1.722012798691049\n",
    ")\n",
    "# KNN_all.fit(similarity='tversky', topK=4, shrink=18,\n",
    "#                   feature_weighting='none', tversky_alpha=0.1263621,\n",
    "#                   tversky_beta=1.72181042,\n",
    "#                   normalize=False)\n",
    "\n",
    "KNN_all.load_model(\"result_experiments/ItemKNNCFRecommender/\", \"knn_4_weights_all\")"
   ]
  },
  {
   "cell_type": "code",
   "execution_count": 53,
   "id": "80184a7b-db48-4e9c-912a-3d376f934ec4",
   "metadata": {},
   "outputs": [],
   "source": [
    "# iter 239 0.04801274656744886\n",
    "# 0.7380796311636464 * SLIM_all.W_sparse + 0.21602197286950797 * RP3_beta_all.W_sparse + 0.04589839596684567 * KNN_all.W_sparse\n",
    "\n",
    "similarity_all = 0.862708291473966 * SLIM_all.W_sparse + 0.10238146945917358 * RP3_beta_all.W_sparse + 0.034910239066860506 * KNN_all.W_sparse\n",
    "recommender_best = ItemKNNCustomSimilarityRecommender(URM_all)\n",
    "recommender_best.fit(similarity_all)"
   ]
  },
  {
   "cell_type": "code",
   "execution_count": 54,
   "id": "f8fed399-212e-4401-b902-8b5180ab06e0",
   "metadata": {},
   "outputs": [
    {
     "name": "stdout",
     "output_type": "stream",
     "text": [
      "EvaluatorHoldout: Processed 35209 (100.0%) in 15.08 sec. Users per second: 2335\n"
     ]
    }
   ],
   "source": [
    "recommender_best_res, _ = evaluator_test.evaluateRecommender(recommender_best)"
   ]
  },
  {
   "cell_type": "code",
   "execution_count": 55,
   "id": "e245746a-10aa-4f89-bfc7-c3eac8d092a3",
   "metadata": {},
   "outputs": [
    {
     "data": {
      "text/html": [
       "<div>\n",
       "<style scoped>\n",
       "    .dataframe tbody tr th:only-of-type {\n",
       "        vertical-align: middle;\n",
       "    }\n",
       "\n",
       "    .dataframe tbody tr th {\n",
       "        vertical-align: top;\n",
       "    }\n",
       "\n",
       "    .dataframe thead th {\n",
       "        text-align: right;\n",
       "    }\n",
       "</style>\n",
       "<table border=\"1\" class=\"dataframe\">\n",
       "  <thead>\n",
       "    <tr style=\"text-align: right;\">\n",
       "      <th></th>\n",
       "      <th>PRECISION</th>\n",
       "      <th>PRECISION_RECALL_MIN_DEN</th>\n",
       "      <th>RECALL</th>\n",
       "      <th>MAP</th>\n",
       "      <th>MAP_MIN_DEN</th>\n",
       "      <th>MRR</th>\n",
       "      <th>NDCG</th>\n",
       "      <th>F1</th>\n",
       "      <th>HIT_RATE</th>\n",
       "      <th>ARHR_ALL_HITS</th>\n",
       "      <th>...</th>\n",
       "      <th>COVERAGE_USER</th>\n",
       "      <th>COVERAGE_USER_HIT</th>\n",
       "      <th>USERS_IN_GT</th>\n",
       "      <th>DIVERSITY_GINI</th>\n",
       "      <th>SHANNON_ENTROPY</th>\n",
       "      <th>RATIO_DIVERSITY_HERFINDAHL</th>\n",
       "      <th>RATIO_DIVERSITY_GINI</th>\n",
       "      <th>RATIO_SHANNON_ENTROPY</th>\n",
       "      <th>RATIO_AVERAGE_POPULARITY</th>\n",
       "      <th>RATIO_NOVELTY</th>\n",
       "    </tr>\n",
       "    <tr>\n",
       "      <th>cutoff</th>\n",
       "      <th></th>\n",
       "      <th></th>\n",
       "      <th></th>\n",
       "      <th></th>\n",
       "      <th></th>\n",
       "      <th></th>\n",
       "      <th></th>\n",
       "      <th></th>\n",
       "      <th></th>\n",
       "      <th></th>\n",
       "      <th></th>\n",
       "      <th></th>\n",
       "      <th></th>\n",
       "      <th></th>\n",
       "      <th></th>\n",
       "      <th></th>\n",
       "      <th></th>\n",
       "      <th></th>\n",
       "      <th></th>\n",
       "      <th></th>\n",
       "      <th></th>\n",
       "    </tr>\n",
       "  </thead>\n",
       "  <tbody>\n",
       "    <tr>\n",
       "      <th>10</th>\n",
       "      <td>0.0</td>\n",
       "      <td>0.0</td>\n",
       "      <td>0.0</td>\n",
       "      <td>0.0</td>\n",
       "      <td>0.0</td>\n",
       "      <td>0.0</td>\n",
       "      <td>0.0</td>\n",
       "      <td>0.0</td>\n",
       "      <td>0.0</td>\n",
       "      <td>0.0</td>\n",
       "      <td>...</td>\n",
       "      <td>0.985253</td>\n",
       "      <td>0.0</td>\n",
       "      <td>0.985253</td>\n",
       "      <td>0.258398</td>\n",
       "      <td>13.564324</td>\n",
       "      <td>0.999893</td>\n",
       "      <td>0.422648</td>\n",
       "      <td>0.918636</td>\n",
       "      <td>1.281876</td>\n",
       "      <td>0.196381</td>\n",
       "    </tr>\n",
       "  </tbody>\n",
       "</table>\n",
       "<p>1 rows × 27 columns</p>\n",
       "</div>"
      ],
      "text/plain": [
       "       PRECISION PRECISION_RECALL_MIN_DEN RECALL  MAP MAP_MIN_DEN  MRR NDCG  \\\n",
       "cutoff                                                                        \n",
       "10           0.0                      0.0    0.0  0.0         0.0  0.0  0.0   \n",
       "\n",
       "         F1 HIT_RATE ARHR_ALL_HITS  ... COVERAGE_USER COVERAGE_USER_HIT  \\\n",
       "cutoff                              ...                                   \n",
       "10      0.0      0.0           0.0  ...      0.985253               0.0   \n",
       "\n",
       "       USERS_IN_GT DIVERSITY_GINI SHANNON_ENTROPY RATIO_DIVERSITY_HERFINDAHL  \\\n",
       "cutoff                                                                         \n",
       "10        0.985253       0.258398       13.564324                   0.999893   \n",
       "\n",
       "       RATIO_DIVERSITY_GINI RATIO_SHANNON_ENTROPY RATIO_AVERAGE_POPULARITY  \\\n",
       "cutoff                                                                       \n",
       "10                 0.422648              0.918636                 1.281876   \n",
       "\n",
       "       RATIO_NOVELTY  \n",
       "cutoff                \n",
       "10          0.196381  \n",
       "\n",
       "[1 rows x 27 columns]"
      ]
     },
     "execution_count": 55,
     "metadata": {},
     "output_type": "execute_result"
    }
   ],
   "source": [
    "recommender_best_res"
   ]
  },
  {
   "cell_type": "code",
   "execution_count": 56,
   "id": "d067b63a-a944-4b28-98e7-29a139dfe535",
   "metadata": {},
   "outputs": [],
   "source": [
    "write_submission_lib_model(recommender_best, \"ensemble_SLIM_RP3beta_KNN_11.csv\")"
   ]
  },
  {
   "cell_type": "code",
   "execution_count": 72,
   "id": "09a1b834-8cbe-45c0-8949-bcba446d55c8",
   "metadata": {},
   "outputs": [
    {
     "name": "stdout",
     "output_type": "stream",
     "text": [
      "ItemKNNCustomSimilarityRecommender: Saving model in file 'result_experiments/ensemble_SLIM_RP3_KNNCFR/ensemble_weights_11_12_24'\n",
      "ItemKNNCustomSimilarityRecommender: Saving complete\n"
     ]
    }
   ],
   "source": [
    "recommender_best.save_model(\"result_experiments/ensemble_SLIM_RP3_KNNCFR/\", \"ensemble_weights_11_12_24\")"
   ]
  },
  {
   "cell_type": "code",
   "execution_count": 73,
   "id": "500ebeaa-078a-403b-8e1c-999a9b496d48",
   "metadata": {},
   "outputs": [
    {
     "name": "stdout",
     "output_type": "stream",
     "text": [
      "SLIMElasticNetRecommender: Saving model in file 'result_experiments/SLIM/slim_307_weights_all'\n",
      "SLIMElasticNetRecommender: Saving complete\n"
     ]
    }
   ],
   "source": [
    "SLIM_all.save_model(\"result_experiments/SLIM/\", \"slim_307_weights_all\")"
   ]
  },
  {
   "cell_type": "code",
   "execution_count": 74,
   "id": "819c59c2-bb58-49e8-9333-97ecb74231d7",
   "metadata": {},
   "outputs": [
    {
     "name": "stdout",
     "output_type": "stream",
     "text": [
      "RP3betaRecommender: Saving model in file 'result_experiments/RP3beta/rp3_beta_12_weights_all'\n",
      "RP3betaRecommender: Saving complete\n"
     ]
    }
   ],
   "source": [
    "RP3_beta_all.save_model(\"result_experiments/RP3beta/\", \"rp3_beta_12_weights_all\")"
   ]
  },
  {
   "cell_type": "code",
   "execution_count": 75,
   "id": "9c6f51fa-6f5d-4aa5-8ab6-29a7d3f62736",
   "metadata": {},
   "outputs": [
    {
     "name": "stdout",
     "output_type": "stream",
     "text": [
      "ItemKNNCFRecommender: Saving model in file 'result_experiments/ItemKNNCFRecommender/knn_4_weights_all'\n",
      "ItemKNNCFRecommender: Saving complete\n"
     ]
    }
   ],
   "source": [
    "KNN_all.save_model(\"result_experiments/ItemKNNCFRecommender/\", \"knn_4_weights_all\")"
   ]
  },
  {
   "cell_type": "code",
   "execution_count": null,
   "id": "2673b20b-f984-405d-b078-a8e753718433",
   "metadata": {},
   "outputs": [],
   "source": []
  }
 ],
 "metadata": {
  "kernelspec": {
   "display_name": "RecSys",
   "language": "python",
   "name": "recsys"
  },
  "language_info": {
   "codemirror_mode": {
    "name": "ipython",
    "version": 3
   },
   "file_extension": ".py",
   "mimetype": "text/x-python",
   "name": "python",
   "nbconvert_exporter": "python",
   "pygments_lexer": "ipython3",
   "version": "3.12.7"
  }
 },
 "nbformat": 4,
 "nbformat_minor": 5
}
