{
 "cells": [
  {
   "cell_type": "code",
   "execution_count": 1,
   "id": "75566b91-23f5-4fdc-9ad9-c76a6b7383a3",
   "metadata": {},
   "outputs": [],
   "source": [
    "from pathlib import Path\n",
    "import sys  \n",
    "import os\n",
    "import pandas as pd \n",
    "from datetime import datetime\n",
    "import scipy.sparse as sps\n",
    "from numpy import linalg as LA\n",
    "\n",
    "import numpy as np\n",
    "from operator import itemgetter"
   ]
  },
  {
   "cell_type": "code",
   "execution_count": 2,
   "id": "80604c25-c0ce-4050-a55c-7ad4390f0502",
   "metadata": {},
   "outputs": [],
   "source": [
    "sys.path.append(os.path.abspath(os.path.join(os.getcwd(), \"..\", \"libs\")))\n",
    "sys.path.append(os.path.abspath(os.path.join(os.getcwd(), \"..\")))\n",
    "sys.path.append(os.path.abspath(os.path.join(os.getcwd(), \"..\", \"src\")))"
   ]
  },
  {
   "cell_type": "code",
   "execution_count": 3,
   "id": "70affe32-5cda-4979-b30a-7bd7f3c2147d",
   "metadata": {},
   "outputs": [],
   "source": [
    "%load_ext autoreload\n",
    "%autoreload 2"
   ]
  },
  {
   "cell_type": "code",
   "execution_count": 4,
   "id": "e1890247-aa8a-4586-8f67-b0e1c1abce17",
   "metadata": {},
   "outputs": [],
   "source": [
    "from Utils.load_URM import load_URM\n",
    "from Utils.load_ICM import load_ICM\n",
    "\n",
    "from scipy.sparse import hstack, vstack\n",
    "from Evaluation.Evaluator import EvaluatorHoldout\n",
    "from Data_manager.split_functions.split_train_validation_random_holdout import split_train_in_two_percentage_global_sample\n",
    "\n",
    "URM_all = load_URM(\"../data/data_train.csv\")\n",
    "ICM_all = load_ICM(\"../data/data_ICM_metadata.csv\")"
   ]
  },
  {
   "cell_type": "code",
   "execution_count": 5,
   "id": "afb5e122-ce25-45b9-b2d1-480a1894ac36",
   "metadata": {},
   "outputs": [],
   "source": [
    "from libs.Recommenders.SLIM.SLIMElasticNetRecommender import SLIMElasticNetRecommender \n",
    "from libs.Recommenders.GraphBased.RP3betaRecommender import RP3betaRecommender\n",
    "from libs.Recommenders.KNN.ItemKNNCFRecommender import ItemKNNCFRecommender\n",
    "from libs.Recommenders.KNN.ItemKNNCustomSimilarityRecommender import ItemKNNCustomSimilarityRecommender"
   ]
  },
  {
   "cell_type": "code",
   "execution_count": 6,
   "id": "c1cbc0a6-0415-4a01-96fa-236835067caf",
   "metadata": {},
   "outputs": [],
   "source": [
    "import optuna as op"
   ]
  },
  {
   "cell_type": "code",
   "execution_count": 7,
   "id": "a770d918-4de6-4163-906f-a9bf18a9551c",
   "metadata": {},
   "outputs": [
    {
     "name": "stdout",
     "output_type": "stream",
     "text": [
      "Warning: 527 (1.47 %) of 35736 users have no sampled items\n",
      "Warning: 1008 (2.82 %) of 35736 users have no sampled items\n"
     ]
    }
   ],
   "source": [
    "# URM_train = sps.load_npz('URM_train.npz')\n",
    "# URM_validation = sps.load_npz('URM_validation.npz')\n",
    "URM_train_validation, URM_test = split_train_in_two_percentage_global_sample(URM_all, train_percentage = 0.85)\n",
    "URM_train, URM_validation = split_train_in_two_percentage_global_sample(URM_train_validation, train_percentage = 0.85)"
   ]
  },
  {
   "cell_type": "code",
   "execution_count": 8,
   "id": "2c38d97a-e2b6-430e-b791-d89617d0ecbc",
   "metadata": {},
   "outputs": [
    {
     "name": "stdout",
     "output_type": "stream",
     "text": [
      "EvaluatorHoldout: Ignoring 1008 ( 2.8%) Users that have less than 1 test interactions\n",
      "EvaluatorHoldout: Ignoring 527 ( 1.5%) Users that have less than 1 test interactions\n"
     ]
    }
   ],
   "source": [
    "evaluator_validation = EvaluatorHoldout(URM_validation, cutoff_list=[10])\n",
    "evaluator_test = EvaluatorHoldout(URM_test, cutoff_list=[10])"
   ]
  },
  {
   "cell_type": "code",
   "execution_count": 9,
   "id": "fc2ba4ea-d74a-4711-b8bf-09be563412a0",
   "metadata": {},
   "outputs": [],
   "source": [
    "def AP(recommended_items, relevant_items):\n",
    "   \n",
    "    is_relevant = np.in1d(recommended_items, relevant_items, assume_unique=True)\n",
    "    \n",
    "    # Cumulative sum: precision at 1, at 2, at 3 ...\n",
    "    p_at_k = is_relevant * np.cumsum(is_relevant, dtype=np.float32) / (1 + np.arange(is_relevant.shape[0]))\n",
    "    ap_score = np.sum(p_at_k) / np.min([relevant_items.shape[0], is_relevant.shape[0]])\n",
    "\n",
    "    return ap_score"
   ]
  },
  {
   "cell_type": "code",
   "execution_count": 10,
   "id": "a0c58da2-f2a6-447d-9095-770323c42fdf",
   "metadata": {},
   "outputs": [],
   "source": [
    "# We pass as paramether the recommender class\n",
    "\n",
    "def evaluate_algorithm(URM_test, recommender_object, at=10):\n",
    "    \n",
    "    #cumulative_precision = 0.0\n",
    "    #cumulative_recall = 0.0\n",
    "    cumulative_AP = 0.0\n",
    "    \n",
    "    num_eval = 0\n",
    "\n",
    "\n",
    "    for user_id in range(URM_test.shape[0]):\n",
    "\n",
    "        relevant_items = URM_test.indices[URM_test.indptr[user_id]:URM_test.indptr[user_id+1]]\n",
    "        \n",
    "        if len(relevant_items)>0:\n",
    "            \n",
    "            recommended_items = recommender_object.recommend(user_id, cutoff=at)\n",
    "            num_eval+=1\n",
    "\n",
    "            #cumulative_precision += precision(recommended_items, relevant_items)\n",
    "            #cumulative_recall += recall(recommended_items, relevant_items)\n",
    "            cumulative_AP += AP(recommended_items, relevant_items)\n",
    "            \n",
    "    #cumulative_precision /= num_eval\n",
    "    #cumulative_recall /= num_eval\n",
    "    MAP = cumulative_AP / num_eval\n",
    "    \n",
    "    return MAP\n"
   ]
  },
  {
   "cell_type": "code",
   "execution_count": 11,
   "id": "fd60c2da-fb70-4d92-8f7f-cbdbcada2321",
   "metadata": {},
   "outputs": [
    {
     "name": "stdout",
     "output_type": "stream",
     "text": [
      "SLIMElasticNetRecommender: Processed 8931 (23.4%) in 5.00 min. Items per second: 29.76\n",
      "SLIMElasticNetRecommender: Processed 18026 (47.3%) in 10.00 min. Items per second: 30.04\n",
      "SLIMElasticNetRecommender: Processed 27272 (71.5%) in 15.00 min. Items per second: 30.30\n",
      "SLIMElasticNetRecommender: Processed 36640 (96.1%) in 20.00 min. Items per second: 30.53\n",
      "SLIMElasticNetRecommender: Processed 38121 (100.0%) in 20.85 min. Items per second: 30.47\n"
     ]
    }
   ],
   "source": [
    "slim_model_train = SLIMElasticNetRecommender(URM_train)\n",
    "slim_model_train.fit(l1_ratio=0.11006885790633625, alpha=0.0002551115306127753, topK = 307)\n",
    "\n",
    "#slim_model_train.load_model('result_experiments/SLIM/', 'slim_300_train_weights')\n",
    "# slim_model_all = SLIMElasticNetRecommender(URM_train)\n",
    "# slim_model_all.load_model('result_experiments/SLIM/', 'slim_300_2_weights')"
   ]
  },
  {
   "cell_type": "code",
   "execution_count": 12,
   "id": "d9a95f2a-119c-432a-b21e-504dbdc4a3ad",
   "metadata": {},
   "outputs": [
    {
     "name": "stdout",
     "output_type": "stream",
     "text": [
      "EvaluatorHoldout: Processed 34728 (100.0%) in 13.72 sec. Users per second: 2532\n"
     ]
    }
   ],
   "source": [
    "slim_train_res, _ = evaluator_validation.evaluateRecommender(slim_model_train)"
   ]
  },
  {
   "cell_type": "code",
   "execution_count": 13,
   "id": "784ca8c6-fdbe-4978-a5ca-c5fc943e461d",
   "metadata": {},
   "outputs": [
    {
     "data": {
      "text/plain": [
       "cutoff\n",
       "10    0.030621\n",
       "Name: MAP, dtype: object"
      ]
     },
     "execution_count": 13,
     "metadata": {},
     "output_type": "execute_result"
    }
   ],
   "source": [
    "slim_train_res[\"MAP\"]"
   ]
  },
  {
   "cell_type": "code",
   "execution_count": 14,
   "id": "69cce39f-86d3-4543-a892-1194b5d1f858",
   "metadata": {},
   "outputs": [
    {
     "data": {
      "text/plain": [
       "0.06297588460871925"
      ]
     },
     "execution_count": 14,
     "metadata": {},
     "output_type": "execute_result"
    }
   ],
   "source": [
    "evaluate_algorithm(URM_validation, slim_model_train)"
   ]
  },
  {
   "cell_type": "code",
   "execution_count": 15,
   "id": "27e021d3-ac4f-46d5-9345-7c31fd94f990",
   "metadata": {},
   "outputs": [
    {
     "name": "stdout",
     "output_type": "stream",
     "text": [
      "SLIMElasticNetRecommender: Processed 7900 (20.7%) in 5.00 min. Items per second: 26.33\n",
      "SLIMElasticNetRecommender: Processed 15817 (41.5%) in 10.00 min. Items per second: 26.36\n",
      "SLIMElasticNetRecommender: Processed 23548 (61.8%) in 15.00 min. Items per second: 26.16\n",
      "SLIMElasticNetRecommender: Processed 25736 (67.5%) in 20.00 min. Items per second: 21.44\n",
      "SLIMElasticNetRecommender: Processed 33919 (89.0%) in 25.00 min. Items per second: 22.61\n",
      "SLIMElasticNetRecommender: Processed 38121 (100.0%) in 27.65 min. Items per second: 22.98\n"
     ]
    }
   ],
   "source": [
    "slim_model_train_val = SLIMElasticNetRecommender(URM_train_validation)\n",
    "slim_model_train_val.fit(l1_ratio=0.11006885790633625, alpha=0.0002551115306127753, topK = 307)"
   ]
  },
  {
   "cell_type": "code",
   "execution_count": 16,
   "id": "a63ef2cd-2338-4ff2-98f1-d25e86c490f6",
   "metadata": {},
   "outputs": [
    {
     "name": "stdout",
     "output_type": "stream",
     "text": [
      "EvaluatorHoldout: Processed 35209 (100.0%) in 15.07 sec. Users per second: 2337\n"
     ]
    }
   ],
   "source": [
    "slim_train_val_res, _ = evaluator_test.evaluateRecommender(slim_model_train_val)"
   ]
  },
  {
   "cell_type": "code",
   "execution_count": 17,
   "id": "a671e066-688c-4271-ac91-91d1d7ca53ac",
   "metadata": {},
   "outputs": [
    {
     "data": {
      "text/plain": [
       "cutoff\n",
       "10    0.047714\n",
       "Name: MAP, dtype: object"
      ]
     },
     "execution_count": 17,
     "metadata": {},
     "output_type": "execute_result"
    }
   ],
   "source": [
    "slim_train_val_res[\"MAP\"]"
   ]
  },
  {
   "cell_type": "code",
   "execution_count": 18,
   "id": "1bbccc39-7b35-4d62-9823-76b7c715f2d8",
   "metadata": {},
   "outputs": [
    {
     "data": {
      "text/plain": [
       "0.08366541182230076"
      ]
     },
     "execution_count": 18,
     "metadata": {},
     "output_type": "execute_result"
    }
   ],
   "source": [
    "evaluate_algorithm(URM_test, slim_model_train_val)"
   ]
  },
  {
   "cell_type": "code",
   "execution_count": 19,
   "id": "1f174078-ecca-411f-9a40-44ab69c7470f",
   "metadata": {},
   "outputs": [
    {
     "name": "stdout",
     "output_type": "stream",
     "text": [
      "RP3betaRecommender: Similarity column 38121 (100.0%), 4374.34 column/sec. Elapsed time 8.71 sec\n",
      "RP3betaRecommender: Similarity column 38121 (100.0%), 3967.24 column/sec. Elapsed time 9.61 sec\n"
     ]
    }
   ],
   "source": [
    "rp3_beta_train = RP3betaRecommender(URM_train)\n",
    "rp3_beta_train.fit(alpha=0.34989902568351894, beta=0.1817338725671425, topK=12, min_rating=0.0, implicit=False, normalize_similarity=True)\n",
    "\n",
    "rp3_beta_train_val = RP3betaRecommender(URM_train_validation)\n",
    "rp3_beta_train_val.fit(alpha=0.34989902568351894, beta=0.1817338725671425, topK=12, min_rating=0.0, implicit=False, normalize_similarity=True)\n",
    "\n",
    "#rp3_beta_train.load_model('result_experiments/RP3beta/', 'rp3beta_10_train_weights')\n",
    "# rp3_beta_all = RP3betaRecommender(URM_train)\n",
    "# rp3_beta_all.load_model('result_experiments/RP3beta/', 'rp3beta_10_weights')"
   ]
  },
  {
   "cell_type": "code",
   "execution_count": 29,
   "id": "b5621d0e-d71c-4761-8e17-d3dede57fe8e",
   "metadata": {},
   "outputs": [
    {
     "data": {
      "text/plain": [
       "(0.05821489564907338, 0.07579670317181916)"
      ]
     },
     "execution_count": 29,
     "metadata": {},
     "output_type": "execute_result"
    }
   ],
   "source": [
    "evaluate_algorithm(URM_validation, rp3_beta_train), evaluate_algorithm(URM_test, rp3_beta_train_val)"
   ]
  },
  {
   "cell_type": "code",
   "execution_count": 22,
   "id": "ab3fa75f-ad1f-4373-85d7-32e81eb026b7",
   "metadata": {},
   "outputs": [
    {
     "name": "stdout",
     "output_type": "stream",
     "text": [
      "EvaluatorHoldout: Processed 34728 (100.0%) in 8.72 sec. Users per second: 3982\n",
      "EvaluatorHoldout: Processed 35209 (100.0%) in 8.99 sec. Users per second: 3915\n"
     ]
    }
   ],
   "source": [
    "rp3_beta_train_res, _ = evaluator_validation.evaluateRecommender(rp3_beta_train)\n",
    "rp3_beta_train_val_res, _ = evaluator_test.evaluateRecommender(rp3_beta_train_val)"
   ]
  },
  {
   "cell_type": "code",
   "execution_count": 23,
   "id": "5b73157c-4aa9-4b5f-9c5d-034906717215",
   "metadata": {},
   "outputs": [
    {
     "data": {
      "text/plain": [
       "(cutoff\n",
       " 10    0.028152\n",
       " Name: MAP, dtype: object,\n",
       " cutoff\n",
       " 10    0.042773\n",
       " Name: MAP, dtype: object)"
      ]
     },
     "execution_count": 23,
     "metadata": {},
     "output_type": "execute_result"
    }
   ],
   "source": [
    "rp3_beta_train_res[\"MAP\"], rp3_beta_train_val_res[\"MAP\"]"
   ]
  },
  {
   "cell_type": "code",
   "execution_count": 24,
   "id": "99bb2230-f24d-45de-bce6-6c85b8151c22",
   "metadata": {},
   "outputs": [
    {
     "data": {
      "text/plain": [
       "cutoff\n",
       "10    0.042773\n",
       "Name: MAP, dtype: object"
      ]
     },
     "execution_count": 24,
     "metadata": {},
     "output_type": "execute_result"
    }
   ],
   "source": [
    "rp3_beta_train_val_res[\"MAP\"]"
   ]
  },
  {
   "cell_type": "code",
   "execution_count": 25,
   "id": "4429a1e9-787c-4a1e-acaa-8902abc826a2",
   "metadata": {},
   "outputs": [],
   "source": [
    "ItemKNNCFRecommender_results = pd.read_csv(\"result_experiments/ItemKNNCFRecommender/results.csv\")"
   ]
  },
  {
   "cell_type": "code",
   "execution_count": 26,
   "id": "fc77c449-3992-47d9-a3f8-021ddb0553cb",
   "metadata": {
    "scrolled": true
   },
   "outputs": [
    {
     "data": {
      "text/html": [
       "<div>\n",
       "<style scoped>\n",
       "    .dataframe tbody tr th:only-of-type {\n",
       "        vertical-align: middle;\n",
       "    }\n",
       "\n",
       "    .dataframe tbody tr th {\n",
       "        vertical-align: top;\n",
       "    }\n",
       "\n",
       "    .dataframe thead th {\n",
       "        text-align: right;\n",
       "    }\n",
       "</style>\n",
       "<table border=\"1\" class=\"dataframe\">\n",
       "  <thead>\n",
       "    <tr style=\"text-align: right;\">\n",
       "      <th></th>\n",
       "      <th>similarity</th>\n",
       "      <th>topK</th>\n",
       "      <th>shrink</th>\n",
       "      <th>normalize</th>\n",
       "      <th>time</th>\n",
       "      <th>cutoff</th>\n",
       "      <th>PRECISION</th>\n",
       "      <th>PRECISION_RECALL_MIN_DEN</th>\n",
       "      <th>RECALL</th>\n",
       "      <th>MAP</th>\n",
       "      <th>MAP_MIN_DEN</th>\n",
       "      <th>MRR</th>\n",
       "      <th>NDCG</th>\n",
       "      <th>F1</th>\n",
       "      <th>HIT_RATE</th>\n",
       "    </tr>\n",
       "  </thead>\n",
       "  <tbody>\n",
       "    <tr>\n",
       "      <th>1388</th>\n",
       "      <td>jaccard</td>\n",
       "      <td>5</td>\n",
       "      <td>12</td>\n",
       "      <td>False</td>\n",
       "      <td>2024-12-05 05:49:14</td>\n",
       "      <td>10</td>\n",
       "      <td>0.097692</td>\n",
       "      <td>0.146128</td>\n",
       "      <td>0.124175</td>\n",
       "      <td>0.051709</td>\n",
       "      <td>0.075515</td>\n",
       "      <td>0.273210</td>\n",
       "      <td>0.142178</td>\n",
       "      <td>0.109353</td>\n",
       "      <td>0.522025</td>\n",
       "    </tr>\n",
       "    <tr>\n",
       "      <th>1387</th>\n",
       "      <td>jaccard</td>\n",
       "      <td>5</td>\n",
       "      <td>12</td>\n",
       "      <td>True</td>\n",
       "      <td>2024-12-05 05:48:58</td>\n",
       "      <td>10</td>\n",
       "      <td>0.097692</td>\n",
       "      <td>0.146128</td>\n",
       "      <td>0.124175</td>\n",
       "      <td>0.051709</td>\n",
       "      <td>0.075515</td>\n",
       "      <td>0.273210</td>\n",
       "      <td>0.142178</td>\n",
       "      <td>0.109353</td>\n",
       "      <td>0.522025</td>\n",
       "    </tr>\n",
       "    <tr>\n",
       "      <th>2072</th>\n",
       "      <td>tanimoto</td>\n",
       "      <td>5</td>\n",
       "      <td>12</td>\n",
       "      <td>False</td>\n",
       "      <td>2024-12-05 10:34:02</td>\n",
       "      <td>10</td>\n",
       "      <td>0.097692</td>\n",
       "      <td>0.146128</td>\n",
       "      <td>0.124175</td>\n",
       "      <td>0.051709</td>\n",
       "      <td>0.075515</td>\n",
       "      <td>0.273210</td>\n",
       "      <td>0.142178</td>\n",
       "      <td>0.109353</td>\n",
       "      <td>0.522025</td>\n",
       "    </tr>\n",
       "    <tr>\n",
       "      <th>2071</th>\n",
       "      <td>tanimoto</td>\n",
       "      <td>5</td>\n",
       "      <td>12</td>\n",
       "      <td>True</td>\n",
       "      <td>2024-12-05 10:33:46</td>\n",
       "      <td>10</td>\n",
       "      <td>0.097692</td>\n",
       "      <td>0.146128</td>\n",
       "      <td>0.124175</td>\n",
       "      <td>0.051709</td>\n",
       "      <td>0.075515</td>\n",
       "      <td>0.273210</td>\n",
       "      <td>0.142178</td>\n",
       "      <td>0.109353</td>\n",
       "      <td>0.522025</td>\n",
       "    </tr>\n",
       "    <tr>\n",
       "      <th>1392</th>\n",
       "      <td>jaccard</td>\n",
       "      <td>5</td>\n",
       "      <td>14</td>\n",
       "      <td>False</td>\n",
       "      <td>2024-12-05 05:50:18</td>\n",
       "      <td>10</td>\n",
       "      <td>0.097816</td>\n",
       "      <td>0.146319</td>\n",
       "      <td>0.124356</td>\n",
       "      <td>0.051682</td>\n",
       "      <td>0.075437</td>\n",
       "      <td>0.272863</td>\n",
       "      <td>0.142174</td>\n",
       "      <td>0.109501</td>\n",
       "      <td>0.522391</td>\n",
       "    </tr>\n",
       "    <tr>\n",
       "      <th>...</th>\n",
       "      <td>...</td>\n",
       "      <td>...</td>\n",
       "      <td>...</td>\n",
       "      <td>...</td>\n",
       "      <td>...</td>\n",
       "      <td>...</td>\n",
       "      <td>...</td>\n",
       "      <td>...</td>\n",
       "      <td>...</td>\n",
       "      <td>...</td>\n",
       "      <td>...</td>\n",
       "      <td>...</td>\n",
       "      <td>...</td>\n",
       "      <td>...</td>\n",
       "      <td>...</td>\n",
       "    </tr>\n",
       "    <tr>\n",
       "      <th>915</th>\n",
       "      <td>pearson</td>\n",
       "      <td>11</td>\n",
       "      <td>0</td>\n",
       "      <td>True</td>\n",
       "      <td>2024-12-05 03:53:43</td>\n",
       "      <td>10</td>\n",
       "      <td>0.000793</td>\n",
       "      <td>0.001144</td>\n",
       "      <td>0.000934</td>\n",
       "      <td>0.000252</td>\n",
       "      <td>0.000371</td>\n",
       "      <td>0.002408</td>\n",
       "      <td>0.001007</td>\n",
       "      <td>0.000858</td>\n",
       "      <td>0.007590</td>\n",
       "    </tr>\n",
       "    <tr>\n",
       "      <th>916</th>\n",
       "      <td>pearson</td>\n",
       "      <td>11</td>\n",
       "      <td>0</td>\n",
       "      <td>False</td>\n",
       "      <td>2024-12-05 03:53:57</td>\n",
       "      <td>10</td>\n",
       "      <td>0.000793</td>\n",
       "      <td>0.001144</td>\n",
       "      <td>0.000934</td>\n",
       "      <td>0.000252</td>\n",
       "      <td>0.000371</td>\n",
       "      <td>0.002408</td>\n",
       "      <td>0.001007</td>\n",
       "      <td>0.000858</td>\n",
       "      <td>0.007590</td>\n",
       "    </tr>\n",
       "    <tr>\n",
       "      <th>917</th>\n",
       "      <td>pearson</td>\n",
       "      <td>11</td>\n",
       "      <td>5</td>\n",
       "      <td>True</td>\n",
       "      <td>2024-12-05 03:54:11</td>\n",
       "      <td>10</td>\n",
       "      <td>0.000793</td>\n",
       "      <td>0.001144</td>\n",
       "      <td>0.000934</td>\n",
       "      <td>0.000252</td>\n",
       "      <td>0.000371</td>\n",
       "      <td>0.002408</td>\n",
       "      <td>0.001007</td>\n",
       "      <td>0.000858</td>\n",
       "      <td>0.007590</td>\n",
       "    </tr>\n",
       "    <tr>\n",
       "      <th>918</th>\n",
       "      <td>pearson</td>\n",
       "      <td>11</td>\n",
       "      <td>5</td>\n",
       "      <td>False</td>\n",
       "      <td>2024-12-05 03:54:26</td>\n",
       "      <td>10</td>\n",
       "      <td>0.000793</td>\n",
       "      <td>0.001144</td>\n",
       "      <td>0.000934</td>\n",
       "      <td>0.000252</td>\n",
       "      <td>0.000371</td>\n",
       "      <td>0.002408</td>\n",
       "      <td>0.001007</td>\n",
       "      <td>0.000858</td>\n",
       "      <td>0.007590</td>\n",
       "    </tr>\n",
       "    <tr>\n",
       "      <th>3422</th>\n",
       "      <td>adjusted</td>\n",
       "      <td>100</td>\n",
       "      <td>100</td>\n",
       "      <td>False</td>\n",
       "      <td>2024-12-05 17:12:49</td>\n",
       "      <td>10</td>\n",
       "      <td>0.000793</td>\n",
       "      <td>0.001144</td>\n",
       "      <td>0.000934</td>\n",
       "      <td>0.000252</td>\n",
       "      <td>0.000371</td>\n",
       "      <td>0.002408</td>\n",
       "      <td>0.001007</td>\n",
       "      <td>0.000858</td>\n",
       "      <td>0.007590</td>\n",
       "    </tr>\n",
       "  </tbody>\n",
       "</table>\n",
       "<p>3423 rows × 15 columns</p>\n",
       "</div>"
      ],
      "text/plain": [
       "     similarity  topK  shrink  normalize                 time  cutoff  \\\n",
       "1388    jaccard     5      12      False  2024-12-05 05:49:14      10   \n",
       "1387    jaccard     5      12       True  2024-12-05 05:48:58      10   \n",
       "2072   tanimoto     5      12      False  2024-12-05 10:34:02      10   \n",
       "2071   tanimoto     5      12       True  2024-12-05 10:33:46      10   \n",
       "1392    jaccard     5      14      False  2024-12-05 05:50:18      10   \n",
       "...         ...   ...     ...        ...                  ...     ...   \n",
       "915     pearson    11       0       True  2024-12-05 03:53:43      10   \n",
       "916     pearson    11       0      False  2024-12-05 03:53:57      10   \n",
       "917     pearson    11       5       True  2024-12-05 03:54:11      10   \n",
       "918     pearson    11       5      False  2024-12-05 03:54:26      10   \n",
       "3422   adjusted   100     100      False  2024-12-05 17:12:49      10   \n",
       "\n",
       "      PRECISION  PRECISION_RECALL_MIN_DEN    RECALL       MAP  MAP_MIN_DEN  \\\n",
       "1388   0.097692                  0.146128  0.124175  0.051709     0.075515   \n",
       "1387   0.097692                  0.146128  0.124175  0.051709     0.075515   \n",
       "2072   0.097692                  0.146128  0.124175  0.051709     0.075515   \n",
       "2071   0.097692                  0.146128  0.124175  0.051709     0.075515   \n",
       "1392   0.097816                  0.146319  0.124356  0.051682     0.075437   \n",
       "...         ...                       ...       ...       ...          ...   \n",
       "915    0.000793                  0.001144  0.000934  0.000252     0.000371   \n",
       "916    0.000793                  0.001144  0.000934  0.000252     0.000371   \n",
       "917    0.000793                  0.001144  0.000934  0.000252     0.000371   \n",
       "918    0.000793                  0.001144  0.000934  0.000252     0.000371   \n",
       "3422   0.000793                  0.001144  0.000934  0.000252     0.000371   \n",
       "\n",
       "           MRR      NDCG        F1  HIT_RATE  \n",
       "1388  0.273210  0.142178  0.109353  0.522025  \n",
       "1387  0.273210  0.142178  0.109353  0.522025  \n",
       "2072  0.273210  0.142178  0.109353  0.522025  \n",
       "2071  0.273210  0.142178  0.109353  0.522025  \n",
       "1392  0.272863  0.142174  0.109501  0.522391  \n",
       "...        ...       ...       ...       ...  \n",
       "915   0.002408  0.001007  0.000858  0.007590  \n",
       "916   0.002408  0.001007  0.000858  0.007590  \n",
       "917   0.002408  0.001007  0.000858  0.007590  \n",
       "918   0.002408  0.001007  0.000858  0.007590  \n",
       "3422  0.002408  0.001007  0.000858  0.007590  \n",
       "\n",
       "[3423 rows x 15 columns]"
      ]
     },
     "execution_count": 26,
     "metadata": {},
     "output_type": "execute_result"
    }
   ],
   "source": [
    "ItemKNNCFRecommender_results.sort_values('MAP', ascending=False).iloc[:, : 15]"
   ]
  },
  {
   "cell_type": "code",
   "execution_count": 42,
   "id": "f456dd00-6e21-46c8-9b7d-3e7f26f6cb35",
   "metadata": {},
   "outputs": [
    {
     "name": "stdout",
     "output_type": "stream",
     "text": [
      "Similarity column 38121 (100.0%), 5021.78 column/sec. Elapsed time 7.59 sec\n",
      "Similarity column 38121 (100.0%), 4593.81 column/sec. Elapsed time 8.30 sec\n"
     ]
    }
   ],
   "source": [
    "# similarity='jaccard', topK=5, shrink=12, normalize=False\n",
    "\n",
    "knn_train = ItemKNNCFRecommender(URM_train)\n",
    "knn_train.fit(similarity='tversky', topK=4, shrink=18,\n",
    "                  feature_weighting='none', tversky_alpha=0.1263621,\n",
    "                  tversky_beta=1.72181042,\n",
    "                  normalize=False)\n",
    "\n",
    "knn_train_val = ItemKNNCFRecommender(URM_train_validation)\n",
    "knn_train_val.fit(similarity='tversky', topK=4, shrink=18,\n",
    "                  feature_weighting='none', tversky_alpha=0.1263621,\n",
    "                  tversky_beta=1.72181042,\n",
    "                  normalize=False)\n",
    "\n",
    "\n",
    "# ItemKNNCF_train = ItemKNNCFRecommender(URM_train)\n",
    "# ItemKNNCF_train.load_model(\"result_experiments/ItemKNNCFRecommender/\", \"ItemKNNCF_5_train_weights\")"
   ]
  },
  {
   "cell_type": "code",
   "execution_count": 43,
   "id": "5bb55a26-dc2c-47fa-95b0-080009b55fb4",
   "metadata": {},
   "outputs": [
    {
     "data": {
      "text/plain": [
       "(0.057754182629180306, 0.07549006255404529)"
      ]
     },
     "execution_count": 43,
     "metadata": {},
     "output_type": "execute_result"
    }
   ],
   "source": [
    "evaluate_algorithm(URM_validation, knn_train), evaluate_algorithm(URM_test, knn_train_val)"
   ]
  },
  {
   "cell_type": "code",
   "execution_count": null,
   "id": "91bcdb2d-b03d-4512-9d01-8034ef55f52e",
   "metadata": {},
   "outputs": [],
   "source": []
  },
  {
   "cell_type": "code",
   "execution_count": 44,
   "id": "78e97b86-5dc0-45c0-a862-9ab540f04994",
   "metadata": {},
   "outputs": [
    {
     "name": "stdout",
     "output_type": "stream",
     "text": [
      "EvaluatorHoldout: Processed 34728 (100.0%) in 8.80 sec. Users per second: 3948\n",
      "EvaluatorHoldout: Processed 35209 (100.0%) in 8.79 sec. Users per second: 4006\n"
     ]
    }
   ],
   "source": [
    "knn_train_res, _ = evaluator_validation.evaluateRecommender(knn_train)\n",
    "knn_train_val_res, _ = evaluator_test.evaluateRecommender(knn_train_val)"
   ]
  },
  {
   "cell_type": "code",
   "execution_count": 45,
   "id": "62b6e56a-ac98-42c0-a7be-8ddb51593dc0",
   "metadata": {},
   "outputs": [
    {
     "data": {
      "text/plain": [
       "(cutoff\n",
       " 10    0.027949\n",
       " Name: MAP, dtype: object,\n",
       " cutoff\n",
       " 10    0.042742\n",
       " Name: MAP, dtype: object)"
      ]
     },
     "execution_count": 45,
     "metadata": {},
     "output_type": "execute_result"
    }
   ],
   "source": [
    "knn_train_res[\"MAP\"], knn_train_val_res[\"MAP\"]"
   ]
  },
  {
   "cell_type": "code",
   "execution_count": null,
   "id": "6fa4897e-dfda-4790-bb01-f23f0e779ec0",
   "metadata": {},
   "outputs": [],
   "source": []
  },
  {
   "cell_type": "markdown",
   "id": "021f7fc2-5d55-4c4c-b061-5033b6a38500",
   "metadata": {},
   "source": [
    "# Optuna"
   ]
  },
  {
   "cell_type": "code",
   "execution_count": 46,
   "id": "d65b69fd-3332-4451-acd2-ac20184407f8",
   "metadata": {},
   "outputs": [],
   "source": [
    "results_dict={\n",
    "    'Iteration':[],\n",
    "    'SLIM_w':[],\n",
    "    'RP3b_w':[],\n",
    "    'ItemKNN_w':[],\n",
    "    'MAP_val':[],\n",
    "    'MAP_test':[],\n",
    "}"
   ]
  },
  {
   "cell_type": "code",
   "execution_count": 47,
   "id": "b4a93ed4-6da1-45cf-b714-5af4d33174d5",
   "metadata": {},
   "outputs": [],
   "source": [
    "new_best_on_test={\n",
    "    'SLIM_w':0,\n",
    "    'RP3b_w':0,\n",
    "    'ItemKNN_w':0,\n",
    "    'MAP_test':0\n",
    "}"
   ]
  },
  {
   "cell_type": "code",
   "execution_count": 48,
   "id": "8087e497-1e8e-4516-87a3-29b39e9631e7",
   "metadata": {},
   "outputs": [],
   "source": [
    "improving_treshold=0.85 "
   ]
  },
  {
   "cell_type": "code",
   "execution_count": 49,
   "id": "fb05b902-540d-4a95-9704-288337553aec",
   "metadata": {},
   "outputs": [],
   "source": [
    "import optuna as op\n",
    "\n",
    "best_on_val = 0.03\n",
    "\n",
    "def objective_function_weight_hybrid(trial):\n",
    "    results_dict['Iteration'].append(trial.number)\n",
    "    n = 3\n",
    "    x = []\n",
    "    for i in range(n):\n",
    "        x.append(- np.log(trial.suggest_float(f\"x_{i}\", 0, 1)))\n",
    "    weights = []\n",
    "    for i in range(n):\n",
    "        weights.append(x[i] / sum(x))\n",
    "        if i==0:\n",
    "            key='SLIM_w'\n",
    "        elif i==1:\n",
    "            key='RP3b_w'\n",
    "        else:\n",
    "            key='ItemKNN_w'\n",
    "        results_dict[key].append(weights[i])\n",
    "\n",
    "    for i in range(n):\n",
    "        trial.set_user_attr(f\"weights_{i}\",weights[i])\n",
    "        \n",
    "    #PRINT WEIGHTS CHOSEN ###################################################\n",
    "    print(\"__________Iteration \" + str(trial.number) + \"______________\")\n",
    "    print(\"SLIM weight: \"+str(weights[0]))\n",
    "    print(\"RP3b weight: \"+str(weights[1]))\n",
    "    print(\"ItemKNN weight: \"+str(weights[2]))##\n",
    "    \n",
    "    #BUILD HYBRID ###########################################################\n",
    "    new_similarity_train = weights[0] * slim_model_train.W_sparse + weights[1] * rp3_beta_train.W_sparse + weights[2] * knn_train.W_sparse\n",
    "    recommender_object_train = ItemKNNCustomSimilarityRecommender(URM_train)\n",
    "    recommender_object_train.fit(new_similarity_train)\n",
    "    res_on_val, _ = evaluator_validation.evaluateRecommender(recommender_object_train)\n",
    "    results_dict['MAP_val'].append(res_on_val['MAP'][10])\n",
    "\n",
    "    #print(\"VAL\", res_on_val['MAP'][10], best_on_val * improving_treshold)\n",
    "    if res_on_val['MAP'][10] >= best_on_val * improving_treshold:\n",
    "        new_similarity_train_val = weights[0] * slim_model_train_val.W_sparse + weights[1] * rp3_beta_train_val.W_sparse + weights[2] * knn_train_val.W_sparse\n",
    "        recommender_object_train_val = ItemKNNCustomSimilarityRecommender(URM_train_validation)\n",
    "        recommender_object_train_val.fit(new_similarity_train_val)\n",
    "        res_on_test, _ = evaluator_test.evaluateRecommender(recommender_object_train_val)\n",
    "        results_dict['MAP_test'].append(res_on_test[\"MAP\"][10])\n",
    "\n",
    "        #print(\"Test\", res_on_test[\"MAP\"][10], new_best_on_test['MAP_test'])\n",
    "        if res_on_test[\"MAP\"][10] > new_best_on_test['MAP_test']:\n",
    "            new_best_on_test['SLIM_w']=weights[0]\n",
    "            new_best_on_test['RP3b_w']=weights[1]\n",
    "            new_best_on_test['ItemKNN_w']=weights[2]\n",
    "            new_best_on_test['MAP_test']=res_on_test[\"MAP\"][10]\n",
    "            print(\"New best on test found! Score is \"+ str(res_on_test[\"MAP\"][10]))\n",
    "            print(f\"weights: SLIM_w: {weights[0]}, RP3b_w: {weights[1]}, ItemKNN_w: {weights[2]}\")\n",
    "            \n",
    "        \n",
    "        \n",
    "    else:\n",
    "         results_dict['MAP_test'].append(0.0)\n",
    "    return res_on_val['MAP'][10]"
   ]
  },
  {
   "cell_type": "code",
   "execution_count": null,
   "id": "26e62f82-f6af-48a9-816b-a22ff6bb722f",
   "metadata": {
    "scrolled": true
   },
   "outputs": [],
   "source": [
    "# study = op.create_study(direction=\"maximize\")\n",
    "study.optimize(objective_function_weight_hybrid,\n",
    "                      callbacks=[],\n",
    "                      n_trials = 400)"
   ]
  },
  {
   "cell_type": "code",
   "execution_count": 59,
   "id": "93a1c6fe-c9f5-471c-adfc-c7d8c86e44c6",
   "metadata": {},
   "outputs": [
    {
     "data": {
      "text/plain": [
       "{'SLIM_w': 0.8672976014690289,\n",
       " 'RP3b_w': 0.10507625421076075,\n",
       " 'ItemKNN_w': 0.027626144320210273,\n",
       " 'MAP_test': 0.04792289534556976}"
      ]
     },
     "execution_count": 59,
     "metadata": {},
     "output_type": "execute_result"
    }
   ],
   "source": [
    "new_best_on_test"
   ]
  },
  {
   "cell_type": "code",
   "execution_count": 52,
   "id": "c6479d9d-02db-4dc6-93e9-e49ce6757133",
   "metadata": {},
   "outputs": [
    {
     "name": "stdout",
     "output_type": "stream",
     "text": [
      "SLIMElasticNetRecommender: Saving model in file 'result_experiments/SLIM/slim_307_train_ensSLIMElasticNetRecommender'\n",
      "SLIMElasticNetRecommender: Saving complete\n",
      "SLIMElasticNetRecommender: Saving model in file 'result_experiments/SLIM/slim_307_train_val_ensSLIMElasticNetRecommender'\n",
      "SLIMElasticNetRecommender: Saving complete\n"
     ]
    }
   ],
   "source": [
    "# slim_model_train.save_model(\"result_experiments/SLIM/slim_307_train_ens\")\n",
    "# slim_model_train_val.save_model(\"result_experiments/SLIM/slim_307_train_val_ens\")"
   ]
  },
  {
   "cell_type": "code",
   "execution_count": 53,
   "id": "429adbc0-527c-43ba-867a-89a4930c65e1",
   "metadata": {},
   "outputs": [
    {
     "name": "stdout",
     "output_type": "stream",
     "text": [
      "ItemKNNCFRecommender: Saving model in file 'result_experiments/ItemKNNCFRecommender/knn_train_ensItemKNNCFRecommender'\n",
      "ItemKNNCFRecommender: Saving complete\n",
      "ItemKNNCFRecommender: Saving model in file 'result_experiments/ItemKNNCFRecommender/knn_train_val_ensItemKNNCFRecommender'\n",
      "ItemKNNCFRecommender: Saving complete\n"
     ]
    }
   ],
   "source": [
    "# knn_train.save_model(\"result_experiments/ItemKNNCFRecommender/knn_train_ens\")\n",
    "# knn_train_val.save_model(\"result_experiments/ItemKNNCFRecommender/knn_train_val_ens\")"
   ]
  },
  {
   "cell_type": "code",
   "execution_count": 55,
   "id": "f8bfa83f-b9a8-49f4-be8c-6aaf6c2b3b31",
   "metadata": {},
   "outputs": [
    {
     "name": "stdout",
     "output_type": "stream",
     "text": [
      "RP3betaRecommender: Saving model in file 'result_experiments/RP3beta/rp3beta_train_ensRP3betaRecommender'\n",
      "RP3betaRecommender: Saving complete\n",
      "RP3betaRecommender: Saving model in file 'result_experiments/RP3beta/rp3beta_train_val_ensRP3betaRecommender'\n",
      "RP3betaRecommender: Saving complete\n"
     ]
    }
   ],
   "source": [
    "# rp3_beta_train.save_model(\"result_experiments/RP3beta/rp3beta_train_ens\")\n",
    "# rp3_beta_train_val.save_model(\"result_experiments/RP3beta/rp3beta_train_val_ens\")"
   ]
  },
  {
   "cell_type": "code",
   "execution_count": 57,
   "id": "b6bb27ce-d4d6-42f2-b8e3-dece5b8685e5",
   "metadata": {},
   "outputs": [],
   "source": [
    "# results_df=pd.DataFrame(results_dict)\n",
    "# results_df.to_csv(\"result_experiments/ensemble_SLIM_RP3_KNNCFR/results_prof_eval_11_12_24.csv\",sep=',',index=False)"
   ]
  },
  {
   "cell_type": "code",
   "execution_count": 63,
   "id": "b7aa5fd3-e728-4431-a050-8022729a7d15",
   "metadata": {},
   "outputs": [],
   "source": [
    "# sps.save_npz('URM_train_ens.npz', URM_train)\n",
    "# sps.save_npz('URM_train_val_ens.npz', URM_train_validation)\n",
    "# sps.save_npz('URM_test_ens.npz', URM_test)"
   ]
  },
  {
   "cell_type": "code",
   "execution_count": 58,
   "id": "bc153cd5-3f93-4d9e-951d-d85b360c5a8f",
   "metadata": {},
   "outputs": [
    {
     "name": "stdout",
     "output_type": "stream",
     "text": [
      "0.8672976014690289\n",
      "0.10507625421076075\n",
      "0.027626144320210273\n"
     ]
    }
   ],
   "source": [
    "print(new_best_on_test['SLIM_w'])\n",
    "print(new_best_on_test['RP3b_w'])\n",
    "print(new_best_on_test['ItemKNN_w'])"
   ]
  },
  {
   "cell_type": "code",
   "execution_count": 70,
   "id": "9265f793-ab18-404f-bd8a-f464a04958ee",
   "metadata": {},
   "outputs": [
    {
     "data": {
      "text/html": [
       "<div>\n",
       "<style scoped>\n",
       "    .dataframe tbody tr th:only-of-type {\n",
       "        vertical-align: middle;\n",
       "    }\n",
       "\n",
       "    .dataframe tbody tr th {\n",
       "        vertical-align: top;\n",
       "    }\n",
       "\n",
       "    .dataframe thead th {\n",
       "        text-align: right;\n",
       "    }\n",
       "</style>\n",
       "<table border=\"1\" class=\"dataframe\">\n",
       "  <thead>\n",
       "    <tr style=\"text-align: right;\">\n",
       "      <th></th>\n",
       "      <th>Iteration</th>\n",
       "      <th>SLIM_w</th>\n",
       "      <th>RP3b_w</th>\n",
       "      <th>ItemKNN_w</th>\n",
       "      <th>MAP_val</th>\n",
       "      <th>MAP_test</th>\n",
       "    </tr>\n",
       "  </thead>\n",
       "  <tbody>\n",
       "    <tr>\n",
       "      <th>267</th>\n",
       "      <td>267</td>\n",
       "      <td>0.000138</td>\n",
       "      <td>0.999847</td>\n",
       "      <td>0.000015</td>\n",
       "      <td>0.128963</td>\n",
       "      <td>0.0</td>\n",
       "    </tr>\n",
       "    <tr>\n",
       "      <th>257</th>\n",
       "      <td>257</td>\n",
       "      <td>0.000048</td>\n",
       "      <td>0.999820</td>\n",
       "      <td>0.000133</td>\n",
       "      <td>0.128963</td>\n",
       "      <td>0.0</td>\n",
       "    </tr>\n",
       "    <tr>\n",
       "      <th>297</th>\n",
       "      <td>297</td>\n",
       "      <td>0.000019</td>\n",
       "      <td>0.999837</td>\n",
       "      <td>0.000144</td>\n",
       "      <td>0.128961</td>\n",
       "      <td>0.0</td>\n",
       "    </tr>\n",
       "    <tr>\n",
       "      <th>260</th>\n",
       "      <td>260</td>\n",
       "      <td>0.000519</td>\n",
       "      <td>0.999391</td>\n",
       "      <td>0.000089</td>\n",
       "      <td>0.128960</td>\n",
       "      <td>0.0</td>\n",
       "    </tr>\n",
       "    <tr>\n",
       "      <th>253</th>\n",
       "      <td>253</td>\n",
       "      <td>0.000198</td>\n",
       "      <td>0.999592</td>\n",
       "      <td>0.000210</td>\n",
       "      <td>0.128958</td>\n",
       "      <td>0.0</td>\n",
       "    </tr>\n",
       "    <tr>\n",
       "      <th>...</th>\n",
       "      <td>...</td>\n",
       "      <td>...</td>\n",
       "      <td>...</td>\n",
       "      <td>...</td>\n",
       "      <td>...</td>\n",
       "      <td>...</td>\n",
       "    </tr>\n",
       "    <tr>\n",
       "      <th>9</th>\n",
       "      <td>9</td>\n",
       "      <td>0.415903</td>\n",
       "      <td>0.133992</td>\n",
       "      <td>0.450105</td>\n",
       "      <td>0.089874</td>\n",
       "      <td>0.0</td>\n",
       "    </tr>\n",
       "    <tr>\n",
       "      <th>1</th>\n",
       "      <td>1</td>\n",
       "      <td>0.752678</td>\n",
       "      <td>0.061503</td>\n",
       "      <td>0.185818</td>\n",
       "      <td>0.089587</td>\n",
       "      <td>0.0</td>\n",
       "    </tr>\n",
       "    <tr>\n",
       "      <th>237</th>\n",
       "      <td>237</td>\n",
       "      <td>0.052045</td>\n",
       "      <td>0.195269</td>\n",
       "      <td>0.752685</td>\n",
       "      <td>0.086758</td>\n",
       "      <td>0.0</td>\n",
       "    </tr>\n",
       "    <tr>\n",
       "      <th>30</th>\n",
       "      <td>30</td>\n",
       "      <td>0.013971</td>\n",
       "      <td>0.168956</td>\n",
       "      <td>0.817073</td>\n",
       "      <td>0.084429</td>\n",
       "      <td>0.0</td>\n",
       "    </tr>\n",
       "    <tr>\n",
       "      <th>90</th>\n",
       "      <td>90</td>\n",
       "      <td>0.058501</td>\n",
       "      <td>0.028829</td>\n",
       "      <td>0.912670</td>\n",
       "      <td>0.077466</td>\n",
       "      <td>0.0</td>\n",
       "    </tr>\n",
       "  </tbody>\n",
       "</table>\n",
       "<p>300 rows × 6 columns</p>\n",
       "</div>"
      ],
      "text/plain": [
       "     Iteration    SLIM_w    RP3b_w  ItemKNN_w   MAP_val  MAP_test\n",
       "267        267  0.000138  0.999847   0.000015  0.128963       0.0\n",
       "257        257  0.000048  0.999820   0.000133  0.128963       0.0\n",
       "297        297  0.000019  0.999837   0.000144  0.128961       0.0\n",
       "260        260  0.000519  0.999391   0.000089  0.128960       0.0\n",
       "253        253  0.000198  0.999592   0.000210  0.128958       0.0\n",
       "..         ...       ...       ...        ...       ...       ...\n",
       "9            9  0.415903  0.133992   0.450105  0.089874       0.0\n",
       "1            1  0.752678  0.061503   0.185818  0.089587       0.0\n",
       "237        237  0.052045  0.195269   0.752685  0.086758       0.0\n",
       "30          30  0.013971  0.168956   0.817073  0.084429       0.0\n",
       "90          90  0.058501  0.028829   0.912670  0.077466       0.0\n",
       "\n",
       "[300 rows x 6 columns]"
      ]
     },
     "execution_count": 70,
     "metadata": {},
     "output_type": "execute_result"
    }
   ],
   "source": [
    "results_df.sort_values('MAP_val', ascending=False)"
   ]
  },
  {
   "cell_type": "code",
   "execution_count": 70,
   "id": "824e0286-8c8d-4398-8705-373def87a948",
   "metadata": {},
   "outputs": [],
   "source": [
    "def write_submission_lib_model(trained_model, filename: str = \"submission.csv\") -> None:\n",
    "\t\"\"\"Builds the submission file from a trained recommender model. The file is saved in a CSV format.\n",
    "\n",
    "\t:param trained_model: A fitted recommender model\n",
    "\t:type trained_model: RecommenderModel\n",
    "\t:param filename: The filename of the submission for this particular recommender model\n",
    "\t:type filename: str\n",
    "\t\"\"\"\n",
    "\ttarget_users_test = pd.read_csv(\"../data/data_target_users_test.csv\",).to_numpy().ravel()\n",
    "\n",
    "\trecommendations = np.array([\n",
    "\t\ttrained_model.recommend(user_id, cutoff=10) for user_id in target_users_test\n",
    "\t])\n",
    "\n",
    "\tif not os.path.exists(\"../submissions\"):\n",
    "\t\tos.makedirs(\"../submissions\")\n",
    "\twith open(f\"../submissions/{filename}\", \"w\") as f:\n",
    "\t\tf.write(\"user_id,item_list\\n\")\n",
    "\t\tfor user_id, recs in zip(target_users_test, recommendations):\n",
    "\t\t\tf.write(f\"{user_id},{' '.join(map(str, recs))}\\n\")"
   ]
  },
  {
   "cell_type": "code",
   "execution_count": 65,
   "id": "1a3751d2-d8d0-4cc8-89a5-1da0b673f514",
   "metadata": {},
   "outputs": [
    {
     "name": "stdout",
     "output_type": "stream",
     "text": [
      "SLIMElasticNetRecommender: Processed 7098 (18.6%) in 5.00 min. Items per second: 23.66\n",
      "SLIMElasticNetRecommender: Processed 14067 (36.9%) in 10.00 min. Items per second: 23.44\n",
      "SLIMElasticNetRecommender: Processed 21113 (55.4%) in 15.00 min. Items per second: 23.46\n",
      "SLIMElasticNetRecommender: Processed 28084 (73.7%) in 20.00 min. Items per second: 23.40\n",
      "SLIMElasticNetRecommender: Processed 35160 (92.2%) in 25.00 min. Items per second: 23.44\n",
      "SLIMElasticNetRecommender: Processed 38121 (100.0%) in 27.20 min. Items per second: 23.36\n"
     ]
    }
   ],
   "source": [
    "SLIM_all = SLIMElasticNetRecommender(URM_all)\n",
    "SLIM_all.fit(l1_ratio=0.11006885790633625, alpha=0.0002551115306127753, topK = 307)"
   ]
  },
  {
   "cell_type": "code",
   "execution_count": 66,
   "id": "98fbbab0-cedc-49d0-a721-bdfdde6de046",
   "metadata": {},
   "outputs": [
    {
     "name": "stdout",
     "output_type": "stream",
     "text": [
      "RP3betaRecommender: Similarity column 38121 (100.0%), 3771.53 column/sec. Elapsed time 10.11 sec\n"
     ]
    }
   ],
   "source": [
    "RP3_beta_all = RP3betaRecommender(URM_all)\n",
    "RP3_beta_all.fit(alpha=0.34989902568351894, beta=0.1817338725671425, topK=12, min_rating=0.0, implicit=False, normalize_similarity=True)"
   ]
  },
  {
   "cell_type": "code",
   "execution_count": 67,
   "id": "07e236b8-3a69-4dfd-a654-f7ad5d62168f",
   "metadata": {},
   "outputs": [
    {
     "name": "stdout",
     "output_type": "stream",
     "text": [
      "Similarity column 38121 (100.0%), 4234.02 column/sec. Elapsed time 9.00 sec\n"
     ]
    }
   ],
   "source": [
    "KNN_all = ItemKNNCFRecommender(URM_all)\n",
    "KNN_all.fit(similarity='tversky', topK=4, shrink=18,\n",
    "                  feature_weighting='none', tversky_alpha=0.1263621,\n",
    "                  tversky_beta=1.72181042,\n",
    "                  normalize=False)"
   ]
  },
  {
   "cell_type": "code",
   "execution_count": 68,
   "id": "80184a7b-db48-4e9c-912a-3d376f934ec4",
   "metadata": {},
   "outputs": [],
   "source": [
    "# iter 239 0.04801274656744886\n",
    "# 0.7380796311636464 * SLIM_all.W_sparse + 0.21602197286950797 * RP3_beta_all.W_sparse + 0.04589839596684567 * KNN_all.W_sparse\n",
    "\n",
    "similarity_all = 0.8672976014690289 * SLIM_all.W_sparse + 0.10507625421076075 * RP3_beta_all.W_sparse + 0.027626144320210273 * KNN_all.W_sparse\n",
    "recommender_best = ItemKNNCustomSimilarityRecommender(URM_all)\n",
    "recommender_best.fit(similarity_all)"
   ]
  },
  {
   "cell_type": "code",
   "execution_count": 126,
   "id": "f8fed399-212e-4401-b902-8b5180ab06e0",
   "metadata": {},
   "outputs": [
    {
     "name": "stdout",
     "output_type": "stream",
     "text": [
      "EvaluatorHoldout: Processed 35171 (100.0%) in 15.52 sec. Users per second: 2266\n"
     ]
    },
    {
     "data": {
      "text/plain": [
       "(       PRECISION PRECISION_RECALL_MIN_DEN RECALL  MAP MAP_MIN_DEN  MRR NDCG  \\\n",
       " cutoff                                                                        \n",
       " 10           0.0                      0.0    0.0  0.0         0.0  0.0  0.0   \n",
       " \n",
       "          F1 HIT_RATE ARHR_ALL_HITS  ... COVERAGE_USER COVERAGE_USER_HIT  \\\n",
       " cutoff                              ...                                   \n",
       " 10      0.0      0.0           0.0  ...       0.98419               0.0   \n",
       " \n",
       "        USERS_IN_GT DIVERSITY_GINI SHANNON_ENTROPY RATIO_DIVERSITY_HERFINDAHL  \\\n",
       " cutoff                                                                         \n",
       " 10         0.98419       0.263098       13.599568                   0.999901   \n",
       " \n",
       "        RATIO_DIVERSITY_GINI RATIO_SHANNON_ENTROPY RATIO_AVERAGE_POPULARITY  \\\n",
       " cutoff                                                                       \n",
       " 10                 0.430335              0.921023                 1.229809   \n",
       " \n",
       "        RATIO_NOVELTY  \n",
       " cutoff                \n",
       " 10          0.197063  \n",
       " \n",
       " [1 rows x 27 columns],\n",
       " 'CUTOFF: 10 - PRECISION: 0.0000000, PRECISION_RECALL_MIN_DEN: 0.0000000, RECALL: 0.0000000, MAP: 0.0000000, MAP_MIN_DEN: 0.0000000, MRR: 0.0000000, NDCG: 0.0000000, F1: 0.0000000, HIT_RATE: 0.0000000, ARHR_ALL_HITS: 0.0000000, NOVELTY: 0.0037691, AVERAGE_POPULARITY: 0.0906862, DIVERSITY_MEAN_INTER_LIST: 0.9984626, DIVERSITY_HERFINDAHL: 0.9998434, COVERAGE_ITEM: 0.6480680, COVERAGE_ITEM_HIT: 0.0000000, ITEMS_IN_GT: 0.9843393, COVERAGE_USER: 0.9841896, COVERAGE_USER_HIT: 0.0000000, USERS_IN_GT: 0.9841896, DIVERSITY_GINI: 0.2630980, SHANNON_ENTROPY: 13.5995684, RATIO_DIVERSITY_HERFINDAHL: 0.9999011, RATIO_DIVERSITY_GINI: 0.4303354, RATIO_SHANNON_ENTROPY: 0.9210225, RATIO_AVERAGE_POPULARITY: 1.2298088, RATIO_NOVELTY: 0.1970634, \\n')"
      ]
     },
     "execution_count": 126,
     "metadata": {},
     "output_type": "execute_result"
    }
   ],
   "source": [
    "evaluator_test.evaluateRecommender(recommender_best)"
   ]
  },
  {
   "cell_type": "code",
   "execution_count": 71,
   "id": "d067b63a-a944-4b28-98e7-29a139dfe535",
   "metadata": {},
   "outputs": [],
   "source": [
    "write_submission_lib_model(recommender_best, \"ensemble_SLIM_RP3beta_KNN_7.csv\")"
   ]
  },
  {
   "cell_type": "code",
   "execution_count": null,
   "id": "09a1b834-8cbe-45c0-8949-bcba446d55c8",
   "metadata": {},
   "outputs": [],
   "source": []
  }
 ],
 "metadata": {
  "kernelspec": {
   "display_name": "RecSys",
   "language": "python",
   "name": "recsys"
  },
  "language_info": {
   "codemirror_mode": {
    "name": "ipython",
    "version": 3
   },
   "file_extension": ".py",
   "mimetype": "text/x-python",
   "name": "python",
   "nbconvert_exporter": "python",
   "pygments_lexer": "ipython3",
   "version": "3.12.7"
  }
 },
 "nbformat": 4,
 "nbformat_minor": 5
}
