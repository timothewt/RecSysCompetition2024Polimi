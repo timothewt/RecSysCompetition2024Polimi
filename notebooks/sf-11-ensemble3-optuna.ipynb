{
 "cells": [
  {
   "cell_type": "code",
   "execution_count": 1,
   "id": "75566b91-23f5-4fdc-9ad9-c76a6b7383a3",
   "metadata": {},
   "outputs": [],
   "source": [
    "from pathlib import Path\n",
    "import sys  \n",
    "import os\n",
    "import pandas as pd \n",
    "from datetime import datetime\n",
    "import scipy.sparse as sps\n",
    "from numpy import linalg as LA\n",
    "\n",
    "import numpy as np\n",
    "from operator import itemgetter"
   ]
  },
  {
   "cell_type": "code",
   "execution_count": 2,
   "id": "80604c25-c0ce-4050-a55c-7ad4390f0502",
   "metadata": {},
   "outputs": [],
   "source": [
    "sys.path.append(os.path.abspath(os.path.join(os.getcwd(), \"..\", \"libs\")))\n",
    "sys.path.append(os.path.abspath(os.path.join(os.getcwd(), \"..\")))\n",
    "sys.path.append(os.path.abspath(os.path.join(os.getcwd(), \"..\", \"src\")))"
   ]
  },
  {
   "cell_type": "code",
   "execution_count": 3,
   "id": "70affe32-5cda-4979-b30a-7bd7f3c2147d",
   "metadata": {},
   "outputs": [],
   "source": [
    "%load_ext autoreload\n",
    "%autoreload 2"
   ]
  },
  {
   "cell_type": "code",
   "execution_count": 4,
   "id": "e1890247-aa8a-4586-8f67-b0e1c1abce17",
   "metadata": {},
   "outputs": [],
   "source": [
    "from Utils.load_URM import load_URM\n",
    "from Utils.load_ICM import load_ICM\n",
    "\n",
    "from scipy.sparse import hstack, vstack\n",
    "from Evaluation.Evaluator import EvaluatorHoldout\n",
    "from Data_manager.split_functions.split_train_validation_random_holdout import split_train_in_two_percentage_global_sample\n",
    "\n",
    "URM_all = load_URM(\"../data/data_train.csv\")\n",
    "ICM_all = load_ICM(\"../data/data_ICM_metadata.csv\")"
   ]
  },
  {
   "cell_type": "code",
   "execution_count": 5,
   "id": "afb5e122-ce25-45b9-b2d1-480a1894ac36",
   "metadata": {},
   "outputs": [],
   "source": [
    "from libs.Recommenders.SLIM.SLIMElasticNetRecommender import SLIMElasticNetRecommender \n",
    "from libs.Recommenders.GraphBased.RP3betaRecommender import RP3betaRecommender\n",
    "from libs.Recommenders.KNN.ItemKNNCFRecommender import ItemKNNCFRecommender\n",
    "from libs.Recommenders.KNN.ItemKNNCustomSimilarityRecommender import ItemKNNCustomSimilarityRecommender"
   ]
  },
  {
   "cell_type": "code",
   "execution_count": 6,
   "id": "c1cbc0a6-0415-4a01-96fa-236835067caf",
   "metadata": {},
   "outputs": [],
   "source": [
    "import optuna as op"
   ]
  },
  {
   "cell_type": "code",
   "execution_count": 7,
   "id": "a770d918-4de6-4163-906f-a9bf18a9551c",
   "metadata": {},
   "outputs": [
    {
     "name": "stdout",
     "output_type": "stream",
     "text": [
      "Warning: 527 (1.47 %) of 35736 users have no sampled items\n",
      "Warning: 1008 (2.82 %) of 35736 users have no sampled items\n"
     ]
    }
   ],
   "source": [
    "# URM_train = sps.load_npz('URM_train.npz')\n",
    "# URM_validation = sps.load_npz('URM_validation.npz')\n",
    "URM_train_validation, URM_test = split_train_in_two_percentage_global_sample(URM_all, train_percentage = 0.85)\n",
    "URM_train, URM_validation = split_train_in_two_percentage_global_sample(URM_train_validation, train_percentage = 0.85)"
   ]
  },
  {
   "cell_type": "code",
   "execution_count": 8,
   "id": "2c38d97a-e2b6-430e-b791-d89617d0ecbc",
   "metadata": {},
   "outputs": [
    {
     "name": "stdout",
     "output_type": "stream",
     "text": [
      "EvaluatorHoldout: Ignoring 1008 ( 2.8%) Users that have less than 1 test interactions\n",
      "EvaluatorHoldout: Ignoring 527 ( 1.5%) Users that have less than 1 test interactions\n"
     ]
    }
   ],
   "source": [
    "evaluator_validation = EvaluatorHoldout(URM_validation, cutoff_list=[10])\n",
    "evaluator_test = EvaluatorHoldout(URM_test, cutoff_list=[10])"
   ]
  },
  {
   "cell_type": "code",
   "execution_count": 9,
   "id": "fc2ba4ea-d74a-4711-b8bf-09be563412a0",
   "metadata": {},
   "outputs": [],
   "source": [
    "def AP(recommended_items, relevant_items):\n",
    "   \n",
    "    is_relevant = np.in1d(recommended_items, relevant_items, assume_unique=True)\n",
    "    \n",
    "    # Cumulative sum: precision at 1, at 2, at 3 ...\n",
    "    p_at_k = is_relevant * np.cumsum(is_relevant, dtype=np.float32) / (1 + np.arange(is_relevant.shape[0]))\n",
    "    ap_score = np.sum(p_at_k) / np.min([relevant_items.shape[0], is_relevant.shape[0]])\n",
    "\n",
    "    return ap_score"
   ]
  },
  {
   "cell_type": "code",
   "execution_count": 10,
   "id": "a0c58da2-f2a6-447d-9095-770323c42fdf",
   "metadata": {},
   "outputs": [],
   "source": [
    "# We pass as paramether the recommender class\n",
    "\n",
    "def evaluate_algorithm(URM_test, recommender_object, at=10):\n",
    "    \n",
    "    #cumulative_precision = 0.0\n",
    "    #cumulative_recall = 0.0\n",
    "    cumulative_AP = 0.0\n",
    "    \n",
    "    num_eval = 0\n",
    "\n",
    "\n",
    "    for user_id in range(URM_test.shape[0]):\n",
    "\n",
    "        relevant_items = URM_test.indices[URM_test.indptr[user_id]:URM_test.indptr[user_id+1]]\n",
    "        \n",
    "        if len(relevant_items)>0:\n",
    "            \n",
    "            recommended_items = recommender_object.recommend(user_id, cutoff=at)\n",
    "            num_eval+=1\n",
    "\n",
    "            #cumulative_precision += precision(recommended_items, relevant_items)\n",
    "            #cumulative_recall += recall(recommended_items, relevant_items)\n",
    "            cumulative_AP += AP(recommended_items, relevant_items)\n",
    "            \n",
    "    #cumulative_precision /= num_eval\n",
    "    #cumulative_recall /= num_eval\n",
    "    MAP = cumulative_AP / num_eval\n",
    "    \n",
    "    return MAP\n"
   ]
  },
  {
   "cell_type": "code",
   "execution_count": 11,
   "id": "fd60c2da-fb70-4d92-8f7f-cbdbcada2321",
   "metadata": {},
   "outputs": [
    {
     "name": "stdout",
     "output_type": "stream",
     "text": [
      "SLIMElasticNetRecommender: Processed 8931 (23.4%) in 5.00 min. Items per second: 29.76\n",
      "SLIMElasticNetRecommender: Processed 18026 (47.3%) in 10.00 min. Items per second: 30.04\n",
      "SLIMElasticNetRecommender: Processed 27272 (71.5%) in 15.00 min. Items per second: 30.30\n",
      "SLIMElasticNetRecommender: Processed 36640 (96.1%) in 20.00 min. Items per second: 30.53\n",
      "SLIMElasticNetRecommender: Processed 38121 (100.0%) in 20.85 min. Items per second: 30.47\n"
     ]
    }
   ],
   "source": [
    "slim_model_train = SLIMElasticNetRecommender(URM_train)\n",
    "slim_model_train.fit(l1_ratio=0.11006885790633625, alpha=0.0002551115306127753, topK = 307)\n",
    "\n",
    "#slim_model_train.load_model('result_experiments/SLIM/', 'slim_300_train_weights')\n",
    "# slim_model_all = SLIMElasticNetRecommender(URM_train)\n",
    "# slim_model_all.load_model('result_experiments/SLIM/', 'slim_300_2_weights')"
   ]
  },
  {
   "cell_type": "code",
   "execution_count": 12,
   "id": "d9a95f2a-119c-432a-b21e-504dbdc4a3ad",
   "metadata": {},
   "outputs": [
    {
     "name": "stdout",
     "output_type": "stream",
     "text": [
      "EvaluatorHoldout: Processed 34728 (100.0%) in 13.72 sec. Users per second: 2532\n"
     ]
    }
   ],
   "source": [
    "slim_train_res, _ = evaluator_validation.evaluateRecommender(slim_model_train)"
   ]
  },
  {
   "cell_type": "code",
   "execution_count": 13,
   "id": "784ca8c6-fdbe-4978-a5ca-c5fc943e461d",
   "metadata": {},
   "outputs": [
    {
     "data": {
      "text/plain": [
       "cutoff\n",
       "10    0.030621\n",
       "Name: MAP, dtype: object"
      ]
     },
     "execution_count": 13,
     "metadata": {},
     "output_type": "execute_result"
    }
   ],
   "source": [
    "slim_train_res[\"MAP\"]"
   ]
  },
  {
   "cell_type": "code",
   "execution_count": 14,
   "id": "69cce39f-86d3-4543-a892-1194b5d1f858",
   "metadata": {},
   "outputs": [
    {
     "data": {
      "text/plain": [
       "0.06297588460871925"
      ]
     },
     "execution_count": 14,
     "metadata": {},
     "output_type": "execute_result"
    }
   ],
   "source": [
    "evaluate_algorithm(URM_validation, slim_model_train)"
   ]
  },
  {
   "cell_type": "code",
   "execution_count": 15,
   "id": "27e021d3-ac4f-46d5-9345-7c31fd94f990",
   "metadata": {},
   "outputs": [
    {
     "name": "stdout",
     "output_type": "stream",
     "text": [
      "SLIMElasticNetRecommender: Processed 7900 (20.7%) in 5.00 min. Items per second: 26.33\n",
      "SLIMElasticNetRecommender: Processed 15817 (41.5%) in 10.00 min. Items per second: 26.36\n",
      "SLIMElasticNetRecommender: Processed 23548 (61.8%) in 15.00 min. Items per second: 26.16\n",
      "SLIMElasticNetRecommender: Processed 25736 (67.5%) in 20.00 min. Items per second: 21.44\n",
      "SLIMElasticNetRecommender: Processed 33919 (89.0%) in 25.00 min. Items per second: 22.61\n",
      "SLIMElasticNetRecommender: Processed 38121 (100.0%) in 27.65 min. Items per second: 22.98\n"
     ]
    }
   ],
   "source": [
    "slim_model_train_val = SLIMElasticNetRecommender(URM_train_validation)\n",
    "slim_model_train_val.fit(l1_ratio=0.11006885790633625, alpha=0.0002551115306127753, topK = 307)"
   ]
  },
  {
   "cell_type": "code",
   "execution_count": 16,
   "id": "a63ef2cd-2338-4ff2-98f1-d25e86c490f6",
   "metadata": {},
   "outputs": [
    {
     "name": "stdout",
     "output_type": "stream",
     "text": [
      "EvaluatorHoldout: Processed 35209 (100.0%) in 15.07 sec. Users per second: 2337\n"
     ]
    }
   ],
   "source": [
    "slim_train_val_res, _ = evaluator_test.evaluateRecommender(slim_model_train_val)"
   ]
  },
  {
   "cell_type": "code",
   "execution_count": 17,
   "id": "a671e066-688c-4271-ac91-91d1d7ca53ac",
   "metadata": {},
   "outputs": [
    {
     "data": {
      "text/plain": [
       "cutoff\n",
       "10    0.047714\n",
       "Name: MAP, dtype: object"
      ]
     },
     "execution_count": 17,
     "metadata": {},
     "output_type": "execute_result"
    }
   ],
   "source": [
    "slim_train_val_res[\"MAP\"]"
   ]
  },
  {
   "cell_type": "code",
   "execution_count": 18,
   "id": "1bbccc39-7b35-4d62-9823-76b7c715f2d8",
   "metadata": {},
   "outputs": [
    {
     "data": {
      "text/plain": [
       "0.08366541182230076"
      ]
     },
     "execution_count": 18,
     "metadata": {},
     "output_type": "execute_result"
    }
   ],
   "source": [
    "evaluate_algorithm(URM_test, slim_model_train_val)"
   ]
  },
  {
   "cell_type": "code",
   "execution_count": 19,
   "id": "1f174078-ecca-411f-9a40-44ab69c7470f",
   "metadata": {},
   "outputs": [
    {
     "name": "stdout",
     "output_type": "stream",
     "text": [
      "RP3betaRecommender: Similarity column 38121 (100.0%), 4374.34 column/sec. Elapsed time 8.71 sec\n",
      "RP3betaRecommender: Similarity column 38121 (100.0%), 3967.24 column/sec. Elapsed time 9.61 sec\n"
     ]
    }
   ],
   "source": [
    "rp3_beta_train = RP3betaRecommender(URM_train)\n",
    "rp3_beta_train.fit(alpha=0.34989902568351894, beta=0.1817338725671425, topK=12, min_rating=0.0, implicit=False, normalize_similarity=True)\n",
    "\n",
    "rp3_beta_train_val = RP3betaRecommender(URM_train_validation)\n",
    "rp3_beta_train_val.fit(alpha=0.34989902568351894, beta=0.1817338725671425, topK=12, min_rating=0.0, implicit=False, normalize_similarity=True)\n",
    "\n",
    "#rp3_beta_train.load_model('result_experiments/RP3beta/', 'rp3beta_10_train_weights')\n",
    "# rp3_beta_all = RP3betaRecommender(URM_train)\n",
    "# rp3_beta_all.load_model('result_experiments/RP3beta/', 'rp3beta_10_weights')"
   ]
  },
  {
   "cell_type": "code",
   "execution_count": 29,
   "id": "b5621d0e-d71c-4761-8e17-d3dede57fe8e",
   "metadata": {},
   "outputs": [
    {
     "data": {
      "text/plain": [
       "(0.05821489564907338, 0.07579670317181916)"
      ]
     },
     "execution_count": 29,
     "metadata": {},
     "output_type": "execute_result"
    }
   ],
   "source": [
    "evaluate_algorithm(URM_validation, rp3_beta_train), evaluate_algorithm(URM_test, rp3_beta_train_val)"
   ]
  },
  {
   "cell_type": "code",
   "execution_count": 22,
   "id": "ab3fa75f-ad1f-4373-85d7-32e81eb026b7",
   "metadata": {},
   "outputs": [
    {
     "name": "stdout",
     "output_type": "stream",
     "text": [
      "EvaluatorHoldout: Processed 34728 (100.0%) in 8.72 sec. Users per second: 3982\n",
      "EvaluatorHoldout: Processed 35209 (100.0%) in 8.99 sec. Users per second: 3915\n"
     ]
    }
   ],
   "source": [
    "rp3_beta_train_res, _ = evaluator_validation.evaluateRecommender(rp3_beta_train)\n",
    "rp3_beta_train_val_res, _ = evaluator_test.evaluateRecommender(rp3_beta_train_val)"
   ]
  },
  {
   "cell_type": "code",
   "execution_count": 23,
   "id": "5b73157c-4aa9-4b5f-9c5d-034906717215",
   "metadata": {},
   "outputs": [
    {
     "data": {
      "text/plain": [
       "(cutoff\n",
       " 10    0.028152\n",
       " Name: MAP, dtype: object,\n",
       " cutoff\n",
       " 10    0.042773\n",
       " Name: MAP, dtype: object)"
      ]
     },
     "execution_count": 23,
     "metadata": {},
     "output_type": "execute_result"
    }
   ],
   "source": [
    "rp3_beta_train_res[\"MAP\"], rp3_beta_train_val_res[\"MAP\"]"
   ]
  },
  {
   "cell_type": "code",
   "execution_count": 24,
   "id": "99bb2230-f24d-45de-bce6-6c85b8151c22",
   "metadata": {},
   "outputs": [
    {
     "data": {
      "text/plain": [
       "cutoff\n",
       "10    0.042773\n",
       "Name: MAP, dtype: object"
      ]
     },
     "execution_count": 24,
     "metadata": {},
     "output_type": "execute_result"
    }
   ],
   "source": [
    "rp3_beta_train_val_res[\"MAP\"]"
   ]
  },
  {
   "cell_type": "code",
   "execution_count": 25,
   "id": "4429a1e9-787c-4a1e-acaa-8902abc826a2",
   "metadata": {},
   "outputs": [],
   "source": [
    "ItemKNNCFRecommender_results = pd.read_csv(\"result_experiments/ItemKNNCFRecommender/results.csv\")"
   ]
  },
  {
   "cell_type": "code",
   "execution_count": 26,
   "id": "fc77c449-3992-47d9-a3f8-021ddb0553cb",
   "metadata": {
    "scrolled": true
   },
   "outputs": [
    {
     "data": {
      "text/html": [
       "<div>\n",
       "<style scoped>\n",
       "    .dataframe tbody tr th:only-of-type {\n",
       "        vertical-align: middle;\n",
       "    }\n",
       "\n",
       "    .dataframe tbody tr th {\n",
       "        vertical-align: top;\n",
       "    }\n",
       "\n",
       "    .dataframe thead th {\n",
       "        text-align: right;\n",
       "    }\n",
       "</style>\n",
       "<table border=\"1\" class=\"dataframe\">\n",
       "  <thead>\n",
       "    <tr style=\"text-align: right;\">\n",
       "      <th></th>\n",
       "      <th>similarity</th>\n",
       "      <th>topK</th>\n",
       "      <th>shrink</th>\n",
       "      <th>normalize</th>\n",
       "      <th>time</th>\n",
       "      <th>cutoff</th>\n",
       "      <th>PRECISION</th>\n",
       "      <th>PRECISION_RECALL_MIN_DEN</th>\n",
       "      <th>RECALL</th>\n",
       "      <th>MAP</th>\n",
       "      <th>MAP_MIN_DEN</th>\n",
       "      <th>MRR</th>\n",
       "      <th>NDCG</th>\n",
       "      <th>F1</th>\n",
       "      <th>HIT_RATE</th>\n",
       "    </tr>\n",
       "  </thead>\n",
       "  <tbody>\n",
       "    <tr>\n",
       "      <th>1388</th>\n",
       "      <td>jaccard</td>\n",
       "      <td>5</td>\n",
       "      <td>12</td>\n",
       "      <td>False</td>\n",
       "      <td>2024-12-05 05:49:14</td>\n",
       "      <td>10</td>\n",
       "      <td>0.097692</td>\n",
       "      <td>0.146128</td>\n",
       "      <td>0.124175</td>\n",
       "      <td>0.051709</td>\n",
       "      <td>0.075515</td>\n",
       "      <td>0.273210</td>\n",
       "      <td>0.142178</td>\n",
       "      <td>0.109353</td>\n",
       "      <td>0.522025</td>\n",
       "    </tr>\n",
       "    <tr>\n",
       "      <th>1387</th>\n",
       "      <td>jaccard</td>\n",
       "      <td>5</td>\n",
       "      <td>12</td>\n",
       "      <td>True</td>\n",
       "      <td>2024-12-05 05:48:58</td>\n",
       "      <td>10</td>\n",
       "      <td>0.097692</td>\n",
       "      <td>0.146128</td>\n",
       "      <td>0.124175</td>\n",
       "      <td>0.051709</td>\n",
       "      <td>0.075515</td>\n",
       "      <td>0.273210</td>\n",
       "      <td>0.142178</td>\n",
       "      <td>0.109353</td>\n",
       "      <td>0.522025</td>\n",
       "    </tr>\n",
       "    <tr>\n",
       "      <th>2072</th>\n",
       "      <td>tanimoto</td>\n",
       "      <td>5</td>\n",
       "      <td>12</td>\n",
       "      <td>False</td>\n",
       "      <td>2024-12-05 10:34:02</td>\n",
       "      <td>10</td>\n",
       "      <td>0.097692</td>\n",
       "      <td>0.146128</td>\n",
       "      <td>0.124175</td>\n",
       "      <td>0.051709</td>\n",
       "      <td>0.075515</td>\n",
       "      <td>0.273210</td>\n",
       "      <td>0.142178</td>\n",
       "      <td>0.109353</td>\n",
       "      <td>0.522025</td>\n",
       "    </tr>\n",
       "    <tr>\n",
       "      <th>2071</th>\n",
       "      <td>tanimoto</td>\n",
       "      <td>5</td>\n",
       "      <td>12</td>\n",
       "      <td>True</td>\n",
       "      <td>2024-12-05 10:33:46</td>\n",
       "      <td>10</td>\n",
       "      <td>0.097692</td>\n",
       "      <td>0.146128</td>\n",
       "      <td>0.124175</td>\n",
       "      <td>0.051709</td>\n",
       "      <td>0.075515</td>\n",
       "      <td>0.273210</td>\n",
       "      <td>0.142178</td>\n",
       "      <td>0.109353</td>\n",
       "      <td>0.522025</td>\n",
       "    </tr>\n",
       "    <tr>\n",
       "      <th>1392</th>\n",
       "      <td>jaccard</td>\n",
       "      <td>5</td>\n",
       "      <td>14</td>\n",
       "      <td>False</td>\n",
       "      <td>2024-12-05 05:50:18</td>\n",
       "      <td>10</td>\n",
       "      <td>0.097816</td>\n",
       "      <td>0.146319</td>\n",
       "      <td>0.124356</td>\n",
       "      <td>0.051682</td>\n",
       "      <td>0.075437</td>\n",
       "      <td>0.272863</td>\n",
       "      <td>0.142174</td>\n",
       "      <td>0.109501</td>\n",
       "      <td>0.522391</td>\n",
       "    </tr>\n",
       "    <tr>\n",
       "      <th>...</th>\n",
       "      <td>...</td>\n",
       "      <td>...</td>\n",
       "      <td>...</td>\n",
       "      <td>...</td>\n",
       "      <td>...</td>\n",
       "      <td>...</td>\n",
       "      <td>...</td>\n",
       "      <td>...</td>\n",
       "      <td>...</td>\n",
       "      <td>...</td>\n",
       "      <td>...</td>\n",
       "      <td>...</td>\n",
       "      <td>...</td>\n",
       "      <td>...</td>\n",
       "      <td>...</td>\n",
       "    </tr>\n",
       "    <tr>\n",
       "      <th>915</th>\n",
       "      <td>pearson</td>\n",
       "      <td>11</td>\n",
       "      <td>0</td>\n",
       "      <td>True</td>\n",
       "      <td>2024-12-05 03:53:43</td>\n",
       "      <td>10</td>\n",
       "      <td>0.000793</td>\n",
       "      <td>0.001144</td>\n",
       "      <td>0.000934</td>\n",
       "      <td>0.000252</td>\n",
       "      <td>0.000371</td>\n",
       "      <td>0.002408</td>\n",
       "      <td>0.001007</td>\n",
       "      <td>0.000858</td>\n",
       "      <td>0.007590</td>\n",
       "    </tr>\n",
       "    <tr>\n",
       "      <th>916</th>\n",
       "      <td>pearson</td>\n",
       "      <td>11</td>\n",
       "      <td>0</td>\n",
       "      <td>False</td>\n",
       "      <td>2024-12-05 03:53:57</td>\n",
       "      <td>10</td>\n",
       "      <td>0.000793</td>\n",
       "      <td>0.001144</td>\n",
       "      <td>0.000934</td>\n",
       "      <td>0.000252</td>\n",
       "      <td>0.000371</td>\n",
       "      <td>0.002408</td>\n",
       "      <td>0.001007</td>\n",
       "      <td>0.000858</td>\n",
       "      <td>0.007590</td>\n",
       "    </tr>\n",
       "    <tr>\n",
       "      <th>917</th>\n",
       "      <td>pearson</td>\n",
       "      <td>11</td>\n",
       "      <td>5</td>\n",
       "      <td>True</td>\n",
       "      <td>2024-12-05 03:54:11</td>\n",
       "      <td>10</td>\n",
       "      <td>0.000793</td>\n",
       "      <td>0.001144</td>\n",
       "      <td>0.000934</td>\n",
       "      <td>0.000252</td>\n",
       "      <td>0.000371</td>\n",
       "      <td>0.002408</td>\n",
       "      <td>0.001007</td>\n",
       "      <td>0.000858</td>\n",
       "      <td>0.007590</td>\n",
       "    </tr>\n",
       "    <tr>\n",
       "      <th>918</th>\n",
       "      <td>pearson</td>\n",
       "      <td>11</td>\n",
       "      <td>5</td>\n",
       "      <td>False</td>\n",
       "      <td>2024-12-05 03:54:26</td>\n",
       "      <td>10</td>\n",
       "      <td>0.000793</td>\n",
       "      <td>0.001144</td>\n",
       "      <td>0.000934</td>\n",
       "      <td>0.000252</td>\n",
       "      <td>0.000371</td>\n",
       "      <td>0.002408</td>\n",
       "      <td>0.001007</td>\n",
       "      <td>0.000858</td>\n",
       "      <td>0.007590</td>\n",
       "    </tr>\n",
       "    <tr>\n",
       "      <th>3422</th>\n",
       "      <td>adjusted</td>\n",
       "      <td>100</td>\n",
       "      <td>100</td>\n",
       "      <td>False</td>\n",
       "      <td>2024-12-05 17:12:49</td>\n",
       "      <td>10</td>\n",
       "      <td>0.000793</td>\n",
       "      <td>0.001144</td>\n",
       "      <td>0.000934</td>\n",
       "      <td>0.000252</td>\n",
       "      <td>0.000371</td>\n",
       "      <td>0.002408</td>\n",
       "      <td>0.001007</td>\n",
       "      <td>0.000858</td>\n",
       "      <td>0.007590</td>\n",
       "    </tr>\n",
       "  </tbody>\n",
       "</table>\n",
       "<p>3423 rows × 15 columns</p>\n",
       "</div>"
      ],
      "text/plain": [
       "     similarity  topK  shrink  normalize                 time  cutoff  \\\n",
       "1388    jaccard     5      12      False  2024-12-05 05:49:14      10   \n",
       "1387    jaccard     5      12       True  2024-12-05 05:48:58      10   \n",
       "2072   tanimoto     5      12      False  2024-12-05 10:34:02      10   \n",
       "2071   tanimoto     5      12       True  2024-12-05 10:33:46      10   \n",
       "1392    jaccard     5      14      False  2024-12-05 05:50:18      10   \n",
       "...         ...   ...     ...        ...                  ...     ...   \n",
       "915     pearson    11       0       True  2024-12-05 03:53:43      10   \n",
       "916     pearson    11       0      False  2024-12-05 03:53:57      10   \n",
       "917     pearson    11       5       True  2024-12-05 03:54:11      10   \n",
       "918     pearson    11       5      False  2024-12-05 03:54:26      10   \n",
       "3422   adjusted   100     100      False  2024-12-05 17:12:49      10   \n",
       "\n",
       "      PRECISION  PRECISION_RECALL_MIN_DEN    RECALL       MAP  MAP_MIN_DEN  \\\n",
       "1388   0.097692                  0.146128  0.124175  0.051709     0.075515   \n",
       "1387   0.097692                  0.146128  0.124175  0.051709     0.075515   \n",
       "2072   0.097692                  0.146128  0.124175  0.051709     0.075515   \n",
       "2071   0.097692                  0.146128  0.124175  0.051709     0.075515   \n",
       "1392   0.097816                  0.146319  0.124356  0.051682     0.075437   \n",
       "...         ...                       ...       ...       ...          ...   \n",
       "915    0.000793                  0.001144  0.000934  0.000252     0.000371   \n",
       "916    0.000793                  0.001144  0.000934  0.000252     0.000371   \n",
       "917    0.000793                  0.001144  0.000934  0.000252     0.000371   \n",
       "918    0.000793                  0.001144  0.000934  0.000252     0.000371   \n",
       "3422   0.000793                  0.001144  0.000934  0.000252     0.000371   \n",
       "\n",
       "           MRR      NDCG        F1  HIT_RATE  \n",
       "1388  0.273210  0.142178  0.109353  0.522025  \n",
       "1387  0.273210  0.142178  0.109353  0.522025  \n",
       "2072  0.273210  0.142178  0.109353  0.522025  \n",
       "2071  0.273210  0.142178  0.109353  0.522025  \n",
       "1392  0.272863  0.142174  0.109501  0.522391  \n",
       "...        ...       ...       ...       ...  \n",
       "915   0.002408  0.001007  0.000858  0.007590  \n",
       "916   0.002408  0.001007  0.000858  0.007590  \n",
       "917   0.002408  0.001007  0.000858  0.007590  \n",
       "918   0.002408  0.001007  0.000858  0.007590  \n",
       "3422  0.002408  0.001007  0.000858  0.007590  \n",
       "\n",
       "[3423 rows x 15 columns]"
      ]
     },
     "execution_count": 26,
     "metadata": {},
     "output_type": "execute_result"
    }
   ],
   "source": [
    "ItemKNNCFRecommender_results.sort_values('MAP', ascending=False).iloc[:, : 15]"
   ]
  },
  {
   "cell_type": "code",
   "execution_count": 42,
   "id": "f456dd00-6e21-46c8-9b7d-3e7f26f6cb35",
   "metadata": {},
   "outputs": [
    {
     "name": "stdout",
     "output_type": "stream",
     "text": [
      "Similarity column 38121 (100.0%), 5021.78 column/sec. Elapsed time 7.59 sec\n",
      "Similarity column 38121 (100.0%), 4593.81 column/sec. Elapsed time 8.30 sec\n"
     ]
    }
   ],
   "source": [
    "# similarity='jaccard', topK=5, shrink=12, normalize=False\n",
    "\n",
    "knn_train = ItemKNNCFRecommender(URM_train)\n",
    "knn_train.fit(similarity='tversky', topK=4, shrink=18,\n",
    "                  feature_weighting='none', tversky_alpha=0.1263621,\n",
    "                  tversky_beta=1.72181042,\n",
    "                  normalize=False)\n",
    "\n",
    "knn_train_val = ItemKNNCFRecommender(URM_train_validation)\n",
    "knn_train_val.fit(similarity='tversky', topK=4, shrink=18,\n",
    "                  feature_weighting='none', tversky_alpha=0.1263621,\n",
    "                  tversky_beta=1.72181042,\n",
    "                  normalize=False)\n",
    "\n",
    "\n",
    "# ItemKNNCF_train = ItemKNNCFRecommender(URM_train)\n",
    "# ItemKNNCF_train.load_model(\"result_experiments/ItemKNNCFRecommender/\", \"ItemKNNCF_5_train_weights\")"
   ]
  },
  {
   "cell_type": "code",
   "execution_count": 43,
   "id": "5bb55a26-dc2c-47fa-95b0-080009b55fb4",
   "metadata": {},
   "outputs": [
    {
     "data": {
      "text/plain": [
       "(0.057754182629180306, 0.07549006255404529)"
      ]
     },
     "execution_count": 43,
     "metadata": {},
     "output_type": "execute_result"
    }
   ],
   "source": [
    "evaluate_algorithm(URM_validation, knn_train), evaluate_algorithm(URM_test, knn_train_val)"
   ]
  },
  {
   "cell_type": "code",
   "execution_count": null,
   "id": "91bcdb2d-b03d-4512-9d01-8034ef55f52e",
   "metadata": {},
   "outputs": [],
   "source": []
  },
  {
   "cell_type": "code",
   "execution_count": 44,
   "id": "78e97b86-5dc0-45c0-a862-9ab540f04994",
   "metadata": {},
   "outputs": [
    {
     "name": "stdout",
     "output_type": "stream",
     "text": [
      "EvaluatorHoldout: Processed 34728 (100.0%) in 8.80 sec. Users per second: 3948\n",
      "EvaluatorHoldout: Processed 35209 (100.0%) in 8.79 sec. Users per second: 4006\n"
     ]
    }
   ],
   "source": [
    "knn_train_res, _ = evaluator_validation.evaluateRecommender(knn_train)\n",
    "knn_train_val_res, _ = evaluator_test.evaluateRecommender(knn_train_val)"
   ]
  },
  {
   "cell_type": "code",
   "execution_count": 45,
   "id": "62b6e56a-ac98-42c0-a7be-8ddb51593dc0",
   "metadata": {},
   "outputs": [
    {
     "data": {
      "text/plain": [
       "(cutoff\n",
       " 10    0.027949\n",
       " Name: MAP, dtype: object,\n",
       " cutoff\n",
       " 10    0.042742\n",
       " Name: MAP, dtype: object)"
      ]
     },
     "execution_count": 45,
     "metadata": {},
     "output_type": "execute_result"
    }
   ],
   "source": [
    "knn_train_res[\"MAP\"], knn_train_val_res[\"MAP\"]"
   ]
  },
  {
   "cell_type": "code",
   "execution_count": null,
   "id": "6fa4897e-dfda-4790-bb01-f23f0e779ec0",
   "metadata": {},
   "outputs": [],
   "source": []
  },
  {
   "cell_type": "markdown",
   "id": "021f7fc2-5d55-4c4c-b061-5033b6a38500",
   "metadata": {},
   "source": [
    "# Optuna"
   ]
  },
  {
   "cell_type": "code",
   "execution_count": 46,
   "id": "d65b69fd-3332-4451-acd2-ac20184407f8",
   "metadata": {},
   "outputs": [],
   "source": [
    "results_dict={\n",
    "    'Iteration':[],\n",
    "    'SLIM_w':[],\n",
    "    'RP3b_w':[],\n",
    "    'ItemKNN_w':[],\n",
    "    'MAP_val':[],\n",
    "    'MAP_test':[],\n",
    "}"
   ]
  },
  {
   "cell_type": "code",
   "execution_count": 47,
   "id": "b4a93ed4-6da1-45cf-b714-5af4d33174d5",
   "metadata": {},
   "outputs": [],
   "source": [
    "new_best_on_test={\n",
    "    'SLIM_w':0,\n",
    "    'RP3b_w':0,\n",
    "    'ItemKNN_w':0,\n",
    "    'MAP_test':0\n",
    "}"
   ]
  },
  {
   "cell_type": "code",
   "execution_count": 48,
   "id": "8087e497-1e8e-4516-87a3-29b39e9631e7",
   "metadata": {},
   "outputs": [],
   "source": [
    "improving_treshold=0.85 "
   ]
  },
  {
   "cell_type": "code",
   "execution_count": 49,
   "id": "fb05b902-540d-4a95-9704-288337553aec",
   "metadata": {},
   "outputs": [],
   "source": [
    "import optuna as op\n",
    "\n",
    "best_on_val = 0.03\n",
    "\n",
    "def objective_function_weight_hybrid(trial):\n",
    "    results_dict['Iteration'].append(trial.number)\n",
    "    n = 3\n",
    "    x = []\n",
    "    for i in range(n):\n",
    "        x.append(- np.log(trial.suggest_float(f\"x_{i}\", 0, 1)))\n",
    "    weights = []\n",
    "    for i in range(n):\n",
    "        weights.append(x[i] / sum(x))\n",
    "        if i==0:\n",
    "            key='SLIM_w'\n",
    "        elif i==1:\n",
    "            key='RP3b_w'\n",
    "        else:\n",
    "            key='ItemKNN_w'\n",
    "        results_dict[key].append(weights[i])\n",
    "\n",
    "    for i in range(n):\n",
    "        trial.set_user_attr(f\"weights_{i}\",weights[i])\n",
    "        \n",
    "    #PRINT WEIGHTS CHOSEN ###################################################\n",
    "    print(\"__________Iteration \" + str(trial.number) + \"______________\")\n",
    "    print(\"SLIM weight: \"+str(weights[0]))\n",
    "    print(\"RP3b weight: \"+str(weights[1]))\n",
    "    print(\"ItemKNN weight: \"+str(weights[2]))##\n",
    "    \n",
    "    #BUILD HYBRID ###########################################################\n",
    "    new_similarity_train = weights[0] * slim_model_train.W_sparse + weights[1] * rp3_beta_train.W_sparse + weights[2] * knn_train.W_sparse\n",
    "    recommender_object_train = ItemKNNCustomSimilarityRecommender(URM_train)\n",
    "    recommender_object_train.fit(new_similarity_train)\n",
    "    res_on_val, _ = evaluator_validation.evaluateRecommender(recommender_object_train)\n",
    "    results_dict['MAP_val'].append(res_on_val['MAP'][10])\n",
    "\n",
    "    #print(\"VAL\", res_on_val['MAP'][10], best_on_val * improving_treshold)\n",
    "    if res_on_val['MAP'][10] >= best_on_val * improving_treshold:\n",
    "        new_similarity_train_val = weights[0] * slim_model_train_val.W_sparse + weights[1] * rp3_beta_train_val.W_sparse + weights[2] * knn_train_val.W_sparse\n",
    "        recommender_object_train_val = ItemKNNCustomSimilarityRecommender(URM_train_validation)\n",
    "        recommender_object_train_val.fit(new_similarity_train_val)\n",
    "        res_on_test, _ = evaluator_test.evaluateRecommender(recommender_object_train_val)\n",
    "        results_dict['MAP_test'].append(res_on_test[\"MAP\"][10])\n",
    "\n",
    "        #print(\"Test\", res_on_test[\"MAP\"][10], new_best_on_test['MAP_test'])\n",
    "        if res_on_test[\"MAP\"][10] > new_best_on_test['MAP_test']:\n",
    "            new_best_on_test['SLIM_w']=weights[0]\n",
    "            new_best_on_test['RP3b_w']=weights[1]\n",
    "            new_best_on_test['ItemKNN_w']=weights[2]\n",
    "            new_best_on_test['MAP_test']=res_on_test[\"MAP\"][10]\n",
    "            print(\"New best on test found! Score is \"+ str(res_on_test[\"MAP\"][10]))\n",
    "            print(f\"weights: SLIM_w: {weights[0]}, RP3b_w: {weights[1]}, ItemKNN_w: {weights[2]}\")\n",
    "            \n",
    "        \n",
    "        \n",
    "    else:\n",
    "         results_dict['MAP_test'].append(0.0)\n",
    "    return res_on_val['MAP'][10]"
   ]
  },
  {
   "cell_type": "code",
   "execution_count": 118,
   "id": "e175529d-6a25-47fc-aad6-bf2b36246010",
   "metadata": {
    "scrolled": true
   },
   "outputs": [
    {
     "name": "stderr",
     "output_type": "stream",
     "text": [
      "[I 2024-12-09 16:56:54,938] A new study created in memory with name: no-name-20f322a6-8e5d-4491-9b98-3d20420b7aca\n"
     ]
    },
    {
     "name": "stdout",
     "output_type": "stream",
     "text": [
      "__________Iteration 0______________\n",
      "SLIM weight: 0.5089735567515415\n",
      "RP3b weight: 0.4789097794075289\n",
      "ItemKNN weight: 0.012116663840929657\n",
      "EvaluatorHoldout: Processed 34742 (100.0%) in 13.59 sec. Users per second: 2556\n",
      "EvaluatorHoldout: Processed 35171 (100.0%) in 14.52 sec. Users per second: 2423\n"
     ]
    },
    {
     "name": "stderr",
     "output_type": "stream",
     "text": [
      "[I 2024-12-09 16:57:23,147] Trial 0 finished with value: 0.03055672174843412 and parameters: {'x_0': 0.39270483767627384, 'x_1': 0.4149958258629729, 'x_2': 0.9779942688783423}. Best is trial 0 with value: 0.03055672174843412.\n"
     ]
    },
    {
     "name": "stdout",
     "output_type": "stream",
     "text": [
      "New best on test found! Score is 0.04715511810099454\n",
      "weights: SLIM_w: 0.5089735567515415, RP3b_w: 0.4789097794075289, ItemKNN_w: 0.012116663840929657\n",
      "__________Iteration 1______________\n",
      "SLIM weight: 0.1494157058839569\n",
      "RP3b weight: 0.40278130643031756\n",
      "ItemKNN weight: 0.4478029876857254\n",
      "EvaluatorHoldout: Processed 34742 (100.0%) in 13.26 sec. Users per second: 2620\n",
      "EvaluatorHoldout: Processed 35171 (100.0%) in 14.17 sec. Users per second: 2483\n"
     ]
    },
    {
     "name": "stderr",
     "output_type": "stream",
     "text": [
      "[I 2024-12-09 16:57:50,673] Trial 1 finished with value: 0.02926800094665988 and parameters: {'x_0': 0.36765687066084174, 'x_1': 0.06738446932901954, 'x_2': 0.04984478840830342}. Best is trial 0 with value: 0.03055672174843412.\n"
     ]
    },
    {
     "name": "stdout",
     "output_type": "stream",
     "text": [
      "__________Iteration 2______________\n",
      "SLIM weight: 0.4315265402374147\n",
      "RP3b weight: 0.328371239214261\n",
      "ItemKNN weight: 0.24010222054832422\n",
      "EvaluatorHoldout: Processed 34742 (100.0%) in 13.09 sec. Users per second: 2653\n",
      "EvaluatorHoldout: Processed 35171 (100.0%) in 14.09 sec. Users per second: 2496\n"
     ]
    },
    {
     "name": "stderr",
     "output_type": "stream",
     "text": [
      "[I 2024-12-09 16:58:17,947] Trial 2 finished with value: 0.03040514066045029 and parameters: {'x_0': 0.14156977008549743, 'x_1': 0.22590654931053655, 'x_2': 0.33697549636697754}. Best is trial 0 with value: 0.03055672174843412.\n"
     ]
    },
    {
     "name": "stdout",
     "output_type": "stream",
     "text": [
      "__________Iteration 3______________\n",
      "SLIM weight: 0.22372643942889658\n",
      "RP3b weight: 0.06302667386536023\n",
      "ItemKNN weight: 0.7132468867057432\n",
      "EvaluatorHoldout: Processed 34742 (100.0%) in 13.21 sec. Users per second: 2630\n",
      "EvaluatorHoldout: Processed 35171 (100.0%) in 14.08 sec. Users per second: 2498\n"
     ]
    },
    {
     "name": "stderr",
     "output_type": "stream",
     "text": [
      "[I 2024-12-09 16:58:45,317] Trial 3 finished with value: 0.028227426800550768 and parameters: {'x_0': 0.3787827602276532, 'x_1': 0.7607237722711948, 'x_2': 0.04527878708345634}. Best is trial 0 with value: 0.03055672174843412.\n"
     ]
    },
    {
     "name": "stdout",
     "output_type": "stream",
     "text": [
      "__________Iteration 4______________\n",
      "SLIM weight: 0.03952827748210818\n",
      "RP3b weight: 0.8057524381459026\n",
      "ItemKNN weight: 0.15471928437198923\n",
      "EvaluatorHoldout: Processed 34742 (100.0%) in 13.26 sec. Users per second: 2620\n",
      "EvaluatorHoldout: Processed 35171 (100.0%) in 14.38 sec. Users per second: 2446\n"
     ]
    },
    {
     "name": "stderr",
     "output_type": "stream",
     "text": [
      "[I 2024-12-09 16:59:13,040] Trial 4 finished with value: 0.028961037507320823 and parameters: {'x_0': 0.9642061384731933, 'x_1': 0.47568106397245513, 'x_2': 0.8670391585706109}. Best is trial 0 with value: 0.03055672174843412.\n"
     ]
    },
    {
     "name": "stdout",
     "output_type": "stream",
     "text": [
      "__________Iteration 5______________\n",
      "SLIM weight: 0.3861860632248517\n",
      "RP3b weight: 0.23816653313661426\n",
      "ItemKNN weight: 0.37564740363853405\n",
      "EvaluatorHoldout: Processed 34742 (100.0%) in 13.21 sec. Users per second: 2630\n",
      "EvaluatorHoldout: Processed 35171 (100.0%) in 14.12 sec. Users per second: 2491\n"
     ]
    },
    {
     "name": "stderr",
     "output_type": "stream",
     "text": [
      "[I 2024-12-09 16:59:40,466] Trial 5 finished with value: 0.03004479734057675 and parameters: {'x_0': 0.10750505702143287, 'x_1': 0.2527366263656192, 'x_2': 0.114251076632219}. Best is trial 0 with value: 0.03055672174843412.\n"
     ]
    },
    {
     "name": "stdout",
     "output_type": "stream",
     "text": [
      "__________Iteration 6______________\n",
      "SLIM weight: 0.38635209794952263\n",
      "RP3b weight: 0.019089091341413154\n",
      "ItemKNN weight: 0.5945588107090642\n",
      "EvaluatorHoldout: Processed 34742 (100.0%) in 13.19 sec. Users per second: 2635\n",
      "EvaluatorHoldout: Processed 35171 (100.0%) in 14.13 sec. Users per second: 2489\n"
     ]
    },
    {
     "name": "stderr",
     "output_type": "stream",
     "text": [
      "[I 2024-12-09 17:00:07,882] Trial 6 finished with value: 0.029041751532611963 and parameters: {'x_0': 0.3885774100594891, 'x_1': 0.9543697974205879, 'x_2': 0.23347766182512464}. Best is trial 0 with value: 0.03055672174843412.\n"
     ]
    },
    {
     "name": "stdout",
     "output_type": "stream",
     "text": [
      "__________Iteration 7______________\n",
      "SLIM weight: 0.054008816305784295\n",
      "RP3b weight: 0.2715306634058128\n",
      "ItemKNN weight: 0.6744605202884029\n",
      "EvaluatorHoldout: Processed 34742 (100.0%) in 13.14 sec. Users per second: 2644\n",
      "EvaluatorHoldout: Processed 35171 (100.0%) in 14.13 sec. Users per second: 2490\n"
     ]
    },
    {
     "name": "stderr",
     "output_type": "stream",
     "text": [
      "[I 2024-12-09 17:00:35,247] Trial 7 finished with value: 0.028184741399869224 and parameters: {'x_0': 0.889756055570392, 'x_1': 0.5558510819060356, 'x_2': 0.232539715079653}. Best is trial 0 with value: 0.03055672174843412.\n"
     ]
    },
    {
     "name": "stdout",
     "output_type": "stream",
     "text": [
      "__________Iteration 8______________\n",
      "SLIM weight: 0.6609271911695759\n",
      "RP3b weight: 0.002485099865187778\n",
      "ItemKNN weight: 0.3365877089652364\n",
      "EvaluatorHoldout: Processed 34742 (100.0%) in 13.10 sec. Users per second: 2652\n",
      "EvaluatorHoldout: Processed 35171 (100.0%) in 14.15 sec. Users per second: 2485\n"
     ]
    },
    {
     "name": "stderr",
     "output_type": "stream",
     "text": [
      "[I 2024-12-09 17:01:02,600] Trial 8 finished with value: 0.03028631691388484 and parameters: {'x_0': 0.044646192234188864, 'x_1': 0.9883782084402053, 'x_2': 0.2052963331969213}. Best is trial 0 with value: 0.03055672174843412.\n"
     ]
    },
    {
     "name": "stdout",
     "output_type": "stream",
     "text": [
      "__________Iteration 9______________\n",
      "SLIM weight: 0.16482201301841493\n",
      "RP3b weight: 0.45905790742012037\n",
      "ItemKNN weight: 0.3761200795614647\n",
      "EvaluatorHoldout: Processed 34742 (100.0%) in 13.59 sec. Users per second: 2557\n",
      "EvaluatorHoldout: Processed 35171 (100.0%) in 14.21 sec. Users per second: 2476\n"
     ]
    },
    {
     "name": "stderr",
     "output_type": "stream",
     "text": [
      "[I 2024-12-09 17:01:30,491] Trial 9 finished with value: 0.029447504415769616 and parameters: {'x_0': 0.6484267840646434, 'x_1': 0.2992265230668346, 'x_2': 0.37210967596906797}. Best is trial 0 with value: 0.03055672174843412.\n"
     ]
    },
    {
     "name": "stdout",
     "output_type": "stream",
     "text": [
      "__________Iteration 10______________\n",
      "SLIM weight: 0.4058113828306836\n",
      "RP3b weight: 0.594085419357606\n",
      "ItemKNN weight: 0.00010319781171034526\n",
      "EvaluatorHoldout: Processed 34742 (100.0%) in 13.12 sec. Users per second: 2648\n",
      "EvaluatorHoldout: Processed 35171 (100.0%) in 14.16 sec. Users per second: 2484\n"
     ]
    },
    {
     "name": "stderr",
     "output_type": "stream",
     "text": [
      "[I 2024-12-09 17:01:57,872] Trial 10 finished with value: 0.030160345238779657 and parameters: {'x_0': 0.642060735299042, 'x_1': 0.5227596644111506, 'x_2': 0.9998873330671025}. Best is trial 0 with value: 0.03055672174843412.\n"
     ]
    },
    {
     "name": "stdout",
     "output_type": "stream",
     "text": [
      "__________Iteration 11______________\n",
      "SLIM weight: 0.3428624577967204\n",
      "RP3b weight: 0.5851552787190983\n",
      "ItemKNN weight: 0.0719822634841811\n",
      "EvaluatorHoldout: Processed 34742 (100.0%) in 13.11 sec. Users per second: 2651\n",
      "EvaluatorHoldout: Processed 35171 (100.0%) in 14.14 sec. Users per second: 2487\n"
     ]
    },
    {
     "name": "stderr",
     "output_type": "stream",
     "text": [
      "[I 2024-12-09 17:02:25,221] Trial 11 finished with value: 0.03010083856235405 and parameters: {'x_0': 0.1692430035310642, 'x_1': 0.04823001860536924, 'x_2': 0.6886993501802648}. Best is trial 0 with value: 0.03055672174843412.\n"
     ]
    },
    {
     "name": "stdout",
     "output_type": "stream",
     "text": [
      "__________Iteration 12______________\n",
      "SLIM weight: 0.4360661191926895\n",
      "RP3b weight: 0.3846987470709239\n",
      "ItemKNN weight: 0.1792351337363866\n",
      "EvaluatorHoldout: Processed 34742 (100.0%) in 13.08 sec. Users per second: 2657\n",
      "EvaluatorHoldout: Processed 35171 (100.0%) in 14.13 sec. Users per second: 2489\n"
     ]
    },
    {
     "name": "stderr",
     "output_type": "stream",
     "text": [
      "[I 2024-12-09 17:02:52,530] Trial 12 finished with value: 0.030456196150671785 and parameters: {'x_0': 0.23285854618428692, 'x_1': 0.2764693278860905, 'x_2': 0.5493606265526032}. Best is trial 0 with value: 0.03055672174843412.\n"
     ]
    },
    {
     "name": "stdout",
     "output_type": "stream",
     "text": [
      "__________Iteration 13______________\n",
      "SLIM weight: 0.4683326567208861\n",
      "RP3b weight: 0.36745394404799847\n",
      "ItemKNN weight: 0.16421339923111536\n",
      "EvaluatorHoldout: Processed 34742 (100.0%) in 13.09 sec. Users per second: 2653\n",
      "EvaluatorHoldout: Processed 35171 (100.0%) in 14.17 sec. Users per second: 2481\n"
     ]
    },
    {
     "name": "stderr",
     "output_type": "stream",
     "text": [
      "[I 2024-12-09 17:03:19,898] Trial 13 finished with value: 0.030493540593562848 and parameters: {'x_0': 0.2987274487860092, 'x_1': 0.3875258774509316, 'x_2': 0.6546566259239897}. Best is trial 0 with value: 0.03055672174843412.\n"
     ]
    },
    {
     "name": "stdout",
     "output_type": "stream",
     "text": [
      "New best on test found! Score is 0.047237984215890115\n",
      "weights: SLIM_w: 0.4683326567208861, RP3b_w: 0.36745394404799847, ItemKNN_w: 0.16421339923111536\n",
      "__________Iteration 14______________\n",
      "SLIM weight: 0.3404155480715118\n",
      "RP3b weight: 0.48827292598824595\n",
      "ItemKNN weight: 0.1713115259402422\n",
      "EvaluatorHoldout: Processed 34742 (100.0%) in 13.12 sec. Users per second: 2648\n",
      "EvaluatorHoldout: Processed 35171 (100.0%) in 14.14 sec. Users per second: 2487\n"
     ]
    },
    {
     "name": "stderr",
     "output_type": "stream",
     "text": [
      "[I 2024-12-09 17:03:47,258] Trial 14 finished with value: 0.03022853268492476 and parameters: {'x_0': 0.5454057214108161, 'x_1': 0.41914618982933866, 'x_2': 0.7370656866389499}. Best is trial 0 with value: 0.03055672174843412.\n"
     ]
    },
    {
     "name": "stdout",
     "output_type": "stream",
     "text": [
      "__________Iteration 15______________\n",
      "SLIM weight: 0.6388593683272137\n",
      "RP3b weight: 0.3467646807358023\n",
      "ItemKNN weight: 0.014375950936983989\n",
      "EvaluatorHoldout: Processed 34742 (100.0%) in 13.11 sec. Users per second: 2651\n",
      "EvaluatorHoldout: Processed 35171 (100.0%) in 14.27 sec. Users per second: 2465\n"
     ]
    },
    {
     "name": "stderr",
     "output_type": "stream",
     "text": [
      "[I 2024-12-09 17:04:14,729] Trial 15 finished with value: 0.030830865024995168 and parameters: {'x_0': 0.49878320606940335, 'x_1': 0.685536222795834, 'x_2': 0.9844694694743341}. Best is trial 15 with value: 0.030830865024995168.\n"
     ]
    },
    {
     "name": "stdout",
     "output_type": "stream",
     "text": [
      "New best on test found! Score is 0.04773058995664071\n",
      "weights: SLIM_w: 0.6388593683272137, RP3b_w: 0.3467646807358023, ItemKNN_w: 0.014375950936983989\n",
      "__________Iteration 16______________\n",
      "SLIM weight: 0.4171658172533546\n",
      "RP3b weight: 0.5760825076200855\n",
      "ItemKNN weight: 0.006751675126560034\n",
      "EvaluatorHoldout: Processed 34742 (100.0%) in 13.42 sec. Users per second: 2588\n",
      "EvaluatorHoldout: Processed 35171 (100.0%) in 14.74 sec. Users per second: 2387\n"
     ]
    },
    {
     "name": "stderr",
     "output_type": "stream",
     "text": [
      "[I 2024-12-09 17:04:42,992] Trial 16 finished with value: 0.03024406669389599 and parameters: {'x_0': 0.7572716540931954, 'x_1': 0.6811666814989977, 'x_2': 0.9955102437255414}. Best is trial 15 with value: 0.030830865024995168.\n"
     ]
    },
    {
     "name": "stdout",
     "output_type": "stream",
     "text": [
      "__________Iteration 17______________\n",
      "SLIM weight: 0.5508831802130073\n",
      "RP3b weight: 0.3128222991290391\n",
      "ItemKNN weight: 0.1362945206579537\n",
      "EvaluatorHoldout: Processed 34742 (100.0%) in 13.45 sec. Users per second: 2582\n",
      "EvaluatorHoldout: Processed 35171 (100.0%) in 14.47 sec. Users per second: 2430\n"
     ]
    },
    {
     "name": "stderr",
     "output_type": "stream",
     "text": [
      "[I 2024-12-09 17:05:11,014] Trial 17 finished with value: 0.03068506692873358 and parameters: {'x_0': 0.5070534706898921, 'x_1': 0.6800064287441103, 'x_2': 0.8453315455565218}. Best is trial 15 with value: 0.030830865024995168.\n"
     ]
    },
    {
     "name": "stdout",
     "output_type": "stream",
     "text": [
      "__________Iteration 18______________\n",
      "SLIM weight: 0.6060823970672068\n",
      "RP3b weight: 0.22040441568260152\n",
      "ItemKNN weight: 0.17351318725019174\n",
      "EvaluatorHoldout: Processed 34742 (100.0%) in 13.23 sec. Users per second: 2626\n",
      "EvaluatorHoldout: Processed 35171 (100.0%) in 14.34 sec. Users per second: 2453\n"
     ]
    },
    {
     "name": "stderr",
     "output_type": "stream",
     "text": [
      "[I 2024-12-09 17:05:38,692] Trial 18 finished with value: 0.03073305102556356 and parameters: {'x_0': 0.515067123982291, 'x_1': 0.7856300174482271, 'x_2': 0.8270095304993245}. Best is trial 15 with value: 0.030830865024995168.\n"
     ]
    },
    {
     "name": "stdout",
     "output_type": "stream",
     "text": [
      "__________Iteration 19______________\n",
      "SLIM weight: 0.4245681121650975\n",
      "RP3b weight: 0.33048910285546446\n",
      "ItemKNN weight: 0.24494278497943803\n",
      "EvaluatorHoldout: Processed 34742 (100.0%) in 13.15 sec. Users per second: 2642\n",
      "EvaluatorHoldout: Processed 35171 (100.0%) in 14.21 sec. Users per second: 2475\n"
     ]
    },
    {
     "name": "stderr",
     "output_type": "stream",
     "text": [
      "[I 2024-12-09 17:06:06,150] Trial 19 finished with value: 0.030380345640836307 and parameters: {'x_0': 0.7577260846364733, 'x_1': 0.8057695037366877, 'x_2': 0.8520948311390915}. Best is trial 15 with value: 0.030830865024995168.\n"
     ]
    },
    {
     "name": "stdout",
     "output_type": "stream",
     "text": [
      "__________Iteration 20______________\n",
      "SLIM weight: 0.408624308955433\n",
      "RP3b weight: 0.11268642162318107\n",
      "ItemKNN weight: 0.4786892694213859\n",
      "EvaluatorHoldout: Processed 34742 (100.0%) in 13.10 sec. Users per second: 2652\n",
      "EvaluatorHoldout: Processed 35171 (100.0%) in 14.15 sec. Users per second: 2485\n"
     ]
    },
    {
     "name": "stderr",
     "output_type": "stream",
     "text": [
      "[I 2024-12-09 17:06:33,505] Trial 20 finished with value: 0.029624987321506535 and parameters: {'x_0': 0.5984605637913543, 'x_1': 0.8679866344034464, 'x_2': 0.5480306274430189}. Best is trial 15 with value: 0.030830865024995168.\n"
     ]
    },
    {
     "name": "stdout",
     "output_type": "stream",
     "text": [
      "__________Iteration 21______________\n",
      "SLIM weight: 0.5397582602437876\n",
      "RP3b weight: 0.3161764392534838\n",
      "ItemKNN weight: 0.14406530050272873\n",
      "EvaluatorHoldout: Processed 34742 (100.0%) in 13.12 sec. Users per second: 2648\n",
      "EvaluatorHoldout: Processed 35171 (100.0%) in 14.29 sec. Users per second: 2461\n"
     ]
    },
    {
     "name": "stderr",
     "output_type": "stream",
     "text": [
      "[I 2024-12-09 17:07:01,017] Trial 21 finished with value: 0.030668669411616528 and parameters: {'x_0': 0.4707153137215589, 'x_1': 0.6431470552110189, 'x_2': 0.8178184068354374}. Best is trial 15 with value: 0.030830865024995168.\n"
     ]
    },
    {
     "name": "stdout",
     "output_type": "stream",
     "text": [
      "__________Iteration 22______________\n",
      "SLIM weight: 0.57445202116562\n",
      "RP3b weight: 0.3493518110588118\n",
      "ItemKNN weight: 0.07619616777556824\n",
      "EvaluatorHoldout: Processed 34742 (100.0%) in 13.25 sec. Users per second: 2623\n",
      "EvaluatorHoldout: Processed 35171 (100.0%) in 14.22 sec. Users per second: 2474\n"
     ]
    },
    {
     "name": "stderr",
     "output_type": "stream",
     "text": [
      "[I 2024-12-09 17:07:28,576] Trial 22 finished with value: 0.030763621041453925 and parameters: {'x_0': 0.49526619087834184, 'x_1': 0.6522540348482454, 'x_2': 0.9110095934298554}. Best is trial 15 with value: 0.030830865024995168.\n"
     ]
    },
    {
     "name": "stdout",
     "output_type": "stream",
     "text": [
      "__________Iteration 23______________\n",
      "SLIM weight: 0.3372406603185536\n",
      "RP3b weight: 0.5455075921053029\n",
      "ItemKNN weight: 0.11725174757614361\n",
      "EvaluatorHoldout: Processed 34742 (100.0%) in 13.14 sec. Users per second: 2644\n",
      "EvaluatorHoldout: Processed 35171 (100.0%) in 14.20 sec. Users per second: 2477\n"
     ]
    },
    {
     "name": "stderr",
     "output_type": "stream",
     "text": [
      "[I 2024-12-09 17:07:56,016] Trial 23 finished with value: 0.030140494831286106 and parameters: {'x_0': 0.7320496678137243, 'x_1': 0.6037900777042916, 'x_2': 0.8972293917581381}. Best is trial 15 with value: 0.030830865024995168.\n"
     ]
    },
    {
     "name": "stdout",
     "output_type": "stream",
     "text": [
      "__________Iteration 24______________\n",
      "SLIM weight: 0.5806482592863635\n",
      "RP3b weight: 0.20428120589627716\n",
      "ItemKNN weight: 0.2150705348173593\n",
      "EvaluatorHoldout: Processed 34742 (100.0%) in 13.09 sec. Users per second: 2654\n",
      "EvaluatorHoldout: Processed 35171 (100.0%) in 14.19 sec. Users per second: 2478\n"
     ]
    },
    {
     "name": "stderr",
     "output_type": "stream",
     "text": [
      "[I 2024-12-09 17:08:23,406] Trial 24 finished with value: 0.030609495117294633 and parameters: {'x_0': 0.4755099220232136, 'x_1': 0.769874003554089, 'x_2': 0.7593129178558546}. Best is trial 15 with value: 0.030830865024995168.\n"
     ]
    },
    {
     "name": "stdout",
     "output_type": "stream",
     "text": [
      "__________Iteration 25______________\n",
      "SLIM weight: 0.5194584280974123\n",
      "RP3b weight: 0.10280152218630856\n",
      "ItemKNN weight: 0.3777400497162791\n",
      "EvaluatorHoldout: Processed 34742 (100.0%) in 13.10 sec. Users per second: 2652\n",
      "EvaluatorHoldout: Processed 35171 (100.0%) in 14.19 sec. Users per second: 2479\n"
     ]
    },
    {
     "name": "stderr",
     "output_type": "stream",
     "text": [
      "[I 2024-12-09 17:08:50,789] Trial 25 finished with value: 0.03017460226083698 and parameters: {'x_0': 0.5542439563631203, 'x_1': 0.8897706503799019, 'x_2': 0.6510649793328223}. Best is trial 15 with value: 0.030830865024995168.\n"
     ]
    },
    {
     "name": "stdout",
     "output_type": "stream",
     "text": [
      "__________Iteration 26______________\n",
      "SLIM weight: 0.7517165429255965\n",
      "RP3b weight: 0.21802522423727191\n",
      "ItemKNN weight: 0.03025823283713163\n",
      "EvaluatorHoldout: Processed 34742 (100.0%) in 13.13 sec. Users per second: 2646\n",
      "EvaluatorHoldout: Processed 35171 (100.0%) in 14.27 sec. Users per second: 2465\n"
     ]
    },
    {
     "name": "stderr",
     "output_type": "stream",
     "text": [
      "[I 2024-12-09 17:09:18,280] Trial 26 finished with value: 0.030868107811504036 and parameters: {'x_0': 0.2805755554366556, 'x_1': 0.6916944848346203, 'x_2': 0.9501294948146226}. Best is trial 26 with value: 0.030868107811504036.\n"
     ]
    },
    {
     "name": "stdout",
     "output_type": "stream",
     "text": [
      "New best on test found! Score is 0.047955031945959986\n",
      "weights: SLIM_w: 0.7517165429255965, RP3b_w: 0.21802522423727191, ItemKNN_w: 0.03025823283713163\n",
      "__________Iteration 27______________\n",
      "SLIM weight: 0.7918260838096897\n",
      "RP3b weight: 0.16918226227835356\n",
      "ItemKNN weight: 0.03899165391195677\n",
      "EvaluatorHoldout: Processed 34742 (100.0%) in 13.09 sec. Users per second: 2655\n",
      "EvaluatorHoldout: Processed 35171 (100.0%) in 14.18 sec. Users per second: 2480\n"
     ]
    },
    {
     "name": "stderr",
     "output_type": "stream",
     "text": [
      "[I 2024-12-09 17:09:45,643] Trial 27 finished with value: 0.030872170640174005 and parameters: {'x_0': 0.2068896010186737, 'x_1': 0.7141675558248751, 'x_2': 0.9253480722508783}. Best is trial 27 with value: 0.030872170640174005.\n"
     ]
    },
    {
     "name": "stdout",
     "output_type": "stream",
     "text": [
      "New best on test found! Score is 0.04796367001493183\n",
      "weights: SLIM_w: 0.7918260838096897, RP3b_w: 0.16918226227835356, ItemKNN_w: 0.03899165391195677\n",
      "__________Iteration 28______________\n",
      "SLIM weight: 0.6971118459287662\n",
      "RP3b weight: 0.271986454600136\n",
      "ItemKNN weight: 0.030901699471097905\n",
      "EvaluatorHoldout: Processed 34742 (100.0%) in 13.12 sec. Users per second: 2647\n",
      "EvaluatorHoldout: Processed 35171 (100.0%) in 14.21 sec. Users per second: 2476\n"
     ]
    },
    {
     "name": "stderr",
     "output_type": "stream",
     "text": [
      "[I 2024-12-09 17:10:13,064] Trial 28 finished with value: 0.030850844501827943 and parameters: {'x_0': 0.24828781933259614, 'x_1': 0.5806770727861195, 'x_2': 0.9401117367203659}. Best is trial 27 with value: 0.030872170640174005.\n"
     ]
    },
    {
     "name": "stdout",
     "output_type": "stream",
     "text": [
      "__________Iteration 29______________\n",
      "SLIM weight: 0.6692933186628435\n",
      "RP3b weight: 0.29398013856968686\n",
      "ItemKNN weight: 0.03672654276746966\n",
      "EvaluatorHoldout: Processed 34742 (100.0%) in 13.12 sec. Users per second: 2648\n",
      "EvaluatorHoldout: Processed 35171 (100.0%) in 14.21 sec. Users per second: 2475\n"
     ]
    },
    {
     "name": "stderr",
     "output_type": "stream",
     "text": [
      "[I 2024-12-09 17:10:40,483] Trial 29 finished with value: 0.03080434184688307 and parameters: {'x_0': 0.2656925167881894, 'x_1': 0.5586818932639922, 'x_2': 0.9298515375527656}. Best is trial 27 with value: 0.030872170640174005.\n"
     ]
    },
    {
     "name": "stdout",
     "output_type": "stream",
     "text": [
      "__________Iteration 30______________\n",
      "SLIM weight: 0.8189860537540127\n",
      "RP3b weight: 0.13504662697613978\n",
      "ItemKNN weight: 0.04596731926984743\n",
      "EvaluatorHoldout: Processed 34742 (100.0%) in 13.15 sec. Users per second: 2642\n",
      "EvaluatorHoldout: Processed 35171 (100.0%) in 14.18 sec. Users per second: 2480\n"
     ]
    },
    {
     "name": "stderr",
     "output_type": "stream",
     "text": [
      "[I 2024-12-09 17:11:07,907] Trial 30 finished with value: 0.03086770461259475 and parameters: {'x_0': 0.006789413595570198, 'x_1': 0.4390158387076213, 'x_2': 0.7556262103980866}. Best is trial 27 with value: 0.030872170640174005.\n"
     ]
    },
    {
     "name": "stdout",
     "output_type": "stream",
     "text": [
      "New best on test found! Score is 0.047969173737560364\n",
      "weights: SLIM_w: 0.8189860537540127, RP3b_w: 0.13504662697613978, ItemKNN_w: 0.04596731926984743\n",
      "__________Iteration 31______________\n",
      "SLIM weight: 0.719881282185626\n",
      "RP3b weight: 0.21654172950675835\n",
      "ItemKNN weight: 0.06357698830761559\n",
      "EvaluatorHoldout: Processed 34742 (100.0%) in 13.16 sec. Users per second: 2639\n",
      "EvaluatorHoldout: Processed 35171 (100.0%) in 14.23 sec. Users per second: 2472\n"
     ]
    },
    {
     "name": "stderr",
     "output_type": "stream",
     "text": [
      "[I 2024-12-09 17:11:35,388] Trial 31 finished with value: 0.030868300844409537 and parameters: {'x_0': 0.05872258261178493, 'x_1': 0.4262399241632634, 'x_2': 0.7785130121518343}. Best is trial 27 with value: 0.030872170640174005.\n"
     ]
    },
    {
     "name": "stdout",
     "output_type": "stream",
     "text": [
      "New best on test found! Score is 0.04798678948610511\n",
      "weights: SLIM_w: 0.719881282185626, RP3b_w: 0.21654172950675835, ItemKNN_w: 0.06357698830761559\n",
      "__________Iteration 32______________\n",
      "SLIM weight: 0.779388838017062\n",
      "RP3b weight: 0.16189251971975183\n",
      "ItemKNN weight: 0.058718642263186106\n",
      "EvaluatorHoldout: Processed 34742 (100.0%) in 13.11 sec. Users per second: 2649\n",
      "EvaluatorHoldout: Processed 35171 (100.0%) in 14.21 sec. Users per second: 2475\n"
     ]
    },
    {
     "name": "stderr",
     "output_type": "stream",
     "text": [
      "[I 2024-12-09 17:12:02,805] Trial 32 finished with value: 0.03087082968969363 and parameters: {'x_0': 0.023860246914759853, 'x_1': 0.4602725450381495, 'x_2': 0.7547012979391994}. Best is trial 27 with value: 0.030872170640174005.\n"
     ]
    },
    {
     "name": "stdout",
     "output_type": "stream",
     "text": [
      "__________Iteration 33______________\n",
      "SLIM weight: 0.5175867806451163\n",
      "RP3b weight: 0.42213591180100407\n",
      "ItemKNN weight: 0.06027730755387968\n",
      "EvaluatorHoldout: Processed 34742 (100.0%) in 13.14 sec. Users per second: 2645\n",
      "EvaluatorHoldout: Processed 35171 (100.0%) in 14.22 sec. Users per second: 2473\n"
     ]
    },
    {
     "name": "stderr",
     "output_type": "stream",
     "text": [
      "[I 2024-12-09 17:12:30,252] Trial 33 finished with value: 0.03063152028604411 and parameters: {'x_0': 0.09049084861302838, 'x_1': 0.14093622006269946, 'x_2': 0.7559409814078114}. Best is trial 27 with value: 0.030872170640174005.\n"
     ]
    },
    {
     "name": "stdout",
     "output_type": "stream",
     "text": [
      "__________Iteration 34______________\n",
      "SLIM weight: 0.5111082565936612\n",
      "RP3b weight: 0.32496993574758276\n",
      "ItemKNN weight: 0.163921807658756\n",
      "EvaluatorHoldout: Processed 34742 (100.0%) in 13.13 sec. Users per second: 2646\n",
      "EvaluatorHoldout: Processed 35171 (100.0%) in 14.20 sec. Users per second: 2477\n"
     ]
    },
    {
     "name": "stderr",
     "output_type": "stream",
     "text": [
      "[I 2024-12-09 17:12:57,672] Trial 34 finished with value: 0.030609796659821765 and parameters: {'x_0': 0.19024097998277958, 'x_1': 0.3481538710030091, 'x_2': 0.5872994261439268}. Best is trial 27 with value: 0.030872170640174005.\n"
     ]
    },
    {
     "name": "stdout",
     "output_type": "stream",
     "text": [
      "__________Iteration 35______________\n",
      "SLIM weight: 0.5371443096450904\n",
      "RP3b weight: 0.3503747466821974\n",
      "ItemKNN weight: 0.11248094367271214\n",
      "EvaluatorHoldout: Processed 34742 (100.0%) in 13.21 sec. Users per second: 2630\n",
      "EvaluatorHoldout: Processed 35171 (100.0%) in 14.21 sec. Users per second: 2474\n"
     ]
    },
    {
     "name": "stderr",
     "output_type": "stream",
     "text": [
      "[I 2024-12-09 17:13:25,185] Trial 35 finished with value: 0.030691652891654906 and parameters: {'x_0': 0.3271709807475768, 'x_1': 0.4824936912021369, 'x_2': 0.7913911614213767}. Best is trial 27 with value: 0.030872170640174005.\n"
     ]
    },
    {
     "name": "stdout",
     "output_type": "stream",
     "text": [
      "__________Iteration 36______________\n",
      "SLIM weight: 0.5537448010272898\n",
      "RP3b weight: 0.36682434752402054\n",
      "ItemKNN weight: 0.07943085144868954\n",
      "EvaluatorHoldout: Processed 34742 (100.0%) in 13.12 sec. Users per second: 2648\n",
      "EvaluatorHoldout: Processed 35171 (100.0%) in 14.55 sec. Users per second: 2417\n"
     ]
    },
    {
     "name": "stderr",
     "output_type": "stream",
     "text": [
      "[I 2024-12-09 17:13:52,955] Trial 36 finished with value: 0.030708514144628083 and parameters: {'x_0': 0.08169526204612962, 'x_1': 0.19027970522886228, 'x_2': 0.6981716100767785}. Best is trial 27 with value: 0.030872170640174005.\n"
     ]
    },
    {
     "name": "stdout",
     "output_type": "stream",
     "text": [
      "__________Iteration 37______________\n",
      "SLIM weight: 0.6849713575037601\n",
      "RP3b weight: 0.16929608851635083\n",
      "ItemKNN weight: 0.14573255397988896\n",
      "EvaluatorHoldout: Processed 34742 (100.0%) in 13.62 sec. Users per second: 2551\n",
      "EvaluatorHoldout: Processed 35171 (100.0%) in 14.31 sec. Users per second: 2457\n"
     ]
    },
    {
     "name": "stderr",
     "output_type": "stream",
     "text": [
      "[I 2024-12-09 17:14:20,991] Trial 37 finished with value: 0.030831211113577464 and parameters: {'x_0': 0.012600893767405086, 'x_1': 0.33923384089416414, 'x_2': 0.39431818376373334}. Best is trial 27 with value: 0.030872170640174005.\n"
     ]
    },
    {
     "name": "stdout",
     "output_type": "stream",
     "text": [
      "__________Iteration 38______________\n",
      "SLIM weight: 0.5512178989564145\n",
      "RP3b weight: 0.2111649216048238\n",
      "ItemKNN weight: 0.23761717943876168\n",
      "EvaluatorHoldout: Processed 34742 (100.0%) in 13.18 sec. Users per second: 2636\n",
      "EvaluatorHoldout: Processed 35171 (100.0%) in 14.20 sec. Users per second: 2476\n"
     ]
    },
    {
     "name": "stderr",
     "output_type": "stream",
     "text": [
      "[I 2024-12-09 17:14:48,477] Trial 38 finished with value: 0.03053489418141627 and parameters: {'x_0': 0.14669474216448664, 'x_1': 0.4793618615493427, 'x_2': 0.43718047191870524}. Best is trial 27 with value: 0.030872170640174005.\n"
     ]
    },
    {
     "name": "stdout",
     "output_type": "stream",
     "text": [
      "__________Iteration 39______________\n",
      "SLIM weight: 0.8355105728032787\n",
      "RP3b weight: 0.12266266254027883\n",
      "ItemKNN weight: 0.04182676465644242\n",
      "EvaluatorHoldout: Processed 34742 (100.0%) in 13.16 sec. Users per second: 2640\n",
      "EvaluatorHoldout: Processed 35171 (100.0%) in 14.21 sec. Users per second: 2475\n"
     ]
    },
    {
     "name": "stderr",
     "output_type": "stream",
     "text": [
      "[I 2024-12-09 17:15:15,953] Trial 39 finished with value: 0.030852892478157996 and parameters: {'x_0': 0.11343723988580905, 'x_1': 0.7264858231135392, 'x_2': 0.8967674108744323}. Best is trial 27 with value: 0.030872170640174005.\n"
     ]
    },
    {
     "name": "stdout",
     "output_type": "stream",
     "text": [
      "__________Iteration 40______________\n",
      "SLIM weight: 0.7031655903203791\n",
      "RP3b weight: 0.27306023755794945\n",
      "ItemKNN weight: 0.023774172121671315\n",
      "EvaluatorHoldout: Processed 34742 (100.0%) in 13.11 sec. Users per second: 2650\n",
      "EvaluatorHoldout: Processed 35171 (100.0%) in 14.20 sec. Users per second: 2477\n"
     ]
    },
    {
     "name": "stderr",
     "output_type": "stream",
     "text": [
      "[I 2024-12-09 17:15:43,366] Trial 40 finished with value: 0.03085058179432333 and parameters: {'x_0': 0.1920536363962978, 'x_1': 0.526904041900477, 'x_2': 0.9457413322186359}. Best is trial 27 with value: 0.030872170640174005.\n"
     ]
    },
    {
     "name": "stdout",
     "output_type": "stream",
     "text": [
      "__________Iteration 41______________\n",
      "SLIM weight: 0.7469883083111171\n",
      "RP3b weight: 0.19615240726521335\n",
      "ItemKNN weight: 0.05685928442366965\n",
      "EvaluatorHoldout: Processed 34742 (100.0%) in 13.17 sec. Users per second: 2639\n",
      "EvaluatorHoldout: Processed 35171 (100.0%) in 14.22 sec. Users per second: 2474\n"
     ]
    },
    {
     "name": "stderr",
     "output_type": "stream",
     "text": [
      "[I 2024-12-09 17:16:10,847] Trial 41 finished with value: 0.030876134096874737 and parameters: {'x_0': 0.04274357297268558, 'x_1': 0.4369975472478036, 'x_2': 0.7866554815692683}. Best is trial 41 with value: 0.030876134096874737.\n"
     ]
    },
    {
     "name": "stdout",
     "output_type": "stream",
     "text": [
      "New best on test found! Score is 0.047994654687098216\n",
      "weights: SLIM_w: 0.7469883083111171, RP3b_w: 0.19615240726521335, ItemKNN_w: 0.05685928442366965\n",
      "__________Iteration 42______________\n",
      "SLIM weight: 0.6978114133121018\n",
      "RP3b weight: 0.2468801578788248\n",
      "ItemKNN weight: 0.05530842880907332\n",
      "EvaluatorHoldout: Processed 34742 (100.0%) in 13.14 sec. Users per second: 2644\n",
      "EvaluatorHoldout: Processed 35171 (100.0%) in 14.16 sec. Users per second: 2485\n"
     ]
    },
    {
     "name": "stderr",
     "output_type": "stream",
     "text": [
      "[I 2024-12-09 17:16:38,246] Trial 42 finished with value: 0.030855143767252128 and parameters: {'x_0': 0.0635948445308504, 'x_1': 0.3772768327067549, 'x_2': 0.803821093559013}. Best is trial 41 with value: 0.030876134096874737.\n"
     ]
    },
    {
     "name": "stdout",
     "output_type": "stream",
     "text": [
      "__________Iteration 43______________\n",
      "SLIM weight: 0.831319210537404\n",
      "RP3b weight: 0.13199191743560376\n",
      "ItemKNN weight: 0.03668887202699229\n",
      "EvaluatorHoldout: Processed 34742 (100.0%) in 13.13 sec. Users per second: 2646\n",
      "EvaluatorHoldout: Processed 35171 (100.0%) in 14.18 sec. Users per second: 2480\n"
     ]
    },
    {
     "name": "stderr",
     "output_type": "stream",
     "text": [
      "[I 2024-12-09 17:17:05,662] Trial 43 finished with value: 0.030875725186932768 and parameters: {'x_0': 0.04134985212854542, 'x_1': 0.6030203497477372, 'x_2': 0.8688412073548732}. Best is trial 41 with value: 0.030876134096874737.\n"
     ]
    },
    {
     "name": "stdout",
     "output_type": "stream",
     "text": [
      "__________Iteration 44______________\n",
      "SLIM weight: 0.7058126208121037\n",
      "RP3b weight: 0.18473772542666425\n",
      "ItemKNN weight: 0.109449653761232\n",
      "EvaluatorHoldout: Processed 34742 (100.0%) in 13.49 sec. Users per second: 2575\n",
      "EvaluatorHoldout: Processed 35171 (100.0%) in 14.46 sec. Users per second: 2432\n"
     ]
    },
    {
     "name": "stderr",
     "output_type": "stream",
     "text": [
      "[I 2024-12-09 17:17:33,720] Trial 44 finished with value: 0.030897923971076678 and parameters: {'x_0': 0.0432213086962772, 'x_1': 0.43945134659340257, 'x_2': 0.614382796595677}. Best is trial 44 with value: 0.030897923971076678.\n"
     ]
    },
    {
     "name": "stdout",
     "output_type": "stream",
     "text": [
      "__________Iteration 45______________\n",
      "SLIM weight: 0.688912530399442\n",
      "RP3b weight: 0.15624002663732986\n",
      "ItemKNN weight: 0.1548474429632281\n",
      "EvaluatorHoldout: Processed 34742 (100.0%) in 13.14 sec. Users per second: 2644\n",
      "EvaluatorHoldout: Processed 35171 (100.0%) in 14.26 sec. Users per second: 2467\n"
     ]
    },
    {
     "name": "stderr",
     "output_type": "stream",
     "text": [
      "[I 2024-12-09 17:18:01,214] Trial 45 finished with value: 0.030836195702926783 and parameters: {'x_0': 0.11923474100398616, 'x_1': 0.6173554844593598, 'x_2': 0.620015135392042}. Best is trial 44 with value: 0.030897923971076678.\n"
     ]
    },
    {
     "name": "stdout",
     "output_type": "stream",
     "text": [
      "__________Iteration 46______________\n",
      "SLIM weight: 0.8455247483246917\n",
      "RP3b weight: 0.09868209592487089\n",
      "ItemKNN weight: 0.05579315575043749\n",
      "EvaluatorHoldout: Processed 34742 (100.0%) in 13.14 sec. Users per second: 2644\n",
      "EvaluatorHoldout: Processed 35171 (100.0%) in 14.25 sec. Users per second: 2468\n"
     ]
    },
    {
     "name": "stderr",
     "output_type": "stream",
     "text": [
      "[I 2024-12-09 17:18:28,705] Trial 46 finished with value: 0.030863003290467865 and parameters: {'x_0': 0.003945476063337276, 'x_1': 0.5241290079969209, 'x_2': 0.6940251252781185}. Best is trial 44 with value: 0.030897923971076678.\n"
     ]
    },
    {
     "name": "stdout",
     "output_type": "stream",
     "text": [
      "__________Iteration 47______________\n",
      "SLIM weight: 0.4900994540229749\n",
      "RP3b weight: 0.2628694056603223\n",
      "ItemKNN weight: 0.24703114031670279\n",
      "EvaluatorHoldout: Processed 34742 (100.0%) in 13.18 sec. Users per second: 2637\n",
      "EvaluatorHoldout: Processed 35171 (100.0%) in 14.25 sec. Users per second: 2468\n"
     ]
    },
    {
     "name": "stderr",
     "output_type": "stream",
     "text": [
      "[I 2024-12-09 17:18:56,233] Trial 47 finished with value: 0.030472177904607513 and parameters: {'x_0': 0.21799493233409695, 'x_1': 0.441742887329184, 'x_2': 0.464032733160194}. Best is trial 44 with value: 0.030897923971076678.\n"
     ]
    },
    {
     "name": "stdout",
     "output_type": "stream",
     "text": [
      "__________Iteration 48______________\n",
      "SLIM weight: 0.6169062414729987\n",
      "RP3b weight: 0.3401786383086354\n",
      "ItemKNN weight: 0.04291512021836615\n",
      "EvaluatorHoldout: Processed 34742 (100.0%) in 13.18 sec. Users per second: 2636\n",
      "EvaluatorHoldout: Processed 35171 (100.0%) in 14.17 sec. Users per second: 2483\n"
     ]
    },
    {
     "name": "stderr",
     "output_type": "stream",
     "text": [
      "[I 2024-12-09 17:19:23,676] Trial 48 finished with value: 0.0308002241922992 and parameters: {'x_0': 0.14621129489179463, 'x_1': 0.34637624329458366, 'x_2': 0.874806189505547}. Best is trial 44 with value: 0.030897923971076678.\n"
     ]
    },
    {
     "name": "stdout",
     "output_type": "stream",
     "text": [
      "__________Iteration 49______________\n",
      "SLIM weight: 0.6648993511392963\n",
      "RP3b weight: 0.2641338916591598\n",
      "ItemKNN weight: 0.0709667572015439\n",
      "EvaluatorHoldout: Processed 34742 (100.0%) in 13.16 sec. Users per second: 2640\n",
      "EvaluatorHoldout: Processed 35171 (100.0%) in 14.26 sec. Users per second: 2467\n"
     ]
    },
    {
     "name": "stderr",
     "output_type": "stream",
     "text": [
      "[I 2024-12-09 17:19:51,185] Trial 49 finished with value: 0.03083429507124083 and parameters: {'x_0': 0.05146458832052945, 'x_1': 0.3077100402581984, 'x_2': 0.7285767882893177}. Best is trial 44 with value: 0.030897923971076678.\n"
     ]
    },
    {
     "name": "stdout",
     "output_type": "stream",
     "text": [
      "__________Iteration 50______________\n",
      "SLIM weight: 0.2939675098195433\n",
      "RP3b weight: 0.4885368873874915\n",
      "ItemKNN weight: 0.21749560279296512\n",
      "EvaluatorHoldout: Processed 34742 (100.0%) in 13.14 sec. Users per second: 2644\n",
      "EvaluatorHoldout: Processed 35171 (100.0%) in 14.22 sec. Users per second: 2473\n"
     ]
    },
    {
     "name": "stderr",
     "output_type": "stream",
     "text": [
      "[I 2024-12-09 17:20:18,644] Trial 50 finished with value: 0.030092987034584302 and parameters: {'x_0': 0.42390465984315145, 'x_1': 0.24019656420898336, 'x_2': 0.5299435710710141}. Best is trial 44 with value: 0.030897923971076678.\n"
     ]
    },
    {
     "name": "stdout",
     "output_type": "stream",
     "text": [
      "__________Iteration 51______________\n",
      "SLIM weight: 0.7282762691789515\n",
      "RP3b weight: 0.2154951647800629\n",
      "ItemKNN weight: 0.05622856604098553\n",
      "EvaluatorHoldout: Processed 34742 (100.0%) in 13.11 sec. Users per second: 2650\n",
      "EvaluatorHoldout: Processed 35171 (100.0%) in 14.24 sec. Users per second: 2470\n"
     ]
    },
    {
     "name": "stderr",
     "output_type": "stream",
     "text": [
      "[I 2024-12-09 17:20:46,084] Trial 51 finished with value: 0.03086045845429212 and parameters: {'x_0': 0.04413593277384201, 'x_1': 0.39718913753525437, 'x_2': 0.7859003365349341}. Best is trial 44 with value: 0.030897923971076678.\n"
     ]
    },
    {
     "name": "stdout",
     "output_type": "stream",
     "text": [
      "__________Iteration 52______________\n",
      "SLIM weight: 0.6974549503918444\n",
      "RP3b weight: 0.18825345251583842\n",
      "ItemKNN weight: 0.11429159709231723\n",
      "EvaluatorHoldout: Processed 34742 (100.0%) in 13.15 sec. Users per second: 2643\n",
      "EvaluatorHoldout: Processed 35171 (100.0%) in 14.22 sec. Users per second: 2474\n"
     ]
    },
    {
     "name": "stderr",
     "output_type": "stream",
     "text": [
      "[I 2024-12-09 17:21:13,541] Trial 52 finished with value: 0.03090222552091392 and parameters: {'x_0': 0.04840192890272181, 'x_1': 0.4415957619499785, 'x_2': 0.6088202615877887}. Best is trial 52 with value: 0.03090222552091392.\n"
     ]
    },
    {
     "name": "stdout",
     "output_type": "stream",
     "text": [
      "__________Iteration 53______________\n",
      "SLIM weight: 0.6413573005013798\n",
      "RP3b weight: 0.21849921253379187\n",
      "ItemKNN weight: 0.14014348696482823\n",
      "EvaluatorHoldout: Processed 34742 (100.0%) in 13.15 sec. Users per second: 2642\n",
      "EvaluatorHoldout: Processed 35171 (100.0%) in 14.24 sec. Users per second: 2470\n"
     ]
    },
    {
     "name": "stderr",
     "output_type": "stream",
     "text": [
      "[I 2024-12-09 17:21:41,028] Trial 53 finished with value: 0.0307735273987928 and parameters: {'x_0': 0.1056146248522796, 'x_1': 0.46494316347382886, 'x_2': 0.6118897503768286}. Best is trial 52 with value: 0.03090222552091392.\n"
     ]
    },
    {
     "name": "stdout",
     "output_type": "stream",
     "text": [
      "__________Iteration 54______________\n",
      "SLIM weight: 0.6015100905974561\n",
      "RP3b weight: 0.21809341718836173\n",
      "ItemKNN weight: 0.18039649221418222\n",
      "EvaluatorHoldout: Processed 34742 (100.0%) in 13.66 sec. Users per second: 2544\n",
      "EvaluatorHoldout: Processed 35171 (100.0%) in 14.41 sec. Users per second: 2441\n"
     ]
    },
    {
     "name": "stderr",
     "output_type": "stream",
     "text": [
      "[I 2024-12-09 17:22:09,197] Trial 54 finished with value: 0.03073488883588967 and parameters: {'x_0': 0.16606795688515907, 'x_1': 0.5215476319048009, 'x_2': 0.5836587986124557}. Best is trial 52 with value: 0.03090222552091392.\n"
     ]
    },
    {
     "name": "stdout",
     "output_type": "stream",
     "text": [
      "__________Iteration 55______________\n",
      "SLIM weight: 0.7123557319734336\n",
      "RP3b weight: 0.12944253898860159\n",
      "ItemKNN weight: 0.1582017290379648\n",
      "EvaluatorHoldout: Processed 34742 (100.0%) in 13.22 sec. Users per second: 2629\n",
      "EvaluatorHoldout: Processed 35171 (100.0%) in 14.30 sec. Users per second: 2460\n"
     ]
    },
    {
     "name": "stderr",
     "output_type": "stream",
     "text": [
      "[I 2024-12-09 17:22:36,816] Trial 55 finished with value: 0.03083611803288192 and parameters: {'x_0': 0.040155286997190925, 'x_1': 0.557551963404406, 'x_2': 0.48968378218869313}. Best is trial 52 with value: 0.03090222552091392.\n"
     ]
    },
    {
     "name": "stdout",
     "output_type": "stream",
     "text": [
      "__________Iteration 56______________\n",
      "SLIM weight: 0.17263189594969308\n",
      "RP3b weight: 0.029111706564191403\n",
      "ItemKNN weight: 0.7982563974861155\n",
      "EvaluatorHoldout: Processed 34742 (100.0%) in 13.19 sec. Users per second: 2634\n",
      "EvaluatorHoldout: Processed 35171 (100.0%) in 14.17 sec. Users per second: 2483\n"
     ]
    },
    {
     "name": "stderr",
     "output_type": "stream",
     "text": [
      "[I 2024-12-09 17:23:04,276] Trial 56 finished with value: 0.02774684454020631 and parameters: {'x_0': 0.32844972995137517, 'x_1': 0.8288194602811968, 'x_2': 0.00580943637936937}. Best is trial 52 with value: 0.03090222552091392.\n"
     ]
    },
    {
     "name": "stdout",
     "output_type": "stream",
     "text": [
      "__________Iteration 57______________\n",
      "SLIM weight: 0.8168446110935229\n",
      "RP3b weight: 0.11987411744492427\n",
      "ItemKNN weight: 0.06328127146155285\n",
      "EvaluatorHoldout: Processed 34742 (100.0%) in 13.13 sec. Users per second: 2646\n",
      "EvaluatorHoldout: Processed 35171 (100.0%) in 14.23 sec. Users per second: 2471\n"
     ]
    },
    {
     "name": "stderr",
     "output_type": "stream",
     "text": [
      "[I 2024-12-09 17:23:31,740] Trial 57 finished with value: 0.030875676072051387 and parameters: {'x_0': 0.1333737859255399, 'x_1': 0.7440493946549984, 'x_2': 0.8554977425178834}. Best is trial 52 with value: 0.03090222552091392.\n"
     ]
    },
    {
     "name": "stdout",
     "output_type": "stream",
     "text": [
      "__________Iteration 58______________\n",
      "SLIM weight: 0.5879590099661135\n",
      "RP3b weight: 0.08734283395794293\n",
      "ItemKNN weight: 0.3246981560759436\n",
      "EvaluatorHoldout: Processed 34742 (100.0%) in 13.19 sec. Users per second: 2634\n",
      "EvaluatorHoldout: Processed 35171 (100.0%) in 14.23 sec. Users per second: 2471\n"
     ]
    },
    {
     "name": "stderr",
     "output_type": "stream",
     "text": [
      "[I 2024-12-09 17:23:59,268] Trial 58 finished with value: 0.030342313589606953 and parameters: {'x_0': 0.11637598102437952, 'x_1': 0.7264932468242598, 'x_2': 0.3048783213242856}. Best is trial 52 with value: 0.03090222552091392.\n"
     ]
    },
    {
     "name": "stdout",
     "output_type": "stream",
     "text": [
      "__________Iteration 59______________\n",
      "SLIM weight: 0.7746668377627443\n",
      "RP3b weight: 0.15105130833007793\n",
      "ItemKNN weight: 0.07428185390717784\n",
      "EvaluatorHoldout: Processed 34742 (100.0%) in 13.17 sec. Users per second: 2639\n",
      "EvaluatorHoldout: Processed 35171 (100.0%) in 14.28 sec. Users per second: 2463\n"
     ]
    },
    {
     "name": "stderr",
     "output_type": "stream",
     "text": [
      "[I 2024-12-09 17:24:26,816] Trial 59 finished with value: 0.030886878833815447 and parameters: {'x_0': 0.2127835521472703, 'x_1': 0.7395294783112114, 'x_2': 0.8620983293986733}. Best is trial 52 with value: 0.03090222552091392.\n"
     ]
    },
    {
     "name": "stdout",
     "output_type": "stream",
     "text": [
      "__________Iteration 60______________\n",
      "SLIM weight: 0.9277472239863682\n",
      "RP3b weight: 0.022806562516942956\n",
      "ItemKNN weight: 0.04944621349668887\n",
      "EvaluatorHoldout: Processed 34742 (100.0%) in 13.18 sec. Users per second: 2636\n",
      "EvaluatorHoldout: Processed 35171 (100.0%) in 14.35 sec. Users per second: 2452\n"
     ]
    },
    {
     "name": "stderr",
     "output_type": "stream",
     "text": [
      "[I 2024-12-09 17:24:54,446] Trial 60 finished with value: 0.030775951161075094 and parameters: {'x_0': 0.08781745420054685, 'x_1': 0.9419553772438695, 'x_2': 0.8784073252696799}. Best is trial 52 with value: 0.03090222552091392.\n"
     ]
    },
    {
     "name": "stdout",
     "output_type": "stream",
     "text": [
      "__________Iteration 61______________\n",
      "SLIM weight: 0.7599066103181112\n",
      "RP3b weight: 0.15637270153187943\n",
      "ItemKNN weight: 0.08372068815000937\n",
      "EvaluatorHoldout: Processed 34742 (100.0%) in 13.16 sec. Users per second: 2641\n",
      "EvaluatorHoldout: Processed 35171 (100.0%) in 14.19 sec. Users per second: 2478\n"
     ]
    },
    {
     "name": "stderr",
     "output_type": "stream",
     "text": [
      "[I 2024-12-09 17:25:21,900] Trial 61 finished with value: 0.03091373325182465 and parameters: {'x_0': 0.19522813622062704, 'x_1': 0.7145105390578538, 'x_2': 0.8352902232549747}. Best is trial 61 with value: 0.03091373325182465.\n"
     ]
    },
    {
     "name": "stdout",
     "output_type": "stream",
     "text": [
      "__________Iteration 62______________\n",
      "SLIM weight: 0.7971313174273376\n",
      "RP3b weight: 0.12380052716631418\n",
      "ItemKNN weight: 0.0790681554063484\n",
      "EvaluatorHoldout: Processed 34742 (100.0%) in 13.19 sec. Users per second: 2634\n",
      "EvaluatorHoldout: Processed 35171 (100.0%) in 14.28 sec. Users per second: 2463\n"
     ]
    },
    {
     "name": "stderr",
     "output_type": "stream",
     "text": [
      "[I 2024-12-09 17:25:49,477] Trial 62 finished with value: 0.0308926823852554 and parameters: {'x_0': 0.1618603360588543, 'x_1': 0.753656629735322, 'x_2': 0.834745228964114}. Best is trial 61 with value: 0.03091373325182465.\n"
     ]
    },
    {
     "name": "stdout",
     "output_type": "stream",
     "text": [
      "__________Iteration 63______________\n",
      "SLIM weight: 0.7422448459330331\n",
      "RP3b weight: 0.18526620612847988\n",
      "ItemKNN weight: 0.07248894793848708\n",
      "EvaluatorHoldout: Processed 34742 (100.0%) in 13.69 sec. Users per second: 2538\n",
      "EvaluatorHoldout: Processed 35171 (100.0%) in 14.25 sec. Users per second: 2468\n"
     ]
    },
    {
     "name": "stderr",
     "output_type": "stream",
     "text": [
      "[I 2024-12-09 17:26:17,520] Trial 63 finished with value: 0.03087975946043904 and parameters: {'x_0': 0.16960465513624384, 'x_1': 0.642193199275153, 'x_2': 0.8409022721001894}. Best is trial 61 with value: 0.03091373325182465.\n"
     ]
    },
    {
     "name": "stdout",
     "output_type": "stream",
     "text": [
      "__________Iteration 64______________\n",
      "SLIM weight: 0.7960588367793213\n",
      "RP3b weight: 0.10433179803104661\n",
      "ItemKNN weight: 0.09960936518963205\n",
      "EvaluatorHoldout: Processed 34742 (100.0%) in 13.15 sec. Users per second: 2641\n",
      "EvaluatorHoldout: Processed 35171 (100.0%) in 14.21 sec. Users per second: 2476\n"
     ]
    },
    {
     "name": "stderr",
     "output_type": "stream",
     "text": [
      "[I 2024-12-09 17:26:44,983] Trial 64 finished with value: 0.030889866846129353 and parameters: {'x_0': 0.2393070965413978, 'x_1': 0.8290976095361754, 'x_2': 0.8361609158850329}. Best is trial 61 with value: 0.03091373325182465.\n"
     ]
    },
    {
     "name": "stdout",
     "output_type": "stream",
     "text": [
      "__________Iteration 65______________\n",
      "SLIM weight: 0.8108460252376513\n",
      "RP3b weight: 0.08631510153423042\n",
      "ItemKNN weight: 0.10283887322811842\n",
      "EvaluatorHoldout: Processed 34742 (100.0%) in 13.20 sec. Users per second: 2633\n",
      "EvaluatorHoldout: Processed 35171 (100.0%) in 14.23 sec. Users per second: 2471\n"
     ]
    },
    {
     "name": "stderr",
     "output_type": "stream",
     "text": [
      "[I 2024-12-09 17:27:12,515] Trial 65 finished with value: 0.03090024493477006 and parameters: {'x_0': 0.22748311738003138, 'x_1': 0.8541749074895907, 'x_2': 0.8287860659464846}. Best is trial 61 with value: 0.03091373325182465.\n"
     ]
    },
    {
     "name": "stdout",
     "output_type": "stream",
     "text": [
      "__________Iteration 66______________\n",
      "SLIM weight: 0.7226368818872362\n",
      "RP3b weight: 0.0660242854050061\n",
      "ItemKNN weight: 0.21133883270775777\n",
      "EvaluatorHoldout: Processed 34742 (100.0%) in 13.17 sec. Users per second: 2637\n",
      "EvaluatorHoldout: Processed 35171 (100.0%) in 14.28 sec. Users per second: 2462\n"
     ]
    },
    {
     "name": "stderr",
     "output_type": "stream",
     "text": [
      "[I 2024-12-09 17:27:40,077] Trial 66 finished with value: 0.030708998440201914 and parameters: {'x_0': 0.23669777629231953, 'x_1': 0.8766429818189688, 'x_2': 0.6561149044119623}. Best is trial 61 with value: 0.03091373325182465.\n"
     ]
    },
    {
     "name": "stdout",
     "output_type": "stream",
     "text": [
      "__________Iteration 67______________\n",
      "SLIM weight: 0.7039350575611558\n",
      "RP3b weight: 0.11339607870007753\n",
      "ItemKNN weight: 0.1826688637387667\n",
      "EvaluatorHoldout: Processed 34742 (100.0%) in 13.16 sec. Users per second: 2639\n",
      "EvaluatorHoldout: Processed 35171 (100.0%) in 14.30 sec. Users per second: 2459\n"
     ]
    },
    {
     "name": "stderr",
     "output_type": "stream",
     "text": [
      "[I 2024-12-09 17:28:07,649] Trial 67 finished with value: 0.030765370901876383 and parameters: {'x_0': 0.2933664046297822, 'x_1': 0.8207402987963829, 'x_2': 0.7274358844310687}. Best is trial 61 with value: 0.03091373325182465.\n"
     ]
    },
    {
     "name": "stdout",
     "output_type": "stream",
     "text": [
      "__________Iteration 68______________\n",
      "SLIM weight: 0.3596746314283223\n",
      "RP3b weight: 0.008916049336701152\n",
      "ItemKNN weight: 0.6314093192349767\n",
      "EvaluatorHoldout: Processed 34742 (100.0%) in 13.14 sec. Users per second: 2643\n",
      "EvaluatorHoldout: Processed 35171 (100.0%) in 14.23 sec. Users per second: 2472\n"
     ]
    },
    {
     "name": "stderr",
     "output_type": "stream",
     "text": [
      "[I 2024-12-09 17:28:35,126] Trial 68 finished with value: 0.02879087043448535 and parameters: {'x_0': 0.34445719101962924, 'x_1': 0.9739259764999826, 'x_2': 0.1539714831017528}. Best is trial 61 with value: 0.03091373325182465.\n"
     ]
    },
    {
     "name": "stdout",
     "output_type": "stream",
     "text": [
      "__________Iteration 69______________\n",
      "SLIM weight: 0.1266274770256538\n",
      "RP3b weight: 0.6437184268807878\n",
      "ItemKNN weight: 0.2296540960935584\n",
      "EvaluatorHoldout: Processed 34742 (100.0%) in 13.18 sec. Users per second: 2635\n",
      "EvaluatorHoldout: Processed 35171 (100.0%) in 14.22 sec. Users per second: 2473\n"
     ]
    },
    {
     "name": "stderr",
     "output_type": "stream",
     "text": [
      "[I 2024-12-09 17:29:02,633] Trial 69 finished with value: 0.029444321086137128 and parameters: {'x_0': 0.9801403985831912, 'x_1': 0.9030535324523694, 'x_2': 0.9642735858450833}. Best is trial 61 with value: 0.03091373325182465.\n"
     ]
    },
    {
     "name": "stdout",
     "output_type": "stream",
     "text": [
      "__________Iteration 70______________\n",
      "SLIM weight: 0.7035712377966462\n",
      "RP3b weight: 0.08280332859793832\n",
      "ItemKNN weight: 0.2136254336054155\n",
      "EvaluatorHoldout: Processed 34742 (100.0%) in 13.11 sec. Users per second: 2649\n",
      "EvaluatorHoldout: Processed 35171 (100.0%) in 14.27 sec. Users per second: 2465\n"
     ]
    },
    {
     "name": "stderr",
     "output_type": "stream",
     "text": [
      "[I 2024-12-09 17:29:30,118] Trial 70 finished with value: 0.030729351418574007 and parameters: {'x_0': 0.2575717423437206, 'x_1': 0.8524493544432102, 'x_2': 0.6624161964209822}. Best is trial 61 with value: 0.03091373325182465.\n"
     ]
    },
    {
     "name": "stdout",
     "output_type": "stream",
     "text": [
      "__________Iteration 71______________\n",
      "SLIM weight: 0.8205271571356251\n",
      "RP3b weight: 0.10110331957556527\n",
      "ItemKNN weight: 0.07836952328880968\n",
      "EvaluatorHoldout: Processed 34742 (100.0%) in 13.18 sec. Users per second: 2637\n",
      "EvaluatorHoldout: Processed 35171 (100.0%) in 14.29 sec. Users per second: 2462\n"
     ]
    },
    {
     "name": "stderr",
     "output_type": "stream",
     "text": [
      "[I 2024-12-09 17:29:57,684] Trial 71 finished with value: 0.030888757763577072 and parameters: {'x_0': 0.16445332739356533, 'x_1': 0.8005762887336938, 'x_2': 0.8416340624696237}. Best is trial 61 with value: 0.03091373325182465.\n"
     ]
    },
    {
     "name": "stdout",
     "output_type": "stream",
     "text": [
      "__________Iteration 72______________\n",
      "SLIM weight: 0.6758856368532078\n",
      "RP3b weight: 0.18336367601430476\n",
      "ItemKNN weight: 0.14075068713248734\n",
      "EvaluatorHoldout: Processed 34742 (100.0%) in 13.21 sec. Users per second: 2631\n",
      "EvaluatorHoldout: Processed 35171 (100.0%) in 14.24 sec. Users per second: 2469\n"
     ]
    },
    {
     "name": "stderr",
     "output_type": "stream",
     "text": [
      "[I 2024-12-09 17:30:25,233] Trial 72 finished with value: 0.030824478948218825 and parameters: {'x_0': 0.41762249407181784, 'x_1': 0.789079873361621, 'x_2': 0.8337380926105662}. Best is trial 61 with value: 0.03091373325182465.\n"
     ]
    },
    {
     "name": "stdout",
     "output_type": "stream",
     "text": [
      "__________Iteration 73______________\n",
      "SLIM weight: 0.7616668326079714\n",
      "RP3b weight: 0.13457238478366015\n",
      "ItemKNN weight: 0.10376078260836845\n",
      "EvaluatorHoldout: Processed 34742 (100.0%) in 13.40 sec. Users per second: 2593\n",
      "EvaluatorHoldout: Processed 35171 (100.0%) in 14.39 sec. Users per second: 2444\n"
     ]
    },
    {
     "name": "stderr",
     "output_type": "stream",
     "text": [
      "[I 2024-12-09 17:30:53,126] Trial 73 finished with value: 0.030883272887762325 and parameters: {'x_0': 0.2112586234323747, 'x_1': 0.7598139294236714, 'x_2': 0.8091339766138558}. Best is trial 61 with value: 0.03091373325182465.\n"
     ]
    },
    {
     "name": "stdout",
     "output_type": "stream",
     "text": [
      "__________Iteration 74______________\n",
      "SLIM weight: 0.8183822002787455\n",
      "RP3b weight: 0.08799638779258262\n",
      "ItemKNN weight: 0.09362141192867185\n",
      "EvaluatorHoldout: Processed 34742 (100.0%) in 13.21 sec. Users per second: 2631\n",
      "EvaluatorHoldout: Processed 35171 (100.0%) in 14.35 sec. Users per second: 2451\n"
     ]
    },
    {
     "name": "stderr",
     "output_type": "stream",
     "text": [
      "[I 2024-12-09 17:31:20,777] Trial 74 finished with value: 0.03089469952200857 and parameters: {'x_0': 0.17880898591632055, 'x_1': 0.8310235063178817, 'x_2': 0.8212487500419117}. Best is trial 61 with value: 0.03091373325182465.\n"
     ]
    },
    {
     "name": "stdout",
     "output_type": "stream",
     "text": [
      "__________Iteration 75______________\n",
      "SLIM weight: 0.7064803088832587\n",
      "RP3b weight: 0.09582020362613891\n",
      "ItemKNN weight: 0.1976994874906024\n",
      "EvaluatorHoldout: Processed 34742 (100.0%) in 13.19 sec. Users per second: 2635\n",
      "EvaluatorHoldout: Processed 35171 (100.0%) in 14.30 sec. Users per second: 2460\n"
     ]
    },
    {
     "name": "stderr",
     "output_type": "stream",
     "text": [
      "[I 2024-12-09 17:31:48,360] Trial 75 finished with value: 0.030765760394307156 and parameters: {'x_0': 0.3025475672802248, 'x_1': 0.850314998435465, 'x_2': 0.7156599953699451}. Best is trial 61 with value: 0.03091373325182465.\n"
     ]
    },
    {
     "name": "stdout",
     "output_type": "stream",
     "text": [
      "__________Iteration 76______________\n",
      "SLIM weight: 0.8965139446128367\n",
      "RP3b weight: 0.05248139665421671\n",
      "ItemKNN weight: 0.051004658732946455\n",
      "EvaluatorHoldout: Processed 34742 (100.0%) in 13.19 sec. Users per second: 2634\n",
      "EvaluatorHoldout: Processed 35171 (100.0%) in 14.27 sec. Users per second: 2465\n"
     ]
    },
    {
     "name": "stderr",
     "output_type": "stream",
     "text": [
      "[I 2024-12-09 17:32:15,917] Trial 76 finished with value: 0.0307918221209763 and parameters: {'x_0': 0.16959266941950993, 'x_1': 0.9013426995524007, 'x_2': 0.9039809246294573}. Best is trial 61 with value: 0.03091373325182465.\n"
     ]
    },
    {
     "name": "stdout",
     "output_type": "stream",
     "text": [
      "__________Iteration 77______________\n",
      "SLIM weight: 0.8986266878008893\n",
      "RP3b weight: 0.07831544001966614\n",
      "ItemKNN weight: 0.02305787217944463\n",
      "EvaluatorHoldout: Processed 34742 (100.0%) in 13.21 sec. Users per second: 2631\n",
      "EvaluatorHoldout: Processed 35171 (100.0%) in 14.35 sec. Users per second: 2452\n"
     ]
    },
    {
     "name": "stderr",
     "output_type": "stream",
     "text": [
      "[I 2024-12-09 17:32:43,567] Trial 77 finished with value: 0.030815453232124004 and parameters: {'x_0': 0.3694534823926009, 'x_1': 0.9168805788810296, 'x_2': 0.9747741669686824}. Best is trial 61 with value: 0.03091373325182465.\n"
     ]
    },
    {
     "name": "stdout",
     "output_type": "stream",
     "text": [
      "__________Iteration 78______________\n",
      "SLIM weight: 0.25813766742355687\n",
      "RP3b weight: 0.7011668328391263\n",
      "ItemKNN weight: 0.04069549973731695\n",
      "EvaluatorHoldout: Processed 34742 (100.0%) in 13.25 sec. Users per second: 2623\n",
      "EvaluatorHoldout: Processed 35171 (100.0%) in 14.30 sec. Users per second: 2460\n"
     ]
    },
    {
     "name": "stderr",
     "output_type": "stream",
     "text": [
      "[I 2024-12-09 17:33:11,205] Trial 78 finished with value: 0.02969404284462352 and parameters: {'x_0': 0.18462217583715645, 'x_1': 0.010163479820230692, 'x_2': 0.7661774700440214}. Best is trial 61 with value: 0.03091373325182465.\n"
     ]
    },
    {
     "name": "stdout",
     "output_type": "stream",
     "text": [
      "__________Iteration 79______________\n",
      "SLIM weight: 0.8549777816934814\n",
      "RP3b weight: 0.0772556794352172\n",
      "ItemKNN weight: 0.06776653887130143\n",
      "EvaluatorHoldout: Processed 34742 (100.0%) in 13.41 sec. Users per second: 2590\n",
      "EvaluatorHoldout: Processed 35171 (100.0%) in 14.66 sec. Users per second: 2399\n"
     ]
    },
    {
     "name": "stderr",
     "output_type": "stream",
     "text": [
      "[I 2024-12-09 17:33:39,376] Trial 79 finished with value: 0.030861502431071674 and parameters: {'x_0': 0.07931449503016899, 'x_1': 0.7953268475358153, 'x_2': 0.8180152440143093}. Best is trial 61 with value: 0.03091373325182465.\n"
     ]
    },
    {
     "name": "stdout",
     "output_type": "stream",
     "text": [
      "__________Iteration 80______________\n",
      "SLIM weight: 0.808420963684533\n",
      "RP3b weight: 0.028310246226055043\n",
      "ItemKNN weight: 0.16326879008941206\n",
      "EvaluatorHoldout: Processed 34742 (100.0%) in 13.53 sec. Users per second: 2569\n",
      "EvaluatorHoldout: Processed 35171 (100.0%) in 14.84 sec. Users per second: 2370\n"
     ]
    },
    {
     "name": "stderr",
     "output_type": "stream",
     "text": [
      "[I 2024-12-09 17:34:07,835] Trial 80 finished with value: 0.030761310357619545 and parameters: {'x_0': 0.14598229700939783, 'x_1': 0.9348339385949067, 'x_2': 0.6779879444479698}. Best is trial 61 with value: 0.03091373325182465.\n"
     ]
    },
    {
     "name": "stdout",
     "output_type": "stream",
     "text": [
      "__________Iteration 81______________\n",
      "SLIM weight: 0.8165489680732032\n",
      "RP3b weight: 0.12413070056599716\n",
      "ItemKNN weight: 0.05932033136079974\n",
      "EvaluatorHoldout: Processed 34742 (100.0%) in 13.50 sec. Users per second: 2574\n",
      "EvaluatorHoldout: Processed 35171 (100.0%) in 14.85 sec. Users per second: 2368\n"
     ]
    },
    {
     "name": "stderr",
     "output_type": "stream",
     "text": [
      "[I 2024-12-09 17:34:36,289] Trial 81 finished with value: 0.030878385385969074 and parameters: {'x_0': 0.26838734142534515, 'x_1': 0.8187685539765712, 'x_2': 0.9088682376799245}. Best is trial 61 with value: 0.03091373325182465.\n"
     ]
    },
    {
     "name": "stdout",
     "output_type": "stream",
     "text": [
      "__________Iteration 82______________\n",
      "SLIM weight: 0.7597661993196534\n",
      "RP3b weight: 0.1614290410212677\n",
      "ItemKNN weight: 0.07880475965907885\n",
      "EvaluatorHoldout: Processed 34742 (100.0%) in 13.44 sec. Users per second: 2586\n",
      "EvaluatorHoldout: Processed 35171 (100.0%) in 14.35 sec. Users per second: 2451\n"
     ]
    },
    {
     "name": "stderr",
     "output_type": "stream",
     "text": [
      "[I 2024-12-09 17:35:04,177] Trial 82 finished with value: 0.030911505949067733 and parameters: {'x_0': 0.19338101531799176, 'x_1': 0.7053146803309168, 'x_2': 0.8433059093517105}. Best is trial 61 with value: 0.03091373325182465.\n"
     ]
    },
    {
     "name": "stdout",
     "output_type": "stream",
     "text": [
      "__________Iteration 83______________\n",
      "SLIM weight: 0.722125394965657\n",
      "RP3b weight: 0.175775902214109\n",
      "ItemKNN weight: 0.10209870282023398\n",
      "EvaluatorHoldout: Processed 34742 (100.0%) in 13.28 sec. Users per second: 2616\n",
      "EvaluatorHoldout: Processed 35171 (100.0%) in 14.37 sec. Users per second: 2447\n"
     ]
    },
    {
     "name": "stderr",
     "output_type": "stream",
     "text": [
      "[I 2024-12-09 17:35:31,933] Trial 83 finished with value: 0.030882564719706244 and parameters: {'x_0': 0.23860940853064577, 'x_1': 0.7055373906659627, 'x_2': 0.8166077385204079}. Best is trial 61 with value: 0.03091373325182465.\n"
     ]
    },
    {
     "name": "stdout",
     "output_type": "stream",
     "text": [
      "__________Iteration 84______________\n",
      "SLIM weight: 0.8297504730630776\n",
      "RP3b weight: 0.11861201382195306\n",
      "ItemKNN weight: 0.05163751311496921\n",
      "EvaluatorHoldout: Processed 34742 (100.0%) in 13.31 sec. Users per second: 2611\n",
      "EvaluatorHoldout: Processed 35171 (100.0%) in 14.37 sec. Users per second: 2447\n"
     ]
    },
    {
     "name": "stderr",
     "output_type": "stream",
     "text": [
      "[I 2024-12-09 17:35:59,713] Trial 84 finished with value: 0.030871701193285254 and parameters: {'x_0': 0.15754706156221612, 'x_1': 0.7678397532701353, 'x_2': 0.8913592431282159}. Best is trial 61 with value: 0.03091373325182465.\n"
     ]
    },
    {
     "name": "stdout",
     "output_type": "stream",
     "text": [
      "__________Iteration 85______________\n",
      "SLIM weight: 0.7359883430669318\n",
      "RP3b weight: 0.1811022551264989\n",
      "ItemKNN weight: 0.08290940180656924\n",
      "EvaluatorHoldout: Processed 34742 (100.0%) in 13.24 sec. Users per second: 2623\n",
      "EvaluatorHoldout: Processed 35171 (100.0%) in 14.30 sec. Users per second: 2460\n"
     ]
    },
    {
     "name": "stderr",
     "output_type": "stream",
     "text": [
      "[I 2024-12-09 17:36:27,354] Trial 85 finished with value: 0.030891997061330126 and parameters: {'x_0': 0.1912871543981659, 'x_1': 0.6656512706132095, 'x_2': 0.8300067011576471}. Best is trial 61 with value: 0.03091373325182465.\n"
     ]
    },
    {
     "name": "stdout",
     "output_type": "stream",
     "text": [
      "__________Iteration 86______________\n",
      "SLIM weight: 0.4051187495789802\n",
      "RP3b weight: 0.4031920913182858\n",
      "ItemKNN weight: 0.19168915910273399\n",
      "EvaluatorHoldout: Processed 34742 (100.0%) in 13.24 sec. Users per second: 2624\n",
      "EvaluatorHoldout: Processed 35171 (100.0%) in 14.39 sec. Users per second: 2444\n"
     ]
    },
    {
     "name": "stderr",
     "output_type": "stream",
     "text": [
      "[I 2024-12-09 17:36:55,086] Trial 86 finished with value: 0.030377808800106657 and parameters: {'x_0': 0.853557455388478, 'x_1': 0.8542004627120775, 'x_2': 0.9278153522779207}. Best is trial 61 with value: 0.03091373325182465.\n"
     ]
    },
    {
     "name": "stdout",
     "output_type": "stream",
     "text": [
      "__________Iteration 87______________\n",
      "SLIM weight: 0.7082743792711399\n",
      "RP3b weight: 0.1886583780024799\n",
      "ItemKNN weight: 0.1030672427263802\n",
      "EvaluatorHoldout: Processed 34742 (100.0%) in 13.21 sec. Users per second: 2630\n",
      "EvaluatorHoldout: Processed 35171 (100.0%) in 14.27 sec. Users per second: 2465\n"
     ]
    },
    {
     "name": "stderr",
     "output_type": "stream",
     "text": [
      "[I 2024-12-09 17:37:22,664] Trial 87 finished with value: 0.03089197193278626 and parameters: {'x_0': 0.19406305800362084, 'x_1': 0.6461510223115735, 'x_2': 0.7877389067629064}. Best is trial 61 with value: 0.03091373325182465.\n"
     ]
    },
    {
     "name": "stdout",
     "output_type": "stream",
     "text": [
      "__________Iteration 88______________\n",
      "SLIM weight: 0.6990926070185917\n",
      "RP3b weight: 0.1801875700126701\n",
      "ItemKNN weight: 0.12071982296873834\n",
      "EvaluatorHoldout: Processed 34742 (100.0%) in 13.24 sec. Users per second: 2625\n",
      "EvaluatorHoldout: Processed 35171 (100.0%) in 14.36 sec. Users per second: 2450\n"
     ]
    },
    {
     "name": "stderr",
     "output_type": "stream",
     "text": [
      "[I 2024-12-09 17:37:50,361] Trial 88 finished with value: 0.030875044431833695 and parameters: {'x_0': 0.19751192492197803, 'x_1': 0.658328649049671, 'x_2': 0.7557228248920865}. Best is trial 61 with value: 0.03091373325182465.\n"
     ]
    },
    {
     "name": "stdout",
     "output_type": "stream",
     "text": [
      "__________Iteration 89______________\n",
      "SLIM weight: 0.7038767562038875\n",
      "RP3b weight: 0.13318387943171678\n",
      "ItemKNN weight: 0.16293936436439566\n",
      "EvaluatorHoldout: Processed 34742 (100.0%) in 13.15 sec. Users per second: 2642\n",
      "EvaluatorHoldout: Processed 35171 (100.0%) in 14.27 sec. Users per second: 2465\n"
     ]
    },
    {
     "name": "stderr",
     "output_type": "stream",
     "text": [
      "[I 2024-12-09 17:38:17,877] Trial 89 finished with value: 0.030816091725580863 and parameters: {'x_0': 0.12697437492511854, 'x_1': 0.6767212961124194, 'x_2': 0.6201840509984133}. Best is trial 61 with value: 0.03091373325182465.\n"
     ]
    },
    {
     "name": "stdout",
     "output_type": "stream",
     "text": [
      "__________Iteration 90______________\n",
      "SLIM weight: 0.7263297951174866\n",
      "RP3b weight: 0.15940319326180477\n",
      "ItemKNN weight: 0.11426701162070851\n",
      "EvaluatorHoldout: Processed 34742 (100.0%) in 13.21 sec. Users per second: 2631\n",
      "EvaluatorHoldout: Processed 35171 (100.0%) in 14.28 sec. Users per second: 2463\n"
     ]
    },
    {
     "name": "stderr",
     "output_type": "stream",
     "text": [
      "[I 2024-12-09 17:38:45,465] Trial 90 finished with value: 0.030879962773203547 and parameters: {'x_0': 0.10908456455331483, 'x_1': 0.6149272659751193, 'x_2': 0.7056995686169538}. Best is trial 61 with value: 0.03091373325182465.\n"
     ]
    },
    {
     "name": "stdout",
     "output_type": "stream",
     "text": [
      "__________Iteration 91______________\n",
      "SLIM weight: 0.7170885083899148\n",
      "RP3b weight: 0.17509514274438123\n",
      "ItemKNN weight: 0.10781634886570395\n",
      "EvaluatorHoldout: Processed 34742 (100.0%) in 13.17 sec. Users per second: 2638\n",
      "EvaluatorHoldout: Processed 35171 (100.0%) in 14.24 sec. Users per second: 2470\n"
     ]
    },
    {
     "name": "stderr",
     "output_type": "stream",
     "text": [
      "[I 2024-12-09 17:39:12,974] Trial 91 finished with value: 0.030903151850419443 and parameters: {'x_0': 0.22316196458403434, 'x_1': 0.6933448282201293, 'x_2': 0.7981107187642494}. Best is trial 61 with value: 0.03091373325182465.\n"
     ]
    },
    {
     "name": "stdout",
     "output_type": "stream",
     "text": [
      "__________Iteration 92______________\n",
      "SLIM weight: 0.5952998641892652\n",
      "RP3b weight: 0.26066526395863726\n",
      "ItemKNN weight: 0.14403487185209765\n",
      "EvaluatorHoldout: Processed 34742 (100.0%) in 13.21 sec. Users per second: 2630\n",
      "EvaluatorHoldout: Processed 35171 (100.0%) in 14.31 sec. Users per second: 2459\n"
     ]
    },
    {
     "name": "stderr",
     "output_type": "stream",
     "text": [
      "[I 2024-12-09 17:39:40,590] Trial 92 finished with value: 0.030728036738844004 and parameters: {'x_0': 0.2893931808256737, 'x_1': 0.5810328565108314, 'x_2': 0.7408072437313912}. Best is trial 61 with value: 0.03091373325182465.\n"
     ]
    },
    {
     "name": "stdout",
     "output_type": "stream",
     "text": [
      "__________Iteration 93______________\n",
      "SLIM weight: 0.707368670177723\n",
      "RP3b weight: 0.17322982145428045\n",
      "ItemKNN weight: 0.11940150836799653\n",
      "EvaluatorHoldout: Processed 34742 (100.0%) in 13.41 sec. Users per second: 2591\n",
      "EvaluatorHoldout: Processed 4000 (11.4%) in 5.81 min. Users per second: 11\n",
      "EvaluatorHoldout: Processed 35171 (100.0%) in 6.01 min. Users per second: 98\n"
     ]
    },
    {
     "name": "stderr",
     "output_type": "stream",
     "text": [
      "[I 2024-12-09 17:45:54,457] Trial 93 finished with value: 0.030875098115541125 and parameters: {'x_0': 0.22742833005911686, 'x_1': 0.695817851539567, 'x_2': 0.778820679290216}. Best is trial 61 with value: 0.03091373325182465.\n"
     ]
    },
    {
     "name": "stdout",
     "output_type": "stream",
     "text": [
      "__________Iteration 94______________\n",
      "SLIM weight: 0.7316293227432347\n",
      "RP3b weight: 0.1766977587860641\n",
      "ItemKNN weight: 0.09167291847070126\n",
      "EvaluatorHoldout: Processed 34742 (100.0%) in 3.61 min. Users per second: 160\n",
      "EvaluatorHoldout: Processed 35171 (100.0%) in 14.05 sec. Users per second: 2504\n"
     ]
    },
    {
     "name": "stderr",
     "output_type": "stream",
     "text": [
      "[I 2024-12-09 17:49:45,460] Trial 94 finished with value: 0.030898516776271923 and parameters: {'x_0': 0.1846267806509068, 'x_1': 0.6649681825476604, 'x_2': 0.8092206595624172}. Best is trial 61 with value: 0.03091373325182465.\n"
     ]
    },
    {
     "name": "stdout",
     "output_type": "stream",
     "text": [
      "__________Iteration 95______________\n",
      "SLIM weight: 0.8417051311421903\n",
      "RP3b weight: 0.08999731029436675\n",
      "ItemKNN weight: 0.06829755856344306\n",
      "EvaluatorHoldout: Processed 34742 (100.0%) in 13.00 sec. Users per second: 2673\n",
      "EvaluatorHoldout: Processed 35171 (100.0%) in 14.18 sec. Users per second: 2480\n"
     ]
    },
    {
     "name": "stderr",
     "output_type": "stream",
     "text": [
      "[I 2024-12-09 17:50:12,739] Trial 95 finished with value: 0.030890983924127452 and parameters: {'x_0': 0.06987200959692312, 'x_1': 0.7523672526673488, 'x_2': 0.8057949879749805}. Best is trial 61 with value: 0.03091373325182465.\n"
     ]
    },
    {
     "name": "stdout",
     "output_type": "stream",
     "text": [
      "__________Iteration 96______________\n",
      "SLIM weight: 0.7380103248936023\n",
      "RP3b weight: 0.1883071026651358\n",
      "ItemKNN weight: 0.07368257244126183\n",
      "EvaluatorHoldout: Processed 34742 (100.0%) in 13.63 sec. Users per second: 2548\n",
      "EvaluatorHoldout: Processed 35171 (100.0%) in 14.38 sec. Users per second: 2446\n"
     ]
    },
    {
     "name": "stderr",
     "output_type": "stream",
     "text": [
      "[I 2024-12-09 17:50:40,848] Trial 96 finished with value: 0.03087898161778393 and parameters: {'x_0': 0.26761875760455556, 'x_1': 0.714377758439695, 'x_2': 0.8766849394789642}. Best is trial 61 with value: 0.03091373325182465.\n"
     ]
    },
    {
     "name": "stdout",
     "output_type": "stream",
     "text": [
      "__________Iteration 97______________\n",
      "SLIM weight: 0.700260795235187\n",
      "RP3b weight: 0.11894577474073613\n",
      "ItemKNN weight: 0.1807934300240769\n",
      "EvaluatorHoldout: Processed 34742 (100.0%) in 13.33 sec. Users per second: 2607\n",
      "EvaluatorHoldout: Processed 35171 (100.0%) in 14.85 sec. Users per second: 2368\n"
     ]
    },
    {
     "name": "stderr",
     "output_type": "stream",
     "text": [
      "[I 2024-12-09 17:51:09,123] Trial 97 finished with value: 0.03075930007410556 and parameters: {'x_0': 0.09336605545438863, 'x_1': 0.6684625416796615, 'x_2': 0.5421547347169748}. Best is trial 61 with value: 0.03091373325182465.\n"
     ]
    },
    {
     "name": "stdout",
     "output_type": "stream",
     "text": [
      "__________Iteration 98______________\n",
      "SLIM weight: 0.6717386332053983\n",
      "RP3b weight: 0.2701900046229587\n",
      "ItemKNN weight: 0.05807136217164292\n",
      "EvaluatorHoldout: Processed 34742 (100.0%) in 13.25 sec. Users per second: 2621\n",
      "EvaluatorHoldout: Processed 35171 (100.0%) in 14.11 sec. Users per second: 2493\n"
     ]
    },
    {
     "name": "stderr",
     "output_type": "stream",
     "text": [
      "[I 2024-12-09 17:51:36,581] Trial 98 finished with value: 0.030824795339430885 and parameters: {'x_0': 0.18388272392274954, 'x_1': 0.50603440868331, 'x_2': 0.8638136210253698}. Best is trial 61 with value: 0.03091373325182465.\n"
     ]
    },
    {
     "name": "stdout",
     "output_type": "stream",
     "text": [
      "__________Iteration 99______________\n",
      "SLIM weight: 0.5579947476929069\n",
      "RP3b weight: 0.25360354470064045\n",
      "ItemKNN weight: 0.1884017076064526\n",
      "EvaluatorHoldout: Processed 34742 (100.0%) in 13.06 sec. Users per second: 2660\n",
      "EvaluatorHoldout: Processed 35171 (100.0%) in 13.97 sec. Users per second: 2517\n"
     ]
    },
    {
     "name": "stderr",
     "output_type": "stream",
     "text": [
      "[I 2024-12-09 17:52:03,704] Trial 99 finished with value: 0.03065262597852743 and parameters: {'x_0': 0.13473182262324163, 'x_1': 0.4021166962926397, 'x_2': 0.5082457433463639}. Best is trial 61 with value: 0.03091373325182465.\n"
     ]
    },
    {
     "name": "stdout",
     "output_type": "stream",
     "text": [
      "__________Iteration 100______________\n",
      "SLIM weight: 0.8376074817833322\n",
      "RP3b weight: 0.09633535376116568\n",
      "ItemKNN weight: 0.06605716445550214\n",
      "EvaluatorHoldout: Processed 34742 (100.0%) in 13.05 sec. Users per second: 2662\n",
      "EvaluatorHoldout: Processed 35171 (100.0%) in 14.06 sec. Users per second: 2502\n"
     ]
    },
    {
     "name": "stderr",
     "output_type": "stream",
     "text": [
      "[I 2024-12-09 17:52:30,905] Trial 100 finished with value: 0.030891407682754536 and parameters: {'x_0': 0.02002812096149202, 'x_1': 0.6377747878871826, 'x_2': 0.734615985862001}. Best is trial 61 with value: 0.03091373325182465.\n"
     ]
    },
    {
     "name": "stdout",
     "output_type": "stream",
     "text": [
      "__________Iteration 101______________\n",
      "SLIM weight: 0.6914111660311206\n",
      "RP3b weight: 0.20716431838255298\n",
      "ItemKNN weight: 0.10142451558632634\n",
      "EvaluatorHoldout: Processed 34742 (100.0%) in 12.99 sec. Users per second: 2674\n",
      "EvaluatorHoldout: Processed 35171 (100.0%) in 14.03 sec. Users per second: 2507\n"
     ]
    },
    {
     "name": "stderr",
     "output_type": "stream",
     "text": [
      "[I 2024-12-09 17:52:58,019] Trial 101 finished with value: 0.03088713011925469 and parameters: {'x_0': 0.2077551013298707, 'x_1': 0.6244838084443612, 'x_2': 0.7941275538758297}. Best is trial 61 with value: 0.03091373325182465.\n"
     ]
    },
    {
     "name": "stdout",
     "output_type": "stream",
     "text": [
      "__________Iteration 102______________\n",
      "SLIM weight: 0.7431292998011366\n",
      "RP3b weight: 0.14438336961278586\n",
      "ItemKNN weight: 0.11248733058607756\n",
      "EvaluatorHoldout: Processed 34742 (100.0%) in 13.01 sec. Users per second: 2671\n",
      "EvaluatorHoldout: Processed 35171 (100.0%) in 13.99 sec. Users per second: 2514\n"
     ]
    },
    {
     "name": "stderr",
     "output_type": "stream",
     "text": [
      "[I 2024-12-09 17:53:25,108] Trial 102 finished with value: 0.0308753962314486 and parameters: {'x_0': 0.19396097569585513, 'x_1': 0.7271253357816426, 'x_2': 0.7801560269883089}. Best is trial 61 with value: 0.03091373325182465.\n"
     ]
    },
    {
     "name": "stdout",
     "output_type": "stream",
     "text": [
      "__________Iteration 103______________\n",
      "SLIM weight: 0.6763319113943133\n",
      "RP3b weight: 0.23845529928689466\n",
      "ItemKNN weight: 0.08521278931879207\n",
      "EvaluatorHoldout: Processed 34742 (100.0%) in 13.47 sec. Users per second: 2580\n",
      "EvaluatorHoldout: Processed 35171 (100.0%) in 14.77 sec. Users per second: 2381\n"
     ]
    },
    {
     "name": "stderr",
     "output_type": "stream",
     "text": [
      "[I 2024-12-09 17:53:53,443] Trial 103 finished with value: 0.03086563607654697 and parameters: {'x_0': 0.22135693931064204, 'x_1': 0.5876226966135043, 'x_2': 0.8269640075776062}. Best is trial 61 with value: 0.03091373325182465.\n"
     ]
    },
    {
     "name": "stdout",
     "output_type": "stream",
     "text": [
      "__________Iteration 104______________\n",
      "SLIM weight: 0.6844205271427428\n",
      "RP3b weight: 0.18375079347476356\n",
      "ItemKNN weight: 0.13182867938249357\n",
      "EvaluatorHoldout: Processed 34742 (100.0%) in 13.64 sec. Users per second: 2547\n",
      "EvaluatorHoldout: Processed 35171 (100.0%) in 14.78 sec. Users per second: 2379\n"
     ]
    },
    {
     "name": "stderr",
     "output_type": "stream",
     "text": [
      "[I 2024-12-09 17:54:21,965] Trial 104 finished with value: 0.030857367643389512 and parameters: {'x_0': 0.2518330187107095, 'x_1': 0.6905781864780146, 'x_2': 0.7667365654334491}. Best is trial 61 with value: 0.03091373325182465.\n"
     ]
    },
    {
     "name": "stdout",
     "output_type": "stream",
     "text": [
      "__________Iteration 105______________\n",
      "SLIM weight: 0.5255990011765312\n",
      "RP3b weight: 0.3082512897568904\n",
      "ItemKNN weight: 0.16614970906657828\n",
      "EvaluatorHoldout: Processed 34742 (100.0%) in 13.67 sec. Users per second: 2541\n",
      "EvaluatorHoldout: Processed 35171 (100.0%) in 14.84 sec. Users per second: 2370\n"
     ]
    },
    {
     "name": "stderr",
     "output_type": "stream",
     "text": [
      "[I 2024-12-09 17:54:50,577] Trial 105 finished with value: 0.030618685311131665 and parameters: {'x_0': 0.17999336042952746, 'x_1': 0.36578481713271827, 'x_2': 0.5815344281138985}. Best is trial 61 with value: 0.03091373325182465.\n"
     ]
    },
    {
     "name": "stdout",
     "output_type": "stream",
     "text": [
      "__________Iteration 106______________\n",
      "SLIM weight: 0.657833940282127\n",
      "RP3b weight: 0.24579528148975527\n",
      "ItemKNN weight: 0.09637077822811768\n",
      "EvaluatorHoldout: Processed 34742 (100.0%) in 13.66 sec. Users per second: 2543\n",
      "EvaluatorHoldout: Processed 35171 (100.0%) in 14.83 sec. Users per second: 2372\n"
     ]
    },
    {
     "name": "stderr",
     "output_type": "stream",
     "text": [
      "[I 2024-12-09 17:55:19,175] Trial 106 finished with value: 0.030852600073283058 and parameters: {'x_0': 0.32460351998249665, 'x_1': 0.6567806948526164, 'x_2': 0.8480367136388348}. Best is trial 61 with value: 0.03091373325182465.\n"
     ]
    },
    {
     "name": "stdout",
     "output_type": "stream",
     "text": [
      "__________Iteration 107______________\n",
      "SLIM weight: 0.796073990565763\n",
      "RP3b weight: 0.11155643171069214\n",
      "ItemKNN weight: 0.09236957772354493\n",
      "EvaluatorHoldout: Processed 34742 (100.0%) in 13.68 sec. Users per second: 2540\n",
      "EvaluatorHoldout: Processed 35171 (100.0%) in 14.85 sec. Users per second: 2369\n"
     ]
    },
    {
     "name": "stderr",
     "output_type": "stream",
     "text": [
      "[I 2024-12-09 17:55:47,798] Trial 107 finished with value: 0.03089923179756729 and parameters: {'x_0': 0.1522442896808534, 'x_1': 0.7681513873003181, 'x_2': 0.8038020161185832}. Best is trial 61 with value: 0.03091373325182465.\n"
     ]
    },
    {
     "name": "stdout",
     "output_type": "stream",
     "text": [
      "__________Iteration 108______________\n",
      "SLIM weight: 0.6721403704858913\n",
      "RP3b weight: 0.06847179086296588\n",
      "ItemKNN weight: 0.25938783865114284\n",
      "EvaluatorHoldout: Processed 34742 (100.0%) in 13.63 sec. Users per second: 2548\n",
      "EvaluatorHoldout: Processed 35171 (100.0%) in 14.85 sec. Users per second: 2368\n"
     ]
    },
    {
     "name": "stderr",
     "output_type": "stream",
     "text": [
      "[I 2024-12-09 17:56:16,383] Trial 108 finished with value: 0.03056682342309162 and parameters: {'x_0': 0.09607217942717673, 'x_1': 0.7876910905482332, 'x_2': 0.4049216562602028}. Best is trial 61 with value: 0.03091373325182465.\n"
     ]
    },
    {
     "name": "stdout",
     "output_type": "stream",
     "text": [
      "__________Iteration 109______________\n",
      "SLIM weight: 0.8217756258947101\n",
      "RP3b weight: 0.12565517703946105\n",
      "ItemKNN weight: 0.05256919706582899\n",
      "EvaluatorHoldout: Processed 34742 (100.0%) in 13.69 sec. Users per second: 2538\n",
      "EvaluatorHoldout: Processed 35171 (100.0%) in 14.87 sec. Users per second: 2365\n"
     ]
    },
    {
     "name": "stderr",
     "output_type": "stream",
     "text": [
      "[I 2024-12-09 17:56:45,048] Trial 109 finished with value: 0.030875389378209387 and parameters: {'x_0': 0.14244887838308912, 'x_1': 0.7423156428510035, 'x_2': 0.8827939574579134}. Best is trial 61 with value: 0.03091373325182465.\n"
     ]
    },
    {
     "name": "stdout",
     "output_type": "stream",
     "text": [
      "__________Iteration 110______________\n",
      "SLIM weight: 0.8005981772072503\n",
      "RP3b weight: 0.11641823642065788\n",
      "ItemKNN weight: 0.08298358637209192\n",
      "EvaluatorHoldout: Processed 34742 (100.0%) in 13.62 sec. Users per second: 2552\n",
      "EvaluatorHoldout: Processed 35171 (100.0%) in 14.82 sec. Users per second: 2373\n"
     ]
    },
    {
     "name": "stderr",
     "output_type": "stream",
     "text": [
      "[I 2024-12-09 17:57:13,590] Trial 110 finished with value: 0.030914024514492856 and parameters: {'x_0': 0.15508239615281794, 'x_1': 0.7625992996376407, 'x_2': 0.8243282824068432}. Best is trial 110 with value: 0.030914024514492856.\n"
     ]
    },
    {
     "name": "stdout",
     "output_type": "stream",
     "text": [
      "__________Iteration 111______________\n",
      "SLIM weight: 0.8040818987226961\n",
      "RP3b weight: 0.11177878594225614\n",
      "ItemKNN weight: 0.08413931533504773\n",
      "EvaluatorHoldout: Processed 34742 (100.0%) in 13.66 sec. Users per second: 2542\n",
      "EvaluatorHoldout: Processed 35171 (100.0%) in 14.80 sec. Users per second: 2377\n"
     ]
    },
    {
     "name": "stderr",
     "output_type": "stream",
     "text": [
      "[I 2024-12-09 17:57:42,153] Trial 111 finished with value: 0.03090897938819678 and parameters: {'x_0': 0.15577447060514774, 'x_1': 0.7722279793684885, 'x_2': 0.823194812370156}. Best is trial 110 with value: 0.030914024514492856.\n"
     ]
    },
    {
     "name": "stdout",
     "output_type": "stream",
     "text": [
      "__________Iteration 112______________\n",
      "SLIM weight: 0.8129711010943693\n",
      "RP3b weight: 0.10312956321029797\n",
      "ItemKNN weight: 0.0838993356953327\n",
      "EvaluatorHoldout: Processed 34742 (100.0%) in 13.82 sec. Users per second: 2513\n",
      "EvaluatorHoldout: Processed 35171 (100.0%) in 14.82 sec. Users per second: 2372\n"
     ]
    },
    {
     "name": "stderr",
     "output_type": "stream",
     "text": [
      "[I 2024-12-09 17:58:10,903] Trial 112 finished with value: 0.03090440370878946 and parameters: {'x_0': 0.12213066757433647, 'x_1': 0.7658769921404247, 'x_2': 0.8049325793737769}. Best is trial 110 with value: 0.030914024514492856.\n"
     ]
    },
    {
     "name": "stdout",
     "output_type": "stream",
     "text": [
      "__________Iteration 113______________\n",
      "SLIM weight: 0.849666458994031\n",
      "RP3b weight: 0.07972703438197949\n",
      "ItemKNN weight: 0.07060650662398944\n",
      "EvaluatorHoldout: Processed 34742 (100.0%) in 13.71 sec. Users per second: 2533\n",
      "EvaluatorHoldout: Processed 35171 (100.0%) in 14.86 sec. Users per second: 2366\n"
     ]
    },
    {
     "name": "stderr",
     "output_type": "stream",
     "text": [
      "[I 2024-12-09 17:58:39,583] Trial 113 finished with value: 0.03087084568058531 and parameters: {'x_0': 0.06840488821417837, 'x_1': 0.7774855843959257, 'x_2': 0.8001967906192627}. Best is trial 110 with value: 0.030914024514492856.\n"
     ]
    },
    {
     "name": "stdout",
     "output_type": "stream",
     "text": [
      "__________Iteration 114______________\n",
      "SLIM weight: 0.8449813955081108\n",
      "RP3b weight: 0.08830902247739529\n",
      "ItemKNN weight: 0.06670958201449405\n",
      "EvaluatorHoldout: Processed 34742 (100.0%) in 13.71 sec. Users per second: 2533\n",
      "EvaluatorHoldout: Processed 35171 (100.0%) in 14.82 sec. Users per second: 2373\n"
     ]
    },
    {
     "name": "stderr",
     "output_type": "stream",
     "text": [
      "[I 2024-12-09 17:59:08,220] Trial 114 finished with value: 0.030884035881732382 and parameters: {'x_0': 0.12525330742436636, 'x_1': 0.8048407027472235, 'x_2': 0.8487353124438364}. Best is trial 110 with value: 0.030914024514492856.\n"
     ]
    },
    {
     "name": "stdout",
     "output_type": "stream",
     "text": [
      "__________Iteration 115______________\n",
      "SLIM weight: 0.9115979142434933\n",
      "RP3b weight: 0.033409519058185594\n",
      "ItemKNN weight: 0.05499256669832116\n",
      "EvaluatorHoldout: Processed 34742 (100.0%) in 13.74 sec. Users per second: 2529\n",
      "EvaluatorHoldout: Processed 35171 (100.0%) in 14.89 sec. Users per second: 2362\n"
     ]
    },
    {
     "name": "stderr",
     "output_type": "stream",
     "text": [
      "[I 2024-12-09 17:59:36,955] Trial 115 finished with value: 0.0307703509223996 and parameters: {'x_0': 0.025903555994191876, 'x_1': 0.874682765206552, 'x_2': 0.8022046400048523}. Best is trial 110 with value: 0.030914024514492856.\n"
     ]
    },
    {
     "name": "stdout",
     "output_type": "stream",
     "text": [
      "__________Iteration 116______________\n",
      "SLIM weight: 0.7452627920110366\n",
      "RP3b weight: 0.1011071854454214\n",
      "ItemKNN weight: 0.15363002254354208\n",
      "EvaluatorHoldout: Processed 34742 (100.0%) in 13.69 sec. Users per second: 2537\n",
      "EvaluatorHoldout: Processed 35171 (100.0%) in 14.83 sec. Users per second: 2371\n"
     ]
    },
    {
     "name": "stderr",
     "output_type": "stream",
     "text": [
      "[I 2024-12-09 18:00:05,576] Trial 116 finished with value: 0.030853576659876567 and parameters: {'x_0': 0.15297076462748238, 'x_1': 0.7751373976517941, 'x_2': 0.6790683460121627}. Best is trial 110 with value: 0.030914024514492856.\n"
     ]
    },
    {
     "name": "stdout",
     "output_type": "stream",
     "text": [
      "__________Iteration 117______________\n",
      "SLIM weight: 0.8265893325644839\n",
      "RP3b weight: 0.06670694770649079\n",
      "ItemKNN weight: 0.10670371972902545\n",
      "EvaluatorHoldout: Processed 34742 (100.0%) in 13.63 sec. Users per second: 2548\n",
      "EvaluatorHoldout: Processed 35171 (100.0%) in 14.84 sec. Users per second: 2370\n"
     ]
    },
    {
     "name": "stderr",
     "output_type": "stream",
     "text": [
      "[I 2024-12-09 18:00:34,147] Trial 117 finished with value: 0.03086415806128179 and parameters: {'x_0': 0.10449162122955975, 'x_1': 0.8333711541366269, 'x_2': 0.7470919451153644}. Best is trial 110 with value: 0.030914024514492856.\n"
     ]
    },
    {
     "name": "stdout",
     "output_type": "stream",
     "text": [
      "__________Iteration 118______________\n",
      "SLIM weight: 0.8259743998791486\n",
      "RP3b weight: 0.07801713995904633\n",
      "ItemKNN weight: 0.0960084601618051\n",
      "EvaluatorHoldout: Processed 34742 (100.0%) in 13.77 sec. Users per second: 2523\n",
      "EvaluatorHoldout: Processed 35171 (100.0%) in 14.89 sec. Users per second: 2362\n"
     ]
    },
    {
     "name": "stderr",
     "output_type": "stream",
     "text": [
      "[I 2024-12-09 18:01:02,902] Trial 118 finished with value: 0.030895946811552496 and parameters: {'x_0': 0.05818349103450801, 'x_1': 0.7644156494385231, 'x_2': 0.7184962722829815}. Best is trial 110 with value: 0.030914024514492856.\n"
     ]
    },
    {
     "name": "stdout",
     "output_type": "stream",
     "text": [
      "__________Iteration 119______________\n",
      "SLIM weight: 0.8952739968741682\n",
      "RP3b weight: 0.04444633917619745\n",
      "ItemKNN weight: 0.06027966394963443\n",
      "EvaluatorHoldout: Processed 34742 (100.0%) in 13.74 sec. Users per second: 2528\n",
      "EvaluatorHoldout: Processed 35171 (100.0%) in 14.79 sec. Users per second: 2378\n"
     ]
    },
    {
     "name": "stderr",
     "output_type": "stream",
     "text": [
      "[I 2024-12-09 18:01:31,531] Trial 119 finished with value: 0.03077930924830853 and parameters: {'x_0': 0.0012515131876286584, 'x_1': 0.7176301645790454, 'x_2': 0.6376282067735608}. Best is trial 110 with value: 0.030914024514492856.\n"
     ]
    },
    {
     "name": "stdout",
     "output_type": "stream",
     "text": [
      "__________Iteration 120______________\n",
      "SLIM weight: 0.8222829924355062\n",
      "RP3b weight: 0.08665818549675444\n",
      "ItemKNN weight: 0.09105882206773942\n",
      "EvaluatorHoldout: Processed 34742 (100.0%) in 13.95 sec. Users per second: 2490\n",
      "EvaluatorHoldout: Processed 35171 (100.0%) in 14.93 sec. Users per second: 2355\n"
     ]
    },
    {
     "name": "stderr",
     "output_type": "stream",
     "text": [
      "[I 2024-12-09 18:02:00,514] Trial 120 finished with value: 0.030897084449268322 and parameters: {'x_0': 0.05443747533390803, 'x_1': 0.7358337425420896, 'x_2': 0.7244602581740544}. Best is trial 110 with value: 0.030914024514492856.\n"
     ]
    },
    {
     "name": "stdout",
     "output_type": "stream",
     "text": [
      "__________Iteration 121______________\n",
      "SLIM weight: 0.8541136990117844\n",
      "RP3b weight: 0.07754746400567607\n",
      "ItemKNN weight: 0.06833883698253963\n",
      "EvaluatorHoldout: Processed 34742 (100.0%) in 13.70 sec. Users per second: 2535\n",
      "EvaluatorHoldout: Processed 35171 (100.0%) in 14.65 sec. Users per second: 2401\n"
     ]
    },
    {
     "name": "stderr",
     "output_type": "stream",
     "text": [
      "[I 2024-12-09 18:02:28,966] Trial 121 finished with value: 0.030866937049798558 and parameters: {'x_0': 0.03729939777094281, 'x_1': 0.7418577856740065, 'x_2': 0.7686344685637133}. Best is trial 110 with value: 0.030914024514492856.\n"
     ]
    },
    {
     "name": "stdout",
     "output_type": "stream",
     "text": [
      "__________Iteration 122______________\n",
      "SLIM weight: 0.8242821725508486\n",
      "RP3b weight: 0.07858835252083457\n",
      "ItemKNN weight: 0.0971294749283169\n",
      "EvaluatorHoldout: Processed 34742 (100.0%) in 13.28 sec. Users per second: 2617\n",
      "EvaluatorHoldout: Processed 35171 (100.0%) in 14.32 sec. Users per second: 2456\n"
     ]
    },
    {
     "name": "stderr",
     "output_type": "stream",
     "text": [
      "[I 2024-12-09 18:02:56,661] Trial 122 finished with value: 0.030893413397442324 and parameters: {'x_0': 0.057433761900301014, 'x_1': 0.7615476191386996, 'x_2': 0.7141446644238508}. Best is trial 110 with value: 0.030914024514492856.\n"
     ]
    },
    {
     "name": "stdout",
     "output_type": "stream",
     "text": [
      "__________Iteration 123______________\n",
      "SLIM weight: 0.7409393460373813\n",
      "RP3b weight: 0.10180403358216253\n",
      "ItemKNN weight: 0.15725662038045604\n",
      "EvaluatorHoldout: Processed 34742 (100.0%) in 13.20 sec. Users per second: 2632\n",
      "EvaluatorHoldout: Processed 35171 (100.0%) in 14.32 sec. Users per second: 2455\n"
     ]
    },
    {
     "name": "stderr",
     "output_type": "stream",
     "text": [
      "[I 2024-12-09 18:03:24,278] Trial 123 finished with value: 0.03084357549939473 and parameters: {'x_0': 0.07238053161673086, 'x_1': 0.6971297557399494, 'x_2': 0.572752056651318}. Best is trial 110 with value: 0.030914024514492856.\n"
     ]
    },
    {
     "name": "stdout",
     "output_type": "stream",
     "text": [
      "__________Iteration 124______________\n",
      "SLIM weight: 0.8172326064055995\n",
      "RP3b weight: 0.12515801421635467\n",
      "ItemKNN weight: 0.0576093793780458\n",
      "EvaluatorHoldout: Processed 34742 (100.0%) in 13.20 sec. Users per second: 2631\n",
      "EvaluatorHoldout: Processed 35171 (100.0%) in 14.35 sec. Users per second: 2450\n"
     ]
    },
    {
     "name": "stderr",
     "output_type": "stream",
     "text": [
      "[I 2024-12-09 18:03:51,927] Trial 124 finished with value: 0.030876651516438317 and parameters: {'x_0': 0.12383880244487043, 'x_1': 0.7262268428536287, 'x_2': 0.8630829295729758}. Best is trial 110 with value: 0.030914024514492856.\n"
     ]
    },
    {
     "name": "stdout",
     "output_type": "stream",
     "text": [
      "__________Iteration 125______________\n",
      "SLIM weight: 0.46912407561034386\n",
      "RP3b weight: 0.22162157733291993\n",
      "ItemKNN weight: 0.3092543470567361\n",
      "EvaluatorHoldout: Processed 34742 (100.0%) in 13.15 sec. Users per second: 2642\n",
      "EvaluatorHoldout: Processed 35171 (100.0%) in 14.11 sec. Users per second: 2493\n"
     ]
    },
    {
     "name": "stderr",
     "output_type": "stream",
     "text": [
      "[I 2024-12-09 18:04:19,278] Trial 125 finished with value: 0.030370874464189977 and parameters: {'x_0': 0.6433083045224947, 'x_1': 0.8118844114249626, 'x_2': 0.7476644671670215}. Best is trial 110 with value: 0.030914024514492856.\n"
     ]
    },
    {
     "name": "stdout",
     "output_type": "stream",
     "text": [
      "__________Iteration 126______________\n",
      "SLIM weight: 0.693861189480488\n",
      "RP3b weight: 0.20194628517248667\n",
      "ItemKNN weight: 0.10419252534702526\n",
      "EvaluatorHoldout: Processed 34742 (100.0%) in 13.01 sec. Users per second: 2671\n",
      "EvaluatorHoldout: Processed 35171 (100.0%) in 14.11 sec. Users per second: 2493\n"
     ]
    },
    {
     "name": "stderr",
     "output_type": "stream",
     "text": [
      "[I 2024-12-09 18:04:46,481] Trial 126 finished with value: 0.030892761197506776 and parameters: {'x_0': 0.08766654900513196, 'x_1': 0.49239641050468896, 'x_2': 0.6938289093859965}. Best is trial 110 with value: 0.030914024514492856.\n"
     ]
    },
    {
     "name": "stdout",
     "output_type": "stream",
     "text": [
      "__________Iteration 127______________\n",
      "SLIM weight: 0.8324824018127693\n",
      "RP3b weight: 0.07184441756569798\n",
      "ItemKNN weight: 0.09567318062153277\n",
      "EvaluatorHoldout: Processed 5000 (14.4%) in 8.77 min. Users per second: 10\n",
      "EvaluatorHoldout: Processed 34742 (100.0%) in 8.94 min. Users per second: 65\n",
      "EvaluatorHoldout: Processed 35171 (100.0%) in 29.64 sec. Users per second: 1187\n"
     ]
    },
    {
     "name": "stderr",
     "output_type": "stream",
     "text": [
      "[I 2024-12-09 18:14:12,715] Trial 127 finished with value: 0.030861883928056645 and parameters: {'x_0': 0.05681284373528918, 'x_1': 0.7807409530244785, 'x_2': 0.7192080783929364}. Best is trial 110 with value: 0.030914024514492856.\n"
     ]
    },
    {
     "name": "stdout",
     "output_type": "stream",
     "text": [
      "__________Iteration 128______________\n",
      "SLIM weight: 0.8956396704309324\n",
      "RP3b weight: 0.08391089507737218\n",
      "ItemKNN weight: 0.02044943449169544\n",
      "EvaluatorHoldout: Processed 34742 (100.0%) in 12.98 sec. Users per second: 2676\n",
      "EvaluatorHoldout: Processed 35171 (100.0%) in 14.27 sec. Users per second: 2465\n"
     ]
    },
    {
     "name": "stderr",
     "output_type": "stream",
     "text": [
      "[I 2024-12-09 18:14:40,056] Trial 128 finished with value: 0.030822033484012575 and parameters: {'x_0': 0.024381919640447218, 'x_1': 0.7061342009939164, 'x_2': 0.9186988925656917}. Best is trial 110 with value: 0.030914024514492856.\n"
     ]
    },
    {
     "name": "stdout",
     "output_type": "stream",
     "text": [
      "__________Iteration 129______________\n",
      "SLIM weight: 0.6730540744037463\n",
      "RP3b weight: 0.2633606761323064\n",
      "ItemKNN weight: 0.06358524946394728\n",
      "EvaluatorHoldout: Processed 34742 (100.0%) in 13.06 sec. Users per second: 2660\n",
      "EvaluatorHoldout: Processed 35171 (100.0%) in 14.06 sec. Users per second: 2502\n"
     ]
    },
    {
     "name": "stderr",
     "output_type": "stream",
     "text": [
      "[I 2024-12-09 18:15:07,266] Trial 129 finished with value: 0.030845476131080542 and parameters: {'x_0': 0.11242617281702315, 'x_1': 0.42521836709882443, 'x_2': 0.813453746430741}. Best is trial 110 with value: 0.030914024514492856.\n"
     ]
    },
    {
     "name": "stdout",
     "output_type": "stream",
     "text": [
      "__________Iteration 130______________\n",
      "SLIM weight: 0.7825288633089432\n",
      "RP3b weight: 0.11388394225629872\n",
      "ItemKNN weight: 0.10358719443475799\n",
      "EvaluatorHoldout: Processed 34742 (100.0%) in 13.00 sec. Users per second: 2672\n",
      "EvaluatorHoldout: Processed 35171 (100.0%) in 14.48 sec. Users per second: 2430\n"
     ]
    },
    {
     "name": "stderr",
     "output_type": "stream",
     "text": [
      "[I 2024-12-09 18:15:34,836] Trial 130 finished with value: 0.03089671094772906 and parameters: {'x_0': 0.1484722685977858, 'x_1': 0.7576120660547204, 'x_2': 0.7768669039606706}. Best is trial 110 with value: 0.030914024514492856.\n"
     ]
    },
    {
     "name": "stdout",
     "output_type": "stream",
     "text": [
      "__________Iteration 131______________\n",
      "SLIM weight: 0.7860034436977034\n",
      "RP3b weight: 0.11392906427853688\n",
      "ItemKNN weight: 0.10006749202375963\n",
      "EvaluatorHoldout: Processed 34742 (100.0%) in 13.09 sec. Users per second: 2653\n",
      "EvaluatorHoldout: Processed 35171 (100.0%) in 14.42 sec. Users per second: 2440\n"
     ]
    },
    {
     "name": "stderr",
     "output_type": "stream",
     "text": [
      "[I 2024-12-09 18:16:02,444] Trial 131 finished with value: 0.030896152408730015 and parameters: {'x_0': 0.15111562869753797, 'x_1': 0.7604017786801455, 'x_2': 0.786169918712135}. Best is trial 110 with value: 0.030914024514492856.\n"
     ]
    },
    {
     "name": "stdout",
     "output_type": "stream",
     "text": [
      "__________Iteration 132______________\n",
      "SLIM weight: 0.772191515580731\n",
      "RP3b weight: 0.1262920534426743\n",
      "ItemKNN weight: 0.10151643097659475\n",
      "EvaluatorHoldout: Processed 34742 (100.0%) in 13.33 sec. Users per second: 2606\n",
      "EvaluatorHoldout: Processed 35171 (100.0%) in 14.65 sec. Users per second: 2401\n"
     ]
    },
    {
     "name": "stderr",
     "output_type": "stream",
     "text": [
      "[I 2024-12-09 18:16:30,525] Trial 132 finished with value: 0.030888238059600445 and parameters: {'x_0': 0.15114390529833774, 'x_1': 0.73415743235213, 'x_2': 0.7800425617246108}. Best is trial 110 with value: 0.030914024514492856.\n"
     ]
    },
    {
     "name": "stdout",
     "output_type": "stream",
     "text": [
      "__________Iteration 133______________\n",
      "SLIM weight: 0.5964124522187558\n",
      "RP3b weight: 0.31490642359664883\n",
      "ItemKNN weight: 0.08868112418459535\n",
      "EvaluatorHoldout: Processed 34742 (100.0%) in 13.54 sec. Users per second: 2567\n",
      "EvaluatorHoldout: Processed 35171 (100.0%) in 14.54 sec. Users per second: 2419\n"
     ]
    },
    {
     "name": "stderr",
     "output_type": "stream",
     "text": [
      "[I 2024-12-09 18:16:58,700] Trial 133 finished with value: 0.030759730685971823 and parameters: {'x_0': 0.21934763652377587, 'x_1': 0.44886680133272006, 'x_2': 0.798054305125861}. Best is trial 110 with value: 0.030914024514492856.\n"
     ]
    },
    {
     "name": "stdout",
     "output_type": "stream",
     "text": [
      "__________Iteration 134______________\n",
      "SLIM weight: 0.7806862909218257\n",
      "RP3b weight: 0.15460718227418632\n",
      "ItemKNN weight: 0.0647065268039879\n",
      "EvaluatorHoldout: Processed 34742 (100.0%) in 13.70 sec. Users per second: 2536\n",
      "EvaluatorHoldout: Processed 35171 (100.0%) in 14.68 sec. Users per second: 2397\n"
     ]
    },
    {
     "name": "stderr",
     "output_type": "stream",
     "text": [
      "[I 2024-12-09 18:17:27,179] Trial 134 finished with value: 0.030889058163897594 and parameters: {'x_0': 0.13856124787202376, 'x_1': 0.6760995753724965, 'x_2': 0.8488983728821039}. Best is trial 110 with value: 0.030914024514492856.\n"
     ]
    },
    {
     "name": "stdout",
     "output_type": "stream",
     "text": [
      "__________Iteration 135______________\n",
      "SLIM weight: 0.811555120202437\n",
      "RP3b weight: 0.1031921254293994\n",
      "ItemKNN weight: 0.08525275436816356\n",
      "EvaluatorHoldout: Processed 34742 (100.0%) in 13.14 sec. Users per second: 2644\n",
      "EvaluatorHoldout: Processed 35171 (100.0%) in 14.21 sec. Users per second: 2476\n"
     ]
    },
    {
     "name": "stderr",
     "output_type": "stream",
     "text": [
      "[I 2024-12-09 18:17:54,623] Trial 135 finished with value: 0.03090751051058373 and parameters: {'x_0': 0.16625834285498758, 'x_1': 0.7960124102757042, 'x_2': 0.828217433464099}. Best is trial 110 with value: 0.030914024514492856.\n"
     ]
    },
    {
     "name": "stdout",
     "output_type": "stream",
     "text": [
      "__________Iteration 136______________\n",
      "SLIM weight: 0.829698249777123\n",
      "RP3b weight: 0.07677366470446936\n",
      "ItemKNN weight: 0.09352808551840748\n",
      "EvaluatorHoldout: Processed 34742 (100.0%) in 13.45 sec. Users per second: 2583\n",
      "EvaluatorHoldout: Processed 35171 (100.0%) in 14.20 sec. Users per second: 2477\n"
     ]
    },
    {
     "name": "stderr",
     "output_type": "stream",
     "text": [
      "[I 2024-12-09 18:18:22,367] Trial 136 finished with value: 0.030887135830287387 and parameters: {'x_0': 0.16852656956806306, 'x_1': 0.8480902182010907, 'x_2': 0.8181366849280112}. Best is trial 110 with value: 0.030914024514492856.\n"
     ]
    },
    {
     "name": "stdout",
     "output_type": "stream",
     "text": [
      "__________Iteration 137______________\n",
      "SLIM weight: 0.5121410941831313\n",
      "RP3b weight: 0.3233546931952635\n",
      "ItemKNN weight: 0.16450421262160528\n",
      "EvaluatorHoldout: Processed 34742 (100.0%) in 13.71 sec. Users per second: 2533\n",
      "EvaluatorHoldout: Processed 35171 (100.0%) in 14.69 sec. Users per second: 2395\n"
     ]
    },
    {
     "name": "stderr",
     "output_type": "stream",
     "text": [
      "[I 2024-12-09 18:18:50,863] Trial 137 finished with value: 0.03060912161575545 and parameters: {'x_0': 0.700383455277477, 'x_1': 0.7986352114085564, 'x_2': 0.8919089608944295}. Best is trial 110 with value: 0.030914024514492856.\n"
     ]
    },
    {
     "name": "stdout",
     "output_type": "stream",
     "text": [
      "__________Iteration 138______________\n",
      "SLIM weight: 0.7373311081297644\n",
      "RP3b weight: 0.17040434948065258\n",
      "ItemKNN weight: 0.092264542389583\n",
      "EvaluatorHoldout: Processed 34742 (100.0%) in 13.73 sec. Users per second: 2530\n",
      "EvaluatorHoldout: Processed 35171 (100.0%) in 14.89 sec. Users per second: 2363\n"
     ]
    },
    {
     "name": "stderr",
     "output_type": "stream",
     "text": [
      "[I 2024-12-09 18:19:19,585] Trial 138 finished with value: 0.030904088459783853 and parameters: {'x_0': 0.23169208539788977, 'x_1': 0.713222173094239, 'x_2': 0.8327782164055837}. Best is trial 110 with value: 0.030914024514492856.\n"
     ]
    },
    {
     "name": "stdout",
     "output_type": "stream",
     "text": [
      "__________Iteration 139______________\n",
      "SLIM weight: 0.741763804962155\n",
      "RP3b weight: 0.1828477380349283\n",
      "ItemKNN weight: 0.07538845700291667\n",
      "EvaluatorHoldout: Processed 34742 (100.0%) in 13.63 sec. Users per second: 2550\n",
      "EvaluatorHoldout: Processed 35171 (100.0%) in 15.39 sec. Users per second: 2285\n"
     ]
    },
    {
     "name": "stderr",
     "output_type": "stream",
     "text": [
      "[I 2024-12-09 18:19:48,706] Trial 139 finished with value: 0.03088181885883428 and parameters: {'x_0': 0.24868737928644125, 'x_1': 0.7096206362453252, 'x_2': 0.8681161680444438}. Best is trial 110 with value: 0.030914024514492856.\n"
     ]
    },
    {
     "name": "stdout",
     "output_type": "stream",
     "text": [
      "__________Iteration 140______________\n",
      "SLIM weight: 0.7282804729753926\n",
      "RP3b weight: 0.1841369009012527\n",
      "ItemKNN weight: 0.08758262612335478\n",
      "EvaluatorHoldout: Processed 34742 (100.0%) in 13.82 sec. Users per second: 2514\n",
      "EvaluatorHoldout: Processed 35171 (100.0%) in 14.86 sec. Users per second: 2367\n"
     ]
    },
    {
     "name": "stderr",
     "output_type": "stream",
     "text": [
      "[I 2024-12-09 18:20:17,489] Trial 140 finished with value: 0.030893014767359082 and parameters: {'x_0': 0.21600590566854483, 'x_1': 0.6787778944967049, 'x_2': 0.8316932687770326}. Best is trial 110 with value: 0.030914024514492856.\n"
     ]
    },
    {
     "name": "stdout",
     "output_type": "stream",
     "text": [
      "__________Iteration 141______________\n",
      "SLIM weight: 0.7312980043837912\n",
      "RP3b weight: 0.14456289952656945\n",
      "ItemKNN weight: 0.12413909608963941\n",
      "EvaluatorHoldout: Processed 34742 (100.0%) in 13.77 sec. Users per second: 2522\n",
      "EvaluatorHoldout: Processed 35171 (100.0%) in 15.20 sec. Users per second: 2313\n"
     ]
    },
    {
     "name": "stderr",
     "output_type": "stream",
     "text": [
      "[I 2024-12-09 18:20:46,562] Trial 141 finished with value: 0.030860781698743574 and parameters: {'x_0': 0.20020481910313445, 'x_1': 0.727638333394561, 'x_2': 0.761069113996244}. Best is trial 110 with value: 0.030914024514492856.\n"
     ]
    },
    {
     "name": "stdout",
     "output_type": "stream",
     "text": [
      "__________Iteration 142______________\n",
      "SLIM weight: 0.6448573623584593\n",
      "RP3b weight: 0.2807194001000764\n",
      "ItemKNN weight: 0.07442323754146424\n",
      "EvaluatorHoldout: Processed 34742 (100.0%) in 14.02 sec. Users per second: 2479\n",
      "EvaluatorHoldout: Processed 35171 (100.0%) in 15.14 sec. Users per second: 2322\n"
     ]
    },
    {
     "name": "stderr",
     "output_type": "stream",
     "text": [
      "[I 2024-12-09 18:21:15,846] Trial 142 finished with value: 0.030828304197928032 and parameters: {'x_0': 0.17159371096132073, 'x_1': 0.4642618785510984, 'x_2': 0.8159311370472637}. Best is trial 110 with value: 0.030914024514492856.\n"
     ]
    },
    {
     "name": "stdout",
     "output_type": "stream",
     "text": [
      "__________Iteration 143______________\n",
      "SLIM weight: 0.8400475412222522\n",
      "RP3b weight: 0.09562993509124673\n",
      "ItemKNN weight: 0.0643225236865009\n",
      "EvaluatorHoldout: Processed 34742 (100.0%) in 14.20 sec. Users per second: 2446\n",
      "EvaluatorHoldout: Processed 35171 (100.0%) in 15.49 sec. Users per second: 2270\n"
     ]
    },
    {
     "name": "stderr",
     "output_type": "stream",
     "text": [
      "[I 2024-12-09 18:21:45,645] Trial 143 finished with value: 0.030898090733231822 and parameters: {'x_0': 0.12178984534299017, 'x_1': 0.7868775186359676, 'x_2': 0.8511089343803636}. Best is trial 110 with value: 0.030914024514492856.\n"
     ]
    },
    {
     "name": "stdout",
     "output_type": "stream",
     "text": [
      "__________Iteration 144______________\n",
      "SLIM weight: 0.8484153154820422\n",
      "RP3b weight: 0.08999450566866166\n",
      "ItemKNN weight: 0.061590178849296046\n",
      "EvaluatorHoldout: Processed 34742 (100.0%) in 14.32 sec. Users per second: 2426\n",
      "EvaluatorHoldout: Processed 35171 (100.0%) in 15.00 sec. Users per second: 2344\n"
     ]
    },
    {
     "name": "stderr",
     "output_type": "stream",
     "text": [
      "[I 2024-12-09 18:22:15,081] Trial 144 finished with value: 0.030883197502130602 and parameters: {'x_0': 0.10006240119731943, 'x_1': 0.7833486362966611, 'x_2': 0.8461070099018266}. Best is trial 110 with value: 0.030914024514492856.\n"
     ]
    },
    {
     "name": "stdout",
     "output_type": "stream",
     "text": [
      "__________Iteration 145______________\n",
      "SLIM weight: 0.8655139553527891\n",
      "RP3b weight: 0.08477809805235471\n",
      "ItemKNN weight: 0.049707946594856334\n",
      "EvaluatorHoldout: Processed 34742 (100.0%) in 14.26 sec. Users per second: 2436\n",
      "EvaluatorHoldout: Processed 35171 (100.0%) in 15.17 sec. Users per second: 2318\n"
     ]
    },
    {
     "name": "stderr",
     "output_type": "stream",
     "text": [
      "[I 2024-12-09 18:22:44,625] Trial 145 finished with value: 0.030842667445193934 and parameters: {'x_0': 0.12532337895389478, 'x_1': 0.8159267944418376, 'x_2': 0.8875614700044903}. Best is trial 110 with value: 0.030914024514492856.\n"
     ]
    },
    {
     "name": "stdout",
     "output_type": "stream",
     "text": [
      "__________Iteration 146______________\n",
      "SLIM weight: 0.7614491277116339\n",
      "RP3b weight: 0.15839665159983815\n",
      "ItemKNN weight: 0.08015422068852804\n",
      "EvaluatorHoldout: Processed 34742 (100.0%) in 14.14 sec. Users per second: 2457\n",
      "EvaluatorHoldout: Processed 35171 (100.0%) in 14.98 sec. Users per second: 2347\n"
     ]
    },
    {
     "name": "stderr",
     "output_type": "stream",
     "text": [
      "[I 2024-12-09 18:23:13,855] Trial 146 finished with value: 0.030900883428227017 and parameters: {'x_0': 0.23729551391158796, 'x_1': 0.7413917077677735, 'x_2': 0.8594876167262345}. Best is trial 110 with value: 0.030914024514492856.\n"
     ]
    },
    {
     "name": "stdout",
     "output_type": "stream",
     "text": [
      "__________Iteration 147______________\n",
      "SLIM weight: 0.8009281275187895\n",
      "RP3b weight: 0.14008610399765636\n",
      "ItemKNN weight: 0.05898576848355412\n",
      "EvaluatorHoldout: Processed 34742 (100.0%) in 13.86 sec. Users per second: 2507\n",
      "EvaluatorHoldout: Processed 35171 (100.0%) in 15.04 sec. Users per second: 2339\n"
     ]
    },
    {
     "name": "stderr",
     "output_type": "stream",
     "text": [
      "[I 2024-12-09 18:23:42,851] Trial 147 finished with value: 0.03089048135324894 and parameters: {'x_0': 0.27772529230185045, 'x_1': 0.7992556538416367, 'x_2': 0.9099637137834686}. Best is trial 110 with value: 0.030914024514492856.\n"
     ]
    },
    {
     "name": "stdout",
     "output_type": "stream",
     "text": [
      "__________Iteration 148______________\n",
      "SLIM weight: 0.8657012560665227\n",
      "RP3b weight: 0.10563543689321767\n",
      "ItemKNN weight: 0.028663307040259767\n",
      "EvaluatorHoldout: Processed 34742 (100.0%) in 14.06 sec. Users per second: 2472\n",
      "EvaluatorHoldout: Processed 35171 (100.0%) in 15.25 sec. Users per second: 2306\n"
     ]
    },
    {
     "name": "stderr",
     "output_type": "stream",
     "text": [
      "[I 2024-12-09 18:24:12,274] Trial 148 finished with value: 0.03084905237976378 and parameters: {'x_0': 0.23293098411301297, 'x_1': 0.8371189865897615, 'x_2': 0.9529035384186544}. Best is trial 110 with value: 0.030914024514492856.\n"
     ]
    },
    {
     "name": "stdout",
     "output_type": "stream",
     "text": [
      "__________Iteration 149______________\n",
      "SLIM weight: 0.5085501768241358\n",
      "RP3b weight: 0.11188218085734027\n",
      "ItemKNN weight: 0.3795676423185239\n",
      "EvaluatorHoldout: Processed 34742 (100.0%) in 13.76 sec. Users per second: 2524\n",
      "EvaluatorHoldout: Processed 35171 (100.0%) in 15.13 sec. Users per second: 2325\n"
     ]
    },
    {
     "name": "stderr",
     "output_type": "stream",
     "text": [
      "[I 2024-12-09 18:24:41,264] Trial 149 finished with value: 0.030170437775784816 and parameters: {'x_0': 0.20484774638779832, 'x_1': 0.7055264755569475, 'x_2': 0.30624674415628206}. Best is trial 110 with value: 0.030914024514492856.\n"
     ]
    },
    {
     "name": "stdout",
     "output_type": "stream",
     "text": [
      "__________Iteration 150______________\n",
      "SLIM weight: 0.8358550534387206\n",
      "RP3b weight: 0.08041186573293085\n",
      "ItemKNN weight: 0.08373308082834857\n",
      "EvaluatorHoldout: Processed 34742 (100.0%) in 14.14 sec. Users per second: 2456\n",
      "EvaluatorHoldout: Processed 35171 (100.0%) in 14.98 sec. Users per second: 2348\n"
     ]
    },
    {
     "name": "stderr",
     "output_type": "stream",
     "text": [
      "[I 2024-12-09 18:25:10,498] Trial 150 finished with value: 0.030880971341580195 and parameters: {'x_0': 0.251274094444807, 'x_1': 0.8755729531622055, 'x_2': 0.8707808387135774}. Best is trial 110 with value: 0.030914024514492856.\n"
     ]
    },
    {
     "name": "stdout",
     "output_type": "stream",
     "text": [
      "__________Iteration 151______________\n",
      "SLIM weight: 0.7809354687714966\n",
      "RP3b weight: 0.1358600197541267\n",
      "ItemKNN weight: 0.08320451147437653\n",
      "EvaluatorHoldout: Processed 34742 (100.0%) in 13.89 sec. Users per second: 2501\n",
      "EvaluatorHoldout: Processed 35171 (100.0%) in 15.10 sec. Users per second: 2329\n"
     ]
    },
    {
     "name": "stderr",
     "output_type": "stream",
     "text": [
      "[I 2024-12-09 18:25:39,595] Trial 151 finished with value: 0.030887557304501403 and parameters: {'x_0': 0.18023665417231924, 'x_1': 0.742229792548551, 'x_2': 0.833132450889154}. Best is trial 110 with value: 0.030914024514492856.\n"
     ]
    },
    {
     "name": "stdout",
     "output_type": "stream",
     "text": [
      "__________Iteration 152______________\n",
      "SLIM weight: 0.7106038846360277\n",
      "RP3b weight: 0.18228570616273881\n",
      "ItemKNN weight: 0.10711040920123344\n",
      "EvaluatorHoldout: Processed 34742 (100.0%) in 14.05 sec. Users per second: 2472\n",
      "EvaluatorHoldout: Processed 35171 (100.0%) in 15.11 sec. Users per second: 2328\n"
     ]
    },
    {
     "name": "stderr",
     "output_type": "stream",
     "text": [
      "[I 2024-12-09 18:26:08,866] Trial 152 finished with value: 0.0308952603454207 and parameters: {'x_0': 0.23695897091803814, 'x_1': 0.6911777542419439, 'x_2': 0.8049029688759667}. Best is trial 110 with value: 0.030914024514492856.\n"
     ]
    },
    {
     "name": "stdout",
     "output_type": "stream",
     "text": [
      "__________Iteration 153______________\n",
      "SLIM weight: 0.5607453758337357\n",
      "RP3b weight: 0.26997160629785355\n",
      "ItemKNN weight: 0.1692830178684107\n",
      "EvaluatorHoldout: Processed 34742 (100.0%) in 14.04 sec. Users per second: 2474\n",
      "EvaluatorHoldout: Processed 35171 (100.0%) in 15.04 sec. Users per second: 2339\n"
     ]
    },
    {
     "name": "stderr",
     "output_type": "stream",
     "text": [
      "[I 2024-12-09 18:26:38,052] Trial 153 finished with value: 0.030671534065623878 and parameters: {'x_0': 0.5913793220438228, 'x_1': 0.776541459416633, 'x_2': 0.853353220320507}. Best is trial 110 with value: 0.030914024514492856.\n"
     ]
    },
    {
     "name": "stdout",
     "output_type": "stream",
     "text": [
      "__________Iteration 154______________\n",
      "SLIM weight: 0.7180956189073564\n",
      "RP3b weight: 0.17341225034023286\n",
      "ItemKNN weight: 0.10849213075241071\n",
      "EvaluatorHoldout: Processed 34742 (100.0%) in 13.91 sec. Users per second: 2498\n",
      "EvaluatorHoldout: Processed 35171 (100.0%) in 15.22 sec. Users per second: 2311\n"
     ]
    },
    {
     "name": "stderr",
     "output_type": "stream",
     "text": [
      "[I 2024-12-09 18:27:07,277] Trial 154 finished with value: 0.030893899977429178 and parameters: {'x_0': 0.30148744362345414, 'x_1': 0.748598935602035, 'x_2': 0.8343079221716801}. Best is trial 110 with value: 0.030914024514492856.\n"
     ]
    },
    {
     "name": "stdout",
     "output_type": "stream",
     "text": [
      "__________Iteration 155______________\n",
      "SLIM weight: 0.635867068667102\n",
      "RP3b weight: 0.31021970668960275\n",
      "ItemKNN weight: 0.053913224643295246\n",
      "EvaluatorHoldout: Processed 34742 (100.0%) in 13.92 sec. Users per second: 2495\n",
      "EvaluatorHoldout: Processed 35171 (100.0%) in 15.13 sec. Users per second: 2324\n"
     ]
    },
    {
     "name": "stderr",
     "output_type": "stream",
     "text": [
      "[I 2024-12-09 18:27:36,438] Trial 155 finished with value: 0.03079145547267616 and parameters: {'x_0': 0.16388799014095895, 'x_1': 0.41381101513044516, 'x_2': 0.8578351795414779}. Best is trial 110 with value: 0.030914024514492856.\n"
     ]
    },
    {
     "name": "stdout",
     "output_type": "stream",
     "text": [
      "__________Iteration 156______________\n",
      "SLIM weight: 0.7790338402131117\n",
      "RP3b weight: 0.16262909563275957\n",
      "ItemKNN weight: 0.05833706415412867\n",
      "EvaluatorHoldout: Processed 34742 (100.0%) in 13.98 sec. Users per second: 2484\n",
      "EvaluatorHoldout: Processed 35171 (100.0%) in 14.73 sec. Users per second: 2387\n"
     ]
    },
    {
     "name": "stderr",
     "output_type": "stream",
     "text": [
      "[I 2024-12-09 18:28:05,265] Trial 156 finished with value: 0.030870699478147835 and parameters: {'x_0': 0.19629945808161905, 'x_1': 0.7118551228279414, 'x_2': 0.8852196587775}. Best is trial 110 with value: 0.030914024514492856.\n"
     ]
    },
    {
     "name": "stdout",
     "output_type": "stream",
     "text": [
      "__________Iteration 157______________\n",
      "SLIM weight: 0.8435398513844172\n",
      "RP3b weight: 0.08793882696162204\n",
      "ItemKNN weight: 0.06852132165396076\n",
      "EvaluatorHoldout: Processed 34742 (100.0%) in 13.61 sec. Users per second: 2552\n",
      "EvaluatorHoldout: Processed 35171 (100.0%) in 15.52 sec. Users per second: 2266\n"
     ]
    },
    {
     "name": "stderr",
     "output_type": "stream",
     "text": [
      "[I 2024-12-09 18:28:34,501] Trial 157 finished with value: 0.030881045585005425 and parameters: {'x_0': 0.08134251107309566, 'x_1': 0.7698407020756359, 'x_2': 0.8156133918379349}. Best is trial 110 with value: 0.030914024514492856.\n"
     ]
    },
    {
     "name": "stdout",
     "output_type": "stream",
     "text": [
      "__________Iteration 158______________\n",
      "SLIM weight: 0.8054333585628762\n",
      "RP3b weight: 0.11208446215480945\n",
      "ItemKNN weight: 0.08248217928231423\n",
      "EvaluatorHoldout: Processed 34742 (100.0%) in 14.04 sec. Users per second: 2474\n",
      "EvaluatorHoldout: Processed 35171 (100.0%) in 14.92 sec. Users per second: 2357\n"
     ]
    },
    {
     "name": "stderr",
     "output_type": "stream",
     "text": [
      "[I 2024-12-09 18:29:03,571] Trial 158 finished with value: 0.030909625877099542 and parameters: {'x_0': 0.11285046459387733, 'x_1': 0.7381522495303211, 'x_2': 0.7997781153942771}. Best is trial 110 with value: 0.030914024514492856.\n"
     ]
    },
    {
     "name": "stdout",
     "output_type": "stream",
     "text": [
      "__________Iteration 159______________\n",
      "SLIM weight: 0.8127353469477454\n",
      "RP3b weight: 0.0947870980159557\n",
      "ItemKNN weight: 0.0924775550362988\n",
      "EvaluatorHoldout: Processed 34742 (100.0%) in 13.65 sec. Users per second: 2546\n",
      "EvaluatorHoldout: Processed 35171 (100.0%) in 14.78 sec. Users per second: 2380\n"
     ]
    },
    {
     "name": "stderr",
     "output_type": "stream",
     "text": [
      "[I 2024-12-09 18:29:32,093] Trial 159 finished with value: 0.03090073722578965 and parameters: {'x_0': 0.13445990976345126, 'x_1': 0.7913528417043709, 'x_2': 0.7958778837101601}. Best is trial 110 with value: 0.030914024514492856.\n"
     ]
    },
    {
     "name": "stdout",
     "output_type": "stream",
     "text": [
      "__________Iteration 160______________\n",
      "SLIM weight: 0.8285348487291013\n",
      "RP3b weight: 0.08632153365396635\n",
      "ItemKNN weight: 0.08514361761693233\n",
      "EvaluatorHoldout: Processed 34742 (100.0%) in 13.92 sec. Users per second: 2496\n",
      "EvaluatorHoldout: Processed 35171 (100.0%) in 15.11 sec. Users per second: 2328\n"
     ]
    },
    {
     "name": "stderr",
     "output_type": "stream",
     "text": [
      "[I 2024-12-09 18:30:01,223] Trial 160 finished with value: 0.030899580170562616 and parameters: {'x_0': 0.11001647206152403, 'x_1': 0.7945725227870155, 'x_2': 0.7970696784390738}. Best is trial 110 with value: 0.030914024514492856.\n"
     ]
    },
    {
     "name": "stdout",
     "output_type": "stream",
     "text": [
      "__________Iteration 161______________\n",
      "SLIM weight: 0.8251264611366229\n",
      "RP3b weight: 0.08394701209949489\n",
      "ItemKNN weight: 0.09092652676388209\n",
      "EvaluatorHoldout: Processed 34742 (100.0%) in 14.24 sec. Users per second: 2440\n",
      "EvaluatorHoldout: Processed 35171 (100.0%) in 15.15 sec. Users per second: 2322\n"
     ]
    },
    {
     "name": "stderr",
     "output_type": "stream",
     "text": [
      "[I 2024-12-09 18:30:30,717] Trial 161 finished with value: 0.03089160871110592 and parameters: {'x_0': 0.12855122295840177, 'x_1': 0.8116314662387027, 'x_2': 0.79766915742876}. Best is trial 110 with value: 0.030914024514492856.\n"
     ]
    },
    {
     "name": "stdout",
     "output_type": "stream",
     "text": [
      "__________Iteration 162______________\n",
      "SLIM weight: 0.8332773163337946\n",
      "RP3b weight: 0.09247482315395841\n",
      "ItemKNN weight: 0.0742478605122469\n",
      "EvaluatorHoldout: Processed 34742 (100.0%) in 13.88 sec. Users per second: 2504\n",
      "EvaluatorHoldout: Processed 35171 (100.0%) in 14.58 sec. Users per second: 2413\n"
     ]
    },
    {
     "name": "stderr",
     "output_type": "stream",
     "text": [
      "[I 2024-12-09 18:30:59,273] Trial 162 finished with value: 0.03088456243894827 and parameters: {'x_0': 0.11718016340471027, 'x_1': 0.7882500204972673, 'x_2': 0.8260982719467945}. Best is trial 110 with value: 0.030914024514492856.\n"
     ]
    },
    {
     "name": "stdout",
     "output_type": "stream",
     "text": [
      "__________Iteration 163______________\n",
      "SLIM weight: 0.7751027048726233\n",
      "RP3b weight: 0.12193299770708056\n",
      "ItemKNN weight: 0.1029642974202961\n",
      "EvaluatorHoldout: Processed 34742 (100.0%) in 13.94 sec. Users per second: 2492\n",
      "EvaluatorHoldout: Processed 35171 (100.0%) in 14.96 sec. Users per second: 2350\n"
     ]
    },
    {
     "name": "stderr",
     "output_type": "stream",
     "text": [
      "[I 2024-12-09 18:31:28,274] Trial 163 finished with value: 0.030892275759726435 and parameters: {'x_0': 0.17563534700291394, 'x_1': 0.7606210686623815, 'x_2': 0.7936967189033933}. Best is trial 110 with value: 0.030914024514492856.\n"
     ]
    },
    {
     "name": "stdout",
     "output_type": "stream",
     "text": [
      "__________Iteration 164______________\n",
      "SLIM weight: 0.8264445425440641\n",
      "RP3b weight: 0.06240313436260296\n",
      "ItemKNN weight: 0.11115232309333294\n",
      "EvaluatorHoldout: Processed 34742 (100.0%) in 13.68 sec. Users per second: 2539\n",
      "EvaluatorHoldout: Processed 35171 (100.0%) in 14.80 sec. Users per second: 2376\n"
     ]
    },
    {
     "name": "stderr",
     "output_type": "stream",
     "text": [
      "[I 2024-12-09 18:31:56,870] Trial 164 finished with value: 0.03085377883043455 and parameters: {'x_0': 0.14174627840493803, 'x_1': 0.8628441998009174, 'x_2': 0.7689230961661014}. Best is trial 110 with value: 0.030914024514492856.\n"
     ]
    },
    {
     "name": "stdout",
     "output_type": "stream",
     "text": [
      "__________Iteration 165______________\n",
      "SLIM weight: 0.8550623031163863\n",
      "RP3b weight: 0.08253284591226095\n",
      "ItemKNN weight: 0.06240485097135271\n",
      "EvaluatorHoldout: Processed 34742 (100.0%) in 13.63 sec. Users per second: 2550\n",
      "EvaluatorHoldout: Processed 35171 (100.0%) in 15.26 sec. Users per second: 2305\n"
     ]
    },
    {
     "name": "stderr",
     "output_type": "stream",
     "text": [
      "[I 2024-12-09 18:32:25,852] Trial 165 finished with value: 0.030873597256144997 and parameters: {'x_0': 0.10174015369004832, 'x_1': 0.802048395148132, 'x_2': 0.846377294264774}. Best is trial 110 with value: 0.030914024514492856.\n"
     ]
    },
    {
     "name": "stdout",
     "output_type": "stream",
     "text": [
      "__________Iteration 166______________\n",
      "SLIM weight: 0.8457519454900722\n",
      "RP3b weight: 0.08712401052605347\n",
      "ItemKNN weight: 0.06712404398387446\n",
      "EvaluatorHoldout: Processed 34742 (100.0%) in 13.99 sec. Users per second: 2483\n",
      "EvaluatorHoldout: Processed 35171 (100.0%) in 15.08 sec. Users per second: 2333\n"
     ]
    },
    {
     "name": "stderr",
     "output_type": "stream",
     "text": [
      "[I 2024-12-09 18:32:55,024] Trial 166 finished with value: 0.03087734826242893 and parameters: {'x_0': 0.16013003170488394, 'x_1': 0.8280371534020279, 'x_2': 0.864693308151967}. Best is trial 110 with value: 0.030914024514492856.\n"
     ]
    },
    {
     "name": "stdout",
     "output_type": "stream",
     "text": [
      "__________Iteration 167______________\n",
      "SLIM weight: 0.7454495915764914\n",
      "RP3b weight: 0.15026246906216634\n",
      "ItemKNN weight: 0.10428793936134235\n",
      "EvaluatorHoldout: Processed 34742 (100.0%) in 13.87 sec. Users per second: 2505\n",
      "EvaluatorHoldout: Processed 35171 (100.0%) in 15.23 sec. Users per second: 2310\n"
     ]
    },
    {
     "name": "stderr",
     "output_type": "stream",
     "text": [
      "[I 2024-12-09 18:33:24,222] Trial 167 finished with value: 0.03089546137377214 and parameters: {'x_0': 0.22383294586820618, 'x_1': 0.739541021334266, 'x_2': 0.8110633346602771}. Best is trial 110 with value: 0.030914024514492856.\n"
     ]
    },
    {
     "name": "stdout",
     "output_type": "stream",
     "text": [
      "__________Iteration 168______________\n",
      "SLIM weight: 0.7689613498811368\n",
      "RP3b weight: 0.14710266982612727\n",
      "ItemKNN weight: 0.08393598029273583\n",
      "EvaluatorHoldout: Processed 34742 (100.0%) in 13.74 sec. Users per second: 2529\n",
      "EvaluatorHoldout: Processed 35171 (100.0%) in 15.28 sec. Users per second: 2301\n"
     ]
    },
    {
     "name": "stderr",
     "output_type": "stream",
     "text": [
      "[I 2024-12-09 18:33:53,342] Trial 168 finished with value: 0.030891534467680712 and parameters: {'x_0': 0.18770473037682642, 'x_1': 0.7261318151136648, 'x_2': 0.8330981756699131}. Best is trial 110 with value: 0.030914024514492856.\n"
     ]
    },
    {
     "name": "stdout",
     "output_type": "stream",
     "text": [
      "__________Iteration 169______________\n",
      "SLIM weight: 0.7476101128198618\n",
      "RP3b weight: 0.12026318301345319\n",
      "ItemKNN weight: 0.132126704166685\n",
      "EvaluatorHoldout: Processed 34742 (100.0%) in 14.17 sec. Users per second: 2452\n",
      "EvaluatorHoldout: Processed 35171 (100.0%) in 15.27 sec. Users per second: 2304\n"
     ]
    },
    {
     "name": "stderr",
     "output_type": "stream",
     "text": [
      "[I 2024-12-09 18:34:22,883] Trial 169 finished with value: 0.030858877640438112 and parameters: {'x_0': 0.20674070276867973, 'x_1': 0.7760273455382052, 'x_2': 0.7568569412433066}. Best is trial 110 with value: 0.030914024514492856.\n"
     ]
    },
    {
     "name": "stdout",
     "output_type": "stream",
     "text": [
      "__________Iteration 170______________\n",
      "SLIM weight: 0.7665655477874403\n",
      "RP3b weight: 0.14228211219056147\n",
      "ItemKNN weight: 0.09115234002199808\n",
      "EvaluatorHoldout: Processed 34742 (100.0%) in 13.88 sec. Users per second: 2502\n",
      "EvaluatorHoldout: Processed 35171 (100.0%) in 15.12 sec. Users per second: 2326\n"
     ]
    },
    {
     "name": "stderr",
     "output_type": "stream",
     "text": [
      "[I 2024-12-09 18:34:51,992] Trial 170 finished with value: 0.030884579572046388 and parameters: {'x_0': 0.1367840882447798, 'x_1': 0.6912572483822734, 'x_2': 0.7893433530178592}. Best is trial 110 with value: 0.030914024514492856.\n"
     ]
    },
    {
     "name": "stdout",
     "output_type": "stream",
     "text": [
      "__________Iteration 171______________\n",
      "SLIM weight: 0.14400966681375454\n",
      "RP3b weight: 0.5019545965072113\n",
      "ItemKNN weight: 0.35403573667903415\n",
      "EvaluatorHoldout: Processed 34742 (100.0%) in 14.01 sec. Users per second: 2481\n",
      "EvaluatorHoldout: Processed 35171 (100.0%) in 14.83 sec. Users per second: 2371\n"
     ]
    },
    {
     "name": "stderr",
     "output_type": "stream",
     "text": [
      "[I 2024-12-09 18:35:20,931] Trial 171 finished with value: 0.029424148576398565 and parameters: {'x_0': 0.9221512465090107, 'x_1': 0.7539034739153435, 'x_2': 0.8193492200942635}. Best is trial 110 with value: 0.030914024514492856.\n"
     ]
    },
    {
     "name": "stdout",
     "output_type": "stream",
     "text": [
      "__________Iteration 172______________\n",
      "SLIM weight: 0.857351471913917\n",
      "RP3b weight: 0.08306502465824595\n",
      "ItemKNN weight: 0.05958350342783705\n",
      "EvaluatorHoldout: Processed 34742 (100.0%) in 13.75 sec. Users per second: 2527\n",
      "EvaluatorHoldout: Processed 35171 (100.0%) in 14.83 sec. Users per second: 2371\n"
     ]
    },
    {
     "name": "stderr",
     "output_type": "stream",
     "text": [
      "[I 2024-12-09 18:35:49,616] Trial 172 finished with value: 0.030870622950309644 and parameters: {'x_0': 0.09105756347696407, 'x_1': 0.7928165237206113, 'x_2': 0.8465944283286729}. Best is trial 110 with value: 0.030914024514492856.\n"
     ]
    },
    {
     "name": "stdout",
     "output_type": "stream",
     "text": [
      "__________Iteration 173______________\n",
      "SLIM weight: 0.77210326892935\n",
      "RP3b weight: 0.1349380616536241\n",
      "ItemKNN weight: 0.09295866941702587\n",
      "EvaluatorHoldout: Processed 34742 (100.0%) in 13.39 sec. Users per second: 2595\n",
      "EvaluatorHoldout: Processed 35171 (100.0%) in 14.74 sec. Users per second: 2386\n"
     ]
    },
    {
     "name": "stderr",
     "output_type": "stream",
     "text": [
      "[I 2024-12-09 18:36:17,844] Trial 173 finished with value: 0.03089659215824869 and parameters: {'x_0': 0.15422521892998162, 'x_1': 0.7213008932547533, 'x_2': 0.7984663270007312}. Best is trial 110 with value: 0.030914024514492856.\n"
     ]
    },
    {
     "name": "stdout",
     "output_type": "stream",
     "text": [
      "__________Iteration 174______________\n",
      "SLIM weight: 0.8780457109097101\n",
      "RP3b weight: 0.07965264127354149\n",
      "ItemKNN weight: 0.042301647816748465\n",
      "EvaluatorHoldout: Processed 34742 (100.0%) in 13.68 sec. Users per second: 2540\n",
      "EvaluatorHoldout: Processed 35171 (100.0%) in 14.77 sec. Users per second: 2382\n"
     ]
    },
    {
     "name": "stderr",
     "output_type": "stream",
     "text": [
      "[I 2024-12-09 18:36:46,387] Trial 174 finished with value: 0.030809247623981267 and parameters: {'x_0': 0.11158426951972798, 'x_1': 0.819601072217991, 'x_2': 0.8997385437686591}. Best is trial 110 with value: 0.030914024514492856.\n"
     ]
    },
    {
     "name": "stdout",
     "output_type": "stream",
     "text": [
      "__________Iteration 175______________\n",
      "SLIM weight: 0.8061279523450177\n",
      "RP3b weight: 0.13206916227806834\n",
      "ItemKNN weight: 0.06180288537691388\n",
      "EvaluatorHoldout: Processed 34742 (100.0%) in 13.77 sec. Users per second: 2522\n",
      "EvaluatorHoldout: Processed 35171 (100.0%) in 15.17 sec. Users per second: 2319\n"
     ]
    },
    {
     "name": "stderr",
     "output_type": "stream",
     "text": [
      "[I 2024-12-09 18:37:15,435] Trial 175 finished with value: 0.03087680000328869 and parameters: {'x_0': 0.17810079533881068, 'x_1': 0.7537641079293516, 'x_2': 0.8760951753134797}. Best is trial 110 with value: 0.030914024514492856.\n"
     ]
    },
    {
     "name": "stdout",
     "output_type": "stream",
     "text": [
      "__________Iteration 176______________\n",
      "SLIM weight: 0.6375305068754126\n",
      "RP3b weight: 0.3022589374195894\n",
      "ItemKNN weight: 0.060210555704998024\n",
      "EvaluatorHoldout: Processed 34742 (100.0%) in 13.92 sec. Users per second: 2497\n",
      "EvaluatorHoldout: Processed 35171 (100.0%) in 14.76 sec. Users per second: 2382\n"
     ]
    },
    {
     "name": "stderr",
     "output_type": "stream",
     "text": [
      "[I 2024-12-09 18:37:44,219] Trial 176 finished with value: 0.030808941512627794 and parameters: {'x_0': 0.12861258311246374, 'x_1': 0.3781841222954524, 'x_2': 0.823906049735474}. Best is trial 110 with value: 0.030914024514492856.\n"
     ]
    },
    {
     "name": "stdout",
     "output_type": "stream",
     "text": [
      "__________Iteration 177______________\n",
      "SLIM weight: 0.7246343162790198\n",
      "RP3b weight: 0.1369207914361168\n",
      "ItemKNN weight: 0.1384448922848634\n",
      "EvaluatorHoldout: Processed 34742 (100.0%) in 13.77 sec. Users per second: 2523\n",
      "EvaluatorHoldout: Processed 35171 (100.0%) in 14.70 sec. Users per second: 2392\n"
     ]
    },
    {
     "name": "stderr",
     "output_type": "stream",
     "text": [
      "[I 2024-12-09 18:38:12,787] Trial 177 finished with value: 0.030849845071103867 and parameters: {'x_0': 0.2629324966355345, 'x_1': 0.7769242251183841, 'x_2': 0.7747443893192875}. Best is trial 110 with value: 0.030914024514492856.\n"
     ]
    },
    {
     "name": "stdout",
     "output_type": "stream",
     "text": [
      "__________Iteration 178______________\n",
      "SLIM weight: 0.49096509088801077\n",
      "RP3b weight: 0.03320043383848695\n",
      "ItemKNN weight: 0.47583447527350226\n",
      "EvaluatorHoldout: Processed 34742 (100.0%) in 13.36 sec. Users per second: 2600\n",
      "EvaluatorHoldout: Processed 35171 (100.0%) in 14.27 sec. Users per second: 2464\n"
     ]
    },
    {
     "name": "stderr",
     "output_type": "stream",
     "text": [
      "[I 2024-12-09 18:38:40,513] Trial 178 finished with value: 0.029643520764857167 and parameters: {'x_0': 0.0783967661526593, 'x_1': 0.8418395893371295, 'x_2': 0.084795691963934}. Best is trial 110 with value: 0.030914024514492856.\n"
     ]
    },
    {
     "name": "stdout",
     "output_type": "stream",
     "text": [
      "__________Iteration 179______________\n",
      "SLIM weight: 0.7113711807762365\n",
      "RP3b weight: 0.15593926225548135\n",
      "ItemKNN weight: 0.1326895569682822\n",
      "EvaluatorHoldout: Processed 34742 (100.0%) in 13.34 sec. Users per second: 2605\n",
      "EvaluatorHoldout: Processed 35171 (100.0%) in 14.43 sec. Users per second: 2437\n"
     ]
    },
    {
     "name": "stderr",
     "output_type": "stream",
     "text": [
      "[I 2024-12-09 18:39:08,375] Trial 179 finished with value: 0.030874862820993502 and parameters: {'x_0': 0.21165240303524602, 'x_1': 0.7114923833009263, 'x_2': 0.7485328682462647}. Best is trial 110 with value: 0.030914024514492856.\n"
     ]
    },
    {
     "name": "stdout",
     "output_type": "stream",
     "text": [
      "__________Iteration 180______________\n",
      "SLIM weight: 0.7699804784245136\n",
      "RP3b weight: 0.16569404498119134\n",
      "ItemKNN weight: 0.06432547659429501\n",
      "EvaluatorHoldout: Processed 34742 (100.0%) in 13.26 sec. Users per second: 2619\n",
      "EvaluatorHoldout: Processed 35171 (100.0%) in 14.37 sec. Users per second: 2448\n"
     ]
    },
    {
     "name": "stderr",
     "output_type": "stream",
     "text": [
      "[I 2024-12-09 18:39:36,098] Trial 180 finished with value: 0.03088010897564095 and parameters: {'x_0': 0.1570304811297928, 'x_1': 0.6714006491273627, 'x_2': 0.8567046712078811}. Best is trial 110 with value: 0.030914024514492856.\n"
     ]
    },
    {
     "name": "stdout",
     "output_type": "stream",
     "text": [
      "__________Iteration 181______________\n",
      "SLIM weight: 0.5487198634669185\n",
      "RP3b weight: 0.4096502967298202\n",
      "ItemKNN weight: 0.04162983980326137\n",
      "EvaluatorHoldout: Processed 34742 (100.0%) in 13.23 sec. Users per second: 2627\n",
      "EvaluatorHoldout: Processed 35171 (100.0%) in 14.28 sec. Users per second: 2463\n"
     ]
    },
    {
     "name": "stderr",
     "output_type": "stream",
     "text": [
      "[I 2024-12-09 18:40:03,696] Trial 181 finished with value: 0.030650576859991025 and parameters: {'x_0': 0.05861008397697346, 'x_1': 0.12028789740415413, 'x_2': 0.8063609929864366}. Best is trial 110 with value: 0.030914024514492856.\n"
     ]
    },
    {
     "name": "stdout",
     "output_type": "stream",
     "text": [
      "__________Iteration 182______________\n",
      "SLIM weight: 0.7555310148398332\n",
      "RP3b weight: 0.07236557699551706\n",
      "ItemKNN weight: 0.1721034081646497\n",
      "EvaluatorHoldout: Processed 34742 (100.0%) in 13.23 sec. Users per second: 2625\n",
      "EvaluatorHoldout: Processed 35171 (100.0%) in 14.23 sec. Users per second: 2472\n"
     ]
    },
    {
     "name": "stderr",
     "output_type": "stream",
     "text": [
      "[I 2024-12-09 18:40:31,250] Trial 182 finished with value: 0.030797422359651706 and parameters: {'x_0': 0.049414086915736635, 'x_1': 0.7497139913616191, 'x_2': 0.5040464288791355}. Best is trial 110 with value: 0.030914024514492856.\n"
     ]
    },
    {
     "name": "stdout",
     "output_type": "stream",
     "text": [
      "__________Iteration 183______________\n",
      "SLIM weight: 0.798320209736539\n",
      "RP3b weight: 0.11026939610374838\n",
      "ItemKNN weight: 0.09141039415971271\n",
      "EvaluatorHoldout: Processed 34742 (100.0%) in 13.13 sec. Users per second: 2646\n",
      "EvaluatorHoldout: Processed 35171 (100.0%) in 14.21 sec. Users per second: 2474\n"
     ]
    },
    {
     "name": "stderr",
     "output_type": "stream",
     "text": [
      "[I 2024-12-09 18:40:58,687] Trial 183 finished with value: 0.03090985431840799 and parameters: {'x_0': 0.1088219077532816, 'x_1': 0.7361134173895597, 'x_2': 0.7757123861715349}. Best is trial 110 with value: 0.030914024514492856.\n"
     ]
    },
    {
     "name": "stdout",
     "output_type": "stream",
     "text": [
      "__________Iteration 184______________\n",
      "SLIM weight: 0.799333068730108\n",
      "RP3b weight: 0.10996332519415483\n",
      "ItemKNN weight: 0.09070360607573703\n",
      "EvaluatorHoldout: Processed 34742 (100.0%) in 13.22 sec. Users per second: 2628\n",
      "EvaluatorHoldout: Processed 35171 (100.0%) in 14.20 sec. Users per second: 2477\n"
     ]
    },
    {
     "name": "stderr",
     "output_type": "stream",
     "text": [
      "[I 2024-12-09 18:41:26,198] Trial 184 finished with value: 0.030906618447274454 and parameters: {'x_0': 0.10556839322117909, 'x_1': 0.7339537440996268, 'x_2': 0.7748120792469799}. Best is trial 110 with value: 0.030914024514492856.\n"
     ]
    },
    {
     "name": "stdout",
     "output_type": "stream",
     "text": [
      "__________Iteration 185______________\n",
      "SLIM weight: 0.7929498352487327\n",
      "RP3b weight: 0.11405487738128559\n",
      "ItemKNN weight: 0.09299528736998168\n",
      "EvaluatorHoldout: Processed 34742 (100.0%) in 13.51 sec. Users per second: 2571\n",
      "EvaluatorHoldout: Processed 35171 (100.0%) in 14.86 sec. Users per second: 2366\n"
     ]
    },
    {
     "name": "stderr",
     "output_type": "stream",
     "text": [
      "[I 2024-12-09 18:41:54,674] Trial 185 finished with value: 0.030904707535729683 and parameters: {'x_0': 0.11311200538395073, 'x_1': 0.7309039429586383, 'x_2': 0.7744577531122484}. Best is trial 110 with value: 0.030914024514492856.\n"
     ]
    },
    {
     "name": "stdout",
     "output_type": "stream",
     "text": [
      "__________Iteration 186______________\n",
      "SLIM weight: 0.7947077116931718\n",
      "RP3b weight: 0.1144900799477366\n",
      "ItemKNN weight: 0.09080220835909164\n",
      "EvaluatorHoldout: Processed 34742 (100.0%) in 13.39 sec. Users per second: 2595\n",
      "EvaluatorHoldout: Processed 35171 (100.0%) in 14.46 sec. Users per second: 2432\n"
     ]
    },
    {
     "name": "stderr",
     "output_type": "stream",
     "text": [
      "[I 2024-12-09 18:42:22,621] Trial 186 finished with value: 0.030897051325278594 and parameters: {'x_0': 0.11234919290751272, 'x_1': 0.7298266997469631, 'x_2': 0.7789676663323194}. Best is trial 110 with value: 0.030914024514492856.\n"
     ]
    },
    {
     "name": "stdout",
     "output_type": "stream",
     "text": [
      "__________Iteration 187______________\n",
      "SLIM weight: 0.7515556321206636\n",
      "RP3b weight: 0.13584908451761513\n",
      "ItemKNN weight: 0.11259528336172131\n",
      "EvaluatorHoldout: Processed 34742 (100.0%) in 13.31 sec. Users per second: 2610\n",
      "EvaluatorHoldout: Processed 35171 (100.0%) in 14.48 sec. Users per second: 2428\n"
     ]
    },
    {
     "name": "stderr",
     "output_type": "stream",
     "text": [
      "[I 2024-12-09 18:42:50,511] Trial 187 finished with value: 0.030881500183209114 and parameters: {'x_0': 0.13723040860891111, 'x_1': 0.6983738188058661, 'x_2': 0.7426360109129642}. Best is trial 110 with value: 0.030914024514492856.\n"
     ]
    },
    {
     "name": "stdout",
     "output_type": "stream",
     "text": [
      "__________Iteration 188______________\n",
      "SLIM weight: 0.7463866523636974\n",
      "RP3b weight: 0.14118935944999744\n",
      "ItemKNN weight: 0.11242398818630522\n",
      "EvaluatorHoldout: Processed 34742 (100.0%) in 13.54 sec. Users per second: 2566\n",
      "EvaluatorHoldout: Processed 35171 (100.0%) in 14.58 sec. Users per second: 2413\n"
     ]
    },
    {
     "name": "stderr",
     "output_type": "stream",
     "text": [
      "[I 2024-12-09 18:43:18,724] Trial 188 finished with value: 0.03087430085537483 and parameters: {'x_0': 0.17771696545748464, 'x_1': 0.7212334182100971, 'x_2': 0.7708873477547107}. Best is trial 110 with value: 0.030914024514492856.\n"
     ]
    },
    {
     "name": "stdout",
     "output_type": "stream",
     "text": [
      "__________Iteration 189______________\n",
      "SLIM weight: 0.7844432520422198\n",
      "RP3b weight: 0.14058013271625713\n",
      "ItemKNN weight: 0.07497661524152313\n",
      "EvaluatorHoldout: Processed 34742 (100.0%) in 13.71 sec. Users per second: 2535\n",
      "EvaluatorHoldout: Processed 35171 (100.0%) in 14.81 sec. Users per second: 2375\n"
     ]
    },
    {
     "name": "stderr",
     "output_type": "stream",
     "text": [
      "[I 2024-12-09 18:43:47,343] Trial 189 finished with value: 0.030905259221489456 and parameters: {'x_0': 0.08474507317014873, 'x_1': 0.6425505706233029, 'x_2': 0.7898594587481643}. Best is trial 110 with value: 0.030914024514492856.\n"
     ]
    },
    {
     "name": "stdout",
     "output_type": "stream",
     "text": [
      "__________Iteration 190______________\n",
      "SLIM weight: 0.7674607272695735\n",
      "RP3b weight: 0.14578770443505915\n",
      "ItemKNN weight: 0.08675156829536752\n",
      "EvaluatorHoldout: Processed 34742 (100.0%) in 13.76 sec. Users per second: 2524\n",
      "EvaluatorHoldout: Processed 35171 (100.0%) in 14.85 sec. Users per second: 2368\n"
     ]
    },
    {
     "name": "stderr",
     "output_type": "stream",
     "text": [
      "[I 2024-12-09 18:44:16,063] Trial 190 finished with value: 0.03089320437364511 and parameters: {'x_0': 0.09408858198974218, 'x_1': 0.638281000995594, 'x_2': 0.76554644836387}. Best is trial 110 with value: 0.030914024514492856.\n"
     ]
    },
    {
     "name": "stdout",
     "output_type": "stream",
     "text": [
      "__________Iteration 191______________\n",
      "SLIM weight: 0.8074450456795906\n",
      "RP3b weight: 0.11926530845811298\n",
      "ItemKNN weight: 0.07328964586229642\n",
      "EvaluatorHoldout: Processed 34742 (100.0%) in 13.61 sec. Users per second: 2553\n",
      "EvaluatorHoldout: Processed 35171 (100.0%) in 14.56 sec. Users per second: 2415\n"
     ]
    },
    {
     "name": "stderr",
     "output_type": "stream",
     "text": [
      "[I 2024-12-09 18:44:44,326] Trial 191 finished with value: 0.030897697814181363 and parameters: {'x_0': 0.08057170743487269, 'x_1': 0.6893431702941831, 'x_2': 0.7956408851338925}. Best is trial 110 with value: 0.030914024514492856.\n"
     ]
    },
    {
     "name": "stdout",
     "output_type": "stream",
     "text": [
      "__________Iteration 192______________\n",
      "SLIM weight: 0.7742959331311937\n",
      "RP3b weight: 0.1528643783649501\n",
      "ItemKNN weight: 0.07283968850385619\n",
      "EvaluatorHoldout: Processed 34742 (100.0%) in 14.19 sec. Users per second: 2448\n",
      "EvaluatorHoldout: Processed 35171 (100.0%) in 14.48 sec. Users per second: 2428\n"
     ]
    },
    {
     "name": "stderr",
     "output_type": "stream",
     "text": [
      "[I 2024-12-09 18:45:13,108] Trial 192 finished with value: 0.030892965652477806 and parameters: {'x_0': 0.1136582208657342, 'x_1': 0.6509583671493056, 'x_2': 0.8150013635218784}. Best is trial 110 with value: 0.030914024514492856.\n"
     ]
    },
    {
     "name": "stdout",
     "output_type": "stream",
     "text": [
      "__________Iteration 193______________\n",
      "SLIM weight: 0.7842901901989384\n",
      "RP3b weight: 0.13478354940998402\n",
      "ItemKNN weight: 0.08092626039107757\n",
      "EvaluatorHoldout: Processed 34742 (100.0%) in 13.32 sec. Users per second: 2608\n",
      "EvaluatorHoldout: Processed 35171 (100.0%) in 14.39 sec. Users per second: 2444\n"
     ]
    },
    {
     "name": "stderr",
     "output_type": "stream",
     "text": [
      "[I 2024-12-09 18:45:40,911] Trial 193 finished with value: 0.03089393881245161 and parameters: {'x_0': 0.09789171625536641, 'x_1': 0.6707419500100409, 'x_2': 0.786794019842205}. Best is trial 110 with value: 0.030914024514492856.\n"
     ]
    },
    {
     "name": "stdout",
     "output_type": "stream",
     "text": [
      "__________Iteration 194______________\n",
      "SLIM weight: 0.8027913139206293\n",
      "RP3b weight: 0.12115972372338403\n",
      "ItemKNN weight: 0.07604896235598677\n",
      "EvaluatorHoldout: Processed 34742 (100.0%) in 13.33 sec. Users per second: 2607\n",
      "EvaluatorHoldout: Processed 35171 (100.0%) in 14.37 sec. Users per second: 2448\n"
     ]
    },
    {
     "name": "stderr",
     "output_type": "stream",
     "text": [
      "[I 2024-12-09 18:46:08,697] Trial 194 finished with value: 0.030901487655487742 and parameters: {'x_0': 0.13998529363250034, 'x_1': 0.7432315592966879, 'x_2': 0.8300567991200031}. Best is trial 110 with value: 0.030914024514492856.\n"
     ]
    },
    {
     "name": "stdout",
     "output_type": "stream",
     "text": [
      "__________Iteration 195______________\n",
      "SLIM weight: 0.8014819684273927\n",
      "RP3b weight: 0.12413006442873585\n",
      "ItemKNN weight: 0.07438796714387133\n",
      "EvaluatorHoldout: Processed 34742 (100.0%) in 13.26 sec. Users per second: 2621\n",
      "EvaluatorHoldout: Processed 35171 (100.0%) in 14.35 sec. Users per second: 2451\n"
     ]
    },
    {
     "name": "stderr",
     "output_type": "stream",
     "text": [
      "[I 2024-12-09 18:46:36,394] Trial 195 finished with value: 0.03088819008692565 and parameters: {'x_0': 0.1511443915353991, 'x_1': 0.7462902780772941, 'x_2': 0.8391447684855293}. Best is trial 110 with value: 0.030914024514492856.\n"
     ]
    },
    {
     "name": "stdout",
     "output_type": "stream",
     "text": [
      "__________Iteration 196______________\n",
      "SLIM weight: 0.8161300797565428\n",
      "RP3b weight: 0.10836325742612302\n",
      "ItemKNN weight: 0.07550666281733417\n",
      "EvaluatorHoldout: Processed 34742 (100.0%) in 13.34 sec. Users per second: 2605\n",
      "EvaluatorHoldout: Processed 35171 (100.0%) in 14.47 sec. Users per second: 2430\n"
     ]
    },
    {
     "name": "stderr",
     "output_type": "stream",
     "text": [
      "[I 2024-12-09 18:47:04,294] Trial 196 finished with value: 0.030886248335804285 and parameters: {'x_0': 0.13417931392497584, 'x_1': 0.76590826465822, 'x_2': 0.8304151758362786}. Best is trial 110 with value: 0.030914024514492856.\n"
     ]
    },
    {
     "name": "stdout",
     "output_type": "stream",
     "text": [
      "__________Iteration 197______________\n",
      "SLIM weight: 0.8111753488147294\n",
      "RP3b weight: 0.10694113750801286\n",
      "ItemKNN weight: 0.08188351367725771\n",
      "EvaluatorHoldout: Processed 34742 (100.0%) in 13.63 sec. Users per second: 2549\n",
      "EvaluatorHoldout: Processed 35171 (100.0%) in 14.86 sec. Users per second: 2366\n"
     ]
    },
    {
     "name": "stderr",
     "output_type": "stream",
     "text": [
      "[I 2024-12-09 18:47:32,884] Trial 197 finished with value: 0.030899692106803683 and parameters: {'x_0': 0.10339680842535448, 'x_1': 0.741442963429146, 'x_2': 0.7952801259113468}. Best is trial 110 with value: 0.030914024514492856.\n"
     ]
    },
    {
     "name": "stdout",
     "output_type": "stream",
     "text": [
      "__________Iteration 198______________\n",
      "SLIM weight: 0.8092924435063714\n",
      "RP3b weight: 0.09615961970085539\n",
      "ItemKNN weight: 0.09454793679277324\n",
      "EvaluatorHoldout: Processed 34742 (100.0%) in 13.71 sec. Users per second: 2533\n",
      "EvaluatorHoldout: Processed 35171 (100.0%) in 14.92 sec. Users per second: 2357\n"
     ]
    },
    {
     "name": "stderr",
     "output_type": "stream",
     "text": [
      "[I 2024-12-09 18:48:01,623] Trial 198 finished with value: 0.030890281467104107 and parameters: {'x_0': 0.07221489887892656, 'x_1': 0.7317837382362701, 'x_2': 0.7356237913186501}. Best is trial 110 with value: 0.030914024514492856.\n"
     ]
    },
    {
     "name": "stdout",
     "output_type": "stream",
     "text": [
      "__________Iteration 199______________\n",
      "SLIM weight: 0.7953291991824009\n",
      "RP3b weight: 0.1216787140213848\n",
      "ItemKNN weight: 0.08299208679621418\n",
      "EvaluatorHoldout: Processed 34742 (100.0%) in 13.57 sec. Users per second: 2561\n",
      "EvaluatorHoldout: Processed 35171 (100.0%) in 14.69 sec. Users per second: 2394\n"
     ]
    },
    {
     "name": "stderr",
     "output_type": "stream",
     "text": [
      "[I 2024-12-09 18:48:29,984] Trial 199 finished with value: 0.030898963379029913 and parameters: {'x_0': 0.10587830365037199, 'x_1': 0.7092569909990589, 'x_2': 0.7911143084532017}. Best is trial 110 with value: 0.030914024514492856.\n"
     ]
    },
    {
     "name": "stdout",
     "output_type": "stream",
     "text": [
      "__________Iteration 200______________\n",
      "SLIM weight: 0.8029717720767181\n",
      "RP3b weight: 0.10232087269739176\n",
      "ItemKNN weight: 0.0947073552258901\n",
      "EvaluatorHoldout: Processed 34742 (100.0%) in 13.33 sec. Users per second: 2607\n",
      "EvaluatorHoldout: Processed 35171 (100.0%) in 14.40 sec. Users per second: 2443\n"
     ]
    },
    {
     "name": "stderr",
     "output_type": "stream",
     "text": [
      "[I 2024-12-09 18:48:57,804] Trial 200 finished with value: 0.0308888354336219 and parameters: {'x_0': 0.09274010980952628, 'x_1': 0.7385863074390203, 'x_2': 0.7554283603295268}. Best is trial 110 with value: 0.030914024514492856.\n"
     ]
    },
    {
     "name": "stdout",
     "output_type": "stream",
     "text": [
      "__________Iteration 201______________\n",
      "SLIM weight: 0.8085146668694668\n",
      "RP3b weight: 0.10607094435972912\n",
      "ItemKNN weight: 0.08541438877080405\n",
      "EvaluatorHoldout: Processed 34742 (100.0%) in 13.28 sec. Users per second: 2617\n",
      "EvaluatorHoldout: Processed 35171 (100.0%) in 14.37 sec. Users per second: 2448\n"
     ]
    },
    {
     "name": "stderr",
     "output_type": "stream",
     "text": [
      "[I 2024-12-09 18:49:25,545] Trial 201 finished with value: 0.03090231461302413 and parameters: {'x_0': 0.1332546690754733, 'x_1': 0.7676531317576556, 'x_2': 0.8082176185740487}. Best is trial 110 with value: 0.030914024514492856.\n"
     ]
    },
    {
     "name": "stdout",
     "output_type": "stream",
     "text": [
      "__________Iteration 202______________\n",
      "SLIM weight: 0.8137343875962483\n",
      "RP3b weight: 0.1105408080259082\n",
      "ItemKNN weight: 0.07572480437784361\n",
      "EvaluatorHoldout: Processed 34742 (100.0%) in 13.45 sec. Users per second: 2583\n",
      "EvaluatorHoldout: Processed 35171 (100.0%) in 14.47 sec. Users per second: 2430\n"
     ]
    },
    {
     "name": "stderr",
     "output_type": "stream",
     "text": [
      "[I 2024-12-09 18:49:53,571] Trial 202 finished with value: 0.03088216266300351 and parameters: {'x_0': 0.12522098023796358, 'x_1': 0.7540931359874135, 'x_2': 0.824197498425387}. Best is trial 110 with value: 0.030914024514492856.\n"
     ]
    },
    {
     "name": "stdout",
     "output_type": "stream",
     "text": [
      "__________Iteration 203______________\n",
      "SLIM weight: 0.7997699946626478\n",
      "RP3b weight: 0.12214242203281916\n",
      "ItemKNN weight: 0.07808758330453318\n",
      "EvaluatorHoldout: Processed 34742 (100.0%) in 13.90 sec. Users per second: 2499\n",
      "EvaluatorHoldout: Processed 35171 (100.0%) in 14.85 sec. Users per second: 2369\n"
     ]
    },
    {
     "name": "stderr",
     "output_type": "stream",
     "text": [
      "[I 2024-12-09 18:50:22,422] Trial 203 finished with value: 0.030898080453372938 and parameters: {'x_0': 0.1142715338687717, 'x_1': 0.7180033592179319, 'x_2': 0.8091320040214938}. Best is trial 110 with value: 0.030914024514492856.\n"
     ]
    },
    {
     "name": "stdout",
     "output_type": "stream",
     "text": [
      "__________Iteration 204______________\n",
      "SLIM weight: 0.8464478523058458\n",
      "RP3b weight: 0.07265968892217091\n",
      "ItemKNN weight: 0.08089245877198314\n",
      "EvaluatorHoldout: Processed 34742 (100.0%) in 13.82 sec. Users per second: 2514\n",
      "EvaluatorHoldout: Processed 35171 (100.0%) in 14.74 sec. Users per second: 2386\n"
     ]
    },
    {
     "name": "stderr",
     "output_type": "stream",
     "text": [
      "[I 2024-12-09 18:50:51,076] Trial 204 finished with value: 0.030831433843853208 and parameters: {'x_0': 0.07446764719656318, 'x_1': 0.8001453670185007, 'x_2': 0.7801845784520532}. Best is trial 110 with value: 0.030914024514492856.\n"
     ]
    },
    {
     "name": "stdout",
     "output_type": "stream",
     "text": [
      "__________Iteration 205______________\n",
      "SLIM weight: 0.8218484578471995\n",
      "RP3b weight: 0.10404591189979012\n",
      "ItemKNN weight: 0.07410563025301029\n",
      "EvaluatorHoldout: Processed 34742 (100.0%) in 13.95 sec. Users per second: 2491\n",
      "EvaluatorHoldout: Processed 35171 (100.0%) in 15.07 sec. Users per second: 2334\n"
     ]
    },
    {
     "name": "stderr",
     "output_type": "stream",
     "text": [
      "[I 2024-12-09 18:51:20,192] Trial 205 finished with value: 0.030894144409629187 and parameters: {'x_0': 0.13693181276484614, 'x_1': 0.7774662758994825, 'x_2': 0.8358706299755816}. Best is trial 110 with value: 0.030914024514492856.\n"
     ]
    },
    {
     "name": "stdout",
     "output_type": "stream",
     "text": [
      "__________Iteration 206______________\n",
      "SLIM weight: 0.7549022132264246\n",
      "RP3b weight: 0.15059796252182853\n",
      "ItemKNN weight: 0.09449982425174681\n",
      "EvaluatorHoldout: Processed 34742 (100.0%) in 13.96 sec. Users per second: 2488\n",
      "EvaluatorHoldout: Processed 35171 (100.0%) in 15.12 sec. Users per second: 2327\n"
     ]
    },
    {
     "name": "stderr",
     "output_type": "stream",
     "text": [
      "[I 2024-12-09 18:51:49,372] Trial 206 finished with value: 0.030895786902636592 and parameters: {'x_0': 0.16500029022721382, 'x_1': 0.698061059748526, 'x_2': 0.7980746717204098}. Best is trial 110 with value: 0.030914024514492856.\n"
     ]
    },
    {
     "name": "stdout",
     "output_type": "stream",
     "text": [
      "__________Iteration 207______________\n",
      "SLIM weight: 0.7409555918647415\n",
      "RP3b weight: 0.1578470492095234\n",
      "ItemKNN weight: 0.10119735892573518\n",
      "EvaluatorHoldout: Processed 34742 (100.0%) in 13.92 sec. Users per second: 2496\n",
      "EvaluatorHoldout: Processed 35171 (100.0%) in 15.12 sec. Users per second: 2325\n"
     ]
    },
    {
     "name": "stderr",
     "output_type": "stream",
     "text": [
      "[I 2024-12-09 18:52:18,517] Trial 207 finished with value: 0.030899373431178496 and parameters: {'x_0': 0.2343746442261717, 'x_1': 0.734126620636336, 'x_2': 0.8202465201574516}. Best is trial 110 with value: 0.030914024514492856.\n"
     ]
    },
    {
     "name": "stdout",
     "output_type": "stream",
     "text": [
      "__________Iteration 208______________\n",
      "SLIM weight: 0.849579154546996\n",
      "RP3b weight: 0.09436849920527167\n",
      "ItemKNN weight: 0.056052346247732324\n",
      "EvaluatorHoldout: Processed 34742 (100.0%) in 14.04 sec. Users per second: 2475\n",
      "EvaluatorHoldout: Processed 35171 (100.0%) in 15.01 sec. Users per second: 2342\n"
     ]
    },
    {
     "name": "stderr",
     "output_type": "stream",
     "text": [
      "[I 2024-12-09 18:52:47,670] Trial 208 finished with value: 0.030871373380007703 and parameters: {'x_0': 0.09022839343302758, 'x_1': 0.7655312270770122, 'x_2': 0.8532515680823176}. Best is trial 110 with value: 0.030914024514492856.\n"
     ]
    },
    {
     "name": "stdout",
     "output_type": "stream",
     "text": [
      "__________Iteration 209______________\n",
      "SLIM weight: 0.6186309493916652\n",
      "RP3b weight: 0.20068671223251236\n",
      "ItemKNN weight: 0.1806823383758224\n",
      "EvaluatorHoldout: Processed 34742 (100.0%) in 14.00 sec. Users per second: 2482\n",
      "EvaluatorHoldout: Processed 35171 (100.0%) in 14.84 sec. Users per second: 2370\n"
     ]
    },
    {
     "name": "stderr",
     "output_type": "stream",
     "text": [
      "[I 2024-12-09 18:53:16,613] Trial 209 finished with value: 0.030744166979630488 and parameters: {'x_0': 0.40569569111965526, 'x_1': 0.7462741774037446, 'x_2': 0.7683654906590127}. Best is trial 110 with value: 0.030914024514492856.\n"
     ]
    },
    {
     "name": "stdout",
     "output_type": "stream",
     "text": [
      "__________Iteration 210______________\n",
      "SLIM weight: 0.677628822985314\n",
      "RP3b weight: 0.1988837713538898\n",
      "ItemKNN weight: 0.12348740566079633\n",
      "EvaluatorHoldout: Processed 34742 (100.0%) in 13.78 sec. Users per second: 2521\n",
      "EvaluatorHoldout: Processed 35171 (100.0%) in 15.06 sec. Users per second: 2335\n"
     ]
    },
    {
     "name": "stderr",
     "output_type": "stream",
     "text": [
      "[I 2024-12-09 18:53:45,557] Trial 210 finished with value: 0.030848638900995432 and parameters: {'x_0': 0.45059265204545684, 'x_1': 0.7913812968685385, 'x_2': 0.8647836916397963}. Best is trial 110 with value: 0.030914024514492856.\n"
     ]
    },
    {
     "name": "stdout",
     "output_type": "stream",
     "text": [
      "__________Iteration 211______________\n",
      "SLIM weight: 0.7405171878081579\n",
      "RP3b weight: 0.16091523962718868\n",
      "ItemKNN weight: 0.09856757256465333\n",
      "EvaluatorHoldout: Processed 34742 (100.0%) in 13.64 sec. Users per second: 2547\n",
      "EvaluatorHoldout: Processed 35171 (100.0%) in 15.19 sec. Users per second: 2316\n"
     ]
    },
    {
     "name": "stderr",
     "output_type": "stream",
     "text": [
      "[I 2024-12-09 18:54:14,480] Trial 211 finished with value: 0.030901267209625133 and parameters: {'x_0': 0.22604039869463083, 'x_1': 0.7238755141982967, 'x_2': 0.8204233945418468}. Best is trial 110 with value: 0.030914024514492856.\n"
     ]
    },
    {
     "name": "stdout",
     "output_type": "stream",
     "text": [
      "__________Iteration 212______________\n",
      "SLIM weight: 0.7542868784850438\n",
      "RP3b weight: 0.1589981066624408\n",
      "ItemKNN weight: 0.08671501485251543\n",
      "EvaluatorHoldout: Processed 34742 (100.0%) in 14.20 sec. Users per second: 2447\n",
      "EvaluatorHoldout: Processed 35171 (100.0%) in 14.96 sec. Users per second: 2351\n"
     ]
    },
    {
     "name": "stderr",
     "output_type": "stream",
     "text": [
      "[I 2024-12-09 18:54:43,742] Trial 212 finished with value: 0.030922902885943893 and parameters: {'x_0': 0.20280521824537787, 'x_1': 0.714393334835835, 'x_2': 0.8324148121908059}. Best is trial 212 with value: 0.030922902885943893.\n"
     ]
    },
    {
     "name": "stdout",
     "output_type": "stream",
     "text": [
      "__________Iteration 213______________\n",
      "SLIM weight: 0.7570103452479333\n",
      "RP3b weight: 0.16043189132843524\n",
      "ItemKNN weight: 0.08255776342363146\n",
      "EvaluatorHoldout: Processed 34742 (100.0%) in 13.82 sec. Users per second: 2513\n",
      "EvaluatorHoldout: Processed 35171 (100.0%) in 15.02 sec. Users per second: 2342\n"
     ]
    },
    {
     "name": "stderr",
     "output_type": "stream",
     "text": [
      "[I 2024-12-09 18:55:12,683] Trial 213 finished with value: 0.03092065616567578 and parameters: {'x_0': 0.2002104843972931, 'x_1': 0.7111567078914933, 'x_2': 0.8391156076651657}. Best is trial 212 with value: 0.030922902885943893.\n"
     ]
    },
    {
     "name": "stdout",
     "output_type": "stream",
     "text": [
      "__________Iteration 214______________\n",
      "SLIM weight: 0.7495813841986\n",
      "RP3b weight: 0.16469053852060633\n",
      "ItemKNN weight: 0.08572807728079355\n",
      "EvaluatorHoldout: Processed 34742 (100.0%) in 13.91 sec. Users per second: 2497\n",
      "EvaluatorHoldout: Processed 35171 (100.0%) in 14.89 sec. Users per second: 2362\n"
     ]
    },
    {
     "name": "stderr",
     "output_type": "stream",
     "text": [
      "[I 2024-12-09 18:55:41,580] Trial 214 finished with value: 0.030926377478244674 and parameters: {'x_0': 0.20045283097051214, 'x_1': 0.7024979923788263, 'x_2': 0.832094351468776}. Best is trial 214 with value: 0.030926377478244674.\n"
     ]
    },
    {
     "name": "stdout",
     "output_type": "stream",
     "text": [
      "__________Iteration 215______________\n",
      "SLIM weight: 0.7447453517700073\n",
      "RP3b weight: 0.17426593636798918\n",
      "ItemKNN weight: 0.08098871186200347\n",
      "EvaluatorHoldout: Processed 34742 (100.0%) in 13.63 sec. Users per second: 2549\n",
      "EvaluatorHoldout: Processed 35171 (100.0%) in 14.61 sec. Users per second: 2408\n"
     ]
    },
    {
     "name": "stderr",
     "output_type": "stream",
     "text": [
      "[I 2024-12-09 18:56:09,914] Trial 215 finished with value: 0.030903398567032475 and parameters: {'x_0': 0.2010834188818237, 'x_1': 0.6870593144626486, 'x_2': 0.8399324535045926}. Best is trial 214 with value: 0.030926377478244674.\n"
     ]
    },
    {
     "name": "stdout",
     "output_type": "stream",
     "text": [
      "__________Iteration 216______________\n",
      "SLIM weight: 0.7566684920985134\n",
      "RP3b weight: 0.18067889124718994\n",
      "ItemKNN weight: 0.06265261665429674\n",
      "EvaluatorHoldout: Processed 34742 (100.0%) in 13.37 sec. Users per second: 2598\n",
      "EvaluatorHoldout: Processed 35171 (100.0%) in 15.22 sec. Users per second: 2311\n"
     ]
    },
    {
     "name": "stderr",
     "output_type": "stream",
     "text": [
      "[I 2024-12-09 18:56:38,601] Trial 216 finished with value: 0.030893025047218005 and parameters: {'x_0': 0.20250721259396806, 'x_1': 0.6829523526010938, 'x_2': 0.8761386644063098}. Best is trial 214 with value: 0.030926377478244674.\n"
     ]
    },
    {
     "name": "stdout",
     "output_type": "stream",
     "text": [
      "__________Iteration 217______________\n",
      "SLIM weight: 0.7448575780499599\n",
      "RP3b weight: 0.1752100024893531\n",
      "ItemKNN weight: 0.079932419460687\n",
      "EvaluatorHoldout: Processed 34742 (100.0%) in 13.99 sec. Users per second: 2483\n",
      "EvaluatorHoldout: Processed 35171 (100.0%) in 14.89 sec. Users per second: 2362\n"
     ]
    },
    {
     "name": "stderr",
     "output_type": "stream",
     "text": [
      "[I 2024-12-09 18:57:07,588] Trial 217 finished with value: 0.030907963966580895 and parameters: {'x_0': 0.2219256469364863, 'x_1': 0.7017959969136308, 'x_2': 0.850824501159042}. Best is trial 214 with value: 0.030926377478244674.\n"
     ]
    },
    {
     "name": "stdout",
     "output_type": "stream",
     "text": [
      "__________Iteration 218______________\n",
      "SLIM weight: 0.731088764366642\n",
      "RP3b weight: 0.18314065223017478\n",
      "ItemKNN weight: 0.08577058340318319\n",
      "EvaluatorHoldout: Processed 34742 (100.0%) in 13.78 sec. Users per second: 2522\n",
      "EvaluatorHoldout: Processed 35171 (100.0%) in 14.82 sec. Users per second: 2374\n"
     ]
    },
    {
     "name": "stderr",
     "output_type": "stream",
     "text": [
      "[I 2024-12-09 18:57:36,279] Trial 218 finished with value: 0.030885521892443476 and parameters: {'x_0': 0.21944752715100466, 'x_1': 0.6839127659204562, 'x_2': 0.8370002598200987}. Best is trial 214 with value: 0.030926377478244674.\n"
     ]
    },
    {
     "name": "stdout",
     "output_type": "stream",
     "text": [
      "__________Iteration 219______________\n",
      "SLIM weight: 0.7540167763128782\n",
      "RP3b weight: 0.1622208238872798\n",
      "ItemKNN weight: 0.08376239979984205\n",
      "EvaluatorHoldout: Processed 34742 (100.0%) in 13.78 sec. Users per second: 2522\n",
      "EvaluatorHoldout: Processed 35171 (100.0%) in 15.16 sec. Users per second: 2319\n"
     ]
    },
    {
     "name": "stderr",
     "output_type": "stream",
     "text": [
      "[I 2024-12-09 18:58:05,320] Trial 219 finished with value: 0.03092234891577102 and parameters: {'x_0': 0.19898556572824183, 'x_1': 0.7065565629911181, 'x_2': 0.8358095320523774}. Best is trial 214 with value: 0.030926377478244674.\n"
     ]
    },
    {
     "name": "stdout",
     "output_type": "stream",
     "text": [
      "__________Iteration 220______________\n",
      "SLIM weight: 0.7734147052624497\n",
      "RP3b weight: 0.16889612155442782\n",
      "ItemKNN weight: 0.05768917318312242\n",
      "EvaluatorHoldout: Processed 34742 (100.0%) in 14.08 sec. Users per second: 2467\n",
      "EvaluatorHoldout: Processed 35171 (100.0%) in 14.90 sec. Users per second: 2360\n"
     ]
    },
    {
     "name": "stderr",
     "output_type": "stream",
     "text": [
      "[I 2024-12-09 18:58:34,408] Trial 220 finished with value: 0.03086176399636972 and parameters: {'x_0': 0.19587285402357069, 'x_1': 0.7004599911912199, 'x_2': 0.8854992618368553}. Best is trial 214 with value: 0.030926377478244674.\n"
     ]
    },
    {
     "name": "stdout",
     "output_type": "stream",
     "text": [
      "__________Iteration 221______________\n",
      "SLIM weight: 0.7623960374086584\n",
      "RP3b weight: 0.15920369629942313\n",
      "ItemKNN weight: 0.07840026629191846\n",
      "EvaluatorHoldout: Processed 34742 (100.0%) in 13.71 sec. Users per second: 2534\n",
      "EvaluatorHoldout: Processed 35171 (100.0%) in 14.84 sec. Users per second: 2369\n"
     ]
    },
    {
     "name": "stderr",
     "output_type": "stream",
     "text": [
      "[I 2024-12-09 18:59:03,063] Trial 221 finished with value: 0.030904319185505378 and parameters: {'x_0': 0.1929558708759085, 'x_1': 0.7092334216366238, 'x_2': 0.8443465972540218}. Best is trial 214 with value: 0.030926377478244674.\n"
     ]
    },
    {
     "name": "stdout",
     "output_type": "stream",
     "text": [
      "__________Iteration 222______________\n",
      "SLIM weight: 0.7386318538218231\n",
      "RP3b weight: 0.18299705010898373\n",
      "ItemKNN weight: 0.07837109606919325\n",
      "EvaluatorHoldout: Processed 34742 (100.0%) in 13.81 sec. Users per second: 2516\n",
      "EvaluatorHoldout: Processed 35171 (100.0%) in 14.78 sec. Users per second: 2380\n"
     ]
    },
    {
     "name": "stderr",
     "output_type": "stream",
     "text": [
      "[I 2024-12-09 18:59:31,748] Trial 222 finished with value: 0.030886505332276142 and parameters: {'x_0': 0.1859463698885792, 'x_1': 0.6591584234933462, 'x_2': 0.836526692973605}. Best is trial 214 with value: 0.030926377478244674.\n"
     ]
    },
    {
     "name": "stdout",
     "output_type": "stream",
     "text": [
      "__________Iteration 223______________\n",
      "SLIM weight: 0.7600363292317353\n",
      "RP3b weight: 0.16316395126802868\n",
      "ItemKNN weight: 0.07679971950023595\n",
      "EvaluatorHoldout: Processed 34742 (100.0%) in 13.76 sec. Users per second: 2526\n",
      "EvaluatorHoldout: Processed 35171 (100.0%) in 15.05 sec. Users per second: 2337\n"
     ]
    },
    {
     "name": "stderr",
     "output_type": "stream",
     "text": [
      "[I 2024-12-09 19:00:00,657] Trial 223 finished with value: 0.030918024521802957 and parameters: {'x_0': 0.19932693322330444, 'x_1': 0.7073452194498452, 'x_2': 0.8496165063646286}. Best is trial 214 with value: 0.030926377478244674.\n"
     ]
    },
    {
     "name": "stdout",
     "output_type": "stream",
     "text": [
      "__________Iteration 224______________\n",
      "SLIM weight: 0.7617062790313917\n",
      "RP3b weight: 0.16536412767716735\n",
      "ItemKNN weight: 0.07292959329144097\n",
      "EvaluatorHoldout: Processed 34742 (100.0%) in 13.91 sec. Users per second: 2498\n",
      "EvaluatorHoldout: Processed 35171 (100.0%) in 14.99 sec. Users per second: 2347\n"
     ]
    },
    {
     "name": "stderr",
     "output_type": "stream",
     "text": [
      "[I 2024-12-09 19:00:29,652] Trial 224 finished with value: 0.030905716104106258 and parameters: {'x_0': 0.20377773186274145, 'x_1': 0.7079784130071093, 'x_2': 0.8587271367632863}. Best is trial 214 with value: 0.030926377478244674.\n"
     ]
    },
    {
     "name": "stdout",
     "output_type": "stream",
     "text": [
      "__________Iteration 225______________\n",
      "SLIM weight: 0.7640470598422303\n",
      "RP3b weight: 0.16758281219192286\n",
      "ItemKNN weight: 0.06837012796584692\n",
      "EvaluatorHoldout: Processed 34742 (100.0%) in 13.36 sec. Users per second: 2601\n",
      "EvaluatorHoldout: Processed 35171 (100.0%) in 14.52 sec. Users per second: 2422\n"
     ]
    },
    {
     "name": "stderr",
     "output_type": "stream",
     "text": [
      "[I 2024-12-09 19:00:57,630] Trial 225 finished with value: 0.03091151280230699 and parameters: {'x_0': 0.2056295288029633, 'x_1': 0.7068627713151419, 'x_2': 0.8680245622890427}. Best is trial 214 with value: 0.030926377478244674.\n"
     ]
    },
    {
     "name": "stdout",
     "output_type": "stream",
     "text": [
      "__________Iteration 226______________\n",
      "SLIM weight: 0.762416232253994\n",
      "RP3b weight: 0.17017400021958876\n",
      "ItemKNN weight: 0.0674097675264172\n",
      "EvaluatorHoldout: Processed 34742 (100.0%) in 13.40 sec. Users per second: 2593\n",
      "EvaluatorHoldout: Processed 35171 (100.0%) in 14.81 sec. Users per second: 2374\n"
     ]
    },
    {
     "name": "stderr",
     "output_type": "stream",
     "text": [
      "[I 2024-12-09 19:01:25,944] Trial 226 finished with value: 0.030913527654647104 and parameters: {'x_0': 0.2091971525231006, 'x_1': 0.7052541395379144, 'x_2': 0.8708157636039172}. Best is trial 214 with value: 0.030926377478244674.\n"
     ]
    },
    {
     "name": "stdout",
     "output_type": "stream",
     "text": [
      "__________Iteration 227______________\n",
      "SLIM weight: 0.7774214835368894\n",
      "RP3b weight: 0.16886166643763947\n",
      "ItemKNN weight: 0.053716850025471094\n",
      "EvaluatorHoldout: Processed 34742 (100.0%) in 13.68 sec. Users per second: 2540\n",
      "EvaluatorHoldout: Processed 35171 (100.0%) in 14.91 sec. Users per second: 2358\n"
     ]
    },
    {
     "name": "stderr",
     "output_type": "stream",
     "text": [
      "[I 2024-12-09 19:01:54,635] Trial 227 finished with value: 0.030871319696300182 and parameters: {'x_0': 0.2053469597225057, 'x_1': 0.709034545195035, 'x_2': 0.8963870432640189}. Best is trial 214 with value: 0.030926377478244674.\n"
     ]
    },
    {
     "name": "stdout",
     "output_type": "stream",
     "text": [
      "__________Iteration 228______________\n",
      "SLIM weight: 0.7586688587450534\n",
      "RP3b weight: 0.17955693834629946\n",
      "ItemKNN weight: 0.061774202908647116\n",
      "EvaluatorHoldout: Processed 34742 (100.0%) in 13.94 sec. Users per second: 2492\n",
      "EvaluatorHoldout: Processed 35171 (100.0%) in 14.84 sec. Users per second: 2370\n"
     ]
    },
    {
     "name": "stderr",
     "output_type": "stream",
     "text": [
      "[I 2024-12-09 19:02:23,515] Trial 228 finished with value: 0.030889493344590097 and parameters: {'x_0': 0.19230710443651422, 'x_1': 0.6769249962375772, 'x_2': 0.8743789737589003}. Best is trial 214 with value: 0.030926377478244674.\n"
     ]
    },
    {
     "name": "stdout",
     "output_type": "stream",
     "text": [
      "__________Iteration 229______________\n",
      "SLIM weight: 0.786042804898651\n",
      "RP3b weight: 0.17093879226293668\n",
      "ItemKNN weight: 0.0430184028384124\n",
      "EvaluatorHoldout: Processed 34742 (100.0%) in 13.88 sec. Users per second: 2502\n",
      "EvaluatorHoldout: Processed 35171 (100.0%) in 15.19 sec. Users per second: 2315\n"
     ]
    },
    {
     "name": "stderr",
     "output_type": "stream",
     "text": [
      "[I 2024-12-09 19:02:52,682] Trial 229 finished with value: 0.030864516714135967 and parameters: {'x_0': 0.20587957563411657, 'x_1': 0.7091419342477654, 'x_2': 0.9171398324819164}. Best is trial 214 with value: 0.030926377478244674.\n"
     ]
    },
    {
     "name": "stdout",
     "output_type": "stream",
     "text": [
      "__________Iteration 230______________\n",
      "SLIM weight: 0.7259950778811788\n",
      "RP3b weight: 0.1944242755434439\n",
      "ItemKNN weight: 0.07958064657537736\n",
      "EvaluatorHoldout: Processed 34742 (100.0%) in 13.82 sec. Users per second: 2514\n",
      "EvaluatorHoldout: Processed 35171 (100.0%) in 15.02 sec. Users per second: 2342\n"
     ]
    },
    {
     "name": "stderr",
     "output_type": "stream",
     "text": [
      "[I 2024-12-09 19:03:21,625] Trial 230 finished with value: 0.030875231753706496 and parameters: {'x_0': 0.24440579715712318, 'x_1': 0.6856996154064368, 'x_2': 0.8568943034369911}. Best is trial 214 with value: 0.030926377478244674.\n"
     ]
    },
    {
     "name": "stdout",
     "output_type": "stream",
     "text": [
      "__________Iteration 231______________\n",
      "SLIM weight: 0.7499879793936239\n",
      "RP3b weight: 0.17367050324617056\n",
      "ItemKNN weight: 0.07634151736020557\n",
      "EvaluatorHoldout: Processed 34742 (100.0%) in 13.89 sec. Users per second: 2501\n",
      "EvaluatorHoldout: Processed 35171 (100.0%) in 14.88 sec. Users per second: 2363\n"
     ]
    },
    {
     "name": "stderr",
     "output_type": "stream",
     "text": [
      "[I 2024-12-09 19:03:50,499] Trial 231 finished with value: 0.030905589319180086 and parameters: {'x_0': 0.2184228199828486, 'x_1': 0.7030803361648361, 'x_2': 0.8565385859947481}. Best is trial 214 with value: 0.030926377478244674.\n"
     ]
    },
    {
     "name": "stdout",
     "output_type": "stream",
     "text": [
      "__________Iteration 232______________\n",
      "SLIM weight: 0.7828805047651634\n",
      "RP3b weight: 0.1544769900571825\n",
      "ItemKNN weight: 0.06264250517765424\n",
      "EvaluatorHoldout: Processed 34742 (100.0%) in 13.82 sec. Users per second: 2514\n",
      "EvaluatorHoldout: Processed 35171 (100.0%) in 14.50 sec. Users per second: 2425\n"
     ]
    },
    {
     "name": "stderr",
     "output_type": "stream",
     "text": [
      "[I 2024-12-09 19:04:18,924] Trial 232 finished with value: 0.03088993309410877 and parameters: {'x_0': 0.1772365269311746, 'x_1': 0.7107640853043148, 'x_2': 0.8707082874412538}. Best is trial 214 with value: 0.030926377478244674.\n"
     ]
    },
    {
     "name": "stdout",
     "output_type": "stream",
     "text": [
      "__________Iteration 233______________\n",
      "SLIM weight: 0.7499797284664097\n",
      "RP3b weight: 0.17727771105539278\n",
      "ItemKNN weight: 0.07274256047819762\n",
      "EvaluatorHoldout: Processed 34742 (100.0%) in 13.28 sec. Users per second: 2616\n",
      "EvaluatorHoldout: Processed 35171 (100.0%) in 14.38 sec. Users per second: 2446\n"
     ]
    },
    {
     "name": "stderr",
     "output_type": "stream",
     "text": [
      "[I 2024-12-09 19:04:46,680] Trial 233 finished with value: 0.030897520772167286 and parameters: {'x_0': 0.21444105991581786, 'x_1': 0.6949231803791691, 'x_2': 0.8612748203135131}. Best is trial 214 with value: 0.030926377478244674.\n"
     ]
    },
    {
     "name": "stdout",
     "output_type": "stream",
     "text": [
      "__________Iteration 234______________\n",
      "SLIM weight: 0.7413764144893431\n",
      "RP3b weight: 0.18525493659339667\n",
      "ItemKNN weight: 0.07336864891726039\n",
      "EvaluatorHoldout: Processed 34742 (100.0%) in 13.76 sec. Users per second: 2525\n",
      "EvaluatorHoldout: Processed 35171 (100.0%) in 14.75 sec. Users per second: 2384\n"
     ]
    },
    {
     "name": "stderr",
     "output_type": "stream",
     "text": [
      "[I 2024-12-09 19:05:15,298] Trial 234 finished with value: 0.03088658528673409 and parameters: {'x_0': 0.1891198142186376, 'x_1': 0.6595857230492346, 'x_2': 0.848054782451441}. Best is trial 214 with value: 0.030926377478244674.\n"
     ]
    },
    {
     "name": "stdout",
     "output_type": "stream",
     "text": [
      "__________Iteration 235______________\n",
      "SLIM weight: 0.7536446062765276\n",
      "RP3b weight: 0.18067083170179993\n",
      "ItemKNN weight: 0.06568456202167249\n",
      "EvaluatorHoldout: Processed 34742 (100.0%) in 13.80 sec. Users per second: 2517\n",
      "EvaluatorHoldout: Processed 35171 (100.0%) in 14.73 sec. Users per second: 2387\n"
     ]
    },
    {
     "name": "stderr",
     "output_type": "stream",
     "text": [
      "[I 2024-12-09 19:05:43,937] Trial 235 finished with value: 0.03089117467261995 and parameters: {'x_0': 0.2525346747122083, 'x_1': 0.7189831737414824, 'x_2': 0.8869696506460014}. Best is trial 214 with value: 0.030926377478244674.\n"
     ]
    },
    {
     "name": "stdout",
     "output_type": "stream",
     "text": [
      "__________Iteration 236______________\n",
      "SLIM weight: 0.7303687315442837\n",
      "RP3b weight: 0.18933765888268314\n",
      "ItemKNN weight: 0.08029360957303316\n",
      "EvaluatorHoldout: Processed 34742 (100.0%) in 14.00 sec. Users per second: 2482\n",
      "EvaluatorHoldout: Processed 35171 (100.0%) in 15.06 sec. Users per second: 2335\n"
     ]
    },
    {
     "name": "stderr",
     "output_type": "stream",
     "text": [
      "[I 2024-12-09 19:06:13,102] Trial 236 finished with value: 0.030874160363970064 and parameters: {'x_0': 0.2218334881328852, 'x_1': 0.676810162429165, 'x_2': 0.8474323167837646}. Best is trial 214 with value: 0.030926377478244674.\n"
     ]
    },
    {
     "name": "stdout",
     "output_type": "stream",
     "text": [
      "__________Iteration 237______________\n",
      "SLIM weight: 0.7715437200269372\n",
      "RP3b weight: 0.15455439186649533\n",
      "ItemKNN weight: 0.07390188810656745\n",
      "EvaluatorHoldout: Processed 34742 (100.0%) in 13.73 sec. Users per second: 2530\n",
      "EvaluatorHoldout: Processed 35171 (100.0%) in 15.24 sec. Users per second: 2307\n"
     ]
    },
    {
     "name": "stderr",
     "output_type": "stream",
     "text": [
      "[I 2024-12-09 19:06:42,179] Trial 237 finished with value: 0.03089915869634858 and parameters: {'x_0': 0.16986678651106907, 'x_1': 0.7010945197517242, 'x_2': 0.8438327292441612}. Best is trial 214 with value: 0.030926377478244674.\n"
     ]
    },
    {
     "name": "stdout",
     "output_type": "stream",
     "text": [
      "__________Iteration 238______________\n",
      "SLIM weight: 0.7788935065556635\n",
      "RP3b weight: 0.15498742526131098\n",
      "ItemKNN weight: 0.06611906818302553\n",
      "EvaluatorHoldout: Processed 34742 (100.0%) in 13.50 sec. Users per second: 2574\n",
      "EvaluatorHoldout: Processed 35171 (100.0%) in 14.75 sec. Users per second: 2384\n"
     ]
    },
    {
     "name": "stderr",
     "output_type": "stream",
     "text": [
      "[I 2024-12-09 19:07:10,535] Trial 238 finished with value: 0.030885489910660355 and parameters: {'x_0': 0.19587032500521323, 'x_1': 0.7229579139578822, 'x_2': 0.8707556687362377}. Best is trial 214 with value: 0.030926377478244674.\n"
     ]
    },
    {
     "name": "stdout",
     "output_type": "stream",
     "text": [
      "__________Iteration 239______________\n",
      "SLIM weight: 0.7380796311636464\n",
      "RP3b weight: 0.21602197286950797\n",
      "ItemKNN weight: 0.04589839596684567\n",
      "EvaluatorHoldout: Processed 34742 (100.0%) in 13.96 sec. Users per second: 2488\n",
      "EvaluatorHoldout: Processed 35171 (100.0%) in 14.88 sec. Users per second: 2364\n"
     ]
    },
    {
     "name": "stderr",
     "output_type": "stream",
     "text": [
      "[I 2024-12-09 19:07:39,475] Trial 239 finished with value: 0.030861300260513615 and parameters: {'x_0': 0.2098423453120159, 'x_1': 0.6331854439251559, 'x_2': 0.90746750913641}. Best is trial 214 with value: 0.030926377478244674.\n"
     ]
    },
    {
     "name": "stdout",
     "output_type": "stream",
     "text": [
      "New best on test found! Score is 0.04801274656744886\n",
      "weights: SLIM_w: 0.7380796311636464, RP3b_w: 0.21602197286950797, ItemKNN_w: 0.04589839596684567\n",
      "__________Iteration 240______________\n",
      "SLIM weight: 0.7649785352498262\n",
      "RP3b weight: 0.15844525061158066\n",
      "ItemKNN weight: 0.07657621413859314\n",
      "EvaluatorHoldout: Processed 34742 (100.0%) in 13.74 sec. Users per second: 2528\n",
      "EvaluatorHoldout: Processed 35171 (100.0%) in 14.83 sec. Users per second: 2371\n"
     ]
    },
    {
     "name": "stderr",
     "output_type": "stream",
     "text": [
      "[I 2024-12-09 19:08:08,147] Trial 240 finished with value: 0.030909271793071538 and parameters: {'x_0': 0.1729192987644376, 'x_1': 0.695247207075442, 'x_2': 0.838892429227124}. Best is trial 214 with value: 0.030926377478244674.\n"
     ]
    },
    {
     "name": "stdout",
     "output_type": "stream",
     "text": [
      "__________Iteration 241______________\n",
      "SLIM weight: 0.7661971519931563\n",
      "RP3b weight: 0.1583777405290008\n",
      "ItemKNN weight: 0.07542510747784283\n",
      "EvaluatorHoldout: Processed 34742 (100.0%) in 13.80 sec. Users per second: 2518\n",
      "EvaluatorHoldout: Processed 35171 (100.0%) in 14.93 sec. Users per second: 2356\n"
     ]
    },
    {
     "name": "stderr",
     "output_type": "stream",
     "text": [
      "[I 2024-12-09 19:08:36,973] Trial 241 finished with value: 0.030906597887556696 and parameters: {'x_0': 0.17422012402850542, 'x_1': 0.6968355181658176, 'x_2': 0.8419631125355637}. Best is trial 214 with value: 0.030926377478244674.\n"
     ]
    },
    {
     "name": "stdout",
     "output_type": "stream",
     "text": [
      "__________Iteration 242______________\n",
      "SLIM weight: 0.7843719493958555\n",
      "RP3b weight: 0.14744544465244977\n",
      "ItemKNN weight: 0.06818260595169481\n",
      "EvaluatorHoldout: Processed 34742 (100.0%) in 13.77 sec. Users per second: 2523\n",
      "EvaluatorHoldout: Processed 35171 (100.0%) in 15.24 sec. Users per second: 2307\n"
     ]
    },
    {
     "name": "stderr",
     "output_type": "stream",
     "text": [
      "[I 2024-12-09 19:09:06,088] Trial 242 finished with value: 0.030902633288649378 and parameters: {'x_0': 0.17120049680356503, 'x_1': 0.7176539012412145, 'x_2': 0.8577710293671587}. Best is trial 214 with value: 0.030926377478244674.\n"
     ]
    },
    {
     "name": "stdout",
     "output_type": "stream",
     "text": [
      "__________Iteration 243______________\n",
      "SLIM weight: 0.7659739288434427\n",
      "RP3b weight: 0.14974567894623575\n",
      "ItemKNN weight: 0.08428039221032138\n",
      "EvaluatorHoldout: Processed 34742 (100.0%) in 13.70 sec. Users per second: 2536\n",
      "EvaluatorHoldout: Processed 35171 (100.0%) in 14.81 sec. Users per second: 2375\n"
     ]
    },
    {
     "name": "stderr",
     "output_type": "stream",
     "text": [
      "[I 2024-12-09 19:09:34,695] Trial 243 finished with value: 0.03090477378370914 and parameters: {'x_0': 0.16629446139625753, 'x_1': 0.7041802968960945, 'x_2': 0.8208671894928478}. Best is trial 214 with value: 0.030926377478244674.\n"
     ]
    },
    {
     "name": "stdout",
     "output_type": "stream",
     "text": [
      "__________Iteration 244______________\n",
      "SLIM weight: 0.762354141520602\n",
      "RP3b weight: 0.15446594147770046\n",
      "ItemKNN weight: 0.08317991700169759\n",
      "EvaluatorHoldout: Processed 34742 (100.0%) in 13.65 sec. Users per second: 2546\n",
      "EvaluatorHoldout: Processed 35171 (100.0%) in 14.95 sec. Users per second: 2352\n"
     ]
    },
    {
     "name": "stderr",
     "output_type": "stream",
     "text": [
      "[I 2024-12-09 19:10:03,393] Trial 244 finished with value: 0.030910055346759377 and parameters: {'x_0': 0.16979066004216206, 'x_1': 0.6981800114403643, 'x_2': 0.8240934137803307}. Best is trial 214 with value: 0.030926377478244674.\n"
     ]
    },
    {
     "name": "stdout",
     "output_type": "stream",
     "text": [
      "__________Iteration 245______________\n",
      "SLIM weight: 0.7506209978226273\n",
      "RP3b weight: 0.16898022033223917\n",
      "ItemKNN weight: 0.0803987818451336\n",
      "EvaluatorHoldout: Processed 34742 (100.0%) in 13.72 sec. Users per second: 2532\n",
      "EvaluatorHoldout: Processed 35171 (100.0%) in 15.00 sec. Users per second: 2344\n"
     ]
    },
    {
     "name": "stderr",
     "output_type": "stream",
     "text": [
      "[I 2024-12-09 19:10:32,221] Trial 245 finished with value: 0.03091848026221322 and parameters: {'x_0': 0.1600063942552704, 'x_1': 0.661964883095615, 'x_2': 0.8217796786358721}. Best is trial 214 with value: 0.030926377478244674.\n"
     ]
    },
    {
     "name": "stdout",
     "output_type": "stream",
     "text": [
      "__________Iteration 246______________\n",
      "SLIM weight: 0.7485207099810431\n",
      "RP3b weight: 0.1701952323577762\n",
      "ItemKNN weight: 0.08128405766118074\n",
      "EvaluatorHoldout: Processed 34742 (100.0%) in 13.91 sec. Users per second: 2498\n",
      "EvaluatorHoldout: Processed 35171 (100.0%) in 14.77 sec. Users per second: 2381\n"
     ]
    },
    {
     "name": "stderr",
     "output_type": "stream",
     "text": [
      "[I 2024-12-09 19:11:01,013] Trial 246 finished with value: 0.030917054788448785 and parameters: {'x_0': 0.16382634751407216, 'x_1': 0.6627811561933117, 'x_2': 0.8216514552950601}. Best is trial 214 with value: 0.030926377478244674.\n"
     ]
    },
    {
     "name": "stdout",
     "output_type": "stream",
     "text": [
      "__________Iteration 247______________\n",
      "SLIM weight: 0.7442306792941485\n",
      "RP3b weight: 0.17433696740388302\n",
      "ItemKNN weight: 0.08143235330196841\n",
      "EvaluatorHoldout: Processed 34742 (100.0%) in 14.03 sec. Users per second: 2476\n",
      "EvaluatorHoldout: Processed 35171 (100.0%) in 15.06 sec. Users per second: 2335\n"
     ]
    },
    {
     "name": "stderr",
     "output_type": "stream",
     "text": [
      "[I 2024-12-09 19:11:30,206] Trial 247 finished with value: 0.030908282642206117 and parameters: {'x_0': 0.164242977329784, 'x_1': 0.6549781374329048, 'x_2': 0.8206538443860915}. Best is trial 214 with value: 0.030926377478244674.\n"
     ]
    },
    {
     "name": "stdout",
     "output_type": "stream",
     "text": [
      "__________Iteration 248______________\n",
      "SLIM weight: 0.762141713023323\n",
      "RP3b weight: 0.18388895489542106\n",
      "ItemKNN weight: 0.053969332081255914\n",
      "EvaluatorHoldout: Processed 34742 (100.0%) in 13.43 sec. Users per second: 2587\n",
      "EvaluatorHoldout: Processed 35171 (100.0%) in 14.49 sec. Users per second: 2427\n"
     ]
    },
    {
     "name": "stderr",
     "output_type": "stream",
     "text": [
      "[I 2024-12-09 19:11:58,223] Trial 248 finished with value: 0.03087586453613083 and parameters: {'x_0': 0.17022980819292696, 'x_1': 0.6523262796823284, 'x_2': 0.8821603534072292}. Best is trial 214 with value: 0.030926377478244674.\n"
     ]
    },
    {
     "name": "stdout",
     "output_type": "stream",
     "text": [
      "__________Iteration 249______________\n",
      "SLIM weight: 0.7287525859192335\n",
      "RP3b weight: 0.19312297069168471\n",
      "ItemKNN weight: 0.07812444338908188\n",
      "EvaluatorHoldout: Processed 34742 (100.0%) in 13.94 sec. Users per second: 2492\n",
      "EvaluatorHoldout: Processed 35171 (100.0%) in 14.69 sec. Users per second: 2395\n"
     ]
    },
    {
     "name": "stderr",
     "output_type": "stream",
     "text": [
      "[I 2024-12-09 19:12:26,950] Trial 249 finished with value: 0.030874136377632703 and parameters: {'x_0': 0.16489686913919177, 'x_1': 0.620236743940919, 'x_2': 0.8242953379034355}. Best is trial 214 with value: 0.030926377478244674.\n"
     ]
    },
    {
     "name": "stdout",
     "output_type": "stream",
     "text": [
      "__________Iteration 250______________\n",
      "SLIM weight: 0.7522973337338659\n",
      "RP3b weight: 0.18243329362585306\n",
      "ItemKNN weight: 0.06526937264028118\n",
      "EvaluatorHoldout: Processed 34742 (100.0%) in 13.70 sec. Users per second: 2536\n",
      "EvaluatorHoldout: Processed 35171 (100.0%) in 14.89 sec. Users per second: 2363\n"
     ]
    },
    {
     "name": "stderr",
     "output_type": "stream",
     "text": [
      "[I 2024-12-09 19:12:55,635] Trial 250 finished with value: 0.030892095291092835 and parameters: {'x_0': 0.18386030973705575, 'x_1': 0.6631887849006369, 'x_2': 0.8633500590947375}. Best is trial 214 with value: 0.030926377478244674.\n"
     ]
    },
    {
     "name": "stdout",
     "output_type": "stream",
     "text": [
      "__________Iteration 251______________\n",
      "SLIM weight: 0.7578285726313041\n",
      "RP3b weight: 0.16206673373345132\n",
      "ItemKNN weight: 0.08010469363524463\n",
      "EvaluatorHoldout: Processed 34742 (100.0%) in 13.67 sec. Users per second: 2542\n",
      "EvaluatorHoldout: Processed 35171 (100.0%) in 14.91 sec. Users per second: 2359\n"
     ]
    },
    {
     "name": "stderr",
     "output_type": "stream",
     "text": [
      "[I 2024-12-09 19:13:24,309] Trial 251 finished with value: 0.030910348893840686 and parameters: {'x_0': 0.15459404799001292, 'x_1': 0.6708160177343822, 'x_2': 0.8209095488992358}. Best is trial 214 with value: 0.030926377478244674.\n"
     ]
    },
    {
     "name": "stdout",
     "output_type": "stream",
     "text": [
      "__________Iteration 252______________\n",
      "SLIM weight: 0.7629125438032497\n",
      "RP3b weight: 0.16257667858337926\n",
      "ItemKNN weight: 0.07451077761337092\n",
      "EvaluatorHoldout: Processed 34742 (100.0%) in 13.80 sec. Users per second: 2518\n",
      "EvaluatorHoldout: Processed 35171 (100.0%) in 14.95 sec. Users per second: 2353\n"
     ]
    },
    {
     "name": "stderr",
     "output_type": "stream",
     "text": [
      "[I 2024-12-09 19:13:53,158] Trial 252 finished with value: 0.03090582347152119 and parameters: {'x_0': 0.1572401722972463, 'x_1': 0.6741983229310272, 'x_2': 0.8347019002497512}. Best is trial 214 with value: 0.030926377478244674.\n"
     ]
    },
    {
     "name": "stdout",
     "output_type": "stream",
     "text": [
      "__________Iteration 253______________\n",
      "SLIM weight: 0.7585916828481465\n",
      "RP3b weight: 0.16181703452774573\n",
      "ItemKNN weight: 0.0795912826241079\n",
      "EvaluatorHoldout: Processed 34742 (100.0%) in 13.74 sec. Users per second: 2528\n",
      "EvaluatorHoldout: Processed 35171 (100.0%) in 14.66 sec. Users per second: 2399\n"
     ]
    },
    {
     "name": "stderr",
     "output_type": "stream",
     "text": [
      "[I 2024-12-09 19:14:21,659] Trial 253 finished with value: 0.030909236384668762 and parameters: {'x_0': 0.1541383518468572, 'x_1': 0.6710753107034293, 'x_2': 0.8218560558095346}. Best is trial 214 with value: 0.030926377478244674.\n"
     ]
    },
    {
     "name": "stdout",
     "output_type": "stream",
     "text": [
      "__________Iteration 254______________\n",
      "SLIM weight: 0.7588099074380094\n",
      "RP3b weight: 0.16246187100487736\n",
      "ItemKNN weight: 0.07872822155711333\n",
      "EvaluatorHoldout: Processed 34742 (100.0%) in 13.42 sec. Users per second: 2588\n",
      "EvaluatorHoldout: Processed 35171 (100.0%) in 14.73 sec. Users per second: 2387\n"
     ]
    },
    {
     "name": "stderr",
     "output_type": "stream",
     "text": [
      "[I 2024-12-09 19:14:49,917] Trial 254 finished with value: 0.030913925142523706 and parameters: {'x_0': 0.15500124245797783, 'x_1': 0.6708880360915132, 'x_2': 0.824129514336411}. Best is trial 214 with value: 0.030926377478244674.\n"
     ]
    },
    {
     "name": "stdout",
     "output_type": "stream",
     "text": [
      "__________Iteration 255______________\n",
      "SLIM weight: 0.7488094421394798\n",
      "RP3b weight: 0.17076461963246742\n",
      "ItemKNN weight: 0.08042593822805288\n",
      "EvaluatorHoldout: Processed 34742 (100.0%) in 13.59 sec. Users per second: 2556\n",
      "EvaluatorHoldout: Processed 35171 (100.0%) in 14.83 sec. Users per second: 2372\n"
     ]
    },
    {
     "name": "stderr",
     "output_type": "stream",
     "text": [
      "[I 2024-12-09 19:15:18,436] Trial 255 finished with value: 0.03091708677023196 and parameters: {'x_0': 0.1532242380790587, 'x_1': 0.6519517029975374, 'x_2': 0.817523097398158}. Best is trial 214 with value: 0.030926377478244674.\n"
     ]
    },
    {
     "name": "stdout",
     "output_type": "stream",
     "text": [
      "__________Iteration 256______________\n",
      "SLIM weight: 0.7352732569230065\n",
      "RP3b weight: 0.1850945111473311\n",
      "ItemKNN weight: 0.07963223192966247\n",
      "EvaluatorHoldout: Processed 34742 (100.0%) in 13.53 sec. Users per second: 2568\n",
      "EvaluatorHoldout: Processed 35171 (100.0%) in 14.51 sec. Users per second: 2424\n"
     ]
    },
    {
     "name": "stderr",
     "output_type": "stream",
     "text": [
      "[I 2024-12-09 19:15:46,568] Trial 256 finished with value: 0.030876805714321387 and parameters: {'x_0': 0.1521118712329338, 'x_1': 0.6224740864676716, 'x_2': 0.8155036072128243}. Best is trial 214 with value: 0.030926377478244674.\n"
     ]
    },
    {
     "name": "stdout",
     "output_type": "stream",
     "text": [
      "__________Iteration 257______________\n",
      "SLIM weight: 0.7243306442194878\n",
      "RP3b weight: 0.19689565634316925\n",
      "ItemKNN weight: 0.07877369943734293\n",
      "EvaluatorHoldout: Processed 34742 (100.0%) in 13.57 sec. Users per second: 2559\n",
      "EvaluatorHoldout: Processed 35171 (100.0%) in 14.53 sec. Users per second: 2420\n"
     ]
    },
    {
     "name": "stderr",
     "output_type": "stream",
     "text": [
      "[I 2024-12-09 19:16:14,771] Trial 257 finished with value: 0.030874796573014007 and parameters: {'x_0': 0.1551866112257528, 'x_1': 0.602627509438965, 'x_2': 0.8165867649731554}. Best is trial 214 with value: 0.030926377478244674.\n"
     ]
    },
    {
     "name": "stdout",
     "output_type": "stream",
     "text": [
      "__________Iteration 258______________\n",
      "SLIM weight: 0.7503710232379587\n",
      "RP3b weight: 0.16994258505730325\n",
      "ItemKNN weight: 0.07968639170473804\n",
      "EvaluatorHoldout: Processed 34742 (100.0%) in 13.53 sec. Users per second: 2567\n",
      "EvaluatorHoldout: Processed 35171 (100.0%) in 14.61 sec. Users per second: 2407\n"
     ]
    },
    {
     "name": "stderr",
     "output_type": "stream",
     "text": [
      "[I 2024-12-09 19:16:43,010] Trial 258 finished with value: 0.03091276922950316 and parameters: {'x_0': 0.15061284841494088, 'x_1': 0.6513340359823949, 'x_2': 0.8178850044637118}. Best is trial 214 with value: 0.030926377478244674.\n"
     ]
    },
    {
     "name": "stdout",
     "output_type": "stream",
     "text": [
      "__________Iteration 259______________\n",
      "SLIM weight: 0.750151269971482\n",
      "RP3b weight: 0.17135797730992036\n",
      "ItemKNN weight: 0.07849075271859769\n",
      "EvaluatorHoldout: Processed 34742 (100.0%) in 13.58 sec. Users per second: 2558\n",
      "EvaluatorHoldout: Processed 35171 (100.0%) in 14.71 sec. Users per second: 2390\n"
     ]
    },
    {
     "name": "stderr",
     "output_type": "stream",
     "text": [
      "[I 2024-12-09 19:17:11,410] Trial 259 finished with value: 0.030911031933352755 and parameters: {'x_0': 0.15110111533155554, 'x_1': 0.6494101980903213, 'x_2': 0.8205860369781668}. Best is trial 214 with value: 0.030926377478244674.\n"
     ]
    },
    {
     "name": "stdout",
     "output_type": "stream",
     "text": [
      "__________Iteration 260______________\n",
      "SLIM weight: 0.7454365517305209\n",
      "RP3b weight: 0.17549053307123252\n",
      "ItemKNN weight: 0.07907291519824657\n",
      "EvaluatorHoldout: Processed 34742 (100.0%) in 13.54 sec. Users per second: 2565\n",
      "EvaluatorHoldout: Processed 35171 (100.0%) in 14.50 sec. Users per second: 2426\n"
     ]
    },
    {
     "name": "stderr",
     "output_type": "stream",
     "text": [
      "[I 2024-12-09 19:17:39,554] Trial 260 finished with value: 0.03090472124220814 and parameters: {'x_0': 0.15003383958492583, 'x_1': 0.6398211936174594, 'x_2': 0.817736648307851}. Best is trial 214 with value: 0.030926377478244674.\n"
     ]
    },
    {
     "name": "stdout",
     "output_type": "stream",
     "text": [
      "__________Iteration 261______________\n",
      "SLIM weight: 0.7300946305874688\n",
      "RP3b weight: 0.18035210276454103\n",
      "ItemKNN weight: 0.08955326664799022\n",
      "EvaluatorHoldout: Processed 34742 (100.0%) in 13.40 sec. Users per second: 2592\n",
      "EvaluatorHoldout: Processed 35171 (100.0%) in 14.56 sec. Users per second: 2415\n"
     ]
    },
    {
     "name": "stderr",
     "output_type": "stream",
     "text": [
      "[I 2024-12-09 19:18:07,610] Trial 261 finished with value: 0.030888784034327457 and parameters: {'x_0': 0.1840912631398518, 'x_1': 0.6583310529238714, 'x_2': 0.8125481601047595}. Best is trial 214 with value: 0.030926377478244674.\n"
     ]
    },
    {
     "name": "stdout",
     "output_type": "stream",
     "text": [
      "__________Iteration 262______________\n",
      "SLIM weight: 0.46318959847285335\n",
      "RP3b weight: 0.10964566898473097\n",
      "ItemKNN weight: 0.4271647325424156\n",
      "EvaluatorHoldout: Processed 34742 (100.0%) in 14.04 sec. Users per second: 2474\n",
      "EvaluatorHoldout: Processed 35171 (100.0%) in 15.12 sec. Users per second: 2327\n"
     ]
    },
    {
     "name": "stderr",
     "output_type": "stream",
     "text": [
      "[I 2024-12-09 19:18:36,875] Trial 262 finished with value: 0.02994852417777032 and parameters: {'x_0': 0.1540217086130287, 'x_1': 0.642222328281449, 'x_2': 0.1781427978743948}. Best is trial 214 with value: 0.030926377478244674.\n"
     ]
    },
    {
     "name": "stdout",
     "output_type": "stream",
     "text": [
      "__________Iteration 263______________\n",
      "SLIM weight: 0.7399848508356763\n",
      "RP3b weight: 0.18173263319862015\n",
      "ItemKNN weight: 0.0782825159657036\n",
      "EvaluatorHoldout: Processed 34742 (100.0%) in 13.73 sec. Users per second: 2530\n",
      "EvaluatorHoldout: Processed 35171 (100.0%) in 14.72 sec. Users per second: 2390\n"
     ]
    },
    {
     "name": "stderr",
     "output_type": "stream",
     "text": [
      "[I 2024-12-09 19:19:05,424] Trial 263 finished with value: 0.030884563581154722 and parameters: {'x_0': 0.1841521694777857, 'x_1': 0.6599864581822666, 'x_2': 0.8361102275927637}. Best is trial 214 with value: 0.030926377478244674.\n"
     ]
    },
    {
     "name": "stdout",
     "output_type": "stream",
     "text": [
      "__________Iteration 264______________\n",
      "SLIM weight: 0.7377700262030684\n",
      "RP3b weight: 0.18922067879479576\n",
      "ItemKNN weight: 0.07300929500213588\n",
      "EvaluatorHoldout: Processed 34742 (100.0%) in 13.77 sec. Users per second: 2522\n",
      "EvaluatorHoldout: Processed 35171 (100.0%) in 15.21 sec. Users per second: 2312\n"
     ]
    },
    {
     "name": "stderr",
     "output_type": "stream",
     "text": [
      "[I 2024-12-09 19:19:34,506] Trial 264 finished with value: 0.03087710611464196 and parameters: {'x_0': 0.1441025805560296, 'x_1': 0.6084418411581851, 'x_2': 0.8255485974134394}. Best is trial 214 with value: 0.030926377478244674.\n"
     ]
    },
    {
     "name": "stdout",
     "output_type": "stream",
     "text": [
      "__________Iteration 265______________\n",
      "SLIM weight: 0.7408331339690675\n",
      "RP3b weight: 0.16904806018263188\n",
      "ItemKNN weight: 0.09011880584830062\n",
      "EvaluatorHoldout: Processed 34742 (100.0%) in 13.83 sec. Users per second: 2512\n",
      "EvaluatorHoldout: Processed 35171 (100.0%) in 15.04 sec. Users per second: 2339\n"
     ]
    },
    {
     "name": "stderr",
     "output_type": "stream",
     "text": [
      "[I 2024-12-09 19:20:03,478] Trial 265 finished with value: 0.030917235257082423 and parameters: {'x_0': 0.17174346858899886, 'x_1': 0.6689752634587623, 'x_2': 0.8070990591926881}. Best is trial 214 with value: 0.030926377478244674.\n"
     ]
    },
    {
     "name": "stdout",
     "output_type": "stream",
     "text": [
      "__________Iteration 266______________\n",
      "SLIM weight: 0.7446319262264913\n",
      "RP3b weight: 0.1659751311318482\n",
      "ItemKNN weight: 0.0893929426416605\n",
      "EvaluatorHoldout: Processed 34742 (100.0%) in 14.02 sec. Users per second: 2477\n",
      "EvaluatorHoldout: Processed 35171 (100.0%) in 15.05 sec. Users per second: 2337\n"
     ]
    },
    {
     "name": "stderr",
     "output_type": "stream",
     "text": [
      "[I 2024-12-09 19:20:32,646] Trial 266 finished with value: 0.030923302658233565 and parameters: {'x_0': 0.16548861124936465, 'x_1': 0.6696793396981298, 'x_2': 0.8057739776159293}. Best is trial 214 with value: 0.030926377478244674.\n"
     ]
    },
    {
     "name": "stdout",
     "output_type": "stream",
     "text": [
      "__________Iteration 267______________\n",
      "SLIM weight: 0.738087841562408\n",
      "RP3b weight: 0.16864512835599774\n",
      "ItemKNN weight: 0.09326703008159422\n",
      "EvaluatorHoldout: Processed 34742 (100.0%) in 13.99 sec. Users per second: 2483\n",
      "EvaluatorHoldout: Processed 35171 (100.0%) in 14.83 sec. Users per second: 2372\n"
     ]
    },
    {
     "name": "stderr",
     "output_type": "stream",
     "text": [
      "[I 2024-12-09 19:21:01,567] Trial 267 finished with value: 0.030904569328738078 and parameters: {'x_0': 0.17899114483057463, 'x_1': 0.6749631289606586, 'x_2': 0.8046101670623091}. Best is trial 214 with value: 0.030926377478244674.\n"
     ]
    },
    {
     "name": "stdout",
     "output_type": "stream",
     "text": [
      "__________Iteration 268______________\n",
      "SLIM weight: 0.7403408105806125\n",
      "RP3b weight: 0.17868307736027444\n",
      "ItemKNN weight: 0.08097611205911293\n",
      "EvaluatorHoldout: Processed 34742 (100.0%) in 13.69 sec. Users per second: 2538\n",
      "EvaluatorHoldout: Processed 35171 (100.0%) in 14.75 sec. Users per second: 2385\n"
     ]
    },
    {
     "name": "stderr",
     "output_type": "stream",
     "text": [
      "[I 2024-12-09 19:21:30,100] Trial 268 finished with value: 0.030900563610395202 and parameters: {'x_0': 0.14650234502987441, 'x_1': 0.6290346005471722, 'x_2': 0.8105181516294754}. Best is trial 214 with value: 0.030926377478244674.\n"
     ]
    },
    {
     "name": "stdout",
     "output_type": "stream",
     "text": [
      "__________Iteration 269______________\n",
      "SLIM weight: 0.7433822759861857\n",
      "RP3b weight: 0.1629633959782885\n",
      "ItemKNN weight: 0.0936543280355257\n",
      "EvaluatorHoldout: Processed 34742 (100.0%) in 13.64 sec. Users per second: 2547\n",
      "EvaluatorHoldout: Processed 35171 (100.0%) in 14.95 sec. Users per second: 2352\n"
     ]
    },
    {
     "name": "stderr",
     "output_type": "stream",
     "text": [
      "[I 2024-12-09 19:21:58,795] Trial 269 finished with value: 0.03091787146612635 and parameters: {'x_0': 0.1722642657406148, 'x_1': 0.6800793710604279, 'x_2': 0.8012587013985116}. Best is trial 214 with value: 0.030926377478244674.\n"
     ]
    },
    {
     "name": "stdout",
     "output_type": "stream",
     "text": [
      "__________Iteration 270______________\n",
      "SLIM weight: 0.7507078613137154\n",
      "RP3b weight: 0.17268718725263416\n",
      "ItemKNN weight: 0.07660495143365043\n",
      "EvaluatorHoldout: Processed 34742 (100.0%) in 13.89 sec. Users per second: 2501\n",
      "EvaluatorHoldout: Processed 35171 (100.0%) in 15.02 sec. Users per second: 2342\n"
     ]
    },
    {
     "name": "stderr",
     "output_type": "stream",
     "text": [
      "[I 2024-12-09 19:22:27,809] Trial 270 finished with value: 0.030901520779477422 and parameters: {'x_0': 0.17934839135064132, 'x_1': 0.6734822988154524, 'x_2': 0.8391596364557541}. Best is trial 214 with value: 0.030926377478244674.\n"
     ]
    },
    {
     "name": "stdout",
     "output_type": "stream",
     "text": [
      "__________Iteration 271______________\n",
      "SLIM weight: 0.7274855556105106\n",
      "RP3b weight: 0.17179065344414934\n",
      "ItemKNN weight: 0.10072379094533997\n",
      "EvaluatorHoldout: Processed 34742 (100.0%) in 13.83 sec. Users per second: 2512\n",
      "EvaluatorHoldout: Processed 35171 (100.0%) in 15.12 sec. Users per second: 2326\n"
     ]
    },
    {
     "name": "stderr",
     "output_type": "stream",
     "text": [
      "[I 2024-12-09 19:22:56,859] Trial 271 finished with value: 0.030899027342596263 and parameters: {'x_0': 0.19137840972014497, 'x_1': 0.6767433757362976, 'x_2': 0.7953800726107284}. Best is trial 214 with value: 0.030926377478244674.\n"
     ]
    },
    {
     "name": "stdout",
     "output_type": "stream",
     "text": [
      "__________Iteration 272______________\n",
      "SLIM weight: 0.5210032968289429\n",
      "RP3b weight: 0.11341066713743436\n",
      "ItemKNN weight: 0.3655860360336228\n",
      "EvaluatorHoldout: Processed 34742 (100.0%) in 13.48 sec. Users per second: 2577\n",
      "EvaluatorHoldout: Processed 35171 (100.0%) in 14.51 sec. Users per second: 2424\n"
     ]
    },
    {
     "name": "stderr",
     "output_type": "stream",
     "text": [
      "[I 2024-12-09 19:23:24,950] Trial 272 finished with value: 0.030213042079801796 and parameters: {'x_0': 0.1386577150666736, 'x_1': 0.6504599624317147, 'x_2': 0.24998007203398265}. Best is trial 214 with value: 0.030926377478244674.\n"
     ]
    },
    {
     "name": "stdout",
     "output_type": "stream",
     "text": [
      "__________Iteration 273______________\n",
      "SLIM weight: 0.747486768247369\n",
      "RP3b weight: 0.16117653735739082\n",
      "ItemKNN weight: 0.09133669439524024\n",
      "EvaluatorHoldout: Processed 34742 (100.0%) in 13.57 sec. Users per second: 2560\n",
      "EvaluatorHoldout: Processed 35171 (100.0%) in 14.34 sec. Users per second: 2452\n"
     ]
    },
    {
     "name": "stderr",
     "output_type": "stream",
     "text": [
      "[I 2024-12-09 19:23:52,970] Trial 273 finished with value: 0.03092269728876634 and parameters: {'x_0': 0.16205325495076633, 'x_1': 0.6754337665550062, 'x_2': 0.8006205285968094}. Best is trial 214 with value: 0.030926377478244674.\n"
     ]
    },
    {
     "name": "stdout",
     "output_type": "stream",
     "text": [
      "__________Iteration 274______________\n",
      "SLIM weight: 0.7234754333803258\n",
      "RP3b weight: 0.18641072580438886\n",
      "ItemKNN weight: 0.09011384081528524\n",
      "EvaluatorHoldout: Processed 34742 (100.0%) in 13.26 sec. Users per second: 2619\n",
      "EvaluatorHoldout: Processed 35171 (100.0%) in 14.41 sec. Users per second: 2441\n"
     ]
    },
    {
     "name": "stderr",
     "output_type": "stream",
     "text": [
      "[I 2024-12-09 19:24:20,739] Trial 274 finished with value: 0.030900507642274668 and parameters: {'x_0': 0.17199248438677964, 'x_1': 0.6353621243019236, 'x_2': 0.803114462578209}. Best is trial 214 with value: 0.030926377478244674.\n"
     ]
    },
    {
     "name": "stdout",
     "output_type": "stream",
     "text": [
      "__________Iteration 275______________\n",
      "SLIM weight: 0.7199440894929373\n",
      "RP3b weight: 0.1698075313858805\n",
      "ItemKNN weight: 0.11024837912118224\n",
      "EvaluatorHoldout: Processed 34742 (100.0%) in 13.28 sec. Users per second: 2616\n",
      "EvaluatorHoldout: Processed 35171 (100.0%) in 14.37 sec. Users per second: 2447\n"
     ]
    },
    {
     "name": "stderr",
     "output_type": "stream",
     "text": [
      "[I 2024-12-09 19:24:48,489] Trial 275 finished with value: 0.030895754920853426 and parameters: {'x_0': 0.20145188690654534, 'x_1': 0.6852994520681545, 'x_2': 0.782428260685194}. Best is trial 214 with value: 0.030926377478244674.\n"
     ]
    },
    {
     "name": "stdout",
     "output_type": "stream",
     "text": [
      "__________Iteration 276______________\n",
      "SLIM weight: 0.736508758682222\n",
      "RP3b weight: 0.17109128838780083\n",
      "ItemKNN weight: 0.09239995292997716\n",
      "EvaluatorHoldout: Processed 34742 (100.0%) in 13.29 sec. Users per second: 2614\n",
      "EvaluatorHoldout: Processed 35171 (100.0%) in 14.23 sec. Users per second: 2472\n"
     ]
    },
    {
     "name": "stderr",
     "output_type": "stream",
     "text": [
      "[I 2024-12-09 19:25:16,104] Trial 276 finished with value: 0.03090523066632588 and parameters: {'x_0': 0.16857880464935948, 'x_1': 0.6612809488045356, 'x_2': 0.7998292049312181}. Best is trial 214 with value: 0.030926377478244674.\n"
     ]
    },
    {
     "name": "stdout",
     "output_type": "stream",
     "text": [
      "__________Iteration 277______________\n",
      "SLIM weight: 0.7651820226859674\n",
      "RP3b weight: 0.17207504113470312\n",
      "ItemKNN weight: 0.06274293617932945\n",
      "EvaluatorHoldout: Processed 34742 (100.0%) in 13.26 sec. Users per second: 2621\n",
      "EvaluatorHoldout: Processed 35171 (100.0%) in 14.29 sec. Users per second: 2461\n"
     ]
    },
    {
     "name": "stderr",
     "output_type": "stream",
     "text": [
      "[I 2024-12-09 19:25:43,747] Trial 277 finished with value: 0.030894545324125437 and parameters: {'x_0': 0.1907006689812192, 'x_1': 0.6889135909102471, 'x_2': 0.8729527813513038}. Best is trial 214 with value: 0.030926377478244674.\n"
     ]
    },
    {
     "name": "stdout",
     "output_type": "stream",
     "text": [
      "__________Iteration 278______________\n",
      "SLIM weight: 0.7694489833338763\n",
      "RP3b weight: 0.16660176478836305\n",
      "ItemKNN weight: 0.06394925187776054\n",
      "EvaluatorHoldout: Processed 34742 (100.0%) in 13.20 sec. Users per second: 2632\n",
      "EvaluatorHoldout: Processed 35171 (100.0%) in 14.33 sec. Users per second: 2454\n"
     ]
    },
    {
     "name": "stderr",
     "output_type": "stream",
     "text": [
      "[I 2024-12-09 19:26:11,372] Trial 278 finished with value: 0.030887531033750935 and parameters: {'x_0': 0.13358555273142098, 'x_1': 0.6467086693722867, 'x_2': 0.845943732723365}. Best is trial 214 with value: 0.030926377478244674.\n"
     ]
    },
    {
     "name": "stdout",
     "output_type": "stream",
     "text": [
      "__________Iteration 279______________\n",
      "SLIM weight: 0.7475557176956233\n",
      "RP3b weight: 0.15600079339185138\n",
      "ItemKNN weight: 0.09644348891252524\n",
      "EvaluatorHoldout: Processed 34742 (100.0%) in 13.31 sec. Users per second: 2609\n",
      "EvaluatorHoldout: Processed 35171 (100.0%) in 14.32 sec. Users per second: 2456\n"
     ]
    },
    {
     "name": "stderr",
     "output_type": "stream",
     "text": [
      "[I 2024-12-09 19:26:39,098] Trial 279 finished with value: 0.030904030207250258 and parameters: {'x_0': 0.16007432458167203, 'x_1': 0.6822710217547673, 'x_2': 0.7894927179664128}. Best is trial 214 with value: 0.030926377478244674.\n"
     ]
    },
    {
     "name": "stdout",
     "output_type": "stream",
     "text": [
      "__________Iteration 280______________\n",
      "SLIM weight: 0.7049858298604956\n",
      "RP3b weight: 0.2099878563903526\n",
      "ItemKNN weight: 0.08502631374915177\n",
      "EvaluatorHoldout: Processed 34742 (100.0%) in 13.29 sec. Users per second: 2615\n",
      "EvaluatorHoldout: Processed 35171 (100.0%) in 14.93 sec. Users per second: 2355\n"
     ]
    },
    {
     "name": "stderr",
     "output_type": "stream",
     "text": [
      "[I 2024-12-09 19:27:07,416] Trial 280 finished with value: 0.030892200374094566 and parameters: {'x_0': 0.20370444612660354, 'x_1': 0.6225555794156105, 'x_2': 0.8253925379308211}. Best is trial 214 with value: 0.030926377478244674.\n"
     ]
    },
    {
     "name": "stdout",
     "output_type": "stream",
     "text": [
      "__________Iteration 281______________\n",
      "SLIM weight: 0.7122171720726069\n",
      "RP3b weight: 0.2126341108397791\n",
      "ItemKNN weight: 0.07514871708761396\n",
      "EvaluatorHoldout: Processed 34742 (100.0%) in 13.80 sec. Users per second: 2518\n",
      "EvaluatorHoldout: Processed 35171 (100.0%) in 15.17 sec. Users per second: 2319\n"
     ]
    },
    {
     "name": "stderr",
     "output_type": "stream",
     "text": [
      "[I 2024-12-09 19:27:36,486] Trial 281 finished with value: 0.0308678313975208 and parameters: {'x_0': 0.18345254647630332, 'x_1': 0.6027306584002213, 'x_2': 0.8361642888328022}. Best is trial 214 with value: 0.030926377478244674.\n"
     ]
    },
    {
     "name": "stdout",
     "output_type": "stream",
     "text": [
      "__________Iteration 282______________\n",
      "SLIM weight: 0.7879005692662187\n",
      "RP3b weight: 0.16357365655764258\n",
      "ItemKNN weight: 0.04852577417613882\n",
      "EvaluatorHoldout: Processed 34742 (100.0%) in 13.93 sec. Users per second: 2493\n",
      "EvaluatorHoldout: Processed 35171 (100.0%) in 14.91 sec. Users per second: 2358\n"
     ]
    },
    {
     "name": "stderr",
     "output_type": "stream",
     "text": [
      "[I 2024-12-09 19:28:05,441] Trial 282 finished with value: 0.03087386339026924 and parameters: {'x_0': 0.1416004455393124, 'x_1': 0.6664308466494111, 'x_2': 0.8865743676860842}. Best is trial 214 with value: 0.030926377478244674.\n"
     ]
    },
    {
     "name": "stdout",
     "output_type": "stream",
     "text": [
      "__________Iteration 283______________\n",
      "SLIM weight: 0.6865617106656227\n",
      "RP3b weight: 0.22943349483318537\n",
      "ItemKNN weight: 0.08400479450119212\n",
      "EvaluatorHoldout: Processed 34742 (100.0%) in 13.67 sec. Users per second: 2542\n",
      "EvaluatorHoldout: Processed 35171 (100.0%) in 15.04 sec. Users per second: 2339\n"
     ]
    },
    {
     "name": "stderr",
     "output_type": "stream",
     "text": [
      "[I 2024-12-09 19:28:34,248] Trial 283 finished with value: 0.030878411656719378 and parameters: {'x_0': 0.16685892197746574, 'x_1': 0.5497011639208896, 'x_2': 0.8032485631666266}. Best is trial 214 with value: 0.030926377478244674.\n"
     ]
    },
    {
     "name": "stdout",
     "output_type": "stream",
     "text": [
      "__________Iteration 284______________\n",
      "SLIM weight: 0.7513048408805189\n",
      "RP3b weight: 0.17639733556873738\n",
      "ItemKNN weight: 0.07229782355074374\n",
      "EvaluatorHoldout: Processed 34742 (100.0%) in 14.03 sec. Users per second: 2477\n",
      "EvaluatorHoldout: Processed 35171 (100.0%) in 14.85 sec. Users per second: 2369\n"
     ]
    },
    {
     "name": "stderr",
     "output_type": "stream",
     "text": [
      "[I 2024-12-09 19:29:03,225] Trial 284 finished with value: 0.03089638085003838 and parameters: {'x_0': 0.2073030245357215, 'x_1': 0.6911100807292928, 'x_2': 0.8594827803542447}. Best is trial 214 with value: 0.030926377478244674.\n"
     ]
    },
    {
     "name": "stdout",
     "output_type": "stream",
     "text": [
      "__________Iteration 285______________\n",
      "SLIM weight: 0.757513333285388\n",
      "RP3b weight: 0.16234069628034883\n",
      "ItemKNN weight: 0.08014597043426307\n",
      "EvaluatorHoldout: Processed 34742 (100.0%) in 13.85 sec. Users per second: 2508\n",
      "EvaluatorHoldout: Processed 35171 (100.0%) in 15.22 sec. Users per second: 2311\n"
     ]
    },
    {
     "name": "stderr",
     "output_type": "stream",
     "text": [
      "[I 2024-12-09 19:29:32,404] Trial 285 finished with value: 0.03090647681366326 and parameters: {'x_0': 0.13366909678284408, 'x_1': 0.6496837406727036, 'x_2': 0.8082260768312597}. Best is trial 214 with value: 0.030926377478244674.\n"
     ]
    },
    {
     "name": "stdout",
     "output_type": "stream",
     "text": [
      "__________Iteration 286______________\n",
      "SLIM weight: 0.7237399891004179\n",
      "RP3b weight: 0.18791146780150428\n",
      "ItemKNN weight: 0.08834854309807771\n",
      "EvaluatorHoldout: Processed 34742 (100.0%) in 13.94 sec. Users per second: 2491\n",
      "EvaluatorHoldout: Processed 35171 (100.0%) in 14.98 sec. Users per second: 2348\n"
     ]
    },
    {
     "name": "stderr",
     "output_type": "stream",
     "text": [
      "[I 2024-12-09 19:30:01,430] Trial 286 finished with value: 0.03089619809699165 and parameters: {'x_0': 0.23384732774991812, 'x_1': 0.6857249401255704, 'x_2': 0.8374602106834486}. Best is trial 214 with value: 0.030926377478244674.\n"
     ]
    },
    {
     "name": "stdout",
     "output_type": "stream",
     "text": [
      "__________Iteration 287______________\n",
      "SLIM weight: 0.7276748943674335\n",
      "RP3b weight: 0.1677160903691398\n",
      "ItemKNN weight: 0.10460901526342664\n",
      "EvaluatorHoldout: Processed 34742 (100.0%) in 13.87 sec. Users per second: 2505\n",
      "EvaluatorHoldout: Processed 35171 (100.0%) in 15.10 sec. Users per second: 2330\n"
     ]
    },
    {
     "name": "stderr",
     "output_type": "stream",
     "text": [
      "[I 2024-12-09 19:30:30,494] Trial 287 finished with value: 0.03089944196357103 and parameters: {'x_0': 0.1861730648061548, 'x_1': 0.6787797057324217, 'x_2': 0.7853166019042225}. Best is trial 214 with value: 0.030926377478244674.\n"
     ]
    },
    {
     "name": "stdout",
     "output_type": "stream",
     "text": [
      "__________Iteration 288______________\n",
      "SLIM weight: 0.7618300433503056\n",
      "RP3b weight: 0.17186925305302314\n",
      "ItemKNN weight: 0.06630070359667133\n",
      "EvaluatorHoldout: Processed 34742 (100.0%) in 14.03 sec. Users per second: 2476\n",
      "EvaluatorHoldout: Processed 35171 (100.0%) in 14.88 sec. Users per second: 2363\n"
     ]
    },
    {
     "name": "stderr",
     "output_type": "stream",
     "text": [
      "[I 2024-12-09 19:30:59,511] Trial 288 finished with value: 0.030911149580626636 and parameters: {'x_0': 0.15937927797001486, 'x_1': 0.6607972283013047, 'x_2': 0.8522932981378796}. Best is trial 214 with value: 0.030926377478244674.\n"
     ]
    },
    {
     "name": "stdout",
     "output_type": "stream",
     "text": [
      "__________Iteration 289______________\n",
      "SLIM weight: 0.7721158207603106\n",
      "RP3b weight: 0.16908213601397099\n",
      "ItemKNN weight: 0.05880204322571836\n",
      "EvaluatorHoldout: Processed 34742 (100.0%) in 14.02 sec. Users per second: 2478\n",
      "EvaluatorHoldout: Processed 35171 (100.0%) in 15.13 sec. Users per second: 2325\n"
     ]
    },
    {
     "name": "stderr",
     "output_type": "stream",
     "text": [
      "[I 2024-12-09 19:31:28,769] Trial 289 finished with value: 0.030863697752045328 and parameters: {'x_0': 0.15279953122090686, 'x_1': 0.6627268832706777, 'x_2': 0.8666927449079832}. Best is trial 214 with value: 0.030926377478244674.\n"
     ]
    },
    {
     "name": "stdout",
     "output_type": "stream",
     "text": [
      "__________Iteration 290______________\n",
      "SLIM weight: 0.27486999287239006\n",
      "RP3b weight: 0.5924102444809598\n",
      "ItemKNN weight: 0.13271976264665017\n",
      "EvaluatorHoldout: Processed 34742 (100.0%) in 13.94 sec. Users per second: 2492\n",
      "EvaluatorHoldout: Processed 35171 (100.0%) in 14.77 sec. Users per second: 2382\n"
     ]
    },
    {
     "name": "stderr",
     "output_type": "stream",
     "text": [
      "[I 2024-12-09 19:31:57,584] Trial 290 finished with value: 0.029933066696637443 and parameters: {'x_0': 0.8094097116357275, 'x_1': 0.6339880510985416, 'x_2': 0.9029413098950887}. Best is trial 214 with value: 0.030926377478244674.\n"
     ]
    },
    {
     "name": "stdout",
     "output_type": "stream",
     "text": [
      "__________Iteration 291______________\n",
      "SLIM weight: 0.7727605309523923\n",
      "RP3b weight: 0.1539346631589348\n",
      "ItemKNN weight: 0.07330480588867286\n",
      "EvaluatorHoldout: Processed 34742 (100.0%) in 13.91 sec. Users per second: 2497\n",
      "EvaluatorHoldout: Processed 35171 (100.0%) in 14.62 sec. Users per second: 2406\n"
     ]
    },
    {
     "name": "stderr",
     "output_type": "stream",
     "text": [
      "[I 2024-12-09 19:32:26,220] Trial 291 finished with value: 0.03089638884548421 and parameters: {'x_0': 0.12558252403869963, 'x_1': 0.661463379887762, 'x_2': 0.8213411075642528}. Best is trial 214 with value: 0.030926377478244674.\n"
     ]
    },
    {
     "name": "stdout",
     "output_type": "stream",
     "text": [
      "__________Iteration 292______________\n",
      "SLIM weight: 0.7208066613641341\n",
      "RP3b weight: 0.20801523552570397\n",
      "ItemKNN weight: 0.07117810311016194\n",
      "EvaluatorHoldout: Processed 34742 (100.0%) in 14.00 sec. Users per second: 2482\n",
      "EvaluatorHoldout: Processed 35171 (100.0%) in 14.92 sec. Users per second: 2358\n"
     ]
    },
    {
     "name": "stderr",
     "output_type": "stream",
     "text": [
      "[I 2024-12-09 19:32:55,234] Trial 292 finished with value: 0.030867380225936724 and parameters: {'x_0': 0.2143905195699914, 'x_1': 0.6412019081028909, 'x_2': 0.8589304381440765}. Best is trial 214 with value: 0.030926377478244674.\n"
     ]
    },
    {
     "name": "stdout",
     "output_type": "stream",
     "text": [
      "__________Iteration 293______________\n",
      "SLIM weight: 0.7587162875566773\n",
      "RP3b weight: 0.13794625407741581\n",
      "ItemKNN weight: 0.10333745836590678\n",
      "EvaluatorHoldout: Processed 34742 (100.0%) in 13.90 sec. Users per second: 2500\n",
      "EvaluatorHoldout: Processed 35171 (100.0%) in 15.01 sec. Users per second: 2344\n"
     ]
    },
    {
     "name": "stderr",
     "output_type": "stream",
     "text": [
      "[I 2024-12-09 19:33:24,244] Trial 293 finished with value: 0.030882520173651132 and parameters: {'x_0': 0.15535466152265837, 'x_1': 0.7128043752236725, 'x_2': 0.7759934373764962}. Best is trial 214 with value: 0.030926377478244674.\n"
     ]
    },
    {
     "name": "stdout",
     "output_type": "stream",
     "text": [
      "__________Iteration 294______________\n",
      "SLIM weight: 0.754819644239939\n",
      "RP3b weight: 0.14806146437405948\n",
      "ItemKNN weight: 0.09711889138600138\n",
      "EvaluatorHoldout: Processed 34742 (100.0%) in 13.88 sec. Users per second: 2503\n",
      "EvaluatorHoldout: Processed 35171 (100.0%) in 15.09 sec. Users per second: 2331\n"
     ]
    },
    {
     "name": "stderr",
     "output_type": "stream",
     "text": [
      "[I 2024-12-09 19:33:53,315] Trial 294 finished with value: 0.030900002786983127 and parameters: {'x_0': 0.1939334416743047, 'x_1': 0.724885961313199, 'x_2': 0.809740412614891}. Best is trial 214 with value: 0.030926377478244674.\n"
     ]
    },
    {
     "name": "stdout",
     "output_type": "stream",
     "text": [
      "__________Iteration 295______________\n",
      "SLIM weight: 0.8067071554096802\n",
      "RP3b weight: 0.14625590061352348\n",
      "ItemKNN weight: 0.04703694397679644\n",
      "EvaluatorHoldout: Processed 34742 (100.0%) in 13.81 sec. Users per second: 2516\n",
      "EvaluatorHoldout: Processed 35171 (100.0%) in 14.45 sec. Users per second: 2433\n"
     ]
    },
    {
     "name": "stderr",
     "output_type": "stream",
     "text": [
      "[I 2024-12-09 19:34:21,676] Trial 295 finished with value: 0.03087713352759902 and parameters: {'x_0': 0.1281489495193731, 'x_1': 0.6890152854722309, 'x_2': 0.8871013557059052}. Best is trial 214 with value: 0.030926377478244674.\n"
     ]
    },
    {
     "name": "stdout",
     "output_type": "stream",
     "text": [
      "__________Iteration 296______________\n",
      "SLIM weight: 0.7513539658175434\n",
      "RP3b weight: 0.17561935485461636\n",
      "ItemKNN weight: 0.07302667932784028\n",
      "EvaluatorHoldout: Processed 34742 (100.0%) in 13.87 sec. Users per second: 2504\n",
      "EvaluatorHoldout: Processed 35171 (100.0%) in 14.79 sec. Users per second: 2378\n"
     ]
    },
    {
     "name": "stderr",
     "output_type": "stream",
     "text": [
      "[I 2024-12-09 19:34:50,440] Trial 296 finished with value: 0.03090253848550635 and parameters: {'x_0': 0.17089068251715092, 'x_1': 0.6616948602132238, 'x_2': 0.8422194322474708}. Best is trial 214 with value: 0.030926377478244674.\n"
     ]
    },
    {
     "name": "stdout",
     "output_type": "stream",
     "text": [
      "__________Iteration 297______________\n",
      "SLIM weight: 0.7327443312358588\n",
      "RP3b weight: 0.1940825749829481\n",
      "ItemKNN weight: 0.07317309378119306\n",
      "EvaluatorHoldout: Processed 34742 (100.0%) in 14.22 sec. Users per second: 2444\n",
      "EvaluatorHoldout: Processed 35171 (100.0%) in 14.69 sec. Users per second: 2395\n"
     ]
    },
    {
     "name": "stderr",
     "output_type": "stream",
     "text": [
      "[I 2024-12-09 19:35:19,445] Trial 297 finished with value: 0.030872152364869256 and parameters: {'x_0': 0.14441148236842996, 'x_1': 0.5989671982468999, 'x_2': 0.8242831092227523}. Best is trial 214 with value: 0.030926377478244674.\n"
     ]
    },
    {
     "name": "stdout",
     "output_type": "stream",
     "text": [
      "__________Iteration 298______________\n",
      "SLIM weight: 0.7172759268468963\n",
      "RP3b weight: 0.21169276415256694\n",
      "ItemKNN weight: 0.07103130900053672\n",
      "EvaluatorHoldout: Processed 34742 (100.0%) in 13.44 sec. Users per second: 2585\n",
      "EvaluatorHoldout: Processed 35171 (100.0%) in 14.35 sec. Users per second: 2450\n"
     ]
    },
    {
     "name": "stderr",
     "output_type": "stream",
     "text": [
      "[I 2024-12-09 19:35:47,339] Trial 298 finished with value: 0.030875355112013027 and parameters: {'x_0': 0.19602325440796123, 'x_1': 0.6182094826513354, 'x_2': 0.8509768391615884}. Best is trial 214 with value: 0.030926377478244674.\n"
     ]
    },
    {
     "name": "stdout",
     "output_type": "stream",
     "text": [
      "__________Iteration 299______________\n",
      "SLIM weight: 0.6428541414520903\n",
      "RP3b weight: 0.24845882564719848\n",
      "ItemKNN weight: 0.1086870329007112\n",
      "EvaluatorHoldout: Processed 34742 (100.0%) in 13.30 sec. Users per second: 2613\n",
      "EvaluatorHoldout: Processed 35171 (100.0%) in 14.33 sec. Users per second: 2454\n"
     ]
    },
    {
     "name": "stderr",
     "output_type": "stream",
     "text": [
      "[I 2024-12-09 19:36:15,063] Trial 299 finished with value: 0.03082499522557574 and parameters: {'x_0': 0.23734040112096377, 'x_1': 0.573568549123832, 'x_2': 0.7841414228711003}. Best is trial 214 with value: 0.030926377478244674.\n"
     ]
    },
    {
     "name": "stdout",
     "output_type": "stream",
     "text": [
      "__________Iteration 300______________\n",
      "SLIM weight: 0.5405821024264903\n",
      "RP3b weight: 0.3374128332323432\n",
      "ItemKNN weight: 0.12200506434116652\n",
      "EvaluatorHoldout: Processed 34742 (100.0%) in 13.27 sec. Users per second: 2619\n",
      "EvaluatorHoldout: Processed 35171 (100.0%) in 14.30 sec. Users per second: 2459\n"
     ]
    },
    {
     "name": "stderr",
     "output_type": "stream",
     "text": [
      "[I 2024-12-09 19:36:42,725] Trial 300 finished with value: 0.03067914344560678 and parameters: {'x_0': 0.5516072231801532, 'x_1': 0.6898175839167229, 'x_2': 0.874355288891764}. Best is trial 214 with value: 0.030926377478244674.\n"
     ]
    },
    {
     "name": "stdout",
     "output_type": "stream",
     "text": [
      "__________Iteration 301______________\n",
      "SLIM weight: 0.8089125953324942\n",
      "RP3b weight: 0.1576150980498937\n",
      "ItemKNN weight: 0.033472306617612135\n",
      "EvaluatorHoldout: Processed 34742 (100.0%) in 13.26 sec. Users per second: 2619\n",
      "EvaluatorHoldout: Processed 35171 (100.0%) in 14.29 sec. Users per second: 2461\n"
     ]
    },
    {
     "name": "stderr",
     "output_type": "stream",
     "text": [
      "[I 2024-12-09 19:37:10,374] Trial 301 finished with value: 0.030889042173006063 and parameters: {'x_0': 0.1799228133370465, 'x_1': 0.7159042709638056, 'x_2': 0.9314851285090341}. Best is trial 214 with value: 0.030926377478244674.\n"
     ]
    },
    {
     "name": "stdout",
     "output_type": "stream",
     "text": [
      "__________Iteration 302______________\n",
      "SLIM weight: 0.6138913200420383\n",
      "RP3b weight: 0.13096485503582536\n",
      "ItemKNN weight: 0.2551438249221362\n",
      "EvaluatorHoldout: Processed 34742 (100.0%) in 13.24 sec. Users per second: 2625\n",
      "EvaluatorHoldout: Processed 35171 (100.0%) in 14.29 sec. Users per second: 2461\n"
     ]
    },
    {
     "name": "stderr",
     "output_type": "stream",
     "text": [
      "[I 2024-12-09 19:37:37,998] Trial 302 finished with value: 0.030563250601028158 and parameters: {'x_0': 0.1565159442907994, 'x_1': 0.6732412169046348, 'x_2': 0.4626415675983596}. Best is trial 214 with value: 0.030926377478244674.\n"
     ]
    },
    {
     "name": "stdout",
     "output_type": "stream",
     "text": [
      "__________Iteration 303______________\n",
      "SLIM weight: 0.8100614619341984\n",
      "RP3b weight: 0.18890005390450532\n",
      "ItemKNN weight: 0.001038484161296222\n",
      "EvaluatorHoldout: Processed 34742 (100.0%) in 13.26 sec. Users per second: 2620\n",
      "EvaluatorHoldout: Processed 35171 (100.0%) in 14.32 sec. Users per second: 2456\n"
     ]
    },
    {
     "name": "stderr",
     "output_type": "stream",
     "text": [
      "[I 2024-12-09 19:38:05,673] Trial 303 finished with value: 0.03085381880766348 and parameters: {'x_0': 0.21562502728661345, 'x_1': 0.6992360495415246, 'x_2': 0.9980350978511626}. Best is trial 214 with value: 0.030926377478244674.\n"
     ]
    },
    {
     "name": "stdout",
     "output_type": "stream",
     "text": [
      "__________Iteration 304______________\n",
      "SLIM weight: 0.7621760256366381\n",
      "RP3b weight: 0.16129430181434662\n",
      "ItemKNN weight: 0.07652967254901524\n",
      "EvaluatorHoldout: Processed 34742 (100.0%) in 13.24 sec. Users per second: 2625\n",
      "EvaluatorHoldout: Processed 35171 (100.0%) in 14.32 sec. Users per second: 2457\n"
     ]
    },
    {
     "name": "stderr",
     "output_type": "stream",
     "text": [
      "[I 2024-12-09 19:38:33,322] Trial 304 finished with value: 0.030898104439710285 and parameters: {'x_0': 0.11883068483002038, 'x_1': 0.6371375790290982, 'x_2': 0.8074471261515441}. Best is trial 214 with value: 0.030926377478244674.\n"
     ]
    },
    {
     "name": "stdout",
     "output_type": "stream",
     "text": [
      "__________Iteration 305______________\n",
      "SLIM weight: 0.7510859351450577\n",
      "RP3b weight: 0.13453744366039877\n",
      "ItemKNN weight: 0.11437662119454357\n",
      "EvaluatorHoldout: Processed 34742 (100.0%) in 13.32 sec. Users per second: 2608\n",
      "EvaluatorHoldout: Processed 35171 (100.0%) in 14.34 sec. Users per second: 2452\n"
     ]
    },
    {
     "name": "stderr",
     "output_type": "stream",
     "text": [
      "[I 2024-12-09 19:39:01,082] Trial 305 finished with value: 0.030876479043250436 and parameters: {'x_0': 0.1668324426326654, 'x_1': 0.7255909374302502, 'x_2': 0.761320591471369}. Best is trial 214 with value: 0.030926377478244674.\n"
     ]
    },
    {
     "name": "stdout",
     "output_type": "stream",
     "text": [
      "__________Iteration 306______________\n",
      "SLIM weight: 0.5311930299119505\n",
      "RP3b weight: 0.31695847569406393\n",
      "ItemKNN weight: 0.15184849439398554\n",
      "EvaluatorHoldout: Processed 34742 (100.0%) in 13.28 sec. Users per second: 2617\n",
      "EvaluatorHoldout: Processed 35171 (100.0%) in 14.27 sec. Users per second: 2464\n"
     ]
    },
    {
     "name": "stderr",
     "output_type": "stream",
     "text": [
      "[I 2024-12-09 19:39:28,725] Trial 306 finished with value: 0.030648606553706124 and parameters: {'x_0': 0.5139731758461583, 'x_1': 0.6722341420130853, 'x_2': 0.8267392139646702}. Best is trial 214 with value: 0.030926377478244674.\n"
     ]
    },
    {
     "name": "stdout",
     "output_type": "stream",
     "text": [
      "__________Iteration 307______________\n",
      "SLIM weight: 0.7356045002003786\n",
      "RP3b weight: 0.19501245293294966\n",
      "ItemKNN weight: 0.06938304686667175\n",
      "EvaluatorHoldout: Processed 34742 (100.0%) in 13.21 sec. Users per second: 2631\n",
      "EvaluatorHoldout: Processed 35171 (100.0%) in 14.32 sec. Users per second: 2457\n"
     ]
    },
    {
     "name": "stderr",
     "output_type": "stream",
     "text": [
      "[I 2024-12-09 19:39:56,342] Trial 307 finished with value: 0.03086060922555572 and parameters: {'x_0': 0.19419655815889794, 'x_1': 0.6476035923713157, 'x_2': 0.8567737212827294}. Best is trial 214 with value: 0.030926377478244674.\n"
     ]
    },
    {
     "name": "stdout",
     "output_type": "stream",
     "text": [
      "__________Iteration 308______________\n",
      "SLIM weight: 0.769880382951712\n",
      "RP3b weight: 0.14410028391687843\n",
      "ItemKNN weight: 0.08601933313140973\n",
      "EvaluatorHoldout: Processed 34742 (100.0%) in 13.26 sec. Users per second: 2621\n",
      "EvaluatorHoldout: Processed 35171 (100.0%) in 14.37 sec. Users per second: 2448\n"
     ]
    },
    {
     "name": "stderr",
     "output_type": "stream",
     "text": [
      "[I 2024-12-09 19:40:24,063] Trial 308 finished with value: 0.030892696091733937 and parameters: {'x_0': 0.1487791256153838, 'x_1': 0.700039879382341, 'x_2': 0.8082532790850236}. Best is trial 214 with value: 0.030926377478244674.\n"
     ]
    },
    {
     "name": "stdout",
     "output_type": "stream",
     "text": [
      "__________Iteration 309______________\n",
      "SLIM weight: 0.7794921002360031\n",
      "RP3b weight: 0.14136015303973662\n",
      "ItemKNN weight: 0.07914774672426035\n",
      "EvaluatorHoldout: Processed 34742 (100.0%) in 13.22 sec. Users per second: 2629\n",
      "EvaluatorHoldout: Processed 35171 (100.0%) in 14.35 sec. Users per second: 2451\n"
     ]
    },
    {
     "name": "stderr",
     "output_type": "stream",
     "text": [
      "[I 2024-12-09 19:40:51,724] Trial 309 finished with value: 0.030897971943751455 and parameters: {'x_0': 0.1760878830738399, 'x_1': 0.7298166300403887, 'x_2': 0.8383264926880704}. Best is trial 214 with value: 0.030926377478244674.\n"
     ]
    },
    {
     "name": "stdout",
     "output_type": "stream",
     "text": [
      "__________Iteration 310______________\n",
      "SLIM weight: 0.49340645236717595\n",
      "RP3b weight: 0.14442809601251194\n",
      "ItemKNN weight: 0.36216545162031216\n",
      "EvaluatorHoldout: Processed 34742 (100.0%) in 13.27 sec. Users per second: 2618\n",
      "EvaluatorHoldout: Processed 35171 (100.0%) in 14.35 sec. Users per second: 2451\n"
     ]
    },
    {
     "name": "stderr",
     "output_type": "stream",
     "text": [
      "[I 2024-12-09 19:41:19,444] Trial 310 finished with value: 0.03020157661053315 and parameters: {'x_0': 0.2604069834259021, 'x_1': 0.6744535064310562, 'x_2': 0.3724628564066479}. Best is trial 214 with value: 0.030926377478244674.\n"
     ]
    },
    {
     "name": "stdout",
     "output_type": "stream",
     "text": [
      "__________Iteration 311______________\n",
      "SLIM weight: 0.6956600481231296\n",
      "RP3b weight: 0.19560280315540277\n",
      "ItemKNN weight: 0.10873714872146757\n",
      "EvaluatorHoldout: Processed 34742 (100.0%) in 13.30 sec. Users per second: 2612\n",
      "EvaluatorHoldout: Processed 35171 (100.0%) in 14.33 sec. Users per second: 2454\n"
     ]
    },
    {
     "name": "stderr",
     "output_type": "stream",
     "text": [
      "[I 2024-12-09 19:41:47,188] Trial 311 finished with value: 0.030887102706297662 and parameters: {'x_0': 0.22025298450392927, 'x_1': 0.6534998334247539, 'x_2': 0.789393413716228}. Best is trial 214 with value: 0.030926377478244674.\n"
     ]
    },
    {
     "name": "stdout",
     "output_type": "stream",
     "text": [
      "__________Iteration 312______________\n",
      "SLIM weight: 0.8051529796759885\n",
      "RP3b weight: 0.14125162088969587\n",
      "ItemKNN weight: 0.05359539943431556\n",
      "EvaluatorHoldout: Processed 34742 (100.0%) in 13.24 sec. Users per second: 2623\n",
      "EvaluatorHoldout: Processed 35171 (100.0%) in 14.33 sec. Users per second: 2455\n"
     ]
    },
    {
     "name": "stderr",
     "output_type": "stream",
     "text": [
      "[I 2024-12-09 19:42:14,856] Trial 312 finished with value: 0.030874184350307563 and parameters: {'x_0': 0.13155318109193573, 'x_1': 0.7005836135351843, 'x_2': 0.8737004381129648}. Best is trial 214 with value: 0.030926377478244674.\n"
     ]
    },
    {
     "name": "stdout",
     "output_type": "stream",
     "text": [
      "__________Iteration 313______________\n",
      "SLIM weight: 0.4704614385192437\n",
      "RP3b weight: 0.47358716421474006\n",
      "ItemKNN weight: 0.055951397266016244\n",
      "EvaluatorHoldout: Processed 34742 (100.0%) in 13.22 sec. Users per second: 2627\n",
      "EvaluatorHoldout: Processed 35171 (100.0%) in 14.27 sec. Users per second: 2465\n"
     ]
    },
    {
     "name": "stderr",
     "output_type": "stream",
     "text": [
      "[I 2024-12-09 19:42:42,442] Trial 313 finished with value: 0.030496333288558008 and parameters: {'x_0': 0.20138506523462735, 'x_1': 0.19925225579766148, 'x_2': 0.8264732897311023}. Best is trial 214 with value: 0.030926377478244674.\n"
     ]
    },
    {
     "name": "stdout",
     "output_type": "stream",
     "text": [
      "__________Iteration 314______________\n",
      "SLIM weight: 0.4474020433058202\n",
      "RP3b weight: 0.3631669857192414\n",
      "ItemKNN weight: 0.18943097097493855\n",
      "EvaluatorHoldout: Processed 34742 (100.0%) in 13.23 sec. Users per second: 2627\n",
      "EvaluatorHoldout: Processed 35171 (100.0%) in 14.31 sec. Users per second: 2458\n"
     ]
    },
    {
     "name": "stderr",
     "output_type": "stream",
     "text": [
      "[I 2024-12-09 19:43:10,069] Trial 314 finished with value: 0.03048009568035685 and parameters: {'x_0': 0.6819415619055829, 'x_1': 0.73290650463455, 'x_2': 0.8503705201338764}. Best is trial 214 with value: 0.030926377478244674.\n"
     ]
    },
    {
     "name": "stdout",
     "output_type": "stream",
     "text": [
      "__________Iteration 315______________\n",
      "SLIM weight: 0.7919568467413121\n",
      "RP3b weight: 0.16131927899860846\n",
      "ItemKNN weight: 0.04672387426007943\n",
      "EvaluatorHoldout: Processed 34742 (100.0%) in 13.20 sec. Users per second: 2631\n",
      "EvaluatorHoldout: Processed 35171 (100.0%) in 14.32 sec. Users per second: 2455\n"
     ]
    },
    {
     "name": "stderr",
     "output_type": "stream",
     "text": [
      "[I 2024-12-09 19:43:37,693] Trial 315 finished with value: 0.030881673798603487 and parameters: {'x_0': 0.1627416631173522, 'x_1': 0.6908513583989608, 'x_2': 0.8984212158243468}. Best is trial 214 with value: 0.030926377478244674.\n"
     ]
    },
    {
     "name": "stdout",
     "output_type": "stream",
     "text": [
      "__________Iteration 316______________\n",
      "SLIM weight: 0.7085095320495727\n",
      "RP3b weight: 0.20079633181674203\n",
      "ItemKNN weight: 0.09069413613368532\n",
      "EvaluatorHoldout: Processed 34742 (100.0%) in 13.23 sec. Users per second: 2625\n",
      "EvaluatorHoldout: Processed 35171 (100.0%) in 14.29 sec. Users per second: 2461\n"
     ]
    },
    {
     "name": "stderr",
     "output_type": "stream",
     "text": [
      "[I 2024-12-09 19:44:05,313] Trial 316 finished with value: 0.030877676075706417 and parameters: {'x_0': 0.18304042634765622, 'x_1': 0.6180176828934647, 'x_2': 0.8046386720582078}. Best is trial 214 with value: 0.030926377478244674.\n"
     ]
    },
    {
     "name": "stdout",
     "output_type": "stream",
     "text": [
      "__________Iteration 317______________\n",
      "SLIM weight: 0.755949256665099\n",
      "RP3b weight: 0.13454237300585306\n",
      "ItemKNN weight: 0.10950837032904794\n",
      "EvaluatorHoldout: Processed 34742 (100.0%) in 13.22 sec. Users per second: 2629\n",
      "EvaluatorHoldout: Processed 35171 (100.0%) in 14.29 sec. Users per second: 2461\n"
     ]
    },
    {
     "name": "stderr",
     "output_type": "stream",
     "text": [
      "[I 2024-12-09 19:44:32,914] Trial 317 finished with value: 0.030878943924968105 and parameters: {'x_0': 0.15173458306355783, 'x_1': 0.7149094394329785, 'x_2': 0.7609747043885425}. Best is trial 214 with value: 0.030926377478244674.\n"
     ]
    },
    {
     "name": "stdout",
     "output_type": "stream",
     "text": [
      "__________Iteration 318______________\n",
      "SLIM weight: 0.7675650996459753\n",
      "RP3b weight: 0.15885986432989305\n",
      "ItemKNN weight: 0.07357503602413147\n",
      "EvaluatorHoldout: Processed 34742 (100.0%) in 13.27 sec. Users per second: 2619\n",
      "EvaluatorHoldout: Processed 35171 (100.0%) in 14.39 sec. Users per second: 2445\n"
     ]
    },
    {
     "name": "stderr",
     "output_type": "stream",
     "text": [
      "[I 2024-12-09 19:45:00,661] Trial 318 finished with value: 0.030892166107898397 and parameters: {'x_0': 0.13975305889217965, 'x_1': 0.6654552675180307, 'x_2': 0.828091862058854}. Best is trial 214 with value: 0.030926377478244674.\n"
     ]
    },
    {
     "name": "stdout",
     "output_type": "stream",
     "text": [
      "__________Iteration 319______________\n",
      "SLIM weight: 0.700374810237358\n",
      "RP3b weight: 0.1852494540638413\n",
      "ItemKNN weight: 0.1143757356988007\n",
      "EvaluatorHoldout: Processed 34742 (100.0%) in 13.25 sec. Users per second: 2621\n",
      "EvaluatorHoldout: Processed 35171 (100.0%) in 14.30 sec. Users per second: 2459\n"
     ]
    },
    {
     "name": "stderr",
     "output_type": "stream",
     "text": [
      "[I 2024-12-09 19:45:28,313] Trial 319 finished with value: 0.030892755486474112 and parameters: {'x_0': 0.23478427928277024, 'x_1': 0.6816189713953023, 'x_2': 0.7892710623501944}. Best is trial 214 with value: 0.030926377478244674.\n"
     ]
    },
    {
     "name": "stdout",
     "output_type": "stream",
     "text": [
      "__________Iteration 320______________\n",
      "SLIM weight: 0.26960894360227866\n",
      "RP3b weight: 0.6444451791007956\n",
      "ItemKNN weight: 0.08594587729692571\n",
      "EvaluatorHoldout: Processed 34742 (100.0%) in 13.27 sec. Users per second: 2619\n",
      "EvaluatorHoldout: Processed 35171 (100.0%) in 14.29 sec. Users per second: 2461\n"
     ]
    },
    {
     "name": "stderr",
     "output_type": "stream",
     "text": [
      "[I 2024-12-09 19:45:55,961] Trial 320 finished with value: 0.02984302541272416 and parameters: {'x_0': 0.605137463847515, 'x_1': 0.3010000630440811, 'x_2': 0.8520390139117711}. Best is trial 214 with value: 0.030926377478244674.\n"
     ]
    },
    {
     "name": "stdout",
     "output_type": "stream",
     "text": [
      "__________Iteration 321______________\n",
      "SLIM weight: 0.7547953208625945\n",
      "RP3b weight: 0.14497946816396218\n",
      "ItemKNN weight: 0.10022521097344333\n",
      "EvaluatorHoldout: Processed 34742 (100.0%) in 13.23 sec. Users per second: 2625\n",
      "EvaluatorHoldout: Processed 35171 (100.0%) in 14.29 sec. Users per second: 2462\n"
     ]
    },
    {
     "name": "stderr",
     "output_type": "stream",
     "text": [
      "[I 2024-12-09 19:46:23,575] Trial 321 finished with value: 0.03089796166389259 and parameters: {'x_0': 0.20997498174222323, 'x_1': 0.7409747273247492, 'x_2': 0.8128198012403681}. Best is trial 214 with value: 0.030926377478244674.\n"
     ]
    },
    {
     "name": "stdout",
     "output_type": "stream",
     "text": [
      "__________Iteration 322______________\n",
      "SLIM weight: 0.7845715221146405\n",
      "RP3b weight: 0.16675146488867504\n",
      "ItemKNN weight: 0.048677012996684504\n",
      "EvaluatorHoldout: Processed 34742 (100.0%) in 13.17 sec. Users per second: 2637\n",
      "EvaluatorHoldout: Processed 35171 (100.0%) in 14.32 sec. Users per second: 2457\n"
     ]
    },
    {
     "name": "stderr",
     "output_type": "stream",
     "text": [
      "[I 2024-12-09 19:46:51,158] Trial 322 finished with value: 0.03086876914909188 and parameters: {'x_0': 0.12223549721402069, 'x_1': 0.6397267531240844, 'x_2': 0.877742583437626}. Best is trial 214 with value: 0.030926377478244674.\n"
     ]
    },
    {
     "name": "stdout",
     "output_type": "stream",
     "text": [
      "__________Iteration 323______________\n",
      "SLIM weight: 0.7669179747920645\n",
      "RP3b weight: 0.15257198467466423\n",
      "ItemKNN weight: 0.08051004053327122\n",
      "EvaluatorHoldout: Processed 34742 (100.0%) in 13.19 sec. Users per second: 2633\n",
      "EvaluatorHoldout: Processed 35171 (100.0%) in 14.28 sec. Users per second: 2464\n"
     ]
    },
    {
     "name": "stderr",
     "output_type": "stream",
     "text": [
      "[I 2024-12-09 19:47:18,721] Trial 323 finished with value: 0.03090830777075012 and parameters: {'x_0': 0.18356539130010271, 'x_1': 0.7137354580186452, 'x_2': 0.836977391059516}. Best is trial 214 with value: 0.030926377478244674.\n"
     ]
    },
    {
     "name": "stdout",
     "output_type": "stream",
     "text": [
      "__________Iteration 324______________\n",
      "SLIM weight: 0.7294668512138347\n",
      "RP3b weight: 0.17465779533536724\n",
      "ItemKNN weight: 0.0958753534507981\n",
      "EvaluatorHoldout: Processed 34742 (100.0%) in 13.21 sec. Users per second: 2629\n",
      "EvaluatorHoldout: Processed 35171 (100.0%) in 14.20 sec. Users per second: 2476\n"
     ]
    },
    {
     "name": "stderr",
     "output_type": "stream",
     "text": [
      "[I 2024-12-09 19:47:46,231] Trial 324 finished with value: 0.030886368267491138 and parameters: {'x_0': 0.16949595588967342, 'x_1': 0.6537865562937436, 'x_2': 0.7919300093875716}. Best is trial 214 with value: 0.030926377478244674.\n"
     ]
    },
    {
     "name": "stdout",
     "output_type": "stream",
     "text": [
      "__________Iteration 325______________\n",
      "SLIM weight: 0.7376403806990667\n",
      "RP3b weight: 0.17018899030723852\n",
      "ItemKNN weight: 0.09217062899369481\n",
      "EvaluatorHoldout: Processed 34742 (100.0%) in 13.18 sec. Users per second: 2636\n",
      "EvaluatorHoldout: Processed 35171 (100.0%) in 14.22 sec. Users per second: 2474\n"
     ]
    },
    {
     "name": "stderr",
     "output_type": "stream",
     "text": [
      "[I 2024-12-09 19:48:13,725] Trial 325 finished with value: 0.03090819355009585 and parameters: {'x_0': 0.19711122140329235, 'x_1': 0.6875039966322625, 'x_2': 0.8163414108657079}. Best is trial 214 with value: 0.030926377478244674.\n"
     ]
    },
    {
     "name": "stdout",
     "output_type": "stream",
     "text": [
      "__________Iteration 326______________\n",
      "SLIM weight: 0.7952672817901472\n",
      "RP3b weight: 0.14246880415563165\n",
      "ItemKNN weight: 0.06226391405422119\n",
      "EvaluatorHoldout: Processed 34742 (100.0%) in 13.19 sec. Users per second: 2635\n",
      "EvaluatorHoldout: Processed 35171 (100.0%) in 14.17 sec. Users per second: 2483\n"
     ]
    },
    {
     "name": "stderr",
     "output_type": "stream",
     "text": [
      "[I 2024-12-09 19:48:41,174] Trial 326 finished with value: 0.030908227816292138 and parameters: {'x_0': 0.14178386185325836, 'x_1': 0.7047214542172172, 'x_2': 0.8581797467675893}. Best is trial 214 with value: 0.030926377478244674.\n"
     ]
    },
    {
     "name": "stdout",
     "output_type": "stream",
     "text": [
      "__________Iteration 327______________\n",
      "SLIM weight: 0.7565981947507727\n",
      "RP3b weight: 0.1697188748621502\n",
      "ItemKNN weight: 0.07368293038707698\n",
      "EvaluatorHoldout: Processed 34742 (100.0%) in 13.18 sec. Users per second: 2636\n",
      "EvaluatorHoldout: Processed 35171 (100.0%) in 14.24 sec. Users per second: 2469\n"
     ]
    },
    {
     "name": "stderr",
     "output_type": "stream",
     "text": [
      "[I 2024-12-09 19:49:08,688] Trial 327 finished with value: 0.03090252135240824 and parameters: {'x_0': 0.16229459856210238, 'x_1': 0.6650536696673972, 'x_2': 0.8377101462897366}. Best is trial 214 with value: 0.030926377478244674.\n"
     ]
    },
    {
     "name": "stdout",
     "output_type": "stream",
     "text": [
      "__________Iteration 328______________\n",
      "SLIM weight: 0.7368743544917831\n",
      "RP3b weight: 0.13820790037350927\n",
      "ItemKNN weight: 0.12491774513470762\n",
      "EvaluatorHoldout: Processed 34742 (100.0%) in 13.10 sec. Users per second: 2652\n",
      "EvaluatorHoldout: Processed 35171 (100.0%) in 14.06 sec. Users per second: 2501\n"
     ]
    },
    {
     "name": "stderr",
     "output_type": "stream",
     "text": [
      "[I 2024-12-09 19:49:35,943] Trial 328 finished with value: 0.030847144894838526 and parameters: {'x_0': 0.21989402080697748, 'x_1': 0.7527066890720964, 'x_2': 0.7735520038689724}. Best is trial 214 with value: 0.030926377478244674.\n"
     ]
    },
    {
     "name": "stdout",
     "output_type": "stream",
     "text": [
      "__________Iteration 329______________\n",
      "SLIM weight: 0.7601122422541735\n",
      "RP3b weight: 0.16403003068571625\n",
      "ItemKNN weight: 0.0758577270601102\n",
      "EvaluatorHoldout: Processed 34742 (100.0%) in 12.99 sec. Users per second: 2674\n",
      "EvaluatorHoldout: Processed 35171 (100.0%) in 14.14 sec. Users per second: 2487\n"
     ]
    },
    {
     "name": "stderr",
     "output_type": "stream",
     "text": [
      "[I 2024-12-09 19:50:03,177] Trial 329 finished with value: 0.030917197564266547 and parameters: {'x_0': 0.12009908710953453, 'x_1': 0.6329469654318503, 'x_2': 0.8093564805865618}. Best is trial 214 with value: 0.030926377478244674.\n"
     ]
    },
    {
     "name": "stdout",
     "output_type": "stream",
     "text": [
      "__________Iteration 330______________\n",
      "SLIM weight: 0.6962135940963178\n",
      "RP3b weight: 0.2232467268052196\n",
      "ItemKNN weight: 0.08053967909846274\n",
      "EvaluatorHoldout: Processed 34742 (100.0%) in 12.99 sec. Users per second: 2675\n",
      "EvaluatorHoldout: Processed 35171 (100.0%) in 14.17 sec. Users per second: 2483\n"
     ]
    },
    {
     "name": "stderr",
     "output_type": "stream",
     "text": [
      "[I 2024-12-09 19:50:30,421] Trial 330 finished with value: 0.0308719479098982 and parameters: {'x_0': 0.186234660881313, 'x_1': 0.583362868743149, 'x_2': 0.8233013502147031}. Best is trial 214 with value: 0.030926377478244674.\n"
     ]
    },
    {
     "name": "stdout",
     "output_type": "stream",
     "text": [
      "__________Iteration 331______________\n",
      "SLIM weight: 0.7586775267708342\n",
      "RP3b weight: 0.18514572429693885\n",
      "ItemKNN weight: 0.056176748932227016\n",
      "EvaluatorHoldout: Processed 34742 (100.0%) in 13.20 sec. Users per second: 2632\n",
      "EvaluatorHoldout: Processed 35171 (100.0%) in 14.20 sec. Users per second: 2476\n"
     ]
    },
    {
     "name": "stderr",
     "output_type": "stream",
     "text": [
      "[I 2024-12-09 19:50:57,914] Trial 331 finished with value: 0.030878435643056895 and parameters: {'x_0': 0.14788793836756434, 'x_1': 0.6272382165192749, 'x_2': 0.8680348367004072}. Best is trial 214 with value: 0.030926377478244674.\n"
     ]
    },
    {
     "name": "stdout",
     "output_type": "stream",
     "text": [
      "__________Iteration 332______________\n",
      "SLIM weight: 0.7026857089652502\n",
      "RP3b weight: 0.21665098199789987\n",
      "ItemKNN weight: 0.08066330903684987\n",
      "EvaluatorHoldout: Processed 34742 (100.0%) in 13.12 sec. Users per second: 2648\n",
      "EvaluatorHoldout: Processed 35171 (100.0%) in 14.06 sec. Users per second: 2501\n"
     ]
    },
    {
     "name": "stderr",
     "output_type": "stream",
     "text": [
      "[I 2024-12-09 19:51:25,189] Trial 332 finished with value: 0.03088393079873041 and parameters: {'x_0': 0.24400912631508107, 'x_1': 0.6473303619311193, 'x_2': 0.8505083560214524}. Best is trial 214 with value: 0.030926377478244674.\n"
     ]
    },
    {
     "name": "stdout",
     "output_type": "stream",
     "text": [
      "__________Iteration 333______________\n",
      "SLIM weight: 0.7778572777858368\n",
      "RP3b weight: 0.1787174463814916\n",
      "ItemKNN weight: 0.04342527583267147\n",
      "EvaluatorHoldout: Processed 34742 (100.0%) in 12.94 sec. Users per second: 2685\n",
      "EvaluatorHoldout: Processed 35171 (100.0%) in 14.17 sec. Users per second: 2482\n"
     ]
    },
    {
     "name": "stderr",
     "output_type": "stream",
     "text": [
      "[I 2024-12-09 19:51:52,394] Trial 333 finished with value: 0.030852702871871907 and parameters: {'x_0': 0.12569344960140547, 'x_1': 0.6209570976249659, 'x_2': 0.8906714164821516}. Best is trial 214 with value: 0.030926377478244674.\n"
     ]
    },
    {
     "name": "stdout",
     "output_type": "stream",
     "text": [
      "__________Iteration 334______________\n",
      "SLIM weight: 0.61184382652091\n",
      "RP3b weight: 0.25098855944232723\n",
      "ItemKNN weight: 0.13716761403676278\n",
      "EvaluatorHoldout: Processed 34742 (100.0%) in 14.00 sec. Users per second: 2482\n",
      "EvaluatorHoldout: Processed 35171 (100.0%) in 14.67 sec. Users per second: 2397\n"
     ]
    },
    {
     "name": "stderr",
     "output_type": "stream",
     "text": [
      "[I 2024-12-09 19:52:21,167] Trial 334 finished with value: 0.030758671860507313 and parameters: {'x_0': 0.3803789118909613, 'x_1': 0.6726633520699159, 'x_2': 0.8051742107540432}. Best is trial 214 with value: 0.030926377478244674.\n"
     ]
    },
    {
     "name": "stdout",
     "output_type": "stream",
     "text": [
      "__________Iteration 335______________\n",
      "SLIM weight: 0.7538350228174001\n",
      "RP3b weight: 0.16586109805529634\n",
      "ItemKNN weight: 0.0803038791273035\n",
      "EvaluatorHoldout: Processed 34742 (100.0%) in 13.82 sec. Users per second: 2515\n",
      "EvaluatorHoldout: Processed 35171 (100.0%) in 15.01 sec. Users per second: 2343\n"
     ]
    },
    {
     "name": "stderr",
     "output_type": "stream",
     "text": [
      "[I 2024-12-09 19:52:50,094] Trial 335 finished with value: 0.03091720555971233 and parameters: {'x_0': 0.17651713006417388, 'x_1': 0.6827720429628442, 'x_2': 0.8313087812044877}. Best is trial 214 with value: 0.030926377478244674.\n"
     ]
    },
    {
     "name": "stdout",
     "output_type": "stream",
     "text": [
      "__________Iteration 336______________\n",
      "SLIM weight: 0.727707771546778\n",
      "RP3b weight: 0.19209030840283556\n",
      "ItemKNN weight: 0.08020192005038647\n",
      "EvaluatorHoldout: Processed 34742 (100.0%) in 13.78 sec. Users per second: 2521\n",
      "EvaluatorHoldout: Processed 35171 (100.0%) in 14.52 sec. Users per second: 2422\n"
     ]
    },
    {
     "name": "stderr",
     "output_type": "stream",
     "text": [
      "[I 2024-12-09 19:53:18,501] Trial 336 finished with value: 0.03087536539187191 and parameters: {'x_0': 0.2006656729546789, 'x_1': 0.6544499216567294, 'x_2': 0.8377691501557564}. Best is trial 214 with value: 0.030926377478244674.\n"
     ]
    },
    {
     "name": "stdout",
     "output_type": "stream",
     "text": [
      "__________Iteration 337______________\n",
      "SLIM weight: 0.7701199795632164\n",
      "RP3b weight: 0.1694057816794584\n",
      "ItemKNN weight: 0.060474238757325084\n",
      "EvaluatorHoldout: Processed 34742 (100.0%) in 13.57 sec. Users per second: 2560\n",
      "EvaluatorHoldout: Processed 35171 (100.0%) in 14.96 sec. Users per second: 2351\n"
     ]
    },
    {
     "name": "stderr",
     "output_type": "stream",
     "text": [
      "[I 2024-12-09 19:53:47,134] Trial 337 finished with value: 0.03086867206153579 and parameters: {'x_0': 0.17419078379554748, 'x_1': 0.6808412394078907, 'x_2': 0.8717680386687897}. Best is trial 214 with value: 0.030926377478244674.\n"
     ]
    },
    {
     "name": "stdout",
     "output_type": "stream",
     "text": [
      "__________Iteration 338______________\n",
      "SLIM weight: 0.7347473452993297\n",
      "RP3b weight: 0.18698934115064839\n",
      "ItemKNN weight: 0.07826331355002174\n",
      "EvaluatorHoldout: Processed 34742 (100.0%) in 13.93 sec. Users per second: 2495\n",
      "EvaluatorHoldout: Processed 35171 (100.0%) in 14.99 sec. Users per second: 2346\n"
     ]
    },
    {
     "name": "stderr",
     "output_type": "stream",
     "text": [
      "[I 2024-12-09 19:54:16,165] Trial 338 finished with value: 0.030874995316952293 and parameters: {'x_0': 0.16518891112952877, 'x_1': 0.6323830823556064, 'x_2': 0.8254702485247356}. Best is trial 214 with value: 0.030926377478244674.\n"
     ]
    },
    {
     "name": "stdout",
     "output_type": "stream",
     "text": [
      "__________Iteration 339______________\n",
      "SLIM weight: 0.7615151751179853\n",
      "RP3b weight: 0.19713662174229102\n",
      "ItemKNN weight: 0.04134820313972361\n",
      "EvaluatorHoldout: Processed 34742 (100.0%) in 13.80 sec. Users per second: 2517\n",
      "EvaluatorHoldout: Processed 35171 (100.0%) in 14.70 sec. Users per second: 2393\n"
     ]
    },
    {
     "name": "stderr",
     "output_type": "stream",
     "text": [
      "[I 2024-12-09 19:54:44,768] Trial 339 finished with value: 0.030864159203488273 and parameters: {'x_0': 0.21196244118308494, 'x_1': 0.669246061204241, 'x_2': 0.9192162455182986}. Best is trial 214 with value: 0.030926377478244674.\n"
     ]
    },
    {
     "name": "stdout",
     "output_type": "stream",
     "text": [
      "__________Iteration 340______________\n",
      "SLIM weight: 0.7606626179971014\n",
      "RP3b weight: 0.16658207890281662\n",
      "ItemKNN weight: 0.07275530310008196\n",
      "EvaluatorHoldout: Processed 34742 (100.0%) in 13.38 sec. Users per second: 2596\n",
      "EvaluatorHoldout: Processed 35171 (100.0%) in 14.53 sec. Users per second: 2421\n"
     ]
    },
    {
     "name": "stderr",
     "output_type": "stream",
     "text": [
      "[I 2024-12-09 19:55:12,776] Trial 340 finished with value: 0.030905694402181966 and parameters: {'x_0': 0.18835738246494696, 'x_1': 0.6937836994973358, 'x_2': 0.8524208603100449}. Best is trial 214 with value: 0.030926377478244674.\n"
     ]
    },
    {
     "name": "stdout",
     "output_type": "stream",
     "text": [
      "__________Iteration 341______________\n",
      "SLIM weight: 0.7283557362787207\n",
      "RP3b weight: 0.19291375441766523\n",
      "ItemKNN weight: 0.07873050930361412\n",
      "EvaluatorHoldout: Processed 34742 (100.0%) in 13.49 sec. Users per second: 2575\n",
      "EvaluatorHoldout: Processed 35171 (100.0%) in 14.94 sec. Users per second: 2354\n"
     ]
    },
    {
     "name": "stderr",
     "output_type": "stream",
     "text": [
      "[I 2024-12-09 19:55:41,312] Trial 341 finished with value: 0.03087533569450183 and parameters: {'x_0': 0.15363022872816312, 'x_1': 0.6088756252729873, 'x_2': 0.8167016434453218}. Best is trial 214 with value: 0.030926377478244674.\n"
     ]
    },
    {
     "name": "stdout",
     "output_type": "stream",
     "text": [
      "__________Iteration 342______________\n",
      "SLIM weight: 0.7402442161795885\n",
      "RP3b weight: 0.18508040735605769\n",
      "ItemKNN weight: 0.07467537646435383\n",
      "EvaluatorHoldout: Processed 34742 (100.0%) in 13.87 sec. Users per second: 2504\n",
      "EvaluatorHoldout: Processed 35171 (100.0%) in 14.41 sec. Users per second: 2441\n"
     ]
    },
    {
     "name": "stderr",
     "output_type": "stream",
     "text": [
      "[I 2024-12-09 19:56:09,695] Trial 342 finished with value: 0.03088463211354726 and parameters: {'x_0': 0.17766251912460582, 'x_1': 0.649201231532783, 'x_2': 0.8400394700439662}. Best is trial 214 with value: 0.030926377478244674.\n"
     ]
    },
    {
     "name": "stdout",
     "output_type": "stream",
     "text": [
      "__________Iteration 343______________\n",
      "SLIM weight: 0.7185687013025266\n",
      "RP3b weight: 0.17579818648988924\n",
      "ItemKNN weight: 0.10563311220758412\n",
      "EvaluatorHoldout: Processed 34742 (100.0%) in 13.43 sec. Users per second: 2587\n",
      "EvaluatorHoldout: Processed 35171 (100.0%) in 14.41 sec. Users per second: 2441\n"
     ]
    },
    {
     "name": "stderr",
     "output_type": "stream",
     "text": [
      "[I 2024-12-09 19:56:37,624] Trial 343 finished with value: 0.030898436821814017 and parameters: {'x_0': 0.22382030450773574, 'x_1': 0.6933501092546734, 'x_2': 0.802475986851491}. Best is trial 214 with value: 0.030926377478244674.\n"
     ]
    },
    {
     "name": "stdout",
     "output_type": "stream",
     "text": [
      "__________Iteration 344______________\n",
      "SLIM weight: 0.7595127494384729\n",
      "RP3b weight: 0.18547833168841452\n",
      "ItemKNN weight: 0.05500891887311263\n",
      "EvaluatorHoldout: Processed 34742 (100.0%) in 13.67 sec. Users per second: 2542\n",
      "EvaluatorHoldout: Processed 35171 (100.0%) in 14.41 sec. Users per second: 2440\n"
     ]
    },
    {
     "name": "stderr",
     "output_type": "stream",
     "text": [
      "[I 2024-12-09 19:57:05,800] Trial 344 finished with value: 0.03087735054684199 and parameters: {'x_0': 0.1953675136465111, 'x_1': 0.6711524472818398, 'x_2': 0.8884619917996736}. Best is trial 214 with value: 0.030926377478244674.\n"
     ]
    },
    {
     "name": "stdout",
     "output_type": "stream",
     "text": [
      "__________Iteration 345______________\n",
      "SLIM weight: 0.6815867397032946\n",
      "RP3b weight: 0.23923884203082826\n",
      "ItemKNN weight: 0.07917441826587704\n",
      "EvaluatorHoldout: Processed 34742 (100.0%) in 13.36 sec. Users per second: 2601\n",
      "EvaluatorHoldout: Processed 35171 (100.0%) in 14.30 sec. Users per second: 2459\n"
     ]
    },
    {
     "name": "stderr",
     "output_type": "stream",
     "text": [
      "[I 2024-12-09 19:57:33,560] Trial 345 finished with value: 0.030861518421963042 and parameters: {'x_0': 0.28254486266573786, 'x_1': 0.6416972165514538, 'x_2': 0.8634501417206276}. Best is trial 214 with value: 0.030926377478244674.\n"
     ]
    },
    {
     "name": "stdout",
     "output_type": "stream",
     "text": [
      "__________Iteration 346______________\n",
      "SLIM weight: 0.22320705803351742\n",
      "RP3b weight: 0.0420095472460738\n",
      "ItemKNN weight: 0.7347833947204088\n",
      "EvaluatorHoldout: Processed 34742 (100.0%) in 13.24 sec. Users per second: 2623\n",
      "EvaluatorHoldout: Processed 35171 (100.0%) in 14.65 sec. Users per second: 2401\n"
     ]
    },
    {
     "name": "stderr",
     "output_type": "stream",
     "text": [
      "[I 2024-12-09 19:58:01,549] Trial 346 finished with value: 0.02813973731990754 and parameters: {'x_0': 0.16259846128201455, 'x_1': 0.7104362582609327, 'x_2': 0.0025295637094374657}. Best is trial 214 with value: 0.030926377478244674.\n"
     ]
    },
    {
     "name": "stdout",
     "output_type": "stream",
     "text": [
      "__________Iteration 347______________\n",
      "SLIM weight: 0.773903909192812\n",
      "RP3b weight: 0.15188683729707672\n",
      "ItemKNN weight: 0.07420925351011122\n",
      "EvaluatorHoldout: Processed 34742 (100.0%) in 13.33 sec. Users per second: 2607\n",
      "EvaluatorHoldout: Processed 35171 (100.0%) in 14.45 sec. Users per second: 2434\n"
     ]
    },
    {
     "name": "stderr",
     "output_type": "stream",
     "text": [
      "[I 2024-12-09 19:58:29,423] Trial 347 finished with value: 0.03089222778705168 and parameters: {'x_0': 0.14170471486872724, 'x_1': 0.6814753991997465, 'x_2': 0.8291377158477156}. Best is trial 214 with value: 0.030926377478244674.\n"
     ]
    },
    {
     "name": "stdout",
     "output_type": "stream",
     "text": [
      "__________Iteration 348______________\n",
      "SLIM weight: 0.7492494558074917\n",
      "RP3b weight: 0.17817651335097934\n",
      "ItemKNN weight: 0.07257403084152897\n",
      "EvaluatorHoldout: Processed 34742 (100.0%) in 13.71 sec. Users per second: 2535\n",
      "EvaluatorHoldout: Processed 35171 (100.0%) in 14.98 sec. Users per second: 2347\n"
     ]
    },
    {
     "name": "stderr",
     "output_type": "stream",
     "text": [
      "[I 2024-12-09 19:58:58,215] Trial 348 finished with value: 0.030895136987114116 and parameters: {'x_0': 0.17981112829857743, 'x_1': 0.6649521794114699, 'x_2': 0.8468759767102436}. Best is trial 214 with value: 0.030926377478244674.\n"
     ]
    },
    {
     "name": "stdout",
     "output_type": "stream",
     "text": [
      "__________Iteration 349______________\n",
      "SLIM weight: 0.7264045687631916\n",
      "RP3b weight: 0.1686374317898379\n",
      "ItemKNN weight: 0.10495799944697061\n",
      "EvaluatorHoldout: Processed 34742 (100.0%) in 13.63 sec. Users per second: 2548\n",
      "EvaluatorHoldout: Processed 35171 (100.0%) in 14.83 sec. Users per second: 2372\n"
     ]
    },
    {
     "name": "stderr",
     "output_type": "stream",
     "text": [
      "[I 2024-12-09 19:59:26,785] Trial 349 finished with value: 0.030894359144459076 and parameters: {'x_0': 0.20809869733312364, 'x_1': 0.6945984050333535, 'x_2': 0.7970708463170165}. Best is trial 214 with value: 0.030926377478244674.\n"
     ]
    },
    {
     "name": "stdout",
     "output_type": "stream",
     "text": [
      "__________Iteration 350______________\n",
      "SLIM weight: 0.6680842008804622\n",
      "RP3b weight: 0.23001700686795548\n",
      "ItemKNN weight: 0.10189879225158217\n",
      "EvaluatorHoldout: Processed 34742 (100.0%) in 13.65 sec. Users per second: 2546\n",
      "EvaluatorHoldout: Processed 35171 (100.0%) in 14.63 sec. Users per second: 2404\n"
     ]
    },
    {
     "name": "stderr",
     "output_type": "stream",
     "text": [
      "[I 2024-12-09 19:59:55,167] Trial 350 finished with value: 0.030873059276863568 and parameters: {'x_0': 0.2571829584624273, 'x_1': 0.6265420949002052, 'x_2': 0.8129200818264715}. Best is trial 214 with value: 0.030926377478244674.\n"
     ]
    },
    {
     "name": "stdout",
     "output_type": "stream",
     "text": [
      "__________Iteration 351______________\n",
      "SLIM weight: 0.7625591092974287\n",
      "RP3b weight: 0.13651394426766456\n",
      "ItemKNN weight: 0.1009269464349068\n",
      "EvaluatorHoldout: Processed 34742 (100.0%) in 13.50 sec. Users per second: 2574\n",
      "EvaluatorHoldout: Processed 35171 (100.0%) in 14.70 sec. Users per second: 2393\n"
     ]
    },
    {
     "name": "stderr",
     "output_type": "stream",
     "text": [
      "[I 2024-12-09 20:00:23,457] Trial 351 finished with value: 0.03089764755709352 and parameters: {'x_0': 0.15987943938324845, 'x_1': 0.7202152528484821, 'x_2': 0.7845481547735033}. Best is trial 214 with value: 0.030926377478244674.\n"
     ]
    },
    {
     "name": "stdout",
     "output_type": "stream",
     "text": [
      "__________Iteration 352______________\n",
      "SLIM weight: 0.7851703775254929\n",
      "RP3b weight: 0.16127289203051987\n",
      "ItemKNN weight: 0.05355673044398723\n",
      "EvaluatorHoldout: Processed 34742 (100.0%) in 13.80 sec. Users per second: 2518\n",
      "EvaluatorHoldout: Processed 35171 (100.0%) in 14.58 sec. Users per second: 2412\n"
     ]
    },
    {
     "name": "stderr",
     "output_type": "stream",
     "text": [
      "[I 2024-12-09 20:00:51,937] Trial 352 finished with value: 0.03088282285838478 and parameters: {'x_0': 0.12921298645367654, 'x_1': 0.6568459631352257, 'x_2': 0.869724892657785}. Best is trial 214 with value: 0.030926377478244674.\n"
     ]
    },
    {
     "name": "stdout",
     "output_type": "stream",
     "text": [
      "__________Iteration 353______________\n",
      "SLIM weight: 0.7200436454290223\n",
      "RP3b weight: 0.18831792167912578\n",
      "ItemKNN weight: 0.09163843289185188\n",
      "EvaluatorHoldout: Processed 34742 (100.0%) in 13.63 sec. Users per second: 2549\n",
      "EvaluatorHoldout: Processed 35171 (100.0%) in 14.97 sec. Users per second: 2349\n"
     ]
    },
    {
     "name": "stderr",
     "output_type": "stream",
     "text": [
      "[I 2024-12-09 20:01:20,639] Trial 353 finished with value: 0.03089927977024203 and parameters: {'x_0': 0.2313308751461918, 'x_1': 0.6819046953998935, 'x_2': 0.8300177007167713}. Best is trial 214 with value: 0.030926377478244674.\n"
     ]
    },
    {
     "name": "stdout",
     "output_type": "stream",
     "text": [
      "__________Iteration 354______________\n",
      "SLIM weight: 0.7830972660639769\n",
      "RP3b weight: 0.16727167098441556\n",
      "ItemKNN weight: 0.04963106295160759\n",
      "EvaluatorHoldout: Processed 34742 (100.0%) in 13.86 sec. Users per second: 2506\n",
      "EvaluatorHoldout: Processed 35171 (100.0%) in 14.82 sec. Users per second: 2374\n"
     ]
    },
    {
     "name": "stderr",
     "output_type": "stream",
     "text": [
      "[I 2024-12-09 20:01:49,428] Trial 354 finished with value: 0.030872178635619776 and parameters: {'x_0': 0.19043279840221572, 'x_1': 0.7016990859808699, 'x_2': 0.9002259796586575}. Best is trial 214 with value: 0.030926377478244674.\n"
     ]
    },
    {
     "name": "stdout",
     "output_type": "stream",
     "text": [
      "__________Iteration 355______________\n",
      "SLIM weight: 0.7647778621339653\n",
      "RP3b weight: 0.17130491413165896\n",
      "ItemKNN weight: 0.06391722373437572\n",
      "EvaluatorHoldout: Processed 34742 (100.0%) in 13.83 sec. Users per second: 2512\n",
      "EvaluatorHoldout: Processed 35171 (100.0%) in 14.88 sec. Users per second: 2363\n"
     ]
    },
    {
     "name": "stderr",
     "output_type": "stream",
     "text": [
      "[I 2024-12-09 20:02:18,240] Trial 355 finished with value: 0.03090457960859699 and parameters: {'x_0': 0.14320332469296024, 'x_1': 0.64705228279879, 'x_2': 0.8500760328109048}. Best is trial 214 with value: 0.030926377478244674.\n"
     ]
    },
    {
     "name": "stdout",
     "output_type": "stream",
     "text": [
      "__________Iteration 356______________\n",
      "SLIM weight: 0.7660614058849564\n",
      "RP3b weight: 0.14497253380175384\n",
      "ItemKNN weight: 0.08896606031328987\n",
      "EvaluatorHoldout: Processed 34742 (100.0%) in 13.74 sec. Users per second: 2529\n",
      "EvaluatorHoldout: Processed 35171 (100.0%) in 14.68 sec. Users per second: 2396\n"
     ]
    },
    {
     "name": "stderr",
     "output_type": "stream",
     "text": [
      "[I 2024-12-09 20:02:46,760] Trial 356 finished with value: 0.03089424035497871 and parameters: {'x_0': 0.17290401457377458, 'x_1': 0.7173963701852034, 'x_2': 0.8156108062979218}. Best is trial 214 with value: 0.030926377478244674.\n"
     ]
    },
    {
     "name": "stdout",
     "output_type": "stream",
     "text": [
      "__________Iteration 357______________\n",
      "SLIM weight: 0.6915264843379499\n",
      "RP3b weight: 0.22663596646978637\n",
      "ItemKNN weight: 0.08183754919226387\n",
      "EvaluatorHoldout: Processed 34742 (100.0%) in 13.53 sec. Users per second: 2568\n",
      "EvaluatorHoldout: Processed 35171 (100.0%) in 14.52 sec. Users per second: 2423\n"
     ]
    },
    {
     "name": "stderr",
     "output_type": "stream",
     "text": [
      "[I 2024-12-09 20:03:14,904] Trial 357 finished with value: 0.030889380266142328 and parameters: {'x_0': 0.21344929395432222, 'x_1': 0.6028202429112279, 'x_2': 0.8329645175945941}. Best is trial 214 with value: 0.030926377478244674.\n"
     ]
    },
    {
     "name": "stdout",
     "output_type": "stream",
     "text": [
      "__________Iteration 358______________\n",
      "SLIM weight: 0.7161520950538859\n",
      "RP3b weight: 0.179746970892634\n",
      "ItemKNN weight: 0.10410093405347992\n",
      "EvaluatorHoldout: Processed 34742 (100.0%) in 13.84 sec. Users per second: 2510\n",
      "EvaluatorHoldout: Processed 35171 (100.0%) in 14.95 sec. Users per second: 2353\n"
     ]
    },
    {
     "name": "stderr",
     "output_type": "stream",
     "text": [
      "[I 2024-12-09 20:03:43,794] Trial 358 finished with value: 0.030901897707636326 and parameters: {'x_0': 0.1939217967108533, 'x_1': 0.6625237481289866, 'x_2': 0.7878587206660095}. Best is trial 214 with value: 0.030926377478244674.\n"
     ]
    },
    {
     "name": "stdout",
     "output_type": "stream",
     "text": [
      "__________Iteration 359______________\n",
      "SLIM weight: 0.7317575835355967\n",
      "RP3b weight: 0.1523246375839855\n",
      "ItemKNN weight: 0.11591777888041765\n",
      "EvaluatorHoldout: Processed 34742 (100.0%) in 13.65 sec. Users per second: 2545\n",
      "EvaluatorHoldout: Processed 35171 (100.0%) in 15.33 sec. Users per second: 2295\n"
     ]
    },
    {
     "name": "stderr",
     "output_type": "stream",
     "text": [
      "[I 2024-12-09 20:04:12,875] Trial 359 finished with value: 0.030871811987319746 and parameters: {'x_0': 0.16394623363603417, 'x_1': 0.6863254899743958, 'x_2': 0.7509323106371986}. Best is trial 214 with value: 0.030926377478244674.\n"
     ]
    },
    {
     "name": "stdout",
     "output_type": "stream",
     "text": [
      "__________Iteration 360______________\n",
      "SLIM weight: 0.7641535611757218\n",
      "RP3b weight: 0.18296546036427375\n",
      "ItemKNN weight: 0.05288097846000459\n",
      "EvaluatorHoldout: Processed 34742 (100.0%) in 13.82 sec. Users per second: 2514\n",
      "EvaluatorHoldout: Processed 35171 (100.0%) in 14.99 sec. Users per second: 2346\n"
     ]
    },
    {
     "name": "stderr",
     "output_type": "stream",
     "text": [
      "[I 2024-12-09 20:04:41,807] Trial 360 finished with value: 0.03087771148410926 and parameters: {'x_0': 0.14410013187408172, 'x_1': 0.6288606458089141, 'x_2': 0.8745363512092447}. Best is trial 214 with value: 0.030926377478244674.\n"
     ]
    },
    {
     "name": "stdout",
     "output_type": "stream",
     "text": [
      "__________Iteration 361______________\n",
      "SLIM weight: 0.6588584672377837\n",
      "RP3b weight: 0.21269354989892936\n",
      "ItemKNN weight: 0.12844798286328682\n",
      "EvaluatorHoldout: Processed 34742 (100.0%) in 13.82 sec. Users per second: 2514\n",
      "EvaluatorHoldout: Processed 35171 (100.0%) in 15.20 sec. Users per second: 2313\n"
     ]
    },
    {
     "name": "stderr",
     "output_type": "stream",
     "text": [
      "[I 2024-12-09 20:05:10,926] Trial 361 finished with value: 0.030824581746807567 and parameters: {'x_0': 0.3418877142644634, 'x_1': 0.7071762417093971, 'x_2': 0.8112002834172632}. Best is trial 214 with value: 0.030926377478244674.\n"
     ]
    },
    {
     "name": "stdout",
     "output_type": "stream",
     "text": [
      "__________Iteration 362______________\n",
      "SLIM weight: 0.75484912654756\n",
      "RP3b weight: 0.1751382502964605\n",
      "ItemKNN weight: 0.07001262315597952\n",
      "EvaluatorHoldout: Processed 34742 (100.0%) in 13.97 sec. Users per second: 2488\n",
      "EvaluatorHoldout: Processed 35171 (100.0%) in 14.94 sec. Users per second: 2355\n"
     ]
    },
    {
     "name": "stderr",
     "output_type": "stream",
     "text": [
      "[I 2024-12-09 20:05:39,931] Trial 362 finished with value: 0.030905543630918412 and parameters: {'x_0': 0.1767003532558302, 'x_1': 0.6688763870986512, 'x_2': 0.8514926525729852}. Best is trial 214 with value: 0.030926377478244674.\n"
     ]
    },
    {
     "name": "stdout",
     "output_type": "stream",
     "text": [
      "__________Iteration 363______________\n",
      "SLIM weight: 0.8041381764090185\n",
      "RP3b weight: 0.12477675266971448\n",
      "ItemKNN weight: 0.07108507092126698\n",
      "EvaluatorHoldout: Processed 34742 (100.0%) in 13.64 sec. Users per second: 2547\n",
      "EvaluatorHoldout: Processed 35171 (100.0%) in 14.42 sec. Users per second: 2438\n"
     ]
    },
    {
     "name": "stderr",
     "output_type": "stream",
     "text": [
      "[I 2024-12-09 20:06:08,097] Trial 363 finished with value: 0.030895492213348752 and parameters: {'x_0': 0.1266446018490019, 'x_1': 0.7256879345424582, 'x_2': 0.8330469773796704}. Best is trial 214 with value: 0.030926377478244674.\n"
     ]
    },
    {
     "name": "stdout",
     "output_type": "stream",
     "text": [
      "__________Iteration 364______________\n",
      "SLIM weight: 0.7254018552629345\n",
      "RP3b weight: 0.17509885842801085\n",
      "ItemKNN weight: 0.09949928630905476\n",
      "EvaluatorHoldout: Processed 34742 (100.0%) in 13.72 sec. Users per second: 2532\n",
      "EvaluatorHoldout: Processed 35171 (100.0%) in 14.90 sec. Users per second: 2360\n"
     ]
    },
    {
     "name": "stderr",
     "output_type": "stream",
     "text": [
      "[I 2024-12-09 20:06:36,819] Trial 364 finished with value: 0.03089506845472166 and parameters: {'x_0': 0.20340804643307336, 'x_1': 0.68085182132797, 'x_2': 0.8037717761167212}. Best is trial 214 with value: 0.030926377478244674.\n"
     ]
    },
    {
     "name": "stdout",
     "output_type": "stream",
     "text": [
      "__________Iteration 365______________\n",
      "SLIM weight: 0.7154688906164166\n",
      "RP3b weight: 0.21326463411252694\n",
      "ItemKNN weight: 0.0712664752710564\n",
      "EvaluatorHoldout: Processed 34742 (100.0%) in 13.70 sec. Users per second: 2537\n",
      "EvaluatorHoldout: Processed 35171 (100.0%) in 14.94 sec. Users per second: 2353\n"
     ]
    },
    {
     "name": "stderr",
     "output_type": "stream",
     "text": [
      "[I 2024-12-09 20:07:05,562] Trial 365 finished with value: 0.030864212887195718 and parameters: {'x_0': 0.23142300266977597, 'x_1': 0.6464640357268912, 'x_2': 0.8643502473805997}. Best is trial 214 with value: 0.030926377478244674.\n"
     ]
    },
    {
     "name": "stdout",
     "output_type": "stream",
     "text": [
      "__________Iteration 366______________\n",
      "SLIM weight: 0.7506569940611099\n",
      "RP3b weight: 0.14424205292348855\n",
      "ItemKNN weight: 0.10510095301540158\n",
      "EvaluatorHoldout: Processed 34742 (100.0%) in 13.87 sec. Users per second: 2505\n",
      "EvaluatorHoldout: Processed 35171 (100.0%) in 14.80 sec. Users per second: 2377\n"
     ]
    },
    {
     "name": "stderr",
     "output_type": "stream",
     "text": [
      "[I 2024-12-09 20:07:34,335] Trial 366 finished with value: 0.030894180960238535 and parameters: {'x_0': 0.1554456894360723, 'x_1': 0.6992915456032289, 'x_2': 0.7705686769374614}. Best is trial 214 with value: 0.030926377478244674.\n"
     ]
    },
    {
     "name": "stdout",
     "output_type": "stream",
     "text": [
      "__________Iteration 367______________\n",
      "SLIM weight: 0.7367890194347612\n",
      "RP3b weight: 0.17807208406762157\n",
      "ItemKNN weight: 0.08513889649761741\n",
      "EvaluatorHoldout: Processed 34742 (100.0%) in 13.80 sec. Users per second: 2518\n",
      "EvaluatorHoldout: Processed 35171 (100.0%) in 14.94 sec. Users per second: 2355\n"
     ]
    },
    {
     "name": "stderr",
     "output_type": "stream",
     "text": [
      "[I 2024-12-09 20:08:03,175] Trial 367 finished with value: 0.030899652129574687 and parameters: {'x_0': 0.18494745933830511, 'x_1': 0.6650516292417101, 'x_2': 0.8228194120191044}. Best is trial 214 with value: 0.030926377478244674.\n"
     ]
    },
    {
     "name": "stdout",
     "output_type": "stream",
     "text": [
      "__________Iteration 368______________\n",
      "SLIM weight: 0.8092615461619307\n",
      "RP3b weight: 0.12490543047620906\n",
      "ItemKNN weight: 0.06583302336186034\n",
      "EvaluatorHoldout: Processed 34742 (100.0%) in 14.04 sec. Users per second: 2474\n",
      "EvaluatorHoldout: Processed 35171 (100.0%) in 15.49 sec. Users per second: 2271\n"
     ]
    },
    {
     "name": "stderr",
     "output_type": "stream",
     "text": [
      "[I 2024-12-09 20:08:32,823] Trial 368 finished with value: 0.030888879979677056 and parameters: {'x_0': 0.12140257547498229, 'x_1': 0.7221962079694316, 'x_2': 0.842369039134557}. Best is trial 214 with value: 0.030926377478244674.\n"
     ]
    },
    {
     "name": "stdout",
     "output_type": "stream",
     "text": [
      "__________Iteration 369______________\n",
      "SLIM weight: 0.75072098226013\n",
      "RP3b weight: 0.15456671027039526\n",
      "ItemKNN weight: 0.09471230746947484\n",
      "EvaluatorHoldout: Processed 34742 (100.0%) in 14.31 sec. Users per second: 2428\n",
      "EvaluatorHoldout: Processed 35171 (100.0%) in 15.29 sec. Users per second: 2300\n"
     ]
    },
    {
     "name": "stderr",
     "output_type": "stream",
     "text": [
      "[I 2024-12-09 20:09:02,532] Trial 369 finished with value: 0.030912419714301354 and parameters: {'x_0': 0.16539246750549141, 'x_1': 0.6903978086823732, 'x_2': 0.796904979341946}. Best is trial 214 with value: 0.030926377478244674.\n"
     ]
    },
    {
     "name": "stdout",
     "output_type": "stream",
     "text": [
      "__________Iteration 370______________\n",
      "SLIM weight: 0.7362117193960537\n",
      "RP3b weight: 0.17258083397422808\n",
      "ItemKNN weight: 0.09120744662971819\n",
      "EvaluatorHoldout: Processed 34742 (100.0%) in 14.46 sec. Users per second: 2402\n",
      "EvaluatorHoldout: Processed 35171 (100.0%) in 15.54 sec. Users per second: 2263\n"
     ]
    },
    {
     "name": "stderr",
     "output_type": "stream",
     "text": [
      "[I 2024-12-09 20:09:32,648] Trial 370 finished with value: 0.030898940534899014 and parameters: {'x_0': 0.15121028154310598, 'x_1': 0.6422137357734226, 'x_2': 0.7913349767307302}. Best is trial 214 with value: 0.030926377478244674.\n"
     ]
    },
    {
     "name": "stdout",
     "output_type": "stream",
     "text": [
      "__________Iteration 371______________\n",
      "SLIM weight: 0.7168139814412917\n",
      "RP3b weight: 0.16944552458391382\n",
      "ItemKNN weight: 0.11374049397479437\n",
      "EvaluatorHoldout: Processed 34742 (100.0%) in 14.19 sec. Users per second: 2448\n",
      "EvaluatorHoldout: Processed 35171 (100.0%) in 15.24 sec. Users per second: 2308\n"
     ]
    },
    {
     "name": "stderr",
     "output_type": "stream",
     "text": [
      "[I 2024-12-09 20:10:02,191] Trial 371 finished with value: 0.030888421954853685 and parameters: {'x_0': 0.2039273421132927, 'x_1': 0.6867030210403157, 'x_2': 0.7770178295141615}. Best is trial 214 with value: 0.030926377478244674.\n"
     ]
    },
    {
     "name": "stdout",
     "output_type": "stream",
     "text": [
      "__________Iteration 372______________\n",
      "SLIM weight: 0.6976948068016413\n",
      "RP3b weight: 0.21377204163089997\n",
      "ItemKNN weight: 0.08853315156745864\n",
      "EvaluatorHoldout: Processed 34742 (100.0%) in 13.67 sec. Users per second: 2542\n",
      "EvaluatorHoldout: Processed 35171 (100.0%) in 14.68 sec. Users per second: 2395\n"
     ]
    },
    {
     "name": "stderr",
     "output_type": "stream",
     "text": [
      "[I 2024-12-09 20:10:30,646] Trial 372 finished with value: 0.030880875396230516 and parameters: {'x_0': 0.17818159168805509, 'x_1': 0.5894760178281386, 'x_2': 0.8034135120420223}. Best is trial 214 with value: 0.030926377478244674.\n"
     ]
    },
    {
     "name": "stdout",
     "output_type": "stream",
     "text": [
      "__________Iteration 373______________\n",
      "SLIM weight: 0.7276590662199045\n",
      "RP3b weight: 0.20720985644098255\n",
      "ItemKNN weight: 0.06513107733911301\n",
      "EvaluatorHoldout: Processed 34742 (100.0%) in 13.71 sec. Users per second: 2534\n",
      "EvaluatorHoldout: Processed 35171 (100.0%) in 14.87 sec. Users per second: 2365\n"
     ]
    },
    {
     "name": "stderr",
     "output_type": "stream",
     "text": [
      "[I 2024-12-09 20:10:59,331] Trial 373 finished with value: 0.030842446999331145 and parameters: {'x_0': 0.24177340043516887, 'x_1': 0.6674488706134781, 'x_2': 0.8806641650239664}. Best is trial 214 with value: 0.030926377478244674.\n"
     ]
    },
    {
     "name": "stdout",
     "output_type": "stream",
     "text": [
      "__________Iteration 374______________\n",
      "SLIM weight: 0.7263169065286218\n",
      "RP3b weight: 0.17210275410340095\n",
      "ItemKNN weight: 0.10158033936797715\n",
      "EvaluatorHoldout: Processed 34742 (100.0%) in 13.65 sec. Users per second: 2546\n",
      "EvaluatorHoldout: Processed 35171 (100.0%) in 14.56 sec. Users per second: 2416\n"
     ]
    },
    {
     "name": "stderr",
     "output_type": "stream",
     "text": [
      "[I 2024-12-09 20:11:27,635] Trial 374 finished with value: 0.030891198658957324 and parameters: {'x_0': 0.1393984188771077, 'x_1': 0.6269452035083289, 'x_2': 0.7591343851232343}. Best is trial 214 with value: 0.030926377478244674.\n"
     ]
    },
    {
     "name": "stdout",
     "output_type": "stream",
     "text": [
      "__________Iteration 375______________\n",
      "SLIM weight: 0.7527767919554985\n",
      "RP3b weight: 0.16749980835601172\n",
      "ItemKNN weight: 0.07972339968848972\n",
      "EvaluatorHoldout: Processed 34742 (100.0%) in 13.94 sec. Users per second: 2493\n",
      "EvaluatorHoldout: Processed 35171 (100.0%) in 14.95 sec. Users per second: 2353\n"
     ]
    },
    {
     "name": "stderr",
     "output_type": "stream",
     "text": [
      "[I 2024-12-09 20:11:56,627] Trial 375 finished with value: 0.030911367742076108 and parameters: {'x_0': 0.2153758282599292, 'x_1': 0.7106080906737389, 'x_2': 0.849927176521337}. Best is trial 214 with value: 0.030926377478244674.\n"
     ]
    },
    {
     "name": "stdout",
     "output_type": "stream",
     "text": [
      "__________Iteration 376______________\n",
      "SLIM weight: 0.7735057573838825\n",
      "RP3b weight: 0.1730149621920678\n",
      "ItemKNN weight: 0.053479280424049876\n",
      "EvaluatorHoldout: Processed 34742 (100.0%) in 14.10 sec. Users per second: 2464\n",
      "EvaluatorHoldout: Processed 35171 (100.0%) in 15.20 sec. Users per second: 2314\n"
     ]
    },
    {
     "name": "stderr",
     "output_type": "stream",
     "text": [
      "[I 2024-12-09 20:12:26,034] Trial 376 finished with value: 0.030873246598736543 and parameters: {'x_0': 0.2661722918840893, 'x_1': 0.7437423471015068, 'x_2': 0.9125495043828432}. Best is trial 214 with value: 0.030926377478244674.\n"
     ]
    },
    {
     "name": "stdout",
     "output_type": "stream",
     "text": [
      "__________Iteration 377______________\n",
      "SLIM weight: 0.30125874471089087\n",
      "RP3b weight: 0.06803349678395054\n",
      "ItemKNN weight: 0.6307077585051586\n",
      "EvaluatorHoldout: Processed 34742 (100.0%) in 13.83 sec. Users per second: 2513\n",
      "EvaluatorHoldout: Processed 35171 (100.0%) in 15.00 sec. Users per second: 2345\n"
     ]
    },
    {
     "name": "stderr",
     "output_type": "stream",
     "text": [
      "[I 2024-12-09 20:12:54,967] Trial 377 finished with value: 0.02876799889068817 and parameters: {'x_0': 0.21681820496407406, 'x_1': 0.708059876976832, 'x_2': 0.040744283782374935}. Best is trial 214 with value: 0.030926377478244674.\n"
     ]
    },
    {
     "name": "stdout",
     "output_type": "stream",
     "text": [
      "__________Iteration 378______________\n",
      "SLIM weight: 0.7617768357895605\n",
      "RP3b weight: 0.16097171383512304\n",
      "ItemKNN weight: 0.07725145037531654\n",
      "EvaluatorHoldout: Processed 34742 (100.0%) in 13.84 sec. Users per second: 2511\n",
      "EvaluatorHoldout: Processed 35171 (100.0%) in 14.72 sec. Users per second: 2389\n"
     ]
    },
    {
     "name": "stderr",
     "output_type": "stream",
     "text": [
      "[I 2024-12-09 20:13:23,623] Trial 378 finished with value: 0.030903170125724102 and parameters: {'x_0': 0.22113323856356165, 'x_1': 0.7269730020424063, 'x_2': 0.8581074175295842}. Best is trial 214 with value: 0.030926377478244674.\n"
     ]
    },
    {
     "name": "stdout",
     "output_type": "stream",
     "text": [
      "__________Iteration 379______________\n",
      "SLIM weight: 0.5076537489187574\n",
      "RP3b weight: 0.4144207839526858\n",
      "ItemKNN weight: 0.07792546712855694\n",
      "EvaluatorHoldout: Processed 34742 (100.0%) in 13.71 sec. Users per second: 2533\n",
      "EvaluatorHoldout: Processed 35171 (100.0%) in 14.64 sec. Users per second: 2402\n"
     ]
    },
    {
     "name": "stderr",
     "output_type": "stream",
     "text": [
      "[I 2024-12-09 20:13:52,073] Trial 379 finished with value: 0.030623046255708945 and parameters: {'x_0': 0.4703409168981386, 'x_1': 0.5402262422517339, 'x_2': 0.890666178291912}. Best is trial 214 with value: 0.030926377478244674.\n"
     ]
    },
    {
     "name": "stdout",
     "output_type": "stream",
     "text": [
      "__________Iteration 380______________\n",
      "SLIM weight: 0.7543383455691643\n",
      "RP3b weight: 0.16708939519140256\n",
      "ItemKNN weight: 0.07857225923943308\n",
      "EvaluatorHoldout: Processed 34742 (100.0%) in 13.81 sec. Users per second: 2516\n",
      "EvaluatorHoldout: Processed 35171 (100.0%) in 15.02 sec. Users per second: 2341\n"
     ]
    },
    {
     "name": "stderr",
     "output_type": "stream",
     "text": [
      "[I 2024-12-09 20:14:21,009] Trial 380 finished with value: 0.03090428377710257 and parameters: {'x_0': 0.2005156064774401, 'x_1': 0.7005233707472107, 'x_2': 0.8458851593229733}. Best is trial 214 with value: 0.030926377478244674.\n"
     ]
    },
    {
     "name": "stdout",
     "output_type": "stream",
     "text": [
      "__________Iteration 381______________\n",
      "SLIM weight: 0.7624495137641909\n",
      "RP3b weight: 0.16098749614058352\n",
      "ItemKNN weight: 0.07656299009522566\n",
      "EvaluatorHoldout: Processed 34742 (100.0%) in 14.05 sec. Users per second: 2474\n",
      "EvaluatorHoldout: Processed 35171 (100.0%) in 15.45 sec. Users per second: 2277\n"
     ]
    },
    {
     "name": "stderr",
     "output_type": "stream",
     "text": [
      "[I 2024-12-09 20:14:50,610] Trial 381 finished with value: 0.03089855789570746 and parameters: {'x_0': 0.2456737006178078, 'x_1': 0.7434935514261204, 'x_2': 0.8685234894652853}. Best is trial 214 with value: 0.030926377478244674.\n"
     ]
    },
    {
     "name": "stdout",
     "output_type": "stream",
     "text": [
      "__________Iteration 382______________\n",
      "SLIM weight: 0.749952052331347\n",
      "RP3b weight: 0.1719138862979497\n",
      "ItemKNN weight: 0.07813406137070338\n",
      "EvaluatorHoldout: Processed 34742 (100.0%) in 13.94 sec. Users per second: 2491\n",
      "EvaluatorHoldout: Processed 35171 (100.0%) in 15.18 sec. Users per second: 2316\n"
     ]
    },
    {
     "name": "stderr",
     "output_type": "stream",
     "text": [
      "[I 2024-12-09 20:15:19,844] Trial 382 finished with value: 0.0309085944645921 and parameters: {'x_0': 0.19388087770541396, 'x_1': 0.6865614023982133, 'x_2': 0.8428912396193439}. Best is trial 214 with value: 0.030926377478244674.\n"
     ]
    },
    {
     "name": "stdout",
     "output_type": "stream",
     "text": [
      "__________Iteration 383______________\n",
      "SLIM weight: 0.8045264668497113\n",
      "RP3b weight: 0.16307840222591036\n",
      "ItemKNN weight: 0.03239513092437832\n",
      "EvaluatorHoldout: Processed 34742 (100.0%) in 13.64 sec. Users per second: 2546\n",
      "EvaluatorHoldout: Processed 35171 (100.0%) in 14.92 sec. Users per second: 2358\n"
     ]
    },
    {
     "name": "stderr",
     "output_type": "stream",
     "text": [
      "[I 2024-12-09 20:15:48,510] Trial 383 finished with value: 0.030879051292383063 and parameters: {'x_0': 0.1829662526855031, 'x_1': 0.708731583372011, 'x_2': 0.9338961131469125}. Best is trial 214 with value: 0.030926377478244674.\n"
     ]
    },
    {
     "name": "stdout",
     "output_type": "stream",
     "text": [
      "__________Iteration 384______________\n",
      "SLIM weight: 0.5730505362251733\n",
      "RP3b weight: 0.3595337756991381\n",
      "ItemKNN weight: 0.06741568807568861\n",
      "EvaluatorHoldout: Processed 34742 (100.0%) in 13.72 sec. Users per second: 2533\n",
      "EvaluatorHoldout: Processed 35171 (100.0%) in 15.15 sec. Users per second: 2322\n"
     ]
    },
    {
     "name": "stderr",
     "output_type": "stream",
     "text": [
      "[I 2024-12-09 20:16:17,481] Trial 384 finished with value: 0.03074401163954068 and parameters: {'x_0': 0.1685915505792066, 'x_1': 0.3272760779845412, 'x_2': 0.8110399267586176}. Best is trial 214 with value: 0.030926377478244674.\n"
     ]
    },
    {
     "name": "stdout",
     "output_type": "stream",
     "text": [
      "__________Iteration 385______________\n",
      "SLIM weight: 0.7130107481357373\n",
      "RP3b weight: 0.19890746857223116\n",
      "ItemKNN weight: 0.08808178329203158\n",
      "EvaluatorHoldout: Processed 34742 (100.0%) in 13.90 sec. Users per second: 2500\n",
      "EvaluatorHoldout: Processed 35171 (100.0%) in 14.98 sec. Users per second: 2347\n"
     ]
    },
    {
     "name": "stderr",
     "output_type": "stream",
     "text": [
      "[I 2024-12-09 20:16:46,469] Trial 385 finished with value: 0.030887600708349942 and parameters: {'x_0': 0.21275043714298578, 'x_1': 0.6493772908880576, 'x_2': 0.8259779941446609}. Best is trial 214 with value: 0.030926377478244674.\n"
     ]
    },
    {
     "name": "stdout",
     "output_type": "stream",
     "text": [
      "__________Iteration 386______________\n",
      "SLIM weight: 0.7534965243808595\n",
      "RP3b weight: 0.1682510317492413\n",
      "ItemKNN weight: 0.07825244386989928\n",
      "EvaluatorHoldout: Processed 34742 (100.0%) in 14.11 sec. Users per second: 2463\n",
      "EvaluatorHoldout: Processed 35171 (100.0%) in 15.08 sec. Users per second: 2332\n"
     ]
    },
    {
     "name": "stderr",
     "output_type": "stream",
     "text": [
      "[I 2024-12-09 20:17:15,764] Trial 386 finished with value: 0.030901152988970906 and parameters: {'x_0': 0.22740017653566424, 'x_1': 0.7184150688399534, 'x_2': 0.8574349114463294}. Best is trial 214 with value: 0.030926377478244674.\n"
     ]
    },
    {
     "name": "stdout",
     "output_type": "stream",
     "text": [
      "__________Iteration 387______________\n",
      "SLIM weight: 0.7316984367452882\n",
      "RP3b weight: 0.16757111590342497\n",
      "ItemKNN weight: 0.10073044735128688\n",
      "EvaluatorHoldout: Processed 34742 (100.0%) in 13.87 sec. Users per second: 2504\n",
      "EvaluatorHoldout: Processed 35171 (100.0%) in 15.55 sec. Users per second: 2262\n"
     ]
    },
    {
     "name": "stderr",
     "output_type": "stream",
     "text": [
      "[I 2024-12-09 20:17:45,306] Trial 387 finished with value: 0.03090764300654266 and parameters: {'x_0': 0.19142061620902015, 'x_1': 0.6847995533609741, 'x_2': 0.7964413792926096}. Best is trial 214 with value: 0.030926377478244674.\n"
     ]
    },
    {
     "name": "stdout",
     "output_type": "stream",
     "text": [
      "__________Iteration 388______________\n",
      "SLIM weight: 0.10353595608712783\n",
      "RP3b weight: 0.721352012660693\n",
      "ItemKNN weight: 0.1751120312521792\n",
      "EvaluatorHoldout: Processed 34742 (100.0%) in 13.90 sec. Users per second: 2500\n",
      "EvaluatorHoldout: Processed 35171 (100.0%) in 15.46 sec. Users per second: 2276\n"
     ]
    },
    {
     "name": "stderr",
     "output_type": "stream",
     "text": [
      "[I 2024-12-09 20:18:14,770] Trial 388 finished with value: 0.029259838738710825 and parameters: {'x_0': 0.9323710701625105, 'x_1': 0.6139317619122219, 'x_2': 0.8883109790873086}. Best is trial 214 with value: 0.030926377478244674.\n"
     ]
    },
    {
     "name": "stdout",
     "output_type": "stream",
     "text": [
      "__________Iteration 389______________\n",
      "SLIM weight: 0.3079871307344218\n",
      "RP3b weight: 0.45446559680814286\n",
      "ItemKNN weight: 0.23754727245743534\n",
      "EvaluatorHoldout: Processed 34742 (100.0%) in 14.32 sec. Users per second: 2425\n",
      "EvaluatorHoldout: Processed 35171 (100.0%) in 15.49 sec. Users per second: 2271\n"
     ]
    },
    {
     "name": "stderr",
     "output_type": "stream",
     "text": [
      "[I 2024-12-09 20:18:44,692] Trial 389 finished with value: 0.03013686489889562 and parameters: {'x_0': 0.16564628576762597, 'x_1': 0.07044092668083379, 'x_2': 0.24989810535182244}. Best is trial 214 with value: 0.030926377478244674.\n"
     ]
    },
    {
     "name": "stdout",
     "output_type": "stream",
     "text": [
      "__________Iteration 390______________\n",
      "SLIM weight: 0.8183183758148921\n",
      "RP3b weight: 0.1156666719455525\n",
      "ItemKNN weight: 0.06601495223955534\n",
      "EvaluatorHoldout: Processed 34742 (100.0%) in 14.15 sec. Users per second: 2455\n",
      "EvaluatorHoldout: Processed 35171 (100.0%) in 14.62 sec. Users per second: 2406\n"
     ]
    },
    {
     "name": "stderr",
     "output_type": "stream",
     "text": [
      "[I 2024-12-09 20:19:13,571] Trial 390 finished with value: 0.030879585845044716 and parameters: {'x_0': 0.10966182843841336, 'x_1': 0.7316694605602388, 'x_2': 0.8366809054341053}. Best is trial 214 with value: 0.030926377478244674.\n"
     ]
    },
    {
     "name": "stdout",
     "output_type": "stream",
     "text": [
      "__________Iteration 391______________\n",
      "SLIM weight: 0.8143592378244958\n",
      "RP3b weight: 0.17098518040291627\n",
      "ItemKNN weight: 0.014655581772587942\n",
      "EvaluatorHoldout: Processed 34742 (100.0%) in 13.67 sec. Users per second: 2542\n",
      "EvaluatorHoldout: Processed 35171 (100.0%) in 15.30 sec. Users per second: 2299\n"
     ]
    },
    {
     "name": "stderr",
     "output_type": "stream",
     "text": [
      "[I 2024-12-09 20:19:42,638] Trial 391 finished with value: 0.030850291673861798 and parameters: {'x_0': 0.13645651196593456, 'x_1': 0.6582349487300957, 'x_2': 0.9647903716762299}. Best is trial 214 with value: 0.030926377478244674.\n"
     ]
    },
    {
     "name": "stdout",
     "output_type": "stream",
     "text": [
      "__________Iteration 392______________\n",
      "SLIM weight: 0.7498579096606117\n",
      "RP3b weight: 0.1319857163527552\n",
      "ItemKNN weight: 0.11815637398663319\n",
      "EvaluatorHoldout: Processed 34742 (100.0%) in 14.02 sec. Users per second: 2478\n",
      "EvaluatorHoldout: Processed 35171 (100.0%) in 15.11 sec. Users per second: 2327\n"
     ]
    },
    {
     "name": "stderr",
     "output_type": "stream",
     "text": [
      "[I 2024-12-09 20:20:11,873] Trial 392 finished with value: 0.03085427911689992 and parameters: {'x_0': 0.2032246180086517, 'x_1': 0.7554294898731193, 'x_2': 0.7779589157310058}. Best is trial 214 with value: 0.030926377478244674.\n"
     ]
    },
    {
     "name": "stdout",
     "output_type": "stream",
     "text": [
      "__________Iteration 393______________\n",
      "SLIM weight: 0.7451955973721153\n",
      "RP3b weight: 0.16505393163814117\n",
      "ItemKNN weight: 0.0897504709897434\n",
      "EvaluatorHoldout: Processed 34742 (100.0%) in 13.83 sec. Users per second: 2511\n",
      "EvaluatorHoldout: Processed 35171 (100.0%) in 14.48 sec. Users per second: 2429\n"
     ]
    },
    {
     "name": "stderr",
     "output_type": "stream",
     "text": [
      "[I 2024-12-09 20:20:40,293] Trial 393 finished with value: 0.03092865275367636 and parameters: {'x_0': 0.1791401051217927, 'x_1': 0.6832649119723454, 'x_2': 0.812934270859389}. Best is trial 393 with value: 0.03092865275367636.\n"
     ]
    },
    {
     "name": "stdout",
     "output_type": "stream",
     "text": [
      "__________Iteration 394______________\n",
      "SLIM weight: 0.7054786627046041\n",
      "RP3b weight: 0.180869688804666\n",
      "ItemKNN weight: 0.11365164849073002\n",
      "EvaluatorHoldout: Processed 34742 (100.0%) in 13.42 sec. Users per second: 2588\n",
      "EvaluatorHoldout: Processed 35171 (100.0%) in 14.60 sec. Users per second: 2410\n"
     ]
    },
    {
     "name": "stderr",
     "output_type": "stream",
     "text": [
      "[I 2024-12-09 20:21:08,415] Trial 394 finished with value: 0.030898676685187868 and parameters: {'x_0': 0.24233272617937957, 'x_1': 0.6953066421502297, 'x_2': 0.7958470767415157}. Best is trial 393 with value: 0.03092865275367636.\n"
     ]
    },
    {
     "name": "stdout",
     "output_type": "stream",
     "text": [
      "__________Iteration 395______________\n",
      "SLIM weight: 0.5213858147008636\n",
      "RP3b weight: 0.12165638945182632\n",
      "ItemKNN weight: 0.35695779584730997\n",
      "EvaluatorHoldout: Processed 34742 (100.0%) in 13.79 sec. Users per second: 2520\n",
      "EvaluatorHoldout: Processed 35171 (100.0%) in 15.18 sec. Users per second: 2317\n"
     ]
    },
    {
     "name": "stderr",
     "output_type": "stream",
     "text": [
      "[I 2024-12-09 20:21:37,480] Trial 395 finished with value: 0.03023192846497395 and parameters: {'x_0': 0.18886052494047317, 'x_1': 0.6777976035201497, 'x_2': 0.31946447103463044}. Best is trial 393 with value: 0.03092865275367636.\n"
     ]
    },
    {
     "name": "stdout",
     "output_type": "stream",
     "text": [
      "__________Iteration 396______________\n",
      "SLIM weight: 0.7085427618513246\n",
      "RP3b weight: 0.1574675175818003\n",
      "ItemKNN weight: 0.13398972056687514\n",
      "EvaluatorHoldout: Processed 34742 (100.0%) in 13.70 sec. Users per second: 2535\n",
      "EvaluatorHoldout: Processed 35171 (100.0%) in 15.22 sec. Users per second: 2311\n"
     ]
    },
    {
     "name": "stderr",
     "output_type": "stream",
     "text": [
      "[I 2024-12-09 20:22:06,501] Trial 396 finished with value: 0.030872432205472117 and parameters: {'x_0': 0.21595725332906382, 'x_1': 0.711326492247568, 'x_2': 0.7483847431691759}. Best is trial 393 with value: 0.03092865275367636.\n"
     ]
    },
    {
     "name": "stdout",
     "output_type": "stream",
     "text": [
      "__________Iteration 397______________\n",
      "SLIM weight: 0.7856041405360652\n",
      "RP3b weight: 0.14891887432381076\n",
      "ItemKNN weight: 0.06547698514012407\n",
      "EvaluatorHoldout: Processed 34742 (100.0%) in 13.91 sec. Users per second: 2498\n",
      "EvaluatorHoldout: Processed 35171 (100.0%) in 14.95 sec. Users per second: 2353\n"
     ]
    },
    {
     "name": "stderr",
     "output_type": "stream",
     "text": [
      "[I 2024-12-09 20:22:35,473] Trial 397 finished with value: 0.030894692668769336 and parameters: {'x_0': 0.18003289613829926, 'x_1': 0.7225114496997596, 'x_2': 0.8668351938053136}. Best is trial 393 with value: 0.03092865275367636.\n"
     ]
    },
    {
     "name": "stdout",
     "output_type": "stream",
     "text": [
      "__________Iteration 398______________\n",
      "SLIM weight: 0.7717332364840798\n",
      "RP3b weight: 0.1547928067479527\n",
      "ItemKNN weight: 0.07347395676796743\n",
      "EvaluatorHoldout: Processed 34742 (100.0%) in 13.59 sec. Users per second: 2557\n",
      "EvaluatorHoldout: Processed 35171 (100.0%) in 14.61 sec. Users per second: 2408\n"
     ]
    },
    {
     "name": "stderr",
     "output_type": "stream",
     "text": [
      "[I 2024-12-09 20:23:03,768] Trial 398 finished with value: 0.030898001641121532 and parameters: {'x_0': 0.16558237612900395, 'x_1': 0.6971902635515365, 'x_2': 0.8426459373943352}. Best is trial 393 with value: 0.03092865275367636.\n"
     ]
    },
    {
     "name": "stdout",
     "output_type": "stream",
     "text": [
      "__________Iteration 399______________\n",
      "SLIM weight: 0.7238779103188061\n",
      "RP3b weight: 0.1798748955552619\n",
      "ItemKNN weight: 0.096247194125932\n",
      "EvaluatorHoldout: Processed 34742 (100.0%) in 13.58 sec. Users per second: 2559\n",
      "EvaluatorHoldout: Processed 35171 (100.0%) in 15.13 sec. Users per second: 2325\n"
     ]
    },
    {
     "name": "stderr",
     "output_type": "stream",
     "text": [
      "[I 2024-12-09 20:23:32,572] Trial 399 finished with value: 0.030903509361067096 and parameters: {'x_0': 0.20503956170890644, 'x_1': 0.6745280158996138, 'x_2': 0.8100308659718479}. Best is trial 393 with value: 0.03092865275367636.\n"
     ]
    }
   ],
   "source": [
    "study = op.create_study(direction=\"maximize\")\n",
    "study.optimize(objective_function_weight_hybrid,\n",
    "                      callbacks=[],\n",
    "                      n_trials = 400)"
   ]
  },
  {
   "cell_type": "code",
   "execution_count": 119,
   "id": "93a1c6fe-c9f5-471c-adfc-c7d8c86e44c6",
   "metadata": {},
   "outputs": [
    {
     "data": {
      "text/plain": [
       "{'SLIM_w': 0.7380796311636464,\n",
       " 'RP3b_w': 0.21602197286950797,\n",
       " 'ItemKNN_w': 0.04589839596684567,\n",
       " 'MAP_test': 0.04801274656744886}"
      ]
     },
     "execution_count": 119,
     "metadata": {},
     "output_type": "execute_result"
    }
   ],
   "source": [
    "new_best_on_test"
   ]
  },
  {
   "cell_type": "code",
   "execution_count": 120,
   "id": "b6bb27ce-d4d6-42f2-b8e3-dece5b8685e5",
   "metadata": {},
   "outputs": [],
   "source": [
    "results_df=pd.DataFrame(results_dict)\n",
    "results_df.to_csv(\"result_experiments/ensemble_SLIM_RP3_KNNCFR/results_prfo_eval.csv\",sep=',',index=False)"
   ]
  },
  {
   "cell_type": "code",
   "execution_count": 124,
   "id": "bc153cd5-3f93-4d9e-951d-d85b360c5a8f",
   "metadata": {},
   "outputs": [
    {
     "name": "stdout",
     "output_type": "stream",
     "text": [
      "0.7380796311636464\n",
      "0.21602197286950797\n",
      "0.04589839596684567\n"
     ]
    }
   ],
   "source": [
    "print(new_best_on_test['SLIM_w'])\n",
    "print(new_best_on_test['RP3b_w'])\n",
    "print(new_best_on_test['ItemKNN_w'])"
   ]
  },
  {
   "cell_type": "code",
   "execution_count": 70,
   "id": "9265f793-ab18-404f-bd8a-f464a04958ee",
   "metadata": {},
   "outputs": [
    {
     "data": {
      "text/html": [
       "<div>\n",
       "<style scoped>\n",
       "    .dataframe tbody tr th:only-of-type {\n",
       "        vertical-align: middle;\n",
       "    }\n",
       "\n",
       "    .dataframe tbody tr th {\n",
       "        vertical-align: top;\n",
       "    }\n",
       "\n",
       "    .dataframe thead th {\n",
       "        text-align: right;\n",
       "    }\n",
       "</style>\n",
       "<table border=\"1\" class=\"dataframe\">\n",
       "  <thead>\n",
       "    <tr style=\"text-align: right;\">\n",
       "      <th></th>\n",
       "      <th>Iteration</th>\n",
       "      <th>SLIM_w</th>\n",
       "      <th>RP3b_w</th>\n",
       "      <th>ItemKNN_w</th>\n",
       "      <th>MAP_val</th>\n",
       "      <th>MAP_test</th>\n",
       "    </tr>\n",
       "  </thead>\n",
       "  <tbody>\n",
       "    <tr>\n",
       "      <th>267</th>\n",
       "      <td>267</td>\n",
       "      <td>0.000138</td>\n",
       "      <td>0.999847</td>\n",
       "      <td>0.000015</td>\n",
       "      <td>0.128963</td>\n",
       "      <td>0.0</td>\n",
       "    </tr>\n",
       "    <tr>\n",
       "      <th>257</th>\n",
       "      <td>257</td>\n",
       "      <td>0.000048</td>\n",
       "      <td>0.999820</td>\n",
       "      <td>0.000133</td>\n",
       "      <td>0.128963</td>\n",
       "      <td>0.0</td>\n",
       "    </tr>\n",
       "    <tr>\n",
       "      <th>297</th>\n",
       "      <td>297</td>\n",
       "      <td>0.000019</td>\n",
       "      <td>0.999837</td>\n",
       "      <td>0.000144</td>\n",
       "      <td>0.128961</td>\n",
       "      <td>0.0</td>\n",
       "    </tr>\n",
       "    <tr>\n",
       "      <th>260</th>\n",
       "      <td>260</td>\n",
       "      <td>0.000519</td>\n",
       "      <td>0.999391</td>\n",
       "      <td>0.000089</td>\n",
       "      <td>0.128960</td>\n",
       "      <td>0.0</td>\n",
       "    </tr>\n",
       "    <tr>\n",
       "      <th>253</th>\n",
       "      <td>253</td>\n",
       "      <td>0.000198</td>\n",
       "      <td>0.999592</td>\n",
       "      <td>0.000210</td>\n",
       "      <td>0.128958</td>\n",
       "      <td>0.0</td>\n",
       "    </tr>\n",
       "    <tr>\n",
       "      <th>...</th>\n",
       "      <td>...</td>\n",
       "      <td>...</td>\n",
       "      <td>...</td>\n",
       "      <td>...</td>\n",
       "      <td>...</td>\n",
       "      <td>...</td>\n",
       "    </tr>\n",
       "    <tr>\n",
       "      <th>9</th>\n",
       "      <td>9</td>\n",
       "      <td>0.415903</td>\n",
       "      <td>0.133992</td>\n",
       "      <td>0.450105</td>\n",
       "      <td>0.089874</td>\n",
       "      <td>0.0</td>\n",
       "    </tr>\n",
       "    <tr>\n",
       "      <th>1</th>\n",
       "      <td>1</td>\n",
       "      <td>0.752678</td>\n",
       "      <td>0.061503</td>\n",
       "      <td>0.185818</td>\n",
       "      <td>0.089587</td>\n",
       "      <td>0.0</td>\n",
       "    </tr>\n",
       "    <tr>\n",
       "      <th>237</th>\n",
       "      <td>237</td>\n",
       "      <td>0.052045</td>\n",
       "      <td>0.195269</td>\n",
       "      <td>0.752685</td>\n",
       "      <td>0.086758</td>\n",
       "      <td>0.0</td>\n",
       "    </tr>\n",
       "    <tr>\n",
       "      <th>30</th>\n",
       "      <td>30</td>\n",
       "      <td>0.013971</td>\n",
       "      <td>0.168956</td>\n",
       "      <td>0.817073</td>\n",
       "      <td>0.084429</td>\n",
       "      <td>0.0</td>\n",
       "    </tr>\n",
       "    <tr>\n",
       "      <th>90</th>\n",
       "      <td>90</td>\n",
       "      <td>0.058501</td>\n",
       "      <td>0.028829</td>\n",
       "      <td>0.912670</td>\n",
       "      <td>0.077466</td>\n",
       "      <td>0.0</td>\n",
       "    </tr>\n",
       "  </tbody>\n",
       "</table>\n",
       "<p>300 rows × 6 columns</p>\n",
       "</div>"
      ],
      "text/plain": [
       "     Iteration    SLIM_w    RP3b_w  ItemKNN_w   MAP_val  MAP_test\n",
       "267        267  0.000138  0.999847   0.000015  0.128963       0.0\n",
       "257        257  0.000048  0.999820   0.000133  0.128963       0.0\n",
       "297        297  0.000019  0.999837   0.000144  0.128961       0.0\n",
       "260        260  0.000519  0.999391   0.000089  0.128960       0.0\n",
       "253        253  0.000198  0.999592   0.000210  0.128958       0.0\n",
       "..         ...       ...       ...        ...       ...       ...\n",
       "9            9  0.415903  0.133992   0.450105  0.089874       0.0\n",
       "1            1  0.752678  0.061503   0.185818  0.089587       0.0\n",
       "237        237  0.052045  0.195269   0.752685  0.086758       0.0\n",
       "30          30  0.013971  0.168956   0.817073  0.084429       0.0\n",
       "90          90  0.058501  0.028829   0.912670  0.077466       0.0\n",
       "\n",
       "[300 rows x 6 columns]"
      ]
     },
     "execution_count": 70,
     "metadata": {},
     "output_type": "execute_result"
    }
   ],
   "source": [
    "results_df.sort_values('MAP_val', ascending=False)"
   ]
  },
  {
   "cell_type": "code",
   "execution_count": 127,
   "id": "824e0286-8c8d-4398-8705-373def87a948",
   "metadata": {},
   "outputs": [],
   "source": [
    "def write_submission_lib_model(trained_model, filename: str = \"submission.csv\") -> None:\n",
    "\t\"\"\"Builds the submission file from a trained recommender model. The file is saved in a CSV format.\n",
    "\n",
    "\t:param trained_model: A fitted recommender model\n",
    "\t:type trained_model: RecommenderModel\n",
    "\t:param filename: The filename of the submission for this particular recommender model\n",
    "\t:type filename: str\n",
    "\t\"\"\"\n",
    "\ttarget_users_test = pd.read_csv(\"../data/data_target_users_test.csv\",).to_numpy().ravel()\n",
    "\n",
    "\trecommendations = np.array([\n",
    "\t\ttrained_model.recommend(user_id, cutoff=10) for user_id in target_users_test\n",
    "\t])\n",
    "\n",
    "\tif not os.path.exists(\"../submissions\"):\n",
    "\t\tos.makedirs(\"../submissions\")\n",
    "\twith open(f\"../submissions/{filename}\", \"w\") as f:\n",
    "\t\tf.write(\"user_id,item_list\\n\")\n",
    "\t\tfor user_id, recs in zip(target_users_test, recommendations):\n",
    "\t\t\tf.write(f\"{user_id},{' '.join(map(str, recs))}\\n\")"
   ]
  },
  {
   "cell_type": "code",
   "execution_count": 121,
   "id": "1a3751d2-d8d0-4cc8-89a5-1da0b673f514",
   "metadata": {},
   "outputs": [
    {
     "name": "stdout",
     "output_type": "stream",
     "text": [
      "SLIMElasticNetRecommender: Processed 6978 (18.3%) in 5.00 min. Items per second: 23.25\n",
      "SLIMElasticNetRecommender: Processed 13662 (35.8%) in 10.00 min. Items per second: 22.77\n",
      "SLIMElasticNetRecommender: Processed 20621 (54.1%) in 15.00 min. Items per second: 22.91\n",
      "SLIMElasticNetRecommender: Processed 27568 (72.3%) in 20.00 min. Items per second: 22.97\n",
      "SLIMElasticNetRecommender: Processed 34434 (90.3%) in 25.00 min. Items per second: 22.95\n",
      "SLIMElasticNetRecommender: Processed 38121 (100.0%) in 27.80 min. Items per second: 22.86\n"
     ]
    }
   ],
   "source": [
    "SLIM_all = SLIMElasticNetRecommender(URM_all)\n",
    "SLIM_all.fit(l1_ratio=0.11006885790633625, alpha=0.0002551115306127753, topK = 307)"
   ]
  },
  {
   "cell_type": "code",
   "execution_count": 122,
   "id": "98fbbab0-cedc-49d0-a721-bdfdde6de046",
   "metadata": {},
   "outputs": [
    {
     "name": "stdout",
     "output_type": "stream",
     "text": [
      "RP3betaRecommender: Similarity column 38121 (100.0%), 3632.66 column/sec. Elapsed time 10.49 sec\n"
     ]
    }
   ],
   "source": [
    "RP3_beta_all = RP3betaRecommender(URM_all)\n",
    "RP3_beta_all.fit(alpha=0.34989902568351894, beta=0.1817338725671425, topK=12, min_rating=0.0, implicit=False, normalize_similarity=True)"
   ]
  },
  {
   "cell_type": "code",
   "execution_count": 123,
   "id": "07e236b8-3a69-4dfd-a654-f7ad5d62168f",
   "metadata": {},
   "outputs": [
    {
     "name": "stdout",
     "output_type": "stream",
     "text": [
      "Similarity column 38121 (100.0%), 4195.66 column/sec. Elapsed time 9.09 sec\n"
     ]
    }
   ],
   "source": [
    "KNN_all = ItemKNNCFRecommender(URM_all)\n",
    "KNN_all.fit(similarity='jaccard', topK=5, shrink=12, normalize=False)"
   ]
  },
  {
   "cell_type": "code",
   "execution_count": 125,
   "id": "80184a7b-db48-4e9c-912a-3d376f934ec4",
   "metadata": {},
   "outputs": [],
   "source": [
    "# iter 239\n",
    "similarity_all = 0.7380796311636464 * SLIM_all.W_sparse + 0.21602197286950797 * RP3_beta_all.W_sparse + 0.04589839596684567 * KNN_all.W_sparse\n",
    "recommender_best = ItemKNNCustomSimilarityRecommender(URM_all)\n",
    "recommender_best.fit(similarity_all)"
   ]
  },
  {
   "cell_type": "code",
   "execution_count": 126,
   "id": "f8fed399-212e-4401-b902-8b5180ab06e0",
   "metadata": {},
   "outputs": [
    {
     "name": "stdout",
     "output_type": "stream",
     "text": [
      "EvaluatorHoldout: Processed 35171 (100.0%) in 15.52 sec. Users per second: 2266\n"
     ]
    },
    {
     "data": {
      "text/plain": [
       "(       PRECISION PRECISION_RECALL_MIN_DEN RECALL  MAP MAP_MIN_DEN  MRR NDCG  \\\n",
       " cutoff                                                                        \n",
       " 10           0.0                      0.0    0.0  0.0         0.0  0.0  0.0   \n",
       " \n",
       "          F1 HIT_RATE ARHR_ALL_HITS  ... COVERAGE_USER COVERAGE_USER_HIT  \\\n",
       " cutoff                              ...                                   \n",
       " 10      0.0      0.0           0.0  ...       0.98419               0.0   \n",
       " \n",
       "        USERS_IN_GT DIVERSITY_GINI SHANNON_ENTROPY RATIO_DIVERSITY_HERFINDAHL  \\\n",
       " cutoff                                                                         \n",
       " 10         0.98419       0.263098       13.599568                   0.999901   \n",
       " \n",
       "        RATIO_DIVERSITY_GINI RATIO_SHANNON_ENTROPY RATIO_AVERAGE_POPULARITY  \\\n",
       " cutoff                                                                       \n",
       " 10                 0.430335              0.921023                 1.229809   \n",
       " \n",
       "        RATIO_NOVELTY  \n",
       " cutoff                \n",
       " 10          0.197063  \n",
       " \n",
       " [1 rows x 27 columns],\n",
       " 'CUTOFF: 10 - PRECISION: 0.0000000, PRECISION_RECALL_MIN_DEN: 0.0000000, RECALL: 0.0000000, MAP: 0.0000000, MAP_MIN_DEN: 0.0000000, MRR: 0.0000000, NDCG: 0.0000000, F1: 0.0000000, HIT_RATE: 0.0000000, ARHR_ALL_HITS: 0.0000000, NOVELTY: 0.0037691, AVERAGE_POPULARITY: 0.0906862, DIVERSITY_MEAN_INTER_LIST: 0.9984626, DIVERSITY_HERFINDAHL: 0.9998434, COVERAGE_ITEM: 0.6480680, COVERAGE_ITEM_HIT: 0.0000000, ITEMS_IN_GT: 0.9843393, COVERAGE_USER: 0.9841896, COVERAGE_USER_HIT: 0.0000000, USERS_IN_GT: 0.9841896, DIVERSITY_GINI: 0.2630980, SHANNON_ENTROPY: 13.5995684, RATIO_DIVERSITY_HERFINDAHL: 0.9999011, RATIO_DIVERSITY_GINI: 0.4303354, RATIO_SHANNON_ENTROPY: 0.9210225, RATIO_AVERAGE_POPULARITY: 1.2298088, RATIO_NOVELTY: 0.1970634, \\n')"
      ]
     },
     "execution_count": 126,
     "metadata": {},
     "output_type": "execute_result"
    }
   ],
   "source": [
    "evaluator_test.evaluateRecommender(recommender_best)"
   ]
  },
  {
   "cell_type": "code",
   "execution_count": 129,
   "id": "d067b63a-a944-4b28-98e7-29a139dfe535",
   "metadata": {},
   "outputs": [],
   "source": [
    "write_submission_lib_model(recommender_best, \"ensemble_SLIM_RP3beta_KNN_6.csv\")"
   ]
  },
  {
   "cell_type": "code",
   "execution_count": null,
   "id": "09a1b834-8cbe-45c0-8949-bcba446d55c8",
   "metadata": {},
   "outputs": [],
   "source": []
  }
 ],
 "metadata": {
  "kernelspec": {
   "display_name": "RecSys",
   "language": "python",
   "name": "recsys"
  },
  "language_info": {
   "codemirror_mode": {
    "name": "ipython",
    "version": 3
   },
   "file_extension": ".py",
   "mimetype": "text/x-python",
   "name": "python",
   "nbconvert_exporter": "python",
   "pygments_lexer": "ipython3",
   "version": "3.12.7"
  }
 },
 "nbformat": 4,
 "nbformat_minor": 5
}
