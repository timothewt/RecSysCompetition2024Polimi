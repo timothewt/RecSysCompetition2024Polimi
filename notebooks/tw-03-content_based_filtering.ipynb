{
 "cells": [
  {
   "cell_type": "code",
   "id": "initial_id",
   "metadata": {
    "collapsed": true,
    "editable": true,
    "jupyter": {
     "outputs_hidden": true
    },
    "slideshow": {
     "slide_type": ""
    },
    "tags": [],
    "ExecuteTime": {
     "end_time": "2024-11-16T17:06:58.987738Z",
     "start_time": "2024-11-16T17:06:58.438007Z"
    }
   },
   "source": [
    "import numpy as np\n",
    "import scipy.sparse as sp\n",
    "\n",
    "from libs.Recommenders.Similarity.Compute_Similarity import Compute_Similarity\n",
    "from src.utils import train_model, write_submission\n",
    "from src.recommender_model import RecommenderModel"
   ],
   "outputs": [],
   "execution_count": 1
  },
  {
   "cell_type": "markdown",
   "id": "cb9a4244f108483c",
   "metadata": {},
   "source": [
    "# Content-Based Filtering\n",
    "This notebook provides an implementation of a Content-Based Filtering model."
   ]
  },
  {
   "cell_type": "markdown",
   "id": "5439bdf988864280",
   "metadata": {},
   "source": [
    "## TF-IDF to compute feature weights"
   ]
  },
  {
   "cell_type": "code",
   "id": "94ef18defc96af36",
   "metadata": {
    "ExecuteTime": {
     "end_time": "2024-11-16T17:06:59.136301Z",
     "start_time": "2024-11-16T17:06:59.133135Z"
    }
   },
   "source": [
    "def tf_idf(mat: sp.csr_matrix) -> sp.csr_matrix:\n",
    "\t\"\"\"Rescales the matrix values by weighting the features of the matrix (typically the ICM) using TF-IDF\n",
    "\n",
    "\t:param mat: The sparse matrix\n",
    "\t:type mat: sp.csr_matrix\n",
    "\t:return: The matrix rescaled by TF-IDF\n",
    "\t:rtype: sp.csr_matrix\n",
    "\t\"\"\"\n",
    "\tmat = mat.copy()\n",
    "\tdf = np.asarray(mat.sum(axis=0)).ravel()\n",
    "\tidf = np.log(mat.shape[0] / (df + 1))\n",
    "\tmat.data = mat.data * idf[mat.tocoo().col]\n",
    "\tmat.eliminate_zeros()\n",
    "\treturn mat"
   ],
   "outputs": [],
   "execution_count": 2
  },
  {
   "cell_type": "markdown",
   "id": "e5b72747cce7de5f",
   "metadata": {},
   "source": [
    "## CBF with Similarity Matrix"
   ]
  },
  {
   "cell_type": "code",
   "id": "fc080b05ae559f16",
   "metadata": {
    "ExecuteTime": {
     "end_time": "2024-11-16T17:06:59.252664Z",
     "start_time": "2024-11-16T17:06:59.236786Z"
    }
   },
   "source": [
    "class CBF(RecommenderModel):\n",
    "    def __init__(self, top_k: int = 500, shrink: int = 700):\n",
    "        super(CBF, self).__init__()\n",
    "        self.similarity_matrix: sp.csr_matrix | None = None\n",
    "        self.top_k: int = top_k\n",
    "        self.shrink: int = shrink\n",
    "    \n",
    "    def fit(self, urm: sp.csr_matrix, icm: sp.csr_matrix, urm_val: sp.csr_matrix, **kwargs) -> None:\n",
    "        self.urm = urm\n",
    "        self.icm = icm\n",
    "        weighted_icm = tf_idf(self.icm)\n",
    "        \n",
    "        self.similarity_matrix = Compute_Similarity(weighted_icm.T, topK=min(self.top_k, self.icm.shape[0]), shrink=self.shrink).compute_similarity()\n",
    "        \n",
    "        self.urm_pred = self.urm @ self.similarity_matrix"
   ],
   "outputs": [],
   "execution_count": 3
  },
  {
   "cell_type": "code",
   "id": "57e9b0637750ea6e",
   "metadata": {
    "ExecuteTime": {
     "end_time": "2024-11-16T17:07:57.378844Z",
     "start_time": "2024-11-16T17:06:59.347225Z"
    }
   },
   "source": "cbf = train_model(CBF())",
   "outputs": [
    {
     "name": "stdout",
     "output_type": "stream",
     "text": [
      "Similarity column 38121 (100.0%), 1049.64 column/sec. Elapsed time 36.32 sec\n",
      "MAP@10 evaluation of the CBF model: 0.02483\n"
     ]
    }
   ],
   "execution_count": 4
  },
  {
   "cell_type": "code",
   "id": "37705a1c2b3f191d",
   "metadata": {
    "ExecuteTime": {
     "end_time": "2024-11-16T17:08:50.685717Z",
     "start_time": "2024-11-16T17:07:57.393488Z"
    }
   },
   "source": [
    "cbf_submission = train_model(CBF(), test_size=0)\n",
    "write_submission(cbf_submission, \"cbf_submission.csv\")"
   ],
   "outputs": [
    {
     "name": "stdout",
     "output_type": "stream",
     "text": [
      "Similarity column 38121 (100.0%), 1086.42 column/sec. Elapsed time 35.09 sec\n"
     ]
    }
   ],
   "execution_count": 5
  }
 ],
 "metadata": {
  "kernelspec": {
   "display_name": "Python 3 (ipykernel)",
   "language": "python",
   "name": "python3"
  },
  "language_info": {
   "codemirror_mode": {
    "name": "ipython",
    "version": 3
   },
   "file_extension": ".py",
   "mimetype": "text/x-python",
   "name": "python",
   "nbconvert_exporter": "python",
   "pygments_lexer": "ipython3",
   "version": "3.12.5"
  }
 },
 "nbformat": 4,
 "nbformat_minor": 5
}
