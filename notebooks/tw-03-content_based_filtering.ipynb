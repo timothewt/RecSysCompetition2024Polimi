{
 "cells": [
  {
   "metadata": {
    "ExecuteTime": {
     "end_time": "2024-11-05T12:16:56.399149Z",
     "start_time": "2024-11-05T12:16:55.213996Z"
    }
   },
   "cell_type": "code",
   "source": [
    "import numpy as np\n",
    "import scipy.sparse as sp\n",
    "\n",
    "from libs.Recommenders.Similarity.Compute_Similarity import Compute_Similarity\n",
    "from src.utils import train_model, write_submission\n",
    "from src.recommender_model import RecommenderModel"
   ],
   "id": "7174f16bc355c70d",
   "outputs": [],
   "execution_count": 1
  },
  {
   "metadata": {},
   "cell_type": "markdown",
   "source": [
    "# Content-Based Filtering\n",
    "This notebook provides an implementation of a Content-Based Filtering model."
   ],
   "id": "466781df97fe9011"
  },
  {
   "metadata": {},
   "cell_type": "markdown",
   "source": "## TF-IDF to compute feature weights",
   "id": "3e9a5cdfb1067d4e"
  },
  {
   "metadata": {
    "ExecuteTime": {
     "end_time": "2024-11-05T12:16:56.427538Z",
     "start_time": "2024-11-05T12:16:56.418087Z"
    }
   },
   "cell_type": "code",
   "source": [
    "def tf_idf(mat: sp.csr_matrix) -> sp.csr_matrix:\n",
    "    \"\"\"Rescales the matrix values by weighting the features of the matrix (typically the ICM) using TF-IDF\n",
    "\n",
    "    :param mat: The sparse matrix\n",
    "    :type mat: sp.csr_matrix\n",
    "    :return: The matrix rescaled by TF-IDF\n",
    "    :rtype: sp.csr_matrix\n",
    "    \"\"\"\n",
    "    mat = mat.copy()\n",
    "    df = np.asarray(mat.sum(axis=0)).ravel()\n",
    "    idf = np.log(mat.shape[0] / (df + 1))\n",
    "    mat.data = mat.data * idf[mat.tocoo().col]\n",
    "    mat.eliminate_zeros()\n",
    "    return mat"
   ],
   "id": "d9e737a72f808e96",
   "outputs": [],
   "execution_count": 2
  },
  {
   "metadata": {},
   "cell_type": "markdown",
   "source": "## CBF with Similarity Matrix",
   "id": "76782e61d1e2c455"
  },
  {
   "metadata": {
    "ExecuteTime": {
     "end_time": "2024-11-05T12:16:56.454280Z",
     "start_time": "2024-11-05T12:16:56.443987Z"
    }
   },
   "cell_type": "code",
   "source": [
    "class CBF(RecommenderModel):\n",
    "\tdef __init__(self, top_k: int = 300, shrink: int = 500):\n",
    "\t\tsuper(CBF, self).__init__()\n",
    "\t\tself.similarity_matrix: sp.csr_matrix | None = None\n",
    "\t\tself.top_k: int = top_k\n",
    "\t\tself.shrink: int = shrink\n",
    "\n",
    "\tdef fit(self, urm: sp.csr_matrix, icm: sp.csr_matrix) -> None:\n",
    "\t\tself.urm = urm\n",
    "\t\tself.icm = tf_idf(icm)\n",
    "\n",
    "\t\tself.similarity_matrix = Compute_Similarity(self.icm.T, topK=self.top_k, shrink=self.shrink).compute_similarity()\n",
    "\n",
    "\t\tself.urm_pred = self.urm @ self.similarity_matrix"
   ],
   "id": "969f56c2fb0932",
   "outputs": [],
   "execution_count": 3
  },
  {
   "metadata": {
    "ExecuteTime": {
     "end_time": "2024-11-05T12:19:44.725215Z",
     "start_time": "2024-11-05T12:16:56.971624Z"
    }
   },
   "cell_type": "code",
   "source": "cbf = train_model(CBF())",
   "id": "4ef1dfe70c093a9c",
   "outputs": [
    {
     "name": "stdout",
     "output_type": "stream",
     "text": [
      "Unable to load Cython Compute_Similarity, reverting to Python\n",
      "Similarity column 38121 (100.0%), 313.73 column/sec. Elapsed time 2.03 min\n",
      "MAP@10 evaluation of the CBF model: 0.02552\n"
     ]
    },
    {
     "data": {
      "text/plain": [
       "<__main__.CBF at 0x2c5e39ffdd0>"
      ]
     },
     "execution_count": 4,
     "metadata": {},
     "output_type": "execute_result"
    }
   ],
   "execution_count": 4
  },
  {
   "metadata": {
    "ExecuteTime": {
     "end_time": "2024-11-05T12:19:44.769439Z",
     "start_time": "2024-11-05T12:19:44.764976Z"
    }
   },
   "cell_type": "code",
   "source": [
    "top_pop_submission = train_model(CBF(), test_size=0)\n",
    "write_submission(top_pop_submission, \"cbf_submission.csv\")"
   ],
   "id": "de5bc960ac61c5db",
   "outputs": [],
   "execution_count": 4
  }
 ],
 "metadata": {
  "kernelspec": {
   "name": "python3",
   "language": "python",
   "display_name": "Python 3 (ipykernel)"
  }
 },
 "nbformat": 5,
 "nbformat_minor": 9
}
