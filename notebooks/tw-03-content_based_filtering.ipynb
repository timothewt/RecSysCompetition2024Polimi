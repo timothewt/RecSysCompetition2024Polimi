{
 "cells": [
  {
   "metadata": {
    "ExecuteTime": {
     "end_time": "2024-11-05T14:34:58.389965Z",
     "start_time": "2024-11-05T14:34:58.383564Z"
    }
   },
   "cell_type": "code",
   "source": [
    "import numpy as np\n",
    "import scipy.sparse as sp\n",
    "\n",
    "from libs.Recommenders.Similarity.Compute_Similarity import Compute_Similarity\n",
    "from src.utils import train_model, write_submission\n",
    "from src.recommender_model import RecommenderModel"
   ],
   "id": "7174f16bc355c70d",
   "outputs": [],
   "execution_count": 26
  },
  {
   "metadata": {},
   "cell_type": "markdown",
   "source": [
    "# Content-Based Filtering\n",
    "This notebook provides an implementation of a Content-Based Filtering model."
   ],
   "id": "466781df97fe9011"
  },
  {
   "metadata": {},
   "cell_type": "markdown",
   "source": "## TF-IDF to compute feature weights",
   "id": "3e9a5cdfb1067d4e"
  },
  {
   "metadata": {
    "ExecuteTime": {
     "end_time": "2024-11-05T14:34:58.431197Z",
     "start_time": "2024-11-05T14:34:58.419327Z"
    }
   },
   "cell_type": "code",
   "source": [
    "def tf_idf(mat: sp.csr_matrix) -> sp.csr_matrix:\n",
    "\t\"\"\"Rescales the matrix values by weighting the features of the matrix (typically the ICM) using TF-IDF\n",
    "\n",
    "\t:param mat: The sparse matrix\n",
    "\t:type mat: sp.csr_matrix\n",
    "\t:return: The matrix rescaled by TF-IDF\n",
    "\t:rtype: sp.csr_matrix\n",
    "\t\"\"\"\n",
    "\tmat = mat.copy()\n",
    "\tdf = np.asarray(mat.sum(axis=0)).ravel()\n",
    "\tidf = np.log(mat.shape[0] / (df + 1))\n",
    "\tmat.data = mat.data * idf[mat.tocoo().col]\n",
    "\tmat.eliminate_zeros()\n",
    "\treturn mat"
   ],
   "id": "d9e737a72f808e96",
   "outputs": [],
   "execution_count": 27
  },
  {
   "metadata": {},
   "cell_type": "markdown",
   "source": "## CBF with Similarity Matrix",
   "id": "76782e61d1e2c455"
  },
  {
   "metadata": {
    "ExecuteTime": {
     "end_time": "2024-11-05T14:34:58.472549Z",
     "start_time": "2024-11-05T14:34:58.460199Z"
    }
   },
   "cell_type": "code",
   "source": [
    "class CBF(RecommenderModel):\n",
    "\tdef __init__(self, top_k: int = 500, shrink: int = 700):\n",
    "\t\tsuper(CBF, self).__init__()\n",
    "\t\tself.similarity_matrix: sp.csr_matrix | None = None\n",
    "\t\tself.top_k: int = top_k\n",
    "\t\tself.shrink: int = shrink\n",
    "\n",
    "\tdef fit(self, urm: sp.csr_matrix, icm: sp.csr_matrix) -> None:\n",
    "\t\tself.urm = urm\n",
    "\t\tself.icm = tf_idf(icm)\n",
    "\n",
    "\t\tself.similarity_matrix = Compute_Similarity(self.icm.T, topK=min(self.top_k, self.icm.shape[0]), shrink=self.shrink).compute_similarity()\n",
    "\n",
    "\t\tself.urm_pred = self.urm @ self.similarity_matrix"
   ],
   "id": "969f56c2fb0932",
   "outputs": [],
   "execution_count": 28
  },
  {
   "metadata": {
    "ExecuteTime": {
     "end_time": "2024-11-05T14:39:14.931015Z",
     "start_time": "2024-11-05T14:34:58.496324Z"
    }
   },
   "cell_type": "code",
   "source": "cbf = train_model(CBF())",
   "id": "4ef1dfe70c093a9c",
   "outputs": [
    {
     "name": "stdout",
     "output_type": "stream",
     "text": [
      "Unable to load Cython Compute_Similarity, reverting to Python\n",
      "Similarity column 38121 (100.0%), 208.99 column/sec. Elapsed time 3.04 min\n",
      "MAP@10 evaluation of the CBF model: 0.02549\n"
     ]
    }
   ],
   "execution_count": 29
  },
  {
   "metadata": {
    "ExecuteTime": {
     "end_time": "2024-11-05T14:42:19.794376Z",
     "start_time": "2024-11-05T14:39:14.987249Z"
    }
   },
   "cell_type": "code",
   "source": [
    "cbf_submission = train_model(CBF(), test_size=0)\n",
    "write_submission(cbf_submission, \"cbf_submission.csv\")"
   ],
   "id": "de5bc960ac61c5db",
   "outputs": [
    {
     "name": "stdout",
     "output_type": "stream",
     "text": [
      "Unable to load Cython Compute_Similarity, reverting to Python\n",
      "Similarity column 38121 (100.0%), 361.24 column/sec. Elapsed time 1.76 min\n"
     ]
    }
   ],
   "execution_count": 30
  }
 ],
 "metadata": {
  "kernelspec": {
   "name": "python3",
   "language": "python",
   "display_name": "Python 3 (ipykernel)"
  }
 },
 "nbformat": 5,
 "nbformat_minor": 9
}
