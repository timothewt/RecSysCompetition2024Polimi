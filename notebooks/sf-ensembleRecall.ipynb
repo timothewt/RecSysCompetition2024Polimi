{
 "cells": [
  {
   "cell_type": "code",
   "execution_count": 55,
   "id": "6e4c3371-a8ec-439b-8600-6403934bd3b9",
   "metadata": {},
   "outputs": [],
   "source": [
    "from pathlib import Path\n",
    "import sys  \n",
    "import os\n",
    "import pandas as pd \n",
    "from datetime import datetime\n",
    "import scipy.sparse as sps\n",
    "from numpy import linalg as LA\n",
    "\n",
    "import numpy as np\n",
    "from operator import itemgetter"
   ]
  },
  {
   "cell_type": "code",
   "execution_count": 56,
   "id": "1691842e-9792-47d1-b1f3-8754fd686496",
   "metadata": {},
   "outputs": [],
   "source": [
    "sys.path.append(os.path.abspath(os.path.join(os.getcwd(), \"..\", \"libs\")))\n",
    "sys.path.append(os.path.abspath(os.path.join(os.getcwd(), \"..\")))\n",
    "sys.path.append(os.path.abspath(os.path.join(os.getcwd(), \"..\", \"src\")))"
   ]
  },
  {
   "cell_type": "code",
   "execution_count": 57,
   "id": "03f6fcc8-853b-48cf-8fa0-8980d9c79a9c",
   "metadata": {},
   "outputs": [
    {
     "name": "stdout",
     "output_type": "stream",
     "text": [
      "The autoreload extension is already loaded. To reload it, use:\n",
      "  %reload_ext autoreload\n"
     ]
    }
   ],
   "source": [
    "%load_ext autoreload\n",
    "%autoreload 2"
   ]
  },
  {
   "cell_type": "code",
   "execution_count": 58,
   "id": "cdd2d3e7-6985-4d60-8bff-07bd9da99b5a",
   "metadata": {},
   "outputs": [],
   "source": [
    "from Utils.load_URM import load_URM\n",
    "from Utils.load_ICM import load_ICM\n",
    "\n",
    "from scipy.sparse import hstack, vstack\n",
    "from Evaluation.Evaluator import EvaluatorHoldout\n",
    "from Data_manager.split_functions.split_train_validation_random_holdout import split_train_in_two_percentage_global_sample\n",
    "\n",
    "URM_all = load_URM(\"../data/data_train.csv\")\n",
    "ICM_all = load_ICM(\"../data/data_ICM_metadata.csv\")"
   ]
  },
  {
   "cell_type": "code",
   "execution_count": 59,
   "id": "1c56c8e8-06a1-4d72-b3dc-47d07ebe3b7f",
   "metadata": {},
   "outputs": [],
   "source": [
    "from libs.Recommenders.SLIM.SLIMElasticNetRecommender import SLIMElasticNetRecommender \n",
    "from libs.Recommenders.GraphBased.RP3betaRecommender import RP3betaRecommender\n",
    "from libs.Recommenders.KNN.ItemKNNCFRecommender import ItemKNNCFRecommender\n",
    "from libs.Recommenders.KNN.ItemKNNCustomSimilarityRecommender import ItemKNNCustomSimilarityRecommender"
   ]
  },
  {
   "cell_type": "code",
   "execution_count": 60,
   "id": "1504e611-5495-417f-9ec2-50062d8a8e93",
   "metadata": {},
   "outputs": [],
   "source": [
    "import optuna as op"
   ]
  },
  {
   "cell_type": "code",
   "execution_count": 61,
   "id": "85095393-ca26-4807-be70-e0cbffa5e7d9",
   "metadata": {},
   "outputs": [
    {
     "name": "stdout",
     "output_type": "stream",
     "text": [
      "Train size: 1274929, Val size: 224987, Test size: 264691\n"
     ]
    }
   ],
   "source": [
    "URM_train = sps.load_npz(\"URM_train_ens.npz\")\n",
    "URM_val = sps.load_npz(\"URM_val_ens.npz\")\n",
    "URM_test = sps.load_npz(\"URM_test_ens.npz\")\n",
    "\n",
    "URM_train_val = sps.load_npz(\"URM_train_val_ens.npz\")\n",
    "\n",
    "print(f\"Train size: {URM_train.getnnz()}, Val size: {URM_val.getnnz()}, Test size: {URM_test.getnnz()}\")"
   ]
  },
  {
   "cell_type": "code",
   "execution_count": 62,
   "id": "e0284ba9-a423-4a0f-b48f-45699487889f",
   "metadata": {},
   "outputs": [
    {
     "name": "stdout",
     "output_type": "stream",
     "text": [
      "EvaluatorHoldout: Ignoring 1008 ( 2.8%) Users that have less than 1 test interactions\n",
      "EvaluatorHoldout: Ignoring 527 ( 1.5%) Users that have less than 1 test interactions\n"
     ]
    }
   ],
   "source": [
    "evaluator_val = EvaluatorHoldout(URM_val, cutoff_list=[100])\n",
    "evaluator_test = EvaluatorHoldout(URM_test, cutoff_list=[100])"
   ]
  },
  {
   "cell_type": "code",
   "execution_count": 63,
   "id": "595bb051-df6e-4f25-a631-77e549a873f2",
   "metadata": {},
   "outputs": [],
   "source": [
    "def AP(recommended_items, relevant_items):\n",
    "   \n",
    "    is_relevant = np.in1d(recommended_items, relevant_items, assume_unique=True)\n",
    "    \n",
    "    # Cumulative sum: precision at 1, at 2, at 3 ...\n",
    "    p_at_k = is_relevant * np.cumsum(is_relevant, dtype=np.float32) / (1 + np.arange(is_relevant.shape[0]))\n",
    "    ap_score = np.sum(p_at_k) / np.min([relevant_items.shape[0], is_relevant.shape[0]])\n",
    "\n",
    "    return ap_score\n",
    "\n",
    "def recall(recommended_items, relevant_items):\n",
    "\n",
    "    is_relevant = np.in1d(recommended_items, relevant_items, assume_unique=True)\n",
    "\n",
    "    recall_score = np.sum(is_relevant, dtype=np.float32) / relevant_items.shape[0]\n",
    "\n",
    "    return recall_score"
   ]
  },
  {
   "cell_type": "code",
   "execution_count": 64,
   "id": "c2d50d05-ae64-4d7f-b1fc-3782c0cd681e",
   "metadata": {},
   "outputs": [],
   "source": [
    "# We pass as paramether the recommender class\n",
    "\n",
    "def evaluate_algorithm(URM_test, recommender_object, at=10):\n",
    "    \n",
    "    #cumulative_precision = 0.0\n",
    "    cumulative_recall = 0.0\n",
    "    cumulative_AP = 0.0\n",
    "    \n",
    "    num_eval = 0\n",
    "\n",
    "\n",
    "    for user_id in range(URM_test.shape[0]):\n",
    "\n",
    "        relevant_items = URM_test.indices[URM_test.indptr[user_id]:URM_test.indptr[user_id+1]]\n",
    "        \n",
    "        if len(relevant_items)>0:\n",
    "            \n",
    "            recommended_items = recommender_object.recommend(user_id, cutoff=at)\n",
    "            num_eval+=1\n",
    "\n",
    "            #cumulative_precision += precision(recommended_items, relevant_items)\n",
    "            cumulative_recall += recall(recommended_items, relevant_items)\n",
    "            cumulative_AP += AP(recommended_items, relevant_items)\n",
    "            \n",
    "    #cumulative_precision /= num_eval\n",
    "    cumulative_recall /= num_eval\n",
    "    MAP = cumulative_AP / num_eval\n",
    "    \n",
    "    return MAP, cumulative_recall\n"
   ]
  },
  {
   "cell_type": "markdown",
   "id": "de03c67e-0140-4dba-b395-cc39d5ae5ffe",
   "metadata": {},
   "source": [
    "# SLIM "
   ]
  },
  {
   "cell_type": "code",
   "execution_count": 65,
   "id": "bc4274f7-048b-455a-b08b-ea97f4bfa5b1",
   "metadata": {},
   "outputs": [
    {
     "name": "stdout",
     "output_type": "stream",
     "text": [
      "SLIMElasticNetRecommender: Loading model from file 'result_experiments/SLIM/SLIM_ElasticRecall_eval'\n",
      "SLIMElasticNetRecommender: Loading complete\n",
      "SLIMElasticNetRecommender: Loading model from file 'result_experiments/SLIM/SLIM_ElasticRecall_train_val_eval'\n",
      "SLIMElasticNetRecommender: Loading complete\n"
     ]
    }
   ],
   "source": [
    "SLIM_ElasticRecall_train = SLIMElasticNetRecommender(URM_train)\n",
    "#SLIM_ElasticRecall_eval.fit(topK= 296, l1_ratio=0.10442943478590742, alpha=0.00035921608889258387)\n",
    "SLIM_ElasticRecall_train.load_model(\"result_experiments/SLIM/\", \"SLIM_ElasticRecall_eval\")\n",
    "\n",
    "SLIM_ElasticRecall_train_val = SLIMElasticNetRecommender(URM_train+URM_val)\n",
    "SLIM_ElasticRecall_train_val.load_model(\"result_experiments/SLIM/\", \"SLIM_ElasticRecall_train_val_eval\")\n",
    "\n",
    "#SLIM_ElasticRecall_train_val_eval.fit(topK= 296, l1_ratio=0.10442943478590742, alpha=0.00035921608889258387)\n",
    "#SLIM_ElasticRecall_train_val_eval.load_model('result_experiments/SLIM/', 'slim_307_train_val_ens')"
   ]
  },
  {
   "cell_type": "code",
   "execution_count": 66,
   "id": "9d51aff0-20af-46f4-bc3d-dbd015433d79",
   "metadata": {},
   "outputs": [
    {
     "name": "stdout",
     "output_type": "stream",
     "text": [
      "EvaluatorHoldout: Processed 34728 (100.0%) in 16.22 sec. Users per second: 2141\n",
      "EvaluatorHoldout: Processed 35209 (100.0%) in 16.82 sec. Users per second: 2093\n"
     ]
    }
   ],
   "source": [
    "slim_recall_train_res, _ = evaluator_val.evaluateRecommender(SLIM_ElasticRecall_train)\n",
    "slim_recall_train_val_res, _ = evaluator_test.evaluateRecommender(SLIM_ElasticRecall_train_val)"
   ]
  },
  {
   "cell_type": "code",
   "execution_count": 67,
   "id": "0a1b7355-1548-4896-b8f3-485eb859c8fe",
   "metadata": {},
   "outputs": [
    {
     "data": {
      "text/plain": [
       "(cutoff\n",
       " 100    0.004474\n",
       " Name: MAP, dtype: object,\n",
       " cutoff\n",
       " 100    0.319568\n",
       " Name: RECALL, dtype: object,\n",
       " cutoff\n",
       " 100    0.007051\n",
       " Name: MAP, dtype: object,\n",
       " cutoff\n",
       " 100    0.356014\n",
       " Name: RECALL, dtype: object)"
      ]
     },
     "execution_count": 67,
     "metadata": {},
     "output_type": "execute_result"
    }
   ],
   "source": [
    "slim_recall_train_res[\"MAP\"], slim_recall_train_res[\"RECALL\"], slim_recall_train_val_res[\"MAP\"], slim_recall_train_val_res[\"RECALL\"]"
   ]
  },
  {
   "cell_type": "markdown",
   "id": "b742c365-d404-45f6-b272-42807756cd6a",
   "metadata": {},
   "source": [
    "# RP3beta"
   ]
  },
  {
   "cell_type": "code",
   "execution_count": 68,
   "id": "eb5db98d-a064-4908-83d1-f7c5b7797626",
   "metadata": {},
   "outputs": [
    {
     "name": "stdout",
     "output_type": "stream",
     "text": [
      "RP3betaRecommender: Loading model from file 'result_experiments/RP3beta/RP3BetaRecall_eval'\n",
      "RP3betaRecommender: Loading complete\n",
      "RP3betaRecommender: Loading model from file 'result_experiments/RP3beta/RP3BetaRecall_train_val_eval'\n",
      "RP3betaRecommender: Loading complete\n"
     ]
    }
   ],
   "source": [
    "RP3BetaRecall_train = RP3betaRecommender(URM_train)\n",
    "RP3BetaRecall_train.load_model(\"result_experiments/RP3beta/\", \"RP3BetaRecall_eval\")\n",
    "\n",
    "RP3BetaRecall_train_val = RP3betaRecommender(URM_train+URM_val)\n",
    "#RP3BetaRecall_train_val_eval.fit(alpha=0.205870, beta=0.243986, topK=17, min_rating=0.0, implicit=False, normalize_similarity=True)\n",
    "RP3BetaRecall_train_val.load_model(\"result_experiments/RP3beta/\", \"RP3BetaRecall_train_val_eval\")"
   ]
  },
  {
   "cell_type": "code",
   "execution_count": 69,
   "id": "b82186e8-7c5d-4ffd-98d0-7908f0066974",
   "metadata": {},
   "outputs": [
    {
     "name": "stdout",
     "output_type": "stream",
     "text": [
      "EvaluatorHoldout: Processed 34728 (100.0%) in 11.40 sec. Users per second: 3046\n",
      "EvaluatorHoldout: Processed 35209 (100.0%) in 11.58 sec. Users per second: 3041\n"
     ]
    }
   ],
   "source": [
    "rp3_beta_recall_train_res, _ = evaluator_val.evaluateRecommender(RP3BetaRecall_train)\n",
    "rp3_beta_recall_train_val_res, _ = evaluator_test.evaluateRecommender(RP3BetaRecall_train_val)"
   ]
  },
  {
   "cell_type": "code",
   "execution_count": 70,
   "id": "9525983d-f4a2-47c1-aaef-a96662f018ef",
   "metadata": {},
   "outputs": [
    {
     "data": {
      "text/plain": [
       "(cutoff\n",
       " 100    0.00412\n",
       " Name: MAP, dtype: object,\n",
       " cutoff\n",
       " 100    0.298366\n",
       " Name: RECALL, dtype: object,\n",
       " cutoff\n",
       " 100    0.006317\n",
       " Name: MAP, dtype: object,\n",
       " cutoff\n",
       " 100    0.330276\n",
       " Name: RECALL, dtype: object)"
      ]
     },
     "execution_count": 70,
     "metadata": {},
     "output_type": "execute_result"
    }
   ],
   "source": [
    "rp3_beta_recall_train_res[\"MAP\"], rp3_beta_recall_train_res[\"RECALL\"], rp3_beta_recall_train_val_res[\"MAP\"], rp3_beta_recall_train_val_res[\"RECALL\"]"
   ]
  },
  {
   "cell_type": "markdown",
   "id": "e685ee37-2204-415b-b826-5952a947d8de",
   "metadata": {},
   "source": [
    "# KNN"
   ]
  },
  {
   "cell_type": "code",
   "execution_count": 71,
   "id": "55cd7ee5-95dc-44a4-b2fa-40db6f225d41",
   "metadata": {},
   "outputs": [
    {
     "name": "stdout",
     "output_type": "stream",
     "text": [
      "ItemKNNCFRecommender: Loading model from file 'result_experiments/ItemKNNCFRecommender/KNNRecall_eval'\n",
      "ItemKNNCFRecommender: Loading complete\n",
      "ItemKNNCFRecommender: Loading model from file 'result_experiments/ItemKNNCFRecommender/KNNRecall_train_val_eval'\n",
      "ItemKNNCFRecommender: Loading complete\n"
     ]
    }
   ],
   "source": [
    "KNNRecall_train = ItemKNNCFRecommender(URM_train)\n",
    "KNNRecall_train.load_model(\"result_experiments/ItemKNNCFRecommender/\", \"KNNRecall_eval\")\n",
    "\n",
    "KNNRecall_train_val = ItemKNNCFRecommender(URM_train+URM_val)\n",
    "KNNRecall_train_val.load_model(\"result_experiments/ItemKNNCFRecommender/\", \"KNNRecall_train_val_eval\")"
   ]
  },
  {
   "cell_type": "code",
   "execution_count": 72,
   "id": "1e7504f3-4afe-42d7-a4dd-2fd1975cdcc9",
   "metadata": {},
   "outputs": [
    {
     "name": "stdout",
     "output_type": "stream",
     "text": [
      "EvaluatorHoldout: Processed 34728 (100.0%) in 11.26 sec. Users per second: 3083\n",
      "EvaluatorHoldout: Processed 35209 (100.0%) in 11.63 sec. Users per second: 3027\n"
     ]
    }
   ],
   "source": [
    "knn_recall_train_res, _ = evaluator_val.evaluateRecommender(KNNRecall_train)\n",
    "knn_recall_train_val_res, _ = evaluator_test.evaluateRecommender(KNNRecall_train_val)"
   ]
  },
  {
   "cell_type": "code",
   "execution_count": 73,
   "id": "dc0fa2c6-0998-438c-a6c9-19af8d9ca83b",
   "metadata": {},
   "outputs": [
    {
     "data": {
      "text/plain": [
       "(cutoff\n",
       " 100    0.00403\n",
       " Name: MAP, dtype: object,\n",
       " cutoff\n",
       " 100    0.257609\n",
       " Name: RECALL, dtype: object,\n",
       " cutoff\n",
       " 100    0.006211\n",
       " Name: MAP, dtype: object,\n",
       " cutoff\n",
       " 100    0.29597\n",
       " Name: RECALL, dtype: object)"
      ]
     },
     "execution_count": 73,
     "metadata": {},
     "output_type": "execute_result"
    }
   ],
   "source": [
    "knn_recall_train_res[\"MAP\"], knn_recall_train_res[\"RECALL\"], knn_recall_train_val_res[\"MAP\"], knn_recall_train_val_res[\"RECALL\"]"
   ]
  },
  {
   "cell_type": "markdown",
   "id": "63fac797-fb0e-434a-a75e-c32fabb660ea",
   "metadata": {},
   "source": [
    "# Current best Generator"
   ]
  },
  {
   "cell_type": "code",
   "execution_count": 74,
   "id": "0443f825-b621-481b-a538-2e5a4446d69f",
   "metadata": {},
   "outputs": [],
   "source": [
    "results_df = pd.read_csv('result_experiments/ensemble_SLIM_RP3_KNNCFR/recall_3_01_2025.csv')"
   ]
  },
  {
   "cell_type": "code",
   "execution_count": 76,
   "id": "7a6e2095-2a45-4819-b08f-1d0d3eb3b6e8",
   "metadata": {},
   "outputs": [
    {
     "data": {
      "text/html": [
       "<div>\n",
       "<style scoped>\n",
       "    .dataframe tbody tr th:only-of-type {\n",
       "        vertical-align: middle;\n",
       "    }\n",
       "\n",
       "    .dataframe tbody tr th {\n",
       "        vertical-align: top;\n",
       "    }\n",
       "\n",
       "    .dataframe thead th {\n",
       "        text-align: right;\n",
       "    }\n",
       "</style>\n",
       "<table border=\"1\" class=\"dataframe\">\n",
       "  <thead>\n",
       "    <tr style=\"text-align: right;\">\n",
       "      <th></th>\n",
       "      <th>x_0</th>\n",
       "      <th>x_1</th>\n",
       "      <th>x_2</th>\n",
       "      <th>iteration</th>\n",
       "      <th>RECALL_val</th>\n",
       "      <th>SLIM_w</th>\n",
       "      <th>RP3b_w</th>\n",
       "      <th>ItemKNN_w</th>\n",
       "      <th>RECALL_test</th>\n",
       "    </tr>\n",
       "  </thead>\n",
       "  <tbody>\n",
       "    <tr>\n",
       "      <th>46</th>\n",
       "      <td>0.306797</td>\n",
       "      <td>0.934627</td>\n",
       "      <td>0.889287</td>\n",
       "      <td>46</td>\n",
       "      <td>0.320836</td>\n",
       "      <td>0.864661</td>\n",
       "      <td>0.049475</td>\n",
       "      <td>0.085865</td>\n",
       "      <td>0.357465</td>\n",
       "    </tr>\n",
       "    <tr>\n",
       "      <th>21</th>\n",
       "      <td>0.286711</td>\n",
       "      <td>0.842840</td>\n",
       "      <td>0.847009</td>\n",
       "      <td>21</td>\n",
       "      <td>0.321111</td>\n",
       "      <td>0.787542</td>\n",
       "      <td>0.107784</td>\n",
       "      <td>0.104674</td>\n",
       "      <td>0.357425</td>\n",
       "    </tr>\n",
       "    <tr>\n",
       "      <th>36</th>\n",
       "      <td>0.063830</td>\n",
       "      <td>0.686867</td>\n",
       "      <td>0.729638</td>\n",
       "      <td>36</td>\n",
       "      <td>0.321044</td>\n",
       "      <td>0.799317</td>\n",
       "      <td>0.109116</td>\n",
       "      <td>0.091567</td>\n",
       "      <td>0.357420</td>\n",
       "    </tr>\n",
       "    <tr>\n",
       "      <th>70</th>\n",
       "      <td>0.050319</td>\n",
       "      <td>0.698360</td>\n",
       "      <td>0.606554</td>\n",
       "      <td>70</td>\n",
       "      <td>0.321052</td>\n",
       "      <td>0.776792</td>\n",
       "      <td>0.093292</td>\n",
       "      <td>0.129916</td>\n",
       "      <td>0.357274</td>\n",
       "    </tr>\n",
       "    <tr>\n",
       "      <th>19</th>\n",
       "      <td>0.290366</td>\n",
       "      <td>0.827032</td>\n",
       "      <td>0.800658</td>\n",
       "      <td>19</td>\n",
       "      <td>0.321088</td>\n",
       "      <td>0.749986</td>\n",
       "      <td>0.115179</td>\n",
       "      <td>0.134835</td>\n",
       "      <td>0.357229</td>\n",
       "    </tr>\n",
       "    <tr>\n",
       "      <th>...</th>\n",
       "      <td>...</td>\n",
       "      <td>...</td>\n",
       "      <td>...</td>\n",
       "      <td>...</td>\n",
       "      <td>...</td>\n",
       "      <td>...</td>\n",
       "      <td>...</td>\n",
       "      <td>...</td>\n",
       "      <td>...</td>\n",
       "    </tr>\n",
       "    <tr>\n",
       "      <th>37</th>\n",
       "      <td>0.338804</td>\n",
       "      <td>0.018184</td>\n",
       "      <td>0.854234</td>\n",
       "      <td>37</td>\n",
       "      <td>0.308291</td>\n",
       "      <td>0.206272</td>\n",
       "      <td>0.763702</td>\n",
       "      <td>0.030026</td>\n",
       "      <td>0.341955</td>\n",
       "    </tr>\n",
       "    <tr>\n",
       "      <th>0</th>\n",
       "      <td>0.550115</td>\n",
       "      <td>0.032974</td>\n",
       "      <td>0.758292</td>\n",
       "      <td>0</td>\n",
       "      <td>0.307364</td>\n",
       "      <td>0.139426</td>\n",
       "      <td>0.796023</td>\n",
       "      <td>0.064551</td>\n",
       "      <td>0.340988</td>\n",
       "    </tr>\n",
       "    <tr>\n",
       "      <th>86</th>\n",
       "      <td>0.983071</td>\n",
       "      <td>0.706092</td>\n",
       "      <td>0.711958</td>\n",
       "      <td>86</td>\n",
       "      <td>0.306289</td>\n",
       "      <td>0.024224</td>\n",
       "      <td>0.493757</td>\n",
       "      <td>0.482019</td>\n",
       "      <td>0.339976</td>\n",
       "    </tr>\n",
       "    <tr>\n",
       "      <th>2</th>\n",
       "      <td>0.925510</td>\n",
       "      <td>0.832883</td>\n",
       "      <td>0.367881</td>\n",
       "      <td>2</td>\n",
       "      <td>0.303312</td>\n",
       "      <td>0.061423</td>\n",
       "      <td>0.145098</td>\n",
       "      <td>0.793479</td>\n",
       "      <td>0.336458</td>\n",
       "    </tr>\n",
       "    <tr>\n",
       "      <th>3</th>\n",
       "      <td>0.983845</td>\n",
       "      <td>0.977260</td>\n",
       "      <td>0.407250</td>\n",
       "      <td>3</td>\n",
       "      <td>0.302579</td>\n",
       "      <td>0.017371</td>\n",
       "      <td>0.024533</td>\n",
       "      <td>0.958097</td>\n",
       "      <td>0.335716</td>\n",
       "    </tr>\n",
       "  </tbody>\n",
       "</table>\n",
       "<p>163 rows × 9 columns</p>\n",
       "</div>"
      ],
      "text/plain": [
       "         x_0       x_1       x_2  iteration  RECALL_val    SLIM_w    RP3b_w  \\\n",
       "46  0.306797  0.934627  0.889287         46    0.320836  0.864661  0.049475   \n",
       "21  0.286711  0.842840  0.847009         21    0.321111  0.787542  0.107784   \n",
       "36  0.063830  0.686867  0.729638         36    0.321044  0.799317  0.109116   \n",
       "70  0.050319  0.698360  0.606554         70    0.321052  0.776792  0.093292   \n",
       "19  0.290366  0.827032  0.800658         19    0.321088  0.749986  0.115179   \n",
       "..       ...       ...       ...        ...         ...       ...       ...   \n",
       "37  0.338804  0.018184  0.854234         37    0.308291  0.206272  0.763702   \n",
       "0   0.550115  0.032974  0.758292          0    0.307364  0.139426  0.796023   \n",
       "86  0.983071  0.706092  0.711958         86    0.306289  0.024224  0.493757   \n",
       "2   0.925510  0.832883  0.367881          2    0.303312  0.061423  0.145098   \n",
       "3   0.983845  0.977260  0.407250          3    0.302579  0.017371  0.024533   \n",
       "\n",
       "    ItemKNN_w  RECALL_test  \n",
       "46   0.085865     0.357465  \n",
       "21   0.104674     0.357425  \n",
       "36   0.091567     0.357420  \n",
       "70   0.129916     0.357274  \n",
       "19   0.134835     0.357229  \n",
       "..        ...          ...  \n",
       "37   0.030026     0.341955  \n",
       "0    0.064551     0.340988  \n",
       "86   0.482019     0.339976  \n",
       "2    0.793479     0.336458  \n",
       "3    0.958097     0.335716  \n",
       "\n",
       "[163 rows x 9 columns]"
      ]
     },
     "execution_count": 76,
     "metadata": {},
     "output_type": "execute_result"
    }
   ],
   "source": [
    "results_df.sort_values(\"RECALL_test\", ascending=False)"
   ]
  },
  {
   "cell_type": "code",
   "execution_count": 89,
   "id": "66d15b72-103b-4cce-b67f-9e7166947a19",
   "metadata": {},
   "outputs": [],
   "source": [
    "new_similarityRecall_train = 0.7747783599151299 * SLIM_ElasticRecall_train.W_sparse + 0.10970438576060675 * RP3BetaRecall_train.W_sparse + 0.1155172543242634 * KNNRecall_train.W_sparse\n",
    "candidate_gen_train = ItemKNNCustomSimilarityRecommender(URM_train)\n",
    "candidate_gen_train.fit(new_similarityRecall_train)"
   ]
  },
  {
   "cell_type": "code",
   "execution_count": 90,
   "id": "6fb0642a-4c91-45a4-92c3-154257debdee",
   "metadata": {},
   "outputs": [],
   "source": [
    "new_similarityRecall_train_val = 0.7747783599151299 * SLIM_ElasticRecall_train_val.W_sparse + 0.10970438576060675 * RP3BetaRecall_train_val.W_sparse + 0.1155172543242634 * KNNRecall_train_val.W_sparse\n",
    "candidate_gen_train_val = ItemKNNCustomSimilarityRecommender(URM_train+URM_val)\n",
    "candidate_gen_train_val.fit(new_similarityRecall_train_val)"
   ]
  },
  {
   "cell_type": "code",
   "execution_count": 91,
   "id": "86d1b887-8b73-4eca-94e1-b56b766039b8",
   "metadata": {},
   "outputs": [
    {
     "name": "stdout",
     "output_type": "stream",
     "text": [
      "EvaluatorHoldout: Processed 34728 (100.0%) in 15.39 sec. Users per second: 2256\n",
      "EvaluatorHoldout: Processed 35209 (100.0%) in 16.41 sec. Users per second: 2146\n"
     ]
    }
   ],
   "source": [
    "gen_recall_train_res, _ = evaluator_val.evaluateRecommender(candidate_gen_train)\n",
    "gen_recall_train_val_res, _ = evaluator_test.evaluateRecommender(candidate_gen_train_val)"
   ]
  },
  {
   "cell_type": "code",
   "execution_count": 92,
   "id": "18cb081e-2fdf-4e4c-897f-699b2904b0ed",
   "metadata": {},
   "outputs": [
    {
     "data": {
      "text/plain": [
       "(cutoff\n",
       " 100    0.004534\n",
       " Name: MAP, dtype: object,\n",
       " cutoff\n",
       " 100    0.321244\n",
       " Name: RECALL, dtype: object,\n",
       " cutoff\n",
       " 100    0.00711\n",
       " Name: MAP, dtype: object,\n",
       " cutoff\n",
       " 100    0.357531\n",
       " Name: RECALL, dtype: object)"
      ]
     },
     "execution_count": 92,
     "metadata": {},
     "output_type": "execute_result"
    }
   ],
   "source": [
    "gen_recall_train_res[\"MAP\"], gen_recall_train_res[\"RECALL\"], gen_recall_train_val_res[\"MAP\"], gen_recall_train_val_res[\"RECALL\"]"
   ]
  },
  {
   "cell_type": "markdown",
   "id": "86a2649a-6e1a-4a4c-b84a-caf1867d33d0",
   "metadata": {},
   "source": [
    "# Optuna"
   ]
  },
  {
   "cell_type": "code",
   "execution_count": 81,
   "id": "b27a7f52-f633-4610-bd0f-54e57c7f633b",
   "metadata": {},
   "outputs": [],
   "source": [
    "results_dict={\n",
    "    'Iteration':[],\n",
    "    'SLIM_w':[],\n",
    "    'RP3b_w':[],\n",
    "    'ItemKNN_w':[],\n",
    "    'RECALL_val':[],\n",
    "    'RECALL_test':[],\n",
    "}"
   ]
  },
  {
   "cell_type": "code",
   "execution_count": 82,
   "id": "1541e25c-7277-4457-94a0-c6034fd1cff9",
   "metadata": {},
   "outputs": [],
   "source": [
    "new_best_on_test={\n",
    "    'SLIM_w':0,\n",
    "    'RP3b_w':0,\n",
    "    'ItemKNN_w':0,\n",
    "    'RECALL_test':0\n",
    "}"
   ]
  },
  {
   "cell_type": "code",
   "execution_count": 83,
   "id": "121f3303-ec00-4d16-bd80-a182cb5056a8",
   "metadata": {},
   "outputs": [],
   "source": [
    "improving_treshold=0.70 "
   ]
  },
  {
   "cell_type": "code",
   "execution_count": 84,
   "id": "491a7cb3-c703-4192-b598-2ea3b4cbaa29",
   "metadata": {},
   "outputs": [],
   "source": [
    "def objective_function_weight_hybrid(trial):\n",
    "    cutoff = 100\n",
    "    n = 3  # количество моделей\n",
    "    model_keys = ['SLIM_w', 'RP3b_w', 'ItemKNN_w']\n",
    "    \n",
    "    # Генерация весов через логарифм и нормализацию\n",
    "    x = -np.log([trial.suggest_float(f\"x_{i}\", 0, 1) for i in range(n)])\n",
    "    weights = x / x.sum()\n",
    "    \n",
    "    # Логируем веса и сохраняем их в trial\n",
    "    print(f\"__________Iteration {trial.number}______________\")\n",
    "    for i, key in enumerate(model_keys):\n",
    "        trial.set_user_attr(key, weights[i])  # Сохранение веса в user_attrs\n",
    "        results_dict[key].append(weights[i])\n",
    "        print(f\"{key}: {weights[i]}\")\n",
    "    \n",
    "    # Сохраняем номер итерации\n",
    "    results_dict['Iteration'].append(trial.number)\n",
    "    \n",
    "    # Сбор гибридной матрицы\n",
    "    new_similarity_train = (\n",
    "        weights[0] * SLIM_ElasticRecall_train.W_sparse +\n",
    "        weights[1] * RP3BetaRecall_train.W_sparse +\n",
    "        weights[2] * KNNRecall_train.W_sparse\n",
    "    )\n",
    "    \n",
    "    # Обучение модели на train данных\n",
    "    recommender_object_train = ItemKNNCustomSimilarityRecommender(URM_train)\n",
    "    recommender_object_train.fit(new_similarity_train)\n",
    "    res_on_val, _ = evaluator_val.evaluateRecommender(recommender_object_train)\n",
    "    recall_val = res_on_val['RECALL'][cutoff]\n",
    "    results_dict['RECALL_val'].append(recall_val)\n",
    "    \n",
    "    # Проверка улучшений\n",
    "    if recall_val >= best_on_val * improving_treshold:\n",
    "        # Пересчёт для объединённого train+val\n",
    "        new_similarity_train_val = (\n",
    "            weights[0] * SLIM_ElasticRecall_train_val.W_sparse +\n",
    "            weights[1] * RP3BetaRecall_train_val.W_sparse +\n",
    "            weights[2] * KNNRecall_train_val.W_sparse\n",
    "        )\n",
    "        \n",
    "        recommender_object_train_val = ItemKNNCustomSimilarityRecommender(URM_train + URM_val)\n",
    "        recommender_object_train_val.fit(new_similarity_train_val)\n",
    "        res_on_test, _ = evaluator_test.evaluateRecommender(recommender_object_train_val)\n",
    "        recall_test = res_on_test['RECALL'][cutoff]\n",
    "        results_dict['RECALL_test'].append(recall_test)\n",
    "        \n",
    "        # Проверка улучшений на тесте\n",
    "        if recall_test > new_best_on_test['RECALL_test']:\n",
    "            new_best_on_test.update({\n",
    "                'SLIM_w': weights[0],\n",
    "                'RP3b_w': weights[1],\n",
    "                'ItemKNN_w': weights[2],\n",
    "                'RECALL_test': recall_test\n",
    "            })\n",
    "            print(f\"New best on test found! Score is {recall_test}\")\n",
    "            print(f\"weights: {new_best_on_test}\")\n",
    "    else:\n",
    "        results_dict['RECALL_test'].append(0.0)\n",
    "        recall_test = 0.0\n",
    "\n",
    "    # Сохраняем значения RECALL_test в user_attrs\n",
    "    trial.set_user_attr(\"RECALL_test\", recall_test)\n",
    "    \n",
    "    # Возврат значения для оптимизации\n",
    "    return recall_val"
   ]
  },
  {
   "cell_type": "code",
   "execution_count": 85,
   "id": "76e71115-bc42-40ca-a15c-05dc6cce54f2",
   "metadata": {},
   "outputs": [],
   "source": [
    "class SaveResults(object):\n",
    "    def __init__(self, file_path=None):\n",
    "        self.file_path = file_path\n",
    "        self.results = []\n",
    "    \n",
    "    def __call__(self, optuna_study, optuna_trial):\n",
    "        trial_result = optuna_trial.params.copy()\n",
    "        trial_result[\"iteration\"] = optuna_trial.number\n",
    "        trial_result[\"RECALL_val\"] = optuna_trial.value  # RECALL с валидации\n",
    "        \n",
    "        # Добавляем сохранённые веса и метрики из user_attrs\n",
    "        trial_result[\"SLIM_w\"] = optuna_trial.user_attrs.get(\"SLIM_w\")\n",
    "        trial_result[\"RP3b_w\"] = optuna_trial.user_attrs.get(\"RP3b_w\")\n",
    "        trial_result[\"ItemKNN_w\"] = optuna_trial.user_attrs.get(\"ItemKNN_w\")\n",
    "        trial_result[\"RECALL_test\"] = optuna_trial.user_attrs.get(\"RECALL_test\", 0.0)\n",
    "        \n",
    "        self.results.append(trial_result)\n",
    "        \n",
    "        # Сохраняем результаты в CSV\n",
    "        results_df = pd.DataFrame(self.results)\n",
    "        results_df.to_csv(self.file_path, index=False)"
   ]
  },
  {
   "cell_type": "code",
   "execution_count": 86,
   "id": "13cceee4-ce35-47ed-884b-574086ec4b3a",
   "metadata": {},
   "outputs": [],
   "source": [
    "gen_save_res = SaveResults('result_experiments/ensemble_SLIM_RP3_KNNCFR/recall2_3_01_2025.csv')"
   ]
  },
  {
   "cell_type": "code",
   "execution_count": 87,
   "id": "532fe957-488d-4af9-b979-9c0d2022e73e",
   "metadata": {
    "scrolled": true
   },
   "outputs": [
    {
     "name": "stderr",
     "output_type": "stream",
     "text": [
      "[I 2025-01-03 16:58:39,002] A new study created in memory with name: no-name-8215448c-4d88-445b-9354-6b00e6e22fb3\n"
     ]
    },
    {
     "name": "stdout",
     "output_type": "stream",
     "text": [
      "__________Iteration 0______________\n",
      "SLIM_w: 0.047247060577294095\n",
      "RP3b_w: 0.8210654621703851\n",
      "ItemKNN_w: 0.1316874772523207\n",
      "EvaluatorHoldout: Processed 34728 (100.0%) in 16.00 sec. Users per second: 2171\n",
      "EvaluatorHoldout: Processed 35209 (100.0%) in 16.78 sec. Users per second: 2098\n"
     ]
    },
    {
     "name": "stderr",
     "output_type": "stream",
     "text": [
      "[I 2025-01-03 16:59:11,901] Trial 0 finished with value: 0.3057056160316105 and parameters: {'x_0': 0.9737486712745907, 'x_1': 0.6298372892021245, 'x_2': 0.9285365928939034}. Best is trial 0 with value: 0.3057056160316105.\n"
     ]
    },
    {
     "name": "stdout",
     "output_type": "stream",
     "text": [
      "New best on test found! Score is 0.3388074905737232\n",
      "weights: {'SLIM_w': 0.047247060577294095, 'RP3b_w': 0.8210654621703851, 'ItemKNN_w': 0.1316874772523207, 'RECALL_test': 0.3388074905737232}\n",
      "__________Iteration 1______________\n",
      "SLIM_w: 0.2641317872416238\n",
      "RP3b_w: 0.5198540053960069\n",
      "ItemKNN_w: 0.2160142073623694\n",
      "EvaluatorHoldout: Processed 34728 (100.0%) in 15.94 sec. Users per second: 2178\n",
      "EvaluatorHoldout: Processed 35209 (100.0%) in 17.11 sec. Users per second: 2057\n"
     ]
    },
    {
     "name": "stderr",
     "output_type": "stream",
     "text": [
      "[I 2025-01-03 16:59:45,052] Trial 1 finished with value: 0.311064006759822 and parameters: {'x_0': 0.5611486495367921, 'x_1': 0.3207338780709533, 'x_2': 0.6234319487206639}. Best is trial 1 with value: 0.311064006759822.\n"
     ]
    },
    {
     "name": "stdout",
     "output_type": "stream",
     "text": [
      "New best on test found! Score is 0.3458373460127265\n",
      "weights: {'SLIM_w': 0.2641317872416238, 'RP3b_w': 0.5198540053960069, 'ItemKNN_w': 0.2160142073623694, 'RECALL_test': 0.3458373460127265}\n",
      "__________Iteration 2______________\n",
      "SLIM_w: 0.4408828754875044\n",
      "RP3b_w: 0.18398259392093974\n",
      "ItemKNN_w: 0.3751345305915558\n",
      "EvaluatorHoldout: Processed 34728 (100.0%) in 15.81 sec. Users per second: 2197\n",
      "EvaluatorHoldout: Processed 35209 (100.0%) in 16.63 sec. Users per second: 2117\n"
     ]
    },
    {
     "name": "stderr",
     "output_type": "stream",
     "text": [
      "[I 2025-01-03 17:00:17,588] Trial 2 finished with value: 0.3160529936099964 and parameters: {'x_0': 0.13486973646241107, 'x_1': 0.4334200940988979, 'x_2': 0.18183158953364809}. Best is trial 2 with value: 0.3160529936099964.\n"
     ]
    },
    {
     "name": "stdout",
     "output_type": "stream",
     "text": [
      "New best on test found! Score is 0.35193305590910734\n",
      "weights: {'SLIM_w': 0.4408828754875044, 'RP3b_w': 0.18398259392093974, 'ItemKNN_w': 0.3751345305915558, 'RECALL_test': 0.35193305590910734}\n",
      "__________Iteration 3______________\n",
      "SLIM_w: 0.38894566961270793\n",
      "RP3b_w: 0.32513829529810456\n",
      "ItemKNN_w: 0.2859160350891875\n",
      "EvaluatorHoldout: Processed 34728 (100.0%) in 15.38 sec. Users per second: 2257\n",
      "EvaluatorHoldout: Processed 35209 (100.0%) in 16.76 sec. Users per second: 2101\n"
     ]
    },
    {
     "name": "stderr",
     "output_type": "stream",
     "text": [
      "[I 2025-01-03 17:00:49,824] Trial 3 finished with value: 0.3143708558032144 and parameters: {'x_0': 0.12030709726769107, 'x_1': 0.17028306114156222, 'x_2': 0.21082261406201086}. Best is trial 2 with value: 0.3160529936099964.\n"
     ]
    },
    {
     "name": "stdout",
     "output_type": "stream",
     "text": [
      "__________Iteration 4______________\n",
      "SLIM_w: 0.36535004928684384\n",
      "RP3b_w: 0.1607531312489736\n",
      "ItemKNN_w: 0.4738968194641825\n",
      "EvaluatorHoldout: Processed 34728 (100.0%) in 15.78 sec. Users per second: 2201\n",
      "EvaluatorHoldout: Processed 35209 (100.0%) in 16.94 sec. Users per second: 2079\n"
     ]
    },
    {
     "name": "stderr",
     "output_type": "stream",
     "text": [
      "[I 2025-01-03 17:01:22,636] Trial 4 finished with value: 0.3142297486221755 and parameters: {'x_0': 0.059689802448747, 'x_1': 0.2893337165516179, 'x_2': 0.025835437283029727}. Best is trial 2 with value: 0.3160529936099964.\n"
     ]
    },
    {
     "name": "stdout",
     "output_type": "stream",
     "text": [
      "__________Iteration 5______________\n",
      "SLIM_w: 0.1333616803844439\n",
      "RP3b_w: 0.805695682533124\n",
      "ItemKNN_w: 0.06094263708243215\n",
      "EvaluatorHoldout: Processed 34728 (100.0%) in 15.67 sec. Users per second: 2217\n",
      "EvaluatorHoldout: Processed 35209 (100.0%) in 17.34 sec. Users per second: 2030\n"
     ]
    },
    {
     "name": "stderr",
     "output_type": "stream",
     "text": [
      "[I 2025-01-03 17:01:55,738] Trial 5 finished with value: 0.30713680139052546 and parameters: {'x_0': 0.6289771294977898, 'x_1': 0.06073876037195036, 'x_2': 0.8090616965672257}. Best is trial 2 with value: 0.3160529936099964.\n"
     ]
    },
    {
     "name": "stdout",
     "output_type": "stream",
     "text": [
      "__________Iteration 6______________\n",
      "SLIM_w: 0.4459033909714076\n",
      "RP3b_w: 0.0020590759619539536\n",
      "ItemKNN_w: 0.5520375330666385\n",
      "EvaluatorHoldout: Processed 34728 (100.0%) in 16.30 sec. Users per second: 2130\n",
      "EvaluatorHoldout: Processed 35209 (100.0%) in 16.96 sec. Users per second: 2076\n"
     ]
    },
    {
     "name": "stderr",
     "output_type": "stream",
     "text": [
      "[I 2025-01-03 17:02:29,090] Trial 6 finished with value: 0.3142025261308184 and parameters: {'x_0': 0.81733876331022, 'x_1': 0.9990690234160584, 'x_2': 0.7790260864948988}. Best is trial 2 with value: 0.3160529936099964.\n"
     ]
    },
    {
     "name": "stdout",
     "output_type": "stream",
     "text": [
      "__________Iteration 7______________\n",
      "SLIM_w: 0.6973383094015129\n",
      "RP3b_w: 0.30134526338715784\n",
      "ItemKNN_w: 0.0013164272113293366\n",
      "EvaluatorHoldout: Processed 34728 (100.0%) in 15.89 sec. Users per second: 2186\n",
      "EvaluatorHoldout: Processed 35209 (100.0%) in 17.14 sec. Users per second: 2055\n"
     ]
    },
    {
     "name": "stderr",
     "output_type": "stream",
     "text": [
      "[I 2025-01-03 17:03:02,207] Trial 7 finished with value: 0.3186515109715197 and parameters: {'x_0': 0.22857531168505185, 'x_1': 0.5284613636328784, 'x_2': 0.9972177105401778}. Best is trial 7 with value: 0.3186515109715197.\n"
     ]
    },
    {
     "name": "stdout",
     "output_type": "stream",
     "text": [
      "New best on test found! Score is 0.3541552014434941\n",
      "weights: {'SLIM_w': 0.6973383094015129, 'RP3b_w': 0.30134526338715784, 'ItemKNN_w': 0.0013164272113293366, 'RECALL_test': 0.3541552014434941}\n",
      "__________Iteration 8______________\n",
      "SLIM_w: 0.16018142356230786\n",
      "RP3b_w: 0.46965752749535306\n",
      "ItemKNN_w: 0.3701610489423391\n",
      "EvaluatorHoldout: Processed 34728 (100.0%) in 16.07 sec. Users per second: 2161\n",
      "EvaluatorHoldout: Processed 35209 (100.0%) in 17.21 sec. Users per second: 2046\n"
     ]
    },
    {
     "name": "stderr",
     "output_type": "stream",
     "text": [
      "[I 2025-01-03 17:03:35,590] Trial 8 finished with value: 0.30936772545465835 and parameters: {'x_0': 0.6267213120547876, 'x_1': 0.25410618760995407, 'x_2': 0.3396738924979986}. Best is trial 7 with value: 0.3186515109715197.\n"
     ]
    },
    {
     "name": "stdout",
     "output_type": "stream",
     "text": [
      "__________Iteration 9______________\n",
      "SLIM_w: 0.4874506907323421\n",
      "RP3b_w: 0.06095756096082828\n",
      "ItemKNN_w: 0.45159174830682963\n",
      "EvaluatorHoldout: Processed 34728 (100.0%) in 16.22 sec. Users per second: 2140\n",
      "EvaluatorHoldout: Processed 35209 (100.0%) in 17.77 sec. Users per second: 1981\n"
     ]
    },
    {
     "name": "stderr",
     "output_type": "stream",
     "text": [
      "[I 2025-01-03 17:04:09,683] Trial 9 finished with value: 0.31662661264360226 and parameters: {'x_0': 0.06299153528936774, 'x_1': 0.7076942649038727, 'x_2': 0.07719907441594487}. Best is trial 7 with value: 0.3186515109715197.\n"
     ]
    },
    {
     "name": "stdout",
     "output_type": "stream",
     "text": [
      "__________Iteration 10______________\n",
      "SLIM_w: 0.5618452437258791\n",
      "RP3b_w: 0.1500159859476636\n",
      "ItemKNN_w: 0.2881387703264573\n",
      "EvaluatorHoldout: Processed 34728 (100.0%) in 16.38 sec. Users per second: 2121\n",
      "EvaluatorHoldout: Processed 35209 (100.0%) in 17.52 sec. Users per second: 2010\n"
     ]
    },
    {
     "name": "stderr",
     "output_type": "stream",
     "text": [
      "[I 2025-01-03 17:04:43,675] Trial 10 finished with value: 0.3189881738226302 and parameters: {'x_0': 0.3199045395929635, 'x_1': 0.7376282398011859, 'x_2': 0.5573818883206297}. Best is trial 10 with value: 0.3189881738226302.\n"
     ]
    },
    {
     "name": "stdout",
     "output_type": "stream",
     "text": [
      "New best on test found! Score is 0.35487721250907445\n",
      "weights: {'SLIM_w': 0.5618452437258791, 'RP3b_w': 0.1500159859476636, 'ItemKNN_w': 0.2881387703264573, 'RECALL_test': 0.35487721250907445}\n",
      "__________Iteration 11______________\n",
      "SLIM_w: 0.5579441880545603\n",
      "RP3b_w: 0.09320305075868016\n",
      "ItemKNN_w: 0.3488527611867596\n",
      "EvaluatorHoldout: Processed 34728 (100.0%) in 16.74 sec. Users per second: 2075\n",
      "EvaluatorHoldout: Processed 35209 (100.0%) in 17.58 sec. Users per second: 2002\n"
     ]
    },
    {
     "name": "stderr",
     "output_type": "stream",
     "text": [
      "[I 2025-01-03 17:05:18,105] Trial 11 finished with value: 0.31844073362441483 and parameters: {'x_0': 0.33147770139045657, 'x_1': 0.8315592624491328, 'x_2': 0.5013784301697259}. Best is trial 10 with value: 0.3189881738226302.\n"
     ]
    },
    {
     "name": "stdout",
     "output_type": "stream",
     "text": [
      "__________Iteration 12______________\n",
      "SLIM_w: 0.5080652858728236\n",
      "RP3b_w: 0.25717407331020936\n",
      "ItemKNN_w: 0.23476064081696704\n",
      "EvaluatorHoldout: Processed 34728 (100.0%) in 15.93 sec. Users per second: 2181\n",
      "EvaluatorHoldout: Processed 35209 (100.0%) in 17.69 sec. Users per second: 1990\n"
     ]
    },
    {
     "name": "stderr",
     "output_type": "stream",
     "text": [
      "[I 2025-01-03 17:05:51,823] Trial 12 finished with value: 0.3174665462752803 and parameters: {'x_0': 0.3418520100942403, 'x_1': 0.5808135406406745, 'x_2': 0.6089779734986807}. Best is trial 10 with value: 0.3189881738226302.\n"
     ]
    },
    {
     "name": "stdout",
     "output_type": "stream",
     "text": [
      "__________Iteration 13______________\n",
      "SLIM_w: 0.8332576260624653\n",
      "RP3b_w: 0.16197936252184947\n",
      "ItemKNN_w: 0.004763011415685155\n",
      "EvaluatorHoldout: Processed 34728 (100.0%) in 16.24 sec. Users per second: 2139\n",
      "EvaluatorHoldout: Processed 35209 (100.0%) in 16.89 sec. Users per second: 2085\n"
     ]
    },
    {
     "name": "stderr",
     "output_type": "stream",
     "text": [
      "[I 2025-01-03 17:06:25,044] Trial 13 finished with value: 0.3206652502696044 and parameters: {'x_0': 0.34021515429383437, 'x_1': 0.8109166865731279, 'x_2': 0.9938559489063095}. Best is trial 13 with value: 0.3206652502696044.\n"
     ]
    },
    {
     "name": "stdout",
     "output_type": "stream",
     "text": [
      "New best on test found! Score is 0.3567308225874215\n",
      "weights: {'SLIM_w': 0.8332576260624653, 'RP3b_w': 0.16197936252184947, 'ItemKNN_w': 0.004763011415685155, 'RECALL_test': 0.3567308225874215}\n",
      "__________Iteration 14______________\n",
      "SLIM_w: 0.4724370456451513\n",
      "RP3b_w: 0.0877967467378311\n",
      "ItemKNN_w: 0.4397662076170177\n",
      "EvaluatorHoldout: Processed 34728 (100.0%) in 15.72 sec. Users per second: 2210\n",
      "EvaluatorHoldout: Processed 35209 (100.0%) in 17.19 sec. Users per second: 2048\n"
     ]
    },
    {
     "name": "stderr",
     "output_type": "stream",
     "text": [
      "[I 2025-01-03 17:06:58,044] Trial 14 finished with value: 0.3167653881456236 and parameters: {'x_0': 0.3396402500751021, 'x_1': 0.8181737583205306, 'x_2': 0.36597463022395604}. Best is trial 13 with value: 0.3206652502696044.\n"
     ]
    },
    {
     "name": "stdout",
     "output_type": "stream",
     "text": [
      "__________Iteration 15______________\n",
      "SLIM_w: 0.7086622164940144\n",
      "RP3b_w: 0.04345107171497265\n",
      "ItemKNN_w: 0.24788671179101304\n",
      "EvaluatorHoldout: Processed 34728 (100.0%) in 15.72 sec. Users per second: 2209\n",
      "EvaluatorHoldout: Processed 35209 (100.0%) in 16.79 sec. Users per second: 2098\n"
     ]
    },
    {
     "name": "stderr",
     "output_type": "stream",
     "text": [
      "[I 2025-01-03 17:07:30,644] Trial 15 finished with value: 0.32003954512842214 and parameters: {'x_0': 0.4681618562037938, 'x_1': 0.954532212653415, 'x_2': 0.7668423325657572}. Best is trial 13 with value: 0.3206652502696044.\n"
     ]
    },
    {
     "name": "stdout",
     "output_type": "stream",
     "text": [
      "__________Iteration 16______________\n",
      "SLIM_w: 0.7767280536061831\n",
      "RP3b_w: 0.03068963500052861\n",
      "ItemKNN_w: 0.19258231139328816\n",
      "EvaluatorHoldout: Processed 34728 (100.0%) in 15.71 sec. Users per second: 2210\n",
      "EvaluatorHoldout: Processed 35209 (100.0%) in 16.86 sec. Users per second: 2089\n"
     ]
    },
    {
     "name": "stderr",
     "output_type": "stream",
     "text": [
      "[I 2025-01-03 17:08:03,301] Trial 16 finished with value: 0.3206213891240589 and parameters: {'x_0': 0.46452222090696627, 'x_1': 0.9701590758576957, 'x_2': 0.8268703832098414}. Best is trial 13 with value: 0.3206652502696044.\n"
     ]
    },
    {
     "name": "stdout",
     "output_type": "stream",
     "text": [
      "New best on test found! Score is 0.35677221897356026\n",
      "weights: {'SLIM_w': 0.7767280536061831, 'RP3b_w': 0.03068963500052861, 'ItemKNN_w': 0.19258231139328816, 'RECALL_test': 0.35677221897356026}\n",
      "__________Iteration 17______________\n",
      "SLIM_w: 0.7232412873236136\n",
      "RP3b_w: 0.1460686658416514\n",
      "ItemKNN_w: 0.130690046834735\n",
      "EvaluatorHoldout: Processed 34728 (100.0%) in 15.73 sec. Users per second: 2208\n",
      "EvaluatorHoldout: Processed 35209 (100.0%) in 17.00 sec. Users per second: 2071\n"
     ]
    },
    {
     "name": "stderr",
     "output_type": "stream",
     "text": [
      "[I 2025-01-03 17:08:36,140] Trial 17 finished with value: 0.32078024895289664 and parameters: {'x_0': 0.5097340476763812, 'x_1': 0.8727582579261283, 'x_2': 0.88535380120444}. Best is trial 17 with value: 0.32078024895289664.\n"
     ]
    },
    {
     "name": "stdout",
     "output_type": "stream",
     "text": [
      "New best on test found! Score is 0.3569752401716653\n",
      "weights: {'SLIM_w': 0.7232412873236136, 'RP3b_w': 0.1460686658416514, 'ItemKNN_w': 0.130690046834735, 'RECALL_test': 0.3569752401716653}\n",
      "__________Iteration 18______________\n",
      "SLIM_w: 0.5328779890289755\n",
      "RP3b_w: 0.2990206730585329\n",
      "ItemKNN_w: 0.1681013379124915\n",
      "EvaluatorHoldout: Processed 34728 (100.0%) in 15.73 sec. Users per second: 2208\n",
      "EvaluatorHoldout: Processed 35209 (100.0%) in 16.92 sec. Users per second: 2081\n"
     ]
    },
    {
     "name": "stderr",
     "output_type": "stream",
     "text": [
      "[I 2025-01-03 17:09:08,887] Trial 18 finished with value: 0.31736231421393 and parameters: {'x_0': 0.7391318669754845, 'x_1': 0.8439840671050433, 'x_2': 0.9090486075140959}. Best is trial 17 with value: 0.32078024895289664.\n"
     ]
    },
    {
     "name": "stdout",
     "output_type": "stream",
     "text": [
      "__________Iteration 19______________\n",
      "SLIM_w: 0.5182228641935167\n",
      "RP3b_w: 0.24938529926670147\n",
      "ItemKNN_w: 0.23239183653978168\n",
      "EvaluatorHoldout: Processed 34728 (100.0%) in 15.64 sec. Users per second: 2220\n",
      "EvaluatorHoldout: Processed 35209 (100.0%) in 17.17 sec. Users per second: 2050\n"
     ]
    },
    {
     "name": "stderr",
     "output_type": "stream",
     "text": [
      "[I 2025-01-03 17:09:41,796] Trial 19 finished with value: 0.3176342945410367 and parameters: {'x_0': 0.46013940389386443, 'x_1': 0.6882903585339432, 'x_2': 0.7060348688716498}. Best is trial 17 with value: 0.32078024895289664.\n"
     ]
    },
    {
     "name": "stdout",
     "output_type": "stream",
     "text": [
      "__________Iteration 20______________\n",
      "SLIM_w: 0.2641317135364424\n",
      "RP3b_w: 0.7351946402975611\n",
      "ItemKNN_w: 0.0006736461659963217\n",
      "EvaluatorHoldout: Processed 34728 (100.0%) in 16.31 sec. Users per second: 2130\n",
      "EvaluatorHoldout: Processed 35209 (100.0%) in 17.44 sec. Users per second: 2019\n"
     ]
    },
    {
     "name": "stderr",
     "output_type": "stream",
     "text": [
      "[I 2025-01-03 17:10:15,643] Trial 20 finished with value: 0.3088803178919175 and parameters: {'x_0': 0.7579013684437448, 'x_1': 0.4622843714736992, 'x_2': 0.9992932689401138}. Best is trial 17 with value: 0.32078024895289664.\n"
     ]
    },
    {
     "name": "stdout",
     "output_type": "stream",
     "text": [
      "__________Iteration 21______________\n",
      "SLIM_w: 0.7860112097990598\n",
      "RP3b_w: 0.08325157626562618\n",
      "ItemKNN_w: 0.13073721393531412\n",
      "EvaluatorHoldout: Processed 34728 (100.0%) in 15.90 sec. Users per second: 2184\n",
      "EvaluatorHoldout: Processed 35209 (100.0%) in 16.85 sec. Users per second: 2090\n"
     ]
    },
    {
     "name": "stderr",
     "output_type": "stream",
     "text": [
      "[I 2025-01-03 17:10:48,486] Trial 21 finished with value: 0.3212234368143752 and parameters: {'x_0': 0.4408595102488315, 'x_1': 0.9169074777002701, 'x_2': 0.8726427169222772}. Best is trial 21 with value: 0.3212234368143752.\n"
     ]
    },
    {
     "name": "stdout",
     "output_type": "stream",
     "text": [
      "New best on test found! Score is 0.3572068462495955\n",
      "weights: {'SLIM_w': 0.7860112097990598, 'RP3b_w': 0.08325157626562618, 'ItemKNN_w': 0.13073721393531412, 'RECALL_test': 0.3572068462495955}\n",
      "__________Iteration 22______________\n",
      "SLIM_w: 0.7008756689981257\n",
      "RP3b_w: 0.15345860778508863\n",
      "ItemKNN_w: 0.14566572321678567\n",
      "EvaluatorHoldout: Processed 34728 (100.0%) in 15.85 sec. Users per second: 2190\n",
      "EvaluatorHoldout: Processed 35209 (100.0%) in 17.34 sec. Users per second: 2031\n"
     ]
    },
    {
     "name": "stderr",
     "output_type": "stream",
     "text": [
      "[I 2025-01-03 17:11:21,783] Trial 22 finished with value: 0.320838984209678 and parameters: {'x_0': 0.5574445575320919, 'x_1': 0.8798936367626742, 'x_2': 0.8856295635194801}. Best is trial 21 with value: 0.3212234368143752.\n"
     ]
    },
    {
     "name": "stdout",
     "output_type": "stream",
     "text": [
      "__________Iteration 23______________\n",
      "SLIM_w: 0.7044554111420326\n",
      "RP3b_w: 0.14163770334273443\n",
      "ItemKNN_w: 0.1539068855152329\n",
      "EvaluatorHoldout: Processed 34728 (100.0%) in 16.45 sec. Users per second: 2111\n",
      "EvaluatorHoldout: Processed 35209 (100.0%) in 17.45 sec. Users per second: 2018\n"
     ]
    },
    {
     "name": "stderr",
     "output_type": "stream",
     "text": [
      "[I 2025-01-03 17:11:55,785] Trial 23 finished with value: 0.32087627283379794 and parameters: {'x_0': 0.5612081698192511, 'x_1': 0.8903461899084432, 'x_2': 0.8814334142252241}. Best is trial 21 with value: 0.3212234368143752.\n"
     ]
    },
    {
     "name": "stdout",
     "output_type": "stream",
     "text": [
      "__________Iteration 24______________\n",
      "SLIM_w: 0.4995335019979467\n",
      "RP3b_w: 0.1255583939408175\n",
      "ItemKNN_w: 0.37490810406123576\n",
      "EvaluatorHoldout: Processed 34728 (100.0%) in 16.35 sec. Users per second: 2124\n",
      "EvaluatorHoldout: Processed 35209 (100.0%) in 17.09 sec. Users per second: 2060\n"
     ]
    },
    {
     "name": "stderr",
     "output_type": "stream",
     "text": [
      "[I 2025-01-03 17:12:29,329] Trial 24 finished with value: 0.3177597395343327 and parameters: {'x_0': 0.644371331991503, 'x_1': 0.8954186563792721, 'x_2': 0.719040890730603}. Best is trial 21 with value: 0.3212234368143752.\n"
     ]
    },
    {
     "name": "stdout",
     "output_type": "stream",
     "text": [
      "__________Iteration 25______________\n",
      "SLIM_w: 0.5932246832208559\n",
      "RP3b_w: 0.2540944048295213\n",
      "ItemKNN_w: 0.15268091194962283\n",
      "EvaluatorHoldout: Processed 34728 (100.0%) in 15.69 sec. Users per second: 2213\n",
      "EvaluatorHoldout: Processed 35209 (100.0%) in 17.27 sec. Users per second: 2038\n"
     ]
    },
    {
     "name": "stderr",
     "output_type": "stream",
     "text": [
      "[I 2025-01-03 17:13:02,400] Trial 25 finished with value: 0.3185775589948236 and parameters: {'x_0': 0.5455008625062535, 'x_1': 0.7713691531549057, 'x_2': 0.8555745466891181}. Best is trial 21 with value: 0.3212234368143752.\n"
     ]
    },
    {
     "name": "stdout",
     "output_type": "stream",
     "text": [
      "__________Iteration 26______________\n",
      "SLIM_w: 0.6424365810816279\n",
      "RP3b_w: 0.06290910941385629\n",
      "ItemKNN_w: 0.2946543095045157\n",
      "EvaluatorHoldout: Processed 34728 (100.0%) in 16.06 sec. Users per second: 2162\n",
      "EvaluatorHoldout: Processed 35209 (100.0%) in 17.39 sec. Users per second: 2025\n"
     ]
    },
    {
     "name": "stderr",
     "output_type": "stream",
     "text": [
      "[I 2025-01-03 17:13:35,944] Trial 26 finished with value: 0.31959834012980215 and parameters: {'x_0': 0.4122533029721388, 'x_1': 0.9168870587791985, 'x_2': 0.6660311975069769}. Best is trial 21 with value: 0.3212234368143752.\n"
     ]
    },
    {
     "name": "stdout",
     "output_type": "stream",
     "text": [
      "__________Iteration 27______________\n",
      "SLIM_w: 0.20596554312556947\n",
      "RP3b_w: 0.28019257420226457\n",
      "ItemKNN_w: 0.5138418826721659\n",
      "EvaluatorHoldout: Processed 34728 (100.0%) in 16.35 sec. Users per second: 2124\n",
      "EvaluatorHoldout: Processed 35209 (100.0%) in 17.48 sec. Users per second: 2014\n"
     ]
    },
    {
     "name": "stderr",
     "output_type": "stream",
     "text": [
      "[I 2025-01-03 17:14:09,895] Trial 27 finished with value: 0.30896386190209996 and parameters: {'x_0': 0.7216469105506303, 'x_1': 0.6416039495003368, 'x_2': 0.4431484753459868}. Best is trial 21 with value: 0.3212234368143752.\n"
     ]
    },
    {
     "name": "stdout",
     "output_type": "stream",
     "text": [
      "__________Iteration 28______________\n",
      "SLIM_w: 0.25111620413254176\n",
      "RP3b_w: 0.1469061542418052\n",
      "ItemKNN_w: 0.601977641625653\n",
      "EvaluatorHoldout: Processed 34728 (100.0%) in 16.14 sec. Users per second: 2152\n",
      "EvaluatorHoldout: Processed 35209 (100.0%) in 17.53 sec. Users per second: 2008\n"
     ]
    },
    {
     "name": "stderr",
     "output_type": "stream",
     "text": [
      "[I 2025-01-03 17:14:43,670] Trial 28 finished with value: 0.31023837202790905 and parameters: {'x_0': 0.8870330338138879, 'x_1': 0.9322751777113718, 'x_2': 0.7502411551494386}. Best is trial 21 with value: 0.3212234368143752.\n"
     ]
    },
    {
     "name": "stdout",
     "output_type": "stream",
     "text": [
      "__________Iteration 29______________\n",
      "SLIM_w: 0.09188374803658088\n",
      "RP3b_w: 0.7759418457933438\n",
      "ItemKNN_w: 0.1321744061700752\n",
      "EvaluatorHoldout: Processed 34728 (100.0%) in 16.38 sec. Users per second: 2121\n",
      "EvaluatorHoldout: Processed 35209 (100.0%) in 16.97 sec. Users per second: 2075\n"
     ]
    },
    {
     "name": "stderr",
     "output_type": "stream",
     "text": [
      "[I 2025-01-03 17:15:17,122] Trial 29 finished with value: 0.3071134440176351 and parameters: {'x_0': 0.9447978744455685, 'x_1': 0.6190724503373195, 'x_2': 0.9215631840226529}. Best is trial 21 with value: 0.3212234368143752.\n"
     ]
    },
    {
     "name": "stdout",
     "output_type": "stream",
     "text": [
      "__________Iteration 30______________\n",
      "SLIM_w: 0.785857641129354\n",
      "RP3b_w: 0.13196279616643408\n",
      "ItemKNN_w: 0.08217956270421205\n",
      "EvaluatorHoldout: Processed 34728 (100.0%) in 15.68 sec. Users per second: 2215\n",
      "EvaluatorHoldout: Processed 35209 (100.0%) in 16.80 sec. Users per second: 2096\n"
     ]
    },
    {
     "name": "stderr",
     "output_type": "stream",
     "text": [
      "[I 2025-01-03 17:15:49,689] Trial 30 finished with value: 0.32107377387452724 and parameters: {'x_0': 0.227291688717241, 'x_1': 0.7797514950543013, 'x_2': 0.85647749043022}. Best is trial 21 with value: 0.3212234368143752.\n"
     ]
    },
    {
     "name": "stdout",
     "output_type": "stream",
     "text": [
      "__________Iteration 31______________\n",
      "SLIM_w: 0.775940520520841\n",
      "RP3b_w: 0.14190419880604924\n",
      "ItemKNN_w: 0.08215528067310984\n",
      "EvaluatorHoldout: Processed 34728 (100.0%) in 15.66 sec. Users per second: 2217\n",
      "EvaluatorHoldout: Processed 35209 (100.0%) in 17.03 sec. Users per second: 2067\n"
     ]
    },
    {
     "name": "stderr",
     "output_type": "stream",
     "text": [
      "[I 2025-01-03 17:16:22,479] Trial 31 finished with value: 0.32108054378804246 and parameters: {'x_0': 0.23754999448497205, 'x_1': 0.7688434536497577, 'x_2': 0.8588275927714718}. Best is trial 21 with value: 0.3212234368143752.\n"
     ]
    },
    {
     "name": "stdout",
     "output_type": "stream",
     "text": [
      "__________Iteration 32______________\n",
      "SLIM_w: 0.8112386098216406\n",
      "RP3b_w: 0.15030915261337482\n",
      "ItemKNN_w: 0.03845223756498461\n",
      "EvaluatorHoldout: Processed 34728 (100.0%) in 16.41 sec. Users per second: 2117\n",
      "EvaluatorHoldout: Processed 35209 (100.0%) in 17.29 sec. Users per second: 2037\n"
     ]
    },
    {
     "name": "stderr",
     "output_type": "stream",
     "text": [
      "[I 2025-01-03 17:16:56,276] Trial 32 finished with value: 0.32095010000243784 and parameters: {'x_0': 0.25013346000736675, 'x_1': 0.7735549070420744, 'x_2': 0.9364264959153001}. Best is trial 21 with value: 0.3212234368143752.\n"
     ]
    },
    {
     "name": "stdout",
     "output_type": "stream",
     "text": [
      "__________Iteration 33______________\n",
      "SLIM_w: 0.8139281006548129\n",
      "RP3b_w: 0.15522553214374632\n",
      "ItemKNN_w: 0.030846367201440794\n",
      "EvaluatorHoldout: Processed 34728 (100.0%) in 16.64 sec. Users per second: 2088\n",
      "EvaluatorHoldout: Processed 35209 (100.0%) in 17.50 sec. Users per second: 2012\n"
     ]
    },
    {
     "name": "stderr",
     "output_type": "stream",
     "text": [
      "[I 2025-01-03 17:17:30,520] Trial 33 finished with value: 0.3208511593457609 and parameters: {'x_0': 0.24304388597990337, 'x_1': 0.763559605615214, 'x_2': 0.9478041112182195}. Best is trial 21 with value: 0.3212234368143752.\n"
     ]
    },
    {
     "name": "stdout",
     "output_type": "stream",
     "text": [
      "__________Iteration 34______________\n",
      "SLIM_w: 0.6514800013106906\n",
      "RP3b_w: 0.2566855003646832\n",
      "ItemKNN_w: 0.091834498324626\n",
      "EvaluatorHoldout: Processed 34728 (100.0%) in 16.05 sec. Users per second: 2164\n",
      "EvaluatorHoldout: Processed 35209 (100.0%) in 17.22 sec. Users per second: 2045\n"
     ]
    },
    {
     "name": "stderr",
     "output_type": "stream",
     "text": [
      "[I 2025-01-03 17:18:03,883] Trial 34 finished with value: 0.31902950637437 and parameters: {'x_0': 0.2324214975769446, 'x_1': 0.5627435750978483, 'x_2': 0.8140826151024101}. Best is trial 21 with value: 0.3212234368143752.\n"
     ]
    },
    {
     "name": "stdout",
     "output_type": "stream",
     "text": [
      "__________Iteration 35______________\n",
      "SLIM_w: 0.5715068687287179\n",
      "RP3b_w: 0.2951357249076847\n",
      "ItemKNN_w: 0.13335740636359733\n",
      "EvaluatorHoldout: Processed 34728 (100.0%) in 16.19 sec. Users per second: 2145\n",
      "EvaluatorHoldout: Processed 35209 (100.0%) in 17.24 sec. Users per second: 2042\n"
     ]
    },
    {
     "name": "stderr",
     "output_type": "stream",
     "text": [
      "[I 2025-01-03 17:18:37,409] Trial 35 finished with value: 0.3180851064811607 and parameters: {'x_0': 0.15819277721916813, 'x_1': 0.38587493159207914, 'x_2': 0.6503324421289451}. Best is trial 21 with value: 0.3212234368143752.\n"
     ]
    },
    {
     "name": "stdout",
     "output_type": "stream",
     "text": [
      "__________Iteration 36______________\n",
      "SLIM_w: 0.7955739989644465\n",
      "RP3b_w: 0.1801406178818106\n",
      "ItemKNN_w: 0.024285383153742898\n",
      "EvaluatorHoldout: Processed 34728 (100.0%) in 15.95 sec. Users per second: 2177\n",
      "EvaluatorHoldout: Processed 35209 (100.0%) in 16.73 sec. Users per second: 2104\n"
     ]
    },
    {
     "name": "stderr",
     "output_type": "stream",
     "text": [
      "[I 2025-01-03 17:19:10,190] Trial 36 finished with value: 0.320728152226724 and parameters: {'x_0': 0.16619268414200605, 'x_1': 0.6660768370150518, 'x_2': 0.9466919874514751}. Best is trial 21 with value: 0.3212234368143752.\n"
     ]
    },
    {
     "name": "stdout",
     "output_type": "stream",
     "text": [
      "__________Iteration 37______________\n",
      "SLIM_w: 0.8626835445716273\n",
      "RP3b_w: 0.059379792684771636\n",
      "ItemKNN_w: 0.0779366627436011\n",
      "EvaluatorHoldout: Processed 34728 (100.0%) in 15.72 sec. Users per second: 2210\n",
      "EvaluatorHoldout: Processed 35209 (100.0%) in 16.70 sec. Users per second: 2109\n"
     ]
    },
    {
     "name": "stderr",
     "output_type": "stream",
     "text": [
      "[I 2025-01-03 17:19:42,696] Trial 37 finished with value: 0.320959356233128 and parameters: {'x_0': 0.02338814201728165, 'x_1': 0.7722102241314428, 'x_2': 0.7122814124192207}. Best is trial 21 with value: 0.3212234368143752.\n"
     ]
    },
    {
     "name": "stdout",
     "output_type": "stream",
     "text": [
      "New best on test found! Score is 0.35747650529487485\n",
      "weights: {'SLIM_w': 0.8626835445716273, 'RP3b_w': 0.059379792684771636, 'ItemKNN_w': 0.0779366627436011, 'RECALL_test': 0.35747650529487485}\n",
      "__________Iteration 38______________\n",
      "SLIM_w: 0.8813757259614137\n",
      "RP3b_w: 0.04506562062648101\n",
      "ItemKNN_w: 0.0735586534121053\n",
      "EvaluatorHoldout: Processed 34728 (100.0%) in 15.67 sec. Users per second: 2216\n",
      "EvaluatorHoldout: Processed 35209 (100.0%) in 16.76 sec. Users per second: 2101\n"
     ]
    },
    {
     "name": "stderr",
     "output_type": "stream",
     "text": [
      "[I 2025-01-03 17:20:15,226] Trial 38 finished with value: 0.3208537978718166 and parameters: {'x_0': 0.001595031180560813, 'x_1': 0.7194072263567831, 'x_2': 0.5841793177072873}. Best is trial 21 with value: 0.3212234368143752.\n"
     ]
    },
    {
     "name": "stdout",
     "output_type": "stream",
     "text": [
      "__________Iteration 39______________\n",
      "SLIM_w: 0.46428433719093426\n",
      "RP3b_w: 0.5006972600051536\n",
      "ItemKNN_w: 0.035018402803912205\n",
      "EvaluatorHoldout: Processed 34728 (100.0%) in 15.59 sec. Users per second: 2228\n",
      "EvaluatorHoldout: Processed 35209 (100.0%) in 16.93 sec. Users per second: 2080\n"
     ]
    },
    {
     "name": "stderr",
     "output_type": "stream",
     "text": [
      "[I 2025-01-03 17:20:47,837] Trial 39 finished with value: 0.3138285290561981 and parameters: {'x_0': 0.07434170753162725, 'x_1': 0.06063250093695993, 'x_2': 0.8219838888482653}. Best is trial 21 with value: 0.3212234368143752.\n"
     ]
    },
    {
     "name": "stdout",
     "output_type": "stream",
     "text": [
      "__________Iteration 40______________\n",
      "SLIM_w: 0.8516866661025662\n",
      "RP3b_w: 0.002771628251909372\n",
      "ItemKNN_w: 0.1455417056455244\n",
      "EvaluatorHoldout: Processed 34728 (100.0%) in 16.00 sec. Users per second: 2170\n",
      "EvaluatorHoldout: Processed 35209 (100.0%) in 17.40 sec. Users per second: 2024\n"
     ]
    },
    {
     "name": "stderr",
     "output_type": "stream",
     "text": [
      "[I 2025-01-03 17:21:21,335] Trial 40 finished with value: 0.32067014135184796 and parameters: {'x_0': 0.11799992389425923, 'x_1': 0.993069495665435, 'x_2': 0.6940602444874241}. Best is trial 21 with value: 0.3212234368143752.\n"
     ]
    },
    {
     "name": "stdout",
     "output_type": "stream",
     "text": [
      "__________Iteration 41______________\n",
      "SLIM_w: 0.7545750683550824\n",
      "RP3b_w: 0.11970160669130989\n",
      "ItemKNN_w: 0.1257233249536078\n",
      "EvaluatorHoldout: Processed 34728 (100.0%) in 15.71 sec. Users per second: 2210\n",
      "EvaluatorHoldout: Processed 35209 (100.0%) in 16.67 sec. Users per second: 2112\n"
     ]
    },
    {
     "name": "stderr",
     "output_type": "stream",
     "text": [
      "[I 2025-01-03 17:21:53,823] Trial 41 finished with value: 0.32104606869767394 and parameters: {'x_0': 0.20173863381692655, 'x_1': 0.7757389393914947, 'x_2': 0.7658921462501648}. Best is trial 21 with value: 0.3212234368143752.\n"
     ]
    },
    {
     "name": "stdout",
     "output_type": "stream",
     "text": [
      "__________Iteration 42______________\n",
      "SLIM_w: 0.7747783599151299\n",
      "RP3b_w: 0.10970438576060675\n",
      "ItemKNN_w: 0.1155172543242634\n",
      "EvaluatorHoldout: Processed 34728 (100.0%) in 15.70 sec. Users per second: 2213\n",
      "EvaluatorHoldout: Processed 35209 (100.0%) in 16.71 sec. Users per second: 2107\n"
     ]
    },
    {
     "name": "stderr",
     "output_type": "stream",
     "text": [
      "[I 2025-01-03 17:22:26,326] Trial 42 finished with value: 0.3212441005890537 and parameters: {'x_0': 0.1870017754664608, 'x_1': 0.7886736495401522, 'x_2': 0.7788149241041705}. Best is trial 42 with value: 0.3212441005890537.\n"
     ]
    },
    {
     "name": "stdout",
     "output_type": "stream",
     "text": [
      "New best on test found! Score is 0.3575305308110468\n",
      "weights: {'SLIM_w': 0.7747783599151299, 'RP3b_w': 0.10970438576060675, 'ItemKNN_w': 0.1155172543242634, 'RECALL_test': 0.3575305308110468}\n",
      "__________Iteration 43______________\n",
      "SLIM_w: 0.6925029187810603\n",
      "RP3b_w: 0.21021553520291408\n",
      "ItemKNN_w: 0.09728154601602551\n",
      "EvaluatorHoldout: Processed 34728 (100.0%) in 15.77 sec. Users per second: 2202\n",
      "EvaluatorHoldout: Processed 35209 (100.0%) in 17.02 sec. Users per second: 2068\n"
     ]
    },
    {
     "name": "stderr",
     "output_type": "stream",
     "text": [
      "[I 2025-01-03 17:22:59,218] Trial 43 finished with value: 0.320087352896124 and parameters: {'x_0': 0.18929240126496344, 'x_1': 0.6033470972242951, 'x_2': 0.7915037715465025}. Best is trial 42 with value: 0.3212441005890537.\n"
     ]
    },
    {
     "name": "stdout",
     "output_type": "stream",
     "text": [
      "__________Iteration 44______________\n",
      "SLIM_w: 0.5676755598716299\n",
      "RP3b_w: 0.3055657195957331\n",
      "ItemKNN_w: 0.12675872053263704\n",
      "EvaluatorHoldout: Processed 34728 (100.0%) in 15.77 sec. Users per second: 2203\n",
      "EvaluatorHoldout: Processed 35209 (100.0%) in 16.84 sec. Users per second: 2090\n"
     ]
    },
    {
     "name": "stderr",
     "output_type": "stream",
     "text": [
      "[I 2025-01-03 17:23:31,921] Trial 44 finished with value: 0.3177804051044792 and parameters: {'x_0': 0.2850398094110649, 'x_1': 0.5088492243856253, 'x_2': 0.7555853099603487}. Best is trial 42 with value: 0.3212441005890537.\n"
     ]
    },
    {
     "name": "stdout",
     "output_type": "stream",
     "text": [
      "__________Iteration 45______________\n",
      "SLIM_w: 0.7437317652265741\n",
      "RP3b_w: 0.1393125603936896\n",
      "ItemKNN_w: 0.1169556743797362\n",
      "EvaluatorHoldout: Processed 34728 (100.0%) in 16.13 sec. Users per second: 2152\n",
      "EvaluatorHoldout: Processed 35209 (100.0%) in 17.20 sec. Users per second: 2047\n"
     ]
    },
    {
     "name": "stderr",
     "output_type": "stream",
     "text": [
      "[I 2025-01-03 17:24:05,349] Trial 45 finished with value: 0.3209410518345454 and parameters: {'x_0': 0.4001811097894736, 'x_1': 0.842357514002925, 'x_2': 0.865870187053315}. Best is trial 42 with value: 0.3212441005890537.\n"
     ]
    },
    {
     "name": "stdout",
     "output_type": "stream",
     "text": [
      "__________Iteration 46______________\n",
      "SLIM_w: 0.6811348555170396\n",
      "RP3b_w: 0.10807450548826329\n",
      "ItemKNN_w: 0.21079063899469708\n",
      "EvaluatorHoldout: Processed 34728 (100.0%) in 16.09 sec. Users per second: 2159\n",
      "EvaluatorHoldout: Processed 35209 (100.0%) in 16.70 sec. Users per second: 2108\n"
     ]
    },
    {
     "name": "stderr",
     "output_type": "stream",
     "text": [
      "[I 2025-01-03 17:24:38,231] Trial 46 finished with value: 0.3208887471366025 and parameters: {'x_0': 0.1261652102288608, 'x_1': 0.7200250776032784, 'x_2': 0.5269482909695669}. Best is trial 42 with value: 0.3212441005890537.\n"
     ]
    },
    {
     "name": "stdout",
     "output_type": "stream",
     "text": [
      "__________Iteration 47______________\n",
      "SLIM_w: 0.3740375131171758\n",
      "RP3b_w: 0.06475792509903998\n",
      "ItemKNN_w: 0.5612045617837841\n",
      "EvaluatorHoldout: Processed 34728 (100.0%) in 15.60 sec. Users per second: 2226\n",
      "EvaluatorHoldout: Processed 35209 (100.0%) in 16.71 sec. Users per second: 2107\n"
     ]
    },
    {
     "name": "stderr",
     "output_type": "stream",
     "text": [
      "[I 2025-01-03 17:25:10,644] Trial 47 finished with value: 0.3137822561359083 and parameters: {'x_0': 0.2851102695187854, 'x_1': 0.804720742215427, 'x_2': 0.15216095439822963}. Best is trial 42 with value: 0.3212441005890537.\n"
     ]
    },
    {
     "name": "stdout",
     "output_type": "stream",
     "text": [
      "__________Iteration 48______________\n",
      "SLIM_w: 0.6548219536207691\n",
      "RP3b_w: 0.1609675150511974\n",
      "ItemKNN_w: 0.18421053132803344\n",
      "EvaluatorHoldout: Processed 34728 (100.0%) in 16.13 sec. Users per second: 2152\n",
      "EvaluatorHoldout: Processed 35209 (100.0%) in 17.00 sec. Users per second: 2071\n"
     ]
    },
    {
     "name": "stderr",
     "output_type": "stream",
     "text": [
      "[I 2025-01-03 17:25:43,881] Trial 48 finished with value: 0.3205593202469353 and parameters: {'x_0': 0.19577904223389, 'x_1': 0.6697347778177625, 'x_2': 0.6320682459081688}. Best is trial 42 with value: 0.3212441005890537.\n"
     ]
    },
    {
     "name": "stdout",
     "output_type": "stream",
     "text": [
      "__________Iteration 49______________\n",
      "SLIM_w: 0.7960390406765786\n",
      "RP3b_w: 0.05463011513696456\n",
      "ItemKNN_w: 0.1493308441864568\n",
      "EvaluatorHoldout: Processed 34728 (100.0%) in 15.75 sec. Users per second: 2205\n",
      "EvaluatorHoldout: Processed 35209 (100.0%) in 17.07 sec. Users per second: 2062\n"
     ]
    },
    {
     "name": "stderr",
     "output_type": "stream",
     "text": [
      "[I 2025-01-03 17:26:16,800] Trial 49 finished with value: 0.32091868371098137 and parameters: {'x_0': 0.4045062479692906, 'x_1': 0.9397758667310732, 'x_2': 0.8438440180745881}. Best is trial 42 with value: 0.3212441005890537.\n"
     ]
    },
    {
     "name": "stdout",
     "output_type": "stream",
     "text": [
      "__________Iteration 50______________\n",
      "SLIM_w: 0.5515723186661352\n",
      "RP3b_w: 0.38612924321880426\n",
      "ItemKNN_w: 0.062298438115060535\n",
      "EvaluatorHoldout: Processed 34728 (100.0%) in 15.91 sec. Users per second: 2183\n",
      "EvaluatorHoldout: Processed 35209 (100.0%) in 16.73 sec. Users per second: 2105\n"
     ]
    },
    {
     "name": "stderr",
     "output_type": "stream",
     "text": [
      "[I 2025-01-03 17:26:49,532] Trial 50 finished with value: 0.31621637976743 and parameters: {'x_0': 0.1080285809336294, 'x_1': 0.21058475208794558, 'x_2': 0.7777519224671736}. Best is trial 42 with value: 0.3212441005890537.\n"
     ]
    },
    {
     "name": "stdout",
     "output_type": "stream",
     "text": [
      "__________Iteration 51______________\n",
      "SLIM_w: 0.891343240964696\n",
      "RP3b_w: 0.04772479446771282\n",
      "ItemKNN_w: 0.06093196456759122\n",
      "EvaluatorHoldout: Processed 34728 (100.0%) in 15.63 sec. Users per second: 2222\n",
      "EvaluatorHoldout: Processed 35209 (100.0%) in 16.70 sec. Users per second: 2108\n"
     ]
    },
    {
     "name": "stderr",
     "output_type": "stream",
     "text": [
      "[I 2025-01-03 17:27:21,951] Trial 51 finished with value: 0.32078617076080873 and parameters: {'x_0': 0.01213003526179611, 'x_1': 0.7895962538690019, 'x_2': 0.7396280416021206}. Best is trial 42 with value: 0.3212441005890537.\n"
     ]
    },
    {
     "name": "stdout",
     "output_type": "stream",
     "text": [
      "__________Iteration 52______________\n",
      "SLIM_w: 0.8277702740544634\n",
      "RP3b_w: 0.07405369247586042\n",
      "ItemKNN_w: 0.09817603346967624\n",
      "EvaluatorHoldout: Processed 34728 (100.0%) in 15.66 sec. Users per second: 2218\n",
      "EvaluatorHoldout: Processed 35209 (100.0%) in 16.70 sec. Users per second: 2108\n"
     ]
    },
    {
     "name": "stderr",
     "output_type": "stream",
     "text": [
      "[I 2025-01-03 17:27:54,407] Trial 52 finished with value: 0.3209942776269385 and parameters: {'x_0': 0.04174222848682266, 'x_1': 0.7526523523728008, 'x_2': 0.6861137751927078}. Best is trial 42 with value: 0.3212441005890537.\n"
     ]
    },
    {
     "name": "stdout",
     "output_type": "stream",
     "text": [
      "__________Iteration 53______________\n",
      "SLIM_w: 0.8316809848188753\n",
      "RP3b_w: 0.09700473951247841\n",
      "ItemKNN_w: 0.07131427566864615\n",
      "EvaluatorHoldout: Processed 34728 (100.0%) in 15.68 sec. Users per second: 2214\n",
      "EvaluatorHoldout: Processed 35209 (100.0%) in 16.83 sec. Users per second: 2092\n"
     ]
    },
    {
     "name": "stderr",
     "output_type": "stream",
     "text": [
      "[I 2025-01-03 17:28:27,021] Trial 53 finished with value: 0.3210935034351089 and parameters: {'x_0': 0.07528042964850612, 'x_1': 0.7395705631845706, 'x_2': 0.8010851636743241}. Best is trial 42 with value: 0.3212441005890537.\n"
     ]
    },
    {
     "name": "stdout",
     "output_type": "stream",
     "text": [
      "__________Iteration 54______________\n",
      "SLIM_w: 0.8688973170929394\n",
      "RP3b_w: 0.05642384945581361\n",
      "ItemKNN_w: 0.07467883345124712\n",
      "EvaluatorHoldout: Processed 34728 (100.0%) in 15.66 sec. Users per second: 2217\n",
      "EvaluatorHoldout: Processed 35209 (100.0%) in 16.69 sec. Users per second: 2110\n"
     ]
    },
    {
     "name": "stderr",
     "output_type": "stream",
     "text": [
      "[I 2025-01-03 17:28:59,466] Trial 54 finished with value: 0.32092999150626506 and parameters: {'x_0': 0.07371768433834522, 'x_1': 0.8442346207284357, 'x_2': 0.7992295892133365}. Best is trial 42 with value: 0.3212441005890537.\n"
     ]
    },
    {
     "name": "stdout",
     "output_type": "stream",
     "text": [
      "__________Iteration 55______________\n",
      "SLIM_w: 0.8211702872736454\n",
      "RP3b_w: 0.15870905891109716\n",
      "ItemKNN_w: 0.02012065381525745\n",
      "EvaluatorHoldout: Processed 34728 (100.0%) in 15.57 sec. Users per second: 2231\n",
      "EvaluatorHoldout: Processed 35209 (100.0%) in 16.70 sec. Users per second: 2109\n"
     ]
    },
    {
     "name": "stderr",
     "output_type": "stream",
     "text": [
      "[I 2025-01-03 17:29:31,823] Trial 55 finished with value: 0.3207255016830554 and parameters: {'x_0': 0.1964659453719662, 'x_1': 0.7301504572322409, 'x_2': 0.9609124777440877}. Best is trial 42 with value: 0.3212441005890537.\n"
     ]
    },
    {
     "name": "stdout",
     "output_type": "stream",
     "text": [
      "__________Iteration 56______________\n",
      "SLIM_w: 0.8369250331387106\n",
      "RP3b_w: 0.09308856895401062\n",
      "ItemKNN_w: 0.06998639790727877\n",
      "EvaluatorHoldout: Processed 34728 (100.0%) in 15.59 sec. Users per second: 2227\n",
      "EvaluatorHoldout: Processed 35209 (100.0%) in 16.72 sec. Users per second: 2106\n"
     ]
    },
    {
     "name": "stderr",
     "output_type": "stream",
     "text": [
      "[I 2025-01-03 17:30:04,227] Trial 56 finished with value: 0.3210910187539538 and parameters: {'x_0': 0.2857343575240452, 'x_1': 0.8699381899768031, 'x_2': 0.9005458077774422}. Best is trial 42 with value: 0.3212441005890537.\n"
     ]
    },
    {
     "name": "stdout",
     "output_type": "stream",
     "text": [
      "__________Iteration 57______________\n",
      "SLIM_w: 0.8192455518109604\n",
      "RP3b_w: 0.11125329808095986\n",
      "ItemKNN_w: 0.06950115010807972\n",
      "EvaluatorHoldout: Processed 34728 (100.0%) in 15.59 sec. Users per second: 2228\n",
      "EvaluatorHoldout: Processed 35209 (100.0%) in 16.62 sec. Users per second: 2119\n"
     ]
    },
    {
     "name": "stderr",
     "output_type": "stream",
     "text": [
      "[I 2025-01-03 17:30:36,528] Trial 57 finished with value: 0.3211112421202901 and parameters: {'x_0': 0.2908607238099062, 'x_1': 0.8456070520954303, 'x_2': 0.9005367212657892}. Best is trial 42 with value: 0.3212441005890537.\n"
     ]
    },
    {
     "name": "stdout",
     "output_type": "stream",
     "text": [
      "__________Iteration 58______________\n",
      "SLIM_w: 0.8419118140874771\n",
      "RP3b_w: 0.08682087955934902\n",
      "ItemKNN_w: 0.071267306353174\n",
      "EvaluatorHoldout: Processed 34728 (100.0%) in 15.52 sec. Users per second: 2238\n",
      "EvaluatorHoldout: Processed 35209 (100.0%) in 16.59 sec. Users per second: 2122\n"
     ]
    },
    {
     "name": "stderr",
     "output_type": "stream",
     "text": [
      "[I 2025-01-03 17:31:08,733] Trial 58 finished with value: 0.32106403016848467 and parameters: {'x_0': 0.2897705447065858, 'x_1': 0.8800860936178478, 'x_2': 0.9004575192627823}. Best is trial 42 with value: 0.3212441005890537.\n"
     ]
    },
    {
     "name": "stdout",
     "output_type": "stream",
     "text": [
      "__________Iteration 59______________\n",
      "SLIM_w: 0.9558999057202651\n",
      "RP3b_w: 0.014092489258220032\n",
      "ItemKNN_w: 0.030007605021515036\n",
      "EvaluatorHoldout: Processed 34728 (100.0%) in 15.50 sec. Users per second: 2240\n",
      "EvaluatorHoldout: Processed 35209 (100.0%) in 16.81 sec. Users per second: 2094\n"
     ]
    },
    {
     "name": "stderr",
     "output_type": "stream",
     "text": [
      "[I 2025-01-03 17:31:41,144] Trial 59 finished with value: 0.3202064279533014 and parameters: {'x_0': 0.3842264176524718, 'x_1': 0.9859972836455471, 'x_2': 0.9704191633142487}. Best is trial 42 with value: 0.3212441005890537.\n"
     ]
    },
    {
     "name": "stdout",
     "output_type": "stream",
     "text": [
      "__________Iteration 60______________\n",
      "SLIM_w: 0.2244880789099005\n",
      "RP3b_w: 0.4875256141294792\n",
      "ItemKNN_w: 0.2879863069606203\n",
      "EvaluatorHoldout: Processed 34728 (100.0%) in 15.80 sec. Users per second: 2198\n",
      "EvaluatorHoldout: Processed 35209 (100.0%) in 17.18 sec. Users per second: 2049\n"
     ]
    },
    {
     "name": "stderr",
     "output_type": "stream",
     "text": [
      "[I 2025-01-03 17:32:14,220] Trial 60 finished with value: 0.31057477837344144 and parameters: {'x_0': 0.37626506086765693, 'x_1': 0.11969910666431982, 'x_2': 0.2853770102125507}. Best is trial 42 with value: 0.3212441005890537.\n"
     ]
    },
    {
     "name": "stdout",
     "output_type": "stream",
     "text": [
      "__________Iteration 61______________\n",
      "SLIM_w: 0.7851405511840384\n",
      "RP3b_w: 0.10534820966227215\n",
      "ItemKNN_w: 0.10951123915368949\n",
      "EvaluatorHoldout: Processed 34728 (100.0%) in 15.86 sec. Users per second: 2189\n",
      "EvaluatorHoldout: Processed 35209 (100.0%) in 16.90 sec. Users per second: 2084\n"
     ]
    },
    {
     "name": "stderr",
     "output_type": "stream",
     "text": [
      "[I 2025-01-03 17:32:47,082] Trial 61 finished with value: 0.32107764723472376 and parameters: {'x_0': 0.3168349239692533, 'x_1': 0.8570832695198092, 'x_2': 0.8518758337333319}. Best is trial 42 with value: 0.3212441005890537.\n"
     ]
    },
    {
     "name": "stdout",
     "output_type": "stream",
     "text": [
      "__________Iteration 62______________\n",
      "SLIM_w: 0.7622287895046177\n",
      "RP3b_w: 0.14629559518582125\n",
      "ItemKNN_w: 0.09147561530956119\n",
      "EvaluatorHoldout: Processed 34728 (100.0%) in 15.78 sec. Users per second: 2201\n",
      "EvaluatorHoldout: Processed 35209 (100.0%) in 17.12 sec. Users per second: 2056\n"
     ]
    },
    {
     "name": "stderr",
     "output_type": "stream",
     "text": [
      "[I 2025-01-03 17:33:20,094] Trial 62 finished with value: 0.32114564348870556 and parameters: {'x_0': 0.43786945422578405, 'x_1': 0.853419961907955, 'x_2': 0.9056440082124799}. Best is trial 42 with value: 0.3212441005890537.\n"
     ]
    },
    {
     "name": "stdout",
     "output_type": "stream",
     "text": [
      "__________Iteration 63______________\n",
      "SLIM_w: 0.8257867846852921\n",
      "RP3b_w: 0.08042469683982814\n",
      "ItemKNN_w: 0.09378851847487965\n",
      "EvaluatorHoldout: Processed 34728 (100.0%) in 16.02 sec. Users per second: 2168\n",
      "EvaluatorHoldout: Processed 35209 (100.0%) in 17.13 sec. Users per second: 2055\n"
     ]
    },
    {
     "name": "stderr",
     "output_type": "stream",
     "text": [
      "[I 2025-01-03 17:33:53,346] Trial 63 finished with value: 0.3209561320566626 and parameters: {'x_0': 0.4354193754878902, 'x_1': 0.9222159895133454, 'x_2': 0.909890314331039}. Best is trial 42 with value: 0.3212441005890537.\n"
     ]
    },
    {
     "name": "stdout",
     "output_type": "stream",
     "text": [
      "__________Iteration 64______________\n",
      "SLIM_w: 0.8221992254763926\n",
      "RP3b_w: 0.16026653542832475\n",
      "ItemKNN_w: 0.01753423909528272\n",
      "EvaluatorHoldout: Processed 34728 (100.0%) in 16.46 sec. Users per second: 2110\n",
      "EvaluatorHoldout: Processed 35209 (100.0%) in 17.48 sec. Users per second: 2014\n"
     ]
    },
    {
     "name": "stderr",
     "output_type": "stream",
     "text": [
      "[I 2025-01-03 17:34:27,399] Trial 64 finished with value: 0.320728055552531 and parameters: {'x_0': 0.362334462574027, 'x_1': 0.8204645005112592, 'x_2': 0.9785827644649129}. Best is trial 42 with value: 0.3212441005890537.\n"
     ]
    },
    {
     "name": "stdout",
     "output_type": "stream",
     "text": [
      "__________Iteration 65______________\n",
      "SLIM_w: 0.8475927551028951\n",
      "RP3b_w: 0.05393927193439325\n",
      "ItemKNN_w: 0.09846797296271169\n",
      "EvaluatorHoldout: Processed 34728 (100.0%) in 16.52 sec. Users per second: 2102\n",
      "EvaluatorHoldout: Processed 35209 (100.0%) in 17.15 sec. Users per second: 2053\n"
     ]
    },
    {
     "name": "stderr",
     "output_type": "stream",
     "text": [
      "[I 2025-01-03 17:35:01,176] Trial 65 finished with value: 0.32093922728165974 and parameters: {'x_0': 0.48337851459172276, 'x_1': 0.9547916598424494, 'x_2': 0.9190147832674601}. Best is trial 42 with value: 0.3212441005890537.\n"
     ]
    },
    {
     "name": "stdout",
     "output_type": "stream",
     "text": [
      "__________Iteration 66______________\n",
      "SLIM_w: 0.734121638324325\n",
      "RP3b_w: 0.1257443610961254\n",
      "ItemKNN_w: 0.14013400057954953\n",
      "EvaluatorHoldout: Processed 34728 (100.0%) in 16.26 sec. Users per second: 2136\n",
      "EvaluatorHoldout: Processed 35209 (100.0%) in 17.43 sec. Users per second: 2020\n"
     ]
    },
    {
     "name": "stderr",
     "output_type": "stream",
     "text": [
      "[I 2025-01-03 17:35:34,967] Trial 66 finished with value: 0.32119535714520575 and parameters: {'x_0': 0.524463533555938, 'x_1': 0.8953468421296941, 'x_2': 0.8840918752315489}. Best is trial 42 with value: 0.3212441005890537.\n"
     ]
    },
    {
     "name": "stdout",
     "output_type": "stream",
     "text": [
      "__________Iteration 67______________\n",
      "SLIM_w: 0.7355861273429015\n",
      "RP3b_w: 0.1371962639437777\n",
      "ItemKNN_w: 0.1272176087133208\n",
      "EvaluatorHoldout: Processed 34728 (100.0%) in 16.00 sec. Users per second: 2171\n",
      "EvaluatorHoldout: Processed 35209 (100.0%) in 17.16 sec. Users per second: 2052\n"
     ]
    },
    {
     "name": "stderr",
     "output_type": "stream",
     "text": [
      "[I 2025-01-03 17:36:08,228] Trial 67 finished with value: 0.32097044769263616 and parameters: {'x_0': 0.5216896831438302, 'x_1': 0.8857144977798783, 'x_2': 0.8935672050395681}. Best is trial 42 with value: 0.3212441005890537.\n"
     ]
    },
    {
     "name": "stdout",
     "output_type": "stream",
     "text": [
      "__________Iteration 68______________\n",
      "SLIM_w: 0.6236982391668111\n",
      "RP3b_w: 0.11845309711759368\n",
      "ItemKNN_w: 0.25784866371559534\n",
      "EvaluatorHoldout: Processed 34728 (100.0%) in 16.26 sec. Users per second: 2136\n",
      "EvaluatorHoldout: Processed 35209 (100.0%) in 17.38 sec. Users per second: 2026\n"
     ]
    },
    {
     "name": "stderr",
     "output_type": "stream",
     "text": [
      "[I 2025-01-03 17:36:41,956] Trial 68 finished with value: 0.3199526717590246 and parameters: {'x_0': 0.6075689056709055, 'x_1': 0.9097045170893419, 'x_2': 0.8138311291731554}. Best is trial 42 with value: 0.3212441005890537.\n"
     ]
    },
    {
     "name": "stdout",
     "output_type": "stream",
     "text": [
      "__________Iteration 69______________\n",
      "SLIM_w: 0.4540996267582871\n",
      "RP3b_w: 0.029963758183061642\n",
      "ItemKNN_w: 0.5159366150586513\n",
      "EvaluatorHoldout: Processed 34728 (100.0%) in 15.96 sec. Users per second: 2176\n",
      "EvaluatorHoldout: Processed 35209 (100.0%) in 16.71 sec. Users per second: 2107\n"
     ]
    },
    {
     "name": "stderr",
     "output_type": "stream",
     "text": [
      "[I 2025-01-03 17:37:14,730] Trial 69 finished with value: 0.31521780750073813 and parameters: {'x_0': 0.5065475509647019, 'x_1': 0.956113320768595, 'x_2': 0.4617393602676356}. Best is trial 42 with value: 0.3212441005890537.\n"
     ]
    },
    {
     "name": "stdout",
     "output_type": "stream",
     "text": [
      "__________Iteration 70______________\n",
      "SLIM_w: 0.7480975540162996\n",
      "RP3b_w: 0.18494920845803856\n",
      "ItemKNN_w: 0.06695323752566175\n",
      "EvaluatorHoldout: Processed 34728 (100.0%) in 15.76 sec. Users per second: 2203\n",
      "EvaluatorHoldout: Processed 35209 (100.0%) in 16.75 sec. Users per second: 2102\n"
     ]
    },
    {
     "name": "stderr",
     "output_type": "stream",
     "text": [
      "[I 2025-01-03 17:37:47,335] Trial 70 finished with value: 0.32064956182605203 and parameters: {'x_0': 0.44008111723869636, 'x_1': 0.8163417414128696, 'x_2': 0.9291736629784556}. Best is trial 42 with value: 0.3212441005890537.\n"
     ]
    },
    {
     "name": "stdout",
     "output_type": "stream",
     "text": [
      "__________Iteration 71______________\n",
      "SLIM_w: 0.6004378478438264\n",
      "RP3b_w: 0.1941400117356324\n",
      "ItemKNN_w: 0.20542214042054127\n",
      "EvaluatorHoldout: Processed 34728 (100.0%) in 15.67 sec. Users per second: 2216\n",
      "EvaluatorHoldout: Processed 35209 (100.0%) in 16.91 sec. Users per second: 2083\n"
     ]
    },
    {
     "name": "stderr",
     "output_type": "stream",
     "text": [
      "[I 2025-01-03 17:38:20,009] Trial 71 finished with value: 0.31939135152186476 and parameters: {'x_0': 0.5936718693182412, 'x_1': 0.8448519552917629, 'x_2': 0.8366148880765486}. Best is trial 42 with value: 0.3212441005890537.\n"
     ]
    },
    {
     "name": "stdout",
     "output_type": "stream",
     "text": [
      "__________Iteration 72______________\n",
      "SLIM_w: 0.8423902556863956\n",
      "RP3b_w: 0.06141917259262832\n",
      "ItemKNN_w: 0.09619057172097616\n",
      "EvaluatorHoldout: Processed 34728 (100.0%) in 15.86 sec. Users per second: 2190\n",
      "EvaluatorHoldout: Processed 35209 (100.0%) in 16.99 sec. Users per second: 2072\n"
     ]
    },
    {
     "name": "stderr",
     "output_type": "stream",
     "text": [
      "[I 2025-01-03 17:38:52,966] Trial 72 finished with value: 0.3209568635600628 and parameters: {'x_0': 0.26904297508140973, 'x_1': 0.9087155487802439, 'x_2': 0.8607809944643966}. Best is trial 42 with value: 0.3212441005890537.\n"
     ]
    },
    {
     "name": "stdout",
     "output_type": "stream",
     "text": [
      "__________Iteration 73______________\n",
      "SLIM_w: 0.7887407492832597\n",
      "RP3b_w: 0.15634385342464716\n",
      "ItemKNN_w: 0.054915397292093014\n",
      "EvaluatorHoldout: Processed 34728 (100.0%) in 16.17 sec. Users per second: 2148\n",
      "EvaluatorHoldout: Processed 35209 (100.0%) in 16.79 sec. Users per second: 2097\n"
     ]
    },
    {
     "name": "stderr",
     "output_type": "stream",
     "text": [
      "[I 2025-01-03 17:39:26,022] Trial 73 finished with value: 0.3209074997594923 and parameters: {'x_0': 0.1571755787330035, 'x_1': 0.6929594033893496, 'x_2': 0.8791217006606753}. Best is trial 42 with value: 0.3212441005890537.\n"
     ]
    },
    {
     "name": "stdout",
     "output_type": "stream",
     "text": [
      "__________Iteration 74______________\n",
      "SLIM_w: 0.825824233558979\n",
      "RP3b_w: 0.16204687289019104\n",
      "ItemKNN_w: 0.012128893550829866\n",
      "EvaluatorHoldout: Processed 34728 (100.0%) in 15.73 sec. Users per second: 2208\n",
      "EvaluatorHoldout: Processed 35209 (100.0%) in 16.80 sec. Users per second: 2096\n"
     ]
    },
    {
     "name": "stderr",
     "output_type": "stream",
     "text": [
      "[I 2025-01-03 17:39:58,648] Trial 74 finished with value: 0.3206849147663075 and parameters: {'x_0': 0.32953546315982774, 'x_1': 0.8042677149175179, 'x_2': 0.9838285501584574}. Best is trial 42 with value: 0.3212441005890537.\n"
     ]
    },
    {
     "name": "stdout",
     "output_type": "stream",
     "text": [
      "__________Iteration 75______________\n",
      "SLIM_w: 0.7244873005042103\n",
      "RP3b_w: 0.08697917442231798\n",
      "ItemKNN_w: 0.1885335250734717\n",
      "EvaluatorHoldout: Processed 34728 (100.0%) in 15.80 sec. Users per second: 2198\n",
      "EvaluatorHoldout: Processed 35209 (100.0%) in 16.84 sec. Users per second: 2091\n"
     ]
    },
    {
     "name": "stderr",
     "output_type": "stream",
     "text": [
      "[I 2025-01-03 17:40:31,390] Trial 75 finished with value: 0.32082993461498166 and parameters: {'x_0': 0.30683426929915597, 'x_1': 0.8677600260132772, 'x_2': 0.7353208054391344}. Best is trial 42 with value: 0.3212441005890537.\n"
     ]
    },
    {
     "name": "stdout",
     "output_type": "stream",
     "text": [
      "__________Iteration 76______________\n",
      "SLIM_w: 0.41806861544619706\n",
      "RP3b_w: 0.3266938345574309\n",
      "ItemKNN_w: 0.2552375499963721\n",
      "EvaluatorHoldout: Processed 34728 (100.0%) in 15.76 sec. Users per second: 2203\n",
      "EvaluatorHoldout: Processed 35209 (100.0%) in 16.80 sec. Users per second: 2096\n"
     ]
    },
    {
     "name": "stderr",
     "output_type": "stream",
     "text": [
      "[I 2025-01-03 17:41:04,052] Trial 76 finished with value: 0.3149060683221884 and parameters: {'x_0': 0.6975883347509564, 'x_1': 0.754714691075911, 'x_2': 0.8026289603504498}. Best is trial 42 with value: 0.3212441005890537.\n"
     ]
    },
    {
     "name": "stdout",
     "output_type": "stream",
     "text": [
      "__________Iteration 77______________\n",
      "SLIM_w: 0.9111798742443337\n",
      "RP3b_w: 0.031642352286012324\n",
      "ItemKNN_w: 0.05717777346965401\n",
      "EvaluatorHoldout: Processed 34728 (100.0%) in 15.72 sec. Users per second: 2209\n",
      "EvaluatorHoldout: Processed 35209 (100.0%) in 16.78 sec. Users per second: 2098\n"
     ]
    },
    {
     "name": "stderr",
     "output_type": "stream",
     "text": [
      "[I 2025-01-03 17:41:36,651] Trial 77 finished with value: 0.32083394652226477 and parameters: {'x_0': 0.43876855607869064, 'x_1': 0.9717979692053491, 'x_2': 0.9496198671284962}. Best is trial 42 with value: 0.3212441005890537.\n"
     ]
    },
    {
     "name": "stdout",
     "output_type": "stream",
     "text": [
      "__________Iteration 78______________\n",
      "SLIM_w: 0.6483345234851695\n",
      "RP3b_w: 0.3008323023610945\n",
      "ItemKNN_w: 0.050833174153736005\n",
      "EvaluatorHoldout: Processed 34728 (100.0%) in 15.75 sec. Users per second: 2206\n",
      "EvaluatorHoldout: Processed 35209 (100.0%) in 16.84 sec. Users per second: 2091\n"
     ]
    },
    {
     "name": "stderr",
     "output_type": "stream",
     "text": [
      "[I 2025-01-03 17:42:09,331] Trial 78 finished with value: 0.31862121369630747 and parameters: {'x_0': 0.09487075128938291, 'x_1': 0.3352597258668212, 'x_2': 0.831383235801082}. Best is trial 42 with value: 0.3212441005890537.\n"
     ]
    },
    {
     "name": "stdout",
     "output_type": "stream",
     "text": [
      "__________Iteration 79______________\n",
      "SLIM_w: 0.7959788823257753\n",
      "RP3b_w: 0.10475658539885328\n",
      "ItemKNN_w: 0.09926453227537144\n",
      "EvaluatorHoldout: Processed 34728 (100.0%) in 15.75 sec. Users per second: 2205\n",
      "EvaluatorHoldout: Processed 35209 (100.0%) in 16.81 sec. Users per second: 2095\n"
     ]
    },
    {
     "name": "stderr",
     "output_type": "stream",
     "text": [
      "[I 2025-01-03 17:42:41,983] Trial 79 finished with value: 0.32105689338758475 and parameters: {'x_0': 0.3505154077649509, 'x_1': 0.8711243608095655, 'x_2': 0.877448356219792}. Best is trial 42 with value: 0.3212441005890537.\n"
     ]
    },
    {
     "name": "stdout",
     "output_type": "stream",
     "text": [
      "__________Iteration 80______________\n",
      "SLIM_w: 0.794049817719447\n",
      "RP3b_w: 0.0799018731310115\n",
      "ItemKNN_w: 0.12604830914954146\n",
      "EvaluatorHoldout: Processed 34728 (100.0%) in 15.78 sec. Users per second: 2200\n",
      "EvaluatorHoldout: Processed 35209 (100.0%) in 16.81 sec. Users per second: 2094\n"
     ]
    },
    {
     "name": "stderr",
     "output_type": "stream",
     "text": [
      "[I 2025-01-03 17:43:14,677] Trial 80 finished with value: 0.32112406068369287 and parameters: {'x_0': 0.5357510220199541, 'x_1': 0.9391321199111371, 'x_2': 0.9056810915895966}. Best is trial 42 with value: 0.3212441005890537.\n"
     ]
    },
    {
     "name": "stdout",
     "output_type": "stream",
     "text": [
      "__________Iteration 81______________\n",
      "SLIM_w: 0.7210356868751435\n",
      "RP3b_w: 0.113129599719003\n",
      "ItemKNN_w: 0.16583471340585357\n",
      "EvaluatorHoldout: Processed 34728 (100.0%) in 15.70 sec. Users per second: 2212\n",
      "EvaluatorHoldout: Processed 35209 (100.0%) in 16.81 sec. Users per second: 2095\n"
     ]
    },
    {
     "name": "stderr",
     "output_type": "stream",
     "text": [
      "[I 2025-01-03 17:43:47,281] Trial 81 finished with value: 0.32118823900055515 and parameters: {'x_0': 0.6466263985742018, 'x_1': 0.9338814727036968, 'x_2': 0.9045888009444113}. Best is trial 42 with value: 0.3212441005890537.\n"
     ]
    },
    {
     "name": "stdout",
     "output_type": "stream",
     "text": [
      "__________Iteration 82______________\n",
      "SLIM_w: 0.6780188511556445\n",
      "RP3b_w: 0.1683113749387546\n",
      "ItemKNN_w: 0.15366977390560083\n",
      "EvaluatorHoldout: Processed 34728 (100.0%) in 15.73 sec. Users per second: 2208\n",
      "EvaluatorHoldout: Processed 35209 (100.0%) in 16.80 sec. Users per second: 2096\n"
     ]
    },
    {
     "name": "stderr",
     "output_type": "stream",
     "text": [
      "[I 2025-01-03 17:44:19,901] Trial 82 finished with value: 0.3206020438120133 and parameters: {'x_0': 0.6566398512303826, 'x_1': 0.9008517360124256, 'x_2': 0.9090715782172252}. Best is trial 42 with value: 0.3212441005890537.\n"
     ]
    },
    {
     "name": "stdout",
     "output_type": "stream",
     "text": [
      "__________Iteration 83______________\n",
      "SLIM_w: 0.8060012068085829\n",
      "RP3b_w: 0.09473618551112117\n",
      "ItemKNN_w: 0.09926260768029603\n",
      "EvaluatorHoldout: Processed 34728 (100.0%) in 15.72 sec. Users per second: 2209\n",
      "EvaluatorHoldout: Processed 35209 (100.0%) in 16.82 sec. Users per second: 2093\n"
     ]
    },
    {
     "name": "stderr",
     "output_type": "stream",
     "text": [
      "[I 2025-01-03 17:44:52,541] Trial 83 finished with value: 0.32103656268913455 and parameters: {'x_0': 0.5445997988789629, 'x_1': 0.9310627213059777, 'x_2': 0.9278906015367925}. Best is trial 42 with value: 0.3212441005890537.\n"
     ]
    },
    {
     "name": "stdout",
     "output_type": "stream",
     "text": [
      "__________Iteration 84______________\n",
      "SLIM_w: 0.7561664133125254\n",
      "RP3b_w: 0.08911194375140875\n",
      "ItemKNN_w: 0.15472164293606597\n",
      "EvaluatorHoldout: Processed 34728 (100.0%) in 15.73 sec. Users per second: 2208\n",
      "EvaluatorHoldout: Processed 35209 (100.0%) in 16.79 sec. Users per second: 2097\n"
     ]
    },
    {
     "name": "stderr",
     "output_type": "stream",
     "text": [
      "[I 2025-01-03 17:45:25,154] Trial 84 finished with value: 0.3210283962415687 and parameters: {'x_0': 0.5776864238141936, 'x_1': 0.9373809774269835, 'x_2': 0.8937973574745668}. Best is trial 42 with value: 0.3212441005890537.\n"
     ]
    },
    {
     "name": "stdout",
     "output_type": "stream",
     "text": [
      "__________Iteration 85______________\n",
      "SLIM_w: 0.46892579885940994\n",
      "RP3b_w: 0.4232373482961593\n",
      "ItemKNN_w: 0.10783685284443076\n",
      "EvaluatorHoldout: Processed 34728 (100.0%) in 15.76 sec. Users per second: 2204\n",
      "EvaluatorHoldout: Processed 35209 (100.0%) in 16.90 sec. Users per second: 2083\n"
     ]
    },
    {
     "name": "stderr",
     "output_type": "stream",
     "text": [
      "[I 2025-01-03 17:45:57,911] Trial 85 finished with value: 0.31508809702079993 and parameters: {'x_0': 0.8170368157007833, 'x_1': 0.8332822169509162, 'x_2': 0.9545937433199964}. Best is trial 42 with value: 0.3212441005890537.\n"
     ]
    },
    {
     "name": "stdout",
     "output_type": "stream",
     "text": [
      "__________Iteration 86______________\n",
      "SLIM_w: 0.7463076734608447\n",
      "RP3b_w: 0.0038704649320238428\n",
      "ItemKNN_w: 0.24982186160713135\n",
      "EvaluatorHoldout: Processed 34728 (100.0%) in 15.75 sec. Users per second: 2204\n",
      "EvaluatorHoldout: Processed 35209 (100.0%) in 16.78 sec. Users per second: 2098\n"
     ]
    },
    {
     "name": "stderr",
     "output_type": "stream",
     "text": [
      "[I 2025-01-03 17:46:30,549] Trial 86 finished with value: 0.3201985308206076 and parameters: {'x_0': 0.4848787259580033, 'x_1': 0.9962530079843204, 'x_2': 0.7848156259230111}. Best is trial 42 with value: 0.3212441005890537.\n"
     ]
    },
    {
     "name": "stdout",
     "output_type": "stream",
     "text": [
      "__________Iteration 87______________\n",
      "SLIM_w: 0.7109330508576219\n",
      "RP3b_w: 0.05442626970396507\n",
      "ItemKNN_w: 0.23464067943841302\n",
      "EvaluatorHoldout: Processed 34728 (100.0%) in 15.70 sec. Users per second: 2213\n",
      "EvaluatorHoldout: Processed 35209 (100.0%) in 16.76 sec. Users per second: 2101\n"
     ]
    },
    {
     "name": "stderr",
     "output_type": "stream",
     "text": [
      "[I 2025-01-03 17:47:03,095] Trial 87 finished with value: 0.32033461407623004 and parameters: {'x_0': 0.6666648046788503, 'x_1': 0.9694357810619845, 'x_2': 0.8747447944462948}. Best is trial 42 with value: 0.3212441005890537.\n"
     ]
    },
    {
     "name": "stdout",
     "output_type": "stream",
     "text": [
      "__________Iteration 88______________\n",
      "SLIM_w: 0.7321657677025505\n",
      "RP3b_w: 0.2627661865217319\n",
      "ItemKNN_w: 0.005068045775717596\n",
      "EvaluatorHoldout: Processed 34728 (100.0%) in 15.73 sec. Users per second: 2208\n",
      "EvaluatorHoldout: Processed 35209 (100.0%) in 17.08 sec. Users per second: 2061\n"
     ]
    },
    {
     "name": "stderr",
     "output_type": "stream",
     "text": [
      "[I 2025-01-03 17:47:36,007] Trial 88 finished with value: 0.31964734681562496 and parameters: {'x_0': 0.5356467120242622, 'x_1': 0.7992772938545244, 'x_2': 0.9956880587555698}. Best is trial 42 with value: 0.3212441005890537.\n"
     ]
    },
    {
     "name": "stdout",
     "output_type": "stream",
     "text": [
      "__________Iteration 89______________\n",
      "SLIM_w: 0.6227041891924836\n",
      "RP3b_w: 0.13797029845731054\n",
      "ItemKNN_w: 0.2393255123502059\n",
      "EvaluatorHoldout: Processed 34728 (100.0%) in 16.18 sec. Users per second: 2146\n",
      "EvaluatorHoldout: Processed 35209 (100.0%) in 17.00 sec. Users per second: 2071\n"
     ]
    },
    {
     "name": "stderr",
     "output_type": "stream",
     "text": [
      "[I 2025-01-03 17:48:09,289] Trial 89 finished with value: 0.32014204145069597 and parameters: {'x_0': 0.6253247639163588, 'x_1': 0.9012055690725965, 'x_2': 0.834904397152833}. Best is trial 42 with value: 0.3212441005890537.\n"
     ]
    },
    {
     "name": "stdout",
     "output_type": "stream",
     "text": [
      "__________Iteration 90______________\n",
      "SLIM_w: 0.7994057523623572\n",
      "RP3b_w: 0.14342603658410094\n",
      "ItemKNN_w: 0.05716821105354188\n",
      "EvaluatorHoldout: Processed 34728 (100.0%) in 16.35 sec. Users per second: 2124\n",
      "EvaluatorHoldout: Processed 35209 (100.0%) in 16.91 sec. Users per second: 2082\n"
     ]
    },
    {
     "name": "stderr",
     "output_type": "stream",
     "text": [
      "[I 2025-01-03 17:48:42,644] Trial 90 finished with value: 0.3209846069697307 and parameters: {'x_0': 0.420877179096352, 'x_1': 0.8561848323714265, 'x_2': 0.9399875013208396}. Best is trial 42 with value: 0.3212441005890537.\n"
     ]
    },
    {
     "name": "stdout",
     "output_type": "stream",
     "text": [
      "__________Iteration 91______________\n",
      "SLIM_w: 0.8384046124813163\n",
      "RP3b_w: 0.0732501114889545\n",
      "ItemKNN_w: 0.08834527602972937\n",
      "EvaluatorHoldout: Processed 34728 (100.0%) in 15.62 sec. Users per second: 2223\n",
      "EvaluatorHoldout: Processed 35209 (100.0%) in 16.69 sec. Users per second: 2110\n"
     ]
    },
    {
     "name": "stderr",
     "output_type": "stream",
     "text": [
      "[I 2025-01-03 17:49:15,048] Trial 91 finished with value: 0.3211380598862496 and parameters: {'x_0': 0.22762769807069205, 'x_1': 0.8787022811291074, 'x_2': 0.8555961662851572}. Best is trial 42 with value: 0.3212441005890537.\n"
     ]
    },
    {
     "name": "stdout",
     "output_type": "stream",
     "text": [
      "__________Iteration 92______________\n",
      "SLIM_w: 0.7498371323537474\n",
      "RP3b_w: 0.0557595942911395\n",
      "ItemKNN_w: 0.1944032733551131\n",
      "EvaluatorHoldout: Processed 34728 (100.0%) in 15.62 sec. Users per second: 2224\n",
      "EvaluatorHoldout: Processed 35209 (100.0%) in 16.69 sec. Users per second: 2109\n"
     ]
    },
    {
     "name": "stderr",
     "output_type": "stream",
     "text": [
      "[I 2025-01-03 17:49:47,453] Trial 92 finished with value: 0.3206145080319503 and parameters: {'x_0': 0.45922947471209236, 'x_1': 0.9437734680217938, 'x_2': 0.817292680572519}. Best is trial 42 with value: 0.3212441005890537.\n"
     ]
    },
    {
     "name": "stdout",
     "output_type": "stream",
     "text": [
      "__________Iteration 93______________\n",
      "SLIM_w: 0.8798435394453985\n",
      "RP3b_w: 0.05486637152779762\n",
      "ItemKNN_w: 0.06529008902680383\n",
      "EvaluatorHoldout: Processed 34728 (100.0%) in 15.65 sec. Users per second: 2219\n",
      "EvaluatorHoldout: Processed 35209 (100.0%) in 16.83 sec. Users per second: 2092\n"
     ]
    },
    {
     "name": "stderr",
     "output_type": "stream",
     "text": [
      "[I 2025-01-03 17:50:20,031] Trial 93 finished with value: 0.32094405885313326 and parameters: {'x_0': 0.257727669644094, 'x_1': 0.9189258154224871, 'x_2': 0.9042829366418436}. Best is trial 42 with value: 0.3212441005890537.\n"
     ]
    },
    {
     "name": "stdout",
     "output_type": "stream",
     "text": [
      "__________Iteration 94______________\n",
      "SLIM_w: 0.8461048556222831\n",
      "RP3b_w: 0.06960155478913142\n",
      "ItemKNN_w: 0.08429358958858542\n",
      "EvaluatorHoldout: Processed 34728 (100.0%) in 15.70 sec. Users per second: 2212\n",
      "EvaluatorHoldout: Processed 35209 (100.0%) in 17.37 sec. Users per second: 2027\n"
     ]
    },
    {
     "name": "stderr",
     "output_type": "stream",
     "text": [
      "[I 2025-01-03 17:50:53,200] Trial 94 finished with value: 0.32114260310207854 and parameters: {'x_0': 0.21398768829037035, 'x_1': 0.8808805371662086, 'x_2': 0.857609674623274}. Best is trial 42 with value: 0.3212441005890537.\n"
     ]
    },
    {
     "name": "stdout",
     "output_type": "stream",
     "text": [
      "__________Iteration 95______________\n",
      "SLIM_w: 0.8648133800679942\n",
      "RP3b_w: 0.057197133937581704\n",
      "ItemKNN_w: 0.07798948599442398\n",
      "EvaluatorHoldout: Processed 34728 (100.0%) in 16.35 sec. Users per second: 2124\n",
      "EvaluatorHoldout: Processed 35209 (100.0%) in 16.88 sec. Users per second: 2085\n"
     ]
    },
    {
     "name": "stderr",
     "output_type": "stream",
     "text": [
      "[I 2025-01-03 17:51:26,532] Trial 95 finished with value: 0.3209569887846804 and parameters: {'x_0': 0.16526381539010426, 'x_1': 0.8877521756199085, 'x_2': 0.8501483483520703}. Best is trial 42 with value: 0.3212441005890537.\n"
     ]
    },
    {
     "name": "stdout",
     "output_type": "stream",
     "text": [
      "__________Iteration 96______________\n",
      "SLIM_w: 0.7723643906225445\n",
      "RP3b_w: 0.09664776187166799\n",
      "ItemKNN_w: 0.13098784750578749\n",
      "EvaluatorHoldout: Processed 34728 (100.0%) in 15.87 sec. Users per second: 2189\n",
      "EvaluatorHoldout: Processed 35209 (100.0%) in 17.34 sec. Users per second: 2031\n"
     ]
    },
    {
     "name": "stderr",
     "output_type": "stream",
     "text": [
      "[I 2025-01-03 17:51:59,838] Trial 96 finished with value: 0.3210742693102951 and parameters: {'x_0': 0.2200327230424875, 'x_1': 0.827415963102101, 'x_2': 0.7735532737525048}. Best is trial 42 with value: 0.3212441005890537.\n"
     ]
    },
    {
     "name": "stdout",
     "output_type": "stream",
     "text": [
      "__________Iteration 97______________\n",
      "SLIM_w: 0.9431034212582111\n",
      "RP3b_w: 0.01183401160636325\n",
      "ItemKNN_w: 0.04506256713542557\n",
      "EvaluatorHoldout: Processed 34728 (100.0%) in 16.29 sec. Users per second: 2132\n",
      "EvaluatorHoldout: Processed 35209 (100.0%) in 17.22 sec. Users per second: 2045\n"
     ]
    },
    {
     "name": "stderr",
     "output_type": "stream",
     "text": [
      "[I 2025-01-03 17:52:33,450] Trial 97 finished with value: 0.32024840489112144 and parameters: {'x_0': 0.051229326409808304, 'x_1': 0.9634010350025296, 'x_2': 0.8676394998482211}. Best is trial 42 with value: 0.3212441005890537.\n"
     ]
    },
    {
     "name": "stdout",
     "output_type": "stream",
     "text": [
      "__________Iteration 98______________\n",
      "SLIM_w: 0.7172325490468009\n",
      "RP3b_w: 0.19111661286143777\n",
      "ItemKNN_w: 0.09165083809176132\n",
      "EvaluatorHoldout: Processed 34728 (100.0%) in 16.43 sec. Users per second: 2114\n",
      "EvaluatorHoldout: Processed 35209 (100.0%) in 16.92 sec. Users per second: 2081\n"
     ]
    },
    {
     "name": "stderr",
     "output_type": "stream",
     "text": [
      "[I 2025-01-03 17:53:06,895] Trial 98 finished with value: 0.3204038200446241 and parameters: {'x_0': 0.5632289122198705, 'x_1': 0.8581565590440622, 'x_2': 0.9292691646840006}. Best is trial 42 with value: 0.3212441005890537.\n"
     ]
    },
    {
     "name": "stdout",
     "output_type": "stream",
     "text": [
      "__________Iteration 99______________\n",
      "SLIM_w: 0.8349583581111871\n",
      "RP3b_w: 0.0408242359542672\n",
      "ItemKNN_w: 0.12421740593454564\n",
      "EvaluatorHoldout: Processed 34728 (100.0%) in 15.98 sec. Users per second: 2174\n",
      "EvaluatorHoldout: Processed 35209 (100.0%) in 17.43 sec. Users per second: 2019\n"
     ]
    },
    {
     "name": "stderr",
     "output_type": "stream",
     "text": [
      "[I 2025-01-03 17:53:40,410] Trial 99 finished with value: 0.32060919677369154 and parameters: {'x_0': 0.21400474953286963, 'x_1': 0.9273889077965949, 'x_2': 0.7950355873269697}. Best is trial 42 with value: 0.3212441005890537.\n"
     ]
    },
    {
     "name": "stdout",
     "output_type": "stream",
     "text": [
      "__________Iteration 100______________\n",
      "SLIM_w: 0.7960541118591417\n",
      "RP3b_w: 0.12773978610224535\n",
      "ItemKNN_w: 0.07620610203861287\n",
      "EvaluatorHoldout: Processed 34728 (100.0%) in 15.84 sec. Users per second: 2192\n",
      "EvaluatorHoldout: Processed 35209 (100.0%) in 16.92 sec. Users per second: 2081\n"
     ]
    },
    {
     "name": "stderr",
     "output_type": "stream",
     "text": [
      "[I 2025-01-03 17:54:13,277] Trial 100 finished with value: 0.32110182544336774 and parameters: {'x_0': 0.14908553115833986, 'x_1': 0.736824956385757, 'x_2': 0.8334377051518518}. Best is trial 42 with value: 0.3212441005890537.\n"
     ]
    },
    {
     "name": "stdout",
     "output_type": "stream",
     "text": [
      "__________Iteration 101______________\n",
      "SLIM_w: 0.7993670235959263\n",
      "RP3b_w: 0.12581895583506347\n",
      "ItemKNN_w: 0.07481402056901024\n",
      "EvaluatorHoldout: Processed 34728 (100.0%) in 16.31 sec. Users per second: 2129\n",
      "EvaluatorHoldout: Processed 35209 (100.0%) in 17.68 sec. Users per second: 1991\n"
     ]
    },
    {
     "name": "stderr",
     "output_type": "stream",
     "text": [
      "[I 2025-01-03 17:54:47,375] Trial 101 finished with value: 0.3210198076503578 and parameters: {'x_0': 0.14403841247449148, 'x_1': 0.737133208114802, 'x_2': 0.8341432873473835}. Best is trial 42 with value: 0.3212441005890537.\n"
     ]
    },
    {
     "name": "stdout",
     "output_type": "stream",
     "text": [
      "__________Iteration 102______________\n",
      "SLIM_w: 0.32351356515174584\n",
      "RP3b_w: 0.04213389030515517\n",
      "ItemKNN_w: 0.634352544543099\n",
      "EvaluatorHoldout: Processed 34728 (100.0%) in 16.16 sec. Users per second: 2149\n",
      "EvaluatorHoldout: Processed 35209 (100.0%) in 17.44 sec. Users per second: 2019\n"
     ]
    },
    {
     "name": "stderr",
     "output_type": "stream",
     "text": [
      "[I 2025-01-03 17:55:21,082] Trial 102 finished with value: 0.31206879528550807 and parameters: {'x_0': 0.17168147296916444, 'x_1': 0.7949349677276807, 'x_2': 0.03158121243695977}. Best is trial 42 with value: 0.3212441005890537.\n"
     ]
    },
    {
     "name": "stdout",
     "output_type": "stream",
     "text": [
      "__________Iteration 103______________\n",
      "SLIM_w: 0.7346440036071383\n",
      "RP3b_w: 0.22892389315205275\n",
      "ItemKNN_w: 0.03643210324080881\n",
      "EvaluatorHoldout: Processed 34728 (100.0%) in 16.06 sec. Users per second: 2162\n",
      "EvaluatorHoldout: Processed 35209 (100.0%) in 17.47 sec. Users per second: 2015\n"
     ]
    },
    {
     "name": "stderr",
     "output_type": "stream",
     "text": [
      "[I 2025-01-03 17:55:54,719] Trial 103 finished with value: 0.3201736622774378 and parameters: {'x_0': 0.07862570984943566, 'x_1': 0.4527356157222385, 'x_2': 0.8815143431573744}. Best is trial 42 with value: 0.3212441005890537.\n"
     ]
    },
    {
     "name": "stdout",
     "output_type": "stream",
     "text": [
      "__________Iteration 104______________\n",
      "SLIM_w: 0.7418128717535338\n",
      "RP3b_w: 0.15768291462916192\n",
      "ItemKNN_w: 0.10050421361730426\n",
      "EvaluatorHoldout: Processed 34728 (100.0%) in 16.55 sec. Users per second: 2099\n",
      "EvaluatorHoldout: Processed 35209 (100.0%) in 17.54 sec. Users per second: 2007\n"
     ]
    },
    {
     "name": "stderr",
     "output_type": "stream",
     "text": [
      "[I 2025-01-03 17:56:28,914] Trial 104 finished with value: 0.3208778627236224 and parameters: {'x_0': 0.12638601484313322, 'x_1': 0.6442483341255327, 'x_2': 0.7556036706722006}. Best is trial 42 with value: 0.3212441005890537.\n"
     ]
    },
    {
     "name": "stdout",
     "output_type": "stream",
     "text": [
      "__________Iteration 105______________\n",
      "SLIM_w: 0.8159381134995435\n",
      "RP3b_w: 0.12908000291038907\n",
      "ItemKNN_w: 0.05498188359006734\n",
      "EvaluatorHoldout: Processed 34728 (100.0%) in 16.03 sec. Users per second: 2166\n",
      "EvaluatorHoldout: Processed 35209 (100.0%) in 17.90 sec. Users per second: 1967\n"
     ]
    },
    {
     "name": "stderr",
     "output_type": "stream",
     "text": [
      "[I 2025-01-03 17:57:02,958] Trial 105 finished with value: 0.32115027862527024 and parameters: {'x_0': 0.10254520374451359, 'x_1': 0.697474788526329, 'x_2': 0.8577301174967823}. Best is trial 42 with value: 0.3212441005890537.\n"
     ]
    },
    {
     "name": "stdout",
     "output_type": "stream",
     "text": [
      "__________Iteration 106______________\n",
      "SLIM_w: 0.920919703675163\n",
      "RP3b_w: 0.06367008454455386\n",
      "ItemKNN_w: 0.0154102117802831\n",
      "EvaluatorHoldout: Processed 34728 (100.0%) in 16.09 sec. Users per second: 2159\n",
      "EvaluatorHoldout: Processed 35209 (100.0%) in 17.15 sec. Users per second: 2053\n"
     ]
    },
    {
     "name": "stderr",
     "output_type": "stream",
     "text": [
      "[I 2025-01-03 17:57:36,311] Trial 106 finished with value: 0.3209999446386686 and parameters: {'x_0': 0.19091721141004722, 'x_1': 0.8918245595686481, 'x_2': 0.972671116518103}. Best is trial 42 with value: 0.3212441005890537.\n"
     ]
    },
    {
     "name": "stdout",
     "output_type": "stream",
     "text": [
      "__________Iteration 107______________\n",
      "SLIM_w: 0.7352120475818086\n",
      "RP3b_w: 0.18351004785457925\n",
      "ItemKNN_w: 0.0812779045636121\n",
      "EvaluatorHoldout: Processed 34728 (100.0%) in 15.85 sec. Users per second: 2191\n",
      "EvaluatorHoldout: Processed 35209 (100.0%) in 17.23 sec. Users per second: 2044\n"
     ]
    },
    {
     "name": "stderr",
     "output_type": "stream",
     "text": [
      "[I 2025-01-03 17:58:09,486] Trial 107 finished with value: 0.32068435622873603 and parameters: {'x_0': 0.24137870009882445, 'x_1': 0.70132725279799, 'x_2': 0.8545887860433492}. Best is trial 42 with value: 0.3212441005890537.\n"
     ]
    },
    {
     "name": "stdout",
     "output_type": "stream",
     "text": [
      "__________Iteration 108______________\n",
      "SLIM_w: 0.6587383810850453\n",
      "RP3b_w: 0.0524853981841792\n",
      "ItemKNN_w: 0.28877622073077547\n",
      "EvaluatorHoldout: Processed 34728 (100.0%) in 15.98 sec. Users per second: 2173\n",
      "EvaluatorHoldout: Processed 35209 (100.0%) in 17.09 sec. Users per second: 2061\n"
     ]
    },
    {
     "name": "stderr",
     "output_type": "stream",
     "text": [
      "[I 2025-01-03 17:58:42,653] Trial 108 finished with value: 0.31989861427657307 and parameters: {'x_0': 0.10088642727133051, 'x_1': 0.8329707324250655, 'x_2': 0.365849513863198}. Best is trial 42 with value: 0.3212441005890537.\n"
     ]
    },
    {
     "name": "stdout",
     "output_type": "stream",
     "text": [
      "__________Iteration 109______________\n",
      "SLIM_w: 0.1536480765075098\n",
      "RP3b_w: 0.8037506639767141\n",
      "ItemKNN_w: 0.042601259515776035\n",
      "EvaluatorHoldout: Processed 34728 (100.0%) in 16.02 sec. Users per second: 2168\n",
      "EvaluatorHoldout: Processed 35209 (100.0%) in 17.08 sec. Users per second: 2061\n"
     ]
    },
    {
     "name": "stderr",
     "output_type": "stream",
     "text": [
      "[I 2025-01-03 17:59:15,851] Trial 109 finished with value: 0.30739697597596394 and parameters: {'x_0': 0.4856078002718606, 'x_1': 0.022852008197172147, 'x_2': 0.8184985976525818}. Best is trial 42 with value: 0.3212441005890537.\n"
     ]
    },
    {
     "name": "stdout",
     "output_type": "stream",
     "text": [
      "__________Iteration 110______________\n",
      "SLIM_w: 0.6656331824302212\n",
      "RP3b_w: 0.04804411775627074\n",
      "ItemKNN_w: 0.2863226998135082\n",
      "EvaluatorHoldout: Processed 34728 (100.0%) in 15.91 sec. Users per second: 2182\n",
      "EvaluatorHoldout: Processed 35209 (100.0%) in 17.03 sec. Users per second: 2067\n"
     ]
    },
    {
     "name": "stderr",
     "output_type": "stream",
     "text": [
      "[I 2025-01-03 17:59:48,896] Trial 110 finished with value: 0.3197503269488733 and parameters: {'x_0': 0.7659154171145877, 'x_1': 0.9809353706094597, 'x_2': 0.8916209699248787}. Best is trial 42 with value: 0.3212441005890537.\n"
     ]
    },
    {
     "name": "stdout",
     "output_type": "stream",
     "text": [
      "__________Iteration 111______________\n",
      "SLIM_w: 0.7458724972845465\n",
      "RP3b_w: 0.21989050238429986\n",
      "ItemKNN_w: 0.0342370003311536\n",
      "EvaluatorHoldout: Processed 34728 (100.0%) in 15.97 sec. Users per second: 2175\n",
      "EvaluatorHoldout: Processed 35209 (100.0%) in 17.21 sec. Users per second: 2046\n"
     ]
    },
    {
     "name": "stderr",
     "output_type": "stream",
     "text": [
      "[I 2025-01-03 18:00:22,179] Trial 111 finished with value: 0.32036163224894076 and parameters: {'x_0': 0.13454413642090646, 'x_1': 0.5535805480693521, 'x_2': 0.9120385522387846}. Best is trial 42 with value: 0.3212441005890537.\n"
     ]
    },
    {
     "name": "stdout",
     "output_type": "stream",
     "text": [
      "__________Iteration 112______________\n",
      "SLIM_w: 0.8886676455815683\n",
      "RP3b_w: 0.07207677853433338\n",
      "ItemKNN_w: 0.039255575884098205\n",
      "EvaluatorHoldout: Processed 34728 (100.0%) in 16.02 sec. Users per second: 2167\n",
      "EvaluatorHoldout: Processed 35209 (100.0%) in 17.03 sec. Users per second: 2068\n"
     ]
    },
    {
     "name": "stderr",
     "output_type": "stream",
     "text": [
      "[I 2025-01-03 18:00:55,328] Trial 112 finished with value: 0.3210912238398826 and parameters: {'x_0': 0.02981361575539762, 'x_1': 0.7520816897407365, 'x_2': 0.8562676344302043}. Best is trial 42 with value: 0.3212441005890537.\n"
     ]
    },
    {
     "name": "stdout",
     "output_type": "stream",
     "text": [
      "__________Iteration 113______________\n",
      "SLIM_w: 0.7588388386419119\n",
      "RP3b_w: 0.1476360996927896\n",
      "ItemKNN_w: 0.09352506166529836\n",
      "EvaluatorHoldout: Processed 34728 (100.0%) in 15.99 sec. Users per second: 2171\n",
      "EvaluatorHoldout: Processed 35209 (100.0%) in 16.90 sec. Users per second: 2083\n"
     ]
    },
    {
     "name": "stderr",
     "output_type": "stream",
     "text": [
      "[I 2025-01-03 18:01:28,323] Trial 113 finished with value: 0.3210350435115896 and parameters: {'x_0': 0.17601923914486364, 'x_1': 0.7132138113779762, 'x_2': 0.8072668184521327}. Best is trial 42 with value: 0.3212441005890537.\n"
     ]
    },
    {
     "name": "stdout",
     "output_type": "stream",
     "text": [
      "__________Iteration 114______________\n",
      "SLIM_w: 0.5435053138233165\n",
      "RP3b_w: 0.20109424793676306\n",
      "ItemKNN_w: 0.25540043823992054\n",
      "EvaluatorHoldout: Processed 34728 (100.0%) in 15.85 sec. Users per second: 2191\n",
      "EvaluatorHoldout: Processed 35209 (100.0%) in 17.04 sec. Users per second: 2067\n"
     ]
    },
    {
     "name": "stderr",
     "output_type": "stream",
     "text": [
      "[I 2025-01-03 18:02:01,315] Trial 114 finished with value: 0.31827351481661326 and parameters: {'x_0': 0.5207409694631959, 'x_1': 0.7855095396681625, 'x_2': 0.7359304240704281}. Best is trial 42 with value: 0.3212441005890537.\n"
     ]
    },
    {
     "name": "stdout",
     "output_type": "stream",
     "text": [
      "__________Iteration 115______________\n",
      "SLIM_w: 0.9042155058898323\n",
      "RP3b_w: 0.07605921335192516\n",
      "ItemKNN_w: 0.019725280758242564\n",
      "EvaluatorHoldout: Processed 34728 (100.0%) in 16.03 sec. Users per second: 2166\n",
      "EvaluatorHoldout: Processed 35209 (100.0%) in 16.94 sec. Users per second: 2078\n"
     ]
    },
    {
     "name": "stderr",
     "output_type": "stream",
     "text": [
      "[I 2025-01-03 18:02:34,386] Trial 115 finished with value: 0.32099597113488426 and parameters: {'x_0': 0.1448040059219885, 'x_1': 0.8499786420609498, 'x_2': 0.9587217847003051}. Best is trial 42 with value: 0.3212441005890537.\n"
     ]
    },
    {
     "name": "stdout",
     "output_type": "stream",
     "text": [
      "__________Iteration 116______________\n",
      "SLIM_w: 0.8624166849028048\n",
      "RP3b_w: 0.07358311571591139\n",
      "ItemKNN_w: 0.06400019938128383\n",
      "EvaluatorHoldout: Processed 34728 (100.0%) in 15.95 sec. Users per second: 2177\n",
      "EvaluatorHoldout: Processed 35209 (100.0%) in 17.11 sec. Users per second: 2058\n"
     ]
    },
    {
     "name": "stderr",
     "output_type": "stream",
     "text": [
      "[I 2025-01-03 18:03:07,546] Trial 116 finished with value: 0.3210516433018672 and parameters: {'x_0': 0.09404211983396077, 'x_1': 0.8173382346862547, 'x_2': 0.8390927136675886}. Best is trial 42 with value: 0.3212441005890537.\n"
     ]
    },
    {
     "name": "stdout",
     "output_type": "stream",
     "text": [
      "__________Iteration 117______________\n",
      "SLIM_w: 0.8513723939142867\n",
      "RP3b_w: 0.07248719226778857\n",
      "ItemKNN_w: 0.07614041381792472\n",
      "EvaluatorHoldout: Processed 34728 (100.0%) in 15.99 sec. Users per second: 2172\n",
      "EvaluatorHoldout: Processed 35209 (100.0%) in 17.11 sec. Users per second: 2058\n"
     ]
    },
    {
     "name": "stderr",
     "output_type": "stream",
     "text": [
      "[I 2025-01-03 18:03:40,742] Trial 117 finished with value: 0.32117173207786154 and parameters: {'x_0': 0.21070354094388732, 'x_1': 0.8758230083962639, 'x_2': 0.8699899582126592}. Best is trial 42 with value: 0.3212441005890537.\n"
     ]
    },
    {
     "name": "stdout",
     "output_type": "stream",
     "text": [
      "__________Iteration 118______________\n",
      "SLIM_w: 0.8590831478812868\n",
      "RP3b_w: 0.08784530791235869\n",
      "ItemKNN_w: 0.05307154420635448\n",
      "EvaluatorHoldout: Processed 34728 (100.0%) in 16.20 sec. Users per second: 2144\n",
      "EvaluatorHoldout: Processed 35209 (100.0%) in 17.95 sec. Users per second: 1962\n"
     ]
    },
    {
     "name": "stderr",
     "output_type": "stream",
     "text": [
      "[I 2025-01-03 18:04:15,001] Trial 118 finished with value: 0.32116211173463993 and parameters: {'x_0': 0.2625305234943979, 'x_1': 0.8721845570341468, 'x_2': 0.9207011693495365}. Best is trial 42 with value: 0.3212441005890537.\n"
     ]
    },
    {
     "name": "stdout",
     "output_type": "stream",
     "text": [
      "__________Iteration 119______________\n",
      "SLIM_w: 0.8659307996887802\n",
      "RP3b_w: 0.08901007804401562\n",
      "ItemKNN_w: 0.04505912226720429\n",
      "EvaluatorHoldout: Processed 34728 (100.0%) in 16.25 sec. Users per second: 2137\n",
      "EvaluatorHoldout: Processed 35209 (100.0%) in 17.16 sec. Users per second: 2052\n"
     ]
    },
    {
     "name": "stderr",
     "output_type": "stream",
     "text": [
      "[I 2025-01-03 18:04:48,527] Trial 119 finished with value: 0.32108996153707875 and parameters: {'x_0': 0.2721336633501628, 'x_1': 0.8747835007100465, 'x_2': 0.9345200545743528}. Best is trial 42 with value: 0.3212441005890537.\n"
     ]
    },
    {
     "name": "stdout",
     "output_type": "stream",
     "text": [
      "__________Iteration 120______________\n",
      "SLIM_w: 0.8650467684249669\n",
      "RP3b_w: 0.07117934435712117\n",
      "ItemKNN_w: 0.06377388721791198\n",
      "EvaluatorHoldout: Processed 34728 (100.0%) in 16.08 sec. Users per second: 2160\n",
      "EvaluatorHoldout: Processed 35209 (100.0%) in 17.23 sec. Users per second: 2043\n"
     ]
    },
    {
     "name": "stderr",
     "output_type": "stream",
     "text": [
      "[I 2025-01-03 18:05:21,941] Trial 120 finished with value: 0.3211491100465067 and parameters: {'x_0': 0.30453058730974797, 'x_1': 0.9067993172916551, 'x_2': 0.9160764018949159}. Best is trial 42 with value: 0.3212441005890537.\n"
     ]
    },
    {
     "name": "stdout",
     "output_type": "stream",
     "text": [
      "__________Iteration 121______________\n",
      "SLIM_w: 0.8519639503276437\n",
      "RP3b_w: 0.06121555576148681\n",
      "ItemKNN_w: 0.08682049391086955\n",
      "EvaluatorHoldout: Processed 34728 (100.0%) in 16.10 sec. Users per second: 2157\n",
      "EvaluatorHoldout: Processed 35209 (100.0%) in 17.44 sec. Users per second: 2018\n"
     ]
    },
    {
     "name": "stderr",
     "output_type": "stream",
     "text": [
      "[I 2025-01-03 18:05:55,587] Trial 121 finished with value: 0.3210859241345138 and parameters: {'x_0': 0.3022198081882048, 'x_1': 0.9176139667806195, 'x_2': 0.8852004624758187}. Best is trial 42 with value: 0.3212441005890537.\n"
     ]
    },
    {
     "name": "stdout",
     "output_type": "stream",
     "text": [
      "__________Iteration 122______________\n",
      "SLIM_w: 0.8842467170228914\n",
      "RP3b_w: 0.06147544925432642\n",
      "ItemKNN_w: 0.0542778337227823\n",
      "EvaluatorHoldout: Processed 34728 (100.0%) in 16.13 sec. Users per second: 2152\n",
      "EvaluatorHoldout: Processed 35209 (100.0%) in 17.24 sec. Users per second: 2042\n"
     ]
    },
    {
     "name": "stderr",
     "output_type": "stream",
     "text": [
      "[I 2025-01-03 18:06:29,073] Trial 122 finished with value: 0.3210001374983484 and parameters: {'x_0': 0.21761478497526643, 'x_1': 0.8994025963444529, 'x_2': 0.9106368885609266}. Best is trial 42 with value: 0.3212441005890537.\n"
     ]
    },
    {
     "name": "stdout",
     "output_type": "stream",
     "text": [
      "__________Iteration 123______________\n",
      "SLIM_w: 0.8225087079208309\n",
      "RP3b_w: 0.11029229785743605\n",
      "ItemKNN_w: 0.06719899422173305\n",
      "EvaluatorHoldout: Processed 34728 (100.0%) in 15.93 sec. Users per second: 2180\n",
      "EvaluatorHoldout: Processed 35209 (100.0%) in 16.85 sec. Users per second: 2089\n"
     ]
    },
    {
     "name": "stderr",
     "output_type": "stream",
     "text": [
      "[I 2025-01-03 18:07:01,962] Trial 123 finished with value: 0.3210633983739659 and parameters: {'x_0': 0.37130816261072647, 'x_1': 0.8755976703235046, 'x_2': 0.9222470850435525}. Best is trial 42 with value: 0.3212441005890537.\n"
     ]
    },
    {
     "name": "stdout",
     "output_type": "stream",
     "text": [
      "__________Iteration 124______________\n",
      "SLIM_w: 0.9225352939010513\n",
      "RP3b_w: 0.040844342832423004\n",
      "ItemKNN_w: 0.036620363266525666\n",
      "EvaluatorHoldout: Processed 34728 (100.0%) in 15.76 sec. Users per second: 2203\n",
      "EvaluatorHoldout: Processed 35209 (100.0%) in 16.94 sec. Users per second: 2078\n"
     ]
    },
    {
     "name": "stderr",
     "output_type": "stream",
     "text": [
      "[I 2025-01-03 18:07:34,769] Trial 124 finished with value: 0.32057102485011746 and parameters: {'x_0': 0.26130458904258863, 'x_1': 0.9423120793123665, 'x_2': 0.9481203025687843}. Best is trial 42 with value: 0.3212441005890537.\n"
     ]
    },
    {
     "name": "stdout",
     "output_type": "stream",
     "text": [
      "__________Iteration 125______________\n",
      "SLIM_w: 0.8668721113816459\n",
      "RP3b_w: 0.05198258917594877\n",
      "ItemKNN_w: 0.08114529944240541\n",
      "EvaluatorHoldout: Processed 34728 (100.0%) in 15.88 sec. Users per second: 2187\n",
      "EvaluatorHoldout: Processed 35209 (100.0%) in 16.95 sec. Users per second: 2078\n"
     ]
    },
    {
     "name": "stderr",
     "output_type": "stream",
     "text": [
      "[I 2025-01-03 18:08:07,696] Trial 125 finished with value: 0.3209311803747212 and parameters: {'x_0': 0.2317753948622202, 'x_1': 0.9160640093229392, 'x_2': 0.8720991360834188}. Best is trial 42 with value: 0.3212441005890537.\n"
     ]
    },
    {
     "name": "stdout",
     "output_type": "stream",
     "text": [
      "__________Iteration 126______________\n",
      "SLIM_w: 0.93167732442792\n",
      "RP3b_w: 0.04217526676023573\n",
      "ItemKNN_w: 0.02614740881184435\n",
      "EvaluatorHoldout: Processed 34728 (100.0%) in 15.78 sec. Users per second: 2201\n",
      "EvaluatorHoldout: Processed 35209 (100.0%) in 16.93 sec. Users per second: 2080\n"
     ]
    },
    {
     "name": "stderr",
     "output_type": "stream",
     "text": [
      "[I 2025-01-03 18:08:40,497] Trial 126 finished with value: 0.32064221508235263 and parameters: {'x_0': 0.3301576800166928, 'x_1': 0.9510720745742068, 'x_2': 0.9693775905628805}. Best is trial 42 with value: 0.3212441005890537.\n"
     ]
    },
    {
     "name": "stdout",
     "output_type": "stream",
     "text": [
      "__________Iteration 127______________\n",
      "SLIM_w: 0.7836808323724079\n",
      "RP3b_w: 0.12545630613288453\n",
      "ItemKNN_w: 0.09086286149470751\n",
      "EvaluatorHoldout: Processed 34728 (100.0%) in 16.01 sec. Users per second: 2170\n",
      "EvaluatorHoldout: Processed 35209 (100.0%) in 17.06 sec. Users per second: 2064\n"
     ]
    },
    {
     "name": "stderr",
     "output_type": "stream",
     "text": [
      "[I 2025-01-03 18:09:13,671] Trial 127 finished with value: 0.32102588196269644 and parameters: {'x_0': 0.38957161512356275, 'x_1': 0.8599214293956657, 'x_2': 0.896460532686253}. Best is trial 42 with value: 0.3212441005890537.\n"
     ]
    },
    {
     "name": "stdout",
     "output_type": "stream",
     "text": [
      "__________Iteration 128______________\n",
      "SLIM_w: 0.8082622064865292\n",
      "RP3b_w: 0.08661733194283085\n",
      "ItemKNN_w: 0.10512046157063996\n",
      "EvaluatorHoldout: Processed 34728 (100.0%) in 15.99 sec. Users per second: 2172\n",
      "EvaluatorHoldout: Processed 35209 (100.0%) in 17.02 sec. Users per second: 2068\n"
     ]
    },
    {
     "name": "stderr",
     "output_type": "stream",
     "text": [
      "[I 2025-01-03 18:09:46,786] Trial 128 finished with value: 0.32110729310578084 and parameters: {'x_0': 0.35332206244585784, 'x_1': 0.8944988118305196, 'x_2': 0.8734464304327682}. Best is trial 42 with value: 0.3212441005890537.\n"
     ]
    },
    {
     "name": "stdout",
     "output_type": "stream",
     "text": [
      "__________Iteration 129______________\n",
      "SLIM_w: 0.8721050237929723\n",
      "RP3b_w: 0.09580920470097753\n",
      "ItemKNN_w: 0.03208577150605012\n",
      "EvaluatorHoldout: Processed 34728 (100.0%) in 16.06 sec. Users per second: 2163\n",
      "EvaluatorHoldout: Processed 35209 (100.0%) in 17.12 sec. Users per second: 2056\n"
     ]
    },
    {
     "name": "stderr",
     "output_type": "stream",
     "text": [
      "[I 2025-01-03 18:10:20,071] Trial 129 finished with value: 0.3211890801658372 and parameters: {'x_0': 0.20240261737847692, 'x_1': 0.8390369845617596, 'x_2': 0.9429200567461453}. Best is trial 42 with value: 0.3212441005890537.\n"
     ]
    },
    {
     "name": "stdout",
     "output_type": "stream",
     "text": [
      "__________Iteration 130______________\n",
      "SLIM_w: 0.8898073985606535\n",
      "RP3b_w: 0.10416446538495956\n",
      "ItemKNN_w: 0.006028136054386942\n",
      "EvaluatorHoldout: Processed 34728 (100.0%) in 15.84 sec. Users per second: 2193\n",
      "EvaluatorHoldout: Processed 35209 (100.0%) in 16.87 sec. Users per second: 2087\n"
     ]
    },
    {
     "name": "stderr",
     "output_type": "stream",
     "text": [
      "[I 2025-01-03 18:10:52,876] Trial 130 finished with value: 0.3213722589821713 and parameters: {'x_0': 0.19261447746483173, 'x_1': 0.8246369349482813, 'x_2': 0.9889037321632222}. Best is trial 130 with value: 0.3213722589821713.\n"
     ]
    },
    {
     "name": "stdout",
     "output_type": "stream",
     "text": [
      "__________Iteration 131______________\n",
      "SLIM_w: 0.8871540213825744\n",
      "RP3b_w: 0.1103852489319205\n",
      "ItemKNN_w: 0.0024607296855050685\n",
      "EvaluatorHoldout: Processed 34728 (100.0%) in 15.87 sec. Users per second: 2188\n",
      "EvaluatorHoldout: Processed 35209 (100.0%) in 17.00 sec. Users per second: 2071\n"
     ]
    },
    {
     "name": "stderr",
     "output_type": "stream",
     "text": [
      "[I 2025-01-03 18:11:25,851] Trial 131 finished with value: 0.32127613198475885 and parameters: {'x_0': 0.20714298949047427, 'x_1': 0.8221026899504653, 'x_2': 0.9956427030519688}. Best is trial 130 with value: 0.3213722589821713.\n"
     ]
    },
    {
     "name": "stdout",
     "output_type": "stream",
     "text": [
      "__________Iteration 132______________\n",
      "SLIM_w: 0.8813630405856009\n",
      "RP3b_w: 0.11019080591552609\n",
      "ItemKNN_w: 0.008446153498873064\n",
      "EvaluatorHoldout: Processed 34728 (100.0%) in 15.87 sec. Users per second: 2189\n",
      "EvaluatorHoldout: Processed 35209 (100.0%) in 17.25 sec. Users per second: 2042\n"
     ]
    },
    {
     "name": "stderr",
     "output_type": "stream",
     "text": [
      "[I 2025-01-03 18:11:59,067] Trial 132 finished with value: 0.32131086014107907 and parameters: {'x_0': 0.19385302548688707, 'x_1': 0.8145496471894081, 'x_2': 0.9844004603995736}. Best is trial 130 with value: 0.3213722589821713.\n"
     ]
    },
    {
     "name": "stdout",
     "output_type": "stream",
     "text": [
      "__________Iteration 133______________\n",
      "SLIM_w: 0.8865457720088046\n",
      "RP3b_w: 0.11172788705327082\n",
      "ItemKNN_w: 0.0017263409379247355\n",
      "EvaluatorHoldout: Processed 34728 (100.0%) in 15.98 sec. Users per second: 2174\n",
      "EvaluatorHoldout: Processed 35209 (100.0%) in 16.99 sec. Users per second: 2073\n"
     ]
    },
    {
     "name": "stderr",
     "output_type": "stream",
     "text": [
      "[I 2025-01-03 18:12:32,136] Trial 133 finished with value: 0.3212172631058898 and parameters: {'x_0': 0.20200949184369815, 'x_1': 0.8174453523134901, 'x_2': 0.9968903079534206}. Best is trial 130 with value: 0.3213722589821713.\n"
     ]
    },
    {
     "name": "stdout",
     "output_type": "stream",
     "text": [
      "__________Iteration 134______________\n",
      "SLIM_w: 0.8894502877865093\n",
      "RP3b_w: 0.10683219180146902\n",
      "ItemKNN_w: 0.0037175204120218053\n",
      "EvaluatorHoldout: Processed 34728 (100.0%) in 15.71 sec. Users per second: 2210\n",
      "EvaluatorHoldout: Processed 35209 (100.0%) in 17.38 sec. Users per second: 2025\n"
     ]
    },
    {
     "name": "stderr",
     "output_type": "stream",
     "text": [
      "[I 2025-01-03 18:13:05,342] Trial 134 finished with value: 0.3213532851777923 and parameters: {'x_0': 0.1756808465294219, 'x_1': 0.8114907611542185, 'x_2': 0.9927577183831706}. Best is trial 130 with value: 0.3213722589821713.\n"
     ]
    },
    {
     "name": "stdout",
     "output_type": "stream",
     "text": [
      "__________Iteration 135______________\n",
      "SLIM_w: 0.8854408671229466\n",
      "RP3b_w: 0.11048557089070848\n",
      "ItemKNN_w: 0.004073561986344964\n",
      "EvaluatorHoldout: Processed 34728 (100.0%) in 16.30 sec. Users per second: 2130\n",
      "EvaluatorHoldout: Processed 35209 (100.0%) in 17.61 sec. Users per second: 2000\n"
     ]
    },
    {
     "name": "stderr",
     "output_type": "stream",
     "text": [
      "[I 2025-01-03 18:13:39,364] Trial 135 finished with value: 0.321267120980151 and parameters: {'x_0': 0.18942132465306566, 'x_1': 0.812526179062884, 'x_2': 0.9923748219361879}. Best is trial 130 with value: 0.3213722589821713.\n"
     ]
    },
    {
     "name": "stdout",
     "output_type": "stream",
     "text": [
      "__________Iteration 136______________\n",
      "SLIM_w: 0.8878783261360559\n",
      "RP3b_w: 0.11201865926908891\n",
      "ItemKNN_w: 0.0001030145948552368\n",
      "EvaluatorHoldout: Processed 34728 (100.0%) in 16.08 sec. Users per second: 2160\n",
      "EvaluatorHoldout: Processed 35209 (100.0%) in 17.15 sec. Users per second: 2053\n"
     ]
    },
    {
     "name": "stderr",
     "output_type": "stream",
     "text": [
      "[I 2025-01-03 18:14:12,704] Trial 136 finished with value: 0.32125585121972866 and parameters: {'x_0': 0.1850597274751406, 'x_1': 0.8082781314753025, 'x_2': 0.9998042789142556}. Best is trial 130 with value: 0.3213722589821713.\n"
     ]
    },
    {
     "name": "stdout",
     "output_type": "stream",
     "text": [
      "__________Iteration 137______________\n",
      "SLIM_w: 0.8847260611866306\n",
      "RP3b_w: 0.11120190996607089\n",
      "ItemKNN_w: 0.004072028847298539\n",
      "EvaluatorHoldout: Processed 34728 (100.0%) in 15.81 sec. Users per second: 2197\n",
      "EvaluatorHoldout: Processed 35209 (100.0%) in 17.19 sec. Users per second: 2049\n"
     ]
    },
    {
     "name": "stderr",
     "output_type": "stream",
     "text": [
      "[I 2025-01-03 18:14:45,791] Trial 137 finished with value: 0.32120594847543804 and parameters: {'x_0': 0.18219572155559494, 'x_1': 0.8073399906889823, 'x_2': 0.9921939223773324}. Best is trial 130 with value: 0.3213722589821713.\n"
     ]
    },
    {
     "name": "stdout",
     "output_type": "stream",
     "text": [
      "__________Iteration 138______________\n",
      "SLIM_w: 0.8818999539129745\n",
      "RP3b_w: 0.11398666663503489\n",
      "ItemKNN_w: 0.004113379451990602\n",
      "EvaluatorHoldout: Processed 34728 (100.0%) in 16.31 sec. Users per second: 2130\n",
      "EvaluatorHoldout: Processed 35209 (100.0%) in 17.00 sec. Users per second: 2071\n"
     ]
    },
    {
     "name": "stderr",
     "output_type": "stream",
     "text": [
      "[I 2025-01-03 18:15:19,208] Trial 138 finished with value: 0.3212709693855524 and parameters: {'x_0': 0.1910924659717429, 'x_1': 0.8074206198754003, 'x_2': 0.9923104354561991}. Best is trial 130 with value: 0.3213722589821713.\n"
     ]
    },
    {
     "name": "stdout",
     "output_type": "stream",
     "text": [
      "__________Iteration 139______________\n",
      "SLIM_w: 0.8618579586809799\n",
      "RP3b_w: 0.13407932377514575\n",
      "ItemKNN_w: 0.0040627175438743305\n",
      "EvaluatorHoldout: Processed 34728 (100.0%) in 15.71 sec. Users per second: 2211\n",
      "EvaluatorHoldout: Processed 35209 (100.0%) in 16.99 sec. Users per second: 2073\n"
     ]
    },
    {
     "name": "stderr",
     "output_type": "stream",
     "text": [
      "[I 2025-01-03 18:15:52,002] Trial 139 finished with value: 0.3208290349264981 and parameters: {'x_0': 0.19651880776450026, 'x_1': 0.7763808461998528, 'x_2': 0.9923598238216739}. Best is trial 130 with value: 0.3213722589821713.\n"
     ]
    },
    {
     "name": "stdout",
     "output_type": "stream",
     "text": [
      "__________Iteration 140______________\n",
      "SLIM_w: 0.889019573844832\n",
      "RP3b_w: 0.1098607437211619\n",
      "ItemKNN_w: 0.0011196824340061863\n",
      "EvaluatorHoldout: Processed 34728 (100.0%) in 16.35 sec. Users per second: 2124\n",
      "EvaluatorHoldout: Processed 35209 (100.0%) in 17.60 sec. Users per second: 2001\n"
     ]
    },
    {
     "name": "stderr",
     "output_type": "stream",
     "text": [
      "[I 2025-01-03 18:16:26,048] Trial 140 finished with value: 0.32131202562450584 and parameters: {'x_0': 0.18187559616789964, 'x_1': 0.8100773705864921, 'x_2': 0.9978556421814179}. Best is trial 130 with value: 0.3213722589821713.\n"
     ]
    },
    {
     "name": "stdout",
     "output_type": "stream",
     "text": [
      "__________Iteration 141______________\n",
      "SLIM_w: 0.8866118453906413\n",
      "RP3b_w: 0.10968030098500049\n",
      "ItemKNN_w: 0.003707853624358106\n",
      "EvaluatorHoldout: Processed 34728 (100.0%) in 16.67 sec. Users per second: 2083\n",
      "EvaluatorHoldout: Processed 35209 (100.0%) in 17.52 sec. Users per second: 2010\n"
     ]
    },
    {
     "name": "stderr",
     "output_type": "stream",
     "text": [
      "[I 2025-01-03 18:17:00,347] Trial 141 finished with value: 0.3213132673357076 and parameters: {'x_0': 0.18226162430087273, 'x_1': 0.8101074963989605, 'x_2': 0.9929061294683582}. Best is trial 130 with value: 0.3213722589821713.\n"
     ]
    },
    {
     "name": "stdout",
     "output_type": "stream",
     "text": [
      "__________Iteration 142______________\n",
      "SLIM_w: 0.8828691773529577\n",
      "RP3b_w: 0.11625189441250017\n",
      "ItemKNN_w: 0.0008789282345422659\n",
      "EvaluatorHoldout: Processed 34728 (100.0%) in 16.42 sec. Users per second: 2115\n",
      "EvaluatorHoldout: Processed 35209 (100.0%) in 17.68 sec. Users per second: 1991\n"
     ]
    },
    {
     "name": "stderr",
     "output_type": "stream",
     "text": [
      "[I 2025-01-03 18:17:34,560] Trial 142 finished with value: 0.3212134168184336 and parameters: {'x_0': 0.18940190610839294, 'x_1': 0.803247727456161, 'x_2': 0.9983449143623263}. Best is trial 130 with value: 0.3213722589821713.\n"
     ]
    },
    {
     "name": "stdout",
     "output_type": "stream",
     "text": [
      "__________Iteration 143______________\n",
      "SLIM_w: 0.8879596552725739\n",
      "RP3b_w: 0.11057416897381314\n",
      "ItemKNN_w: 0.0014661757536130148\n",
      "EvaluatorHoldout: Processed 34728 (100.0%) in 16.15 sec. Users per second: 2151\n",
      "EvaluatorHoldout: Processed 35209 (100.0%) in 17.52 sec. Users per second: 2010\n"
     ]
    },
    {
     "name": "stderr",
     "output_type": "stream",
     "text": [
      "[I 2025-01-03 18:18:08,330] Trial 143 finished with value: 0.32125708813079384 and parameters: {'x_0': 0.1791601098566458, 'x_1': 0.8072518340055429, 'x_2': 0.9971648737766403}. Best is trial 130 with value: 0.3213722589821713.\n"
     ]
    },
    {
     "name": "stdout",
     "output_type": "stream",
     "text": [
      "__________Iteration 144______________\n",
      "SLIM_w: 0.888082710673776\n",
      "RP3b_w: 0.11146085249997972\n",
      "ItemKNN_w: 0.00045643682624436476\n",
      "EvaluatorHoldout: Processed 34728 (100.0%) in 16.06 sec. Users per second: 2162\n",
      "EvaluatorHoldout: Processed 35209 (100.0%) in 16.84 sec. Users per second: 2091\n"
     ]
    },
    {
     "name": "stderr",
     "output_type": "stream",
     "text": [
      "[I 2025-01-03 18:18:41,333] Trial 144 finished with value: 0.3212044211269045 and parameters: {'x_0': 0.1782846381856077, 'x_1': 0.805395761249605, 'x_2': 0.9991141375919416}. Best is trial 130 with value: 0.3213722589821713.\n"
     ]
    },
    {
     "name": "stdout",
     "output_type": "stream",
     "text": [
      "__________Iteration 145______________\n",
      "SLIM_w: 0.8546991147531793\n",
      "RP3b_w: 0.13439310633952634\n",
      "ItemKNN_w: 0.01090777890729445\n",
      "EvaluatorHoldout: Processed 34728 (100.0%) in 15.76 sec. Users per second: 2203\n",
      "EvaluatorHoldout: Processed 35209 (100.0%) in 16.85 sec. Users per second: 2090\n"
     ]
    },
    {
     "name": "stderr",
     "output_type": "stream",
     "text": [
      "[I 2025-01-03 18:19:14,039] Trial 145 finished with value: 0.32092478335537783 and parameters: {'x_0': 0.1790546250299835, 'x_1': 0.7630258594344607, 'x_2': 0.9782875045395376}. Best is trial 130 with value: 0.3213722589821713.\n"
     ]
    },
    {
     "name": "stdout",
     "output_type": "stream",
     "text": [
      "__________Iteration 146______________\n",
      "SLIM_w: 0.8901587824933538\n",
      "RP3b_w: 0.10785705895571487\n",
      "ItemKNN_w: 0.0019841585509312695\n",
      "EvaluatorHoldout: Processed 34728 (100.0%) in 15.71 sec. Users per second: 2211\n",
      "EvaluatorHoldout: Processed 35209 (100.0%) in 16.86 sec. Users per second: 2088\n"
     ]
    },
    {
     "name": "stderr",
     "output_type": "stream",
     "text": [
      "[I 2025-01-03 18:19:46,702] Trial 146 finished with value: 0.3213292729022245 and parameters: {'x_0': 0.1543130679777353, 'x_1': 0.7973737409053392, 'x_2': 0.9958431824559191}. Best is trial 130 with value: 0.3213722589821713.\n"
     ]
    },
    {
     "name": "stdout",
     "output_type": "stream",
     "text": [
      "__________Iteration 147______________\n",
      "SLIM_w: 0.8723956606903833\n",
      "RP3b_w: 0.11113749391776784\n",
      "ItemKNN_w: 0.016466845391848787\n",
      "EvaluatorHoldout: Processed 34728 (100.0%) in 15.81 sec. Users per second: 2197\n",
      "EvaluatorHoldout: Processed 35209 (100.0%) in 16.92 sec. Users per second: 2081\n"
     ]
    },
    {
     "name": "stderr",
     "output_type": "stream",
     "text": [
      "[I 2025-01-03 18:20:19,521] Trial 147 finished with value: 0.3211614414695556 and parameters: {'x_0': 0.15882572247652432, 'x_1': 0.7910474739973241, 'x_2': 0.9658663486542753}. Best is trial 130 with value: 0.3213722589821713.\n"
     ]
    },
    {
     "name": "stdout",
     "output_type": "stream",
     "text": [
      "__________Iteration 148______________\n",
      "SLIM_w: 0.9169244731417063\n",
      "RP3b_w: 0.08292518004459931\n",
      "ItemKNN_w: 0.00015034681369432748\n",
      "EvaluatorHoldout: Processed 34728 (100.0%) in 15.77 sec. Users per second: 2202\n",
      "EvaluatorHoldout: Processed 35209 (100.0%) in 16.88 sec. Users per second: 2086\n"
     ]
    },
    {
     "name": "stderr",
     "output_type": "stream",
     "text": [
      "[I 2025-01-03 18:20:52,263] Trial 148 finished with value: 0.3210604579806571 and parameters: {'x_0': 0.12240656120213252, 'x_1': 0.8269943044541608, 'x_2': 0.9996556584732114}. Best is trial 130 with value: 0.3213722589821713.\n"
     ]
    },
    {
     "name": "stdout",
     "output_type": "stream",
     "text": [
      "__________Iteration 149______________\n",
      "SLIM_w: 0.8726377822183239\n",
      "RP3b_w: 0.11610582603408577\n",
      "ItemKNN_w: 0.011256391747590331\n",
      "EvaluatorHoldout: Processed 34728 (100.0%) in 15.76 sec. Users per second: 2203\n",
      "EvaluatorHoldout: Processed 35209 (100.0%) in 16.84 sec. Users per second: 2091\n"
     ]
    },
    {
     "name": "stderr",
     "output_type": "stream",
     "text": [
      "[I 2025-01-03 18:21:24,961] Trial 149 finished with value: 0.3211605269402162 and parameters: {'x_0': 0.15610990837869684, 'x_1': 0.7810604700036001, 'x_2': 0.976328215802245}. Best is trial 130 with value: 0.3213722589821713.\n"
     ]
    },
    {
     "name": "stdout",
     "output_type": "stream",
     "text": [
      "__________Iteration 150______________\n",
      "SLIM_w: 0.8536132697511448\n",
      "RP3b_w: 0.12387317012044922\n",
      "ItemKNN_w: 0.022513560128405982\n",
      "EvaluatorHoldout: Processed 34728 (100.0%) in 15.74 sec. Users per second: 2206\n",
      "EvaluatorHoldout: Processed 35209 (100.0%) in 16.87 sec. Users per second: 2087\n"
     ]
    },
    {
     "name": "stderr",
     "output_type": "stream",
     "text": [
      "[I 2025-01-03 18:21:57,673] Trial 150 finished with value: 0.32105060204671104 and parameters: {'x_0': 0.2381439353756901, 'x_1': 0.8120247735484215, 'x_2': 0.9628630038806507}. Best is trial 130 with value: 0.3213722589821713.\n"
     ]
    },
    {
     "name": "stdout",
     "output_type": "stream",
     "text": [
      "__________Iteration 151______________\n",
      "SLIM_w: 0.8784847786388109\n",
      "RP3b_w: 0.1131548461121909\n",
      "ItemKNN_w: 0.008360375248998062\n",
      "EvaluatorHoldout: Processed 34728 (100.0%) in 16.00 sec. Users per second: 2170\n",
      "EvaluatorHoldout: Processed 35209 (100.0%) in 17.28 sec. Users per second: 2038\n"
     ]
    },
    {
     "name": "stderr",
     "output_type": "stream",
     "text": [
      "[I 2025-01-03 18:22:31,058] Trial 151 finished with value: 0.32126669991199913 and parameters: {'x_0': 0.18451251032363297, 'x_1': 0.8043760048174136, 'x_2': 0.9840448777518754}. Best is trial 130 with value: 0.3213722589821713.\n"
     ]
    },
    {
     "name": "stdout",
     "output_type": "stream",
     "text": [
      "__________Iteration 152______________\n",
      "SLIM_w: 0.8566633359703476\n",
      "RP3b_w: 0.14324907981986995\n",
      "ItemKNN_w: 8.758420978238438e-05\n",
      "EvaluatorHoldout: Processed 34728 (100.0%) in 16.24 sec. Users per second: 2138\n",
      "EvaluatorHoldout: Processed 35209 (100.0%) in 17.49 sec. Users per second: 2013\n"
     ]
    },
    {
     "name": "stderr",
     "output_type": "stream",
     "text": [
      "[I 2025-01-03 18:23:04,891] Trial 152 finished with value: 0.3206787474840558 and parameters: {'x_0': 0.19382981786420547, 'x_1': 0.7600536869159625, 'x_2': 0.9998322632712117}. Best is trial 130 with value: 0.3213722589821713.\n"
     ]
    },
    {
     "name": "stdout",
     "output_type": "stream",
     "text": [
      "__________Iteration 153______________\n",
      "SLIM_w: 0.8824988926746573\n",
      "RP3b_w: 0.1074746312172158\n",
      "ItemKNN_w: 0.010026476108126936\n",
      "EvaluatorHoldout: Processed 34728 (100.0%) in 16.26 sec. Users per second: 2136\n",
      "EvaluatorHoldout: Processed 35209 (100.0%) in 17.40 sec. Users per second: 2023\n"
     ]
    },
    {
     "name": "stderr",
     "output_type": "stream",
     "text": [
      "[I 2025-01-03 18:23:38,656] Trial 153 finished with value: 0.32141718592211005 and parameters: {'x_0': 0.14445008605038437, 'x_1': 0.7900720632941921, 'x_2': 0.9782574572833794}. Best is trial 153 with value: 0.32141718592211005.\n"
     ]
    },
    {
     "name": "stdout",
     "output_type": "stream",
     "text": [
      "__________Iteration 154______________\n",
      "SLIM_w: 0.87549918347083\n",
      "RP3b_w: 0.11328387641201133\n",
      "ItemKNN_w: 0.011216940117158639\n",
      "EvaluatorHoldout: Processed 34728 (100.0%) in 16.25 sec. Users per second: 2137\n",
      "EvaluatorHoldout: Processed 35209 (100.0%) in 17.37 sec. Users per second: 2026\n"
     ]
    },
    {
     "name": "stderr",
     "output_type": "stream",
     "text": [
      "[I 2025-01-03 18:24:12,388] Trial 154 finished with value: 0.3212206436244244 and parameters: {'x_0': 0.13339989423644422, 'x_1': 0.7705500153755028, 'x_2': 0.974521550533512}. Best is trial 153 with value: 0.32141718592211005.\n"
     ]
    },
    {
     "name": "stdout",
     "output_type": "stream",
     "text": [
      "__________Iteration 155______________\n",
      "SLIM_w: 0.8742544529842161\n",
      "RP3b_w: 0.11238083590672063\n",
      "ItemKNN_w: 0.01336471110906328\n",
      "EvaluatorHoldout: Processed 34728 (100.0%) in 16.09 sec. Users per second: 2159\n",
      "EvaluatorHoldout: Processed 35209 (100.0%) in 17.42 sec. Users per second: 2021\n"
     ]
    },
    {
     "name": "stderr",
     "output_type": "stream",
     "text": [
      "[I 2025-01-03 18:24:46,005] Trial 155 finished with value: 0.32114791890421146 and parameters: {'x_0': 0.14748801667630493, 'x_1': 0.7818942643679431, 'x_2': 0.9711645029307172}. Best is trial 153 with value: 0.32141718592211005.\n"
     ]
    },
    {
     "name": "stdout",
     "output_type": "stream",
     "text": [
      "__________Iteration 156______________\n",
      "SLIM_w: 0.8638733764517805\n",
      "RP3b_w: 0.11679512662119575\n",
      "ItemKNN_w: 0.019331496927023756\n",
      "EvaluatorHoldout: Processed 34728 (100.0%) in 16.48 sec. Users per second: 2107\n",
      "EvaluatorHoldout: Processed 35209 (100.0%) in 17.12 sec. Users per second: 2057\n"
     ]
    },
    {
     "name": "stderr",
     "output_type": "stream",
     "text": [
      "[I 2025-01-03 18:25:19,702] Trial 156 finished with value: 0.3211423433334207 and parameters: {'x_0': 0.12474600136144018, 'x_1': 0.7547156929236647, 'x_2': 0.9544895052703826}. Best is trial 153 with value: 0.32141718592211005.\n"
     ]
    },
    {
     "name": "stdout",
     "output_type": "stream",
     "text": [
      "__________Iteration 157______________\n",
      "SLIM_w: 0.8948948465255397\n",
      "RP3b_w: 0.09309569464538078\n",
      "ItemKNN_w: 0.012009458829079486\n",
      "EvaluatorHoldout: Processed 34728 (100.0%) in 16.05 sec. Users per second: 2164\n",
      "EvaluatorHoldout: Processed 35209 (100.0%) in 17.23 sec. Users per second: 2044\n"
     ]
    },
    {
     "name": "stderr",
     "output_type": "stream",
     "text": [
      "[I 2025-01-03 18:25:53,080] Trial 157 finished with value: 0.32106602968455894 and parameters: {'x_0': 0.1672546918261923, 'x_1': 0.8302487553165975, 'x_2': 0.976287576759877}. Best is trial 153 with value: 0.32141718592211005.\n"
     ]
    },
    {
     "name": "stdout",
     "output_type": "stream",
     "text": [
      "__________Iteration 158______________\n",
      "SLIM_w: 0.8722818542922909\n",
      "RP3b_w: 0.10499770396803247\n",
      "ItemKNN_w: 0.022720441739676536\n",
      "EvaluatorHoldout: Processed 34728 (100.0%) in 16.06 sec. Users per second: 2162\n",
      "EvaluatorHoldout: Processed 35209 (100.0%) in 16.86 sec. Users per second: 2088\n"
     ]
    },
    {
     "name": "stderr",
     "output_type": "stream",
     "text": [
      "[I 2025-01-03 18:26:26,107] Trial 158 finished with value: 0.32132953793664704 and parameters: {'x_0': 0.14252924682423085, 'x_1': 0.7909596341473899, 'x_2': 0.9505207990874729}. Best is trial 153 with value: 0.32141718592211005.\n"
     ]
    },
    {
     "name": "stdout",
     "output_type": "stream",
     "text": [
      "__________Iteration 159______________\n",
      "SLIM_w: 0.8599325932619205\n",
      "RP3b_w: 0.11250051135041157\n",
      "ItemKNN_w: 0.027566895387667836\n",
      "EvaluatorHoldout: Processed 34728 (100.0%) in 15.83 sec. Users per second: 2194\n",
      "EvaluatorHoldout: Processed 35209 (100.0%) in 17.08 sec. Users per second: 2062\n"
     ]
    },
    {
     "name": "stderr",
     "output_type": "stream",
     "text": [
      "[I 2025-01-03 18:26:59,124] Trial 159 finished with value: 0.32118095883998926 and parameters: {'x_0': 0.17015028552199307, 'x_1': 0.7931838041388054, 'x_2': 0.9448062790464293}. Best is trial 153 with value: 0.32141718592211005.\n"
     ]
    },
    {
     "name": "stdout",
     "output_type": "stream",
     "text": [
      "__________Iteration 160______________\n",
      "SLIM_w: 0.861663634023455\n",
      "RP3b_w: 0.12161567012091623\n",
      "ItemKNN_w: 0.016720695855628798\n",
      "EvaluatorHoldout: Processed 34728 (100.0%) in 16.21 sec. Users per second: 2143\n",
      "EvaluatorHoldout: Processed 35209 (100.0%) in 17.55 sec. Users per second: 2007\n"
     ]
    },
    {
     "name": "stderr",
     "output_type": "stream",
     "text": [
      "[I 2025-01-03 18:27:32,980] Trial 160 finished with value: 0.3210754870404926 and parameters: {'x_0': 0.11677978095465524, 'x_1': 0.7385293645614677, 'x_2': 0.9591844886999513}. Best is trial 153 with value: 0.32141718592211005.\n"
     ]
    },
    {
     "name": "stdout",
     "output_type": "stream",
     "text": [
      "__________Iteration 161______________\n",
      "SLIM_w: 0.8759221800486152\n",
      "RP3b_w: 0.11583913100846663\n",
      "ItemKNN_w: 0.00823868894291794\n",
      "EvaluatorHoldout: Processed 34728 (100.0%) in 15.78 sec. Users per second: 2201\n",
      "EvaluatorHoldout: Processed 35209 (100.0%) in 16.91 sec. Users per second: 2083\n"
     ]
    },
    {
     "name": "stderr",
     "output_type": "stream",
     "text": [
      "[I 2025-01-03 18:28:05,771] Trial 161 finished with value: 0.3211884406158612 and parameters: {'x_0': 0.13600318389712387, 'x_1': 0.7680923249093321, 'x_2': 0.9814098107844754}. Best is trial 153 with value: 0.32141718592211005.\n"
     ]
    },
    {
     "name": "stdout",
     "output_type": "stream",
     "text": [
      "__________Iteration 162______________\n",
      "SLIM_w: 0.9048485171239317\n",
      "RP3b_w: 0.0840877361845407\n",
      "ItemKNN_w: 0.011063746691527591\n",
      "EvaluatorHoldout: Processed 34728 (100.0%) in 15.73 sec. Users per second: 2207\n",
      "EvaluatorHoldout: Processed 35209 (100.0%) in 17.28 sec. Users per second: 2037\n"
     ]
    },
    {
     "name": "stderr",
     "output_type": "stream",
     "text": [
      "[I 2025-01-03 18:28:38,885] Trial 162 finished with value: 0.32108933876858503 and parameters: {'x_0': 0.149952544321287, 'x_1': 0.8383420328181734, 'x_2': 0.9770667590945329}. Best is trial 153 with value: 0.32141718592211005.\n"
     ]
    },
    {
     "name": "stdout",
     "output_type": "stream",
     "text": [
      "__________Iteration 163______________\n",
      "SLIM_w: 0.8518402438187402\n",
      "RP3b_w: 0.11556632180450031\n",
      "ItemKNN_w: 0.03259343437675943\n",
      "EvaluatorHoldout: Processed 34728 (100.0%) in 15.73 sec. Users per second: 2208\n",
      "EvaluatorHoldout: Processed 35209 (100.0%) in 17.12 sec. Users per second: 2056\n"
     ]
    },
    {
     "name": "stderr",
     "output_type": "stream",
     "text": [
      "[I 2025-01-03 18:29:11,832] Trial 163 finished with value: 0.3211592060033914 and parameters: {'x_0': 0.22184631612590078, 'x_1': 0.8152317554270666, 'x_2': 0.9440139284846649}. Best is trial 153 with value: 0.32141718592211005.\n"
     ]
    },
    {
     "name": "stdout",
     "output_type": "stream",
     "text": [
      "__________Iteration 164______________\n",
      "SLIM_w: 0.8241818492753913\n",
      "RP3b_w: 0.15579284153961473\n",
      "ItemKNN_w: 0.020025309184993827\n",
      "EvaluatorHoldout: Processed 34728 (100.0%) in 15.79 sec. Users per second: 2200\n",
      "EvaluatorHoldout: Processed 35209 (100.0%) in 16.88 sec. Users per second: 2086\n"
     ]
    },
    {
     "name": "stderr",
     "output_type": "stream",
     "text": [
      "[I 2025-01-03 18:29:44,600] Trial 164 finished with value: 0.32077103236778515 and parameters: {'x_0': 0.17683699724714372, 'x_1': 0.7207270238484159, 'x_2': 0.9587781668000364}. Best is trial 153 with value: 0.32141718592211005.\n"
     ]
    },
    {
     "name": "stdout",
     "output_type": "stream",
     "text": [
      "__________Iteration 165______________\n",
      "SLIM_w: 0.9052609588865864\n",
      "RP3b_w: 0.08832677239566794\n",
      "ItemKNN_w: 0.0064122687177457435\n",
      "EvaluatorHoldout: Processed 34728 (100.0%) in 15.78 sec. Users per second: 2200\n",
      "EvaluatorHoldout: Processed 35209 (100.0%) in 16.86 sec. Users per second: 2088\n"
     ]
    },
    {
     "name": "stderr",
     "output_type": "stream",
     "text": [
      "[I 2025-01-03 18:30:17,350] Trial 165 finished with value: 0.3210405871531432 and parameters: {'x_0': 0.08900059136110862, 'x_1': 0.7897538102960447, 'x_2': 0.9830105876484813}. Best is trial 153 with value: 0.32141718592211005.\n"
     ]
    },
    {
     "name": "stdout",
     "output_type": "stream",
     "text": [
      "__________Iteration 166______________\n",
      "SLIM_w: 0.8587746172869486\n",
      "RP3b_w: 0.112978697749627\n",
      "ItemKNN_w: 0.02824668496342429\n",
      "EvaluatorHoldout: Processed 34728 (100.0%) in 15.73 sec. Users per second: 2208\n",
      "EvaluatorHoldout: Processed 35209 (100.0%) in 16.76 sec. Users per second: 2101\n"
     ]
    },
    {
     "name": "stderr",
     "output_type": "stream",
     "text": [
      "[I 2025-01-03 18:30:49,940] Trial 166 finished with value: 0.32110742998259817 and parameters: {'x_0': 0.13774134349937495, 'x_1': 0.7704367603674692, 'x_2': 0.9368762583612784}. Best is trial 153 with value: 0.32141718592211005.\n"
     ]
    },
    {
     "name": "stdout",
     "output_type": "stream",
     "text": [
      "__________Iteration 167______________\n",
      "SLIM_w: 0.9103685392410967\n",
      "RP3b_w: 0.08067689751397722\n",
      "ItemKNN_w: 0.008954563244926267\n",
      "EvaluatorHoldout: Processed 34728 (100.0%) in 15.72 sec. Users per second: 2210\n",
      "EvaluatorHoldout: Processed 35209 (100.0%) in 17.19 sec. Users per second: 2048\n"
     ]
    },
    {
     "name": "stderr",
     "output_type": "stream",
     "text": [
      "[I 2025-01-03 18:31:22,944] Trial 167 finished with value: 0.32107199456087915 and parameters: {'x_0': 0.11109365830048923, 'x_1': 0.8230551629959384, 'x_2': 0.9786180296183399}. Best is trial 153 with value: 0.32141718592211005.\n"
     ]
    },
    {
     "name": "stdout",
     "output_type": "stream",
     "text": [
      "__________Iteration 168______________\n",
      "SLIM_w: 0.8713407435546489\n",
      "RP3b_w: 0.10911795355256608\n",
      "ItemKNN_w: 0.01954130289278523\n",
      "EvaluatorHoldout: Processed 34728 (100.0%) in 16.18 sec. Users per second: 2146\n",
      "EvaluatorHoldout: Processed 35209 (100.0%) in 17.45 sec. Users per second: 2017\n"
     ]
    },
    {
     "name": "stderr",
     "output_type": "stream",
     "text": [
      "[I 2025-01-03 18:31:56,686] Trial 168 finished with value: 0.3212706876839231 and parameters: {'x_0': 0.15965542590229337, 'x_1': 0.7947210862463638, 'x_2': 0.959687933994342}. Best is trial 153 with value: 0.32141718592211005.\n"
     ]
    },
    {
     "name": "stdout",
     "output_type": "stream",
     "text": [
      "__________Iteration 169______________\n",
      "SLIM_w: 0.8376444525100957\n",
      "RP3b_w: 0.13452105584564875\n",
      "ItemKNN_w: 0.027834491644255558\n",
      "EvaluatorHoldout: Processed 34728 (100.0%) in 15.63 sec. Users per second: 2223\n",
      "EvaluatorHoldout: Processed 35209 (100.0%) in 16.90 sec. Users per second: 2083\n"
     ]
    },
    {
     "name": "stderr",
     "output_type": "stream",
     "text": [
      "[I 2025-01-03 18:32:29,312] Trial 169 finished with value: 0.3210241364011479 and parameters: {'x_0': 0.2430042350420842, 'x_1': 0.796770027715855, 'x_2': 0.954078844352283}. Best is trial 153 with value: 0.32141718592211005.\n"
     ]
    },
    {
     "name": "stdout",
     "output_type": "stream",
     "text": [
      "__________Iteration 170______________\n",
      "SLIM_w: 0.9039027658671116\n",
      "RP3b_w: 0.09474814016399086\n",
      "ItemKNN_w: 0.0013490939688975136\n",
      "EvaluatorHoldout: Processed 34728 (100.0%) in 16.04 sec. Users per second: 2165\n",
      "EvaluatorHoldout: Processed 35209 (100.0%) in 17.11 sec. Users per second: 2057\n"
     ]
    },
    {
     "name": "stderr",
     "output_type": "stream",
     "text": [
      "[I 2025-01-03 18:33:02,572] Trial 170 finished with value: 0.3210264428238304 and parameters: {'x_0': 0.20993499286975795, 'x_1': 0.8490634444876041, 'x_2': 0.9976729499698107}. Best is trial 153 with value: 0.32141718592211005.\n"
     ]
    },
    {
     "name": "stdout",
     "output_type": "stream",
     "text": [
      "__________Iteration 171______________\n",
      "SLIM_w: 0.8506233693540021\n",
      "RP3b_w: 0.13351937568638816\n",
      "ItemKNN_w: 0.01585725495960971\n",
      "EvaluatorHoldout: Processed 34728 (100.0%) in 15.98 sec. Users per second: 2173\n",
      "EvaluatorHoldout: Processed 35209 (100.0%) in 17.25 sec. Users per second: 2042\n"
     ]
    },
    {
     "name": "stderr",
     "output_type": "stream",
     "text": [
      "[I 2025-01-03 18:33:35,909] Trial 171 finished with value: 0.32096590789413987 and parameters: {'x_0': 0.1659385642038525, 'x_1': 0.7543238857115443, 'x_2': 0.9670709074026718}. Best is trial 153 with value: 0.32141718592211005.\n"
     ]
    },
    {
     "name": "stdout",
     "output_type": "stream",
     "text": [
      "__________Iteration 172______________\n",
      "SLIM_w: 0.8631682301265737\n",
      "RP3b_w: 0.12681813593217375\n",
      "ItemKNN_w: 0.010013633941252436\n",
      "EvaluatorHoldout: Processed 34728 (100.0%) in 16.57 sec. Users per second: 2096\n",
      "EvaluatorHoldout: Processed 35209 (100.0%) in 17.79 sec. Users per second: 1979\n"
     ]
    },
    {
     "name": "stderr",
     "output_type": "stream",
     "text": [
      "[I 2025-01-03 18:34:10,374] Trial 172 finished with value: 0.32105790568045844 and parameters: {'x_0': 0.1868648143229598, 'x_1': 0.7815766811543845, 'x_2': 0.9807289031644172}. Best is trial 153 with value: 0.32141718592211005.\n"
     ]
    },
    {
     "name": "stdout",
     "output_type": "stream",
     "text": [
      "__________Iteration 173______________\n",
      "SLIM_w: 0.8699369484793736\n",
      "RP3b_w: 0.10069563404212081\n",
      "ItemKNN_w: 0.029367417478505582\n",
      "EvaluatorHoldout: Processed 34728 (100.0%) in 16.06 sec. Users per second: 2163\n",
      "EvaluatorHoldout: Processed 35209 (100.0%) in 17.03 sec. Users per second: 2067\n"
     ]
    },
    {
     "name": "stderr",
     "output_type": "stream",
     "text": [
      "[I 2025-01-03 18:34:43,565] Trial 173 finished with value: 0.32125912173374993 and parameters: {'x_0': 0.15702166455725353, 'x_1': 0.8071085008261017, 'x_2': 0.939414207206437}. Best is trial 153 with value: 0.32141718592211005.\n"
     ]
    },
    {
     "name": "stdout",
     "output_type": "stream",
     "text": [
      "__________Iteration 174______________\n",
      "SLIM_w: 0.8670990357297478\n",
      "RP3b_w: 0.10030592801496256\n",
      "ItemKNN_w: 0.03259503625528947\n",
      "EvaluatorHoldout: Processed 34728 (100.0%) in 16.48 sec. Users per second: 2108\n",
      "EvaluatorHoldout: Processed 35209 (100.0%) in 17.54 sec. Users per second: 2007\n"
     ]
    },
    {
     "name": "stderr",
     "output_type": "stream",
     "text": [
      "[I 2025-01-03 18:35:17,689] Trial 174 finished with value: 0.32122266851434295 and parameters: {'x_0': 0.16399464364747046, 'x_1': 0.8112815053495882, 'x_2': 0.9342965336719232}. Best is trial 153 with value: 0.32141718592211005.\n"
     ]
    },
    {
     "name": "stdout",
     "output_type": "stream",
     "text": [
      "__________Iteration 175______________\n",
      "SLIM_w: 0.8940876089067454\n",
      "RP3b_w: 0.10579723933717075\n",
      "ItemKNN_w: 0.00011515175608387115\n",
      "EvaluatorHoldout: Processed 34728 (100.0%) in 16.11 sec. Users per second: 2156\n",
      "EvaluatorHoldout: Processed 35209 (100.0%) in 17.30 sec. Users per second: 2035\n"
     ]
    },
    {
     "name": "stderr",
     "output_type": "stream",
     "text": [
      "[I 2025-01-03 18:35:51,193] Trial 175 finished with value: 0.3213052290990287 and parameters: {'x_0': 0.20911217471425295, 'x_1': 0.830960915003597, 'x_2': 0.9997984749673935}. Best is trial 153 with value: 0.32141718592211005.\n"
     ]
    },
    {
     "name": "stdout",
     "output_type": "stream",
     "text": [
      "__________Iteration 176______________\n",
      "SLIM_w: 0.8762016809296169\n",
      "RP3b_w: 0.09873356957914589\n",
      "ItemKNN_w: 0.02506474949123717\n",
      "EvaluatorHoldout: Processed 34728 (100.0%) in 16.37 sec. Users per second: 2122\n",
      "EvaluatorHoldout: Processed 35209 (100.0%) in 17.44 sec. Users per second: 2019\n"
     ]
    },
    {
     "name": "stderr",
     "output_type": "stream",
     "text": [
      "[I 2025-01-03 18:36:25,103] Trial 176 finished with value: 0.32120763780414 and parameters: {'x_0': 0.20228611231079174, 'x_1': 0.8352062781394104, 'x_2': 0.9553144941254404}. Best is trial 153 with value: 0.32141718592211005.\n"
     ]
    },
    {
     "name": "stdout",
     "output_type": "stream",
     "text": [
      "__________Iteration 177______________\n",
      "SLIM_w: 0.8680747967999138\n",
      "RP3b_w: 0.13012741864876645\n",
      "ItemKNN_w: 0.0017977845513196097\n",
      "EvaluatorHoldout: Processed 34728 (100.0%) in 16.19 sec. Users per second: 2145\n",
      "EvaluatorHoldout: Processed 35209 (100.0%) in 17.54 sec. Users per second: 2007\n"
     ]
    },
    {
     "name": "stderr",
     "output_type": "stream",
     "text": [
      "[I 2025-01-03 18:36:58,946] Trial 177 finished with value: 0.32087856390456154 and parameters: {'x_0': 0.22581424140425638, 'x_1': 0.8000646569520481, 'x_2': 0.9969230047214146}. Best is trial 153 with value: 0.32141718592211005.\n"
     ]
    },
    {
     "name": "stdout",
     "output_type": "stream",
     "text": [
      "__________Iteration 178______________\n",
      "SLIM_w: 0.8900192166474615\n",
      "RP3b_w: 0.09113336282324337\n",
      "ItemKNN_w: 0.018847420529295052\n",
      "EvaluatorHoldout: Processed 34728 (100.0%) in 16.04 sec. Users per second: 2165\n",
      "EvaluatorHoldout: Processed 35209 (100.0%) in 16.96 sec. Users per second: 2076\n"
     ]
    },
    {
     "name": "stderr",
     "output_type": "stream",
     "text": [
      "[I 2025-01-03 18:37:32,054] Trial 178 finished with value: 0.32109436863609114 and parameters: {'x_0': 0.1502878321135482, 'x_1': 0.8236093300136986, 'x_2': 0.9606610737166251}. Best is trial 153 with value: 0.32141718592211005.\n"
     ]
    },
    {
     "name": "stdout",
     "output_type": "stream",
     "text": [
      "__________Iteration 179______________\n",
      "SLIM_w: 0.8776436562081942\n",
      "RP3b_w: 0.0869161709098884\n",
      "ItemKNN_w: 0.03544017288191736\n",
      "EvaluatorHoldout: Processed 34728 (100.0%) in 16.09 sec. Users per second: 2158\n",
      "EvaluatorHoldout: Processed 35209 (100.0%) in 16.90 sec. Users per second: 2083\n"
     ]
    },
    {
     "name": "stderr",
     "output_type": "stream",
     "text": [
      "[I 2025-01-03 18:38:05,149] Trial 179 finished with value: 0.3210503340336697 and parameters: {'x_0': 0.19233157324935346, 'x_1': 0.849370130923856, 'x_2': 0.9355978398417562}. Best is trial 153 with value: 0.32141718592211005.\n"
     ]
    },
    {
     "name": "stdout",
     "output_type": "stream",
     "text": [
      "__________Iteration 180______________\n",
      "SLIM_w: 0.8150909149567322\n",
      "RP3b_w: 0.1731919136784516\n",
      "ItemKNN_w: 0.011717171364816115\n",
      "EvaluatorHoldout: Processed 34728 (100.0%) in 16.28 sec. Users per second: 2134\n",
      "EvaluatorHoldout: Processed 35209 (100.0%) in 16.78 sec. Users per second: 2099\n"
     ]
    },
    {
     "name": "stderr",
     "output_type": "stream",
     "text": [
      "[I 2025-01-03 18:38:38,301] Trial 180 finished with value: 0.32067185326670483 and parameters: {'x_0': 0.2505621872721783, 'x_1': 0.7452132062587978, 'x_2': 0.9803005226330131}. Best is trial 153 with value: 0.32141718592211005.\n"
     ]
    },
    {
     "name": "stdout",
     "output_type": "stream",
     "text": [
      "__________Iteration 181______________\n",
      "SLIM_w: 0.8767472747436068\n",
      "RP3b_w: 0.11418707715130721\n",
      "ItemKNN_w: 0.009065648105085889\n",
      "EvaluatorHoldout: Processed 34728 (100.0%) in 15.64 sec. Users per second: 2221\n",
      "EvaluatorHoldout: Processed 35209 (100.0%) in 16.75 sec. Users per second: 2102\n"
     ]
    },
    {
     "name": "stderr",
     "output_type": "stream",
     "text": [
      "[I 2025-01-03 18:39:10,789] Trial 181 finished with value: 0.32125068604458384 and parameters: {'x_0': 0.17910795980653862, 'x_1': 0.7993299733979109, 'x_2': 0.9823746310785062}. Best is trial 153 with value: 0.32141718592211005.\n"
     ]
    },
    {
     "name": "stdout",
     "output_type": "stream",
     "text": [
      "__________Iteration 182______________\n",
      "SLIM_w: 0.8824562026033977\n",
      "RP3b_w: 0.11695197308793849\n",
      "ItemKNN_w: 0.0005918243086639123\n",
      "EvaluatorHoldout: Processed 34728 (100.0%) in 15.82 sec. Users per second: 2195\n",
      "EvaluatorHoldout: Processed 35209 (100.0%) in 17.33 sec. Users per second: 2031\n"
     ]
    },
    {
     "name": "stderr",
     "output_type": "stream",
     "text": [
      "[I 2025-01-03 18:39:44,052] Trial 182 finished with value: 0.32119386157618524 and parameters: {'x_0': 0.18140703835890842, 'x_1': 0.7975343331186091, 'x_2': 0.9988558377135683}. Best is trial 153 with value: 0.32141718592211005.\n"
     ]
    },
    {
     "name": "stdout",
     "output_type": "stream",
     "text": [
      "__________Iteration 183______________\n",
      "SLIM_w: 0.8693246716534392\n",
      "RP3b_w: 0.10838234356351177\n",
      "ItemKNN_w: 0.022292984783049037\n",
      "EvaluatorHoldout: Processed 34728 (100.0%) in 16.13 sec. Users per second: 2152\n",
      "EvaluatorHoldout: Processed 35209 (100.0%) in 17.13 sec. Users per second: 2055\n"
     ]
    },
    {
     "name": "stderr",
     "output_type": "stream",
     "text": [
      "[I 2025-01-03 18:40:17,421] Trial 183 finished with value: 0.3212113102923564 and parameters: {'x_0': 0.21100518936936216, 'x_1': 0.8236767334037189, 'x_2': 0.9608866406941367}. Best is trial 153 with value: 0.32141718592211005.\n"
     ]
    },
    {
     "name": "stdout",
     "output_type": "stream",
     "text": [
      "__________Iteration 184______________\n",
      "SLIM_w: 0.8789612479798208\n",
      "RP3b_w: 0.12102910367882963\n",
      "ItemKNN_w: 9.648341349749302e-06\n",
      "EvaluatorHoldout: Processed 34728 (100.0%) in 16.22 sec. Users per second: 2141\n",
      "EvaluatorHoldout: Processed 35209 (100.0%) in 17.71 sec. Users per second: 1988\n"
     ]
    },
    {
     "name": "stderr",
     "output_type": "stream",
     "text": [
      "[I 2025-01-03 18:40:51,450] Trial 184 finished with value: 0.32115383123335406 and parameters: {'x_0': 0.16181508179595275, 'x_1': 0.7781895412998204, 'x_2': 0.9999800078117554}. Best is trial 153 with value: 0.32141718592211005.\n"
     ]
    },
    {
     "name": "stdout",
     "output_type": "stream",
     "text": [
      "__________Iteration 185______________\n",
      "SLIM_w: 0.8939594470955085\n",
      "RP3b_w: 0.09621680223051936\n",
      "ItemKNN_w: 0.00982375067397223\n",
      "EvaluatorHoldout: Processed 34728 (100.0%) in 16.96 sec. Users per second: 2048\n",
      "EvaluatorHoldout: Processed 35209 (100.0%) in 18.07 sec. Users per second: 1949\n"
     ]
    },
    {
     "name": "stderr",
     "output_type": "stream",
     "text": [
      "[I 2025-01-03 18:41:26,584] Trial 185 finished with value: 0.3211471280184816 and parameters: {'x_0': 0.13922768520694803, 'x_1': 0.808796451993175, 'x_2': 0.9785665618854597}. Best is trial 153 with value: 0.32141718592211005.\n"
     ]
    },
    {
     "name": "stdout",
     "output_type": "stream",
     "text": [
      "__________Iteration 186______________\n",
      "SLIM_w: 0.8801313855927533\n",
      "RP3b_w: 0.08856380496852155\n",
      "ItemKNN_w: 0.0313048094387252\n",
      "EvaluatorHoldout: Processed 34728 (100.0%) in 16.16 sec. Users per second: 2149\n",
      "EvaluatorHoldout: Processed 35209 (100.0%) in 18.18 sec. Users per second: 1937\n"
     ]
    },
    {
     "name": "stderr",
     "output_type": "stream",
     "text": [
      "[I 2025-01-03 18:42:01,027] Trial 186 finished with value: 0.3210543586805746 and parameters: {'x_0': 0.1839755514365, 'x_1': 0.8433658246348593, 'x_2': 0.9415616042198088}. Best is trial 153 with value: 0.32141718592211005.\n"
     ]
    },
    {
     "name": "stdout",
     "output_type": "stream",
     "text": [
      "__________Iteration 187______________\n",
      "SLIM_w: 0.8926543347418363\n",
      "RP3b_w: 0.09490160448577396\n",
      "ItemKNN_w: 0.012444060772389805\n",
      "EvaluatorHoldout: Processed 34728 (100.0%) in 17.20 sec. Users per second: 2019\n",
      "EvaluatorHoldout: Processed 35209 (100.0%) in 18.20 sec. Users per second: 1934\n"
     ]
    },
    {
     "name": "stderr",
     "output_type": "stream",
     "text": [
      "[I 2025-01-03 18:42:36,537] Trial 187 finished with value: 0.32109699517547136 and parameters: {'x_0': 0.11031076719199578, 'x_1': 0.7910736739698182, 'x_2': 0.9697361842123311}. Best is trial 153 with value: 0.32141718592211005.\n"
     ]
    },
    {
     "name": "stdout",
     "output_type": "stream",
     "text": [
      "__________Iteration 188______________\n",
      "SLIM_w: 0.6517519339415611\n",
      "RP3b_w: 0.08130584360028861\n",
      "ItemKNN_w: 0.2669422224581503\n",
      "EvaluatorHoldout: Processed 34728 (100.0%) in 16.70 sec. Users per second: 2080\n",
      "EvaluatorHoldout: Processed 35209 (100.0%) in 17.40 sec. Users per second: 2023\n"
     ]
    },
    {
     "name": "stderr",
     "output_type": "stream",
     "text": [
      "[I 2025-01-03 18:43:10,753] Trial 188 finished with value: 0.3200824350730434 and parameters: {'x_0': 0.22635066112616672, 'x_1': 0.8308243826534243, 'x_2': 0.5441690376720594}. Best is trial 153 with value: 0.32141718592211005.\n"
     ]
    },
    {
     "name": "stdout",
     "output_type": "stream",
     "text": [
      "__________Iteration 189______________\n",
      "SLIM_w: 0.8864587731173345\n",
      "RP3b_w: 0.08629416881905762\n",
      "ItemKNN_w: 0.0272470580636079\n",
      "EvaluatorHoldout: Processed 34728 (100.0%) in 16.69 sec. Users per second: 2081\n",
      "EvaluatorHoldout: Processed 35209 (100.0%) in 17.25 sec. Users per second: 2041\n"
     ]
    },
    {
     "name": "stderr",
     "output_type": "stream",
     "text": [
      "[I 2025-01-03 18:43:44,794] Trial 189 finished with value: 0.32099516320725946 and parameters: {'x_0': 0.20350113673121537, 'x_1': 0.8564282888991297, 'x_2': 0.9522422321858364}. Best is trial 153 with value: 0.32141718592211005.\n"
     ]
    },
    {
     "name": "stdout",
     "output_type": "stream",
     "text": [
      "__________Iteration 190______________\n",
      "SLIM_w: 0.8983348963320514\n",
      "RP3b_w: 0.10157319119494042\n",
      "ItemKNN_w: 9.191247300820161e-05\n",
      "EvaluatorHoldout: Processed 34728 (100.0%) in 15.89 sec. Users per second: 2185\n",
      "EvaluatorHoldout: Processed 35209 (100.0%) in 16.82 sec. Users per second: 2093\n"
     ]
    },
    {
     "name": "stderr",
     "output_type": "stream",
     "text": [
      "[I 2025-01-03 18:44:17,606] Trial 190 finished with value: 0.3211442174284879 and parameters: {'x_0': 0.16099699402581014, 'x_1': 0.8134226115217239, 'x_2': 0.9998131537995586}. Best is trial 153 with value: 0.32141718592211005.\n"
     ]
    },
    {
     "name": "stdout",
     "output_type": "stream",
     "text": [
      "__________Iteration 191______________\n",
      "SLIM_w: 0.8576318296176232\n",
      "RP3b_w: 0.13164959453068303\n",
      "ItemKNN_w: 0.010718575851693744\n",
      "EvaluatorHoldout: Processed 34728 (100.0%) in 16.38 sec. Users per second: 2120\n",
      "EvaluatorHoldout: Processed 35209 (100.0%) in 17.43 sec. Users per second: 2020\n"
     ]
    },
    {
     "name": "stderr",
     "output_type": "stream",
     "text": [
      "[I 2025-01-03 18:44:51,524] Trial 191 finished with value: 0.32093478850325774 and parameters: {'x_0': 0.18437430939591973, 'x_1': 0.7714048246487717, 'x_2': 0.9790904513154669}. Best is trial 153 with value: 0.32141718592211005.\n"
     ]
    },
    {
     "name": "stdout",
     "output_type": "stream",
     "text": [
      "__________Iteration 192______________\n",
      "SLIM_w: 0.8662058286973301\n",
      "RP3b_w: 0.10344099486924861\n",
      "ItemKNN_w: 0.03035317643342124\n",
      "EvaluatorHoldout: Processed 34728 (100.0%) in 16.46 sec. Users per second: 2110\n",
      "EvaluatorHoldout: Processed 35209 (100.0%) in 17.34 sec. Users per second: 2031\n"
     ]
    },
    {
     "name": "stderr",
     "output_type": "stream",
     "text": [
      "[I 2025-01-03 18:45:25,426] Trial 192 finished with value: 0.3211615655101677 and parameters: {'x_0': 0.14775438255190682, 'x_1': 0.7958436629566202, 'x_2': 0.9351890757851813}. Best is trial 153 with value: 0.32141718592211005.\n"
     ]
    },
    {
     "name": "stdout",
     "output_type": "stream",
     "text": [
      "__________Iteration 193______________\n",
      "SLIM_w: 0.37983992090461044\n",
      "RP3b_w: 0.3083901756586123\n",
      "ItemKNN_w: 0.3117699034367772\n",
      "EvaluatorHoldout: Processed 34728 (100.0%) in 16.19 sec. Users per second: 2145\n",
      "EvaluatorHoldout: Processed 35209 (100.0%) in 17.28 sec. Users per second: 2038\n"
     ]
    },
    {
     "name": "stderr",
     "output_type": "stream",
     "text": [
      "[I 2025-01-03 18:45:58,996] Trial 193 finished with value: 0.314349572050162 and parameters: {'x_0': 0.2046387022421149, 'x_1': 0.2758000495110171, 'x_2': 0.2719340985394557}. Best is trial 153 with value: 0.32141718592211005.\n"
     ]
    },
    {
     "name": "stdout",
     "output_type": "stream",
     "text": [
      "__________Iteration 194______________\n",
      "SLIM_w: 0.8993933902437263\n",
      "RP3b_w: 0.0915960148847604\n",
      "ItemKNN_w: 0.009010594871513162\n",
      "EvaluatorHoldout: Processed 34728 (100.0%) in 16.13 sec. Users per second: 2152\n",
      "EvaluatorHoldout: Processed 35209 (100.0%) in 17.37 sec. Users per second: 2026\n"
     ]
    },
    {
     "name": "stderr",
     "output_type": "stream",
     "text": [
      "[I 2025-01-03 18:46:32,611] Trial 194 finished with value: 0.32106847912840997 and parameters: {'x_0': 0.1699055256297149, 'x_1': 0.8348391328897976, 'x_2': 0.9823987809301613}. Best is trial 153 with value: 0.32141718592211005.\n"
     ]
    },
    {
     "name": "stdout",
     "output_type": "stream",
     "text": [
      "__________Iteration 195______________\n",
      "SLIM_w: 0.8655352838035563\n",
      "RP3b_w: 0.11484364901621016\n",
      "ItemKNN_w: 0.0196210671802336\n",
      "EvaluatorHoldout: Processed 34728 (100.0%) in 16.19 sec. Users per second: 2146\n",
      "EvaluatorHoldout: Processed 35209 (100.0%) in 17.30 sec. Users per second: 2035\n"
     ]
    },
    {
     "name": "stderr",
     "output_type": "stream",
     "text": [
      "[I 2025-01-03 18:47:06,207] Trial 195 finished with value: 0.32112151280762496 and parameters: {'x_0': 0.1255302202269818, 'x_1': 0.7593068414623197, 'x_2': 0.9540458943813469}. Best is trial 153 with value: 0.32141718592211005.\n"
     ]
    },
    {
     "name": "stdout",
     "output_type": "stream",
     "text": [
      "__________Iteration 196______________\n",
      "SLIM_w: 0.8395972207482388\n",
      "RP3b_w: 0.11787070672385182\n",
      "ItemKNN_w: 0.04253207252790929\n",
      "EvaluatorHoldout: Processed 34728 (100.0%) in 16.25 sec. Users per second: 2137\n",
      "EvaluatorHoldout: Processed 35209 (100.0%) in 17.64 sec. Users per second: 1996\n"
     ]
    },
    {
     "name": "stderr",
     "output_type": "stream",
     "text": [
      "[I 2025-01-03 18:47:40,208] Trial 196 finished with value: 0.3212138093707675 and parameters: {'x_0': 0.22575147671889986, 'x_1': 0.8114401021136459, 'x_2': 0.9273771829473041}. Best is trial 153 with value: 0.32141718592211005.\n"
     ]
    },
    {
     "name": "stdout",
     "output_type": "stream",
     "text": [
      "__________Iteration 197______________\n",
      "SLIM_w: 0.6434900202003461\n",
      "RP3b_w: 0.34334897894100386\n",
      "ItemKNN_w: 0.01316100085864999\n",
      "EvaluatorHoldout: Processed 34728 (100.0%) in 16.74 sec. Users per second: 2074\n",
      "EvaluatorHoldout: Processed 35209 (100.0%) in 17.01 sec. Users per second: 2070\n"
     ]
    },
    {
     "name": "stderr",
     "output_type": "stream",
     "text": [
      "[I 2025-01-03 18:48:14,064] Trial 197 finished with value: 0.3179300499546993 and parameters: {'x_0': 0.18970690135240056, 'x_1': 0.41191211190517785, 'x_2': 0.9665736942029556}. Best is trial 153 with value: 0.32141718592211005.\n"
     ]
    },
    {
     "name": "stdout",
     "output_type": "stream",
     "text": [
      "__________Iteration 198______________\n",
      "SLIM_w: 0.8840515294230676\n",
      "RP3b_w: 0.11589679853897025\n",
      "ItemKNN_w: 5.167203796208749e-05\n",
      "EvaluatorHoldout: Processed 34728 (100.0%) in 15.82 sec. Users per second: 2196\n",
      "EvaluatorHoldout: Processed 35209 (100.0%) in 16.80 sec. Users per second: 2096\n"
     ]
    },
    {
     "name": "stderr",
     "output_type": "stream",
     "text": [
      "[I 2025-01-03 18:48:46,780] Trial 198 finished with value: 0.3212322879693226 and parameters: {'x_0': 0.16240018667317827, 'x_1': 0.7879705712432447, 'x_2': 0.9998937631548409}. Best is trial 153 with value: 0.32141718592211005.\n"
     ]
    },
    {
     "name": "stdout",
     "output_type": "stream",
     "text": [
      "__________Iteration 199______________\n",
      "SLIM_w: 0.88090436349549\n",
      "RP3b_w: 0.11184166471766782\n",
      "ItemKNN_w: 0.007253971786842167\n",
      "EvaluatorHoldout: Processed 34728 (100.0%) in 15.85 sec. Users per second: 2191\n",
      "EvaluatorHoldout: Processed 35209 (100.0%) in 17.05 sec. Users per second: 2066\n"
     ]
    },
    {
     "name": "stderr",
     "output_type": "stream",
     "text": [
      "[I 2025-01-03 18:49:19,778] Trial 199 finished with value: 0.3213271158625396 and parameters: {'x_0': 0.15363288329355268, 'x_1': 0.7883410500570128, 'x_2': 0.9846932294108846}. Best is trial 153 with value: 0.32141718592211005.\n"
     ]
    },
    {
     "name": "stdout",
     "output_type": "stream",
     "text": [
      "__________Iteration 200______________\n",
      "SLIM_w: 0.8561631689347925\n",
      "RP3b_w: 0.1345673215188661\n",
      "ItemKNN_w: 0.009269509546341342\n",
      "EvaluatorHoldout: Processed 34728 (100.0%) in 15.78 sec. Users per second: 2200\n",
      "EvaluatorHoldout: Processed 35209 (100.0%) in 16.76 sec. Users per second: 2101\n"
     ]
    },
    {
     "name": "stderr",
     "output_type": "stream",
     "text": [
      "[I 2025-01-03 18:49:52,416] Trial 200 finished with value: 0.3209269689717007 and parameters: {'x_0': 0.13434433013192032, 'x_1': 0.729420562412304, 'x_2': 0.9785012909971729}. Best is trial 153 with value: 0.32141718592211005.\n"
     ]
    },
    {
     "name": "stdout",
     "output_type": "stream",
     "text": [
      "__________Iteration 201______________\n",
      "SLIM_w: 0.8809732824611513\n",
      "RP3b_w: 0.1189090886965265\n",
      "ItemKNN_w: 0.00011762884232234358\n",
      "EvaluatorHoldout: Processed 34728 (100.0%) in 15.66 sec. Users per second: 2217\n",
      "EvaluatorHoldout: Processed 35209 (100.0%) in 16.84 sec. Users per second: 2090\n"
     ]
    },
    {
     "name": "stderr",
     "output_type": "stream",
     "text": [
      "[I 2025-01-03 18:50:25,020] Trial 201 finished with value: 0.3211491694792252 and parameters: {'x_0': 0.1571146596725419, 'x_1': 0.7789500434248514, 'x_2': 0.9997529117533267}. Best is trial 153 with value: 0.32141718592211005.\n"
     ]
    },
    {
     "name": "stdout",
     "output_type": "stream",
     "text": [
      "__________Iteration 202______________\n",
      "SLIM_w: 0.8741151496890148\n",
      "RP3b_w: 0.11677078278410749\n",
      "ItemKNN_w: 0.009114067526877727\n",
      "EvaluatorHoldout: Processed 34728 (100.0%) in 15.73 sec. Users per second: 2207\n",
      "EvaluatorHoldout: Processed 35209 (100.0%) in 16.80 sec. Users per second: 2096\n"
     ]
    },
    {
     "name": "stderr",
     "output_type": "stream",
     "text": [
      "[I 2025-01-03 18:50:57,654] Trial 202 finished with value: 0.3211514869606295 and parameters: {'x_0': 0.1772187293905584, 'x_1': 0.7936158683313296, 'x_2': 0.9821198627854375}. Best is trial 153 with value: 0.32141718592211005.\n"
     ]
    },
    {
     "name": "stdout",
     "output_type": "stream",
     "text": [
      "__________Iteration 203______________\n",
      "SLIM_w: 0.8887247140959526\n",
      "RP3b_w: 0.09477775381913336\n",
      "ItemKNN_w: 0.01649753208491397\n",
      "EvaluatorHoldout: Processed 34728 (100.0%) in 15.83 sec. Users per second: 2194\n",
      "EvaluatorHoldout: Processed 35209 (100.0%) in 17.09 sec. Users per second: 2061\n"
     ]
    },
    {
     "name": "stderr",
     "output_type": "stream",
     "text": [
      "[I 2025-01-03 18:51:30,670] Trial 203 finished with value: 0.3210825649180591 and parameters: {'x_0': 0.15334715450784334, 'x_1': 0.8187600730934329, 'x_2': 0.9657919352005527}. Best is trial 153 with value: 0.32141718592211005.\n"
     ]
    },
    {
     "name": "stdout",
     "output_type": "stream",
     "text": [
      "__________Iteration 204______________\n",
      "SLIM_w: 0.8558694313714355\n",
      "RP3b_w: 0.13377696059726255\n",
      "ItemKNN_w: 0.010353608031301934\n",
      "EvaluatorHoldout: Processed 34728 (100.0%) in 15.79 sec. Users per second: 2200\n",
      "EvaluatorHoldout: Processed 35209 (100.0%) in 17.12 sec. Users per second: 2057\n"
     ]
    },
    {
     "name": "stderr",
     "output_type": "stream",
     "text": [
      "[I 2025-01-03 18:52:03,671] Trial 204 finished with value: 0.3209749670712775 and parameters: {'x_0': 0.20786894379939225, 'x_1': 0.7822883711467002, 'x_2': 0.9811765881065176}. Best is trial 153 with value: 0.32141718592211005.\n"
     ]
    },
    {
     "name": "stdout",
     "output_type": "stream",
     "text": [
      "__________Iteration 205______________\n",
      "SLIM_w: 0.8688983548379218\n",
      "RP3b_w: 0.10617352612632212\n",
      "ItemKNN_w: 0.02492811903575612\n",
      "EvaluatorHoldout: Processed 34728 (100.0%) in 15.75 sec. Users per second: 2205\n",
      "EvaluatorHoldout: Processed 35209 (100.0%) in 16.80 sec. Users per second: 2096\n"
     ]
    },
    {
     "name": "stderr",
     "output_type": "stream",
     "text": [
      "[I 2025-01-03 18:52:36,323] Trial 205 finished with value: 0.3212855864152567 and parameters: {'x_0': 0.17645621568731265, 'x_1': 0.8089917844300621, 'x_2': 0.9514511880649563}. Best is trial 153 with value: 0.32141718592211005.\n"
     ]
    },
    {
     "name": "stdout",
     "output_type": "stream",
     "text": [
      "__________Iteration 206______________\n",
      "SLIM_w: 0.09424431757136408\n",
      "RP3b_w: 0.7014445890068782\n",
      "ItemKNN_w: 0.20431109342175752\n",
      "EvaluatorHoldout: Processed 34728 (100.0%) in 15.75 sec. Users per second: 2204\n",
      "EvaluatorHoldout: Processed 35209 (100.0%) in 17.02 sec. Users per second: 2068\n"
     ]
    },
    {
     "name": "stderr",
     "output_type": "stream",
     "text": [
      "[I 2025-01-03 18:53:09,198] Trial 206 finished with value: 0.3075516690489261 and parameters: {'x_0': 0.9766688698537365, 'x_1': 0.8388633440183563, 'x_2': 0.9501089221247834}. Best is trial 153 with value: 0.32141718592211005.\n"
     ]
    },
    {
     "name": "stdout",
     "output_type": "stream",
     "text": [
      "__________Iteration 207______________\n",
      "SLIM_w: 0.8696093479163709\n",
      "RP3b_w: 0.10991076419565243\n",
      "ItemKNN_w: 0.02047988788797668\n",
      "EvaluatorHoldout: Processed 34728 (100.0%) in 15.86 sec. Users per second: 2190\n",
      "EvaluatorHoldout: Processed 35209 (100.0%) in 16.87 sec. Users per second: 2087\n"
     ]
    },
    {
     "name": "stderr",
     "output_type": "stream",
     "text": [
      "[I 2025-01-03 18:53:42,026] Trial 207 finished with value: 0.32126701560498583 and parameters: {'x_0': 0.1858355384458413, 'x_1': 0.8083966039329047, 'x_2': 0.9611418519265451}. Best is trial 153 with value: 0.32141718592211005.\n"
     ]
    },
    {
     "name": "stdout",
     "output_type": "stream",
     "text": [
      "__________Iteration 208______________\n",
      "SLIM_w: 0.9160353012402814\n",
      "RP3b_w: 0.06421640371050368\n",
      "ItemKNN_w: 0.019748295049214788\n",
      "EvaluatorHoldout: Processed 34728 (100.0%) in 15.72 sec. Users per second: 2209\n",
      "EvaluatorHoldout: Processed 35209 (100.0%) in 16.80 sec. Users per second: 2095\n"
     ]
    },
    {
     "name": "stderr",
     "output_type": "stream",
     "text": [
      "[I 2025-01-03 18:54:14,651] Trial 208 finished with value: 0.3210419990956802 and parameters: {'x_0': 0.1132016987343247, 'x_1': 0.8583663535688946, 'x_2': 0.9541189957568987}. Best is trial 153 with value: 0.32141718592211005.\n"
     ]
    },
    {
     "name": "stdout",
     "output_type": "stream",
     "text": [
      "__________Iteration 209______________\n",
      "SLIM_w: 0.8532629096981547\n",
      "RP3b_w: 0.10723049833381737\n",
      "ItemKNN_w: 0.03950659196802786\n",
      "EvaluatorHoldout: Processed 34728 (100.0%) in 15.69 sec. Users per second: 2213\n",
      "EvaluatorHoldout: Processed 35209 (100.0%) in 16.90 sec. Users per second: 2083\n"
     ]
    },
    {
     "name": "stderr",
     "output_type": "stream",
     "text": [
      "[I 2025-01-03 18:54:47,343] Trial 209 finished with value: 0.32111101438974 and parameters: {'x_0': 0.18868394636892313, 'x_1': 0.8109252179631735, 'x_2': 0.9256910983658024}. Best is trial 153 with value: 0.32141718592211005.\n"
     ]
    },
    {
     "name": "stdout",
     "output_type": "stream",
     "text": [
      "__________Iteration 210______________\n",
      "SLIM_w: 0.3863994530665068\n",
      "RP3b_w: 0.050971200752368336\n",
      "ItemKNN_w: 0.5626293461811249\n",
      "EvaluatorHoldout: Processed 34728 (100.0%) in 15.91 sec. Users per second: 2182\n",
      "EvaluatorHoldout: Processed 35209 (100.0%) in 16.94 sec. Users per second: 2078\n"
     ]
    },
    {
     "name": "stderr",
     "output_type": "stream",
     "text": [
      "[I 2025-01-03 18:55:20,297] Trial 210 finished with value: 0.3138856425233721 and parameters: {'x_0': 0.24660602255203362, 'x_1': 0.8313755346172135, 'x_2': 0.1302289111718541}. Best is trial 153 with value: 0.32141718592211005.\n"
     ]
    },
    {
     "name": "stdout",
     "output_type": "stream",
     "text": [
      "__________Iteration 211______________\n",
      "SLIM_w: 0.8729206706734971\n",
      "RP3b_w: 0.11108617932112202\n",
      "ItemKNN_w: 0.015993150005380836\n",
      "EvaluatorHoldout: Processed 34728 (100.0%) in 15.86 sec. Users per second: 2190\n",
      "EvaluatorHoldout: Processed 35209 (100.0%) in 17.00 sec. Users per second: 2071\n"
     ]
    },
    {
     "name": "stderr",
     "output_type": "stream",
     "text": [
      "[I 2025-01-03 18:55:53,261] Trial 211 finished with value: 0.32117255800348915 and parameters: {'x_0': 0.17517693385805452, 'x_1': 0.8011730846212982, 'x_2': 0.9685887481560167}. Best is trial 153 with value: 0.32141718592211005.\n"
     ]
    },
    {
     "name": "stdout",
     "output_type": "stream",
     "text": [
      "__________Iteration 212______________\n",
      "SLIM_w: 0.8477899216056817\n",
      "RP3b_w: 0.14245198629137593\n",
      "ItemKNN_w: 0.009758092102942359\n",
      "EvaluatorHoldout: Processed 34728 (100.0%) in 15.79 sec. Users per second: 2199\n",
      "EvaluatorHoldout: Processed 35209 (100.0%) in 16.91 sec. Users per second: 2083\n"
     ]
    },
    {
     "name": "stderr",
     "output_type": "stream",
     "text": [
      "[I 2025-01-03 18:56:26,058] Trial 212 finished with value: 0.3208150476129903 and parameters: {'x_0': 0.20167370777662302, 'x_1': 0.7641207369967851, 'x_2': 0.9817400052238585}. Best is trial 153 with value: 0.32141718592211005.\n"
     ]
    },
    {
     "name": "stdout",
     "output_type": "stream",
     "text": [
      "__________Iteration 213______________\n",
      "SLIM_w: 0.7328182952551453\n",
      "RP3b_w: 0.07687011378278918\n",
      "ItemKNN_w: 0.19031159096206565\n",
      "EvaluatorHoldout: Processed 34728 (100.0%) in 15.86 sec. Users per second: 2190\n",
      "EvaluatorHoldout: Processed 35209 (100.0%) in 17.07 sec. Users per second: 2062\n"
     ]
    },
    {
     "name": "stderr",
     "output_type": "stream",
     "text": [
      "[I 2025-01-03 18:56:59,089] Trial 213 finished with value: 0.32084601503072174 and parameters: {'x_0': 0.14321752970011514, 'x_1': 0.8155806392342551, 'x_2': 0.6036896473131677}. Best is trial 153 with value: 0.32141718592211005.\n"
     ]
    },
    {
     "name": "stdout",
     "output_type": "stream",
     "text": [
      "__________Iteration 214______________\n",
      "SLIM_w: 0.8166354169831355\n",
      "RP3b_w: 0.155696527959716\n",
      "ItemKNN_w: 0.02766805505714845\n",
      "EvaluatorHoldout: Processed 34728 (100.0%) in 15.87 sec. Users per second: 2188\n",
      "EvaluatorHoldout: Processed 35209 (100.0%) in 16.99 sec. Users per second: 2073\n"
     ]
    },
    {
     "name": "stderr",
     "output_type": "stream",
     "text": [
      "[I 2025-01-03 18:57:32,047] Trial 214 finished with value: 0.3208207347811877 and parameters: {'x_0': 0.21581002214716585, 'x_1': 0.7465118167671633, 'x_2': 0.9493754160054549}. Best is trial 153 with value: 0.32141718592211005.\n"
     ]
    },
    {
     "name": "stdout",
     "output_type": "stream",
     "text": [
      "__________Iteration 215______________\n",
      "SLIM_w: 0.8868218463159317\n",
      "RP3b_w: 0.09576703750429251\n",
      "ItemKNN_w: 0.017411116179775813\n",
      "EvaluatorHoldout: Processed 34728 (100.0%) in 15.89 sec. Users per second: 2185\n",
      "EvaluatorHoldout: Processed 35209 (100.0%) in 17.41 sec. Users per second: 2022\n"
     ]
    },
    {
     "name": "stderr",
     "output_type": "stream",
     "text": [
      "[I 2025-01-03 18:58:05,456] Trial 215 finished with value: 0.3212196700296813 and parameters: {'x_0': 0.17190368808586975, 'x_1': 0.8268356324611328, 'x_2': 0.966020251560135}. Best is trial 153 with value: 0.32141718592211005.\n"
     ]
    },
    {
     "name": "stdout",
     "output_type": "stream",
     "text": [
      "__________Iteration 216______________\n",
      "SLIM_w: 0.8983809384731176\n",
      "RP3b_w: 0.10154850280036239\n",
      "ItemKNN_w: 7.055872652006053e-05\n",
      "EvaluatorHoldout: Processed 34728 (100.0%) in 16.15 sec. Users per second: 2150\n",
      "EvaluatorHoldout: Processed 35209 (100.0%) in 16.94 sec. Users per second: 2079\n"
     ]
    },
    {
     "name": "stderr",
     "output_type": "stream",
     "text": [
      "[I 2025-01-03 18:58:38,652] Trial 216 finished with value: 0.32114061802742827 and parameters: {'x_0': 0.13258841222367623, 'x_1': 0.7958155190374929, 'x_2': 0.9998413223340448}. Best is trial 153 with value: 0.32141718592211005.\n"
     ]
    },
    {
     "name": "stdout",
     "output_type": "stream",
     "text": [
      "__________Iteration 217______________\n",
      "SLIM_w: 0.90418893382503\n",
      "RP3b_w: 0.08771776098133754\n",
      "ItemKNN_w: 0.008093305193632425\n",
      "EvaluatorHoldout: Processed 34728 (100.0%) in 16.19 sec. Users per second: 2146\n",
      "EvaluatorHoldout: Processed 35209 (100.0%) in 17.07 sec. Users per second: 2063\n"
     ]
    },
    {
     "name": "stderr",
     "output_type": "stream",
     "text": [
      "[I 2025-01-03 18:59:12,010] Trial 217 finished with value: 0.3209909799823458 and parameters: {'x_0': 0.18691654718927544, 'x_1': 0.8498467559972711, 'x_2': 0.9851006178778738}. Best is trial 153 with value: 0.32141718592211005.\n"
     ]
    },
    {
     "name": "stdout",
     "output_type": "stream",
     "text": [
      "__________Iteration 218______________\n",
      "SLIM_w: 0.8165802589182068\n",
      "RP3b_w: 0.14326639732897825\n",
      "ItemKNN_w: 0.04015334375281493\n",
      "EvaluatorHoldout: Processed 34728 (100.0%) in 15.83 sec. Users per second: 2193\n",
      "EvaluatorHoldout: Processed 35209 (100.0%) in 17.05 sec. Users per second: 2065\n"
     ]
    },
    {
     "name": "stderr",
     "output_type": "stream",
     "text": [
      "[I 2025-01-03 18:59:44,992] Trial 218 finished with value: 0.32102679959771613 and parameters: {'x_0': 0.23153518206574464, 'x_1': 0.7736135740257553, 'x_2': 0.9305861602348053}. Best is trial 153 with value: 0.32141718592211005.\n"
     ]
    },
    {
     "name": "stdout",
     "output_type": "stream",
     "text": [
      "__________Iteration 219______________\n",
      "SLIM_w: 0.8778319356471213\n",
      "RP3b_w: 0.1032831238659918\n",
      "ItemKNN_w: 0.018884940486886822\n",
      "EvaluatorHoldout: Processed 34728 (100.0%) in 15.91 sec. Users per second: 2183\n",
      "EvaluatorHoldout: Processed 35209 (100.0%) in 17.42 sec. Users per second: 2022\n"
     ]
    },
    {
     "name": "stderr",
     "output_type": "stream",
     "text": [
      "[I 2025-01-03 19:00:18,421] Trial 219 finished with value: 0.32138830292790455 and parameters: {'x_0': 0.16005819210428515, 'x_1': 0.8060791330934522, 'x_2': 0.9613499362671233}. Best is trial 153 with value: 0.32141718592211005.\n"
     ]
    },
    {
     "name": "stdout",
     "output_type": "stream",
     "text": [
      "__________Iteration 220______________\n",
      "SLIM_w: 0.8852615254066194\n",
      "RP3b_w: 0.09650319249391792\n",
      "ItemKNN_w: 0.018235282099462714\n",
      "EvaluatorHoldout: Processed 34728 (100.0%) in 16.52 sec. Users per second: 2103\n",
      "EvaluatorHoldout: Processed 35209 (100.0%) in 17.54 sec. Users per second: 2007\n"
     ]
    },
    {
     "name": "stderr",
     "output_type": "stream",
     "text": [
      "[I 2025-01-03 19:00:52,584] Trial 220 finished with value: 0.32122092670302255 and parameters: {'x_0': 0.1464163435635479, 'x_1': 0.8110359998715131, 'x_2': 0.961196513207078}. Best is trial 153 with value: 0.32141718592211005.\n"
     ]
    },
    {
     "name": "stdout",
     "output_type": "stream",
     "text": [
      "__________Iteration 221______________\n",
      "SLIM_w: 0.8767633038518102\n",
      "RP3b_w: 0.11374419515957433\n",
      "ItemKNN_w: 0.009492500988615484\n",
      "EvaluatorHoldout: Processed 34728 (100.0%) in 16.33 sec. Users per second: 2127\n",
      "EvaluatorHoldout: Processed 35209 (100.0%) in 17.52 sec. Users per second: 2009\n"
     ]
    },
    {
     "name": "stderr",
     "output_type": "stream",
     "text": [
      "[I 2025-01-03 19:01:26,544] Trial 221 finished with value: 0.3212304095226375 and parameters: {'x_0': 0.17132197228478568, 'x_1': 0.7954283955990825, 'x_2': 0.9810805868944428}. Best is trial 153 with value: 0.32141718592211005.\n"
     ]
    },
    {
     "name": "stdout",
     "output_type": "stream",
     "text": [
      "__________Iteration 222______________\n",
      "SLIM_w: 0.8949233597321299\n",
      "RP3b_w: 0.10494778910735757\n",
      "ItemKNN_w: 0.00012885116051259874\n",
      "EvaluatorHoldout: Processed 34728 (100.0%) in 16.40 sec. Users per second: 2118\n",
      "EvaluatorHoldout: Processed 35209 (100.0%) in 17.55 sec. Users per second: 2006\n"
     ]
    },
    {
     "name": "stderr",
     "output_type": "stream",
     "text": [
      "[I 2025-01-03 19:02:00,595] Trial 222 finished with value: 0.32127047036196094 and parameters: {'x_0': 0.2011775426415267, 'x_1': 0.8285727940108332, 'x_2': 0.999769144837132}. Best is trial 153 with value: 0.32141718592211005.\n"
     ]
    },
    {
     "name": "stdout",
     "output_type": "stream",
     "text": [
      "__________Iteration 223______________\n",
      "SLIM_w: 0.897686227491772\n",
      "RP3b_w: 0.10209277229819254\n",
      "ItemKNN_w: 0.0002210002100354469\n",
      "EvaluatorHoldout: Processed 34728 (100.0%) in 16.60 sec. Users per second: 2092\n",
      "EvaluatorHoldout: Processed 35209 (100.0%) in 17.51 sec. Users per second: 2011\n"
     ]
    },
    {
     "name": "stderr",
     "output_type": "stream",
     "text": [
      "[I 2025-01-03 19:02:34,811] Trial 223 finished with value: 0.3211524201920512 and parameters: {'x_0': 0.1947673033110452, 'x_1': 0.8302282695061665, 'x_2': 0.9995973287432538}. Best is trial 153 with value: 0.32141718592211005.\n"
     ]
    },
    {
     "name": "stdout",
     "output_type": "stream",
     "text": [
      "__________Iteration 224______________\n",
      "SLIM_w: 0.9026934399968448\n",
      "RP3b_w: 0.07927423981750899\n",
      "ItemKNN_w: 0.018032320185646263\n",
      "EvaluatorHoldout: Processed 34728 (100.0%) in 16.50 sec. Users per second: 2104\n",
      "EvaluatorHoldout: Processed 35209 (100.0%) in 17.28 sec. Users per second: 2037\n"
     ]
    },
    {
     "name": "stderr",
     "output_type": "stream",
     "text": [
      "[I 2025-01-03 19:03:08,704] Trial 224 finished with value: 0.32102182315285327 and parameters: {'x_0': 0.16095387706976427, 'x_1': 0.8517904814623369, 'x_2': 0.964168560711712}. Best is trial 153 with value: 0.32141718592211005.\n"
     ]
    },
    {
     "name": "stdout",
     "output_type": "stream",
     "text": [
      "__________Iteration 225______________\n",
      "SLIM_w: 0.8556764766728028\n",
      "RP3b_w: 0.11143387909817079\n",
      "ItemKNN_w: 0.03288964422902655\n",
      "EvaluatorHoldout: Processed 34728 (100.0%) in 16.37 sec. Users per second: 2121\n",
      "EvaluatorHoldout: Processed 35209 (100.0%) in 17.54 sec. Users per second: 2007\n"
     ]
    },
    {
     "name": "stderr",
     "output_type": "stream",
     "text": [
      "[I 2025-01-03 19:03:42,726] Trial 225 finished with value: 0.32114061910805425 and parameters: {'x_0': 0.20761534420520916, 'x_1': 0.8148682392148835, 'x_2': 0.9413638040043053}. Best is trial 153 with value: 0.32141718592211005.\n"
     ]
    },
    {
     "name": "stdout",
     "output_type": "stream",
     "text": [
      "__________Iteration 226______________\n",
      "SLIM_w: 0.8958997718959181\n",
      "RP3b_w: 0.09534147541475549\n",
      "ItemKNN_w: 0.008758752689326393\n",
      "EvaluatorHoldout: Processed 34728 (100.0%) in 15.78 sec. Users per second: 2201\n",
      "EvaluatorHoldout: Processed 35209 (100.0%) in 16.79 sec. Users per second: 2098\n"
     ]
    },
    {
     "name": "stderr",
     "output_type": "stream",
     "text": [
      "[I 2025-01-03 19:04:15,391] Trial 226 finished with value: 0.3210697476157341 and parameters: {'x_0': 0.18137441130421394, 'x_1': 0.8338689585465633, 'x_2': 0.983448173049659}. Best is trial 153 with value: 0.32141718592211005.\n"
     ]
    },
    {
     "name": "stdout",
     "output_type": "stream",
     "text": [
      "__________Iteration 227______________\n",
      "SLIM_w: 0.6643905013613574\n",
      "RP3b_w: 0.06972589163427446\n",
      "ItemKNN_w: 0.265883607004368\n",
      "EvaluatorHoldout: Processed 34728 (100.0%) in 15.82 sec. Users per second: 2195\n",
      "EvaluatorHoldout: Processed 35209 (100.0%) in 16.78 sec. Users per second: 2098\n"
     ]
    },
    {
     "name": "stderr",
     "output_type": "stream",
     "text": [
      "[I 2025-01-03 19:04:48,094] Trial 227 finished with value: 0.3201118815995468 and parameters: {'x_0': 0.12191350126226677, 'x_1': 0.8018326544106483, 'x_2': 0.4307700085792856}. Best is trial 153 with value: 0.32141718592211005.\n"
     ]
    },
    {
     "name": "stdout",
     "output_type": "stream",
     "text": [
      "__________Iteration 228______________\n",
      "SLIM_w: 0.20057405675683188\n",
      "RP3b_w: 0.6802232977615936\n",
      "ItemKNN_w: 0.11920264548157453\n",
      "EvaluatorHoldout: Processed 34728 (100.0%) in 15.64 sec. Users per second: 2221\n",
      "EvaluatorHoldout: Processed 35209 (100.0%) in 16.73 sec. Users per second: 2104\n"
     ]
    },
    {
     "name": "stderr",
     "output_type": "stream",
     "text": [
      "[I 2025-01-03 19:05:20,564] Trial 228 finished with value: 0.30924962460302624 and parameters: {'x_0': 0.9428789469677592, 'x_1': 0.8191629922782103, 'x_2': 0.965648289279321}. Best is trial 153 with value: 0.32141718592211005.\n"
     ]
    },
    {
     "name": "stdout",
     "output_type": "stream",
     "text": [
      "__________Iteration 229______________\n",
      "SLIM_w: 0.8715483954428518\n",
      "RP3b_w: 0.12055131275948162\n",
      "ItemKNN_w: 0.007900291797666489\n",
      "EvaluatorHoldout: Processed 34728 (100.0%) in 15.66 sec. Users per second: 2218\n",
      "EvaluatorHoldout: Processed 35209 (100.0%) in 16.73 sec. Users per second: 2104\n"
     ]
    },
    {
     "name": "stderr",
     "output_type": "stream",
     "text": [
      "[I 2025-01-03 19:05:53,052] Trial 229 finished with value: 0.3211606462603931 and parameters: {'x_0': 0.1544150064377337, 'x_1': 0.7722905243882395, 'x_2': 0.9832087716009608}. Best is trial 153 with value: 0.32141718592211005.\n"
     ]
    },
    {
     "name": "stdout",
     "output_type": "stream",
     "text": [
      "__________Iteration 230______________\n",
      "SLIM_w: 0.8791461714540861\n",
      "RP3b_w: 0.08807013019047855\n",
      "ItemKNN_w: 0.03278369835543536\n",
      "EvaluatorHoldout: Processed 34728 (100.0%) in 15.63 sec. Users per second: 2222\n",
      "EvaluatorHoldout: Processed 35209 (100.0%) in 16.67 sec. Users per second: 2113\n"
     ]
    },
    {
     "name": "stderr",
     "output_type": "stream",
     "text": [
      "[I 2025-01-03 19:06:25,444] Trial 230 finished with value: 0.32104000467233884 and parameters: {'x_0': 0.2195164869874538, 'x_1': 0.8590733088655534, 'x_2': 0.9450244761659011}. Best is trial 153 with value: 0.32141718592211005.\n"
     ]
    },
    {
     "name": "stdout",
     "output_type": "stream",
     "text": [
      "__________Iteration 231______________\n",
      "SLIM_w: 0.865162908888856\n",
      "RP3b_w: 0.12461622167030212\n",
      "ItemKNN_w: 0.010220869440841858\n",
      "EvaluatorHoldout: Processed 34728 (100.0%) in 15.58 sec. Users per second: 2228\n",
      "EvaluatorHoldout: Processed 35209 (100.0%) in 16.72 sec. Users per second: 2106\n"
     ]
    },
    {
     "name": "stderr",
     "output_type": "stream",
     "text": [
      "[I 2025-01-03 19:06:57,846] Trial 231 finished with value: 0.32105987464626595 and parameters: {'x_0': 0.19419533221987895, 'x_1': 0.7897314465575631, 'x_2': 0.9808246882660392}. Best is trial 153 with value: 0.32141718592211005.\n"
     ]
    },
    {
     "name": "stdout",
     "output_type": "stream",
     "text": [
      "__________Iteration 232______________\n",
      "SLIM_w: 0.888008768016904\n",
      "RP3b_w: 0.11136444655351009\n",
      "ItemKNN_w: 0.0006267854295858488\n",
      "EvaluatorHoldout: Processed 34728 (100.0%) in 15.58 sec. Users per second: 2229\n",
      "EvaluatorHoldout: Processed 35209 (100.0%) in 16.68 sec. Users per second: 2111\n"
     ]
    },
    {
     "name": "stderr",
     "output_type": "stream",
     "text": [
      "[I 2025-01-03 19:07:30,199] Trial 232 finished with value: 0.3212263531165192 and parameters: {'x_0': 0.17190850271591313, 'x_1': 0.8018613353304679, 'x_2': 0.9987579471670395}. Best is trial 153 with value: 0.32141718592211005.\n"
     ]
    },
    {
     "name": "stdout",
     "output_type": "stream",
     "text": [
      "__________Iteration 233______________\n",
      "SLIM_w: 0.8704873391328671\n",
      "RP3b_w: 0.1294522505453467\n",
      "ItemKNN_w: 6.041032178614928e-05\n",
      "EvaluatorHoldout: Processed 34728 (100.0%) in 15.61 sec. Users per second: 2224\n",
      "EvaluatorHoldout: Processed 35209 (100.0%) in 16.67 sec. Users per second: 2112\n"
     ]
    },
    {
     "name": "stderr",
     "output_type": "stream",
     "text": [
      "[I 2025-01-03 19:08:02,583] Trial 233 finished with value: 0.32089957741443265 and parameters: {'x_0': 0.19202449029702068, 'x_1': 0.7823953345587775, 'x_2': 0.9998854902134703}. Best is trial 153 with value: 0.32141718592211005.\n"
     ]
    },
    {
     "name": "stdout",
     "output_type": "stream",
     "text": [
      "__________Iteration 234______________\n",
      "SLIM_w: 0.8933189379621287\n",
      "RP3b_w: 0.08865396921603956\n",
      "ItemKNN_w: 0.018027092821831778\n",
      "EvaluatorHoldout: Processed 34728 (100.0%) in 15.57 sec. Users per second: 2230\n",
      "EvaluatorHoldout: Processed 35209 (100.0%) in 16.61 sec. Users per second: 2120\n"
     ]
    },
    {
     "name": "stderr",
     "output_type": "stream",
     "text": [
      "[I 2025-01-03 19:08:34,866] Trial 234 finished with value: 0.32102260900468144 and parameters: {'x_0': 0.14711405610720668, 'x_1': 0.826793531244967, 'x_2': 0.9620626153736875}. Best is trial 153 with value: 0.32141718592211005.\n"
     ]
    },
    {
     "name": "stdout",
     "output_type": "stream",
     "text": [
      "__________Iteration 235______________\n",
      "SLIM_w: 0.8543410833361105\n",
      "RP3b_w: 0.1309565557041791\n",
      "ItemKNN_w: 0.014702360959710264\n",
      "EvaluatorHoldout: Processed 34728 (100.0%) in 15.70 sec. Users per second: 2212\n",
      "EvaluatorHoldout: Processed 35209 (100.0%) in 16.63 sec. Users per second: 2117\n"
     ]
    },
    {
     "name": "stderr",
     "output_type": "stream",
     "text": [
      "[I 2025-01-03 19:09:07,292] Trial 235 finished with value: 0.32092391940156856 and parameters: {'x_0': 0.16789061399463678, 'x_1': 0.7606925936619697, 'x_2': 0.9697582319086681}. Best is trial 153 with value: 0.32141718592211005.\n"
     ]
    },
    {
     "name": "stdout",
     "output_type": "stream",
     "text": [
      "__________Iteration 236______________\n",
      "SLIM_w: 0.4725043616588654\n",
      "RP3b_w: 0.5101300814085521\n",
      "ItemKNN_w: 0.017365556932582484\n",
      "EvaluatorHoldout: Processed 34728 (100.0%) in 15.60 sec. Users per second: 2226\n",
      "EvaluatorHoldout: Processed 35209 (100.0%) in 16.59 sec. Users per second: 2123\n"
     ]
    },
    {
     "name": "stderr",
     "output_type": "stream",
     "text": [
      "[I 2025-01-03 19:09:39,575] Trial 236 finished with value: 0.3137570968768968 and parameters: {'x_0': 0.20546695177372698, 'x_1': 0.18114040503313567, 'x_2': 0.9434997332407424}. Best is trial 153 with value: 0.32141718592211005.\n"
     ]
    },
    {
     "name": "stdout",
     "output_type": "stream",
     "text": [
      "__________Iteration 237______________\n",
      "SLIM_w: 0.6711572961087653\n",
      "RP3b_w: 0.3211552365811483\n",
      "ItemKNN_w: 0.0076874673100865345\n",
      "EvaluatorHoldout: Processed 34728 (100.0%) in 15.58 sec. Users per second: 2229\n",
      "EvaluatorHoldout: Processed 35209 (100.0%) in 16.58 sec. Users per second: 2124\n"
     ]
    },
    {
     "name": "stderr",
     "output_type": "stream",
     "text": [
      "[I 2025-01-03 19:10:11,823] Trial 237 finished with value: 0.3183980612694953 and parameters: {'x_0': 0.22935894596712758, 'x_1': 0.4943113582986361, 'x_2': 0.9832757227748687}. Best is trial 153 with value: 0.32141718592211005.\n"
     ]
    },
    {
     "name": "stdout",
     "output_type": "stream",
     "text": [
      "__________Iteration 238______________\n",
      "SLIM_w: 0.9084137710630654\n",
      "RP3b_w: 0.09136274402917528\n",
      "ItemKNN_w: 0.00022348490775917236\n",
      "EvaluatorHoldout: Processed 34728 (100.0%) in 15.48 sec. Users per second: 2243\n",
      "EvaluatorHoldout: Processed 35209 (100.0%) in 16.52 sec. Users per second: 2132\n"
     ]
    },
    {
     "name": "stderr",
     "output_type": "stream",
     "text": [
      "[I 2025-01-03 19:10:43,919] Trial 238 finished with value: 0.3210861141896619 and parameters: {'x_0': 0.17959722430015343, 'x_1': 0.8413989803563302, 'x_2': 0.999577669137356}. Best is trial 153 with value: 0.32141718592211005.\n"
     ]
    },
    {
     "name": "stdout",
     "output_type": "stream",
     "text": [
      "__________Iteration 239______________\n",
      "SLIM_w: 0.8715201499690498\n",
      "RP3b_w: 0.0928017552518291\n",
      "ItemKNN_w: 0.03567809477912118\n",
      "EvaluatorHoldout: Processed 34728 (100.0%) in 15.44 sec. Users per second: 2249\n",
      "EvaluatorHoldout: Processed 35209 (100.0%) in 16.59 sec. Users per second: 2122\n"
     ]
    },
    {
     "name": "stderr",
     "output_type": "stream",
     "text": [
      "[I 2025-01-03 19:11:16,048] Trial 239 finished with value: 0.3210901086880013 and parameters: {'x_0': 0.13491869724636898, 'x_1': 0.8079189520446666, 'x_2': 0.921270341211751}. Best is trial 153 with value: 0.32141718592211005.\n"
     ]
    },
    {
     "name": "stdout",
     "output_type": "stream",
     "text": [
      "__________Iteration 240______________\n",
      "SLIM_w: 0.7350867947447871\n",
      "RP3b_w: 0.09826908419541043\n",
      "ItemKNN_w: 0.16664412105980245\n",
      "EvaluatorHoldout: Processed 34728 (100.0%) in 15.52 sec. Users per second: 2238\n",
      "EvaluatorHoldout: Processed 35209 (100.0%) in 16.52 sec. Users per second: 2131\n"
     ]
    },
    {
     "name": "stderr",
     "output_type": "stream",
     "text": [
      "[I 2025-01-03 19:11:48,184] Trial 240 finished with value: 0.32109405502475513 and parameters: {'x_0': 0.15774514897080413, 'x_1': 0.781231658117764, 'x_2': 0.6579254533454283}. Best is trial 153 with value: 0.32141718592211005.\n"
     ]
    },
    {
     "name": "stdout",
     "output_type": "stream",
     "text": [
      "__________Iteration 241______________\n",
      "SLIM_w: 0.8763962966389728\n",
      "RP3b_w: 0.11263999825559559\n",
      "ItemKNN_w: 0.01096370510543163\n",
      "EvaluatorHoldout: Processed 34728 (100.0%) in 15.49 sec. Users per second: 2242\n",
      "EvaluatorHoldout: Processed 35209 (100.0%) in 16.49 sec. Users per second: 2135\n"
     ]
    },
    {
     "name": "stderr",
     "output_type": "stream",
     "text": [
      "[I 2025-01-03 19:12:20,265] Trial 241 finished with value: 0.321187117523164 and parameters: {'x_0': 0.1622231454469137, 'x_1': 0.791550633150145, 'x_2': 0.9775039537450463}. Best is trial 153 with value: 0.32141718592211005.\n"
     ]
    },
    {
     "name": "stdout",
     "output_type": "stream",
     "text": [
      "__________Iteration 242______________\n",
      "SLIM_w: 0.8892710522682171\n",
      "RP3b_w: 0.11050940732107238\n",
      "ItemKNN_w: 0.00021954041071055826\n",
      "EvaluatorHoldout: Processed 34728 (100.0%) in 15.56 sec. Users per second: 2232\n",
      "EvaluatorHoldout: Processed 35209 (100.0%) in 16.54 sec. Users per second: 2129\n"
     ]
    },
    {
     "name": "stderr",
     "output_type": "stream",
     "text": [
      "[I 2025-01-03 19:12:52,463] Trial 242 finished with value: 0.3212506940012609 and parameters: {'x_0': 0.1911675229869374, 'x_1': 0.8141446612861433, 'x_2': 0.9995915997576488}. Best is trial 153 with value: 0.32141718592211005.\n"
     ]
    },
    {
     "name": "stdout",
     "output_type": "stream",
     "text": [
      "__________Iteration 243______________\n",
      "SLIM_w: 0.8748485867195537\n",
      "RP3b_w: 0.10442887191450734\n",
      "ItemKNN_w: 0.020722541365939037\n",
      "EvaluatorHoldout: Processed 34728 (100.0%) in 15.57 sec. Users per second: 2230\n",
      "EvaluatorHoldout: Processed 35209 (100.0%) in 16.57 sec. Users per second: 2125\n"
     ]
    },
    {
     "name": "stderr",
     "output_type": "stream",
     "text": [
      "[I 2025-01-03 19:13:24,702] Trial 243 finished with value: 0.32138735642814764 and parameters: {'x_0': 0.20146908993308205, 'x_1': 0.8259329538152805, 'x_2': 0.9627616502248829}. Best is trial 153 with value: 0.32141718592211005.\n"
     ]
    },
    {
     "name": "stdout",
     "output_type": "stream",
     "text": [
      "__________Iteration 244______________\n",
      "SLIM_w: 0.8659760645913417\n",
      "RP3b_w: 0.1088174700168195\n",
      "ItemKNN_w: 0.025206465391838757\n",
      "EvaluatorHoldout: Processed 34728 (100.0%) in 15.44 sec. Users per second: 2249\n",
      "EvaluatorHoldout: Processed 35209 (100.0%) in 16.52 sec. Users per second: 2132\n"
     ]
    },
    {
     "name": "stderr",
     "output_type": "stream",
     "text": [
      "[I 2025-01-03 19:13:56,756] Trial 244 finished with value: 0.3211155068026792 and parameters: {'x_0': 0.21337027384081553, 'x_1': 0.8235686495053063, 'x_2': 0.9560326259676769}. Best is trial 153 with value: 0.32141718592211005.\n"
     ]
    },
    {
     "name": "stdout",
     "output_type": "stream",
     "text": [
      "__________Iteration 245______________\n",
      "SLIM_w: 0.8940472833248605\n",
      "RP3b_w: 0.09379925891701159\n",
      "ItemKNN_w: 0.012153457758128\n",
      "EvaluatorHoldout: Processed 34728 (100.0%) in 15.46 sec. Users per second: 2247\n",
      "EvaluatorHoldout: Processed 35209 (100.0%) in 16.54 sec. Users per second: 2129\n"
     ]
    },
    {
     "name": "stderr",
     "output_type": "stream",
     "text": [
      "[I 2025-01-03 19:14:28,846] Trial 245 finished with value: 0.3210666873801037 and parameters: {'x_0': 0.19678707548679927, 'x_1': 0.8431977184354601, 'x_2': 0.9781439293698108}. Best is trial 153 with value: 0.32141718592211005.\n"
     ]
    },
    {
     "name": "stdout",
     "output_type": "stream",
     "text": [
      "__________Iteration 246______________\n",
      "SLIM_w: 0.8755811295210599\n",
      "RP3b_w: 0.10508156744414589\n",
      "ItemKNN_w: 0.019337303034794254\n",
      "EvaluatorHoldout: Processed 34728 (100.0%) in 15.46 sec. Users per second: 2246\n",
      "EvaluatorHoldout: Processed 35209 (100.0%) in 16.49 sec. Users per second: 2135\n"
     ]
    },
    {
     "name": "stderr",
     "output_type": "stream",
     "text": [
      "[I 2025-01-03 19:15:00,895] Trial 246 finished with value: 0.32140036319633647 and parameters: {'x_0': 0.18111813591605253, 'x_1': 0.8146018751448917, 'x_2': 0.9629683424739781}. Best is trial 153 with value: 0.32141718592211005.\n"
     ]
    },
    {
     "name": "stdout",
     "output_type": "stream",
     "text": [
      "__________Iteration 247______________\n",
      "SLIM_w: 0.8680302416948963\n",
      "RP3b_w: 0.10982770207039595\n",
      "ItemKNN_w: 0.022142056234707837\n",
      "EvaluatorHoldout: Processed 34728 (100.0%) in 15.51 sec. Users per second: 2239\n",
      "EvaluatorHoldout: Processed 35209 (100.0%) in 16.52 sec. Users per second: 2132\n"
     ]
    },
    {
     "name": "stderr",
     "output_type": "stream",
     "text": [
      "[I 2025-01-03 19:15:33,023] Trial 247 finished with value: 0.3211976178584106 and parameters: {'x_0': 0.19793204557589905, 'x_1': 0.8146884490556034, 'x_2': 0.9595227071437319}. Best is trial 153 with value: 0.32141718592211005.\n"
     ]
    },
    {
     "name": "stdout",
     "output_type": "stream",
     "text": [
      "__________Iteration 248______________\n",
      "SLIM_w: 0.9085370681809092\n",
      "RP3b_w: 0.09113120956304449\n",
      "ItemKNN_w: 0.0003317222560463548\n",
      "EvaluatorHoldout: Processed 34728 (100.0%) in 15.41 sec. Users per second: 2254\n",
      "EvaluatorHoldout: Processed 35209 (100.0%) in 16.54 sec. Users per second: 2129\n"
     ]
    },
    {
     "name": "stderr",
     "output_type": "stream",
     "text": [
      "[I 2025-01-03 19:16:05,070] Trial 248 finished with value: 0.32109113776932263 and parameters: {'x_0': 0.23797826847165693, 'x_1': 0.8658911485286702, 'x_2': 0.999475984286446}. Best is trial 153 with value: 0.32141718592211005.\n"
     ]
    },
    {
     "name": "stdout",
     "output_type": "stream",
     "text": [
      "__________Iteration 249______________\n",
      "SLIM_w: 0.8657923442471823\n",
      "RP3b_w: 0.1019215880989023\n",
      "ItemKNN_w: 0.032286067653915444\n",
      "EvaluatorHoldout: Processed 34728 (100.0%) in 15.45 sec. Users per second: 2247\n",
      "EvaluatorHoldout: Processed 35209 (100.0%) in 16.53 sec. Users per second: 2130\n"
     ]
    },
    {
     "name": "stderr",
     "output_type": "stream",
     "text": [
      "[I 2025-01-03 19:16:37,151] Trial 249 finished with value: 0.3211622632966497 and parameters: {'x_0': 0.213049527718624, 'x_1': 0.8335820137071134, 'x_2': 0.9439707124583954}. Best is trial 153 with value: 0.32141718592211005.\n"
     ]
    },
    {
     "name": "stdout",
     "output_type": "stream",
     "text": [
      "__________Iteration 250______________\n",
      "SLIM_w: 0.8768689673332859\n",
      "RP3b_w: 0.10605740041827294\n",
      "ItemKNN_w: 0.01707363224844122\n",
      "EvaluatorHoldout: Processed 34728 (100.0%) in 15.45 sec. Users per second: 2247\n",
      "EvaluatorHoldout: Processed 35209 (100.0%) in 16.53 sec. Users per second: 2130\n"
     ]
    },
    {
     "name": "stderr",
     "output_type": "stream",
     "text": [
      "[I 2025-01-03 19:17:09,231] Trial 250 finished with value: 0.32137771249022173 and parameters: {'x_0': 0.17927452763863705, 'x_1': 0.8122935204771456, 'x_2': 0.9670861444639691}. Best is trial 153 with value: 0.32141718592211005.\n"
     ]
    },
    {
     "name": "stdout",
     "output_type": "stream",
     "text": [
      "__________Iteration 251______________\n",
      "SLIM_w: 0.9057175863314217\n",
      "RP3b_w: 0.0793389238450431\n",
      "ItemKNN_w: 0.014943489823535126\n",
      "EvaluatorHoldout: Processed 34728 (100.0%) in 15.43 sec. Users per second: 2251\n",
      "EvaluatorHoldout: Processed 35209 (100.0%) in 16.50 sec. Users per second: 2135\n"
     ]
    },
    {
     "name": "stderr",
     "output_type": "stream",
     "text": [
      "[I 2025-01-03 19:17:41,248] Trial 251 finished with value: 0.32107009464616226 and parameters: {'x_0': 0.14711945428999165, 'x_1': 0.8454534117179748, 'x_2': 0.9688740815095149}. Best is trial 153 with value: 0.32141718592211005.\n"
     ]
    },
    {
     "name": "stdout",
     "output_type": "stream",
     "text": [
      "__________Iteration 252______________\n",
      "SLIM_w: 0.6055151736545226\n",
      "RP3b_w: 0.3674757092273676\n",
      "ItemKNN_w: 0.027009117118109837\n",
      "EvaluatorHoldout: Processed 34728 (100.0%) in 15.42 sec. Users per second: 2253\n",
      "EvaluatorHoldout: Processed 35209 (100.0%) in 16.46 sec. Users per second: 2139\n"
     ]
    },
    {
     "name": "stderr",
     "output_type": "stream",
     "text": [
      "[I 2025-01-03 19:18:13,222] Trial 252 finished with value: 0.31732020150251633 and parameters: {'x_0': 0.17282508586978665, 'x_1': 0.3446021412245922, 'x_2': 0.9246839264475059}. Best is trial 153 with value: 0.32141718592211005.\n"
     ]
    },
    {
     "name": "stdout",
     "output_type": "stream",
     "text": [
      "__________Iteration 253______________\n",
      "SLIM_w: 0.8847475995440133\n",
      "RP3b_w: 0.09277456568386093\n",
      "ItemKNN_w: 0.022477834772125782\n",
      "EvaluatorHoldout: Processed 34728 (100.0%) in 15.42 sec. Users per second: 2252\n",
      "EvaluatorHoldout: Processed 35209 (100.0%) in 16.52 sec. Users per second: 2131\n"
     ]
    },
    {
     "name": "stderr",
     "output_type": "stream",
     "text": [
      "[I 2025-01-03 19:18:45,259] Trial 253 finished with value: 0.32114525089679385 and parameters: {'x_0': 0.12476804684402412, 'x_1': 0.8039285815646138, 'x_2': 0.9484963554758509}. Best is trial 153 with value: 0.32141718592211005.\n"
     ]
    },
    {
     "name": "stdout",
     "output_type": "stream",
     "text": [
      "__________Iteration 254______________\n",
      "SLIM_w: 0.884413830501155\n",
      "RP3b_w: 0.09747119235957748\n",
      "ItemKNN_w: 0.018114977139267626\n",
      "EvaluatorHoldout: Processed 34728 (100.0%) in 15.41 sec. Users per second: 2253\n",
      "EvaluatorHoldout: Processed 35209 (100.0%) in 16.48 sec. Users per second: 2137\n"
     ]
    },
    {
     "name": "stderr",
     "output_type": "stream",
     "text": [
      "[I 2025-01-03 19:19:17,248] Trial 254 finished with value: 0.3212436893011601 and parameters: {'x_0': 0.17626534132219707, 'x_1': 0.825886000680353, 'x_2': 0.9650718299046449}. Best is trial 153 with value: 0.32141718592211005.\n"
     ]
    },
    {
     "name": "stdout",
     "output_type": "stream",
     "text": [
      "__________Iteration 255______________\n",
      "SLIM_w: 0.8918659658108508\n",
      "RP3b_w: 0.09927891817412428\n",
      "ItemKNN_w: 0.00885511601502493\n",
      "EvaluatorHoldout: Processed 34728 (100.0%) in 15.50 sec. Users per second: 2240\n",
      "EvaluatorHoldout: Processed 35209 (100.0%) in 16.52 sec. Users per second: 2131\n"
     ]
    },
    {
     "name": "stderr",
     "output_type": "stream",
     "text": [
      "[I 2025-01-03 19:19:49,375] Trial 255 finished with value: 0.3211796162888114 and parameters: {'x_0': 0.10371352852433688, 'x_1': 0.7770460760310879, 'x_2': 0.9777514615993608}. Best is trial 153 with value: 0.32141718592211005.\n"
     ]
    },
    {
     "name": "stdout",
     "output_type": "stream",
     "text": [
      "__________Iteration 256______________\n",
      "SLIM_w: 0.8702487278281225\n",
      "RP3b_w: 0.10095488534462557\n",
      "ItemKNN_w: 0.02879638682725208\n",
      "EvaluatorHoldout: Processed 34728 (100.0%) in 15.42 sec. Users per second: 2252\n",
      "EvaluatorHoldout: Processed 35209 (100.0%) in 16.50 sec. Users per second: 2134\n"
     ]
    },
    {
     "name": "stderr",
     "output_type": "stream",
     "text": [
      "[I 2025-01-03 19:20:21,387] Trial 256 finished with value: 0.32124962936722573 and parameters: {'x_0': 0.14996383156081544, 'x_1': 0.8024328968112872, 'x_2': 0.9391469018771035}. Best is trial 153 with value: 0.32141718592211005.\n"
     ]
    },
    {
     "name": "stdout",
     "output_type": "stream",
     "text": [
      "__________Iteration 257______________\n",
      "SLIM_w: 0.8859350023384616\n",
      "RP3b_w: 0.0886226835615659\n",
      "ItemKNN_w: 0.025442314099972663\n",
      "EvaluatorHoldout: Processed 34728 (100.0%) in 15.45 sec. Users per second: 2248\n",
      "EvaluatorHoldout: Processed 35209 (100.0%) in 16.48 sec. Users per second: 2137\n"
     ]
    },
    {
     "name": "stderr",
     "output_type": "stream",
     "text": [
      "[I 2025-01-03 19:20:53,411] Trial 257 finished with value: 0.3210697945923312 and parameters: {'x_0': 0.22115221698408705, 'x_1': 0.8598991970283527, 'x_2': 0.9575926863905716}. Best is trial 153 with value: 0.32141718592211005.\n"
     ]
    },
    {
     "name": "stdout",
     "output_type": "stream",
     "text": [
      "__________Iteration 258______________\n",
      "SLIM_w: 0.8879214753404083\n",
      "RP3b_w: 0.10230164958938952\n",
      "ItemKNN_w: 0.009776875070202206\n",
      "EvaluatorHoldout: Processed 34728 (100.0%) in 15.41 sec. Users per second: 2253\n",
      "EvaluatorHoldout: Processed 35209 (100.0%) in 16.44 sec. Users per second: 2141\n"
     ]
    },
    {
     "name": "stderr",
     "output_type": "stream",
     "text": [
      "[I 2025-01-03 19:21:25,363] Trial 258 finished with value: 0.32133711517175234 and parameters: {'x_0': 0.19002225500042716, 'x_1': 0.825862293666001, 'x_2': 0.98188118704154}. Best is trial 153 with value: 0.32141718592211005.\n"
     ]
    },
    {
     "name": "stdout",
     "output_type": "stream",
     "text": [
      "__________Iteration 259______________\n",
      "SLIM_w: 0.8774462225063192\n",
      "RP3b_w: 0.08409414610145137\n",
      "ItemKNN_w: 0.03845963139222924\n",
      "EvaluatorHoldout: Processed 34728 (100.0%) in 15.51 sec. Users per second: 2239\n",
      "EvaluatorHoldout: Processed 35209 (100.0%) in 16.64 sec. Users per second: 2116\n"
     ]
    },
    {
     "name": "stderr",
     "output_type": "stream",
     "text": [
      "[I 2025-01-03 19:21:57,610] Trial 259 finished with value: 0.3209880200025851 and parameters: {'x_0': 0.16084179786085528, 'x_1': 0.8393470021071958, 'x_2': 0.9230291409076111}. Best is trial 153 with value: 0.32141718592211005.\n"
     ]
    },
    {
     "name": "stdout",
     "output_type": "stream",
     "text": [
      "__________Iteration 260______________\n",
      "SLIM_w: 0.8811210729341612\n",
      "RP3b_w: 0.10652774972295846\n",
      "ItemKNN_w: 0.012351177342880425\n",
      "EvaluatorHoldout: Processed 34728 (100.0%) in 15.43 sec. Users per second: 2250\n",
      "EvaluatorHoldout: Processed 35209 (100.0%) in 16.50 sec. Users per second: 2134\n"
     ]
    },
    {
     "name": "stderr",
     "output_type": "stream",
     "text": [
      "[I 2025-01-03 19:22:29,637] Trial 260 finished with value: 0.32143923701120636 and parameters: {'x_0': 0.20198651900737133, 'x_1': 0.824163371515084, 'x_2': 0.9778276352759636}. Best is trial 260 with value: 0.32143923701120636.\n"
     ]
    },
    {
     "name": "stdout",
     "output_type": "stream",
     "text": [
      "__________Iteration 261______________\n",
      "SLIM_w: 0.8700239365522358\n",
      "RP3b_w: 0.10819408738803701\n",
      "ItemKNN_w: 0.021781976059727308\n",
      "EvaluatorHoldout: Processed 34728 (100.0%) in 15.41 sec. Users per second: 2254\n",
      "EvaluatorHoldout: Processed 35209 (100.0%) in 16.48 sec. Users per second: 2136\n"
     ]
    },
    {
     "name": "stderr",
     "output_type": "stream",
     "text": [
      "[I 2025-01-03 19:23:01,622] Trial 261 finished with value: 0.32125068535658113 and parameters: {'x_0': 0.24217231156210672, 'x_1': 0.8383226501199113, 'x_2': 0.9651190776399811}. Best is trial 260 with value: 0.32143923701120636.\n"
     ]
    },
    {
     "name": "stdout",
     "output_type": "stream",
     "text": [
      "__________Iteration 262______________\n",
      "SLIM_w: 0.8865205336477603\n",
      "RP3b_w: 0.08173045160770835\n",
      "ItemKNN_w: 0.0317490147445314\n",
      "EvaluatorHoldout: Processed 34728 (100.0%) in 15.47 sec. Users per second: 2244\n",
      "EvaluatorHoldout: Processed 35209 (100.0%) in 16.46 sec. Users per second: 2140\n"
     ]
    },
    {
     "name": "stderr",
     "output_type": "stream",
     "text": [
      "[I 2025-01-03 19:23:33,647] Trial 262 finished with value: 0.32116892120271845 and parameters: {'x_0': 0.20682631838057783, 'x_1': 0.8647768586061132, 'x_2': 0.9451260818732524}. Best is trial 260 with value: 0.32143923701120636.\n"
     ]
    },
    {
     "name": "stdout",
     "output_type": "stream",
     "text": [
      "__________Iteration 263______________\n",
      "SLIM_w: 0.8607874412046826\n",
      "RP3b_w: 0.12520164112922158\n",
      "ItemKNN_w: 0.014010917666095765\n",
      "EvaluatorHoldout: Processed 34728 (100.0%) in 15.43 sec. Users per second: 2251\n",
      "EvaluatorHoldout: Processed 35209 (100.0%) in 16.44 sec. Users per second: 2142\n"
     ]
    },
    {
     "name": "stderr",
     "output_type": "stream",
     "text": [
      "[I 2025-01-03 19:24:05,607] Trial 263 finished with value: 0.32106302805197773 and parameters: {'x_0': 0.2673149984928261, 'x_1': 0.8253924103302553, 'x_2': 0.9787544243368944}. Best is trial 260 with value: 0.32143923701120636.\n"
     ]
    },
    {
     "name": "stdout",
     "output_type": "stream",
     "text": [
      "__________Iteration 264______________\n",
      "SLIM_w: 0.8803022431371652\n",
      "RP3b_w: 0.10339895490673018\n",
      "ItemKNN_w: 0.016298801956104746\n",
      "EvaluatorHoldout: Processed 34728 (100.0%) in 15.39 sec. Users per second: 2257\n",
      "EvaluatorHoldout: Processed 35209 (100.0%) in 16.46 sec. Users per second: 2139\n"
     ]
    },
    {
     "name": "stderr",
     "output_type": "stream",
     "text": [
      "[I 2025-01-03 19:24:37,549] Trial 264 finished with value: 0.32138741779655744 and parameters: {'x_0': 0.1360065162527472, 'x_1': 0.7910961112276881, 'x_2': 0.9637354898858165}. Best is trial 260 with value: 0.32143923701120636.\n"
     ]
    },
    {
     "name": "stdout",
     "output_type": "stream",
     "text": [
      "__________Iteration 265______________\n",
      "SLIM_w: 0.8686432259496494\n",
      "RP3b_w: 0.11610877916136511\n",
      "ItemKNN_w: 0.01524799488898542\n",
      "EvaluatorHoldout: Processed 34728 (100.0%) in 15.49 sec. Users per second: 2243\n",
      "EvaluatorHoldout: Processed 35209 (100.0%) in 16.49 sec. Users per second: 2135\n"
     ]
    },
    {
     "name": "stderr",
     "output_type": "stream",
     "text": [
      "[I 2025-01-03 19:25:09,619] Trial 265 finished with value: 0.321115612557292 and parameters: {'x_0': 0.13302763321603228, 'x_1': 0.7636600884102842, 'x_2': 0.9652100721872001}. Best is trial 260 with value: 0.32143923701120636.\n"
     ]
    },
    {
     "name": "stdout",
     "output_type": "stream",
     "text": [
      "__________Iteration 266______________\n",
      "SLIM_w: 0.8575827233110083\n",
      "RP3b_w: 0.1318183753346369\n",
      "ItemKNN_w: 0.010598901354354803\n",
      "EvaluatorHoldout: Processed 34728 (100.0%) in 15.41 sec. Users per second: 2253\n",
      "EvaluatorHoldout: Processed 35209 (100.0%) in 16.47 sec. Users per second: 2138\n"
     ]
    },
    {
     "name": "stderr",
     "output_type": "stream",
     "text": [
      "[I 2025-01-03 19:25:41,600] Trial 266 finished with value: 0.32091607679208867 and parameters: {'x_0': 0.19499340769781373, 'x_1': 0.7778028208999835, 'x_2': 0.9799983085311862}. Best is trial 260 with value: 0.32143923701120636.\n"
     ]
    },
    {
     "name": "stdout",
     "output_type": "stream",
     "text": [
      "__________Iteration 267______________\n",
      "SLIM_w: 0.8891491189109908\n",
      "RP3b_w: 0.09487237458266644\n",
      "ItemKNN_w: 0.015978506506342794\n",
      "EvaluatorHoldout: Processed 34728 (100.0%) in 15.42 sec. Users per second: 2252\n",
      "EvaluatorHoldout: Processed 35209 (100.0%) in 16.49 sec. Users per second: 2135\n"
     ]
    },
    {
     "name": "stderr",
     "output_type": "stream",
     "text": [
      "[I 2025-01-03 19:26:13,613] Trial 267 finished with value: 0.32110128447894515 and parameters: {'x_0': 0.06681596386083331, 'x_1': 0.7492288725589109, 'x_2': 0.9525382874360105}. Best is trial 260 with value: 0.32143923701120636.\n"
     ]
    },
    {
     "name": "stdout",
     "output_type": "stream",
     "text": [
      "__________Iteration 268______________\n",
      "SLIM_w: 0.855018326939874\n",
      "RP3b_w: 0.1344204923593241\n",
      "ItemKNN_w: 0.010561180700801868\n",
      "EvaluatorHoldout: Processed 34728 (100.0%) in 15.39 sec. Users per second: 2256\n",
      "EvaluatorHoldout: Processed 35209 (100.0%) in 16.47 sec. Users per second: 2137\n"
     ]
    },
    {
     "name": "stderr",
     "output_type": "stream",
     "text": [
      "[I 2025-01-03 19:26:45,573] Trial 268 finished with value: 0.32091998193508997 and parameters: {'x_0': 0.22048880531213033, 'x_1': 0.7884450805895091, 'x_2': 0.9814982169083881}. Best is trial 260 with value: 0.32143923701120636.\n"
     ]
    },
    {
     "name": "stdout",
     "output_type": "stream",
     "text": [
      "__________Iteration 269______________\n",
      "SLIM_w: 0.8939914288291197\n",
      "RP3b_w: 0.07361192392190988\n",
      "ItemKNN_w: 0.0323966472489704\n",
      "EvaluatorHoldout: Processed 34728 (100.0%) in 15.44 sec. Users per second: 2250\n",
      "EvaluatorHoldout: Processed 35209 (100.0%) in 16.49 sec. Users per second: 2135\n"
     ]
    },
    {
     "name": "stderr",
     "output_type": "stream",
     "text": [
      "[I 2025-01-03 19:27:17,589] Trial 269 finished with value: 0.32099037139709863 and parameters: {'x_0': 0.093456662238983, 'x_1': 0.82269579634084, 'x_2': 0.9176916092597633}. Best is trial 260 with value: 0.32143923701120636.\n"
     ]
    },
    {
     "name": "stdout",
     "output_type": "stream",
     "text": [
      "__________Iteration 270______________\n",
      "SLIM_w: 0.9126368371726103\n",
      "RP3b_w: 0.07062348151268905\n",
      "ItemKNN_w: 0.016739681314700525\n",
      "EvaluatorHoldout: Processed 34728 (100.0%) in 15.43 sec. Users per second: 2251\n",
      "EvaluatorHoldout: Processed 35209 (100.0%) in 16.44 sec. Users per second: 2142\n"
     ]
    },
    {
     "name": "stderr",
     "output_type": "stream",
     "text": [
      "[I 2025-01-03 19:27:49,552] Trial 270 finished with value: 0.32089889236428665 and parameters: {'x_0': 0.11842294700219018, 'x_1': 0.8478104562935878, 'x_2': 0.9616230454211304}. Best is trial 260 with value: 0.32143923701120636.\n"
     ]
    },
    {
     "name": "stdout",
     "output_type": "stream",
     "text": [
      "__________Iteration 271______________\n",
      "SLIM_w: 0.8746717074751811\n",
      "RP3b_w: 0.11728884043123494\n",
      "ItemKNN_w: 0.008039452093583923\n",
      "EvaluatorHoldout: Processed 34728 (100.0%) in 15.43 sec. Users per second: 2250\n",
      "EvaluatorHoldout: Processed 35209 (100.0%) in 16.43 sec. Users per second: 2143\n"
     ]
    },
    {
     "name": "stderr",
     "output_type": "stream",
     "text": [
      "[I 2025-01-03 19:28:21,509] Trial 271 finished with value: 0.32116125548777386 and parameters: {'x_0': 0.1786708713410202, 'x_1': 0.7937877135906204, 'x_2': 0.9842951190912971}. Best is trial 260 with value: 0.32143923701120636.\n"
     ]
    },
    {
     "name": "stdout",
     "output_type": "stream",
     "text": [
      "__________Iteration 272______________\n",
      "SLIM_w: 0.8819804193884513\n",
      "RP3b_w: 0.08832877289166602\n",
      "ItemKNN_w: 0.029690807719882677\n",
      "EvaluatorHoldout: Processed 34728 (100.0%) in 15.47 sec. Users per second: 2245\n",
      "EvaluatorHoldout: Processed 35209 (100.0%) in 16.48 sec. Users per second: 2137\n"
     ]
    },
    {
     "name": "stderr",
     "output_type": "stream",
     "text": [
      "[I 2025-01-03 19:28:53,554] Trial 272 finished with value: 0.32107499864719463 and parameters: {'x_0': 0.1404917747257659, 'x_1': 0.8215589874808809, 'x_2': 0.9360664825840634}. Best is trial 260 with value: 0.32143923701120636.\n"
     ]
    },
    {
     "name": "stdout",
     "output_type": "stream",
     "text": [
      "__________Iteration 273______________\n",
      "SLIM_w: 0.8632693019337112\n",
      "RP3b_w: 0.128315099103491\n",
      "ItemKNN_w: 0.008415598962797881\n",
      "EvaluatorHoldout: Processed 34728 (100.0%) in 15.42 sec. Users per second: 2252\n",
      "EvaluatorHoldout: Processed 35209 (100.0%) in 16.47 sec. Users per second: 2138\n"
     ]
    },
    {
     "name": "stderr",
     "output_type": "stream",
     "text": [
      "[I 2025-01-03 19:29:25,544] Trial 273 finished with value: 0.3210233459067809 and parameters: {'x_0': 0.20392603966961192, 'x_1': 0.7895161528446476, 'x_2': 0.9846193807063095}. Best is trial 260 with value: 0.32143923701120636.\n"
     ]
    },
    {
     "name": "stdout",
     "output_type": "stream",
     "text": [
      "__________Iteration 274______________\n",
      "SLIM_w: 0.884985891869099\n",
      "RP3b_w: 0.09059408728792785\n",
      "ItemKNN_w: 0.02442002084297322\n",
      "EvaluatorHoldout: Processed 34728 (100.0%) in 15.39 sec. Users per second: 2256\n",
      "EvaluatorHoldout: Processed 35209 (100.0%) in 16.46 sec. Users per second: 2139\n"
     ]
    },
    {
     "name": "stderr",
     "output_type": "stream",
     "text": [
      "[I 2025-01-03 19:29:57,495] Trial 274 finished with value: 0.32114456672218045 and parameters: {'x_0': 0.2469519031813846, 'x_1': 0.8666087022165923, 'x_2': 0.9621436945093501}. Best is trial 260 with value: 0.32143923701120636.\n"
     ]
    },
    {
     "name": "stdout",
     "output_type": "stream",
     "text": [
      "__________Iteration 275______________\n",
      "SLIM_w: 0.8983044606351619\n",
      "RP3b_w: 0.10169098529371502\n",
      "ItemKNN_w: 4.554071123102838e-06\n",
      "EvaluatorHoldout: Processed 34728 (100.0%) in 15.43 sec. Users per second: 2251\n",
      "EvaluatorHoldout: Processed 35209 (100.0%) in 16.49 sec. Users per second: 2135\n"
     ]
    },
    {
     "name": "stderr",
     "output_type": "stream",
     "text": [
      "[I 2025-01-03 19:30:29,511] Trial 275 finished with value: 0.3211384890583804 and parameters: {'x_0': 0.1636258112128238, 'x_1': 0.8147145443888602, 'x_2': 0.999990823134511}. Best is trial 260 with value: 0.32143923701120636.\n"
     ]
    },
    {
     "name": "stdout",
     "output_type": "stream",
     "text": [
      "__________Iteration 276______________\n",
      "SLIM_w: 0.8381753793807563\n",
      "RP3b_w: 0.13366710290336709\n",
      "ItemKNN_w: 0.028157517715876636\n",
      "EvaluatorHoldout: Processed 34728 (100.0%) in 15.35 sec. Users per second: 2262\n",
      "EvaluatorHoldout: Processed 35209 (100.0%) in 16.42 sec. Users per second: 2145\n"
     ]
    },
    {
     "name": "stderr",
     "output_type": "stream",
     "text": [
      "[I 2025-01-03 19:31:01,378] Trial 276 finished with value: 0.3209717668816194 and parameters: {'x_0': 0.1907715674122756, 'x_1': 0.767822262526838, 'x_2': 0.9458661876358623}. Best is trial 260 with value: 0.32143923701120636.\n"
     ]
    },
    {
     "name": "stdout",
     "output_type": "stream",
     "text": [
      "__________Iteration 277______________\n",
      "SLIM_w: 0.8814080762863309\n",
      "RP3b_w: 0.1016964232728227\n",
      "ItemKNN_w: 0.01689550044084635\n",
      "EvaluatorHoldout: Processed 34728 (100.0%) in 15.29 sec. Users per second: 2271\n",
      "EvaluatorHoldout: Processed 35209 (100.0%) in 16.37 sec. Users per second: 2151\n"
     ]
    },
    {
     "name": "stderr",
     "output_type": "stream",
     "text": [
      "[I 2025-01-03 19:31:33,139] Trial 277 finished with value: 0.3213322667913384 and parameters: {'x_0': 0.21771722870928803, 'x_1': 0.8386995344373921, 'x_2': 0.9711989976769748}. Best is trial 260 with value: 0.32143923701120636.\n"
     ]
    },
    {
     "name": "stdout",
     "output_type": "stream",
     "text": [
      "__________Iteration 278______________\n",
      "SLIM_w: 0.8803809818176249\n",
      "RP3b_w: 0.09866790353973533\n",
      "ItemKNN_w: 0.02095111464263969\n",
      "EvaluatorHoldout: Processed 34728 (100.0%) in 15.39 sec. Users per second: 2257\n",
      "EvaluatorHoldout: Processed 35209 (100.0%) in 16.61 sec. Users per second: 2120\n"
     ]
    },
    {
     "name": "stderr",
     "output_type": "stream",
     "text": [
      "[I 2025-01-03 19:32:05,231] Trial 278 finished with value: 0.32117758284081144 and parameters: {'x_0': 0.22531847539080752, 'x_1': 0.8461849293607207, 'x_2': 0.9651570769510077}. Best is trial 260 with value: 0.32143923701120636.\n"
     ]
    },
    {
     "name": "stdout",
     "output_type": "stream",
     "text": [
      "__________Iteration 279______________\n",
      "SLIM_w: 0.8602975871001891\n",
      "RP3b_w: 0.10075500790434934\n",
      "ItemKNN_w: 0.0389474049954616\n",
      "EvaluatorHoldout: Processed 34728 (100.0%) in 15.39 sec. Users per second: 2257\n",
      "EvaluatorHoldout: Processed 35209 (100.0%) in 16.40 sec. Users per second: 2147\n"
     ]
    },
    {
     "name": "stderr",
     "output_type": "stream",
     "text": [
      "[I 2025-01-03 19:32:37,116] Trial 279 finished with value: 0.3211310950526115 and parameters: {'x_0': 0.2099085677520558, 'x_1': 0.8329109526256984, 'x_2': 0.9317661729888118}. Best is trial 260 with value: 0.32143923701120636.\n"
     ]
    },
    {
     "name": "stdout",
     "output_type": "stream",
     "text": [
      "__________Iteration 280______________\n",
      "SLIM_w: 0.9247757995345508\n",
      "RP3b_w: 0.06528165527873409\n",
      "ItemKNN_w: 0.00994254518671511\n",
      "EvaluatorHoldout: Processed 34728 (100.0%) in 15.31 sec. Users per second: 2269\n",
      "EvaluatorHoldout: Processed 35209 (100.0%) in 16.45 sec. Users per second: 2140\n"
     ]
    },
    {
     "name": "stderr",
     "output_type": "stream",
     "text": [
      "[I 2025-01-03 19:33:08,974] Trial 280 finished with value: 0.3210012340520561 and parameters: {'x_0': 0.16735489963431, 'x_1': 0.8814449282060217, 'x_2': 0.9809640712971984}. Best is trial 260 with value: 0.32143923701120636.\n"
     ]
    },
    {
     "name": "stdout",
     "output_type": "stream",
     "text": [
      "__________Iteration 281______________\n",
      "SLIM_w: 0.9058519230580587\n",
      "RP3b_w: 0.07113201303778238\n",
      "ItemKNN_w: 0.023016063904158952\n",
      "EvaluatorHoldout: Processed 34728 (100.0%) in 15.32 sec. Users per second: 2267\n",
      "EvaluatorHoldout: Processed 35209 (100.0%) in 16.36 sec. Users per second: 2152\n"
     ]
    },
    {
     "name": "stderr",
     "output_type": "stream",
     "text": [
      "[I 2025-01-03 19:33:40,744] Trial 281 finished with value: 0.32098062663154503 and parameters: {'x_0': 0.13972086310887294, 'x_1': 0.856804323128254, 'x_2': 0.9512236290152095}. Best is trial 260 with value: 0.32143923701120636.\n"
     ]
    },
    {
     "name": "stdout",
     "output_type": "stream",
     "text": [
      "__________Iteration 282______________\n",
      "SLIM_w: 0.8353131498907336\n",
      "RP3b_w: 0.11189120633775053\n",
      "ItemKNN_w: 0.052795643771516\n",
      "EvaluatorHoldout: Processed 34728 (100.0%) in 15.24 sec. Users per second: 2278\n",
      "EvaluatorHoldout: Processed 35209 (100.0%) in 16.39 sec. Users per second: 2148\n"
     ]
    },
    {
     "name": "stderr",
     "output_type": "stream",
     "text": [
      "[I 2025-01-03 19:34:12,468] Trial 282 finished with value: 0.32112279864467536 and parameters: {'x_0': 0.2291053701819785, 'x_1': 0.8208729610536419, 'x_2': 0.9110690161694196}. Best is trial 260 with value: 0.32143923701120636.\n"
     ]
    },
    {
     "name": "stdout",
     "output_type": "stream",
     "text": [
      "__________Iteration 283______________\n",
      "SLIM_w: 0.8643450783313361\n",
      "RP3b_w: 0.11882012250501765\n",
      "ItemKNN_w: 0.01683479916364628\n",
      "EvaluatorHoldout: Processed 34728 (100.0%) in 15.27 sec. Users per second: 2274\n",
      "EvaluatorHoldout: Processed 35209 (100.0%) in 16.39 sec. Users per second: 2148\n"
     ]
    },
    {
     "name": "stderr",
     "output_type": "stream",
     "text": [
      "[I 2025-01-03 19:34:44,228] Trial 283 finished with value: 0.32119945011471124 and parameters: {'x_0': 0.20120218602888837, 'x_1': 0.8021794105522488, 'x_2': 0.9692524204681748}. Best is trial 260 with value: 0.32143923701120636.\n"
     ]
    },
    {
     "name": "stdout",
     "output_type": "stream",
     "text": [
      "__________Iteration 284______________\n",
      "SLIM_w: 0.7564613017339707\n",
      "RP3b_w: 0.23614779625846244\n",
      "ItemKNN_w: 0.007390902007566997\n",
      "EvaluatorHoldout: Processed 34728 (100.0%) in 15.26 sec. Users per second: 2276\n",
      "EvaluatorHoldout: Processed 35209 (100.0%) in 16.53 sec. Users per second: 2130\n"
     ]
    },
    {
     "name": "stderr",
     "output_type": "stream",
     "text": [
      "[I 2025-01-03 19:35:16,112] Trial 284 finished with value: 0.32007759217745996 and parameters: {'x_0': 0.1774727989529198, 'x_1': 0.5829055979389048, 'x_2': 0.9832495235054398}. Best is trial 260 with value: 0.32143923701120636.\n"
     ]
    },
    {
     "name": "stdout",
     "output_type": "stream",
     "text": [
      "__________Iteration 285______________\n",
      "SLIM_w: 0.8592251712273229\n",
      "RP3b_w: 0.11020335147945773\n",
      "ItemKNN_w: 0.03057147729321934\n",
      "EvaluatorHoldout: Processed 34728 (100.0%) in 15.26 sec. Users per second: 2276\n",
      "EvaluatorHoldout: Processed 35209 (100.0%) in 16.35 sec. Users per second: 2154\n"
     ]
    },
    {
     "name": "stderr",
     "output_type": "stream",
     "text": [
      "[I 2025-01-03 19:35:47,814] Trial 285 finished with value: 0.32108977119590154 and parameters: {'x_0': 0.2522654813721983, 'x_1': 0.8380750081782461, 'x_2': 0.9521775342485987}. Best is trial 260 with value: 0.32143923701120636.\n"
     ]
    },
    {
     "name": "stdout",
     "output_type": "stream",
     "text": [
      "__________Iteration 286______________\n",
      "SLIM_w: 0.6638338691105697\n",
      "RP3b_w: 0.08432856272080833\n",
      "ItemKNN_w: 0.25183756816862196\n",
      "EvaluatorHoldout: Processed 34728 (100.0%) in 15.26 sec. Users per second: 2275\n",
      "EvaluatorHoldout: Processed 35209 (100.0%) in 16.39 sec. Users per second: 2148\n"
     ]
    },
    {
     "name": "stderr",
     "output_type": "stream",
     "text": [
      "[I 2025-01-03 19:36:19,563] Trial 286 finished with value: 0.32030337348156696 and parameters: {'x_0': 0.1504752650824428, 'x_1': 0.7861605194538686, 'x_2': 0.487479422565911}. Best is trial 260 with value: 0.32143923701120636.\n"
     ]
    },
    {
     "name": "stdout",
     "output_type": "stream",
     "text": [
      "__________Iteration 287______________\n",
      "SLIM_w: 0.8815949566225026\n",
      "RP3b_w: 0.11727988322813283\n",
      "ItemKNN_w: 0.0011251601493645054\n",
      "EvaluatorHoldout: Processed 34728 (100.0%) in 15.28 sec. Users per second: 2272\n",
      "EvaluatorHoldout: Processed 35209 (100.0%) in 16.39 sec. Users per second: 2148\n"
     ]
    },
    {
     "name": "stderr",
     "output_type": "stream",
     "text": [
      "[I 2025-01-03 19:36:51,335] Trial 287 finished with value: 0.3211545578825537 and parameters: {'x_0': 0.11239907566324947, 'x_1': 0.7476899805445563, 'x_2': 0.9972143271821908}. Best is trial 260 with value: 0.32143923701120636.\n"
     ]
    },
    {
     "name": "stdout",
     "output_type": "stream",
     "text": [
      "__________Iteration 288______________\n",
      "SLIM_w: 0.8897053941469706\n",
      "RP3b_w: 0.11024430189860537\n",
      "ItemKNN_w: 5.030395442393986e-05\n",
      "EvaluatorHoldout: Processed 34728 (100.0%) in 15.34 sec. Users per second: 2264\n",
      "EvaluatorHoldout: Processed 35209 (100.0%) in 16.43 sec. Users per second: 2143\n"
     ]
    },
    {
     "name": "stderr",
     "output_type": "stream",
     "text": [
      "[I 2025-01-03 19:37:23,202] Trial 288 finished with value: 0.32127151960871997 and parameters: {'x_0': 0.19017033115275636, 'x_1': 0.8141001696774877, 'x_2': 0.999906157303986}. Best is trial 260 with value: 0.32143923701120636.\n"
     ]
    },
    {
     "name": "stdout",
     "output_type": "stream",
     "text": [
      "__________Iteration 289______________\n",
      "SLIM_w: 0.9121441426049346\n",
      "RP3b_w: 0.07856090140912865\n",
      "ItemKNN_w: 0.009294955985936848\n",
      "EvaluatorHoldout: Processed 34728 (100.0%) in 15.28 sec. Users per second: 2273\n",
      "EvaluatorHoldout: Processed 35209 (100.0%) in 16.36 sec. Users per second: 2152\n"
     ]
    },
    {
     "name": "stderr",
     "output_type": "stream",
     "text": [
      "[I 2025-01-03 19:37:54,935] Trial 289 finished with value: 0.32109121678799385 and parameters: {'x_0': 0.21198570599873298, 'x_1': 0.8749360619435758, 'x_2': 0.9843168304787685}. Best is trial 260 with value: 0.32143923701120636.\n"
     ]
    },
    {
     "name": "stdout",
     "output_type": "stream",
     "text": [
      "__________Iteration 290______________\n",
      "SLIM_w: 0.9047152440387496\n",
      "RP3b_w: 0.09511005021793333\n",
      "ItemKNN_w: 0.000174705743316991\n",
      "EvaluatorHoldout: Processed 34728 (100.0%) in 15.37 sec. Users per second: 2260\n",
      "EvaluatorHoldout: Processed 35209 (100.0%) in 16.37 sec. Users per second: 2151\n"
     ]
    },
    {
     "name": "stderr",
     "output_type": "stream",
     "text": [
      "[I 2025-01-03 19:38:26,766] Trial 290 finished with value: 0.3210264555458288 and parameters: {'x_0': 0.1614574996612359, 'x_1': 0.8255540120640815, 'x_2': 0.9996479310258345}. Best is trial 260 with value: 0.32143923701120636.\n"
     ]
    },
    {
     "name": "stdout",
     "output_type": "stream",
     "text": [
      "__________Iteration 291______________\n",
      "SLIM_w: 0.9143851857777618\n",
      "RP3b_w: 0.08546875192948691\n",
      "ItemKNN_w: 0.00014606229275115703\n",
      "EvaluatorHoldout: Processed 34728 (100.0%) in 15.25 sec. Users per second: 2277\n",
      "EvaluatorHoldout: Processed 35209 (100.0%) in 16.40 sec. Users per second: 2147\n"
     ]
    },
    {
     "name": "stderr",
     "output_type": "stream",
     "text": [
      "[I 2025-01-03 19:38:58,510] Trial 291 finished with value: 0.3210461369459324 and parameters: {'x_0': 0.19295263711454935, 'x_1': 0.857452686621133, 'x_2': 0.9997372155040999}. Best is trial 260 with value: 0.32143923701120636.\n"
     ]
    },
    {
     "name": "stdout",
     "output_type": "stream",
     "text": [
      "__________Iteration 292______________\n",
      "SLIM_w: 0.8724930075771078\n",
      "RP3b_w: 0.1162934385071498\n",
      "ItemKNN_w: 0.01121355391574242\n",
      "EvaluatorHoldout: Processed 34728 (100.0%) in 15.28 sec. Users per second: 2273\n",
      "EvaluatorHoldout: Processed 35209 (100.0%) in 16.35 sec. Users per second: 2153\n"
     ]
    },
    {
     "name": "stderr",
     "output_type": "stream",
     "text": [
      "[I 2025-01-03 19:39:30,234] Trial 292 finished with value: 0.32117732414516126 and parameters: {'x_0': 0.13179824879668497, 'x_1': 0.7632976414176105, 'x_2': 0.9742912506891336}. Best is trial 260 with value: 0.32143923701120636.\n"
     ]
    },
    {
     "name": "stdout",
     "output_type": "stream",
     "text": [
      "__________Iteration 293______________\n",
      "SLIM_w: 0.8426346725639383\n",
      "RP3b_w: 0.13826962523604897\n",
      "ItemKNN_w: 0.019095702200012783\n",
      "EvaluatorHoldout: Processed 34728 (100.0%) in 15.29 sec. Users per second: 2271\n",
      "EvaluatorHoldout: Processed 35209 (100.0%) in 16.36 sec. Users per second: 2153\n"
     ]
    },
    {
     "name": "stderr",
     "output_type": "stream",
     "text": [
      "[I 2025-01-03 19:40:01,976] Trial 293 finished with value: 0.3209679246689577 and parameters: {'x_0': 0.2371939619041617, 'x_1': 0.7896951894778855, 'x_2': 0.9679182116282073}. Best is trial 260 with value: 0.32143923701120636.\n"
     ]
    },
    {
     "name": "stdout",
     "output_type": "stream",
     "text": [
      "__________Iteration 294______________\n",
      "SLIM_w: 0.8821007596306852\n",
      "RP3b_w: 0.08387519439945593\n",
      "ItemKNN_w: 0.03402404596985877\n",
      "EvaluatorHoldout: Processed 34728 (100.0%) in 15.32 sec. Users per second: 2267\n",
      "EvaluatorHoldout: Processed 35209 (100.0%) in 16.36 sec. Users per second: 2153\n"
     ]
    },
    {
     "name": "stderr",
     "output_type": "stream",
     "text": [
      "[I 2025-01-03 19:40:33,747] Trial 294 finished with value: 0.3210203170824036 and parameters: {'x_0': 0.16721279056304808, 'x_1': 0.8436144560319693, 'x_2': 0.9333408072250818}. Best is trial 260 with value: 0.32143923701120636.\n"
     ]
    },
    {
     "name": "stdout",
     "output_type": "stream",
     "text": [
      "__________Iteration 295______________\n",
      "SLIM_w: 0.4024862528114256\n",
      "RP3b_w: 0.5922978309043448\n",
      "ItemKNN_w: 0.00521591628422965\n",
      "EvaluatorHoldout: Processed 34728 (100.0%) in 15.26 sec. Users per second: 2275\n",
      "EvaluatorHoldout: Processed 35209 (100.0%) in 16.41 sec. Users per second: 2146\n"
     ]
    },
    {
     "name": "stderr",
     "output_type": "stream",
     "text": [
      "[I 2025-01-03 19:41:05,509] Trial 295 finished with value: 0.3116995667473091 and parameters: {'x_0': 0.21014796900205895, 'x_1': 0.100700043953587, 'x_2': 0.979987284910873}. Best is trial 260 with value: 0.32143923701120636.\n"
     ]
    },
    {
     "name": "stdout",
     "output_type": "stream",
     "text": [
      "__________Iteration 296______________\n",
      "SLIM_w: 0.866624968281761\n",
      "RP3b_w: 0.10730651128791407\n",
      "ItemKNN_w: 0.026068520430324923\n",
      "EvaluatorHoldout: Processed 34728 (100.0%) in 15.25 sec. Users per second: 2278\n",
      "EvaluatorHoldout: Processed 35209 (100.0%) in 16.38 sec. Users per second: 2149\n"
     ]
    },
    {
     "name": "stderr",
     "output_type": "stream",
     "text": [
      "[I 2025-01-03 19:41:37,233] Trial 296 finished with value: 0.32116091441842937 and parameters: {'x_0': 0.1859351045261424, 'x_1': 0.8119540978640659, 'x_2': 0.9506529901566143}. Best is trial 260 with value: 0.32143923701120636.\n"
     ]
    },
    {
     "name": "stdout",
     "output_type": "stream",
     "text": [
      "__________Iteration 297______________\n",
      "SLIM_w: 0.8913887570674915\n",
      "RP3b_w: 0.09290694999041303\n",
      "ItemKNN_w: 0.015704292942095407\n",
      "EvaluatorHoldout: Processed 34728 (100.0%) in 15.41 sec. Users per second: 2254\n",
      "EvaluatorHoldout: Processed 35209 (100.0%) in 16.41 sec. Users per second: 2146\n"
     ]
    },
    {
     "name": "stderr",
     "output_type": "stream",
     "text": [
      "[I 2025-01-03 19:42:09,145] Trial 297 finished with value: 0.3210436395865516 and parameters: {'x_0': 0.1538898578750174, 'x_1': 0.8227827498311158, 'x_2': 0.9675656520948394}. Best is trial 260 with value: 0.32143923701120636.\n"
     ]
    },
    {
     "name": "stdout",
     "output_type": "stream",
     "text": [
      "__________Iteration 298______________\n",
      "SLIM_w: 0.856362041353412\n",
      "RP3b_w: 0.1435308838114464\n",
      "ItemKNN_w: 0.00010707483514171224\n",
      "EvaluatorHoldout: Processed 34728 (100.0%) in 15.28 sec. Users per second: 2272\n",
      "EvaluatorHoldout: Processed 35209 (100.0%) in 16.33 sec. Users per second: 2156\n"
     ]
    },
    {
     "name": "stderr",
     "output_type": "stream",
     "text": [
      "[I 2025-01-03 19:42:40,857] Trial 298 finished with value: 0.3206803287379547 and parameters: {'x_0': 0.22238574297181915, 'x_1': 0.7772694743028684, 'x_2': 0.9998120480096068}. Best is trial 260 with value: 0.32143923701120636.\n"
     ]
    },
    {
     "name": "stdout",
     "output_type": "stream",
     "text": [
      "__________Iteration 299______________\n",
      "SLIM_w: 0.8739561463898916\n",
      "RP3b_w: 0.09600800153875694\n",
      "ItemKNN_w: 0.03003585207135144\n",
      "EvaluatorHoldout: Processed 34728 (100.0%) in 15.23 sec. Users per second: 2281\n",
      "EvaluatorHoldout: Processed 35209 (100.0%) in 16.36 sec. Users per second: 2152\n"
     ]
    },
    {
     "name": "stderr",
     "output_type": "stream",
     "text": [
      "[I 2025-01-03 19:43:12,542] Trial 299 finished with value: 0.3212183815951151 and parameters: {'x_0': 0.12873705808904157, 'x_1': 0.7983566482156493, 'x_2': 0.9319713687352246}. Best is trial 260 with value: 0.32143923701120636.\n"
     ]
    }
   ],
   "source": [
    "study = op.create_study(direction=\"maximize\")\n",
    "study.optimize(objective_function_weight_hybrid,\n",
    "                      callbacks=[gen_save_res],\n",
    "                      n_trials = 300)"
   ]
  },
  {
   "cell_type": "code",
   "execution_count": 88,
   "id": "6652dc6a-6118-4a84-8c01-01f1ea764d00",
   "metadata": {},
   "outputs": [
    {
     "data": {
      "text/plain": [
       "{'SLIM_w': 0.7747783599151299,\n",
       " 'RP3b_w': 0.10970438576060675,\n",
       " 'ItemKNN_w': 0.1155172543242634,\n",
       " 'RECALL_test': 0.3575305308110468}"
      ]
     },
     "execution_count": 88,
     "metadata": {},
     "output_type": "execute_result"
    }
   ],
   "source": [
    "new_best_on_test"
   ]
  },
  {
   "cell_type": "code",
   "execution_count": null,
   "id": "16d5f32d-4653-4dfb-9eac-4f2fe2698508",
   "metadata": {},
   "outputs": [],
   "source": []
  }
 ],
 "metadata": {
  "kernelspec": {
   "display_name": "RecSys",
   "language": "python",
   "name": "recsys"
  },
  "language_info": {
   "codemirror_mode": {
    "name": "ipython",
    "version": 3
   },
   "file_extension": ".py",
   "mimetype": "text/x-python",
   "name": "python",
   "nbconvert_exporter": "python",
   "pygments_lexer": "ipython3",
   "version": "3.12.7"
  }
 },
 "nbformat": 4,
 "nbformat_minor": 5
}
