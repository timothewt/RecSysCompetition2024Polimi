{
 "cells": [
  {
   "cell_type": "code",
   "execution_count": null,
   "id": "initial_id",
   "metadata": {
    "collapsed": true
   },
   "outputs": [],
   "source": [
    "import numpy as np\n",
    "import scipy.sparse as sp\n",
    "\n",
    "from libs.Recommenders.Similarity.Compute_Similarity import Compute_Similarity\n",
    "from src.utils import train_model, write_submission\n",
    "from src.recommender_model import RecommenderModel"
   ]
  },
  {
   "metadata": {},
   "cell_type": "markdown",
   "source": [
    "# Content-Based Filtering\n",
    "This notebook provides an implementation of a Content-Based Filtering model."
   ],
   "id": "cb9a4244f108483c"
  },
  {
   "metadata": {},
   "cell_type": "markdown",
   "source": "## TF-IDF to compute feature weights",
   "id": "5439bdf988864280"
  },
  {
   "metadata": {},
   "cell_type": "code",
   "outputs": [],
   "execution_count": null,
   "source": [
    "def tf_idf(mat: sp.csr_matrix) -> sp.csr_matrix:\n",
    "\t\"\"\"Rescales the matrix values by weighting the features of the matrix (typically the ICM) using TF-IDF\n",
    "\n",
    "\t:param mat: The sparse matrix\n",
    "\t:type mat: sp.csr_matrix\n",
    "\t:return: The matrix rescaled by TF-IDF\n",
    "\t:rtype: sp.csr_matrix\n",
    "\t\"\"\"\n",
    "\tmat = mat.copy()\n",
    "\tdf = np.asarray(mat.sum(axis=0)).ravel()\n",
    "\tidf = np.log(mat.shape[0] / (df + 1))\n",
    "\tmat.data = mat.data * idf[mat.tocoo().col]\n",
    "\tmat.eliminate_zeros()\n",
    "\treturn mat"
   ],
   "id": "94ef18defc96af36"
  },
  {
   "metadata": {},
   "cell_type": "markdown",
   "source": "## CBF with Similarity Matrix",
   "id": "e5b72747cce7de5f"
  },
  {
   "metadata": {
    "jupyter": {
     "is_executing": true
    }
   },
   "cell_type": "code",
   "source": [
    "class CBF(RecommenderModel):\n",
    "\tdef __init__(self, top_k: int = 500, shrink: int = 700):\n",
    "\t\tsuper(CBF, self).__init__()\n",
    "\t\tself.similarity_matrix: sp.csr_matrix | None = None\n",
    "\t\tself.top_k: int = top_k\n",
    "\t\tself.shrink: int = shrink\n",
    "\n",
    "\tdef fit(self, urm: sp.csr_matrix, icm: sp.csr_matrix) -> None:\n",
    "\t\tself.urm = urm\n",
    "\t\tself.icm = tf_idf(icm)\n",
    "\n",
    "\t\tself.similarity_matrix = Compute_Similarity(self.icm.T, topK=min(self.top_k, self.icm.shape[0]), shrink=self.shrink).compute_similarity()\n",
    "\n",
    "\t\tself.urm_pred = self.urm @ self.similarity_matrix"
   ],
   "id": "fc080b05ae559f16",
   "outputs": [],
   "execution_count": null
  },
  {
   "metadata": {},
   "cell_type": "code",
   "outputs": [],
   "execution_count": null,
   "source": "cbf = train_model(CBF())",
   "id": "57e9b0637750ea6e"
  },
  {
   "metadata": {},
   "cell_type": "code",
   "outputs": [],
   "execution_count": null,
   "source": [
    "cbf_submission = train_model(CBF(), test_size=0)\n",
    "write_submission(cbf_submission, \"cbf_submission.csv\")"
   ],
   "id": "37705a1c2b3f191d"
  }
 ],
 "metadata": {
  "kernelspec": {
   "display_name": "Python 3",
   "language": "python",
   "name": "python3"
  },
  "language_info": {
   "codemirror_mode": {
    "name": "ipython",
    "version": 2
   },
   "file_extension": ".py",
   "mimetype": "text/x-python",
   "name": "python",
   "nbconvert_exporter": "python",
   "pygments_lexer": "ipython2",
   "version": "2.7.6"
  }
 },
 "nbformat": 4,
 "nbformat_minor": 5
}
