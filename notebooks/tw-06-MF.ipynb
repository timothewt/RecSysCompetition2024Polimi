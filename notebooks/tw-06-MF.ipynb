{
 "cells": [
  {
   "cell_type": "code",
   "id": "initial_id",
   "metadata": {
    "collapsed": true,
    "ExecuteTime": {
     "end_time": "2024-11-16T22:12:01.874662Z",
     "start_time": "2024-11-16T22:11:58.638202Z"
    }
   },
   "source": [
    "import numpy as np\n",
    "import scipy.sparse as sp\n",
    "import torch\n",
    "from torch.optim import Adam, Optimizer\n",
    "from tqdm import trange\n",
    "from torch.utils.data import Dataset, DataLoader\n",
    "from torch import nn\n",
    "from torch.nn import functional as F\n",
    "from sklearn.utils.extmath import randomized_svd\n",
    "\n",
    "from src.recommender_model import RecommenderModel\n",
    "from src.utils import train_model, write_submission, plot_losses"
   ],
   "outputs": [],
   "execution_count": 1
  },
  {
   "metadata": {},
   "cell_type": "markdown",
   "source": [
    "# Matrix Factorization\n",
    "This notebook provides implementations for various Matrix Factorization methods."
   ],
   "id": "2c5640c32faeaee4"
  },
  {
   "metadata": {},
   "cell_type": "markdown",
   "source": [
    "## 1. PureSVD\n",
    "The most straight-forward method uses Singular-Value-Decomposition of the URM.\n"
   ],
   "id": "4d1763973bbd13da"
  },
  {
   "metadata": {
    "ExecuteTime": {
     "end_time": "2024-11-16T22:12:01.892234Z",
     "start_time": "2024-11-16T22:12:01.886409Z"
    }
   },
   "cell_type": "code",
   "source": [
    "class PureSVD(RecommenderModel):\n",
    "\tdef __init__(self):\n",
    "\t\tsuper(PureSVD, self).__init__()\n",
    "\t\tself.u: np.ndarray | None = None  # Users embeddings\n",
    "\t\tself.sigma: np.ndarray | None = None\n",
    "\t\tself.vt: np.ndarray | None = None  # Items embeddings\n",
    "\n",
    "\tdef fit(self, urm: sp.csr_matrix, icm: sp.csr_matrix, urm_val: sp.csr_matrix, embeddings_dim: int = 128, num_iter: int = 5, **kwargs) -> None:\n",
    "\t\tself.urm = urm\n",
    "\n",
    "\t\tself.u, self.sigma, self.vt = randomized_svd(self.urm, n_components=embeddings_dim, n_iter=num_iter)\n",
    "\n",
    "\t\tself.urm_pred = np.dot(np.dot(self.u, np.diag(self.sigma)), self.vt)"
   ],
   "id": "f4cb32a09a1a7e50",
   "outputs": [],
   "execution_count": 2
  },
  {
   "metadata": {
    "ExecuteTime": {
     "end_time": "2024-11-16T22:12:19.454871Z",
     "start_time": "2024-11-16T22:12:02.005341Z"
    }
   },
   "cell_type": "code",
   "source": "pure_svd_train = train_model(PureSVD(), embedding_dim=64)",
   "id": "b3c53e81acd18b83",
   "outputs": [
    {
     "name": "stdout",
     "output_type": "stream",
     "text": [
      "MAP@10 evaluation of the PureSVD model: 0.03239\n"
     ]
    }
   ],
   "execution_count": 3
  },
  {
   "metadata": {
    "ExecuteTime": {
     "end_time": "2024-11-16T22:12:35.513592Z",
     "start_time": "2024-11-16T22:12:19.526646Z"
    }
   },
   "cell_type": "code",
   "source": [
    "pure_svd_submission = train_model(PureSVD(), test_size=0, embedding_dim=64)\n",
    "write_submission(pure_svd_submission, \"pure_svd_submission.csv\")"
   ],
   "id": "cbc26fde06b33f0d",
   "outputs": [],
   "execution_count": 4
  },
  {
   "metadata": {},
   "cell_type": "markdown",
   "source": "Submission result: `0.03431`",
   "id": "cf2de839c33fee8b"
  },
  {
   "metadata": {},
   "cell_type": "markdown",
   "source": "This is more or less satisfying but can be greatly improved.",
   "id": "602accd00c3f6f1d"
  },
  {
   "metadata": {},
   "cell_type": "markdown",
   "source": [
    "## 2. Machine Learning with MSE Loss\n",
    "Machine Learning can be used to learn the users and items embeddings. The simplest method uses Mean Squared Error loss to optimize the users and items embeddings."
   ],
   "id": "ea13dda15fedbb50"
  },
  {
   "metadata": {
    "ExecuteTime": {
     "end_time": "2024-11-16T19:21:55.154466Z",
     "start_time": "2024-11-16T19:21:55.150215Z"
    }
   },
   "cell_type": "code",
   "source": [
    "class MFModel(nn.Module):\n",
    "\tdef __init__(self, num_users: int, num_items: int, embedding_dim: int, dropout: float):\n",
    "\t\tsuper(MFModel, self).__init__()\n",
    "\n",
    "\t\tself.num_users = num_users\n",
    "\t\tself.num_items = num_items\n",
    "\t\tself.embedding_dim = embedding_dim\n",
    "\n",
    "\t\tself.users_embeddings = nn.Embedding(num_embeddings=num_users, embedding_dim=embedding_dim)\n",
    "\t\tself.items_embeddings = nn.Embedding(num_embeddings=num_items, embedding_dim=embedding_dim)\n",
    "\n",
    "\t\tself.dropout = nn.Dropout(dropout)\n",
    "\n",
    "\t\tself.aggregation = lambda x: torch.sum(x, dim=-1)  # nn.Linear(in_features=embedding_dim, out_features=1)\n",
    "\n",
    "\tdef forward(self, users: torch.tensor, items: torch.tensor) -> torch.tensor:\n",
    "\t\tuser_embeddings = self.dropout(self.users_embeddings(users))\n",
    "\t\titem_embeddings = self.dropout(self.items_embeddings(items))\n",
    "\t\treturn F.relu(self.aggregation(user_embeddings + item_embeddings))"
   ],
   "id": "c7fa3ccc875b11ca",
   "outputs": [],
   "execution_count": 4
  },
  {
   "metadata": {
    "ExecuteTime": {
     "end_time": "2024-11-16T19:21:55.219445Z",
     "start_time": "2024-11-16T19:21:55.197818Z"
    }
   },
   "cell_type": "code",
   "source": [
    "class URMDataset(Dataset):\n",
    "\tdef __init__(self, urm: sp.csr_matrix):\n",
    "\t\tself.n: int = urm.nnz\n",
    "\n",
    "\t\turm_coo = urm.tocoo()\n",
    "\t\tself.user_item_coordinates = torch.from_numpy(\n",
    "\t\t\tnp.vstack((urm_coo.row, urm_coo.col)).T\n",
    "\t\t)\n",
    "\t\tself.ratings = torch.tensor(urm_coo.data)\n",
    "\n",
    "\tdef __getitem__(self, item):\n",
    "\t\treturn self.user_item_coordinates[item], self.ratings[item]\n",
    "\n",
    "\tdef __len__(self):\n",
    "\t\treturn self.n"
   ],
   "id": "b0b12ae8101602da",
   "outputs": [],
   "execution_count": 5
  },
  {
   "metadata": {
    "ExecuteTime": {
     "end_time": "2024-11-16T19:21:55.257621Z",
     "start_time": "2024-11-16T19:21:55.250498Z"
    }
   },
   "cell_type": "code",
   "source": [
    "class MFMSE(RecommenderModel):\n",
    "\tdef __init__(self):\n",
    "\t\tsuper(MFMSE, self).__init__()\n",
    "\t\tself.mf_model: MFModel | None = None\n",
    "\t\tself.optimizer: Optimizer | None = None\n",
    "\t\tself.loss_fn: nn.MSELoss = nn.MSELoss()\n",
    "\n",
    "\tdef fit(self, urm: sp.csr_matrix, icm: sp.csr_matrix, urm_val: sp.csr_matrix, lr: float = .0005, embedding_dim: int = 128, dropout: float = .3, epochs: int = 10, batch_size: int = 8192, weight_decay: float = 1e-3, plot_loss: bool = False)-> None:\n",
    "\t\tself.urm = urm\n",
    "\t\tself.mf_model = MFModel(urm.shape[0], urm.shape[1], embedding_dim, dropout)\n",
    "\t\tself.optimizer = Adam(self.mf_model.parameters(), lr=lr, weight_decay=weight_decay)\n",
    "\n",
    "\t\tdataloader = DataLoader(\n",
    "\t\t\tURMDataset(urm),\n",
    "\t\t\tbatch_size=batch_size,\n",
    "\t\t\tshuffle=True,\n",
    "\t\t)\n",
    "\t\tdataloader_val = DataLoader(\n",
    "\t\t\tURMDataset(urm_val),\n",
    "\t\t\tbatch_size=batch_size,\n",
    "\t\t)\n",
    "\t\tdl_len = len(dataloader)\n",
    "\n",
    "\t\tloss_history_val = np.zeros(epochs + 1)\n",
    "\t\tloss_history = np.zeros((dl_len * epochs,))\n",
    "\t\tloss_history_val[0] = self._validate(dataloader_val)\n",
    "\n",
    "\t\tfor epoch in (t := trange(epochs)):\n",
    "\t\t\tself.mf_model.train()\n",
    "\t\t\tfor batch_idx, (data, label) in enumerate(dataloader):\n",
    "\t\t\t\tpred = self.mf_model(\n",
    "\t\t\t\t\tdata[:, 0],\n",
    "\t\t\t\t\tdata[:, 1]\n",
    "\t\t\t\t).squeeze()\n",
    "\t\t\t\tloss = self.loss_fn(pred, label)\n",
    "\n",
    "\t\t\t\tself.optimizer.zero_grad()\n",
    "\t\t\t\tloss.backward()\n",
    "\t\t\t\tself.optimizer.step()\n",
    "\n",
    "\t\t\t\tloss_history[dl_len * epoch + batch_idx] = loss.item()\n",
    "\t\t\t\tt.set_postfix({\n",
    "\t\t\t\t\t\"Batch progression\": f\"{(batch_idx + 1) / dl_len * 100:.2f}%\",\n",
    "\t\t\t\t\t\"Train loss\": f\"{loss.item():.5f}\",\n",
    "\t\t\t\t\t\"Val loss\": f\"{loss_history_val[epoch]:.5f}\"\n",
    "\t\t\t\t})\n",
    "\t\t\tloss_history_val[epoch + 1] = self._validate(dataloader_val)\n",
    "\n",
    "\t\tplot_losses(epochs, loss_history, loss_history_val, len(dataloader))\n",
    "\n",
    "\t\tself.urm_pred = (self.mf_model.users_embeddings.weight @ self.mf_model.items_embeddings.weight.T).detach().numpy()\n",
    "\n",
    "\t@torch.no_grad()\n",
    "\tdef _validate(self, dataloader_val: DataLoader) -> float:\n",
    "\t\tself.mf_model.eval()\n",
    "\t\tloss = 0\n",
    "\t\tfor data, label in dataloader_val:\n",
    "\t\t\tpred = self.mf_model(\n",
    "\t\t\t\tdata[:, 0],\n",
    "\t\t\t\tdata[:, 1]\n",
    "\t\t\t).squeeze()\n",
    "\t\t\tloss += self.loss_fn(pred, label)\n",
    "\n",
    "\t\tloss /= len(dataloader_val)\n",
    "\t\treturn loss.item()"
   ],
   "id": "be2362ddf4436bfd",
   "outputs": [],
   "execution_count": 6
  },
  {
   "metadata": {
    "ExecuteTime": {
     "end_time": "2024-11-16T19:30:23.168507Z",
     "start_time": "2024-11-16T19:21:55.303178Z"
    }
   },
   "cell_type": "code",
   "source": "mf_train = train_model(MFMSE(), batch_size=4096, epochs=20, embedding_dim=64)",
   "id": "25988ad24b569a8e",
   "outputs": [
    {
     "name": "stderr",
     "output_type": "stream",
     "text": [
      "100%|██████████| 20/20 [08:13<00:00, 24.66s/it, Batch progression=100.00%, Train loss=0.20363, Val loss=0.12992] \n"
     ]
    },
    {
     "data": {
      "text/plain": [
       "<Figure size 640x480 with 1 Axes>"
      ],
      "image/png": "[encoded data removed]"
     },
     "metadata": {},
     "output_type": "display_data"
    },
    {
     "name": "stdout",
     "output_type": "stream",
     "text": [
      "MAP@10 evaluation of the MFMSE model: 0.00012\n"
     ]
    }
   ],
   "execution_count": 7
  },
  {
   "metadata": {},
   "cell_type": "markdown",
   "source": "We see that the MSE loss is not effective and leads to poor performance in terms of MAP@10.",
   "id": "702c529de70736cf"
  },
  {
   "metadata": {},
   "cell_type": "markdown",
   "source": [
    "## 3. BPR Loss\n",
    "The Bayesian Personalized Ranking loss should be more effective as the dataset uses implicit feedback."
   ],
   "id": "f816e8753486944a"
  },
  {
   "metadata": {
    "ExecuteTime": {
     "end_time": "2024-11-16T19:30:23.236950Z",
     "start_time": "2024-11-16T19:30:23.235073Z"
    }
   },
   "cell_type": "code",
   "source": "",
   "id": "99fc72e205f59d5",
   "outputs": [],
   "execution_count": null
  }
 ],
 "metadata": {
  "kernelspec": {
   "display_name": "Python 3",
   "language": "python",
   "name": "python3"
  },
  "language_info": {
   "codemirror_mode": {
    "name": "ipython",
    "version": 2
   },
   "file_extension": ".py",
   "mimetype": "text/x-python",
   "name": "python",
   "nbconvert_exporter": "python",
   "pygments_lexer": "ipython2",
   "version": "2.7.6"
  }
 },
 "nbformat": 4,
 "nbformat_minor": 5
}
