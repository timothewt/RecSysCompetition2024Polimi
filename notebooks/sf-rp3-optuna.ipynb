{
 "cells": [
  {
   "cell_type": "code",
   "execution_count": 1,
   "id": "dc231a90-4821-4f26-8eb4-b4b418da8897",
   "metadata": {},
   "outputs": [],
   "source": [
    "from pathlib import Path\n",
    "import sys  \n",
    "import os\n",
    "import pandas as pd \n",
    "from datetime import datetime\n",
    "import scipy.sparse as sps\n",
    "from numpy import linalg as LA\n",
    "\n",
    "import numpy as np\n",
    "from operator import itemgetter\n",
    "import optuna as op"
   ]
  },
  {
   "cell_type": "code",
   "execution_count": 2,
   "id": "11c83552-c9df-4e0d-9164-7e10118e8359",
   "metadata": {},
   "outputs": [],
   "source": [
    "sys.path.append(os.path.abspath(os.path.join(os.getcwd(), \"..\", \"libs\")))\n",
    "sys.path.append(os.path.abspath(os.path.join(os.getcwd(), \"..\")))\n",
    "sys.path.append(os.path.abspath(os.path.join(os.getcwd(), \"..\", \"src\")))"
   ]
  },
  {
   "cell_type": "code",
   "execution_count": 3,
   "id": "0db8443d-c2d1-4e45-9480-cb5824990dd7",
   "metadata": {},
   "outputs": [],
   "source": [
    "%load_ext autoreload\n",
    "%autoreload 2"
   ]
  },
  {
   "cell_type": "code",
   "execution_count": 4,
   "id": "f43db32c-a970-4075-a6ca-c5da51c7b5a0",
   "metadata": {},
   "outputs": [],
   "source": [
    "from Utils.load_URM import load_URM\n",
    "from Utils.load_ICM import load_ICM\n",
    "\n",
    "from scipy.sparse import hstack, vstack\n",
    "from Evaluation.Evaluator import EvaluatorHoldout\n",
    "from Data_manager.split_functions.split_train_validation_random_holdout import split_train_in_two_percentage_global_sample\n",
    "\n",
    "URM_all = load_URM(\"../data/data_train.csv\")\n",
    "ICM_all = load_ICM(\"../data/data_ICM_metadata.csv\")"
   ]
  },
  {
   "cell_type": "code",
   "execution_count": 5,
   "id": "59e11a1c-dfaf-4416-8620-d6563e8c76f1",
   "metadata": {},
   "outputs": [],
   "source": [
    "# URM_train, URM_val = split_train_in_two_percentage_global_sample(URM_all, train_percentage = 0.80)\n",
    "URM_train = sps.load_npz(\"URM_train_ens.npz\")\n",
    "URM_val = sps.load_npz(\"URM_val_ens.npz\")"
   ]
  },
  {
   "cell_type": "code",
   "execution_count": 6,
   "id": "36639247-e89c-4d6d-b57c-4c97144e7ae7",
   "metadata": {},
   "outputs": [
    {
     "name": "stdout",
     "output_type": "stream",
     "text": [
      "EvaluatorHoldout: Ignoring 1008 ( 2.8%) Users that have less than 1 test interactions\n"
     ]
    }
   ],
   "source": [
    "evaluator_validation = EvaluatorHoldout(URM_val, cutoff_list=[10])"
   ]
  },
  {
   "cell_type": "code",
   "execution_count": 7,
   "id": "88af5776-1dd5-43d1-9ad3-bee677280941",
   "metadata": {},
   "outputs": [],
   "source": [
    "from libs.Recommenders.GraphBased.RP3betaRecommender import RP3betaRecommender\n",
    "from libs.Recommenders.GraphBased.P3alphaRecommender import P3alphaRecommender"
   ]
  },
  {
   "cell_type": "code",
   "execution_count": 8,
   "id": "4fd93d98-bc15-48d0-b4c9-168b14ab43b3",
   "metadata": {},
   "outputs": [],
   "source": [
    "def objective_function_P3_beta(optuna_trial):\n",
    "       \n",
    "        \n",
    "    recommender_instance = RP3betaRecommender(URM_train)\n",
    "    recommender_instance.fit(topK = optuna_trial.suggest_int(\"topK\", 2, 200),\n",
    "                             alpha = optuna_trial.suggest_float(\"alpha\", 0.1, 0.9),\n",
    "                             beta = optuna_trial.suggest_float(\"beta\", 0.1, 0.9),\n",
    "                             normalize_similarity = optuna_trial.suggest_categorical('normalize_similarity', [True, False]),\n",
    "                             implicit = optuna_trial.suggest_categorical('implicit', [True, False])\n",
    "                            )\n",
    "    \n",
    "    eval_res, _ = evaluator_validation.evaluateRecommender(recommender_instance) \n",
    "    \n",
    "    # Save MAP alongside RECALL\n",
    "    trial_results = {\n",
    "        \"RECALL\": eval_res[\"RECALL\"][10],\n",
    "        \"MAP\": eval_res[\"MAP\"][10]  # Save MAP for reference\n",
    "    }\n",
    "    \n",
    "    # Save the MAP value to the optuna trial user attributes for later use\n",
    "    optuna_trial.set_user_attr(\"MAP\", trial_results[\"MAP\"])\n",
    "    \n",
    "    # Return RECALL for optimization\n",
    "    return trial_results[\"RECALL\"]"
   ]
  },
  {
   "cell_type": "code",
   "execution_count": 10,
   "id": "191f53e5-1242-4562-b600-bc8eac5a04b7",
   "metadata": {},
   "outputs": [],
   "source": [
    "def objective_function_P3_alpha(optuna_trial):\n",
    "    recommender_instance = P3alphaRecommender(URM_train)\n",
    "    recommender_instance.fit(topK = optuna_trial.suggest_int(\"topK\", 2, 50),\n",
    "                             alpha = optuna_trial.suggest_float(\"alpha\",0.2, 0.7, log=False),\n",
    "                             normalize_similarity= True\n",
    "                            )\n",
    "    \n",
    "    eval_res, _ = evaluator_validation.evaluateRecommender(recommender_instance)  \n",
    "    \n",
    "    trial_results = {\n",
    "        \"RECALL\": eval_res[\"RECALL\"][10],\n",
    "        \"MAP\": eval_res[\"MAP\"][10]  # Save MAP for reference\n",
    "    }\n",
    "    \n",
    "    # Save the MAP value to the optuna trial user attributes for later use\n",
    "    optuna_trial.set_user_attr(\"MAP\", trial_results[\"MAP\"])\n",
    "    \n",
    "    # Return RECALL for optimization\n",
    "    return trial_results[\"MAP\"]"
   ]
  },
  {
   "cell_type": "code",
   "execution_count": 11,
   "id": "aef59de3-63d7-4b0a-916f-d3be0a632a6f",
   "metadata": {},
   "outputs": [],
   "source": [
    "class SaveResults(object):\n",
    "    def __init__(self, file_path=None):\n",
    "        self.file_path = file_path\n",
    "        self.results = []\n",
    "    \n",
    "    def __call__(self, optuna_study, optuna_trial):\n",
    "        trial_result = optuna_trial.params.copy()\n",
    "        trial_result[\"iteration\"] = optuna_trial.number\n",
    "        trial_result[\"RECALL\"] = optuna_trial.value\n",
    "        \n",
    "        # Retrieve the MAP metric from user attributes\n",
    "        trial_result[\"MAP\"] = optuna_trial.user_attrs.get(\"MAP\")\n",
    "        \n",
    "        self.results.append(trial_result)\n",
    "        \n",
    "        # Convert to DataFrame and save to CSV\n",
    "        results_df = pd.DataFrame(self.results)\n",
    "        results_df.to_csv(self.file_path, index=False)\n"
   ]
  },
  {
   "cell_type": "code",
   "execution_count": 10,
   "id": "38d51640-fade-4813-bd8e-e2e6c97a4369",
   "metadata": {
    "scrolled": true
   },
   "outputs": [],
   "source": [
    "# optuna_study_beta = op.create_study(direction=\"maximize\")\n",
    "        \n",
    "# save_results_beta = SaveResults(\"result_experiments/RP3beta/results_optuna_recall.csv\")\n",
    "        \n",
    "# optuna_study_beta.optimize(objective_function_P3_beta,\n",
    "#                       callbacks=[save_results_beta],\n",
    "#                       n_trials = 300)"
   ]
  },
  {
   "cell_type": "code",
   "execution_count": 12,
   "id": "c27778b0-76f1-4b72-95aa-3adc13784b6b",
   "metadata": {},
   "outputs": [],
   "source": [
    "# save_results_beta.results_df.to_csv(\"result_experiments/RP3beta/results_optuna_20.csv\")"
   ]
  },
  {
   "cell_type": "code",
   "execution_count": 12,
   "id": "d91c184e-1fa1-4836-9c14-c748126780e6",
   "metadata": {
    "scrolled": true
   },
   "outputs": [
    {
     "name": "stderr",
     "output_type": "stream",
     "text": [
      "[I 2025-01-05 22:29:33,729] A new study created in memory with name: no-name-45826424-b985-4564-a578-c456c1e53536\n"
     ]
    },
    {
     "name": "stdout",
     "output_type": "stream",
     "text": [
      "P3alphaRecommender: Similarity column 38121 (100.0%), 5340.98 column/sec. Elapsed time 7.14 sec\n",
      "EvaluatorHoldout: Processed 34728 (100.0%) in 8.19 sec. Users per second: 4238\n"
     ]
    },
    {
     "name": "stderr",
     "output_type": "stream",
     "text": [
      "[I 2025-01-05 22:29:49,349] Trial 0 finished with value: 0.026831234711114888 and parameters: {'topK': 8, 'alpha': 0.6094379801732381}. Best is trial 0 with value: 0.026831234711114888.\n"
     ]
    },
    {
     "name": "stdout",
     "output_type": "stream",
     "text": [
      "P3alphaRecommender: Similarity column 38121 (100.0%), 5037.19 column/sec. Elapsed time 7.57 sec\n",
      "EvaluatorHoldout: Processed 34728 (100.0%) in 8.85 sec. Users per second: 3926\n"
     ]
    },
    {
     "name": "stderr",
     "output_type": "stream",
     "text": [
      "[I 2025-01-05 22:30:06,391] Trial 1 finished with value: 0.02680136996632266 and parameters: {'topK': 44, 'alpha': 0.5657407188050275}. Best is trial 0 with value: 0.026831234711114888.\n"
     ]
    },
    {
     "name": "stdout",
     "output_type": "stream",
     "text": [
      "P3alphaRecommender: Similarity column 38121 (100.0%), 5272.15 column/sec. Elapsed time 7.23 sec\n",
      "EvaluatorHoldout: Processed 34728 (100.0%) in 8.25 sec. Users per second: 4211\n"
     ]
    },
    {
     "name": "stderr",
     "output_type": "stream",
     "text": [
      "[I 2025-01-05 22:30:22,175] Trial 2 finished with value: 0.026941008444765546 and parameters: {'topK': 10, 'alpha': 0.6643650809105279}. Best is trial 2 with value: 0.026941008444765546.\n"
     ]
    },
    {
     "name": "stdout",
     "output_type": "stream",
     "text": [
      "P3alphaRecommender: Similarity column 38121 (100.0%), 2404.94 column/sec. Elapsed time 15.85 sec\n",
      "EvaluatorHoldout: Processed 34728 (100.0%) in 8.44 sec. Users per second: 4114\n"
     ]
    },
    {
     "name": "stderr",
     "output_type": "stream",
     "text": [
      "[I 2025-01-05 22:30:46,694] Trial 3 finished with value: 0.019289433666809252 and parameters: {'topK': 2, 'alpha': 0.31709110076592356}. Best is trial 2 with value: 0.026941008444765546.\n"
     ]
    },
    {
     "name": "stdout",
     "output_type": "stream",
     "text": [
      "P3alphaRecommender: Similarity column 38121 (100.0%), 4962.27 column/sec. Elapsed time 7.68 sec\n",
      "EvaluatorHoldout: Processed 34728 (100.0%) in 8.42 sec. Users per second: 4123\n"
     ]
    },
    {
     "name": "stderr",
     "output_type": "stream",
     "text": [
      "[I 2025-01-05 22:31:03,177] Trial 4 finished with value: 0.02764493816800242 and parameters: {'topK': 19, 'alpha': 0.33860566701280526}. Best is trial 4 with value: 0.02764493816800242.\n"
     ]
    },
    {
     "name": "stdout",
     "output_type": "stream",
     "text": [
      "P3alphaRecommender: Similarity column 38121 (100.0%), 5310.83 column/sec. Elapsed time 7.18 sec\n",
      "EvaluatorHoldout: Processed 34728 (100.0%) in 8.33 sec. Users per second: 4168\n"
     ]
    },
    {
     "name": "stderr",
     "output_type": "stream",
     "text": [
      "[I 2025-01-05 22:31:19,025] Trial 5 finished with value: 0.027502401886039647 and parameters: {'topK': 15, 'alpha': 0.6227814135100632}. Best is trial 4 with value: 0.02764493816800242.\n"
     ]
    },
    {
     "name": "stdout",
     "output_type": "stream",
     "text": [
      "P3alphaRecommender: Similarity column 38121 (100.0%), 5150.98 column/sec. Elapsed time 7.40 sec\n",
      "EvaluatorHoldout: Processed 34728 (100.0%) in 8.53 sec. Users per second: 4069\n"
     ]
    },
    {
     "name": "stderr",
     "output_type": "stream",
     "text": [
      "[I 2025-01-05 22:31:35,406] Trial 6 finished with value: 0.02742985624334884 and parameters: {'topK': 27, 'alpha': 0.43926020954754924}. Best is trial 4 with value: 0.02764493816800242.\n"
     ]
    },
    {
     "name": "stdout",
     "output_type": "stream",
     "text": [
      "P3alphaRecommender: Similarity column 38121 (100.0%), 5082.44 column/sec. Elapsed time 7.50 sec\n",
      "EvaluatorHoldout: Processed 34728 (100.0%) in 8.74 sec. Users per second: 3974\n"
     ]
    },
    {
     "name": "stderr",
     "output_type": "stream",
     "text": [
      "[I 2025-01-05 22:31:52,147] Trial 7 finished with value: 0.027050295402272974 and parameters: {'topK': 34, 'alpha': 0.2854204972951472}. Best is trial 4 with value: 0.02764493816800242.\n"
     ]
    },
    {
     "name": "stdout",
     "output_type": "stream",
     "text": [
      "P3alphaRecommender: Similarity column 38121 (100.0%), 4736.27 column/sec. Elapsed time 8.05 sec\n",
      "EvaluatorHoldout: Processed 34728 (100.0%) in 9.22 sec. Users per second: 3766\n"
     ]
    },
    {
     "name": "stderr",
     "output_type": "stream",
     "text": [
      "[I 2025-01-05 22:32:10,025] Trial 8 finished with value: 0.026825134011985323 and parameters: {'topK': 41, 'alpha': 0.592356031244153}. Best is trial 4 with value: 0.02764493816800242.\n"
     ]
    },
    {
     "name": "stdout",
     "output_type": "stream",
     "text": [
      "P3alphaRecommender: Similarity column 38121 (100.0%), 4735.99 column/sec. Elapsed time 8.05 sec\n",
      "EvaluatorHoldout: Processed 34728 (100.0%) in 9.21 sec. Users per second: 3769\n"
     ]
    },
    {
     "name": "stderr",
     "output_type": "stream",
     "text": [
      "[I 2025-01-05 22:32:27,928] Trial 9 finished with value: 0.026685532098886508 and parameters: {'topK': 46, 'alpha': 0.38705451161198434}. Best is trial 4 with value: 0.02764493816800242.\n"
     ]
    },
    {
     "name": "stdout",
     "output_type": "stream",
     "text": [
      "P3alphaRecommender: Similarity column 38121 (100.0%), 4969.94 column/sec. Elapsed time 7.67 sec\n",
      "EvaluatorHoldout: Processed 34728 (100.0%) in 9.12 sec. Users per second: 3809\n"
     ]
    },
    {
     "name": "stderr",
     "output_type": "stream",
     "text": [
      "[I 2025-01-05 22:32:45,119] Trial 10 finished with value: 0.027420265839192083 and parameters: {'topK': 21, 'alpha': 0.21349091505889278}. Best is trial 4 with value: 0.02764493816800242.\n"
     ]
    },
    {
     "name": "stdout",
     "output_type": "stream",
     "text": [
      "P3alphaRecommender: Similarity column 38121 (100.0%), 4807.65 column/sec. Elapsed time 7.93 sec\n",
      "EvaluatorHoldout: Processed 34728 (100.0%) in 9.08 sec. Users per second: 3823\n"
     ]
    },
    {
     "name": "stderr",
     "output_type": "stream",
     "text": [
      "[I 2025-01-05 22:33:02,528] Trial 11 finished with value: 0.027641377617620762 and parameters: {'topK': 19, 'alpha': 0.5169814914089669}. Best is trial 4 with value: 0.02764493816800242.\n"
     ]
    },
    {
     "name": "stdout",
     "output_type": "stream",
     "text": [
      "P3alphaRecommender: Similarity column 38121 (100.0%), 4801.61 column/sec. Elapsed time 7.94 sec\n",
      "EvaluatorHoldout: Processed 34728 (100.0%) in 8.91 sec. Users per second: 3897\n"
     ]
    },
    {
     "name": "stderr",
     "output_type": "stream",
     "text": [
      "[I 2025-01-05 22:33:19,801] Trial 12 finished with value: 0.027577558522832526 and parameters: {'topK': 22, 'alpha': 0.4973819352094403}. Best is trial 4 with value: 0.02764493816800242.\n"
     ]
    },
    {
     "name": "stdout",
     "output_type": "stream",
     "text": [
      "P3alphaRecommender: Similarity column 38121 (100.0%), 4804.13 column/sec. Elapsed time 7.94 sec\n",
      "EvaluatorHoldout: Processed 34728 (100.0%) in 8.81 sec. Users per second: 3940\n"
     ]
    },
    {
     "name": "stderr",
     "output_type": "stream",
     "text": [
      "[I 2025-01-05 22:33:37,046] Trial 13 finished with value: 0.02722582048061421 and parameters: {'topK': 30, 'alpha': 0.4872768267630002}. Best is trial 4 with value: 0.02764493816800242.\n"
     ]
    },
    {
     "name": "stdout",
     "output_type": "stream",
     "text": [
      "P3alphaRecommender: Similarity column 38121 (100.0%), 4964.20 column/sec. Elapsed time 7.68 sec\n",
      "EvaluatorHoldout: Processed 34728 (100.0%) in 8.75 sec. Users per second: 3967\n"
     ]
    },
    {
     "name": "stderr",
     "output_type": "stream",
     "text": [
      "[I 2025-01-05 22:33:53,835] Trial 14 finished with value: 0.027701486472650232 and parameters: {'topK': 17, 'alpha': 0.3735388588525447}. Best is trial 14 with value: 0.027701486472650232.\n"
     ]
    },
    {
     "name": "stdout",
     "output_type": "stream",
     "text": [
      "P3alphaRecommender: Similarity column 38121 (100.0%), 4932.50 column/sec. Elapsed time 7.73 sec\n",
      "EvaluatorHoldout: Processed 34728 (100.0%) in 8.68 sec. Users per second: 4002\n"
     ]
    },
    {
     "name": "stderr",
     "output_type": "stream",
     "text": [
      "[I 2025-01-05 22:34:10,575] Trial 15 finished with value: 0.02771136939955978 and parameters: {'topK': 14, 'alpha': 0.37222281675867874}. Best is trial 15 with value: 0.02771136939955978.\n"
     ]
    },
    {
     "name": "stdout",
     "output_type": "stream",
     "text": [
      "P3alphaRecommender: Similarity column 38121 (100.0%), 4958.31 column/sec. Elapsed time 7.69 sec\n",
      "EvaluatorHoldout: Processed 34728 (100.0%) in 8.68 sec. Users per second: 3999\n"
     ]
    },
    {
     "name": "stderr",
     "output_type": "stream",
     "text": [
      "[I 2025-01-05 22:34:27,274] Trial 16 finished with value: 0.027689948963920283 and parameters: {'topK': 13, 'alpha': 0.3978838404914335}. Best is trial 15 with value: 0.02771136939955978.\n"
     ]
    },
    {
     "name": "stdout",
     "output_type": "stream",
     "text": [
      "P3alphaRecommender: Similarity column 38121 (100.0%), 5133.32 column/sec. Elapsed time 7.43 sec\n",
      "EvaluatorHoldout: Processed 34728 (100.0%) in 8.34 sec. Users per second: 4162\n"
     ]
    },
    {
     "name": "stderr",
     "output_type": "stream",
     "text": [
      "[I 2025-01-05 22:34:43,305] Trial 17 finished with value: 0.026214347646836694 and parameters: {'topK': 6, 'alpha': 0.23786733149608433}. Best is trial 15 with value: 0.02771136939955978.\n"
     ]
    },
    {
     "name": "stdout",
     "output_type": "stream",
     "text": [
      "P3alphaRecommender: Similarity column 38121 (100.0%), 4894.41 column/sec. Elapsed time 7.79 sec\n",
      "EvaluatorHoldout: Processed 34728 (100.0%) in 8.80 sec. Users per second: 3945\n"
     ]
    },
    {
     "name": "stderr",
     "output_type": "stream",
     "text": [
      "[I 2025-01-05 22:35:00,256] Trial 18 finished with value: 0.02769490128271153 and parameters: {'topK': 15, 'alpha': 0.38379954064741356}. Best is trial 15 with value: 0.02771136939955978.\n"
     ]
    },
    {
     "name": "stdout",
     "output_type": "stream",
     "text": [
      "P3alphaRecommender: Similarity column 38121 (100.0%), 4714.51 column/sec. Elapsed time 8.09 sec\n",
      "EvaluatorHoldout: Processed 34728 (100.0%) in 9.03 sec. Users per second: 3845\n"
     ]
    },
    {
     "name": "stderr",
     "output_type": "stream",
     "text": [
      "[I 2025-01-05 22:35:17,919] Trial 19 finished with value: 0.026895409175341084 and parameters: {'topK': 37, 'alpha': 0.27186170307623897}. Best is trial 15 with value: 0.02771136939955978.\n"
     ]
    },
    {
     "name": "stdout",
     "output_type": "stream",
     "text": [
      "P3alphaRecommender: Similarity column 38121 (100.0%), 4979.50 column/sec. Elapsed time 7.66 sec\n",
      "EvaluatorHoldout: Processed 34728 (100.0%) in 8.78 sec. Users per second: 3956\n"
     ]
    },
    {
     "name": "stderr",
     "output_type": "stream",
     "text": [
      "[I 2025-01-05 22:35:34,789] Trial 20 finished with value: 0.02747401803768343 and parameters: {'topK': 25, 'alpha': 0.34035535344325324}. Best is trial 15 with value: 0.02771136939955978.\n"
     ]
    },
    {
     "name": "stdout",
     "output_type": "stream",
     "text": [
      "P3alphaRecommender: Similarity column 38121 (100.0%), 5122.63 column/sec. Elapsed time 7.44 sec\n",
      "EvaluatorHoldout: Processed 34728 (100.0%) in 8.57 sec. Users per second: 4054\n"
     ]
    },
    {
     "name": "stderr",
     "output_type": "stream",
     "text": [
      "[I 2025-01-05 22:35:51,149] Trial 21 finished with value: 0.027707215805003536 and parameters: {'topK': 16, 'alpha': 0.4011005132081171}. Best is trial 15 with value: 0.02771136939955978.\n"
     ]
    },
    {
     "name": "stdout",
     "output_type": "stream",
     "text": [
      "P3alphaRecommender: Similarity column 38121 (100.0%), 5122.55 column/sec. Elapsed time 7.44 sec\n",
      "EvaluatorHoldout: Processed 34728 (100.0%) in 8.53 sec. Users per second: 4073\n"
     ]
    },
    {
     "name": "stderr",
     "output_type": "stream",
     "text": [
      "[I 2025-01-05 22:36:07,434] Trial 22 finished with value: 0.02748695417082537 and parameters: {'topK': 12, 'alpha': 0.44655836924800696}. Best is trial 15 with value: 0.02771136939955978.\n"
     ]
    },
    {
     "name": "stdout",
     "output_type": "stream",
     "text": [
      "P3alphaRecommender: Similarity column 38121 (100.0%), 5197.78 column/sec. Elapsed time 7.33 sec\n",
      "EvaluatorHoldout: Processed 34728 (100.0%) in 8.34 sec. Users per second: 4162\n"
     ]
    },
    {
     "name": "stderr",
     "output_type": "stream",
     "text": [
      "[I 2025-01-05 22:36:23,358] Trial 23 finished with value: 0.024413321623281383 and parameters: {'topK': 4, 'alpha': 0.40317267820308234}. Best is trial 15 with value: 0.02771136939955978.\n"
     ]
    },
    {
     "name": "stdout",
     "output_type": "stream",
     "text": [
      "P3alphaRecommender: Similarity column 38121 (100.0%), 5083.90 column/sec. Elapsed time 7.50 sec\n",
      "EvaluatorHoldout: Processed 34728 (100.0%) in 8.90 sec. Users per second: 3903\n"
     ]
    },
    {
     "name": "stderr",
     "output_type": "stream",
     "text": [
      "[I 2025-01-05 22:36:40,113] Trial 24 finished with value: 0.027737983256728174 and parameters: {'topK': 17, 'alpha': 0.3546244036206817}. Best is trial 24 with value: 0.027737983256728174.\n"
     ]
    },
    {
     "name": "stdout",
     "output_type": "stream",
     "text": [
      "P3alphaRecommender: Similarity column 38121 (100.0%), 4742.28 column/sec. Elapsed time 8.04 sec\n",
      "EvaluatorHoldout: Processed 34728 (100.0%) in 9.08 sec. Users per second: 3823\n"
     ]
    },
    {
     "name": "stderr",
     "output_type": "stream",
     "text": [
      "[I 2025-01-05 22:36:57,909] Trial 25 finished with value: 0.02652508336898381 and parameters: {'topK': 50, 'alpha': 0.4248318259742145}. Best is trial 24 with value: 0.027737983256728174.\n"
     ]
    },
    {
     "name": "stdout",
     "output_type": "stream",
     "text": [
      "P3alphaRecommender: Similarity column 38121 (100.0%), 5012.95 column/sec. Elapsed time 7.60 sec\n",
      "EvaluatorHoldout: Processed 34728 (100.0%) in 8.79 sec. Users per second: 3949\n"
     ]
    },
    {
     "name": "stderr",
     "output_type": "stream",
     "text": [
      "[I 2025-01-05 22:37:14,728] Trial 26 finished with value: 0.027490469014526557 and parameters: {'topK': 24, 'alpha': 0.30170753926751526}. Best is trial 24 with value: 0.027737983256728174.\n"
     ]
    },
    {
     "name": "stdout",
     "output_type": "stream",
     "text": [
      "P3alphaRecommender: Similarity column 38121 (100.0%), 4727.03 column/sec. Elapsed time 8.06 sec\n",
      "EvaluatorHoldout: Processed 34728 (100.0%) in 9.12 sec. Users per second: 3807\n"
     ]
    },
    {
     "name": "stderr",
     "output_type": "stream",
     "text": [
      "[I 2025-01-05 22:37:32,390] Trial 27 finished with value: 0.02733913762464142 and parameters: {'topK': 29, 'alpha': 0.3548394105087576}. Best is trial 24 with value: 0.027737983256728174.\n"
     ]
    },
    {
     "name": "stdout",
     "output_type": "stream",
     "text": [
      "P3alphaRecommender: Similarity column 38121 (100.0%), 4842.33 column/sec. Elapsed time 7.87 sec\n",
      "EvaluatorHoldout: Processed 34728 (100.0%) in 8.62 sec. Users per second: 4029\n"
     ]
    },
    {
     "name": "stderr",
     "output_type": "stream",
     "text": [
      "[I 2025-01-05 22:37:49,203] Trial 28 finished with value: 0.02731006017741433 and parameters: {'topK': 11, 'alpha': 0.4725150209496913}. Best is trial 24 with value: 0.027737983256728174.\n"
     ]
    },
    {
     "name": "stdout",
     "output_type": "stream",
     "text": [
      "P3alphaRecommender: Similarity column 38121 (100.0%), 5143.24 column/sec. Elapsed time 7.41 sec\n",
      "EvaluatorHoldout: Processed 34728 (100.0%) in 8.74 sec. Users per second: 3972\n"
     ]
    },
    {
     "name": "stderr",
     "output_type": "stream",
     "text": [
      "[I 2025-01-05 22:38:05,639] Trial 29 finished with value: 0.02700415336602204 and parameters: {'topK': 8, 'alpha': 0.5306176683251402}. Best is trial 24 with value: 0.027737983256728174.\n"
     ]
    },
    {
     "name": "stdout",
     "output_type": "stream",
     "text": [
      "P3alphaRecommender: Similarity column 38121 (100.0%), 5028.68 column/sec. Elapsed time 7.58 sec\n",
      "EvaluatorHoldout: Processed 34728 (100.0%) in 8.56 sec. Users per second: 4058\n"
     ]
    },
    {
     "name": "stderr",
     "output_type": "stream",
     "text": [
      "[I 2025-01-05 22:38:22,056] Trial 30 finished with value: 0.02689452703641476 and parameters: {'topK': 7, 'alpha': 0.2516158272131085}. Best is trial 24 with value: 0.027737983256728174.\n"
     ]
    },
    {
     "name": "stdout",
     "output_type": "stream",
     "text": [
      "P3alphaRecommender: Similarity column 38121 (100.0%), 5011.04 column/sec. Elapsed time 7.61 sec\n",
      "EvaluatorHoldout: Processed 34728 (100.0%) in 9.01 sec. Users per second: 3856\n"
     ]
    },
    {
     "name": "stderr",
     "output_type": "stream",
     "text": [
      "[I 2025-01-05 22:38:39,026] Trial 31 finished with value: 0.027722964041639885 and parameters: {'topK': 17, 'alpha': 0.359931592225811}. Best is trial 24 with value: 0.027737983256728174.\n"
     ]
    },
    {
     "name": "stdout",
     "output_type": "stream",
     "text": [
      "P3alphaRecommender: Similarity column 38121 (100.0%), 5048.79 column/sec. Elapsed time 7.55 sec\n",
      "EvaluatorHoldout: Processed 34728 (100.0%) in 8.54 sec. Users per second: 4068\n"
     ]
    },
    {
     "name": "stderr",
     "output_type": "stream",
     "text": [
      "[I 2025-01-05 22:38:55,467] Trial 32 finished with value: 0.02775878322418503 and parameters: {'topK': 16, 'alpha': 0.32948433681166744}. Best is trial 32 with value: 0.02775878322418503.\n"
     ]
    },
    {
     "name": "stdout",
     "output_type": "stream",
     "text": [
      "P3alphaRecommender: Similarity column 38121 (100.0%), 5068.07 column/sec. Elapsed time 7.52 sec\n",
      "EvaluatorHoldout: Processed 34728 (100.0%) in 8.76 sec. Users per second: 3965\n"
     ]
    },
    {
     "name": "stderr",
     "output_type": "stream",
     "text": [
      "[I 2025-01-05 22:39:12,134] Trial 33 finished with value: 0.02761263497182553 and parameters: {'topK': 21, 'alpha': 0.311314190849124}. Best is trial 32 with value: 0.02775878322418503.\n"
     ]
    },
    {
     "name": "stdout",
     "output_type": "stream",
     "text": [
      "P3alphaRecommender: Similarity column 38121 (100.0%), 5071.66 column/sec. Elapsed time 7.52 sec\n",
      "EvaluatorHoldout: Processed 34728 (100.0%) in 8.57 sec. Users per second: 4054\n"
     ]
    },
    {
     "name": "stderr",
     "output_type": "stream",
     "text": [
      "[I 2025-01-05 22:39:28,531] Trial 34 finished with value: 0.02759294110602782 and parameters: {'topK': 11, 'alpha': 0.35587953594183735}. Best is trial 32 with value: 0.02775878322418503.\n"
     ]
    },
    {
     "name": "stdout",
     "output_type": "stream",
     "text": [
      "P3alphaRecommender: Similarity column 38121 (100.0%), 5103.00 column/sec. Elapsed time 7.47 sec\n",
      "EvaluatorHoldout: Processed 34728 (100.0%) in 8.53 sec. Users per second: 4073\n"
     ]
    },
    {
     "name": "stderr",
     "output_type": "stream",
     "text": [
      "[I 2025-01-05 22:39:44,913] Trial 35 finished with value: 0.02738261838944204 and parameters: {'topK': 19, 'alpha': 0.6944647583717807}. Best is trial 32 with value: 0.02775878322418503.\n"
     ]
    },
    {
     "name": "stdout",
     "output_type": "stream",
     "text": [
      "P3alphaRecommender: Similarity column 38121 (100.0%), 5032.00 column/sec. Elapsed time 7.58 sec\n",
      "EvaluatorHoldout: Processed 34728 (100.0%) in 8.57 sec. Users per second: 4051\n"
     ]
    },
    {
     "name": "stderr",
     "output_type": "stream",
     "text": [
      "[I 2025-01-05 22:40:01,390] Trial 36 finished with value: 0.027703817513336504 and parameters: {'topK': 14, 'alpha': 0.3448746784913638}. Best is trial 32 with value: 0.02775878322418503.\n"
     ]
    },
    {
     "name": "stdout",
     "output_type": "stream",
     "text": [
      "P3alphaRecommender: Similarity column 38121 (100.0%), 4881.05 column/sec. Elapsed time 7.81 sec\n",
      "EvaluatorHoldout: Processed 34728 (100.0%) in 8.72 sec. Users per second: 3985\n"
     ]
    },
    {
     "name": "stderr",
     "output_type": "stream",
     "text": [
      "[I 2025-01-05 22:40:18,275] Trial 37 finished with value: 0.02773875798495627 and parameters: {'topK': 17, 'alpha': 0.3213533491811396}. Best is trial 32 with value: 0.02775878322418503.\n"
     ]
    },
    {
     "name": "stdout",
     "output_type": "stream",
     "text": [
      "P3alphaRecommender: Similarity column 38121 (100.0%), 4857.64 column/sec. Elapsed time 7.85 sec\n",
      "EvaluatorHoldout: Processed 34728 (100.0%) in 8.88 sec. Users per second: 3911\n"
     ]
    },
    {
     "name": "stderr",
     "output_type": "stream",
     "text": [
      "[I 2025-01-05 22:40:35,372] Trial 38 finished with value: 0.027645356384125498 and parameters: {'topK': 18, 'alpha': 0.32420342466204616}. Best is trial 32 with value: 0.02775878322418503.\n"
     ]
    },
    {
     "name": "stdout",
     "output_type": "stream",
     "text": [
      "P3alphaRecommender: Similarity column 38121 (100.0%), 4880.80 column/sec. Elapsed time 7.81 sec\n",
      "EvaluatorHoldout: Processed 34728 (100.0%) in 8.86 sec. Users per second: 3918\n"
     ]
    },
    {
     "name": "stderr",
     "output_type": "stream",
     "text": [
      "[I 2025-01-05 22:40:52,458] Trial 39 finished with value: 0.02745502691209241 and parameters: {'topK': 23, 'alpha': 0.2820679464947542}. Best is trial 32 with value: 0.02775878322418503.\n"
     ]
    },
    {
     "name": "stdout",
     "output_type": "stream",
     "text": [
      "P3alphaRecommender: Similarity column 38121 (100.0%), 4849.40 column/sec. Elapsed time 7.86 sec\n",
      "EvaluatorHoldout: Processed 34728 (100.0%) in 8.89 sec. Users per second: 3906\n"
     ]
    },
    {
     "name": "stderr",
     "output_type": "stream",
     "text": [
      "[I 2025-01-05 22:41:09,651] Trial 40 finished with value: 0.027322340419696285 and parameters: {'topK': 27, 'alpha': 0.26110082123438877}. Best is trial 32 with value: 0.02775878322418503.\n"
     ]
    },
    {
     "name": "stdout",
     "output_type": "stream",
     "text": [
      "P3alphaRecommender: Similarity column 38121 (100.0%), 5146.27 column/sec. Elapsed time 7.41 sec\n",
      "EvaluatorHoldout: Processed 34728 (100.0%) in 8.66 sec. Users per second: 4012\n"
     ]
    },
    {
     "name": "stderr",
     "output_type": "stream",
     "text": [
      "[I 2025-01-05 22:41:26,015] Trial 41 finished with value: 0.02737252178380306 and parameters: {'topK': 10, 'alpha': 0.42540294410744245}. Best is trial 32 with value: 0.02775878322418503.\n"
     ]
    },
    {
     "name": "stdout",
     "output_type": "stream",
     "text": [
      "P3alphaRecommender: Similarity column 38121 (100.0%), 4917.54 column/sec. Elapsed time 7.75 sec\n",
      "EvaluatorHoldout: Processed 34728 (100.0%) in 8.80 sec. Users per second: 3945\n"
     ]
    },
    {
     "name": "stderr",
     "output_type": "stream",
     "text": [
      "[I 2025-01-05 22:41:42,912] Trial 42 finished with value: 0.02772652916268948 and parameters: {'topK': 16, 'alpha': 0.3066985360055886}. Best is trial 32 with value: 0.02775878322418503.\n"
     ]
    },
    {
     "name": "stdout",
     "output_type": "stream",
     "text": [
      "P3alphaRecommender: Similarity column 38121 (100.0%), 4942.14 column/sec. Elapsed time 7.71 sec\n",
      "EvaluatorHoldout: Processed 34728 (100.0%) in 8.61 sec. Users per second: 4033\n"
     ]
    },
    {
     "name": "stderr",
     "output_type": "stream",
     "text": [
      "[I 2025-01-05 22:41:59,614] Trial 43 finished with value: 0.027610559888547985 and parameters: {'topK': 20, 'alpha': 0.2212600725558933}. Best is trial 32 with value: 0.02775878322418503.\n"
     ]
    },
    {
     "name": "stdout",
     "output_type": "stream",
     "text": [
      "P3alphaRecommender: Similarity column 38121 (100.0%), 5073.00 column/sec. Elapsed time 7.51 sec\n",
      "EvaluatorHoldout: Processed 34728 (100.0%) in 8.50 sec. Users per second: 4088\n"
     ]
    },
    {
     "name": "stderr",
     "output_type": "stream",
     "text": [
      "[I 2025-01-05 22:42:15,980] Trial 44 finished with value: 0.02774300185020565 and parameters: {'topK': 17, 'alpha': 0.3126444235546919}. Best is trial 32 with value: 0.02775878322418503.\n"
     ]
    },
    {
     "name": "stdout",
     "output_type": "stream",
     "text": [
      "P3alphaRecommender: Similarity column 38121 (100.0%), 5086.51 column/sec. Elapsed time 7.49 sec\n",
      "EvaluatorHoldout: Processed 34728 (100.0%) in 8.53 sec. Users per second: 4072\n"
     ]
    },
    {
     "name": "stderr",
     "output_type": "stream",
     "text": [
      "[I 2025-01-05 22:42:32,349] Trial 45 finished with value: 0.027729452104883315 and parameters: {'topK': 16, 'alpha': 0.3072545811268406}. Best is trial 32 with value: 0.02775878322418503.\n"
     ]
    },
    {
     "name": "stdout",
     "output_type": "stream",
     "text": [
      "P3alphaRecommender: Similarity column 38121 (100.0%), 5157.26 column/sec. Elapsed time 7.39 sec\n",
      "EvaluatorHoldout: Processed 34728 (100.0%) in 8.41 sec. Users per second: 4131\n"
     ]
    },
    {
     "name": "stderr",
     "output_type": "stream",
     "text": [
      "[I 2025-01-05 22:42:48,440] Trial 46 finished with value: 0.027384090144542014 and parameters: {'topK': 9, 'alpha': 0.2901389238972055}. Best is trial 32 with value: 0.02775878322418503.\n"
     ]
    },
    {
     "name": "stdout",
     "output_type": "stream",
     "text": [
      "P3alphaRecommender: Similarity column 38121 (100.0%), 5072.18 column/sec. Elapsed time 7.52 sec\n",
      "EvaluatorHoldout: Processed 34728 (100.0%) in 8.69 sec. Users per second: 3995\n"
     ]
    },
    {
     "name": "stderr",
     "output_type": "stream",
     "text": [
      "[I 2025-01-05 22:43:05,046] Trial 47 finished with value: 0.02756623469283207 and parameters: {'topK': 22, 'alpha': 0.3219811960089248}. Best is trial 32 with value: 0.02775878322418503.\n"
     ]
    },
    {
     "name": "stdout",
     "output_type": "stream",
     "text": [
      "P3alphaRecommender: Similarity column 38121 (100.0%), 4932.71 column/sec. Elapsed time 7.73 sec\n",
      "EvaluatorHoldout: Processed 34728 (100.0%) in 8.81 sec. Users per second: 3940\n"
     ]
    },
    {
     "name": "stderr",
     "output_type": "stream",
     "text": [
      "[I 2025-01-05 22:43:22,068] Trial 48 finished with value: 0.027191627313214336 and parameters: {'topK': 31, 'alpha': 0.3291851112197491}. Best is trial 32 with value: 0.02775878322418503.\n"
     ]
    },
    {
     "name": "stdout",
     "output_type": "stream",
     "text": [
      "P3alphaRecommender: Similarity column 38121 (100.0%), 5121.82 column/sec. Elapsed time 7.44 sec\n",
      "EvaluatorHoldout: Processed 34728 (100.0%) in 8.64 sec. Users per second: 4018\n"
     ]
    },
    {
     "name": "stderr",
     "output_type": "stream",
     "text": [
      "[I 2025-01-05 22:43:38,480] Trial 49 finished with value: 0.027716448554388436 and parameters: {'topK': 14, 'alpha': 0.24216481605750137}. Best is trial 32 with value: 0.02775878322418503.\n"
     ]
    },
    {
     "name": "stdout",
     "output_type": "stream",
     "text": [
      "P3alphaRecommender: Similarity column 38121 (100.0%), 1681.06 column/sec. Elapsed time 22.68 sec\n",
      "EvaluatorHoldout: Processed 34728 (100.0%) in 8.31 sec. Users per second: 4177\n"
     ]
    },
    {
     "name": "stderr",
     "output_type": "stream",
     "text": [
      "[I 2025-01-05 22:44:09,704] Trial 50 finished with value: 0.022764714808598402 and parameters: {'topK': 3, 'alpha': 0.2893532163748396}. Best is trial 32 with value: 0.02775878322418503.\n"
     ]
    },
    {
     "name": "stdout",
     "output_type": "stream",
     "text": [
      "P3alphaRecommender: Similarity column 38121 (100.0%), 4997.09 column/sec. Elapsed time 7.63 sec\n",
      "EvaluatorHoldout: Processed 34728 (100.0%) in 8.74 sec. Users per second: 3974\n"
     ]
    },
    {
     "name": "stderr",
     "output_type": "stream",
     "text": [
      "[I 2025-01-05 22:44:26,424] Trial 51 finished with value: 0.027740801073557794 and parameters: {'topK': 16, 'alpha': 0.30520115024798}. Best is trial 32 with value: 0.02775878322418503.\n"
     ]
    },
    {
     "name": "stdout",
     "output_type": "stream",
     "text": [
      "P3alphaRecommender: Similarity column 38121 (100.0%), 4952.06 column/sec. Elapsed time 7.70 sec\n",
      "EvaluatorHoldout: Processed 34728 (100.0%) in 8.78 sec. Users per second: 3957\n"
     ]
    },
    {
     "name": "stderr",
     "output_type": "stream",
     "text": [
      "[I 2025-01-05 22:44:43,274] Trial 52 finished with value: 0.02763349892863458 and parameters: {'topK': 19, 'alpha': 0.27362900729317324}. Best is trial 32 with value: 0.02775878322418503.\n"
     ]
    },
    {
     "name": "stdout",
     "output_type": "stream",
     "text": [
      "P3alphaRecommender: Similarity column 38121 (100.0%), 5064.22 column/sec. Elapsed time 7.53 sec\n",
      "EvaluatorHoldout: Processed 34728 (100.0%) in 8.72 sec. Users per second: 3983\n"
     ]
    },
    {
     "name": "stderr",
     "output_type": "stream",
     "text": [
      "[I 2025-01-05 22:44:59,839] Trial 53 finished with value: 0.02772848540859878 and parameters: {'topK': 13, 'alpha': 0.22474040876443635}. Best is trial 32 with value: 0.02775878322418503.\n"
     ]
    },
    {
     "name": "stdout",
     "output_type": "stream",
     "text": [
      "P3alphaRecommender: Similarity column 38121 (100.0%), 5010.65 column/sec. Elapsed time 7.61 sec\n",
      "EvaluatorHoldout: Processed 34728 (100.0%) in 8.81 sec. Users per second: 3940\n"
     ]
    },
    {
     "name": "stderr",
     "output_type": "stream",
     "text": [
      "[I 2025-01-05 22:45:16,614] Trial 54 finished with value: 0.027530302386253605 and parameters: {'topK': 17, 'alpha': 0.2018060962520053}. Best is trial 32 with value: 0.02775878322418503.\n"
     ]
    },
    {
     "name": "stdout",
     "output_type": "stream",
     "text": [
      "P3alphaRecommender: Similarity column 38121 (100.0%), 4949.34 column/sec. Elapsed time 7.70 sec\n",
      "EvaluatorHoldout: Processed 34728 (100.0%) in 8.78 sec. Users per second: 3957\n"
     ]
    },
    {
     "name": "stderr",
     "output_type": "stream",
     "text": [
      "[I 2025-01-05 22:45:33,531] Trial 55 finished with value: 0.027388604821871197 and parameters: {'topK': 26, 'alpha': 0.33638651527112495}. Best is trial 32 with value: 0.02775878322418503.\n"
     ]
    },
    {
     "name": "stdout",
     "output_type": "stream",
     "text": [
      "P3alphaRecommender: Similarity column 38121 (100.0%), 4899.92 column/sec. Elapsed time 7.78 sec\n",
      "EvaluatorHoldout: Processed 34728 (100.0%) in 8.71 sec. Users per second: 3989\n"
     ]
    },
    {
     "name": "stderr",
     "output_type": "stream",
     "text": [
      "[I 2025-01-05 22:45:50,409] Trial 56 finished with value: 0.027626298983848243 and parameters: {'topK': 20, 'alpha': 0.3730069740259164}. Best is trial 32 with value: 0.02775878322418503.\n"
     ]
    },
    {
     "name": "stdout",
     "output_type": "stream",
     "text": [
      "P3alphaRecommender: Similarity column 38121 (100.0%), 5071.56 column/sec. Elapsed time 7.52 sec\n",
      "EvaluatorHoldout: Processed 34728 (100.0%) in 8.60 sec. Users per second: 4036\n"
     ]
    },
    {
     "name": "stderr",
     "output_type": "stream",
     "text": [
      "[I 2025-01-05 22:46:06,878] Trial 57 finished with value: 0.02766878791369049 and parameters: {'topK': 16, 'alpha': 0.2579966960558219}. Best is trial 32 with value: 0.02775878322418503.\n"
     ]
    },
    {
     "name": "stdout",
     "output_type": "stream",
     "text": [
      "P3alphaRecommender: Similarity column 38121 (100.0%), 5000.65 column/sec. Elapsed time 7.62 sec\n",
      "EvaluatorHoldout: Processed 34728 (100.0%) in 8.75 sec. Users per second: 3968\n"
     ]
    },
    {
     "name": "stderr",
     "output_type": "stream",
     "text": [
      "[I 2025-01-05 22:46:23,665] Trial 58 finished with value: 0.02750593844041411 and parameters: {'topK': 23, 'alpha': 0.302002970689074}. Best is trial 32 with value: 0.02775878322418503.\n"
     ]
    },
    {
     "name": "stdout",
     "output_type": "stream",
     "text": [
      "P3alphaRecommender: Similarity column 38121 (100.0%), 5023.59 column/sec. Elapsed time 7.59 sec\n",
      "EvaluatorHoldout: Processed 34728 (100.0%) in 8.80 sec. Users per second: 3945\n"
     ]
    },
    {
     "name": "stderr",
     "output_type": "stream",
     "text": [
      "[I 2025-01-05 22:46:40,379] Trial 59 finished with value: 0.02758410714742718 and parameters: {'topK': 12, 'alpha': 0.3854089702704676}. Best is trial 32 with value: 0.02775878322418503.\n"
     ]
    },
    {
     "name": "stdout",
     "output_type": "stream",
     "text": [
      "P3alphaRecommender: Similarity column 38121 (100.0%), 5104.88 column/sec. Elapsed time 7.47 sec\n",
      "EvaluatorHoldout: Processed 34728 (100.0%) in 8.47 sec. Users per second: 4101\n"
     ]
    },
    {
     "name": "stderr",
     "output_type": "stream",
     "text": [
      "[I 2025-01-05 22:46:56,642] Trial 60 finished with value: 0.02766692765180941 and parameters: {'topK': 14, 'alpha': 0.4119872868634672}. Best is trial 32 with value: 0.02775878322418503.\n"
     ]
    },
    {
     "name": "stdout",
     "output_type": "stream",
     "text": [
      "P3alphaRecommender: Similarity column 38121 (100.0%), 5044.98 column/sec. Elapsed time 7.56 sec\n",
      "EvaluatorHoldout: Processed 34728 (100.0%) in 8.85 sec. Users per second: 3926\n"
     ]
    },
    {
     "name": "stderr",
     "output_type": "stream",
     "text": [
      "[I 2025-01-05 22:47:13,363] Trial 61 finished with value: 0.02772930812884099 and parameters: {'topK': 13, 'alpha': 0.2182262576811303}. Best is trial 32 with value: 0.02775878322418503.\n"
     ]
    },
    {
     "name": "stdout",
     "output_type": "stream",
     "text": [
      "P3alphaRecommender: Similarity column 38121 (100.0%), 4798.49 column/sec. Elapsed time 7.94 sec\n",
      "EvaluatorHoldout: Processed 34728 (100.0%) in 8.75 sec. Users per second: 3969\n"
     ]
    },
    {
     "name": "stderr",
     "output_type": "stream",
     "text": [
      "[I 2025-01-05 22:47:30,402] Trial 62 finished with value: 0.027685741664015086 and parameters: {'topK': 15, 'alpha': 0.23901432725944302}. Best is trial 32 with value: 0.02775878322418503.\n"
     ]
    },
    {
     "name": "stdout",
     "output_type": "stream",
     "text": [
      "P3alphaRecommender: Similarity column 38121 (100.0%), 5021.67 column/sec. Elapsed time 7.59 sec\n",
      "EvaluatorHoldout: Processed 34728 (100.0%) in 8.84 sec. Users per second: 3928\n"
     ]
    },
    {
     "name": "stderr",
     "output_type": "stream",
     "text": [
      "[I 2025-01-05 22:47:47,203] Trial 63 finished with value: 0.027655025632305427 and parameters: {'topK': 18, 'alpha': 0.26739039215905874}. Best is trial 32 with value: 0.02775878322418503.\n"
     ]
    },
    {
     "name": "stdout",
     "output_type": "stream",
     "text": [
      "P3alphaRecommender: Similarity column 38121 (100.0%), 4912.53 column/sec. Elapsed time 7.76 sec\n",
      "EvaluatorHoldout: Processed 34728 (100.0%) in 8.80 sec. Users per second: 3948\n"
     ]
    },
    {
     "name": "stderr",
     "output_type": "stream",
     "text": [
      "[I 2025-01-05 22:48:04,037] Trial 64 finished with value: 0.026333446685899417 and parameters: {'topK': 6, 'alpha': 0.32050496103963927}. Best is trial 32 with value: 0.02775878322418503.\n"
     ]
    },
    {
     "name": "stdout",
     "output_type": "stream",
     "text": [
      "P3alphaRecommender: Similarity column 38121 (100.0%), 5116.13 column/sec. Elapsed time 7.45 sec\n",
      "EvaluatorHoldout: Processed 34728 (100.0%) in 8.47 sec. Users per second: 4100\n"
     ]
    },
    {
     "name": "stderr",
     "output_type": "stream",
     "text": [
      "[I 2025-01-05 22:48:20,271] Trial 65 finished with value: 0.027673732233812715 and parameters: {'topK': 12, 'alpha': 0.2930257431213229}. Best is trial 32 with value: 0.02775878322418503.\n"
     ]
    },
    {
     "name": "stdout",
     "output_type": "stream",
     "text": [
      "P3alphaRecommender: Similarity column 38121 (100.0%), 5057.88 column/sec. Elapsed time 7.54 sec\n",
      "EvaluatorHoldout: Processed 34728 (100.0%) in 8.67 sec. Users per second: 4004\n"
     ]
    },
    {
     "name": "stderr",
     "output_type": "stream",
     "text": [
      "[I 2025-01-05 22:48:36,780] Trial 66 finished with value: 0.027504455258644186 and parameters: {'topK': 10, 'alpha': 0.33650683496540507}. Best is trial 32 with value: 0.02775878322418503.\n"
     ]
    },
    {
     "name": "stdout",
     "output_type": "stream",
     "text": [
      "P3alphaRecommender: Similarity column 38121 (100.0%), 4769.33 column/sec. Elapsed time 7.99 sec\n",
      "EvaluatorHoldout: Processed 34728 (100.0%) in 9.05 sec. Users per second: 3838\n"
     ]
    },
    {
     "name": "stderr",
     "output_type": "stream",
     "text": [
      "[I 2025-01-05 22:48:54,220] Trial 67 finished with value: 0.027604574598785955 and parameters: {'topK': 21, 'alpha': 0.3559184709495706}. Best is trial 32 with value: 0.02775878322418503.\n"
     ]
    },
    {
     "name": "stdout",
     "output_type": "stream",
     "text": [
      "P3alphaRecommender: Similarity column 38121 (100.0%), 4906.85 column/sec. Elapsed time 7.77 sec\n",
      "EvaluatorHoldout: Processed 34728 (100.0%) in 9.01 sec. Users per second: 3853\n"
     ]
    },
    {
     "name": "stderr",
     "output_type": "stream",
     "text": [
      "[I 2025-01-05 22:49:11,396] Trial 68 finished with value: 0.027633535493978744 and parameters: {'topK': 18, 'alpha': 0.36856389167706405}. Best is trial 32 with value: 0.02775878322418503.\n"
     ]
    },
    {
     "name": "stdout",
     "output_type": "stream",
     "text": [
      "P3alphaRecommender: Similarity column 38121 (100.0%), 4836.62 column/sec. Elapsed time 7.88 sec\n",
      "EvaluatorHoldout: Processed 34728 (100.0%) in 8.78 sec. Users per second: 3956\n"
     ]
    },
    {
     "name": "stderr",
     "output_type": "stream",
     "text": [
      "[I 2025-01-05 22:49:28,415] Trial 69 finished with value: 0.027466273040736726 and parameters: {'topK': 15, 'alpha': 0.5989222598627907}. Best is trial 32 with value: 0.02775878322418503.\n"
     ]
    },
    {
     "name": "stdout",
     "output_type": "stream",
     "text": [
      "P3alphaRecommender: Similarity column 38121 (100.0%), 5127.35 column/sec. Elapsed time 7.43 sec\n",
      "EvaluatorHoldout: Processed 34728 (100.0%) in 8.93 sec. Users per second: 3888\n"
     ]
    },
    {
     "name": "stderr",
     "output_type": "stream",
     "text": [
      "[I 2025-01-05 22:49:45,118] Trial 70 finished with value: 0.027578860020549083 and parameters: {'topK': 13, 'alpha': 0.4588748912712615}. Best is trial 32 with value: 0.02775878322418503.\n"
     ]
    },
    {
     "name": "stdout",
     "output_type": "stream",
     "text": [
      "P3alphaRecommender: Similarity column 38121 (100.0%), 4984.23 column/sec. Elapsed time 7.65 sec\n",
      "EvaluatorHoldout: Processed 34728 (100.0%) in 8.72 sec. Users per second: 3982\n"
     ]
    },
    {
     "name": "stderr",
     "output_type": "stream",
     "text": [
      "[I 2025-01-05 22:50:01,809] Trial 71 finished with value: 0.027735449963982473 and parameters: {'topK': 13, 'alpha': 0.223586085334654}. Best is trial 32 with value: 0.02775878322418503.\n"
     ]
    },
    {
     "name": "stdout",
     "output_type": "stream",
     "text": [
      "P3alphaRecommender: Similarity column 38121 (100.0%), 5035.99 column/sec. Elapsed time 7.57 sec\n",
      "EvaluatorHoldout: Processed 34728 (100.0%) in 8.55 sec. Users per second: 4063\n"
     ]
    },
    {
     "name": "stderr",
     "output_type": "stream",
     "text": [
      "[I 2025-01-05 22:50:18,275] Trial 72 finished with value: 0.027571704639775867 and parameters: {'topK': 16, 'alpha': 0.2019172146328705}. Best is trial 32 with value: 0.02775878322418503.\n"
     ]
    },
    {
     "name": "stdout",
     "output_type": "stream",
     "text": [
      "P3alphaRecommender: Similarity column 38121 (100.0%), 5184.77 column/sec. Elapsed time 7.35 sec\n",
      "EvaluatorHoldout: Processed 34728 (100.0%) in 8.48 sec. Users per second: 4097\n"
     ]
    },
    {
     "name": "stderr",
     "output_type": "stream",
     "text": [
      "[I 2025-01-05 22:50:34,408] Trial 73 finished with value: 0.027627297674809086 and parameters: {'topK': 11, 'alpha': 0.23131169909463792}. Best is trial 32 with value: 0.02775878322418503.\n"
     ]
    },
    {
     "name": "stdout",
     "output_type": "stream",
     "text": [
      "P3alphaRecommender: Similarity column 38121 (100.0%), 4880.08 column/sec. Elapsed time 7.81 sec\n",
      "EvaluatorHoldout: Processed 34728 (100.0%) in 8.90 sec. Users per second: 3904\n"
     ]
    },
    {
     "name": "stderr",
     "output_type": "stream",
     "text": [
      "[I 2025-01-05 22:50:51,688] Trial 74 finished with value: 0.026749199218963543 and parameters: {'topK': 41, 'alpha': 0.2766155068697884}. Best is trial 32 with value: 0.02775878322418503.\n"
     ]
    },
    {
     "name": "stdout",
     "output_type": "stream",
     "text": [
      "P3alphaRecommender: Similarity column 38121 (100.0%), 5176.59 column/sec. Elapsed time 7.36 sec\n",
      "EvaluatorHoldout: Processed 34728 (100.0%) in 8.34 sec. Users per second: 4166\n"
     ]
    },
    {
     "name": "stderr",
     "output_type": "stream",
     "text": [
      "[I 2025-01-05 22:51:07,667] Trial 75 finished with value: 0.027077038380812768 and parameters: {'topK': 8, 'alpha': 0.24473606775828355}. Best is trial 32 with value: 0.02775878322418503.\n"
     ]
    },
    {
     "name": "stdout",
     "output_type": "stream",
     "text": [
      "P3alphaRecommender: Similarity column 38121 (100.0%), 5100.52 column/sec. Elapsed time 7.47 sec\n",
      "EvaluatorHoldout: Processed 34728 (100.0%) in 8.50 sec. Users per second: 4084\n"
     ]
    },
    {
     "name": "stderr",
     "output_type": "stream",
     "text": [
      "[I 2025-01-05 22:51:23,995] Trial 76 finished with value: 0.027741844328531544 and parameters: {'topK': 17, 'alpha': 0.31458691869252475}. Best is trial 32 with value: 0.02775878322418503.\n"
     ]
    },
    {
     "name": "stdout",
     "output_type": "stream",
     "text": [
      "P3alphaRecommender: Similarity column 38121 (100.0%), 5067.47 column/sec. Elapsed time 7.52 sec\n",
      "EvaluatorHoldout: Processed 34728 (100.0%) in 8.59 sec. Users per second: 4042\n"
     ]
    },
    {
     "name": "stderr",
     "output_type": "stream",
     "text": [
      "[I 2025-01-05 22:51:40,489] Trial 77 finished with value: 0.027611558579508717 and parameters: {'topK': 20, 'alpha': 0.3035714709376377}. Best is trial 32 with value: 0.02775878322418503.\n"
     ]
    },
    {
     "name": "stdout",
     "output_type": "stream",
     "text": [
      "P3alphaRecommender: Similarity column 38121 (100.0%), 5134.23 column/sec. Elapsed time 7.42 sec\n",
      "EvaluatorHoldout: Processed 34728 (100.0%) in 8.53 sec. Users per second: 4072\n"
     ]
    },
    {
     "name": "stderr",
     "output_type": "stream",
     "text": [
      "[I 2025-01-05 22:51:56,797] Trial 78 finished with value: 0.027742427088703107 and parameters: {'topK': 17, 'alpha': 0.34847312783619844}. Best is trial 32 with value: 0.02775878322418503.\n"
     ]
    },
    {
     "name": "stdout",
     "output_type": "stream",
     "text": [
      "P3alphaRecommender: Similarity column 38121 (100.0%), 5092.63 column/sec. Elapsed time 7.49 sec\n",
      "EvaluatorHoldout: Processed 34728 (100.0%) in 8.52 sec. Users per second: 4075\n"
     ]
    },
    {
     "name": "stderr",
     "output_type": "stream",
     "text": [
      "[I 2025-01-05 22:52:13,162] Trial 79 finished with value: 0.02773589103344555 and parameters: {'topK': 17, 'alpha': 0.35278361569776595}. Best is trial 32 with value: 0.02775878322418503.\n"
     ]
    },
    {
     "name": "stdout",
     "output_type": "stream",
     "text": [
      "P3alphaRecommender: Similarity column 38121 (100.0%), 5035.94 column/sec. Elapsed time 7.57 sec\n",
      "EvaluatorHoldout: Processed 34728 (100.0%) in 8.83 sec. Users per second: 3931\n"
     ]
    },
    {
     "name": "stderr",
     "output_type": "stream",
     "text": [
      "[I 2025-01-05 22:52:29,964] Trial 80 finished with value: 0.027564495553653433 and parameters: {'topK': 22, 'alpha': 0.3462475654608025}. Best is trial 32 with value: 0.02775878322418503.\n"
     ]
    },
    {
     "name": "stdout",
     "output_type": "stream",
     "text": [
      "P3alphaRecommender: Similarity column 38121 (100.0%), 4996.26 column/sec. Elapsed time 7.63 sec\n",
      "EvaluatorHoldout: Processed 34728 (100.0%) in 8.73 sec. Users per second: 3977\n"
     ]
    },
    {
     "name": "stderr",
     "output_type": "stream",
     "text": [
      "[I 2025-01-05 22:52:46,687] Trial 81 finished with value: 0.02766124631147018 and parameters: {'topK': 18, 'alpha': 0.3180930520380374}. Best is trial 32 with value: 0.02775878322418503.\n"
     ]
    },
    {
     "name": "stdout",
     "output_type": "stream",
     "text": [
      "P3alphaRecommender: Similarity column 38121 (100.0%), 4936.83 column/sec. Elapsed time 7.72 sec\n",
      "EvaluatorHoldout: Processed 34728 (100.0%) in 8.77 sec. Users per second: 3960\n"
     ]
    },
    {
     "name": "stderr",
     "output_type": "stream",
     "text": [
      "[I 2025-01-05 22:53:03,539] Trial 82 finished with value: 0.027721101494424832 and parameters: {'topK': 17, 'alpha': 0.39334573949945734}. Best is trial 32 with value: 0.02775878322418503.\n"
     ]
    },
    {
     "name": "stdout",
     "output_type": "stream",
     "text": [
      "P3alphaRecommender: Similarity column 38121 (100.0%), 4978.97 column/sec. Elapsed time 7.66 sec\n",
      "EvaluatorHoldout: Processed 34728 (100.0%) in 8.83 sec. Users per second: 3934\n"
     ]
    },
    {
     "name": "stderr",
     "output_type": "stream",
     "text": [
      "[I 2025-01-05 22:53:20,406] Trial 83 finished with value: 0.02762202769459092 and parameters: {'topK': 19, 'alpha': 0.3501094785430249}. Best is trial 32 with value: 0.02775878322418503.\n"
     ]
    },
    {
     "name": "stdout",
     "output_type": "stream",
     "text": [
      "P3alphaRecommender: Similarity column 38121 (100.0%), 5001.42 column/sec. Elapsed time 7.62 sec\n",
      "EvaluatorHoldout: Processed 34728 (100.0%) in 8.73 sec. Users per second: 3977\n"
     ]
    },
    {
     "name": "stderr",
     "output_type": "stream",
     "text": [
      "[I 2025-01-05 22:53:37,119] Trial 84 finished with value: 0.027725819566480573 and parameters: {'topK': 17, 'alpha': 0.36364608230608486}. Best is trial 32 with value: 0.02775878322418503.\n"
     ]
    },
    {
     "name": "stdout",
     "output_type": "stream",
     "text": [
      "P3alphaRecommender: Similarity column 38121 (100.0%), 4912.61 column/sec. Elapsed time 7.76 sec\n",
      "EvaluatorHoldout: Processed 34728 (100.0%) in 8.99 sec. Users per second: 3861\n"
     ]
    },
    {
     "name": "stderr",
     "output_type": "stream",
     "text": [
      "[I 2025-01-05 22:53:54,306] Trial 85 finished with value: 0.027365793760488918 and parameters: {'topK': 24, 'alpha': 0.6388139272952259}. Best is trial 32 with value: 0.02775878322418503.\n"
     ]
    },
    {
     "name": "stdout",
     "output_type": "stream",
     "text": [
      "P3alphaRecommender: Similarity column 38121 (100.0%), 4975.48 column/sec. Elapsed time 7.66 sec\n",
      "EvaluatorHoldout: Processed 34728 (100.0%) in 8.98 sec. Users per second: 3867\n"
     ]
    },
    {
     "name": "stderr",
     "output_type": "stream",
     "text": [
      "[I 2025-01-05 22:54:11,283] Trial 86 finished with value: 0.027746841211336023 and parameters: {'topK': 14, 'alpha': 0.3340257294401734}. Best is trial 32 with value: 0.02775878322418503.\n"
     ]
    },
    {
     "name": "stdout",
     "output_type": "stream",
     "text": [
      "P3alphaRecommender: Similarity column 38121 (100.0%), 4935.71 column/sec. Elapsed time 7.72 sec\n",
      "EvaluatorHoldout: Processed 34728 (100.0%) in 8.62 sec. Users per second: 4031\n"
     ]
    },
    {
     "name": "stderr",
     "output_type": "stream",
     "text": [
      "[I 2025-01-05 22:54:28,023] Trial 87 finished with value: 0.027601171736450804 and parameters: {'topK': 20, 'alpha': 0.32856491816075833}. Best is trial 32 with value: 0.02775878322418503.\n"
     ]
    },
    {
     "name": "stdout",
     "output_type": "stream",
     "text": [
      "P3alphaRecommender: Similarity column 38121 (100.0%), 4881.58 column/sec. Elapsed time 7.81 sec\n",
      "EvaluatorHoldout: Processed 34728 (100.0%) in 8.75 sec. Users per second: 3967\n"
     ]
    },
    {
     "name": "stderr",
     "output_type": "stream",
     "text": [
      "[I 2025-01-05 22:54:44,927] Trial 88 finished with value: 0.02774658296859334 and parameters: {'topK': 14, 'alpha': 0.3370754441085022}. Best is trial 32 with value: 0.02775878322418503.\n"
     ]
    },
    {
     "name": "stdout",
     "output_type": "stream",
     "text": [
      "P3alphaRecommender: Similarity column 38121 (100.0%), 5017.48 column/sec. Elapsed time 7.60 sec\n",
      "EvaluatorHoldout: Processed 34728 (100.0%) in 8.73 sec. Users per second: 3979\n"
     ]
    },
    {
     "name": "stderr",
     "output_type": "stream",
     "text": [
      "[I 2025-01-05 22:55:01,594] Trial 89 finished with value: 0.027742221408642524 and parameters: {'topK': 15, 'alpha': 0.3125483733242795}. Best is trial 32 with value: 0.02775878322418503.\n"
     ]
    },
    {
     "name": "stdout",
     "output_type": "stream",
     "text": [
      "P3alphaRecommender: Similarity column 38121 (100.0%), 5029.81 column/sec. Elapsed time 7.58 sec\n",
      "EvaluatorHoldout: Processed 34728 (100.0%) in 8.70 sec. Users per second: 3994\n"
     ]
    },
    {
     "name": "stderr",
     "output_type": "stream",
     "text": [
      "[I 2025-01-05 22:55:18,208] Trial 90 finished with value: 0.0277517512514482 and parameters: {'topK': 15, 'alpha': 0.2908288558631448}. Best is trial 32 with value: 0.02775878322418503.\n"
     ]
    },
    {
     "name": "stdout",
     "output_type": "stream",
     "text": [
      "P3alphaRecommender: Similarity column 38121 (100.0%), 5030.60 column/sec. Elapsed time 7.58 sec\n",
      "EvaluatorHoldout: Processed 34728 (100.0%) in 8.77 sec. Users per second: 3959\n"
     ]
    },
    {
     "name": "stderr",
     "output_type": "stream",
     "text": [
      "[I 2025-01-05 22:55:34,896] Trial 91 finished with value: 0.027746013920425694 and parameters: {'topK': 15, 'alpha': 0.3137180247148605}. Best is trial 32 with value: 0.02775878322418503.\n"
     ]
    },
    {
     "name": "stdout",
     "output_type": "stream",
     "text": [
      "P3alphaRecommender: Similarity column 38121 (100.0%), 5014.46 column/sec. Elapsed time 7.60 sec\n",
      "EvaluatorHoldout: Processed 34728 (100.0%) in 8.71 sec. Users per second: 3986\n"
     ]
    },
    {
     "name": "stderr",
     "output_type": "stream",
     "text": [
      "[I 2025-01-05 22:55:51,553] Trial 92 finished with value: 0.027769142643234872 and parameters: {'topK': 15, 'alpha': 0.29435153066118286}. Best is trial 92 with value: 0.027769142643234872.\n"
     ]
    },
    {
     "name": "stdout",
     "output_type": "stream",
     "text": [
      "P3alphaRecommender: Similarity column 38121 (100.0%), 5038.30 column/sec. Elapsed time 7.57 sec\n",
      "EvaluatorHoldout: Processed 34728 (100.0%) in 8.57 sec. Users per second: 4051\n"
     ]
    },
    {
     "name": "stderr",
     "output_type": "stream",
     "text": [
      "[I 2025-01-05 22:56:08,030] Trial 93 finished with value: 0.027751499864707523 and parameters: {'topK': 15, 'alpha': 0.2907523993226192}. Best is trial 92 with value: 0.027769142643234872.\n"
     ]
    },
    {
     "name": "stdout",
     "output_type": "stream",
     "text": [
      "P3alphaRecommender: Similarity column 38121 (100.0%), 5053.68 column/sec. Elapsed time 7.54 sec\n",
      "EvaluatorHoldout: Processed 34728 (100.0%) in 8.74 sec. Users per second: 3974\n"
     ]
    },
    {
     "name": "stderr",
     "output_type": "stream",
     "text": [
      "[I 2025-01-05 22:56:24,646] Trial 94 finished with value: 0.027786402628316168 and parameters: {'topK': 14, 'alpha': 0.2907884821339318}. Best is trial 94 with value: 0.027786402628316168.\n"
     ]
    },
    {
     "name": "stdout",
     "output_type": "stream",
     "text": [
      "P3alphaRecommender: Similarity column 38121 (100.0%), 4957.66 column/sec. Elapsed time 7.69 sec\n",
      "EvaluatorHoldout: Processed 34728 (100.0%) in 8.82 sec. Users per second: 3935\n"
     ]
    },
    {
     "name": "stderr",
     "output_type": "stream",
     "text": [
      "[I 2025-01-05 22:56:41,477] Trial 95 finished with value: 0.027668833620370564 and parameters: {'topK': 12, 'alpha': 0.291478415076463}. Best is trial 94 with value: 0.027786402628316168.\n"
     ]
    },
    {
     "name": "stdout",
     "output_type": "stream",
     "text": [
      "P3alphaRecommender: Similarity column 38121 (100.0%), 5178.28 column/sec. Elapsed time 7.36 sec\n",
      "EvaluatorHoldout: Processed 34728 (100.0%) in 8.52 sec. Users per second: 4077\n"
     ]
    },
    {
     "name": "stderr",
     "output_type": "stream",
     "text": [
      "[I 2025-01-05 22:56:57,643] Trial 96 finished with value: 0.02736764602370085 and parameters: {'topK': 9, 'alpha': 0.2812560959135515}. Best is trial 94 with value: 0.027786402628316168.\n"
     ]
    },
    {
     "name": "stdout",
     "output_type": "stream",
     "text": [
      "P3alphaRecommender: Similarity column 38121 (100.0%), 4904.17 column/sec. Elapsed time 7.77 sec\n",
      "EvaluatorHoldout: Processed 34728 (100.0%) in 8.39 sec. Users per second: 4141\n"
     ]
    },
    {
     "name": "stderr",
     "output_type": "stream",
     "text": [
      "[I 2025-01-05 22:57:14,138] Trial 97 finished with value: 0.02773163802686019 and parameters: {'topK': 14, 'alpha': 0.25954740276655386}. Best is trial 94 with value: 0.027786402628316168.\n"
     ]
    },
    {
     "name": "stdout",
     "output_type": "stream",
     "text": [
      "P3alphaRecommender: Similarity column 38121 (100.0%), 4975.01 column/sec. Elapsed time 7.66 sec\n",
      "EvaluatorHoldout: Processed 34728 (100.0%) in 8.62 sec. Users per second: 4031\n"
     ]
    },
    {
     "name": "stderr",
     "output_type": "stream",
     "text": [
      "[I 2025-01-05 22:57:30,757] Trial 98 finished with value: 0.027740145182697993 and parameters: {'topK': 15, 'alpha': 0.33400125991188323}. Best is trial 94 with value: 0.027786402628316168.\n"
     ]
    },
    {
     "name": "stdout",
     "output_type": "stream",
     "text": [
      "P3alphaRecommender: Similarity column 38121 (100.0%), 5139.07 column/sec. Elapsed time 7.42 sec\n",
      "EvaluatorHoldout: Processed 34728 (100.0%) in 8.47 sec. Users per second: 4100\n"
     ]
    },
    {
     "name": "stderr",
     "output_type": "stream",
     "text": [
      "[I 2025-01-05 22:57:46,951] Trial 99 finished with value: 0.0274923498444137 and parameters: {'topK': 10, 'alpha': 0.2944065036598079}. Best is trial 94 with value: 0.027786402628316168.\n"
     ]
    },
    {
     "name": "stdout",
     "output_type": "stream",
     "text": [
      "P3alphaRecommender: Similarity column 38121 (100.0%), 5092.21 column/sec. Elapsed time 7.49 sec\n",
      "EvaluatorHoldout: Processed 34728 (100.0%) in 8.55 sec. Users per second: 4063\n"
     ]
    },
    {
     "name": "stderr",
     "output_type": "stream",
     "text": [
      "[I 2025-01-05 22:58:03,289] Trial 100 finished with value: 0.027593469018183162 and parameters: {'topK': 11, 'alpha': 0.26663808601592764}. Best is trial 94 with value: 0.027786402628316168.\n"
     ]
    },
    {
     "name": "stdout",
     "output_type": "stream",
     "text": [
      "P3alphaRecommender: Similarity column 38121 (100.0%), 5009.06 column/sec. Elapsed time 7.61 sec\n",
      "EvaluatorHoldout: Processed 34728 (100.0%) in 8.62 sec. Users per second: 4031\n"
     ]
    },
    {
     "name": "stderr",
     "output_type": "stream",
     "text": [
      "[I 2025-01-05 22:58:19,854] Trial 101 finished with value: 0.027750189225654948 and parameters: {'topK': 15, 'alpha': 0.31065633330546705}. Best is trial 94 with value: 0.027786402628316168.\n"
     ]
    },
    {
     "name": "stdout",
     "output_type": "stream",
     "text": [
      "P3alphaRecommender: Similarity column 38121 (100.0%), 5085.87 column/sec. Elapsed time 7.50 sec\n",
      "EvaluatorHoldout: Processed 34728 (100.0%) in 8.82 sec. Users per second: 3938\n"
     ]
    },
    {
     "name": "stderr",
     "output_type": "stream",
     "text": [
      "[I 2025-01-05 22:58:36,493] Trial 102 finished with value: 0.02776890496849817 and parameters: {'topK': 14, 'alpha': 0.28240191208196297}. Best is trial 94 with value: 0.027786402628316168.\n"
     ]
    },
    {
     "name": "stdout",
     "output_type": "stream",
     "text": [
      "P3alphaRecommender: Similarity column 38121 (100.0%), 5053.05 column/sec. Elapsed time 7.54 sec\n",
      "EvaluatorHoldout: Processed 34728 (100.0%) in 8.90 sec. Users per second: 3904\n"
     ]
    },
    {
     "name": "stderr",
     "output_type": "stream",
     "text": [
      "[I 2025-01-05 22:58:53,268] Trial 103 finished with value: 0.027775522153112932 and parameters: {'topK': 14, 'alpha': 0.2855525169215008}. Best is trial 94 with value: 0.027786402628316168.\n"
     ]
    },
    {
     "name": "stdout",
     "output_type": "stream",
     "text": [
      "P3alphaRecommender: Similarity column 38121 (100.0%), 5070.13 column/sec. Elapsed time 7.52 sec\n",
      "EvaluatorHoldout: Processed 34728 (100.0%) in 8.82 sec. Users per second: 3940\n"
     ]
    },
    {
     "name": "stderr",
     "output_type": "stream",
     "text": [
      "[I 2025-01-05 22:59:09,937] Trial 104 finished with value: 0.027522411127930402 and parameters: {'topK': 14, 'alpha': 0.5520889989401909}. Best is trial 94 with value: 0.027786402628316168.\n"
     ]
    },
    {
     "name": "stdout",
     "output_type": "stream",
     "text": [
      "P3alphaRecommender: Similarity column 38121 (100.0%), 5136.57 column/sec. Elapsed time 7.42 sec\n",
      "EvaluatorHoldout: Processed 34728 (100.0%) in 8.39 sec. Users per second: 4141\n"
     ]
    },
    {
     "name": "stderr",
     "output_type": "stream",
     "text": [
      "[I 2025-01-05 22:59:26,062] Trial 105 finished with value: 0.027657451514353025 and parameters: {'topK': 12, 'alpha': 0.27743581954777835}. Best is trial 94 with value: 0.027786402628316168.\n"
     ]
    },
    {
     "name": "stdout",
     "output_type": "stream",
     "text": [
      "P3alphaRecommender: Similarity column 38121 (100.0%), 5156.83 column/sec. Elapsed time 7.39 sec\n",
      "EvaluatorHoldout: Processed 34728 (100.0%) in 8.37 sec. Users per second: 4151\n"
     ]
    },
    {
     "name": "stderr",
     "output_type": "stream",
     "text": [
      "[I 2025-01-05 22:59:42,138] Trial 106 finished with value: 0.027703625545279997 and parameters: {'topK': 13, 'alpha': 0.2977329487922416}. Best is trial 94 with value: 0.027786402628316168.\n"
     ]
    },
    {
     "name": "stdout",
     "output_type": "stream",
     "text": [
      "P3alphaRecommender: Similarity column 38121 (100.0%), 5195.36 column/sec. Elapsed time 7.34 sec\n",
      "EvaluatorHoldout: Processed 34728 (100.0%) in 8.46 sec. Users per second: 4106\n"
     ]
    },
    {
     "name": "stderr",
     "output_type": "stream",
     "text": [
      "[I 2025-01-05 22:59:58,219] Trial 107 finished with value: 0.02742334189876435 and parameters: {'topK': 9, 'alpha': 0.2548466140814967}. Best is trial 94 with value: 0.027786402628316168.\n"
     ]
    },
    {
     "name": "stdout",
     "output_type": "stream",
     "text": [
      "P3alphaRecommender: Similarity column 38121 (100.0%), 5010.88 column/sec. Elapsed time 7.61 sec\n",
      "EvaluatorHoldout: Processed 34728 (100.0%) in 8.45 sec. Users per second: 4108\n"
     ]
    },
    {
     "name": "stderr",
     "output_type": "stream",
     "text": [
      "[I 2025-01-05 23:00:14,612] Trial 108 finished with value: 0.02777151939060119 and parameters: {'topK': 14, 'alpha': 0.2818434390428794}. Best is trial 94 with value: 0.027786402628316168.\n"
     ]
    },
    {
     "name": "stdout",
     "output_type": "stream",
     "text": [
      "P3alphaRecommender: Similarity column 38121 (100.0%), 5087.30 column/sec. Elapsed time 7.49 sec\n",
      "EvaluatorHoldout: Processed 34728 (100.0%) in 8.88 sec. Users per second: 3912\n"
     ]
    },
    {
     "name": "stderr",
     "output_type": "stream",
     "text": [
      "[I 2025-01-05 23:00:31,295] Trial 109 finished with value: 0.027578167564345096 and parameters: {'topK': 11, 'alpha': 0.27034965840474073}. Best is trial 94 with value: 0.027786402628316168.\n"
     ]
    },
    {
     "name": "stdout",
     "output_type": "stream",
     "text": [
      "P3alphaRecommender: Similarity column 38121 (100.0%), 4985.73 column/sec. Elapsed time 7.65 sec\n",
      "EvaluatorHoldout: Processed 34728 (100.0%) in 8.56 sec. Users per second: 4058\n"
     ]
    },
    {
     "name": "stderr",
     "output_type": "stream",
     "text": [
      "[I 2025-01-05 23:00:47,831] Trial 110 finished with value: 0.027782030784362415 and parameters: {'topK': 14, 'alpha': 0.2867109788765882}. Best is trial 94 with value: 0.027786402628316168.\n"
     ]
    },
    {
     "name": "stdout",
     "output_type": "stream",
     "text": [
      "P3alphaRecommender: Similarity column 38121 (100.0%), 5128.69 column/sec. Elapsed time 7.43 sec\n",
      "EvaluatorHoldout: Processed 34728 (100.0%) in 8.62 sec. Users per second: 4028\n"
     ]
    },
    {
     "name": "stderr",
     "output_type": "stream",
     "text": [
      "[I 2025-01-05 23:01:04,218] Trial 111 finished with value: 0.02778813148349179 and parameters: {'topK': 14, 'alpha': 0.287009357096929}. Best is trial 111 with value: 0.02778813148349179.\n"
     ]
    },
    {
     "name": "stdout",
     "output_type": "stream",
     "text": [
      "P3alphaRecommender: Similarity column 38121 (100.0%), 5073.09 column/sec. Elapsed time 7.51 sec\n",
      "EvaluatorHoldout: Processed 34728 (100.0%) in 8.67 sec. Users per second: 4005\n"
     ]
    },
    {
     "name": "stderr",
     "output_type": "stream",
     "text": [
      "[I 2025-01-05 23:01:20,728] Trial 112 finished with value: 0.027723472528456253 and parameters: {'topK': 13, 'alpha': 0.28286697935368027}. Best is trial 111 with value: 0.02778813148349179.\n"
     ]
    },
    {
     "name": "stdout",
     "output_type": "stream",
     "text": [
      "P3alphaRecommender: Similarity column 38121 (100.0%), 5073.82 column/sec. Elapsed time 7.51 sec\n",
      "EvaluatorHoldout: Processed 34728 (100.0%) in 8.63 sec. Users per second: 4026\n"
     ]
    },
    {
     "name": "stderr",
     "output_type": "stream",
     "text": [
      "[I 2025-01-05 23:01:37,213] Trial 113 finished with value: 0.02770319018915176 and parameters: {'topK': 16, 'alpha': 0.2879383818115705}. Best is trial 111 with value: 0.02778813148349179.\n"
     ]
    },
    {
     "name": "stdout",
     "output_type": "stream",
     "text": [
      "P3alphaRecommender: Similarity column 38121 (100.0%), 5067.93 column/sec. Elapsed time 7.52 sec\n",
      "EvaluatorHoldout: Processed 34728 (100.0%) in 8.62 sec. Users per second: 4029\n"
     ]
    },
    {
     "name": "stderr",
     "output_type": "stream",
     "text": [
      "[I 2025-01-05 23:01:53,695] Trial 114 finished with value: 0.02773798897006324 and parameters: {'topK': 15, 'alpha': 0.2683456091086671}. Best is trial 111 with value: 0.02778813148349179.\n"
     ]
    },
    {
     "name": "stdout",
     "output_type": "stream",
     "text": [
      "P3alphaRecommender: Similarity column 38121 (100.0%), 5081.79 column/sec. Elapsed time 7.50 sec\n",
      "EvaluatorHoldout: Processed 34728 (100.0%) in 8.52 sec. Users per second: 4078\n"
     ]
    },
    {
     "name": "stderr",
     "output_type": "stream",
     "text": [
      "[I 2025-01-05 23:02:10,029] Trial 115 finished with value: 0.027685516558615345 and parameters: {'topK': 12, 'alpha': 0.29803719775282217}. Best is trial 111 with value: 0.02778813148349179.\n"
     ]
    },
    {
     "name": "stdout",
     "output_type": "stream",
     "text": [
      "P3alphaRecommender: Similarity column 38121 (100.0%), 5123.64 column/sec. Elapsed time 7.44 sec\n",
      "EvaluatorHoldout: Processed 34728 (100.0%) in 8.82 sec. Users per second: 3938\n"
     ]
    },
    {
     "name": "stderr",
     "output_type": "stream",
     "text": [
      "[I 2025-01-05 23:02:26,616] Trial 116 finished with value: 0.02774417194121685 and parameters: {'topK': 14, 'alpha': 0.25622312694825766}. Best is trial 111 with value: 0.02778813148349179.\n"
     ]
    },
    {
     "name": "stdout",
     "output_type": "stream",
     "text": [
      "P3alphaRecommender: Similarity column 38121 (100.0%), 5008.11 column/sec. Elapsed time 7.61 sec\n",
      "EvaluatorHoldout: Processed 34728 (100.0%) in 8.36 sec. Users per second: 4153\n"
     ]
    },
    {
     "name": "stderr",
     "output_type": "stream",
     "text": [
      "[I 2025-01-05 23:02:42,856] Trial 117 finished with value: 0.026282512304237716 and parameters: {'topK': 6, 'alpha': 0.2802234012179175}. Best is trial 111 with value: 0.02778813148349179.\n"
     ]
    },
    {
     "name": "stdout",
     "output_type": "stream",
     "text": [
      "P3alphaRecommender: Similarity column 38121 (100.0%), 5140.80 column/sec. Elapsed time 7.42 sec\n",
      "EvaluatorHoldout: Processed 34728 (100.0%) in 8.52 sec. Users per second: 4074\n"
     ]
    },
    {
     "name": "stderr",
     "output_type": "stream",
     "text": [
      "[I 2025-01-05 23:02:59,103] Trial 118 finished with value: 0.027657677762419685 and parameters: {'topK': 11, 'alpha': 0.24447216824348106}. Best is trial 111 with value: 0.02778813148349179.\n"
     ]
    },
    {
     "name": "stdout",
     "output_type": "stream",
     "text": [
      "P3alphaRecommender: Similarity column 38121 (100.0%), 5056.72 column/sec. Elapsed time 7.54 sec\n",
      "EvaluatorHoldout: Processed 34728 (100.0%) in 8.44 sec. Users per second: 4116\n"
     ]
    },
    {
     "name": "stderr",
     "output_type": "stream",
     "text": [
      "[I 2025-01-05 23:03:15,420] Trial 119 finished with value: 0.02775839700273798 and parameters: {'topK': 15, 'alpha': 0.30548624725296286}. Best is trial 111 with value: 0.02778813148349179.\n"
     ]
    },
    {
     "name": "stdout",
     "output_type": "stream",
     "text": [
      "P3alphaRecommender: Similarity column 38121 (100.0%), 4968.00 column/sec. Elapsed time 7.67 sec\n",
      "EvaluatorHoldout: Processed 34728 (100.0%) in 8.78 sec. Users per second: 3954\n"
     ]
    },
    {
     "name": "stderr",
     "output_type": "stream",
     "text": [
      "[I 2025-01-05 23:03:32,245] Trial 120 finished with value: 0.027699961012201055 and parameters: {'topK': 18, 'alpha': 0.30206192893593786}. Best is trial 111 with value: 0.02778813148349179.\n"
     ]
    },
    {
     "name": "stdout",
     "output_type": "stream",
     "text": [
      "P3alphaRecommender: Similarity column 38121 (100.0%), 5093.14 column/sec. Elapsed time 7.48 sec\n",
      "EvaluatorHoldout: Processed 34728 (100.0%) in 8.68 sec. Users per second: 4001\n"
     ]
    },
    {
     "name": "stderr",
     "output_type": "stream",
     "text": [
      "[I 2025-01-05 23:03:48,746] Trial 121 finished with value: 0.027721695681266475 and parameters: {'topK': 15, 'alpha': 0.3267663015171726}. Best is trial 111 with value: 0.02778813148349179.\n"
     ]
    },
    {
     "name": "stdout",
     "output_type": "stream",
     "text": [
      "P3alphaRecommender: Similarity column 38121 (100.0%), 5110.57 column/sec. Elapsed time 7.46 sec\n",
      "EvaluatorHoldout: Processed 34728 (100.0%) in 8.43 sec. Users per second: 4119\n"
     ]
    },
    {
     "name": "stderr",
     "output_type": "stream",
     "text": [
      "[I 2025-01-05 23:04:04,960] Trial 122 finished with value: 0.027726293773286864 and parameters: {'topK': 13, 'alpha': 0.2897946372846228}. Best is trial 111 with value: 0.02778813148349179.\n"
     ]
    },
    {
     "name": "stdout",
     "output_type": "stream",
     "text": [
      "P3alphaRecommender: Similarity column 38121 (100.0%), 5102.30 column/sec. Elapsed time 7.47 sec\n",
      "EvaluatorHoldout: Processed 34728 (100.0%) in 8.90 sec. Users per second: 3901\n"
     ]
    },
    {
     "name": "stderr",
     "output_type": "stream",
     "text": [
      "[I 2025-01-05 23:04:21,685] Trial 123 finished with value: 0.027666623702386692 and parameters: {'topK': 16, 'alpha': 0.2498758769421413}. Best is trial 111 with value: 0.02778813148349179.\n"
     ]
    },
    {
     "name": "stdout",
     "output_type": "stream",
     "text": [
      "P3alphaRecommender: Similarity column 38121 (100.0%), 5034.88 column/sec. Elapsed time 7.57 sec\n",
      "EvaluatorHoldout: Processed 34728 (100.0%) in 8.86 sec. Users per second: 3920\n"
     ]
    },
    {
     "name": "stderr",
     "output_type": "stream",
     "text": [
      "[I 2025-01-05 23:04:38,451] Trial 124 finished with value: 0.027814196860498817 and parameters: {'topK': 14, 'alpha': 0.30489731750244276}. Best is trial 124 with value: 0.027814196860498817.\n"
     ]
    },
    {
     "name": "stdout",
     "output_type": "stream",
     "text": [
      "P3alphaRecommender: Similarity column 38121 (100.0%), 4953.23 column/sec. Elapsed time 7.70 sec\n",
      "EvaluatorHoldout: Processed 34728 (100.0%) in 8.74 sec. Users per second: 3971\n"
     ]
    },
    {
     "name": "stderr",
     "output_type": "stream",
     "text": [
      "[I 2025-01-05 23:04:55,240] Trial 125 finished with value: 0.027731654024198225 and parameters: {'topK': 16, 'alpha': 0.30630632144659253}. Best is trial 124 with value: 0.027814196860498817.\n"
     ]
    },
    {
     "name": "stdout",
     "output_type": "stream",
     "text": [
      "P3alphaRecommender: Similarity column 38121 (100.0%), 5016.56 column/sec. Elapsed time 7.60 sec\n",
      "EvaluatorHoldout: Processed 34728 (100.0%) in 8.85 sec. Users per second: 3926\n"
     ]
    },
    {
     "name": "stderr",
     "output_type": "stream",
     "text": [
      "[I 2025-01-05 23:05:12,003] Trial 126 finished with value: 0.027668930747065824 and parameters: {'topK': 12, 'alpha': 0.2723494721692655}. Best is trial 124 with value: 0.027814196860498817.\n"
     ]
    },
    {
     "name": "stdout",
     "output_type": "stream",
     "text": [
      "P3alphaRecommender: Similarity column 38121 (100.0%), 4916.53 column/sec. Elapsed time 7.75 sec\n",
      "EvaluatorHoldout: Processed 34728 (100.0%) in 8.94 sec. Users per second: 3883\n"
     ]
    },
    {
     "name": "stderr",
     "output_type": "stream",
     "text": [
      "[I 2025-01-05 23:05:29,029] Trial 127 finished with value: 0.027719400063257342 and parameters: {'topK': 13, 'alpha': 0.28613336079003354}. Best is trial 124 with value: 0.027814196860498817.\n"
     ]
    },
    {
     "name": "stdout",
     "output_type": "stream",
     "text": [
      "P3alphaRecommender: Similarity column 38121 (100.0%), 4945.01 column/sec. Elapsed time 7.71 sec\n",
      "EvaluatorHoldout: Processed 34728 (100.0%) in 8.74 sec. Users per second: 3972\n"
     ]
    },
    {
     "name": "stderr",
     "output_type": "stream",
     "text": [
      "[I 2025-01-05 23:05:45,870] Trial 128 finished with value: 0.0276611000500937 and parameters: {'topK': 19, 'alpha': 0.2637252825671027}. Best is trial 124 with value: 0.027814196860498817.\n"
     ]
    },
    {
     "name": "stdout",
     "output_type": "stream",
     "text": [
      "P3alphaRecommender: Similarity column 38121 (100.0%), 4753.91 column/sec. Elapsed time 8.02 sec\n",
      "EvaluatorHoldout: Processed 34728 (100.0%) in 8.83 sec. Users per second: 3932\n"
     ]
    },
    {
     "name": "stderr",
     "output_type": "stream",
     "text": [
      "[I 2025-01-05 23:06:03,238] Trial 129 finished with value: 0.02705597559994514 and parameters: {'topK': 33, 'alpha': 0.29730096105061626}. Best is trial 124 with value: 0.027814196860498817.\n"
     ]
    },
    {
     "name": "stdout",
     "output_type": "stream",
     "text": [
      "P3alphaRecommender: Similarity column 38121 (100.0%), 5009.99 column/sec. Elapsed time 7.61 sec\n",
      "EvaluatorHoldout: Processed 34728 (100.0%) in 8.58 sec. Users per second: 4047\n"
     ]
    },
    {
     "name": "stderr",
     "output_type": "stream",
     "text": [
      "[I 2025-01-05 23:06:19,766] Trial 130 finished with value: 0.0277832740060618 and parameters: {'topK': 14, 'alpha': 0.32059487016491234}. Best is trial 124 with value: 0.027814196860498817.\n"
     ]
    },
    {
     "name": "stdout",
     "output_type": "stream",
     "text": [
      "P3alphaRecommender: Similarity column 38121 (100.0%), 5036.04 column/sec. Elapsed time 7.57 sec\n",
      "EvaluatorHoldout: Processed 34728 (100.0%) in 8.73 sec. Users per second: 3980\n"
     ]
    },
    {
     "name": "stderr",
     "output_type": "stream",
     "text": [
      "[I 2025-01-05 23:06:36,394] Trial 131 finished with value: 0.027775792965192708 and parameters: {'topK': 14, 'alpha': 0.32195818766688467}. Best is trial 124 with value: 0.027814196860498817.\n"
     ]
    },
    {
     "name": "stdout",
     "output_type": "stream",
     "text": [
      "P3alphaRecommender: Similarity column 38121 (100.0%), 5063.81 column/sec. Elapsed time 7.53 sec\n",
      "EvaluatorHoldout: Processed 34728 (100.0%) in 8.60 sec. Users per second: 4036\n"
     ]
    },
    {
     "name": "stderr",
     "output_type": "stream",
     "text": [
      "[I 2025-01-05 23:06:52,829] Trial 132 finished with value: 0.02746195947280014 and parameters: {'topK': 10, 'alpha': 0.32329287875581014}. Best is trial 124 with value: 0.027814196860498817.\n"
     ]
    },
    {
     "name": "stdout",
     "output_type": "stream",
     "text": [
      "P3alphaRecommender: Similarity column 38121 (100.0%), 5038.07 column/sec. Elapsed time 7.57 sec\n",
      "EvaluatorHoldout: Processed 34728 (100.0%) in 8.67 sec. Users per second: 4007\n"
     ]
    },
    {
     "name": "stderr",
     "output_type": "stream",
     "text": [
      "[I 2025-01-05 23:07:09,392] Trial 133 finished with value: 0.027755442065868077 and parameters: {'topK': 14, 'alpha': 0.31673995655050813}. Best is trial 124 with value: 0.027814196860498817.\n"
     ]
    },
    {
     "name": "stdout",
     "output_type": "stream",
     "text": [
      "P3alphaRecommender: Similarity column 38121 (100.0%), 5055.11 column/sec. Elapsed time 7.54 sec\n",
      "EvaluatorHoldout: Processed 34728 (100.0%) in 8.74 sec. Users per second: 3973\n"
     ]
    },
    {
     "name": "stderr",
     "output_type": "stream",
     "text": [
      "[I 2025-01-05 23:07:26,008] Trial 134 finished with value: 0.027762984810755332 and parameters: {'topK': 14, 'alpha': 0.31786009307726737}. Best is trial 124 with value: 0.027814196860498817.\n"
     ]
    },
    {
     "name": "stdout",
     "output_type": "stream",
     "text": [
      "P3alphaRecommender: Similarity column 38121 (100.0%), 5029.37 column/sec. Elapsed time 7.58 sec\n",
      "EvaluatorHoldout: Processed 34728 (100.0%) in 8.49 sec. Users per second: 4092\n"
     ]
    },
    {
     "name": "stderr",
     "output_type": "stream",
     "text": [
      "[I 2025-01-05 23:07:42,393] Trial 135 finished with value: 0.0276313484293349 and parameters: {'topK': 12, 'alpha': 0.31728498567993985}. Best is trial 124 with value: 0.027814196860498817.\n"
     ]
    },
    {
     "name": "stdout",
     "output_type": "stream",
     "text": [
      "P3alphaRecommender: Similarity column 38121 (100.0%), 4944.96 column/sec. Elapsed time 7.71 sec\n",
      "EvaluatorHoldout: Processed 34728 (100.0%) in 8.59 sec. Users per second: 4044\n"
     ]
    },
    {
     "name": "stderr",
     "output_type": "stream",
     "text": [
      "[I 2025-01-05 23:07:59,014] Trial 136 finished with value: 0.027714084376359093 and parameters: {'topK': 13, 'alpha': 0.30592585066632866}. Best is trial 124 with value: 0.027814196860498817.\n"
     ]
    },
    {
     "name": "stdout",
     "output_type": "stream",
     "text": [
      "P3alphaRecommender: Similarity column 38121 (100.0%), 5055.76 column/sec. Elapsed time 7.54 sec\n",
      "EvaluatorHoldout: Processed 34728 (100.0%) in 8.84 sec. Users per second: 3930\n"
     ]
    },
    {
     "name": "stderr",
     "output_type": "stream",
     "text": [
      "[I 2025-01-05 23:08:15,728] Trial 137 finished with value: 0.027767062989289274 and parameters: {'topK': 14, 'alpha': 0.32499872292074095}. Best is trial 124 with value: 0.027814196860498817.\n"
     ]
    },
    {
     "name": "stdout",
     "output_type": "stream",
     "text": [
      "P3alphaRecommender: Similarity column 38121 (100.0%), 4990.69 column/sec. Elapsed time 7.64 sec\n",
      "EvaluatorHoldout: Processed 34728 (100.0%) in 8.87 sec. Users per second: 3913\n"
     ]
    },
    {
     "name": "stderr",
     "output_type": "stream",
     "text": [
      "[I 2025-01-05 23:08:32,617] Trial 138 finished with value: 0.027632767621752673 and parameters: {'topK': 18, 'alpha': 0.377815793936556}. Best is trial 124 with value: 0.027814196860498817.\n"
     ]
    },
    {
     "name": "stdout",
     "output_type": "stream",
     "text": [
      "P3alphaRecommender: Similarity column 38121 (100.0%), 5071.88 column/sec. Elapsed time 7.52 sec\n",
      "EvaluatorHoldout: Processed 34728 (100.0%) in 8.56 sec. Users per second: 4056\n"
     ]
    },
    {
     "name": "stderr",
     "output_type": "stream",
     "text": [
      "[I 2025-01-05 23:08:48,991] Trial 139 finished with value: 0.027362881102298047 and parameters: {'topK': 9, 'alpha': 0.34034634347120046}. Best is trial 124 with value: 0.027814196860498817.\n"
     ]
    },
    {
     "name": "stdout",
     "output_type": "stream",
     "text": [
      "P3alphaRecommender: Similarity column 38121 (100.0%), 4996.16 column/sec. Elapsed time 7.63 sec\n",
      "EvaluatorHoldout: Processed 34728 (100.0%) in 8.79 sec. Users per second: 3950\n"
     ]
    },
    {
     "name": "stderr",
     "output_type": "stream",
     "text": [
      "[I 2025-01-05 23:09:05,719] Trial 140 finished with value: 0.027477980806850152 and parameters: {'topK': 10, 'alpha': 0.32531158635596813}. Best is trial 124 with value: 0.027814196860498817.\n"
     ]
    },
    {
     "name": "stdout",
     "output_type": "stream",
     "text": [
      "P3alphaRecommender: Similarity column 38121 (100.0%), 4806.86 column/sec. Elapsed time 7.93 sec\n",
      "EvaluatorHoldout: Processed 34728 (100.0%) in 8.95 sec. Users per second: 3880\n"
     ]
    },
    {
     "name": "stderr",
     "output_type": "stream",
     "text": [
      "[I 2025-01-05 23:09:22,934] Trial 141 finished with value: 0.027762825980041907 and parameters: {'topK': 14, 'alpha': 0.31746361629751757}. Best is trial 124 with value: 0.027814196860498817.\n"
     ]
    },
    {
     "name": "stdout",
     "output_type": "stream",
     "text": [
      "P3alphaRecommender: Similarity column 38121 (100.0%), 5151.05 column/sec. Elapsed time 7.40 sec\n",
      "EvaluatorHoldout: Processed 34728 (100.0%) in 8.76 sec. Users per second: 3966\n"
     ]
    },
    {
     "name": "stderr",
     "output_type": "stream",
     "text": [
      "[I 2025-01-05 23:09:39,426] Trial 142 finished with value: 0.027802078876931265 and parameters: {'topK': 14, 'alpha': 0.3008972668331685}. Best is trial 124 with value: 0.027814196860498817.\n"
     ]
    },
    {
     "name": "stdout",
     "output_type": "stream",
     "text": [
      "P3alphaRecommender: Similarity column 38121 (100.0%), 5051.30 column/sec. Elapsed time 7.55 sec\n",
      "EvaluatorHoldout: Processed 34728 (100.0%) in 8.85 sec. Users per second: 3923\n"
     ]
    },
    {
     "name": "stderr",
     "output_type": "stream",
     "text": [
      "[I 2025-01-05 23:09:56,148] Trial 143 finished with value: 0.027727470720299952 and parameters: {'topK': 13, 'alpha': 0.2773156791692464}. Best is trial 124 with value: 0.027814196860498817.\n"
     ]
    },
    {
     "name": "stdout",
     "output_type": "stream",
     "text": [
      "P3alphaRecommender: Similarity column 38121 (100.0%), 4901.74 column/sec. Elapsed time 7.78 sec\n",
      "EvaluatorHoldout: Processed 34728 (100.0%) in 8.62 sec. Users per second: 4027\n"
     ]
    },
    {
     "name": "stderr",
     "output_type": "stream",
     "text": [
      "[I 2025-01-05 23:10:12,885] Trial 144 finished with value: 0.02762772731760218 and parameters: {'topK': 14, 'alpha': 0.5058962122415374}. Best is trial 124 with value: 0.027814196860498817.\n"
     ]
    },
    {
     "name": "stdout",
     "output_type": "stream",
     "text": [
      "P3alphaRecommender: Similarity column 38121 (100.0%), 5188.66 column/sec. Elapsed time 7.35 sec\n",
      "EvaluatorHoldout: Processed 34728 (100.0%) in 8.58 sec. Users per second: 4045\n"
     ]
    },
    {
     "name": "stderr",
     "output_type": "stream",
     "text": [
      "[I 2025-01-05 23:10:29,127] Trial 145 finished with value: 0.027585241815761056 and parameters: {'topK': 11, 'alpha': 0.3305788458925826}. Best is trial 124 with value: 0.027814196860498817.\n"
     ]
    },
    {
     "name": "stdout",
     "output_type": "stream",
     "text": [
      "P3alphaRecommender: Similarity column 38121 (100.0%), 5036.20 column/sec. Elapsed time 7.57 sec\n",
      "EvaluatorHoldout: Processed 34728 (100.0%) in 8.92 sec. Users per second: 3891\n"
     ]
    },
    {
     "name": "stderr",
     "output_type": "stream",
     "text": [
      "[I 2025-01-05 23:10:45,979] Trial 146 finished with value: 0.027714921951272294 and parameters: {'topK': 16, 'alpha': 0.2986582920775011}. Best is trial 124 with value: 0.027814196860498817.\n"
     ]
    },
    {
     "name": "stdout",
     "output_type": "stream",
     "text": [
      "P3alphaRecommender: Similarity column 38121 (100.0%), 5005.48 column/sec. Elapsed time 7.62 sec\n",
      "EvaluatorHoldout: Processed 34728 (100.0%) in 8.49 sec. Users per second: 4090\n"
     ]
    },
    {
     "name": "stderr",
     "output_type": "stream",
     "text": [
      "[I 2025-01-05 23:11:02,398] Trial 147 finished with value: 0.027638959734242324 and parameters: {'topK': 12, 'alpha': 0.3153881177034413}. Best is trial 124 with value: 0.027814196860498817.\n"
     ]
    },
    {
     "name": "stdout",
     "output_type": "stream",
     "text": [
      "P3alphaRecommender: Similarity column 38121 (100.0%), 4680.04 column/sec. Elapsed time 8.15 sec\n",
      "EvaluatorHoldout: Processed 34728 (100.0%) in 8.55 sec. Users per second: 4062\n"
     ]
    },
    {
     "name": "stderr",
     "output_type": "stream",
     "text": [
      "[I 2025-01-05 23:11:19,437] Trial 148 finished with value: 0.027767891422866446 and parameters: {'topK': 14, 'alpha': 0.28254290023681794}. Best is trial 124 with value: 0.027814196860498817.\n"
     ]
    },
    {
     "name": "stdout",
     "output_type": "stream",
     "text": [
      "P3alphaRecommender: Similarity column 38121 (100.0%), 5115.02 column/sec. Elapsed time 7.45 sec\n",
      "EvaluatorHoldout: Processed 34728 (100.0%) in 8.67 sec. Users per second: 4006\n"
     ]
    },
    {
     "name": "stderr",
     "output_type": "stream",
     "text": [
      "[I 2025-01-05 23:11:35,891] Trial 149 finished with value: 0.027767030994613123 and parameters: {'topK': 14, 'alpha': 0.28307314307683096}. Best is trial 124 with value: 0.027814196860498817.\n"
     ]
    },
    {
     "name": "stdout",
     "output_type": "stream",
     "text": [
      "P3alphaRecommender: Similarity column 38121 (100.0%), 5110.24 column/sec. Elapsed time 7.46 sec\n",
      "EvaluatorHoldout: Processed 34728 (100.0%) in 8.76 sec. Users per second: 3966\n"
     ]
    },
    {
     "name": "stderr",
     "output_type": "stream",
     "text": [
      "[I 2025-01-05 23:11:52,417] Trial 150 finished with value: 0.027661450848863765 and parameters: {'topK': 12, 'alpha': 0.27911981572655614}. Best is trial 124 with value: 0.027814196860498817.\n"
     ]
    },
    {
     "name": "stdout",
     "output_type": "stream",
     "text": [
      "P3alphaRecommender: Similarity column 38121 (100.0%), 5133.08 column/sec. Elapsed time 7.43 sec\n",
      "EvaluatorHoldout: Processed 34728 (100.0%) in 8.80 sec. Users per second: 3948\n"
     ]
    },
    {
     "name": "stderr",
     "output_type": "stream",
     "text": [
      "[I 2025-01-05 23:12:08,978] Trial 151 finished with value: 0.027778528509998013 and parameters: {'topK': 14, 'alpha': 0.28411874098010725}. Best is trial 124 with value: 0.027814196860498817.\n"
     ]
    },
    {
     "name": "stdout",
     "output_type": "stream",
     "text": [
      "P3alphaRecommender: Similarity column 38121 (100.0%), 5033.71 column/sec. Elapsed time 7.57 sec\n",
      "EvaluatorHoldout: Processed 34728 (100.0%) in 8.63 sec. Users per second: 4023\n"
     ]
    },
    {
     "name": "stderr",
     "output_type": "stream",
     "text": [
      "[I 2025-01-05 23:12:25,516] Trial 152 finished with value: 0.02773134664677437 and parameters: {'topK': 14, 'alpha': 0.2651753689269868}. Best is trial 124 with value: 0.027814196860498817.\n"
     ]
    },
    {
     "name": "stdout",
     "output_type": "stream",
     "text": [
      "P3alphaRecommender: Similarity column 38121 (100.0%), 5050.01 column/sec. Elapsed time 7.55 sec\n",
      "EvaluatorHoldout: Processed 34728 (100.0%) in 8.67 sec. Users per second: 4006\n"
     ]
    },
    {
     "name": "stderr",
     "output_type": "stream",
     "text": [
      "[I 2025-01-05 23:12:42,060] Trial 153 finished with value: 0.027718067713531743 and parameters: {'topK': 13, 'alpha': 0.2829634174057693}. Best is trial 124 with value: 0.027814196860498817.\n"
     ]
    },
    {
     "name": "stdout",
     "output_type": "stream",
     "text": [
      "P3alphaRecommender: Similarity column 38121 (100.0%), 5040.68 column/sec. Elapsed time 7.56 sec\n",
      "EvaluatorHoldout: Processed 34728 (100.0%) in 8.75 sec. Users per second: 3967\n"
     ]
    },
    {
     "name": "stderr",
     "output_type": "stream",
     "text": [
      "[I 2025-01-05 23:12:58,722] Trial 154 finished with value: 0.027710577531326625 and parameters: {'topK': 16, 'alpha': 0.29498513242192304}. Best is trial 124 with value: 0.027814196860498817.\n"
     ]
    },
    {
     "name": "stdout",
     "output_type": "stream",
     "text": [
      "P3alphaRecommender: Similarity column 38121 (100.0%), 5037.62 column/sec. Elapsed time 7.57 sec\n",
      "EvaluatorHoldout: Processed 34728 (100.0%) in 8.54 sec. Users per second: 4064\n"
     ]
    },
    {
     "name": "stderr",
     "output_type": "stream",
     "text": [
      "[I 2025-01-05 23:13:15,172] Trial 155 finished with value: 0.027731657452199215 and parameters: {'topK': 15, 'alpha': 0.2720071935809542}. Best is trial 124 with value: 0.027814196860498817.\n"
     ]
    },
    {
     "name": "stdout",
     "output_type": "stream",
     "text": [
      "P3alphaRecommender: Similarity column 38121 (100.0%), 5060.81 column/sec. Elapsed time 7.53 sec\n",
      "EvaluatorHoldout: Processed 34728 (100.0%) in 8.70 sec. Users per second: 3993\n"
     ]
    },
    {
     "name": "stderr",
     "output_type": "stream",
     "text": [
      "[I 2025-01-05 23:13:31,703] Trial 156 finished with value: 0.027623721127089423 and parameters: {'topK': 11, 'alpha': 0.2544433630025315}. Best is trial 124 with value: 0.027814196860498817.\n"
     ]
    },
    {
     "name": "stdout",
     "output_type": "stream",
     "text": [
      "P3alphaRecommender: Similarity column 38121 (100.0%), 5011.73 column/sec. Elapsed time 7.61 sec\n",
      "EvaluatorHoldout: Processed 34728 (100.0%) in 8.75 sec. Users per second: 3967\n"
     ]
    },
    {
     "name": "stderr",
     "output_type": "stream",
     "text": [
      "[I 2025-01-05 23:13:48,395] Trial 157 finished with value: 0.02777634715868915 and parameters: {'topK': 14, 'alpha': 0.2864109505813119}. Best is trial 124 with value: 0.027814196860498817.\n"
     ]
    },
    {
     "name": "stdout",
     "output_type": "stream",
     "text": [
      "P3alphaRecommender: Similarity column 38121 (100.0%), 5023.94 column/sec. Elapsed time 7.59 sec\n",
      "EvaluatorHoldout: Processed 34728 (100.0%) in 8.75 sec. Users per second: 3969\n"
     ]
    },
    {
     "name": "stderr",
     "output_type": "stream",
     "text": [
      "[I 2025-01-05 23:14:05,075] Trial 158 finished with value: 0.027627010865391384 and parameters: {'topK': 16, 'alpha': 0.2329444225823072}. Best is trial 124 with value: 0.027814196860498817.\n"
     ]
    },
    {
     "name": "stdout",
     "output_type": "stream",
     "text": [
      "P3alphaRecommender: Similarity column 38121 (100.0%), 4867.52 column/sec. Elapsed time 7.83 sec\n",
      "EvaluatorHoldout: Processed 34728 (100.0%) in 9.06 sec. Users per second: 3833\n"
     ]
    },
    {
     "name": "stderr",
     "output_type": "stream",
     "text": [
      "[I 2025-01-05 23:14:22,505] Trial 159 finished with value: 0.026920374164024118 and parameters: {'topK': 37, 'alpha': 0.28563201459033194}. Best is trial 124 with value: 0.027814196860498817.\n"
     ]
    },
    {
     "name": "stdout",
     "output_type": "stream",
     "text": [
      "P3alphaRecommender: Similarity column 38121 (100.0%), 5039.93 column/sec. Elapsed time 7.56 sec\n",
      "EvaluatorHoldout: Processed 34728 (100.0%) in 8.99 sec. Users per second: 3863\n"
     ]
    },
    {
     "name": "stderr",
     "output_type": "stream",
     "text": [
      "[I 2025-01-05 23:14:39,382] Trial 160 finished with value: 0.027705010457687723 and parameters: {'topK': 13, 'alpha': 0.26516983459867877}. Best is trial 124 with value: 0.027814196860498817.\n"
     ]
    },
    {
     "name": "stdout",
     "output_type": "stream",
     "text": [
      "P3alphaRecommender: Similarity column 38121 (100.0%), 4878.42 column/sec. Elapsed time 7.81 sec\n",
      "EvaluatorHoldout: Processed 34728 (100.0%) in 8.67 sec. Users per second: 4006\n"
     ]
    },
    {
     "name": "stderr",
     "output_type": "stream",
     "text": [
      "[I 2025-01-05 23:14:56,194] Trial 161 finished with value: 0.027798216662460927 and parameters: {'topK': 14, 'alpha': 0.2995627929383269}. Best is trial 124 with value: 0.027814196860498817.\n"
     ]
    },
    {
     "name": "stdout",
     "output_type": "stream",
     "text": [
      "P3alphaRecommender: Similarity column 38121 (100.0%), 4830.38 column/sec. Elapsed time 7.89 sec\n",
      "EvaluatorHoldout: Processed 34728 (100.0%) in 8.91 sec. Users per second: 3896\n"
     ]
    },
    {
     "name": "stderr",
     "output_type": "stream",
     "text": [
      "[I 2025-01-05 23:15:13,333] Trial 162 finished with value: 0.027798591457237936 and parameters: {'topK': 14, 'alpha': 0.297892037242555}. Best is trial 124 with value: 0.027814196860498817.\n"
     ]
    },
    {
     "name": "stdout",
     "output_type": "stream",
     "text": [
      "P3alphaRecommender: Similarity column 38121 (100.0%), 5103.63 column/sec. Elapsed time 7.47 sec\n",
      "EvaluatorHoldout: Processed 34728 (100.0%) in 8.82 sec. Users per second: 3939\n"
     ]
    },
    {
     "name": "stderr",
     "output_type": "stream",
     "text": [
      "[I 2025-01-05 23:15:29,943] Trial 163 finished with value: 0.027671636582529066 and parameters: {'topK': 12, 'alpha': 0.29973923355842363}. Best is trial 124 with value: 0.027814196860498817.\n"
     ]
    },
    {
     "name": "stdout",
     "output_type": "stream",
     "text": [
      "P3alphaRecommender: Similarity column 38121 (100.0%), 5079.96 column/sec. Elapsed time 7.50 sec\n",
      "EvaluatorHoldout: Processed 34728 (100.0%) in 8.56 sec. Users per second: 4056\n"
     ]
    },
    {
     "name": "stderr",
     "output_type": "stream",
     "text": [
      "[I 2025-01-05 23:15:46,353] Trial 164 finished with value: 0.02775284135576907 and parameters: {'topK': 15, 'alpha': 0.3060150398498968}. Best is trial 124 with value: 0.027814196860498817.\n"
     ]
    },
    {
     "name": "stdout",
     "output_type": "stream",
     "text": [
      "P3alphaRecommender: Similarity column 38121 (100.0%), 4947.29 column/sec. Elapsed time 7.71 sec\n",
      "EvaluatorHoldout: Processed 34728 (100.0%) in 8.44 sec. Users per second: 4115\n"
     ]
    },
    {
     "name": "stderr",
     "output_type": "stream",
     "text": [
      "[I 2025-01-05 23:16:02,854] Trial 165 finished with value: 0.02765703558356384 and parameters: {'topK': 17, 'alpha': 0.27487659551222515}. Best is trial 124 with value: 0.027814196860498817.\n"
     ]
    },
    {
     "name": "stdout",
     "output_type": "stream",
     "text": [
      "P3alphaRecommender: Similarity column 38121 (100.0%), 5051.11 column/sec. Elapsed time 7.55 sec\n",
      "EvaluatorHoldout: Processed 34728 (100.0%) in 8.90 sec. Users per second: 3900\n"
     ]
    },
    {
     "name": "stderr",
     "output_type": "stream",
     "text": [
      "[I 2025-01-05 23:16:19,628] Trial 166 finished with value: 0.027712669754609256 and parameters: {'topK': 13, 'alpha': 0.2956911788822276}. Best is trial 124 with value: 0.027814196860498817.\n"
     ]
    },
    {
     "name": "stdout",
     "output_type": "stream",
     "text": [
      "P3alphaRecommender: Similarity column 38121 (100.0%), 5073.58 column/sec. Elapsed time 7.51 sec\n",
      "EvaluatorHoldout: Processed 34728 (100.0%) in 8.95 sec. Users per second: 3879\n"
     ]
    },
    {
     "name": "stderr",
     "output_type": "stream",
     "text": [
      "[I 2025-01-05 23:16:36,417] Trial 167 finished with value: 0.0276487272517846 and parameters: {'topK': 12, 'alpha': 0.28753484137671215}. Best is trial 124 with value: 0.027814196860498817.\n"
     ]
    },
    {
     "name": "stdout",
     "output_type": "stream",
     "text": [
      "P3alphaRecommender: Similarity column 38121 (100.0%), 4901.27 column/sec. Elapsed time 7.78 sec\n",
      "EvaluatorHoldout: Processed 34728 (100.0%) in 8.72 sec. Users per second: 3981\n"
     ]
    },
    {
     "name": "stderr",
     "output_type": "stream",
     "text": [
      "[I 2025-01-05 23:16:53,270] Trial 168 finished with value: 0.027735428253309317 and parameters: {'topK': 15, 'alpha': 0.3078659287943213}. Best is trial 124 with value: 0.027814196860498817.\n"
     ]
    },
    {
     "name": "stdout",
     "output_type": "stream",
     "text": [
      "P3alphaRecommender: Similarity column 38121 (100.0%), 5169.48 column/sec. Elapsed time 7.37 sec\n",
      "EvaluatorHoldout: Processed 34728 (100.0%) in 8.43 sec. Users per second: 4118\n"
     ]
    },
    {
     "name": "stderr",
     "output_type": "stream",
     "text": [
      "[I 2025-01-05 23:17:09,385] Trial 169 finished with value: 0.027633300104576163 and parameters: {'topK': 11, 'alpha': 0.2903111273721109}. Best is trial 124 with value: 0.027814196860498817.\n"
     ]
    },
    {
     "name": "stdout",
     "output_type": "stream",
     "text": [
      "P3alphaRecommender: Similarity column 38121 (100.0%), 4708.84 column/sec. Elapsed time 8.10 sec\n",
      "EvaluatorHoldout: Processed 34728 (100.0%) in 9.32 sec. Users per second: 3726\n"
     ]
    },
    {
     "name": "stderr",
     "output_type": "stream",
     "text": [
      "[I 2025-01-05 23:17:27,484] Trial 170 finished with value: 0.026518469612370078 and parameters: {'topK': 47, 'alpha': 0.27510602092161995}. Best is trial 124 with value: 0.027814196860498817.\n"
     ]
    },
    {
     "name": "stdout",
     "output_type": "stream",
     "text": [
      "P3alphaRecommender: Similarity column 38121 (100.0%), 5071.72 column/sec. Elapsed time 7.52 sec\n",
      "EvaluatorHoldout: Processed 34728 (100.0%) in 8.77 sec. Users per second: 3960\n"
     ]
    },
    {
     "name": "stderr",
     "output_type": "stream",
     "text": [
      "[I 2025-01-05 23:17:44,100] Trial 171 finished with value: 0.02776401892439306 and parameters: {'topK': 14, 'alpha': 0.28033213249052247}. Best is trial 124 with value: 0.027814196860498817.\n"
     ]
    },
    {
     "name": "stdout",
     "output_type": "stream",
     "text": [
      "P3alphaRecommender: Similarity column 38121 (100.0%), 4946.53 column/sec. Elapsed time 7.71 sec\n",
      "EvaluatorHoldout: Processed 34728 (100.0%) in 8.44 sec. Users per second: 4116\n"
     ]
    },
    {
     "name": "stderr",
     "output_type": "stream",
     "text": [
      "[I 2025-01-05 23:18:00,574] Trial 172 finished with value: 0.027729134443456465 and parameters: {'topK': 14, 'alpha': 0.25991131678592305}. Best is trial 124 with value: 0.027814196860498817.\n"
     ]
    },
    {
     "name": "stdout",
     "output_type": "stream",
     "text": [
      "P3alphaRecommender: Similarity column 38121 (100.0%), 5106.29 column/sec. Elapsed time 7.47 sec\n",
      "EvaluatorHoldout: Processed 34728 (100.0%) in 8.56 sec. Users per second: 4055\n"
     ]
    },
    {
     "name": "stderr",
     "output_type": "stream",
     "text": [
      "[I 2025-01-05 23:18:16,949] Trial 173 finished with value: 0.027738003824734306 and parameters: {'topK': 16, 'alpha': 0.3021303957855175}. Best is trial 124 with value: 0.027814196860498817.\n"
     ]
    },
    {
     "name": "stdout",
     "output_type": "stream",
     "text": [
      "P3alphaRecommender: Similarity column 38121 (100.0%), 5043.83 column/sec. Elapsed time 7.56 sec\n",
      "EvaluatorHoldout: Processed 34728 (100.0%) in 8.48 sec. Users per second: 4097\n"
     ]
    },
    {
     "name": "stderr",
     "output_type": "stream",
     "text": [
      "[I 2025-01-05 23:18:33,301] Trial 174 finished with value: 0.02771291314268092 and parameters: {'topK': 13, 'alpha': 0.2863763122650339}. Best is trial 124 with value: 0.027814196860498817.\n"
     ]
    },
    {
     "name": "stdout",
     "output_type": "stream",
     "text": [
      "P3alphaRecommender: Similarity column 38121 (100.0%), 5127.32 column/sec. Elapsed time 7.43 sec\n",
      "EvaluatorHoldout: Processed 34728 (100.0%) in 8.58 sec. Users per second: 4048\n"
     ]
    },
    {
     "name": "stderr",
     "output_type": "stream",
     "text": [
      "[I 2025-01-05 23:18:49,658] Trial 175 finished with value: 0.027770265884898893 and parameters: {'topK': 15, 'alpha': 0.2952249203622217}. Best is trial 124 with value: 0.027814196860498817.\n"
     ]
    },
    {
     "name": "stdout",
     "output_type": "stream",
     "text": [
      "P3alphaRecommender: Similarity column 38121 (100.0%), 5109.38 column/sec. Elapsed time 7.46 sec\n",
      "EvaluatorHoldout: Processed 34728 (100.0%) in 8.87 sec. Users per second: 3916\n"
     ]
    },
    {
     "name": "stderr",
     "output_type": "stream",
     "text": [
      "[I 2025-01-05 23:19:06,343] Trial 176 finished with value: 0.027710839202070296 and parameters: {'topK': 17, 'alpha': 0.29658339023333957}. Best is trial 124 with value: 0.027814196860498817.\n"
     ]
    },
    {
     "name": "stdout",
     "output_type": "stream",
     "text": [
      "P3alphaRecommender: Similarity column 38121 (100.0%), 5002.16 column/sec. Elapsed time 7.62 sec\n",
      "EvaluatorHoldout: Processed 34728 (100.0%) in 8.55 sec. Users per second: 4062\n"
     ]
    },
    {
     "name": "stderr",
     "output_type": "stream",
     "text": [
      "[I 2025-01-05 23:19:22,865] Trial 177 finished with value: 0.02773956356519342 and parameters: {'topK': 15, 'alpha': 0.30936848197384476}. Best is trial 124 with value: 0.027814196860498817.\n"
     ]
    },
    {
     "name": "stdout",
     "output_type": "stream",
     "text": [
      "P3alphaRecommender: Similarity column 38121 (100.0%), 4994.04 column/sec. Elapsed time 7.63 sec\n",
      "EvaluatorHoldout: Processed 34728 (100.0%) in 8.82 sec. Users per second: 3936\n"
     ]
    },
    {
     "name": "stderr",
     "output_type": "stream",
     "text": [
      "[I 2025-01-05 23:19:39,646] Trial 178 finished with value: 0.027712425223870615 and parameters: {'topK': 13, 'alpha': 0.26659339015435135}. Best is trial 124 with value: 0.027814196860498817.\n"
     ]
    },
    {
     "name": "stdout",
     "output_type": "stream",
     "text": [
      "P3alphaRecommender: Similarity column 38121 (100.0%), 2363.17 column/sec. Elapsed time 16.13 sec\n",
      "EvaluatorHoldout: Processed 34728 (100.0%) in 8.15 sec. Users per second: 4263\n"
     ]
    },
    {
     "name": "stderr",
     "output_type": "stream",
     "text": [
      "[I 2025-01-05 23:20:04,152] Trial 179 finished with value: 0.01929774999725756 and parameters: {'topK': 2, 'alpha': 0.2959773177642077}. Best is trial 124 with value: 0.027814196860498817.\n"
     ]
    },
    {
     "name": "stdout",
     "output_type": "stream",
     "text": [
      "P3alphaRecommender: Similarity column 38121 (100.0%), 5123.31 column/sec. Elapsed time 7.44 sec\n",
      "EvaluatorHoldout: Processed 34728 (100.0%) in 8.44 sec. Users per second: 4116\n"
     ]
    },
    {
     "name": "stderr",
     "output_type": "stream",
     "text": [
      "[I 2025-01-05 23:20:20,374] Trial 180 finished with value: 0.02773115467871788 and parameters: {'topK': 16, 'alpha': 0.3110120271131391}. Best is trial 124 with value: 0.027814196860498817.\n"
     ]
    },
    {
     "name": "stdout",
     "output_type": "stream",
     "text": [
      "P3alphaRecommender: Similarity column 38121 (100.0%), 5130.60 column/sec. Elapsed time 7.43 sec\n",
      "EvaluatorHoldout: Processed 34728 (100.0%) in 8.38 sec. Users per second: 4144\n"
     ]
    },
    {
     "name": "stderr",
     "output_type": "stream",
     "text": [
      "[I 2025-01-05 23:20:36,508] Trial 181 finished with value: 0.02776948658600273 and parameters: {'topK': 14, 'alpha': 0.2832600576940695}. Best is trial 124 with value: 0.027814196860498817.\n"
     ]
    },
    {
     "name": "stdout",
     "output_type": "stream",
     "text": [
      "P3alphaRecommender: Similarity column 38121 (100.0%), 5139.29 column/sec. Elapsed time 7.42 sec\n",
      "EvaluatorHoldout: Processed 34728 (100.0%) in 8.39 sec. Users per second: 4137\n"
     ]
    },
    {
     "name": "stderr",
     "output_type": "stream",
     "text": [
      "[I 2025-01-05 23:20:52,647] Trial 182 finished with value: 0.027746605821933314 and parameters: {'topK': 14, 'alpha': 0.27375862538687196}. Best is trial 124 with value: 0.027814196860498817.\n"
     ]
    },
    {
     "name": "stdout",
     "output_type": "stream",
     "text": [
      "P3alphaRecommender: Similarity column 38121 (100.0%), 5207.53 column/sec. Elapsed time 7.32 sec\n",
      "EvaluatorHoldout: Processed 34728 (100.0%) in 8.39 sec. Users per second: 4140\n"
     ]
    },
    {
     "name": "stderr",
     "output_type": "stream",
     "text": [
      "[I 2025-01-05 23:21:08,692] Trial 183 finished with value: 0.027728600817966013 and parameters: {'topK': 15, 'alpha': 0.2881820746926686}. Best is trial 124 with value: 0.027814196860498817.\n"
     ]
    },
    {
     "name": "stdout",
     "output_type": "stream",
     "text": [
      "P3alphaRecommender: Similarity column 38121 (100.0%), 5178.80 column/sec. Elapsed time 7.36 sec\n",
      "EvaluatorHoldout: Processed 34728 (100.0%) in 8.40 sec. Users per second: 4132\n"
     ]
    },
    {
     "name": "stderr",
     "output_type": "stream",
     "text": [
      "[I 2025-01-05 23:21:24,785] Trial 184 finished with value: 0.02776369783496526 and parameters: {'topK': 14, 'alpha': 0.3259556269503796}. Best is trial 124 with value: 0.027814196860498817.\n"
     ]
    },
    {
     "name": "stdout",
     "output_type": "stream",
     "text": [
      "P3alphaRecommender: Similarity column 38121 (100.0%), 5199.15 column/sec. Elapsed time 7.33 sec\n",
      "EvaluatorHoldout: Processed 34728 (100.0%) in 8.37 sec. Users per second: 4150\n"
     ]
    },
    {
     "name": "stderr",
     "output_type": "stream",
     "text": [
      "[I 2025-01-05 23:21:40,795] Trial 185 finished with value: 0.027682435928375097 and parameters: {'topK': 12, 'alpha': 0.24935310094980523}. Best is trial 124 with value: 0.027814196860498817.\n"
     ]
    },
    {
     "name": "stdout",
     "output_type": "stream",
     "text": [
      "P3alphaRecommender: Similarity column 38121 (100.0%), 5167.64 column/sec. Elapsed time 7.38 sec\n",
      "EvaluatorHoldout: Processed 34728 (100.0%) in 8.36 sec. Users per second: 4156\n"
     ]
    },
    {
     "name": "stderr",
     "output_type": "stream",
     "text": [
      "[I 2025-01-05 23:21:56,844] Trial 186 finished with value: 0.027737003991106613 and parameters: {'topK': 13, 'alpha': 0.3029242023277786}. Best is trial 124 with value: 0.027814196860498817.\n"
     ]
    },
    {
     "name": "stdout",
     "output_type": "stream",
     "text": [
      "P3alphaRecommender: Similarity column 38121 (100.0%), 5116.31 column/sec. Elapsed time 7.45 sec\n",
      "EvaluatorHoldout: Processed 34728 (100.0%) in 8.42 sec. Users per second: 4124\n"
     ]
    },
    {
     "name": "stderr",
     "output_type": "stream",
     "text": [
      "[I 2025-01-05 23:22:13,051] Trial 187 finished with value: 0.027728432845916553 and parameters: {'topK': 15, 'alpha': 0.2801714159264753}. Best is trial 124 with value: 0.027814196860498817.\n"
     ]
    },
    {
     "name": "stdout",
     "output_type": "stream",
     "text": [
      "P3alphaRecommender: Similarity column 38121 (100.0%), 5119.08 column/sec. Elapsed time 7.45 sec\n",
      "EvaluatorHoldout: Processed 34728 (100.0%) in 8.45 sec. Users per second: 4109\n"
     ]
    },
    {
     "name": "stderr",
     "output_type": "stream",
     "text": [
      "[I 2025-01-05 23:22:29,310] Trial 188 finished with value: 0.027690152358646705 and parameters: {'topK': 18, 'alpha': 0.29493111492316826}. Best is trial 124 with value: 0.027814196860498817.\n"
     ]
    },
    {
     "name": "stdout",
     "output_type": "stream",
     "text": [
      "P3alphaRecommender: Similarity column 38121 (100.0%), 5069.83 column/sec. Elapsed time 7.52 sec\n",
      "EvaluatorHoldout: Processed 34728 (100.0%) in 8.68 sec. Users per second: 4000\n"
     ]
    },
    {
     "name": "stderr",
     "output_type": "stream",
     "text": [
      "[I 2025-01-05 23:22:45,857] Trial 189 finished with value: 0.02765832565461041 and parameters: {'topK': 16, 'alpha': 0.2623477562264002}. Best is trial 124 with value: 0.027814196860498817.\n"
     ]
    },
    {
     "name": "stdout",
     "output_type": "stream",
     "text": [
      "P3alphaRecommender: Similarity column 38121 (100.0%), 4994.03 column/sec. Elapsed time 7.63 sec\n",
      "EvaluatorHoldout: Processed 34728 (100.0%) in 8.51 sec. Users per second: 4081\n"
     ]
    },
    {
     "name": "stderr",
     "output_type": "stream",
     "text": [
      "[I 2025-01-05 23:23:02,314] Trial 190 finished with value: 0.027587610564458465 and parameters: {'topK': 11, 'alpha': 0.2721804522596949}. Best is trial 124 with value: 0.027814196860498817.\n"
     ]
    },
    {
     "name": "stdout",
     "output_type": "stream",
     "text": [
      "P3alphaRecommender: Similarity column 38121 (100.0%), 4891.43 column/sec. Elapsed time 7.79 sec\n",
      "EvaluatorHoldout: Processed 34728 (100.0%) in 8.95 sec. Users per second: 3880\n"
     ]
    },
    {
     "name": "stderr",
     "output_type": "stream",
     "text": [
      "[I 2025-01-05 23:23:19,393] Trial 191 finished with value: 0.027770392720936163 and parameters: {'topK': 14, 'alpha': 0.28331056595302845}. Best is trial 124 with value: 0.027814196860498817.\n"
     ]
    },
    {
     "name": "stdout",
     "output_type": "stream",
     "text": [
      "P3alphaRecommender: Similarity column 38121 (100.0%), 4876.45 column/sec. Elapsed time 7.82 sec\n",
      "EvaluatorHoldout: Processed 34728 (100.0%) in 8.94 sec. Users per second: 3884\n"
     ]
    },
    {
     "name": "stderr",
     "output_type": "stream",
     "text": [
      "[I 2025-01-05 23:23:36,495] Trial 192 finished with value: 0.027773377367148185 and parameters: {'topK': 14, 'alpha': 0.2842963199990509}. Best is trial 124 with value: 0.027814196860498817.\n"
     ]
    },
    {
     "name": "stdout",
     "output_type": "stream",
     "text": [
      "P3alphaRecommender: Similarity column 38121 (100.0%), 5097.09 column/sec. Elapsed time 7.48 sec\n",
      "EvaluatorHoldout: Processed 34728 (100.0%) in 8.63 sec. Users per second: 4026\n"
     ]
    },
    {
     "name": "stderr",
     "output_type": "stream",
     "text": [
      "[I 2025-01-05 23:23:52,924] Trial 193 finished with value: 0.027712838869325733 and parameters: {'topK': 13, 'alpha': 0.2869721207338732}. Best is trial 124 with value: 0.027814196860498817.\n"
     ]
    },
    {
     "name": "stdout",
     "output_type": "stream",
     "text": [
      "P3alphaRecommender: Similarity column 38121 (100.0%), 4975.61 column/sec. Elapsed time 7.66 sec\n",
      "EvaluatorHoldout: Processed 34728 (100.0%) in 8.49 sec. Users per second: 4089\n"
     ]
    },
    {
     "name": "stderr",
     "output_type": "stream",
     "text": [
      "[I 2025-01-05 23:24:09,419] Trial 194 finished with value: 0.02772722047622628 and parameters: {'topK': 15, 'alpha': 0.27894542369024866}. Best is trial 124 with value: 0.027814196860498817.\n"
     ]
    },
    {
     "name": "stdout",
     "output_type": "stream",
     "text": [
      "P3alphaRecommender: Similarity column 38121 (100.0%), 5058.38 column/sec. Elapsed time 7.54 sec\n",
      "EvaluatorHoldout: Processed 34728 (100.0%) in 8.79 sec. Users per second: 3951\n"
     ]
    },
    {
     "name": "stderr",
     "output_type": "stream",
     "text": [
      "[I 2025-01-05 23:24:26,071] Trial 195 finished with value: 0.02771865047370331 and parameters: {'topK': 13, 'alpha': 0.2931529044403322}. Best is trial 124 with value: 0.027814196860498817.\n"
     ]
    },
    {
     "name": "stdout",
     "output_type": "stream",
     "text": [
      "P3alphaRecommender: Similarity column 38121 (100.0%), 5107.31 column/sec. Elapsed time 7.46 sec\n",
      "EvaluatorHoldout: Processed 34728 (100.0%) in 8.44 sec. Users per second: 4117\n"
     ]
    },
    {
     "name": "stderr",
     "output_type": "stream",
     "text": [
      "[I 2025-01-05 23:24:42,308] Trial 196 finished with value: 0.027755658029931633 and parameters: {'topK': 15, 'alpha': 0.30487796035045306}. Best is trial 124 with value: 0.027814196860498817.\n"
     ]
    },
    {
     "name": "stdout",
     "output_type": "stream",
     "text": [
      "P3alphaRecommender: Similarity column 38121 (100.0%), 5159.94 column/sec. Elapsed time 7.39 sec\n",
      "EvaluatorHoldout: Processed 34728 (100.0%) in 8.39 sec. Users per second: 4137\n"
     ]
    },
    {
     "name": "stderr",
     "output_type": "stream",
     "text": [
      "[I 2025-01-05 23:24:58,401] Trial 197 finished with value: 0.027670833287625936 and parameters: {'topK': 12, 'alpha': 0.27409760569154534}. Best is trial 124 with value: 0.027814196860498817.\n"
     ]
    },
    {
     "name": "stdout",
     "output_type": "stream",
     "text": [
      "P3alphaRecommender: Similarity column 38121 (100.0%), 5120.16 column/sec. Elapsed time 7.45 sec\n",
      "EvaluatorHoldout: Processed 34728 (100.0%) in 8.40 sec. Users per second: 4134\n"
     ]
    },
    {
     "name": "stderr",
     "output_type": "stream",
     "text": [
      "[I 2025-01-05 23:25:14,571] Trial 198 finished with value: 0.027773602472547777 and parameters: {'topK': 14, 'alpha': 0.28396810372841774}. Best is trial 124 with value: 0.027814196860498817.\n"
     ]
    },
    {
     "name": "stdout",
     "output_type": "stream",
     "text": [
      "P3alphaRecommender: Similarity column 38121 (100.0%), 5177.49 column/sec. Elapsed time 7.36 sec\n",
      "EvaluatorHoldout: Processed 34728 (100.0%) in 8.44 sec. Users per second: 4116\n"
     ]
    },
    {
     "name": "stderr",
     "output_type": "stream",
     "text": [
      "[I 2025-01-05 23:25:30,716] Trial 199 finished with value: 0.027668290853544157 and parameters: {'topK': 16, 'alpha': 0.2582786282975665}. Best is trial 124 with value: 0.027814196860498817.\n"
     ]
    },
    {
     "name": "stdout",
     "output_type": "stream",
     "text": [
      "P3alphaRecommender: Similarity column 38121 (100.0%), 5161.87 column/sec. Elapsed time 7.39 sec\n",
      "EvaluatorHoldout: Processed 34728 (100.0%) in 8.47 sec. Users per second: 4098\n"
     ]
    },
    {
     "name": "stderr",
     "output_type": "stream",
     "text": [
      "[I 2025-01-05 23:25:46,903] Trial 200 finished with value: 0.027801178455332868 and parameters: {'topK': 14, 'alpha': 0.298517451814149}. Best is trial 124 with value: 0.027814196860498817.\n"
     ]
    },
    {
     "name": "stdout",
     "output_type": "stream",
     "text": [
      "P3alphaRecommender: Similarity column 38121 (100.0%), 5080.30 column/sec. Elapsed time 7.50 sec\n",
      "EvaluatorHoldout: Processed 34728 (100.0%) in 8.53 sec. Users per second: 4069\n"
     ]
    },
    {
     "name": "stderr",
     "output_type": "stream",
     "text": [
      "[I 2025-01-05 23:26:03,278] Trial 201 finished with value: 0.027795203449573827 and parameters: {'topK': 14, 'alpha': 0.2946897404225916}. Best is trial 124 with value: 0.027814196860498817.\n"
     ]
    },
    {
     "name": "stdout",
     "output_type": "stream",
     "text": [
      "P3alphaRecommender: Similarity column 38121 (100.0%), 5113.32 column/sec. Elapsed time 7.46 sec\n",
      "EvaluatorHoldout: Processed 34728 (100.0%) in 8.62 sec. Users per second: 4030\n"
     ]
    },
    {
     "name": "stderr",
     "output_type": "stream",
     "text": [
      "[I 2025-01-05 23:26:19,689] Trial 202 finished with value: 0.027796384967255016 and parameters: {'topK': 14, 'alpha': 0.29796320558350586}. Best is trial 124 with value: 0.027814196860498817.\n"
     ]
    },
    {
     "name": "stdout",
     "output_type": "stream",
     "text": [
      "P3alphaRecommender: Similarity column 38121 (100.0%), 5122.81 column/sec. Elapsed time 7.44 sec\n",
      "EvaluatorHoldout: Processed 34728 (100.0%) in 8.41 sec. Users per second: 4129\n"
     ]
    },
    {
     "name": "stderr",
     "output_type": "stream",
     "text": [
      "[I 2025-01-05 23:26:35,867] Trial 203 finished with value: 0.02776342245221753 and parameters: {'topK': 14, 'alpha': 0.31274384544446904}. Best is trial 124 with value: 0.027814196860498817.\n"
     ]
    },
    {
     "name": "stdout",
     "output_type": "stream",
     "text": [
      "P3alphaRecommender: Similarity column 38121 (100.0%), 5203.53 column/sec. Elapsed time 7.33 sec\n",
      "EvaluatorHoldout: Processed 34728 (100.0%) in 8.40 sec. Users per second: 4134\n"
     ]
    },
    {
     "name": "stderr",
     "output_type": "stream",
     "text": [
      "[I 2025-01-05 23:26:51,912] Trial 204 finished with value: 0.027674518388710802 and parameters: {'topK': 12, 'alpha': 0.2993885828735576}. Best is trial 124 with value: 0.027814196860498817.\n"
     ]
    },
    {
     "name": "stdout",
     "output_type": "stream",
     "text": [
      "P3alphaRecommender: Similarity column 38121 (100.0%), 5089.54 column/sec. Elapsed time 7.49 sec\n",
      "EvaluatorHoldout: Processed 34728 (100.0%) in 8.62 sec. Users per second: 4030\n"
     ]
    },
    {
     "name": "stderr",
     "output_type": "stream",
     "text": [
      "[I 2025-01-05 23:27:08,337] Trial 205 finished with value: 0.027726057241217225 and parameters: {'topK': 13, 'alpha': 0.29007454036520136}. Best is trial 124 with value: 0.027814196860498817.\n"
     ]
    },
    {
     "name": "stdout",
     "output_type": "stream",
     "text": [
      "P3alphaRecommender: Similarity column 38121 (100.0%), 4992.37 column/sec. Elapsed time 7.64 sec\n",
      "EvaluatorHoldout: Processed 34728 (100.0%) in 8.52 sec. Users per second: 4076\n"
     ]
    },
    {
     "name": "stderr",
     "output_type": "stream",
     "text": [
      "[I 2025-01-05 23:27:24,833] Trial 206 finished with value: 0.027790433957503052 and parameters: {'topK': 14, 'alpha': 0.3096359772917327}. Best is trial 124 with value: 0.027814196860498817.\n"
     ]
    },
    {
     "name": "stdout",
     "output_type": "stream",
     "text": [
      "P3alphaRecommender: Similarity column 38121 (100.0%), 5168.49 column/sec. Elapsed time 7.38 sec\n",
      "EvaluatorHoldout: Processed 34728 (100.0%) in 8.41 sec. Users per second: 4128\n"
     ]
    },
    {
     "name": "stderr",
     "output_type": "stream",
     "text": [
      "[I 2025-01-05 23:27:40,941] Trial 207 finished with value: 0.02771240237053061 and parameters: {'topK': 13, 'alpha': 0.31051472194615254}. Best is trial 124 with value: 0.027814196860498817.\n"
     ]
    },
    {
     "name": "stdout",
     "output_type": "stream",
     "text": [
      "P3alphaRecommender: Similarity column 38121 (100.0%), 5129.75 column/sec. Elapsed time 7.43 sec\n",
      "EvaluatorHoldout: Processed 34728 (100.0%) in 8.42 sec. Users per second: 4124\n"
     ]
    },
    {
     "name": "stderr",
     "output_type": "stream",
     "text": [
      "[I 2025-01-05 23:27:57,131] Trial 208 finished with value: 0.027763019090765388 and parameters: {'topK': 15, 'alpha': 0.30217679492939525}. Best is trial 124 with value: 0.027814196860498817.\n"
     ]
    },
    {
     "name": "stdout",
     "output_type": "stream",
     "text": [
      "P3alphaRecommender: Similarity column 38121 (100.0%), 5032.57 column/sec. Elapsed time 7.57 sec\n",
      "EvaluatorHoldout: Processed 34728 (100.0%) in 8.98 sec. Users per second: 3867\n"
     ]
    },
    {
     "name": "stderr",
     "output_type": "stream",
     "text": [
      "[I 2025-01-05 23:28:14,034] Trial 209 finished with value: 0.02775853412277837 and parameters: {'topK': 16, 'alpha': 0.3167414576465027}. Best is trial 124 with value: 0.027814196860498817.\n"
     ]
    },
    {
     "name": "stdout",
     "output_type": "stream",
     "text": [
      "P3alphaRecommender: Similarity column 38121 (100.0%), 4882.29 column/sec. Elapsed time 7.81 sec\n",
      "EvaluatorHoldout: Processed 34728 (100.0%) in 9.00 sec. Users per second: 3859\n"
     ]
    },
    {
     "name": "stderr",
     "output_type": "stream",
     "text": [
      "[I 2025-01-05 23:28:31,210] Trial 210 finished with value: 0.027712451505211615 and parameters: {'topK': 17, 'alpha': 0.3002055751707984}. Best is trial 124 with value: 0.027814196860498817.\n"
     ]
    },
    {
     "name": "stdout",
     "output_type": "stream",
     "text": [
      "P3alphaRecommender: Similarity column 38121 (100.0%), 4935.43 column/sec. Elapsed time 7.72 sec\n",
      "EvaluatorHoldout: Processed 34728 (100.0%) in 9.17 sec. Users per second: 3787\n"
     ]
    },
    {
     "name": "stderr",
     "output_type": "stream",
     "text": [
      "[I 2025-01-05 23:28:48,448] Trial 211 finished with value: 0.02779486293480689 and parameters: {'topK': 14, 'alpha': 0.2897377512212313}. Best is trial 124 with value: 0.027814196860498817.\n"
     ]
    },
    {
     "name": "stdout",
     "output_type": "stream",
     "text": [
      "P3alphaRecommender: Similarity column 38121 (100.0%), 5026.97 column/sec. Elapsed time 7.58 sec\n",
      "EvaluatorHoldout: Processed 34728 (100.0%) in 9.13 sec. Users per second: 3802\n"
     ]
    },
    {
     "name": "stderr",
     "output_type": "stream",
     "text": [
      "[I 2025-01-05 23:29:05,509] Trial 212 finished with value: 0.02779191371127196 and parameters: {'topK': 14, 'alpha': 0.2925342021566152}. Best is trial 124 with value: 0.027814196860498817.\n"
     ]
    },
    {
     "name": "stdout",
     "output_type": "stream",
     "text": [
      "P3alphaRecommender: Similarity column 38121 (100.0%), 4949.91 column/sec. Elapsed time 7.70 sec\n",
      "EvaluatorHoldout: Processed 34728 (100.0%) in 8.57 sec. Users per second: 4050\n"
     ]
    },
    {
     "name": "stderr",
     "output_type": "stream",
     "text": [
      "[I 2025-01-05 23:29:22,137] Trial 213 finished with value: 0.02779603531115204 and parameters: {'topK': 14, 'alpha': 0.28897469912355733}. Best is trial 124 with value: 0.027814196860498817.\n"
     ]
    },
    {
     "name": "stdout",
     "output_type": "stream",
     "text": [
      "P3alphaRecommender: Similarity column 38121 (100.0%), 5127.93 column/sec. Elapsed time 7.43 sec\n",
      "EvaluatorHoldout: Processed 34728 (100.0%) in 8.63 sec. Users per second: 4023\n"
     ]
    },
    {
     "name": "stderr",
     "output_type": "stream",
     "text": [
      "[I 2025-01-05 23:29:38,527] Trial 214 finished with value: 0.027633027007162404 and parameters: {'topK': 12, 'alpha': 0.3122301206173356}. Best is trial 124 with value: 0.027814196860498817.\n"
     ]
    },
    {
     "name": "stdout",
     "output_type": "stream",
     "text": [
      "P3alphaRecommender: Similarity column 38121 (100.0%), 4801.58 column/sec. Elapsed time 7.94 sec\n",
      "EvaluatorHoldout: Processed 34728 (100.0%) in 8.73 sec. Users per second: 3977\n"
     ]
    },
    {
     "name": "stderr",
     "output_type": "stream",
     "text": [
      "[I 2025-01-05 23:29:55,533] Trial 215 finished with value: 0.027721019222400698 and parameters: {'topK': 13, 'alpha': 0.29140376592855943}. Best is trial 124 with value: 0.027814196860498817.\n"
     ]
    },
    {
     "name": "stdout",
     "output_type": "stream",
     "text": [
      "P3alphaRecommender: Similarity column 38121 (100.0%), 4960.91 column/sec. Elapsed time 7.68 sec\n",
      "EvaluatorHoldout: Processed 34728 (100.0%) in 8.62 sec. Users per second: 4029\n"
     ]
    },
    {
     "name": "stderr",
     "output_type": "stream",
     "text": [
      "[I 2025-01-05 23:30:12,179] Trial 216 finished with value: 0.027655819785872546 and parameters: {'topK': 14, 'alpha': 0.43433631993278293}. Best is trial 124 with value: 0.027814196860498817.\n"
     ]
    },
    {
     "name": "stdout",
     "output_type": "stream",
     "text": [
      "P3alphaRecommender: Similarity column 38121 (100.0%), 5078.45 column/sec. Elapsed time 7.51 sec\n",
      "EvaluatorHoldout: Processed 34728 (100.0%) in 8.56 sec. Users per second: 4058\n"
     ]
    },
    {
     "name": "stderr",
     "output_type": "stream",
     "text": [
      "[I 2025-01-05 23:30:28,581] Trial 217 finished with value: 0.027724483788753956 and parameters: {'topK': 14, 'alpha': 0.2691457064332933}. Best is trial 124 with value: 0.027814196860498817.\n"
     ]
    },
    {
     "name": "stdout",
     "output_type": "stream",
     "text": [
      "P3alphaRecommender: Similarity column 38121 (100.0%), 5111.08 column/sec. Elapsed time 7.46 sec\n",
      "EvaluatorHoldout: Processed 34728 (100.0%) in 8.54 sec. Users per second: 4064\n"
     ]
    },
    {
     "name": "stderr",
     "output_type": "stream",
     "text": [
      "[I 2025-01-05 23:30:44,922] Trial 218 finished with value: 0.02772009366212823 and parameters: {'topK': 13, 'alpha': 0.30532814910688405}. Best is trial 124 with value: 0.027814196860498817.\n"
     ]
    },
    {
     "name": "stdout",
     "output_type": "stream",
     "text": [
      "P3alphaRecommender: Similarity column 38121 (100.0%), 5127.23 column/sec. Elapsed time 7.44 sec\n",
      "EvaluatorHoldout: Processed 34728 (100.0%) in 8.60 sec. Users per second: 4040\n"
     ]
    },
    {
     "name": "stderr",
     "output_type": "stream",
     "text": [
      "[I 2025-01-05 23:31:01,304] Trial 219 finished with value: 0.027673671672461524 and parameters: {'topK': 15, 'alpha': 0.47669699777183305}. Best is trial 124 with value: 0.027814196860498817.\n"
     ]
    },
    {
     "name": "stdout",
     "output_type": "stream",
     "text": [
      "P3alphaRecommender: Similarity column 38121 (100.0%), 5080.97 column/sec. Elapsed time 7.50 sec\n",
      "EvaluatorHoldout: Processed 34728 (100.0%) in 8.59 sec. Users per second: 4044\n"
     ]
    },
    {
     "name": "stderr",
     "output_type": "stream",
     "text": [
      "[I 2025-01-05 23:31:17,715] Trial 220 finished with value: 0.027671418333131508 and parameters: {'topK': 12, 'alpha': 0.2922196201724051}. Best is trial 124 with value: 0.027814196860498817.\n"
     ]
    },
    {
     "name": "stdout",
     "output_type": "stream",
     "text": [
      "P3alphaRecommender: Similarity column 38121 (100.0%), 5107.36 column/sec. Elapsed time 7.46 sec\n",
      "EvaluatorHoldout: Processed 34728 (100.0%) in 8.50 sec. Users per second: 4088\n"
     ]
    },
    {
     "name": "stderr",
     "output_type": "stream",
     "text": [
      "[I 2025-01-05 23:31:34,012] Trial 221 finished with value: 0.027768733568447706 and parameters: {'topK': 14, 'alpha': 0.2823438591928357}. Best is trial 124 with value: 0.027814196860498817.\n"
     ]
    },
    {
     "name": "stdout",
     "output_type": "stream",
     "text": [
      "P3alphaRecommender: Similarity column 38121 (100.0%), 5118.73 column/sec. Elapsed time 7.45 sec\n",
      "EvaluatorHoldout: Processed 34728 (100.0%) in 8.54 sec. Users per second: 4067\n"
     ]
    },
    {
     "name": "stderr",
     "output_type": "stream",
     "text": [
      "[I 2025-01-05 23:31:50,339] Trial 222 finished with value: 0.027755143829780244 and parameters: {'topK': 14, 'alpha': 0.276448500676063}. Best is trial 124 with value: 0.027814196860498817.\n"
     ]
    },
    {
     "name": "stdout",
     "output_type": "stream",
     "text": [
      "P3alphaRecommender: Similarity column 38121 (100.0%), 5117.81 column/sec. Elapsed time 7.45 sec\n",
      "EvaluatorHoldout: Processed 34728 (100.0%) in 8.55 sec. Users per second: 4063\n"
     ]
    },
    {
     "name": "stderr",
     "output_type": "stream",
     "text": [
      "[I 2025-01-05 23:32:06,690] Trial 223 finished with value: 0.02768471097837816 and parameters: {'topK': 16, 'alpha': 0.2854490307930111}. Best is trial 124 with value: 0.027814196860498817.\n"
     ]
    },
    {
     "name": "stdout",
     "output_type": "stream",
     "text": [
      "P3alphaRecommender: Similarity column 38121 (100.0%), 5015.12 column/sec. Elapsed time 7.60 sec\n",
      "EvaluatorHoldout: Processed 34728 (100.0%) in 8.73 sec. Users per second: 3980\n"
     ]
    },
    {
     "name": "stderr",
     "output_type": "stream",
     "text": [
      "[I 2025-01-05 23:32:23,484] Trial 224 finished with value: 0.027300496054598646 and parameters: {'topK': 28, 'alpha': 0.3018010570366946}. Best is trial 124 with value: 0.027814196860498817.\n"
     ]
    },
    {
     "name": "stdout",
     "output_type": "stream",
     "text": [
      "P3alphaRecommender: Similarity column 38121 (100.0%), 5132.53 column/sec. Elapsed time 7.43 sec\n",
      "EvaluatorHoldout: Processed 34728 (100.0%) in 8.54 sec. Users per second: 4069\n"
     ]
    },
    {
     "name": "stderr",
     "output_type": "stream",
     "text": [
      "[I 2025-01-05 23:32:39,791] Trial 225 finished with value: 0.02775029892168729 and parameters: {'topK': 15, 'alpha': 0.29000425376808947}. Best is trial 124 with value: 0.027814196860498817.\n"
     ]
    },
    {
     "name": "stdout",
     "output_type": "stream",
     "text": [
      "P3alphaRecommender: Similarity column 38121 (100.0%), 5124.98 column/sec. Elapsed time 7.44 sec\n",
      "EvaluatorHoldout: Processed 34728 (100.0%) in 8.48 sec. Users per second: 4096\n"
     ]
    },
    {
     "name": "stderr",
     "output_type": "stream",
     "text": [
      "[I 2025-01-05 23:32:56,037] Trial 226 finished with value: 0.027729320698177913 and parameters: {'topK': 13, 'alpha': 0.2693841718889088}. Best is trial 124 with value: 0.027814196860498817.\n"
     ]
    },
    {
     "name": "stdout",
     "output_type": "stream",
     "text": [
      "P3alphaRecommender: Similarity column 38121 (100.0%), 5129.71 column/sec. Elapsed time 7.43 sec\n",
      "EvaluatorHoldout: Processed 34728 (100.0%) in 8.55 sec. Users per second: 4060\n"
     ]
    },
    {
     "name": "stderr",
     "output_type": "stream",
     "text": [
      "[I 2025-01-05 23:33:12,351] Trial 227 finished with value: 0.027711429960911003 and parameters: {'topK': 13, 'alpha': 0.32084741032462366}. Best is trial 124 with value: 0.027814196860498817.\n"
     ]
    },
    {
     "name": "stdout",
     "output_type": "stream",
     "text": [
      "P3alphaRecommender: Similarity column 38121 (100.0%), 5136.52 column/sec. Elapsed time 7.42 sec\n",
      "EvaluatorHoldout: Processed 34728 (100.0%) in 8.50 sec. Users per second: 4087\n"
     ]
    },
    {
     "name": "stderr",
     "output_type": "stream",
     "text": [
      "[I 2025-01-05 23:33:28,616] Trial 228 finished with value: 0.027749884133565127 and parameters: {'topK': 15, 'alpha': 0.30505916118708015}. Best is trial 124 with value: 0.027814196860498817.\n"
     ]
    },
    {
     "name": "stdout",
     "output_type": "stream",
     "text": [
      "P3alphaRecommender: Similarity column 38121 (100.0%), 5126.84 column/sec. Elapsed time 7.44 sec\n",
      "EvaluatorHoldout: Processed 34728 (100.0%) in 8.44 sec. Users per second: 4113\n"
     ]
    },
    {
     "name": "stderr",
     "output_type": "stream",
     "text": [
      "[I 2025-01-05 23:33:44,811] Trial 229 finished with value: 0.027614561508392817 and parameters: {'topK': 11, 'alpha': 0.29672717935215176}. Best is trial 124 with value: 0.027814196860498817.\n"
     ]
    },
    {
     "name": "stdout",
     "output_type": "stream",
     "text": [
      "P3alphaRecommender: Similarity column 38121 (100.0%), 5133.23 column/sec. Elapsed time 7.43 sec\n",
      "EvaluatorHoldout: Processed 34728 (100.0%) in 8.61 sec. Users per second: 4036\n"
     ]
    },
    {
     "name": "stderr",
     "output_type": "stream",
     "text": [
      "[I 2025-01-05 23:34:01,183] Trial 230 finished with value: 0.027773391079152214 and parameters: {'topK': 14, 'alpha': 0.28184854851590313}. Best is trial 124 with value: 0.027814196860498817.\n"
     ]
    },
    {
     "name": "stdout",
     "output_type": "stream",
     "text": [
      "P3alphaRecommender: Similarity column 38121 (100.0%), 5142.44 column/sec. Elapsed time 7.41 sec\n",
      "EvaluatorHoldout: Processed 34728 (100.0%) in 8.55 sec. Users per second: 4061\n"
     ]
    },
    {
     "name": "stderr",
     "output_type": "stream",
     "text": [
      "[I 2025-01-05 23:34:17,484] Trial 231 finished with value: 0.027761678742370777 and parameters: {'topK': 14, 'alpha': 0.2802669316146663}. Best is trial 124 with value: 0.027814196860498817.\n"
     ]
    },
    {
     "name": "stdout",
     "output_type": "stream",
     "text": [
      "P3alphaRecommender: Similarity column 38121 (100.0%), 5074.84 column/sec. Elapsed time 7.51 sec\n",
      "EvaluatorHoldout: Processed 34728 (100.0%) in 8.53 sec. Users per second: 4071\n"
     ]
    },
    {
     "name": "stderr",
     "output_type": "stream",
     "text": [
      "[I 2025-01-05 23:34:33,869] Trial 232 finished with value: 0.0277879463714373 and parameters: {'topK': 14, 'alpha': 0.28769712093060695}. Best is trial 124 with value: 0.027814196860498817.\n"
     ]
    },
    {
     "name": "stdout",
     "output_type": "stream",
     "text": [
      "P3alphaRecommender: Similarity column 38121 (100.0%), 5106.40 column/sec. Elapsed time 7.47 sec\n",
      "EvaluatorHoldout: Processed 34728 (100.0%) in 8.54 sec. Users per second: 4066\n"
     ]
    },
    {
     "name": "stderr",
     "output_type": "stream",
     "text": [
      "[I 2025-01-05 23:34:50,220] Trial 233 finished with value: 0.027792910116898658 and parameters: {'topK': 14, 'alpha': 0.29381684614769893}. Best is trial 124 with value: 0.027814196860498817.\n"
     ]
    },
    {
     "name": "stdout",
     "output_type": "stream",
     "text": [
      "P3alphaRecommender: Similarity column 38121 (100.0%), 5085.47 column/sec. Elapsed time 7.50 sec\n",
      "EvaluatorHoldout: Processed 34728 (100.0%) in 8.69 sec. Users per second: 3998\n"
     ]
    },
    {
     "name": "stderr",
     "output_type": "stream",
     "text": [
      "[I 2025-01-05 23:35:06,753] Trial 234 finished with value: 0.027763009949429398 and parameters: {'topK': 15, 'alpha': 0.2935366506424144}. Best is trial 124 with value: 0.027814196860498817.\n"
     ]
    },
    {
     "name": "stdout",
     "output_type": "stream",
     "text": [
      "P3alphaRecommender: Similarity column 38121 (100.0%), 5107.38 column/sec. Elapsed time 7.46 sec\n",
      "EvaluatorHoldout: Processed 34728 (100.0%) in 8.57 sec. Users per second: 4051\n"
     ]
    },
    {
     "name": "stderr",
     "output_type": "stream",
     "text": [
      "[I 2025-01-05 23:35:23,121] Trial 235 finished with value: 0.02771641198904435 and parameters: {'topK': 13, 'alpha': 0.3066856542215636}. Best is trial 124 with value: 0.027814196860498817.\n"
     ]
    },
    {
     "name": "stdout",
     "output_type": "stream",
     "text": [
      "P3alphaRecommender: Similarity column 38121 (100.0%), 5084.98 column/sec. Elapsed time 7.50 sec\n",
      "EvaluatorHoldout: Processed 34728 (100.0%) in 8.61 sec. Users per second: 4035\n"
     ]
    },
    {
     "name": "stderr",
     "output_type": "stream",
     "text": [
      "[I 2025-01-05 23:35:39,579] Trial 236 finished with value: 0.02771777404811195 and parameters: {'topK': 16, 'alpha': 0.29826426980336057}. Best is trial 124 with value: 0.027814196860498817.\n"
     ]
    },
    {
     "name": "stdout",
     "output_type": "stream",
     "text": [
      "P3alphaRecommender: Similarity column 38121 (100.0%), 5152.04 column/sec. Elapsed time 7.40 sec\n",
      "EvaluatorHoldout: Processed 34728 (100.0%) in 8.46 sec. Users per second: 4104\n"
     ]
    },
    {
     "name": "stderr",
     "output_type": "stream",
     "text": [
      "[I 2025-01-05 23:35:55,773] Trial 237 finished with value: 0.02778083326934325 and parameters: {'topK': 14, 'alpha': 0.31890999508081697}. Best is trial 124 with value: 0.027814196860498817.\n"
     ]
    },
    {
     "name": "stdout",
     "output_type": "stream",
     "text": [
      "P3alphaRecommender: Similarity column 38121 (100.0%), 5111.70 column/sec. Elapsed time 7.46 sec\n",
      "EvaluatorHoldout: Processed 34728 (100.0%) in 8.60 sec. Users per second: 4039\n"
     ]
    },
    {
     "name": "stderr",
     "output_type": "stream",
     "text": [
      "[I 2025-01-05 23:36:12,153] Trial 238 finished with value: 0.02704458320992455 and parameters: {'topK': 12, 'alpha': 0.6948395359232669}. Best is trial 124 with value: 0.027814196860498817.\n"
     ]
    },
    {
     "name": "stdout",
     "output_type": "stream",
     "text": [
      "P3alphaRecommender: Similarity column 38121 (100.0%), 5130.95 column/sec. Elapsed time 7.43 sec\n",
      "EvaluatorHoldout: Processed 34728 (100.0%) in 8.70 sec. Users per second: 3991\n"
     ]
    },
    {
     "name": "stderr",
     "output_type": "stream",
     "text": [
      "[I 2025-01-05 23:36:28,639] Trial 239 finished with value: 0.027767612612117708 and parameters: {'topK': 16, 'alpha': 0.3338954759789277}. Best is trial 124 with value: 0.027814196860498817.\n"
     ]
    },
    {
     "name": "stdout",
     "output_type": "stream",
     "text": [
      "P3alphaRecommender: Similarity column 38121 (100.0%), 5114.47 column/sec. Elapsed time 7.45 sec\n",
      "EvaluatorHoldout: Processed 34728 (100.0%) in 8.59 sec. Users per second: 4044\n"
     ]
    },
    {
     "name": "stderr",
     "output_type": "stream",
     "text": [
      "[I 2025-01-05 23:36:45,020] Trial 240 finished with value: 0.027780394485214077 and parameters: {'topK': 14, 'alpha': 0.31961992720902127}. Best is trial 124 with value: 0.027814196860498817.\n"
     ]
    },
    {
     "name": "stdout",
     "output_type": "stream",
     "text": [
      "P3alphaRecommender: Similarity column 38121 (100.0%), 5124.42 column/sec. Elapsed time 7.44 sec\n",
      "EvaluatorHoldout: Processed 34728 (100.0%) in 8.60 sec. Users per second: 4038\n"
     ]
    },
    {
     "name": "stderr",
     "output_type": "stream",
     "text": [
      "[I 2025-01-05 23:37:01,406] Trial 241 finished with value: 0.0277663990997605 and parameters: {'topK': 14, 'alpha': 0.31793976351807274}. Best is trial 124 with value: 0.027814196860498817.\n"
     ]
    },
    {
     "name": "stdout",
     "output_type": "stream",
     "text": [
      "P3alphaRecommender: Similarity column 38121 (100.0%), 4976.23 column/sec. Elapsed time 7.66 sec\n",
      "EvaluatorHoldout: Processed 34728 (100.0%) in 8.67 sec. Users per second: 4004\n"
     ]
    },
    {
     "name": "stderr",
     "output_type": "stream",
     "text": [
      "[I 2025-01-05 23:37:18,084] Trial 242 finished with value: 0.027728408849909465 and parameters: {'topK': 15, 'alpha': 0.3213873934530341}. Best is trial 124 with value: 0.027814196860498817.\n"
     ]
    },
    {
     "name": "stdout",
     "output_type": "stream",
     "text": [
      "P3alphaRecommender: Similarity column 38121 (100.0%), 5027.44 column/sec. Elapsed time 7.58 sec\n",
      "EvaluatorHoldout: Processed 34728 (100.0%) in 8.90 sec. Users per second: 3901\n"
     ]
    },
    {
     "name": "stderr",
     "output_type": "stream",
     "text": [
      "[I 2025-01-05 23:37:34,903] Trial 243 finished with value: 0.027720034243444068 and parameters: {'topK': 13, 'alpha': 0.3079459942191727}. Best is trial 124 with value: 0.027814196860498817.\n"
     ]
    },
    {
     "name": "stdout",
     "output_type": "stream",
     "text": [
      "P3alphaRecommender: Similarity column 38121 (100.0%), 4872.80 column/sec. Elapsed time 7.82 sec\n",
      "EvaluatorHoldout: Processed 34728 (100.0%) in 8.98 sec. Users per second: 3868\n"
     ]
    },
    {
     "name": "stderr",
     "output_type": "stream",
     "text": [
      "[I 2025-01-05 23:37:52,061] Trial 244 finished with value: 0.027744410758620455 and parameters: {'topK': 15, 'alpha': 0.33020281128153567}. Best is trial 124 with value: 0.027814196860498817.\n"
     ]
    },
    {
     "name": "stdout",
     "output_type": "stream",
     "text": [
      "P3alphaRecommender: Similarity column 38121 (100.0%), 5125.53 column/sec. Elapsed time 7.44 sec\n",
      "EvaluatorHoldout: Processed 34728 (100.0%) in 8.52 sec. Users per second: 4077\n"
     ]
    },
    {
     "name": "stderr",
     "output_type": "stream",
     "text": [
      "[I 2025-01-05 23:38:08,341] Trial 245 finished with value: 0.027717117014585266 and parameters: {'topK': 13, 'alpha': 0.31109071857447684}. Best is trial 124 with value: 0.027814196860498817.\n"
     ]
    },
    {
     "name": "stdout",
     "output_type": "stream",
     "text": [
      "P3alphaRecommender: Similarity column 38121 (100.0%), 5063.19 column/sec. Elapsed time 7.53 sec\n",
      "EvaluatorHoldout: Processed 34728 (100.0%) in 8.65 sec. Users per second: 4013\n"
     ]
    },
    {
     "name": "stderr",
     "output_type": "stream",
     "text": [
      "[I 2025-01-05 23:38:24,858] Trial 246 finished with value: 0.02780302843321085 and parameters: {'topK': 14, 'alpha': 0.2953420132677536}. Best is trial 124 with value: 0.027814196860498817.\n"
     ]
    },
    {
     "name": "stdout",
     "output_type": "stream",
     "text": [
      "P3alphaRecommender: Similarity column 38121 (100.0%), 5086.08 column/sec. Elapsed time 7.50 sec\n",
      "EvaluatorHoldout: Processed 34728 (100.0%) in 8.49 sec. Users per second: 4092\n"
     ]
    },
    {
     "name": "stderr",
     "output_type": "stream",
     "text": [
      "[I 2025-01-05 23:38:41,161] Trial 247 finished with value: 0.027720491310245256 and parameters: {'topK': 13, 'alpha': 0.30067987479471275}. Best is trial 124 with value: 0.027814196860498817.\n"
     ]
    },
    {
     "name": "stdout",
     "output_type": "stream",
     "text": [
      "P3alphaRecommender: Similarity column 38121 (100.0%), 5098.77 column/sec. Elapsed time 7.48 sec\n",
      "EvaluatorHoldout: Processed 34728 (100.0%) in 8.61 sec. Users per second: 4034\n"
     ]
    },
    {
     "name": "stderr",
     "output_type": "stream",
     "text": [
      "[I 2025-01-05 23:38:57,584] Trial 248 finished with value: 0.027719300651228008 and parameters: {'topK': 15, 'alpha': 0.31752628739935806}. Best is trial 124 with value: 0.027814196860498817.\n"
     ]
    },
    {
     "name": "stdout",
     "output_type": "stream",
     "text": [
      "P3alphaRecommender: Similarity column 38121 (100.0%), 5037.98 column/sec. Elapsed time 7.57 sec\n",
      "EvaluatorHoldout: Processed 34728 (100.0%) in 8.82 sec. Users per second: 3937\n"
     ]
    },
    {
     "name": "stderr",
     "output_type": "stream",
     "text": [
      "[I 2025-01-05 23:39:14,310] Trial 249 finished with value: 0.027801197880671934 and parameters: {'topK': 14, 'alpha': 0.2952964702783613}. Best is trial 124 with value: 0.027814196860498817.\n"
     ]
    },
    {
     "name": "stdout",
     "output_type": "stream",
     "text": [
      "P3alphaRecommender: Similarity column 38121 (100.0%), 5003.85 column/sec. Elapsed time 7.62 sec\n",
      "EvaluatorHoldout: Processed 34728 (100.0%) in 8.90 sec. Users per second: 3902\n"
     ]
    },
    {
     "name": "stderr",
     "output_type": "stream",
     "text": [
      "[I 2025-01-05 23:39:31,152] Trial 250 finished with value: 0.027686182733478133 and parameters: {'topK': 12, 'alpha': 0.29510529047214}. Best is trial 124 with value: 0.027814196860498817.\n"
     ]
    },
    {
     "name": "stdout",
     "output_type": "stream",
     "text": [
      "P3alphaRecommender: Similarity column 38121 (100.0%), 4846.58 column/sec. Elapsed time 7.87 sec\n",
      "EvaluatorHoldout: Processed 34728 (100.0%) in 8.91 sec. Users per second: 3899\n"
     ]
    },
    {
     "name": "stderr",
     "output_type": "stream",
     "text": [
      "[I 2025-01-05 23:39:48,289] Trial 251 finished with value: 0.027725192242295887 and parameters: {'topK': 16, 'alpha': 0.308377812255947}. Best is trial 124 with value: 0.027814196860498817.\n"
     ]
    },
    {
     "name": "stdout",
     "output_type": "stream",
     "text": [
      "P3alphaRecommender: Similarity column 38121 (100.0%), 4967.88 column/sec. Elapsed time 7.67 sec\n",
      "EvaluatorHoldout: Processed 34728 (100.0%) in 8.81 sec. Users per second: 3941\n"
     ]
    },
    {
     "name": "stderr",
     "output_type": "stream",
     "text": [
      "[I 2025-01-05 23:40:05,119] Trial 252 finished with value: 0.02773151347615681 and parameters: {'topK': 15, 'alpha': 0.32594093778388444}. Best is trial 124 with value: 0.027814196860498817.\n"
     ]
    },
    {
     "name": "stdout",
     "output_type": "stream",
     "text": [
      "P3alphaRecommender: Similarity column 38121 (100.0%), 5036.25 column/sec. Elapsed time 7.57 sec\n",
      "EvaluatorHoldout: Processed 34728 (100.0%) in 8.58 sec. Users per second: 4047\n"
     ]
    },
    {
     "name": "stderr",
     "output_type": "stream",
     "text": [
      "[I 2025-01-05 23:40:21,595] Trial 253 finished with value: 0.027672514150787503 and parameters: {'topK': 13, 'alpha': 0.34300163875490114}. Best is trial 124 with value: 0.027814196860498817.\n"
     ]
    },
    {
     "name": "stdout",
     "output_type": "stream",
     "text": [
      "P3alphaRecommender: Similarity column 38121 (100.0%), 5068.75 column/sec. Elapsed time 7.52 sec\n",
      "EvaluatorHoldout: Processed 34728 (100.0%) in 8.66 sec. Users per second: 4010\n"
     ]
    },
    {
     "name": "stderr",
     "output_type": "stream",
     "text": [
      "[I 2025-01-05 23:40:38,132] Trial 254 finished with value: 0.027708871529491017 and parameters: {'topK': 17, 'alpha': 0.29347187881020553}. Best is trial 124 with value: 0.027814196860498817.\n"
     ]
    },
    {
     "name": "stdout",
     "output_type": "stream",
     "text": [
      "P3alphaRecommender: Similarity column 38121 (100.0%), 4914.03 column/sec. Elapsed time 7.76 sec\n",
      "EvaluatorHoldout: Processed 34728 (100.0%) in 8.90 sec. Users per second: 3901\n"
     ]
    },
    {
     "name": "stderr",
     "output_type": "stream",
     "text": [
      "[I 2025-01-05 23:40:55,128] Trial 255 finished with value: 0.027798298934485155 and parameters: {'topK': 14, 'alpha': 0.30781551690885306}. Best is trial 124 with value: 0.027814196860498817.\n"
     ]
    },
    {
     "name": "stdout",
     "output_type": "stream",
     "text": [
      "P3alphaRecommender: Similarity column 38121 (100.0%), 5020.13 column/sec. Elapsed time 7.59 sec\n",
      "EvaluatorHoldout: Processed 34728 (100.0%) in 8.80 sec. Users per second: 3944\n"
     ]
    },
    {
     "name": "stderr",
     "output_type": "stream",
     "text": [
      "[I 2025-01-05 23:41:11,870] Trial 256 finished with value: 0.027756476179505878 and parameters: {'topK': 14, 'alpha': 0.3134438154049762}. Best is trial 124 with value: 0.027814196860498817.\n"
     ]
    },
    {
     "name": "stdout",
     "output_type": "stream",
     "text": [
      "P3alphaRecommender: Similarity column 38121 (100.0%), 5069.41 column/sec. Elapsed time 7.52 sec\n",
      "EvaluatorHoldout: Processed 34728 (100.0%) in 8.59 sec. Users per second: 4041\n"
     ]
    },
    {
     "name": "stderr",
     "output_type": "stream",
     "text": [
      "[I 2025-01-05 23:41:28,298] Trial 257 finished with value: 0.02765941804426527 and parameters: {'topK': 12, 'alpha': 0.3044247377215713}. Best is trial 124 with value: 0.027814196860498817.\n"
     ]
    },
    {
     "name": "stdout",
     "output_type": "stream",
     "text": [
      "P3alphaRecommender: Similarity column 38121 (100.0%), 5098.02 column/sec. Elapsed time 7.48 sec\n",
      "EvaluatorHoldout: Processed 34728 (100.0%) in 8.53 sec. Users per second: 4069\n"
     ]
    },
    {
     "name": "stderr",
     "output_type": "stream",
     "text": [
      "[I 2025-01-05 23:41:44,641] Trial 258 finished with value: 0.02777798574317158 and parameters: {'topK': 14, 'alpha': 0.32267554301837115}. Best is trial 124 with value: 0.027814196860498817.\n"
     ]
    },
    {
     "name": "stdout",
     "output_type": "stream",
     "text": [
      "P3alphaRecommender: Similarity column 38121 (100.0%), 5112.88 column/sec. Elapsed time 7.46 sec\n",
      "EvaluatorHoldout: Processed 34728 (100.0%) in 8.63 sec. Users per second: 4022\n"
     ]
    },
    {
     "name": "stderr",
     "output_type": "stream",
     "text": [
      "[I 2025-01-05 23:42:01,079] Trial 259 finished with value: 0.02774801473034815 and parameters: {'topK': 16, 'alpha': 0.3138774523697788}. Best is trial 124 with value: 0.027814196860498817.\n"
     ]
    },
    {
     "name": "stdout",
     "output_type": "stream",
     "text": [
      "P3alphaRecommender: Similarity column 38121 (100.0%), 5072.38 column/sec. Elapsed time 7.52 sec\n",
      "EvaluatorHoldout: Processed 34728 (100.0%) in 8.71 sec. Users per second: 3988\n"
     ]
    },
    {
     "name": "stderr",
     "output_type": "stream",
     "text": [
      "[I 2025-01-05 23:42:17,642] Trial 260 finished with value: 0.027746693807292562 and parameters: {'topK': 15, 'alpha': 0.2998901207370625}. Best is trial 124 with value: 0.027814196860498817.\n"
     ]
    },
    {
     "name": "stdout",
     "output_type": "stream",
     "text": [
      "P3alphaRecommender: Similarity column 38121 (100.0%), 5113.10 column/sec. Elapsed time 7.46 sec\n",
      "EvaluatorHoldout: Processed 34728 (100.0%) in 8.84 sec. Users per second: 3930\n"
     ]
    },
    {
     "name": "stderr",
     "output_type": "stream",
     "text": [
      "[I 2025-01-05 23:42:34,246] Trial 261 finished with value: 0.02762510946749814 and parameters: {'topK': 11, 'alpha': 0.2937539128994586}. Best is trial 124 with value: 0.027814196860498817.\n"
     ]
    },
    {
     "name": "stdout",
     "output_type": "stream",
     "text": [
      "P3alphaRecommender: Similarity column 38121 (100.0%), 5149.48 column/sec. Elapsed time 7.40 sec\n",
      "EvaluatorHoldout: Processed 34728 (100.0%) in 8.72 sec. Users per second: 3984\n"
     ]
    },
    {
     "name": "stderr",
     "output_type": "stream",
     "text": [
      "[I 2025-01-05 23:42:50,692] Trial 262 finished with value: 0.027730020010383893 and parameters: {'topK': 13, 'alpha': 0.32629759754800397}. Best is trial 124 with value: 0.027814196860498817.\n"
     ]
    },
    {
     "name": "stdout",
     "output_type": "stream",
     "text": [
      "P3alphaRecommender: Similarity column 38121 (100.0%), 5057.34 column/sec. Elapsed time 7.54 sec\n",
      "EvaluatorHoldout: Processed 34728 (100.0%) in 8.66 sec. Users per second: 4010\n"
     ]
    },
    {
     "name": "stderr",
     "output_type": "stream",
     "text": [
      "[I 2025-01-05 23:43:07,228] Trial 263 finished with value: 0.0277339450715394 and parameters: {'topK': 14, 'alpha': 0.3388984760294821}. Best is trial 124 with value: 0.027814196860498817.\n"
     ]
    },
    {
     "name": "stdout",
     "output_type": "stream",
     "text": [
      "P3alphaRecommender: Similarity column 38121 (100.0%), 5037.18 column/sec. Elapsed time 7.57 sec\n",
      "EvaluatorHoldout: Processed 34728 (100.0%) in 9.02 sec. Users per second: 3849\n"
     ]
    },
    {
     "name": "stderr",
     "output_type": "stream",
     "text": [
      "[I 2025-01-05 23:43:24,139] Trial 264 finished with value: 0.02766429151903335 and parameters: {'topK': 12, 'alpha': 0.30359859972109193}. Best is trial 124 with value: 0.027814196860498817.\n"
     ]
    },
    {
     "name": "stdout",
     "output_type": "stream",
     "text": [
      "P3alphaRecommender: Similarity column 38121 (100.0%), 4830.15 column/sec. Elapsed time 7.89 sec\n",
      "EvaluatorHoldout: Processed 34728 (100.0%) in 9.49 sec. Users per second: 3659\n"
     ]
    },
    {
     "name": "stderr",
     "output_type": "stream",
     "text": [
      "[I 2025-01-05 23:43:41,896] Trial 265 finished with value: 0.027505521366958066 and parameters: {'topK': 15, 'alpha': 0.5785247467217863}. Best is trial 124 with value: 0.027814196860498817.\n"
     ]
    },
    {
     "name": "stdout",
     "output_type": "stream",
     "text": [
      "P3alphaRecommender: Similarity column 38121 (100.0%), 3982.19 column/sec. Elapsed time 9.57 sec\n",
      "EvaluatorHoldout: Processed 34728 (100.0%) in 9.01 sec. Users per second: 3855\n"
     ]
    },
    {
     "name": "stderr",
     "output_type": "stream",
     "text": [
      "[I 2025-01-05 23:44:00,961] Trial 266 finished with value: 0.02771663937977797 and parameters: {'topK': 13, 'alpha': 0.31197743799033545}. Best is trial 124 with value: 0.027814196860498817.\n"
     ]
    },
    {
     "name": "stdout",
     "output_type": "stream",
     "text": [
      "P3alphaRecommender: Similarity column 38121 (100.0%), 4733.34 column/sec. Elapsed time 8.05 sec\n",
      "EvaluatorHoldout: Processed 34728 (100.0%) in 9.06 sec. Users per second: 3834\n"
     ]
    },
    {
     "name": "stderr",
     "output_type": "stream",
     "text": [
      "[I 2025-01-05 23:44:18,419] Trial 267 finished with value: 0.027793660849119665 and parameters: {'topK': 14, 'alpha': 0.2893806515937151}. Best is trial 124 with value: 0.027814196860498817.\n"
     ]
    },
    {
     "name": "stdout",
     "output_type": "stream",
     "text": [
      "P3alphaRecommender: Similarity column 38121 (100.0%), 4710.88 column/sec. Elapsed time 8.09 sec\n",
      "EvaluatorHoldout: Processed 34728 (100.0%) in 9.15 sec. Users per second: 3797\n"
     ]
    },
    {
     "name": "stderr",
     "output_type": "stream",
     "text": [
      "[I 2025-01-05 23:44:36,021] Trial 268 finished with value: 0.027715512710112866 and parameters: {'topK': 16, 'alpha': 0.29327250198526106}. Best is trial 124 with value: 0.027814196860498817.\n"
     ]
    },
    {
     "name": "stdout",
     "output_type": "stream",
     "text": [
      "P3alphaRecommender: Similarity column 38121 (100.0%), 4797.49 column/sec. Elapsed time 7.95 sec\n",
      "EvaluatorHoldout: Processed 34728 (100.0%) in 8.90 sec. Users per second: 3900\n"
     ]
    },
    {
     "name": "stderr",
     "output_type": "stream",
     "text": [
      "[I 2025-01-05 23:44:53,139] Trial 269 finished with value: 0.025479014006354442 and parameters: {'topK': 5, 'alpha': 0.30214339510492727}. Best is trial 124 with value: 0.027814196860498817.\n"
     ]
    },
    {
     "name": "stdout",
     "output_type": "stream",
     "text": [
      "P3alphaRecommender: Similarity column 38121 (100.0%), 4745.62 column/sec. Elapsed time 8.03 sec\n",
      "EvaluatorHoldout: Processed 34728 (100.0%) in 9.07 sec. Users per second: 3829\n"
     ]
    },
    {
     "name": "stderr",
     "output_type": "stream",
     "text": [
      "[I 2025-01-05 23:45:10,587] Trial 270 finished with value: 0.027764570832555593 and parameters: {'topK': 14, 'alpha': 0.3174542577629756}. Best is trial 124 with value: 0.027814196860498817.\n"
     ]
    },
    {
     "name": "stdout",
     "output_type": "stream",
     "text": [
      "P3alphaRecommender: Similarity column 38121 (100.0%), 4753.41 column/sec. Elapsed time 8.02 sec\n",
      "EvaluatorHoldout: Processed 34728 (100.0%) in 8.89 sec. Users per second: 3907\n"
     ]
    },
    {
     "name": "stderr",
     "output_type": "stream",
     "text": [
      "[I 2025-01-05 23:45:27,858] Trial 271 finished with value: 0.027504787774742006 and parameters: {'topK': 15, 'alpha': 0.6261132110002279}. Best is trial 124 with value: 0.027814196860498817.\n"
     ]
    },
    {
     "name": "stdout",
     "output_type": "stream",
     "text": [
      "P3alphaRecommender: Similarity column 38121 (100.0%), 4891.64 column/sec. Elapsed time 7.79 sec\n",
      "EvaluatorHoldout: Processed 34728 (100.0%) in 9.11 sec. Users per second: 3813\n"
     ]
    },
    {
     "name": "stderr",
     "output_type": "stream",
     "text": [
      "[I 2025-01-05 23:45:45,093] Trial 272 finished with value: 0.027720289058185736 and parameters: {'topK': 13, 'alpha': 0.29030890768770523}. Best is trial 124 with value: 0.027814196860498817.\n"
     ]
    },
    {
     "name": "stdout",
     "output_type": "stream",
     "text": [
      "P3alphaRecommender: Similarity column 38121 (100.0%), 4892.75 column/sec. Elapsed time 7.79 sec\n",
      "EvaluatorHoldout: Processed 34728 (100.0%) in 9.00 sec. Users per second: 3858\n"
     ]
    },
    {
     "name": "stderr",
     "output_type": "stream",
     "text": [
      "[I 2025-01-05 23:46:02,207] Trial 273 finished with value: 0.027662783198589315 and parameters: {'topK': 12, 'alpha': 0.27327040832511507}. Best is trial 124 with value: 0.027814196860498817.\n"
     ]
    },
    {
     "name": "stdout",
     "output_type": "stream",
     "text": [
      "P3alphaRecommender: Similarity column 38121 (100.0%), 4853.85 column/sec. Elapsed time 7.85 sec\n",
      "EvaluatorHoldout: Processed 34728 (100.0%) in 8.98 sec. Users per second: 3867\n"
     ]
    },
    {
     "name": "stderr",
     "output_type": "stream",
     "text": [
      "[I 2025-01-05 23:46:19,379] Trial 274 finished with value: 0.02779497034550523 and parameters: {'topK': 14, 'alpha': 0.3098176400514497}. Best is trial 124 with value: 0.027814196860498817.\n"
     ]
    },
    {
     "name": "stdout",
     "output_type": "stream",
     "text": [
      "P3alphaRecommender: Similarity column 38121 (100.0%), 4781.91 column/sec. Elapsed time 7.97 sec\n",
      "EvaluatorHoldout: Processed 34728 (100.0%) in 9.15 sec. Users per second: 3797\n"
     ]
    },
    {
     "name": "stderr",
     "output_type": "stream",
     "text": [
      "[I 2025-01-05 23:46:36,871] Trial 275 finished with value: 0.027733877654186136 and parameters: {'topK': 17, 'alpha': 0.3078591736831565}. Best is trial 124 with value: 0.027814196860498817.\n"
     ]
    },
    {
     "name": "stdout",
     "output_type": "stream",
     "text": [
      "P3alphaRecommender: Similarity column 38121 (100.0%), 4932.69 column/sec. Elapsed time 7.73 sec\n",
      "EvaluatorHoldout: Processed 34728 (100.0%) in 9.14 sec. Users per second: 3799\n"
     ]
    },
    {
     "name": "stderr",
     "output_type": "stream",
     "text": [
      "[I 2025-01-05 23:46:54,079] Trial 276 finished with value: 0.027676686028015686 and parameters: {'topK': 13, 'alpha': 0.4110599491256186}. Best is trial 124 with value: 0.027814196860498817.\n"
     ]
    },
    {
     "name": "stdout",
     "output_type": "stream",
     "text": [
      "P3alphaRecommender: Similarity column 38121 (100.0%), 4793.40 column/sec. Elapsed time 7.95 sec\n",
      "EvaluatorHoldout: Processed 34728 (100.0%) in 8.95 sec. Users per second: 3879\n"
     ]
    },
    {
     "name": "stderr",
     "output_type": "stream",
     "text": [
      "[I 2025-01-05 23:47:11,345] Trial 277 finished with value: 0.02755268494750968 and parameters: {'topK': 15, 'alpha': 0.5278326962913482}. Best is trial 124 with value: 0.027814196860498817.\n"
     ]
    },
    {
     "name": "stdout",
     "output_type": "stream",
     "text": [
      "P3alphaRecommender: Similarity column 38121 (100.0%), 4864.20 column/sec. Elapsed time 7.84 sec\n",
      "EvaluatorHoldout: Processed 34728 (100.0%) in 9.05 sec. Users per second: 3837\n"
     ]
    },
    {
     "name": "stderr",
     "output_type": "stream",
     "text": [
      "[I 2025-01-05 23:47:28,592] Trial 278 finished with value: 0.02772897675541002 and parameters: {'topK': 16, 'alpha': 0.29969226085415274}. Best is trial 124 with value: 0.027814196860498817.\n"
     ]
    },
    {
     "name": "stdout",
     "output_type": "stream",
     "text": [
      "P3alphaRecommender: Similarity column 38121 (100.0%), 4821.64 column/sec. Elapsed time 7.91 sec\n",
      "EvaluatorHoldout: Processed 34728 (100.0%) in 9.04 sec. Users per second: 3843\n"
     ]
    },
    {
     "name": "stderr",
     "output_type": "stream",
     "text": [
      "[I 2025-01-05 23:47:45,851] Trial 279 finished with value: 0.027632584795032236 and parameters: {'topK': 11, 'alpha': 0.28986105096390935}. Best is trial 124 with value: 0.027814196860498817.\n"
     ]
    },
    {
     "name": "stdout",
     "output_type": "stream",
     "text": [
      "P3alphaRecommender: Similarity column 38121 (100.0%), 4949.01 column/sec. Elapsed time 7.70 sec\n",
      "EvaluatorHoldout: Processed 34728 (100.0%) in 9.07 sec. Users per second: 3828\n"
     ]
    },
    {
     "name": "stderr",
     "output_type": "stream",
     "text": [
      "[I 2025-01-05 23:48:02,970] Trial 280 finished with value: 0.027754524504264577 and parameters: {'topK': 14, 'alpha': 0.2749506572348377}. Best is trial 124 with value: 0.027814196860498817.\n"
     ]
    },
    {
     "name": "stdout",
     "output_type": "stream",
     "text": [
      "P3alphaRecommender: Similarity column 38121 (100.0%), 4698.69 column/sec. Elapsed time 8.11 sec\n",
      "EvaluatorHoldout: Processed 34728 (100.0%) in 9.04 sec. Users per second: 3842\n"
     ]
    },
    {
     "name": "stderr",
     "output_type": "stream",
     "text": [
      "[I 2025-01-05 23:48:20,626] Trial 281 finished with value: 0.027149253792739646 and parameters: {'topK': 31, 'alpha': 0.3069523793108567}. Best is trial 124 with value: 0.027814196860498817.\n"
     ]
    },
    {
     "name": "stdout",
     "output_type": "stream",
     "text": [
      "P3alphaRecommender: Similarity column 38121 (100.0%), 4901.21 column/sec. Elapsed time 7.78 sec\n",
      "EvaluatorHoldout: Processed 34728 (100.0%) in 8.98 sec. Users per second: 3866\n"
     ]
    },
    {
     "name": "stderr",
     "output_type": "stream",
     "text": [
      "[I 2025-01-05 23:48:37,720] Trial 282 finished with value: 0.027729175579468614 and parameters: {'topK': 13, 'alpha': 0.28942693975514006}. Best is trial 124 with value: 0.027814196860498817.\n"
     ]
    },
    {
     "name": "stdout",
     "output_type": "stream",
     "text": [
      "P3alphaRecommender: Similarity column 38121 (100.0%), 4954.03 column/sec. Elapsed time 7.69 sec\n",
      "EvaluatorHoldout: Processed 34728 (100.0%) in 9.12 sec. Users per second: 3807\n"
     ]
    },
    {
     "name": "stderr",
     "output_type": "stream",
     "text": [
      "[I 2025-01-05 23:48:54,888] Trial 283 finished with value: 0.02775729204374607 and parameters: {'topK': 15, 'alpha': 0.2965427709426776}. Best is trial 124 with value: 0.027814196860498817.\n"
     ]
    },
    {
     "name": "stdout",
     "output_type": "stream",
     "text": [
      "P3alphaRecommender: Similarity column 38121 (100.0%), 4832.87 column/sec. Elapsed time 7.89 sec\n",
      "EvaluatorHoldout: Processed 34728 (100.0%) in 9.06 sec. Users per second: 3831\n"
     ]
    },
    {
     "name": "stderr",
     "output_type": "stream",
     "text": [
      "[I 2025-01-05 23:49:12,193] Trial 284 finished with value: 0.027352615381942648 and parameters: {'topK': 14, 'alpha': 0.6639375424259031}. Best is trial 124 with value: 0.027814196860498817.\n"
     ]
    },
    {
     "name": "stdout",
     "output_type": "stream",
     "text": [
      "P3alphaRecommender: Similarity column 38121 (100.0%), 4912.29 column/sec. Elapsed time 7.76 sec\n",
      "EvaluatorHoldout: Processed 34728 (100.0%) in 8.71 sec. Users per second: 3988\n"
     ]
    },
    {
     "name": "stderr",
     "output_type": "stream",
     "text": [
      "[I 2025-01-05 23:49:28,989] Trial 285 finished with value: 0.027725098543601712 and parameters: {'topK': 13, 'alpha': 0.3130138718382921}. Best is trial 124 with value: 0.027814196860498817.\n"
     ]
    },
    {
     "name": "stdout",
     "output_type": "stream",
     "text": [
      "P3alphaRecommender: Similarity column 38121 (100.0%), 4824.95 column/sec. Elapsed time 7.90 sec\n",
      "EvaluatorHoldout: Processed 34728 (100.0%) in 8.95 sec. Users per second: 3880\n"
     ]
    },
    {
     "name": "stderr",
     "output_type": "stream",
     "text": [
      "[I 2025-01-05 23:49:46,169] Trial 286 finished with value: 0.027659556306972657 and parameters: {'topK': 12, 'alpha': 0.27622004619554863}. Best is trial 124 with value: 0.027814196860498817.\n"
     ]
    },
    {
     "name": "stdout",
     "output_type": "stream",
     "text": [
      "P3alphaRecommender: Similarity column 38121 (100.0%), 5034.22 column/sec. Elapsed time 7.57 sec\n",
      "EvaluatorHoldout: Processed 34728 (100.0%) in 8.79 sec. Users per second: 3951\n"
     ]
    },
    {
     "name": "stderr",
     "output_type": "stream",
     "text": [
      "[I 2025-01-05 23:50:02,892] Trial 287 finished with value: 0.027697214040725702 and parameters: {'topK': 17, 'alpha': 0.2983962390814451}. Best is trial 124 with value: 0.027814196860498817.\n"
     ]
    },
    {
     "name": "stdout",
     "output_type": "stream",
     "text": [
      "P3alphaRecommender: Similarity column 38121 (100.0%), 4861.03 column/sec. Elapsed time 7.84 sec\n",
      "EvaluatorHoldout: Processed 34728 (100.0%) in 8.67 sec. Users per second: 4005\n"
     ]
    },
    {
     "name": "stderr",
     "output_type": "stream",
     "text": [
      "[I 2025-01-05 23:50:19,766] Trial 288 finished with value: 0.02769172124044199 and parameters: {'topK': 16, 'alpha': 0.2869821691742978}. Best is trial 124 with value: 0.027814196860498817.\n"
     ]
    },
    {
     "name": "stdout",
     "output_type": "stream",
     "text": [
      "P3alphaRecommender: Similarity column 38121 (100.0%), 4658.63 column/sec. Elapsed time 8.18 sec\n",
      "EvaluatorHoldout: Processed 34728 (100.0%) in 8.91 sec. Users per second: 3898\n"
     ]
    },
    {
     "name": "stderr",
     "output_type": "stream",
     "text": [
      "[I 2025-01-05 23:50:37,216] Trial 289 finished with value: 0.027738268923478995 and parameters: {'topK': 15, 'alpha': 0.26830487150706445}. Best is trial 124 with value: 0.027814196860498817.\n"
     ]
    },
    {
     "name": "stdout",
     "output_type": "stream",
     "text": [
      "P3alphaRecommender: Similarity column 38121 (100.0%), 4969.40 column/sec. Elapsed time 7.67 sec\n",
      "EvaluatorHoldout: Processed 34728 (100.0%) in 9.04 sec. Users per second: 3842\n"
     ]
    },
    {
     "name": "stderr",
     "output_type": "stream",
     "text": [
      "[I 2025-01-05 23:50:54,273] Trial 290 finished with value: 0.027756489891509917 and parameters: {'topK': 14, 'alpha': 0.32766610669224194}. Best is trial 124 with value: 0.027814196860498817.\n"
     ]
    },
    {
     "name": "stdout",
     "output_type": "stream",
     "text": [
      "P3alphaRecommender: Similarity column 38121 (100.0%), 4829.67 column/sec. Elapsed time 7.89 sec\n",
      "EvaluatorHoldout: Processed 34728 (100.0%) in 8.87 sec. Users per second: 3913\n"
     ]
    },
    {
     "name": "stderr",
     "output_type": "stream",
     "text": [
      "[I 2025-01-05 23:51:11,372] Trial 291 finished with value: 0.027614892881823724 and parameters: {'topK': 12, 'alpha': 0.30685428871711107}. Best is trial 124 with value: 0.027814196860498817.\n"
     ]
    },
    {
     "name": "stdout",
     "output_type": "stream",
     "text": [
      "P3alphaRecommender: Similarity column 38121 (100.0%), 4888.04 column/sec. Elapsed time 7.80 sec\n",
      "EvaluatorHoldout: Processed 34728 (100.0%) in 9.00 sec. Users per second: 3858\n"
     ]
    },
    {
     "name": "stderr",
     "output_type": "stream",
     "text": [
      "[I 2025-01-05 23:51:28,519] Trial 292 finished with value: 0.027763375602870323 and parameters: {'topK': 14, 'alpha': 0.28285077586728347}. Best is trial 124 with value: 0.027814196860498817.\n"
     ]
    },
    {
     "name": "stdout",
     "output_type": "stream",
     "text": [
      "P3alphaRecommender: Similarity column 38121 (100.0%), 4810.86 column/sec. Elapsed time 7.92 sec\n",
      "EvaluatorHoldout: Processed 34728 (100.0%) in 9.05 sec. Users per second: 3839\n"
     ]
    },
    {
     "name": "stderr",
     "output_type": "stream",
     "text": [
      "[I 2025-01-05 23:51:45,847] Trial 293 finished with value: 0.027727153058873088 and parameters: {'topK': 15, 'alpha': 0.3194601590283849}. Best is trial 124 with value: 0.027814196860498817.\n"
     ]
    },
    {
     "name": "stdout",
     "output_type": "stream",
     "text": [
      "P3alphaRecommender: Similarity column 38121 (100.0%), 4821.87 column/sec. Elapsed time 7.91 sec\n",
      "EvaluatorHoldout: Processed 34728 (100.0%) in 9.02 sec. Users per second: 3851\n"
     ]
    },
    {
     "name": "stderr",
     "output_type": "stream",
     "text": [
      "[I 2025-01-05 23:52:03,119] Trial 294 finished with value: 0.027808226425407773 and parameters: {'topK': 14, 'alpha': 0.30030016803062626}. Best is trial 124 with value: 0.027814196860498817.\n"
     ]
    },
    {
     "name": "stdout",
     "output_type": "stream",
     "text": [
      "P3alphaRecommender: Similarity column 38121 (100.0%), 4842.60 column/sec. Elapsed time 7.87 sec\n",
      "EvaluatorHoldout: Processed 34728 (100.0%) in 8.94 sec. Users per second: 3886\n"
     ]
    },
    {
     "name": "stderr",
     "output_type": "stream",
     "text": [
      "[I 2025-01-05 23:52:20,247] Trial 295 finished with value: 0.027624330168602072 and parameters: {'topK': 11, 'alpha': 0.3017742819179075}. Best is trial 124 with value: 0.027814196860498817.\n"
     ]
    },
    {
     "name": "stdout",
     "output_type": "stream",
     "text": [
      "P3alphaRecommender: Similarity column 38121 (100.0%), 4837.85 column/sec. Elapsed time 7.88 sec\n",
      "EvaluatorHoldout: Processed 34728 (100.0%) in 9.03 sec. Users per second: 3845\n"
     ]
    },
    {
     "name": "stderr",
     "output_type": "stream",
     "text": [
      "[I 2025-01-05 23:52:37,495] Trial 296 finished with value: 0.027698763497181967 and parameters: {'topK': 13, 'alpha': 0.3346819100140429}. Best is trial 124 with value: 0.027814196860498817.\n"
     ]
    },
    {
     "name": "stdout",
     "output_type": "stream",
     "text": [
      "P3alphaRecommender: Similarity column 38121 (100.0%), 4651.92 column/sec. Elapsed time 8.19 sec\n",
      "EvaluatorHoldout: Processed 34728 (100.0%) in 9.45 sec. Users per second: 3674\n"
     ]
    },
    {
     "name": "stderr",
     "output_type": "stream",
     "text": [
      "[I 2025-01-05 23:52:55,712] Trial 297 finished with value: 0.02689011405644884 and parameters: {'topK': 38, 'alpha': 0.31462227817665916}. Best is trial 124 with value: 0.027814196860498817.\n"
     ]
    },
    {
     "name": "stdout",
     "output_type": "stream",
     "text": [
      "P3alphaRecommender: Similarity column 38121 (100.0%), 4858.46 column/sec. Elapsed time 7.85 sec\n",
      "EvaluatorHoldout: Processed 34728 (100.0%) in 9.05 sec. Users per second: 3837\n"
     ]
    },
    {
     "name": "stderr",
     "output_type": "stream",
     "text": [
      "[I 2025-01-05 23:53:12,965] Trial 298 finished with value: 0.027750966239217065 and parameters: {'topK': 15, 'alpha': 0.2978324041299271}. Best is trial 124 with value: 0.027814196860498817.\n"
     ]
    },
    {
     "name": "stdout",
     "output_type": "stream",
     "text": [
      "P3alphaRecommender: Similarity column 38121 (100.0%), 4822.71 column/sec. Elapsed time 7.90 sec\n",
      "EvaluatorHoldout: Processed 34728 (100.0%) in 8.98 sec. Users per second: 3866\n"
     ]
    },
    {
     "name": "stderr",
     "output_type": "stream",
     "text": [
      "[I 2025-01-05 23:53:30,162] Trial 299 finished with value: 0.027480684356979413 and parameters: {'topK': 10, 'alpha': 0.3108702935429274}. Best is trial 124 with value: 0.027814196860498817.\n"
     ]
    }
   ],
   "source": [
    "optuna_study_alpha = op.create_study(direction=\"maximize\")\n",
    "        \n",
    "save_results_alpha = SaveResults(\"result_experiments/RP3alpha/results_optuna_map.csv\")\n",
    "        \n",
    "optuna_study_alpha.optimize(objective_function_P3_alpha,\n",
    "                      callbacks=[save_results_alpha],\n",
    "                      n_trials = 300)"
   ]
  },
  {
   "cell_type": "code",
   "execution_count": 13,
   "id": "d984e573-8a81-4ae0-b4ff-23757145c44a",
   "metadata": {},
   "outputs": [
    {
     "data": {
      "text/plain": [
       "{'topK': 14, 'alpha': 0.30489731750244276}"
      ]
     },
     "execution_count": 13,
     "metadata": {},
     "output_type": "execute_result"
    }
   ],
   "source": [
    "optuna_study_alpha.best_params"
   ]
  },
  {
   "cell_type": "code",
   "execution_count": 17,
   "id": "d279debb-045e-47b1-bfb6-e43400667014",
   "metadata": {},
   "outputs": [],
   "source": [
    "save_results_alpha.results_df.to_csv(\"result_experiments/RP3alpha/results_optuna.csv\")"
   ]
  },
  {
   "cell_type": "code",
   "execution_count": 17,
   "id": "188a8e35-b16a-416d-9255-ac1073dfacc3",
   "metadata": {},
   "outputs": [],
   "source": [
    "results_alpha = pd.read_csv(\"result_experiments/RP3alpha/results_optuna.csv\")\n",
    "results_beta = pd.read_csv(\"result_experiments/RP3beta/results_optuna_50.csv\")"
   ]
  },
  {
   "cell_type": "code",
   "execution_count": 18,
   "id": "66c0fe9b-c7d4-42a2-ba51-5e05947bb3ab",
   "metadata": {},
   "outputs": [
    {
     "data": {
      "text/html": [
       "<div>\n",
       "<style scoped>\n",
       "    .dataframe tbody tr th:only-of-type {\n",
       "        vertical-align: middle;\n",
       "    }\n",
       "\n",
       "    .dataframe tbody tr th {\n",
       "        vertical-align: top;\n",
       "    }\n",
       "\n",
       "    .dataframe thead th {\n",
       "        text-align: right;\n",
       "    }\n",
       "</style>\n",
       "<table border=\"1\" class=\"dataframe\">\n",
       "  <thead>\n",
       "    <tr style=\"text-align: right;\">\n",
       "      <th></th>\n",
       "      <th>Unnamed: 0</th>\n",
       "      <th>topK</th>\n",
       "      <th>alpha</th>\n",
       "      <th>beta</th>\n",
       "      <th>result</th>\n",
       "    </tr>\n",
       "  </thead>\n",
       "  <tbody>\n",
       "    <tr>\n",
       "      <th>235</th>\n",
       "      <td>235</td>\n",
       "      <td>12.0</td>\n",
       "      <td>0.349899</td>\n",
       "      <td>0.181734</td>\n",
       "      <td>0.055589</td>\n",
       "    </tr>\n",
       "    <tr>\n",
       "      <th>267</th>\n",
       "      <td>267</td>\n",
       "      <td>12.0</td>\n",
       "      <td>0.358275</td>\n",
       "      <td>0.183071</td>\n",
       "      <td>0.055585</td>\n",
       "    </tr>\n",
       "    <tr>\n",
       "      <th>232</th>\n",
       "      <td>232</td>\n",
       "      <td>12.0</td>\n",
       "      <td>0.352013</td>\n",
       "      <td>0.170365</td>\n",
       "      <td>0.055554</td>\n",
       "    </tr>\n",
       "    <tr>\n",
       "      <th>249</th>\n",
       "      <td>249</td>\n",
       "      <td>12.0</td>\n",
       "      <td>0.318763</td>\n",
       "      <td>0.178043</td>\n",
       "      <td>0.055539</td>\n",
       "    </tr>\n",
       "    <tr>\n",
       "      <th>265</th>\n",
       "      <td>265</td>\n",
       "      <td>12.0</td>\n",
       "      <td>0.359616</td>\n",
       "      <td>0.178041</td>\n",
       "      <td>0.055538</td>\n",
       "    </tr>\n",
       "    <tr>\n",
       "      <th>...</th>\n",
       "      <td>...</td>\n",
       "      <td>...</td>\n",
       "      <td>...</td>\n",
       "      <td>...</td>\n",
       "      <td>...</td>\n",
       "    </tr>\n",
       "    <tr>\n",
       "      <th>195</th>\n",
       "      <td>195</td>\n",
       "      <td>2.0</td>\n",
       "      <td>0.863639</td>\n",
       "      <td>0.172310</td>\n",
       "      <td>0.035370</td>\n",
       "    </tr>\n",
       "    <tr>\n",
       "      <th>7</th>\n",
       "      <td>7</td>\n",
       "      <td>29.0</td>\n",
       "      <td>0.579395</td>\n",
       "      <td>0.922559</td>\n",
       "      <td>0.034820</td>\n",
       "    </tr>\n",
       "    <tr>\n",
       "      <th>133</th>\n",
       "      <td>133</td>\n",
       "      <td>14.0</td>\n",
       "      <td>0.282290</td>\n",
       "      <td>0.985331</td>\n",
       "      <td>0.034568</td>\n",
       "    </tr>\n",
       "    <tr>\n",
       "      <th>9</th>\n",
       "      <td>9</td>\n",
       "      <td>48.0</td>\n",
       "      <td>0.293029</td>\n",
       "      <td>0.919261</td>\n",
       "      <td>0.033317</td>\n",
       "    </tr>\n",
       "    <tr>\n",
       "      <th>5</th>\n",
       "      <td>5</td>\n",
       "      <td>36.0</td>\n",
       "      <td>0.646849</td>\n",
       "      <td>0.941133</td>\n",
       "      <td>0.033130</td>\n",
       "    </tr>\n",
       "  </tbody>\n",
       "</table>\n",
       "<p>300 rows × 5 columns</p>\n",
       "</div>"
      ],
      "text/plain": [
       "     Unnamed: 0  topK     alpha      beta    result\n",
       "235         235  12.0  0.349899  0.181734  0.055589\n",
       "267         267  12.0  0.358275  0.183071  0.055585\n",
       "232         232  12.0  0.352013  0.170365  0.055554\n",
       "249         249  12.0  0.318763  0.178043  0.055539\n",
       "265         265  12.0  0.359616  0.178041  0.055538\n",
       "..          ...   ...       ...       ...       ...\n",
       "195         195   2.0  0.863639  0.172310  0.035370\n",
       "7             7  29.0  0.579395  0.922559  0.034820\n",
       "133         133  14.0  0.282290  0.985331  0.034568\n",
       "9             9  48.0  0.293029  0.919261  0.033317\n",
       "5             5  36.0  0.646849  0.941133  0.033130\n",
       "\n",
       "[300 rows x 5 columns]"
      ]
     },
     "execution_count": 18,
     "metadata": {},
     "output_type": "execute_result"
    }
   ],
   "source": [
    "results_beta.sort_values(by=['result'], ascending=False)"
   ]
  },
  {
   "cell_type": "code",
   "execution_count": 8,
   "id": "2049ea60-becc-465a-bfce-c14962b79db1",
   "metadata": {},
   "outputs": [
    {
     "data": {
      "text/html": [
       "<div>\n",
       "<style scoped>\n",
       "    .dataframe tbody tr th:only-of-type {\n",
       "        vertical-align: middle;\n",
       "    }\n",
       "\n",
       "    .dataframe tbody tr th {\n",
       "        vertical-align: top;\n",
       "    }\n",
       "\n",
       "    .dataframe thead th {\n",
       "        text-align: right;\n",
       "    }\n",
       "</style>\n",
       "<table border=\"1\" class=\"dataframe\">\n",
       "  <thead>\n",
       "    <tr style=\"text-align: right;\">\n",
       "      <th></th>\n",
       "      <th>Unnamed: 0</th>\n",
       "      <th>topK</th>\n",
       "      <th>alpha</th>\n",
       "      <th>result</th>\n",
       "    </tr>\n",
       "  </thead>\n",
       "  <tbody>\n",
       "    <tr>\n",
       "      <th>101</th>\n",
       "      <td>101</td>\n",
       "      <td>13.0</td>\n",
       "      <td>0.358969</td>\n",
       "      <td>0.054205</td>\n",
       "    </tr>\n",
       "    <tr>\n",
       "      <th>264</th>\n",
       "      <td>264</td>\n",
       "      <td>13.0</td>\n",
       "      <td>0.356510</td>\n",
       "      <td>0.054203</td>\n",
       "    </tr>\n",
       "    <tr>\n",
       "      <th>280</th>\n",
       "      <td>280</td>\n",
       "      <td>13.0</td>\n",
       "      <td>0.359350</td>\n",
       "      <td>0.054201</td>\n",
       "    </tr>\n",
       "    <tr>\n",
       "      <th>97</th>\n",
       "      <td>97</td>\n",
       "      <td>13.0</td>\n",
       "      <td>0.356190</td>\n",
       "      <td>0.054192</td>\n",
       "    </tr>\n",
       "    <tr>\n",
       "      <th>267</th>\n",
       "      <td>267</td>\n",
       "      <td>13.0</td>\n",
       "      <td>0.355121</td>\n",
       "      <td>0.054187</td>\n",
       "    </tr>\n",
       "    <tr>\n",
       "      <th>...</th>\n",
       "      <td>...</td>\n",
       "      <td>...</td>\n",
       "      <td>...</td>\n",
       "      <td>...</td>\n",
       "    </tr>\n",
       "    <tr>\n",
       "      <th>154</th>\n",
       "      <td>154</td>\n",
       "      <td>2.0</td>\n",
       "      <td>0.350523</td>\n",
       "      <td>0.036901</td>\n",
       "    </tr>\n",
       "    <tr>\n",
       "      <th>213</th>\n",
       "      <td>213</td>\n",
       "      <td>2.0</td>\n",
       "      <td>0.350160</td>\n",
       "      <td>0.036896</td>\n",
       "    </tr>\n",
       "    <tr>\n",
       "      <th>220</th>\n",
       "      <td>220</td>\n",
       "      <td>2.0</td>\n",
       "      <td>0.350028</td>\n",
       "      <td>0.036895</td>\n",
       "    </tr>\n",
       "    <tr>\n",
       "      <th>248</th>\n",
       "      <td>248</td>\n",
       "      <td>2.0</td>\n",
       "      <td>0.350073</td>\n",
       "      <td>0.036895</td>\n",
       "    </tr>\n",
       "    <tr>\n",
       "      <th>74</th>\n",
       "      <td>74</td>\n",
       "      <td>2.0</td>\n",
       "      <td>0.387167</td>\n",
       "      <td>0.036847</td>\n",
       "    </tr>\n",
       "  </tbody>\n",
       "</table>\n",
       "<p>300 rows × 4 columns</p>\n",
       "</div>"
      ],
      "text/plain": [
       "     Unnamed: 0  topK     alpha    result\n",
       "101         101  13.0  0.358969  0.054205\n",
       "264         264  13.0  0.356510  0.054203\n",
       "280         280  13.0  0.359350  0.054201\n",
       "97           97  13.0  0.356190  0.054192\n",
       "267         267  13.0  0.355121  0.054187\n",
       "..          ...   ...       ...       ...\n",
       "154         154   2.0  0.350523  0.036901\n",
       "213         213   2.0  0.350160  0.036896\n",
       "220         220   2.0  0.350028  0.036895\n",
       "248         248   2.0  0.350073  0.036895\n",
       "74           74   2.0  0.387167  0.036847\n",
       "\n",
       "[300 rows x 4 columns]"
      ]
     },
     "execution_count": 8,
     "metadata": {},
     "output_type": "execute_result"
    }
   ],
   "source": [
    "results_alpha.sort_values(by=['result'], ascending=False)"
   ]
  },
  {
   "cell_type": "code",
   "execution_count": null,
   "id": "5383d095-7824-4509-bd75-fddf7d1d8640",
   "metadata": {},
   "outputs": [],
   "source": []
  }
 ],
 "metadata": {
  "kernelspec": {
   "display_name": "RecSys",
   "language": "python",
   "name": "recsys"
  },
  "language_info": {
   "codemirror_mode": {
    "name": "ipython",
    "version": 3
   },
   "file_extension": ".py",
   "mimetype": "text/x-python",
   "name": "python",
   "nbconvert_exporter": "python",
   "pygments_lexer": "ipython3",
   "version": "3.12.7"
  }
 },
 "nbformat": 4,
 "nbformat_minor": 5
}
