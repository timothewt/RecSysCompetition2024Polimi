{
 "cells": [
  {
   "cell_type": "code",
   "execution_count": 1,
   "id": "dc231a90-4821-4f26-8eb4-b4b418da8897",
   "metadata": {},
   "outputs": [],
   "source": [
    "from pathlib import Path\n",
    "import sys  \n",
    "import os\n",
    "import pandas as pd \n",
    "from datetime import datetime\n",
    "import scipy.sparse as sps\n",
    "from numpy import linalg as LA\n",
    "\n",
    "import numpy as np\n",
    "from operator import itemgetter\n",
    "import optuna as op"
   ]
  },
  {
   "cell_type": "code",
   "execution_count": 2,
   "id": "11c83552-c9df-4e0d-9164-7e10118e8359",
   "metadata": {},
   "outputs": [],
   "source": [
    "sys.path.append(os.path.abspath(os.path.join(os.getcwd(), \"..\", \"libs\")))\n",
    "sys.path.append(os.path.abspath(os.path.join(os.getcwd(), \"..\")))\n",
    "sys.path.append(os.path.abspath(os.path.join(os.getcwd(), \"..\", \"src\")))"
   ]
  },
  {
   "cell_type": "code",
   "execution_count": 3,
   "id": "0db8443d-c2d1-4e45-9480-cb5824990dd7",
   "metadata": {},
   "outputs": [],
   "source": [
    "%load_ext autoreload\n",
    "%autoreload 2"
   ]
  },
  {
   "cell_type": "code",
   "execution_count": 4,
   "id": "f43db32c-a970-4075-a6ca-c5da51c7b5a0",
   "metadata": {},
   "outputs": [],
   "source": [
    "from Utils.load_URM import load_URM\n",
    "from Utils.load_ICM import load_ICM\n",
    "\n",
    "from scipy.sparse import hstack, vstack\n",
    "from Evaluation.Evaluator import EvaluatorHoldout\n",
    "from Data_manager.split_functions.split_train_validation_random_holdout import split_train_in_two_percentage_global_sample\n",
    "\n",
    "URM_all = load_URM(\"../data/data_train.csv\")\n",
    "ICM_all = load_ICM(\"../data/data_ICM_metadata.csv\")"
   ]
  },
  {
   "cell_type": "code",
   "execution_count": 5,
   "id": "59e11a1c-dfaf-4416-8620-d6563e8c76f1",
   "metadata": {},
   "outputs": [],
   "source": [
    "# URM_train, URM_val = split_train_in_two_percentage_global_sample(URM_all, train_percentage = 0.80)\n",
    "URM_train = sps.load_npz(\"URM_train_ens.npz\")\n",
    "URM_val = sps.load_npz(\"URM_val_ens.npz\")"
   ]
  },
  {
   "cell_type": "code",
   "execution_count": 6,
   "id": "36639247-e89c-4d6d-b57c-4c97144e7ae7",
   "metadata": {},
   "outputs": [
    {
     "name": "stdout",
     "output_type": "stream",
     "text": [
      "EvaluatorHoldout: Ignoring 1008 ( 2.8%) Users that have less than 1 test interactions\n"
     ]
    }
   ],
   "source": [
    "evaluator_validation = EvaluatorHoldout(URM_val, cutoff_list=[10])"
   ]
  },
  {
   "cell_type": "code",
   "execution_count": 7,
   "id": "88af5776-1dd5-43d1-9ad3-bee677280941",
   "metadata": {},
   "outputs": [],
   "source": [
    "from libs.Recommenders.GraphBased.RP3betaRecommender import RP3betaRecommender\n",
    "from libs.Recommenders.GraphBased.P3alphaRecommender import P3alphaRecommender"
   ]
  },
  {
   "cell_type": "code",
   "execution_count": 8,
   "id": "4fd93d98-bc15-48d0-b4c9-168b14ab43b3",
   "metadata": {},
   "outputs": [],
   "source": [
    "def objective_function_P3_beta(optuna_trial):\n",
    "       \n",
    "        \n",
    "    recommender_instance = RP3betaRecommender(URM_train)\n",
    "    recommender_instance.fit(topK = optuna_trial.suggest_int(\"topK\", 2, 20),\n",
    "                             alpha = optuna_trial.suggest_float(\"alpha\",0.2, 0.5),\n",
    "                             beta = optuna_trial.suggest_float(\"beta\",0.1, 0.5),\n",
    "                             normalize_similarity= True,\n",
    "                             implicit=False,\n",
    "                            )\n",
    "    \n",
    "    eval_res, _ = evaluator_validation.evaluateRecommender(recommender_instance)    \n",
    "    return eval_res[\"MAP\"][10]"
   ]
  },
  {
   "cell_type": "code",
   "execution_count": 9,
   "id": "191f53e5-1242-4562-b600-bc8eac5a04b7",
   "metadata": {},
   "outputs": [],
   "source": [
    "def objective_function_P3_alpha(optuna_trial):\n",
    "\n",
    "    \n",
    "                          \n",
    "        \n",
    "    recommender_instance = P3alphaRecommender(URM_train)\n",
    "    recommender_instance.fit(topK = optuna_trial.suggest_int(\"topK\", 2, 400),\n",
    "                             alpha=  optuna_trial.suggest_float(\"alpha\",0.35, 0.39,log=False),\n",
    "                             normalize_similarity= True\n",
    "                            )\n",
    "    \n",
    "    eval_res, _ = evaluator_validation.evaluateRecommender(recommender_instance)    \n",
    "    return eval_res[\"MAP\"][10]"
   ]
  },
  {
   "cell_type": "code",
   "execution_count": 10,
   "id": "aef59de3-63d7-4b0a-916f-d3be0a632a6f",
   "metadata": {},
   "outputs": [],
   "source": [
    "class SaveResults(object):\n",
    "    \n",
    "    def __init__(self):\n",
    "        self.results_df = pd.DataFrame()\n",
    "    \n",
    "    def __call__(self, optuna_study, optuna_trial):\n",
    "        hyperparam_dict = optuna_trial.params.copy()\n",
    "        hyperparam_dict[\"result\"] = optuna_trial.values[0]\n",
    "        \n",
    "        \n",
    "        self.results_df = self.results_df._append(hyperparam_dict, ignore_index=True)"
   ]
  },
  {
   "cell_type": "code",
   "execution_count": 11,
   "id": "38d51640-fade-4813-bd8e-e2e6c97a4369",
   "metadata": {
    "scrolled": true
   },
   "outputs": [
    {
     "name": "stderr",
     "output_type": "stream",
     "text": [
      "[I 2024-12-17 23:11:49,927] A new study created in memory with name: no-name-8a93c79d-fb11-422d-9a3b-e71261ab5e14\n"
     ]
    },
    {
     "name": "stdout",
     "output_type": "stream",
     "text": [
      "RP3betaRecommender: Similarity column 38121 (100.0%), 4617.94 column/sec. Elapsed time 8.25 sec\n",
      "EvaluatorHoldout: Processed 34728 (100.0%) in 8.28 sec. Users per second: 4195\n"
     ]
    },
    {
     "name": "stderr",
     "output_type": "stream",
     "text": [
      "[I 2024-12-17 23:12:06,806] Trial 0 finished with value: 0.027526442457117252 and parameters: {'topK': 9, 'alpha': 0.22946274021782684, 'beta': 0.33512048110906417}. Best is trial 0 with value: 0.027526442457117252.\n"
     ]
    },
    {
     "name": "stdout",
     "output_type": "stream",
     "text": [
      "RP3betaRecommender: Similarity column 38121 (100.0%), 4617.69 column/sec. Elapsed time 8.26 sec\n",
      "EvaluatorHoldout: Processed 34728 (100.0%) in 8.26 sec. Users per second: 4207\n"
     ]
    },
    {
     "name": "stderr",
     "output_type": "stream",
     "text": [
      "[I 2024-12-17 23:12:23,584] Trial 1 finished with value: 0.025936235067627066 and parameters: {'topK': 5, 'alpha': 0.25413451124563885, 'beta': 0.22340562916485285}. Best is trial 0 with value: 0.027526442457117252.\n"
     ]
    },
    {
     "name": "stdout",
     "output_type": "stream",
     "text": [
      "RP3betaRecommender: Similarity column 38121 (100.0%), 4473.55 column/sec. Elapsed time 8.52 sec\n",
      "EvaluatorHoldout: Processed 34728 (100.0%) in 8.35 sec. Users per second: 4159\n"
     ]
    },
    {
     "name": "stderr",
     "output_type": "stream",
     "text": [
      "[I 2024-12-17 23:12:40,844] Trial 2 finished with value: 0.028086913766120054 and parameters: {'topK': 18, 'alpha': 0.4037917599328689, 'beta': 0.1056376715757236}. Best is trial 2 with value: 0.028086913766120054.\n"
     ]
    },
    {
     "name": "stdout",
     "output_type": "stream",
     "text": [
      "RP3betaRecommender: Similarity column 38121 (100.0%), 4292.90 column/sec. Elapsed time 8.88 sec\n",
      "EvaluatorHoldout: Processed 34728 (100.0%) in 8.34 sec. Users per second: 4166\n"
     ]
    },
    {
     "name": "stderr",
     "output_type": "stream",
     "text": [
      "[I 2024-12-17 23:12:58,446] Trial 3 finished with value: 0.028217276073831968 and parameters: {'topK': 16, 'alpha': 0.24781578245556182, 'beta': 0.1928619250270207}. Best is trial 3 with value: 0.028217276073831968.\n"
     ]
    },
    {
     "name": "stdout",
     "output_type": "stream",
     "text": [
      "RP3betaRecommender: Similarity column 38121 (100.0%), 4570.20 column/sec. Elapsed time 8.34 sec\n",
      "EvaluatorHoldout: Processed 34728 (100.0%) in 8.35 sec. Users per second: 4157\n"
     ]
    },
    {
     "name": "stderr",
     "output_type": "stream",
     "text": [
      "[I 2024-12-17 23:13:15,524] Trial 4 finished with value: 0.027867753662932582 and parameters: {'topK': 12, 'alpha': 0.35092444543215473, 'beta': 0.34481942942436056}. Best is trial 3 with value: 0.028217276073831968.\n"
     ]
    },
    {
     "name": "stdout",
     "output_type": "stream",
     "text": [
      "RP3betaRecommender: Similarity column 38121 (100.0%), 4541.82 column/sec. Elapsed time 8.39 sec\n",
      "EvaluatorHoldout: Processed 34728 (100.0%) in 8.16 sec. Users per second: 4257\n"
     ]
    },
    {
     "name": "stderr",
     "output_type": "stream",
     "text": [
      "[I 2024-12-17 23:13:32,372] Trial 5 finished with value: 0.02604057427701112 and parameters: {'topK': 6, 'alpha': 0.2307492229345037, 'beta': 0.4464004697713869}. Best is trial 3 with value: 0.028217276073831968.\n"
     ]
    },
    {
     "name": "stdout",
     "output_type": "stream",
     "text": [
      "RP3betaRecommender: Similarity column 38121 (100.0%), 4346.41 column/sec. Elapsed time 8.77 sec\n",
      "EvaluatorHoldout: Processed 34728 (100.0%) in 8.52 sec. Users per second: 4074\n"
     ]
    },
    {
     "name": "stderr",
     "output_type": "stream",
     "text": [
      "[I 2024-12-17 23:13:50,003] Trial 6 finished with value: 0.02766200161435927 and parameters: {'topK': 9, 'alpha': 0.4072817655830418, 'beta': 0.2755175302401042}. Best is trial 3 with value: 0.028217276073831968.\n"
     ]
    },
    {
     "name": "stdout",
     "output_type": "stream",
     "text": [
      "RP3betaRecommender: Similarity column 38121 (100.0%), 4348.93 column/sec. Elapsed time 8.77 sec\n",
      "EvaluatorHoldout: Processed 34728 (100.0%) in 8.49 sec. Users per second: 4090\n"
     ]
    },
    {
     "name": "stderr",
     "output_type": "stream",
     "text": [
      "[I 2024-12-17 23:14:07,625] Trial 7 finished with value: 0.027855379721956335 and parameters: {'topK': 11, 'alpha': 0.375580915312225, 'beta': 0.3383658849915743}. Best is trial 3 with value: 0.028217276073831968.\n"
     ]
    },
    {
     "name": "stdout",
     "output_type": "stream",
     "text": [
      "RP3betaRecommender: Similarity column 38121 (100.0%), 4310.34 column/sec. Elapsed time 8.84 sec\n",
      "EvaluatorHoldout: Processed 34728 (100.0%) in 8.64 sec. Users per second: 4021\n"
     ]
    },
    {
     "name": "stderr",
     "output_type": "stream",
     "text": [
      "[I 2024-12-17 23:14:25,485] Trial 8 finished with value: 0.02830277727500357 and parameters: {'topK': 15, 'alpha': 0.364513728184218, 'beta': 0.22996322237355837}. Best is trial 8 with value: 0.02830277727500357.\n"
     ]
    },
    {
     "name": "stdout",
     "output_type": "stream",
     "text": [
      "RP3betaRecommender: Similarity column 38121 (100.0%), 4524.87 column/sec. Elapsed time 8.42 sec\n",
      "EvaluatorHoldout: Processed 34728 (100.0%) in 8.22 sec. Users per second: 4227\n"
     ]
    },
    {
     "name": "stderr",
     "output_type": "stream",
     "text": [
      "[I 2024-12-17 23:14:42,399] Trial 9 finished with value: 0.026640493878960624 and parameters: {'topK': 6, 'alpha': 0.3106337067712559, 'beta': 0.20557928090633873}. Best is trial 8 with value: 0.02830277727500357.\n"
     ]
    },
    {
     "name": "stdout",
     "output_type": "stream",
     "text": [
      "RP3betaRecommender: Similarity column 38121 (100.0%), 4330.26 column/sec. Elapsed time 8.80 sec\n",
      "EvaluatorHoldout: Processed 34728 (100.0%) in 8.64 sec. Users per second: 4020\n"
     ]
    },
    {
     "name": "stderr",
     "output_type": "stream",
     "text": [
      "[I 2024-12-17 23:15:00,261] Trial 10 finished with value: 0.026840454891162453 and parameters: {'topK': 15, 'alpha': 0.49726170793057684, 'beta': 0.4777571994445509}. Best is trial 8 with value: 0.02830277727500357.\n"
     ]
    },
    {
     "name": "stdout",
     "output_type": "stream",
     "text": [
      "RP3betaRecommender: Similarity column 38121 (100.0%), 4485.56 column/sec. Elapsed time 8.50 sec\n",
      "EvaluatorHoldout: Processed 34728 (100.0%) in 8.57 sec. Users per second: 4053\n"
     ]
    },
    {
     "name": "stderr",
     "output_type": "stream",
     "text": [
      "[I 2024-12-17 23:15:17,756] Trial 11 finished with value: 0.02814693577845703 and parameters: {'topK': 20, 'alpha': 0.29800865208205535, 'beta': 0.15121679656831857}. Best is trial 8 with value: 0.02830277727500357.\n"
     ]
    },
    {
     "name": "stdout",
     "output_type": "stream",
     "text": [
      "RP3betaRecommender: Similarity column 38121 (100.0%), 4317.61 column/sec. Elapsed time 8.83 sec\n",
      "EvaluatorHoldout: Processed 34728 (100.0%) in 8.60 sec. Users per second: 4039\n"
     ]
    },
    {
     "name": "stderr",
     "output_type": "stream",
     "text": [
      "[I 2024-12-17 23:15:35,596] Trial 12 finished with value: 0.028294016447091026 and parameters: {'topK': 16, 'alpha': 0.45117498022158997, 'beta': 0.22933397816288414}. Best is trial 8 with value: 0.02830277727500357.\n"
     ]
    },
    {
     "name": "stdout",
     "output_type": "stream",
     "text": [
      "RP3betaRecommender: Similarity column 38121 (100.0%), 4134.64 column/sec. Elapsed time 9.22 sec\n",
      "EvaluatorHoldout: Processed 34728 (100.0%) in 8.61 sec. Users per second: 4034\n"
     ]
    },
    {
     "name": "stderr",
     "output_type": "stream",
     "text": [
      "[I 2024-12-17 23:15:53,818] Trial 13 finished with value: 0.0281012965156877 and parameters: {'topK': 14, 'alpha': 0.47643726067947306, 'beta': 0.2621595278130173}. Best is trial 8 with value: 0.02830277727500357.\n"
     ]
    },
    {
     "name": "stdout",
     "output_type": "stream",
     "text": [
      "RP3betaRecommender: Similarity column 38121 (100.0%), 2215.71 column/sec. Elapsed time 17.20 sec\n",
      "EvaluatorHoldout: Processed 34728 (100.0%) in 8.24 sec. Users per second: 4216\n"
     ]
    },
    {
     "name": "stderr",
     "output_type": "stream",
     "text": [
      "[I 2024-12-17 23:16:19,500] Trial 14 finished with value: 0.01905052827780882 and parameters: {'topK': 2, 'alpha': 0.4450037289570168, 'beta': 0.4056440699915863}. Best is trial 8 with value: 0.02830277727500357.\n"
     ]
    },
    {
     "name": "stdout",
     "output_type": "stream",
     "text": [
      "RP3betaRecommender: Similarity column 38121 (100.0%), 4307.88 column/sec. Elapsed time 8.85 sec\n",
      "EvaluatorHoldout: Processed 34728 (100.0%) in 8.74 sec. Users per second: 3974\n"
     ]
    },
    {
     "name": "stderr",
     "output_type": "stream",
     "text": [
      "[I 2024-12-17 23:16:37,495] Trial 15 finished with value: 0.02822981113085567 and parameters: {'topK': 18, 'alpha': 0.43871634758030786, 'beta': 0.1629954531679668}. Best is trial 8 with value: 0.02830277727500357.\n"
     ]
    },
    {
     "name": "stdout",
     "output_type": "stream",
     "text": [
      "RP3betaRecommender: Similarity column 38121 (100.0%), 4313.44 column/sec. Elapsed time 8.84 sec\n",
      "EvaluatorHoldout: Processed 34728 (100.0%) in 8.65 sec. Users per second: 4014\n"
     ]
    },
    {
     "name": "stderr",
     "output_type": "stream",
     "text": [
      "[I 2024-12-17 23:16:55,354] Trial 16 finished with value: 0.028281062031277282 and parameters: {'topK': 13, 'alpha': 0.312786277265207, 'beta': 0.25439510265077975}. Best is trial 8 with value: 0.02830277727500357.\n"
     ]
    },
    {
     "name": "stdout",
     "output_type": "stream",
     "text": [
      "RP3betaRecommender: Similarity column 38121 (100.0%), 4210.35 column/sec. Elapsed time 9.05 sec\n",
      "EvaluatorHoldout: Processed 34728 (100.0%) in 8.46 sec. Users per second: 4104\n"
     ]
    },
    {
     "name": "stderr",
     "output_type": "stream",
     "text": [
      "[I 2024-12-17 23:17:13,305] Trial 17 finished with value: 0.028074510115801643 and parameters: {'topK': 18, 'alpha': 0.37997182221284115, 'beta': 0.3083804809465111}. Best is trial 8 with value: 0.02830277727500357.\n"
     ]
    },
    {
     "name": "stdout",
     "output_type": "stream",
     "text": [
      "RP3betaRecommender: Similarity column 38121 (100.0%), 4378.33 column/sec. Elapsed time 8.71 sec\n",
      "EvaluatorHoldout: Processed 34728 (100.0%) in 8.30 sec. Users per second: 4182\n"
     ]
    },
    {
     "name": "stderr",
     "output_type": "stream",
     "text": [
      "[I 2024-12-17 23:17:30,681] Trial 18 finished with value: 0.028142625638521542 and parameters: {'topK': 16, 'alpha': 0.4660306484583547, 'beta': 0.12016908602954587}. Best is trial 8 with value: 0.02830277727500357.\n"
     ]
    },
    {
     "name": "stdout",
     "output_type": "stream",
     "text": [
      "RP3betaRecommender: Similarity column 38121 (100.0%), 4551.81 column/sec. Elapsed time 8.37 sec\n",
      "EvaluatorHoldout: Processed 34728 (100.0%) in 8.49 sec. Users per second: 4090\n"
     ]
    },
    {
     "name": "stderr",
     "output_type": "stream",
     "text": [
      "[I 2024-12-17 23:17:47,985] Trial 19 finished with value: 0.028277789432980444 and parameters: {'topK': 20, 'alpha': 0.4163809167551268, 'beta': 0.2298820189444332}. Best is trial 8 with value: 0.02830277727500357.\n"
     ]
    },
    {
     "name": "stdout",
     "output_type": "stream",
     "text": [
      "RP3betaRecommender: Similarity column 38121 (100.0%), 4369.50 column/sec. Elapsed time 8.72 sec\n",
      "EvaluatorHoldout: Processed 34728 (100.0%) in 8.27 sec. Users per second: 4201\n"
     ]
    },
    {
     "name": "stderr",
     "output_type": "stream",
     "text": [
      "[I 2024-12-17 23:18:05,334] Trial 20 finished with value: 0.02744528339055729 and parameters: {'topK': 10, 'alpha': 0.3417369929710221, 'beta': 0.3929997185933968}. Best is trial 8 with value: 0.02830277727500357.\n"
     ]
    },
    {
     "name": "stdout",
     "output_type": "stream",
     "text": [
      "RP3betaRecommender: Similarity column 38121 (100.0%), 4232.93 column/sec. Elapsed time 9.01 sec\n",
      "EvaluatorHoldout: Processed 34728 (100.0%) in 8.61 sec. Users per second: 4033\n"
     ]
    },
    {
     "name": "stderr",
     "output_type": "stream",
     "text": [
      "[I 2024-12-17 23:18:23,310] Trial 21 finished with value: 0.028335691798026946 and parameters: {'topK': 13, 'alpha': 0.2929596738484745, 'beta': 0.25926107040137714}. Best is trial 21 with value: 0.028335691798026946.\n"
     ]
    },
    {
     "name": "stdout",
     "output_type": "stream",
     "text": [
      "RP3betaRecommender: Similarity column 38121 (100.0%), 4191.15 column/sec. Elapsed time 9.10 sec\n",
      "EvaluatorHoldout: Processed 34728 (100.0%) in 8.46 sec. Users per second: 4107\n"
     ]
    },
    {
     "name": "stderr",
     "output_type": "stream",
     "text": [
      "[I 2024-12-17 23:18:41,218] Trial 22 finished with value: 0.02827938231078273 and parameters: {'topK': 14, 'alpha': 0.27956773350335146, 'beta': 0.17133338769850176}. Best is trial 21 with value: 0.028335691798026946.\n"
     ]
    },
    {
     "name": "stdout",
     "output_type": "stream",
     "text": [
      "RP3betaRecommender: Similarity column 38121 (100.0%), 4529.94 column/sec. Elapsed time 8.42 sec\n",
      "EvaluatorHoldout: Processed 34728 (100.0%) in 8.73 sec. Users per second: 3980\n"
     ]
    },
    {
     "name": "stderr",
     "output_type": "stream",
     "text": [
      "[I 2024-12-17 23:18:58,788] Trial 23 finished with value: 0.0282719732579348 and parameters: {'topK': 16, 'alpha': 0.3356782932962782, 'beta': 0.2830671281468363}. Best is trial 21 with value: 0.028335691798026946.\n"
     ]
    },
    {
     "name": "stdout",
     "output_type": "stream",
     "text": [
      "RP3betaRecommender: Similarity column 38121 (100.0%), 4086.02 column/sec. Elapsed time 9.33 sec\n",
      "EvaluatorHoldout: Processed 34728 (100.0%) in 8.51 sec. Users per second: 4082\n"
     ]
    },
    {
     "name": "stderr",
     "output_type": "stream",
     "text": [
      "[I 2024-12-17 23:19:16,996] Trial 24 finished with value: 0.02818065359638377 and parameters: {'topK': 12, 'alpha': 0.20378358621930243, 'beta': 0.24027239282923943}. Best is trial 21 with value: 0.028335691798026946.\n"
     ]
    },
    {
     "name": "stdout",
     "output_type": "stream",
     "text": [
      "RP3betaRecommender: Similarity column 38121 (100.0%), 4089.29 column/sec. Elapsed time 9.32 sec\n",
      "EvaluatorHoldout: Processed 34728 (100.0%) in 8.48 sec. Users per second: 4094\n"
     ]
    },
    {
     "name": "stderr",
     "output_type": "stream",
     "text": [
      "[I 2024-12-17 23:19:35,254] Trial 25 finished with value: 0.028103375026966193 and parameters: {'topK': 17, 'alpha': 0.27347920714896323, 'beta': 0.3097587093438644}. Best is trial 21 with value: 0.028335691798026946.\n"
     ]
    },
    {
     "name": "stdout",
     "output_type": "stream",
     "text": [
      "RP3betaRecommender: Similarity column 38121 (100.0%), 4347.09 column/sec. Elapsed time 8.77 sec\n",
      "EvaluatorHoldout: Processed 34728 (100.0%) in 8.34 sec. Users per second: 4165\n"
     ]
    },
    {
     "name": "stderr",
     "output_type": "stream",
     "text": [
      "[I 2024-12-17 23:19:52,723] Trial 26 finished with value: 0.02829347368026453 and parameters: {'topK': 14, 'alpha': 0.3790039286065986, 'beta': 0.19727365026642835}. Best is trial 21 with value: 0.028335691798026946.\n"
     ]
    },
    {
     "name": "stdout",
     "output_type": "stream",
     "text": [
      "RP3betaRecommender: Similarity column 38121 (100.0%), 4285.26 column/sec. Elapsed time 8.90 sec\n",
      "EvaluatorHoldout: Processed 34728 (100.0%) in 8.23 sec. Users per second: 4222\n"
     ]
    },
    {
     "name": "stderr",
     "output_type": "stream",
     "text": [
      "[I 2024-12-17 23:20:10,187] Trial 27 finished with value: 0.028146138196888885 and parameters: {'topK': 13, 'alpha': 0.3261078875101811, 'beta': 0.13223816858560394}. Best is trial 21 with value: 0.028335691798026946.\n"
     ]
    },
    {
     "name": "stdout",
     "output_type": "stream",
     "text": [
      "RP3betaRecommender: Similarity column 38121 (100.0%), 4217.52 column/sec. Elapsed time 9.04 sec\n",
      "EvaluatorHoldout: Processed 34728 (100.0%) in 8.45 sec. Users per second: 4109\n"
     ]
    },
    {
     "name": "stderr",
     "output_type": "stream",
     "text": [
      "[I 2024-12-17 23:20:28,109] Trial 28 finished with value: 0.02772212532405964 and parameters: {'topK': 15, 'alpha': 0.3553778092428632, 'beta': 0.3718738587108577}. Best is trial 21 with value: 0.028335691798026946.\n"
     ]
    },
    {
     "name": "stdout",
     "output_type": "stream",
     "text": [
      "RP3betaRecommender: Similarity column 38121 (100.0%), 4121.62 column/sec. Elapsed time 9.25 sec\n",
      "EvaluatorHoldout: Processed 34728 (100.0%) in 8.44 sec. Users per second: 4114\n"
     ]
    },
    {
     "name": "stderr",
     "output_type": "stream",
     "text": [
      "[I 2024-12-17 23:20:46,135] Trial 29 finished with value: 0.02791236224006535 and parameters: {'topK': 10, 'alpha': 0.2799593778161238, 'beta': 0.2918746884551298}. Best is trial 21 with value: 0.028335691798026946.\n"
     ]
    },
    {
     "name": "stdout",
     "output_type": "stream",
     "text": [
      "RP3betaRecommender: Similarity column 38121 (100.0%), 4158.23 column/sec. Elapsed time 9.17 sec\n",
      "EvaluatorHoldout: Processed 34728 (100.0%) in 8.46 sec. Users per second: 4103\n"
     ]
    },
    {
     "name": "stderr",
     "output_type": "stream",
     "text": [
      "[I 2024-12-17 23:21:04,077] Trial 30 finished with value: 0.027350627141357393 and parameters: {'topK': 8, 'alpha': 0.4382876234204246, 'beta': 0.2155946288807915}. Best is trial 21 with value: 0.028335691798026946.\n"
     ]
    },
    {
     "name": "stdout",
     "output_type": "stream",
     "text": [
      "RP3betaRecommender: Similarity column 38121 (100.0%), 4270.89 column/sec. Elapsed time 8.93 sec\n",
      "EvaluatorHoldout: Processed 34728 (100.0%) in 8.56 sec. Users per second: 4057\n"
     ]
    },
    {
     "name": "stderr",
     "output_type": "stream",
     "text": [
      "[I 2024-12-17 23:21:21,916] Trial 31 finished with value: 0.02813963299364052 and parameters: {'topK': 13, 'alpha': 0.3729700994669106, 'beta': 0.18902439445773375}. Best is trial 21 with value: 0.028335691798026946.\n"
     ]
    },
    {
     "name": "stdout",
     "output_type": "stream",
     "text": [
      "RP3betaRecommender: Similarity column 38121 (100.0%), 4255.56 column/sec. Elapsed time 8.96 sec\n",
      "EvaluatorHoldout: Processed 34728 (100.0%) in 8.65 sec. Users per second: 4013\n"
     ]
    },
    {
     "name": "stderr",
     "output_type": "stream",
     "text": [
      "[I 2024-12-17 23:21:39,909] Trial 32 finished with value: 0.028254256206052354 and parameters: {'topK': 14, 'alpha': 0.37896184371018043, 'beta': 0.24140178645016502}. Best is trial 21 with value: 0.028335691798026946.\n"
     ]
    },
    {
     "name": "stdout",
     "output_type": "stream",
     "text": [
      "RP3betaRecommender: Similarity column 38121 (100.0%), 4296.04 column/sec. Elapsed time 8.87 sec\n",
      "EvaluatorHoldout: Processed 34728 (100.0%) in 8.61 sec. Users per second: 4036\n"
     ]
    },
    {
     "name": "stderr",
     "output_type": "stream",
     "text": [
      "[I 2024-12-17 23:21:57,793] Trial 33 finished with value: 0.028345610147613557 and parameters: {'topK': 17, 'alpha': 0.4221659575585117, 'beta': 0.18400883761165546}. Best is trial 33 with value: 0.028345610147613557.\n"
     ]
    },
    {
     "name": "stdout",
     "output_type": "stream",
     "text": [
      "RP3betaRecommender: Similarity column 38121 (100.0%), 4642.00 column/sec. Elapsed time 8.21 sec\n",
      "EvaluatorHoldout: Processed 34728 (100.0%) in 8.57 sec. Users per second: 4054\n"
     ]
    },
    {
     "name": "stderr",
     "output_type": "stream",
     "text": [
      "[I 2024-12-17 23:22:15,013] Trial 34 finished with value: 0.0284084899701253 and parameters: {'topK': 19, 'alpha': 0.41394202350443526, 'beta': 0.22307940041364377}. Best is trial 34 with value: 0.0284084899701253.\n"
     ]
    },
    {
     "name": "stdout",
     "output_type": "stream",
     "text": [
      "RP3betaRecommender: Similarity column 38121 (100.0%), 4568.46 column/sec. Elapsed time 8.34 sec\n",
      "EvaluatorHoldout: Processed 34728 (100.0%) in 8.74 sec. Users per second: 3973\n"
     ]
    },
    {
     "name": "stderr",
     "output_type": "stream",
     "text": [
      "[I 2024-12-17 23:22:32,530] Trial 35 finished with value: 0.028342425534675978 and parameters: {'topK': 19, 'alpha': 0.418793963343109, 'beta': 0.1799144585949018}. Best is trial 34 with value: 0.0284084899701253.\n"
     ]
    },
    {
     "name": "stdout",
     "output_type": "stream",
     "text": [
      "RP3betaRecommender: Similarity column 38121 (100.0%), 4162.66 column/sec. Elapsed time 9.16 sec\n",
      "EvaluatorHoldout: Processed 34728 (100.0%) in 8.49 sec. Users per second: 4092\n"
     ]
    },
    {
     "name": "stderr",
     "output_type": "stream",
     "text": [
      "[I 2024-12-17 23:22:50,589] Trial 36 finished with value: 0.02822617059378393 and parameters: {'topK': 19, 'alpha': 0.423498088086531, 'beta': 0.1386296481249759}. Best is trial 34 with value: 0.0284084899701253.\n"
     ]
    },
    {
     "name": "stdout",
     "output_type": "stream",
     "text": [
      "RP3betaRecommender: Similarity column 38121 (100.0%), 4316.76 column/sec. Elapsed time 8.83 sec\n",
      "EvaluatorHoldout: Processed 34728 (100.0%) in 8.50 sec. Users per second: 4084\n"
     ]
    },
    {
     "name": "stderr",
     "output_type": "stream",
     "text": [
      "[I 2024-12-17 23:23:08,322] Trial 37 finished with value: 0.028153090182935728 and parameters: {'topK': 19, 'alpha': 0.3937288874922667, 'beta': 0.10266379336076671}. Best is trial 34 with value: 0.0284084899701253.\n"
     ]
    },
    {
     "name": "stdout",
     "output_type": "stream",
     "text": [
      "RP3betaRecommender: Similarity column 38121 (100.0%), 4033.72 column/sec. Elapsed time 9.45 sec\n",
      "EvaluatorHoldout: Processed 34728 (100.0%) in 8.49 sec. Users per second: 4089\n"
     ]
    },
    {
     "name": "stderr",
     "output_type": "stream",
     "text": [
      "[I 2024-12-17 23:23:26,674] Trial 38 finished with value: 0.028357878963225384 and parameters: {'topK': 18, 'alpha': 0.39976241091540593, 'beta': 0.17991068415660302}. Best is trial 34 with value: 0.0284084899701253.\n"
     ]
    },
    {
     "name": "stdout",
     "output_type": "stream",
     "text": [
      "RP3betaRecommender: Similarity column 38121 (100.0%), 4108.01 column/sec. Elapsed time 9.28 sec\n",
      "EvaluatorHoldout: Processed 34728 (100.0%) in 8.46 sec. Users per second: 4106\n"
     ]
    },
    {
     "name": "stderr",
     "output_type": "stream",
     "text": [
      "[I 2024-12-17 23:23:44,818] Trial 39 finished with value: 0.02835378478735341 and parameters: {'topK': 18, 'alpha': 0.39405914216559046, 'beta': 0.18085147708592747}. Best is trial 34 with value: 0.0284084899701253.\n"
     ]
    },
    {
     "name": "stdout",
     "output_type": "stream",
     "text": [
      "RP3betaRecommender: Similarity column 38121 (100.0%), 4415.65 column/sec. Elapsed time 8.63 sec\n",
      "EvaluatorHoldout: Processed 34728 (100.0%) in 8.46 sec. Users per second: 4106\n"
     ]
    },
    {
     "name": "stderr",
     "output_type": "stream",
     "text": [
      "[I 2024-12-17 23:24:02,308] Trial 40 finished with value: 0.028295274523461363 and parameters: {'topK': 17, 'alpha': 0.39537063709537373, 'beta': 0.16124680726044419}. Best is trial 34 with value: 0.0284084899701253.\n"
     ]
    },
    {
     "name": "stdout",
     "output_type": "stream",
     "text": [
      "RP3betaRecommender: Similarity column 38121 (100.0%), 4191.13 column/sec. Elapsed time 9.10 sec\n",
      "EvaluatorHoldout: Processed 34728 (100.0%) in 8.66 sec. Users per second: 4012\n"
     ]
    },
    {
     "name": "stderr",
     "output_type": "stream",
     "text": [
      "[I 2024-12-17 23:24:20,481] Trial 41 finished with value: 0.028321878096626774 and parameters: {'topK': 19, 'alpha': 0.4226034349554664, 'beta': 0.17846332593265463}. Best is trial 34 with value: 0.0284084899701253.\n"
     ]
    },
    {
     "name": "stdout",
     "output_type": "stream",
     "text": [
      "RP3betaRecommender: Similarity column 38121 (100.0%), 4426.33 column/sec. Elapsed time 8.61 sec\n",
      "EvaluatorHoldout: Processed 34728 (100.0%) in 9.08 sec. Users per second: 3826\n"
     ]
    },
    {
     "name": "stderr",
     "output_type": "stream",
     "text": [
      "[I 2024-12-17 23:24:38,599] Trial 42 finished with value: 0.028343381946957524 and parameters: {'topK': 17, 'alpha': 0.40509939419950464, 'beta': 0.20743031645716362}. Best is trial 34 with value: 0.0284084899701253.\n"
     ]
    },
    {
     "name": "stdout",
     "output_type": "stream",
     "text": [
      "RP3betaRecommender: Similarity column 38121 (100.0%), 4394.55 column/sec. Elapsed time 8.67 sec\n",
      "EvaluatorHoldout: Processed 34728 (100.0%) in 8.62 sec. Users per second: 4029\n"
     ]
    },
    {
     "name": "stderr",
     "output_type": "stream",
     "text": [
      "[I 2024-12-17 23:24:56,311] Trial 43 finished with value: 0.02834668996793145 and parameters: {'topK': 17, 'alpha': 0.4028339661797118, 'beta': 0.20470899819272892}. Best is trial 34 with value: 0.0284084899701253.\n"
     ]
    },
    {
     "name": "stdout",
     "output_type": "stream",
     "text": [
      "RP3betaRecommender: Similarity column 38121 (100.0%), 4316.22 column/sec. Elapsed time 8.83 sec\n",
      "EvaluatorHoldout: Processed 34728 (100.0%) in 8.58 sec. Users per second: 4047\n"
     ]
    },
    {
     "name": "stderr",
     "output_type": "stream",
     "text": [
      "[I 2024-12-17 23:25:14,148] Trial 44 finished with value: 0.02823699165030291 and parameters: {'topK': 20, 'alpha': 0.39375733256756074, 'beta': 0.1422696405094043}. Best is trial 34 with value: 0.0284084899701253.\n"
     ]
    },
    {
     "name": "stdout",
     "output_type": "stream",
     "text": [
      "RP3betaRecommender: Similarity column 38121 (100.0%), 4341.75 column/sec. Elapsed time 8.78 sec\n",
      "EvaluatorHoldout: Processed 34728 (100.0%) in 8.79 sec. Users per second: 3953\n"
     ]
    },
    {
     "name": "stderr",
     "output_type": "stream",
     "text": [
      "[I 2024-12-17 23:25:32,111] Trial 45 finished with value: 0.028175881818978853 and parameters: {'topK': 18, 'alpha': 0.3616794004676727, 'beta': 0.12161058793657968}. Best is trial 34 with value: 0.0284084899701253.\n"
     ]
    },
    {
     "name": "stdout",
     "output_type": "stream",
     "text": [
      "RP3betaRecommender: Similarity column 38121 (100.0%), 4259.83 column/sec. Elapsed time 8.95 sec\n",
      "EvaluatorHoldout: Processed 34728 (100.0%) in 8.51 sec. Users per second: 4081\n"
     ]
    },
    {
     "name": "stderr",
     "output_type": "stream",
     "text": [
      "[I 2024-12-17 23:25:49,983] Trial 46 finished with value: 0.02831034972923293 and parameters: {'topK': 17, 'alpha': 0.46223380330168495, 'beta': 0.2000805586882424}. Best is trial 34 with value: 0.0284084899701253.\n"
     ]
    },
    {
     "name": "stdout",
     "output_type": "stream",
     "text": [
      "RP3betaRecommender: Similarity column 38121 (100.0%), 4610.54 column/sec. Elapsed time 8.27 sec\n",
      "EvaluatorHoldout: Processed 34728 (100.0%) in 8.28 sec. Users per second: 4197\n"
     ]
    },
    {
     "name": "stderr",
     "output_type": "stream",
     "text": [
      "[I 2024-12-17 23:26:06,941] Trial 47 finished with value: 0.02825660210140957 and parameters: {'topK': 18, 'alpha': 0.43125642699571964, 'beta': 0.1566592582587281}. Best is trial 34 with value: 0.0284084899701253.\n"
     ]
    },
    {
     "name": "stdout",
     "output_type": "stream",
     "text": [
      "RP3betaRecommender: Similarity column 38121 (100.0%), 4348.44 column/sec. Elapsed time 8.77 sec\n",
      "EvaluatorHoldout: Processed 34728 (100.0%) in 8.59 sec. Users per second: 4042\n"
     ]
    },
    {
     "name": "stderr",
     "output_type": "stream",
     "text": [
      "[I 2024-12-17 23:26:24,749] Trial 48 finished with value: 0.028352331314925545 and parameters: {'topK': 20, 'alpha': 0.4080265080740041, 'beta': 0.21783064865808482}. Best is trial 34 with value: 0.0284084899701253.\n"
     ]
    },
    {
     "name": "stdout",
     "output_type": "stream",
     "text": [
      "RP3betaRecommender: Similarity column 38121 (100.0%), 4314.94 column/sec. Elapsed time 8.83 sec\n",
      "EvaluatorHoldout: Processed 34728 (100.0%) in 8.38 sec. Users per second: 4142\n"
     ]
    },
    {
     "name": "stderr",
     "output_type": "stream",
     "text": [
      "[I 2024-12-17 23:26:42,409] Trial 49 finished with value: 0.028360019178522173 and parameters: {'topK': 20, 'alpha': 0.400726035544053, 'beta': 0.2186785083406273}. Best is trial 34 with value: 0.0284084899701253.\n"
     ]
    },
    {
     "name": "stdout",
     "output_type": "stream",
     "text": [
      "RP3betaRecommender: Similarity column 38121 (100.0%), 4137.88 column/sec. Elapsed time 9.21 sec\n",
      "EvaluatorHoldout: Processed 34728 (100.0%) in 8.50 sec. Users per second: 4084\n"
     ]
    },
    {
     "name": "stderr",
     "output_type": "stream",
     "text": [
      "[I 2024-12-17 23:27:00,578] Trial 50 finished with value: 0.02826675126973078 and parameters: {'topK': 20, 'alpha': 0.45474674865206666, 'beta': 0.2234586651526478}. Best is trial 34 with value: 0.0284084899701253.\n"
     ]
    },
    {
     "name": "stdout",
     "output_type": "stream",
     "text": [
      "RP3betaRecommender: Similarity column 38121 (100.0%), 4523.36 column/sec. Elapsed time 8.43 sec\n",
      "EvaluatorHoldout: Processed 34728 (100.0%) in 8.41 sec. Users per second: 4130\n"
     ]
    },
    {
     "name": "stderr",
     "output_type": "stream",
     "text": [
      "[I 2024-12-17 23:27:17,846] Trial 51 finished with value: 0.028396110315814 and parameters: {'topK': 19, 'alpha': 0.3986249976182328, 'beta': 0.2143151306558283}. Best is trial 34 with value: 0.0284084899701253.\n"
     ]
    },
    {
     "name": "stdout",
     "output_type": "stream",
     "text": [
      "RP3betaRecommender: Similarity column 38121 (100.0%), 4439.78 column/sec. Elapsed time 8.59 sec\n",
      "EvaluatorHoldout: Processed 34728 (100.0%) in 8.42 sec. Users per second: 4125\n"
     ]
    },
    {
     "name": "stderr",
     "output_type": "stream",
     "text": [
      "[I 2024-12-17 23:27:35,331] Trial 52 finished with value: 0.02814625589159034 and parameters: {'topK': 20, 'alpha': 0.39075145246806425, 'beta': 0.26625378673498673}. Best is trial 34 with value: 0.0284084899701253.\n"
     ]
    },
    {
     "name": "stdout",
     "output_type": "stream",
     "text": [
      "RP3betaRecommender: Similarity column 38121 (100.0%), 4647.47 column/sec. Elapsed time 8.20 sec\n",
      "EvaluatorHoldout: Processed 34728 (100.0%) in 8.33 sec. Users per second: 4167\n"
     ]
    },
    {
     "name": "stderr",
     "output_type": "stream",
     "text": [
      "[I 2024-12-17 23:27:52,299] Trial 53 finished with value: 0.028425786520550708 and parameters: {'topK': 19, 'alpha': 0.4094294327369192, 'beta': 0.2165037873102017}. Best is trial 53 with value: 0.028425786520550708.\n"
     ]
    },
    {
     "name": "stdout",
     "output_type": "stream",
     "text": [
      "RP3betaRecommender: Similarity column 38121 (100.0%), 4355.61 column/sec. Elapsed time 8.75 sec\n",
      "EvaluatorHoldout: Processed 34728 (100.0%) in 8.57 sec. Users per second: 4051\n"
     ]
    },
    {
     "name": "stderr",
     "output_type": "stream",
     "text": [
      "[I 2024-12-17 23:28:10,068] Trial 54 finished with value: 0.028284479748283402 and parameters: {'topK': 19, 'alpha': 0.36807647525250237, 'beta': 0.250057233467144}. Best is trial 53 with value: 0.028425786520550708.\n"
     ]
    },
    {
     "name": "stdout",
     "output_type": "stream",
     "text": [
      "RP3betaRecommender: Similarity column 38121 (100.0%), 4169.07 column/sec. Elapsed time 9.14 sec\n",
      "EvaluatorHoldout: Processed 34728 (100.0%) in 8.41 sec. Users per second: 4129\n"
     ]
    },
    {
     "name": "stderr",
     "output_type": "stream",
     "text": [
      "[I 2024-12-17 23:28:28,054] Trial 55 finished with value: 0.02824512972469878 and parameters: {'topK': 18, 'alpha': 0.48639049816763946, 'beta': 0.23606400911906958}. Best is trial 53 with value: 0.028425786520550708.\n"
     ]
    },
    {
     "name": "stdout",
     "output_type": "stream",
     "text": [
      "RP3betaRecommender: Similarity column 38121 (100.0%), 4139.70 column/sec. Elapsed time 9.21 sec\n",
      "EvaluatorHoldout: Processed 34728 (100.0%) in 8.29 sec. Users per second: 4187\n"
     ]
    },
    {
     "name": "stderr",
     "output_type": "stream",
     "text": [
      "[I 2024-12-17 23:28:45,986] Trial 56 finished with value: 0.02831768336605853 and parameters: {'topK': 19, 'alpha': 0.38584586727668374, 'beta': 0.16869395507128504}. Best is trial 53 with value: 0.028425786520550708.\n"
     ]
    },
    {
     "name": "stdout",
     "output_type": "stream",
     "text": [
      "RP3betaRecommender: Similarity column 38121 (100.0%), 4303.77 column/sec. Elapsed time 8.86 sec\n",
      "EvaluatorHoldout: Processed 34728 (100.0%) in 8.43 sec. Users per second: 4117\n"
     ]
    },
    {
     "name": "stderr",
     "output_type": "stream",
     "text": [
      "[I 2024-12-17 23:29:03,772] Trial 57 finished with value: 0.026736899551342556 and parameters: {'topK': 18, 'alpha': 0.40934944119164085, 'beta': 0.49611283337888357}. Best is trial 53 with value: 0.028425786520550708.\n"
     ]
    },
    {
     "name": "stdout",
     "output_type": "stream",
     "text": [
      "RP3betaRecommender: Similarity column 38121 (100.0%), 4361.35 column/sec. Elapsed time 8.74 sec\n",
      "EvaluatorHoldout: Processed 34728 (100.0%) in 8.71 sec. Users per second: 3988\n"
     ]
    },
    {
     "name": "stderr",
     "output_type": "stream",
     "text": [
      "[I 2024-12-17 23:29:21,662] Trial 58 finished with value: 0.02800408983373673 and parameters: {'topK': 16, 'alpha': 0.43398251394108917, 'beta': 0.32856872893574635}. Best is trial 53 with value: 0.028425786520550708.\n"
     ]
    },
    {
     "name": "stdout",
     "output_type": "stream",
     "text": [
      "RP3betaRecommender: Similarity column 38121 (100.0%), 4323.39 column/sec. Elapsed time 8.82 sec\n",
      "EvaluatorHoldout: Processed 34728 (100.0%) in 8.75 sec. Users per second: 3968\n"
     ]
    },
    {
     "name": "stderr",
     "output_type": "stream",
     "text": [
      "[I 2024-12-17 23:29:39,700] Trial 59 finished with value: 0.02813806525451234 and parameters: {'topK': 20, 'alpha': 0.3616795957784302, 'beta': 0.2687902790968705}. Best is trial 53 with value: 0.028425786520550708.\n"
     ]
    },
    {
     "name": "stdout",
     "output_type": "stream",
     "text": [
      "RP3betaRecommender: Similarity column 38121 (100.0%), 4111.24 column/sec. Elapsed time 9.27 sec\n",
      "EvaluatorHoldout: Processed 34728 (100.0%) in 8.56 sec. Users per second: 4055\n"
     ]
    },
    {
     "name": "stderr",
     "output_type": "stream",
     "text": [
      "[I 2024-12-17 23:29:57,957] Trial 60 finished with value: 0.028330168145734066 and parameters: {'topK': 18, 'alpha': 0.45140322592665394, 'beta': 0.20988781263530437}. Best is trial 53 with value: 0.028425786520550708.\n"
     ]
    },
    {
     "name": "stdout",
     "output_type": "stream",
     "text": [
      "RP3betaRecommender: Similarity column 38121 (100.0%), 4066.00 column/sec. Elapsed time 9.38 sec\n",
      "EvaluatorHoldout: Processed 34728 (100.0%) in 8.61 sec. Users per second: 4032\n"
     ]
    },
    {
     "name": "stderr",
     "output_type": "stream",
     "text": [
      "[I 2024-12-17 23:30:16,393] Trial 61 finished with value: 0.028407091345713543 and parameters: {'topK': 19, 'alpha': 0.4079184007419528, 'beta': 0.22129823546511262}. Best is trial 53 with value: 0.028425786520550708.\n"
     ]
    },
    {
     "name": "stdout",
     "output_type": "stream",
     "text": [
      "RP3betaRecommender: Similarity column 38121 (100.0%), 4256.86 column/sec. Elapsed time 8.96 sec\n",
      "EvaluatorHoldout: Processed 34728 (100.0%) in 8.62 sec. Users per second: 4030\n"
     ]
    },
    {
     "name": "stderr",
     "output_type": "stream",
     "text": [
      "[I 2024-12-17 23:30:34,392] Trial 62 finished with value: 0.028365818213562655 and parameters: {'topK': 19, 'alpha': 0.40024728702031, 'beta': 0.18942326312310584}. Best is trial 53 with value: 0.028425786520550708.\n"
     ]
    },
    {
     "name": "stdout",
     "output_type": "stream",
     "text": [
      "RP3betaRecommender: Similarity column 38121 (100.0%), 1577.51 column/sec. Elapsed time 24.17 sec\n",
      "EvaluatorHoldout: Processed 34728 (100.0%) in 8.18 sec. Users per second: 4245\n"
     ]
    },
    {
     "name": "stderr",
     "output_type": "stream",
     "text": [
      "[I 2024-12-17 23:31:06,987] Trial 63 finished with value: 0.0229173751202084 and parameters: {'topK': 3, 'alpha': 0.4100759529039404, 'beta': 0.22517886776589255}. Best is trial 53 with value: 0.028425786520550708.\n"
     ]
    },
    {
     "name": "stdout",
     "output_type": "stream",
     "text": [
      "RP3betaRecommender: Similarity column 38121 (100.0%), 4207.03 column/sec. Elapsed time 9.06 sec\n",
      "EvaluatorHoldout: Processed 34728 (100.0%) in 8.84 sec. Users per second: 3930\n"
     ]
    },
    {
     "name": "stderr",
     "output_type": "stream",
     "text": [
      "[I 2024-12-17 23:31:25,335] Trial 64 finished with value: 0.02825727056160644 and parameters: {'topK': 19, 'alpha': 0.34577126953311876, 'beta': 0.24609841356010137}. Best is trial 53 with value: 0.028425786520550708.\n"
     ]
    },
    {
     "name": "stdout",
     "output_type": "stream",
     "text": [
      "RP3betaRecommender: Similarity column 38121 (100.0%), 4165.91 column/sec. Elapsed time 9.15 sec\n",
      "EvaluatorHoldout: Processed 34728 (100.0%) in 9.12 sec. Users per second: 3806\n"
     ]
    },
    {
     "name": "stderr",
     "output_type": "stream",
     "text": [
      "[I 2024-12-17 23:31:44,059] Trial 65 finished with value: 0.028236467166148495 and parameters: {'topK': 20, 'alpha': 0.44097541317149774, 'beta': 0.19535277487162225}. Best is trial 53 with value: 0.028425786520550708.\n"
     ]
    },
    {
     "name": "stdout",
     "output_type": "stream",
     "text": [
      "RP3betaRecommender: Similarity column 38121 (100.0%), 4154.14 column/sec. Elapsed time 9.18 sec\n",
      "EvaluatorHoldout: Processed 34728 (100.0%) in 9.29 sec. Users per second: 3740\n"
     ]
    },
    {
     "name": "stderr",
     "output_type": "stream",
     "text": [
      "[I 2024-12-17 23:32:02,982] Trial 66 finished with value: 0.02838096655002237 and parameters: {'topK': 19, 'alpha': 0.43063046408015676, 'beta': 0.22110940700688286}. Best is trial 53 with value: 0.028425786520550708.\n"
     ]
    },
    {
     "name": "stdout",
     "output_type": "stream",
     "text": [
      "RP3betaRecommender: Similarity column 38121 (100.0%), 4416.18 column/sec. Elapsed time 8.63 sec\n",
      "EvaluatorHoldout: Processed 34728 (100.0%) in 8.60 sec. Users per second: 4038\n"
     ]
    },
    {
     "name": "stderr",
     "output_type": "stream",
     "text": [
      "[I 2024-12-17 23:32:20,679] Trial 67 finished with value: 0.028113251097873767 and parameters: {'topK': 19, 'alpha': 0.42679808221083515, 'beta': 0.2845877197739052}. Best is trial 53 with value: 0.028425786520550708.\n"
     ]
    },
    {
     "name": "stdout",
     "output_type": "stream",
     "text": [
      "RP3betaRecommender: Similarity column 38121 (100.0%), 4495.79 column/sec. Elapsed time 8.48 sec\n",
      "EvaluatorHoldout: Processed 34728 (100.0%) in 8.23 sec. Users per second: 4218\n"
     ]
    },
    {
     "name": "stderr",
     "output_type": "stream",
     "text": [
      "[I 2024-12-17 23:32:37,694] Trial 68 finished with value: 0.027031437968721393 and parameters: {'topK': 7, 'alpha': 0.4127229482158377, 'beta': 0.2330728763906934}. Best is trial 53 with value: 0.028425786520550708.\n"
     ]
    },
    {
     "name": "stdout",
     "output_type": "stream",
     "text": [
      "RP3betaRecommender: Similarity column 38121 (100.0%), 4393.43 column/sec. Elapsed time 8.68 sec\n",
      "EvaluatorHoldout: Processed 34728 (100.0%) in 8.55 sec. Users per second: 4064\n"
     ]
    },
    {
     "name": "stderr",
     "output_type": "stream",
     "text": [
      "[I 2024-12-17 23:32:55,316] Trial 69 finished with value: 0.028295013995384727 and parameters: {'topK': 16, 'alpha': 0.4447049908716082, 'beta': 0.2173909921104273}. Best is trial 53 with value: 0.028425786520550708.\n"
     ]
    },
    {
     "name": "stdout",
     "output_type": "stream",
     "text": [
      "RP3betaRecommender: Similarity column 38121 (100.0%), 4544.52 column/sec. Elapsed time 8.39 sec\n",
      "EvaluatorHoldout: Processed 34728 (100.0%) in 8.80 sec. Users per second: 3944\n"
     ]
    },
    {
     "name": "stderr",
     "output_type": "stream",
     "text": [
      "[I 2024-12-17 23:33:12,967] Trial 70 finished with value: 0.028229315213376287 and parameters: {'topK': 19, 'alpha': 0.3861326758501008, 'beta': 0.2557925860839237}. Best is trial 53 with value: 0.028425786520550708.\n"
     ]
    },
    {
     "name": "stdout",
     "output_type": "stream",
     "text": [
      "RP3betaRecommender: Similarity column 38121 (100.0%), 4199.18 column/sec. Elapsed time 9.08 sec\n",
      "EvaluatorHoldout: Processed 34728 (100.0%) in 8.76 sec. Users per second: 3966\n"
     ]
    },
    {
     "name": "stderr",
     "output_type": "stream",
     "text": [
      "[I 2024-12-17 23:33:31,241] Trial 71 finished with value: 0.028335519255309416 and parameters: {'topK': 20, 'alpha': 0.3996108072352484, 'beta': 0.19756132624214257}. Best is trial 53 with value: 0.028425786520550708.\n"
     ]
    },
    {
     "name": "stdout",
     "output_type": "stream",
     "text": [
      "RP3betaRecommender: Similarity column 38121 (100.0%), 4317.45 column/sec. Elapsed time 8.83 sec\n",
      "EvaluatorHoldout: Processed 34728 (100.0%) in 8.84 sec. Users per second: 3928\n"
     ]
    },
    {
     "name": "stderr",
     "output_type": "stream",
     "text": [
      "[I 2024-12-17 23:33:49,337] Trial 72 finished with value: 0.028317413696645855 and parameters: {'topK': 18, 'alpha': 0.4319267823451375, 'beta': 0.1891747882444379}. Best is trial 53 with value: 0.028425786520550708.\n"
     ]
    },
    {
     "name": "stdout",
     "output_type": "stream",
     "text": [
      "RP3betaRecommender: Similarity column 38121 (100.0%), 4277.67 column/sec. Elapsed time 8.91 sec\n",
      "EvaluatorHoldout: Processed 34728 (100.0%) in 8.84 sec. Users per second: 3928\n"
     ]
    },
    {
     "name": "stderr",
     "output_type": "stream",
     "text": [
      "[I 2024-12-17 23:34:07,530] Trial 73 finished with value: 0.028440063002086992 and parameters: {'topK': 19, 'alpha': 0.4176290154380183, 'beta': 0.21520987912346945}. Best is trial 73 with value: 0.028440063002086992.\n"
     ]
    },
    {
     "name": "stdout",
     "output_type": "stream",
     "text": [
      "RP3betaRecommender: Similarity column 38121 (100.0%), 4105.34 column/sec. Elapsed time 9.29 sec\n",
      "EvaluatorHoldout: Processed 34728 (100.0%) in 8.52 sec. Users per second: 4074\n"
     ]
    },
    {
     "name": "stderr",
     "output_type": "stream",
     "text": [
      "[I 2024-12-17 23:34:25,779] Trial 74 finished with value: 0.028352587272334206 and parameters: {'topK': 19, 'alpha': 0.4163331829588304, 'beta': 0.2295400663880122}. Best is trial 73 with value: 0.028440063002086992.\n"
     ]
    },
    {
     "name": "stdout",
     "output_type": "stream",
     "text": [
      "RP3betaRecommender: Similarity column 38121 (100.0%), 4115.22 column/sec. Elapsed time 9.26 sec\n",
      "EvaluatorHoldout: Processed 34728 (100.0%) in 8.69 sec. Users per second: 3997\n"
     ]
    },
    {
     "name": "stderr",
     "output_type": "stream",
     "text": [
      "[I 2024-12-17 23:34:44,231] Trial 75 finished with value: 0.027200236166415568 and parameters: {'topK': 20, 'alpha': 0.4689307683200441, 'beta': 0.4429398903515621}. Best is trial 73 with value: 0.028440063002086992.\n"
     ]
    },
    {
     "name": "stdout",
     "output_type": "stream",
     "text": [
      "RP3betaRecommender: Similarity column 38121 (100.0%), 4179.26 column/sec. Elapsed time 9.12 sec\n",
      "EvaluatorHoldout: Processed 34728 (100.0%) in 8.37 sec. Users per second: 4148\n"
     ]
    },
    {
     "name": "stderr",
     "output_type": "stream",
     "text": [
      "[I 2024-12-17 23:35:02,127] Trial 76 finished with value: 0.02825192402269908 and parameters: {'topK': 15, 'alpha': 0.38376800682922935, 'beta': 0.2750126777738315}. Best is trial 73 with value: 0.028440063002086992.\n"
     ]
    },
    {
     "name": "stdout",
     "output_type": "stream",
     "text": [
      "RP3betaRecommender: Similarity column 38121 (100.0%), 4500.42 column/sec. Elapsed time 8.47 sec\n",
      "EvaluatorHoldout: Processed 34728 (100.0%) in 8.76 sec. Users per second: 3964\n"
     ]
    },
    {
     "name": "stderr",
     "output_type": "stream",
     "text": [
      "[I 2024-12-17 23:35:19,784] Trial 77 finished with value: 0.02829894591254222 and parameters: {'topK': 17, 'alpha': 0.418059895154117, 'beta': 0.24321461365095276}. Best is trial 73 with value: 0.028440063002086992.\n"
     ]
    },
    {
     "name": "stdout",
     "output_type": "stream",
     "text": [
      "RP3betaRecommender: Similarity column 38121 (100.0%), 4175.86 column/sec. Elapsed time 9.13 sec\n",
      "EvaluatorHoldout: Processed 34728 (100.0%) in 8.54 sec. Users per second: 4066\n"
     ]
    },
    {
     "name": "stderr",
     "output_type": "stream",
     "text": [
      "[I 2024-12-17 23:35:37,880] Trial 78 finished with value: 0.02837409569333289 and parameters: {'topK': 19, 'alpha': 0.3705776523807381, 'beta': 0.21218786082149174}. Best is trial 73 with value: 0.028440063002086992.\n"
     ]
    },
    {
     "name": "stdout",
     "output_type": "stream",
     "text": [
      "RP3betaRecommender: Similarity column 38121 (100.0%), 4075.40 column/sec. Elapsed time 9.35 sec\n",
      "EvaluatorHoldout: Processed 34728 (100.0%) in 8.48 sec. Users per second: 4094\n"
     ]
    },
    {
     "name": "stderr",
     "output_type": "stream",
     "text": [
      "[I 2024-12-17 23:35:56,129] Trial 79 finished with value: 0.02814428250567602 and parameters: {'topK': 19, 'alpha': 0.33244783280048956, 'beta': 0.15082551750705991}. Best is trial 73 with value: 0.028440063002086992.\n"
     ]
    },
    {
     "name": "stdout",
     "output_type": "stream",
     "text": [
      "RP3betaRecommender: Similarity column 38121 (100.0%), 4195.20 column/sec. Elapsed time 9.09 sec\n",
      "EvaluatorHoldout: Processed 34728 (100.0%) in 8.55 sec. Users per second: 4061\n"
     ]
    },
    {
     "name": "stderr",
     "output_type": "stream",
     "text": [
      "[I 2024-12-17 23:36:14,171] Trial 80 finished with value: 0.028419822941461764 and parameters: {'topK': 17, 'alpha': 0.3710712347471227, 'beta': 0.20967439008544614}. Best is trial 73 with value: 0.028440063002086992.\n"
     ]
    },
    {
     "name": "stdout",
     "output_type": "stream",
     "text": [
      "RP3betaRecommender: Similarity column 38121 (100.0%), 4310.41 column/sec. Elapsed time 8.84 sec\n",
      "EvaluatorHoldout: Processed 34728 (100.0%) in 8.61 sec. Users per second: 4031\n"
     ]
    },
    {
     "name": "stderr",
     "output_type": "stream",
     "text": [
      "[I 2024-12-17 23:36:32,061] Trial 81 finished with value: 0.028351136085240276 and parameters: {'topK': 19, 'alpha': 0.3706621708688347, 'beta': 0.20872931816976611}. Best is trial 73 with value: 0.028440063002086992.\n"
     ]
    },
    {
     "name": "stdout",
     "output_type": "stream",
     "text": [
      "RP3betaRecommender: Similarity column 38121 (100.0%), 4354.55 column/sec. Elapsed time 8.75 sec\n",
      "EvaluatorHoldout: Processed 34728 (100.0%) in 8.53 sec. Users per second: 4070\n"
     ]
    },
    {
     "name": "stderr",
     "output_type": "stream",
     "text": [
      "[I 2024-12-17 23:36:49,765] Trial 82 finished with value: 0.028255440009067392 and parameters: {'topK': 18, 'alpha': 0.3551999507787899, 'beta': 0.17225502665975925}. Best is trial 73 with value: 0.028440063002086992.\n"
     ]
    },
    {
     "name": "stdout",
     "output_type": "stream",
     "text": [
      "RP3betaRecommender: Similarity column 38121 (100.0%), 4138.88 column/sec. Elapsed time 9.21 sec\n",
      "EvaluatorHoldout: Processed 34728 (100.0%) in 8.76 sec. Users per second: 3965\n"
     ]
    },
    {
     "name": "stderr",
     "output_type": "stream",
     "text": [
      "[I 2024-12-17 23:37:08,144] Trial 83 finished with value: 0.02836797214086352 and parameters: {'topK': 17, 'alpha': 0.3803286817981178, 'beta': 0.1939061858017504}. Best is trial 73 with value: 0.028440063002086992.\n"
     ]
    },
    {
     "name": "stdout",
     "output_type": "stream",
     "text": [
      "RP3betaRecommender: Similarity column 38121 (100.0%), 4186.65 column/sec. Elapsed time 9.11 sec\n",
      "EvaluatorHoldout: Processed 34728 (100.0%) in 8.52 sec. Users per second: 4078\n"
     ]
    },
    {
     "name": "stderr",
     "output_type": "stream",
     "text": [
      "[I 2024-12-17 23:37:26,180] Trial 84 finished with value: 0.02842347376253657 and parameters: {'topK': 17, 'alpha': 0.37641940961764464, 'beta': 0.21026425748292288}. Best is trial 73 with value: 0.028440063002086992.\n"
     ]
    },
    {
     "name": "stdout",
     "output_type": "stream",
     "text": [
      "RP3betaRecommender: Similarity column 38121 (100.0%), 4309.69 column/sec. Elapsed time 8.85 sec\n",
      "EvaluatorHoldout: Processed 34728 (100.0%) in 8.63 sec. Users per second: 4023\n"
     ]
    },
    {
     "name": "stderr",
     "output_type": "stream",
     "text": [
      "[I 2024-12-17 23:37:44,069] Trial 85 finished with value: 0.02836719741263544 and parameters: {'topK': 16, 'alpha': 0.3752012732526564, 'beta': 0.21016766570453577}. Best is trial 73 with value: 0.028440063002086992.\n"
     ]
    },
    {
     "name": "stdout",
     "output_type": "stream",
     "text": [
      "RP3betaRecommender: Similarity column 38121 (100.0%), 4409.49 column/sec. Elapsed time 8.65 sec\n",
      "EvaluatorHoldout: Processed 34728 (100.0%) in 8.58 sec. Users per second: 4045\n"
     ]
    },
    {
     "name": "stderr",
     "output_type": "stream",
     "text": [
      "[I 2024-12-17 23:38:01,730] Trial 86 finished with value: 0.02822458114398254 and parameters: {'topK': 18, 'alpha': 0.35090037890476466, 'beta': 0.23783919369355605}. Best is trial 73 with value: 0.028440063002086992.\n"
     ]
    },
    {
     "name": "stdout",
     "output_type": "stream",
     "text": [
      "RP3betaRecommender: Similarity column 38121 (100.0%), 4687.81 column/sec. Elapsed time 8.13 sec\n",
      "EvaluatorHoldout: Processed 34728 (100.0%) in 8.54 sec. Users per second: 4068\n"
     ]
    },
    {
     "name": "stderr",
     "output_type": "stream",
     "text": [
      "[I 2024-12-17 23:38:18,850] Trial 87 finished with value: 0.028298172326981175 and parameters: {'topK': 17, 'alpha': 0.36643906299478, 'beta': 0.26146439604118527}. Best is trial 73 with value: 0.028440063002086992.\n"
     ]
    },
    {
     "name": "stdout",
     "output_type": "stream",
     "text": [
      "RP3betaRecommender: Similarity column 38121 (100.0%), 4391.17 column/sec. Elapsed time 8.68 sec\n",
      "EvaluatorHoldout: Processed 34728 (100.0%) in 8.66 sec. Users per second: 4010\n"
     ]
    },
    {
     "name": "stderr",
     "output_type": "stream",
     "text": [
      "[I 2024-12-17 23:38:36,619] Trial 88 finished with value: 0.028293495390937642 and parameters: {'topK': 16, 'alpha': 0.4275279508865795, 'beta': 0.22932401740119862}. Best is trial 73 with value: 0.028440063002086992.\n"
     ]
    },
    {
     "name": "stdout",
     "output_type": "stream",
     "text": [
      "RP3betaRecommender: Similarity column 38121 (100.0%), 4468.97 column/sec. Elapsed time 8.53 sec\n",
      "EvaluatorHoldout: Processed 34728 (100.0%) in 8.49 sec. Users per second: 4092\n"
     ]
    },
    {
     "name": "stderr",
     "output_type": "stream",
     "text": [
      "[I 2024-12-17 23:38:54,013] Trial 89 finished with value: 0.027950553599308925 and parameters: {'topK': 11, 'alpha': 0.3891293341318244, 'beta': 0.3006708125206783}. Best is trial 73 with value: 0.028440063002086992.\n"
     ]
    },
    {
     "name": "stdout",
     "output_type": "stream",
     "text": [
      "RP3betaRecommender: Similarity column 38121 (100.0%), 4539.60 column/sec. Elapsed time 8.40 sec\n",
      "EvaluatorHoldout: Processed 34728 (100.0%) in 8.60 sec. Users per second: 4038\n"
     ]
    },
    {
     "name": "stderr",
     "output_type": "stream",
     "text": [
      "[I 2024-12-17 23:39:11,480] Trial 90 finished with value: 0.02824350828022136 and parameters: {'topK': 20, 'alpha': 0.3577932288338793, 'beta': 0.25029170051543753}. Best is trial 73 with value: 0.028440063002086992.\n"
     ]
    },
    {
     "name": "stdout",
     "output_type": "stream",
     "text": [
      "RP3betaRecommender: Similarity column 38121 (100.0%), 4285.62 column/sec. Elapsed time 8.90 sec\n",
      "EvaluatorHoldout: Processed 34728 (100.0%) in 8.41 sec. Users per second: 4128\n"
     ]
    },
    {
     "name": "stderr",
     "output_type": "stream",
     "text": [
      "[I 2024-12-17 23:39:29,199] Trial 91 finished with value: 0.028396578809285266 and parameters: {'topK': 17, 'alpha': 0.3803444291027954, 'beta': 0.20042898890216854}. Best is trial 73 with value: 0.028440063002086992.\n"
     ]
    },
    {
     "name": "stdout",
     "output_type": "stream",
     "text": [
      "RP3betaRecommender: Similarity column 38121 (100.0%), 3862.81 column/sec. Elapsed time 9.87 sec\n",
      "EvaluatorHoldout: Processed 34728 (100.0%) in 8.80 sec. Users per second: 3945\n"
     ]
    },
    {
     "name": "stderr",
     "output_type": "stream",
     "text": [
      "[I 2024-12-17 23:39:48,303] Trial 92 finished with value: 0.02840202018955388 and parameters: {'topK': 17, 'alpha': 0.37705563739429565, 'beta': 0.20275123469848416}. Best is trial 73 with value: 0.028440063002086992.\n"
     ]
    },
    {
     "name": "stdout",
     "output_type": "stream",
     "text": [
      "RP3betaRecommender: Similarity column 38121 (100.0%), 4180.47 column/sec. Elapsed time 9.12 sec\n",
      "EvaluatorHoldout: Processed 34728 (100.0%) in 8.77 sec. Users per second: 3960\n"
     ]
    },
    {
     "name": "stderr",
     "output_type": "stream",
     "text": [
      "[I 2024-12-17 23:40:06,580] Trial 93 finished with value: 0.028252837013634343 and parameters: {'topK': 15, 'alpha': 0.4054891929244374, 'beta': 0.20222091557199778}. Best is trial 73 with value: 0.028440063002086992.\n"
     ]
    },
    {
     "name": "stdout",
     "output_type": "stream",
     "text": [
      "RP3betaRecommender: Similarity column 38121 (100.0%), 4067.74 column/sec. Elapsed time 9.37 sec\n",
      "EvaluatorHoldout: Processed 34728 (100.0%) in 8.50 sec. Users per second: 4085\n"
     ]
    },
    {
     "name": "stderr",
     "output_type": "stream",
     "text": [
      "[I 2024-12-17 23:40:24,833] Trial 94 finished with value: 0.02833173359952822 and parameters: {'topK': 15, 'alpha': 0.37851791671261176, 'beta': 0.16966981606987075}. Best is trial 73 with value: 0.028440063002086992.\n"
     ]
    },
    {
     "name": "stdout",
     "output_type": "stream",
     "text": [
      "RP3betaRecommender: Similarity column 38121 (100.0%), 4183.55 column/sec. Elapsed time 9.11 sec\n",
      "EvaluatorHoldout: Processed 34728 (100.0%) in 8.52 sec. Users per second: 4074\n"
     ]
    },
    {
     "name": "stderr",
     "output_type": "stream",
     "text": [
      "[I 2024-12-17 23:40:42,887] Trial 95 finished with value: 0.02838932173114896 and parameters: {'topK': 17, 'alpha': 0.41604893680795935, 'beta': 0.22470140026929836}. Best is trial 73 with value: 0.028440063002086992.\n"
     ]
    },
    {
     "name": "stdout",
     "output_type": "stream",
     "text": [
      "RP3betaRecommender: Similarity column 38121 (100.0%), 4181.65 column/sec. Elapsed time 9.12 sec\n",
      "EvaluatorHoldout: Processed 34728 (100.0%) in 8.48 sec. Users per second: 4093\n"
     ]
    },
    {
     "name": "stderr",
     "output_type": "stream",
     "text": [
      "[I 2024-12-17 23:41:00,898] Trial 96 finished with value: 0.028370836807040254 and parameters: {'topK': 17, 'alpha': 0.4136615420426916, 'beta': 0.2008209579863172}. Best is trial 73 with value: 0.028440063002086992.\n"
     ]
    },
    {
     "name": "stdout",
     "output_type": "stream",
     "text": [
      "RP3betaRecommender: Similarity column 38121 (100.0%), 4418.67 column/sec. Elapsed time 8.63 sec\n",
      "EvaluatorHoldout: Processed 34728 (100.0%) in 8.54 sec. Users per second: 4068\n"
     ]
    },
    {
     "name": "stderr",
     "output_type": "stream",
     "text": [
      "[I 2024-12-17 23:41:18,493] Trial 97 finished with value: 0.02836818124892508 and parameters: {'topK': 18, 'alpha': 0.39512937055626646, 'beta': 0.18745103513027975}. Best is trial 73 with value: 0.028440063002086992.\n"
     ]
    },
    {
     "name": "stdout",
     "output_type": "stream",
     "text": [
      "RP3betaRecommender: Similarity column 38121 (100.0%), 4233.10 column/sec. Elapsed time 9.01 sec\n",
      "EvaluatorHoldout: Processed 34728 (100.0%) in 8.53 sec. Users per second: 4071\n"
     ]
    },
    {
     "name": "stderr",
     "output_type": "stream",
     "text": [
      "[I 2024-12-17 23:41:36,422] Trial 98 finished with value: 0.028239425531019394 and parameters: {'topK': 16, 'alpha': 0.38818874816163074, 'beta': 0.1759527013898656}. Best is trial 73 with value: 0.028440063002086992.\n"
     ]
    },
    {
     "name": "stdout",
     "output_type": "stream",
     "text": [
      "RP3betaRecommender: Similarity column 38121 (100.0%), 4827.47 column/sec. Elapsed time 7.90 sec\n",
      "EvaluatorHoldout: Processed 34728 (100.0%) in 8.42 sec. Users per second: 4124\n"
     ]
    },
    {
     "name": "stderr",
     "output_type": "stream",
     "text": [
      "[I 2024-12-17 23:41:53,121] Trial 99 finished with value: 0.028326969820792476 and parameters: {'topK': 14, 'alpha': 0.3413359400261411, 'beta': 0.21985384122143928}. Best is trial 73 with value: 0.028440063002086992.\n"
     ]
    },
    {
     "name": "stdout",
     "output_type": "stream",
     "text": [
      "RP3betaRecommender: Similarity column 38121 (100.0%), 4415.46 column/sec. Elapsed time 8.63 sec\n",
      "EvaluatorHoldout: Processed 34728 (100.0%) in 8.58 sec. Users per second: 4050\n"
     ]
    },
    {
     "name": "stderr",
     "output_type": "stream",
     "text": [
      "[I 2024-12-17 23:42:10,747] Trial 100 finished with value: 0.028351921097471505 and parameters: {'topK': 17, 'alpha': 0.40491705985949145, 'beta': 0.24144222434120338}. Best is trial 73 with value: 0.028440063002086992.\n"
     ]
    },
    {
     "name": "stdout",
     "output_type": "stream",
     "text": [
      "RP3betaRecommender: Similarity column 38121 (100.0%), 4226.72 column/sec. Elapsed time 9.02 sec\n",
      "EvaluatorHoldout: Processed 34728 (100.0%) in 8.50 sec. Users per second: 4086\n"
     ]
    },
    {
     "name": "stderr",
     "output_type": "stream",
     "text": [
      "[I 2024-12-17 23:42:28,690] Trial 101 finished with value: 0.02836650495643153 and parameters: {'topK': 18, 'alpha': 0.4211193984067753, 'beta': 0.22328716981232163}. Best is trial 73 with value: 0.028440063002086992.\n"
     ]
    },
    {
     "name": "stdout",
     "output_type": "stream",
     "text": [
      "RP3betaRecommender: Similarity column 38121 (100.0%), 4635.07 column/sec. Elapsed time 8.22 sec\n",
      "EvaluatorHoldout: Processed 34728 (100.0%) in 8.48 sec. Users per second: 4094\n"
     ]
    },
    {
     "name": "stderr",
     "output_type": "stream",
     "text": [
      "[I 2024-12-17 23:42:45,809] Trial 102 finished with value: 0.028373712899886938 and parameters: {'topK': 17, 'alpha': 0.4287227188164409, 'beta': 0.20711967355564662}. Best is trial 73 with value: 0.028440063002086992.\n"
     ]
    },
    {
     "name": "stdout",
     "output_type": "stream",
     "text": [
      "RP3betaRecommender: Similarity column 38121 (100.0%), 4443.34 column/sec. Elapsed time 8.58 sec\n",
      "EvaluatorHoldout: Processed 34728 (100.0%) in 8.49 sec. Users per second: 4089\n"
     ]
    },
    {
     "name": "stderr",
     "output_type": "stream",
     "text": [
      "[I 2024-12-17 23:43:03,308] Trial 103 finished with value: 0.028175000822719426 and parameters: {'topK': 18, 'alpha': 0.23378794163086863, 'beta': 0.22846532643247655}. Best is trial 73 with value: 0.028440063002086992.\n"
     ]
    },
    {
     "name": "stdout",
     "output_type": "stream",
     "text": [
      "RP3betaRecommender: Similarity column 38121 (100.0%), 4230.00 column/sec. Elapsed time 9.01 sec\n",
      "EvaluatorHoldout: Processed 34728 (100.0%) in 8.52 sec. Users per second: 4077\n"
     ]
    },
    {
     "name": "stderr",
     "output_type": "stream",
     "text": [
      "[I 2024-12-17 23:43:21,263] Trial 104 finished with value: 0.02838775627735474 and parameters: {'topK': 17, 'alpha': 0.4376405337251729, 'beta': 0.22034580470772036}. Best is trial 73 with value: 0.028440063002086992.\n"
     ]
    },
    {
     "name": "stdout",
     "output_type": "stream",
     "text": [
      "RP3betaRecommender: Similarity column 38121 (100.0%), 4370.92 column/sec. Elapsed time 8.72 sec\n",
      "EvaluatorHoldout: Processed 34728 (100.0%) in 8.45 sec. Users per second: 4108\n"
     ]
    },
    {
     "name": "stderr",
     "output_type": "stream",
     "text": [
      "[I 2024-12-17 23:43:38,839] Trial 105 finished with value: 0.028299881756817725 and parameters: {'topK': 16, 'alpha': 0.43811011045781595, 'beta': 0.18345955162439254}. Best is trial 73 with value: 0.028440063002086992.\n"
     ]
    },
    {
     "name": "stdout",
     "output_type": "stream",
     "text": [
      "RP3betaRecommender: Similarity column 38121 (100.0%), 4426.16 column/sec. Elapsed time 8.61 sec\n",
      "EvaluatorHoldout: Processed 34728 (100.0%) in 8.43 sec. Users per second: 4120\n"
     ]
    },
    {
     "name": "stderr",
     "output_type": "stream",
     "text": [
      "[I 2024-12-17 23:43:56,283] Trial 106 finished with value: 0.028339660280528527 and parameters: {'topK': 16, 'alpha': 0.3963263664973639, 'beta': 0.21415825338948447}. Best is trial 73 with value: 0.028440063002086992.\n"
     ]
    },
    {
     "name": "stdout",
     "output_type": "stream",
     "text": [
      "RP3betaRecommender: Similarity column 38121 (100.0%), 4336.17 column/sec. Elapsed time 8.79 sec\n",
      "EvaluatorHoldout: Processed 34728 (100.0%) in 8.48 sec. Users per second: 4097\n"
     ]
    },
    {
     "name": "stderr",
     "output_type": "stream",
     "text": [
      "[I 2024-12-17 23:44:13,957] Trial 107 finished with value: 0.028373152993055397 and parameters: {'topK': 17, 'alpha': 0.40935544631361026, 'beta': 0.19546738702215172}. Best is trial 73 with value: 0.028440063002086992.\n"
     ]
    },
    {
     "name": "stdout",
     "output_type": "stream",
     "text": [
      "RP3betaRecommender: Similarity column 38121 (100.0%), 4584.20 column/sec. Elapsed time 8.32 sec\n",
      "EvaluatorHoldout: Processed 34728 (100.0%) in 8.58 sec. Users per second: 4045\n"
     ]
    },
    {
     "name": "stderr",
     "output_type": "stream",
     "text": [
      "[I 2024-12-17 23:44:31,295] Trial 108 finished with value: 0.028293830192369494 and parameters: {'topK': 18, 'alpha': 0.45498928491909024, 'beta': 0.2349247081666829}. Best is trial 73 with value: 0.028440063002086992.\n"
     ]
    },
    {
     "name": "stdout",
     "output_type": "stream",
     "text": [
      "RP3betaRecommender: Similarity column 38121 (100.0%), 4483.16 column/sec. Elapsed time 8.50 sec\n",
      "EvaluatorHoldout: Processed 34728 (100.0%) in 8.20 sec. Users per second: 4237\n"
     ]
    },
    {
     "name": "stderr",
     "output_type": "stream",
     "text": [
      "[I 2024-12-17 23:44:48,274] Trial 109 finished with value: 0.02592374000394859 and parameters: {'topK': 5, 'alpha': 0.38204385351316617, 'beta': 0.2561821470100595}. Best is trial 73 with value: 0.028440063002086992.\n"
     ]
    },
    {
     "name": "stdout",
     "output_type": "stream",
     "text": [
      "RP3betaRecommender: Similarity column 38121 (100.0%), 4624.52 column/sec. Elapsed time 8.24 sec\n",
      "EvaluatorHoldout: Processed 34728 (100.0%) in 8.58 sec. Users per second: 4049\n"
     ]
    },
    {
     "name": "stderr",
     "output_type": "stream",
     "text": [
      "[I 2024-12-17 23:45:05,515] Trial 110 finished with value: 0.028291451159669138 and parameters: {'topK': 18, 'alpha': 0.3748733836841236, 'beta': 0.204207123621658}. Best is trial 73 with value: 0.028440063002086992.\n"
     ]
    },
    {
     "name": "stdout",
     "output_type": "stream",
     "text": [
      "RP3betaRecommender: Similarity column 38121 (100.0%), 4228.90 column/sec. Elapsed time 9.01 sec\n",
      "EvaluatorHoldout: Processed 34728 (100.0%) in 8.74 sec. Users per second: 3976\n"
     ]
    },
    {
     "name": "stderr",
     "output_type": "stream",
     "text": [
      "[I 2024-12-17 23:45:23,703] Trial 111 finished with value: 0.028375927388538853 and parameters: {'topK': 19, 'alpha': 0.4244059665917168, 'beta': 0.22170300363811205}. Best is trial 73 with value: 0.028440063002086992.\n"
     ]
    },
    {
     "name": "stdout",
     "output_type": "stream",
     "text": [
      "RP3betaRecommender: Similarity column 38121 (100.0%), 667.20 column/sec. Elapsed time 57.14 sec\n",
      "EvaluatorHoldout: Processed 34728 (100.0%) in 8.53 sec. Users per second: 4072\n"
     ]
    },
    {
     "name": "stderr",
     "output_type": "stream",
     "text": [
      "[I 2024-12-17 23:46:29,795] Trial 112 finished with value: 0.028354609792929572 and parameters: {'topK': 19, 'alpha': 0.43575778379481933, 'beta': 0.21675309136821932}. Best is trial 73 with value: 0.028440063002086992.\n"
     ]
    },
    {
     "name": "stdout",
     "output_type": "stream",
     "text": [
      "RP3betaRecommender: Similarity column 38121 (100.0%), 4404.45 column/sec. Elapsed time 8.66 sec\n",
      "EvaluatorHoldout: Processed 34728 (100.0%) in 8.69 sec. Users per second: 3995\n"
     ]
    },
    {
     "name": "stderr",
     "output_type": "stream",
     "text": [
      "[I 2024-12-17 23:46:47,562] Trial 113 finished with value: 0.02833216438498846 and parameters: {'topK': 17, 'alpha': 0.4446974133128309, 'beta': 0.23688299158296502}. Best is trial 73 with value: 0.028440063002086992.\n"
     ]
    },
    {
     "name": "stdout",
     "output_type": "stream",
     "text": [
      "RP3betaRecommender: Similarity column 38121 (100.0%), 4105.36 column/sec. Elapsed time 9.29 sec\n",
      "EvaluatorHoldout: Processed 34728 (100.0%) in 8.32 sec. Users per second: 4173\n"
     ]
    },
    {
     "name": "stderr",
     "output_type": "stream",
     "text": [
      "[I 2024-12-17 23:47:05,540] Trial 114 finished with value: 0.028250518542285184 and parameters: {'topK': 15, 'alpha': 0.4110418188224314, 'beta': 0.1621857031393481}. Best is trial 73 with value: 0.028440063002086992.\n"
     ]
    },
    {
     "name": "stdout",
     "output_type": "stream",
     "text": [
      "RP3betaRecommender: Similarity column 38121 (100.0%), 4453.52 column/sec. Elapsed time 8.56 sec\n",
      "EvaluatorHoldout: Processed 34728 (100.0%) in 8.50 sec. Users per second: 4087\n"
     ]
    },
    {
     "name": "stderr",
     "output_type": "stream",
     "text": [
      "[I 2024-12-17 23:47:23,050] Trial 115 finished with value: 0.028293949029737815 and parameters: {'topK': 20, 'alpha': 0.418699134990483, 'beta': 0.22364507328832936}. Best is trial 73 with value: 0.028440063002086992.\n"
     ]
    },
    {
     "name": "stdout",
     "output_type": "stream",
     "text": [
      "RP3betaRecommender: Similarity column 38121 (100.0%), 4264.48 column/sec. Elapsed time 8.94 sec\n",
      "EvaluatorHoldout: Processed 34728 (100.0%) in 8.45 sec. Users per second: 4111\n"
     ]
    },
    {
     "name": "stderr",
     "output_type": "stream",
     "text": [
      "[I 2024-12-17 23:47:40,870] Trial 116 finished with value: 0.02827134250574911 and parameters: {'topK': 18, 'alpha': 0.3640855722725636, 'beta': 0.24664222544964148}. Best is trial 73 with value: 0.028440063002086992.\n"
     ]
    },
    {
     "name": "stdout",
     "output_type": "stream",
     "text": [
      "RP3betaRecommender: Similarity column 38121 (100.0%), 4415.15 column/sec. Elapsed time 8.63 sec\n",
      "EvaluatorHoldout: Processed 34728 (100.0%) in 8.64 sec. Users per second: 4018\n"
     ]
    },
    {
     "name": "stderr",
     "output_type": "stream",
     "text": [
      "[I 2024-12-17 23:47:58,582] Trial 117 finished with value: 0.028372332558147185 and parameters: {'topK': 19, 'alpha': 0.39276801804701666, 'beta': 0.21326589233891832}. Best is trial 73 with value: 0.028440063002086992.\n"
     ]
    },
    {
     "name": "stdout",
     "output_type": "stream",
     "text": [
      "RP3betaRecommender: Similarity column 38121 (100.0%), 4146.43 column/sec. Elapsed time 9.19 sec\n",
      "EvaluatorHoldout: Processed 34728 (100.0%) in 8.40 sec. Users per second: 4136\n"
     ]
    },
    {
     "name": "stderr",
     "output_type": "stream",
     "text": [
      "[I 2024-12-17 23:48:16,579] Trial 118 finished with value: 0.02838083628598401 and parameters: {'topK': 17, 'alpha': 0.40144287712917803, 'beta': 0.19054779316057027}. Best is trial 73 with value: 0.028440063002086992.\n"
     ]
    },
    {
     "name": "stdout",
     "output_type": "stream",
     "text": [
      "RP3betaRecommender: Similarity column 38121 (100.0%), 4138.85 column/sec. Elapsed time 9.21 sec\n",
      "EvaluatorHoldout: Processed 34728 (100.0%) in 8.45 sec. Users per second: 4112\n"
     ]
    },
    {
     "name": "stderr",
     "output_type": "stream",
     "text": [
      "[I 2024-12-17 23:48:34,669] Trial 119 finished with value: 0.02834335452294939 and parameters: {'topK': 19, 'alpha': 0.41546646159492523, 'beta': 0.19873535227954559}. Best is trial 73 with value: 0.028440063002086992.\n"
     ]
    },
    {
     "name": "stdout",
     "output_type": "stream",
     "text": [
      "RP3betaRecommender: Similarity column 38121 (100.0%), 4300.63 column/sec. Elapsed time 8.86 sec\n",
      "EvaluatorHoldout: Processed 34728 (100.0%) in 8.94 sec. Users per second: 3883\n"
     ]
    },
    {
     "name": "stderr",
     "output_type": "stream",
     "text": [
      "[I 2024-12-17 23:48:52,926] Trial 120 finished with value: 0.02829335027222816 and parameters: {'topK': 20, 'alpha': 0.3846801771962325, 'beta': 0.23067394539463593}. Best is trial 73 with value: 0.028440063002086992.\n"
     ]
    },
    {
     "name": "stdout",
     "output_type": "stream",
     "text": [
      "RP3betaRecommender: Similarity column 38121 (100.0%), 4056.71 column/sec. Elapsed time 9.40 sec\n",
      "EvaluatorHoldout: Processed 34728 (100.0%) in 8.87 sec. Users per second: 3916\n"
     ]
    },
    {
     "name": "stderr",
     "output_type": "stream",
     "text": [
      "[I 2024-12-17 23:49:11,610] Trial 121 finished with value: 0.02839465684338614 and parameters: {'topK': 17, 'alpha': 0.40523425290728354, 'beta': 0.18943628974009746}. Best is trial 73 with value: 0.028440063002086992.\n"
     ]
    },
    {
     "name": "stdout",
     "output_type": "stream",
     "text": [
      "RP3betaRecommender: Similarity column 38121 (100.0%), 4545.18 column/sec. Elapsed time 8.39 sec\n",
      "EvaluatorHoldout: Processed 34728 (100.0%) in 8.45 sec. Users per second: 4109\n"
     ]
    },
    {
     "name": "stderr",
     "output_type": "stream",
     "text": [
      "[I 2024-12-17 23:49:28,853] Trial 122 finished with value: 0.02830824836461414 and parameters: {'topK': 16, 'alpha': 0.4329151867304441, 'beta': 0.2040490508863377}. Best is trial 73 with value: 0.028440063002086992.\n"
     ]
    },
    {
     "name": "stdout",
     "output_type": "stream",
     "text": [
      "RP3betaRecommender: Similarity column 38121 (100.0%), 4203.96 column/sec. Elapsed time 9.07 sec\n",
      "EvaluatorHoldout: Processed 34728 (100.0%) in 8.46 sec. Users per second: 4103\n"
     ]
    },
    {
     "name": "stderr",
     "output_type": "stream",
     "text": [
      "[I 2024-12-17 23:49:46,790] Trial 123 finished with value: 0.028291100360899213 and parameters: {'topK': 17, 'alpha': 0.4216578832403325, 'beta': 0.17933700534924082}. Best is trial 73 with value: 0.028440063002086992.\n"
     ]
    },
    {
     "name": "stdout",
     "output_type": "stream",
     "text": [
      "RP3betaRecommender: Similarity column 38121 (100.0%), 4457.04 column/sec. Elapsed time 8.55 sec\n",
      "EvaluatorHoldout: Processed 34728 (100.0%) in 8.60 sec. Users per second: 4039\n"
     ]
    },
    {
     "name": "stderr",
     "output_type": "stream",
     "text": [
      "[I 2024-12-17 23:50:04,426] Trial 124 finished with value: 0.027951628848958937 and parameters: {'topK': 18, 'alpha': 0.40492004863876885, 'beta': 0.3521576188744264}. Best is trial 73 with value: 0.028440063002086992.\n"
     ]
    },
    {
     "name": "stdout",
     "output_type": "stream",
     "text": [
      "RP3betaRecommender: Similarity column 38121 (100.0%), 4260.74 column/sec. Elapsed time 8.95 sec\n",
      "EvaluatorHoldout: Processed 34728 (100.0%) in 8.51 sec. Users per second: 4083\n"
     ]
    },
    {
     "name": "stderr",
     "output_type": "stream",
     "text": [
      "[I 2024-12-17 23:50:22,299] Trial 125 finished with value: 0.028359370143664415 and parameters: {'topK': 18, 'alpha': 0.40053822193978356, 'beta': 0.21258428959269277}. Best is trial 73 with value: 0.028440063002086992.\n"
     ]
    },
    {
     "name": "stdout",
     "output_type": "stream",
     "text": [
      "RP3betaRecommender: Similarity column 38121 (100.0%), 4081.41 column/sec. Elapsed time 9.34 sec\n",
      "EvaluatorHoldout: Processed 34728 (100.0%) in 8.70 sec. Users per second: 3990\n"
     ]
    },
    {
     "name": "stderr",
     "output_type": "stream",
     "text": [
      "[I 2024-12-17 23:50:40,754] Trial 126 finished with value: 0.02831360747285869 and parameters: {'topK': 17, 'alpha': 0.4485751060927355, 'beta': 0.18791159537826568}. Best is trial 73 with value: 0.028440063002086992.\n"
     ]
    },
    {
     "name": "stdout",
     "output_type": "stream",
     "text": [
      "RP3betaRecommender: Similarity column 38121 (100.0%), 4171.95 column/sec. Elapsed time 9.14 sec\n",
      "EvaluatorHoldout: Processed 34728 (100.0%) in 8.71 sec. Users per second: 3987\n"
     ]
    },
    {
     "name": "stderr",
     "output_type": "stream",
     "text": [
      "[I 2024-12-17 23:50:59,047] Trial 127 finished with value: 0.02834747040949449 and parameters: {'topK': 19, 'alpha': 0.39187801972724273, 'beta': 0.2261046731306741}. Best is trial 73 with value: 0.028440063002086992.\n"
     ]
    },
    {
     "name": "stdout",
     "output_type": "stream",
     "text": [
      "RP3betaRecommender: Similarity column 38121 (100.0%), 4123.17 column/sec. Elapsed time 9.25 sec\n",
      "EvaluatorHoldout: Processed 34728 (100.0%) in 8.84 sec. Users per second: 3927\n"
     ]
    },
    {
     "name": "stderr",
     "output_type": "stream",
     "text": [
      "[I 2024-12-17 23:51:17,540] Trial 128 finished with value: 0.028330836605930793 and parameters: {'topK': 16, 'alpha': 0.41502803811096134, 'beta': 0.19758354556047636}. Best is trial 73 with value: 0.028440063002086992.\n"
     ]
    },
    {
     "name": "stdout",
     "output_type": "stream",
     "text": [
      "RP3betaRecommender: Similarity column 38121 (100.0%), 4234.06 column/sec. Elapsed time 9.00 sec\n",
      "EvaluatorHoldout: Processed 34728 (100.0%) in 8.45 sec. Users per second: 4109\n"
     ]
    },
    {
     "name": "stderr",
     "output_type": "stream",
     "text": [
      "[I 2024-12-17 23:51:35,386] Trial 129 finished with value: 0.02827844646650718 and parameters: {'topK': 15, 'alpha': 0.4266541944225682, 'beta': 0.20560573183701603}. Best is trial 73 with value: 0.028440063002086992.\n"
     ]
    },
    {
     "name": "stdout",
     "output_type": "stream",
     "text": [
      "RP3betaRecommender: Similarity column 38121 (100.0%), 4018.53 column/sec. Elapsed time 9.49 sec\n",
      "EvaluatorHoldout: Processed 34728 (100.0%) in 8.82 sec. Users per second: 3935\n"
     ]
    },
    {
     "name": "stderr",
     "output_type": "stream",
     "text": [
      "[I 2024-12-17 23:51:54,129] Trial 130 finished with value: 0.02830606815597229 and parameters: {'topK': 18, 'alpha': 0.3734730400042865, 'beta': 0.24243232699750353}. Best is trial 73 with value: 0.028440063002086992.\n"
     ]
    },
    {
     "name": "stdout",
     "output_type": "stream",
     "text": [
      "RP3betaRecommender: Similarity column 38121 (100.0%), 4355.18 column/sec. Elapsed time 8.75 sec\n",
      "EvaluatorHoldout: Processed 34728 (100.0%) in 8.62 sec. Users per second: 4028\n"
     ]
    },
    {
     "name": "stderr",
     "output_type": "stream",
     "text": [
      "[I 2024-12-17 23:52:11,903] Trial 131 finished with value: 0.028294336393851836 and parameters: {'topK': 17, 'alpha': 0.3972103296650824, 'beta': 0.15458804142981647}. Best is trial 73 with value: 0.028440063002086992.\n"
     ]
    },
    {
     "name": "stdout",
     "output_type": "stream",
     "text": [
      "RP3betaRecommender: Similarity column 38121 (100.0%), 4022.12 column/sec. Elapsed time 9.48 sec\n",
      "EvaluatorHoldout: Processed 34728 (100.0%) in 8.72 sec. Users per second: 3983\n"
     ]
    },
    {
     "name": "stderr",
     "output_type": "stream",
     "text": [
      "[I 2024-12-17 23:52:30,517] Trial 132 finished with value: 0.02838451567373391 and parameters: {'topK': 17, 'alpha': 0.4071001731040577, 'beta': 0.19161083079507554}. Best is trial 73 with value: 0.028440063002086992.\n"
     ]
    },
    {
     "name": "stdout",
     "output_type": "stream",
     "text": [
      "RP3betaRecommender: Similarity column 38121 (100.0%), 4596.80 column/sec. Elapsed time 8.29 sec\n",
      "EvaluatorHoldout: Processed 34728 (100.0%) in 8.63 sec. Users per second: 4024\n"
     ]
    },
    {
     "name": "stderr",
     "output_type": "stream",
     "text": [
      "[I 2024-12-17 23:52:47,848] Trial 133 finished with value: 0.02831040571991601 and parameters: {'topK': 16, 'alpha': 0.4082280024959856, 'beta': 0.2176665300884172}. Best is trial 73 with value: 0.028440063002086992.\n"
     ]
    },
    {
     "name": "stdout",
     "output_type": "stream",
     "text": [
      "RP3betaRecommender: Similarity column 38121 (100.0%), 4216.40 column/sec. Elapsed time 9.04 sec\n",
      "EvaluatorHoldout: Processed 34728 (100.0%) in 8.65 sec. Users per second: 4015\n"
     ]
    },
    {
     "name": "stderr",
     "output_type": "stream",
     "text": [
      "[I 2024-12-17 23:53:05,962] Trial 134 finished with value: 0.02831686750181835 and parameters: {'topK': 19, 'alpha': 0.3893942314205194, 'beta': 0.1704523431764416}. Best is trial 73 with value: 0.028440063002086992.\n"
     ]
    },
    {
     "name": "stdout",
     "output_type": "stream",
     "text": [
      "RP3betaRecommender: Similarity column 38121 (100.0%), 4284.98 column/sec. Elapsed time 8.90 sec\n",
      "EvaluatorHoldout: Processed 34728 (100.0%) in 8.56 sec. Users per second: 4055\n"
     ]
    },
    {
     "name": "stderr",
     "output_type": "stream",
     "text": [
      "[I 2024-12-17 23:53:23,782] Trial 135 finished with value: 0.028118139427312804 and parameters: {'topK': 12, 'alpha': 0.41359841534925046, 'beta': 0.1830521769018845}. Best is trial 73 with value: 0.028440063002086992.\n"
     ]
    },
    {
     "name": "stdout",
     "output_type": "stream",
     "text": [
      "RP3betaRecommender: Similarity column 38121 (100.0%), 4269.96 column/sec. Elapsed time 8.93 sec\n",
      "EvaluatorHoldout: Processed 34728 (100.0%) in 8.64 sec. Users per second: 4019\n"
     ]
    },
    {
     "name": "stderr",
     "output_type": "stream",
     "text": [
      "[I 2024-12-17 23:53:41,764] Trial 136 finished with value: 0.028327944515746054 and parameters: {'topK': 17, 'alpha': 0.4229121223401775, 'beta': 0.1929751193325006}. Best is trial 73 with value: 0.028440063002086992.\n"
     ]
    },
    {
     "name": "stdout",
     "output_type": "stream",
     "text": [
      "RP3betaRecommender: Similarity column 38121 (100.0%), 4193.23 column/sec. Elapsed time 9.09 sec\n",
      "EvaluatorHoldout: Processed 34728 (100.0%) in 8.68 sec. Users per second: 4003\n"
     ]
    },
    {
     "name": "stderr",
     "output_type": "stream",
     "text": [
      "[I 2024-12-17 23:53:59,978] Trial 137 finished with value: 0.02831344635681107 and parameters: {'topK': 20, 'alpha': 0.38040421471035646, 'beta': 0.20965849044001295}. Best is trial 73 with value: 0.028440063002086992.\n"
     ]
    },
    {
     "name": "stdout",
     "output_type": "stream",
     "text": [
      "RP3betaRecommender: Similarity column 38121 (100.0%), 4155.08 column/sec. Elapsed time 9.17 sec\n",
      "EvaluatorHoldout: Processed 34728 (100.0%) in 8.74 sec. Users per second: 3975\n"
     ]
    },
    {
     "name": "stderr",
     "output_type": "stream",
     "text": [
      "[I 2024-12-17 23:54:18,322] Trial 138 finished with value: 0.028330034453694607 and parameters: {'topK': 18, 'alpha': 0.40113024595567953, 'beta': 0.23068452830973224}. Best is trial 73 with value: 0.028440063002086992.\n"
     ]
    },
    {
     "name": "stdout",
     "output_type": "stream",
     "text": [
      "RP3betaRecommender: Similarity column 38121 (100.0%), 4321.62 column/sec. Elapsed time 8.82 sec\n",
      "EvaluatorHoldout: Processed 34728 (100.0%) in 8.68 sec. Users per second: 4003\n"
     ]
    },
    {
     "name": "stderr",
     "output_type": "stream",
     "text": [
      "[I 2024-12-17 23:54:36,244] Trial 139 finished with value: 0.02835980092912461 and parameters: {'topK': 18, 'alpha': 0.44183989804683743, 'beta': 0.22015752746883668}. Best is trial 73 with value: 0.028440063002086992.\n"
     ]
    },
    {
     "name": "stdout",
     "output_type": "stream",
     "text": [
      "RP3betaRecommender: Similarity column 38121 (100.0%), 4437.13 column/sec. Elapsed time 8.59 sec\n",
      "EvaluatorHoldout: Processed 34728 (100.0%) in 8.58 sec. Users per second: 4050\n"
     ]
    },
    {
     "name": "stderr",
     "output_type": "stream",
     "text": [
      "[I 2024-12-17 23:54:53,811] Trial 140 finished with value: 0.028359051339570517 and parameters: {'topK': 16, 'alpha': 0.3571949722428225, 'beta': 0.2025869997752028}. Best is trial 73 with value: 0.028440063002086992.\n"
     ]
    },
    {
     "name": "stdout",
     "output_type": "stream",
     "text": [
      "RP3betaRecommender: Similarity column 38121 (100.0%), 4052.63 column/sec. Elapsed time 9.41 sec\n",
      "EvaluatorHoldout: Processed 34728 (100.0%) in 8.66 sec. Users per second: 4012\n"
     ]
    },
    {
     "name": "stderr",
     "output_type": "stream",
     "text": [
      "[I 2024-12-17 23:55:12,283] Trial 141 finished with value: 0.028391410526430422 and parameters: {'topK': 17, 'alpha': 0.4051436478964543, 'beta': 0.18957492803353532}. Best is trial 73 with value: 0.028440063002086992.\n"
     ]
    },
    {
     "name": "stdout",
     "output_type": "stream",
     "text": [
      "RP3betaRecommender: Similarity column 38121 (100.0%), 4457.23 column/sec. Elapsed time 8.55 sec\n",
      "EvaluatorHoldout: Processed 34728 (100.0%) in 8.43 sec. Users per second: 4122\n"
     ]
    },
    {
     "name": "stderr",
     "output_type": "stream",
     "text": [
      "[I 2024-12-17 23:55:29,592] Trial 142 finished with value: 0.027777091034908344 and parameters: {'topK': 9, 'alpha': 0.4065877435574654, 'beta': 0.19385479255284485}. Best is trial 73 with value: 0.028440063002086992.\n"
     ]
    },
    {
     "name": "stdout",
     "output_type": "stream",
     "text": [
      "RP3betaRecommender: Similarity column 38121 (100.0%), 4120.92 column/sec. Elapsed time 9.25 sec\n",
      "EvaluatorHoldout: Processed 34728 (100.0%) in 8.72 sec. Users per second: 3983\n"
     ]
    },
    {
     "name": "stderr",
     "output_type": "stream",
     "text": [
      "[I 2024-12-17 23:55:47,970] Trial 143 finished with value: 0.028301729449361757 and parameters: {'topK': 17, 'alpha': 0.42917296897936774, 'beta': 0.1759789563465783}. Best is trial 73 with value: 0.028440063002086992.\n"
     ]
    },
    {
     "name": "stdout",
     "output_type": "stream",
     "text": [
      "RP3betaRecommender: Similarity column 38121 (100.0%), 4112.02 column/sec. Elapsed time 9.27 sec\n",
      "EvaluatorHoldout: Processed 34728 (100.0%) in 8.67 sec. Users per second: 4004\n"
     ]
    },
    {
     "name": "stderr",
     "output_type": "stream",
     "text": [
      "[I 2024-12-17 23:56:06,357] Trial 144 finished with value: 0.02843028177254074 and parameters: {'topK': 19, 'alpha': 0.41900121894537135, 'beta': 0.21032909878902034}. Best is trial 73 with value: 0.028440063002086992.\n"
     ]
    },
    {
     "name": "stdout",
     "output_type": "stream",
     "text": [
      "RP3betaRecommender: Similarity column 38121 (100.0%), 4049.46 column/sec. Elapsed time 9.41 sec\n",
      "EvaluatorHoldout: Processed 34728 (100.0%) in 8.48 sec. Users per second: 4095\n"
     ]
    },
    {
     "name": "stderr",
     "output_type": "stream",
     "text": [
      "[I 2024-12-17 23:56:24,648] Trial 145 finished with value: 0.028272609723455477 and parameters: {'topK': 16, 'alpha': 0.4181665014277407, 'beta': 0.1848120285139276}. Best is trial 73 with value: 0.028440063002086992.\n"
     ]
    },
    {
     "name": "stdout",
     "output_type": "stream",
     "text": [
      "RP3betaRecommender: Similarity column 38121 (100.0%), 4095.29 column/sec. Elapsed time 9.31 sec\n",
      "EvaluatorHoldout: Processed 34728 (100.0%) in 8.59 sec. Users per second: 4043\n"
     ]
    },
    {
     "name": "stderr",
     "output_type": "stream",
     "text": [
      "[I 2024-12-17 23:56:42,962] Trial 146 finished with value: 0.028329793350957023 and parameters: {'topK': 17, 'alpha': 0.40968465248059077, 'beta': 0.20889628397157628}. Best is trial 73 with value: 0.028440063002086992.\n"
     ]
    },
    {
     "name": "stdout",
     "output_type": "stream",
     "text": [
      "RP3betaRecommender: Similarity column 38121 (100.0%), 4111.52 column/sec. Elapsed time 9.27 sec\n",
      "EvaluatorHoldout: Processed 34728 (100.0%) in 8.80 sec. Users per second: 3947\n"
     ]
    },
    {
     "name": "stderr",
     "output_type": "stream",
     "text": [
      "[I 2024-12-17 23:57:01,456] Trial 147 finished with value: 0.0283084346193357 and parameters: {'topK': 18, 'alpha': 0.38656799040359874, 'beta': 0.20224331576169988}. Best is trial 73 with value: 0.028440063002086992.\n"
     ]
    },
    {
     "name": "stdout",
     "output_type": "stream",
     "text": [
      "RP3betaRecommender: Similarity column 38121 (100.0%), 4147.63 column/sec. Elapsed time 9.19 sec\n",
      "EvaluatorHoldout: Processed 34728 (100.0%) in 8.66 sec. Users per second: 4010\n"
     ]
    },
    {
     "name": "stderr",
     "output_type": "stream",
     "text": [
      "[I 2024-12-17 23:57:19,749] Trial 148 finished with value: 0.028379406809563176 and parameters: {'topK': 19, 'alpha': 0.395788004099634, 'beta': 0.21258336347915263}. Best is trial 73 with value: 0.028440063002086992.\n"
     ]
    },
    {
     "name": "stdout",
     "output_type": "stream",
     "text": [
      "RP3betaRecommender: Similarity column 38121 (100.0%), 4298.60 column/sec. Elapsed time 8.87 sec\n",
      "EvaluatorHoldout: Processed 34728 (100.0%) in 8.84 sec. Users per second: 3928\n"
     ]
    },
    {
     "name": "stderr",
     "output_type": "stream",
     "text": [
      "[I 2024-12-17 23:57:37,884] Trial 149 finished with value: 0.02814873205098596 and parameters: {'topK': 18, 'alpha': 0.2060035462367086, 'beta': 0.2353556715896829}. Best is trial 73 with value: 0.028440063002086992.\n"
     ]
    },
    {
     "name": "stdout",
     "output_type": "stream",
     "text": [
      "RP3betaRecommender: Similarity column 38121 (100.0%), 4372.33 column/sec. Elapsed time 8.72 sec\n",
      "EvaluatorHoldout: Processed 34728 (100.0%) in 8.74 sec. Users per second: 3974\n"
     ]
    },
    {
     "name": "stderr",
     "output_type": "stream",
     "text": [
      "[I 2024-12-17 23:57:55,751] Trial 150 finished with value: 0.028344177243191687 and parameters: {'topK': 17, 'alpha': 0.4136539805717991, 'beta': 0.16602364738098446}. Best is trial 73 with value: 0.028440063002086992.\n"
     ]
    },
    {
     "name": "stdout",
     "output_type": "stream",
     "text": [
      "RP3betaRecommender: Similarity column 38121 (100.0%), 4319.63 column/sec. Elapsed time 8.83 sec\n",
      "EvaluatorHoldout: Processed 34728 (100.0%) in 8.92 sec. Users per second: 3893\n"
     ]
    },
    {
     "name": "stderr",
     "output_type": "stream",
     "text": [
      "[I 2024-12-17 23:58:13,941] Trial 151 finished with value: 0.02836997180811882 and parameters: {'topK': 19, 'alpha': 0.43723364373908663, 'beta': 0.2250084297680767}. Best is trial 73 with value: 0.028440063002086992.\n"
     ]
    },
    {
     "name": "stdout",
     "output_type": "stream",
     "text": [
      "RP3betaRecommender: Similarity column 38121 (100.0%), 4315.96 column/sec. Elapsed time 8.83 sec\n",
      "EvaluatorHoldout: Processed 34728 (100.0%) in 8.85 sec. Users per second: 3925\n"
     ]
    },
    {
     "name": "stderr",
     "output_type": "stream",
     "text": [
      "[I 2024-12-17 23:58:32,074] Trial 152 finished with value: 0.028350736151789274 and parameters: {'topK': 20, 'alpha': 0.40440147051918757, 'beta': 0.2166799505389199}. Best is trial 73 with value: 0.028440063002086992.\n"
     ]
    },
    {
     "name": "stdout",
     "output_type": "stream",
     "text": [
      "RP3betaRecommender: Similarity column 38121 (100.0%), 4270.13 column/sec. Elapsed time 8.93 sec\n",
      "EvaluatorHoldout: Processed 34728 (100.0%) in 8.63 sec. Users per second: 4024\n"
     ]
    },
    {
     "name": "stderr",
     "output_type": "stream",
     "text": [
      "[I 2024-12-17 23:58:50,070] Trial 153 finished with value: 0.028337477786552656 and parameters: {'topK': 19, 'alpha': 0.4225048874947608, 'beta': 0.1960518381168487}. Best is trial 73 with value: 0.028440063002086992.\n"
     ]
    },
    {
     "name": "stdout",
     "output_type": "stream",
     "text": [
      "RP3betaRecommender: Similarity column 38121 (100.0%), 4261.84 column/sec. Elapsed time 8.94 sec\n",
      "EvaluatorHoldout: Processed 34728 (100.0%) in 8.58 sec. Users per second: 4047\n"
     ]
    },
    {
     "name": "stderr",
     "output_type": "stream",
     "text": [
      "[I 2024-12-17 23:59:08,021] Trial 154 finished with value: 0.028300549074347484 and parameters: {'topK': 18, 'alpha': 0.3678367194820673, 'beta': 0.22079734153738168}. Best is trial 73 with value: 0.028440063002086992.\n"
     ]
    },
    {
     "name": "stdout",
     "output_type": "stream",
     "text": [
      "RP3betaRecommender: Similarity column 38121 (100.0%), 4031.58 column/sec. Elapsed time 9.46 sec\n",
      "EvaluatorHoldout: Processed 34728 (100.0%) in 8.76 sec. Users per second: 3966\n"
     ]
    },
    {
     "name": "stderr",
     "output_type": "stream",
     "text": [
      "[I 2024-12-17 23:59:26,668] Trial 155 finished with value: 0.028385598922052856 and parameters: {'topK': 19, 'alpha': 0.4322684234816865, 'beta': 0.18889748923837524}. Best is trial 73 with value: 0.028440063002086992.\n"
     ]
    },
    {
     "name": "stdout",
     "output_type": "stream",
     "text": [
      "RP3betaRecommender: Similarity column 38121 (100.0%), 3967.10 column/sec. Elapsed time 9.61 sec\n",
      "EvaluatorHoldout: Processed 34728 (100.0%) in 8.73 sec. Users per second: 3976\n"
     ]
    },
    {
     "name": "stderr",
     "output_type": "stream",
     "text": [
      "[I 2024-12-17 23:59:45,419] Trial 156 finished with value: 0.028351371474642995 and parameters: {'topK': 17, 'alpha': 0.4182989274518746, 'beta': 0.1903323854160603}. Best is trial 73 with value: 0.028440063002086992.\n"
     ]
    },
    {
     "name": "stdout",
     "output_type": "stream",
     "text": [
      "RP3betaRecommender: Similarity column 38121 (100.0%), 4147.79 column/sec. Elapsed time 9.19 sec\n",
      "EvaluatorHoldout: Processed 34728 (100.0%) in 8.61 sec. Users per second: 4034\n"
     ]
    },
    {
     "name": "stderr",
     "output_type": "stream",
     "text": [
      "[I 2024-12-18 00:00:03,619] Trial 157 finished with value: 0.028273640409092218 and parameters: {'topK': 16, 'alpha': 0.3981806191701549, 'beta': 0.1811710735671418}. Best is trial 73 with value: 0.028440063002086992.\n"
     ]
    },
    {
     "name": "stdout",
     "output_type": "stream",
     "text": [
      "RP3betaRecommender: Similarity column 38121 (100.0%), 4469.52 column/sec. Elapsed time 8.53 sec\n",
      "EvaluatorHoldout: Processed 34728 (100.0%) in 8.71 sec. Users per second: 3989\n"
     ]
    },
    {
     "name": "stderr",
     "output_type": "stream",
     "text": [
      "[I 2024-12-18 00:00:21,306] Trial 158 finished with value: 0.028281621938108667 and parameters: {'topK': 20, 'alpha': 0.4309129543500848, 'beta': 0.20380343025772293}. Best is trial 73 with value: 0.028440063002086992.\n"
     ]
    },
    {
     "name": "stdout",
     "output_type": "stream",
     "text": [
      "RP3betaRecommender: Similarity column 38121 (100.0%), 4436.90 column/sec. Elapsed time 8.59 sec\n",
      "EvaluatorHoldout: Processed 34728 (100.0%) in 8.72 sec. Users per second: 3983\n"
     ]
    },
    {
     "name": "stderr",
     "output_type": "stream",
     "text": [
      "[I 2024-12-18 00:00:39,040] Trial 159 finished with value: 0.02830578705988962 and parameters: {'topK': 18, 'alpha': 0.4598915587698548, 'beta': 0.19718618952226688}. Best is trial 73 with value: 0.028440063002086992.\n"
     ]
    },
    {
     "name": "stdout",
     "output_type": "stream",
     "text": [
      "RP3betaRecommender: Similarity column 38121 (100.0%), 4216.55 column/sec. Elapsed time 9.04 sec\n",
      "EvaluatorHoldout: Processed 34728 (100.0%) in 8.82 sec. Users per second: 3938\n"
     ]
    },
    {
     "name": "stderr",
     "output_type": "stream",
     "text": [
      "[I 2024-12-18 00:00:57,348] Trial 160 finished with value: 0.028344048121820228 and parameters: {'topK': 19, 'alpha': 0.37746280651871916, 'beta': 0.20722806027211838}. Best is trial 73 with value: 0.028440063002086992.\n"
     ]
    },
    {
     "name": "stdout",
     "output_type": "stream",
     "text": [
      "RP3betaRecommender: Similarity column 38121 (100.0%), 4338.97 column/sec. Elapsed time 8.79 sec\n",
      "EvaluatorHoldout: Processed 34728 (100.0%) in 8.75 sec. Users per second: 3968\n"
     ]
    },
    {
     "name": "stderr",
     "output_type": "stream",
     "text": [
      "[I 2024-12-18 00:01:15,331] Trial 161 finished with value: 0.028398829863281305 and parameters: {'topK': 19, 'alpha': 0.4251782409275804, 'beta': 0.21564538133284128}. Best is trial 73 with value: 0.028440063002086992.\n"
     ]
    },
    {
     "name": "stdout",
     "output_type": "stream",
     "text": [
      "RP3betaRecommender: Similarity column 38121 (100.0%), 4212.22 column/sec. Elapsed time 9.05 sec\n",
      "EvaluatorHoldout: Processed 34728 (100.0%) in 8.68 sec. Users per second: 4001\n"
     ]
    },
    {
     "name": "stderr",
     "output_type": "stream",
     "text": [
      "[I 2024-12-18 00:01:33,522] Trial 162 finished with value: 0.028288159136033234 and parameters: {'topK': 20, 'alpha': 0.4257902221719908, 'beta': 0.21352169122408826}. Best is trial 73 with value: 0.028440063002086992.\n"
     ]
    },
    {
     "name": "stdout",
     "output_type": "stream",
     "text": [
      "RP3betaRecommender: Similarity column 38121 (100.0%), 3976.72 column/sec. Elapsed time 9.59 sec\n",
      "EvaluatorHoldout: Processed 34728 (100.0%) in 9.86 sec. Users per second: 3522\n"
     ]
    },
    {
     "name": "stderr",
     "output_type": "stream",
     "text": [
      "[I 2024-12-18 00:01:53,324] Trial 163 finished with value: 0.02740507636672055 and parameters: {'topK': 8, 'alpha': 0.413217795602208, 'beta': 0.18834367806149793}. Best is trial 73 with value: 0.028440063002086992.\n"
     ]
    },
    {
     "name": "stdout",
     "output_type": "stream",
     "text": [
      "RP3betaRecommender: Similarity column 38121 (100.0%), 4186.37 column/sec. Elapsed time 9.11 sec\n",
      "EvaluatorHoldout: Processed 34728 (100.0%) in 9.61 sec. Users per second: 3614\n"
     ]
    },
    {
     "name": "stderr",
     "output_type": "stream",
     "text": [
      "[I 2024-12-18 00:02:12,516] Trial 164 finished with value: 0.028297267334714705 and parameters: {'topK': 19, 'alpha': 0.4089919432655928, 'beta': 0.2322046560808803}. Best is trial 73 with value: 0.028440063002086992.\n"
     ]
    },
    {
     "name": "stdout",
     "output_type": "stream",
     "text": [
      "RP3betaRecommender: Similarity column 38121 (100.0%), 4081.19 column/sec. Elapsed time 9.34 sec\n",
      "EvaluatorHoldout: Processed 34728 (100.0%) in 10.00 sec. Users per second: 3472\n"
     ]
    },
    {
     "name": "stderr",
     "output_type": "stream",
     "text": [
      "[I 2024-12-18 00:02:32,343] Trial 165 finished with value: 0.02830787014183623 and parameters: {'topK': 17, 'alpha': 0.43504048181774685, 'beta': 0.17459035663062758}. Best is trial 73 with value: 0.028440063002086992.\n"
     ]
    },
    {
     "name": "stdout",
     "output_type": "stream",
     "text": [
      "RP3betaRecommender: Similarity column 38121 (100.0%), 3893.93 column/sec. Elapsed time 9.79 sec\n",
      "EvaluatorHoldout: Processed 34728 (100.0%) in 10.02 sec. Users per second: 3467\n"
     ]
    },
    {
     "name": "stderr",
     "output_type": "stream",
     "text": [
      "[I 2024-12-18 00:02:52,685] Trial 166 finished with value: 0.02838617711155636 and parameters: {'topK': 19, 'alpha': 0.42021612746444126, 'beta': 0.22484264768846465}. Best is trial 73 with value: 0.028440063002086992.\n"
     ]
    },
    {
     "name": "stdout",
     "output_type": "stream",
     "text": [
      "RP3betaRecommender: Similarity column 38121 (100.0%), 4138.68 column/sec. Elapsed time 9.21 sec\n",
      "EvaluatorHoldout: Processed 34728 (100.0%) in 10.05 sec. Users per second: 3455\n"
     ]
    },
    {
     "name": "stderr",
     "output_type": "stream",
     "text": [
      "[I 2024-12-18 00:03:12,458] Trial 167 finished with value: 0.028275716635036814 and parameters: {'topK': 19, 'alpha': 0.4197329690090737, 'beta': 0.2502126814278881}. Best is trial 73 with value: 0.028440063002086992.\n"
     ]
    },
    {
     "name": "stdout",
     "output_type": "stream",
     "text": [
      "RP3betaRecommender: Similarity column 38121 (100.0%), 4146.02 column/sec. Elapsed time 9.19 sec\n",
      "EvaluatorHoldout: Processed 34728 (100.0%) in 9.58 sec. Users per second: 3625\n"
     ]
    },
    {
     "name": "stderr",
     "output_type": "stream",
     "text": [
      "[I 2024-12-18 00:03:31,725] Trial 168 finished with value: 0.028279228050737265 and parameters: {'topK': 20, 'alpha': 0.4402614664374204, 'beta': 0.22643294226450883}. Best is trial 73 with value: 0.028440063002086992.\n"
     ]
    },
    {
     "name": "stdout",
     "output_type": "stream",
     "text": [
      "RP3betaRecommender: Similarity column 38121 (100.0%), 4482.19 column/sec. Elapsed time 8.50 sec\n",
      "EvaluatorHoldout: Processed 34728 (100.0%) in 8.89 sec. Users per second: 3905\n"
     ]
    },
    {
     "name": "stderr",
     "output_type": "stream",
     "text": [
      "[I 2024-12-18 00:03:49,578] Trial 169 finished with value: 0.028275178438878376 and parameters: {'topK': 19, 'alpha': 0.4274432606299791, 'beta': 0.23969698406104148}. Best is trial 73 with value: 0.028440063002086992.\n"
     ]
    },
    {
     "name": "stdout",
     "output_type": "stream",
     "text": [
      "RP3betaRecommender: Similarity column 38121 (100.0%), 4100.39 column/sec. Elapsed time 9.30 sec\n",
      "EvaluatorHoldout: Processed 34728 (100.0%) in 9.93 sec. Users per second: 3496\n"
     ]
    },
    {
     "name": "stderr",
     "output_type": "stream",
     "text": [
      "[I 2024-12-18 00:04:09,294] Trial 170 finished with value: 0.028364744106579784 and parameters: {'topK': 19, 'alpha': 0.38990981453348794, 'beta': 0.21251380002123962}. Best is trial 73 with value: 0.028440063002086992.\n"
     ]
    },
    {
     "name": "stdout",
     "output_type": "stream",
     "text": [
      "RP3betaRecommender: Similarity column 38121 (100.0%), 4142.04 column/sec. Elapsed time 9.20 sec\n",
      "EvaluatorHoldout: Processed 34728 (100.0%) in 10.01 sec. Users per second: 3469\n"
     ]
    },
    {
     "name": "stderr",
     "output_type": "stream",
     "text": [
      "[I 2024-12-18 00:04:29,002] Trial 171 finished with value: 0.02834073438751143 and parameters: {'topK': 18, 'alpha': 0.4067455467007129, 'beta': 0.2000076808593708}. Best is trial 73 with value: 0.028440063002086992.\n"
     ]
    },
    {
     "name": "stdout",
     "output_type": "stream",
     "text": [
      "RP3betaRecommender: Similarity column 38121 (100.0%), 2079.35 column/sec. Elapsed time 18.33 sec\n",
      "EvaluatorHoldout: Processed 34728 (100.0%) in 9.40 sec. Users per second: 3695\n"
     ]
    },
    {
     "name": "stderr",
     "output_type": "stream",
     "text": [
      "[I 2024-12-18 00:04:57,020] Trial 172 finished with value: 0.019178219030067667 and parameters: {'topK': 2, 'alpha': 0.4137987746108997, 'beta': 0.21619920576688492}. Best is trial 73 with value: 0.028440063002086992.\n"
     ]
    },
    {
     "name": "stdout",
     "output_type": "stream",
     "text": [
      "RP3betaRecommender: Similarity column 38121 (100.0%), 4048.97 column/sec. Elapsed time 9.41 sec\n",
      "EvaluatorHoldout: Processed 34728 (100.0%) in 9.09 sec. Users per second: 3822\n"
     ]
    },
    {
     "name": "stderr",
     "output_type": "stream",
     "text": [
      "[I 2024-12-18 00:05:15,987] Trial 173 finished with value: 0.028371777221983713 and parameters: {'topK': 18, 'alpha': 0.4016607148716887, 'beta': 0.2216648490246567}. Best is trial 73 with value: 0.028440063002086992.\n"
     ]
    },
    {
     "name": "stdout",
     "output_type": "stream",
     "text": [
      "RP3betaRecommender: Similarity column 38121 (100.0%), 4616.09 column/sec. Elapsed time 8.26 sec\n",
      "EvaluatorHoldout: Processed 34728 (100.0%) in 9.51 sec. Users per second: 3654\n"
     ]
    },
    {
     "name": "stderr",
     "output_type": "stream",
     "text": [
      "[I 2024-12-18 00:05:34,204] Trial 174 finished with value: 0.028344106397837368 and parameters: {'topK': 19, 'alpha': 0.42122277719031176, 'beta': 0.2031506126371099}. Best is trial 73 with value: 0.028440063002086992.\n"
     ]
    },
    {
     "name": "stdout",
     "output_type": "stream",
     "text": [
      "RP3betaRecommender: Similarity column 38121 (100.0%), 4107.64 column/sec. Elapsed time 9.28 sec\n",
      "EvaluatorHoldout: Processed 34728 (100.0%) in 9.97 sec. Users per second: 3482\n"
     ]
    },
    {
     "name": "stderr",
     "output_type": "stream",
     "text": [
      "[I 2024-12-18 00:05:53,950] Trial 175 finished with value: 0.02840910129697193 and parameters: {'topK': 17, 'alpha': 0.39474372439792466, 'beta': 0.19347404404204485}. Best is trial 73 with value: 0.028440063002086992.\n"
     ]
    },
    {
     "name": "stdout",
     "output_type": "stream",
     "text": [
      "RP3betaRecommender: Similarity column 38121 (100.0%), 3917.93 column/sec. Elapsed time 9.73 sec\n",
      "EvaluatorHoldout: Processed 34728 (100.0%) in 9.98 sec. Users per second: 3478\n"
     ]
    },
    {
     "name": "stderr",
     "output_type": "stream",
     "text": [
      "[I 2024-12-18 00:06:14,162] Trial 176 finished with value: 0.028301758016036745 and parameters: {'topK': 18, 'alpha': 0.3834591204885411, 'beta': 0.20850353265504667}. Best is trial 73 with value: 0.028440063002086992.\n"
     ]
    },
    {
     "name": "stdout",
     "output_type": "stream",
     "text": [
      "RP3betaRecommender: Similarity column 38121 (100.0%), 3946.34 column/sec. Elapsed time 9.66 sec\n",
      "EvaluatorHoldout: Processed 34728 (100.0%) in 10.24 sec. Users per second: 3391\n"
     ]
    },
    {
     "name": "stderr",
     "output_type": "stream",
     "text": [
      "[I 2024-12-18 00:06:34,627] Trial 177 finished with value: 0.027304186869018563 and parameters: {'topK': 20, 'alpha': 0.3954893567334864, 'beta': 0.4328691343596861}. Best is trial 73 with value: 0.028440063002086992.\n"
     ]
    },
    {
     "name": "stdout",
     "output_type": "stream",
     "text": [
      "RP3betaRecommender: Similarity column 38121 (100.0%), 4124.06 column/sec. Elapsed time 9.24 sec\n",
      "EvaluatorHoldout: Processed 34728 (100.0%) in 9.50 sec. Users per second: 3654\n"
     ]
    },
    {
     "name": "stderr",
     "output_type": "stream",
     "text": [
      "[I 2024-12-18 00:06:53,839] Trial 178 finished with value: 0.028363821974308385 and parameters: {'topK': 17, 'alpha': 0.37315156315006204, 'beta': 0.22703067789959583}. Best is trial 73 with value: 0.028440063002086992.\n"
     ]
    },
    {
     "name": "stdout",
     "output_type": "stream",
     "text": [
      "RP3betaRecommender: Similarity column 38121 (100.0%), 1548.00 column/sec. Elapsed time 24.63 sec\n",
      "EvaluatorHoldout: Processed 34728 (100.0%) in 9.73 sec. Users per second: 3569\n"
     ]
    },
    {
     "name": "stderr",
     "output_type": "stream",
     "text": [
      "[I 2024-12-18 00:07:28,479] Trial 179 finished with value: 0.022836742823136844 and parameters: {'topK': 3, 'alpha': 0.4322756429377687, 'beta': 0.18312650130620733}. Best is trial 73 with value: 0.028440063002086992.\n"
     ]
    },
    {
     "name": "stdout",
     "output_type": "stream",
     "text": [
      "RP3betaRecommender: Similarity column 38121 (100.0%), 4031.22 column/sec. Elapsed time 9.46 sec\n",
      "EvaluatorHoldout: Processed 34728 (100.0%) in 10.03 sec. Users per second: 3461\n"
     ]
    },
    {
     "name": "stderr",
     "output_type": "stream",
     "text": [
      "[I 2024-12-18 00:07:48,479] Trial 180 finished with value: 0.02834117431430763 and parameters: {'topK': 19, 'alpha': 0.44659589945427597, 'beta': 0.19796171920362593}. Best is trial 73 with value: 0.028440063002086992.\n"
     ]
    },
    {
     "name": "stdout",
     "output_type": "stream",
     "text": [
      "RP3betaRecommender: Similarity column 38121 (100.0%), 3950.64 column/sec. Elapsed time 9.65 sec\n",
      "EvaluatorHoldout: Processed 34728 (100.0%) in 9.93 sec. Users per second: 3498\n"
     ]
    },
    {
     "name": "stderr",
     "output_type": "stream",
     "text": [
      "[I 2024-12-18 00:08:08,533] Trial 181 finished with value: 0.028373702615883872 and parameters: {'topK': 17, 'alpha': 0.40255275373451355, 'beta': 0.19327386988078876}. Best is trial 73 with value: 0.028440063002086992.\n"
     ]
    },
    {
     "name": "stdout",
     "output_type": "stream",
     "text": [
      "RP3betaRecommender: Similarity column 38121 (100.0%), 4094.54 column/sec. Elapsed time 9.31 sec\n",
      "EvaluatorHoldout: Processed 34728 (100.0%) in 9.56 sec. Users per second: 3633\n"
     ]
    },
    {
     "name": "stderr",
     "output_type": "stream",
     "text": [
      "[I 2024-12-18 00:08:27,870] Trial 182 finished with value: 0.028350096258267513 and parameters: {'topK': 17, 'alpha': 0.41173284175758623, 'beta': 0.18757277442906084}. Best is trial 73 with value: 0.028440063002086992.\n"
     ]
    },
    {
     "name": "stdout",
     "output_type": "stream",
     "text": [
      "RP3betaRecommender: Similarity column 38121 (100.0%), 4095.22 column/sec. Elapsed time 9.31 sec\n",
      "EvaluatorHoldout: Processed 34728 (100.0%) in 8.91 sec. Users per second: 3900\n"
     ]
    },
    {
     "name": "stderr",
     "output_type": "stream",
     "text": [
      "[I 2024-12-18 00:08:46,528] Trial 183 finished with value: 0.028379243408181758 and parameters: {'topK': 16, 'alpha': 0.38987635157445133, 'beta': 0.2076340281609087}. Best is trial 73 with value: 0.028440063002086992.\n"
     ]
    },
    {
     "name": "stdout",
     "output_type": "stream",
     "text": [
      "RP3betaRecommender: Similarity column 38121 (100.0%), 4645.87 column/sec. Elapsed time 8.21 sec\n",
      "EvaluatorHoldout: Processed 34728 (100.0%) in 9.74 sec. Users per second: 3565\n"
     ]
    },
    {
     "name": "stderr",
     "output_type": "stream",
     "text": [
      "[I 2024-12-18 00:09:04,923] Trial 184 finished with value: 0.028353575679291858 and parameters: {'topK': 18, 'alpha': 0.4169579290749497, 'beta': 0.21692803465171026}. Best is trial 73 with value: 0.028440063002086992.\n"
     ]
    },
    {
     "name": "stdout",
     "output_type": "stream",
     "text": [
      "RP3betaRecommender: Similarity column 38121 (100.0%), 4060.84 column/sec. Elapsed time 9.39 sec\n",
      "EvaluatorHoldout: Processed 34728 (100.0%) in 9.97 sec. Users per second: 3484\n"
     ]
    },
    {
     "name": "stderr",
     "output_type": "stream",
     "text": [
      "[I 2024-12-18 00:09:24,777] Trial 185 finished with value: 0.028369111379865586 and parameters: {'topK': 16, 'alpha': 0.4070233693994815, 'beta': 0.2002351137061972}. Best is trial 73 with value: 0.028440063002086992.\n"
     ]
    },
    {
     "name": "stdout",
     "output_type": "stream",
     "text": [
      "RP3betaRecommender: Similarity column 38121 (100.0%), 3926.32 column/sec. Elapsed time 9.71 sec\n",
      "EvaluatorHoldout: Processed 34728 (100.0%) in 10.02 sec. Users per second: 3466\n"
     ]
    },
    {
     "name": "stderr",
     "output_type": "stream",
     "text": [
      "[I 2024-12-18 00:09:44,983] Trial 186 finished with value: 0.02826408314227858 and parameters: {'topK': 17, 'alpha': 0.3140982696438198, 'beta': 0.23251937749906995}. Best is trial 73 with value: 0.028440063002086992.\n"
     ]
    },
    {
     "name": "stdout",
     "output_type": "stream",
     "text": [
      "RP3betaRecommender: Similarity column 38121 (100.0%), 3821.12 column/sec. Elapsed time 9.98 sec\n",
      "EvaluatorHoldout: Processed 34728 (100.0%) in 9.94 sec. Users per second: 3493\n"
     ]
    },
    {
     "name": "stderr",
     "output_type": "stream",
     "text": [
      "[I 2024-12-18 00:10:05,395] Trial 187 finished with value: 0.02836877200776569 and parameters: {'topK': 18, 'alpha': 0.39547206444140653, 'beta': 0.21066365092617528}. Best is trial 73 with value: 0.028440063002086992.\n"
     ]
    },
    {
     "name": "stdout",
     "output_type": "stream",
     "text": [
      "RP3betaRecommender: Similarity column 38121 (100.0%), 4037.95 column/sec. Elapsed time 9.44 sec\n",
      "EvaluatorHoldout: Processed 34728 (100.0%) in 9.53 sec. Users per second: 3643\n"
     ]
    },
    {
     "name": "stderr",
     "output_type": "stream",
     "text": [
      "[I 2024-12-18 00:10:24,846] Trial 188 finished with value: 0.02840760554586503 and parameters: {'topK': 17, 'alpha': 0.42289863697675634, 'beta': 0.22333029719056813}. Best is trial 73 with value: 0.028440063002086992.\n"
     ]
    },
    {
     "name": "stdout",
     "output_type": "stream",
     "text": [
      "RP3betaRecommender: Similarity column 38121 (100.0%), 4496.62 column/sec. Elapsed time 8.48 sec\n",
      "EvaluatorHoldout: Processed 34728 (100.0%) in 9.07 sec. Users per second: 3831\n"
     ]
    },
    {
     "name": "stderr",
     "output_type": "stream",
     "text": [
      "[I 2024-12-18 00:10:42,870] Trial 189 finished with value: 0.028009972283468437 and parameters: {'topK': 18, 'alpha': 0.4221551757311196, 'beta': 0.3239469966448396}. Best is trial 73 with value: 0.028440063002086992.\n"
     ]
    },
    {
     "name": "stdout",
     "output_type": "stream",
     "text": [
      "RP3betaRecommender: Similarity column 38121 (100.0%), 4087.14 column/sec. Elapsed time 9.33 sec\n",
      "EvaluatorHoldout: Processed 34728 (100.0%) in 10.14 sec. Users per second: 3425\n"
     ]
    },
    {
     "name": "stderr",
     "output_type": "stream",
     "text": [
      "[I 2024-12-18 00:11:02,848] Trial 190 finished with value: 0.028291051226218007 and parameters: {'topK': 19, 'alpha': 0.42624281887002546, 'beta': 0.2387395177986109}. Best is trial 73 with value: 0.028440063002086992.\n"
     ]
    },
    {
     "name": "stdout",
     "output_type": "stream",
     "text": [
      "RP3betaRecommender: Similarity column 38121 (100.0%), 4111.19 column/sec. Elapsed time 9.27 sec\n",
      "EvaluatorHoldout: Processed 34728 (100.0%) in 9.94 sec. Users per second: 3493\n"
     ]
    },
    {
     "name": "stderr",
     "output_type": "stream",
     "text": [
      "[I 2024-12-18 00:11:22,543] Trial 191 finished with value: 0.028387082103822913 and parameters: {'topK': 17, 'alpha': 0.41710542333843187, 'beta': 0.22429732539587802}. Best is trial 73 with value: 0.028440063002086992.\n"
     ]
    },
    {
     "name": "stdout",
     "output_type": "stream",
     "text": [
      "RP3betaRecommender: Similarity column 38121 (100.0%), 4148.60 column/sec. Elapsed time 9.19 sec\n",
      "EvaluatorHoldout: Processed 34728 (100.0%) in 9.94 sec. Users per second: 3493\n"
     ]
    },
    {
     "name": "stderr",
     "output_type": "stream",
     "text": [
      "[I 2024-12-18 00:11:42,158] Trial 192 finished with value: 0.028397571786911078 and parameters: {'topK': 17, 'alpha': 0.4152759119991934, 'beta': 0.22464494263629137}. Best is trial 73 with value: 0.028440063002086992.\n"
     ]
    },
    {
     "name": "stdout",
     "output_type": "stream",
     "text": [
      "RP3betaRecommender: Similarity column 38121 (100.0%), 4057.15 column/sec. Elapsed time 9.40 sec\n",
      "EvaluatorHoldout: Processed 34728 (100.0%) in 9.50 sec. Users per second: 3655\n"
     ]
    },
    {
     "name": "stderr",
     "output_type": "stream",
     "text": [
      "[I 2024-12-18 00:12:01,526] Trial 193 finished with value: 0.02839008846070798 and parameters: {'topK': 17, 'alpha': 0.41692061788004003, 'beta': 0.22636844599203038}. Best is trial 73 with value: 0.028440063002086992.\n"
     ]
    },
    {
     "name": "stdout",
     "output_type": "stream",
     "text": [
      "RP3betaRecommender: Similarity column 38121 (100.0%), 4141.51 column/sec. Elapsed time 9.20 sec\n",
      "EvaluatorHoldout: Processed 34728 (100.0%) in 8.87 sec. Users per second: 3916\n"
     ]
    },
    {
     "name": "stderr",
     "output_type": "stream",
     "text": [
      "[I 2024-12-18 00:12:20,048] Trial 194 finished with value: 0.028371172751139206 and parameters: {'topK': 17, 'alpha': 0.4119475822733644, 'beta': 0.22044523158077126}. Best is trial 73 with value: 0.028440063002086992.\n"
     ]
    },
    {
     "name": "stdout",
     "output_type": "stream",
     "text": [
      "RP3betaRecommender: Similarity column 38121 (100.0%), 4034.79 column/sec. Elapsed time 9.45 sec\n",
      "EvaluatorHoldout: Processed 34728 (100.0%) in 10.02 sec. Users per second: 3467\n"
     ]
    },
    {
     "name": "stderr",
     "output_type": "stream",
     "text": [
      "[I 2024-12-18 00:12:39,976] Trial 195 finished with value: 0.028368197246263233 and parameters: {'topK': 17, 'alpha': 0.41645892638708304, 'beta': 0.22833463331860993}. Best is trial 73 with value: 0.028440063002086992.\n"
     ]
    },
    {
     "name": "stdout",
     "output_type": "stream",
     "text": [
      "RP3betaRecommender: Similarity column 38121 (100.0%), 4001.92 column/sec. Elapsed time 9.53 sec\n",
      "EvaluatorHoldout: Processed 34728 (100.0%) in 10.02 sec. Users per second: 3467\n"
     ]
    },
    {
     "name": "stderr",
     "output_type": "stream",
     "text": [
      "[I 2024-12-18 00:12:59,989] Trial 196 finished with value: 0.02830898195683028 and parameters: {'topK': 16, 'alpha': 0.40097429100649035, 'beta': 0.245467693658942}. Best is trial 73 with value: 0.028440063002086992.\n"
     ]
    },
    {
     "name": "stdout",
     "output_type": "stream",
     "text": [
      "RP3betaRecommender: Similarity column 38121 (100.0%), 4066.93 column/sec. Elapsed time 9.37 sec\n",
      "EvaluatorHoldout: Processed 34728 (100.0%) in 9.94 sec. Users per second: 3494\n"
     ]
    },
    {
     "name": "stderr",
     "output_type": "stream",
     "text": [
      "[I 2024-12-18 00:13:19,778] Trial 197 finished with value: 0.028363973949019818 and parameters: {'topK': 17, 'alpha': 0.41067426578487126, 'beta': 0.23442573370321565}. Best is trial 73 with value: 0.028440063002086992.\n"
     ]
    },
    {
     "name": "stdout",
     "output_type": "stream",
     "text": [
      "RP3betaRecommender: Similarity column 38121 (100.0%), 3992.28 column/sec. Elapsed time 9.55 sec\n",
      "EvaluatorHoldout: Processed 34728 (100.0%) in 9.51 sec. Users per second: 3653\n"
     ]
    },
    {
     "name": "stderr",
     "output_type": "stream",
     "text": [
      "[I 2024-12-18 00:13:39,281] Trial 198 finished with value: 0.028291032943546124 and parameters: {'topK': 17, 'alpha': 0.2591078296484873, 'beta': 0.21689104837298645}. Best is trial 73 with value: 0.028440063002086992.\n"
     ]
    },
    {
     "name": "stdout",
     "output_type": "stream",
     "text": [
      "RP3betaRecommender: Similarity column 38121 (100.0%), 3980.22 column/sec. Elapsed time 9.58 sec\n",
      "EvaluatorHoldout: Processed 34728 (100.0%) in 8.83 sec. Users per second: 3934\n"
     ]
    },
    {
     "name": "stderr",
     "output_type": "stream",
     "text": [
      "[I 2024-12-18 00:13:58,126] Trial 199 finished with value: 0.028357341909733942 and parameters: {'topK': 16, 'alpha': 0.3815510900491618, 'beta': 0.2239338034390722}. Best is trial 73 with value: 0.028440063002086992.\n"
     ]
    },
    {
     "name": "stdout",
     "output_type": "stream",
     "text": [
      "RP3betaRecommender: Similarity column 38121 (100.0%), 4392.00 column/sec. Elapsed time 8.68 sec\n",
      "EvaluatorHoldout: Processed 34728 (100.0%) in 9.95 sec. Users per second: 3490\n"
     ]
    },
    {
     "name": "stderr",
     "output_type": "stream",
     "text": [
      "[I 2024-12-18 00:14:17,187] Trial 200 finished with value: 0.028364168202410285 and parameters: {'topK': 16, 'alpha': 0.36591634873918716, 'beta': 0.2106244649338088}. Best is trial 73 with value: 0.028440063002086992.\n"
     ]
    },
    {
     "name": "stdout",
     "output_type": "stream",
     "text": [
      "RP3betaRecommender: Similarity column 38121 (100.0%), 4077.87 column/sec. Elapsed time 9.35 sec\n",
      "EvaluatorHoldout: Processed 34728 (100.0%) in 9.93 sec. Users per second: 3498\n"
     ]
    },
    {
     "name": "stderr",
     "output_type": "stream",
     "text": [
      "[I 2024-12-18 00:14:36,935] Trial 201 finished with value: 0.028406347469494646 and parameters: {'topK': 17, 'alpha': 0.420352948772285, 'beta': 0.2222279755010293}. Best is trial 73 with value: 0.028440063002086992.\n"
     ]
    },
    {
     "name": "stdout",
     "output_type": "stream",
     "text": [
      "RP3betaRecommender: Similarity column 38121 (100.0%), 4006.74 column/sec. Elapsed time 9.51 sec\n",
      "EvaluatorHoldout: Processed 34728 (100.0%) in 9.91 sec. Users per second: 3504\n"
     ]
    },
    {
     "name": "stderr",
     "output_type": "stream",
     "text": [
      "[I 2024-12-18 00:14:56,826] Trial 202 finished with value: 0.028401388294701308 and parameters: {'topK': 17, 'alpha': 0.4233277303074452, 'beta': 0.21625862457518194}. Best is trial 73 with value: 0.028440063002086992.\n"
     ]
    },
    {
     "name": "stdout",
     "output_type": "stream",
     "text": [
      "RP3betaRecommender: Similarity column 38121 (100.0%), 3900.64 column/sec. Elapsed time 9.77 sec\n",
      "EvaluatorHoldout: Processed 34728 (100.0%) in 9.64 sec. Users per second: 3601\n"
     ]
    },
    {
     "name": "stderr",
     "output_type": "stream",
     "text": [
      "[I 2024-12-18 00:15:16,705] Trial 203 finished with value: 0.02837361691585877 and parameters: {'topK': 17, 'alpha': 0.42676708101141425, 'beta': 0.21616145655047575}. Best is trial 73 with value: 0.028440063002086992.\n"
     ]
    },
    {
     "name": "stdout",
     "output_type": "stream",
     "text": [
      "RP3betaRecommender: Similarity column 38121 (100.0%), 4103.27 column/sec. Elapsed time 9.29 sec\n",
      "EvaluatorHoldout: Processed 34728 (100.0%) in 9.11 sec. Users per second: 3812\n"
     ]
    },
    {
     "name": "stderr",
     "output_type": "stream",
     "text": [
      "[I 2024-12-18 00:15:35,551] Trial 204 finished with value: 0.028371804645991844 and parameters: {'topK': 17, 'alpha': 0.42328161745866416, 'beta': 0.2041716093171481}. Best is trial 73 with value: 0.028440063002086992.\n"
     ]
    },
    {
     "name": "stdout",
     "output_type": "stream",
     "text": [
      "RP3betaRecommender: Similarity column 38121 (100.0%), 4313.23 column/sec. Elapsed time 8.84 sec\n",
      "EvaluatorHoldout: Processed 34728 (100.0%) in 9.70 sec. Users per second: 3579\n"
     ]
    },
    {
     "name": "stderr",
     "output_type": "stream",
     "text": [
      "[I 2024-12-18 00:15:54,514] Trial 205 finished with value: 0.028274794502765443 and parameters: {'topK': 16, 'alpha': 0.40571203340105133, 'beta': 0.23382234098875293}. Best is trial 73 with value: 0.028440063002086992.\n"
     ]
    },
    {
     "name": "stdout",
     "output_type": "stream",
     "text": [
      "RP3betaRecommender: Similarity column 38121 (100.0%), 4152.83 column/sec. Elapsed time 9.18 sec\n",
      "EvaluatorHoldout: Processed 34728 (100.0%) in 9.94 sec. Users per second: 3493\n"
     ]
    },
    {
     "name": "stderr",
     "output_type": "stream",
     "text": [
      "[I 2024-12-18 00:16:14,124] Trial 206 finished with value: 0.02835954725704993 and parameters: {'topK': 17, 'alpha': 0.4159847893256308, 'beta': 0.21260319862972485}. Best is trial 73 with value: 0.028440063002086992.\n"
     ]
    },
    {
     "name": "stdout",
     "output_type": "stream",
     "text": [
      "RP3betaRecommender: Similarity column 38121 (100.0%), 4063.96 column/sec. Elapsed time 9.38 sec\n",
      "EvaluatorHoldout: Processed 34728 (100.0%) in 10.02 sec. Users per second: 3467\n"
     ]
    },
    {
     "name": "stderr",
     "output_type": "stream",
     "text": [
      "[I 2024-12-18 00:16:34,006] Trial 207 finished with value: 0.02841360797563211 and parameters: {'topK': 17, 'alpha': 0.42541569510821775, 'beta': 0.22050420174736235}. Best is trial 73 with value: 0.028440063002086992.\n"
     ]
    },
    {
     "name": "stdout",
     "output_type": "stream",
     "text": [
      "RP3betaRecommender: Similarity column 38121 (100.0%), 4021.12 column/sec. Elapsed time 9.48 sec\n",
      "EvaluatorHoldout: Processed 34728 (100.0%) in 9.57 sec. Users per second: 3630\n"
     ]
    },
    {
     "name": "stderr",
     "output_type": "stream",
     "text": [
      "[I 2024-12-18 00:16:53,532] Trial 208 finished with value: 0.02834849880979725 and parameters: {'topK': 16, 'alpha': 0.4242382877520473, 'beta': 0.20690585340331913}. Best is trial 73 with value: 0.028440063002086992.\n"
     ]
    },
    {
     "name": "stdout",
     "output_type": "stream",
     "text": [
      "RP3betaRecommender: Similarity column 38121 (100.0%), 3923.61 column/sec. Elapsed time 9.72 sec\n",
      "EvaluatorHoldout: Processed 34728 (100.0%) in 9.17 sec. Users per second: 3788\n"
     ]
    },
    {
     "name": "stderr",
     "output_type": "stream",
     "text": [
      "[I 2024-12-18 00:17:12,884] Trial 209 finished with value: 0.028336025456791723 and parameters: {'topK': 18, 'alpha': 0.4110782659896624, 'beta': 0.21937721414238046}. Best is trial 73 with value: 0.028440063002086992.\n"
     ]
    },
    {
     "name": "stdout",
     "output_type": "stream",
     "text": [
      "RP3betaRecommender: Similarity column 38121 (100.0%), 4191.30 column/sec. Elapsed time 9.10 sec\n",
      "EvaluatorHoldout: Processed 34728 (100.0%) in 9.60 sec. Users per second: 3617\n"
     ]
    },
    {
     "name": "stderr",
     "output_type": "stream",
     "text": [
      "[I 2024-12-18 00:17:32,037] Trial 210 finished with value: 0.02832413486395778 and parameters: {'topK': 18, 'alpha': 0.40105012808214274, 'beta': 0.22868254171699393}. Best is trial 73 with value: 0.028440063002086992.\n"
     ]
    },
    {
     "name": "stdout",
     "output_type": "stream",
     "text": [
      "RP3betaRecommender: Similarity column 38121 (100.0%), 4156.77 column/sec. Elapsed time 9.17 sec\n",
      "EvaluatorHoldout: Processed 34728 (100.0%) in 10.00 sec. Users per second: 3473\n"
     ]
    },
    {
     "name": "stderr",
     "output_type": "stream",
     "text": [
      "[I 2024-12-18 00:17:51,702] Trial 211 finished with value: 0.02839569667035907 and parameters: {'topK': 17, 'alpha': 0.4317159713448365, 'beta': 0.2188955333670011}. Best is trial 73 with value: 0.028440063002086992.\n"
     ]
    },
    {
     "name": "stdout",
     "output_type": "stream",
     "text": [
      "RP3betaRecommender: Similarity column 38121 (100.0%), 4065.81 column/sec. Elapsed time 9.38 sec\n",
      "EvaluatorHoldout: Processed 34728 (100.0%) in 9.92 sec. Users per second: 3502\n"
     ]
    },
    {
     "name": "stderr",
     "output_type": "stream",
     "text": [
      "[I 2024-12-18 00:18:11,463] Trial 212 finished with value: 0.028366828331193555 and parameters: {'topK': 17, 'alpha': 0.43298545677013783, 'beta': 0.21376469536151727}. Best is trial 73 with value: 0.028440063002086992.\n"
     ]
    },
    {
     "name": "stdout",
     "output_type": "stream",
     "text": [
      "RP3betaRecommender: Similarity column 38121 (100.0%), 4139.21 column/sec. Elapsed time 9.21 sec\n",
      "EvaluatorHoldout: Processed 34728 (100.0%) in 9.61 sec. Users per second: 3614\n"
     ]
    },
    {
     "name": "stderr",
     "output_type": "stream",
     "text": [
      "[I 2024-12-18 00:18:30,767] Trial 213 finished with value: 0.028383444994752094 and parameters: {'topK': 17, 'alpha': 0.41852352062660836, 'beta': 0.20208537770602153}. Best is trial 73 with value: 0.028440063002086992.\n"
     ]
    },
    {
     "name": "stdout",
     "output_type": "stream",
     "text": [
      "RP3betaRecommender: Similarity column 38121 (100.0%), 3974.20 column/sec. Elapsed time 9.59 sec\n",
      "EvaluatorHoldout: Processed 34728 (100.0%) in 9.12 sec. Users per second: 3809\n"
     ]
    },
    {
     "name": "stderr",
     "output_type": "stream",
     "text": [
      "[I 2024-12-18 00:18:49,939] Trial 214 finished with value: 0.02834870906052588 and parameters: {'topK': 17, 'alpha': 0.42799012500361844, 'beta': 0.23806446694381692}. Best is trial 73 with value: 0.028440063002086992.\n"
     ]
    },
    {
     "name": "stdout",
     "output_type": "stream",
     "text": [
      "RP3betaRecommender: Similarity column 38121 (100.0%), 4311.30 column/sec. Elapsed time 8.84 sec\n",
      "EvaluatorHoldout: Processed 34728 (100.0%) in 9.72 sec. Users per second: 3573\n"
     ]
    },
    {
     "name": "stderr",
     "output_type": "stream",
     "text": [
      "[I 2024-12-18 00:19:08,946] Trial 215 finished with value: 0.028414462690550465 and parameters: {'topK': 17, 'alpha': 0.4218683174613516, 'beta': 0.2261422792062613}. Best is trial 73 with value: 0.028440063002086992.\n"
     ]
    },
    {
     "name": "stdout",
     "output_type": "stream",
     "text": [
      "RP3betaRecommender: Similarity column 38121 (100.0%), 4199.79 column/sec. Elapsed time 9.08 sec\n",
      "EvaluatorHoldout: Processed 34728 (100.0%) in 9.95 sec. Users per second: 3490\n"
     ]
    },
    {
     "name": "stderr",
     "output_type": "stream",
     "text": [
      "[I 2024-12-18 00:19:28,470] Trial 216 finished with value: 0.028365195460046053 and parameters: {'topK': 18, 'alpha': 0.4234486243252683, 'beta': 0.2101648083667632}. Best is trial 73 with value: 0.028440063002086992.\n"
     ]
    },
    {
     "name": "stdout",
     "output_type": "stream",
     "text": [
      "RP3betaRecommender: Similarity column 38121 (100.0%), 4166.52 column/sec. Elapsed time 9.15 sec\n",
      "EvaluatorHoldout: Processed 34728 (100.0%) in 9.92 sec. Users per second: 3500\n"
     ]
    },
    {
     "name": "stderr",
     "output_type": "stream",
     "text": [
      "[I 2024-12-18 00:19:48,030] Trial 217 finished with value: 0.028386230816905642 and parameters: {'topK': 17, 'alpha': 0.43624851588099034, 'beta': 0.22884806552197168}. Best is trial 73 with value: 0.028440063002086992.\n"
     ]
    },
    {
     "name": "stdout",
     "output_type": "stream",
     "text": [
      "RP3betaRecommender: Similarity column 38121 (100.0%), 3951.32 column/sec. Elapsed time 9.65 sec\n",
      "EvaluatorHoldout: Processed 34728 (100.0%) in 9.58 sec. Users per second: 3624\n"
     ]
    },
    {
     "name": "stderr",
     "output_type": "stream",
     "text": [
      "[I 2024-12-18 00:20:07,736] Trial 218 finished with value: 0.02830203339878454 and parameters: {'topK': 16, 'alpha': 0.4286869800776441, 'beta': 0.22005520627305586}. Best is trial 73 with value: 0.028440063002086992.\n"
     ]
    },
    {
     "name": "stdout",
     "output_type": "stream",
     "text": [
      "RP3betaRecommender: Similarity column 38121 (100.0%), 3989.03 column/sec. Elapsed time 9.56 sec\n",
      "EvaluatorHoldout: Processed 34728 (100.0%) in 9.02 sec. Users per second: 3851\n"
     ]
    },
    {
     "name": "stderr",
     "output_type": "stream",
     "text": [
      "[I 2024-12-18 00:20:26,772] Trial 219 finished with value: 0.028355654190570432 and parameters: {'topK': 17, 'alpha': 0.40817274278418947, 'beta': 0.1976639256755951}. Best is trial 73 with value: 0.028440063002086992.\n"
     ]
    },
    {
     "name": "stdout",
     "output_type": "stream",
     "text": [
      "RP3betaRecommender: Similarity column 38121 (100.0%), 4666.91 column/sec. Elapsed time 8.17 sec\n",
      "EvaluatorHoldout: Processed 34728 (100.0%) in 9.77 sec. Users per second: 3553\n"
     ]
    },
    {
     "name": "stderr",
     "output_type": "stream",
     "text": [
      "[I 2024-12-18 00:20:45,156] Trial 220 finished with value: 0.028377171752905217 and parameters: {'topK': 18, 'alpha': 0.4142421064029184, 'beta': 0.2049885538219146}. Best is trial 73 with value: 0.028440063002086992.\n"
     ]
    },
    {
     "name": "stdout",
     "output_type": "stream",
     "text": [
      "RP3betaRecommender: Similarity column 38121 (100.0%), 4298.99 column/sec. Elapsed time 8.87 sec\n",
      "EvaluatorHoldout: Processed 34728 (100.0%) in 9.96 sec. Users per second: 3487\n"
     ]
    },
    {
     "name": "stderr",
     "output_type": "stream",
     "text": [
      "[I 2024-12-18 00:21:04,472] Trial 221 finished with value: 0.02840734616045534 and parameters: {'topK': 17, 'alpha': 0.4197086307318992, 'beta': 0.22287532019170855}. Best is trial 73 with value: 0.028440063002086992.\n"
     ]
    },
    {
     "name": "stdout",
     "output_type": "stream",
     "text": [
      "RP3betaRecommender: Similarity column 38121 (100.0%), 4076.33 column/sec. Elapsed time 9.35 sec\n",
      "EvaluatorHoldout: Processed 34728 (100.0%) in 9.90 sec. Users per second: 3507\n"
     ]
    },
    {
     "name": "stderr",
     "output_type": "stream",
     "text": [
      "[I 2024-12-18 00:21:24,209] Trial 222 finished with value: 0.028413700531659394 and parameters: {'topK': 17, 'alpha': 0.420392882247164, 'beta': 0.21820156979200855}. Best is trial 73 with value: 0.028440063002086992.\n"
     ]
    },
    {
     "name": "stdout",
     "output_type": "stream",
     "text": [
      "RP3betaRecommender: Similarity column 38121 (100.0%), 3961.46 column/sec. Elapsed time 9.62 sec\n",
      "EvaluatorHoldout: Processed 34728 (100.0%) in 9.62 sec. Users per second: 3612\n"
     ]
    },
    {
     "name": "stderr",
     "output_type": "stream",
     "text": [
      "[I 2024-12-18 00:21:43,924] Trial 223 finished with value: 0.028395337872920045 and parameters: {'topK': 17, 'alpha': 0.422102450524717, 'beta': 0.2159518027704208}. Best is trial 73 with value: 0.028440063002086992.\n"
     ]
    },
    {
     "name": "stdout",
     "output_type": "stream",
     "text": [
      "RP3betaRecommender: Similarity column 38121 (100.0%), 4035.65 column/sec. Elapsed time 9.45 sec\n",
      "EvaluatorHoldout: Processed 34728 (100.0%) in 8.93 sec. Users per second: 3890\n"
     ]
    },
    {
     "name": "stderr",
     "output_type": "stream",
     "text": [
      "[I 2024-12-18 00:22:02,706] Trial 224 finished with value: 0.028158345308482796 and parameters: {'topK': 14, 'alpha': 0.4217827371292447, 'beta': 0.215128657270333}. Best is trial 73 with value: 0.028440063002086992.\n"
     ]
    },
    {
     "name": "stdout",
     "output_type": "stream",
     "text": [
      "RP3betaRecommender: Similarity column 38121 (100.0%), 4460.99 column/sec. Elapsed time 8.55 sec\n",
      "EvaluatorHoldout: Processed 34728 (100.0%) in 9.49 sec. Users per second: 3659\n"
     ]
    },
    {
     "name": "stderr",
     "output_type": "stream",
     "text": [
      "[I 2024-12-18 00:22:21,165] Trial 225 finished with value: 0.028339203213727265 and parameters: {'topK': 16, 'alpha': 0.4302880198198717, 'beta': 0.21313053954808758}. Best is trial 73 with value: 0.028440063002086992.\n"
     ]
    },
    {
     "name": "stdout",
     "output_type": "stream",
     "text": [
      "RP3betaRecommender: Similarity column 38121 (100.0%), 4229.21 column/sec. Elapsed time 9.01 sec\n",
      "EvaluatorHoldout: Processed 34728 (100.0%) in 9.90 sec. Users per second: 3508\n"
     ]
    },
    {
     "name": "stderr",
     "output_type": "stream",
     "text": [
      "[I 2024-12-18 00:22:40,562] Trial 226 finished with value: 0.02838518299126381 and parameters: {'topK': 17, 'alpha': 0.42417030292382174, 'beta': 0.2343202680033107}. Best is trial 73 with value: 0.028440063002086992.\n"
     ]
    },
    {
     "name": "stdout",
     "output_type": "stream",
     "text": [
      "RP3betaRecommender: Similarity column 38121 (100.0%), 4160.11 column/sec. Elapsed time 9.16 sec\n",
      "EvaluatorHoldout: Processed 34728 (100.0%) in 10.00 sec. Users per second: 3474\n"
     ]
    },
    {
     "name": "stderr",
     "output_type": "stream",
     "text": [
      "[I 2024-12-18 00:23:00,218] Trial 227 finished with value: 0.02835758301247163 and parameters: {'topK': 18, 'alpha': 0.41912923358362864, 'beta': 0.2205788434913536}. Best is trial 73 with value: 0.028440063002086992.\n"
     ]
    },
    {
     "name": "stdout",
     "output_type": "stream",
     "text": [
      "RP3betaRecommender: Similarity column 38121 (100.0%), 4034.45 column/sec. Elapsed time 9.45 sec\n",
      "EvaluatorHoldout: Processed 34728 (100.0%) in 9.69 sec. Users per second: 3584\n"
     ]
    },
    {
     "name": "stderr",
     "output_type": "stream",
     "text": [
      "[I 2024-12-18 00:23:19,832] Trial 228 finished with value: 0.028333217923965277 and parameters: {'topK': 17, 'alpha': 0.43662351795178994, 'beta': 0.2441197126156141}. Best is trial 73 with value: 0.028440063002086992.\n"
     ]
    },
    {
     "name": "stdout",
     "output_type": "stream",
     "text": [
      "RP3betaRecommender: Similarity column 38121 (100.0%), 4266.04 column/sec. Elapsed time 8.94 sec\n",
      "EvaluatorHoldout: Processed 34728 (100.0%) in 9.12 sec. Users per second: 3809\n"
     ]
    },
    {
     "name": "stderr",
     "output_type": "stream",
     "text": [
      "[I 2024-12-18 00:23:38,345] Trial 229 finished with value: 0.02835520740777225 and parameters: {'topK': 18, 'alpha': 0.43089377170204524, 'beta': 0.20732458658995523}. Best is trial 73 with value: 0.028440063002086992.\n"
     ]
    },
    {
     "name": "stdout",
     "output_type": "stream",
     "text": [
      "RP3betaRecommender: Similarity column 38121 (100.0%), 4157.26 column/sec. Elapsed time 9.17 sec\n",
      "EvaluatorHoldout: Processed 34728 (100.0%) in 9.42 sec. Users per second: 3687\n"
     ]
    },
    {
     "name": "stderr",
     "output_type": "stream",
     "text": [
      "[I 2024-12-18 00:23:57,367] Trial 230 finished with value: 0.028386468491642277 and parameters: {'topK': 17, 'alpha': 0.4129783115584198, 'beta': 0.22100269127028138}. Best is trial 73 with value: 0.028440063002086992.\n"
     ]
    },
    {
     "name": "stdout",
     "output_type": "stream",
     "text": [
      "RP3betaRecommender: Similarity column 38121 (100.0%), 4100.21 column/sec. Elapsed time 9.30 sec\n",
      "EvaluatorHoldout: Processed 34728 (100.0%) in 9.86 sec. Users per second: 3523\n"
     ]
    },
    {
     "name": "stderr",
     "output_type": "stream",
     "text": [
      "[I 2024-12-18 00:24:17,001] Trial 231 finished with value: 0.028371946336700156 and parameters: {'topK': 17, 'alpha': 0.4050285158601023, 'beta': 0.1963244503927232}. Best is trial 73 with value: 0.028440063002086992.\n"
     ]
    },
    {
     "name": "stdout",
     "output_type": "stream",
     "text": [
      "RP3betaRecommender: Similarity column 38121 (100.0%), 3949.49 column/sec. Elapsed time 9.65 sec\n",
      "EvaluatorHoldout: Processed 34728 (100.0%) in 9.85 sec. Users per second: 3527\n"
     ]
    },
    {
     "name": "stderr",
     "output_type": "stream",
     "text": [
      "[I 2024-12-18 00:24:36,959] Trial 232 finished with value: 0.028379847879026397 and parameters: {'topK': 16, 'alpha': 0.3759492713078488, 'beta': 0.20976266506885943}. Best is trial 73 with value: 0.028440063002086992.\n"
     ]
    },
    {
     "name": "stdout",
     "output_type": "stream",
     "text": [
      "RP3betaRecommender: Similarity column 38121 (100.0%), 4068.39 column/sec. Elapsed time 9.37 sec\n",
      "EvaluatorHoldout: Processed 34728 (100.0%) in 9.60 sec. Users per second: 3617\n"
     ]
    },
    {
     "name": "stderr",
     "output_type": "stream",
     "text": [
      "[I 2024-12-18 00:24:56,378] Trial 233 finished with value: 0.02813459154682304 and parameters: {'topK': 17, 'alpha': 0.42117295251737397, 'beta': 0.1136461443061059}. Best is trial 73 with value: 0.028440063002086992.\n"
     ]
    },
    {
     "name": "stdout",
     "output_type": "stream",
     "text": [
      "RP3betaRecommender: Similarity column 38121 (100.0%), 3996.59 column/sec. Elapsed time 9.54 sec\n",
      "EvaluatorHoldout: Processed 34728 (100.0%) in 9.14 sec. Users per second: 3800\n"
     ]
    },
    {
     "name": "stderr",
     "output_type": "stream",
     "text": [
      "[I 2024-12-18 00:25:15,525] Trial 234 finished with value: 0.02837604622590724 and parameters: {'topK': 17, 'alpha': 0.41013211550212053, 'beta': 0.21672466396183515}. Best is trial 73 with value: 0.028440063002086992.\n"
     ]
    },
    {
     "name": "stdout",
     "output_type": "stream",
     "text": [
      "RP3betaRecommender: Similarity column 38121 (100.0%), 4264.68 column/sec. Elapsed time 8.94 sec\n",
      "EvaluatorHoldout: Processed 34728 (100.0%) in 9.65 sec. Users per second: 3597\n"
     ]
    },
    {
     "name": "stderr",
     "output_type": "stream",
     "text": [
      "[I 2024-12-18 00:25:34,558] Trial 235 finished with value: 0.028428197547927345 and parameters: {'topK': 17, 'alpha': 0.425239887496319, 'beta': 0.23046838489203356}. Best is trial 73 with value: 0.028440063002086992.\n"
     ]
    },
    {
     "name": "stdout",
     "output_type": "stream",
     "text": [
      "RP3betaRecommender: Similarity column 38121 (100.0%), 4088.03 column/sec. Elapsed time 9.33 sec\n",
      "EvaluatorHoldout: Processed 34728 (100.0%) in 9.88 sec. Users per second: 3516\n"
     ]
    },
    {
     "name": "stderr",
     "output_type": "stream",
     "text": [
      "[I 2024-12-18 00:25:54,289] Trial 236 finished with value: 0.028360902460115522 and parameters: {'topK': 18, 'alpha': 0.4276122514283879, 'beta': 0.22452858986510302}. Best is trial 73 with value: 0.028440063002086992.\n"
     ]
    },
    {
     "name": "stdout",
     "output_type": "stream",
     "text": [
      "RP3betaRecommender: Similarity column 38121 (100.0%), 4184.92 column/sec. Elapsed time 9.11 sec\n",
      "EvaluatorHoldout: Processed 34728 (100.0%) in 9.64 sec. Users per second: 3603\n"
     ]
    },
    {
     "name": "stderr",
     "output_type": "stream",
     "text": [
      "[I 2024-12-18 00:26:13,434] Trial 237 finished with value: 0.027966093870550594 and parameters: {'topK': 11, 'alpha': 0.42376931119459016, 'beta': 0.23092493575157533}. Best is trial 73 with value: 0.028440063002086992.\n"
     ]
    },
    {
     "name": "stdout",
     "output_type": "stream",
     "text": [
      "RP3betaRecommender: Similarity column 38121 (100.0%), 4046.68 column/sec. Elapsed time 9.42 sec\n",
      "EvaluatorHoldout: Processed 34728 (100.0%) in 9.62 sec. Users per second: 3610\n"
     ]
    },
    {
     "name": "stderr",
     "output_type": "stream",
     "text": [
      "[I 2024-12-18 00:26:32,939] Trial 238 finished with value: 0.02827105798166538 and parameters: {'topK': 16, 'alpha': 0.4400395953763472, 'beta': 0.23232894227487608}. Best is trial 73 with value: 0.028440063002086992.\n"
     ]
    },
    {
     "name": "stdout",
     "output_type": "stream",
     "text": [
      "RP3betaRecommender: Similarity column 38121 (100.0%), 4119.21 column/sec. Elapsed time 9.25 sec\n",
      "EvaluatorHoldout: Processed 34728 (100.0%) in 9.13 sec. Users per second: 3805\n"
     ]
    },
    {
     "name": "stderr",
     "output_type": "stream",
     "text": [
      "[I 2024-12-18 00:26:51,771] Trial 239 finished with value: 0.02838363124947364 and parameters: {'topK': 17, 'alpha': 0.4176317137810762, 'beta': 0.21789716240972057}. Best is trial 73 with value: 0.028440063002086992.\n"
     ]
    },
    {
     "name": "stdout",
     "output_type": "stream",
     "text": [
      "RP3betaRecommender: Similarity column 38121 (100.0%), 4672.33 column/sec. Elapsed time 8.16 sec\n",
      "EvaluatorHoldout: Processed 34728 (100.0%) in 9.38 sec. Users per second: 3702\n"
     ]
    },
    {
     "name": "stderr",
     "output_type": "stream",
     "text": [
      "[I 2024-12-18 00:27:09,730] Trial 240 finished with value: 0.028407818081927494 and parameters: {'topK': 17, 'alpha': 0.36985864044493066, 'beta': 0.2037817860261147}. Best is trial 73 with value: 0.028440063002086992.\n"
     ]
    },
    {
     "name": "stdout",
     "output_type": "stream",
     "text": [
      "RP3betaRecommender: Similarity column 38121 (100.0%), 4101.08 column/sec. Elapsed time 9.30 sec\n",
      "EvaluatorHoldout: Processed 34728 (100.0%) in 9.83 sec. Users per second: 3533\n"
     ]
    },
    {
     "name": "stderr",
     "output_type": "stream",
     "text": [
      "[I 2024-12-18 00:27:29,310] Trial 241 finished with value: 0.028396467970586044 and parameters: {'topK': 17, 'alpha': 0.3594932123638649, 'beta': 0.20373891750870685}. Best is trial 73 with value: 0.028440063002086992.\n"
     ]
    },
    {
     "name": "stdout",
     "output_type": "stream",
     "text": [
      "RP3betaRecommender: Similarity column 38121 (100.0%), 4171.83 column/sec. Elapsed time 9.14 sec\n",
      "EvaluatorHoldout: Processed 34728 (100.0%) in 9.81 sec. Users per second: 3539\n"
     ]
    },
    {
     "name": "stderr",
     "output_type": "stream",
     "text": [
      "[I 2024-12-18 00:27:48,720] Trial 242 finished with value: 0.028371052771103793 and parameters: {'topK': 17, 'alpha': 0.36206929981597213, 'beta': 0.20367815831291802}. Best is trial 73 with value: 0.028440063002086992.\n"
     ]
    },
    {
     "name": "stdout",
     "output_type": "stream",
     "text": [
      "RP3betaRecommender: Similarity column 38121 (100.0%), 3967.09 column/sec. Elapsed time 9.61 sec\n",
      "EvaluatorHoldout: Processed 34728 (100.0%) in 9.74 sec. Users per second: 3567\n"
     ]
    },
    {
     "name": "stderr",
     "output_type": "stream",
     "text": [
      "[I 2024-12-18 00:28:08,519] Trial 243 finished with value: 0.028417615308811862 and parameters: {'topK': 17, 'alpha': 0.3698734260891623, 'beta': 0.21112653165313505}. Best is trial 73 with value: 0.028440063002086992.\n"
     ]
    },
    {
     "name": "stdout",
     "output_type": "stream",
     "text": [
      "RP3betaRecommender: Similarity column 38121 (100.0%), 4110.37 column/sec. Elapsed time 9.27 sec\n",
      "EvaluatorHoldout: Processed 34728 (100.0%) in 9.23 sec. Users per second: 3762\n"
     ]
    },
    {
     "name": "stderr",
     "output_type": "stream",
     "text": [
      "[I 2024-12-18 00:28:27,482] Trial 244 finished with value: 0.028308287215292265 and parameters: {'topK': 18, 'alpha': 0.3797070468710821, 'beta': 0.2062851423157742}. Best is trial 73 with value: 0.028440063002086992.\n"
     ]
    },
    {
     "name": "stdout",
     "output_type": "stream",
     "text": [
      "RP3betaRecommender: Similarity column 38121 (100.0%), 4654.45 column/sec. Elapsed time 8.19 sec\n",
      "EvaluatorHoldout: Processed 34728 (100.0%) in 9.14 sec. Users per second: 3800\n"
     ]
    },
    {
     "name": "stderr",
     "output_type": "stream",
     "text": [
      "[I 2024-12-18 00:28:45,245] Trial 245 finished with value: 0.02833591576075945 and parameters: {'topK': 17, 'alpha': 0.35213362688163496, 'beta': 0.22495585820922467}. Best is trial 73 with value: 0.028440063002086992.\n"
     ]
    },
    {
     "name": "stdout",
     "output_type": "stream",
     "text": [
      "RP3betaRecommender: Similarity column 38121 (100.0%), 4183.41 column/sec. Elapsed time 9.11 sec\n",
      "EvaluatorHoldout: Processed 34728 (100.0%) in 9.87 sec. Users per second: 3518\n"
     ]
    },
    {
     "name": "stderr",
     "output_type": "stream",
     "text": [
      "[I 2024-12-18 00:29:04,678] Trial 246 finished with value: 0.028366570088450702 and parameters: {'topK': 16, 'alpha': 0.36488155636119357, 'beta': 0.20981569174488457}. Best is trial 73 with value: 0.028440063002086992.\n"
     ]
    },
    {
     "name": "stdout",
     "output_type": "stream",
     "text": [
      "RP3betaRecommender: Similarity column 38121 (100.0%), 3984.70 column/sec. Elapsed time 9.57 sec\n",
      "EvaluatorHoldout: Processed 34728 (100.0%) in 9.83 sec. Users per second: 3533\n"
     ]
    },
    {
     "name": "stderr",
     "output_type": "stream",
     "text": [
      "[I 2024-12-18 00:29:24,536] Trial 247 finished with value: 0.02838291136926163 and parameters: {'topK': 17, 'alpha': 0.3694602254459246, 'beta': 0.1993783183633743}. Best is trial 73 with value: 0.028440063002086992.\n"
     ]
    },
    {
     "name": "stdout",
     "output_type": "stream",
     "text": [
      "RP3betaRecommender: Similarity column 38121 (100.0%), 4152.19 column/sec. Elapsed time 9.18 sec\n",
      "EvaluatorHoldout: Processed 34728 (100.0%) in 9.82 sec. Users per second: 3537\n"
     ]
    },
    {
     "name": "stderr",
     "output_type": "stream",
     "text": [
      "[I 2024-12-18 00:29:44,018] Trial 248 finished with value: 0.028344707440680954 and parameters: {'topK': 19, 'alpha': 0.36007647314881036, 'beta': 0.21585870549615738}. Best is trial 73 with value: 0.028440063002086992.\n"
     ]
    },
    {
     "name": "stdout",
     "output_type": "stream",
     "text": [
      "RP3betaRecommender: Similarity column 38121 (100.0%), 3962.59 column/sec. Elapsed time 9.62 sec\n",
      "EvaluatorHoldout: Processed 34728 (100.0%) in 9.36 sec. Users per second: 3711\n"
     ]
    },
    {
     "name": "stderr",
     "output_type": "stream",
     "text": [
      "[I 2024-12-18 00:30:03,464] Trial 249 finished with value: 0.028322496279475383 and parameters: {'topK': 18, 'alpha': 0.3710757970317169, 'beta': 0.22350173321173236}. Best is trial 73 with value: 0.028440063002086992.\n"
     ]
    },
    {
     "name": "stdout",
     "output_type": "stream",
     "text": [
      "RP3betaRecommender: Similarity column 38121 (100.0%), 4269.27 column/sec. Elapsed time 8.93 sec\n",
      "EvaluatorHoldout: Processed 34728 (100.0%) in 9.13 sec. Users per second: 3803\n"
     ]
    },
    {
     "name": "stderr",
     "output_type": "stream",
     "text": [
      "[I 2024-12-18 00:30:21,958] Trial 250 finished with value: 0.028390173018066133 and parameters: {'topK': 17, 'alpha': 0.370663352732652, 'beta': 0.20666627902556056}. Best is trial 73 with value: 0.028440063002086992.\n"
     ]
    },
    {
     "name": "stdout",
     "output_type": "stream",
     "text": [
      "RP3betaRecommender: Similarity column 38121 (100.0%), 4283.29 column/sec. Elapsed time 8.90 sec\n",
      "EvaluatorHoldout: Processed 34728 (100.0%) in 9.89 sec. Users per second: 3510\n"
     ]
    },
    {
     "name": "stderr",
     "output_type": "stream",
     "text": [
      "[I 2024-12-18 00:30:41,201] Trial 251 finished with value: 0.028362683877973294 and parameters: {'topK': 16, 'alpha': 0.3733428545929741, 'beta': 0.21280321815970824}. Best is trial 73 with value: 0.028440063002086992.\n"
     ]
    },
    {
     "name": "stdout",
     "output_type": "stream",
     "text": [
      "RP3betaRecommender: Similarity column 38121 (100.0%), 4113.16 column/sec. Elapsed time 9.27 sec\n",
      "EvaluatorHoldout: Processed 34728 (100.0%) in 9.84 sec. Users per second: 3529\n"
     ]
    },
    {
     "name": "stderr",
     "output_type": "stream",
     "text": [
      "[I 2024-12-18 00:31:00,773] Trial 252 finished with value: 0.028327655420994274 and parameters: {'topK': 17, 'alpha': 0.3564262704839449, 'beta': 0.23926062182215885}. Best is trial 73 with value: 0.028440063002086992.\n"
     ]
    },
    {
     "name": "stdout",
     "output_type": "stream",
     "text": [
      "RP3betaRecommender: Similarity column 38121 (100.0%), 4204.44 column/sec. Elapsed time 9.07 sec\n",
      "EvaluatorHoldout: Processed 34728 (100.0%) in 9.85 sec. Users per second: 3524\n"
     ]
    },
    {
     "name": "stderr",
     "output_type": "stream",
     "text": [
      "[I 2024-12-18 00:31:20,180] Trial 253 finished with value: 0.028280960333913873 and parameters: {'topK': 19, 'alpha': 0.3475815854661151, 'beta': 0.22815095686882367}. Best is trial 73 with value: 0.028440063002086992.\n"
     ]
    },
    {
     "name": "stdout",
     "output_type": "stream",
     "text": [
      "RP3betaRecommender: Similarity column 38121 (100.0%), 3936.42 column/sec. Elapsed time 9.68 sec\n",
      "EvaluatorHoldout: Processed 34728 (100.0%) in 9.24 sec. Users per second: 3760\n"
     ]
    },
    {
     "name": "stderr",
     "output_type": "stream",
     "text": [
      "[I 2024-12-18 00:31:39,530] Trial 254 finished with value: 0.02835276210038564 and parameters: {'topK': 16, 'alpha': 0.36770569622683236, 'beta': 0.1962517167629179}. Best is trial 73 with value: 0.028440063002086992.\n"
     ]
    },
    {
     "name": "stdout",
     "output_type": "stream",
     "text": [
      "RP3betaRecommender: Similarity column 38121 (100.0%), 4627.72 column/sec. Elapsed time 8.24 sec\n",
      "EvaluatorHoldout: Processed 34728 (100.0%) in 8.95 sec. Users per second: 3881\n"
     ]
    },
    {
     "name": "stderr",
     "output_type": "stream",
     "text": [
      "[I 2024-12-18 00:31:57,145] Trial 255 finished with value: 0.028301833432058974 and parameters: {'topK': 18, 'alpha': 0.3768158701983719, 'beta': 0.20266045787189807}. Best is trial 73 with value: 0.028440063002086992.\n"
     ]
    },
    {
     "name": "stdout",
     "output_type": "stream",
     "text": [
      "RP3betaRecommender: Similarity column 38121 (100.0%), 4140.06 column/sec. Elapsed time 9.21 sec\n",
      "EvaluatorHoldout: Processed 34728 (100.0%) in 9.90 sec. Users per second: 3508\n"
     ]
    },
    {
     "name": "stderr",
     "output_type": "stream",
     "text": [
      "[I 2024-12-18 00:32:16,735] Trial 256 finished with value: 0.02835534338514551 and parameters: {'topK': 19, 'alpha': 0.3614997448510574, 'beta': 0.22184801380304747}. Best is trial 73 with value: 0.028440063002086992.\n"
     ]
    },
    {
     "name": "stdout",
     "output_type": "stream",
     "text": [
      "RP3betaRecommender: Similarity column 38121 (100.0%), 4182.78 column/sec. Elapsed time 9.11 sec\n",
      "EvaluatorHoldout: Processed 34728 (100.0%) in 9.83 sec. Users per second: 3532\n"
     ]
    },
    {
     "name": "stderr",
     "output_type": "stream",
     "text": [
      "[I 2024-12-18 00:32:36,146] Trial 257 finished with value: 0.028409132148981112 and parameters: {'topK': 17, 'alpha': 0.38223370435979626, 'beta': 0.21233282102120032}. Best is trial 73 with value: 0.028440063002086992.\n"
     ]
    },
    {
     "name": "stdout",
     "output_type": "stream",
     "text": [
      "RP3betaRecommender: Similarity column 38121 (100.0%), 4108.02 column/sec. Elapsed time 9.28 sec\n",
      "EvaluatorHoldout: Processed 34728 (100.0%) in 10.05 sec. Users per second: 3457\n"
     ]
    },
    {
     "name": "stderr",
     "output_type": "stream",
     "text": [
      "[I 2024-12-18 00:32:56,001] Trial 258 finished with value: 0.027539346595582933 and parameters: {'topK': 20, 'alpha': 0.38267009420568976, 'beta': 0.3904199622342786}. Best is trial 73 with value: 0.028440063002086992.\n"
     ]
    },
    {
     "name": "stdout",
     "output_type": "stream",
     "text": [
      "RP3betaRecommender: Similarity column 38121 (100.0%), 4010.16 column/sec. Elapsed time 9.51 sec\n",
      "EvaluatorHoldout: Processed 34728 (100.0%) in 9.48 sec. Users per second: 3664\n"
     ]
    },
    {
     "name": "stderr",
     "output_type": "stream",
     "text": [
      "[I 2024-12-18 00:33:15,447] Trial 259 finished with value: 0.02831662982708169 and parameters: {'topK': 18, 'alpha': 0.3865826299298935, 'beta': 0.2110416593843917}. Best is trial 73 with value: 0.028440063002086992.\n"
     ]
    },
    {
     "name": "stdout",
     "output_type": "stream",
     "text": [
      "RP3betaRecommender: Similarity column 38121 (100.0%), 4668.52 column/sec. Elapsed time 8.17 sec\n",
      "EvaluatorHoldout: Processed 34728 (100.0%) in 8.76 sec. Users per second: 3965\n"
     ]
    },
    {
     "name": "stderr",
     "output_type": "stream",
     "text": [
      "[I 2024-12-18 00:33:32,790] Trial 260 finished with value: 0.02840916528632405 and parameters: {'topK': 17, 'alpha': 0.37648680494195425, 'beta': 0.2012007732796577}. Best is trial 73 with value: 0.028440063002086992.\n"
     ]
    },
    {
     "name": "stdout",
     "output_type": "stream",
     "text": [
      "RP3betaRecommender: Similarity column 38121 (100.0%), 4090.28 column/sec. Elapsed time 9.32 sec\n",
      "EvaluatorHoldout: Processed 34728 (100.0%) in 9.87 sec. Users per second: 3518\n"
     ]
    },
    {
     "name": "stderr",
     "output_type": "stream",
     "text": [
      "[I 2024-12-18 00:33:52,413] Trial 261 finished with value: 0.02842069822438602 and parameters: {'topK': 17, 'alpha': 0.3747552599835636, 'beta': 0.20182312882031989}. Best is trial 73 with value: 0.028440063002086992.\n"
     ]
    },
    {
     "name": "stdout",
     "output_type": "stream",
     "text": [
      "RP3betaRecommender: Similarity column 38121 (100.0%), 4277.55 column/sec. Elapsed time 8.91 sec\n",
      "EvaluatorHoldout: Processed 34728 (100.0%) in 9.84 sec. Users per second: 3528\n"
     ]
    },
    {
     "name": "stderr",
     "output_type": "stream",
     "text": [
      "[I 2024-12-18 00:34:11,607] Trial 262 finished with value: 0.028380372363180792 and parameters: {'topK': 16, 'alpha': 0.3828226927132513, 'beta': 0.1980280493665126}. Best is trial 73 with value: 0.028440063002086992.\n"
     ]
    },
    {
     "name": "stdout",
     "output_type": "stream",
     "text": [
      "RP3betaRecommender: Similarity column 38121 (100.0%), 4014.66 column/sec. Elapsed time 9.50 sec\n",
      "EvaluatorHoldout: Processed 34728 (100.0%) in 9.83 sec. Users per second: 3532\n"
     ]
    },
    {
     "name": "stderr",
     "output_type": "stream",
     "text": [
      "[I 2024-12-18 00:34:31,375] Trial 263 finished with value: 0.028352943784439158 and parameters: {'topK': 15, 'alpha': 0.37676743779470573, 'beta': 0.20942512728098392}. Best is trial 73 with value: 0.028440063002086992.\n"
     ]
    },
    {
     "name": "stdout",
     "output_type": "stream",
     "text": [
      "RP3betaRecommender: Similarity column 38121 (100.0%), 4068.64 column/sec. Elapsed time 9.37 sec\n",
      "EvaluatorHoldout: Processed 34728 (100.0%) in 9.43 sec. Users per second: 3682\n"
     ]
    },
    {
     "name": "stderr",
     "output_type": "stream",
     "text": [
      "[I 2024-12-18 00:34:50,620] Trial 264 finished with value: 0.028384078032271793 and parameters: {'topK': 17, 'alpha': 0.3768858923894626, 'beta': 0.195437188613159}. Best is trial 73 with value: 0.028440063002086992.\n"
     ]
    },
    {
     "name": "stdout",
     "output_type": "stream",
     "text": [
      "RP3betaRecommender: Similarity column 38121 (100.0%), 4249.26 column/sec. Elapsed time 8.97 sec\n",
      "EvaluatorHoldout: Processed 34728 (100.0%) in 8.99 sec. Users per second: 3863\n"
     ]
    },
    {
     "name": "stderr",
     "output_type": "stream",
     "text": [
      "[I 2024-12-18 00:35:09,019] Trial 265 finished with value: 0.028371988615379318 and parameters: {'topK': 17, 'alpha': 0.3907542567195963, 'beta': 0.2306941711990853}. Best is trial 73 with value: 0.028440063002086992.\n"
     ]
    },
    {
     "name": "stdout",
     "output_type": "stream",
     "text": [
      "RP3betaRecommender: Similarity column 38121 (100.0%), 4151.93 column/sec. Elapsed time 9.18 sec\n",
      "EvaluatorHoldout: Processed 34728 (100.0%) in 9.95 sec. Users per second: 3489\n"
     ]
    },
    {
     "name": "stderr",
     "output_type": "stream",
     "text": [
      "[I 2024-12-18 00:35:28,602] Trial 266 finished with value: 0.028413566839619993 and parameters: {'topK': 17, 'alpha': 0.3701873569884613, 'beta': 0.21558488622398525}. Best is trial 73 with value: 0.028440063002086992.\n"
     ]
    },
    {
     "name": "stdout",
     "output_type": "stream",
     "text": [
      "RP3betaRecommender: Similarity column 38121 (100.0%), 4180.54 column/sec. Elapsed time 9.12 sec\n",
      "EvaluatorHoldout: Processed 34728 (100.0%) in 9.89 sec. Users per second: 3513\n"
     ]
    },
    {
     "name": "stderr",
     "output_type": "stream",
     "text": [
      "[I 2024-12-18 00:35:48,055] Trial 267 finished with value: 0.028391007164978367 and parameters: {'topK': 16, 'alpha': 0.3697256313518651, 'beta': 0.219938690756497}. Best is trial 73 with value: 0.028440063002086992.\n"
     ]
    },
    {
     "name": "stdout",
     "output_type": "stream",
     "text": [
      "RP3betaRecommender: Similarity column 38121 (100.0%), 4141.38 column/sec. Elapsed time 9.20 sec\n",
      "EvaluatorHoldout: Processed 34728 (100.0%) in 10.02 sec. Users per second: 3465\n"
     ]
    },
    {
     "name": "stderr",
     "output_type": "stream",
     "text": [
      "[I 2024-12-18 00:36:07,747] Trial 268 finished with value: 0.02831686521648431 and parameters: {'topK': 17, 'alpha': 0.36605850365468606, 'beta': 0.23466905737348423}. Best is trial 73 with value: 0.028440063002086992.\n"
     ]
    },
    {
     "name": "stdout",
     "output_type": "stream",
     "text": [
      "RP3betaRecommender: Similarity column 38121 (100.0%), 4092.69 column/sec. Elapsed time 9.31 sec\n",
      "EvaluatorHoldout: Processed 34728 (100.0%) in 9.51 sec. Users per second: 3652\n"
     ]
    },
    {
     "name": "stderr",
     "output_type": "stream",
     "text": [
      "[I 2024-12-18 00:36:27,034] Trial 269 finished with value: 0.028309349895605126 and parameters: {'topK': 18, 'alpha': 0.377056396195047, 'beta': 0.21474965936547033}. Best is trial 73 with value: 0.028440063002086992.\n"
     ]
    },
    {
     "name": "stdout",
     "output_type": "stream",
     "text": [
      "RP3betaRecommender: Similarity column 38121 (100.0%), 4360.98 column/sec. Elapsed time 8.74 sec\n",
      "EvaluatorHoldout: Processed 34728 (100.0%) in 8.93 sec. Users per second: 3889\n"
     ]
    },
    {
     "name": "stderr",
     "output_type": "stream",
     "text": [
      "[I 2024-12-18 00:36:45,141] Trial 270 finished with value: 0.028366685497818078 and parameters: {'topK': 17, 'alpha': 0.3712769322698512, 'beta': 0.2254328713361007}. Best is trial 73 with value: 0.028440063002086992.\n"
     ]
    },
    {
     "name": "stdout",
     "output_type": "stream",
     "text": [
      "RP3betaRecommender: Similarity column 38121 (100.0%), 4189.33 column/sec. Elapsed time 9.10 sec\n",
      "EvaluatorHoldout: Processed 34728 (100.0%) in 9.92 sec. Users per second: 3499\n"
     ]
    },
    {
     "name": "stderr",
     "output_type": "stream",
     "text": [
      "[I 2024-12-18 00:37:04,610] Trial 271 finished with value: 0.0283454547449011 and parameters: {'topK': 17, 'alpha': 0.4166029966692299, 'beta': 0.20901237219950722}. Best is trial 73 with value: 0.028440063002086992.\n"
     ]
    },
    {
     "name": "stdout",
     "output_type": "stream",
     "text": [
      "RP3betaRecommender: Similarity column 38121 (100.0%), 4002.05 column/sec. Elapsed time 9.53 sec\n",
      "EvaluatorHoldout: Processed 34728 (100.0%) in 9.92 sec. Users per second: 3501\n"
     ]
    },
    {
     "name": "stderr",
     "output_type": "stream",
     "text": [
      "[I 2024-12-18 00:37:24,526] Trial 272 finished with value: 0.028331253679386853 and parameters: {'topK': 18, 'alpha': 0.3880005349360675, 'beta': 0.21800068800642242}. Best is trial 73 with value: 0.028440063002086992.\n"
     ]
    },
    {
     "name": "stdout",
     "output_type": "stream",
     "text": [
      "RP3betaRecommender: Similarity column 38121 (100.0%), 4146.30 column/sec. Elapsed time 9.19 sec\n",
      "EvaluatorHoldout: Processed 34728 (100.0%) in 9.76 sec. Users per second: 3557\n"
     ]
    },
    {
     "name": "stderr",
     "output_type": "stream",
     "text": [
      "[I 2024-12-18 00:37:43,901] Trial 273 finished with value: 0.02813304894636898 and parameters: {'topK': 13, 'alpha': 0.49433834459440584, 'beta': 0.24193642907725676}. Best is trial 73 with value: 0.028440063002086992.\n"
     ]
    },
    {
     "name": "stdout",
     "output_type": "stream",
     "text": [
      "RP3betaRecommender: Similarity column 38121 (100.0%), 4062.66 column/sec. Elapsed time 9.38 sec\n",
      "EvaluatorHoldout: Processed 34728 (100.0%) in 9.47 sec. Users per second: 3669\n"
     ]
    },
    {
     "name": "stderr",
     "output_type": "stream",
     "text": [
      "[I 2024-12-18 00:38:03,183] Trial 274 finished with value: 0.028351738270750944 and parameters: {'topK': 16, 'alpha': 0.3816156800159605, 'beta': 0.22785704243694319}. Best is trial 73 with value: 0.028440063002086992.\n"
     ]
    },
    {
     "name": "stdout",
     "output_type": "stream",
     "text": [
      "RP3betaRecommender: Similarity column 38121 (100.0%), 4249.93 column/sec. Elapsed time 8.97 sec\n",
      "EvaluatorHoldout: Processed 34728 (100.0%) in 9.03 sec. Users per second: 3847\n"
     ]
    },
    {
     "name": "stderr",
     "output_type": "stream",
     "text": [
      "[I 2024-12-18 00:38:21,609] Trial 275 finished with value: 0.02838335015339087 and parameters: {'topK': 17, 'alpha': 0.42859246443087834, 'beta': 0.20320400937712166}. Best is trial 73 with value: 0.028440063002086992.\n"
     ]
    },
    {
     "name": "stdout",
     "output_type": "stream",
     "text": [
      "RP3betaRecommender: Similarity column 38121 (100.0%), 4242.18 column/sec. Elapsed time 8.99 sec\n",
      "EvaluatorHoldout: Processed 34728 (100.0%) in 9.96 sec. Users per second: 3487\n"
     ]
    },
    {
     "name": "stderr",
     "output_type": "stream",
     "text": [
      "[I 2024-12-18 00:38:41,016] Trial 276 finished with value: 0.028348061168335062 and parameters: {'topK': 18, 'alpha': 0.36553520950349655, 'beta': 0.21253764648268963}. Best is trial 73 with value: 0.028440063002086992.\n"
     ]
    },
    {
     "name": "stdout",
     "output_type": "stream",
     "text": [
      "RP3betaRecommender: Similarity column 38121 (100.0%), 4183.85 column/sec. Elapsed time 9.11 sec\n",
      "EvaluatorHoldout: Processed 34728 (100.0%) in 9.91 sec. Users per second: 3505\n"
     ]
    },
    {
     "name": "stderr",
     "output_type": "stream",
     "text": [
      "[I 2024-12-18 00:39:00,505] Trial 277 finished with value: 0.028379741610995195 and parameters: {'topK': 17, 'alpha': 0.41325745040689643, 'beta': 0.22418851389851752}. Best is trial 73 with value: 0.028440063002086992.\n"
     ]
    },
    {
     "name": "stdout",
     "output_type": "stream",
     "text": [
      "RP3betaRecommender: Similarity column 38121 (100.0%), 4068.56 column/sec. Elapsed time 9.37 sec\n",
      "EvaluatorHoldout: Processed 34728 (100.0%) in 9.87 sec. Users per second: 3518\n"
     ]
    },
    {
     "name": "stderr",
     "output_type": "stream",
     "text": [
      "[I 2024-12-18 00:39:20,198] Trial 278 finished with value: 0.02831126043483422 and parameters: {'topK': 16, 'alpha': 0.4204966980784313, 'beta': 0.1928189592507522}. Best is trial 73 with value: 0.028440063002086992.\n"
     ]
    },
    {
     "name": "stdout",
     "output_type": "stream",
     "text": [
      "RP3betaRecommender: Similarity column 38121 (100.0%), 4008.05 column/sec. Elapsed time 9.51 sec\n",
      "EvaluatorHoldout: Processed 34728 (100.0%) in 9.44 sec. Users per second: 3679\n"
     ]
    },
    {
     "name": "stderr",
     "output_type": "stream",
     "text": [
      "[I 2024-12-18 00:39:39,604] Trial 279 finished with value: 0.02840712676839063 and parameters: {'topK': 17, 'alpha': 0.37280793611618085, 'beta': 0.2054548459981958}. Best is trial 73 with value: 0.028440063002086992.\n"
     ]
    },
    {
     "name": "stdout",
     "output_type": "stream",
     "text": [
      "RP3betaRecommender: Similarity column 38121 (100.0%), 4698.20 column/sec. Elapsed time 8.11 sec\n",
      "EvaluatorHoldout: Processed 34728 (100.0%) in 8.92 sec. Users per second: 3892\n"
     ]
    },
    {
     "name": "stderr",
     "output_type": "stream",
     "text": [
      "[I 2024-12-18 00:39:57,061] Trial 280 finished with value: 0.028405790990664048 and parameters: {'topK': 17, 'alpha': 0.3733648396874836, 'beta': 0.20606260293817402}. Best is trial 73 with value: 0.028440063002086992.\n"
     ]
    },
    {
     "name": "stdout",
     "output_type": "stream",
     "text": [
      "RP3betaRecommender: Similarity column 38121 (100.0%), 4390.34 column/sec. Elapsed time 8.68 sec\n",
      "EvaluatorHoldout: Processed 34728 (100.0%) in 9.65 sec. Users per second: 3599\n"
     ]
    },
    {
     "name": "stderr",
     "output_type": "stream",
     "text": [
      "[I 2024-12-18 00:40:15,703] Trial 281 finished with value: 0.026633492758232947 and parameters: {'topK': 6, 'alpha': 0.3733796940196615, 'beta': 0.1998430189211258}. Best is trial 73 with value: 0.028440063002086992.\n"
     ]
    },
    {
     "name": "stdout",
     "output_type": "stream",
     "text": [
      "RP3betaRecommender: Similarity column 38121 (100.0%), 3982.02 column/sec. Elapsed time 9.57 sec\n",
      "EvaluatorHoldout: Processed 34728 (100.0%) in 9.91 sec. Users per second: 3504\n"
     ]
    },
    {
     "name": "stderr",
     "output_type": "stream",
     "text": [
      "[I 2024-12-18 00:40:35,644] Trial 282 finished with value: 0.028400644418482227 and parameters: {'topK': 17, 'alpha': 0.37155948460543636, 'beta': 0.20600353018944398}. Best is trial 73 with value: 0.028440063002086992.\n"
     ]
    },
    {
     "name": "stdout",
     "output_type": "stream",
     "text": [
      "RP3betaRecommender: Similarity column 38121 (100.0%), 4020.23 column/sec. Elapsed time 9.48 sec\n",
      "EvaluatorHoldout: Processed 34728 (100.0%) in 9.90 sec. Users per second: 3509\n"
     ]
    },
    {
     "name": "stderr",
     "output_type": "stream",
     "text": [
      "[I 2024-12-18 00:40:55,463] Trial 283 finished with value: 0.028311552957586986 and parameters: {'topK': 16, 'alpha': 0.382978542581368, 'beta': 0.18149016140265778}. Best is trial 73 with value: 0.028440063002086992.\n"
     ]
    },
    {
     "name": "stdout",
     "output_type": "stream",
     "text": [
      "RP3betaRecommender: Similarity column 38121 (100.0%), 4105.84 column/sec. Elapsed time 9.28 sec\n",
      "EvaluatorHoldout: Processed 34728 (100.0%) in 9.53 sec. Users per second: 3643\n"
     ]
    },
    {
     "name": "stderr",
     "output_type": "stream",
     "text": [
      "[I 2024-12-18 00:41:14,729] Trial 284 finished with value: 0.028390633512868434 and parameters: {'topK': 17, 'alpha': 0.36483218136025414, 'beta': 0.19037744507342014}. Best is trial 73 with value: 0.028440063002086992.\n"
     ]
    },
    {
     "name": "stdout",
     "output_type": "stream",
     "text": [
      "RP3betaRecommender: Similarity column 38121 (100.0%), 4530.56 column/sec. Elapsed time 8.41 sec\n",
      "EvaluatorHoldout: Processed 34728 (100.0%) in 8.78 sec. Users per second: 3957\n"
     ]
    },
    {
     "name": "stderr",
     "output_type": "stream",
     "text": [
      "[I 2024-12-18 00:41:32,337] Trial 285 finished with value: 0.028394956222140905 and parameters: {'topK': 17, 'alpha': 0.3765851385255553, 'beta': 0.19992104163367533}. Best is trial 73 with value: 0.028440063002086992.\n"
     ]
    },
    {
     "name": "stdout",
     "output_type": "stream",
     "text": [
      "RP3betaRecommender: Similarity column 38121 (100.0%), 4063.62 column/sec. Elapsed time 9.38 sec\n",
      "EvaluatorHoldout: Processed 34728 (100.0%) in 9.95 sec. Users per second: 3490\n"
     ]
    },
    {
     "name": "stderr",
     "output_type": "stream",
     "text": [
      "[I 2024-12-18 00:41:52,129] Trial 286 finished with value: 0.028346459149196767 and parameters: {'topK': 18, 'alpha': 0.3532296926762756, 'beta': 0.20876007948739267}. Best is trial 73 with value: 0.028440063002086992.\n"
     ]
    },
    {
     "name": "stdout",
     "output_type": "stream",
     "text": [
      "RP3betaRecommender: Similarity column 38121 (100.0%), 4045.86 column/sec. Elapsed time 9.42 sec\n",
      "EvaluatorHoldout: Processed 34728 (100.0%) in 9.92 sec. Users per second: 3501\n"
     ]
    },
    {
     "name": "stderr",
     "output_type": "stream",
     "text": [
      "[I 2024-12-18 00:42:11,925] Trial 287 finished with value: 0.02842182375138418 and parameters: {'topK': 17, 'alpha': 0.3781967609935339, 'beta': 0.21382138138136023}. Best is trial 73 with value: 0.028440063002086992.\n"
     ]
    },
    {
     "name": "stdout",
     "output_type": "stream",
     "text": [
      "RP3betaRecommender: Similarity column 38121 (100.0%), 4048.45 column/sec. Elapsed time 9.42 sec\n",
      "EvaluatorHoldout: Processed 34728 (100.0%) in 9.89 sec. Users per second: 3511\n"
     ]
    },
    {
     "name": "stderr",
     "output_type": "stream",
     "text": [
      "[I 2024-12-18 00:42:31,684] Trial 288 finished with value: 0.028393025114905785 and parameters: {'topK': 17, 'alpha': 0.3837454922503494, 'beta': 0.19300936044502046}. Best is trial 73 with value: 0.028440063002086992.\n"
     ]
    },
    {
     "name": "stdout",
     "output_type": "stream",
     "text": [
      "RP3betaRecommender: Similarity column 38121 (100.0%), 4078.51 column/sec. Elapsed time 9.35 sec\n",
      "EvaluatorHoldout: Processed 34728 (100.0%) in 9.46 sec. Users per second: 3671\n"
     ]
    },
    {
     "name": "stderr",
     "output_type": "stream",
     "text": [
      "[I 2024-12-18 00:42:50,953] Trial 289 finished with value: 0.028298454565730935 and parameters: {'topK': 18, 'alpha': 0.37385591597043377, 'beta': 0.20405815732338928}. Best is trial 73 with value: 0.028440063002086992.\n"
     ]
    },
    {
     "name": "stdout",
     "output_type": "stream",
     "text": [
      "RP3betaRecommender: Similarity column 38121 (100.0%), 4703.72 column/sec. Elapsed time 8.10 sec\n",
      "EvaluatorHoldout: Processed 34728 (100.0%) in 8.89 sec. Users per second: 3907\n"
     ]
    },
    {
     "name": "stderr",
     "output_type": "stream",
     "text": [
      "[I 2024-12-18 00:43:08,374] Trial 290 finished with value: 0.028359941477165956 and parameters: {'topK': 16, 'alpha': 0.37699089171644623, 'beta': 0.2119693716149529}. Best is trial 73 with value: 0.028440063002086992.\n"
     ]
    },
    {
     "name": "stdout",
     "output_type": "stream",
     "text": [
      "RP3betaRecommender: Similarity column 38121 (100.0%), 4225.98 column/sec. Elapsed time 9.02 sec\n",
      "EvaluatorHoldout: Processed 34728 (100.0%) in 10.65 sec. Users per second: 3261\n"
     ]
    },
    {
     "name": "stderr",
     "output_type": "stream",
     "text": [
      "[I 2024-12-18 00:43:28,500] Trial 291 finished with value: 0.028400567859793096 and parameters: {'topK': 17, 'alpha': 0.3676591209085693, 'beta': 0.21843692947848956}. Best is trial 73 with value: 0.028440063002086992.\n"
     ]
    },
    {
     "name": "stdout",
     "output_type": "stream",
     "text": [
      "RP3betaRecommender: Similarity column 38121 (100.0%), 4116.36 column/sec. Elapsed time 9.26 sec\n",
      "EvaluatorHoldout: Processed 34728 (100.0%) in 10.31 sec. Users per second: 3368\n"
     ]
    },
    {
     "name": "stderr",
     "output_type": "stream",
     "text": [
      "[I 2024-12-18 00:43:48,543] Trial 292 finished with value: 0.02836033112661399 and parameters: {'topK': 15, 'alpha': 0.38799033610794664, 'beta': 0.20403601213110026}. Best is trial 73 with value: 0.028440063002086992.\n"
     ]
    },
    {
     "name": "stdout",
     "output_type": "stream",
     "text": [
      "RP3betaRecommender: Similarity column 38121 (100.0%), 3744.58 column/sec. Elapsed time 10.18 sec\n",
      "EvaluatorHoldout: Processed 34728 (100.0%) in 10.30 sec. Users per second: 3373\n"
     ]
    },
    {
     "name": "stderr",
     "output_type": "stream",
     "text": [
      "[I 2024-12-18 00:44:09,503] Trial 293 finished with value: 0.0283200429734199 and parameters: {'topK': 18, 'alpha': 0.3586374827507147, 'beta': 0.19495461776508435}. Best is trial 73 with value: 0.028440063002086992.\n"
     ]
    },
    {
     "name": "stdout",
     "output_type": "stream",
     "text": [
      "RP3betaRecommender: Similarity column 38121 (100.0%), 4137.18 column/sec. Elapsed time 9.21 sec\n",
      "EvaluatorHoldout: Processed 34728 (100.0%) in 9.71 sec. Users per second: 3578\n"
     ]
    },
    {
     "name": "stderr",
     "output_type": "stream",
     "text": [
      "[I 2024-12-18 00:44:28,896] Trial 294 finished with value: 0.02839596748243866 and parameters: {'topK': 17, 'alpha': 0.3939005828288199, 'beta': 0.18637244208913256}. Best is trial 73 with value: 0.028440063002086992.\n"
     ]
    },
    {
     "name": "stdout",
     "output_type": "stream",
     "text": [
      "RP3betaRecommender: Similarity column 38121 (100.0%), 4349.76 column/sec. Elapsed time 8.76 sec\n",
      "EvaluatorHoldout: Processed 34728 (100.0%) in 8.86 sec. Users per second: 3918\n"
     ]
    },
    {
     "name": "stderr",
     "output_type": "stream",
     "text": [
      "[I 2024-12-18 00:44:46,970] Trial 295 finished with value: 0.02829874708848359 and parameters: {'topK': 18, 'alpha': 0.37146078577656644, 'beta': 0.2329962606893049}. Best is trial 73 with value: 0.028440063002086992.\n"
     ]
    },
    {
     "name": "stdout",
     "output_type": "stream",
     "text": [
      "RP3betaRecommender: Similarity column 38121 (100.0%), 4015.80 column/sec. Elapsed time 9.49 sec\n",
      "EvaluatorHoldout: Processed 34728 (100.0%) in 10.02 sec. Users per second: 3464\n"
     ]
    },
    {
     "name": "stderr",
     "output_type": "stream",
     "text": [
      "[I 2024-12-18 00:45:06,931] Trial 296 finished with value: 0.028315107794633657 and parameters: {'topK': 16, 'alpha': 0.380242126948455, 'beta': 0.2503387658961466}. Best is trial 73 with value: 0.028440063002086992.\n"
     ]
    },
    {
     "name": "stdout",
     "output_type": "stream",
     "text": [
      "RP3betaRecommender: Similarity column 38121 (100.0%), 4255.67 column/sec. Elapsed time 8.96 sec\n",
      "EvaluatorHoldout: Processed 34728 (100.0%) in 9.73 sec. Users per second: 3570\n"
     ]
    },
    {
     "name": "stderr",
     "output_type": "stream",
     "text": [
      "[I 2024-12-18 00:45:25,946] Trial 297 finished with value: 0.02493693735076717 and parameters: {'topK': 5, 'alpha': 0.361661317137725, 'beta': 0.4871338876956504}. Best is trial 73 with value: 0.028440063002086992.\n"
     ]
    },
    {
     "name": "stdout",
     "output_type": "stream",
     "text": [
      "RP3betaRecommender: Similarity column 38121 (100.0%), 4151.79 column/sec. Elapsed time 9.18 sec\n",
      "EvaluatorHoldout: Processed 34728 (100.0%) in 10.13 sec. Users per second: 3430\n"
     ]
    },
    {
     "name": "stderr",
     "output_type": "stream",
     "text": [
      "[I 2024-12-18 00:45:45,738] Trial 298 finished with value: 0.028174178102477326 and parameters: {'topK': 17, 'alpha': 0.3839816662656345, 'beta': 0.29066924105926206}. Best is trial 73 with value: 0.028440063002086992.\n"
     ]
    },
    {
     "name": "stdout",
     "output_type": "stream",
     "text": [
      "RP3betaRecommender: Similarity column 38121 (100.0%), 4126.03 column/sec. Elapsed time 9.24 sec\n",
      "EvaluatorHoldout: Processed 34728 (100.0%) in 9.63 sec. Users per second: 3608\n"
     ]
    },
    {
     "name": "stderr",
     "output_type": "stream",
     "text": [
      "[I 2024-12-18 00:46:05,059] Trial 299 finished with value: 0.028426159029993795 and parameters: {'topK': 17, 'alpha': 0.3768048491882805, 'beta': 0.21359264866197847}. Best is trial 73 with value: 0.028440063002086992.\n"
     ]
    }
   ],
   "source": [
    "optuna_study_beta = op.create_study(direction=\"maximize\")\n",
    "        \n",
    "save_results_beta = SaveResults()\n",
    "        \n",
    "optuna_study_beta.optimize(objective_function_P3_beta,\n",
    "                      callbacks=[save_results_beta],\n",
    "                      n_trials = 300)"
   ]
  },
  {
   "cell_type": "code",
   "execution_count": 12,
   "id": "c27778b0-76f1-4b72-95aa-3adc13784b6b",
   "metadata": {},
   "outputs": [],
   "source": [
    "save_results_beta.results_df.to_csv(\"result_experiments/RP3beta/results_optuna_20.csv\")"
   ]
  },
  {
   "cell_type": "code",
   "execution_count": 15,
   "id": "63737328-e59b-477b-968e-cb091e225322",
   "metadata": {
    "scrolled": true
   },
   "outputs": [
    {
     "name": "stderr",
     "output_type": "stream",
     "text": [
      "[I 2024-12-09 07:40:21,634] A new study created in memory with name: no-name-190db610-7b6e-4d85-a877-2611764cbb27\n"
     ]
    },
    {
     "name": "stdout",
     "output_type": "stream",
     "text": [
      "P3alphaRecommender: Similarity column 38121 (100.0%), 4703.27 column/sec. Elapsed time 8.11 sec\n",
      "EvaluatorHoldout: Processed 35572 (100.0%) in 9.02 sec. Users per second: 3946\n"
     ]
    },
    {
     "name": "stderr",
     "output_type": "stream",
     "text": [
      "[I 2024-12-09 07:40:39,405] Trial 0 finished with value: 0.05047467220517467 and parameters: {'topK': 51, 'alpha': 0.3774241480510347}. Best is trial 0 with value: 0.05047467220517467.\n"
     ]
    },
    {
     "name": "stdout",
     "output_type": "stream",
     "text": [
      "P3alphaRecommender: Similarity column 38121 (100.0%), 4690.72 column/sec. Elapsed time 8.13 sec\n",
      "EvaluatorHoldout: Processed 35572 (100.0%) in 9.03 sec. Users per second: 3941\n"
     ]
    },
    {
     "name": "stderr",
     "output_type": "stream",
     "text": [
      "[I 2024-12-09 07:40:57,216] Trial 1 finished with value: 0.05040746556503141 and parameters: {'topK': 52, 'alpha': 0.3846647742101469}. Best is trial 0 with value: 0.05047467220517467.\n"
     ]
    },
    {
     "name": "stdout",
     "output_type": "stream",
     "text": [
      "P3alphaRecommender: Similarity column 38121 (100.0%), 3674.27 column/sec. Elapsed time 10.38 sec\n",
      "EvaluatorHoldout: Processed 35572 (100.0%) in 11.30 sec. Users per second: 3147\n"
     ]
    },
    {
     "name": "stderr",
     "output_type": "stream",
     "text": [
      "[I 2024-12-09 07:41:21,269] Trial 2 finished with value: 0.04289579239244544 and parameters: {'topK': 211, 'alpha': 0.37486511236471187}. Best is trial 0 with value: 0.05047467220517467.\n"
     ]
    },
    {
     "name": "stdout",
     "output_type": "stream",
     "text": [
      "P3alphaRecommender: Similarity column 38121 (100.0%), 4226.47 column/sec. Elapsed time 9.02 sec\n",
      "EvaluatorHoldout: Processed 35572 (100.0%) in 10.01 sec. Users per second: 3555\n"
     ]
    },
    {
     "name": "stderr",
     "output_type": "stream",
     "text": [
      "[I 2024-12-09 07:41:41,607] Trial 3 finished with value: 0.04664098211719749 and parameters: {'topK': 116, 'alpha': 0.36173198869809614}. Best is trial 0 with value: 0.05047467220517467.\n"
     ]
    },
    {
     "name": "stdout",
     "output_type": "stream",
     "text": [
      "P3alphaRecommender: Similarity column 38121 (100.0%), 3278.20 column/sec. Elapsed time 11.63 sec\n",
      "EvaluatorHoldout: Processed 35572 (100.0%) in 12.34 sec. Users per second: 2884\n"
     ]
    },
    {
     "name": "stderr",
     "output_type": "stream",
     "text": [
      "[I 2024-12-09 07:42:08,962] Trial 4 finished with value: 0.04062130974245677 and parameters: {'topK': 299, 'alpha': 0.3627693116383861}. Best is trial 0 with value: 0.05047467220517467.\n"
     ]
    },
    {
     "name": "stdout",
     "output_type": "stream",
     "text": [
      "P3alphaRecommender: Similarity column 38121 (100.0%), 4875.02 column/sec. Elapsed time 7.82 sec\n",
      "EvaluatorHoldout: Processed 35572 (100.0%) in 8.75 sec. Users per second: 4066\n"
     ]
    },
    {
     "name": "stderr",
     "output_type": "stream",
     "text": [
      "[I 2024-12-09 07:42:25,998] Trial 5 finished with value: 0.05219341969517508 and parameters: {'topK': 32, 'alpha': 0.3654305356083161}. Best is trial 5 with value: 0.05219341969517508.\n"
     ]
    },
    {
     "name": "stdout",
     "output_type": "stream",
     "text": [
      "P3alphaRecommender: Similarity column 38121 (100.0%), 3151.91 column/sec. Elapsed time 12.09 sec\n",
      "EvaluatorHoldout: Processed 35572 (100.0%) in 12.74 sec. Users per second: 2792\n"
     ]
    },
    {
     "name": "stderr",
     "output_type": "stream",
     "text": [
      "[I 2024-12-09 07:42:54,636] Trial 6 finished with value: 0.04013628295127614 and parameters: {'topK': 332, 'alpha': 0.3871590339310712}. Best is trial 5 with value: 0.05219341969517508.\n"
     ]
    },
    {
     "name": "stdout",
     "output_type": "stream",
     "text": [
      "P3alphaRecommender: Similarity column 38121 (100.0%), 3411.30 column/sec. Elapsed time 11.17 sec\n",
      "EvaluatorHoldout: Processed 35572 (100.0%) in 12.09 sec. Users per second: 2943\n"
     ]
    },
    {
     "name": "stderr",
     "output_type": "stream",
     "text": [
      "[I 2024-12-09 07:43:20,964] Trial 7 finished with value: 0.04119454796799164 and parameters: {'topK': 271, 'alpha': 0.37892971183884794}. Best is trial 5 with value: 0.05219341969517508.\n"
     ]
    },
    {
     "name": "stdout",
     "output_type": "stream",
     "text": [
      "P3alphaRecommender: Similarity column 38121 (100.0%), 4893.18 column/sec. Elapsed time 7.79 sec\n",
      "EvaluatorHoldout: Processed 35572 (100.0%) in 8.75 sec. Users per second: 4067\n"
     ]
    },
    {
     "name": "stderr",
     "output_type": "stream",
     "text": [
      "[I 2024-12-09 07:43:37,959] Trial 8 finished with value: 0.052404819690534364 and parameters: {'topK': 31, 'alpha': 0.3881335921581344}. Best is trial 8 with value: 0.052404819690534364.\n"
     ]
    },
    {
     "name": "stdout",
     "output_type": "stream",
     "text": [
      "P3alphaRecommender: Similarity column 38121 (100.0%), 3966.03 column/sec. Elapsed time 9.61 sec\n",
      "EvaluatorHoldout: Processed 35572 (100.0%) in 10.58 sec. Users per second: 3363\n"
     ]
    },
    {
     "name": "stderr",
     "output_type": "stream",
     "text": [
      "[I 2024-12-09 07:43:59,935] Trial 9 finished with value: 0.044697913152665 and parameters: {'topK': 159, 'alpha': 0.37266501396639456}. Best is trial 8 with value: 0.052404819690534364.\n"
     ]
    },
    {
     "name": "stdout",
     "output_type": "stream",
     "text": [
      "P3alphaRecommender: Similarity column 38121 (100.0%), 4179.12 column/sec. Elapsed time 9.12 sec\n",
      "EvaluatorHoldout: Processed 35572 (100.0%) in 10.15 sec. Users per second: 3506\n"
     ]
    },
    {
     "name": "stderr",
     "output_type": "stream",
     "text": [
      "[I 2024-12-09 07:44:20,601] Trial 10 finished with value: 0.04627881814482047 and parameters: {'topK': 123, 'alpha': 0.35280388598605666}. Best is trial 8 with value: 0.052404819690534364.\n"
     ]
    },
    {
     "name": "stdout",
     "output_type": "stream",
     "text": [
      "P3alphaRecommender: Similarity column 38121 (100.0%), 5131.07 column/sec. Elapsed time 7.43 sec\n",
      "EvaluatorHoldout: Processed 35572 (100.0%) in 8.22 sec. Users per second: 4326\n"
     ]
    },
    {
     "name": "stderr",
     "output_type": "stream",
     "text": [
      "[I 2024-12-09 07:44:36,496] Trial 11 finished with value: 0.050201387884887184 and parameters: {'topK': 5, 'alpha': 0.3662087648983572}. Best is trial 8 with value: 0.052404819690534364.\n"
     ]
    },
    {
     "name": "stdout",
     "output_type": "stream",
     "text": [
      "P3alphaRecommender: Similarity column 38121 (100.0%), 2942.33 column/sec. Elapsed time 12.96 sec\n",
      "EvaluatorHoldout: Processed 35572 (100.0%) in 13.43 sec. Users per second: 2648\n"
     ]
    },
    {
     "name": "stderr",
     "output_type": "stream",
     "text": [
      "[I 2024-12-09 07:45:07,541] Trial 12 finished with value: 0.03888888219555451 and parameters: {'topK': 398, 'alpha': 0.3551810999946966}. Best is trial 8 with value: 0.052404819690534364.\n"
     ]
    },
    {
     "name": "stdout",
     "output_type": "stream",
     "text": [
      "P3alphaRecommender: Similarity column 38121 (100.0%), 5131.23 column/sec. Elapsed time 7.43 sec\n",
      "EvaluatorHoldout: Processed 35572 (100.0%) in 8.24 sec. Users per second: 4315\n"
     ]
    },
    {
     "name": "stderr",
     "output_type": "stream",
     "text": [
      "[I 2024-12-09 07:45:23,454] Trial 13 finished with value: 0.05021146692868661 and parameters: {'topK': 5, 'alpha': 0.3684450416823514}. Best is trial 8 with value: 0.052404819690534364.\n"
     ]
    },
    {
     "name": "stdout",
     "output_type": "stream",
     "text": [
      "P3alphaRecommender: Similarity column 38121 (100.0%), 4458.24 column/sec. Elapsed time 8.55 sec\n",
      "EvaluatorHoldout: Processed 35572 (100.0%) in 9.55 sec. Users per second: 3725\n"
     ]
    },
    {
     "name": "stderr",
     "output_type": "stream",
     "text": [
      "[I 2024-12-09 07:45:42,536] Trial 14 finished with value: 0.0485313600495466 and parameters: {'topK': 83, 'alpha': 0.3823594867957717}. Best is trial 8 with value: 0.052404819690534364.\n"
     ]
    },
    {
     "name": "stdout",
     "output_type": "stream",
     "text": [
      "P3alphaRecommender: Similarity column 38121 (100.0%), 3660.80 column/sec. Elapsed time 10.41 sec\n",
      "EvaluatorHoldout: Processed 35572 (100.0%) in 11.29 sec. Users per second: 3150\n"
     ]
    },
    {
     "name": "stderr",
     "output_type": "stream",
     "text": [
      "[I 2024-12-09 07:46:06,622] Trial 15 finished with value: 0.04274628899312476 and parameters: {'topK': 214, 'alpha': 0.3588514368484363}. Best is trial 8 with value: 0.052404819690534364.\n"
     ]
    },
    {
     "name": "stdout",
     "output_type": "stream",
     "text": [
      "P3alphaRecommender: Similarity column 38121 (100.0%), 3970.90 column/sec. Elapsed time 9.60 sec\n",
      "EvaluatorHoldout: Processed 35572 (100.0%) in 10.58 sec. Users per second: 3363\n"
     ]
    },
    {
     "name": "stderr",
     "output_type": "stream",
     "text": [
      "[I 2024-12-09 07:46:28,578] Trial 16 finished with value: 0.044721659982256246 and parameters: {'topK': 158, 'alpha': 0.3705585138267039}. Best is trial 8 with value: 0.052404819690534364.\n"
     ]
    },
    {
     "name": "stdout",
     "output_type": "stream",
     "text": [
      "P3alphaRecommender: Similarity column 38121 (100.0%), 4596.09 column/sec. Elapsed time 8.29 sec\n",
      "EvaluatorHoldout: Processed 35572 (100.0%) in 9.25 sec. Users per second: 3844\n"
     ]
    },
    {
     "name": "stderr",
     "output_type": "stream",
     "text": [
      "[I 2024-12-09 07:46:46,898] Trial 17 finished with value: 0.049649590635757745 and parameters: {'topK': 64, 'alpha': 0.3644837752240155}. Best is trial 8 with value: 0.052404819690534364.\n"
     ]
    },
    {
     "name": "stdout",
     "output_type": "stream",
     "text": [
      "P3alphaRecommender: Similarity column 38121 (100.0%), 5081.53 column/sec. Elapsed time 7.50 sec\n",
      "EvaluatorHoldout: Processed 35572 (100.0%) in 8.24 sec. Users per second: 4319\n"
     ]
    },
    {
     "name": "stderr",
     "output_type": "stream",
     "text": [
      "[I 2024-12-09 07:47:02,869] Trial 18 finished with value: 0.04773497949162606 and parameters: {'topK': 4, 'alpha': 0.3884026348068206}. Best is trial 8 with value: 0.052404819690534364.\n"
     ]
    },
    {
     "name": "stdout",
     "output_type": "stream",
     "text": [
      "P3alphaRecommender: Similarity column 38121 (100.0%), 4226.94 column/sec. Elapsed time 9.02 sec\n",
      "EvaluatorHoldout: Processed 35572 (100.0%) in 9.94 sec. Users per second: 3577\n"
     ]
    },
    {
     "name": "stderr",
     "output_type": "stream",
     "text": [
      "[I 2024-12-09 07:47:23,129] Trial 19 finished with value: 0.04703244057658873 and parameters: {'topK': 111, 'alpha': 0.37997946790322396}. Best is trial 8 with value: 0.052404819690534364.\n"
     ]
    },
    {
     "name": "stdout",
     "output_type": "stream",
     "text": [
      "P3alphaRecommender: Similarity column 38121 (100.0%), 3898.50 column/sec. Elapsed time 9.78 sec\n",
      "EvaluatorHoldout: Processed 35572 (100.0%) in 10.76 sec. Users per second: 3306\n"
     ]
    },
    {
     "name": "stderr",
     "output_type": "stream",
     "text": [
      "[I 2024-12-09 07:47:45,620] Trial 20 finished with value: 0.04416865347098202 and parameters: {'topK': 172, 'alpha': 0.3584365096675021}. Best is trial 8 with value: 0.052404819690534364.\n"
     ]
    },
    {
     "name": "stdout",
     "output_type": "stream",
     "text": [
      "P3alphaRecommender: Similarity column 38121 (100.0%), 4740.11 column/sec. Elapsed time 8.04 sec\n",
      "EvaluatorHoldout: Processed 35572 (100.0%) in 8.94 sec. Users per second: 3979\n"
     ]
    },
    {
     "name": "stderr",
     "output_type": "stream",
     "text": [
      "[I 2024-12-09 07:48:03,211] Trial 21 finished with value: 0.050937633308878405 and parameters: {'topK': 46, 'alpha': 0.3759270159648745}. Best is trial 8 with value: 0.052404819690534364.\n"
     ]
    },
    {
     "name": "stdout",
     "output_type": "stream",
     "text": [
      "P3alphaRecommender: Similarity column 38121 (100.0%), 4682.23 column/sec. Elapsed time 8.14 sec\n",
      "EvaluatorHoldout: Processed 35572 (100.0%) in 9.01 sec. Users per second: 3948\n"
     ]
    },
    {
     "name": "stderr",
     "output_type": "stream",
     "text": [
      "[I 2024-12-09 07:48:20,986] Trial 22 finished with value: 0.05068170703192451 and parameters: {'topK': 48, 'alpha': 0.37430455564072757}. Best is trial 8 with value: 0.052404819690534364.\n"
     ]
    },
    {
     "name": "stdout",
     "output_type": "stream",
     "text": [
      "P3alphaRecommender: Similarity column 38121 (100.0%), 4463.47 column/sec. Elapsed time 8.54 sec\n",
      "EvaluatorHoldout: Processed 35572 (100.0%) in 9.53 sec. Users per second: 3733\n"
     ]
    },
    {
     "name": "stderr",
     "output_type": "stream",
     "text": [
      "[I 2024-12-09 07:48:40,036] Trial 23 finished with value: 0.04853041182738512 and parameters: {'topK': 83, 'alpha': 0.38993611691262364}. Best is trial 8 with value: 0.052404819690534364.\n"
     ]
    },
    {
     "name": "stdout",
     "output_type": "stream",
     "text": [
      "P3alphaRecommender: Similarity column 38121 (100.0%), 4883.06 column/sec. Elapsed time 7.81 sec\n",
      "EvaluatorHoldout: Processed 35572 (100.0%) in 8.73 sec. Users per second: 4073\n"
     ]
    },
    {
     "name": "stderr",
     "output_type": "stream",
     "text": [
      "[I 2024-12-09 07:48:57,050] Trial 24 finished with value: 0.05222206604445275 and parameters: {'topK': 32, 'alpha': 0.3824736998969662}. Best is trial 8 with value: 0.052404819690534364.\n"
     ]
    },
    {
     "name": "stdout",
     "output_type": "stream",
     "text": [
      "P3alphaRecommender: Similarity column 38121 (100.0%), 4869.97 column/sec. Elapsed time 7.83 sec\n",
      "EvaluatorHoldout: Processed 35572 (100.0%) in 8.74 sec. Users per second: 4068\n"
     ]
    },
    {
     "name": "stderr",
     "output_type": "stream",
     "text": [
      "[I 2024-12-09 07:49:14,095] Trial 25 finished with value: 0.05222148930226748 and parameters: {'topK': 32, 'alpha': 0.38399513759498927}. Best is trial 8 with value: 0.052404819690534364.\n"
     ]
    },
    {
     "name": "stdout",
     "output_type": "stream",
     "text": [
      "P3alphaRecommender: Similarity column 38121 (100.0%), 4244.10 column/sec. Elapsed time 8.98 sec\n",
      "EvaluatorHoldout: Processed 35572 (100.0%) in 9.95 sec. Users per second: 3575\n"
     ]
    },
    {
     "name": "stderr",
     "output_type": "stream",
     "text": [
      "[I 2024-12-09 07:49:34,331] Trial 26 finished with value: 0.047054486184066754 and parameters: {'topK': 111, 'alpha': 0.3844199416074817}. Best is trial 8 with value: 0.052404819690534364.\n"
     ]
    },
    {
     "name": "stdout",
     "output_type": "stream",
     "text": [
      "P3alphaRecommender: Similarity column 38121 (100.0%), 4430.77 column/sec. Elapsed time 8.60 sec\n",
      "EvaluatorHoldout: Processed 35572 (100.0%) in 9.49 sec. Users per second: 3749\n"
     ]
    },
    {
     "name": "stderr",
     "output_type": "stream",
     "text": [
      "[I 2024-12-09 07:49:53,354] Trial 27 finished with value: 0.048741303129443546 and parameters: {'topK': 79, 'alpha': 0.38169560164730776}. Best is trial 8 with value: 0.052404819690534364.\n"
     ]
    },
    {
     "name": "stdout",
     "output_type": "stream",
     "text": [
      "P3alphaRecommender: Similarity column 38121 (100.0%), 4957.68 column/sec. Elapsed time 7.69 sec\n",
      "EvaluatorHoldout: Processed 35572 (100.0%) in 8.59 sec. Users per second: 4143\n"
     ]
    },
    {
     "name": "stderr",
     "output_type": "stream",
     "text": [
      "[I 2024-12-09 07:50:10,027] Trial 28 finished with value: 0.053344061630422955 and parameters: {'topK': 23, 'alpha': 0.3854529644398552}. Best is trial 28 with value: 0.053344061630422955.\n"
     ]
    },
    {
     "name": "stdout",
     "output_type": "stream",
     "text": [
      "P3alphaRecommender: Similarity column 38121 (100.0%), 3572.61 column/sec. Elapsed time 10.67 sec\n",
      "EvaluatorHoldout: Processed 35572 (100.0%) in 11.58 sec. Users per second: 3071\n"
     ]
    },
    {
     "name": "stderr",
     "output_type": "stream",
     "text": [
      "[I 2024-12-09 07:50:34,918] Trial 29 finished with value: 0.04224796701168397 and parameters: {'topK': 234, 'alpha': 0.38695666502892706}. Best is trial 28 with value: 0.053344061630422955.\n"
     ]
    },
    {
     "name": "stdout",
     "output_type": "stream",
     "text": [
      "P3alphaRecommender: Similarity column 38121 (100.0%), 4030.12 column/sec. Elapsed time 9.46 sec\n",
      "EvaluatorHoldout: Processed 35572 (100.0%) in 10.41 sec. Users per second: 3418\n"
     ]
    },
    {
     "name": "stderr",
     "output_type": "stream",
     "text": [
      "[I 2024-12-09 07:50:56,376] Trial 30 finished with value: 0.04548748547546564 and parameters: {'topK': 141, 'alpha': 0.3774265766432888}. Best is trial 28 with value: 0.053344061630422955.\n"
     ]
    },
    {
     "name": "stdout",
     "output_type": "stream",
     "text": [
      "P3alphaRecommender: Similarity column 38121 (100.0%), 4964.60 column/sec. Elapsed time 7.68 sec\n",
      "EvaluatorHoldout: Processed 35572 (100.0%) in 8.60 sec. Users per second: 4136\n"
     ]
    },
    {
     "name": "stderr",
     "output_type": "stream",
     "text": [
      "[I 2024-12-09 07:51:13,042] Trial 31 finished with value: 0.053392171076232606 and parameters: {'topK': 22, 'alpha': 0.38445274242968513}. Best is trial 31 with value: 0.053392171076232606.\n"
     ]
    },
    {
     "name": "stdout",
     "output_type": "stream",
     "text": [
      "P3alphaRecommender: Similarity column 38121 (100.0%), 4900.40 column/sec. Elapsed time 7.78 sec\n",
      "EvaluatorHoldout: Processed 35572 (100.0%) in 8.68 sec. Users per second: 4096\n"
     ]
    },
    {
     "name": "stderr",
     "output_type": "stream",
     "text": [
      "[I 2024-12-09 07:51:29,952] Trial 32 finished with value: 0.05257252895535644 and parameters: {'topK': 29, 'alpha': 0.38692740333198183}. Best is trial 31 with value: 0.053392171076232606.\n"
     ]
    },
    {
     "name": "stdout",
     "output_type": "stream",
     "text": [
      "P3alphaRecommender: Similarity column 38121 (100.0%), 4580.76 column/sec. Elapsed time 8.32 sec\n",
      "EvaluatorHoldout: Processed 35572 (100.0%) in 9.24 sec. Users per second: 3852\n"
     ]
    },
    {
     "name": "stderr",
     "output_type": "stream",
     "text": [
      "[I 2024-12-09 07:51:48,293] Trial 33 finished with value: 0.049654048395472355 and parameters: {'topK': 64, 'alpha': 0.38572201296300124}. Best is trial 31 with value: 0.053392171076232606.\n"
     ]
    },
    {
     "name": "stdout",
     "output_type": "stream",
     "text": [
      "P3alphaRecommender: Similarity column 38121 (100.0%), 4347.01 column/sec. Elapsed time 8.77 sec\n",
      "EvaluatorHoldout: Processed 35572 (100.0%) in 9.71 sec. Users per second: 3665\n"
     ]
    },
    {
     "name": "stderr",
     "output_type": "stream",
     "text": [
      "[I 2024-12-09 07:52:07,841] Trial 34 finished with value: 0.047981279640307434 and parameters: {'topK': 92, 'alpha': 0.38851808672963256}. Best is trial 31 with value: 0.053392171076232606.\n"
     ]
    },
    {
     "name": "stdout",
     "output_type": "stream",
     "text": [
      "P3alphaRecommender: Similarity column 38121 (100.0%), 4897.13 column/sec. Elapsed time 7.78 sec\n",
      "EvaluatorHoldout: Processed 35572 (100.0%) in 8.72 sec. Users per second: 4081\n"
     ]
    },
    {
     "name": "stderr",
     "output_type": "stream",
     "text": [
      "[I 2024-12-09 07:52:24,794] Trial 35 finished with value: 0.0525362443976787 and parameters: {'topK': 30, 'alpha': 0.3803981126573718}. Best is trial 31 with value: 0.053392171076232606.\n"
     ]
    },
    {
     "name": "stdout",
     "output_type": "stream",
     "text": [
      "P3alphaRecommender: Similarity column 38121 (100.0%), 4976.04 column/sec. Elapsed time 7.66 sec\n",
      "EvaluatorHoldout: Processed 35572 (100.0%) in 8.56 sec. Users per second: 4153\n"
     ]
    },
    {
     "name": "stderr",
     "output_type": "stream",
     "text": [
      "[I 2024-12-09 07:52:41,395] Trial 36 finished with value: 0.05356643311396872 and parameters: {'topK': 21, 'alpha': 0.3800323146309985}. Best is trial 36 with value: 0.05356643311396872.\n"
     ]
    },
    {
     "name": "stdout",
     "output_type": "stream",
     "text": [
      "P3alphaRecommender: Similarity column 38121 (100.0%), 4623.86 column/sec. Elapsed time 8.24 sec\n",
      "EvaluatorHoldout: Processed 35572 (100.0%) in 9.20 sec. Users per second: 3866\n"
     ]
    },
    {
     "name": "stderr",
     "output_type": "stream",
     "text": [
      "[I 2024-12-09 07:52:59,573] Trial 37 finished with value: 0.049959191864832116 and parameters: {'topK': 59, 'alpha': 0.3850436546511552}. Best is trial 36 with value: 0.05356643311396872.\n"
     ]
    },
    {
     "name": "stdout",
     "output_type": "stream",
     "text": [
      "P3alphaRecommender: Similarity column 38121 (100.0%), 4999.86 column/sec. Elapsed time 7.62 sec\n",
      "EvaluatorHoldout: Processed 35572 (100.0%) in 8.49 sec. Users per second: 4191\n"
     ]
    },
    {
     "name": "stderr",
     "output_type": "stream",
     "text": [
      "[I 2024-12-09 07:53:16,026] Trial 38 finished with value: 0.05396276989749207 and parameters: {'topK': 17, 'alpha': 0.3769438008573302}. Best is trial 38 with value: 0.05396276989749207.\n"
     ]
    },
    {
     "name": "stdout",
     "output_type": "stream",
     "text": [
      "P3alphaRecommender: Similarity column 38121 (100.0%), 5104.45 column/sec. Elapsed time 7.47 sec\n",
      "EvaluatorHoldout: Processed 35572 (100.0%) in 8.28 sec. Users per second: 4295\n"
     ]
    },
    {
     "name": "stderr",
     "output_type": "stream",
     "text": [
      "[I 2024-12-09 07:53:32,016] Trial 39 finished with value: 0.05017148318902338 and parameters: {'topK': 5, 'alpha': 0.3771510185317727}. Best is trial 38 with value: 0.05396276989749207.\n"
     ]
    },
    {
     "name": "stdout",
     "output_type": "stream",
     "text": [
      "P3alphaRecommender: Similarity column 38121 (100.0%), 3165.09 column/sec. Elapsed time 12.04 sec\n",
      "EvaluatorHoldout: Processed 35572 (100.0%) in 12.67 sec. Users per second: 2807\n"
     ]
    },
    {
     "name": "stderr",
     "output_type": "stream",
     "text": [
      "[I 2024-12-09 07:54:00,454] Trial 40 finished with value: 0.04022591225665103 and parameters: {'topK': 326, 'alpha': 0.3732321091874635}. Best is trial 38 with value: 0.05396276989749207.\n"
     ]
    },
    {
     "name": "stdout",
     "output_type": "stream",
     "text": [
      "P3alphaRecommender: Similarity column 38121 (100.0%), 4953.00 column/sec. Elapsed time 7.70 sec\n",
      "EvaluatorHoldout: Processed 35572 (100.0%) in 8.51 sec. Users per second: 4179\n"
     ]
    },
    {
     "name": "stderr",
     "output_type": "stream",
     "text": [
      "[I 2024-12-09 07:54:17,019] Trial 41 finished with value: 0.053797773663607315 and parameters: {'topK': 19, 'alpha': 0.37829223547693525}. Best is trial 38 with value: 0.05396276989749207.\n"
     ]
    },
    {
     "name": "stdout",
     "output_type": "stream",
     "text": [
      "P3alphaRecommender: Similarity column 38121 (100.0%), 4983.20 column/sec. Elapsed time 7.65 sec\n",
      "EvaluatorHoldout: Processed 35572 (100.0%) in 8.49 sec. Users per second: 4188\n"
     ]
    },
    {
     "name": "stderr",
     "output_type": "stream",
     "text": [
      "[I 2024-12-09 07:54:33,486] Trial 42 finished with value: 0.0540552561404618 and parameters: {'topK': 15, 'alpha': 0.37801474477001434}. Best is trial 42 with value: 0.0540552561404618.\n"
     ]
    },
    {
     "name": "stdout",
     "output_type": "stream",
     "text": [
      "P3alphaRecommender: Similarity column 38121 (100.0%), 4675.77 column/sec. Elapsed time 8.15 sec\n",
      "EvaluatorHoldout: Processed 35572 (100.0%) in 9.01 sec. Users per second: 3949\n"
     ]
    },
    {
     "name": "stderr",
     "output_type": "stream",
     "text": [
      "[I 2024-12-09 07:54:51,264] Trial 43 finished with value: 0.050837174190863414 and parameters: {'topK': 47, 'alpha': 0.37840661044783963}. Best is trial 42 with value: 0.0540552561404618.\n"
     ]
    },
    {
     "name": "stdout",
     "output_type": "stream",
     "text": [
      "P3alphaRecommender: Similarity column 38121 (100.0%), 4963.01 column/sec. Elapsed time 7.68 sec\n",
      "EvaluatorHoldout: Processed 35572 (100.0%) in 8.53 sec. Users per second: 4173\n"
     ]
    },
    {
     "name": "stderr",
     "output_type": "stream",
     "text": [
      "[I 2024-12-09 07:55:07,821] Trial 44 finished with value: 0.05391866641142576 and parameters: {'topK': 18, 'alpha': 0.37124737114177636}. Best is trial 42 with value: 0.0540552561404618.\n"
     ]
    },
    {
     "name": "stdout",
     "output_type": "stream",
     "text": [
      "P3alphaRecommender: Similarity column 38121 (100.0%), 4553.24 column/sec. Elapsed time 8.37 sec\n",
      "EvaluatorHoldout: Processed 35572 (100.0%) in 9.30 sec. Users per second: 3825\n"
     ]
    },
    {
     "name": "stderr",
     "output_type": "stream",
     "text": [
      "[I 2024-12-09 07:55:26,298] Trial 45 finished with value: 0.049401232287208385 and parameters: {'topK': 67, 'alpha': 0.3710525890298191}. Best is trial 42 with value: 0.0540552561404618.\n"
     ]
    },
    {
     "name": "stdout",
     "output_type": "stream",
     "text": [
      "P3alphaRecommender: Similarity column 38121 (100.0%), 2419.30 column/sec. Elapsed time 15.76 sec\n",
      "EvaluatorHoldout: Processed 35572 (100.0%) in 8.15 sec. Users per second: 4362\n"
     ]
    },
    {
     "name": "stderr",
     "output_type": "stream",
     "text": [
      "[I 2024-12-09 07:55:50,429] Trial 46 finished with value: 0.036967434927416186 and parameters: {'topK': 2, 'alpha': 0.3679698106760591}. Best is trial 42 with value: 0.0540552561404618.\n"
     ]
    },
    {
     "name": "stdout",
     "output_type": "stream",
     "text": [
      "P3alphaRecommender: Similarity column 38121 (100.0%), 4713.75 column/sec. Elapsed time 8.09 sec\n",
      "EvaluatorHoldout: Processed 35572 (100.0%) in 8.96 sec. Users per second: 3972\n"
     ]
    },
    {
     "name": "stderr",
     "output_type": "stream",
     "text": [
      "[I 2024-12-09 07:56:08,067] Trial 47 finished with value: 0.05093661480672137 and parameters: {'topK': 46, 'alpha': 0.37578182950290256}. Best is trial 42 with value: 0.0540552561404618.\n"
     ]
    },
    {
     "name": "stdout",
     "output_type": "stream",
     "text": [
      "P3alphaRecommender: Similarity column 38121 (100.0%), 4297.46 column/sec. Elapsed time 8.87 sec\n",
      "EvaluatorHoldout: Processed 35572 (100.0%) in 9.86 sec. Users per second: 3606\n"
     ]
    },
    {
     "name": "stderr",
     "output_type": "stream",
     "text": [
      "[I 2024-12-09 07:56:27,991] Trial 48 finished with value: 0.04730171559046617 and parameters: {'topK': 105, 'alpha': 0.37167240248004174}. Best is trial 42 with value: 0.0540552561404618.\n"
     ]
    },
    {
     "name": "stdout",
     "output_type": "stream",
     "text": [
      "P3alphaRecommender: Similarity column 38121 (100.0%), 4148.67 column/sec. Elapsed time 9.19 sec\n",
      "EvaluatorHoldout: Processed 35572 (100.0%) in 10.25 sec. Users per second: 3471\n"
     ]
    },
    {
     "name": "stderr",
     "output_type": "stream",
     "text": [
      "[I 2024-12-09 07:56:48,866] Trial 49 finished with value: 0.046052045794889376 and parameters: {'topK': 130, 'alpha': 0.37427822191619753}. Best is trial 42 with value: 0.0540552561404618.\n"
     ]
    },
    {
     "name": "stdout",
     "output_type": "stream",
     "text": [
      "P3alphaRecommender: Similarity column 38121 (100.0%), 3011.80 column/sec. Elapsed time 12.66 sec\n",
      "EvaluatorHoldout: Processed 35572 (100.0%) in 13.23 sec. Users per second: 2688\n"
     ]
    },
    {
     "name": "stderr",
     "output_type": "stream",
     "text": [
      "[I 2024-12-09 07:57:19,032] Trial 50 finished with value: 0.039340922011068404 and parameters: {'topK': 374, 'alpha': 0.3793756718865513}. Best is trial 42 with value: 0.0540552561404618.\n"
     ]
    },
    {
     "name": "stdout",
     "output_type": "stream",
     "text": [
      "P3alphaRecommender: Similarity column 38121 (100.0%), 4934.41 column/sec. Elapsed time 7.73 sec\n",
      "EvaluatorHoldout: Processed 35572 (100.0%) in 8.52 sec. Users per second: 4174\n"
     ]
    },
    {
     "name": "stderr",
     "output_type": "stream",
     "text": [
      "[I 2024-12-09 07:57:35,644] Trial 51 finished with value: 0.05377941385144902 and parameters: {'topK': 19, 'alpha': 0.3806167171083347}. Best is trial 42 with value: 0.0540552561404618.\n"
     ]
    },
    {
     "name": "stdout",
     "output_type": "stream",
     "text": [
      "P3alphaRecommender: Similarity column 38121 (100.0%), 4937.53 column/sec. Elapsed time 7.72 sec\n",
      "EvaluatorHoldout: Processed 35572 (100.0%) in 8.48 sec. Users per second: 4196\n"
     ]
    },
    {
     "name": "stderr",
     "output_type": "stream",
     "text": [
      "[I 2024-12-09 07:57:52,178] Trial 52 finished with value: 0.0539196592558066 and parameters: {'topK': 16, 'alpha': 0.38075344267003214}. Best is trial 42 with value: 0.0540552561404618.\n"
     ]
    },
    {
     "name": "stdout",
     "output_type": "stream",
     "text": [
      "P3alphaRecommender: Similarity column 38121 (100.0%), 4968.03 column/sec. Elapsed time 7.67 sec\n",
      "EvaluatorHoldout: Processed 35572 (100.0%) in 8.54 sec. Users per second: 4167\n"
     ]
    },
    {
     "name": "stderr",
     "output_type": "stream",
     "text": [
      "[I 2024-12-09 07:58:08,740] Trial 53 finished with value: 0.05395291061812297 and parameters: {'topK': 18, 'alpha': 0.37713423678452485}. Best is trial 42 with value: 0.0540552561404618.\n"
     ]
    },
    {
     "name": "stdout",
     "output_type": "stream",
     "text": [
      "P3alphaRecommender: Similarity column 38121 (100.0%), 3453.16 column/sec. Elapsed time 11.04 sec\n",
      "EvaluatorHoldout: Processed 35572 (100.0%) in 11.92 sec. Users per second: 2984\n"
     ]
    },
    {
     "name": "stderr",
     "output_type": "stream",
     "text": [
      "[I 2024-12-09 07:58:34,631] Trial 54 finished with value: 0.04140199331915954 and parameters: {'topK': 264, 'alpha': 0.37745383545354505}. Best is trial 42 with value: 0.0540552561404618.\n"
     ]
    },
    {
     "name": "stdout",
     "output_type": "stream",
     "text": [
      "P3alphaRecommender: Similarity column 38121 (100.0%), 4733.07 column/sec. Elapsed time 8.05 sec\n",
      "EvaluatorHoldout: Processed 35572 (100.0%) in 8.90 sec. Users per second: 3999\n"
     ]
    },
    {
     "name": "stderr",
     "output_type": "stream",
     "text": [
      "[I 2024-12-09 07:58:52,153] Trial 55 finished with value: 0.051179625182280114 and parameters: {'topK': 43, 'alpha': 0.37264583864203077}. Best is trial 42 with value: 0.0540552561404618.\n"
     ]
    },
    {
     "name": "stdout",
     "output_type": "stream",
     "text": [
      "P3alphaRecommender: Similarity column 38121 (100.0%), 4523.16 column/sec. Elapsed time 8.43 sec\n",
      "EvaluatorHoldout: Processed 35572 (100.0%) in 9.41 sec. Users per second: 3781\n"
     ]
    },
    {
     "name": "stderr",
     "output_type": "stream",
     "text": [
      "[I 2024-12-09 07:59:10,864] Trial 56 finished with value: 0.04894324990763033 and parameters: {'topK': 74, 'alpha': 0.37609499405368235}. Best is trial 42 with value: 0.0540552561404618.\n"
     ]
    },
    {
     "name": "stdout",
     "output_type": "stream",
     "text": [
      "P3alphaRecommender: Similarity column 38121 (100.0%), 4999.97 column/sec. Elapsed time 7.62 sec\n",
      "EvaluatorHoldout: Processed 35572 (100.0%) in 8.46 sec. Users per second: 4204\n"
     ]
    },
    {
     "name": "stderr",
     "output_type": "stream",
     "text": [
      "[I 2024-12-09 07:59:27,276] Trial 57 finished with value: 0.05406111169119814 and parameters: {'topK': 15, 'alpha': 0.3825034565252322}. Best is trial 57 with value: 0.05406111169119814.\n"
     ]
    },
    {
     "name": "stdout",
     "output_type": "stream",
     "text": [
      "P3alphaRecommender: Similarity column 38121 (100.0%), 5055.35 column/sec. Elapsed time 7.54 sec\n",
      "EvaluatorHoldout: Processed 35572 (100.0%) in 8.39 sec. Users per second: 4240\n"
     ]
    },
    {
     "name": "stderr",
     "output_type": "stream",
     "text": [
      "[I 2024-12-09 07:59:43,508] Trial 58 finished with value: 0.05416216428473075 and parameters: {'topK': 12, 'alpha': 0.3823133331698621}. Best is trial 58 with value: 0.05416216428473075.\n"
     ]
    },
    {
     "name": "stdout",
     "output_type": "stream",
     "text": [
      "P3alphaRecommender: Similarity column 38121 (100.0%), 4710.90 column/sec. Elapsed time 8.09 sec\n",
      "EvaluatorHoldout: Processed 35572 (100.0%) in 9.08 sec. Users per second: 3916\n"
     ]
    },
    {
     "name": "stderr",
     "output_type": "stream",
     "text": [
      "[I 2024-12-09 08:00:01,364] Trial 59 finished with value: 0.05032865603229752 and parameters: {'topK': 53, 'alpha': 0.38290337532459084}. Best is trial 58 with value: 0.05416216428473075.\n"
     ]
    },
    {
     "name": "stdout",
     "output_type": "stream",
     "text": [
      "P3alphaRecommender: Similarity column 38121 (100.0%), 4360.45 column/sec. Elapsed time 8.74 sec\n",
      "EvaluatorHoldout: Processed 35572 (100.0%) in 9.71 sec. Users per second: 3663\n"
     ]
    },
    {
     "name": "stderr",
     "output_type": "stream",
     "text": [
      "[I 2024-12-09 08:00:20,882] Trial 60 finished with value: 0.0479140852712745 and parameters: {'topK': 93, 'alpha': 0.3812311673116907}. Best is trial 58 with value: 0.05416216428473075.\n"
     ]
    },
    {
     "name": "stdout",
     "output_type": "stream",
     "text": [
      "P3alphaRecommender: Similarity column 38121 (100.0%), 4961.44 column/sec. Elapsed time 7.68 sec\n",
      "EvaluatorHoldout: Processed 35572 (100.0%) in 8.43 sec. Users per second: 4222\n"
     ]
    },
    {
     "name": "stderr",
     "output_type": "stream",
     "text": [
      "[I 2024-12-09 08:00:37,304] Trial 61 finished with value: 0.054112652585677365 and parameters: {'topK': 13, 'alpha': 0.38269443617694476}. Best is trial 58 with value: 0.05416216428473075.\n"
     ]
    },
    {
     "name": "stdout",
     "output_type": "stream",
     "text": [
      "P3alphaRecommender: Similarity column 38121 (100.0%), 5066.52 column/sec. Elapsed time 7.52 sec\n",
      "EvaluatorHoldout: Processed 35572 (100.0%) in 8.39 sec. Users per second: 4240\n"
     ]
    },
    {
     "name": "stderr",
     "output_type": "stream",
     "text": [
      "[I 2024-12-09 08:00:53,516] Trial 62 finished with value: 0.054025276702380366 and parameters: {'topK': 11, 'alpha': 0.3828298601269544}. Best is trial 58 with value: 0.05416216428473075.\n"
     ]
    },
    {
     "name": "stdout",
     "output_type": "stream",
     "text": [
      "P3alphaRecommender: Similarity column 38121 (100.0%), 4812.64 column/sec. Elapsed time 7.92 sec\n",
      "EvaluatorHoldout: Processed 35572 (100.0%) in 8.84 sec. Users per second: 4024\n"
     ]
    },
    {
     "name": "stderr",
     "output_type": "stream",
     "text": [
      "[I 2024-12-09 08:01:10,804] Trial 63 finished with value: 0.05162442838936793 and parameters: {'topK': 38, 'alpha': 0.3834598400454978}. Best is trial 58 with value: 0.05416216428473075.\n"
     ]
    },
    {
     "name": "stdout",
     "output_type": "stream",
     "text": [
      "P3alphaRecommender: Similarity column 38121 (100.0%), 1701.78 column/sec. Elapsed time 22.40 sec\n",
      "EvaluatorHoldout: Processed 35572 (100.0%) in 8.23 sec. Users per second: 4323\n"
     ]
    },
    {
     "name": "stderr",
     "output_type": "stream",
     "text": [
      "[I 2024-12-09 08:01:41,660] Trial 64 finished with value: 0.04375054550663009 and parameters: {'topK': 3, 'alpha': 0.3821071225033747}. Best is trial 58 with value: 0.05416216428473075.\n"
     ]
    },
    {
     "name": "stdout",
     "output_type": "stream",
     "text": [
      "P3alphaRecommender: Similarity column 38121 (100.0%), 5068.35 column/sec. Elapsed time 7.52 sec\n",
      "EvaluatorHoldout: Processed 35572 (100.0%) in 8.46 sec. Users per second: 4202\n"
     ]
    },
    {
     "name": "stderr",
     "output_type": "stream",
     "text": [
      "[I 2024-12-09 08:01:57,946] Trial 65 finished with value: 0.05405249737174926 and parameters: {'topK': 11, 'alpha': 0.37917406508748114}. Best is trial 58 with value: 0.05416216428473075.\n"
     ]
    },
    {
     "name": "stdout",
     "output_type": "stream",
     "text": [
      "P3alphaRecommender: Similarity column 38121 (100.0%), 4826.62 column/sec. Elapsed time 7.90 sec\n",
      "EvaluatorHoldout: Processed 35572 (100.0%) in 8.84 sec. Users per second: 4024\n"
     ]
    },
    {
     "name": "stderr",
     "output_type": "stream",
     "text": [
      "[I 2024-12-09 08:02:15,185] Trial 66 finished with value: 0.051963276136570764 and parameters: {'topK': 35, 'alpha': 0.3793225104266755}. Best is trial 58 with value: 0.05416216428473075.\n"
     ]
    },
    {
     "name": "stdout",
     "output_type": "stream",
     "text": [
      "P3alphaRecommender: Similarity column 38121 (100.0%), 4660.70 column/sec. Elapsed time 8.18 sec\n",
      "EvaluatorHoldout: Processed 35572 (100.0%) in 9.13 sec. Users per second: 3898\n"
     ]
    },
    {
     "name": "stderr",
     "output_type": "stream",
     "text": [
      "[I 2024-12-09 08:02:33,175] Trial 67 finished with value: 0.05022670653215563 and parameters: {'topK': 55, 'alpha': 0.3833931359108975}. Best is trial 58 with value: 0.05416216428473075.\n"
     ]
    },
    {
     "name": "stdout",
     "output_type": "stream",
     "text": [
      "P3alphaRecommender: Similarity column 38121 (100.0%), 5012.10 column/sec. Elapsed time 7.61 sec\n",
      "EvaluatorHoldout: Processed 35572 (100.0%) in 8.40 sec. Users per second: 4236\n"
     ]
    },
    {
     "name": "stderr",
     "output_type": "stream",
     "text": [
      "[I 2024-12-09 08:02:49,476] Trial 68 finished with value: 0.054062505019997764 and parameters: {'topK': 11, 'alpha': 0.3864827630108883}. Best is trial 58 with value: 0.05416216428473075.\n"
     ]
    },
    {
     "name": "stdout",
     "output_type": "stream",
     "text": [
      "P3alphaRecommender: Similarity column 38121 (100.0%), 3769.51 column/sec. Elapsed time 10.11 sec\n",
      "EvaluatorHoldout: Processed 35572 (100.0%) in 11.04 sec. Users per second: 3221\n"
     ]
    },
    {
     "name": "stderr",
     "output_type": "stream",
     "text": [
      "[I 2024-12-09 08:03:12,757] Trial 69 finished with value: 0.04358616171270601 and parameters: {'topK': 190, 'alpha': 0.3886351390601959}. Best is trial 58 with value: 0.05416216428473075.\n"
     ]
    },
    {
     "name": "stdout",
     "output_type": "stream",
     "text": [
      "P3alphaRecommender: Similarity column 38121 (100.0%), 5084.73 column/sec. Elapsed time 7.50 sec\n",
      "EvaluatorHoldout: Processed 35572 (100.0%) in 8.36 sec. Users per second: 4257\n"
     ]
    },
    {
     "name": "stderr",
     "output_type": "stream",
     "text": [
      "[I 2024-12-09 08:03:28,888] Trial 70 finished with value: 0.053675348142553474 and parameters: {'topK': 9, 'alpha': 0.38601139240266064}. Best is trial 58 with value: 0.05416216428473075.\n"
     ]
    },
    {
     "name": "stdout",
     "output_type": "stream",
     "text": [
      "P3alphaRecommender: Similarity column 38121 (100.0%), 4866.83 column/sec. Elapsed time 7.83 sec\n",
      "EvaluatorHoldout: Processed 35572 (100.0%) in 8.76 sec. Users per second: 4060\n"
     ]
    },
    {
     "name": "stderr",
     "output_type": "stream",
     "text": [
      "[I 2024-12-09 08:03:45,970] Trial 71 finished with value: 0.05208640445757951 and parameters: {'topK': 33, 'alpha': 0.38255306614518153}. Best is trial 58 with value: 0.05416216428473075.\n"
     ]
    },
    {
     "name": "stdout",
     "output_type": "stream",
     "text": [
      "P3alphaRecommender: Similarity column 38121 (100.0%), 5035.91 column/sec. Elapsed time 7.57 sec\n",
      "EvaluatorHoldout: Processed 35572 (100.0%) in 8.41 sec. Users per second: 4231\n"
     ]
    },
    {
     "name": "stderr",
     "output_type": "stream",
     "text": [
      "[I 2024-12-09 08:04:02,245] Trial 72 finished with value: 0.05406192270003503 and parameters: {'topK': 11, 'alpha': 0.3864379777137901}. Best is trial 58 with value: 0.05416216428473075.\n"
     ]
    },
    {
     "name": "stdout",
     "output_type": "stream",
     "text": [
      "P3alphaRecommender: Similarity column 38121 (100.0%), 4726.92 column/sec. Elapsed time 8.06 sec\n",
      "EvaluatorHoldout: Processed 35572 (100.0%) in 8.93 sec. Users per second: 3985\n"
     ]
    },
    {
     "name": "stderr",
     "output_type": "stream",
     "text": [
      "[I 2024-12-09 08:04:19,795] Trial 73 finished with value: 0.05135434125109811 and parameters: {'topK': 41, 'alpha': 0.3899054400745247}. Best is trial 58 with value: 0.05416216428473075.\n"
     ]
    },
    {
     "name": "stdout",
     "output_type": "stream",
     "text": [
      "P3alphaRecommender: Similarity column 38121 (100.0%), 2420.47 column/sec. Elapsed time 15.75 sec\n",
      "EvaluatorHoldout: Processed 35572 (100.0%) in 8.20 sec. Users per second: 4340\n"
     ]
    },
    {
     "name": "stderr",
     "output_type": "stream",
     "text": [
      "[I 2024-12-09 08:04:43,960] Trial 74 finished with value: 0.03684675078847329 and parameters: {'topK': 2, 'alpha': 0.38716700549045546}. Best is trial 58 with value: 0.05416216428473075.\n"
     ]
    },
    {
     "name": "stdout",
     "output_type": "stream",
     "text": [
      "P3alphaRecommender: Similarity column 38121 (100.0%), 4554.42 column/sec. Elapsed time 8.37 sec\n",
      "EvaluatorHoldout: Processed 35572 (100.0%) in 9.38 sec. Users per second: 3792\n"
     ]
    },
    {
     "name": "stderr",
     "output_type": "stream",
     "text": [
      "[I 2024-12-09 08:05:02,572] Trial 75 finished with value: 0.04917009923088966 and parameters: {'topK': 71, 'alpha': 0.3840392543436839}. Best is trial 58 with value: 0.05416216428473075.\n"
     ]
    },
    {
     "name": "stdout",
     "output_type": "stream",
     "text": [
      "P3alphaRecommender: Similarity column 38121 (100.0%), 5014.39 column/sec. Elapsed time 7.60 sec\n",
      "EvaluatorHoldout: Processed 35572 (100.0%) in 8.38 sec. Users per second: 4244\n"
     ]
    },
    {
     "name": "stderr",
     "output_type": "stream",
     "text": [
      "[I 2024-12-09 08:05:18,852] Trial 76 finished with value: 0.05408044426773832 and parameters: {'topK': 11, 'alpha': 0.3500167582578871}. Best is trial 58 with value: 0.05416216428473075.\n"
     ]
    },
    {
     "name": "stdout",
     "output_type": "stream",
     "text": [
      "P3alphaRecommender: Similarity column 38121 (100.0%), 4847.22 column/sec. Elapsed time 7.86 sec\n",
      "EvaluatorHoldout: Processed 35572 (100.0%) in 8.70 sec. Users per second: 4087\n"
     ]
    },
    {
     "name": "stderr",
     "output_type": "stream",
     "text": [
      "[I 2024-12-09 08:05:35,862] Trial 77 finished with value: 0.05272954785197382 and parameters: {'topK': 28, 'alpha': 0.3517270224972769}. Best is trial 58 with value: 0.05416216428473075.\n"
     ]
    },
    {
     "name": "stdout",
     "output_type": "stream",
     "text": [
      "P3alphaRecommender: Similarity column 38121 (100.0%), 4603.55 column/sec. Elapsed time 8.28 sec\n",
      "EvaluatorHoldout: Processed 35572 (100.0%) in 9.15 sec. Users per second: 3889\n"
     ]
    },
    {
     "name": "stderr",
     "output_type": "stream",
     "text": [
      "[I 2024-12-09 08:05:53,988] Trial 78 finished with value: 0.0501286692850967 and parameters: {'topK': 57, 'alpha': 0.3579726844535502}. Best is trial 58 with value: 0.05416216428473075.\n"
     ]
    },
    {
     "name": "stdout",
     "output_type": "stream",
     "text": [
      "P3alphaRecommender: Similarity column 38121 (100.0%), 4935.63 column/sec. Elapsed time 7.72 sec\n",
      "EvaluatorHoldout: Processed 35572 (100.0%) in 8.65 sec. Users per second: 4111\n"
     ]
    },
    {
     "name": "stderr",
     "output_type": "stream",
     "text": [
      "[I 2024-12-09 08:06:10,787] Trial 79 finished with value: 0.05288219153998239 and parameters: {'topK': 26, 'alpha': 0.3610037660424361}. Best is trial 58 with value: 0.05416216428473075.\n"
     ]
    },
    {
     "name": "stdout",
     "output_type": "stream",
     "text": [
      "P3alphaRecommender: Similarity column 38121 (100.0%), 4824.78 column/sec. Elapsed time 7.90 sec\n",
      "EvaluatorHoldout: Processed 35572 (100.0%) in 8.83 sec. Users per second: 4028\n"
     ]
    },
    {
     "name": "stderr",
     "output_type": "stream",
     "text": [
      "[I 2024-12-09 08:06:28,039] Trial 80 finished with value: 0.051723113774163304 and parameters: {'topK': 37, 'alpha': 0.38650333303552403}. Best is trial 58 with value: 0.05416216428473075.\n"
     ]
    },
    {
     "name": "stdout",
     "output_type": "stream",
     "text": [
      "P3alphaRecommender: Similarity column 38121 (100.0%), 5051.47 column/sec. Elapsed time 7.55 sec\n",
      "EvaluatorHoldout: Processed 35572 (100.0%) in 8.42 sec. Users per second: 4225\n"
     ]
    },
    {
     "name": "stderr",
     "output_type": "stream",
     "text": [
      "[I 2024-12-09 08:06:44,306] Trial 81 finished with value: 0.0541594936449017 and parameters: {'topK': 12, 'alpha': 0.3500526106196078}. Best is trial 58 with value: 0.05416216428473075.\n"
     ]
    },
    {
     "name": "stdout",
     "output_type": "stream",
     "text": [
      "P3alphaRecommender: Similarity column 38121 (100.0%), 5056.73 column/sec. Elapsed time 7.54 sec\n",
      "EvaluatorHoldout: Processed 35572 (100.0%) in 8.42 sec. Users per second: 4227\n"
     ]
    },
    {
     "name": "stderr",
     "output_type": "stream",
     "text": [
      "[I 2024-12-09 08:07:00,557] Trial 82 finished with value: 0.054118147811992 and parameters: {'topK': 11, 'alpha': 0.3532602518517629}. Best is trial 58 with value: 0.05416216428473075.\n"
     ]
    },
    {
     "name": "stdout",
     "output_type": "stream",
     "text": [
      "P3alphaRecommender: Similarity column 38121 (100.0%), 5055.51 column/sec. Elapsed time 7.54 sec\n",
      "EvaluatorHoldout: Processed 35572 (100.0%) in 8.39 sec. Users per second: 4240\n"
     ]
    },
    {
     "name": "stderr",
     "output_type": "stream",
     "text": [
      "[I 2024-12-09 08:07:16,772] Trial 83 finished with value: 0.0538791690539534 and parameters: {'topK': 10, 'alpha': 0.3502756931446088}. Best is trial 58 with value: 0.05416216428473075.\n"
     ]
    },
    {
     "name": "stdout",
     "output_type": "stream",
     "text": [
      "P3alphaRecommender: Similarity column 38121 (100.0%), 4939.60 column/sec. Elapsed time 7.72 sec\n",
      "EvaluatorHoldout: Processed 35572 (100.0%) in 8.65 sec. Users per second: 4112\n"
     ]
    },
    {
     "name": "stderr",
     "output_type": "stream",
     "text": [
      "[I 2024-12-09 08:07:33,549] Trial 84 finished with value: 0.05305146035137151 and parameters: {'topK': 25, 'alpha': 0.3545645849019676}. Best is trial 58 with value: 0.05416216428473075.\n"
     ]
    },
    {
     "name": "stdout",
     "output_type": "stream",
     "text": [
      "P3alphaRecommender: Similarity column 38121 (100.0%), 4660.50 column/sec. Elapsed time 8.18 sec\n",
      "EvaluatorHoldout: Processed 35572 (100.0%) in 9.01 sec. Users per second: 3948\n"
     ]
    },
    {
     "name": "stderr",
     "output_type": "stream",
     "text": [
      "[I 2024-12-09 08:07:51,384] Trial 85 finished with value: 0.050578481336308684 and parameters: {'topK': 50, 'alpha': 0.35029844862978377}. Best is trial 58 with value: 0.05416216428473075.\n"
     ]
    },
    {
     "name": "stdout",
     "output_type": "stream",
     "text": [
      "P3alphaRecommender: Similarity column 38121 (100.0%), 4754.14 column/sec. Elapsed time 8.02 sec\n",
      "EvaluatorHoldout: Processed 35572 (100.0%) in 8.82 sec. Users per second: 4034\n"
     ]
    },
    {
     "name": "stderr",
     "output_type": "stream",
     "text": [
      "[I 2024-12-09 08:08:08,745] Trial 86 finished with value: 0.05160493182617144 and parameters: {'topK': 38, 'alpha': 0.35315683445821083}. Best is trial 58 with value: 0.05416216428473075.\n"
     ]
    },
    {
     "name": "stdout",
     "output_type": "stream",
     "text": [
      "P3alphaRecommender: Similarity column 38121 (100.0%), 4616.32 column/sec. Elapsed time 8.26 sec\n",
      "EvaluatorHoldout: Processed 35572 (100.0%) in 9.21 sec. Users per second: 3863\n"
     ]
    },
    {
     "name": "stderr",
     "output_type": "stream",
     "text": [
      "[I 2024-12-09 08:08:26,957] Trial 87 finished with value: 0.04977125200130478 and parameters: {'topK': 62, 'alpha': 0.3522470753909285}. Best is trial 58 with value: 0.05416216428473075.\n"
     ]
    },
    {
     "name": "stdout",
     "output_type": "stream",
     "text": [
      "P3alphaRecommender: Similarity column 38121 (100.0%), 2430.09 column/sec. Elapsed time 15.69 sec\n",
      "EvaluatorHoldout: Processed 35572 (100.0%) in 8.18 sec. Users per second: 4351\n"
     ]
    },
    {
     "name": "stderr",
     "output_type": "stream",
     "text": [
      "[I 2024-12-09 08:08:51,037] Trial 88 finished with value: 0.036907259633489585 and parameters: {'topK': 2, 'alpha': 0.3514064415448763}. Best is trial 58 with value: 0.05416216428473075.\n"
     ]
    },
    {
     "name": "stdout",
     "output_type": "stream",
     "text": [
      "P3alphaRecommender: Similarity column 38121 (100.0%), 4958.13 column/sec. Elapsed time 7.69 sec\n",
      "EvaluatorHoldout: Processed 35572 (100.0%) in 8.45 sec. Users per second: 4207\n"
     ]
    },
    {
     "name": "stderr",
     "output_type": "stream",
     "text": [
      "[I 2024-12-09 08:09:07,495] Trial 89 finished with value: 0.054091457031478336 and parameters: {'topK': 14, 'alpha': 0.3568743908466743}. Best is trial 58 with value: 0.05416216428473075.\n"
     ]
    },
    {
     "name": "stdout",
     "output_type": "stream",
     "text": [
      "P3alphaRecommender: Similarity column 38121 (100.0%), 4928.52 column/sec. Elapsed time 7.73 sec\n",
      "EvaluatorHoldout: Processed 35572 (100.0%) in 8.65 sec. Users per second: 4113\n"
     ]
    },
    {
     "name": "stderr",
     "output_type": "stream",
     "text": [
      "[I 2024-12-09 08:09:24,297] Trial 90 finished with value: 0.052874761940457815 and parameters: {'topK': 26, 'alpha': 0.3566817107248985}. Best is trial 58 with value: 0.05416216428473075.\n"
     ]
    },
    {
     "name": "stdout",
     "output_type": "stream",
     "text": [
      "P3alphaRecommender: Similarity column 38121 (100.0%), 5041.72 column/sec. Elapsed time 7.56 sec\n",
      "EvaluatorHoldout: Processed 35572 (100.0%) in 8.42 sec. Users per second: 4223\n"
     ]
    },
    {
     "name": "stderr",
     "output_type": "stream",
     "text": [
      "[I 2024-12-09 08:09:40,590] Trial 91 finished with value: 0.05417591685273959 and parameters: {'topK': 13, 'alpha': 0.3546632421287392}. Best is trial 91 with value: 0.05417591685273959.\n"
     ]
    },
    {
     "name": "stdout",
     "output_type": "stream",
     "text": [
      "P3alphaRecommender: Similarity column 38121 (100.0%), 5037.51 column/sec. Elapsed time 7.57 sec\n",
      "EvaluatorHoldout: Processed 35572 (100.0%) in 8.40 sec. Users per second: 4236\n"
     ]
    },
    {
     "name": "stderr",
     "output_type": "stream",
     "text": [
      "[I 2024-12-09 08:09:56,860] Trial 92 finished with value: 0.054173079995143286 and parameters: {'topK': 12, 'alpha': 0.3537635421384019}. Best is trial 91 with value: 0.05417591685273959.\n"
     ]
    },
    {
     "name": "stdout",
     "output_type": "stream",
     "text": [
      "P3alphaRecommender: Similarity column 38121 (100.0%), 4934.05 column/sec. Elapsed time 7.73 sec\n",
      "EvaluatorHoldout: Processed 35572 (100.0%) in 8.64 sec. Users per second: 4119\n"
     ]
    },
    {
     "name": "stderr",
     "output_type": "stream",
     "text": [
      "[I 2024-12-09 08:10:13,640] Trial 93 finished with value: 0.052881795517785456 and parameters: {'topK': 26, 'alpha': 0.35365675579160816}. Best is trial 91 with value: 0.05417591685273959.\n"
     ]
    },
    {
     "name": "stdout",
     "output_type": "stream",
     "text": [
      "P3alphaRecommender: Similarity column 38121 (100.0%), 5060.28 column/sec. Elapsed time 7.53 sec\n",
      "EvaluatorHoldout: Processed 35572 (100.0%) in 8.36 sec. Users per second: 4255\n"
     ]
    },
    {
     "name": "stderr",
     "output_type": "stream",
     "text": [
      "[I 2024-12-09 08:10:29,830] Trial 94 finished with value: 0.05413185352667033 and parameters: {'topK': 11, 'alpha': 0.3559487693281716}. Best is trial 91 with value: 0.05417591685273959.\n"
     ]
    },
    {
     "name": "stdout",
     "output_type": "stream",
     "text": [
      "P3alphaRecommender: Similarity column 38121 (100.0%), 4773.97 column/sec. Elapsed time 7.99 sec\n",
      "EvaluatorHoldout: Processed 35572 (100.0%) in 8.90 sec. Users per second: 3997\n"
     ]
    },
    {
     "name": "stderr",
     "output_type": "stream",
     "text": [
      "[I 2024-12-09 08:10:47,286] Trial 95 finished with value: 0.051177493355749906 and parameters: {'topK': 43, 'alpha': 0.3558955369190914}. Best is trial 91 with value: 0.05417591685273959.\n"
     ]
    },
    {
     "name": "stdout",
     "output_type": "stream",
     "text": [
      "P3alphaRecommender: Similarity column 38121 (100.0%), 4842.28 column/sec. Elapsed time 7.87 sec\n",
      "EvaluatorHoldout: Processed 35572 (100.0%) in 8.72 sec. Users per second: 4079\n"
     ]
    },
    {
     "name": "stderr",
     "output_type": "stream",
     "text": [
      "[I 2024-12-09 08:11:04,350] Trial 96 finished with value: 0.05216725545684965 and parameters: {'topK': 32, 'alpha': 0.35427940697072025}. Best is trial 91 with value: 0.05417591685273959.\n"
     ]
    },
    {
     "name": "stdout",
     "output_type": "stream",
     "text": [
      "P3alphaRecommender: Similarity column 38121 (100.0%), 4990.00 column/sec. Elapsed time 7.64 sec\n",
      "EvaluatorHoldout: Processed 35572 (100.0%) in 8.41 sec. Users per second: 4228\n"
     ]
    },
    {
     "name": "stderr",
     "output_type": "stream",
     "text": [
      "[I 2024-12-09 08:11:20,717] Trial 97 finished with value: 0.05419182802061015 and parameters: {'topK': 13, 'alpha': 0.35618953170199746}. Best is trial 97 with value: 0.05419182802061015.\n"
     ]
    },
    {
     "name": "stdout",
     "output_type": "stream",
     "text": [
      "P3alphaRecommender: Similarity column 38121 (100.0%), 3503.35 column/sec. Elapsed time 10.88 sec\n",
      "EvaluatorHoldout: Processed 35572 (100.0%) in 11.67 sec. Users per second: 3049\n"
     ]
    },
    {
     "name": "stderr",
     "output_type": "stream",
     "text": [
      "[I 2024-12-09 08:11:45,985] Trial 98 finished with value: 0.041969871300593174 and parameters: {'topK': 242, 'alpha': 0.3575036070386931}. Best is trial 97 with value: 0.05419182802061015.\n"
     ]
    },
    {
     "name": "stdout",
     "output_type": "stream",
     "text": [
      "P3alphaRecommender: Similarity column 38121 (100.0%), 4935.01 column/sec. Elapsed time 7.72 sec\n",
      "EvaluatorHoldout: Processed 35572 (100.0%) in 8.57 sec. Users per second: 4150\n"
     ]
    },
    {
     "name": "stderr",
     "output_type": "stream",
     "text": [
      "[I 2024-12-09 08:12:02,659] Trial 99 finished with value: 0.05350496489123603 and parameters: {'topK': 21, 'alpha': 0.3555917006475949}. Best is trial 97 with value: 0.05419182802061015.\n"
     ]
    },
    {
     "name": "stdout",
     "output_type": "stream",
     "text": [
      "P3alphaRecommender: Similarity column 38121 (100.0%), 4697.85 column/sec. Elapsed time 8.11 sec\n",
      "EvaluatorHoldout: Processed 35572 (100.0%) in 9.05 sec. Users per second: 3931\n"
     ]
    },
    {
     "name": "stderr",
     "output_type": "stream",
     "text": [
      "[I 2024-12-09 08:12:20,459] Trial 100 finished with value: 0.05058553722474608 and parameters: {'topK': 50, 'alpha': 0.36048300519110565}. Best is trial 97 with value: 0.05419182802061015.\n"
     ]
    },
    {
     "name": "stdout",
     "output_type": "stream",
     "text": [
      "P3alphaRecommender: Similarity column 38121 (100.0%), 4967.19 column/sec. Elapsed time 7.67 sec\n",
      "EvaluatorHoldout: Processed 35572 (100.0%) in 8.44 sec. Users per second: 4212\n"
     ]
    },
    {
     "name": "stderr",
     "output_type": "stream",
     "text": [
      "[I 2024-12-09 08:12:36,885] Trial 101 finished with value: 0.054204765117559894 and parameters: {'topK': 13, 'alpha': 0.3589688694997559}. Best is trial 101 with value: 0.054204765117559894.\n"
     ]
    },
    {
     "name": "stdout",
     "output_type": "stream",
     "text": [
      "P3alphaRecommender: Similarity column 38121 (100.0%), 2401.42 column/sec. Elapsed time 15.87 sec\n",
      "EvaluatorHoldout: Processed 35572 (100.0%) in 8.17 sec. Users per second: 4353\n"
     ]
    },
    {
     "name": "stderr",
     "output_type": "stream",
     "text": [
      "[I 2024-12-09 08:13:01,148] Trial 102 finished with value: 0.036954148661599795 and parameters: {'topK': 2, 'alpha': 0.35915779612024124}. Best is trial 101 with value: 0.054204765117559894.\n"
     ]
    },
    {
     "name": "stdout",
     "output_type": "stream",
     "text": [
      "P3alphaRecommender: Similarity column 38121 (100.0%), 4966.64 column/sec. Elapsed time 7.68 sec\n",
      "EvaluatorHoldout: Processed 35572 (100.0%) in 8.48 sec. Users per second: 4195\n"
     ]
    },
    {
     "name": "stderr",
     "output_type": "stream",
     "text": [
      "[I 2024-12-09 08:13:17,641] Trial 103 finished with value: 0.0539228687089346 and parameters: {'topK': 17, 'alpha': 0.35667278018075466}. Best is trial 101 with value: 0.054204765117559894.\n"
     ]
    },
    {
     "name": "stdout",
     "output_type": "stream",
     "text": [
      "P3alphaRecommender: Similarity column 38121 (100.0%), 4834.72 column/sec. Elapsed time 7.88 sec\n",
      "EvaluatorHoldout: Processed 35572 (100.0%) in 8.74 sec. Users per second: 4072\n"
     ]
    },
    {
     "name": "stderr",
     "output_type": "stream",
     "text": [
      "[I 2024-12-09 08:13:34,730] Trial 104 finished with value: 0.05215187083116762 and parameters: {'topK': 32, 'alpha': 0.3509901579961926}. Best is trial 101 with value: 0.054204765117559894.\n"
     ]
    },
    {
     "name": "stdout",
     "output_type": "stream",
     "text": [
      "P3alphaRecommender: Similarity column 38121 (100.0%), 4978.45 column/sec. Elapsed time 7.66 sec\n",
      "EvaluatorHoldout: Processed 35572 (100.0%) in 8.38 sec. Users per second: 4247\n"
     ]
    },
    {
     "name": "stderr",
     "output_type": "stream",
     "text": [
      "[I 2024-12-09 08:13:51,060] Trial 105 finished with value: 0.05410963277698139 and parameters: {'topK': 11, 'alpha': 0.3528290932933131}. Best is trial 101 with value: 0.054204765117559894.\n"
     ]
    },
    {
     "name": "stdout",
     "output_type": "stream",
     "text": [
      "P3alphaRecommender: Similarity column 38121 (100.0%), 4885.04 column/sec. Elapsed time 7.80 sec\n",
      "EvaluatorHoldout: Processed 35572 (100.0%) in 8.57 sec. Users per second: 4150\n"
     ]
    },
    {
     "name": "stderr",
     "output_type": "stream",
     "text": [
      "[I 2024-12-09 08:14:07,807] Trial 106 finished with value: 0.05350579598007171 and parameters: {'topK': 21, 'alpha': 0.3526649394735}. Best is trial 101 with value: 0.054204765117559894.\n"
     ]
    },
    {
     "name": "stdout",
     "output_type": "stream",
     "text": [
      "P3alphaRecommender: Similarity column 38121 (100.0%), 4803.09 column/sec. Elapsed time 7.94 sec\n",
      "EvaluatorHoldout: Processed 35572 (100.0%) in 8.92 sec. Users per second: 3986\n"
     ]
    },
    {
     "name": "stderr",
     "output_type": "stream",
     "text": [
      "[I 2024-12-09 08:14:25,227] Trial 107 finished with value: 0.05122406556610253 and parameters: {'topK': 42, 'alpha': 0.3547254183850844}. Best is trial 101 with value: 0.054204765117559894.\n"
     ]
    },
    {
     "name": "stdout",
     "output_type": "stream",
     "text": [
      "P3alphaRecommender: Similarity column 38121 (100.0%), 5008.37 column/sec. Elapsed time 7.61 sec\n",
      "EvaluatorHoldout: Processed 35572 (100.0%) in 8.34 sec. Users per second: 4267\n"
     ]
    },
    {
     "name": "stderr",
     "output_type": "stream",
     "text": [
      "[I 2024-12-09 08:14:41,443] Trial 108 finished with value: 0.053318606885384943 and parameters: {'topK': 8, 'alpha': 0.3591154186847083}. Best is trial 101 with value: 0.054204765117559894.\n"
     ]
    },
    {
     "name": "stdout",
     "output_type": "stream",
     "text": [
      "P3alphaRecommender: Similarity column 38121 (100.0%), 3276.26 column/sec. Elapsed time 11.64 sec\n",
      "EvaluatorHoldout: Processed 35572 (100.0%) in 12.43 sec. Users per second: 2863\n"
     ]
    },
    {
     "name": "stderr",
     "output_type": "stream",
     "text": [
      "[I 2024-12-09 08:15:08,945] Trial 109 finished with value: 0.040553238546813225 and parameters: {'topK': 305, 'alpha': 0.35376844743675684}. Best is trial 101 with value: 0.054204765117559894.\n"
     ]
    },
    {
     "name": "stdout",
     "output_type": "stream",
     "text": [
      "P3alphaRecommender: Similarity column 38121 (100.0%), 4935.48 column/sec. Elapsed time 7.72 sec\n",
      "EvaluatorHoldout: Processed 35572 (100.0%) in 8.66 sec. Users per second: 4109\n"
     ]
    },
    {
     "name": "stderr",
     "output_type": "stream",
     "text": [
      "[I 2024-12-09 08:15:25,745] Trial 110 finished with value: 0.05287783306470578 and parameters: {'topK': 26, 'alpha': 0.36302234091824015}. Best is trial 101 with value: 0.054204765117559894.\n"
     ]
    },
    {
     "name": "stdout",
     "output_type": "stream",
     "text": [
      "P3alphaRecommender: Similarity column 38121 (100.0%), 4981.89 column/sec. Elapsed time 7.65 sec\n",
      "EvaluatorHoldout: Processed 35572 (100.0%) in 8.47 sec. Users per second: 4202\n"
     ]
    },
    {
     "name": "stderr",
     "output_type": "stream",
     "text": [
      "[I 2024-12-09 08:15:42,179] Trial 111 finished with value: 0.05418210818567673 and parameters: {'topK': 13, 'alpha': 0.3520867014936591}. Best is trial 101 with value: 0.054204765117559894.\n"
     ]
    },
    {
     "name": "stdout",
     "output_type": "stream",
     "text": [
      "P3alphaRecommender: Similarity column 38121 (100.0%), 4985.54 column/sec. Elapsed time 7.65 sec\n",
      "EvaluatorHoldout: Processed 35572 (100.0%) in 8.47 sec. Users per second: 4201\n"
     ]
    },
    {
     "name": "stderr",
     "output_type": "stream",
     "text": [
      "[I 2024-12-09 08:15:58,616] Trial 112 finished with value: 0.05404549949219732 and parameters: {'topK': 15, 'alpha': 0.35601048416936854}. Best is trial 101 with value: 0.054204765117559894.\n"
     ]
    },
    {
     "name": "stdout",
     "output_type": "stream",
     "text": [
      "P3alphaRecommender: Similarity column 38121 (100.0%), 4859.34 column/sec. Elapsed time 7.84 sec\n",
      "EvaluatorHoldout: Processed 35572 (100.0%) in 8.76 sec. Users per second: 4060\n"
     ]
    },
    {
     "name": "stderr",
     "output_type": "stream",
     "text": [
      "[I 2024-12-09 08:16:15,705] Trial 113 finished with value: 0.05205345652635507 and parameters: {'topK': 33, 'alpha': 0.3533320962050622}. Best is trial 101 with value: 0.054204765117559894.\n"
     ]
    },
    {
     "name": "stdout",
     "output_type": "stream",
     "text": [
      "P3alphaRecommender: Similarity column 38121 (100.0%), 4945.75 column/sec. Elapsed time 7.71 sec\n",
      "EvaluatorHoldout: Processed 35572 (100.0%) in 8.55 sec. Users per second: 4158\n"
     ]
    },
    {
     "name": "stderr",
     "output_type": "stream",
     "text": [
      "[I 2024-12-09 08:16:32,345] Trial 114 finished with value: 0.05349946631825456 and parameters: {'topK': 21, 'alpha': 0.3550753829853093}. Best is trial 101 with value: 0.054204765117559894.\n"
     ]
    },
    {
     "name": "stdout",
     "output_type": "stream",
     "text": [
      "P3alphaRecommender: Similarity column 38121 (100.0%), 2420.37 column/sec. Elapsed time 15.75 sec\n",
      "EvaluatorHoldout: Processed 35572 (100.0%) in 8.18 sec. Users per second: 4350\n"
     ]
    },
    {
     "name": "stderr",
     "output_type": "stream",
     "text": [
      "[I 2024-12-09 08:16:56,492] Trial 115 finished with value: 0.036906383922434505 and parameters: {'topK': 2, 'alpha': 0.3522039679342592}. Best is trial 101 with value: 0.054204765117559894.\n"
     ]
    },
    {
     "name": "stdout",
     "output_type": "stream",
     "text": [
      "P3alphaRecommender: Similarity column 38121 (100.0%), 5031.07 column/sec. Elapsed time 7.58 sec\n",
      "EvaluatorHoldout: Processed 35572 (100.0%) in 8.41 sec. Users per second: 4229\n"
     ]
    },
    {
     "name": "stderr",
     "output_type": "stream",
     "text": [
      "[I 2024-12-09 08:17:12,794] Trial 116 finished with value: 0.054184966238826966 and parameters: {'topK': 12, 'alpha': 0.3568161543406514}. Best is trial 101 with value: 0.054204765117559894.\n"
     ]
    },
    {
     "name": "stdout",
     "output_type": "stream",
     "text": [
      "P3alphaRecommender: Similarity column 38121 (100.0%), 4815.49 column/sec. Elapsed time 7.92 sec\n",
      "EvaluatorHoldout: Processed 35572 (100.0%) in 8.91 sec. Users per second: 3992\n"
     ]
    },
    {
     "name": "stderr",
     "output_type": "stream",
     "text": [
      "[I 2024-12-09 08:17:30,169] Trial 117 finished with value: 0.0513993717637718 and parameters: {'topK': 40, 'alpha': 0.36926556237657854}. Best is trial 101 with value: 0.054204765117559894.\n"
     ]
    },
    {
     "name": "stdout",
     "output_type": "stream",
     "text": [
      "P3alphaRecommender: Similarity column 38121 (100.0%), 4921.73 column/sec. Elapsed time 7.75 sec\n",
      "EvaluatorHoldout: Processed 35572 (100.0%) in 8.66 sec. Users per second: 4106\n"
     ]
    },
    {
     "name": "stderr",
     "output_type": "stream",
     "text": [
      "[I 2024-12-09 08:17:46,995] Trial 118 finished with value: 0.05288051709120064 and parameters: {'topK': 26, 'alpha': 0.35400328010569193}. Best is trial 101 with value: 0.054204765117559894.\n"
     ]
    },
    {
     "name": "stdout",
     "output_type": "stream",
     "text": [
      "P3alphaRecommender: Similarity column 38121 (100.0%), 5030.06 column/sec. Elapsed time 7.58 sec\n",
      "EvaluatorHoldout: Processed 35572 (100.0%) in 8.38 sec. Users per second: 4245\n"
     ]
    },
    {
     "name": "stderr",
     "output_type": "stream",
     "text": [
      "[I 2024-12-09 08:18:03,240] Trial 119 finished with value: 0.05388121386715584 and parameters: {'topK': 10, 'alpha': 0.35111344998248}. Best is trial 101 with value: 0.054204765117559894.\n"
     ]
    },
    {
     "name": "stdout",
     "output_type": "stream",
     "text": [
      "P3alphaRecommender: Similarity column 38121 (100.0%), 4653.47 column/sec. Elapsed time 8.19 sec\n",
      "EvaluatorHoldout: Processed 35572 (100.0%) in 9.12 sec. Users per second: 3902\n"
     ]
    },
    {
     "name": "stderr",
     "output_type": "stream",
     "text": [
      "[I 2024-12-09 08:18:21,220] Trial 120 finished with value: 0.050338152756134215 and parameters: {'topK': 54, 'alpha': 0.35278511828991616}. Best is trial 101 with value: 0.054204765117559894.\n"
     ]
    },
    {
     "name": "stdout",
     "output_type": "stream",
     "text": [
      "P3alphaRecommender: Similarity column 38121 (100.0%), 5017.36 column/sec. Elapsed time 7.60 sec\n",
      "EvaluatorHoldout: Processed 35572 (100.0%) in 8.49 sec. Users per second: 4190\n"
     ]
    },
    {
     "name": "stderr",
     "output_type": "stream",
     "text": [
      "[I 2024-12-09 08:18:37,636] Trial 121 finished with value: 0.054042968296803794 and parameters: {'topK': 15, 'alpha': 0.3572280426993306}. Best is trial 101 with value: 0.054204765117559894.\n"
     ]
    },
    {
     "name": "stdout",
     "output_type": "stream",
     "text": [
      "P3alphaRecommender: Similarity column 38121 (100.0%), 5036.95 column/sec. Elapsed time 7.57 sec\n",
      "EvaluatorHoldout: Processed 35572 (100.0%) in 8.39 sec. Users per second: 4237\n"
     ]
    },
    {
     "name": "stderr",
     "output_type": "stream",
     "text": [
      "[I 2024-12-09 08:18:53,899] Trial 122 finished with value: 0.05412626236258373 and parameters: {'topK': 11, 'alpha': 0.3553763933535384}. Best is trial 101 with value: 0.054204765117559894.\n"
     ]
    },
    {
     "name": "stdout",
     "output_type": "stream",
     "text": [
      "P3alphaRecommender: Similarity column 38121 (100.0%), 2430.51 column/sec. Elapsed time 15.68 sec\n",
      "EvaluatorHoldout: Processed 35572 (100.0%) in 8.18 sec. Users per second: 4349\n"
     ]
    },
    {
     "name": "stderr",
     "output_type": "stream",
     "text": [
      "[I 2024-12-09 08:19:17,986] Trial 123 finished with value: 0.03690399663369842 and parameters: {'topK': 2, 'alpha': 0.3555239941623872}. Best is trial 101 with value: 0.054204765117559894.\n"
     ]
    },
    {
     "name": "stdout",
     "output_type": "stream",
     "text": [
      "P3alphaRecommender: Similarity column 38121 (100.0%), 4803.33 column/sec. Elapsed time 7.94 sec\n",
      "EvaluatorHoldout: Processed 35572 (100.0%) in 8.78 sec. Users per second: 4050\n"
     ]
    },
    {
     "name": "stderr",
     "output_type": "stream",
     "text": [
      "[I 2024-12-09 08:19:35,184] Trial 124 finished with value: 0.05203605497635763 and parameters: {'topK': 33, 'alpha': 0.3579611679462519}. Best is trial 101 with value: 0.054204765117559894.\n"
     ]
    },
    {
     "name": "stdout",
     "output_type": "stream",
     "text": [
      "P3alphaRecommender: Similarity column 38121 (100.0%), 4990.97 column/sec. Elapsed time 7.64 sec\n",
      "EvaluatorHoldout: Processed 35572 (100.0%) in 8.35 sec. Users per second: 4258\n"
     ]
    },
    {
     "name": "stderr",
     "output_type": "stream",
     "text": [
      "[I 2024-12-09 08:19:51,457] Trial 125 finished with value: 0.05360957164454098 and parameters: {'topK': 9, 'alpha': 0.35209557375459255}. Best is trial 101 with value: 0.054204765117559894.\n"
     ]
    },
    {
     "name": "stdout",
     "output_type": "stream",
     "text": [
      "P3alphaRecommender: Similarity column 38121 (100.0%), 4889.08 column/sec. Elapsed time 7.80 sec\n",
      "EvaluatorHoldout: Processed 35572 (100.0%) in 8.57 sec. Users per second: 4153\n"
     ]
    },
    {
     "name": "stderr",
     "output_type": "stream",
     "text": [
      "[I 2024-12-09 08:20:08,194] Trial 126 finished with value: 0.053502799598041294 and parameters: {'topK': 21, 'alpha': 0.35619196652032764}. Best is trial 101 with value: 0.054204765117559894.\n"
     ]
    },
    {
     "name": "stdout",
     "output_type": "stream",
     "text": [
      "P3alphaRecommender: Similarity column 38121 (100.0%), 4776.86 column/sec. Elapsed time 7.98 sec\n",
      "EvaluatorHoldout: Processed 35572 (100.0%) in 8.97 sec. Users per second: 3967\n"
     ]
    },
    {
     "name": "stderr",
     "output_type": "stream",
     "text": [
      "[I 2024-12-09 08:20:25,734] Trial 127 finished with value: 0.05104606864860553 and parameters: {'topK': 45, 'alpha': 0.3666743235214037}. Best is trial 101 with value: 0.054204765117559894.\n"
     ]
    },
    {
     "name": "stdout",
     "output_type": "stream",
     "text": [
      "P3alphaRecommender: Similarity column 38121 (100.0%), 3012.81 column/sec. Elapsed time 12.65 sec\n",
      "EvaluatorHoldout: Processed 35572 (100.0%) in 13.20 sec. Users per second: 2696\n"
     ]
    },
    {
     "name": "stderr",
     "output_type": "stream",
     "text": [
      "[I 2024-12-09 08:20:55,884] Trial 128 finished with value: 0.03924082321747465 and parameters: {'topK': 375, 'alpha': 0.35977398492507706}. Best is trial 101 with value: 0.054204765117559894.\n"
     ]
    },
    {
     "name": "stdout",
     "output_type": "stream",
     "text": [
      "P3alphaRecommender: Similarity column 38121 (100.0%), 4986.03 column/sec. Elapsed time 7.65 sec\n",
      "EvaluatorHoldout: Processed 35572 (100.0%) in 8.51 sec. Users per second: 4178\n"
     ]
    },
    {
     "name": "stderr",
     "output_type": "stream",
     "text": [
      "[I 2024-12-09 08:21:12,397] Trial 129 finished with value: 0.053911234580790335 and parameters: {'topK': 18, 'alpha': 0.35522529610930936}. Best is trial 101 with value: 0.054204765117559894.\n"
     ]
    },
    {
     "name": "stdout",
     "output_type": "stream",
     "text": [
      "P3alphaRecommender: Similarity column 38121 (100.0%), 5074.14 column/sec. Elapsed time 7.51 sec\n",
      "EvaluatorHoldout: Processed 35572 (100.0%) in 8.36 sec. Users per second: 4254\n"
     ]
    },
    {
     "name": "stderr",
     "output_type": "stream",
     "text": [
      "[I 2024-12-09 08:21:28,554] Trial 130 finished with value: 0.05360504695149721 and parameters: {'topK': 9, 'alpha': 0.35410794971353604}. Best is trial 101 with value: 0.054204765117559894.\n"
     ]
    },
    {
     "name": "stdout",
     "output_type": "stream",
     "text": [
      "P3alphaRecommender: Similarity column 38121 (100.0%), 5021.85 column/sec. Elapsed time 7.59 sec\n",
      "EvaluatorHoldout: Processed 35572 (100.0%) in 8.44 sec. Users per second: 4212\n"
     ]
    },
    {
     "name": "stderr",
     "output_type": "stream",
     "text": [
      "[I 2024-12-09 08:21:44,915] Trial 131 finished with value: 0.054044066003400205 and parameters: {'topK': 15, 'alpha': 0.35726529349991626}. Best is trial 101 with value: 0.054204765117559894.\n"
     ]
    },
    {
     "name": "stdout",
     "output_type": "stream",
     "text": [
      "P3alphaRecommender: Similarity column 38121 (100.0%), 3925.37 column/sec. Elapsed time 9.71 sec\n",
      "EvaluatorHoldout: Processed 35572 (100.0%) in 10.64 sec. Users per second: 3342\n"
     ]
    },
    {
     "name": "stderr",
     "output_type": "stream",
     "text": [
      "[I 2024-12-09 08:22:07,117] Trial 132 finished with value: 0.044496829814423065 and parameters: {'topK': 164, 'alpha': 0.35480873465131146}. Best is trial 101 with value: 0.054204765117559894.\n"
     ]
    },
    {
     "name": "stdout",
     "output_type": "stream",
     "text": [
      "P3alphaRecommender: Similarity column 38121 (100.0%), 4849.11 column/sec. Elapsed time 7.86 sec\n",
      "EvaluatorHoldout: Processed 35572 (100.0%) in 8.64 sec. Users per second: 4117\n"
     ]
    },
    {
     "name": "stderr",
     "output_type": "stream",
     "text": [
      "[I 2024-12-09 08:22:24,027] Trial 133 finished with value: 0.0530403047965299 and parameters: {'topK': 25, 'alpha': 0.3583918279869537}. Best is trial 101 with value: 0.054204765117559894.\n"
     ]
    },
    {
     "name": "stdout",
     "output_type": "stream",
     "text": [
      "P3alphaRecommender: Similarity column 38121 (100.0%), 4844.26 column/sec. Elapsed time 7.87 sec\n",
      "EvaluatorHoldout: Processed 35572 (100.0%) in 8.85 sec. Users per second: 4019\n"
     ]
    },
    {
     "name": "stderr",
     "output_type": "stream",
     "text": [
      "[I 2024-12-09 08:22:41,263] Trial 134 finished with value: 0.05187271422681116 and parameters: {'topK': 36, 'alpha': 0.3530344239193928}. Best is trial 101 with value: 0.054204765117559894.\n"
     ]
    },
    {
     "name": "stdout",
     "output_type": "stream",
     "text": [
      "P3alphaRecommender: Similarity column 38121 (100.0%), 5077.69 column/sec. Elapsed time 7.51 sec\n",
      "EvaluatorHoldout: Processed 35572 (100.0%) in 8.27 sec. Users per second: 4301\n"
     ]
    },
    {
     "name": "stderr",
     "output_type": "stream",
     "text": [
      "[I 2024-12-09 08:22:57,306] Trial 135 finished with value: 0.052748877081847674 and parameters: {'topK': 7, 'alpha': 0.3564921783785127}. Best is trial 101 with value: 0.054204765117559894.\n"
     ]
    },
    {
     "name": "stdout",
     "output_type": "stream",
     "text": [
      "P3alphaRecommender: Similarity column 38121 (100.0%), 4914.07 column/sec. Elapsed time 7.76 sec\n",
      "EvaluatorHoldout: Processed 35572 (100.0%) in 8.63 sec. Users per second: 4120\n"
     ]
    },
    {
     "name": "stderr",
     "output_type": "stream",
     "text": [
      "[I 2024-12-09 08:23:14,126] Trial 136 finished with value: 0.05276364368979184 and parameters: {'topK': 27, 'alpha': 0.3511313698464822}. Best is trial 101 with value: 0.054204765117559894.\n"
     ]
    },
    {
     "name": "stdout",
     "output_type": "stream",
     "text": [
      "P3alphaRecommender: Similarity column 38121 (100.0%), 5023.97 column/sec. Elapsed time 7.59 sec\n",
      "EvaluatorHoldout: Processed 35572 (100.0%) in 8.43 sec. Users per second: 4221\n"
     ]
    },
    {
     "name": "stderr",
     "output_type": "stream",
     "text": [
      "[I 2024-12-09 08:23:30,464] Trial 137 finished with value: 0.054037616977146256 and parameters: {'topK': 15, 'alpha': 0.3539587323074897}. Best is trial 101 with value: 0.054204765117559894.\n"
     ]
    },
    {
     "name": "stdout",
     "output_type": "stream",
     "text": [
      "P3alphaRecommender: Similarity column 38121 (100.0%), 1705.29 column/sec. Elapsed time 22.35 sec\n",
      "EvaluatorHoldout: Processed 35572 (100.0%) in 8.19 sec. Users per second: 4343\n"
     ]
    },
    {
     "name": "stderr",
     "output_type": "stream",
     "text": [
      "[I 2024-12-09 08:24:01,238] Trial 138 finished with value: 0.04386420833935559 and parameters: {'topK': 3, 'alpha': 0.357143118273851}. Best is trial 101 with value: 0.054204765117559894.\n"
     ]
    },
    {
     "name": "stdout",
     "output_type": "stream",
     "text": [
      "P3alphaRecommender: Similarity column 38121 (100.0%), 4968.51 column/sec. Elapsed time 7.67 sec\n",
      "EvaluatorHoldout: Processed 35572 (100.0%) in 8.54 sec. Users per second: 4164\n"
     ]
    },
    {
     "name": "stderr",
     "output_type": "stream",
     "text": [
      "[I 2024-12-09 08:24:17,830] Trial 139 finished with value: 0.05350499054901216 and parameters: {'topK': 21, 'alpha': 0.3519841929653298}. Best is trial 101 with value: 0.054204765117559894.\n"
     ]
    },
    {
     "name": "stdout",
     "output_type": "stream",
     "text": [
      "P3alphaRecommender: Similarity column 38121 (100.0%), 5010.01 column/sec. Elapsed time 7.61 sec\n",
      "EvaluatorHoldout: Processed 35572 (100.0%) in 8.38 sec. Users per second: 4246\n"
     ]
    },
    {
     "name": "stderr",
     "output_type": "stream",
     "text": [
      "[I 2024-12-09 08:24:34,117] Trial 140 finished with value: 0.054122781829473186 and parameters: {'topK': 11, 'alpha': 0.3627346572336892}. Best is trial 101 with value: 0.054204765117559894.\n"
     ]
    },
    {
     "name": "stdout",
     "output_type": "stream",
     "text": [
      "P3alphaRecommender: Similarity column 38121 (100.0%), 4977.10 column/sec. Elapsed time 7.66 sec\n",
      "EvaluatorHoldout: Processed 35572 (100.0%) in 8.40 sec. Users per second: 4233\n"
     ]
    },
    {
     "name": "stderr",
     "output_type": "stream",
     "text": [
      "[I 2024-12-09 08:24:50,475] Trial 141 finished with value: 0.054104230141771584 and parameters: {'topK': 11, 'alpha': 0.3638590172805231}. Best is trial 101 with value: 0.054204765117559894.\n"
     ]
    },
    {
     "name": "stdout",
     "output_type": "stream",
     "text": [
      "P3alphaRecommender: Similarity column 38121 (100.0%), 4824.34 column/sec. Elapsed time 7.90 sec\n",
      "EvaluatorHoldout: Processed 35572 (100.0%) in 8.70 sec. Users per second: 4087\n"
     ]
    },
    {
     "name": "stderr",
     "output_type": "stream",
     "text": [
      "[I 2024-12-09 08:25:07,532] Trial 142 finished with value: 0.05248755040079522 and parameters: {'topK': 30, 'alpha': 0.36370134455790526}. Best is trial 101 with value: 0.054204765117559894.\n"
     ]
    },
    {
     "name": "stdout",
     "output_type": "stream",
     "text": [
      "P3alphaRecommender: Similarity column 38121 (100.0%), 4988.90 column/sec. Elapsed time 7.64 sec\n",
      "EvaluatorHoldout: Processed 35572 (100.0%) in 8.34 sec. Users per second: 4268\n"
     ]
    },
    {
     "name": "stderr",
     "output_type": "stream",
     "text": [
      "[I 2024-12-09 08:25:23,780] Trial 143 finished with value: 0.05328896211394892 and parameters: {'topK': 8, 'alpha': 0.3623892718936216}. Best is trial 101 with value: 0.054204765117559894.\n"
     ]
    },
    {
     "name": "stdout",
     "output_type": "stream",
     "text": [
      "P3alphaRecommender: Similarity column 38121 (100.0%), 4989.48 column/sec. Elapsed time 7.64 sec\n",
      "EvaluatorHoldout: Processed 35572 (100.0%) in 8.49 sec. Users per second: 4192\n"
     ]
    },
    {
     "name": "stderr",
     "output_type": "stream",
     "text": [
      "[I 2024-12-09 08:25:40,249] Trial 144 finished with value: 0.053942666472111975 and parameters: {'topK': 17, 'alpha': 0.36132677279766073}. Best is trial 101 with value: 0.054204765117559894.\n"
     ]
    },
    {
     "name": "stdout",
     "output_type": "stream",
     "text": [
      "P3alphaRecommender: Similarity column 38121 (100.0%), 4853.14 column/sec. Elapsed time 7.85 sec\n",
      "EvaluatorHoldout: Processed 35572 (100.0%) in 8.79 sec. Users per second: 4049\n"
     ]
    },
    {
     "name": "stderr",
     "output_type": "stream",
     "text": [
      "[I 2024-12-09 08:25:57,386] Trial 145 finished with value: 0.05191845423277276 and parameters: {'topK': 35, 'alpha': 0.3598853700897935}. Best is trial 101 with value: 0.054204765117559894.\n"
     ]
    },
    {
     "name": "stdout",
     "output_type": "stream",
     "text": [
      "P3alphaRecommender: Similarity column 38121 (100.0%), 5067.54 column/sec. Elapsed time 7.52 sec\n",
      "EvaluatorHoldout: Processed 35572 (100.0%) in 8.35 sec. Users per second: 4262\n"
     ]
    },
    {
     "name": "stderr",
     "output_type": "stream",
     "text": [
      "[I 2024-12-09 08:26:13,543] Trial 146 finished with value: 0.053908020665440225 and parameters: {'topK': 10, 'alpha': 0.3657220816953446}. Best is trial 101 with value: 0.054204765117559894.\n"
     ]
    },
    {
     "name": "stdout",
     "output_type": "stream",
     "text": [
      "P3alphaRecommender: Similarity column 38121 (100.0%), 4931.82 column/sec. Elapsed time 7.73 sec\n",
      "EvaluatorHoldout: Processed 35572 (100.0%) in 8.67 sec. Users per second: 4102\n"
     ]
    },
    {
     "name": "stderr",
     "output_type": "stream",
     "text": [
      "[I 2024-12-09 08:26:30,344] Trial 147 finished with value: 0.05317870172545025 and parameters: {'topK': 24, 'alpha': 0.36680199316268997}. Best is trial 101 with value: 0.054204765117559894.\n"
     ]
    },
    {
     "name": "stdout",
     "output_type": "stream",
     "text": [
      "P3alphaRecommender: Similarity column 38121 (100.0%), 2428.22 column/sec. Elapsed time 15.70 sec\n",
      "EvaluatorHoldout: Processed 35572 (100.0%) in 8.19 sec. Users per second: 4342\n"
     ]
    },
    {
     "name": "stderr",
     "output_type": "stream",
     "text": [
      "[I 2024-12-09 08:26:54,455] Trial 148 finished with value: 0.036961133154486105 and parameters: {'topK': 2, 'alpha': 0.3645173330692301}. Best is trial 101 with value: 0.054204765117559894.\n"
     ]
    },
    {
     "name": "stdout",
     "output_type": "stream",
     "text": [
      "P3alphaRecommender: Similarity column 38121 (100.0%), 4788.48 column/sec. Elapsed time 7.96 sec\n",
      "EvaluatorHoldout: Processed 35572 (100.0%) in 8.91 sec. Users per second: 3993\n"
     ]
    },
    {
     "name": "stderr",
     "output_type": "stream",
     "text": [
      "[I 2024-12-09 08:27:11,884] Trial 149 finished with value: 0.05121728856653625 and parameters: {'topK': 42, 'alpha': 0.353177096013842}. Best is trial 101 with value: 0.054204765117559894.\n"
     ]
    },
    {
     "name": "stdout",
     "output_type": "stream",
     "text": [
      "P3alphaRecommender: Similarity column 38121 (100.0%), 5024.44 column/sec. Elapsed time 7.59 sec\n",
      "EvaluatorHoldout: Processed 35572 (100.0%) in 8.49 sec. Users per second: 4189\n"
     ]
    },
    {
     "name": "stderr",
     "output_type": "stream",
     "text": [
      "[I 2024-12-09 08:27:28,295] Trial 150 finished with value: 0.053951412427107825 and parameters: {'topK': 16, 'alpha': 0.35542158577029964}. Best is trial 101 with value: 0.054204765117559894.\n"
     ]
    },
    {
     "name": "stdout",
     "output_type": "stream",
     "text": [
      "P3alphaRecommender: Similarity column 38121 (100.0%), 5021.06 column/sec. Elapsed time 7.59 sec\n",
      "EvaluatorHoldout: Processed 35572 (100.0%) in 8.47 sec. Users per second: 4201\n"
     ]
    },
    {
     "name": "stderr",
     "output_type": "stream",
     "text": [
      "[I 2024-12-09 08:27:44,682] Trial 151 finished with value: 0.05403996856810688 and parameters: {'topK': 15, 'alpha': 0.35824608329377255}. Best is trial 101 with value: 0.054204765117559894.\n"
     ]
    },
    {
     "name": "stdout",
     "output_type": "stream",
     "text": [
      "P3alphaRecommender: Similarity column 38121 (100.0%), 4076.35 column/sec. Elapsed time 9.35 sec\n",
      "EvaluatorHoldout: Processed 35572 (100.0%) in 10.34 sec. Users per second: 3440\n"
     ]
    },
    {
     "name": "stderr",
     "output_type": "stream",
     "text": [
      "[I 2024-12-09 08:28:05,978] Trial 152 finished with value: 0.04546629326793315 and parameters: {'topK': 142, 'alpha': 0.35446884546467433}. Best is trial 101 with value: 0.054204765117559894.\n"
     ]
    },
    {
     "name": "stdout",
     "output_type": "stream",
     "text": [
      "P3alphaRecommender: Similarity column 38121 (100.0%), 4811.14 column/sec. Elapsed time 7.92 sec\n",
      "EvaluatorHoldout: Processed 35572 (100.0%) in 8.70 sec. Users per second: 4091\n"
     ]
    },
    {
     "name": "stderr",
     "output_type": "stream",
     "text": [
      "[I 2024-12-09 08:28:23,045] Trial 153 finished with value: 0.052591502323031045 and parameters: {'topK': 29, 'alpha': 0.3563691324959774}. Best is trial 101 with value: 0.054204765117559894.\n"
     ]
    },
    {
     "name": "stdout",
     "output_type": "stream",
     "text": [
      "P3alphaRecommender: Similarity column 38121 (100.0%), 2430.55 column/sec. Elapsed time 15.68 sec\n",
      "EvaluatorHoldout: Processed 35572 (100.0%) in 8.17 sec. Users per second: 4355\n"
     ]
    },
    {
     "name": "stderr",
     "output_type": "stream",
     "text": [
      "[I 2024-12-09 08:28:47,117] Trial 154 finished with value: 0.03690099690500151 and parameters: {'topK': 2, 'alpha': 0.3505232252749483}. Best is trial 101 with value: 0.054204765117559894.\n"
     ]
    },
    {
     "name": "stdout",
     "output_type": "stream",
     "text": [
      "P3alphaRecommender: Similarity column 38121 (100.0%), 4967.23 column/sec. Elapsed time 7.67 sec\n",
      "EvaluatorHoldout: Processed 35572 (100.0%) in 8.38 sec. Users per second: 4243\n"
     ]
    },
    {
     "name": "stderr",
     "output_type": "stream",
     "text": [
      "[I 2024-12-09 08:29:03,473] Trial 155 finished with value: 0.05413050816675644 and parameters: {'topK': 11, 'alpha': 0.35568475827490065}. Best is trial 101 with value: 0.054204765117559894.\n"
     ]
    },
    {
     "name": "stdout",
     "output_type": "stream",
     "text": [
      "P3alphaRecommender: Similarity column 38121 (100.0%), 3686.56 column/sec. Elapsed time 10.34 sec\n",
      "EvaluatorHoldout: Processed 35572 (100.0%) in 11.25 sec. Users per second: 3162\n"
     ]
    },
    {
     "name": "stderr",
     "output_type": "stream",
     "text": [
      "[I 2024-12-09 08:29:27,342] Trial 156 finished with value: 0.04303937888547801 and parameters: {'topK': 206, 'alpha': 0.352543910021562}. Best is trial 101 with value: 0.054204765117559894.\n"
     ]
    },
    {
     "name": "stdout",
     "output_type": "stream",
     "text": [
      "P3alphaRecommender: Similarity column 38121 (100.0%), 4929.63 column/sec. Elapsed time 7.73 sec\n",
      "EvaluatorHoldout: Processed 35572 (100.0%) in 8.61 sec. Users per second: 4131\n"
     ]
    },
    {
     "name": "stderr",
     "output_type": "stream",
     "text": [
      "[I 2024-12-09 08:29:44,072] Trial 157 finished with value: 0.05339209410290413 and parameters: {'topK': 22, 'alpha': 0.3549979728880438}. Best is trial 101 with value: 0.054204765117559894.\n"
     ]
    },
    {
     "name": "stdout",
     "output_type": "stream",
     "text": [
      "P3alphaRecommender: Similarity column 38121 (100.0%), 4987.93 column/sec. Elapsed time 7.64 sec\n",
      "EvaluatorHoldout: Processed 35572 (100.0%) in 8.42 sec. Users per second: 4226\n"
     ]
    },
    {
     "name": "stderr",
     "output_type": "stream",
     "text": [
      "[I 2024-12-09 08:30:00,428] Trial 158 finished with value: 0.05409971548872719 and parameters: {'topK': 11, 'alpha': 0.35156055391166036}. Best is trial 101 with value: 0.054204765117559894.\n"
     ]
    },
    {
     "name": "stdout",
     "output_type": "stream",
     "text": [
      "P3alphaRecommender: Similarity column 38121 (100.0%), 4872.71 column/sec. Elapsed time 7.82 sec\n",
      "EvaluatorHoldout: Processed 35572 (100.0%) in 8.75 sec. Users per second: 4066\n"
     ]
    },
    {
     "name": "stderr",
     "output_type": "stream",
     "text": [
      "[I 2024-12-09 08:30:17,463] Trial 159 finished with value: 0.052286951213633436 and parameters: {'topK': 31, 'alpha': 0.353270966923341}. Best is trial 101 with value: 0.054204765117559894.\n"
     ]
    },
    {
     "name": "stdout",
     "output_type": "stream",
     "text": [
      "P3alphaRecommender: Similarity column 38121 (100.0%), 4929.66 column/sec. Elapsed time 7.73 sec\n",
      "EvaluatorHoldout: Processed 35572 (100.0%) in 8.60 sec. Users per second: 4136\n"
     ]
    },
    {
     "name": "stderr",
     "output_type": "stream",
     "text": [
      "[I 2024-12-09 08:30:34,184] Trial 160 finished with value: 0.05339753466700044 and parameters: {'topK': 22, 'alpha': 0.3561325243407483}. Best is trial 101 with value: 0.054204765117559894.\n"
     ]
    },
    {
     "name": "stdout",
     "output_type": "stream",
     "text": [
      "P3alphaRecommender: Similarity column 38121 (100.0%), 5007.03 column/sec. Elapsed time 7.61 sec\n",
      "EvaluatorHoldout: Processed 35572 (100.0%) in 8.39 sec. Users per second: 4240\n"
     ]
    },
    {
     "name": "stderr",
     "output_type": "stream",
     "text": [
      "[I 2024-12-09 08:30:50,476] Trial 161 finished with value: 0.05388280464927626 and parameters: {'topK': 10, 'alpha': 0.3511459222953078}. Best is trial 101 with value: 0.054204765117559894.\n"
     ]
    },
    {
     "name": "stdout",
     "output_type": "stream",
     "text": [
      "P3alphaRecommender: Similarity column 38121 (100.0%), 5000.00 column/sec. Elapsed time 7.62 sec\n",
      "EvaluatorHoldout: Processed 35572 (100.0%) in 8.37 sec. Users per second: 4251\n"
     ]
    },
    {
     "name": "stderr",
     "output_type": "stream",
     "text": [
      "[I 2024-12-09 08:31:06,754] Trial 162 finished with value: 0.05388368259144231 and parameters: {'topK': 10, 'alpha': 0.35156135403111255}. Best is trial 101 with value: 0.054204765117559894.\n"
     ]
    },
    {
     "name": "stdout",
     "output_type": "stream",
     "text": [
      "P3alphaRecommender: Similarity column 38121 (100.0%), 2419.96 column/sec. Elapsed time 15.75 sec\n",
      "EvaluatorHoldout: Processed 35572 (100.0%) in 8.21 sec. Users per second: 4334\n"
     ]
    },
    {
     "name": "stderr",
     "output_type": "stream",
     "text": [
      "[I 2024-12-09 08:31:30,930] Trial 163 finished with value: 0.03691257971759355 and parameters: {'topK': 2, 'alpha': 0.35424271445216615}. Best is trial 101 with value: 0.054204765117559894.\n"
     ]
    },
    {
     "name": "stdout",
     "output_type": "stream",
     "text": [
      "P3alphaRecommender: Similarity column 38121 (100.0%), 5012.75 column/sec. Elapsed time 7.60 sec\n",
      "EvaluatorHoldout: Processed 35572 (100.0%) in 8.49 sec. Users per second: 4192\n"
     ]
    },
    {
     "name": "stderr",
     "output_type": "stream",
     "text": [
      "[I 2024-12-09 08:31:47,345] Trial 164 finished with value: 0.05406203202447263 and parameters: {'topK': 15, 'alpha': 0.3526642104401849}. Best is trial 101 with value: 0.054204765117559894.\n"
     ]
    },
    {
     "name": "stdout",
     "output_type": "stream",
     "text": [
      "P3alphaRecommender: Similarity column 38121 (100.0%), 4939.71 column/sec. Elapsed time 7.72 sec\n",
      "EvaluatorHoldout: Processed 35572 (100.0%) in 8.60 sec. Users per second: 4138\n"
     ]
    },
    {
     "name": "stderr",
     "output_type": "stream",
     "text": [
      "[I 2024-12-09 08:32:04,038] Trial 165 finished with value: 0.05354191766664894 and parameters: {'topK': 21, 'alpha': 0.36790733964831757}. Best is trial 101 with value: 0.054204765117559894.\n"
     ]
    },
    {
     "name": "stdout",
     "output_type": "stream",
     "text": [
      "P3alphaRecommender: Similarity column 38121 (100.0%), 5016.55 column/sec. Elapsed time 7.60 sec\n",
      "EvaluatorHoldout: Processed 35572 (100.0%) in 8.36 sec. Users per second: 4257\n"
     ]
    },
    {
     "name": "stderr",
     "output_type": "stream",
     "text": [
      "[I 2024-12-09 08:32:20,270] Trial 166 finished with value: 0.0536000191429301 and parameters: {'topK': 9, 'alpha': 0.3555151678486018}. Best is trial 101 with value: 0.054204765117559894.\n"
     ]
    },
    {
     "name": "stdout",
     "output_type": "stream",
     "text": [
      "P3alphaRecommender: Similarity column 38121 (100.0%), 4766.59 column/sec. Elapsed time 8.00 sec\n",
      "EvaluatorHoldout: Processed 35572 (100.0%) in 8.85 sec. Users per second: 4019\n"
     ]
    },
    {
     "name": "stderr",
     "output_type": "stream",
     "text": [
      "[I 2024-12-09 08:32:37,644] Trial 167 finished with value: 0.051604362892874484 and parameters: {'topK': 38, 'alpha': 0.3537604706133518}. Best is trial 101 with value: 0.054204765117559894.\n"
     ]
    },
    {
     "name": "stdout",
     "output_type": "stream",
     "text": [
      "P3alphaRecommender: Similarity column 38121 (100.0%), 4831.72 column/sec. Elapsed time 7.89 sec\n",
      "EvaluatorHoldout: Processed 35572 (100.0%) in 8.67 sec. Users per second: 4102\n"
     ]
    },
    {
     "name": "stderr",
     "output_type": "stream",
     "text": [
      "[I 2024-12-09 08:32:54,632] Trial 168 finished with value: 0.052757272752421785 and parameters: {'topK': 27, 'alpha': 0.351777634422303}. Best is trial 101 with value: 0.054204765117559894.\n"
     ]
    },
    {
     "name": "stdout",
     "output_type": "stream",
     "text": [
      "P3alphaRecommender: Similarity column 38121 (100.0%), 5035.45 column/sec. Elapsed time 7.57 sec\n",
      "EvaluatorHoldout: Processed 35572 (100.0%) in 8.45 sec. Users per second: 4208\n"
     ]
    },
    {
     "name": "stderr",
     "output_type": "stream",
     "text": [
      "[I 2024-12-09 08:33:10,972] Trial 169 finished with value: 0.054133742162105404 and parameters: {'topK': 14, 'alpha': 0.36202030865964047}. Best is trial 101 with value: 0.054204765117559894.\n"
     ]
    },
    {
     "name": "stdout",
     "output_type": "stream",
     "text": [
      "P3alphaRecommender: Similarity column 38121 (100.0%), 4941.89 column/sec. Elapsed time 7.71 sec\n",
      "EvaluatorHoldout: Processed 35572 (100.0%) in 8.59 sec. Users per second: 4139\n"
     ]
    },
    {
     "name": "stderr",
     "output_type": "stream",
     "text": [
      "[I 2024-12-09 08:33:27,636] Trial 170 finished with value: 0.053788433117538406 and parameters: {'topK': 19, 'alpha': 0.36297279314080566}. Best is trial 101 with value: 0.054204765117559894.\n"
     ]
    },
    {
     "name": "stdout",
     "output_type": "stream",
     "text": [
      "P3alphaRecommender: Similarity column 38121 (100.0%), 5044.17 column/sec. Elapsed time 7.56 sec\n",
      "EvaluatorHoldout: Processed 35572 (100.0%) in 8.44 sec. Users per second: 4213\n"
     ]
    },
    {
     "name": "stderr",
     "output_type": "stream",
     "text": [
      "[I 2024-12-09 08:33:43,945] Trial 171 finished with value: 0.054141814321588655 and parameters: {'topK': 12, 'alpha': 0.3635982424019771}. Best is trial 101 with value: 0.054204765117559894.\n"
     ]
    },
    {
     "name": "stdout",
     "output_type": "stream",
     "text": [
      "P3alphaRecommender: Similarity column 38121 (100.0%), 5001.53 column/sec. Elapsed time 7.62 sec\n",
      "EvaluatorHoldout: Processed 35572 (100.0%) in 8.34 sec. Users per second: 4265\n"
     ]
    },
    {
     "name": "stderr",
     "output_type": "stream",
     "text": [
      "[I 2024-12-09 08:34:00,176] Trial 172 finished with value: 0.053284045860930176 and parameters: {'topK': 8, 'alpha': 0.3648330720774823}. Best is trial 101 with value: 0.054204765117559894.\n"
     ]
    },
    {
     "name": "stdout",
     "output_type": "stream",
     "text": [
      "P3alphaRecommender: Similarity column 38121 (100.0%), 2428.34 column/sec. Elapsed time 15.70 sec\n",
      "EvaluatorHoldout: Processed 35572 (100.0%) in 8.18 sec. Users per second: 4349\n"
     ]
    },
    {
     "name": "stderr",
     "output_type": "stream",
     "text": [
      "[I 2024-12-09 08:34:24,271] Trial 173 finished with value: 0.03696023290121039 and parameters: {'topK': 2, 'alpha': 0.3621505842806634}. Best is trial 101 with value: 0.054204765117559894.\n"
     ]
    },
    {
     "name": "stdout",
     "output_type": "stream",
     "text": [
      "P3alphaRecommender: Similarity column 38121 (100.0%), 4976.04 column/sec. Elapsed time 7.66 sec\n",
      "EvaluatorHoldout: Processed 35572 (100.0%) in 8.56 sec. Users per second: 4154\n"
     ]
    },
    {
     "name": "stderr",
     "output_type": "stream",
     "text": [
      "[I 2024-12-09 08:34:40,865] Trial 174 finished with value: 0.05374533028474143 and parameters: {'topK': 20, 'alpha': 0.3633865723170023}. Best is trial 101 with value: 0.054204765117559894.\n"
     ]
    },
    {
     "name": "stdout",
     "output_type": "stream",
     "text": [
      "P3alphaRecommender: Similarity column 38121 (100.0%), 4894.75 column/sec. Elapsed time 7.79 sec\n",
      "EvaluatorHoldout: Processed 35572 (100.0%) in 8.71 sec. Users per second: 4084\n"
     ]
    },
    {
     "name": "stderr",
     "output_type": "stream",
     "text": [
      "[I 2024-12-09 08:34:57,809] Trial 175 finished with value: 0.052635354809113355 and parameters: {'topK': 29, 'alpha': 0.3604643794411583}. Best is trial 101 with value: 0.054204765117559894.\n"
     ]
    },
    {
     "name": "stdout",
     "output_type": "stream",
     "text": [
      "P3alphaRecommender: Similarity column 38121 (100.0%), 5057.65 column/sec. Elapsed time 7.54 sec\n",
      "EvaluatorHoldout: Processed 35572 (100.0%) in 8.38 sec. Users per second: 4244\n"
     ]
    },
    {
     "name": "stderr",
     "output_type": "stream",
     "text": [
      "[I 2024-12-09 08:35:14,015] Trial 176 finished with value: 0.05389884075936107 and parameters: {'topK': 10, 'alpha': 0.36172468471848973}. Best is trial 101 with value: 0.054204765117559894.\n"
     ]
    },
    {
     "name": "stdout",
     "output_type": "stream",
     "text": [
      "P3alphaRecommender: Similarity column 38121 (100.0%), 4993.42 column/sec. Elapsed time 7.63 sec\n",
      "EvaluatorHoldout: Processed 35572 (100.0%) in 8.55 sec. Users per second: 4159\n"
     ]
    },
    {
     "name": "stderr",
     "output_type": "stream",
     "text": [
      "[I 2024-12-09 08:35:30,561] Trial 177 finished with value: 0.05378842753976098 and parameters: {'topK': 19, 'alpha': 0.36429280147661935}. Best is trial 101 with value: 0.054204765117559894.\n"
     ]
    },
    {
     "name": "stdout",
     "output_type": "stream",
     "text": [
      "P3alphaRecommender: Similarity column 38121 (100.0%), 4861.29 column/sec. Elapsed time 7.84 sec\n",
      "EvaluatorHoldout: Processed 35572 (100.0%) in 8.79 sec. Users per second: 4049\n"
     ]
    },
    {
     "name": "stderr",
     "output_type": "stream",
     "text": [
      "[I 2024-12-09 08:35:47,666] Trial 178 finished with value: 0.05205742790387867 and parameters: {'topK': 33, 'alpha': 0.35899163304423753}. Best is trial 101 with value: 0.054204765117559894.\n"
     ]
    },
    {
     "name": "stdout",
     "output_type": "stream",
     "text": [
      "P3alphaRecommender: Similarity column 38121 (100.0%), 4993.43 column/sec. Elapsed time 7.63 sec\n",
      "EvaluatorHoldout: Processed 35572 (100.0%) in 8.44 sec. Users per second: 4213\n"
     ]
    },
    {
     "name": "stderr",
     "output_type": "stream",
     "text": [
      "[I 2024-12-09 08:36:04,063] Trial 179 finished with value: 0.05409693440890555 and parameters: {'topK': 14, 'alpha': 0.3573117624266597}. Best is trial 101 with value: 0.054204765117559894.\n"
     ]
    },
    {
     "name": "stdout",
     "output_type": "stream",
     "text": [
      "P3alphaRecommender: Similarity column 38121 (100.0%), 4916.22 column/sec. Elapsed time 7.75 sec\n",
      "EvaluatorHoldout: Processed 35572 (100.0%) in 8.65 sec. Users per second: 4113\n"
     ]
    },
    {
     "name": "stderr",
     "output_type": "stream",
     "text": [
      "[I 2024-12-09 08:36:20,866] Trial 180 finished with value: 0.053182970956288156 and parameters: {'topK': 24, 'alpha': 0.3609025738559346}. Best is trial 101 with value: 0.054204765117559894.\n"
     ]
    },
    {
     "name": "stdout",
     "output_type": "stream",
     "text": [
      "P3alphaRecommender: Similarity column 38121 (100.0%), 5023.44 column/sec. Elapsed time 7.59 sec\n",
      "EvaluatorHoldout: Processed 35572 (100.0%) in 8.37 sec. Users per second: 4252\n"
     ]
    },
    {
     "name": "stderr",
     "output_type": "stream",
     "text": [
      "[I 2024-12-09 08:36:37,091] Trial 181 finished with value: 0.0532853075541828 and parameters: {'topK': 8, 'alpha': 0.3547920382310922}. Best is trial 101 with value: 0.054204765117559894.\n"
     ]
    },
    {
     "name": "stdout",
     "output_type": "stream",
     "text": [
      "P3alphaRecommender: Similarity column 38121 (100.0%), 4931.37 column/sec. Elapsed time 7.73 sec\n",
      "EvaluatorHoldout: Processed 35572 (100.0%) in 8.48 sec. Users per second: 4197\n"
     ]
    },
    {
     "name": "stderr",
     "output_type": "stream",
     "text": [
      "[I 2024-12-09 08:36:53,613] Trial 182 finished with value: 0.054115452629942565 and parameters: {'topK': 14, 'alpha': 0.36384762398529}. Best is trial 101 with value: 0.054204765117559894.\n"
     ]
    },
    {
     "name": "stdout",
     "output_type": "stream",
     "text": [
      "P3alphaRecommender: Similarity column 38121 (100.0%), 4920.49 column/sec. Elapsed time 7.75 sec\n",
      "EvaluatorHoldout: Processed 35572 (100.0%) in 8.44 sec. Users per second: 4215\n"
     ]
    },
    {
     "name": "stderr",
     "output_type": "stream",
     "text": [
      "[I 2024-12-09 08:37:10,127] Trial 183 finished with value: 0.05405208350066488 and parameters: {'topK': 15, 'alpha': 0.36242127503746313}. Best is trial 101 with value: 0.054204765117559894.\n"
     ]
    },
    {
     "name": "stdout",
     "output_type": "stream",
     "text": [
      "P3alphaRecommender: Similarity column 38121 (100.0%), 3777.68 column/sec. Elapsed time 10.09 sec\n",
      "EvaluatorHoldout: Processed 35572 (100.0%) in 11.09 sec. Users per second: 3206\n"
     ]
    },
    {
     "name": "stderr",
     "output_type": "stream",
     "text": [
      "[I 2024-12-09 08:37:33,451] Trial 184 finished with value: 0.04347938966620616 and parameters: {'topK': 193, 'alpha': 0.3638654710442965}. Best is trial 101 with value: 0.054204765117559894.\n"
     ]
    },
    {
     "name": "stdout",
     "output_type": "stream",
     "text": [
      "P3alphaRecommender: Similarity column 38121 (100.0%), 2417.77 column/sec. Elapsed time 15.77 sec\n",
      "EvaluatorHoldout: Processed 35572 (100.0%) in 8.16 sec. Users per second: 4357\n"
     ]
    },
    {
     "name": "stderr",
     "output_type": "stream",
     "text": [
      "[I 2024-12-09 08:37:57,600] Trial 185 finished with value: 0.036950555457385306 and parameters: {'topK': 2, 'alpha': 0.35775802448232313}. Best is trial 101 with value: 0.054204765117559894.\n"
     ]
    },
    {
     "name": "stdout",
     "output_type": "stream",
     "text": [
      "P3alphaRecommender: Similarity column 38121 (100.0%), 4927.20 column/sec. Elapsed time 7.74 sec\n",
      "EvaluatorHoldout: Processed 35572 (100.0%) in 8.67 sec. Users per second: 4103\n"
     ]
    },
    {
     "name": "stderr",
     "output_type": "stream",
     "text": [
      "[I 2024-12-09 08:38:14,428] Trial 186 finished with value: 0.05286129495465312 and parameters: {'topK': 26, 'alpha': 0.3655961758002572}. Best is trial 101 with value: 0.054204765117559894.\n"
     ]
    },
    {
     "name": "stdout",
     "output_type": "stream",
     "text": [
      "P3alphaRecommender: Similarity column 38121 (100.0%), 5016.55 column/sec. Elapsed time 7.60 sec\n",
      "EvaluatorHoldout: Processed 35572 (100.0%) in 8.47 sec. Users per second: 4201\n"
     ]
    },
    {
     "name": "stderr",
     "output_type": "stream",
     "text": [
      "[I 2024-12-09 08:38:30,821] Trial 187 finished with value: 0.05403735928382948 and parameters: {'topK': 15, 'alpha': 0.3646586105865562}. Best is trial 101 with value: 0.054204765117559894.\n"
     ]
    },
    {
     "name": "stdout",
     "output_type": "stream",
     "text": [
      "P3alphaRecommender: Similarity column 38121 (100.0%), 4748.01 column/sec. Elapsed time 8.03 sec\n",
      "EvaluatorHoldout: Processed 35572 (100.0%) in 8.83 sec. Users per second: 4030\n"
     ]
    },
    {
     "name": "stderr",
     "output_type": "stream",
     "text": [
      "[I 2024-12-09 08:38:48,187] Trial 188 finished with value: 0.05188040151965244 and parameters: {'topK': 36, 'alpha': 0.35592174030450563}. Best is trial 101 with value: 0.054204765117559894.\n"
     ]
    },
    {
     "name": "stdout",
     "output_type": "stream",
     "text": [
      "P3alphaRecommender: Similarity column 38121 (100.0%), 2416.58 column/sec. Elapsed time 15.77 sec\n",
      "EvaluatorHoldout: Processed 35572 (100.0%) in 8.20 sec. Users per second: 4340\n"
     ]
    },
    {
     "name": "stderr",
     "output_type": "stream",
     "text": [
      "[I 2024-12-09 08:39:12,377] Trial 189 finished with value: 0.03695933041682371 and parameters: {'topK': 2, 'alpha': 0.35986856128202893}. Best is trial 101 with value: 0.054204765117559894.\n"
     ]
    },
    {
     "name": "stdout",
     "output_type": "stream",
     "text": [
      "P3alphaRecommender: Similarity column 38121 (100.0%), 4945.16 column/sec. Elapsed time 7.71 sec\n",
      "EvaluatorHoldout: Processed 35572 (100.0%) in 8.56 sec. Users per second: 4154\n"
     ]
    },
    {
     "name": "stderr",
     "output_type": "stream",
     "text": [
      "[I 2024-12-09 08:39:29,027] Trial 190 finished with value: 0.05354384534652554 and parameters: {'topK': 21, 'alpha': 0.3629701546304127}. Best is trial 101 with value: 0.054204765117559894.\n"
     ]
    },
    {
     "name": "stdout",
     "output_type": "stream",
     "text": [
      "P3alphaRecommender: Similarity column 38121 (100.0%), 5033.19 column/sec. Elapsed time 7.57 sec\n",
      "EvaluatorHoldout: Processed 35572 (100.0%) in 8.44 sec. Users per second: 4217\n"
     ]
    },
    {
     "name": "stderr",
     "output_type": "stream",
     "text": [
      "[I 2024-12-09 08:39:45,334] Trial 191 finished with value: 0.05412391188717865 and parameters: {'topK': 11, 'alpha': 0.35352050079422737}. Best is trial 101 with value: 0.054204765117559894.\n"
     ]
    },
    {
     "name": "stdout",
     "output_type": "stream",
     "text": [
      "P3alphaRecommender: Similarity column 38121 (100.0%), 5031.19 column/sec. Elapsed time 7.58 sec\n",
      "EvaluatorHoldout: Processed 35572 (100.0%) in 8.40 sec. Users per second: 4234\n"
     ]
    },
    {
     "name": "stderr",
     "output_type": "stream",
     "text": [
      "[I 2024-12-09 08:40:01,623] Trial 192 finished with value: 0.054186040518758374 and parameters: {'topK': 13, 'alpha': 0.3541449891530897}. Best is trial 101 with value: 0.054204765117559894.\n"
     ]
    },
    {
     "name": "stdout",
     "output_type": "stream",
     "text": [
      "P3alphaRecommender: Similarity column 38121 (100.0%), 5019.32 column/sec. Elapsed time 7.59 sec\n",
      "EvaluatorHoldout: Processed 35572 (100.0%) in 8.46 sec. Users per second: 4204\n"
     ]
    },
    {
     "name": "stderr",
     "output_type": "stream",
     "text": [
      "[I 2024-12-09 08:40:18,000] Trial 193 finished with value: 0.054106375354968095 and parameters: {'topK': 14, 'alpha': 0.353566782564365}. Best is trial 101 with value: 0.054204765117559894.\n"
     ]
    },
    {
     "name": "stdout",
     "output_type": "stream",
     "text": [
      "P3alphaRecommender: Similarity column 38121 (100.0%), 4900.87 column/sec. Elapsed time 7.78 sec\n",
      "EvaluatorHoldout: Processed 35572 (100.0%) in 8.69 sec. Users per second: 4095\n"
     ]
    },
    {
     "name": "stderr",
     "output_type": "stream",
     "text": [
      "[I 2024-12-09 08:40:34,893] Trial 194 finished with value: 0.05274475175766758 and parameters: {'topK': 27, 'alpha': 0.35484716973163133}. Best is trial 101 with value: 0.054204765117559894.\n"
     ]
    },
    {
     "name": "stdout",
     "output_type": "stream",
     "text": [
      "P3alphaRecommender: Similarity column 38121 (100.0%), 5020.73 column/sec. Elapsed time 7.59 sec\n",
      "EvaluatorHoldout: Processed 35572 (100.0%) in 8.33 sec. Users per second: 4268\n"
     ]
    },
    {
     "name": "stderr",
     "output_type": "stream",
     "text": [
      "[I 2024-12-09 08:40:51,092] Trial 195 finished with value: 0.05327722981692198 and parameters: {'topK': 8, 'alpha': 0.3540295662643966}. Best is trial 101 with value: 0.054204765117559894.\n"
     ]
    },
    {
     "name": "stdout",
     "output_type": "stream",
     "text": [
      "P3alphaRecommender: Similarity column 38121 (100.0%), 4902.58 column/sec. Elapsed time 7.78 sec\n",
      "EvaluatorHoldout: Processed 35572 (100.0%) in 8.51 sec. Users per second: 4179\n"
     ]
    },
    {
     "name": "stderr",
     "output_type": "stream",
     "text": [
      "[I 2024-12-09 08:41:07,729] Trial 196 finished with value: 0.05391132717189554 and parameters: {'topK': 18, 'alpha': 0.3527039124861049}. Best is trial 101 with value: 0.054204765117559894.\n"
     ]
    },
    {
     "name": "stdout",
     "output_type": "stream",
     "text": [
      "P3alphaRecommender: Similarity column 38121 (100.0%), 4981.76 column/sec. Elapsed time 7.65 sec\n",
      "EvaluatorHoldout: Processed 35572 (100.0%) in 8.33 sec. Users per second: 4269\n"
     ]
    },
    {
     "name": "stderr",
     "output_type": "stream",
     "text": [
      "[I 2024-12-09 08:41:23,995] Trial 197 finished with value: 0.053599240485202156 and parameters: {'topK': 9, 'alpha': 0.3554967620611973}. Best is trial 101 with value: 0.054204765117559894.\n"
     ]
    },
    {
     "name": "stdout",
     "output_type": "stream",
     "text": [
      "P3alphaRecommender: Similarity column 38121 (100.0%), 4860.59 column/sec. Elapsed time 7.84 sec\n",
      "EvaluatorHoldout: Processed 35572 (100.0%) in 8.60 sec. Users per second: 4135\n"
     ]
    },
    {
     "name": "stderr",
     "output_type": "stream",
     "text": [
      "[I 2024-12-09 08:41:40,838] Trial 198 finished with value: 0.053326532907100266 and parameters: {'topK': 23, 'alpha': 0.3567488264589302}. Best is trial 101 with value: 0.054204765117559894.\n"
     ]
    },
    {
     "name": "stdout",
     "output_type": "stream",
     "text": [
      "P3alphaRecommender: Similarity column 38121 (100.0%), 2417.79 column/sec. Elapsed time 15.77 sec\n",
      "EvaluatorHoldout: Processed 35572 (100.0%) in 8.18 sec. Users per second: 4348\n"
     ]
    },
    {
     "name": "stderr",
     "output_type": "stream",
     "text": [
      "[I 2024-12-09 08:42:05,004] Trial 199 finished with value: 0.036908023788996235 and parameters: {'topK': 2, 'alpha': 0.3544306437508774}. Best is trial 101 with value: 0.054204765117559894.\n"
     ]
    },
    {
     "name": "stdout",
     "output_type": "stream",
     "text": [
      "P3alphaRecommender: Similarity column 38121 (100.0%), 4825.34 column/sec. Elapsed time 7.90 sec\n",
      "EvaluatorHoldout: Processed 35572 (100.0%) in 8.74 sec. Users per second: 4071\n"
     ]
    },
    {
     "name": "stderr",
     "output_type": "stream",
     "text": [
      "[I 2024-12-09 08:42:22,115] Trial 200 finished with value: 0.05215975780844061 and parameters: {'topK': 32, 'alpha': 0.35331705359513416}. Best is trial 101 with value: 0.054204765117559894.\n"
     ]
    },
    {
     "name": "stdout",
     "output_type": "stream",
     "text": [
      "P3alphaRecommender: Similarity column 38121 (100.0%), 3579.43 column/sec. Elapsed time 10.65 sec\n",
      "EvaluatorHoldout: Processed 35572 (100.0%) in 11.51 sec. Users per second: 3092\n"
     ]
    },
    {
     "name": "stderr",
     "output_type": "stream",
     "text": [
      "[I 2024-12-09 08:42:46,770] Trial 201 finished with value: 0.04244525188350239 and parameters: {'topK': 226, 'alpha': 0.3534252752138857}. Best is trial 101 with value: 0.054204765117559894.\n"
     ]
    },
    {
     "name": "stdout",
     "output_type": "stream",
     "text": [
      "P3alphaRecommender: Similarity column 38121 (100.0%), 5028.68 column/sec. Elapsed time 7.58 sec\n",
      "EvaluatorHoldout: Processed 35572 (100.0%) in 8.44 sec. Users per second: 4216\n"
     ]
    },
    {
     "name": "stderr",
     "output_type": "stream",
     "text": [
      "[I 2024-12-09 08:43:03,107] Trial 202 finished with value: 0.05411548051882981 and parameters: {'topK': 14, 'alpha': 0.35234405079809356}. Best is trial 101 with value: 0.054204765117559894.\n"
     ]
    },
    {
     "name": "stdout",
     "output_type": "stream",
     "text": [
      "P3alphaRecommender: Similarity column 38121 (100.0%), 4988.01 column/sec. Elapsed time 7.64 sec\n",
      "EvaluatorHoldout: Processed 35572 (100.0%) in 8.44 sec. Users per second: 4214\n"
     ]
    },
    {
     "name": "stderr",
     "output_type": "stream",
     "text": [
      "[I 2024-12-09 08:43:19,516] Trial 203 finished with value: 0.05404897890975247 and parameters: {'topK': 15, 'alpha': 0.35234759788314046}. Best is trial 101 with value: 0.054204765117559894.\n"
     ]
    },
    {
     "name": "stdout",
     "output_type": "stream",
     "text": [
      "P3alphaRecommender: Similarity column 38121 (100.0%), 4953.75 column/sec. Elapsed time 7.70 sec\n",
      "EvaluatorHoldout: Processed 35572 (100.0%) in 8.57 sec. Users per second: 4150\n"
     ]
    },
    {
     "name": "stderr",
     "output_type": "stream",
     "text": [
      "[I 2024-12-09 08:43:36,140] Trial 204 finished with value: 0.05378637603322565 and parameters: {'topK': 19, 'alpha': 0.35586804421881607}. Best is trial 101 with value: 0.054204765117559894.\n"
     ]
    },
    {
     "name": "stdout",
     "output_type": "stream",
     "text": [
      "P3alphaRecommender: Similarity column 38121 (100.0%), 5015.17 column/sec. Elapsed time 7.60 sec\n",
      "EvaluatorHoldout: Processed 35572 (100.0%) in 8.37 sec. Users per second: 4249\n"
     ]
    },
    {
     "name": "stderr",
     "output_type": "stream",
     "text": [
      "[I 2024-12-09 08:43:52,391] Trial 205 finished with value: 0.05363125692759753 and parameters: {'topK': 9, 'alpha': 0.3505831884976996}. Best is trial 101 with value: 0.054204765117559894.\n"
     ]
    },
    {
     "name": "stdout",
     "output_type": "stream",
     "text": [
      "P3alphaRecommender: Similarity column 38121 (100.0%), 4857.85 column/sec. Elapsed time 7.85 sec\n",
      "EvaluatorHoldout: Processed 35572 (100.0%) in 8.58 sec. Users per second: 4145\n"
     ]
    },
    {
     "name": "stderr",
     "output_type": "stream",
     "text": [
      "[I 2024-12-09 08:44:09,224] Trial 206 finished with value: 0.053326509480435144 and parameters: {'topK': 23, 'alpha': 0.3545700651383398}. Best is trial 101 with value: 0.054204765117559894.\n"
     ]
    },
    {
     "name": "stdout",
     "output_type": "stream",
     "text": [
      "P3alphaRecommender: Similarity column 38121 (100.0%), 4937.78 column/sec. Elapsed time 7.72 sec\n",
      "EvaluatorHoldout: Processed 35572 (100.0%) in 8.50 sec. Users per second: 4187\n"
     ]
    },
    {
     "name": "stderr",
     "output_type": "stream",
     "text": [
      "[I 2024-12-09 08:44:25,761] Trial 207 finished with value: 0.054116660776532065 and parameters: {'topK': 14, 'alpha': 0.3523077256379388}. Best is trial 101 with value: 0.054204765117559894.\n"
     ]
    },
    {
     "name": "stdout",
     "output_type": "stream",
     "text": [
      "P3alphaRecommender: Similarity column 38121 (100.0%), 5008.61 column/sec. Elapsed time 7.61 sec\n",
      "EvaluatorHoldout: Processed 35572 (100.0%) in 8.44 sec. Users per second: 4215\n"
     ]
    },
    {
     "name": "stderr",
     "output_type": "stream",
     "text": [
      "[I 2024-12-09 08:44:42,129] Trial 208 finished with value: 0.05411412511891658 and parameters: {'topK': 14, 'alpha': 0.3517734155430389}. Best is trial 101 with value: 0.054204765117559894.\n"
     ]
    },
    {
     "name": "stdout",
     "output_type": "stream",
     "text": [
      "P3alphaRecommender: Similarity column 38121 (100.0%), 4812.21 column/sec. Elapsed time 7.92 sec\n",
      "EvaluatorHoldout: Processed 35572 (100.0%) in 8.70 sec. Users per second: 4089\n"
     ]
    },
    {
     "name": "stderr",
     "output_type": "stream",
     "text": [
      "[I 2024-12-09 08:44:59,188] Trial 209 finished with value: 0.05273214263402998 and parameters: {'topK': 28, 'alpha': 0.3516635586722544}. Best is trial 101 with value: 0.054204765117559894.\n"
     ]
    },
    {
     "name": "stdout",
     "output_type": "stream",
     "text": [
      "P3alphaRecommender: Similarity column 38121 (100.0%), 3354.46 column/sec. Elapsed time 11.36 sec\n",
      "EvaluatorHoldout: Processed 35572 (100.0%) in 12.10 sec. Users per second: 2940\n"
     ]
    },
    {
     "name": "stderr",
     "output_type": "stream",
     "text": [
      "[I 2024-12-09 08:45:25,724] Trial 210 finished with value: 0.040965429604877535 and parameters: {'topK': 278, 'alpha': 0.35076625282546187}. Best is trial 101 with value: 0.054204765117559894.\n"
     ]
    },
    {
     "name": "stdout",
     "output_type": "stream",
     "text": [
      "P3alphaRecommender: Similarity column 38121 (100.0%), 5025.01 column/sec. Elapsed time 7.59 sec\n",
      "EvaluatorHoldout: Processed 35572 (100.0%) in 8.46 sec. Users per second: 4206\n"
     ]
    },
    {
     "name": "stderr",
     "output_type": "stream",
     "text": [
      "[I 2024-12-09 08:45:42,088] Trial 211 finished with value: 0.05413310071770212 and parameters: {'topK': 14, 'alpha': 0.35007403071983895}. Best is trial 101 with value: 0.054204765117559894.\n"
     ]
    },
    {
     "name": "stdout",
     "output_type": "stream",
     "text": [
      "P3alphaRecommender: Similarity column 38121 (100.0%), 4998.55 column/sec. Elapsed time 7.63 sec\n",
      "EvaluatorHoldout: Processed 35572 (100.0%) in 8.51 sec. Users per second: 4178\n"
     ]
    },
    {
     "name": "stderr",
     "output_type": "stream",
     "text": [
      "[I 2024-12-09 08:45:58,570] Trial 212 finished with value: 0.05390328401685474 and parameters: {'topK': 17, 'alpha': 0.35189020559915396}. Best is trial 101 with value: 0.054204765117559894.\n"
     ]
    },
    {
     "name": "stdout",
     "output_type": "stream",
     "text": [
      "P3alphaRecommender: Similarity column 38121 (100.0%), 2417.35 column/sec. Elapsed time 15.77 sec\n",
      "EvaluatorHoldout: Processed 35572 (100.0%) in 8.17 sec. Users per second: 4353\n"
     ]
    },
    {
     "name": "stderr",
     "output_type": "stream",
     "text": [
      "[I 2024-12-09 08:46:22,733] Trial 213 finished with value: 0.03689616208753316 and parameters: {'topK': 2, 'alpha': 0.35016042436666134}. Best is trial 101 with value: 0.054204765117559894.\n"
     ]
    },
    {
     "name": "stdout",
     "output_type": "stream",
     "text": [
      "P3alphaRecommender: Similarity column 38121 (100.0%), 4968.01 column/sec. Elapsed time 7.67 sec\n",
      "EvaluatorHoldout: Processed 35572 (100.0%) in 8.39 sec. Users per second: 4239\n"
     ]
    },
    {
     "name": "stderr",
     "output_type": "stream",
     "text": [
      "[I 2024-12-09 08:46:39,104] Trial 214 finished with value: 0.05415897825826803 and parameters: {'topK': 12, 'alpha': 0.35091119902353024}. Best is trial 101 with value: 0.054204765117559894.\n"
     ]
    },
    {
     "name": "stdout",
     "output_type": "stream",
     "text": [
      "P3alphaRecommender: Similarity column 38121 (100.0%), 4973.32 column/sec. Elapsed time 7.67 sec\n",
      "EvaluatorHoldout: Processed 35572 (100.0%) in 8.34 sec. Users per second: 4268\n"
     ]
    },
    {
     "name": "stderr",
     "output_type": "stream",
     "text": [
      "[I 2024-12-09 08:46:55,383] Trial 215 finished with value: 0.05361432725756993 and parameters: {'topK': 9, 'alpha': 0.3507973304622615}. Best is trial 101 with value: 0.054204765117559894.\n"
     ]
    },
    {
     "name": "stdout",
     "output_type": "stream",
     "text": [
      "P3alphaRecommender: Similarity column 38121 (100.0%), 4863.76 column/sec. Elapsed time 7.84 sec\n",
      "EvaluatorHoldout: Processed 35572 (100.0%) in 8.60 sec. Users per second: 4135\n"
     ]
    },
    {
     "name": "stderr",
     "output_type": "stream",
     "text": [
      "[I 2024-12-09 08:47:12,211] Trial 216 finished with value: 0.05335883270058847 and parameters: {'topK': 22, 'alpha': 0.3502775715800654}. Best is trial 101 with value: 0.054204765117559894.\n"
     ]
    },
    {
     "name": "stdout",
     "output_type": "stream",
     "text": [
      "P3alphaRecommender: Similarity column 38121 (100.0%), 5019.45 column/sec. Elapsed time 7.59 sec\n",
      "EvaluatorHoldout: Processed 35572 (100.0%) in 8.43 sec. Users per second: 4221\n"
     ]
    },
    {
     "name": "stderr",
     "output_type": "stream",
     "text": [
      "[I 2024-12-09 08:47:28,550] Trial 217 finished with value: 0.0541799484702594 and parameters: {'topK': 13, 'alpha': 0.35256503174508064}. Best is trial 101 with value: 0.054204765117559894.\n"
     ]
    },
    {
     "name": "stdout",
     "output_type": "stream",
     "text": [
      "P3alphaRecommender: Similarity column 38121 (100.0%), 4897.40 column/sec. Elapsed time 7.78 sec\n",
      "EvaluatorHoldout: Processed 35572 (100.0%) in 8.72 sec. Users per second: 4079\n"
     ]
    },
    {
     "name": "stderr",
     "output_type": "stream",
     "text": [
      "[I 2024-12-09 08:47:45,501] Trial 218 finished with value: 0.05258364323464523 and parameters: {'topK': 29, 'alpha': 0.35222894838045304}. Best is trial 101 with value: 0.054204765117559894.\n"
     ]
    },
    {
     "name": "stdout",
     "output_type": "stream",
     "text": [
      "P3alphaRecommender: Similarity column 38121 (100.0%), 4993.15 column/sec. Elapsed time 7.63 sec\n",
      "EvaluatorHoldout: Processed 35572 (100.0%) in 8.35 sec. Users per second: 4259\n"
     ]
    },
    {
     "name": "stderr",
     "output_type": "stream",
     "text": [
      "[I 2024-12-09 08:48:01,769] Trial 219 finished with value: 0.05360947012899193 and parameters: {'topK': 9, 'alpha': 0.35300266611837056}. Best is trial 101 with value: 0.054204765117559894.\n"
     ]
    },
    {
     "name": "stdout",
     "output_type": "stream",
     "text": [
      "P3alphaRecommender: Similarity column 38121 (100.0%), 2411.17 column/sec. Elapsed time 15.81 sec\n",
      "EvaluatorHoldout: Processed 35572 (100.0%) in 8.18 sec. Users per second: 4350\n"
     ]
    },
    {
     "name": "stderr",
     "output_type": "stream",
     "text": [
      "[I 2024-12-09 08:48:25,974] Trial 220 finished with value: 0.03689510900315611 and parameters: {'topK': 2, 'alpha': 0.35002849006920544}. Best is trial 101 with value: 0.054204765117559894.\n"
     ]
    },
    {
     "name": "stdout",
     "output_type": "stream",
     "text": [
      "P3alphaRecommender: Similarity column 38121 (100.0%), 4991.57 column/sec. Elapsed time 7.64 sec\n",
      "EvaluatorHoldout: Processed 35572 (100.0%) in 8.49 sec. Users per second: 4189\n"
     ]
    },
    {
     "name": "stderr",
     "output_type": "stream",
     "text": [
      "[I 2024-12-09 08:48:42,453] Trial 221 finished with value: 0.053878855582862616 and parameters: {'topK': 18, 'alpha': 0.35107016816881215}. Best is trial 101 with value: 0.054204765117559894.\n"
     ]
    },
    {
     "name": "stdout",
     "output_type": "stream",
     "text": [
      "P3alphaRecommender: Similarity column 38121 (100.0%), 5033.07 column/sec. Elapsed time 7.57 sec\n",
      "EvaluatorHoldout: Processed 35572 (100.0%) in 8.45 sec. Users per second: 4210\n"
     ]
    },
    {
     "name": "stderr",
     "output_type": "stream",
     "text": [
      "[I 2024-12-09 08:48:58,794] Trial 222 finished with value: 0.05411303299009757 and parameters: {'topK': 14, 'alpha': 0.3524615065102829}. Best is trial 101 with value: 0.054204765117559894.\n"
     ]
    },
    {
     "name": "stdout",
     "output_type": "stream",
     "text": [
      "P3alphaRecommender: Similarity column 38121 (100.0%), 5058.85 column/sec. Elapsed time 7.54 sec\n",
      "EvaluatorHoldout: Processed 35572 (100.0%) in 8.33 sec. Users per second: 4271\n"
     ]
    },
    {
     "name": "stderr",
     "output_type": "stream",
     "text": [
      "[I 2024-12-09 08:49:14,938] Trial 223 finished with value: 0.053616669924086695 and parameters: {'topK': 9, 'alpha': 0.35400675984110896}. Best is trial 101 with value: 0.054204765117559894.\n"
     ]
    },
    {
     "name": "stdout",
     "output_type": "stream",
     "text": [
      "P3alphaRecommender: Similarity column 38121 (100.0%), 4859.77 column/sec. Elapsed time 7.84 sec\n",
      "EvaluatorHoldout: Processed 35572 (100.0%) in 8.58 sec. Users per second: 4145\n"
     ]
    },
    {
     "name": "stderr",
     "output_type": "stream",
     "text": [
      "[I 2024-12-09 08:49:31,752] Trial 224 finished with value: 0.05339194573402473 and parameters: {'topK': 22, 'alpha': 0.35503593764388225}. Best is trial 101 with value: 0.054204765117559894.\n"
     ]
    },
    {
     "name": "stdout",
     "output_type": "stream",
     "text": [
      "P3alphaRecommender: Similarity column 38121 (100.0%), 4981.27 column/sec. Elapsed time 7.65 sec\n",
      "EvaluatorHoldout: Processed 35572 (100.0%) in 8.53 sec. Users per second: 4172\n"
     ]
    },
    {
     "name": "stderr",
     "output_type": "stream",
     "text": [
      "[I 2024-12-09 08:49:48,265] Trial 225 finished with value: 0.053942991098757886 and parameters: {'topK': 16, 'alpha': 0.3535529938037457}. Best is trial 101 with value: 0.054204765117559894.\n"
     ]
    },
    {
     "name": "stdout",
     "output_type": "stream",
     "text": [
      "P3alphaRecommender: Similarity column 38121 (100.0%), 5053.78 column/sec. Elapsed time 7.54 sec\n",
      "EvaluatorHoldout: Processed 35572 (100.0%) in 8.36 sec. Users per second: 4256\n"
     ]
    },
    {
     "name": "stderr",
     "output_type": "stream",
     "text": [
      "[I 2024-12-09 08:50:04,445] Trial 226 finished with value: 0.053599035222993086 and parameters: {'topK': 9, 'alpha': 0.35642679733724325}. Best is trial 101 with value: 0.054204765117559894.\n"
     ]
    },
    {
     "name": "stdout",
     "output_type": "stream",
     "text": [
      "P3alphaRecommender: Similarity column 38121 (100.0%), 4879.85 column/sec. Elapsed time 7.81 sec\n",
      "EvaluatorHoldout: Processed 35572 (100.0%) in 8.65 sec. Users per second: 4114\n"
     ]
    },
    {
     "name": "stderr",
     "output_type": "stream",
     "text": [
      "[I 2024-12-09 08:50:21,323] Trial 227 finished with value: 0.05289202850824167 and parameters: {'topK': 26, 'alpha': 0.35132398415324556}. Best is trial 101 with value: 0.054204765117559894.\n"
     ]
    },
    {
     "name": "stdout",
     "output_type": "stream",
     "text": [
      "P3alphaRecommender: Similarity column 38121 (100.0%), 2410.84 column/sec. Elapsed time 15.81 sec\n",
      "EvaluatorHoldout: Processed 35572 (100.0%) in 8.17 sec. Users per second: 4353\n"
     ]
    },
    {
     "name": "stderr",
     "output_type": "stream",
     "text": [
      "[I 2024-12-09 08:50:45,527] Trial 228 finished with value: 0.036914989317439334 and parameters: {'topK': 2, 'alpha': 0.3526927970090294}. Best is trial 101 with value: 0.054204765117559894.\n"
     ]
    },
    {
     "name": "stdout",
     "output_type": "stream",
     "text": [
      "P3alphaRecommender: Similarity column 38121 (100.0%), 4802.14 column/sec. Elapsed time 7.94 sec\n",
      "EvaluatorHoldout: Processed 35572 (100.0%) in 8.87 sec. Users per second: 4009\n"
     ]
    },
    {
     "name": "stderr",
     "output_type": "stream",
     "text": [
      "[I 2024-12-09 08:51:02,864] Trial 229 finished with value: 0.05160593471055169 and parameters: {'topK': 38, 'alpha': 0.35530451194449725}. Best is trial 101 with value: 0.054204765117559894.\n"
     ]
    },
    {
     "name": "stdout",
     "output_type": "stream",
     "text": [
      "P3alphaRecommender: Similarity column 38121 (100.0%), 4977.30 column/sec. Elapsed time 7.66 sec\n",
      "EvaluatorHoldout: Processed 35572 (100.0%) in 8.49 sec. Users per second: 4188\n"
     ]
    },
    {
     "name": "stderr",
     "output_type": "stream",
     "text": [
      "[I 2024-12-09 08:51:19,359] Trial 230 finished with value: 0.05392224176675254 and parameters: {'topK': 17, 'alpha': 0.35385606333845504}. Best is trial 101 with value: 0.054204765117559894.\n"
     ]
    },
    {
     "name": "stdout",
     "output_type": "stream",
     "text": [
      "P3alphaRecommender: Similarity column 38121 (100.0%), 5027.35 column/sec. Elapsed time 7.58 sec\n",
      "EvaluatorHoldout: Processed 35572 (100.0%) in 8.36 sec. Users per second: 4254\n"
     ]
    },
    {
     "name": "stderr",
     "output_type": "stream",
     "text": [
      "[I 2024-12-09 08:51:35,600] Trial 231 finished with value: 0.05410179823081612 and parameters: {'topK': 11, 'alpha': 0.35162605069561814}. Best is trial 101 with value: 0.054204765117559894.\n"
     ]
    },
    {
     "name": "stdout",
     "output_type": "stream",
     "text": [
      "P3alphaRecommender: Similarity column 38121 (100.0%), 4961.33 column/sec. Elapsed time 7.68 sec\n",
      "EvaluatorHoldout: Processed 35572 (100.0%) in 8.45 sec. Users per second: 4211\n"
     ]
    },
    {
     "name": "stderr",
     "output_type": "stream",
     "text": [
      "[I 2024-12-09 08:51:52,057] Trial 232 finished with value: 0.054049437403056476 and parameters: {'topK': 15, 'alpha': 0.3520968286577867}. Best is trial 101 with value: 0.054204765117559894.\n"
     ]
    },
    {
     "name": "stdout",
     "output_type": "stream",
     "text": [
      "P3alphaRecommender: Similarity column 38121 (100.0%), 4909.25 column/sec. Elapsed time 7.77 sec\n",
      "EvaluatorHoldout: Processed 35572 (100.0%) in 8.54 sec. Users per second: 4166\n"
     ]
    },
    {
     "name": "stderr",
     "output_type": "stream",
     "text": [
      "[I 2024-12-09 08:52:08,730] Trial 233 finished with value: 0.053725532521564145 and parameters: {'topK': 20, 'alpha': 0.35116708429219895}. Best is trial 101 with value: 0.054204765117559894.\n"
     ]
    },
    {
     "name": "stdout",
     "output_type": "stream",
     "text": [
      "P3alphaRecommender: Similarity column 38121 (100.0%), 5002.78 column/sec. Elapsed time 7.62 sec\n",
      "EvaluatorHoldout: Processed 35572 (100.0%) in 8.32 sec. Users per second: 4273\n"
     ]
    },
    {
     "name": "stderr",
     "output_type": "stream",
     "text": [
      "[I 2024-12-09 08:52:24,946] Trial 234 finished with value: 0.0532718416839335 and parameters: {'topK': 8, 'alpha': 0.3532354213644862}. Best is trial 101 with value: 0.054204765117559894.\n"
     ]
    },
    {
     "name": "stdout",
     "output_type": "stream",
     "text": [
      "P3alphaRecommender: Similarity column 38121 (100.0%), 4817.52 column/sec. Elapsed time 7.91 sec\n",
      "EvaluatorHoldout: Processed 35572 (100.0%) in 8.67 sec. Users per second: 4102\n"
     ]
    },
    {
     "name": "stderr",
     "output_type": "stream",
     "text": [
      "[I 2024-12-09 08:52:41,948] Trial 235 finished with value: 0.05289117622385178 and parameters: {'topK': 26, 'alpha': 0.3520970072855211}. Best is trial 101 with value: 0.054204765117559894.\n"
     ]
    },
    {
     "name": "stdout",
     "output_type": "stream",
     "text": [
      "P3alphaRecommender: Similarity column 38121 (100.0%), 5026.24 column/sec. Elapsed time 7.58 sec\n",
      "EvaluatorHoldout: Processed 35572 (100.0%) in 8.49 sec. Users per second: 4190\n"
     ]
    },
    {
     "name": "stderr",
     "output_type": "stream",
     "text": [
      "[I 2024-12-09 08:52:58,340] Trial 236 finished with value: 0.05410367794180738 and parameters: {'topK': 14, 'alpha': 0.35428120071653874}. Best is trial 101 with value: 0.054204765117559894.\n"
     ]
    },
    {
     "name": "stdout",
     "output_type": "stream",
     "text": [
      "P3alphaRecommender: Similarity column 38121 (100.0%), 5079.62 column/sec. Elapsed time 7.50 sec\n",
      "EvaluatorHoldout: Processed 35572 (100.0%) in 8.36 sec. Users per second: 4255\n"
     ]
    },
    {
     "name": "stderr",
     "output_type": "stream",
     "text": [
      "[I 2024-12-09 08:53:14,484] Trial 237 finished with value: 0.053701430945328595 and parameters: {'topK': 9, 'alpha': 0.37018708533307926}. Best is trial 101 with value: 0.054204765117559894.\n"
     ]
    },
    {
     "name": "stdout",
     "output_type": "stream",
     "text": [
      "P3alphaRecommender: Similarity column 38121 (100.0%), 4881.13 column/sec. Elapsed time 7.81 sec\n",
      "EvaluatorHoldout: Processed 35572 (100.0%) in 8.73 sec. Users per second: 4073\n"
     ]
    },
    {
     "name": "stderr",
     "output_type": "stream",
     "text": [
      "[I 2024-12-09 08:53:31,498] Trial 238 finished with value: 0.052337515997064016 and parameters: {'topK': 31, 'alpha': 0.3618816107568861}. Best is trial 101 with value: 0.054204765117559894.\n"
     ]
    },
    {
     "name": "stdout",
     "output_type": "stream",
     "text": [
      "P3alphaRecommender: Similarity column 38121 (100.0%), 4967.67 column/sec. Elapsed time 7.67 sec\n",
      "EvaluatorHoldout: Processed 35572 (100.0%) in 8.58 sec. Users per second: 4145\n"
     ]
    },
    {
     "name": "stderr",
     "output_type": "stream",
     "text": [
      "[I 2024-12-09 08:53:48,122] Trial 239 finished with value: 0.053715811571075155 and parameters: {'topK': 20, 'alpha': 0.35585848709459594}. Best is trial 101 with value: 0.054204765117559894.\n"
     ]
    },
    {
     "name": "stdout",
     "output_type": "stream",
     "text": [
      "P3alphaRecommender: Similarity column 38121 (100.0%), 5004.65 column/sec. Elapsed time 7.62 sec\n",
      "EvaluatorHoldout: Processed 35572 (100.0%) in 8.43 sec. Users per second: 4218\n"
     ]
    },
    {
     "name": "stderr",
     "output_type": "stream",
     "text": [
      "[I 2024-12-09 08:54:04,496] Trial 240 finished with value: 0.054035675910603854 and parameters: {'topK': 15, 'alpha': 0.3508698059347623}. Best is trial 101 with value: 0.054204765117559894.\n"
     ]
    },
    {
     "name": "stdout",
     "output_type": "stream",
     "text": [
      "P3alphaRecommender: Similarity column 38121 (100.0%), 5033.54 column/sec. Elapsed time 7.57 sec\n",
      "EvaluatorHoldout: Processed 35572 (100.0%) in 8.34 sec. Users per second: 4264\n"
     ]
    },
    {
     "name": "stderr",
     "output_type": "stream",
     "text": [
      "[I 2024-12-09 08:54:20,700] Trial 241 finished with value: 0.053877293805184516 and parameters: {'topK': 10, 'alpha': 0.35265204829155844}. Best is trial 101 with value: 0.054204765117559894.\n"
     ]
    },
    {
     "name": "stdout",
     "output_type": "stream",
     "text": [
      "P3alphaRecommender: Similarity column 38121 (100.0%), 2416.34 column/sec. Elapsed time 15.78 sec\n",
      "EvaluatorHoldout: Processed 35572 (100.0%) in 8.17 sec. Users per second: 4354\n"
     ]
    },
    {
     "name": "stderr",
     "output_type": "stream",
     "text": [
      "[I 2024-12-09 08:54:44,864] Trial 242 finished with value: 0.03690491473586187 and parameters: {'topK': 2, 'alpha': 0.352416229542934}. Best is trial 101 with value: 0.054204765117559894.\n"
     ]
    },
    {
     "name": "stdout",
     "output_type": "stream",
     "text": [
      "P3alphaRecommender: Similarity column 38121 (100.0%), 5015.16 column/sec. Elapsed time 7.60 sec\n",
      "EvaluatorHoldout: Processed 35572 (100.0%) in 8.47 sec. Users per second: 4200\n"
     ]
    },
    {
     "name": "stderr",
     "output_type": "stream",
     "text": [
      "[I 2024-12-09 08:55:01,267] Trial 243 finished with value: 0.053949817182765446 and parameters: {'topK': 16, 'alpha': 0.3516161501772891}. Best is trial 101 with value: 0.054204765117559894.\n"
     ]
    },
    {
     "name": "stdout",
     "output_type": "stream",
     "text": [
      "P3alphaRecommender: Similarity column 38121 (100.0%), 4952.30 column/sec. Elapsed time 7.70 sec\n",
      "EvaluatorHoldout: Processed 35572 (100.0%) in 8.60 sec. Users per second: 4134\n"
     ]
    },
    {
     "name": "stderr",
     "output_type": "stream",
     "text": [
      "[I 2024-12-09 08:55:17,956] Trial 244 finished with value: 0.0533737655262994 and parameters: {'topK': 22, 'alpha': 0.35288239887802664}. Best is trial 101 with value: 0.054204765117559894.\n"
     ]
    },
    {
     "name": "stdout",
     "output_type": "stream",
     "text": [
      "P3alphaRecommender: Similarity column 38121 (100.0%), 4946.64 column/sec. Elapsed time 7.71 sec\n",
      "EvaluatorHoldout: Processed 35572 (100.0%) in 8.42 sec. Users per second: 4225\n"
     ]
    },
    {
     "name": "stderr",
     "output_type": "stream",
     "text": [
      "[I 2024-12-09 08:55:34,393] Trial 245 finished with value: 0.05417757568374459 and parameters: {'topK': 13, 'alpha': 0.3533680417790152}. Best is trial 101 with value: 0.054204765117559894.\n"
     ]
    },
    {
     "name": "stdout",
     "output_type": "stream",
     "text": [
      "P3alphaRecommender: Similarity column 38121 (100.0%), 5060.08 column/sec. Elapsed time 7.53 sec\n",
      "EvaluatorHoldout: Processed 35572 (100.0%) in 8.31 sec. Users per second: 4278\n"
     ]
    },
    {
     "name": "stderr",
     "output_type": "stream",
     "text": [
      "[I 2024-12-09 08:55:50,515] Trial 246 finished with value: 0.053287229656282034 and parameters: {'topK': 8, 'alpha': 0.35484960073115956}. Best is trial 101 with value: 0.054204765117559894.\n"
     ]
    },
    {
     "name": "stdout",
     "output_type": "stream",
     "text": [
      "P3alphaRecommender: Similarity column 38121 (100.0%), 4912.11 column/sec. Elapsed time 7.76 sec\n",
      "EvaluatorHoldout: Processed 35572 (100.0%) in 8.62 sec. Users per second: 4125\n"
     ]
    },
    {
     "name": "stderr",
     "output_type": "stream",
     "text": [
      "[I 2024-12-09 08:56:07,302] Trial 247 finished with value: 0.053162192619840266 and parameters: {'topK': 24, 'alpha': 0.3534707020791868}. Best is trial 101 with value: 0.054204765117559894.\n"
     ]
    },
    {
     "name": "stdout",
     "output_type": "stream",
     "text": [
      "P3alphaRecommender: Similarity column 38121 (100.0%), 2418.58 column/sec. Elapsed time 15.76 sec\n",
      "EvaluatorHoldout: Processed 35572 (100.0%) in 8.21 sec. Users per second: 4335\n"
     ]
    },
    {
     "name": "stderr",
     "output_type": "stream",
     "text": [
      "[I 2024-12-09 08:56:31,486] Trial 248 finished with value: 0.036894781029843775 and parameters: {'topK': 2, 'alpha': 0.35007310948326686}. Best is trial 101 with value: 0.054204765117559894.\n"
     ]
    },
    {
     "name": "stdout",
     "output_type": "stream",
     "text": [
      "P3alphaRecommender: Similarity column 38121 (100.0%), 4953.45 column/sec. Elapsed time 7.70 sec\n",
      "EvaluatorHoldout: Processed 35572 (100.0%) in 8.41 sec. Users per second: 4229\n"
     ]
    },
    {
     "name": "stderr",
     "output_type": "stream",
     "text": [
      "[I 2024-12-09 08:56:47,910] Trial 249 finished with value: 0.05410751879933933 and parameters: {'topK': 14, 'alpha': 0.3543388160220038}. Best is trial 101 with value: 0.054204765117559894.\n"
     ]
    },
    {
     "name": "stdout",
     "output_type": "stream",
     "text": [
      "P3alphaRecommender: Similarity column 38121 (100.0%), 4886.83 column/sec. Elapsed time 7.80 sec\n",
      "EvaluatorHoldout: Processed 35572 (100.0%) in 8.71 sec. Users per second: 4085\n"
     ]
    },
    {
     "name": "stderr",
     "output_type": "stream",
     "text": [
      "[I 2024-12-09 08:57:04,877] Trial 250 finished with value: 0.05249259494269456 and parameters: {'topK': 30, 'alpha': 0.3571022617555279}. Best is trial 101 with value: 0.054204765117559894.\n"
     ]
    },
    {
     "name": "stdout",
     "output_type": "stream",
     "text": [
      "P3alphaRecommender: Similarity column 38121 (100.0%), 3101.82 column/sec. Elapsed time 12.29 sec\n",
      "EvaluatorHoldout: Processed 35572 (100.0%) in 12.82 sec. Users per second: 2776\n"
     ]
    },
    {
     "name": "stderr",
     "output_type": "stream",
     "text": [
      "[I 2024-12-09 08:57:33,839] Trial 251 finished with value: 0.03997931760132187 and parameters: {'topK': 339, 'alpha': 0.3725711886310037}. Best is trial 101 with value: 0.054204765117559894.\n"
     ]
    },
    {
     "name": "stdout",
     "output_type": "stream",
     "text": [
      "P3alphaRecommender: Similarity column 38121 (100.0%), 4975.11 column/sec. Elapsed time 7.66 sec\n",
      "EvaluatorHoldout: Processed 35572 (100.0%) in 8.50 sec. Users per second: 4184\n"
     ]
    },
    {
     "name": "stderr",
     "output_type": "stream",
     "text": [
      "[I 2024-12-09 08:57:50,345] Trial 252 finished with value: 0.05391631482046517 and parameters: {'topK': 17, 'alpha': 0.3554165997037241}. Best is trial 101 with value: 0.054204765117559894.\n"
     ]
    },
    {
     "name": "stdout",
     "output_type": "stream",
     "text": [
      "P3alphaRecommender: Similarity column 38121 (100.0%), 4983.26 column/sec. Elapsed time 7.65 sec\n",
      "EvaluatorHoldout: Processed 35572 (100.0%) in 8.33 sec. Users per second: 4270\n"
     ]
    },
    {
     "name": "stderr",
     "output_type": "stream",
     "text": [
      "[I 2024-12-09 08:58:06,595] Trial 253 finished with value: 0.05327402259490502 and parameters: {'topK': 8, 'alpha': 0.35368616414991616}. Best is trial 101 with value: 0.054204765117559894.\n"
     ]
    },
    {
     "name": "stdout",
     "output_type": "stream",
     "text": [
      "P3alphaRecommender: Similarity column 38121 (100.0%), 4906.12 column/sec. Elapsed time 7.77 sec\n",
      "EvaluatorHoldout: Processed 35572 (100.0%) in 8.55 sec. Users per second: 4159\n"
     ]
    },
    {
     "name": "stderr",
     "output_type": "stream",
     "text": [
      "[I 2024-12-09 08:58:23,307] Trial 254 finished with value: 0.0533991923824499 and parameters: {'topK': 22, 'alpha': 0.35827112674167527}. Best is trial 101 with value: 0.054204765117559894.\n"
     ]
    },
    {
     "name": "stdout",
     "output_type": "stream",
     "text": [
      "P3alphaRecommender: Similarity column 38121 (100.0%), 4957.79 column/sec. Elapsed time 7.69 sec\n",
      "EvaluatorHoldout: Processed 35572 (100.0%) in 8.38 sec. Users per second: 4245\n"
     ]
    },
    {
     "name": "stderr",
     "output_type": "stream",
     "text": [
      "[I 2024-12-09 08:58:39,685] Trial 255 finished with value: 0.05418104840796663 and parameters: {'topK': 12, 'alpha': 0.3515818357359554}. Best is trial 101 with value: 0.054204765117559894.\n"
     ]
    },
    {
     "name": "stdout",
     "output_type": "stream",
     "text": [
      "P3alphaRecommender: Similarity column 38121 (100.0%), 4995.76 column/sec. Elapsed time 7.63 sec\n",
      "EvaluatorHoldout: Processed 35572 (100.0%) in 8.35 sec. Users per second: 4258\n"
     ]
    },
    {
     "name": "stderr",
     "output_type": "stream",
     "text": [
      "[I 2024-12-09 08:58:55,940] Trial 256 finished with value: 0.05328855270508622 and parameters: {'topK': 8, 'alpha': 0.35476622497725274}. Best is trial 101 with value: 0.054204765117559894.\n"
     ]
    },
    {
     "name": "stdout",
     "output_type": "stream",
     "text": [
      "P3alphaRecommender: Similarity column 38121 (100.0%), 4812.07 column/sec. Elapsed time 7.92 sec\n",
      "EvaluatorHoldout: Processed 35572 (100.0%) in 8.67 sec. Users per second: 4104\n"
     ]
    },
    {
     "name": "stderr",
     "output_type": "stream",
     "text": [
      "[I 2024-12-09 08:59:12,958] Trial 257 finished with value: 0.05276248797431024 and parameters: {'topK': 27, 'alpha': 0.3513532105281796}. Best is trial 101 with value: 0.054204765117559894.\n"
     ]
    },
    {
     "name": "stdout",
     "output_type": "stream",
     "text": [
      "P3alphaRecommender: Similarity column 38121 (100.0%), 5008.88 column/sec. Elapsed time 7.61 sec\n",
      "EvaluatorHoldout: Processed 35572 (100.0%) in 8.47 sec. Users per second: 4200\n"
     ]
    },
    {
     "name": "stderr",
     "output_type": "stream",
     "text": [
      "[I 2024-12-09 08:59:29,368] Trial 258 finished with value: 0.05404833300312709 and parameters: {'topK': 15, 'alpha': 0.35609846502475384}. Best is trial 101 with value: 0.054204765117559894.\n"
     ]
    },
    {
     "name": "stdout",
     "output_type": "stream",
     "text": [
      "P3alphaRecommender: Similarity column 38121 (100.0%), 4843.08 column/sec. Elapsed time 7.87 sec\n",
      "EvaluatorHoldout: Processed 35572 (100.0%) in 8.80 sec. Users per second: 4041\n"
     ]
    },
    {
     "name": "stderr",
     "output_type": "stream",
     "text": [
      "[I 2024-12-09 08:59:46,543] Trial 259 finished with value: 0.05193232504966282 and parameters: {'topK': 35, 'alpha': 0.3632690458832952}. Best is trial 101 with value: 0.054204765117559894.\n"
     ]
    },
    {
     "name": "stdout",
     "output_type": "stream",
     "text": [
      "P3alphaRecommender: Similarity column 38121 (100.0%), 5046.95 column/sec. Elapsed time 7.55 sec\n",
      "EvaluatorHoldout: Processed 35572 (100.0%) in 8.37 sec. Users per second: 4252\n"
     ]
    },
    {
     "name": "stderr",
     "output_type": "stream",
     "text": [
      "[I 2024-12-09 09:00:02,736] Trial 260 finished with value: 0.05329541783353575 and parameters: {'topK': 8, 'alpha': 0.3500038202042881}. Best is trial 101 with value: 0.054204765117559894.\n"
     ]
    },
    {
     "name": "stdout",
     "output_type": "stream",
     "text": [
      "P3alphaRecommender: Similarity column 38121 (100.0%), 4969.46 column/sec. Elapsed time 7.67 sec\n",
      "EvaluatorHoldout: Processed 35572 (100.0%) in 8.60 sec. Users per second: 4137\n"
     ]
    },
    {
     "name": "stderr",
     "output_type": "stream",
     "text": [
      "[I 2024-12-09 09:00:19,386] Trial 261 finished with value: 0.05349631264290086 and parameters: {'topK': 21, 'alpha': 0.35298984035527387}. Best is trial 101 with value: 0.054204765117559894.\n"
     ]
    },
    {
     "name": "stdout",
     "output_type": "stream",
     "text": [
      "P3alphaRecommender: Similarity column 38121 (100.0%), 2414.90 column/sec. Elapsed time 15.79 sec\n",
      "EvaluatorHoldout: Processed 35572 (100.0%) in 8.23 sec. Users per second: 4323\n"
     ]
    },
    {
     "name": "stderr",
     "output_type": "stream",
     "text": [
      "[I 2024-12-09 09:00:43,621] Trial 262 finished with value: 0.036916680499553316 and parameters: {'topK': 2, 'alpha': 0.3540388854004182}. Best is trial 101 with value: 0.054204765117559894.\n"
     ]
    },
    {
     "name": "stdout",
     "output_type": "stream",
     "text": [
      "P3alphaRecommender: Similarity column 38121 (100.0%), 4396.22 column/sec. Elapsed time 8.67 sec\n",
      "EvaluatorHoldout: Processed 35572 (100.0%) in 9.64 sec. Users per second: 3691\n"
     ]
    },
    {
     "name": "stderr",
     "output_type": "stream",
     "text": [
      "[I 2024-12-09 09:01:02,987] Trial 263 finished with value: 0.04793345800781232 and parameters: {'topK': 92, 'alpha': 0.3611452423477363}. Best is trial 101 with value: 0.054204765117559894.\n"
     ]
    },
    {
     "name": "stdout",
     "output_type": "stream",
     "text": [
      "P3alphaRecommender: Similarity column 38121 (100.0%), 5031.14 column/sec. Elapsed time 7.58 sec\n",
      "EvaluatorHoldout: Processed 35572 (100.0%) in 8.43 sec. Users per second: 4219\n"
     ]
    },
    {
     "name": "stderr",
     "output_type": "stream",
     "text": [
      "[I 2024-12-09 09:01:19,312] Trial 264 finished with value: 0.054202859748792964 and parameters: {'topK': 13, 'alpha': 0.35650966194302725}. Best is trial 101 with value: 0.054204765117559894.\n"
     ]
    },
    {
     "name": "stdout",
     "output_type": "stream",
     "text": [
      "P3alphaRecommender: Similarity column 38121 (100.0%), 2414.56 column/sec. Elapsed time 15.79 sec\n",
      "EvaluatorHoldout: Processed 35572 (100.0%) in 8.15 sec. Users per second: 4364\n"
     ]
    },
    {
     "name": "stderr",
     "output_type": "stream",
     "text": [
      "[I 2024-12-09 09:01:43,472] Trial 265 finished with value: 0.03693003927647614 and parameters: {'topK': 2, 'alpha': 0.35705651566532554}. Best is trial 101 with value: 0.054204765117559894.\n"
     ]
    },
    {
     "name": "stdout",
     "output_type": "stream",
     "text": [
      "P3alphaRecommender: Similarity column 38121 (100.0%), 4944.33 column/sec. Elapsed time 7.71 sec\n",
      "EvaluatorHoldout: Processed 35572 (100.0%) in 8.60 sec. Users per second: 4137\n"
     ]
    },
    {
     "name": "stderr",
     "output_type": "stream",
     "text": [
      "[I 2024-12-09 09:02:00,183] Trial 266 finished with value: 0.05315894300671484 and parameters: {'topK': 24, 'alpha': 0.3563543698358796}. Best is trial 101 with value: 0.054204765117559894.\n"
     ]
    },
    {
     "name": "stdout",
     "output_type": "stream",
     "text": [
      "P3alphaRecommender: Similarity column 38121 (100.0%), 5031.33 column/sec. Elapsed time 7.58 sec\n",
      "EvaluatorHoldout: Processed 35572 (100.0%) in 8.40 sec. Users per second: 4232\n"
     ]
    },
    {
     "name": "stderr",
     "output_type": "stream",
     "text": [
      "[I 2024-12-09 09:02:16,483] Trial 267 finished with value: 0.05418661502983268 and parameters: {'topK': 13, 'alpha': 0.3551206747823838}. Best is trial 101 with value: 0.054204765117559894.\n"
     ]
    },
    {
     "name": "stdout",
     "output_type": "stream",
     "text": [
      "P3alphaRecommender: Similarity column 38121 (100.0%), 5049.86 column/sec. Elapsed time 7.55 sec\n",
      "EvaluatorHoldout: Processed 35572 (100.0%) in 8.35 sec. Users per second: 4258\n"
     ]
    },
    {
     "name": "stderr",
     "output_type": "stream",
     "text": [
      "[I 2024-12-09 09:02:32,685] Trial 268 finished with value: 0.05387743101850909 and parameters: {'topK': 10, 'alpha': 0.35567701313635913}. Best is trial 101 with value: 0.054204765117559894.\n"
     ]
    },
    {
     "name": "stdout",
     "output_type": "stream",
     "text": [
      "P3alphaRecommender: Similarity column 38121 (100.0%), 4827.40 column/sec. Elapsed time 7.90 sec\n",
      "EvaluatorHoldout: Processed 35572 (100.0%) in 8.74 sec. Users per second: 4068\n"
     ]
    },
    {
     "name": "stderr",
     "output_type": "stream",
     "text": [
      "[I 2024-12-09 09:02:49,791] Trial 269 finished with value: 0.05228592936480998 and parameters: {'topK': 31, 'alpha': 0.3567972592072095}. Best is trial 101 with value: 0.054204765117559894.\n"
     ]
    },
    {
     "name": "stdout",
     "output_type": "stream",
     "text": [
      "P3alphaRecommender: Similarity column 38121 (100.0%), 4976.83 column/sec. Elapsed time 7.66 sec\n",
      "EvaluatorHoldout: Processed 35572 (100.0%) in 8.50 sec. Users per second: 4186\n"
     ]
    },
    {
     "name": "stderr",
     "output_type": "stream",
     "text": [
      "[I 2024-12-09 09:03:06,302] Trial 270 finished with value: 0.05391083298081603 and parameters: {'topK': 18, 'alpha': 0.3552306906139366}. Best is trial 101 with value: 0.054204765117559894.\n"
     ]
    },
    {
     "name": "stdout",
     "output_type": "stream",
     "text": [
      "P3alphaRecommender: Similarity column 38121 (100.0%), 4907.70 column/sec. Elapsed time 7.77 sec\n",
      "EvaluatorHoldout: Processed 35572 (100.0%) in 8.61 sec. Users per second: 4133\n"
     ]
    },
    {
     "name": "stderr",
     "output_type": "stream",
     "text": [
      "[I 2024-12-09 09:03:23,071] Trial 271 finished with value: 0.053342774279394094 and parameters: {'topK': 23, 'alpha': 0.35777124075503786}. Best is trial 101 with value: 0.054204765117559894.\n"
     ]
    },
    {
     "name": "stdout",
     "output_type": "stream",
     "text": [
      "P3alphaRecommender: Similarity column 38121 (100.0%), 4968.22 column/sec. Elapsed time 7.67 sec\n",
      "EvaluatorHoldout: Processed 35572 (100.0%) in 8.35 sec. Users per second: 4260\n"
     ]
    },
    {
     "name": "stderr",
     "output_type": "stream",
     "text": [
      "[I 2024-12-09 09:03:39,383] Trial 272 finished with value: 0.05367729924909521 and parameters: {'topK': 9, 'alpha': 0.375156833727682}. Best is trial 101 with value: 0.054204765117559894.\n"
     ]
    },
    {
     "name": "stdout",
     "output_type": "stream",
     "text": [
      "P3alphaRecommender: Similarity column 38121 (100.0%), 4080.48 column/sec. Elapsed time 9.34 sec\n",
      "EvaluatorHoldout: Processed 35572 (100.0%) in 10.28 sec. Users per second: 3460\n"
     ]
    },
    {
     "name": "stderr",
     "output_type": "stream",
     "text": [
      "[I 2024-12-09 09:04:00,507] Trial 273 finished with value: 0.04585967159831236 and parameters: {'topK': 133, 'alpha': 0.3545905947719596}. Best is trial 101 with value: 0.054204765117559894.\n"
     ]
    },
    {
     "name": "stdout",
     "output_type": "stream",
     "text": [
      "P3alphaRecommender: Similarity column 38121 (100.0%), 5012.38 column/sec. Elapsed time 7.61 sec\n",
      "EvaluatorHoldout: Processed 35572 (100.0%) in 8.50 sec. Users per second: 4183\n"
     ]
    },
    {
     "name": "stderr",
     "output_type": "stream",
     "text": [
      "[I 2024-12-09 09:04:16,963] Trial 274 finished with value: 0.05391570572717082 and parameters: {'topK': 17, 'alpha': 0.3560429236585766}. Best is trial 101 with value: 0.054204765117559894.\n"
     ]
    },
    {
     "name": "stdout",
     "output_type": "stream",
     "text": [
      "P3alphaRecommender: Similarity column 38121 (100.0%), 4714.14 column/sec. Elapsed time 8.09 sec\n",
      "EvaluatorHoldout: Processed 35572 (100.0%) in 8.94 sec. Users per second: 3978\n"
     ]
    },
    {
     "name": "stderr",
     "output_type": "stream",
     "text": [
      "[I 2024-12-09 09:04:34,556] Trial 275 finished with value: 0.05122867169469662 and parameters: {'topK': 42, 'alpha': 0.35541171923994175}. Best is trial 101 with value: 0.054204765117559894.\n"
     ]
    },
    {
     "name": "stdout",
     "output_type": "stream",
     "text": [
      "P3alphaRecommender: Similarity column 38121 (100.0%), 5060.35 column/sec. Elapsed time 7.53 sec\n",
      "EvaluatorHoldout: Processed 35572 (100.0%) in 8.32 sec. Users per second: 4276\n"
     ]
    },
    {
     "name": "stderr",
     "output_type": "stream",
     "text": [
      "[I 2024-12-09 09:04:50,681] Trial 276 finished with value: 0.053275115839279505 and parameters: {'topK': 8, 'alpha': 0.3536511732425959}. Best is trial 101 with value: 0.054204765117559894.\n"
     ]
    },
    {
     "name": "stdout",
     "output_type": "stream",
     "text": [
      "P3alphaRecommender: Similarity column 38121 (100.0%), 2419.13 column/sec. Elapsed time 15.76 sec\n",
      "EvaluatorHoldout: Processed 35572 (100.0%) in 8.19 sec. Users per second: 4341\n"
     ]
    },
    {
     "name": "stderr",
     "output_type": "stream",
     "text": [
      "[I 2024-12-09 09:05:14,853] Trial 277 finished with value: 0.03691033187329297 and parameters: {'topK': 2, 'alpha': 0.35074958423731395}. Best is trial 101 with value: 0.054204765117559894.\n"
     ]
    },
    {
     "name": "stdout",
     "output_type": "stream",
     "text": [
      "P3alphaRecommender: Similarity column 38121 (100.0%), 4900.01 column/sec. Elapsed time 7.78 sec\n",
      "EvaluatorHoldout: Processed 35572 (100.0%) in 8.71 sec. Users per second: 4086\n"
     ]
    },
    {
     "name": "stderr",
     "output_type": "stream",
     "text": [
      "[I 2024-12-09 09:05:31,786] Trial 278 finished with value: 0.05257596932846958 and parameters: {'topK': 29, 'alpha': 0.3574605164205474}. Best is trial 101 with value: 0.054204765117559894.\n"
     ]
    },
    {
     "name": "stdout",
     "output_type": "stream",
     "text": [
      "P3alphaRecommender: Similarity column 38121 (100.0%), 4976.02 column/sec. Elapsed time 7.66 sec\n",
      "EvaluatorHoldout: Processed 35572 (100.0%) in 8.57 sec. Users per second: 4150\n"
     ]
    },
    {
     "name": "stderr",
     "output_type": "stream",
     "text": [
      "[I 2024-12-09 09:05:48,396] Trial 279 finished with value: 0.053495948971813014 and parameters: {'topK': 21, 'alpha': 0.3544551844038213}. Best is trial 101 with value: 0.054204765117559894.\n"
     ]
    },
    {
     "name": "stdout",
     "output_type": "stream",
     "text": [
      "P3alphaRecommender: Similarity column 38121 (100.0%), 5048.33 column/sec. Elapsed time 7.55 sec\n",
      "EvaluatorHoldout: Processed 35572 (100.0%) in 8.45 sec. Users per second: 4209\n"
     ]
    },
    {
     "name": "stderr",
     "output_type": "stream",
     "text": [
      "[I 2024-12-09 09:06:04,716] Trial 280 finished with value: 0.05420051038894332 and parameters: {'topK': 13, 'alpha': 0.35935018901375043}. Best is trial 101 with value: 0.054204765117559894.\n"
     ]
    },
    {
     "name": "stdout",
     "output_type": "stream",
     "text": [
      "P3alphaRecommender: Similarity column 38121 (100.0%), 5045.28 column/sec. Elapsed time 7.56 sec\n",
      "EvaluatorHoldout: Processed 35572 (100.0%) in 8.42 sec. Users per second: 4225\n"
     ]
    },
    {
     "name": "stderr",
     "output_type": "stream",
     "text": [
      "[I 2024-12-09 09:06:20,986] Trial 281 finished with value: 0.054131808904451 and parameters: {'topK': 11, 'alpha': 0.356711829981273}. Best is trial 101 with value: 0.054204765117559894.\n"
     ]
    },
    {
     "name": "stdout",
     "output_type": "stream",
     "text": [
      "P3alphaRecommender: Similarity column 38121 (100.0%), 5029.48 column/sec. Elapsed time 7.58 sec\n",
      "EvaluatorHoldout: Processed 35572 (100.0%) in 8.35 sec. Users per second: 4261\n"
     ]
    },
    {
     "name": "stderr",
     "output_type": "stream",
     "text": [
      "[I 2024-12-09 09:06:37,204] Trial 282 finished with value: 0.0539008811103416 and parameters: {'topK': 10, 'alpha': 0.3591399902918741}. Best is trial 101 with value: 0.054204765117559894.\n"
     ]
    },
    {
     "name": "stdout",
     "output_type": "stream",
     "text": [
      "P3alphaRecommender: Similarity column 38121 (100.0%), 4810.85 column/sec. Elapsed time 7.92 sec\n",
      "EvaluatorHoldout: Processed 35572 (100.0%) in 8.76 sec. Users per second: 4061\n"
     ]
    },
    {
     "name": "stderr",
     "output_type": "stream",
     "text": [
      "[I 2024-12-09 09:06:54,386] Trial 283 finished with value: 0.05194225684013831 and parameters: {'topK': 35, 'alpha': 0.35780729500987146}. Best is trial 101 with value: 0.054204765117559894.\n"
     ]
    },
    {
     "name": "stdout",
     "output_type": "stream",
     "text": [
      "P3alphaRecommender: Similarity column 38121 (100.0%), 4887.52 column/sec. Elapsed time 7.80 sec\n",
      "EvaluatorHoldout: Processed 35572 (100.0%) in 8.60 sec. Users per second: 4138\n"
     ]
    },
    {
     "name": "stderr",
     "output_type": "stream",
     "text": [
      "[I 2024-12-09 09:07:11,167] Trial 284 finished with value: 0.05340056786236187 and parameters: {'topK': 22, 'alpha': 0.35853086131041056}. Best is trial 101 with value: 0.054204765117559894.\n"
     ]
    },
    {
     "name": "stdout",
     "output_type": "stream",
     "text": [
      "P3alphaRecommender: Similarity column 38121 (100.0%), 2412.64 column/sec. Elapsed time 15.80 sec\n",
      "EvaluatorHoldout: Processed 35572 (100.0%) in 8.25 sec. Users per second: 4311\n"
     ]
    },
    {
     "name": "stderr",
     "output_type": "stream",
     "text": [
      "[I 2024-12-09 09:07:35,439] Trial 285 finished with value: 0.036908181082319504 and parameters: {'topK': 2, 'alpha': 0.3560881503697966}. Best is trial 101 with value: 0.054204765117559894.\n"
     ]
    },
    {
     "name": "stdout",
     "output_type": "stream",
     "text": [
      "P3alphaRecommender: Similarity column 38121 (100.0%), 5007.62 column/sec. Elapsed time 7.61 sec\n",
      "EvaluatorHoldout: Processed 35572 (100.0%) in 8.48 sec. Users per second: 4196\n"
     ]
    },
    {
     "name": "stderr",
     "output_type": "stream",
     "text": [
      "[I 2024-12-09 09:07:51,855] Trial 286 finished with value: 0.054042730683485675 and parameters: {'topK': 15, 'alpha': 0.3587951082799399}. Best is trial 101 with value: 0.054204765117559894.\n"
     ]
    },
    {
     "name": "stdout",
     "output_type": "stream",
     "text": [
      "P3alphaRecommender: Similarity column 38121 (100.0%), 4903.17 column/sec. Elapsed time 7.77 sec\n",
      "EvaluatorHoldout: Processed 35572 (100.0%) in 8.62 sec. Users per second: 4126\n"
     ]
    },
    {
     "name": "stderr",
     "output_type": "stream",
     "text": [
      "[I 2024-12-09 09:08:08,664] Trial 287 finished with value: 0.05302663812629341 and parameters: {'topK': 25, 'alpha': 0.36003227830201584}. Best is trial 101 with value: 0.054204765117559894.\n"
     ]
    },
    {
     "name": "stdout",
     "output_type": "stream",
     "text": [
      "P3alphaRecommender: Similarity column 38121 (100.0%), 5012.12 column/sec. Elapsed time 7.61 sec\n",
      "EvaluatorHoldout: Processed 35572 (100.0%) in 8.39 sec. Users per second: 4242\n"
     ]
    },
    {
     "name": "stderr",
     "output_type": "stream",
     "text": [
      "[I 2024-12-09 09:08:24,938] Trial 288 finished with value: 0.05388724567565871 and parameters: {'topK': 10, 'alpha': 0.35731360118711036}. Best is trial 101 with value: 0.054204765117559894.\n"
     ]
    },
    {
     "name": "stdout",
     "output_type": "stream",
     "text": [
      "P3alphaRecommender: Similarity column 38121 (100.0%), 4939.74 column/sec. Elapsed time 7.72 sec\n",
      "EvaluatorHoldout: Processed 35572 (100.0%) in 8.46 sec. Users per second: 4205\n"
     ]
    },
    {
     "name": "stderr",
     "output_type": "stream",
     "text": [
      "[I 2024-12-09 09:08:41,444] Trial 289 finished with value: 0.05404416751894924 and parameters: {'topK': 15, 'alpha': 0.3564529719139636}. Best is trial 101 with value: 0.054204765117559894.\n"
     ]
    },
    {
     "name": "stdout",
     "output_type": "stream",
     "text": [
      "P3alphaRecommender: Similarity column 38121 (100.0%), 4806.71 column/sec. Elapsed time 7.93 sec\n",
      "EvaluatorHoldout: Processed 35572 (100.0%) in 8.72 sec. Users per second: 4082\n"
     ]
    },
    {
     "name": "stderr",
     "output_type": "stream",
     "text": [
      "[I 2024-12-09 09:08:58,549] Trial 290 finished with value: 0.052499214648937566 and parameters: {'topK': 30, 'alpha': 0.35674939908533504}. Best is trial 101 with value: 0.054204765117559894.\n"
     ]
    },
    {
     "name": "stdout",
     "output_type": "stream",
     "text": [
      "P3alphaRecommender: Similarity column 38121 (100.0%), 2431.67 column/sec. Elapsed time 15.68 sec\n",
      "EvaluatorHoldout: Processed 35572 (100.0%) in 8.18 sec. Users per second: 4350\n"
     ]
    },
    {
     "name": "stderr",
     "output_type": "stream",
     "text": [
      "[I 2024-12-09 09:09:22,623] Trial 291 finished with value: 0.036961000403383515 and parameters: {'topK': 2, 'alpha': 0.3594152065895845}. Best is trial 101 with value: 0.054204765117559894.\n"
     ]
    },
    {
     "name": "stdout",
     "output_type": "stream",
     "text": [
      "P3alphaRecommender: Similarity column 38121 (100.0%), 4941.30 column/sec. Elapsed time 7.71 sec\n",
      "EvaluatorHoldout: Processed 35572 (100.0%) in 8.54 sec. Users per second: 4164\n"
     ]
    },
    {
     "name": "stderr",
     "output_type": "stream",
     "text": [
      "[I 2024-12-09 09:09:39,241] Trial 292 finished with value: 0.053784194006698614 and parameters: {'topK': 19, 'alpha': 0.36082287670610524}. Best is trial 101 with value: 0.054204765117559894.\n"
     ]
    },
    {
     "name": "stdout",
     "output_type": "stream",
     "text": [
      "P3alphaRecommender: Similarity column 38121 (100.0%), 5013.37 column/sec. Elapsed time 7.60 sec\n",
      "EvaluatorHoldout: Processed 35572 (100.0%) in 8.37 sec. Users per second: 4252\n"
     ]
    },
    {
     "name": "stderr",
     "output_type": "stream",
     "text": [
      "[I 2024-12-09 09:09:55,500] Trial 293 finished with value: 0.053880267876105316 and parameters: {'topK': 10, 'alpha': 0.35564310986542097}. Best is trial 101 with value: 0.054204765117559894.\n"
     ]
    },
    {
     "name": "stdout",
     "output_type": "stream",
     "text": [
      "P3alphaRecommender: Similarity column 38121 (100.0%), 4925.84 column/sec. Elapsed time 7.74 sec\n",
      "EvaluatorHoldout: Processed 35572 (100.0%) in 8.55 sec. Users per second: 4162\n"
     ]
    },
    {
     "name": "stderr",
     "output_type": "stream",
     "text": [
      "[I 2024-12-09 09:10:12,144] Trial 294 finished with value: 0.05379382013497142 and parameters: {'topK': 19, 'alpha': 0.3616797381937312}. Best is trial 101 with value: 0.054204765117559894.\n"
     ]
    },
    {
     "name": "stdout",
     "output_type": "stream",
     "text": [
      "P3alphaRecommender: Similarity column 38121 (100.0%), 4828.28 column/sec. Elapsed time 7.90 sec\n",
      "EvaluatorHoldout: Processed 35572 (100.0%) in 8.68 sec. Users per second: 4097\n"
     ]
    },
    {
     "name": "stderr",
     "output_type": "stream",
     "text": [
      "[I 2024-12-09 09:10:29,151] Trial 295 finished with value: 0.05274599894869887 and parameters: {'topK': 27, 'alpha': 0.3549132134981945}. Best is trial 101 with value: 0.054204765117559894.\n"
     ]
    },
    {
     "name": "stdout",
     "output_type": "stream",
     "text": [
      "P3alphaRecommender: Similarity column 38121 (100.0%), 5081.83 column/sec. Elapsed time 7.50 sec\n",
      "EvaluatorHoldout: Processed 35572 (100.0%) in 8.41 sec. Users per second: 4229\n"
     ]
    },
    {
     "name": "stderr",
     "output_type": "stream",
     "text": [
      "[I 2024-12-09 09:10:45,346] Trial 296 finished with value: 0.0536219520793042 and parameters: {'topK': 9, 'alpha': 0.3579602261646569}. Best is trial 101 with value: 0.054204765117559894.\n"
     ]
    },
    {
     "name": "stdout",
     "output_type": "stream",
     "text": [
      "P3alphaRecommender: Similarity column 38121 (100.0%), 4852.38 column/sec. Elapsed time 7.86 sec\n",
      "EvaluatorHoldout: Processed 35572 (100.0%) in 8.78 sec. Users per second: 4050\n"
     ]
    },
    {
     "name": "stderr",
     "output_type": "stream",
     "text": [
      "[I 2024-12-09 09:11:02,485] Trial 297 finished with value: 0.05193420476065364 and parameters: {'topK': 35, 'alpha': 0.35649162064736145}. Best is trial 101 with value: 0.054204765117559894.\n"
     ]
    },
    {
     "name": "stdout",
     "output_type": "stream",
     "text": [
      "P3alphaRecommender: Similarity column 38121 (100.0%), 5014.79 column/sec. Elapsed time 7.60 sec\n",
      "EvaluatorHoldout: Processed 35572 (100.0%) in 8.50 sec. Users per second: 4187\n"
     ]
    },
    {
     "name": "stderr",
     "output_type": "stream",
     "text": [
      "[I 2024-12-09 09:11:18,922] Trial 298 finished with value: 0.05394699259627957 and parameters: {'topK': 16, 'alpha': 0.3549334113308688}. Best is trial 101 with value: 0.054204765117559894.\n"
     ]
    },
    {
     "name": "stdout",
     "output_type": "stream",
     "text": [
      "P3alphaRecommender: Similarity column 38121 (100.0%), 5082.31 column/sec. Elapsed time 7.50 sec\n",
      "EvaluatorHoldout: Processed 35572 (100.0%) in 8.31 sec. Users per second: 4279\n"
     ]
    },
    {
     "name": "stderr",
     "output_type": "stream",
     "text": [
      "[I 2024-12-09 09:11:35,008] Trial 299 finished with value: 0.05328089553224295 and parameters: {'topK': 8, 'alpha': 0.3511059201165217}. Best is trial 101 with value: 0.054204765117559894.\n"
     ]
    }
   ],
   "source": [
    "optuna_study_alpha = op.create_study(direction=\"maximize\")\n",
    "        \n",
    "save_results_alpha = SaveResults()\n",
    "        \n",
    "optuna_study_alpha.optimize(objective_function_P3_alpha,\n",
    "                      callbacks=[save_results_alpha],\n",
    "                      n_trials = 300)"
   ]
  },
  {
   "cell_type": "code",
   "execution_count": 17,
   "id": "d279debb-045e-47b1-bfb6-e43400667014",
   "metadata": {},
   "outputs": [],
   "source": [
    "save_results_alpha.results_df.to_csv(\"result_experiments/RP3alpha/results_optuna.csv\")"
   ]
  },
  {
   "cell_type": "code",
   "execution_count": 5,
   "id": "188a8e35-b16a-416d-9255-ac1073dfacc3",
   "metadata": {},
   "outputs": [],
   "source": [
    "results_alpha = pd.read_csv(\"result_experiments/RP3alpha/results_optuna.csv\")\n",
    "results_beta = pd.read_csv(\"result_experiments/RP3beta/results_optuna_50.csv\")"
   ]
  },
  {
   "cell_type": "code",
   "execution_count": 7,
   "id": "66c0fe9b-c7d4-42a2-ba51-5e05947bb3ab",
   "metadata": {},
   "outputs": [
    {
     "data": {
      "text/html": [
       "<div>\n",
       "<style scoped>\n",
       "    .dataframe tbody tr th:only-of-type {\n",
       "        vertical-align: middle;\n",
       "    }\n",
       "\n",
       "    .dataframe tbody tr th {\n",
       "        vertical-align: top;\n",
       "    }\n",
       "\n",
       "    .dataframe thead th {\n",
       "        text-align: right;\n",
       "    }\n",
       "</style>\n",
       "<table border=\"1\" class=\"dataframe\">\n",
       "  <thead>\n",
       "    <tr style=\"text-align: right;\">\n",
       "      <th></th>\n",
       "      <th>Unnamed: 0</th>\n",
       "      <th>topK</th>\n",
       "      <th>alpha</th>\n",
       "      <th>beta</th>\n",
       "      <th>result</th>\n",
       "    </tr>\n",
       "  </thead>\n",
       "  <tbody>\n",
       "    <tr>\n",
       "      <th>235</th>\n",
       "      <td>235</td>\n",
       "      <td>12.0</td>\n",
       "      <td>0.349899</td>\n",
       "      <td>0.181734</td>\n",
       "      <td>0.055589</td>\n",
       "    </tr>\n",
       "    <tr>\n",
       "      <th>267</th>\n",
       "      <td>267</td>\n",
       "      <td>12.0</td>\n",
       "      <td>0.358275</td>\n",
       "      <td>0.183071</td>\n",
       "      <td>0.055585</td>\n",
       "    </tr>\n",
       "    <tr>\n",
       "      <th>232</th>\n",
       "      <td>232</td>\n",
       "      <td>12.0</td>\n",
       "      <td>0.352013</td>\n",
       "      <td>0.170365</td>\n",
       "      <td>0.055554</td>\n",
       "    </tr>\n",
       "    <tr>\n",
       "      <th>249</th>\n",
       "      <td>249</td>\n",
       "      <td>12.0</td>\n",
       "      <td>0.318763</td>\n",
       "      <td>0.178043</td>\n",
       "      <td>0.055539</td>\n",
       "    </tr>\n",
       "    <tr>\n",
       "      <th>265</th>\n",
       "      <td>265</td>\n",
       "      <td>12.0</td>\n",
       "      <td>0.359616</td>\n",
       "      <td>0.178041</td>\n",
       "      <td>0.055538</td>\n",
       "    </tr>\n",
       "    <tr>\n",
       "      <th>...</th>\n",
       "      <td>...</td>\n",
       "      <td>...</td>\n",
       "      <td>...</td>\n",
       "      <td>...</td>\n",
       "      <td>...</td>\n",
       "    </tr>\n",
       "    <tr>\n",
       "      <th>195</th>\n",
       "      <td>195</td>\n",
       "      <td>2.0</td>\n",
       "      <td>0.863639</td>\n",
       "      <td>0.172310</td>\n",
       "      <td>0.035370</td>\n",
       "    </tr>\n",
       "    <tr>\n",
       "      <th>7</th>\n",
       "      <td>7</td>\n",
       "      <td>29.0</td>\n",
       "      <td>0.579395</td>\n",
       "      <td>0.922559</td>\n",
       "      <td>0.034820</td>\n",
       "    </tr>\n",
       "    <tr>\n",
       "      <th>133</th>\n",
       "      <td>133</td>\n",
       "      <td>14.0</td>\n",
       "      <td>0.282290</td>\n",
       "      <td>0.985331</td>\n",
       "      <td>0.034568</td>\n",
       "    </tr>\n",
       "    <tr>\n",
       "      <th>9</th>\n",
       "      <td>9</td>\n",
       "      <td>48.0</td>\n",
       "      <td>0.293029</td>\n",
       "      <td>0.919261</td>\n",
       "      <td>0.033317</td>\n",
       "    </tr>\n",
       "    <tr>\n",
       "      <th>5</th>\n",
       "      <td>5</td>\n",
       "      <td>36.0</td>\n",
       "      <td>0.646849</td>\n",
       "      <td>0.941133</td>\n",
       "      <td>0.033130</td>\n",
       "    </tr>\n",
       "  </tbody>\n",
       "</table>\n",
       "<p>300 rows × 5 columns</p>\n",
       "</div>"
      ],
      "text/plain": [
       "     Unnamed: 0  topK     alpha      beta    result\n",
       "235         235  12.0  0.349899  0.181734  0.055589\n",
       "267         267  12.0  0.358275  0.183071  0.055585\n",
       "232         232  12.0  0.352013  0.170365  0.055554\n",
       "249         249  12.0  0.318763  0.178043  0.055539\n",
       "265         265  12.0  0.359616  0.178041  0.055538\n",
       "..          ...   ...       ...       ...       ...\n",
       "195         195   2.0  0.863639  0.172310  0.035370\n",
       "7             7  29.0  0.579395  0.922559  0.034820\n",
       "133         133  14.0  0.282290  0.985331  0.034568\n",
       "9             9  48.0  0.293029  0.919261  0.033317\n",
       "5             5  36.0  0.646849  0.941133  0.033130\n",
       "\n",
       "[300 rows x 5 columns]"
      ]
     },
     "execution_count": 7,
     "metadata": {},
     "output_type": "execute_result"
    }
   ],
   "source": [
    "results_beta.sort_values(by=['result'], ascending=False)"
   ]
  },
  {
   "cell_type": "code",
   "execution_count": 8,
   "id": "2049ea60-becc-465a-bfce-c14962b79db1",
   "metadata": {},
   "outputs": [
    {
     "data": {
      "text/html": [
       "<div>\n",
       "<style scoped>\n",
       "    .dataframe tbody tr th:only-of-type {\n",
       "        vertical-align: middle;\n",
       "    }\n",
       "\n",
       "    .dataframe tbody tr th {\n",
       "        vertical-align: top;\n",
       "    }\n",
       "\n",
       "    .dataframe thead th {\n",
       "        text-align: right;\n",
       "    }\n",
       "</style>\n",
       "<table border=\"1\" class=\"dataframe\">\n",
       "  <thead>\n",
       "    <tr style=\"text-align: right;\">\n",
       "      <th></th>\n",
       "      <th>Unnamed: 0</th>\n",
       "      <th>topK</th>\n",
       "      <th>alpha</th>\n",
       "      <th>result</th>\n",
       "    </tr>\n",
       "  </thead>\n",
       "  <tbody>\n",
       "    <tr>\n",
       "      <th>101</th>\n",
       "      <td>101</td>\n",
       "      <td>13.0</td>\n",
       "      <td>0.358969</td>\n",
       "      <td>0.054205</td>\n",
       "    </tr>\n",
       "    <tr>\n",
       "      <th>264</th>\n",
       "      <td>264</td>\n",
       "      <td>13.0</td>\n",
       "      <td>0.356510</td>\n",
       "      <td>0.054203</td>\n",
       "    </tr>\n",
       "    <tr>\n",
       "      <th>280</th>\n",
       "      <td>280</td>\n",
       "      <td>13.0</td>\n",
       "      <td>0.359350</td>\n",
       "      <td>0.054201</td>\n",
       "    </tr>\n",
       "    <tr>\n",
       "      <th>97</th>\n",
       "      <td>97</td>\n",
       "      <td>13.0</td>\n",
       "      <td>0.356190</td>\n",
       "      <td>0.054192</td>\n",
       "    </tr>\n",
       "    <tr>\n",
       "      <th>267</th>\n",
       "      <td>267</td>\n",
       "      <td>13.0</td>\n",
       "      <td>0.355121</td>\n",
       "      <td>0.054187</td>\n",
       "    </tr>\n",
       "    <tr>\n",
       "      <th>...</th>\n",
       "      <td>...</td>\n",
       "      <td>...</td>\n",
       "      <td>...</td>\n",
       "      <td>...</td>\n",
       "    </tr>\n",
       "    <tr>\n",
       "      <th>154</th>\n",
       "      <td>154</td>\n",
       "      <td>2.0</td>\n",
       "      <td>0.350523</td>\n",
       "      <td>0.036901</td>\n",
       "    </tr>\n",
       "    <tr>\n",
       "      <th>213</th>\n",
       "      <td>213</td>\n",
       "      <td>2.0</td>\n",
       "      <td>0.350160</td>\n",
       "      <td>0.036896</td>\n",
       "    </tr>\n",
       "    <tr>\n",
       "      <th>220</th>\n",
       "      <td>220</td>\n",
       "      <td>2.0</td>\n",
       "      <td>0.350028</td>\n",
       "      <td>0.036895</td>\n",
       "    </tr>\n",
       "    <tr>\n",
       "      <th>248</th>\n",
       "      <td>248</td>\n",
       "      <td>2.0</td>\n",
       "      <td>0.350073</td>\n",
       "      <td>0.036895</td>\n",
       "    </tr>\n",
       "    <tr>\n",
       "      <th>74</th>\n",
       "      <td>74</td>\n",
       "      <td>2.0</td>\n",
       "      <td>0.387167</td>\n",
       "      <td>0.036847</td>\n",
       "    </tr>\n",
       "  </tbody>\n",
       "</table>\n",
       "<p>300 rows × 4 columns</p>\n",
       "</div>"
      ],
      "text/plain": [
       "     Unnamed: 0  topK     alpha    result\n",
       "101         101  13.0  0.358969  0.054205\n",
       "264         264  13.0  0.356510  0.054203\n",
       "280         280  13.0  0.359350  0.054201\n",
       "97           97  13.0  0.356190  0.054192\n",
       "267         267  13.0  0.355121  0.054187\n",
       "..          ...   ...       ...       ...\n",
       "154         154   2.0  0.350523  0.036901\n",
       "213         213   2.0  0.350160  0.036896\n",
       "220         220   2.0  0.350028  0.036895\n",
       "248         248   2.0  0.350073  0.036895\n",
       "74           74   2.0  0.387167  0.036847\n",
       "\n",
       "[300 rows x 4 columns]"
      ]
     },
     "execution_count": 8,
     "metadata": {},
     "output_type": "execute_result"
    }
   ],
   "source": [
    "results_alpha.sort_values(by=['result'], ascending=False)"
   ]
  },
  {
   "cell_type": "code",
   "execution_count": null,
   "id": "5383d095-7824-4509-bd75-fddf7d1d8640",
   "metadata": {},
   "outputs": [],
   "source": []
  }
 ],
 "metadata": {
  "kernelspec": {
   "display_name": "RecSys",
   "language": "python",
   "name": "recsys"
  },
  "language_info": {
   "codemirror_mode": {
    "name": "ipython",
    "version": 3
   },
   "file_extension": ".py",
   "mimetype": "text/x-python",
   "name": "python",
   "nbconvert_exporter": "python",
   "pygments_lexer": "ipython3",
   "version": "3.12.7"
  }
 },
 "nbformat": 4,
 "nbformat_minor": 5
}
