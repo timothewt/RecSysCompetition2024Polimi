{
 "cells": [
  {
   "cell_type": "code",
   "execution_count": 1,
   "id": "dc231a90-4821-4f26-8eb4-b4b418da8897",
   "metadata": {},
   "outputs": [],
   "source": [
    "from pathlib import Path\n",
    "import sys  \n",
    "import os\n",
    "import pandas as pd \n",
    "from datetime import datetime\n",
    "import scipy.sparse as sps\n",
    "from numpy import linalg as LA\n",
    "\n",
    "import numpy as np\n",
    "from operator import itemgetter\n",
    "import optuna as op"
   ]
  },
  {
   "cell_type": "code",
   "execution_count": 2,
   "id": "11c83552-c9df-4e0d-9164-7e10118e8359",
   "metadata": {},
   "outputs": [],
   "source": [
    "sys.path.append(os.path.abspath(os.path.join(os.getcwd(), \"..\", \"libs\")))\n",
    "sys.path.append(os.path.abspath(os.path.join(os.getcwd(), \"..\")))\n",
    "sys.path.append(os.path.abspath(os.path.join(os.getcwd(), \"..\", \"src\")))"
   ]
  },
  {
   "cell_type": "code",
   "execution_count": 3,
   "id": "0db8443d-c2d1-4e45-9480-cb5824990dd7",
   "metadata": {},
   "outputs": [],
   "source": [
    "%load_ext autoreload\n",
    "%autoreload 2"
   ]
  },
  {
   "cell_type": "code",
   "execution_count": 4,
   "id": "f43db32c-a970-4075-a6ca-c5da51c7b5a0",
   "metadata": {},
   "outputs": [],
   "source": [
    "from Utils.load_URM import load_URM\n",
    "from Utils.load_ICM import load_ICM\n",
    "\n",
    "from scipy.sparse import hstack, vstack\n",
    "from Evaluation.Evaluator import EvaluatorHoldout\n",
    "from Data_manager.split_functions.split_train_validation_random_holdout import split_train_in_two_percentage_global_sample\n",
    "\n",
    "URM_all = load_URM(\"../data/data_train.csv\")\n",
    "ICM_all = load_ICM(\"../data/data_ICM_metadata.csv\")"
   ]
  },
  {
   "cell_type": "code",
   "execution_count": 5,
   "id": "59e11a1c-dfaf-4416-8620-d6563e8c76f1",
   "metadata": {},
   "outputs": [
    {
     "name": "stdout",
     "output_type": "stream",
     "text": [
      "Warning: 164 (0.46 %) of 35736 users have no sampled items\n"
     ]
    }
   ],
   "source": [
    "URM_train, URM_validation = split_train_in_two_percentage_global_sample(URM_all, train_percentage = 0.80)"
   ]
  },
  {
   "cell_type": "code",
   "execution_count": 6,
   "id": "36639247-e89c-4d6d-b57c-4c97144e7ae7",
   "metadata": {},
   "outputs": [
    {
     "name": "stdout",
     "output_type": "stream",
     "text": [
      "EvaluatorHoldout: Ignoring 164 ( 0.5%) Users that have less than 1 test interactions\n"
     ]
    }
   ],
   "source": [
    "evaluator_validation = EvaluatorHoldout(URM_validation, cutoff_list=[10])"
   ]
  },
  {
   "cell_type": "code",
   "execution_count": 7,
   "id": "88af5776-1dd5-43d1-9ad3-bee677280941",
   "metadata": {},
   "outputs": [],
   "source": [
    "from libs.Recommenders.GraphBased.RP3betaRecommender import RP3betaRecommender\n",
    "from libs.Recommenders.GraphBased.P3alphaRecommender import P3alphaRecommender"
   ]
  },
  {
   "cell_type": "code",
   "execution_count": 21,
   "id": "4fd93d98-bc15-48d0-b4c9-168b14ab43b3",
   "metadata": {},
   "outputs": [],
   "source": [
    "def objective_function_P3_beta(optuna_trial):\n",
    "\n",
    "    \n",
    "                          \n",
    "        \n",
    "    recommender_instance = RP3betaRecommender(URM_train)\n",
    "    recommender_instance.fit(topK = optuna_trial.suggest_int(\"topK\", 2, 50),\n",
    "                             alpha = optuna_trial.suggest_float(\"alpha\",0.1, 0.9),\n",
    "                             beta = optuna_trial.suggest_float(\"beta\",0.0, 0.99),\n",
    "                             normalize_similarity= True,\n",
    "                             implicit=False,\n",
    "                            )\n",
    "    \n",
    "    eval_res, _ = evaluator_validation.evaluateRecommender(recommender_instance)    \n",
    "    return eval_res[\"MAP\"][10]"
   ]
  },
  {
   "cell_type": "code",
   "execution_count": 12,
   "id": "191f53e5-1242-4562-b600-bc8eac5a04b7",
   "metadata": {},
   "outputs": [],
   "source": [
    "def objective_function_P3_alpha(optuna_trial):\n",
    "\n",
    "    \n",
    "                          \n",
    "        \n",
    "    recommender_instance = P3alphaRecommender(URM_train)\n",
    "    recommender_instance.fit(topK = optuna_trial.suggest_int(\"topK\", 2, 400),\n",
    "                             alpha=  optuna_trial.suggest_float(\"alpha\",0.35, 0.39,log=False),\n",
    "                             normalize_similarity= True\n",
    "                            )\n",
    "    \n",
    "    eval_res, _ = evaluator_validation.evaluateRecommender(recommender_instance)    \n",
    "    return eval_res[\"MAP\"][10]"
   ]
  },
  {
   "cell_type": "code",
   "execution_count": 19,
   "id": "aef59de3-63d7-4b0a-916f-d3be0a632a6f",
   "metadata": {},
   "outputs": [],
   "source": [
    "class SaveResults(object):\n",
    "    \n",
    "    def __init__(self):\n",
    "        self.results_df = pd.DataFrame()\n",
    "    \n",
    "    def __call__(self, optuna_study, optuna_trial):\n",
    "        hyperparam_dict = optuna_trial.params.copy()\n",
    "        hyperparam_dict[\"result\"] = optuna_trial.values[0]\n",
    "        \n",
    "        \n",
    "        self.results_df = self.results_df._append(hyperparam_dict, ignore_index=True)"
   ]
  },
  {
   "cell_type": "code",
   "execution_count": 22,
   "id": "38d51640-fade-4813-bd8e-e2e6c97a4369",
   "metadata": {
    "scrolled": true
   },
   "outputs": [
    {
     "name": "stderr",
     "output_type": "stream",
     "text": [
      "[I 2024-12-09 12:50:45,950] A new study created in memory with name: no-name-70334c15-c38c-4fcc-8788-8db61abec324\n"
     ]
    },
    {
     "name": "stdout",
     "output_type": "stream",
     "text": [
      "RP3betaRecommender: Similarity column 38121 (100.0%), 4168.22 column/sec. Elapsed time 9.15 sec\n",
      "EvaluatorHoldout: Processed 35572 (100.0%) in 9.21 sec. Users per second: 3864\n"
     ]
    },
    {
     "name": "stderr",
     "output_type": "stream",
     "text": [
      "[I 2024-12-09 12:51:04,777] Trial 0 finished with value: 0.05272370791901432 and parameters: {'topK': 19, 'alpha': 0.12530212218934408, 'beta': 0.4783219709680538}. Best is trial 0 with value: 0.05272370791901432.\n"
     ]
    },
    {
     "name": "stdout",
     "output_type": "stream",
     "text": [
      "RP3betaRecommender: Similarity column 38121 (100.0%), 4213.86 column/sec. Elapsed time 9.05 sec\n",
      "EvaluatorHoldout: Processed 35572 (100.0%) in 8.62 sec. Users per second: 4124\n"
     ]
    },
    {
     "name": "stderr",
     "output_type": "stream",
     "text": [
      "[I 2024-12-09 12:51:22,699] Trial 1 finished with value: 0.047363425888739104 and parameters: {'topK': 4, 'alpha': 0.5466211536511135, 'beta': 0.022527176686367594}. Best is trial 0 with value: 0.05272370791901432.\n"
     ]
    },
    {
     "name": "stdout",
     "output_type": "stream",
     "text": [
      "RP3betaRecommender: Similarity column 38121 (100.0%), 4260.07 column/sec. Elapsed time 8.95 sec\n",
      "EvaluatorHoldout: Processed 35572 (100.0%) in 9.68 sec. Users per second: 3675\n"
     ]
    },
    {
     "name": "stderr",
     "output_type": "stream",
     "text": [
      "[I 2024-12-09 12:51:42,105] Trial 2 finished with value: 0.04459659617248313 and parameters: {'topK': 40, 'alpha': 0.7086582230148053, 'beta': 0.6717666939662368}. Best is trial 0 with value: 0.05272370791901432.\n"
     ]
    },
    {
     "name": "stdout",
     "output_type": "stream",
     "text": [
      "RP3betaRecommender: Similarity column 38121 (100.0%), 1635.54 column/sec. Elapsed time 23.31 sec\n",
      "EvaluatorHoldout: Processed 35572 (100.0%) in 8.55 sec. Users per second: 4159\n"
     ]
    },
    {
     "name": "stderr",
     "output_type": "stream",
     "text": [
      "[I 2024-12-09 12:52:14,229] Trial 3 finished with value: 0.04492751678241513 and parameters: {'topK': 3, 'alpha': 0.32154925417251184, 'beta': 0.3339180633955487}. Best is trial 0 with value: 0.05272370791901432.\n"
     ]
    },
    {
     "name": "stdout",
     "output_type": "stream",
     "text": [
      "RP3betaRecommender: Similarity column 38121 (100.0%), 4039.35 column/sec. Elapsed time 9.44 sec\n",
      "EvaluatorHoldout: Processed 35572 (100.0%) in 9.84 sec. Users per second: 3614\n"
     ]
    },
    {
     "name": "stderr",
     "output_type": "stream",
     "text": [
      "[I 2024-12-09 12:52:34,232] Trial 4 finished with value: 0.05085099257664599 and parameters: {'topK': 38, 'alpha': 0.5904783786912325, 'beta': 0.5060451922461835}. Best is trial 0 with value: 0.05272370791901432.\n"
     ]
    },
    {
     "name": "stdout",
     "output_type": "stream",
     "text": [
      "RP3betaRecommender: Similarity column 38121 (100.0%), 4078.96 column/sec. Elapsed time 9.35 sec\n",
      "EvaluatorHoldout: Processed 35572 (100.0%) in 9.63 sec. Users per second: 3693\n"
     ]
    },
    {
     "name": "stderr",
     "output_type": "stream",
     "text": [
      "[I 2024-12-09 12:52:53,834] Trial 5 finished with value: 0.03312958604859436 and parameters: {'topK': 36, 'alpha': 0.6468493344055781, 'beta': 0.9411325279075163}. Best is trial 0 with value: 0.05272370791901432.\n"
     ]
    },
    {
     "name": "stdout",
     "output_type": "stream",
     "text": [
      "RP3betaRecommender: Similarity column 38121 (100.0%), 4344.07 column/sec. Elapsed time 8.78 sec\n",
      "EvaluatorHoldout: Processed 35572 (100.0%) in 9.11 sec. Users per second: 3905\n"
     ]
    },
    {
     "name": "stderr",
     "output_type": "stream",
     "text": [
      "[I 2024-12-09 12:53:12,124] Trial 6 finished with value: 0.05191925185494394 and parameters: {'topK': 15, 'alpha': 0.629372273825943, 'beta': 0.5183870272920589}. Best is trial 0 with value: 0.05272370791901432.\n"
     ]
    },
    {
     "name": "stdout",
     "output_type": "stream",
     "text": [
      "RP3betaRecommender: Similarity column 38121 (100.0%), 3943.74 column/sec. Elapsed time 9.67 sec\n",
      "EvaluatorHoldout: Processed 35572 (100.0%) in 9.47 sec. Users per second: 3756\n"
     ]
    },
    {
     "name": "stderr",
     "output_type": "stream",
     "text": [
      "[I 2024-12-09 12:53:31,782] Trial 7 finished with value: 0.03482006759373665 and parameters: {'topK': 29, 'alpha': 0.579394836907014, 'beta': 0.9225588481298137}. Best is trial 0 with value: 0.05272370791901432.\n"
     ]
    },
    {
     "name": "stdout",
     "output_type": "stream",
     "text": [
      "RP3betaRecommender: Similarity column 38121 (100.0%), 4226.28 column/sec. Elapsed time 9.02 sec\n",
      "EvaluatorHoldout: Processed 35572 (100.0%) in 9.95 sec. Users per second: 3576\n"
     ]
    },
    {
     "name": "stderr",
     "output_type": "stream",
     "text": [
      "[I 2024-12-09 12:53:51,453] Trial 8 finished with value: 0.038825079115193846 and parameters: {'topK': 41, 'alpha': 0.819573545189498, 'beta': 0.781695385718058}. Best is trial 0 with value: 0.05272370791901432.\n"
     ]
    },
    {
     "name": "stdout",
     "output_type": "stream",
     "text": [
      "RP3betaRecommender: Similarity column 38121 (100.0%), 3955.80 column/sec. Elapsed time 9.64 sec\n",
      "EvaluatorHoldout: Processed 35572 (100.0%) in 9.89 sec. Users per second: 3596\n"
     ]
    },
    {
     "name": "stderr",
     "output_type": "stream",
     "text": [
      "[I 2024-12-09 12:54:11,727] Trial 9 finished with value: 0.033317152201034435 and parameters: {'topK': 48, 'alpha': 0.2930292227094697, 'beta': 0.9192612713664268}. Best is trial 0 with value: 0.05272370791901432.\n"
     ]
    },
    {
     "name": "stdout",
     "output_type": "stream",
     "text": [
      "RP3betaRecommender: Similarity column 38121 (100.0%), 4135.41 column/sec. Elapsed time 9.22 sec\n",
      "EvaluatorHoldout: Processed 35572 (100.0%) in 8.98 sec. Users per second: 3961\n"
     ]
    },
    {
     "name": "stderr",
     "output_type": "stream",
     "text": [
      "[I 2024-12-09 12:54:30,318] Trial 10 finished with value: 0.055153405612402444 and parameters: {'topK': 16, 'alpha': 0.11521306496111715, 'beta': 0.21660775763158485}. Best is trial 10 with value: 0.055153405612402444.\n"
     ]
    },
    {
     "name": "stdout",
     "output_type": "stream",
     "text": [
      "RP3betaRecommender: Similarity column 38121 (100.0%), 4307.39 column/sec. Elapsed time 8.85 sec\n",
      "EvaluatorHoldout: Processed 35572 (100.0%) in 9.24 sec. Users per second: 3851\n"
     ]
    },
    {
     "name": "stderr",
     "output_type": "stream",
     "text": [
      "[I 2024-12-09 12:54:48,802] Trial 11 finished with value: 0.05486369250649972 and parameters: {'topK': 18, 'alpha': 0.1116846150320077, 'beta': 0.18312198901575372}. Best is trial 10 with value: 0.055153405612402444.\n"
     ]
    },
    {
     "name": "stdout",
     "output_type": "stream",
     "text": [
      "RP3betaRecommender: Similarity column 38121 (100.0%), 4189.36 column/sec. Elapsed time 9.10 sec\n",
      "EvaluatorHoldout: Processed 35572 (100.0%) in 8.92 sec. Users per second: 3989\n"
     ]
    },
    {
     "name": "stderr",
     "output_type": "stream",
     "text": [
      "[I 2024-12-09 12:55:07,173] Trial 12 finished with value: 0.05490994120576186 and parameters: {'topK': 15, 'alpha': 0.13055509386691566, 'beta': 0.11680389464781134}. Best is trial 10 with value: 0.055153405612402444.\n"
     ]
    },
    {
     "name": "stdout",
     "output_type": "stream",
     "text": [
      "RP3betaRecommender: Similarity column 38121 (100.0%), 4221.61 column/sec. Elapsed time 9.03 sec\n",
      "EvaluatorHoldout: Processed 35572 (100.0%) in 8.77 sec. Users per second: 4054\n"
     ]
    },
    {
     "name": "stderr",
     "output_type": "stream",
     "text": [
      "[I 2024-12-09 12:55:25,297] Trial 13 finished with value: 0.05404671656323035 and parameters: {'topK': 11, 'alpha': 0.2839531176969732, 'beta': 0.0008343024184472025}. Best is trial 10 with value: 0.055153405612402444.\n"
     ]
    },
    {
     "name": "stdout",
     "output_type": "stream",
     "text": [
      "RP3betaRecommender: Similarity column 38121 (100.0%), 3985.17 column/sec. Elapsed time 9.57 sec\n",
      "EvaluatorHoldout: Processed 35572 (100.0%) in 9.35 sec. Users per second: 3803\n"
     ]
    },
    {
     "name": "stderr",
     "output_type": "stream",
     "text": [
      "[I 2024-12-09 12:55:44,753] Trial 14 finished with value: 0.05439240154999573 and parameters: {'topK': 27, 'alpha': 0.3984691644950258, 'beta': 0.21353113878907398}. Best is trial 10 with value: 0.055153405612402444.\n"
     ]
    },
    {
     "name": "stdout",
     "output_type": "stream",
     "text": [
      "RP3betaRecommender: Similarity column 38121 (100.0%), 4161.34 column/sec. Elapsed time 9.16 sec\n",
      "EvaluatorHoldout: Processed 35572 (100.0%) in 8.98 sec. Users per second: 3963\n"
     ]
    },
    {
     "name": "stderr",
     "output_type": "stream",
     "text": [
      "[I 2024-12-09 12:56:03,212] Trial 15 finished with value: 0.05497451290385123 and parameters: {'topK': 9, 'alpha': 0.18588528904552895, 'beta': 0.1787673958362384}. Best is trial 10 with value: 0.055153405612402444.\n"
     ]
    },
    {
     "name": "stdout",
     "output_type": "stream",
     "text": [
      "RP3betaRecommender: Similarity column 38121 (100.0%), 4291.03 column/sec. Elapsed time 8.88 sec\n",
      "EvaluatorHoldout: Processed 35572 (100.0%) in 8.98 sec. Users per second: 3962\n"
     ]
    },
    {
     "name": "stderr",
     "output_type": "stream",
     "text": [
      "[I 2024-12-09 12:56:21,418] Trial 16 finished with value: 0.05471088929405653 and parameters: {'topK': 10, 'alpha': 0.21016846126243582, 'beta': 0.3498076622566071}. Best is trial 10 with value: 0.055153405612402444.\n"
     ]
    },
    {
     "name": "stdout",
     "output_type": "stream",
     "text": [
      "RP3betaRecommender: Similarity column 38121 (100.0%), 3996.20 column/sec. Elapsed time 9.54 sec\n",
      "EvaluatorHoldout: Processed 35572 (100.0%) in 9.50 sec. Users per second: 3744\n"
     ]
    },
    {
     "name": "stderr",
     "output_type": "stream",
     "text": [
      "[I 2024-12-09 12:56:40,970] Trial 17 finished with value: 0.05462143178422671 and parameters: {'topK': 22, 'alpha': 0.4118267317321981, 'beta': 0.30725591896748494}. Best is trial 10 with value: 0.055153405612402444.\n"
     ]
    },
    {
     "name": "stdout",
     "output_type": "stream",
     "text": [
      "RP3betaRecommender: Similarity column 38121 (100.0%), 4259.70 column/sec. Elapsed time 8.95 sec\n",
      "EvaluatorHoldout: Processed 35572 (100.0%) in 8.74 sec. Users per second: 4068\n"
     ]
    },
    {
     "name": "stderr",
     "output_type": "stream",
     "text": [
      "[I 2024-12-09 12:56:58,956] Trial 18 finished with value: 0.053971097519181443 and parameters: {'topK': 7, 'alpha': 0.21409022300888308, 'beta': 0.13322932737694532}. Best is trial 10 with value: 0.055153405612402444.\n"
     ]
    },
    {
     "name": "stdout",
     "output_type": "stream",
     "text": [
      "RP3betaRecommender: Similarity column 38121 (100.0%), 4044.85 column/sec. Elapsed time 9.42 sec\n",
      "EvaluatorHoldout: Processed 35572 (100.0%) in 9.32 sec. Users per second: 3816\n"
     ]
    },
    {
     "name": "stderr",
     "output_type": "stream",
     "text": [
      "[I 2024-12-09 12:57:18,237] Trial 19 finished with value: 0.05351820653483303 and parameters: {'topK': 23, 'alpha': 0.20998228911523337, 'beta': 0.40802440143567176}. Best is trial 10 with value: 0.055153405612402444.\n"
     ]
    },
    {
     "name": "stdout",
     "output_type": "stream",
     "text": [
      "RP3betaRecommender: Similarity column 38121 (100.0%), 4175.46 column/sec. Elapsed time 9.13 sec\n",
      "EvaluatorHoldout: Processed 35572 (100.0%) in 9.55 sec. Users per second: 3726\n"
     ]
    },
    {
     "name": "stderr",
     "output_type": "stream",
     "text": [
      "[I 2024-12-09 12:57:37,516] Trial 20 finished with value: 0.05397347588347367 and parameters: {'topK': 31, 'alpha': 0.465433878431757, 'beta': 0.2546803351400053}. Best is trial 10 with value: 0.055153405612402444.\n"
     ]
    },
    {
     "name": "stdout",
     "output_type": "stream",
     "text": [
      "RP3betaRecommender: Similarity column 38121 (100.0%), 4097.01 column/sec. Elapsed time 9.30 sec\n",
      "EvaluatorHoldout: Processed 35572 (100.0%) in 9.17 sec. Users per second: 3879\n"
     ]
    },
    {
     "name": "stderr",
     "output_type": "stream",
     "text": [
      "[I 2024-12-09 12:57:56,335] Trial 21 finished with value: 0.054891306966954385 and parameters: {'topK': 13, 'alpha': 0.14980052808825897, 'beta': 0.0851594445193713}. Best is trial 10 with value: 0.055153405612402444.\n"
     ]
    },
    {
     "name": "stdout",
     "output_type": "stream",
     "text": [
      "RP3betaRecommender: Similarity column 38121 (100.0%), 4055.07 column/sec. Elapsed time 9.40 sec\n",
      "EvaluatorHoldout: Processed 35572 (100.0%) in 9.06 sec. Users per second: 3928\n"
     ]
    },
    {
     "name": "stderr",
     "output_type": "stream",
     "text": [
      "[I 2024-12-09 12:58:15,178] Trial 22 finished with value: 0.05475707105999018 and parameters: {'topK': 16, 'alpha': 0.1012530032308337, 'beta': 0.1198173998079296}. Best is trial 10 with value: 0.055153405612402444.\n"
     ]
    },
    {
     "name": "stdout",
     "output_type": "stream",
     "text": [
      "RP3betaRecommender: Similarity column 38121 (100.0%), 3673.85 column/sec. Elapsed time 10.38 sec\n",
      "EvaluatorHoldout: Processed 35572 (100.0%) in 8.97 sec. Users per second: 3966\n"
     ]
    },
    {
     "name": "stderr",
     "output_type": "stream",
     "text": [
      "[I 2024-12-09 12:58:34,845] Trial 23 finished with value: 0.054659218995141465 and parameters: {'topK': 8, 'alpha': 0.20069852251896117, 'beta': 0.23464001751668667}. Best is trial 10 with value: 0.055153405612402444.\n"
     ]
    },
    {
     "name": "stdout",
     "output_type": "stream",
     "text": [
      "RP3betaRecommender: Similarity column 38121 (100.0%), 4209.73 column/sec. Elapsed time 9.06 sec\n",
      "EvaluatorHoldout: Processed 35572 (100.0%) in 9.00 sec. Users per second: 3952\n"
     ]
    },
    {
     "name": "stderr",
     "output_type": "stream",
     "text": [
      "[I 2024-12-09 12:58:53,337] Trial 24 finished with value: 0.05439294594107184 and parameters: {'topK': 22, 'alpha': 0.3476192214686735, 'beta': 0.09923916591874057}. Best is trial 10 with value: 0.055153405612402444.\n"
     ]
    },
    {
     "name": "stdout",
     "output_type": "stream",
     "text": [
      "RP3betaRecommender: Similarity column 38121 (100.0%), 4045.19 column/sec. Elapsed time 9.42 sec\n",
      "EvaluatorHoldout: Processed 35572 (100.0%) in 8.69 sec. Users per second: 4094\n"
     ]
    },
    {
     "name": "stderr",
     "output_type": "stream",
     "text": [
      "[I 2024-12-09 12:59:11,750] Trial 25 finished with value: 0.04881038724946681 and parameters: {'topK': 6, 'alpha': 0.15702162518814272, 'beta': 0.5936122144819298}. Best is trial 10 with value: 0.055153405612402444.\n"
     ]
    },
    {
     "name": "stdout",
     "output_type": "stream",
     "text": [
      "RP3betaRecommender: Similarity column 38121 (100.0%), 4367.93 column/sec. Elapsed time 8.73 sec\n",
      "EvaluatorHoldout: Processed 35572 (100.0%) in 8.85 sec. Users per second: 4022\n"
     ]
    },
    {
     "name": "stderr",
     "output_type": "stream",
     "text": [
      "[I 2024-12-09 12:59:29,707] Trial 26 finished with value: 0.054347079877340804 and parameters: {'topK': 13, 'alpha': 0.263514745180218, 'beta': 0.40994776155045937}. Best is trial 10 with value: 0.055153405612402444.\n"
     ]
    },
    {
     "name": "stdout",
     "output_type": "stream",
     "text": [
      "RP3betaRecommender: Similarity column 38121 (100.0%), 2263.74 column/sec. Elapsed time 16.84 sec\n",
      "EvaluatorHoldout: Processed 35572 (100.0%) in 8.42 sec. Users per second: 4224\n"
     ]
    },
    {
     "name": "stderr",
     "output_type": "stream",
     "text": [
      "[I 2024-12-09 12:59:55,200] Trial 27 finished with value: 0.03749404851149079 and parameters: {'topK': 2, 'alpha': 0.25156577528545865, 'beta': 0.1701511989405688}. Best is trial 10 with value: 0.055153405612402444.\n"
     ]
    },
    {
     "name": "stdout",
     "output_type": "stream",
     "text": [
      "RP3betaRecommender: Similarity column 38121 (100.0%), 4250.40 column/sec. Elapsed time 8.97 sec\n",
      "EvaluatorHoldout: Processed 35572 (100.0%) in 8.91 sec. Users per second: 3992\n"
     ]
    },
    {
     "name": "stderr",
     "output_type": "stream",
     "text": [
      "[I 2024-12-09 13:00:13,499] Trial 28 finished with value: 0.053115463116164115 and parameters: {'topK': 19, 'alpha': 0.8946060297227449, 'beta': 0.05024532294960947}. Best is trial 10 with value: 0.055153405612402444.\n"
     ]
    },
    {
     "name": "stdout",
     "output_type": "stream",
     "text": [
      "RP3betaRecommender: Similarity column 38121 (100.0%), 4159.37 column/sec. Elapsed time 9.17 sec\n",
      "EvaluatorHoldout: Processed 35572 (100.0%) in 9.16 sec. Users per second: 3885\n"
     ]
    },
    {
     "name": "stderr",
     "output_type": "stream",
     "text": [
      "[I 2024-12-09 13:00:32,259] Trial 29 finished with value: 0.05461314655364596 and parameters: {'topK': 19, 'alpha': 0.1547954325368318, 'beta': 0.29144040526334625}. Best is trial 10 with value: 0.055153405612402444.\n"
     ]
    },
    {
     "name": "stdout",
     "output_type": "stream",
     "text": [
      "RP3betaRecommender: Similarity column 38121 (100.0%), 4092.30 column/sec. Elapsed time 9.32 sec\n",
      "EvaluatorHoldout: Processed 35572 (100.0%) in 8.90 sec. Users per second: 3995\n"
     ]
    },
    {
     "name": "stderr",
     "output_type": "stream",
     "text": [
      "[I 2024-12-09 13:00:50,854] Trial 30 finished with value: 0.053534982258203585 and parameters: {'topK': 10, 'alpha': 0.3562232588341936, 'beta': 0.4468998220715125}. Best is trial 10 with value: 0.055153405612402444.\n"
     ]
    },
    {
     "name": "stdout",
     "output_type": "stream",
     "text": [
      "RP3betaRecommender: Similarity column 38121 (100.0%), 4325.40 column/sec. Elapsed time 8.81 sec\n",
      "EvaluatorHoldout: Processed 35572 (100.0%) in 8.61 sec. Users per second: 4129\n"
     ]
    },
    {
     "name": "stderr",
     "output_type": "stream",
     "text": [
      "[I 2024-12-09 13:01:08,616] Trial 31 finished with value: 0.05445075402626096 and parameters: {'topK': 14, 'alpha': 0.14440751198272495, 'beta': 0.060686048819824645}. Best is trial 10 with value: 0.055153405612402444.\n"
     ]
    },
    {
     "name": "stdout",
     "output_type": "stream",
     "text": [
      "RP3betaRecommender: Similarity column 38121 (100.0%), 4506.22 column/sec. Elapsed time 8.46 sec\n",
      "EvaluatorHoldout: Processed 35572 (100.0%) in 8.67 sec. Users per second: 4104\n"
     ]
    },
    {
     "name": "stderr",
     "output_type": "stream",
     "text": [
      "[I 2024-12-09 13:01:26,073] Trial 32 finished with value: 0.05496420182451163 and parameters: {'topK': 12, 'alpha': 0.1686578938634317, 'beta': 0.09238933975066746}. Best is trial 10 with value: 0.055153405612402444.\n"
     ]
    },
    {
     "name": "stdout",
     "output_type": "stream",
     "text": [
      "RP3betaRecommender: Similarity column 38121 (100.0%), 4129.85 column/sec. Elapsed time 9.23 sec\n",
      "EvaluatorHoldout: Processed 35572 (100.0%) in 8.69 sec. Users per second: 4094\n"
     ]
    },
    {
     "name": "stderr",
     "output_type": "stream",
     "text": [
      "[I 2024-12-09 13:01:44,263] Trial 33 finished with value: 0.051595483071220444 and parameters: {'topK': 5, 'alpha': 0.18762414142685163, 'beta': 0.16740319869847098}. Best is trial 10 with value: 0.055153405612402444.\n"
     ]
    },
    {
     "name": "stdout",
     "output_type": "stream",
     "text": [
      "RP3betaRecommender: Similarity column 38121 (100.0%), 4040.18 column/sec. Elapsed time 9.44 sec\n",
      "EvaluatorHoldout: Processed 35572 (100.0%) in 8.83 sec. Users per second: 4029\n"
     ]
    },
    {
     "name": "stderr",
     "output_type": "stream",
     "text": [
      "[I 2024-12-09 13:02:02,880] Trial 34 finished with value: 0.053771252447527035 and parameters: {'topK': 17, 'alpha': 0.10968337149479845, 'beta': 0.01074696359279223}. Best is trial 10 with value: 0.055153405612402444.\n"
     ]
    },
    {
     "name": "stdout",
     "output_type": "stream",
     "text": [
      "RP3betaRecommender: Similarity column 38121 (100.0%), 4392.87 column/sec. Elapsed time 8.68 sec\n",
      "EvaluatorHoldout: Processed 35572 (100.0%) in 8.84 sec. Users per second: 4024\n"
     ]
    },
    {
     "name": "stderr",
     "output_type": "stream",
     "text": [
      "[I 2024-12-09 13:02:20,732] Trial 35 finished with value: 0.05436153859197056 and parameters: {'topK': 9, 'alpha': 0.5122245566224461, 'beta': 0.2754053676279458}. Best is trial 10 with value: 0.055153405612402444.\n"
     ]
    },
    {
     "name": "stdout",
     "output_type": "stream",
     "text": [
      "RP3betaRecommender: Similarity column 38121 (100.0%), 4156.34 column/sec. Elapsed time 9.17 sec\n",
      "EvaluatorHoldout: Processed 35572 (100.0%) in 9.08 sec. Users per second: 3918\n"
     ]
    },
    {
     "name": "stderr",
     "output_type": "stream",
     "text": [
      "[I 2024-12-09 13:02:39,498] Trial 36 finished with value: 0.05410305099962514 and parameters: {'topK': 24, 'alpha': 0.2431863239023318, 'beta': 0.3534609059679862}. Best is trial 10 with value: 0.055153405612402444.\n"
     ]
    },
    {
     "name": "stdout",
     "output_type": "stream",
     "text": [
      "RP3betaRecommender: Similarity column 38121 (100.0%), 4055.33 column/sec. Elapsed time 9.40 sec\n",
      "EvaluatorHoldout: Processed 35572 (100.0%) in 8.86 sec. Users per second: 4016\n"
     ]
    },
    {
     "name": "stderr",
     "output_type": "stream",
     "text": [
      "[I 2024-12-09 13:02:58,100] Trial 37 finished with value: 0.055455950953039394 and parameters: {'topK': 12, 'alpha': 0.3147149790133343, 'beta': 0.13878789564896635}. Best is trial 37 with value: 0.055455950953039394.\n"
     ]
    },
    {
     "name": "stdout",
     "output_type": "stream",
     "text": [
      "RP3betaRecommender: Similarity column 38121 (100.0%), 4412.71 column/sec. Elapsed time 8.64 sec\n",
      "EvaluatorHoldout: Processed 35572 (100.0%) in 8.50 sec. Users per second: 4183\n"
     ]
    },
    {
     "name": "stderr",
     "output_type": "stream",
     "text": [
      "[I 2024-12-09 13:03:15,507] Trial 38 finished with value: 0.04908515191188187 and parameters: {'topK': 4, 'alpha': 0.3052808473467476, 'beta': 0.2130749354287568}. Best is trial 37 with value: 0.055455950953039394.\n"
     ]
    },
    {
     "name": "stdout",
     "output_type": "stream",
     "text": [
      "RP3betaRecommender: Similarity column 38121 (100.0%), 4324.18 column/sec. Elapsed time 8.82 sec\n",
      "EvaluatorHoldout: Processed 35572 (100.0%) in 8.75 sec. Users per second: 4064\n"
     ]
    },
    {
     "name": "stderr",
     "output_type": "stream",
     "text": [
      "[I 2024-12-09 13:03:33,430] Trial 39 finished with value: 0.0555057872787384 and parameters: {'topK': 12, 'alpha': 0.34402781257349924, 'beta': 0.16704827443592238}. Best is trial 39 with value: 0.0555057872787384.\n"
     ]
    },
    {
     "name": "stdout",
     "output_type": "stream",
     "text": [
      "RP3betaRecommender: Similarity column 38121 (100.0%), 3969.97 column/sec. Elapsed time 9.60 sec\n",
      "EvaluatorHoldout: Processed 35572 (100.0%) in 9.28 sec. Users per second: 3834\n"
     ]
    },
    {
     "name": "stderr",
     "output_type": "stream",
     "text": [
      "[I 2024-12-09 13:03:52,818] Trial 40 finished with value: 0.05109352326334618 and parameters: {'topK': 20, 'alpha': 0.42480377785890094, 'beta': 0.5587948920032736}. Best is trial 39 with value: 0.0555057872787384.\n"
     ]
    },
    {
     "name": "stdout",
     "output_type": "stream",
     "text": [
      "RP3betaRecommender: Similarity column 38121 (100.0%), 4360.85 column/sec. Elapsed time 8.74 sec\n",
      "EvaluatorHoldout: Processed 35572 (100.0%) in 8.82 sec. Users per second: 4035\n"
     ]
    },
    {
     "name": "stderr",
     "output_type": "stream",
     "text": [
      "[I 2024-12-09 13:04:10,719] Trial 41 finished with value: 0.05544913602458649 and parameters: {'topK': 12, 'alpha': 0.34148811696907205, 'beta': 0.156263250767995}. Best is trial 39 with value: 0.0555057872787384.\n"
     ]
    },
    {
     "name": "stdout",
     "output_type": "stream",
     "text": [
      "RP3betaRecommender: Similarity column 38121 (100.0%), 4014.03 column/sec. Elapsed time 9.50 sec\n",
      "EvaluatorHoldout: Processed 35572 (100.0%) in 8.69 sec. Users per second: 4095\n"
     ]
    },
    {
     "name": "stderr",
     "output_type": "stream",
     "text": [
      "[I 2024-12-09 13:04:29,209] Trial 42 finished with value: 0.054510331382447895 and parameters: {'topK': 8, 'alpha': 0.36689507507347574, 'beta': 0.1568277273226902}. Best is trial 39 with value: 0.0555057872787384.\n"
     ]
    },
    {
     "name": "stdout",
     "output_type": "stream",
     "text": [
      "RP3betaRecommender: Similarity column 38121 (100.0%), 4442.13 column/sec. Elapsed time 8.58 sec\n",
      "EvaluatorHoldout: Processed 35572 (100.0%) in 8.79 sec. Users per second: 4046\n"
     ]
    },
    {
     "name": "stderr",
     "output_type": "stream",
     "text": [
      "[I 2024-12-09 13:04:46,936] Trial 43 finished with value: 0.05525239777495568 and parameters: {'topK': 12, 'alpha': 0.461540978046398, 'beta': 0.20548981893293689}. Best is trial 39 with value: 0.0555057872787384.\n"
     ]
    },
    {
     "name": "stdout",
     "output_type": "stream",
     "text": [
      "RP3betaRecommender: Similarity column 38121 (100.0%), 4284.43 column/sec. Elapsed time 8.90 sec\n",
      "EvaluatorHoldout: Processed 35572 (100.0%) in 9.00 sec. Users per second: 3951\n"
     ]
    },
    {
     "name": "stderr",
     "output_type": "stream",
     "text": [
      "[I 2024-12-09 13:05:05,247] Trial 44 finished with value: 0.05532612818357004 and parameters: {'topK': 16, 'alpha': 0.46400278900716185, 'beta': 0.23474286408177708}. Best is trial 39 with value: 0.0555057872787384.\n"
     ]
    },
    {
     "name": "stdout",
     "output_type": "stream",
     "text": [
      "RP3betaRecommender: Similarity column 38121 (100.0%), 3906.93 column/sec. Elapsed time 9.76 sec\n",
      "EvaluatorHoldout: Processed 35572 (100.0%) in 8.91 sec. Users per second: 3993\n"
     ]
    },
    {
     "name": "stderr",
     "output_type": "stream",
     "text": [
      "[I 2024-12-09 13:05:24,304] Trial 45 finished with value: 0.04533930735606045 and parameters: {'topK': 12, 'alpha': 0.47050221795588854, 'beta': 0.7268926391906289}. Best is trial 39 with value: 0.0555057872787384.\n"
     ]
    },
    {
     "name": "stdout",
     "output_type": "stream",
     "text": [
      "RP3betaRecommender: Similarity column 38121 (100.0%), 4028.18 column/sec. Elapsed time 9.46 sec\n",
      "EvaluatorHoldout: Processed 35572 (100.0%) in 9.52 sec. Users per second: 3735\n"
     ]
    },
    {
     "name": "stderr",
     "output_type": "stream",
     "text": [
      "[I 2024-12-09 13:05:43,960] Trial 46 finished with value: 0.053418857394524843 and parameters: {'topK': 33, 'alpha': 0.5556136017179392, 'beta': 0.321428624828264}. Best is trial 39 with value: 0.0555057872787384.\n"
     ]
    },
    {
     "name": "stdout",
     "output_type": "stream",
     "text": [
      "RP3betaRecommender: Similarity column 38121 (100.0%), 4258.49 column/sec. Elapsed time 8.95 sec\n",
      "EvaluatorHoldout: Processed 35572 (100.0%) in 8.97 sec. Users per second: 3967\n"
     ]
    },
    {
     "name": "stderr",
     "output_type": "stream",
     "text": [
      "[I 2024-12-09 13:06:02,286] Trial 47 finished with value: 0.054887671371631495 and parameters: {'topK': 15, 'alpha': 0.6482863474116561, 'beta': 0.2566834074585849}. Best is trial 39 with value: 0.0555057872787384.\n"
     ]
    },
    {
     "name": "stdout",
     "output_type": "stream",
     "text": [
      "RP3betaRecommender: Similarity column 38121 (100.0%), 3986.71 column/sec. Elapsed time 9.56 sec\n",
      "EvaluatorHoldout: Processed 35572 (100.0%) in 8.63 sec. Users per second: 4122\n"
     ]
    },
    {
     "name": "stderr",
     "output_type": "stream",
     "text": [
      "[I 2024-12-09 13:06:20,849] Trial 48 finished with value: 0.05450338928067012 and parameters: {'topK': 17, 'alpha': 0.5109318989706462, 'beta': 0.05638814033800399}. Best is trial 39 with value: 0.0555057872787384.\n"
     ]
    },
    {
     "name": "stdout",
     "output_type": "stream",
     "text": [
      "RP3betaRecommender: Similarity column 38121 (100.0%), 4021.23 column/sec. Elapsed time 9.48 sec\n",
      "EvaluatorHoldout: Processed 35572 (100.0%) in 9.42 sec. Users per second: 3775\n"
     ]
    },
    {
     "name": "stderr",
     "output_type": "stream",
     "text": [
      "[I 2024-12-09 13:06:40,529] Trial 49 finished with value: 0.052501572933230725 and parameters: {'topK': 49, 'alpha': 0.3314500471889978, 'beta': 0.2054698916203171}. Best is trial 39 with value: 0.0555057872787384.\n"
     ]
    },
    {
     "name": "stdout",
     "output_type": "stream",
     "text": [
      "RP3betaRecommender: Similarity column 38121 (100.0%), 4416.03 column/sec. Elapsed time 8.63 sec\n",
      "EvaluatorHoldout: Processed 35572 (100.0%) in 9.12 sec. Users per second: 3902\n"
     ]
    },
    {
     "name": "stderr",
     "output_type": "stream",
     "text": [
      "[I 2024-12-09 13:06:58,858] Trial 50 finished with value: 0.0538204183243803 and parameters: {'topK': 26, 'alpha': 0.3903744889864543, 'beta': 0.3847886740491327}. Best is trial 39 with value: 0.0555057872787384.\n"
     ]
    },
    {
     "name": "stdout",
     "output_type": "stream",
     "text": [
      "RP3betaRecommender: Similarity column 38121 (100.0%), 4336.39 column/sec. Elapsed time 8.79 sec\n",
      "EvaluatorHoldout: Processed 35572 (100.0%) in 8.60 sec. Users per second: 4134\n"
     ]
    },
    {
     "name": "stderr",
     "output_type": "stream",
     "text": [
      "[I 2024-12-09 13:07:16,614] Trial 51 finished with value: 0.05524063982015246 and parameters: {'topK': 14, 'alpha': 0.44748112640304605, 'beta': 0.14221904602640037}. Best is trial 39 with value: 0.0555057872787384.\n"
     ]
    },
    {
     "name": "stdout",
     "output_type": "stream",
     "text": [
      "RP3betaRecommender: Similarity column 38121 (100.0%), 4144.57 column/sec. Elapsed time 9.20 sec\n",
      "EvaluatorHoldout: Processed 35572 (100.0%) in 8.53 sec. Users per second: 4170\n"
     ]
    },
    {
     "name": "stderr",
     "output_type": "stream",
     "text": [
      "[I 2024-12-09 13:07:34,682] Trial 52 finished with value: 0.055212804479711726 and parameters: {'topK': 11, 'alpha': 0.4377704733614231, 'beta': 0.1607598365581957}. Best is trial 39 with value: 0.0555057872787384.\n"
     ]
    },
    {
     "name": "stdout",
     "output_type": "stream",
     "text": [
      "RP3betaRecommender: Similarity column 38121 (100.0%), 4086.77 column/sec. Elapsed time 9.33 sec\n",
      "EvaluatorHoldout: Processed 35572 (100.0%) in 8.58 sec. Users per second: 4147\n"
     ]
    },
    {
     "name": "stderr",
     "output_type": "stream",
     "text": [
      "[I 2024-12-09 13:07:52,933] Trial 53 finished with value: 0.05510816872196401 and parameters: {'topK': 14, 'alpha': 0.4586071318786753, 'beta': 0.1111030993945526}. Best is trial 39 with value: 0.0555057872787384.\n"
     ]
    },
    {
     "name": "stdout",
     "output_type": "stream",
     "text": [
      "RP3betaRecommender: Similarity column 38121 (100.0%), 4454.26 column/sec. Elapsed time 8.56 sec\n",
      "EvaluatorHoldout: Processed 35572 (100.0%) in 8.81 sec. Users per second: 4039\n"
     ]
    },
    {
     "name": "stderr",
     "output_type": "stream",
     "text": [
      "[I 2024-12-09 13:08:10,729] Trial 54 finished with value: 0.05462062969983341 and parameters: {'topK': 21, 'alpha': 0.3846878381034359, 'beta': 0.1424848246932099}. Best is trial 39 with value: 0.0555057872787384.\n"
     ]
    },
    {
     "name": "stdout",
     "output_type": "stream",
     "text": [
      "RP3betaRecommender: Similarity column 38121 (100.0%), 4462.58 column/sec. Elapsed time 8.54 sec\n",
      "EvaluatorHoldout: Processed 35572 (100.0%) in 8.78 sec. Users per second: 4052\n"
     ]
    },
    {
     "name": "stderr",
     "output_type": "stream",
     "text": [
      "[I 2024-12-09 13:08:28,318] Trial 55 finished with value: 0.05189535442536223 and parameters: {'topK': 6, 'alpha': 0.4900713847085784, 'beta': 0.03376171146419299}. Best is trial 39 with value: 0.0555057872787384.\n"
     ]
    },
    {
     "name": "stdout",
     "output_type": "stream",
     "text": [
      "RP3betaRecommender: Similarity column 38121 (100.0%), 4148.60 column/sec. Elapsed time 9.19 sec\n",
      "EvaluatorHoldout: Processed 35572 (100.0%) in 8.73 sec. Users per second: 4077\n"
     ]
    },
    {
     "name": "stderr",
     "output_type": "stream",
     "text": [
      "[I 2024-12-09 13:08:46,598] Trial 56 finished with value: 0.05465255801334554 and parameters: {'topK': 11, 'alpha': 0.6120950760146766, 'beta': 0.22728092470049893}. Best is trial 39 with value: 0.0555057872787384.\n"
     ]
    },
    {
     "name": "stdout",
     "output_type": "stream",
     "text": [
      "RP3betaRecommender: Similarity column 38121 (100.0%), 4055.37 column/sec. Elapsed time 9.40 sec\n",
      "EvaluatorHoldout: Processed 35572 (100.0%) in 9.09 sec. Users per second: 3913\n"
     ]
    },
    {
     "name": "stderr",
     "output_type": "stream",
     "text": [
      "[I 2024-12-09 13:09:05,501] Trial 57 finished with value: 0.038029946863859916 and parameters: {'topK': 17, 'alpha': 0.5366412017567506, 'beta': 0.8835835726619667}. Best is trial 39 with value: 0.0555057872787384.\n"
     ]
    },
    {
     "name": "stdout",
     "output_type": "stream",
     "text": [
      "RP3betaRecommender: Similarity column 38121 (100.0%), 4192.60 column/sec. Elapsed time 9.09 sec\n",
      "EvaluatorHoldout: Processed 35572 (100.0%) in 9.61 sec. Users per second: 3703\n"
     ]
    },
    {
     "name": "stderr",
     "output_type": "stream",
     "text": [
      "[I 2024-12-09 13:09:24,950] Trial 58 finished with value: 0.052915854542272524 and parameters: {'topK': 44, 'alpha': 0.3028496656854405, 'beta': 0.2632934296732844}. Best is trial 39 with value: 0.0555057872787384.\n"
     ]
    },
    {
     "name": "stdout",
     "output_type": "stream",
     "text": [
      "RP3betaRecommender: Similarity column 38121 (100.0%), 3812.70 column/sec. Elapsed time 10.00 sec\n",
      "EvaluatorHoldout: Processed 35572 (100.0%) in 8.79 sec. Users per second: 4049\n"
     ]
    },
    {
     "name": "stderr",
     "output_type": "stream",
     "text": [
      "[I 2024-12-09 13:09:44,097] Trial 59 finished with value: 0.05525365389043072 and parameters: {'topK': 14, 'alpha': 0.4379091063642034, 'beta': 0.13520816917076728}. Best is trial 39 with value: 0.0555057872787384.\n"
     ]
    },
    {
     "name": "stdout",
     "output_type": "stream",
     "text": [
      "RP3betaRecommender: Similarity column 38121 (100.0%), 4099.96 column/sec. Elapsed time 9.30 sec\n",
      "EvaluatorHoldout: Processed 35572 (100.0%) in 8.88 sec. Users per second: 4006\n"
     ]
    },
    {
     "name": "stderr",
     "output_type": "stream",
     "text": [
      "[I 2024-12-09 13:10:02,599] Trial 60 finished with value: 0.054789012760167656 and parameters: {'topK': 9, 'alpha': 0.4095253208385842, 'beta': 0.1887342518771835}. Best is trial 39 with value: 0.0555057872787384.\n"
     ]
    },
    {
     "name": "stdout",
     "output_type": "stream",
     "text": [
      "RP3betaRecommender: Similarity column 38121 (100.0%), 4015.28 column/sec. Elapsed time 9.49 sec\n",
      "EvaluatorHoldout: Processed 35572 (100.0%) in 8.68 sec. Users per second: 4099\n"
     ]
    },
    {
     "name": "stderr",
     "output_type": "stream",
     "text": [
      "[I 2024-12-09 13:10:21,117] Trial 61 finished with value: 0.054924948773690314 and parameters: {'topK': 14, 'alpha': 0.3731159047515807, 'beta': 0.07668183244144436}. Best is trial 39 with value: 0.0555057872787384.\n"
     ]
    },
    {
     "name": "stdout",
     "output_type": "stream",
     "text": [
      "RP3betaRecommender: Similarity column 38121 (100.0%), 3897.43 column/sec. Elapsed time 9.78 sec\n",
      "EvaluatorHoldout: Processed 35572 (100.0%) in 8.80 sec. Users per second: 4042\n"
     ]
    },
    {
     "name": "stderr",
     "output_type": "stream",
     "text": [
      "[I 2024-12-09 13:10:40,035] Trial 62 finished with value: 0.055137482173421404 and parameters: {'topK': 12, 'alpha': 0.45019132884081686, 'beta': 0.12654556419922294}. Best is trial 39 with value: 0.0555057872787384.\n"
     ]
    },
    {
     "name": "stdout",
     "output_type": "stream",
     "text": [
      "RP3betaRecommender: Similarity column 38121 (100.0%), 4296.33 column/sec. Elapsed time 8.87 sec\n",
      "EvaluatorHoldout: Processed 35572 (100.0%) in 8.76 sec. Users per second: 4063\n"
     ]
    },
    {
     "name": "stderr",
     "output_type": "stream",
     "text": [
      "[I 2024-12-09 13:10:58,063] Trial 63 finished with value: 0.05533614921848455 and parameters: {'topK': 16, 'alpha': 0.34048682434172634, 'beta': 0.1999235311384631}. Best is trial 39 with value: 0.0555057872787384.\n"
     ]
    },
    {
     "name": "stdout",
     "output_type": "stream",
     "text": [
      "RP3betaRecommender: Similarity column 38121 (100.0%), 4154.29 column/sec. Elapsed time 9.18 sec\n",
      "EvaluatorHoldout: Processed 35572 (100.0%) in 8.91 sec. Users per second: 3991\n"
     ]
    },
    {
     "name": "stderr",
     "output_type": "stream",
     "text": [
      "[I 2024-12-09 13:11:16,582] Trial 64 finished with value: 0.05525637584581235 and parameters: {'topK': 18, 'alpha': 0.33302072383364906, 'beta': 0.1980011822691704}. Best is trial 39 with value: 0.0555057872787384.\n"
     ]
    },
    {
     "name": "stdout",
     "output_type": "stream",
     "text": [
      "RP3betaRecommender: Similarity column 38121 (100.0%), 4231.46 column/sec. Elapsed time 9.01 sec\n",
      "EvaluatorHoldout: Processed 35572 (100.0%) in 9.19 sec. Users per second: 3871\n"
     ]
    },
    {
     "name": "stderr",
     "output_type": "stream",
     "text": [
      "[I 2024-12-09 13:11:35,204] Trial 65 finished with value: 0.055303747909447136 and parameters: {'topK': 18, 'alpha': 0.33200693484507277, 'beta': 0.23533819428811684}. Best is trial 39 with value: 0.0555057872787384.\n"
     ]
    },
    {
     "name": "stdout",
     "output_type": "stream",
     "text": [
      "RP3betaRecommender: Similarity column 38121 (100.0%), 3952.11 column/sec. Elapsed time 9.65 sec\n",
      "EvaluatorHoldout: Processed 35572 (100.0%) in 9.10 sec. Users per second: 3910\n"
     ]
    },
    {
     "name": "stderr",
     "output_type": "stream",
     "text": [
      "[I 2024-12-09 13:11:54,411] Trial 66 finished with value: 0.054899578810869654 and parameters: {'topK': 19, 'alpha': 0.33293544494660055, 'beta': 0.29681367331618314}. Best is trial 39 with value: 0.0555057872787384.\n"
     ]
    },
    {
     "name": "stdout",
     "output_type": "stream",
     "text": [
      "RP3betaRecommender: Similarity column 38121 (100.0%), 3743.03 column/sec. Elapsed time 10.18 sec\n",
      "EvaluatorHoldout: Processed 35572 (100.0%) in 9.20 sec. Users per second: 3867\n"
     ]
    },
    {
     "name": "stderr",
     "output_type": "stream",
     "text": [
      "[I 2024-12-09 13:12:14,298] Trial 67 finished with value: 0.054607064545146286 and parameters: {'topK': 24, 'alpha': 0.27601690287969605, 'beta': 0.24455316103384944}. Best is trial 39 with value: 0.0555057872787384.\n"
     ]
    },
    {
     "name": "stdout",
     "output_type": "stream",
     "text": [
      "RP3betaRecommender: Similarity column 38121 (100.0%), 3964.63 column/sec. Elapsed time 9.62 sec\n",
      "EvaluatorHoldout: Processed 35572 (100.0%) in 9.14 sec. Users per second: 3890\n"
     ]
    },
    {
     "name": "stderr",
     "output_type": "stream",
     "text": [
      "[I 2024-12-09 13:12:33,509] Trial 68 finished with value: 0.05463298670793148 and parameters: {'topK': 17, 'alpha': 0.22891106720083648, 'beta': 0.3487468203475649}. Best is trial 39 with value: 0.0555057872787384.\n"
     ]
    },
    {
     "name": "stdout",
     "output_type": "stream",
     "text": [
      "RP3betaRecommender: Similarity column 38121 (100.0%), 3950.12 column/sec. Elapsed time 9.65 sec\n",
      "EvaluatorHoldout: Processed 35572 (100.0%) in 9.34 sec. Users per second: 3808\n"
     ]
    },
    {
     "name": "stderr",
     "output_type": "stream",
     "text": [
      "[I 2024-12-09 13:12:53,016] Trial 69 finished with value: 0.053109290747670755 and parameters: {'topK': 21, 'alpha': 0.3200761387344446, 'beta': 0.473687996221467}. Best is trial 39 with value: 0.0555057872787384.\n"
     ]
    },
    {
     "name": "stdout",
     "output_type": "stream",
     "text": [
      "RP3betaRecommender: Similarity column 38121 (100.0%), 3845.18 column/sec. Elapsed time 9.91 sec\n",
      "EvaluatorHoldout: Processed 35572 (100.0%) in 8.92 sec. Users per second: 3986\n"
     ]
    },
    {
     "name": "stderr",
     "output_type": "stream",
     "text": [
      "[I 2024-12-09 13:13:12,256] Trial 70 finished with value: 0.0553406616404181 and parameters: {'topK': 16, 'alpha': 0.2893501627063285, 'beta': 0.18970335646827174}. Best is trial 39 with value: 0.0555057872787384.\n"
     ]
    },
    {
     "name": "stdout",
     "output_type": "stream",
     "text": [
      "RP3betaRecommender: Similarity column 38121 (100.0%), 4414.30 column/sec. Elapsed time 8.64 sec\n",
      "EvaluatorHoldout: Processed 35572 (100.0%) in 8.94 sec. Users per second: 3977\n"
     ]
    },
    {
     "name": "stderr",
     "output_type": "stream",
     "text": [
      "[I 2024-12-09 13:13:30,241] Trial 71 finished with value: 0.05536054753247864 and parameters: {'topK': 16, 'alpha': 0.2841296282046652, 'beta': 0.19755741551887795}. Best is trial 39 with value: 0.0555057872787384.\n"
     ]
    },
    {
     "name": "stdout",
     "output_type": "stream",
     "text": [
      "RP3betaRecommender: Similarity column 38121 (100.0%), 3982.24 column/sec. Elapsed time 9.57 sec\n",
      "EvaluatorHoldout: Processed 35572 (100.0%) in 8.88 sec. Users per second: 4005\n"
     ]
    },
    {
     "name": "stderr",
     "output_type": "stream",
     "text": [
      "[I 2024-12-09 13:13:49,081] Trial 72 finished with value: 0.05529435716338159 and parameters: {'topK': 16, 'alpha': 0.2782139045899416, 'beta': 0.1769268337315574}. Best is trial 39 with value: 0.0555057872787384.\n"
     ]
    },
    {
     "name": "stdout",
     "output_type": "stream",
     "text": [
      "RP3betaRecommender: Similarity column 38121 (100.0%), 3835.91 column/sec. Elapsed time 9.94 sec\n",
      "EvaluatorHoldout: Processed 35572 (100.0%) in 8.93 sec. Users per second: 3984\n"
     ]
    },
    {
     "name": "stderr",
     "output_type": "stream",
     "text": [
      "[I 2024-12-09 13:14:08,370] Trial 73 finished with value: 0.05543916965189127 and parameters: {'topK': 16, 'alpha': 0.3059649047388596, 'beta': 0.27970425969487256}. Best is trial 39 with value: 0.0555057872787384.\n"
     ]
    },
    {
     "name": "stdout",
     "output_type": "stream",
     "text": [
      "RP3betaRecommender: Similarity column 38121 (100.0%), 4182.25 column/sec. Elapsed time 9.11 sec\n",
      "EvaluatorHoldout: Processed 35572 (100.0%) in 8.99 sec. Users per second: 3957\n"
     ]
    },
    {
     "name": "stderr",
     "output_type": "stream",
     "text": [
      "[I 2024-12-09 13:14:26,841] Trial 74 finished with value: 0.055159840136434976 and parameters: {'topK': 15, 'alpha': 0.29737472423415207, 'beta': 0.10975588039582806}. Best is trial 39 with value: 0.0555057872787384.\n"
     ]
    },
    {
     "name": "stdout",
     "output_type": "stream",
     "text": [
      "RP3betaRecommender: Similarity column 38121 (100.0%), 3992.88 column/sec. Elapsed time 9.55 sec\n",
      "EvaluatorHoldout: Processed 35572 (100.0%) in 8.87 sec. Users per second: 4011\n"
     ]
    },
    {
     "name": "stderr",
     "output_type": "stream",
     "text": [
      "[I 2024-12-09 13:14:45,599] Trial 75 finished with value: 0.055124639898688176 and parameters: {'topK': 10, 'alpha': 0.2490981603189915, 'beta': 0.27348563259292813}. Best is trial 39 with value: 0.0555057872787384.\n"
     ]
    },
    {
     "name": "stdout",
     "output_type": "stream",
     "text": [
      "RP3betaRecommender: Similarity column 38121 (100.0%), 4227.13 column/sec. Elapsed time 9.02 sec\n",
      "EvaluatorHoldout: Processed 35572 (100.0%) in 8.81 sec. Users per second: 4038\n"
     ]
    },
    {
     "name": "stderr",
     "output_type": "stream",
     "text": [
      "[I 2024-12-09 13:15:03,744] Trial 76 finished with value: 0.05373020558348732 and parameters: {'topK': 7, 'alpha': 0.22893466769753085, 'beta': 0.3042176928472222}. Best is trial 39 with value: 0.0555057872787384.\n"
     ]
    },
    {
     "name": "stdout",
     "output_type": "stream",
     "text": [
      "RP3betaRecommender: Similarity column 38121 (100.0%), 4376.76 column/sec. Elapsed time 8.71 sec\n",
      "EvaluatorHoldout: Processed 35572 (100.0%) in 8.87 sec. Users per second: 4010\n"
     ]
    },
    {
     "name": "stderr",
     "output_type": "stream",
     "text": [
      "[I 2024-12-09 13:15:21,696] Trial 77 finished with value: 0.054882632407509714 and parameters: {'topK': 16, 'alpha': 0.3522064467741013, 'beta': 0.07811674534321078}. Best is trial 39 with value: 0.0555057872787384.\n"
     ]
    },
    {
     "name": "stdout",
     "output_type": "stream",
     "text": [
      "RP3betaRecommender: Similarity column 38121 (100.0%), 3971.41 column/sec. Elapsed time 9.60 sec\n",
      "EvaluatorHoldout: Processed 35572 (100.0%) in 8.89 sec. Users per second: 4001\n"
     ]
    },
    {
     "name": "stderr",
     "output_type": "stream",
     "text": [
      "[I 2024-12-09 13:15:40,549] Trial 78 finished with value: 0.055353383435159415 and parameters: {'topK': 13, 'alpha': 0.3092185193496623, 'beta': 0.22811507416860385}. Best is trial 39 with value: 0.0555057872787384.\n"
     ]
    },
    {
     "name": "stdout",
     "output_type": "stream",
     "text": [
      "RP3betaRecommender: Similarity column 38121 (100.0%), 3816.88 column/sec. Elapsed time 9.99 sec\n",
      "EvaluatorHoldout: Processed 35572 (100.0%) in 8.96 sec. Users per second: 3968\n"
     ]
    },
    {
     "name": "stderr",
     "output_type": "stream",
     "text": [
      "[I 2024-12-09 13:15:59,861] Trial 79 finished with value: 0.055453162064328834 and parameters: {'topK': 13, 'alpha': 0.2826195603012339, 'beta': 0.18149493839854275}. Best is trial 39 with value: 0.0555057872787384.\n"
     ]
    },
    {
     "name": "stdout",
     "output_type": "stream",
     "text": [
      "RP3betaRecommender: Similarity column 38121 (100.0%), 4476.99 column/sec. Elapsed time 8.51 sec\n",
      "EvaluatorHoldout: Processed 35572 (100.0%) in 8.64 sec. Users per second: 4117\n"
     ]
    },
    {
     "name": "stderr",
     "output_type": "stream",
     "text": [
      "[I 2024-12-09 13:16:17,372] Trial 80 finished with value: 0.055464676828036276 and parameters: {'topK': 13, 'alpha': 0.26632859063223624, 'beta': 0.166775368609377}. Best is trial 39 with value: 0.0555057872787384.\n"
     ]
    },
    {
     "name": "stdout",
     "output_type": "stream",
     "text": [
      "RP3betaRecommender: Similarity column 38121 (100.0%), 4092.75 column/sec. Elapsed time 9.31 sec\n",
      "EvaluatorHoldout: Processed 35572 (100.0%) in 8.65 sec. Users per second: 4112\n"
     ]
    },
    {
     "name": "stderr",
     "output_type": "stream",
     "text": [
      "[I 2024-12-09 13:16:35,692] Trial 81 finished with value: 0.055503563976658815 and parameters: {'topK': 13, 'alpha': 0.27367999400939735, 'beta': 0.16346656949681454}. Best is trial 39 with value: 0.0555057872787384.\n"
     ]
    },
    {
     "name": "stdout",
     "output_type": "stream",
     "text": [
      "RP3betaRecommender: Similarity column 38121 (100.0%), 3732.44 column/sec. Elapsed time 10.21 sec\n",
      "EvaluatorHoldout: Processed 35572 (100.0%) in 8.68 sec. Users per second: 4099\n"
     ]
    },
    {
     "name": "stderr",
     "output_type": "stream",
     "text": [
      "[I 2024-12-09 13:16:54,932] Trial 82 finished with value: 0.05536290023899488 and parameters: {'topK': 13, 'alpha': 0.27316137684253944, 'beta': 0.14763775917491748}. Best is trial 39 with value: 0.0555057872787384.\n"
     ]
    },
    {
     "name": "stdout",
     "output_type": "stream",
     "text": [
      "RP3betaRecommender: Similarity column 38121 (100.0%), 4159.84 column/sec. Elapsed time 9.16 sec\n",
      "EvaluatorHoldout: Processed 35572 (100.0%) in 8.55 sec. Users per second: 4162\n"
     ]
    },
    {
     "name": "stderr",
     "output_type": "stream",
     "text": [
      "[I 2024-12-09 13:17:12,949] Trial 83 finished with value: 0.054163798573515075 and parameters: {'topK': 10, 'alpha': 0.22497895433186801, 'beta': 0.035579474307357445}. Best is trial 39 with value: 0.0555057872787384.\n"
     ]
    },
    {
     "name": "stdout",
     "output_type": "stream",
     "text": [
      "RP3betaRecommender: Similarity column 38121 (100.0%), 4376.89 column/sec. Elapsed time 8.71 sec\n",
      "EvaluatorHoldout: Processed 35572 (100.0%) in 8.76 sec. Users per second: 4063\n"
     ]
    },
    {
     "name": "stderr",
     "output_type": "stream",
     "text": [
      "[I 2024-12-09 13:17:30,724] Trial 84 finished with value: 0.05459099273728546 and parameters: {'topK': 8, 'alpha': 0.2699644338437161, 'beta': 0.15225199295362812}. Best is trial 39 with value: 0.0555057872787384.\n"
     ]
    },
    {
     "name": "stdout",
     "output_type": "stream",
     "text": [
      "RP3betaRecommender: Similarity column 38121 (100.0%), 4068.54 column/sec. Elapsed time 9.37 sec\n",
      "EvaluatorHoldout: Processed 35572 (100.0%) in 9.05 sec. Users per second: 3929\n"
     ]
    },
    {
     "name": "stderr",
     "output_type": "stream",
     "text": [
      "[I 2024-12-09 13:17:49,473] Trial 85 finished with value: 0.05503328594453473 and parameters: {'topK': 12, 'alpha': 0.18826808501627185, 'beta': 0.09919182187080086}. Best is trial 39 with value: 0.0555057872787384.\n"
     ]
    },
    {
     "name": "stdout",
     "output_type": "stream",
     "text": [
      "RP3betaRecommender: Similarity column 38121 (100.0%), 4044.23 column/sec. Elapsed time 9.43 sec\n",
      "EvaluatorHoldout: Processed 35572 (100.0%) in 8.83 sec. Users per second: 4031\n"
     ]
    },
    {
     "name": "stderr",
     "output_type": "stream",
     "text": [
      "[I 2024-12-09 13:18:08,071] Trial 86 finished with value: 0.05537468831379588 and parameters: {'topK': 11, 'alpha': 0.24824204372602957, 'beta': 0.17281835893258396}. Best is trial 39 with value: 0.0555057872787384.\n"
     ]
    },
    {
     "name": "stdout",
     "output_type": "stream",
     "text": [
      "RP3betaRecommender: Similarity column 38121 (100.0%), 4171.62 column/sec. Elapsed time 9.14 sec\n",
      "EvaluatorHoldout: Processed 35572 (100.0%) in 8.81 sec. Users per second: 4038\n"
     ]
    },
    {
     "name": "stderr",
     "output_type": "stream",
     "text": [
      "[I 2024-12-09 13:18:26,352] Trial 87 finished with value: 0.0549174834763902 and parameters: {'topK': 13, 'alpha': 0.254733308514276, 'beta': 0.06301984740679636}. Best is trial 39 with value: 0.0555057872787384.\n"
     ]
    },
    {
     "name": "stdout",
     "output_type": "stream",
     "text": [
      "RP3betaRecommender: Similarity column 38121 (100.0%), 3686.88 column/sec. Elapsed time 10.34 sec\n",
      "EvaluatorHoldout: Processed 35572 (100.0%) in 8.70 sec. Users per second: 4089\n"
     ]
    },
    {
     "name": "stderr",
     "output_type": "stream",
     "text": [
      "[I 2024-12-09 13:18:45,738] Trial 88 finished with value: 0.05410606746165425 and parameters: {'topK': 11, 'alpha': 0.7648495875581445, 'beta': 0.16307857862711372}. Best is trial 39 with value: 0.0555057872787384.\n"
     ]
    },
    {
     "name": "stdout",
     "output_type": "stream",
     "text": [
      "RP3betaRecommender: Similarity column 38121 (100.0%), 4628.16 column/sec. Elapsed time 8.24 sec\n",
      "EvaluatorHoldout: Processed 35572 (100.0%) in 8.38 sec. Users per second: 4244\n"
     ]
    },
    {
     "name": "stderr",
     "output_type": "stream",
     "text": [
      "[I 2024-12-09 13:19:02,613] Trial 89 finished with value: 0.04880828108071265 and parameters: {'topK': 4, 'alpha': 0.241979857543252, 'beta': 0.11337341836876094}. Best is trial 39 with value: 0.0555057872787384.\n"
     ]
    },
    {
     "name": "stdout",
     "output_type": "stream",
     "text": [
      "RP3betaRecommender: Similarity column 38121 (100.0%), 4223.93 column/sec. Elapsed time 9.03 sec\n",
      "EvaluatorHoldout: Processed 35572 (100.0%) in 8.66 sec. Users per second: 4110\n"
     ]
    },
    {
     "name": "stderr",
     "output_type": "stream",
     "text": [
      "[I 2024-12-09 13:19:20,608] Trial 90 finished with value: 0.0547831460538767 and parameters: {'topK': 9, 'alpha': 0.20709182773076393, 'beta': 0.12931073958447165}. Best is trial 39 with value: 0.0555057872787384.\n"
     ]
    },
    {
     "name": "stdout",
     "output_type": "stream",
     "text": [
      "RP3betaRecommender: Similarity column 38121 (100.0%), 4511.57 column/sec. Elapsed time 8.45 sec\n",
      "EvaluatorHoldout: Processed 35572 (100.0%) in 8.79 sec. Users per second: 4048\n"
     ]
    },
    {
     "name": "stderr",
     "output_type": "stream",
     "text": [
      "[I 2024-12-09 13:19:38,196] Trial 91 finished with value: 0.055513214647152004 and parameters: {'topK': 13, 'alpha': 0.2677589528240688, 'beta': 0.17161183013544518}. Best is trial 91 with value: 0.055513214647152004.\n"
     ]
    },
    {
     "name": "stdout",
     "output_type": "stream",
     "text": [
      "RP3betaRecommender: Similarity column 38121 (100.0%), 4044.03 column/sec. Elapsed time 9.43 sec\n",
      "EvaluatorHoldout: Processed 35572 (100.0%) in 8.72 sec. Users per second: 4078\n"
     ]
    },
    {
     "name": "stderr",
     "output_type": "stream",
     "text": [
      "[I 2024-12-09 13:19:56,640] Trial 92 finished with value: 0.0540053182992134 and parameters: {'topK': 7, 'alpha': 0.312051832249747, 'beta': 0.17573882268149482}. Best is trial 91 with value: 0.055513214647152004.\n"
     ]
    },
    {
     "name": "stdout",
     "output_type": "stream",
     "text": [
      "RP3betaRecommender: Similarity column 38121 (100.0%), 4224.80 column/sec. Elapsed time 9.02 sec\n",
      "EvaluatorHoldout: Processed 35572 (100.0%) in 8.56 sec. Users per second: 4154\n"
     ]
    },
    {
     "name": "stderr",
     "output_type": "stream",
     "text": [
      "[I 2024-12-09 13:20:14,555] Trial 93 finished with value: 0.054167927244361695 and parameters: {'topK': 13, 'alpha': 0.26247111879043444, 'beta': 0.0010770747742879783}. Best is trial 91 with value: 0.055513214647152004.\n"
     ]
    },
    {
     "name": "stdout",
     "output_type": "stream",
     "text": [
      "RP3betaRecommender: Similarity column 38121 (100.0%), 4509.59 column/sec. Elapsed time 8.45 sec\n",
      "EvaluatorHoldout: Processed 35572 (100.0%) in 8.55 sec. Users per second: 4160\n"
     ]
    },
    {
     "name": "stderr",
     "output_type": "stream",
     "text": [
      "[I 2024-12-09 13:20:31,887] Trial 94 finished with value: 0.05497369966390362 and parameters: {'topK': 10, 'alpha': 0.17203313136767615, 'beta': 0.15370685831168254}. Best is trial 91 with value: 0.055513214647152004.\n"
     ]
    },
    {
     "name": "stdout",
     "output_type": "stream",
     "text": [
      "RP3betaRecommender: Similarity column 38121 (100.0%), 4332.26 column/sec. Elapsed time 8.80 sec\n",
      "EvaluatorHoldout: Processed 35572 (100.0%) in 8.66 sec. Users per second: 4109\n"
     ]
    },
    {
     "name": "stderr",
     "output_type": "stream",
     "text": [
      "[I 2024-12-09 13:20:49,663] Trial 95 finished with value: 0.054836691601561065 and parameters: {'topK': 11, 'alpha': 0.3568466194933939, 'beta': 0.08644900260073883}. Best is trial 91 with value: 0.055513214647152004.\n"
     ]
    },
    {
     "name": "stdout",
     "output_type": "stream",
     "text": [
      "RP3betaRecommender: Similarity column 38121 (100.0%), 3993.76 column/sec. Elapsed time 9.55 sec\n",
      "EvaluatorHoldout: Processed 35572 (100.0%) in 8.91 sec. Users per second: 3994\n"
     ]
    },
    {
     "name": "stderr",
     "output_type": "stream",
     "text": [
      "[I 2024-12-09 13:21:08,462] Trial 96 finished with value: 0.055329100023380214 and parameters: {'topK': 12, 'alpha': 0.29310968247251856, 'beta': 0.22081144494821972}. Best is trial 91 with value: 0.055513214647152004.\n"
     ]
    },
    {
     "name": "stdout",
     "output_type": "stream",
     "text": [
      "RP3betaRecommender: Similarity column 38121 (100.0%), 4446.84 column/sec. Elapsed time 8.57 sec\n",
      "EvaluatorHoldout: Processed 35572 (100.0%) in 8.68 sec. Users per second: 4100\n"
     ]
    },
    {
     "name": "stderr",
     "output_type": "stream",
     "text": [
      "[I 2024-12-09 13:21:26,034] Trial 97 finished with value: 0.05440971943333173 and parameters: {'topK': 8, 'alpha': 0.37286434206188956, 'beta': 0.2798809889715209}. Best is trial 91 with value: 0.055513214647152004.\n"
     ]
    },
    {
     "name": "stdout",
     "output_type": "stream",
     "text": [
      "RP3betaRecommender: Similarity column 38121 (100.0%), 4040.04 column/sec. Elapsed time 9.44 sec\n",
      "EvaluatorHoldout: Processed 35572 (100.0%) in 8.68 sec. Users per second: 4097\n"
     ]
    },
    {
     "name": "stderr",
     "output_type": "stream",
     "text": [
      "[I 2024-12-09 13:21:44,507] Trial 98 finished with value: 0.055414146626825964 and parameters: {'topK': 14, 'alpha': 0.23294108873752434, 'beta': 0.13525366938003736}. Best is trial 91 with value: 0.055513214647152004.\n"
     ]
    },
    {
     "name": "stdout",
     "output_type": "stream",
     "text": [
      "RP3betaRecommender: Similarity column 38121 (100.0%), 4244.28 column/sec. Elapsed time 8.98 sec\n",
      "EvaluatorHoldout: Processed 35572 (100.0%) in 8.87 sec. Users per second: 4012\n"
     ]
    },
    {
     "name": "stderr",
     "output_type": "stream",
     "text": [
      "[I 2024-12-09 13:22:02,799] Trial 99 finished with value: 0.04767307954892144 and parameters: {'topK': 15, 'alpha': 0.1940024809364494, 'beta': 0.6601297608310035}. Best is trial 91 with value: 0.055513214647152004.\n"
     ]
    },
    {
     "name": "stdout",
     "output_type": "stream",
     "text": [
      "RP3betaRecommender: Similarity column 38121 (100.0%), 4252.70 column/sec. Elapsed time 8.96 sec\n",
      "EvaluatorHoldout: Processed 35572 (100.0%) in 8.55 sec. Users per second: 4159\n"
     ]
    },
    {
     "name": "stderr",
     "output_type": "stream",
     "text": [
      "[I 2024-12-09 13:22:20,632] Trial 100 finished with value: 0.05473564235469472 and parameters: {'topK': 9, 'alpha': 0.23738970782291757, 'beta': 0.12912886609125376}. Best is trial 91 with value: 0.055513214647152004.\n"
     ]
    },
    {
     "name": "stdout",
     "output_type": "stream",
     "text": [
      "RP3betaRecommender: Similarity column 38121 (100.0%), 3881.09 column/sec. Elapsed time 9.82 sec\n",
      "EvaluatorHoldout: Processed 35572 (100.0%) in 8.62 sec. Users per second: 4127\n"
     ]
    },
    {
     "name": "stderr",
     "output_type": "stream",
     "text": [
      "[I 2024-12-09 13:22:39,434] Trial 101 finished with value: 0.05534288159583141 and parameters: {'topK': 14, 'alpha': 0.21811906677534046, 'beta': 0.1800688750361309}. Best is trial 91 with value: 0.055513214647152004.\n"
     ]
    },
    {
     "name": "stdout",
     "output_type": "stream",
     "text": [
      "RP3betaRecommender: Similarity column 38121 (100.0%), 3840.72 column/sec. Elapsed time 9.93 sec\n",
      "EvaluatorHoldout: Processed 35572 (100.0%) in 8.65 sec. Users per second: 4111\n"
     ]
    },
    {
     "name": "stderr",
     "output_type": "stream",
     "text": [
      "[I 2024-12-09 13:22:58,358] Trial 102 finished with value: 0.05537736230029153 and parameters: {'topK': 13, 'alpha': 0.26324714506320107, 'beta': 0.14709441326248163}. Best is trial 91 with value: 0.055513214647152004.\n"
     ]
    },
    {
     "name": "stdout",
     "output_type": "stream",
     "text": [
      "RP3betaRecommender: Similarity column 38121 (100.0%), 4216.94 column/sec. Elapsed time 9.04 sec\n",
      "EvaluatorHoldout: Processed 35572 (100.0%) in 8.66 sec. Users per second: 4106\n"
     ]
    },
    {
     "name": "stderr",
     "output_type": "stream",
     "text": [
      "[I 2024-12-09 13:23:16,416] Trial 103 finished with value: 0.05521140891980131 and parameters: {'topK': 11, 'alpha': 0.13394575819108037, 'beta': 0.2545149981661786}. Best is trial 91 with value: 0.055513214647152004.\n"
     ]
    },
    {
     "name": "stdout",
     "output_type": "stream",
     "text": [
      "RP3betaRecommender: Similarity column 38121 (100.0%), 4065.53 column/sec. Elapsed time 9.38 sec\n",
      "EvaluatorHoldout: Processed 35572 (100.0%) in 8.92 sec. Users per second: 3989\n"
     ]
    },
    {
     "name": "stderr",
     "output_type": "stream",
     "text": [
      "[I 2024-12-09 13:23:35,068] Trial 104 finished with value: 0.055052607365520353 and parameters: {'topK': 14, 'alpha': 0.26064208094371244, 'beta': 0.09797643811748308}. Best is trial 91 with value: 0.055513214647152004.\n"
     ]
    },
    {
     "name": "stdout",
     "output_type": "stream",
     "text": [
      "RP3betaRecommender: Similarity column 38121 (100.0%), 3871.40 column/sec. Elapsed time 9.85 sec\n",
      "EvaluatorHoldout: Processed 35572 (100.0%) in 8.60 sec. Users per second: 4137\n"
     ]
    },
    {
     "name": "stderr",
     "output_type": "stream",
     "text": [
      "[I 2024-12-09 13:23:53,816] Trial 105 finished with value: 0.05307674441641963 and parameters: {'topK': 6, 'alpha': 0.31809340526992713, 'beta': 0.20995607224077367}. Best is trial 91 with value: 0.055513214647152004.\n"
     ]
    },
    {
     "name": "stdout",
     "output_type": "stream",
     "text": [
      "RP3betaRecommender: Similarity column 38121 (100.0%), 3850.93 column/sec. Elapsed time 9.90 sec\n",
      "EvaluatorHoldout: Processed 35572 (100.0%) in 8.70 sec. Users per second: 4087\n"
     ]
    },
    {
     "name": "stderr",
     "output_type": "stream",
     "text": [
      "[I 2024-12-09 13:24:12,765] Trial 106 finished with value: 0.05508904921652126 and parameters: {'topK': 13, 'alpha': 0.296383662396399, 'beta': 0.07353648632867746}. Best is trial 91 with value: 0.055513214647152004.\n"
     ]
    },
    {
     "name": "stdout",
     "output_type": "stream",
     "text": [
      "RP3betaRecommender: Similarity column 38121 (100.0%), 4249.97 column/sec. Elapsed time 8.97 sec\n",
      "EvaluatorHoldout: Processed 35572 (100.0%) in 8.64 sec. Users per second: 4119\n"
     ]
    },
    {
     "name": "stderr",
     "output_type": "stream",
     "text": [
      "[I 2024-12-09 13:24:30,736] Trial 107 finished with value: 0.054137537281862574 and parameters: {'topK': 18, 'alpha': 0.20975452321754262, 'beta': 0.03159012959031263}. Best is trial 91 with value: 0.055513214647152004.\n"
     ]
    },
    {
     "name": "stdout",
     "output_type": "stream",
     "text": [
      "RP3betaRecommender: Similarity column 38121 (100.0%), 3949.49 column/sec. Elapsed time 9.65 sec\n",
      "EvaluatorHoldout: Processed 35572 (100.0%) in 8.63 sec. Users per second: 4124\n"
     ]
    },
    {
     "name": "stderr",
     "output_type": "stream",
     "text": [
      "[I 2024-12-09 13:24:49,373] Trial 108 finished with value: 0.05496875105977567 and parameters: {'topK': 15, 'alpha': 0.16898181014276087, 'beta': 0.11673163689405487}. Best is trial 91 with value: 0.055513214647152004.\n"
     ]
    },
    {
     "name": "stdout",
     "output_type": "stream",
     "text": [
      "RP3betaRecommender: Similarity column 38121 (100.0%), 3814.26 column/sec. Elapsed time 9.99 sec\n",
      "EvaluatorHoldout: Processed 35572 (100.0%) in 8.61 sec. Users per second: 4130\n"
     ]
    },
    {
     "name": "stderr",
     "output_type": "stream",
     "text": [
      "[I 2024-12-09 13:25:08,313] Trial 109 finished with value: 0.05516799484702396 and parameters: {'topK': 10, 'alpha': 0.25013823053228357, 'beta': 0.17260444451521878}. Best is trial 91 with value: 0.055513214647152004.\n"
     ]
    },
    {
     "name": "stdout",
     "output_type": "stream",
     "text": [
      "RP3betaRecommender: Similarity column 38121 (100.0%), 4510.31 column/sec. Elapsed time 8.45 sec\n",
      "EvaluatorHoldout: Processed 35572 (100.0%) in 8.75 sec. Users per second: 4067\n"
     ]
    },
    {
     "name": "stderr",
     "output_type": "stream",
     "text": [
      "[I 2024-12-09 13:25:25,899] Trial 110 finished with value: 0.05516275842958148 and parameters: {'topK': 12, 'alpha': 0.40042415306734347, 'beta': 0.32569235125252083}. Best is trial 91 with value: 0.055513214647152004.\n"
     ]
    },
    {
     "name": "stdout",
     "output_type": "stream",
     "text": [
      "RP3betaRecommender: Similarity column 38121 (100.0%), 4339.30 column/sec. Elapsed time 8.79 sec\n",
      "EvaluatorHoldout: Processed 35572 (100.0%) in 8.78 sec. Users per second: 4052\n"
     ]
    },
    {
     "name": "stderr",
     "output_type": "stream",
     "text": [
      "[I 2024-12-09 13:25:43,791] Trial 111 finished with value: 0.0552145123951581 and parameters: {'topK': 11, 'alpha': 0.2680143712394621, 'beta': 0.14294771076547433}. Best is trial 91 with value: 0.055513214647152004.\n"
     ]
    },
    {
     "name": "stdout",
     "output_type": "stream",
     "text": [
      "RP3betaRecommender: Similarity column 38121 (100.0%), 3743.41 column/sec. Elapsed time 10.18 sec\n",
      "EvaluatorHoldout: Processed 35572 (100.0%) in 8.86 sec. Users per second: 4014\n"
     ]
    },
    {
     "name": "stderr",
     "output_type": "stream",
     "text": [
      "[I 2024-12-09 13:26:03,193] Trial 112 finished with value: 0.055466963716778866 and parameters: {'topK': 13, 'alpha': 0.271644122140795, 'beta': 0.18384591911043008}. Best is trial 91 with value: 0.055513214647152004.\n"
     ]
    },
    {
     "name": "stdout",
     "output_type": "stream",
     "text": [
      "RP3betaRecommender: Similarity column 38121 (100.0%), 4303.95 column/sec. Elapsed time 8.86 sec\n",
      "EvaluatorHoldout: Processed 35572 (100.0%) in 8.80 sec. Users per second: 4042\n"
     ]
    },
    {
     "name": "stderr",
     "output_type": "stream",
     "text": [
      "[I 2024-12-09 13:26:21,231] Trial 113 finished with value: 0.05539653423684211 and parameters: {'topK': 15, 'alpha': 0.3219630307581437, 'beta': 0.19235412850666786}. Best is trial 91 with value: 0.055513214647152004.\n"
     ]
    },
    {
     "name": "stdout",
     "output_type": "stream",
     "text": [
      "RP3betaRecommender: Similarity column 38121 (100.0%), 4383.47 column/sec. Elapsed time 8.70 sec\n",
      "EvaluatorHoldout: Processed 35572 (100.0%) in 8.95 sec. Users per second: 3973\n"
     ]
    },
    {
     "name": "stderr",
     "output_type": "stream",
     "text": [
      "[I 2024-12-09 13:26:39,265] Trial 114 finished with value: 0.05545436797980739 and parameters: {'topK': 15, 'alpha': 0.32031966006075563, 'beta': 0.214804752252708}. Best is trial 91 with value: 0.055513214647152004.\n"
     ]
    },
    {
     "name": "stdout",
     "output_type": "stream",
     "text": [
      "RP3betaRecommender: Similarity column 38121 (100.0%), 3825.50 column/sec. Elapsed time 9.96 sec\n",
      "EvaluatorHoldout: Processed 35572 (100.0%) in 8.91 sec. Users per second: 3992\n"
     ]
    },
    {
     "name": "stderr",
     "output_type": "stream",
     "text": [
      "[I 2024-12-09 13:26:58,560] Trial 115 finished with value: 0.055300784994081115 and parameters: {'topK': 17, 'alpha': 0.3417169353022633, 'beta': 0.24694989981138427}. Best is trial 91 with value: 0.055513214647152004.\n"
     ]
    },
    {
     "name": "stdout",
     "output_type": "stream",
     "text": [
      "RP3betaRecommender: Similarity column 38121 (100.0%), 3954.57 column/sec. Elapsed time 9.64 sec\n",
      "EvaluatorHoldout: Processed 35572 (100.0%) in 9.10 sec. Users per second: 3909\n"
     ]
    },
    {
     "name": "stderr",
     "output_type": "stream",
     "text": [
      "[I 2024-12-09 13:27:17,736] Trial 116 finished with value: 0.05512387685873679 and parameters: {'topK': 20, 'alpha': 0.3218686260331607, 'beta': 0.20753886580232644}. Best is trial 91 with value: 0.055513214647152004.\n"
     ]
    },
    {
     "name": "stdout",
     "output_type": "stream",
     "text": [
      "RP3betaRecommender: Similarity column 38121 (100.0%), 4215.71 column/sec. Elapsed time 9.04 sec\n",
      "EvaluatorHoldout: Processed 35572 (100.0%) in 9.01 sec. Users per second: 3950\n"
     ]
    },
    {
     "name": "stderr",
     "output_type": "stream",
     "text": [
      "[I 2024-12-09 13:27:36,168] Trial 117 finished with value: 0.05543448543441314 and parameters: {'topK': 15, 'alpha': 0.3627700107576972, 'beta': 0.19040305686538544}. Best is trial 91 with value: 0.055513214647152004.\n"
     ]
    },
    {
     "name": "stdout",
     "output_type": "stream",
     "text": [
      "RP3betaRecommender: Similarity column 38121 (100.0%), 3873.40 column/sec. Elapsed time 9.84 sec\n",
      "EvaluatorHoldout: Processed 35572 (100.0%) in 9.02 sec. Users per second: 3944\n"
     ]
    },
    {
     "name": "stderr",
     "output_type": "stream",
     "text": [
      "[I 2024-12-09 13:27:55,416] Trial 118 finished with value: 0.0554355530210115 and parameters: {'topK': 14, 'alpha': 0.36346646753405265, 'beta': 0.22516256768848308}. Best is trial 91 with value: 0.055513214647152004.\n"
     ]
    },
    {
     "name": "stdout",
     "output_type": "stream",
     "text": [
      "RP3betaRecommender: Similarity column 38121 (100.0%), 3814.01 column/sec. Elapsed time 9.99 sec\n",
      "EvaluatorHoldout: Processed 35572 (100.0%) in 9.60 sec. Users per second: 3704\n"
     ]
    },
    {
     "name": "stderr",
     "output_type": "stream",
     "text": [
      "[I 2024-12-09 13:28:15,672] Trial 119 finished with value: 0.05359105788572619 and parameters: {'topK': 36, 'alpha': 0.3665713864443454, 'beta': 0.2786328202174595}. Best is trial 91 with value: 0.055513214647152004.\n"
     ]
    },
    {
     "name": "stdout",
     "output_type": "stream",
     "text": [
      "RP3betaRecommender: Similarity column 38121 (100.0%), 4125.56 column/sec. Elapsed time 9.24 sec\n",
      "EvaluatorHoldout: Processed 35572 (100.0%) in 9.09 sec. Users per second: 3913\n"
     ]
    },
    {
     "name": "stderr",
     "output_type": "stream",
     "text": [
      "[I 2024-12-09 13:28:34,391] Trial 120 finished with value: 0.05548166116028281 and parameters: {'topK': 15, 'alpha': 0.3800304206715095, 'beta': 0.22097140494614834}. Best is trial 91 with value: 0.055513214647152004.\n"
     ]
    },
    {
     "name": "stdout",
     "output_type": "stream",
     "text": [
      "RP3betaRecommender: Similarity column 38121 (100.0%), 3783.80 column/sec. Elapsed time 10.07 sec\n",
      "EvaluatorHoldout: Processed 35572 (100.0%) in 8.95 sec. Users per second: 3976\n"
     ]
    },
    {
     "name": "stderr",
     "output_type": "stream",
     "text": [
      "[I 2024-12-09 13:28:53,799] Trial 121 finished with value: 0.05549398916393824 and parameters: {'topK': 15, 'alpha': 0.37911367136049035, 'beta': 0.21994425508527315}. Best is trial 91 with value: 0.055513214647152004.\n"
     ]
    },
    {
     "name": "stdout",
     "output_type": "stream",
     "text": [
      "RP3betaRecommender: Similarity column 38121 (100.0%), 4404.85 column/sec. Elapsed time 8.65 sec\n",
      "EvaluatorHoldout: Processed 35572 (100.0%) in 8.94 sec. Users per second: 3979\n"
     ]
    },
    {
     "name": "stderr",
     "output_type": "stream",
     "text": [
      "[I 2024-12-09 13:29:11,746] Trial 122 finished with value: 0.05531794112187223 and parameters: {'topK': 12, 'alpha': 0.38452988992066006, 'beta': 0.2214039169011514}. Best is trial 91 with value: 0.055513214647152004.\n"
     ]
    },
    {
     "name": "stdout",
     "output_type": "stream",
     "text": [
      "RP3betaRecommender: Similarity column 38121 (100.0%), 4294.47 column/sec. Elapsed time 8.88 sec\n",
      "EvaluatorHoldout: Processed 35572 (100.0%) in 8.92 sec. Users per second: 3988\n"
     ]
    },
    {
     "name": "stderr",
     "output_type": "stream",
     "text": [
      "[I 2024-12-09 13:29:29,984] Trial 123 finished with value: 0.05530387842943874 and parameters: {'topK': 18, 'alpha': 0.3527806275662949, 'beta': 0.2423490158626713}. Best is trial 91 with value: 0.055513214647152004.\n"
     ]
    },
    {
     "name": "stdout",
     "output_type": "stream",
     "text": [
      "RP3betaRecommender: Similarity column 38121 (100.0%), 3928.04 column/sec. Elapsed time 9.70 sec\n",
      "EvaluatorHoldout: Processed 35572 (100.0%) in 8.92 sec. Users per second: 3990\n"
     ]
    },
    {
     "name": "stderr",
     "output_type": "stream",
     "text": [
      "[I 2024-12-09 13:29:49,037] Trial 124 finished with value: 0.055254140272621856 and parameters: {'topK': 17, 'alpha': 0.42320270016476447, 'beta': 0.2568057665206812}. Best is trial 91 with value: 0.055513214647152004.\n"
     ]
    },
    {
     "name": "stdout",
     "output_type": "stream",
     "text": [
      "RP3betaRecommender: Similarity column 38121 (100.0%), 3827.24 column/sec. Elapsed time 9.96 sec\n",
      "EvaluatorHoldout: Processed 35572 (100.0%) in 8.73 sec. Users per second: 4073\n"
     ]
    },
    {
     "name": "stderr",
     "output_type": "stream",
     "text": [
      "[I 2024-12-09 13:30:08,114] Trial 125 finished with value: 0.055458682948420115 and parameters: {'topK': 14, 'alpha': 0.3011711972251658, 'beta': 0.22391032544254436}. Best is trial 91 with value: 0.055513214647152004.\n"
     ]
    },
    {
     "name": "stdout",
     "output_type": "stream",
     "text": [
      "RP3betaRecommender: Similarity column 38121 (100.0%), 4147.79 column/sec. Elapsed time 9.19 sec\n",
      "EvaluatorHoldout: Processed 35572 (100.0%) in 9.36 sec. Users per second: 3801\n"
     ]
    },
    {
     "name": "stderr",
     "output_type": "stream",
     "text": [
      "[I 2024-12-09 13:30:27,211] Trial 126 finished with value: 0.053640386633680384 and parameters: {'topK': 31, 'alpha': 0.28434432797963544, 'beta': 0.16983069829745728}. Best is trial 91 with value: 0.055513214647152004.\n"
     ]
    },
    {
     "name": "stdout",
     "output_type": "stream",
     "text": [
      "RP3betaRecommender: Similarity column 38121 (100.0%), 3750.65 column/sec. Elapsed time 10.16 sec\n",
      "EvaluatorHoldout: Processed 35572 (100.0%) in 8.81 sec. Users per second: 4040\n"
     ]
    },
    {
     "name": "stderr",
     "output_type": "stream",
     "text": [
      "[I 2024-12-09 13:30:46,546] Trial 127 finished with value: 0.05533162787210716 and parameters: {'topK': 13, 'alpha': 0.30013394394907206, 'beta': 0.210998010296639}. Best is trial 91 with value: 0.055513214647152004.\n"
     ]
    },
    {
     "name": "stdout",
     "output_type": "stream",
     "text": [
      "RP3betaRecommender: Similarity column 38121 (100.0%), 4470.35 column/sec. Elapsed time 8.53 sec\n",
      "EvaluatorHoldout: Processed 35572 (100.0%) in 8.89 sec. Users per second: 3999\n"
     ]
    },
    {
     "name": "stderr",
     "output_type": "stream",
     "text": [
      "[I 2024-12-09 13:31:04,375] Trial 128 finished with value: 0.05539270899708706 and parameters: {'topK': 15, 'alpha': 0.33878026804123784, 'beta': 0.3086111554111519}. Best is trial 91 with value: 0.055513214647152004.\n"
     ]
    },
    {
     "name": "stdout",
     "output_type": "stream",
     "text": [
      "RP3betaRecommender: Similarity column 38121 (100.0%), 4157.79 column/sec. Elapsed time 9.17 sec\n",
      "EvaluatorHoldout: Processed 35572 (100.0%) in 8.91 sec. Users per second: 3994\n"
     ]
    },
    {
     "name": "stderr",
     "output_type": "stream",
     "text": [
      "[I 2024-12-09 13:31:22,823] Trial 129 finished with value: 0.05422601421842207 and parameters: {'topK': 10, 'alpha': 0.38528358908900345, 'beta': 0.3832156910282978}. Best is trial 91 with value: 0.055513214647152004.\n"
     ]
    },
    {
     "name": "stdout",
     "output_type": "stream",
     "text": [
      "RP3betaRecommender: Similarity column 38121 (100.0%), 3859.57 column/sec. Elapsed time 9.88 sec\n",
      "EvaluatorHoldout: Processed 35572 (100.0%) in 8.91 sec. Users per second: 3993\n"
     ]
    },
    {
     "name": "stderr",
     "output_type": "stream",
     "text": [
      "[I 2024-12-09 13:31:42,037] Trial 130 finished with value: 0.055020674589786066 and parameters: {'topK': 20, 'alpha': 0.30608676536114854, 'beta': 0.1593977663221532}. Best is trial 91 with value: 0.055513214647152004.\n"
     ]
    },
    {
     "name": "stdout",
     "output_type": "stream",
     "text": [
      "RP3betaRecommender: Similarity column 38121 (100.0%), 4059.16 column/sec. Elapsed time 9.39 sec\n",
      "EvaluatorHoldout: Processed 35572 (100.0%) in 8.86 sec. Users per second: 4015\n"
     ]
    },
    {
     "name": "stderr",
     "output_type": "stream",
     "text": [
      "[I 2024-12-09 13:32:00,661] Trial 131 finished with value: 0.05545747033960887 and parameters: {'topK': 14, 'alpha': 0.2840551655145106, 'beta': 0.23073571672559567}. Best is trial 91 with value: 0.055513214647152004.\n"
     ]
    },
    {
     "name": "stdout",
     "output_type": "stream",
     "text": [
      "RP3betaRecommender: Similarity column 38121 (100.0%), 4422.54 column/sec. Elapsed time 8.62 sec\n",
      "EvaluatorHoldout: Processed 35572 (100.0%) in 8.68 sec. Users per second: 4097\n"
     ]
    },
    {
     "name": "stderr",
     "output_type": "stream",
     "text": [
      "[I 2024-12-09 13:32:18,328] Trial 132 finished with value: 0.05545385370872906 and parameters: {'topK': 12, 'alpha': 0.28631774586411646, 'beta': 0.18747502120951803}. Best is trial 91 with value: 0.055513214647152004.\n"
     ]
    },
    {
     "name": "stdout",
     "output_type": "stream",
     "text": [
      "RP3betaRecommender: Similarity column 38121 (100.0%), 4443.03 column/sec. Elapsed time 8.58 sec\n",
      "EvaluatorHoldout: Processed 35572 (100.0%) in 8.76 sec. Users per second: 4062\n"
     ]
    },
    {
     "name": "stderr",
     "output_type": "stream",
     "text": [
      "[I 2024-12-09 13:32:36,050] Trial 133 finished with value: 0.03456804352986625 and parameters: {'topK': 14, 'alpha': 0.2822897430448789, 'beta': 0.9853313327714559}. Best is trial 91 with value: 0.055513214647152004.\n"
     ]
    },
    {
     "name": "stdout",
     "output_type": "stream",
     "text": [
      "RP3betaRecommender: Similarity column 38121 (100.0%), 3972.49 column/sec. Elapsed time 9.60 sec\n",
      "EvaluatorHoldout: Processed 35572 (100.0%) in 9.08 sec. Users per second: 3919\n"
     ]
    },
    {
     "name": "stderr",
     "output_type": "stream",
     "text": [
      "[I 2024-12-09 13:32:55,083] Trial 134 finished with value: 0.05552427649533291 and parameters: {'topK': 12, 'alpha': 0.32001828636509044, 'beta': 0.1867527403780116}. Best is trial 134 with value: 0.05552427649533291.\n"
     ]
    },
    {
     "name": "stdout",
     "output_type": "stream",
     "text": [
      "RP3betaRecommender: Similarity column 38121 (100.0%), 3795.05 column/sec. Elapsed time 10.04 sec\n",
      "EvaluatorHoldout: Processed 35572 (100.0%) in 8.76 sec. Users per second: 4062\n"
     ]
    },
    {
     "name": "stderr",
     "output_type": "stream",
     "text": [
      "[I 2024-12-09 13:33:14,228] Trial 135 finished with value: 0.05551695956691238 and parameters: {'topK': 12, 'alpha': 0.32212122039487684, 'beta': 0.18962730935225186}. Best is trial 134 with value: 0.05552427649533291.\n"
     ]
    },
    {
     "name": "stdout",
     "output_type": "stream",
     "text": [
      "RP3betaRecommender: Similarity column 38121 (100.0%), 4510.22 column/sec. Elapsed time 8.45 sec\n",
      "EvaluatorHoldout: Processed 35572 (100.0%) in 8.68 sec. Users per second: 4098\n"
     ]
    },
    {
     "name": "stderr",
     "output_type": "stream",
     "text": [
      "[I 2024-12-09 13:33:31,712] Trial 136 finished with value: 0.05532726270349761 and parameters: {'topK': 12, 'alpha': 0.3215119886841876, 'beta': 0.23282594639148288}. Best is trial 134 with value: 0.05552427649533291.\n"
     ]
    },
    {
     "name": "stdout",
     "output_type": "stream",
     "text": [
      "RP3betaRecommender: Similarity column 38121 (100.0%), 4192.99 column/sec. Elapsed time 9.09 sec\n",
      "EvaluatorHoldout: Processed 35572 (100.0%) in 8.57 sec. Users per second: 4149\n"
     ]
    },
    {
     "name": "stderr",
     "output_type": "stream",
     "text": [
      "[I 2024-12-09 13:33:49,696] Trial 137 finished with value: 0.054964484060048675 and parameters: {'topK': 9, 'alpha': 0.2924851892623328, 'beta': 0.19009888723383028}. Best is trial 134 with value: 0.05552427649533291.\n"
     ]
    },
    {
     "name": "stdout",
     "output_type": "stream",
     "text": [
      "RP3betaRecommender: Similarity column 38121 (100.0%), 3832.25 column/sec. Elapsed time 9.95 sec\n",
      "EvaluatorHoldout: Processed 35572 (100.0%) in 8.80 sec. Users per second: 4040\n"
     ]
    },
    {
     "name": "stderr",
     "output_type": "stream",
     "text": [
      "[I 2024-12-09 13:34:08,837] Trial 138 finished with value: 0.05216530658141873 and parameters: {'topK': 11, 'alpha': 0.32727456448292097, 'beta': 0.5308492505120626}. Best is trial 134 with value: 0.05552427649533291.\n"
     ]
    },
    {
     "name": "stdout",
     "output_type": "stream",
     "text": [
      "RP3betaRecommender: Similarity column 38121 (100.0%), 4570.39 column/sec. Elapsed time 8.34 sec\n",
      "EvaluatorHoldout: Processed 35572 (100.0%) in 8.81 sec. Users per second: 4036\n"
     ]
    },
    {
     "name": "stderr",
     "output_type": "stream",
     "text": [
      "[I 2024-12-09 13:34:26,351] Trial 139 finished with value: 0.0553173766507971 and parameters: {'topK': 12, 'alpha': 0.3463351011935235, 'beta': 0.26158095962116773}. Best is trial 134 with value: 0.05552427649533291.\n"
     ]
    },
    {
     "name": "stdout",
     "output_type": "stream",
     "text": [
      "RP3betaRecommender: Similarity column 38121 (100.0%), 4026.84 column/sec. Elapsed time 9.47 sec\n",
      "EvaluatorHoldout: Processed 35572 (100.0%) in 8.76 sec. Users per second: 4062\n"
     ]
    },
    {
     "name": "stderr",
     "output_type": "stream",
     "text": [
      "[I 2024-12-09 13:34:44,896] Trial 140 finished with value: 0.054661735688313506 and parameters: {'topK': 8, 'alpha': 0.30757835735091105, 'beta': 0.21852586842871533}. Best is trial 134 with value: 0.05552427649533291.\n"
     ]
    },
    {
     "name": "stdout",
     "output_type": "stream",
     "text": [
      "RP3betaRecommender: Similarity column 38121 (100.0%), 3994.38 column/sec. Elapsed time 9.54 sec\n",
      "EvaluatorHoldout: Processed 35572 (100.0%) in 8.82 sec. Users per second: 4033\n"
     ]
    },
    {
     "name": "stderr",
     "output_type": "stream",
     "text": [
      "[I 2024-12-09 13:35:03,615] Trial 141 finished with value: 0.055446824593623344 and parameters: {'topK': 13, 'alpha': 0.2777464974201179, 'beta': 0.1839890235786838}. Best is trial 134 with value: 0.05552427649533291.\n"
     ]
    },
    {
     "name": "stdout",
     "output_type": "stream",
     "text": [
      "RP3betaRecommender: Similarity column 38121 (100.0%), 4031.32 column/sec. Elapsed time 9.46 sec\n",
      "EvaluatorHoldout: Processed 35572 (100.0%) in 9.05 sec. Users per second: 3930\n"
     ]
    },
    {
     "name": "stderr",
     "output_type": "stream",
     "text": [
      "[I 2024-12-09 13:35:22,503] Trial 142 finished with value: 0.055461961565988094 and parameters: {'topK': 14, 'alpha': 0.28889588373641517, 'beta': 0.20198405229644661}. Best is trial 134 with value: 0.05552427649533291.\n"
     ]
    },
    {
     "name": "stdout",
     "output_type": "stream",
     "text": [
      "RP3betaRecommender: Similarity column 38121 (100.0%), 4453.05 column/sec. Elapsed time 8.56 sec\n",
      "EvaluatorHoldout: Processed 35572 (100.0%) in 8.80 sec. Users per second: 4041\n"
     ]
    },
    {
     "name": "stderr",
     "output_type": "stream",
     "text": [
      "[I 2024-12-09 13:35:40,263] Trial 143 finished with value: 0.05525276590826565 and parameters: {'topK': 16, 'alpha': 0.263019224277137, 'beta': 0.20139882192198594}. Best is trial 134 with value: 0.05552427649533291.\n"
     ]
    },
    {
     "name": "stdout",
     "output_type": "stream",
     "text": [
      "RP3betaRecommender: Similarity column 38121 (100.0%), 4072.59 column/sec. Elapsed time 9.36 sec\n",
      "EvaluatorHoldout: Processed 35572 (100.0%) in 8.66 sec. Users per second: 4107\n"
     ]
    },
    {
     "name": "stderr",
     "output_type": "stream",
     "text": [
      "[I 2024-12-09 13:35:58,636] Trial 144 finished with value: 0.055352836812972026 and parameters: {'topK': 14, 'alpha': 0.31552926340853055, 'beta': 0.11969789773785787}. Best is trial 134 with value: 0.05552427649533291.\n"
     ]
    },
    {
     "name": "stdout",
     "output_type": "stream",
     "text": [
      "RP3betaRecommender: Similarity column 38121 (100.0%), 3911.11 column/sec. Elapsed time 9.75 sec\n",
      "EvaluatorHoldout: Processed 35572 (100.0%) in 8.80 sec. Users per second: 4041\n"
     ]
    },
    {
     "name": "stderr",
     "output_type": "stream",
     "text": [
      "[I 2024-12-09 13:36:17,573] Trial 145 finished with value: 0.055426930892674635 and parameters: {'topK': 15, 'alpha': 0.2927243281506952, 'beta': 0.23588034788286147}. Best is trial 134 with value: 0.05552427649533291.\n"
     ]
    },
    {
     "name": "stdout",
     "output_type": "stream",
     "text": [
      "RP3betaRecommender: Similarity column 38121 (100.0%), 4264.59 column/sec. Elapsed time 8.94 sec\n",
      "EvaluatorHoldout: Processed 35572 (100.0%) in 8.65 sec. Users per second: 4114\n"
     ]
    },
    {
     "name": "stderr",
     "output_type": "stream",
     "text": [
      "[I 2024-12-09 13:36:35,488] Trial 146 finished with value: 0.05511586047702713 and parameters: {'topK': 10, 'alpha': 0.3346697884980413, 'beta': 0.16207598609644513}. Best is trial 134 with value: 0.05552427649533291.\n"
     ]
    },
    {
     "name": "stdout",
     "output_type": "stream",
     "text": [
      "RP3betaRecommender: Similarity column 38121 (100.0%), 4530.21 column/sec. Elapsed time 8.41 sec\n",
      "EvaluatorHoldout: Processed 35572 (100.0%) in 8.67 sec. Users per second: 4105\n"
     ]
    },
    {
     "name": "stderr",
     "output_type": "stream",
     "text": [
      "[I 2024-12-09 13:36:52,927] Trial 147 finished with value: 0.0554224474751836 and parameters: {'topK': 12, 'alpha': 0.2382250413373637, 'beta': 0.20849755670879017}. Best is trial 134 with value: 0.05552427649533291.\n"
     ]
    },
    {
     "name": "stdout",
     "output_type": "stream",
     "text": [
      "RP3betaRecommender: Similarity column 38121 (100.0%), 4545.25 column/sec. Elapsed time 8.39 sec\n",
      "EvaluatorHoldout: Processed 35572 (100.0%) in 8.89 sec. Users per second: 4000\n"
     ]
    },
    {
     "name": "stderr",
     "output_type": "stream",
     "text": [
      "[I 2024-12-09 13:37:10,593] Trial 148 finished with value: 0.041053797217000025 and parameters: {'topK': 13, 'alpha': 0.27884078850261707, 'beta': 0.8250547831119519}. Best is trial 134 with value: 0.05552427649533291.\n"
     ]
    },
    {
     "name": "stdout",
     "output_type": "stream",
     "text": [
      "RP3betaRecommender: Similarity column 38121 (100.0%), 3913.60 column/sec. Elapsed time 9.74 sec\n",
      "EvaluatorHoldout: Processed 35572 (100.0%) in 8.73 sec. Users per second: 4074\n"
     ]
    },
    {
     "name": "stderr",
     "output_type": "stream",
     "text": [
      "[I 2024-12-09 13:37:29,453] Trial 149 finished with value: 0.055123229836555945 and parameters: {'topK': 17, 'alpha': 0.4032910549532035, 'beta': 0.13993390087291452}. Best is trial 134 with value: 0.05552427649533291.\n"
     ]
    },
    {
     "name": "stdout",
     "output_type": "stream",
     "text": [
      "RP3betaRecommender: Similarity column 38121 (100.0%), 4026.45 column/sec. Elapsed time 9.47 sec\n",
      "EvaluatorHoldout: Processed 35572 (100.0%) in 8.66 sec. Users per second: 4106\n"
     ]
    },
    {
     "name": "stderr",
     "output_type": "stream",
     "text": [
      "[I 2024-12-09 13:37:47,927] Trial 150 finished with value: 0.05530346344279853 and parameters: {'topK': 11, 'alpha': 0.3062058153299144, 'beta': 0.16707547779938955}. Best is trial 134 with value: 0.05552427649533291.\n"
     ]
    },
    {
     "name": "stdout",
     "output_type": "stream",
     "text": [
      "RP3betaRecommender: Similarity column 38121 (100.0%), 4404.36 column/sec. Elapsed time 8.66 sec\n",
      "EvaluatorHoldout: Processed 35572 (100.0%) in 9.01 sec. Users per second: 3950\n"
     ]
    },
    {
     "name": "stderr",
     "output_type": "stream",
     "text": [
      "[I 2024-12-09 13:38:05,956] Trial 151 finished with value: 0.055373218011667585 and parameters: {'topK': 14, 'alpha': 0.2608080245305784, 'beta': 0.18807043033882292}. Best is trial 134 with value: 0.05552427649533291.\n"
     ]
    },
    {
     "name": "stdout",
     "output_type": "stream",
     "text": [
      "RP3betaRecommender: Similarity column 38121 (100.0%), 4062.31 column/sec. Elapsed time 9.38 sec\n",
      "EvaluatorHoldout: Processed 35572 (100.0%) in 8.77 sec. Users per second: 4056\n"
     ]
    },
    {
     "name": "stderr",
     "output_type": "stream",
     "text": [
      "[I 2024-12-09 13:38:24,503] Trial 152 finished with value: 0.05537361068719811 and parameters: {'topK': 13, 'alpha': 0.29346206945332115, 'beta': 0.24006190453308598}. Best is trial 134 with value: 0.05552427649533291.\n"
     ]
    },
    {
     "name": "stdout",
     "output_type": "stream",
     "text": [
      "RP3betaRecommender: Similarity column 38121 (100.0%), 3812.18 column/sec. Elapsed time 10.00 sec\n",
      "EvaluatorHoldout: Processed 35572 (100.0%) in 8.87 sec. Users per second: 4010\n"
     ]
    },
    {
     "name": "stderr",
     "output_type": "stream",
     "text": [
      "[I 2024-12-09 13:38:43,753] Trial 153 finished with value: 0.05537519366043003 and parameters: {'topK': 15, 'alpha': 0.2758141368338399, 'beta': 0.17841773057848093}. Best is trial 134 with value: 0.05552427649533291.\n"
     ]
    },
    {
     "name": "stdout",
     "output_type": "stream",
     "text": [
      "RP3betaRecommender: Similarity column 38121 (100.0%), 4362.02 column/sec. Elapsed time 8.74 sec\n",
      "EvaluatorHoldout: Processed 35572 (100.0%) in 8.95 sec. Users per second: 3977\n"
     ]
    },
    {
     "name": "stderr",
     "output_type": "stream",
     "text": [
      "[I 2024-12-09 13:39:01,787] Trial 154 finished with value: 0.055476441476172395 and parameters: {'topK': 13, 'alpha': 0.3257665103770109, 'beta': 0.15273790865936437}. Best is trial 134 with value: 0.05552427649533291.\n"
     ]
    },
    {
     "name": "stdout",
     "output_type": "stream",
     "text": [
      "RP3betaRecommender: Similarity column 38121 (100.0%), 3849.62 column/sec. Elapsed time 9.90 sec\n",
      "EvaluatorHoldout: Processed 35572 (100.0%) in 9.58 sec. Users per second: 3714\n"
     ]
    },
    {
     "name": "stderr",
     "output_type": "stream",
     "text": [
      "[I 2024-12-09 13:39:21,949] Trial 155 finished with value: 0.052572880355333904 and parameters: {'topK': 44, 'alpha': 0.34944802127006935, 'beta': 0.14874453070554153}. Best is trial 134 with value: 0.05552427649533291.\n"
     ]
    },
    {
     "name": "stdout",
     "output_type": "stream",
     "text": [
      "RP3betaRecommender: Similarity column 38121 (100.0%), 3754.63 column/sec. Elapsed time 10.15 sec\n",
      "EvaluatorHoldout: Processed 35572 (100.0%) in 8.72 sec. Users per second: 4080\n"
     ]
    },
    {
     "name": "stderr",
     "output_type": "stream",
     "text": [
      "[I 2024-12-09 13:39:41,158] Trial 156 finished with value: 0.05502352594960366 and parameters: {'topK': 11, 'alpha': 0.3188983329093015, 'beta': 0.11738332156347303}. Best is trial 134 with value: 0.05552427649533291.\n"
     ]
    },
    {
     "name": "stdout",
     "output_type": "stream",
     "text": [
      "RP3betaRecommender: Similarity column 38121 (100.0%), 4294.82 column/sec. Elapsed time 8.88 sec\n",
      "EvaluatorHoldout: Processed 35572 (100.0%) in 8.83 sec. Users per second: 4026\n"
     ]
    },
    {
     "name": "stderr",
     "output_type": "stream",
     "text": [
      "[I 2024-12-09 13:39:59,244] Trial 157 finished with value: 0.05546292986814827 and parameters: {'topK': 14, 'alpha': 0.374828760227951, 'beta': 0.21247339000804666}. Best is trial 134 with value: 0.05552427649533291.\n"
     ]
    },
    {
     "name": "stdout",
     "output_type": "stream",
     "text": [
      "RP3betaRecommender: Similarity column 38121 (100.0%), 4155.43 column/sec. Elapsed time 9.17 sec\n",
      "EvaluatorHoldout: Processed 35572 (100.0%) in 8.75 sec. Users per second: 4066\n"
     ]
    },
    {
     "name": "stderr",
     "output_type": "stream",
     "text": [
      "[I 2024-12-09 13:40:17,555] Trial 158 finished with value: 0.05551745375799209 and parameters: {'topK': 15, 'alpha': 0.3672695414287305, 'beta': 0.21578886286525203}. Best is trial 134 with value: 0.05552427649533291.\n"
     ]
    },
    {
     "name": "stdout",
     "output_type": "stream",
     "text": [
      "RP3betaRecommender: Similarity column 38121 (100.0%), 3731.18 column/sec. Elapsed time 10.22 sec\n",
      "EvaluatorHoldout: Processed 35572 (100.0%) in 8.74 sec. Users per second: 4069\n"
     ]
    },
    {
     "name": "stderr",
     "output_type": "stream",
     "text": [
      "[I 2024-12-09 13:40:36,896] Trial 159 finished with value: 0.05523596341156306 and parameters: {'topK': 14, 'alpha': 0.4181141741911366, 'beta': 0.25309001645523793}. Best is trial 134 with value: 0.05552427649533291.\n"
     ]
    },
    {
     "name": "stdout",
     "output_type": "stream",
     "text": [
      "RP3betaRecommender: Similarity column 38121 (100.0%), 4541.85 column/sec. Elapsed time 8.39 sec\n",
      "EvaluatorHoldout: Processed 35572 (100.0%) in 8.71 sec. Users per second: 4084\n"
     ]
    },
    {
     "name": "stderr",
     "output_type": "stream",
     "text": [
      "[I 2024-12-09 13:40:54,387] Trial 160 finished with value: 0.05522262806130549 and parameters: {'topK': 16, 'alpha': 0.3762489912629568, 'beta': 0.1319615971195393}. Best is trial 134 with value: 0.05552427649533291.\n"
     ]
    },
    {
     "name": "stdout",
     "output_type": "stream",
     "text": [
      "RP3betaRecommender: Similarity column 38121 (100.0%), 4293.97 column/sec. Elapsed time 8.88 sec\n",
      "EvaluatorHoldout: Processed 35572 (100.0%) in 9.08 sec. Users per second: 3916\n"
     ]
    },
    {
     "name": "stderr",
     "output_type": "stream",
     "text": [
      "[I 2024-12-09 13:41:12,741] Trial 161 finished with value: 0.055427401657088586 and parameters: {'topK': 15, 'alpha': 0.3854634876755552, 'beta': 0.21415926753513823}. Best is trial 134 with value: 0.05552427649533291.\n"
     ]
    },
    {
     "name": "stdout",
     "output_type": "stream",
     "text": [
      "RP3betaRecommender: Similarity column 38121 (100.0%), 3907.76 column/sec. Elapsed time 9.76 sec\n",
      "EvaluatorHoldout: Processed 35572 (100.0%) in 8.84 sec. Users per second: 4026\n"
     ]
    },
    {
     "name": "stderr",
     "output_type": "stream",
     "text": [
      "[I 2024-12-09 13:41:31,692] Trial 162 finished with value: 0.05541366805352318 and parameters: {'topK': 13, 'alpha': 0.3553993350561743, 'beta': 0.20110001682373482}. Best is trial 134 with value: 0.05552427649533291.\n"
     ]
    },
    {
     "name": "stdout",
     "output_type": "stream",
     "text": [
      "RP3betaRecommender: Similarity column 38121 (100.0%), 3862.76 column/sec. Elapsed time 9.87 sec\n",
      "EvaluatorHoldout: Processed 35572 (100.0%) in 8.78 sec. Users per second: 4050\n"
     ]
    },
    {
     "name": "stderr",
     "output_type": "stream",
     "text": [
      "[I 2024-12-09 13:41:50,722] Trial 163 finished with value: 0.05547809696051099 and parameters: {'topK': 14, 'alpha': 0.3456410725346863, 'beta': 0.22580138457036894}. Best is trial 134 with value: 0.05552427649533291.\n"
     ]
    },
    {
     "name": "stdout",
     "output_type": "stream",
     "text": [
      "RP3betaRecommender: Similarity column 38121 (100.0%), 4522.60 column/sec. Elapsed time 8.43 sec\n",
      "EvaluatorHoldout: Processed 35572 (100.0%) in 8.77 sec. Users per second: 4056\n"
     ]
    },
    {
     "name": "stderr",
     "output_type": "stream",
     "text": [
      "[I 2024-12-09 13:42:08,310] Trial 164 finished with value: 0.05525708757021115 and parameters: {'topK': 14, 'alpha': 0.3961780970335538, 'beta': 0.2713181924766083}. Best is trial 134 with value: 0.05552427649533291.\n"
     ]
    },
    {
     "name": "stdout",
     "output_type": "stream",
     "text": [
      "RP3betaRecommender: Similarity column 38121 (100.0%), 4518.03 column/sec. Elapsed time 8.44 sec\n",
      "EvaluatorHoldout: Processed 35572 (100.0%) in 8.71 sec. Users per second: 4082\n"
     ]
    },
    {
     "name": "stderr",
     "output_type": "stream",
     "text": [
      "[I 2024-12-09 13:42:25,813] Trial 165 finished with value: 0.05547344844080825 and parameters: {'topK': 12, 'alpha': 0.3385242301777238, 'beta': 0.15709974827491618}. Best is trial 134 with value: 0.05552427649533291.\n"
     ]
    },
    {
     "name": "stdout",
     "output_type": "stream",
     "text": [
      "RP3betaRecommender: Similarity column 38121 (100.0%), 3788.62 column/sec. Elapsed time 10.06 sec\n",
      "EvaluatorHoldout: Processed 35572 (100.0%) in 8.89 sec. Users per second: 4004\n"
     ]
    },
    {
     "name": "stderr",
     "output_type": "stream",
     "text": [
      "[I 2024-12-09 13:42:45,151] Trial 166 finished with value: 0.055251466286126615 and parameters: {'topK': 16, 'alpha': 0.37216963005182974, 'beta': 0.15650172605285848}. Best is trial 134 with value: 0.05552427649533291.\n"
     ]
    },
    {
     "name": "stdout",
     "output_type": "stream",
     "text": [
      "RP3betaRecommender: Similarity column 38121 (100.0%), 4235.17 column/sec. Elapsed time 9.00 sec\n",
      "EvaluatorHoldout: Processed 35572 (100.0%) in 9.22 sec. Users per second: 3859\n"
     ]
    },
    {
     "name": "stderr",
     "output_type": "stream",
     "text": [
      "[I 2024-12-09 13:43:03,908] Trial 167 finished with value: 0.054223294494151704 and parameters: {'topK': 28, 'alpha': 0.3379463655742665, 'beta': 0.22202956096164084}. Best is trial 134 with value: 0.05552427649533291.\n"
     ]
    },
    {
     "name": "stdout",
     "output_type": "stream",
     "text": [
      "RP3betaRecommender: Similarity column 38121 (100.0%), 4337.56 column/sec. Elapsed time 8.79 sec\n",
      "EvaluatorHoldout: Processed 35572 (100.0%) in 8.76 sec. Users per second: 4060\n"
     ]
    },
    {
     "name": "stderr",
     "output_type": "stream",
     "text": [
      "[I 2024-12-09 13:43:21,811] Trial 168 finished with value: 0.05552895401947816 and parameters: {'topK': 12, 'alpha': 0.3570923020049387, 'beta': 0.1709365788447109}. Best is trial 168 with value: 0.05552895401947816.\n"
     ]
    },
    {
     "name": "stdout",
     "output_type": "stream",
     "text": [
      "RP3betaRecommender: Similarity column 38121 (100.0%), 4060.16 column/sec. Elapsed time 9.39 sec\n",
      "EvaluatorHoldout: Processed 35572 (100.0%) in 8.68 sec. Users per second: 4096\n"
     ]
    },
    {
     "name": "stderr",
     "output_type": "stream",
     "text": [
      "[I 2024-12-09 13:43:40,214] Trial 169 finished with value: 0.055061285271630976 and parameters: {'topK': 10, 'alpha': 0.36214420927343616, 'beta': 0.16884137374920255}. Best is trial 168 with value: 0.05552895401947816.\n"
     ]
    },
    {
     "name": "stdout",
     "output_type": "stream",
     "text": [
      "RP3betaRecommender: Similarity column 38121 (100.0%), 3750.42 column/sec. Elapsed time 10.16 sec\n",
      "EvaluatorHoldout: Processed 35572 (100.0%) in 8.96 sec. Users per second: 3972\n"
     ]
    },
    {
     "name": "stderr",
     "output_type": "stream",
     "text": [
      "[I 2024-12-09 13:43:59,694] Trial 170 finished with value: 0.055376687389223425 and parameters: {'topK': 12, 'alpha': 0.4113783923934243, 'beta': 0.19101518140702461}. Best is trial 168 with value: 0.05552895401947816.\n"
     ]
    },
    {
     "name": "stdout",
     "output_type": "stream",
     "text": [
      "RP3betaRecommender: Similarity column 38121 (100.0%), 4367.30 column/sec. Elapsed time 8.73 sec\n",
      "EvaluatorHoldout: Processed 35572 (100.0%) in 8.87 sec. Users per second: 4011\n"
     ]
    },
    {
     "name": "stderr",
     "output_type": "stream",
     "text": [
      "[I 2024-12-09 13:44:17,659] Trial 171 finished with value: 0.055382573059957786 and parameters: {'topK': 13, 'alpha': 0.3453854487489796, 'beta': 0.23175174081262873}. Best is trial 168 with value: 0.05552895401947816.\n"
     ]
    },
    {
     "name": "stdout",
     "output_type": "stream",
     "text": [
      "RP3betaRecommender: Similarity column 38121 (100.0%), 4123.59 column/sec. Elapsed time 9.24 sec\n",
      "EvaluatorHoldout: Processed 35572 (100.0%) in 8.96 sec. Users per second: 3971\n"
     ]
    },
    {
     "name": "stderr",
     "output_type": "stream",
     "text": [
      "[I 2024-12-09 13:44:36,234] Trial 172 finished with value: 0.055454772926448286 and parameters: {'topK': 14, 'alpha': 0.33330158972242463, 'beta': 0.20266431513865432}. Best is trial 168 with value: 0.05552895401947816.\n"
     ]
    },
    {
     "name": "stdout",
     "output_type": "stream",
     "text": [
      "RP3betaRecommender: Similarity column 38121 (100.0%), 3836.74 column/sec. Elapsed time 9.94 sec\n",
      "EvaluatorHoldout: Processed 35572 (100.0%) in 8.95 sec. Users per second: 3972\n"
     ]
    },
    {
     "name": "stderr",
     "output_type": "stream",
     "text": [
      "[I 2024-12-09 13:44:55,471] Trial 173 finished with value: 0.05529225545684902 and parameters: {'topK': 11, 'alpha': 0.38492327971129975, 'beta': 0.16437908414517163}. Best is trial 168 with value: 0.05552895401947816.\n"
     ]
    },
    {
     "name": "stdout",
     "output_type": "stream",
     "text": [
      "RP3betaRecommender: Similarity column 38121 (100.0%), 4517.72 column/sec. Elapsed time 8.44 sec\n",
      "EvaluatorHoldout: Processed 35572 (100.0%) in 8.93 sec. Users per second: 3982\n"
     ]
    },
    {
     "name": "stderr",
     "output_type": "stream",
     "text": [
      "[I 2024-12-09 13:45:13,187] Trial 174 finished with value: 0.05508501313677969 and parameters: {'topK': 12, 'alpha': 0.35718375834228144, 'beta': 0.10076211699689874}. Best is trial 168 with value: 0.05552895401947816.\n"
     ]
    },
    {
     "name": "stdout",
     "output_type": "stream",
     "text": [
      "RP3betaRecommender: Similarity column 38121 (100.0%), 3900.49 column/sec. Elapsed time 9.77 sec\n",
      "EvaluatorHoldout: Processed 35572 (100.0%) in 8.89 sec. Users per second: 4002\n"
     ]
    },
    {
     "name": "stderr",
     "output_type": "stream",
     "text": [
      "[I 2024-12-09 13:45:32,233] Trial 175 finished with value: 0.055325105219191366 and parameters: {'topK': 13, 'alpha': 0.30609300914953347, 'beta': 0.244632252069325}. Best is trial 168 with value: 0.05552895401947816.\n"
     ]
    },
    {
     "name": "stdout",
     "output_type": "stream",
     "text": [
      "RP3betaRecommender: Similarity column 38121 (100.0%), 3743.25 column/sec. Elapsed time 10.18 sec\n",
      "EvaluatorHoldout: Processed 35572 (100.0%) in 8.99 sec. Users per second: 3956\n"
     ]
    },
    {
     "name": "stderr",
     "output_type": "stream",
     "text": [
      "[I 2024-12-09 13:45:51,790] Trial 176 finished with value: 0.05535516943948916 and parameters: {'topK': 15, 'alpha': 0.330423426900189, 'beta': 0.17537529399185947}. Best is trial 168 with value: 0.05552895401947816.\n"
     ]
    },
    {
     "name": "stdout",
     "output_type": "stream",
     "text": [
      "RP3betaRecommender: Similarity column 38121 (100.0%), 4403.70 column/sec. Elapsed time 8.66 sec\n",
      "EvaluatorHoldout: Processed 35572 (100.0%) in 9.10 sec. Users per second: 3909\n"
     ]
    },
    {
     "name": "stderr",
     "output_type": "stream",
     "text": [
      "[I 2024-12-09 13:46:09,956] Trial 177 finished with value: 0.05519549440526432 and parameters: {'topK': 17, 'alpha': 0.37027934120322237, 'beta': 0.1528947963305939}. Best is trial 168 with value: 0.05552895401947816.\n"
     ]
    },
    {
     "name": "stdout",
     "output_type": "stream",
     "text": [
      "RP3betaRecommender: Similarity column 38121 (100.0%), 4275.26 column/sec. Elapsed time 8.92 sec\n",
      "EvaluatorHoldout: Processed 35572 (100.0%) in 8.91 sec. Users per second: 3993\n"
     ]
    },
    {
     "name": "stderr",
     "output_type": "stream",
     "text": [
      "[I 2024-12-09 13:46:28,165] Trial 178 finished with value: 0.05540552003626717 and parameters: {'topK': 13, 'alpha': 0.24753703944550406, 'beta': 0.29094370478825327}. Best is trial 168 with value: 0.05552895401947816.\n"
     ]
    },
    {
     "name": "stdout",
     "output_type": "stream",
     "text": [
      "RP3betaRecommender: Similarity column 38121 (100.0%), 4301.51 column/sec. Elapsed time 8.86 sec\n",
      "EvaluatorHoldout: Processed 35572 (100.0%) in 9.04 sec. Users per second: 3936\n"
     ]
    },
    {
     "name": "stderr",
     "output_type": "stream",
     "text": [
      "[I 2024-12-09 13:46:46,398] Trial 179 finished with value: 0.05480133295493483 and parameters: {'topK': 9, 'alpha': 0.345009792154916, 'beta': 0.22337629368651987}. Best is trial 168 with value: 0.05552895401947816.\n"
     ]
    },
    {
     "name": "stdout",
     "output_type": "stream",
     "text": [
      "RP3betaRecommender: Similarity column 38121 (100.0%), 4382.04 column/sec. Elapsed time 8.70 sec\n",
      "EvaluatorHoldout: Processed 35572 (100.0%) in 9.00 sec. Users per second: 3954\n"
     ]
    },
    {
     "name": "stderr",
     "output_type": "stream",
     "text": [
      "[I 2024-12-09 13:47:04,448] Trial 180 finished with value: 0.054501507338568345 and parameters: {'topK': 11, 'alpha': 0.6607974044257364, 'beta': 0.19500768630968673}. Best is trial 168 with value: 0.05552895401947816.\n"
     ]
    },
    {
     "name": "stdout",
     "output_type": "stream",
     "text": [
      "RP3betaRecommender: Similarity column 38121 (100.0%), 4358.36 column/sec. Elapsed time 8.75 sec\n",
      "EvaluatorHoldout: Processed 35572 (100.0%) in 8.85 sec. Users per second: 4018\n"
     ]
    },
    {
     "name": "stderr",
     "output_type": "stream",
     "text": [
      "[I 2024-12-09 13:47:22,415] Trial 181 finished with value: 0.055337175529529874 and parameters: {'topK': 14, 'alpha': 0.32198236125818896, 'beta': 0.13557007348185962}. Best is trial 168 with value: 0.05552895401947816.\n"
     ]
    },
    {
     "name": "stdout",
     "output_type": "stream",
     "text": [
      "RP3betaRecommender: Similarity column 38121 (100.0%), 4388.08 column/sec. Elapsed time 8.69 sec\n",
      "EvaluatorHoldout: Processed 35572 (100.0%) in 9.01 sec. Users per second: 3950\n"
     ]
    },
    {
     "name": "stderr",
     "output_type": "stream",
     "text": [
      "[I 2024-12-09 13:47:40,445] Trial 182 finished with value: 0.05544313098941541 and parameters: {'topK': 12, 'alpha': 0.29999007407923794, 'beta': 0.13933564623592365}. Best is trial 168 with value: 0.05552895401947816.\n"
     ]
    },
    {
     "name": "stdout",
     "output_type": "stream",
     "text": [
      "RP3betaRecommender: Similarity column 38121 (100.0%), 3896.01 column/sec. Elapsed time 9.78 sec\n",
      "EvaluatorHoldout: Processed 35572 (100.0%) in 9.19 sec. Users per second: 3870\n"
     ]
    },
    {
     "name": "stderr",
     "output_type": "stream",
     "text": [
      "[I 2024-12-09 13:47:59,782] Trial 183 finished with value: 0.05546572321908054 and parameters: {'topK': 13, 'alpha': 0.3116546797171437, 'beta': 0.1778356327311506}. Best is trial 168 with value: 0.05552895401947816.\n"
     ]
    },
    {
     "name": "stdout",
     "output_type": "stream",
     "text": [
      "RP3betaRecommender: Similarity column 38121 (100.0%), 4075.13 column/sec. Elapsed time 9.35 sec\n",
      "EvaluatorHoldout: Processed 35572 (100.0%) in 9.10 sec. Users per second: 3908\n"
     ]
    },
    {
     "name": "stderr",
     "output_type": "stream",
     "text": [
      "[I 2024-12-09 13:48:18,622] Trial 184 finished with value: 0.05544471396264736 and parameters: {'topK': 14, 'alpha': 0.26856370382003913, 'beta': 0.20330125367381005}. Best is trial 168 with value: 0.05552895401947816.\n"
     ]
    },
    {
     "name": "stdout",
     "output_type": "stream",
     "text": [
      "RP3betaRecommender: Similarity column 38121 (100.0%), 4102.70 column/sec. Elapsed time 9.29 sec\n",
      "EvaluatorHoldout: Processed 35572 (100.0%) in 9.22 sec. Users per second: 3859\n"
     ]
    },
    {
     "name": "stderr",
     "output_type": "stream",
     "text": [
      "[I 2024-12-09 13:48:37,531] Trial 185 finished with value: 0.05532063518836626 and parameters: {'topK': 16, 'alpha': 0.3982024722841428, 'beta': 0.17626928938328498}. Best is trial 168 with value: 0.05552895401947816.\n"
     ]
    },
    {
     "name": "stdout",
     "output_type": "stream",
     "text": [
      "RP3betaRecommender: Similarity column 38121 (100.0%), 4095.51 column/sec. Elapsed time 9.31 sec\n",
      "EvaluatorHoldout: Processed 35572 (100.0%) in 8.98 sec. Users per second: 3960\n"
     ]
    },
    {
     "name": "stderr",
     "output_type": "stream",
     "text": [
      "[I 2024-12-09 13:48:56,193] Trial 186 finished with value: 0.05532862479674401 and parameters: {'topK': 13, 'alpha': 0.31348842951716743, 'beta': 0.22497481946240838}. Best is trial 168 with value: 0.05552895401947816.\n"
     ]
    },
    {
     "name": "stdout",
     "output_type": "stream",
     "text": [
      "RP3betaRecommender: Similarity column 38121 (100.0%), 3941.60 column/sec. Elapsed time 9.67 sec\n",
      "EvaluatorHoldout: Processed 35572 (100.0%) in 9.21 sec. Users per second: 3862\n"
     ]
    },
    {
     "name": "stderr",
     "output_type": "stream",
     "text": [
      "[I 2024-12-09 13:49:15,477] Trial 187 finished with value: 0.05523134612741443 and parameters: {'topK': 15, 'alpha': 0.43274731206608197, 'beta': 0.2572983188785843}. Best is trial 168 with value: 0.05552895401947816.\n"
     ]
    },
    {
     "name": "stdout",
     "output_type": "stream",
     "text": [
      "RP3betaRecommender: Similarity column 38121 (100.0%), 4191.29 column/sec. Elapsed time 9.10 sec\n",
      "EvaluatorHoldout: Processed 35572 (100.0%) in 8.76 sec. Users per second: 4061\n"
     ]
    },
    {
     "name": "stderr",
     "output_type": "stream",
     "text": [
      "[I 2024-12-09 13:49:33,668] Trial 188 finished with value: 0.05507631961289106 and parameters: {'topK': 10, 'alpha': 0.3475102516537905, 'beta': 0.16265187264570571}. Best is trial 168 with value: 0.05552895401947816.\n"
     ]
    },
    {
     "name": "stdout",
     "output_type": "stream",
     "text": [
      "RP3betaRecommender: Similarity column 38121 (100.0%), 4424.35 column/sec. Elapsed time 8.62 sec\n",
      "EvaluatorHoldout: Processed 35572 (100.0%) in 8.78 sec. Users per second: 4052\n"
     ]
    },
    {
     "name": "stderr",
     "output_type": "stream",
     "text": [
      "[I 2024-12-09 13:49:51,424] Trial 189 finished with value: 0.05541392909350646 and parameters: {'topK': 12, 'alpha': 0.293481053215142, 'beta': 0.18761052741831313}. Best is trial 168 with value: 0.05552895401947816.\n"
     ]
    },
    {
     "name": "stdout",
     "output_type": "stream",
     "text": [
      "RP3betaRecommender: Similarity column 38121 (100.0%), 4106.58 column/sec. Elapsed time 9.28 sec\n",
      "EvaluatorHoldout: Processed 35572 (100.0%) in 8.94 sec. Users per second: 3980\n"
     ]
    },
    {
     "name": "stderr",
     "output_type": "stream",
     "text": [
      "[I 2024-12-09 13:50:09,994] Trial 190 finished with value: 0.05524204988228465 and parameters: {'topK': 11, 'alpha': 0.3310228060441429, 'beta': 0.21109346527484393}. Best is trial 168 with value: 0.05552895401947816.\n"
     ]
    },
    {
     "name": "stdout",
     "output_type": "stream",
     "text": [
      "RP3betaRecommender: Similarity column 38121 (100.0%), 3904.69 column/sec. Elapsed time 9.76 sec\n",
      "EvaluatorHoldout: Processed 35572 (100.0%) in 9.14 sec. Users per second: 3894\n"
     ]
    },
    {
     "name": "stderr",
     "output_type": "stream",
     "text": [
      "[I 2024-12-09 13:50:29,253] Trial 191 finished with value: 0.05531873539737671 and parameters: {'topK': 14, 'alpha': 0.3097767227064363, 'beta': 0.12181634275354364}. Best is trial 168 with value: 0.05552895401947816.\n"
     ]
    },
    {
     "name": "stdout",
     "output_type": "stream",
     "text": [
      "RP3betaRecommender: Similarity column 38121 (100.0%), 4025.85 column/sec. Elapsed time 9.47 sec\n",
      "EvaluatorHoldout: Processed 35572 (100.0%) in 9.20 sec. Users per second: 3866\n"
     ]
    },
    {
     "name": "stderr",
     "output_type": "stream",
     "text": [
      "[I 2024-12-09 13:50:48,275] Trial 192 finished with value: 0.0553727215894772 and parameters: {'topK': 12, 'alpha': 0.3588283443222991, 'beta': 0.1441840822371479}. Best is trial 168 with value: 0.05552895401947816.\n"
     ]
    },
    {
     "name": "stdout",
     "output_type": "stream",
     "text": [
      "RP3betaRecommender: Similarity column 38121 (100.0%), 4161.74 column/sec. Elapsed time 9.16 sec\n",
      "EvaluatorHoldout: Processed 35572 (100.0%) in 8.73 sec. Users per second: 4074\n"
     ]
    },
    {
     "name": "stderr",
     "output_type": "stream",
     "text": [
      "[I 2024-12-09 13:51:06,520] Trial 193 finished with value: 0.0554708681609733 and parameters: {'topK': 13, 'alpha': 0.28292126470008977, 'beta': 0.171994482446495}. Best is trial 168 with value: 0.05552895401947816.\n"
     ]
    },
    {
     "name": "stdout",
     "output_type": "stream",
     "text": [
      "RP3betaRecommender: Similarity column 38121 (100.0%), 4488.11 column/sec. Elapsed time 8.49 sec\n",
      "EvaluatorHoldout: Processed 35572 (100.0%) in 8.95 sec. Users per second: 3975\n"
     ]
    },
    {
     "name": "stderr",
     "output_type": "stream",
     "text": [
      "[I 2024-12-09 13:51:24,367] Trial 194 finished with value: 0.049401568069409214 and parameters: {'topK': 13, 'alpha': 0.2602294266935964, 'beta': 0.6268830110729746}. Best is trial 168 with value: 0.05552895401947816.\n"
     ]
    },
    {
     "name": "stdout",
     "output_type": "stream",
     "text": [
      "RP3betaRecommender: Similarity column 38121 (100.0%), 2169.97 column/sec. Elapsed time 17.57 sec\n",
      "EvaluatorHoldout: Processed 35572 (100.0%) in 8.74 sec. Users per second: 4071\n"
     ]
    },
    {
     "name": "stderr",
     "output_type": "stream",
     "text": [
      "[I 2024-12-09 13:51:50,918] Trial 195 finished with value: 0.03537013796297687 and parameters: {'topK': 2, 'alpha': 0.8636385448642532, 'beta': 0.172310239914577}. Best is trial 168 with value: 0.05552895401947816.\n"
     ]
    },
    {
     "name": "stdout",
     "output_type": "stream",
     "text": [
      "RP3betaRecommender: Similarity column 38121 (100.0%), 4204.81 column/sec. Elapsed time 9.07 sec\n",
      "EvaluatorHoldout: Processed 35572 (100.0%) in 9.08 sec. Users per second: 3917\n"
     ]
    },
    {
     "name": "stderr",
     "output_type": "stream",
     "text": [
      "[I 2024-12-09 13:52:09,453] Trial 196 finished with value: 0.05539449277030606 and parameters: {'topK': 15, 'alpha': 0.28063446844404205, 'beta': 0.19257670626900106}. Best is trial 168 with value: 0.05552895401947816.\n"
     ]
    },
    {
     "name": "stdout",
     "output_type": "stream",
     "text": [
      "RP3betaRecommender: Similarity column 38121 (100.0%), 4332.52 column/sec. Elapsed time 8.80 sec\n",
      "EvaluatorHoldout: Processed 35572 (100.0%) in 9.26 sec. Users per second: 3842\n"
     ]
    },
    {
     "name": "stderr",
     "output_type": "stream",
     "text": [
      "[I 2024-12-09 13:52:27,898] Trial 197 finished with value: 0.05542625151938461 and parameters: {'topK': 14, 'alpha': 0.37340028767660133, 'beta': 0.23256578312514134}. Best is trial 168 with value: 0.05552895401947816.\n"
     ]
    },
    {
     "name": "stdout",
     "output_type": "stream",
     "text": [
      "RP3betaRecommender: Similarity column 38121 (100.0%), 4223.94 column/sec. Elapsed time 9.02 sec\n",
      "EvaluatorHoldout: Processed 35572 (100.0%) in 9.00 sec. Users per second: 3952\n"
     ]
    },
    {
     "name": "stderr",
     "output_type": "stream",
     "text": [
      "[I 2024-12-09 13:52:46,268] Trial 198 finished with value: 0.05549598823936582 and parameters: {'topK': 12, 'alpha': 0.28751071122765953, 'beta': 0.15605691190471668}. Best is trial 168 with value: 0.05552895401947816.\n"
     ]
    },
    {
     "name": "stdout",
     "output_type": "stream",
     "text": [
      "RP3betaRecommender: Similarity column 38121 (100.0%), 4244.01 column/sec. Elapsed time 8.98 sec\n",
      "EvaluatorHoldout: Processed 35572 (100.0%) in 9.12 sec. Users per second: 3899\n"
     ]
    },
    {
     "name": "stderr",
     "output_type": "stream",
     "text": [
      "[I 2024-12-09 13:53:04,731] Trial 199 finished with value: 0.05534242421808293 and parameters: {'topK': 11, 'alpha': 0.3017533233923763, 'beta': 0.15686394909630688}. Best is trial 168 with value: 0.05552895401947816.\n"
     ]
    },
    {
     "name": "stdout",
     "output_type": "stream",
     "text": [
      "RP3betaRecommender: Similarity column 38121 (100.0%), 4231.39 column/sec. Elapsed time 9.01 sec\n",
      "EvaluatorHoldout: Processed 35572 (100.0%) in 8.91 sec. Users per second: 3992\n"
     ]
    },
    {
     "name": "stderr",
     "output_type": "stream",
     "text": [
      "[I 2024-12-09 13:53:23,008] Trial 200 finished with value: 0.055432503092317786 and parameters: {'topK': 13, 'alpha': 0.32779932161863357, 'beta': 0.17907116711867238}. Best is trial 168 with value: 0.05552895401947816.\n"
     ]
    },
    {
     "name": "stdout",
     "output_type": "stream",
     "text": [
      "RP3betaRecommender: Similarity column 38121 (100.0%), 3931.26 column/sec. Elapsed time 9.70 sec\n",
      "EvaluatorHoldout: Processed 35572 (100.0%) in 9.05 sec. Users per second: 3930\n"
     ]
    },
    {
     "name": "stderr",
     "output_type": "stream",
     "text": [
      "[I 2024-12-09 13:53:42,107] Trial 201 finished with value: 0.055351104355304985 and parameters: {'topK': 12, 'alpha': 0.2850688252360014, 'beta': 0.20364854418878017}. Best is trial 168 with value: 0.05552895401947816.\n"
     ]
    },
    {
     "name": "stdout",
     "output_type": "stream",
     "text": [
      "RP3betaRecommender: Similarity column 38121 (100.0%), 4170.72 column/sec. Elapsed time 9.14 sec\n",
      "EvaluatorHoldout: Processed 35572 (100.0%) in 9.10 sec. Users per second: 3911\n"
     ]
    },
    {
     "name": "stderr",
     "output_type": "stream",
     "text": [
      "[I 2024-12-09 13:54:00,697] Trial 202 finished with value: 0.05546175072600157 and parameters: {'topK': 13, 'alpha': 0.2690579576174603, 'beta': 0.1555997616122515}. Best is trial 168 with value: 0.05552895401947816.\n"
     ]
    },
    {
     "name": "stdout",
     "output_type": "stream",
     "text": [
      "RP3betaRecommender: Similarity column 38121 (100.0%), 3975.14 column/sec. Elapsed time 9.59 sec\n",
      "EvaluatorHoldout: Processed 35572 (100.0%) in 8.92 sec. Users per second: 3988\n"
     ]
    },
    {
     "name": "stderr",
     "output_type": "stream",
     "text": [
      "[I 2024-12-09 13:54:19,563] Trial 203 finished with value: 0.05532485198809663 and parameters: {'topK': 13, 'alpha': 0.2581479894947235, 'beta': 0.12788678897111877}. Best is trial 168 with value: 0.05552895401947816.\n"
     ]
    },
    {
     "name": "stdout",
     "output_type": "stream",
     "text": [
      "RP3betaRecommender: Similarity column 38121 (100.0%), 4236.61 column/sec. Elapsed time 9.00 sec\n",
      "EvaluatorHoldout: Processed 35572 (100.0%) in 8.76 sec. Users per second: 4060\n"
     ]
    },
    {
     "name": "stderr",
     "output_type": "stream",
     "text": [
      "[I 2024-12-09 13:54:37,666] Trial 204 finished with value: 0.05541419682682301 and parameters: {'topK': 12, 'alpha': 0.24336548218694587, 'beta': 0.15390209267479593}. Best is trial 168 with value: 0.05552895401947816.\n"
     ]
    },
    {
     "name": "stdout",
     "output_type": "stream",
     "text": [
      "RP3betaRecommender: Similarity column 38121 (100.0%), 4529.16 column/sec. Elapsed time 8.42 sec\n",
      "EvaluatorHoldout: Processed 35572 (100.0%) in 8.77 sec. Users per second: 4057\n"
     ]
    },
    {
     "name": "stderr",
     "output_type": "stream",
     "text": [
      "[I 2024-12-09 13:54:55,173] Trial 205 finished with value: 0.054778138325308395 and parameters: {'topK': 10, 'alpha': 0.26879559955262483, 'beta': 0.10524042991214763}. Best is trial 168 with value: 0.05552895401947816.\n"
     ]
    },
    {
     "name": "stdout",
     "output_type": "stream",
     "text": [
      "RP3betaRecommender: Similarity column 38121 (100.0%), 4180.01 column/sec. Elapsed time 9.12 sec\n",
      "EvaluatorHoldout: Processed 35572 (100.0%) in 8.94 sec. Users per second: 3980\n"
     ]
    },
    {
     "name": "stderr",
     "output_type": "stream",
     "text": [
      "[I 2024-12-09 13:55:13,619] Trial 206 finished with value: 0.05538772357962795 and parameters: {'topK': 15, 'alpha': 0.29810255646329037, 'beta': 0.17820465524947043}. Best is trial 168 with value: 0.05552895401947816.\n"
     ]
    },
    {
     "name": "stdout",
     "output_type": "stream",
     "text": [
      "RP3betaRecommender: Similarity column 38121 (100.0%), 4352.42 column/sec. Elapsed time 8.76 sec\n",
      "EvaluatorHoldout: Processed 35572 (100.0%) in 8.78 sec. Users per second: 4051\n"
     ]
    },
    {
     "name": "stderr",
     "output_type": "stream",
     "text": [
      "[I 2024-12-09 13:55:31,548] Trial 207 finished with value: 0.055269271667209074 and parameters: {'topK': 16, 'alpha': 0.22832760114589684, 'beta': 0.15511495422123167}. Best is trial 168 with value: 0.05552895401947816.\n"
     ]
    },
    {
     "name": "stdout",
     "output_type": "stream",
     "text": [
      "RP3betaRecommender: Similarity column 38121 (100.0%), 4366.32 column/sec. Elapsed time 8.73 sec\n",
      "EvaluatorHoldout: Processed 35572 (100.0%) in 8.83 sec. Users per second: 4027\n"
     ]
    },
    {
     "name": "stderr",
     "output_type": "stream",
     "text": [
      "[I 2024-12-09 13:55:49,469] Trial 208 finished with value: 0.055456004499702456 and parameters: {'topK': 13, 'alpha': 0.3416358518049273, 'beta': 0.19733616143415283}. Best is trial 168 with value: 0.05552895401947816.\n"
     ]
    },
    {
     "name": "stdout",
     "output_type": "stream",
     "text": [
      "RP3betaRecommender: Similarity column 38121 (100.0%), 4261.72 column/sec. Elapsed time 8.94 sec\n",
      "EvaluatorHoldout: Processed 35572 (100.0%) in 8.81 sec. Users per second: 4036\n"
     ]
    },
    {
     "name": "stderr",
     "output_type": "stream",
     "text": [
      "[I 2024-12-09 13:56:07,576] Trial 209 finished with value: 0.05540759162280095 and parameters: {'topK': 11, 'alpha': 0.3136793894901306, 'beta': 0.17030042644540655}. Best is trial 168 with value: 0.05552895401947816.\n"
     ]
    },
    {
     "name": "stdout",
     "output_type": "stream",
     "text": [
      "RP3betaRecommender: Similarity column 38121 (100.0%), 3987.75 column/sec. Elapsed time 9.56 sec\n",
      "EvaluatorHoldout: Processed 35572 (100.0%) in 8.87 sec. Users per second: 4010\n"
     ]
    },
    {
     "name": "stderr",
     "output_type": "stream",
     "text": [
      "[I 2024-12-09 13:56:26,353] Trial 210 finished with value: 0.055386483081930074 and parameters: {'topK': 13, 'alpha': 0.27324912307718724, 'beta': 0.1432424067811052}. Best is trial 168 with value: 0.05552895401947816.\n"
     ]
    },
    {
     "name": "stdout",
     "output_type": "stream",
     "text": [
      "RP3betaRecommender: Similarity column 38121 (100.0%), 4042.23 column/sec. Elapsed time 9.43 sec\n",
      "EvaluatorHoldout: Processed 35572 (100.0%) in 9.04 sec. Users per second: 3936\n"
     ]
    },
    {
     "name": "stderr",
     "output_type": "stream",
     "text": [
      "[I 2024-12-09 13:56:45,214] Trial 211 finished with value: 0.05544882701571748 and parameters: {'topK': 14, 'alpha': 0.28727430479493166, 'beta': 0.2152662777714942}. Best is trial 168 with value: 0.05552895401947816.\n"
     ]
    },
    {
     "name": "stdout",
     "output_type": "stream",
     "text": [
      "RP3betaRecommender: Similarity column 38121 (100.0%), 4160.19 column/sec. Elapsed time 9.16 sec\n",
      "EvaluatorHoldout: Processed 35572 (100.0%) in 8.98 sec. Users per second: 3960\n"
     ]
    },
    {
     "name": "stderr",
     "output_type": "stream",
     "text": [
      "[I 2024-12-09 13:57:03,740] Trial 212 finished with value: 0.055437772976425055 and parameters: {'topK': 14, 'alpha': 0.27385038865209776, 'beta': 0.1915620528559}. Best is trial 168 with value: 0.05552895401947816.\n"
     ]
    },
    {
     "name": "stdout",
     "output_type": "stream",
     "text": [
      "RP3betaRecommender: Similarity column 38121 (100.0%), 4225.76 column/sec. Elapsed time 9.02 sec\n",
      "EvaluatorHoldout: Processed 35572 (100.0%) in 9.20 sec. Users per second: 3868\n"
     ]
    },
    {
     "name": "stderr",
     "output_type": "stream",
     "text": [
      "[I 2024-12-09 13:57:22,313] Trial 213 finished with value: 0.05529444194559837 and parameters: {'topK': 12, 'alpha': 0.2549112319044189, 'beta': 0.24486304720112023}. Best is trial 168 with value: 0.05552895401947816.\n"
     ]
    },
    {
     "name": "stdout",
     "output_type": "stream",
     "text": [
      "RP3betaRecommender: Similarity column 38121 (100.0%), 3953.87 column/sec. Elapsed time 9.64 sec\n",
      "EvaluatorHoldout: Processed 35572 (100.0%) in 8.85 sec. Users per second: 4021\n"
     ]
    },
    {
     "name": "stderr",
     "output_type": "stream",
     "text": [
      "[I 2024-12-09 13:57:41,180] Trial 214 finished with value: 0.055469307498851324 and parameters: {'topK': 14, 'alpha': 0.3258368107208461, 'beta': 0.2138000658946743}. Best is trial 168 with value: 0.05552895401947816.\n"
     ]
    },
    {
     "name": "stdout",
     "output_type": "stream",
     "text": [
      "RP3betaRecommender: Similarity column 38121 (100.0%), 4124.59 column/sec. Elapsed time 9.24 sec\n",
      "EvaluatorHoldout: Processed 35572 (100.0%) in 9.11 sec. Users per second: 3903\n"
     ]
    },
    {
     "name": "stderr",
     "output_type": "stream",
     "text": [
      "[I 2024-12-09 13:57:59,915] Trial 215 finished with value: 0.05537732771807105 and parameters: {'topK': 15, 'alpha': 0.3272337113821389, 'beta': 0.17225772357952385}. Best is trial 168 with value: 0.05552895401947816.\n"
     ]
    },
    {
     "name": "stdout",
     "output_type": "stream",
     "text": [
      "RP3betaRecommender: Similarity column 38121 (100.0%), 4220.52 column/sec. Elapsed time 9.03 sec\n",
      "EvaluatorHoldout: Processed 35572 (100.0%) in 8.96 sec. Users per second: 3968\n"
     ]
    },
    {
     "name": "stderr",
     "output_type": "stream",
     "text": [
      "[I 2024-12-09 13:58:18,277] Trial 216 finished with value: 0.05540223360981048 and parameters: {'topK': 13, 'alpha': 0.35811524614629553, 'beta': 0.20581490568212463}. Best is trial 168 with value: 0.05552895401947816.\n"
     ]
    },
    {
     "name": "stdout",
     "output_type": "stream",
     "text": [
      "RP3betaRecommender: Similarity column 38121 (100.0%), 4006.60 column/sec. Elapsed time 9.51 sec\n",
      "EvaluatorHoldout: Processed 35572 (100.0%) in 9.07 sec. Users per second: 3920\n"
     ]
    },
    {
     "name": "stderr",
     "output_type": "stream",
     "text": [
      "[I 2024-12-09 13:58:37,204] Trial 217 finished with value: 0.055326202925787625 and parameters: {'topK': 11, 'alpha': 0.3112413104478825, 'beta': 0.18158710727306948}. Best is trial 168 with value: 0.05552895401947816.\n"
     ]
    },
    {
     "name": "stdout",
     "output_type": "stream",
     "text": [
      "RP3betaRecommender: Similarity column 38121 (100.0%), 4177.17 column/sec. Elapsed time 9.13 sec\n",
      "EvaluatorHoldout: Processed 35572 (100.0%) in 9.29 sec. Users per second: 3829\n"
     ]
    },
    {
     "name": "stderr",
     "output_type": "stream",
     "text": [
      "[I 2024-12-09 13:58:56,020] Trial 218 finished with value: 0.05525093862838262 and parameters: {'topK': 16, 'alpha': 0.37883142347512605, 'beta': 0.15691044996053016}. Best is trial 168 with value: 0.05552895401947816.\n"
     ]
    },
    {
     "name": "stdout",
     "output_type": "stream",
     "text": [
      "RP3betaRecommender: Similarity column 38121 (100.0%), 3836.41 column/sec. Elapsed time 9.94 sec\n",
      "EvaluatorHoldout: Processed 35572 (100.0%) in 9.38 sec. Users per second: 3791\n"
     ]
    },
    {
     "name": "stderr",
     "output_type": "stream",
     "text": [
      "[I 2024-12-09 13:59:15,727] Trial 219 finished with value: 0.05544097796733106 and parameters: {'topK': 14, 'alpha': 0.34068257433045634, 'beta': 0.21948704679233436}. Best is trial 168 with value: 0.05552895401947816.\n"
     ]
    },
    {
     "name": "stdout",
     "output_type": "stream",
     "text": [
      "RP3betaRecommender: Similarity column 38121 (100.0%), 4222.24 column/sec. Elapsed time 9.03 sec\n",
      "EvaluatorHoldout: Processed 35572 (100.0%) in 8.89 sec. Users per second: 3999\n"
     ]
    },
    {
     "name": "stderr",
     "output_type": "stream",
     "text": [
      "[I 2024-12-09 13:59:33,996] Trial 220 finished with value: 0.055305359887121854 and parameters: {'topK': 12, 'alpha': 0.29786317326275086, 'beta': 0.12391970000221564}. Best is trial 168 with value: 0.05552895401947816.\n"
     ]
    },
    {
     "name": "stdout",
     "output_type": "stream",
     "text": [
      "RP3betaRecommender: Similarity column 38121 (100.0%), 4140.85 column/sec. Elapsed time 9.21 sec\n",
      "EvaluatorHoldout: Processed 35572 (100.0%) in 9.26 sec. Users per second: 3842\n"
     ]
    },
    {
     "name": "stderr",
     "output_type": "stream",
     "text": [
      "[I 2024-12-09 13:59:52,877] Trial 221 finished with value: 0.055397087552362514 and parameters: {'topK': 15, 'alpha': 0.291842724180581, 'beta': 0.23312525632307873}. Best is trial 168 with value: 0.05552895401947816.\n"
     ]
    },
    {
     "name": "stdout",
     "output_type": "stream",
     "text": [
      "RP3betaRecommender: Similarity column 38121 (100.0%), 4236.13 column/sec. Elapsed time 9.00 sec\n",
      "EvaluatorHoldout: Processed 35572 (100.0%) in 9.08 sec. Users per second: 3920\n"
     ]
    },
    {
     "name": "stderr",
     "output_type": "stream",
     "text": [
      "[I 2024-12-09 14:00:11,335] Trial 222 finished with value: 0.0554591302861694 and parameters: {'topK': 14, 'alpha': 0.32050342972555995, 'beta': 0.2104106747096798}. Best is trial 168 with value: 0.05552895401947816.\n"
     ]
    },
    {
     "name": "stdout",
     "output_type": "stream",
     "text": [
      "RP3betaRecommender: Similarity column 38121 (100.0%), 3919.42 column/sec. Elapsed time 9.73 sec\n",
      "EvaluatorHoldout: Processed 35572 (100.0%) in 9.16 sec. Users per second: 3882\n"
     ]
    },
    {
     "name": "stderr",
     "output_type": "stream",
     "text": [
      "[I 2024-12-09 14:00:30,592] Trial 223 finished with value: 0.0553998463210744 and parameters: {'topK': 13, 'alpha': 0.32515335489426195, 'beta': 0.20484744106804986}. Best is trial 168 with value: 0.05552895401947816.\n"
     ]
    },
    {
     "name": "stdout",
     "output_type": "stream",
     "text": [
      "RP3betaRecommender: Similarity column 38121 (100.0%), 4210.77 column/sec. Elapsed time 9.05 sec\n",
      "EvaluatorHoldout: Processed 35572 (100.0%) in 9.23 sec. Users per second: 3854\n"
     ]
    },
    {
     "name": "stderr",
     "output_type": "stream",
     "text": [
      "[I 2024-12-09 14:00:49,253] Trial 224 finished with value: 0.055388419686250225 and parameters: {'topK': 14, 'alpha': 0.34651295016347733, 'beta': 0.18749479260830856}. Best is trial 168 with value: 0.05552895401947816.\n"
     ]
    },
    {
     "name": "stdout",
     "output_type": "stream",
     "text": [
      "RP3betaRecommender: Similarity column 38121 (100.0%), 3917.89 column/sec. Elapsed time 9.73 sec\n",
      "EvaluatorHoldout: Processed 35572 (100.0%) in 9.25 sec. Users per second: 3847\n"
     ]
    },
    {
     "name": "stderr",
     "output_type": "stream",
     "text": [
      "[I 2024-12-09 14:01:08,590] Trial 225 finished with value: 0.0555342272502517 and parameters: {'topK': 12, 'alpha': 0.31277502003727886, 'beta': 0.1648813307962066}. Best is trial 225 with value: 0.0555342272502517.\n"
     ]
    },
    {
     "name": "stdout",
     "output_type": "stream",
     "text": [
      "RP3betaRecommender: Similarity column 38121 (100.0%), 4205.17 column/sec. Elapsed time 9.07 sec\n",
      "EvaluatorHoldout: Processed 35572 (100.0%) in 9.11 sec. Users per second: 3903\n"
     ]
    },
    {
     "name": "stderr",
     "output_type": "stream",
     "text": [
      "[I 2024-12-09 14:01:27,115] Trial 226 finished with value: 0.055291485723565084 and parameters: {'topK': 11, 'alpha': 0.3655831565607053, 'beta': 0.1459807645239865}. Best is trial 225 with value: 0.0555342272502517.\n"
     ]
    },
    {
     "name": "stdout",
     "output_type": "stream",
     "text": [
      "RP3betaRecommender: Similarity column 38121 (100.0%), 4158.77 column/sec. Elapsed time 9.17 sec\n",
      "EvaluatorHoldout: Processed 35572 (100.0%) in 9.13 sec. Users per second: 3894\n"
     ]
    },
    {
     "name": "stderr",
     "output_type": "stream",
     "text": [
      "[I 2024-12-09 14:01:45,778] Trial 227 finished with value: 0.05552555380636223 and parameters: {'topK': 12, 'alpha': 0.3281615534032146, 'beta': 0.17045616391976603}. Best is trial 225 with value: 0.0555342272502517.\n"
     ]
    },
    {
     "name": "stdout",
     "output_type": "stream",
     "text": [
      "RP3betaRecommender: Similarity column 38121 (100.0%), 4020.23 column/sec. Elapsed time 9.48 sec\n",
      "EvaluatorHoldout: Processed 35572 (100.0%) in 9.12 sec. Users per second: 3901\n"
     ]
    },
    {
     "name": "stderr",
     "output_type": "stream",
     "text": [
      "[I 2024-12-09 14:02:04,742] Trial 228 finished with value: 0.05546847975668181 and parameters: {'topK': 12, 'alpha': 0.3388407122413087, 'beta': 0.15772868518778776}. Best is trial 225 with value: 0.0555342272502517.\n"
     ]
    },
    {
     "name": "stdout",
     "output_type": "stream",
     "text": [
      "RP3betaRecommender: Similarity column 38121 (100.0%), 4050.12 column/sec. Elapsed time 9.41 sec\n",
      "EvaluatorHoldout: Processed 35572 (100.0%) in 9.20 sec. Users per second: 3866\n"
     ]
    },
    {
     "name": "stderr",
     "output_type": "stream",
     "text": [
      "[I 2024-12-09 14:02:23,685] Trial 229 finished with value: 0.055151368608087996 and parameters: {'topK': 10, 'alpha': 0.33769019904741127, 'beta': 0.17023325235497033}. Best is trial 225 with value: 0.0555342272502517.\n"
     ]
    },
    {
     "name": "stdout",
     "output_type": "stream",
     "text": [
      "RP3betaRecommender: Similarity column 38121 (100.0%), 3924.54 column/sec. Elapsed time 9.71 sec\n",
      "EvaluatorHoldout: Processed 35572 (100.0%) in 9.16 sec. Users per second: 3883\n"
     ]
    },
    {
     "name": "stderr",
     "output_type": "stream",
     "text": [
      "[I 2024-12-09 14:02:42,918] Trial 230 finished with value: 0.05534998322204366 and parameters: {'topK': 12, 'alpha': 0.3682185948211098, 'beta': 0.13954993689808676}. Best is trial 225 with value: 0.0555342272502517.\n"
     ]
    },
    {
     "name": "stdout",
     "output_type": "stream",
     "text": [
      "RP3betaRecommender: Similarity column 38121 (100.0%), 3893.68 column/sec. Elapsed time 9.79 sec\n",
      "EvaluatorHoldout: Processed 35572 (100.0%) in 9.07 sec. Users per second: 3921\n"
     ]
    },
    {
     "name": "stderr",
     "output_type": "stream",
     "text": [
      "[I 2024-12-09 14:03:02,143] Trial 231 finished with value: 0.05552506296194934 and parameters: {'topK': 12, 'alpha': 0.3553356012718349, 'beta': 0.1655294546719413}. Best is trial 225 with value: 0.0555342272502517.\n"
     ]
    },
    {
     "name": "stdout",
     "output_type": "stream",
     "text": [
      "RP3betaRecommender: Similarity column 38121 (100.0%), 4156.24 column/sec. Elapsed time 9.17 sec\n",
      "EvaluatorHoldout: Processed 35572 (100.0%) in 9.12 sec. Users per second: 3901\n"
     ]
    },
    {
     "name": "stderr",
     "output_type": "stream",
     "text": [
      "[I 2024-12-09 14:03:20,785] Trial 232 finished with value: 0.055554463426734396 and parameters: {'topK': 12, 'alpha': 0.3520131447757193, 'beta': 0.17036461509822665}. Best is trial 232 with value: 0.055554463426734396.\n"
     ]
    },
    {
     "name": "stdout",
     "output_type": "stream",
     "text": [
      "RP3betaRecommender: Similarity column 38121 (100.0%), 3951.67 column/sec. Elapsed time 9.65 sec\n",
      "EvaluatorHoldout: Processed 35572 (100.0%) in 9.10 sec. Users per second: 3911\n"
     ]
    },
    {
     "name": "stderr",
     "output_type": "stream",
     "text": [
      "[I 2024-12-09 14:03:39,872] Trial 233 finished with value: 0.05540086593878705 and parameters: {'topK': 11, 'alpha': 0.3533742270629559, 'beta': 0.16661893385522997}. Best is trial 232 with value: 0.055554463426734396.\n"
     ]
    },
    {
     "name": "stdout",
     "output_type": "stream",
     "text": [
      "RP3betaRecommender: Similarity column 38121 (100.0%), 4096.28 column/sec. Elapsed time 9.31 sec\n",
      "EvaluatorHoldout: Processed 35572 (100.0%) in 9.09 sec. Users per second: 3913\n"
     ]
    },
    {
     "name": "stderr",
     "output_type": "stream",
     "text": [
      "[I 2024-12-09 14:03:58,611] Trial 234 finished with value: 0.055214691999591184 and parameters: {'topK': 12, 'alpha': 0.3908408391963627, 'beta': 0.127567729806886}. Best is trial 232 with value: 0.055554463426734396.\n"
     ]
    },
    {
     "name": "stdout",
     "output_type": "stream",
     "text": [
      "RP3betaRecommender: Similarity column 38121 (100.0%), 4070.21 column/sec. Elapsed time 9.37 sec\n",
      "EvaluatorHoldout: Processed 35572 (100.0%) in 9.18 sec. Users per second: 3876\n"
     ]
    },
    {
     "name": "stderr",
     "output_type": "stream",
     "text": [
      "[I 2024-12-09 14:04:17,505] Trial 235 finished with value: 0.05558903002896657 and parameters: {'topK': 12, 'alpha': 0.34989902568351894, 'beta': 0.1817338725671425}. Best is trial 235 with value: 0.05558903002896657.\n"
     ]
    },
    {
     "name": "stdout",
     "output_type": "stream",
     "text": [
      "RP3betaRecommender: Similarity column 38121 (100.0%), 4020.62 column/sec. Elapsed time 9.48 sec\n",
      "EvaluatorHoldout: Processed 35572 (100.0%) in 9.00 sec. Users per second: 3953\n"
     ]
    },
    {
     "name": "stderr",
     "output_type": "stream",
     "text": [
      "[I 2024-12-09 14:04:36,309] Trial 236 finished with value: 0.05492124736059336 and parameters: {'topK': 9, 'alpha': 0.3526183524481105, 'beta': 0.17417234116095298}. Best is trial 235 with value: 0.05558903002896657.\n"
     ]
    },
    {
     "name": "stdout",
     "output_type": "stream",
     "text": [
      "RP3betaRecommender: Similarity column 38121 (100.0%), 3886.66 column/sec. Elapsed time 9.81 sec\n",
      "EvaluatorHoldout: Processed 35572 (100.0%) in 8.84 sec. Users per second: 4025\n"
     ]
    },
    {
     "name": "stderr",
     "output_type": "stream",
     "text": [
      "[I 2024-12-09 14:04:55,339] Trial 237 finished with value: 0.053574526469006095 and parameters: {'topK': 11, 'alpha': 0.33324338889311544, 'beta': 0.4558526307107798}. Best is trial 235 with value: 0.05558903002896657.\n"
     ]
    },
    {
     "name": "stdout",
     "output_type": "stream",
     "text": [
      "RP3betaRecommender: Similarity column 38121 (100.0%), 3897.07 column/sec. Elapsed time 9.78 sec\n",
      "EvaluatorHoldout: Processed 35572 (100.0%) in 8.86 sec. Users per second: 4015\n"
     ]
    },
    {
     "name": "stderr",
     "output_type": "stream",
     "text": [
      "[I 2024-12-09 14:05:14,309] Trial 238 finished with value: 0.05511302919720832 and parameters: {'topK': 10, 'alpha': 0.3421155885966365, 'beta': 0.15148949758549418}. Best is trial 235 with value: 0.05558903002896657.\n"
     ]
    },
    {
     "name": "stdout",
     "output_type": "stream",
     "text": [
      "RP3betaRecommender: Similarity column 38121 (100.0%), 4340.98 column/sec. Elapsed time 8.78 sec\n",
      "EvaluatorHoldout: Processed 35572 (100.0%) in 8.81 sec. Users per second: 4038\n"
     ]
    },
    {
     "name": "stderr",
     "output_type": "stream",
     "text": [
      "[I 2024-12-09 14:05:32,263] Trial 239 finished with value: 0.055506917336443966 and parameters: {'topK': 12, 'alpha': 0.32575825288350546, 'beta': 0.1847797371087531}. Best is trial 235 with value: 0.05558903002896657.\n"
     ]
    },
    {
     "name": "stdout",
     "output_type": "stream",
     "text": [
      "RP3betaRecommender: Similarity column 38121 (100.0%), 4071.71 column/sec. Elapsed time 9.36 sec\n",
      "EvaluatorHoldout: Processed 35572 (100.0%) in 9.05 sec. Users per second: 3932\n"
     ]
    },
    {
     "name": "stderr",
     "output_type": "stream",
     "text": [
      "[I 2024-12-09 14:05:51,028] Trial 240 finished with value: 0.055488904462041244 and parameters: {'topK': 12, 'alpha': 0.3240333957438677, 'beta': 0.18807038525404232}. Best is trial 235 with value: 0.05558903002896657.\n"
     ]
    },
    {
     "name": "stdout",
     "output_type": "stream",
     "text": [
      "RP3betaRecommender: Similarity column 38121 (100.0%), 4419.40 column/sec. Elapsed time 8.63 sec\n",
      "EvaluatorHoldout: Processed 35572 (100.0%) in 8.77 sec. Users per second: 4056\n"
     ]
    },
    {
     "name": "stderr",
     "output_type": "stream",
     "text": [
      "[I 2024-12-09 14:06:08,774] Trial 241 finished with value: 0.0555309809837927 and parameters: {'topK': 12, 'alpha': 0.32052603098541715, 'beta': 0.18498529515992113}. Best is trial 235 with value: 0.05558903002896657.\n"
     ]
    },
    {
     "name": "stdout",
     "output_type": "stream",
     "text": [
      "RP3betaRecommender: Similarity column 38121 (100.0%), 4394.93 column/sec. Elapsed time 8.67 sec\n",
      "EvaluatorHoldout: Processed 35572 (100.0%) in 8.76 sec. Users per second: 4060\n"
     ]
    },
    {
     "name": "stderr",
     "output_type": "stream",
     "text": [
      "[I 2024-12-09 14:06:26,569] Trial 242 finished with value: 0.05548198578692841 and parameters: {'topK': 12, 'alpha': 0.32937296241321173, 'beta': 0.19054351335290287}. Best is trial 235 with value: 0.05558903002896657.\n"
     ]
    },
    {
     "name": "stdout",
     "output_type": "stream",
     "text": [
      "RP3betaRecommender: Similarity column 38121 (100.0%), 3988.24 column/sec. Elapsed time 9.56 sec\n",
      "EvaluatorHoldout: Processed 35572 (100.0%) in 8.69 sec. Users per second: 4094\n"
     ]
    },
    {
     "name": "stderr",
     "output_type": "stream",
     "text": [
      "[I 2024-12-09 14:06:45,166] Trial 243 finished with value: 0.05527201816481096 and parameters: {'topK': 11, 'alpha': 0.3282002192176849, 'beta': 0.1917837359827242}. Best is trial 235 with value: 0.05558903002896657.\n"
     ]
    },
    {
     "name": "stdout",
     "output_type": "stream",
     "text": [
      "RP3betaRecommender: Similarity column 38121 (100.0%), 3855.01 column/sec. Elapsed time 9.89 sec\n",
      "EvaluatorHoldout: Processed 35572 (100.0%) in 8.67 sec. Users per second: 4103\n"
     ]
    },
    {
     "name": "stderr",
     "output_type": "stream",
     "text": [
      "[I 2024-12-09 14:07:04,077] Trial 244 finished with value: 0.055464715872478206 and parameters: {'topK': 12, 'alpha': 0.35358894741491337, 'beta': 0.15890779088032272}. Best is trial 235 with value: 0.05558903002896657.\n"
     ]
    },
    {
     "name": "stdout",
     "output_type": "stream",
     "text": [
      "RP3betaRecommender: Similarity column 38121 (100.0%), 4088.92 column/sec. Elapsed time 9.32 sec\n",
      "EvaluatorHoldout: Processed 35572 (100.0%) in 8.70 sec. Users per second: 4089\n"
     ]
    },
    {
     "name": "stderr",
     "output_type": "stream",
     "text": [
      "[I 2024-12-09 14:07:22,460] Trial 245 finished with value: 0.05550207471008721 and parameters: {'topK': 12, 'alpha': 0.33704724711510264, 'beta': 0.19449615044777127}. Best is trial 235 with value: 0.05558903002896657.\n"
     ]
    },
    {
     "name": "stdout",
     "output_type": "stream",
     "text": [
      "RP3betaRecommender: Similarity column 38121 (100.0%), 4437.40 column/sec. Elapsed time 8.59 sec\n",
      "EvaluatorHoldout: Processed 35572 (100.0%) in 8.66 sec. Users per second: 4107\n"
     ]
    },
    {
     "name": "stderr",
     "output_type": "stream",
     "text": [
      "[I 2024-12-09 14:07:40,049] Trial 246 finished with value: 0.055212681768608475 and parameters: {'topK': 10, 'alpha': 0.3216200081704731, 'beta': 0.19095483884100223}. Best is trial 235 with value: 0.05558903002896657.\n"
     ]
    },
    {
     "name": "stdout",
     "output_type": "stream",
     "text": [
      "RP3betaRecommender: Similarity column 38121 (100.0%), 37.96 column/sec. Elapsed time 16.74 min\n",
      "EvaluatorHoldout: Processed 19000 (53.4%) in 15.61 min. Users per second: 20\n",
      "EvaluatorHoldout: Processed 29000 (81.5%) in 20.92 min. Users per second: 23\n",
      "EvaluatorHoldout: Processed 35572 (100.0%) in 20.98 min. Users per second: 28\n"
     ]
    },
    {
     "name": "stderr",
     "output_type": "stream",
     "text": [
      "[I 2024-12-09 14:45:23,522] Trial 247 finished with value: 0.05534662316892527 and parameters: {'topK': 11, 'alpha': 0.35622577835160363, 'beta': 0.18698399040207336}. Best is trial 235 with value: 0.05558903002896657.\n"
     ]
    },
    {
     "name": "stdout",
     "output_type": "stream",
     "text": [
      "RP3betaRecommender: Similarity column 38121 (100.0%), 1742.49 column/sec. Elapsed time 21.88 sec\n",
      "EvaluatorHoldout: Processed 35572 (100.0%) in 9.38 sec. Users per second: 3792\n"
     ]
    },
    {
     "name": "stderr",
     "output_type": "stream",
     "text": [
      "[I 2024-12-09 14:45:55,818] Trial 248 finished with value: 0.04535097829753583 and parameters: {'topK': 12, 'alpha': 0.3311399072470059, 'beta': 0.7302650641146362}. Best is trial 235 with value: 0.05558903002896657.\n"
     ]
    },
    {
     "name": "stdout",
     "output_type": "stream",
     "text": [
      "RP3betaRecommender: Similarity column 38121 (100.0%), 4249.63 column/sec. Elapsed time 8.97 sec\n",
      "EvaluatorHoldout: Processed 35572 (100.0%) in 8.59 sec. Users per second: 4141\n"
     ]
    },
    {
     "name": "stderr",
     "output_type": "stream",
     "text": [
      "[I 2024-12-09 14:46:13,733] Trial 249 finished with value: 0.05553889027217549 and parameters: {'topK': 12, 'alpha': 0.31876311988109857, 'beta': 0.17804320541060364}. Best is trial 235 with value: 0.05558903002896657.\n"
     ]
    },
    {
     "name": "stdout",
     "output_type": "stream",
     "text": [
      "RP3betaRecommender: Similarity column 38121 (100.0%), 4466.74 column/sec. Elapsed time 8.53 sec\n",
      "EvaluatorHoldout: Processed 35572 (100.0%) in 8.58 sec. Users per second: 4148\n"
     ]
    },
    {
     "name": "stderr",
     "output_type": "stream",
     "text": [
      "[I 2024-12-09 14:46:31,172] Trial 250 finished with value: 0.0549432628480736 and parameters: {'topK': 10, 'alpha': 0.3117487294212777, 'beta': 0.13919896978177754}. Best is trial 235 with value: 0.05558903002896657.\n"
     ]
    },
    {
     "name": "stdout",
     "output_type": "stream",
     "text": [
      "RP3betaRecommender: Similarity column 38121 (100.0%), 4227.61 column/sec. Elapsed time 9.02 sec\n",
      "EvaluatorHoldout: Processed 35572 (100.0%) in 8.63 sec. Users per second: 4120\n"
     ]
    },
    {
     "name": "stderr",
     "output_type": "stream",
     "text": [
      "[I 2024-12-09 14:46:49,182] Trial 251 finished with value: 0.05549509691053386 and parameters: {'topK': 12, 'alpha': 0.36495756970092413, 'beta': 0.1820703747556558}. Best is trial 235 with value: 0.05558903002896657.\n"
     ]
    },
    {
     "name": "stdout",
     "output_type": "stream",
     "text": [
      "RP3betaRecommender: Similarity column 38121 (100.0%), 3910.19 column/sec. Elapsed time 9.75 sec\n",
      "EvaluatorHoldout: Processed 35572 (100.0%) in 9.02 sec. Users per second: 3942\n"
     ]
    },
    {
     "name": "stderr",
     "output_type": "stream",
     "text": [
      "[I 2024-12-09 14:47:08,273] Trial 252 finished with value: 0.05486672681741607 and parameters: {'topK': 9, 'alpha': 0.3710535316522639, 'beta': 0.18968637788242387}. Best is trial 235 with value: 0.05558903002896657.\n"
     ]
    },
    {
     "name": "stdout",
     "output_type": "stream",
     "text": [
      "RP3betaRecommender: Similarity column 38121 (100.0%), 4342.84 column/sec. Elapsed time 8.78 sec\n",
      "EvaluatorHoldout: Processed 35572 (100.0%) in 8.90 sec. Users per second: 3995\n"
     ]
    },
    {
     "name": "stderr",
     "output_type": "stream",
     "text": [
      "[I 2024-12-09 14:47:26,294] Trial 253 finished with value: 0.055409220333807956 and parameters: {'topK': 11, 'alpha': 0.3482083153925882, 'beta': 0.167596921991447}. Best is trial 235 with value: 0.05558903002896657.\n"
     ]
    },
    {
     "name": "stdout",
     "output_type": "stream",
     "text": [
      "RP3betaRecommender: Similarity column 38121 (100.0%), 4290.35 column/sec. Elapsed time 8.89 sec\n",
      "EvaluatorHoldout: Processed 35572 (100.0%) in 8.85 sec. Users per second: 4018\n"
     ]
    },
    {
     "name": "stderr",
     "output_type": "stream",
     "text": [
      "[I 2024-12-09 14:47:44,401] Trial 254 finished with value: 0.05544482774930673 and parameters: {'topK': 12, 'alpha': 0.3662417047106548, 'beta': 0.19622032905282835}. Best is trial 235 with value: 0.05558903002896657.\n"
     ]
    },
    {
     "name": "stdout",
     "output_type": "stream",
     "text": [
      "RP3betaRecommender: Similarity column 38121 (100.0%), 4179.31 column/sec. Elapsed time 9.12 sec\n",
      "EvaluatorHoldout: Processed 35572 (100.0%) in 8.66 sec. Users per second: 4109\n"
     ]
    },
    {
     "name": "stderr",
     "output_type": "stream",
     "text": [
      "[I 2024-12-09 14:48:02,530] Trial 255 finished with value: 0.055265822369652086 and parameters: {'topK': 12, 'alpha': 0.38377215142837995, 'beta': 0.130761162804785}. Best is trial 235 with value: 0.05558903002896657.\n"
     ]
    },
    {
     "name": "stdout",
     "output_type": "stream",
     "text": [
      "RP3betaRecommender: Similarity column 38121 (100.0%), 4199.04 column/sec. Elapsed time 9.08 sec\n",
      "EvaluatorHoldout: Processed 35572 (100.0%) in 8.91 sec. Users per second: 3991\n"
     ]
    },
    {
     "name": "stderr",
     "output_type": "stream",
     "text": [
      "[I 2024-12-09 14:48:20,869] Trial 256 finished with value: 0.05537338869165658 and parameters: {'topK': 11, 'alpha': 0.34770125143919123, 'beta': 0.181271912611628}. Best is trial 235 with value: 0.05558903002896657.\n"
     ]
    },
    {
     "name": "stdout",
     "output_type": "stream",
     "text": [
      "RP3betaRecommender: Similarity column 38121 (100.0%), 4342.53 column/sec. Elapsed time 8.78 sec\n",
      "EvaluatorHoldout: Processed 35572 (100.0%) in 8.72 sec. Users per second: 4079\n"
     ]
    },
    {
     "name": "stderr",
     "output_type": "stream",
     "text": [
      "[I 2024-12-09 14:48:38,692] Trial 257 finished with value: 0.054824948148979064 and parameters: {'topK': 10, 'alpha': 0.3371535636543804, 'beta': 0.11214749144709893}. Best is trial 235 with value: 0.05558903002896657.\n"
     ]
    },
    {
     "name": "stdout",
     "output_type": "stream",
     "text": [
      "RP3betaRecommender: Similarity column 38121 (100.0%), 3952.99 column/sec. Elapsed time 9.64 sec\n",
      "EvaluatorHoldout: Processed 35572 (100.0%) in 8.55 sec. Users per second: 4158\n"
     ]
    },
    {
     "name": "stderr",
     "output_type": "stream",
     "text": [
      "[I 2024-12-09 14:48:57,226] Trial 258 finished with value: 0.055410570155943605 and parameters: {'topK': 12, 'alpha': 0.3613648527602206, 'beta': 0.15132939897059927}. Best is trial 235 with value: 0.05558903002896657.\n"
     ]
    },
    {
     "name": "stdout",
     "output_type": "stream",
     "text": [
      "RP3betaRecommender: Similarity column 38121 (100.0%), 4232.65 column/sec. Elapsed time 9.01 sec\n",
      "EvaluatorHoldout: Processed 35572 (100.0%) in 8.75 sec. Users per second: 4067\n"
     ]
    },
    {
     "name": "stderr",
     "output_type": "stream",
     "text": [
      "[I 2024-12-09 14:49:15,328] Trial 259 finished with value: 0.05525535845921061 and parameters: {'topK': 11, 'alpha': 0.3193026688834161, 'beta': 0.1990916261125391}. Best is trial 235 with value: 0.05558903002896657.\n"
     ]
    },
    {
     "name": "stdout",
     "output_type": "stream",
     "text": [
      "RP3betaRecommender: Similarity column 38121 (100.0%), 4164.74 column/sec. Elapsed time 9.15 sec\n",
      "EvaluatorHoldout: Processed 35572 (100.0%) in 9.10 sec. Users per second: 3909\n"
     ]
    },
    {
     "name": "stderr",
     "output_type": "stream",
     "text": [
      "[I 2024-12-09 14:49:33,945] Trial 260 finished with value: 0.055466669210130916 and parameters: {'topK': 12, 'alpha': 0.33641060526719274, 'beta': 0.16377045307416474}. Best is trial 235 with value: 0.05558903002896657.\n"
     ]
    },
    {
     "name": "stdout",
     "output_type": "stream",
     "text": [
      "RP3betaRecommender: Similarity column 38121 (100.0%), 3852.93 column/sec. Elapsed time 9.89 sec\n",
      "EvaluatorHoldout: Processed 35572 (100.0%) in 8.82 sec. Users per second: 4035\n"
     ]
    },
    {
     "name": "stderr",
     "output_type": "stream",
     "text": [
      "[I 2024-12-09 14:49:53,015] Trial 261 finished with value: 0.055503377678892886 and parameters: {'topK': 13, 'alpha': 0.3885961212869674, 'beta': 0.18315848357845357}. Best is trial 235 with value: 0.05558903002896657.\n"
     ]
    },
    {
     "name": "stdout",
     "output_type": "stream",
     "text": [
      "RP3betaRecommender: Similarity column 38121 (100.0%), 4179.69 column/sec. Elapsed time 9.12 sec\n",
      "EvaluatorHoldout: Processed 35572 (100.0%) in 8.76 sec. Users per second: 4060\n"
     ]
    },
    {
     "name": "stderr",
     "output_type": "stream",
     "text": [
      "[I 2024-12-09 14:50:11,255] Trial 262 finished with value: 0.05536636961655028 and parameters: {'topK': 13, 'alpha': 0.3808506389006517, 'beta': 0.2159962498133493}. Best is trial 235 with value: 0.05558903002896657.\n"
     ]
    },
    {
     "name": "stdout",
     "output_type": "stream",
     "text": [
      "RP3betaRecommender: Similarity column 38121 (100.0%), 3902.34 column/sec. Elapsed time 9.77 sec\n",
      "EvaluatorHoldout: Processed 35572 (100.0%) in 8.65 sec. Users per second: 4111\n"
     ]
    },
    {
     "name": "stderr",
     "output_type": "stream",
     "text": [
      "[I 2024-12-09 14:50:30,031] Trial 263 finished with value: 0.05544839529574495 and parameters: {'topK': 13, 'alpha': 0.40496171430192546, 'beta': 0.18031307311902334}. Best is trial 235 with value: 0.05558903002896657.\n"
     ]
    },
    {
     "name": "stdout",
     "output_type": "stream",
     "text": [
      "RP3betaRecommender: Similarity column 38121 (100.0%), 4251.36 column/sec. Elapsed time 8.97 sec\n",
      "EvaluatorHoldout: Processed 35572 (100.0%) in 8.69 sec. Users per second: 4091\n"
     ]
    },
    {
     "name": "stderr",
     "output_type": "stream",
     "text": [
      "[I 2024-12-09 14:50:48,015] Trial 264 finished with value: 0.055095000705029054 and parameters: {'topK': 10, 'alpha': 0.3965985699381672, 'beta': 0.20085088925083888}. Best is trial 235 with value: 0.05558903002896657.\n"
     ]
    },
    {
     "name": "stdout",
     "output_type": "stream",
     "text": [
      "RP3betaRecommender: Similarity column 38121 (100.0%), 4381.98 column/sec. Elapsed time 8.70 sec\n",
      "EvaluatorHoldout: Processed 35572 (100.0%) in 8.83 sec. Users per second: 4027\n"
     ]
    },
    {
     "name": "stderr",
     "output_type": "stream",
     "text": [
      "[I 2024-12-09 14:51:05,906] Trial 265 finished with value: 0.05553818635666505 and parameters: {'topK': 12, 'alpha': 0.3596156342694804, 'beta': 0.1780409829711044}. Best is trial 235 with value: 0.05558903002896657.\n"
     ]
    },
    {
     "name": "stdout",
     "output_type": "stream",
     "text": [
      "RP3betaRecommender: Similarity column 38121 (100.0%), 4283.74 column/sec. Elapsed time 8.90 sec\n",
      "EvaluatorHoldout: Processed 35572 (100.0%) in 8.77 sec. Users per second: 4054\n"
     ]
    },
    {
     "name": "stderr",
     "output_type": "stream",
     "text": [
      "[I 2024-12-09 14:51:23,942] Trial 266 finished with value: 0.05519676279184987 and parameters: {'topK': 11, 'alpha': 0.37240863357457915, 'beta': 0.234507774155863}. Best is trial 235 with value: 0.05558903002896657.\n"
     ]
    },
    {
     "name": "stdout",
     "output_type": "stream",
     "text": [
      "RP3betaRecommender: Similarity column 38121 (100.0%), 4050.53 column/sec. Elapsed time 9.41 sec\n",
      "EvaluatorHoldout: Processed 35572 (100.0%) in 8.69 sec. Users per second: 4096\n"
     ]
    },
    {
     "name": "stderr",
     "output_type": "stream",
     "text": [
      "[I 2024-12-09 14:51:42,402] Trial 267 finished with value: 0.05558498725589197 and parameters: {'topK': 12, 'alpha': 0.3582753802732945, 'beta': 0.1830706401280005}. Best is trial 235 with value: 0.05558903002896657.\n"
     ]
    },
    {
     "name": "stdout",
     "output_type": "stream",
     "text": [
      "RP3betaRecommender: Similarity column 38121 (100.0%), 4514.02 column/sec. Elapsed time 8.45 sec\n",
      "EvaluatorHoldout: Processed 35572 (100.0%) in 8.65 sec. Users per second: 4115\n"
     ]
    },
    {
     "name": "stderr",
     "output_type": "stream",
     "text": [
      "[I 2024-12-09 14:51:59,813] Trial 268 finished with value: 0.05485708507136651 and parameters: {'topK': 9, 'alpha': 0.38122906470146, 'beta': 0.1807909281695416}. Best is trial 235 with value: 0.05558903002896657.\n"
     ]
    },
    {
     "name": "stdout",
     "output_type": "stream",
     "text": [
      "RP3betaRecommender: Similarity column 38121 (100.0%), 4227.41 column/sec. Elapsed time 9.02 sec\n",
      "EvaluatorHoldout: Processed 35572 (100.0%) in 8.72 sec. Users per second: 4081\n"
     ]
    },
    {
     "name": "stderr",
     "output_type": "stream",
     "text": [
      "[I 2024-12-09 14:52:17,896] Trial 269 finished with value: 0.05528273642190281 and parameters: {'topK': 11, 'alpha': 0.3629745616554686, 'beta': 0.1995074966873519}. Best is trial 235 with value: 0.05558903002896657.\n"
     ]
    },
    {
     "name": "stdout",
     "output_type": "stream",
     "text": [
      "RP3betaRecommender: Similarity column 38121 (100.0%), 3933.30 column/sec. Elapsed time 9.69 sec\n",
      "EvaluatorHoldout: Processed 35572 (100.0%) in 8.86 sec. Users per second: 4014\n"
     ]
    },
    {
     "name": "stderr",
     "output_type": "stream",
     "text": [
      "[I 2024-12-09 14:52:36,807] Trial 270 finished with value: 0.055441420842858115 and parameters: {'topK': 12, 'alpha': 0.4111623375392447, 'beta': 0.17729041434403012}. Best is trial 235 with value: 0.05558903002896657.\n"
     ]
    },
    {
     "name": "stdout",
     "output_type": "stream",
     "text": [
      "RP3betaRecommender: Similarity column 38121 (100.0%), 4279.35 column/sec. Elapsed time 8.91 sec\n",
      "EvaluatorHoldout: Processed 35572 (100.0%) in 8.77 sec. Users per second: 4055\n"
     ]
    },
    {
     "name": "stderr",
     "output_type": "stream",
     "text": [
      "[I 2024-12-09 14:52:54,821] Trial 271 finished with value: 0.054551526615366955 and parameters: {'topK': 10, 'alpha': 0.5468304263433131, 'beta': 0.14039018815784163}. Best is trial 235 with value: 0.05558903002896657.\n"
     ]
    },
    {
     "name": "stdout",
     "output_type": "stream",
     "text": [
      "RP3betaRecommender: Similarity column 38121 (100.0%), 4422.52 column/sec. Elapsed time 8.62 sec\n",
      "EvaluatorHoldout: Processed 35572 (100.0%) in 8.71 sec. Users per second: 4084\n"
     ]
    },
    {
     "name": "stderr",
     "output_type": "stream",
     "text": [
      "[I 2024-12-09 14:53:12,500] Trial 272 finished with value: 0.05542453133282797 and parameters: {'topK': 12, 'alpha': 0.3866209608208315, 'beta': 0.16541232980338766}. Best is trial 235 with value: 0.05558903002896657.\n"
     ]
    },
    {
     "name": "stdout",
     "output_type": "stream",
     "text": [
      "RP3betaRecommender: Similarity column 38121 (100.0%), 4103.93 column/sec. Elapsed time 9.29 sec\n",
      "EvaluatorHoldout: Processed 35572 (100.0%) in 8.67 sec. Users per second: 4102\n"
     ]
    },
    {
     "name": "stderr",
     "output_type": "stream",
     "text": [
      "[I 2024-12-09 14:53:30,818] Trial 273 finished with value: 0.05544866749128305 and parameters: {'topK': 13, 'alpha': 0.3564936562284951, 'beta': 0.1921427198995875}. Best is trial 235 with value: 0.05558903002896657.\n"
     ]
    },
    {
     "name": "stdout",
     "output_type": "stream",
     "text": [
      "RP3betaRecommender: Similarity column 38121 (100.0%), 3986.10 column/sec. Elapsed time 9.56 sec\n",
      "EvaluatorHoldout: Processed 35572 (100.0%) in 8.85 sec. Users per second: 4021\n"
     ]
    },
    {
     "name": "stderr",
     "output_type": "stream",
     "text": [
      "[I 2024-12-09 14:53:49,568] Trial 274 finished with value: 0.055230103398604825 and parameters: {'topK': 11, 'alpha': 0.31172951388165454, 'beta': 0.2111293123379312}. Best is trial 235 with value: 0.05558903002896657.\n"
     ]
    },
    {
     "name": "stdout",
     "output_type": "stream",
     "text": [
      "RP3betaRecommender: Similarity column 38121 (100.0%), 4184.58 column/sec. Elapsed time 9.11 sec\n",
      "EvaluatorHoldout: Processed 35572 (100.0%) in 8.75 sec. Users per second: 4064\n"
     ]
    },
    {
     "name": "stderr",
     "output_type": "stream",
     "text": [
      "[I 2024-12-09 14:54:07,752] Trial 275 finished with value: 0.05489450414897168 and parameters: {'topK': 9, 'alpha': 0.36365738317150037, 'beta': 0.17133709974480382}. Best is trial 235 with value: 0.05558903002896657.\n"
     ]
    },
    {
     "name": "stdout",
     "output_type": "stream",
     "text": [
      "RP3betaRecommender: Similarity column 38121 (100.0%), 4100.69 column/sec. Elapsed time 9.30 sec\n",
      "EvaluatorHoldout: Processed 35572 (100.0%) in 8.72 sec. Users per second: 4081\n"
     ]
    },
    {
     "name": "stderr",
     "output_type": "stream",
     "text": [
      "[I 2024-12-09 14:54:26,106] Trial 276 finished with value: 0.055294946176677254 and parameters: {'topK': 12, 'alpha': 0.39579807769114245, 'beta': 0.14351397070800045}. Best is trial 235 with value: 0.05558903002896657.\n"
     ]
    },
    {
     "name": "stdout",
     "output_type": "stream",
     "text": [
      "RP3betaRecommender: Similarity column 38121 (100.0%), 4116.98 column/sec. Elapsed time 9.26 sec\n",
      "EvaluatorHoldout: Processed 35572 (100.0%) in 8.85 sec. Users per second: 4021\n"
     ]
    },
    {
     "name": "stderr",
     "output_type": "stream",
     "text": [
      "[I 2024-12-09 14:54:44,568] Trial 277 finished with value: 0.055454836513110485 and parameters: {'topK': 13, 'alpha': 0.3501290758833898, 'beta': 0.19014171706063848}. Best is trial 235 with value: 0.05558903002896657.\n"
     ]
    },
    {
     "name": "stdout",
     "output_type": "stream",
     "text": [
      "RP3betaRecommender: Similarity column 38121 (100.0%), 4422.51 column/sec. Elapsed time 8.62 sec\n",
      "EvaluatorHoldout: Processed 35572 (100.0%) in 8.52 sec. Users per second: 4174\n"
     ]
    },
    {
     "name": "stderr",
     "output_type": "stream",
     "text": [
      "[I 2024-12-09 14:55:02,061] Trial 278 finished with value: 0.05529341228788625 and parameters: {'topK': 11, 'alpha': 0.30788142118434403, 'beta': 0.1671992670462648}. Best is trial 235 with value: 0.05558903002896657.\n"
     ]
    },
    {
     "name": "stdout",
     "output_type": "stream",
     "text": [
      "RP3betaRecommender: Similarity column 38121 (100.0%), 4440.94 column/sec. Elapsed time 8.58 sec\n",
      "EvaluatorHoldout: Processed 35572 (100.0%) in 8.68 sec. Users per second: 4100\n"
     ]
    },
    {
     "name": "stderr",
     "output_type": "stream",
     "text": [
      "[I 2024-12-09 14:55:19,660] Trial 279 finished with value: 0.05511506173930079 and parameters: {'topK': 10, 'alpha': 0.3736450001836061, 'beta': 0.21057551760208434}. Best is trial 235 with value: 0.05558903002896657.\n"
     ]
    },
    {
     "name": "stdout",
     "output_type": "stream",
     "text": [
      "RP3betaRecommender: Similarity column 38121 (100.0%), 4050.26 column/sec. Elapsed time 9.41 sec\n",
      "EvaluatorHoldout: Processed 35572 (100.0%) in 8.74 sec. Users per second: 4068\n"
     ]
    },
    {
     "name": "stderr",
     "output_type": "stream",
     "text": [
      "[I 2024-12-09 14:55:38,173] Trial 280 finished with value: 0.05535487939506355 and parameters: {'topK': 13, 'alpha': 0.32664896074208055, 'beta': 0.12212887665560682}. Best is trial 235 with value: 0.05558903002896657.\n"
     ]
    },
    {
     "name": "stdout",
     "output_type": "stream",
     "text": [
      "RP3betaRecommender: Similarity column 38121 (100.0%), 4431.70 column/sec. Elapsed time 8.60 sec\n",
      "EvaluatorHoldout: Processed 35572 (100.0%) in 8.79 sec. Users per second: 4045\n"
     ]
    },
    {
     "name": "stderr",
     "output_type": "stream",
     "text": [
      "[I 2024-12-09 14:55:55,921] Trial 281 finished with value: 0.055188185285731974 and parameters: {'topK': 12, 'alpha': 0.4937282325053647, 'beta': 0.1816800414204178}. Best is trial 235 with value: 0.05558903002896657.\n"
     ]
    },
    {
     "name": "stdout",
     "output_type": "stream",
     "text": [
      "RP3betaRecommender: Similarity column 38121 (100.0%), 4511.73 column/sec. Elapsed time 8.45 sec\n",
      "EvaluatorHoldout: Processed 35572 (100.0%) in 8.68 sec. Users per second: 4098\n"
     ]
    },
    {
     "name": "stderr",
     "output_type": "stream",
     "text": [
      "[I 2024-12-09 14:56:13,355] Trial 282 finished with value: 0.05439270051886529 and parameters: {'topK': 8, 'alpha': 0.3494312188581722, 'beta': 0.14904153679466176}. Best is trial 235 with value: 0.05558903002896657.\n"
     ]
    },
    {
     "name": "stdout",
     "output_type": "stream",
     "text": [
      "RP3betaRecommender: Similarity column 38121 (100.0%), 4078.81 column/sec. Elapsed time 9.35 sec\n",
      "EvaluatorHoldout: Processed 35572 (100.0%) in 8.74 sec. Users per second: 4072\n"
     ]
    },
    {
     "name": "stderr",
     "output_type": "stream",
     "text": [
      "[I 2024-12-09 14:56:31,796] Trial 283 finished with value: 0.05535459492841492 and parameters: {'topK': 12, 'alpha': 0.3398992799745526, 'beta': 0.22397342490094654}. Best is trial 235 with value: 0.05558903002896657.\n"
     ]
    },
    {
     "name": "stdout",
     "output_type": "stream",
     "text": [
      "RP3betaRecommender: Similarity column 38121 (100.0%), 3946.50 column/sec. Elapsed time 9.66 sec\n",
      "EvaluatorHoldout: Processed 35572 (100.0%) in 8.80 sec. Users per second: 4040\n"
     ]
    },
    {
     "name": "stderr",
     "output_type": "stream",
     "text": [
      "[I 2024-12-09 14:56:50,627] Trial 284 finished with value: 0.05425318357223881 and parameters: {'topK': 11, 'alpha': 0.7386781049602709, 'beta': 0.18961043972129213}. Best is trial 235 with value: 0.05558903002896657.\n"
     ]
    },
    {
     "name": "stdout",
     "output_type": "stream",
     "text": [
      "RP3betaRecommender: Similarity column 38121 (100.0%), 4220.67 column/sec. Elapsed time 9.03 sec\n",
      "EvaluatorHoldout: Processed 35572 (100.0%) in 8.89 sec. Users per second: 4002\n"
     ]
    },
    {
     "name": "stderr",
     "output_type": "stream",
     "text": [
      "[I 2024-12-09 14:57:08,908] Trial 285 finished with value: 0.05505514971646841 and parameters: {'topK': 13, 'alpha': 0.575071122466543, 'beta': 0.15995813144370566}. Best is trial 235 with value: 0.05558903002896657.\n"
     ]
    },
    {
     "name": "stdout",
     "output_type": "stream",
     "text": [
      "RP3betaRecommender: Similarity column 38121 (100.0%), 4203.28 column/sec. Elapsed time 9.07 sec\n",
      "EvaluatorHoldout: Processed 35572 (100.0%) in 8.84 sec. Users per second: 4024\n"
     ]
    },
    {
     "name": "stderr",
     "output_type": "stream",
     "text": [
      "[I 2024-12-09 14:57:27,167] Trial 286 finished with value: 0.05523692613594587 and parameters: {'topK': 11, 'alpha': 0.31060888996100505, 'beta': 0.2081807171363822}. Best is trial 235 with value: 0.05558903002896657.\n"
     ]
    },
    {
     "name": "stdout",
     "output_type": "stream",
     "text": [
      "RP3betaRecommender: Similarity column 38121 (100.0%), 3942.01 column/sec. Elapsed time 9.67 sec\n",
      "EvaluatorHoldout: Processed 35572 (100.0%) in 8.71 sec. Users per second: 4085\n"
     ]
    },
    {
     "name": "stderr",
     "output_type": "stream",
     "text": [
      "[I 2024-12-09 14:57:45,913] Trial 287 finished with value: 0.05534639559560642 and parameters: {'topK': 13, 'alpha': 0.36511729818834265, 'beta': 0.24859496473625148}. Best is trial 235 with value: 0.05558903002896657.\n"
     ]
    },
    {
     "name": "stdout",
     "output_type": "stream",
     "text": [
      "RP3betaRecommender: Similarity column 38121 (100.0%), 4182.84 column/sec. Elapsed time 9.11 sec\n",
      "EvaluatorHoldout: Processed 35572 (100.0%) in 9.09 sec. Users per second: 3912\n"
     ]
    },
    {
     "name": "stderr",
     "output_type": "stream",
     "text": [
      "[I 2024-12-09 14:58:04,612] Trial 288 finished with value: 0.05446396220319383 and parameters: {'topK': 25, 'alpha': 0.32819083123241793, 'beta': 0.17468998846873654}. Best is trial 235 with value: 0.05558903002896657.\n"
     ]
    },
    {
     "name": "stdout",
     "output_type": "stream",
     "text": [
      "RP3betaRecommender: Similarity column 38121 (100.0%), 4163.25 column/sec. Elapsed time 9.16 sec\n",
      "EvaluatorHoldout: Processed 35572 (100.0%) in 8.66 sec. Users per second: 4108\n"
     ]
    },
    {
     "name": "stderr",
     "output_type": "stream",
     "text": [
      "[I 2024-12-09 14:58:22,744] Trial 289 finished with value: 0.05484660665870409 and parameters: {'topK': 10, 'alpha': 0.3915746622291407, 'beta': 0.13701950336783264}. Best is trial 235 with value: 0.05558903002896657.\n"
     ]
    },
    {
     "name": "stdout",
     "output_type": "stream",
     "text": [
      "RP3betaRecommender: Similarity column 38121 (100.0%), 3898.31 column/sec. Elapsed time 9.78 sec\n",
      "EvaluatorHoldout: Processed 35572 (100.0%) in 8.85 sec. Users per second: 4018\n"
     ]
    },
    {
     "name": "stderr",
     "output_type": "stream",
     "text": [
      "[I 2024-12-09 14:58:41,729] Trial 290 finished with value: 0.055409538267120764 and parameters: {'topK': 12, 'alpha': 0.30199767068151406, 'beta': 0.19962755748995545}. Best is trial 235 with value: 0.05558903002896657.\n"
     ]
    },
    {
     "name": "stdout",
     "output_type": "stream",
     "text": [
      "RP3betaRecommender: Similarity column 38121 (100.0%), 4248.67 column/sec. Elapsed time 8.97 sec\n",
      "EvaluatorHoldout: Processed 35572 (100.0%) in 8.80 sec. Users per second: 4041\n"
     ]
    },
    {
     "name": "stderr",
     "output_type": "stream",
     "text": [
      "[I 2024-12-09 14:58:59,839] Trial 291 finished with value: 0.05504733413474663 and parameters: {'topK': 12, 'alpha': 0.3518310521428514, 'beta': 0.08826287004306681}. Best is trial 235 with value: 0.05558903002896657.\n"
     ]
    },
    {
     "name": "stdout",
     "output_type": "stream",
     "text": [
      "RP3betaRecommender: Similarity column 38121 (100.0%), 4254.41 column/sec. Elapsed time 8.96 sec\n",
      "EvaluatorHoldout: Processed 35572 (100.0%) in 8.72 sec. Users per second: 4078\n"
     ]
    },
    {
     "name": "stderr",
     "output_type": "stream",
     "text": [
      "[I 2024-12-09 14:59:17,878] Trial 292 finished with value: 0.055470468792110234 and parameters: {'topK': 13, 'alpha': 0.3763028031114257, 'beta': 0.155691938418349}. Best is trial 235 with value: 0.05558903002896657.\n"
     ]
    },
    {
     "name": "stdout",
     "output_type": "stream",
     "text": [
      "RP3betaRecommender: Similarity column 38121 (100.0%), 3938.37 column/sec. Elapsed time 9.68 sec\n",
      "EvaluatorHoldout: Processed 35572 (100.0%) in 8.97 sec. Users per second: 3966\n"
     ]
    },
    {
     "name": "stderr",
     "output_type": "stream",
     "text": [
      "[I 2024-12-09 14:59:36,908] Trial 293 finished with value: 0.05535529103503709 and parameters: {'topK': 15, 'alpha': 0.32208904224149976, 'beta': 0.17998460191881777}. Best is trial 235 with value: 0.05558903002896657.\n"
     ]
    },
    {
     "name": "stdout",
     "output_type": "stream",
     "text": [
      "RP3betaRecommender: Similarity column 38121 (100.0%), 4193.28 column/sec. Elapsed time 9.09 sec\n",
      "EvaluatorHoldout: Processed 35572 (100.0%) in 9.45 sec. Users per second: 3762\n"
     ]
    },
    {
     "name": "stderr",
     "output_type": "stream",
     "text": [
      "[I 2024-12-09 14:59:56,073] Trial 294 finished with value: 0.053689272506106854 and parameters: {'topK': 34, 'alpha': 0.42004777855808584, 'beta': 0.22929539889058903}. Best is trial 235 with value: 0.05558903002896657.\n"
     ]
    },
    {
     "name": "stdout",
     "output_type": "stream",
     "text": [
      "RP3betaRecommender: Similarity column 38121 (100.0%), 4167.62 column/sec. Elapsed time 9.15 sec\n",
      "EvaluatorHoldout: Processed 35572 (100.0%) in 9.02 sec. Users per second: 3945\n"
     ]
    },
    {
     "name": "stderr",
     "output_type": "stream",
     "text": [
      "[I 2024-12-09 15:00:14,609] Trial 295 finished with value: 0.0540396963725688 and parameters: {'topK': 11, 'alpha': 0.33855126831223437, 'beta': 0.42697999776020273}. Best is trial 235 with value: 0.05558903002896657.\n"
     ]
    },
    {
     "name": "stdout",
     "output_type": "stream",
     "text": [
      "RP3betaRecommender: Similarity column 38121 (100.0%), 3937.53 column/sec. Elapsed time 9.68 sec\n",
      "EvaluatorHoldout: Processed 35572 (100.0%) in 8.88 sec. Users per second: 4007\n"
     ]
    },
    {
     "name": "stderr",
     "output_type": "stream",
     "text": [
      "[I 2024-12-09 15:00:33,543] Trial 296 finished with value: 0.05549763926148242 and parameters: {'topK': 14, 'alpha': 0.3596158770391826, 'beta': 0.20163856385954393}. Best is trial 235 with value: 0.05558903002896657.\n"
     ]
    },
    {
     "name": "stdout",
     "output_type": "stream",
     "text": [
      "RP3betaRecommender: Similarity column 38121 (100.0%), 4417.72 column/sec. Elapsed time 8.63 sec\n",
      "EvaluatorHoldout: Processed 35572 (100.0%) in 8.90 sec. Users per second: 3997\n"
     ]
    },
    {
     "name": "stderr",
     "output_type": "stream",
     "text": [
      "[I 2024-12-09 15:00:51,440] Trial 297 finished with value: 0.055468339196690794 and parameters: {'topK': 14, 'alpha': 0.35969554696939554, 'beta': 0.16501812083151052}. Best is trial 235 with value: 0.05558903002896657.\n"
     ]
    },
    {
     "name": "stdout",
     "output_type": "stream",
     "text": [
      "RP3betaRecommender: Similarity column 38121 (100.0%), 4225.03 column/sec. Elapsed time 9.02 sec\n",
      "EvaluatorHoldout: Processed 35572 (100.0%) in 8.73 sec. Users per second: 4073\n"
     ]
    },
    {
     "name": "stderr",
     "output_type": "stream",
     "text": [
      "[I 2024-12-09 15:01:09,540] Trial 298 finished with value: 0.055199402196124944 and parameters: {'topK': 10, 'alpha': 0.32011867736318506, 'beta': 0.19678543071053398}. Best is trial 235 with value: 0.05558903002896657.\n"
     ]
    },
    {
     "name": "stdout",
     "output_type": "stream",
     "text": [
      "RP3betaRecommender: Similarity column 38121 (100.0%), 3972.71 column/sec. Elapsed time 9.60 sec\n",
      "EvaluatorHoldout: Processed 35572 (100.0%) in 8.84 sec. Users per second: 4022\n"
     ]
    },
    {
     "name": "stderr",
     "output_type": "stream",
     "text": [
      "[I 2024-12-09 15:01:28,324] Trial 299 finished with value: 0.05529931469195302 and parameters: {'topK': 13, 'alpha': 0.3381390676689048, 'beta': 0.11452356481427528}. Best is trial 235 with value: 0.05558903002896657.\n"
     ]
    }
   ],
   "source": [
    "optuna_study_beta = op.create_study(direction=\"maximize\")\n",
    "        \n",
    "save_results_beta = SaveResults()\n",
    "        \n",
    "optuna_study_beta.optimize(objective_function_P3_beta,\n",
    "                      callbacks=[save_results_beta],\n",
    "                      n_trials = 300)"
   ]
  },
  {
   "cell_type": "code",
   "execution_count": 23,
   "id": "c27778b0-76f1-4b72-95aa-3adc13784b6b",
   "metadata": {},
   "outputs": [],
   "source": [
    "save_results_beta.results_df.to_csv(\"result_experiments/RP3beta/results_optuna_50.csv\")"
   ]
  },
  {
   "cell_type": "code",
   "execution_count": 15,
   "id": "63737328-e59b-477b-968e-cb091e225322",
   "metadata": {
    "scrolled": true
   },
   "outputs": [
    {
     "name": "stderr",
     "output_type": "stream",
     "text": [
      "[I 2024-12-09 07:40:21,634] A new study created in memory with name: no-name-190db610-7b6e-4d85-a877-2611764cbb27\n"
     ]
    },
    {
     "name": "stdout",
     "output_type": "stream",
     "text": [
      "P3alphaRecommender: Similarity column 38121 (100.0%), 4703.27 column/sec. Elapsed time 8.11 sec\n",
      "EvaluatorHoldout: Processed 35572 (100.0%) in 9.02 sec. Users per second: 3946\n"
     ]
    },
    {
     "name": "stderr",
     "output_type": "stream",
     "text": [
      "[I 2024-12-09 07:40:39,405] Trial 0 finished with value: 0.05047467220517467 and parameters: {'topK': 51, 'alpha': 0.3774241480510347}. Best is trial 0 with value: 0.05047467220517467.\n"
     ]
    },
    {
     "name": "stdout",
     "output_type": "stream",
     "text": [
      "P3alphaRecommender: Similarity column 38121 (100.0%), 4690.72 column/sec. Elapsed time 8.13 sec\n",
      "EvaluatorHoldout: Processed 35572 (100.0%) in 9.03 sec. Users per second: 3941\n"
     ]
    },
    {
     "name": "stderr",
     "output_type": "stream",
     "text": [
      "[I 2024-12-09 07:40:57,216] Trial 1 finished with value: 0.05040746556503141 and parameters: {'topK': 52, 'alpha': 0.3846647742101469}. Best is trial 0 with value: 0.05047467220517467.\n"
     ]
    },
    {
     "name": "stdout",
     "output_type": "stream",
     "text": [
      "P3alphaRecommender: Similarity column 38121 (100.0%), 3674.27 column/sec. Elapsed time 10.38 sec\n",
      "EvaluatorHoldout: Processed 35572 (100.0%) in 11.30 sec. Users per second: 3147\n"
     ]
    },
    {
     "name": "stderr",
     "output_type": "stream",
     "text": [
      "[I 2024-12-09 07:41:21,269] Trial 2 finished with value: 0.04289579239244544 and parameters: {'topK': 211, 'alpha': 0.37486511236471187}. Best is trial 0 with value: 0.05047467220517467.\n"
     ]
    },
    {
     "name": "stdout",
     "output_type": "stream",
     "text": [
      "P3alphaRecommender: Similarity column 38121 (100.0%), 4226.47 column/sec. Elapsed time 9.02 sec\n",
      "EvaluatorHoldout: Processed 35572 (100.0%) in 10.01 sec. Users per second: 3555\n"
     ]
    },
    {
     "name": "stderr",
     "output_type": "stream",
     "text": [
      "[I 2024-12-09 07:41:41,607] Trial 3 finished with value: 0.04664098211719749 and parameters: {'topK': 116, 'alpha': 0.36173198869809614}. Best is trial 0 with value: 0.05047467220517467.\n"
     ]
    },
    {
     "name": "stdout",
     "output_type": "stream",
     "text": [
      "P3alphaRecommender: Similarity column 38121 (100.0%), 3278.20 column/sec. Elapsed time 11.63 sec\n",
      "EvaluatorHoldout: Processed 35572 (100.0%) in 12.34 sec. Users per second: 2884\n"
     ]
    },
    {
     "name": "stderr",
     "output_type": "stream",
     "text": [
      "[I 2024-12-09 07:42:08,962] Trial 4 finished with value: 0.04062130974245677 and parameters: {'topK': 299, 'alpha': 0.3627693116383861}. Best is trial 0 with value: 0.05047467220517467.\n"
     ]
    },
    {
     "name": "stdout",
     "output_type": "stream",
     "text": [
      "P3alphaRecommender: Similarity column 38121 (100.0%), 4875.02 column/sec. Elapsed time 7.82 sec\n",
      "EvaluatorHoldout: Processed 35572 (100.0%) in 8.75 sec. Users per second: 4066\n"
     ]
    },
    {
     "name": "stderr",
     "output_type": "stream",
     "text": [
      "[I 2024-12-09 07:42:25,998] Trial 5 finished with value: 0.05219341969517508 and parameters: {'topK': 32, 'alpha': 0.3654305356083161}. Best is trial 5 with value: 0.05219341969517508.\n"
     ]
    },
    {
     "name": "stdout",
     "output_type": "stream",
     "text": [
      "P3alphaRecommender: Similarity column 38121 (100.0%), 3151.91 column/sec. Elapsed time 12.09 sec\n",
      "EvaluatorHoldout: Processed 35572 (100.0%) in 12.74 sec. Users per second: 2792\n"
     ]
    },
    {
     "name": "stderr",
     "output_type": "stream",
     "text": [
      "[I 2024-12-09 07:42:54,636] Trial 6 finished with value: 0.04013628295127614 and parameters: {'topK': 332, 'alpha': 0.3871590339310712}. Best is trial 5 with value: 0.05219341969517508.\n"
     ]
    },
    {
     "name": "stdout",
     "output_type": "stream",
     "text": [
      "P3alphaRecommender: Similarity column 38121 (100.0%), 3411.30 column/sec. Elapsed time 11.17 sec\n",
      "EvaluatorHoldout: Processed 35572 (100.0%) in 12.09 sec. Users per second: 2943\n"
     ]
    },
    {
     "name": "stderr",
     "output_type": "stream",
     "text": [
      "[I 2024-12-09 07:43:20,964] Trial 7 finished with value: 0.04119454796799164 and parameters: {'topK': 271, 'alpha': 0.37892971183884794}. Best is trial 5 with value: 0.05219341969517508.\n"
     ]
    },
    {
     "name": "stdout",
     "output_type": "stream",
     "text": [
      "P3alphaRecommender: Similarity column 38121 (100.0%), 4893.18 column/sec. Elapsed time 7.79 sec\n",
      "EvaluatorHoldout: Processed 35572 (100.0%) in 8.75 sec. Users per second: 4067\n"
     ]
    },
    {
     "name": "stderr",
     "output_type": "stream",
     "text": [
      "[I 2024-12-09 07:43:37,959] Trial 8 finished with value: 0.052404819690534364 and parameters: {'topK': 31, 'alpha': 0.3881335921581344}. Best is trial 8 with value: 0.052404819690534364.\n"
     ]
    },
    {
     "name": "stdout",
     "output_type": "stream",
     "text": [
      "P3alphaRecommender: Similarity column 38121 (100.0%), 3966.03 column/sec. Elapsed time 9.61 sec\n",
      "EvaluatorHoldout: Processed 35572 (100.0%) in 10.58 sec. Users per second: 3363\n"
     ]
    },
    {
     "name": "stderr",
     "output_type": "stream",
     "text": [
      "[I 2024-12-09 07:43:59,935] Trial 9 finished with value: 0.044697913152665 and parameters: {'topK': 159, 'alpha': 0.37266501396639456}. Best is trial 8 with value: 0.052404819690534364.\n"
     ]
    },
    {
     "name": "stdout",
     "output_type": "stream",
     "text": [
      "P3alphaRecommender: Similarity column 38121 (100.0%), 4179.12 column/sec. Elapsed time 9.12 sec\n",
      "EvaluatorHoldout: Processed 35572 (100.0%) in 10.15 sec. Users per second: 3506\n"
     ]
    },
    {
     "name": "stderr",
     "output_type": "stream",
     "text": [
      "[I 2024-12-09 07:44:20,601] Trial 10 finished with value: 0.04627881814482047 and parameters: {'topK': 123, 'alpha': 0.35280388598605666}. Best is trial 8 with value: 0.052404819690534364.\n"
     ]
    },
    {
     "name": "stdout",
     "output_type": "stream",
     "text": [
      "P3alphaRecommender: Similarity column 38121 (100.0%), 5131.07 column/sec. Elapsed time 7.43 sec\n",
      "EvaluatorHoldout: Processed 35572 (100.0%) in 8.22 sec. Users per second: 4326\n"
     ]
    },
    {
     "name": "stderr",
     "output_type": "stream",
     "text": [
      "[I 2024-12-09 07:44:36,496] Trial 11 finished with value: 0.050201387884887184 and parameters: {'topK': 5, 'alpha': 0.3662087648983572}. Best is trial 8 with value: 0.052404819690534364.\n"
     ]
    },
    {
     "name": "stdout",
     "output_type": "stream",
     "text": [
      "P3alphaRecommender: Similarity column 38121 (100.0%), 2942.33 column/sec. Elapsed time 12.96 sec\n",
      "EvaluatorHoldout: Processed 35572 (100.0%) in 13.43 sec. Users per second: 2648\n"
     ]
    },
    {
     "name": "stderr",
     "output_type": "stream",
     "text": [
      "[I 2024-12-09 07:45:07,541] Trial 12 finished with value: 0.03888888219555451 and parameters: {'topK': 398, 'alpha': 0.3551810999946966}. Best is trial 8 with value: 0.052404819690534364.\n"
     ]
    },
    {
     "name": "stdout",
     "output_type": "stream",
     "text": [
      "P3alphaRecommender: Similarity column 38121 (100.0%), 5131.23 column/sec. Elapsed time 7.43 sec\n",
      "EvaluatorHoldout: Processed 35572 (100.0%) in 8.24 sec. Users per second: 4315\n"
     ]
    },
    {
     "name": "stderr",
     "output_type": "stream",
     "text": [
      "[I 2024-12-09 07:45:23,454] Trial 13 finished with value: 0.05021146692868661 and parameters: {'topK': 5, 'alpha': 0.3684450416823514}. Best is trial 8 with value: 0.052404819690534364.\n"
     ]
    },
    {
     "name": "stdout",
     "output_type": "stream",
     "text": [
      "P3alphaRecommender: Similarity column 38121 (100.0%), 4458.24 column/sec. Elapsed time 8.55 sec\n",
      "EvaluatorHoldout: Processed 35572 (100.0%) in 9.55 sec. Users per second: 3725\n"
     ]
    },
    {
     "name": "stderr",
     "output_type": "stream",
     "text": [
      "[I 2024-12-09 07:45:42,536] Trial 14 finished with value: 0.0485313600495466 and parameters: {'topK': 83, 'alpha': 0.3823594867957717}. Best is trial 8 with value: 0.052404819690534364.\n"
     ]
    },
    {
     "name": "stdout",
     "output_type": "stream",
     "text": [
      "P3alphaRecommender: Similarity column 38121 (100.0%), 3660.80 column/sec. Elapsed time 10.41 sec\n",
      "EvaluatorHoldout: Processed 35572 (100.0%) in 11.29 sec. Users per second: 3150\n"
     ]
    },
    {
     "name": "stderr",
     "output_type": "stream",
     "text": [
      "[I 2024-12-09 07:46:06,622] Trial 15 finished with value: 0.04274628899312476 and parameters: {'topK': 214, 'alpha': 0.3588514368484363}. Best is trial 8 with value: 0.052404819690534364.\n"
     ]
    },
    {
     "name": "stdout",
     "output_type": "stream",
     "text": [
      "P3alphaRecommender: Similarity column 38121 (100.0%), 3970.90 column/sec. Elapsed time 9.60 sec\n",
      "EvaluatorHoldout: Processed 35572 (100.0%) in 10.58 sec. Users per second: 3363\n"
     ]
    },
    {
     "name": "stderr",
     "output_type": "stream",
     "text": [
      "[I 2024-12-09 07:46:28,578] Trial 16 finished with value: 0.044721659982256246 and parameters: {'topK': 158, 'alpha': 0.3705585138267039}. Best is trial 8 with value: 0.052404819690534364.\n"
     ]
    },
    {
     "name": "stdout",
     "output_type": "stream",
     "text": [
      "P3alphaRecommender: Similarity column 38121 (100.0%), 4596.09 column/sec. Elapsed time 8.29 sec\n",
      "EvaluatorHoldout: Processed 35572 (100.0%) in 9.25 sec. Users per second: 3844\n"
     ]
    },
    {
     "name": "stderr",
     "output_type": "stream",
     "text": [
      "[I 2024-12-09 07:46:46,898] Trial 17 finished with value: 0.049649590635757745 and parameters: {'topK': 64, 'alpha': 0.3644837752240155}. Best is trial 8 with value: 0.052404819690534364.\n"
     ]
    },
    {
     "name": "stdout",
     "output_type": "stream",
     "text": [
      "P3alphaRecommender: Similarity column 38121 (100.0%), 5081.53 column/sec. Elapsed time 7.50 sec\n",
      "EvaluatorHoldout: Processed 35572 (100.0%) in 8.24 sec. Users per second: 4319\n"
     ]
    },
    {
     "name": "stderr",
     "output_type": "stream",
     "text": [
      "[I 2024-12-09 07:47:02,869] Trial 18 finished with value: 0.04773497949162606 and parameters: {'topK': 4, 'alpha': 0.3884026348068206}. Best is trial 8 with value: 0.052404819690534364.\n"
     ]
    },
    {
     "name": "stdout",
     "output_type": "stream",
     "text": [
      "P3alphaRecommender: Similarity column 38121 (100.0%), 4226.94 column/sec. Elapsed time 9.02 sec\n",
      "EvaluatorHoldout: Processed 35572 (100.0%) in 9.94 sec. Users per second: 3577\n"
     ]
    },
    {
     "name": "stderr",
     "output_type": "stream",
     "text": [
      "[I 2024-12-09 07:47:23,129] Trial 19 finished with value: 0.04703244057658873 and parameters: {'topK': 111, 'alpha': 0.37997946790322396}. Best is trial 8 with value: 0.052404819690534364.\n"
     ]
    },
    {
     "name": "stdout",
     "output_type": "stream",
     "text": [
      "P3alphaRecommender: Similarity column 38121 (100.0%), 3898.50 column/sec. Elapsed time 9.78 sec\n",
      "EvaluatorHoldout: Processed 35572 (100.0%) in 10.76 sec. Users per second: 3306\n"
     ]
    },
    {
     "name": "stderr",
     "output_type": "stream",
     "text": [
      "[I 2024-12-09 07:47:45,620] Trial 20 finished with value: 0.04416865347098202 and parameters: {'topK': 172, 'alpha': 0.3584365096675021}. Best is trial 8 with value: 0.052404819690534364.\n"
     ]
    },
    {
     "name": "stdout",
     "output_type": "stream",
     "text": [
      "P3alphaRecommender: Similarity column 38121 (100.0%), 4740.11 column/sec. Elapsed time 8.04 sec\n",
      "EvaluatorHoldout: Processed 35572 (100.0%) in 8.94 sec. Users per second: 3979\n"
     ]
    },
    {
     "name": "stderr",
     "output_type": "stream",
     "text": [
      "[I 2024-12-09 07:48:03,211] Trial 21 finished with value: 0.050937633308878405 and parameters: {'topK': 46, 'alpha': 0.3759270159648745}. Best is trial 8 with value: 0.052404819690534364.\n"
     ]
    },
    {
     "name": "stdout",
     "output_type": "stream",
     "text": [
      "P3alphaRecommender: Similarity column 38121 (100.0%), 4682.23 column/sec. Elapsed time 8.14 sec\n",
      "EvaluatorHoldout: Processed 35572 (100.0%) in 9.01 sec. Users per second: 3948\n"
     ]
    },
    {
     "name": "stderr",
     "output_type": "stream",
     "text": [
      "[I 2024-12-09 07:48:20,986] Trial 22 finished with value: 0.05068170703192451 and parameters: {'topK': 48, 'alpha': 0.37430455564072757}. Best is trial 8 with value: 0.052404819690534364.\n"
     ]
    },
    {
     "name": "stdout",
     "output_type": "stream",
     "text": [
      "P3alphaRecommender: Similarity column 38121 (100.0%), 4463.47 column/sec. Elapsed time 8.54 sec\n",
      "EvaluatorHoldout: Processed 35572 (100.0%) in 9.53 sec. Users per second: 3733\n"
     ]
    },
    {
     "name": "stderr",
     "output_type": "stream",
     "text": [
      "[I 2024-12-09 07:48:40,036] Trial 23 finished with value: 0.04853041182738512 and parameters: {'topK': 83, 'alpha': 0.38993611691262364}. Best is trial 8 with value: 0.052404819690534364.\n"
     ]
    },
    {
     "name": "stdout",
     "output_type": "stream",
     "text": [
      "P3alphaRecommender: Similarity column 38121 (100.0%), 4883.06 column/sec. Elapsed time 7.81 sec\n",
      "EvaluatorHoldout: Processed 35572 (100.0%) in 8.73 sec. Users per second: 4073\n"
     ]
    },
    {
     "name": "stderr",
     "output_type": "stream",
     "text": [
      "[I 2024-12-09 07:48:57,050] Trial 24 finished with value: 0.05222206604445275 and parameters: {'topK': 32, 'alpha': 0.3824736998969662}. Best is trial 8 with value: 0.052404819690534364.\n"
     ]
    },
    {
     "name": "stdout",
     "output_type": "stream",
     "text": [
      "P3alphaRecommender: Similarity column 38121 (100.0%), 4869.97 column/sec. Elapsed time 7.83 sec\n",
      "EvaluatorHoldout: Processed 35572 (100.0%) in 8.74 sec. Users per second: 4068\n"
     ]
    },
    {
     "name": "stderr",
     "output_type": "stream",
     "text": [
      "[I 2024-12-09 07:49:14,095] Trial 25 finished with value: 0.05222148930226748 and parameters: {'topK': 32, 'alpha': 0.38399513759498927}. Best is trial 8 with value: 0.052404819690534364.\n"
     ]
    },
    {
     "name": "stdout",
     "output_type": "stream",
     "text": [
      "P3alphaRecommender: Similarity column 38121 (100.0%), 4244.10 column/sec. Elapsed time 8.98 sec\n",
      "EvaluatorHoldout: Processed 35572 (100.0%) in 9.95 sec. Users per second: 3575\n"
     ]
    },
    {
     "name": "stderr",
     "output_type": "stream",
     "text": [
      "[I 2024-12-09 07:49:34,331] Trial 26 finished with value: 0.047054486184066754 and parameters: {'topK': 111, 'alpha': 0.3844199416074817}. Best is trial 8 with value: 0.052404819690534364.\n"
     ]
    },
    {
     "name": "stdout",
     "output_type": "stream",
     "text": [
      "P3alphaRecommender: Similarity column 38121 (100.0%), 4430.77 column/sec. Elapsed time 8.60 sec\n",
      "EvaluatorHoldout: Processed 35572 (100.0%) in 9.49 sec. Users per second: 3749\n"
     ]
    },
    {
     "name": "stderr",
     "output_type": "stream",
     "text": [
      "[I 2024-12-09 07:49:53,354] Trial 27 finished with value: 0.048741303129443546 and parameters: {'topK': 79, 'alpha': 0.38169560164730776}. Best is trial 8 with value: 0.052404819690534364.\n"
     ]
    },
    {
     "name": "stdout",
     "output_type": "stream",
     "text": [
      "P3alphaRecommender: Similarity column 38121 (100.0%), 4957.68 column/sec. Elapsed time 7.69 sec\n",
      "EvaluatorHoldout: Processed 35572 (100.0%) in 8.59 sec. Users per second: 4143\n"
     ]
    },
    {
     "name": "stderr",
     "output_type": "stream",
     "text": [
      "[I 2024-12-09 07:50:10,027] Trial 28 finished with value: 0.053344061630422955 and parameters: {'topK': 23, 'alpha': 0.3854529644398552}. Best is trial 28 with value: 0.053344061630422955.\n"
     ]
    },
    {
     "name": "stdout",
     "output_type": "stream",
     "text": [
      "P3alphaRecommender: Similarity column 38121 (100.0%), 3572.61 column/sec. Elapsed time 10.67 sec\n",
      "EvaluatorHoldout: Processed 35572 (100.0%) in 11.58 sec. Users per second: 3071\n"
     ]
    },
    {
     "name": "stderr",
     "output_type": "stream",
     "text": [
      "[I 2024-12-09 07:50:34,918] Trial 29 finished with value: 0.04224796701168397 and parameters: {'topK': 234, 'alpha': 0.38695666502892706}. Best is trial 28 with value: 0.053344061630422955.\n"
     ]
    },
    {
     "name": "stdout",
     "output_type": "stream",
     "text": [
      "P3alphaRecommender: Similarity column 38121 (100.0%), 4030.12 column/sec. Elapsed time 9.46 sec\n",
      "EvaluatorHoldout: Processed 35572 (100.0%) in 10.41 sec. Users per second: 3418\n"
     ]
    },
    {
     "name": "stderr",
     "output_type": "stream",
     "text": [
      "[I 2024-12-09 07:50:56,376] Trial 30 finished with value: 0.04548748547546564 and parameters: {'topK': 141, 'alpha': 0.3774265766432888}. Best is trial 28 with value: 0.053344061630422955.\n"
     ]
    },
    {
     "name": "stdout",
     "output_type": "stream",
     "text": [
      "P3alphaRecommender: Similarity column 38121 (100.0%), 4964.60 column/sec. Elapsed time 7.68 sec\n",
      "EvaluatorHoldout: Processed 35572 (100.0%) in 8.60 sec. Users per second: 4136\n"
     ]
    },
    {
     "name": "stderr",
     "output_type": "stream",
     "text": [
      "[I 2024-12-09 07:51:13,042] Trial 31 finished with value: 0.053392171076232606 and parameters: {'topK': 22, 'alpha': 0.38445274242968513}. Best is trial 31 with value: 0.053392171076232606.\n"
     ]
    },
    {
     "name": "stdout",
     "output_type": "stream",
     "text": [
      "P3alphaRecommender: Similarity column 38121 (100.0%), 4900.40 column/sec. Elapsed time 7.78 sec\n",
      "EvaluatorHoldout: Processed 35572 (100.0%) in 8.68 sec. Users per second: 4096\n"
     ]
    },
    {
     "name": "stderr",
     "output_type": "stream",
     "text": [
      "[I 2024-12-09 07:51:29,952] Trial 32 finished with value: 0.05257252895535644 and parameters: {'topK': 29, 'alpha': 0.38692740333198183}. Best is trial 31 with value: 0.053392171076232606.\n"
     ]
    },
    {
     "name": "stdout",
     "output_type": "stream",
     "text": [
      "P3alphaRecommender: Similarity column 38121 (100.0%), 4580.76 column/sec. Elapsed time 8.32 sec\n",
      "EvaluatorHoldout: Processed 35572 (100.0%) in 9.24 sec. Users per second: 3852\n"
     ]
    },
    {
     "name": "stderr",
     "output_type": "stream",
     "text": [
      "[I 2024-12-09 07:51:48,293] Trial 33 finished with value: 0.049654048395472355 and parameters: {'topK': 64, 'alpha': 0.38572201296300124}. Best is trial 31 with value: 0.053392171076232606.\n"
     ]
    },
    {
     "name": "stdout",
     "output_type": "stream",
     "text": [
      "P3alphaRecommender: Similarity column 38121 (100.0%), 4347.01 column/sec. Elapsed time 8.77 sec\n",
      "EvaluatorHoldout: Processed 35572 (100.0%) in 9.71 sec. Users per second: 3665\n"
     ]
    },
    {
     "name": "stderr",
     "output_type": "stream",
     "text": [
      "[I 2024-12-09 07:52:07,841] Trial 34 finished with value: 0.047981279640307434 and parameters: {'topK': 92, 'alpha': 0.38851808672963256}. Best is trial 31 with value: 0.053392171076232606.\n"
     ]
    },
    {
     "name": "stdout",
     "output_type": "stream",
     "text": [
      "P3alphaRecommender: Similarity column 38121 (100.0%), 4897.13 column/sec. Elapsed time 7.78 sec\n",
      "EvaluatorHoldout: Processed 35572 (100.0%) in 8.72 sec. Users per second: 4081\n"
     ]
    },
    {
     "name": "stderr",
     "output_type": "stream",
     "text": [
      "[I 2024-12-09 07:52:24,794] Trial 35 finished with value: 0.0525362443976787 and parameters: {'topK': 30, 'alpha': 0.3803981126573718}. Best is trial 31 with value: 0.053392171076232606.\n"
     ]
    },
    {
     "name": "stdout",
     "output_type": "stream",
     "text": [
      "P3alphaRecommender: Similarity column 38121 (100.0%), 4976.04 column/sec. Elapsed time 7.66 sec\n",
      "EvaluatorHoldout: Processed 35572 (100.0%) in 8.56 sec. Users per second: 4153\n"
     ]
    },
    {
     "name": "stderr",
     "output_type": "stream",
     "text": [
      "[I 2024-12-09 07:52:41,395] Trial 36 finished with value: 0.05356643311396872 and parameters: {'topK': 21, 'alpha': 0.3800323146309985}. Best is trial 36 with value: 0.05356643311396872.\n"
     ]
    },
    {
     "name": "stdout",
     "output_type": "stream",
     "text": [
      "P3alphaRecommender: Similarity column 38121 (100.0%), 4623.86 column/sec. Elapsed time 8.24 sec\n",
      "EvaluatorHoldout: Processed 35572 (100.0%) in 9.20 sec. Users per second: 3866\n"
     ]
    },
    {
     "name": "stderr",
     "output_type": "stream",
     "text": [
      "[I 2024-12-09 07:52:59,573] Trial 37 finished with value: 0.049959191864832116 and parameters: {'topK': 59, 'alpha': 0.3850436546511552}. Best is trial 36 with value: 0.05356643311396872.\n"
     ]
    },
    {
     "name": "stdout",
     "output_type": "stream",
     "text": [
      "P3alphaRecommender: Similarity column 38121 (100.0%), 4999.86 column/sec. Elapsed time 7.62 sec\n",
      "EvaluatorHoldout: Processed 35572 (100.0%) in 8.49 sec. Users per second: 4191\n"
     ]
    },
    {
     "name": "stderr",
     "output_type": "stream",
     "text": [
      "[I 2024-12-09 07:53:16,026] Trial 38 finished with value: 0.05396276989749207 and parameters: {'topK': 17, 'alpha': 0.3769438008573302}. Best is trial 38 with value: 0.05396276989749207.\n"
     ]
    },
    {
     "name": "stdout",
     "output_type": "stream",
     "text": [
      "P3alphaRecommender: Similarity column 38121 (100.0%), 5104.45 column/sec. Elapsed time 7.47 sec\n",
      "EvaluatorHoldout: Processed 35572 (100.0%) in 8.28 sec. Users per second: 4295\n"
     ]
    },
    {
     "name": "stderr",
     "output_type": "stream",
     "text": [
      "[I 2024-12-09 07:53:32,016] Trial 39 finished with value: 0.05017148318902338 and parameters: {'topK': 5, 'alpha': 0.3771510185317727}. Best is trial 38 with value: 0.05396276989749207.\n"
     ]
    },
    {
     "name": "stdout",
     "output_type": "stream",
     "text": [
      "P3alphaRecommender: Similarity column 38121 (100.0%), 3165.09 column/sec. Elapsed time 12.04 sec\n",
      "EvaluatorHoldout: Processed 35572 (100.0%) in 12.67 sec. Users per second: 2807\n"
     ]
    },
    {
     "name": "stderr",
     "output_type": "stream",
     "text": [
      "[I 2024-12-09 07:54:00,454] Trial 40 finished with value: 0.04022591225665103 and parameters: {'topK': 326, 'alpha': 0.3732321091874635}. Best is trial 38 with value: 0.05396276989749207.\n"
     ]
    },
    {
     "name": "stdout",
     "output_type": "stream",
     "text": [
      "P3alphaRecommender: Similarity column 38121 (100.0%), 4953.00 column/sec. Elapsed time 7.70 sec\n",
      "EvaluatorHoldout: Processed 35572 (100.0%) in 8.51 sec. Users per second: 4179\n"
     ]
    },
    {
     "name": "stderr",
     "output_type": "stream",
     "text": [
      "[I 2024-12-09 07:54:17,019] Trial 41 finished with value: 0.053797773663607315 and parameters: {'topK': 19, 'alpha': 0.37829223547693525}. Best is trial 38 with value: 0.05396276989749207.\n"
     ]
    },
    {
     "name": "stdout",
     "output_type": "stream",
     "text": [
      "P3alphaRecommender: Similarity column 38121 (100.0%), 4983.20 column/sec. Elapsed time 7.65 sec\n",
      "EvaluatorHoldout: Processed 35572 (100.0%) in 8.49 sec. Users per second: 4188\n"
     ]
    },
    {
     "name": "stderr",
     "output_type": "stream",
     "text": [
      "[I 2024-12-09 07:54:33,486] Trial 42 finished with value: 0.0540552561404618 and parameters: {'topK': 15, 'alpha': 0.37801474477001434}. Best is trial 42 with value: 0.0540552561404618.\n"
     ]
    },
    {
     "name": "stdout",
     "output_type": "stream",
     "text": [
      "P3alphaRecommender: Similarity column 38121 (100.0%), 4675.77 column/sec. Elapsed time 8.15 sec\n",
      "EvaluatorHoldout: Processed 35572 (100.0%) in 9.01 sec. Users per second: 3949\n"
     ]
    },
    {
     "name": "stderr",
     "output_type": "stream",
     "text": [
      "[I 2024-12-09 07:54:51,264] Trial 43 finished with value: 0.050837174190863414 and parameters: {'topK': 47, 'alpha': 0.37840661044783963}. Best is trial 42 with value: 0.0540552561404618.\n"
     ]
    },
    {
     "name": "stdout",
     "output_type": "stream",
     "text": [
      "P3alphaRecommender: Similarity column 38121 (100.0%), 4963.01 column/sec. Elapsed time 7.68 sec\n",
      "EvaluatorHoldout: Processed 35572 (100.0%) in 8.53 sec. Users per second: 4173\n"
     ]
    },
    {
     "name": "stderr",
     "output_type": "stream",
     "text": [
      "[I 2024-12-09 07:55:07,821] Trial 44 finished with value: 0.05391866641142576 and parameters: {'topK': 18, 'alpha': 0.37124737114177636}. Best is trial 42 with value: 0.0540552561404618.\n"
     ]
    },
    {
     "name": "stdout",
     "output_type": "stream",
     "text": [
      "P3alphaRecommender: Similarity column 38121 (100.0%), 4553.24 column/sec. Elapsed time 8.37 sec\n",
      "EvaluatorHoldout: Processed 35572 (100.0%) in 9.30 sec. Users per second: 3825\n"
     ]
    },
    {
     "name": "stderr",
     "output_type": "stream",
     "text": [
      "[I 2024-12-09 07:55:26,298] Trial 45 finished with value: 0.049401232287208385 and parameters: {'topK': 67, 'alpha': 0.3710525890298191}. Best is trial 42 with value: 0.0540552561404618.\n"
     ]
    },
    {
     "name": "stdout",
     "output_type": "stream",
     "text": [
      "P3alphaRecommender: Similarity column 38121 (100.0%), 2419.30 column/sec. Elapsed time 15.76 sec\n",
      "EvaluatorHoldout: Processed 35572 (100.0%) in 8.15 sec. Users per second: 4362\n"
     ]
    },
    {
     "name": "stderr",
     "output_type": "stream",
     "text": [
      "[I 2024-12-09 07:55:50,429] Trial 46 finished with value: 0.036967434927416186 and parameters: {'topK': 2, 'alpha': 0.3679698106760591}. Best is trial 42 with value: 0.0540552561404618.\n"
     ]
    },
    {
     "name": "stdout",
     "output_type": "stream",
     "text": [
      "P3alphaRecommender: Similarity column 38121 (100.0%), 4713.75 column/sec. Elapsed time 8.09 sec\n",
      "EvaluatorHoldout: Processed 35572 (100.0%) in 8.96 sec. Users per second: 3972\n"
     ]
    },
    {
     "name": "stderr",
     "output_type": "stream",
     "text": [
      "[I 2024-12-09 07:56:08,067] Trial 47 finished with value: 0.05093661480672137 and parameters: {'topK': 46, 'alpha': 0.37578182950290256}. Best is trial 42 with value: 0.0540552561404618.\n"
     ]
    },
    {
     "name": "stdout",
     "output_type": "stream",
     "text": [
      "P3alphaRecommender: Similarity column 38121 (100.0%), 4297.46 column/sec. Elapsed time 8.87 sec\n",
      "EvaluatorHoldout: Processed 35572 (100.0%) in 9.86 sec. Users per second: 3606\n"
     ]
    },
    {
     "name": "stderr",
     "output_type": "stream",
     "text": [
      "[I 2024-12-09 07:56:27,991] Trial 48 finished with value: 0.04730171559046617 and parameters: {'topK': 105, 'alpha': 0.37167240248004174}. Best is trial 42 with value: 0.0540552561404618.\n"
     ]
    },
    {
     "name": "stdout",
     "output_type": "stream",
     "text": [
      "P3alphaRecommender: Similarity column 38121 (100.0%), 4148.67 column/sec. Elapsed time 9.19 sec\n",
      "EvaluatorHoldout: Processed 35572 (100.0%) in 10.25 sec. Users per second: 3471\n"
     ]
    },
    {
     "name": "stderr",
     "output_type": "stream",
     "text": [
      "[I 2024-12-09 07:56:48,866] Trial 49 finished with value: 0.046052045794889376 and parameters: {'topK': 130, 'alpha': 0.37427822191619753}. Best is trial 42 with value: 0.0540552561404618.\n"
     ]
    },
    {
     "name": "stdout",
     "output_type": "stream",
     "text": [
      "P3alphaRecommender: Similarity column 38121 (100.0%), 3011.80 column/sec. Elapsed time 12.66 sec\n",
      "EvaluatorHoldout: Processed 35572 (100.0%) in 13.23 sec. Users per second: 2688\n"
     ]
    },
    {
     "name": "stderr",
     "output_type": "stream",
     "text": [
      "[I 2024-12-09 07:57:19,032] Trial 50 finished with value: 0.039340922011068404 and parameters: {'topK': 374, 'alpha': 0.3793756718865513}. Best is trial 42 with value: 0.0540552561404618.\n"
     ]
    },
    {
     "name": "stdout",
     "output_type": "stream",
     "text": [
      "P3alphaRecommender: Similarity column 38121 (100.0%), 4934.41 column/sec. Elapsed time 7.73 sec\n",
      "EvaluatorHoldout: Processed 35572 (100.0%) in 8.52 sec. Users per second: 4174\n"
     ]
    },
    {
     "name": "stderr",
     "output_type": "stream",
     "text": [
      "[I 2024-12-09 07:57:35,644] Trial 51 finished with value: 0.05377941385144902 and parameters: {'topK': 19, 'alpha': 0.3806167171083347}. Best is trial 42 with value: 0.0540552561404618.\n"
     ]
    },
    {
     "name": "stdout",
     "output_type": "stream",
     "text": [
      "P3alphaRecommender: Similarity column 38121 (100.0%), 4937.53 column/sec. Elapsed time 7.72 sec\n",
      "EvaluatorHoldout: Processed 35572 (100.0%) in 8.48 sec. Users per second: 4196\n"
     ]
    },
    {
     "name": "stderr",
     "output_type": "stream",
     "text": [
      "[I 2024-12-09 07:57:52,178] Trial 52 finished with value: 0.0539196592558066 and parameters: {'topK': 16, 'alpha': 0.38075344267003214}. Best is trial 42 with value: 0.0540552561404618.\n"
     ]
    },
    {
     "name": "stdout",
     "output_type": "stream",
     "text": [
      "P3alphaRecommender: Similarity column 38121 (100.0%), 4968.03 column/sec. Elapsed time 7.67 sec\n",
      "EvaluatorHoldout: Processed 35572 (100.0%) in 8.54 sec. Users per second: 4167\n"
     ]
    },
    {
     "name": "stderr",
     "output_type": "stream",
     "text": [
      "[I 2024-12-09 07:58:08,740] Trial 53 finished with value: 0.05395291061812297 and parameters: {'topK': 18, 'alpha': 0.37713423678452485}. Best is trial 42 with value: 0.0540552561404618.\n"
     ]
    },
    {
     "name": "stdout",
     "output_type": "stream",
     "text": [
      "P3alphaRecommender: Similarity column 38121 (100.0%), 3453.16 column/sec. Elapsed time 11.04 sec\n",
      "EvaluatorHoldout: Processed 35572 (100.0%) in 11.92 sec. Users per second: 2984\n"
     ]
    },
    {
     "name": "stderr",
     "output_type": "stream",
     "text": [
      "[I 2024-12-09 07:58:34,631] Trial 54 finished with value: 0.04140199331915954 and parameters: {'topK': 264, 'alpha': 0.37745383545354505}. Best is trial 42 with value: 0.0540552561404618.\n"
     ]
    },
    {
     "name": "stdout",
     "output_type": "stream",
     "text": [
      "P3alphaRecommender: Similarity column 38121 (100.0%), 4733.07 column/sec. Elapsed time 8.05 sec\n",
      "EvaluatorHoldout: Processed 35572 (100.0%) in 8.90 sec. Users per second: 3999\n"
     ]
    },
    {
     "name": "stderr",
     "output_type": "stream",
     "text": [
      "[I 2024-12-09 07:58:52,153] Trial 55 finished with value: 0.051179625182280114 and parameters: {'topK': 43, 'alpha': 0.37264583864203077}. Best is trial 42 with value: 0.0540552561404618.\n"
     ]
    },
    {
     "name": "stdout",
     "output_type": "stream",
     "text": [
      "P3alphaRecommender: Similarity column 38121 (100.0%), 4523.16 column/sec. Elapsed time 8.43 sec\n",
      "EvaluatorHoldout: Processed 35572 (100.0%) in 9.41 sec. Users per second: 3781\n"
     ]
    },
    {
     "name": "stderr",
     "output_type": "stream",
     "text": [
      "[I 2024-12-09 07:59:10,864] Trial 56 finished with value: 0.04894324990763033 and parameters: {'topK': 74, 'alpha': 0.37609499405368235}. Best is trial 42 with value: 0.0540552561404618.\n"
     ]
    },
    {
     "name": "stdout",
     "output_type": "stream",
     "text": [
      "P3alphaRecommender: Similarity column 38121 (100.0%), 4999.97 column/sec. Elapsed time 7.62 sec\n",
      "EvaluatorHoldout: Processed 35572 (100.0%) in 8.46 sec. Users per second: 4204\n"
     ]
    },
    {
     "name": "stderr",
     "output_type": "stream",
     "text": [
      "[I 2024-12-09 07:59:27,276] Trial 57 finished with value: 0.05406111169119814 and parameters: {'topK': 15, 'alpha': 0.3825034565252322}. Best is trial 57 with value: 0.05406111169119814.\n"
     ]
    },
    {
     "name": "stdout",
     "output_type": "stream",
     "text": [
      "P3alphaRecommender: Similarity column 38121 (100.0%), 5055.35 column/sec. Elapsed time 7.54 sec\n",
      "EvaluatorHoldout: Processed 35572 (100.0%) in 8.39 sec. Users per second: 4240\n"
     ]
    },
    {
     "name": "stderr",
     "output_type": "stream",
     "text": [
      "[I 2024-12-09 07:59:43,508] Trial 58 finished with value: 0.05416216428473075 and parameters: {'topK': 12, 'alpha': 0.3823133331698621}. Best is trial 58 with value: 0.05416216428473075.\n"
     ]
    },
    {
     "name": "stdout",
     "output_type": "stream",
     "text": [
      "P3alphaRecommender: Similarity column 38121 (100.0%), 4710.90 column/sec. Elapsed time 8.09 sec\n",
      "EvaluatorHoldout: Processed 35572 (100.0%) in 9.08 sec. Users per second: 3916\n"
     ]
    },
    {
     "name": "stderr",
     "output_type": "stream",
     "text": [
      "[I 2024-12-09 08:00:01,364] Trial 59 finished with value: 0.05032865603229752 and parameters: {'topK': 53, 'alpha': 0.38290337532459084}. Best is trial 58 with value: 0.05416216428473075.\n"
     ]
    },
    {
     "name": "stdout",
     "output_type": "stream",
     "text": [
      "P3alphaRecommender: Similarity column 38121 (100.0%), 4360.45 column/sec. Elapsed time 8.74 sec\n",
      "EvaluatorHoldout: Processed 35572 (100.0%) in 9.71 sec. Users per second: 3663\n"
     ]
    },
    {
     "name": "stderr",
     "output_type": "stream",
     "text": [
      "[I 2024-12-09 08:00:20,882] Trial 60 finished with value: 0.0479140852712745 and parameters: {'topK': 93, 'alpha': 0.3812311673116907}. Best is trial 58 with value: 0.05416216428473075.\n"
     ]
    },
    {
     "name": "stdout",
     "output_type": "stream",
     "text": [
      "P3alphaRecommender: Similarity column 38121 (100.0%), 4961.44 column/sec. Elapsed time 7.68 sec\n",
      "EvaluatorHoldout: Processed 35572 (100.0%) in 8.43 sec. Users per second: 4222\n"
     ]
    },
    {
     "name": "stderr",
     "output_type": "stream",
     "text": [
      "[I 2024-12-09 08:00:37,304] Trial 61 finished with value: 0.054112652585677365 and parameters: {'topK': 13, 'alpha': 0.38269443617694476}. Best is trial 58 with value: 0.05416216428473075.\n"
     ]
    },
    {
     "name": "stdout",
     "output_type": "stream",
     "text": [
      "P3alphaRecommender: Similarity column 38121 (100.0%), 5066.52 column/sec. Elapsed time 7.52 sec\n",
      "EvaluatorHoldout: Processed 35572 (100.0%) in 8.39 sec. Users per second: 4240\n"
     ]
    },
    {
     "name": "stderr",
     "output_type": "stream",
     "text": [
      "[I 2024-12-09 08:00:53,516] Trial 62 finished with value: 0.054025276702380366 and parameters: {'topK': 11, 'alpha': 0.3828298601269544}. Best is trial 58 with value: 0.05416216428473075.\n"
     ]
    },
    {
     "name": "stdout",
     "output_type": "stream",
     "text": [
      "P3alphaRecommender: Similarity column 38121 (100.0%), 4812.64 column/sec. Elapsed time 7.92 sec\n",
      "EvaluatorHoldout: Processed 35572 (100.0%) in 8.84 sec. Users per second: 4024\n"
     ]
    },
    {
     "name": "stderr",
     "output_type": "stream",
     "text": [
      "[I 2024-12-09 08:01:10,804] Trial 63 finished with value: 0.05162442838936793 and parameters: {'topK': 38, 'alpha': 0.3834598400454978}. Best is trial 58 with value: 0.05416216428473075.\n"
     ]
    },
    {
     "name": "stdout",
     "output_type": "stream",
     "text": [
      "P3alphaRecommender: Similarity column 38121 (100.0%), 1701.78 column/sec. Elapsed time 22.40 sec\n",
      "EvaluatorHoldout: Processed 35572 (100.0%) in 8.23 sec. Users per second: 4323\n"
     ]
    },
    {
     "name": "stderr",
     "output_type": "stream",
     "text": [
      "[I 2024-12-09 08:01:41,660] Trial 64 finished with value: 0.04375054550663009 and parameters: {'topK': 3, 'alpha': 0.3821071225033747}. Best is trial 58 with value: 0.05416216428473075.\n"
     ]
    },
    {
     "name": "stdout",
     "output_type": "stream",
     "text": [
      "P3alphaRecommender: Similarity column 38121 (100.0%), 5068.35 column/sec. Elapsed time 7.52 sec\n",
      "EvaluatorHoldout: Processed 35572 (100.0%) in 8.46 sec. Users per second: 4202\n"
     ]
    },
    {
     "name": "stderr",
     "output_type": "stream",
     "text": [
      "[I 2024-12-09 08:01:57,946] Trial 65 finished with value: 0.05405249737174926 and parameters: {'topK': 11, 'alpha': 0.37917406508748114}. Best is trial 58 with value: 0.05416216428473075.\n"
     ]
    },
    {
     "name": "stdout",
     "output_type": "stream",
     "text": [
      "P3alphaRecommender: Similarity column 38121 (100.0%), 4826.62 column/sec. Elapsed time 7.90 sec\n",
      "EvaluatorHoldout: Processed 35572 (100.0%) in 8.84 sec. Users per second: 4024\n"
     ]
    },
    {
     "name": "stderr",
     "output_type": "stream",
     "text": [
      "[I 2024-12-09 08:02:15,185] Trial 66 finished with value: 0.051963276136570764 and parameters: {'topK': 35, 'alpha': 0.3793225104266755}. Best is trial 58 with value: 0.05416216428473075.\n"
     ]
    },
    {
     "name": "stdout",
     "output_type": "stream",
     "text": [
      "P3alphaRecommender: Similarity column 38121 (100.0%), 4660.70 column/sec. Elapsed time 8.18 sec\n",
      "EvaluatorHoldout: Processed 35572 (100.0%) in 9.13 sec. Users per second: 3898\n"
     ]
    },
    {
     "name": "stderr",
     "output_type": "stream",
     "text": [
      "[I 2024-12-09 08:02:33,175] Trial 67 finished with value: 0.05022670653215563 and parameters: {'topK': 55, 'alpha': 0.3833931359108975}. Best is trial 58 with value: 0.05416216428473075.\n"
     ]
    },
    {
     "name": "stdout",
     "output_type": "stream",
     "text": [
      "P3alphaRecommender: Similarity column 38121 (100.0%), 5012.10 column/sec. Elapsed time 7.61 sec\n",
      "EvaluatorHoldout: Processed 35572 (100.0%) in 8.40 sec. Users per second: 4236\n"
     ]
    },
    {
     "name": "stderr",
     "output_type": "stream",
     "text": [
      "[I 2024-12-09 08:02:49,476] Trial 68 finished with value: 0.054062505019997764 and parameters: {'topK': 11, 'alpha': 0.3864827630108883}. Best is trial 58 with value: 0.05416216428473075.\n"
     ]
    },
    {
     "name": "stdout",
     "output_type": "stream",
     "text": [
      "P3alphaRecommender: Similarity column 38121 (100.0%), 3769.51 column/sec. Elapsed time 10.11 sec\n",
      "EvaluatorHoldout: Processed 35572 (100.0%) in 11.04 sec. Users per second: 3221\n"
     ]
    },
    {
     "name": "stderr",
     "output_type": "stream",
     "text": [
      "[I 2024-12-09 08:03:12,757] Trial 69 finished with value: 0.04358616171270601 and parameters: {'topK': 190, 'alpha': 0.3886351390601959}. Best is trial 58 with value: 0.05416216428473075.\n"
     ]
    },
    {
     "name": "stdout",
     "output_type": "stream",
     "text": [
      "P3alphaRecommender: Similarity column 38121 (100.0%), 5084.73 column/sec. Elapsed time 7.50 sec\n",
      "EvaluatorHoldout: Processed 35572 (100.0%) in 8.36 sec. Users per second: 4257\n"
     ]
    },
    {
     "name": "stderr",
     "output_type": "stream",
     "text": [
      "[I 2024-12-09 08:03:28,888] Trial 70 finished with value: 0.053675348142553474 and parameters: {'topK': 9, 'alpha': 0.38601139240266064}. Best is trial 58 with value: 0.05416216428473075.\n"
     ]
    },
    {
     "name": "stdout",
     "output_type": "stream",
     "text": [
      "P3alphaRecommender: Similarity column 38121 (100.0%), 4866.83 column/sec. Elapsed time 7.83 sec\n",
      "EvaluatorHoldout: Processed 35572 (100.0%) in 8.76 sec. Users per second: 4060\n"
     ]
    },
    {
     "name": "stderr",
     "output_type": "stream",
     "text": [
      "[I 2024-12-09 08:03:45,970] Trial 71 finished with value: 0.05208640445757951 and parameters: {'topK': 33, 'alpha': 0.38255306614518153}. Best is trial 58 with value: 0.05416216428473075.\n"
     ]
    },
    {
     "name": "stdout",
     "output_type": "stream",
     "text": [
      "P3alphaRecommender: Similarity column 38121 (100.0%), 5035.91 column/sec. Elapsed time 7.57 sec\n",
      "EvaluatorHoldout: Processed 35572 (100.0%) in 8.41 sec. Users per second: 4231\n"
     ]
    },
    {
     "name": "stderr",
     "output_type": "stream",
     "text": [
      "[I 2024-12-09 08:04:02,245] Trial 72 finished with value: 0.05406192270003503 and parameters: {'topK': 11, 'alpha': 0.3864379777137901}. Best is trial 58 with value: 0.05416216428473075.\n"
     ]
    },
    {
     "name": "stdout",
     "output_type": "stream",
     "text": [
      "P3alphaRecommender: Similarity column 38121 (100.0%), 4726.92 column/sec. Elapsed time 8.06 sec\n",
      "EvaluatorHoldout: Processed 35572 (100.0%) in 8.93 sec. Users per second: 3985\n"
     ]
    },
    {
     "name": "stderr",
     "output_type": "stream",
     "text": [
      "[I 2024-12-09 08:04:19,795] Trial 73 finished with value: 0.05135434125109811 and parameters: {'topK': 41, 'alpha': 0.3899054400745247}. Best is trial 58 with value: 0.05416216428473075.\n"
     ]
    },
    {
     "name": "stdout",
     "output_type": "stream",
     "text": [
      "P3alphaRecommender: Similarity column 38121 (100.0%), 2420.47 column/sec. Elapsed time 15.75 sec\n",
      "EvaluatorHoldout: Processed 35572 (100.0%) in 8.20 sec. Users per second: 4340\n"
     ]
    },
    {
     "name": "stderr",
     "output_type": "stream",
     "text": [
      "[I 2024-12-09 08:04:43,960] Trial 74 finished with value: 0.03684675078847329 and parameters: {'topK': 2, 'alpha': 0.38716700549045546}. Best is trial 58 with value: 0.05416216428473075.\n"
     ]
    },
    {
     "name": "stdout",
     "output_type": "stream",
     "text": [
      "P3alphaRecommender: Similarity column 38121 (100.0%), 4554.42 column/sec. Elapsed time 8.37 sec\n",
      "EvaluatorHoldout: Processed 35572 (100.0%) in 9.38 sec. Users per second: 3792\n"
     ]
    },
    {
     "name": "stderr",
     "output_type": "stream",
     "text": [
      "[I 2024-12-09 08:05:02,572] Trial 75 finished with value: 0.04917009923088966 and parameters: {'topK': 71, 'alpha': 0.3840392543436839}. Best is trial 58 with value: 0.05416216428473075.\n"
     ]
    },
    {
     "name": "stdout",
     "output_type": "stream",
     "text": [
      "P3alphaRecommender: Similarity column 38121 (100.0%), 5014.39 column/sec. Elapsed time 7.60 sec\n",
      "EvaluatorHoldout: Processed 35572 (100.0%) in 8.38 sec. Users per second: 4244\n"
     ]
    },
    {
     "name": "stderr",
     "output_type": "stream",
     "text": [
      "[I 2024-12-09 08:05:18,852] Trial 76 finished with value: 0.05408044426773832 and parameters: {'topK': 11, 'alpha': 0.3500167582578871}. Best is trial 58 with value: 0.05416216428473075.\n"
     ]
    },
    {
     "name": "stdout",
     "output_type": "stream",
     "text": [
      "P3alphaRecommender: Similarity column 38121 (100.0%), 4847.22 column/sec. Elapsed time 7.86 sec\n",
      "EvaluatorHoldout: Processed 35572 (100.0%) in 8.70 sec. Users per second: 4087\n"
     ]
    },
    {
     "name": "stderr",
     "output_type": "stream",
     "text": [
      "[I 2024-12-09 08:05:35,862] Trial 77 finished with value: 0.05272954785197382 and parameters: {'topK': 28, 'alpha': 0.3517270224972769}. Best is trial 58 with value: 0.05416216428473075.\n"
     ]
    },
    {
     "name": "stdout",
     "output_type": "stream",
     "text": [
      "P3alphaRecommender: Similarity column 38121 (100.0%), 4603.55 column/sec. Elapsed time 8.28 sec\n",
      "EvaluatorHoldout: Processed 35572 (100.0%) in 9.15 sec. Users per second: 3889\n"
     ]
    },
    {
     "name": "stderr",
     "output_type": "stream",
     "text": [
      "[I 2024-12-09 08:05:53,988] Trial 78 finished with value: 0.0501286692850967 and parameters: {'topK': 57, 'alpha': 0.3579726844535502}. Best is trial 58 with value: 0.05416216428473075.\n"
     ]
    },
    {
     "name": "stdout",
     "output_type": "stream",
     "text": [
      "P3alphaRecommender: Similarity column 38121 (100.0%), 4935.63 column/sec. Elapsed time 7.72 sec\n",
      "EvaluatorHoldout: Processed 35572 (100.0%) in 8.65 sec. Users per second: 4111\n"
     ]
    },
    {
     "name": "stderr",
     "output_type": "stream",
     "text": [
      "[I 2024-12-09 08:06:10,787] Trial 79 finished with value: 0.05288219153998239 and parameters: {'topK': 26, 'alpha': 0.3610037660424361}. Best is trial 58 with value: 0.05416216428473075.\n"
     ]
    },
    {
     "name": "stdout",
     "output_type": "stream",
     "text": [
      "P3alphaRecommender: Similarity column 38121 (100.0%), 4824.78 column/sec. Elapsed time 7.90 sec\n",
      "EvaluatorHoldout: Processed 35572 (100.0%) in 8.83 sec. Users per second: 4028\n"
     ]
    },
    {
     "name": "stderr",
     "output_type": "stream",
     "text": [
      "[I 2024-12-09 08:06:28,039] Trial 80 finished with value: 0.051723113774163304 and parameters: {'topK': 37, 'alpha': 0.38650333303552403}. Best is trial 58 with value: 0.05416216428473075.\n"
     ]
    },
    {
     "name": "stdout",
     "output_type": "stream",
     "text": [
      "P3alphaRecommender: Similarity column 38121 (100.0%), 5051.47 column/sec. Elapsed time 7.55 sec\n",
      "EvaluatorHoldout: Processed 35572 (100.0%) in 8.42 sec. Users per second: 4225\n"
     ]
    },
    {
     "name": "stderr",
     "output_type": "stream",
     "text": [
      "[I 2024-12-09 08:06:44,306] Trial 81 finished with value: 0.0541594936449017 and parameters: {'topK': 12, 'alpha': 0.3500526106196078}. Best is trial 58 with value: 0.05416216428473075.\n"
     ]
    },
    {
     "name": "stdout",
     "output_type": "stream",
     "text": [
      "P3alphaRecommender: Similarity column 38121 (100.0%), 5056.73 column/sec. Elapsed time 7.54 sec\n",
      "EvaluatorHoldout: Processed 35572 (100.0%) in 8.42 sec. Users per second: 4227\n"
     ]
    },
    {
     "name": "stderr",
     "output_type": "stream",
     "text": [
      "[I 2024-12-09 08:07:00,557] Trial 82 finished with value: 0.054118147811992 and parameters: {'topK': 11, 'alpha': 0.3532602518517629}. Best is trial 58 with value: 0.05416216428473075.\n"
     ]
    },
    {
     "name": "stdout",
     "output_type": "stream",
     "text": [
      "P3alphaRecommender: Similarity column 38121 (100.0%), 5055.51 column/sec. Elapsed time 7.54 sec\n",
      "EvaluatorHoldout: Processed 35572 (100.0%) in 8.39 sec. Users per second: 4240\n"
     ]
    },
    {
     "name": "stderr",
     "output_type": "stream",
     "text": [
      "[I 2024-12-09 08:07:16,772] Trial 83 finished with value: 0.0538791690539534 and parameters: {'topK': 10, 'alpha': 0.3502756931446088}. Best is trial 58 with value: 0.05416216428473075.\n"
     ]
    },
    {
     "name": "stdout",
     "output_type": "stream",
     "text": [
      "P3alphaRecommender: Similarity column 38121 (100.0%), 4939.60 column/sec. Elapsed time 7.72 sec\n",
      "EvaluatorHoldout: Processed 35572 (100.0%) in 8.65 sec. Users per second: 4112\n"
     ]
    },
    {
     "name": "stderr",
     "output_type": "stream",
     "text": [
      "[I 2024-12-09 08:07:33,549] Trial 84 finished with value: 0.05305146035137151 and parameters: {'topK': 25, 'alpha': 0.3545645849019676}. Best is trial 58 with value: 0.05416216428473075.\n"
     ]
    },
    {
     "name": "stdout",
     "output_type": "stream",
     "text": [
      "P3alphaRecommender: Similarity column 38121 (100.0%), 4660.50 column/sec. Elapsed time 8.18 sec\n",
      "EvaluatorHoldout: Processed 35572 (100.0%) in 9.01 sec. Users per second: 3948\n"
     ]
    },
    {
     "name": "stderr",
     "output_type": "stream",
     "text": [
      "[I 2024-12-09 08:07:51,384] Trial 85 finished with value: 0.050578481336308684 and parameters: {'topK': 50, 'alpha': 0.35029844862978377}. Best is trial 58 with value: 0.05416216428473075.\n"
     ]
    },
    {
     "name": "stdout",
     "output_type": "stream",
     "text": [
      "P3alphaRecommender: Similarity column 38121 (100.0%), 4754.14 column/sec. Elapsed time 8.02 sec\n",
      "EvaluatorHoldout: Processed 35572 (100.0%) in 8.82 sec. Users per second: 4034\n"
     ]
    },
    {
     "name": "stderr",
     "output_type": "stream",
     "text": [
      "[I 2024-12-09 08:08:08,745] Trial 86 finished with value: 0.05160493182617144 and parameters: {'topK': 38, 'alpha': 0.35315683445821083}. Best is trial 58 with value: 0.05416216428473075.\n"
     ]
    },
    {
     "name": "stdout",
     "output_type": "stream",
     "text": [
      "P3alphaRecommender: Similarity column 38121 (100.0%), 4616.32 column/sec. Elapsed time 8.26 sec\n",
      "EvaluatorHoldout: Processed 35572 (100.0%) in 9.21 sec. Users per second: 3863\n"
     ]
    },
    {
     "name": "stderr",
     "output_type": "stream",
     "text": [
      "[I 2024-12-09 08:08:26,957] Trial 87 finished with value: 0.04977125200130478 and parameters: {'topK': 62, 'alpha': 0.3522470753909285}. Best is trial 58 with value: 0.05416216428473075.\n"
     ]
    },
    {
     "name": "stdout",
     "output_type": "stream",
     "text": [
      "P3alphaRecommender: Similarity column 38121 (100.0%), 2430.09 column/sec. Elapsed time 15.69 sec\n",
      "EvaluatorHoldout: Processed 35572 (100.0%) in 8.18 sec. Users per second: 4351\n"
     ]
    },
    {
     "name": "stderr",
     "output_type": "stream",
     "text": [
      "[I 2024-12-09 08:08:51,037] Trial 88 finished with value: 0.036907259633489585 and parameters: {'topK': 2, 'alpha': 0.3514064415448763}. Best is trial 58 with value: 0.05416216428473075.\n"
     ]
    },
    {
     "name": "stdout",
     "output_type": "stream",
     "text": [
      "P3alphaRecommender: Similarity column 38121 (100.0%), 4958.13 column/sec. Elapsed time 7.69 sec\n",
      "EvaluatorHoldout: Processed 35572 (100.0%) in 8.45 sec. Users per second: 4207\n"
     ]
    },
    {
     "name": "stderr",
     "output_type": "stream",
     "text": [
      "[I 2024-12-09 08:09:07,495] Trial 89 finished with value: 0.054091457031478336 and parameters: {'topK': 14, 'alpha': 0.3568743908466743}. Best is trial 58 with value: 0.05416216428473075.\n"
     ]
    },
    {
     "name": "stdout",
     "output_type": "stream",
     "text": [
      "P3alphaRecommender: Similarity column 38121 (100.0%), 4928.52 column/sec. Elapsed time 7.73 sec\n",
      "EvaluatorHoldout: Processed 35572 (100.0%) in 8.65 sec. Users per second: 4113\n"
     ]
    },
    {
     "name": "stderr",
     "output_type": "stream",
     "text": [
      "[I 2024-12-09 08:09:24,297] Trial 90 finished with value: 0.052874761940457815 and parameters: {'topK': 26, 'alpha': 0.3566817107248985}. Best is trial 58 with value: 0.05416216428473075.\n"
     ]
    },
    {
     "name": "stdout",
     "output_type": "stream",
     "text": [
      "P3alphaRecommender: Similarity column 38121 (100.0%), 5041.72 column/sec. Elapsed time 7.56 sec\n",
      "EvaluatorHoldout: Processed 35572 (100.0%) in 8.42 sec. Users per second: 4223\n"
     ]
    },
    {
     "name": "stderr",
     "output_type": "stream",
     "text": [
      "[I 2024-12-09 08:09:40,590] Trial 91 finished with value: 0.05417591685273959 and parameters: {'topK': 13, 'alpha': 0.3546632421287392}. Best is trial 91 with value: 0.05417591685273959.\n"
     ]
    },
    {
     "name": "stdout",
     "output_type": "stream",
     "text": [
      "P3alphaRecommender: Similarity column 38121 (100.0%), 5037.51 column/sec. Elapsed time 7.57 sec\n",
      "EvaluatorHoldout: Processed 35572 (100.0%) in 8.40 sec. Users per second: 4236\n"
     ]
    },
    {
     "name": "stderr",
     "output_type": "stream",
     "text": [
      "[I 2024-12-09 08:09:56,860] Trial 92 finished with value: 0.054173079995143286 and parameters: {'topK': 12, 'alpha': 0.3537635421384019}. Best is trial 91 with value: 0.05417591685273959.\n"
     ]
    },
    {
     "name": "stdout",
     "output_type": "stream",
     "text": [
      "P3alphaRecommender: Similarity column 38121 (100.0%), 4934.05 column/sec. Elapsed time 7.73 sec\n",
      "EvaluatorHoldout: Processed 35572 (100.0%) in 8.64 sec. Users per second: 4119\n"
     ]
    },
    {
     "name": "stderr",
     "output_type": "stream",
     "text": [
      "[I 2024-12-09 08:10:13,640] Trial 93 finished with value: 0.052881795517785456 and parameters: {'topK': 26, 'alpha': 0.35365675579160816}. Best is trial 91 with value: 0.05417591685273959.\n"
     ]
    },
    {
     "name": "stdout",
     "output_type": "stream",
     "text": [
      "P3alphaRecommender: Similarity column 38121 (100.0%), 5060.28 column/sec. Elapsed time 7.53 sec\n",
      "EvaluatorHoldout: Processed 35572 (100.0%) in 8.36 sec. Users per second: 4255\n"
     ]
    },
    {
     "name": "stderr",
     "output_type": "stream",
     "text": [
      "[I 2024-12-09 08:10:29,830] Trial 94 finished with value: 0.05413185352667033 and parameters: {'topK': 11, 'alpha': 0.3559487693281716}. Best is trial 91 with value: 0.05417591685273959.\n"
     ]
    },
    {
     "name": "stdout",
     "output_type": "stream",
     "text": [
      "P3alphaRecommender: Similarity column 38121 (100.0%), 4773.97 column/sec. Elapsed time 7.99 sec\n",
      "EvaluatorHoldout: Processed 35572 (100.0%) in 8.90 sec. Users per second: 3997\n"
     ]
    },
    {
     "name": "stderr",
     "output_type": "stream",
     "text": [
      "[I 2024-12-09 08:10:47,286] Trial 95 finished with value: 0.051177493355749906 and parameters: {'topK': 43, 'alpha': 0.3558955369190914}. Best is trial 91 with value: 0.05417591685273959.\n"
     ]
    },
    {
     "name": "stdout",
     "output_type": "stream",
     "text": [
      "P3alphaRecommender: Similarity column 38121 (100.0%), 4842.28 column/sec. Elapsed time 7.87 sec\n",
      "EvaluatorHoldout: Processed 35572 (100.0%) in 8.72 sec. Users per second: 4079\n"
     ]
    },
    {
     "name": "stderr",
     "output_type": "stream",
     "text": [
      "[I 2024-12-09 08:11:04,350] Trial 96 finished with value: 0.05216725545684965 and parameters: {'topK': 32, 'alpha': 0.35427940697072025}. Best is trial 91 with value: 0.05417591685273959.\n"
     ]
    },
    {
     "name": "stdout",
     "output_type": "stream",
     "text": [
      "P3alphaRecommender: Similarity column 38121 (100.0%), 4990.00 column/sec. Elapsed time 7.64 sec\n",
      "EvaluatorHoldout: Processed 35572 (100.0%) in 8.41 sec. Users per second: 4228\n"
     ]
    },
    {
     "name": "stderr",
     "output_type": "stream",
     "text": [
      "[I 2024-12-09 08:11:20,717] Trial 97 finished with value: 0.05419182802061015 and parameters: {'topK': 13, 'alpha': 0.35618953170199746}. Best is trial 97 with value: 0.05419182802061015.\n"
     ]
    },
    {
     "name": "stdout",
     "output_type": "stream",
     "text": [
      "P3alphaRecommender: Similarity column 38121 (100.0%), 3503.35 column/sec. Elapsed time 10.88 sec\n",
      "EvaluatorHoldout: Processed 35572 (100.0%) in 11.67 sec. Users per second: 3049\n"
     ]
    },
    {
     "name": "stderr",
     "output_type": "stream",
     "text": [
      "[I 2024-12-09 08:11:45,985] Trial 98 finished with value: 0.041969871300593174 and parameters: {'topK': 242, 'alpha': 0.3575036070386931}. Best is trial 97 with value: 0.05419182802061015.\n"
     ]
    },
    {
     "name": "stdout",
     "output_type": "stream",
     "text": [
      "P3alphaRecommender: Similarity column 38121 (100.0%), 4935.01 column/sec. Elapsed time 7.72 sec\n",
      "EvaluatorHoldout: Processed 35572 (100.0%) in 8.57 sec. Users per second: 4150\n"
     ]
    },
    {
     "name": "stderr",
     "output_type": "stream",
     "text": [
      "[I 2024-12-09 08:12:02,659] Trial 99 finished with value: 0.05350496489123603 and parameters: {'topK': 21, 'alpha': 0.3555917006475949}. Best is trial 97 with value: 0.05419182802061015.\n"
     ]
    },
    {
     "name": "stdout",
     "output_type": "stream",
     "text": [
      "P3alphaRecommender: Similarity column 38121 (100.0%), 4697.85 column/sec. Elapsed time 8.11 sec\n",
      "EvaluatorHoldout: Processed 35572 (100.0%) in 9.05 sec. Users per second: 3931\n"
     ]
    },
    {
     "name": "stderr",
     "output_type": "stream",
     "text": [
      "[I 2024-12-09 08:12:20,459] Trial 100 finished with value: 0.05058553722474608 and parameters: {'topK': 50, 'alpha': 0.36048300519110565}. Best is trial 97 with value: 0.05419182802061015.\n"
     ]
    },
    {
     "name": "stdout",
     "output_type": "stream",
     "text": [
      "P3alphaRecommender: Similarity column 38121 (100.0%), 4967.19 column/sec. Elapsed time 7.67 sec\n",
      "EvaluatorHoldout: Processed 35572 (100.0%) in 8.44 sec. Users per second: 4212\n"
     ]
    },
    {
     "name": "stderr",
     "output_type": "stream",
     "text": [
      "[I 2024-12-09 08:12:36,885] Trial 101 finished with value: 0.054204765117559894 and parameters: {'topK': 13, 'alpha': 0.3589688694997559}. Best is trial 101 with value: 0.054204765117559894.\n"
     ]
    },
    {
     "name": "stdout",
     "output_type": "stream",
     "text": [
      "P3alphaRecommender: Similarity column 38121 (100.0%), 2401.42 column/sec. Elapsed time 15.87 sec\n",
      "EvaluatorHoldout: Processed 35572 (100.0%) in 8.17 sec. Users per second: 4353\n"
     ]
    },
    {
     "name": "stderr",
     "output_type": "stream",
     "text": [
      "[I 2024-12-09 08:13:01,148] Trial 102 finished with value: 0.036954148661599795 and parameters: {'topK': 2, 'alpha': 0.35915779612024124}. Best is trial 101 with value: 0.054204765117559894.\n"
     ]
    },
    {
     "name": "stdout",
     "output_type": "stream",
     "text": [
      "P3alphaRecommender: Similarity column 38121 (100.0%), 4966.64 column/sec. Elapsed time 7.68 sec\n",
      "EvaluatorHoldout: Processed 35572 (100.0%) in 8.48 sec. Users per second: 4195\n"
     ]
    },
    {
     "name": "stderr",
     "output_type": "stream",
     "text": [
      "[I 2024-12-09 08:13:17,641] Trial 103 finished with value: 0.0539228687089346 and parameters: {'topK': 17, 'alpha': 0.35667278018075466}. Best is trial 101 with value: 0.054204765117559894.\n"
     ]
    },
    {
     "name": "stdout",
     "output_type": "stream",
     "text": [
      "P3alphaRecommender: Similarity column 38121 (100.0%), 4834.72 column/sec. Elapsed time 7.88 sec\n",
      "EvaluatorHoldout: Processed 35572 (100.0%) in 8.74 sec. Users per second: 4072\n"
     ]
    },
    {
     "name": "stderr",
     "output_type": "stream",
     "text": [
      "[I 2024-12-09 08:13:34,730] Trial 104 finished with value: 0.05215187083116762 and parameters: {'topK': 32, 'alpha': 0.3509901579961926}. Best is trial 101 with value: 0.054204765117559894.\n"
     ]
    },
    {
     "name": "stdout",
     "output_type": "stream",
     "text": [
      "P3alphaRecommender: Similarity column 38121 (100.0%), 4978.45 column/sec. Elapsed time 7.66 sec\n",
      "EvaluatorHoldout: Processed 35572 (100.0%) in 8.38 sec. Users per second: 4247\n"
     ]
    },
    {
     "name": "stderr",
     "output_type": "stream",
     "text": [
      "[I 2024-12-09 08:13:51,060] Trial 105 finished with value: 0.05410963277698139 and parameters: {'topK': 11, 'alpha': 0.3528290932933131}. Best is trial 101 with value: 0.054204765117559894.\n"
     ]
    },
    {
     "name": "stdout",
     "output_type": "stream",
     "text": [
      "P3alphaRecommender: Similarity column 38121 (100.0%), 4885.04 column/sec. Elapsed time 7.80 sec\n",
      "EvaluatorHoldout: Processed 35572 (100.0%) in 8.57 sec. Users per second: 4150\n"
     ]
    },
    {
     "name": "stderr",
     "output_type": "stream",
     "text": [
      "[I 2024-12-09 08:14:07,807] Trial 106 finished with value: 0.05350579598007171 and parameters: {'topK': 21, 'alpha': 0.3526649394735}. Best is trial 101 with value: 0.054204765117559894.\n"
     ]
    },
    {
     "name": "stdout",
     "output_type": "stream",
     "text": [
      "P3alphaRecommender: Similarity column 38121 (100.0%), 4803.09 column/sec. Elapsed time 7.94 sec\n",
      "EvaluatorHoldout: Processed 35572 (100.0%) in 8.92 sec. Users per second: 3986\n"
     ]
    },
    {
     "name": "stderr",
     "output_type": "stream",
     "text": [
      "[I 2024-12-09 08:14:25,227] Trial 107 finished with value: 0.05122406556610253 and parameters: {'topK': 42, 'alpha': 0.3547254183850844}. Best is trial 101 with value: 0.054204765117559894.\n"
     ]
    },
    {
     "name": "stdout",
     "output_type": "stream",
     "text": [
      "P3alphaRecommender: Similarity column 38121 (100.0%), 5008.37 column/sec. Elapsed time 7.61 sec\n",
      "EvaluatorHoldout: Processed 35572 (100.0%) in 8.34 sec. Users per second: 4267\n"
     ]
    },
    {
     "name": "stderr",
     "output_type": "stream",
     "text": [
      "[I 2024-12-09 08:14:41,443] Trial 108 finished with value: 0.053318606885384943 and parameters: {'topK': 8, 'alpha': 0.3591154186847083}. Best is trial 101 with value: 0.054204765117559894.\n"
     ]
    },
    {
     "name": "stdout",
     "output_type": "stream",
     "text": [
      "P3alphaRecommender: Similarity column 38121 (100.0%), 3276.26 column/sec. Elapsed time 11.64 sec\n",
      "EvaluatorHoldout: Processed 35572 (100.0%) in 12.43 sec. Users per second: 2863\n"
     ]
    },
    {
     "name": "stderr",
     "output_type": "stream",
     "text": [
      "[I 2024-12-09 08:15:08,945] Trial 109 finished with value: 0.040553238546813225 and parameters: {'topK': 305, 'alpha': 0.35376844743675684}. Best is trial 101 with value: 0.054204765117559894.\n"
     ]
    },
    {
     "name": "stdout",
     "output_type": "stream",
     "text": [
      "P3alphaRecommender: Similarity column 38121 (100.0%), 4935.48 column/sec. Elapsed time 7.72 sec\n",
      "EvaluatorHoldout: Processed 35572 (100.0%) in 8.66 sec. Users per second: 4109\n"
     ]
    },
    {
     "name": "stderr",
     "output_type": "stream",
     "text": [
      "[I 2024-12-09 08:15:25,745] Trial 110 finished with value: 0.05287783306470578 and parameters: {'topK': 26, 'alpha': 0.36302234091824015}. Best is trial 101 with value: 0.054204765117559894.\n"
     ]
    },
    {
     "name": "stdout",
     "output_type": "stream",
     "text": [
      "P3alphaRecommender: Similarity column 38121 (100.0%), 4981.89 column/sec. Elapsed time 7.65 sec\n",
      "EvaluatorHoldout: Processed 35572 (100.0%) in 8.47 sec. Users per second: 4202\n"
     ]
    },
    {
     "name": "stderr",
     "output_type": "stream",
     "text": [
      "[I 2024-12-09 08:15:42,179] Trial 111 finished with value: 0.05418210818567673 and parameters: {'topK': 13, 'alpha': 0.3520867014936591}. Best is trial 101 with value: 0.054204765117559894.\n"
     ]
    },
    {
     "name": "stdout",
     "output_type": "stream",
     "text": [
      "P3alphaRecommender: Similarity column 38121 (100.0%), 4985.54 column/sec. Elapsed time 7.65 sec\n",
      "EvaluatorHoldout: Processed 35572 (100.0%) in 8.47 sec. Users per second: 4201\n"
     ]
    },
    {
     "name": "stderr",
     "output_type": "stream",
     "text": [
      "[I 2024-12-09 08:15:58,616] Trial 112 finished with value: 0.05404549949219732 and parameters: {'topK': 15, 'alpha': 0.35601048416936854}. Best is trial 101 with value: 0.054204765117559894.\n"
     ]
    },
    {
     "name": "stdout",
     "output_type": "stream",
     "text": [
      "P3alphaRecommender: Similarity column 38121 (100.0%), 4859.34 column/sec. Elapsed time 7.84 sec\n",
      "EvaluatorHoldout: Processed 35572 (100.0%) in 8.76 sec. Users per second: 4060\n"
     ]
    },
    {
     "name": "stderr",
     "output_type": "stream",
     "text": [
      "[I 2024-12-09 08:16:15,705] Trial 113 finished with value: 0.05205345652635507 and parameters: {'topK': 33, 'alpha': 0.3533320962050622}. Best is trial 101 with value: 0.054204765117559894.\n"
     ]
    },
    {
     "name": "stdout",
     "output_type": "stream",
     "text": [
      "P3alphaRecommender: Similarity column 38121 (100.0%), 4945.75 column/sec. Elapsed time 7.71 sec\n",
      "EvaluatorHoldout: Processed 35572 (100.0%) in 8.55 sec. Users per second: 4158\n"
     ]
    },
    {
     "name": "stderr",
     "output_type": "stream",
     "text": [
      "[I 2024-12-09 08:16:32,345] Trial 114 finished with value: 0.05349946631825456 and parameters: {'topK': 21, 'alpha': 0.3550753829853093}. Best is trial 101 with value: 0.054204765117559894.\n"
     ]
    },
    {
     "name": "stdout",
     "output_type": "stream",
     "text": [
      "P3alphaRecommender: Similarity column 38121 (100.0%), 2420.37 column/sec. Elapsed time 15.75 sec\n",
      "EvaluatorHoldout: Processed 35572 (100.0%) in 8.18 sec. Users per second: 4350\n"
     ]
    },
    {
     "name": "stderr",
     "output_type": "stream",
     "text": [
      "[I 2024-12-09 08:16:56,492] Trial 115 finished with value: 0.036906383922434505 and parameters: {'topK': 2, 'alpha': 0.3522039679342592}. Best is trial 101 with value: 0.054204765117559894.\n"
     ]
    },
    {
     "name": "stdout",
     "output_type": "stream",
     "text": [
      "P3alphaRecommender: Similarity column 38121 (100.0%), 5031.07 column/sec. Elapsed time 7.58 sec\n",
      "EvaluatorHoldout: Processed 35572 (100.0%) in 8.41 sec. Users per second: 4229\n"
     ]
    },
    {
     "name": "stderr",
     "output_type": "stream",
     "text": [
      "[I 2024-12-09 08:17:12,794] Trial 116 finished with value: 0.054184966238826966 and parameters: {'topK': 12, 'alpha': 0.3568161543406514}. Best is trial 101 with value: 0.054204765117559894.\n"
     ]
    },
    {
     "name": "stdout",
     "output_type": "stream",
     "text": [
      "P3alphaRecommender: Similarity column 38121 (100.0%), 4815.49 column/sec. Elapsed time 7.92 sec\n",
      "EvaluatorHoldout: Processed 35572 (100.0%) in 8.91 sec. Users per second: 3992\n"
     ]
    },
    {
     "name": "stderr",
     "output_type": "stream",
     "text": [
      "[I 2024-12-09 08:17:30,169] Trial 117 finished with value: 0.0513993717637718 and parameters: {'topK': 40, 'alpha': 0.36926556237657854}. Best is trial 101 with value: 0.054204765117559894.\n"
     ]
    },
    {
     "name": "stdout",
     "output_type": "stream",
     "text": [
      "P3alphaRecommender: Similarity column 38121 (100.0%), 4921.73 column/sec. Elapsed time 7.75 sec\n",
      "EvaluatorHoldout: Processed 35572 (100.0%) in 8.66 sec. Users per second: 4106\n"
     ]
    },
    {
     "name": "stderr",
     "output_type": "stream",
     "text": [
      "[I 2024-12-09 08:17:46,995] Trial 118 finished with value: 0.05288051709120064 and parameters: {'topK': 26, 'alpha': 0.35400328010569193}. Best is trial 101 with value: 0.054204765117559894.\n"
     ]
    },
    {
     "name": "stdout",
     "output_type": "stream",
     "text": [
      "P3alphaRecommender: Similarity column 38121 (100.0%), 5030.06 column/sec. Elapsed time 7.58 sec\n",
      "EvaluatorHoldout: Processed 35572 (100.0%) in 8.38 sec. Users per second: 4245\n"
     ]
    },
    {
     "name": "stderr",
     "output_type": "stream",
     "text": [
      "[I 2024-12-09 08:18:03,240] Trial 119 finished with value: 0.05388121386715584 and parameters: {'topK': 10, 'alpha': 0.35111344998248}. Best is trial 101 with value: 0.054204765117559894.\n"
     ]
    },
    {
     "name": "stdout",
     "output_type": "stream",
     "text": [
      "P3alphaRecommender: Similarity column 38121 (100.0%), 4653.47 column/sec. Elapsed time 8.19 sec\n",
      "EvaluatorHoldout: Processed 35572 (100.0%) in 9.12 sec. Users per second: 3902\n"
     ]
    },
    {
     "name": "stderr",
     "output_type": "stream",
     "text": [
      "[I 2024-12-09 08:18:21,220] Trial 120 finished with value: 0.050338152756134215 and parameters: {'topK': 54, 'alpha': 0.35278511828991616}. Best is trial 101 with value: 0.054204765117559894.\n"
     ]
    },
    {
     "name": "stdout",
     "output_type": "stream",
     "text": [
      "P3alphaRecommender: Similarity column 38121 (100.0%), 5017.36 column/sec. Elapsed time 7.60 sec\n",
      "EvaluatorHoldout: Processed 35572 (100.0%) in 8.49 sec. Users per second: 4190\n"
     ]
    },
    {
     "name": "stderr",
     "output_type": "stream",
     "text": [
      "[I 2024-12-09 08:18:37,636] Trial 121 finished with value: 0.054042968296803794 and parameters: {'topK': 15, 'alpha': 0.3572280426993306}. Best is trial 101 with value: 0.054204765117559894.\n"
     ]
    },
    {
     "name": "stdout",
     "output_type": "stream",
     "text": [
      "P3alphaRecommender: Similarity column 38121 (100.0%), 5036.95 column/sec. Elapsed time 7.57 sec\n",
      "EvaluatorHoldout: Processed 35572 (100.0%) in 8.39 sec. Users per second: 4237\n"
     ]
    },
    {
     "name": "stderr",
     "output_type": "stream",
     "text": [
      "[I 2024-12-09 08:18:53,899] Trial 122 finished with value: 0.05412626236258373 and parameters: {'topK': 11, 'alpha': 0.3553763933535384}. Best is trial 101 with value: 0.054204765117559894.\n"
     ]
    },
    {
     "name": "stdout",
     "output_type": "stream",
     "text": [
      "P3alphaRecommender: Similarity column 38121 (100.0%), 2430.51 column/sec. Elapsed time 15.68 sec\n",
      "EvaluatorHoldout: Processed 35572 (100.0%) in 8.18 sec. Users per second: 4349\n"
     ]
    },
    {
     "name": "stderr",
     "output_type": "stream",
     "text": [
      "[I 2024-12-09 08:19:17,986] Trial 123 finished with value: 0.03690399663369842 and parameters: {'topK': 2, 'alpha': 0.3555239941623872}. Best is trial 101 with value: 0.054204765117559894.\n"
     ]
    },
    {
     "name": "stdout",
     "output_type": "stream",
     "text": [
      "P3alphaRecommender: Similarity column 38121 (100.0%), 4803.33 column/sec. Elapsed time 7.94 sec\n",
      "EvaluatorHoldout: Processed 35572 (100.0%) in 8.78 sec. Users per second: 4050\n"
     ]
    },
    {
     "name": "stderr",
     "output_type": "stream",
     "text": [
      "[I 2024-12-09 08:19:35,184] Trial 124 finished with value: 0.05203605497635763 and parameters: {'topK': 33, 'alpha': 0.3579611679462519}. Best is trial 101 with value: 0.054204765117559894.\n"
     ]
    },
    {
     "name": "stdout",
     "output_type": "stream",
     "text": [
      "P3alphaRecommender: Similarity column 38121 (100.0%), 4990.97 column/sec. Elapsed time 7.64 sec\n",
      "EvaluatorHoldout: Processed 35572 (100.0%) in 8.35 sec. Users per second: 4258\n"
     ]
    },
    {
     "name": "stderr",
     "output_type": "stream",
     "text": [
      "[I 2024-12-09 08:19:51,457] Trial 125 finished with value: 0.05360957164454098 and parameters: {'topK': 9, 'alpha': 0.35209557375459255}. Best is trial 101 with value: 0.054204765117559894.\n"
     ]
    },
    {
     "name": "stdout",
     "output_type": "stream",
     "text": [
      "P3alphaRecommender: Similarity column 38121 (100.0%), 4889.08 column/sec. Elapsed time 7.80 sec\n",
      "EvaluatorHoldout: Processed 35572 (100.0%) in 8.57 sec. Users per second: 4153\n"
     ]
    },
    {
     "name": "stderr",
     "output_type": "stream",
     "text": [
      "[I 2024-12-09 08:20:08,194] Trial 126 finished with value: 0.053502799598041294 and parameters: {'topK': 21, 'alpha': 0.35619196652032764}. Best is trial 101 with value: 0.054204765117559894.\n"
     ]
    },
    {
     "name": "stdout",
     "output_type": "stream",
     "text": [
      "P3alphaRecommender: Similarity column 38121 (100.0%), 4776.86 column/sec. Elapsed time 7.98 sec\n",
      "EvaluatorHoldout: Processed 35572 (100.0%) in 8.97 sec. Users per second: 3967\n"
     ]
    },
    {
     "name": "stderr",
     "output_type": "stream",
     "text": [
      "[I 2024-12-09 08:20:25,734] Trial 127 finished with value: 0.05104606864860553 and parameters: {'topK': 45, 'alpha': 0.3666743235214037}. Best is trial 101 with value: 0.054204765117559894.\n"
     ]
    },
    {
     "name": "stdout",
     "output_type": "stream",
     "text": [
      "P3alphaRecommender: Similarity column 38121 (100.0%), 3012.81 column/sec. Elapsed time 12.65 sec\n",
      "EvaluatorHoldout: Processed 35572 (100.0%) in 13.20 sec. Users per second: 2696\n"
     ]
    },
    {
     "name": "stderr",
     "output_type": "stream",
     "text": [
      "[I 2024-12-09 08:20:55,884] Trial 128 finished with value: 0.03924082321747465 and parameters: {'topK': 375, 'alpha': 0.35977398492507706}. Best is trial 101 with value: 0.054204765117559894.\n"
     ]
    },
    {
     "name": "stdout",
     "output_type": "stream",
     "text": [
      "P3alphaRecommender: Similarity column 38121 (100.0%), 4986.03 column/sec. Elapsed time 7.65 sec\n",
      "EvaluatorHoldout: Processed 35572 (100.0%) in 8.51 sec. Users per second: 4178\n"
     ]
    },
    {
     "name": "stderr",
     "output_type": "stream",
     "text": [
      "[I 2024-12-09 08:21:12,397] Trial 129 finished with value: 0.053911234580790335 and parameters: {'topK': 18, 'alpha': 0.35522529610930936}. Best is trial 101 with value: 0.054204765117559894.\n"
     ]
    },
    {
     "name": "stdout",
     "output_type": "stream",
     "text": [
      "P3alphaRecommender: Similarity column 38121 (100.0%), 5074.14 column/sec. Elapsed time 7.51 sec\n",
      "EvaluatorHoldout: Processed 35572 (100.0%) in 8.36 sec. Users per second: 4254\n"
     ]
    },
    {
     "name": "stderr",
     "output_type": "stream",
     "text": [
      "[I 2024-12-09 08:21:28,554] Trial 130 finished with value: 0.05360504695149721 and parameters: {'topK': 9, 'alpha': 0.35410794971353604}. Best is trial 101 with value: 0.054204765117559894.\n"
     ]
    },
    {
     "name": "stdout",
     "output_type": "stream",
     "text": [
      "P3alphaRecommender: Similarity column 38121 (100.0%), 5021.85 column/sec. Elapsed time 7.59 sec\n",
      "EvaluatorHoldout: Processed 35572 (100.0%) in 8.44 sec. Users per second: 4212\n"
     ]
    },
    {
     "name": "stderr",
     "output_type": "stream",
     "text": [
      "[I 2024-12-09 08:21:44,915] Trial 131 finished with value: 0.054044066003400205 and parameters: {'topK': 15, 'alpha': 0.35726529349991626}. Best is trial 101 with value: 0.054204765117559894.\n"
     ]
    },
    {
     "name": "stdout",
     "output_type": "stream",
     "text": [
      "P3alphaRecommender: Similarity column 38121 (100.0%), 3925.37 column/sec. Elapsed time 9.71 sec\n",
      "EvaluatorHoldout: Processed 35572 (100.0%) in 10.64 sec. Users per second: 3342\n"
     ]
    },
    {
     "name": "stderr",
     "output_type": "stream",
     "text": [
      "[I 2024-12-09 08:22:07,117] Trial 132 finished with value: 0.044496829814423065 and parameters: {'topK': 164, 'alpha': 0.35480873465131146}. Best is trial 101 with value: 0.054204765117559894.\n"
     ]
    },
    {
     "name": "stdout",
     "output_type": "stream",
     "text": [
      "P3alphaRecommender: Similarity column 38121 (100.0%), 4849.11 column/sec. Elapsed time 7.86 sec\n",
      "EvaluatorHoldout: Processed 35572 (100.0%) in 8.64 sec. Users per second: 4117\n"
     ]
    },
    {
     "name": "stderr",
     "output_type": "stream",
     "text": [
      "[I 2024-12-09 08:22:24,027] Trial 133 finished with value: 0.0530403047965299 and parameters: {'topK': 25, 'alpha': 0.3583918279869537}. Best is trial 101 with value: 0.054204765117559894.\n"
     ]
    },
    {
     "name": "stdout",
     "output_type": "stream",
     "text": [
      "P3alphaRecommender: Similarity column 38121 (100.0%), 4844.26 column/sec. Elapsed time 7.87 sec\n",
      "EvaluatorHoldout: Processed 35572 (100.0%) in 8.85 sec. Users per second: 4019\n"
     ]
    },
    {
     "name": "stderr",
     "output_type": "stream",
     "text": [
      "[I 2024-12-09 08:22:41,263] Trial 134 finished with value: 0.05187271422681116 and parameters: {'topK': 36, 'alpha': 0.3530344239193928}. Best is trial 101 with value: 0.054204765117559894.\n"
     ]
    },
    {
     "name": "stdout",
     "output_type": "stream",
     "text": [
      "P3alphaRecommender: Similarity column 38121 (100.0%), 5077.69 column/sec. Elapsed time 7.51 sec\n",
      "EvaluatorHoldout: Processed 35572 (100.0%) in 8.27 sec. Users per second: 4301\n"
     ]
    },
    {
     "name": "stderr",
     "output_type": "stream",
     "text": [
      "[I 2024-12-09 08:22:57,306] Trial 135 finished with value: 0.052748877081847674 and parameters: {'topK': 7, 'alpha': 0.3564921783785127}. Best is trial 101 with value: 0.054204765117559894.\n"
     ]
    },
    {
     "name": "stdout",
     "output_type": "stream",
     "text": [
      "P3alphaRecommender: Similarity column 38121 (100.0%), 4914.07 column/sec. Elapsed time 7.76 sec\n",
      "EvaluatorHoldout: Processed 35572 (100.0%) in 8.63 sec. Users per second: 4120\n"
     ]
    },
    {
     "name": "stderr",
     "output_type": "stream",
     "text": [
      "[I 2024-12-09 08:23:14,126] Trial 136 finished with value: 0.05276364368979184 and parameters: {'topK': 27, 'alpha': 0.3511313698464822}. Best is trial 101 with value: 0.054204765117559894.\n"
     ]
    },
    {
     "name": "stdout",
     "output_type": "stream",
     "text": [
      "P3alphaRecommender: Similarity column 38121 (100.0%), 5023.97 column/sec. Elapsed time 7.59 sec\n",
      "EvaluatorHoldout: Processed 35572 (100.0%) in 8.43 sec. Users per second: 4221\n"
     ]
    },
    {
     "name": "stderr",
     "output_type": "stream",
     "text": [
      "[I 2024-12-09 08:23:30,464] Trial 137 finished with value: 0.054037616977146256 and parameters: {'topK': 15, 'alpha': 0.3539587323074897}. Best is trial 101 with value: 0.054204765117559894.\n"
     ]
    },
    {
     "name": "stdout",
     "output_type": "stream",
     "text": [
      "P3alphaRecommender: Similarity column 38121 (100.0%), 1705.29 column/sec. Elapsed time 22.35 sec\n",
      "EvaluatorHoldout: Processed 35572 (100.0%) in 8.19 sec. Users per second: 4343\n"
     ]
    },
    {
     "name": "stderr",
     "output_type": "stream",
     "text": [
      "[I 2024-12-09 08:24:01,238] Trial 138 finished with value: 0.04386420833935559 and parameters: {'topK': 3, 'alpha': 0.357143118273851}. Best is trial 101 with value: 0.054204765117559894.\n"
     ]
    },
    {
     "name": "stdout",
     "output_type": "stream",
     "text": [
      "P3alphaRecommender: Similarity column 38121 (100.0%), 4968.51 column/sec. Elapsed time 7.67 sec\n",
      "EvaluatorHoldout: Processed 35572 (100.0%) in 8.54 sec. Users per second: 4164\n"
     ]
    },
    {
     "name": "stderr",
     "output_type": "stream",
     "text": [
      "[I 2024-12-09 08:24:17,830] Trial 139 finished with value: 0.05350499054901216 and parameters: {'topK': 21, 'alpha': 0.3519841929653298}. Best is trial 101 with value: 0.054204765117559894.\n"
     ]
    },
    {
     "name": "stdout",
     "output_type": "stream",
     "text": [
      "P3alphaRecommender: Similarity column 38121 (100.0%), 5010.01 column/sec. Elapsed time 7.61 sec\n",
      "EvaluatorHoldout: Processed 35572 (100.0%) in 8.38 sec. Users per second: 4246\n"
     ]
    },
    {
     "name": "stderr",
     "output_type": "stream",
     "text": [
      "[I 2024-12-09 08:24:34,117] Trial 140 finished with value: 0.054122781829473186 and parameters: {'topK': 11, 'alpha': 0.3627346572336892}. Best is trial 101 with value: 0.054204765117559894.\n"
     ]
    },
    {
     "name": "stdout",
     "output_type": "stream",
     "text": [
      "P3alphaRecommender: Similarity column 38121 (100.0%), 4977.10 column/sec. Elapsed time 7.66 sec\n",
      "EvaluatorHoldout: Processed 35572 (100.0%) in 8.40 sec. Users per second: 4233\n"
     ]
    },
    {
     "name": "stderr",
     "output_type": "stream",
     "text": [
      "[I 2024-12-09 08:24:50,475] Trial 141 finished with value: 0.054104230141771584 and parameters: {'topK': 11, 'alpha': 0.3638590172805231}. Best is trial 101 with value: 0.054204765117559894.\n"
     ]
    },
    {
     "name": "stdout",
     "output_type": "stream",
     "text": [
      "P3alphaRecommender: Similarity column 38121 (100.0%), 4824.34 column/sec. Elapsed time 7.90 sec\n",
      "EvaluatorHoldout: Processed 35572 (100.0%) in 8.70 sec. Users per second: 4087\n"
     ]
    },
    {
     "name": "stderr",
     "output_type": "stream",
     "text": [
      "[I 2024-12-09 08:25:07,532] Trial 142 finished with value: 0.05248755040079522 and parameters: {'topK': 30, 'alpha': 0.36370134455790526}. Best is trial 101 with value: 0.054204765117559894.\n"
     ]
    },
    {
     "name": "stdout",
     "output_type": "stream",
     "text": [
      "P3alphaRecommender: Similarity column 38121 (100.0%), 4988.90 column/sec. Elapsed time 7.64 sec\n",
      "EvaluatorHoldout: Processed 35572 (100.0%) in 8.34 sec. Users per second: 4268\n"
     ]
    },
    {
     "name": "stderr",
     "output_type": "stream",
     "text": [
      "[I 2024-12-09 08:25:23,780] Trial 143 finished with value: 0.05328896211394892 and parameters: {'topK': 8, 'alpha': 0.3623892718936216}. Best is trial 101 with value: 0.054204765117559894.\n"
     ]
    },
    {
     "name": "stdout",
     "output_type": "stream",
     "text": [
      "P3alphaRecommender: Similarity column 38121 (100.0%), 4989.48 column/sec. Elapsed time 7.64 sec\n",
      "EvaluatorHoldout: Processed 35572 (100.0%) in 8.49 sec. Users per second: 4192\n"
     ]
    },
    {
     "name": "stderr",
     "output_type": "stream",
     "text": [
      "[I 2024-12-09 08:25:40,249] Trial 144 finished with value: 0.053942666472111975 and parameters: {'topK': 17, 'alpha': 0.36132677279766073}. Best is trial 101 with value: 0.054204765117559894.\n"
     ]
    },
    {
     "name": "stdout",
     "output_type": "stream",
     "text": [
      "P3alphaRecommender: Similarity column 38121 (100.0%), 4853.14 column/sec. Elapsed time 7.85 sec\n",
      "EvaluatorHoldout: Processed 35572 (100.0%) in 8.79 sec. Users per second: 4049\n"
     ]
    },
    {
     "name": "stderr",
     "output_type": "stream",
     "text": [
      "[I 2024-12-09 08:25:57,386] Trial 145 finished with value: 0.05191845423277276 and parameters: {'topK': 35, 'alpha': 0.3598853700897935}. Best is trial 101 with value: 0.054204765117559894.\n"
     ]
    },
    {
     "name": "stdout",
     "output_type": "stream",
     "text": [
      "P3alphaRecommender: Similarity column 38121 (100.0%), 5067.54 column/sec. Elapsed time 7.52 sec\n",
      "EvaluatorHoldout: Processed 35572 (100.0%) in 8.35 sec. Users per second: 4262\n"
     ]
    },
    {
     "name": "stderr",
     "output_type": "stream",
     "text": [
      "[I 2024-12-09 08:26:13,543] Trial 146 finished with value: 0.053908020665440225 and parameters: {'topK': 10, 'alpha': 0.3657220816953446}. Best is trial 101 with value: 0.054204765117559894.\n"
     ]
    },
    {
     "name": "stdout",
     "output_type": "stream",
     "text": [
      "P3alphaRecommender: Similarity column 38121 (100.0%), 4931.82 column/sec. Elapsed time 7.73 sec\n",
      "EvaluatorHoldout: Processed 35572 (100.0%) in 8.67 sec. Users per second: 4102\n"
     ]
    },
    {
     "name": "stderr",
     "output_type": "stream",
     "text": [
      "[I 2024-12-09 08:26:30,344] Trial 147 finished with value: 0.05317870172545025 and parameters: {'topK': 24, 'alpha': 0.36680199316268997}. Best is trial 101 with value: 0.054204765117559894.\n"
     ]
    },
    {
     "name": "stdout",
     "output_type": "stream",
     "text": [
      "P3alphaRecommender: Similarity column 38121 (100.0%), 2428.22 column/sec. Elapsed time 15.70 sec\n",
      "EvaluatorHoldout: Processed 35572 (100.0%) in 8.19 sec. Users per second: 4342\n"
     ]
    },
    {
     "name": "stderr",
     "output_type": "stream",
     "text": [
      "[I 2024-12-09 08:26:54,455] Trial 148 finished with value: 0.036961133154486105 and parameters: {'topK': 2, 'alpha': 0.3645173330692301}. Best is trial 101 with value: 0.054204765117559894.\n"
     ]
    },
    {
     "name": "stdout",
     "output_type": "stream",
     "text": [
      "P3alphaRecommender: Similarity column 38121 (100.0%), 4788.48 column/sec. Elapsed time 7.96 sec\n",
      "EvaluatorHoldout: Processed 35572 (100.0%) in 8.91 sec. Users per second: 3993\n"
     ]
    },
    {
     "name": "stderr",
     "output_type": "stream",
     "text": [
      "[I 2024-12-09 08:27:11,884] Trial 149 finished with value: 0.05121728856653625 and parameters: {'topK': 42, 'alpha': 0.353177096013842}. Best is trial 101 with value: 0.054204765117559894.\n"
     ]
    },
    {
     "name": "stdout",
     "output_type": "stream",
     "text": [
      "P3alphaRecommender: Similarity column 38121 (100.0%), 5024.44 column/sec. Elapsed time 7.59 sec\n",
      "EvaluatorHoldout: Processed 35572 (100.0%) in 8.49 sec. Users per second: 4189\n"
     ]
    },
    {
     "name": "stderr",
     "output_type": "stream",
     "text": [
      "[I 2024-12-09 08:27:28,295] Trial 150 finished with value: 0.053951412427107825 and parameters: {'topK': 16, 'alpha': 0.35542158577029964}. Best is trial 101 with value: 0.054204765117559894.\n"
     ]
    },
    {
     "name": "stdout",
     "output_type": "stream",
     "text": [
      "P3alphaRecommender: Similarity column 38121 (100.0%), 5021.06 column/sec. Elapsed time 7.59 sec\n",
      "EvaluatorHoldout: Processed 35572 (100.0%) in 8.47 sec. Users per second: 4201\n"
     ]
    },
    {
     "name": "stderr",
     "output_type": "stream",
     "text": [
      "[I 2024-12-09 08:27:44,682] Trial 151 finished with value: 0.05403996856810688 and parameters: {'topK': 15, 'alpha': 0.35824608329377255}. Best is trial 101 with value: 0.054204765117559894.\n"
     ]
    },
    {
     "name": "stdout",
     "output_type": "stream",
     "text": [
      "P3alphaRecommender: Similarity column 38121 (100.0%), 4076.35 column/sec. Elapsed time 9.35 sec\n",
      "EvaluatorHoldout: Processed 35572 (100.0%) in 10.34 sec. Users per second: 3440\n"
     ]
    },
    {
     "name": "stderr",
     "output_type": "stream",
     "text": [
      "[I 2024-12-09 08:28:05,978] Trial 152 finished with value: 0.04546629326793315 and parameters: {'topK': 142, 'alpha': 0.35446884546467433}. Best is trial 101 with value: 0.054204765117559894.\n"
     ]
    },
    {
     "name": "stdout",
     "output_type": "stream",
     "text": [
      "P3alphaRecommender: Similarity column 38121 (100.0%), 4811.14 column/sec. Elapsed time 7.92 sec\n",
      "EvaluatorHoldout: Processed 35572 (100.0%) in 8.70 sec. Users per second: 4091\n"
     ]
    },
    {
     "name": "stderr",
     "output_type": "stream",
     "text": [
      "[I 2024-12-09 08:28:23,045] Trial 153 finished with value: 0.052591502323031045 and parameters: {'topK': 29, 'alpha': 0.3563691324959774}. Best is trial 101 with value: 0.054204765117559894.\n"
     ]
    },
    {
     "name": "stdout",
     "output_type": "stream",
     "text": [
      "P3alphaRecommender: Similarity column 38121 (100.0%), 2430.55 column/sec. Elapsed time 15.68 sec\n",
      "EvaluatorHoldout: Processed 35572 (100.0%) in 8.17 sec. Users per second: 4355\n"
     ]
    },
    {
     "name": "stderr",
     "output_type": "stream",
     "text": [
      "[I 2024-12-09 08:28:47,117] Trial 154 finished with value: 0.03690099690500151 and parameters: {'topK': 2, 'alpha': 0.3505232252749483}. Best is trial 101 with value: 0.054204765117559894.\n"
     ]
    },
    {
     "name": "stdout",
     "output_type": "stream",
     "text": [
      "P3alphaRecommender: Similarity column 38121 (100.0%), 4967.23 column/sec. Elapsed time 7.67 sec\n",
      "EvaluatorHoldout: Processed 35572 (100.0%) in 8.38 sec. Users per second: 4243\n"
     ]
    },
    {
     "name": "stderr",
     "output_type": "stream",
     "text": [
      "[I 2024-12-09 08:29:03,473] Trial 155 finished with value: 0.05413050816675644 and parameters: {'topK': 11, 'alpha': 0.35568475827490065}. Best is trial 101 with value: 0.054204765117559894.\n"
     ]
    },
    {
     "name": "stdout",
     "output_type": "stream",
     "text": [
      "P3alphaRecommender: Similarity column 38121 (100.0%), 3686.56 column/sec. Elapsed time 10.34 sec\n",
      "EvaluatorHoldout: Processed 35572 (100.0%) in 11.25 sec. Users per second: 3162\n"
     ]
    },
    {
     "name": "stderr",
     "output_type": "stream",
     "text": [
      "[I 2024-12-09 08:29:27,342] Trial 156 finished with value: 0.04303937888547801 and parameters: {'topK': 206, 'alpha': 0.352543910021562}. Best is trial 101 with value: 0.054204765117559894.\n"
     ]
    },
    {
     "name": "stdout",
     "output_type": "stream",
     "text": [
      "P3alphaRecommender: Similarity column 38121 (100.0%), 4929.63 column/sec. Elapsed time 7.73 sec\n",
      "EvaluatorHoldout: Processed 35572 (100.0%) in 8.61 sec. Users per second: 4131\n"
     ]
    },
    {
     "name": "stderr",
     "output_type": "stream",
     "text": [
      "[I 2024-12-09 08:29:44,072] Trial 157 finished with value: 0.05339209410290413 and parameters: {'topK': 22, 'alpha': 0.3549979728880438}. Best is trial 101 with value: 0.054204765117559894.\n"
     ]
    },
    {
     "name": "stdout",
     "output_type": "stream",
     "text": [
      "P3alphaRecommender: Similarity column 38121 (100.0%), 4987.93 column/sec. Elapsed time 7.64 sec\n",
      "EvaluatorHoldout: Processed 35572 (100.0%) in 8.42 sec. Users per second: 4226\n"
     ]
    },
    {
     "name": "stderr",
     "output_type": "stream",
     "text": [
      "[I 2024-12-09 08:30:00,428] Trial 158 finished with value: 0.05409971548872719 and parameters: {'topK': 11, 'alpha': 0.35156055391166036}. Best is trial 101 with value: 0.054204765117559894.\n"
     ]
    },
    {
     "name": "stdout",
     "output_type": "stream",
     "text": [
      "P3alphaRecommender: Similarity column 38121 (100.0%), 4872.71 column/sec. Elapsed time 7.82 sec\n",
      "EvaluatorHoldout: Processed 35572 (100.0%) in 8.75 sec. Users per second: 4066\n"
     ]
    },
    {
     "name": "stderr",
     "output_type": "stream",
     "text": [
      "[I 2024-12-09 08:30:17,463] Trial 159 finished with value: 0.052286951213633436 and parameters: {'topK': 31, 'alpha': 0.353270966923341}. Best is trial 101 with value: 0.054204765117559894.\n"
     ]
    },
    {
     "name": "stdout",
     "output_type": "stream",
     "text": [
      "P3alphaRecommender: Similarity column 38121 (100.0%), 4929.66 column/sec. Elapsed time 7.73 sec\n",
      "EvaluatorHoldout: Processed 35572 (100.0%) in 8.60 sec. Users per second: 4136\n"
     ]
    },
    {
     "name": "stderr",
     "output_type": "stream",
     "text": [
      "[I 2024-12-09 08:30:34,184] Trial 160 finished with value: 0.05339753466700044 and parameters: {'topK': 22, 'alpha': 0.3561325243407483}. Best is trial 101 with value: 0.054204765117559894.\n"
     ]
    },
    {
     "name": "stdout",
     "output_type": "stream",
     "text": [
      "P3alphaRecommender: Similarity column 38121 (100.0%), 5007.03 column/sec. Elapsed time 7.61 sec\n",
      "EvaluatorHoldout: Processed 35572 (100.0%) in 8.39 sec. Users per second: 4240\n"
     ]
    },
    {
     "name": "stderr",
     "output_type": "stream",
     "text": [
      "[I 2024-12-09 08:30:50,476] Trial 161 finished with value: 0.05388280464927626 and parameters: {'topK': 10, 'alpha': 0.3511459222953078}. Best is trial 101 with value: 0.054204765117559894.\n"
     ]
    },
    {
     "name": "stdout",
     "output_type": "stream",
     "text": [
      "P3alphaRecommender: Similarity column 38121 (100.0%), 5000.00 column/sec. Elapsed time 7.62 sec\n",
      "EvaluatorHoldout: Processed 35572 (100.0%) in 8.37 sec. Users per second: 4251\n"
     ]
    },
    {
     "name": "stderr",
     "output_type": "stream",
     "text": [
      "[I 2024-12-09 08:31:06,754] Trial 162 finished with value: 0.05388368259144231 and parameters: {'topK': 10, 'alpha': 0.35156135403111255}. Best is trial 101 with value: 0.054204765117559894.\n"
     ]
    },
    {
     "name": "stdout",
     "output_type": "stream",
     "text": [
      "P3alphaRecommender: Similarity column 38121 (100.0%), 2419.96 column/sec. Elapsed time 15.75 sec\n",
      "EvaluatorHoldout: Processed 35572 (100.0%) in 8.21 sec. Users per second: 4334\n"
     ]
    },
    {
     "name": "stderr",
     "output_type": "stream",
     "text": [
      "[I 2024-12-09 08:31:30,930] Trial 163 finished with value: 0.03691257971759355 and parameters: {'topK': 2, 'alpha': 0.35424271445216615}. Best is trial 101 with value: 0.054204765117559894.\n"
     ]
    },
    {
     "name": "stdout",
     "output_type": "stream",
     "text": [
      "P3alphaRecommender: Similarity column 38121 (100.0%), 5012.75 column/sec. Elapsed time 7.60 sec\n",
      "EvaluatorHoldout: Processed 35572 (100.0%) in 8.49 sec. Users per second: 4192\n"
     ]
    },
    {
     "name": "stderr",
     "output_type": "stream",
     "text": [
      "[I 2024-12-09 08:31:47,345] Trial 164 finished with value: 0.05406203202447263 and parameters: {'topK': 15, 'alpha': 0.3526642104401849}. Best is trial 101 with value: 0.054204765117559894.\n"
     ]
    },
    {
     "name": "stdout",
     "output_type": "stream",
     "text": [
      "P3alphaRecommender: Similarity column 38121 (100.0%), 4939.71 column/sec. Elapsed time 7.72 sec\n",
      "EvaluatorHoldout: Processed 35572 (100.0%) in 8.60 sec. Users per second: 4138\n"
     ]
    },
    {
     "name": "stderr",
     "output_type": "stream",
     "text": [
      "[I 2024-12-09 08:32:04,038] Trial 165 finished with value: 0.05354191766664894 and parameters: {'topK': 21, 'alpha': 0.36790733964831757}. Best is trial 101 with value: 0.054204765117559894.\n"
     ]
    },
    {
     "name": "stdout",
     "output_type": "stream",
     "text": [
      "P3alphaRecommender: Similarity column 38121 (100.0%), 5016.55 column/sec. Elapsed time 7.60 sec\n",
      "EvaluatorHoldout: Processed 35572 (100.0%) in 8.36 sec. Users per second: 4257\n"
     ]
    },
    {
     "name": "stderr",
     "output_type": "stream",
     "text": [
      "[I 2024-12-09 08:32:20,270] Trial 166 finished with value: 0.0536000191429301 and parameters: {'topK': 9, 'alpha': 0.3555151678486018}. Best is trial 101 with value: 0.054204765117559894.\n"
     ]
    },
    {
     "name": "stdout",
     "output_type": "stream",
     "text": [
      "P3alphaRecommender: Similarity column 38121 (100.0%), 4766.59 column/sec. Elapsed time 8.00 sec\n",
      "EvaluatorHoldout: Processed 35572 (100.0%) in 8.85 sec. Users per second: 4019\n"
     ]
    },
    {
     "name": "stderr",
     "output_type": "stream",
     "text": [
      "[I 2024-12-09 08:32:37,644] Trial 167 finished with value: 0.051604362892874484 and parameters: {'topK': 38, 'alpha': 0.3537604706133518}. Best is trial 101 with value: 0.054204765117559894.\n"
     ]
    },
    {
     "name": "stdout",
     "output_type": "stream",
     "text": [
      "P3alphaRecommender: Similarity column 38121 (100.0%), 4831.72 column/sec. Elapsed time 7.89 sec\n",
      "EvaluatorHoldout: Processed 35572 (100.0%) in 8.67 sec. Users per second: 4102\n"
     ]
    },
    {
     "name": "stderr",
     "output_type": "stream",
     "text": [
      "[I 2024-12-09 08:32:54,632] Trial 168 finished with value: 0.052757272752421785 and parameters: {'topK': 27, 'alpha': 0.351777634422303}. Best is trial 101 with value: 0.054204765117559894.\n"
     ]
    },
    {
     "name": "stdout",
     "output_type": "stream",
     "text": [
      "P3alphaRecommender: Similarity column 38121 (100.0%), 5035.45 column/sec. Elapsed time 7.57 sec\n",
      "EvaluatorHoldout: Processed 35572 (100.0%) in 8.45 sec. Users per second: 4208\n"
     ]
    },
    {
     "name": "stderr",
     "output_type": "stream",
     "text": [
      "[I 2024-12-09 08:33:10,972] Trial 169 finished with value: 0.054133742162105404 and parameters: {'topK': 14, 'alpha': 0.36202030865964047}. Best is trial 101 with value: 0.054204765117559894.\n"
     ]
    },
    {
     "name": "stdout",
     "output_type": "stream",
     "text": [
      "P3alphaRecommender: Similarity column 38121 (100.0%), 4941.89 column/sec. Elapsed time 7.71 sec\n",
      "EvaluatorHoldout: Processed 35572 (100.0%) in 8.59 sec. Users per second: 4139\n"
     ]
    },
    {
     "name": "stderr",
     "output_type": "stream",
     "text": [
      "[I 2024-12-09 08:33:27,636] Trial 170 finished with value: 0.053788433117538406 and parameters: {'topK': 19, 'alpha': 0.36297279314080566}. Best is trial 101 with value: 0.054204765117559894.\n"
     ]
    },
    {
     "name": "stdout",
     "output_type": "stream",
     "text": [
      "P3alphaRecommender: Similarity column 38121 (100.0%), 5044.17 column/sec. Elapsed time 7.56 sec\n",
      "EvaluatorHoldout: Processed 35572 (100.0%) in 8.44 sec. Users per second: 4213\n"
     ]
    },
    {
     "name": "stderr",
     "output_type": "stream",
     "text": [
      "[I 2024-12-09 08:33:43,945] Trial 171 finished with value: 0.054141814321588655 and parameters: {'topK': 12, 'alpha': 0.3635982424019771}. Best is trial 101 with value: 0.054204765117559894.\n"
     ]
    },
    {
     "name": "stdout",
     "output_type": "stream",
     "text": [
      "P3alphaRecommender: Similarity column 38121 (100.0%), 5001.53 column/sec. Elapsed time 7.62 sec\n",
      "EvaluatorHoldout: Processed 35572 (100.0%) in 8.34 sec. Users per second: 4265\n"
     ]
    },
    {
     "name": "stderr",
     "output_type": "stream",
     "text": [
      "[I 2024-12-09 08:34:00,176] Trial 172 finished with value: 0.053284045860930176 and parameters: {'topK': 8, 'alpha': 0.3648330720774823}. Best is trial 101 with value: 0.054204765117559894.\n"
     ]
    },
    {
     "name": "stdout",
     "output_type": "stream",
     "text": [
      "P3alphaRecommender: Similarity column 38121 (100.0%), 2428.34 column/sec. Elapsed time 15.70 sec\n",
      "EvaluatorHoldout: Processed 35572 (100.0%) in 8.18 sec. Users per second: 4349\n"
     ]
    },
    {
     "name": "stderr",
     "output_type": "stream",
     "text": [
      "[I 2024-12-09 08:34:24,271] Trial 173 finished with value: 0.03696023290121039 and parameters: {'topK': 2, 'alpha': 0.3621505842806634}. Best is trial 101 with value: 0.054204765117559894.\n"
     ]
    },
    {
     "name": "stdout",
     "output_type": "stream",
     "text": [
      "P3alphaRecommender: Similarity column 38121 (100.0%), 4976.04 column/sec. Elapsed time 7.66 sec\n",
      "EvaluatorHoldout: Processed 35572 (100.0%) in 8.56 sec. Users per second: 4154\n"
     ]
    },
    {
     "name": "stderr",
     "output_type": "stream",
     "text": [
      "[I 2024-12-09 08:34:40,865] Trial 174 finished with value: 0.05374533028474143 and parameters: {'topK': 20, 'alpha': 0.3633865723170023}. Best is trial 101 with value: 0.054204765117559894.\n"
     ]
    },
    {
     "name": "stdout",
     "output_type": "stream",
     "text": [
      "P3alphaRecommender: Similarity column 38121 (100.0%), 4894.75 column/sec. Elapsed time 7.79 sec\n",
      "EvaluatorHoldout: Processed 35572 (100.0%) in 8.71 sec. Users per second: 4084\n"
     ]
    },
    {
     "name": "stderr",
     "output_type": "stream",
     "text": [
      "[I 2024-12-09 08:34:57,809] Trial 175 finished with value: 0.052635354809113355 and parameters: {'topK': 29, 'alpha': 0.3604643794411583}. Best is trial 101 with value: 0.054204765117559894.\n"
     ]
    },
    {
     "name": "stdout",
     "output_type": "stream",
     "text": [
      "P3alphaRecommender: Similarity column 38121 (100.0%), 5057.65 column/sec. Elapsed time 7.54 sec\n",
      "EvaluatorHoldout: Processed 35572 (100.0%) in 8.38 sec. Users per second: 4244\n"
     ]
    },
    {
     "name": "stderr",
     "output_type": "stream",
     "text": [
      "[I 2024-12-09 08:35:14,015] Trial 176 finished with value: 0.05389884075936107 and parameters: {'topK': 10, 'alpha': 0.36172468471848973}. Best is trial 101 with value: 0.054204765117559894.\n"
     ]
    },
    {
     "name": "stdout",
     "output_type": "stream",
     "text": [
      "P3alphaRecommender: Similarity column 38121 (100.0%), 4993.42 column/sec. Elapsed time 7.63 sec\n",
      "EvaluatorHoldout: Processed 35572 (100.0%) in 8.55 sec. Users per second: 4159\n"
     ]
    },
    {
     "name": "stderr",
     "output_type": "stream",
     "text": [
      "[I 2024-12-09 08:35:30,561] Trial 177 finished with value: 0.05378842753976098 and parameters: {'topK': 19, 'alpha': 0.36429280147661935}. Best is trial 101 with value: 0.054204765117559894.\n"
     ]
    },
    {
     "name": "stdout",
     "output_type": "stream",
     "text": [
      "P3alphaRecommender: Similarity column 38121 (100.0%), 4861.29 column/sec. Elapsed time 7.84 sec\n",
      "EvaluatorHoldout: Processed 35572 (100.0%) in 8.79 sec. Users per second: 4049\n"
     ]
    },
    {
     "name": "stderr",
     "output_type": "stream",
     "text": [
      "[I 2024-12-09 08:35:47,666] Trial 178 finished with value: 0.05205742790387867 and parameters: {'topK': 33, 'alpha': 0.35899163304423753}. Best is trial 101 with value: 0.054204765117559894.\n"
     ]
    },
    {
     "name": "stdout",
     "output_type": "stream",
     "text": [
      "P3alphaRecommender: Similarity column 38121 (100.0%), 4993.43 column/sec. Elapsed time 7.63 sec\n",
      "EvaluatorHoldout: Processed 35572 (100.0%) in 8.44 sec. Users per second: 4213\n"
     ]
    },
    {
     "name": "stderr",
     "output_type": "stream",
     "text": [
      "[I 2024-12-09 08:36:04,063] Trial 179 finished with value: 0.05409693440890555 and parameters: {'topK': 14, 'alpha': 0.3573117624266597}. Best is trial 101 with value: 0.054204765117559894.\n"
     ]
    },
    {
     "name": "stdout",
     "output_type": "stream",
     "text": [
      "P3alphaRecommender: Similarity column 38121 (100.0%), 4916.22 column/sec. Elapsed time 7.75 sec\n",
      "EvaluatorHoldout: Processed 35572 (100.0%) in 8.65 sec. Users per second: 4113\n"
     ]
    },
    {
     "name": "stderr",
     "output_type": "stream",
     "text": [
      "[I 2024-12-09 08:36:20,866] Trial 180 finished with value: 0.053182970956288156 and parameters: {'topK': 24, 'alpha': 0.3609025738559346}. Best is trial 101 with value: 0.054204765117559894.\n"
     ]
    },
    {
     "name": "stdout",
     "output_type": "stream",
     "text": [
      "P3alphaRecommender: Similarity column 38121 (100.0%), 5023.44 column/sec. Elapsed time 7.59 sec\n",
      "EvaluatorHoldout: Processed 35572 (100.0%) in 8.37 sec. Users per second: 4252\n"
     ]
    },
    {
     "name": "stderr",
     "output_type": "stream",
     "text": [
      "[I 2024-12-09 08:36:37,091] Trial 181 finished with value: 0.0532853075541828 and parameters: {'topK': 8, 'alpha': 0.3547920382310922}. Best is trial 101 with value: 0.054204765117559894.\n"
     ]
    },
    {
     "name": "stdout",
     "output_type": "stream",
     "text": [
      "P3alphaRecommender: Similarity column 38121 (100.0%), 4931.37 column/sec. Elapsed time 7.73 sec\n",
      "EvaluatorHoldout: Processed 35572 (100.0%) in 8.48 sec. Users per second: 4197\n"
     ]
    },
    {
     "name": "stderr",
     "output_type": "stream",
     "text": [
      "[I 2024-12-09 08:36:53,613] Trial 182 finished with value: 0.054115452629942565 and parameters: {'topK': 14, 'alpha': 0.36384762398529}. Best is trial 101 with value: 0.054204765117559894.\n"
     ]
    },
    {
     "name": "stdout",
     "output_type": "stream",
     "text": [
      "P3alphaRecommender: Similarity column 38121 (100.0%), 4920.49 column/sec. Elapsed time 7.75 sec\n",
      "EvaluatorHoldout: Processed 35572 (100.0%) in 8.44 sec. Users per second: 4215\n"
     ]
    },
    {
     "name": "stderr",
     "output_type": "stream",
     "text": [
      "[I 2024-12-09 08:37:10,127] Trial 183 finished with value: 0.05405208350066488 and parameters: {'topK': 15, 'alpha': 0.36242127503746313}. Best is trial 101 with value: 0.054204765117559894.\n"
     ]
    },
    {
     "name": "stdout",
     "output_type": "stream",
     "text": [
      "P3alphaRecommender: Similarity column 38121 (100.0%), 3777.68 column/sec. Elapsed time 10.09 sec\n",
      "EvaluatorHoldout: Processed 35572 (100.0%) in 11.09 sec. Users per second: 3206\n"
     ]
    },
    {
     "name": "stderr",
     "output_type": "stream",
     "text": [
      "[I 2024-12-09 08:37:33,451] Trial 184 finished with value: 0.04347938966620616 and parameters: {'topK': 193, 'alpha': 0.3638654710442965}. Best is trial 101 with value: 0.054204765117559894.\n"
     ]
    },
    {
     "name": "stdout",
     "output_type": "stream",
     "text": [
      "P3alphaRecommender: Similarity column 38121 (100.0%), 2417.77 column/sec. Elapsed time 15.77 sec\n",
      "EvaluatorHoldout: Processed 35572 (100.0%) in 8.16 sec. Users per second: 4357\n"
     ]
    },
    {
     "name": "stderr",
     "output_type": "stream",
     "text": [
      "[I 2024-12-09 08:37:57,600] Trial 185 finished with value: 0.036950555457385306 and parameters: {'topK': 2, 'alpha': 0.35775802448232313}. Best is trial 101 with value: 0.054204765117559894.\n"
     ]
    },
    {
     "name": "stdout",
     "output_type": "stream",
     "text": [
      "P3alphaRecommender: Similarity column 38121 (100.0%), 4927.20 column/sec. Elapsed time 7.74 sec\n",
      "EvaluatorHoldout: Processed 35572 (100.0%) in 8.67 sec. Users per second: 4103\n"
     ]
    },
    {
     "name": "stderr",
     "output_type": "stream",
     "text": [
      "[I 2024-12-09 08:38:14,428] Trial 186 finished with value: 0.05286129495465312 and parameters: {'topK': 26, 'alpha': 0.3655961758002572}. Best is trial 101 with value: 0.054204765117559894.\n"
     ]
    },
    {
     "name": "stdout",
     "output_type": "stream",
     "text": [
      "P3alphaRecommender: Similarity column 38121 (100.0%), 5016.55 column/sec. Elapsed time 7.60 sec\n",
      "EvaluatorHoldout: Processed 35572 (100.0%) in 8.47 sec. Users per second: 4201\n"
     ]
    },
    {
     "name": "stderr",
     "output_type": "stream",
     "text": [
      "[I 2024-12-09 08:38:30,821] Trial 187 finished with value: 0.05403735928382948 and parameters: {'topK': 15, 'alpha': 0.3646586105865562}. Best is trial 101 with value: 0.054204765117559894.\n"
     ]
    },
    {
     "name": "stdout",
     "output_type": "stream",
     "text": [
      "P3alphaRecommender: Similarity column 38121 (100.0%), 4748.01 column/sec. Elapsed time 8.03 sec\n",
      "EvaluatorHoldout: Processed 35572 (100.0%) in 8.83 sec. Users per second: 4030\n"
     ]
    },
    {
     "name": "stderr",
     "output_type": "stream",
     "text": [
      "[I 2024-12-09 08:38:48,187] Trial 188 finished with value: 0.05188040151965244 and parameters: {'topK': 36, 'alpha': 0.35592174030450563}. Best is trial 101 with value: 0.054204765117559894.\n"
     ]
    },
    {
     "name": "stdout",
     "output_type": "stream",
     "text": [
      "P3alphaRecommender: Similarity column 38121 (100.0%), 2416.58 column/sec. Elapsed time 15.77 sec\n",
      "EvaluatorHoldout: Processed 35572 (100.0%) in 8.20 sec. Users per second: 4340\n"
     ]
    },
    {
     "name": "stderr",
     "output_type": "stream",
     "text": [
      "[I 2024-12-09 08:39:12,377] Trial 189 finished with value: 0.03695933041682371 and parameters: {'topK': 2, 'alpha': 0.35986856128202893}. Best is trial 101 with value: 0.054204765117559894.\n"
     ]
    },
    {
     "name": "stdout",
     "output_type": "stream",
     "text": [
      "P3alphaRecommender: Similarity column 38121 (100.0%), 4945.16 column/sec. Elapsed time 7.71 sec\n",
      "EvaluatorHoldout: Processed 35572 (100.0%) in 8.56 sec. Users per second: 4154\n"
     ]
    },
    {
     "name": "stderr",
     "output_type": "stream",
     "text": [
      "[I 2024-12-09 08:39:29,027] Trial 190 finished with value: 0.05354384534652554 and parameters: {'topK': 21, 'alpha': 0.3629701546304127}. Best is trial 101 with value: 0.054204765117559894.\n"
     ]
    },
    {
     "name": "stdout",
     "output_type": "stream",
     "text": [
      "P3alphaRecommender: Similarity column 38121 (100.0%), 5033.19 column/sec. Elapsed time 7.57 sec\n",
      "EvaluatorHoldout: Processed 35572 (100.0%) in 8.44 sec. Users per second: 4217\n"
     ]
    },
    {
     "name": "stderr",
     "output_type": "stream",
     "text": [
      "[I 2024-12-09 08:39:45,334] Trial 191 finished with value: 0.05412391188717865 and parameters: {'topK': 11, 'alpha': 0.35352050079422737}. Best is trial 101 with value: 0.054204765117559894.\n"
     ]
    },
    {
     "name": "stdout",
     "output_type": "stream",
     "text": [
      "P3alphaRecommender: Similarity column 38121 (100.0%), 5031.19 column/sec. Elapsed time 7.58 sec\n",
      "EvaluatorHoldout: Processed 35572 (100.0%) in 8.40 sec. Users per second: 4234\n"
     ]
    },
    {
     "name": "stderr",
     "output_type": "stream",
     "text": [
      "[I 2024-12-09 08:40:01,623] Trial 192 finished with value: 0.054186040518758374 and parameters: {'topK': 13, 'alpha': 0.3541449891530897}. Best is trial 101 with value: 0.054204765117559894.\n"
     ]
    },
    {
     "name": "stdout",
     "output_type": "stream",
     "text": [
      "P3alphaRecommender: Similarity column 38121 (100.0%), 5019.32 column/sec. Elapsed time 7.59 sec\n",
      "EvaluatorHoldout: Processed 35572 (100.0%) in 8.46 sec. Users per second: 4204\n"
     ]
    },
    {
     "name": "stderr",
     "output_type": "stream",
     "text": [
      "[I 2024-12-09 08:40:18,000] Trial 193 finished with value: 0.054106375354968095 and parameters: {'topK': 14, 'alpha': 0.353566782564365}. Best is trial 101 with value: 0.054204765117559894.\n"
     ]
    },
    {
     "name": "stdout",
     "output_type": "stream",
     "text": [
      "P3alphaRecommender: Similarity column 38121 (100.0%), 4900.87 column/sec. Elapsed time 7.78 sec\n",
      "EvaluatorHoldout: Processed 35572 (100.0%) in 8.69 sec. Users per second: 4095\n"
     ]
    },
    {
     "name": "stderr",
     "output_type": "stream",
     "text": [
      "[I 2024-12-09 08:40:34,893] Trial 194 finished with value: 0.05274475175766758 and parameters: {'topK': 27, 'alpha': 0.35484716973163133}. Best is trial 101 with value: 0.054204765117559894.\n"
     ]
    },
    {
     "name": "stdout",
     "output_type": "stream",
     "text": [
      "P3alphaRecommender: Similarity column 38121 (100.0%), 5020.73 column/sec. Elapsed time 7.59 sec\n",
      "EvaluatorHoldout: Processed 35572 (100.0%) in 8.33 sec. Users per second: 4268\n"
     ]
    },
    {
     "name": "stderr",
     "output_type": "stream",
     "text": [
      "[I 2024-12-09 08:40:51,092] Trial 195 finished with value: 0.05327722981692198 and parameters: {'topK': 8, 'alpha': 0.3540295662643966}. Best is trial 101 with value: 0.054204765117559894.\n"
     ]
    },
    {
     "name": "stdout",
     "output_type": "stream",
     "text": [
      "P3alphaRecommender: Similarity column 38121 (100.0%), 4902.58 column/sec. Elapsed time 7.78 sec\n",
      "EvaluatorHoldout: Processed 35572 (100.0%) in 8.51 sec. Users per second: 4179\n"
     ]
    },
    {
     "name": "stderr",
     "output_type": "stream",
     "text": [
      "[I 2024-12-09 08:41:07,729] Trial 196 finished with value: 0.05391132717189554 and parameters: {'topK': 18, 'alpha': 0.3527039124861049}. Best is trial 101 with value: 0.054204765117559894.\n"
     ]
    },
    {
     "name": "stdout",
     "output_type": "stream",
     "text": [
      "P3alphaRecommender: Similarity column 38121 (100.0%), 4981.76 column/sec. Elapsed time 7.65 sec\n",
      "EvaluatorHoldout: Processed 35572 (100.0%) in 8.33 sec. Users per second: 4269\n"
     ]
    },
    {
     "name": "stderr",
     "output_type": "stream",
     "text": [
      "[I 2024-12-09 08:41:23,995] Trial 197 finished with value: 0.053599240485202156 and parameters: {'topK': 9, 'alpha': 0.3554967620611973}. Best is trial 101 with value: 0.054204765117559894.\n"
     ]
    },
    {
     "name": "stdout",
     "output_type": "stream",
     "text": [
      "P3alphaRecommender: Similarity column 38121 (100.0%), 4860.59 column/sec. Elapsed time 7.84 sec\n",
      "EvaluatorHoldout: Processed 35572 (100.0%) in 8.60 sec. Users per second: 4135\n"
     ]
    },
    {
     "name": "stderr",
     "output_type": "stream",
     "text": [
      "[I 2024-12-09 08:41:40,838] Trial 198 finished with value: 0.053326532907100266 and parameters: {'topK': 23, 'alpha': 0.3567488264589302}. Best is trial 101 with value: 0.054204765117559894.\n"
     ]
    },
    {
     "name": "stdout",
     "output_type": "stream",
     "text": [
      "P3alphaRecommender: Similarity column 38121 (100.0%), 2417.79 column/sec. Elapsed time 15.77 sec\n",
      "EvaluatorHoldout: Processed 35572 (100.0%) in 8.18 sec. Users per second: 4348\n"
     ]
    },
    {
     "name": "stderr",
     "output_type": "stream",
     "text": [
      "[I 2024-12-09 08:42:05,004] Trial 199 finished with value: 0.036908023788996235 and parameters: {'topK': 2, 'alpha': 0.3544306437508774}. Best is trial 101 with value: 0.054204765117559894.\n"
     ]
    },
    {
     "name": "stdout",
     "output_type": "stream",
     "text": [
      "P3alphaRecommender: Similarity column 38121 (100.0%), 4825.34 column/sec. Elapsed time 7.90 sec\n",
      "EvaluatorHoldout: Processed 35572 (100.0%) in 8.74 sec. Users per second: 4071\n"
     ]
    },
    {
     "name": "stderr",
     "output_type": "stream",
     "text": [
      "[I 2024-12-09 08:42:22,115] Trial 200 finished with value: 0.05215975780844061 and parameters: {'topK': 32, 'alpha': 0.35331705359513416}. Best is trial 101 with value: 0.054204765117559894.\n"
     ]
    },
    {
     "name": "stdout",
     "output_type": "stream",
     "text": [
      "P3alphaRecommender: Similarity column 38121 (100.0%), 3579.43 column/sec. Elapsed time 10.65 sec\n",
      "EvaluatorHoldout: Processed 35572 (100.0%) in 11.51 sec. Users per second: 3092\n"
     ]
    },
    {
     "name": "stderr",
     "output_type": "stream",
     "text": [
      "[I 2024-12-09 08:42:46,770] Trial 201 finished with value: 0.04244525188350239 and parameters: {'topK': 226, 'alpha': 0.3534252752138857}. Best is trial 101 with value: 0.054204765117559894.\n"
     ]
    },
    {
     "name": "stdout",
     "output_type": "stream",
     "text": [
      "P3alphaRecommender: Similarity column 38121 (100.0%), 5028.68 column/sec. Elapsed time 7.58 sec\n",
      "EvaluatorHoldout: Processed 35572 (100.0%) in 8.44 sec. Users per second: 4216\n"
     ]
    },
    {
     "name": "stderr",
     "output_type": "stream",
     "text": [
      "[I 2024-12-09 08:43:03,107] Trial 202 finished with value: 0.05411548051882981 and parameters: {'topK': 14, 'alpha': 0.35234405079809356}. Best is trial 101 with value: 0.054204765117559894.\n"
     ]
    },
    {
     "name": "stdout",
     "output_type": "stream",
     "text": [
      "P3alphaRecommender: Similarity column 38121 (100.0%), 4988.01 column/sec. Elapsed time 7.64 sec\n",
      "EvaluatorHoldout: Processed 35572 (100.0%) in 8.44 sec. Users per second: 4214\n"
     ]
    },
    {
     "name": "stderr",
     "output_type": "stream",
     "text": [
      "[I 2024-12-09 08:43:19,516] Trial 203 finished with value: 0.05404897890975247 and parameters: {'topK': 15, 'alpha': 0.35234759788314046}. Best is trial 101 with value: 0.054204765117559894.\n"
     ]
    },
    {
     "name": "stdout",
     "output_type": "stream",
     "text": [
      "P3alphaRecommender: Similarity column 38121 (100.0%), 4953.75 column/sec. Elapsed time 7.70 sec\n",
      "EvaluatorHoldout: Processed 35572 (100.0%) in 8.57 sec. Users per second: 4150\n"
     ]
    },
    {
     "name": "stderr",
     "output_type": "stream",
     "text": [
      "[I 2024-12-09 08:43:36,140] Trial 204 finished with value: 0.05378637603322565 and parameters: {'topK': 19, 'alpha': 0.35586804421881607}. Best is trial 101 with value: 0.054204765117559894.\n"
     ]
    },
    {
     "name": "stdout",
     "output_type": "stream",
     "text": [
      "P3alphaRecommender: Similarity column 38121 (100.0%), 5015.17 column/sec. Elapsed time 7.60 sec\n",
      "EvaluatorHoldout: Processed 35572 (100.0%) in 8.37 sec. Users per second: 4249\n"
     ]
    },
    {
     "name": "stderr",
     "output_type": "stream",
     "text": [
      "[I 2024-12-09 08:43:52,391] Trial 205 finished with value: 0.05363125692759753 and parameters: {'topK': 9, 'alpha': 0.3505831884976996}. Best is trial 101 with value: 0.054204765117559894.\n"
     ]
    },
    {
     "name": "stdout",
     "output_type": "stream",
     "text": [
      "P3alphaRecommender: Similarity column 38121 (100.0%), 4857.85 column/sec. Elapsed time 7.85 sec\n",
      "EvaluatorHoldout: Processed 35572 (100.0%) in 8.58 sec. Users per second: 4145\n"
     ]
    },
    {
     "name": "stderr",
     "output_type": "stream",
     "text": [
      "[I 2024-12-09 08:44:09,224] Trial 206 finished with value: 0.053326509480435144 and parameters: {'topK': 23, 'alpha': 0.3545700651383398}. Best is trial 101 with value: 0.054204765117559894.\n"
     ]
    },
    {
     "name": "stdout",
     "output_type": "stream",
     "text": [
      "P3alphaRecommender: Similarity column 38121 (100.0%), 4937.78 column/sec. Elapsed time 7.72 sec\n",
      "EvaluatorHoldout: Processed 35572 (100.0%) in 8.50 sec. Users per second: 4187\n"
     ]
    },
    {
     "name": "stderr",
     "output_type": "stream",
     "text": [
      "[I 2024-12-09 08:44:25,761] Trial 207 finished with value: 0.054116660776532065 and parameters: {'topK': 14, 'alpha': 0.3523077256379388}. Best is trial 101 with value: 0.054204765117559894.\n"
     ]
    },
    {
     "name": "stdout",
     "output_type": "stream",
     "text": [
      "P3alphaRecommender: Similarity column 38121 (100.0%), 5008.61 column/sec. Elapsed time 7.61 sec\n",
      "EvaluatorHoldout: Processed 35572 (100.0%) in 8.44 sec. Users per second: 4215\n"
     ]
    },
    {
     "name": "stderr",
     "output_type": "stream",
     "text": [
      "[I 2024-12-09 08:44:42,129] Trial 208 finished with value: 0.05411412511891658 and parameters: {'topK': 14, 'alpha': 0.3517734155430389}. Best is trial 101 with value: 0.054204765117559894.\n"
     ]
    },
    {
     "name": "stdout",
     "output_type": "stream",
     "text": [
      "P3alphaRecommender: Similarity column 38121 (100.0%), 4812.21 column/sec. Elapsed time 7.92 sec\n",
      "EvaluatorHoldout: Processed 35572 (100.0%) in 8.70 sec. Users per second: 4089\n"
     ]
    },
    {
     "name": "stderr",
     "output_type": "stream",
     "text": [
      "[I 2024-12-09 08:44:59,188] Trial 209 finished with value: 0.05273214263402998 and parameters: {'topK': 28, 'alpha': 0.3516635586722544}. Best is trial 101 with value: 0.054204765117559894.\n"
     ]
    },
    {
     "name": "stdout",
     "output_type": "stream",
     "text": [
      "P3alphaRecommender: Similarity column 38121 (100.0%), 3354.46 column/sec. Elapsed time 11.36 sec\n",
      "EvaluatorHoldout: Processed 35572 (100.0%) in 12.10 sec. Users per second: 2940\n"
     ]
    },
    {
     "name": "stderr",
     "output_type": "stream",
     "text": [
      "[I 2024-12-09 08:45:25,724] Trial 210 finished with value: 0.040965429604877535 and parameters: {'topK': 278, 'alpha': 0.35076625282546187}. Best is trial 101 with value: 0.054204765117559894.\n"
     ]
    },
    {
     "name": "stdout",
     "output_type": "stream",
     "text": [
      "P3alphaRecommender: Similarity column 38121 (100.0%), 5025.01 column/sec. Elapsed time 7.59 sec\n",
      "EvaluatorHoldout: Processed 35572 (100.0%) in 8.46 sec. Users per second: 4206\n"
     ]
    },
    {
     "name": "stderr",
     "output_type": "stream",
     "text": [
      "[I 2024-12-09 08:45:42,088] Trial 211 finished with value: 0.05413310071770212 and parameters: {'topK': 14, 'alpha': 0.35007403071983895}. Best is trial 101 with value: 0.054204765117559894.\n"
     ]
    },
    {
     "name": "stdout",
     "output_type": "stream",
     "text": [
      "P3alphaRecommender: Similarity column 38121 (100.0%), 4998.55 column/sec. Elapsed time 7.63 sec\n",
      "EvaluatorHoldout: Processed 35572 (100.0%) in 8.51 sec. Users per second: 4178\n"
     ]
    },
    {
     "name": "stderr",
     "output_type": "stream",
     "text": [
      "[I 2024-12-09 08:45:58,570] Trial 212 finished with value: 0.05390328401685474 and parameters: {'topK': 17, 'alpha': 0.35189020559915396}. Best is trial 101 with value: 0.054204765117559894.\n"
     ]
    },
    {
     "name": "stdout",
     "output_type": "stream",
     "text": [
      "P3alphaRecommender: Similarity column 38121 (100.0%), 2417.35 column/sec. Elapsed time 15.77 sec\n",
      "EvaluatorHoldout: Processed 35572 (100.0%) in 8.17 sec. Users per second: 4353\n"
     ]
    },
    {
     "name": "stderr",
     "output_type": "stream",
     "text": [
      "[I 2024-12-09 08:46:22,733] Trial 213 finished with value: 0.03689616208753316 and parameters: {'topK': 2, 'alpha': 0.35016042436666134}. Best is trial 101 with value: 0.054204765117559894.\n"
     ]
    },
    {
     "name": "stdout",
     "output_type": "stream",
     "text": [
      "P3alphaRecommender: Similarity column 38121 (100.0%), 4968.01 column/sec. Elapsed time 7.67 sec\n",
      "EvaluatorHoldout: Processed 35572 (100.0%) in 8.39 sec. Users per second: 4239\n"
     ]
    },
    {
     "name": "stderr",
     "output_type": "stream",
     "text": [
      "[I 2024-12-09 08:46:39,104] Trial 214 finished with value: 0.05415897825826803 and parameters: {'topK': 12, 'alpha': 0.35091119902353024}. Best is trial 101 with value: 0.054204765117559894.\n"
     ]
    },
    {
     "name": "stdout",
     "output_type": "stream",
     "text": [
      "P3alphaRecommender: Similarity column 38121 (100.0%), 4973.32 column/sec. Elapsed time 7.67 sec\n",
      "EvaluatorHoldout: Processed 35572 (100.0%) in 8.34 sec. Users per second: 4268\n"
     ]
    },
    {
     "name": "stderr",
     "output_type": "stream",
     "text": [
      "[I 2024-12-09 08:46:55,383] Trial 215 finished with value: 0.05361432725756993 and parameters: {'topK': 9, 'alpha': 0.3507973304622615}. Best is trial 101 with value: 0.054204765117559894.\n"
     ]
    },
    {
     "name": "stdout",
     "output_type": "stream",
     "text": [
      "P3alphaRecommender: Similarity column 38121 (100.0%), 4863.76 column/sec. Elapsed time 7.84 sec\n",
      "EvaluatorHoldout: Processed 35572 (100.0%) in 8.60 sec. Users per second: 4135\n"
     ]
    },
    {
     "name": "stderr",
     "output_type": "stream",
     "text": [
      "[I 2024-12-09 08:47:12,211] Trial 216 finished with value: 0.05335883270058847 and parameters: {'topK': 22, 'alpha': 0.3502775715800654}. Best is trial 101 with value: 0.054204765117559894.\n"
     ]
    },
    {
     "name": "stdout",
     "output_type": "stream",
     "text": [
      "P3alphaRecommender: Similarity column 38121 (100.0%), 5019.45 column/sec. Elapsed time 7.59 sec\n",
      "EvaluatorHoldout: Processed 35572 (100.0%) in 8.43 sec. Users per second: 4221\n"
     ]
    },
    {
     "name": "stderr",
     "output_type": "stream",
     "text": [
      "[I 2024-12-09 08:47:28,550] Trial 217 finished with value: 0.0541799484702594 and parameters: {'topK': 13, 'alpha': 0.35256503174508064}. Best is trial 101 with value: 0.054204765117559894.\n"
     ]
    },
    {
     "name": "stdout",
     "output_type": "stream",
     "text": [
      "P3alphaRecommender: Similarity column 38121 (100.0%), 4897.40 column/sec. Elapsed time 7.78 sec\n",
      "EvaluatorHoldout: Processed 35572 (100.0%) in 8.72 sec. Users per second: 4079\n"
     ]
    },
    {
     "name": "stderr",
     "output_type": "stream",
     "text": [
      "[I 2024-12-09 08:47:45,501] Trial 218 finished with value: 0.05258364323464523 and parameters: {'topK': 29, 'alpha': 0.35222894838045304}. Best is trial 101 with value: 0.054204765117559894.\n"
     ]
    },
    {
     "name": "stdout",
     "output_type": "stream",
     "text": [
      "P3alphaRecommender: Similarity column 38121 (100.0%), 4993.15 column/sec. Elapsed time 7.63 sec\n",
      "EvaluatorHoldout: Processed 35572 (100.0%) in 8.35 sec. Users per second: 4259\n"
     ]
    },
    {
     "name": "stderr",
     "output_type": "stream",
     "text": [
      "[I 2024-12-09 08:48:01,769] Trial 219 finished with value: 0.05360947012899193 and parameters: {'topK': 9, 'alpha': 0.35300266611837056}. Best is trial 101 with value: 0.054204765117559894.\n"
     ]
    },
    {
     "name": "stdout",
     "output_type": "stream",
     "text": [
      "P3alphaRecommender: Similarity column 38121 (100.0%), 2411.17 column/sec. Elapsed time 15.81 sec\n",
      "EvaluatorHoldout: Processed 35572 (100.0%) in 8.18 sec. Users per second: 4350\n"
     ]
    },
    {
     "name": "stderr",
     "output_type": "stream",
     "text": [
      "[I 2024-12-09 08:48:25,974] Trial 220 finished with value: 0.03689510900315611 and parameters: {'topK': 2, 'alpha': 0.35002849006920544}. Best is trial 101 with value: 0.054204765117559894.\n"
     ]
    },
    {
     "name": "stdout",
     "output_type": "stream",
     "text": [
      "P3alphaRecommender: Similarity column 38121 (100.0%), 4991.57 column/sec. Elapsed time 7.64 sec\n",
      "EvaluatorHoldout: Processed 35572 (100.0%) in 8.49 sec. Users per second: 4189\n"
     ]
    },
    {
     "name": "stderr",
     "output_type": "stream",
     "text": [
      "[I 2024-12-09 08:48:42,453] Trial 221 finished with value: 0.053878855582862616 and parameters: {'topK': 18, 'alpha': 0.35107016816881215}. Best is trial 101 with value: 0.054204765117559894.\n"
     ]
    },
    {
     "name": "stdout",
     "output_type": "stream",
     "text": [
      "P3alphaRecommender: Similarity column 38121 (100.0%), 5033.07 column/sec. Elapsed time 7.57 sec\n",
      "EvaluatorHoldout: Processed 35572 (100.0%) in 8.45 sec. Users per second: 4210\n"
     ]
    },
    {
     "name": "stderr",
     "output_type": "stream",
     "text": [
      "[I 2024-12-09 08:48:58,794] Trial 222 finished with value: 0.05411303299009757 and parameters: {'topK': 14, 'alpha': 0.3524615065102829}. Best is trial 101 with value: 0.054204765117559894.\n"
     ]
    },
    {
     "name": "stdout",
     "output_type": "stream",
     "text": [
      "P3alphaRecommender: Similarity column 38121 (100.0%), 5058.85 column/sec. Elapsed time 7.54 sec\n",
      "EvaluatorHoldout: Processed 35572 (100.0%) in 8.33 sec. Users per second: 4271\n"
     ]
    },
    {
     "name": "stderr",
     "output_type": "stream",
     "text": [
      "[I 2024-12-09 08:49:14,938] Trial 223 finished with value: 0.053616669924086695 and parameters: {'topK': 9, 'alpha': 0.35400675984110896}. Best is trial 101 with value: 0.054204765117559894.\n"
     ]
    },
    {
     "name": "stdout",
     "output_type": "stream",
     "text": [
      "P3alphaRecommender: Similarity column 38121 (100.0%), 4859.77 column/sec. Elapsed time 7.84 sec\n",
      "EvaluatorHoldout: Processed 35572 (100.0%) in 8.58 sec. Users per second: 4145\n"
     ]
    },
    {
     "name": "stderr",
     "output_type": "stream",
     "text": [
      "[I 2024-12-09 08:49:31,752] Trial 224 finished with value: 0.05339194573402473 and parameters: {'topK': 22, 'alpha': 0.35503593764388225}. Best is trial 101 with value: 0.054204765117559894.\n"
     ]
    },
    {
     "name": "stdout",
     "output_type": "stream",
     "text": [
      "P3alphaRecommender: Similarity column 38121 (100.0%), 4981.27 column/sec. Elapsed time 7.65 sec\n",
      "EvaluatorHoldout: Processed 35572 (100.0%) in 8.53 sec. Users per second: 4172\n"
     ]
    },
    {
     "name": "stderr",
     "output_type": "stream",
     "text": [
      "[I 2024-12-09 08:49:48,265] Trial 225 finished with value: 0.053942991098757886 and parameters: {'topK': 16, 'alpha': 0.3535529938037457}. Best is trial 101 with value: 0.054204765117559894.\n"
     ]
    },
    {
     "name": "stdout",
     "output_type": "stream",
     "text": [
      "P3alphaRecommender: Similarity column 38121 (100.0%), 5053.78 column/sec. Elapsed time 7.54 sec\n",
      "EvaluatorHoldout: Processed 35572 (100.0%) in 8.36 sec. Users per second: 4256\n"
     ]
    },
    {
     "name": "stderr",
     "output_type": "stream",
     "text": [
      "[I 2024-12-09 08:50:04,445] Trial 226 finished with value: 0.053599035222993086 and parameters: {'topK': 9, 'alpha': 0.35642679733724325}. Best is trial 101 with value: 0.054204765117559894.\n"
     ]
    },
    {
     "name": "stdout",
     "output_type": "stream",
     "text": [
      "P3alphaRecommender: Similarity column 38121 (100.0%), 4879.85 column/sec. Elapsed time 7.81 sec\n",
      "EvaluatorHoldout: Processed 35572 (100.0%) in 8.65 sec. Users per second: 4114\n"
     ]
    },
    {
     "name": "stderr",
     "output_type": "stream",
     "text": [
      "[I 2024-12-09 08:50:21,323] Trial 227 finished with value: 0.05289202850824167 and parameters: {'topK': 26, 'alpha': 0.35132398415324556}. Best is trial 101 with value: 0.054204765117559894.\n"
     ]
    },
    {
     "name": "stdout",
     "output_type": "stream",
     "text": [
      "P3alphaRecommender: Similarity column 38121 (100.0%), 2410.84 column/sec. Elapsed time 15.81 sec\n",
      "EvaluatorHoldout: Processed 35572 (100.0%) in 8.17 sec. Users per second: 4353\n"
     ]
    },
    {
     "name": "stderr",
     "output_type": "stream",
     "text": [
      "[I 2024-12-09 08:50:45,527] Trial 228 finished with value: 0.036914989317439334 and parameters: {'topK': 2, 'alpha': 0.3526927970090294}. Best is trial 101 with value: 0.054204765117559894.\n"
     ]
    },
    {
     "name": "stdout",
     "output_type": "stream",
     "text": [
      "P3alphaRecommender: Similarity column 38121 (100.0%), 4802.14 column/sec. Elapsed time 7.94 sec\n",
      "EvaluatorHoldout: Processed 35572 (100.0%) in 8.87 sec. Users per second: 4009\n"
     ]
    },
    {
     "name": "stderr",
     "output_type": "stream",
     "text": [
      "[I 2024-12-09 08:51:02,864] Trial 229 finished with value: 0.05160593471055169 and parameters: {'topK': 38, 'alpha': 0.35530451194449725}. Best is trial 101 with value: 0.054204765117559894.\n"
     ]
    },
    {
     "name": "stdout",
     "output_type": "stream",
     "text": [
      "P3alphaRecommender: Similarity column 38121 (100.0%), 4977.30 column/sec. Elapsed time 7.66 sec\n",
      "EvaluatorHoldout: Processed 35572 (100.0%) in 8.49 sec. Users per second: 4188\n"
     ]
    },
    {
     "name": "stderr",
     "output_type": "stream",
     "text": [
      "[I 2024-12-09 08:51:19,359] Trial 230 finished with value: 0.05392224176675254 and parameters: {'topK': 17, 'alpha': 0.35385606333845504}. Best is trial 101 with value: 0.054204765117559894.\n"
     ]
    },
    {
     "name": "stdout",
     "output_type": "stream",
     "text": [
      "P3alphaRecommender: Similarity column 38121 (100.0%), 5027.35 column/sec. Elapsed time 7.58 sec\n",
      "EvaluatorHoldout: Processed 35572 (100.0%) in 8.36 sec. Users per second: 4254\n"
     ]
    },
    {
     "name": "stderr",
     "output_type": "stream",
     "text": [
      "[I 2024-12-09 08:51:35,600] Trial 231 finished with value: 0.05410179823081612 and parameters: {'topK': 11, 'alpha': 0.35162605069561814}. Best is trial 101 with value: 0.054204765117559894.\n"
     ]
    },
    {
     "name": "stdout",
     "output_type": "stream",
     "text": [
      "P3alphaRecommender: Similarity column 38121 (100.0%), 4961.33 column/sec. Elapsed time 7.68 sec\n",
      "EvaluatorHoldout: Processed 35572 (100.0%) in 8.45 sec. Users per second: 4211\n"
     ]
    },
    {
     "name": "stderr",
     "output_type": "stream",
     "text": [
      "[I 2024-12-09 08:51:52,057] Trial 232 finished with value: 0.054049437403056476 and parameters: {'topK': 15, 'alpha': 0.3520968286577867}. Best is trial 101 with value: 0.054204765117559894.\n"
     ]
    },
    {
     "name": "stdout",
     "output_type": "stream",
     "text": [
      "P3alphaRecommender: Similarity column 38121 (100.0%), 4909.25 column/sec. Elapsed time 7.77 sec\n",
      "EvaluatorHoldout: Processed 35572 (100.0%) in 8.54 sec. Users per second: 4166\n"
     ]
    },
    {
     "name": "stderr",
     "output_type": "stream",
     "text": [
      "[I 2024-12-09 08:52:08,730] Trial 233 finished with value: 0.053725532521564145 and parameters: {'topK': 20, 'alpha': 0.35116708429219895}. Best is trial 101 with value: 0.054204765117559894.\n"
     ]
    },
    {
     "name": "stdout",
     "output_type": "stream",
     "text": [
      "P3alphaRecommender: Similarity column 38121 (100.0%), 5002.78 column/sec. Elapsed time 7.62 sec\n",
      "EvaluatorHoldout: Processed 35572 (100.0%) in 8.32 sec. Users per second: 4273\n"
     ]
    },
    {
     "name": "stderr",
     "output_type": "stream",
     "text": [
      "[I 2024-12-09 08:52:24,946] Trial 234 finished with value: 0.0532718416839335 and parameters: {'topK': 8, 'alpha': 0.3532354213644862}. Best is trial 101 with value: 0.054204765117559894.\n"
     ]
    },
    {
     "name": "stdout",
     "output_type": "stream",
     "text": [
      "P3alphaRecommender: Similarity column 38121 (100.0%), 4817.52 column/sec. Elapsed time 7.91 sec\n",
      "EvaluatorHoldout: Processed 35572 (100.0%) in 8.67 sec. Users per second: 4102\n"
     ]
    },
    {
     "name": "stderr",
     "output_type": "stream",
     "text": [
      "[I 2024-12-09 08:52:41,948] Trial 235 finished with value: 0.05289117622385178 and parameters: {'topK': 26, 'alpha': 0.3520970072855211}. Best is trial 101 with value: 0.054204765117559894.\n"
     ]
    },
    {
     "name": "stdout",
     "output_type": "stream",
     "text": [
      "P3alphaRecommender: Similarity column 38121 (100.0%), 5026.24 column/sec. Elapsed time 7.58 sec\n",
      "EvaluatorHoldout: Processed 35572 (100.0%) in 8.49 sec. Users per second: 4190\n"
     ]
    },
    {
     "name": "stderr",
     "output_type": "stream",
     "text": [
      "[I 2024-12-09 08:52:58,340] Trial 236 finished with value: 0.05410367794180738 and parameters: {'topK': 14, 'alpha': 0.35428120071653874}. Best is trial 101 with value: 0.054204765117559894.\n"
     ]
    },
    {
     "name": "stdout",
     "output_type": "stream",
     "text": [
      "P3alphaRecommender: Similarity column 38121 (100.0%), 5079.62 column/sec. Elapsed time 7.50 sec\n",
      "EvaluatorHoldout: Processed 35572 (100.0%) in 8.36 sec. Users per second: 4255\n"
     ]
    },
    {
     "name": "stderr",
     "output_type": "stream",
     "text": [
      "[I 2024-12-09 08:53:14,484] Trial 237 finished with value: 0.053701430945328595 and parameters: {'topK': 9, 'alpha': 0.37018708533307926}. Best is trial 101 with value: 0.054204765117559894.\n"
     ]
    },
    {
     "name": "stdout",
     "output_type": "stream",
     "text": [
      "P3alphaRecommender: Similarity column 38121 (100.0%), 4881.13 column/sec. Elapsed time 7.81 sec\n",
      "EvaluatorHoldout: Processed 35572 (100.0%) in 8.73 sec. Users per second: 4073\n"
     ]
    },
    {
     "name": "stderr",
     "output_type": "stream",
     "text": [
      "[I 2024-12-09 08:53:31,498] Trial 238 finished with value: 0.052337515997064016 and parameters: {'topK': 31, 'alpha': 0.3618816107568861}. Best is trial 101 with value: 0.054204765117559894.\n"
     ]
    },
    {
     "name": "stdout",
     "output_type": "stream",
     "text": [
      "P3alphaRecommender: Similarity column 38121 (100.0%), 4967.67 column/sec. Elapsed time 7.67 sec\n",
      "EvaluatorHoldout: Processed 35572 (100.0%) in 8.58 sec. Users per second: 4145\n"
     ]
    },
    {
     "name": "stderr",
     "output_type": "stream",
     "text": [
      "[I 2024-12-09 08:53:48,122] Trial 239 finished with value: 0.053715811571075155 and parameters: {'topK': 20, 'alpha': 0.35585848709459594}. Best is trial 101 with value: 0.054204765117559894.\n"
     ]
    },
    {
     "name": "stdout",
     "output_type": "stream",
     "text": [
      "P3alphaRecommender: Similarity column 38121 (100.0%), 5004.65 column/sec. Elapsed time 7.62 sec\n",
      "EvaluatorHoldout: Processed 35572 (100.0%) in 8.43 sec. Users per second: 4218\n"
     ]
    },
    {
     "name": "stderr",
     "output_type": "stream",
     "text": [
      "[I 2024-12-09 08:54:04,496] Trial 240 finished with value: 0.054035675910603854 and parameters: {'topK': 15, 'alpha': 0.3508698059347623}. Best is trial 101 with value: 0.054204765117559894.\n"
     ]
    },
    {
     "name": "stdout",
     "output_type": "stream",
     "text": [
      "P3alphaRecommender: Similarity column 38121 (100.0%), 5033.54 column/sec. Elapsed time 7.57 sec\n",
      "EvaluatorHoldout: Processed 35572 (100.0%) in 8.34 sec. Users per second: 4264\n"
     ]
    },
    {
     "name": "stderr",
     "output_type": "stream",
     "text": [
      "[I 2024-12-09 08:54:20,700] Trial 241 finished with value: 0.053877293805184516 and parameters: {'topK': 10, 'alpha': 0.35265204829155844}. Best is trial 101 with value: 0.054204765117559894.\n"
     ]
    },
    {
     "name": "stdout",
     "output_type": "stream",
     "text": [
      "P3alphaRecommender: Similarity column 38121 (100.0%), 2416.34 column/sec. Elapsed time 15.78 sec\n",
      "EvaluatorHoldout: Processed 35572 (100.0%) in 8.17 sec. Users per second: 4354\n"
     ]
    },
    {
     "name": "stderr",
     "output_type": "stream",
     "text": [
      "[I 2024-12-09 08:54:44,864] Trial 242 finished with value: 0.03690491473586187 and parameters: {'topK': 2, 'alpha': 0.352416229542934}. Best is trial 101 with value: 0.054204765117559894.\n"
     ]
    },
    {
     "name": "stdout",
     "output_type": "stream",
     "text": [
      "P3alphaRecommender: Similarity column 38121 (100.0%), 5015.16 column/sec. Elapsed time 7.60 sec\n",
      "EvaluatorHoldout: Processed 35572 (100.0%) in 8.47 sec. Users per second: 4200\n"
     ]
    },
    {
     "name": "stderr",
     "output_type": "stream",
     "text": [
      "[I 2024-12-09 08:55:01,267] Trial 243 finished with value: 0.053949817182765446 and parameters: {'topK': 16, 'alpha': 0.3516161501772891}. Best is trial 101 with value: 0.054204765117559894.\n"
     ]
    },
    {
     "name": "stdout",
     "output_type": "stream",
     "text": [
      "P3alphaRecommender: Similarity column 38121 (100.0%), 4952.30 column/sec. Elapsed time 7.70 sec\n",
      "EvaluatorHoldout: Processed 35572 (100.0%) in 8.60 sec. Users per second: 4134\n"
     ]
    },
    {
     "name": "stderr",
     "output_type": "stream",
     "text": [
      "[I 2024-12-09 08:55:17,956] Trial 244 finished with value: 0.0533737655262994 and parameters: {'topK': 22, 'alpha': 0.35288239887802664}. Best is trial 101 with value: 0.054204765117559894.\n"
     ]
    },
    {
     "name": "stdout",
     "output_type": "stream",
     "text": [
      "P3alphaRecommender: Similarity column 38121 (100.0%), 4946.64 column/sec. Elapsed time 7.71 sec\n",
      "EvaluatorHoldout: Processed 35572 (100.0%) in 8.42 sec. Users per second: 4225\n"
     ]
    },
    {
     "name": "stderr",
     "output_type": "stream",
     "text": [
      "[I 2024-12-09 08:55:34,393] Trial 245 finished with value: 0.05417757568374459 and parameters: {'topK': 13, 'alpha': 0.3533680417790152}. Best is trial 101 with value: 0.054204765117559894.\n"
     ]
    },
    {
     "name": "stdout",
     "output_type": "stream",
     "text": [
      "P3alphaRecommender: Similarity column 38121 (100.0%), 5060.08 column/sec. Elapsed time 7.53 sec\n",
      "EvaluatorHoldout: Processed 35572 (100.0%) in 8.31 sec. Users per second: 4278\n"
     ]
    },
    {
     "name": "stderr",
     "output_type": "stream",
     "text": [
      "[I 2024-12-09 08:55:50,515] Trial 246 finished with value: 0.053287229656282034 and parameters: {'topK': 8, 'alpha': 0.35484960073115956}. Best is trial 101 with value: 0.054204765117559894.\n"
     ]
    },
    {
     "name": "stdout",
     "output_type": "stream",
     "text": [
      "P3alphaRecommender: Similarity column 38121 (100.0%), 4912.11 column/sec. Elapsed time 7.76 sec\n",
      "EvaluatorHoldout: Processed 35572 (100.0%) in 8.62 sec. Users per second: 4125\n"
     ]
    },
    {
     "name": "stderr",
     "output_type": "stream",
     "text": [
      "[I 2024-12-09 08:56:07,302] Trial 247 finished with value: 0.053162192619840266 and parameters: {'topK': 24, 'alpha': 0.3534707020791868}. Best is trial 101 with value: 0.054204765117559894.\n"
     ]
    },
    {
     "name": "stdout",
     "output_type": "stream",
     "text": [
      "P3alphaRecommender: Similarity column 38121 (100.0%), 2418.58 column/sec. Elapsed time 15.76 sec\n",
      "EvaluatorHoldout: Processed 35572 (100.0%) in 8.21 sec. Users per second: 4335\n"
     ]
    },
    {
     "name": "stderr",
     "output_type": "stream",
     "text": [
      "[I 2024-12-09 08:56:31,486] Trial 248 finished with value: 0.036894781029843775 and parameters: {'topK': 2, 'alpha': 0.35007310948326686}. Best is trial 101 with value: 0.054204765117559894.\n"
     ]
    },
    {
     "name": "stdout",
     "output_type": "stream",
     "text": [
      "P3alphaRecommender: Similarity column 38121 (100.0%), 4953.45 column/sec. Elapsed time 7.70 sec\n",
      "EvaluatorHoldout: Processed 35572 (100.0%) in 8.41 sec. Users per second: 4229\n"
     ]
    },
    {
     "name": "stderr",
     "output_type": "stream",
     "text": [
      "[I 2024-12-09 08:56:47,910] Trial 249 finished with value: 0.05410751879933933 and parameters: {'topK': 14, 'alpha': 0.3543388160220038}. Best is trial 101 with value: 0.054204765117559894.\n"
     ]
    },
    {
     "name": "stdout",
     "output_type": "stream",
     "text": [
      "P3alphaRecommender: Similarity column 38121 (100.0%), 4886.83 column/sec. Elapsed time 7.80 sec\n",
      "EvaluatorHoldout: Processed 35572 (100.0%) in 8.71 sec. Users per second: 4085\n"
     ]
    },
    {
     "name": "stderr",
     "output_type": "stream",
     "text": [
      "[I 2024-12-09 08:57:04,877] Trial 250 finished with value: 0.05249259494269456 and parameters: {'topK': 30, 'alpha': 0.3571022617555279}. Best is trial 101 with value: 0.054204765117559894.\n"
     ]
    },
    {
     "name": "stdout",
     "output_type": "stream",
     "text": [
      "P3alphaRecommender: Similarity column 38121 (100.0%), 3101.82 column/sec. Elapsed time 12.29 sec\n",
      "EvaluatorHoldout: Processed 35572 (100.0%) in 12.82 sec. Users per second: 2776\n"
     ]
    },
    {
     "name": "stderr",
     "output_type": "stream",
     "text": [
      "[I 2024-12-09 08:57:33,839] Trial 251 finished with value: 0.03997931760132187 and parameters: {'topK': 339, 'alpha': 0.3725711886310037}. Best is trial 101 with value: 0.054204765117559894.\n"
     ]
    },
    {
     "name": "stdout",
     "output_type": "stream",
     "text": [
      "P3alphaRecommender: Similarity column 38121 (100.0%), 4975.11 column/sec. Elapsed time 7.66 sec\n",
      "EvaluatorHoldout: Processed 35572 (100.0%) in 8.50 sec. Users per second: 4184\n"
     ]
    },
    {
     "name": "stderr",
     "output_type": "stream",
     "text": [
      "[I 2024-12-09 08:57:50,345] Trial 252 finished with value: 0.05391631482046517 and parameters: {'topK': 17, 'alpha': 0.3554165997037241}. Best is trial 101 with value: 0.054204765117559894.\n"
     ]
    },
    {
     "name": "stdout",
     "output_type": "stream",
     "text": [
      "P3alphaRecommender: Similarity column 38121 (100.0%), 4983.26 column/sec. Elapsed time 7.65 sec\n",
      "EvaluatorHoldout: Processed 35572 (100.0%) in 8.33 sec. Users per second: 4270\n"
     ]
    },
    {
     "name": "stderr",
     "output_type": "stream",
     "text": [
      "[I 2024-12-09 08:58:06,595] Trial 253 finished with value: 0.05327402259490502 and parameters: {'topK': 8, 'alpha': 0.35368616414991616}. Best is trial 101 with value: 0.054204765117559894.\n"
     ]
    },
    {
     "name": "stdout",
     "output_type": "stream",
     "text": [
      "P3alphaRecommender: Similarity column 38121 (100.0%), 4906.12 column/sec. Elapsed time 7.77 sec\n",
      "EvaluatorHoldout: Processed 35572 (100.0%) in 8.55 sec. Users per second: 4159\n"
     ]
    },
    {
     "name": "stderr",
     "output_type": "stream",
     "text": [
      "[I 2024-12-09 08:58:23,307] Trial 254 finished with value: 0.0533991923824499 and parameters: {'topK': 22, 'alpha': 0.35827112674167527}. Best is trial 101 with value: 0.054204765117559894.\n"
     ]
    },
    {
     "name": "stdout",
     "output_type": "stream",
     "text": [
      "P3alphaRecommender: Similarity column 38121 (100.0%), 4957.79 column/sec. Elapsed time 7.69 sec\n",
      "EvaluatorHoldout: Processed 35572 (100.0%) in 8.38 sec. Users per second: 4245\n"
     ]
    },
    {
     "name": "stderr",
     "output_type": "stream",
     "text": [
      "[I 2024-12-09 08:58:39,685] Trial 255 finished with value: 0.05418104840796663 and parameters: {'topK': 12, 'alpha': 0.3515818357359554}. Best is trial 101 with value: 0.054204765117559894.\n"
     ]
    },
    {
     "name": "stdout",
     "output_type": "stream",
     "text": [
      "P3alphaRecommender: Similarity column 38121 (100.0%), 4995.76 column/sec. Elapsed time 7.63 sec\n",
      "EvaluatorHoldout: Processed 35572 (100.0%) in 8.35 sec. Users per second: 4258\n"
     ]
    },
    {
     "name": "stderr",
     "output_type": "stream",
     "text": [
      "[I 2024-12-09 08:58:55,940] Trial 256 finished with value: 0.05328855270508622 and parameters: {'topK': 8, 'alpha': 0.35476622497725274}. Best is trial 101 with value: 0.054204765117559894.\n"
     ]
    },
    {
     "name": "stdout",
     "output_type": "stream",
     "text": [
      "P3alphaRecommender: Similarity column 38121 (100.0%), 4812.07 column/sec. Elapsed time 7.92 sec\n",
      "EvaluatorHoldout: Processed 35572 (100.0%) in 8.67 sec. Users per second: 4104\n"
     ]
    },
    {
     "name": "stderr",
     "output_type": "stream",
     "text": [
      "[I 2024-12-09 08:59:12,958] Trial 257 finished with value: 0.05276248797431024 and parameters: {'topK': 27, 'alpha': 0.3513532105281796}. Best is trial 101 with value: 0.054204765117559894.\n"
     ]
    },
    {
     "name": "stdout",
     "output_type": "stream",
     "text": [
      "P3alphaRecommender: Similarity column 38121 (100.0%), 5008.88 column/sec. Elapsed time 7.61 sec\n",
      "EvaluatorHoldout: Processed 35572 (100.0%) in 8.47 sec. Users per second: 4200\n"
     ]
    },
    {
     "name": "stderr",
     "output_type": "stream",
     "text": [
      "[I 2024-12-09 08:59:29,368] Trial 258 finished with value: 0.05404833300312709 and parameters: {'topK': 15, 'alpha': 0.35609846502475384}. Best is trial 101 with value: 0.054204765117559894.\n"
     ]
    },
    {
     "name": "stdout",
     "output_type": "stream",
     "text": [
      "P3alphaRecommender: Similarity column 38121 (100.0%), 4843.08 column/sec. Elapsed time 7.87 sec\n",
      "EvaluatorHoldout: Processed 35572 (100.0%) in 8.80 sec. Users per second: 4041\n"
     ]
    },
    {
     "name": "stderr",
     "output_type": "stream",
     "text": [
      "[I 2024-12-09 08:59:46,543] Trial 259 finished with value: 0.05193232504966282 and parameters: {'topK': 35, 'alpha': 0.3632690458832952}. Best is trial 101 with value: 0.054204765117559894.\n"
     ]
    },
    {
     "name": "stdout",
     "output_type": "stream",
     "text": [
      "P3alphaRecommender: Similarity column 38121 (100.0%), 5046.95 column/sec. Elapsed time 7.55 sec\n",
      "EvaluatorHoldout: Processed 35572 (100.0%) in 8.37 sec. Users per second: 4252\n"
     ]
    },
    {
     "name": "stderr",
     "output_type": "stream",
     "text": [
      "[I 2024-12-09 09:00:02,736] Trial 260 finished with value: 0.05329541783353575 and parameters: {'topK': 8, 'alpha': 0.3500038202042881}. Best is trial 101 with value: 0.054204765117559894.\n"
     ]
    },
    {
     "name": "stdout",
     "output_type": "stream",
     "text": [
      "P3alphaRecommender: Similarity column 38121 (100.0%), 4969.46 column/sec. Elapsed time 7.67 sec\n",
      "EvaluatorHoldout: Processed 35572 (100.0%) in 8.60 sec. Users per second: 4137\n"
     ]
    },
    {
     "name": "stderr",
     "output_type": "stream",
     "text": [
      "[I 2024-12-09 09:00:19,386] Trial 261 finished with value: 0.05349631264290086 and parameters: {'topK': 21, 'alpha': 0.35298984035527387}. Best is trial 101 with value: 0.054204765117559894.\n"
     ]
    },
    {
     "name": "stdout",
     "output_type": "stream",
     "text": [
      "P3alphaRecommender: Similarity column 38121 (100.0%), 2414.90 column/sec. Elapsed time 15.79 sec\n",
      "EvaluatorHoldout: Processed 35572 (100.0%) in 8.23 sec. Users per second: 4323\n"
     ]
    },
    {
     "name": "stderr",
     "output_type": "stream",
     "text": [
      "[I 2024-12-09 09:00:43,621] Trial 262 finished with value: 0.036916680499553316 and parameters: {'topK': 2, 'alpha': 0.3540388854004182}. Best is trial 101 with value: 0.054204765117559894.\n"
     ]
    },
    {
     "name": "stdout",
     "output_type": "stream",
     "text": [
      "P3alphaRecommender: Similarity column 38121 (100.0%), 4396.22 column/sec. Elapsed time 8.67 sec\n",
      "EvaluatorHoldout: Processed 35572 (100.0%) in 9.64 sec. Users per second: 3691\n"
     ]
    },
    {
     "name": "stderr",
     "output_type": "stream",
     "text": [
      "[I 2024-12-09 09:01:02,987] Trial 263 finished with value: 0.04793345800781232 and parameters: {'topK': 92, 'alpha': 0.3611452423477363}. Best is trial 101 with value: 0.054204765117559894.\n"
     ]
    },
    {
     "name": "stdout",
     "output_type": "stream",
     "text": [
      "P3alphaRecommender: Similarity column 38121 (100.0%), 5031.14 column/sec. Elapsed time 7.58 sec\n",
      "EvaluatorHoldout: Processed 35572 (100.0%) in 8.43 sec. Users per second: 4219\n"
     ]
    },
    {
     "name": "stderr",
     "output_type": "stream",
     "text": [
      "[I 2024-12-09 09:01:19,312] Trial 264 finished with value: 0.054202859748792964 and parameters: {'topK': 13, 'alpha': 0.35650966194302725}. Best is trial 101 with value: 0.054204765117559894.\n"
     ]
    },
    {
     "name": "stdout",
     "output_type": "stream",
     "text": [
      "P3alphaRecommender: Similarity column 38121 (100.0%), 2414.56 column/sec. Elapsed time 15.79 sec\n",
      "EvaluatorHoldout: Processed 35572 (100.0%) in 8.15 sec. Users per second: 4364\n"
     ]
    },
    {
     "name": "stderr",
     "output_type": "stream",
     "text": [
      "[I 2024-12-09 09:01:43,472] Trial 265 finished with value: 0.03693003927647614 and parameters: {'topK': 2, 'alpha': 0.35705651566532554}. Best is trial 101 with value: 0.054204765117559894.\n"
     ]
    },
    {
     "name": "stdout",
     "output_type": "stream",
     "text": [
      "P3alphaRecommender: Similarity column 38121 (100.0%), 4944.33 column/sec. Elapsed time 7.71 sec\n",
      "EvaluatorHoldout: Processed 35572 (100.0%) in 8.60 sec. Users per second: 4137\n"
     ]
    },
    {
     "name": "stderr",
     "output_type": "stream",
     "text": [
      "[I 2024-12-09 09:02:00,183] Trial 266 finished with value: 0.05315894300671484 and parameters: {'topK': 24, 'alpha': 0.3563543698358796}. Best is trial 101 with value: 0.054204765117559894.\n"
     ]
    },
    {
     "name": "stdout",
     "output_type": "stream",
     "text": [
      "P3alphaRecommender: Similarity column 38121 (100.0%), 5031.33 column/sec. Elapsed time 7.58 sec\n",
      "EvaluatorHoldout: Processed 35572 (100.0%) in 8.40 sec. Users per second: 4232\n"
     ]
    },
    {
     "name": "stderr",
     "output_type": "stream",
     "text": [
      "[I 2024-12-09 09:02:16,483] Trial 267 finished with value: 0.05418661502983268 and parameters: {'topK': 13, 'alpha': 0.3551206747823838}. Best is trial 101 with value: 0.054204765117559894.\n"
     ]
    },
    {
     "name": "stdout",
     "output_type": "stream",
     "text": [
      "P3alphaRecommender: Similarity column 38121 (100.0%), 5049.86 column/sec. Elapsed time 7.55 sec\n",
      "EvaluatorHoldout: Processed 35572 (100.0%) in 8.35 sec. Users per second: 4258\n"
     ]
    },
    {
     "name": "stderr",
     "output_type": "stream",
     "text": [
      "[I 2024-12-09 09:02:32,685] Trial 268 finished with value: 0.05387743101850909 and parameters: {'topK': 10, 'alpha': 0.35567701313635913}. Best is trial 101 with value: 0.054204765117559894.\n"
     ]
    },
    {
     "name": "stdout",
     "output_type": "stream",
     "text": [
      "P3alphaRecommender: Similarity column 38121 (100.0%), 4827.40 column/sec. Elapsed time 7.90 sec\n",
      "EvaluatorHoldout: Processed 35572 (100.0%) in 8.74 sec. Users per second: 4068\n"
     ]
    },
    {
     "name": "stderr",
     "output_type": "stream",
     "text": [
      "[I 2024-12-09 09:02:49,791] Trial 269 finished with value: 0.05228592936480998 and parameters: {'topK': 31, 'alpha': 0.3567972592072095}. Best is trial 101 with value: 0.054204765117559894.\n"
     ]
    },
    {
     "name": "stdout",
     "output_type": "stream",
     "text": [
      "P3alphaRecommender: Similarity column 38121 (100.0%), 4976.83 column/sec. Elapsed time 7.66 sec\n",
      "EvaluatorHoldout: Processed 35572 (100.0%) in 8.50 sec. Users per second: 4186\n"
     ]
    },
    {
     "name": "stderr",
     "output_type": "stream",
     "text": [
      "[I 2024-12-09 09:03:06,302] Trial 270 finished with value: 0.05391083298081603 and parameters: {'topK': 18, 'alpha': 0.3552306906139366}. Best is trial 101 with value: 0.054204765117559894.\n"
     ]
    },
    {
     "name": "stdout",
     "output_type": "stream",
     "text": [
      "P3alphaRecommender: Similarity column 38121 (100.0%), 4907.70 column/sec. Elapsed time 7.77 sec\n",
      "EvaluatorHoldout: Processed 35572 (100.0%) in 8.61 sec. Users per second: 4133\n"
     ]
    },
    {
     "name": "stderr",
     "output_type": "stream",
     "text": [
      "[I 2024-12-09 09:03:23,071] Trial 271 finished with value: 0.053342774279394094 and parameters: {'topK': 23, 'alpha': 0.35777124075503786}. Best is trial 101 with value: 0.054204765117559894.\n"
     ]
    },
    {
     "name": "stdout",
     "output_type": "stream",
     "text": [
      "P3alphaRecommender: Similarity column 38121 (100.0%), 4968.22 column/sec. Elapsed time 7.67 sec\n",
      "EvaluatorHoldout: Processed 35572 (100.0%) in 8.35 sec. Users per second: 4260\n"
     ]
    },
    {
     "name": "stderr",
     "output_type": "stream",
     "text": [
      "[I 2024-12-09 09:03:39,383] Trial 272 finished with value: 0.05367729924909521 and parameters: {'topK': 9, 'alpha': 0.375156833727682}. Best is trial 101 with value: 0.054204765117559894.\n"
     ]
    },
    {
     "name": "stdout",
     "output_type": "stream",
     "text": [
      "P3alphaRecommender: Similarity column 38121 (100.0%), 4080.48 column/sec. Elapsed time 9.34 sec\n",
      "EvaluatorHoldout: Processed 35572 (100.0%) in 10.28 sec. Users per second: 3460\n"
     ]
    },
    {
     "name": "stderr",
     "output_type": "stream",
     "text": [
      "[I 2024-12-09 09:04:00,507] Trial 273 finished with value: 0.04585967159831236 and parameters: {'topK': 133, 'alpha': 0.3545905947719596}. Best is trial 101 with value: 0.054204765117559894.\n"
     ]
    },
    {
     "name": "stdout",
     "output_type": "stream",
     "text": [
      "P3alphaRecommender: Similarity column 38121 (100.0%), 5012.38 column/sec. Elapsed time 7.61 sec\n",
      "EvaluatorHoldout: Processed 35572 (100.0%) in 8.50 sec. Users per second: 4183\n"
     ]
    },
    {
     "name": "stderr",
     "output_type": "stream",
     "text": [
      "[I 2024-12-09 09:04:16,963] Trial 274 finished with value: 0.05391570572717082 and parameters: {'topK': 17, 'alpha': 0.3560429236585766}. Best is trial 101 with value: 0.054204765117559894.\n"
     ]
    },
    {
     "name": "stdout",
     "output_type": "stream",
     "text": [
      "P3alphaRecommender: Similarity column 38121 (100.0%), 4714.14 column/sec. Elapsed time 8.09 sec\n",
      "EvaluatorHoldout: Processed 35572 (100.0%) in 8.94 sec. Users per second: 3978\n"
     ]
    },
    {
     "name": "stderr",
     "output_type": "stream",
     "text": [
      "[I 2024-12-09 09:04:34,556] Trial 275 finished with value: 0.05122867169469662 and parameters: {'topK': 42, 'alpha': 0.35541171923994175}. Best is trial 101 with value: 0.054204765117559894.\n"
     ]
    },
    {
     "name": "stdout",
     "output_type": "stream",
     "text": [
      "P3alphaRecommender: Similarity column 38121 (100.0%), 5060.35 column/sec. Elapsed time 7.53 sec\n",
      "EvaluatorHoldout: Processed 35572 (100.0%) in 8.32 sec. Users per second: 4276\n"
     ]
    },
    {
     "name": "stderr",
     "output_type": "stream",
     "text": [
      "[I 2024-12-09 09:04:50,681] Trial 276 finished with value: 0.053275115839279505 and parameters: {'topK': 8, 'alpha': 0.3536511732425959}. Best is trial 101 with value: 0.054204765117559894.\n"
     ]
    },
    {
     "name": "stdout",
     "output_type": "stream",
     "text": [
      "P3alphaRecommender: Similarity column 38121 (100.0%), 2419.13 column/sec. Elapsed time 15.76 sec\n",
      "EvaluatorHoldout: Processed 35572 (100.0%) in 8.19 sec. Users per second: 4341\n"
     ]
    },
    {
     "name": "stderr",
     "output_type": "stream",
     "text": [
      "[I 2024-12-09 09:05:14,853] Trial 277 finished with value: 0.03691033187329297 and parameters: {'topK': 2, 'alpha': 0.35074958423731395}. Best is trial 101 with value: 0.054204765117559894.\n"
     ]
    },
    {
     "name": "stdout",
     "output_type": "stream",
     "text": [
      "P3alphaRecommender: Similarity column 38121 (100.0%), 4900.01 column/sec. Elapsed time 7.78 sec\n",
      "EvaluatorHoldout: Processed 35572 (100.0%) in 8.71 sec. Users per second: 4086\n"
     ]
    },
    {
     "name": "stderr",
     "output_type": "stream",
     "text": [
      "[I 2024-12-09 09:05:31,786] Trial 278 finished with value: 0.05257596932846958 and parameters: {'topK': 29, 'alpha': 0.3574605164205474}. Best is trial 101 with value: 0.054204765117559894.\n"
     ]
    },
    {
     "name": "stdout",
     "output_type": "stream",
     "text": [
      "P3alphaRecommender: Similarity column 38121 (100.0%), 4976.02 column/sec. Elapsed time 7.66 sec\n",
      "EvaluatorHoldout: Processed 35572 (100.0%) in 8.57 sec. Users per second: 4150\n"
     ]
    },
    {
     "name": "stderr",
     "output_type": "stream",
     "text": [
      "[I 2024-12-09 09:05:48,396] Trial 279 finished with value: 0.053495948971813014 and parameters: {'topK': 21, 'alpha': 0.3544551844038213}. Best is trial 101 with value: 0.054204765117559894.\n"
     ]
    },
    {
     "name": "stdout",
     "output_type": "stream",
     "text": [
      "P3alphaRecommender: Similarity column 38121 (100.0%), 5048.33 column/sec. Elapsed time 7.55 sec\n",
      "EvaluatorHoldout: Processed 35572 (100.0%) in 8.45 sec. Users per second: 4209\n"
     ]
    },
    {
     "name": "stderr",
     "output_type": "stream",
     "text": [
      "[I 2024-12-09 09:06:04,716] Trial 280 finished with value: 0.05420051038894332 and parameters: {'topK': 13, 'alpha': 0.35935018901375043}. Best is trial 101 with value: 0.054204765117559894.\n"
     ]
    },
    {
     "name": "stdout",
     "output_type": "stream",
     "text": [
      "P3alphaRecommender: Similarity column 38121 (100.0%), 5045.28 column/sec. Elapsed time 7.56 sec\n",
      "EvaluatorHoldout: Processed 35572 (100.0%) in 8.42 sec. Users per second: 4225\n"
     ]
    },
    {
     "name": "stderr",
     "output_type": "stream",
     "text": [
      "[I 2024-12-09 09:06:20,986] Trial 281 finished with value: 0.054131808904451 and parameters: {'topK': 11, 'alpha': 0.356711829981273}. Best is trial 101 with value: 0.054204765117559894.\n"
     ]
    },
    {
     "name": "stdout",
     "output_type": "stream",
     "text": [
      "P3alphaRecommender: Similarity column 38121 (100.0%), 5029.48 column/sec. Elapsed time 7.58 sec\n",
      "EvaluatorHoldout: Processed 35572 (100.0%) in 8.35 sec. Users per second: 4261\n"
     ]
    },
    {
     "name": "stderr",
     "output_type": "stream",
     "text": [
      "[I 2024-12-09 09:06:37,204] Trial 282 finished with value: 0.0539008811103416 and parameters: {'topK': 10, 'alpha': 0.3591399902918741}. Best is trial 101 with value: 0.054204765117559894.\n"
     ]
    },
    {
     "name": "stdout",
     "output_type": "stream",
     "text": [
      "P3alphaRecommender: Similarity column 38121 (100.0%), 4810.85 column/sec. Elapsed time 7.92 sec\n",
      "EvaluatorHoldout: Processed 35572 (100.0%) in 8.76 sec. Users per second: 4061\n"
     ]
    },
    {
     "name": "stderr",
     "output_type": "stream",
     "text": [
      "[I 2024-12-09 09:06:54,386] Trial 283 finished with value: 0.05194225684013831 and parameters: {'topK': 35, 'alpha': 0.35780729500987146}. Best is trial 101 with value: 0.054204765117559894.\n"
     ]
    },
    {
     "name": "stdout",
     "output_type": "stream",
     "text": [
      "P3alphaRecommender: Similarity column 38121 (100.0%), 4887.52 column/sec. Elapsed time 7.80 sec\n",
      "EvaluatorHoldout: Processed 35572 (100.0%) in 8.60 sec. Users per second: 4138\n"
     ]
    },
    {
     "name": "stderr",
     "output_type": "stream",
     "text": [
      "[I 2024-12-09 09:07:11,167] Trial 284 finished with value: 0.05340056786236187 and parameters: {'topK': 22, 'alpha': 0.35853086131041056}. Best is trial 101 with value: 0.054204765117559894.\n"
     ]
    },
    {
     "name": "stdout",
     "output_type": "stream",
     "text": [
      "P3alphaRecommender: Similarity column 38121 (100.0%), 2412.64 column/sec. Elapsed time 15.80 sec\n",
      "EvaluatorHoldout: Processed 35572 (100.0%) in 8.25 sec. Users per second: 4311\n"
     ]
    },
    {
     "name": "stderr",
     "output_type": "stream",
     "text": [
      "[I 2024-12-09 09:07:35,439] Trial 285 finished with value: 0.036908181082319504 and parameters: {'topK': 2, 'alpha': 0.3560881503697966}. Best is trial 101 with value: 0.054204765117559894.\n"
     ]
    },
    {
     "name": "stdout",
     "output_type": "stream",
     "text": [
      "P3alphaRecommender: Similarity column 38121 (100.0%), 5007.62 column/sec. Elapsed time 7.61 sec\n",
      "EvaluatorHoldout: Processed 35572 (100.0%) in 8.48 sec. Users per second: 4196\n"
     ]
    },
    {
     "name": "stderr",
     "output_type": "stream",
     "text": [
      "[I 2024-12-09 09:07:51,855] Trial 286 finished with value: 0.054042730683485675 and parameters: {'topK': 15, 'alpha': 0.3587951082799399}. Best is trial 101 with value: 0.054204765117559894.\n"
     ]
    },
    {
     "name": "stdout",
     "output_type": "stream",
     "text": [
      "P3alphaRecommender: Similarity column 38121 (100.0%), 4903.17 column/sec. Elapsed time 7.77 sec\n",
      "EvaluatorHoldout: Processed 35572 (100.0%) in 8.62 sec. Users per second: 4126\n"
     ]
    },
    {
     "name": "stderr",
     "output_type": "stream",
     "text": [
      "[I 2024-12-09 09:08:08,664] Trial 287 finished with value: 0.05302663812629341 and parameters: {'topK': 25, 'alpha': 0.36003227830201584}. Best is trial 101 with value: 0.054204765117559894.\n"
     ]
    },
    {
     "name": "stdout",
     "output_type": "stream",
     "text": [
      "P3alphaRecommender: Similarity column 38121 (100.0%), 5012.12 column/sec. Elapsed time 7.61 sec\n",
      "EvaluatorHoldout: Processed 35572 (100.0%) in 8.39 sec. Users per second: 4242\n"
     ]
    },
    {
     "name": "stderr",
     "output_type": "stream",
     "text": [
      "[I 2024-12-09 09:08:24,938] Trial 288 finished with value: 0.05388724567565871 and parameters: {'topK': 10, 'alpha': 0.35731360118711036}. Best is trial 101 with value: 0.054204765117559894.\n"
     ]
    },
    {
     "name": "stdout",
     "output_type": "stream",
     "text": [
      "P3alphaRecommender: Similarity column 38121 (100.0%), 4939.74 column/sec. Elapsed time 7.72 sec\n",
      "EvaluatorHoldout: Processed 35572 (100.0%) in 8.46 sec. Users per second: 4205\n"
     ]
    },
    {
     "name": "stderr",
     "output_type": "stream",
     "text": [
      "[I 2024-12-09 09:08:41,444] Trial 289 finished with value: 0.05404416751894924 and parameters: {'topK': 15, 'alpha': 0.3564529719139636}. Best is trial 101 with value: 0.054204765117559894.\n"
     ]
    },
    {
     "name": "stdout",
     "output_type": "stream",
     "text": [
      "P3alphaRecommender: Similarity column 38121 (100.0%), 4806.71 column/sec. Elapsed time 7.93 sec\n",
      "EvaluatorHoldout: Processed 35572 (100.0%) in 8.72 sec. Users per second: 4082\n"
     ]
    },
    {
     "name": "stderr",
     "output_type": "stream",
     "text": [
      "[I 2024-12-09 09:08:58,549] Trial 290 finished with value: 0.052499214648937566 and parameters: {'topK': 30, 'alpha': 0.35674939908533504}. Best is trial 101 with value: 0.054204765117559894.\n"
     ]
    },
    {
     "name": "stdout",
     "output_type": "stream",
     "text": [
      "P3alphaRecommender: Similarity column 38121 (100.0%), 2431.67 column/sec. Elapsed time 15.68 sec\n",
      "EvaluatorHoldout: Processed 35572 (100.0%) in 8.18 sec. Users per second: 4350\n"
     ]
    },
    {
     "name": "stderr",
     "output_type": "stream",
     "text": [
      "[I 2024-12-09 09:09:22,623] Trial 291 finished with value: 0.036961000403383515 and parameters: {'topK': 2, 'alpha': 0.3594152065895845}. Best is trial 101 with value: 0.054204765117559894.\n"
     ]
    },
    {
     "name": "stdout",
     "output_type": "stream",
     "text": [
      "P3alphaRecommender: Similarity column 38121 (100.0%), 4941.30 column/sec. Elapsed time 7.71 sec\n",
      "EvaluatorHoldout: Processed 35572 (100.0%) in 8.54 sec. Users per second: 4164\n"
     ]
    },
    {
     "name": "stderr",
     "output_type": "stream",
     "text": [
      "[I 2024-12-09 09:09:39,241] Trial 292 finished with value: 0.053784194006698614 and parameters: {'topK': 19, 'alpha': 0.36082287670610524}. Best is trial 101 with value: 0.054204765117559894.\n"
     ]
    },
    {
     "name": "stdout",
     "output_type": "stream",
     "text": [
      "P3alphaRecommender: Similarity column 38121 (100.0%), 5013.37 column/sec. Elapsed time 7.60 sec\n",
      "EvaluatorHoldout: Processed 35572 (100.0%) in 8.37 sec. Users per second: 4252\n"
     ]
    },
    {
     "name": "stderr",
     "output_type": "stream",
     "text": [
      "[I 2024-12-09 09:09:55,500] Trial 293 finished with value: 0.053880267876105316 and parameters: {'topK': 10, 'alpha': 0.35564310986542097}. Best is trial 101 with value: 0.054204765117559894.\n"
     ]
    },
    {
     "name": "stdout",
     "output_type": "stream",
     "text": [
      "P3alphaRecommender: Similarity column 38121 (100.0%), 4925.84 column/sec. Elapsed time 7.74 sec\n",
      "EvaluatorHoldout: Processed 35572 (100.0%) in 8.55 sec. Users per second: 4162\n"
     ]
    },
    {
     "name": "stderr",
     "output_type": "stream",
     "text": [
      "[I 2024-12-09 09:10:12,144] Trial 294 finished with value: 0.05379382013497142 and parameters: {'topK': 19, 'alpha': 0.3616797381937312}. Best is trial 101 with value: 0.054204765117559894.\n"
     ]
    },
    {
     "name": "stdout",
     "output_type": "stream",
     "text": [
      "P3alphaRecommender: Similarity column 38121 (100.0%), 4828.28 column/sec. Elapsed time 7.90 sec\n",
      "EvaluatorHoldout: Processed 35572 (100.0%) in 8.68 sec. Users per second: 4097\n"
     ]
    },
    {
     "name": "stderr",
     "output_type": "stream",
     "text": [
      "[I 2024-12-09 09:10:29,151] Trial 295 finished with value: 0.05274599894869887 and parameters: {'topK': 27, 'alpha': 0.3549132134981945}. Best is trial 101 with value: 0.054204765117559894.\n"
     ]
    },
    {
     "name": "stdout",
     "output_type": "stream",
     "text": [
      "P3alphaRecommender: Similarity column 38121 (100.0%), 5081.83 column/sec. Elapsed time 7.50 sec\n",
      "EvaluatorHoldout: Processed 35572 (100.0%) in 8.41 sec. Users per second: 4229\n"
     ]
    },
    {
     "name": "stderr",
     "output_type": "stream",
     "text": [
      "[I 2024-12-09 09:10:45,346] Trial 296 finished with value: 0.0536219520793042 and parameters: {'topK': 9, 'alpha': 0.3579602261646569}. Best is trial 101 with value: 0.054204765117559894.\n"
     ]
    },
    {
     "name": "stdout",
     "output_type": "stream",
     "text": [
      "P3alphaRecommender: Similarity column 38121 (100.0%), 4852.38 column/sec. Elapsed time 7.86 sec\n",
      "EvaluatorHoldout: Processed 35572 (100.0%) in 8.78 sec. Users per second: 4050\n"
     ]
    },
    {
     "name": "stderr",
     "output_type": "stream",
     "text": [
      "[I 2024-12-09 09:11:02,485] Trial 297 finished with value: 0.05193420476065364 and parameters: {'topK': 35, 'alpha': 0.35649162064736145}. Best is trial 101 with value: 0.054204765117559894.\n"
     ]
    },
    {
     "name": "stdout",
     "output_type": "stream",
     "text": [
      "P3alphaRecommender: Similarity column 38121 (100.0%), 5014.79 column/sec. Elapsed time 7.60 sec\n",
      "EvaluatorHoldout: Processed 35572 (100.0%) in 8.50 sec. Users per second: 4187\n"
     ]
    },
    {
     "name": "stderr",
     "output_type": "stream",
     "text": [
      "[I 2024-12-09 09:11:18,922] Trial 298 finished with value: 0.05394699259627957 and parameters: {'topK': 16, 'alpha': 0.3549334113308688}. Best is trial 101 with value: 0.054204765117559894.\n"
     ]
    },
    {
     "name": "stdout",
     "output_type": "stream",
     "text": [
      "P3alphaRecommender: Similarity column 38121 (100.0%), 5082.31 column/sec. Elapsed time 7.50 sec\n",
      "EvaluatorHoldout: Processed 35572 (100.0%) in 8.31 sec. Users per second: 4279\n"
     ]
    },
    {
     "name": "stderr",
     "output_type": "stream",
     "text": [
      "[I 2024-12-09 09:11:35,008] Trial 299 finished with value: 0.05328089553224295 and parameters: {'topK': 8, 'alpha': 0.3511059201165217}. Best is trial 101 with value: 0.054204765117559894.\n"
     ]
    }
   ],
   "source": [
    "optuna_study_alpha = op.create_study(direction=\"maximize\")\n",
    "        \n",
    "save_results_alpha = SaveResults()\n",
    "        \n",
    "optuna_study_alpha.optimize(objective_function_P3_alpha,\n",
    "                      callbacks=[save_results_alpha],\n",
    "                      n_trials = 300)"
   ]
  },
  {
   "cell_type": "code",
   "execution_count": 17,
   "id": "d279debb-045e-47b1-bfb6-e43400667014",
   "metadata": {},
   "outputs": [],
   "source": [
    "save_results_alpha.results_df.to_csv(\"result_experiments/RP3alpha/results_optuna.csv\")"
   ]
  },
  {
   "cell_type": "code",
   "execution_count": null,
   "id": "188a8e35-b16a-416d-9255-ac1073dfacc3",
   "metadata": {},
   "outputs": [],
   "source": []
  }
 ],
 "metadata": {
  "kernelspec": {
   "display_name": "RecSys",
   "language": "python",
   "name": "recsys"
  },
  "language_info": {
   "codemirror_mode": {
    "name": "ipython",
    "version": 3
   },
   "file_extension": ".py",
   "mimetype": "text/x-python",
   "name": "python",
   "nbconvert_exporter": "python",
   "pygments_lexer": "ipython3",
   "version": "3.12.7"
  }
 },
 "nbformat": 4,
 "nbformat_minor": 5
}
