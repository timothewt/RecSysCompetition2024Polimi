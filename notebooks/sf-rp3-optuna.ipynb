{
 "cells": [
  {
   "cell_type": "code",
   "execution_count": 1,
   "id": "dc231a90-4821-4f26-8eb4-b4b418da8897",
   "metadata": {},
   "outputs": [],
   "source": [
    "from pathlib import Path\n",
    "import sys  \n",
    "import os\n",
    "import pandas as pd \n",
    "from datetime import datetime\n",
    "import scipy.sparse as sps\n",
    "from numpy import linalg as LA\n",
    "\n",
    "import numpy as np\n",
    "from operator import itemgetter\n",
    "import optuna as op"
   ]
  },
  {
   "cell_type": "code",
   "execution_count": 2,
   "id": "11c83552-c9df-4e0d-9164-7e10118e8359",
   "metadata": {},
   "outputs": [],
   "source": [
    "sys.path.append(os.path.abspath(os.path.join(os.getcwd(), \"..\", \"libs\")))\n",
    "sys.path.append(os.path.abspath(os.path.join(os.getcwd(), \"..\")))\n",
    "sys.path.append(os.path.abspath(os.path.join(os.getcwd(), \"..\", \"src\")))"
   ]
  },
  {
   "cell_type": "code",
   "execution_count": 3,
   "id": "0db8443d-c2d1-4e45-9480-cb5824990dd7",
   "metadata": {},
   "outputs": [],
   "source": [
    "%load_ext autoreload\n",
    "%autoreload 2"
   ]
  },
  {
   "cell_type": "code",
   "execution_count": 5,
   "id": "f43db32c-a970-4075-a6ca-c5da51c7b5a0",
   "metadata": {},
   "outputs": [],
   "source": [
    "from Utils.load_URM import load_URM\n",
    "from Utils.load_ICM import load_ICM\n",
    "\n",
    "from scipy.sparse import hstack, vstack\n",
    "from Evaluation.Evaluator import EvaluatorHoldout\n",
    "from Data_manager.split_functions.split_train_validation_random_holdout import split_train_in_two_percentage_global_sample\n",
    "\n",
    "URM_all = load_URM(\"../data/data_train.csv\")\n",
    "ICM_all = load_ICM(\"../data/data_ICM_metadata.csv\")"
   ]
  },
  {
   "cell_type": "code",
   "execution_count": 6,
   "id": "59e11a1c-dfaf-4416-8620-d6563e8c76f1",
   "metadata": {},
   "outputs": [],
   "source": [
    "URM_train = sps.load_npz(\"URM_train_ens.npz\")\n",
    "URM_val = sps.load_npz(\"URM_val_ens.npz\")\n",
    "URM_test = sps.load_npz(\"URM_test_ens.npz\")\n",
    "\n",
    "URM_train_val = sps.load_npz(\"URM_train_val_ens.npz\")"
   ]
  },
  {
   "cell_type": "code",
   "execution_count": 9,
   "id": "36639247-e89c-4d6d-b57c-4c97144e7ae7",
   "metadata": {},
   "outputs": [
    {
     "name": "stdout",
     "output_type": "stream",
     "text": [
      "EvaluatorHoldout: Ignoring 527 ( 1.5%) Users that have less than 1 test interactions\n"
     ]
    }
   ],
   "source": [
    "evaluator_validation = EvaluatorHoldout(URM_test, cutoff_list=[10])"
   ]
  },
  {
   "cell_type": "code",
   "execution_count": 10,
   "id": "88af5776-1dd5-43d1-9ad3-bee677280941",
   "metadata": {},
   "outputs": [],
   "source": [
    "from libs.Recommenders.GraphBased.RP3betaRecommender import RP3betaRecommender\n",
    "from libs.Recommenders.GraphBased.P3alphaRecommender import P3alphaRecommender"
   ]
  },
  {
   "cell_type": "code",
   "execution_count": 11,
   "id": "4fd93d98-bc15-48d0-b4c9-168b14ab43b3",
   "metadata": {},
   "outputs": [],
   "source": [
    "def objective_function_P3_beta(optuna_trial):\n",
    "       \n",
    "        \n",
    "    recommender_instance = RP3betaRecommender(URM_train_val)\n",
    "    recommender_instance.fit(topK = optuna_trial.suggest_int(\"topK\", 2, 40),\n",
    "                             alpha = optuna_trial.suggest_float(\"alpha\", 0.2, 0.5),\n",
    "                             beta = optuna_trial.suggest_float(\"beta\", 0.1, 0.3),\n",
    "                             normalize_similarity = optuna_trial.suggest_categorical('normalize_similarity', [True, False]),\n",
    "                             implicit = optuna_trial.suggest_categorical('implicit', [True, False])\n",
    "                            )\n",
    "    \n",
    "    eval_res, _ = evaluator_validation.evaluateRecommender(recommender_instance) \n",
    "    \n",
    "    # Save MAP alongside RECALL\n",
    "    trial_results = {\n",
    "        \"RECALL\": eval_res[\"RECALL\"][10],\n",
    "        \"MAP\": eval_res[\"MAP\"][10]  # Save MAP for reference\n",
    "    }\n",
    "    \n",
    "    # Save the MAP value to the optuna trial user attributes for later use\n",
    "    optuna_trial.set_user_attr(\"MAP\", trial_results[\"MAP\"])\n",
    "    \n",
    "    # Return RECALL for optimization\n",
    "    return trial_results[\"MAP\"]"
   ]
  },
  {
   "cell_type": "code",
   "execution_count": 10,
   "id": "191f53e5-1242-4562-b600-bc8eac5a04b7",
   "metadata": {},
   "outputs": [],
   "source": [
    "def objective_function_P3_alpha(optuna_trial):\n",
    "    recommender_instance = P3alphaRecommender(URM_train)\n",
    "    recommender_instance.fit(topK = optuna_trial.suggest_int(\"topK\", 2, 50),\n",
    "                             alpha = optuna_trial.suggest_float(\"alpha\",0.2, 0.7, log=False),\n",
    "                             normalize_similarity= True\n",
    "                            )\n",
    "    \n",
    "    eval_res, _ = evaluator_validation.evaluateRecommender(recommender_instance)  \n",
    "    \n",
    "    trial_results = {\n",
    "        \"RECALL\": eval_res[\"RECALL\"][10],\n",
    "        \"MAP\": eval_res[\"MAP\"][10]  # Save MAP for reference\n",
    "    }\n",
    "    \n",
    "    # Save the MAP value to the optuna trial user attributes for later use\n",
    "    optuna_trial.set_user_attr(\"MAP\", trial_results[\"MAP\"])\n",
    "    \n",
    "    # Return RECALL for optimization\n",
    "    return trial_results[\"MAP\"]"
   ]
  },
  {
   "cell_type": "code",
   "execution_count": 12,
   "id": "aef59de3-63d7-4b0a-916f-d3be0a632a6f",
   "metadata": {},
   "outputs": [],
   "source": [
    "class SaveResults(object):\n",
    "    def __init__(self, file_path=None):\n",
    "        self.file_path = file_path\n",
    "        self.results = []\n",
    "    \n",
    "    def __call__(self, optuna_study, optuna_trial):\n",
    "        trial_result = optuna_trial.params.copy()\n",
    "        trial_result[\"iteration\"] = optuna_trial.number\n",
    "        trial_result[\"RECALL\"] = optuna_trial.value\n",
    "        \n",
    "        # Retrieve the MAP metric from user attributes\n",
    "        trial_result[\"MAP\"] = optuna_trial.user_attrs.get(\"MAP\")\n",
    "        \n",
    "        self.results.append(trial_result)\n",
    "        \n",
    "        # Convert to DataFrame and save to CSV\n",
    "        results_df = pd.DataFrame(self.results)\n",
    "        results_df.to_csv(self.file_path, index=False)\n"
   ]
  },
  {
   "cell_type": "code",
   "execution_count": 13,
   "id": "38d51640-fade-4813-bd8e-e2e6c97a4369",
   "metadata": {
    "scrolled": true
   },
   "outputs": [
    {
     "name": "stderr",
     "output_type": "stream",
     "text": [
      "[I 2025-01-06 23:54:23,379] A new study created in memory with name: no-name-5b3aba08-4f54-4bb2-9dd9-6a67d9afc437\n"
     ]
    },
    {
     "name": "stdout",
     "output_type": "stream",
     "text": [
      "RP3betaRecommender: Similarity column 38121 (100.0%), 3799.47 column/sec. Elapsed time 10.03 sec\n",
      "EvaluatorHoldout: Processed 35209 (100.0%) in 9.71 sec. Users per second: 3628\n"
     ]
    },
    {
     "name": "stderr",
     "output_type": "stream",
     "text": [
      "[I 2025-01-06 23:54:43,650] Trial 0 finished with value: 0.031304758613755465 and parameters: {'topK': 29, 'alpha': 0.23305880505601254, 'beta': 0.18924077070615128, 'normalize_similarity': False, 'implicit': False}. Best is trial 0 with value: 0.031304758613755465.\n"
     ]
    },
    {
     "name": "stdout",
     "output_type": "stream",
     "text": [
      "RP3betaRecommender: Similarity column 38121 (100.0%), 3665.48 column/sec. Elapsed time 10.40 sec\n",
      "EvaluatorHoldout: Processed 35209 (100.0%) in 9.66 sec. Users per second: 3645\n"
     ]
    },
    {
     "name": "stderr",
     "output_type": "stream",
     "text": [
      "[I 2025-01-06 23:55:04,228] Trial 1 finished with value: 0.030822800988382824 and parameters: {'topK': 28, 'alpha': 0.23146757332049514, 'beta': 0.1580950906437779, 'normalize_similarity': False, 'implicit': False}. Best is trial 0 with value: 0.031304758613755465.\n"
     ]
    },
    {
     "name": "stdout",
     "output_type": "stream",
     "text": [
      "RP3betaRecommender: Similarity column 38121 (100.0%), 3560.67 column/sec. Elapsed time 10.71 sec\n",
      "EvaluatorHoldout: Processed 35209 (100.0%) in 9.58 sec. Users per second: 3677\n"
     ]
    },
    {
     "name": "stderr",
     "output_type": "stream",
     "text": [
      "[I 2025-01-06 23:55:25,059] Trial 2 finished with value: 0.03143576655860362 and parameters: {'topK': 33, 'alpha': 0.32884780250291573, 'beta': 0.11178426877272299, 'normalize_similarity': False, 'implicit': False}. Best is trial 2 with value: 0.03143576655860362.\n"
     ]
    },
    {
     "name": "stdout",
     "output_type": "stream",
     "text": [
      "RP3betaRecommender: Similarity column 38121 (100.0%), 3651.91 column/sec. Elapsed time 10.44 sec\n",
      "EvaluatorHoldout: Processed 35209 (100.0%) in 9.28 sec. Users per second: 3796\n"
     ]
    },
    {
     "name": "stderr",
     "output_type": "stream",
     "text": [
      "[I 2025-01-06 23:55:45,211] Trial 3 finished with value: 0.036070250797165984 and parameters: {'topK': 19, 'alpha': 0.42661891227050586, 'beta': 0.22564652304190602, 'normalize_similarity': False, 'implicit': False}. Best is trial 3 with value: 0.036070250797165984.\n"
     ]
    },
    {
     "name": "stdout",
     "output_type": "stream",
     "text": [
      "RP3betaRecommender: Similarity column 38121 (100.0%), 3961.12 column/sec. Elapsed time 9.62 sec\n",
      "EvaluatorHoldout: Processed 35209 (100.0%) in 9.00 sec. Users per second: 3912\n"
     ]
    },
    {
     "name": "stderr",
     "output_type": "stream",
     "text": [
      "[I 2025-01-06 23:56:04,126] Trial 4 finished with value: 0.04210637882539779 and parameters: {'topK': 7, 'alpha': 0.32616486085930513, 'beta': 0.17784184243317339, 'normalize_similarity': True, 'implicit': False}. Best is trial 4 with value: 0.04210637882539779.\n"
     ]
    },
    {
     "name": "stdout",
     "output_type": "stream",
     "text": [
      "RP3betaRecommender: Similarity column 38121 (100.0%), 3708.30 column/sec. Elapsed time 10.28 sec\n",
      "EvaluatorHoldout: Processed 35209 (100.0%) in 9.25 sec. Users per second: 3806\n"
     ]
    },
    {
     "name": "stderr",
     "output_type": "stream",
     "text": [
      "[I 2025-01-06 23:56:24,033] Trial 5 finished with value: 0.03711287179910142 and parameters: {'topK': 13, 'alpha': 0.45117226456537957, 'beta': 0.22907291699478627, 'normalize_similarity': False, 'implicit': True}. Best is trial 4 with value: 0.04210637882539779.\n"
     ]
    },
    {
     "name": "stdout",
     "output_type": "stream",
     "text": [
      "RP3betaRecommender: Similarity column 38121 (100.0%), 3523.76 column/sec. Elapsed time 10.82 sec\n",
      "EvaluatorHoldout: Processed 35209 (100.0%) in 9.49 sec. Users per second: 3712\n"
     ]
    },
    {
     "name": "stderr",
     "output_type": "stream",
     "text": [
      "[I 2025-01-06 23:56:44,894] Trial 6 finished with value: 0.03075646017635188 and parameters: {'topK': 33, 'alpha': 0.2679719162756222, 'beta': 0.1309478036068686, 'normalize_similarity': False, 'implicit': True}. Best is trial 4 with value: 0.04210637882539779.\n"
     ]
    },
    {
     "name": "stdout",
     "output_type": "stream",
     "text": [
      "RP3betaRecommender: Similarity column 38121 (100.0%), 3563.16 column/sec. Elapsed time 10.70 sec\n",
      "EvaluatorHoldout: Processed 35209 (100.0%) in 9.39 sec. Users per second: 3751\n"
     ]
    },
    {
     "name": "stderr",
     "output_type": "stream",
     "text": [
      "[I 2025-01-06 23:57:05,496] Trial 7 finished with value: 0.03148310519451328 and parameters: {'topK': 29, 'alpha': 0.2688957143430733, 'beta': 0.1575258802387588, 'normalize_similarity': False, 'implicit': True}. Best is trial 4 with value: 0.04210637882539779.\n"
     ]
    },
    {
     "name": "stdout",
     "output_type": "stream",
     "text": [
      "RP3betaRecommender: Similarity column 38121 (100.0%), 3565.06 column/sec. Elapsed time 10.69 sec\n",
      "EvaluatorHoldout: Processed 35209 (100.0%) in 8.87 sec. Users per second: 3971\n"
     ]
    },
    {
     "name": "stderr",
     "output_type": "stream",
     "text": [
      "[I 2025-01-06 23:57:25,340] Trial 8 finished with value: 0.03420348197407923 and parameters: {'topK': 5, 'alpha': 0.21360782928541883, 'beta': 0.2734461551195943, 'normalize_similarity': False, 'implicit': True}. Best is trial 4 with value: 0.04210637882539779.\n"
     ]
    },
    {
     "name": "stdout",
     "output_type": "stream",
     "text": [
      "RP3betaRecommender: Similarity column 38121 (100.0%), 3810.52 column/sec. Elapsed time 10.00 sec\n",
      "EvaluatorHoldout: Processed 35209 (100.0%) in 9.20 sec. Users per second: 3827\n"
     ]
    },
    {
     "name": "stderr",
     "output_type": "stream",
     "text": [
      "[I 2025-01-06 23:57:44,993] Trial 9 finished with value: 0.03593624262735731 and parameters: {'topK': 21, 'alpha': 0.45163388307570007, 'beta': 0.19861692756896857, 'normalize_similarity': False, 'implicit': False}. Best is trial 4 with value: 0.04210637882539779.\n"
     ]
    },
    {
     "name": "stdout",
     "output_type": "stream",
     "text": [
      "RP3betaRecommender: Similarity column 38121 (100.0%), 2000.67 column/sec. Elapsed time 19.05 sec\n",
      "EvaluatorHoldout: Processed 35209 (100.0%) in 8.64 sec. Users per second: 4077\n"
     ]
    },
    {
     "name": "stderr",
     "output_type": "stream",
     "text": [
      "[I 2025-01-06 23:58:12,951] Trial 10 finished with value: 0.029622494609287075 and parameters: {'topK': 2, 'alpha': 0.3745896372954909, 'beta': 0.2701830024365993, 'normalize_similarity': True, 'implicit': False}. Best is trial 4 with value: 0.04210637882539779.\n"
     ]
    },
    {
     "name": "stdout",
     "output_type": "stream",
     "text": [
      "RP3betaRecommender: Similarity column 38121 (100.0%), 3552.21 column/sec. Elapsed time 10.73 sec\n",
      "EvaluatorHoldout: Processed 35209 (100.0%) in 8.97 sec. Users per second: 3927\n"
     ]
    },
    {
     "name": "stderr",
     "output_type": "stream",
     "text": [
      "[I 2025-01-06 23:58:33,002] Trial 11 finished with value: 0.04262004844540397 and parameters: {'topK': 11, 'alpha': 0.4999218213358517, 'beta': 0.23475276233528236, 'normalize_similarity': True, 'implicit': True}. Best is trial 11 with value: 0.04262004844540397.\n"
     ]
    },
    {
     "name": "stdout",
     "output_type": "stream",
     "text": [
      "RP3betaRecommender: Similarity column 38121 (100.0%), 3740.76 column/sec. Elapsed time 10.19 sec\n",
      "EvaluatorHoldout: Processed 35209 (100.0%) in 8.95 sec. Users per second: 3935\n"
     ]
    },
    {
     "name": "stderr",
     "output_type": "stream",
     "text": [
      "[I 2025-01-06 23:58:52,516] Trial 12 finished with value: 0.04261402207317839 and parameters: {'topK': 12, 'alpha': 0.49380988634441336, 'beta': 0.24752979419010085, 'normalize_similarity': True, 'implicit': True}. Best is trial 11 with value: 0.04262004844540397.\n"
     ]
    },
    {
     "name": "stdout",
     "output_type": "stream",
     "text": [
      "RP3betaRecommender: Similarity column 38121 (100.0%), 3630.31 column/sec. Elapsed time 10.50 sec\n",
      "EvaluatorHoldout: Processed 35209 (100.0%) in 8.83 sec. Users per second: 3989\n"
     ]
    },
    {
     "name": "stderr",
     "output_type": "stream",
     "text": [
      "[I 2025-01-06 23:59:12,218] Trial 13 finished with value: 0.042610232908521235 and parameters: {'topK': 12, 'alpha': 0.4831448302957453, 'beta': 0.244794971798917, 'normalize_similarity': True, 'implicit': True}. Best is trial 11 with value: 0.04262004844540397.\n"
     ]
    },
    {
     "name": "stdout",
     "output_type": "stream",
     "text": [
      "RP3betaRecommender: Similarity column 38121 (100.0%), 3734.52 column/sec. Elapsed time 10.21 sec\n",
      "EvaluatorHoldout: Processed 35209 (100.0%) in 8.96 sec. Users per second: 3929\n"
     ]
    },
    {
     "name": "stderr",
     "output_type": "stream",
     "text": [
      "[I 2025-01-06 23:59:31,790] Trial 14 finished with value: 0.042452590359515784 and parameters: {'topK': 13, 'alpha': 0.4908677305274508, 'beta': 0.29395310149174936, 'normalize_similarity': True, 'implicit': True}. Best is trial 11 with value: 0.04262004844540397.\n"
     ]
    },
    {
     "name": "stdout",
     "output_type": "stream",
     "text": [
      "RP3betaRecommender: Similarity column 38121 (100.0%), 3697.16 column/sec. Elapsed time 10.31 sec\n",
      "EvaluatorHoldout: Processed 35209 (100.0%) in 8.77 sec. Users per second: 4016\n"
     ]
    },
    {
     "name": "stderr",
     "output_type": "stream",
     "text": [
      "[I 2025-01-06 23:59:51,199] Trial 15 finished with value: 0.042543044549845 and parameters: {'topK': 9, 'alpha': 0.39875350592100417, 'beta': 0.24184976331286193, 'normalize_similarity': True, 'implicit': True}. Best is trial 11 with value: 0.04262004844540397.\n"
     ]
    },
    {
     "name": "stdout",
     "output_type": "stream",
     "text": [
      "RP3betaRecommender: Similarity column 38121 (100.0%), 3405.68 column/sec. Elapsed time 11.19 sec\n",
      "EvaluatorHoldout: Processed 35209 (100.0%) in 9.29 sec. Users per second: 3789\n"
     ]
    },
    {
     "name": "stderr",
     "output_type": "stream",
     "text": [
      "[I 2025-01-07 00:00:12,114] Trial 16 finished with value: 0.042587759397735195 and parameters: {'topK': 18, 'alpha': 0.499333509503372, 'beta': 0.21508452954864957, 'normalize_similarity': True, 'implicit': True}. Best is trial 11 with value: 0.04262004844540397.\n"
     ]
    },
    {
     "name": "stdout",
     "output_type": "stream",
     "text": [
      "RP3betaRecommender: Similarity column 38121 (100.0%), 3548.92 column/sec. Elapsed time 10.74 sec\n",
      "EvaluatorHoldout: Processed 35209 (100.0%) in 9.06 sec. Users per second: 3888\n"
     ]
    },
    {
     "name": "stderr",
     "output_type": "stream",
     "text": [
      "[I 2025-01-07 00:00:32,321] Trial 17 finished with value: 0.042669070904037494 and parameters: {'topK': 15, 'alpha': 0.4512965285608015, 'beta': 0.25785124967561746, 'normalize_similarity': True, 'implicit': True}. Best is trial 17 with value: 0.042669070904037494.\n"
     ]
    },
    {
     "name": "stdout",
     "output_type": "stream",
     "text": [
      "RP3betaRecommender: Similarity column 38121 (100.0%), 3713.17 column/sec. Elapsed time 10.27 sec\n",
      "EvaluatorHoldout: Processed 35209 (100.0%) in 9.33 sec. Users per second: 3775\n"
     ]
    },
    {
     "name": "stderr",
     "output_type": "stream",
     "text": [
      "[I 2025-01-07 00:00:52,420] Trial 18 finished with value: 0.042283770789122786 and parameters: {'topK': 23, 'alpha': 0.44189759334414463, 'beta': 0.27376730097250424, 'normalize_similarity': True, 'implicit': True}. Best is trial 17 with value: 0.042669070904037494.\n"
     ]
    },
    {
     "name": "stdout",
     "output_type": "stream",
     "text": [
      "RP3betaRecommender: Similarity column 38121 (100.0%), 3901.83 column/sec. Elapsed time 9.77 sec\n",
      "EvaluatorHoldout: Processed 35209 (100.0%) in 9.01 sec. Users per second: 3907\n"
     ]
    },
    {
     "name": "stderr",
     "output_type": "stream",
     "text": [
      "[I 2025-01-07 00:01:11,642] Trial 19 finished with value: 0.04268392325735437 and parameters: {'topK': 17, 'alpha': 0.3519612378608534, 'beta': 0.2584255307211075, 'normalize_similarity': True, 'implicit': True}. Best is trial 19 with value: 0.04268392325735437.\n"
     ]
    },
    {
     "name": "stdout",
     "output_type": "stream",
     "text": [
      "RP3betaRecommender: Similarity column 38121 (100.0%), 3442.17 column/sec. Elapsed time 11.07 sec\n",
      "EvaluatorHoldout: Processed 35209 (100.0%) in 10.03 sec. Users per second: 3509\n"
     ]
    },
    {
     "name": "stderr",
     "output_type": "stream",
     "text": [
      "[I 2025-01-07 00:01:33,481] Trial 20 finished with value: 0.04133780955175891 and parameters: {'topK': 38, 'alpha': 0.3701286655263829, 'beta': 0.2893544192479211, 'normalize_similarity': True, 'implicit': True}. Best is trial 19 with value: 0.04268392325735437.\n"
     ]
    },
    {
     "name": "stdout",
     "output_type": "stream",
     "text": [
      "RP3betaRecommender: Similarity column 38121 (100.0%), 3674.90 column/sec. Elapsed time 10.37 sec\n",
      "EvaluatorHoldout: Processed 35209 (100.0%) in 9.17 sec. Users per second: 3840\n"
     ]
    },
    {
     "name": "stderr",
     "output_type": "stream",
     "text": [
      "[I 2025-01-07 00:01:53,438] Trial 21 finished with value: 0.042645233654632804 and parameters: {'topK': 16, 'alpha': 0.40321778599499086, 'beta': 0.25951775382931147, 'normalize_similarity': True, 'implicit': True}. Best is trial 19 with value: 0.04268392325735437.\n"
     ]
    },
    {
     "name": "stdout",
     "output_type": "stream",
     "text": [
      "RP3betaRecommender: Similarity column 38121 (100.0%), 3811.10 column/sec. Elapsed time 10.00 sec\n",
      "EvaluatorHoldout: Processed 35209 (100.0%) in 9.02 sec. Users per second: 3903\n"
     ]
    },
    {
     "name": "stderr",
     "output_type": "stream",
     "text": [
      "[I 2025-01-07 00:02:12,880] Trial 22 finished with value: 0.042678695968336025 and parameters: {'topK': 16, 'alpha': 0.40148610481890146, 'beta': 0.25444930070495375, 'normalize_similarity': True, 'implicit': True}. Best is trial 19 with value: 0.04268392325735437.\n"
     ]
    },
    {
     "name": "stdout",
     "output_type": "stream",
     "text": [
      "RP3betaRecommender: Similarity column 38121 (100.0%), 3699.62 column/sec. Elapsed time 10.30 sec\n",
      "EvaluatorHoldout: Processed 35209 (100.0%) in 9.16 sec. Users per second: 3842\n"
     ]
    },
    {
     "name": "stderr",
     "output_type": "stream",
     "text": [
      "[I 2025-01-07 00:02:32,847] Trial 23 finished with value: 0.04227817382550373 and parameters: {'topK': 24, 'alpha': 0.34008590179854126, 'beta': 0.2120331107215949, 'normalize_similarity': True, 'implicit': True}. Best is trial 19 with value: 0.04268392325735437.\n"
     ]
    },
    {
     "name": "stdout",
     "output_type": "stream",
     "text": [
      "RP3betaRecommender: Similarity column 38121 (100.0%), 3210.51 column/sec. Elapsed time 11.87 sec\n",
      "EvaluatorHoldout: Processed 35209 (100.0%) in 9.01 sec. Users per second: 3908\n"
     ]
    },
    {
     "name": "stderr",
     "output_type": "stream",
     "text": [
      "[I 2025-01-07 00:02:54,162] Trial 24 finished with value: 0.04270116609795202 and parameters: {'topK': 16, 'alpha': 0.308154240528042, 'beta': 0.2997411195641402, 'normalize_similarity': True, 'implicit': True}. Best is trial 24 with value: 0.04270116609795202.\n"
     ]
    },
    {
     "name": "stdout",
     "output_type": "stream",
     "text": [
      "RP3betaRecommender: Similarity column 38121 (100.0%), 3537.66 column/sec. Elapsed time 10.78 sec\n",
      "EvaluatorHoldout: Processed 35209 (100.0%) in 9.00 sec. Users per second: 3914\n"
     ]
    },
    {
     "name": "stderr",
     "output_type": "stream",
     "text": [
      "[I 2025-01-07 00:03:14,374] Trial 25 finished with value: 0.04256072468844598 and parameters: {'topK': 17, 'alpha': 0.29926955491146046, 'beta': 0.29877258665183715, 'normalize_similarity': True, 'implicit': True}. Best is trial 24 with value: 0.04270116609795202.\n"
     ]
    },
    {
     "name": "stdout",
     "output_type": "stream",
     "text": [
      "RP3betaRecommender: Similarity column 38121 (100.0%), 3769.71 column/sec. Elapsed time 10.11 sec\n",
      "EvaluatorHoldout: Processed 35209 (100.0%) in 9.24 sec. Users per second: 3809\n"
     ]
    },
    {
     "name": "stderr",
     "output_type": "stream",
     "text": [
      "[I 2025-01-07 00:03:34,248] Trial 26 finished with value: 0.04221323958024644 and parameters: {'topK': 24, 'alpha': 0.3005263011243636, 'beta': 0.28314236409377136, 'normalize_similarity': True, 'implicit': True}. Best is trial 24 with value: 0.04270116609795202.\n"
     ]
    },
    {
     "name": "stdout",
     "output_type": "stream",
     "text": [
      "RP3betaRecommender: Similarity column 38121 (100.0%), 3620.37 column/sec. Elapsed time 10.53 sec\n",
      "EvaluatorHoldout: Processed 35209 (100.0%) in 9.55 sec. Users per second: 3688\n"
     ]
    },
    {
     "name": "stderr",
     "output_type": "stream",
     "text": [
      "[I 2025-01-07 00:03:54,800] Trial 27 finished with value: 0.04256217295631758 and parameters: {'topK': 20, 'alpha': 0.35883612556425276, 'beta': 0.2548869095113677, 'normalize_similarity': True, 'implicit': True}. Best is trial 24 with value: 0.04270116609795202.\n"
     ]
    },
    {
     "name": "stdout",
     "output_type": "stream",
     "text": [
      "RP3betaRecommender: Similarity column 38121 (100.0%), 3354.98 column/sec. Elapsed time 11.36 sec\n",
      "EvaluatorHoldout: Processed 35209 (100.0%) in 9.34 sec. Users per second: 3771\n"
     ]
    },
    {
     "name": "stderr",
     "output_type": "stream",
     "text": [
      "[I 2025-01-07 00:04:15,917] Trial 28 finished with value: 0.04272574269655803 and parameters: {'topK': 15, 'alpha': 0.39211606780154595, 'beta': 0.27853401521825544, 'normalize_similarity': True, 'implicit': True}. Best is trial 28 with value: 0.04272574269655803.\n"
     ]
    },
    {
     "name": "stdout",
     "output_type": "stream",
     "text": [
      "RP3betaRecommender: Similarity column 38121 (100.0%), 3500.92 column/sec. Elapsed time 10.89 sec\n",
      "EvaluatorHoldout: Processed 35209 (100.0%) in 8.98 sec. Users per second: 3919\n"
     ]
    },
    {
     "name": "stderr",
     "output_type": "stream",
     "text": [
      "[I 2025-01-07 00:04:36,126] Trial 29 finished with value: 0.04232006652339356 and parameters: {'topK': 8, 'alpha': 0.30753262055292246, 'beta': 0.2824359051755047, 'normalize_similarity': True, 'implicit': True}. Best is trial 28 with value: 0.04272574269655803.\n"
     ]
    },
    {
     "name": "stdout",
     "output_type": "stream",
     "text": [
      "RP3betaRecommender: Similarity column 38121 (100.0%), 3331.90 column/sec. Elapsed time 11.44 sec\n",
      "EvaluatorHoldout: Processed 35209 (100.0%) in 9.54 sec. Users per second: 3690\n"
     ]
    },
    {
     "name": "stderr",
     "output_type": "stream",
     "text": [
      "[I 2025-01-07 00:04:57,703] Trial 30 finished with value: 0.04185697470028021 and parameters: {'topK': 27, 'alpha': 0.27362971930518554, 'beta': 0.29843006585787224, 'normalize_similarity': True, 'implicit': True}. Best is trial 28 with value: 0.04272574269655803.\n"
     ]
    },
    {
     "name": "stdout",
     "output_type": "stream",
     "text": [
      "RP3betaRecommender: Similarity column 38121 (100.0%), 3348.65 column/sec. Elapsed time 11.38 sec\n",
      "EvaluatorHoldout: Processed 35209 (100.0%) in 8.99 sec. Users per second: 3918\n"
     ]
    },
    {
     "name": "stderr",
     "output_type": "stream",
     "text": [
      "[I 2025-01-07 00:05:18,489] Trial 31 finished with value: 0.04271647152806631 and parameters: {'topK': 15, 'alpha': 0.39507757381769715, 'beta': 0.2680790396906475, 'normalize_similarity': True, 'implicit': True}. Best is trial 28 with value: 0.04272574269655803.\n"
     ]
    },
    {
     "name": "stdout",
     "output_type": "stream",
     "text": [
      "RP3betaRecommender: Similarity column 38121 (100.0%), 3598.86 column/sec. Elapsed time 10.59 sec\n",
      "EvaluatorHoldout: Processed 35209 (100.0%) in 8.90 sec. Users per second: 3958\n"
     ]
    },
    {
     "name": "stderr",
     "output_type": "stream",
     "text": [
      "[I 2025-01-07 00:05:38,382] Trial 32 finished with value: 0.04280850810601558 and parameters: {'topK': 15, 'alpha': 0.3844086646356272, 'beta': 0.2656801377522439, 'normalize_similarity': True, 'implicit': True}. Best is trial 32 with value: 0.04280850810601558.\n"
     ]
    },
    {
     "name": "stdout",
     "output_type": "stream",
     "text": [
      "RP3betaRecommender: Similarity column 38121 (100.0%), 3830.40 column/sec. Elapsed time 9.95 sec\n",
      "EvaluatorHoldout: Processed 35209 (100.0%) in 8.90 sec. Users per second: 3955\n"
     ]
    },
    {
     "name": "stderr",
     "output_type": "stream",
     "text": [
      "[I 2025-01-07 00:05:57,627] Trial 33 finished with value: 0.042753934893087896 and parameters: {'topK': 14, 'alpha': 0.386474011194605, 'beta': 0.270908665839702, 'normalize_similarity': True, 'implicit': True}. Best is trial 32 with value: 0.04280850810601558.\n"
     ]
    },
    {
     "name": "stdout",
     "output_type": "stream",
     "text": [
      "RP3betaRecommender: Similarity column 38121 (100.0%), 3344.96 column/sec. Elapsed time 11.40 sec\n",
      "EvaluatorHoldout: Processed 35209 (100.0%) in 8.93 sec. Users per second: 3944\n"
     ]
    },
    {
     "name": "stderr",
     "output_type": "stream",
     "text": [
      "[I 2025-01-07 00:06:18,309] Trial 34 finished with value: 0.0426002550754728 and parameters: {'topK': 10, 'alpha': 0.38100479779464147, 'beta': 0.2726192769815709, 'normalize_similarity': True, 'implicit': False}. Best is trial 32 with value: 0.04280850810601558.\n"
     ]
    },
    {
     "name": "stdout",
     "output_type": "stream",
     "text": [
      "RP3betaRecommender: Similarity column 38121 (100.0%), 3626.35 column/sec. Elapsed time 10.51 sec\n",
      "EvaluatorHoldout: Processed 35209 (100.0%) in 9.10 sec. Users per second: 3867\n"
     ]
    },
    {
     "name": "stderr",
     "output_type": "stream",
     "text": [
      "[I 2025-01-07 00:06:38,322] Trial 35 finished with value: 0.04268197795747392 and parameters: {'topK': 14, 'alpha': 0.4217235539244587, 'beta': 0.26973733332308425, 'normalize_similarity': True, 'implicit': False}. Best is trial 32 with value: 0.04280850810601558.\n"
     ]
    },
    {
     "name": "stdout",
     "output_type": "stream",
     "text": [
      "RP3betaRecommender: Similarity column 38121 (100.0%), 3669.13 column/sec. Elapsed time 10.39 sec\n",
      "EvaluatorHoldout: Processed 35209 (100.0%) in 8.85 sec. Users per second: 3977\n"
     ]
    },
    {
     "name": "stderr",
     "output_type": "stream",
     "text": [
      "[I 2025-01-07 00:06:57,879] Trial 36 finished with value: 0.04139498626568507 and parameters: {'topK': 6, 'alpha': 0.4190152385756055, 'beta': 0.21953848893929281, 'normalize_similarity': True, 'implicit': True}. Best is trial 32 with value: 0.04280850810601558.\n"
     ]
    },
    {
     "name": "stdout",
     "output_type": "stream",
     "text": [
      "RP3betaRecommender: Similarity column 38121 (100.0%), 3476.98 column/sec. Elapsed time 10.96 sec\n",
      "EvaluatorHoldout: Processed 35209 (100.0%) in 9.40 sec. Users per second: 3744\n"
     ]
    },
    {
     "name": "stderr",
     "output_type": "stream",
     "text": [
      "[I 2025-01-07 00:07:18,726] Trial 37 finished with value: 0.04255473212792183 and parameters: {'topK': 19, 'alpha': 0.3857224585835307, 'beta': 0.2839393665618193, 'normalize_similarity': True, 'implicit': True}. Best is trial 32 with value: 0.04280850810601558.\n"
     ]
    },
    {
     "name": "stdout",
     "output_type": "stream",
     "text": [
      "RP3betaRecommender: Similarity column 38121 (100.0%), 3843.74 column/sec. Elapsed time 9.92 sec\n",
      "EvaluatorHoldout: Processed 35209 (100.0%) in 9.24 sec. Users per second: 3808\n"
     ]
    },
    {
     "name": "stderr",
     "output_type": "stream",
     "text": [
      "[I 2025-01-07 00:07:38,353] Trial 38 finished with value: 0.03332890174635072 and parameters: {'topK': 22, 'alpha': 0.33005298772166464, 'beta': 0.174825589327814, 'normalize_similarity': False, 'implicit': False}. Best is trial 32 with value: 0.04280850810601558.\n"
     ]
    },
    {
     "name": "stdout",
     "output_type": "stream",
     "text": [
      "RP3betaRecommender: Similarity column 38121 (100.0%), 3430.04 column/sec. Elapsed time 11.11 sec\n",
      "EvaluatorHoldout: Processed 35209 (100.0%) in 8.84 sec. Users per second: 3981\n"
     ]
    },
    {
     "name": "stderr",
     "output_type": "stream",
     "text": [
      "[I 2025-01-07 00:07:58,582] Trial 39 finished with value: 0.03822171301799986 and parameters: {'topK': 4, 'alpha': 0.47209893259288016, 'beta': 0.10190033981874344, 'normalize_similarity': True, 'implicit': True}. Best is trial 32 with value: 0.04280850810601558.\n"
     ]
    },
    {
     "name": "stdout",
     "output_type": "stream",
     "text": [
      "RP3betaRecommender: Similarity column 38121 (100.0%), 3162.98 column/sec. Elapsed time 12.05 sec\n",
      "EvaluatorHoldout: Processed 35209 (100.0%) in 9.58 sec. Users per second: 3675\n"
     ]
    },
    {
     "name": "stderr",
     "output_type": "stream",
     "text": [
      "[I 2025-01-07 00:08:20,737] Trial 40 finished with value: 0.0345693133113952 and parameters: {'topK': 26, 'alpha': 0.3621773577034372, 'beta': 0.23590161094885412, 'normalize_similarity': False, 'implicit': True}. Best is trial 32 with value: 0.04280850810601558.\n"
     ]
    },
    {
     "name": "stdout",
     "output_type": "stream",
     "text": [
      "RP3betaRecommender: Similarity column 38121 (100.0%), 3396.94 column/sec. Elapsed time 11.22 sec\n",
      "EvaluatorHoldout: Processed 35209 (100.0%) in 9.20 sec. Users per second: 3826\n"
     ]
    },
    {
     "name": "stderr",
     "output_type": "stream",
     "text": [
      "[I 2025-01-07 00:08:41,579] Trial 41 finished with value: 0.042640125833625815 and parameters: {'topK': 14, 'alpha': 0.39249298943073524, 'beta': 0.2852659724222514, 'normalize_similarity': True, 'implicit': True}. Best is trial 32 with value: 0.04280850810601558.\n"
     ]
    },
    {
     "name": "stdout",
     "output_type": "stream",
     "text": [
      "RP3betaRecommender: Similarity column 38121 (100.0%), 3424.70 column/sec. Elapsed time 11.13 sec\n",
      "EvaluatorHoldout: Processed 35209 (100.0%) in 9.38 sec. Users per second: 3753\n"
     ]
    },
    {
     "name": "stderr",
     "output_type": "stream",
     "text": [
      "[I 2025-01-07 00:09:02,548] Trial 42 finished with value: 0.04259352880103092 and parameters: {'topK': 19, 'alpha': 0.4111840547774802, 'beta': 0.26530819235142644, 'normalize_similarity': True, 'implicit': True}. Best is trial 32 with value: 0.04280850810601558.\n"
     ]
    },
    {
     "name": "stdout",
     "output_type": "stream",
     "text": [
      "RP3betaRecommender: Similarity column 38121 (100.0%), 3566.11 column/sec. Elapsed time 10.69 sec\n",
      "EvaluatorHoldout: Processed 35209 (100.0%) in 8.81 sec. Users per second: 3995\n"
     ]
    },
    {
     "name": "stderr",
     "output_type": "stream",
     "text": [
      "[I 2025-01-07 00:09:22,436] Trial 43 finished with value: 0.04268590349599293 and parameters: {'topK': 11, 'alpha': 0.4358221113907315, 'beta': 0.27676266206064737, 'normalize_similarity': True, 'implicit': True}. Best is trial 32 with value: 0.04280850810601558.\n"
     ]
    },
    {
     "name": "stdout",
     "output_type": "stream",
     "text": [
      "RP3betaRecommender: Similarity column 38121 (100.0%), 3474.61 column/sec. Elapsed time 10.97 sec\n",
      "EvaluatorHoldout: Processed 35209 (100.0%) in 8.86 sec. Users per second: 3975\n"
     ]
    },
    {
     "name": "stderr",
     "output_type": "stream",
     "text": [
      "[I 2025-01-07 00:09:42,660] Trial 44 finished with value: 0.042602836035337134 and parameters: {'topK': 15, 'alpha': 0.34492148756670227, 'beta': 0.13976210899976682, 'normalize_similarity': True, 'implicit': True}. Best is trial 32 with value: 0.04280850810601558.\n"
     ]
    },
    {
     "name": "stdout",
     "output_type": "stream",
     "text": [
      "RP3betaRecommender: Similarity column 38121 (100.0%), 3295.12 column/sec. Elapsed time 11.57 sec\n",
      "EvaluatorHoldout: Processed 35209 (100.0%) in 9.12 sec. Users per second: 3859\n"
     ]
    },
    {
     "name": "stderr",
     "output_type": "stream",
     "text": [
      "[I 2025-01-07 00:10:03,846] Trial 45 finished with value: 0.03582001490419664 and parameters: {'topK': 21, 'alpha': 0.3721177603578388, 'beta': 0.29118369303865344, 'normalize_similarity': False, 'implicit': False}. Best is trial 32 with value: 0.04280850810601558.\n"
     ]
    },
    {
     "name": "stdout",
     "output_type": "stream",
     "text": [
      "RP3betaRecommender: Similarity column 38121 (100.0%), 4038.87 column/sec. Elapsed time 9.44 sec\n",
      "EvaluatorHoldout: Processed 35209 (100.0%) in 8.90 sec. Users per second: 3955\n"
     ]
    },
    {
     "name": "stderr",
     "output_type": "stream",
     "text": [
      "[I 2025-01-07 00:10:22,559] Trial 46 finished with value: 0.04278795284574877 and parameters: {'topK': 13, 'alpha': 0.31906692741772313, 'beta': 0.26428327701580256, 'normalize_similarity': True, 'implicit': True}. Best is trial 32 with value: 0.04280850810601558.\n"
     ]
    },
    {
     "name": "stdout",
     "output_type": "stream",
     "text": [
      "RP3betaRecommender: Similarity column 38121 (100.0%), 3458.09 column/sec. Elapsed time 11.02 sec\n",
      "EvaluatorHoldout: Processed 35209 (100.0%) in 8.69 sec. Users per second: 4053\n"
     ]
    },
    {
     "name": "stderr",
     "output_type": "stream",
     "text": [
      "[I 2025-01-07 00:10:42,629] Trial 47 finished with value: 0.04259926101145501 and parameters: {'topK': 9, 'alpha': 0.32190304815666904, 'beta': 0.22769841337774593, 'normalize_similarity': True, 'implicit': True}. Best is trial 32 with value: 0.04280850810601558.\n"
     ]
    },
    {
     "name": "stdout",
     "output_type": "stream",
     "text": [
      "RP3betaRecommender: Similarity column 38121 (100.0%), 3643.31 column/sec. Elapsed time 10.46 sec\n",
      "EvaluatorHoldout: Processed 35209 (100.0%) in 8.89 sec. Users per second: 3959\n"
     ]
    },
    {
     "name": "stderr",
     "output_type": "stream",
     "text": [
      "[I 2025-01-07 00:11:02,357] Trial 48 finished with value: 0.03446477429336829 and parameters: {'topK': 13, 'alpha': 0.28047588844328225, 'beta': 0.24778903665268692, 'normalize_similarity': False, 'implicit': True}. Best is trial 32 with value: 0.04280850810601558.\n"
     ]
    },
    {
     "name": "stdout",
     "output_type": "stream",
     "text": [
      "RP3betaRecommender: Similarity column 38121 (100.0%), 3716.42 column/sec. Elapsed time 10.26 sec\n",
      "EvaluatorHoldout: Processed 35209 (100.0%) in 8.80 sec. Users per second: 4003\n"
     ]
    },
    {
     "name": "stderr",
     "output_type": "stream",
     "text": [
      "[I 2025-01-07 00:11:21,795] Trial 49 finished with value: 0.042729292925192695 and parameters: {'topK': 11, 'alpha': 0.3869264692995173, 'beta': 0.2649603169348497, 'normalize_similarity': True, 'implicit': True}. Best is trial 32 with value: 0.04280850810601558.\n"
     ]
    },
    {
     "name": "stdout",
     "output_type": "stream",
     "text": [
      "RP3betaRecommender: Similarity column 38121 (100.0%), 3550.99 column/sec. Elapsed time 10.74 sec\n",
      "EvaluatorHoldout: Processed 35209 (100.0%) in 8.82 sec. Users per second: 3992\n"
     ]
    },
    {
     "name": "stderr",
     "output_type": "stream",
     "text": [
      "[I 2025-01-07 00:11:41,711] Trial 50 finished with value: 0.042728595277089595 and parameters: {'topK': 11, 'alpha': 0.2542929476740089, 'beta': 0.19358428619711868, 'normalize_similarity': True, 'implicit': False}. Best is trial 32 with value: 0.04280850810601558.\n"
     ]
    },
    {
     "name": "stdout",
     "output_type": "stream",
     "text": [
      "RP3betaRecommender: Similarity column 38121 (100.0%), 4009.43 column/sec. Elapsed time 9.51 sec\n",
      "EvaluatorHoldout: Processed 35209 (100.0%) in 8.66 sec. Users per second: 4064\n"
     ]
    },
    {
     "name": "stderr",
     "output_type": "stream",
     "text": [
      "[I 2025-01-07 00:12:00,196] Trial 51 finished with value: 0.04200971004437296 and parameters: {'topK': 7, 'alpha': 0.23392534811240745, 'beta': 0.2000180380751281, 'normalize_similarity': True, 'implicit': False}. Best is trial 32 with value: 0.04280850810601558.\n"
     ]
    },
    {
     "name": "stdout",
     "output_type": "stream",
     "text": [
      "RP3betaRecommender: Similarity column 38121 (100.0%), 3685.56 column/sec. Elapsed time 10.34 sec\n",
      "EvaluatorHoldout: Processed 35209 (100.0%) in 8.83 sec. Users per second: 3989\n"
     ]
    },
    {
     "name": "stderr",
     "output_type": "stream",
     "text": [
      "[I 2025-01-07 00:12:19,724] Trial 52 finished with value: 0.042754925575935444 and parameters: {'topK': 11, 'alpha': 0.24128625902285245, 'beta': 0.1844786388251108, 'normalize_similarity': True, 'implicit': False}. Best is trial 32 with value: 0.04280850810601558.\n"
     ]
    },
    {
     "name": "stdout",
     "output_type": "stream",
     "text": [
      "RP3betaRecommender: Similarity column 38121 (100.0%), 3362.54 column/sec. Elapsed time 11.34 sec\n",
      "EvaluatorHoldout: Processed 35209 (100.0%) in 8.84 sec. Users per second: 3983\n"
     ]
    },
    {
     "name": "stderr",
     "output_type": "stream",
     "text": [
      "[I 2025-01-07 00:12:40,250] Trial 53 finished with value: 0.042714776434775205 and parameters: {'topK': 11, 'alpha': 0.23823495264461575, 'beta': 0.182758858564406, 'normalize_similarity': True, 'implicit': False}. Best is trial 32 with value: 0.04280850810601558.\n"
     ]
    },
    {
     "name": "stdout",
     "output_type": "stream",
     "text": [
      "RP3betaRecommender: Similarity column 38121 (100.0%), 3269.92 column/sec. Elapsed time 11.66 sec\n",
      "EvaluatorHoldout: Processed 35209 (100.0%) in 8.65 sec. Users per second: 4068\n"
     ]
    },
    {
     "name": "stderr",
     "output_type": "stream",
     "text": [
      "[I 2025-01-07 00:13:00,888] Trial 54 finished with value: 0.04241865017376792 and parameters: {'topK': 9, 'alpha': 0.2510954367693388, 'beta': 0.16679138798647278, 'normalize_similarity': True, 'implicit': False}. Best is trial 32 with value: 0.04280850810601558.\n"
     ]
    },
    {
     "name": "stdout",
     "output_type": "stream",
     "text": [
      "RP3betaRecommender: Similarity column 38121 (100.0%), 3419.69 column/sec. Elapsed time 11.15 sec\n",
      "EvaluatorHoldout: Processed 35209 (100.0%) in 8.52 sec. Users per second: 4135\n"
     ]
    },
    {
     "name": "stderr",
     "output_type": "stream",
     "text": [
      "[I 2025-01-07 00:13:20,848] Trial 55 finished with value: 0.038672952712756586 and parameters: {'topK': 4, 'alpha': 0.21638022626888692, 'beta': 0.19914982060429284, 'normalize_similarity': True, 'implicit': False}. Best is trial 32 with value: 0.04280850810601558.\n"
     ]
    },
    {
     "name": "stdout",
     "output_type": "stream",
     "text": [
      "RP3betaRecommender: Similarity column 38121 (100.0%), 3260.62 column/sec. Elapsed time 11.69 sec\n",
      "EvaluatorHoldout: Processed 35209 (100.0%) in 8.70 sec. Users per second: 4048\n"
     ]
    },
    {
     "name": "stderr",
     "output_type": "stream",
     "text": [
      "[I 2025-01-07 00:13:41,591] Trial 56 finished with value: 0.04272256214252398 and parameters: {'topK': 12, 'alpha': 0.20862178828575084, 'beta': 0.18809336678973557, 'normalize_similarity': True, 'implicit': False}. Best is trial 32 with value: 0.04280850810601558.\n"
     ]
    },
    {
     "name": "stdout",
     "output_type": "stream",
     "text": [
      "RP3betaRecommender: Similarity column 38121 (100.0%), 3368.89 column/sec. Elapsed time 11.32 sec\n",
      "EvaluatorHoldout: Processed 35209 (100.0%) in 8.75 sec. Users per second: 4022\n"
     ]
    },
    {
     "name": "stderr",
     "output_type": "stream",
     "text": [
      "[I 2025-01-07 00:14:02,008] Trial 57 finished with value: 0.04268687163770618 and parameters: {'topK': 10, 'alpha': 0.25908653902373985, 'beta': 0.20718269053392524, 'normalize_similarity': True, 'implicit': False}. Best is trial 32 with value: 0.04280850810601558.\n"
     ]
    },
    {
     "name": "stdout",
     "output_type": "stream",
     "text": [
      "RP3betaRecommender: Similarity column 38121 (100.0%), 3126.10 column/sec. Elapsed time 12.19 sec\n",
      "EvaluatorHoldout: Processed 35209 (100.0%) in 8.67 sec. Users per second: 4059\n"
     ]
    },
    {
     "name": "stderr",
     "output_type": "stream",
     "text": [
      "[I 2025-01-07 00:14:23,179] Trial 58 finished with value: 0.041963087089473494 and parameters: {'topK': 7, 'alpha': 0.2548706003384869, 'beta': 0.16714931031700994, 'normalize_similarity': True, 'implicit': False}. Best is trial 32 with value: 0.04280850810601558.\n"
     ]
    },
    {
     "name": "stdout",
     "output_type": "stream",
     "text": [
      "RP3betaRecommender: Similarity column 38121 (100.0%), 4027.12 column/sec. Elapsed time 9.47 sec\n",
      "EvaluatorHoldout: Processed 35209 (100.0%) in 8.76 sec. Users per second: 4017\n"
     ]
    },
    {
     "name": "stderr",
     "output_type": "stream",
     "text": [
      "[I 2025-01-07 00:14:41,763] Trial 59 finished with value: 0.031664264908818025 and parameters: {'topK': 13, 'alpha': 0.22906238867542014, 'beta': 0.1455879346086537, 'normalize_similarity': False, 'implicit': False}. Best is trial 32 with value: 0.04280850810601558.\n"
     ]
    },
    {
     "name": "stdout",
     "output_type": "stream",
     "text": [
      "RP3betaRecommender: Similarity column 38121 (100.0%), 3801.11 column/sec. Elapsed time 10.03 sec\n",
      "EvaluatorHoldout: Processed 35209 (100.0%) in 9.45 sec. Users per second: 3726\n"
     ]
    },
    {
     "name": "stderr",
     "output_type": "stream",
     "text": [
      "[I 2025-01-07 00:15:01,932] Trial 60 finished with value: 0.04107914327460314 and parameters: {'topK': 40, 'alpha': 0.2858404898791478, 'beta': 0.23671998794840085, 'normalize_similarity': True, 'implicit': False}. Best is trial 32 with value: 0.04280850810601558.\n"
     ]
    },
    {
     "name": "stdout",
     "output_type": "stream",
     "text": [
      "RP3betaRecommender: Similarity column 38121 (100.0%), 3833.25 column/sec. Elapsed time 9.94 sec\n",
      "EvaluatorHoldout: Processed 35209 (100.0%) in 9.37 sec. Users per second: 3757\n"
     ]
    },
    {
     "name": "stderr",
     "output_type": "stream",
     "text": [
      "[I 2025-01-07 00:15:21,863] Trial 61 finished with value: 0.041628541719354935 and parameters: {'topK': 32, 'alpha': 0.3823780354578658, 'beta': 0.2630641833298286, 'normalize_similarity': True, 'implicit': True}. Best is trial 32 with value: 0.04280850810601558.\n"
     ]
    },
    {
     "name": "stdout",
     "output_type": "stream",
     "text": [
      "RP3betaRecommender: Similarity column 38121 (100.0%), 3605.49 column/sec. Elapsed time 10.57 sec\n",
      "EvaluatorHoldout: Processed 35209 (100.0%) in 8.73 sec. Users per second: 4035\n"
     ]
    },
    {
     "name": "stderr",
     "output_type": "stream",
     "text": [
      "[I 2025-01-07 00:15:41,520] Trial 62 finished with value: 0.0427922548212087 and parameters: {'topK': 11, 'alpha': 0.35981911409582895, 'beta': 0.19189533582594173, 'normalize_similarity': True, 'implicit': True}. Best is trial 32 with value: 0.04280850810601558.\n"
     ]
    },
    {
     "name": "stdout",
     "output_type": "stream",
     "text": [
      "RP3betaRecommender: Similarity column 38121 (100.0%), 3033.37 column/sec. Elapsed time 12.57 sec\n",
      "EvaluatorHoldout: Processed 35209 (100.0%) in 8.82 sec. Users per second: 3993\n"
     ]
    },
    {
     "name": "stderr",
     "output_type": "stream",
     "text": [
      "[I 2025-01-07 00:16:03,250] Trial 63 finished with value: 0.04261421029164906 and parameters: {'topK': 10, 'alpha': 0.361673241812643, 'beta': 0.1892220320601111, 'normalize_similarity': True, 'implicit': True}. Best is trial 32 with value: 0.04280850810601558.\n"
     ]
    },
    {
     "name": "stdout",
     "output_type": "stream",
     "text": [
      "RP3betaRecommender: Similarity column 38121 (100.0%), 4168.23 column/sec. Elapsed time 9.15 sec\n",
      "EvaluatorHoldout: Processed 35209 (100.0%) in 8.82 sec. Users per second: 3991\n"
     ]
    },
    {
     "name": "stderr",
     "output_type": "stream",
     "text": [
      "[I 2025-01-07 00:16:21,586] Trial 64 finished with value: 0.04277716127775588 and parameters: {'topK': 12, 'alpha': 0.3364296050899358, 'beta': 0.17601258403436992, 'normalize_similarity': True, 'implicit': False}. Best is trial 32 with value: 0.04280850810601558.\n"
     ]
    },
    {
     "name": "stdout",
     "output_type": "stream",
     "text": [
      "RP3betaRecommender: Similarity column 38121 (100.0%), 4144.25 column/sec. Elapsed time 9.20 sec\n",
      "EvaluatorHoldout: Processed 35209 (100.0%) in 8.90 sec. Users per second: 3955\n"
     ]
    },
    {
     "name": "stderr",
     "output_type": "stream",
     "text": [
      "[I 2025-01-07 00:16:40,099] Trial 65 finished with value: 0.04265120592813619 and parameters: {'topK': 17, 'alpha': 0.32582446823636396, 'beta': 0.1770987265134899, 'normalize_similarity': True, 'implicit': True}. Best is trial 32 with value: 0.04280850810601558.\n"
     ]
    },
    {
     "name": "stdout",
     "output_type": "stream",
     "text": [
      "RP3betaRecommender: Similarity column 38121 (100.0%), 3338.00 column/sec. Elapsed time 11.42 sec\n",
      "EvaluatorHoldout: Processed 35209 (100.0%) in 8.82 sec. Users per second: 3991\n"
     ]
    },
    {
     "name": "stderr",
     "output_type": "stream",
     "text": [
      "[I 2025-01-07 00:17:00,704] Trial 66 finished with value: 0.04273092828447817 and parameters: {'topK': 12, 'alpha': 0.3368906110541594, 'beta': 0.17005478167964577, 'normalize_similarity': True, 'implicit': True}. Best is trial 32 with value: 0.04280850810601558.\n"
     ]
    },
    {
     "name": "stdout",
     "output_type": "stream",
     "text": [
      "RP3betaRecommender: Similarity column 38121 (100.0%), 4231.59 column/sec. Elapsed time 9.01 sec\n",
      "EvaluatorHoldout: Processed 35209 (100.0%) in 8.82 sec. Users per second: 3991\n"
     ]
    },
    {
     "name": "stderr",
     "output_type": "stream",
     "text": [
      "[I 2025-01-07 00:17:18,905] Trial 67 finished with value: 0.04267249715643406 and parameters: {'topK': 14, 'alpha': 0.33586251874507045, 'beta': 0.15669158003498446, 'normalize_similarity': True, 'implicit': True}. Best is trial 32 with value: 0.04280850810601558.\n"
     ]
    },
    {
     "name": "stdout",
     "output_type": "stream",
     "text": [
      "RP3betaRecommender: Similarity column 38121 (100.0%), 4092.13 column/sec. Elapsed time 9.32 sec\n",
      "EvaluatorHoldout: Processed 35209 (100.0%) in 8.70 sec. Users per second: 4048\n"
     ]
    },
    {
     "name": "stderr",
     "output_type": "stream",
     "text": [
      "[I 2025-01-07 00:17:37,230] Trial 68 finished with value: 0.042238256858025604 and parameters: {'topK': 8, 'alpha': 0.3505874533642257, 'beta': 0.17018579508525858, 'normalize_similarity': True, 'implicit': True}. Best is trial 32 with value: 0.04280850810601558.\n"
     ]
    },
    {
     "name": "stdout",
     "output_type": "stream",
     "text": [
      "RP3betaRecommender: Similarity column 38121 (100.0%), 4154.97 column/sec. Elapsed time 9.17 sec\n",
      "EvaluatorHoldout: Processed 35209 (100.0%) in 8.76 sec. Users per second: 4017\n"
     ]
    },
    {
     "name": "stderr",
     "output_type": "stream",
     "text": [
      "[I 2025-01-07 00:17:55,532] Trial 69 finished with value: 0.04264244644339049 and parameters: {'topK': 13, 'alpha': 0.3159876399265812, 'beta': 0.15757786241573818, 'normalize_similarity': True, 'implicit': False}. Best is trial 32 with value: 0.04280850810601558.\n"
     ]
    },
    {
     "name": "stdout",
     "output_type": "stream",
     "text": [
      "RP3betaRecommender: Similarity column 38121 (100.0%), 3368.96 column/sec. Elapsed time 11.32 sec\n",
      "EvaluatorHoldout: Processed 35209 (100.0%) in 9.02 sec. Users per second: 3904\n"
     ]
    },
    {
     "name": "stderr",
     "output_type": "stream",
     "text": [
      "[I 2025-01-07 00:18:16,283] Trial 70 finished with value: 0.04267598201577982 and parameters: {'topK': 18, 'alpha': 0.3368408429741476, 'beta': 0.1850406590320168, 'normalize_similarity': True, 'implicit': True}. Best is trial 32 with value: 0.04280850810601558.\n"
     ]
    },
    {
     "name": "stdout",
     "output_type": "stream",
     "text": [
      "RP3betaRecommender: Similarity column 38121 (100.0%), 4128.73 column/sec. Elapsed time 9.23 sec\n",
      "EvaluatorHoldout: Processed 35209 (100.0%) in 8.89 sec. Users per second: 3962\n"
     ]
    },
    {
     "name": "stderr",
     "output_type": "stream",
     "text": [
      "[I 2025-01-07 00:18:34,787] Trial 71 finished with value: 0.04276809861475537 and parameters: {'topK': 13, 'alpha': 0.36703564641104997, 'beta': 0.2507569537352609, 'normalize_similarity': True, 'implicit': True}. Best is trial 32 with value: 0.04280850810601558.\n"
     ]
    },
    {
     "name": "stdout",
     "output_type": "stream",
     "text": [
      "RP3betaRecommender: Similarity column 38121 (100.0%), 3870.77 column/sec. Elapsed time 9.85 sec\n",
      "EvaluatorHoldout: Processed 35209 (100.0%) in 8.65 sec. Users per second: 4073\n"
     ]
    },
    {
     "name": "stderr",
     "output_type": "stream",
     "text": [
      "[I 2025-01-07 00:18:53,629] Trial 72 finished with value: 0.042666665765019506 and parameters: {'topK': 12, 'alpha': 0.3693178571398423, 'beta': 0.15026451802656882, 'normalize_similarity': True, 'implicit': True}. Best is trial 32 with value: 0.04280850810601558.\n"
     ]
    },
    {
     "name": "stdout",
     "output_type": "stream",
     "text": [
      "RP3betaRecommender: Similarity column 38121 (100.0%), 3412.45 column/sec. Elapsed time 11.17 sec\n",
      "EvaluatorHoldout: Processed 35209 (100.0%) in 8.83 sec. Users per second: 3989\n"
     ]
    },
    {
     "name": "stderr",
     "output_type": "stream",
     "text": [
      "[I 2025-01-07 00:19:14,003] Trial 73 finished with value: 0.042818287577083176 and parameters: {'topK': 14, 'alpha': 0.3551128205709758, 'beta': 0.20815331548675817, 'normalize_similarity': True, 'implicit': True}. Best is trial 73 with value: 0.042818287577083176.\n"
     ]
    },
    {
     "name": "stdout",
     "output_type": "stream",
     "text": [
      "RP3betaRecommender: Similarity column 38121 (100.0%), 3607.64 column/sec. Elapsed time 10.57 sec\n",
      "EvaluatorHoldout: Processed 35209 (100.0%) in 8.92 sec. Users per second: 3948\n"
     ]
    },
    {
     "name": "stderr",
     "output_type": "stream",
     "text": [
      "[I 2025-01-07 00:19:33,896] Trial 74 finished with value: 0.0427868753795346 and parameters: {'topK': 16, 'alpha': 0.3572754823214406, 'beta': 0.20646190088869976, 'normalize_similarity': True, 'implicit': True}. Best is trial 73 with value: 0.042818287577083176.\n"
     ]
    },
    {
     "name": "stdout",
     "output_type": "stream",
     "text": [
      "RP3betaRecommender: Similarity column 38121 (100.0%), 3636.36 column/sec. Elapsed time 10.48 sec\n",
      "EvaluatorHoldout: Processed 35209 (100.0%) in 8.95 sec. Users per second: 3934\n"
     ]
    },
    {
     "name": "stderr",
     "output_type": "stream",
     "text": [
      "[I 2025-01-07 00:19:53,742] Trial 75 finished with value: 0.04281657332382823 and parameters: {'topK': 16, 'alpha': 0.3533215830612101, 'beta': 0.20583415557173082, 'normalize_similarity': True, 'implicit': True}. Best is trial 73 with value: 0.042818287577083176.\n"
     ]
    },
    {
     "name": "stdout",
     "output_type": "stream",
     "text": [
      "RP3betaRecommender: Similarity column 38121 (100.0%), 3758.16 column/sec. Elapsed time 10.14 sec\n",
      "EvaluatorHoldout: Processed 35209 (100.0%) in 8.94 sec. Users per second: 3939\n"
     ]
    },
    {
     "name": "stderr",
     "output_type": "stream",
     "text": [
      "[I 2025-01-07 00:20:13,228] Trial 76 finished with value: 0.042748685062935284 and parameters: {'topK': 16, 'alpha': 0.3546807258675002, 'beta': 0.20916955530134862, 'normalize_similarity': True, 'implicit': True}. Best is trial 73 with value: 0.042818287577083176.\n"
     ]
    },
    {
     "name": "stdout",
     "output_type": "stream",
     "text": [
      "RP3betaRecommender: Similarity column 38121 (100.0%), 3237.57 column/sec. Elapsed time 11.77 sec\n",
      "EvaluatorHoldout: Processed 35209 (100.0%) in 8.99 sec. Users per second: 3917\n"
     ]
    },
    {
     "name": "stderr",
     "output_type": "stream",
     "text": [
      "[I 2025-01-07 00:20:34,415] Trial 77 finished with value: 0.042743144452151695 and parameters: {'topK': 18, 'alpha': 0.34544074068045943, 'beta': 0.22215799995270577, 'normalize_similarity': True, 'implicit': True}. Best is trial 73 with value: 0.042818287577083176.\n"
     ]
    },
    {
     "name": "stdout",
     "output_type": "stream",
     "text": [
      "RP3betaRecommender: Similarity column 38121 (100.0%), 3928.08 column/sec. Elapsed time 9.70 sec\n",
      "EvaluatorHoldout: Processed 35209 (100.0%) in 9.00 sec. Users per second: 3912\n"
     ]
    },
    {
     "name": "stderr",
     "output_type": "stream",
     "text": [
      "[I 2025-01-07 00:20:53,519] Trial 78 finished with value: 0.04274791866437279 and parameters: {'topK': 16, 'alpha': 0.3689844343500876, 'beta': 0.2167255346812424, 'normalize_similarity': True, 'implicit': True}. Best is trial 73 with value: 0.042818287577083176.\n"
     ]
    },
    {
     "name": "stdout",
     "output_type": "stream",
     "text": [
      "RP3betaRecommender: Similarity column 38121 (100.0%), 3318.01 column/sec. Elapsed time 11.49 sec\n",
      "EvaluatorHoldout: Processed 35209 (100.0%) in 9.00 sec. Users per second: 3912\n"
     ]
    },
    {
     "name": "stderr",
     "output_type": "stream",
     "text": [
      "[I 2025-01-07 00:21:14,403] Trial 79 finished with value: 0.03540264213650167 and parameters: {'topK': 15, 'alpha': 0.37701098718500575, 'beta': 0.2059221538758302, 'normalize_similarity': False, 'implicit': True}. Best is trial 73 with value: 0.042818287577083176.\n"
     ]
    },
    {
     "name": "stdout",
     "output_type": "stream",
     "text": [
      "RP3betaRecommender: Similarity column 38121 (100.0%), 4211.79 column/sec. Elapsed time 9.05 sec\n",
      "EvaluatorHoldout: Processed 35209 (100.0%) in 9.05 sec. Users per second: 3889\n"
     ]
    },
    {
     "name": "stderr",
     "output_type": "stream",
     "text": [
      "[I 2025-01-07 00:21:32,954] Trial 80 finished with value: 0.04257278194112345 and parameters: {'topK': 20, 'alpha': 0.3155489140720569, 'beta': 0.19418137766276206, 'normalize_similarity': True, 'implicit': True}. Best is trial 73 with value: 0.042818287577083176.\n"
     ]
    },
    {
     "name": "stdout",
     "output_type": "stream",
     "text": [
      "RP3betaRecommender: Similarity column 38121 (100.0%), 3564.43 column/sec. Elapsed time 10.69 sec\n",
      "EvaluatorHoldout: Processed 35209 (100.0%) in 8.81 sec. Users per second: 3995\n"
     ]
    },
    {
     "name": "stderr",
     "output_type": "stream",
     "text": [
      "[I 2025-01-07 00:21:52,851] Trial 81 finished with value: 0.04284860878373713 and parameters: {'topK': 14, 'alpha': 0.35736273092872345, 'beta': 0.20345720170217205, 'normalize_similarity': True, 'implicit': True}. Best is trial 81 with value: 0.04284860878373713.\n"
     ]
    },
    {
     "name": "stdout",
     "output_type": "stream",
     "text": [
      "RP3betaRecommender: Similarity column 38121 (100.0%), 3258.26 column/sec. Elapsed time 11.70 sec\n",
      "EvaluatorHoldout: Processed 35209 (100.0%) in 8.91 sec. Users per second: 3953\n"
     ]
    },
    {
     "name": "stderr",
     "output_type": "stream",
     "text": [
      "[I 2025-01-07 00:22:13,871] Trial 82 finished with value: 0.0427848737268186 and parameters: {'topK': 17, 'alpha': 0.36084678528371755, 'beta': 0.20239887642195317, 'normalize_similarity': True, 'implicit': True}. Best is trial 81 with value: 0.04284860878373713.\n"
     ]
    },
    {
     "name": "stdout",
     "output_type": "stream",
     "text": [
      "RP3betaRecommender: Similarity column 38121 (100.0%), 3657.29 column/sec. Elapsed time 10.42 sec\n",
      "EvaluatorHoldout: Processed 35209 (100.0%) in 8.99 sec. Users per second: 3916\n"
     ]
    },
    {
     "name": "stderr",
     "output_type": "stream",
     "text": [
      "[I 2025-01-07 00:22:33,703] Trial 83 finished with value: 0.04276011679913906 and parameters: {'topK': 17, 'alpha': 0.3560661248867665, 'beta': 0.20450695078387654, 'normalize_similarity': True, 'implicit': True}. Best is trial 81 with value: 0.04284860878373713.\n"
     ]
    },
    {
     "name": "stdout",
     "output_type": "stream",
     "text": [
      "RP3betaRecommender: Similarity column 38121 (100.0%), 3602.31 column/sec. Elapsed time 10.58 sec\n",
      "EvaluatorHoldout: Processed 35209 (100.0%) in 9.06 sec. Users per second: 3888\n"
     ]
    },
    {
     "name": "stderr",
     "output_type": "stream",
     "text": [
      "[I 2025-01-07 00:22:53,781] Trial 84 finished with value: 0.042743263920162866 and parameters: {'topK': 18, 'alpha': 0.3424248430722852, 'beta': 0.21355282313710772, 'normalize_similarity': True, 'implicit': True}. Best is trial 81 with value: 0.04284860878373713.\n"
     ]
    },
    {
     "name": "stdout",
     "output_type": "stream",
     "text": [
      "RP3betaRecommender: Similarity column 38121 (100.0%), 3456.24 column/sec. Elapsed time 11.03 sec\n",
      "EvaluatorHoldout: Processed 35209 (100.0%) in 8.90 sec. Users per second: 3955\n"
     ]
    },
    {
     "name": "stderr",
     "output_type": "stream",
     "text": [
      "[I 2025-01-07 00:23:14,095] Trial 85 finished with value: 0.0428404184626298 and parameters: {'topK': 14, 'alpha': 0.33051533674452643, 'beta': 0.1951493572500563, 'normalize_similarity': True, 'implicit': True}. Best is trial 81 with value: 0.04284860878373713.\n"
     ]
    },
    {
     "name": "stdout",
     "output_type": "stream",
     "text": [
      "RP3betaRecommender: Similarity column 38121 (100.0%), 3705.05 column/sec. Elapsed time 10.29 sec\n",
      "EvaluatorHoldout: Processed 35209 (100.0%) in 9.04 sec. Users per second: 3895\n"
     ]
    },
    {
     "name": "stderr",
     "output_type": "stream",
     "text": [
      "[I 2025-01-07 00:23:33,864] Trial 86 finished with value: 0.042564058522192506 and parameters: {'topK': 20, 'alpha': 0.3290371866463229, 'beta': 0.19441375561644547, 'normalize_similarity': True, 'implicit': True}. Best is trial 81 with value: 0.04284860878373713.\n"
     ]
    },
    {
     "name": "stdout",
     "output_type": "stream",
     "text": [
      "RP3betaRecommender: Similarity column 38121 (100.0%), 3890.92 column/sec. Elapsed time 9.80 sec\n",
      "EvaluatorHoldout: Processed 35209 (100.0%) in 8.87 sec. Users per second: 3970\n"
     ]
    },
    {
     "name": "stderr",
     "output_type": "stream",
     "text": [
      "[I 2025-01-07 00:23:52,911] Trial 87 finished with value: 0.04280835708041641 and parameters: {'topK': 14, 'alpha': 0.35005118656090783, 'beta': 0.20159687861546513, 'normalize_similarity': True, 'implicit': True}. Best is trial 81 with value: 0.04284860878373713.\n"
     ]
    },
    {
     "name": "stdout",
     "output_type": "stream",
     "text": [
      "RP3betaRecommender: Similarity column 38121 (100.0%), 3399.36 column/sec. Elapsed time 11.21 sec\n",
      "EvaluatorHoldout: Processed 35209 (100.0%) in 8.94 sec. Users per second: 3939\n"
     ]
    },
    {
     "name": "stderr",
     "output_type": "stream",
     "text": [
      "[I 2025-01-07 00:24:13,465] Trial 88 finished with value: 0.04282796674010371 and parameters: {'topK': 15, 'alpha': 0.3492465720535894, 'beta': 0.22253553642351534, 'normalize_similarity': True, 'implicit': True}. Best is trial 81 with value: 0.04284860878373713.\n"
     ]
    },
    {
     "name": "stdout",
     "output_type": "stream",
     "text": [
      "RP3betaRecommender: Similarity column 38121 (100.0%), 3762.91 column/sec. Elapsed time 10.13 sec\n",
      "EvaluatorHoldout: Processed 35209 (100.0%) in 8.95 sec. Users per second: 3936\n"
     ]
    },
    {
     "name": "stderr",
     "output_type": "stream",
     "text": [
      "[I 2025-01-07 00:24:32,923] Trial 89 finished with value: 0.04278540795169887 and parameters: {'topK': 14, 'alpha': 0.3012209650470196, 'beta': 0.23256675765665924, 'normalize_similarity': True, 'implicit': True}. Best is trial 81 with value: 0.04284860878373713.\n"
     ]
    },
    {
     "name": "stdout",
     "output_type": "stream",
     "text": [
      "RP3betaRecommender: Similarity column 38121 (100.0%), 3178.56 column/sec. Elapsed time 11.99 sec\n",
      "EvaluatorHoldout: Processed 35209 (100.0%) in 8.84 sec. Users per second: 3984\n"
     ]
    },
    {
     "name": "stderr",
     "output_type": "stream",
     "text": [
      "[I 2025-01-07 00:24:54,134] Trial 90 finished with value: 0.042764690395265835 and parameters: {'topK': 14, 'alpha': 0.37731450616137147, 'beta': 0.19593957627263842, 'normalize_similarity': True, 'implicit': True}. Best is trial 81 with value: 0.04284860878373713.\n"
     ]
    },
    {
     "name": "stdout",
     "output_type": "stream",
     "text": [
      "RP3betaRecommender: Similarity column 38121 (100.0%), 3331.55 column/sec. Elapsed time 11.44 sec\n",
      "EvaluatorHoldout: Processed 35209 (100.0%) in 8.94 sec. Users per second: 3937\n"
     ]
    },
    {
     "name": "stderr",
     "output_type": "stream",
     "text": [
      "[I 2025-01-07 00:25:14,930] Trial 91 finished with value: 0.042769430795785796 and parameters: {'topK': 16, 'alpha': 0.3512605022111053, 'beta': 0.22460357086401836, 'normalize_similarity': True, 'implicit': True}. Best is trial 81 with value: 0.04284860878373713.\n"
     ]
    },
    {
     "name": "stdout",
     "output_type": "stream",
     "text": [
      "RP3betaRecommender: Similarity column 38121 (100.0%), 3900.09 column/sec. Elapsed time 9.77 sec\n",
      "EvaluatorHoldout: Processed 35209 (100.0%) in 8.87 sec. Users per second: 3968\n"
     ]
    },
    {
     "name": "stderr",
     "output_type": "stream",
     "text": [
      "[I 2025-01-07 00:25:33,968] Trial 92 finished with value: 0.04285685771179355 and parameters: {'topK': 15, 'alpha': 0.34679908887788097, 'beta': 0.2124083471867048, 'normalize_similarity': True, 'implicit': True}. Best is trial 92 with value: 0.04285685771179355.\n"
     ]
    },
    {
     "name": "stdout",
     "output_type": "stream",
     "text": [
      "RP3betaRecommender: Similarity column 38121 (100.0%), 3923.21 column/sec. Elapsed time 9.72 sec\n",
      "EvaluatorHoldout: Processed 35209 (100.0%) in 8.90 sec. Users per second: 3957\n"
     ]
    },
    {
     "name": "stderr",
     "output_type": "stream",
     "text": [
      "[I 2025-01-07 00:25:52,982] Trial 93 finished with value: 0.04284897507716783 and parameters: {'topK': 15, 'alpha': 0.31809252072583394, 'beta': 0.21322257114887716, 'normalize_similarity': True, 'implicit': True}. Best is trial 92 with value: 0.04285685771179355.\n"
     ]
    },
    {
     "name": "stdout",
     "output_type": "stream",
     "text": [
      "RP3betaRecommender: Similarity column 38121 (100.0%), 3624.86 column/sec. Elapsed time 10.52 sec\n",
      "EvaluatorHoldout: Processed 35209 (100.0%) in 8.81 sec. Users per second: 3997\n"
     ]
    },
    {
     "name": "stderr",
     "output_type": "stream",
     "text": [
      "[I 2025-01-07 00:26:12,718] Trial 94 finished with value: 0.04284396418303751 and parameters: {'topK': 15, 'alpha': 0.3445191863918695, 'beta': 0.21958056982658708, 'normalize_similarity': True, 'implicit': True}. Best is trial 92 with value: 0.04285685771179355.\n"
     ]
    },
    {
     "name": "stdout",
     "output_type": "stream",
     "text": [
      "RP3betaRecommender: Similarity column 38121 (100.0%), 3167.85 column/sec. Elapsed time 12.03 sec\n",
      "EvaluatorHoldout: Processed 35209 (100.0%) in 8.86 sec. Users per second: 3974\n"
     ]
    },
    {
     "name": "stderr",
     "output_type": "stream",
     "text": [
      "[I 2025-01-07 00:26:34,017] Trial 95 finished with value: 0.04285870495774018 and parameters: {'topK': 15, 'alpha': 0.34716889277632135, 'beta': 0.21862286679058074, 'normalize_similarity': True, 'implicit': True}. Best is trial 95 with value: 0.04285870495774018.\n"
     ]
    },
    {
     "name": "stdout",
     "output_type": "stream",
     "text": [
      "RP3betaRecommender: Similarity column 38121 (100.0%), 3642.34 column/sec. Elapsed time 10.47 sec\n",
      "EvaluatorHoldout: Processed 35209 (100.0%) in 8.91 sec. Users per second: 3953\n"
     ]
    },
    {
     "name": "stderr",
     "output_type": "stream",
     "text": [
      "[I 2025-01-07 00:26:53,786] Trial 96 finished with value: 0.034815806249032445 and parameters: {'topK': 15, 'alpha': 0.33074897695530964, 'beta': 0.21967281297254582, 'normalize_similarity': False, 'implicit': True}. Best is trial 95 with value: 0.04285870495774018.\n"
     ]
    },
    {
     "name": "stdout",
     "output_type": "stream",
     "text": [
      "RP3betaRecommender: Similarity column 38121 (100.0%), 3832.84 column/sec. Elapsed time 9.95 sec\n",
      "EvaluatorHoldout: Processed 35209 (100.0%) in 9.02 sec. Users per second: 3902\n"
     ]
    },
    {
     "name": "stderr",
     "output_type": "stream",
     "text": [
      "[I 2025-01-07 00:27:13,197] Trial 97 finished with value: 0.04269683481901764 and parameters: {'topK': 19, 'alpha': 0.34526092636427125, 'beta': 0.21177678828628274, 'normalize_similarity': True, 'implicit': True}. Best is trial 95 with value: 0.04285870495774018.\n"
     ]
    },
    {
     "name": "stdout",
     "output_type": "stream",
     "text": [
      "RP3betaRecommender: Similarity column 38121 (100.0%), 3884.32 column/sec. Elapsed time 9.81 sec\n",
      "EvaluatorHoldout: Processed 35209 (100.0%) in 8.91 sec. Users per second: 3953\n"
     ]
    },
    {
     "name": "stderr",
     "output_type": "stream",
     "text": [
      "[I 2025-01-07 00:27:32,313] Trial 98 finished with value: 0.042840981990984336 and parameters: {'topK': 15, 'alpha': 0.3089972131364438, 'beta': 0.23116810694863094, 'normalize_similarity': True, 'implicit': True}. Best is trial 95 with value: 0.04285870495774018.\n"
     ]
    },
    {
     "name": "stdout",
     "output_type": "stream",
     "text": [
      "RP3betaRecommender: Similarity column 38121 (100.0%), 3317.67 column/sec. Elapsed time 11.49 sec\n",
      "EvaluatorHoldout: Processed 35209 (100.0%) in 8.85 sec. Users per second: 3977\n"
     ]
    },
    {
     "name": "stderr",
     "output_type": "stream",
     "text": [
      "[I 2025-01-07 00:27:53,057] Trial 99 finished with value: 0.042853526132160376 and parameters: {'topK': 15, 'alpha': 0.307399291230028, 'beta': 0.2404053769281481, 'normalize_similarity': True, 'implicit': True}. Best is trial 95 with value: 0.04285870495774018.\n"
     ]
    },
    {
     "name": "stdout",
     "output_type": "stream",
     "text": [
      "RP3betaRecommender: Similarity column 38121 (100.0%), 3812.18 column/sec. Elapsed time 10.00 sec\n",
      "EvaluatorHoldout: Processed 35209 (100.0%) in 8.91 sec. Users per second: 3953\n"
     ]
    },
    {
     "name": "stderr",
     "output_type": "stream",
     "text": [
      "[I 2025-01-07 00:28:12,357] Trial 100 finished with value: 0.04282779317337056 and parameters: {'topK': 15, 'alpha': 0.2923163533678546, 'beta': 0.2305284866547387, 'normalize_similarity': True, 'implicit': True}. Best is trial 95 with value: 0.04285870495774018.\n"
     ]
    },
    {
     "name": "stdout",
     "output_type": "stream",
     "text": [
      "RP3betaRecommender: Similarity column 38121 (100.0%), 3442.86 column/sec. Elapsed time 11.07 sec\n",
      "EvaluatorHoldout: Processed 35209 (100.0%) in 8.89 sec. Users per second: 3959\n"
     ]
    },
    {
     "name": "stderr",
     "output_type": "stream",
     "text": [
      "[I 2025-01-07 00:28:32,720] Trial 101 finished with value: 0.04281648541340482 and parameters: {'topK': 15, 'alpha': 0.28684355127735695, 'beta': 0.23140529273852595, 'normalize_similarity': True, 'implicit': True}. Best is trial 95 with value: 0.04285870495774018.\n"
     ]
    },
    {
     "name": "stdout",
     "output_type": "stream",
     "text": [
      "RP3betaRecommender: Similarity column 38121 (100.0%), 3303.44 column/sec. Elapsed time 11.54 sec\n",
      "EvaluatorHoldout: Processed 35209 (100.0%) in 8.91 sec. Users per second: 3952\n"
     ]
    },
    {
     "name": "stderr",
     "output_type": "stream",
     "text": [
      "[I 2025-01-07 00:28:53,576] Trial 102 finished with value: 0.042771346792191994 and parameters: {'topK': 13, 'alpha': 0.295230239798022, 'beta': 0.23726741608114282, 'normalize_similarity': True, 'implicit': True}. Best is trial 95 with value: 0.04285870495774018.\n"
     ]
    },
    {
     "name": "stdout",
     "output_type": "stream",
     "text": [
      "RP3betaRecommender: Similarity column 38121 (100.0%), 3924.40 column/sec. Elapsed time 9.71 sec\n",
      "EvaluatorHoldout: Processed 35209 (100.0%) in 8.99 sec. Users per second: 3915\n"
     ]
    },
    {
     "name": "stderr",
     "output_type": "stream",
     "text": [
      "[I 2025-01-07 00:29:12,708] Trial 103 finished with value: 0.042684794472190694 and parameters: {'topK': 18, 'alpha': 0.30594483484710655, 'beta': 0.240047132541652, 'normalize_similarity': True, 'implicit': True}. Best is trial 95 with value: 0.04285870495774018.\n"
     ]
    },
    {
     "name": "stdout",
     "output_type": "stream",
     "text": [
      "RP3betaRecommender: Similarity column 38121 (100.0%), 3279.96 column/sec. Elapsed time 11.62 sec\n",
      "EvaluatorHoldout: Processed 35209 (100.0%) in 8.98 sec. Users per second: 3920\n"
     ]
    },
    {
     "name": "stderr",
     "output_type": "stream",
     "text": [
      "[I 2025-01-07 00:29:33,735] Trial 104 finished with value: 0.0427108576585964 and parameters: {'topK': 17, 'alpha': 0.31538396525272766, 'beta': 0.22805159291687285, 'normalize_similarity': True, 'implicit': True}. Best is trial 95 with value: 0.04285870495774018.\n"
     ]
    },
    {
     "name": "stdout",
     "output_type": "stream",
     "text": [
      "RP3betaRecommender: Similarity column 38121 (100.0%), 4125.91 column/sec. Elapsed time 9.24 sec\n",
      "EvaluatorHoldout: Processed 35209 (100.0%) in 8.91 sec. Users per second: 3951\n"
     ]
    },
    {
     "name": "stderr",
     "output_type": "stream",
     "text": [
      "[I 2025-01-07 00:29:52,274] Trial 105 finished with value: 0.04282290062019489 and parameters: {'topK': 14, 'alpha': 0.31058305737118475, 'beta': 0.24490170368678868, 'normalize_similarity': True, 'implicit': True}. Best is trial 95 with value: 0.04285870495774018.\n"
     ]
    },
    {
     "name": "stdout",
     "output_type": "stream",
     "text": [
      "RP3betaRecommender: Similarity column 38121 (100.0%), 3932.22 column/sec. Elapsed time 9.69 sec\n",
      "EvaluatorHoldout: Processed 35209 (100.0%) in 8.88 sec. Users per second: 3965\n"
     ]
    },
    {
     "name": "stderr",
     "output_type": "stream",
     "text": [
      "[I 2025-01-07 00:30:11,242] Trial 106 finished with value: 0.04285318688809082 and parameters: {'topK': 15, 'alpha': 0.29160451028669704, 'beta': 0.24422257448350268, 'normalize_similarity': True, 'implicit': True}. Best is trial 95 with value: 0.04285870495774018.\n"
     ]
    },
    {
     "name": "stdout",
     "output_type": "stream",
     "text": [
      "RP3betaRecommender: Similarity column 38121 (100.0%), 3481.75 column/sec. Elapsed time 10.95 sec\n",
      "EvaluatorHoldout: Processed 35209 (100.0%) in 8.80 sec. Users per second: 4003\n"
     ]
    },
    {
     "name": "stderr",
     "output_type": "stream",
     "text": [
      "[I 2025-01-07 00:30:31,375] Trial 107 finished with value: 0.042809727581375016 and parameters: {'topK': 15, 'alpha': 0.2948642811816041, 'beta': 0.21769097968305123, 'normalize_similarity': True, 'implicit': True}. Best is trial 95 with value: 0.04285870495774018.\n"
     ]
    },
    {
     "name": "stdout",
     "output_type": "stream",
     "text": [
      "RP3betaRecommender: Similarity column 38121 (100.0%), 3676.14 column/sec. Elapsed time 10.37 sec\n",
      "EvaluatorHoldout: Processed 35209 (100.0%) in 9.11 sec. Users per second: 3866\n"
     ]
    },
    {
     "name": "stderr",
     "output_type": "stream",
     "text": [
      "[I 2025-01-07 00:30:51,286] Trial 108 finished with value: 0.042673763968175495 and parameters: {'topK': 19, 'alpha': 0.3206033831055979, 'beta': 0.22531436974670835, 'normalize_similarity': True, 'implicit': True}. Best is trial 95 with value: 0.04285870495774018.\n"
     ]
    },
    {
     "name": "stdout",
     "output_type": "stream",
     "text": [
      "RP3betaRecommender: Similarity column 38121 (100.0%), 4097.71 column/sec. Elapsed time 9.30 sec\n",
      "EvaluatorHoldout: Processed 35209 (100.0%) in 9.00 sec. Users per second: 3911\n"
     ]
    },
    {
     "name": "stderr",
     "output_type": "stream",
     "text": [
      "[I 2025-01-07 00:31:10,019] Trial 109 finished with value: 0.04271875043673253 and parameters: {'topK': 17, 'alpha': 0.28806691906692816, 'beta': 0.24251037174546508, 'normalize_similarity': True, 'implicit': True}. Best is trial 95 with value: 0.04285870495774018.\n"
     ]
    },
    {
     "name": "stdout",
     "output_type": "stream",
     "text": [
      "RP3betaRecommender: Similarity column 38121 (100.0%), 3280.25 column/sec. Elapsed time 11.62 sec\n",
      "EvaluatorHoldout: Processed 35209 (100.0%) in 8.82 sec. Users per second: 3994\n"
     ]
    },
    {
     "name": "stderr",
     "output_type": "stream",
     "text": [
      "[I 2025-01-07 00:31:30,816] Trial 110 finished with value: 0.04278285742236539 and parameters: {'topK': 12, 'alpha': 0.2747775823600671, 'beta': 0.22126647836938956, 'normalize_similarity': True, 'implicit': True}. Best is trial 95 with value: 0.04285870495774018.\n"
     ]
    },
    {
     "name": "stdout",
     "output_type": "stream",
     "text": [
      "RP3betaRecommender: Similarity column 38121 (100.0%), 3722.07 column/sec. Elapsed time 10.24 sec\n",
      "EvaluatorHoldout: Processed 35209 (100.0%) in 8.96 sec. Users per second: 3929\n"
     ]
    },
    {
     "name": "stderr",
     "output_type": "stream",
     "text": [
      "[I 2025-01-07 00:31:50,432] Trial 111 finished with value: 0.042693525780518604 and parameters: {'topK': 16, 'alpha': 0.3088704617581695, 'beta': 0.24829271639980666, 'normalize_similarity': True, 'implicit': True}. Best is trial 95 with value: 0.04285870495774018.\n"
     ]
    },
    {
     "name": "stdout",
     "output_type": "stream",
     "text": [
      "RP3betaRecommender: Similarity column 38121 (100.0%), 3997.27 column/sec. Elapsed time 9.54 sec\n",
      "EvaluatorHoldout: Processed 35209 (100.0%) in 8.89 sec. Users per second: 3961\n"
     ]
    },
    {
     "name": "stderr",
     "output_type": "stream",
     "text": [
      "[I 2025-01-07 00:32:09,227] Trial 112 finished with value: 0.04284678069775441 and parameters: {'topK': 13, 'alpha': 0.3099795513117423, 'beta': 0.2307282658870938, 'normalize_similarity': True, 'implicit': True}. Best is trial 95 with value: 0.04285870495774018.\n"
     ]
    },
    {
     "name": "stdout",
     "output_type": "stream",
     "text": [
      "RP3betaRecommender: Similarity column 38121 (100.0%), 3653.73 column/sec. Elapsed time 10.43 sec\n",
      "EvaluatorHoldout: Processed 35209 (100.0%) in 8.90 sec. Users per second: 3957\n"
     ]
    },
    {
     "name": "stderr",
     "output_type": "stream",
     "text": [
      "[I 2025-01-07 00:32:28,961] Trial 113 finished with value: 0.04280316585721258 and parameters: {'topK': 15, 'alpha': 0.3268093223792304, 'beta': 0.22856503524740437, 'normalize_similarity': True, 'implicit': True}. Best is trial 95 with value: 0.04285870495774018.\n"
     ]
    },
    {
     "name": "stdout",
     "output_type": "stream",
     "text": [
      "RP3betaRecommender: Similarity column 38121 (100.0%), 3512.67 column/sec. Elapsed time 10.85 sec\n",
      "EvaluatorHoldout: Processed 35209 (100.0%) in 8.81 sec. Users per second: 3997\n"
     ]
    },
    {
     "name": "stderr",
     "output_type": "stream",
     "text": [
      "[I 2025-01-07 00:32:48,986] Trial 114 finished with value: 0.04287586665025484 and parameters: {'topK': 12, 'alpha': 0.2922428494372778, 'beta': 0.23302149917163553, 'normalize_similarity': True, 'implicit': True}. Best is trial 114 with value: 0.04287586665025484.\n"
     ]
    },
    {
     "name": "stdout",
     "output_type": "stream",
     "text": [
      "RP3betaRecommender: Similarity column 38121 (100.0%), 3372.06 column/sec. Elapsed time 11.30 sec\n",
      "EvaluatorHoldout: Processed 35209 (100.0%) in 8.73 sec. Users per second: 4033\n"
     ]
    },
    {
     "name": "stderr",
     "output_type": "stream",
     "text": [
      "[I 2025-01-07 00:33:09,378] Trial 115 finished with value: 0.042698114028383034 and parameters: {'topK': 10, 'alpha': 0.30215856150791154, 'beta': 0.21357590215619235, 'normalize_similarity': True, 'implicit': True}. Best is trial 114 with value: 0.04287586665025484.\n"
     ]
    },
    {
     "name": "stdout",
     "output_type": "stream",
     "text": [
      "RP3betaRecommender: Similarity column 38121 (100.0%), 3505.88 column/sec. Elapsed time 10.87 sec\n",
      "EvaluatorHoldout: Processed 35209 (100.0%) in 8.71 sec. Users per second: 4041\n"
     ]
    },
    {
     "name": "stderr",
     "output_type": "stream",
     "text": [
      "[I 2025-01-07 00:33:29,338] Trial 116 finished with value: 0.03402258035576145 and parameters: {'topK': 13, 'alpha': 0.26706598760482675, 'beta': 0.23357533444281348, 'normalize_similarity': False, 'implicit': True}. Best is trial 114 with value: 0.04287586665025484.\n"
     ]
    },
    {
     "name": "stdout",
     "output_type": "stream",
     "text": [
      "RP3betaRecommender: Similarity column 38121 (100.0%), 3634.03 column/sec. Elapsed time 10.49 sec\n",
      "EvaluatorHoldout: Processed 35209 (100.0%) in 8.81 sec. Users per second: 3998\n"
     ]
    },
    {
     "name": "stderr",
     "output_type": "stream",
     "text": [
      "[I 2025-01-07 00:33:48,994] Trial 117 finished with value: 0.04290337134219192 and parameters: {'topK': 12, 'alpha': 0.28005773417046403, 'beta': 0.23922705546440193, 'normalize_similarity': True, 'implicit': True}. Best is trial 117 with value: 0.04290337134219192.\n"
     ]
    },
    {
     "name": "stdout",
     "output_type": "stream",
     "text": [
      "RP3betaRecommender: Similarity column 38121 (100.0%), 3345.61 column/sec. Elapsed time 11.39 sec\n",
      "EvaluatorHoldout: Processed 35209 (100.0%) in 8.93 sec. Users per second: 3945\n"
     ]
    },
    {
     "name": "stderr",
     "output_type": "stream",
     "text": [
      "[I 2025-01-07 00:34:09,675] Trial 118 finished with value: 0.04287910468418103 and parameters: {'topK': 12, 'alpha': 0.28171761991998057, 'beta': 0.24161257678572381, 'normalize_similarity': True, 'implicit': True}. Best is trial 117 with value: 0.04290337134219192.\n"
     ]
    },
    {
     "name": "stdout",
     "output_type": "stream",
     "text": [
      "RP3betaRecommender: Similarity column 38121 (100.0%), 3378.43 column/sec. Elapsed time 11.28 sec\n",
      "EvaluatorHoldout: Processed 35209 (100.0%) in 8.88 sec. Users per second: 3967\n"
     ]
    },
    {
     "name": "stderr",
     "output_type": "stream",
     "text": [
      "[I 2025-01-07 00:34:30,197] Trial 119 finished with value: 0.04289873237677586 and parameters: {'topK': 12, 'alpha': 0.2795796988398721, 'beta': 0.23942010594360966, 'normalize_similarity': True, 'implicit': True}. Best is trial 117 with value: 0.04290337134219192.\n"
     ]
    },
    {
     "name": "stdout",
     "output_type": "stream",
     "text": [
      "RP3betaRecommender: Similarity column 38121 (100.0%), 3845.93 column/sec. Elapsed time 9.91 sec\n",
      "EvaluatorHoldout: Processed 35209 (100.0%) in 8.75 sec. Users per second: 4024\n"
     ]
    },
    {
     "name": "stderr",
     "output_type": "stream",
     "text": [
      "[I 2025-01-07 00:34:49,206] Trial 120 finished with value: 0.04271540984064593 and parameters: {'topK': 10, 'alpha': 0.27471847686909434, 'beta': 0.23866792442720025, 'normalize_similarity': True, 'implicit': True}. Best is trial 117 with value: 0.04290337134219192.\n"
     ]
    },
    {
     "name": "stdout",
     "output_type": "stream",
     "text": [
      "RP3betaRecommender: Similarity column 38121 (100.0%), 3364.51 column/sec. Elapsed time 11.33 sec\n",
      "EvaluatorHoldout: Processed 35209 (100.0%) in 8.82 sec. Users per second: 3991\n"
     ]
    },
    {
     "name": "stderr",
     "output_type": "stream",
     "text": [
      "[I 2025-01-07 00:35:09,731] Trial 121 finished with value: 0.04289104134179068 and parameters: {'topK': 12, 'alpha': 0.2828426625904059, 'beta': 0.25683935339368613, 'normalize_similarity': True, 'implicit': True}. Best is trial 117 with value: 0.04290337134219192.\n"
     ]
    },
    {
     "name": "stdout",
     "output_type": "stream",
     "text": [
      "RP3betaRecommender: Similarity column 38121 (100.0%), 4181.75 column/sec. Elapsed time 9.12 sec\n",
      "EvaluatorHoldout: Processed 35209 (100.0%) in 8.71 sec. Users per second: 4040\n"
     ]
    },
    {
     "name": "stderr",
     "output_type": "stream",
     "text": [
      "[I 2025-01-07 00:35:27,917] Trial 122 finished with value: 0.04263551391757065 and parameters: {'topK': 9, 'alpha': 0.2799119112515309, 'beta': 0.2544589741634212, 'normalize_similarity': True, 'implicit': True}. Best is trial 117 with value: 0.04290337134219192.\n"
     ]
    },
    {
     "name": "stdout",
     "output_type": "stream",
     "text": [
      "RP3betaRecommender: Similarity column 38121 (100.0%), 3420.99 column/sec. Elapsed time 11.14 sec\n",
      "EvaluatorHoldout: Processed 35209 (100.0%) in 8.80 sec. Users per second: 4002\n"
     ]
    },
    {
     "name": "stderr",
     "output_type": "stream",
     "text": [
      "[I 2025-01-07 00:35:48,224] Trial 123 finished with value: 0.04283467723575185 and parameters: {'topK': 12, 'alpha': 0.2629927072971885, 'beta': 0.2520337378924545, 'normalize_similarity': True, 'implicit': True}. Best is trial 117 with value: 0.04290337134219192.\n"
     ]
    },
    {
     "name": "stdout",
     "output_type": "stream",
     "text": [
      "RP3betaRecommender: Similarity column 38121 (100.0%), 3367.73 column/sec. Elapsed time 11.32 sec\n",
      "EvaluatorHoldout: Processed 35209 (100.0%) in 8.86 sec. Users per second: 3972\n"
     ]
    },
    {
     "name": "stderr",
     "output_type": "stream",
     "text": [
      "[I 2025-01-07 00:36:08,776] Trial 124 finished with value: 0.04289880788957572 and parameters: {'topK': 11, 'alpha': 0.2847510405794645, 'beta': 0.24499412466224393, 'normalize_similarity': True, 'implicit': True}. Best is trial 117 with value: 0.04290337134219192.\n"
     ]
    },
    {
     "name": "stdout",
     "output_type": "stream",
     "text": [
      "RP3betaRecommender: Similarity column 38121 (100.0%), 3271.61 column/sec. Elapsed time 11.65 sec\n",
      "EvaluatorHoldout: Processed 35209 (100.0%) in 8.76 sec. Users per second: 4017\n"
     ]
    },
    {
     "name": "stderr",
     "output_type": "stream",
     "text": [
      "[I 2025-01-07 00:36:29,562] Trial 125 finished with value: 0.042882869053590636 and parameters: {'topK': 12, 'alpha': 0.279329558604867, 'beta': 0.24546048966791495, 'normalize_similarity': True, 'implicit': True}. Best is trial 117 with value: 0.04290337134219192.\n"
     ]
    },
    {
     "name": "stdout",
     "output_type": "stream",
     "text": [
      "RP3betaRecommender: Similarity column 38121 (100.0%), 3564.53 column/sec. Elapsed time 10.69 sec\n",
      "EvaluatorHoldout: Processed 35209 (100.0%) in 8.79 sec. Users per second: 4005\n"
     ]
    },
    {
     "name": "stderr",
     "output_type": "stream",
     "text": [
      "[I 2025-01-07 00:36:49,419] Trial 126 finished with value: 0.04283124760218522 and parameters: {'topK': 11, 'alpha': 0.2809019104961481, 'beta': 0.25884033293513636, 'normalize_similarity': True, 'implicit': True}. Best is trial 117 with value: 0.04290337134219192.\n"
     ]
    },
    {
     "name": "stdout",
     "output_type": "stream",
     "text": [
      "RP3betaRecommender: Similarity column 38121 (100.0%), 3910.50 column/sec. Elapsed time 9.75 sec\n",
      "EvaluatorHoldout: Processed 35209 (100.0%) in 8.82 sec. Users per second: 3991\n"
     ]
    },
    {
     "name": "stderr",
     "output_type": "stream",
     "text": [
      "[I 2025-01-07 00:37:08,330] Trial 127 finished with value: 0.04263086480864423 and parameters: {'topK': 9, 'alpha': 0.2658837260791295, 'beta': 0.24276533286158714, 'normalize_similarity': True, 'implicit': True}. Best is trial 117 with value: 0.04290337134219192.\n"
     ]
    },
    {
     "name": "stdout",
     "output_type": "stream",
     "text": [
      "RP3betaRecommender: Similarity column 38121 (100.0%), 3457.61 column/sec. Elapsed time 11.03 sec\n",
      "EvaluatorHoldout: Processed 35209 (100.0%) in 8.77 sec. Users per second: 4016\n"
     ]
    },
    {
     "name": "stderr",
     "output_type": "stream",
     "text": [
      "[I 2025-01-07 00:37:28,492] Trial 128 finished with value: 0.04289739568751877 and parameters: {'topK': 11, 'alpha': 0.28126760580662025, 'beta': 0.24765424697276023, 'normalize_similarity': True, 'implicit': True}. Best is trial 117 with value: 0.04290337134219192.\n"
     ]
    },
    {
     "name": "stdout",
     "output_type": "stream",
     "text": [
      "RP3betaRecommender: Similarity column 38121 (100.0%), 3414.98 column/sec. Elapsed time 11.16 sec\n",
      "EvaluatorHoldout: Processed 35209 (100.0%) in 8.78 sec. Users per second: 4010\n"
     ]
    },
    {
     "name": "stderr",
     "output_type": "stream",
     "text": [
      "[I 2025-01-07 00:37:48,803] Trial 129 finished with value: 0.042919711410365595 and parameters: {'topK': 11, 'alpha': 0.28960602359245613, 'beta': 0.246086304581279, 'normalize_similarity': True, 'implicit': True}. Best is trial 129 with value: 0.042919711410365595.\n"
     ]
    },
    {
     "name": "stdout",
     "output_type": "stream",
     "text": [
      "RP3betaRecommender: Similarity column 38121 (100.0%), 3314.15 column/sec. Elapsed time 11.50 sec\n",
      "EvaluatorHoldout: Processed 35209 (100.0%) in 8.73 sec. Users per second: 4034\n"
     ]
    },
    {
     "name": "stderr",
     "output_type": "stream",
     "text": [
      "[I 2025-01-07 00:38:09,391] Trial 130 finished with value: 0.042708695963827724 and parameters: {'topK': 10, 'alpha': 0.28165257573792774, 'beta': 0.24525214302928436, 'normalize_similarity': True, 'implicit': True}. Best is trial 129 with value: 0.042919711410365595.\n"
     ]
    },
    {
     "name": "stdout",
     "output_type": "stream",
     "text": [
      "RP3betaRecommender: Similarity column 38121 (100.0%), 3830.07 column/sec. Elapsed time 9.95 sec\n",
      "EvaluatorHoldout: Processed 35209 (100.0%) in 8.80 sec. Users per second: 3999\n"
     ]
    },
    {
     "name": "stderr",
     "output_type": "stream",
     "text": [
      "[I 2025-01-07 00:38:28,516] Trial 131 finished with value: 0.042923521989100225 and parameters: {'topK': 11, 'alpha': 0.2906294426757239, 'beta': 0.24874195517324016, 'normalize_similarity': True, 'implicit': True}. Best is trial 131 with value: 0.042923521989100225.\n"
     ]
    },
    {
     "name": "stdout",
     "output_type": "stream",
     "text": [
      "RP3betaRecommender: Similarity column 38121 (100.0%), 3777.41 column/sec. Elapsed time 10.09 sec\n",
      "EvaluatorHoldout: Processed 35209 (100.0%) in 8.67 sec. Users per second: 4062\n"
     ]
    },
    {
     "name": "stderr",
     "output_type": "stream",
     "text": [
      "[I 2025-01-07 00:38:47,598] Trial 132 finished with value: 0.042489735894545445 and parameters: {'topK': 8, 'alpha': 0.272516870044928, 'beta': 0.2503432855987292, 'normalize_similarity': True, 'implicit': True}. Best is trial 131 with value: 0.042923521989100225.\n"
     ]
    },
    {
     "name": "stdout",
     "output_type": "stream",
     "text": [
      "RP3betaRecommender: Similarity column 38121 (100.0%), 3628.31 column/sec. Elapsed time 10.51 sec\n",
      "EvaluatorHoldout: Processed 35209 (100.0%) in 8.81 sec. Users per second: 3998\n"
     ]
    },
    {
     "name": "stderr",
     "output_type": "stream",
     "text": [
      "[I 2025-01-07 00:39:07,276] Trial 133 finished with value: 0.04284254409158385 and parameters: {'topK': 11, 'alpha': 0.29096859820089704, 'beta': 0.25654941376827306, 'normalize_similarity': True, 'implicit': True}. Best is trial 131 with value: 0.042923521989100225.\n"
     ]
    },
    {
     "name": "stdout",
     "output_type": "stream",
     "text": [
      "RP3betaRecommender: Similarity column 38121 (100.0%), 3933.77 column/sec. Elapsed time 9.69 sec\n",
      "EvaluatorHoldout: Processed 35209 (100.0%) in 8.72 sec. Users per second: 4039\n"
     ]
    },
    {
     "name": "stderr",
     "output_type": "stream",
     "text": [
      "[I 2025-01-07 00:39:26,014] Trial 134 finished with value: 0.042453200097195505 and parameters: {'topK': 8, 'alpha': 0.2954594240733926, 'beta': 0.2401664076580676, 'normalize_similarity': True, 'implicit': True}. Best is trial 131 with value: 0.042923521989100225.\n"
     ]
    },
    {
     "name": "stdout",
     "output_type": "stream",
     "text": [
      "RP3betaRecommender: Similarity column 38121 (100.0%), 3660.04 column/sec. Elapsed time 10.42 sec\n",
      "EvaluatorHoldout: Processed 35209 (100.0%) in 8.77 sec. Users per second: 4013\n"
     ]
    },
    {
     "name": "stderr",
     "output_type": "stream",
     "text": [
      "[I 2025-01-07 00:39:45,572] Trial 135 finished with value: 0.042848639214268354 and parameters: {'topK': 12, 'alpha': 0.2841698878040347, 'beta': 0.2605418162851427, 'normalize_similarity': True, 'implicit': True}. Best is trial 131 with value: 0.042923521989100225.\n"
     ]
    },
    {
     "name": "stdout",
     "output_type": "stream",
     "text": [
      "RP3betaRecommender: Similarity column 38121 (100.0%), 3409.01 column/sec. Elapsed time 11.18 sec\n",
      "EvaluatorHoldout: Processed 35209 (100.0%) in 8.71 sec. Users per second: 4042\n"
     ]
    },
    {
     "name": "stderr",
     "output_type": "stream",
     "text": [
      "[I 2025-01-07 00:40:05,807] Trial 136 finished with value: 0.042671849098826146 and parameters: {'topK': 10, 'alpha': 0.24647605887420626, 'beta': 0.2456220049045197, 'normalize_similarity': True, 'implicit': True}. Best is trial 131 with value: 0.042923521989100225.\n"
     ]
    },
    {
     "name": "stdout",
     "output_type": "stream",
     "text": [
      "RP3betaRecommender: Similarity column 38121 (100.0%), 3389.61 column/sec. Elapsed time 11.25 sec\n",
      "EvaluatorHoldout: Processed 35209 (100.0%) in 8.82 sec. Users per second: 3994\n"
     ]
    },
    {
     "name": "stderr",
     "output_type": "stream",
     "text": [
      "[I 2025-01-07 00:40:26,236] Trial 137 finished with value: 0.042880538300315726 and parameters: {'topK': 11, 'alpha': 0.27706946171718955, 'beta': 0.2510750549692799, 'normalize_similarity': True, 'implicit': True}. Best is trial 131 with value: 0.042923521989100225.\n"
     ]
    },
    {
     "name": "stdout",
     "output_type": "stream",
     "text": [
      "RP3betaRecommender: Similarity column 38121 (100.0%), 3826.23 column/sec. Elapsed time 9.96 sec\n",
      "EvaluatorHoldout: Processed 35209 (100.0%) in 8.60 sec. Users per second: 4092\n"
     ]
    },
    {
     "name": "stderr",
     "output_type": "stream",
     "text": [
      "[I 2025-01-07 00:40:45,119] Trial 138 finished with value: 0.034789394802103565 and parameters: {'topK': 7, 'alpha': 0.25850361208489153, 'beta': 0.2533195603288628, 'normalize_similarity': False, 'implicit': True}. Best is trial 131 with value: 0.042923521989100225.\n"
     ]
    },
    {
     "name": "stdout",
     "output_type": "stream",
     "text": [
      "RP3betaRecommender: Similarity column 38121 (100.0%), 3347.58 column/sec. Elapsed time 11.39 sec\n",
      "EvaluatorHoldout: Processed 35209 (100.0%) in 8.95 sec. Users per second: 3936\n"
     ]
    },
    {
     "name": "stderr",
     "output_type": "stream",
     "text": [
      "[I 2025-01-07 00:41:05,823] Trial 139 finished with value: 0.04285185358000358 and parameters: {'topK': 12, 'alpha': 0.27057193463191787, 'beta': 0.23558201058739447, 'normalize_similarity': True, 'implicit': True}. Best is trial 131 with value: 0.042923521989100225.\n"
     ]
    },
    {
     "name": "stdout",
     "output_type": "stream",
     "text": [
      "RP3betaRecommender: Similarity column 38121 (100.0%), 4149.11 column/sec. Elapsed time 9.19 sec\n",
      "EvaluatorHoldout: Processed 35209 (100.0%) in 8.72 sec. Users per second: 4037\n"
     ]
    },
    {
     "name": "stderr",
     "output_type": "stream",
     "text": [
      "[I 2025-01-07 00:41:24,072] Trial 140 finished with value: 0.04268193625637563 and parameters: {'topK': 9, 'alpha': 0.2784098686908366, 'beta': 0.2514395999521243, 'normalize_similarity': True, 'implicit': True}. Best is trial 131 with value: 0.042923521989100225.\n"
     ]
    },
    {
     "name": "stdout",
     "output_type": "stream",
     "text": [
      "RP3betaRecommender: Similarity column 38121 (100.0%), 3675.09 column/sec. Elapsed time 10.37 sec\n",
      "EvaluatorHoldout: Processed 35209 (100.0%) in 8.76 sec. Users per second: 4021\n"
     ]
    },
    {
     "name": "stderr",
     "output_type": "stream",
     "text": [
      "[I 2025-01-07 00:41:43,565] Trial 141 finished with value: 0.04291857646425924 and parameters: {'topK': 11, 'alpha': 0.2869103552727713, 'beta': 0.24816116174222114, 'normalize_similarity': True, 'implicit': True}. Best is trial 131 with value: 0.042923521989100225.\n"
     ]
    },
    {
     "name": "stdout",
     "output_type": "stream",
     "text": [
      "RP3betaRecommender: Similarity column 38121 (100.0%), 3308.48 column/sec. Elapsed time 11.52 sec\n",
      "EvaluatorHoldout: Processed 35209 (100.0%) in 8.75 sec. Users per second: 4023\n"
     ]
    },
    {
     "name": "stderr",
     "output_type": "stream",
     "text": [
      "[I 2025-01-07 00:42:04,210] Trial 142 finished with value: 0.04291014269890243 and parameters: {'topK': 11, 'alpha': 0.2992774671399005, 'beta': 0.24778262474226212, 'normalize_similarity': True, 'implicit': True}. Best is trial 131 with value: 0.042923521989100225.\n"
     ]
    },
    {
     "name": "stdout",
     "output_type": "stream",
     "text": [
      "RP3betaRecommender: Similarity column 38121 (100.0%), 3357.40 column/sec. Elapsed time 11.35 sec\n",
      "EvaluatorHoldout: Processed 35209 (100.0%) in 8.89 sec. Users per second: 3962\n"
     ]
    },
    {
     "name": "stderr",
     "output_type": "stream",
     "text": [
      "[I 2025-01-07 00:42:24,847] Trial 143 finished with value: 0.04282869143756826 and parameters: {'topK': 11, 'alpha': 0.2768678057029309, 'beta': 0.2617046702292368, 'normalize_similarity': True, 'implicit': True}. Best is trial 131 with value: 0.042923521989100225.\n"
     ]
    },
    {
     "name": "stdout",
     "output_type": "stream",
     "text": [
      "RP3betaRecommender: Similarity column 38121 (100.0%), 3896.67 column/sec. Elapsed time 9.78 sec\n",
      "EvaluatorHoldout: Processed 35209 (100.0%) in 8.75 sec. Users per second: 4026\n"
     ]
    },
    {
     "name": "stderr",
     "output_type": "stream",
     "text": [
      "[I 2025-01-07 00:42:43,719] Trial 144 finished with value: 0.04266179237180788 and parameters: {'topK': 9, 'alpha': 0.2862786313963063, 'beta': 0.2478008536787321, 'normalize_similarity': True, 'implicit': True}. Best is trial 131 with value: 0.042923521989100225.\n"
     ]
    },
    {
     "name": "stdout",
     "output_type": "stream",
     "text": [
      "RP3betaRecommender: Similarity column 38121 (100.0%), 3525.00 column/sec. Elapsed time 10.81 sec\n",
      "EvaluatorHoldout: Processed 35209 (100.0%) in 8.79 sec. Users per second: 4005\n"
     ]
    },
    {
     "name": "stderr",
     "output_type": "stream",
     "text": [
      "[I 2025-01-07 00:43:03,692] Trial 145 finished with value: 0.04284993645654104 and parameters: {'topK': 11, 'alpha': 0.29855495478933003, 'beta': 0.25521025218775817, 'normalize_similarity': True, 'implicit': True}. Best is trial 131 with value: 0.042923521989100225.\n"
     ]
    },
    {
     "name": "stdout",
     "output_type": "stream",
     "text": [
      "RP3betaRecommender: Similarity column 38121 (100.0%), 3317.71 column/sec. Elapsed time 11.49 sec\n",
      "EvaluatorHoldout: Processed 35209 (100.0%) in 8.84 sec. Users per second: 3982\n"
     ]
    },
    {
     "name": "stderr",
     "output_type": "stream",
     "text": [
      "[I 2025-01-07 00:43:24,384] Trial 146 finished with value: 0.04285747195770018 and parameters: {'topK': 12, 'alpha': 0.26998631472975654, 'beta': 0.24937454859180466, 'normalize_similarity': True, 'implicit': True}. Best is trial 131 with value: 0.042923521989100225.\n"
     ]
    },
    {
     "name": "stdout",
     "output_type": "stream",
     "text": [
      "RP3betaRecommender: Similarity column 38121 (100.0%), 3580.00 column/sec. Elapsed time 10.65 sec\n",
      "EvaluatorHoldout: Processed 35209 (100.0%) in 8.83 sec. Users per second: 3989\n"
     ]
    },
    {
     "name": "stderr",
     "output_type": "stream",
     "text": [
      "[I 2025-01-07 00:43:44,217] Trial 147 finished with value: 0.042837962606059855 and parameters: {'topK': 12, 'alpha': 0.2688174876177397, 'beta': 0.24973616382929414, 'normalize_similarity': True, 'implicit': True}. Best is trial 131 with value: 0.042923521989100225.\n"
     ]
    },
    {
     "name": "stdout",
     "output_type": "stream",
     "text": [
      "RP3betaRecommender: Similarity column 38121 (100.0%), 3429.20 column/sec. Elapsed time 11.12 sec\n",
      "EvaluatorHoldout: Processed 35209 (100.0%) in 8.79 sec. Users per second: 4007\n"
     ]
    },
    {
     "name": "stderr",
     "output_type": "stream",
     "text": [
      "[I 2025-01-07 00:44:04,480] Trial 148 finished with value: 0.04269811853660965 and parameters: {'topK': 10, 'alpha': 0.2614213191471185, 'beta': 0.2578139018290048, 'normalize_similarity': True, 'implicit': True}. Best is trial 131 with value: 0.042923521989100225.\n"
     ]
    },
    {
     "name": "stdout",
     "output_type": "stream",
     "text": [
      "RP3betaRecommender: Similarity column 38121 (100.0%), 3386.43 column/sec. Elapsed time 11.26 sec\n",
      "EvaluatorHoldout: Processed 35209 (100.0%) in 8.77 sec. Users per second: 4015\n"
     ]
    },
    {
     "name": "stderr",
     "output_type": "stream",
     "text": [
      "[I 2025-01-07 00:44:24,875] Trial 149 finished with value: 0.04280864786104761 and parameters: {'topK': 11, 'alpha': 0.28413622079986117, 'beta': 0.2684943788997954, 'normalize_similarity': True, 'implicit': True}. Best is trial 131 with value: 0.042923521989100225.\n"
     ]
    },
    {
     "name": "stdout",
     "output_type": "stream",
     "text": [
      "RP3betaRecommender: Similarity column 38121 (100.0%), 3298.59 column/sec. Elapsed time 11.56 sec\n",
      "EvaluatorHoldout: Processed 35209 (100.0%) in 8.84 sec. Users per second: 3981\n"
     ]
    },
    {
     "name": "stderr",
     "output_type": "stream",
     "text": [
      "[I 2025-01-07 00:44:45,651] Trial 150 finished with value: 0.042767033546165026 and parameters: {'topK': 13, 'alpha': 0.27363145888904705, 'beta': 0.2470924986310629, 'normalize_similarity': True, 'implicit': True}. Best is trial 131 with value: 0.042923521989100225.\n"
     ]
    },
    {
     "name": "stdout",
     "output_type": "stream",
     "text": [
      "RP3betaRecommender: Similarity column 38121 (100.0%), 3291.87 column/sec. Elapsed time 11.58 sec\n",
      "EvaluatorHoldout: Processed 35209 (100.0%) in 8.87 sec. Users per second: 3967\n"
     ]
    },
    {
     "name": "stderr",
     "output_type": "stream",
     "text": [
      "[I 2025-01-07 00:45:06,473] Trial 151 finished with value: 0.04288858773933422 and parameters: {'topK': 12, 'alpha': 0.2898449782766841, 'beta': 0.23806762620595323, 'normalize_similarity': True, 'implicit': True}. Best is trial 131 with value: 0.042923521989100225.\n"
     ]
    },
    {
     "name": "stdout",
     "output_type": "stream",
     "text": [
      "RP3betaRecommender: Similarity column 38121 (100.0%), 3648.77 column/sec. Elapsed time 10.45 sec\n",
      "EvaluatorHoldout: Processed 35209 (100.0%) in 8.91 sec. Users per second: 3952\n"
     ]
    },
    {
     "name": "stderr",
     "output_type": "stream",
     "text": [
      "[I 2025-01-07 00:45:26,184] Trial 152 finished with value: 0.04276316323342478 and parameters: {'topK': 10, 'alpha': 0.29081097420371305, 'beta': 0.23593431191785924, 'normalize_similarity': True, 'implicit': True}. Best is trial 131 with value: 0.042923521989100225.\n"
     ]
    },
    {
     "name": "stdout",
     "output_type": "stream",
     "text": [
      "RP3betaRecommender: Similarity column 38121 (100.0%), 2914.15 column/sec. Elapsed time 13.08 sec\n",
      "EvaluatorHoldout: Processed 35209 (100.0%) in 8.83 sec. Users per second: 3986\n"
     ]
    },
    {
     "name": "stderr",
     "output_type": "stream",
     "text": [
      "[I 2025-01-07 00:45:48,465] Trial 153 finished with value: 0.0429085535489419 and parameters: {'topK': 12, 'alpha': 0.2992534762462792, 'beta': 0.2425551372612884, 'normalize_similarity': True, 'implicit': True}. Best is trial 131 with value: 0.042923521989100225.\n"
     ]
    },
    {
     "name": "stdout",
     "output_type": "stream",
     "text": [
      "RP3betaRecommender: Similarity column 38121 (100.0%), 3771.37 column/sec. Elapsed time 10.11 sec\n",
      "EvaluatorHoldout: Processed 35209 (100.0%) in 8.77 sec. Users per second: 4013\n"
     ]
    },
    {
     "name": "stderr",
     "output_type": "stream",
     "text": [
      "[I 2025-01-07 00:46:07,711] Trial 154 finished with value: 0.042927519659248646 and parameters: {'topK': 11, 'alpha': 0.30015960756918836, 'beta': 0.24183342444949035, 'normalize_similarity': True, 'implicit': True}. Best is trial 154 with value: 0.042927519659248646.\n"
     ]
    },
    {
     "name": "stdout",
     "output_type": "stream",
     "text": [
      "RP3betaRecommender: Similarity column 38121 (100.0%), 3599.28 column/sec. Elapsed time 10.59 sec\n",
      "EvaluatorHoldout: Processed 35209 (100.0%) in 8.82 sec. Users per second: 3993\n"
     ]
    },
    {
     "name": "stderr",
     "output_type": "stream",
     "text": [
      "[I 2025-01-07 00:46:27,516] Trial 155 finished with value: 0.042897628988257656 and parameters: {'topK': 11, 'alpha': 0.3018331677608633, 'beta': 0.24330976208812516, 'normalize_similarity': True, 'implicit': True}. Best is trial 154 with value: 0.042927519659248646.\n"
     ]
    },
    {
     "name": "stdout",
     "output_type": "stream",
     "text": [
      "RP3betaRecommender: Similarity column 38121 (100.0%), 4066.08 column/sec. Elapsed time 9.38 sec\n",
      "EvaluatorHoldout: Processed 35209 (100.0%) in 8.77 sec. Users per second: 4015\n"
     ]
    },
    {
     "name": "stderr",
     "output_type": "stream",
     "text": [
      "[I 2025-01-07 00:46:45,990] Trial 156 finished with value: 0.04246321174194546 and parameters: {'topK': 8, 'alpha': 0.3008952704571893, 'beta': 0.24175638293054563, 'normalize_similarity': True, 'implicit': True}. Best is trial 154 with value: 0.042927519659248646.\n"
     ]
    },
    {
     "name": "stdout",
     "output_type": "stream",
     "text": [
      "RP3betaRecommender: Similarity column 38121 (100.0%), 3691.34 column/sec. Elapsed time 10.33 sec\n",
      "EvaluatorHoldout: Processed 35209 (100.0%) in 8.82 sec. Users per second: 3993\n"
     ]
    },
    {
     "name": "stderr",
     "output_type": "stream",
     "text": [
      "[I 2025-01-07 00:47:05,502] Trial 157 finished with value: 0.042919025032829565 and parameters: {'topK': 11, 'alpha': 0.29825529316337684, 'beta': 0.24025892645139324, 'normalize_similarity': True, 'implicit': True}. Best is trial 154 with value: 0.042927519659248646.\n"
     ]
    },
    {
     "name": "stdout",
     "output_type": "stream",
     "text": [
      "RP3betaRecommender: Similarity column 38121 (100.0%), 4054.83 column/sec. Elapsed time 9.40 sec\n",
      "EvaluatorHoldout: Processed 35209 (100.0%) in 8.76 sec. Users per second: 4019\n"
     ]
    },
    {
     "name": "stderr",
     "output_type": "stream",
     "text": [
      "[I 2025-01-07 00:47:24,012] Trial 158 finished with value: 0.0424822736520724 and parameters: {'topK': 11, 'alpha': 0.3006635438774237, 'beta': 0.1258139749137343, 'normalize_similarity': True, 'implicit': True}. Best is trial 154 with value: 0.042927519659248646.\n"
     ]
    },
    {
     "name": "stdout",
     "output_type": "stream",
     "text": [
      "RP3betaRecommender: Similarity column 38121 (100.0%), 3599.75 column/sec. Elapsed time 10.59 sec\n",
      "EvaluatorHoldout: Processed 35209 (100.0%) in 8.60 sec. Users per second: 4092\n"
     ]
    },
    {
     "name": "stderr",
     "output_type": "stream",
     "text": [
      "[I 2025-01-07 00:47:43,511] Trial 159 finished with value: 0.04150900946592223 and parameters: {'topK': 6, 'alpha': 0.28609582454910654, 'beta': 0.23737437139646514, 'normalize_similarity': True, 'implicit': True}. Best is trial 154 with value: 0.042927519659248646.\n"
     ]
    },
    {
     "name": "stdout",
     "output_type": "stream",
     "text": [
      "RP3betaRecommender: Similarity column 38121 (100.0%), 1907.27 column/sec. Elapsed time 19.99 sec\n",
      "EvaluatorHoldout: Processed 35209 (100.0%) in 8.51 sec. Users per second: 4137\n"
     ]
    },
    {
     "name": "stderr",
     "output_type": "stream",
     "text": [
      "[I 2025-01-07 00:48:12,257] Trial 160 finished with value: 0.029679948579164013 and parameters: {'topK': 2, 'alpha': 0.29717651537114753, 'beta': 0.24540177785304879, 'normalize_similarity': True, 'implicit': True}. Best is trial 154 with value: 0.042927519659248646.\n"
     ]
    },
    {
     "name": "stdout",
     "output_type": "stream",
     "text": [
      "RP3betaRecommender: Similarity column 38121 (100.0%), 3816.26 column/sec. Elapsed time 9.99 sec\n",
      "EvaluatorHoldout: Processed 35209 (100.0%) in 8.72 sec. Users per second: 4040\n"
     ]
    },
    {
     "name": "stderr",
     "output_type": "stream",
     "text": [
      "[I 2025-01-07 00:48:31,316] Trial 161 finished with value: 0.042714167824152036 and parameters: {'topK': 10, 'alpha': 0.28266250040373675, 'beta': 0.2424762979841094, 'normalize_similarity': True, 'implicit': True}. Best is trial 154 with value: 0.042927519659248646.\n"
     ]
    },
    {
     "name": "stdout",
     "output_type": "stream",
     "text": [
      "RP3betaRecommender: Similarity column 38121 (100.0%), 4237.40 column/sec. Elapsed time 9.00 sec\n",
      "EvaluatorHoldout: Processed 35209 (100.0%) in 8.77 sec. Users per second: 4017\n"
     ]
    },
    {
     "name": "stderr",
     "output_type": "stream",
     "text": [
      "[I 2025-01-07 00:48:49,447] Trial 162 finished with value: 0.042900770095306746 and parameters: {'topK': 11, 'alpha': 0.3041497949252813, 'beta': 0.2393474613112291, 'normalize_similarity': True, 'implicit': True}. Best is trial 154 with value: 0.042927519659248646.\n"
     ]
    },
    {
     "name": "stdout",
     "output_type": "stream",
     "text": [
      "RP3betaRecommender: Similarity column 38121 (100.0%), 3311.57 column/sec. Elapsed time 11.51 sec\n",
      "EvaluatorHoldout: Processed 35209 (100.0%) in 8.76 sec. Users per second: 4019\n"
     ]
    },
    {
     "name": "stderr",
     "output_type": "stream",
     "text": [
      "[I 2025-01-07 00:49:10,083] Trial 163 finished with value: 0.04287653274077028 and parameters: {'topK': 11, 'alpha': 0.3049373937651047, 'beta': 0.2530293941445399, 'normalize_similarity': True, 'implicit': True}. Best is trial 154 with value: 0.042927519659248646.\n"
     ]
    },
    {
     "name": "stdout",
     "output_type": "stream",
     "text": [
      "RP3betaRecommender: Similarity column 38121 (100.0%), 3561.15 column/sec. Elapsed time 10.70 sec\n",
      "EvaluatorHoldout: Processed 35209 (100.0%) in 8.81 sec. Users per second: 3998\n"
     ]
    },
    {
     "name": "stderr",
     "output_type": "stream",
     "text": [
      "[I 2025-01-07 00:49:29,966] Trial 164 finished with value: 0.042903663249879875 and parameters: {'topK': 11, 'alpha': 0.2885087508929304, 'beta': 0.238300831007601, 'normalize_similarity': True, 'implicit': True}. Best is trial 154 with value: 0.042927519659248646.\n"
     ]
    },
    {
     "name": "stdout",
     "output_type": "stream",
     "text": [
      "RP3betaRecommender: Similarity column 38121 (100.0%), 3968.99 column/sec. Elapsed time 9.60 sec\n",
      "EvaluatorHoldout: Processed 35209 (100.0%) in 8.81 sec. Users per second: 3999\n"
     ]
    },
    {
     "name": "stderr",
     "output_type": "stream",
     "text": [
      "[I 2025-01-07 00:49:48,751] Trial 165 finished with value: 0.04278570774878368 and parameters: {'topK': 13, 'alpha': 0.2898885444633527, 'beta': 0.23840936769565416, 'normalize_similarity': True, 'implicit': True}. Best is trial 154 with value: 0.042927519659248646.\n"
     ]
    },
    {
     "name": "stdout",
     "output_type": "stream",
     "text": [
      "RP3betaRecommender: Similarity column 38121 (100.0%), 3546.51 column/sec. Elapsed time 10.75 sec\n",
      "EvaluatorHoldout: Processed 35209 (100.0%) in 8.71 sec. Users per second: 4041\n"
     ]
    },
    {
     "name": "stderr",
     "output_type": "stream",
     "text": [
      "[I 2025-01-07 00:50:08,555] Trial 166 finished with value: 0.042672679739621015 and parameters: {'topK': 9, 'alpha': 0.2935647473967405, 'beta': 0.24646986779274943, 'normalize_similarity': True, 'implicit': True}. Best is trial 154 with value: 0.042927519659248646.\n"
     ]
    },
    {
     "name": "stdout",
     "output_type": "stream",
     "text": [
      "RP3betaRecommender: Similarity column 38121 (100.0%), 3552.35 column/sec. Elapsed time 10.73 sec\n",
      "EvaluatorHoldout: Processed 35209 (100.0%) in 8.77 sec. Users per second: 4014\n"
     ]
    },
    {
     "name": "stderr",
     "output_type": "stream",
     "text": [
      "[I 2025-01-07 00:50:28,412] Trial 167 finished with value: 0.035280246031970434 and parameters: {'topK': 10, 'alpha': 0.2994545477189592, 'beta': 0.2364511093066432, 'normalize_similarity': False, 'implicit': True}. Best is trial 154 with value: 0.042927519659248646.\n"
     ]
    },
    {
     "name": "stdout",
     "output_type": "stream",
     "text": [
      "RP3betaRecommender: Similarity column 38121 (100.0%), 3275.09 column/sec. Elapsed time 11.64 sec\n",
      "EvaluatorHoldout: Processed 35209 (100.0%) in 8.93 sec. Users per second: 3944\n"
     ]
    },
    {
     "name": "stderr",
     "output_type": "stream",
     "text": [
      "[I 2025-01-07 00:50:49,352] Trial 168 finished with value: 0.042726656739549444 and parameters: {'topK': 13, 'alpha': 0.30322432006663597, 'beta': 0.24087020052207408, 'normalize_similarity': True, 'implicit': True}. Best is trial 154 with value: 0.042927519659248646.\n"
     ]
    },
    {
     "name": "stdout",
     "output_type": "stream",
     "text": [
      "RP3betaRecommender: Similarity column 38121 (100.0%), 3286.61 column/sec. Elapsed time 11.60 sec\n",
      "EvaluatorHoldout: Processed 35209 (100.0%) in 8.80 sec. Users per second: 3999\n"
     ]
    },
    {
     "name": "stderr",
     "output_type": "stream",
     "text": [
      "[I 2025-01-07 00:51:10,111] Trial 169 finished with value: 0.04272298591584668 and parameters: {'topK': 10, 'alpha': 0.28780610617745433, 'beta': 0.24580240416937327, 'normalize_similarity': True, 'implicit': True}. Best is trial 154 with value: 0.042927519659248646.\n"
     ]
    },
    {
     "name": "stdout",
     "output_type": "stream",
     "text": [
      "RP3betaRecommender: Similarity column 38121 (100.0%), 3510.46 column/sec. Elapsed time 10.86 sec\n",
      "EvaluatorHoldout: Processed 35209 (100.0%) in 8.86 sec. Users per second: 3976\n"
     ]
    },
    {
     "name": "stderr",
     "output_type": "stream",
     "text": [
      "[I 2025-01-07 00:51:30,193] Trial 170 finished with value: 0.042876106713333965 and parameters: {'topK': 12, 'alpha': 0.2963279230680613, 'beta': 0.2565286753115069, 'normalize_similarity': True, 'implicit': True}. Best is trial 154 with value: 0.042927519659248646.\n"
     ]
    },
    {
     "name": "stdout",
     "output_type": "stream",
     "text": [
      "RP3betaRecommender: Similarity column 38121 (100.0%), 3530.81 column/sec. Elapsed time 10.80 sec\n",
      "EvaluatorHoldout: Processed 35209 (100.0%) in 8.83 sec. Users per second: 3987\n"
     ]
    },
    {
     "name": "stderr",
     "output_type": "stream",
     "text": [
      "[I 2025-01-07 00:51:50,204] Trial 171 finished with value: 0.04285933723655456 and parameters: {'topK': 11, 'alpha': 0.2755664420284376, 'beta': 0.2504770293654563, 'normalize_similarity': True, 'implicit': True}. Best is trial 154 with value: 0.042927519659248646.\n"
     ]
    },
    {
     "name": "stdout",
     "output_type": "stream",
     "text": [
      "RP3betaRecommender: Similarity column 38121 (100.0%), 3028.00 column/sec. Elapsed time 12.59 sec\n",
      "EvaluatorHoldout: Processed 35209 (100.0%) in 8.83 sec. Users per second: 3987\n"
     ]
    },
    {
     "name": "stderr",
     "output_type": "stream",
     "text": [
      "[I 2025-01-07 00:52:11,992] Trial 172 finished with value: 0.042875607427211776 and parameters: {'topK': 11, 'alpha': 0.3123836857181102, 'beta': 0.23445841886415902, 'normalize_similarity': True, 'implicit': True}. Best is trial 154 with value: 0.042927519659248646.\n"
     ]
    },
    {
     "name": "stdout",
     "output_type": "stream",
     "text": [
      "RP3betaRecommender: Similarity column 38121 (100.0%), 3969.22 column/sec. Elapsed time 9.60 sec\n",
      "EvaluatorHoldout: Processed 35209 (100.0%) in 8.75 sec. Users per second: 4023\n"
     ]
    },
    {
     "name": "stderr",
     "output_type": "stream",
     "text": [
      "[I 2025-01-07 00:52:30,690] Trial 173 finished with value: 0.042670993662783804 and parameters: {'topK': 9, 'alpha': 0.2783664254569836, 'beta': 0.24324961316126925, 'normalize_similarity': True, 'implicit': True}. Best is trial 154 with value: 0.042927519659248646.\n"
     ]
    },
    {
     "name": "stdout",
     "output_type": "stream",
     "text": [
      "RP3betaRecommender: Similarity column 38121 (100.0%), 3481.15 column/sec. Elapsed time 10.95 sec\n",
      "EvaluatorHoldout: Processed 35209 (100.0%) in 8.78 sec. Users per second: 4010\n"
     ]
    },
    {
     "name": "stderr",
     "output_type": "stream",
     "text": [
      "[I 2025-01-07 00:52:50,794] Trial 174 finished with value: 0.04289783185846534 and parameters: {'topK': 11, 'alpha': 0.2885403129092226, 'beta': 0.25221038857403827, 'normalize_similarity': True, 'implicit': True}. Best is trial 154 with value: 0.042927519659248646.\n"
     ]
    },
    {
     "name": "stdout",
     "output_type": "stream",
     "text": [
      "RP3betaRecommender: Similarity column 38121 (100.0%), 3611.05 column/sec. Elapsed time 10.56 sec\n",
      "EvaluatorHoldout: Processed 35209 (100.0%) in 8.79 sec. Users per second: 4003\n"
     ]
    },
    {
     "name": "stderr",
     "output_type": "stream",
     "text": [
      "[I 2025-01-07 00:53:10,504] Trial 175 finished with value: 0.04289501196257805 and parameters: {'topK': 12, 'alpha': 0.2879064563003566, 'beta': 0.2390371400549192, 'normalize_similarity': True, 'implicit': True}. Best is trial 154 with value: 0.042927519659248646.\n"
     ]
    },
    {
     "name": "stdout",
     "output_type": "stream",
     "text": [
      "RP3betaRecommender: Similarity column 38121 (100.0%), 3696.74 column/sec. Elapsed time 10.31 sec\n",
      "EvaluatorHoldout: Processed 35209 (100.0%) in 8.86 sec. Users per second: 3976\n"
     ]
    },
    {
     "name": "stderr",
     "output_type": "stream",
     "text": [
      "[I 2025-01-07 00:53:30,049] Trial 176 finished with value: 0.04281225331546106 and parameters: {'topK': 13, 'alpha': 0.28757873712152515, 'beta': 0.23840911759288866, 'normalize_similarity': True, 'implicit': True}. Best is trial 154 with value: 0.042927519659248646.\n"
     ]
    },
    {
     "name": "stdout",
     "output_type": "stream",
     "text": [
      "RP3betaRecommender: Similarity column 38121 (100.0%), 3474.38 column/sec. Elapsed time 10.97 sec\n",
      "EvaluatorHoldout: Processed 35209 (100.0%) in 9.44 sec. Users per second: 3729\n"
     ]
    },
    {
     "name": "stderr",
     "output_type": "stream",
     "text": [
      "[I 2025-01-07 00:53:51,083] Trial 177 finished with value: 0.04141774830298914 and parameters: {'topK': 35, 'alpha': 0.29503361761312097, 'beta': 0.22710314201110113, 'normalize_similarity': True, 'implicit': True}. Best is trial 154 with value: 0.042927519659248646.\n"
     ]
    },
    {
     "name": "stdout",
     "output_type": "stream",
     "text": [
      "RP3betaRecommender: Similarity column 38121 (100.0%), 3621.05 column/sec. Elapsed time 10.53 sec\n",
      "EvaluatorHoldout: Processed 35209 (100.0%) in 8.89 sec. Users per second: 3963\n"
     ]
    },
    {
     "name": "stderr",
     "output_type": "stream",
     "text": [
      "[I 2025-01-07 00:54:10,860] Trial 178 finished with value: 0.042691594005318814 and parameters: {'topK': 10, 'alpha': 0.30273510381596813, 'beta': 0.263027818737602, 'normalize_similarity': True, 'implicit': True}. Best is trial 154 with value: 0.042927519659248646.\n"
     ]
    },
    {
     "name": "stdout",
     "output_type": "stream",
     "text": [
      "RP3betaRecommender: Similarity column 38121 (100.0%), 3743.10 column/sec. Elapsed time 10.18 sec\n",
      "EvaluatorHoldout: Processed 35209 (100.0%) in 8.83 sec. Users per second: 3987\n"
     ]
    },
    {
     "name": "stderr",
     "output_type": "stream",
     "text": [
      "[I 2025-01-07 00:54:30,245] Trial 179 finished with value: 0.04284920161556652 and parameters: {'topK': 11, 'alpha': 0.29028377058236166, 'beta': 0.25387359591714753, 'normalize_similarity': True, 'implicit': True}. Best is trial 154 with value: 0.042927519659248646.\n"
     ]
    },
    {
     "name": "stdout",
     "output_type": "stream",
     "text": [
      "RP3betaRecommender: Similarity column 38121 (100.0%), 3431.38 column/sec. Elapsed time 11.11 sec\n",
      "EvaluatorHoldout: Processed 35209 (100.0%) in 8.84 sec. Users per second: 3982\n"
     ]
    },
    {
     "name": "stderr",
     "output_type": "stream",
     "text": [
      "[I 2025-01-07 00:54:50,577] Trial 180 finished with value: 0.042806362190040685 and parameters: {'topK': 13, 'alpha': 0.3054728398449223, 'beta': 0.23360332477666576, 'normalize_similarity': True, 'implicit': True}. Best is trial 154 with value: 0.042927519659248646.\n"
     ]
    },
    {
     "name": "stdout",
     "output_type": "stream",
     "text": [
      "RP3betaRecommender: Similarity column 38121 (100.0%), 3455.48 column/sec. Elapsed time 11.03 sec\n",
      "EvaluatorHoldout: Processed 35209 (100.0%) in 8.78 sec. Users per second: 4009\n"
     ]
    },
    {
     "name": "stderr",
     "output_type": "stream",
     "text": [
      "[I 2025-01-07 00:55:10,755] Trial 181 finished with value: 0.042896647321863456 and parameters: {'topK': 12, 'alpha': 0.28305559967622324, 'beta': 0.24723332279999025, 'normalize_similarity': True, 'implicit': True}. Best is trial 154 with value: 0.042927519659248646.\n"
     ]
    },
    {
     "name": "stdout",
     "output_type": "stream",
     "text": [
      "RP3betaRecommender: Similarity column 38121 (100.0%), 3595.32 column/sec. Elapsed time 10.60 sec\n",
      "EvaluatorHoldout: Processed 35209 (100.0%) in 8.80 sec. Users per second: 4003\n"
     ]
    },
    {
     "name": "stderr",
     "output_type": "stream",
     "text": [
      "[I 2025-01-07 00:55:30,515] Trial 182 finished with value: 0.042890544309781835 and parameters: {'topK': 12, 'alpha': 0.285562351117938, 'beta': 0.24040115960410025, 'normalize_similarity': True, 'implicit': True}. Best is trial 154 with value: 0.042927519659248646.\n"
     ]
    },
    {
     "name": "stdout",
     "output_type": "stream",
     "text": [
      "RP3betaRecommender: Similarity column 38121 (100.0%), 3787.55 column/sec. Elapsed time 10.06 sec\n",
      "EvaluatorHoldout: Processed 35209 (100.0%) in 8.88 sec. Users per second: 3963\n"
     ]
    },
    {
     "name": "stderr",
     "output_type": "stream",
     "text": [
      "[I 2025-01-07 00:55:49,826] Trial 183 finished with value: 0.042889651680867946 and parameters: {'topK': 12, 'alpha': 0.28354774879582667, 'beta': 0.24874084496129562, 'normalize_similarity': True, 'implicit': True}. Best is trial 154 with value: 0.042927519659248646.\n"
     ]
    },
    {
     "name": "stdout",
     "output_type": "stream",
     "text": [
      "RP3betaRecommender: Similarity column 38121 (100.0%), 3217.88 column/sec. Elapsed time 11.85 sec\n",
      "EvaluatorHoldout: Processed 35209 (100.0%) in 8.77 sec. Users per second: 4014\n"
     ]
    },
    {
     "name": "stderr",
     "output_type": "stream",
     "text": [
      "[I 2025-01-07 00:56:10,793] Trial 184 finished with value: 0.04290719995383419 and parameters: {'topK': 11, 'alpha': 0.2969501267939496, 'beta': 0.2427362131491404, 'normalize_similarity': True, 'implicit': True}. Best is trial 154 with value: 0.042927519659248646.\n"
     ]
    },
    {
     "name": "stdout",
     "output_type": "stream",
     "text": [
      "RP3betaRecommender: Similarity column 38121 (100.0%), 3309.29 column/sec. Elapsed time 11.52 sec\n",
      "EvaluatorHoldout: Processed 35209 (100.0%) in 8.81 sec. Users per second: 3999\n"
     ]
    },
    {
     "name": "stderr",
     "output_type": "stream",
     "text": [
      "[I 2025-01-07 00:56:31,478] Trial 185 finished with value: 0.042669064141697306 and parameters: {'topK': 10, 'alpha': 0.29822128184601, 'beta': 0.2587530038021374, 'normalize_similarity': True, 'implicit': True}. Best is trial 154 with value: 0.042927519659248646.\n"
     ]
    },
    {
     "name": "stdout",
     "output_type": "stream",
     "text": [
      "RP3betaRecommender: Similarity column 38121 (100.0%), 4198.69 column/sec. Elapsed time 9.08 sec\n",
      "EvaluatorHoldout: Processed 35209 (100.0%) in 8.71 sec. Users per second: 4042\n"
     ]
    },
    {
     "name": "stderr",
     "output_type": "stream",
     "text": [
      "[I 2025-01-07 00:56:49,601] Trial 186 finished with value: 0.04266406451813416 and parameters: {'topK': 9, 'alpha': 0.29487659807614275, 'beta': 0.24325067260674865, 'normalize_similarity': True, 'implicit': True}. Best is trial 154 with value: 0.042927519659248646.\n"
     ]
    },
    {
     "name": "stdout",
     "output_type": "stream",
     "text": [
      "RP3betaRecommender: Similarity column 38121 (100.0%), 3367.24 column/sec. Elapsed time 11.32 sec\n",
      "EvaluatorHoldout: Processed 35209 (100.0%) in 8.77 sec. Users per second: 4013\n"
     ]
    },
    {
     "name": "stderr",
     "output_type": "stream",
     "text": [
      "[I 2025-01-07 00:57:10,063] Trial 187 finished with value: 0.042908394633946044 and parameters: {'topK': 11, 'alpha': 0.3137606094388369, 'beta': 0.24818911037887792, 'normalize_similarity': True, 'implicit': True}. Best is trial 154 with value: 0.042927519659248646.\n"
     ]
    },
    {
     "name": "stdout",
     "output_type": "stream",
     "text": [
      "RP3betaRecommender: Similarity column 38121 (100.0%), 4250.52 column/sec. Elapsed time 8.97 sec\n",
      "EvaluatorHoldout: Processed 35209 (100.0%) in 8.80 sec. Users per second: 3999\n"
     ]
    },
    {
     "name": "stderr",
     "output_type": "stream",
     "text": [
      "[I 2025-01-07 00:57:28,195] Trial 188 finished with value: 0.04291907800449479 and parameters: {'topK': 11, 'alpha': 0.31317956632691013, 'beta': 0.24793025416991862, 'normalize_similarity': True, 'implicit': True}. Best is trial 154 with value: 0.042927519659248646.\n"
     ]
    },
    {
     "name": "stdout",
     "output_type": "stream",
     "text": [
      "RP3betaRecommender: Similarity column 38121 (100.0%), 3771.16 column/sec. Elapsed time 10.11 sec\n",
      "EvaluatorHoldout: Processed 35209 (100.0%) in 8.86 sec. Users per second: 3973\n"
     ]
    },
    {
     "name": "stderr",
     "output_type": "stream",
     "text": [
      "[I 2025-01-07 00:57:47,537] Trial 189 finished with value: 0.042893340537478085 and parameters: {'topK': 11, 'alpha': 0.31299194449558787, 'beta': 0.2511268015933335, 'normalize_similarity': True, 'implicit': True}. Best is trial 154 with value: 0.042927519659248646.\n"
     ]
    },
    {
     "name": "stdout",
     "output_type": "stream",
     "text": [
      "RP3betaRecommender: Similarity column 38121 (100.0%), 3356.05 column/sec. Elapsed time 11.36 sec\n",
      "EvaluatorHoldout: Processed 35209 (100.0%) in 8.70 sec. Users per second: 4048\n"
     ]
    },
    {
     "name": "stderr",
     "output_type": "stream",
     "text": [
      "[I 2025-01-07 00:58:07,940] Trial 190 finished with value: 0.04266096736629667 and parameters: {'topK': 9, 'alpha': 0.3220933213358339, 'beta': 0.24819122174827793, 'normalize_similarity': True, 'implicit': True}. Best is trial 154 with value: 0.042927519659248646.\n"
     ]
    },
    {
     "name": "stdout",
     "output_type": "stream",
     "text": [
      "RP3betaRecommender: Similarity column 38121 (100.0%), 3505.82 column/sec. Elapsed time 10.87 sec\n",
      "EvaluatorHoldout: Processed 35209 (100.0%) in 8.76 sec. Users per second: 4020\n"
     ]
    },
    {
     "name": "stderr",
     "output_type": "stream",
     "text": [
      "[I 2025-01-07 00:58:27,927] Trial 191 finished with value: 0.04272763502477329 and parameters: {'topK': 10, 'alpha': 0.3066547697970367, 'beta': 0.24347149765521783, 'normalize_similarity': True, 'implicit': True}. Best is trial 154 with value: 0.042927519659248646.\n"
     ]
    },
    {
     "name": "stdout",
     "output_type": "stream",
     "text": [
      "RP3betaRecommender: Similarity column 38121 (100.0%), 3560.23 column/sec. Elapsed time 10.71 sec\n",
      "EvaluatorHoldout: Processed 35209 (100.0%) in 8.76 sec. Users per second: 4019\n"
     ]
    },
    {
     "name": "stderr",
     "output_type": "stream",
     "text": [
      "[I 2025-01-07 00:58:47,762] Trial 192 finished with value: 0.04289496011796961 and parameters: {'topK': 11, 'alpha': 0.3140455445126573, 'beta': 0.24439547612235374, 'normalize_similarity': True, 'implicit': True}. Best is trial 154 with value: 0.042927519659248646.\n"
     ]
    },
    {
     "name": "stdout",
     "output_type": "stream",
     "text": [
      "RP3betaRecommender: Similarity column 38121 (100.0%), 3459.01 column/sec. Elapsed time 11.02 sec\n",
      "EvaluatorHoldout: Processed 35209 (100.0%) in 8.85 sec. Users per second: 3978\n"
     ]
    },
    {
     "name": "stderr",
     "output_type": "stream",
     "text": [
      "[I 2025-01-07 00:59:07,998] Trial 193 finished with value: 0.04291372786629516 and parameters: {'topK': 11, 'alpha': 0.3009513785211777, 'beta': 0.24771141429783766, 'normalize_similarity': True, 'implicit': True}. Best is trial 154 with value: 0.042927519659248646.\n"
     ]
    },
    {
     "name": "stdout",
     "output_type": "stream",
     "text": [
      "RP3betaRecommender: Similarity column 38121 (100.0%), 3798.43 column/sec. Elapsed time 10.04 sec\n",
      "EvaluatorHoldout: Processed 35209 (100.0%) in 8.82 sec. Users per second: 3991\n"
     ]
    },
    {
     "name": "stderr",
     "output_type": "stream",
     "text": [
      "[I 2025-01-07 00:59:27,222] Trial 194 finished with value: 0.042918604640676906 and parameters: {'topK': 11, 'alpha': 0.3028793611763324, 'beta': 0.24774662869496744, 'normalize_similarity': True, 'implicit': True}. Best is trial 154 with value: 0.042927519659248646.\n"
     ]
    },
    {
     "name": "stdout",
     "output_type": "stream",
     "text": [
      "RP3betaRecommender: Similarity column 38121 (100.0%), 3758.50 column/sec. Elapsed time 10.14 sec\n",
      "EvaluatorHoldout: Processed 35209 (100.0%) in 8.74 sec. Users per second: 4029\n"
     ]
    },
    {
     "name": "stderr",
     "output_type": "stream",
     "text": [
      "[I 2025-01-07 00:59:46,436] Trial 195 finished with value: 0.04246491134346335 and parameters: {'topK': 8, 'alpha': 0.3023305847934197, 'beta': 0.25388678838188106, 'normalize_similarity': True, 'implicit': True}. Best is trial 154 with value: 0.042927519659248646.\n"
     ]
    },
    {
     "name": "stdout",
     "output_type": "stream",
     "text": [
      "RP3betaRecommender: Similarity column 38121 (100.0%), 3600.46 column/sec. Elapsed time 10.59 sec\n",
      "EvaluatorHoldout: Processed 35209 (100.0%) in 8.74 sec. Users per second: 4027\n"
     ]
    },
    {
     "name": "stderr",
     "output_type": "stream",
     "text": [
      "[I 2025-01-07 01:00:06,125] Trial 196 finished with value: 0.04271094782313327 and parameters: {'topK': 10, 'alpha': 0.30866700180794043, 'beta': 0.25188828894173465, 'normalize_similarity': True, 'implicit': True}. Best is trial 154 with value: 0.042927519659248646.\n"
     ]
    },
    {
     "name": "stdout",
     "output_type": "stream",
     "text": [
      "RP3betaRecommender: Similarity column 38121 (100.0%), 3899.99 column/sec. Elapsed time 9.77 sec\n",
      "EvaluatorHoldout: Processed 35209 (100.0%) in 8.84 sec. Users per second: 3981\n"
     ]
    },
    {
     "name": "stderr",
     "output_type": "stream",
     "text": [
      "[I 2025-01-07 01:00:25,125] Trial 197 finished with value: 0.035156317130314384 and parameters: {'topK': 11, 'alpha': 0.29741476473128736, 'beta': 0.24827396579065764, 'normalize_similarity': False, 'implicit': True}. Best is trial 154 with value: 0.042927519659248646.\n"
     ]
    },
    {
     "name": "stdout",
     "output_type": "stream",
     "text": [
      "RP3betaRecommender: Similarity column 38121 (100.0%), 3449.35 column/sec. Elapsed time 11.05 sec\n",
      "EvaluatorHoldout: Processed 35209 (100.0%) in 8.84 sec. Users per second: 3984\n"
     ]
    },
    {
     "name": "stderr",
     "output_type": "stream",
     "text": [
      "[I 2025-01-07 01:00:45,381] Trial 198 finished with value: 0.042898564445326394 and parameters: {'topK': 11, 'alpha': 0.30471392552453547, 'beta': 0.2404122323350032, 'normalize_similarity': True, 'implicit': True}. Best is trial 154 with value: 0.042927519659248646.\n"
     ]
    },
    {
     "name": "stdout",
     "output_type": "stream",
     "text": [
      "RP3betaRecommender: Similarity column 38121 (100.0%), 3572.81 column/sec. Elapsed time 10.67 sec\n",
      "EvaluatorHoldout: Processed 35209 (100.0%) in 8.87 sec. Users per second: 3971\n"
     ]
    },
    {
     "name": "stderr",
     "output_type": "stream",
     "text": [
      "[I 2025-01-07 01:01:05,255] Trial 199 finished with value: 0.04263341646503446 and parameters: {'topK': 9, 'alpha': 0.3215819062761883, 'beta': 0.23379163104203154, 'normalize_similarity': True, 'implicit': True}. Best is trial 154 with value: 0.042927519659248646.\n"
     ]
    },
    {
     "name": "stdout",
     "output_type": "stream",
     "text": [
      "RP3betaRecommender: Similarity column 38121 (100.0%), 3325.49 column/sec. Elapsed time 11.46 sec\n",
      "EvaluatorHoldout: Processed 35209 (100.0%) in 8.73 sec. Users per second: 4033\n"
     ]
    },
    {
     "name": "stderr",
     "output_type": "stream",
     "text": [
      "[I 2025-01-07 01:01:25,809] Trial 200 finished with value: 0.04275079491309552 and parameters: {'topK': 10, 'alpha': 0.313570498662091, 'beta': 0.24171910400431254, 'normalize_similarity': True, 'implicit': True}. Best is trial 154 with value: 0.042927519659248646.\n"
     ]
    },
    {
     "name": "stdout",
     "output_type": "stream",
     "text": [
      "RP3betaRecommender: Similarity column 38121 (100.0%), 3487.97 column/sec. Elapsed time 10.93 sec\n",
      "EvaluatorHoldout: Processed 35209 (100.0%) in 8.76 sec. Users per second: 4018\n"
     ]
    },
    {
     "name": "stderr",
     "output_type": "stream",
     "text": [
      "[I 2025-01-07 01:01:45,872] Trial 201 finished with value: 0.042901810368649575 and parameters: {'topK': 11, 'alpha': 0.304964820257941, 'beta': 0.24612166576330557, 'normalize_similarity': True, 'implicit': True}. Best is trial 154 with value: 0.042927519659248646.\n"
     ]
    },
    {
     "name": "stdout",
     "output_type": "stream",
     "text": [
      "RP3betaRecommender: Similarity column 38121 (100.0%), 4236.07 column/sec. Elapsed time 9.00 sec\n",
      "EvaluatorHoldout: Processed 35209 (100.0%) in 8.77 sec. Users per second: 4014\n"
     ]
    },
    {
     "name": "stderr",
     "output_type": "stream",
     "text": [
      "[I 2025-01-07 01:02:04,011] Trial 202 finished with value: 0.042900568352155756 and parameters: {'topK': 11, 'alpha': 0.3057381330569408, 'beta': 0.24014928836100588, 'normalize_similarity': True, 'implicit': True}. Best is trial 154 with value: 0.042927519659248646.\n"
     ]
    },
    {
     "name": "stdout",
     "output_type": "stream",
     "text": [
      "RP3betaRecommender: Similarity column 38121 (100.0%), 3372.24 column/sec. Elapsed time 11.30 sec\n",
      "EvaluatorHoldout: Processed 35209 (100.0%) in 8.80 sec. Users per second: 4003\n"
     ]
    },
    {
     "name": "stderr",
     "output_type": "stream",
     "text": [
      "[I 2025-01-07 01:02:24,490] Trial 203 finished with value: 0.04275629382278092 and parameters: {'topK': 10, 'alpha': 0.3080114142540447, 'beta': 0.23825924146332897, 'normalize_similarity': True, 'implicit': True}. Best is trial 154 with value: 0.042927519659248646.\n"
     ]
    },
    {
     "name": "stdout",
     "output_type": "stream",
     "text": [
      "RP3betaRecommender: Similarity column 38121 (100.0%), 3295.36 column/sec. Elapsed time 11.57 sec\n",
      "EvaluatorHoldout: Processed 35209 (100.0%) in 8.93 sec. Users per second: 3942\n"
     ]
    },
    {
     "name": "stderr",
     "output_type": "stream",
     "text": [
      "[I 2025-01-07 01:02:45,365] Trial 204 finished with value: 0.04280582120282014 and parameters: {'topK': 13, 'alpha': 0.31622434514185876, 'beta': 0.23556822876768596, 'normalize_similarity': True, 'implicit': True}. Best is trial 154 with value: 0.042927519659248646.\n"
     ]
    },
    {
     "name": "stdout",
     "output_type": "stream",
     "text": [
      "RP3betaRecommender: Similarity column 38121 (100.0%), 3283.63 column/sec. Elapsed time 11.61 sec\n",
      "EvaluatorHoldout: Processed 35209 (100.0%) in 8.81 sec. Users per second: 3998\n"
     ]
    },
    {
     "name": "stderr",
     "output_type": "stream",
     "text": [
      "[I 2025-01-07 01:03:06,160] Trial 205 finished with value: 0.04290220821966803 and parameters: {'topK': 11, 'alpha': 0.2948920949405196, 'beta': 0.2456475835046662, 'normalize_similarity': True, 'implicit': True}. Best is trial 154 with value: 0.042927519659248646.\n"
     ]
    },
    {
     "name": "stdout",
     "output_type": "stream",
     "text": [
      "RP3betaRecommender: Similarity column 38121 (100.0%), 4061.96 column/sec. Elapsed time 9.38 sec\n",
      "EvaluatorHoldout: Processed 35209 (100.0%) in 8.83 sec. Users per second: 3987\n"
     ]
    },
    {
     "name": "stderr",
     "output_type": "stream",
     "text": [
      "[I 2025-01-07 01:03:24,745] Trial 206 finished with value: 0.04292078662246636 and parameters: {'topK': 11, 'alpha': 0.30340372740710986, 'beta': 0.24018813848510417, 'normalize_similarity': True, 'implicit': True}. Best is trial 154 with value: 0.042927519659248646.\n"
     ]
    },
    {
     "name": "stdout",
     "output_type": "stream",
     "text": [
      "RP3betaRecommender: Similarity column 38121 (100.0%), 4018.66 column/sec. Elapsed time 9.49 sec\n",
      "EvaluatorHoldout: Processed 35209 (100.0%) in 8.70 sec. Users per second: 4045\n"
     ]
    },
    {
     "name": "stderr",
     "output_type": "stream",
     "text": [
      "[I 2025-01-07 01:03:43,293] Trial 207 finished with value: 0.04271204106814146 and parameters: {'topK': 10, 'alpha': 0.29679950111657366, 'beta': 0.24868580472727103, 'normalize_similarity': True, 'implicit': True}. Best is trial 154 with value: 0.042927519659248646.\n"
     ]
    },
    {
     "name": "stdout",
     "output_type": "stream",
     "text": [
      "RP3betaRecommender: Similarity column 38121 (100.0%), 3396.66 column/sec. Elapsed time 11.22 sec\n",
      "EvaluatorHoldout: Processed 35209 (100.0%) in 8.86 sec. Users per second: 3972\n"
     ]
    },
    {
     "name": "stderr",
     "output_type": "stream",
     "text": [
      "[I 2025-01-07 01:04:03,746] Trial 208 finished with value: 0.04285141628200034 and parameters: {'topK': 12, 'alpha': 0.308539292982031, 'beta': 0.24495659552752153, 'normalize_similarity': True, 'implicit': True}. Best is trial 154 with value: 0.042927519659248646.\n"
     ]
    },
    {
     "name": "stdout",
     "output_type": "stream",
     "text": [
      "RP3betaRecommender: Similarity column 38121 (100.0%), 3265.85 column/sec. Elapsed time 11.67 sec\n",
      "EvaluatorHoldout: Processed 35209 (100.0%) in 8.99 sec. Users per second: 3915\n"
     ]
    },
    {
     "name": "stderr",
     "output_type": "stream",
     "text": [
      "[I 2025-01-07 01:04:24,812] Trial 209 finished with value: 0.042872983639192126 and parameters: {'topK': 12, 'alpha': 0.29578330542819203, 'beta': 0.23042389382547573, 'normalize_similarity': True, 'implicit': True}. Best is trial 154 with value: 0.042927519659248646.\n"
     ]
    },
    {
     "name": "stdout",
     "output_type": "stream",
     "text": [
      "RP3betaRecommender: Similarity column 38121 (100.0%), 3515.34 column/sec. Elapsed time 10.84 sec\n",
      "EvaluatorHoldout: Processed 35209 (100.0%) in 8.88 sec. Users per second: 3963\n"
     ]
    },
    {
     "name": "stderr",
     "output_type": "stream",
     "text": [
      "[I 2025-01-07 01:04:44,954] Trial 210 finished with value: 0.04273324213190263 and parameters: {'topK': 13, 'alpha': 0.3039910599081994, 'beta': 0.24078460561401843, 'normalize_similarity': True, 'implicit': False}. Best is trial 154 with value: 0.042927519659248646.\n"
     ]
    },
    {
     "name": "stdout",
     "output_type": "stream",
     "text": [
      "RP3betaRecommender: Similarity column 38121 (100.0%), 3377.28 column/sec. Elapsed time 11.29 sec\n",
      "EvaluatorHoldout: Processed 35209 (100.0%) in 8.82 sec. Users per second: 3992\n"
     ]
    },
    {
     "name": "stderr",
     "output_type": "stream",
     "text": [
      "[I 2025-01-07 01:05:05,433] Trial 211 finished with value: 0.04291911857853641 and parameters: {'topK': 11, 'alpha': 0.30215617387058696, 'beta': 0.24058940739644957, 'normalize_similarity': True, 'implicit': True}. Best is trial 154 with value: 0.042927519659248646.\n"
     ]
    },
    {
     "name": "stdout",
     "output_type": "stream",
     "text": [
      "RP3betaRecommender: Similarity column 38121 (100.0%), 3533.91 column/sec. Elapsed time 10.79 sec\n",
      "EvaluatorHoldout: Processed 35209 (100.0%) in 8.72 sec. Users per second: 4037\n"
     ]
    },
    {
     "name": "stderr",
     "output_type": "stream",
     "text": [
      "[I 2025-01-07 01:05:25,317] Trial 212 finished with value: 0.042894086649019905 and parameters: {'topK': 11, 'alpha': 0.2989726867855025, 'beta': 0.24531277779931393, 'normalize_similarity': True, 'implicit': True}. Best is trial 154 with value: 0.042927519659248646.\n"
     ]
    },
    {
     "name": "stdout",
     "output_type": "stream",
     "text": [
      "RP3betaRecommender: Similarity column 38121 (100.0%), 3806.37 column/sec. Elapsed time 10.02 sec\n",
      "EvaluatorHoldout: Processed 35209 (100.0%) in 8.80 sec. Users per second: 4002\n"
     ]
    },
    {
     "name": "stderr",
     "output_type": "stream",
     "text": [
      "[I 2025-01-07 01:05:44,508] Trial 213 finished with value: 0.04290199520594989 and parameters: {'topK': 11, 'alpha': 0.29182582547795427, 'beta': 0.23609697741436805, 'normalize_similarity': True, 'implicit': True}. Best is trial 154 with value: 0.042927519659248646.\n"
     ]
    },
    {
     "name": "stdout",
     "output_type": "stream",
     "text": [
      "RP3betaRecommender: Similarity column 38121 (100.0%), 3315.01 column/sec. Elapsed time 11.50 sec\n",
      "EvaluatorHoldout: Processed 35209 (100.0%) in 8.83 sec. Users per second: 3990\n"
     ]
    },
    {
     "name": "stderr",
     "output_type": "stream",
     "text": [
      "[I 2025-01-07 01:06:05,200] Trial 214 finished with value: 0.04290584297755591 and parameters: {'topK': 11, 'alpha': 0.29218083201148287, 'beta': 0.2350138466997176, 'normalize_similarity': True, 'implicit': True}. Best is trial 154 with value: 0.042927519659248646.\n"
     ]
    },
    {
     "name": "stdout",
     "output_type": "stream",
     "text": [
      "RP3betaRecommender: Similarity column 38121 (100.0%), 3405.67 column/sec. Elapsed time 11.19 sec\n",
      "EvaluatorHoldout: Processed 35209 (100.0%) in 8.78 sec. Users per second: 4012\n"
     ]
    },
    {
     "name": "stderr",
     "output_type": "stream",
     "text": [
      "[I 2025-01-07 01:06:25,529] Trial 215 finished with value: 0.04262638475822428 and parameters: {'topK': 9, 'alpha': 0.29294846428560256, 'beta': 0.23661217643109433, 'normalize_similarity': True, 'implicit': True}. Best is trial 154 with value: 0.042927519659248646.\n"
     ]
    },
    {
     "name": "stdout",
     "output_type": "stream",
     "text": [
      "RP3betaRecommender: Similarity column 38121 (100.0%), 3622.43 column/sec. Elapsed time 10.52 sec\n",
      "EvaluatorHoldout: Processed 35209 (100.0%) in 8.73 sec. Users per second: 4031\n"
     ]
    },
    {
     "name": "stderr",
     "output_type": "stream",
     "text": [
      "[I 2025-01-07 01:06:45,152] Trial 216 finished with value: 0.04272860767471357 and parameters: {'topK': 10, 'alpha': 0.31130257610731615, 'beta': 0.23365641311787944, 'normalize_similarity': True, 'implicit': True}. Best is trial 154 with value: 0.042927519659248646.\n"
     ]
    },
    {
     "name": "stdout",
     "output_type": "stream",
     "text": [
      "RP3betaRecommender: Similarity column 38121 (100.0%), 3360.58 column/sec. Elapsed time 11.34 sec\n",
      "EvaluatorHoldout: Processed 35209 (100.0%) in 8.83 sec. Users per second: 3986\n"
     ]
    },
    {
     "name": "stderr",
     "output_type": "stream",
     "text": [
      "[I 2025-01-07 01:07:05,679] Trial 217 finished with value: 0.04273223228909106 and parameters: {'topK': 10, 'alpha': 0.31952125302991463, 'beta': 0.24149090022872916, 'normalize_similarity': True, 'implicit': True}. Best is trial 154 with value: 0.042927519659248646.\n"
     ]
    },
    {
     "name": "stdout",
     "output_type": "stream",
     "text": [
      "RP3betaRecommender: Similarity column 38121 (100.0%), 3560.08 column/sec. Elapsed time 10.71 sec\n",
      "EvaluatorHoldout: Processed 35209 (100.0%) in 8.84 sec. Users per second: 3984\n"
     ]
    },
    {
     "name": "stderr",
     "output_type": "stream",
     "text": [
      "[I 2025-01-07 01:07:25,593] Trial 218 finished with value: 0.04291012804716512 and parameters: {'topK': 11, 'alpha': 0.30063722851267927, 'beta': 0.22939914888730303, 'normalize_similarity': True, 'implicit': True}. Best is trial 154 with value: 0.042927519659248646.\n"
     ]
    },
    {
     "name": "stdout",
     "output_type": "stream",
     "text": [
      "RP3betaRecommender: Similarity column 38121 (100.0%), 3511.92 column/sec. Elapsed time 10.85 sec\n",
      "EvaluatorHoldout: Processed 35209 (100.0%) in 8.72 sec. Users per second: 4036\n"
     ]
    },
    {
     "name": "stderr",
     "output_type": "stream",
     "text": [
      "[I 2025-01-07 01:07:45,539] Trial 219 finished with value: 0.04289603871124046 and parameters: {'topK': 11, 'alpha': 0.2928622699960712, 'beta': 0.2276997901956611, 'normalize_similarity': True, 'implicit': True}. Best is trial 154 with value: 0.042927519659248646.\n"
     ]
    },
    {
     "name": "stdout",
     "output_type": "stream",
     "text": [
      "RP3betaRecommender: Similarity column 38121 (100.0%), 3546.73 column/sec. Elapsed time 10.75 sec\n",
      "EvaluatorHoldout: Processed 35209 (100.0%) in 8.71 sec. Users per second: 4042\n"
     ]
    },
    {
     "name": "stderr",
     "output_type": "stream",
     "text": [
      "[I 2025-01-07 01:08:05,342] Trial 220 finished with value: 0.04260679989378438 and parameters: {'topK': 9, 'alpha': 0.3006161342865391, 'beta': 0.2310541315854386, 'normalize_similarity': True, 'implicit': True}. Best is trial 154 with value: 0.042927519659248646.\n"
     ]
    },
    {
     "name": "stdout",
     "output_type": "stream",
     "text": [
      "RP3betaRecommender: Similarity column 38121 (100.0%), 3480.91 column/sec. Elapsed time 10.95 sec\n",
      "EvaluatorHoldout: Processed 35209 (100.0%) in 8.76 sec. Users per second: 4021\n"
     ]
    },
    {
     "name": "stderr",
     "output_type": "stream",
     "text": [
      "[I 2025-01-07 01:08:25,419] Trial 221 finished with value: 0.04289145384454655 and parameters: {'topK': 11, 'alpha': 0.3045394520396771, 'beta': 0.2364465351157452, 'normalize_similarity': True, 'implicit': True}. Best is trial 154 with value: 0.042927519659248646.\n"
     ]
    },
    {
     "name": "stdout",
     "output_type": "stream",
     "text": [
      "RP3betaRecommender: Similarity column 38121 (100.0%), 3275.36 column/sec. Elapsed time 11.64 sec\n",
      "EvaluatorHoldout: Processed 35209 (100.0%) in 8.74 sec. Users per second: 4027\n"
     ]
    },
    {
     "name": "stderr",
     "output_type": "stream",
     "text": [
      "[I 2025-01-07 01:08:46,173] Trial 222 finished with value: 0.0429039946045523 and parameters: {'topK': 12, 'alpha': 0.29950797608139335, 'beta': 0.24763046615762344, 'normalize_similarity': True, 'implicit': True}. Best is trial 154 with value: 0.042927519659248646.\n"
     ]
    },
    {
     "name": "stdout",
     "output_type": "stream",
     "text": [
      "RP3betaRecommender: Similarity column 38121 (100.0%), 3429.93 column/sec. Elapsed time 11.11 sec\n",
      "EvaluatorHoldout: Processed 35209 (100.0%) in 8.87 sec. Users per second: 3968\n"
     ]
    },
    {
     "name": "stderr",
     "output_type": "stream",
     "text": [
      "[I 2025-01-07 01:09:06,574] Trial 223 finished with value: 0.04288659059484518 and parameters: {'topK': 12, 'alpha': 0.29893593847238026, 'beta': 0.24835019859848717, 'normalize_similarity': True, 'implicit': True}. Best is trial 154 with value: 0.042927519659248646.\n"
     ]
    },
    {
     "name": "stdout",
     "output_type": "stream",
     "text": [
      "RP3betaRecommender: Similarity column 38121 (100.0%), 3943.20 column/sec. Elapsed time 9.67 sec\n",
      "EvaluatorHoldout: Processed 35209 (100.0%) in 8.79 sec. Users per second: 4004\n"
     ]
    },
    {
     "name": "stderr",
     "output_type": "stream",
     "text": [
      "[I 2025-01-07 01:09:25,414] Trial 224 finished with value: 0.04274434251343394 and parameters: {'topK': 13, 'alpha': 0.2929208987116112, 'beta': 0.25505878749497224, 'normalize_similarity': True, 'implicit': True}. Best is trial 154 with value: 0.042927519659248646.\n"
     ]
    },
    {
     "name": "stdout",
     "output_type": "stream",
     "text": [
      "RP3betaRecommender: Similarity column 38121 (100.0%), 3772.89 column/sec. Elapsed time 10.10 sec\n",
      "EvaluatorHoldout: Processed 35209 (100.0%) in 9.26 sec. Users per second: 3802\n"
     ]
    },
    {
     "name": "stderr",
     "output_type": "stream",
     "text": [
      "[I 2025-01-07 01:09:45,357] Trial 225 finished with value: 0.04158669184962018 and parameters: {'topK': 30, 'alpha': 0.31111829631745314, 'beta': 0.24541141753990775, 'normalize_similarity': True, 'implicit': True}. Best is trial 154 with value: 0.042927519659248646.\n"
     ]
    },
    {
     "name": "stdout",
     "output_type": "stream",
     "text": [
      "RP3betaRecommender: Similarity column 38121 (100.0%), 3740.89 column/sec. Elapsed time 10.19 sec\n",
      "EvaluatorHoldout: Processed 35209 (100.0%) in 8.72 sec. Users per second: 4037\n"
     ]
    },
    {
     "name": "stderr",
     "output_type": "stream",
     "text": [
      "[I 2025-01-07 01:10:04,629] Trial 226 finished with value: 0.042699316597891945 and parameters: {'topK': 10, 'alpha': 0.29867984408452075, 'beta': 0.2506808297457859, 'normalize_similarity': True, 'implicit': True}. Best is trial 154 with value: 0.042927519659248646.\n"
     ]
    },
    {
     "name": "stdout",
     "output_type": "stream",
     "text": [
      "RP3betaRecommender: Similarity column 38121 (100.0%), 3464.05 column/sec. Elapsed time 11.00 sec\n",
      "EvaluatorHoldout: Processed 35209 (100.0%) in 8.85 sec. Users per second: 3977\n"
     ]
    },
    {
     "name": "stderr",
     "output_type": "stream",
     "text": [
      "[I 2025-01-07 01:10:24,852] Trial 227 finished with value: 0.04260419526572882 and parameters: {'topK': 12, 'alpha': 0.4653665609089646, 'beta': 0.24284719936167612, 'normalize_similarity': True, 'implicit': True}. Best is trial 154 with value: 0.042927519659248646.\n"
     ]
    },
    {
     "name": "stdout",
     "output_type": "stream",
     "text": [
      "RP3betaRecommender: Similarity column 38121 (100.0%), 3499.60 column/sec. Elapsed time 10.89 sec\n",
      "EvaluatorHoldout: Processed 35209 (100.0%) in 8.89 sec. Users per second: 3959\n"
     ]
    },
    {
     "name": "stderr",
     "output_type": "stream",
     "text": [
      "[I 2025-01-07 01:10:45,004] Trial 228 finished with value: 0.04290554768869804 and parameters: {'topK': 11, 'alpha': 0.29237354275314786, 'beta': 0.23671501252182112, 'normalize_similarity': True, 'implicit': True}. Best is trial 154 with value: 0.042927519659248646.\n"
     ]
    },
    {
     "name": "stdout",
     "output_type": "stream",
     "text": [
      "RP3betaRecommender: Similarity column 38121 (100.0%), 3609.59 column/sec. Elapsed time 10.56 sec\n",
      "EvaluatorHoldout: Processed 35209 (100.0%) in 8.88 sec. Users per second: 3965\n"
     ]
    },
    {
     "name": "stderr",
     "output_type": "stream",
     "text": [
      "[I 2025-01-07 01:11:04,811] Trial 229 finished with value: 0.042875723514052735 and parameters: {'topK': 12, 'alpha': 0.2911895529440208, 'beta': 0.2328704600411816, 'normalize_similarity': True, 'implicit': True}. Best is trial 154 with value: 0.042927519659248646.\n"
     ]
    },
    {
     "name": "stdout",
     "output_type": "stream",
     "text": [
      "RP3betaRecommender: Similarity column 38121 (100.0%), 3359.72 column/sec. Elapsed time 11.35 sec\n",
      "EvaluatorHoldout: Processed 35209 (100.0%) in 8.62 sec. Users per second: 4083\n"
     ]
    },
    {
     "name": "stderr",
     "output_type": "stream",
     "text": [
      "[I 2025-01-07 01:11:25,136] Trial 230 finished with value: 0.042689439072890425 and parameters: {'topK': 10, 'alpha': 0.2917747652872663, 'beta': 0.24695850537597147, 'normalize_similarity': True, 'implicit': True}. Best is trial 154 with value: 0.042927519659248646.\n"
     ]
    },
    {
     "name": "stdout",
     "output_type": "stream",
     "text": [
      "RP3betaRecommender: Similarity column 38121 (100.0%), 3662.86 column/sec. Elapsed time 10.41 sec\n",
      "EvaluatorHoldout: Processed 35209 (100.0%) in 8.75 sec. Users per second: 4023\n"
     ]
    },
    {
     "name": "stderr",
     "output_type": "stream",
     "text": [
      "[I 2025-01-07 01:11:44,661] Trial 231 finished with value: 0.042919666328097135 and parameters: {'topK': 11, 'alpha': 0.3012324972233937, 'beta': 0.23771302504233932, 'normalize_similarity': True, 'implicit': True}. Best is trial 154 with value: 0.042927519659248646.\n"
     ]
    },
    {
     "name": "stdout",
     "output_type": "stream",
     "text": [
      "RP3betaRecommender: Similarity column 38121 (100.0%), 3397.63 column/sec. Elapsed time 11.22 sec\n",
      "EvaluatorHoldout: Processed 35209 (100.0%) in 8.77 sec. Users per second: 4014\n"
     ]
    },
    {
     "name": "stderr",
     "output_type": "stream",
     "text": [
      "[I 2025-01-07 01:12:05,009] Trial 232 finished with value: 0.04290694073079103 and parameters: {'topK': 11, 'alpha': 0.29775126805878827, 'beta': 0.24268290602061598, 'normalize_similarity': True, 'implicit': True}. Best is trial 154 with value: 0.042927519659248646.\n"
     ]
    },
    {
     "name": "stdout",
     "output_type": "stream",
     "text": [
      "RP3betaRecommender: Similarity column 38121 (100.0%), 3479.32 column/sec. Elapsed time 10.96 sec\n",
      "EvaluatorHoldout: Processed 35209 (100.0%) in 8.90 sec. Users per second: 3955\n"
     ]
    },
    {
     "name": "stderr",
     "output_type": "stream",
     "text": [
      "[I 2025-01-07 01:12:25,239] Trial 233 finished with value: 0.04291837922933497 and parameters: {'topK': 11, 'alpha': 0.29721156633147483, 'beta': 0.23679447329089137, 'normalize_similarity': True, 'implicit': True}. Best is trial 154 with value: 0.042927519659248646.\n"
     ]
    },
    {
     "name": "stdout",
     "output_type": "stream",
     "text": [
      "RP3betaRecommender: Similarity column 38121 (100.0%), 3566.64 column/sec. Elapsed time 10.69 sec\n",
      "EvaluatorHoldout: Processed 35209 (100.0%) in 8.86 sec. Users per second: 3975\n"
     ]
    },
    {
     "name": "stderr",
     "output_type": "stream",
     "text": [
      "[I 2025-01-07 01:12:45,150] Trial 234 finished with value: 0.04291579714241345 and parameters: {'topK': 12, 'alpha': 0.2971757689977078, 'beta': 0.24212930246099015, 'normalize_similarity': True, 'implicit': True}. Best is trial 154 with value: 0.042927519659248646.\n"
     ]
    },
    {
     "name": "stdout",
     "output_type": "stream",
     "text": [
      "RP3betaRecommender: Similarity column 38121 (100.0%), 3512.84 column/sec. Elapsed time 10.85 sec\n",
      "EvaluatorHoldout: Processed 35209 (100.0%) in 8.80 sec. Users per second: 3999\n"
     ]
    },
    {
     "name": "stderr",
     "output_type": "stream",
     "text": [
      "[I 2025-01-07 01:13:05,211] Trial 235 finished with value: 0.04277811589478884 and parameters: {'topK': 13, 'alpha': 0.2998357355818008, 'beta': 0.2378454531960555, 'normalize_similarity': True, 'implicit': True}. Best is trial 154 with value: 0.042927519659248646.\n"
     ]
    },
    {
     "name": "stdout",
     "output_type": "stream",
     "text": [
      "RP3betaRecommender: Similarity column 38121 (100.0%), 3216.78 column/sec. Elapsed time 11.85 sec\n",
      "EvaluatorHoldout: Processed 35209 (100.0%) in 8.80 sec. Users per second: 4001\n"
     ]
    },
    {
     "name": "stderr",
     "output_type": "stream",
     "text": [
      "[I 2025-01-07 01:13:26,226] Trial 236 finished with value: 0.03475140284748529 and parameters: {'topK': 12, 'alpha': 0.2993444272316486, 'beta': 0.22941521124252073, 'normalize_similarity': False, 'implicit': True}. Best is trial 154 with value: 0.042927519659248646.\n"
     ]
    },
    {
     "name": "stdout",
     "output_type": "stream",
     "text": [
      "RP3betaRecommender: Similarity column 38121 (100.0%), 3275.34 column/sec. Elapsed time 11.64 sec\n",
      "EvaluatorHoldout: Processed 35209 (100.0%) in 8.84 sec. Users per second: 3984\n"
     ]
    },
    {
     "name": "stderr",
     "output_type": "stream",
     "text": [
      "[I 2025-01-07 01:13:47,063] Trial 237 finished with value: 0.042846615020418186 and parameters: {'topK': 12, 'alpha': 0.3102150637999029, 'beta': 0.24182347045908023, 'normalize_similarity': True, 'implicit': True}. Best is trial 154 with value: 0.042927519659248646.\n"
     ]
    },
    {
     "name": "stdout",
     "output_type": "stream",
     "text": [
      "RP3betaRecommender: Similarity column 38121 (100.0%), 3414.53 column/sec. Elapsed time 11.16 sec\n",
      "EvaluatorHoldout: Processed 35209 (100.0%) in 8.81 sec. Users per second: 3997\n"
     ]
    },
    {
     "name": "stderr",
     "output_type": "stream",
     "text": [
      "[I 2025-01-07 01:14:07,377] Trial 238 finished with value: 0.04275230066085924 and parameters: {'topK': 10, 'alpha': 0.2969357981149335, 'beta': 0.23443069036613684, 'normalize_similarity': True, 'implicit': True}. Best is trial 154 with value: 0.042927519659248646.\n"
     ]
    },
    {
     "name": "stdout",
     "output_type": "stream",
     "text": [
      "RP3betaRecommender: Similarity column 38121 (100.0%), 4117.81 column/sec. Elapsed time 9.26 sec\n",
      "EvaluatorHoldout: Processed 35209 (100.0%) in 9.21 sec. Users per second: 3825\n"
     ]
    },
    {
     "name": "stderr",
     "output_type": "stream",
     "text": [
      "[I 2025-01-07 01:14:26,384] Trial 239 finished with value: 0.042043629943100014 and parameters: {'topK': 26, 'alpha': 0.2878226219837801, 'beta': 0.24095717964019178, 'normalize_similarity': True, 'implicit': True}. Best is trial 154 with value: 0.042927519659248646.\n"
     ]
    },
    {
     "name": "stdout",
     "output_type": "stream",
     "text": [
      "RP3betaRecommender: Similarity column 38121 (100.0%), 4265.11 column/sec. Elapsed time 8.94 sec\n",
      "EvaluatorHoldout: Processed 35209 (100.0%) in 8.83 sec. Users per second: 3986\n"
     ]
    },
    {
     "name": "stderr",
     "output_type": "stream",
     "text": [
      "[I 2025-01-07 01:14:44,533] Trial 240 finished with value: 0.04275609320668642 and parameters: {'topK': 13, 'alpha': 0.3027404209551637, 'beta': 0.2509899827737031, 'normalize_similarity': True, 'implicit': True}. Best is trial 154 with value: 0.042927519659248646.\n"
     ]
    },
    {
     "name": "stdout",
     "output_type": "stream",
     "text": [
      "RP3betaRecommender: Similarity column 38121 (100.0%), 3398.95 column/sec. Elapsed time 11.22 sec\n",
      "EvaluatorHoldout: Processed 35209 (100.0%) in 8.87 sec. Users per second: 3972\n"
     ]
    },
    {
     "name": "stderr",
     "output_type": "stream",
     "text": [
      "[I 2025-01-07 01:15:04,983] Trial 241 finished with value: 0.042888691428551784 and parameters: {'topK': 11, 'alpha': 0.29399438345690626, 'beta': 0.24387309317965583, 'normalize_similarity': True, 'implicit': True}. Best is trial 154 with value: 0.042927519659248646.\n"
     ]
    },
    {
     "name": "stdout",
     "output_type": "stream",
     "text": [
      "RP3betaRecommender: Similarity column 38121 (100.0%), 3659.89 column/sec. Elapsed time 10.42 sec\n",
      "EvaluatorHoldout: Processed 35209 (100.0%) in 8.80 sec. Users per second: 4001\n"
     ]
    },
    {
     "name": "stderr",
     "output_type": "stream",
     "text": [
      "[I 2025-01-07 01:15:24,551] Trial 242 finished with value: 0.042908602012380614 and parameters: {'topK': 11, 'alpha': 0.2955720432796927, 'beta': 0.23792869367182087, 'normalize_similarity': True, 'implicit': True}. Best is trial 154 with value: 0.042927519659248646.\n"
     ]
    },
    {
     "name": "stdout",
     "output_type": "stream",
     "text": [
      "RP3betaRecommender: Similarity column 38121 (100.0%), 3315.43 column/sec. Elapsed time 11.50 sec\n",
      "EvaluatorHoldout: Processed 35209 (100.0%) in 8.82 sec. Users per second: 3993\n"
     ]
    },
    {
     "name": "stderr",
     "output_type": "stream",
     "text": [
      "[I 2025-01-07 01:15:45,222] Trial 243 finished with value: 0.042763231983884056 and parameters: {'topK': 10, 'alpha': 0.28946367813185336, 'beta': 0.23597765266355716, 'normalize_similarity': True, 'implicit': True}. Best is trial 154 with value: 0.042927519659248646.\n"
     ]
    },
    {
     "name": "stdout",
     "output_type": "stream",
     "text": [
      "RP3betaRecommender: Similarity column 38121 (100.0%), 3801.30 column/sec. Elapsed time 10.03 sec\n",
      "EvaluatorHoldout: Processed 35209 (100.0%) in 8.87 sec. Users per second: 3970\n"
     ]
    },
    {
     "name": "stderr",
     "output_type": "stream",
     "text": [
      "[I 2025-01-07 01:16:04,484] Trial 244 finished with value: 0.04286497364715815 and parameters: {'topK': 12, 'alpha': 0.30159499085880015, 'beta': 0.23845713846987257, 'normalize_similarity': True, 'implicit': True}. Best is trial 154 with value: 0.042927519659248646.\n"
     ]
    },
    {
     "name": "stdout",
     "output_type": "stream",
     "text": [
      "RP3betaRecommender: Similarity column 38121 (100.0%), 3257.41 column/sec. Elapsed time 11.70 sec\n",
      "EvaluatorHoldout: Processed 35209 (100.0%) in 8.83 sec. Users per second: 3988\n"
     ]
    },
    {
     "name": "stderr",
     "output_type": "stream",
     "text": [
      "[I 2025-01-07 01:16:25,388] Trial 245 finished with value: 0.04288008184234837 and parameters: {'topK': 11, 'alpha': 0.3151199594722096, 'beta': 0.24163161478874484, 'normalize_similarity': True, 'implicit': True}. Best is trial 154 with value: 0.042927519659248646.\n"
     ]
    },
    {
     "name": "stdout",
     "output_type": "stream",
     "text": [
      "RP3betaRecommender: Similarity column 38121 (100.0%), 3843.00 column/sec. Elapsed time 9.92 sec\n",
      "EvaluatorHoldout: Processed 35209 (100.0%) in 8.75 sec. Users per second: 4022\n"
     ]
    },
    {
     "name": "stderr",
     "output_type": "stream",
     "text": [
      "[I 2025-01-07 01:16:44,410] Trial 246 finished with value: 0.042901624404292404 and parameters: {'topK': 11, 'alpha': 0.3071402906969453, 'beta': 0.23339230498438454, 'normalize_similarity': True, 'implicit': True}. Best is trial 154 with value: 0.042927519659248646.\n"
     ]
    },
    {
     "name": "stdout",
     "output_type": "stream",
     "text": [
      "RP3betaRecommender: Similarity column 38121 (100.0%), 3242.33 column/sec. Elapsed time 11.76 sec\n",
      "EvaluatorHoldout: Processed 35209 (100.0%) in 8.66 sec. Users per second: 4067\n"
     ]
    },
    {
     "name": "stderr",
     "output_type": "stream",
     "text": [
      "[I 2025-01-07 01:17:05,170] Trial 247 finished with value: 0.04274430644761926 and parameters: {'topK': 10, 'alpha': 0.29666368530252585, 'beta': 0.22416879443260496, 'normalize_similarity': True, 'implicit': True}. Best is trial 154 with value: 0.042927519659248646.\n"
     ]
    },
    {
     "name": "stdout",
     "output_type": "stream",
     "text": [
      "RP3betaRecommender: Similarity column 38121 (100.0%), 3863.04 column/sec. Elapsed time 9.87 sec\n",
      "EvaluatorHoldout: Processed 35209 (100.0%) in 8.84 sec. Users per second: 3983\n"
     ]
    },
    {
     "name": "stderr",
     "output_type": "stream",
     "text": [
      "[I 2025-01-07 01:17:24,247] Trial 248 finished with value: 0.04292797499015894 and parameters: {'topK': 12, 'alpha': 0.2888301643247123, 'beta': 0.2485100815115235, 'normalize_similarity': True, 'implicit': True}. Best is trial 248 with value: 0.04292797499015894.\n"
     ]
    },
    {
     "name": "stdout",
     "output_type": "stream",
     "text": [
      "RP3betaRecommender: Similarity column 38121 (100.0%), 3777.20 column/sec. Elapsed time 10.09 sec\n",
      "EvaluatorHoldout: Processed 35209 (100.0%) in 8.77 sec. Users per second: 4013\n"
     ]
    },
    {
     "name": "stderr",
     "output_type": "stream",
     "text": [
      "[I 2025-01-07 01:17:43,494] Trial 249 finished with value: 0.04292651770583364 and parameters: {'topK': 12, 'alpha': 0.28833487515038353, 'beta': 0.24896940249508348, 'normalize_similarity': True, 'implicit': True}. Best is trial 248 with value: 0.04292797499015894.\n"
     ]
    },
    {
     "name": "stdout",
     "output_type": "stream",
     "text": [
      "RP3betaRecommender: Similarity column 38121 (100.0%), 3515.12 column/sec. Elapsed time 10.84 sec\n",
      "EvaluatorHoldout: Processed 35209 (100.0%) in 8.92 sec. Users per second: 3946\n"
     ]
    },
    {
     "name": "stderr",
     "output_type": "stream",
     "text": [
      "[I 2025-01-07 01:18:03,638] Trial 250 finished with value: 0.042742231536217166 and parameters: {'topK': 13, 'alpha': 0.2958306296398269, 'beta': 0.2547704613197607, 'normalize_similarity': True, 'implicit': False}. Best is trial 248 with value: 0.04292797499015894.\n"
     ]
    },
    {
     "name": "stdout",
     "output_type": "stream",
     "text": [
      "RP3betaRecommender: Similarity column 38121 (100.0%), 3712.79 column/sec. Elapsed time 10.27 sec\n",
      "EvaluatorHoldout: Processed 35209 (100.0%) in 8.71 sec. Users per second: 4043\n"
     ]
    },
    {
     "name": "stderr",
     "output_type": "stream",
     "text": [
      "[I 2025-01-07 01:18:23,027] Trial 251 finished with value: 0.04288232243108643 and parameters: {'topK': 12, 'alpha': 0.3023275858436264, 'beta': 0.2506021470366135, 'normalize_similarity': True, 'implicit': True}. Best is trial 248 with value: 0.04292797499015894.\n"
     ]
    },
    {
     "name": "stdout",
     "output_type": "stream",
     "text": [
      "RP3betaRecommender: Similarity column 38121 (100.0%), 3745.80 column/sec. Elapsed time 10.18 sec\n",
      "EvaluatorHoldout: Processed 35209 (100.0%) in 8.69 sec. Users per second: 4050\n"
     ]
    },
    {
     "name": "stderr",
     "output_type": "stream",
     "text": [
      "[I 2025-01-07 01:18:42,290] Trial 252 finished with value: 0.04291367714874302 and parameters: {'topK': 12, 'alpha': 0.28722485506052325, 'beta': 0.24866849073228617, 'normalize_similarity': True, 'implicit': True}. Best is trial 248 with value: 0.04292797499015894.\n"
     ]
    },
    {
     "name": "stdout",
     "output_type": "stream",
     "text": [
      "RP3betaRecommender: Similarity column 38121 (100.0%), 3865.80 column/sec. Elapsed time 9.86 sec\n",
      "EvaluatorHoldout: Processed 35209 (100.0%) in 8.66 sec. Users per second: 4066\n"
     ]
    },
    {
     "name": "stderr",
     "output_type": "stream",
     "text": [
      "[I 2025-01-07 01:19:01,186] Trial 253 finished with value: 0.0428845810527325 and parameters: {'topK': 11, 'alpha': 0.28679549492068945, 'beta': 0.2524964398268146, 'normalize_similarity': True, 'implicit': True}. Best is trial 248 with value: 0.04292797499015894.\n"
     ]
    },
    {
     "name": "stdout",
     "output_type": "stream",
     "text": [
      "RP3betaRecommender: Similarity column 38121 (100.0%), 3426.80 column/sec. Elapsed time 11.12 sec\n",
      "EvaluatorHoldout: Processed 35209 (100.0%) in 8.66 sec. Users per second: 4066\n"
     ]
    },
    {
     "name": "stderr",
     "output_type": "stream",
     "text": [
      "[I 2025-01-07 01:19:21,328] Trial 254 finished with value: 0.04273213310810043 and parameters: {'topK': 10, 'alpha': 0.28471782047049693, 'beta': 0.2442059532432578, 'normalize_similarity': True, 'implicit': True}. Best is trial 248 with value: 0.04292797499015894.\n"
     ]
    },
    {
     "name": "stdout",
     "output_type": "stream",
     "text": [
      "RP3betaRecommender: Similarity column 38121 (100.0%), 3558.83 column/sec. Elapsed time 10.71 sec\n",
      "EvaluatorHoldout: Processed 35209 (100.0%) in 8.63 sec. Users per second: 4079\n"
     ]
    },
    {
     "name": "stderr",
     "output_type": "stream",
     "text": [
      "[I 2025-01-07 01:19:41,020] Trial 255 finished with value: 0.0426275321019545 and parameters: {'topK': 9, 'alpha': 0.29333077264330015, 'beta': 0.2590230635816398, 'normalize_similarity': True, 'implicit': True}. Best is trial 248 with value: 0.04292797499015894.\n"
     ]
    },
    {
     "name": "stdout",
     "output_type": "stream",
     "text": [
      "RP3betaRecommender: Similarity column 38121 (100.0%), 3637.32 column/sec. Elapsed time 10.48 sec\n",
      "EvaluatorHoldout: Processed 35209 (100.0%) in 8.76 sec. Users per second: 4021\n"
     ]
    },
    {
     "name": "stderr",
     "output_type": "stream",
     "text": [
      "[I 2025-01-07 01:20:00,620] Trial 256 finished with value: 0.042847523428125894 and parameters: {'topK': 12, 'alpha': 0.3101735810627676, 'beta': 0.24874488442619458, 'normalize_similarity': True, 'implicit': True}. Best is trial 248 with value: 0.04292797499015894.\n"
     ]
    },
    {
     "name": "stdout",
     "output_type": "stream",
     "text": [
      "RP3betaRecommender: Similarity column 38121 (100.0%), 3583.07 column/sec. Elapsed time 10.64 sec\n",
      "EvaluatorHoldout: Processed 35209 (100.0%) in 8.70 sec. Users per second: 4047\n"
     ]
    },
    {
     "name": "stderr",
     "output_type": "stream",
     "text": [
      "[I 2025-01-07 01:20:20,333] Trial 257 finished with value: 0.04283553605296465 and parameters: {'topK': 11, 'alpha': 0.2897002983687351, 'beta': 0.2552163027188427, 'normalize_similarity': True, 'implicit': True}. Best is trial 248 with value: 0.04292797499015894.\n"
     ]
    },
    {
     "name": "stdout",
     "output_type": "stream",
     "text": [
      "RP3betaRecommender: Similarity column 38121 (100.0%), 4252.91 column/sec. Elapsed time 8.96 sec\n",
      "EvaluatorHoldout: Processed 35209 (100.0%) in 8.76 sec. Users per second: 4018\n"
     ]
    },
    {
     "name": "stderr",
     "output_type": "stream",
     "text": [
      "[I 2025-01-07 01:20:38,434] Trial 258 finished with value: 0.042751154444185736 and parameters: {'topK': 13, 'alpha': 0.3055650633190142, 'beta': 0.24391606083649206, 'normalize_similarity': True, 'implicit': True}. Best is trial 248 with value: 0.04292797499015894.\n"
     ]
    },
    {
     "name": "stdout",
     "output_type": "stream",
     "text": [
      "RP3betaRecommender: Similarity column 38121 (100.0%), 3759.20 column/sec. Elapsed time 10.14 sec\n",
      "EvaluatorHoldout: Processed 35209 (100.0%) in 8.78 sec. Users per second: 4010\n"
     ]
    },
    {
     "name": "stderr",
     "output_type": "stream",
     "text": [
      "[I 2025-01-07 01:20:57,711] Trial 259 finished with value: 0.042723645244021786 and parameters: {'topK': 10, 'alpha': 0.29448476363701476, 'beta': 0.24917737340450397, 'normalize_similarity': True, 'implicit': True}. Best is trial 248 with value: 0.04292797499015894.\n"
     ]
    },
    {
     "name": "stdout",
     "output_type": "stream",
     "text": [
      "RP3betaRecommender: Similarity column 38121 (100.0%), 3401.39 column/sec. Elapsed time 11.21 sec\n",
      "EvaluatorHoldout: Processed 35209 (100.0%) in 8.72 sec. Users per second: 4038\n"
     ]
    },
    {
     "name": "stderr",
     "output_type": "stream",
     "text": [
      "[I 2025-01-07 01:21:18,000] Trial 260 finished with value: 0.0429233991399189 and parameters: {'topK': 11, 'alpha': 0.2851029400574526, 'beta': 0.246624394096912, 'normalize_similarity': True, 'implicit': True}. Best is trial 248 with value: 0.04292797499015894.\n"
     ]
    },
    {
     "name": "stdout",
     "output_type": "stream",
     "text": [
      "RP3betaRecommender: Similarity column 38121 (100.0%), 3288.49 column/sec. Elapsed time 11.59 sec\n",
      "EvaluatorHoldout: Processed 35209 (100.0%) in 8.83 sec. Users per second: 3986\n"
     ]
    },
    {
     "name": "stderr",
     "output_type": "stream",
     "text": [
      "[I 2025-01-07 01:21:38,797] Trial 261 finished with value: 0.042889463462397505 and parameters: {'topK': 12, 'alpha': 0.282830003121858, 'beta': 0.2473679663464161, 'normalize_similarity': True, 'implicit': True}. Best is trial 248 with value: 0.04292797499015894.\n"
     ]
    },
    {
     "name": "stdout",
     "output_type": "stream",
     "text": [
      "RP3betaRecommender: Similarity column 38121 (100.0%), 3874.25 column/sec. Elapsed time 9.84 sec\n",
      "EvaluatorHoldout: Processed 35209 (100.0%) in 8.85 sec. Users per second: 3977\n"
     ]
    },
    {
     "name": "stderr",
     "output_type": "stream",
     "text": [
      "[I 2025-01-07 01:21:57,889] Trial 262 finished with value: 0.0351432274936908 and parameters: {'topK': 14, 'alpha': 0.31767538879805296, 'beta': 0.2530637818843354, 'normalize_similarity': False, 'implicit': True}. Best is trial 248 with value: 0.04292797499015894.\n"
     ]
    },
    {
     "name": "stdout",
     "output_type": "stream",
     "text": [
      "RP3betaRecommender: Similarity column 38121 (100.0%), 3518.36 column/sec. Elapsed time 10.83 sec\n",
      "EvaluatorHoldout: Processed 35209 (100.0%) in 8.85 sec. Users per second: 3977\n"
     ]
    },
    {
     "name": "stderr",
     "output_type": "stream",
     "text": [
      "[I 2025-01-07 01:22:17,951] Trial 263 finished with value: 0.042896657465373834 and parameters: {'topK': 12, 'alpha': 0.28594962392981166, 'beta': 0.24324865216247393, 'normalize_similarity': True, 'implicit': True}. Best is trial 248 with value: 0.04292797499015894.\n"
     ]
    },
    {
     "name": "stdout",
     "output_type": "stream",
     "text": [
      "RP3betaRecommender: Similarity column 38121 (100.0%), 3812.76 column/sec. Elapsed time 10.00 sec\n",
      "EvaluatorHoldout: Processed 35209 (100.0%) in 8.74 sec. Users per second: 4027\n"
     ]
    },
    {
     "name": "stderr",
     "output_type": "stream",
     "text": [
      "[I 2025-01-07 01:22:37,051] Trial 264 finished with value: 0.042740891465789556 and parameters: {'topK': 10, 'alpha': 0.276467952000496, 'beta': 0.24922051518967078, 'normalize_similarity': True, 'implicit': True}. Best is trial 248 with value: 0.04292797499015894.\n"
     ]
    },
    {
     "name": "stdout",
     "output_type": "stream",
     "text": [
      "RP3betaRecommender: Similarity column 38121 (100.0%), 1589.67 column/sec. Elapsed time 23.98 sec\n",
      "EvaluatorHoldout: Processed 35209 (100.0%) in 8.65 sec. Users per second: 4070\n"
     ]
    },
    {
     "name": "stderr",
     "output_type": "stream",
     "text": [
      "[I 2025-01-07 01:23:09,947] Trial 265 finished with value: 0.03539690090962376 and parameters: {'topK': 3, 'alpha': 0.2998548958744032, 'beta': 0.24491045487653698, 'normalize_similarity': True, 'implicit': True}. Best is trial 248 with value: 0.04292797499015894.\n"
     ]
    },
    {
     "name": "stdout",
     "output_type": "stream",
     "text": [
      "RP3betaRecommender: Similarity column 38121 (100.0%), 3330.38 column/sec. Elapsed time 11.45 sec\n",
      "EvaluatorHoldout: Processed 35209 (100.0%) in 8.72 sec. Users per second: 4036\n"
     ]
    },
    {
     "name": "stderr",
     "output_type": "stream",
     "text": [
      "[I 2025-01-07 01:23:30,473] Trial 266 finished with value: 0.04291132498139059 and parameters: {'topK': 11, 'alpha': 0.3069882714075949, 'beta': 0.2475796460204023, 'normalize_similarity': True, 'implicit': True}. Best is trial 248 with value: 0.04292797499015894.\n"
     ]
    },
    {
     "name": "stdout",
     "output_type": "stream",
     "text": [
      "RP3betaRecommender: Similarity column 38121 (100.0%), 3735.18 column/sec. Elapsed time 10.21 sec\n",
      "EvaluatorHoldout: Processed 35209 (100.0%) in 8.68 sec. Users per second: 4056\n"
     ]
    },
    {
     "name": "stderr",
     "output_type": "stream",
     "text": [
      "[I 2025-01-07 01:23:49,698] Trial 267 finished with value: 0.042396400947266835 and parameters: {'topK': 8, 'alpha': 0.31075307961201265, 'beta': 0.25730831970358403, 'normalize_similarity': True, 'implicit': True}. Best is trial 248 with value: 0.04292797499015894.\n"
     ]
    },
    {
     "name": "stdout",
     "output_type": "stream",
     "text": [
      "RP3betaRecommender: Similarity column 38121 (100.0%), 3336.58 column/sec. Elapsed time 11.43 sec\n",
      "EvaluatorHoldout: Processed 35209 (100.0%) in 9.19 sec. Users per second: 3829\n"
     ]
    },
    {
     "name": "stderr",
     "output_type": "stream",
     "text": [
      "[I 2025-01-07 01:24:10,808] Trial 268 finished with value: 0.042365511704031515 and parameters: {'topK': 22, 'alpha': 0.3059210199316425, 'beta': 0.2508074651313614, 'normalize_similarity': True, 'implicit': False}. Best is trial 248 with value: 0.04292797499015894.\n"
     ]
    },
    {
     "name": "stdout",
     "output_type": "stream",
     "text": [
      "RP3betaRecommender: Similarity column 38121 (100.0%), 3216.31 column/sec. Elapsed time 11.85 sec\n",
      "EvaluatorHoldout: Processed 35209 (100.0%) in 8.86 sec. Users per second: 3972\n"
     ]
    },
    {
     "name": "stderr",
     "output_type": "stream",
     "text": [
      "[I 2025-01-07 01:24:31,900] Trial 269 finished with value: 0.04280712295331957 and parameters: {'topK': 13, 'alpha': 0.31660464010779604, 'beta': 0.24685076826331098, 'normalize_similarity': True, 'implicit': True}. Best is trial 248 with value: 0.04292797499015894.\n"
     ]
    },
    {
     "name": "stdout",
     "output_type": "stream",
     "text": [
      "RP3betaRecommender: Similarity column 38121 (100.0%), 4122.87 column/sec. Elapsed time 9.25 sec\n",
      "EvaluatorHoldout: Processed 35209 (100.0%) in 8.73 sec. Users per second: 4033\n"
     ]
    },
    {
     "name": "stderr",
     "output_type": "stream",
     "text": [
      "[I 2025-01-07 01:24:50,221] Trial 270 finished with value: 0.04267943419048069 and parameters: {'topK': 9, 'alpha': 0.3001666973514944, 'beta': 0.2538821931843116, 'normalize_similarity': True, 'implicit': True}. Best is trial 248 with value: 0.04292797499015894.\n"
     ]
    },
    {
     "name": "stdout",
     "output_type": "stream",
     "text": [
      "RP3betaRecommender: Similarity column 38121 (100.0%), 3703.78 column/sec. Elapsed time 10.29 sec\n",
      "EvaluatorHoldout: Processed 35209 (100.0%) in 8.73 sec. Users per second: 4035\n"
     ]
    },
    {
     "name": "stderr",
     "output_type": "stream",
     "text": [
      "[I 2025-01-07 01:25:09,602] Trial 271 finished with value: 0.042729495795400536 and parameters: {'topK': 10, 'alpha': 0.32634750677474605, 'beta': 0.2409073152645788, 'normalize_similarity': True, 'implicit': True}. Best is trial 248 with value: 0.04292797499015894.\n"
     ]
    },
    {
     "name": "stdout",
     "output_type": "stream",
     "text": [
      "RP3betaRecommender: Similarity column 38121 (100.0%), 3817.68 column/sec. Elapsed time 9.99 sec\n",
      "EvaluatorHoldout: Processed 35209 (100.0%) in 8.85 sec. Users per second: 3977\n"
     ]
    },
    {
     "name": "stderr",
     "output_type": "stream",
     "text": [
      "[I 2025-01-07 01:25:28,794] Trial 272 finished with value: 0.042924184698445236 and parameters: {'topK': 11, 'alpha': 0.30802326887658177, 'beta': 0.247118735092435, 'normalize_similarity': True, 'implicit': True}. Best is trial 248 with value: 0.04292797499015894.\n"
     ]
    },
    {
     "name": "stdout",
     "output_type": "stream",
     "text": [
      "RP3betaRecommender: Similarity column 38121 (100.0%), 4192.12 column/sec. Elapsed time 9.09 sec\n",
      "EvaluatorHoldout: Processed 35209 (100.0%) in 8.93 sec. Users per second: 3943\n"
     ]
    },
    {
     "name": "stderr",
     "output_type": "stream",
     "text": [
      "[I 2025-01-07 01:25:47,184] Trial 273 finished with value: 0.04284478693443537 and parameters: {'topK': 12, 'alpha': 0.308789567171781, 'beta': 0.2498655088695544, 'normalize_similarity': True, 'implicit': True}. Best is trial 248 with value: 0.04292797499015894.\n"
     ]
    },
    {
     "name": "stdout",
     "output_type": "stream",
     "text": [
      "RP3betaRecommender: Similarity column 38121 (100.0%), 3599.58 column/sec. Elapsed time 10.59 sec\n",
      "EvaluatorHoldout: Processed 35209 (100.0%) in 8.80 sec. Users per second: 3999\n"
     ]
    },
    {
     "name": "stderr",
     "output_type": "stream",
     "text": [
      "[I 2025-01-07 01:26:06,948] Trial 274 finished with value: 0.042898067413317524 and parameters: {'topK': 11, 'alpha': 0.3052022946730686, 'beta': 0.2465849617471404, 'normalize_similarity': True, 'implicit': True}. Best is trial 248 with value: 0.04292797499015894.\n"
     ]
    },
    {
     "name": "stdout",
     "output_type": "stream",
     "text": [
      "RP3betaRecommender: Similarity column 38121 (100.0%), 3553.64 column/sec. Elapsed time 10.73 sec\n",
      "EvaluatorHoldout: Processed 35209 (100.0%) in 8.75 sec. Users per second: 4024\n"
     ]
    },
    {
     "name": "stderr",
     "output_type": "stream",
     "text": [
      "[I 2025-01-07 01:26:26,810] Trial 275 finished with value: 0.042864300794302604 and parameters: {'topK': 12, 'alpha': 0.32167949361113707, 'beta': 0.2551999734506853, 'normalize_similarity': True, 'implicit': True}. Best is trial 248 with value: 0.04292797499015894.\n"
     ]
    },
    {
     "name": "stdout",
     "output_type": "stream",
     "text": [
      "RP3betaRecommender: Similarity column 38121 (100.0%), 3691.45 column/sec. Elapsed time 10.33 sec\n",
      "EvaluatorHoldout: Processed 35209 (100.0%) in 8.78 sec. Users per second: 4008\n"
     ]
    },
    {
     "name": "stderr",
     "output_type": "stream",
     "text": [
      "[I 2025-01-07 01:26:46,285] Trial 276 finished with value: 0.04269601882996012 and parameters: {'topK': 10, 'alpha': 0.3041982067659737, 'beta': 0.2515553773273411, 'normalize_similarity': True, 'implicit': True}. Best is trial 248 with value: 0.04292797499015894.\n"
     ]
    },
    {
     "name": "stdout",
     "output_type": "stream",
     "text": [
      "RP3betaRecommender: Similarity column 38121 (100.0%), 3570.18 column/sec. Elapsed time 10.68 sec\n",
      "EvaluatorHoldout: Processed 35209 (100.0%) in 8.91 sec. Users per second: 3952\n"
     ]
    },
    {
     "name": "stderr",
     "output_type": "stream",
     "text": [
      "[I 2025-01-07 01:27:06,274] Trial 277 finished with value: 0.04279110973159186 and parameters: {'topK': 13, 'alpha': 0.3139768351901552, 'beta': 0.24589267434966833, 'normalize_similarity': True, 'implicit': True}. Best is trial 248 with value: 0.04292797499015894.\n"
     ]
    },
    {
     "name": "stdout",
     "output_type": "stream",
     "text": [
      "RP3betaRecommender: Similarity column 38121 (100.0%), 3895.05 column/sec. Elapsed time 9.79 sec\n",
      "EvaluatorHoldout: Processed 35209 (100.0%) in 8.76 sec. Users per second: 4018\n"
     ]
    },
    {
     "name": "stderr",
     "output_type": "stream",
     "text": [
      "[I 2025-01-07 01:27:25,198] Trial 278 finished with value: 0.042814199742398286 and parameters: {'topK': 11, 'alpha': 0.28837623373519405, 'beta': 0.2590764298996989, 'normalize_similarity': True, 'implicit': True}. Best is trial 248 with value: 0.04292797499015894.\n"
     ]
    },
    {
     "name": "stdout",
     "output_type": "stream",
     "text": [
      "RP3betaRecommender: Similarity column 38121 (100.0%), 3664.18 column/sec. Elapsed time 10.40 sec\n",
      "EvaluatorHoldout: Processed 35209 (100.0%) in 8.80 sec. Users per second: 4001\n"
     ]
    },
    {
     "name": "stderr",
     "output_type": "stream",
     "text": [
      "[I 2025-01-07 01:27:44,743] Trial 279 finished with value: 0.04264698622781615 and parameters: {'topK': 9, 'alpha': 0.31154101930119016, 'beta': 0.2412024567727277, 'normalize_similarity': True, 'implicit': True}. Best is trial 248 with value: 0.04292797499015894.\n"
     ]
    },
    {
     "name": "stdout",
     "output_type": "stream",
     "text": [
      "RP3betaRecommender: Similarity column 38121 (100.0%), 3462.14 column/sec. Elapsed time 11.01 sec\n",
      "EvaluatorHoldout: Processed 35209 (100.0%) in 8.89 sec. Users per second: 3960\n"
     ]
    },
    {
     "name": "stderr",
     "output_type": "stream",
     "text": [
      "[I 2025-01-07 01:28:05,004] Trial 280 finished with value: 0.035150697625561125 and parameters: {'topK': 11, 'alpha': 0.29724343833635175, 'beta': 0.24808787827613465, 'normalize_similarity': False, 'implicit': True}. Best is trial 248 with value: 0.04292797499015894.\n"
     ]
    },
    {
     "name": "stdout",
     "output_type": "stream",
     "text": [
      "RP3betaRecommender: Similarity column 38121 (100.0%), 3739.07 column/sec. Elapsed time 10.20 sec\n",
      "EvaluatorHoldout: Processed 35209 (100.0%) in 8.87 sec. Users per second: 3971\n"
     ]
    },
    {
     "name": "stderr",
     "output_type": "stream",
     "text": [
      "[I 2025-01-07 01:28:24,446] Trial 281 finished with value: 0.042888658743906946 and parameters: {'topK': 12, 'alpha': 0.2794657323374976, 'beta': 0.24310657635160102, 'normalize_similarity': True, 'implicit': True}. Best is trial 248 with value: 0.04292797499015894.\n"
     ]
    },
    {
     "name": "stdout",
     "output_type": "stream",
     "text": [
      "RP3betaRecommender: Similarity column 38121 (100.0%), 3835.52 column/sec. Elapsed time 9.94 sec\n",
      "EvaluatorHoldout: Processed 35209 (100.0%) in 8.79 sec. Users per second: 4007\n"
     ]
    },
    {
     "name": "stderr",
     "output_type": "stream",
     "text": [
      "[I 2025-01-07 01:28:43,521] Trial 282 finished with value: 0.04268631825286195 and parameters: {'topK': 10, 'alpha': 0.300235639053395, 'beta': 0.25309750932435343, 'normalize_similarity': True, 'implicit': True}. Best is trial 248 with value: 0.04292797499015894.\n"
     ]
    },
    {
     "name": "stdout",
     "output_type": "stream",
     "text": [
      "RP3betaRecommender: Similarity column 38121 (100.0%), 4264.75 column/sec. Elapsed time 8.94 sec\n",
      "EvaluatorHoldout: Processed 35209 (100.0%) in 8.92 sec. Users per second: 3947\n"
     ]
    },
    {
     "name": "stderr",
     "output_type": "stream",
     "text": [
      "[I 2025-01-07 01:29:01,767] Trial 283 finished with value: 0.04280289761771587 and parameters: {'topK': 14, 'alpha': 0.285610343788797, 'beta': 0.23878706168846564, 'normalize_similarity': True, 'implicit': True}. Best is trial 248 with value: 0.04292797499015894.\n"
     ]
    },
    {
     "name": "stdout",
     "output_type": "stream",
     "text": [
      "RP3betaRecommender: Similarity column 38121 (100.0%), 3337.31 column/sec. Elapsed time 11.42 sec\n",
      "EvaluatorHoldout: Processed 35209 (100.0%) in 8.88 sec. Users per second: 3966\n"
     ]
    },
    {
     "name": "stderr",
     "output_type": "stream",
     "text": [
      "[I 2025-01-07 01:29:22,439] Trial 284 finished with value: 0.04289731228532221 and parameters: {'topK': 11, 'alpha': 0.307069538355376, 'beta': 0.2457661838103976, 'normalize_similarity': True, 'implicit': True}. Best is trial 248 with value: 0.04292797499015894.\n"
     ]
    },
    {
     "name": "stdout",
     "output_type": "stream",
     "text": [
      "RP3betaRecommender: Similarity column 38121 (100.0%), 4139.78 column/sec. Elapsed time 9.21 sec\n",
      "EvaluatorHoldout: Processed 35209 (100.0%) in 8.84 sec. Users per second: 3981\n"
     ]
    },
    {
     "name": "stderr",
     "output_type": "stream",
     "text": [
      "[I 2025-01-07 01:29:40,869] Trial 285 finished with value: 0.04278404421308055 and parameters: {'topK': 13, 'alpha': 0.29518716352942925, 'beta': 0.25003608934416455, 'normalize_similarity': True, 'implicit': True}. Best is trial 248 with value: 0.04292797499015894.\n"
     ]
    },
    {
     "name": "stdout",
     "output_type": "stream",
     "text": [
      "RP3betaRecommender: Similarity column 38121 (100.0%), 3540.45 column/sec. Elapsed time 10.77 sec\n",
      "EvaluatorHoldout: Processed 35209 (100.0%) in 8.79 sec. Users per second: 4005\n"
     ]
    },
    {
     "name": "stderr",
     "output_type": "stream",
     "text": [
      "[I 2025-01-07 01:30:00,796] Trial 286 finished with value: 0.04285689828583509 and parameters: {'topK': 12, 'alpha': 0.2919822054629012, 'beta': 0.2617985648189505, 'normalize_similarity': True, 'implicit': True}. Best is trial 248 with value: 0.04292797499015894.\n"
     ]
    },
    {
     "name": "stdout",
     "output_type": "stream",
     "text": [
      "RP3betaRecommender: Similarity column 38121 (100.0%), 3364.18 column/sec. Elapsed time 11.33 sec\n",
      "EvaluatorHoldout: Processed 35209 (100.0%) in 8.78 sec. Users per second: 4009\n"
     ]
    },
    {
     "name": "stderr",
     "output_type": "stream",
     "text": [
      "[I 2025-01-07 01:30:21,278] Trial 287 finished with value: 0.0429165128234242 and parameters: {'topK': 11, 'alpha': 0.3026126576309308, 'beta': 0.2401894833464962, 'normalize_similarity': True, 'implicit': True}. Best is trial 248 with value: 0.04292797499015894.\n"
     ]
    },
    {
     "name": "stdout",
     "output_type": "stream",
     "text": [
      "RP3betaRecommender: Similarity column 38121 (100.0%), 3600.54 column/sec. Elapsed time 10.59 sec\n",
      "EvaluatorHoldout: Processed 35209 (100.0%) in 8.78 sec. Users per second: 4008\n"
     ]
    },
    {
     "name": "stderr",
     "output_type": "stream",
     "text": [
      "[I 2025-01-07 01:30:41,011] Trial 288 finished with value: 0.04275134266265626 and parameters: {'topK': 10, 'alpha': 0.3158974794540034, 'beta': 0.23929476456173074, 'normalize_similarity': True, 'implicit': False}. Best is trial 248 with value: 0.04292797499015894.\n"
     ]
    },
    {
     "name": "stdout",
     "output_type": "stream",
     "text": [
      "RP3betaRecommender: Similarity column 38121 (100.0%), 3709.87 column/sec. Elapsed time 10.28 sec\n",
      "EvaluatorHoldout: Processed 35209 (100.0%) in 8.95 sec. Users per second: 3933\n"
     ]
    },
    {
     "name": "stderr",
     "output_type": "stream",
     "text": [
      "[I 2025-01-07 01:31:00,600] Trial 289 finished with value: 0.04281975951314576 and parameters: {'topK': 12, 'alpha': 0.30958910485327124, 'beta': 0.2316116509872001, 'normalize_similarity': True, 'implicit': True}. Best is trial 248 with value: 0.04292797499015894.\n"
     ]
    },
    {
     "name": "stdout",
     "output_type": "stream",
     "text": [
      "RP3betaRecommender: Similarity column 38121 (100.0%), 3305.15 column/sec. Elapsed time 11.53 sec\n",
      "EvaluatorHoldout: Processed 35209 (100.0%) in 8.84 sec. Users per second: 3983\n"
     ]
    },
    {
     "name": "stderr",
     "output_type": "stream",
     "text": [
      "[I 2025-01-07 01:31:21,319] Trial 290 finished with value: 0.04265179087056836 and parameters: {'topK': 9, 'alpha': 0.30124009828661347, 'beta': 0.24643846526489663, 'normalize_similarity': True, 'implicit': True}. Best is trial 248 with value: 0.04292797499015894.\n"
     ]
    },
    {
     "name": "stdout",
     "output_type": "stream",
     "text": [
      "RP3betaRecommender: Similarity column 38121 (100.0%), 3973.36 column/sec. Elapsed time 9.59 sec\n",
      "EvaluatorHoldout: Processed 35209 (100.0%) in 8.74 sec. Users per second: 4031\n"
     ]
    },
    {
     "name": "stderr",
     "output_type": "stream",
     "text": [
      "[I 2025-01-07 01:31:40,008] Trial 291 finished with value: 0.04265490943648343 and parameters: {'topK': 10, 'alpha': 0.30467863544548335, 'beta': 0.2565614424136555, 'normalize_similarity': True, 'implicit': True}. Best is trial 248 with value: 0.04292797499015894.\n"
     ]
    },
    {
     "name": "stdout",
     "output_type": "stream",
     "text": [
      "RP3betaRecommender: Similarity column 38121 (100.0%), 3424.76 column/sec. Elapsed time 11.13 sec\n",
      "EvaluatorHoldout: Processed 35209 (100.0%) in 8.77 sec. Users per second: 4017\n"
     ]
    },
    {
     "name": "stderr",
     "output_type": "stream",
     "text": [
      "[I 2025-01-07 01:32:00,272] Trial 292 finished with value: 0.04290245842625751 and parameters: {'topK': 11, 'alpha': 0.282387265911433, 'beta': 0.23937857193616258, 'normalize_similarity': True, 'implicit': True}. Best is trial 248 with value: 0.04292797499015894.\n"
     ]
    },
    {
     "name": "stdout",
     "output_type": "stream",
     "text": [
      "RP3betaRecommender: Similarity column 38121 (100.0%), 3720.72 column/sec. Elapsed time 10.25 sec\n",
      "EvaluatorHoldout: Processed 35209 (100.0%) in 8.87 sec. Users per second: 3970\n"
     ]
    },
    {
     "name": "stderr",
     "output_type": "stream",
     "text": [
      "[I 2025-01-07 01:32:19,766] Trial 293 finished with value: 0.04279935302436484 and parameters: {'topK': 13, 'alpha': 0.2919168094058991, 'beta': 0.25034606605112225, 'normalize_similarity': True, 'implicit': True}. Best is trial 248 with value: 0.04292797499015894.\n"
     ]
    },
    {
     "name": "stdout",
     "output_type": "stream",
     "text": [
      "RP3betaRecommender: Similarity column 38121 (100.0%), 3435.24 column/sec. Elapsed time 11.10 sec\n",
      "EvaluatorHoldout: Processed 35209 (100.0%) in 8.80 sec. Users per second: 4002\n"
     ]
    },
    {
     "name": "stderr",
     "output_type": "stream",
     "text": [
      "[I 2025-01-07 01:32:40,024] Trial 294 finished with value: 0.04286166686277262 and parameters: {'topK': 12, 'alpha': 0.3193458889066763, 'beta': 0.2439451643299308, 'normalize_similarity': True, 'implicit': True}. Best is trial 248 with value: 0.04292797499015894.\n"
     ]
    },
    {
     "name": "stdout",
     "output_type": "stream",
     "text": [
      "RP3betaRecommender: Similarity column 38121 (100.0%), 3817.60 column/sec. Elapsed time 9.99 sec\n",
      "EvaluatorHoldout: Processed 35209 (100.0%) in 8.83 sec. Users per second: 3985\n"
     ]
    },
    {
     "name": "stderr",
     "output_type": "stream",
     "text": [
      "[I 2025-01-07 01:32:59,207] Trial 295 finished with value: 0.04290419747476016 and parameters: {'topK': 11, 'alpha': 0.30341633563096143, 'beta': 0.2369288415095359, 'normalize_similarity': True, 'implicit': True}. Best is trial 248 with value: 0.04292797499015894.\n"
     ]
    },
    {
     "name": "stdout",
     "output_type": "stream",
     "text": [
      "RP3betaRecommender: Similarity column 38121 (100.0%), 3286.00 column/sec. Elapsed time 11.60 sec\n",
      "EvaluatorHoldout: Processed 35209 (100.0%) in 8.79 sec. Users per second: 4006\n"
     ]
    },
    {
     "name": "stderr",
     "output_type": "stream",
     "text": [
      "[I 2025-01-07 01:33:19,952] Trial 296 finished with value: 0.04271791979593785 and parameters: {'topK': 10, 'alpha': 0.2887190809254974, 'beta': 0.2538908703173788, 'normalize_similarity': True, 'implicit': True}. Best is trial 248 with value: 0.04292797499015894.\n"
     ]
    },
    {
     "name": "stdout",
     "output_type": "stream",
     "text": [
      "RP3betaRecommender: Similarity column 38121 (100.0%), 3875.22 column/sec. Elapsed time 9.84 sec\n",
      "EvaluatorHoldout: Processed 35209 (100.0%) in 8.68 sec. Users per second: 4058\n"
     ]
    },
    {
     "name": "stderr",
     "output_type": "stream",
     "text": [
      "[I 2025-01-07 01:33:38,797] Trial 297 finished with value: 0.04247255391500993 and parameters: {'topK': 8, 'alpha': 0.2727923374752889, 'beta': 0.24139934991025833, 'normalize_similarity': True, 'implicit': True}. Best is trial 248 with value: 0.04292797499015894.\n"
     ]
    },
    {
     "name": "stdout",
     "output_type": "stream",
     "text": [
      "RP3betaRecommender: Similarity column 38121 (100.0%), 3862.32 column/sec. Elapsed time 9.87 sec\n",
      "EvaluatorHoldout: Processed 35209 (100.0%) in 8.79 sec. Users per second: 4004\n"
     ]
    },
    {
     "name": "stderr",
     "output_type": "stream",
     "text": [
      "[I 2025-01-07 01:33:57,841] Trial 298 finished with value: 0.042772476103014836 and parameters: {'topK': 13, 'alpha': 0.31096039735974257, 'beta': 0.2468126325413537, 'normalize_similarity': True, 'implicit': True}. Best is trial 248 with value: 0.04292797499015894.\n"
     ]
    },
    {
     "name": "stdout",
     "output_type": "stream",
     "text": [
      "RP3betaRecommender: Similarity column 38121 (100.0%), 3685.33 column/sec. Elapsed time 10.34 sec\n",
      "EvaluatorHoldout: Processed 35209 (100.0%) in 8.76 sec. Users per second: 4019\n"
     ]
    },
    {
     "name": "stderr",
     "output_type": "stream",
     "text": [
      "[I 2025-01-07 01:34:17,318] Trial 299 finished with value: 0.04291709100351614 and parameters: {'topK': 11, 'alpha': 0.2953525607911439, 'beta': 0.24997505926270477, 'normalize_similarity': True, 'implicit': True}. Best is trial 248 with value: 0.04292797499015894.\n"
     ]
    },
    {
     "name": "stdout",
     "output_type": "stream",
     "text": [
      "RP3betaRecommender: Similarity column 38121 (100.0%), 3441.99 column/sec. Elapsed time 11.08 sec\n",
      "EvaluatorHoldout: Processed 35209 (100.0%) in 8.90 sec. Users per second: 3956\n"
     ]
    },
    {
     "name": "stderr",
     "output_type": "stream",
     "text": [
      "[I 2025-01-07 01:34:37,680] Trial 300 finished with value: 0.03501799458742192 and parameters: {'topK': 12, 'alpha': 0.29599302164024355, 'beta': 0.25259000221179834, 'normalize_similarity': False, 'implicit': True}. Best is trial 248 with value: 0.04292797499015894.\n"
     ]
    },
    {
     "name": "stdout",
     "output_type": "stream",
     "text": [
      "RP3betaRecommender: Similarity column 38121 (100.0%), 3312.05 column/sec. Elapsed time 11.51 sec\n",
      "EvaluatorHoldout: Processed 35209 (100.0%) in 8.83 sec. Users per second: 3987\n"
     ]
    },
    {
     "name": "stderr",
     "output_type": "stream",
     "text": [
      "[I 2025-01-07 01:34:58,392] Trial 301 finished with value: 0.04291200572364321 and parameters: {'topK': 11, 'alpha': 0.2836934959959693, 'beta': 0.2430507177306875, 'normalize_similarity': True, 'implicit': True}. Best is trial 248 with value: 0.04292797499015894.\n"
     ]
    },
    {
     "name": "stdout",
     "output_type": "stream",
     "text": [
      "RP3betaRecommender: Similarity column 38121 (100.0%), 3100.82 column/sec. Elapsed time 12.29 sec\n",
      "EvaluatorHoldout: Processed 35209 (100.0%) in 8.82 sec. Users per second: 3992\n"
     ]
    },
    {
     "name": "stderr",
     "output_type": "stream",
     "text": [
      "[I 2025-01-07 01:35:19,834] Trial 302 finished with value: 0.04260557365608455 and parameters: {'topK': 9, 'alpha': 0.28480502802803664, 'beta': 0.2342085632378768, 'normalize_similarity': True, 'implicit': True}. Best is trial 248 with value: 0.04292797499015894.\n"
     ]
    },
    {
     "name": "stdout",
     "output_type": "stream",
     "text": [
      "RP3betaRecommender: Similarity column 38121 (100.0%), 4285.23 column/sec. Elapsed time 8.90 sec\n",
      "EvaluatorHoldout: Processed 35209 (100.0%) in 8.88 sec. Users per second: 3967\n"
     ]
    },
    {
     "name": "stderr",
     "output_type": "stream",
     "text": [
      "[I 2025-01-07 01:35:37,977] Trial 303 finished with value: 0.04286359863797291 and parameters: {'topK': 11, 'alpha': 0.27445692813432654, 'beta': 0.24926563797614026, 'normalize_similarity': True, 'implicit': True}. Best is trial 248 with value: 0.04292797499015894.\n"
     ]
    },
    {
     "name": "stdout",
     "output_type": "stream",
     "text": [
      "RP3betaRecommender: Similarity column 38121 (100.0%), 3332.33 column/sec. Elapsed time 11.44 sec\n",
      "EvaluatorHoldout: Processed 35209 (100.0%) in 8.78 sec. Users per second: 4009\n"
     ]
    },
    {
     "name": "stderr",
     "output_type": "stream",
     "text": [
      "[I 2025-01-07 01:35:58,554] Trial 304 finished with value: 0.0427055424591547 and parameters: {'topK': 10, 'alpha': 0.2811273763739212, 'beta': 0.24411052684417905, 'normalize_similarity': True, 'implicit': True}. Best is trial 248 with value: 0.04292797499015894.\n"
     ]
    },
    {
     "name": "stdout",
     "output_type": "stream",
     "text": [
      "RP3betaRecommender: Similarity column 38121 (100.0%), 3843.82 column/sec. Elapsed time 9.92 sec\n",
      "EvaluatorHoldout: Processed 35209 (100.0%) in 8.80 sec. Users per second: 4003\n"
     ]
    },
    {
     "name": "stderr",
     "output_type": "stream",
     "text": [
      "[I 2025-01-07 01:36:17,630] Trial 305 finished with value: 0.04282930342936139 and parameters: {'topK': 11, 'alpha': 0.29034520951897924, 'beta': 0.256432014693851, 'normalize_similarity': True, 'implicit': True}. Best is trial 248 with value: 0.04292797499015894.\n"
     ]
    },
    {
     "name": "stdout",
     "output_type": "stream",
     "text": [
      "RP3betaRecommender: Similarity column 38121 (100.0%), 3940.67 column/sec. Elapsed time 9.67 sec\n",
      "EvaluatorHoldout: Processed 35209 (100.0%) in 8.74 sec. Users per second: 4027\n"
     ]
    },
    {
     "name": "stderr",
     "output_type": "stream",
     "text": [
      "[I 2025-01-07 01:36:36,417] Trial 306 finished with value: 0.042907119932807734 and parameters: {'topK': 11, 'alpha': 0.2874754434173056, 'beta': 0.2389331268587971, 'normalize_similarity': True, 'implicit': True}. Best is trial 248 with value: 0.04292797499015894.\n"
     ]
    },
    {
     "name": "stdout",
     "output_type": "stream",
     "text": [
      "RP3betaRecommender: Similarity column 38121 (100.0%), 3347.03 column/sec. Elapsed time 11.39 sec\n",
      "EvaluatorHoldout: Processed 35209 (100.0%) in 8.97 sec. Users per second: 3927\n"
     ]
    },
    {
     "name": "stderr",
     "output_type": "stream",
     "text": [
      "[I 2025-01-07 01:36:57,129] Trial 307 finished with value: 0.04271931621920074 and parameters: {'topK': 10, 'alpha': 0.2789056208510131, 'beta': 0.24484230326750905, 'normalize_similarity': True, 'implicit': True}. Best is trial 248 with value: 0.04292797499015894.\n"
     ]
    },
    {
     "name": "stdout",
     "output_type": "stream",
     "text": [
      "RP3betaRecommender: Similarity column 38121 (100.0%), 3378.88 column/sec. Elapsed time 11.28 sec\n",
      "EvaluatorHoldout: Processed 35209 (100.0%) in 8.80 sec. Users per second: 4001\n"
     ]
    },
    {
     "name": "stderr",
     "output_type": "stream",
     "text": [
      "[I 2025-01-07 01:37:17,574] Trial 308 finished with value: 0.042877591047020325 and parameters: {'topK': 12, 'alpha': 0.29562687130845017, 'beta': 0.22984932529686933, 'normalize_similarity': True, 'implicit': False}. Best is trial 248 with value: 0.04292797499015894.\n"
     ]
    },
    {
     "name": "stdout",
     "output_type": "stream",
     "text": [
      "RP3betaRecommender: Similarity column 38121 (100.0%), 3497.34 column/sec. Elapsed time 10.90 sec\n",
      "EvaluatorHoldout: Processed 35209 (100.0%) in 8.85 sec. Users per second: 3977\n"
     ]
    },
    {
     "name": "stderr",
     "output_type": "stream",
     "text": [
      "[I 2025-01-07 01:37:37,706] Trial 309 finished with value: 0.04264259634193286 and parameters: {'topK': 9, 'alpha': 0.3010551508229347, 'beta': 0.26632471146315134, 'normalize_similarity': True, 'implicit': True}. Best is trial 248 with value: 0.04292797499015894.\n"
     ]
    },
    {
     "name": "stdout",
     "output_type": "stream",
     "text": [
      "RP3betaRecommender: Similarity column 38121 (100.0%), 3667.41 column/sec. Elapsed time 10.39 sec\n",
      "EvaluatorHoldout: Processed 35209 (100.0%) in 8.77 sec. Users per second: 4013\n"
     ]
    },
    {
     "name": "stderr",
     "output_type": "stream",
     "text": [
      "[I 2025-01-07 01:37:57,247] Trial 310 finished with value: 0.042910884302217296 and parameters: {'topK': 11, 'alpha': 0.2854328096322627, 'beta': 0.2503802028350707, 'normalize_similarity': True, 'implicit': True}. Best is trial 248 with value: 0.04292797499015894.\n"
     ]
    },
    {
     "name": "stdout",
     "output_type": "stream",
     "text": [
      "RP3betaRecommender: Similarity column 38121 (100.0%), 3528.68 column/sec. Elapsed time 10.80 sec\n",
      "EvaluatorHoldout: Processed 35209 (100.0%) in 8.79 sec. Users per second: 4005\n"
     ]
    },
    {
     "name": "stderr",
     "output_type": "stream",
     "text": [
      "[I 2025-01-07 01:38:17,216] Trial 311 finished with value: 0.04272827293887068 and parameters: {'topK': 10, 'alpha': 0.2759230190197079, 'beta': 0.25220521044998856, 'normalize_similarity': True, 'implicit': True}. Best is trial 248 with value: 0.04292797499015894.\n"
     ]
    },
    {
     "name": "stdout",
     "output_type": "stream",
     "text": [
      "RP3betaRecommender: Similarity column 38121 (100.0%), 3963.61 column/sec. Elapsed time 9.62 sec\n",
      "EvaluatorHoldout: Processed 35209 (100.0%) in 8.79 sec. Users per second: 4003\n"
     ]
    },
    {
     "name": "stderr",
     "output_type": "stream",
     "text": [
      "[I 2025-01-07 01:38:36,025] Trial 312 finished with value: 0.04282202827830177 and parameters: {'topK': 14, 'alpha': 0.2851542187214571, 'beta': 0.2589174362029647, 'normalize_similarity': True, 'implicit': True}. Best is trial 248 with value: 0.04292797499015894.\n"
     ]
    },
    {
     "name": "stdout",
     "output_type": "stream",
     "text": [
      "RP3betaRecommender: Similarity column 38121 (100.0%), 3466.12 column/sec. Elapsed time 11.00 sec\n",
      "EvaluatorHoldout: Processed 35209 (100.0%) in 8.77 sec. Users per second: 4015\n"
     ]
    },
    {
     "name": "stderr",
     "output_type": "stream",
     "text": [
      "[I 2025-01-07 01:38:56,160] Trial 313 finished with value: 0.04288847841483344 and parameters: {'topK': 12, 'alpha': 0.2821879222940512, 'beta': 0.24951648185132136, 'normalize_similarity': True, 'implicit': True}. Best is trial 248 with value: 0.04292797499015894.\n"
     ]
    },
    {
     "name": "stdout",
     "output_type": "stream",
     "text": [
      "RP3betaRecommender: Similarity column 38121 (100.0%), 3575.95 column/sec. Elapsed time 10.66 sec\n",
      "EvaluatorHoldout: Processed 35209 (100.0%) in 9.41 sec. Users per second: 3742\n"
     ]
    },
    {
     "name": "stderr",
     "output_type": "stream",
     "text": [
      "[I 2025-01-07 01:39:16,885] Trial 314 finished with value: 0.04131135640373174 and parameters: {'topK': 37, 'alpha': 0.2654188338291155, 'beta': 0.2548475702830288, 'normalize_similarity': True, 'implicit': True}. Best is trial 248 with value: 0.04292797499015894.\n"
     ]
    },
    {
     "name": "stdout",
     "output_type": "stream",
     "text": [
      "RP3betaRecommender: Similarity column 38121 (100.0%), 3455.63 column/sec. Elapsed time 11.03 sec\n",
      "EvaluatorHoldout: Processed 35209 (100.0%) in 8.82 sec. Users per second: 3991\n"
     ]
    },
    {
     "name": "stderr",
     "output_type": "stream",
     "text": [
      "[I 2025-01-07 01:39:37,095] Trial 315 finished with value: 0.04270705271514543 and parameters: {'topK': 10, 'alpha': 0.28928488747792896, 'beta': 0.24781190826534283, 'normalize_similarity': True, 'implicit': True}. Best is trial 248 with value: 0.04292797499015894.\n"
     ]
    },
    {
     "name": "stdout",
     "output_type": "stream",
     "text": [
      "RP3betaRecommender: Similarity column 38121 (100.0%), 3711.19 column/sec. Elapsed time 10.27 sec\n",
      "EvaluatorHoldout: Processed 35209 (100.0%) in 8.79 sec. Users per second: 4007\n"
     ]
    },
    {
     "name": "stderr",
     "output_type": "stream",
     "text": [
      "[I 2025-01-07 01:39:56,544] Trial 316 finished with value: 0.04290493231573474 and parameters: {'topK': 11, 'alpha': 0.29154953525342076, 'beta': 0.24334502927150894, 'normalize_similarity': True, 'implicit': True}. Best is trial 248 with value: 0.04292797499015894.\n"
     ]
    },
    {
     "name": "stdout",
     "output_type": "stream",
     "text": [
      "RP3betaRecommender: Similarity column 38121 (100.0%), 3623.55 column/sec. Elapsed time 10.52 sec\n",
      "EvaluatorHoldout: Processed 35209 (100.0%) in 8.77 sec. Users per second: 4016\n"
     ]
    },
    {
     "name": "stderr",
     "output_type": "stream",
     "text": [
      "[I 2025-01-07 01:40:16,206] Trial 317 finished with value: 0.04283277476402631 and parameters: {'topK': 12, 'alpha': 0.2701980646873397, 'beta': 0.2523200176827882, 'normalize_similarity': True, 'implicit': True}. Best is trial 248 with value: 0.04292797499015894.\n"
     ]
    },
    {
     "name": "stdout",
     "output_type": "stream",
     "text": [
      "RP3betaRecommender: Similarity column 38121 (100.0%), 3888.36 column/sec. Elapsed time 9.80 sec\n",
      "EvaluatorHoldout: Processed 35209 (100.0%) in 8.85 sec. Users per second: 3981\n"
     ]
    },
    {
     "name": "stderr",
     "output_type": "stream",
     "text": [
      "[I 2025-01-07 01:40:35,234] Trial 318 finished with value: 0.04275061458402193 and parameters: {'topK': 13, 'alpha': 0.30354416914123006, 'beta': 0.24757765052821407, 'normalize_similarity': True, 'implicit': True}. Best is trial 248 with value: 0.04292797499015894.\n"
     ]
    },
    {
     "name": "stdout",
     "output_type": "stream",
     "text": [
      "RP3betaRecommender: Similarity column 38121 (100.0%), 3298.56 column/sec. Elapsed time 11.56 sec\n",
      "EvaluatorHoldout: Processed 35209 (100.0%) in 8.88 sec. Users per second: 3967\n"
     ]
    },
    {
     "name": "stderr",
     "output_type": "stream",
     "text": [
      "[I 2025-01-07 01:40:56,040] Trial 319 finished with value: 0.04291372223101172 and parameters: {'topK': 11, 'alpha': 0.281715045021758, 'beta': 0.24171126792355635, 'normalize_similarity': True, 'implicit': True}. Best is trial 248 with value: 0.04292797499015894.\n"
     ]
    },
    {
     "name": "stdout",
     "output_type": "stream",
     "text": [
      "RP3betaRecommender: Similarity column 38121 (100.0%), 4036.96 column/sec. Elapsed time 9.44 sec\n",
      "EvaluatorHoldout: Processed 35209 (100.0%) in 8.73 sec. Users per second: 4033\n"
     ]
    },
    {
     "name": "stderr",
     "output_type": "stream",
     "text": [
      "[I 2025-01-07 01:41:14,554] Trial 320 finished with value: 0.0426547651732246 and parameters: {'topK': 9, 'alpha': 0.27647714582857863, 'beta': 0.2430636691985246, 'normalize_similarity': True, 'implicit': True}. Best is trial 248 with value: 0.04292797499015894.\n"
     ]
    },
    {
     "name": "stdout",
     "output_type": "stream",
     "text": [
      "RP3betaRecommender: Similarity column 38121 (100.0%), 3636.93 column/sec. Elapsed time 10.48 sec\n",
      "EvaluatorHoldout: Processed 35209 (100.0%) in 8.75 sec. Users per second: 4022\n"
     ]
    },
    {
     "name": "stderr",
     "output_type": "stream",
     "text": [
      "[I 2025-01-07 01:41:34,148] Trial 321 finished with value: 0.04270446724705403 and parameters: {'topK': 10, 'alpha': 0.2808478073331321, 'beta': 0.2622012593264915, 'normalize_similarity': True, 'implicit': True}. Best is trial 248 with value: 0.04292797499015894.\n"
     ]
    },
    {
     "name": "stdout",
     "output_type": "stream",
     "text": [
      "RP3betaRecommender: Similarity column 38121 (100.0%), 3583.11 column/sec. Elapsed time 10.64 sec\n",
      "EvaluatorHoldout: Processed 35209 (100.0%) in 8.80 sec. Users per second: 4000\n"
     ]
    },
    {
     "name": "stderr",
     "output_type": "stream",
     "text": [
      "[I 2025-01-07 01:41:53,981] Trial 322 finished with value: 0.04293583733776419 and parameters: {'topK': 11, 'alpha': 0.22265853091374718, 'beta': 0.25109461460614335, 'normalize_similarity': True, 'implicit': True}. Best is trial 322 with value: 0.04293583733776419.\n"
     ]
    },
    {
     "name": "stdout",
     "output_type": "stream",
     "text": [
      "RP3betaRecommender: Similarity column 38121 (100.0%), 3855.40 column/sec. Elapsed time 9.89 sec\n",
      "EvaluatorHoldout: Processed 35209 (100.0%) in 8.94 sec. Users per second: 3938\n"
     ]
    },
    {
     "name": "stderr",
     "output_type": "stream",
     "text": [
      "[I 2025-01-07 01:42:13,188] Trial 323 finished with value: 0.03314613034095171 and parameters: {'topK': 13, 'alpha': 0.20508013156944743, 'beta': 0.25642744601369755, 'normalize_similarity': False, 'implicit': True}. Best is trial 322 with value: 0.04293583733776419.\n"
     ]
    },
    {
     "name": "stdout",
     "output_type": "stream",
     "text": [
      "RP3betaRecommender: Similarity column 38121 (100.0%), 3260.15 column/sec. Elapsed time 11.69 sec\n",
      "EvaluatorHoldout: Processed 35209 (100.0%) in 8.79 sec. Users per second: 4007\n"
     ]
    },
    {
     "name": "stderr",
     "output_type": "stream",
     "text": [
      "[I 2025-01-07 01:42:34,035] Trial 324 finished with value: 0.042841978309115555 and parameters: {'topK': 12, 'alpha': 0.26879608400080485, 'beta': 0.25136961514695416, 'normalize_similarity': True, 'implicit': True}. Best is trial 322 with value: 0.04293583733776419.\n"
     ]
    },
    {
     "name": "stdout",
     "output_type": "stream",
     "text": [
      "RP3betaRecommender: Similarity column 38121 (100.0%), 3404.73 column/sec. Elapsed time 11.20 sec\n",
      "EvaluatorHoldout: Processed 35209 (100.0%) in 8.80 sec. Users per second: 3999\n"
     ]
    },
    {
     "name": "stderr",
     "output_type": "stream",
     "text": [
      "[I 2025-01-07 01:42:54,401] Trial 325 finished with value: 0.042865232870201414 and parameters: {'topK': 11, 'alpha': 0.22565481519450595, 'beta': 0.2408073207668524, 'normalize_similarity': True, 'implicit': True}. Best is trial 322 with value: 0.04293583733776419.\n"
     ]
    },
    {
     "name": "stdout",
     "output_type": "stream",
     "text": [
      "RP3betaRecommender: Similarity column 38121 (100.0%), 3507.45 column/sec. Elapsed time 10.87 sec\n",
      "EvaluatorHoldout: Processed 35209 (100.0%) in 8.66 sec. Users per second: 4066\n"
     ]
    },
    {
     "name": "stderr",
     "output_type": "stream",
     "text": [
      "[I 2025-01-07 01:43:14,254] Trial 326 finished with value: 0.04230482420845499 and parameters: {'topK': 9, 'alpha': 0.24683569893974966, 'beta': 0.12657827205956126, 'normalize_similarity': True, 'implicit': True}. Best is trial 322 with value: 0.04293583733776419.\n"
     ]
    },
    {
     "name": "stdout",
     "output_type": "stream",
     "text": [
      "RP3betaRecommender: Similarity column 38121 (100.0%), 3197.63 column/sec. Elapsed time 11.92 sec\n",
      "EvaluatorHoldout: Processed 35209 (100.0%) in 8.77 sec. Users per second: 4015\n"
     ]
    },
    {
     "name": "stderr",
     "output_type": "stream",
     "text": [
      "[I 2025-01-07 01:43:35,302] Trial 327 finished with value: 0.042674185487384796 and parameters: {'topK': 10, 'alpha': 0.22254690949976663, 'beta': 0.24626892450741975, 'normalize_similarity': True, 'implicit': True}. Best is trial 322 with value: 0.04293583733776419.\n"
     ]
    },
    {
     "name": "stdout",
     "output_type": "stream",
     "text": [
      "RP3betaRecommender: Similarity column 38121 (100.0%), 3420.12 column/sec. Elapsed time 11.15 sec\n",
      "EvaluatorHoldout: Processed 35209 (100.0%) in 8.75 sec. Users per second: 4025\n"
     ]
    },
    {
     "name": "stderr",
     "output_type": "stream",
     "text": [
      "[I 2025-01-07 01:43:55,551] Trial 328 finished with value: 0.042394838846667726 and parameters: {'topK': 12, 'alpha': 0.21357591061334574, 'beta': 0.10131992662561384, 'normalize_similarity': True, 'implicit': False}. Best is trial 322 with value: 0.04293583733776419.\n"
     ]
    },
    {
     "name": "stdout",
     "output_type": "stream",
     "text": [
      "RP3betaRecommender: Similarity column 38121 (100.0%), 3858.87 column/sec. Elapsed time 9.88 sec\n",
      "EvaluatorHoldout: Processed 35209 (100.0%) in 8.76 sec. Users per second: 4022\n"
     ]
    },
    {
     "name": "stderr",
     "output_type": "stream",
     "text": [
      "[I 2025-01-07 01:44:14,565] Trial 329 finished with value: 0.04288147488444126 and parameters: {'topK': 11, 'alpha': 0.23788864817918512, 'beta': 0.2506681204523882, 'normalize_similarity': True, 'implicit': True}. Best is trial 322 with value: 0.04293583733776419.\n"
     ]
    },
    {
     "name": "stdout",
     "output_type": "stream",
     "text": [
      "RP3betaRecommender: Similarity column 38121 (100.0%), 3642.62 column/sec. Elapsed time 10.47 sec\n",
      "EvaluatorHoldout: Processed 35209 (100.0%) in 8.84 sec. Users per second: 3983\n"
     ]
    },
    {
     "name": "stderr",
     "output_type": "stream",
     "text": [
      "[I 2025-01-07 01:44:34,221] Trial 330 finished with value: 0.042680063088124644 and parameters: {'topK': 10, 'alpha': 0.28668899744969084, 'beta': 0.25871320867259384, 'normalize_similarity': True, 'implicit': True}. Best is trial 322 with value: 0.04293583733776419.\n"
     ]
    },
    {
     "name": "stdout",
     "output_type": "stream",
     "text": [
      "RP3betaRecommender: Similarity column 38121 (100.0%), 3570.10 column/sec. Elapsed time 10.68 sec\n",
      "EvaluatorHoldout: Processed 35209 (100.0%) in 8.81 sec. Users per second: 3995\n"
     ]
    },
    {
     "name": "stderr",
     "output_type": "stream",
     "text": [
      "[I 2025-01-07 01:44:54,084] Trial 331 finished with value: 0.04290041619949983 and parameters: {'topK': 12, 'alpha': 0.2915393285043487, 'beta': 0.24510639036598603, 'normalize_similarity': True, 'implicit': True}. Best is trial 322 with value: 0.04293583733776419.\n"
     ]
    },
    {
     "name": "stdout",
     "output_type": "stream",
     "text": [
      "RP3betaRecommender: Similarity column 38121 (100.0%), 3288.75 column/sec. Elapsed time 11.59 sec\n",
      "EvaluatorHoldout: Processed 35209 (100.0%) in 8.79 sec. Users per second: 4006\n"
     ]
    },
    {
     "name": "stderr",
     "output_type": "stream",
     "text": [
      "[I 2025-01-07 01:45:14,828] Trial 332 finished with value: 0.04268387141274578 and parameters: {'topK': 11, 'alpha': 0.4379207502924507, 'beta': 0.253053782417383, 'normalize_similarity': True, 'implicit': True}. Best is trial 322 with value: 0.04293583733776419.\n"
     ]
    },
    {
     "name": "stdout",
     "output_type": "stream",
     "text": [
      "RP3betaRecommender: Similarity column 38121 (100.0%), 3403.37 column/sec. Elapsed time 11.20 sec\n",
      "EvaluatorHoldout: Processed 35209 (100.0%) in 8.97 sec. Users per second: 3927\n"
     ]
    },
    {
     "name": "stderr",
     "output_type": "stream",
     "text": [
      "[I 2025-01-07 01:45:35,361] Trial 333 finished with value: 0.04288381127299963 and parameters: {'topK': 12, 'alpha': 0.28230597199537866, 'beta': 0.24116997343731952, 'normalize_similarity': True, 'implicit': True}. Best is trial 322 with value: 0.04293583733776419.\n"
     ]
    },
    {
     "name": "stdout",
     "output_type": "stream",
     "text": [
      "RP3betaRecommender: Similarity column 38121 (100.0%), 4139.16 column/sec. Elapsed time 9.21 sec\n",
      "EvaluatorHoldout: Processed 35209 (100.0%) in 8.95 sec. Users per second: 3932\n"
     ]
    },
    {
     "name": "stderr",
     "output_type": "stream",
     "text": [
      "[I 2025-01-07 01:45:53,914] Trial 334 finished with value: 0.04266189606102525 and parameters: {'topK': 13, 'alpha': 0.40897087088132833, 'beta': 0.24703559736343653, 'normalize_similarity': True, 'implicit': True}. Best is trial 322 with value: 0.04293583733776419.\n"
     ]
    },
    {
     "name": "stdout",
     "output_type": "stream",
     "text": [
      "RP3betaRecommender: Similarity column 38121 (100.0%), 3436.48 column/sec. Elapsed time 11.09 sec\n",
      "EvaluatorHoldout: Processed 35209 (100.0%) in 8.86 sec. Users per second: 3973\n"
     ]
    },
    {
     "name": "stderr",
     "output_type": "stream",
     "text": [
      "[I 2025-01-07 01:46:14,261] Trial 335 finished with value: 0.042740415847858135 and parameters: {'topK': 11, 'alpha': 0.3310571940927532, 'beta': 0.2959419057279877, 'normalize_similarity': True, 'implicit': True}. Best is trial 322 with value: 0.04293583733776419.\n"
     ]
    },
    {
     "name": "stdout",
     "output_type": "stream",
     "text": [
      "RP3betaRecommender: Similarity column 38121 (100.0%), 3856.07 column/sec. Elapsed time 9.89 sec\n",
      "EvaluatorHoldout: Processed 35209 (100.0%) in 8.70 sec. Users per second: 4047\n"
     ]
    },
    {
     "name": "stderr",
     "output_type": "stream",
     "text": [
      "[I 2025-01-07 01:46:33,175] Trial 336 finished with value: 0.04233346835472527 and parameters: {'topK': 10, 'alpha': 0.2609235922883098, 'beta': 0.1097382834809119, 'normalize_similarity': True, 'implicit': True}. Best is trial 322 with value: 0.04293583733776419.\n"
     ]
    },
    {
     "name": "stdout",
     "output_type": "stream",
     "text": [
      "RP3betaRecommender: Similarity column 38121 (100.0%), 3321.64 column/sec. Elapsed time 11.48 sec\n",
      "EvaluatorHoldout: Processed 35209 (100.0%) in 8.85 sec. Users per second: 3980\n"
     ]
    },
    {
     "name": "stderr",
     "output_type": "stream",
     "text": [
      "[I 2025-01-07 01:46:53,894] Trial 337 finished with value: 0.042791645083528965 and parameters: {'topK': 11, 'alpha': 0.3071840851405758, 'beta': 0.28683068998804584, 'normalize_similarity': True, 'implicit': True}. Best is trial 322 with value: 0.04293583733776419.\n"
     ]
    },
    {
     "name": "stdout",
     "output_type": "stream",
     "text": [
      "RP3betaRecommender: Similarity column 38121 (100.0%), 3455.73 column/sec. Elapsed time 11.03 sec\n",
      "EvaluatorHoldout: Processed 35209 (100.0%) in 8.74 sec. Users per second: 4030\n"
     ]
    },
    {
     "name": "stderr",
     "output_type": "stream",
     "text": [
      "[I 2025-01-07 01:47:14,004] Trial 338 finished with value: 0.04263111501523378 and parameters: {'topK': 9, 'alpha': 0.294972367640556, 'beta': 0.23760441925540812, 'normalize_similarity': True, 'implicit': True}. Best is trial 322 with value: 0.04293583733776419.\n"
     ]
    },
    {
     "name": "stdout",
     "output_type": "stream",
     "text": [
      "RP3betaRecommender: Similarity column 38121 (100.0%), 3355.38 column/sec. Elapsed time 11.36 sec\n",
      "EvaluatorHoldout: Processed 35209 (100.0%) in 9.28 sec. Users per second: 3795\n"
     ]
    },
    {
     "name": "stderr",
     "output_type": "stream",
     "text": [
      "[I 2025-01-07 01:47:35,217] Trial 339 finished with value: 0.041709814905729226 and parameters: {'topK': 29, 'alpha': 0.27708252079165363, 'beta': 0.24961365647731584, 'normalize_similarity': True, 'implicit': True}. Best is trial 322 with value: 0.04293583733776419.\n"
     ]
    },
    {
     "name": "stdout",
     "output_type": "stream",
     "text": [
      "RP3betaRecommender: Similarity column 38121 (100.0%), 3405.66 column/sec. Elapsed time 11.19 sec\n",
      "EvaluatorHoldout: Processed 35209 (100.0%) in 8.85 sec. Users per second: 3978\n"
     ]
    },
    {
     "name": "stderr",
     "output_type": "stream",
     "text": [
      "[I 2025-01-07 01:47:55,640] Trial 340 finished with value: 0.03471524348707642 and parameters: {'topK': 12, 'alpha': 0.2884013414113205, 'beta': 0.24146135223232482, 'normalize_similarity': False, 'implicit': True}. Best is trial 322 with value: 0.04293583733776419.\n"
     ]
    },
    {
     "name": "stdout",
     "output_type": "stream",
     "text": [
      "RP3betaRecommender: Similarity column 38121 (100.0%), 3815.61 column/sec. Elapsed time 9.99 sec\n",
      "EvaluatorHoldout: Processed 35209 (100.0%) in 8.87 sec. Users per second: 3969\n"
     ]
    },
    {
     "name": "stderr",
     "output_type": "stream",
     "text": [
      "[I 2025-01-07 01:48:14,903] Trial 341 finished with value: 0.04280114166336252 and parameters: {'topK': 14, 'alpha': 0.29893625803929996, 'beta': 0.25423620956980153, 'normalize_similarity': True, 'implicit': True}. Best is trial 322 with value: 0.04293583733776419.\n"
     ]
    },
    {
     "name": "stdout",
     "output_type": "stream",
     "text": [
      "RP3betaRecommender: Similarity column 38121 (100.0%), 3483.44 column/sec. Elapsed time 10.94 sec\n",
      "EvaluatorHoldout: Processed 35209 (100.0%) in 8.87 sec. Users per second: 3971\n"
     ]
    },
    {
     "name": "stderr",
     "output_type": "stream",
     "text": [
      "[I 2025-01-07 01:48:35,056] Trial 342 finished with value: 0.04274259895670447 and parameters: {'topK': 10, 'alpha': 0.31056790390974137, 'beta': 0.2452183424661236, 'normalize_similarity': True, 'implicit': True}. Best is trial 322 with value: 0.04293583733776419.\n"
     ]
    },
    {
     "name": "stdout",
     "output_type": "stream",
     "text": [
      "RP3betaRecommender: Similarity column 38121 (100.0%), 4044.92 column/sec. Elapsed time 9.42 sec\n",
      "EvaluatorHoldout: Processed 35209 (100.0%) in 8.88 sec. Users per second: 3967\n"
     ]
    },
    {
     "name": "stderr",
     "output_type": "stream",
     "text": [
      "[I 2025-01-07 01:48:53,736] Trial 343 finished with value: 0.04279496313848153 and parameters: {'topK': 13, 'alpha': 0.29446836683003863, 'beta': 0.23673702052582624, 'normalize_similarity': True, 'implicit': True}. Best is trial 322 with value: 0.04293583733776419.\n"
     ]
    },
    {
     "name": "stdout",
     "output_type": "stream",
     "text": [
      "RP3betaRecommender: Similarity column 38121 (100.0%), 3871.61 column/sec. Elapsed time 9.85 sec\n",
      "EvaluatorHoldout: Processed 35209 (100.0%) in 8.82 sec. Users per second: 3990\n"
     ]
    },
    {
     "name": "stderr",
     "output_type": "stream",
     "text": [
      "[I 2025-01-07 01:49:12,792] Trial 344 finished with value: 0.0428987492826268 and parameters: {'topK': 11, 'alpha': 0.2848334141240173, 'beta': 0.24947718898893298, 'normalize_similarity': True, 'implicit': True}. Best is trial 322 with value: 0.04293583733776419.\n"
     ]
    },
    {
     "name": "stdout",
     "output_type": "stream",
     "text": [
      "RP3betaRecommender: Similarity column 38121 (100.0%), 4060.48 column/sec. Elapsed time 9.39 sec\n",
      "EvaluatorHoldout: Processed 35209 (100.0%) in 8.75 sec. Users per second: 4022\n"
     ]
    },
    {
     "name": "stderr",
     "output_type": "stream",
     "text": [
      "[I 2025-01-07 01:49:31,268] Trial 345 finished with value: 0.042391852146387535 and parameters: {'topK': 8, 'alpha': 0.2558710556894912, 'beta': 0.24329706842431673, 'normalize_similarity': True, 'implicit': True}. Best is trial 322 with value: 0.04293583733776419.\n"
     ]
    },
    {
     "name": "stdout",
     "output_type": "stream",
     "text": [
      "RP3betaRecommender: Similarity column 38121 (100.0%), 3570.50 column/sec. Elapsed time 10.68 sec\n",
      "EvaluatorHoldout: Processed 35209 (100.0%) in 8.79 sec. Users per second: 4006\n"
     ]
    },
    {
     "name": "stderr",
     "output_type": "stream",
     "text": [
      "[I 2025-01-07 01:49:51,109] Trial 346 finished with value: 0.04284724391806219 and parameters: {'topK': 11, 'alpha': 0.30341095807704194, 'beta': 0.25591224412095714, 'normalize_similarity': True, 'implicit': True}. Best is trial 322 with value: 0.04293583733776419.\n"
     ]
    },
    {
     "name": "stdout",
     "output_type": "stream",
     "text": [
      "RP3betaRecommender: Similarity column 38121 (100.0%), 3300.23 column/sec. Elapsed time 11.55 sec\n",
      "EvaluatorHoldout: Processed 35209 (100.0%) in 8.77 sec. Users per second: 4014\n"
     ]
    },
    {
     "name": "stderr",
     "output_type": "stream",
     "text": [
      "[I 2025-01-07 01:50:11,793] Trial 347 finished with value: 0.04282254897850155 and parameters: {'topK': 12, 'alpha': 0.2721775431345697, 'beta': 0.2334799130656559, 'normalize_similarity': True, 'implicit': False}. Best is trial 322 with value: 0.04293583733776419.\n"
     ]
    },
    {
     "name": "stdout",
     "output_type": "stream",
     "text": [
      "RP3betaRecommender: Similarity column 38121 (100.0%), 3620.75 column/sec. Elapsed time 10.53 sec\n",
      "EvaluatorHoldout: Processed 35209 (100.0%) in 8.76 sec. Users per second: 4020\n"
     ]
    },
    {
     "name": "stderr",
     "output_type": "stream",
     "text": [
      "[I 2025-01-07 01:50:31,445] Trial 348 finished with value: 0.04266243141296218 and parameters: {'topK': 10, 'alpha': 0.29089100590512007, 'beta': 0.2616799623209875, 'normalize_similarity': True, 'implicit': True}. Best is trial 322 with value: 0.04293583733776419.\n"
     ]
    },
    {
     "name": "stdout",
     "output_type": "stream",
     "text": [
      "RP3betaRecommender: Similarity column 38121 (100.0%), 3158.94 column/sec. Elapsed time 12.07 sec\n",
      "EvaluatorHoldout: Processed 35209 (100.0%) in 8.86 sec. Users per second: 3972\n"
     ]
    },
    {
     "name": "stderr",
     "output_type": "stream",
     "text": [
      "[I 2025-01-07 01:50:52,745] Trial 349 finished with value: 0.04291423278770078 and parameters: {'topK': 12, 'alpha': 0.29707979559397674, 'beta': 0.2484350758372217, 'normalize_similarity': True, 'implicit': True}. Best is trial 322 with value: 0.04293583733776419.\n"
     ]
    },
    {
     "name": "stdout",
     "output_type": "stream",
     "text": [
      "RP3betaRecommender: Similarity column 38121 (100.0%), 4036.96 column/sec. Elapsed time 9.44 sec\n",
      "EvaluatorHoldout: Processed 35209 (100.0%) in 8.84 sec. Users per second: 3981\n"
     ]
    },
    {
     "name": "stderr",
     "output_type": "stream",
     "text": [
      "[I 2025-01-07 01:51:11,419] Trial 350 finished with value: 0.0427537568181278 and parameters: {'topK': 13, 'alpha': 0.3082344525605676, 'beta': 0.24047346788332857, 'normalize_similarity': True, 'implicit': True}. Best is trial 322 with value: 0.04293583733776419.\n"
     ]
    },
    {
     "name": "stdout",
     "output_type": "stream",
     "text": [
      "RP3betaRecommender: Similarity column 38121 (100.0%), 3463.87 column/sec. Elapsed time 11.01 sec\n",
      "EvaluatorHoldout: Processed 35209 (100.0%) in 8.84 sec. Users per second: 3982\n"
     ]
    },
    {
     "name": "stderr",
     "output_type": "stream",
     "text": [
      "[I 2025-01-07 01:51:31,633] Trial 351 finished with value: 0.0428431876409647 and parameters: {'topK': 12, 'alpha': 0.32442279390128304, 'beta': 0.24604438374767013, 'normalize_similarity': True, 'implicit': True}. Best is trial 322 with value: 0.04293583733776419.\n"
     ]
    },
    {
     "name": "stdout",
     "output_type": "stream",
     "text": [
      "RP3betaRecommender: Similarity column 38121 (100.0%), 3814.48 column/sec. Elapsed time 9.99 sec\n",
      "EvaluatorHoldout: Processed 35209 (100.0%) in 8.84 sec. Users per second: 3983\n"
     ]
    },
    {
     "name": "stderr",
     "output_type": "stream",
     "text": [
      "[I 2025-01-07 01:51:50,848] Trial 352 finished with value: 0.042753010706586186 and parameters: {'topK': 13, 'alpha': 0.3005262717679766, 'beta': 0.23917864446353373, 'normalize_similarity': True, 'implicit': True}. Best is trial 322 with value: 0.04293583733776419.\n"
     ]
    },
    {
     "name": "stdout",
     "output_type": "stream",
     "text": [
      "RP3betaRecommender: Similarity column 38121 (100.0%), 4025.10 column/sec. Elapsed time 9.47 sec\n",
      "EvaluatorHoldout: Processed 35209 (100.0%) in 8.87 sec. Users per second: 3971\n"
     ]
    },
    {
     "name": "stderr",
     "output_type": "stream",
     "text": [
      "[I 2025-01-07 01:52:09,554] Trial 353 finished with value: 0.04286447886926274 and parameters: {'topK': 12, 'alpha': 0.3153731531130934, 'beta': 0.24418845520539859, 'normalize_similarity': True, 'implicit': True}. Best is trial 322 with value: 0.04293583733776419.\n"
     ]
    },
    {
     "name": "stdout",
     "output_type": "stream",
     "text": [
      "RP3betaRecommender: Similarity column 38121 (100.0%), 3750.14 column/sec. Elapsed time 10.17 sec\n",
      "EvaluatorHoldout: Processed 35209 (100.0%) in 8.86 sec. Users per second: 3972\n"
     ]
    },
    {
     "name": "stderr",
     "output_type": "stream",
     "text": [
      "[I 2025-01-07 01:52:28,979] Trial 354 finished with value: 0.04279461036973131 and parameters: {'topK': 14, 'alpha': 0.29547362646959496, 'beta': 0.24752685388638204, 'normalize_similarity': True, 'implicit': True}. Best is trial 322 with value: 0.04293583733776419.\n"
     ]
    },
    {
     "name": "stdout",
     "output_type": "stream",
     "text": [
      "RP3betaRecommender: Similarity column 38121 (100.0%), 3226.31 column/sec. Elapsed time 11.82 sec\n",
      "EvaluatorHoldout: Processed 35209 (100.0%) in 8.82 sec. Users per second: 3994\n"
     ]
    },
    {
     "name": "stderr",
     "output_type": "stream",
     "text": [
      "[I 2025-01-07 01:52:49,957] Trial 355 finished with value: 0.04256917648671018 and parameters: {'topK': 10, 'alpha': 0.4848684688775521, 'beta': 0.25303300024833786, 'normalize_similarity': True, 'implicit': True}. Best is trial 322 with value: 0.04293583733776419.\n"
     ]
    },
    {
     "name": "stdout",
     "output_type": "stream",
     "text": [
      "RP3betaRecommender: Similarity column 38121 (100.0%), 3361.39 column/sec. Elapsed time 11.34 sec\n",
      "EvaluatorHoldout: Processed 35209 (100.0%) in 8.82 sec. Users per second: 3994\n"
     ]
    },
    {
     "name": "stderr",
     "output_type": "stream",
     "text": [
      "[I 2025-01-07 01:53:10,490] Trial 356 finished with value: 0.042881059000515205 and parameters: {'topK': 12, 'alpha': 0.3047891823940755, 'beta': 0.2349282377958614, 'normalize_similarity': True, 'implicit': True}. Best is trial 322 with value: 0.04293583733776419.\n"
     ]
    },
    {
     "name": "stdout",
     "output_type": "stream",
     "text": [
      "RP3betaRecommender: Similarity column 38121 (100.0%), 3463.43 column/sec. Elapsed time 11.01 sec\n",
      "EvaluatorHoldout: Processed 35209 (100.0%) in 8.79 sec. Users per second: 4006\n"
     ]
    },
    {
     "name": "stderr",
     "output_type": "stream",
     "text": [
      "[I 2025-01-07 01:53:30,671] Trial 357 finished with value: 0.0429074636851042 and parameters: {'topK': 11, 'alpha': 0.29744290002980617, 'beta': 0.24201564034292994, 'normalize_similarity': True, 'implicit': True}. Best is trial 322 with value: 0.04293583733776419.\n"
     ]
    },
    {
     "name": "stdout",
     "output_type": "stream",
     "text": [
      "RP3betaRecommender: Similarity column 38121 (100.0%), 3422.19 column/sec. Elapsed time 11.14 sec\n",
      "EvaluatorHoldout: Processed 35209 (100.0%) in 8.76 sec. Users per second: 4017\n"
     ]
    },
    {
     "name": "stderr",
     "output_type": "stream",
     "text": [
      "[I 2025-01-07 01:53:50,925] Trial 358 finished with value: 0.04258459349543835 and parameters: {'topK': 9, 'alpha': 0.2014551432043108, 'beta': 0.24827825544301857, 'normalize_similarity': True, 'implicit': True}. Best is trial 322 with value: 0.04293583733776419.\n"
     ]
    },
    {
     "name": "stdout",
     "output_type": "stream",
     "text": [
      "RP3betaRecommender: Similarity column 38121 (100.0%), 3450.22 column/sec. Elapsed time 11.05 sec\n",
      "EvaluatorHoldout: Processed 35209 (100.0%) in 8.82 sec. Users per second: 3990\n"
     ]
    },
    {
     "name": "stderr",
     "output_type": "stream",
     "text": [
      "[I 2025-01-07 01:54:11,177] Trial 359 finished with value: 0.04286437292593217 and parameters: {'topK': 11, 'alpha': 0.3092979423317, 'beta': 0.25711149622331475, 'normalize_similarity': True, 'implicit': True}. Best is trial 322 with value: 0.04293583733776419.\n"
     ]
    },
    {
     "name": "stdout",
     "output_type": "stream",
     "text": [
      "RP3betaRecommender: Similarity column 38121 (100.0%), 3428.62 column/sec. Elapsed time 11.12 sec\n",
      "EvaluatorHoldout: Processed 35209 (100.0%) in 8.90 sec. Users per second: 3956\n"
     ]
    },
    {
     "name": "stderr",
     "output_type": "stream",
     "text": [
      "[I 2025-01-07 01:54:31,572] Trial 360 finished with value: 0.03511263241225652 and parameters: {'topK': 12, 'alpha': 0.3023281362304631, 'beta': 0.25160292693400876, 'normalize_similarity': False, 'implicit': True}. Best is trial 322 with value: 0.04293583733776419.\n"
     ]
    },
    {
     "name": "stdout",
     "output_type": "stream",
     "text": [
      "RP3betaRecommender: Similarity column 38121 (100.0%), 3468.77 column/sec. Elapsed time 10.99 sec\n",
      "EvaluatorHoldout: Processed 35209 (100.0%) in 8.76 sec. Users per second: 4021\n"
     ]
    },
    {
     "name": "stderr",
     "output_type": "stream",
     "text": [
      "[I 2025-01-07 01:54:51,676] Trial 361 finished with value: 0.042756939626275255 and parameters: {'topK': 10, 'alpha': 0.29241259956041954, 'beta': 0.2382541087945747, 'normalize_similarity': True, 'implicit': True}. Best is trial 322 with value: 0.04293583733776419.\n"
     ]
    },
    {
     "name": "stdout",
     "output_type": "stream",
     "text": [
      "RP3betaRecommender: Similarity column 38121 (100.0%), 3404.93 column/sec. Elapsed time 11.20 sec\n",
      "EvaluatorHoldout: Processed 35209 (100.0%) in 8.87 sec. Users per second: 3969\n"
     ]
    },
    {
     "name": "stderr",
     "output_type": "stream",
     "text": [
      "[I 2025-01-07 01:55:12,123] Trial 362 finished with value: 0.04279353628468736 and parameters: {'topK': 13, 'alpha': 0.3148403065516982, 'beta': 0.24398511125294806, 'normalize_similarity': True, 'implicit': True}. Best is trial 322 with value: 0.04293583733776419.\n"
     ]
    },
    {
     "name": "stdout",
     "output_type": "stream",
     "text": [
      "RP3betaRecommender: Similarity column 38121 (100.0%), 4170.85 column/sec. Elapsed time 9.14 sec\n",
      "EvaluatorHoldout: Processed 35209 (100.0%) in 8.79 sec. Users per second: 4006\n"
     ]
    },
    {
     "name": "stderr",
     "output_type": "stream",
     "text": [
      "[I 2025-01-07 01:55:30,413] Trial 363 finished with value: 0.04292821843440844 and parameters: {'topK': 11, 'alpha': 0.28858408527216506, 'beta': 0.2480635526720329, 'normalize_similarity': True, 'implicit': True}. Best is trial 322 with value: 0.04293583733776419.\n"
     ]
    },
    {
     "name": "stdout",
     "output_type": "stream",
     "text": [
      "RP3betaRecommender: Similarity column 38121 (100.0%), 3206.38 column/sec. Elapsed time 11.89 sec\n",
      "EvaluatorHoldout: Processed 35209 (100.0%) in 8.76 sec. Users per second: 4017\n"
     ]
    },
    {
     "name": "stderr",
     "output_type": "stream",
     "text": [
      "[I 2025-01-07 01:55:51,440] Trial 364 finished with value: 0.042855563850691336 and parameters: {'topK': 11, 'alpha': 0.27880890323341606, 'beta': 0.25336782355580956, 'normalize_similarity': True, 'implicit': True}. Best is trial 322 with value: 0.04293583733776419.\n"
     ]
    },
    {
     "name": "stdout",
     "output_type": "stream",
     "text": [
      "RP3betaRecommender: Similarity column 38121 (100.0%), 3681.85 column/sec. Elapsed time 10.35 sec\n",
      "EvaluatorHoldout: Processed 35209 (100.0%) in 8.74 sec. Users per second: 4030\n"
     ]
    },
    {
     "name": "stderr",
     "output_type": "stream",
     "text": [
      "[I 2025-01-07 01:56:10,887] Trial 365 finished with value: 0.042707018903444194 and parameters: {'topK': 10, 'alpha': 0.28689382406140446, 'beta': 0.24167904315604555, 'normalize_similarity': True, 'implicit': True}. Best is trial 322 with value: 0.04293583733776419.\n"
     ]
    },
    {
     "name": "stdout",
     "output_type": "stream",
     "text": [
      "RP3betaRecommender: Similarity column 38121 (100.0%), 3338.71 column/sec. Elapsed time 11.42 sec\n",
      "EvaluatorHoldout: Processed 35209 (100.0%) in 8.79 sec. Users per second: 4003\n"
     ]
    },
    {
     "name": "stderr",
     "output_type": "stream",
     "text": [
      "[I 2025-01-07 01:56:31,466] Trial 366 finished with value: 0.042778890182748316 and parameters: {'topK': 12, 'alpha': 0.2311994612335052, 'beta': 0.23523472505308995, 'normalize_similarity': True, 'implicit': True}. Best is trial 322 with value: 0.04293583733776419.\n"
     ]
    },
    {
     "name": "stdout",
     "output_type": "stream",
     "text": [
      "RP3betaRecommender: Similarity column 38121 (100.0%), 3412.27 column/sec. Elapsed time 11.17 sec\n",
      "EvaluatorHoldout: Processed 35209 (100.0%) in 8.82 sec. Users per second: 3993\n"
     ]
    },
    {
     "name": "stderr",
     "output_type": "stream",
     "text": [
      "[I 2025-01-07 01:56:51,830] Trial 367 finished with value: 0.04278516563450651 and parameters: {'topK': 13, 'alpha': 0.2894873077696134, 'beta': 0.24878934488010176, 'normalize_similarity': True, 'implicit': False}. Best is trial 322 with value: 0.04293583733776419.\n"
     ]
    },
    {
     "name": "stdout",
     "output_type": "stream",
     "text": [
      "RP3betaRecommender: Similarity column 38121 (100.0%), 3468.00 column/sec. Elapsed time 10.99 sec\n",
      "EvaluatorHoldout: Processed 35209 (100.0%) in 8.73 sec. Users per second: 4032\n"
     ]
    },
    {
     "name": "stderr",
     "output_type": "stream",
     "text": [
      "[I 2025-01-07 01:57:11,897] Trial 368 finished with value: 0.04266694640214015 and parameters: {'topK': 9, 'alpha': 0.29462569612787, 'beta': 0.24506059774071046, 'normalize_similarity': True, 'implicit': True}. Best is trial 322 with value: 0.04293583733776419.\n"
     ]
    },
    {
     "name": "stdout",
     "output_type": "stream",
     "text": [
      "RP3betaRecommender: Similarity column 38121 (100.0%), 3741.78 column/sec. Elapsed time 10.19 sec\n",
      "EvaluatorHoldout: Processed 35209 (100.0%) in 8.66 sec. Users per second: 4068\n"
     ]
    },
    {
     "name": "stderr",
     "output_type": "stream",
     "text": [
      "[I 2025-01-07 01:57:31,044] Trial 369 finished with value: 0.04149993778646805 and parameters: {'topK': 6, 'alpha': 0.2832212636034379, 'beta': 0.23966321577731498, 'normalize_similarity': True, 'implicit': True}. Best is trial 322 with value: 0.04293583733776419.\n"
     ]
    },
    {
     "name": "stdout",
     "output_type": "stream",
     "text": [
      "RP3betaRecommender: Similarity column 38121 (100.0%), 3324.92 column/sec. Elapsed time 11.47 sec\n",
      "EvaluatorHoldout: Processed 35209 (100.0%) in 8.83 sec. Users per second: 3985\n"
     ]
    },
    {
     "name": "stderr",
     "output_type": "stream",
     "text": [
      "[I 2025-01-07 01:57:51,715] Trial 370 finished with value: 0.0428213486631062 and parameters: {'topK': 11, 'alpha': 0.29816374558989456, 'beta': 0.25802923016645796, 'normalize_similarity': True, 'implicit': True}. Best is trial 322 with value: 0.04293583733776419.\n"
     ]
    },
    {
     "name": "stdout",
     "output_type": "stream",
     "text": [
      "RP3betaRecommender: Similarity column 38121 (100.0%), 3775.82 column/sec. Elapsed time 10.10 sec\n",
      "EvaluatorHoldout: Processed 35209 (100.0%) in 8.82 sec. Users per second: 3992\n"
     ]
    },
    {
     "name": "stderr",
     "output_type": "stream",
     "text": [
      "[I 2025-01-07 01:58:11,000] Trial 371 finished with value: 0.04289176942042495 and parameters: {'topK': 12, 'alpha': 0.28914867925824456, 'beta': 0.2509776706320193, 'normalize_similarity': True, 'implicit': True}. Best is trial 322 with value: 0.04293583733776419.\n"
     ]
    },
    {
     "name": "stdout",
     "output_type": "stream",
     "text": [
      "RP3betaRecommender: Similarity column 38121 (100.0%), 3459.71 column/sec. Elapsed time 11.02 sec\n",
      "EvaluatorHoldout: Processed 35209 (100.0%) in 8.83 sec. Users per second: 3987\n"
     ]
    },
    {
     "name": "stderr",
     "output_type": "stream",
     "text": [
      "[I 2025-01-07 01:58:31,222] Trial 372 finished with value: 0.042885506366290946 and parameters: {'topK': 11, 'alpha': 0.28132697597841344, 'beta': 0.24513834968483197, 'normalize_similarity': True, 'implicit': True}. Best is trial 322 with value: 0.04293583733776419.\n"
     ]
    },
    {
     "name": "stdout",
     "output_type": "stream",
     "text": [
      "RP3betaRecommender: Similarity column 38121 (100.0%), 3615.86 column/sec. Elapsed time 10.54 sec\n",
      "EvaluatorHoldout: Processed 35209 (100.0%) in 8.72 sec. Users per second: 4037\n"
     ]
    },
    {
     "name": "stderr",
     "output_type": "stream",
     "text": [
      "[I 2025-01-07 01:58:50,798] Trial 373 finished with value: 0.04211961948762021 and parameters: {'topK': 7, 'alpha': 0.29383691030933173, 'beta': 0.2328524840609833, 'normalize_similarity': True, 'implicit': True}. Best is trial 322 with value: 0.04293583733776419.\n"
     ]
    },
    {
     "name": "stdout",
     "output_type": "stream",
     "text": [
      "RP3betaRecommender: Similarity column 38121 (100.0%), 3349.62 column/sec. Elapsed time 11.38 sec\n",
      "EvaluatorHoldout: Processed 35209 (100.0%) in 8.76 sec. Users per second: 4018\n"
     ]
    },
    {
     "name": "stderr",
     "output_type": "stream",
     "text": [
      "[I 2025-01-07 01:59:11,297] Trial 374 finished with value: 0.042704550649250585 and parameters: {'topK': 10, 'alpha': 0.2995894477444351, 'beta': 0.24222747224164556, 'normalize_similarity': True, 'implicit': True}. Best is trial 322 with value: 0.04293583733776419.\n"
     ]
    },
    {
     "name": "stdout",
     "output_type": "stream",
     "text": [
      "RP3betaRecommender: Similarity column 38121 (100.0%), 3274.08 column/sec. Elapsed time 11.64 sec\n",
      "EvaluatorHoldout: Processed 35209 (100.0%) in 8.95 sec. Users per second: 3935\n"
     ]
    },
    {
     "name": "stderr",
     "output_type": "stream",
     "text": [
      "[I 2025-01-07 01:59:32,279] Trial 375 finished with value: 0.042835831341822346 and parameters: {'topK': 14, 'alpha': 0.28735506594413746, 'beta': 0.22674797563698953, 'normalize_similarity': True, 'implicit': True}. Best is trial 322 with value: 0.04293583733776419.\n"
     ]
    },
    {
     "name": "stdout",
     "output_type": "stream",
     "text": [
      "RP3betaRecommender: Similarity column 38121 (100.0%), 3776.82 column/sec. Elapsed time 10.09 sec\n",
      "EvaluatorHoldout: Processed 35209 (100.0%) in 8.73 sec. Users per second: 4034\n"
     ]
    },
    {
     "name": "stderr",
     "output_type": "stream",
     "text": [
      "[I 2025-01-07 01:59:51,450] Trial 376 finished with value: 0.042622952870544 and parameters: {'topK': 9, 'alpha': 0.2721791193857686, 'beta': 0.25415232029009593, 'normalize_similarity': True, 'implicit': True}. Best is trial 322 with value: 0.04293583733776419.\n"
     ]
    },
    {
     "name": "stdout",
     "output_type": "stream",
     "text": [
      "RP3betaRecommender: Similarity column 38121 (100.0%), 3700.09 column/sec. Elapsed time 10.30 sec\n",
      "EvaluatorHoldout: Processed 35209 (100.0%) in 8.84 sec. Users per second: 3983\n"
     ]
    },
    {
     "name": "stderr",
     "output_type": "stream",
     "text": [
      "[I 2025-01-07 02:00:10,973] Trial 377 finished with value: 0.04281570323604865 and parameters: {'topK': 13, 'alpha': 0.2776921129458041, 'beta': 0.2490878554446003, 'normalize_similarity': True, 'implicit': True}. Best is trial 322 with value: 0.04293583733776419.\n"
     ]
    },
    {
     "name": "stdout",
     "output_type": "stream",
     "text": [
      "RP3betaRecommender: Similarity column 38121 (100.0%), 3220.20 column/sec. Elapsed time 11.84 sec\n",
      "EvaluatorHoldout: Processed 35209 (100.0%) in 8.73 sec. Users per second: 4031\n"
     ]
    },
    {
     "name": "stderr",
     "output_type": "stream",
     "text": [
      "[I 2025-01-07 02:00:31,916] Trial 378 finished with value: 0.04289967797735529 and parameters: {'topK': 11, 'alpha': 0.302737985486391, 'beta': 0.2372352234602582, 'normalize_similarity': True, 'implicit': True}. Best is trial 322 with value: 0.04293583733776419.\n"
     ]
    },
    {
     "name": "stdout",
     "output_type": "stream",
     "text": [
      "RP3betaRecommender: Similarity column 38121 (100.0%), 3509.73 column/sec. Elapsed time 10.86 sec\n",
      "EvaluatorHoldout: Processed 35209 (100.0%) in 8.83 sec. Users per second: 3988\n"
     ]
    },
    {
     "name": "stderr",
     "output_type": "stream",
     "text": [
      "[I 2025-01-07 02:00:52,013] Trial 379 finished with value: 0.04289099513246567 and parameters: {'topK': 12, 'alpha': 0.2925463255540722, 'beta': 0.24574409909442013, 'normalize_similarity': True, 'implicit': True}. Best is trial 322 with value: 0.04293583733776419.\n"
     ]
    },
    {
     "name": "stdout",
     "output_type": "stream",
     "text": [
      "RP3betaRecommender: Similarity column 38121 (100.0%), 3482.18 column/sec. Elapsed time 10.95 sec\n",
      "EvaluatorHoldout: Processed 35209 (100.0%) in 8.87 sec. Users per second: 3971\n"
     ]
    },
    {
     "name": "stderr",
     "output_type": "stream",
     "text": [
      "[I 2025-01-07 02:01:12,189] Trial 380 finished with value: 0.035249197873738904 and parameters: {'topK': 10, 'alpha': 0.296593009714389, 'beta': 0.24078291235952637, 'normalize_similarity': False, 'implicit': True}. Best is trial 322 with value: 0.04293583733776419.\n"
     ]
    },
    {
     "name": "stdout",
     "output_type": "stream",
     "text": [
      "RP3betaRecommender: Similarity column 38121 (100.0%), 3368.68 column/sec. Elapsed time 11.32 sec\n",
      "EvaluatorHoldout: Processed 35209 (100.0%) in 8.78 sec. Users per second: 4009\n"
     ]
    },
    {
     "name": "stderr",
     "output_type": "stream",
     "text": [
      "[I 2025-01-07 02:01:32,686] Trial 381 finished with value: 0.04280418246236475 and parameters: {'topK': 11, 'alpha': 0.2857085294075503, 'beta': 0.27113587955213975, 'normalize_similarity': True, 'implicit': True}. Best is trial 322 with value: 0.04293583733776419.\n"
     ]
    },
    {
     "name": "stdout",
     "output_type": "stream",
     "text": [
      "RP3betaRecommender: Similarity column 38121 (100.0%), 3609.95 column/sec. Elapsed time 10.56 sec\n",
      "EvaluatorHoldout: Processed 35209 (100.0%) in 8.90 sec. Users per second: 3956\n"
     ]
    },
    {
     "name": "stderr",
     "output_type": "stream",
     "text": [
      "[I 2025-01-07 02:01:52,516] Trial 382 finished with value: 0.04285211054893329 and parameters: {'topK': 12, 'alpha': 0.3060181865071512, 'beta': 0.250708070636598, 'normalize_similarity': True, 'implicit': True}. Best is trial 322 with value: 0.04293583733776419.\n"
     ]
    },
    {
     "name": "stdout",
     "output_type": "stream",
     "text": [
      "RP3betaRecommender: Similarity column 38121 (100.0%), 3443.62 column/sec. Elapsed time 11.07 sec\n",
      "EvaluatorHoldout: Processed 35209 (100.0%) in 8.70 sec. Users per second: 4045\n"
     ]
    },
    {
     "name": "stderr",
     "output_type": "stream",
     "text": [
      "[I 2025-01-07 02:02:12,653] Trial 383 finished with value: 0.0426747343640024 and parameters: {'topK': 10, 'alpha': 0.28103442681455465, 'beta': 0.26490311599143085, 'normalize_similarity': True, 'implicit': True}. Best is trial 322 with value: 0.04293583733776419.\n"
     ]
    },
    {
     "name": "stdout",
     "output_type": "stream",
     "text": [
      "RP3betaRecommender: Similarity column 38121 (100.0%), 4204.77 column/sec. Elapsed time 9.07 sec\n",
      "EvaluatorHoldout: Processed 35209 (100.0%) in 8.82 sec. Users per second: 3990\n"
     ]
    },
    {
     "name": "stderr",
     "output_type": "stream",
     "text": [
      "[I 2025-01-07 02:02:30,914] Trial 384 finished with value: 0.04279871285615387 and parameters: {'topK': 12, 'alpha': 0.24622151606952514, 'beta': 0.24725960588463236, 'normalize_similarity': True, 'implicit': True}. Best is trial 322 with value: 0.04293583733776419.\n"
     ]
    },
    {
     "name": "stdout",
     "output_type": "stream",
     "text": [
      "RP3betaRecommender: Similarity column 38121 (100.0%), 3261.27 column/sec. Elapsed time 11.69 sec\n",
      "EvaluatorHoldout: Processed 35209 (100.0%) in 8.78 sec. Users per second: 4008\n"
     ]
    },
    {
     "name": "stderr",
     "output_type": "stream",
     "text": [
      "[I 2025-01-07 02:02:51,765] Trial 385 finished with value: 0.04284794156616536 and parameters: {'topK': 11, 'alpha': 0.2987750584322909, 'beta': 0.25447972205854436, 'normalize_similarity': True, 'implicit': True}. Best is trial 322 with value: 0.04293583733776419.\n"
     ]
    },
    {
     "name": "stdout",
     "output_type": "stream",
     "text": [
      "RP3betaRecommender: Similarity column 38121 (100.0%), 3446.07 column/sec. Elapsed time 11.06 sec\n",
      "EvaluatorHoldout: Processed 35209 (100.0%) in 8.88 sec. Users per second: 3966\n"
     ]
    },
    {
     "name": "stderr",
     "output_type": "stream",
     "text": [
      "[I 2025-01-07 02:03:12,065] Trial 386 finished with value: 0.042772125588378195 and parameters: {'topK': 10, 'alpha': 0.29041459041681694, 'beta': 0.2368774506180749, 'normalize_similarity': True, 'implicit': False}. Best is trial 322 with value: 0.04293583733776419.\n"
     ]
    },
    {
     "name": "stdout",
     "output_type": "stream",
     "text": [
      "RP3betaRecommender: Similarity column 38121 (100.0%), 4080.05 column/sec. Elapsed time 9.34 sec\n",
      "EvaluatorHoldout: Processed 35209 (100.0%) in 9.28 sec. Users per second: 3795\n"
     ]
    },
    {
     "name": "stderr",
     "output_type": "stream",
     "text": [
      "[I 2025-01-07 02:03:31,198] Trial 387 finished with value: 0.042256827371427275 and parameters: {'topK': 23, 'alpha': 0.3024887609979687, 'beta': 0.2595634822863386, 'normalize_similarity': True, 'implicit': True}. Best is trial 322 with value: 0.04293583733776419.\n"
     ]
    },
    {
     "name": "stdout",
     "output_type": "stream",
     "text": [
      "RP3betaRecommender: Similarity column 38121 (100.0%), 3744.96 column/sec. Elapsed time 10.18 sec\n",
      "EvaluatorHoldout: Processed 35209 (100.0%) in 8.89 sec. Users per second: 3961\n"
     ]
    },
    {
     "name": "stderr",
     "output_type": "stream",
     "text": [
      "[I 2025-01-07 02:03:50,648] Trial 388 finished with value: 0.04278879137594069 and parameters: {'topK': 13, 'alpha': 0.26561786724293523, 'beta': 0.24277800828759213, 'normalize_similarity': True, 'implicit': True}. Best is trial 322 with value: 0.04293583733776419.\n"
     ]
    },
    {
     "name": "stdout",
     "output_type": "stream",
     "text": [
      "RP3betaRecommender: Similarity column 38121 (100.0%), 3686.03 column/sec. Elapsed time 10.34 sec\n",
      "EvaluatorHoldout: Processed 35209 (100.0%) in 8.77 sec. Users per second: 4013\n"
     ]
    },
    {
     "name": "stderr",
     "output_type": "stream",
     "text": [
      "[I 2025-01-07 02:04:10,140] Trial 389 finished with value: 0.042923603137183165 and parameters: {'topK': 11, 'alpha': 0.31257253721649564, 'beta': 0.24703741677587038, 'normalize_similarity': True, 'implicit': True}. Best is trial 322 with value: 0.04293583733776419.\n"
     ]
    },
    {
     "name": "stdout",
     "output_type": "stream",
     "text": [
      "RP3betaRecommender: Similarity column 38121 (100.0%), 3646.82 column/sec. Elapsed time 10.45 sec\n",
      "EvaluatorHoldout: Processed 35209 (100.0%) in 8.73 sec. Users per second: 4033\n"
     ]
    },
    {
     "name": "stderr",
     "output_type": "stream",
     "text": [
      "[I 2025-01-07 02:04:29,676] Trial 390 finished with value: 0.04270407503131919 and parameters: {'topK': 9, 'alpha': 0.3130396930984122, 'beta': 0.2506040725720197, 'normalize_similarity': True, 'implicit': True}. Best is trial 322 with value: 0.04293583733776419.\n"
     ]
    },
    {
     "name": "stdout",
     "output_type": "stream",
     "text": [
      "RP3betaRecommender: Similarity column 38121 (100.0%), 3724.41 column/sec. Elapsed time 10.24 sec\n",
      "EvaluatorHoldout: Processed 35209 (100.0%) in 9.39 sec. Users per second: 3749\n"
     ]
    },
    {
     "name": "stderr",
     "output_type": "stream",
     "text": [
      "[I 2025-01-07 02:04:49,920] Trial 391 finished with value: 0.04161826747039169 and parameters: {'topK': 32, 'alpha': 0.3213713987087349, 'beta': 0.2475842749689958, 'normalize_similarity': True, 'implicit': True}. Best is trial 322 with value: 0.04293583733776419.\n"
     ]
    },
    {
     "name": "stdout",
     "output_type": "stream",
     "text": [
      "RP3betaRecommender: Similarity column 38121 (100.0%), 3849.73 column/sec. Elapsed time 9.90 sec\n",
      "EvaluatorHoldout: Processed 35209 (100.0%) in 8.56 sec. Users per second: 4111\n"
     ]
    },
    {
     "name": "stderr",
     "output_type": "stream",
     "text": [
      "[I 2025-01-07 02:05:08,659] Trial 392 finished with value: 0.038652092020121605 and parameters: {'topK': 4, 'alpha': 0.30984475859398786, 'beta': 0.14432762059494664, 'normalize_similarity': True, 'implicit': True}. Best is trial 322 with value: 0.04293583733776419.\n"
     ]
    },
    {
     "name": "stdout",
     "output_type": "stream",
     "text": [
      "RP3betaRecommender: Similarity column 38121 (100.0%), 4261.78 column/sec. Elapsed time 8.94 sec\n",
      "EvaluatorHoldout: Processed 35209 (100.0%) in 8.81 sec. Users per second: 3998\n"
     ]
    },
    {
     "name": "stderr",
     "output_type": "stream",
     "text": [
      "[I 2025-01-07 02:05:26,780] Trial 393 finished with value: 0.04281218343794475 and parameters: {'topK': 12, 'alpha': 0.3353010893775188, 'beta': 0.2561525887096262, 'normalize_similarity': True, 'implicit': True}. Best is trial 322 with value: 0.04293583733776419.\n"
     ]
    },
    {
     "name": "stdout",
     "output_type": "stream",
     "text": [
      "RP3betaRecommender: Similarity column 38121 (100.0%), 3079.15 column/sec. Elapsed time 12.38 sec\n",
      "EvaluatorHoldout: Processed 35209 (100.0%) in 9.54 sec. Users per second: 3690\n"
     ]
    },
    {
     "name": "stderr",
     "output_type": "stream",
     "text": [
      "[I 2025-01-07 02:05:49,401] Trial 394 finished with value: 0.041135387912630605 and parameters: {'topK': 40, 'alpha': 0.3147432271014847, 'beta': 0.24583747356646143, 'normalize_similarity': True, 'implicit': True}. Best is trial 322 with value: 0.04293583733776419.\n"
     ]
    },
    {
     "name": "stdout",
     "output_type": "stream",
     "text": [
      "RP3betaRecommender: Similarity column 38121 (100.0%), 3834.22 column/sec. Elapsed time 9.94 sec\n",
      "EvaluatorHoldout: Processed 35209 (100.0%) in 8.75 sec. Users per second: 4024\n"
     ]
    },
    {
     "name": "stderr",
     "output_type": "stream",
     "text": [
      "[I 2025-01-07 02:06:08,427] Trial 395 finished with value: 0.04241258886278449 and parameters: {'topK': 8, 'alpha': 0.30578151224306227, 'beta': 0.2526918981476477, 'normalize_similarity': True, 'implicit': True}. Best is trial 322 with value: 0.04293583733776419.\n"
     ]
    },
    {
     "name": "stdout",
     "output_type": "stream",
     "text": [
      "RP3betaRecommender: Similarity column 38121 (100.0%), 3597.45 column/sec. Elapsed time 10.60 sec\n",
      "EvaluatorHoldout: Processed 35209 (100.0%) in 8.93 sec. Users per second: 3944\n"
     ]
    },
    {
     "name": "stderr",
     "output_type": "stream",
     "text": [
      "[I 2025-01-07 02:06:28,345] Trial 396 finished with value: 0.042810057808990956 and parameters: {'topK': 14, 'alpha': 0.31888036663842323, 'beta': 0.23933362380542195, 'normalize_similarity': True, 'implicit': True}. Best is trial 322 with value: 0.04293583733776419.\n"
     ]
    },
    {
     "name": "stdout",
     "output_type": "stream",
     "text": [
      "RP3betaRecommender: Similarity column 38121 (100.0%), 3310.37 column/sec. Elapsed time 11.52 sec\n",
      "EvaluatorHoldout: Processed 35209 (100.0%) in 8.79 sec. Users per second: 4004\n"
     ]
    },
    {
     "name": "stderr",
     "output_type": "stream",
     "text": [
      "[I 2025-01-07 02:06:49,016] Trial 397 finished with value: 0.04274951908490037 and parameters: {'topK': 10, 'alpha': 0.32599482852836903, 'beta': 0.2491557028083291, 'normalize_similarity': True, 'implicit': True}. Best is trial 322 with value: 0.04293583733776419.\n"
     ]
    },
    {
     "name": "stdout",
     "output_type": "stream",
     "text": [
      "RP3betaRecommender: Similarity column 38121 (100.0%), 3611.35 column/sec. Elapsed time 10.56 sec\n",
      "EvaluatorHoldout: Processed 35209 (100.0%) in 8.77 sec. Users per second: 4015\n"
     ]
    },
    {
     "name": "stderr",
     "output_type": "stream",
     "text": [
      "[I 2025-01-07 02:07:08,710] Trial 398 finished with value: 0.03474276621192085 and parameters: {'topK': 12, 'alpha': 0.2981012590382855, 'beta': 0.23175111734845474, 'normalize_similarity': False, 'implicit': True}. Best is trial 322 with value: 0.04293583733776419.\n"
     ]
    },
    {
     "name": "stdout",
     "output_type": "stream",
     "text": [
      "RP3betaRecommender: Similarity column 38121 (100.0%), 3714.11 column/sec. Elapsed time 10.26 sec\n",
      "EvaluatorHoldout: Processed 35209 (100.0%) in 8.79 sec. Users per second: 4007\n"
     ]
    },
    {
     "name": "stderr",
     "output_type": "stream",
     "text": [
      "[I 2025-01-07 02:07:28,135] Trial 399 finished with value: 0.04291765565892756 and parameters: {'topK': 11, 'alpha': 0.30847750412984654, 'beta': 0.24328005999183908, 'normalize_similarity': True, 'implicit': True}. Best is trial 322 with value: 0.04293583733776419.\n"
     ]
    },
    {
     "name": "stdout",
     "output_type": "stream",
     "text": [
      "RP3betaRecommender: Similarity column 38121 (100.0%), 3147.39 column/sec. Elapsed time 12.11 sec\n",
      "EvaluatorHoldout: Processed 35209 (100.0%) in 8.92 sec. Users per second: 3948\n"
     ]
    },
    {
     "name": "stderr",
     "output_type": "stream",
     "text": [
      "[I 2025-01-07 02:07:49,519] Trial 400 finished with value: 0.04290922752885432 and parameters: {'topK': 11, 'alpha': 0.31077863515239373, 'beta': 0.23618440220709694, 'normalize_similarity': True, 'implicit': True}. Best is trial 322 with value: 0.04293583733776419.\n"
     ]
    },
    {
     "name": "stdout",
     "output_type": "stream",
     "text": [
      "RP3betaRecommender: Similarity column 38121 (100.0%), 3281.87 column/sec. Elapsed time 11.62 sec\n",
      "EvaluatorHoldout: Processed 35209 (100.0%) in 8.89 sec. Users per second: 3961\n"
     ]
    },
    {
     "name": "stderr",
     "output_type": "stream",
     "text": [
      "[I 2025-01-07 02:08:10,391] Trial 401 finished with value: 0.04268986735443997 and parameters: {'topK': 10, 'alpha': 0.3190715630152575, 'beta': 0.27521582220056284, 'normalize_similarity': True, 'implicit': True}. Best is trial 322 with value: 0.04293583733776419.\n"
     ]
    },
    {
     "name": "stdout",
     "output_type": "stream",
     "text": [
      "RP3betaRecommender: Similarity column 38121 (100.0%), 4153.66 column/sec. Elapsed time 9.18 sec\n",
      "EvaluatorHoldout: Processed 35209 (100.0%) in 9.22 sec. Users per second: 3819\n"
     ]
    },
    {
     "name": "stderr",
     "output_type": "stream",
     "text": [
      "[I 2025-01-07 02:08:29,320] Trial 402 finished with value: 0.04205516874969113 and parameters: {'topK': 26, 'alpha': 0.30681799064169973, 'beta': 0.2409731007485489, 'normalize_similarity': True, 'implicit': True}. Best is trial 322 with value: 0.04293583733776419.\n"
     ]
    },
    {
     "name": "stdout",
     "output_type": "stream",
     "text": [
      "RP3betaRecommender: Similarity column 38121 (100.0%), 3760.01 column/sec. Elapsed time 10.14 sec\n",
      "EvaluatorHoldout: Processed 35209 (100.0%) in 8.71 sec. Users per second: 4042\n"
     ]
    },
    {
     "name": "stderr",
     "output_type": "stream",
     "text": [
      "[I 2025-01-07 02:08:48,558] Trial 403 finished with value: 0.042891556406707124 and parameters: {'topK': 11, 'alpha': 0.3135454388327598, 'beta': 0.24330237592059717, 'normalize_similarity': True, 'implicit': True}. Best is trial 322 with value: 0.04293583733776419.\n"
     ]
    },
    {
     "name": "stdout",
     "output_type": "stream",
     "text": [
      "RP3betaRecommender: Similarity column 38121 (100.0%), 4198.44 column/sec. Elapsed time 9.08 sec\n",
      "EvaluatorHoldout: Processed 35209 (100.0%) in 8.79 sec. Users per second: 4005\n"
     ]
    },
    {
     "name": "stderr",
     "output_type": "stream",
     "text": [
      "[I 2025-01-07 02:09:06,771] Trial 404 finished with value: 0.04267194602570325 and parameters: {'topK': 9, 'alpha': 0.30300497445173974, 'beta': 0.2456549637524302, 'normalize_similarity': True, 'implicit': True}. Best is trial 322 with value: 0.04293583733776419.\n"
     ]
    },
    {
     "name": "stdout",
     "output_type": "stream",
     "text": [
      "RP3betaRecommender: Similarity column 38121 (100.0%), 3315.16 column/sec. Elapsed time 11.50 sec\n",
      "EvaluatorHoldout: Processed 35209 (100.0%) in 8.87 sec. Users per second: 3971\n"
     ]
    },
    {
     "name": "stderr",
     "output_type": "stream",
     "text": [
      "[I 2025-01-07 02:09:27,519] Trial 405 finished with value: 0.04275867416655117 and parameters: {'topK': 10, 'alpha': 0.30257848870424947, 'beta': 0.2393440804186842, 'normalize_similarity': True, 'implicit': True}. Best is trial 322 with value: 0.04293583733776419.\n"
     ]
    },
    {
     "name": "stdout",
     "output_type": "stream",
     "text": [
      "RP3betaRecommender: Similarity column 38121 (100.0%), 3724.56 column/sec. Elapsed time 10.24 sec\n",
      "EvaluatorHoldout: Processed 35209 (100.0%) in 8.75 sec. Users per second: 4025\n"
     ]
    },
    {
     "name": "stderr",
     "output_type": "stream",
     "text": [
      "[I 2025-01-07 02:09:46,876] Trial 406 finished with value: 0.04288213533967284 and parameters: {'topK': 11, 'alpha': 0.3090316537619365, 'beta': 0.23379071541358967, 'normalize_similarity': True, 'implicit': True}. Best is trial 322 with value: 0.04293583733776419.\n"
     ]
    },
    {
     "name": "stdout",
     "output_type": "stream",
     "text": [
      "RP3betaRecommender: Similarity column 38121 (100.0%), 3437.79 column/sec. Elapsed time 11.09 sec\n",
      "EvaluatorHoldout: Processed 35209 (100.0%) in 8.85 sec. Users per second: 3977\n"
     ]
    },
    {
     "name": "stderr",
     "output_type": "stream",
     "text": [
      "[I 2025-01-07 02:10:07,181] Trial 407 finished with value: 0.042891640935960144 and parameters: {'topK': 12, 'alpha': 0.295989607311882, 'beta': 0.24473770245391244, 'normalize_similarity': True, 'implicit': False}. Best is trial 322 with value: 0.04293583733776419.\n"
     ]
    },
    {
     "name": "stdout",
     "output_type": "stream",
     "text": [
      "RP3betaRecommender: Similarity column 38121 (100.0%), 3573.63 column/sec. Elapsed time 10.67 sec\n",
      "EvaluatorHoldout: Processed 35209 (100.0%) in 8.75 sec. Users per second: 4024\n"
     ]
    },
    {
     "name": "stderr",
     "output_type": "stream",
     "text": [
      "[I 2025-01-07 02:10:26,933] Trial 408 finished with value: 0.04252468479604835 and parameters: {'topK': 9, 'alpha': 0.29891720555221074, 'beta': 0.18260211020181633, 'normalize_similarity': True, 'implicit': True}. Best is trial 322 with value: 0.04293583733776419.\n"
     ]
    },
    {
     "name": "stdout",
     "output_type": "stream",
     "text": [
      "RP3betaRecommender: Similarity column 38121 (100.0%), 3956.36 column/sec. Elapsed time 9.64 sec\n",
      "EvaluatorHoldout: Processed 35209 (100.0%) in 8.75 sec. Users per second: 4026\n"
     ]
    },
    {
     "name": "stderr",
     "output_type": "stream",
     "text": [
      "[I 2025-01-07 02:10:45,697] Trial 409 finished with value: 0.042875784375115175 and parameters: {'topK': 11, 'alpha': 0.31834523896411066, 'beta': 0.25287132265193996, 'normalize_similarity': True, 'implicit': True}. Best is trial 322 with value: 0.04293583733776419.\n"
     ]
    },
    {
     "name": "stdout",
     "output_type": "stream",
     "text": [
      "RP3betaRecommender: Similarity column 38121 (100.0%), 3363.46 column/sec. Elapsed time 11.33 sec\n",
      "EvaluatorHoldout: Processed 35209 (100.0%) in 8.83 sec. Users per second: 3988\n"
     ]
    },
    {
     "name": "stderr",
     "output_type": "stream",
     "text": [
      "[I 2025-01-07 02:11:06,222] Trial 410 finished with value: 0.04276213761181931 and parameters: {'topK': 10, 'alpha': 0.30684671685521314, 'beta': 0.23927523698614778, 'normalize_similarity': True, 'implicit': True}. Best is trial 322 with value: 0.04293583733776419.\n"
     ]
    },
    {
     "name": "stdout",
     "output_type": "stream",
     "text": [
      "RP3betaRecommender: Similarity column 38121 (100.0%), 4201.33 column/sec. Elapsed time 9.07 sec\n",
      "EvaluatorHoldout: Processed 35209 (100.0%) in 8.99 sec. Users per second: 3916\n"
     ]
    },
    {
     "name": "stderr",
     "output_type": "stream",
     "text": [
      "[I 2025-01-07 02:11:24,683] Trial 411 finished with value: 0.0427649496183093 and parameters: {'topK': 13, 'alpha': 0.2929783977096635, 'beta': 0.2597964816343201, 'normalize_similarity': True, 'implicit': True}. Best is trial 322 with value: 0.04293583733776419.\n"
     ]
    },
    {
     "name": "stdout",
     "output_type": "stream",
     "text": [
      "RP3betaRecommender: Similarity column 38121 (100.0%), 3834.62 column/sec. Elapsed time 9.94 sec\n",
      "EvaluatorHoldout: Processed 35209 (100.0%) in 8.91 sec. Users per second: 3953\n"
     ]
    },
    {
     "name": "stderr",
     "output_type": "stream",
     "text": [
      "[I 2025-01-07 02:11:43,924] Trial 412 finished with value: 0.04273078740238956 and parameters: {'topK': 11, 'alpha': 0.4285027627424078, 'beta': 0.2486016955638564, 'normalize_similarity': True, 'implicit': True}. Best is trial 322 with value: 0.04293583733776419.\n"
     ]
    },
    {
     "name": "stdout",
     "output_type": "stream",
     "text": [
      "RP3betaRecommender: Similarity column 38121 (100.0%), 3620.84 column/sec. Elapsed time 10.53 sec\n",
      "EvaluatorHoldout: Processed 35209 (100.0%) in 8.82 sec. Users per second: 3991\n"
     ]
    },
    {
     "name": "stderr",
     "output_type": "stream",
     "text": [
      "[I 2025-01-07 02:12:03,644] Trial 413 finished with value: 0.04291629417442232 and parameters: {'topK': 12, 'alpha': 0.2995090264637243, 'beta': 0.24365402220559182, 'normalize_similarity': True, 'implicit': True}. Best is trial 322 with value: 0.04293583733776419.\n"
     ]
    },
    {
     "name": "stdout",
     "output_type": "stream",
     "text": [
      "RP3betaRecommender: Similarity column 38121 (100.0%), 3253.93 column/sec. Elapsed time 11.72 sec\n",
      "EvaluatorHoldout: Processed 35209 (100.0%) in 8.80 sec. Users per second: 4000\n"
     ]
    },
    {
     "name": "stderr",
     "output_type": "stream",
     "text": [
      "[I 2025-01-07 02:12:24,526] Trial 414 finished with value: 0.04257799007017771 and parameters: {'topK': 13, 'alpha': 0.220025467267696, 'beta': 0.16185873926378883, 'normalize_similarity': True, 'implicit': True}. Best is trial 322 with value: 0.04293583733776419.\n"
     ]
    },
    {
     "name": "stdout",
     "output_type": "stream",
     "text": [
      "RP3betaRecommender: Similarity column 38121 (100.0%), 3266.62 column/sec. Elapsed time 11.67 sec\n",
      "EvaluatorHoldout: Processed 35209 (100.0%) in 8.83 sec. Users per second: 3986\n"
     ]
    },
    {
     "name": "stderr",
     "output_type": "stream",
     "text": [
      "[I 2025-01-07 02:12:45,396] Trial 415 finished with value: 0.04282818200793534 and parameters: {'topK': 12, 'alpha': 0.30949486178893354, 'beta': 0.25287845035558437, 'normalize_similarity': True, 'implicit': True}. Best is trial 322 with value: 0.04293583733776419.\n"
     ]
    },
    {
     "name": "stdout",
     "output_type": "stream",
     "text": [
      "RP3betaRecommender: Similarity column 38121 (100.0%), 3500.76 column/sec. Elapsed time 10.89 sec\n",
      "EvaluatorHoldout: Processed 35209 (100.0%) in 8.85 sec. Users per second: 3979\n"
     ]
    },
    {
     "name": "stderr",
     "output_type": "stream",
     "text": [
      "[I 2025-01-07 02:13:05,511] Trial 416 finished with value: 0.042882410341509844 and parameters: {'topK': 12, 'alpha': 0.30279248110892065, 'beta': 0.2455355928044537, 'normalize_similarity': True, 'implicit': True}. Best is trial 322 with value: 0.04293583733776419.\n"
     ]
    },
    {
     "name": "stdout",
     "output_type": "stream",
     "text": [
      "RP3betaRecommender: Similarity column 38121 (100.0%), 4284.98 column/sec. Elapsed time 8.90 sec\n",
      "EvaluatorHoldout: Processed 35209 (100.0%) in 8.91 sec. Users per second: 3950\n"
     ]
    },
    {
     "name": "stderr",
     "output_type": "stream",
     "text": [
      "[I 2025-01-07 02:13:23,704] Trial 417 finished with value: 0.04277884960870666 and parameters: {'topK': 13, 'alpha': 0.31233434958527323, 'beta': 0.25034137285207086, 'normalize_similarity': True, 'implicit': True}. Best is trial 322 with value: 0.04293583733776419.\n"
     ]
    },
    {
     "name": "stdout",
     "output_type": "stream",
     "text": [
      "RP3betaRecommender: Similarity column 38121 (100.0%), 3591.33 column/sec. Elapsed time 10.61 sec\n",
      "EvaluatorHoldout: Processed 35209 (100.0%) in 8.83 sec. Users per second: 3985\n"
     ]
    },
    {
     "name": "stderr",
     "output_type": "stream",
     "text": [
      "[I 2025-01-07 02:13:43,519] Trial 418 finished with value: 0.03527466484714536 and parameters: {'topK': 11, 'alpha': 0.2988281644002879, 'beta': 0.2561817252749642, 'normalize_similarity': False, 'implicit': True}. Best is trial 322 with value: 0.04293583733776419.\n"
     ]
    },
    {
     "name": "stdout",
     "output_type": "stream",
     "text": [
      "RP3betaRecommender: Similarity column 38121 (100.0%), 3752.33 column/sec. Elapsed time 10.16 sec\n",
      "EvaluatorHoldout: Processed 35209 (100.0%) in 8.75 sec. Users per second: 4022\n"
     ]
    },
    {
     "name": "stderr",
     "output_type": "stream",
     "text": [
      "[I 2025-01-07 02:14:02,787] Trial 419 finished with value: 0.04275309861700958 and parameters: {'topK': 10, 'alpha': 0.30481902059920835, 'beta': 0.24293576708299275, 'normalize_similarity': True, 'implicit': True}. Best is trial 322 with value: 0.04293583733776419.\n"
     ]
    },
    {
     "name": "stdout",
     "output_type": "stream",
     "text": [
      "RP3betaRecommender: Similarity column 38121 (100.0%), 3321.26 column/sec. Elapsed time 11.48 sec\n",
      "EvaluatorHoldout: Processed 35209 (100.0%) in 8.69 sec. Users per second: 4052\n"
     ]
    },
    {
     "name": "stderr",
     "output_type": "stream",
     "text": [
      "[I 2025-01-07 02:14:23,285] Trial 420 finished with value: 0.04240023632124899 and parameters: {'topK': 8, 'alpha': 0.2951231627157811, 'beta': 0.22922676268459, 'normalize_similarity': True, 'implicit': True}. Best is trial 322 with value: 0.04293583733776419.\n"
     ]
    },
    {
     "name": "stdout",
     "output_type": "stream",
     "text": [
      "RP3betaRecommender: Similarity column 38121 (100.0%), 3260.85 column/sec. Elapsed time 11.69 sec\n",
      "EvaluatorHoldout: Processed 35209 (100.0%) in 8.91 sec. Users per second: 3951\n"
     ]
    },
    {
     "name": "stderr",
     "output_type": "stream",
     "text": [
      "[I 2025-01-07 02:14:44,288] Trial 421 finished with value: 0.042820869664004516 and parameters: {'topK': 14, 'alpha': 0.3147315353275928, 'beta': 0.23569370902721085, 'normalize_similarity': True, 'implicit': True}. Best is trial 322 with value: 0.04293583733776419.\n"
     ]
    },
    {
     "name": "stdout",
     "output_type": "stream",
     "text": [
      "RP3betaRecommender: Similarity column 38121 (100.0%), 3685.44 column/sec. Elapsed time 10.34 sec\n",
      "EvaluatorHoldout: Processed 35209 (100.0%) in 8.88 sec. Users per second: 3963\n"
     ]
    },
    {
     "name": "stderr",
     "output_type": "stream",
     "text": [
      "[I 2025-01-07 02:15:03,887] Trial 422 finished with value: 0.042835838104162444 and parameters: {'topK': 12, 'alpha': 0.32493998186885253, 'beta': 0.24636186086032438, 'normalize_similarity': True, 'implicit': True}. Best is trial 322 with value: 0.04293583733776419.\n"
     ]
    },
    {
     "name": "stdout",
     "output_type": "stream",
     "text": [
      "RP3betaRecommender: Similarity column 38121 (100.0%), 3614.06 column/sec. Elapsed time 10.55 sec\n",
      "EvaluatorHoldout: Processed 35209 (100.0%) in 8.79 sec. Users per second: 4006\n"
     ]
    },
    {
     "name": "stderr",
     "output_type": "stream",
     "text": [
      "[I 2025-01-07 02:15:23,602] Trial 423 finished with value: 0.042698586265144195 and parameters: {'topK': 10, 'alpha': 0.30028469261125956, 'beta': 0.24893539273071974, 'normalize_similarity': True, 'implicit': True}. Best is trial 322 with value: 0.04293583733776419.\n"
     ]
    },
    {
     "name": "stdout",
     "output_type": "stream",
     "text": [
      "RP3betaRecommender: Similarity column 38121 (100.0%), 3876.53 column/sec. Elapsed time 9.83 sec\n",
      "EvaluatorHoldout: Processed 35209 (100.0%) in 8.81 sec. Users per second: 3999\n"
     ]
    },
    {
     "name": "stderr",
     "output_type": "stream",
     "text": [
      "[I 2025-01-07 02:15:42,617] Trial 424 finished with value: 0.042622444567967946 and parameters: {'topK': 12, 'alpha': 0.4490521862914077, 'beta': 0.23857024783569708, 'normalize_similarity': True, 'implicit': True}. Best is trial 322 with value: 0.04293583733776419.\n"
     ]
    },
    {
     "name": "stdout",
     "output_type": "stream",
     "text": [
      "RP3betaRecommender: Similarity column 38121 (100.0%), 3649.39 column/sec. Elapsed time 10.45 sec\n",
      "EvaluatorHoldout: Processed 35209 (100.0%) in 8.91 sec. Users per second: 3954\n"
     ]
    },
    {
     "name": "stderr",
     "output_type": "stream",
     "text": [
      "[I 2025-01-07 02:16:02,340] Trial 425 finished with value: 0.04290138659532684 and parameters: {'topK': 11, 'alpha': 0.29336339481363755, 'beta': 0.2435604894406722, 'normalize_similarity': True, 'implicit': False}. Best is trial 322 with value: 0.04293583733776419.\n"
     ]
    },
    {
     "name": "stdout",
     "output_type": "stream",
     "text": [
      "RP3betaRecommender: Similarity column 38121 (100.0%), 3210.81 column/sec. Elapsed time 11.87 sec\n",
      "EvaluatorHoldout: Processed 35209 (100.0%) in 8.87 sec. Users per second: 3970\n"
     ]
    },
    {
     "name": "stderr",
     "output_type": "stream",
     "text": [
      "[I 2025-01-07 02:16:23,458] Trial 426 finished with value: 0.04284796185318608 and parameters: {'topK': 11, 'alpha': 0.307056902320135, 'beta': 0.25632462602902334, 'normalize_similarity': True, 'implicit': True}. Best is trial 322 with value: 0.04293583733776419.\n"
     ]
    },
    {
     "name": "stdout",
     "output_type": "stream",
     "text": [
      "RP3betaRecommender: Similarity column 38121 (100.0%), 4214.37 column/sec. Elapsed time 9.05 sec\n",
      "EvaluatorHoldout: Processed 35209 (100.0%) in 8.79 sec. Users per second: 4004\n"
     ]
    },
    {
     "name": "stderr",
     "output_type": "stream",
     "text": [
      "[I 2025-01-07 02:16:41,667] Trial 427 finished with value: 0.04285199446209222 and parameters: {'topK': 12, 'alpha': 0.29153920004923833, 'beta': 0.2525743689722123, 'normalize_similarity': True, 'implicit': True}. Best is trial 322 with value: 0.04293583733776419.\n"
     ]
    },
    {
     "name": "stdout",
     "output_type": "stream",
     "text": [
      "RP3betaRecommender: Similarity column 38121 (100.0%), 3781.07 column/sec. Elapsed time 10.08 sec\n",
      "EvaluatorHoldout: Processed 35209 (100.0%) in 8.76 sec. Users per second: 4017\n"
     ]
    },
    {
     "name": "stderr",
     "output_type": "stream",
     "text": [
      "[I 2025-01-07 02:17:00,857] Trial 428 finished with value: 0.04257188593103946 and parameters: {'topK': 9, 'alpha': 0.20995281809172608, 'beta': 0.24743853912323732, 'normalize_similarity': True, 'implicit': True}. Best is trial 322 with value: 0.04293583733776419.\n"
     ]
    },
    {
     "name": "stdout",
     "output_type": "stream",
     "text": [
      "RP3betaRecommender: Similarity column 38121 (100.0%), 3561.76 column/sec. Elapsed time 10.70 sec\n",
      "EvaluatorHoldout: Processed 35209 (100.0%) in 8.85 sec. Users per second: 3977\n"
     ]
    },
    {
     "name": "stderr",
     "output_type": "stream",
     "text": [
      "[I 2025-01-07 02:17:20,793] Trial 429 finished with value: 0.042770292994168665 and parameters: {'topK': 13, 'alpha': 0.30006442308958053, 'beta': 0.24066358672314195, 'normalize_similarity': True, 'implicit': True}. Best is trial 322 with value: 0.04293583733776419.\n"
     ]
    },
    {
     "name": "stdout",
     "output_type": "stream",
     "text": [
      "RP3betaRecommender: Similarity column 38121 (100.0%), 3476.38 column/sec. Elapsed time 10.97 sec\n",
      "EvaluatorHoldout: Processed 35209 (100.0%) in 8.76 sec. Users per second: 4018\n"
     ]
    },
    {
     "name": "stderr",
     "output_type": "stream",
     "text": [
      "[I 2025-01-07 02:17:40,879] Trial 430 finished with value: 0.042699899286210756 and parameters: {'topK': 10, 'alpha': 0.33054791624599433, 'beta': 0.23255522457283667, 'normalize_similarity': True, 'implicit': True}. Best is trial 322 with value: 0.04293583733776419.\n"
     ]
    },
    {
     "name": "stdout",
     "output_type": "stream",
     "text": [
      "RP3betaRecommender: Similarity column 38121 (100.0%), 3615.99 column/sec. Elapsed time 10.54 sec\n",
      "EvaluatorHoldout: Processed 35209 (100.0%) in 8.86 sec. Users per second: 3972\n"
     ]
    },
    {
     "name": "stderr",
     "output_type": "stream",
     "text": [
      "[I 2025-01-07 02:18:00,654] Trial 431 finished with value: 0.04290408589614589 and parameters: {'topK': 11, 'alpha': 0.305121620638949, 'beta': 0.25045246046773845, 'normalize_similarity': True, 'implicit': True}. Best is trial 322 with value: 0.04293583733776419.\n"
     ]
    },
    {
     "name": "stdout",
     "output_type": "stream",
     "text": [
      "RP3betaRecommender: Similarity column 38121 (100.0%), 3477.67 column/sec. Elapsed time 10.96 sec\n",
      "EvaluatorHoldout: Processed 35209 (100.0%) in 8.87 sec. Users per second: 3969\n"
     ]
    },
    {
     "name": "stderr",
     "output_type": "stream",
     "text": [
      "[I 2025-01-07 02:18:20,862] Trial 432 finished with value: 0.04284284952395199 and parameters: {'topK': 12, 'alpha': 0.3128566878643212, 'beta': 0.24365976449883736, 'normalize_similarity': True, 'implicit': True}. Best is trial 322 with value: 0.04293583733776419.\n"
     ]
    },
    {
     "name": "stdout",
     "output_type": "stream",
     "text": [
      "RP3betaRecommender: Similarity column 38121 (100.0%), 3982.83 column/sec. Elapsed time 9.57 sec\n",
      "EvaluatorHoldout: Processed 35209 (100.0%) in 8.72 sec. Users per second: 4038\n"
     ]
    },
    {
     "name": "stderr",
     "output_type": "stream",
     "text": [
      "[I 2025-01-07 02:18:39,513] Trial 433 finished with value: 0.042751019197380634 and parameters: {'topK': 10, 'alpha': 0.29619937912307837, 'beta': 0.23609345071985025, 'normalize_similarity': True, 'implicit': True}. Best is trial 322 with value: 0.04293583733776419.\n"
     ]
    },
    {
     "name": "stdout",
     "output_type": "stream",
     "text": [
      "RP3betaRecommender: Similarity column 38121 (100.0%), 3377.00 column/sec. Elapsed time 11.29 sec\n",
      "EvaluatorHoldout: Processed 35209 (100.0%) in 8.81 sec. Users per second: 3997\n"
     ]
    },
    {
     "name": "stderr",
     "output_type": "stream",
     "text": [
      "[I 2025-01-07 02:18:59,998] Trial 434 finished with value: 0.04291416291018501 and parameters: {'topK': 11, 'alpha': 0.2903812811254123, 'beta': 0.24647248327999405, 'normalize_similarity': True, 'implicit': True}. Best is trial 322 with value: 0.04293583733776419.\n"
     ]
    },
    {
     "name": "stdout",
     "output_type": "stream",
     "text": [
      "RP3betaRecommender: Similarity column 38121 (100.0%), 3272.21 column/sec. Elapsed time 11.65 sec\n",
      "EvaluatorHoldout: Processed 35209 (100.0%) in 8.87 sec. Users per second: 3969\n"
     ]
    },
    {
     "name": "stderr",
     "output_type": "stream",
     "text": [
      "[I 2025-01-07 02:19:20,893] Trial 435 finished with value: 0.04281212708510955 and parameters: {'topK': 12, 'alpha': 0.287960694624999, 'beta': 0.27863694936817174, 'normalize_similarity': True, 'implicit': True}. Best is trial 322 with value: 0.04293583733776419.\n"
     ]
    },
    {
     "name": "stdout",
     "output_type": "stream",
     "text": [
      "RP3betaRecommender: Similarity column 38121 (100.0%), 3427.89 column/sec. Elapsed time 11.12 sec\n",
      "EvaluatorHoldout: Processed 35209 (100.0%) in 8.86 sec. Users per second: 3975\n"
     ]
    },
    {
     "name": "stderr",
     "output_type": "stream",
     "text": [
      "[I 2025-01-07 02:19:41,244] Trial 436 finished with value: 0.042901178089835554 and parameters: {'topK': 11, 'alpha': 0.29194429095652474, 'beta': 0.2405032090134839, 'normalize_similarity': True, 'implicit': True}. Best is trial 322 with value: 0.04293583733776419.\n"
     ]
    },
    {
     "name": "stdout",
     "output_type": "stream",
     "text": [
      "RP3betaRecommender: Similarity column 38121 (100.0%), 3120.92 column/sec. Elapsed time 12.21 sec\n",
      "EvaluatorHoldout: Processed 35209 (100.0%) in 8.93 sec. Users per second: 3943\n"
     ]
    },
    {
     "name": "stderr",
     "output_type": "stream",
     "text": [
      "[I 2025-01-07 02:20:02,768] Trial 437 finished with value: 0.03455505153579414 and parameters: {'topK': 13, 'alpha': 0.2869914758136802, 'beta': 0.24544023911448165, 'normalize_similarity': False, 'implicit': True}. Best is trial 322 with value: 0.04293583733776419.\n"
     ]
    },
    {
     "name": "stdout",
     "output_type": "stream",
     "text": [
      "RP3betaRecommender: Similarity column 38121 (100.0%), 3318.77 column/sec. Elapsed time 11.49 sec\n",
      "EvaluatorHoldout: Processed 35209 (100.0%) in 8.68 sec. Users per second: 4058\n"
     ]
    },
    {
     "name": "stderr",
     "output_type": "stream",
     "text": [
      "[I 2025-01-07 02:20:23,288] Trial 438 finished with value: 0.04271001462017783 and parameters: {'topK': 10, 'alpha': 0.29453020244734957, 'beta': 0.25209178797328796, 'normalize_similarity': True, 'implicit': True}. Best is trial 322 with value: 0.04293583733776419.\n"
     ]
    },
    {
     "name": "stdout",
     "output_type": "stream",
     "text": [
      "RP3betaRecommender: Similarity column 38121 (100.0%), 4289.87 column/sec. Elapsed time 8.89 sec\n",
      "EvaluatorHoldout: Processed 35209 (100.0%) in 8.74 sec. Users per second: 4030\n"
     ]
    },
    {
     "name": "stderr",
     "output_type": "stream",
     "text": [
      "[I 2025-01-07 02:20:41,249] Trial 439 finished with value: 0.04265914153442738 and parameters: {'topK': 9, 'alpha': 0.30125229076596544, 'beta': 0.260862513523234, 'normalize_similarity': True, 'implicit': True}. Best is trial 322 with value: 0.04293583733776419.\n"
     ]
    },
    {
     "name": "stdout",
     "output_type": "stream",
     "text": [
      "RP3betaRecommender: Similarity column 38121 (100.0%), 3515.17 column/sec. Elapsed time 10.84 sec\n",
      "EvaluatorHoldout: Processed 35209 (100.0%) in 8.83 sec. Users per second: 3986\n"
     ]
    },
    {
     "name": "stderr",
     "output_type": "stream",
     "text": [
      "[I 2025-01-07 02:21:01,295] Trial 440 finished with value: 0.04280252343488832 and parameters: {'topK': 12, 'alpha': 0.36375814493192254, 'beta': 0.2382753344330546, 'normalize_similarity': True, 'implicit': True}. Best is trial 322 with value: 0.04293583733776419.\n"
     ]
    },
    {
     "name": "stdout",
     "output_type": "stream",
     "text": [
      "RP3betaRecommender: Similarity column 38121 (100.0%), 3514.89 column/sec. Elapsed time 10.85 sec\n",
      "EvaluatorHoldout: Processed 35209 (100.0%) in 8.83 sec. Users per second: 3989\n"
     ]
    },
    {
     "name": "stderr",
     "output_type": "stream",
     "text": [
      "[I 2025-01-07 02:21:21,342] Trial 441 finished with value: 0.04288534519718144 and parameters: {'topK': 11, 'alpha': 0.3199614719631765, 'beta': 0.24356000239919223, 'normalize_similarity': True, 'implicit': True}. Best is trial 322 with value: 0.04293583733776419.\n"
     ]
    },
    {
     "name": "stdout",
     "output_type": "stream",
     "text": [
      "RP3betaRecommender: Similarity column 38121 (100.0%), 3601.48 column/sec. Elapsed time 10.58 sec\n",
      "EvaluatorHoldout: Processed 35209 (100.0%) in 8.90 sec. Users per second: 3957\n"
     ]
    },
    {
     "name": "stderr",
     "output_type": "stream",
     "text": [
      "[I 2025-01-07 02:21:41,179] Trial 442 finished with value: 0.04270465208435433 and parameters: {'topK': 10, 'alpha': 0.2883315602939997, 'beta': 0.2480408819163728, 'normalize_similarity': True, 'implicit': True}. Best is trial 322 with value: 0.04293583733776419.\n"
     ]
    },
    {
     "name": "stdout",
     "output_type": "stream",
     "text": [
      "RP3betaRecommender: Similarity column 38121 (100.0%), 3536.62 column/sec. Elapsed time 10.78 sec\n",
      "EvaluatorHoldout: Processed 35209 (100.0%) in 8.94 sec. Users per second: 3940\n"
     ]
    },
    {
     "name": "stderr",
     "output_type": "stream",
     "text": [
      "[I 2025-01-07 02:22:01,296] Trial 443 finished with value: 0.04274376771451211 and parameters: {'topK': 13, 'alpha': 0.2958709916166441, 'beta': 0.2552971173394276, 'normalize_similarity': True, 'implicit': True}. Best is trial 322 with value: 0.04293583733776419.\n"
     ]
    },
    {
     "name": "stdout",
     "output_type": "stream",
     "text": [
      "RP3betaRecommender: Similarity column 38121 (100.0%), 3979.78 column/sec. Elapsed time 9.58 sec\n",
      "EvaluatorHoldout: Processed 35209 (100.0%) in 8.78 sec. Users per second: 4008\n"
     ]
    },
    {
     "name": "stderr",
     "output_type": "stream",
     "text": [
      "[I 2025-01-07 02:22:20,033] Trial 444 finished with value: 0.04290659472438116 and parameters: {'topK': 11, 'alpha': 0.3067922926147035, 'beta': 0.24239746208545634, 'normalize_similarity': True, 'implicit': True}. Best is trial 322 with value: 0.04293583733776419.\n"
     ]
    },
    {
     "name": "stdout",
     "output_type": "stream",
     "text": [
      "RP3betaRecommender: Similarity column 38121 (100.0%), 3509.99 column/sec. Elapsed time 10.86 sec\n",
      "EvaluatorHoldout: Processed 35209 (100.0%) in 8.91 sec. Users per second: 3953\n"
     ]
    },
    {
     "name": "stderr",
     "output_type": "stream",
     "text": [
      "[I 2025-01-07 02:22:40,170] Trial 445 finished with value: 0.04289103908767729 and parameters: {'topK': 12, 'alpha': 0.29949389280893957, 'beta': 0.24919103504880286, 'normalize_similarity': True, 'implicit': False}. Best is trial 322 with value: 0.04293583733776419.\n"
     ]
    },
    {
     "name": "stdout",
     "output_type": "stream",
     "text": [
      "RP3betaRecommender: Similarity column 38121 (100.0%), 3180.97 column/sec. Elapsed time 11.98 sec\n",
      "EvaluatorHoldout: Processed 35209 (100.0%) in 8.77 sec. Users per second: 4013\n"
     ]
    },
    {
     "name": "stderr",
     "output_type": "stream",
     "text": [
      "[I 2025-01-07 02:23:01,291] Trial 446 finished with value: 0.042765268575358 and parameters: {'topK': 10, 'alpha': 0.29102659952597904, 'beta': 0.23749777219293725, 'normalize_similarity': True, 'implicit': True}. Best is trial 322 with value: 0.04293583733776419.\n"
     ]
    },
    {
     "name": "stdout",
     "output_type": "stream",
     "text": [
      "RP3betaRecommender: Similarity column 38121 (100.0%), 4148.39 column/sec. Elapsed time 9.19 sec\n",
      "EvaluatorHoldout: Processed 35209 (100.0%) in 8.86 sec. Users per second: 3975\n"
     ]
    },
    {
     "name": "stderr",
     "output_type": "stream",
     "text": [
      "[I 2025-01-07 02:23:19,726] Trial 447 finished with value: 0.04282307869515508 and parameters: {'topK': 14, 'alpha': 0.27746164264202616, 'beta': 0.22418943870518648, 'normalize_similarity': True, 'implicit': True}. Best is trial 322 with value: 0.04293583733776419.\n"
     ]
    },
    {
     "name": "stdout",
     "output_type": "stream",
     "text": [
      "RP3betaRecommender: Similarity column 38121 (100.0%), 3379.56 column/sec. Elapsed time 11.28 sec\n",
      "EvaluatorHoldout: Processed 35209 (100.0%) in 8.76 sec. Users per second: 4020\n"
     ]
    },
    {
     "name": "stderr",
     "output_type": "stream",
     "text": [
      "[I 2025-01-07 02:23:40,140] Trial 448 finished with value: 0.042873117758940635 and parameters: {'topK': 11, 'alpha': 0.3119889364599255, 'beta': 0.23213699581794078, 'normalize_similarity': True, 'implicit': True}. Best is trial 322 with value: 0.04293583733776419.\n"
     ]
    },
    {
     "name": "stdout",
     "output_type": "stream",
     "text": [
      "RP3betaRecommender: Similarity column 38121 (100.0%), 3186.27 column/sec. Elapsed time 11.96 sec\n",
      "EvaluatorHoldout: Processed 35209 (100.0%) in 8.92 sec. Users per second: 3945\n"
     ]
    },
    {
     "name": "stderr",
     "output_type": "stream",
     "text": [
      "[I 2025-01-07 02:24:01,412] Trial 449 finished with value: 0.04280786230252114 and parameters: {'topK': 13, 'alpha': 0.28377448197383426, 'beta': 0.2472650420510674, 'normalize_similarity': True, 'implicit': True}. Best is trial 322 with value: 0.04293583733776419.\n"
     ]
    },
    {
     "name": "stdout",
     "output_type": "stream",
     "text": [
      "RP3betaRecommender: Similarity column 38121 (100.0%), 3473.46 column/sec. Elapsed time 10.97 sec\n",
      "EvaluatorHoldout: Processed 35209 (100.0%) in 8.74 sec. Users per second: 4029\n"
     ]
    },
    {
     "name": "stderr",
     "output_type": "stream",
     "text": [
      "[I 2025-01-07 02:24:21,460] Trial 450 finished with value: 0.042430618388965204 and parameters: {'topK': 8, 'alpha': 0.23783373630150564, 'beta': 0.25482390983029335, 'normalize_similarity': True, 'implicit': True}. Best is trial 322 with value: 0.04293583733776419.\n"
     ]
    },
    {
     "name": "stdout",
     "output_type": "stream",
     "text": [
      "RP3betaRecommender: Similarity column 38121 (100.0%), 4135.49 column/sec. Elapsed time 9.22 sec\n",
      "EvaluatorHoldout: Processed 35209 (100.0%) in 8.80 sec. Users per second: 3999\n"
     ]
    },
    {
     "name": "stderr",
     "output_type": "stream",
     "text": [
      "[I 2025-01-07 02:24:39,860] Trial 451 finished with value: 0.04270615895917459 and parameters: {'topK': 12, 'alpha': 0.3876344711173106, 'beta': 0.24124485704533016, 'normalize_similarity': True, 'implicit': True}. Best is trial 322 with value: 0.04293583733776419.\n"
     ]
    },
    {
     "name": "stdout",
     "output_type": "stream",
     "text": [
      "RP3betaRecommender: Similarity column 38121 (100.0%), 4155.92 column/sec. Elapsed time 9.17 sec\n",
      "EvaluatorHoldout: Processed 35209 (100.0%) in 9.08 sec. Users per second: 3878\n"
     ]
    },
    {
     "name": "stderr",
     "output_type": "stream",
     "text": [
      "[I 2025-01-07 02:24:58,590] Trial 452 finished with value: 0.04241639944151914 and parameters: {'topK': 21, 'alpha': 0.30411437593274027, 'beta': 0.2513391580162024, 'normalize_similarity': True, 'implicit': True}. Best is trial 322 with value: 0.04293583733776419.\n"
     ]
    },
    {
     "name": "stdout",
     "output_type": "stream",
     "text": [
      "RP3betaRecommender: Similarity column 38121 (100.0%), 3450.13 column/sec. Elapsed time 11.05 sec\n",
      "EvaluatorHoldout: Processed 35209 (100.0%) in 8.59 sec. Users per second: 4098\n"
     ]
    },
    {
     "name": "stderr",
     "output_type": "stream",
     "text": [
      "[I 2025-01-07 02:25:18,574] Trial 453 finished with value: 0.042666636461545046 and parameters: {'topK': 9, 'alpha': 0.2946594878405401, 'beta': 0.2449988622634899, 'normalize_similarity': True, 'implicit': True}. Best is trial 322 with value: 0.04293583733776419.\n"
     ]
    },
    {
     "name": "stdout",
     "output_type": "stream",
     "text": [
      "RP3betaRecommender: Similarity column 38121 (100.0%), 3753.20 column/sec. Elapsed time 10.16 sec\n",
      "EvaluatorHoldout: Processed 35209 (100.0%) in 8.66 sec. Users per second: 4065\n"
     ]
    },
    {
     "name": "stderr",
     "output_type": "stream",
     "text": [
      "[I 2025-01-07 02:25:37,752] Trial 454 finished with value: 0.04271428052982302 and parameters: {'topK': 10, 'alpha': 0.25093358688394723, 'beta': 0.2355511389394779, 'normalize_similarity': True, 'implicit': True}. Best is trial 322 with value: 0.04293583733776419.\n"
     ]
    },
    {
     "name": "stdout",
     "output_type": "stream",
     "text": [
      "RP3betaRecommender: Similarity column 38121 (100.0%), 3330.88 column/sec. Elapsed time 11.44 sec\n",
      "EvaluatorHoldout: Processed 35209 (100.0%) in 8.78 sec. Users per second: 4009\n"
     ]
    },
    {
     "name": "stderr",
     "output_type": "stream",
     "text": [
      "[I 2025-01-07 02:25:58,344] Trial 455 finished with value: 0.042841633429762535 and parameters: {'topK': 11, 'alpha': 0.3079805235249769, 'beta': 0.25836711382673094, 'normalize_similarity': True, 'implicit': True}. Best is trial 322 with value: 0.04293583733776419.\n"
     ]
    },
    {
     "name": "stdout",
     "output_type": "stream",
     "text": [
      "RP3betaRecommender: Similarity column 38121 (100.0%), 3644.58 column/sec. Elapsed time 10.46 sec\n",
      "EvaluatorHoldout: Processed 35209 (100.0%) in 8.91 sec. Users per second: 3951\n"
     ]
    },
    {
     "name": "stderr",
     "output_type": "stream",
     "text": [
      "[I 2025-01-07 02:26:18,101] Trial 456 finished with value: 0.04287050186031795 and parameters: {'topK': 12, 'alpha': 0.3179145625206796, 'beta': 0.24590027525770777, 'normalize_similarity': True, 'implicit': True}. Best is trial 322 with value: 0.04293583733776419.\n"
     ]
    },
    {
     "name": "stdout",
     "output_type": "stream",
     "text": [
      "RP3betaRecommender: Similarity column 38121 (100.0%), 3456.64 column/sec. Elapsed time 11.03 sec\n",
      "EvaluatorHoldout: Processed 35209 (100.0%) in 8.82 sec. Users per second: 3991\n"
     ]
    },
    {
     "name": "stderr",
     "output_type": "stream",
     "text": [
      "[I 2025-01-07 02:26:38,323] Trial 457 finished with value: 0.03486562553675991 and parameters: {'topK': 11, 'alpha': 0.2897981989374545, 'beta': 0.2404508326961276, 'normalize_similarity': False, 'implicit': True}. Best is trial 322 with value: 0.04293583733776419.\n"
     ]
    },
    {
     "name": "stdout",
     "output_type": "stream",
     "text": [
      "RP3betaRecommender: Similarity column 38121 (100.0%), 3705.20 column/sec. Elapsed time 10.29 sec\n",
      "EvaluatorHoldout: Processed 35209 (100.0%) in 8.86 sec. Users per second: 3972\n"
     ]
    },
    {
     "name": "stderr",
     "output_type": "stream",
     "text": [
      "[I 2025-01-07 02:26:57,853] Trial 458 finished with value: 0.0429169940766391 and parameters: {'topK': 11, 'alpha': 0.2994128082751618, 'beta': 0.2517904054534066, 'normalize_similarity': True, 'implicit': True}. Best is trial 322 with value: 0.04293583733776419.\n"
     ]
    },
    {
     "name": "stdout",
     "output_type": "stream",
     "text": [
      "RP3betaRecommender: Similarity column 38121 (100.0%), 3495.60 column/sec. Elapsed time 10.91 sec\n",
      "EvaluatorHoldout: Processed 35209 (100.0%) in 8.82 sec. Users per second: 3993\n"
     ]
    },
    {
     "name": "stderr",
     "output_type": "stream",
     "text": [
      "[I 2025-01-07 02:27:17,947] Trial 459 finished with value: 0.042666805520051525 and parameters: {'topK': 10, 'alpha': 0.3006580256594688, 'beta': 0.26182726816394625, 'normalize_similarity': True, 'implicit': True}. Best is trial 322 with value: 0.04293583733776419.\n"
     ]
    },
    {
     "name": "stdout",
     "output_type": "stream",
     "text": [
      "RP3betaRecommender: Similarity column 38121 (100.0%), 3807.57 column/sec. Elapsed time 10.01 sec\n",
      "EvaluatorHoldout: Processed 35209 (100.0%) in 8.95 sec. Users per second: 3932\n"
     ]
    },
    {
     "name": "stderr",
     "output_type": "stream",
     "text": [
      "[I 2025-01-07 02:27:37,315] Trial 460 finished with value: 0.04282104210368102 and parameters: {'topK': 14, 'alpha': 0.3099266656715188, 'beta': 0.25292521872069057, 'normalize_similarity': True, 'implicit': True}. Best is trial 322 with value: 0.04293583733776419.\n"
     ]
    },
    {
     "name": "stdout",
     "output_type": "stream",
     "text": [
      "RP3betaRecommender: Similarity column 38121 (100.0%), 3483.99 column/sec. Elapsed time 10.94 sec\n",
      "EvaluatorHoldout: Processed 35209 (100.0%) in 8.89 sec. Users per second: 3961\n"
     ]
    },
    {
     "name": "stderr",
     "output_type": "stream",
     "text": [
      "[I 2025-01-07 02:27:57,531] Trial 461 finished with value: 0.04283713083820823 and parameters: {'topK': 12, 'alpha': 0.30169202069272816, 'beta': 0.26475264022127326, 'normalize_similarity': True, 'implicit': True}. Best is trial 322 with value: 0.04293583733776419.\n"
     ]
    },
    {
     "name": "stdout",
     "output_type": "stream",
     "text": [
      "RP3betaRecommender: Similarity column 38121 (100.0%), 3504.13 column/sec. Elapsed time 10.88 sec\n",
      "EvaluatorHoldout: Processed 35209 (100.0%) in 8.83 sec. Users per second: 3986\n"
     ]
    },
    {
     "name": "stderr",
     "output_type": "stream",
     "text": [
      "[I 2025-01-07 02:28:17,641] Trial 462 finished with value: 0.04266023590649222 and parameters: {'topK': 13, 'alpha': 0.4707789772255714, 'beta': 0.2505621250151349, 'normalize_similarity': True, 'implicit': True}. Best is trial 322 with value: 0.04293583733776419.\n"
     ]
    },
    {
     "name": "stdout",
     "output_type": "stream",
     "text": [
      "RP3betaRecommender: Similarity column 38121 (100.0%), 3296.24 column/sec. Elapsed time 11.56 sec\n",
      "EvaluatorHoldout: Processed 35209 (100.0%) in 8.78 sec. Users per second: 4011\n"
     ]
    },
    {
     "name": "stderr",
     "output_type": "stream",
     "text": [
      "[I 2025-01-07 02:28:38,355] Trial 463 finished with value: 0.04284432934941159 and parameters: {'topK': 11, 'alpha': 0.3054649900043949, 'beta': 0.25644114503235527, 'normalize_similarity': True, 'implicit': True}. Best is trial 322 with value: 0.04293583733776419.\n"
     ]
    },
    {
     "name": "stdout",
     "output_type": "stream",
     "text": [
      "RP3betaRecommender: Similarity column 38121 (100.0%), 3462.80 column/sec. Elapsed time 11.01 sec\n",
      "EvaluatorHoldout: Processed 35209 (100.0%) in 8.69 sec. Users per second: 4051\n"
     ]
    },
    {
     "name": "stderr",
     "output_type": "stream",
     "text": [
      "[I 2025-01-07 02:28:58,354] Trial 464 finished with value: 0.04031517577350886 and parameters: {'topK': 5, 'alpha': 0.3405088069666472, 'beta': 0.2501063084259455, 'normalize_similarity': True, 'implicit': False}. Best is trial 322 with value: 0.04293583733776419.\n"
     ]
    },
    {
     "name": "stdout",
     "output_type": "stream",
     "text": [
      "RP3betaRecommender: Similarity column 38121 (100.0%), 3474.20 column/sec. Elapsed time 10.97 sec\n",
      "EvaluatorHoldout: Processed 35209 (100.0%) in 8.87 sec. Users per second: 3969\n"
     ]
    },
    {
     "name": "stderr",
     "output_type": "stream",
     "text": [
      "[I 2025-01-07 02:29:18,555] Trial 465 finished with value: 0.04264734463184968 and parameters: {'topK': 9, 'alpha': 0.3164246903038276, 'beta': 0.24307548963017825, 'normalize_similarity': True, 'implicit': True}. Best is trial 322 with value: 0.04293583733776419.\n"
     ]
    },
    {
     "name": "stdout",
     "output_type": "stream",
     "text": [
      "RP3betaRecommender: Similarity column 38121 (100.0%), 4225.81 column/sec. Elapsed time 9.02 sec\n",
      "EvaluatorHoldout: Processed 35209 (100.0%) in 8.90 sec. Users per second: 3956\n"
     ]
    },
    {
     "name": "stderr",
     "output_type": "stream",
     "text": [
      "[I 2025-01-07 02:29:36,855] Trial 466 finished with value: 0.04286664169108809 and parameters: {'topK': 12, 'alpha': 0.29778074786618947, 'beta': 0.2551207095212053, 'normalize_similarity': True, 'implicit': True}. Best is trial 322 with value: 0.04293583733776419.\n"
     ]
    },
    {
     "name": "stdout",
     "output_type": "stream",
     "text": [
      "RP3betaRecommender: Similarity column 38121 (100.0%), 3244.36 column/sec. Elapsed time 11.75 sec\n",
      "EvaluatorHoldout: Processed 35209 (100.0%) in 8.76 sec. Users per second: 4020\n"
     ]
    },
    {
     "name": "stderr",
     "output_type": "stream",
     "text": [
      "[I 2025-01-07 02:29:57,725] Trial 467 finished with value: 0.04277194864047487 and parameters: {'topK': 10, 'alpha': 0.2968367808146549, 'beta': 0.2377242524108852, 'normalize_similarity': True, 'implicit': True}. Best is trial 322 with value: 0.04293583733776419.\n"
     ]
    },
    {
     "name": "stdout",
     "output_type": "stream",
     "text": [
      "RP3betaRecommender: Similarity column 38121 (100.0%), 3301.68 column/sec. Elapsed time 11.55 sec\n",
      "EvaluatorHoldout: Processed 35209 (100.0%) in 8.82 sec. Users per second: 3991\n"
     ]
    },
    {
     "name": "stderr",
     "output_type": "stream",
     "text": [
      "[I 2025-01-07 02:30:18,466] Trial 468 finished with value: 0.04287195576347328 and parameters: {'topK': 11, 'alpha': 0.3236943608710364, 'beta': 0.2483144078563239, 'normalize_similarity': True, 'implicit': True}. Best is trial 322 with value: 0.04293583733776419.\n"
     ]
    },
    {
     "name": "stdout",
     "output_type": "stream",
     "text": [
      "RP3betaRecommender: Similarity column 38121 (100.0%), 3589.43 column/sec. Elapsed time 10.62 sec\n",
      "EvaluatorHoldout: Processed 35209 (100.0%) in 8.91 sec. Users per second: 3953\n"
     ]
    },
    {
     "name": "stderr",
     "output_type": "stream",
     "text": [
      "[I 2025-01-07 02:30:38,390] Trial 469 finished with value: 0.04282956265240436 and parameters: {'topK': 13, 'alpha': 0.3108975499155321, 'beta': 0.2314250494056671, 'normalize_similarity': True, 'implicit': True}. Best is trial 322 with value: 0.04293583733776419.\n"
     ]
    },
    {
     "name": "stdout",
     "output_type": "stream",
     "text": [
      "RP3betaRecommender: Similarity column 38121 (100.0%), 3524.70 column/sec. Elapsed time 10.82 sec\n",
      "EvaluatorHoldout: Processed 35209 (100.0%) in 9.36 sec. Users per second: 3760\n"
     ]
    },
    {
     "name": "stderr",
     "output_type": "stream",
     "text": [
      "[I 2025-01-07 02:30:59,206] Trial 470 finished with value: 0.04156219414498394 and parameters: {'topK': 34, 'alpha': 0.30396876677411216, 'beta': 0.24349729036553439, 'normalize_similarity': True, 'implicit': True}. Best is trial 322 with value: 0.04293583733776419.\n"
     ]
    },
    {
     "name": "stdout",
     "output_type": "stream",
     "text": [
      "RP3betaRecommender: Similarity column 38121 (100.0%), 3651.40 column/sec. Elapsed time 10.44 sec\n",
      "EvaluatorHoldout: Processed 35209 (100.0%) in 8.82 sec. Users per second: 3991\n"
     ]
    },
    {
     "name": "stderr",
     "output_type": "stream",
     "text": [
      "[I 2025-01-07 02:31:18,834] Trial 471 finished with value: 0.04269301296971604 and parameters: {'topK': 10, 'alpha': 0.2846282189575356, 'beta': 0.2534517946535179, 'normalize_similarity': True, 'implicit': True}. Best is trial 322 with value: 0.04293583733776419.\n"
     ]
    },
    {
     "name": "stdout",
     "output_type": "stream",
     "text": [
      "RP3betaRecommender: Similarity column 38121 (100.0%), 4131.42 column/sec. Elapsed time 9.23 sec\n",
      "EvaluatorHoldout: Processed 35209 (100.0%) in 8.79 sec. Users per second: 4007\n"
     ]
    },
    {
     "name": "stderr",
     "output_type": "stream",
     "text": [
      "[I 2025-01-07 02:31:37,231] Trial 472 finished with value: 0.04290907537619832 and parameters: {'topK': 12, 'alpha': 0.29470265927009676, 'beta': 0.23955162245994804, 'normalize_similarity': True, 'implicit': True}. Best is trial 322 with value: 0.04293583733776419.\n"
     ]
    },
    {
     "name": "stdout",
     "output_type": "stream",
     "text": [
      "RP3betaRecommender: Similarity column 38121 (100.0%), 3320.65 column/sec. Elapsed time 11.48 sec\n",
      "EvaluatorHoldout: Processed 35209 (100.0%) in 8.77 sec. Users per second: 4016\n"
     ]
    },
    {
     "name": "stderr",
     "output_type": "stream",
     "text": [
      "[I 2025-01-07 02:31:57,852] Trial 473 finished with value: 0.0429161048288954 and parameters: {'topK': 11, 'alpha': 0.30025922452620135, 'beta': 0.24713215174917783, 'normalize_similarity': True, 'implicit': True}. Best is trial 322 with value: 0.04293583733776419.\n"
     ]
    },
    {
     "name": "stdout",
     "output_type": "stream",
     "text": [
      "RP3betaRecommender: Similarity column 38121 (100.0%), 3586.84 column/sec. Elapsed time 10.63 sec\n",
      "EvaluatorHoldout: Processed 35209 (100.0%) in 8.70 sec. Users per second: 4045\n"
     ]
    },
    {
     "name": "stderr",
     "output_type": "stream",
     "text": [
      "[I 2025-01-07 02:32:17,541] Trial 474 finished with value: 0.042697080517380435 and parameters: {'topK': 9, 'alpha': 0.30941972382469296, 'beta': 0.23530362727809095, 'normalize_similarity': True, 'implicit': True}. Best is trial 322 with value: 0.04293583733776419.\n"
     ]
    },
    {
     "name": "stdout",
     "output_type": "stream",
     "text": [
      "RP3betaRecommender: Similarity column 38121 (100.0%), 3611.67 column/sec. Elapsed time 10.55 sec\n",
      "EvaluatorHoldout: Processed 35209 (100.0%) in 8.70 sec. Users per second: 4045\n"
     ]
    },
    {
     "name": "stderr",
     "output_type": "stream",
     "text": [
      "[I 2025-01-07 02:32:37,162] Trial 475 finished with value: 0.04277245130776723 and parameters: {'topK': 10, 'alpha': 0.3757053945791098, 'beta': 0.24468629554512322, 'normalize_similarity': True, 'implicit': True}. Best is trial 322 with value: 0.04293583733776419.\n"
     ]
    },
    {
     "name": "stdout",
     "output_type": "stream",
     "text": [
      "RP3betaRecommender: Similarity column 38121 (100.0%), 3498.58 column/sec. Elapsed time 10.90 sec\n",
      "EvaluatorHoldout: Processed 35209 (100.0%) in 8.84 sec. Users per second: 3984\n"
     ]
    },
    {
     "name": "stderr",
     "output_type": "stream",
     "text": [
      "[I 2025-01-07 02:32:57,285] Trial 476 finished with value: 0.035479177176469534 and parameters: {'topK': 11, 'alpha': 0.31551363057775705, 'beta': 0.2508943336998909, 'normalize_similarity': False, 'implicit': True}. Best is trial 322 with value: 0.04293583733776419.\n"
     ]
    },
    {
     "name": "stdout",
     "output_type": "stream",
     "text": [
      "RP3betaRecommender: Similarity column 38121 (100.0%), 3484.23 column/sec. Elapsed time 10.94 sec\n",
      "EvaluatorHoldout: Processed 35209 (100.0%) in 8.86 sec. Users per second: 3973\n"
     ]
    },
    {
     "name": "stderr",
     "output_type": "stream",
     "text": [
      "[I 2025-01-07 02:33:17,462] Trial 477 finished with value: 0.042807289757712655 and parameters: {'topK': 11, 'alpha': 0.3020679923268833, 'beta': 0.25819223535371894, 'normalize_similarity': True, 'implicit': True}. Best is trial 322 with value: 0.04293583733776419.\n"
     ]
    },
    {
     "name": "stdout",
     "output_type": "stream",
     "text": [
      "RP3betaRecommender: Similarity column 38121 (100.0%), 3753.89 column/sec. Elapsed time 10.16 sec\n",
      "EvaluatorHoldout: Processed 35209 (100.0%) in 8.81 sec. Users per second: 3996\n"
     ]
    },
    {
     "name": "stderr",
     "output_type": "stream",
     "text": [
      "[I 2025-01-07 02:33:36,799] Trial 478 finished with value: 0.04269800470388219 and parameters: {'topK': 10, 'alpha': 0.30697295524445456, 'beta': 0.22792274694206455, 'normalize_similarity': True, 'implicit': True}. Best is trial 322 with value: 0.04293583733776419.\n"
     ]
    },
    {
     "name": "stdout",
     "output_type": "stream",
     "text": [
      "RP3betaRecommender: Similarity column 38121 (100.0%), 4296.86 column/sec. Elapsed time 8.87 sec\n",
      "EvaluatorHoldout: Processed 35209 (100.0%) in 8.76 sec. Users per second: 4017\n"
     ]
    },
    {
     "name": "stderr",
     "output_type": "stream",
     "text": [
      "[I 2025-01-07 02:33:54,755] Trial 479 finished with value: 0.04211141338771879 and parameters: {'topK': 7, 'alpha': 0.2913633317286682, 'beta': 0.24592553816856857, 'normalize_similarity': True, 'implicit': True}. Best is trial 322 with value: 0.04293583733776419.\n"
     ]
    },
    {
     "name": "stdout",
     "output_type": "stream",
     "text": [
      "RP3betaRecommender: Similarity column 38121 (100.0%), 3635.37 column/sec. Elapsed time 10.49 sec\n",
      "EvaluatorHoldout: Processed 35209 (100.0%) in 8.88 sec. Users per second: 3966\n"
     ]
    },
    {
     "name": "stderr",
     "output_type": "stream",
     "text": [
      "[I 2025-01-07 02:34:14,496] Trial 480 finished with value: 0.04292248396987082 and parameters: {'topK': 11, 'alpha': 0.3016407223369753, 'beta': 0.24122339427743436, 'normalize_similarity': True, 'implicit': True}. Best is trial 322 with value: 0.04293583733776419.\n"
     ]
    },
    {
     "name": "stdout",
     "output_type": "stream",
     "text": [
      "RP3betaRecommender: Similarity column 38121 (100.0%), 3835.32 column/sec. Elapsed time 9.94 sec\n",
      "EvaluatorHoldout: Processed 35209 (100.0%) in 8.73 sec. Users per second: 4031\n"
     ]
    },
    {
     "name": "stderr",
     "output_type": "stream",
     "text": [
      "[I 2025-01-07 02:34:33,511] Trial 481 finished with value: 0.0425420268176364 and parameters: {'topK': 9, 'alpha': 0.40164283540728185, 'beta': 0.24047930279778978, 'normalize_similarity': True, 'implicit': True}. Best is trial 322 with value: 0.04293583733776419.\n"
     ]
    },
    {
     "name": "stdout",
     "output_type": "stream",
     "text": [
      "RP3betaRecommender: Similarity column 38121 (100.0%), 4174.08 column/sec. Elapsed time 9.13 sec\n",
      "EvaluatorHoldout: Processed 35209 (100.0%) in 8.75 sec. Users per second: 4024\n"
     ]
    },
    {
     "name": "stderr",
     "output_type": "stream",
     "text": [
      "[I 2025-01-07 02:34:51,754] Trial 482 finished with value: 0.042761181867729654 and parameters: {'topK': 10, 'alpha': 0.31570328297972283, 'beta': 0.23886595857580306, 'normalize_similarity': True, 'implicit': True}. Best is trial 322 with value: 0.04293583733776419.\n"
     ]
    },
    {
     "name": "stdout",
     "output_type": "stream",
     "text": [
      "RP3betaRecommender: Similarity column 38121 (100.0%), 3370.84 column/sec. Elapsed time 11.31 sec\n",
      "EvaluatorHoldout: Processed 35209 (100.0%) in 8.80 sec. Users per second: 4000\n"
     ]
    },
    {
     "name": "stderr",
     "output_type": "stream",
     "text": [
      "[I 2025-01-07 02:35:12,245] Trial 483 finished with value: 0.0428979107524349 and parameters: {'topK': 11, 'alpha': 0.30231376191367765, 'beta': 0.2514935177907625, 'normalize_similarity': True, 'implicit': False}. Best is trial 322 with value: 0.04293583733776419.\n"
     ]
    },
    {
     "name": "stdout",
     "output_type": "stream",
     "text": [
      "RP3betaRecommender: Similarity column 38121 (100.0%), 3681.20 column/sec. Elapsed time 10.36 sec\n",
      "EvaluatorHoldout: Processed 35209 (100.0%) in 8.70 sec. Users per second: 4046\n"
     ]
    },
    {
     "name": "stderr",
     "output_type": "stream",
     "text": [
      "[I 2025-01-07 02:35:31,651] Trial 484 finished with value: 0.04267731306975362 and parameters: {'topK': 9, 'alpha': 0.3100092611161361, 'beta': 0.23599384960849712, 'normalize_similarity': True, 'implicit': True}. Best is trial 322 with value: 0.04293583733776419.\n"
     ]
    },
    {
     "name": "stdout",
     "output_type": "stream",
     "text": [
      "RP3betaRecommender: Similarity column 38121 (100.0%), 3638.34 column/sec. Elapsed time 10.48 sec\n",
      "EvaluatorHoldout: Processed 35209 (100.0%) in 8.84 sec. Users per second: 3983\n"
     ]
    },
    {
     "name": "stderr",
     "output_type": "stream",
     "text": [
      "[I 2025-01-07 02:35:51,345] Trial 485 finished with value: 0.0428631545776294 and parameters: {'topK': 11, 'alpha': 0.2737846416892047, 'beta': 0.24684511775556078, 'normalize_similarity': True, 'implicit': True}. Best is trial 322 with value: 0.04293583733776419.\n"
     ]
    },
    {
     "name": "stdout",
     "output_type": "stream",
     "text": [
      "RP3betaRecommender: Similarity column 38121 (100.0%), 3437.78 column/sec. Elapsed time 11.09 sec\n",
      "EvaluatorHoldout: Processed 35209 (100.0%) in 8.90 sec. Users per second: 3958\n"
     ]
    },
    {
     "name": "stderr",
     "output_type": "stream",
     "text": [
      "[I 2025-01-07 02:36:11,694] Trial 486 finished with value: 0.04288968211139941 and parameters: {'topK': 11, 'alpha': 0.2819910228764583, 'beta': 0.2438210775716312, 'normalize_similarity': True, 'implicit': True}. Best is trial 322 with value: 0.04293583733776419.\n"
     ]
    },
    {
     "name": "stdout",
     "output_type": "stream",
     "text": [
      "RP3betaRecommender: Similarity column 38121 (100.0%), 3410.94 column/sec. Elapsed time 11.18 sec\n",
      "EvaluatorHoldout: Processed 35209 (100.0%) in 8.84 sec. Users per second: 3982\n"
     ]
    },
    {
     "name": "stderr",
     "output_type": "stream",
     "text": [
      "[I 2025-01-07 02:36:32,076] Trial 487 finished with value: 0.0427044266730125 and parameters: {'topK': 10, 'alpha': 0.2997520238586904, 'beta': 0.24879236195977705, 'normalize_similarity': True, 'implicit': True}. Best is trial 322 with value: 0.04293583733776419.\n"
     ]
    },
    {
     "name": "stdout",
     "output_type": "stream",
     "text": [
      "RP3betaRecommender: Similarity column 38121 (100.0%), 4147.90 column/sec. Elapsed time 9.19 sec\n",
      "EvaluatorHoldout: Processed 35209 (100.0%) in 8.85 sec. Users per second: 3977\n"
     ]
    },
    {
     "name": "stderr",
     "output_type": "stream",
     "text": [
      "[I 2025-01-07 02:36:50,488] Trial 488 finished with value: 0.04284641778549401 and parameters: {'topK': 12, 'alpha': 0.30547263092178195, 'beta': 0.2541086229003137, 'normalize_similarity': True, 'implicit': True}. Best is trial 322 with value: 0.04293583733776419.\n"
     ]
    },
    {
     "name": "stdout",
     "output_type": "stream",
     "text": [
      "RP3betaRecommender: Similarity column 38121 (100.0%), 3395.19 column/sec. Elapsed time 11.23 sec\n",
      "EvaluatorHoldout: Processed 35209 (100.0%) in 8.74 sec. Users per second: 4028\n"
     ]
    },
    {
     "name": "stderr",
     "output_type": "stream",
     "text": [
      "[I 2025-01-07 02:37:10,823] Trial 489 finished with value: 0.04284431131650414 and parameters: {'topK': 11, 'alpha': 0.3221900379448979, 'beta': 0.23281322049426836, 'normalize_similarity': True, 'implicit': True}. Best is trial 322 with value: 0.04293583733776419.\n"
     ]
    },
    {
     "name": "stdout",
     "output_type": "stream",
     "text": [
      "RP3betaRecommender: Similarity column 38121 (100.0%), 3522.10 column/sec. Elapsed time 10.82 sec\n",
      "EvaluatorHoldout: Processed 35209 (100.0%) in 8.72 sec. Users per second: 4035\n"
     ]
    },
    {
     "name": "stderr",
     "output_type": "stream",
     "text": [
      "[I 2025-01-07 02:37:30,718] Trial 490 finished with value: 0.04266439474575001 and parameters: {'topK': 9, 'alpha': 0.29069623592107496, 'beta': 0.2431814911000313, 'normalize_similarity': True, 'implicit': True}. Best is trial 322 with value: 0.04293583733776419.\n"
     ]
    },
    {
     "name": "stdout",
     "output_type": "stream",
     "text": [
      "RP3betaRecommender: Similarity column 38121 (100.0%), 4165.71 column/sec. Elapsed time 9.15 sec\n",
      "EvaluatorHoldout: Processed 35209 (100.0%) in 9.24 sec. Users per second: 3812\n"
     ]
    },
    {
     "name": "stderr",
     "output_type": "stream",
     "text": [
      "[I 2025-01-07 02:37:49,621] Trial 491 finished with value: 0.04219708322231666 and parameters: {'topK': 24, 'alpha': 0.29553040025682475, 'beta': 0.2584341776839576, 'normalize_similarity': True, 'implicit': True}. Best is trial 322 with value: 0.04293583733776419.\n"
     ]
    },
    {
     "name": "stdout",
     "output_type": "stream",
     "text": [
      "RP3betaRecommender: Similarity column 38121 (100.0%), 3400.68 column/sec. Elapsed time 11.21 sec\n",
      "EvaluatorHoldout: Processed 35209 (100.0%) in 8.89 sec. Users per second: 3960\n"
     ]
    },
    {
     "name": "stderr",
     "output_type": "stream",
     "text": [
      "[I 2025-01-07 02:38:10,083] Trial 492 finished with value: 0.04277708914612669 and parameters: {'topK': 10, 'alpha': 0.3117092503961883, 'beta': 0.2400072333383886, 'normalize_similarity': True, 'implicit': True}. Best is trial 322 with value: 0.04293583733776419.\n"
     ]
    },
    {
     "name": "stdout",
     "output_type": "stream",
     "text": [
      "RP3betaRecommender: Similarity column 38121 (100.0%), 3694.53 column/sec. Elapsed time 10.32 sec\n",
      "EvaluatorHoldout: Processed 35209 (100.0%) in 8.82 sec. Users per second: 3991\n"
     ]
    },
    {
     "name": "stderr",
     "output_type": "stream",
     "text": [
      "[I 2025-01-07 02:38:29,601] Trial 493 finished with value: 0.042914134733767345 and parameters: {'topK': 11, 'alpha': 0.2869229906761936, 'beta': 0.24818784140140135, 'normalize_similarity': True, 'implicit': True}. Best is trial 322 with value: 0.04293583733776419.\n"
     ]
    },
    {
     "name": "stdout",
     "output_type": "stream",
     "text": [
      "RP3betaRecommender: Similarity column 38121 (100.0%), 4139.43 column/sec. Elapsed time 9.21 sec\n",
      "EvaluatorHoldout: Processed 35209 (100.0%) in 8.74 sec. Users per second: 4030\n"
     ]
    },
    {
     "name": "stderr",
     "output_type": "stream",
     "text": [
      "[I 2025-01-07 02:38:47,907] Trial 494 finished with value: 0.04256281988686874 and parameters: {'topK': 12, 'alpha': 0.3028876578420782, 'beta': 0.13726456580103963, 'normalize_similarity': True, 'implicit': True}. Best is trial 322 with value: 0.04293583733776419.\n"
     ]
    },
    {
     "name": "stdout",
     "output_type": "stream",
     "text": [
      "RP3betaRecommender: Similarity column 38121 (100.0%), 3487.91 column/sec. Elapsed time 10.93 sec\n",
      "EvaluatorHoldout: Processed 35209 (100.0%) in 8.82 sec. Users per second: 3991\n"
     ]
    },
    {
     "name": "stderr",
     "output_type": "stream",
     "text": [
      "[I 2025-01-07 02:39:08,020] Trial 495 finished with value: 0.035487045159357994 and parameters: {'topK': 10, 'alpha': 0.29939648940097907, 'beta': 0.25096999061402114, 'normalize_similarity': False, 'implicit': True}. Best is trial 322 with value: 0.04293583733776419.\n"
     ]
    },
    {
     "name": "stdout",
     "output_type": "stream",
     "text": [
      "RP3betaRecommender: Similarity column 38121 (100.0%), 3864.69 column/sec. Elapsed time 9.86 sec\n",
      "EvaluatorHoldout: Processed 35209 (100.0%) in 8.71 sec. Users per second: 4040\n"
     ]
    },
    {
     "name": "stderr",
     "output_type": "stream",
     "text": [
      "[I 2025-01-07 02:39:26,931] Trial 496 finished with value: 0.042456526041545074 and parameters: {'topK': 8, 'alpha': 0.2927648926415176, 'beta': 0.23541119204401, 'normalize_similarity': True, 'implicit': True}. Best is trial 322 with value: 0.04293583733776419.\n"
     ]
    },
    {
     "name": "stdout",
     "output_type": "stream",
     "text": [
      "RP3betaRecommender: Similarity column 38121 (100.0%), 3997.49 column/sec. Elapsed time 9.54 sec\n",
      "EvaluatorHoldout: Processed 35209 (100.0%) in 8.86 sec. Users per second: 3972\n"
     ]
    },
    {
     "name": "stderr",
     "output_type": "stream",
     "text": [
      "[I 2025-01-07 02:39:45,706] Trial 497 finished with value: 0.0428348677083358 and parameters: {'topK': 11, 'alpha': 0.334593058920543, 'beta': 0.2450383026985099, 'normalize_similarity': True, 'implicit': True}. Best is trial 322 with value: 0.04293583733776419.\n"
     ]
    },
    {
     "name": "stdout",
     "output_type": "stream",
     "text": [
      "RP3betaRecommender: Similarity column 38121 (100.0%), 3598.91 column/sec. Elapsed time 10.59 sec\n",
      "EvaluatorHoldout: Processed 35209 (100.0%) in 8.74 sec. Users per second: 4027\n"
     ]
    },
    {
     "name": "stderr",
     "output_type": "stream",
     "text": [
      "[I 2025-01-07 02:40:05,406] Trial 498 finished with value: 0.04271135807177545 and parameters: {'topK': 10, 'alpha': 0.27902356422737273, 'beta': 0.2408176834120574, 'normalize_similarity': True, 'implicit': True}. Best is trial 322 with value: 0.04293583733776419.\n"
     ]
    },
    {
     "name": "stdout",
     "output_type": "stream",
     "text": [
      "RP3betaRecommender: Similarity column 38121 (100.0%), 3521.74 column/sec. Elapsed time 10.82 sec\n",
      "EvaluatorHoldout: Processed 35209 (100.0%) in 8.86 sec. Users per second: 3972\n"
     ]
    },
    {
     "name": "stderr",
     "output_type": "stream",
     "text": [
      "[I 2025-01-07 02:40:25,495] Trial 499 finished with value: 0.042828863877244515 and parameters: {'topK': 12, 'alpha': 0.30713649581819324, 'beta': 0.2530503326029971, 'normalize_similarity': True, 'implicit': True}. Best is trial 322 with value: 0.04293583733776419.\n"
     ]
    }
   ],
   "source": [
    "optuna_study_beta = op.create_study(direction=\"maximize\")\n",
    "        \n",
    "save_results_beta = SaveResults(\"result_experiments/RP3beta/results_optuna_map.csv\")\n",
    "        \n",
    "optuna_study_beta.optimize(objective_function_P3_beta,\n",
    "                      callbacks=[save_results_beta],\n",
    "                      n_trials = 500)"
   ]
  },
  {
   "cell_type": "code",
   "execution_count": 15,
   "id": "a4b2f3fe-3fc6-4d28-9161-c60a323ba871",
   "metadata": {},
   "outputs": [
    {
     "data": {
      "text/plain": [
       "({'topK': 11,\n",
       "  'alpha': 0.22265853091374718,\n",
       "  'beta': 0.25109461460614335,\n",
       "  'normalize_similarity': True,\n",
       "  'implicit': True},\n",
       " 0.04293583733776419)"
      ]
     },
     "execution_count": 15,
     "metadata": {},
     "output_type": "execute_result"
    }
   ],
   "source": [
    "optuna_study_beta.best_params, optuna_study_beta.best_value"
   ]
  },
  {
   "cell_type": "code",
   "execution_count": 12,
   "id": "c27778b0-76f1-4b72-95aa-3adc13784b6b",
   "metadata": {},
   "outputs": [],
   "source": [
    "# save_results_beta.results_df.to_csv(\"result_experiments/RP3beta/results_optuna_20.csv\")"
   ]
  },
  {
   "cell_type": "code",
   "execution_count": 12,
   "id": "d91c184e-1fa1-4836-9c14-c748126780e6",
   "metadata": {
    "scrolled": true
   },
   "outputs": [
    {
     "name": "stderr",
     "output_type": "stream",
     "text": [
      "[I 2025-01-05 22:29:33,729] A new study created in memory with name: no-name-45826424-b985-4564-a578-c456c1e53536\n"
     ]
    },
    {
     "name": "stdout",
     "output_type": "stream",
     "text": [
      "P3alphaRecommender: Similarity column 38121 (100.0%), 5340.98 column/sec. Elapsed time 7.14 sec\n",
      "EvaluatorHoldout: Processed 34728 (100.0%) in 8.19 sec. Users per second: 4238\n"
     ]
    },
    {
     "name": "stderr",
     "output_type": "stream",
     "text": [
      "[I 2025-01-05 22:29:49,349] Trial 0 finished with value: 0.026831234711114888 and parameters: {'topK': 8, 'alpha': 0.6094379801732381}. Best is trial 0 with value: 0.026831234711114888.\n"
     ]
    },
    {
     "name": "stdout",
     "output_type": "stream",
     "text": [
      "P3alphaRecommender: Similarity column 38121 (100.0%), 5037.19 column/sec. Elapsed time 7.57 sec\n",
      "EvaluatorHoldout: Processed 34728 (100.0%) in 8.85 sec. Users per second: 3926\n"
     ]
    },
    {
     "name": "stderr",
     "output_type": "stream",
     "text": [
      "[I 2025-01-05 22:30:06,391] Trial 1 finished with value: 0.02680136996632266 and parameters: {'topK': 44, 'alpha': 0.5657407188050275}. Best is trial 0 with value: 0.026831234711114888.\n"
     ]
    },
    {
     "name": "stdout",
     "output_type": "stream",
     "text": [
      "P3alphaRecommender: Similarity column 38121 (100.0%), 5272.15 column/sec. Elapsed time 7.23 sec\n",
      "EvaluatorHoldout: Processed 34728 (100.0%) in 8.25 sec. Users per second: 4211\n"
     ]
    },
    {
     "name": "stderr",
     "output_type": "stream",
     "text": [
      "[I 2025-01-05 22:30:22,175] Trial 2 finished with value: 0.026941008444765546 and parameters: {'topK': 10, 'alpha': 0.6643650809105279}. Best is trial 2 with value: 0.026941008444765546.\n"
     ]
    },
    {
     "name": "stdout",
     "output_type": "stream",
     "text": [
      "P3alphaRecommender: Similarity column 38121 (100.0%), 2404.94 column/sec. Elapsed time 15.85 sec\n",
      "EvaluatorHoldout: Processed 34728 (100.0%) in 8.44 sec. Users per second: 4114\n"
     ]
    },
    {
     "name": "stderr",
     "output_type": "stream",
     "text": [
      "[I 2025-01-05 22:30:46,694] Trial 3 finished with value: 0.019289433666809252 and parameters: {'topK': 2, 'alpha': 0.31709110076592356}. Best is trial 2 with value: 0.026941008444765546.\n"
     ]
    },
    {
     "name": "stdout",
     "output_type": "stream",
     "text": [
      "P3alphaRecommender: Similarity column 38121 (100.0%), 4962.27 column/sec. Elapsed time 7.68 sec\n",
      "EvaluatorHoldout: Processed 34728 (100.0%) in 8.42 sec. Users per second: 4123\n"
     ]
    },
    {
     "name": "stderr",
     "output_type": "stream",
     "text": [
      "[I 2025-01-05 22:31:03,177] Trial 4 finished with value: 0.02764493816800242 and parameters: {'topK': 19, 'alpha': 0.33860566701280526}. Best is trial 4 with value: 0.02764493816800242.\n"
     ]
    },
    {
     "name": "stdout",
     "output_type": "stream",
     "text": [
      "P3alphaRecommender: Similarity column 38121 (100.0%), 5310.83 column/sec. Elapsed time 7.18 sec\n",
      "EvaluatorHoldout: Processed 34728 (100.0%) in 8.33 sec. Users per second: 4168\n"
     ]
    },
    {
     "name": "stderr",
     "output_type": "stream",
     "text": [
      "[I 2025-01-05 22:31:19,025] Trial 5 finished with value: 0.027502401886039647 and parameters: {'topK': 15, 'alpha': 0.6227814135100632}. Best is trial 4 with value: 0.02764493816800242.\n"
     ]
    },
    {
     "name": "stdout",
     "output_type": "stream",
     "text": [
      "P3alphaRecommender: Similarity column 38121 (100.0%), 5150.98 column/sec. Elapsed time 7.40 sec\n",
      "EvaluatorHoldout: Processed 34728 (100.0%) in 8.53 sec. Users per second: 4069\n"
     ]
    },
    {
     "name": "stderr",
     "output_type": "stream",
     "text": [
      "[I 2025-01-05 22:31:35,406] Trial 6 finished with value: 0.02742985624334884 and parameters: {'topK': 27, 'alpha': 0.43926020954754924}. Best is trial 4 with value: 0.02764493816800242.\n"
     ]
    },
    {
     "name": "stdout",
     "output_type": "stream",
     "text": [
      "P3alphaRecommender: Similarity column 38121 (100.0%), 5082.44 column/sec. Elapsed time 7.50 sec\n",
      "EvaluatorHoldout: Processed 34728 (100.0%) in 8.74 sec. Users per second: 3974\n"
     ]
    },
    {
     "name": "stderr",
     "output_type": "stream",
     "text": [
      "[I 2025-01-05 22:31:52,147] Trial 7 finished with value: 0.027050295402272974 and parameters: {'topK': 34, 'alpha': 0.2854204972951472}. Best is trial 4 with value: 0.02764493816800242.\n"
     ]
    },
    {
     "name": "stdout",
     "output_type": "stream",
     "text": [
      "P3alphaRecommender: Similarity column 38121 (100.0%), 4736.27 column/sec. Elapsed time 8.05 sec\n",
      "EvaluatorHoldout: Processed 34728 (100.0%) in 9.22 sec. Users per second: 3766\n"
     ]
    },
    {
     "name": "stderr",
     "output_type": "stream",
     "text": [
      "[I 2025-01-05 22:32:10,025] Trial 8 finished with value: 0.026825134011985323 and parameters: {'topK': 41, 'alpha': 0.592356031244153}. Best is trial 4 with value: 0.02764493816800242.\n"
     ]
    },
    {
     "name": "stdout",
     "output_type": "stream",
     "text": [
      "P3alphaRecommender: Similarity column 38121 (100.0%), 4735.99 column/sec. Elapsed time 8.05 sec\n",
      "EvaluatorHoldout: Processed 34728 (100.0%) in 9.21 sec. Users per second: 3769\n"
     ]
    },
    {
     "name": "stderr",
     "output_type": "stream",
     "text": [
      "[I 2025-01-05 22:32:27,928] Trial 9 finished with value: 0.026685532098886508 and parameters: {'topK': 46, 'alpha': 0.38705451161198434}. Best is trial 4 with value: 0.02764493816800242.\n"
     ]
    },
    {
     "name": "stdout",
     "output_type": "stream",
     "text": [
      "P3alphaRecommender: Similarity column 38121 (100.0%), 4969.94 column/sec. Elapsed time 7.67 sec\n",
      "EvaluatorHoldout: Processed 34728 (100.0%) in 9.12 sec. Users per second: 3809\n"
     ]
    },
    {
     "name": "stderr",
     "output_type": "stream",
     "text": [
      "[I 2025-01-05 22:32:45,119] Trial 10 finished with value: 0.027420265839192083 and parameters: {'topK': 21, 'alpha': 0.21349091505889278}. Best is trial 4 with value: 0.02764493816800242.\n"
     ]
    },
    {
     "name": "stdout",
     "output_type": "stream",
     "text": [
      "P3alphaRecommender: Similarity column 38121 (100.0%), 4807.65 column/sec. Elapsed time 7.93 sec\n",
      "EvaluatorHoldout: Processed 34728 (100.0%) in 9.08 sec. Users per second: 3823\n"
     ]
    },
    {
     "name": "stderr",
     "output_type": "stream",
     "text": [
      "[I 2025-01-05 22:33:02,528] Trial 11 finished with value: 0.027641377617620762 and parameters: {'topK': 19, 'alpha': 0.5169814914089669}. Best is trial 4 with value: 0.02764493816800242.\n"
     ]
    },
    {
     "name": "stdout",
     "output_type": "stream",
     "text": [
      "P3alphaRecommender: Similarity column 38121 (100.0%), 4801.61 column/sec. Elapsed time 7.94 sec\n",
      "EvaluatorHoldout: Processed 34728 (100.0%) in 8.91 sec. Users per second: 3897\n"
     ]
    },
    {
     "name": "stderr",
     "output_type": "stream",
     "text": [
      "[I 2025-01-05 22:33:19,801] Trial 12 finished with value: 0.027577558522832526 and parameters: {'topK': 22, 'alpha': 0.4973819352094403}. Best is trial 4 with value: 0.02764493816800242.\n"
     ]
    },
    {
     "name": "stdout",
     "output_type": "stream",
     "text": [
      "P3alphaRecommender: Similarity column 38121 (100.0%), 4804.13 column/sec. Elapsed time 7.94 sec\n",
      "EvaluatorHoldout: Processed 34728 (100.0%) in 8.81 sec. Users per second: 3940\n"
     ]
    },
    {
     "name": "stderr",
     "output_type": "stream",
     "text": [
      "[I 2025-01-05 22:33:37,046] Trial 13 finished with value: 0.02722582048061421 and parameters: {'topK': 30, 'alpha': 0.4872768267630002}. Best is trial 4 with value: 0.02764493816800242.\n"
     ]
    },
    {
     "name": "stdout",
     "output_type": "stream",
     "text": [
      "P3alphaRecommender: Similarity column 38121 (100.0%), 4964.20 column/sec. Elapsed time 7.68 sec\n",
      "EvaluatorHoldout: Processed 34728 (100.0%) in 8.75 sec. Users per second: 3967\n"
     ]
    },
    {
     "name": "stderr",
     "output_type": "stream",
     "text": [
      "[I 2025-01-05 22:33:53,835] Trial 14 finished with value: 0.027701486472650232 and parameters: {'topK': 17, 'alpha': 0.3735388588525447}. Best is trial 14 with value: 0.027701486472650232.\n"
     ]
    },
    {
     "name": "stdout",
     "output_type": "stream",
     "text": [
      "P3alphaRecommender: Similarity column 38121 (100.0%), 4932.50 column/sec. Elapsed time 7.73 sec\n",
      "EvaluatorHoldout: Processed 34728 (100.0%) in 8.68 sec. Users per second: 4002\n"
     ]
    },
    {
     "name": "stderr",
     "output_type": "stream",
     "text": [
      "[I 2025-01-05 22:34:10,575] Trial 15 finished with value: 0.02771136939955978 and parameters: {'topK': 14, 'alpha': 0.37222281675867874}. Best is trial 15 with value: 0.02771136939955978.\n"
     ]
    },
    {
     "name": "stdout",
     "output_type": "stream",
     "text": [
      "P3alphaRecommender: Similarity column 38121 (100.0%), 4958.31 column/sec. Elapsed time 7.69 sec\n",
      "EvaluatorHoldout: Processed 34728 (100.0%) in 8.68 sec. Users per second: 3999\n"
     ]
    },
    {
     "name": "stderr",
     "output_type": "stream",
     "text": [
      "[I 2025-01-05 22:34:27,274] Trial 16 finished with value: 0.027689948963920283 and parameters: {'topK': 13, 'alpha': 0.3978838404914335}. Best is trial 15 with value: 0.02771136939955978.\n"
     ]
    },
    {
     "name": "stdout",
     "output_type": "stream",
     "text": [
      "P3alphaRecommender: Similarity column 38121 (100.0%), 5133.32 column/sec. Elapsed time 7.43 sec\n",
      "EvaluatorHoldout: Processed 34728 (100.0%) in 8.34 sec. Users per second: 4162\n"
     ]
    },
    {
     "name": "stderr",
     "output_type": "stream",
     "text": [
      "[I 2025-01-05 22:34:43,305] Trial 17 finished with value: 0.026214347646836694 and parameters: {'topK': 6, 'alpha': 0.23786733149608433}. Best is trial 15 with value: 0.02771136939955978.\n"
     ]
    },
    {
     "name": "stdout",
     "output_type": "stream",
     "text": [
      "P3alphaRecommender: Similarity column 38121 (100.0%), 4894.41 column/sec. Elapsed time 7.79 sec\n",
      "EvaluatorHoldout: Processed 34728 (100.0%) in 8.80 sec. Users per second: 3945\n"
     ]
    },
    {
     "name": "stderr",
     "output_type": "stream",
     "text": [
      "[I 2025-01-05 22:35:00,256] Trial 18 finished with value: 0.02769490128271153 and parameters: {'topK': 15, 'alpha': 0.38379954064741356}. Best is trial 15 with value: 0.02771136939955978.\n"
     ]
    },
    {
     "name": "stdout",
     "output_type": "stream",
     "text": [
      "P3alphaRecommender: Similarity column 38121 (100.0%), 4714.51 column/sec. Elapsed time 8.09 sec\n",
      "EvaluatorHoldout: Processed 34728 (100.0%) in 9.03 sec. Users per second: 3845\n"
     ]
    },
    {
     "name": "stderr",
     "output_type": "stream",
     "text": [
      "[I 2025-01-05 22:35:17,919] Trial 19 finished with value: 0.026895409175341084 and parameters: {'topK': 37, 'alpha': 0.27186170307623897}. Best is trial 15 with value: 0.02771136939955978.\n"
     ]
    },
    {
     "name": "stdout",
     "output_type": "stream",
     "text": [
      "P3alphaRecommender: Similarity column 38121 (100.0%), 4979.50 column/sec. Elapsed time 7.66 sec\n",
      "EvaluatorHoldout: Processed 34728 (100.0%) in 8.78 sec. Users per second: 3956\n"
     ]
    },
    {
     "name": "stderr",
     "output_type": "stream",
     "text": [
      "[I 2025-01-05 22:35:34,789] Trial 20 finished with value: 0.02747401803768343 and parameters: {'topK': 25, 'alpha': 0.34035535344325324}. Best is trial 15 with value: 0.02771136939955978.\n"
     ]
    },
    {
     "name": "stdout",
     "output_type": "stream",
     "text": [
      "P3alphaRecommender: Similarity column 38121 (100.0%), 5122.63 column/sec. Elapsed time 7.44 sec\n",
      "EvaluatorHoldout: Processed 34728 (100.0%) in 8.57 sec. Users per second: 4054\n"
     ]
    },
    {
     "name": "stderr",
     "output_type": "stream",
     "text": [
      "[I 2025-01-05 22:35:51,149] Trial 21 finished with value: 0.027707215805003536 and parameters: {'topK': 16, 'alpha': 0.4011005132081171}. Best is trial 15 with value: 0.02771136939955978.\n"
     ]
    },
    {
     "name": "stdout",
     "output_type": "stream",
     "text": [
      "P3alphaRecommender: Similarity column 38121 (100.0%), 5122.55 column/sec. Elapsed time 7.44 sec\n",
      "EvaluatorHoldout: Processed 34728 (100.0%) in 8.53 sec. Users per second: 4073\n"
     ]
    },
    {
     "name": "stderr",
     "output_type": "stream",
     "text": [
      "[I 2025-01-05 22:36:07,434] Trial 22 finished with value: 0.02748695417082537 and parameters: {'topK': 12, 'alpha': 0.44655836924800696}. Best is trial 15 with value: 0.02771136939955978.\n"
     ]
    },
    {
     "name": "stdout",
     "output_type": "stream",
     "text": [
      "P3alphaRecommender: Similarity column 38121 (100.0%), 5197.78 column/sec. Elapsed time 7.33 sec\n",
      "EvaluatorHoldout: Processed 34728 (100.0%) in 8.34 sec. Users per second: 4162\n"
     ]
    },
    {
     "name": "stderr",
     "output_type": "stream",
     "text": [
      "[I 2025-01-05 22:36:23,358] Trial 23 finished with value: 0.024413321623281383 and parameters: {'topK': 4, 'alpha': 0.40317267820308234}. Best is trial 15 with value: 0.02771136939955978.\n"
     ]
    },
    {
     "name": "stdout",
     "output_type": "stream",
     "text": [
      "P3alphaRecommender: Similarity column 38121 (100.0%), 5083.90 column/sec. Elapsed time 7.50 sec\n",
      "EvaluatorHoldout: Processed 34728 (100.0%) in 8.90 sec. Users per second: 3903\n"
     ]
    },
    {
     "name": "stderr",
     "output_type": "stream",
     "text": [
      "[I 2025-01-05 22:36:40,113] Trial 24 finished with value: 0.027737983256728174 and parameters: {'topK': 17, 'alpha': 0.3546244036206817}. Best is trial 24 with value: 0.027737983256728174.\n"
     ]
    },
    {
     "name": "stdout",
     "output_type": "stream",
     "text": [
      "P3alphaRecommender: Similarity column 38121 (100.0%), 4742.28 column/sec. Elapsed time 8.04 sec\n",
      "EvaluatorHoldout: Processed 34728 (100.0%) in 9.08 sec. Users per second: 3823\n"
     ]
    },
    {
     "name": "stderr",
     "output_type": "stream",
     "text": [
      "[I 2025-01-05 22:36:57,909] Trial 25 finished with value: 0.02652508336898381 and parameters: {'topK': 50, 'alpha': 0.4248318259742145}. Best is trial 24 with value: 0.027737983256728174.\n"
     ]
    },
    {
     "name": "stdout",
     "output_type": "stream",
     "text": [
      "P3alphaRecommender: Similarity column 38121 (100.0%), 5012.95 column/sec. Elapsed time 7.60 sec\n",
      "EvaluatorHoldout: Processed 34728 (100.0%) in 8.79 sec. Users per second: 3949\n"
     ]
    },
    {
     "name": "stderr",
     "output_type": "stream",
     "text": [
      "[I 2025-01-05 22:37:14,728] Trial 26 finished with value: 0.027490469014526557 and parameters: {'topK': 24, 'alpha': 0.30170753926751526}. Best is trial 24 with value: 0.027737983256728174.\n"
     ]
    },
    {
     "name": "stdout",
     "output_type": "stream",
     "text": [
      "P3alphaRecommender: Similarity column 38121 (100.0%), 4727.03 column/sec. Elapsed time 8.06 sec\n",
      "EvaluatorHoldout: Processed 34728 (100.0%) in 9.12 sec. Users per second: 3807\n"
     ]
    },
    {
     "name": "stderr",
     "output_type": "stream",
     "text": [
      "[I 2025-01-05 22:37:32,390] Trial 27 finished with value: 0.02733913762464142 and parameters: {'topK': 29, 'alpha': 0.3548394105087576}. Best is trial 24 with value: 0.027737983256728174.\n"
     ]
    },
    {
     "name": "stdout",
     "output_type": "stream",
     "text": [
      "P3alphaRecommender: Similarity column 38121 (100.0%), 4842.33 column/sec. Elapsed time 7.87 sec\n",
      "EvaluatorHoldout: Processed 34728 (100.0%) in 8.62 sec. Users per second: 4029\n"
     ]
    },
    {
     "name": "stderr",
     "output_type": "stream",
     "text": [
      "[I 2025-01-05 22:37:49,203] Trial 28 finished with value: 0.02731006017741433 and parameters: {'topK': 11, 'alpha': 0.4725150209496913}. Best is trial 24 with value: 0.027737983256728174.\n"
     ]
    },
    {
     "name": "stdout",
     "output_type": "stream",
     "text": [
      "P3alphaRecommender: Similarity column 38121 (100.0%), 5143.24 column/sec. Elapsed time 7.41 sec\n",
      "EvaluatorHoldout: Processed 34728 (100.0%) in 8.74 sec. Users per second: 3972\n"
     ]
    },
    {
     "name": "stderr",
     "output_type": "stream",
     "text": [
      "[I 2025-01-05 22:38:05,639] Trial 29 finished with value: 0.02700415336602204 and parameters: {'topK': 8, 'alpha': 0.5306176683251402}. Best is trial 24 with value: 0.027737983256728174.\n"
     ]
    },
    {
     "name": "stdout",
     "output_type": "stream",
     "text": [
      "P3alphaRecommender: Similarity column 38121 (100.0%), 5028.68 column/sec. Elapsed time 7.58 sec\n",
      "EvaluatorHoldout: Processed 34728 (100.0%) in 8.56 sec. Users per second: 4058\n"
     ]
    },
    {
     "name": "stderr",
     "output_type": "stream",
     "text": [
      "[I 2025-01-05 22:38:22,056] Trial 30 finished with value: 0.02689452703641476 and parameters: {'topK': 7, 'alpha': 0.2516158272131085}. Best is trial 24 with value: 0.027737983256728174.\n"
     ]
    },
    {
     "name": "stdout",
     "output_type": "stream",
     "text": [
      "P3alphaRecommender: Similarity column 38121 (100.0%), 5011.04 column/sec. Elapsed time 7.61 sec\n",
      "EvaluatorHoldout: Processed 34728 (100.0%) in 9.01 sec. Users per second: 3856\n"
     ]
    },
    {
     "name": "stderr",
     "output_type": "stream",
     "text": [
      "[I 2025-01-05 22:38:39,026] Trial 31 finished with value: 0.027722964041639885 and parameters: {'topK': 17, 'alpha': 0.359931592225811}. Best is trial 24 with value: 0.027737983256728174.\n"
     ]
    },
    {
     "name": "stdout",
     "output_type": "stream",
     "text": [
      "P3alphaRecommender: Similarity column 38121 (100.0%), 5048.79 column/sec. Elapsed time 7.55 sec\n",
      "EvaluatorHoldout: Processed 34728 (100.0%) in 8.54 sec. Users per second: 4068\n"
     ]
    },
    {
     "name": "stderr",
     "output_type": "stream",
     "text": [
      "[I 2025-01-05 22:38:55,467] Trial 32 finished with value: 0.02775878322418503 and parameters: {'topK': 16, 'alpha': 0.32948433681166744}. Best is trial 32 with value: 0.02775878322418503.\n"
     ]
    },
    {
     "name": "stdout",
     "output_type": "stream",
     "text": [
      "P3alphaRecommender: Similarity column 38121 (100.0%), 5068.07 column/sec. Elapsed time 7.52 sec\n",
      "EvaluatorHoldout: Processed 34728 (100.0%) in 8.76 sec. Users per second: 3965\n"
     ]
    },
    {
     "name": "stderr",
     "output_type": "stream",
     "text": [
      "[I 2025-01-05 22:39:12,134] Trial 33 finished with value: 0.02761263497182553 and parameters: {'topK': 21, 'alpha': 0.311314190849124}. Best is trial 32 with value: 0.02775878322418503.\n"
     ]
    },
    {
     "name": "stdout",
     "output_type": "stream",
     "text": [
      "P3alphaRecommender: Similarity column 38121 (100.0%), 5071.66 column/sec. Elapsed time 7.52 sec\n",
      "EvaluatorHoldout: Processed 34728 (100.0%) in 8.57 sec. Users per second: 4054\n"
     ]
    },
    {
     "name": "stderr",
     "output_type": "stream",
     "text": [
      "[I 2025-01-05 22:39:28,531] Trial 34 finished with value: 0.02759294110602782 and parameters: {'topK': 11, 'alpha': 0.35587953594183735}. Best is trial 32 with value: 0.02775878322418503.\n"
     ]
    },
    {
     "name": "stdout",
     "output_type": "stream",
     "text": [
      "P3alphaRecommender: Similarity column 38121 (100.0%), 5103.00 column/sec. Elapsed time 7.47 sec\n",
      "EvaluatorHoldout: Processed 34728 (100.0%) in 8.53 sec. Users per second: 4073\n"
     ]
    },
    {
     "name": "stderr",
     "output_type": "stream",
     "text": [
      "[I 2025-01-05 22:39:44,913] Trial 35 finished with value: 0.02738261838944204 and parameters: {'topK': 19, 'alpha': 0.6944647583717807}. Best is trial 32 with value: 0.02775878322418503.\n"
     ]
    },
    {
     "name": "stdout",
     "output_type": "stream",
     "text": [
      "P3alphaRecommender: Similarity column 38121 (100.0%), 5032.00 column/sec. Elapsed time 7.58 sec\n",
      "EvaluatorHoldout: Processed 34728 (100.0%) in 8.57 sec. Users per second: 4051\n"
     ]
    },
    {
     "name": "stderr",
     "output_type": "stream",
     "text": [
      "[I 2025-01-05 22:40:01,390] Trial 36 finished with value: 0.027703817513336504 and parameters: {'topK': 14, 'alpha': 0.3448746784913638}. Best is trial 32 with value: 0.02775878322418503.\n"
     ]
    },
    {
     "name": "stdout",
     "output_type": "stream",
     "text": [
      "P3alphaRecommender: Similarity column 38121 (100.0%), 4881.05 column/sec. Elapsed time 7.81 sec\n",
      "EvaluatorHoldout: Processed 34728 (100.0%) in 8.72 sec. Users per second: 3985\n"
     ]
    },
    {
     "name": "stderr",
     "output_type": "stream",
     "text": [
      "[I 2025-01-05 22:40:18,275] Trial 37 finished with value: 0.02773875798495627 and parameters: {'topK': 17, 'alpha': 0.3213533491811396}. Best is trial 32 with value: 0.02775878322418503.\n"
     ]
    },
    {
     "name": "stdout",
     "output_type": "stream",
     "text": [
      "P3alphaRecommender: Similarity column 38121 (100.0%), 4857.64 column/sec. Elapsed time 7.85 sec\n",
      "EvaluatorHoldout: Processed 34728 (100.0%) in 8.88 sec. Users per second: 3911\n"
     ]
    },
    {
     "name": "stderr",
     "output_type": "stream",
     "text": [
      "[I 2025-01-05 22:40:35,372] Trial 38 finished with value: 0.027645356384125498 and parameters: {'topK': 18, 'alpha': 0.32420342466204616}. Best is trial 32 with value: 0.02775878322418503.\n"
     ]
    },
    {
     "name": "stdout",
     "output_type": "stream",
     "text": [
      "P3alphaRecommender: Similarity column 38121 (100.0%), 4880.80 column/sec. Elapsed time 7.81 sec\n",
      "EvaluatorHoldout: Processed 34728 (100.0%) in 8.86 sec. Users per second: 3918\n"
     ]
    },
    {
     "name": "stderr",
     "output_type": "stream",
     "text": [
      "[I 2025-01-05 22:40:52,458] Trial 39 finished with value: 0.02745502691209241 and parameters: {'topK': 23, 'alpha': 0.2820679464947542}. Best is trial 32 with value: 0.02775878322418503.\n"
     ]
    },
    {
     "name": "stdout",
     "output_type": "stream",
     "text": [
      "P3alphaRecommender: Similarity column 38121 (100.0%), 4849.40 column/sec. Elapsed time 7.86 sec\n",
      "EvaluatorHoldout: Processed 34728 (100.0%) in 8.89 sec. Users per second: 3906\n"
     ]
    },
    {
     "name": "stderr",
     "output_type": "stream",
     "text": [
      "[I 2025-01-05 22:41:09,651] Trial 40 finished with value: 0.027322340419696285 and parameters: {'topK': 27, 'alpha': 0.26110082123438877}. Best is trial 32 with value: 0.02775878322418503.\n"
     ]
    },
    {
     "name": "stdout",
     "output_type": "stream",
     "text": [
      "P3alphaRecommender: Similarity column 38121 (100.0%), 5146.27 column/sec. Elapsed time 7.41 sec\n",
      "EvaluatorHoldout: Processed 34728 (100.0%) in 8.66 sec. Users per second: 4012\n"
     ]
    },
    {
     "name": "stderr",
     "output_type": "stream",
     "text": [
      "[I 2025-01-05 22:41:26,015] Trial 41 finished with value: 0.02737252178380306 and parameters: {'topK': 10, 'alpha': 0.42540294410744245}. Best is trial 32 with value: 0.02775878322418503.\n"
     ]
    },
    {
     "name": "stdout",
     "output_type": "stream",
     "text": [
      "P3alphaRecommender: Similarity column 38121 (100.0%), 4917.54 column/sec. Elapsed time 7.75 sec\n",
      "EvaluatorHoldout: Processed 34728 (100.0%) in 8.80 sec. Users per second: 3945\n"
     ]
    },
    {
     "name": "stderr",
     "output_type": "stream",
     "text": [
      "[I 2025-01-05 22:41:42,912] Trial 42 finished with value: 0.02772652916268948 and parameters: {'topK': 16, 'alpha': 0.3066985360055886}. Best is trial 32 with value: 0.02775878322418503.\n"
     ]
    },
    {
     "name": "stdout",
     "output_type": "stream",
     "text": [
      "P3alphaRecommender: Similarity column 38121 (100.0%), 4942.14 column/sec. Elapsed time 7.71 sec\n",
      "EvaluatorHoldout: Processed 34728 (100.0%) in 8.61 sec. Users per second: 4033\n"
     ]
    },
    {
     "name": "stderr",
     "output_type": "stream",
     "text": [
      "[I 2025-01-05 22:41:59,614] Trial 43 finished with value: 0.027610559888547985 and parameters: {'topK': 20, 'alpha': 0.2212600725558933}. Best is trial 32 with value: 0.02775878322418503.\n"
     ]
    },
    {
     "name": "stdout",
     "output_type": "stream",
     "text": [
      "P3alphaRecommender: Similarity column 38121 (100.0%), 5073.00 column/sec. Elapsed time 7.51 sec\n",
      "EvaluatorHoldout: Processed 34728 (100.0%) in 8.50 sec. Users per second: 4088\n"
     ]
    },
    {
     "name": "stderr",
     "output_type": "stream",
     "text": [
      "[I 2025-01-05 22:42:15,980] Trial 44 finished with value: 0.02774300185020565 and parameters: {'topK': 17, 'alpha': 0.3126444235546919}. Best is trial 32 with value: 0.02775878322418503.\n"
     ]
    },
    {
     "name": "stdout",
     "output_type": "stream",
     "text": [
      "P3alphaRecommender: Similarity column 38121 (100.0%), 5086.51 column/sec. Elapsed time 7.49 sec\n",
      "EvaluatorHoldout: Processed 34728 (100.0%) in 8.53 sec. Users per second: 4072\n"
     ]
    },
    {
     "name": "stderr",
     "output_type": "stream",
     "text": [
      "[I 2025-01-05 22:42:32,349] Trial 45 finished with value: 0.027729452104883315 and parameters: {'topK': 16, 'alpha': 0.3072545811268406}. Best is trial 32 with value: 0.02775878322418503.\n"
     ]
    },
    {
     "name": "stdout",
     "output_type": "stream",
     "text": [
      "P3alphaRecommender: Similarity column 38121 (100.0%), 5157.26 column/sec. Elapsed time 7.39 sec\n",
      "EvaluatorHoldout: Processed 34728 (100.0%) in 8.41 sec. Users per second: 4131\n"
     ]
    },
    {
     "name": "stderr",
     "output_type": "stream",
     "text": [
      "[I 2025-01-05 22:42:48,440] Trial 46 finished with value: 0.027384090144542014 and parameters: {'topK': 9, 'alpha': 0.2901389238972055}. Best is trial 32 with value: 0.02775878322418503.\n"
     ]
    },
    {
     "name": "stdout",
     "output_type": "stream",
     "text": [
      "P3alphaRecommender: Similarity column 38121 (100.0%), 5072.18 column/sec. Elapsed time 7.52 sec\n",
      "EvaluatorHoldout: Processed 34728 (100.0%) in 8.69 sec. Users per second: 3995\n"
     ]
    },
    {
     "name": "stderr",
     "output_type": "stream",
     "text": [
      "[I 2025-01-05 22:43:05,046] Trial 47 finished with value: 0.02756623469283207 and parameters: {'topK': 22, 'alpha': 0.3219811960089248}. Best is trial 32 with value: 0.02775878322418503.\n"
     ]
    },
    {
     "name": "stdout",
     "output_type": "stream",
     "text": [
      "P3alphaRecommender: Similarity column 38121 (100.0%), 4932.71 column/sec. Elapsed time 7.73 sec\n",
      "EvaluatorHoldout: Processed 34728 (100.0%) in 8.81 sec. Users per second: 3940\n"
     ]
    },
    {
     "name": "stderr",
     "output_type": "stream",
     "text": [
      "[I 2025-01-05 22:43:22,068] Trial 48 finished with value: 0.027191627313214336 and parameters: {'topK': 31, 'alpha': 0.3291851112197491}. Best is trial 32 with value: 0.02775878322418503.\n"
     ]
    },
    {
     "name": "stdout",
     "output_type": "stream",
     "text": [
      "P3alphaRecommender: Similarity column 38121 (100.0%), 5121.82 column/sec. Elapsed time 7.44 sec\n",
      "EvaluatorHoldout: Processed 34728 (100.0%) in 8.64 sec. Users per second: 4018\n"
     ]
    },
    {
     "name": "stderr",
     "output_type": "stream",
     "text": [
      "[I 2025-01-05 22:43:38,480] Trial 49 finished with value: 0.027716448554388436 and parameters: {'topK': 14, 'alpha': 0.24216481605750137}. Best is trial 32 with value: 0.02775878322418503.\n"
     ]
    },
    {
     "name": "stdout",
     "output_type": "stream",
     "text": [
      "P3alphaRecommender: Similarity column 38121 (100.0%), 1681.06 column/sec. Elapsed time 22.68 sec\n",
      "EvaluatorHoldout: Processed 34728 (100.0%) in 8.31 sec. Users per second: 4177\n"
     ]
    },
    {
     "name": "stderr",
     "output_type": "stream",
     "text": [
      "[I 2025-01-05 22:44:09,704] Trial 50 finished with value: 0.022764714808598402 and parameters: {'topK': 3, 'alpha': 0.2893532163748396}. Best is trial 32 with value: 0.02775878322418503.\n"
     ]
    },
    {
     "name": "stdout",
     "output_type": "stream",
     "text": [
      "P3alphaRecommender: Similarity column 38121 (100.0%), 4997.09 column/sec. Elapsed time 7.63 sec\n",
      "EvaluatorHoldout: Processed 34728 (100.0%) in 8.74 sec. Users per second: 3974\n"
     ]
    },
    {
     "name": "stderr",
     "output_type": "stream",
     "text": [
      "[I 2025-01-05 22:44:26,424] Trial 51 finished with value: 0.027740801073557794 and parameters: {'topK': 16, 'alpha': 0.30520115024798}. Best is trial 32 with value: 0.02775878322418503.\n"
     ]
    },
    {
     "name": "stdout",
     "output_type": "stream",
     "text": [
      "P3alphaRecommender: Similarity column 38121 (100.0%), 4952.06 column/sec. Elapsed time 7.70 sec\n",
      "EvaluatorHoldout: Processed 34728 (100.0%) in 8.78 sec. Users per second: 3957\n"
     ]
    },
    {
     "name": "stderr",
     "output_type": "stream",
     "text": [
      "[I 2025-01-05 22:44:43,274] Trial 52 finished with value: 0.02763349892863458 and parameters: {'topK': 19, 'alpha': 0.27362900729317324}. Best is trial 32 with value: 0.02775878322418503.\n"
     ]
    },
    {
     "name": "stdout",
     "output_type": "stream",
     "text": [
      "P3alphaRecommender: Similarity column 38121 (100.0%), 5064.22 column/sec. Elapsed time 7.53 sec\n",
      "EvaluatorHoldout: Processed 34728 (100.0%) in 8.72 sec. Users per second: 3983\n"
     ]
    },
    {
     "name": "stderr",
     "output_type": "stream",
     "text": [
      "[I 2025-01-05 22:44:59,839] Trial 53 finished with value: 0.02772848540859878 and parameters: {'topK': 13, 'alpha': 0.22474040876443635}. Best is trial 32 with value: 0.02775878322418503.\n"
     ]
    },
    {
     "name": "stdout",
     "output_type": "stream",
     "text": [
      "P3alphaRecommender: Similarity column 38121 (100.0%), 5010.65 column/sec. Elapsed time 7.61 sec\n",
      "EvaluatorHoldout: Processed 34728 (100.0%) in 8.81 sec. Users per second: 3940\n"
     ]
    },
    {
     "name": "stderr",
     "output_type": "stream",
     "text": [
      "[I 2025-01-05 22:45:16,614] Trial 54 finished with value: 0.027530302386253605 and parameters: {'topK': 17, 'alpha': 0.2018060962520053}. Best is trial 32 with value: 0.02775878322418503.\n"
     ]
    },
    {
     "name": "stdout",
     "output_type": "stream",
     "text": [
      "P3alphaRecommender: Similarity column 38121 (100.0%), 4949.34 column/sec. Elapsed time 7.70 sec\n",
      "EvaluatorHoldout: Processed 34728 (100.0%) in 8.78 sec. Users per second: 3957\n"
     ]
    },
    {
     "name": "stderr",
     "output_type": "stream",
     "text": [
      "[I 2025-01-05 22:45:33,531] Trial 55 finished with value: 0.027388604821871197 and parameters: {'topK': 26, 'alpha': 0.33638651527112495}. Best is trial 32 with value: 0.02775878322418503.\n"
     ]
    },
    {
     "name": "stdout",
     "output_type": "stream",
     "text": [
      "P3alphaRecommender: Similarity column 38121 (100.0%), 4899.92 column/sec. Elapsed time 7.78 sec\n",
      "EvaluatorHoldout: Processed 34728 (100.0%) in 8.71 sec. Users per second: 3989\n"
     ]
    },
    {
     "name": "stderr",
     "output_type": "stream",
     "text": [
      "[I 2025-01-05 22:45:50,409] Trial 56 finished with value: 0.027626298983848243 and parameters: {'topK': 20, 'alpha': 0.3730069740259164}. Best is trial 32 with value: 0.02775878322418503.\n"
     ]
    },
    {
     "name": "stdout",
     "output_type": "stream",
     "text": [
      "P3alphaRecommender: Similarity column 38121 (100.0%), 5071.56 column/sec. Elapsed time 7.52 sec\n",
      "EvaluatorHoldout: Processed 34728 (100.0%) in 8.60 sec. Users per second: 4036\n"
     ]
    },
    {
     "name": "stderr",
     "output_type": "stream",
     "text": [
      "[I 2025-01-05 22:46:06,878] Trial 57 finished with value: 0.02766878791369049 and parameters: {'topK': 16, 'alpha': 0.2579966960558219}. Best is trial 32 with value: 0.02775878322418503.\n"
     ]
    },
    {
     "name": "stdout",
     "output_type": "stream",
     "text": [
      "P3alphaRecommender: Similarity column 38121 (100.0%), 5000.65 column/sec. Elapsed time 7.62 sec\n",
      "EvaluatorHoldout: Processed 34728 (100.0%) in 8.75 sec. Users per second: 3968\n"
     ]
    },
    {
     "name": "stderr",
     "output_type": "stream",
     "text": [
      "[I 2025-01-05 22:46:23,665] Trial 58 finished with value: 0.02750593844041411 and parameters: {'topK': 23, 'alpha': 0.302002970689074}. Best is trial 32 with value: 0.02775878322418503.\n"
     ]
    },
    {
     "name": "stdout",
     "output_type": "stream",
     "text": [
      "P3alphaRecommender: Similarity column 38121 (100.0%), 5023.59 column/sec. Elapsed time 7.59 sec\n",
      "EvaluatorHoldout: Processed 34728 (100.0%) in 8.80 sec. Users per second: 3945\n"
     ]
    },
    {
     "name": "stderr",
     "output_type": "stream",
     "text": [
      "[I 2025-01-05 22:46:40,379] Trial 59 finished with value: 0.02758410714742718 and parameters: {'topK': 12, 'alpha': 0.3854089702704676}. Best is trial 32 with value: 0.02775878322418503.\n"
     ]
    },
    {
     "name": "stdout",
     "output_type": "stream",
     "text": [
      "P3alphaRecommender: Similarity column 38121 (100.0%), 5104.88 column/sec. Elapsed time 7.47 sec\n",
      "EvaluatorHoldout: Processed 34728 (100.0%) in 8.47 sec. Users per second: 4101\n"
     ]
    },
    {
     "name": "stderr",
     "output_type": "stream",
     "text": [
      "[I 2025-01-05 22:46:56,642] Trial 60 finished with value: 0.02766692765180941 and parameters: {'topK': 14, 'alpha': 0.4119872868634672}. Best is trial 32 with value: 0.02775878322418503.\n"
     ]
    },
    {
     "name": "stdout",
     "output_type": "stream",
     "text": [
      "P3alphaRecommender: Similarity column 38121 (100.0%), 5044.98 column/sec. Elapsed time 7.56 sec\n",
      "EvaluatorHoldout: Processed 34728 (100.0%) in 8.85 sec. Users per second: 3926\n"
     ]
    },
    {
     "name": "stderr",
     "output_type": "stream",
     "text": [
      "[I 2025-01-05 22:47:13,363] Trial 61 finished with value: 0.02772930812884099 and parameters: {'topK': 13, 'alpha': 0.2182262576811303}. Best is trial 32 with value: 0.02775878322418503.\n"
     ]
    },
    {
     "name": "stdout",
     "output_type": "stream",
     "text": [
      "P3alphaRecommender: Similarity column 38121 (100.0%), 4798.49 column/sec. Elapsed time 7.94 sec\n",
      "EvaluatorHoldout: Processed 34728 (100.0%) in 8.75 sec. Users per second: 3969\n"
     ]
    },
    {
     "name": "stderr",
     "output_type": "stream",
     "text": [
      "[I 2025-01-05 22:47:30,402] Trial 62 finished with value: 0.027685741664015086 and parameters: {'topK': 15, 'alpha': 0.23901432725944302}. Best is trial 32 with value: 0.02775878322418503.\n"
     ]
    },
    {
     "name": "stdout",
     "output_type": "stream",
     "text": [
      "P3alphaRecommender: Similarity column 38121 (100.0%), 5021.67 column/sec. Elapsed time 7.59 sec\n",
      "EvaluatorHoldout: Processed 34728 (100.0%) in 8.84 sec. Users per second: 3928\n"
     ]
    },
    {
     "name": "stderr",
     "output_type": "stream",
     "text": [
      "[I 2025-01-05 22:47:47,203] Trial 63 finished with value: 0.027655025632305427 and parameters: {'topK': 18, 'alpha': 0.26739039215905874}. Best is trial 32 with value: 0.02775878322418503.\n"
     ]
    },
    {
     "name": "stdout",
     "output_type": "stream",
     "text": [
      "P3alphaRecommender: Similarity column 38121 (100.0%), 4912.53 column/sec. Elapsed time 7.76 sec\n",
      "EvaluatorHoldout: Processed 34728 (100.0%) in 8.80 sec. Users per second: 3948\n"
     ]
    },
    {
     "name": "stderr",
     "output_type": "stream",
     "text": [
      "[I 2025-01-05 22:48:04,037] Trial 64 finished with value: 0.026333446685899417 and parameters: {'topK': 6, 'alpha': 0.32050496103963927}. Best is trial 32 with value: 0.02775878322418503.\n"
     ]
    },
    {
     "name": "stdout",
     "output_type": "stream",
     "text": [
      "P3alphaRecommender: Similarity column 38121 (100.0%), 5116.13 column/sec. Elapsed time 7.45 sec\n",
      "EvaluatorHoldout: Processed 34728 (100.0%) in 8.47 sec. Users per second: 4100\n"
     ]
    },
    {
     "name": "stderr",
     "output_type": "stream",
     "text": [
      "[I 2025-01-05 22:48:20,271] Trial 65 finished with value: 0.027673732233812715 and parameters: {'topK': 12, 'alpha': 0.2930257431213229}. Best is trial 32 with value: 0.02775878322418503.\n"
     ]
    },
    {
     "name": "stdout",
     "output_type": "stream",
     "text": [
      "P3alphaRecommender: Similarity column 38121 (100.0%), 5057.88 column/sec. Elapsed time 7.54 sec\n",
      "EvaluatorHoldout: Processed 34728 (100.0%) in 8.67 sec. Users per second: 4004\n"
     ]
    },
    {
     "name": "stderr",
     "output_type": "stream",
     "text": [
      "[I 2025-01-05 22:48:36,780] Trial 66 finished with value: 0.027504455258644186 and parameters: {'topK': 10, 'alpha': 0.33650683496540507}. Best is trial 32 with value: 0.02775878322418503.\n"
     ]
    },
    {
     "name": "stdout",
     "output_type": "stream",
     "text": [
      "P3alphaRecommender: Similarity column 38121 (100.0%), 4769.33 column/sec. Elapsed time 7.99 sec\n",
      "EvaluatorHoldout: Processed 34728 (100.0%) in 9.05 sec. Users per second: 3838\n"
     ]
    },
    {
     "name": "stderr",
     "output_type": "stream",
     "text": [
      "[I 2025-01-05 22:48:54,220] Trial 67 finished with value: 0.027604574598785955 and parameters: {'topK': 21, 'alpha': 0.3559184709495706}. Best is trial 32 with value: 0.02775878322418503.\n"
     ]
    },
    {
     "name": "stdout",
     "output_type": "stream",
     "text": [
      "P3alphaRecommender: Similarity column 38121 (100.0%), 4906.85 column/sec. Elapsed time 7.77 sec\n",
      "EvaluatorHoldout: Processed 34728 (100.0%) in 9.01 sec. Users per second: 3853\n"
     ]
    },
    {
     "name": "stderr",
     "output_type": "stream",
     "text": [
      "[I 2025-01-05 22:49:11,396] Trial 68 finished with value: 0.027633535493978744 and parameters: {'topK': 18, 'alpha': 0.36856389167706405}. Best is trial 32 with value: 0.02775878322418503.\n"
     ]
    },
    {
     "name": "stdout",
     "output_type": "stream",
     "text": [
      "P3alphaRecommender: Similarity column 38121 (100.0%), 4836.62 column/sec. Elapsed time 7.88 sec\n",
      "EvaluatorHoldout: Processed 34728 (100.0%) in 8.78 sec. Users per second: 3956\n"
     ]
    },
    {
     "name": "stderr",
     "output_type": "stream",
     "text": [
      "[I 2025-01-05 22:49:28,415] Trial 69 finished with value: 0.027466273040736726 and parameters: {'topK': 15, 'alpha': 0.5989222598627907}. Best is trial 32 with value: 0.02775878322418503.\n"
     ]
    },
    {
     "name": "stdout",
     "output_type": "stream",
     "text": [
      "P3alphaRecommender: Similarity column 38121 (100.0%), 5127.35 column/sec. Elapsed time 7.43 sec\n",
      "EvaluatorHoldout: Processed 34728 (100.0%) in 8.93 sec. Users per second: 3888\n"
     ]
    },
    {
     "name": "stderr",
     "output_type": "stream",
     "text": [
      "[I 2025-01-05 22:49:45,118] Trial 70 finished with value: 0.027578860020549083 and parameters: {'topK': 13, 'alpha': 0.4588748912712615}. Best is trial 32 with value: 0.02775878322418503.\n"
     ]
    },
    {
     "name": "stdout",
     "output_type": "stream",
     "text": [
      "P3alphaRecommender: Similarity column 38121 (100.0%), 4984.23 column/sec. Elapsed time 7.65 sec\n",
      "EvaluatorHoldout: Processed 34728 (100.0%) in 8.72 sec. Users per second: 3982\n"
     ]
    },
    {
     "name": "stderr",
     "output_type": "stream",
     "text": [
      "[I 2025-01-05 22:50:01,809] Trial 71 finished with value: 0.027735449963982473 and parameters: {'topK': 13, 'alpha': 0.223586085334654}. Best is trial 32 with value: 0.02775878322418503.\n"
     ]
    },
    {
     "name": "stdout",
     "output_type": "stream",
     "text": [
      "P3alphaRecommender: Similarity column 38121 (100.0%), 5035.99 column/sec. Elapsed time 7.57 sec\n",
      "EvaluatorHoldout: Processed 34728 (100.0%) in 8.55 sec. Users per second: 4063\n"
     ]
    },
    {
     "name": "stderr",
     "output_type": "stream",
     "text": [
      "[I 2025-01-05 22:50:18,275] Trial 72 finished with value: 0.027571704639775867 and parameters: {'topK': 16, 'alpha': 0.2019172146328705}. Best is trial 32 with value: 0.02775878322418503.\n"
     ]
    },
    {
     "name": "stdout",
     "output_type": "stream",
     "text": [
      "P3alphaRecommender: Similarity column 38121 (100.0%), 5184.77 column/sec. Elapsed time 7.35 sec\n",
      "EvaluatorHoldout: Processed 34728 (100.0%) in 8.48 sec. Users per second: 4097\n"
     ]
    },
    {
     "name": "stderr",
     "output_type": "stream",
     "text": [
      "[I 2025-01-05 22:50:34,408] Trial 73 finished with value: 0.027627297674809086 and parameters: {'topK': 11, 'alpha': 0.23131169909463792}. Best is trial 32 with value: 0.02775878322418503.\n"
     ]
    },
    {
     "name": "stdout",
     "output_type": "stream",
     "text": [
      "P3alphaRecommender: Similarity column 38121 (100.0%), 4880.08 column/sec. Elapsed time 7.81 sec\n",
      "EvaluatorHoldout: Processed 34728 (100.0%) in 8.90 sec. Users per second: 3904\n"
     ]
    },
    {
     "name": "stderr",
     "output_type": "stream",
     "text": [
      "[I 2025-01-05 22:50:51,688] Trial 74 finished with value: 0.026749199218963543 and parameters: {'topK': 41, 'alpha': 0.2766155068697884}. Best is trial 32 with value: 0.02775878322418503.\n"
     ]
    },
    {
     "name": "stdout",
     "output_type": "stream",
     "text": [
      "P3alphaRecommender: Similarity column 38121 (100.0%), 5176.59 column/sec. Elapsed time 7.36 sec\n",
      "EvaluatorHoldout: Processed 34728 (100.0%) in 8.34 sec. Users per second: 4166\n"
     ]
    },
    {
     "name": "stderr",
     "output_type": "stream",
     "text": [
      "[I 2025-01-05 22:51:07,667] Trial 75 finished with value: 0.027077038380812768 and parameters: {'topK': 8, 'alpha': 0.24473606775828355}. Best is trial 32 with value: 0.02775878322418503.\n"
     ]
    },
    {
     "name": "stdout",
     "output_type": "stream",
     "text": [
      "P3alphaRecommender: Similarity column 38121 (100.0%), 5100.52 column/sec. Elapsed time 7.47 sec\n",
      "EvaluatorHoldout: Processed 34728 (100.0%) in 8.50 sec. Users per second: 4084\n"
     ]
    },
    {
     "name": "stderr",
     "output_type": "stream",
     "text": [
      "[I 2025-01-05 22:51:23,995] Trial 76 finished with value: 0.027741844328531544 and parameters: {'topK': 17, 'alpha': 0.31458691869252475}. Best is trial 32 with value: 0.02775878322418503.\n"
     ]
    },
    {
     "name": "stdout",
     "output_type": "stream",
     "text": [
      "P3alphaRecommender: Similarity column 38121 (100.0%), 5067.47 column/sec. Elapsed time 7.52 sec\n",
      "EvaluatorHoldout: Processed 34728 (100.0%) in 8.59 sec. Users per second: 4042\n"
     ]
    },
    {
     "name": "stderr",
     "output_type": "stream",
     "text": [
      "[I 2025-01-05 22:51:40,489] Trial 77 finished with value: 0.027611558579508717 and parameters: {'topK': 20, 'alpha': 0.3035714709376377}. Best is trial 32 with value: 0.02775878322418503.\n"
     ]
    },
    {
     "name": "stdout",
     "output_type": "stream",
     "text": [
      "P3alphaRecommender: Similarity column 38121 (100.0%), 5134.23 column/sec. Elapsed time 7.42 sec\n",
      "EvaluatorHoldout: Processed 34728 (100.0%) in 8.53 sec. Users per second: 4072\n"
     ]
    },
    {
     "name": "stderr",
     "output_type": "stream",
     "text": [
      "[I 2025-01-05 22:51:56,797] Trial 78 finished with value: 0.027742427088703107 and parameters: {'topK': 17, 'alpha': 0.34847312783619844}. Best is trial 32 with value: 0.02775878322418503.\n"
     ]
    },
    {
     "name": "stdout",
     "output_type": "stream",
     "text": [
      "P3alphaRecommender: Similarity column 38121 (100.0%), 5092.63 column/sec. Elapsed time 7.49 sec\n",
      "EvaluatorHoldout: Processed 34728 (100.0%) in 8.52 sec. Users per second: 4075\n"
     ]
    },
    {
     "name": "stderr",
     "output_type": "stream",
     "text": [
      "[I 2025-01-05 22:52:13,162] Trial 79 finished with value: 0.02773589103344555 and parameters: {'topK': 17, 'alpha': 0.35278361569776595}. Best is trial 32 with value: 0.02775878322418503.\n"
     ]
    },
    {
     "name": "stdout",
     "output_type": "stream",
     "text": [
      "P3alphaRecommender: Similarity column 38121 (100.0%), 5035.94 column/sec. Elapsed time 7.57 sec\n",
      "EvaluatorHoldout: Processed 34728 (100.0%) in 8.83 sec. Users per second: 3931\n"
     ]
    },
    {
     "name": "stderr",
     "output_type": "stream",
     "text": [
      "[I 2025-01-05 22:52:29,964] Trial 80 finished with value: 0.027564495553653433 and parameters: {'topK': 22, 'alpha': 0.3462475654608025}. Best is trial 32 with value: 0.02775878322418503.\n"
     ]
    },
    {
     "name": "stdout",
     "output_type": "stream",
     "text": [
      "P3alphaRecommender: Similarity column 38121 (100.0%), 4996.26 column/sec. Elapsed time 7.63 sec\n",
      "EvaluatorHoldout: Processed 34728 (100.0%) in 8.73 sec. Users per second: 3977\n"
     ]
    },
    {
     "name": "stderr",
     "output_type": "stream",
     "text": [
      "[I 2025-01-05 22:52:46,687] Trial 81 finished with value: 0.02766124631147018 and parameters: {'topK': 18, 'alpha': 0.3180930520380374}. Best is trial 32 with value: 0.02775878322418503.\n"
     ]
    },
    {
     "name": "stdout",
     "output_type": "stream",
     "text": [
      "P3alphaRecommender: Similarity column 38121 (100.0%), 4936.83 column/sec. Elapsed time 7.72 sec\n",
      "EvaluatorHoldout: Processed 34728 (100.0%) in 8.77 sec. Users per second: 3960\n"
     ]
    },
    {
     "name": "stderr",
     "output_type": "stream",
     "text": [
      "[I 2025-01-05 22:53:03,539] Trial 82 finished with value: 0.027721101494424832 and parameters: {'topK': 17, 'alpha': 0.39334573949945734}. Best is trial 32 with value: 0.02775878322418503.\n"
     ]
    },
    {
     "name": "stdout",
     "output_type": "stream",
     "text": [
      "P3alphaRecommender: Similarity column 38121 (100.0%), 4978.97 column/sec. Elapsed time 7.66 sec\n",
      "EvaluatorHoldout: Processed 34728 (100.0%) in 8.83 sec. Users per second: 3934\n"
     ]
    },
    {
     "name": "stderr",
     "output_type": "stream",
     "text": [
      "[I 2025-01-05 22:53:20,406] Trial 83 finished with value: 0.02762202769459092 and parameters: {'topK': 19, 'alpha': 0.3501094785430249}. Best is trial 32 with value: 0.02775878322418503.\n"
     ]
    },
    {
     "name": "stdout",
     "output_type": "stream",
     "text": [
      "P3alphaRecommender: Similarity column 38121 (100.0%), 5001.42 column/sec. Elapsed time 7.62 sec\n",
      "EvaluatorHoldout: Processed 34728 (100.0%) in 8.73 sec. Users per second: 3977\n"
     ]
    },
    {
     "name": "stderr",
     "output_type": "stream",
     "text": [
      "[I 2025-01-05 22:53:37,119] Trial 84 finished with value: 0.027725819566480573 and parameters: {'topK': 17, 'alpha': 0.36364608230608486}. Best is trial 32 with value: 0.02775878322418503.\n"
     ]
    },
    {
     "name": "stdout",
     "output_type": "stream",
     "text": [
      "P3alphaRecommender: Similarity column 38121 (100.0%), 4912.61 column/sec. Elapsed time 7.76 sec\n",
      "EvaluatorHoldout: Processed 34728 (100.0%) in 8.99 sec. Users per second: 3861\n"
     ]
    },
    {
     "name": "stderr",
     "output_type": "stream",
     "text": [
      "[I 2025-01-05 22:53:54,306] Trial 85 finished with value: 0.027365793760488918 and parameters: {'topK': 24, 'alpha': 0.6388139272952259}. Best is trial 32 with value: 0.02775878322418503.\n"
     ]
    },
    {
     "name": "stdout",
     "output_type": "stream",
     "text": [
      "P3alphaRecommender: Similarity column 38121 (100.0%), 4975.48 column/sec. Elapsed time 7.66 sec\n",
      "EvaluatorHoldout: Processed 34728 (100.0%) in 8.98 sec. Users per second: 3867\n"
     ]
    },
    {
     "name": "stderr",
     "output_type": "stream",
     "text": [
      "[I 2025-01-05 22:54:11,283] Trial 86 finished with value: 0.027746841211336023 and parameters: {'topK': 14, 'alpha': 0.3340257294401734}. Best is trial 32 with value: 0.02775878322418503.\n"
     ]
    },
    {
     "name": "stdout",
     "output_type": "stream",
     "text": [
      "P3alphaRecommender: Similarity column 38121 (100.0%), 4935.71 column/sec. Elapsed time 7.72 sec\n",
      "EvaluatorHoldout: Processed 34728 (100.0%) in 8.62 sec. Users per second: 4031\n"
     ]
    },
    {
     "name": "stderr",
     "output_type": "stream",
     "text": [
      "[I 2025-01-05 22:54:28,023] Trial 87 finished with value: 0.027601171736450804 and parameters: {'topK': 20, 'alpha': 0.32856491816075833}. Best is trial 32 with value: 0.02775878322418503.\n"
     ]
    },
    {
     "name": "stdout",
     "output_type": "stream",
     "text": [
      "P3alphaRecommender: Similarity column 38121 (100.0%), 4881.58 column/sec. Elapsed time 7.81 sec\n",
      "EvaluatorHoldout: Processed 34728 (100.0%) in 8.75 sec. Users per second: 3967\n"
     ]
    },
    {
     "name": "stderr",
     "output_type": "stream",
     "text": [
      "[I 2025-01-05 22:54:44,927] Trial 88 finished with value: 0.02774658296859334 and parameters: {'topK': 14, 'alpha': 0.3370754441085022}. Best is trial 32 with value: 0.02775878322418503.\n"
     ]
    },
    {
     "name": "stdout",
     "output_type": "stream",
     "text": [
      "P3alphaRecommender: Similarity column 38121 (100.0%), 5017.48 column/sec. Elapsed time 7.60 sec\n",
      "EvaluatorHoldout: Processed 34728 (100.0%) in 8.73 sec. Users per second: 3979\n"
     ]
    },
    {
     "name": "stderr",
     "output_type": "stream",
     "text": [
      "[I 2025-01-05 22:55:01,594] Trial 89 finished with value: 0.027742221408642524 and parameters: {'topK': 15, 'alpha': 0.3125483733242795}. Best is trial 32 with value: 0.02775878322418503.\n"
     ]
    },
    {
     "name": "stdout",
     "output_type": "stream",
     "text": [
      "P3alphaRecommender: Similarity column 38121 (100.0%), 5029.81 column/sec. Elapsed time 7.58 sec\n",
      "EvaluatorHoldout: Processed 34728 (100.0%) in 8.70 sec. Users per second: 3994\n"
     ]
    },
    {
     "name": "stderr",
     "output_type": "stream",
     "text": [
      "[I 2025-01-05 22:55:18,208] Trial 90 finished with value: 0.0277517512514482 and parameters: {'topK': 15, 'alpha': 0.2908288558631448}. Best is trial 32 with value: 0.02775878322418503.\n"
     ]
    },
    {
     "name": "stdout",
     "output_type": "stream",
     "text": [
      "P3alphaRecommender: Similarity column 38121 (100.0%), 5030.60 column/sec. Elapsed time 7.58 sec\n",
      "EvaluatorHoldout: Processed 34728 (100.0%) in 8.77 sec. Users per second: 3959\n"
     ]
    },
    {
     "name": "stderr",
     "output_type": "stream",
     "text": [
      "[I 2025-01-05 22:55:34,896] Trial 91 finished with value: 0.027746013920425694 and parameters: {'topK': 15, 'alpha': 0.3137180247148605}. Best is trial 32 with value: 0.02775878322418503.\n"
     ]
    },
    {
     "name": "stdout",
     "output_type": "stream",
     "text": [
      "P3alphaRecommender: Similarity column 38121 (100.0%), 5014.46 column/sec. Elapsed time 7.60 sec\n",
      "EvaluatorHoldout: Processed 34728 (100.0%) in 8.71 sec. Users per second: 3986\n"
     ]
    },
    {
     "name": "stderr",
     "output_type": "stream",
     "text": [
      "[I 2025-01-05 22:55:51,553] Trial 92 finished with value: 0.027769142643234872 and parameters: {'topK': 15, 'alpha': 0.29435153066118286}. Best is trial 92 with value: 0.027769142643234872.\n"
     ]
    },
    {
     "name": "stdout",
     "output_type": "stream",
     "text": [
      "P3alphaRecommender: Similarity column 38121 (100.0%), 5038.30 column/sec. Elapsed time 7.57 sec\n",
      "EvaluatorHoldout: Processed 34728 (100.0%) in 8.57 sec. Users per second: 4051\n"
     ]
    },
    {
     "name": "stderr",
     "output_type": "stream",
     "text": [
      "[I 2025-01-05 22:56:08,030] Trial 93 finished with value: 0.027751499864707523 and parameters: {'topK': 15, 'alpha': 0.2907523993226192}. Best is trial 92 with value: 0.027769142643234872.\n"
     ]
    },
    {
     "name": "stdout",
     "output_type": "stream",
     "text": [
      "P3alphaRecommender: Similarity column 38121 (100.0%), 5053.68 column/sec. Elapsed time 7.54 sec\n",
      "EvaluatorHoldout: Processed 34728 (100.0%) in 8.74 sec. Users per second: 3974\n"
     ]
    },
    {
     "name": "stderr",
     "output_type": "stream",
     "text": [
      "[I 2025-01-05 22:56:24,646] Trial 94 finished with value: 0.027786402628316168 and parameters: {'topK': 14, 'alpha': 0.2907884821339318}. Best is trial 94 with value: 0.027786402628316168.\n"
     ]
    },
    {
     "name": "stdout",
     "output_type": "stream",
     "text": [
      "P3alphaRecommender: Similarity column 38121 (100.0%), 4957.66 column/sec. Elapsed time 7.69 sec\n",
      "EvaluatorHoldout: Processed 34728 (100.0%) in 8.82 sec. Users per second: 3935\n"
     ]
    },
    {
     "name": "stderr",
     "output_type": "stream",
     "text": [
      "[I 2025-01-05 22:56:41,477] Trial 95 finished with value: 0.027668833620370564 and parameters: {'topK': 12, 'alpha': 0.291478415076463}. Best is trial 94 with value: 0.027786402628316168.\n"
     ]
    },
    {
     "name": "stdout",
     "output_type": "stream",
     "text": [
      "P3alphaRecommender: Similarity column 38121 (100.0%), 5178.28 column/sec. Elapsed time 7.36 sec\n",
      "EvaluatorHoldout: Processed 34728 (100.0%) in 8.52 sec. Users per second: 4077\n"
     ]
    },
    {
     "name": "stderr",
     "output_type": "stream",
     "text": [
      "[I 2025-01-05 22:56:57,643] Trial 96 finished with value: 0.02736764602370085 and parameters: {'topK': 9, 'alpha': 0.2812560959135515}. Best is trial 94 with value: 0.027786402628316168.\n"
     ]
    },
    {
     "name": "stdout",
     "output_type": "stream",
     "text": [
      "P3alphaRecommender: Similarity column 38121 (100.0%), 4904.17 column/sec. Elapsed time 7.77 sec\n",
      "EvaluatorHoldout: Processed 34728 (100.0%) in 8.39 sec. Users per second: 4141\n"
     ]
    },
    {
     "name": "stderr",
     "output_type": "stream",
     "text": [
      "[I 2025-01-05 22:57:14,138] Trial 97 finished with value: 0.02773163802686019 and parameters: {'topK': 14, 'alpha': 0.25954740276655386}. Best is trial 94 with value: 0.027786402628316168.\n"
     ]
    },
    {
     "name": "stdout",
     "output_type": "stream",
     "text": [
      "P3alphaRecommender: Similarity column 38121 (100.0%), 4975.01 column/sec. Elapsed time 7.66 sec\n",
      "EvaluatorHoldout: Processed 34728 (100.0%) in 8.62 sec. Users per second: 4031\n"
     ]
    },
    {
     "name": "stderr",
     "output_type": "stream",
     "text": [
      "[I 2025-01-05 22:57:30,757] Trial 98 finished with value: 0.027740145182697993 and parameters: {'topK': 15, 'alpha': 0.33400125991188323}. Best is trial 94 with value: 0.027786402628316168.\n"
     ]
    },
    {
     "name": "stdout",
     "output_type": "stream",
     "text": [
      "P3alphaRecommender: Similarity column 38121 (100.0%), 5139.07 column/sec. Elapsed time 7.42 sec\n",
      "EvaluatorHoldout: Processed 34728 (100.0%) in 8.47 sec. Users per second: 4100\n"
     ]
    },
    {
     "name": "stderr",
     "output_type": "stream",
     "text": [
      "[I 2025-01-05 22:57:46,951] Trial 99 finished with value: 0.0274923498444137 and parameters: {'topK': 10, 'alpha': 0.2944065036598079}. Best is trial 94 with value: 0.027786402628316168.\n"
     ]
    },
    {
     "name": "stdout",
     "output_type": "stream",
     "text": [
      "P3alphaRecommender: Similarity column 38121 (100.0%), 5092.21 column/sec. Elapsed time 7.49 sec\n",
      "EvaluatorHoldout: Processed 34728 (100.0%) in 8.55 sec. Users per second: 4063\n"
     ]
    },
    {
     "name": "stderr",
     "output_type": "stream",
     "text": [
      "[I 2025-01-05 22:58:03,289] Trial 100 finished with value: 0.027593469018183162 and parameters: {'topK': 11, 'alpha': 0.26663808601592764}. Best is trial 94 with value: 0.027786402628316168.\n"
     ]
    },
    {
     "name": "stdout",
     "output_type": "stream",
     "text": [
      "P3alphaRecommender: Similarity column 38121 (100.0%), 5009.06 column/sec. Elapsed time 7.61 sec\n",
      "EvaluatorHoldout: Processed 34728 (100.0%) in 8.62 sec. Users per second: 4031\n"
     ]
    },
    {
     "name": "stderr",
     "output_type": "stream",
     "text": [
      "[I 2025-01-05 22:58:19,854] Trial 101 finished with value: 0.027750189225654948 and parameters: {'topK': 15, 'alpha': 0.31065633330546705}. Best is trial 94 with value: 0.027786402628316168.\n"
     ]
    },
    {
     "name": "stdout",
     "output_type": "stream",
     "text": [
      "P3alphaRecommender: Similarity column 38121 (100.0%), 5085.87 column/sec. Elapsed time 7.50 sec\n",
      "EvaluatorHoldout: Processed 34728 (100.0%) in 8.82 sec. Users per second: 3938\n"
     ]
    },
    {
     "name": "stderr",
     "output_type": "stream",
     "text": [
      "[I 2025-01-05 22:58:36,493] Trial 102 finished with value: 0.02776890496849817 and parameters: {'topK': 14, 'alpha': 0.28240191208196297}. Best is trial 94 with value: 0.027786402628316168.\n"
     ]
    },
    {
     "name": "stdout",
     "output_type": "stream",
     "text": [
      "P3alphaRecommender: Similarity column 38121 (100.0%), 5053.05 column/sec. Elapsed time 7.54 sec\n",
      "EvaluatorHoldout: Processed 34728 (100.0%) in 8.90 sec. Users per second: 3904\n"
     ]
    },
    {
     "name": "stderr",
     "output_type": "stream",
     "text": [
      "[I 2025-01-05 22:58:53,268] Trial 103 finished with value: 0.027775522153112932 and parameters: {'topK': 14, 'alpha': 0.2855525169215008}. Best is trial 94 with value: 0.027786402628316168.\n"
     ]
    },
    {
     "name": "stdout",
     "output_type": "stream",
     "text": [
      "P3alphaRecommender: Similarity column 38121 (100.0%), 5070.13 column/sec. Elapsed time 7.52 sec\n",
      "EvaluatorHoldout: Processed 34728 (100.0%) in 8.82 sec. Users per second: 3940\n"
     ]
    },
    {
     "name": "stderr",
     "output_type": "stream",
     "text": [
      "[I 2025-01-05 22:59:09,937] Trial 104 finished with value: 0.027522411127930402 and parameters: {'topK': 14, 'alpha': 0.5520889989401909}. Best is trial 94 with value: 0.027786402628316168.\n"
     ]
    },
    {
     "name": "stdout",
     "output_type": "stream",
     "text": [
      "P3alphaRecommender: Similarity column 38121 (100.0%), 5136.57 column/sec. Elapsed time 7.42 sec\n",
      "EvaluatorHoldout: Processed 34728 (100.0%) in 8.39 sec. Users per second: 4141\n"
     ]
    },
    {
     "name": "stderr",
     "output_type": "stream",
     "text": [
      "[I 2025-01-05 22:59:26,062] Trial 105 finished with value: 0.027657451514353025 and parameters: {'topK': 12, 'alpha': 0.27743581954777835}. Best is trial 94 with value: 0.027786402628316168.\n"
     ]
    },
    {
     "name": "stdout",
     "output_type": "stream",
     "text": [
      "P3alphaRecommender: Similarity column 38121 (100.0%), 5156.83 column/sec. Elapsed time 7.39 sec\n",
      "EvaluatorHoldout: Processed 34728 (100.0%) in 8.37 sec. Users per second: 4151\n"
     ]
    },
    {
     "name": "stderr",
     "output_type": "stream",
     "text": [
      "[I 2025-01-05 22:59:42,138] Trial 106 finished with value: 0.027703625545279997 and parameters: {'topK': 13, 'alpha': 0.2977329487922416}. Best is trial 94 with value: 0.027786402628316168.\n"
     ]
    },
    {
     "name": "stdout",
     "output_type": "stream",
     "text": [
      "P3alphaRecommender: Similarity column 38121 (100.0%), 5195.36 column/sec. Elapsed time 7.34 sec\n",
      "EvaluatorHoldout: Processed 34728 (100.0%) in 8.46 sec. Users per second: 4106\n"
     ]
    },
    {
     "name": "stderr",
     "output_type": "stream",
     "text": [
      "[I 2025-01-05 22:59:58,219] Trial 107 finished with value: 0.02742334189876435 and parameters: {'topK': 9, 'alpha': 0.2548466140814967}. Best is trial 94 with value: 0.027786402628316168.\n"
     ]
    },
    {
     "name": "stdout",
     "output_type": "stream",
     "text": [
      "P3alphaRecommender: Similarity column 38121 (100.0%), 5010.88 column/sec. Elapsed time 7.61 sec\n",
      "EvaluatorHoldout: Processed 34728 (100.0%) in 8.45 sec. Users per second: 4108\n"
     ]
    },
    {
     "name": "stderr",
     "output_type": "stream",
     "text": [
      "[I 2025-01-05 23:00:14,612] Trial 108 finished with value: 0.02777151939060119 and parameters: {'topK': 14, 'alpha': 0.2818434390428794}. Best is trial 94 with value: 0.027786402628316168.\n"
     ]
    },
    {
     "name": "stdout",
     "output_type": "stream",
     "text": [
      "P3alphaRecommender: Similarity column 38121 (100.0%), 5087.30 column/sec. Elapsed time 7.49 sec\n",
      "EvaluatorHoldout: Processed 34728 (100.0%) in 8.88 sec. Users per second: 3912\n"
     ]
    },
    {
     "name": "stderr",
     "output_type": "stream",
     "text": [
      "[I 2025-01-05 23:00:31,295] Trial 109 finished with value: 0.027578167564345096 and parameters: {'topK': 11, 'alpha': 0.27034965840474073}. Best is trial 94 with value: 0.027786402628316168.\n"
     ]
    },
    {
     "name": "stdout",
     "output_type": "stream",
     "text": [
      "P3alphaRecommender: Similarity column 38121 (100.0%), 4985.73 column/sec. Elapsed time 7.65 sec\n",
      "EvaluatorHoldout: Processed 34728 (100.0%) in 8.56 sec. Users per second: 4058\n"
     ]
    },
    {
     "name": "stderr",
     "output_type": "stream",
     "text": [
      "[I 2025-01-05 23:00:47,831] Trial 110 finished with value: 0.027782030784362415 and parameters: {'topK': 14, 'alpha': 0.2867109788765882}. Best is trial 94 with value: 0.027786402628316168.\n"
     ]
    },
    {
     "name": "stdout",
     "output_type": "stream",
     "text": [
      "P3alphaRecommender: Similarity column 38121 (100.0%), 5128.69 column/sec. Elapsed time 7.43 sec\n",
      "EvaluatorHoldout: Processed 34728 (100.0%) in 8.62 sec. Users per second: 4028\n"
     ]
    },
    {
     "name": "stderr",
     "output_type": "stream",
     "text": [
      "[I 2025-01-05 23:01:04,218] Trial 111 finished with value: 0.02778813148349179 and parameters: {'topK': 14, 'alpha': 0.287009357096929}. Best is trial 111 with value: 0.02778813148349179.\n"
     ]
    },
    {
     "name": "stdout",
     "output_type": "stream",
     "text": [
      "P3alphaRecommender: Similarity column 38121 (100.0%), 5073.09 column/sec. Elapsed time 7.51 sec\n",
      "EvaluatorHoldout: Processed 34728 (100.0%) in 8.67 sec. Users per second: 4005\n"
     ]
    },
    {
     "name": "stderr",
     "output_type": "stream",
     "text": [
      "[I 2025-01-05 23:01:20,728] Trial 112 finished with value: 0.027723472528456253 and parameters: {'topK': 13, 'alpha': 0.28286697935368027}. Best is trial 111 with value: 0.02778813148349179.\n"
     ]
    },
    {
     "name": "stdout",
     "output_type": "stream",
     "text": [
      "P3alphaRecommender: Similarity column 38121 (100.0%), 5073.82 column/sec. Elapsed time 7.51 sec\n",
      "EvaluatorHoldout: Processed 34728 (100.0%) in 8.63 sec. Users per second: 4026\n"
     ]
    },
    {
     "name": "stderr",
     "output_type": "stream",
     "text": [
      "[I 2025-01-05 23:01:37,213] Trial 113 finished with value: 0.02770319018915176 and parameters: {'topK': 16, 'alpha': 0.2879383818115705}. Best is trial 111 with value: 0.02778813148349179.\n"
     ]
    },
    {
     "name": "stdout",
     "output_type": "stream",
     "text": [
      "P3alphaRecommender: Similarity column 38121 (100.0%), 5067.93 column/sec. Elapsed time 7.52 sec\n",
      "EvaluatorHoldout: Processed 34728 (100.0%) in 8.62 sec. Users per second: 4029\n"
     ]
    },
    {
     "name": "stderr",
     "output_type": "stream",
     "text": [
      "[I 2025-01-05 23:01:53,695] Trial 114 finished with value: 0.02773798897006324 and parameters: {'topK': 15, 'alpha': 0.2683456091086671}. Best is trial 111 with value: 0.02778813148349179.\n"
     ]
    },
    {
     "name": "stdout",
     "output_type": "stream",
     "text": [
      "P3alphaRecommender: Similarity column 38121 (100.0%), 5081.79 column/sec. Elapsed time 7.50 sec\n",
      "EvaluatorHoldout: Processed 34728 (100.0%) in 8.52 sec. Users per second: 4078\n"
     ]
    },
    {
     "name": "stderr",
     "output_type": "stream",
     "text": [
      "[I 2025-01-05 23:02:10,029] Trial 115 finished with value: 0.027685516558615345 and parameters: {'topK': 12, 'alpha': 0.29803719775282217}. Best is trial 111 with value: 0.02778813148349179.\n"
     ]
    },
    {
     "name": "stdout",
     "output_type": "stream",
     "text": [
      "P3alphaRecommender: Similarity column 38121 (100.0%), 5123.64 column/sec. Elapsed time 7.44 sec\n",
      "EvaluatorHoldout: Processed 34728 (100.0%) in 8.82 sec. Users per second: 3938\n"
     ]
    },
    {
     "name": "stderr",
     "output_type": "stream",
     "text": [
      "[I 2025-01-05 23:02:26,616] Trial 116 finished with value: 0.02774417194121685 and parameters: {'topK': 14, 'alpha': 0.25622312694825766}. Best is trial 111 with value: 0.02778813148349179.\n"
     ]
    },
    {
     "name": "stdout",
     "output_type": "stream",
     "text": [
      "P3alphaRecommender: Similarity column 38121 (100.0%), 5008.11 column/sec. Elapsed time 7.61 sec\n",
      "EvaluatorHoldout: Processed 34728 (100.0%) in 8.36 sec. Users per second: 4153\n"
     ]
    },
    {
     "name": "stderr",
     "output_type": "stream",
     "text": [
      "[I 2025-01-05 23:02:42,856] Trial 117 finished with value: 0.026282512304237716 and parameters: {'topK': 6, 'alpha': 0.2802234012179175}. Best is trial 111 with value: 0.02778813148349179.\n"
     ]
    },
    {
     "name": "stdout",
     "output_type": "stream",
     "text": [
      "P3alphaRecommender: Similarity column 38121 (100.0%), 5140.80 column/sec. Elapsed time 7.42 sec\n",
      "EvaluatorHoldout: Processed 34728 (100.0%) in 8.52 sec. Users per second: 4074\n"
     ]
    },
    {
     "name": "stderr",
     "output_type": "stream",
     "text": [
      "[I 2025-01-05 23:02:59,103] Trial 118 finished with value: 0.027657677762419685 and parameters: {'topK': 11, 'alpha': 0.24447216824348106}. Best is trial 111 with value: 0.02778813148349179.\n"
     ]
    },
    {
     "name": "stdout",
     "output_type": "stream",
     "text": [
      "P3alphaRecommender: Similarity column 38121 (100.0%), 5056.72 column/sec. Elapsed time 7.54 sec\n",
      "EvaluatorHoldout: Processed 34728 (100.0%) in 8.44 sec. Users per second: 4116\n"
     ]
    },
    {
     "name": "stderr",
     "output_type": "stream",
     "text": [
      "[I 2025-01-05 23:03:15,420] Trial 119 finished with value: 0.02775839700273798 and parameters: {'topK': 15, 'alpha': 0.30548624725296286}. Best is trial 111 with value: 0.02778813148349179.\n"
     ]
    },
    {
     "name": "stdout",
     "output_type": "stream",
     "text": [
      "P3alphaRecommender: Similarity column 38121 (100.0%), 4968.00 column/sec. Elapsed time 7.67 sec\n",
      "EvaluatorHoldout: Processed 34728 (100.0%) in 8.78 sec. Users per second: 3954\n"
     ]
    },
    {
     "name": "stderr",
     "output_type": "stream",
     "text": [
      "[I 2025-01-05 23:03:32,245] Trial 120 finished with value: 0.027699961012201055 and parameters: {'topK': 18, 'alpha': 0.30206192893593786}. Best is trial 111 with value: 0.02778813148349179.\n"
     ]
    },
    {
     "name": "stdout",
     "output_type": "stream",
     "text": [
      "P3alphaRecommender: Similarity column 38121 (100.0%), 5093.14 column/sec. Elapsed time 7.48 sec\n",
      "EvaluatorHoldout: Processed 34728 (100.0%) in 8.68 sec. Users per second: 4001\n"
     ]
    },
    {
     "name": "stderr",
     "output_type": "stream",
     "text": [
      "[I 2025-01-05 23:03:48,746] Trial 121 finished with value: 0.027721695681266475 and parameters: {'topK': 15, 'alpha': 0.3267663015171726}. Best is trial 111 with value: 0.02778813148349179.\n"
     ]
    },
    {
     "name": "stdout",
     "output_type": "stream",
     "text": [
      "P3alphaRecommender: Similarity column 38121 (100.0%), 5110.57 column/sec. Elapsed time 7.46 sec\n",
      "EvaluatorHoldout: Processed 34728 (100.0%) in 8.43 sec. Users per second: 4119\n"
     ]
    },
    {
     "name": "stderr",
     "output_type": "stream",
     "text": [
      "[I 2025-01-05 23:04:04,960] Trial 122 finished with value: 0.027726293773286864 and parameters: {'topK': 13, 'alpha': 0.2897946372846228}. Best is trial 111 with value: 0.02778813148349179.\n"
     ]
    },
    {
     "name": "stdout",
     "output_type": "stream",
     "text": [
      "P3alphaRecommender: Similarity column 38121 (100.0%), 5102.30 column/sec. Elapsed time 7.47 sec\n",
      "EvaluatorHoldout: Processed 34728 (100.0%) in 8.90 sec. Users per second: 3901\n"
     ]
    },
    {
     "name": "stderr",
     "output_type": "stream",
     "text": [
      "[I 2025-01-05 23:04:21,685] Trial 123 finished with value: 0.027666623702386692 and parameters: {'topK': 16, 'alpha': 0.2498758769421413}. Best is trial 111 with value: 0.02778813148349179.\n"
     ]
    },
    {
     "name": "stdout",
     "output_type": "stream",
     "text": [
      "P3alphaRecommender: Similarity column 38121 (100.0%), 5034.88 column/sec. Elapsed time 7.57 sec\n",
      "EvaluatorHoldout: Processed 34728 (100.0%) in 8.86 sec. Users per second: 3920\n"
     ]
    },
    {
     "name": "stderr",
     "output_type": "stream",
     "text": [
      "[I 2025-01-05 23:04:38,451] Trial 124 finished with value: 0.027814196860498817 and parameters: {'topK': 14, 'alpha': 0.30489731750244276}. Best is trial 124 with value: 0.027814196860498817.\n"
     ]
    },
    {
     "name": "stdout",
     "output_type": "stream",
     "text": [
      "P3alphaRecommender: Similarity column 38121 (100.0%), 4953.23 column/sec. Elapsed time 7.70 sec\n",
      "EvaluatorHoldout: Processed 34728 (100.0%) in 8.74 sec. Users per second: 3971\n"
     ]
    },
    {
     "name": "stderr",
     "output_type": "stream",
     "text": [
      "[I 2025-01-05 23:04:55,240] Trial 125 finished with value: 0.027731654024198225 and parameters: {'topK': 16, 'alpha': 0.30630632144659253}. Best is trial 124 with value: 0.027814196860498817.\n"
     ]
    },
    {
     "name": "stdout",
     "output_type": "stream",
     "text": [
      "P3alphaRecommender: Similarity column 38121 (100.0%), 5016.56 column/sec. Elapsed time 7.60 sec\n",
      "EvaluatorHoldout: Processed 34728 (100.0%) in 8.85 sec. Users per second: 3926\n"
     ]
    },
    {
     "name": "stderr",
     "output_type": "stream",
     "text": [
      "[I 2025-01-05 23:05:12,003] Trial 126 finished with value: 0.027668930747065824 and parameters: {'topK': 12, 'alpha': 0.2723494721692655}. Best is trial 124 with value: 0.027814196860498817.\n"
     ]
    },
    {
     "name": "stdout",
     "output_type": "stream",
     "text": [
      "P3alphaRecommender: Similarity column 38121 (100.0%), 4916.53 column/sec. Elapsed time 7.75 sec\n",
      "EvaluatorHoldout: Processed 34728 (100.0%) in 8.94 sec. Users per second: 3883\n"
     ]
    },
    {
     "name": "stderr",
     "output_type": "stream",
     "text": [
      "[I 2025-01-05 23:05:29,029] Trial 127 finished with value: 0.027719400063257342 and parameters: {'topK': 13, 'alpha': 0.28613336079003354}. Best is trial 124 with value: 0.027814196860498817.\n"
     ]
    },
    {
     "name": "stdout",
     "output_type": "stream",
     "text": [
      "P3alphaRecommender: Similarity column 38121 (100.0%), 4945.01 column/sec. Elapsed time 7.71 sec\n",
      "EvaluatorHoldout: Processed 34728 (100.0%) in 8.74 sec. Users per second: 3972\n"
     ]
    },
    {
     "name": "stderr",
     "output_type": "stream",
     "text": [
      "[I 2025-01-05 23:05:45,870] Trial 128 finished with value: 0.0276611000500937 and parameters: {'topK': 19, 'alpha': 0.2637252825671027}. Best is trial 124 with value: 0.027814196860498817.\n"
     ]
    },
    {
     "name": "stdout",
     "output_type": "stream",
     "text": [
      "P3alphaRecommender: Similarity column 38121 (100.0%), 4753.91 column/sec. Elapsed time 8.02 sec\n",
      "EvaluatorHoldout: Processed 34728 (100.0%) in 8.83 sec. Users per second: 3932\n"
     ]
    },
    {
     "name": "stderr",
     "output_type": "stream",
     "text": [
      "[I 2025-01-05 23:06:03,238] Trial 129 finished with value: 0.02705597559994514 and parameters: {'topK': 33, 'alpha': 0.29730096105061626}. Best is trial 124 with value: 0.027814196860498817.\n"
     ]
    },
    {
     "name": "stdout",
     "output_type": "stream",
     "text": [
      "P3alphaRecommender: Similarity column 38121 (100.0%), 5009.99 column/sec. Elapsed time 7.61 sec\n",
      "EvaluatorHoldout: Processed 34728 (100.0%) in 8.58 sec. Users per second: 4047\n"
     ]
    },
    {
     "name": "stderr",
     "output_type": "stream",
     "text": [
      "[I 2025-01-05 23:06:19,766] Trial 130 finished with value: 0.0277832740060618 and parameters: {'topK': 14, 'alpha': 0.32059487016491234}. Best is trial 124 with value: 0.027814196860498817.\n"
     ]
    },
    {
     "name": "stdout",
     "output_type": "stream",
     "text": [
      "P3alphaRecommender: Similarity column 38121 (100.0%), 5036.04 column/sec. Elapsed time 7.57 sec\n",
      "EvaluatorHoldout: Processed 34728 (100.0%) in 8.73 sec. Users per second: 3980\n"
     ]
    },
    {
     "name": "stderr",
     "output_type": "stream",
     "text": [
      "[I 2025-01-05 23:06:36,394] Trial 131 finished with value: 0.027775792965192708 and parameters: {'topK': 14, 'alpha': 0.32195818766688467}. Best is trial 124 with value: 0.027814196860498817.\n"
     ]
    },
    {
     "name": "stdout",
     "output_type": "stream",
     "text": [
      "P3alphaRecommender: Similarity column 38121 (100.0%), 5063.81 column/sec. Elapsed time 7.53 sec\n",
      "EvaluatorHoldout: Processed 34728 (100.0%) in 8.60 sec. Users per second: 4036\n"
     ]
    },
    {
     "name": "stderr",
     "output_type": "stream",
     "text": [
      "[I 2025-01-05 23:06:52,829] Trial 132 finished with value: 0.02746195947280014 and parameters: {'topK': 10, 'alpha': 0.32329287875581014}. Best is trial 124 with value: 0.027814196860498817.\n"
     ]
    },
    {
     "name": "stdout",
     "output_type": "stream",
     "text": [
      "P3alphaRecommender: Similarity column 38121 (100.0%), 5038.07 column/sec. Elapsed time 7.57 sec\n",
      "EvaluatorHoldout: Processed 34728 (100.0%) in 8.67 sec. Users per second: 4007\n"
     ]
    },
    {
     "name": "stderr",
     "output_type": "stream",
     "text": [
      "[I 2025-01-05 23:07:09,392] Trial 133 finished with value: 0.027755442065868077 and parameters: {'topK': 14, 'alpha': 0.31673995655050813}. Best is trial 124 with value: 0.027814196860498817.\n"
     ]
    },
    {
     "name": "stdout",
     "output_type": "stream",
     "text": [
      "P3alphaRecommender: Similarity column 38121 (100.0%), 5055.11 column/sec. Elapsed time 7.54 sec\n",
      "EvaluatorHoldout: Processed 34728 (100.0%) in 8.74 sec. Users per second: 3973\n"
     ]
    },
    {
     "name": "stderr",
     "output_type": "stream",
     "text": [
      "[I 2025-01-05 23:07:26,008] Trial 134 finished with value: 0.027762984810755332 and parameters: {'topK': 14, 'alpha': 0.31786009307726737}. Best is trial 124 with value: 0.027814196860498817.\n"
     ]
    },
    {
     "name": "stdout",
     "output_type": "stream",
     "text": [
      "P3alphaRecommender: Similarity column 38121 (100.0%), 5029.37 column/sec. Elapsed time 7.58 sec\n",
      "EvaluatorHoldout: Processed 34728 (100.0%) in 8.49 sec. Users per second: 4092\n"
     ]
    },
    {
     "name": "stderr",
     "output_type": "stream",
     "text": [
      "[I 2025-01-05 23:07:42,393] Trial 135 finished with value: 0.0276313484293349 and parameters: {'topK': 12, 'alpha': 0.31728498567993985}. Best is trial 124 with value: 0.027814196860498817.\n"
     ]
    },
    {
     "name": "stdout",
     "output_type": "stream",
     "text": [
      "P3alphaRecommender: Similarity column 38121 (100.0%), 4944.96 column/sec. Elapsed time 7.71 sec\n",
      "EvaluatorHoldout: Processed 34728 (100.0%) in 8.59 sec. Users per second: 4044\n"
     ]
    },
    {
     "name": "stderr",
     "output_type": "stream",
     "text": [
      "[I 2025-01-05 23:07:59,014] Trial 136 finished with value: 0.027714084376359093 and parameters: {'topK': 13, 'alpha': 0.30592585066632866}. Best is trial 124 with value: 0.027814196860498817.\n"
     ]
    },
    {
     "name": "stdout",
     "output_type": "stream",
     "text": [
      "P3alphaRecommender: Similarity column 38121 (100.0%), 5055.76 column/sec. Elapsed time 7.54 sec\n",
      "EvaluatorHoldout: Processed 34728 (100.0%) in 8.84 sec. Users per second: 3930\n"
     ]
    },
    {
     "name": "stderr",
     "output_type": "stream",
     "text": [
      "[I 2025-01-05 23:08:15,728] Trial 137 finished with value: 0.027767062989289274 and parameters: {'topK': 14, 'alpha': 0.32499872292074095}. Best is trial 124 with value: 0.027814196860498817.\n"
     ]
    },
    {
     "name": "stdout",
     "output_type": "stream",
     "text": [
      "P3alphaRecommender: Similarity column 38121 (100.0%), 4990.69 column/sec. Elapsed time 7.64 sec\n",
      "EvaluatorHoldout: Processed 34728 (100.0%) in 8.87 sec. Users per second: 3913\n"
     ]
    },
    {
     "name": "stderr",
     "output_type": "stream",
     "text": [
      "[I 2025-01-05 23:08:32,617] Trial 138 finished with value: 0.027632767621752673 and parameters: {'topK': 18, 'alpha': 0.377815793936556}. Best is trial 124 with value: 0.027814196860498817.\n"
     ]
    },
    {
     "name": "stdout",
     "output_type": "stream",
     "text": [
      "P3alphaRecommender: Similarity column 38121 (100.0%), 5071.88 column/sec. Elapsed time 7.52 sec\n",
      "EvaluatorHoldout: Processed 34728 (100.0%) in 8.56 sec. Users per second: 4056\n"
     ]
    },
    {
     "name": "stderr",
     "output_type": "stream",
     "text": [
      "[I 2025-01-05 23:08:48,991] Trial 139 finished with value: 0.027362881102298047 and parameters: {'topK': 9, 'alpha': 0.34034634347120046}. Best is trial 124 with value: 0.027814196860498817.\n"
     ]
    },
    {
     "name": "stdout",
     "output_type": "stream",
     "text": [
      "P3alphaRecommender: Similarity column 38121 (100.0%), 4996.16 column/sec. Elapsed time 7.63 sec\n",
      "EvaluatorHoldout: Processed 34728 (100.0%) in 8.79 sec. Users per second: 3950\n"
     ]
    },
    {
     "name": "stderr",
     "output_type": "stream",
     "text": [
      "[I 2025-01-05 23:09:05,719] Trial 140 finished with value: 0.027477980806850152 and parameters: {'topK': 10, 'alpha': 0.32531158635596813}. Best is trial 124 with value: 0.027814196860498817.\n"
     ]
    },
    {
     "name": "stdout",
     "output_type": "stream",
     "text": [
      "P3alphaRecommender: Similarity column 38121 (100.0%), 4806.86 column/sec. Elapsed time 7.93 sec\n",
      "EvaluatorHoldout: Processed 34728 (100.0%) in 8.95 sec. Users per second: 3880\n"
     ]
    },
    {
     "name": "stderr",
     "output_type": "stream",
     "text": [
      "[I 2025-01-05 23:09:22,934] Trial 141 finished with value: 0.027762825980041907 and parameters: {'topK': 14, 'alpha': 0.31746361629751757}. Best is trial 124 with value: 0.027814196860498817.\n"
     ]
    },
    {
     "name": "stdout",
     "output_type": "stream",
     "text": [
      "P3alphaRecommender: Similarity column 38121 (100.0%), 5151.05 column/sec. Elapsed time 7.40 sec\n",
      "EvaluatorHoldout: Processed 34728 (100.0%) in 8.76 sec. Users per second: 3966\n"
     ]
    },
    {
     "name": "stderr",
     "output_type": "stream",
     "text": [
      "[I 2025-01-05 23:09:39,426] Trial 142 finished with value: 0.027802078876931265 and parameters: {'topK': 14, 'alpha': 0.3008972668331685}. Best is trial 124 with value: 0.027814196860498817.\n"
     ]
    },
    {
     "name": "stdout",
     "output_type": "stream",
     "text": [
      "P3alphaRecommender: Similarity column 38121 (100.0%), 5051.30 column/sec. Elapsed time 7.55 sec\n",
      "EvaluatorHoldout: Processed 34728 (100.0%) in 8.85 sec. Users per second: 3923\n"
     ]
    },
    {
     "name": "stderr",
     "output_type": "stream",
     "text": [
      "[I 2025-01-05 23:09:56,148] Trial 143 finished with value: 0.027727470720299952 and parameters: {'topK': 13, 'alpha': 0.2773156791692464}. Best is trial 124 with value: 0.027814196860498817.\n"
     ]
    },
    {
     "name": "stdout",
     "output_type": "stream",
     "text": [
      "P3alphaRecommender: Similarity column 38121 (100.0%), 4901.74 column/sec. Elapsed time 7.78 sec\n",
      "EvaluatorHoldout: Processed 34728 (100.0%) in 8.62 sec. Users per second: 4027\n"
     ]
    },
    {
     "name": "stderr",
     "output_type": "stream",
     "text": [
      "[I 2025-01-05 23:10:12,885] Trial 144 finished with value: 0.02762772731760218 and parameters: {'topK': 14, 'alpha': 0.5058962122415374}. Best is trial 124 with value: 0.027814196860498817.\n"
     ]
    },
    {
     "name": "stdout",
     "output_type": "stream",
     "text": [
      "P3alphaRecommender: Similarity column 38121 (100.0%), 5188.66 column/sec. Elapsed time 7.35 sec\n",
      "EvaluatorHoldout: Processed 34728 (100.0%) in 8.58 sec. Users per second: 4045\n"
     ]
    },
    {
     "name": "stderr",
     "output_type": "stream",
     "text": [
      "[I 2025-01-05 23:10:29,127] Trial 145 finished with value: 0.027585241815761056 and parameters: {'topK': 11, 'alpha': 0.3305788458925826}. Best is trial 124 with value: 0.027814196860498817.\n"
     ]
    },
    {
     "name": "stdout",
     "output_type": "stream",
     "text": [
      "P3alphaRecommender: Similarity column 38121 (100.0%), 5036.20 column/sec. Elapsed time 7.57 sec\n",
      "EvaluatorHoldout: Processed 34728 (100.0%) in 8.92 sec. Users per second: 3891\n"
     ]
    },
    {
     "name": "stderr",
     "output_type": "stream",
     "text": [
      "[I 2025-01-05 23:10:45,979] Trial 146 finished with value: 0.027714921951272294 and parameters: {'topK': 16, 'alpha': 0.2986582920775011}. Best is trial 124 with value: 0.027814196860498817.\n"
     ]
    },
    {
     "name": "stdout",
     "output_type": "stream",
     "text": [
      "P3alphaRecommender: Similarity column 38121 (100.0%), 5005.48 column/sec. Elapsed time 7.62 sec\n",
      "EvaluatorHoldout: Processed 34728 (100.0%) in 8.49 sec. Users per second: 4090\n"
     ]
    },
    {
     "name": "stderr",
     "output_type": "stream",
     "text": [
      "[I 2025-01-05 23:11:02,398] Trial 147 finished with value: 0.027638959734242324 and parameters: {'topK': 12, 'alpha': 0.3153881177034413}. Best is trial 124 with value: 0.027814196860498817.\n"
     ]
    },
    {
     "name": "stdout",
     "output_type": "stream",
     "text": [
      "P3alphaRecommender: Similarity column 38121 (100.0%), 4680.04 column/sec. Elapsed time 8.15 sec\n",
      "EvaluatorHoldout: Processed 34728 (100.0%) in 8.55 sec. Users per second: 4062\n"
     ]
    },
    {
     "name": "stderr",
     "output_type": "stream",
     "text": [
      "[I 2025-01-05 23:11:19,437] Trial 148 finished with value: 0.027767891422866446 and parameters: {'topK': 14, 'alpha': 0.28254290023681794}. Best is trial 124 with value: 0.027814196860498817.\n"
     ]
    },
    {
     "name": "stdout",
     "output_type": "stream",
     "text": [
      "P3alphaRecommender: Similarity column 38121 (100.0%), 5115.02 column/sec. Elapsed time 7.45 sec\n",
      "EvaluatorHoldout: Processed 34728 (100.0%) in 8.67 sec. Users per second: 4006\n"
     ]
    },
    {
     "name": "stderr",
     "output_type": "stream",
     "text": [
      "[I 2025-01-05 23:11:35,891] Trial 149 finished with value: 0.027767030994613123 and parameters: {'topK': 14, 'alpha': 0.28307314307683096}. Best is trial 124 with value: 0.027814196860498817.\n"
     ]
    },
    {
     "name": "stdout",
     "output_type": "stream",
     "text": [
      "P3alphaRecommender: Similarity column 38121 (100.0%), 5110.24 column/sec. Elapsed time 7.46 sec\n",
      "EvaluatorHoldout: Processed 34728 (100.0%) in 8.76 sec. Users per second: 3966\n"
     ]
    },
    {
     "name": "stderr",
     "output_type": "stream",
     "text": [
      "[I 2025-01-05 23:11:52,417] Trial 150 finished with value: 0.027661450848863765 and parameters: {'topK': 12, 'alpha': 0.27911981572655614}. Best is trial 124 with value: 0.027814196860498817.\n"
     ]
    },
    {
     "name": "stdout",
     "output_type": "stream",
     "text": [
      "P3alphaRecommender: Similarity column 38121 (100.0%), 5133.08 column/sec. Elapsed time 7.43 sec\n",
      "EvaluatorHoldout: Processed 34728 (100.0%) in 8.80 sec. Users per second: 3948\n"
     ]
    },
    {
     "name": "stderr",
     "output_type": "stream",
     "text": [
      "[I 2025-01-05 23:12:08,978] Trial 151 finished with value: 0.027778528509998013 and parameters: {'topK': 14, 'alpha': 0.28411874098010725}. Best is trial 124 with value: 0.027814196860498817.\n"
     ]
    },
    {
     "name": "stdout",
     "output_type": "stream",
     "text": [
      "P3alphaRecommender: Similarity column 38121 (100.0%), 5033.71 column/sec. Elapsed time 7.57 sec\n",
      "EvaluatorHoldout: Processed 34728 (100.0%) in 8.63 sec. Users per second: 4023\n"
     ]
    },
    {
     "name": "stderr",
     "output_type": "stream",
     "text": [
      "[I 2025-01-05 23:12:25,516] Trial 152 finished with value: 0.02773134664677437 and parameters: {'topK': 14, 'alpha': 0.2651753689269868}. Best is trial 124 with value: 0.027814196860498817.\n"
     ]
    },
    {
     "name": "stdout",
     "output_type": "stream",
     "text": [
      "P3alphaRecommender: Similarity column 38121 (100.0%), 5050.01 column/sec. Elapsed time 7.55 sec\n",
      "EvaluatorHoldout: Processed 34728 (100.0%) in 8.67 sec. Users per second: 4006\n"
     ]
    },
    {
     "name": "stderr",
     "output_type": "stream",
     "text": [
      "[I 2025-01-05 23:12:42,060] Trial 153 finished with value: 0.027718067713531743 and parameters: {'topK': 13, 'alpha': 0.2829634174057693}. Best is trial 124 with value: 0.027814196860498817.\n"
     ]
    },
    {
     "name": "stdout",
     "output_type": "stream",
     "text": [
      "P3alphaRecommender: Similarity column 38121 (100.0%), 5040.68 column/sec. Elapsed time 7.56 sec\n",
      "EvaluatorHoldout: Processed 34728 (100.0%) in 8.75 sec. Users per second: 3967\n"
     ]
    },
    {
     "name": "stderr",
     "output_type": "stream",
     "text": [
      "[I 2025-01-05 23:12:58,722] Trial 154 finished with value: 0.027710577531326625 and parameters: {'topK': 16, 'alpha': 0.29498513242192304}. Best is trial 124 with value: 0.027814196860498817.\n"
     ]
    },
    {
     "name": "stdout",
     "output_type": "stream",
     "text": [
      "P3alphaRecommender: Similarity column 38121 (100.0%), 5037.62 column/sec. Elapsed time 7.57 sec\n",
      "EvaluatorHoldout: Processed 34728 (100.0%) in 8.54 sec. Users per second: 4064\n"
     ]
    },
    {
     "name": "stderr",
     "output_type": "stream",
     "text": [
      "[I 2025-01-05 23:13:15,172] Trial 155 finished with value: 0.027731657452199215 and parameters: {'topK': 15, 'alpha': 0.2720071935809542}. Best is trial 124 with value: 0.027814196860498817.\n"
     ]
    },
    {
     "name": "stdout",
     "output_type": "stream",
     "text": [
      "P3alphaRecommender: Similarity column 38121 (100.0%), 5060.81 column/sec. Elapsed time 7.53 sec\n",
      "EvaluatorHoldout: Processed 34728 (100.0%) in 8.70 sec. Users per second: 3993\n"
     ]
    },
    {
     "name": "stderr",
     "output_type": "stream",
     "text": [
      "[I 2025-01-05 23:13:31,703] Trial 156 finished with value: 0.027623721127089423 and parameters: {'topK': 11, 'alpha': 0.2544433630025315}. Best is trial 124 with value: 0.027814196860498817.\n"
     ]
    },
    {
     "name": "stdout",
     "output_type": "stream",
     "text": [
      "P3alphaRecommender: Similarity column 38121 (100.0%), 5011.73 column/sec. Elapsed time 7.61 sec\n",
      "EvaluatorHoldout: Processed 34728 (100.0%) in 8.75 sec. Users per second: 3967\n"
     ]
    },
    {
     "name": "stderr",
     "output_type": "stream",
     "text": [
      "[I 2025-01-05 23:13:48,395] Trial 157 finished with value: 0.02777634715868915 and parameters: {'topK': 14, 'alpha': 0.2864109505813119}. Best is trial 124 with value: 0.027814196860498817.\n"
     ]
    },
    {
     "name": "stdout",
     "output_type": "stream",
     "text": [
      "P3alphaRecommender: Similarity column 38121 (100.0%), 5023.94 column/sec. Elapsed time 7.59 sec\n",
      "EvaluatorHoldout: Processed 34728 (100.0%) in 8.75 sec. Users per second: 3969\n"
     ]
    },
    {
     "name": "stderr",
     "output_type": "stream",
     "text": [
      "[I 2025-01-05 23:14:05,075] Trial 158 finished with value: 0.027627010865391384 and parameters: {'topK': 16, 'alpha': 0.2329444225823072}. Best is trial 124 with value: 0.027814196860498817.\n"
     ]
    },
    {
     "name": "stdout",
     "output_type": "stream",
     "text": [
      "P3alphaRecommender: Similarity column 38121 (100.0%), 4867.52 column/sec. Elapsed time 7.83 sec\n",
      "EvaluatorHoldout: Processed 34728 (100.0%) in 9.06 sec. Users per second: 3833\n"
     ]
    },
    {
     "name": "stderr",
     "output_type": "stream",
     "text": [
      "[I 2025-01-05 23:14:22,505] Trial 159 finished with value: 0.026920374164024118 and parameters: {'topK': 37, 'alpha': 0.28563201459033194}. Best is trial 124 with value: 0.027814196860498817.\n"
     ]
    },
    {
     "name": "stdout",
     "output_type": "stream",
     "text": [
      "P3alphaRecommender: Similarity column 38121 (100.0%), 5039.93 column/sec. Elapsed time 7.56 sec\n",
      "EvaluatorHoldout: Processed 34728 (100.0%) in 8.99 sec. Users per second: 3863\n"
     ]
    },
    {
     "name": "stderr",
     "output_type": "stream",
     "text": [
      "[I 2025-01-05 23:14:39,382] Trial 160 finished with value: 0.027705010457687723 and parameters: {'topK': 13, 'alpha': 0.26516983459867877}. Best is trial 124 with value: 0.027814196860498817.\n"
     ]
    },
    {
     "name": "stdout",
     "output_type": "stream",
     "text": [
      "P3alphaRecommender: Similarity column 38121 (100.0%), 4878.42 column/sec. Elapsed time 7.81 sec\n",
      "EvaluatorHoldout: Processed 34728 (100.0%) in 8.67 sec. Users per second: 4006\n"
     ]
    },
    {
     "name": "stderr",
     "output_type": "stream",
     "text": [
      "[I 2025-01-05 23:14:56,194] Trial 161 finished with value: 0.027798216662460927 and parameters: {'topK': 14, 'alpha': 0.2995627929383269}. Best is trial 124 with value: 0.027814196860498817.\n"
     ]
    },
    {
     "name": "stdout",
     "output_type": "stream",
     "text": [
      "P3alphaRecommender: Similarity column 38121 (100.0%), 4830.38 column/sec. Elapsed time 7.89 sec\n",
      "EvaluatorHoldout: Processed 34728 (100.0%) in 8.91 sec. Users per second: 3896\n"
     ]
    },
    {
     "name": "stderr",
     "output_type": "stream",
     "text": [
      "[I 2025-01-05 23:15:13,333] Trial 162 finished with value: 0.027798591457237936 and parameters: {'topK': 14, 'alpha': 0.297892037242555}. Best is trial 124 with value: 0.027814196860498817.\n"
     ]
    },
    {
     "name": "stdout",
     "output_type": "stream",
     "text": [
      "P3alphaRecommender: Similarity column 38121 (100.0%), 5103.63 column/sec. Elapsed time 7.47 sec\n",
      "EvaluatorHoldout: Processed 34728 (100.0%) in 8.82 sec. Users per second: 3939\n"
     ]
    },
    {
     "name": "stderr",
     "output_type": "stream",
     "text": [
      "[I 2025-01-05 23:15:29,943] Trial 163 finished with value: 0.027671636582529066 and parameters: {'topK': 12, 'alpha': 0.29973923355842363}. Best is trial 124 with value: 0.027814196860498817.\n"
     ]
    },
    {
     "name": "stdout",
     "output_type": "stream",
     "text": [
      "P3alphaRecommender: Similarity column 38121 (100.0%), 5079.96 column/sec. Elapsed time 7.50 sec\n",
      "EvaluatorHoldout: Processed 34728 (100.0%) in 8.56 sec. Users per second: 4056\n"
     ]
    },
    {
     "name": "stderr",
     "output_type": "stream",
     "text": [
      "[I 2025-01-05 23:15:46,353] Trial 164 finished with value: 0.02775284135576907 and parameters: {'topK': 15, 'alpha': 0.3060150398498968}. Best is trial 124 with value: 0.027814196860498817.\n"
     ]
    },
    {
     "name": "stdout",
     "output_type": "stream",
     "text": [
      "P3alphaRecommender: Similarity column 38121 (100.0%), 4947.29 column/sec. Elapsed time 7.71 sec\n",
      "EvaluatorHoldout: Processed 34728 (100.0%) in 8.44 sec. Users per second: 4115\n"
     ]
    },
    {
     "name": "stderr",
     "output_type": "stream",
     "text": [
      "[I 2025-01-05 23:16:02,854] Trial 165 finished with value: 0.02765703558356384 and parameters: {'topK': 17, 'alpha': 0.27487659551222515}. Best is trial 124 with value: 0.027814196860498817.\n"
     ]
    },
    {
     "name": "stdout",
     "output_type": "stream",
     "text": [
      "P3alphaRecommender: Similarity column 38121 (100.0%), 5051.11 column/sec. Elapsed time 7.55 sec\n",
      "EvaluatorHoldout: Processed 34728 (100.0%) in 8.90 sec. Users per second: 3900\n"
     ]
    },
    {
     "name": "stderr",
     "output_type": "stream",
     "text": [
      "[I 2025-01-05 23:16:19,628] Trial 166 finished with value: 0.027712669754609256 and parameters: {'topK': 13, 'alpha': 0.2956911788822276}. Best is trial 124 with value: 0.027814196860498817.\n"
     ]
    },
    {
     "name": "stdout",
     "output_type": "stream",
     "text": [
      "P3alphaRecommender: Similarity column 38121 (100.0%), 5073.58 column/sec. Elapsed time 7.51 sec\n",
      "EvaluatorHoldout: Processed 34728 (100.0%) in 8.95 sec. Users per second: 3879\n"
     ]
    },
    {
     "name": "stderr",
     "output_type": "stream",
     "text": [
      "[I 2025-01-05 23:16:36,417] Trial 167 finished with value: 0.0276487272517846 and parameters: {'topK': 12, 'alpha': 0.28753484137671215}. Best is trial 124 with value: 0.027814196860498817.\n"
     ]
    },
    {
     "name": "stdout",
     "output_type": "stream",
     "text": [
      "P3alphaRecommender: Similarity column 38121 (100.0%), 4901.27 column/sec. Elapsed time 7.78 sec\n",
      "EvaluatorHoldout: Processed 34728 (100.0%) in 8.72 sec. Users per second: 3981\n"
     ]
    },
    {
     "name": "stderr",
     "output_type": "stream",
     "text": [
      "[I 2025-01-05 23:16:53,270] Trial 168 finished with value: 0.027735428253309317 and parameters: {'topK': 15, 'alpha': 0.3078659287943213}. Best is trial 124 with value: 0.027814196860498817.\n"
     ]
    },
    {
     "name": "stdout",
     "output_type": "stream",
     "text": [
      "P3alphaRecommender: Similarity column 38121 (100.0%), 5169.48 column/sec. Elapsed time 7.37 sec\n",
      "EvaluatorHoldout: Processed 34728 (100.0%) in 8.43 sec. Users per second: 4118\n"
     ]
    },
    {
     "name": "stderr",
     "output_type": "stream",
     "text": [
      "[I 2025-01-05 23:17:09,385] Trial 169 finished with value: 0.027633300104576163 and parameters: {'topK': 11, 'alpha': 0.2903111273721109}. Best is trial 124 with value: 0.027814196860498817.\n"
     ]
    },
    {
     "name": "stdout",
     "output_type": "stream",
     "text": [
      "P3alphaRecommender: Similarity column 38121 (100.0%), 4708.84 column/sec. Elapsed time 8.10 sec\n",
      "EvaluatorHoldout: Processed 34728 (100.0%) in 9.32 sec. Users per second: 3726\n"
     ]
    },
    {
     "name": "stderr",
     "output_type": "stream",
     "text": [
      "[I 2025-01-05 23:17:27,484] Trial 170 finished with value: 0.026518469612370078 and parameters: {'topK': 47, 'alpha': 0.27510602092161995}. Best is trial 124 with value: 0.027814196860498817.\n"
     ]
    },
    {
     "name": "stdout",
     "output_type": "stream",
     "text": [
      "P3alphaRecommender: Similarity column 38121 (100.0%), 5071.72 column/sec. Elapsed time 7.52 sec\n",
      "EvaluatorHoldout: Processed 34728 (100.0%) in 8.77 sec. Users per second: 3960\n"
     ]
    },
    {
     "name": "stderr",
     "output_type": "stream",
     "text": [
      "[I 2025-01-05 23:17:44,100] Trial 171 finished with value: 0.02776401892439306 and parameters: {'topK': 14, 'alpha': 0.28033213249052247}. Best is trial 124 with value: 0.027814196860498817.\n"
     ]
    },
    {
     "name": "stdout",
     "output_type": "stream",
     "text": [
      "P3alphaRecommender: Similarity column 38121 (100.0%), 4946.53 column/sec. Elapsed time 7.71 sec\n",
      "EvaluatorHoldout: Processed 34728 (100.0%) in 8.44 sec. Users per second: 4116\n"
     ]
    },
    {
     "name": "stderr",
     "output_type": "stream",
     "text": [
      "[I 2025-01-05 23:18:00,574] Trial 172 finished with value: 0.027729134443456465 and parameters: {'topK': 14, 'alpha': 0.25991131678592305}. Best is trial 124 with value: 0.027814196860498817.\n"
     ]
    },
    {
     "name": "stdout",
     "output_type": "stream",
     "text": [
      "P3alphaRecommender: Similarity column 38121 (100.0%), 5106.29 column/sec. Elapsed time 7.47 sec\n",
      "EvaluatorHoldout: Processed 34728 (100.0%) in 8.56 sec. Users per second: 4055\n"
     ]
    },
    {
     "name": "stderr",
     "output_type": "stream",
     "text": [
      "[I 2025-01-05 23:18:16,949] Trial 173 finished with value: 0.027738003824734306 and parameters: {'topK': 16, 'alpha': 0.3021303957855175}. Best is trial 124 with value: 0.027814196860498817.\n"
     ]
    },
    {
     "name": "stdout",
     "output_type": "stream",
     "text": [
      "P3alphaRecommender: Similarity column 38121 (100.0%), 5043.83 column/sec. Elapsed time 7.56 sec\n",
      "EvaluatorHoldout: Processed 34728 (100.0%) in 8.48 sec. Users per second: 4097\n"
     ]
    },
    {
     "name": "stderr",
     "output_type": "stream",
     "text": [
      "[I 2025-01-05 23:18:33,301] Trial 174 finished with value: 0.02771291314268092 and parameters: {'topK': 13, 'alpha': 0.2863763122650339}. Best is trial 124 with value: 0.027814196860498817.\n"
     ]
    },
    {
     "name": "stdout",
     "output_type": "stream",
     "text": [
      "P3alphaRecommender: Similarity column 38121 (100.0%), 5127.32 column/sec. Elapsed time 7.43 sec\n",
      "EvaluatorHoldout: Processed 34728 (100.0%) in 8.58 sec. Users per second: 4048\n"
     ]
    },
    {
     "name": "stderr",
     "output_type": "stream",
     "text": [
      "[I 2025-01-05 23:18:49,658] Trial 175 finished with value: 0.027770265884898893 and parameters: {'topK': 15, 'alpha': 0.2952249203622217}. Best is trial 124 with value: 0.027814196860498817.\n"
     ]
    },
    {
     "name": "stdout",
     "output_type": "stream",
     "text": [
      "P3alphaRecommender: Similarity column 38121 (100.0%), 5109.38 column/sec. Elapsed time 7.46 sec\n",
      "EvaluatorHoldout: Processed 34728 (100.0%) in 8.87 sec. Users per second: 3916\n"
     ]
    },
    {
     "name": "stderr",
     "output_type": "stream",
     "text": [
      "[I 2025-01-05 23:19:06,343] Trial 176 finished with value: 0.027710839202070296 and parameters: {'topK': 17, 'alpha': 0.29658339023333957}. Best is trial 124 with value: 0.027814196860498817.\n"
     ]
    },
    {
     "name": "stdout",
     "output_type": "stream",
     "text": [
      "P3alphaRecommender: Similarity column 38121 (100.0%), 5002.16 column/sec. Elapsed time 7.62 sec\n",
      "EvaluatorHoldout: Processed 34728 (100.0%) in 8.55 sec. Users per second: 4062\n"
     ]
    },
    {
     "name": "stderr",
     "output_type": "stream",
     "text": [
      "[I 2025-01-05 23:19:22,865] Trial 177 finished with value: 0.02773956356519342 and parameters: {'topK': 15, 'alpha': 0.30936848197384476}. Best is trial 124 with value: 0.027814196860498817.\n"
     ]
    },
    {
     "name": "stdout",
     "output_type": "stream",
     "text": [
      "P3alphaRecommender: Similarity column 38121 (100.0%), 4994.04 column/sec. Elapsed time 7.63 sec\n",
      "EvaluatorHoldout: Processed 34728 (100.0%) in 8.82 sec. Users per second: 3936\n"
     ]
    },
    {
     "name": "stderr",
     "output_type": "stream",
     "text": [
      "[I 2025-01-05 23:19:39,646] Trial 178 finished with value: 0.027712425223870615 and parameters: {'topK': 13, 'alpha': 0.26659339015435135}. Best is trial 124 with value: 0.027814196860498817.\n"
     ]
    },
    {
     "name": "stdout",
     "output_type": "stream",
     "text": [
      "P3alphaRecommender: Similarity column 38121 (100.0%), 2363.17 column/sec. Elapsed time 16.13 sec\n",
      "EvaluatorHoldout: Processed 34728 (100.0%) in 8.15 sec. Users per second: 4263\n"
     ]
    },
    {
     "name": "stderr",
     "output_type": "stream",
     "text": [
      "[I 2025-01-05 23:20:04,152] Trial 179 finished with value: 0.01929774999725756 and parameters: {'topK': 2, 'alpha': 0.2959773177642077}. Best is trial 124 with value: 0.027814196860498817.\n"
     ]
    },
    {
     "name": "stdout",
     "output_type": "stream",
     "text": [
      "P3alphaRecommender: Similarity column 38121 (100.0%), 5123.31 column/sec. Elapsed time 7.44 sec\n",
      "EvaluatorHoldout: Processed 34728 (100.0%) in 8.44 sec. Users per second: 4116\n"
     ]
    },
    {
     "name": "stderr",
     "output_type": "stream",
     "text": [
      "[I 2025-01-05 23:20:20,374] Trial 180 finished with value: 0.02773115467871788 and parameters: {'topK': 16, 'alpha': 0.3110120271131391}. Best is trial 124 with value: 0.027814196860498817.\n"
     ]
    },
    {
     "name": "stdout",
     "output_type": "stream",
     "text": [
      "P3alphaRecommender: Similarity column 38121 (100.0%), 5130.60 column/sec. Elapsed time 7.43 sec\n",
      "EvaluatorHoldout: Processed 34728 (100.0%) in 8.38 sec. Users per second: 4144\n"
     ]
    },
    {
     "name": "stderr",
     "output_type": "stream",
     "text": [
      "[I 2025-01-05 23:20:36,508] Trial 181 finished with value: 0.02776948658600273 and parameters: {'topK': 14, 'alpha': 0.2832600576940695}. Best is trial 124 with value: 0.027814196860498817.\n"
     ]
    },
    {
     "name": "stdout",
     "output_type": "stream",
     "text": [
      "P3alphaRecommender: Similarity column 38121 (100.0%), 5139.29 column/sec. Elapsed time 7.42 sec\n",
      "EvaluatorHoldout: Processed 34728 (100.0%) in 8.39 sec. Users per second: 4137\n"
     ]
    },
    {
     "name": "stderr",
     "output_type": "stream",
     "text": [
      "[I 2025-01-05 23:20:52,647] Trial 182 finished with value: 0.027746605821933314 and parameters: {'topK': 14, 'alpha': 0.27375862538687196}. Best is trial 124 with value: 0.027814196860498817.\n"
     ]
    },
    {
     "name": "stdout",
     "output_type": "stream",
     "text": [
      "P3alphaRecommender: Similarity column 38121 (100.0%), 5207.53 column/sec. Elapsed time 7.32 sec\n",
      "EvaluatorHoldout: Processed 34728 (100.0%) in 8.39 sec. Users per second: 4140\n"
     ]
    },
    {
     "name": "stderr",
     "output_type": "stream",
     "text": [
      "[I 2025-01-05 23:21:08,692] Trial 183 finished with value: 0.027728600817966013 and parameters: {'topK': 15, 'alpha': 0.2881820746926686}. Best is trial 124 with value: 0.027814196860498817.\n"
     ]
    },
    {
     "name": "stdout",
     "output_type": "stream",
     "text": [
      "P3alphaRecommender: Similarity column 38121 (100.0%), 5178.80 column/sec. Elapsed time 7.36 sec\n",
      "EvaluatorHoldout: Processed 34728 (100.0%) in 8.40 sec. Users per second: 4132\n"
     ]
    },
    {
     "name": "stderr",
     "output_type": "stream",
     "text": [
      "[I 2025-01-05 23:21:24,785] Trial 184 finished with value: 0.02776369783496526 and parameters: {'topK': 14, 'alpha': 0.3259556269503796}. Best is trial 124 with value: 0.027814196860498817.\n"
     ]
    },
    {
     "name": "stdout",
     "output_type": "stream",
     "text": [
      "P3alphaRecommender: Similarity column 38121 (100.0%), 5199.15 column/sec. Elapsed time 7.33 sec\n",
      "EvaluatorHoldout: Processed 34728 (100.0%) in 8.37 sec. Users per second: 4150\n"
     ]
    },
    {
     "name": "stderr",
     "output_type": "stream",
     "text": [
      "[I 2025-01-05 23:21:40,795] Trial 185 finished with value: 0.027682435928375097 and parameters: {'topK': 12, 'alpha': 0.24935310094980523}. Best is trial 124 with value: 0.027814196860498817.\n"
     ]
    },
    {
     "name": "stdout",
     "output_type": "stream",
     "text": [
      "P3alphaRecommender: Similarity column 38121 (100.0%), 5167.64 column/sec. Elapsed time 7.38 sec\n",
      "EvaluatorHoldout: Processed 34728 (100.0%) in 8.36 sec. Users per second: 4156\n"
     ]
    },
    {
     "name": "stderr",
     "output_type": "stream",
     "text": [
      "[I 2025-01-05 23:21:56,844] Trial 186 finished with value: 0.027737003991106613 and parameters: {'topK': 13, 'alpha': 0.3029242023277786}. Best is trial 124 with value: 0.027814196860498817.\n"
     ]
    },
    {
     "name": "stdout",
     "output_type": "stream",
     "text": [
      "P3alphaRecommender: Similarity column 38121 (100.0%), 5116.31 column/sec. Elapsed time 7.45 sec\n",
      "EvaluatorHoldout: Processed 34728 (100.0%) in 8.42 sec. Users per second: 4124\n"
     ]
    },
    {
     "name": "stderr",
     "output_type": "stream",
     "text": [
      "[I 2025-01-05 23:22:13,051] Trial 187 finished with value: 0.027728432845916553 and parameters: {'topK': 15, 'alpha': 0.2801714159264753}. Best is trial 124 with value: 0.027814196860498817.\n"
     ]
    },
    {
     "name": "stdout",
     "output_type": "stream",
     "text": [
      "P3alphaRecommender: Similarity column 38121 (100.0%), 5119.08 column/sec. Elapsed time 7.45 sec\n",
      "EvaluatorHoldout: Processed 34728 (100.0%) in 8.45 sec. Users per second: 4109\n"
     ]
    },
    {
     "name": "stderr",
     "output_type": "stream",
     "text": [
      "[I 2025-01-05 23:22:29,310] Trial 188 finished with value: 0.027690152358646705 and parameters: {'topK': 18, 'alpha': 0.29493111492316826}. Best is trial 124 with value: 0.027814196860498817.\n"
     ]
    },
    {
     "name": "stdout",
     "output_type": "stream",
     "text": [
      "P3alphaRecommender: Similarity column 38121 (100.0%), 5069.83 column/sec. Elapsed time 7.52 sec\n",
      "EvaluatorHoldout: Processed 34728 (100.0%) in 8.68 sec. Users per second: 4000\n"
     ]
    },
    {
     "name": "stderr",
     "output_type": "stream",
     "text": [
      "[I 2025-01-05 23:22:45,857] Trial 189 finished with value: 0.02765832565461041 and parameters: {'topK': 16, 'alpha': 0.2623477562264002}. Best is trial 124 with value: 0.027814196860498817.\n"
     ]
    },
    {
     "name": "stdout",
     "output_type": "stream",
     "text": [
      "P3alphaRecommender: Similarity column 38121 (100.0%), 4994.03 column/sec. Elapsed time 7.63 sec\n",
      "EvaluatorHoldout: Processed 34728 (100.0%) in 8.51 sec. Users per second: 4081\n"
     ]
    },
    {
     "name": "stderr",
     "output_type": "stream",
     "text": [
      "[I 2025-01-05 23:23:02,314] Trial 190 finished with value: 0.027587610564458465 and parameters: {'topK': 11, 'alpha': 0.2721804522596949}. Best is trial 124 with value: 0.027814196860498817.\n"
     ]
    },
    {
     "name": "stdout",
     "output_type": "stream",
     "text": [
      "P3alphaRecommender: Similarity column 38121 (100.0%), 4891.43 column/sec. Elapsed time 7.79 sec\n",
      "EvaluatorHoldout: Processed 34728 (100.0%) in 8.95 sec. Users per second: 3880\n"
     ]
    },
    {
     "name": "stderr",
     "output_type": "stream",
     "text": [
      "[I 2025-01-05 23:23:19,393] Trial 191 finished with value: 0.027770392720936163 and parameters: {'topK': 14, 'alpha': 0.28331056595302845}. Best is trial 124 with value: 0.027814196860498817.\n"
     ]
    },
    {
     "name": "stdout",
     "output_type": "stream",
     "text": [
      "P3alphaRecommender: Similarity column 38121 (100.0%), 4876.45 column/sec. Elapsed time 7.82 sec\n",
      "EvaluatorHoldout: Processed 34728 (100.0%) in 8.94 sec. Users per second: 3884\n"
     ]
    },
    {
     "name": "stderr",
     "output_type": "stream",
     "text": [
      "[I 2025-01-05 23:23:36,495] Trial 192 finished with value: 0.027773377367148185 and parameters: {'topK': 14, 'alpha': 0.2842963199990509}. Best is trial 124 with value: 0.027814196860498817.\n"
     ]
    },
    {
     "name": "stdout",
     "output_type": "stream",
     "text": [
      "P3alphaRecommender: Similarity column 38121 (100.0%), 5097.09 column/sec. Elapsed time 7.48 sec\n",
      "EvaluatorHoldout: Processed 34728 (100.0%) in 8.63 sec. Users per second: 4026\n"
     ]
    },
    {
     "name": "stderr",
     "output_type": "stream",
     "text": [
      "[I 2025-01-05 23:23:52,924] Trial 193 finished with value: 0.027712838869325733 and parameters: {'topK': 13, 'alpha': 0.2869721207338732}. Best is trial 124 with value: 0.027814196860498817.\n"
     ]
    },
    {
     "name": "stdout",
     "output_type": "stream",
     "text": [
      "P3alphaRecommender: Similarity column 38121 (100.0%), 4975.61 column/sec. Elapsed time 7.66 sec\n",
      "EvaluatorHoldout: Processed 34728 (100.0%) in 8.49 sec. Users per second: 4089\n"
     ]
    },
    {
     "name": "stderr",
     "output_type": "stream",
     "text": [
      "[I 2025-01-05 23:24:09,419] Trial 194 finished with value: 0.02772722047622628 and parameters: {'topK': 15, 'alpha': 0.27894542369024866}. Best is trial 124 with value: 0.027814196860498817.\n"
     ]
    },
    {
     "name": "stdout",
     "output_type": "stream",
     "text": [
      "P3alphaRecommender: Similarity column 38121 (100.0%), 5058.38 column/sec. Elapsed time 7.54 sec\n",
      "EvaluatorHoldout: Processed 34728 (100.0%) in 8.79 sec. Users per second: 3951\n"
     ]
    },
    {
     "name": "stderr",
     "output_type": "stream",
     "text": [
      "[I 2025-01-05 23:24:26,071] Trial 195 finished with value: 0.02771865047370331 and parameters: {'topK': 13, 'alpha': 0.2931529044403322}. Best is trial 124 with value: 0.027814196860498817.\n"
     ]
    },
    {
     "name": "stdout",
     "output_type": "stream",
     "text": [
      "P3alphaRecommender: Similarity column 38121 (100.0%), 5107.31 column/sec. Elapsed time 7.46 sec\n",
      "EvaluatorHoldout: Processed 34728 (100.0%) in 8.44 sec. Users per second: 4117\n"
     ]
    },
    {
     "name": "stderr",
     "output_type": "stream",
     "text": [
      "[I 2025-01-05 23:24:42,308] Trial 196 finished with value: 0.027755658029931633 and parameters: {'topK': 15, 'alpha': 0.30487796035045306}. Best is trial 124 with value: 0.027814196860498817.\n"
     ]
    },
    {
     "name": "stdout",
     "output_type": "stream",
     "text": [
      "P3alphaRecommender: Similarity column 38121 (100.0%), 5159.94 column/sec. Elapsed time 7.39 sec\n",
      "EvaluatorHoldout: Processed 34728 (100.0%) in 8.39 sec. Users per second: 4137\n"
     ]
    },
    {
     "name": "stderr",
     "output_type": "stream",
     "text": [
      "[I 2025-01-05 23:24:58,401] Trial 197 finished with value: 0.027670833287625936 and parameters: {'topK': 12, 'alpha': 0.27409760569154534}. Best is trial 124 with value: 0.027814196860498817.\n"
     ]
    },
    {
     "name": "stdout",
     "output_type": "stream",
     "text": [
      "P3alphaRecommender: Similarity column 38121 (100.0%), 5120.16 column/sec. Elapsed time 7.45 sec\n",
      "EvaluatorHoldout: Processed 34728 (100.0%) in 8.40 sec. Users per second: 4134\n"
     ]
    },
    {
     "name": "stderr",
     "output_type": "stream",
     "text": [
      "[I 2025-01-05 23:25:14,571] Trial 198 finished with value: 0.027773602472547777 and parameters: {'topK': 14, 'alpha': 0.28396810372841774}. Best is trial 124 with value: 0.027814196860498817.\n"
     ]
    },
    {
     "name": "stdout",
     "output_type": "stream",
     "text": [
      "P3alphaRecommender: Similarity column 38121 (100.0%), 5177.49 column/sec. Elapsed time 7.36 sec\n",
      "EvaluatorHoldout: Processed 34728 (100.0%) in 8.44 sec. Users per second: 4116\n"
     ]
    },
    {
     "name": "stderr",
     "output_type": "stream",
     "text": [
      "[I 2025-01-05 23:25:30,716] Trial 199 finished with value: 0.027668290853544157 and parameters: {'topK': 16, 'alpha': 0.2582786282975665}. Best is trial 124 with value: 0.027814196860498817.\n"
     ]
    },
    {
     "name": "stdout",
     "output_type": "stream",
     "text": [
      "P3alphaRecommender: Similarity column 38121 (100.0%), 5161.87 column/sec. Elapsed time 7.39 sec\n",
      "EvaluatorHoldout: Processed 34728 (100.0%) in 8.47 sec. Users per second: 4098\n"
     ]
    },
    {
     "name": "stderr",
     "output_type": "stream",
     "text": [
      "[I 2025-01-05 23:25:46,903] Trial 200 finished with value: 0.027801178455332868 and parameters: {'topK': 14, 'alpha': 0.298517451814149}. Best is trial 124 with value: 0.027814196860498817.\n"
     ]
    },
    {
     "name": "stdout",
     "output_type": "stream",
     "text": [
      "P3alphaRecommender: Similarity column 38121 (100.0%), 5080.30 column/sec. Elapsed time 7.50 sec\n",
      "EvaluatorHoldout: Processed 34728 (100.0%) in 8.53 sec. Users per second: 4069\n"
     ]
    },
    {
     "name": "stderr",
     "output_type": "stream",
     "text": [
      "[I 2025-01-05 23:26:03,278] Trial 201 finished with value: 0.027795203449573827 and parameters: {'topK': 14, 'alpha': 0.2946897404225916}. Best is trial 124 with value: 0.027814196860498817.\n"
     ]
    },
    {
     "name": "stdout",
     "output_type": "stream",
     "text": [
      "P3alphaRecommender: Similarity column 38121 (100.0%), 5113.32 column/sec. Elapsed time 7.46 sec\n",
      "EvaluatorHoldout: Processed 34728 (100.0%) in 8.62 sec. Users per second: 4030\n"
     ]
    },
    {
     "name": "stderr",
     "output_type": "stream",
     "text": [
      "[I 2025-01-05 23:26:19,689] Trial 202 finished with value: 0.027796384967255016 and parameters: {'topK': 14, 'alpha': 0.29796320558350586}. Best is trial 124 with value: 0.027814196860498817.\n"
     ]
    },
    {
     "name": "stdout",
     "output_type": "stream",
     "text": [
      "P3alphaRecommender: Similarity column 38121 (100.0%), 5122.81 column/sec. Elapsed time 7.44 sec\n",
      "EvaluatorHoldout: Processed 34728 (100.0%) in 8.41 sec. Users per second: 4129\n"
     ]
    },
    {
     "name": "stderr",
     "output_type": "stream",
     "text": [
      "[I 2025-01-05 23:26:35,867] Trial 203 finished with value: 0.02776342245221753 and parameters: {'topK': 14, 'alpha': 0.31274384544446904}. Best is trial 124 with value: 0.027814196860498817.\n"
     ]
    },
    {
     "name": "stdout",
     "output_type": "stream",
     "text": [
      "P3alphaRecommender: Similarity column 38121 (100.0%), 5203.53 column/sec. Elapsed time 7.33 sec\n",
      "EvaluatorHoldout: Processed 34728 (100.0%) in 8.40 sec. Users per second: 4134\n"
     ]
    },
    {
     "name": "stderr",
     "output_type": "stream",
     "text": [
      "[I 2025-01-05 23:26:51,912] Trial 204 finished with value: 0.027674518388710802 and parameters: {'topK': 12, 'alpha': 0.2993885828735576}. Best is trial 124 with value: 0.027814196860498817.\n"
     ]
    },
    {
     "name": "stdout",
     "output_type": "stream",
     "text": [
      "P3alphaRecommender: Similarity column 38121 (100.0%), 5089.54 column/sec. Elapsed time 7.49 sec\n",
      "EvaluatorHoldout: Processed 34728 (100.0%) in 8.62 sec. Users per second: 4030\n"
     ]
    },
    {
     "name": "stderr",
     "output_type": "stream",
     "text": [
      "[I 2025-01-05 23:27:08,337] Trial 205 finished with value: 0.027726057241217225 and parameters: {'topK': 13, 'alpha': 0.29007454036520136}. Best is trial 124 with value: 0.027814196860498817.\n"
     ]
    },
    {
     "name": "stdout",
     "output_type": "stream",
     "text": [
      "P3alphaRecommender: Similarity column 38121 (100.0%), 4992.37 column/sec. Elapsed time 7.64 sec\n",
      "EvaluatorHoldout: Processed 34728 (100.0%) in 8.52 sec. Users per second: 4076\n"
     ]
    },
    {
     "name": "stderr",
     "output_type": "stream",
     "text": [
      "[I 2025-01-05 23:27:24,833] Trial 206 finished with value: 0.027790433957503052 and parameters: {'topK': 14, 'alpha': 0.3096359772917327}. Best is trial 124 with value: 0.027814196860498817.\n"
     ]
    },
    {
     "name": "stdout",
     "output_type": "stream",
     "text": [
      "P3alphaRecommender: Similarity column 38121 (100.0%), 5168.49 column/sec. Elapsed time 7.38 sec\n",
      "EvaluatorHoldout: Processed 34728 (100.0%) in 8.41 sec. Users per second: 4128\n"
     ]
    },
    {
     "name": "stderr",
     "output_type": "stream",
     "text": [
      "[I 2025-01-05 23:27:40,941] Trial 207 finished with value: 0.02771240237053061 and parameters: {'topK': 13, 'alpha': 0.31051472194615254}. Best is trial 124 with value: 0.027814196860498817.\n"
     ]
    },
    {
     "name": "stdout",
     "output_type": "stream",
     "text": [
      "P3alphaRecommender: Similarity column 38121 (100.0%), 5129.75 column/sec. Elapsed time 7.43 sec\n",
      "EvaluatorHoldout: Processed 34728 (100.0%) in 8.42 sec. Users per second: 4124\n"
     ]
    },
    {
     "name": "stderr",
     "output_type": "stream",
     "text": [
      "[I 2025-01-05 23:27:57,131] Trial 208 finished with value: 0.027763019090765388 and parameters: {'topK': 15, 'alpha': 0.30217679492939525}. Best is trial 124 with value: 0.027814196860498817.\n"
     ]
    },
    {
     "name": "stdout",
     "output_type": "stream",
     "text": [
      "P3alphaRecommender: Similarity column 38121 (100.0%), 5032.57 column/sec. Elapsed time 7.57 sec\n",
      "EvaluatorHoldout: Processed 34728 (100.0%) in 8.98 sec. Users per second: 3867\n"
     ]
    },
    {
     "name": "stderr",
     "output_type": "stream",
     "text": [
      "[I 2025-01-05 23:28:14,034] Trial 209 finished with value: 0.02775853412277837 and parameters: {'topK': 16, 'alpha': 0.3167414576465027}. Best is trial 124 with value: 0.027814196860498817.\n"
     ]
    },
    {
     "name": "stdout",
     "output_type": "stream",
     "text": [
      "P3alphaRecommender: Similarity column 38121 (100.0%), 4882.29 column/sec. Elapsed time 7.81 sec\n",
      "EvaluatorHoldout: Processed 34728 (100.0%) in 9.00 sec. Users per second: 3859\n"
     ]
    },
    {
     "name": "stderr",
     "output_type": "stream",
     "text": [
      "[I 2025-01-05 23:28:31,210] Trial 210 finished with value: 0.027712451505211615 and parameters: {'topK': 17, 'alpha': 0.3002055751707984}. Best is trial 124 with value: 0.027814196860498817.\n"
     ]
    },
    {
     "name": "stdout",
     "output_type": "stream",
     "text": [
      "P3alphaRecommender: Similarity column 38121 (100.0%), 4935.43 column/sec. Elapsed time 7.72 sec\n",
      "EvaluatorHoldout: Processed 34728 (100.0%) in 9.17 sec. Users per second: 3787\n"
     ]
    },
    {
     "name": "stderr",
     "output_type": "stream",
     "text": [
      "[I 2025-01-05 23:28:48,448] Trial 211 finished with value: 0.02779486293480689 and parameters: {'topK': 14, 'alpha': 0.2897377512212313}. Best is trial 124 with value: 0.027814196860498817.\n"
     ]
    },
    {
     "name": "stdout",
     "output_type": "stream",
     "text": [
      "P3alphaRecommender: Similarity column 38121 (100.0%), 5026.97 column/sec. Elapsed time 7.58 sec\n",
      "EvaluatorHoldout: Processed 34728 (100.0%) in 9.13 sec. Users per second: 3802\n"
     ]
    },
    {
     "name": "stderr",
     "output_type": "stream",
     "text": [
      "[I 2025-01-05 23:29:05,509] Trial 212 finished with value: 0.02779191371127196 and parameters: {'topK': 14, 'alpha': 0.2925342021566152}. Best is trial 124 with value: 0.027814196860498817.\n"
     ]
    },
    {
     "name": "stdout",
     "output_type": "stream",
     "text": [
      "P3alphaRecommender: Similarity column 38121 (100.0%), 4949.91 column/sec. Elapsed time 7.70 sec\n",
      "EvaluatorHoldout: Processed 34728 (100.0%) in 8.57 sec. Users per second: 4050\n"
     ]
    },
    {
     "name": "stderr",
     "output_type": "stream",
     "text": [
      "[I 2025-01-05 23:29:22,137] Trial 213 finished with value: 0.02779603531115204 and parameters: {'topK': 14, 'alpha': 0.28897469912355733}. Best is trial 124 with value: 0.027814196860498817.\n"
     ]
    },
    {
     "name": "stdout",
     "output_type": "stream",
     "text": [
      "P3alphaRecommender: Similarity column 38121 (100.0%), 5127.93 column/sec. Elapsed time 7.43 sec\n",
      "EvaluatorHoldout: Processed 34728 (100.0%) in 8.63 sec. Users per second: 4023\n"
     ]
    },
    {
     "name": "stderr",
     "output_type": "stream",
     "text": [
      "[I 2025-01-05 23:29:38,527] Trial 214 finished with value: 0.027633027007162404 and parameters: {'topK': 12, 'alpha': 0.3122301206173356}. Best is trial 124 with value: 0.027814196860498817.\n"
     ]
    },
    {
     "name": "stdout",
     "output_type": "stream",
     "text": [
      "P3alphaRecommender: Similarity column 38121 (100.0%), 4801.58 column/sec. Elapsed time 7.94 sec\n",
      "EvaluatorHoldout: Processed 34728 (100.0%) in 8.73 sec. Users per second: 3977\n"
     ]
    },
    {
     "name": "stderr",
     "output_type": "stream",
     "text": [
      "[I 2025-01-05 23:29:55,533] Trial 215 finished with value: 0.027721019222400698 and parameters: {'topK': 13, 'alpha': 0.29140376592855943}. Best is trial 124 with value: 0.027814196860498817.\n"
     ]
    },
    {
     "name": "stdout",
     "output_type": "stream",
     "text": [
      "P3alphaRecommender: Similarity column 38121 (100.0%), 4960.91 column/sec. Elapsed time 7.68 sec\n",
      "EvaluatorHoldout: Processed 34728 (100.0%) in 8.62 sec. Users per second: 4029\n"
     ]
    },
    {
     "name": "stderr",
     "output_type": "stream",
     "text": [
      "[I 2025-01-05 23:30:12,179] Trial 216 finished with value: 0.027655819785872546 and parameters: {'topK': 14, 'alpha': 0.43433631993278293}. Best is trial 124 with value: 0.027814196860498817.\n"
     ]
    },
    {
     "name": "stdout",
     "output_type": "stream",
     "text": [
      "P3alphaRecommender: Similarity column 38121 (100.0%), 5078.45 column/sec. Elapsed time 7.51 sec\n",
      "EvaluatorHoldout: Processed 34728 (100.0%) in 8.56 sec. Users per second: 4058\n"
     ]
    },
    {
     "name": "stderr",
     "output_type": "stream",
     "text": [
      "[I 2025-01-05 23:30:28,581] Trial 217 finished with value: 0.027724483788753956 and parameters: {'topK': 14, 'alpha': 0.2691457064332933}. Best is trial 124 with value: 0.027814196860498817.\n"
     ]
    },
    {
     "name": "stdout",
     "output_type": "stream",
     "text": [
      "P3alphaRecommender: Similarity column 38121 (100.0%), 5111.08 column/sec. Elapsed time 7.46 sec\n",
      "EvaluatorHoldout: Processed 34728 (100.0%) in 8.54 sec. Users per second: 4064\n"
     ]
    },
    {
     "name": "stderr",
     "output_type": "stream",
     "text": [
      "[I 2025-01-05 23:30:44,922] Trial 218 finished with value: 0.02772009366212823 and parameters: {'topK': 13, 'alpha': 0.30532814910688405}. Best is trial 124 with value: 0.027814196860498817.\n"
     ]
    },
    {
     "name": "stdout",
     "output_type": "stream",
     "text": [
      "P3alphaRecommender: Similarity column 38121 (100.0%), 5127.23 column/sec. Elapsed time 7.44 sec\n",
      "EvaluatorHoldout: Processed 34728 (100.0%) in 8.60 sec. Users per second: 4040\n"
     ]
    },
    {
     "name": "stderr",
     "output_type": "stream",
     "text": [
      "[I 2025-01-05 23:31:01,304] Trial 219 finished with value: 0.027673671672461524 and parameters: {'topK': 15, 'alpha': 0.47669699777183305}. Best is trial 124 with value: 0.027814196860498817.\n"
     ]
    },
    {
     "name": "stdout",
     "output_type": "stream",
     "text": [
      "P3alphaRecommender: Similarity column 38121 (100.0%), 5080.97 column/sec. Elapsed time 7.50 sec\n",
      "EvaluatorHoldout: Processed 34728 (100.0%) in 8.59 sec. Users per second: 4044\n"
     ]
    },
    {
     "name": "stderr",
     "output_type": "stream",
     "text": [
      "[I 2025-01-05 23:31:17,715] Trial 220 finished with value: 0.027671418333131508 and parameters: {'topK': 12, 'alpha': 0.2922196201724051}. Best is trial 124 with value: 0.027814196860498817.\n"
     ]
    },
    {
     "name": "stdout",
     "output_type": "stream",
     "text": [
      "P3alphaRecommender: Similarity column 38121 (100.0%), 5107.36 column/sec. Elapsed time 7.46 sec\n",
      "EvaluatorHoldout: Processed 34728 (100.0%) in 8.50 sec. Users per second: 4088\n"
     ]
    },
    {
     "name": "stderr",
     "output_type": "stream",
     "text": [
      "[I 2025-01-05 23:31:34,012] Trial 221 finished with value: 0.027768733568447706 and parameters: {'topK': 14, 'alpha': 0.2823438591928357}. Best is trial 124 with value: 0.027814196860498817.\n"
     ]
    },
    {
     "name": "stdout",
     "output_type": "stream",
     "text": [
      "P3alphaRecommender: Similarity column 38121 (100.0%), 5118.73 column/sec. Elapsed time 7.45 sec\n",
      "EvaluatorHoldout: Processed 34728 (100.0%) in 8.54 sec. Users per second: 4067\n"
     ]
    },
    {
     "name": "stderr",
     "output_type": "stream",
     "text": [
      "[I 2025-01-05 23:31:50,339] Trial 222 finished with value: 0.027755143829780244 and parameters: {'topK': 14, 'alpha': 0.276448500676063}. Best is trial 124 with value: 0.027814196860498817.\n"
     ]
    },
    {
     "name": "stdout",
     "output_type": "stream",
     "text": [
      "P3alphaRecommender: Similarity column 38121 (100.0%), 5117.81 column/sec. Elapsed time 7.45 sec\n",
      "EvaluatorHoldout: Processed 34728 (100.0%) in 8.55 sec. Users per second: 4063\n"
     ]
    },
    {
     "name": "stderr",
     "output_type": "stream",
     "text": [
      "[I 2025-01-05 23:32:06,690] Trial 223 finished with value: 0.02768471097837816 and parameters: {'topK': 16, 'alpha': 0.2854490307930111}. Best is trial 124 with value: 0.027814196860498817.\n"
     ]
    },
    {
     "name": "stdout",
     "output_type": "stream",
     "text": [
      "P3alphaRecommender: Similarity column 38121 (100.0%), 5015.12 column/sec. Elapsed time 7.60 sec\n",
      "EvaluatorHoldout: Processed 34728 (100.0%) in 8.73 sec. Users per second: 3980\n"
     ]
    },
    {
     "name": "stderr",
     "output_type": "stream",
     "text": [
      "[I 2025-01-05 23:32:23,484] Trial 224 finished with value: 0.027300496054598646 and parameters: {'topK': 28, 'alpha': 0.3018010570366946}. Best is trial 124 with value: 0.027814196860498817.\n"
     ]
    },
    {
     "name": "stdout",
     "output_type": "stream",
     "text": [
      "P3alphaRecommender: Similarity column 38121 (100.0%), 5132.53 column/sec. Elapsed time 7.43 sec\n",
      "EvaluatorHoldout: Processed 34728 (100.0%) in 8.54 sec. Users per second: 4069\n"
     ]
    },
    {
     "name": "stderr",
     "output_type": "stream",
     "text": [
      "[I 2025-01-05 23:32:39,791] Trial 225 finished with value: 0.02775029892168729 and parameters: {'topK': 15, 'alpha': 0.29000425376808947}. Best is trial 124 with value: 0.027814196860498817.\n"
     ]
    },
    {
     "name": "stdout",
     "output_type": "stream",
     "text": [
      "P3alphaRecommender: Similarity column 38121 (100.0%), 5124.98 column/sec. Elapsed time 7.44 sec\n",
      "EvaluatorHoldout: Processed 34728 (100.0%) in 8.48 sec. Users per second: 4096\n"
     ]
    },
    {
     "name": "stderr",
     "output_type": "stream",
     "text": [
      "[I 2025-01-05 23:32:56,037] Trial 226 finished with value: 0.027729320698177913 and parameters: {'topK': 13, 'alpha': 0.2693841718889088}. Best is trial 124 with value: 0.027814196860498817.\n"
     ]
    },
    {
     "name": "stdout",
     "output_type": "stream",
     "text": [
      "P3alphaRecommender: Similarity column 38121 (100.0%), 5129.71 column/sec. Elapsed time 7.43 sec\n",
      "EvaluatorHoldout: Processed 34728 (100.0%) in 8.55 sec. Users per second: 4060\n"
     ]
    },
    {
     "name": "stderr",
     "output_type": "stream",
     "text": [
      "[I 2025-01-05 23:33:12,351] Trial 227 finished with value: 0.027711429960911003 and parameters: {'topK': 13, 'alpha': 0.32084741032462366}. Best is trial 124 with value: 0.027814196860498817.\n"
     ]
    },
    {
     "name": "stdout",
     "output_type": "stream",
     "text": [
      "P3alphaRecommender: Similarity column 38121 (100.0%), 5136.52 column/sec. Elapsed time 7.42 sec\n",
      "EvaluatorHoldout: Processed 34728 (100.0%) in 8.50 sec. Users per second: 4087\n"
     ]
    },
    {
     "name": "stderr",
     "output_type": "stream",
     "text": [
      "[I 2025-01-05 23:33:28,616] Trial 228 finished with value: 0.027749884133565127 and parameters: {'topK': 15, 'alpha': 0.30505916118708015}. Best is trial 124 with value: 0.027814196860498817.\n"
     ]
    },
    {
     "name": "stdout",
     "output_type": "stream",
     "text": [
      "P3alphaRecommender: Similarity column 38121 (100.0%), 5126.84 column/sec. Elapsed time 7.44 sec\n",
      "EvaluatorHoldout: Processed 34728 (100.0%) in 8.44 sec. Users per second: 4113\n"
     ]
    },
    {
     "name": "stderr",
     "output_type": "stream",
     "text": [
      "[I 2025-01-05 23:33:44,811] Trial 229 finished with value: 0.027614561508392817 and parameters: {'topK': 11, 'alpha': 0.29672717935215176}. Best is trial 124 with value: 0.027814196860498817.\n"
     ]
    },
    {
     "name": "stdout",
     "output_type": "stream",
     "text": [
      "P3alphaRecommender: Similarity column 38121 (100.0%), 5133.23 column/sec. Elapsed time 7.43 sec\n",
      "EvaluatorHoldout: Processed 34728 (100.0%) in 8.61 sec. Users per second: 4036\n"
     ]
    },
    {
     "name": "stderr",
     "output_type": "stream",
     "text": [
      "[I 2025-01-05 23:34:01,183] Trial 230 finished with value: 0.027773391079152214 and parameters: {'topK': 14, 'alpha': 0.28184854851590313}. Best is trial 124 with value: 0.027814196860498817.\n"
     ]
    },
    {
     "name": "stdout",
     "output_type": "stream",
     "text": [
      "P3alphaRecommender: Similarity column 38121 (100.0%), 5142.44 column/sec. Elapsed time 7.41 sec\n",
      "EvaluatorHoldout: Processed 34728 (100.0%) in 8.55 sec. Users per second: 4061\n"
     ]
    },
    {
     "name": "stderr",
     "output_type": "stream",
     "text": [
      "[I 2025-01-05 23:34:17,484] Trial 231 finished with value: 0.027761678742370777 and parameters: {'topK': 14, 'alpha': 0.2802669316146663}. Best is trial 124 with value: 0.027814196860498817.\n"
     ]
    },
    {
     "name": "stdout",
     "output_type": "stream",
     "text": [
      "P3alphaRecommender: Similarity column 38121 (100.0%), 5074.84 column/sec. Elapsed time 7.51 sec\n",
      "EvaluatorHoldout: Processed 34728 (100.0%) in 8.53 sec. Users per second: 4071\n"
     ]
    },
    {
     "name": "stderr",
     "output_type": "stream",
     "text": [
      "[I 2025-01-05 23:34:33,869] Trial 232 finished with value: 0.0277879463714373 and parameters: {'topK': 14, 'alpha': 0.28769712093060695}. Best is trial 124 with value: 0.027814196860498817.\n"
     ]
    },
    {
     "name": "stdout",
     "output_type": "stream",
     "text": [
      "P3alphaRecommender: Similarity column 38121 (100.0%), 5106.40 column/sec. Elapsed time 7.47 sec\n",
      "EvaluatorHoldout: Processed 34728 (100.0%) in 8.54 sec. Users per second: 4066\n"
     ]
    },
    {
     "name": "stderr",
     "output_type": "stream",
     "text": [
      "[I 2025-01-05 23:34:50,220] Trial 233 finished with value: 0.027792910116898658 and parameters: {'topK': 14, 'alpha': 0.29381684614769893}. Best is trial 124 with value: 0.027814196860498817.\n"
     ]
    },
    {
     "name": "stdout",
     "output_type": "stream",
     "text": [
      "P3alphaRecommender: Similarity column 38121 (100.0%), 5085.47 column/sec. Elapsed time 7.50 sec\n",
      "EvaluatorHoldout: Processed 34728 (100.0%) in 8.69 sec. Users per second: 3998\n"
     ]
    },
    {
     "name": "stderr",
     "output_type": "stream",
     "text": [
      "[I 2025-01-05 23:35:06,753] Trial 234 finished with value: 0.027763009949429398 and parameters: {'topK': 15, 'alpha': 0.2935366506424144}. Best is trial 124 with value: 0.027814196860498817.\n"
     ]
    },
    {
     "name": "stdout",
     "output_type": "stream",
     "text": [
      "P3alphaRecommender: Similarity column 38121 (100.0%), 5107.38 column/sec. Elapsed time 7.46 sec\n",
      "EvaluatorHoldout: Processed 34728 (100.0%) in 8.57 sec. Users per second: 4051\n"
     ]
    },
    {
     "name": "stderr",
     "output_type": "stream",
     "text": [
      "[I 2025-01-05 23:35:23,121] Trial 235 finished with value: 0.02771641198904435 and parameters: {'topK': 13, 'alpha': 0.3066856542215636}. Best is trial 124 with value: 0.027814196860498817.\n"
     ]
    },
    {
     "name": "stdout",
     "output_type": "stream",
     "text": [
      "P3alphaRecommender: Similarity column 38121 (100.0%), 5084.98 column/sec. Elapsed time 7.50 sec\n",
      "EvaluatorHoldout: Processed 34728 (100.0%) in 8.61 sec. Users per second: 4035\n"
     ]
    },
    {
     "name": "stderr",
     "output_type": "stream",
     "text": [
      "[I 2025-01-05 23:35:39,579] Trial 236 finished with value: 0.02771777404811195 and parameters: {'topK': 16, 'alpha': 0.29826426980336057}. Best is trial 124 with value: 0.027814196860498817.\n"
     ]
    },
    {
     "name": "stdout",
     "output_type": "stream",
     "text": [
      "P3alphaRecommender: Similarity column 38121 (100.0%), 5152.04 column/sec. Elapsed time 7.40 sec\n",
      "EvaluatorHoldout: Processed 34728 (100.0%) in 8.46 sec. Users per second: 4104\n"
     ]
    },
    {
     "name": "stderr",
     "output_type": "stream",
     "text": [
      "[I 2025-01-05 23:35:55,773] Trial 237 finished with value: 0.02778083326934325 and parameters: {'topK': 14, 'alpha': 0.31890999508081697}. Best is trial 124 with value: 0.027814196860498817.\n"
     ]
    },
    {
     "name": "stdout",
     "output_type": "stream",
     "text": [
      "P3alphaRecommender: Similarity column 38121 (100.0%), 5111.70 column/sec. Elapsed time 7.46 sec\n",
      "EvaluatorHoldout: Processed 34728 (100.0%) in 8.60 sec. Users per second: 4039\n"
     ]
    },
    {
     "name": "stderr",
     "output_type": "stream",
     "text": [
      "[I 2025-01-05 23:36:12,153] Trial 238 finished with value: 0.02704458320992455 and parameters: {'topK': 12, 'alpha': 0.6948395359232669}. Best is trial 124 with value: 0.027814196860498817.\n"
     ]
    },
    {
     "name": "stdout",
     "output_type": "stream",
     "text": [
      "P3alphaRecommender: Similarity column 38121 (100.0%), 5130.95 column/sec. Elapsed time 7.43 sec\n",
      "EvaluatorHoldout: Processed 34728 (100.0%) in 8.70 sec. Users per second: 3991\n"
     ]
    },
    {
     "name": "stderr",
     "output_type": "stream",
     "text": [
      "[I 2025-01-05 23:36:28,639] Trial 239 finished with value: 0.027767612612117708 and parameters: {'topK': 16, 'alpha': 0.3338954759789277}. Best is trial 124 with value: 0.027814196860498817.\n"
     ]
    },
    {
     "name": "stdout",
     "output_type": "stream",
     "text": [
      "P3alphaRecommender: Similarity column 38121 (100.0%), 5114.47 column/sec. Elapsed time 7.45 sec\n",
      "EvaluatorHoldout: Processed 34728 (100.0%) in 8.59 sec. Users per second: 4044\n"
     ]
    },
    {
     "name": "stderr",
     "output_type": "stream",
     "text": [
      "[I 2025-01-05 23:36:45,020] Trial 240 finished with value: 0.027780394485214077 and parameters: {'topK': 14, 'alpha': 0.31961992720902127}. Best is trial 124 with value: 0.027814196860498817.\n"
     ]
    },
    {
     "name": "stdout",
     "output_type": "stream",
     "text": [
      "P3alphaRecommender: Similarity column 38121 (100.0%), 5124.42 column/sec. Elapsed time 7.44 sec\n",
      "EvaluatorHoldout: Processed 34728 (100.0%) in 8.60 sec. Users per second: 4038\n"
     ]
    },
    {
     "name": "stderr",
     "output_type": "stream",
     "text": [
      "[I 2025-01-05 23:37:01,406] Trial 241 finished with value: 0.0277663990997605 and parameters: {'topK': 14, 'alpha': 0.31793976351807274}. Best is trial 124 with value: 0.027814196860498817.\n"
     ]
    },
    {
     "name": "stdout",
     "output_type": "stream",
     "text": [
      "P3alphaRecommender: Similarity column 38121 (100.0%), 4976.23 column/sec. Elapsed time 7.66 sec\n",
      "EvaluatorHoldout: Processed 34728 (100.0%) in 8.67 sec. Users per second: 4004\n"
     ]
    },
    {
     "name": "stderr",
     "output_type": "stream",
     "text": [
      "[I 2025-01-05 23:37:18,084] Trial 242 finished with value: 0.027728408849909465 and parameters: {'topK': 15, 'alpha': 0.3213873934530341}. Best is trial 124 with value: 0.027814196860498817.\n"
     ]
    },
    {
     "name": "stdout",
     "output_type": "stream",
     "text": [
      "P3alphaRecommender: Similarity column 38121 (100.0%), 5027.44 column/sec. Elapsed time 7.58 sec\n",
      "EvaluatorHoldout: Processed 34728 (100.0%) in 8.90 sec. Users per second: 3901\n"
     ]
    },
    {
     "name": "stderr",
     "output_type": "stream",
     "text": [
      "[I 2025-01-05 23:37:34,903] Trial 243 finished with value: 0.027720034243444068 and parameters: {'topK': 13, 'alpha': 0.3079459942191727}. Best is trial 124 with value: 0.027814196860498817.\n"
     ]
    },
    {
     "name": "stdout",
     "output_type": "stream",
     "text": [
      "P3alphaRecommender: Similarity column 38121 (100.0%), 4872.80 column/sec. Elapsed time 7.82 sec\n",
      "EvaluatorHoldout: Processed 34728 (100.0%) in 8.98 sec. Users per second: 3868\n"
     ]
    },
    {
     "name": "stderr",
     "output_type": "stream",
     "text": [
      "[I 2025-01-05 23:37:52,061] Trial 244 finished with value: 0.027744410758620455 and parameters: {'topK': 15, 'alpha': 0.33020281128153567}. Best is trial 124 with value: 0.027814196860498817.\n"
     ]
    },
    {
     "name": "stdout",
     "output_type": "stream",
     "text": [
      "P3alphaRecommender: Similarity column 38121 (100.0%), 5125.53 column/sec. Elapsed time 7.44 sec\n",
      "EvaluatorHoldout: Processed 34728 (100.0%) in 8.52 sec. Users per second: 4077\n"
     ]
    },
    {
     "name": "stderr",
     "output_type": "stream",
     "text": [
      "[I 2025-01-05 23:38:08,341] Trial 245 finished with value: 0.027717117014585266 and parameters: {'topK': 13, 'alpha': 0.31109071857447684}. Best is trial 124 with value: 0.027814196860498817.\n"
     ]
    },
    {
     "name": "stdout",
     "output_type": "stream",
     "text": [
      "P3alphaRecommender: Similarity column 38121 (100.0%), 5063.19 column/sec. Elapsed time 7.53 sec\n",
      "EvaluatorHoldout: Processed 34728 (100.0%) in 8.65 sec. Users per second: 4013\n"
     ]
    },
    {
     "name": "stderr",
     "output_type": "stream",
     "text": [
      "[I 2025-01-05 23:38:24,858] Trial 246 finished with value: 0.02780302843321085 and parameters: {'topK': 14, 'alpha': 0.2953420132677536}. Best is trial 124 with value: 0.027814196860498817.\n"
     ]
    },
    {
     "name": "stdout",
     "output_type": "stream",
     "text": [
      "P3alphaRecommender: Similarity column 38121 (100.0%), 5086.08 column/sec. Elapsed time 7.50 sec\n",
      "EvaluatorHoldout: Processed 34728 (100.0%) in 8.49 sec. Users per second: 4092\n"
     ]
    },
    {
     "name": "stderr",
     "output_type": "stream",
     "text": [
      "[I 2025-01-05 23:38:41,161] Trial 247 finished with value: 0.027720491310245256 and parameters: {'topK': 13, 'alpha': 0.30067987479471275}. Best is trial 124 with value: 0.027814196860498817.\n"
     ]
    },
    {
     "name": "stdout",
     "output_type": "stream",
     "text": [
      "P3alphaRecommender: Similarity column 38121 (100.0%), 5098.77 column/sec. Elapsed time 7.48 sec\n",
      "EvaluatorHoldout: Processed 34728 (100.0%) in 8.61 sec. Users per second: 4034\n"
     ]
    },
    {
     "name": "stderr",
     "output_type": "stream",
     "text": [
      "[I 2025-01-05 23:38:57,584] Trial 248 finished with value: 0.027719300651228008 and parameters: {'topK': 15, 'alpha': 0.31752628739935806}. Best is trial 124 with value: 0.027814196860498817.\n"
     ]
    },
    {
     "name": "stdout",
     "output_type": "stream",
     "text": [
      "P3alphaRecommender: Similarity column 38121 (100.0%), 5037.98 column/sec. Elapsed time 7.57 sec\n",
      "EvaluatorHoldout: Processed 34728 (100.0%) in 8.82 sec. Users per second: 3937\n"
     ]
    },
    {
     "name": "stderr",
     "output_type": "stream",
     "text": [
      "[I 2025-01-05 23:39:14,310] Trial 249 finished with value: 0.027801197880671934 and parameters: {'topK': 14, 'alpha': 0.2952964702783613}. Best is trial 124 with value: 0.027814196860498817.\n"
     ]
    },
    {
     "name": "stdout",
     "output_type": "stream",
     "text": [
      "P3alphaRecommender: Similarity column 38121 (100.0%), 5003.85 column/sec. Elapsed time 7.62 sec\n",
      "EvaluatorHoldout: Processed 34728 (100.0%) in 8.90 sec. Users per second: 3902\n"
     ]
    },
    {
     "name": "stderr",
     "output_type": "stream",
     "text": [
      "[I 2025-01-05 23:39:31,152] Trial 250 finished with value: 0.027686182733478133 and parameters: {'topK': 12, 'alpha': 0.29510529047214}. Best is trial 124 with value: 0.027814196860498817.\n"
     ]
    },
    {
     "name": "stdout",
     "output_type": "stream",
     "text": [
      "P3alphaRecommender: Similarity column 38121 (100.0%), 4846.58 column/sec. Elapsed time 7.87 sec\n",
      "EvaluatorHoldout: Processed 34728 (100.0%) in 8.91 sec. Users per second: 3899\n"
     ]
    },
    {
     "name": "stderr",
     "output_type": "stream",
     "text": [
      "[I 2025-01-05 23:39:48,289] Trial 251 finished with value: 0.027725192242295887 and parameters: {'topK': 16, 'alpha': 0.308377812255947}. Best is trial 124 with value: 0.027814196860498817.\n"
     ]
    },
    {
     "name": "stdout",
     "output_type": "stream",
     "text": [
      "P3alphaRecommender: Similarity column 38121 (100.0%), 4967.88 column/sec. Elapsed time 7.67 sec\n",
      "EvaluatorHoldout: Processed 34728 (100.0%) in 8.81 sec. Users per second: 3941\n"
     ]
    },
    {
     "name": "stderr",
     "output_type": "stream",
     "text": [
      "[I 2025-01-05 23:40:05,119] Trial 252 finished with value: 0.02773151347615681 and parameters: {'topK': 15, 'alpha': 0.32594093778388444}. Best is trial 124 with value: 0.027814196860498817.\n"
     ]
    },
    {
     "name": "stdout",
     "output_type": "stream",
     "text": [
      "P3alphaRecommender: Similarity column 38121 (100.0%), 5036.25 column/sec. Elapsed time 7.57 sec\n",
      "EvaluatorHoldout: Processed 34728 (100.0%) in 8.58 sec. Users per second: 4047\n"
     ]
    },
    {
     "name": "stderr",
     "output_type": "stream",
     "text": [
      "[I 2025-01-05 23:40:21,595] Trial 253 finished with value: 0.027672514150787503 and parameters: {'topK': 13, 'alpha': 0.34300163875490114}. Best is trial 124 with value: 0.027814196860498817.\n"
     ]
    },
    {
     "name": "stdout",
     "output_type": "stream",
     "text": [
      "P3alphaRecommender: Similarity column 38121 (100.0%), 5068.75 column/sec. Elapsed time 7.52 sec\n",
      "EvaluatorHoldout: Processed 34728 (100.0%) in 8.66 sec. Users per second: 4010\n"
     ]
    },
    {
     "name": "stderr",
     "output_type": "stream",
     "text": [
      "[I 2025-01-05 23:40:38,132] Trial 254 finished with value: 0.027708871529491017 and parameters: {'topK': 17, 'alpha': 0.29347187881020553}. Best is trial 124 with value: 0.027814196860498817.\n"
     ]
    },
    {
     "name": "stdout",
     "output_type": "stream",
     "text": [
      "P3alphaRecommender: Similarity column 38121 (100.0%), 4914.03 column/sec. Elapsed time 7.76 sec\n",
      "EvaluatorHoldout: Processed 34728 (100.0%) in 8.90 sec. Users per second: 3901\n"
     ]
    },
    {
     "name": "stderr",
     "output_type": "stream",
     "text": [
      "[I 2025-01-05 23:40:55,128] Trial 255 finished with value: 0.027798298934485155 and parameters: {'topK': 14, 'alpha': 0.30781551690885306}. Best is trial 124 with value: 0.027814196860498817.\n"
     ]
    },
    {
     "name": "stdout",
     "output_type": "stream",
     "text": [
      "P3alphaRecommender: Similarity column 38121 (100.0%), 5020.13 column/sec. Elapsed time 7.59 sec\n",
      "EvaluatorHoldout: Processed 34728 (100.0%) in 8.80 sec. Users per second: 3944\n"
     ]
    },
    {
     "name": "stderr",
     "output_type": "stream",
     "text": [
      "[I 2025-01-05 23:41:11,870] Trial 256 finished with value: 0.027756476179505878 and parameters: {'topK': 14, 'alpha': 0.3134438154049762}. Best is trial 124 with value: 0.027814196860498817.\n"
     ]
    },
    {
     "name": "stdout",
     "output_type": "stream",
     "text": [
      "P3alphaRecommender: Similarity column 38121 (100.0%), 5069.41 column/sec. Elapsed time 7.52 sec\n",
      "EvaluatorHoldout: Processed 34728 (100.0%) in 8.59 sec. Users per second: 4041\n"
     ]
    },
    {
     "name": "stderr",
     "output_type": "stream",
     "text": [
      "[I 2025-01-05 23:41:28,298] Trial 257 finished with value: 0.02765941804426527 and parameters: {'topK': 12, 'alpha': 0.3044247377215713}. Best is trial 124 with value: 0.027814196860498817.\n"
     ]
    },
    {
     "name": "stdout",
     "output_type": "stream",
     "text": [
      "P3alphaRecommender: Similarity column 38121 (100.0%), 5098.02 column/sec. Elapsed time 7.48 sec\n",
      "EvaluatorHoldout: Processed 34728 (100.0%) in 8.53 sec. Users per second: 4069\n"
     ]
    },
    {
     "name": "stderr",
     "output_type": "stream",
     "text": [
      "[I 2025-01-05 23:41:44,641] Trial 258 finished with value: 0.02777798574317158 and parameters: {'topK': 14, 'alpha': 0.32267554301837115}. Best is trial 124 with value: 0.027814196860498817.\n"
     ]
    },
    {
     "name": "stdout",
     "output_type": "stream",
     "text": [
      "P3alphaRecommender: Similarity column 38121 (100.0%), 5112.88 column/sec. Elapsed time 7.46 sec\n",
      "EvaluatorHoldout: Processed 34728 (100.0%) in 8.63 sec. Users per second: 4022\n"
     ]
    },
    {
     "name": "stderr",
     "output_type": "stream",
     "text": [
      "[I 2025-01-05 23:42:01,079] Trial 259 finished with value: 0.02774801473034815 and parameters: {'topK': 16, 'alpha': 0.3138774523697788}. Best is trial 124 with value: 0.027814196860498817.\n"
     ]
    },
    {
     "name": "stdout",
     "output_type": "stream",
     "text": [
      "P3alphaRecommender: Similarity column 38121 (100.0%), 5072.38 column/sec. Elapsed time 7.52 sec\n",
      "EvaluatorHoldout: Processed 34728 (100.0%) in 8.71 sec. Users per second: 3988\n"
     ]
    },
    {
     "name": "stderr",
     "output_type": "stream",
     "text": [
      "[I 2025-01-05 23:42:17,642] Trial 260 finished with value: 0.027746693807292562 and parameters: {'topK': 15, 'alpha': 0.2998901207370625}. Best is trial 124 with value: 0.027814196860498817.\n"
     ]
    },
    {
     "name": "stdout",
     "output_type": "stream",
     "text": [
      "P3alphaRecommender: Similarity column 38121 (100.0%), 5113.10 column/sec. Elapsed time 7.46 sec\n",
      "EvaluatorHoldout: Processed 34728 (100.0%) in 8.84 sec. Users per second: 3930\n"
     ]
    },
    {
     "name": "stderr",
     "output_type": "stream",
     "text": [
      "[I 2025-01-05 23:42:34,246] Trial 261 finished with value: 0.02762510946749814 and parameters: {'topK': 11, 'alpha': 0.2937539128994586}. Best is trial 124 with value: 0.027814196860498817.\n"
     ]
    },
    {
     "name": "stdout",
     "output_type": "stream",
     "text": [
      "P3alphaRecommender: Similarity column 38121 (100.0%), 5149.48 column/sec. Elapsed time 7.40 sec\n",
      "EvaluatorHoldout: Processed 34728 (100.0%) in 8.72 sec. Users per second: 3984\n"
     ]
    },
    {
     "name": "stderr",
     "output_type": "stream",
     "text": [
      "[I 2025-01-05 23:42:50,692] Trial 262 finished with value: 0.027730020010383893 and parameters: {'topK': 13, 'alpha': 0.32629759754800397}. Best is trial 124 with value: 0.027814196860498817.\n"
     ]
    },
    {
     "name": "stdout",
     "output_type": "stream",
     "text": [
      "P3alphaRecommender: Similarity column 38121 (100.0%), 5057.34 column/sec. Elapsed time 7.54 sec\n",
      "EvaluatorHoldout: Processed 34728 (100.0%) in 8.66 sec. Users per second: 4010\n"
     ]
    },
    {
     "name": "stderr",
     "output_type": "stream",
     "text": [
      "[I 2025-01-05 23:43:07,228] Trial 263 finished with value: 0.0277339450715394 and parameters: {'topK': 14, 'alpha': 0.3388984760294821}. Best is trial 124 with value: 0.027814196860498817.\n"
     ]
    },
    {
     "name": "stdout",
     "output_type": "stream",
     "text": [
      "P3alphaRecommender: Similarity column 38121 (100.0%), 5037.18 column/sec. Elapsed time 7.57 sec\n",
      "EvaluatorHoldout: Processed 34728 (100.0%) in 9.02 sec. Users per second: 3849\n"
     ]
    },
    {
     "name": "stderr",
     "output_type": "stream",
     "text": [
      "[I 2025-01-05 23:43:24,139] Trial 264 finished with value: 0.02766429151903335 and parameters: {'topK': 12, 'alpha': 0.30359859972109193}. Best is trial 124 with value: 0.027814196860498817.\n"
     ]
    },
    {
     "name": "stdout",
     "output_type": "stream",
     "text": [
      "P3alphaRecommender: Similarity column 38121 (100.0%), 4830.15 column/sec. Elapsed time 7.89 sec\n",
      "EvaluatorHoldout: Processed 34728 (100.0%) in 9.49 sec. Users per second: 3659\n"
     ]
    },
    {
     "name": "stderr",
     "output_type": "stream",
     "text": [
      "[I 2025-01-05 23:43:41,896] Trial 265 finished with value: 0.027505521366958066 and parameters: {'topK': 15, 'alpha': 0.5785247467217863}. Best is trial 124 with value: 0.027814196860498817.\n"
     ]
    },
    {
     "name": "stdout",
     "output_type": "stream",
     "text": [
      "P3alphaRecommender: Similarity column 38121 (100.0%), 3982.19 column/sec. Elapsed time 9.57 sec\n",
      "EvaluatorHoldout: Processed 34728 (100.0%) in 9.01 sec. Users per second: 3855\n"
     ]
    },
    {
     "name": "stderr",
     "output_type": "stream",
     "text": [
      "[I 2025-01-05 23:44:00,961] Trial 266 finished with value: 0.02771663937977797 and parameters: {'topK': 13, 'alpha': 0.31197743799033545}. Best is trial 124 with value: 0.027814196860498817.\n"
     ]
    },
    {
     "name": "stdout",
     "output_type": "stream",
     "text": [
      "P3alphaRecommender: Similarity column 38121 (100.0%), 4733.34 column/sec. Elapsed time 8.05 sec\n",
      "EvaluatorHoldout: Processed 34728 (100.0%) in 9.06 sec. Users per second: 3834\n"
     ]
    },
    {
     "name": "stderr",
     "output_type": "stream",
     "text": [
      "[I 2025-01-05 23:44:18,419] Trial 267 finished with value: 0.027793660849119665 and parameters: {'topK': 14, 'alpha': 0.2893806515937151}. Best is trial 124 with value: 0.027814196860498817.\n"
     ]
    },
    {
     "name": "stdout",
     "output_type": "stream",
     "text": [
      "P3alphaRecommender: Similarity column 38121 (100.0%), 4710.88 column/sec. Elapsed time 8.09 sec\n",
      "EvaluatorHoldout: Processed 34728 (100.0%) in 9.15 sec. Users per second: 3797\n"
     ]
    },
    {
     "name": "stderr",
     "output_type": "stream",
     "text": [
      "[I 2025-01-05 23:44:36,021] Trial 268 finished with value: 0.027715512710112866 and parameters: {'topK': 16, 'alpha': 0.29327250198526106}. Best is trial 124 with value: 0.027814196860498817.\n"
     ]
    },
    {
     "name": "stdout",
     "output_type": "stream",
     "text": [
      "P3alphaRecommender: Similarity column 38121 (100.0%), 4797.49 column/sec. Elapsed time 7.95 sec\n",
      "EvaluatorHoldout: Processed 34728 (100.0%) in 8.90 sec. Users per second: 3900\n"
     ]
    },
    {
     "name": "stderr",
     "output_type": "stream",
     "text": [
      "[I 2025-01-05 23:44:53,139] Trial 269 finished with value: 0.025479014006354442 and parameters: {'topK': 5, 'alpha': 0.30214339510492727}. Best is trial 124 with value: 0.027814196860498817.\n"
     ]
    },
    {
     "name": "stdout",
     "output_type": "stream",
     "text": [
      "P3alphaRecommender: Similarity column 38121 (100.0%), 4745.62 column/sec. Elapsed time 8.03 sec\n",
      "EvaluatorHoldout: Processed 34728 (100.0%) in 9.07 sec. Users per second: 3829\n"
     ]
    },
    {
     "name": "stderr",
     "output_type": "stream",
     "text": [
      "[I 2025-01-05 23:45:10,587] Trial 270 finished with value: 0.027764570832555593 and parameters: {'topK': 14, 'alpha': 0.3174542577629756}. Best is trial 124 with value: 0.027814196860498817.\n"
     ]
    },
    {
     "name": "stdout",
     "output_type": "stream",
     "text": [
      "P3alphaRecommender: Similarity column 38121 (100.0%), 4753.41 column/sec. Elapsed time 8.02 sec\n",
      "EvaluatorHoldout: Processed 34728 (100.0%) in 8.89 sec. Users per second: 3907\n"
     ]
    },
    {
     "name": "stderr",
     "output_type": "stream",
     "text": [
      "[I 2025-01-05 23:45:27,858] Trial 271 finished with value: 0.027504787774742006 and parameters: {'topK': 15, 'alpha': 0.6261132110002279}. Best is trial 124 with value: 0.027814196860498817.\n"
     ]
    },
    {
     "name": "stdout",
     "output_type": "stream",
     "text": [
      "P3alphaRecommender: Similarity column 38121 (100.0%), 4891.64 column/sec. Elapsed time 7.79 sec\n",
      "EvaluatorHoldout: Processed 34728 (100.0%) in 9.11 sec. Users per second: 3813\n"
     ]
    },
    {
     "name": "stderr",
     "output_type": "stream",
     "text": [
      "[I 2025-01-05 23:45:45,093] Trial 272 finished with value: 0.027720289058185736 and parameters: {'topK': 13, 'alpha': 0.29030890768770523}. Best is trial 124 with value: 0.027814196860498817.\n"
     ]
    },
    {
     "name": "stdout",
     "output_type": "stream",
     "text": [
      "P3alphaRecommender: Similarity column 38121 (100.0%), 4892.75 column/sec. Elapsed time 7.79 sec\n",
      "EvaluatorHoldout: Processed 34728 (100.0%) in 9.00 sec. Users per second: 3858\n"
     ]
    },
    {
     "name": "stderr",
     "output_type": "stream",
     "text": [
      "[I 2025-01-05 23:46:02,207] Trial 273 finished with value: 0.027662783198589315 and parameters: {'topK': 12, 'alpha': 0.27327040832511507}. Best is trial 124 with value: 0.027814196860498817.\n"
     ]
    },
    {
     "name": "stdout",
     "output_type": "stream",
     "text": [
      "P3alphaRecommender: Similarity column 38121 (100.0%), 4853.85 column/sec. Elapsed time 7.85 sec\n",
      "EvaluatorHoldout: Processed 34728 (100.0%) in 8.98 sec. Users per second: 3867\n"
     ]
    },
    {
     "name": "stderr",
     "output_type": "stream",
     "text": [
      "[I 2025-01-05 23:46:19,379] Trial 274 finished with value: 0.02779497034550523 and parameters: {'topK': 14, 'alpha': 0.3098176400514497}. Best is trial 124 with value: 0.027814196860498817.\n"
     ]
    },
    {
     "name": "stdout",
     "output_type": "stream",
     "text": [
      "P3alphaRecommender: Similarity column 38121 (100.0%), 4781.91 column/sec. Elapsed time 7.97 sec\n",
      "EvaluatorHoldout: Processed 34728 (100.0%) in 9.15 sec. Users per second: 3797\n"
     ]
    },
    {
     "name": "stderr",
     "output_type": "stream",
     "text": [
      "[I 2025-01-05 23:46:36,871] Trial 275 finished with value: 0.027733877654186136 and parameters: {'topK': 17, 'alpha': 0.3078591736831565}. Best is trial 124 with value: 0.027814196860498817.\n"
     ]
    },
    {
     "name": "stdout",
     "output_type": "stream",
     "text": [
      "P3alphaRecommender: Similarity column 38121 (100.0%), 4932.69 column/sec. Elapsed time 7.73 sec\n",
      "EvaluatorHoldout: Processed 34728 (100.0%) in 9.14 sec. Users per second: 3799\n"
     ]
    },
    {
     "name": "stderr",
     "output_type": "stream",
     "text": [
      "[I 2025-01-05 23:46:54,079] Trial 276 finished with value: 0.027676686028015686 and parameters: {'topK': 13, 'alpha': 0.4110599491256186}. Best is trial 124 with value: 0.027814196860498817.\n"
     ]
    },
    {
     "name": "stdout",
     "output_type": "stream",
     "text": [
      "P3alphaRecommender: Similarity column 38121 (100.0%), 4793.40 column/sec. Elapsed time 7.95 sec\n",
      "EvaluatorHoldout: Processed 34728 (100.0%) in 8.95 sec. Users per second: 3879\n"
     ]
    },
    {
     "name": "stderr",
     "output_type": "stream",
     "text": [
      "[I 2025-01-05 23:47:11,345] Trial 277 finished with value: 0.02755268494750968 and parameters: {'topK': 15, 'alpha': 0.5278326962913482}. Best is trial 124 with value: 0.027814196860498817.\n"
     ]
    },
    {
     "name": "stdout",
     "output_type": "stream",
     "text": [
      "P3alphaRecommender: Similarity column 38121 (100.0%), 4864.20 column/sec. Elapsed time 7.84 sec\n",
      "EvaluatorHoldout: Processed 34728 (100.0%) in 9.05 sec. Users per second: 3837\n"
     ]
    },
    {
     "name": "stderr",
     "output_type": "stream",
     "text": [
      "[I 2025-01-05 23:47:28,592] Trial 278 finished with value: 0.02772897675541002 and parameters: {'topK': 16, 'alpha': 0.29969226085415274}. Best is trial 124 with value: 0.027814196860498817.\n"
     ]
    },
    {
     "name": "stdout",
     "output_type": "stream",
     "text": [
      "P3alphaRecommender: Similarity column 38121 (100.0%), 4821.64 column/sec. Elapsed time 7.91 sec\n",
      "EvaluatorHoldout: Processed 34728 (100.0%) in 9.04 sec. Users per second: 3843\n"
     ]
    },
    {
     "name": "stderr",
     "output_type": "stream",
     "text": [
      "[I 2025-01-05 23:47:45,851] Trial 279 finished with value: 0.027632584795032236 and parameters: {'topK': 11, 'alpha': 0.28986105096390935}. Best is trial 124 with value: 0.027814196860498817.\n"
     ]
    },
    {
     "name": "stdout",
     "output_type": "stream",
     "text": [
      "P3alphaRecommender: Similarity column 38121 (100.0%), 4949.01 column/sec. Elapsed time 7.70 sec\n",
      "EvaluatorHoldout: Processed 34728 (100.0%) in 9.07 sec. Users per second: 3828\n"
     ]
    },
    {
     "name": "stderr",
     "output_type": "stream",
     "text": [
      "[I 2025-01-05 23:48:02,970] Trial 280 finished with value: 0.027754524504264577 and parameters: {'topK': 14, 'alpha': 0.2749506572348377}. Best is trial 124 with value: 0.027814196860498817.\n"
     ]
    },
    {
     "name": "stdout",
     "output_type": "stream",
     "text": [
      "P3alphaRecommender: Similarity column 38121 (100.0%), 4698.69 column/sec. Elapsed time 8.11 sec\n",
      "EvaluatorHoldout: Processed 34728 (100.0%) in 9.04 sec. Users per second: 3842\n"
     ]
    },
    {
     "name": "stderr",
     "output_type": "stream",
     "text": [
      "[I 2025-01-05 23:48:20,626] Trial 281 finished with value: 0.027149253792739646 and parameters: {'topK': 31, 'alpha': 0.3069523793108567}. Best is trial 124 with value: 0.027814196860498817.\n"
     ]
    },
    {
     "name": "stdout",
     "output_type": "stream",
     "text": [
      "P3alphaRecommender: Similarity column 38121 (100.0%), 4901.21 column/sec. Elapsed time 7.78 sec\n",
      "EvaluatorHoldout: Processed 34728 (100.0%) in 8.98 sec. Users per second: 3866\n"
     ]
    },
    {
     "name": "stderr",
     "output_type": "stream",
     "text": [
      "[I 2025-01-05 23:48:37,720] Trial 282 finished with value: 0.027729175579468614 and parameters: {'topK': 13, 'alpha': 0.28942693975514006}. Best is trial 124 with value: 0.027814196860498817.\n"
     ]
    },
    {
     "name": "stdout",
     "output_type": "stream",
     "text": [
      "P3alphaRecommender: Similarity column 38121 (100.0%), 4954.03 column/sec. Elapsed time 7.69 sec\n",
      "EvaluatorHoldout: Processed 34728 (100.0%) in 9.12 sec. Users per second: 3807\n"
     ]
    },
    {
     "name": "stderr",
     "output_type": "stream",
     "text": [
      "[I 2025-01-05 23:48:54,888] Trial 283 finished with value: 0.02775729204374607 and parameters: {'topK': 15, 'alpha': 0.2965427709426776}. Best is trial 124 with value: 0.027814196860498817.\n"
     ]
    },
    {
     "name": "stdout",
     "output_type": "stream",
     "text": [
      "P3alphaRecommender: Similarity column 38121 (100.0%), 4832.87 column/sec. Elapsed time 7.89 sec\n",
      "EvaluatorHoldout: Processed 34728 (100.0%) in 9.06 sec. Users per second: 3831\n"
     ]
    },
    {
     "name": "stderr",
     "output_type": "stream",
     "text": [
      "[I 2025-01-05 23:49:12,193] Trial 284 finished with value: 0.027352615381942648 and parameters: {'topK': 14, 'alpha': 0.6639375424259031}. Best is trial 124 with value: 0.027814196860498817.\n"
     ]
    },
    {
     "name": "stdout",
     "output_type": "stream",
     "text": [
      "P3alphaRecommender: Similarity column 38121 (100.0%), 4912.29 column/sec. Elapsed time 7.76 sec\n",
      "EvaluatorHoldout: Processed 34728 (100.0%) in 8.71 sec. Users per second: 3988\n"
     ]
    },
    {
     "name": "stderr",
     "output_type": "stream",
     "text": [
      "[I 2025-01-05 23:49:28,989] Trial 285 finished with value: 0.027725098543601712 and parameters: {'topK': 13, 'alpha': 0.3130138718382921}. Best is trial 124 with value: 0.027814196860498817.\n"
     ]
    },
    {
     "name": "stdout",
     "output_type": "stream",
     "text": [
      "P3alphaRecommender: Similarity column 38121 (100.0%), 4824.95 column/sec. Elapsed time 7.90 sec\n",
      "EvaluatorHoldout: Processed 34728 (100.0%) in 8.95 sec. Users per second: 3880\n"
     ]
    },
    {
     "name": "stderr",
     "output_type": "stream",
     "text": [
      "[I 2025-01-05 23:49:46,169] Trial 286 finished with value: 0.027659556306972657 and parameters: {'topK': 12, 'alpha': 0.27622004619554863}. Best is trial 124 with value: 0.027814196860498817.\n"
     ]
    },
    {
     "name": "stdout",
     "output_type": "stream",
     "text": [
      "P3alphaRecommender: Similarity column 38121 (100.0%), 5034.22 column/sec. Elapsed time 7.57 sec\n",
      "EvaluatorHoldout: Processed 34728 (100.0%) in 8.79 sec. Users per second: 3951\n"
     ]
    },
    {
     "name": "stderr",
     "output_type": "stream",
     "text": [
      "[I 2025-01-05 23:50:02,892] Trial 287 finished with value: 0.027697214040725702 and parameters: {'topK': 17, 'alpha': 0.2983962390814451}. Best is trial 124 with value: 0.027814196860498817.\n"
     ]
    },
    {
     "name": "stdout",
     "output_type": "stream",
     "text": [
      "P3alphaRecommender: Similarity column 38121 (100.0%), 4861.03 column/sec. Elapsed time 7.84 sec\n",
      "EvaluatorHoldout: Processed 34728 (100.0%) in 8.67 sec. Users per second: 4005\n"
     ]
    },
    {
     "name": "stderr",
     "output_type": "stream",
     "text": [
      "[I 2025-01-05 23:50:19,766] Trial 288 finished with value: 0.02769172124044199 and parameters: {'topK': 16, 'alpha': 0.2869821691742978}. Best is trial 124 with value: 0.027814196860498817.\n"
     ]
    },
    {
     "name": "stdout",
     "output_type": "stream",
     "text": [
      "P3alphaRecommender: Similarity column 38121 (100.0%), 4658.63 column/sec. Elapsed time 8.18 sec\n",
      "EvaluatorHoldout: Processed 34728 (100.0%) in 8.91 sec. Users per second: 3898\n"
     ]
    },
    {
     "name": "stderr",
     "output_type": "stream",
     "text": [
      "[I 2025-01-05 23:50:37,216] Trial 289 finished with value: 0.027738268923478995 and parameters: {'topK': 15, 'alpha': 0.26830487150706445}. Best is trial 124 with value: 0.027814196860498817.\n"
     ]
    },
    {
     "name": "stdout",
     "output_type": "stream",
     "text": [
      "P3alphaRecommender: Similarity column 38121 (100.0%), 4969.40 column/sec. Elapsed time 7.67 sec\n",
      "EvaluatorHoldout: Processed 34728 (100.0%) in 9.04 sec. Users per second: 3842\n"
     ]
    },
    {
     "name": "stderr",
     "output_type": "stream",
     "text": [
      "[I 2025-01-05 23:50:54,273] Trial 290 finished with value: 0.027756489891509917 and parameters: {'topK': 14, 'alpha': 0.32766610669224194}. Best is trial 124 with value: 0.027814196860498817.\n"
     ]
    },
    {
     "name": "stdout",
     "output_type": "stream",
     "text": [
      "P3alphaRecommender: Similarity column 38121 (100.0%), 4829.67 column/sec. Elapsed time 7.89 sec\n",
      "EvaluatorHoldout: Processed 34728 (100.0%) in 8.87 sec. Users per second: 3913\n"
     ]
    },
    {
     "name": "stderr",
     "output_type": "stream",
     "text": [
      "[I 2025-01-05 23:51:11,372] Trial 291 finished with value: 0.027614892881823724 and parameters: {'topK': 12, 'alpha': 0.30685428871711107}. Best is trial 124 with value: 0.027814196860498817.\n"
     ]
    },
    {
     "name": "stdout",
     "output_type": "stream",
     "text": [
      "P3alphaRecommender: Similarity column 38121 (100.0%), 4888.04 column/sec. Elapsed time 7.80 sec\n",
      "EvaluatorHoldout: Processed 34728 (100.0%) in 9.00 sec. Users per second: 3858\n"
     ]
    },
    {
     "name": "stderr",
     "output_type": "stream",
     "text": [
      "[I 2025-01-05 23:51:28,519] Trial 292 finished with value: 0.027763375602870323 and parameters: {'topK': 14, 'alpha': 0.28285077586728347}. Best is trial 124 with value: 0.027814196860498817.\n"
     ]
    },
    {
     "name": "stdout",
     "output_type": "stream",
     "text": [
      "P3alphaRecommender: Similarity column 38121 (100.0%), 4810.86 column/sec. Elapsed time 7.92 sec\n",
      "EvaluatorHoldout: Processed 34728 (100.0%) in 9.05 sec. Users per second: 3839\n"
     ]
    },
    {
     "name": "stderr",
     "output_type": "stream",
     "text": [
      "[I 2025-01-05 23:51:45,847] Trial 293 finished with value: 0.027727153058873088 and parameters: {'topK': 15, 'alpha': 0.3194601590283849}. Best is trial 124 with value: 0.027814196860498817.\n"
     ]
    },
    {
     "name": "stdout",
     "output_type": "stream",
     "text": [
      "P3alphaRecommender: Similarity column 38121 (100.0%), 4821.87 column/sec. Elapsed time 7.91 sec\n",
      "EvaluatorHoldout: Processed 34728 (100.0%) in 9.02 sec. Users per second: 3851\n"
     ]
    },
    {
     "name": "stderr",
     "output_type": "stream",
     "text": [
      "[I 2025-01-05 23:52:03,119] Trial 294 finished with value: 0.027808226425407773 and parameters: {'topK': 14, 'alpha': 0.30030016803062626}. Best is trial 124 with value: 0.027814196860498817.\n"
     ]
    },
    {
     "name": "stdout",
     "output_type": "stream",
     "text": [
      "P3alphaRecommender: Similarity column 38121 (100.0%), 4842.60 column/sec. Elapsed time 7.87 sec\n",
      "EvaluatorHoldout: Processed 34728 (100.0%) in 8.94 sec. Users per second: 3886\n"
     ]
    },
    {
     "name": "stderr",
     "output_type": "stream",
     "text": [
      "[I 2025-01-05 23:52:20,247] Trial 295 finished with value: 0.027624330168602072 and parameters: {'topK': 11, 'alpha': 0.3017742819179075}. Best is trial 124 with value: 0.027814196860498817.\n"
     ]
    },
    {
     "name": "stdout",
     "output_type": "stream",
     "text": [
      "P3alphaRecommender: Similarity column 38121 (100.0%), 4837.85 column/sec. Elapsed time 7.88 sec\n",
      "EvaluatorHoldout: Processed 34728 (100.0%) in 9.03 sec. Users per second: 3845\n"
     ]
    },
    {
     "name": "stderr",
     "output_type": "stream",
     "text": [
      "[I 2025-01-05 23:52:37,495] Trial 296 finished with value: 0.027698763497181967 and parameters: {'topK': 13, 'alpha': 0.3346819100140429}. Best is trial 124 with value: 0.027814196860498817.\n"
     ]
    },
    {
     "name": "stdout",
     "output_type": "stream",
     "text": [
      "P3alphaRecommender: Similarity column 38121 (100.0%), 4651.92 column/sec. Elapsed time 8.19 sec\n",
      "EvaluatorHoldout: Processed 34728 (100.0%) in 9.45 sec. Users per second: 3674\n"
     ]
    },
    {
     "name": "stderr",
     "output_type": "stream",
     "text": [
      "[I 2025-01-05 23:52:55,712] Trial 297 finished with value: 0.02689011405644884 and parameters: {'topK': 38, 'alpha': 0.31462227817665916}. Best is trial 124 with value: 0.027814196860498817.\n"
     ]
    },
    {
     "name": "stdout",
     "output_type": "stream",
     "text": [
      "P3alphaRecommender: Similarity column 38121 (100.0%), 4858.46 column/sec. Elapsed time 7.85 sec\n",
      "EvaluatorHoldout: Processed 34728 (100.0%) in 9.05 sec. Users per second: 3837\n"
     ]
    },
    {
     "name": "stderr",
     "output_type": "stream",
     "text": [
      "[I 2025-01-05 23:53:12,965] Trial 298 finished with value: 0.027750966239217065 and parameters: {'topK': 15, 'alpha': 0.2978324041299271}. Best is trial 124 with value: 0.027814196860498817.\n"
     ]
    },
    {
     "name": "stdout",
     "output_type": "stream",
     "text": [
      "P3alphaRecommender: Similarity column 38121 (100.0%), 4822.71 column/sec. Elapsed time 7.90 sec\n",
      "EvaluatorHoldout: Processed 34728 (100.0%) in 8.98 sec. Users per second: 3866\n"
     ]
    },
    {
     "name": "stderr",
     "output_type": "stream",
     "text": [
      "[I 2025-01-05 23:53:30,162] Trial 299 finished with value: 0.027480684356979413 and parameters: {'topK': 10, 'alpha': 0.3108702935429274}. Best is trial 124 with value: 0.027814196860498817.\n"
     ]
    }
   ],
   "source": [
    "optuna_study_alpha = op.create_study(direction=\"maximize\")\n",
    "        \n",
    "save_results_alpha = SaveResults(\"result_experiments/RP3alpha/results_optuna_map.csv\")\n",
    "        \n",
    "optuna_study_alpha.optimize(objective_function_P3_alpha,\n",
    "                      callbacks=[save_results_alpha],\n",
    "                      n_trials = 300)"
   ]
  },
  {
   "cell_type": "code",
   "execution_count": 13,
   "id": "d984e573-8a81-4ae0-b4ff-23757145c44a",
   "metadata": {},
   "outputs": [
    {
     "data": {
      "text/plain": [
       "{'topK': 14, 'alpha': 0.30489731750244276}"
      ]
     },
     "execution_count": 13,
     "metadata": {},
     "output_type": "execute_result"
    }
   ],
   "source": [
    "optuna_study_alpha.best_params"
   ]
  },
  {
   "cell_type": "code",
   "execution_count": 17,
   "id": "d279debb-045e-47b1-bfb6-e43400667014",
   "metadata": {},
   "outputs": [],
   "source": [
    "save_results_alpha.results_df.to_csv(\"result_experiments/RP3alpha/results_optuna.csv\")"
   ]
  },
  {
   "cell_type": "code",
   "execution_count": 17,
   "id": "188a8e35-b16a-416d-9255-ac1073dfacc3",
   "metadata": {},
   "outputs": [],
   "source": [
    "results_alpha = pd.read_csv(\"result_experiments/RP3alpha/results_optuna.csv\")\n",
    "results_beta = pd.read_csv(\"result_experiments/RP3beta/results_optuna_50.csv\")"
   ]
  },
  {
   "cell_type": "code",
   "execution_count": 18,
   "id": "66c0fe9b-c7d4-42a2-ba51-5e05947bb3ab",
   "metadata": {},
   "outputs": [
    {
     "data": {
      "text/html": [
       "<div>\n",
       "<style scoped>\n",
       "    .dataframe tbody tr th:only-of-type {\n",
       "        vertical-align: middle;\n",
       "    }\n",
       "\n",
       "    .dataframe tbody tr th {\n",
       "        vertical-align: top;\n",
       "    }\n",
       "\n",
       "    .dataframe thead th {\n",
       "        text-align: right;\n",
       "    }\n",
       "</style>\n",
       "<table border=\"1\" class=\"dataframe\">\n",
       "  <thead>\n",
       "    <tr style=\"text-align: right;\">\n",
       "      <th></th>\n",
       "      <th>Unnamed: 0</th>\n",
       "      <th>topK</th>\n",
       "      <th>alpha</th>\n",
       "      <th>beta</th>\n",
       "      <th>result</th>\n",
       "    </tr>\n",
       "  </thead>\n",
       "  <tbody>\n",
       "    <tr>\n",
       "      <th>235</th>\n",
       "      <td>235</td>\n",
       "      <td>12.0</td>\n",
       "      <td>0.349899</td>\n",
       "      <td>0.181734</td>\n",
       "      <td>0.055589</td>\n",
       "    </tr>\n",
       "    <tr>\n",
       "      <th>267</th>\n",
       "      <td>267</td>\n",
       "      <td>12.0</td>\n",
       "      <td>0.358275</td>\n",
       "      <td>0.183071</td>\n",
       "      <td>0.055585</td>\n",
       "    </tr>\n",
       "    <tr>\n",
       "      <th>232</th>\n",
       "      <td>232</td>\n",
       "      <td>12.0</td>\n",
       "      <td>0.352013</td>\n",
       "      <td>0.170365</td>\n",
       "      <td>0.055554</td>\n",
       "    </tr>\n",
       "    <tr>\n",
       "      <th>249</th>\n",
       "      <td>249</td>\n",
       "      <td>12.0</td>\n",
       "      <td>0.318763</td>\n",
       "      <td>0.178043</td>\n",
       "      <td>0.055539</td>\n",
       "    </tr>\n",
       "    <tr>\n",
       "      <th>265</th>\n",
       "      <td>265</td>\n",
       "      <td>12.0</td>\n",
       "      <td>0.359616</td>\n",
       "      <td>0.178041</td>\n",
       "      <td>0.055538</td>\n",
       "    </tr>\n",
       "    <tr>\n",
       "      <th>...</th>\n",
       "      <td>...</td>\n",
       "      <td>...</td>\n",
       "      <td>...</td>\n",
       "      <td>...</td>\n",
       "      <td>...</td>\n",
       "    </tr>\n",
       "    <tr>\n",
       "      <th>195</th>\n",
       "      <td>195</td>\n",
       "      <td>2.0</td>\n",
       "      <td>0.863639</td>\n",
       "      <td>0.172310</td>\n",
       "      <td>0.035370</td>\n",
       "    </tr>\n",
       "    <tr>\n",
       "      <th>7</th>\n",
       "      <td>7</td>\n",
       "      <td>29.0</td>\n",
       "      <td>0.579395</td>\n",
       "      <td>0.922559</td>\n",
       "      <td>0.034820</td>\n",
       "    </tr>\n",
       "    <tr>\n",
       "      <th>133</th>\n",
       "      <td>133</td>\n",
       "      <td>14.0</td>\n",
       "      <td>0.282290</td>\n",
       "      <td>0.985331</td>\n",
       "      <td>0.034568</td>\n",
       "    </tr>\n",
       "    <tr>\n",
       "      <th>9</th>\n",
       "      <td>9</td>\n",
       "      <td>48.0</td>\n",
       "      <td>0.293029</td>\n",
       "      <td>0.919261</td>\n",
       "      <td>0.033317</td>\n",
       "    </tr>\n",
       "    <tr>\n",
       "      <th>5</th>\n",
       "      <td>5</td>\n",
       "      <td>36.0</td>\n",
       "      <td>0.646849</td>\n",
       "      <td>0.941133</td>\n",
       "      <td>0.033130</td>\n",
       "    </tr>\n",
       "  </tbody>\n",
       "</table>\n",
       "<p>300 rows × 5 columns</p>\n",
       "</div>"
      ],
      "text/plain": [
       "     Unnamed: 0  topK     alpha      beta    result\n",
       "235         235  12.0  0.349899  0.181734  0.055589\n",
       "267         267  12.0  0.358275  0.183071  0.055585\n",
       "232         232  12.0  0.352013  0.170365  0.055554\n",
       "249         249  12.0  0.318763  0.178043  0.055539\n",
       "265         265  12.0  0.359616  0.178041  0.055538\n",
       "..          ...   ...       ...       ...       ...\n",
       "195         195   2.0  0.863639  0.172310  0.035370\n",
       "7             7  29.0  0.579395  0.922559  0.034820\n",
       "133         133  14.0  0.282290  0.985331  0.034568\n",
       "9             9  48.0  0.293029  0.919261  0.033317\n",
       "5             5  36.0  0.646849  0.941133  0.033130\n",
       "\n",
       "[300 rows x 5 columns]"
      ]
     },
     "execution_count": 18,
     "metadata": {},
     "output_type": "execute_result"
    }
   ],
   "source": [
    "results_beta.sort_values(by=['result'], ascending=False)"
   ]
  },
  {
   "cell_type": "code",
   "execution_count": 8,
   "id": "2049ea60-becc-465a-bfce-c14962b79db1",
   "metadata": {},
   "outputs": [
    {
     "data": {
      "text/html": [
       "<div>\n",
       "<style scoped>\n",
       "    .dataframe tbody tr th:only-of-type {\n",
       "        vertical-align: middle;\n",
       "    }\n",
       "\n",
       "    .dataframe tbody tr th {\n",
       "        vertical-align: top;\n",
       "    }\n",
       "\n",
       "    .dataframe thead th {\n",
       "        text-align: right;\n",
       "    }\n",
       "</style>\n",
       "<table border=\"1\" class=\"dataframe\">\n",
       "  <thead>\n",
       "    <tr style=\"text-align: right;\">\n",
       "      <th></th>\n",
       "      <th>Unnamed: 0</th>\n",
       "      <th>topK</th>\n",
       "      <th>alpha</th>\n",
       "      <th>result</th>\n",
       "    </tr>\n",
       "  </thead>\n",
       "  <tbody>\n",
       "    <tr>\n",
       "      <th>101</th>\n",
       "      <td>101</td>\n",
       "      <td>13.0</td>\n",
       "      <td>0.358969</td>\n",
       "      <td>0.054205</td>\n",
       "    </tr>\n",
       "    <tr>\n",
       "      <th>264</th>\n",
       "      <td>264</td>\n",
       "      <td>13.0</td>\n",
       "      <td>0.356510</td>\n",
       "      <td>0.054203</td>\n",
       "    </tr>\n",
       "    <tr>\n",
       "      <th>280</th>\n",
       "      <td>280</td>\n",
       "      <td>13.0</td>\n",
       "      <td>0.359350</td>\n",
       "      <td>0.054201</td>\n",
       "    </tr>\n",
       "    <tr>\n",
       "      <th>97</th>\n",
       "      <td>97</td>\n",
       "      <td>13.0</td>\n",
       "      <td>0.356190</td>\n",
       "      <td>0.054192</td>\n",
       "    </tr>\n",
       "    <tr>\n",
       "      <th>267</th>\n",
       "      <td>267</td>\n",
       "      <td>13.0</td>\n",
       "      <td>0.355121</td>\n",
       "      <td>0.054187</td>\n",
       "    </tr>\n",
       "    <tr>\n",
       "      <th>...</th>\n",
       "      <td>...</td>\n",
       "      <td>...</td>\n",
       "      <td>...</td>\n",
       "      <td>...</td>\n",
       "    </tr>\n",
       "    <tr>\n",
       "      <th>154</th>\n",
       "      <td>154</td>\n",
       "      <td>2.0</td>\n",
       "      <td>0.350523</td>\n",
       "      <td>0.036901</td>\n",
       "    </tr>\n",
       "    <tr>\n",
       "      <th>213</th>\n",
       "      <td>213</td>\n",
       "      <td>2.0</td>\n",
       "      <td>0.350160</td>\n",
       "      <td>0.036896</td>\n",
       "    </tr>\n",
       "    <tr>\n",
       "      <th>220</th>\n",
       "      <td>220</td>\n",
       "      <td>2.0</td>\n",
       "      <td>0.350028</td>\n",
       "      <td>0.036895</td>\n",
       "    </tr>\n",
       "    <tr>\n",
       "      <th>248</th>\n",
       "      <td>248</td>\n",
       "      <td>2.0</td>\n",
       "      <td>0.350073</td>\n",
       "      <td>0.036895</td>\n",
       "    </tr>\n",
       "    <tr>\n",
       "      <th>74</th>\n",
       "      <td>74</td>\n",
       "      <td>2.0</td>\n",
       "      <td>0.387167</td>\n",
       "      <td>0.036847</td>\n",
       "    </tr>\n",
       "  </tbody>\n",
       "</table>\n",
       "<p>300 rows × 4 columns</p>\n",
       "</div>"
      ],
      "text/plain": [
       "     Unnamed: 0  topK     alpha    result\n",
       "101         101  13.0  0.358969  0.054205\n",
       "264         264  13.0  0.356510  0.054203\n",
       "280         280  13.0  0.359350  0.054201\n",
       "97           97  13.0  0.356190  0.054192\n",
       "267         267  13.0  0.355121  0.054187\n",
       "..          ...   ...       ...       ...\n",
       "154         154   2.0  0.350523  0.036901\n",
       "213         213   2.0  0.350160  0.036896\n",
       "220         220   2.0  0.350028  0.036895\n",
       "248         248   2.0  0.350073  0.036895\n",
       "74           74   2.0  0.387167  0.036847\n",
       "\n",
       "[300 rows x 4 columns]"
      ]
     },
     "execution_count": 8,
     "metadata": {},
     "output_type": "execute_result"
    }
   ],
   "source": [
    "results_alpha.sort_values(by=['result'], ascending=False)"
   ]
  },
  {
   "cell_type": "code",
   "execution_count": null,
   "id": "5383d095-7824-4509-bd75-fddf7d1d8640",
   "metadata": {},
   "outputs": [],
   "source": []
  }
 ],
 "metadata": {
  "kernelspec": {
   "display_name": "RecSys",
   "language": "python",
   "name": "recsys"
  },
  "language_info": {
   "codemirror_mode": {
    "name": "ipython",
    "version": 3
   },
   "file_extension": ".py",
   "mimetype": "text/x-python",
   "name": "python",
   "nbconvert_exporter": "python",
   "pygments_lexer": "ipython3",
   "version": "3.12.7"
  }
 },
 "nbformat": 4,
 "nbformat_minor": 5
}
