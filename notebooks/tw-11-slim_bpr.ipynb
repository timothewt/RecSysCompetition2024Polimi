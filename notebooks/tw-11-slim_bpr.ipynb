{
 "cells": [
  {
   "metadata": {
    "jupyter": {
     "is_executing": true
    },
    "ExecuteTime": {
     "start_time": "2024-11-20T01:16:25.791344Z"
    }
   },
   "cell_type": "code",
   "source": [
    "import numpy as np\n",
    "import scipy.sparse as sp\n",
    "import torch\n",
    "from torch.optim import Adam, Optimizer\n",
    "from tqdm import trange\n",
    "from torch.utils.data import Dataset\n",
    "from torch import nn\n",
    "\n",
    "from src.recommender_model import RecommenderModel\n",
    "from src.utils import train_model, write_submission, plot_losses, evaluate_model"
   ],
   "id": "865b0f499514a878",
   "outputs": [],
   "execution_count": null
  },
  {
   "metadata": {},
   "cell_type": "markdown",
   "source": "# SLIM - BPR",
   "id": "f6fc3798601718f1"
  },
  {
   "metadata": {},
   "cell_type": "markdown",
   "source": "Machine Learning can be used to learn the users and items embeddings. The simplest method uses Mean Squared Error loss to optimize the users and items embeddings.",
   "id": "be6b007ec8e33f9c"
  },
  {
   "metadata": {
    "ExecuteTime": {
     "end_time": "2024-11-20T01:13:06.555696Z",
     "start_time": "2024-11-20T01:13:06.547604Z"
    }
   },
   "cell_type": "code",
   "source": [
    "class URMDatasetNegativeSampling(Dataset):\n",
    "\t\"\"\"URM Dataset with negative sampling\"\"\"\n",
    "\tdef __init__(self, urm: sp.csr_matrix):\n",
    "\t\tself.urm: sp.csr_matrix = urm\n",
    "\t\tself.num_items: int = self.urm.shape[1]\n",
    "\t\t# self.ratings = None  # assume implicit ratings\n",
    "\t\tself.user_item_sets = {\n",
    "\t\t\tuser_id: (\n",
    "\t\t\t\tself.urm.getrow(user_id).indices,\n",
    "\t\t\t\tset(self.urm.getrow(user_id).indices)\n",
    "\t\t\t)\n",
    "\t\t\tfor user_id in range(self.urm.shape[0])\n",
    "\t\t}  # we use sets to check if an item has been interacted with as it has constant access time\n",
    "\n",
    "\tdef __getitem__(self, user_idx: int):\n",
    "\t\tpos_sample = np.random.choice(self.user_item_sets[user_idx][0])\n",
    "\t\tneg_sample = np.random.randint(0, self.num_items)\n",
    "\t\twhile neg_sample in self.user_item_sets[user_idx][1]:\n",
    "\t\t\tneg_sample = np.random.randint(0, self.num_items)\n",
    "\t\treturn torch.tensor(pos_sample, dtype=torch.long), torch.tensor(neg_sample, dtype=torch.long)\n",
    "\n",
    "\tdef __len__(self):\n",
    "\t\treturn self.urm.nnz"
   ],
   "id": "2f9a466de9f84b5a",
   "outputs": [],
   "execution_count": 2
  },
  {
   "metadata": {
    "ExecuteTime": {
     "end_time": "2024-11-20T01:13:06.656521Z",
     "start_time": "2024-11-20T01:13:06.653517Z"
    }
   },
   "cell_type": "code",
   "source": [
    "def bpr_loss(pos_scores, neg_scores):\n",
    "\treturn -torch.mean(torch.log(torch.sigmoid(pos_scores - neg_scores)))"
   ],
   "id": "a0c3afae70b7482f",
   "outputs": [],
   "execution_count": 3
  },
  {
   "metadata": {
    "ExecuteTime": {
     "end_time": "2024-11-20T01:13:06.707946Z",
     "start_time": "2024-11-20T01:13:06.698549Z"
    }
   },
   "cell_type": "code",
   "source": [
    "class SLIMBPR(RecommenderModel):\n",
    "\tdef __init__(self):\n",
    "\t\tsuper(SLIMBPR, self).__init__()\n",
    "\t\tself.similarity_matrix: torch.Tensor | None = None\n",
    "\t\tself.optimizer: Optimizer | None = None\n",
    "\t\tself.loss_fn = None\n",
    "\t\tself.best_map = 0.0\n",
    "\n",
    "\tdef fit(self, urm: sp.csr_matrix, icm: sp.csr_matrix, urm_val: sp.csr_matrix, lr: float = .001, epochs: int = 1, plot_loss: bool = True)-> None:\n",
    "\t\tself.urm = urm\n",
    "\t\tnum_users, num_items = urm.shape\n",
    "\t\tself.similarity_matrix = nn.Parameter(torch.zeros(num_items, num_items, dtype=torch.float32))\n",
    "\t\tself.optimizer = Adam([self.similarity_matrix], lr=lr)\n",
    "\t\tself.loss_fn = bpr_loss\n",
    "\n",
    "\t\tvalidation_enabled = urm_val.nnz > 0\n",
    "\n",
    "\t\tdataset = URMDatasetNegativeSampling(urm_val)\n",
    "\n",
    "\t\tloss_history = np.zeros(epochs * num_users)\n",
    "\t\tmap_history = np.zeros(epochs)\n",
    "\n",
    "\t\tfor epoch in (t := trange(epochs)):\n",
    "\t\t\tfor user_idx in range(num_users):\n",
    "\t\t\t\tpos_sample, neg_sample = dataset[user_idx]\n",
    "\n",
    "\t\t\t\tseen_items = torch.tensor(\n",
    "\t\t\t\t\tself.urm.indices[self.urm.indptr[user_idx]:self.urm.indptr[user_idx + 1]],\n",
    "\t\t\t\t\tdtype=torch.long\n",
    "\t\t\t\t)\n",
    "\n",
    "\t\t\t\tpos_score = self.similarity_matrix[pos_sample, seen_items].sum()\n",
    "\t\t\t\tneg_score = self.similarity_matrix[neg_sample, seen_items].sum()\n",
    "\n",
    "\t\t\t\tloss = self.loss_fn(pos_score, neg_score)\n",
    "\n",
    "\t\t\t\tself.optimizer.zero_grad()\n",
    "\t\t\t\tloss.backward()\n",
    "\t\t\t\tself.optimizer.step()\n",
    "\n",
    "\t\t\t\tself.similarity_matrix[pos_sample, pos_sample] = 0\n",
    "\t\t\t\tself.similarity_matrix[neg_sample, neg_sample] = 0\n",
    "\n",
    "\t\t\t\tloss_history[num_users * epoch + user_idx] = loss.item()\n",
    "\t\t\t\twith torch.no_grad():\n",
    "\t\t\t\t\tt.set_postfix({\n",
    "\t\t\t\t\t\t\"Batch progression\": f\"{(user_idx + 1) / num_users * 100:.2f}%\",\n",
    "\t\t\t\t\t\t\"Train loss\": f\"{loss.item():.5f}\",\n",
    "\t\t\t\t\t\t\"Pos score\": f\"{pos_score.item():.5f}\",\n",
    "\t\t\t\t\t\t\"Neg score\": f\"{neg_score.item():.5f}\"\n",
    "\t\t\t\t\t})\n",
    "\t\t\tif validation_enabled:\n",
    "\t\t\t\twith torch.no_grad():\n",
    "\t\t\t\t\tself.urm_pred = self.urm @ self.similarity_matrix\n",
    "\t\t\t\t\tmap_history[epoch] = evaluate_model(self, urm_val)\n",
    "\n",
    "\t\tif not validation_enabled:\n",
    "\t\t\twith torch.no_grad():\n",
    "\t\t\t\tself.urm_pred = self.urm @ self.similarity_matrix\n",
    "\t\tplot_losses(epochs, loss_history)"
   ],
   "id": "37d17a7915bec271",
   "outputs": [],
   "execution_count": 4
  },
  {
   "metadata": {
    "ExecuteTime": {
     "end_time": "2024-11-20T01:13:10.878711Z",
     "start_time": "2024-11-20T01:13:06.755774Z"
    }
   },
   "cell_type": "code",
   "source": "slim_bpr_train = train_model(SLIMBPR(), epochs=100)",
   "id": "2f57c8af94d5c95e",
   "outputs": [
    {
     "name": "stderr",
     "output_type": "stream",
     "text": [
      "  0%|          | 0/100 [00:00<?, ?it/s]\n"
     ]
    },
    {
     "ename": "ValueError",
     "evalue": "a must be 1-dimensional or an integer",
     "output_type": "error",
     "traceback": [
      "\u001B[0;31m---------------------------------------------------------------------------\u001B[0m",
      "\u001B[0;31mTypeError\u001B[0m                                 Traceback (most recent call last)",
      "File \u001B[0;32mnumpy/random/mtrand.pyx:964\u001B[0m, in \u001B[0;36mnumpy.random.mtrand.RandomState.choice\u001B[0;34m()\u001B[0m\n",
      "\u001B[0;31mTypeError\u001B[0m: 'set' object cannot be interpreted as an integer",
      "\nDuring handling of the above exception, another exception occurred:\n",
      "\u001B[0;31mValueError\u001B[0m                                Traceback (most recent call last)",
      "Cell \u001B[0;32mIn[5], line 1\u001B[0m\n\u001B[0;32m----> 1\u001B[0m slim_bpr_train \u001B[38;5;241m=\u001B[39m \u001B[43mtrain_model\u001B[49m\u001B[43m(\u001B[49m\u001B[43mSLIMBPR\u001B[49m\u001B[43m(\u001B[49m\u001B[43m)\u001B[49m\u001B[43m,\u001B[49m\u001B[43m \u001B[49m\u001B[43mepochs\u001B[49m\u001B[38;5;241;43m=\u001B[39;49m\u001B[38;5;241;43m100\u001B[39;49m\u001B[43m)\u001B[49m\n",
      "File \u001B[0;32m~/PycharmProjects/RecSysCompetition2024Polimi/src/utils.py:112\u001B[0m, in \u001B[0;36mtrain_model\u001B[0;34m(model, at, test_size, print_eval, **kwargs)\u001B[0m\n\u001B[1;32m    109\u001B[0m urm, icm \u001B[38;5;241m=\u001B[39m open_dataset()\n\u001B[1;32m    110\u001B[0m urm_train, urm_test \u001B[38;5;241m=\u001B[39m train_test_split(urm, test_size\u001B[38;5;241m=\u001B[39mtest_size)\n\u001B[0;32m--> 112\u001B[0m \u001B[43mmodel\u001B[49m\u001B[38;5;241;43m.\u001B[39;49m\u001B[43mfit\u001B[49m\u001B[43m(\u001B[49m\u001B[43murm_train\u001B[49m\u001B[43m,\u001B[49m\u001B[43m \u001B[49m\u001B[43micm\u001B[49m\u001B[43m,\u001B[49m\u001B[43m \u001B[49m\u001B[43murm_test\u001B[49m\u001B[43m,\u001B[49m\u001B[43m \u001B[49m\u001B[38;5;241;43m*\u001B[39;49m\u001B[38;5;241;43m*\u001B[39;49m\u001B[43mkwargs\u001B[49m\u001B[43m)\u001B[49m\n\u001B[1;32m    114\u001B[0m \u001B[38;5;28;01mif\u001B[39;00m print_eval \u001B[38;5;129;01mand\u001B[39;00m test_size \u001B[38;5;241m>\u001B[39m \u001B[38;5;241m0\u001B[39m:\n\u001B[1;32m    115\u001B[0m \t\u001B[38;5;28mprint\u001B[39m(\u001B[38;5;124mf\u001B[39m\u001B[38;5;124m\"\u001B[39m\u001B[38;5;124mMAP@\u001B[39m\u001B[38;5;132;01m{\u001B[39;00mat\u001B[38;5;132;01m}\u001B[39;00m\u001B[38;5;124m evaluation of the \u001B[39m\u001B[38;5;132;01m{\u001B[39;00mmodel\u001B[38;5;241m.\u001B[39m\u001B[38;5;18m__class__\u001B[39m\u001B[38;5;241m.\u001B[39m\u001B[38;5;18m__name__\u001B[39m\u001B[38;5;132;01m}\u001B[39;00m\u001B[38;5;124m model: \u001B[39m\u001B[38;5;132;01m{\u001B[39;00mevaluate_model(model,\u001B[38;5;250m \u001B[39murm_test,\u001B[38;5;250m \u001B[39mat\u001B[38;5;241m=\u001B[39mat,\u001B[38;5;250m \u001B[39musers_to_test\u001B[38;5;241m=\u001B[39m\u001B[38;5;241m.2\u001B[39m)\u001B[38;5;132;01m:\u001B[39;00m\u001B[38;5;124m.5f\u001B[39m\u001B[38;5;132;01m}\u001B[39;00m\u001B[38;5;124m\"\u001B[39m)\n",
      "Cell \u001B[0;32mIn[4], line 25\u001B[0m, in \u001B[0;36mSLIMBPR.fit\u001B[0;34m(self, urm, icm, urm_val, lr, epochs, plot_loss)\u001B[0m\n\u001B[1;32m     23\u001B[0m \u001B[38;5;28;01mfor\u001B[39;00m epoch \u001B[38;5;129;01min\u001B[39;00m (t \u001B[38;5;241m:=\u001B[39m trange(epochs)):\n\u001B[1;32m     24\u001B[0m \t\u001B[38;5;28;01mfor\u001B[39;00m user_idx \u001B[38;5;129;01min\u001B[39;00m \u001B[38;5;28mrange\u001B[39m(num_users):\n\u001B[0;32m---> 25\u001B[0m \t\tpos_sample, neg_sample \u001B[38;5;241m=\u001B[39m \u001B[43mdataset\u001B[49m\u001B[43m[\u001B[49m\u001B[43muser_idx\u001B[49m\u001B[43m]\u001B[49m\n\u001B[1;32m     27\u001B[0m \t\tseen_items \u001B[38;5;241m=\u001B[39m torch\u001B[38;5;241m.\u001B[39mtensor(\n\u001B[1;32m     28\u001B[0m \t\t\t\u001B[38;5;28mself\u001B[39m\u001B[38;5;241m.\u001B[39murm\u001B[38;5;241m.\u001B[39mindices[\u001B[38;5;28mself\u001B[39m\u001B[38;5;241m.\u001B[39murm\u001B[38;5;241m.\u001B[39mindptr[user_idx]:\u001B[38;5;28mself\u001B[39m\u001B[38;5;241m.\u001B[39murm\u001B[38;5;241m.\u001B[39mindptr[user_idx \u001B[38;5;241m+\u001B[39m \u001B[38;5;241m1\u001B[39m]],\n\u001B[1;32m     29\u001B[0m \t\t\tdtype\u001B[38;5;241m=\u001B[39mtorch\u001B[38;5;241m.\u001B[39mlong\n\u001B[1;32m     30\u001B[0m \t\t)\n\u001B[1;32m     32\u001B[0m \t\tpos_score \u001B[38;5;241m=\u001B[39m \u001B[38;5;28mself\u001B[39m\u001B[38;5;241m.\u001B[39msimilarity_matrix[pos_sample, seen_items]\u001B[38;5;241m.\u001B[39msum()\n",
      "Cell \u001B[0;32mIn[2], line 15\u001B[0m, in \u001B[0;36mURMDatasetNegativeSampling.__getitem__\u001B[0;34m(self, user_idx)\u001B[0m\n\u001B[1;32m     14\u001B[0m \u001B[38;5;28;01mdef\u001B[39;00m \u001B[38;5;21m__getitem__\u001B[39m(\u001B[38;5;28mself\u001B[39m, user_idx: \u001B[38;5;28mint\u001B[39m):\n\u001B[0;32m---> 15\u001B[0m \tpos_sample \u001B[38;5;241m=\u001B[39m \u001B[43mnp\u001B[49m\u001B[38;5;241;43m.\u001B[39;49m\u001B[43mrandom\u001B[49m\u001B[38;5;241;43m.\u001B[39;49m\u001B[43mchoice\u001B[49m\u001B[43m(\u001B[49m\u001B[38;5;28;43mself\u001B[39;49m\u001B[38;5;241;43m.\u001B[39;49m\u001B[43muser_item_sets\u001B[49m\u001B[43m[\u001B[49m\u001B[43muser_idx\u001B[49m\u001B[43m]\u001B[49m\u001B[43m)\u001B[49m\n\u001B[1;32m     16\u001B[0m \tneg_sample \u001B[38;5;241m=\u001B[39m np\u001B[38;5;241m.\u001B[39mrandom\u001B[38;5;241m.\u001B[39mrandint(\u001B[38;5;241m0\u001B[39m, \u001B[38;5;28mself\u001B[39m\u001B[38;5;241m.\u001B[39mnum_items)\n\u001B[1;32m     17\u001B[0m \t\u001B[38;5;28;01mwhile\u001B[39;00m neg_sample \u001B[38;5;129;01min\u001B[39;00m \u001B[38;5;28mself\u001B[39m\u001B[38;5;241m.\u001B[39muser_item_sets[user_idx]:\n",
      "File \u001B[0;32mnumpy/random/mtrand.pyx:966\u001B[0m, in \u001B[0;36mnumpy.random.mtrand.RandomState.choice\u001B[0;34m()\u001B[0m\n",
      "\u001B[0;31mValueError\u001B[0m: a must be 1-dimensional or an integer"
     ]
    }
   ],
   "execution_count": 5
  },
  {
   "metadata": {},
   "cell_type": "code",
   "outputs": [],
   "execution_count": null,
   "source": [
    "slim_bpr_submission = train_model(SLIMBPR(), test_size=0, epochs=100)\n",
    "write_submission(slim_bpr_submission, \"slim_bpr_submission.csv\")"
   ],
   "id": "b15db8626b91a0ef"
  },
  {
   "metadata": {},
   "cell_type": "markdown",
   "source": "Submission result: `0.00278`",
   "id": "d1c2fbba9c4d71f6"
  }
 ],
 "metadata": {
  "kernelspec": {
   "display_name": "Python 3",
   "language": "python",
   "name": "python3"
  },
  "language_info": {
   "codemirror_mode": {
    "name": "ipython",
    "version": 2
   },
   "file_extension": ".py",
   "mimetype": "text/x-python",
   "name": "python",
   "nbconvert_exporter": "python",
   "pygments_lexer": "ipython2",
   "version": "2.7.6"
  }
 },
 "nbformat": 4,
 "nbformat_minor": 5
}
