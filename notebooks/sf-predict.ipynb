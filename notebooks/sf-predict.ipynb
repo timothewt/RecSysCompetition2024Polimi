{
 "cells": [
  {
   "cell_type": "code",
   "execution_count": 1,
   "id": "288698fd-6221-43c9-8816-72897111f0b2",
   "metadata": {},
   "outputs": [],
   "source": [
    "from pathlib import Path\n",
    "import sys  \n",
    "import os"
   ]
  },
  {
   "cell_type": "code",
   "execution_count": 2,
   "id": "8edd8bfb-792c-47c4-8bd3-cf8057879eb0",
   "metadata": {},
   "outputs": [],
   "source": [
    "sys.path.append(os.path.abspath(os.path.join(os.getcwd(), \"..\", \"libs\")))\n",
    "sys.path.append(os.path.abspath(os.path.join(os.getcwd(), \"..\")))\n",
    "sys.path.append(os.path.abspath(os.path.join(os.getcwd(), \"..\", \"src\")))"
   ]
  },
  {
   "cell_type": "code",
   "execution_count": 3,
   "id": "66ba0567-608e-4de2-bfba-9ad181aec9aa",
   "metadata": {},
   "outputs": [],
   "source": [
    "%load_ext autoreload\n",
    "%autoreload 2"
   ]
  },
  {
   "cell_type": "code",
   "execution_count": 4,
   "id": "83d57d3b-8836-434e-839d-6d7ae49627fe",
   "metadata": {},
   "outputs": [],
   "source": [
    "from libs.Recommenders.SLIM.SLIMElasticNetRecommender import SLIMElasticNetRecommender\n",
    "from libs.Recommenders.SLIM.SLIM_BPR_Python import SLIM_BPR_Python\n",
    "\n",
    "import numpy as np\n",
    "import pandas as pd"
   ]
  },
  {
   "cell_type": "code",
   "execution_count": 5,
   "id": "3184cee1-93f2-4e48-bed5-a07197ccf592",
   "metadata": {},
   "outputs": [],
   "source": [
    "from Utils.load_URM import load_URM\n",
    "from Utils.load_ICM import load_ICM\n",
    "from libs.Evaluation.Evaluator import EvaluatorHoldout\n",
    "from Data_manager.split_functions.split_train_validation_random_holdout import split_train_in_two_percentage_global_sample\n",
    "\n",
    "URM_all = load_URM(\"../data/data_train.csv\")\n",
    "ICM_all = load_ICM(\"../data/data_ICM_metadata.csv\")"
   ]
  },
  {
   "cell_type": "code",
   "execution_count": 6,
   "id": "26d54828-463b-4f6a-a2ff-fd88b4711187",
   "metadata": {},
   "outputs": [
    {
     "name": "stdout",
     "output_type": "stream",
     "text": [
      "Warning: 148 (0.41 %) of 35736 users have no sampled items\n"
     ]
    }
   ],
   "source": [
    "URM_train, URM_validation = split_train_in_two_percentage_global_sample(URM_all, train_percentage = 0.80)"
   ]
  },
  {
   "cell_type": "code",
   "execution_count": 7,
   "id": "723db089-b7ff-4043-983f-af7d967697fd",
   "metadata": {},
   "outputs": [
    {
     "name": "stdout",
     "output_type": "stream",
     "text": [
      "EvaluatorHoldout: Ignoring 148 ( 0.4%) Users that have less than 1 test interactions\n"
     ]
    }
   ],
   "source": [
    "evaluator_validation = EvaluatorHoldout(URM_validation, cutoff_list=[10])"
   ]
  },
  {
   "cell_type": "code",
   "execution_count": 8,
   "id": "812415c3-4238-4b84-bec4-2dce7fada279",
   "metadata": {},
   "outputs": [
    {
     "name": "stdout",
     "output_type": "stream",
     "text": [
      "SLIMElasticNetRecommender: Processed 7050 (18.5%) in 5.00 min. Items per second: 23.50\n",
      "SLIMElasticNetRecommender: Processed 14184 (37.2%) in 10.00 min. Items per second: 23.64\n",
      "SLIMElasticNetRecommender: Processed 21275 (55.8%) in 15.00 min. Items per second: 23.64\n",
      "SLIMElasticNetRecommender: Processed 27923 (73.2%) in 20.00 min. Items per second: 23.27\n",
      "SLIMElasticNetRecommender: Processed 35078 (92.0%) in 25.00 min. Items per second: 23.38\n",
      "SLIMElasticNetRecommender: Processed 38121 (100.0%) in 27.26 min. Items per second: 23.31\n"
     ]
    }
   ],
   "source": [
    "URM_all_coo = URM_all.tocoo()\n",
    "\n",
    "slim_model = SLIMElasticNetRecommender(URM_all_coo, verbose=True)\n",
    "slim_model.fit(l1_ratio=0.112, alpha=0.000255, topK = 300)\n"
   ]
  },
  {
   "cell_type": "code",
   "execution_count": 9,
   "id": "1f37f726-416d-4374-868c-a9cc264c7d6b",
   "metadata": {},
   "outputs": [
    {
     "name": "stdout",
     "output_type": "stream",
     "text": [
      "EvaluatorHoldout: Processed 35588 (100.0%) in 15.97 sec. Users per second: 2229\n"
     ]
    }
   ],
   "source": [
    "result_dict, _ = evaluator_validation.evaluateRecommender(slim_model)"
   ]
  },
  {
   "cell_type": "code",
   "execution_count": 11,
   "id": "211a8a76-93d7-458c-b490-9099d9b725b9",
   "metadata": {},
   "outputs": [
    {
     "data": {
      "text/plain": [
       "cutoff\n",
       "10    0.0\n",
       "Name: MAP, dtype: object"
      ]
     },
     "execution_count": 11,
     "metadata": {},
     "output_type": "execute_result"
    }
   ],
   "source": [
    "result_dict[\"MAP\"]"
   ]
  },
  {
   "cell_type": "code",
   "execution_count": null,
   "id": "b2ee8caa-9602-4cbe-81a4-ac360877c2aa",
   "metadata": {},
   "outputs": [],
   "source": [
    "'lambda_i_=0.01', 'lambda_j_=0.0036666666666666666'"
   ]
  },
  {
   "cell_type": "code",
   "execution_count": 17,
   "id": "c191b588-41d2-40b3-883c-654b04a1ecfc",
   "metadata": {},
   "outputs": [
    {
     "name": "stdout",
     "output_type": "stream",
     "text": [
      "Train completed in 12.86 minutes\n"
     ]
    }
   ],
   "source": [
    "URM_all_coo = URM_all.tocoo()\n",
    "\n",
    "slim_bpr_model = SLIM_BPR_Python(URM_all_coo, verbose=False)\n",
    "slim_bpr_model.fit(learning_rate=0.001,\n",
    "                                   lambda_i=0.01,\n",
    "                                   lambda_j=0.00366,\n",
    "                                   topK = 100,\n",
    "                                   epochs=120,)\n"
   ]
  },
  {
   "cell_type": "code",
   "execution_count": 23,
   "id": "deac9dfc-1b43-46cc-8755-f645d5020230",
   "metadata": {},
   "outputs": [
    {
     "name": "stdout",
     "output_type": "stream",
     "text": [
      "EvaluatorHoldout: Processed 35576 (100.0%) in 19.34 sec. Users per second: 1840\n"
     ]
    }
   ],
   "source": [
    "result_dict, _ = evaluator_validation.evaluateRecommender(slim_bpr_model)"
   ]
  },
  {
   "cell_type": "code",
   "execution_count": 24,
   "id": "f0e411e0-86cf-4c6b-807a-7a351c545590",
   "metadata": {},
   "outputs": [
    {
     "data": {
      "text/plain": [
       "cutoff\n",
       "10    0.0\n",
       "Name: MAP, dtype: object"
      ]
     },
     "execution_count": 24,
     "metadata": {},
     "output_type": "execute_result"
    }
   ],
   "source": [
    "result_dict[\"MAP\"]"
   ]
  },
  {
   "cell_type": "code",
   "execution_count": 12,
   "id": "be554483-5245-4ef0-9e12-c6041205f0da",
   "metadata": {},
   "outputs": [],
   "source": [
    "def write_submission_lib_model(trained_model, filename: str = \"submission.csv\") -> None:\n",
    "\t\"\"\"Builds the submission file from a trained recommender model. The file is saved in a CSV format.\n",
    "\n",
    "\t:param trained_model: A fitted recommender model\n",
    "\t:type trained_model: RecommenderModel\n",
    "\t:param filename: The filename of the submission for this particular recommender model\n",
    "\t:type filename: str\n",
    "\t\"\"\"\n",
    "\ttarget_users_test = pd.read_csv(\"../data/data_target_users_test.csv\",).to_numpy().ravel()\n",
    "\n",
    "\trecommendations = np.array([\n",
    "\t\ttrained_model.recommend(user_id, cutoff=10) for user_id in target_users_test\n",
    "\t])\n",
    "\n",
    "\tif not os.path.exists(\"../submissions\"):\n",
    "\t\tos.makedirs(\"../submissions\")\n",
    "\twith open(f\"../submissions/{filename}\", \"w\") as f:\n",
    "\t\tf.write(\"user_id,item_list\\n\")\n",
    "\t\tfor user_id, recs in zip(target_users_test, recommendations):\n",
    "\t\t\tf.write(f\"{user_id},{' '.join(map(str, recs))}\\n\")"
   ]
  },
  {
   "cell_type": "code",
   "execution_count": 13,
   "id": "58a194ee-4704-4165-aa7e-b7c37be82ba7",
   "metadata": {},
   "outputs": [],
   "source": [
    "write_submission_lib_model(slim_model, filename='slim_urm_300.csv')"
   ]
  },
  {
   "cell_type": "code",
   "execution_count": null,
   "id": "45f70621-8ebd-4601-b174-27cef917ca49",
   "metadata": {},
   "outputs": [],
   "source": []
  }
 ],
 "metadata": {
  "kernelspec": {
   "display_name": "RecSys",
   "language": "python",
   "name": "recsys"
  },
  "language_info": {
   "codemirror_mode": {
    "name": "ipython",
    "version": 3
   },
   "file_extension": ".py",
   "mimetype": "text/x-python",
   "name": "python",
   "nbconvert_exporter": "python",
   "pygments_lexer": "ipython3",
   "version": "3.12.7"
  }
 },
 "nbformat": 4,
 "nbformat_minor": 5
}
