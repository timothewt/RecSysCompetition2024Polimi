{
 "cells": [
  {
   "cell_type": "code",
   "execution_count": 1,
   "id": "424a4ba2-40de-4f43-bb65-8597a60ca432",
   "metadata": {},
   "outputs": [],
   "source": [
    "from pathlib import Path\n",
    "import sys  \n",
    "import os\n",
    "\n",
    "import numpy as np\n",
    "from operator import itemgetter"
   ]
  },
  {
   "cell_type": "code",
   "execution_count": 2,
   "id": "aaa0521a-5414-4c75-953b-c8befd6d8d41",
   "metadata": {},
   "outputs": [],
   "source": [
    "sys.path.append(os.path.abspath(os.path.join(os.getcwd(), \"..\", \"libs\")))\n",
    "sys.path.append(os.path.abspath(os.path.join(os.getcwd(), \"..\")))\n",
    "sys.path.append(os.path.abspath(os.path.join(os.getcwd(), \"..\", \"src\")))"
   ]
  },
  {
   "cell_type": "code",
   "execution_count": 3,
   "id": "c46271df-b429-4e84-b983-42ddd0a309e9",
   "metadata": {},
   "outputs": [],
   "source": [
    "%load_ext autoreload\n",
    "%autoreload 2"
   ]
  },
  {
   "cell_type": "code",
   "execution_count": 19,
   "id": "be6f640d-9eaa-47c2-a98f-09bd52fa0ecd",
   "metadata": {},
   "outputs": [],
   "source": [
    "# from libs.Recommenders.SLIM.SLIM_BPR_Python import SLIM_BPR_Python"
   ]
  },
  {
   "cell_type": "code",
   "execution_count": 4,
   "id": "7ff74d74-ece9-4e52-a625-b29c98c60f7b",
   "metadata": {},
   "outputs": [],
   "source": [
    "from Utils.load_URM import load_URM\n",
    "from Utils.load_ICM import load_ICM\n",
    "from libs.Evaluation.Evaluator import EvaluatorHoldout\n",
    "from Data_manager.split_functions.split_train_validation_random_holdout import split_train_in_two_percentage_global_sample\n",
    "\n",
    "URM_all = load_URM(\"../data/data_train.csv\")\n",
    "ICM_all = load_ICM(\"../data/data_ICM_metadata.csv\")"
   ]
  },
  {
   "cell_type": "code",
   "execution_count": 5,
   "id": "e549bd6a-c844-42b6-a298-45d1a961df4d",
   "metadata": {},
   "outputs": [
    {
     "name": "stdout",
     "output_type": "stream",
     "text": [
      "Warning: 162 (0.45 %) of 35736 users have no sampled items\n"
     ]
    }
   ],
   "source": [
    "URM_train, URM_validation = split_train_in_two_percentage_global_sample(URM_all, train_percentage = 0.80)"
   ]
  },
  {
   "cell_type": "code",
   "execution_count": 6,
   "id": "40f54230-8c8e-4109-883c-643c4921bfcd",
   "metadata": {},
   "outputs": [
    {
     "name": "stdout",
     "output_type": "stream",
     "text": [
      "EvaluatorHoldout: Ignoring 162 ( 0.5%) Users that have less than 1 test interactions\n"
     ]
    }
   ],
   "source": [
    "evaluator_validation = EvaluatorHoldout(URM_validation, cutoff_list=[10])"
   ]
  },
  {
   "cell_type": "code",
   "execution_count": 30,
   "id": "f2392fde-aed3-4884-9253-912e92fb1504",
   "metadata": {},
   "outputs": [],
   "source": [
    "MAP_bpr = []"
   ]
  },
  {
   "cell_type": "code",
   "execution_count": 31,
   "id": "1d3c7faf-7110-47ba-b042-026434be69b6",
   "metadata": {},
   "outputs": [
    {
     "data": {
      "text/plain": [
       "array([0.01 , 0.058, 0.106, 0.154, 0.202, 0.25 ])"
      ]
     },
     "execution_count": 31,
     "metadata": {},
     "output_type": "execute_result"
    }
   ],
   "source": [
    "np.linspace(0.01, 0.25, 6)"
   ]
  },
  {
   "cell_type": "code",
   "execution_count": 32,
   "id": "44dafcfa-ed4a-40b8-ab8b-d2536b78a06d",
   "metadata": {},
   "outputs": [
    {
     "name": "stdout",
     "output_type": "stream",
     "text": [
      "Train completed in 6.01 minutes\n",
      "EvaluatorHoldout: Processed 35568 (100.0%) in 17.43 sec. Users per second: 2040\n",
      "('topK=200', 'learning_rate=0.01', 'lambda_i_=0.0025', 'lambda_j_=0.0025', 0.033031630893472066)\n",
      "Train completed in 5.02 minutes\n",
      "EvaluatorHoldout: Processed 35568 (100.0%) in 16.77 sec. Users per second: 2122\n",
      "('topK=200', 'learning_rate=0.058', 'lambda_i_=0.0025', 'lambda_j_=0.0025', 0.03493607706052789)\n",
      "Train completed in 4.21 minutes\n",
      "EvaluatorHoldout: Processed 35568 (100.0%) in 16.32 sec. Users per second: 2179\n",
      "('topK=200', 'learning_rate=0.106', 'lambda_i_=0.0025', 'lambda_j_=0.0025', 0.035693682434361156)\n",
      "Train completed in 3.95 minutes\n",
      "EvaluatorHoldout: Processed 35568 (100.0%) in 16.11 sec. Users per second: 2208\n",
      "('topK=200', 'learning_rate=0.15400000000000003', 'lambda_i_=0.0025', 'lambda_j_=0.0025', 0.03589884388678138)\n",
      "Train completed in 3.81 minutes\n",
      "EvaluatorHoldout: Processed 35568 (100.0%) in 16.06 sec. Users per second: 2215\n",
      "('topK=200', 'learning_rate=0.202', 'lambda_i_=0.0025', 'lambda_j_=0.0025', 0.036192334914921465)\n"
     ]
    },
    {
     "name": "stderr",
     "output_type": "stream",
     "text": [
      "/Users/safuan/Python/RecSysCompetition2024Polimi/libs/Recommenders/SLIM/SLIM_BPR_Python.py:78: RuntimeWarning: overflow encountered in exp\n",
      "  sigmoid_gradient = 1 / (1 + np.exp(x_uij))\n"
     ]
    },
    {
     "name": "stdout",
     "output_type": "stream",
     "text": [
      "Train completed in 3.78 minutes\n",
      "EvaluatorHoldout: Processed 35568 (100.0%) in 15.73 sec. Users per second: 2262\n",
      "('topK=200', 'learning_rate=0.25', 'lambda_i_=0.0025', 'lambda_j_=0.0025', 0.03612579124092149)\n",
      "Train completed in 3.78 minutes\n",
      "EvaluatorHoldout: Processed 35568 (100.0%) in 19.22 sec. Users per second: 1851\n",
      "('topK=300', 'learning_rate=0.01', 'lambda_i_=0.0025', 'lambda_j_=0.0025', 0.031885314470291436)\n",
      "Train completed in 3.72 minutes\n",
      "EvaluatorHoldout: Processed 35568 (100.0%) in 18.63 sec. Users per second: 1909\n",
      "('topK=300', 'learning_rate=0.058', 'lambda_i_=0.0025', 'lambda_j_=0.0025', 0.03399542303050975)\n",
      "Train completed in 3.73 minutes\n",
      "EvaluatorHoldout: Processed 35568 (100.0%) in 18.36 sec. Users per second: 1937\n",
      "('topK=300', 'learning_rate=0.106', 'lambda_i_=0.0025', 'lambda_j_=0.0025', 0.034322286306934305)\n",
      "Train completed in 3.73 minutes\n",
      "EvaluatorHoldout: Processed 35568 (100.0%) in 18.21 sec. Users per second: 1953\n",
      "('topK=300', 'learning_rate=0.15400000000000003', 'lambda_i_=0.0025', 'lambda_j_=0.0025', 0.034597842763960086)\n"
     ]
    },
    {
     "name": "stderr",
     "output_type": "stream",
     "text": [
      "/Users/safuan/Python/RecSysCompetition2024Polimi/libs/Recommenders/SLIM/SLIM_BPR_Python.py:78: RuntimeWarning: overflow encountered in exp\n",
      "  sigmoid_gradient = 1 / (1 + np.exp(x_uij))\n"
     ]
    },
    {
     "name": "stdout",
     "output_type": "stream",
     "text": [
      "Train completed in 3.72 minutes\n",
      "EvaluatorHoldout: Processed 35568 (100.0%) in 18.04 sec. Users per second: 1971\n",
      "('topK=300', 'learning_rate=0.202', 'lambda_i_=0.0025', 'lambda_j_=0.0025', 0.034456908831907884)\n"
     ]
    },
    {
     "name": "stderr",
     "output_type": "stream",
     "text": [
      "/Users/safuan/Python/RecSysCompetition2024Polimi/libs/Recommenders/SLIM/SLIM_BPR_Python.py:78: RuntimeWarning: overflow encountered in exp\n",
      "  sigmoid_gradient = 1 / (1 + np.exp(x_uij))\n"
     ]
    },
    {
     "name": "stdout",
     "output_type": "stream",
     "text": [
      "Train completed in 3.73 minutes\n",
      "EvaluatorHoldout: Processed 35568 (100.0%) in 18.04 sec. Users per second: 1972\n",
      "('topK=300', 'learning_rate=0.25', 'lambda_i_=0.0025', 'lambda_j_=0.0025', 0.034579695097786224)\n",
      "Train completed in 3.74 minutes\n",
      "EvaluatorHoldout: Processed 35568 (100.0%) in 20.98 sec. Users per second: 1696\n",
      "('topK=400', 'learning_rate=0.01', 'lambda_i_=0.0025', 'lambda_j_=0.0025', 0.031310013593455775)\n",
      "Train completed in 3.75 minutes\n",
      "EvaluatorHoldout: Processed 35568 (100.0%) in 20.40 sec. Users per second: 1743\n",
      "('topK=400', 'learning_rate=0.058', 'lambda_i_=0.0025', 'lambda_j_=0.0025', 0.0329619722382869)\n",
      "Train completed in 3.75 minutes\n",
      "EvaluatorHoldout: Processed 35568 (100.0%) in 20.15 sec. Users per second: 1765\n",
      "('topK=400', 'learning_rate=0.106', 'lambda_i_=0.0025', 'lambda_j_=0.0025', 0.03326204801533632)\n",
      "Train completed in 3.72 minutes\n",
      "EvaluatorHoldout: Processed 35568 (100.0%) in 20.09 sec. Users per second: 1771\n",
      "('topK=400', 'learning_rate=0.15400000000000003', 'lambda_i_=0.0025', 'lambda_j_=0.0025', 0.033529107446321336)\n",
      "Train completed in 3.74 minutes\n",
      "EvaluatorHoldout: Processed 35568 (100.0%) in 20.01 sec. Users per second: 1778\n",
      "('topK=400', 'learning_rate=0.202', 'lambda_i_=0.0025', 'lambda_j_=0.0025', 0.03351464041156925)\n"
     ]
    },
    {
     "name": "stderr",
     "output_type": "stream",
     "text": [
      "/Users/safuan/Python/RecSysCompetition2024Polimi/libs/Recommenders/SLIM/SLIM_BPR_Python.py:78: RuntimeWarning: overflow encountered in exp\n",
      "  sigmoid_gradient = 1 / (1 + np.exp(x_uij))\n"
     ]
    },
    {
     "name": "stdout",
     "output_type": "stream",
     "text": [
      "Train completed in 3.75 minutes\n",
      "EvaluatorHoldout: Processed 35568 (100.0%) in 19.87 sec. Users per second: 1790\n",
      "('topK=400', 'learning_rate=0.25', 'lambda_i_=0.0025', 'lambda_j_=0.0025', 0.03378841958885719)\n"
     ]
    }
   ],
   "source": [
    "URM_train_coo = URM_train.tocoo()\n",
    "\n",
    "\n",
    "for topK_ in [200, 300, 400]:\n",
    "    for learning_rate_ in np.linspace(0.01, 0.25, 6):\n",
    "        lambda_i_ = 0.0025\n",
    "        lambda_j_ = 0.0025\n",
    "        slim_bpr_model = SLIM_BPR_Python(URM_train_coo, verbose=False)\n",
    "        slim_bpr_model.fit(learning_rate=learning_rate_,\n",
    "                           lambda_i=lambda_i_,\n",
    "                           lambda_j=lambda_j_,\n",
    "                           topK = topK_,\n",
    "                           epochs=100,\n",
    "                          )\n",
    "\n",
    "        result_dict, _ = evaluator_validation.evaluateRecommender(slim_bpr_model)\n",
    "        MAP_bpr.append(('topK={}'.format(topK_),\n",
    "                        'learning_rate={}'.format(learning_rate_),\n",
    "                        'lambda_i_={}'.format(lambda_i_),\n",
    "                        'lambda_j_={}'.format(lambda_j_),\n",
    "                        result_dict[\"MAP\"][10]))\n",
    "\n",
    "        print(MAP_bpr[-1])\n",
    "            "
   ]
  },
  {
   "cell_type": "code",
   "execution_count": 36,
   "id": "d8009de9-84ba-44e9-a5ad-9aea637ebfc3",
   "metadata": {},
   "outputs": [
    {
     "name": "stdout",
     "output_type": "stream",
     "text": [
      "The best combination for the ICF recommender is (topK=200,learning_rate=0.01,lambda_i_=0.0025), with a MAP = lambda_j_=0.0025\n"
     ]
    }
   ],
   "source": [
    "max_tuple = max(MAP_bpr, key=itemgetter(3))\n",
    "print('The best combination for the ICF recommender is ({},{},{}), with a MAP = {}'.format(max_tuple[0],max_tuple[1], max_tuple[2], max_tuple[3]))"
   ]
  },
  {
   "cell_type": "code",
   "execution_count": 18,
   "id": "c0f531cd-a78d-4bf1-ad87-8e33bcef5a62",
   "metadata": {},
   "outputs": [],
   "source": [
    "from libs.Recommenders.SLIM.SLIMElasticNetRecommender import SLIMElasticNetRecommender"
   ]
  },
  {
   "cell_type": "code",
   "execution_count": 19,
   "id": "4eeec11d-53c4-432a-a1b6-d269e16fdecc",
   "metadata": {},
   "outputs": [],
   "source": [
    "MAP = []"
   ]
  },
  {
   "cell_type": "code",
   "execution_count": 16,
   "id": "60bfdb48-08bd-4436-b79a-014d0f065741",
   "metadata": {},
   "outputs": [
    {
     "data": {
      "text/plain": [
       "array([0.0001    , 0.00023333, 0.00036667, 0.0005    ])"
      ]
     },
     "execution_count": 16,
     "metadata": {},
     "output_type": "execute_result"
    }
   ],
   "source": [
    "np.linspace(0.0001, 0.0005, 4)"
   ]
  },
  {
   "cell_type": "code",
   "execution_count": 20,
   "id": "b072f1a5-2853-45a2-b61b-6060cf3148a9",
   "metadata": {},
   "outputs": [
    {
     "name": "stdout",
     "output_type": "stream",
     "text": [
      "SLIMElasticNetRecommender: Processed 7719 (20.2%) in 5.00 min. Items per second: 25.73\n",
      "SLIMElasticNetRecommender: Processed 15522 (40.7%) in 10.00 min. Items per second: 25.87\n",
      "SLIMElasticNetRecommender: Processed 23264 (61.0%) in 15.00 min. Items per second: 25.85\n",
      "SLIMElasticNetRecommender: Processed 30875 (81.0%) in 20.00 min. Items per second: 25.73\n",
      "SLIMElasticNetRecommender: Processed 38121 (100.0%) in 24.53 min. Items per second: 25.90\n",
      "EvaluatorHoldout: Processed 35574 (100.0%) in 18.55 sec. Users per second: 1917\n",
      "('topK=600', 'l1_ratio=0.01', 'alpha=0.0001', 0.05999584367394966)\n",
      "SLIMElasticNetRecommender: Processed 8313 (21.8%) in 5.00 min. Items per second: 27.71\n",
      "SLIMElasticNetRecommender: Processed 16374 (43.0%) in 10.00 min. Items per second: 27.29\n",
      "SLIMElasticNetRecommender: Processed 24714 (64.8%) in 15.00 min. Items per second: 27.46\n",
      "SLIMElasticNetRecommender: Processed 33101 (86.8%) in 20.00 min. Items per second: 27.58\n",
      "SLIMElasticNetRecommender: Processed 38121 (100.0%) in 23.00 min. Items per second: 27.62\n",
      "EvaluatorHoldout: Processed 35574 (100.0%) in 20.20 sec. Users per second: 1761\n",
      "('topK=600', 'l1_ratio=0.01', 'alpha=0.00023333333333333333', 0.06071187290342962)\n",
      "SLIMElasticNetRecommender: Processed 8220 (21.6%) in 5.00 min. Items per second: 27.40\n",
      "SLIMElasticNetRecommender: Processed 16500 (43.3%) in 10.00 min. Items per second: 27.50\n",
      "SLIMElasticNetRecommender: Processed 24978 (65.5%) in 15.00 min. Items per second: 27.75\n",
      "SLIMElasticNetRecommender: Processed 33216 (87.1%) in 20.00 min. Items per second: 27.68\n",
      "SLIMElasticNetRecommender: Processed 38121 (100.0%) in 22.89 min. Items per second: 27.75\n",
      "EvaluatorHoldout: Processed 35574 (100.0%) in 19.82 sec. Users per second: 1795\n",
      "('topK=600', 'l1_ratio=0.01', 'alpha=0.00036666666666666667', 0.06089028593202803)\n",
      "SLIMElasticNetRecommender: Processed 8471 (22.2%) in 5.00 min. Items per second: 28.23\n",
      "SLIMElasticNetRecommender: Processed 16988 (44.6%) in 10.00 min. Items per second: 28.31\n",
      "SLIMElasticNetRecommender: Processed 25430 (66.7%) in 15.00 min. Items per second: 28.25\n",
      "SLIMElasticNetRecommender: Processed 33746 (88.5%) in 20.00 min. Items per second: 28.12\n",
      "SLIMElasticNetRecommender: Processed 38121 (100.0%) in 22.56 min. Items per second: 28.16\n",
      "EvaluatorHoldout: Processed 35574 (100.0%) in 19.98 sec. Users per second: 1780\n",
      "('topK=600', 'l1_ratio=0.01', 'alpha=0.0005', 0.060746981922768784)\n",
      "SLIMElasticNetRecommender: Processed 7831 (20.5%) in 5.00 min. Items per second: 26.10\n",
      "SLIMElasticNetRecommender: Processed 15773 (41.4%) in 10.00 min. Items per second: 26.29\n",
      "SLIMElasticNetRecommender: Processed 24090 (63.2%) in 15.00 min. Items per second: 26.76\n",
      "SLIMElasticNetRecommender: Processed 32345 (84.8%) in 20.00 min. Items per second: 26.95\n",
      "SLIMElasticNetRecommender: Processed 36295 (95.2%) in 30.49 min. Items per second: 19.84\n",
      "SLIMElasticNetRecommender: Processed 36491 (95.7%) in 47.14 min. Items per second: 12.90\n",
      "SLIMElasticNetRecommender: Processed 36632 (96.1%) in 1.08 hour. Items per second: 9.46\n",
      "SLIMElasticNetRecommender: Processed 36772 (96.5%) in 1.37 hour. Items per second: 7.45\n",
      "SLIMElasticNetRecommender: Processed 36911 (96.8%) in 1.64 hour. Items per second: 6.25\n",
      "SLIMElasticNetRecommender: Processed 37052 (97.2%) in 1.93 hour. Items per second: 5.33\n",
      "SLIMElasticNetRecommender: Processed 37193 (97.6%) in 2.05 hour. Items per second: 5.03\n",
      "SLIMElasticNetRecommender: Processed 38121 (100.0%) in 2.06 hour. Items per second: 5.14\n",
      "EvaluatorHoldout: Processed 35574 (100.0%) in 18.76 sec. Users per second: 1897\n",
      "('topK=600', 'l1_ratio=0.05333333333333334', 'alpha=0.0001', 0.060417463128500264)\n",
      "SLIMElasticNetRecommender: Processed 8716 (22.9%) in 5.00 min. Items per second: 29.05\n",
      "SLIMElasticNetRecommender: Processed 17677 (46.4%) in 10.00 min. Items per second: 29.46\n",
      "SLIMElasticNetRecommender: Processed 20954 (55.0%) in 18.74 min. Items per second: 18.63\n",
      "SLIMElasticNetRecommender: Processed 29941 (78.5%) in 23.74 min. Items per second: 21.02\n",
      "SLIMElasticNetRecommender: Processed 38121 (100.0%) in 28.24 min. Items per second: 22.49\n",
      "EvaluatorHoldout: Processed 35574 (100.0%) in 18.59 sec. Users per second: 1913\n",
      "('topK=600', 'l1_ratio=0.05333333333333334', 'alpha=0.00023333333333333333', 0.06131574825916016)\n",
      "SLIMElasticNetRecommender: Processed 2353 ( 6.2%) in 17.32 min. Items per second: 2.26\n",
      "SLIMElasticNetRecommender: Processed 2503 ( 6.6%) in 32.52 min. Items per second: 1.28\n",
      "SLIMElasticNetRecommender: Processed 2871 ( 7.5%) in 54.50 min. Items per second: 0.88\n",
      "SLIMElasticNetRecommender: Processed 3028 ( 7.9%) in 1.04 hour. Items per second: 0.81\n",
      "SLIMElasticNetRecommender: Processed 12117 (31.8%) in 1.13 hour. Items per second: 2.99\n",
      "SLIMElasticNetRecommender: Processed 21478 (56.3%) in 1.21 hour. Items per second: 4.93\n",
      "SLIMElasticNetRecommender: Processed 26159 (68.6%) in 1.41 hour. Items per second: 5.15\n",
      "SLIMElasticNetRecommender: Processed 35691 (93.6%) in 1.49 hour. Items per second: 6.64\n",
      "SLIMElasticNetRecommender: Processed 38121 (100.0%) in 1.52 hour. Items per second: 6.99\n",
      "EvaluatorHoldout: Processed 35574 (100.0%) in 17.48 sec. Users per second: 2035\n",
      "('topK=600', 'l1_ratio=0.05333333333333334', 'alpha=0.00036666666666666667', 0.06146274008750645)\n",
      "SLIMElasticNetRecommender: Processed 354 ( 0.9%) in 15.65 min. Items per second: 0.38\n",
      "SLIMElasticNetRecommender: Processed 509 ( 1.3%) in 32.65 min. Items per second: 0.26\n",
      "SLIMElasticNetRecommender: Processed 664 ( 1.7%) in 49.87 min. Items per second: 0.22\n",
      "SLIMElasticNetRecommender: Processed 828 ( 2.2%) in 1.09 hour. Items per second: 0.21\n",
      "SLIMElasticNetRecommender: Processed 989 ( 2.6%) in 1.36 hour. Items per second: 0.20\n",
      "SLIMElasticNetRecommender: Processed 1147 ( 3.0%) in 1.66 hour. Items per second: 0.19\n",
      "SLIMElasticNetRecommender: Processed 1306 ( 3.4%) in 1.75 hour. Items per second: 0.21\n",
      "SLIMElasticNetRecommender: Processed 10306 (27.0%) in 1.83 hour. Items per second: 1.56\n",
      "SLIMElasticNetRecommender: Processed 19542 (51.3%) in 1.92 hour. Items per second: 2.83\n",
      "SLIMElasticNetRecommender: Processed 28881 (75.8%) in 2.00 hour. Items per second: 4.01\n",
      "SLIMElasticNetRecommender: Processed 38121 (100.0%) in 2.08 hour. Items per second: 5.08\n",
      "EvaluatorHoldout: Processed 35574 (100.0%) in 15.76 sec. Users per second: 2257\n",
      "('topK=600', 'l1_ratio=0.05333333333333334', 'alpha=0.0005', 0.06107128467285979)\n",
      "SLIMElasticNetRecommender: Processed 7522 (19.7%) in 5.00 min. Items per second: 25.07\n",
      "SLIMElasticNetRecommender: Processed 15786 (41.4%) in 10.00 min. Items per second: 26.31\n",
      "SLIMElasticNetRecommender: Processed 23989 (62.9%) in 15.00 min. Items per second: 26.65\n",
      "SLIMElasticNetRecommender: Processed 32282 (84.7%) in 20.00 min. Items per second: 26.90\n",
      "SLIMElasticNetRecommender: Processed 38121 (100.0%) in 23.44 min. Items per second: 27.10\n",
      "EvaluatorHoldout: Processed 35574 (100.0%) in 18.75 sec. Users per second: 1898\n",
      "('topK=600', 'l1_ratio=0.09666666666666666', 'alpha=0.0001', 0.06074995805747032)\n",
      "SLIMElasticNetRecommender: Processed 8950 (23.5%) in 5.00 min. Items per second: 29.83\n",
      "SLIMElasticNetRecommender: Processed 18007 (47.2%) in 10.00 min. Items per second: 30.01\n",
      "SLIMElasticNetRecommender: Processed 27363 (71.8%) in 15.00 min. Items per second: 30.40\n",
      "SLIMElasticNetRecommender: Processed 36807 (96.6%) in 20.00 min. Items per second: 30.67\n",
      "SLIMElasticNetRecommender: Processed 38121 (100.0%) in 20.73 min. Items per second: 30.65\n",
      "EvaluatorHoldout: Processed 35574 (100.0%) in 15.84 sec. Users per second: 2246\n",
      "('topK=600', 'l1_ratio=0.09666666666666666', 'alpha=0.00023333333333333333', 0.0615896653164726)\n",
      "SLIMElasticNetRecommender: Processed 9125 (23.9%) in 5.00 min. Items per second: 30.41\n",
      "SLIMElasticNetRecommender: Processed 18317 (48.0%) in 10.00 min. Items per second: 30.52\n",
      "SLIMElasticNetRecommender: Processed 27756 (72.8%) in 15.00 min. Items per second: 30.84\n",
      "SLIMElasticNetRecommender: Processed 37165 (97.5%) in 20.00 min. Items per second: 30.97\n",
      "SLIMElasticNetRecommender: Processed 38121 (100.0%) in 20.54 min. Items per second: 30.93\n",
      "EvaluatorHoldout: Processed 35574 (100.0%) in 13.93 sec. Users per second: 2554\n",
      "('topK=600', 'l1_ratio=0.09666666666666666', 'alpha=0.00036666666666666667', 0.061340446384507884)\n",
      "SLIMElasticNetRecommender: Processed 9508 (24.9%) in 5.00 min. Items per second: 31.69\n",
      "SLIMElasticNetRecommender: Processed 19083 (50.1%) in 10.00 min. Items per second: 31.80\n",
      "SLIMElasticNetRecommender: Processed 28991 (76.0%) in 15.00 min. Items per second: 32.21\n",
      "SLIMElasticNetRecommender: Processed 38121 (100.0%) in 19.60 min. Items per second: 32.41\n",
      "EvaluatorHoldout: Processed 35574 (100.0%) in 12.76 sec. Users per second: 2788\n",
      "('topK=600', 'l1_ratio=0.09666666666666666', 'alpha=0.0005', 0.0607074979407986)\n",
      "SLIMElasticNetRecommender: Processed 8684 (22.8%) in 5.00 min. Items per second: 28.94\n",
      "SLIMElasticNetRecommender: Processed 17443 (45.8%) in 10.00 min. Items per second: 29.07\n",
      "SLIMElasticNetRecommender: Processed 26265 (68.9%) in 15.00 min. Items per second: 29.18\n",
      "SLIMElasticNetRecommender: Processed 35153 (92.2%) in 20.00 min. Items per second: 29.29\n",
      "SLIMElasticNetRecommender: Processed 38121 (100.0%) in 21.72 min. Items per second: 29.25\n",
      "EvaluatorHoldout: Processed 35574 (100.0%) in 17.67 sec. Users per second: 2013\n",
      "('topK=600', 'l1_ratio=0.14', 'alpha=0.0001', 0.06097204262788521)\n",
      "SLIMElasticNetRecommender: Processed 8977 (23.5%) in 5.00 min. Items per second: 29.92\n",
      "SLIMElasticNetRecommender: Processed 18020 (47.3%) in 10.00 min. Items per second: 30.03\n",
      "SLIMElasticNetRecommender: Processed 27295 (71.6%) in 15.00 min. Items per second: 30.32\n",
      "SLIMElasticNetRecommender: Processed 36529 (95.8%) in 20.00 min. Items per second: 30.44\n",
      "SLIMElasticNetRecommender: Processed 38121 (100.0%) in 20.91 min. Items per second: 30.38\n",
      "EvaluatorHoldout: Processed 35574 (100.0%) in 13.73 sec. Users per second: 2590\n",
      "('topK=600', 'l1_ratio=0.14', 'alpha=0.00023333333333333333', 0.06156256553519835)\n",
      "SLIMElasticNetRecommender: Processed 9517 (25.0%) in 5.00 min. Items per second: 31.72\n",
      "SLIMElasticNetRecommender: Processed 19071 (50.0%) in 10.00 min. Items per second: 31.78\n",
      "SLIMElasticNetRecommender: Processed 29004 (76.1%) in 15.00 min. Items per second: 32.22\n",
      "SLIMElasticNetRecommender: Processed 38121 (100.0%) in 19.58 min. Items per second: 32.44\n",
      "EvaluatorHoldout: Processed 35574 (100.0%) in 12.28 sec. Users per second: 2897\n",
      "('topK=600', 'l1_ratio=0.14', 'alpha=0.00036666666666666667', 0.061032312702069914)\n",
      "SLIMElasticNetRecommender: Processed 10045 (26.4%) in 5.00 min. Items per second: 33.48\n",
      "SLIMElasticNetRecommender: Processed 20442 (53.6%) in 10.00 min. Items per second: 34.07\n",
      "SLIMElasticNetRecommender: Processed 31048 (81.4%) in 15.00 min. Items per second: 34.49\n",
      "SLIMElasticNetRecommender: Processed 38121 (100.0%) in 18.21 min. Items per second: 34.90\n",
      "EvaluatorHoldout: Processed 35574 (100.0%) in 11.39 sec. Users per second: 3123\n",
      "('topK=600', 'l1_ratio=0.14', 'alpha=0.0005', 0.059873128314685366)\n",
      "SLIMElasticNetRecommender: Processed 8821 (23.1%) in 5.00 min. Items per second: 29.40\n",
      "SLIMElasticNetRecommender: Processed 17740 (46.5%) in 10.00 min. Items per second: 29.56\n",
      "SLIMElasticNetRecommender: Processed 26760 (70.2%) in 15.00 min. Items per second: 29.73\n",
      "SLIMElasticNetRecommender: Processed 35848 (94.0%) in 20.00 min. Items per second: 29.87\n",
      "SLIMElasticNetRecommender: Processed 38121 (100.0%) in 21.30 min. Items per second: 29.82\n",
      "EvaluatorHoldout: Processed 35574 (100.0%) in 16.59 sec. Users per second: 2145\n",
      "('topK=600', 'l1_ratio=0.18333333333333335', 'alpha=0.0001', 0.061188802951324416)\n",
      "SLIMElasticNetRecommender: Processed 9158 (24.0%) in 5.00 min. Items per second: 30.52\n",
      "SLIMElasticNetRecommender: Processed 18335 (48.1%) in 10.00 min. Items per second: 30.56\n",
      "SLIMElasticNetRecommender: Processed 27791 (72.9%) in 15.00 min. Items per second: 30.88\n",
      "SLIMElasticNetRecommender: Processed 37256 (97.7%) in 20.00 min. Items per second: 31.04\n",
      "SLIMElasticNetRecommender: Processed 38121 (100.0%) in 20.48 min. Items per second: 31.02\n",
      "EvaluatorHoldout: Processed 35574 (100.0%) in 12.92 sec. Users per second: 2753\n",
      "('topK=600', 'l1_ratio=0.18333333333333335', 'alpha=0.00023333333333333333', 0.06142839406521966)\n",
      "SLIMElasticNetRecommender: Processed 9932 (26.1%) in 5.00 min. Items per second: 33.10\n",
      "SLIMElasticNetRecommender: Processed 20112 (52.8%) in 10.00 min. Items per second: 33.52\n",
      "SLIMElasticNetRecommender: Processed 30570 (80.2%) in 15.00 min. Items per second: 33.96\n",
      "SLIMElasticNetRecommender: Processed 38121 (100.0%) in 18.51 min. Items per second: 34.32\n",
      "EvaluatorHoldout: Processed 35574 (100.0%) in 11.40 sec. Users per second: 3121\n",
      "('topK=600', 'l1_ratio=0.18333333333333335', 'alpha=0.00036666666666666667', 0.060453174513933436)\n",
      "SLIMElasticNetRecommender: Processed 10980 (28.8%) in 5.00 min. Items per second: 36.59\n",
      "SLIMElasticNetRecommender: Processed 22901 (60.1%) in 10.00 min. Items per second: 38.16\n",
      "SLIMElasticNetRecommender: Processed 35544 (93.2%) in 15.00 min. Items per second: 39.49\n",
      "SLIMElasticNetRecommender: Processed 38121 (100.0%) in 16.11 min. Items per second: 39.45\n",
      "EvaluatorHoldout: Processed 35574 (100.0%) in 10.53 sec. Users per second: 3379\n",
      "('topK=600', 'l1_ratio=0.18333333333333335', 'alpha=0.0005', 0.058742073308398)\n",
      "SLIMElasticNetRecommender: Processed 8776 (23.0%) in 5.00 min. Items per second: 29.25\n",
      "SLIMElasticNetRecommender: Processed 17641 (46.3%) in 10.00 min. Items per second: 29.40\n",
      "SLIMElasticNetRecommender: Processed 26661 (69.9%) in 15.00 min. Items per second: 29.62\n",
      "SLIMElasticNetRecommender: Processed 35751 (93.8%) in 20.00 min. Items per second: 29.79\n",
      "SLIMElasticNetRecommender: Processed 38121 (100.0%) in 21.37 min. Items per second: 29.73\n",
      "EvaluatorHoldout: Processed 35574 (100.0%) in 15.30 sec. Users per second: 2325\n",
      "('topK=600', 'l1_ratio=0.22666666666666668', 'alpha=0.0001', 0.061243617150386946)\n",
      "SLIMElasticNetRecommender: Processed 9394 (24.6%) in 5.00 min. Items per second: 31.31\n",
      "SLIMElasticNetRecommender: Processed 18831 (49.4%) in 10.00 min. Items per second: 31.38\n",
      "SLIMElasticNetRecommender: Processed 28630 (75.1%) in 15.00 min. Items per second: 31.81\n",
      "SLIMElasticNetRecommender: Processed 38121 (100.0%) in 19.81 min. Items per second: 32.07\n",
      "EvaluatorHoldout: Processed 35574 (100.0%) in 11.91 sec. Users per second: 2987\n",
      "('topK=600', 'l1_ratio=0.22666666666666668', 'alpha=0.00023333333333333333', 0.061275493471688355)\n",
      "SLIMElasticNetRecommender: Processed 10770 (28.3%) in 5.00 min. Items per second: 35.89\n",
      "SLIMElasticNetRecommender: Processed 22196 (58.2%) in 10.00 min. Items per second: 36.99\n",
      "SLIMElasticNetRecommender: Processed 34202 (89.7%) in 15.00 min. Items per second: 38.00\n",
      "SLIMElasticNetRecommender: Processed 38121 (100.0%) in 16.69 min. Items per second: 38.08\n",
      "EvaluatorHoldout: Processed 35574 (100.0%) in 10.67 sec. Users per second: 3333\n",
      "('topK=600', 'l1_ratio=0.22666666666666668', 'alpha=0.00036666666666666667', 0.059756525855782054)\n",
      "SLIMElasticNetRecommender: Processed 13613 (35.7%) in 5.00 min. Items per second: 45.37\n",
      "SLIMElasticNetRecommender: Processed 28596 (75.0%) in 10.00 min. Items per second: 47.65\n",
      "SLIMElasticNetRecommender: Processed 38121 (100.0%) in 12.97 min. Items per second: 48.97\n",
      "EvaluatorHoldout: Processed 35574 (100.0%) in 9.93 sec. Users per second: 3583\n",
      "('topK=600', 'l1_ratio=0.22666666666666668', 'alpha=0.0005', 0.05761347796366189)\n",
      "SLIMElasticNetRecommender: Processed 8775 (23.0%) in 5.00 min. Items per second: 29.24\n",
      "SLIMElasticNetRecommender: Processed 17659 (46.3%) in 10.00 min. Items per second: 29.43\n",
      "SLIMElasticNetRecommender: Processed 26717 (70.1%) in 15.00 min. Items per second: 29.68\n",
      "SLIMElasticNetRecommender: Processed 35790 (93.9%) in 20.00 min. Items per second: 29.82\n",
      "SLIMElasticNetRecommender: Processed 38121 (100.0%) in 21.37 min. Items per second: 29.73\n",
      "EvaluatorHoldout: Processed 35574 (100.0%) in 13.92 sec. Users per second: 2556\n",
      "('topK=600', 'l1_ratio=0.27', 'alpha=0.0001', 0.06133263235767699)\n",
      "SLIMElasticNetRecommender: Processed 9711 (25.5%) in 5.00 min. Items per second: 32.36\n",
      "SLIMElasticNetRecommender: Processed 19578 (51.4%) in 10.00 min. Items per second: 32.63\n",
      "SLIMElasticNetRecommender: Processed 29838 (78.3%) in 15.00 min. Items per second: 33.15\n",
      "SLIMElasticNetRecommender: Processed 38121 (100.0%) in 18.95 min. Items per second: 33.52\n",
      "EvaluatorHoldout: Processed 35574 (100.0%) in 11.45 sec. Users per second: 3107\n",
      "('topK=600', 'l1_ratio=0.27', 'alpha=0.00023333333333333333', 0.060929199897194315)\n",
      "SLIMElasticNetRecommender: Processed 11528 (30.2%) in 5.00 min. Items per second: 38.42\n",
      "SLIMElasticNetRecommender: Processed 24170 (63.4%) in 10.00 min. Items per second: 40.28\n",
      "SLIMElasticNetRecommender: Processed 37429 (98.2%) in 15.00 min. Items per second: 41.58\n",
      "SLIMElasticNetRecommender: Processed 38121 (100.0%) in 15.29 min. Items per second: 41.56\n",
      "EvaluatorHoldout: Processed 35574 (100.0%) in 10.31 sec. Users per second: 3449\n",
      "('topK=600', 'l1_ratio=0.27', 'alpha=0.00036666666666666667', 0.05885115399957539)\n",
      "SLIMElasticNetRecommender: Processed 15394 (40.4%) in 5.00 min. Items per second: 51.31\n",
      "SLIMElasticNetRecommender: Processed 32174 (84.4%) in 10.00 min. Items per second: 53.62\n",
      "SLIMElasticNetRecommender: Processed 38121 (100.0%) in 11.68 min. Items per second: 54.39\n",
      "EvaluatorHoldout: Processed 35574 (100.0%) in 9.65 sec. Users per second: 3686\n",
      "('topK=600', 'l1_ratio=0.27', 'alpha=0.0005', 0.05635656079301529)\n",
      "SLIMElasticNetRecommender: Processed 8416 (22.1%) in 5.00 min. Items per second: 28.05\n",
      "SLIMElasticNetRecommender: Processed 16894 (44.3%) in 10.00 min. Items per second: 28.15\n",
      "SLIMElasticNetRecommender: Processed 25504 (66.9%) in 15.00 min. Items per second: 28.34\n",
      "SLIMElasticNetRecommender: Processed 34191 (89.7%) in 20.00 min. Items per second: 28.49\n",
      "SLIMElasticNetRecommender: Processed 38121 (100.0%) in 22.36 min. Items per second: 28.41\n",
      "EvaluatorHoldout: Processed 35574 (100.0%) in 13.48 sec. Users per second: 2639\n",
      "('topK=600', 'l1_ratio=0.31333333333333335', 'alpha=0.0001', 0.061392876775528134)\n",
      "SLIMElasticNetRecommender: Processed 9961 (26.1%) in 5.00 min. Items per second: 33.20\n",
      "SLIMElasticNetRecommender: Processed 20181 (52.9%) in 10.00 min. Items per second: 33.63\n",
      "SLIMElasticNetRecommender: Processed 30683 (80.5%) in 15.00 min. Items per second: 34.09\n",
      "SLIMElasticNetRecommender: Processed 38121 (100.0%) in 18.44 min. Items per second: 34.46\n",
      "EvaluatorHoldout: Processed 35574 (100.0%) in 11.06 sec. Users per second: 3216\n",
      "('topK=600', 'l1_ratio=0.31333333333333335', 'alpha=0.00023333333333333333', 0.060552447792705785)\n",
      "SLIMElasticNetRecommender: Processed 13675 (35.9%) in 5.00 min. Items per second: 45.58\n",
      "SLIMElasticNetRecommender: Processed 28686 (75.2%) in 10.00 min. Items per second: 47.81\n",
      "SLIMElasticNetRecommender: Processed 38121 (100.0%) in 12.93 min. Items per second: 49.13\n",
      "EvaluatorHoldout: Processed 35574 (100.0%) in 9.93 sec. Users per second: 3583\n",
      "('topK=600', 'l1_ratio=0.31333333333333335', 'alpha=0.00036666666666666667', 0.05799594139111596)\n",
      "SLIMElasticNetRecommender: Processed 17862 (46.9%) in 5.00 min. Items per second: 59.53\n",
      "SLIMElasticNetRecommender: Processed 37880 (99.4%) in 10.00 min. Items per second: 63.12\n",
      "SLIMElasticNetRecommender: Processed 38121 (100.0%) in 10.08 min. Items per second: 63.05\n",
      "EvaluatorHoldout: Processed 35574 (100.0%) in 9.41 sec. Users per second: 3780\n",
      "('topK=600', 'l1_ratio=0.31333333333333335', 'alpha=0.0005', 0.05504211431391202)\n",
      "SLIMElasticNetRecommender: Processed 8768 (23.0%) in 5.00 min. Items per second: 29.22\n",
      "SLIMElasticNetRecommender: Processed 17568 (46.1%) in 10.00 min. Items per second: 29.28\n",
      "SLIMElasticNetRecommender: Processed 26565 (69.7%) in 15.00 min. Items per second: 29.51\n",
      "SLIMElasticNetRecommender: Processed 35596 (93.4%) in 20.00 min. Items per second: 29.66\n",
      "SLIMElasticNetRecommender: Processed 38121 (100.0%) in 21.48 min. Items per second: 29.58\n",
      "EvaluatorHoldout: Processed 35574 (100.0%) in 13.17 sec. Users per second: 2701\n",
      "('topK=600', 'l1_ratio=0.3566666666666667', 'alpha=0.0001', 0.06138352002220112)\n",
      "SLIMElasticNetRecommender: Processed 10689 (28.0%) in 5.00 min. Items per second: 35.62\n",
      "SLIMElasticNetRecommender: Processed 22042 (57.8%) in 10.00 min. Items per second: 36.73\n",
      "SLIMElasticNetRecommender: Processed 33948 (89.1%) in 15.00 min. Items per second: 37.72\n",
      "SLIMElasticNetRecommender: Processed 38121 (100.0%) in 16.80 min. Items per second: 37.82\n",
      "EvaluatorHoldout: Processed 35574 (100.0%) in 10.62 sec. Users per second: 3350\n",
      "('topK=600', 'l1_ratio=0.3566666666666667', 'alpha=0.00023333333333333333', 0.0601194938161526)\n",
      "SLIMElasticNetRecommender: Processed 14570 (38.2%) in 5.00 min. Items per second: 48.56\n",
      "SLIMElasticNetRecommender: Processed 30668 (80.4%) in 10.00 min. Items per second: 51.11\n",
      "SLIMElasticNetRecommender: Processed 38121 (100.0%) in 12.18 min. Items per second: 52.14\n",
      "EvaluatorHoldout: Processed 35574 (100.0%) in 9.70 sec. Users per second: 3667\n",
      "('topK=600', 'l1_ratio=0.3566666666666667', 'alpha=0.00036666666666666667', 0.05703234750544402)\n",
      "SLIMElasticNetRecommender: Processed 21276 (55.8%) in 5.00 min. Items per second: 70.92\n",
      "SLIMElasticNetRecommender: Processed 38121 (100.0%) in 8.70 min. Items per second: 73.00\n",
      "EvaluatorHoldout: Processed 35574 (100.0%) in 9.16 sec. Users per second: 3884\n",
      "('topK=600', 'l1_ratio=0.3566666666666667', 'alpha=0.0005', 0.05366703410998194)\n",
      "SLIMElasticNetRecommender: Processed 8836 (23.2%) in 5.00 min. Items per second: 29.45\n",
      "SLIMElasticNetRecommender: Processed 17753 (46.6%) in 10.00 min. Items per second: 29.59\n",
      "SLIMElasticNetRecommender: Processed 26862 (70.5%) in 15.00 min. Items per second: 29.84\n",
      "SLIMElasticNetRecommender: Processed 36009 (94.5%) in 20.00 min. Items per second: 30.01\n",
      "SLIMElasticNetRecommender: Processed 38121 (100.0%) in 21.22 min. Items per second: 29.94\n",
      "EvaluatorHoldout: Processed 35574 (100.0%) in 12.85 sec. Users per second: 2768\n",
      "('topK=600', 'l1_ratio=0.4', 'alpha=0.0001', 0.06139920273500826)\n",
      "SLIMElasticNetRecommender: Processed 11189 (29.4%) in 5.00 min. Items per second: 37.29\n",
      "SLIMElasticNetRecommender: Processed 23304 (61.1%) in 10.00 min. Items per second: 38.84\n",
      "SLIMElasticNetRecommender: Processed 36149 (94.8%) in 15.00 min. Items per second: 40.16\n",
      "SLIMElasticNetRecommender: Processed 38121 (100.0%) in 15.84 min. Items per second: 40.12\n",
      "EvaluatorHoldout: Processed 35574 (100.0%) in 10.36 sec. Users per second: 3434\n",
      "('topK=600', 'l1_ratio=0.4', 'alpha=0.00023333333333333333', 0.059623667320789976)\n",
      "SLIMElasticNetRecommender: Processed 16970 (44.5%) in 5.00 min. Items per second: 56.56\n",
      "SLIMElasticNetRecommender: Processed 18265 (47.9%) in 22.21 min. Items per second: 13.71\n",
      "SLIMElasticNetRecommender: Processed 18626 (48.9%) in 40.12 min. Items per second: 7.74\n",
      "SLIMElasticNetRecommender: Processed 18956 (49.7%) in 56.71 min. Items per second: 5.57\n",
      "SLIMElasticNetRecommender: Processed 19321 (50.7%) in 1.23 hour. Items per second: 4.35\n",
      "SLIMElasticNetRecommender: Processed 19753 (51.8%) in 1.52 hour. Items per second: 3.61\n",
      "SLIMElasticNetRecommender: Processed 20115 (52.8%) in 1.81 hour. Items per second: 3.09\n",
      "SLIMElasticNetRecommender: Processed 20413 (53.5%) in 2.07 hour. Items per second: 2.73\n",
      "SLIMElasticNetRecommender: Processed 21405 (56.2%) in 2.35 hour. Items per second: 2.53\n",
      "SLIMElasticNetRecommender: Processed 33287 (87.3%) in 2.51 hour. Items per second: 3.69\n",
      "SLIMElasticNetRecommender: Processed 34039 (89.3%) in 2.66 hour. Items per second: 3.56\n",
      "SLIMElasticNetRecommender: Processed 34764 (91.2%) in 2.81 hour. Items per second: 3.43\n",
      "SLIMElasticNetRecommender: Processed 35403 (92.9%) in 2.95 hour. Items per second: 3.33\n",
      "SLIMElasticNetRecommender: Processed 38121 (100.0%) in 2.97 hour. Items per second: 3.57\n",
      "EvaluatorHoldout: Processed 35574 (100.0%) in 9.64 sec. Users per second: 3692\n",
      "('topK=600', 'l1_ratio=0.4', 'alpha=0.00036666666666666667', 0.056085874202755515)\n",
      "SLIMElasticNetRecommender: Processed 24276 (63.7%) in 5.00 min. Items per second: 80.91\n",
      "SLIMElasticNetRecommender: Processed 26369 (69.2%) in 22.17 min. Items per second: 19.83\n",
      "SLIMElasticNetRecommender: Processed 26693 (70.0%) in 39.46 min. Items per second: 11.27\n",
      "SLIMElasticNetRecommender: Processed 26850 (70.4%) in 56.81 min. Items per second: 7.88\n",
      "SLIMElasticNetRecommender: Processed 27024 (70.9%) in 1.24 hour. Items per second: 6.04\n",
      "SLIMElasticNetRecommender: Processed 27168 (71.3%) in 1.38 hour. Items per second: 5.45\n",
      "SLIMElasticNetRecommender: Processed 27841 (73.0%) in 1.66 hour. Items per second: 4.67\n",
      "SLIMElasticNetRecommender: Processed 28166 (73.9%) in 1.93 hour. Items per second: 4.06\n",
      "SLIMElasticNetRecommender: Processed 28477 (74.7%) in 2.11 hour. Items per second: 3.76\n",
      "SLIMElasticNetRecommender: Processed 29241 (76.7%) in 2.38 hour. Items per second: 3.41\n",
      "SLIMElasticNetRecommender: Processed 29674 (77.8%) in 2.64 hour. Items per second: 3.12\n",
      "SLIMElasticNetRecommender: Processed 30172 (79.1%) in 2.93 hour. Items per second: 2.86\n",
      "SLIMElasticNetRecommender: Processed 30685 (80.5%) in 3.12 hour. Items per second: 2.73\n",
      "SLIMElasticNetRecommender: Processed 31426 (82.4%) in 3.42 hour. Items per second: 2.56\n",
      "SLIMElasticNetRecommender: Processed 31874 (83.6%) in 3.67 hour. Items per second: 2.41\n",
      "SLIMElasticNetRecommender: Processed 32354 (84.9%) in 3.94 hour. Items per second: 2.28\n",
      "SLIMElasticNetRecommender: Processed 32902 (86.3%) in 4.14 hour. Items per second: 2.21\n",
      "SLIMElasticNetRecommender: Processed 33577 (88.1%) in 4.39 hour. Items per second: 2.12\n",
      "SLIMElasticNetRecommender: Processed 34087 (89.4%) in 4.68 hour. Items per second: 2.02\n",
      "SLIMElasticNetRecommender: Processed 34547 (90.6%) in 4.94 hour. Items per second: 1.94\n",
      "SLIMElasticNetRecommender: Processed 34982 (91.8%) in 5.16 hour. Items per second: 1.88\n",
      "SLIMElasticNetRecommender: Processed 35553 (93.3%) in 5.27 hour. Items per second: 1.87\n",
      "SLIMElasticNetRecommender: Processed 38121 (100.0%) in 5.28 hour. Items per second: 2.00\n",
      "EvaluatorHoldout: Processed 35574 (100.0%) in 9.83 sec. Users per second: 3617\n",
      "('topK=600', 'l1_ratio=0.4', 'alpha=0.0005', 0.05248408638018829)\n"
     ]
    }
   ],
   "source": [
    "URM_train_coo = URM_train.tocoo()\n",
    "\n",
    "\n",
    "for topK_ in [600]:\n",
    "    for l1_ratio_ in np.linspace(0.01, 0.4, 10):\n",
    "        for alpha_ in np.linspace(0.0001, 0.0005, 4):\n",
    "            slim_model = SLIMElasticNetRecommender(URM_train_coo, verbose=True)\n",
    "            slim_model.fit(l1_ratio=l1_ratio_, alpha = alpha_, topK = topK_)\n",
    "\n",
    "            result_dict, _ = evaluator_validation.evaluateRecommender(slim_model)\n",
    "            MAP.append(('topK={}'.format(topK_), 'l1_ratio={}'.format(l1_ratio_), 'alpha={}'.format(alpha_), result_dict[\"MAP\"][10]))\n",
    "\n",
    "            print(MAP[-1])\n",
    "            "
   ]
  },
  {
   "cell_type": "code",
   "execution_count": null,
   "id": "a88e2ecf-ac81-42ba-94d3-9ca0f523e1ad",
   "metadata": {},
   "outputs": [],
   "source": []
  },
  {
   "cell_type": "code",
   "execution_count": null,
   "id": "fdd4c6e0-cd7b-4d6e-be38-445ba7e028dd",
   "metadata": {},
   "outputs": [],
   "source": []
  },
  {
   "cell_type": "code",
   "execution_count": 21,
   "id": "120b247a-68ac-46ee-a4e1-f495a53f2460",
   "metadata": {},
   "outputs": [
    {
     "name": "stdout",
     "output_type": "stream",
     "text": [
      "The best combination for the ICF recommender is (topK=600,l1_ratio=0.09666666666666666,alpha=0.00023333333333333333), with a MAP = 0.0615896653164726\n"
     ]
    }
   ],
   "source": [
    "max_tuple = max(MAP, key=itemgetter(3))\n",
    "print('The best combination for the ICF recommender is ({},{},{}), with a MAP = {}'.format(max_tuple[0],max_tuple[1], max_tuple[2], max_tuple[3]))"
   ]
  },
  {
   "cell_type": "code",
   "execution_count": 22,
   "id": "117f1be7-40d0-4b4a-81bd-380730ea7394",
   "metadata": {},
   "outputs": [
    {
     "name": "stdout",
     "output_type": "stream",
     "text": [
      "SLIMElasticNetRecommender: Processed 5051 (13.2%) in 11.20 min. Items per second: 7.52\n",
      "SLIMElasticNetRecommender: Processed 5246 (13.8%) in 22.73 min. Items per second: 3.85\n",
      "SLIMElasticNetRecommender: Processed 5449 (14.3%) in 37.88 min. Items per second: 2.40\n",
      "SLIMElasticNetRecommender: Processed 6234 (16.4%) in 42.88 min. Items per second: 2.42\n",
      "SLIMElasticNetRecommender: Processed 14486 (38.0%) in 47.88 min. Items per second: 5.04\n",
      "SLIMElasticNetRecommender: Processed 22672 (59.5%) in 52.88 min. Items per second: 7.14\n",
      "SLIMElasticNetRecommender: Processed 31114 (81.6%) in 57.88 min. Items per second: 8.96\n",
      "SLIMElasticNetRecommender: Processed 38121 (100.0%) in 1.04 hour. Items per second: 10.21\n",
      "EvaluatorHoldout: Processed 35574 (100.0%) in 14.80 sec. Users per second: 2404\n"
     ]
    }
   ],
   "source": [
    "slim_model = SLIMElasticNetRecommender(URM_train_coo, verbose=True)\n",
    "slim_model.fit(l1_ratio=0.112, alpha = 0.000255, topK = 600)\n",
    "\n",
    "result_dict, _ = evaluator_validation.evaluateRecommender(slim_model)\n",
    "MAP.append(('topK={}'.format(600), 'l1_ratio={}'.format(0.112), 'alpha={}'.format(0.000255), result_dict[\"MAP\"][10]))"
   ]
  },
  {
   "cell_type": "code",
   "execution_count": 23,
   "id": "652940b7-3542-4c64-b711-8ea6b5c87188",
   "metadata": {},
   "outputs": [
    {
     "data": {
      "text/plain": [
       "0.061551970584900265"
      ]
     },
     "execution_count": 23,
     "metadata": {},
     "output_type": "execute_result"
    }
   ],
   "source": []
  },
  {
   "cell_type": "code",
   "execution_count": null,
   "id": "13935d95-ef52-432f-893e-9aa517f7b549",
   "metadata": {},
   "outputs": [],
   "source": []
  }
 ],
 "metadata": {
  "kernelspec": {
   "display_name": "RecSys",
   "language": "python",
   "name": "recsys"
  },
  "language_info": {
   "codemirror_mode": {
    "name": "ipython",
    "version": 3
   },
   "file_extension": ".py",
   "mimetype": "text/x-python",
   "name": "python",
   "nbconvert_exporter": "python",
   "pygments_lexer": "ipython3",
   "version": "3.12.7"
  }
 },
 "nbformat": 4,
 "nbformat_minor": 5
}
