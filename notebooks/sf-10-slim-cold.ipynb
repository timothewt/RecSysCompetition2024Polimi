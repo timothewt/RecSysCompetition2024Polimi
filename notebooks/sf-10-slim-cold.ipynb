{
 "cells": [
  {
   "cell_type": "code",
   "execution_count": 1,
   "id": "b85e0aa1-95a6-4486-a3c4-88179d6b9377",
   "metadata": {},
   "outputs": [],
   "source": [
    "from pathlib import Path\n",
    "import sys  \n",
    "import os\n",
    "import scipy as sp\n",
    "import pandas as pd\n",
    "\n",
    "import numpy as np\n",
    "from operator import itemgetter"
   ]
  },
  {
   "cell_type": "code",
   "execution_count": 2,
   "id": "9af2fa45-d359-4e5b-9461-9bbd5201138d",
   "metadata": {},
   "outputs": [],
   "source": [
    "sys.path.append(os.path.abspath(os.path.join(os.getcwd(), \"..\", \"libs\")))\n",
    "sys.path.append(os.path.abspath(os.path.join(os.getcwd(), \"..\")))\n",
    "sys.path.append(os.path.abspath(os.path.join(os.getcwd(), \"..\", \"src\")))"
   ]
  },
  {
   "cell_type": "code",
   "execution_count": 3,
   "id": "abe0bcd9-e8d3-4638-8525-3105ea7f4448",
   "metadata": {},
   "outputs": [],
   "source": [
    "%load_ext autoreload\n",
    "%autoreload 2"
   ]
  },
  {
   "cell_type": "code",
   "execution_count": 4,
   "id": "76a742cf-e338-4e30-97aa-9aa22a56e880",
   "metadata": {},
   "outputs": [],
   "source": [
    "from libs.Recommenders.SLIM.SLIMElasticNetRecommender import SLIMElasticNetRecommender\n",
    "\n",
    "import numpy as np\n",
    "import pandas as pd"
   ]
  },
  {
   "cell_type": "code",
   "execution_count": 5,
   "id": "56fd09e1-0e23-41cf-8c15-1ca9b5b53446",
   "metadata": {},
   "outputs": [],
   "source": [
    "from Utils.load_URM import load_URM\n",
    "from Utils.load_ICM import load_ICM\n",
    "from libs.Evaluation.Evaluator import EvaluatorHoldout\n",
    "from Data_manager.split_functions.split_train_validation_random_holdout import split_train_in_two_percentage_global_sample\n",
    "\n",
    "URM_all = load_URM(\"../data/data_train.csv\")\n",
    "ICM_all = load_ICM(\"../data/data_ICM_metadata.csv\")"
   ]
  },
  {
   "cell_type": "code",
   "execution_count": 6,
   "id": "42509101-eb35-4404-b5bf-efdbdf203e67",
   "metadata": {},
   "outputs": [],
   "source": [
    "#URM_train, URM_validation = split_train_in_two_percentage_global_sample(URM_all, train_percentage = 0.80)"
   ]
  },
  {
   "cell_type": "code",
   "execution_count": 17,
   "id": "75249480-ea6e-4aa8-949f-10b6369ac6d3",
   "metadata": {},
   "outputs": [],
   "source": [
    "URM_train = sp.sparse.load_npz('URM_train.npz')\n",
    "URM_validation = sp.sparse.load_npz('URM_validation.npz')"
   ]
  },
  {
   "cell_type": "code",
   "execution_count": 18,
   "id": "d84435ae-99f0-4919-9a0e-1547182e5ce0",
   "metadata": {},
   "outputs": [
    {
     "data": {
      "text/plain": [
       "<Compressed Sparse Row sparse matrix of dtype 'float64'\n",
       "\twith 1411686 stored elements and shape (35736, 38121)>"
      ]
     },
     "execution_count": 18,
     "metadata": {},
     "output_type": "execute_result"
    }
   ],
   "source": [
    "URM_train"
   ]
  },
  {
   "cell_type": "code",
   "execution_count": 7,
   "id": "b476f871-51ae-4e1d-b453-cfec9c459702",
   "metadata": {},
   "outputs": [],
   "source": [
    "class TopPopRecommenderUnseen(object):\n",
    "\n",
    "    def fit(self, URM_train):\n",
    "        \n",
    "        self.URM_train = URM_train\n",
    "\n",
    "        item_popularity = np.ediff1d(URM_train.tocsc().indptr)\n",
    "\n",
    "        # We are not interested in sorting the popularity value,\n",
    "        # but to order the items according to it\n",
    "        self.popular_items = np.argsort(item_popularity)\n",
    "        self.popular_items = np.flip(self.popular_items, axis = 0)\n",
    "    \n",
    "    \n",
    "    def recommend(self, user_id, at=10, remove_seen=True):\n",
    "\n",
    "        if remove_seen:\n",
    "            seen_items = self.URM_train.indices[self.URM_train.indptr[user_id]:self.URM_train.indptr[user_id+1]]\n",
    "            \n",
    "            # remove from the popular items all the items already seen\n",
    "            unseen_items_mask = np.in1d(self.popular_items, seen_items, assume_unique=True, invert = True)\n",
    "            \n",
    "            #apply the mask\n",
    "            unseen_items = self.popular_items[unseen_items_mask]\n",
    "\n",
    "            recommended_items = unseen_items[0:at]\n",
    "\n",
    "        else:\n",
    "            recommended_items = self.popular_items[0:at]\n",
    "            \n",
    "\n",
    "        return recommended_items"
   ]
  },
  {
   "cell_type": "code",
   "execution_count": 8,
   "id": "9731a10d-6e3f-45ce-a36e-b0c5cee8711f",
   "metadata": {},
   "outputs": [],
   "source": [
    "topPopRecommenderUnseen = TopPopRecommenderUnseen()\n",
    "topPopRecommenderUnseen.fit(URM_all)"
   ]
  },
  {
   "cell_type": "code",
   "execution_count": 9,
   "id": "7ef583b4-c27a-4fb4-9350-0be61e98f7fa",
   "metadata": {},
   "outputs": [
    {
     "data": {
      "text/plain": [
       "array([11146, 25392,  4601, 25415, 23712, 24388, 11148, 11079,  3062,\n",
       "        3670])"
      ]
     },
     "execution_count": 9,
     "metadata": {},
     "output_type": "execute_result"
    }
   ],
   "source": [
    "topPopRecommenderUnseen.recommend(1000)"
   ]
  },
  {
   "cell_type": "code",
   "execution_count": 10,
   "id": "ff4bc546-35f4-44c5-9ffe-e3f80e79a34e",
   "metadata": {},
   "outputs": [
    {
     "ename": "NameError",
     "evalue": "name 'slim_model' is not defined",
     "output_type": "error",
     "traceback": [
      "\u001b[0;31m---------------------------------------------------------------------------\u001b[0m",
      "\u001b[0;31mNameError\u001b[0m                                 Traceback (most recent call last)",
      "Cell \u001b[0;32mIn[10], line 1\u001b[0m\n\u001b[0;32m----> 1\u001b[0m slim_model\u001b[38;5;241m.\u001b[39mrecommend(\u001b[38;5;241m1000\u001b[39m, \u001b[38;5;241m10\u001b[39m)\n",
      "\u001b[0;31mNameError\u001b[0m: name 'slim_model' is not defined"
     ]
    }
   ],
   "source": [
    "slim_model.recommend(1000, 10)"
   ]
  },
  {
   "cell_type": "code",
   "execution_count": 42,
   "id": "248ef5fb-01a2-4f07-858d-9486233e86d6",
   "metadata": {},
   "outputs": [],
   "source": [
    "data_target_users = pd.read_csv(\"../data/data_target_users_test.csv\")"
   ]
  },
  {
   "cell_type": "code",
   "execution_count": 43,
   "id": "ec8935a6-c71e-4995-84f7-5ba83ad65f56",
   "metadata": {},
   "outputs": [],
   "source": [
    "URM_all_pd = pd.read_csv(\"../data/data_train.csv\")"
   ]
  },
  {
   "cell_type": "code",
   "execution_count": 44,
   "id": "557aedff-76cd-43d5-b684-5917e780f75a",
   "metadata": {},
   "outputs": [],
   "source": [
    "train_users = URM_all_pd['user_id'].unique()\n",
    "val_users = "
   ]
  },
  {
   "cell_type": "code",
   "execution_count": 45,
   "id": "26b3a6e9-cf67-4f97-820d-293eb7f95d61",
   "metadata": {},
   "outputs": [],
   "source": [
    "target_users = data_target_users['user_id'].unique()"
   ]
  },
  {
   "cell_type": "code",
   "execution_count": 46,
   "id": "9173f7e7-d032-4978-b25f-08d767800e76",
   "metadata": {},
   "outputs": [
    {
     "ename": "ValueError",
     "evalue": "operands could not be broadcast together with shapes (35736,) (34231,) ",
     "output_type": "error",
     "traceback": [
      "\u001b[0;31m---------------------------------------------------------------------------\u001b[0m",
      "\u001b[0;31mValueError\u001b[0m                                Traceback (most recent call last)",
      "Cell \u001b[0;32mIn[46], line 1\u001b[0m\n\u001b[0;32m----> 1\u001b[0m target_users \u001b[38;5;129;01min\u001b[39;00m train_users\n",
      "\u001b[0;31mValueError\u001b[0m: operands could not be broadcast together with shapes (35736,) (34231,) "
     ]
    }
   ],
   "source": [
    "target_users in train_users"
   ]
  },
  {
   "cell_type": "code",
   "execution_count": 49,
   "id": "5c86c73d-15b8-4491-9686-f26f52e7642d",
   "metadata": {},
   "outputs": [
    {
     "data": {
      "text/plain": [
       "1505"
      ]
     },
     "execution_count": 49,
     "metadata": {},
     "output_type": "execute_result"
    }
   ],
   "source": [
    "np.setdiff1d(train_users, target_users)"
   ]
  },
  {
   "cell_type": "code",
   "execution_count": 51,
   "id": "1a1f511c-19c2-482b-bda4-8b114febafc0",
   "metadata": {},
   "outputs": [
    {
     "data": {
      "text/plain": [
       "array([[ 7547,   454,  8661, ...,  6348, 22472, 14931],\n",
       "       [ 7010, 11699,  6348, ..., 19114,  3077,  3130],\n",
       "       [ 2774, 22658, 23377, ..., 22714, 13252, 12769],\n",
       "       ...,\n",
       "       [38027, 37739, 36567, ..., 37321, 37623, 36263],\n",
       "       [37550, 36880, 34994, ..., 37301, 35093, 37803],\n",
       "       [37193, 36778, 37805, ..., 37657, 36493, 37445]])"
      ]
     },
     "execution_count": 51,
     "metadata": {},
     "output_type": "execute_result"
    }
   ],
   "source": [
    "np.array([\n",
    "\t\tslim_model.recommend(user_id, cutoff=10) for user_id in target_users\n",
    "\t])"
   ]
  },
  {
   "cell_type": "code",
   "execution_count": 11,
   "id": "6faf58ef-bd97-4bd3-a2d8-fddba0bc8a94",
   "metadata": {},
   "outputs": [],
   "source": [
    "def write_submission_lib_model(trained_model, train_users, filename: str = \"submission.csv\") -> None:\n",
    "    \"\"\"Builds the submission file from a trained recommender model. The file is saved in a CSV format.\n",
    "\n",
    "    :param trained_model: A fitted recommender model\n",
    "    :type trained_model: RecommenderModel\n",
    "    :param filename: The filename of the submission for this particular recommender model\n",
    "    :type filename: str\n",
    "    \"\"\"\n",
    "    target_users_test = pd.read_csv(\"../data/data_target_users_test.csv\").to_numpy().ravel()\n",
    "\n",
    "    recommendations = []\n",
    "\n",
    "    for user_id in target_users_test: \n",
    "        if user_id in train_users:\n",
    "            recommendations.append(trained_model.recommend(user_id, cutoff=10))\n",
    "        else:\n",
    "            recommendations.append(topPopRecommenderUnseen.recommend(user_id))\n",
    "            print(f\"User: {user_id} is new\")\n",
    "    \n",
    "    recommendations = np.array(recommendations)\n",
    "\n",
    "    if not os.path.exists(\"../submissions\"):\n",
    "        os.makedirs(\"../submissions\")\n",
    "    with open(f\"../submissions/{filename}\", \"w\") as f:\n",
    "        f.write(\"user_id,item_list\\n\")\n",
    "        for user_id, recs in zip(target_users_test, recommendations):\n",
    "            f.write(f\"{user_id},{' '.join(map(str, recs))}\\n\")"
   ]
  },
  {
   "cell_type": "code",
   "execution_count": null,
   "id": "ca0dfc54-1ba0-40c5-8ab4-53cd9f4c68e2",
   "metadata": {},
   "outputs": [],
   "source": []
  },
  {
   "cell_type": "code",
   "execution_count": 13,
   "id": "634c50b8-c82f-4da1-831a-ba915a7a9a95",
   "metadata": {},
   "outputs": [],
   "source": [
    "URM_all_pd = pd.read_csv(\"../data/data_train.csv\")\n",
    "train_users = URM_all_pd['user_id'].unique()"
   ]
  },
  {
   "cell_type": "code",
   "execution_count": 16,
   "id": "de2ea6f7-f285-4dce-a926-0396b1b5a81f",
   "metadata": {},
   "outputs": [
    {
     "name": "stdout",
     "output_type": "stream",
     "text": [
      "SLIMElasticNetRecommender: Loading model from file 'result_experiments/SLIM/slim_300_2_weights'\n",
      "SLIMElasticNetRecommender: Loading complete\n"
     ]
    }
   ],
   "source": [
    "slim_model = SLIMElasticNetRecommender(URM_all)\n",
    "slim_model.load_model('result_experiments/SLIM/', 'slim_300_2_weights')"
   ]
  },
  {
   "cell_type": "code",
   "execution_count": null,
   "id": "6a36b9b2-3a36-4b6a-bf6a-0051ed651c2b",
   "metadata": {},
   "outputs": [],
   "source": []
  },
  {
   "cell_type": "code",
   "execution_count": 17,
   "id": "fbc45a3a-7731-4b0c-abfe-b9ccc5745553",
   "metadata": {},
   "outputs": [],
   "source": [
    "write_submission_lib_model(slim_model, train_users, 'slim_urm_300_2_cold.csv')"
   ]
  },
  {
   "cell_type": "code",
   "execution_count": 21,
   "id": "3434c9aa-6e26-4339-93b0-7ade2f65113b",
   "metadata": {},
   "outputs": [
    {
     "data": {
      "text/plain": [
       "35736"
      ]
     },
     "execution_count": 21,
     "metadata": {},
     "output_type": "execute_result"
    }
   ],
   "source": [
    "len(train_users) "
   ]
  },
  {
   "cell_type": "code",
   "execution_count": 19,
   "id": "c087203f-508f-486e-99cb-05d33705ea79",
   "metadata": {},
   "outputs": [],
   "source": [
    "target_users_test = pd.read_csv(\"../data/data_target_users_test.csv\").to_numpy().ravel()"
   ]
  },
  {
   "cell_type": "code",
   "execution_count": null,
   "id": "b35ea66a-c091-4c92-9502-8b1c910275ee",
   "metadata": {},
   "outputs": [],
   "source": []
  }
 ],
 "metadata": {
  "kernelspec": {
   "display_name": "RecSys",
   "language": "python",
   "name": "recsys"
  },
  "language_info": {
   "codemirror_mode": {
    "name": "ipython",
    "version": 3
   },
   "file_extension": ".py",
   "mimetype": "text/x-python",
   "name": "python",
   "nbconvert_exporter": "python",
   "pygments_lexer": "ipython3",
   "version": "3.12.7"
  }
 },
 "nbformat": 4,
 "nbformat_minor": 5
}
