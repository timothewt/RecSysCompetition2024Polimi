{
 "cells": [
  {
   "cell_type": "code",
   "execution_count": 1,
   "id": "4da013b5-5ed1-417a-bef2-ae043e9fc897",
   "metadata": {},
   "outputs": [],
   "source": [
    "from pathlib import Path\n",
    "import sys  \n",
    "import os\n",
    "import pandas as pd \n",
    "from datetime import datetime\n",
    "\n",
    "import numpy as np\n",
    "from operator import itemgetter"
   ]
  },
  {
   "cell_type": "code",
   "execution_count": 2,
   "id": "07fcc922-2a91-4adf-886e-9137d12e613d",
   "metadata": {},
   "outputs": [],
   "source": [
    "sys.path.append(os.path.abspath(os.path.join(os.getcwd(), \"..\", \"libs\")))\n",
    "sys.path.append(os.path.abspath(os.path.join(os.getcwd(), \"..\")))\n",
    "sys.path.append(os.path.abspath(os.path.join(os.getcwd(), \"..\", \"src\")))"
   ]
  },
  {
   "cell_type": "code",
   "execution_count": 3,
   "id": "5df1305b-f516-4f39-bd1e-32d39709e661",
   "metadata": {},
   "outputs": [],
   "source": [
    "%load_ext autoreload\n",
    "%autoreload 2"
   ]
  },
  {
   "cell_type": "code",
   "execution_count": 6,
   "id": "b9d924e3-23d8-4235-a3cf-4bcf1c775ed5",
   "metadata": {},
   "outputs": [],
   "source": [
    "from Utils.load_URM import load_URM\n",
    "from Utils.load_ICM import load_ICM\n",
    "from libs.Evaluation.Evaluator import EvaluatorHoldout\n",
    "from Data_manager.split_functions.split_train_validation_random_holdout import split_train_in_two_percentage_global_sample\n",
    "\n",
    "URM_all = load_URM(\"../data/data_train.csv\")\n",
    "ICM_all = load_ICM(\"../data/data_ICM_metadata.csv\")"
   ]
  },
  {
   "cell_type": "code",
   "execution_count": 7,
   "id": "5b61a65e-f1f7-44ca-b07d-043da93e12cb",
   "metadata": {},
   "outputs": [
    {
     "name": "stdout",
     "output_type": "stream",
     "text": [
      "Warning: 157 (0.44 %) of 35736 users have no sampled items\n",
      "Warning: 42 (0.11 %) of 38121 users have no train items\n",
      "Warning: 2331 (6.11 %) of 38121 users have no sampled items\n"
     ]
    }
   ],
   "source": [
    "URM_train, URM_validation = split_train_in_two_percentage_global_sample(URM_all, train_percentage = 0.80)\n",
    "ICM_train, ICM_validation = split_train_in_two_percentage_global_sample(ICM_all, train_percentage = 0.80)"
   ]
  },
  {
   "cell_type": "code",
   "execution_count": 8,
   "id": "7f78dfc9-2944-4c55-abcc-e0811c529740",
   "metadata": {},
   "outputs": [
    {
     "name": "stdout",
     "output_type": "stream",
     "text": [
      "EvaluatorHoldout: Ignoring 157 ( 0.4%) Users that have less than 1 test interactions\n"
     ]
    }
   ],
   "source": [
    "from libs.Evaluation.Evaluator import EvaluatorHoldout\n",
    "evaluator_validation = EvaluatorHoldout(URM_validation, cutoff_list=[10])"
   ]
  },
  {
   "cell_type": "code",
   "execution_count": 17,
   "id": "ae5fb4f9-07ee-467e-b2ed-7af53b61ea0b",
   "metadata": {},
   "outputs": [],
   "source": [
    "from libs.Recommenders.KNN.ItemKNNCBFCFSimilarityHybridRecommender import ItemKNNCBFCFSimilarityHybridRecommender"
   ]
  },
  {
   "cell_type": "code",
   "execution_count": 11,
   "id": "427394f8-c5f2-4347-8015-c5f4e11664be",
   "metadata": {},
   "outputs": [],
   "source": [
    "results = pd.DataFrame()"
   ]
  },
  {
   "cell_type": "code",
   "execution_count": 12,
   "id": "80f24050-87ac-478d-b58f-5bb2b292246d",
   "metadata": {},
   "outputs": [],
   "source": [
    "save_path = \"result_experiments/ItemKNNCBFCFSimilarityHybridRecommender/\""
   ]
  },
  {
   "cell_type": "code",
   "execution_count": 15,
   "id": "1bd012a7-2e68-4676-bd18-151ff4988f1c",
   "metadata": {},
   "outputs": [],
   "source": [
    "if os.path.exists(save_path+\"results.csv\"):\n",
    "    results = pd.read_csv(save_path+\"results.csv\")\n",
    "else:\n",
    "    os.makedirs(save_path)"
   ]
  },
  {
   "cell_type": "code",
   "execution_count": 13,
   "id": "00b57c1b-43ad-4b7d-b123-9ec94fac5513",
   "metadata": {},
   "outputs": [],
   "source": [
    "max_MAP = -1 "
   ]
  },
  {
   "cell_type": "code",
   "execution_count": null,
   "id": "aefa5a02-a11d-4ad3-8e4d-4e789ee9833a",
   "metadata": {},
   "outputs": [
    {
     "name": "stdout",
     "output_type": "stream",
     "text": [
      "Similarity column 38121 (100.0%), 4840.42 column/sec. Elapsed time 7.88 sec\n",
      "ItemKNNCBFRecommender: ICM Detected 42 ( 0.1%) items with no features.\n",
      "Similarity column 38121 (100.0%), 1514.68 column/sec. Elapsed time 25.17 sec\n",
      "EvaluatorHoldout: Processed 35579 (100.0%) in 9.79 sec. Users per second: 3635\n",
      "alpha: 0.05, topK_hubrid: 25, topK_knncf: 25, shrink_knncf: 50, feature_weighting_knncf: none, topK_knncbf: 25, shrink_knncbf: 50, feature_weighting_knncbf: none, time: 2024-11-28 12:45:44 MAP:  0.013427230125493564 max MAP:  0.013427230125493564\n",
      "Similarity column 38121 (100.0%), 4932.23 column/sec. Elapsed time 7.73 sec\n",
      "ItemKNNCBFRecommender: ICM Detected 42 ( 0.1%) items with no features.\n",
      "Similarity column 38121 (100.0%), 1508.67 column/sec. Elapsed time 25.27 sec\n",
      "EvaluatorHoldout: Processed 35579 (100.0%) in 10.06 sec. Users per second: 3538\n",
      "alpha: 0.05, topK_hubrid: 25, topK_knncf: 25, shrink_knncf: 50, feature_weighting_knncf: none, topK_knncbf: 25, shrink_knncbf: 50, feature_weighting_knncbf: BM25, time: 2024-11-28 12:46:27 MAP:  0.013513764584691652 max MAP:  0.013513764584691652\n",
      "Similarity column 38121 (100.0%), 4919.14 column/sec. Elapsed time 7.75 sec\n",
      "ItemKNNCBFRecommender: ICM Detected 42 ( 0.1%) items with no features.\n",
      "Similarity column 38121 (100.0%), 1545.28 column/sec. Elapsed time 24.67 sec\n",
      "EvaluatorHoldout: Processed 35579 (100.0%) in 9.52 sec. Users per second: 3735\n",
      "alpha: 0.05, topK_hubrid: 25, topK_knncf: 25, shrink_knncf: 50, feature_weighting_knncf: none, topK_knncbf: 25, shrink_knncbf: 50, feature_weighting_knncbf: TF-IDF, time: 2024-11-28 12:47:11 MAP:  0.015038617393799185 max MAP:  0.015038617393799185\n",
      "Similarity column 38121 (100.0%), 4891.57 column/sec. Elapsed time 7.79 sec\n",
      "ItemKNNCBFRecommender: ICM Detected 42 ( 0.1%) items with no features.\n",
      "Similarity column 38121 (100.0%), 1545.22 column/sec. Elapsed time 24.67 sec\n",
      "EvaluatorHoldout: Processed 35579 (100.0%) in 9.56 sec. Users per second: 3721\n",
      "alpha: 0.05, topK_hubrid: 25, topK_knncf: 25, shrink_knncf: 50, feature_weighting_knncf: none, topK_knncbf: 25, shrink_knncbf: 100, feature_weighting_knncbf: none, time: 2024-11-28 12:47:54 MAP:  0.013371204567345965 max MAP:  0.015038617393799185\n",
      "Similarity column 38121 (100.0%), 4976.33 column/sec. Elapsed time 7.66 sec\n",
      "ItemKNNCBFRecommender: ICM Detected 42 ( 0.1%) items with no features.\n",
      "Similarity column 38121 (100.0%), 1543.90 column/sec. Elapsed time 24.69 sec\n",
      "EvaluatorHoldout: Processed 35579 (100.0%) in 9.53 sec. Users per second: 3735\n",
      "alpha: 0.05, topK_hubrid: 25, topK_knncf: 25, shrink_knncf: 50, feature_weighting_knncf: none, topK_knncbf: 25, shrink_knncbf: 100, feature_weighting_knncbf: BM25, time: 2024-11-28 12:48:37 MAP:  0.014578233459455931 max MAP:  0.015038617393799185\n",
      "Similarity column 38121 (100.0%), 4992.62 column/sec. Elapsed time 7.64 sec\n",
      "ItemKNNCBFRecommender: ICM Detected 42 ( 0.1%) items with no features.\n",
      "Similarity column 38121 (100.0%), 1532.20 column/sec. Elapsed time 24.88 sec\n",
      "EvaluatorHoldout: Processed 35579 (100.0%) in 9.56 sec. Users per second: 3721\n",
      "alpha: 0.05, topK_hubrid: 25, topK_knncf: 25, shrink_knncf: 50, feature_weighting_knncf: none, topK_knncbf: 25, shrink_knncbf: 100, feature_weighting_knncbf: TF-IDF, time: 2024-11-28 12:49:19 MAP:  0.016218520198958322 max MAP:  0.016218520198958322\n",
      "Similarity column 38121 (100.0%), 4997.56 column/sec. Elapsed time 7.63 sec\n",
      "ItemKNNCBFRecommender: ICM Detected 42 ( 0.1%) items with no features.\n",
      "Similarity column 38121 (100.0%), 1526.61 column/sec. Elapsed time 24.97 sec\n",
      "EvaluatorHoldout: Processed 35579 (100.0%) in 9.65 sec. Users per second: 3688\n",
      "alpha: 0.05, topK_hubrid: 25, topK_knncf: 25, shrink_knncf: 50, feature_weighting_knncf: none, topK_knncbf: 25, shrink_knncbf: 150, feature_weighting_knncbf: none, time: 2024-11-28 12:50:02 MAP:  0.013247265084585281 max MAP:  0.016218520198958322\n",
      "Similarity column 38121 (100.0%), 4972.46 column/sec. Elapsed time 7.67 sec\n",
      "ItemKNNCBFRecommender: ICM Detected 42 ( 0.1%) items with no features.\n",
      "Similarity column 38121 (100.0%), 1519.18 column/sec. Elapsed time 25.09 sec\n",
      "EvaluatorHoldout: Processed 35579 (100.0%) in 9.71 sec. Users per second: 3664\n",
      "alpha: 0.05, topK_hubrid: 25, topK_knncf: 25, shrink_knncf: 50, feature_weighting_knncf: none, topK_knncbf: 25, shrink_knncbf: 150, feature_weighting_knncbf: BM25, time: 2024-11-28 12:50:45 MAP:  0.01528857646096786 max MAP:  0.016218520198958322\n",
      "Similarity column 38121 (100.0%), 4794.83 column/sec. Elapsed time 7.95 sec\n",
      "ItemKNNCBFRecommender: ICM Detected 42 ( 0.1%) items with no features.\n",
      "Similarity column 38121 (100.0%), 1492.73 column/sec. Elapsed time 25.54 sec\n",
      "EvaluatorHoldout: Processed 35579 (100.0%) in 9.62 sec. Users per second: 3697\n",
      "alpha: 0.05, topK_hubrid: 25, topK_knncf: 25, shrink_knncf: 50, feature_weighting_knncf: none, topK_knncbf: 25, shrink_knncbf: 150, feature_weighting_knncbf: TF-IDF, time: 2024-11-28 12:51:28 MAP:  0.01675862835085995 max MAP:  0.01675862835085995\n",
      "Similarity column 38121 (100.0%), 4606.11 column/sec. Elapsed time 8.28 sec\n",
      "ItemKNNCBFRecommender: ICM Detected 42 ( 0.1%) items with no features.\n",
      "Similarity column 38121 (100.0%), 1498.78 column/sec. Elapsed time 25.43 sec\n",
      "EvaluatorHoldout: Processed 35579 (100.0%) in 9.71 sec. Users per second: 3662\n",
      "alpha: 0.05, topK_hubrid: 25, topK_knncf: 25, shrink_knncf: 50, feature_weighting_knncf: none, topK_knncbf: 50, shrink_knncbf: 50, feature_weighting_knncbf: none, time: 2024-11-28 12:52:12 MAP:  0.013989934984834116 max MAP:  0.01675862835085995\n",
      "Similarity column 38121 (100.0%), 4837.17 column/sec. Elapsed time 7.88 sec\n",
      "ItemKNNCBFRecommender: ICM Detected 42 ( 0.1%) items with no features.\n",
      "Similarity column 38121 (100.0%), 1484.49 column/sec. Elapsed time 25.68 sec\n",
      "EvaluatorHoldout: Processed 35579 (100.0%) in 10.03 sec. Users per second: 3546\n",
      "alpha: 0.05, topK_hubrid: 25, topK_knncf: 25, shrink_knncf: 50, feature_weighting_knncf: none, topK_knncbf: 50, shrink_knncbf: 50, feature_weighting_knncbf: BM25, time: 2024-11-28 12:52:56 MAP:  0.01374664228096071 max MAP:  0.01675862835085995\n",
      "Similarity column 38121 (100.0%), 4774.85 column/sec. Elapsed time 7.98 sec\n",
      "ItemKNNCBFRecommender: ICM Detected 42 ( 0.1%) items with no features.\n",
      "Similarity column 38121 (100.0%), 1496.62 column/sec. Elapsed time 25.47 sec\n",
      "EvaluatorHoldout: Processed 35579 (100.0%) in 9.81 sec. Users per second: 3627\n",
      "alpha: 0.05, topK_hubrid: 25, topK_knncf: 25, shrink_knncf: 50, feature_weighting_knncf: none, topK_knncbf: 50, shrink_knncbf: 50, feature_weighting_knncbf: TF-IDF, time: 2024-11-28 12:53:41 MAP:  0.01532072379060805 max MAP:  0.01675862835085995\n",
      "Similarity column 38121 (100.0%), 4822.33 column/sec. Elapsed time 7.91 sec\n",
      "ItemKNNCBFRecommender: ICM Detected 42 ( 0.1%) items with no features.\n",
      "Similarity column 38121 (100.0%), 1495.78 column/sec. Elapsed time 25.49 sec\n",
      "EvaluatorHoldout: Processed 35579 (100.0%) in 9.83 sec. Users per second: 3620\n",
      "alpha: 0.05, topK_hubrid: 25, topK_knncf: 25, shrink_knncf: 50, feature_weighting_knncf: none, topK_knncbf: 50, shrink_knncbf: 100, feature_weighting_knncbf: none, time: 2024-11-28 12:54:25 MAP:  0.013895079003710942 max MAP:  0.01675862835085995\n",
      "Similarity column 38121 (100.0%), 4844.48 column/sec. Elapsed time 7.87 sec\n",
      "ItemKNNCBFRecommender: ICM Detected 42 ( 0.1%) items with no features.\n",
      "Similarity column 38121 (100.0%), 1503.62 column/sec. Elapsed time 25.35 sec\n",
      "EvaluatorHoldout: Processed 35579 (100.0%) in 9.83 sec. Users per second: 3618\n",
      "alpha: 0.05, topK_hubrid: 25, topK_knncf: 25, shrink_knncf: 50, feature_weighting_knncf: none, topK_knncbf: 50, shrink_knncbf: 100, feature_weighting_knncbf: BM25, time: 2024-11-28 12:55:09 MAP:  0.014812142841528547 max MAP:  0.01675862835085995\n",
      "Similarity column 38121 (100.0%), 4710.30 column/sec. Elapsed time 8.09 sec\n",
      "ItemKNNCBFRecommender: ICM Detected 42 ( 0.1%) items with no features.\n",
      "Similarity column 38121 (100.0%), 1479.48 column/sec. Elapsed time 25.77 sec\n",
      "EvaluatorHoldout: Processed 35579 (100.0%) in 10.16 sec. Users per second: 3502\n",
      "alpha: 0.05, topK_hubrid: 25, topK_knncf: 25, shrink_knncf: 50, feature_weighting_knncf: none, topK_knncbf: 50, shrink_knncbf: 100, feature_weighting_knncbf: TF-IDF, time: 2024-11-28 12:55:53 MAP:  0.016497156785459075 max MAP:  0.01675862835085995\n",
      "Similarity column 38121 (100.0%), 4753.27 column/sec. Elapsed time 8.02 sec\n",
      "ItemKNNCBFRecommender: ICM Detected 42 ( 0.1%) items with no features.\n",
      "Similarity column 38121 (100.0%), 1460.25 column/sec. Elapsed time 26.11 sec\n",
      "EvaluatorHoldout: Processed 35579 (100.0%) in 10.55 sec. Users per second: 3373\n",
      "alpha: 0.05, topK_hubrid: 25, topK_knncf: 25, shrink_knncf: 50, feature_weighting_knncf: none, topK_knncbf: 50, shrink_knncbf: 150, feature_weighting_knncbf: none, time: 2024-11-28 12:56:37 MAP:  0.013837004573324187 max MAP:  0.01675862835085995\n",
      "Similarity column 38121 (100.0%), 4705.79 column/sec. Elapsed time 8.10 sec\n",
      "ItemKNNCBFRecommender: ICM Detected 42 ( 0.1%) items with no features.\n",
      "Similarity column 38121 (100.0%), 1471.06 column/sec. Elapsed time 25.91 sec\n",
      "EvaluatorHoldout: Processed 35579 (100.0%) in 9.79 sec. Users per second: 3634\n",
      "alpha: 0.05, topK_hubrid: 25, topK_knncf: 25, shrink_knncf: 50, feature_weighting_knncf: none, topK_knncbf: 50, shrink_knncbf: 150, feature_weighting_knncbf: BM25, time: 2024-11-28 12:57:23 MAP:  0.015564645543987623 max MAP:  0.01675862835085995\n",
      "Similarity column 38121 (100.0%), 4838.34 column/sec. Elapsed time 7.88 sec\n",
      "ItemKNNCBFRecommender: ICM Detected 42 ( 0.1%) items with no features.\n"
     ]
    }
   ],
   "source": [
    "for topK_hybrid in [25, 50, 100, 300]:\n",
    "    for alpha in np.linspace(0.05, 0.95, 10):\n",
    "        for topK_knncf in [25, 50, 100, 300]:\n",
    "            for shrink_knncf in [50, 100, 150]:\n",
    "                for feature_weighting_knncf in [\"none\", \"BM25\", \"TF-IDF\"]:\n",
    "                    for topK_knncbf in [25, 50, 100, 300]:\n",
    "                        for shrink_knncbf in [50, 100, 150]:\n",
    "                            for feature_weighting_knncbf in [\"none\", \"BM25\", \"TF-IDF\"]:\n",
    "        \n",
    "                                current_timestamp = datetime.now().strftime(\"%Y-%m-%d %H:%M:%S\")\n",
    "                                params = {\n",
    "                                    \"alpha\": alpha, \n",
    "                                    \"topK_hubrid\": topK_hybrid,\n",
    "                                    \"topK_knncf\": topK_knncf,\n",
    "                                    \"shrink_knncf\": shrink_knncf,\n",
    "                                    \"feature_weighting_knncf\": feature_weighting_knncf,\n",
    "                                    \"topK_knncbf\": topK_knncbf,\n",
    "                                    \"shrink_knncbf\": shrink_knncbf,\n",
    "                                    \"feature_weighting_knncbf\": feature_weighting_knncbf,\n",
    "                                    \"time\": current_timestamp\n",
    "                                }\n",
    "                                \n",
    "                                model_knn = ItemKNNCBFCFSimilarityHybridRecommender(\n",
    "                                    alpha = alpha,\n",
    "                                    topK_hybrid=topK_hybrid,\n",
    "                                    URM_train = URM_train,\n",
    "                                    ICM_train = ICM_train,\n",
    "                                    topK_knncf=topK_knncf,\n",
    "                                    shrink_knncf=shrink_knncf,\n",
    "                                    feature_weighting_knncf=feature_weighting_knncf,\n",
    "                                    topK_knncbf=topK_knncbf,\n",
    "                                    shrink_knncbf=shrink_knncbf,\n",
    "                                    feature_weighting_knncbf=feature_weighting_knncbf,\n",
    "                                )\n",
    "        \n",
    "                                metrics_df, _ = evaluator_validation.evaluateRecommender(model_knn)\n",
    "                                if max_MAP < metrics_df[\"MAP\"][10]:\n",
    "                                    max_MAP = metrics_df[\"MAP\"][10]\n",
    "                                print(', '.join(f\"{key}: {value}\" for key, value in params.items()), \"MAP: \", metrics_df[\"MAP\"][10], \"max MAP: \", max_MAP)\n",
    "                                      \n",
    "                                params_df = pd.DataFrame([params])\n",
    "                                iteration_results = pd.concat([params_df, metrics_df.reset_index()], axis=1)\n",
    "                                results = pd.concat([results, iteration_results], ignore_index=True)\n",
    "                                results.to_csv(save_path+\"results.csv\", index=False)"
   ]
  },
  {
   "cell_type": "code",
   "execution_count": null,
   "id": "cf8e93f8-2fb3-400c-ba4b-0a528fb2037e",
   "metadata": {},
   "outputs": [],
   "source": []
  }
 ],
 "metadata": {
  "kernelspec": {
   "display_name": "RecSys",
   "language": "python",
   "name": "recsys"
  },
  "language_info": {
   "codemirror_mode": {
    "name": "ipython",
    "version": 3
   },
   "file_extension": ".py",
   "mimetype": "text/x-python",
   "name": "python",
   "nbconvert_exporter": "python",
   "pygments_lexer": "ipython3",
   "version": "3.12.7"
  }
 },
 "nbformat": 4,
 "nbformat_minor": 5
}
