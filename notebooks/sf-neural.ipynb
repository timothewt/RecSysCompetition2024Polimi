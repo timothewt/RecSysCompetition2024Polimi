{
 "cells": [
  {
   "cell_type": "code",
   "execution_count": 1,
   "id": "a26082b6-a2e7-4b7c-aee8-2b711a712bf4",
   "metadata": {},
   "outputs": [],
   "source": [
    "from pathlib import Path\n",
    "import sys  \n",
    "import os\n",
    "import pandas as pd \n",
    "from datetime import datetime\n",
    "import scipy.sparse as sps\n",
    "from numpy import linalg as LA\n",
    "\n",
    "import numpy as np\n",
    "from operator import itemgetter"
   ]
  },
  {
   "cell_type": "code",
   "execution_count": 2,
   "id": "338c5d32-e401-49f7-9253-e638ed3098ae",
   "metadata": {},
   "outputs": [],
   "source": [
    "sys.path.append(os.path.abspath(os.path.join(os.getcwd(), \"..\", \"libs\")))\n",
    "sys.path.append(os.path.abspath(os.path.join(os.getcwd(), \"..\")))\n",
    "sys.path.append(os.path.abspath(os.path.join(os.getcwd(), \"..\", \"src\")))"
   ]
  },
  {
   "cell_type": "code",
   "execution_count": 3,
   "id": "3045c598-e42c-4392-9031-edb4ac2a479a",
   "metadata": {},
   "outputs": [],
   "source": [
    "%load_ext autoreload\n",
    "%autoreload 2"
   ]
  },
  {
   "cell_type": "code",
   "execution_count": 4,
   "id": "3aa33155-7acd-4e72-a9f3-9fbcbc791b05",
   "metadata": {},
   "outputs": [],
   "source": [
    "URM_train = sps.load_npz(\"URM_train_ens.npz\")\n",
    "URM_val = sps.load_npz(\"URM_val_ens.npz\")\n",
    "URM_test = sps.load_npz(\"URM_test_ens.npz\")\n",
    "\n",
    "URM_train_val = sps.load_npz(\"URM_train_val_ens.npz\")"
   ]
  },
  {
   "cell_type": "code",
   "execution_count": 5,
   "id": "cb4970ba-45e6-4c0d-bef3-a206d136600c",
   "metadata": {},
   "outputs": [],
   "source": [
    "from Evaluation.Evaluator import EvaluatorHoldout\n",
    "from libs.Recommenders.Neural.MultVAE_PyTorch_Recommender import MultVAERecommender_PyTorch_OptimizerMask"
   ]
  },
  {
   "cell_type": "code",
   "execution_count": 6,
   "id": "c3877eb8-78a1-4da7-9efd-d647a001a8e3",
   "metadata": {},
   "outputs": [
    {
     "name": "stdout",
     "output_type": "stream",
     "text": [
      "EvaluatorHoldout: Ignoring 527 ( 1.5%) Users that have less than 1 test interactions\n"
     ]
    }
   ],
   "source": [
    "evaluator_test = EvaluatorHoldout(URM_test, cutoff_list=[10])"
   ]
  },
  {
   "cell_type": "code",
   "execution_count": 7,
   "id": "6fe3c59a-a352-4f4d-8266-17c230b1e63d",
   "metadata": {},
   "outputs": [],
   "source": [
    "vae_model = MultVAERecommender_PyTorch_OptimizerMask(URM_train_val, verbose=True)"
   ]
  },
  {
   "cell_type": "code",
   "execution_count": 8,
   "id": "72faba99-c58e-4d62-bd4c-b0b3d5912c85",
   "metadata": {},
   "outputs": [
    {
     "ename": "AttributeError",
     "evalue": "'MultVAERecommender_PyTorch_OptimizerMask' object has no attribute '_model'",
     "output_type": "error",
     "traceback": [
      "\u001b[0;31m---------------------------------------------------------------------------\u001b[0m",
      "\u001b[0;31mAttributeError\u001b[0m                            Traceback (most recent call last)",
      "Cell \u001b[0;32mIn[8], line 1\u001b[0m\n\u001b[0;32m----> 1\u001b[0m vae_model\u001b[38;5;241m.\u001b[39m_model\n",
      "\u001b[0;31mAttributeError\u001b[0m: 'MultVAERecommender_PyTorch_OptimizerMask' object has no attribute '_model'"
     ]
    }
   ],
   "source": [
    "vae_model._model "
   ]
  },
  {
   "cell_type": "code",
   "execution_count": 16,
   "id": "4d6f9c76-d048-45d9-9e98-9bd92dbc144d",
   "metadata": {},
   "outputs": [
    {
     "ename": "AttributeError",
     "evalue": "'NoneType' object has no attribute 'eval'",
     "output_type": "error",
     "traceback": [
      "\u001b[0;31m---------------------------------------------------------------------------\u001b[0m",
      "\u001b[0;31mAttributeError\u001b[0m                            Traceback (most recent call last)",
      "Cell \u001b[0;32mIn[16], line 1\u001b[0m\n\u001b[0;32m----> 1\u001b[0m res, _ \u001b[38;5;241m=\u001b[39m evaluator_test\u001b[38;5;241m.\u001b[39mevaluateRecommender(vae_model)\n",
      "File \u001b[0;32m~/Python/RecSysCompetition2024Polimi/libs/Evaluation/Evaluator.py:276\u001b[0m, in \u001b[0;36mEvaluator.evaluateRecommender\u001b[0;34m(self, recommender_object)\u001b[0m\n\u001b[1;32m    273\u001b[0m \u001b[38;5;28mself\u001b[39m\u001b[38;5;241m.\u001b[39m_start_time_print \u001b[38;5;241m=\u001b[39m time\u001b[38;5;241m.\u001b[39mtime()\n\u001b[1;32m    274\u001b[0m \u001b[38;5;28mself\u001b[39m\u001b[38;5;241m.\u001b[39m_n_users_evaluated \u001b[38;5;241m=\u001b[39m \u001b[38;5;241m0\u001b[39m\n\u001b[0;32m--> 276\u001b[0m results_dict \u001b[38;5;241m=\u001b[39m \u001b[38;5;28mself\u001b[39m\u001b[38;5;241m.\u001b[39m_run_evaluation_on_selected_users(recommender_object, \u001b[38;5;28mself\u001b[39m\u001b[38;5;241m.\u001b[39musers_to_evaluate)\n\u001b[1;32m    279\u001b[0m \u001b[38;5;28;01mif\u001b[39;00m \u001b[38;5;28mself\u001b[39m\u001b[38;5;241m.\u001b[39m_n_users_evaluated \u001b[38;5;241m>\u001b[39m \u001b[38;5;241m0\u001b[39m:\n\u001b[1;32m    281\u001b[0m     \u001b[38;5;28;01mfor\u001b[39;00m cutoff \u001b[38;5;129;01min\u001b[39;00m \u001b[38;5;28mself\u001b[39m\u001b[38;5;241m.\u001b[39mcutoff_list:\n",
      "File \u001b[0;32m~/Python/RecSysCompetition2024Polimi/libs/Evaluation/Evaluator.py:476\u001b[0m, in \u001b[0;36mEvaluatorHoldout._run_evaluation_on_selected_users\u001b[0;34m(self, recommender_object, users_to_evaluate, block_size)\u001b[0m\n\u001b[1;32m    473\u001b[0m     user_batch_start \u001b[38;5;241m=\u001b[39m user_batch_end\n\u001b[1;32m    475\u001b[0m     \u001b[38;5;66;03m# Compute predictions for a batch of users using vectorization, much more efficient than computing it one at a time\u001b[39;00m\n\u001b[0;32m--> 476\u001b[0m     recommended_items_batch_list, scores_batch \u001b[38;5;241m=\u001b[39m recommender_object\u001b[38;5;241m.\u001b[39mrecommend(test_user_batch_array,\n\u001b[1;32m    477\u001b[0m                                                               remove_seen_flag\u001b[38;5;241m=\u001b[39m\u001b[38;5;28mself\u001b[39m\u001b[38;5;241m.\u001b[39mexclude_seen,\n\u001b[1;32m    478\u001b[0m                                                               cutoff \u001b[38;5;241m=\u001b[39m \u001b[38;5;28mself\u001b[39m\u001b[38;5;241m.\u001b[39mmax_cutoff,\n\u001b[1;32m    479\u001b[0m                                                               remove_top_pop_flag\u001b[38;5;241m=\u001b[39m\u001b[38;5;28;01mFalse\u001b[39;00m,\n\u001b[1;32m    480\u001b[0m                                                               remove_custom_items_flag\u001b[38;5;241m=\u001b[39m\u001b[38;5;28mself\u001b[39m\u001b[38;5;241m.\u001b[39mignore_items_flag,\n\u001b[1;32m    481\u001b[0m                                                               return_scores \u001b[38;5;241m=\u001b[39m \u001b[38;5;28;01mTrue\u001b[39;00m\n\u001b[1;32m    482\u001b[0m                                                              )\n\u001b[1;32m    484\u001b[0m     results_dict \u001b[38;5;241m=\u001b[39m \u001b[38;5;28mself\u001b[39m\u001b[38;5;241m.\u001b[39m_compute_metrics_on_recommendation_list(test_user_batch_array \u001b[38;5;241m=\u001b[39m test_user_batch_array,\n\u001b[1;32m    485\u001b[0m                                                  recommended_items_batch_list \u001b[38;5;241m=\u001b[39m recommended_items_batch_list,\n\u001b[1;32m    486\u001b[0m                                                  scores_batch \u001b[38;5;241m=\u001b[39m scores_batch,\n\u001b[1;32m    487\u001b[0m                                                  results_dict \u001b[38;5;241m=\u001b[39m results_dict)\n\u001b[1;32m    490\u001b[0m \u001b[38;5;28;01mreturn\u001b[39;00m results_dict\n",
      "File \u001b[0;32m~/Python/RecSysCompetition2024Polimi/libs/Recommenders/BaseRecommender.py:147\u001b[0m, in \u001b[0;36mBaseRecommender.recommend\u001b[0;34m(self, user_id_array, cutoff, remove_seen_flag, items_to_compute, remove_top_pop_flag, remove_custom_items_flag, return_scores)\u001b[0m\n\u001b[1;32m    143\u001b[0m cutoff \u001b[38;5;241m=\u001b[39m \u001b[38;5;28mmin\u001b[39m(cutoff, \u001b[38;5;28mself\u001b[39m\u001b[38;5;241m.\u001b[39mURM_train\u001b[38;5;241m.\u001b[39mshape[\u001b[38;5;241m1\u001b[39m] \u001b[38;5;241m-\u001b[39m \u001b[38;5;241m1\u001b[39m)\n\u001b[1;32m    145\u001b[0m \u001b[38;5;66;03m# Compute the scores using the model-specific function\u001b[39;00m\n\u001b[1;32m    146\u001b[0m \u001b[38;5;66;03m# Vectorize over all users in user_id_array\u001b[39;00m\n\u001b[0;32m--> 147\u001b[0m scores_batch \u001b[38;5;241m=\u001b[39m \u001b[38;5;28mself\u001b[39m\u001b[38;5;241m.\u001b[39m_compute_item_score(user_id_array, items_to_compute\u001b[38;5;241m=\u001b[39mitems_to_compute)\n\u001b[1;32m    150\u001b[0m \u001b[38;5;28;01mfor\u001b[39;00m user_index \u001b[38;5;129;01min\u001b[39;00m \u001b[38;5;28mrange\u001b[39m(\u001b[38;5;28mlen\u001b[39m(user_id_array)):\n\u001b[1;32m    152\u001b[0m     user_id \u001b[38;5;241m=\u001b[39m user_id_array[user_index]\n",
      "File \u001b[0;32m~/Python/RecSysCompetition2024Polimi/libs/Recommenders/Neural/MultVAE_PyTorch_Recommender.py:195\u001b[0m, in \u001b[0;36mMultVAERecommender_PyTorch._compute_item_score\u001b[0;34m(self, user_id_array, items_to_compute)\u001b[0m\n\u001b[1;32m    188\u001b[0m user_batch_tensor \u001b[38;5;241m=\u001b[39m torch\u001b[38;5;241m.\u001b[39msparse_csr_tensor(user_batch_tensor\u001b[38;5;241m.\u001b[39mindptr,\n\u001b[1;32m    189\u001b[0m                                             user_batch_tensor\u001b[38;5;241m.\u001b[39mindices,\n\u001b[1;32m    190\u001b[0m                                             user_batch_tensor\u001b[38;5;241m.\u001b[39mdata,\n\u001b[1;32m    191\u001b[0m                                             size\u001b[38;5;241m=\u001b[39muser_batch_tensor\u001b[38;5;241m.\u001b[39mshape, dtype\u001b[38;5;241m=\u001b[39mtorch\u001b[38;5;241m.\u001b[39mfloat32,\n\u001b[1;32m    192\u001b[0m                                             device\u001b[38;5;241m=\u001b[39m\u001b[38;5;28mself\u001b[39m\u001b[38;5;241m.\u001b[39mdevice, requires_grad\u001b[38;5;241m=\u001b[39m\u001b[38;5;28;01mFalse\u001b[39;00m)\u001b[38;5;241m.\u001b[39mto_dense()\n\u001b[1;32m    194\u001b[0m \u001b[38;5;28;01mwith\u001b[39;00m torch\u001b[38;5;241m.\u001b[39mno_grad():\n\u001b[0;32m--> 195\u001b[0m     \u001b[38;5;28mself\u001b[39m\u001b[38;5;241m.\u001b[39m_model\u001b[38;5;241m.\u001b[39meval()\n\u001b[1;32m    196\u001b[0m     logits, _, _, _, _, _ \u001b[38;5;241m=\u001b[39m \u001b[38;5;28mself\u001b[39m\u001b[38;5;241m.\u001b[39m_model\u001b[38;5;241m.\u001b[39mforward(user_batch_tensor)\n\u001b[1;32m    198\u001b[0m item_scores_to_compute \u001b[38;5;241m=\u001b[39m logits\u001b[38;5;241m.\u001b[39mcpu()\u001b[38;5;241m.\u001b[39mdetach()\u001b[38;5;241m.\u001b[39mnumpy()\n",
      "\u001b[0;31mAttributeError\u001b[0m: 'NoneType' object has no attribute 'eval'"
     ]
    }
   ],
   "source": [
    "res, _ = evaluator_test.evaluateRecommender(vae_model)"
   ]
  },
  {
   "cell_type": "code",
   "execution_count": 9,
   "id": "69c726f0-befa-4dcc-bfeb-53afbd144685",
   "metadata": {},
   "outputs": [
    {
     "name": "stdout",
     "output_type": "stream",
     "text": [
      "MultVAERecommender_PyTorch: Architecture: [50, 100, 200, 38121]\n"
     ]
    },
    {
     "name": "stderr",
     "output_type": "stream",
     "text": [
      "/Users/safuan/Python/RecSysCompetition2024Polimi/libs/Recommenders/Neural/MultVAE_PyTorch_Recommender.py:305: UserWarning: Sparse CSR tensor support is in beta state. If you miss a functionality in the sparse tensor support, please submit a feature request to https://github.com/pytorch/pytorch/issues. (Triggered internally at /Users/runner/work/pytorch/pytorch/pytorch/aten/src/ATen/SparseCsrTensorImpl.cpp:55.)\n",
      "  user_batch_tensor = torch.sparse_csr_tensor(user_batch_tensor.indptr,\n",
      "100%|███████████████████████████████████████████| 72/72 [00:10<00:00,  6.76it/s]"
     ]
    },
    {
     "name": "stdout",
     "output_type": "stream",
     "text": [
      "MultVAERecommender_PyTorch: Loss 3.27E+04\n",
      "MultVAERecommender_PyTorch: Epoch 1 of 10. Elapsed time 10.67 sec\n"
     ]
    },
    {
     "name": "stderr",
     "output_type": "stream",
     "text": [
      "\n",
      "100%|███████████████████████████████████████████| 72/72 [00:10<00:00,  6.89it/s]"
     ]
    },
    {
     "name": "stdout",
     "output_type": "stream",
     "text": [
      "MultVAERecommender_PyTorch: Loss 3.23E+04\n",
      "MultVAERecommender_PyTorch: Epoch 2 of 10. Elapsed time 21.12 sec\n"
     ]
    },
    {
     "name": "stderr",
     "output_type": "stream",
     "text": [
      "\n",
      "100%|███████████████████████████████████████████| 72/72 [00:10<00:00,  6.65it/s]"
     ]
    },
    {
     "name": "stdout",
     "output_type": "stream",
     "text": [
      "MultVAERecommender_PyTorch: Loss 3.30E+04\n",
      "MultVAERecommender_PyTorch: Epoch 3 of 10. Elapsed time 31.96 sec\n"
     ]
    },
    {
     "name": "stderr",
     "output_type": "stream",
     "text": [
      "\n",
      "100%|███████████████████████████████████████████| 72/72 [00:10<00:00,  6.82it/s]"
     ]
    },
    {
     "name": "stdout",
     "output_type": "stream",
     "text": [
      "MultVAERecommender_PyTorch: Loss 3.42E+04\n",
      "MultVAERecommender_PyTorch: Epoch 4 of 10. Elapsed time 42.52 sec\n"
     ]
    },
    {
     "name": "stderr",
     "output_type": "stream",
     "text": [
      "\n",
      "100%|███████████████████████████████████████████| 72/72 [00:10<00:00,  6.58it/s]"
     ]
    },
    {
     "name": "stdout",
     "output_type": "stream",
     "text": [
      "MultVAERecommender_PyTorch: Loss 3.54E+04\n",
      "MultVAERecommender_PyTorch: Epoch 5 of 10. Elapsed time 53.47 sec\n"
     ]
    },
    {
     "name": "stderr",
     "output_type": "stream",
     "text": [
      "\n",
      "100%|███████████████████████████████████████████| 72/72 [00:11<00:00,  6.25it/s]"
     ]
    },
    {
     "name": "stdout",
     "output_type": "stream",
     "text": [
      "MultVAERecommender_PyTorch: Loss 3.66E+04\n",
      "MultVAERecommender_PyTorch: Epoch 6 of 10. Elapsed time 1.08 min\n"
     ]
    },
    {
     "name": "stderr",
     "output_type": "stream",
     "text": [
      "\n",
      "100%|███████████████████████████████████████████| 72/72 [00:11<00:00,  6.40it/s]"
     ]
    },
    {
     "name": "stdout",
     "output_type": "stream",
     "text": [
      "MultVAERecommender_PyTorch: Loss 3.76E+04\n",
      "MultVAERecommender_PyTorch: Epoch 7 of 10. Elapsed time 1.27 min\n"
     ]
    },
    {
     "name": "stderr",
     "output_type": "stream",
     "text": [
      "\n",
      "100%|███████████████████████████████████████████| 72/72 [00:10<00:00,  6.76it/s]"
     ]
    },
    {
     "name": "stdout",
     "output_type": "stream",
     "text": [
      "MultVAERecommender_PyTorch: Loss 3.88E+04\n",
      "MultVAERecommender_PyTorch: Epoch 8 of 10. Elapsed time 1.45 min\n"
     ]
    },
    {
     "name": "stderr",
     "output_type": "stream",
     "text": [
      "\n",
      "100%|███████████████████████████████████████████| 72/72 [00:10<00:00,  6.74it/s]"
     ]
    },
    {
     "name": "stdout",
     "output_type": "stream",
     "text": [
      "MultVAERecommender_PyTorch: Loss 3.97E+04\n",
      "MultVAERecommender_PyTorch: Epoch 9 of 10. Elapsed time 1.63 min\n"
     ]
    },
    {
     "name": "stderr",
     "output_type": "stream",
     "text": [
      "\n",
      "100%|███████████████████████████████████████████| 72/72 [00:10<00:00,  6.74it/s]"
     ]
    },
    {
     "name": "stdout",
     "output_type": "stream",
     "text": [
      "MultVAERecommender_PyTorch: Loss 4.08E+04\n",
      "MultVAERecommender_PyTorch: Epoch 10 of 10. Elapsed time 1.80 min\n"
     ]
    },
    {
     "name": "stderr",
     "output_type": "stream",
     "text": [
      "\n"
     ]
    },
    {
     "name": "stdout",
     "output_type": "stream",
     "text": [
      "MultVAERecommender_PyTorch: Terminating at epoch 10. Elapsed time 1.80 min\n",
      "MultVAERecommender_PyTorch: Training complete\n"
     ]
    }
   ],
   "source": [
    "vae_model.fit()"
   ]
  },
  {
   "cell_type": "code",
   "execution_count": 10,
   "id": "0a4cc1c4-0a85-4c3c-b107-9fbd6689e528",
   "metadata": {},
   "outputs": [
    {
     "data": {
      "text/plain": [
       "(35736, 38121)"
      ]
     },
     "execution_count": 10,
     "metadata": {},
     "output_type": "execute_result"
    }
   ],
   "source": [
    "URM_train_val.shape"
   ]
  },
  {
   "cell_type": "code",
   "execution_count": null,
   "id": "6ad286fc-1896-4c3c-b36b-fad9166ad28f",
   "metadata": {},
   "outputs": [],
   "source": []
  }
 ],
 "metadata": {
  "kernelspec": {
   "display_name": "RecSys",
   "language": "python",
   "name": "recsys"
  },
  "language_info": {
   "codemirror_mode": {
    "name": "ipython",
    "version": 3
   },
   "file_extension": ".py",
   "mimetype": "text/x-python",
   "name": "python",
   "nbconvert_exporter": "python",
   "pygments_lexer": "ipython3",
   "version": "3.12.7"
  }
 },
 "nbformat": 4,
 "nbformat_minor": 5
}
