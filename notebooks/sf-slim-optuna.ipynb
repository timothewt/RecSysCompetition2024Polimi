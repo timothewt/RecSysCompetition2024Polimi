{
 "cells": [
  {
   "cell_type": "code",
   "execution_count": 1,
   "id": "76275c44-d1e1-4065-8c91-0e1491d0c501",
   "metadata": {},
   "outputs": [],
   "source": [
    "from pathlib import Path\n",
    "import sys  \n",
    "import os\n",
    "import pandas as pd \n",
    "from datetime import datetime\n",
    "import scipy.sparse as sps\n",
    "from numpy import linalg as LA\n",
    "\n",
    "import numpy as np\n",
    "from operator import itemgetter\n",
    "import optuna as op"
   ]
  },
  {
   "cell_type": "code",
   "execution_count": 2,
   "id": "30820364-4aaa-4975-a1b3-8a19acd7360b",
   "metadata": {},
   "outputs": [],
   "source": [
    "sys.path.append(os.path.abspath(os.path.join(os.getcwd(), \"..\", \"libs\")))\n",
    "sys.path.append(os.path.abspath(os.path.join(os.getcwd(), \"..\")))\n",
    "sys.path.append(os.path.abspath(os.path.join(os.getcwd(), \"..\", \"src\")))"
   ]
  },
  {
   "cell_type": "code",
   "execution_count": 3,
   "id": "c6ca96af-d5b8-467c-8df4-52963a4ae0a7",
   "metadata": {},
   "outputs": [],
   "source": [
    "from libs.Recommenders.SLIM.SLIMElasticNetRecommender import SLIMElasticNetRecommender\n",
    "from libs.Evaluation.Evaluator import EvaluatorHoldout"
   ]
  },
  {
   "cell_type": "code",
   "execution_count": 4,
   "id": "592f5f15-6e9e-48c9-9de8-96424e4e16d0",
   "metadata": {},
   "outputs": [],
   "source": [
    "%load_ext autoreload\n",
    "%autoreload 2"
   ]
  },
  {
   "cell_type": "code",
   "execution_count": 5,
   "id": "956842a4-dc4d-4aee-a788-e12a7f8e276c",
   "metadata": {},
   "outputs": [],
   "source": [
    "slim_res = pd.read_csv(\"result_experiments/SLIM/results.csv\")"
   ]
  },
  {
   "cell_type": "code",
   "execution_count": 10,
   "id": "6fa62cad-38d8-4121-833b-663ea3bc9f74",
   "metadata": {},
   "outputs": [
    {
     "data": {
      "text/html": [
       "<div>\n",
       "<style scoped>\n",
       "    .dataframe tbody tr th:only-of-type {\n",
       "        vertical-align: middle;\n",
       "    }\n",
       "\n",
       "    .dataframe tbody tr th {\n",
       "        vertical-align: top;\n",
       "    }\n",
       "\n",
       "    .dataframe thead th {\n",
       "        text-align: right;\n",
       "    }\n",
       "</style>\n",
       "<table border=\"1\" class=\"dataframe\">\n",
       "  <thead>\n",
       "    <tr style=\"text-align: right;\">\n",
       "      <th></th>\n",
       "      <th>topK</th>\n",
       "      <th>l1_ratio</th>\n",
       "      <th>alpha</th>\n",
       "      <th>time</th>\n",
       "      <th>cutoff</th>\n",
       "      <th>PRECISION</th>\n",
       "      <th>PRECISION_RECALL_MIN_DEN</th>\n",
       "      <th>RECALL</th>\n",
       "      <th>MAP</th>\n",
       "      <th>MAP_MIN_DEN</th>\n",
       "      <th>...</th>\n",
       "      <th>COVERAGE_USER</th>\n",
       "      <th>COVERAGE_USER_HIT</th>\n",
       "      <th>USERS_IN_GT</th>\n",
       "      <th>DIVERSITY_GINI</th>\n",
       "      <th>SHANNON_ENTROPY</th>\n",
       "      <th>RATIO_DIVERSITY_HERFINDAHL</th>\n",
       "      <th>RATIO_DIVERSITY_GINI</th>\n",
       "      <th>RATIO_SHANNON_ENTROPY</th>\n",
       "      <th>RATIO_AVERAGE_POPULARITY</th>\n",
       "      <th>RATIO_NOVELTY</th>\n",
       "    </tr>\n",
       "  </thead>\n",
       "  <tbody>\n",
       "    <tr>\n",
       "      <th>75</th>\n",
       "      <td>330</td>\n",
       "      <td>0.11625</td>\n",
       "      <td>0.00026</td>\n",
       "      <td>2024-12-01 11:03:56</td>\n",
       "      <td>10</td>\n",
       "      <td>0.111503</td>\n",
       "      <td>0.166348</td>\n",
       "      <td>0.141143</td>\n",
       "      <td>0.060451</td>\n",
       "      <td>0.087932</td>\n",
       "      <td>...</td>\n",
       "      <td>0.994991</td>\n",
       "      <td>0.569510</td>\n",
       "      <td>0.994991</td>\n",
       "      <td>0.239853</td>\n",
       "      <td>13.448351</td>\n",
       "      <td>0.999872</td>\n",
       "      <td>0.394507</td>\n",
       "      <td>0.911093</td>\n",
       "      <td>1.367301</td>\n",
       "      <td>0.243768</td>\n",
       "    </tr>\n",
       "    <tr>\n",
       "      <th>55</th>\n",
       "      <td>320</td>\n",
       "      <td>0.11625</td>\n",
       "      <td>0.00026</td>\n",
       "      <td>2024-12-01 04:02:42</td>\n",
       "      <td>10</td>\n",
       "      <td>0.111522</td>\n",
       "      <td>0.166355</td>\n",
       "      <td>0.141133</td>\n",
       "      <td>0.060464</td>\n",
       "      <td>0.087947</td>\n",
       "      <td>...</td>\n",
       "      <td>0.994991</td>\n",
       "      <td>0.569510</td>\n",
       "      <td>0.994991</td>\n",
       "      <td>0.240054</td>\n",
       "      <td>13.450461</td>\n",
       "      <td>0.999873</td>\n",
       "      <td>0.394839</td>\n",
       "      <td>0.911236</td>\n",
       "      <td>1.364541</td>\n",
       "      <td>0.243797</td>\n",
       "    </tr>\n",
       "    <tr>\n",
       "      <th>103</th>\n",
       "      <td>350</td>\n",
       "      <td>0.11100</td>\n",
       "      <td>0.00026</td>\n",
       "      <td>2024-12-02 04:07:47</td>\n",
       "      <td>10</td>\n",
       "      <td>0.111497</td>\n",
       "      <td>0.166318</td>\n",
       "      <td>0.141127</td>\n",
       "      <td>0.060441</td>\n",
       "      <td>0.087900</td>\n",
       "      <td>...</td>\n",
       "      <td>0.994991</td>\n",
       "      <td>0.569314</td>\n",
       "      <td>0.994991</td>\n",
       "      <td>0.240487</td>\n",
       "      <td>13.451387</td>\n",
       "      <td>0.999872</td>\n",
       "      <td>0.395552</td>\n",
       "      <td>0.911299</td>\n",
       "      <td>1.368347</td>\n",
       "      <td>0.243777</td>\n",
       "    </tr>\n",
       "    <tr>\n",
       "      <th>63</th>\n",
       "      <td>330</td>\n",
       "      <td>0.11100</td>\n",
       "      <td>0.00026</td>\n",
       "      <td>2024-12-01 06:51:24</td>\n",
       "      <td>10</td>\n",
       "      <td>0.111536</td>\n",
       "      <td>0.166336</td>\n",
       "      <td>0.141116</td>\n",
       "      <td>0.060466</td>\n",
       "      <td>0.087930</td>\n",
       "      <td>...</td>\n",
       "      <td>0.994991</td>\n",
       "      <td>0.569398</td>\n",
       "      <td>0.994991</td>\n",
       "      <td>0.240864</td>\n",
       "      <td>13.455295</td>\n",
       "      <td>0.999873</td>\n",
       "      <td>0.396171</td>\n",
       "      <td>0.911564</td>\n",
       "      <td>1.363084</td>\n",
       "      <td>0.243832</td>\n",
       "    </tr>\n",
       "    <tr>\n",
       "      <th>79</th>\n",
       "      <td>330</td>\n",
       "      <td>0.11800</td>\n",
       "      <td>0.00026</td>\n",
       "      <td>2024-12-01 13:17:13</td>\n",
       "      <td>10</td>\n",
       "      <td>0.111480</td>\n",
       "      <td>0.166309</td>\n",
       "      <td>0.141116</td>\n",
       "      <td>0.060447</td>\n",
       "      <td>0.087918</td>\n",
       "      <td>...</td>\n",
       "      <td>0.994991</td>\n",
       "      <td>0.569482</td>\n",
       "      <td>0.994991</td>\n",
       "      <td>0.239611</td>\n",
       "      <td>13.446661</td>\n",
       "      <td>0.999872</td>\n",
       "      <td>0.394110</td>\n",
       "      <td>0.910979</td>\n",
       "      <td>1.368187</td>\n",
       "      <td>0.243756</td>\n",
       "    </tr>\n",
       "    <tr>\n",
       "      <th>...</th>\n",
       "      <td>...</td>\n",
       "      <td>...</td>\n",
       "      <td>...</td>\n",
       "      <td>...</td>\n",
       "      <td>...</td>\n",
       "      <td>...</td>\n",
       "      <td>...</td>\n",
       "      <td>...</td>\n",
       "      <td>...</td>\n",
       "      <td>...</td>\n",
       "      <td>...</td>\n",
       "      <td>...</td>\n",
       "      <td>...</td>\n",
       "      <td>...</td>\n",
       "      <td>...</td>\n",
       "      <td>...</td>\n",
       "      <td>...</td>\n",
       "      <td>...</td>\n",
       "      <td>...</td>\n",
       "      <td>...</td>\n",
       "      <td>...</td>\n",
       "    </tr>\n",
       "    <tr>\n",
       "      <th>40</th>\n",
       "      <td>320</td>\n",
       "      <td>0.11100</td>\n",
       "      <td>0.00020</td>\n",
       "      <td>2024-11-30 22:44:29</td>\n",
       "      <td>10</td>\n",
       "      <td>0.111103</td>\n",
       "      <td>0.165689</td>\n",
       "      <td>0.140637</td>\n",
       "      <td>0.060292</td>\n",
       "      <td>0.087724</td>\n",
       "      <td>...</td>\n",
       "      <td>0.994991</td>\n",
       "      <td>0.568223</td>\n",
       "      <td>0.994991</td>\n",
       "      <td>0.254819</td>\n",
       "      <td>13.542520</td>\n",
       "      <td>0.999888</td>\n",
       "      <td>0.419124</td>\n",
       "      <td>0.917473</td>\n",
       "      <td>1.316684</td>\n",
       "      <td>0.244639</td>\n",
       "    </tr>\n",
       "    <tr>\n",
       "      <th>80</th>\n",
       "      <td>340</td>\n",
       "      <td>0.11100</td>\n",
       "      <td>0.00020</td>\n",
       "      <td>2024-12-01 13:39:54</td>\n",
       "      <td>10</td>\n",
       "      <td>0.111162</td>\n",
       "      <td>0.165720</td>\n",
       "      <td>0.140635</td>\n",
       "      <td>0.060310</td>\n",
       "      <td>0.087736</td>\n",
       "      <td>...</td>\n",
       "      <td>0.994991</td>\n",
       "      <td>0.568306</td>\n",
       "      <td>0.994991</td>\n",
       "      <td>0.254164</td>\n",
       "      <td>13.537005</td>\n",
       "      <td>0.999887</td>\n",
       "      <td>0.418047</td>\n",
       "      <td>0.917100</td>\n",
       "      <td>1.323202</td>\n",
       "      <td>0.244562</td>\n",
       "    </tr>\n",
       "    <tr>\n",
       "      <th>140</th>\n",
       "      <td>370</td>\n",
       "      <td>0.11100</td>\n",
       "      <td>0.00020</td>\n",
       "      <td>2024-12-03 10:19:45</td>\n",
       "      <td>10</td>\n",
       "      <td>0.111148</td>\n",
       "      <td>0.165709</td>\n",
       "      <td>0.140625</td>\n",
       "      <td>0.060311</td>\n",
       "      <td>0.087738</td>\n",
       "      <td>...</td>\n",
       "      <td>0.994991</td>\n",
       "      <td>0.568278</td>\n",
       "      <td>0.994991</td>\n",
       "      <td>0.253398</td>\n",
       "      <td>13.529806</td>\n",
       "      <td>0.999884</td>\n",
       "      <td>0.416786</td>\n",
       "      <td>0.916612</td>\n",
       "      <td>1.333071</td>\n",
       "      <td>0.244459</td>\n",
       "    </tr>\n",
       "    <tr>\n",
       "      <th>20</th>\n",
       "      <td>310</td>\n",
       "      <td>0.11100</td>\n",
       "      <td>0.00020</td>\n",
       "      <td>2024-11-30 08:15:55</td>\n",
       "      <td>10</td>\n",
       "      <td>0.111084</td>\n",
       "      <td>0.165681</td>\n",
       "      <td>0.140623</td>\n",
       "      <td>0.060299</td>\n",
       "      <td>0.087732</td>\n",
       "      <td>...</td>\n",
       "      <td>0.994991</td>\n",
       "      <td>0.568027</td>\n",
       "      <td>0.994991</td>\n",
       "      <td>0.255103</td>\n",
       "      <td>13.545145</td>\n",
       "      <td>0.999889</td>\n",
       "      <td>0.419591</td>\n",
       "      <td>0.917651</td>\n",
       "      <td>1.312987</td>\n",
       "      <td>0.244680</td>\n",
       "    </tr>\n",
       "    <tr>\n",
       "      <th>60</th>\n",
       "      <td>330</td>\n",
       "      <td>0.11100</td>\n",
       "      <td>0.00020</td>\n",
       "      <td>2024-12-01 05:48:24</td>\n",
       "      <td>10</td>\n",
       "      <td>0.111120</td>\n",
       "      <td>0.165680</td>\n",
       "      <td>0.140613</td>\n",
       "      <td>0.060298</td>\n",
       "      <td>0.087725</td>\n",
       "      <td>...</td>\n",
       "      <td>0.994991</td>\n",
       "      <td>0.568167</td>\n",
       "      <td>0.994991</td>\n",
       "      <td>0.254458</td>\n",
       "      <td>13.539355</td>\n",
       "      <td>0.999887</td>\n",
       "      <td>0.418530</td>\n",
       "      <td>0.917259</td>\n",
       "      <td>1.320494</td>\n",
       "      <td>0.244595</td>\n",
       "    </tr>\n",
       "  </tbody>\n",
       "</table>\n",
       "<p>143 rows × 32 columns</p>\n",
       "</div>"
      ],
      "text/plain": [
       "     topK  l1_ratio    alpha                 time  cutoff  PRECISION  \\\n",
       "75    330   0.11625  0.00026  2024-12-01 11:03:56      10   0.111503   \n",
       "55    320   0.11625  0.00026  2024-12-01 04:02:42      10   0.111522   \n",
       "103   350   0.11100  0.00026  2024-12-02 04:07:47      10   0.111497   \n",
       "63    330   0.11100  0.00026  2024-12-01 06:51:24      10   0.111536   \n",
       "79    330   0.11800  0.00026  2024-12-01 13:17:13      10   0.111480   \n",
       "..    ...       ...      ...                  ...     ...        ...   \n",
       "40    320   0.11100  0.00020  2024-11-30 22:44:29      10   0.111103   \n",
       "80    340   0.11100  0.00020  2024-12-01 13:39:54      10   0.111162   \n",
       "140   370   0.11100  0.00020  2024-12-03 10:19:45      10   0.111148   \n",
       "20    310   0.11100  0.00020  2024-11-30 08:15:55      10   0.111084   \n",
       "60    330   0.11100  0.00020  2024-12-01 05:48:24      10   0.111120   \n",
       "\n",
       "     PRECISION_RECALL_MIN_DEN    RECALL       MAP  MAP_MIN_DEN  ...  \\\n",
       "75                   0.166348  0.141143  0.060451     0.087932  ...   \n",
       "55                   0.166355  0.141133  0.060464     0.087947  ...   \n",
       "103                  0.166318  0.141127  0.060441     0.087900  ...   \n",
       "63                   0.166336  0.141116  0.060466     0.087930  ...   \n",
       "79                   0.166309  0.141116  0.060447     0.087918  ...   \n",
       "..                        ...       ...       ...          ...  ...   \n",
       "40                   0.165689  0.140637  0.060292     0.087724  ...   \n",
       "80                   0.165720  0.140635  0.060310     0.087736  ...   \n",
       "140                  0.165709  0.140625  0.060311     0.087738  ...   \n",
       "20                   0.165681  0.140623  0.060299     0.087732  ...   \n",
       "60                   0.165680  0.140613  0.060298     0.087725  ...   \n",
       "\n",
       "     COVERAGE_USER  COVERAGE_USER_HIT  USERS_IN_GT  DIVERSITY_GINI  \\\n",
       "75        0.994991           0.569510     0.994991        0.239853   \n",
       "55        0.994991           0.569510     0.994991        0.240054   \n",
       "103       0.994991           0.569314     0.994991        0.240487   \n",
       "63        0.994991           0.569398     0.994991        0.240864   \n",
       "79        0.994991           0.569482     0.994991        0.239611   \n",
       "..             ...                ...          ...             ...   \n",
       "40        0.994991           0.568223     0.994991        0.254819   \n",
       "80        0.994991           0.568306     0.994991        0.254164   \n",
       "140       0.994991           0.568278     0.994991        0.253398   \n",
       "20        0.994991           0.568027     0.994991        0.255103   \n",
       "60        0.994991           0.568167     0.994991        0.254458   \n",
       "\n",
       "     SHANNON_ENTROPY  RATIO_DIVERSITY_HERFINDAHL  RATIO_DIVERSITY_GINI  \\\n",
       "75         13.448351                    0.999872              0.394507   \n",
       "55         13.450461                    0.999873              0.394839   \n",
       "103        13.451387                    0.999872              0.395552   \n",
       "63         13.455295                    0.999873              0.396171   \n",
       "79         13.446661                    0.999872              0.394110   \n",
       "..               ...                         ...                   ...   \n",
       "40         13.542520                    0.999888              0.419124   \n",
       "80         13.537005                    0.999887              0.418047   \n",
       "140        13.529806                    0.999884              0.416786   \n",
       "20         13.545145                    0.999889              0.419591   \n",
       "60         13.539355                    0.999887              0.418530   \n",
       "\n",
       "     RATIO_SHANNON_ENTROPY  RATIO_AVERAGE_POPULARITY  RATIO_NOVELTY  \n",
       "75                0.911093                  1.367301       0.243768  \n",
       "55                0.911236                  1.364541       0.243797  \n",
       "103               0.911299                  1.368347       0.243777  \n",
       "63                0.911564                  1.363084       0.243832  \n",
       "79                0.910979                  1.368187       0.243756  \n",
       "..                     ...                       ...            ...  \n",
       "40                0.917473                  1.316684       0.244639  \n",
       "80                0.917100                  1.323202       0.244562  \n",
       "140               0.916612                  1.333071       0.244459  \n",
       "20                0.917651                  1.312987       0.244680  \n",
       "60                0.917259                  1.320494       0.244595  \n",
       "\n",
       "[143 rows x 32 columns]"
      ]
     },
     "execution_count": 10,
     "metadata": {},
     "output_type": "execute_result"
    }
   ],
   "source": [
    "slim_res.sort_values(by=['RECALL', \"MAP\"], ascending=False)"
   ]
  },
  {
   "cell_type": "code",
   "execution_count": 5,
   "id": "5a03434e-ac2d-432b-be73-f4ef2932cd84",
   "metadata": {},
   "outputs": [],
   "source": [
    "from Utils.load_URM import load_URM\n",
    "from Utils.load_ICM import load_ICM\n",
    "from Data_manager.split_functions.split_train_validation_random_holdout import split_train_in_two_percentage_global_sample\n",
    "\n",
    "URM_all = load_URM(\"../data/data_train.csv\")\n",
    "ICM_all = load_ICM(\"../data/data_ICM_metadata.csv\")"
   ]
  },
  {
   "cell_type": "code",
   "execution_count": 6,
   "id": "b2bb9712-4fea-4caf-b764-9358e62ddade",
   "metadata": {},
   "outputs": [],
   "source": [
    "URM_train = sps.load_npz(\"URM_train_ens.npz\")\n",
    "URM_val = sps.load_npz(\"URM_val_ens.npz\")"
   ]
  },
  {
   "cell_type": "code",
   "execution_count": 7,
   "id": "50b815eb-d8be-46bf-9b2b-c466a779a386",
   "metadata": {},
   "outputs": [],
   "source": [
    "#URM_train, URM_validation = split_train_in_two_percentage_global_sample(URM_all, train_percentage = 0.80)"
   ]
  },
  {
   "cell_type": "code",
   "execution_count": 8,
   "id": "30d6171a-b299-43e2-a752-6300a735d887",
   "metadata": {},
   "outputs": [],
   "source": [
    "slim_model = SLIMElasticNetRecommender"
   ]
  },
  {
   "cell_type": "code",
   "execution_count": 16,
   "id": "6a2c6129-4cb9-42ad-90f2-92d625399d88",
   "metadata": {},
   "outputs": [
    {
     "name": "stdout",
     "output_type": "stream",
     "text": [
      "EvaluatorHoldout: Ignoring 1008 ( 2.8%) Users that have less than 1 test interactions\n"
     ]
    }
   ],
   "source": [
    "evaluator_validation = EvaluatorHoldout(URM_val, cutoff_list=[10])"
   ]
  },
  {
   "cell_type": "code",
   "execution_count": 26,
   "id": "926bc83b-1bdb-4110-b45d-2a1c410f3453",
   "metadata": {},
   "outputs": [],
   "source": [
    "def objective(optuna_trial):\n",
    "    topK = optuna_trial.suggest_int(\"topK\", 290, 320)\n",
    "    l1 = optuna_trial.suggest_float(\"l1_ratio\", 0.1, 0.6)\n",
    "    alpha = optuna_trial.suggest_float(\"alpha\", 0.0001, 0.001)\n",
    "\n",
    "    \n",
    "    recommender = slim_model(URM_train)\n",
    "    recommender.fit(**optuna_trial.params)\n",
    "    \n",
    "    eval_res, _ = evaluator_validation.evaluateRecommender(recommender)\n",
    "    \n",
    "    # Save MAP alongside RECALL\n",
    "    trial_results = {\n",
    "        \"RECALL\": eval_res[\"RECALL\"][10],\n",
    "        \"MAP\": eval_res[\"MAP\"][10]  # Save MAP for reference\n",
    "    }\n",
    "    \n",
    "    # Save the MAP value to the optuna trial user attributes for later use\n",
    "    optuna_trial.set_user_attr(\"MAP\", trial_results[\"MAP\"])\n",
    "    \n",
    "    # Return RECALL for optimization\n",
    "    return trial_results[\"RECALL\"]"
   ]
  },
  {
   "cell_type": "code",
   "execution_count": 27,
   "id": "993150db-2380-4282-ba4a-98e09f4505f4",
   "metadata": {},
   "outputs": [],
   "source": [
    "class SaveResults(object):\n",
    "    def __init__(self, file_path=None):\n",
    "        self.file_path = file_path\n",
    "        self.results = []\n",
    "    \n",
    "    def __call__(self, optuna_study, optuna_trial):\n",
    "        trial_result = optuna_trial.params.copy()\n",
    "        trial_result[\"iteration\"] = optuna_trial.number\n",
    "        trial_result[\"RECALL\"] = optuna_trial.value\n",
    "        \n",
    "        # Retrieve the MAP metric from user attributes\n",
    "        trial_result[\"MAP\"] = optuna_trial.user_attrs.get(\"MAP\")\n",
    "        \n",
    "        self.results.append(trial_result)\n",
    "        \n",
    "        # Convert to DataFrame and save to CSV\n",
    "        results_df = pd.DataFrame(self.results)\n",
    "        results_df.to_csv(self.file_path, index=False)\n"
   ]
  },
  {
   "cell_type": "code",
   "execution_count": 28,
   "id": "790930c1-6b8a-4a91-ab9b-fcc1c787ac5c",
   "metadata": {
    "scrolled": true
   },
   "outputs": [
    {
     "name": "stderr",
     "output_type": "stream",
     "text": [
      "[I 2024-12-26 17:26:49,968] A new study created in memory with name: no-name-6a5b9680-5a0f-4560-9d93-02d3fa44e82e\n"
     ]
    },
    {
     "name": "stdout",
     "output_type": "stream",
     "text": [
      "SLIMElasticNetRecommender: Processed 38121 (100.0%) in 4.31 min. Items per second: 147.49\n",
      "EvaluatorHoldout: Processed 34728 (100.0%) in 8.26 sec. Users per second: 4202\n"
     ]
    },
    {
     "name": "stderr",
     "output_type": "stream",
     "text": [
      "[I 2024-12-26 17:31:16,774] Trial 0 finished with value: 0.09159165610964941 and parameters: {'topK': 312, 'l1_ratio': 0.31883575203896664, 'alpha': 0.0009592179174882873}. Best is trial 0 with value: 0.09159165610964941.\n"
     ]
    },
    {
     "name": "stdout",
     "output_type": "stream",
     "text": [
      "SLIMElasticNetRecommender: Processed 30864 (81.0%) in 5.00 min. Items per second: 102.88\n",
      "SLIMElasticNetRecommender: Processed 38121 (100.0%) in 6.07 min. Items per second: 104.74\n",
      "EvaluatorHoldout: Processed 34728 (100.0%) in 8.70 sec. Users per second: 3991\n"
     ]
    },
    {
     "name": "stderr",
     "output_type": "stream",
     "text": [
      "[I 2024-12-26 17:37:29,449] Trial 1 finished with value: 0.10823893732658425 and parameters: {'topK': 305, 'l1_ratio': 0.35737699464954387, 'alpha': 0.0005506592354802661}. Best is trial 1 with value: 0.10823893732658425.\n"
     ]
    },
    {
     "name": "stdout",
     "output_type": "stream",
     "text": [
      "SLIMElasticNetRecommender: Processed 34145 (89.6%) in 5.00 min. Items per second: 113.81\n",
      "SLIMElasticNetRecommender: Processed 38121 (100.0%) in 5.57 min. Items per second: 114.01\n",
      "EvaluatorHoldout: Processed 34728 (100.0%) in 8.39 sec. Users per second: 4137\n"
     ]
    },
    {
     "name": "stderr",
     "output_type": "stream",
     "text": [
      "[I 2024-12-26 17:43:12,247] Trial 2 finished with value: 0.1045040676135953 and parameters: {'topK': 298, 'l1_ratio': 0.3546632505280972, 'alpha': 0.0006271090454560641}. Best is trial 1 with value: 0.10823893732658425.\n"
     ]
    },
    {
     "name": "stdout",
     "output_type": "stream",
     "text": [
      "SLIMElasticNetRecommender: Processed 38121 (100.0%) in 3.67 min. Items per second: 173.18\n",
      "EvaluatorHoldout: Processed 34728 (100.0%) in 8.03 sec. Users per second: 4323\n"
     ]
    },
    {
     "name": "stderr",
     "output_type": "stream",
     "text": [
      "[I 2024-12-26 17:47:00,425] Trial 3 finished with value: 0.07891859368768889 and parameters: {'topK': 293, 'l1_ratio': 0.5184030201293329, 'alpha': 0.0008074006196942115}. Best is trial 1 with value: 0.10823893732658425.\n"
     ]
    },
    {
     "name": "stdout",
     "output_type": "stream",
     "text": [
      "SLIMElasticNetRecommender: Processed 13991 (36.7%) in 5.00 min. Items per second: 46.63\n",
      "SLIMElasticNetRecommender: Processed 29405 (77.1%) in 10.00 min. Items per second: 49.01\n",
      "SLIMElasticNetRecommender: Processed 38121 (100.0%) in 12.66 min. Items per second: 50.19\n",
      "EvaluatorHoldout: Processed 34728 (100.0%) in 9.71 sec. Users per second: 3578\n"
     ]
    },
    {
     "name": "stderr",
     "output_type": "stream",
     "text": [
      "[I 2024-12-26 17:59:49,660] Trial 4 finished with value: 0.122105126998114 and parameters: {'topK': 298, 'l1_ratio': 0.15284844972698822, 'alpha': 0.0006264511465138738}. Best is trial 4 with value: 0.122105126998114.\n"
     ]
    },
    {
     "name": "stdout",
     "output_type": "stream",
     "text": [
      "SLIMElasticNetRecommender: Processed 13932 (36.5%) in 5.00 min. Items per second: 46.43\n",
      "SLIMElasticNetRecommender: Processed 29254 (76.7%) in 10.00 min. Items per second: 48.75\n",
      "SLIMElasticNetRecommender: Processed 38121 (100.0%) in 12.75 min. Items per second: 49.82\n",
      "EvaluatorHoldout: Processed 34728 (100.0%) in 9.99 sec. Users per second: 3478\n"
     ]
    },
    {
     "name": "stderr",
     "output_type": "stream",
     "text": [
      "[I 2024-12-26 18:12:44,855] Trial 5 finished with value: 0.12167908574440654 and parameters: {'topK': 315, 'l1_ratio': 0.10377105962848351, 'alpha': 0.0008632421482758093}. Best is trial 4 with value: 0.122105126998114.\n"
     ]
    },
    {
     "name": "stdout",
     "output_type": "stream",
     "text": [
      "SLIMElasticNetRecommender: Processed 38121 (100.0%) in 3.73 min. Items per second: 170.48\n",
      "EvaluatorHoldout: Processed 34728 (100.0%) in 8.08 sec. Users per second: 4296\n"
     ]
    },
    {
     "name": "stderr",
     "output_type": "stream",
     "text": [
      "[I 2024-12-26 18:16:36,573] Trial 6 finished with value: 0.0815254612770203 and parameters: {'topK': 294, 'l1_ratio': 0.4568366018504616, 'alpha': 0.0008530032629893787}. Best is trial 4 with value: 0.122105126998114.\n"
     ]
    },
    {
     "name": "stdout",
     "output_type": "stream",
     "text": [
      "SLIMElasticNetRecommender: Processed 17476 (45.8%) in 5.00 min. Items per second: 58.25\n",
      "SLIMElasticNetRecommender: Processed 37055 (97.2%) in 10.00 min. Items per second: 61.76\n",
      "SLIMElasticNetRecommender: Processed 38121 (100.0%) in 10.30 min. Items per second: 61.66\n",
      "EvaluatorHoldout: Processed 34728 (100.0%) in 9.40 sec. Users per second: 3696\n"
     ]
    },
    {
     "name": "stderr",
     "output_type": "stream",
     "text": [
      "[I 2024-12-26 18:27:04,259] Trial 7 finished with value: 0.11982308584790369 and parameters: {'topK': 315, 'l1_ratio': 0.22909066874398973, 'alpha': 0.0005034283007554682}. Best is trial 4 with value: 0.122105126998114.\n"
     ]
    },
    {
     "name": "stdout",
     "output_type": "stream",
     "text": [
      "SLIMElasticNetRecommender: Processed 38121 (100.0%) in 4.82 min. Items per second: 131.71\n",
      "EvaluatorHoldout: Processed 34728 (100.0%) in 8.39 sec. Users per second: 4139\n"
     ]
    },
    {
     "name": "stderr",
     "output_type": "stream",
     "text": [
      "[I 2024-12-26 18:32:02,097] Trial 8 finished with value: 0.09703688402782852 and parameters: {'topK': 293, 'l1_ratio': 0.4413273200028971, 'alpha': 0.0006188881212654162}. Best is trial 4 with value: 0.122105126998114.\n"
     ]
    },
    {
     "name": "stdout",
     "output_type": "stream",
     "text": [
      "SLIMElasticNetRecommender: Processed 36051 (94.6%) in 5.00 min. Items per second: 120.16\n",
      "SLIMElasticNetRecommender: Processed 38121 (100.0%) in 5.29 min. Items per second: 120.13\n",
      "EvaluatorHoldout: Processed 34728 (100.0%) in 8.47 sec. Users per second: 4100\n"
     ]
    },
    {
     "name": "stderr",
     "output_type": "stream",
     "text": [
      "[I 2024-12-26 18:37:27,915] Trial 9 finished with value: 0.1031097457304886 and parameters: {'topK': 319, 'l1_ratio': 0.3826995458157304, 'alpha': 0.0006053802704323193}. Best is trial 4 with value: 0.122105126998114.\n"
     ]
    },
    {
     "name": "stdout",
     "output_type": "stream",
     "text": [
      "SLIMElasticNetRecommender: Processed 9647 (25.3%) in 5.00 min. Items per second: 32.15\n",
      "SLIMElasticNetRecommender: Processed 18934 (49.7%) in 10.00 min. Items per second: 31.55\n",
      "SLIMElasticNetRecommender: Processed 28664 (75.2%) in 15.00 min. Items per second: 31.85\n",
      "SLIMElasticNetRecommender: Processed 38121 (100.0%) in 19.74 min. Items per second: 32.19\n",
      "EvaluatorHoldout: Processed 34728 (100.0%) in 15.03 sec. Users per second: 2310\n"
     ]
    },
    {
     "name": "stderr",
     "output_type": "stream",
     "text": [
      "[I 2024-12-26 18:57:27,260] Trial 10 finished with value: 0.1268838134774313 and parameters: {'topK': 302, 'l1_ratio': 0.10008044974923389, 'alpha': 0.0001990750826053348}. Best is trial 10 with value: 0.1268838134774313.\n"
     ]
    },
    {
     "name": "stdout",
     "output_type": "stream",
     "text": [
      "SLIMElasticNetRecommender: Processed 8806 (23.1%) in 5.00 min. Items per second: 29.35\n",
      "SLIMElasticNetRecommender: Processed 17699 (46.4%) in 10.00 min. Items per second: 29.49\n",
      "SLIMElasticNetRecommender: Processed 26863 (70.5%) in 15.00 min. Items per second: 29.84\n",
      "SLIMElasticNetRecommender: Processed 36085 (94.7%) in 20.00 min. Items per second: 30.07\n",
      "SLIMElasticNetRecommender: Processed 38121 (100.0%) in 21.12 min. Items per second: 30.08\n",
      "EvaluatorHoldout: Processed 34728 (100.0%) in 14.62 sec. Users per second: 2375\n"
     ]
    },
    {
     "name": "stderr",
     "output_type": "stream",
     "text": [
      "[I 2024-12-26 19:18:49,351] Trial 11 finished with value: 0.12458014631809836 and parameters: {'topK': 303, 'l1_ratio': 0.11980498919950627, 'alpha': 0.00010931670217446038}. Best is trial 10 with value: 0.1268838134774313.\n"
     ]
    },
    {
     "name": "stdout",
     "output_type": "stream",
     "text": [
      "SLIMElasticNetRecommender: Processed 9555 (25.1%) in 5.00 min. Items per second: 31.84\n",
      "SLIMElasticNetRecommender: Processed 19131 (50.2%) in 10.00 min. Items per second: 31.88\n",
      "SLIMElasticNetRecommender: Processed 28543 (74.9%) in 15.00 min. Items per second: 31.71\n",
      "SLIMElasticNetRecommender: Processed 38077 (99.9%) in 20.00 min. Items per second: 31.73\n",
      "SLIMElasticNetRecommender: Processed 38121 (100.0%) in 20.03 min. Items per second: 31.73\n",
      "EvaluatorHoldout: Processed 34728 (100.0%) in 13.65 sec. Users per second: 2545\n"
     ]
    },
    {
     "name": "stderr",
     "output_type": "stream",
     "text": [
      "[I 2024-12-26 19:39:04,670] Trial 12 finished with value: 0.12615025135665797 and parameters: {'topK': 305, 'l1_ratio': 0.20509684743403317, 'alpha': 0.00012271352758297057}. Best is trial 10 with value: 0.1268838134774313.\n"
     ]
    },
    {
     "name": "stdout",
     "output_type": "stream",
     "text": [
      "SLIMElasticNetRecommender: Processed 9589 (25.2%) in 5.00 min. Items per second: 31.96\n",
      "SLIMElasticNetRecommender: Processed 19322 (50.7%) in 10.00 min. Items per second: 32.20\n",
      "SLIMElasticNetRecommender: Processed 29301 (76.9%) in 15.00 min. Items per second: 32.55\n",
      "SLIMElasticNetRecommender: Processed 38121 (100.0%) in 19.44 min. Items per second: 32.68\n",
      "EvaluatorHoldout: Processed 34728 (100.0%) in 13.45 sec. Users per second: 2582\n"
     ]
    },
    {
     "name": "stderr",
     "output_type": "stream",
     "text": [
      "[I 2024-12-26 19:58:44,739] Trial 13 finished with value: 0.12585277515370363 and parameters: {'topK': 309, 'l1_ratio': 0.22971446300419676, 'alpha': 0.00010911908844596401}. Best is trial 10 with value: 0.1268838134774313.\n"
     ]
    },
    {
     "name": "stdout",
     "output_type": "stream",
     "text": [
      "SLIMElasticNetRecommender: Processed 10877 (28.5%) in 5.00 min. Items per second: 36.25\n",
      "SLIMElasticNetRecommender: Processed 22329 (58.6%) in 10.00 min. Items per second: 37.21\n",
      "SLIMElasticNetRecommender: Processed 34441 (90.3%) in 15.00 min. Items per second: 38.26\n",
      "SLIMElasticNetRecommender: Processed 38121 (100.0%) in 16.58 min. Items per second: 38.31\n",
      "EvaluatorHoldout: Processed 34728 (100.0%) in 10.79 sec. Users per second: 3217\n"
     ]
    },
    {
     "name": "stderr",
     "output_type": "stream",
     "text": [
      "[I 2024-12-26 20:15:30,585] Trial 14 finished with value: 0.12632377240462178 and parameters: {'topK': 302, 'l1_ratio': 0.21147975369555932, 'alpha': 0.0002900155116486614}. Best is trial 10 with value: 0.1268838134774313.\n"
     ]
    },
    {
     "name": "stdout",
     "output_type": "stream",
     "text": [
      "SLIMElasticNetRecommender: Processed 11951 (31.4%) in 5.00 min. Items per second: 39.83\n",
      "SLIMElasticNetRecommender: Processed 24863 (65.2%) in 10.00 min. Items per second: 41.44\n",
      "SLIMElasticNetRecommender: Processed 38121 (100.0%) in 14.94 min. Items per second: 42.53\n",
      "EvaluatorHoldout: Processed 34728 (100.0%) in 9.95 sec. Users per second: 3491\n"
     ]
    },
    {
     "name": "stderr",
     "output_type": "stream",
     "text": [
      "[I 2024-12-26 20:30:36,821] Trial 15 finished with value: 0.12483363030571872 and parameters: {'topK': 301, 'l1_ratio': 0.27940244450860485, 'alpha': 0.00029287423254682114}. Best is trial 10 with value: 0.1268838134774313.\n"
     ]
    },
    {
     "name": "stdout",
     "output_type": "stream",
     "text": [
      "SLIMElasticNetRecommender: Processed 10335 (27.1%) in 5.00 min. Items per second: 34.45\n",
      "SLIMElasticNetRecommender: Processed 20857 (54.7%) in 10.00 min. Items per second: 34.76\n",
      "SLIMElasticNetRecommender: Processed 31429 (82.4%) in 15.00 min. Items per second: 34.92\n",
      "SLIMElasticNetRecommender: Processed 38121 (100.0%) in 18.04 min. Items per second: 35.22\n",
      "EvaluatorHoldout: Processed 34728 (100.0%) in 11.54 sec. Users per second: 3009\n"
     ]
    },
    {
     "name": "stderr",
     "output_type": "stream",
     "text": [
      "[I 2024-12-26 20:48:50,748] Trial 16 finished with value: 0.12708373222658353 and parameters: {'topK': 308, 'l1_ratio': 0.1723649029562786, 'alpha': 0.0002966852831883368}. Best is trial 16 with value: 0.12708373222658353.\n"
     ]
    },
    {
     "name": "stdout",
     "output_type": "stream",
     "text": [
      "SLIMElasticNetRecommender: Processed 10092 (26.5%) in 5.00 min. Items per second: 33.64\n",
      "SLIMElasticNetRecommender: Processed 20336 (53.3%) in 10.00 min. Items per second: 33.89\n",
      "SLIMElasticNetRecommender: Processed 30795 (80.8%) in 15.00 min. Items per second: 34.21\n",
      "SLIMElasticNetRecommender: Processed 38121 (100.0%) in 18.44 min. Items per second: 34.46\n",
      "EvaluatorHoldout: Processed 34728 (100.0%) in 11.49 sec. Users per second: 3023\n"
     ]
    },
    {
     "name": "stderr",
     "output_type": "stream",
     "text": [
      "[I 2024-12-26 21:07:28,535] Trial 17 finished with value: 0.1274918299620158 and parameters: {'topK': 308, 'l1_ratio': 0.15744678871508633, 'alpha': 0.0003095294511018863}. Best is trial 17 with value: 0.1274918299620158.\n"
     ]
    },
    {
     "name": "stdout",
     "output_type": "stream",
     "text": [
      "SLIMElasticNetRecommender: Processed 11244 (29.5%) in 5.00 min. Items per second: 37.47\n",
      "SLIMElasticNetRecommender: Processed 23127 (60.7%) in 10.00 min. Items per second: 38.54\n",
      "SLIMElasticNetRecommender: Processed 35682 (93.6%) in 15.00 min. Items per second: 39.64\n",
      "SLIMElasticNetRecommender: Processed 38121 (100.0%) in 16.02 min. Items per second: 39.66\n",
      "EvaluatorHoldout: Processed 34728 (100.0%) in 10.50 sec. Users per second: 3308\n"
     ]
    },
    {
     "name": "stderr",
     "output_type": "stream",
     "text": [
      "[I 2024-12-26 21:23:40,287] Trial 18 finished with value: 0.12591862125752035 and parameters: {'topK': 309, 'l1_ratio': 0.16489525950053752, 'alpha': 0.00041582687392404}. Best is trial 17 with value: 0.1274918299620158.\n"
     ]
    },
    {
     "name": "stdout",
     "output_type": "stream",
     "text": [
      "SLIMElasticNetRecommender: Processed 14079 (36.9%) in 5.00 min. Items per second: 46.92\n",
      "SLIMElasticNetRecommender: Processed 29641 (77.8%) in 10.00 min. Items per second: 49.40\n",
      "SLIMElasticNetRecommender: Processed 38121 (100.0%) in 12.56 min. Items per second: 50.60\n",
      "EvaluatorHoldout: Processed 34728 (100.0%) in 9.41 sec. Users per second: 3690\n"
     ]
    },
    {
     "name": "stderr",
     "output_type": "stream",
     "text": [
      "[I 2024-12-26 21:36:23,059] Trial 19 finished with value: 0.12162461355495743 and parameters: {'topK': 309, 'l1_ratio': 0.27247913510600397, 'alpha': 0.00038710984052731345}. Best is trial 17 with value: 0.1274918299620158.\n"
     ]
    },
    {
     "name": "stdout",
     "output_type": "stream",
     "text": [
      "SLIMElasticNetRecommender: Processed 9373 (24.6%) in 5.00 min. Items per second: 31.24\n",
      "SLIMElasticNetRecommender: Processed 18684 (49.0%) in 10.00 min. Items per second: 31.14\n",
      "SLIMElasticNetRecommender: Processed 28531 (74.8%) in 15.00 min. Items per second: 31.70\n",
      "SLIMElasticNetRecommender: Processed 38121 (100.0%) in 19.85 min. Items per second: 32.01\n",
      "EvaluatorHoldout: Processed 34728 (100.0%) in 12.21 sec. Users per second: 2845\n"
     ]
    },
    {
     "name": "stderr",
     "output_type": "stream",
     "text": [
      "[I 2024-12-26 21:56:26,054] Trial 20 finished with value: 0.127156320202864 and parameters: {'topK': 312, 'l1_ratio': 0.18239785980233342, 'alpha': 0.00027889459537538285}. Best is trial 17 with value: 0.1274918299620158.\n"
     ]
    },
    {
     "name": "stdout",
     "output_type": "stream",
     "text": [
      "SLIMElasticNetRecommender: Processed 9517 (25.0%) in 5.00 min. Items per second: 31.72\n",
      "SLIMElasticNetRecommender: Processed 19028 (49.9%) in 10.00 min. Items per second: 31.71\n",
      "SLIMElasticNetRecommender: Processed 28836 (75.6%) in 15.00 min. Items per second: 32.04\n",
      "SLIMElasticNetRecommender: Processed 38121 (100.0%) in 19.67 min. Items per second: 32.30\n",
      "EvaluatorHoldout: Processed 34728 (100.0%) in 12.41 sec. Users per second: 2799\n"
     ]
    },
    {
     "name": "stderr",
     "output_type": "stream",
     "text": [
      "[I 2024-12-26 22:16:18,889] Trial 21 finished with value: 0.12769698326874276 and parameters: {'topK': 312, 'l1_ratio': 0.16288201380632017, 'alpha': 0.0002790865426581191}. Best is trial 21 with value: 0.12769698326874276.\n"
     ]
    },
    {
     "name": "stdout",
     "output_type": "stream",
     "text": [
      "SLIMElasticNetRecommender: Processed 14608 (38.3%) in 5.00 min. Items per second: 48.69\n",
      "SLIMElasticNetRecommender: Processed 30333 (79.6%) in 10.00 min. Items per second: 50.55\n",
      "SLIMElasticNetRecommender: Processed 38121 (100.0%) in 12.24 min. Items per second: 51.89\n",
      "EvaluatorHoldout: Processed 34728 (100.0%) in 10.09 sec. Users per second: 3443\n"
     ]
    },
    {
     "name": "stderr",
     "output_type": "stream",
     "text": [
      "[I 2024-12-26 22:28:43,628] Trial 22 finished with value: 0.12122652825527765 and parameters: {'topK': 313, 'l1_ratio': 0.27351158613633786, 'alpha': 0.0003993703437193437}. Best is trial 21 with value: 0.12769698326874276.\n"
     ]
    },
    {
     "name": "stdout",
     "output_type": "stream",
     "text": [
      "SLIMElasticNetRecommender: Processed 8913 (23.4%) in 5.00 min. Items per second: 29.70\n",
      "SLIMElasticNetRecommender: Processed 17846 (46.8%) in 10.00 min. Items per second: 29.74\n",
      "SLIMElasticNetRecommender: Processed 27169 (71.3%) in 15.00 min. Items per second: 30.19\n",
      "SLIMElasticNetRecommender: Processed 36524 (95.8%) in 20.00 min. Items per second: 30.43\n",
      "SLIMElasticNetRecommender: Processed 38121 (100.0%) in 20.91 min. Items per second: 30.38\n",
      "EvaluatorHoldout: Processed 34728 (100.0%) in 13.45 sec. Users per second: 2582\n"
     ]
    },
    {
     "name": "stderr",
     "output_type": "stream",
     "text": [
      "[I 2024-12-26 22:49:51,783] Trial 23 finished with value: 0.12766340864666403 and parameters: {'topK': 320, 'l1_ratio': 0.1527515113685262, 'alpha': 0.00022576119312621578}. Best is trial 21 with value: 0.12769698326874276.\n"
     ]
    },
    {
     "name": "stdout",
     "output_type": "stream",
     "text": [
      "SLIMElasticNetRecommender: Processed 9282 (24.3%) in 5.00 min. Items per second: 30.93\n",
      "SLIMElasticNetRecommender: Processed 18523 (48.6%) in 10.00 min. Items per second: 30.87\n",
      "SLIMElasticNetRecommender: Processed 28020 (73.5%) in 15.00 min. Items per second: 31.13\n",
      "SLIMElasticNetRecommender: Processed 37525 (98.4%) in 20.00 min. Items per second: 31.27\n",
      "SLIMElasticNetRecommender: Processed 38121 (100.0%) in 20.33 min. Items per second: 31.26\n",
      "EvaluatorHoldout: Processed 34728 (100.0%) in 13.34 sec. Users per second: 2602\n"
     ]
    },
    {
     "name": "stderr",
     "output_type": "stream",
     "text": [
      "[I 2024-12-26 23:10:24,837] Trial 24 finished with value: 0.1272799352355017 and parameters: {'topK': 320, 'l1_ratio': 0.13761583884071943, 'alpha': 0.00020077847289624694}. Best is trial 21 with value: 0.12769698326874276.\n"
     ]
    },
    {
     "name": "stdout",
     "output_type": "stream",
     "text": [
      "SLIMElasticNetRecommender: Processed 16624 (43.6%) in 5.00 min. Items per second: 55.41\n",
      "SLIMElasticNetRecommender: Processed 35139 (92.2%) in 10.00 min. Items per second: 58.56\n",
      "SLIMElasticNetRecommender: Processed 38121 (100.0%) in 10.86 min. Items per second: 58.53\n",
      "EvaluatorHoldout: Processed 34728 (100.0%) in 9.32 sec. Users per second: 3728\n"
     ]
    },
    {
     "name": "stderr",
     "output_type": "stream",
     "text": [
      "[I 2024-12-26 23:21:25,514] Trial 25 finished with value: 0.12033816116729529 and parameters: {'topK': 318, 'l1_ratio': 0.569994707035221, 'alpha': 0.00021617267092378988}. Best is trial 21 with value: 0.12769698326874276.\n"
     ]
    },
    {
     "name": "stdout",
     "output_type": "stream",
     "text": [
      "SLIMElasticNetRecommender: Processed 13131 (34.4%) in 5.00 min. Items per second: 43.76\n",
      "SLIMElasticNetRecommender: Processed 27778 (72.9%) in 10.00 min. Items per second: 46.29\n",
      "SLIMElasticNetRecommender: Processed 38121 (100.0%) in 13.33 min. Items per second: 47.66\n",
      "EvaluatorHoldout: Processed 34728 (100.0%) in 10.04 sec. Users per second: 3459\n"
     ]
    },
    {
     "name": "stderr",
     "output_type": "stream",
     "text": [
      "[I 2024-12-26 23:34:55,437] Trial 26 finished with value: 0.12426817803483789 and parameters: {'topK': 316, 'l1_ratio': 0.23984990696134906, 'alpha': 0.00035819469295015027}. Best is trial 21 with value: 0.12769698326874276.\n"
     ]
    },
    {
     "name": "stdout",
     "output_type": "stream",
     "text": [
      "SLIMElasticNetRecommender: Processed 11314 (29.7%) in 5.00 min. Items per second: 37.71\n",
      "SLIMElasticNetRecommender: Processed 23234 (60.9%) in 10.00 min. Items per second: 38.72\n",
      "SLIMElasticNetRecommender: Processed 35806 (93.9%) in 15.00 min. Items per second: 39.78\n",
      "SLIMElasticNetRecommender: Processed 38121 (100.0%) in 15.97 min. Items per second: 39.79\n",
      "EvaluatorHoldout: Processed 34728 (100.0%) in 10.90 sec. Users per second: 3186\n"
     ]
    },
    {
     "name": "stderr",
     "output_type": "stream",
     "text": [
      "[I 2024-12-26 23:51:04,476] Trial 27 finished with value: 0.126161488980674 and parameters: {'topK': 317, 'l1_ratio': 0.14644570300426116, 'alpha': 0.000460566898486279}. Best is trial 21 with value: 0.12769698326874276.\n"
     ]
    },
    {
     "name": "stdout",
     "output_type": "stream",
     "text": [
      "SLIMElasticNetRecommender: Processed 9888 (25.9%) in 5.00 min. Items per second: 32.95\n",
      "SLIMElasticNetRecommender: Processed 19894 (52.2%) in 10.00 min. Items per second: 33.15\n",
      "SLIMElasticNetRecommender: Processed 30073 (78.9%) in 15.00 min. Items per second: 33.41\n",
      "SLIMElasticNetRecommender: Processed 38121 (100.0%) in 18.98 min. Items per second: 33.48\n",
      "EvaluatorHoldout: Processed 34728 (100.0%) in 12.55 sec. Users per second: 2768\n"
     ]
    },
    {
     "name": "stderr",
     "output_type": "stream",
     "text": [
      "[I 2024-12-27 00:10:15,701] Trial 28 finished with value: 0.12746807612064717 and parameters: {'topK': 306, 'l1_ratio': 0.18625514888311115, 'alpha': 0.00020721698169752257}. Best is trial 21 with value: 0.12769698326874276.\n"
     ]
    },
    {
     "name": "stdout",
     "output_type": "stream",
     "text": [
      "SLIMElasticNetRecommender: Processed 35306 (92.6%) in 5.00 min. Items per second: 117.68\n",
      "SLIMElasticNetRecommender: Processed 38121 (100.0%) in 5.41 min. Items per second: 117.41\n",
      "EvaluatorHoldout: Processed 34728 (100.0%) in 9.00 sec. Users per second: 3859\n"
     ]
    },
    {
     "name": "stderr",
     "output_type": "stream",
     "text": [
      "[I 2024-12-27 00:15:49,410] Trial 29 finished with value: 0.10210455470314123 and parameters: {'topK': 312, 'l1_ratio': 0.3226769210589325, 'alpha': 0.0007292626987775979}. Best is trial 21 with value: 0.12769698326874276.\n"
     ]
    },
    {
     "name": "stdout",
     "output_type": "stream",
     "text": [
      "SLIMElasticNetRecommender: Processed 36309 (95.2%) in 5.00 min. Items per second: 121.03\n",
      "SLIMElasticNetRecommender: Processed 38121 (100.0%) in 5.25 min. Items per second: 121.00\n",
      "EvaluatorHoldout: Processed 34728 (100.0%) in 8.68 sec. Users per second: 4001\n"
     ]
    },
    {
     "name": "stderr",
     "output_type": "stream",
     "text": [
      "[I 2024-12-27 00:21:13,171] Trial 30 finished with value: 0.09912937406511504 and parameters: {'topK': 313, 'l1_ratio': 0.25093372506388667, 'alpha': 0.0009967772061324478}. Best is trial 21 with value: 0.12769698326874276.\n"
     ]
    },
    {
     "name": "stdout",
     "output_type": "stream",
     "text": [
      "SLIMElasticNetRecommender: Processed 9255 (24.3%) in 5.00 min. Items per second: 30.85\n",
      "SLIMElasticNetRecommender: Processed 18766 (49.2%) in 10.00 min. Items per second: 31.27\n",
      "SLIMElasticNetRecommender: Processed 28671 (75.2%) in 15.00 min. Items per second: 31.85\n",
      "SLIMElasticNetRecommender: Processed 38121 (100.0%) in 19.90 min. Items per second: 31.92\n",
      "EvaluatorHoldout: Processed 34728 (100.0%) in 12.97 sec. Users per second: 2677\n"
     ]
    },
    {
     "name": "stderr",
     "output_type": "stream",
     "text": [
      "[I 2024-12-27 00:41:20,272] Trial 31 finished with value: 0.1275103213383772 and parameters: {'topK': 306, 'l1_ratio': 0.18956032632462866, 'alpha': 0.00022664769195041763}. Best is trial 21 with value: 0.12769698326874276.\n"
     ]
    },
    {
     "name": "stdout",
     "output_type": "stream",
     "text": [
      "SLIMElasticNetRecommender: Processed 8766 (23.0%) in 5.00 min. Items per second: 29.21\n",
      "SLIMElasticNetRecommender: Processed 18210 (47.8%) in 10.00 min. Items per second: 30.35\n",
      "SLIMElasticNetRecommender: Processed 27914 (73.2%) in 15.00 min. Items per second: 31.01\n",
      "SLIMElasticNetRecommender: Processed 37544 (98.5%) in 20.00 min. Items per second: 31.28\n",
      "SLIMElasticNetRecommender: Processed 38121 (100.0%) in 20.32 min. Items per second: 31.27\n",
      "EvaluatorHoldout: Processed 34728 (100.0%) in 13.33 sec. Users per second: 2605\n"
     ]
    },
    {
     "name": "stderr",
     "output_type": "stream",
     "text": [
      "[I 2024-12-27 01:01:52,769] Trial 32 finished with value: 0.12782395195583138 and parameters: {'topK': 306, 'l1_ratio': 0.13560214677533494, 'alpha': 0.0002405647261039481}. Best is trial 32 with value: 0.12782395195583138.\n"
     ]
    },
    {
     "name": "stdout",
     "output_type": "stream",
     "text": [
      "SLIMElasticNetRecommender: Processed 8758 (23.0%) in 5.00 min. Items per second: 29.19\n",
      "SLIMElasticNetRecommender: Processed 17805 (46.7%) in 10.00 min. Items per second: 29.67\n",
      "SLIMElasticNetRecommender: Processed 27061 (71.0%) in 15.00 min. Items per second: 30.06\n",
      "SLIMElasticNetRecommender: Processed 36378 (95.4%) in 20.00 min. Items per second: 30.31\n",
      "SLIMElasticNetRecommender: Processed 38121 (100.0%) in 20.98 min. Items per second: 30.28\n",
      "EvaluatorHoldout: Processed 34728 (100.0%) in 15.25 sec. Users per second: 2278\n"
     ]
    },
    {
     "name": "stderr",
     "output_type": "stream",
     "text": [
      "[I 2024-12-27 01:23:06,934] Trial 33 finished with value: 0.1267817432582785 and parameters: {'topK': 305, 'l1_ratio': 0.12972660246379325, 'alpha': 0.0001655981872736202}. Best is trial 32 with value: 0.12782395195583138.\n"
     ]
    },
    {
     "name": "stdout",
     "output_type": "stream",
     "text": [
      "SLIMElasticNetRecommender: Processed 9558 (25.1%) in 5.00 min. Items per second: 31.85\n",
      "SLIMElasticNetRecommender: Processed 19191 (50.3%) in 10.00 min. Items per second: 31.98\n",
      "SLIMElasticNetRecommender: Processed 29180 (76.5%) in 15.00 min. Items per second: 32.42\n",
      "SLIMElasticNetRecommender: Processed 38121 (100.0%) in 19.43 min. Items per second: 32.70\n",
      "EvaluatorHoldout: Processed 34728 (100.0%) in 11.87 sec. Users per second: 2925\n"
     ]
    },
    {
     "name": "stderr",
     "output_type": "stream",
     "text": [
      "[I 2024-12-27 01:42:44,561] Trial 34 finished with value: 0.1272193023842037 and parameters: {'topK': 310, 'l1_ratio': 0.20599468354475187, 'alpha': 0.00024373708370956104}. Best is trial 32 with value: 0.12782395195583138.\n"
     ]
    },
    {
     "name": "stdout",
     "output_type": "stream",
     "text": [
      "SLIMElasticNetRecommender: Processed 9824 (25.8%) in 5.00 min. Items per second: 32.74\n",
      "SLIMElasticNetRecommender: Processed 19808 (52.0%) in 10.00 min. Items per second: 33.01\n",
      "SLIMElasticNetRecommender: Processed 30019 (78.7%) in 15.00 min. Items per second: 33.35\n",
      "SLIMElasticNetRecommender: Processed 38121 (100.0%) in 18.88 min. Items per second: 33.65\n",
      "EvaluatorHoldout: Processed 34728 (100.0%) in 11.59 sec. Users per second: 2998\n"
     ]
    },
    {
     "name": "stderr",
     "output_type": "stream",
     "text": [
      "[I 2024-12-27 02:01:48,879] Trial 35 finished with value: 0.12698213498165764 and parameters: {'topK': 300, 'l1_ratio': 0.32368276897120574, 'alpha': 0.00016297777666952483}. Best is trial 32 with value: 0.12782395195583138.\n"
     ]
    },
    {
     "name": "stdout",
     "output_type": "stream",
     "text": [
      "SLIMElasticNetRecommender: Processed 9541 (25.0%) in 5.00 min. Items per second: 31.80\n",
      "SLIMElasticNetRecommender: Processed 19155 (50.2%) in 10.00 min. Items per second: 31.92\n",
      "SLIMElasticNetRecommender: Processed 29054 (76.2%) in 15.00 min. Items per second: 32.28\n",
      "SLIMElasticNetRecommender: Processed 38121 (100.0%) in 19.57 min. Items per second: 32.46\n",
      "EvaluatorHoldout: Processed 34728 (100.0%) in 12.76 sec. Users per second: 2722\n"
     ]
    },
    {
     "name": "stderr",
     "output_type": "stream",
     "text": [
      "[I 2024-12-27 02:21:35,917] Trial 36 finished with value: 0.12834546893065313 and parameters: {'topK': 296, 'l1_ratio': 0.12395587680972135, 'alpha': 0.00034111784836847204}. Best is trial 36 with value: 0.12834546893065313.\n"
     ]
    },
    {
     "name": "stdout",
     "output_type": "stream",
     "text": [
      "SLIMElasticNetRecommender: Processed 9523 (25.0%) in 5.00 min. Items per second: 31.74\n",
      "SLIMElasticNetRecommender: Processed 19120 (50.2%) in 10.00 min. Items per second: 31.86\n",
      "SLIMElasticNetRecommender: Processed 28979 (76.0%) in 15.00 min. Items per second: 32.20\n",
      "SLIMElasticNetRecommender: Processed 38121 (100.0%) in 19.62 min. Items per second: 32.38\n",
      "EvaluatorHoldout: Processed 34728 (100.0%) in 12.82 sec. Users per second: 2709\n"
     ]
    },
    {
     "name": "stderr",
     "output_type": "stream",
     "text": [
      "[I 2024-12-27 02:41:26,181] Trial 37 finished with value: 0.12841860214324616 and parameters: {'topK': 290, 'l1_ratio': 0.12126495289052339, 'alpha': 0.0003404332101256286}. Best is trial 37 with value: 0.12841860214324616.\n"
     ]
    },
    {
     "name": "stdout",
     "output_type": "stream",
     "text": [
      "SLIMElasticNetRecommender: Processed 10662 (28.0%) in 5.00 min. Items per second: 35.53\n",
      "SLIMElasticNetRecommender: Processed 21817 (57.2%) in 10.00 min. Items per second: 36.36\n",
      "SLIMElasticNetRecommender: Processed 33508 (87.9%) in 15.00 min. Items per second: 37.23\n",
      "SLIMElasticNetRecommender: Processed 38121 (100.0%) in 17.01 min. Items per second: 37.34\n",
      "EvaluatorHoldout: Processed 34728 (100.0%) in 11.41 sec. Users per second: 3045\n"
     ]
    },
    {
     "name": "stderr",
     "output_type": "stream",
     "text": [
      "[I 2024-12-27 02:58:38,479] Trial 38 finished with value: 0.12631771212353898 and parameters: {'topK': 290, 'l1_ratio': 0.11748757103543127, 'alpha': 0.0005231575632939839}. Best is trial 37 with value: 0.12841860214324616.\n"
     ]
    },
    {
     "name": "stdout",
     "output_type": "stream",
     "text": [
      "SLIMElasticNetRecommender: Processed 9304 (24.4%) in 5.00 min. Items per second: 31.01\n",
      "SLIMElasticNetRecommender: Processed 18619 (48.8%) in 10.00 min. Items per second: 31.03\n",
      "SLIMElasticNetRecommender: Processed 28265 (74.1%) in 15.00 min. Items per second: 31.40\n",
      "SLIMElasticNetRecommender: Processed 37856 (99.3%) in 20.00 min. Items per second: 31.54\n",
      "SLIMElasticNetRecommender: Processed 38121 (100.0%) in 20.15 min. Items per second: 31.53\n",
      "EvaluatorHoldout: Processed 34728 (100.0%) in 13.08 sec. Users per second: 2655\n"
     ]
    },
    {
     "name": "stderr",
     "output_type": "stream",
     "text": [
      "[I 2024-12-27 03:19:00,515] Trial 39 finished with value: 0.12847468195701361 and parameters: {'topK': 296, 'l1_ratio': 0.10442943478590742, 'alpha': 0.00035921608889258387}. Best is trial 39 with value: 0.12847468195701361.\n"
     ]
    },
    {
     "name": "stdout",
     "output_type": "stream",
     "text": [
      "SLIMElasticNetRecommender: Processed 9963 (26.1%) in 5.00 min. Items per second: 33.21\n",
      "SLIMElasticNetRecommender: Processed 20099 (52.7%) in 10.00 min. Items per second: 33.50\n",
      "SLIMElasticNetRecommender: Processed 30367 (79.7%) in 15.00 min. Items per second: 33.74\n",
      "SLIMElasticNetRecommender: Processed 38121 (100.0%) in 18.70 min. Items per second: 33.98\n",
      "EvaluatorHoldout: Processed 34728 (100.0%) in 12.28 sec. Users per second: 2827\n"
     ]
    },
    {
     "name": "stderr",
     "output_type": "stream",
     "text": [
      "[I 2024-12-27 03:37:54,732] Trial 40 finished with value: 0.12750895811088764 and parameters: {'topK': 290, 'l1_ratio': 0.10400299835234164, 'alpha': 0.0004700803090173112}. Best is trial 39 with value: 0.12847468195701361.\n"
     ]
    },
    {
     "name": "stdout",
     "output_type": "stream",
     "text": [
      "SLIMElasticNetRecommender: Processed 9683 (25.4%) in 5.00 min. Items per second: 32.27\n",
      "SLIMElasticNetRecommender: Processed 19451 (51.0%) in 10.00 min. Items per second: 32.41\n",
      "SLIMElasticNetRecommender: Processed 29452 (77.3%) in 15.00 min. Items per second: 32.72\n",
      "SLIMElasticNetRecommender: Processed 38121 (100.0%) in 19.31 min. Items per second: 32.90\n",
      "EvaluatorHoldout: Processed 34728 (100.0%) in 12.70 sec. Users per second: 2735\n"
     ]
    },
    {
     "name": "stderr",
     "output_type": "stream",
     "text": [
      "[I 2024-12-27 03:57:26,188] Trial 41 finished with value: 0.12813455889941117 and parameters: {'topK': 296, 'l1_ratio': 0.13121807453490958, 'alpha': 0.0003351413665528836}. Best is trial 39 with value: 0.12847468195701361.\n"
     ]
    },
    {
     "name": "stdout",
     "output_type": "stream",
     "text": [
      "SLIMElasticNetRecommender: Processed 9688 (25.4%) in 5.00 min. Items per second: 32.29\n",
      "SLIMElasticNetRecommender: Processed 19455 (51.0%) in 10.00 min. Items per second: 32.42\n",
      "SLIMElasticNetRecommender: Processed 29494 (77.4%) in 15.00 min. Items per second: 32.77\n",
      "SLIMElasticNetRecommender: Processed 38121 (100.0%) in 19.26 min. Items per second: 32.99\n",
      "EvaluatorHoldout: Processed 34728 (100.0%) in 12.62 sec. Users per second: 2752\n"
     ]
    },
    {
     "name": "stderr",
     "output_type": "stream",
     "text": [
      "[I 2024-12-27 04:16:54,464] Trial 42 finished with value: 0.12824217903896107 and parameters: {'topK': 296, 'l1_ratio': 0.12591989543994403, 'alpha': 0.00034741129605040885}. Best is trial 39 with value: 0.12847468195701361.\n"
     ]
    },
    {
     "name": "stdout",
     "output_type": "stream",
     "text": [
      "SLIMElasticNetRecommender: Processed 9520 (25.0%) in 5.00 min. Items per second: 31.73\n",
      "SLIMElasticNetRecommender: Processed 19087 (50.1%) in 10.00 min. Items per second: 31.81\n",
      "SLIMElasticNetRecommender: Processed 28936 (75.9%) in 15.00 min. Items per second: 32.15\n",
      "SLIMElasticNetRecommender: Processed 38121 (100.0%) in 19.69 min. Items per second: 32.26\n",
      "EvaluatorHoldout: Processed 34728 (100.0%) in 13.44 sec. Users per second: 2584\n"
     ]
    },
    {
     "name": "stderr",
     "output_type": "stream",
     "text": [
      "[I 2024-12-27 04:36:49,610] Trial 43 finished with value: 0.1282845017243157 and parameters: {'topK': 296, 'l1_ratio': 0.1022892550927377, 'alpha': 0.00034829777642522697}. Best is trial 39 with value: 0.12847468195701361.\n"
     ]
    },
    {
     "name": "stdout",
     "output_type": "stream",
     "text": [
      "SLIMElasticNetRecommender: Processed 9865 (25.9%) in 5.00 min. Items per second: 32.88\n",
      "SLIMElasticNetRecommender: Processed 19905 (52.2%) in 10.00 min. Items per second: 33.17\n",
      "SLIMElasticNetRecommender: Processed 30072 (78.9%) in 15.00 min. Items per second: 33.41\n",
      "SLIMElasticNetRecommender: Processed 38121 (100.0%) in 18.86 min. Items per second: 33.68\n",
      "EvaluatorHoldout: Processed 34728 (100.0%) in 12.35 sec. Users per second: 2813\n"
     ]
    },
    {
     "name": "stderr",
     "output_type": "stream",
     "text": [
      "[I 2024-12-27 04:55:53,693] Trial 44 finished with value: 0.12786156019518502 and parameters: {'topK': 296, 'l1_ratio': 0.10204266570669854, 'alpha': 0.00044290848564784523}. Best is trial 39 with value: 0.12847468195701361.\n"
     ]
    },
    {
     "name": "stdout",
     "output_type": "stream",
     "text": [
      "SLIMElasticNetRecommender: Processed 11019 (28.9%) in 5.00 min. Items per second: 36.73\n",
      "SLIMElasticNetRecommender: Processed 22745 (59.7%) in 10.00 min. Items per second: 37.91\n",
      "SLIMElasticNetRecommender: Processed 35266 (92.5%) in 15.00 min. Items per second: 39.18\n",
      "SLIMElasticNetRecommender: Processed 38121 (100.0%) in 16.20 min. Items per second: 39.22\n",
      "EvaluatorHoldout: Processed 34728 (100.0%) in 10.74 sec. Users per second: 3234\n"
     ]
    },
    {
     "name": "stderr",
     "output_type": "stream",
     "text": [
      "[I 2024-12-27 05:12:16,469] Trial 45 finished with value: 0.12562195801827192 and parameters: {'topK': 292, 'l1_ratio': 0.12083215555165987, 'alpha': 0.0005626071321503195}. Best is trial 39 with value: 0.12847468195701361.\n"
     ]
    },
    {
     "name": "stdout",
     "output_type": "stream",
     "text": [
      "SLIMElasticNetRecommender: Processed 26862 (70.5%) in 5.00 min. Items per second: 89.53\n",
      "SLIMElasticNetRecommender: Processed 38121 (100.0%) in 6.97 min. Items per second: 91.11\n",
      "EvaluatorHoldout: Processed 34728 (100.0%) in 8.71 sec. Users per second: 3986\n"
     ]
    },
    {
     "name": "stderr",
     "output_type": "stream",
     "text": [
      "[I 2024-12-27 05:19:23,629] Trial 46 finished with value: 0.11307480873160995 and parameters: {'topK': 297, 'l1_ratio': 0.48950922085843473, 'alpha': 0.0003511426218295371}. Best is trial 39 with value: 0.12847468195701361.\n"
     ]
    },
    {
     "name": "stdout",
     "output_type": "stream",
     "text": [
      "SLIMElasticNetRecommender: Processed 20540 (53.9%) in 5.00 min. Items per second: 68.46\n",
      "SLIMElasticNetRecommender: Processed 38121 (100.0%) in 8.95 min. Items per second: 70.96\n",
      "EvaluatorHoldout: Processed 34728 (100.0%) in 9.01 sec. Users per second: 3854\n"
     ]
    },
    {
     "name": "stderr",
     "output_type": "stream",
     "text": [
      "[I 2024-12-27 05:28:29,916] Trial 47 finished with value: 0.11760971051924732 and parameters: {'topK': 299, 'l1_ratio': 0.3692070457655903, 'alpha': 0.00037509924852049774}. Best is trial 39 with value: 0.12847468195701361.\n"
     ]
    },
    {
     "name": "stdout",
     "output_type": "stream",
     "text": [
      "SLIMElasticNetRecommender: Processed 10551 (27.7%) in 5.00 min. Items per second: 35.16\n",
      "SLIMElasticNetRecommender: Processed 21339 (56.0%) in 10.00 min. Items per second: 35.56\n",
      "SLIMElasticNetRecommender: Processed 32354 (84.9%) in 15.00 min. Items per second: 35.95\n",
      "SLIMElasticNetRecommender: Processed 38121 (100.0%) in 17.58 min. Items per second: 36.14\n",
      "EvaluatorHoldout: Processed 34728 (100.0%) in 11.43 sec. Users per second: 3040\n"
     ]
    },
    {
     "name": "stderr",
     "output_type": "stream",
     "text": [
      "[I 2024-12-27 05:46:16,135] Trial 48 finished with value: 0.12723687049560442 and parameters: {'topK': 294, 'l1_ratio': 0.10593792269086898, 'alpha': 0.0004898304562590987}. Best is trial 39 with value: 0.12847468195701361.\n"
     ]
    },
    {
     "name": "stdout",
     "output_type": "stream",
     "text": [
      "SLIMElasticNetRecommender: Processed 14564 (38.2%) in 5.00 min. Items per second: 48.54\n",
      "SLIMElasticNetRecommender: Processed 30547 (80.1%) in 10.00 min. Items per second: 50.91\n",
      "SLIMElasticNetRecommender: Processed 38121 (100.0%) in 12.23 min. Items per second: 51.97\n",
      "EvaluatorHoldout: Processed 34728 (100.0%) in 9.65 sec. Users per second: 3597\n"
     ]
    },
    {
     "name": "stderr",
     "output_type": "stream",
     "text": [
      "[I 2024-12-27 05:58:39,352] Trial 49 finished with value: 0.12080997444756088 and parameters: {'topK': 292, 'l1_ratio': 0.14722380545484023, 'alpha': 0.0006880839085743481}. Best is trial 39 with value: 0.12847468195701361.\n"
     ]
    },
    {
     "name": "stdout",
     "output_type": "stream",
     "text": [
      "SLIMElasticNetRecommender: Processed 8923 (23.4%) in 21.06 min. Items per second: 7.06\n",
      "SLIMElasticNetRecommender: Processed 9179 (24.1%) in 37.61 min. Items per second: 4.07\n",
      "SLIMElasticNetRecommender: Processed 9400 (24.7%) in 53.58 min. Items per second: 2.92\n",
      "SLIMElasticNetRecommender: Processed 9623 (25.2%) in 1.15 hour. Items per second: 2.33\n",
      "SLIMElasticNetRecommender: Processed 10394 (27.3%) in 1.27 hour. Items per second: 2.27\n",
      "SLIMElasticNetRecommender: Processed 11037 (29.0%) in 1.57 hour. Items per second: 1.95\n",
      "SLIMElasticNetRecommender: Processed 11262 (29.5%) in 1.87 hour. Items per second: 1.67\n",
      "SLIMElasticNetRecommender: Processed 11480 (30.1%) in 2.13 hour. Items per second: 1.49\n",
      "SLIMElasticNetRecommender: Processed 11705 (30.7%) in 2.43 hour. Items per second: 1.34\n",
      "SLIMElasticNetRecommender: Processed 11934 (31.3%) in 2.69 hour. Items per second: 1.23\n",
      "SLIMElasticNetRecommender: Processed 12183 (32.0%) in 2.98 hour. Items per second: 1.14\n",
      "SLIMElasticNetRecommender: Processed 12412 (32.6%) in 3.16 hour. Items per second: 1.09\n",
      "SLIMElasticNetRecommender: Processed 13113 (34.4%) in 3.44 hour. Items per second: 1.06\n",
      "SLIMElasticNetRecommender: Processed 13355 (35.0%) in 3.73 hour. Items per second: 1.00\n",
      "SLIMElasticNetRecommender: Processed 13624 (35.7%) in 4.01 hour. Items per second: 0.94\n",
      "SLIMElasticNetRecommender: Processed 13867 (36.4%) in 4.18 hour. Items per second: 0.92\n",
      "SLIMElasticNetRecommender: Processed 14840 (38.9%) in 4.47 hour. Items per second: 0.92\n",
      "SLIMElasticNetRecommender: Processed 15110 (39.6%) in 4.77 hour. Items per second: 0.88\n",
      "SLIMElasticNetRecommender: Processed 15389 (40.4%) in 5.04 hour. Items per second: 0.85\n",
      "SLIMElasticNetRecommender: Processed 15638 (41.0%) in 5.20 hour. Items per second: 0.84\n",
      "SLIMElasticNetRecommender: Processed 16768 (44.0%) in 5.50 hour. Items per second: 0.85\n",
      "SLIMElasticNetRecommender: Processed 16968 (44.5%) in 5.77 hour. Items per second: 0.82\n",
      "SLIMElasticNetRecommender: Processed 17213 (45.2%) in 6.03 hour. Items per second: 0.79\n",
      "SLIMElasticNetRecommender: Processed 17424 (45.7%) in 6.21 hour. Items per second: 0.78\n",
      "SLIMElasticNetRecommender: Processed 18493 (48.5%) in 6.51 hour. Items per second: 0.79\n",
      "SLIMElasticNetRecommender: Processed 18767 (49.2%) in 6.78 hour. Items per second: 0.77\n",
      "SLIMElasticNetRecommender: Processed 19016 (49.9%) in 7.07 hour. Items per second: 0.75\n",
      "SLIMElasticNetRecommender: Processed 19324 (50.7%) in 7.23 hour. Items per second: 0.74\n",
      "SLIMElasticNetRecommender: Processed 20450 (53.6%) in 7.53 hour. Items per second: 0.75\n",
      "SLIMElasticNetRecommender: Processed 20687 (54.3%) in 7.81 hour. Items per second: 0.74\n",
      "SLIMElasticNetRecommender: Processed 20966 (55.0%) in 8.11 hour. Items per second: 0.72\n",
      "SLIMElasticNetRecommender: Processed 21208 (55.6%) in 8.25 hour. Items per second: 0.71\n",
      "SLIMElasticNetRecommender: Processed 22639 (59.4%) in 8.51 hour. Items per second: 0.74\n",
      "SLIMElasticNetRecommender: Processed 22888 (60.0%) in 8.77 hour. Items per second: 0.72\n",
      "SLIMElasticNetRecommender: Processed 23135 (60.7%) in 9.04 hour. Items per second: 0.71\n",
      "SLIMElasticNetRecommender: Processed 23372 (61.3%) in 9.26 hour. Items per second: 0.70\n",
      "SLIMElasticNetRecommender: Processed 24895 (65.3%) in 9.49 hour. Items per second: 0.73\n",
      "SLIMElasticNetRecommender: Processed 27231 (71.4%) in 9.77 hour. Items per second: 0.77\n",
      "SLIMElasticNetRecommender: Processed 27472 (72.1%) in 10.04 hour. Items per second: 0.76\n",
      "SLIMElasticNetRecommender: Processed 27714 (72.7%) in 10.28 hour. Items per second: 0.75\n",
      "SLIMElasticNetRecommender: Processed 28498 (74.8%) in 10.55 hour. Items per second: 0.75\n",
      "SLIMElasticNetRecommender: Processed 28798 (75.5%) in 10.83 hour. Items per second: 0.74\n",
      "SLIMElasticNetRecommender: Processed 29110 (76.4%) in 11.09 hour. Items per second: 0.73\n",
      "SLIMElasticNetRecommender: Processed 29338 (77.0%) in 11.30 hour. Items per second: 0.72\n",
      "SLIMElasticNetRecommender: Processed 30826 (80.9%) in 11.57 hour. Items per second: 0.74\n",
      "SLIMElasticNetRecommender: Processed 31075 (81.5%) in 11.84 hour. Items per second: 0.73\n",
      "SLIMElasticNetRecommender: Processed 31435 (82.5%) in 12.13 hour. Items per second: 0.72\n",
      "SLIMElasticNetRecommender: Processed 31706 (83.2%) in 12.31 hour. Items per second: 0.72\n",
      "SLIMElasticNetRecommender: Processed 32829 (86.1%) in 12.60 hour. Items per second: 0.72\n",
      "SLIMElasticNetRecommender: Processed 33128 (86.9%) in 12.85 hour. Items per second: 0.72\n",
      "SLIMElasticNetRecommender: Processed 33413 (87.6%) in 13.13 hour. Items per second: 0.71\n",
      "SLIMElasticNetRecommender: Processed 33702 (88.4%) in 13.33 hour. Items per second: 0.70\n",
      "SLIMElasticNetRecommender: Processed 34752 (91.2%) in 13.61 hour. Items per second: 0.71\n",
      "SLIMElasticNetRecommender: Processed 35010 (91.8%) in 13.87 hour. Items per second: 0.70\n",
      "SLIMElasticNetRecommender: Processed 35270 (92.5%) in 14.13 hour. Items per second: 0.69\n",
      "SLIMElasticNetRecommender: Processed 35531 (93.2%) in 14.35 hour. Items per second: 0.69\n",
      "SLIMElasticNetRecommender: Processed 35988 (94.4%) in 14.61 hour. Items per second: 0.68\n",
      "SLIMElasticNetRecommender: Processed 36232 (95.0%) in 14.88 hour. Items per second: 0.68\n",
      "SLIMElasticNetRecommender: Processed 36483 (95.7%) in 15.16 hour. Items per second: 0.67\n",
      "SLIMElasticNetRecommender: Processed 36738 (96.4%) in 15.37 hour. Items per second: 0.66\n",
      "SLIMElasticNetRecommender: Processed 37866 (99.3%) in 15.47 hour. Items per second: 0.68\n",
      "SLIMElasticNetRecommender: Processed 38121 (100.0%) in 15.48 hour. Items per second: 0.68\n",
      "EvaluatorHoldout: Processed 34728 (100.0%) in 10.38 sec. Users per second: 3347\n"
     ]
    },
    {
     "name": "stderr",
     "output_type": "stream",
     "text": [
      "[I 2024-12-27 21:27:26,320] Trial 50 finished with value: 0.12276236306840368 and parameters: {'topK': 295, 'l1_ratio': 0.21735341014437107, 'alpha': 0.00043137781035251246}. Best is trial 39 with value: 0.12847468195701361.\n"
     ]
    },
    {
     "name": "stdout",
     "output_type": "stream",
     "text": [
      "SLIMElasticNetRecommender: Processed 20556 (53.9%) in 5.00 min. Items per second: 68.51\n",
      "SLIMElasticNetRecommender: Processed 34325 (90.0%) in 10.00 min. Items per second: 57.20\n",
      "SLIMElasticNetRecommender: Processed 38121 (100.0%) in 10.93 min. Items per second: 58.10\n",
      "EvaluatorHoldout: Processed 34728 (100.0%) in 9.36 sec. Users per second: 3710\n"
     ]
    },
    {
     "name": "stderr",
     "output_type": "stream",
     "text": [
      "[I 2024-12-27 21:38:31,776] Trial 51 finished with value: 0.11747289230736045 and parameters: {'topK': 298, 'l1_ratio': 0.40498588416828196, 'alpha': 0.0003454002315682048}. Best is trial 39 with value: 0.12847468195701361.\n"
     ]
    },
    {
     "name": "stdout",
     "output_type": "stream",
     "text": [
      "SLIMElasticNetRecommender: Processed 9825 (25.8%) in 5.00 min. Items per second: 32.74\n",
      "SLIMElasticNetRecommender: Processed 14150 (37.1%) in 20.06 min. Items per second: 11.76\n",
      "SLIMElasticNetRecommender: Processed 24204 (63.5%) in 25.06 min. Items per second: 16.10\n",
      "SLIMElasticNetRecommender: Processed 34501 (90.5%) in 30.06 min. Items per second: 19.13\n",
      "SLIMElasticNetRecommender: Processed 38121 (100.0%) in 31.88 min. Items per second: 19.93\n",
      "EvaluatorHoldout: Processed 34728 (100.0%) in 12.54 sec. Users per second: 2770\n"
     ]
    },
    {
     "name": "stderr",
     "output_type": "stream",
     "text": [
      "[I 2024-12-27 22:10:37,407] Trial 52 finished with value: 0.12825412338833492 and parameters: {'topK': 296, 'l1_ratio': 0.12903405742138974, 'alpha': 0.00032710220715666976}. Best is trial 39 with value: 0.12847468195701361.\n"
     ]
    },
    {
     "name": "stdout",
     "output_type": "stream",
     "text": [
      "SLIMElasticNetRecommender: Processed 9933 (26.1%) in 5.00 min. Items per second: 33.10\n",
      "SLIMElasticNetRecommender: Processed 20000 (52.5%) in 10.00 min. Items per second: 33.33\n",
      "SLIMElasticNetRecommender: Processed 29928 (78.5%) in 15.00 min. Items per second: 33.25\n",
      "SLIMElasticNetRecommender: Processed 38121 (100.0%) in 19.00 min. Items per second: 33.43\n",
      "EvaluatorHoldout: Processed 34728 (100.0%) in 12.30 sec. Users per second: 2823\n"
     ]
    },
    {
     "name": "stderr",
     "output_type": "stream",
     "text": [
      "[I 2024-12-27 22:29:49,999] Trial 53 finished with value: 0.1273360522371716 and parameters: {'topK': 293, 'l1_ratio': 0.12110686592908548, 'alpha': 0.00041110474912998843}. Best is trial 39 with value: 0.12847468195701361.\n"
     ]
    },
    {
     "name": "stdout",
     "output_type": "stream",
     "text": [
      "SLIMElasticNetRecommender: Processed 9608 (25.2%) in 5.00 min. Items per second: 32.02\n",
      "SLIMElasticNetRecommender: Processed 19639 (51.5%) in 10.00 min. Items per second: 32.73\n",
      "SLIMElasticNetRecommender: Processed 30130 (79.0%) in 15.00 min. Items per second: 33.47\n",
      "SLIMElasticNetRecommender: Processed 38121 (100.0%) in 18.76 min. Items per second: 33.86\n",
      "EvaluatorHoldout: Processed 34728 (100.0%) in 11.81 sec. Users per second: 2939\n"
     ]
    },
    {
     "name": "stderr",
     "output_type": "stream",
     "text": [
      "[I 2024-12-27 22:48:47,534] Trial 54 finished with value: 0.1269615044978318 and parameters: {'topK': 297, 'l1_ratio': 0.1691611110924509, 'alpha': 0.0003162064327353604}. Best is trial 39 with value: 0.12847468195701361.\n"
     ]
    },
    {
     "name": "stdout",
     "output_type": "stream",
     "text": [
      "SLIMElasticNetRecommender: Processed 9834 (25.8%) in 5.00 min. Items per second: 32.78\n",
      "SLIMElasticNetRecommender: Processed 19887 (52.2%) in 10.00 min. Items per second: 33.14\n",
      "SLIMElasticNetRecommender: Processed 29937 (78.5%) in 15.00 min. Items per second: 33.26\n",
      "SLIMElasticNetRecommender: Processed 38121 (100.0%) in 19.10 min. Items per second: 33.26\n",
      "EvaluatorHoldout: Processed 34728 (100.0%) in 11.74 sec. Users per second: 2959\n"
     ]
    },
    {
     "name": "stderr",
     "output_type": "stream",
     "text": [
      "[I 2024-12-27 23:08:05,596] Trial 55 finished with value: 0.12715138199356812 and parameters: {'topK': 299, 'l1_ratio': 0.18917289249606156, 'alpha': 0.00027129581695157807}. Best is trial 39 with value: 0.12847468195701361.\n"
     ]
    },
    {
     "name": "stdout",
     "output_type": "stream",
     "text": [
      "SLIMElasticNetRecommender: Processed 8871 (23.3%) in 5.00 min. Items per second: 29.57\n",
      "SLIMElasticNetRecommender: Processed 17959 (47.1%) in 10.00 min. Items per second: 29.93\n",
      "SLIMElasticNetRecommender: Processed 28197 (74.0%) in 15.00 min. Items per second: 31.33\n",
      "SLIMElasticNetRecommender: Processed 38121 (100.0%) in 19.60 min. Items per second: 32.41\n",
      "EvaluatorHoldout: Processed 34728 (100.0%) in 11.80 sec. Users per second: 2943\n"
     ]
    },
    {
     "name": "stderr",
     "output_type": "stream",
     "text": [
      "[I 2024-12-27 23:27:53,741] Trial 56 finished with value: 0.12664446766253232 and parameters: {'topK': 295, 'l1_ratio': 0.14488863667034527, 'alpha': 0.00038248839723318184}. Best is trial 39 with value: 0.12847468195701361.\n"
     ]
    },
    {
     "name": "stdout",
     "output_type": "stream",
     "text": [
      "SLIMElasticNetRecommender: Processed 9339 (24.5%) in 5.00 min. Items per second: 31.12\n",
      "SLIMElasticNetRecommender: Processed 18650 (48.9%) in 10.00 min. Items per second: 31.08\n",
      "SLIMElasticNetRecommender: Processed 28382 (74.5%) in 15.00 min. Items per second: 31.53\n",
      "SLIMElasticNetRecommender: Processed 38121 (100.0%) in 20.00 min. Items per second: 31.77\n",
      "EvaluatorHoldout: Processed 34728 (100.0%) in 13.53 sec. Users per second: 2567\n"
     ]
    },
    {
     "name": "stderr",
     "output_type": "stream",
     "text": [
      "[I 2024-12-27 23:48:07,283] Trial 57 finished with value: 0.12821894117709634 and parameters: {'topK': 291, 'l1_ratio': 0.11639031393243646, 'alpha': 0.00031950685993476917}. Best is trial 39 with value: 0.12847468195701361.\n"
     ]
    },
    {
     "name": "stdout",
     "output_type": "stream",
     "text": [
      "SLIMElasticNetRecommender: Processed 10452 (27.4%) in 5.00 min. Items per second: 34.84\n",
      "SLIMElasticNetRecommender: Processed 21889 (57.4%) in 10.00 min. Items per second: 36.48\n",
      "SLIMElasticNetRecommender: Processed 33908 (88.9%) in 15.00 min. Items per second: 37.67\n",
      "SLIMElasticNetRecommender: Processed 38121 (100.0%) in 16.75 min. Items per second: 37.92\n",
      "EvaluatorHoldout: Processed 34728 (100.0%) in 10.83 sec. Users per second: 3208\n"
     ]
    },
    {
     "name": "stderr",
     "output_type": "stream",
     "text": [
      "[I 2024-12-28 00:05:03,373] Trial 58 finished with value: 0.12544898035798133 and parameters: {'topK': 294, 'l1_ratio': 0.17324532098820225, 'alpha': 0.00042114366466849815}. Best is trial 39 with value: 0.12847468195701361.\n"
     ]
    },
    {
     "name": "stdout",
     "output_type": "stream",
     "text": [
      "SLIMElasticNetRecommender: Processed 12042 (31.6%) in 5.00 min. Items per second: 40.13\n",
      "SLIMElasticNetRecommender: Processed 25422 (66.7%) in 10.00 min. Items per second: 42.37\n",
      "SLIMElasticNetRecommender: Processed 38121 (100.0%) in 14.36 min. Items per second: 44.24\n",
      "EvaluatorHoldout: Processed 34728 (100.0%) in 10.67 sec. Users per second: 3254\n"
     ]
    },
    {
     "name": "stderr",
     "output_type": "stream",
     "text": [
      "[I 2024-12-28 00:19:35,798] Trial 59 finished with value: 0.12366128384321541 and parameters: {'topK': 303, 'l1_ratio': 0.15321889568517938, 'alpha': 0.0005579204139680044}. Best is trial 39 with value: 0.12847468195701361.\n"
     ]
    },
    {
     "name": "stdout",
     "output_type": "stream",
     "text": [
      "SLIMElasticNetRecommender: Processed 9354 (24.5%) in 5.00 min. Items per second: 31.17\n",
      "SLIMElasticNetRecommender: Processed 18274 (47.9%) in 10.00 min. Items per second: 30.45\n",
      "SLIMElasticNetRecommender: Processed 27235 (71.4%) in 15.00 min. Items per second: 30.26\n",
      "SLIMElasticNetRecommender: Processed 36912 (96.8%) in 20.00 min. Items per second: 30.76\n",
      "SLIMElasticNetRecommender: Processed 38121 (100.0%) in 20.84 min. Items per second: 30.49\n",
      "EvaluatorHoldout: Processed 34728 (100.0%) in 17.20 sec. Users per second: 2019\n"
     ]
    },
    {
     "name": "stderr",
     "output_type": "stream",
     "text": [
      "[I 2024-12-28 00:40:43,525] Trial 60 finished with value: 0.12773048571406073 and parameters: {'topK': 301, 'l1_ratio': 0.13339882844817885, 'alpha': 0.000256310813356201}. Best is trial 39 with value: 0.12847468195701361.\n"
     ]
    },
    {
     "name": "stdout",
     "output_type": "stream",
     "text": [
      "SLIMElasticNetRecommender: Processed 7045 (18.5%) in 5.00 min. Items per second: 23.48\n",
      "SLIMElasticNetRecommender: Processed 15615 (41.0%) in 10.00 min. Items per second: 26.02\n",
      "SLIMElasticNetRecommender: Processed 24191 (63.5%) in 15.00 min. Items per second: 26.88\n",
      "SLIMElasticNetRecommender: Processed 32726 (85.8%) in 20.00 min. Items per second: 27.27\n",
      "SLIMElasticNetRecommender: Processed 38121 (100.0%) in 23.63 min. Items per second: 26.88\n",
      "EvaluatorHoldout: Processed 34728 (100.0%) in 15.82 sec. Users per second: 2195\n"
     ]
    },
    {
     "name": "stderr",
     "output_type": "stream",
     "text": [
      "[I 2024-12-28 01:04:37,477] Trial 61 finished with value: 0.1278391468949297 and parameters: {'topK': 291, 'l1_ratio': 0.10012529126145228, 'alpha': 0.0003096355924811977}. Best is trial 39 with value: 0.12847468195701361.\n"
     ]
    },
    {
     "name": "stdout",
     "output_type": "stream",
     "text": [
      "SLIMElasticNetRecommender: Processed 8939 (23.4%) in 5.00 min. Items per second: 29.79\n",
      "SLIMElasticNetRecommender: Processed 18310 (48.0%) in 10.00 min. Items per second: 30.51\n",
      "SLIMElasticNetRecommender: Processed 26208 (68.7%) in 15.00 min. Items per second: 29.12\n",
      "SLIMElasticNetRecommender: Processed 35028 (91.9%) in 20.00 min. Items per second: 29.19\n",
      "SLIMElasticNetRecommender: Processed 38121 (100.0%) in 22.05 min. Items per second: 28.82\n",
      "EvaluatorHoldout: Processed 34728 (100.0%) in 15.57 sec. Users per second: 2231\n"
     ]
    },
    {
     "name": "stderr",
     "output_type": "stream",
     "text": [
      "[I 2024-12-28 01:26:55,862] Trial 62 finished with value: 0.12826836313785295 and parameters: {'topK': 292, 'l1_ratio': 0.11766922945946143, 'alpha': 0.00032380629973188384}. Best is trial 39 with value: 0.12847468195701361.\n"
     ]
    },
    {
     "name": "stdout",
     "output_type": "stream",
     "text": [
      "SLIMElasticNetRecommender: Processed 8648 (22.7%) in 5.00 min. Items per second: 28.82\n",
      "SLIMElasticNetRecommender: Processed 17680 (46.4%) in 10.00 min. Items per second: 29.46\n",
      "SLIMElasticNetRecommender: Processed 26976 (70.8%) in 15.00 min. Items per second: 29.97\n",
      "SLIMElasticNetRecommender: Processed 36065 (94.6%) in 20.00 min. Items per second: 30.05\n",
      "SLIMElasticNetRecommender: Processed 38121 (100.0%) in 21.02 min. Items per second: 30.22\n",
      "EvaluatorHoldout: Processed 34728 (100.0%) in 12.69 sec. Users per second: 2737\n"
     ]
    },
    {
     "name": "stderr",
     "output_type": "stream",
     "text": [
      "[I 2024-12-28 01:48:10,108] Trial 63 finished with value: 0.12809198272277053 and parameters: {'topK': 293, 'l1_ratio': 0.1206262441336478, 'alpha': 0.00036438967531361277}. Best is trial 39 with value: 0.12847468195701361.\n"
     ]
    },
    {
     "name": "stdout",
     "output_type": "stream",
     "text": [
      "SLIMElasticNetRecommender: Processed 7701 (20.2%) in 5.00 min. Items per second: 25.66\n",
      "SLIMElasticNetRecommender: Processed 16083 (42.2%) in 10.00 min. Items per second: 26.80\n",
      "SLIMElasticNetRecommender: Processed 24502 (64.3%) in 15.00 min. Items per second: 27.22\n",
      "SLIMElasticNetRecommender: Processed 33428 (87.7%) in 20.00 min. Items per second: 27.85\n",
      "SLIMElasticNetRecommender: Processed 38121 (100.0%) in 22.49 min. Items per second: 28.26\n",
      "EvaluatorHoldout: Processed 34728 (100.0%) in 13.96 sec. Users per second: 2488\n"
     ]
    },
    {
     "name": "stderr",
     "output_type": "stream",
     "text": [
      "[I 2024-12-28 02:10:53,244] Trial 64 finished with value: 0.12669675589360177 and parameters: {'topK': 295, 'l1_ratio': 0.16216591654254475, 'alpha': 0.00016377480746310286}. Best is trial 39 with value: 0.12847468195701361.\n"
     ]
    },
    {
     "name": "stdout",
     "output_type": "stream",
     "text": [
      "SLIMElasticNetRecommender: Processed 9819 (25.8%) in 5.00 min. Items per second: 32.73\n",
      "SLIMElasticNetRecommender: Processed 19730 (51.8%) in 10.00 min. Items per second: 32.88\n",
      "SLIMElasticNetRecommender: Processed 29699 (77.9%) in 15.00 min. Items per second: 33.00\n",
      "SLIMElasticNetRecommender: Processed 38121 (100.0%) in 19.12 min. Items per second: 33.23\n",
      "EvaluatorHoldout: Processed 34728 (100.0%) in 13.49 sec. Users per second: 2575\n"
     ]
    },
    {
     "name": "stderr",
     "output_type": "stream",
     "text": [
      "[I 2024-12-28 02:30:13,924] Trial 65 finished with value: 0.1268796629653039 and parameters: {'topK': 297, 'l1_ratio': 0.13982658732089692, 'alpha': 0.0003875820689152043}. Best is trial 39 with value: 0.12847468195701361.\n"
     ]
    },
    {
     "name": "stdout",
     "output_type": "stream",
     "text": [
      "SLIMElasticNetRecommender: Processed 10013 (26.3%) in 5.00 min. Items per second: 33.37\n",
      "SLIMElasticNetRecommender: Processed 19893 (52.2%) in 10.00 min. Items per second: 33.15\n",
      "SLIMElasticNetRecommender: Processed 29986 (78.7%) in 15.00 min. Items per second: 33.31\n",
      "SLIMElasticNetRecommender: Processed 38121 (100.0%) in 18.56 min. Items per second: 34.23\n",
      "EvaluatorHoldout: Processed 34728 (100.0%) in 10.96 sec. Users per second: 3169\n"
     ]
    },
    {
     "name": "stderr",
     "output_type": "stream",
     "text": [
      "[I 2024-12-28 02:48:58,540] Trial 66 finished with value: 0.1260825140773447 and parameters: {'topK': 292, 'l1_ratio': 0.20031774334942193, 'alpha': 0.0003419435694553875}. Best is trial 39 with value: 0.12847468195701361.\n"
     ]
    },
    {
     "name": "stdout",
     "output_type": "stream",
     "text": [
      "SLIMElasticNetRecommender: Processed 8860 (23.2%) in 5.00 min. Items per second: 29.53\n",
      "SLIMElasticNetRecommender: Processed 18363 (48.2%) in 10.00 min. Items per second: 30.60\n",
      "SLIMElasticNetRecommender: Processed 28127 (73.8%) in 15.00 min. Items per second: 31.25\n",
      "SLIMElasticNetRecommender: Processed 37781 (99.1%) in 20.00 min. Items per second: 31.48\n",
      "SLIMElasticNetRecommender: Processed 38121 (100.0%) in 20.22 min. Items per second: 31.42\n",
      "EvaluatorHoldout: Processed 34728 (100.0%) in 14.44 sec. Users per second: 2405\n"
     ]
    },
    {
     "name": "stderr",
     "output_type": "stream",
     "text": [
      "[I 2024-12-28 03:09:26,300] Trial 67 finished with value: 0.12713236610548037 and parameters: {'topK': 294, 'l1_ratio': 0.1791998105686144, 'alpha': 0.00028204109084228684}. Best is trial 39 with value: 0.12847468195701361.\n"
     ]
    },
    {
     "name": "stdout",
     "output_type": "stream",
     "text": [
      "SLIMElasticNetRecommender: Processed 8456 (22.2%) in 5.00 min. Items per second: 28.18\n",
      "SLIMElasticNetRecommender: Processed 15930 (41.8%) in 10.00 min. Items per second: 26.55\n",
      "SLIMElasticNetRecommender: Processed 24919 (65.4%) in 15.00 min. Items per second: 27.68\n",
      "SLIMElasticNetRecommender: Processed 34673 (91.0%) in 20.00 min. Items per second: 28.89\n",
      "SLIMElasticNetRecommender: Processed 38121 (100.0%) in 21.82 min. Items per second: 29.12\n",
      "EvaluatorHoldout: Processed 34728 (100.0%) in 13.86 sec. Users per second: 2507\n"
     ]
    },
    {
     "name": "stderr",
     "output_type": "stream",
     "text": [
      "[I 2024-12-28 03:31:29,381] Trial 68 finished with value: 0.12714887941587083 and parameters: {'topK': 296, 'l1_ratio': 0.11580263541727265, 'alpha': 0.0004535373226219272}. Best is trial 39 with value: 0.12847468195701361.\n"
     ]
    },
    {
     "name": "stdout",
     "output_type": "stream",
     "text": [
      "SLIMElasticNetRecommender: Processed 10257 (26.9%) in 5.00 min. Items per second: 34.18\n",
      "SLIMElasticNetRecommender: Processed 20884 (54.8%) in 10.00 min. Items per second: 34.80\n",
      "SLIMElasticNetRecommender: Processed 32513 (85.3%) in 15.00 min. Items per second: 36.12\n",
      "SLIMElasticNetRecommender: Processed 38121 (100.0%) in 17.31 min. Items per second: 36.70\n",
      "EvaluatorHoldout: Processed 34728 (100.0%) in 11.04 sec. Users per second: 3144\n"
     ]
    },
    {
     "name": "stderr",
     "output_type": "stream",
     "text": [
      "[I 2024-12-28 03:48:59,287] Trial 69 finished with value: 0.1249829184375106 and parameters: {'topK': 298, 'l1_ratio': 0.1456674002984063, 'alpha': 0.0005211551504283614}. Best is trial 39 with value: 0.12847468195701361.\n"
     ]
    },
    {
     "name": "stdout",
     "output_type": "stream",
     "text": [
      "SLIMElasticNetRecommender: Processed 10381 (27.2%) in 5.00 min. Items per second: 34.60\n",
      "SLIMElasticNetRecommender: Processed 20829 (54.6%) in 10.00 min. Items per second: 34.71\n",
      "SLIMElasticNetRecommender: Processed 31140 (81.7%) in 15.00 min. Items per second: 34.60\n",
      "SLIMElasticNetRecommender: Processed 38121 (100.0%) in 18.23 min. Items per second: 34.84\n",
      "EvaluatorHoldout: Processed 34728 (100.0%) in 11.56 sec. Users per second: 3004\n"
     ]
    },
    {
     "name": "stderr",
     "output_type": "stream",
     "text": [
      "[I 2024-12-28 04:07:24,990] Trial 70 finished with value: 0.12611458944929443 and parameters: {'topK': 291, 'l1_ratio': 0.16278360882599405, 'alpha': 0.00040216672732564516}. Best is trial 39 with value: 0.12847468195701361.\n"
     ]
    },
    {
     "name": "stdout",
     "output_type": "stream",
     "text": [
      "SLIMElasticNetRecommender: Processed 8633 (22.6%) in 5.00 min. Items per second: 28.77\n",
      "SLIMElasticNetRecommender: Processed 17057 (44.7%) in 10.00 min. Items per second: 28.42\n",
      "SLIMElasticNetRecommender: Processed 26211 (68.8%) in 15.00 min. Items per second: 29.12\n",
      "SLIMElasticNetRecommender: Processed 35579 (93.3%) in 20.00 min. Items per second: 29.65\n",
      "SLIMElasticNetRecommender: Processed 38121 (100.0%) in 21.39 min. Items per second: 29.70\n",
      "EvaluatorHoldout: Processed 34728 (100.0%) in 12.94 sec. Users per second: 2684\n"
     ]
    },
    {
     "name": "stderr",
     "output_type": "stream",
     "text": [
      "[I 2024-12-28 04:29:01,476] Trial 71 finished with value: 0.1282866061035551 and parameters: {'topK': 291, 'l1_ratio': 0.11651486669802175, 'alpha': 0.00032087510897765175}. Best is trial 39 with value: 0.12847468195701361.\n"
     ]
    },
    {
     "name": "stdout",
     "output_type": "stream",
     "text": [
      "SLIMElasticNetRecommender: Processed 9260 (24.3%) in 5.00 min. Items per second: 30.86\n",
      "SLIMElasticNetRecommender: Processed 17887 (46.9%) in 10.00 min. Items per second: 29.81\n",
      "SLIMElasticNetRecommender: Processed 27004 (70.8%) in 15.00 min. Items per second: 30.00\n",
      "SLIMElasticNetRecommender: Processed 35596 (93.4%) in 20.00 min. Items per second: 29.66\n",
      "SLIMElasticNetRecommender: Processed 38121 (100.0%) in 21.41 min. Items per second: 29.67\n",
      "EvaluatorHoldout: Processed 34728 (100.0%) in 13.24 sec. Users per second: 2623\n"
     ]
    },
    {
     "name": "stderr",
     "output_type": "stream",
     "text": [
      "[I 2024-12-28 04:50:39,399] Trial 72 finished with value: 0.12834450297735792 and parameters: {'topK': 290, 'l1_ratio': 0.12462288557176004, 'alpha': 0.00032483007531630264}. Best is trial 39 with value: 0.12847468195701361.\n"
     ]
    },
    {
     "name": "stdout",
     "output_type": "stream",
     "text": [
      "SLIMElasticNetRecommender: Processed 8990 (23.6%) in 5.00 min. Items per second: 29.96\n",
      "SLIMElasticNetRecommender: Processed 17791 (46.7%) in 10.00 min. Items per second: 29.65\n",
      "SLIMElasticNetRecommender: Processed 27664 (72.6%) in 15.00 min. Items per second: 30.74\n",
      "SLIMElasticNetRecommender: Processed 37575 (98.6%) in 20.00 min. Items per second: 31.31\n",
      "SLIMElasticNetRecommender: Processed 38121 (100.0%) in 20.30 min. Items per second: 31.30\n",
      "EvaluatorHoldout: Processed 34728 (100.0%) in 13.24 sec. Users per second: 2622\n"
     ]
    },
    {
     "name": "stderr",
     "output_type": "stream",
     "text": [
      "[I 2024-12-28 05:11:10,484] Trial 73 finished with value: 0.12763156354452104 and parameters: {'topK': 290, 'l1_ratio': 0.1013516877085175, 'alpha': 0.00026241508010849357}. Best is trial 39 with value: 0.12847468195701361.\n"
     ]
    },
    {
     "name": "stdout",
     "output_type": "stream",
     "text": [
      "SLIMElasticNetRecommender: Processed 17826 (46.8%) in 5.00 min. Items per second: 59.41\n",
      "SLIMElasticNetRecommender: Processed 37834 (99.2%) in 10.00 min. Items per second: 63.05\n",
      "SLIMElasticNetRecommender: Processed 38121 (100.0%) in 10.09 min. Items per second: 62.99\n",
      "EvaluatorHoldout: Processed 34728 (100.0%) in 9.13 sec. Users per second: 3806\n"
     ]
    },
    {
     "name": "stderr",
     "output_type": "stream",
     "text": [
      "[I 2024-12-28 05:21:24,832] Trial 74 finished with value: 0.1168964409973443 and parameters: {'topK': 291, 'l1_ratio': 0.1351558963869497, 'alpha': 0.0009116324557720231}. Best is trial 39 with value: 0.12847468195701361.\n"
     ]
    },
    {
     "name": "stdout",
     "output_type": "stream",
     "text": [
      "SLIMElasticNetRecommender: Processed 26365 (69.2%) in 5.00 min. Items per second: 87.88\n",
      "SLIMElasticNetRecommender: Processed 38121 (100.0%) in 7.13 min. Items per second: 89.07\n",
      "EvaluatorHoldout: Processed 34728 (100.0%) in 8.54 sec. Users per second: 4066\n"
     ]
    },
    {
     "name": "stderr",
     "output_type": "stream",
     "text": [
      "[I 2024-12-28 05:28:41,402] Trial 75 finished with value: 0.11310022280583319 and parameters: {'topK': 293, 'l1_ratio': 0.5824619774416143, 'alpha': 0.00029819514128891824}. Best is trial 39 with value: 0.12847468195701361.\n"
     ]
    },
    {
     "name": "stdout",
     "output_type": "stream",
     "text": [
      "SLIMElasticNetRecommender: Processed 9810 (25.7%) in 5.00 min. Items per second: 32.70\n",
      "SLIMElasticNetRecommender: Processed 19749 (51.8%) in 10.00 min. Items per second: 32.91\n",
      "SLIMElasticNetRecommender: Processed 29846 (78.3%) in 15.00 min. Items per second: 33.16\n",
      "SLIMElasticNetRecommender: Processed 38121 (100.0%) in 19.05 min. Items per second: 33.34\n",
      "EvaluatorHoldout: Processed 34728 (100.0%) in 12.55 sec. Users per second: 2766\n"
     ]
    },
    {
     "name": "stderr",
     "output_type": "stream",
     "text": [
      "[I 2024-12-28 05:47:57,216] Trial 76 finished with value: 0.1280980258392244 and parameters: {'topK': 292, 'l1_ratio': 0.11065693652797873, 'alpha': 0.0003196596094058554}. Best is trial 39 with value: 0.12847468195701361.\n"
     ]
    },
    {
     "name": "stdout",
     "output_type": "stream",
     "text": [
      "SLIMElasticNetRecommender: Processed 9557 (25.1%) in 5.00 min. Items per second: 31.85\n",
      "SLIMElasticNetRecommender: Processed 19190 (50.3%) in 10.00 min. Items per second: 31.98\n",
      "SLIMElasticNetRecommender: Processed 29077 (76.3%) in 15.00 min. Items per second: 32.30\n",
      "SLIMElasticNetRecommender: Processed 38121 (100.0%) in 19.60 min. Items per second: 32.41\n",
      "EvaluatorHoldout: Processed 34728 (100.0%) in 12.59 sec. Users per second: 2758\n"
     ]
    },
    {
     "name": "stderr",
     "output_type": "stream",
     "text": [
      "[I 2024-12-28 06:07:46,038] Trial 77 finished with value: 0.12742056318486858 and parameters: {'topK': 290, 'l1_ratio': 0.15738048033090735, 'alpha': 0.00019569185116115594}. Best is trial 39 with value: 0.12847468195701361.\n"
     ]
    },
    {
     "name": "stdout",
     "output_type": "stream",
     "text": [
      "SLIMElasticNetRecommender: Processed 15275 (40.1%) in 5.00 min. Items per second: 50.91\n",
      "SLIMElasticNetRecommender: Processed 31949 (83.8%) in 10.00 min. Items per second: 53.24\n",
      "SLIMElasticNetRecommender: Processed 38121 (100.0%) in 11.75 min. Items per second: 54.07\n",
      "EvaluatorHoldout: Processed 34728 (100.0%) in 9.24 sec. Users per second: 3760\n"
     ]
    },
    {
     "name": "stderr",
     "output_type": "stream",
     "text": [
      "[I 2024-12-28 06:19:40,342] Trial 78 finished with value: 0.12124660295140824 and parameters: {'topK': 294, 'l1_ratio': 0.2981483750845808, 'alpha': 0.00036587109924734323}. Best is trial 39 with value: 0.12847468195701361.\n"
     ]
    },
    {
     "name": "stdout",
     "output_type": "stream",
     "text": [
      "SLIMElasticNetRecommender: Processed 10073 (26.4%) in 5.00 min. Items per second: 33.57\n",
      "SLIMElasticNetRecommender: Processed 20339 (53.4%) in 10.00 min. Items per second: 33.90\n",
      "SLIMElasticNetRecommender: Processed 30703 (80.5%) in 15.00 min. Items per second: 34.11\n",
      "SLIMElasticNetRecommender: Processed 38121 (100.0%) in 18.51 min. Items per second: 34.33\n",
      "EvaluatorHoldout: Processed 34728 (100.0%) in 11.96 sec. Users per second: 2904\n"
     ]
    },
    {
     "name": "stderr",
     "output_type": "stream",
     "text": [
      "[I 2024-12-28 06:38:22,890] Trial 79 finished with value: 0.12823945891396296 and parameters: {'topK': 293, 'l1_ratio': 0.1309270475107343, 'alpha': 0.00033404713685761473}. Best is trial 39 with value: 0.12847468195701361.\n"
     ]
    },
    {
     "name": "stdout",
     "output_type": "stream",
     "text": [
      "SLIMElasticNetRecommender: Processed 17504 (45.9%) in 5.00 min. Items per second: 58.34\n",
      "SLIMElasticNetRecommender: Processed 37208 (97.6%) in 10.00 min. Items per second: 62.01\n",
      "SLIMElasticNetRecommender: Processed 38121 (100.0%) in 10.27 min. Items per second: 61.89\n",
      "EvaluatorHoldout: Processed 34728 (100.0%) in 8.97 sec. Users per second: 3870\n"
     ]
    },
    {
     "name": "stderr",
     "output_type": "stream",
     "text": [
      "[I 2024-12-28 06:48:47,811] Trial 80 finished with value: 0.11972323296186713 and parameters: {'topK': 291, 'l1_ratio': 0.5334375808183567, 'alpha': 0.0002398294057449645}. Best is trial 39 with value: 0.12847468195701361.\n"
     ]
    },
    {
     "name": "stdout",
     "output_type": "stream",
     "text": [
      "SLIMElasticNetRecommender: Processed 9875 (25.9%) in 5.00 min. Items per second: 32.91\n",
      "SLIMElasticNetRecommender: Processed 19869 (52.1%) in 10.00 min. Items per second: 33.11\n",
      "SLIMElasticNetRecommender: Processed 29996 (78.7%) in 15.00 min. Items per second: 33.33\n",
      "SLIMElasticNetRecommender: Processed 38121 (100.0%) in 18.97 min. Items per second: 33.48\n",
      "EvaluatorHoldout: Processed 34728 (100.0%) in 12.44 sec. Users per second: 2791\n"
     ]
    },
    {
     "name": "stderr",
     "output_type": "stream",
     "text": [
      "[I 2024-12-28 07:07:58,747] Trial 81 finished with value: 0.12798467839648262 and parameters: {'topK': 299, 'l1_ratio': 0.12141593801227914, 'alpha': 0.0002925460727616056}. Best is trial 39 with value: 0.12847468195701361.\n"
     ]
    },
    {
     "name": "stdout",
     "output_type": "stream",
     "text": [
      "SLIMElasticNetRecommender: Processed 10003 (26.2%) in 5.00 min. Items per second: 33.34\n",
      "SLIMElasticNetRecommender: Processed 20163 (52.9%) in 10.00 min. Items per second: 33.60\n",
      "SLIMElasticNetRecommender: Processed 30442 (79.9%) in 15.00 min. Items per second: 33.82\n",
      "SLIMElasticNetRecommender: Processed 38121 (100.0%) in 18.70 min. Items per second: 33.98\n",
      "EvaluatorHoldout: Processed 34728 (100.0%) in 12.09 sec. Users per second: 2873\n"
     ]
    },
    {
     "name": "stderr",
     "output_type": "stream",
     "text": [
      "[I 2024-12-28 07:26:52,670] Trial 82 finished with value: 0.12826962136155165 and parameters: {'topK': 295, 'l1_ratio': 0.12684740951694537, 'alpha': 0.00033033190446123215}. Best is trial 39 with value: 0.12847468195701361.\n"
     ]
    },
    {
     "name": "stdout",
     "output_type": "stream",
     "text": [
      "SLIMElasticNetRecommender: Processed 10777 (28.3%) in 5.00 min. Items per second: 35.92\n",
      "SLIMElasticNetRecommender: Processed 22076 (57.9%) in 10.00 min. Items per second: 36.79\n",
      "SLIMElasticNetRecommender: Processed 33920 (89.0%) in 15.00 min. Items per second: 37.69\n",
      "SLIMElasticNetRecommender: Processed 38121 (100.0%) in 16.82 min. Items per second: 37.77\n",
      "EvaluatorHoldout: Processed 34728 (100.0%) in 10.77 sec. Users per second: 3226\n"
     ]
    },
    {
     "name": "stderr",
     "output_type": "stream",
     "text": [
      "[I 2024-12-28 07:43:52,833] Trial 83 finished with value: 0.12652280674792354 and parameters: {'topK': 295, 'l1_ratio': 0.15026200522410865, 'alpha': 0.0003928851715856391}. Best is trial 39 with value: 0.12847468195701361.\n"
     ]
    },
    {
     "name": "stdout",
     "output_type": "stream",
     "text": [
      "SLIMElasticNetRecommender: Processed 9836 (25.8%) in 5.00 min. Items per second: 32.78\n",
      "SLIMElasticNetRecommender: Processed 19807 (52.0%) in 10.00 min. Items per second: 33.01\n",
      "SLIMElasticNetRecommender: Processed 29931 (78.5%) in 15.00 min. Items per second: 33.25\n",
      "SLIMElasticNetRecommender: Processed 38121 (100.0%) in 18.99 min. Items per second: 33.46\n",
      "EvaluatorHoldout: Processed 34728 (100.0%) in 12.14 sec. Users per second: 2862\n"
     ]
    },
    {
     "name": "stderr",
     "output_type": "stream",
     "text": [
      "[I 2024-12-28 08:03:04,383] Trial 84 finished with value: 0.12830833233951622 and parameters: {'topK': 292, 'l1_ratio': 0.11533979720871075, 'alpha': 0.0003662178878054885}. Best is trial 39 with value: 0.12847468195701361.\n"
     ]
    },
    {
     "name": "stdout",
     "output_type": "stream",
     "text": [
      "SLIMElasticNetRecommender: Processed 9972 (26.2%) in 5.00 min. Items per second: 33.24\n",
      "SLIMElasticNetRecommender: Processed 20102 (52.7%) in 10.00 min. Items per second: 33.50\n",
      "SLIMElasticNetRecommender: Processed 30335 (79.6%) in 15.00 min. Items per second: 33.70\n",
      "SLIMElasticNetRecommender: Processed 38121 (100.0%) in 18.74 min. Items per second: 33.89\n",
      "EvaluatorHoldout: Processed 34728 (100.0%) in 12.25 sec. Users per second: 2834\n"
     ]
    },
    {
     "name": "stderr",
     "output_type": "stream",
     "text": [
      "[I 2024-12-28 08:22:01,359] Trial 85 finished with value: 0.12847829991255766 and parameters: {'topK': 292, 'l1_ratio': 0.11500070258967421, 'alpha': 0.0003535271854969612}. Best is trial 85 with value: 0.12847829991255766.\n"
     ]
    },
    {
     "name": "stdout",
     "output_type": "stream",
     "text": [
      "SLIMElasticNetRecommender: Processed 10287 (27.0%) in 5.00 min. Items per second: 34.29\n",
      "SLIMElasticNetRecommender: Processed 20824 (54.6%) in 10.00 min. Items per second: 34.70\n",
      "SLIMElasticNetRecommender: Processed 31442 (82.5%) in 15.00 min. Items per second: 34.93\n",
      "SLIMElasticNetRecommender: Processed 38121 (100.0%) in 18.08 min. Items per second: 35.14\n",
      "EvaluatorHoldout: Processed 34728 (100.0%) in 11.68 sec. Users per second: 2974\n"
     ]
    },
    {
     "name": "stderr",
     "output_type": "stream",
     "text": [
      "[I 2024-12-28 08:40:17,904] Trial 86 finished with value: 0.1275740282088835 and parameters: {'topK': 290, 'l1_ratio': 0.1018269791487743, 'alpha': 0.0004756336659780953}. Best is trial 85 with value: 0.12847829991255766.\n"
     ]
    },
    {
     "name": "stdout",
     "output_type": "stream",
     "text": [
      "SLIMElasticNetRecommender: Processed 10893 (28.6%) in 5.00 min. Items per second: 36.30\n",
      "SLIMElasticNetRecommender: Processed 22333 (58.6%) in 10.00 min. Items per second: 37.22\n",
      "SLIMElasticNetRecommender: Processed 34379 (90.2%) in 15.00 min. Items per second: 38.20\n",
      "SLIMElasticNetRecommender: Processed 38121 (100.0%) in 16.62 min. Items per second: 38.22\n",
      "EvaluatorHoldout: Processed 34728 (100.0%) in 10.70 sec. Users per second: 3246\n"
     ]
    },
    {
     "name": "stderr",
     "output_type": "stream",
     "text": [
      "[I 2024-12-28 08:57:05,950] Trial 87 finished with value: 0.12662215829949702 and parameters: {'topK': 292, 'l1_ratio': 0.14082128355330442, 'alpha': 0.00042770394302464284}. Best is trial 85 with value: 0.12847829991255766.\n"
     ]
    },
    {
     "name": "stdout",
     "output_type": "stream",
     "text": [
      "SLIMElasticNetRecommender: Processed 10073 (26.4%) in 5.00 min. Items per second: 33.57\n",
      "SLIMElasticNetRecommender: Processed 20351 (53.4%) in 10.00 min. Items per second: 33.92\n",
      "SLIMElasticNetRecommender: Processed 30723 (80.6%) in 15.00 min. Items per second: 34.13\n",
      "SLIMElasticNetRecommender: Processed 38121 (100.0%) in 18.52 min. Items per second: 34.31\n",
      "EvaluatorHoldout: Processed 34728 (100.0%) in 12.07 sec. Users per second: 2878\n"
     ]
    },
    {
     "name": "stderr",
     "output_type": "stream",
     "text": [
      "[I 2024-12-28 09:15:49,100] Trial 88 finished with value: 0.12794014866052855 and parameters: {'topK': 293, 'l1_ratio': 0.11265902478137678, 'alpha': 0.0003831617180428088}. Best is trial 85 with value: 0.12847829991255766.\n"
     ]
    },
    {
     "name": "stdout",
     "output_type": "stream",
     "text": [
      "SLIMElasticNetRecommender: Processed 10853 (28.5%) in 5.00 min. Items per second: 36.17\n",
      "SLIMElasticNetRecommender: Processed 22257 (58.4%) in 10.00 min. Items per second: 37.09\n",
      "SLIMElasticNetRecommender: Processed 34305 (90.0%) in 15.00 min. Items per second: 38.11\n",
      "SLIMElasticNetRecommender: Processed 38121 (100.0%) in 16.65 min. Items per second: 38.15\n",
      "EvaluatorHoldout: Processed 34728 (100.0%) in 10.62 sec. Users per second: 3270\n"
     ]
    },
    {
     "name": "stderr",
     "output_type": "stream",
     "text": [
      "[I 2024-12-28 09:32:39,010] Trial 89 finished with value: 0.12642748025178752 and parameters: {'topK': 291, 'l1_ratio': 0.172401173170287, 'alpha': 0.0003638786633424729}. Best is trial 85 with value: 0.12847829991255766.\n"
     ]
    },
    {
     "name": "stdout",
     "output_type": "stream",
     "text": [
      "SLIMElasticNetRecommender: Processed 30728 (80.6%) in 5.00 min. Items per second: 102.42\n",
      "SLIMElasticNetRecommender: Processed 38121 (100.0%) in 6.11 min. Items per second: 103.95\n",
      "EvaluatorHoldout: Processed 34728 (100.0%) in 8.40 sec. Users per second: 4134\n"
     ]
    },
    {
     "name": "stderr",
     "output_type": "stream",
     "text": [
      "[I 2024-12-28 09:38:54,170] Trial 90 finished with value: 0.10826678788681572 and parameters: {'topK': 294, 'l1_ratio': 0.44778449635009, 'alpha': 0.00044507587738518454}. Best is trial 85 with value: 0.12847829991255766.\n"
     ]
    },
    {
     "name": "stdout",
     "output_type": "stream",
     "text": [
      "SLIMElasticNetRecommender: Processed 9852 (25.8%) in 5.00 min. Items per second: 32.83\n",
      "SLIMElasticNetRecommender: Processed 19754 (51.8%) in 10.00 min. Items per second: 32.92\n",
      "SLIMElasticNetRecommender: Processed 29855 (78.3%) in 15.00 min. Items per second: 33.17\n",
      "SLIMElasticNetRecommender: Processed 38121 (100.0%) in 19.09 min. Items per second: 33.28\n",
      "EvaluatorHoldout: Processed 34728 (100.0%) in 12.59 sec. Users per second: 2757\n"
     ]
    },
    {
     "name": "stderr",
     "output_type": "stream",
     "text": [
      "[I 2024-12-28 09:58:12,181] Trial 91 finished with value: 0.1280433300027892 and parameters: {'topK': 292, 'l1_ratio': 0.1104083123385529, 'alpha': 0.00029386659415126643}. Best is trial 85 with value: 0.12847829991255766.\n"
     ]
    },
    {
     "name": "stdout",
     "output_type": "stream",
     "text": [
      "SLIMElasticNetRecommender: Processed 10083 (26.4%) in 5.00 min. Items per second: 33.61\n",
      "SLIMElasticNetRecommender: Processed 20379 (53.5%) in 10.00 min. Items per second: 33.96\n",
      "SLIMElasticNetRecommender: Processed 30767 (80.7%) in 15.00 min. Items per second: 34.18\n",
      "SLIMElasticNetRecommender: Processed 38121 (100.0%) in 18.46 min. Items per second: 34.41\n",
      "EvaluatorHoldout: Processed 34728 (100.0%) in 11.91 sec. Users per second: 2915\n"
     ]
    },
    {
     "name": "stderr",
     "output_type": "stream",
     "text": [
      "[I 2024-12-28 10:16:51,993] Trial 92 finished with value: 0.1280904822358329 and parameters: {'topK': 290, 'l1_ratio': 0.12724615044735008, 'alpha': 0.00035020568249476245}. Best is trial 85 with value: 0.12847829991255766.\n"
     ]
    },
    {
     "name": "stdout",
     "output_type": "stream",
     "text": [
      "SLIMElasticNetRecommender: Processed 9643 (25.3%) in 5.00 min. Items per second: 32.14\n",
      "SLIMElasticNetRecommender: Processed 19372 (50.8%) in 10.00 min. Items per second: 32.28\n",
      "SLIMElasticNetRecommender: Processed 29323 (76.9%) in 15.00 min. Items per second: 32.58\n",
      "SLIMElasticNetRecommender: Processed 38121 (100.0%) in 19.44 min. Items per second: 32.69\n",
      "EvaluatorHoldout: Processed 34728 (100.0%) in 12.73 sec. Users per second: 2728\n"
     ]
    },
    {
     "name": "stderr",
     "output_type": "stream",
     "text": [
      "[I 2024-12-28 10:36:30,923] Trial 93 finished with value: 0.12772963515471814 and parameters: {'topK': 295, 'l1_ratio': 0.11241395136244471, 'alpha': 0.00026733319390623934}. Best is trial 85 with value: 0.12847829991255766.\n"
     ]
    },
    {
     "name": "stdout",
     "output_type": "stream",
     "text": [
      "SLIMElasticNetRecommender: Processed 10049 (26.4%) in 5.00 min. Items per second: 33.49\n",
      "SLIMElasticNetRecommender: Processed 20294 (53.2%) in 10.00 min. Items per second: 33.82\n",
      "SLIMElasticNetRecommender: Processed 30628 (80.3%) in 15.00 min. Items per second: 34.03\n",
      "SLIMElasticNetRecommender: Processed 38121 (100.0%) in 18.54 min. Items per second: 34.26\n",
      "EvaluatorHoldout: Processed 34728 (100.0%) in 11.64 sec. Users per second: 2984\n"
     ]
    },
    {
     "name": "stderr",
     "output_type": "stream",
     "text": [
      "[I 2024-12-28 10:55:15,271] Trial 94 finished with value: 0.12753463589593622 and parameters: {'topK': 293, 'l1_ratio': 0.1527222294918979, 'alpha': 0.0003138766775148934}. Best is trial 85 with value: 0.12847829991255766.\n"
     ]
    },
    {
     "name": "stdout",
     "output_type": "stream",
     "text": [
      "SLIMElasticNetRecommender: Processed 10787 (28.3%) in 5.00 min. Items per second: 35.95\n",
      "SLIMElasticNetRecommender: Processed 22125 (58.0%) in 10.00 min. Items per second: 36.87\n",
      "SLIMElasticNetRecommender: Processed 34034 (89.3%) in 15.00 min. Items per second: 37.81\n",
      "SLIMElasticNetRecommender: Processed 38121 (100.0%) in 16.78 min. Items per second: 37.86\n",
      "EvaluatorHoldout: Processed 34728 (100.0%) in 10.98 sec. Users per second: 3164\n"
     ]
    },
    {
     "name": "stderr",
     "output_type": "stream",
     "text": [
      "[I 2024-12-28 11:12:13,196] Trial 95 finished with value: 0.1266974539010864 and parameters: {'topK': 292, 'l1_ratio': 0.13959607625418488, 'alpha': 0.00040742734617432627}. Best is trial 85 with value: 0.12847829991255766.\n"
     ]
    },
    {
     "name": "stdout",
     "output_type": "stream",
     "text": [
      "SLIMElasticNetRecommender: Processed 9987 (26.2%) in 5.00 min. Items per second: 33.28\n",
      "SLIMElasticNetRecommender: Processed 20157 (52.9%) in 10.00 min. Items per second: 33.59\n",
      "SLIMElasticNetRecommender: Processed 30437 (79.8%) in 15.00 min. Items per second: 33.82\n",
      "SLIMElasticNetRecommender: Processed 38121 (100.0%) in 18.69 min. Items per second: 33.99\n",
      "EvaluatorHoldout: Processed 34728 (100.0%) in 12.23 sec. Users per second: 2840\n"
     ]
    },
    {
     "name": "stderr",
     "output_type": "stream",
     "text": [
      "[I 2024-12-28 11:31:07,048] Trial 96 finished with value: 0.12830080177979983 and parameters: {'topK': 291, 'l1_ratio': 0.12583914683052813, 'alpha': 0.00033830781068319233}. Best is trial 85 with value: 0.12847829991255766.\n"
     ]
    },
    {
     "name": "stdout",
     "output_type": "stream",
     "text": [
      "SLIMElasticNetRecommender: Processed 10114 (26.5%) in 5.00 min. Items per second: 33.71\n",
      "SLIMElasticNetRecommender: Processed 20401 (53.5%) in 10.00 min. Items per second: 34.00\n",
      "SLIMElasticNetRecommender: Processed 30790 (80.8%) in 15.00 min. Items per second: 34.21\n",
      "SLIMElasticNetRecommender: Processed 38121 (100.0%) in 18.45 min. Items per second: 34.43\n",
      "EvaluatorHoldout: Processed 34728 (100.0%) in 11.81 sec. Users per second: 2940\n"
     ]
    },
    {
     "name": "stderr",
     "output_type": "stream",
     "text": [
      "[I 2024-12-28 11:49:45,942] Trial 97 finished with value: 0.12754608482837934 and parameters: {'topK': 291, 'l1_ratio': 0.12820042515302368, 'alpha': 0.0003705846557441874}. Best is trial 85 with value: 0.12847829991255766.\n"
     ]
    },
    {
     "name": "stdout",
     "output_type": "stream",
     "text": [
      "SLIMElasticNetRecommender: Processed 22986 (60.3%) in 5.00 min. Items per second: 76.61\n",
      "SLIMElasticNetRecommender: Processed 38121 (100.0%) in 8.10 min. Items per second: 78.42\n",
      "EvaluatorHoldout: Processed 34728 (100.0%) in 8.85 sec. Users per second: 3922\n"
     ]
    },
    {
     "name": "stderr",
     "output_type": "stream",
     "text": [
      "[I 2024-12-28 11:58:00,926] Trial 98 finished with value: 0.11372208394523835 and parameters: {'topK': 290, 'l1_ratio': 0.19565480762560777, 'alpha': 0.0007822293247459054}. Best is trial 85 with value: 0.12847829991255766.\n"
     ]
    },
    {
     "name": "stdout",
     "output_type": "stream",
     "text": [
      "SLIMElasticNetRecommender: Processed 12892 (33.8%) in 5.00 min. Items per second: 42.97\n",
      "SLIMElasticNetRecommender: Processed 27180 (71.3%) in 10.00 min. Items per second: 45.30\n",
      "SLIMElasticNetRecommender: Processed 38121 (100.0%) in 13.69 min. Items per second: 46.42\n",
      "EvaluatorHoldout: Processed 34728 (100.0%) in 9.89 sec. Users per second: 3511\n"
     ]
    },
    {
     "name": "stderr",
     "output_type": "stream",
     "text": [
      "[I 2024-12-28 12:11:52,028] Trial 99 finished with value: 0.1246511282236462 and parameters: {'topK': 297, 'l1_ratio': 0.33625123585063454, 'alpha': 0.0002505032311320224}. Best is trial 85 with value: 0.12847829991255766.\n"
     ]
    }
   ],
   "source": [
    "study = op.create_study(direction=\"maximize\")\n",
    "save_results= SaveResults(\"result_experiments/SLIM/results_optuna_recall.csv\")\n",
    "study.optimize(objective, callbacks=[save_results], n_trials=100)"
   ]
  },
  {
   "cell_type": "code",
   "execution_count": 26,
   "id": "7510269b-0ca6-4ab0-a044-001a56067c91",
   "metadata": {},
   "outputs": [
    {
     "data": {
      "text/html": [
       "<div>\n",
       "<style scoped>\n",
       "    .dataframe tbody tr th:only-of-type {\n",
       "        vertical-align: middle;\n",
       "    }\n",
       "\n",
       "    .dataframe tbody tr th {\n",
       "        vertical-align: top;\n",
       "    }\n",
       "\n",
       "    .dataframe thead th {\n",
       "        text-align: right;\n",
       "    }\n",
       "</style>\n",
       "<table border=\"1\" class=\"dataframe\">\n",
       "  <thead>\n",
       "    <tr style=\"text-align: right;\">\n",
       "      <th></th>\n",
       "      <th>topK</th>\n",
       "      <th>l1_ratio</th>\n",
       "      <th>alpha</th>\n",
       "      <th>result</th>\n",
       "    </tr>\n",
       "  </thead>\n",
       "  <tbody>\n",
       "    <tr>\n",
       "      <th>0</th>\n",
       "      <td>720.0</td>\n",
       "      <td>0.343464</td>\n",
       "      <td>0.768518</td>\n",
       "      <td>0.000265</td>\n",
       "    </tr>\n",
       "    <tr>\n",
       "      <th>1</th>\n",
       "      <td>145.0</td>\n",
       "      <td>0.930758</td>\n",
       "      <td>0.587530</td>\n",
       "      <td>0.000265</td>\n",
       "    </tr>\n",
       "    <tr>\n",
       "      <th>2</th>\n",
       "      <td>386.0</td>\n",
       "      <td>0.106288</td>\n",
       "      <td>0.872912</td>\n",
       "      <td>0.000265</td>\n",
       "    </tr>\n",
       "    <tr>\n",
       "      <th>3</th>\n",
       "      <td>26.0</td>\n",
       "      <td>0.543890</td>\n",
       "      <td>0.859017</td>\n",
       "      <td>0.000265</td>\n",
       "    </tr>\n",
       "  </tbody>\n",
       "</table>\n",
       "</div>"
      ],
      "text/plain": [
       "    topK  l1_ratio     alpha    result\n",
       "0  720.0  0.343464  0.768518  0.000265\n",
       "1  145.0  0.930758  0.587530  0.000265\n",
       "2  386.0  0.106288  0.872912  0.000265\n",
       "3   26.0  0.543890  0.859017  0.000265"
      ]
     },
     "execution_count": 26,
     "metadata": {},
     "output_type": "execute_result"
    }
   ],
   "source": []
  },
  {
   "cell_type": "code",
   "execution_count": 3,
   "id": "d1483cef-5a38-4727-b0d3-5960bfdc41e1",
   "metadata": {},
   "outputs": [],
   "source": [
    "old_results = pd.read_csv(\"result_experiments/SLIM/results.csv\")"
   ]
  },
  {
   "cell_type": "code",
   "execution_count": 5,
   "id": "7e13c49f-6102-4445-85c8-31c9388d48d7",
   "metadata": {},
   "outputs": [
    {
     "data": {
      "text/html": [
       "<div>\n",
       "<style scoped>\n",
       "    .dataframe tbody tr th:only-of-type {\n",
       "        vertical-align: middle;\n",
       "    }\n",
       "\n",
       "    .dataframe tbody tr th {\n",
       "        vertical-align: top;\n",
       "    }\n",
       "\n",
       "    .dataframe thead th {\n",
       "        text-align: right;\n",
       "    }\n",
       "</style>\n",
       "<table border=\"1\" class=\"dataframe\">\n",
       "  <thead>\n",
       "    <tr style=\"text-align: right;\">\n",
       "      <th></th>\n",
       "      <th>topK</th>\n",
       "      <th>l1_ratio</th>\n",
       "      <th>alpha</th>\n",
       "      <th>time</th>\n",
       "      <th>cutoff</th>\n",
       "      <th>PRECISION</th>\n",
       "      <th>PRECISION_RECALL_MIN_DEN</th>\n",
       "      <th>RECALL</th>\n",
       "      <th>MAP</th>\n",
       "      <th>MAP_MIN_DEN</th>\n",
       "      <th>...</th>\n",
       "      <th>COVERAGE_USER</th>\n",
       "      <th>COVERAGE_USER_HIT</th>\n",
       "      <th>USERS_IN_GT</th>\n",
       "      <th>DIVERSITY_GINI</th>\n",
       "      <th>SHANNON_ENTROPY</th>\n",
       "      <th>RATIO_DIVERSITY_HERFINDAHL</th>\n",
       "      <th>RATIO_DIVERSITY_GINI</th>\n",
       "      <th>RATIO_SHANNON_ENTROPY</th>\n",
       "      <th>RATIO_AVERAGE_POPULARITY</th>\n",
       "      <th>RATIO_NOVELTY</th>\n",
       "    </tr>\n",
       "  </thead>\n",
       "  <tbody>\n",
       "    <tr>\n",
       "      <th>19</th>\n",
       "      <td>300</td>\n",
       "      <td>0.11800</td>\n",
       "      <td>0.00026</td>\n",
       "      <td>2024-11-30 07:54:47</td>\n",
       "      <td>10</td>\n",
       "      <td>0.111556</td>\n",
       "      <td>0.166356</td>\n",
       "      <td>0.141104</td>\n",
       "      <td>0.060479</td>\n",
       "      <td>0.087965</td>\n",
       "      <td>...</td>\n",
       "      <td>0.994991</td>\n",
       "      <td>0.569622</td>\n",
       "      <td>0.994991</td>\n",
       "      <td>0.240193</td>\n",
       "      <td>13.452813</td>\n",
       "      <td>0.999874</td>\n",
       "      <td>0.395067</td>\n",
       "      <td>0.911396</td>\n",
       "      <td>1.359627</td>\n",
       "      <td>0.243844</td>\n",
       "    </tr>\n",
       "    <tr>\n",
       "      <th>63</th>\n",
       "      <td>330</td>\n",
       "      <td>0.11100</td>\n",
       "      <td>0.00026</td>\n",
       "      <td>2024-12-01 06:51:24</td>\n",
       "      <td>10</td>\n",
       "      <td>0.111536</td>\n",
       "      <td>0.166336</td>\n",
       "      <td>0.141116</td>\n",
       "      <td>0.060466</td>\n",
       "      <td>0.087930</td>\n",
       "      <td>...</td>\n",
       "      <td>0.994991</td>\n",
       "      <td>0.569398</td>\n",
       "      <td>0.994991</td>\n",
       "      <td>0.240864</td>\n",
       "      <td>13.455295</td>\n",
       "      <td>0.999873</td>\n",
       "      <td>0.396171</td>\n",
       "      <td>0.911564</td>\n",
       "      <td>1.363084</td>\n",
       "      <td>0.243832</td>\n",
       "    </tr>\n",
       "    <tr>\n",
       "      <th>55</th>\n",
       "      <td>320</td>\n",
       "      <td>0.11625</td>\n",
       "      <td>0.00026</td>\n",
       "      <td>2024-12-01 04:02:42</td>\n",
       "      <td>10</td>\n",
       "      <td>0.111522</td>\n",
       "      <td>0.166355</td>\n",
       "      <td>0.141133</td>\n",
       "      <td>0.060464</td>\n",
       "      <td>0.087947</td>\n",
       "      <td>...</td>\n",
       "      <td>0.994991</td>\n",
       "      <td>0.569510</td>\n",
       "      <td>0.994991</td>\n",
       "      <td>0.240054</td>\n",
       "      <td>13.450461</td>\n",
       "      <td>0.999873</td>\n",
       "      <td>0.394839</td>\n",
       "      <td>0.911236</td>\n",
       "      <td>1.364541</td>\n",
       "      <td>0.243797</td>\n",
       "    </tr>\n",
       "    <tr>\n",
       "      <th>39</th>\n",
       "      <td>310</td>\n",
       "      <td>0.11800</td>\n",
       "      <td>0.00026</td>\n",
       "      <td>2024-11-30 22:22:20</td>\n",
       "      <td>10</td>\n",
       "      <td>0.111508</td>\n",
       "      <td>0.166290</td>\n",
       "      <td>0.141070</td>\n",
       "      <td>0.060463</td>\n",
       "      <td>0.087942</td>\n",
       "      <td>...</td>\n",
       "      <td>0.994991</td>\n",
       "      <td>0.569538</td>\n",
       "      <td>0.994991</td>\n",
       "      <td>0.239982</td>\n",
       "      <td>13.450652</td>\n",
       "      <td>0.999873</td>\n",
       "      <td>0.394719</td>\n",
       "      <td>0.911249</td>\n",
       "      <td>1.362562</td>\n",
       "      <td>0.243814</td>\n",
       "    </tr>\n",
       "    <tr>\n",
       "      <th>43</th>\n",
       "      <td>320</td>\n",
       "      <td>0.11100</td>\n",
       "      <td>0.00026</td>\n",
       "      <td>2024-11-30 23:49:08</td>\n",
       "      <td>10</td>\n",
       "      <td>0.111528</td>\n",
       "      <td>0.166322</td>\n",
       "      <td>0.141103</td>\n",
       "      <td>0.060460</td>\n",
       "      <td>0.087929</td>\n",
       "      <td>...</td>\n",
       "      <td>0.994991</td>\n",
       "      <td>0.569398</td>\n",
       "      <td>0.994991</td>\n",
       "      <td>0.241075</td>\n",
       "      <td>13.457495</td>\n",
       "      <td>0.999874</td>\n",
       "      <td>0.396518</td>\n",
       "      <td>0.911713</td>\n",
       "      <td>1.359875</td>\n",
       "      <td>0.243864</td>\n",
       "    </tr>\n",
       "    <tr>\n",
       "      <th>...</th>\n",
       "      <td>...</td>\n",
       "      <td>...</td>\n",
       "      <td>...</td>\n",
       "      <td>...</td>\n",
       "      <td>...</td>\n",
       "      <td>...</td>\n",
       "      <td>...</td>\n",
       "      <td>...</td>\n",
       "      <td>...</td>\n",
       "      <td>...</td>\n",
       "      <td>...</td>\n",
       "      <td>...</td>\n",
       "      <td>...</td>\n",
       "      <td>...</td>\n",
       "      <td>...</td>\n",
       "      <td>...</td>\n",
       "      <td>...</td>\n",
       "      <td>...</td>\n",
       "      <td>...</td>\n",
       "      <td>...</td>\n",
       "      <td>...</td>\n",
       "    </tr>\n",
       "    <tr>\n",
       "      <th>100</th>\n",
       "      <td>350</td>\n",
       "      <td>0.11100</td>\n",
       "      <td>0.00020</td>\n",
       "      <td>2024-12-02 03:04:27</td>\n",
       "      <td>10</td>\n",
       "      <td>0.111157</td>\n",
       "      <td>0.165720</td>\n",
       "      <td>0.140639</td>\n",
       "      <td>0.060305</td>\n",
       "      <td>0.087739</td>\n",
       "      <td>...</td>\n",
       "      <td>0.994991</td>\n",
       "      <td>0.568278</td>\n",
       "      <td>0.994991</td>\n",
       "      <td>0.253919</td>\n",
       "      <td>13.534857</td>\n",
       "      <td>0.999886</td>\n",
       "      <td>0.417643</td>\n",
       "      <td>0.916954</td>\n",
       "      <td>1.326083</td>\n",
       "      <td>0.244530</td>\n",
       "    </tr>\n",
       "    <tr>\n",
       "      <th>20</th>\n",
       "      <td>310</td>\n",
       "      <td>0.11100</td>\n",
       "      <td>0.00020</td>\n",
       "      <td>2024-11-30 08:15:55</td>\n",
       "      <td>10</td>\n",
       "      <td>0.111084</td>\n",
       "      <td>0.165681</td>\n",
       "      <td>0.140623</td>\n",
       "      <td>0.060299</td>\n",
       "      <td>0.087732</td>\n",
       "      <td>...</td>\n",
       "      <td>0.994991</td>\n",
       "      <td>0.568027</td>\n",
       "      <td>0.994991</td>\n",
       "      <td>0.255103</td>\n",
       "      <td>13.545145</td>\n",
       "      <td>0.999889</td>\n",
       "      <td>0.419591</td>\n",
       "      <td>0.917651</td>\n",
       "      <td>1.312987</td>\n",
       "      <td>0.244680</td>\n",
       "    </tr>\n",
       "    <tr>\n",
       "      <th>60</th>\n",
       "      <td>330</td>\n",
       "      <td>0.11100</td>\n",
       "      <td>0.00020</td>\n",
       "      <td>2024-12-01 05:48:24</td>\n",
       "      <td>10</td>\n",
       "      <td>0.111120</td>\n",
       "      <td>0.165680</td>\n",
       "      <td>0.140613</td>\n",
       "      <td>0.060298</td>\n",
       "      <td>0.087725</td>\n",
       "      <td>...</td>\n",
       "      <td>0.994991</td>\n",
       "      <td>0.568167</td>\n",
       "      <td>0.994991</td>\n",
       "      <td>0.254458</td>\n",
       "      <td>13.539355</td>\n",
       "      <td>0.999887</td>\n",
       "      <td>0.418530</td>\n",
       "      <td>0.917259</td>\n",
       "      <td>1.320494</td>\n",
       "      <td>0.244595</td>\n",
       "    </tr>\n",
       "    <tr>\n",
       "      <th>40</th>\n",
       "      <td>320</td>\n",
       "      <td>0.11100</td>\n",
       "      <td>0.00020</td>\n",
       "      <td>2024-11-30 22:44:29</td>\n",
       "      <td>10</td>\n",
       "      <td>0.111103</td>\n",
       "      <td>0.165689</td>\n",
       "      <td>0.140637</td>\n",
       "      <td>0.060292</td>\n",
       "      <td>0.087724</td>\n",
       "      <td>...</td>\n",
       "      <td>0.994991</td>\n",
       "      <td>0.568223</td>\n",
       "      <td>0.994991</td>\n",
       "      <td>0.254819</td>\n",
       "      <td>13.542520</td>\n",
       "      <td>0.999888</td>\n",
       "      <td>0.419124</td>\n",
       "      <td>0.917473</td>\n",
       "      <td>1.316684</td>\n",
       "      <td>0.244639</td>\n",
       "    </tr>\n",
       "    <tr>\n",
       "      <th>0</th>\n",
       "      <td>300</td>\n",
       "      <td>0.11100</td>\n",
       "      <td>0.00020</td>\n",
       "      <td>2024-11-30 01:14:18</td>\n",
       "      <td>10</td>\n",
       "      <td>0.111081</td>\n",
       "      <td>0.165700</td>\n",
       "      <td>0.140646</td>\n",
       "      <td>0.060276</td>\n",
       "      <td>0.087713</td>\n",
       "      <td>...</td>\n",
       "      <td>0.994991</td>\n",
       "      <td>0.567971</td>\n",
       "      <td>0.994991</td>\n",
       "      <td>0.255474</td>\n",
       "      <td>13.548310</td>\n",
       "      <td>0.999890</td>\n",
       "      <td>0.420202</td>\n",
       "      <td>0.917865</td>\n",
       "      <td>1.308909</td>\n",
       "      <td>0.244727</td>\n",
       "    </tr>\n",
       "  </tbody>\n",
       "</table>\n",
       "<p>143 rows × 32 columns</p>\n",
       "</div>"
      ],
      "text/plain": [
       "     topK  l1_ratio    alpha                 time  cutoff  PRECISION  \\\n",
       "19    300   0.11800  0.00026  2024-11-30 07:54:47      10   0.111556   \n",
       "63    330   0.11100  0.00026  2024-12-01 06:51:24      10   0.111536   \n",
       "55    320   0.11625  0.00026  2024-12-01 04:02:42      10   0.111522   \n",
       "39    310   0.11800  0.00026  2024-11-30 22:22:20      10   0.111508   \n",
       "43    320   0.11100  0.00026  2024-11-30 23:49:08      10   0.111528   \n",
       "..    ...       ...      ...                  ...     ...        ...   \n",
       "100   350   0.11100  0.00020  2024-12-02 03:04:27      10   0.111157   \n",
       "20    310   0.11100  0.00020  2024-11-30 08:15:55      10   0.111084   \n",
       "60    330   0.11100  0.00020  2024-12-01 05:48:24      10   0.111120   \n",
       "40    320   0.11100  0.00020  2024-11-30 22:44:29      10   0.111103   \n",
       "0     300   0.11100  0.00020  2024-11-30 01:14:18      10   0.111081   \n",
       "\n",
       "     PRECISION_RECALL_MIN_DEN    RECALL       MAP  MAP_MIN_DEN  ...  \\\n",
       "19                   0.166356  0.141104  0.060479     0.087965  ...   \n",
       "63                   0.166336  0.141116  0.060466     0.087930  ...   \n",
       "55                   0.166355  0.141133  0.060464     0.087947  ...   \n",
       "39                   0.166290  0.141070  0.060463     0.087942  ...   \n",
       "43                   0.166322  0.141103  0.060460     0.087929  ...   \n",
       "..                        ...       ...       ...          ...  ...   \n",
       "100                  0.165720  0.140639  0.060305     0.087739  ...   \n",
       "20                   0.165681  0.140623  0.060299     0.087732  ...   \n",
       "60                   0.165680  0.140613  0.060298     0.087725  ...   \n",
       "40                   0.165689  0.140637  0.060292     0.087724  ...   \n",
       "0                    0.165700  0.140646  0.060276     0.087713  ...   \n",
       "\n",
       "     COVERAGE_USER  COVERAGE_USER_HIT  USERS_IN_GT  DIVERSITY_GINI  \\\n",
       "19        0.994991           0.569622     0.994991        0.240193   \n",
       "63        0.994991           0.569398     0.994991        0.240864   \n",
       "55        0.994991           0.569510     0.994991        0.240054   \n",
       "39        0.994991           0.569538     0.994991        0.239982   \n",
       "43        0.994991           0.569398     0.994991        0.241075   \n",
       "..             ...                ...          ...             ...   \n",
       "100       0.994991           0.568278     0.994991        0.253919   \n",
       "20        0.994991           0.568027     0.994991        0.255103   \n",
       "60        0.994991           0.568167     0.994991        0.254458   \n",
       "40        0.994991           0.568223     0.994991        0.254819   \n",
       "0         0.994991           0.567971     0.994991        0.255474   \n",
       "\n",
       "     SHANNON_ENTROPY  RATIO_DIVERSITY_HERFINDAHL  RATIO_DIVERSITY_GINI  \\\n",
       "19         13.452813                    0.999874              0.395067   \n",
       "63         13.455295                    0.999873              0.396171   \n",
       "55         13.450461                    0.999873              0.394839   \n",
       "39         13.450652                    0.999873              0.394719   \n",
       "43         13.457495                    0.999874              0.396518   \n",
       "..               ...                         ...                   ...   \n",
       "100        13.534857                    0.999886              0.417643   \n",
       "20         13.545145                    0.999889              0.419591   \n",
       "60         13.539355                    0.999887              0.418530   \n",
       "40         13.542520                    0.999888              0.419124   \n",
       "0          13.548310                    0.999890              0.420202   \n",
       "\n",
       "     RATIO_SHANNON_ENTROPY  RATIO_AVERAGE_POPULARITY  RATIO_NOVELTY  \n",
       "19                0.911396                  1.359627       0.243844  \n",
       "63                0.911564                  1.363084       0.243832  \n",
       "55                0.911236                  1.364541       0.243797  \n",
       "39                0.911249                  1.362562       0.243814  \n",
       "43                0.911713                  1.359875       0.243864  \n",
       "..                     ...                       ...            ...  \n",
       "100               0.916954                  1.326083       0.244530  \n",
       "20                0.917651                  1.312987       0.244680  \n",
       "60                0.917259                  1.320494       0.244595  \n",
       "40                0.917473                  1.316684       0.244639  \n",
       "0                 0.917865                  1.308909       0.244727  \n",
       "\n",
       "[143 rows x 32 columns]"
      ]
     },
     "execution_count": 5,
     "metadata": {},
     "output_type": "execute_result"
    }
   ],
   "source": [
    "old_results.sort_values(by=['MAP'], ascending=False)"
   ]
  },
  {
   "cell_type": "code",
   "execution_count": 7,
   "id": "cfdfa209-908e-4193-9d27-ca08c0384719",
   "metadata": {},
   "outputs": [
    {
     "data": {
      "text/html": [
       "<div>\n",
       "<style scoped>\n",
       "    .dataframe tbody tr th:only-of-type {\n",
       "        vertical-align: middle;\n",
       "    }\n",
       "\n",
       "    .dataframe tbody tr th {\n",
       "        vertical-align: top;\n",
       "    }\n",
       "\n",
       "    .dataframe thead th {\n",
       "        text-align: right;\n",
       "    }\n",
       "</style>\n",
       "<table border=\"1\" class=\"dataframe\">\n",
       "  <thead>\n",
       "    <tr style=\"text-align: right;\">\n",
       "      <th></th>\n",
       "      <th>topK</th>\n",
       "      <th>l1_ratio</th>\n",
       "      <th>alpha</th>\n",
       "      <th>time</th>\n",
       "      <th>cutoff</th>\n",
       "      <th>PRECISION</th>\n",
       "      <th>PRECISION_RECALL_MIN_DEN</th>\n",
       "      <th>RECALL</th>\n",
       "      <th>MAP</th>\n",
       "      <th>MAP_MIN_DEN</th>\n",
       "      <th>...</th>\n",
       "      <th>COVERAGE_USER</th>\n",
       "      <th>COVERAGE_USER_HIT</th>\n",
       "      <th>USERS_IN_GT</th>\n",
       "      <th>DIVERSITY_GINI</th>\n",
       "      <th>SHANNON_ENTROPY</th>\n",
       "      <th>RATIO_DIVERSITY_HERFINDAHL</th>\n",
       "      <th>RATIO_DIVERSITY_GINI</th>\n",
       "      <th>RATIO_SHANNON_ENTROPY</th>\n",
       "      <th>RATIO_AVERAGE_POPULARITY</th>\n",
       "      <th>RATIO_NOVELTY</th>\n",
       "    </tr>\n",
       "  </thead>\n",
       "  <tbody>\n",
       "    <tr>\n",
       "      <th>75</th>\n",
       "      <td>330</td>\n",
       "      <td>0.11625</td>\n",
       "      <td>0.00026</td>\n",
       "      <td>2024-12-01 11:03:56</td>\n",
       "      <td>10</td>\n",
       "      <td>0.111503</td>\n",
       "      <td>0.166348</td>\n",
       "      <td>0.141143</td>\n",
       "      <td>0.060451</td>\n",
       "      <td>0.087932</td>\n",
       "      <td>...</td>\n",
       "      <td>0.994991</td>\n",
       "      <td>0.569510</td>\n",
       "      <td>0.994991</td>\n",
       "      <td>0.239853</td>\n",
       "      <td>13.448351</td>\n",
       "      <td>0.999872</td>\n",
       "      <td>0.394507</td>\n",
       "      <td>0.911093</td>\n",
       "      <td>1.367301</td>\n",
       "      <td>0.243768</td>\n",
       "    </tr>\n",
       "    <tr>\n",
       "      <th>55</th>\n",
       "      <td>320</td>\n",
       "      <td>0.11625</td>\n",
       "      <td>0.00026</td>\n",
       "      <td>2024-12-01 04:02:42</td>\n",
       "      <td>10</td>\n",
       "      <td>0.111522</td>\n",
       "      <td>0.166355</td>\n",
       "      <td>0.141133</td>\n",
       "      <td>0.060464</td>\n",
       "      <td>0.087947</td>\n",
       "      <td>...</td>\n",
       "      <td>0.994991</td>\n",
       "      <td>0.569510</td>\n",
       "      <td>0.994991</td>\n",
       "      <td>0.240054</td>\n",
       "      <td>13.450461</td>\n",
       "      <td>0.999873</td>\n",
       "      <td>0.394839</td>\n",
       "      <td>0.911236</td>\n",
       "      <td>1.364541</td>\n",
       "      <td>0.243797</td>\n",
       "    </tr>\n",
       "    <tr>\n",
       "      <th>103</th>\n",
       "      <td>350</td>\n",
       "      <td>0.11100</td>\n",
       "      <td>0.00026</td>\n",
       "      <td>2024-12-02 04:07:47</td>\n",
       "      <td>10</td>\n",
       "      <td>0.111497</td>\n",
       "      <td>0.166318</td>\n",
       "      <td>0.141127</td>\n",
       "      <td>0.060441</td>\n",
       "      <td>0.087900</td>\n",
       "      <td>...</td>\n",
       "      <td>0.994991</td>\n",
       "      <td>0.569314</td>\n",
       "      <td>0.994991</td>\n",
       "      <td>0.240487</td>\n",
       "      <td>13.451387</td>\n",
       "      <td>0.999872</td>\n",
       "      <td>0.395552</td>\n",
       "      <td>0.911299</td>\n",
       "      <td>1.368347</td>\n",
       "      <td>0.243777</td>\n",
       "    </tr>\n",
       "    <tr>\n",
       "      <th>63</th>\n",
       "      <td>330</td>\n",
       "      <td>0.11100</td>\n",
       "      <td>0.00026</td>\n",
       "      <td>2024-12-01 06:51:24</td>\n",
       "      <td>10</td>\n",
       "      <td>0.111536</td>\n",
       "      <td>0.166336</td>\n",
       "      <td>0.141116</td>\n",
       "      <td>0.060466</td>\n",
       "      <td>0.087930</td>\n",
       "      <td>...</td>\n",
       "      <td>0.994991</td>\n",
       "      <td>0.569398</td>\n",
       "      <td>0.994991</td>\n",
       "      <td>0.240864</td>\n",
       "      <td>13.455295</td>\n",
       "      <td>0.999873</td>\n",
       "      <td>0.396171</td>\n",
       "      <td>0.911564</td>\n",
       "      <td>1.363084</td>\n",
       "      <td>0.243832</td>\n",
       "    </tr>\n",
       "    <tr>\n",
       "      <th>79</th>\n",
       "      <td>330</td>\n",
       "      <td>0.11800</td>\n",
       "      <td>0.00026</td>\n",
       "      <td>2024-12-01 13:17:13</td>\n",
       "      <td>10</td>\n",
       "      <td>0.111480</td>\n",
       "      <td>0.166309</td>\n",
       "      <td>0.141116</td>\n",
       "      <td>0.060447</td>\n",
       "      <td>0.087918</td>\n",
       "      <td>...</td>\n",
       "      <td>0.994991</td>\n",
       "      <td>0.569482</td>\n",
       "      <td>0.994991</td>\n",
       "      <td>0.239611</td>\n",
       "      <td>13.446661</td>\n",
       "      <td>0.999872</td>\n",
       "      <td>0.394110</td>\n",
       "      <td>0.910979</td>\n",
       "      <td>1.368187</td>\n",
       "      <td>0.243756</td>\n",
       "    </tr>\n",
       "    <tr>\n",
       "      <th>...</th>\n",
       "      <td>...</td>\n",
       "      <td>...</td>\n",
       "      <td>...</td>\n",
       "      <td>...</td>\n",
       "      <td>...</td>\n",
       "      <td>...</td>\n",
       "      <td>...</td>\n",
       "      <td>...</td>\n",
       "      <td>...</td>\n",
       "      <td>...</td>\n",
       "      <td>...</td>\n",
       "      <td>...</td>\n",
       "      <td>...</td>\n",
       "      <td>...</td>\n",
       "      <td>...</td>\n",
       "      <td>...</td>\n",
       "      <td>...</td>\n",
       "      <td>...</td>\n",
       "      <td>...</td>\n",
       "      <td>...</td>\n",
       "      <td>...</td>\n",
       "    </tr>\n",
       "    <tr>\n",
       "      <th>40</th>\n",
       "      <td>320</td>\n",
       "      <td>0.11100</td>\n",
       "      <td>0.00020</td>\n",
       "      <td>2024-11-30 22:44:29</td>\n",
       "      <td>10</td>\n",
       "      <td>0.111103</td>\n",
       "      <td>0.165689</td>\n",
       "      <td>0.140637</td>\n",
       "      <td>0.060292</td>\n",
       "      <td>0.087724</td>\n",
       "      <td>...</td>\n",
       "      <td>0.994991</td>\n",
       "      <td>0.568223</td>\n",
       "      <td>0.994991</td>\n",
       "      <td>0.254819</td>\n",
       "      <td>13.542520</td>\n",
       "      <td>0.999888</td>\n",
       "      <td>0.419124</td>\n",
       "      <td>0.917473</td>\n",
       "      <td>1.316684</td>\n",
       "      <td>0.244639</td>\n",
       "    </tr>\n",
       "    <tr>\n",
       "      <th>80</th>\n",
       "      <td>340</td>\n",
       "      <td>0.11100</td>\n",
       "      <td>0.00020</td>\n",
       "      <td>2024-12-01 13:39:54</td>\n",
       "      <td>10</td>\n",
       "      <td>0.111162</td>\n",
       "      <td>0.165720</td>\n",
       "      <td>0.140635</td>\n",
       "      <td>0.060310</td>\n",
       "      <td>0.087736</td>\n",
       "      <td>...</td>\n",
       "      <td>0.994991</td>\n",
       "      <td>0.568306</td>\n",
       "      <td>0.994991</td>\n",
       "      <td>0.254164</td>\n",
       "      <td>13.537005</td>\n",
       "      <td>0.999887</td>\n",
       "      <td>0.418047</td>\n",
       "      <td>0.917100</td>\n",
       "      <td>1.323202</td>\n",
       "      <td>0.244562</td>\n",
       "    </tr>\n",
       "    <tr>\n",
       "      <th>140</th>\n",
       "      <td>370</td>\n",
       "      <td>0.11100</td>\n",
       "      <td>0.00020</td>\n",
       "      <td>2024-12-03 10:19:45</td>\n",
       "      <td>10</td>\n",
       "      <td>0.111148</td>\n",
       "      <td>0.165709</td>\n",
       "      <td>0.140625</td>\n",
       "      <td>0.060311</td>\n",
       "      <td>0.087738</td>\n",
       "      <td>...</td>\n",
       "      <td>0.994991</td>\n",
       "      <td>0.568278</td>\n",
       "      <td>0.994991</td>\n",
       "      <td>0.253398</td>\n",
       "      <td>13.529806</td>\n",
       "      <td>0.999884</td>\n",
       "      <td>0.416786</td>\n",
       "      <td>0.916612</td>\n",
       "      <td>1.333071</td>\n",
       "      <td>0.244459</td>\n",
       "    </tr>\n",
       "    <tr>\n",
       "      <th>20</th>\n",
       "      <td>310</td>\n",
       "      <td>0.11100</td>\n",
       "      <td>0.00020</td>\n",
       "      <td>2024-11-30 08:15:55</td>\n",
       "      <td>10</td>\n",
       "      <td>0.111084</td>\n",
       "      <td>0.165681</td>\n",
       "      <td>0.140623</td>\n",
       "      <td>0.060299</td>\n",
       "      <td>0.087732</td>\n",
       "      <td>...</td>\n",
       "      <td>0.994991</td>\n",
       "      <td>0.568027</td>\n",
       "      <td>0.994991</td>\n",
       "      <td>0.255103</td>\n",
       "      <td>13.545145</td>\n",
       "      <td>0.999889</td>\n",
       "      <td>0.419591</td>\n",
       "      <td>0.917651</td>\n",
       "      <td>1.312987</td>\n",
       "      <td>0.244680</td>\n",
       "    </tr>\n",
       "    <tr>\n",
       "      <th>60</th>\n",
       "      <td>330</td>\n",
       "      <td>0.11100</td>\n",
       "      <td>0.00020</td>\n",
       "      <td>2024-12-01 05:48:24</td>\n",
       "      <td>10</td>\n",
       "      <td>0.111120</td>\n",
       "      <td>0.165680</td>\n",
       "      <td>0.140613</td>\n",
       "      <td>0.060298</td>\n",
       "      <td>0.087725</td>\n",
       "      <td>...</td>\n",
       "      <td>0.994991</td>\n",
       "      <td>0.568167</td>\n",
       "      <td>0.994991</td>\n",
       "      <td>0.254458</td>\n",
       "      <td>13.539355</td>\n",
       "      <td>0.999887</td>\n",
       "      <td>0.418530</td>\n",
       "      <td>0.917259</td>\n",
       "      <td>1.320494</td>\n",
       "      <td>0.244595</td>\n",
       "    </tr>\n",
       "  </tbody>\n",
       "</table>\n",
       "<p>143 rows × 32 columns</p>\n",
       "</div>"
      ],
      "text/plain": [
       "     topK  l1_ratio    alpha                 time  cutoff  PRECISION  \\\n",
       "75    330   0.11625  0.00026  2024-12-01 11:03:56      10   0.111503   \n",
       "55    320   0.11625  0.00026  2024-12-01 04:02:42      10   0.111522   \n",
       "103   350   0.11100  0.00026  2024-12-02 04:07:47      10   0.111497   \n",
       "63    330   0.11100  0.00026  2024-12-01 06:51:24      10   0.111536   \n",
       "79    330   0.11800  0.00026  2024-12-01 13:17:13      10   0.111480   \n",
       "..    ...       ...      ...                  ...     ...        ...   \n",
       "40    320   0.11100  0.00020  2024-11-30 22:44:29      10   0.111103   \n",
       "80    340   0.11100  0.00020  2024-12-01 13:39:54      10   0.111162   \n",
       "140   370   0.11100  0.00020  2024-12-03 10:19:45      10   0.111148   \n",
       "20    310   0.11100  0.00020  2024-11-30 08:15:55      10   0.111084   \n",
       "60    330   0.11100  0.00020  2024-12-01 05:48:24      10   0.111120   \n",
       "\n",
       "     PRECISION_RECALL_MIN_DEN    RECALL       MAP  MAP_MIN_DEN  ...  \\\n",
       "75                   0.166348  0.141143  0.060451     0.087932  ...   \n",
       "55                   0.166355  0.141133  0.060464     0.087947  ...   \n",
       "103                  0.166318  0.141127  0.060441     0.087900  ...   \n",
       "63                   0.166336  0.141116  0.060466     0.087930  ...   \n",
       "79                   0.166309  0.141116  0.060447     0.087918  ...   \n",
       "..                        ...       ...       ...          ...  ...   \n",
       "40                   0.165689  0.140637  0.060292     0.087724  ...   \n",
       "80                   0.165720  0.140635  0.060310     0.087736  ...   \n",
       "140                  0.165709  0.140625  0.060311     0.087738  ...   \n",
       "20                   0.165681  0.140623  0.060299     0.087732  ...   \n",
       "60                   0.165680  0.140613  0.060298     0.087725  ...   \n",
       "\n",
       "     COVERAGE_USER  COVERAGE_USER_HIT  USERS_IN_GT  DIVERSITY_GINI  \\\n",
       "75        0.994991           0.569510     0.994991        0.239853   \n",
       "55        0.994991           0.569510     0.994991        0.240054   \n",
       "103       0.994991           0.569314     0.994991        0.240487   \n",
       "63        0.994991           0.569398     0.994991        0.240864   \n",
       "79        0.994991           0.569482     0.994991        0.239611   \n",
       "..             ...                ...          ...             ...   \n",
       "40        0.994991           0.568223     0.994991        0.254819   \n",
       "80        0.994991           0.568306     0.994991        0.254164   \n",
       "140       0.994991           0.568278     0.994991        0.253398   \n",
       "20        0.994991           0.568027     0.994991        0.255103   \n",
       "60        0.994991           0.568167     0.994991        0.254458   \n",
       "\n",
       "     SHANNON_ENTROPY  RATIO_DIVERSITY_HERFINDAHL  RATIO_DIVERSITY_GINI  \\\n",
       "75         13.448351                    0.999872              0.394507   \n",
       "55         13.450461                    0.999873              0.394839   \n",
       "103        13.451387                    0.999872              0.395552   \n",
       "63         13.455295                    0.999873              0.396171   \n",
       "79         13.446661                    0.999872              0.394110   \n",
       "..               ...                         ...                   ...   \n",
       "40         13.542520                    0.999888              0.419124   \n",
       "80         13.537005                    0.999887              0.418047   \n",
       "140        13.529806                    0.999884              0.416786   \n",
       "20         13.545145                    0.999889              0.419591   \n",
       "60         13.539355                    0.999887              0.418530   \n",
       "\n",
       "     RATIO_SHANNON_ENTROPY  RATIO_AVERAGE_POPULARITY  RATIO_NOVELTY  \n",
       "75                0.911093                  1.367301       0.243768  \n",
       "55                0.911236                  1.364541       0.243797  \n",
       "103               0.911299                  1.368347       0.243777  \n",
       "63                0.911564                  1.363084       0.243832  \n",
       "79                0.910979                  1.368187       0.243756  \n",
       "..                     ...                       ...            ...  \n",
       "40                0.917473                  1.316684       0.244639  \n",
       "80                0.917100                  1.323202       0.244562  \n",
       "140               0.916612                  1.333071       0.244459  \n",
       "20                0.917651                  1.312987       0.244680  \n",
       "60                0.917259                  1.320494       0.244595  \n",
       "\n",
       "[143 rows x 32 columns]"
      ]
     },
     "execution_count": 7,
     "metadata": {},
     "output_type": "execute_result"
    }
   ],
   "source": [
    "old_results.sort_values(by=['RECALL'], ascending=False)"
   ]
  },
  {
   "cell_type": "code",
   "execution_count": null,
   "id": "eadb49e7-3ee5-4b0e-987f-d2f2a02fcb95",
   "metadata": {},
   "outputs": [],
   "source": []
  }
 ],
 "metadata": {
  "kernelspec": {
   "display_name": "RecSys",
   "language": "python",
   "name": "recsys"
  },
  "language_info": {
   "codemirror_mode": {
    "name": "ipython",
    "version": 3
   },
   "file_extension": ".py",
   "mimetype": "text/x-python",
   "name": "python",
   "nbconvert_exporter": "python",
   "pygments_lexer": "ipython3",
   "version": "3.12.7"
  }
 },
 "nbformat": 4,
 "nbformat_minor": 5
}
