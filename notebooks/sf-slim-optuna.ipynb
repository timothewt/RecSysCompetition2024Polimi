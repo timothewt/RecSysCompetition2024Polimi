{
 "cells": [
  {
   "cell_type": "code",
   "execution_count": 1,
   "id": "76275c44-d1e1-4065-8c91-0e1491d0c501",
   "metadata": {},
   "outputs": [],
   "source": [
    "from pathlib import Path\n",
    "import sys  \n",
    "import os\n",
    "import pandas as pd \n",
    "from datetime import datetime\n",
    "import scipy.sparse as sps\n",
    "from numpy import linalg as LA\n",
    "\n",
    "import numpy as np\n",
    "from operator import itemgetter\n",
    "import optuna as op"
   ]
  },
  {
   "cell_type": "code",
   "execution_count": 2,
   "id": "30820364-4aaa-4975-a1b3-8a19acd7360b",
   "metadata": {},
   "outputs": [],
   "source": [
    "sys.path.append(os.path.abspath(os.path.join(os.getcwd(), \"..\", \"libs\")))\n",
    "sys.path.append(os.path.abspath(os.path.join(os.getcwd(), \"..\")))\n",
    "sys.path.append(os.path.abspath(os.path.join(os.getcwd(), \"..\", \"src\")))"
   ]
  },
  {
   "cell_type": "code",
   "execution_count": 15,
   "id": "c6ca96af-d5b8-467c-8df4-52963a4ae0a7",
   "metadata": {},
   "outputs": [],
   "source": [
    "from libs.Recommenders.SLIM.SLIMElasticNetRecommender import SLIMElasticNetRecommender\n",
    "from libs.Evaluation.Evaluator import EvaluatorHoldout"
   ]
  },
  {
   "cell_type": "code",
   "execution_count": 3,
   "id": "592f5f15-6e9e-48c9-9de8-96424e4e16d0",
   "metadata": {},
   "outputs": [],
   "source": [
    "%load_ext autoreload\n",
    "%autoreload 2"
   ]
  },
  {
   "cell_type": "code",
   "execution_count": 10,
   "id": "5a03434e-ac2d-432b-be73-f4ef2932cd84",
   "metadata": {},
   "outputs": [],
   "source": [
    "from Utils.load_URM import load_URM\n",
    "from Utils.load_ICM import load_ICM\n",
    "from Data_manager.split_functions.split_train_validation_random_holdout import split_train_in_two_percentage_global_sample\n",
    "\n",
    "URM_all = load_URM(\"../data/data_train.csv\")\n",
    "ICM_all = load_ICM(\"../data/data_ICM_metadata.csv\")"
   ]
  },
  {
   "cell_type": "code",
   "execution_count": 11,
   "id": "50b815eb-d8be-46bf-9b2b-c466a779a386",
   "metadata": {},
   "outputs": [
    {
     "name": "stdout",
     "output_type": "stream",
     "text": [
      "Warning: 171 (0.48 %) of 35736 users have no sampled items\n"
     ]
    }
   ],
   "source": [
    "URM_train, URM_validation = split_train_in_two_percentage_global_sample(URM_all, train_percentage = 0.80)"
   ]
  },
  {
   "cell_type": "code",
   "execution_count": 17,
   "id": "30d6171a-b299-43e2-a752-6300a735d887",
   "metadata": {},
   "outputs": [],
   "source": [
    "slim_model= SLIMElasticNetRecommender"
   ]
  },
  {
   "cell_type": "code",
   "execution_count": 18,
   "id": "6a2c6129-4cb9-42ad-90f2-92d625399d88",
   "metadata": {},
   "outputs": [
    {
     "name": "stdout",
     "output_type": "stream",
     "text": [
      "EvaluatorHoldout: Ignoring 171 ( 0.5%) Users that have less than 1 test interactions\n"
     ]
    }
   ],
   "source": [
    "evaluator_validation = EvaluatorHoldout(URM_validation, cutoff_list=[10])"
   ]
  },
  {
   "cell_type": "code",
   "execution_count": 33,
   "id": "926bc83b-1bdb-4110-b45d-2a1c410f3453",
   "metadata": {},
   "outputs": [],
   "source": [
    "def objective(trial):\n",
    "    topK = trial.suggest_int(\"topK\", 290, 310)\n",
    "    l1 = trial.suggest_float(\"l1_ratio\", 0.05, 0.25)\n",
    "    alpha = trial.suggest_float(\"alpha\", 0.0001, 0.001)\n",
    "\n",
    "    \n",
    "    recommender = slim_model(URM_train)\n",
    "    recommender.fit(**trial.params)\n",
    "    \n",
    "    result_data, _ = evaluator_validation.evaluateRecommender(recommender)\n",
    "    \n",
    "    return result_data[\"MAP\"][10]"
   ]
  },
  {
   "cell_type": "code",
   "execution_count": 34,
   "id": "993150db-2380-4282-ba4a-98e09f4505f4",
   "metadata": {},
   "outputs": [],
   "source": [
    "class SaveResults(object):\n",
    "    \n",
    "    def __init__(self):\n",
    "        self.results_df = pd.DataFrame()\n",
    "    \n",
    "    def __call__(self, optuna_study, optuna_trial):\n",
    "        hyperparam_dict = optuna_trial.params.copy()\n",
    "        hyperparam_dict[\"result\"] = optuna_trial.values[0]\n",
    "        \n",
    "        #self.results_df = pd.concat([self.results_df, pd.DataFrame(hyperparam_dict).transpose()], ignore_index=True)\n",
    "        self.results_df = self.results_df._append(hyperparam_dict, ignore_index=True)"
   ]
  },
  {
   "cell_type": "code",
   "execution_count": null,
   "id": "790930c1-6b8a-4a91-ab9b-fcc1c787ac5c",
   "metadata": {
    "scrolled": true
   },
   "outputs": [
    {
     "name": "stderr",
     "output_type": "stream",
     "text": [
      "[I 2024-12-07 23:48:42,541] A new study created in memory with name: no-name-c50526c5-e41b-40c2-9e8a-53b0b3d63245\n"
     ]
    },
    {
     "name": "stdout",
     "output_type": "stream",
     "text": [
      "SLIMElasticNetRecommender: Processed 8662 (22.7%) in 5.00 min. Items per second: 28.87\n",
      "SLIMElasticNetRecommender: Processed 17444 (45.8%) in 10.00 min. Items per second: 29.07\n",
      "SLIMElasticNetRecommender: Processed 26541 (69.6%) in 15.00 min. Items per second: 29.49\n",
      "SLIMElasticNetRecommender: Processed 35702 (93.7%) in 20.00 min. Items per second: 29.75\n",
      "SLIMElasticNetRecommender: Processed 38121 (100.0%) in 21.34 min. Items per second: 29.77\n",
      "EvaluatorHoldout: Processed 35565 (100.0%) in 16.43 sec. Users per second: 2164\n"
     ]
    },
    {
     "name": "stderr",
     "output_type": "stream",
     "text": [
      "[I 2024-12-08 00:10:19,442] Trial 0 finished with value: 0.06051702784304837 and parameters: {'topK': 302, 'l1_ratio': 0.05059812759555809, 'alpha': 0.0003401723065596712}. Best is trial 0 with value: 0.06051702784304837.\n"
     ]
    },
    {
     "name": "stdout",
     "output_type": "stream",
     "text": [
      "SLIMElasticNetRecommender: Processed 9408 (24.7%) in 5.00 min. Items per second: 31.36\n",
      "SLIMElasticNetRecommender: Processed 18882 (49.5%) in 10.00 min. Items per second: 31.47\n",
      "SLIMElasticNetRecommender: Processed 28932 (75.9%) in 15.00 min. Items per second: 32.14\n",
      "SLIMElasticNetRecommender: Processed 38121 (100.0%) in 19.55 min. Items per second: 32.49\n",
      "EvaluatorHoldout: Processed 35565 (100.0%) in 12.02 sec. Users per second: 2960\n"
     ]
    },
    {
     "name": "stderr",
     "output_type": "stream",
     "text": [
      "[I 2024-12-08 00:30:04,783] Trial 1 finished with value: 0.05945309727996162 and parameters: {'topK': 304, 'l1_ratio': 0.12776693007353476, 'alpha': 0.0004927353749257695}. Best is trial 0 with value: 0.06051702784304837.\n"
     ]
    },
    {
     "name": "stdout",
     "output_type": "stream",
     "text": [
      "SLIMElasticNetRecommender: Processed 9485 (24.9%) in 5.00 min. Items per second: 31.61\n",
      "SLIMElasticNetRecommender: Processed 19054 (50.0%) in 10.00 min. Items per second: 31.75\n",
      "SLIMElasticNetRecommender: Processed 29180 (76.5%) in 15.00 min. Items per second: 32.42\n",
      "SLIMElasticNetRecommender: Processed 38121 (100.0%) in 19.38 min. Items per second: 32.79\n",
      "EvaluatorHoldout: Processed 35565 (100.0%) in 12.15 sec. Users per second: 2926\n"
     ]
    },
    {
     "name": "stderr",
     "output_type": "stream",
     "text": [
      "[I 2024-12-08 00:49:39,683] Trial 2 finished with value: 0.059019210299048316 and parameters: {'topK': 300, 'l1_ratio': 0.10172031019509853, 'alpha': 0.0006265370850021711}. Best is trial 0 with value: 0.06051702784304837.\n"
     ]
    },
    {
     "name": "stdout",
     "output_type": "stream",
     "text": [
      "SLIMElasticNetRecommender: Processed 10828 (28.4%) in 5.00 min. Items per second: 36.09\n",
      "SLIMElasticNetRecommender: Processed 22551 (59.2%) in 10.00 min. Items per second: 37.58\n",
      "SLIMElasticNetRecommender: Processed 34938 (91.7%) in 15.00 min. Items per second: 38.82\n",
      "SLIMElasticNetRecommender: Processed 38121 (100.0%) in 16.34 min. Items per second: 38.88\n",
      "EvaluatorHoldout: Processed 35565 (100.0%) in 10.83 sec. Users per second: 3284\n"
     ]
    },
    {
     "name": "stderr",
     "output_type": "stream",
     "text": [
      "[I 2024-12-08 01:06:11,016] Trial 3 finished with value: 0.057533219970586316 and parameters: {'topK': 307, 'l1_ratio': 0.13530617070197637, 'alpha': 0.0006592565215280143}. Best is trial 0 with value: 0.06051702784304837.\n"
     ]
    },
    {
     "name": "stdout",
     "output_type": "stream",
     "text": [
      "SLIMElasticNetRecommender: Processed 8495 (22.3%) in 5.00 min. Items per second: 28.31\n",
      "SLIMElasticNetRecommender: Processed 17234 (45.2%) in 10.00 min. Items per second: 28.72\n",
      "SLIMElasticNetRecommender: Processed 26076 (68.4%) in 15.00 min. Items per second: 28.97\n",
      "SLIMElasticNetRecommender: Processed 35049 (91.9%) in 20.00 min. Items per second: 29.21\n",
      "SLIMElasticNetRecommender: Processed 38121 (100.0%) in 21.76 min. Items per second: 29.20\n",
      "EvaluatorHoldout: Processed 35565 (100.0%) in 15.52 sec. Users per second: 2291\n"
     ]
    },
    {
     "name": "stderr",
     "output_type": "stream",
     "text": [
      "[I 2024-12-08 01:28:12,083] Trial 4 finished with value: 0.06063839627420218 and parameters: {'topK': 307, 'l1_ratio': 0.1002631311446242, 'alpha': 0.00021183721747460637}. Best is trial 4 with value: 0.06063839627420218.\n"
     ]
    },
    {
     "name": "stdout",
     "output_type": "stream",
     "text": [
      "SLIMElasticNetRecommender: Processed 14803 (38.8%) in 5.00 min. Items per second: 49.34\n",
      "SLIMElasticNetRecommender: Processed 31010 (81.3%) in 10.00 min. Items per second: 51.68\n",
      "SLIMElasticNetRecommender: Processed 38121 (100.0%) in 12.05 min. Items per second: 52.71\n",
      "EvaluatorHoldout: Processed 35565 (100.0%) in 9.54 sec. Users per second: 3729\n"
     ]
    },
    {
     "name": "stderr",
     "output_type": "stream",
     "text": [
      "[I 2024-12-08 01:40:24,799] Trial 5 finished with value: 0.05520896011996628 and parameters: {'topK': 293, 'l1_ratio': 0.21436132011646436, 'alpha': 0.0006100042770745223}. Best is trial 4 with value: 0.06063839627420218.\n"
     ]
    },
    {
     "name": "stdout",
     "output_type": "stream",
     "text": [
      "SLIMElasticNetRecommender: Processed 9589 (25.2%) in 5.00 min. Items per second: 31.96\n",
      "SLIMElasticNetRecommender: Processed 19295 (50.6%) in 10.00 min. Items per second: 32.15\n",
      "SLIMElasticNetRecommender: Processed 29477 (77.3%) in 15.00 min. Items per second: 32.75\n",
      "SLIMElasticNetRecommender: Processed 38121 (100.0%) in 19.20 min. Items per second: 33.09\n",
      "EvaluatorHoldout: Processed 35565 (100.0%) in 11.44 sec. Users per second: 3108\n"
     ]
    },
    {
     "name": "stderr",
     "output_type": "stream",
     "text": [
      "[I 2024-12-08 01:59:48,394] Trial 6 finished with value: 0.060279252832392896 and parameters: {'topK': 301, 'l1_ratio': 0.23055090122171634, 'alpha': 0.0002532934527839692}. Best is trial 4 with value: 0.06063839627420218.\n"
     ]
    },
    {
     "name": "stdout",
     "output_type": "stream",
     "text": [
      "SLIMElasticNetRecommender: Processed 8835 (23.2%) in 5.00 min. Items per second: 29.44\n",
      "SLIMElasticNetRecommender: Processed 17790 (46.7%) in 10.00 min. Items per second: 29.65\n",
      "SLIMElasticNetRecommender: Processed 26877 (70.5%) in 15.00 min. Items per second: 29.86\n",
      "SLIMElasticNetRecommender: Processed 35951 (94.3%) in 20.00 min. Items per second: 29.96\n",
      "SLIMElasticNetRecommender: Processed 38121 (100.0%) in 21.26 min. Items per second: 29.89\n",
      "EvaluatorHoldout: Processed 35565 (100.0%) in 13.62 sec. Users per second: 2610\n"
     ]
    },
    {
     "name": "stderr",
     "output_type": "stream",
     "text": [
      "[I 2024-12-08 02:21:17,531] Trial 7 finished with value: 0.060795630178589 and parameters: {'topK': 307, 'l1_ratio': 0.11006885790633625, 'alpha': 0.0002551115306127753}. Best is trial 7 with value: 0.060795630178589.\n"
     ]
    },
    {
     "name": "stdout",
     "output_type": "stream",
     "text": [
      "SLIMElasticNetRecommender: Processed 8673 (22.8%) in 5.00 min. Items per second: 28.90\n",
      "SLIMElasticNetRecommender: Processed 17437 (45.7%) in 10.00 min. Items per second: 29.06\n",
      "SLIMElasticNetRecommender: Processed 26281 (68.9%) in 15.00 min. Items per second: 29.20\n",
      "SLIMElasticNetRecommender: Processed 35192 (92.3%) in 20.00 min. Items per second: 29.32\n",
      "SLIMElasticNetRecommender: Processed 38121 (100.0%) in 21.69 min. Items per second: 29.29\n",
      "EvaluatorHoldout: Processed 35565 (100.0%) in 15.33 sec. Users per second: 2321\n"
     ]
    },
    {
     "name": "stderr",
     "output_type": "stream",
     "text": [
      "[I 2024-12-08 02:43:14,208] Trial 8 finished with value: 0.060041686471671574 and parameters: {'topK': 303, 'l1_ratio': 0.13565217635309898, 'alpha': 0.00011289279899447491}. Best is trial 7 with value: 0.060795630178589.\n"
     ]
    },
    {
     "name": "stdout",
     "output_type": "stream",
     "text": [
      "SLIMElasticNetRecommender: Processed 26562 (69.7%) in 5.00 min. Items per second: 88.54\n",
      "SLIMElasticNetRecommender: Processed 38121 (100.0%) in 7.08 min. Items per second: 89.80\n",
      "EvaluatorHoldout: Processed 35565 (100.0%) in 8.85 sec. Users per second: 4018\n"
     ]
    },
    {
     "name": "stderr",
     "output_type": "stream",
     "text": [
      "[I 2024-12-08 02:50:27,615] Trial 9 finished with value: 0.048902662016114706 and parameters: {'topK': 306, 'l1_ratio': 0.22593074075440556, 'alpha': 0.0009702789912484297}. Best is trial 7 with value: 0.060795630178589.\n"
     ]
    },
    {
     "name": "stdout",
     "output_type": "stream",
     "text": [
      "SLIMElasticNetRecommender: Processed 10107 (26.5%) in 5.00 min. Items per second: 33.69\n",
      "SLIMElasticNetRecommender: Processed 20581 (54.0%) in 10.00 min. Items per second: 34.30\n",
      "SLIMElasticNetRecommender: Processed 31277 (82.0%) in 15.00 min. Items per second: 34.75\n",
      "SLIMElasticNetRecommender: Processed 38121 (100.0%) in 18.10 min. Items per second: 35.10\n",
      "EvaluatorHoldout: Processed 35565 (100.0%) in 11.12 sec. Users per second: 3199\n"
     ]
    },
    {
     "name": "stderr",
     "output_type": "stream",
     "text": [
      "[I 2024-12-08 03:08:44,751] Trial 10 finished with value: 0.05935095142138387 and parameters: {'topK': 310, 'l1_ratio': 0.1771602894879325, 'alpha': 0.00040683508089700104}. Best is trial 7 with value: 0.060795630178589.\n"
     ]
    },
    {
     "name": "stdout",
     "output_type": "stream",
     "text": [
      "SLIMElasticNetRecommender: Processed 8474 (22.2%) in 5.00 min. Items per second: 28.24\n",
      "SLIMElasticNetRecommender: Processed 16996 (44.6%) in 10.00 min. Items per second: 28.32\n",
      "SLIMElasticNetRecommender: Processed 25596 (67.1%) in 15.00 min. Items per second: 28.44\n",
      "SLIMElasticNetRecommender: Processed 34251 (89.8%) in 20.00 min. Items per second: 28.54\n",
      "SLIMElasticNetRecommender: Processed 38121 (100.0%) in 22.28 min. Items per second: 28.52\n",
      "EvaluatorHoldout: Processed 35565 (100.0%) in 14.68 sec. Users per second: 2423\n"
     ]
    },
    {
     "name": "stderr",
     "output_type": "stream",
     "text": [
      "[I 2024-12-08 03:31:16,255] Trial 11 finished with value: 0.05951745183756799 and parameters: {'topK': 310, 'l1_ratio': 0.08388610912303056, 'alpha': 0.00010175102345302522}. Best is trial 7 with value: 0.060795630178589.\n"
     ]
    },
    {
     "name": "stdout",
     "output_type": "stream",
     "text": [
      "SLIMElasticNetRecommender: Processed 9176 (24.1%) in 5.00 min. Items per second: 30.58\n",
      "SLIMElasticNetRecommender: Processed 18426 (48.3%) in 10.00 min. Items per second: 30.71\n",
      "SLIMElasticNetRecommender: Processed 27914 (73.2%) in 15.00 min. Items per second: 31.01\n",
      "SLIMElasticNetRecommender: Processed 37395 (98.1%) in 20.00 min. Items per second: 31.16\n",
      "SLIMElasticNetRecommender: Processed 38121 (100.0%) in 20.41 min. Items per second: 31.13\n",
      "EvaluatorHoldout: Processed 35565 (100.0%) in 15.20 sec. Users per second: 2339\n"
     ]
    },
    {
     "name": "stderr",
     "output_type": "stream",
     "text": [
      "[I 2024-12-08 03:51:56,089] Trial 12 finished with value: 0.060728231786644105 and parameters: {'topK': 297, 'l1_ratio': 0.08815620482973188, 'alpha': 0.0002578953226329953}. Best is trial 7 with value: 0.060795630178589.\n"
     ]
    },
    {
     "name": "stdout",
     "output_type": "stream",
     "text": [
      "SLIMElasticNetRecommender: Processed 9052 (23.7%) in 5.00 min. Items per second: 30.17\n",
      "SLIMElasticNetRecommender: Processed 18216 (47.8%) in 10.00 min. Items per second: 30.36\n",
      "SLIMElasticNetRecommender: Processed 27510 (72.2%) in 15.00 min. Items per second: 30.56\n",
      "SLIMElasticNetRecommender: Processed 36845 (96.7%) in 20.00 min. Items per second: 30.70\n",
      "SLIMElasticNetRecommender: Processed 38121 (100.0%) in 20.70 min. Items per second: 30.69\n",
      "EvaluatorHoldout: Processed 35565 (100.0%) in 15.51 sec. Users per second: 2292\n"
     ]
    },
    {
     "name": "stderr",
     "output_type": "stream",
     "text": [
      "[I 2024-12-08 04:12:53,620] Trial 13 finished with value: 0.06049207576558674 and parameters: {'topK': 296, 'l1_ratio': 0.05122584061547125, 'alpha': 0.0003261574636250372}. Best is trial 7 with value: 0.060795630178589.\n"
     ]
    },
    {
     "name": "stdout",
     "output_type": "stream",
     "text": [
      "SLIMElasticNetRecommender: Processed 16499 (43.3%) in 5.00 min. Items per second: 54.99\n",
      "SLIMElasticNetRecommender: Processed 34717 (91.1%) in 10.00 min. Items per second: 57.86\n",
      "SLIMElasticNetRecommender: Processed 38121 (100.0%) in 10.99 min. Items per second: 57.83\n",
      "EvaluatorHoldout: Processed 35565 (100.0%) in 9.57 sec. Users per second: 3716\n"
     ]
    },
    {
     "name": "stderr",
     "output_type": "stream",
     "text": [
      "[I 2024-12-08 04:24:02,400] Trial 14 finished with value: 0.054079588234373525 and parameters: {'topK': 297, 'l1_ratio': 0.1759760473035623, 'alpha': 0.0007921096725795598}. Best is trial 7 with value: 0.060795630178589.\n"
     ]
    },
    {
     "name": "stdout",
     "output_type": "stream",
     "text": [
      "SLIMElasticNetRecommender: Processed 9401 (24.7%) in 5.00 min. Items per second: 31.33\n",
      "SLIMElasticNetRecommender: Processed 18858 (49.5%) in 10.00 min. Items per second: 31.43\n",
      "SLIMElasticNetRecommender: Processed 28575 (75.0%) in 15.00 min. Items per second: 31.75\n",
      "SLIMElasticNetRecommender: Processed 38121 (100.0%) in 19.92 min. Items per second: 31.89\n",
      "EvaluatorHoldout: Processed 35565 (100.0%) in 13.26 sec. Users per second: 2682\n"
     ]
    },
    {
     "name": "stderr",
     "output_type": "stream",
     "text": [
      "[I 2024-12-08 04:44:11,185] Trial 15 finished with value: 0.06021542492061075 and parameters: {'topK': 290, 'l1_ratio': 0.08321454038173427, 'alpha': 0.0004859500523927948}. Best is trial 7 with value: 0.060795630178589.\n"
     ]
    },
    {
     "name": "stdout",
     "output_type": "stream",
     "text": [
      "SLIMElasticNetRecommender: Processed 8985 (23.6%) in 5.00 min. Items per second: 29.95\n",
      "SLIMElasticNetRecommender: Processed 18021 (47.3%) in 10.00 min. Items per second: 30.03\n",
      "SLIMElasticNetRecommender: Processed 27287 (71.6%) in 15.00 min. Items per second: 30.32\n",
      "SLIMElasticNetRecommender: Processed 36548 (95.9%) in 20.00 min. Items per second: 30.45\n",
      "SLIMElasticNetRecommender: Processed 38121 (100.0%) in 20.90 min. Items per second: 30.40\n",
      "EvaluatorHoldout: Processed 35565 (100.0%) in 13.21 sec. Users per second: 2692\n"
     ]
    },
    {
     "name": "stderr",
     "output_type": "stream",
     "text": [
      "[I 2024-12-08 05:05:18,233] Trial 16 finished with value: 0.06076825017461671 and parameters: {'topK': 297, 'l1_ratio': 0.16658764118755573, 'alpha': 0.0002223610491158379}. Best is trial 7 with value: 0.060795630178589.\n"
     ]
    },
    {
     "name": "stdout",
     "output_type": "stream",
     "text": [
      "SLIMElasticNetRecommender: Processed 8844 (23.2%) in 5.00 min. Items per second: 29.48\n",
      "SLIMElasticNetRecommender: Processed 17774 (46.6%) in 10.00 min. Items per second: 29.62\n",
      "SLIMElasticNetRecommender: Processed 26844 (70.4%) in 15.00 min. Items per second: 29.82\n",
      "SLIMElasticNetRecommender: Processed 35936 (94.3%) in 20.00 min. Items per second: 29.94\n",
      "SLIMElasticNetRecommender: Processed 38121 (100.0%) in 21.26 min. Items per second: 29.88\n",
      "EvaluatorHoldout: Processed 35565 (100.0%) in 13.41 sec. Users per second: 2651\n"
     ]
    },
    {
     "name": "stderr",
     "output_type": "stream",
     "text": [
      "[I 2024-12-08 05:26:47,517] Trial 17 finished with value: 0.06072870375949066 and parameters: {'topK': 299, 'l1_ratio': 0.17524514353952186, 'alpha': 0.00018429993922370209}. Best is trial 7 with value: 0.060795630178589.\n"
     ]
    },
    {
     "name": "stdout",
     "output_type": "stream",
     "text": [
      "SLIMElasticNetRecommender: Processed 9575 (25.1%) in 5.00 min. Items per second: 31.91\n",
      "SLIMElasticNetRecommender: Processed 19252 (50.5%) in 10.00 min. Items per second: 32.08\n",
      "SLIMElasticNetRecommender: Processed 29360 (77.0%) in 15.00 min. Items per second: 32.62\n",
      "SLIMElasticNetRecommender: Processed 38121 (100.0%) in 19.31 min. Items per second: 32.89\n",
      "EvaluatorHoldout: Processed 35565 (100.0%) in 11.68 sec. Users per second: 3044\n"
     ]
    },
    {
     "name": "stderr",
     "output_type": "stream",
     "text": [
      "[I 2024-12-08 05:46:18,095] Trial 18 finished with value: 0.06018579439836093 and parameters: {'topK': 294, 'l1_ratio': 0.1574999365157073, 'alpha': 0.00035395052680947637}. Best is trial 7 with value: 0.060795630178589.\n"
     ]
    },
    {
     "name": "stdout",
     "output_type": "stream",
     "text": [
      "SLIMElasticNetRecommender: Processed 20097 (52.7%) in 5.00 min. Items per second: 66.99\n",
      "SLIMElasticNetRecommender: Processed 38121 (100.0%) in 9.18 min. Items per second: 69.21\n",
      "EvaluatorHoldout: Processed 35565 (100.0%) in 9.20 sec. Users per second: 3866\n"
     ]
    },
    {
     "name": "stderr",
     "output_type": "stream",
     "text": [
      "[I 2024-12-08 05:55:38,106] Trial 19 finished with value: 0.05231829045409646 and parameters: {'topK': 290, 'l1_ratio': 0.20657770917357252, 'alpha': 0.000810987903394424}. Best is trial 7 with value: 0.060795630178589.\n"
     ]
    },
    {
     "name": "stdout",
     "output_type": "stream",
     "text": [
      "SLIMElasticNetRecommender: Processed 12436 (32.6%) in 5.00 min. Items per second: 41.45\n",
      "SLIMElasticNetRecommender: Processed 26323 (69.1%) in 10.00 min. Items per second: 43.87\n",
      "SLIMElasticNetRecommender: Processed 38121 (100.0%) in 14.15 min. Items per second: 44.90\n",
      "EvaluatorHoldout: Processed 35565 (100.0%) in 9.93 sec. Users per second: 3582\n"
     ]
    },
    {
     "name": "stderr",
     "output_type": "stream",
     "text": [
      "[I 2024-12-08 06:09:57,019] Trial 20 finished with value: 0.0571420604794688 and parameters: {'topK': 294, 'l1_ratio': 0.24974680628942345, 'alpha': 0.00043911450278502075}. Best is trial 7 with value: 0.060795630178589.\n"
     ]
    },
    {
     "name": "stdout",
     "output_type": "stream",
     "text": [
      "SLIMElasticNetRecommender: Processed 8950 (23.5%) in 5.00 min. Items per second: 29.83\n",
      "SLIMElasticNetRecommender: Processed 17950 (47.1%) in 10.00 min. Items per second: 29.91\n",
      "SLIMElasticNetRecommender: Processed 27182 (71.3%) in 15.00 min. Items per second: 30.20\n",
      "SLIMElasticNetRecommender: Processed 36343 (95.3%) in 20.00 min. Items per second: 30.28\n",
      "SLIMElasticNetRecommender: Processed 38121 (100.0%) in 21.03 min. Items per second: 30.21\n",
      "EvaluatorHoldout: Processed 35565 (100.0%) in 13.29 sec. Users per second: 2676\n"
     ]
    },
    {
     "name": "stderr",
     "output_type": "stream",
     "text": [
      "[I 2024-12-08 06:31:12,036] Trial 21 finished with value: 0.06074039931357313 and parameters: {'topK': 299, 'l1_ratio': 0.18645555121626667, 'alpha': 0.0001815483485316548}. Best is trial 7 with value: 0.060795630178589.\n"
     ]
    },
    {
     "name": "stdout",
     "output_type": "stream",
     "text": [
      "SLIMElasticNetRecommender: Processed 9006 (23.6%) in 5.00 min. Items per second: 30.02\n",
      "SLIMElasticNetRecommender: Processed 18052 (47.4%) in 10.00 min. Items per second: 30.08\n",
      "SLIMElasticNetRecommender: Processed 27344 (71.7%) in 15.00 min. Items per second: 30.38\n",
      "SLIMElasticNetRecommender: Processed 36599 (96.0%) in 20.00 min. Items per second: 30.50\n",
      "SLIMElasticNetRecommender: Processed 38121 (100.0%) in 20.87 min. Items per second: 30.44\n",
      "EvaluatorHoldout: Processed 35565 (100.0%) in 12.92 sec. Users per second: 2752\n"
     ]
    },
    {
     "name": "stderr",
     "output_type": "stream",
     "text": [
      "[I 2024-12-08 06:52:17,438] Trial 22 finished with value: 0.06076901559630158 and parameters: {'topK': 298, 'l1_ratio': 0.1969066464167706, 'alpha': 0.0002044250953487154}. Best is trial 7 with value: 0.060795630178589.\n"
     ]
    },
    {
     "name": "stdout",
     "output_type": "stream",
     "text": [
      "SLIMElasticNetRecommender: Processed 9185 (24.1%) in 5.00 min. Items per second: 30.61\n",
      "SLIMElasticNetRecommender: Processed 18405 (48.3%) in 10.00 min. Items per second: 30.67\n",
      "SLIMElasticNetRecommender: Processed 27926 (73.3%) in 15.00 min. Items per second: 31.03\n",
      "SLIMElasticNetRecommender: Processed 37424 (98.2%) in 20.00 min. Items per second: 31.18\n",
      "SLIMElasticNetRecommender: Processed 38121 (100.0%) in 20.39 min. Items per second: 31.16\n",
      "EvaluatorHoldout: Processed 35565 (100.0%) in 12.77 sec. Users per second: 2786\n"
     ]
    },
    {
     "name": "stderr",
     "output_type": "stream",
     "text": [
      "[I 2024-12-08 07:12:53,749] Trial 23 finished with value: 0.060601916008915215 and parameters: {'topK': 296, 'l1_ratio': 0.1505776960822189, 'alpha': 0.0002934919033457477}. Best is trial 7 with value: 0.060795630178589.\n"
     ]
    },
    {
     "name": "stdout",
     "output_type": "stream",
     "text": [
      "SLIMElasticNetRecommender: Processed 8871 (23.3%) in 5.00 min. Items per second: 29.57\n",
      "SLIMElasticNetRecommender: Processed 17832 (46.8%) in 10.00 min. Items per second: 29.72\n",
      "SLIMElasticNetRecommender: Processed 26920 (70.6%) in 15.00 min. Items per second: 29.91\n",
      "SLIMElasticNetRecommender: Processed 36061 (94.6%) in 20.00 min. Items per second: 30.05\n",
      "SLIMElasticNetRecommender: Processed 38121 (100.0%) in 21.17 min. Items per second: 30.01\n",
      "EvaluatorHoldout: Processed 35565 (100.0%) in 15.38 sec. Users per second: 2313\n"
     ]
    },
    {
     "name": "stderr",
     "output_type": "stream",
     "text": [
      "[I 2024-12-08 07:34:19,323] Trial 24 finished with value: 0.06046047590037261 and parameters: {'topK': 298, 'l1_ratio': 0.11527029932688296, 'alpha': 0.00016425207397141698}. Best is trial 7 with value: 0.060795630178589.\n"
     ]
    },
    {
     "name": "stdout",
     "output_type": "stream",
     "text": [
      "SLIMElasticNetRecommender: Processed 10050 (26.4%) in 5.00 min. Items per second: 33.49\n",
      "SLIMElasticNetRecommender: Processed 20451 (53.6%) in 10.00 min. Items per second: 34.08\n",
      "SLIMElasticNetRecommender: Processed 31021 (81.4%) in 15.00 min. Items per second: 34.46\n",
      "SLIMElasticNetRecommender: Processed 38121 (100.0%) in 18.22 min. Items per second: 34.87\n",
      "EvaluatorHoldout: Processed 35565 (100.0%) in 10.96 sec. Users per second: 3246\n"
     ]
    },
    {
     "name": "stderr",
     "output_type": "stream",
     "text": [
      "[I 2024-12-08 07:52:43,381] Trial 25 finished with value: 0.0594268765662672 and parameters: {'topK': 305, 'l1_ratio': 0.1964965556580313, 'alpha': 0.00037275660473259535}. Best is trial 7 with value: 0.060795630178589.\n"
     ]
    },
    {
     "name": "stdout",
     "output_type": "stream",
     "text": [
      "SLIMElasticNetRecommender: Processed 9113 (23.9%) in 5.00 min. Items per second: 30.37\n",
      "SLIMElasticNetRecommender: Processed 18297 (48.0%) in 10.00 min. Items per second: 30.49\n",
      "SLIMElasticNetRecommender: Processed 27728 (72.7%) in 15.00 min. Items per second: 30.81\n",
      "SLIMElasticNetRecommender: Processed 37116 (97.4%) in 20.00 min. Items per second: 30.93\n",
      "SLIMElasticNetRecommender: Processed 38121 (100.0%) in 20.57 min. Items per second: 30.88\n",
      "EvaluatorHoldout: Processed 35565 (100.0%) in 12.94 sec. Users per second: 2749\n"
     ]
    },
    {
     "name": "stderr",
     "output_type": "stream",
     "text": [
      "[I 2024-12-08 08:13:30,715] Trial 26 finished with value: 0.060767384333177216 and parameters: {'topK': 292, 'l1_ratio': 0.16326974286339443, 'alpha': 0.0002492669646455618}. Best is trial 7 with value: 0.060795630178589.\n"
     ]
    },
    {
     "name": "stdout",
     "output_type": "stream",
     "text": [
      "SLIMElasticNetRecommender: Processed 10004 (26.2%) in 5.00 min. Items per second: 33.34\n",
      "SLIMElasticNetRecommender: Processed 20335 (53.3%) in 10.00 min. Items per second: 33.89\n",
      "SLIMElasticNetRecommender: Processed 30848 (80.9%) in 15.00 min. Items per second: 34.27\n",
      "SLIMElasticNetRecommender: Processed 38121 (100.0%) in 18.35 min. Items per second: 34.62\n",
      "EvaluatorHoldout: Processed 35565 (100.0%) in 11.38 sec. Users per second: 3126\n"
     ]
    },
    {
     "name": "stderr",
     "output_type": "stream",
     "text": [
      "[I 2024-12-08 08:32:03,364] Trial 27 finished with value: 0.05928812993869766 and parameters: {'topK': 301, 'l1_ratio': 0.12378741165803643, 'alpha': 0.0005305260604784834}. Best is trial 7 with value: 0.060795630178589.\n"
     ]
    },
    {
     "name": "stdout",
     "output_type": "stream",
     "text": [
      "SLIMElasticNetRecommender: Processed 8736 (22.9%) in 5.00 min. Items per second: 29.12\n",
      "SLIMElasticNetRecommender: Processed 17574 (46.1%) in 10.00 min. Items per second: 29.29\n",
      "SLIMElasticNetRecommender: Processed 26542 (69.6%) in 15.00 min. Items per second: 29.49\n",
      "SLIMElasticNetRecommender: Processed 35537 (93.2%) in 20.00 min. Items per second: 29.61\n",
      "SLIMElasticNetRecommender: Processed 38121 (100.0%) in 21.51 min. Items per second: 29.54\n",
      "EvaluatorHoldout: Processed 35565 (100.0%) in 13.50 sec. Users per second: 2635\n"
     ]
    },
    {
     "name": "stderr",
     "output_type": "stream",
     "text": [
      "[I 2024-12-08 08:53:47,583] Trial 28 finished with value: 0.060625323853706524 and parameters: {'topK': 296, 'l1_ratio': 0.19863084882391172, 'alpha': 0.0001408740297501639}. Best is trial 7 with value: 0.060795630178589.\n"
     ]
    },
    {
     "name": "stdout",
     "output_type": "stream",
     "text": [
      "SLIMElasticNetRecommender: Processed 9284 (24.4%) in 5.00 min. Items per second: 30.94\n",
      "SLIMElasticNetRecommender: Processed 18616 (48.8%) in 10.00 min. Items per second: 31.02\n",
      "SLIMElasticNetRecommender: Processed 28235 (74.1%) in 15.00 min. Items per second: 31.37\n",
      "SLIMElasticNetRecommender: Processed 37827 (99.2%) in 20.00 min. Items per second: 31.52\n",
      "SLIMElasticNetRecommender: Processed 38121 (100.0%) in 20.16 min. Items per second: 31.51\n",
      "EvaluatorHoldout: Processed 35565 (100.0%) in 12.61 sec. Users per second: 2821\n"
     ]
    },
    {
     "name": "stderr",
     "output_type": "stream",
     "text": [
      "[I 2024-12-08 09:14:10,094] Trial 29 finished with value: 0.06057013092504262 and parameters: {'topK': 302, 'l1_ratio': 0.14460428190588018, 'alpha': 0.0003189067448937943}. Best is trial 7 with value: 0.060795630178589.\n"
     ]
    },
    {
     "name": "stdout",
     "output_type": "stream",
     "text": [
      "SLIMElasticNetRecommender: Processed 8898 (23.3%) in 5.00 min. Items per second: 29.66\n",
      "SLIMElasticNetRecommender: Processed 17874 (46.9%) in 10.00 min. Items per second: 29.79\n",
      "SLIMElasticNetRecommender: Processed 26968 (70.7%) in 15.00 min. Items per second: 29.96\n",
      "SLIMElasticNetRecommender: Processed 36132 (94.8%) in 20.00 min. Items per second: 30.11\n",
      "SLIMElasticNetRecommender: Processed 38121 (100.0%) in 21.12 min. Items per second: 30.08\n",
      "EvaluatorHoldout: Processed 35565 (100.0%) in 15.32 sec. Users per second: 2322\n"
     ]
    },
    {
     "name": "stderr",
     "output_type": "stream",
     "text": [
      "[I 2024-12-08 09:35:32,718] Trial 30 finished with value: 0.06042346452616188 and parameters: {'topK': 308, 'l1_ratio': 0.06434810652387951, 'alpha': 0.00022498279790860291}. Best is trial 7 with value: 0.060795630178589.\n"
     ]
    },
    {
     "name": "stdout",
     "output_type": "stream",
     "text": [
      "SLIMElasticNetRecommender: Processed 9303 (24.4%) in 5.00 min. Items per second: 31.00\n",
      "SLIMElasticNetRecommender: Processed 18649 (48.9%) in 10.00 min. Items per second: 31.08\n",
      "SLIMElasticNetRecommender: Processed 28326 (74.3%) in 15.00 min. Items per second: 31.47\n",
      "SLIMElasticNetRecommender: Processed 37991 (99.7%) in 20.00 min. Items per second: 31.66\n",
      "SLIMElasticNetRecommender: Processed 38121 (100.0%) in 20.07 min. Items per second: 31.65\n",
      "EvaluatorHoldout: Processed 35565 (100.0%) in 12.19 sec. Users per second: 2918\n"
     ]
    },
    {
     "name": "stderr",
     "output_type": "stream",
     "text": [
      "[I 2024-12-08 09:55:49,212] Trial 31 finished with value: 0.060501388024161294 and parameters: {'topK': 292, 'l1_ratio': 0.1723160923741559, 'alpha': 0.0002851744781934702}. Best is trial 7 with value: 0.060795630178589.\n"
     ]
    },
    {
     "name": "stdout",
     "output_type": "stream",
     "text": [
      "SLIMElasticNetRecommender: Processed 9979 (26.2%) in 5.00 min. Items per second: 33.26\n",
      "SLIMElasticNetRecommender: Processed 20270 (53.2%) in 10.00 min. Items per second: 33.78\n",
      "SLIMElasticNetRecommender: Processed 30661 (80.4%) in 15.00 min. Items per second: 34.07\n",
      "SLIMElasticNetRecommender: Processed 38121 (100.0%) in 18.46 min. Items per second: 34.42\n",
      "EvaluatorHoldout: Processed 35565 (100.0%) in 11.33 sec. Users per second: 3140\n"
     ]
    },
    {
     "name": "stderr",
     "output_type": "stream",
     "text": [
      "[I 2024-12-08 10:14:27,925] Trial 32 finished with value: 0.05943707251868174 and parameters: {'topK': 292, 'l1_ratio': 0.16814856431034292, 'alpha': 0.00041525166537228575}. Best is trial 7 with value: 0.060795630178589.\n"
     ]
    },
    {
     "name": "stdout",
     "output_type": "stream",
     "text": [
      "SLIMElasticNetRecommender: Processed 8975 (23.5%) in 5.00 min. Items per second: 29.91\n",
      "SLIMElasticNetRecommender: Processed 18094 (47.5%) in 10.00 min. Items per second: 30.15\n",
      "SLIMElasticNetRecommender: Processed 27461 (72.0%) in 15.00 min. Items per second: 30.51\n",
      "SLIMElasticNetRecommender: Processed 36833 (96.6%) in 20.00 min. Items per second: 30.69\n",
      "SLIMElasticNetRecommender: Processed 38121 (100.0%) in 20.73 min. Items per second: 30.65\n",
      "EvaluatorHoldout: Processed 35565 (100.0%) in 13.24 sec. Users per second: 2685\n"
     ]
    },
    {
     "name": "stderr",
     "output_type": "stream",
     "text": [
      "[I 2024-12-08 10:35:25,107] Trial 33 finished with value: 0.06077015814995359 and parameters: {'topK': 295, 'l1_ratio': 0.15850295239822992, 'alpha': 0.00024163549145831531}. Best is trial 7 with value: 0.060795630178589.\n"
     ]
    },
    {
     "name": "stdout",
     "output_type": "stream",
     "text": [
      "SLIMElasticNetRecommender: Processed 8921 (23.4%) in 5.00 min. Items per second: 29.73\n",
      "SLIMElasticNetRecommender: Processed 17928 (47.0%) in 10.00 min. Items per second: 29.88\n",
      "SLIMElasticNetRecommender: Processed 24314 (63.8%) in 16.81 min. Items per second: 24.11\n",
      "SLIMElasticNetRecommender: Processed 33219 (87.1%) in 21.81 min. Items per second: 25.39\n",
      "SLIMElasticNetRecommender: Processed 38121 (100.0%) in 24.55 min. Items per second: 25.87\n",
      "EvaluatorHoldout: Processed 35565 (100.0%) in 13.59 sec. Users per second: 2616\n"
     ]
    },
    {
     "name": "stderr",
     "output_type": "stream",
     "text": [
      "[I 2024-12-08 11:00:12,056] Trial 34 finished with value: 0.06078307324616694 and parameters: {'topK': 295, 'l1_ratio': 0.1913504910051197, 'alpha': 0.00019273770987542158}. Best is trial 7 with value: 0.060795630178589.\n"
     ]
    },
    {
     "name": "stdout",
     "output_type": "stream",
     "text": [
      "SLIMElasticNetRecommender: Processed 8597 (22.6%) in 5.00 min. Items per second: 28.65\n",
      "SLIMElasticNetRecommender: Processed 17175 (45.1%) in 10.00 min. Items per second: 28.62\n",
      "SLIMElasticNetRecommender: Processed 25880 (67.9%) in 15.00 min. Items per second: 28.75\n",
      "SLIMElasticNetRecommender: Processed 34562 (90.7%) in 20.00 min. Items per second: 28.80\n",
      "SLIMElasticNetRecommender: Processed 38121 (100.0%) in 22.18 min. Items per second: 28.64\n",
      "EvaluatorHoldout: Processed 35565 (100.0%) in 13.99 sec. Users per second: 2542\n"
     ]
    },
    {
     "name": "stderr",
     "output_type": "stream",
     "text": [
      "[I 2024-12-08 11:22:37,093] Trial 35 finished with value: 0.06064914788259174 and parameters: {'topK': 294, 'l1_ratio': 0.1941733760975943, 'alpha': 0.00014796854399834743}. Best is trial 7 with value: 0.060795630178589.\n"
     ]
    },
    {
     "name": "stdout",
     "output_type": "stream",
     "text": [
      "SLIMElasticNetRecommender: Processed 9268 (24.3%) in 5.00 min. Items per second: 30.89\n",
      "SLIMElasticNetRecommender: Processed 18343 (48.1%) in 10.00 min. Items per second: 30.57\n",
      "SLIMElasticNetRecommender: Processed 27965 (73.4%) in 15.00 min. Items per second: 31.07\n",
      "SLIMElasticNetRecommender: Processed 37574 (98.6%) in 20.00 min. Items per second: 31.31\n",
      "SLIMElasticNetRecommender: Processed 38121 (100.0%) in 20.30 min. Items per second: 31.30\n",
      "EvaluatorHoldout: Processed 35565 (100.0%) in 12.42 sec. Users per second: 2864\n"
     ]
    },
    {
     "name": "stderr",
     "output_type": "stream",
     "text": [
      "[I 2024-12-08 11:43:07,650] Trial 36 finished with value: 0.05987612553808076 and parameters: {'topK': 295, 'l1_ratio': 0.11087221881224407, 'alpha': 0.0004736538238669626}. Best is trial 7 with value: 0.060795630178589.\n"
     ]
    },
    {
     "name": "stdout",
     "output_type": "stream",
     "text": [
      "SLIMElasticNetRecommender: Processed 10070 (26.4%) in 5.00 min. Items per second: 33.56\n",
      "SLIMElasticNetRecommender: Processed 20557 (53.9%) in 10.00 min. Items per second: 34.26\n",
      "SLIMElasticNetRecommender: Processed 31439 (82.5%) in 15.00 min. Items per second: 34.93\n",
      "SLIMElasticNetRecommender: Processed 38121 (100.0%) in 17.89 min. Items per second: 35.51\n",
      "EvaluatorHoldout: Processed 35565 (100.0%) in 11.23 sec. Users per second: 3166\n"
     ]
    },
    {
     "name": "stderr",
     "output_type": "stream",
     "text": [
      "[I 2024-12-08 12:01:12,451] Trial 37 finished with value: 0.05898156739615842 and parameters: {'topK': 299, 'l1_ratio': 0.22733030614562136, 'alpha': 0.00036330498054881625}. Best is trial 7 with value: 0.060795630178589.\n"
     ]
    },
    {
     "name": "stdout",
     "output_type": "stream",
     "text": [
      "SLIMElasticNetRecommender: Processed 8314 (21.8%) in 5.00 min. Items per second: 27.71\n",
      "SLIMElasticNetRecommender: Processed 16801 (44.1%) in 10.00 min. Items per second: 28.00\n",
      "SLIMElasticNetRecommender: Processed 25258 (66.3%) in 15.00 min. Items per second: 28.06\n",
      "SLIMElasticNetRecommender: Processed 33808 (88.7%) in 20.00 min. Items per second: 28.17\n",
      "SLIMElasticNetRecommender: Processed 38121 (100.0%) in 22.58 min. Items per second: 28.14\n",
      "EvaluatorHoldout: Processed 35565 (100.0%) in 14.16 sec. Users per second: 2511\n"
     ]
    },
    {
     "name": "stderr",
     "output_type": "stream",
     "text": [
      "[I 2024-12-08 12:24:01,259] Trial 38 finished with value: 0.06077085104626056 and parameters: {'topK': 304, 'l1_ratio': 0.14501441035502668, 'alpha': 0.0002012781661746075}. Best is trial 7 with value: 0.060795630178589.\n"
     ]
    },
    {
     "name": "stdout",
     "output_type": "stream",
     "text": [
      "SLIMElasticNetRecommender: Processed 11071 (29.0%) in 5.00 min. Items per second: 36.90\n",
      "SLIMElasticNetRecommender: Processed 23014 (60.4%) in 10.00 min. Items per second: 38.35\n",
      "SLIMElasticNetRecommender: Processed 35521 (93.2%) in 15.00 min. Items per second: 39.47\n",
      "SLIMElasticNetRecommender: Processed 38121 (100.0%) in 16.11 min. Items per second: 39.44\n",
      "EvaluatorHoldout: Processed 35565 (100.0%) in 10.98 sec. Users per second: 3240\n"
     ]
    },
    {
     "name": "stderr",
     "output_type": "stream",
     "text": [
      "[I 2024-12-08 12:40:18,860] Trial 39 finished with value: 0.057142636219395145 and parameters: {'topK': 304, 'l1_ratio': 0.1365995044499403, 'alpha': 0.0006879465754866962}. Best is trial 7 with value: 0.060795630178589.\n"
     ]
    },
    {
     "name": "stdout",
     "output_type": "stream",
     "text": [
      "SLIMElasticNetRecommender: Processed 7976 (20.9%) in 5.00 min. Items per second: 26.58\n",
      "SLIMElasticNetRecommender: Processed 16199 (42.5%) in 10.00 min. Items per second: 27.00\n",
      "SLIMElasticNetRecommender: Processed 24357 (63.9%) in 15.00 min. Items per second: 27.06\n",
      "SLIMElasticNetRecommender: Processed 32626 (85.6%) in 20.00 min. Items per second: 27.19\n",
      "SLIMElasticNetRecommender: Processed 38121 (100.0%) in 23.38 min. Items per second: 27.17\n",
      "EvaluatorHoldout: Processed 35565 (100.0%) in 16.25 sec. Users per second: 2188\n"
     ]
    },
    {
     "name": "stderr",
     "output_type": "stream",
     "text": [
      "[I 2024-12-08 13:03:58,256] Trial 40 finished with value: 0.05983608371883144 and parameters: {'topK': 308, 'l1_ratio': 0.12592734439508924, 'alpha': 0.0001009695711863534}. Best is trial 7 with value: 0.060795630178589.\n"
     ]
    },
    {
     "name": "stdout",
     "output_type": "stream",
     "text": [
      "SLIMElasticNetRecommender: Processed 8340 (21.9%) in 5.00 min. Items per second: 27.80\n",
      "SLIMElasticNetRecommender: Processed 16622 (43.6%) in 10.00 min. Items per second: 27.70\n",
      "SLIMElasticNetRecommender: Processed 25063 (65.7%) in 15.00 min. Items per second: 27.85\n",
      "SLIMElasticNetRecommender: Processed 33811 (88.7%) in 20.00 min. Items per second: 28.17\n",
      "SLIMElasticNetRecommender: Processed 38121 (100.0%) in 22.51 min. Items per second: 28.22\n",
      "EvaluatorHoldout: Processed 35565 (100.0%) in 13.13 sec. Users per second: 2709\n"
     ]
    },
    {
     "name": "stderr",
     "output_type": "stream",
     "text": [
      "[I 2024-12-08 13:26:42,105] Trial 41 finished with value: 0.06078353406126268 and parameters: {'topK': 306, 'l1_ratio': 0.21244573649069382, 'alpha': 0.0002010918580348975}. Best is trial 7 with value: 0.060795630178589.\n"
     ]
    },
    {
     "name": "stdout",
     "output_type": "stream",
     "text": [
      "SLIMElasticNetRecommender: Processed 9186 (24.1%) in 5.00 min. Items per second: 30.62\n",
      "SLIMElasticNetRecommender: Processed 18366 (48.2%) in 10.00 min. Items per second: 30.61\n",
      "SLIMElasticNetRecommender: Processed 28543 (74.9%) in 15.00 min. Items per second: 31.71\n",
      "SLIMElasticNetRecommender: Processed 29362 (77.0%) in 30.72 min. Items per second: 15.93\n",
      "SLIMElasticNetRecommender: Processed 36062 (94.6%) in 35.72 min. Items per second: 16.83\n",
      "SLIMElasticNetRecommender: Processed 38121 (100.0%) in 36.80 min. Items per second: 17.26\n",
      "EvaluatorHoldout: Processed 35565 (100.0%) in 11.82 sec. Users per second: 3010\n"
     ]
    },
    {
     "name": "stderr",
     "output_type": "stream",
     "text": [
      "[I 2024-12-08 14:03:42,099] Trial 42 finished with value: 0.0601471484137007 and parameters: {'topK': 306, 'l1_ratio': 0.21490476601022995, 'alpha': 0.0002818645277961018}. Best is trial 7 with value: 0.060795630178589.\n"
     ]
    },
    {
     "name": "stdout",
     "output_type": "stream",
     "text": [
      "SLIMElasticNetRecommender: Processed 8340 (21.9%) in 5.00 min. Items per second: 27.80\n",
      "SLIMElasticNetRecommender: Processed 16711 (43.8%) in 10.00 min. Items per second: 27.85\n",
      "SLIMElasticNetRecommender: Processed 25135 (65.9%) in 15.00 min. Items per second: 27.93\n",
      "SLIMElasticNetRecommender: Processed 33449 (87.7%) in 20.00 min. Items per second: 27.87\n",
      "SLIMElasticNetRecommender: Processed 38121 (100.0%) in 22.94 min. Items per second: 27.69\n",
      "EvaluatorHoldout: Processed 35565 (100.0%) in 14.50 sec. Users per second: 2453\n"
     ]
    },
    {
     "name": "stderr",
     "output_type": "stream",
     "text": [
      "[I 2024-12-08 14:26:53,185] Trial 43 finished with value: 0.06064863127874313 and parameters: {'topK': 304, 'l1_ratio': 0.18692036323033934, 'alpha': 0.00015050286615967418}. Best is trial 7 with value: 0.060795630178589.\n"
     ]
    },
    {
     "name": "stdout",
     "output_type": "stream",
     "text": [
      "SLIMElasticNetRecommender: Processed 8503 (22.3%) in 5.00 min. Items per second: 28.34\n",
      "SLIMElasticNetRecommender: Processed 17192 (45.1%) in 10.00 min. Items per second: 28.65\n",
      "SLIMElasticNetRecommender: Processed 25924 (68.0%) in 15.00 min. Items per second: 28.80\n",
      "SLIMElasticNetRecommender: Processed 34444 (90.4%) in 20.00 min. Items per second: 28.70\n",
      "SLIMElasticNetRecommender: Processed 38121 (100.0%) in 22.17 min. Items per second: 28.66\n",
      "EvaluatorHoldout: Processed 35565 (100.0%) in 14.38 sec. Users per second: 2474\n"
     ]
    },
    {
     "name": "stderr",
     "output_type": "stream",
     "text": [
      "[I 2024-12-08 14:49:17,730] Trial 44 finished with value: 0.06074940696555825 and parameters: {'topK': 308, 'l1_ratio': 0.15006426402732378, 'alpha': 0.0002465753167423205}. Best is trial 7 with value: 0.060795630178589.\n"
     ]
    },
    {
     "name": "stdout",
     "output_type": "stream",
     "text": [
      "SLIMElasticNetRecommender: Processed 8154 (21.4%) in 5.00 min. Items per second: 27.18\n",
      "SLIMElasticNetRecommender: Processed 16702 (43.8%) in 10.00 min. Items per second: 27.83\n",
      "SLIMElasticNetRecommender: Processed 25342 (66.5%) in 15.00 min. Items per second: 28.16\n",
      "SLIMElasticNetRecommender: Processed 34042 (89.3%) in 20.00 min. Items per second: 28.37\n",
      "SLIMElasticNetRecommender: Processed 38121 (100.0%) in 22.40 min. Items per second: 28.37\n",
      "EvaluatorHoldout: Processed 35565 (100.0%) in 14.59 sec. Users per second: 2437\n"
     ]
    },
    {
     "name": "stderr",
     "output_type": "stream",
     "text": [
      "[I 2024-12-08 15:11:56,219] Trial 45 finished with value: 0.06070154021587815 and parameters: {'topK': 306, 'l1_ratio': 0.09637882791980767, 'alpha': 0.0003156761386783485}. Best is trial 7 with value: 0.060795630178589.\n"
     ]
    },
    {
     "name": "stdout",
     "output_type": "stream",
     "text": [
      "SLIMElasticNetRecommender: Processed 8781 (23.0%) in 5.00 min. Items per second: 29.26\n",
      "SLIMElasticNetRecommender: Processed 17736 (46.5%) in 10.00 min. Items per second: 29.56\n",
      "SLIMElasticNetRecommender: Processed 26903 (70.6%) in 15.00 min. Items per second: 29.89\n",
      "SLIMElasticNetRecommender: Processed 36011 (94.5%) in 20.00 min. Items per second: 30.01\n",
      "SLIMElasticNetRecommender: Processed 38121 (100.0%) in 21.20 min. Items per second: 29.97\n",
      "EvaluatorHoldout: Processed 35565 (100.0%) in 12.85 sec. Users per second: 2768\n"
     ]
    },
    {
     "name": "stderr",
     "output_type": "stream",
     "text": [
      "[I 2024-12-08 15:33:21,201] Trial 46 finished with value: 0.0606725267172315 and parameters: {'topK': 303, 'l1_ratio': 0.23594557170877611, 'alpha': 0.000207507926672447}. Best is trial 7 with value: 0.060795630178589.\n"
     ]
    },
    {
     "name": "stdout",
     "output_type": "stream",
     "text": [
      "SLIMElasticNetRecommender: Processed 8261 (21.7%) in 5.00 min. Items per second: 27.53\n",
      "SLIMElasticNetRecommender: Processed 16727 (43.9%) in 10.00 min. Items per second: 27.88\n",
      "SLIMElasticNetRecommender: Processed 25017 (65.6%) in 15.00 min. Items per second: 27.79\n"
     ]
    }
   ],
   "source": [
    "study = op.create_study(direction=\"maximize\")\n",
    "save_results= SaveResults()\n",
    "study.optimize(objective, callbacks=[save_results], n_trials=100)"
   ]
  },
  {
   "cell_type": "code",
   "execution_count": 26,
   "id": "7510269b-0ca6-4ab0-a044-001a56067c91",
   "metadata": {},
   "outputs": [
    {
     "data": {
      "text/html": [
       "<div>\n",
       "<style scoped>\n",
       "    .dataframe tbody tr th:only-of-type {\n",
       "        vertical-align: middle;\n",
       "    }\n",
       "\n",
       "    .dataframe tbody tr th {\n",
       "        vertical-align: top;\n",
       "    }\n",
       "\n",
       "    .dataframe thead th {\n",
       "        text-align: right;\n",
       "    }\n",
       "</style>\n",
       "<table border=\"1\" class=\"dataframe\">\n",
       "  <thead>\n",
       "    <tr style=\"text-align: right;\">\n",
       "      <th></th>\n",
       "      <th>topK</th>\n",
       "      <th>l1_ratio</th>\n",
       "      <th>alpha</th>\n",
       "      <th>result</th>\n",
       "    </tr>\n",
       "  </thead>\n",
       "  <tbody>\n",
       "    <tr>\n",
       "      <th>0</th>\n",
       "      <td>720.0</td>\n",
       "      <td>0.343464</td>\n",
       "      <td>0.768518</td>\n",
       "      <td>0.000265</td>\n",
       "    </tr>\n",
       "    <tr>\n",
       "      <th>1</th>\n",
       "      <td>145.0</td>\n",
       "      <td>0.930758</td>\n",
       "      <td>0.587530</td>\n",
       "      <td>0.000265</td>\n",
       "    </tr>\n",
       "    <tr>\n",
       "      <th>2</th>\n",
       "      <td>386.0</td>\n",
       "      <td>0.106288</td>\n",
       "      <td>0.872912</td>\n",
       "      <td>0.000265</td>\n",
       "    </tr>\n",
       "    <tr>\n",
       "      <th>3</th>\n",
       "      <td>26.0</td>\n",
       "      <td>0.543890</td>\n",
       "      <td>0.859017</td>\n",
       "      <td>0.000265</td>\n",
       "    </tr>\n",
       "  </tbody>\n",
       "</table>\n",
       "</div>"
      ],
      "text/plain": [
       "    topK  l1_ratio     alpha    result\n",
       "0  720.0  0.343464  0.768518  0.000265\n",
       "1  145.0  0.930758  0.587530  0.000265\n",
       "2  386.0  0.106288  0.872912  0.000265\n",
       "3   26.0  0.543890  0.859017  0.000265"
      ]
     },
     "execution_count": 26,
     "metadata": {},
     "output_type": "execute_result"
    }
   ],
   "source": []
  },
  {
   "cell_type": "code",
   "execution_count": 3,
   "id": "d1483cef-5a38-4727-b0d3-5960bfdc41e1",
   "metadata": {},
   "outputs": [],
   "source": [
    "old_results = pd.read_csv(\"result_experiments/SLIM/results.csv\")"
   ]
  },
  {
   "cell_type": "code",
   "execution_count": 5,
   "id": "7e13c49f-6102-4445-85c8-31c9388d48d7",
   "metadata": {},
   "outputs": [
    {
     "data": {
      "text/html": [
       "<div>\n",
       "<style scoped>\n",
       "    .dataframe tbody tr th:only-of-type {\n",
       "        vertical-align: middle;\n",
       "    }\n",
       "\n",
       "    .dataframe tbody tr th {\n",
       "        vertical-align: top;\n",
       "    }\n",
       "\n",
       "    .dataframe thead th {\n",
       "        text-align: right;\n",
       "    }\n",
       "</style>\n",
       "<table border=\"1\" class=\"dataframe\">\n",
       "  <thead>\n",
       "    <tr style=\"text-align: right;\">\n",
       "      <th></th>\n",
       "      <th>topK</th>\n",
       "      <th>l1_ratio</th>\n",
       "      <th>alpha</th>\n",
       "      <th>time</th>\n",
       "      <th>cutoff</th>\n",
       "      <th>PRECISION</th>\n",
       "      <th>PRECISION_RECALL_MIN_DEN</th>\n",
       "      <th>RECALL</th>\n",
       "      <th>MAP</th>\n",
       "      <th>MAP_MIN_DEN</th>\n",
       "      <th>...</th>\n",
       "      <th>COVERAGE_USER</th>\n",
       "      <th>COVERAGE_USER_HIT</th>\n",
       "      <th>USERS_IN_GT</th>\n",
       "      <th>DIVERSITY_GINI</th>\n",
       "      <th>SHANNON_ENTROPY</th>\n",
       "      <th>RATIO_DIVERSITY_HERFINDAHL</th>\n",
       "      <th>RATIO_DIVERSITY_GINI</th>\n",
       "      <th>RATIO_SHANNON_ENTROPY</th>\n",
       "      <th>RATIO_AVERAGE_POPULARITY</th>\n",
       "      <th>RATIO_NOVELTY</th>\n",
       "    </tr>\n",
       "  </thead>\n",
       "  <tbody>\n",
       "    <tr>\n",
       "      <th>19</th>\n",
       "      <td>300</td>\n",
       "      <td>0.11800</td>\n",
       "      <td>0.00026</td>\n",
       "      <td>2024-11-30 07:54:47</td>\n",
       "      <td>10</td>\n",
       "      <td>0.111556</td>\n",
       "      <td>0.166356</td>\n",
       "      <td>0.141104</td>\n",
       "      <td>0.060479</td>\n",
       "      <td>0.087965</td>\n",
       "      <td>...</td>\n",
       "      <td>0.994991</td>\n",
       "      <td>0.569622</td>\n",
       "      <td>0.994991</td>\n",
       "      <td>0.240193</td>\n",
       "      <td>13.452813</td>\n",
       "      <td>0.999874</td>\n",
       "      <td>0.395067</td>\n",
       "      <td>0.911396</td>\n",
       "      <td>1.359627</td>\n",
       "      <td>0.243844</td>\n",
       "    </tr>\n",
       "    <tr>\n",
       "      <th>63</th>\n",
       "      <td>330</td>\n",
       "      <td>0.11100</td>\n",
       "      <td>0.00026</td>\n",
       "      <td>2024-12-01 06:51:24</td>\n",
       "      <td>10</td>\n",
       "      <td>0.111536</td>\n",
       "      <td>0.166336</td>\n",
       "      <td>0.141116</td>\n",
       "      <td>0.060466</td>\n",
       "      <td>0.087930</td>\n",
       "      <td>...</td>\n",
       "      <td>0.994991</td>\n",
       "      <td>0.569398</td>\n",
       "      <td>0.994991</td>\n",
       "      <td>0.240864</td>\n",
       "      <td>13.455295</td>\n",
       "      <td>0.999873</td>\n",
       "      <td>0.396171</td>\n",
       "      <td>0.911564</td>\n",
       "      <td>1.363084</td>\n",
       "      <td>0.243832</td>\n",
       "    </tr>\n",
       "    <tr>\n",
       "      <th>55</th>\n",
       "      <td>320</td>\n",
       "      <td>0.11625</td>\n",
       "      <td>0.00026</td>\n",
       "      <td>2024-12-01 04:02:42</td>\n",
       "      <td>10</td>\n",
       "      <td>0.111522</td>\n",
       "      <td>0.166355</td>\n",
       "      <td>0.141133</td>\n",
       "      <td>0.060464</td>\n",
       "      <td>0.087947</td>\n",
       "      <td>...</td>\n",
       "      <td>0.994991</td>\n",
       "      <td>0.569510</td>\n",
       "      <td>0.994991</td>\n",
       "      <td>0.240054</td>\n",
       "      <td>13.450461</td>\n",
       "      <td>0.999873</td>\n",
       "      <td>0.394839</td>\n",
       "      <td>0.911236</td>\n",
       "      <td>1.364541</td>\n",
       "      <td>0.243797</td>\n",
       "    </tr>\n",
       "    <tr>\n",
       "      <th>39</th>\n",
       "      <td>310</td>\n",
       "      <td>0.11800</td>\n",
       "      <td>0.00026</td>\n",
       "      <td>2024-11-30 22:22:20</td>\n",
       "      <td>10</td>\n",
       "      <td>0.111508</td>\n",
       "      <td>0.166290</td>\n",
       "      <td>0.141070</td>\n",
       "      <td>0.060463</td>\n",
       "      <td>0.087942</td>\n",
       "      <td>...</td>\n",
       "      <td>0.994991</td>\n",
       "      <td>0.569538</td>\n",
       "      <td>0.994991</td>\n",
       "      <td>0.239982</td>\n",
       "      <td>13.450652</td>\n",
       "      <td>0.999873</td>\n",
       "      <td>0.394719</td>\n",
       "      <td>0.911249</td>\n",
       "      <td>1.362562</td>\n",
       "      <td>0.243814</td>\n",
       "    </tr>\n",
       "    <tr>\n",
       "      <th>43</th>\n",
       "      <td>320</td>\n",
       "      <td>0.11100</td>\n",
       "      <td>0.00026</td>\n",
       "      <td>2024-11-30 23:49:08</td>\n",
       "      <td>10</td>\n",
       "      <td>0.111528</td>\n",
       "      <td>0.166322</td>\n",
       "      <td>0.141103</td>\n",
       "      <td>0.060460</td>\n",
       "      <td>0.087929</td>\n",
       "      <td>...</td>\n",
       "      <td>0.994991</td>\n",
       "      <td>0.569398</td>\n",
       "      <td>0.994991</td>\n",
       "      <td>0.241075</td>\n",
       "      <td>13.457495</td>\n",
       "      <td>0.999874</td>\n",
       "      <td>0.396518</td>\n",
       "      <td>0.911713</td>\n",
       "      <td>1.359875</td>\n",
       "      <td>0.243864</td>\n",
       "    </tr>\n",
       "    <tr>\n",
       "      <th>...</th>\n",
       "      <td>...</td>\n",
       "      <td>...</td>\n",
       "      <td>...</td>\n",
       "      <td>...</td>\n",
       "      <td>...</td>\n",
       "      <td>...</td>\n",
       "      <td>...</td>\n",
       "      <td>...</td>\n",
       "      <td>...</td>\n",
       "      <td>...</td>\n",
       "      <td>...</td>\n",
       "      <td>...</td>\n",
       "      <td>...</td>\n",
       "      <td>...</td>\n",
       "      <td>...</td>\n",
       "      <td>...</td>\n",
       "      <td>...</td>\n",
       "      <td>...</td>\n",
       "      <td>...</td>\n",
       "      <td>...</td>\n",
       "      <td>...</td>\n",
       "    </tr>\n",
       "    <tr>\n",
       "      <th>100</th>\n",
       "      <td>350</td>\n",
       "      <td>0.11100</td>\n",
       "      <td>0.00020</td>\n",
       "      <td>2024-12-02 03:04:27</td>\n",
       "      <td>10</td>\n",
       "      <td>0.111157</td>\n",
       "      <td>0.165720</td>\n",
       "      <td>0.140639</td>\n",
       "      <td>0.060305</td>\n",
       "      <td>0.087739</td>\n",
       "      <td>...</td>\n",
       "      <td>0.994991</td>\n",
       "      <td>0.568278</td>\n",
       "      <td>0.994991</td>\n",
       "      <td>0.253919</td>\n",
       "      <td>13.534857</td>\n",
       "      <td>0.999886</td>\n",
       "      <td>0.417643</td>\n",
       "      <td>0.916954</td>\n",
       "      <td>1.326083</td>\n",
       "      <td>0.244530</td>\n",
       "    </tr>\n",
       "    <tr>\n",
       "      <th>20</th>\n",
       "      <td>310</td>\n",
       "      <td>0.11100</td>\n",
       "      <td>0.00020</td>\n",
       "      <td>2024-11-30 08:15:55</td>\n",
       "      <td>10</td>\n",
       "      <td>0.111084</td>\n",
       "      <td>0.165681</td>\n",
       "      <td>0.140623</td>\n",
       "      <td>0.060299</td>\n",
       "      <td>0.087732</td>\n",
       "      <td>...</td>\n",
       "      <td>0.994991</td>\n",
       "      <td>0.568027</td>\n",
       "      <td>0.994991</td>\n",
       "      <td>0.255103</td>\n",
       "      <td>13.545145</td>\n",
       "      <td>0.999889</td>\n",
       "      <td>0.419591</td>\n",
       "      <td>0.917651</td>\n",
       "      <td>1.312987</td>\n",
       "      <td>0.244680</td>\n",
       "    </tr>\n",
       "    <tr>\n",
       "      <th>60</th>\n",
       "      <td>330</td>\n",
       "      <td>0.11100</td>\n",
       "      <td>0.00020</td>\n",
       "      <td>2024-12-01 05:48:24</td>\n",
       "      <td>10</td>\n",
       "      <td>0.111120</td>\n",
       "      <td>0.165680</td>\n",
       "      <td>0.140613</td>\n",
       "      <td>0.060298</td>\n",
       "      <td>0.087725</td>\n",
       "      <td>...</td>\n",
       "      <td>0.994991</td>\n",
       "      <td>0.568167</td>\n",
       "      <td>0.994991</td>\n",
       "      <td>0.254458</td>\n",
       "      <td>13.539355</td>\n",
       "      <td>0.999887</td>\n",
       "      <td>0.418530</td>\n",
       "      <td>0.917259</td>\n",
       "      <td>1.320494</td>\n",
       "      <td>0.244595</td>\n",
       "    </tr>\n",
       "    <tr>\n",
       "      <th>40</th>\n",
       "      <td>320</td>\n",
       "      <td>0.11100</td>\n",
       "      <td>0.00020</td>\n",
       "      <td>2024-11-30 22:44:29</td>\n",
       "      <td>10</td>\n",
       "      <td>0.111103</td>\n",
       "      <td>0.165689</td>\n",
       "      <td>0.140637</td>\n",
       "      <td>0.060292</td>\n",
       "      <td>0.087724</td>\n",
       "      <td>...</td>\n",
       "      <td>0.994991</td>\n",
       "      <td>0.568223</td>\n",
       "      <td>0.994991</td>\n",
       "      <td>0.254819</td>\n",
       "      <td>13.542520</td>\n",
       "      <td>0.999888</td>\n",
       "      <td>0.419124</td>\n",
       "      <td>0.917473</td>\n",
       "      <td>1.316684</td>\n",
       "      <td>0.244639</td>\n",
       "    </tr>\n",
       "    <tr>\n",
       "      <th>0</th>\n",
       "      <td>300</td>\n",
       "      <td>0.11100</td>\n",
       "      <td>0.00020</td>\n",
       "      <td>2024-11-30 01:14:18</td>\n",
       "      <td>10</td>\n",
       "      <td>0.111081</td>\n",
       "      <td>0.165700</td>\n",
       "      <td>0.140646</td>\n",
       "      <td>0.060276</td>\n",
       "      <td>0.087713</td>\n",
       "      <td>...</td>\n",
       "      <td>0.994991</td>\n",
       "      <td>0.567971</td>\n",
       "      <td>0.994991</td>\n",
       "      <td>0.255474</td>\n",
       "      <td>13.548310</td>\n",
       "      <td>0.999890</td>\n",
       "      <td>0.420202</td>\n",
       "      <td>0.917865</td>\n",
       "      <td>1.308909</td>\n",
       "      <td>0.244727</td>\n",
       "    </tr>\n",
       "  </tbody>\n",
       "</table>\n",
       "<p>143 rows × 32 columns</p>\n",
       "</div>"
      ],
      "text/plain": [
       "     topK  l1_ratio    alpha                 time  cutoff  PRECISION  \\\n",
       "19    300   0.11800  0.00026  2024-11-30 07:54:47      10   0.111556   \n",
       "63    330   0.11100  0.00026  2024-12-01 06:51:24      10   0.111536   \n",
       "55    320   0.11625  0.00026  2024-12-01 04:02:42      10   0.111522   \n",
       "39    310   0.11800  0.00026  2024-11-30 22:22:20      10   0.111508   \n",
       "43    320   0.11100  0.00026  2024-11-30 23:49:08      10   0.111528   \n",
       "..    ...       ...      ...                  ...     ...        ...   \n",
       "100   350   0.11100  0.00020  2024-12-02 03:04:27      10   0.111157   \n",
       "20    310   0.11100  0.00020  2024-11-30 08:15:55      10   0.111084   \n",
       "60    330   0.11100  0.00020  2024-12-01 05:48:24      10   0.111120   \n",
       "40    320   0.11100  0.00020  2024-11-30 22:44:29      10   0.111103   \n",
       "0     300   0.11100  0.00020  2024-11-30 01:14:18      10   0.111081   \n",
       "\n",
       "     PRECISION_RECALL_MIN_DEN    RECALL       MAP  MAP_MIN_DEN  ...  \\\n",
       "19                   0.166356  0.141104  0.060479     0.087965  ...   \n",
       "63                   0.166336  0.141116  0.060466     0.087930  ...   \n",
       "55                   0.166355  0.141133  0.060464     0.087947  ...   \n",
       "39                   0.166290  0.141070  0.060463     0.087942  ...   \n",
       "43                   0.166322  0.141103  0.060460     0.087929  ...   \n",
       "..                        ...       ...       ...          ...  ...   \n",
       "100                  0.165720  0.140639  0.060305     0.087739  ...   \n",
       "20                   0.165681  0.140623  0.060299     0.087732  ...   \n",
       "60                   0.165680  0.140613  0.060298     0.087725  ...   \n",
       "40                   0.165689  0.140637  0.060292     0.087724  ...   \n",
       "0                    0.165700  0.140646  0.060276     0.087713  ...   \n",
       "\n",
       "     COVERAGE_USER  COVERAGE_USER_HIT  USERS_IN_GT  DIVERSITY_GINI  \\\n",
       "19        0.994991           0.569622     0.994991        0.240193   \n",
       "63        0.994991           0.569398     0.994991        0.240864   \n",
       "55        0.994991           0.569510     0.994991        0.240054   \n",
       "39        0.994991           0.569538     0.994991        0.239982   \n",
       "43        0.994991           0.569398     0.994991        0.241075   \n",
       "..             ...                ...          ...             ...   \n",
       "100       0.994991           0.568278     0.994991        0.253919   \n",
       "20        0.994991           0.568027     0.994991        0.255103   \n",
       "60        0.994991           0.568167     0.994991        0.254458   \n",
       "40        0.994991           0.568223     0.994991        0.254819   \n",
       "0         0.994991           0.567971     0.994991        0.255474   \n",
       "\n",
       "     SHANNON_ENTROPY  RATIO_DIVERSITY_HERFINDAHL  RATIO_DIVERSITY_GINI  \\\n",
       "19         13.452813                    0.999874              0.395067   \n",
       "63         13.455295                    0.999873              0.396171   \n",
       "55         13.450461                    0.999873              0.394839   \n",
       "39         13.450652                    0.999873              0.394719   \n",
       "43         13.457495                    0.999874              0.396518   \n",
       "..               ...                         ...                   ...   \n",
       "100        13.534857                    0.999886              0.417643   \n",
       "20         13.545145                    0.999889              0.419591   \n",
       "60         13.539355                    0.999887              0.418530   \n",
       "40         13.542520                    0.999888              0.419124   \n",
       "0          13.548310                    0.999890              0.420202   \n",
       "\n",
       "     RATIO_SHANNON_ENTROPY  RATIO_AVERAGE_POPULARITY  RATIO_NOVELTY  \n",
       "19                0.911396                  1.359627       0.243844  \n",
       "63                0.911564                  1.363084       0.243832  \n",
       "55                0.911236                  1.364541       0.243797  \n",
       "39                0.911249                  1.362562       0.243814  \n",
       "43                0.911713                  1.359875       0.243864  \n",
       "..                     ...                       ...            ...  \n",
       "100               0.916954                  1.326083       0.244530  \n",
       "20                0.917651                  1.312987       0.244680  \n",
       "60                0.917259                  1.320494       0.244595  \n",
       "40                0.917473                  1.316684       0.244639  \n",
       "0                 0.917865                  1.308909       0.244727  \n",
       "\n",
       "[143 rows x 32 columns]"
      ]
     },
     "execution_count": 5,
     "metadata": {},
     "output_type": "execute_result"
    }
   ],
   "source": [
    "old_results.sort_values(by=['MAP'], ascending=False)"
   ]
  },
  {
   "cell_type": "code",
   "execution_count": 7,
   "id": "cfdfa209-908e-4193-9d27-ca08c0384719",
   "metadata": {},
   "outputs": [
    {
     "data": {
      "text/html": [
       "<div>\n",
       "<style scoped>\n",
       "    .dataframe tbody tr th:only-of-type {\n",
       "        vertical-align: middle;\n",
       "    }\n",
       "\n",
       "    .dataframe tbody tr th {\n",
       "        vertical-align: top;\n",
       "    }\n",
       "\n",
       "    .dataframe thead th {\n",
       "        text-align: right;\n",
       "    }\n",
       "</style>\n",
       "<table border=\"1\" class=\"dataframe\">\n",
       "  <thead>\n",
       "    <tr style=\"text-align: right;\">\n",
       "      <th></th>\n",
       "      <th>topK</th>\n",
       "      <th>l1_ratio</th>\n",
       "      <th>alpha</th>\n",
       "      <th>time</th>\n",
       "      <th>cutoff</th>\n",
       "      <th>PRECISION</th>\n",
       "      <th>PRECISION_RECALL_MIN_DEN</th>\n",
       "      <th>RECALL</th>\n",
       "      <th>MAP</th>\n",
       "      <th>MAP_MIN_DEN</th>\n",
       "      <th>...</th>\n",
       "      <th>COVERAGE_USER</th>\n",
       "      <th>COVERAGE_USER_HIT</th>\n",
       "      <th>USERS_IN_GT</th>\n",
       "      <th>DIVERSITY_GINI</th>\n",
       "      <th>SHANNON_ENTROPY</th>\n",
       "      <th>RATIO_DIVERSITY_HERFINDAHL</th>\n",
       "      <th>RATIO_DIVERSITY_GINI</th>\n",
       "      <th>RATIO_SHANNON_ENTROPY</th>\n",
       "      <th>RATIO_AVERAGE_POPULARITY</th>\n",
       "      <th>RATIO_NOVELTY</th>\n",
       "    </tr>\n",
       "  </thead>\n",
       "  <tbody>\n",
       "    <tr>\n",
       "      <th>75</th>\n",
       "      <td>330</td>\n",
       "      <td>0.11625</td>\n",
       "      <td>0.00026</td>\n",
       "      <td>2024-12-01 11:03:56</td>\n",
       "      <td>10</td>\n",
       "      <td>0.111503</td>\n",
       "      <td>0.166348</td>\n",
       "      <td>0.141143</td>\n",
       "      <td>0.060451</td>\n",
       "      <td>0.087932</td>\n",
       "      <td>...</td>\n",
       "      <td>0.994991</td>\n",
       "      <td>0.569510</td>\n",
       "      <td>0.994991</td>\n",
       "      <td>0.239853</td>\n",
       "      <td>13.448351</td>\n",
       "      <td>0.999872</td>\n",
       "      <td>0.394507</td>\n",
       "      <td>0.911093</td>\n",
       "      <td>1.367301</td>\n",
       "      <td>0.243768</td>\n",
       "    </tr>\n",
       "    <tr>\n",
       "      <th>55</th>\n",
       "      <td>320</td>\n",
       "      <td>0.11625</td>\n",
       "      <td>0.00026</td>\n",
       "      <td>2024-12-01 04:02:42</td>\n",
       "      <td>10</td>\n",
       "      <td>0.111522</td>\n",
       "      <td>0.166355</td>\n",
       "      <td>0.141133</td>\n",
       "      <td>0.060464</td>\n",
       "      <td>0.087947</td>\n",
       "      <td>...</td>\n",
       "      <td>0.994991</td>\n",
       "      <td>0.569510</td>\n",
       "      <td>0.994991</td>\n",
       "      <td>0.240054</td>\n",
       "      <td>13.450461</td>\n",
       "      <td>0.999873</td>\n",
       "      <td>0.394839</td>\n",
       "      <td>0.911236</td>\n",
       "      <td>1.364541</td>\n",
       "      <td>0.243797</td>\n",
       "    </tr>\n",
       "    <tr>\n",
       "      <th>103</th>\n",
       "      <td>350</td>\n",
       "      <td>0.11100</td>\n",
       "      <td>0.00026</td>\n",
       "      <td>2024-12-02 04:07:47</td>\n",
       "      <td>10</td>\n",
       "      <td>0.111497</td>\n",
       "      <td>0.166318</td>\n",
       "      <td>0.141127</td>\n",
       "      <td>0.060441</td>\n",
       "      <td>0.087900</td>\n",
       "      <td>...</td>\n",
       "      <td>0.994991</td>\n",
       "      <td>0.569314</td>\n",
       "      <td>0.994991</td>\n",
       "      <td>0.240487</td>\n",
       "      <td>13.451387</td>\n",
       "      <td>0.999872</td>\n",
       "      <td>0.395552</td>\n",
       "      <td>0.911299</td>\n",
       "      <td>1.368347</td>\n",
       "      <td>0.243777</td>\n",
       "    </tr>\n",
       "    <tr>\n",
       "      <th>63</th>\n",
       "      <td>330</td>\n",
       "      <td>0.11100</td>\n",
       "      <td>0.00026</td>\n",
       "      <td>2024-12-01 06:51:24</td>\n",
       "      <td>10</td>\n",
       "      <td>0.111536</td>\n",
       "      <td>0.166336</td>\n",
       "      <td>0.141116</td>\n",
       "      <td>0.060466</td>\n",
       "      <td>0.087930</td>\n",
       "      <td>...</td>\n",
       "      <td>0.994991</td>\n",
       "      <td>0.569398</td>\n",
       "      <td>0.994991</td>\n",
       "      <td>0.240864</td>\n",
       "      <td>13.455295</td>\n",
       "      <td>0.999873</td>\n",
       "      <td>0.396171</td>\n",
       "      <td>0.911564</td>\n",
       "      <td>1.363084</td>\n",
       "      <td>0.243832</td>\n",
       "    </tr>\n",
       "    <tr>\n",
       "      <th>79</th>\n",
       "      <td>330</td>\n",
       "      <td>0.11800</td>\n",
       "      <td>0.00026</td>\n",
       "      <td>2024-12-01 13:17:13</td>\n",
       "      <td>10</td>\n",
       "      <td>0.111480</td>\n",
       "      <td>0.166309</td>\n",
       "      <td>0.141116</td>\n",
       "      <td>0.060447</td>\n",
       "      <td>0.087918</td>\n",
       "      <td>...</td>\n",
       "      <td>0.994991</td>\n",
       "      <td>0.569482</td>\n",
       "      <td>0.994991</td>\n",
       "      <td>0.239611</td>\n",
       "      <td>13.446661</td>\n",
       "      <td>0.999872</td>\n",
       "      <td>0.394110</td>\n",
       "      <td>0.910979</td>\n",
       "      <td>1.368187</td>\n",
       "      <td>0.243756</td>\n",
       "    </tr>\n",
       "    <tr>\n",
       "      <th>...</th>\n",
       "      <td>...</td>\n",
       "      <td>...</td>\n",
       "      <td>...</td>\n",
       "      <td>...</td>\n",
       "      <td>...</td>\n",
       "      <td>...</td>\n",
       "      <td>...</td>\n",
       "      <td>...</td>\n",
       "      <td>...</td>\n",
       "      <td>...</td>\n",
       "      <td>...</td>\n",
       "      <td>...</td>\n",
       "      <td>...</td>\n",
       "      <td>...</td>\n",
       "      <td>...</td>\n",
       "      <td>...</td>\n",
       "      <td>...</td>\n",
       "      <td>...</td>\n",
       "      <td>...</td>\n",
       "      <td>...</td>\n",
       "      <td>...</td>\n",
       "    </tr>\n",
       "    <tr>\n",
       "      <th>40</th>\n",
       "      <td>320</td>\n",
       "      <td>0.11100</td>\n",
       "      <td>0.00020</td>\n",
       "      <td>2024-11-30 22:44:29</td>\n",
       "      <td>10</td>\n",
       "      <td>0.111103</td>\n",
       "      <td>0.165689</td>\n",
       "      <td>0.140637</td>\n",
       "      <td>0.060292</td>\n",
       "      <td>0.087724</td>\n",
       "      <td>...</td>\n",
       "      <td>0.994991</td>\n",
       "      <td>0.568223</td>\n",
       "      <td>0.994991</td>\n",
       "      <td>0.254819</td>\n",
       "      <td>13.542520</td>\n",
       "      <td>0.999888</td>\n",
       "      <td>0.419124</td>\n",
       "      <td>0.917473</td>\n",
       "      <td>1.316684</td>\n",
       "      <td>0.244639</td>\n",
       "    </tr>\n",
       "    <tr>\n",
       "      <th>80</th>\n",
       "      <td>340</td>\n",
       "      <td>0.11100</td>\n",
       "      <td>0.00020</td>\n",
       "      <td>2024-12-01 13:39:54</td>\n",
       "      <td>10</td>\n",
       "      <td>0.111162</td>\n",
       "      <td>0.165720</td>\n",
       "      <td>0.140635</td>\n",
       "      <td>0.060310</td>\n",
       "      <td>0.087736</td>\n",
       "      <td>...</td>\n",
       "      <td>0.994991</td>\n",
       "      <td>0.568306</td>\n",
       "      <td>0.994991</td>\n",
       "      <td>0.254164</td>\n",
       "      <td>13.537005</td>\n",
       "      <td>0.999887</td>\n",
       "      <td>0.418047</td>\n",
       "      <td>0.917100</td>\n",
       "      <td>1.323202</td>\n",
       "      <td>0.244562</td>\n",
       "    </tr>\n",
       "    <tr>\n",
       "      <th>140</th>\n",
       "      <td>370</td>\n",
       "      <td>0.11100</td>\n",
       "      <td>0.00020</td>\n",
       "      <td>2024-12-03 10:19:45</td>\n",
       "      <td>10</td>\n",
       "      <td>0.111148</td>\n",
       "      <td>0.165709</td>\n",
       "      <td>0.140625</td>\n",
       "      <td>0.060311</td>\n",
       "      <td>0.087738</td>\n",
       "      <td>...</td>\n",
       "      <td>0.994991</td>\n",
       "      <td>0.568278</td>\n",
       "      <td>0.994991</td>\n",
       "      <td>0.253398</td>\n",
       "      <td>13.529806</td>\n",
       "      <td>0.999884</td>\n",
       "      <td>0.416786</td>\n",
       "      <td>0.916612</td>\n",
       "      <td>1.333071</td>\n",
       "      <td>0.244459</td>\n",
       "    </tr>\n",
       "    <tr>\n",
       "      <th>20</th>\n",
       "      <td>310</td>\n",
       "      <td>0.11100</td>\n",
       "      <td>0.00020</td>\n",
       "      <td>2024-11-30 08:15:55</td>\n",
       "      <td>10</td>\n",
       "      <td>0.111084</td>\n",
       "      <td>0.165681</td>\n",
       "      <td>0.140623</td>\n",
       "      <td>0.060299</td>\n",
       "      <td>0.087732</td>\n",
       "      <td>...</td>\n",
       "      <td>0.994991</td>\n",
       "      <td>0.568027</td>\n",
       "      <td>0.994991</td>\n",
       "      <td>0.255103</td>\n",
       "      <td>13.545145</td>\n",
       "      <td>0.999889</td>\n",
       "      <td>0.419591</td>\n",
       "      <td>0.917651</td>\n",
       "      <td>1.312987</td>\n",
       "      <td>0.244680</td>\n",
       "    </tr>\n",
       "    <tr>\n",
       "      <th>60</th>\n",
       "      <td>330</td>\n",
       "      <td>0.11100</td>\n",
       "      <td>0.00020</td>\n",
       "      <td>2024-12-01 05:48:24</td>\n",
       "      <td>10</td>\n",
       "      <td>0.111120</td>\n",
       "      <td>0.165680</td>\n",
       "      <td>0.140613</td>\n",
       "      <td>0.060298</td>\n",
       "      <td>0.087725</td>\n",
       "      <td>...</td>\n",
       "      <td>0.994991</td>\n",
       "      <td>0.568167</td>\n",
       "      <td>0.994991</td>\n",
       "      <td>0.254458</td>\n",
       "      <td>13.539355</td>\n",
       "      <td>0.999887</td>\n",
       "      <td>0.418530</td>\n",
       "      <td>0.917259</td>\n",
       "      <td>1.320494</td>\n",
       "      <td>0.244595</td>\n",
       "    </tr>\n",
       "  </tbody>\n",
       "</table>\n",
       "<p>143 rows × 32 columns</p>\n",
       "</div>"
      ],
      "text/plain": [
       "     topK  l1_ratio    alpha                 time  cutoff  PRECISION  \\\n",
       "75    330   0.11625  0.00026  2024-12-01 11:03:56      10   0.111503   \n",
       "55    320   0.11625  0.00026  2024-12-01 04:02:42      10   0.111522   \n",
       "103   350   0.11100  0.00026  2024-12-02 04:07:47      10   0.111497   \n",
       "63    330   0.11100  0.00026  2024-12-01 06:51:24      10   0.111536   \n",
       "79    330   0.11800  0.00026  2024-12-01 13:17:13      10   0.111480   \n",
       "..    ...       ...      ...                  ...     ...        ...   \n",
       "40    320   0.11100  0.00020  2024-11-30 22:44:29      10   0.111103   \n",
       "80    340   0.11100  0.00020  2024-12-01 13:39:54      10   0.111162   \n",
       "140   370   0.11100  0.00020  2024-12-03 10:19:45      10   0.111148   \n",
       "20    310   0.11100  0.00020  2024-11-30 08:15:55      10   0.111084   \n",
       "60    330   0.11100  0.00020  2024-12-01 05:48:24      10   0.111120   \n",
       "\n",
       "     PRECISION_RECALL_MIN_DEN    RECALL       MAP  MAP_MIN_DEN  ...  \\\n",
       "75                   0.166348  0.141143  0.060451     0.087932  ...   \n",
       "55                   0.166355  0.141133  0.060464     0.087947  ...   \n",
       "103                  0.166318  0.141127  0.060441     0.087900  ...   \n",
       "63                   0.166336  0.141116  0.060466     0.087930  ...   \n",
       "79                   0.166309  0.141116  0.060447     0.087918  ...   \n",
       "..                        ...       ...       ...          ...  ...   \n",
       "40                   0.165689  0.140637  0.060292     0.087724  ...   \n",
       "80                   0.165720  0.140635  0.060310     0.087736  ...   \n",
       "140                  0.165709  0.140625  0.060311     0.087738  ...   \n",
       "20                   0.165681  0.140623  0.060299     0.087732  ...   \n",
       "60                   0.165680  0.140613  0.060298     0.087725  ...   \n",
       "\n",
       "     COVERAGE_USER  COVERAGE_USER_HIT  USERS_IN_GT  DIVERSITY_GINI  \\\n",
       "75        0.994991           0.569510     0.994991        0.239853   \n",
       "55        0.994991           0.569510     0.994991        0.240054   \n",
       "103       0.994991           0.569314     0.994991        0.240487   \n",
       "63        0.994991           0.569398     0.994991        0.240864   \n",
       "79        0.994991           0.569482     0.994991        0.239611   \n",
       "..             ...                ...          ...             ...   \n",
       "40        0.994991           0.568223     0.994991        0.254819   \n",
       "80        0.994991           0.568306     0.994991        0.254164   \n",
       "140       0.994991           0.568278     0.994991        0.253398   \n",
       "20        0.994991           0.568027     0.994991        0.255103   \n",
       "60        0.994991           0.568167     0.994991        0.254458   \n",
       "\n",
       "     SHANNON_ENTROPY  RATIO_DIVERSITY_HERFINDAHL  RATIO_DIVERSITY_GINI  \\\n",
       "75         13.448351                    0.999872              0.394507   \n",
       "55         13.450461                    0.999873              0.394839   \n",
       "103        13.451387                    0.999872              0.395552   \n",
       "63         13.455295                    0.999873              0.396171   \n",
       "79         13.446661                    0.999872              0.394110   \n",
       "..               ...                         ...                   ...   \n",
       "40         13.542520                    0.999888              0.419124   \n",
       "80         13.537005                    0.999887              0.418047   \n",
       "140        13.529806                    0.999884              0.416786   \n",
       "20         13.545145                    0.999889              0.419591   \n",
       "60         13.539355                    0.999887              0.418530   \n",
       "\n",
       "     RATIO_SHANNON_ENTROPY  RATIO_AVERAGE_POPULARITY  RATIO_NOVELTY  \n",
       "75                0.911093                  1.367301       0.243768  \n",
       "55                0.911236                  1.364541       0.243797  \n",
       "103               0.911299                  1.368347       0.243777  \n",
       "63                0.911564                  1.363084       0.243832  \n",
       "79                0.910979                  1.368187       0.243756  \n",
       "..                     ...                       ...            ...  \n",
       "40                0.917473                  1.316684       0.244639  \n",
       "80                0.917100                  1.323202       0.244562  \n",
       "140               0.916612                  1.333071       0.244459  \n",
       "20                0.917651                  1.312987       0.244680  \n",
       "60                0.917259                  1.320494       0.244595  \n",
       "\n",
       "[143 rows x 32 columns]"
      ]
     },
     "execution_count": 7,
     "metadata": {},
     "output_type": "execute_result"
    }
   ],
   "source": [
    "old_results.sort_values(by=['RECALL'], ascending=False)"
   ]
  },
  {
   "cell_type": "code",
   "execution_count": null,
   "id": "eadb49e7-3ee5-4b0e-987f-d2f2a02fcb95",
   "metadata": {},
   "outputs": [],
   "source": []
  }
 ],
 "metadata": {
  "kernelspec": {
   "display_name": "RecSys",
   "language": "python",
   "name": "recsys"
  },
  "language_info": {
   "codemirror_mode": {
    "name": "ipython",
    "version": 3
   },
   "file_extension": ".py",
   "mimetype": "text/x-python",
   "name": "python",
   "nbconvert_exporter": "python",
   "pygments_lexer": "ipython3",
   "version": "3.12.7"
  }
 },
 "nbformat": 4,
 "nbformat_minor": 5
}
