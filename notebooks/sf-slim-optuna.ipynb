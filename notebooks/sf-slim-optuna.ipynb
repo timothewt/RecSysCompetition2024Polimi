{
 "cells": [
  {
   "cell_type": "code",
   "execution_count": 1,
   "id": "76275c44-d1e1-4065-8c91-0e1491d0c501",
   "metadata": {},
   "outputs": [],
   "source": [
    "from pathlib import Path\n",
    "import sys  \n",
    "import os\n",
    "import pandas as pd \n",
    "from datetime import datetime\n",
    "import scipy.sparse as sps\n",
    "from numpy import linalg as LA\n",
    "\n",
    "import numpy as np\n",
    "from operator import itemgetter\n",
    "import optuna as op"
   ]
  },
  {
   "cell_type": "code",
   "execution_count": 2,
   "id": "30820364-4aaa-4975-a1b3-8a19acd7360b",
   "metadata": {},
   "outputs": [],
   "source": [
    "sys.path.append(os.path.abspath(os.path.join(os.getcwd(), \"..\", \"libs\")))\n",
    "sys.path.append(os.path.abspath(os.path.join(os.getcwd(), \"..\")))\n",
    "sys.path.append(os.path.abspath(os.path.join(os.getcwd(), \"..\", \"src\")))"
   ]
  },
  {
   "cell_type": "code",
   "execution_count": 3,
   "id": "c6ca96af-d5b8-467c-8df4-52963a4ae0a7",
   "metadata": {},
   "outputs": [],
   "source": [
    "from libs.Recommenders.SLIM.SLIMElasticNetRecommender import SLIMElasticNetRecommender\n",
    "from libs.Evaluation.Evaluator import EvaluatorHoldout"
   ]
  },
  {
   "cell_type": "code",
   "execution_count": 4,
   "id": "592f5f15-6e9e-48c9-9de8-96424e4e16d0",
   "metadata": {},
   "outputs": [],
   "source": [
    "%load_ext autoreload\n",
    "%autoreload 2"
   ]
  },
  {
   "cell_type": "code",
   "execution_count": 5,
   "id": "956842a4-dc4d-4aee-a788-e12a7f8e276c",
   "metadata": {},
   "outputs": [],
   "source": [
    "slim_res = pd.read_csv(\"result_experiments/SLIM/results.csv\")"
   ]
  },
  {
   "cell_type": "code",
   "execution_count": 6,
   "id": "6fa62cad-38d8-4121-833b-663ea3bc9f74",
   "metadata": {},
   "outputs": [
    {
     "data": {
      "text/html": [
       "<div>\n",
       "<style scoped>\n",
       "    .dataframe tbody tr th:only-of-type {\n",
       "        vertical-align: middle;\n",
       "    }\n",
       "\n",
       "    .dataframe tbody tr th {\n",
       "        vertical-align: top;\n",
       "    }\n",
       "\n",
       "    .dataframe thead th {\n",
       "        text-align: right;\n",
       "    }\n",
       "</style>\n",
       "<table border=\"1\" class=\"dataframe\">\n",
       "  <thead>\n",
       "    <tr style=\"text-align: right;\">\n",
       "      <th></th>\n",
       "      <th>topK</th>\n",
       "      <th>l1_ratio</th>\n",
       "      <th>alpha</th>\n",
       "      <th>time</th>\n",
       "      <th>cutoff</th>\n",
       "      <th>PRECISION</th>\n",
       "      <th>PRECISION_RECALL_MIN_DEN</th>\n",
       "      <th>RECALL</th>\n",
       "      <th>MAP</th>\n",
       "      <th>MAP_MIN_DEN</th>\n",
       "      <th>...</th>\n",
       "      <th>COVERAGE_USER</th>\n",
       "      <th>COVERAGE_USER_HIT</th>\n",
       "      <th>USERS_IN_GT</th>\n",
       "      <th>DIVERSITY_GINI</th>\n",
       "      <th>SHANNON_ENTROPY</th>\n",
       "      <th>RATIO_DIVERSITY_HERFINDAHL</th>\n",
       "      <th>RATIO_DIVERSITY_GINI</th>\n",
       "      <th>RATIO_SHANNON_ENTROPY</th>\n",
       "      <th>RATIO_AVERAGE_POPULARITY</th>\n",
       "      <th>RATIO_NOVELTY</th>\n",
       "    </tr>\n",
       "  </thead>\n",
       "  <tbody>\n",
       "    <tr>\n",
       "      <th>75</th>\n",
       "      <td>330</td>\n",
       "      <td>0.11625</td>\n",
       "      <td>0.00026</td>\n",
       "      <td>2024-12-01 11:03:56</td>\n",
       "      <td>10</td>\n",
       "      <td>0.111503</td>\n",
       "      <td>0.166348</td>\n",
       "      <td>0.141143</td>\n",
       "      <td>0.060451</td>\n",
       "      <td>0.087932</td>\n",
       "      <td>...</td>\n",
       "      <td>0.994991</td>\n",
       "      <td>0.569510</td>\n",
       "      <td>0.994991</td>\n",
       "      <td>0.239853</td>\n",
       "      <td>13.448351</td>\n",
       "      <td>0.999872</td>\n",
       "      <td>0.394507</td>\n",
       "      <td>0.911093</td>\n",
       "      <td>1.367301</td>\n",
       "      <td>0.243768</td>\n",
       "    </tr>\n",
       "    <tr>\n",
       "      <th>55</th>\n",
       "      <td>320</td>\n",
       "      <td>0.11625</td>\n",
       "      <td>0.00026</td>\n",
       "      <td>2024-12-01 04:02:42</td>\n",
       "      <td>10</td>\n",
       "      <td>0.111522</td>\n",
       "      <td>0.166355</td>\n",
       "      <td>0.141133</td>\n",
       "      <td>0.060464</td>\n",
       "      <td>0.087947</td>\n",
       "      <td>...</td>\n",
       "      <td>0.994991</td>\n",
       "      <td>0.569510</td>\n",
       "      <td>0.994991</td>\n",
       "      <td>0.240054</td>\n",
       "      <td>13.450461</td>\n",
       "      <td>0.999873</td>\n",
       "      <td>0.394839</td>\n",
       "      <td>0.911236</td>\n",
       "      <td>1.364541</td>\n",
       "      <td>0.243797</td>\n",
       "    </tr>\n",
       "    <tr>\n",
       "      <th>103</th>\n",
       "      <td>350</td>\n",
       "      <td>0.11100</td>\n",
       "      <td>0.00026</td>\n",
       "      <td>2024-12-02 04:07:47</td>\n",
       "      <td>10</td>\n",
       "      <td>0.111497</td>\n",
       "      <td>0.166318</td>\n",
       "      <td>0.141127</td>\n",
       "      <td>0.060441</td>\n",
       "      <td>0.087900</td>\n",
       "      <td>...</td>\n",
       "      <td>0.994991</td>\n",
       "      <td>0.569314</td>\n",
       "      <td>0.994991</td>\n",
       "      <td>0.240487</td>\n",
       "      <td>13.451387</td>\n",
       "      <td>0.999872</td>\n",
       "      <td>0.395552</td>\n",
       "      <td>0.911299</td>\n",
       "      <td>1.368347</td>\n",
       "      <td>0.243777</td>\n",
       "    </tr>\n",
       "    <tr>\n",
       "      <th>63</th>\n",
       "      <td>330</td>\n",
       "      <td>0.11100</td>\n",
       "      <td>0.00026</td>\n",
       "      <td>2024-12-01 06:51:24</td>\n",
       "      <td>10</td>\n",
       "      <td>0.111536</td>\n",
       "      <td>0.166336</td>\n",
       "      <td>0.141116</td>\n",
       "      <td>0.060466</td>\n",
       "      <td>0.087930</td>\n",
       "      <td>...</td>\n",
       "      <td>0.994991</td>\n",
       "      <td>0.569398</td>\n",
       "      <td>0.994991</td>\n",
       "      <td>0.240864</td>\n",
       "      <td>13.455295</td>\n",
       "      <td>0.999873</td>\n",
       "      <td>0.396171</td>\n",
       "      <td>0.911564</td>\n",
       "      <td>1.363084</td>\n",
       "      <td>0.243832</td>\n",
       "    </tr>\n",
       "    <tr>\n",
       "      <th>79</th>\n",
       "      <td>330</td>\n",
       "      <td>0.11800</td>\n",
       "      <td>0.00026</td>\n",
       "      <td>2024-12-01 13:17:13</td>\n",
       "      <td>10</td>\n",
       "      <td>0.111480</td>\n",
       "      <td>0.166309</td>\n",
       "      <td>0.141116</td>\n",
       "      <td>0.060447</td>\n",
       "      <td>0.087918</td>\n",
       "      <td>...</td>\n",
       "      <td>0.994991</td>\n",
       "      <td>0.569482</td>\n",
       "      <td>0.994991</td>\n",
       "      <td>0.239611</td>\n",
       "      <td>13.446661</td>\n",
       "      <td>0.999872</td>\n",
       "      <td>0.394110</td>\n",
       "      <td>0.910979</td>\n",
       "      <td>1.368187</td>\n",
       "      <td>0.243756</td>\n",
       "    </tr>\n",
       "    <tr>\n",
       "      <th>...</th>\n",
       "      <td>...</td>\n",
       "      <td>...</td>\n",
       "      <td>...</td>\n",
       "      <td>...</td>\n",
       "      <td>...</td>\n",
       "      <td>...</td>\n",
       "      <td>...</td>\n",
       "      <td>...</td>\n",
       "      <td>...</td>\n",
       "      <td>...</td>\n",
       "      <td>...</td>\n",
       "      <td>...</td>\n",
       "      <td>...</td>\n",
       "      <td>...</td>\n",
       "      <td>...</td>\n",
       "      <td>...</td>\n",
       "      <td>...</td>\n",
       "      <td>...</td>\n",
       "      <td>...</td>\n",
       "      <td>...</td>\n",
       "      <td>...</td>\n",
       "    </tr>\n",
       "    <tr>\n",
       "      <th>40</th>\n",
       "      <td>320</td>\n",
       "      <td>0.11100</td>\n",
       "      <td>0.00020</td>\n",
       "      <td>2024-11-30 22:44:29</td>\n",
       "      <td>10</td>\n",
       "      <td>0.111103</td>\n",
       "      <td>0.165689</td>\n",
       "      <td>0.140637</td>\n",
       "      <td>0.060292</td>\n",
       "      <td>0.087724</td>\n",
       "      <td>...</td>\n",
       "      <td>0.994991</td>\n",
       "      <td>0.568223</td>\n",
       "      <td>0.994991</td>\n",
       "      <td>0.254819</td>\n",
       "      <td>13.542520</td>\n",
       "      <td>0.999888</td>\n",
       "      <td>0.419124</td>\n",
       "      <td>0.917473</td>\n",
       "      <td>1.316684</td>\n",
       "      <td>0.244639</td>\n",
       "    </tr>\n",
       "    <tr>\n",
       "      <th>80</th>\n",
       "      <td>340</td>\n",
       "      <td>0.11100</td>\n",
       "      <td>0.00020</td>\n",
       "      <td>2024-12-01 13:39:54</td>\n",
       "      <td>10</td>\n",
       "      <td>0.111162</td>\n",
       "      <td>0.165720</td>\n",
       "      <td>0.140635</td>\n",
       "      <td>0.060310</td>\n",
       "      <td>0.087736</td>\n",
       "      <td>...</td>\n",
       "      <td>0.994991</td>\n",
       "      <td>0.568306</td>\n",
       "      <td>0.994991</td>\n",
       "      <td>0.254164</td>\n",
       "      <td>13.537005</td>\n",
       "      <td>0.999887</td>\n",
       "      <td>0.418047</td>\n",
       "      <td>0.917100</td>\n",
       "      <td>1.323202</td>\n",
       "      <td>0.244562</td>\n",
       "    </tr>\n",
       "    <tr>\n",
       "      <th>140</th>\n",
       "      <td>370</td>\n",
       "      <td>0.11100</td>\n",
       "      <td>0.00020</td>\n",
       "      <td>2024-12-03 10:19:45</td>\n",
       "      <td>10</td>\n",
       "      <td>0.111148</td>\n",
       "      <td>0.165709</td>\n",
       "      <td>0.140625</td>\n",
       "      <td>0.060311</td>\n",
       "      <td>0.087738</td>\n",
       "      <td>...</td>\n",
       "      <td>0.994991</td>\n",
       "      <td>0.568278</td>\n",
       "      <td>0.994991</td>\n",
       "      <td>0.253398</td>\n",
       "      <td>13.529806</td>\n",
       "      <td>0.999884</td>\n",
       "      <td>0.416786</td>\n",
       "      <td>0.916612</td>\n",
       "      <td>1.333071</td>\n",
       "      <td>0.244459</td>\n",
       "    </tr>\n",
       "    <tr>\n",
       "      <th>20</th>\n",
       "      <td>310</td>\n",
       "      <td>0.11100</td>\n",
       "      <td>0.00020</td>\n",
       "      <td>2024-11-30 08:15:55</td>\n",
       "      <td>10</td>\n",
       "      <td>0.111084</td>\n",
       "      <td>0.165681</td>\n",
       "      <td>0.140623</td>\n",
       "      <td>0.060299</td>\n",
       "      <td>0.087732</td>\n",
       "      <td>...</td>\n",
       "      <td>0.994991</td>\n",
       "      <td>0.568027</td>\n",
       "      <td>0.994991</td>\n",
       "      <td>0.255103</td>\n",
       "      <td>13.545145</td>\n",
       "      <td>0.999889</td>\n",
       "      <td>0.419591</td>\n",
       "      <td>0.917651</td>\n",
       "      <td>1.312987</td>\n",
       "      <td>0.244680</td>\n",
       "    </tr>\n",
       "    <tr>\n",
       "      <th>60</th>\n",
       "      <td>330</td>\n",
       "      <td>0.11100</td>\n",
       "      <td>0.00020</td>\n",
       "      <td>2024-12-01 05:48:24</td>\n",
       "      <td>10</td>\n",
       "      <td>0.111120</td>\n",
       "      <td>0.165680</td>\n",
       "      <td>0.140613</td>\n",
       "      <td>0.060298</td>\n",
       "      <td>0.087725</td>\n",
       "      <td>...</td>\n",
       "      <td>0.994991</td>\n",
       "      <td>0.568167</td>\n",
       "      <td>0.994991</td>\n",
       "      <td>0.254458</td>\n",
       "      <td>13.539355</td>\n",
       "      <td>0.999887</td>\n",
       "      <td>0.418530</td>\n",
       "      <td>0.917259</td>\n",
       "      <td>1.320494</td>\n",
       "      <td>0.244595</td>\n",
       "    </tr>\n",
       "  </tbody>\n",
       "</table>\n",
       "<p>143 rows × 32 columns</p>\n",
       "</div>"
      ],
      "text/plain": [
       "     topK  l1_ratio    alpha                 time  cutoff  PRECISION  \\\n",
       "75    330   0.11625  0.00026  2024-12-01 11:03:56      10   0.111503   \n",
       "55    320   0.11625  0.00026  2024-12-01 04:02:42      10   0.111522   \n",
       "103   350   0.11100  0.00026  2024-12-02 04:07:47      10   0.111497   \n",
       "63    330   0.11100  0.00026  2024-12-01 06:51:24      10   0.111536   \n",
       "79    330   0.11800  0.00026  2024-12-01 13:17:13      10   0.111480   \n",
       "..    ...       ...      ...                  ...     ...        ...   \n",
       "40    320   0.11100  0.00020  2024-11-30 22:44:29      10   0.111103   \n",
       "80    340   0.11100  0.00020  2024-12-01 13:39:54      10   0.111162   \n",
       "140   370   0.11100  0.00020  2024-12-03 10:19:45      10   0.111148   \n",
       "20    310   0.11100  0.00020  2024-11-30 08:15:55      10   0.111084   \n",
       "60    330   0.11100  0.00020  2024-12-01 05:48:24      10   0.111120   \n",
       "\n",
       "     PRECISION_RECALL_MIN_DEN    RECALL       MAP  MAP_MIN_DEN  ...  \\\n",
       "75                   0.166348  0.141143  0.060451     0.087932  ...   \n",
       "55                   0.166355  0.141133  0.060464     0.087947  ...   \n",
       "103                  0.166318  0.141127  0.060441     0.087900  ...   \n",
       "63                   0.166336  0.141116  0.060466     0.087930  ...   \n",
       "79                   0.166309  0.141116  0.060447     0.087918  ...   \n",
       "..                        ...       ...       ...          ...  ...   \n",
       "40                   0.165689  0.140637  0.060292     0.087724  ...   \n",
       "80                   0.165720  0.140635  0.060310     0.087736  ...   \n",
       "140                  0.165709  0.140625  0.060311     0.087738  ...   \n",
       "20                   0.165681  0.140623  0.060299     0.087732  ...   \n",
       "60                   0.165680  0.140613  0.060298     0.087725  ...   \n",
       "\n",
       "     COVERAGE_USER  COVERAGE_USER_HIT  USERS_IN_GT  DIVERSITY_GINI  \\\n",
       "75        0.994991           0.569510     0.994991        0.239853   \n",
       "55        0.994991           0.569510     0.994991        0.240054   \n",
       "103       0.994991           0.569314     0.994991        0.240487   \n",
       "63        0.994991           0.569398     0.994991        0.240864   \n",
       "79        0.994991           0.569482     0.994991        0.239611   \n",
       "..             ...                ...          ...             ...   \n",
       "40        0.994991           0.568223     0.994991        0.254819   \n",
       "80        0.994991           0.568306     0.994991        0.254164   \n",
       "140       0.994991           0.568278     0.994991        0.253398   \n",
       "20        0.994991           0.568027     0.994991        0.255103   \n",
       "60        0.994991           0.568167     0.994991        0.254458   \n",
       "\n",
       "     SHANNON_ENTROPY  RATIO_DIVERSITY_HERFINDAHL  RATIO_DIVERSITY_GINI  \\\n",
       "75         13.448351                    0.999872              0.394507   \n",
       "55         13.450461                    0.999873              0.394839   \n",
       "103        13.451387                    0.999872              0.395552   \n",
       "63         13.455295                    0.999873              0.396171   \n",
       "79         13.446661                    0.999872              0.394110   \n",
       "..               ...                         ...                   ...   \n",
       "40         13.542520                    0.999888              0.419124   \n",
       "80         13.537005                    0.999887              0.418047   \n",
       "140        13.529806                    0.999884              0.416786   \n",
       "20         13.545145                    0.999889              0.419591   \n",
       "60         13.539355                    0.999887              0.418530   \n",
       "\n",
       "     RATIO_SHANNON_ENTROPY  RATIO_AVERAGE_POPULARITY  RATIO_NOVELTY  \n",
       "75                0.911093                  1.367301       0.243768  \n",
       "55                0.911236                  1.364541       0.243797  \n",
       "103               0.911299                  1.368347       0.243777  \n",
       "63                0.911564                  1.363084       0.243832  \n",
       "79                0.910979                  1.368187       0.243756  \n",
       "..                     ...                       ...            ...  \n",
       "40                0.917473                  1.316684       0.244639  \n",
       "80                0.917100                  1.323202       0.244562  \n",
       "140               0.916612                  1.333071       0.244459  \n",
       "20                0.917651                  1.312987       0.244680  \n",
       "60                0.917259                  1.320494       0.244595  \n",
       "\n",
       "[143 rows x 32 columns]"
      ]
     },
     "execution_count": 6,
     "metadata": {},
     "output_type": "execute_result"
    }
   ],
   "source": [
    "slim_res.sort_values(by=['RECALL', \"MAP\"], ascending=False)"
   ]
  },
  {
   "cell_type": "code",
   "execution_count": 5,
   "id": "5a03434e-ac2d-432b-be73-f4ef2932cd84",
   "metadata": {},
   "outputs": [],
   "source": [
    "from Utils.load_URM import load_URM\n",
    "from Utils.load_ICM import load_ICM\n",
    "from Data_manager.split_functions.split_train_validation_random_holdout import split_train_in_two_percentage_global_sample\n",
    "\n",
    "URM_all = load_URM(\"../data/data_train.csv\")\n",
    "ICM_all = load_ICM(\"../data/data_ICM_metadata.csv\")"
   ]
  },
  {
   "cell_type": "code",
   "execution_count": 7,
   "id": "b2bb9712-4fea-4caf-b764-9358e62ddade",
   "metadata": {},
   "outputs": [],
   "source": [
    "URM_train = sps.load_npz(\"URM_train_ens.npz\")\n",
    "URM_val = sps.load_npz(\"URM_val_ens.npz\")\n",
    "URM_test = sps.load_npz(\"URM_test_ens.npz\")\n",
    "\n",
    "URM_train_val = sps.load_npz(\"URM_train_val_ens.npz\")"
   ]
  },
  {
   "cell_type": "code",
   "execution_count": 7,
   "id": "50b815eb-d8be-46bf-9b2b-c466a779a386",
   "metadata": {},
   "outputs": [],
   "source": [
    "#URM_train, URM_validation = split_train_in_two_percentage_global_sample(URM_all, train_percentage = 0.80)"
   ]
  },
  {
   "cell_type": "code",
   "execution_count": 14,
   "id": "8927c6c8-07f0-4de7-b1f6-ce418baabfc6",
   "metadata": {},
   "outputs": [
    {
     "name": "stdout",
     "output_type": "stream",
     "text": [
      "EvaluatorHoldout: Ignoring 527 ( 1.5%) Users that have less than 1 test interactions\n"
     ]
    }
   ],
   "source": [
    "evaluator_test = EvaluatorHoldout(URM_test, cutoff_list=[10])"
   ]
  },
  {
   "cell_type": "code",
   "execution_count": 15,
   "id": "926bc83b-1bdb-4110-b45d-2a1c410f3453",
   "metadata": {},
   "outputs": [],
   "source": [
    "def objective(optuna_trial):\n",
    "    topK = optuna_trial.suggest_int(\"topK\", 290, 320)\n",
    "    l1 = optuna_trial.suggest_float(\"l1_ratio\", 0.05, 0.3)\n",
    "    alpha = optuna_trial.suggest_float(\"alpha\", 0.0001, 0.0009)\n",
    "\n",
    "    \n",
    "    recommender = SLIMElasticNetRecommender(URM_train_val)\n",
    "    recommender.fit(**optuna_trial.params)\n",
    "    \n",
    "    #eval_res, _ = evaluator_validation.evaluateRecommender(recommender)\n",
    "    eval_res, _ = evaluator_test.evaluateRecommender(recommender)\n",
    "    \n",
    "    # Save MAP alongside RECALL\n",
    "    trial_results = {\n",
    "        \"RECALL\": eval_res[\"RECALL\"][10],\n",
    "        \"MAP\": eval_res[\"MAP\"][10]  # Save MAP for reference\n",
    "    }\n",
    "    \n",
    "    # Save the MAP value to the optuna trial user attributes for later use\n",
    "    optuna_trial.set_user_attr(\"MAP\", trial_results[\"MAP\"])\n",
    "    \n",
    "    # Return RECALL for optimization\n",
    "    return trial_results[\"MAP\"]"
   ]
  },
  {
   "cell_type": "code",
   "execution_count": 16,
   "id": "993150db-2380-4282-ba4a-98e09f4505f4",
   "metadata": {},
   "outputs": [],
   "source": [
    "class SaveResults(object):\n",
    "    def __init__(self, file_path=None):\n",
    "        self.file_path = file_path\n",
    "        self.results = []\n",
    "    \n",
    "    def __call__(self, optuna_study, optuna_trial):\n",
    "        trial_result = optuna_trial.params.copy()\n",
    "        trial_result[\"iteration\"] = optuna_trial.number\n",
    "        trial_result[\"RECALL\"] = optuna_trial.value\n",
    "        \n",
    "        # Retrieve the MAP metric from user attributes\n",
    "        trial_result[\"MAP\"] = optuna_trial.user_attrs.get(\"MAP\")\n",
    "        \n",
    "        self.results.append(trial_result)\n",
    "        \n",
    "        # Convert to DataFrame and save to CSV\n",
    "        results_df = pd.DataFrame(self.results)\n",
    "        results_df.to_csv(self.file_path, index=False)\n"
   ]
  },
  {
   "cell_type": "code",
   "execution_count": 17,
   "id": "790930c1-6b8a-4a91-ab9b-fcc1c787ac5c",
   "metadata": {
    "scrolled": true
   },
   "outputs": [
    {
     "name": "stderr",
     "output_type": "stream",
     "text": [
      "[I 2025-01-06 23:43:18,731] A new study created in memory with name: no-name-31711645-2493-4ae5-a050-3f347f8fdd9c\n"
     ]
    },
    {
     "name": "stdout",
     "output_type": "stream",
     "text": [
      "SLIMElasticNetRecommender: Processed 8211 (21.5%) in 5.00 min. Items per second: 27.37\n",
      "SLIMElasticNetRecommender: Processed 16252 (42.6%) in 10.00 min. Items per second: 27.08\n",
      "SLIMElasticNetRecommender: Processed 24123 (63.3%) in 15.00 min. Items per second: 26.80\n",
      "SLIMElasticNetRecommender: Processed 32220 (84.5%) in 20.00 min. Items per second: 26.85\n",
      "SLIMElasticNetRecommender: Processed 38121 (100.0%) in 23.69 min. Items per second: 26.82\n",
      "EvaluatorHoldout: Processed 35209 (100.0%) in 17.00 sec. Users per second: 2072\n"
     ]
    },
    {
     "name": "stderr",
     "output_type": "stream",
     "text": [
      "[I 2025-01-07 00:07:17,096] Trial 0 finished with value: 0.047441038028244086 and parameters: {'topK': 311, 'l1_ratio': 0.09404784368782633, 'alpha': 0.00016160200175734723}. Best is trial 0 with value: 0.047441038028244086.\n"
     ]
    },
    {
     "name": "stdout",
     "output_type": "stream",
     "text": [
      "SLIMElasticNetRecommender: Processed 7884 (20.7%) in 5.00 min. Items per second: 26.27\n",
      "SLIMElasticNetRecommender: Processed 16017 (42.0%) in 10.00 min. Items per second: 26.69\n",
      "SLIMElasticNetRecommender: Processed 24164 (63.4%) in 15.00 min. Items per second: 26.85\n",
      "SLIMElasticNetRecommender: Processed 32502 (85.3%) in 20.00 min. Items per second: 27.08\n",
      "SLIMElasticNetRecommender: Processed 38121 (100.0%) in 23.41 min. Items per second: 27.14\n",
      "EvaluatorHoldout: Processed 35209 (100.0%) in 15.51 sec. Users per second: 2270\n"
     ]
    },
    {
     "name": "stderr",
     "output_type": "stream",
     "text": [
      "[I 2025-01-07 00:30:57,144] Trial 1 finished with value: 0.047665307661684794 and parameters: {'topK': 319, 'l1_ratio': 0.11610054563497994, 'alpha': 0.00021346660231684025}. Best is trial 1 with value: 0.047665307661684794.\n"
     ]
    },
    {
     "name": "stdout",
     "output_type": "stream",
     "text": [
      "SLIMElasticNetRecommender: Processed 8779 (23.0%) in 5.00 min. Items per second: 29.26\n",
      "SLIMElasticNetRecommender: Processed 17705 (46.4%) in 10.00 min. Items per second: 29.51\n",
      "SLIMElasticNetRecommender: Processed 26843 (70.4%) in 15.00 min. Items per second: 29.82\n",
      "SLIMElasticNetRecommender: Processed 36070 (94.6%) in 20.00 min. Items per second: 30.06\n",
      "SLIMElasticNetRecommender: Processed 38121 (100.0%) in 21.18 min. Items per second: 29.99\n",
      "EvaluatorHoldout: Processed 35209 (100.0%) in 13.35 sec. Users per second: 2637\n"
     ]
    },
    {
     "name": "stderr",
     "output_type": "stream",
     "text": [
      "[I 2025-01-07 00:52:21,474] Trial 2 finished with value: 0.04603624975035506 and parameters: {'topK': 291, 'l1_ratio': 0.06009139143700075, 'alpha': 0.0008577789685606167}. Best is trial 1 with value: 0.047665307661684794.\n"
     ]
    },
    {
     "name": "stdout",
     "output_type": "stream",
     "text": [
      "SLIMElasticNetRecommender: Processed 15091 (39.6%) in 5.00 min. Items per second: 50.30\n",
      "SLIMElasticNetRecommender: Processed 31679 (83.1%) in 10.00 min. Items per second: 52.80\n",
      "SLIMElasticNetRecommender: Processed 38121 (100.0%) in 11.88 min. Items per second: 53.48\n",
      "EvaluatorHoldout: Processed 35209 (100.0%) in 9.87 sec. Users per second: 3568\n"
     ]
    },
    {
     "name": "stderr",
     "output_type": "stream",
     "text": [
      "[I 2025-01-07 01:04:24,186] Trial 3 finished with value: 0.04188686875244103 and parameters: {'topK': 309, 'l1_ratio': 0.21040481147314072, 'alpha': 0.0007647295098513899}. Best is trial 1 with value: 0.047665307661684794.\n"
     ]
    },
    {
     "name": "stdout",
     "output_type": "stream",
     "text": [
      "SLIMElasticNetRecommender: Processed 9601 (25.2%) in 5.00 min. Items per second: 32.00\n",
      "SLIMElasticNetRecommender: Processed 19646 (51.5%) in 10.00 min. Items per second: 32.74\n",
      "SLIMElasticNetRecommender: Processed 30146 (79.1%) in 15.00 min. Items per second: 33.49\n",
      "SLIMElasticNetRecommender: Processed 38121 (100.0%) in 18.69 min. Items per second: 34.00\n",
      "EvaluatorHoldout: Processed 35209 (100.0%) in 11.05 sec. Users per second: 3185\n"
     ]
    },
    {
     "name": "stderr",
     "output_type": "stream",
     "text": [
      "[I 2025-01-07 01:23:16,454] Trial 4 finished with value: 0.046306455961158934 and parameters: {'topK': 307, 'l1_ratio': 0.2751618337754849, 'alpha': 0.0003218049083952826}. Best is trial 1 with value: 0.047665307661684794.\n"
     ]
    },
    {
     "name": "stdout",
     "output_type": "stream",
     "text": [
      "SLIMElasticNetRecommender: Processed 8949 (23.5%) in 5.00 min. Items per second: 29.82\n",
      "SLIMElasticNetRecommender: Processed 18010 (47.2%) in 10.00 min. Items per second: 30.01\n",
      "SLIMElasticNetRecommender: Processed 27518 (72.2%) in 15.00 min. Items per second: 30.57\n",
      "SLIMElasticNetRecommender: Processed 37075 (97.3%) in 20.00 min. Items per second: 30.89\n",
      "SLIMElasticNetRecommender: Processed 38121 (100.0%) in 20.58 min. Items per second: 30.87\n",
      "EvaluatorHoldout: Processed 35209 (100.0%) in 11.95 sec. Users per second: 2946\n"
     ]
    },
    {
     "name": "stderr",
     "output_type": "stream",
     "text": [
      "[I 2025-01-07 01:44:03,165] Trial 5 finished with value: 0.046197444782108854 and parameters: {'topK': 320, 'l1_ratio': 0.11841238339227088, 'alpha': 0.0005819842467772278}. Best is trial 1 with value: 0.047665307661684794.\n"
     ]
    },
    {
     "name": "stdout",
     "output_type": "stream",
     "text": [
      "SLIMElasticNetRecommender: Processed 8698 (22.8%) in 5.00 min. Items per second: 28.99\n",
      "SLIMElasticNetRecommender: Processed 17494 (45.9%) in 10.00 min. Items per second: 29.15\n",
      "SLIMElasticNetRecommender: Processed 26526 (69.6%) in 15.00 min. Items per second: 29.47\n",
      "SLIMElasticNetRecommender: Processed 35654 (93.5%) in 20.00 min. Items per second: 29.71\n",
      "SLIMElasticNetRecommender: Processed 38121 (100.0%) in 21.41 min. Items per second: 29.67\n",
      "EvaluatorHoldout: Processed 35209 (100.0%) in 13.18 sec. Users per second: 2672\n"
     ]
    },
    {
     "name": "stderr",
     "output_type": "stream",
     "text": [
      "[I 2025-01-07 02:05:41,093] Trial 6 finished with value: 0.04630791099137079 and parameters: {'topK': 314, 'l1_ratio': 0.07256557698096346, 'alpha': 0.0007259149691808879}. Best is trial 1 with value: 0.047665307661684794.\n"
     ]
    },
    {
     "name": "stdout",
     "output_type": "stream",
     "text": [
      "SLIMElasticNetRecommender: Processed 9339 (24.5%) in 5.00 min. Items per second: 31.12\n",
      "SLIMElasticNetRecommender: Processed 18858 (49.5%) in 10.00 min. Items per second: 31.43\n",
      "SLIMElasticNetRecommender: Processed 28827 (75.6%) in 15.00 min. Items per second: 32.03\n",
      "SLIMElasticNetRecommender: Processed 38121 (100.0%) in 19.63 min. Items per second: 32.36\n",
      "EvaluatorHoldout: Processed 35209 (100.0%) in 11.78 sec. Users per second: 2989\n"
     ]
    },
    {
     "name": "stderr",
     "output_type": "stream",
     "text": [
      "[I 2025-01-07 02:25:30,850] Trial 7 finished with value: 0.04544213983888316 and parameters: {'topK': 307, 'l1_ratio': 0.10666749792388856, 'alpha': 0.0007426781779308736}. Best is trial 1 with value: 0.047665307661684794.\n"
     ]
    },
    {
     "name": "stdout",
     "output_type": "stream",
     "text": [
      "SLIMElasticNetRecommender: Processed 8914 (23.4%) in 5.00 min. Items per second: 29.71\n",
      "SLIMElasticNetRecommender: Processed 17947 (47.1%) in 10.00 min. Items per second: 29.91\n",
      "SLIMElasticNetRecommender: Processed 27357 (71.8%) in 15.00 min. Items per second: 30.39\n",
      "SLIMElasticNetRecommender: Processed 36941 (96.9%) in 20.00 min. Items per second: 30.78\n",
      "SLIMElasticNetRecommender: Processed 38121 (100.0%) in 20.65 min. Items per second: 30.77\n",
      "EvaluatorHoldout: Processed 35209 (100.0%) in 12.54 sec. Users per second: 2807\n"
     ]
    },
    {
     "name": "stderr",
     "output_type": "stream",
     "text": [
      "[I 2025-01-07 02:46:22,485] Trial 8 finished with value: 0.045926286208385604 and parameters: {'topK': 300, 'l1_ratio': 0.07132895053483358, 'alpha': 0.0008173386684199266}. Best is trial 1 with value: 0.047665307661684794.\n"
     ]
    },
    {
     "name": "stdout",
     "output_type": "stream",
     "text": [
      "SLIMElasticNetRecommender: Processed 23505 (61.7%) in 5.00 min. Items per second: 78.34\n",
      "SLIMElasticNetRecommender: Processed 38121 (100.0%) in 8.08 min. Items per second: 78.61\n",
      "EvaluatorHoldout: Processed 35209 (100.0%) in 9.02 sec. Users per second: 3904\n"
     ]
    },
    {
     "name": "stderr",
     "output_type": "stream",
     "text": [
      "[I 2025-01-07 02:54:36,450] Trial 9 finished with value: 0.038911473978287786 and parameters: {'topK': 320, 'l1_ratio': 0.27561264587494766, 'alpha': 0.0008160410880794647}. Best is trial 1 with value: 0.047665307661684794.\n"
     ]
    },
    {
     "name": "stdout",
     "output_type": "stream",
     "text": [
      "SLIMElasticNetRecommender: Processed 8036 (21.1%) in 5.00 min. Items per second: 26.78\n",
      "SLIMElasticNetRecommender: Processed 16157 (42.4%) in 10.00 min. Items per second: 26.93\n",
      "SLIMElasticNetRecommender: Processed 24284 (63.7%) in 15.00 min. Items per second: 26.98\n",
      "SLIMElasticNetRecommender: Processed 32549 (85.4%) in 20.00 min. Items per second: 27.12\n",
      "SLIMElasticNetRecommender: Processed 38121 (100.0%) in 23.40 min. Items per second: 27.15\n",
      "EvaluatorHoldout: Processed 35209 (100.0%) in 15.65 sec. Users per second: 2250\n"
     ]
    },
    {
     "name": "stderr",
     "output_type": "stream",
     "text": [
      "[I 2025-01-07 03:18:16,088] Trial 10 finished with value: 0.047345324991308765 and parameters: {'topK': 299, 'l1_ratio': 0.160186347136751, 'alpha': 0.00010559863002829043}. Best is trial 1 with value: 0.047665307661684794.\n"
     ]
    },
    {
     "name": "stdout",
     "output_type": "stream",
     "text": [
      "SLIMElasticNetRecommender: Processed 8180 (21.5%) in 5.00 min. Items per second: 27.26\n",
      "SLIMElasticNetRecommender: Processed 16436 (43.1%) in 10.00 min. Items per second: 27.39\n",
      "SLIMElasticNetRecommender: Processed 24763 (65.0%) in 15.00 min. Items per second: 27.51\n",
      "SLIMElasticNetRecommender: Processed 33191 (87.1%) in 20.00 min. Items per second: 27.66\n",
      "SLIMElasticNetRecommender: Processed 38121 (100.0%) in 22.96 min. Items per second: 27.67\n",
      "EvaluatorHoldout: Processed 35209 (100.0%) in 15.80 sec. Users per second: 2229\n"
     ]
    },
    {
     "name": "stderr",
     "output_type": "stream",
     "text": [
      "[I 2025-01-07 03:41:29,662] Trial 11 finished with value: 0.04746505560672233 and parameters: {'topK': 314, 'l1_ratio': 0.14741727307734373, 'alpha': 0.00012257931758406491}. Best is trial 1 with value: 0.047665307661684794.\n"
     ]
    },
    {
     "name": "stdout",
     "output_type": "stream",
     "text": [
      "SLIMElasticNetRecommender: Processed 8793 (23.1%) in 5.00 min. Items per second: 29.30\n",
      "SLIMElasticNetRecommender: Processed 17647 (46.3%) in 10.00 min. Items per second: 29.41\n",
      "SLIMElasticNetRecommender: Processed 26759 (70.2%) in 15.00 min. Items per second: 29.73\n",
      "SLIMElasticNetRecommender: Processed 35912 (94.2%) in 20.00 min. Items per second: 29.92\n",
      "SLIMElasticNetRecommender: Processed 38121 (100.0%) in 21.26 min. Items per second: 29.88\n",
      "EvaluatorHoldout: Processed 35209 (100.0%) in 12.64 sec. Users per second: 2785\n"
     ]
    },
    {
     "name": "stderr",
     "output_type": "stream",
     "text": [
      "[I 2025-01-07 04:02:58,236] Trial 12 finished with value: 0.04750119806128042 and parameters: {'topK': 315, 'l1_ratio': 0.15819621671507705, 'alpha': 0.00030231000311053773}. Best is trial 1 with value: 0.047665307661684794.\n"
     ]
    },
    {
     "name": "stdout",
     "output_type": "stream",
     "text": [
      "SLIMElasticNetRecommender: Processed 9000 (23.6%) in 5.00 min. Items per second: 29.99\n",
      "SLIMElasticNetRecommender: Processed 18064 (47.4%) in 10.00 min. Items per second: 30.10\n",
      "SLIMElasticNetRecommender: Processed 27557 (72.3%) in 15.00 min. Items per second: 30.61\n",
      "SLIMElasticNetRecommender: Processed 37094 (97.3%) in 20.00 min. Items per second: 30.91\n",
      "SLIMElasticNetRecommender: Processed 38121 (100.0%) in 20.58 min. Items per second: 30.88\n",
      "EvaluatorHoldout: Processed 35209 (100.0%) in 11.83 sec. Users per second: 2977\n"
     ]
    },
    {
     "name": "stderr",
     "output_type": "stream",
     "text": [
      "[I 2025-01-07 04:23:44,615] Trial 13 finished with value: 0.047184109672534155 and parameters: {'topK': 315, 'l1_ratio': 0.18935084882810502, 'alpha': 0.0003137205894155489}. Best is trial 1 with value: 0.047665307661684794.\n"
     ]
    },
    {
     "name": "stdout",
     "output_type": "stream",
     "text": [
      "SLIMElasticNetRecommender: Processed 8865 (23.3%) in 5.00 min. Items per second: 29.55\n",
      "SLIMElasticNetRecommender: Processed 17820 (46.7%) in 10.00 min. Items per second: 29.70\n",
      "SLIMElasticNetRecommender: Processed 27155 (71.2%) in 15.00 min. Items per second: 30.17\n",
      "SLIMElasticNetRecommender: Processed 36615 (96.0%) in 20.00 min. Items per second: 30.51\n",
      "SLIMElasticNetRecommender: Processed 38121 (100.0%) in 20.85 min. Items per second: 30.47\n",
      "EvaluatorHoldout: Processed 35209 (100.0%) in 11.47 sec. Users per second: 3070\n"
     ]
    },
    {
     "name": "stderr",
     "output_type": "stream",
     "text": [
      "[I 2025-01-07 04:44:47,050] Trial 14 finished with value: 0.04696809911066045 and parameters: {'topK': 317, 'l1_ratio': 0.21195180215873644, 'alpha': 0.0003248730676534809}. Best is trial 1 with value: 0.047665307661684794.\n"
     ]
    },
    {
     "name": "stdout",
     "output_type": "stream",
     "text": [
      "SLIMElasticNetRecommender: Processed 9104 (23.9%) in 5.00 min. Items per second: 30.34\n",
      "SLIMElasticNetRecommender: Processed 18292 (48.0%) in 10.00 min. Items per second: 30.48\n",
      "SLIMElasticNetRecommender: Processed 27932 (73.3%) in 15.00 min. Items per second: 31.03\n",
      "SLIMElasticNetRecommender: Processed 37565 (98.5%) in 20.00 min. Items per second: 31.30\n",
      "SLIMElasticNetRecommender: Processed 38121 (100.0%) in 20.31 min. Items per second: 31.28\n",
      "EvaluatorHoldout: Processed 35209 (100.0%) in 11.85 sec. Users per second: 2970\n"
     ]
    },
    {
     "name": "stderr",
     "output_type": "stream",
     "text": [
      "[I 2025-01-07 05:05:17,533] Trial 15 finished with value: 0.046879525977979127 and parameters: {'topK': 301, 'l1_ratio': 0.13700577501131184, 'alpha': 0.00044700125635482174}. Best is trial 1 with value: 0.047665307661684794.\n"
     ]
    },
    {
     "name": "stdout",
     "output_type": "stream",
     "text": [
      "SLIMElasticNetRecommender: Processed 8586 (22.5%) in 5.00 min. Items per second: 28.61\n",
      "SLIMElasticNetRecommender: Processed 17220 (45.2%) in 10.00 min. Items per second: 28.70\n",
      "SLIMElasticNetRecommender: Processed 26050 (68.3%) in 15.00 min. Items per second: 28.94\n",
      "SLIMElasticNetRecommender: Processed 34938 (91.7%) in 20.00 min. Items per second: 29.11\n",
      "SLIMElasticNetRecommender: Processed 38121 (100.0%) in 21.86 min. Items per second: 29.06\n",
      "EvaluatorHoldout: Processed 35209 (100.0%) in 12.97 sec. Users per second: 2715\n"
     ]
    },
    {
     "name": "stderr",
     "output_type": "stream",
     "text": [
      "[I 2025-01-07 05:27:22,342] Trial 16 finished with value: 0.0476832357527616 and parameters: {'topK': 311, 'l1_ratio': 0.18752585642994757, 'alpha': 0.00023164222501095876}. Best is trial 16 with value: 0.0476832357527616.\n"
     ]
    },
    {
     "name": "stdout",
     "output_type": "stream",
     "text": [
      "SLIMElasticNetRecommender: Processed 8704 (22.8%) in 5.00 min. Items per second: 29.01\n",
      "SLIMElasticNetRecommender: Processed 17484 (45.9%) in 10.00 min. Items per second: 29.14\n",
      "SLIMElasticNetRecommender: Processed 26519 (69.6%) in 15.00 min. Items per second: 29.46\n",
      "SLIMElasticNetRecommender: Processed 35633 (93.5%) in 20.00 min. Items per second: 29.69\n",
      "SLIMElasticNetRecommender: Processed 38121 (100.0%) in 21.43 min. Items per second: 29.65\n",
      "EvaluatorHoldout: Processed 35209 (100.0%) in 12.15 sec. Users per second: 2898\n"
     ]
    },
    {
     "name": "stderr",
     "output_type": "stream",
     "text": [
      "[I 2025-01-07 05:49:00,375] Trial 17 finished with value: 0.04753773385863013 and parameters: {'topK': 311, 'l1_ratio': 0.23752548049340938, 'alpha': 0.0002178489065479187}. Best is trial 16 with value: 0.0476832357527616.\n"
     ]
    },
    {
     "name": "stdout",
     "output_type": "stream",
     "text": [
      "SLIMElasticNetRecommender: Processed 10280 (27.0%) in 5.00 min. Items per second: 34.26\n",
      "SLIMElasticNetRecommender: Processed 21229 (55.7%) in 10.00 min. Items per second: 35.38\n",
      "SLIMElasticNetRecommender: Processed 32578 (85.5%) in 15.00 min. Items per second: 36.20\n",
      "SLIMElasticNetRecommender: Processed 38121 (100.0%) in 17.44 min. Items per second: 36.43\n",
      "EvaluatorHoldout: Processed 35209 (100.0%) in 11.05 sec. Users per second: 3186\n"
     ]
    },
    {
     "name": "stderr",
     "output_type": "stream",
     "text": [
      "[I 2025-01-07 06:06:37,993] Trial 18 finished with value: 0.045999999098352916 and parameters: {'topK': 291, 'l1_ratio': 0.18590379752091674, 'alpha': 0.000460620919091276}. Best is trial 16 with value: 0.0476832357527616.\n"
     ]
    },
    {
     "name": "stdout",
     "output_type": "stream",
     "text": [
      "SLIMElasticNetRecommender: Processed 14581 (38.2%) in 5.00 min. Items per second: 48.60\n",
      "SLIMElasticNetRecommender: Processed 30565 (80.2%) in 10.00 min. Items per second: 50.94\n",
      "SLIMElasticNetRecommender: Processed 38121 (100.0%) in 12.25 min. Items per second: 51.85\n",
      "EvaluatorHoldout: Processed 35209 (100.0%) in 9.67 sec. Users per second: 3643\n"
     ]
    },
    {
     "name": "stderr",
     "output_type": "stream",
     "text": [
      "[I 2025-01-07 06:19:02,848] Trial 19 finished with value: 0.04327361397946857 and parameters: {'topK': 304, 'l1_ratio': 0.2468680073894989, 'alpha': 0.0005715356374716163}. Best is trial 16 with value: 0.0476832357527616.\n"
     ]
    },
    {
     "name": "stdout",
     "output_type": "stream",
     "text": [
      "SLIMElasticNetRecommender: Processed 8570 (22.5%) in 5.00 min. Items per second: 28.56\n",
      "SLIMElasticNetRecommender: Processed 17239 (45.2%) in 10.00 min. Items per second: 28.73\n",
      "SLIMElasticNetRecommender: Processed 26059 (68.4%) in 15.00 min. Items per second: 28.95\n",
      "SLIMElasticNetRecommender: Processed 34940 (91.7%) in 20.00 min. Items per second: 29.11\n",
      "SLIMElasticNetRecommender: Processed 38121 (100.0%) in 21.88 min. Items per second: 29.04\n",
      "EvaluatorHoldout: Processed 35209 (100.0%) in 14.23 sec. Users per second: 2474\n"
     ]
    },
    {
     "name": "stderr",
     "output_type": "stream",
     "text": [
      "[I 2025-01-07 06:41:09,871] Trial 20 finished with value: 0.04771445747772666 and parameters: {'topK': 295, 'l1_ratio': 0.11685515006822708, 'alpha': 0.00023010367793513254}. Best is trial 20 with value: 0.04771445747772666.\n"
     ]
    },
    {
     "name": "stdout",
     "output_type": "stream",
     "text": [
      "SLIMElasticNetRecommender: Processed 8364 (21.9%) in 5.00 min. Items per second: 27.88\n",
      "SLIMElasticNetRecommender: Processed 16815 (44.1%) in 10.00 min. Items per second: 28.02\n",
      "SLIMElasticNetRecommender: Processed 25367 (66.5%) in 15.00 min. Items per second: 28.18\n",
      "SLIMElasticNetRecommender: Processed 33973 (89.1%) in 20.00 min. Items per second: 28.31\n",
      "SLIMElasticNetRecommender: Processed 38121 (100.0%) in 22.50 min. Items per second: 28.24\n",
      "EvaluatorHoldout: Processed 35209 (100.0%) in 13.94 sec. Users per second: 2525\n"
     ]
    },
    {
     "name": "stderr",
     "output_type": "stream",
     "text": [
      "[I 2025-01-07 07:03:53,857] Trial 21 finished with value: 0.04773825077191944 and parameters: {'topK': 297, 'l1_ratio': 0.12502519041432736, 'alpha': 0.00022853418554891317}. Best is trial 21 with value: 0.04773825077191944.\n"
     ]
    },
    {
     "name": "stdout",
     "output_type": "stream",
     "text": [
      "SLIMElasticNetRecommender: Processed 8756 (23.0%) in 5.00 min. Items per second: 29.18\n",
      "SLIMElasticNetRecommender: Processed 17573 (46.1%) in 10.00 min. Items per second: 29.29\n",
      "SLIMElasticNetRecommender: Processed 26642 (69.9%) in 15.00 min. Items per second: 29.60\n",
      "SLIMElasticNetRecommender: Processed 35786 (93.9%) in 20.00 min. Items per second: 29.82\n",
      "SLIMElasticNetRecommender: Processed 38121 (100.0%) in 21.33 min. Items per second: 29.79\n",
      "EvaluatorHoldout: Processed 35209 (100.0%) in 12.28 sec. Users per second: 2868\n"
     ]
    },
    {
     "name": "stderr",
     "output_type": "stream",
     "text": [
      "[I 2025-01-07 07:25:25,900] Trial 22 finished with value: 0.04715239993201418 and parameters: {'topK': 296, 'l1_ratio': 0.13156694652404297, 'alpha': 0.0004005315270380339}. Best is trial 21 with value: 0.04773825077191944.\n"
     ]
    },
    {
     "name": "stdout",
     "output_type": "stream",
     "text": [
      "SLIMElasticNetRecommender: Processed 8395 (22.0%) in 5.00 min. Items per second: 27.98\n",
      "SLIMElasticNetRecommender: Processed 16900 (44.3%) in 10.00 min. Items per second: 28.16\n",
      "SLIMElasticNetRecommender: Processed 25486 (66.9%) in 15.00 min. Items per second: 28.31\n",
      "SLIMElasticNetRecommender: Processed 34178 (89.7%) in 20.00 min. Items per second: 28.48\n",
      "SLIMElasticNetRecommender: Processed 38121 (100.0%) in 22.31 min. Items per second: 28.47\n",
      "EvaluatorHoldout: Processed 35209 (100.0%) in 15.57 sec. Users per second: 2262\n"
     ]
    },
    {
     "name": "stderr",
     "output_type": "stream",
     "text": [
      "[I 2025-01-07 07:48:00,375] Trial 23 finished with value: 0.04769208202087393 and parameters: {'topK': 295, 'l1_ratio': 0.09370631245272926, 'alpha': 0.00022586087418067648}. Best is trial 21 with value: 0.04773825077191944.\n"
     ]
    },
    {
     "name": "stdout",
     "output_type": "stream",
     "text": [
      "SLIMElasticNetRecommender: Processed 8294 (21.8%) in 5.00 min. Items per second: 27.64\n",
      "SLIMElasticNetRecommender: Processed 16671 (43.7%) in 10.00 min. Items per second: 27.78\n",
      "SLIMElasticNetRecommender: Processed 24919 (65.4%) in 15.00 min. Items per second: 27.68\n",
      "SLIMElasticNetRecommender: Processed 33392 (87.6%) in 20.00 min. Items per second: 27.82\n",
      "SLIMElasticNetRecommender: Processed 38121 (100.0%) in 22.88 min. Items per second: 27.77\n",
      "EvaluatorHoldout: Processed 35209 (100.0%) in 13.80 sec. Users per second: 2551\n"
     ]
    },
    {
     "name": "stderr",
     "output_type": "stream",
     "text": [
      "[I 2025-01-07 08:11:06,890] Trial 24 finished with value: 0.04750318280814592 and parameters: {'topK': 295, 'l1_ratio': 0.09769043689325131, 'alpha': 0.00037994107157854573}. Best is trial 21 with value: 0.04773825077191944.\n"
     ]
    },
    {
     "name": "stdout",
     "output_type": "stream",
     "text": [
      "SLIMElasticNetRecommender: Processed 8235 (21.6%) in 5.00 min. Items per second: 27.45\n",
      "SLIMElasticNetRecommender: Processed 16602 (43.6%) in 10.00 min. Items per second: 27.67\n",
      "SLIMElasticNetRecommender: Processed 24944 (65.4%) in 15.00 min. Items per second: 27.71\n",
      "SLIMElasticNetRecommender: Processed 33472 (87.8%) in 20.00 min. Items per second: 27.89\n",
      "SLIMElasticNetRecommender: Processed 38121 (100.0%) in 22.75 min. Items per second: 27.93\n",
      "EvaluatorHoldout: Processed 35209 (100.0%) in 15.74 sec. Users per second: 2237\n"
     ]
    },
    {
     "name": "stderr",
     "output_type": "stream",
     "text": [
      "[I 2025-01-07 08:34:07,785] Trial 25 finished with value: 0.04766001613043387 and parameters: {'topK': 294, 'l1_ratio': 0.08059142800113342, 'alpha': 0.00024958256893489267}. Best is trial 21 with value: 0.04773825077191944.\n"
     ]
    },
    {
     "name": "stdout",
     "output_type": "stream",
     "text": [
      "SLIMElasticNetRecommender: Processed 8601 (22.6%) in 5.00 min. Items per second: 28.66\n",
      "SLIMElasticNetRecommender: Processed 17349 (45.5%) in 10.00 min. Items per second: 28.91\n",
      "SLIMElasticNetRecommender: Processed 26252 (68.9%) in 15.00 min. Items per second: 29.17\n",
      "SLIMElasticNetRecommender: Processed 35200 (92.3%) in 20.00 min. Items per second: 29.33\n",
      "SLIMElasticNetRecommender: Processed 38121 (100.0%) in 21.71 min. Items per second: 29.27\n",
      "EvaluatorHoldout: Processed 35209 (100.0%) in 14.48 sec. Users per second: 2431\n"
     ]
    },
    {
     "name": "stderr",
     "output_type": "stream",
     "text": [
      "[I 2025-01-07 08:56:04,773] Trial 26 finished with value: 0.04721720343869328 and parameters: {'topK': 297, 'l1_ratio': 0.05264447151952126, 'alpha': 0.0005410264630141355}. Best is trial 21 with value: 0.04773825077191944.\n"
     ]
    },
    {
     "name": "stdout",
     "output_type": "stream",
     "text": [
      "SLIMElasticNetRecommender: Processed 9961 (26.1%) in 5.00 min. Items per second: 33.20\n",
      "SLIMElasticNetRecommender: Processed 20315 (53.3%) in 10.00 min. Items per second: 33.85\n",
      "SLIMElasticNetRecommender: Processed 30894 (81.0%) in 15.00 min. Items per second: 34.32\n",
      "SLIMElasticNetRecommender: Processed 38121 (100.0%) in 18.29 min. Items per second: 34.74\n",
      "EvaluatorHoldout: Processed 35209 (100.0%) in 10.98 sec. Users per second: 3205\n"
     ]
    },
    {
     "name": "stderr",
     "output_type": "stream",
     "text": [
      "[I 2025-01-07 09:14:33,168] Trial 27 finished with value: 0.0456219932944617 and parameters: {'topK': 303, 'l1_ratio': 0.12813006680966976, 'alpha': 0.0006432990898249127}. Best is trial 21 with value: 0.04773825077191944.\n"
     ]
    },
    {
     "name": "stdout",
     "output_type": "stream",
     "text": [
      "SLIMElasticNetRecommender: Processed 8333 (21.9%) in 5.00 min. Items per second: 27.77\n",
      "SLIMElasticNetRecommender: Processed 16788 (44.0%) in 10.00 min. Items per second: 27.98\n",
      "SLIMElasticNetRecommender: Processed 25305 (66.4%) in 15.00 min. Items per second: 28.11\n",
      "SLIMElasticNetRecommender: Processed 33900 (88.9%) in 20.00 min. Items per second: 28.25\n",
      "SLIMElasticNetRecommender: Processed 38121 (100.0%) in 22.50 min. Items per second: 28.24\n",
      "EvaluatorHoldout: Processed 35209 (100.0%) in 15.53 sec. Users per second: 2267\n"
     ]
    },
    {
     "name": "stderr",
     "output_type": "stream",
     "text": [
      "[I 2025-01-07 09:37:18,532] Trial 28 finished with value: 0.04752856750641233 and parameters: {'topK': 293, 'l1_ratio': 0.09247014822007749, 'alpha': 0.00017980312892718224}. Best is trial 21 with value: 0.04773825077191944.\n"
     ]
    },
    {
     "name": "stdout",
     "output_type": "stream",
     "text": [
      "SLIMElasticNetRecommender: Processed 8416 (22.1%) in 5.00 min. Items per second: 28.05\n",
      "SLIMElasticNetRecommender: Processed 16899 (44.3%) in 10.00 min. Items per second: 28.16\n",
      "SLIMElasticNetRecommender: Processed 25429 (66.7%) in 15.00 min. Items per second: 28.25\n",
      "SLIMElasticNetRecommender: Processed 34072 (89.4%) in 20.00 min. Items per second: 28.39\n",
      "SLIMElasticNetRecommender: Processed 38121 (100.0%) in 22.39 min. Items per second: 28.38\n",
      "EvaluatorHoldout: Processed 35209 (100.0%) in 15.43 sec. Users per second: 2281\n"
     ]
    },
    {
     "name": "stderr",
     "output_type": "stream",
     "text": [
      "[I 2025-01-07 09:59:57,306] Trial 29 finished with value: 0.04743078068513148 and parameters: {'topK': 298, 'l1_ratio': 0.08940217807008036, 'alpha': 0.0001637006169243791}. Best is trial 21 with value: 0.04773825077191944.\n"
     ]
    },
    {
     "name": "stdout",
     "output_type": "stream",
     "text": [
      "SLIMElasticNetRecommender: Processed 8263 (21.7%) in 5.00 min. Items per second: 27.54\n",
      "SLIMElasticNetRecommender: Processed 16603 (43.6%) in 10.00 min. Items per second: 27.67\n",
      "SLIMElasticNetRecommender: Processed 25016 (65.6%) in 15.00 min. Items per second: 27.79\n",
      "SLIMElasticNetRecommender: Processed 33530 (88.0%) in 20.00 min. Items per second: 27.94\n",
      "SLIMElasticNetRecommender: Processed 38121 (100.0%) in 22.77 min. Items per second: 27.90\n",
      "EvaluatorHoldout: Processed 35209 (100.0%) in 14.03 sec. Users per second: 2510\n"
     ]
    },
    {
     "name": "stderr",
     "output_type": "stream",
     "text": [
      "[I 2025-01-07 10:22:57,805] Trial 30 finished with value: 0.04774344086806643 and parameters: {'topK': 290, 'l1_ratio': 0.10769276257073171, 'alpha': 0.0002751461372616923}. Best is trial 30 with value: 0.04774344086806643.\n"
     ]
    },
    {
     "name": "stdout",
     "output_type": "stream",
     "text": [
      "SLIMElasticNetRecommender: Processed 8491 (22.3%) in 5.00 min. Items per second: 28.30\n",
      "SLIMElasticNetRecommender: Processed 17093 (44.8%) in 10.00 min. Items per second: 28.48\n",
      "SLIMElasticNetRecommender: Processed 25816 (67.7%) in 15.00 min. Items per second: 28.68\n",
      "SLIMElasticNetRecommender: Processed 34577 (90.7%) in 20.00 min. Items per second: 28.81\n",
      "SLIMElasticNetRecommender: Processed 38121 (100.0%) in 22.11 min. Items per second: 28.73\n",
      "EvaluatorHoldout: Processed 35209 (100.0%) in 13.93 sec. Users per second: 2528\n"
     ]
    },
    {
     "name": "stderr",
     "output_type": "stream",
     "text": [
      "[I 2025-01-07 10:45:18,667] Trial 31 finished with value: 0.047748307498937756 and parameters: {'topK': 290, 'l1_ratio': 0.11130416913304375, 'alpha': 0.00027739029092550143}. Best is trial 31 with value: 0.047748307498937756.\n"
     ]
    },
    {
     "name": "stdout",
     "output_type": "stream",
     "text": [
      "SLIMElasticNetRecommender: Processed 8740 (22.9%) in 5.00 min. Items per second: 29.13\n",
      "SLIMElasticNetRecommender: Processed 17604 (46.2%) in 10.00 min. Items per second: 29.34\n",
      "SLIMElasticNetRecommender: Processed 26637 (69.9%) in 15.00 min. Items per second: 29.59\n",
      "SLIMElasticNetRecommender: Processed 35712 (93.7%) in 20.00 min. Items per second: 29.76\n",
      "SLIMElasticNetRecommender: Processed 38121 (100.0%) in 21.39 min. Items per second: 29.70\n",
      "EvaluatorHoldout: Processed 35209 (100.0%) in 13.32 sec. Users per second: 2644\n"
     ]
    },
    {
     "name": "stderr",
     "output_type": "stream",
     "text": [
      "[I 2025-01-07 11:06:55,733] Trial 32 finished with value: 0.04747759185850135 and parameters: {'topK': 290, 'l1_ratio': 0.11080559822161515, 'alpha': 0.00037532693977590666}. Best is trial 31 with value: 0.047748307498937756.\n"
     ]
    },
    {
     "name": "stdout",
     "output_type": "stream",
     "text": [
      "SLIMElasticNetRecommender: Processed 8214 (21.5%) in 5.00 min. Items per second: 27.38\n",
      "SLIMElasticNetRecommender: Processed 16484 (43.2%) in 10.00 min. Items per second: 27.47\n",
      "SLIMElasticNetRecommender: Processed 24827 (65.1%) in 15.00 min. Items per second: 27.58\n",
      "SLIMElasticNetRecommender: Processed 33280 (87.3%) in 20.00 min. Items per second: 27.73\n",
      "SLIMElasticNetRecommender: Processed 38121 (100.0%) in 22.95 min. Items per second: 27.68\n",
      "EvaluatorHoldout: Processed 35209 (100.0%) in 13.96 sec. Users per second: 2523\n"
     ]
    },
    {
     "name": "stderr",
     "output_type": "stream",
     "text": [
      "[I 2025-01-07 11:30:06,962] Trial 33 finished with value: 0.047644779450778996 and parameters: {'topK': 292, 'l1_ratio': 0.1657682406106613, 'alpha': 0.0001649161760927915}. Best is trial 31 with value: 0.047748307498937756.\n"
     ]
    },
    {
     "name": "stdout",
     "output_type": "stream",
     "text": [
      "SLIMElasticNetRecommender: Processed 8597 (22.6%) in 5.00 min. Items per second: 28.65\n",
      "SLIMElasticNetRecommender: Processed 17296 (45.4%) in 10.00 min. Items per second: 28.82\n",
      "SLIMElasticNetRecommender: Processed 26159 (68.6%) in 15.00 min. Items per second: 29.06\n",
      "SLIMElasticNetRecommender: Processed 35073 (92.0%) in 20.00 min. Items per second: 29.22\n",
      "SLIMElasticNetRecommender: Processed 38121 (100.0%) in 21.78 min. Items per second: 29.17\n",
      "EvaluatorHoldout: Processed 35209 (100.0%) in 13.29 sec. Users per second: 2649\n"
     ]
    },
    {
     "name": "stderr",
     "output_type": "stream",
     "text": [
      "[I 2025-01-07 11:52:07,055] Trial 34 finished with value: 0.04767959761370365 and parameters: {'topK': 290, 'l1_ratio': 0.14443495359912223, 'alpha': 0.00027810870280884574}. Best is trial 31 with value: 0.047748307498937756.\n"
     ]
    },
    {
     "name": "stdout",
     "output_type": "stream",
     "text": [
      "SLIMElasticNetRecommender: Processed 8303 (21.8%) in 5.00 min. Items per second: 27.67\n",
      "SLIMElasticNetRecommender: Processed 16723 (43.9%) in 10.00 min. Items per second: 27.87\n",
      "SLIMElasticNetRecommender: Processed 25214 (66.1%) in 15.00 min. Items per second: 28.01\n",
      "SLIMElasticNetRecommender: Processed 33789 (88.6%) in 20.00 min. Items per second: 28.16\n",
      "SLIMElasticNetRecommender: Processed 38121 (100.0%) in 22.60 min. Items per second: 28.12\n",
      "EvaluatorHoldout: Processed 35209 (100.0%) in 13.60 sec. Users per second: 2589\n"
     ]
    },
    {
     "name": "stderr",
     "output_type": "stream",
     "text": [
      "[I 2025-01-07 12:14:56,435] Trial 35 finished with value: 0.04772969979266494 and parameters: {'topK': 294, 'l1_ratio': 0.12162417855150137, 'alpha': 0.0002744332042701276}. Best is trial 31 with value: 0.047748307498937756.\n"
     ]
    },
    {
     "name": "stdout",
     "output_type": "stream",
     "text": [
      "SLIMElasticNetRecommender: Processed 8447 (22.2%) in 5.00 min. Items per second: 28.15\n",
      "SLIMElasticNetRecommender: Processed 16993 (44.6%) in 10.00 min. Items per second: 28.32\n",
      "SLIMElasticNetRecommender: Processed 25709 (67.4%) in 15.00 min. Items per second: 28.56\n",
      "SLIMElasticNetRecommender: Processed 34594 (90.7%) in 20.00 min. Items per second: 28.83\n",
      "SLIMElasticNetRecommender: Processed 38121 (100.0%) in 22.06 min. Items per second: 28.80\n",
      "EvaluatorHoldout: Processed 35209 (100.0%) in 13.08 sec. Users per second: 2692\n"
     ]
    },
    {
     "name": "stderr",
     "output_type": "stream",
     "text": [
      "[I 2025-01-07 12:37:13,288] Trial 36 finished with value: 0.0474891024886748 and parameters: {'topK': 293, 'l1_ratio': 0.12324929897125766, 'alpha': 0.00035009498644570476}. Best is trial 31 with value: 0.047748307498937756.\n"
     ]
    },
    {
     "name": "stdout",
     "output_type": "stream",
     "text": [
      "SLIMElasticNetRecommender: Processed 8646 (22.7%) in 5.00 min. Items per second: 28.81\n",
      "SLIMElasticNetRecommender: Processed 17380 (45.6%) in 10.00 min. Items per second: 28.96\n",
      "SLIMElasticNetRecommender: Processed 26311 (69.0%) in 15.00 min. Items per second: 29.23\n",
      "SLIMElasticNetRecommender: Processed 35318 (92.6%) in 20.00 min. Items per second: 29.43\n",
      "SLIMElasticNetRecommender: Processed 38121 (100.0%) in 21.63 min. Items per second: 29.38\n",
      "EvaluatorHoldout: Processed 35209 (100.0%) in 12.94 sec. Users per second: 2720\n"
     ]
    },
    {
     "name": "stderr",
     "output_type": "stream",
     "text": [
      "[I 2025-01-07 12:59:03,810] Trial 37 finished with value: 0.04720439782036074 and parameters: {'topK': 292, 'l1_ratio': 0.10623550095559307, 'alpha': 0.00042876726379369314}. Best is trial 31 with value: 0.047748307498937756.\n"
     ]
    },
    {
     "name": "stdout",
     "output_type": "stream",
     "text": [
      "SLIMElasticNetRecommender: Processed 9570 (25.1%) in 5.00 min. Items per second: 31.90\n",
      "SLIMElasticNetRecommender: Processed 19317 (50.7%) in 10.00 min. Items per second: 32.19\n",
      "SLIMElasticNetRecommender: Processed 29552 (77.5%) in 15.00 min. Items per second: 32.83\n",
      "SLIMElasticNetRecommender: Processed 38121 (100.0%) in 19.09 min. Items per second: 33.27\n",
      "EvaluatorHoldout: Processed 35209 (100.0%) in 10.72 sec. Users per second: 3284\n"
     ]
    },
    {
     "name": "stderr",
     "output_type": "stream",
     "text": [
      "[I 2025-01-07 13:18:20,251] Trial 38 finished with value: 0.046690554633621394 and parameters: {'topK': 297, 'l1_ratio': 0.2983674251624201, 'alpha': 0.000271157866948247}. Best is trial 31 with value: 0.047748307498937756.\n"
     ]
    },
    {
     "name": "stdout",
     "output_type": "stream",
     "text": [
      "SLIMElasticNetRecommender: Processed 8424 (22.1%) in 5.00 min. Items per second: 28.07\n",
      "SLIMElasticNetRecommender: Processed 16928 (44.4%) in 10.00 min. Items per second: 28.21\n",
      "SLIMElasticNetRecommender: Processed 25237 (66.2%) in 15.00 min. Items per second: 28.04\n",
      "SLIMElasticNetRecommender: Processed 33838 (88.8%) in 20.00 min. Items per second: 28.20\n",
      "SLIMElasticNetRecommender: Processed 38121 (100.0%) in 22.52 min. Items per second: 28.21\n",
      "EvaluatorHoldout: Processed 35209 (100.0%) in 15.09 sec. Users per second: 2334\n"
     ]
    },
    {
     "name": "stderr",
     "output_type": "stream",
     "text": [
      "[I 2025-01-07 13:41:06,561] Trial 39 finished with value: 0.04742341875070534 and parameters: {'topK': 290, 'l1_ratio': 0.07407540091188752, 'alpha': 0.00018019338357103408}. Best is trial 31 with value: 0.047748307498937756.\n"
     ]
    },
    {
     "name": "stdout",
     "output_type": "stream",
     "text": [
      "SLIMElasticNetRecommender: Processed 8523 (22.4%) in 5.00 min. Items per second: 28.41\n",
      "SLIMElasticNetRecommender: Processed 17147 (45.0%) in 10.00 min. Items per second: 28.57\n",
      "SLIMElasticNetRecommender: Processed 25905 (68.0%) in 15.00 min. Items per second: 28.78\n",
      "SLIMElasticNetRecommender: Processed 34715 (91.1%) in 20.00 min. Items per second: 28.93\n",
      "SLIMElasticNetRecommender: Processed 38121 (100.0%) in 22.01 min. Items per second: 28.86\n",
      "EvaluatorHoldout: Processed 35209 (100.0%) in 14.25 sec. Users per second: 2471\n"
     ]
    },
    {
     "name": "stderr",
     "output_type": "stream",
     "text": [
      "[I 2025-01-07 14:03:21,671] Trial 40 finished with value: 0.04729009695843279 and parameters: {'topK': 302, 'l1_ratio': 0.062234257880477095, 'alpha': 0.000493130798753677}. Best is trial 31 with value: 0.047748307498937756.\n"
     ]
    },
    {
     "name": "stdout",
     "output_type": "stream",
     "text": [
      "SLIMElasticNetRecommender: Processed 8277 (21.7%) in 5.00 min. Items per second: 27.59\n",
      "SLIMElasticNetRecommender: Processed 16406 (43.0%) in 10.00 min. Items per second: 27.34\n",
      "SLIMElasticNetRecommender: Processed 24636 (64.6%) in 15.00 min. Items per second: 27.37\n",
      "SLIMElasticNetRecommender: Processed 32851 (86.2%) in 20.00 min. Items per second: 27.37\n",
      "SLIMElasticNetRecommender: Processed 38121 (100.0%) in 23.27 min. Items per second: 27.30\n",
      "EvaluatorHoldout: Processed 35209 (100.0%) in 14.77 sec. Users per second: 2384\n"
     ]
    },
    {
     "name": "stderr",
     "output_type": "stream",
     "text": [
      "[I 2025-01-07 14:26:52,955] Trial 41 finished with value: 0.04775697569209002 and parameters: {'topK': 294, 'l1_ratio': 0.11710951521318864, 'alpha': 0.0002640491496854697}. Best is trial 41 with value: 0.04775697569209002.\n"
     ]
    },
    {
     "name": "stdout",
     "output_type": "stream",
     "text": [
      "SLIMElasticNetRecommender: Processed 8055 (21.1%) in 5.00 min. Items per second: 26.84\n",
      "SLIMElasticNetRecommender: Processed 16406 (43.0%) in 10.00 min. Items per second: 27.34\n",
      "SLIMElasticNetRecommender: Processed 24735 (64.9%) in 15.00 min. Items per second: 27.48\n",
      "SLIMElasticNetRecommender: Processed 33103 (86.8%) in 20.00 min. Items per second: 27.58\n",
      "SLIMElasticNetRecommender: Processed 38121 (100.0%) in 23.05 min. Items per second: 27.57\n",
      "EvaluatorHoldout: Processed 35209 (100.0%) in 14.60 sec. Users per second: 2412\n"
     ]
    },
    {
     "name": "stderr",
     "output_type": "stream",
     "text": [
      "[I 2025-01-07 14:50:10,386] Trial 42 finished with value: 0.04772487373583518 and parameters: {'topK': 293, 'l1_ratio': 0.10526647126570662, 'alpha': 0.0002816251970043946}. Best is trial 41 with value: 0.04775697569209002.\n"
     ]
    },
    {
     "name": "stdout",
     "output_type": "stream",
     "text": [
      "SLIMElasticNetRecommender: Processed 8472 (22.2%) in 5.00 min. Items per second: 28.24\n",
      "SLIMElasticNetRecommender: Processed 16969 (44.5%) in 10.00 min. Items per second: 28.28\n",
      "SLIMElasticNetRecommender: Processed 25790 (67.7%) in 15.00 min. Items per second: 28.65\n",
      "SLIMElasticNetRecommender: Processed 34763 (91.2%) in 20.00 min. Items per second: 28.97\n",
      "SLIMElasticNetRecommender: Processed 38121 (100.0%) in 21.96 min. Items per second: 28.93\n",
      "EvaluatorHoldout: Processed 35209 (100.0%) in 12.94 sec. Users per second: 2721\n"
     ]
    },
    {
     "name": "stderr",
     "output_type": "stream",
     "text": [
      "[I 2025-01-07 15:12:20,961] Trial 43 finished with value: 0.047376317923761416 and parameters: {'topK': 292, 'l1_ratio': 0.143547787131874, 'alpha': 0.0003373122657120396}. Best is trial 41 with value: 0.04775697569209002.\n"
     ]
    },
    {
     "name": "stdout",
     "output_type": "stream",
     "text": [
      "SLIMElasticNetRecommender: Processed 8122 (21.3%) in 5.00 min. Items per second: 27.07\n",
      "SLIMElasticNetRecommender: Processed 16438 (43.1%) in 10.00 min. Items per second: 27.39\n",
      "SLIMElasticNetRecommender: Processed 24949 (65.4%) in 15.00 min. Items per second: 27.72\n",
      "SLIMElasticNetRecommender: Processed 33655 (88.3%) in 20.00 min. Items per second: 28.04\n",
      "SLIMElasticNetRecommender: Processed 38121 (100.0%) in 22.63 min. Items per second: 28.07\n",
      "EvaluatorHoldout: Processed 35209 (100.0%) in 13.92 sec. Users per second: 2529\n"
     ]
    },
    {
     "name": "stderr",
     "output_type": "stream",
     "text": [
      "[I 2025-01-07 15:35:12,925] Trial 44 finished with value: 0.04773163156786499 and parameters: {'topK': 299, 'l1_ratio': 0.1259290996094596, 'alpha': 0.0002603895309702717}. Best is trial 41 with value: 0.04775697569209002.\n"
     ]
    },
    {
     "name": "stdout",
     "output_type": "stream",
     "text": [
      "SLIMElasticNetRecommender: Processed 8310 (21.8%) in 5.00 min. Items per second: 27.69\n",
      "SLIMElasticNetRecommender: Processed 16725 (43.9%) in 10.00 min. Items per second: 27.87\n",
      "SLIMElasticNetRecommender: Processed 25213 (66.1%) in 15.00 min. Items per second: 28.01\n",
      "SLIMElasticNetRecommender: Processed 33825 (88.7%) in 20.00 min. Items per second: 28.18\n",
      "SLIMElasticNetRecommender: Processed 38121 (100.0%) in 22.55 min. Items per second: 28.17\n",
      "EvaluatorHoldout: Processed 35209 (100.0%) in 15.51 sec. Users per second: 2270\n"
     ]
    },
    {
     "name": "stderr",
     "output_type": "stream",
     "text": [
      "[I 2025-01-07 15:58:01,519] Trial 45 finished with value: 0.047503985272522795 and parameters: {'topK': 299, 'l1_ratio': 0.17353037481324024, 'alpha': 0.00011846326179759887}. Best is trial 41 with value: 0.04775697569209002.\n"
     ]
    },
    {
     "name": "stdout",
     "output_type": "stream",
     "text": [
      "SLIMElasticNetRecommender: Processed 8388 (22.0%) in 5.00 min. Items per second: 27.95\n",
      "SLIMElasticNetRecommender: Processed 16888 (44.3%) in 10.00 min. Items per second: 28.14\n",
      "SLIMElasticNetRecommender: Processed 25497 (66.9%) in 15.00 min. Items per second: 28.33\n",
      "SLIMElasticNetRecommender: Processed 34190 (89.7%) in 20.00 min. Items per second: 28.49\n",
      "SLIMElasticNetRecommender: Processed 38121 (100.0%) in 22.36 min. Items per second: 28.41\n",
      "EvaluatorHoldout: Processed 35209 (100.0%) in 13.84 sec. Users per second: 2543\n"
     ]
    },
    {
     "name": "stderr",
     "output_type": "stream",
     "text": [
      "[I 2025-01-07 16:20:37,036] Trial 46 finished with value: 0.047748167743905806 and parameters: {'topK': 297, 'l1_ratio': 0.15541598749222035, 'alpha': 0.00019681300270754128}. Best is trial 41 with value: 0.04775697569209002.\n"
     ]
    },
    {
     "name": "stdout",
     "output_type": "stream",
     "text": [
      "SLIMElasticNetRecommender: Processed 8452 (22.2%) in 5.00 min. Items per second: 28.17\n",
      "SLIMElasticNetRecommender: Processed 16978 (44.5%) in 10.00 min. Items per second: 28.29\n",
      "SLIMElasticNetRecommender: Processed 25622 (67.2%) in 15.00 min. Items per second: 28.46\n",
      "SLIMElasticNetRecommender: Processed 34305 (90.0%) in 20.00 min. Items per second: 28.58\n",
      "SLIMElasticNetRecommender: Processed 38121 (100.0%) in 22.29 min. Items per second: 28.51\n",
      "EvaluatorHoldout: Processed 35209 (100.0%) in 13.88 sec. Users per second: 2536\n"
     ]
    },
    {
     "name": "stderr",
     "output_type": "stream",
     "text": [
      "[I 2025-01-07 16:43:08,259] Trial 47 finished with value: 0.04771778793030294 and parameters: {'topK': 297, 'l1_ratio': 0.14994579847312245, 'alpha': 0.00019378257207287123}. Best is trial 41 with value: 0.04775697569209002.\n"
     ]
    },
    {
     "name": "stdout",
     "output_type": "stream",
     "text": [
      "SLIMElasticNetRecommender: Processed 8498 (22.3%) in 5.00 min. Items per second: 28.32\n",
      "SLIMElasticNetRecommender: Processed 17090 (44.8%) in 10.00 min. Items per second: 28.48\n",
      "SLIMElasticNetRecommender: Processed 25775 (67.6%) in 15.00 min. Items per second: 28.64\n",
      "SLIMElasticNetRecommender: Processed 34565 (90.7%) in 20.00 min. Items per second: 28.80\n",
      "SLIMElasticNetRecommender: Processed 38121 (100.0%) in 22.09 min. Items per second: 28.76\n",
      "EvaluatorHoldout: Processed 35209 (100.0%) in 15.40 sec. Users per second: 2286\n"
     ]
    },
    {
     "name": "stderr",
     "output_type": "stream",
     "text": [
      "[I 2025-01-07 17:05:29,233] Trial 48 finished with value: 0.04761397022856988 and parameters: {'topK': 308, 'l1_ratio': 0.1554788391626509, 'alpha': 0.00013915470039574314}. Best is trial 41 with value: 0.04775697569209002.\n"
     ]
    },
    {
     "name": "stdout",
     "output_type": "stream",
     "text": [
      "SLIMElasticNetRecommender: Processed 8665 (22.7%) in 5.00 min. Items per second: 28.88\n",
      "SLIMElasticNetRecommender: Processed 17421 (45.7%) in 10.00 min. Items per second: 29.03\n",
      "SLIMElasticNetRecommender: Processed 26364 (69.2%) in 15.00 min. Items per second: 29.29\n",
      "SLIMElasticNetRecommender: Processed 35034 (91.9%) in 20.00 min. Items per second: 29.19\n",
      "SLIMElasticNetRecommender: Processed 38121 (100.0%) in 21.89 min. Items per second: 29.03\n",
      "EvaluatorHoldout: Processed 35209 (100.0%) in 13.97 sec. Users per second: 2521\n"
     ]
    },
    {
     "name": "stderr",
     "output_type": "stream",
     "text": [
      "[I 2025-01-07 17:27:36,592] Trial 49 finished with value: 0.04760500449244645 and parameters: {'topK': 291, 'l1_ratio': 0.1385070242916104, 'alpha': 0.00030521044640615465}. Best is trial 41 with value: 0.04775697569209002.\n"
     ]
    },
    {
     "name": "stdout",
     "output_type": "stream",
     "text": [
      "SLIMElasticNetRecommender: Processed 7866 (20.6%) in 5.00 min. Items per second: 26.22\n",
      "SLIMElasticNetRecommender: Processed 16129 (42.3%) in 10.00 min. Items per second: 26.88\n",
      "SLIMElasticNetRecommender: Processed 24535 (64.4%) in 15.00 min. Items per second: 27.26\n",
      "SLIMElasticNetRecommender: Processed 33161 (87.0%) in 20.00 min. Items per second: 27.63\n",
      "SLIMElasticNetRecommender: Processed 38121 (100.0%) in 22.93 min. Items per second: 27.71\n",
      "EvaluatorHoldout: Processed 35209 (100.0%) in 15.48 sec. Users per second: 2275\n"
     ]
    },
    {
     "name": "stderr",
     "output_type": "stream",
     "text": [
      "[I 2025-01-07 17:50:47,928] Trial 50 finished with value: 0.04744201631346789 and parameters: {'topK': 300, 'l1_ratio': 0.2058917051976037, 'alpha': 0.00010155600998650787}. Best is trial 41 with value: 0.04775697569209002.\n"
     ]
    },
    {
     "name": "stdout",
     "output_type": "stream",
     "text": [
      "SLIMElasticNetRecommender: Processed 8501 (22.3%) in 5.00 min. Items per second: 28.33\n",
      "SLIMElasticNetRecommender: Processed 17132 (44.9%) in 10.00 min. Items per second: 28.55\n",
      "SLIMElasticNetRecommender: Processed 25873 (67.9%) in 15.00 min. Items per second: 28.75\n",
      "SLIMElasticNetRecommender: Processed 34664 (90.9%) in 20.00 min. Items per second: 28.89\n",
      "SLIMElasticNetRecommender: Processed 38121 (100.0%) in 22.05 min. Items per second: 28.81\n",
      "EvaluatorHoldout: Processed 35209 (100.0%) in 14.35 sec. Users per second: 2453\n"
     ]
    },
    {
     "name": "stderr",
     "output_type": "stream",
     "text": [
      "[I 2025-01-07 18:13:05,339] Trial 51 finished with value: 0.04768225070519772 and parameters: {'topK': 298, 'l1_ratio': 0.12961080072407552, 'alpha': 0.00020345284513258844}. Best is trial 41 with value: 0.04775697569209002.\n"
     ]
    },
    {
     "name": "stdout",
     "output_type": "stream",
     "text": [
      "SLIMElasticNetRecommender: Processed 8464 (22.2%) in 5.00 min. Items per second: 28.21\n",
      "SLIMElasticNetRecommender: Processed 17007 (44.6%) in 10.00 min. Items per second: 28.34\n",
      "SLIMElasticNetRecommender: Processed 25386 (66.6%) in 15.00 min. Items per second: 28.20\n",
      "SLIMElasticNetRecommender: Processed 33667 (88.3%) in 20.00 min. Items per second: 28.05\n",
      "SLIMElasticNetRecommender: Processed 38121 (100.0%) in 22.72 min. Items per second: 27.96\n",
      "EvaluatorHoldout: Processed 35209 (100.0%) in 14.98 sec. Users per second: 2351\n"
     ]
    },
    {
     "name": "stderr",
     "output_type": "stream",
     "text": [
      "[I 2025-01-07 18:36:03,596] Trial 52 finished with value: 0.04771392888812988 and parameters: {'topK': 305, 'l1_ratio': 0.11338685436380277, 'alpha': 0.00024968300260536737}. Best is trial 41 with value: 0.04775697569209002.\n"
     ]
    },
    {
     "name": "stdout",
     "output_type": "stream",
     "text": [
      "SLIMElasticNetRecommender: Processed 7947 (20.8%) in 5.00 min. Items per second: 26.49\n",
      "SLIMElasticNetRecommender: Processed 16088 (42.2%) in 10.00 min. Items per second: 26.81\n",
      "SLIMElasticNetRecommender: Processed 24271 (63.7%) in 15.00 min. Items per second: 26.97\n",
      "SLIMElasticNetRecommender: Processed 32556 (85.4%) in 20.00 min. Items per second: 27.13\n",
      "SLIMElasticNetRecommender: Processed 38121 (100.0%) in 23.35 min. Items per second: 27.21\n",
      "EvaluatorHoldout: Processed 35209 (100.0%) in 15.58 sec. Users per second: 2260\n"
     ]
    },
    {
     "name": "stderr",
     "output_type": "stream",
     "text": [
      "[I 2025-01-07 18:59:40,356] Trial 53 finished with value: 0.0473955488923946 and parameters: {'topK': 296, 'l1_ratio': 0.10443754679854919, 'alpha': 0.00014563849740169618}. Best is trial 41 with value: 0.04775697569209002.\n"
     ]
    },
    {
     "name": "stdout",
     "output_type": "stream",
     "text": [
      "SLIMElasticNetRecommender: Processed 8914 (23.4%) in 5.00 min. Items per second: 29.71\n",
      "SLIMElasticNetRecommender: Processed 17868 (46.9%) in 10.00 min. Items per second: 29.78\n",
      "SLIMElasticNetRecommender: Processed 27249 (71.5%) in 15.00 min. Items per second: 30.27\n",
      "SLIMElasticNetRecommender: Processed 36716 (96.3%) in 20.00 min. Items per second: 30.59\n",
      "SLIMElasticNetRecommender: Processed 38121 (100.0%) in 20.80 min. Items per second: 30.55\n",
      "EvaluatorHoldout: Processed 35209 (100.0%) in 11.93 sec. Users per second: 2951\n"
     ]
    },
    {
     "name": "stderr",
     "output_type": "stream",
     "text": [
      "[I 2025-01-07 19:20:40,161] Trial 54 finished with value: 0.04711393912180457 and parameters: {'topK': 300, 'l1_ratio': 0.170290255259781, 'alpha': 0.00035255522707946575}. Best is trial 41 with value: 0.04775697569209002.\n"
     ]
    },
    {
     "name": "stdout",
     "output_type": "stream",
     "text": [
      "SLIMElasticNetRecommender: Processed 8492 (22.3%) in 5.00 min. Items per second: 28.30\n",
      "SLIMElasticNetRecommender: Processed 17120 (44.9%) in 10.00 min. Items per second: 28.53\n",
      "SLIMElasticNetRecommender: Processed 25752 (67.6%) in 15.00 min. Items per second: 28.61\n",
      "SLIMElasticNetRecommender: Processed 34386 (90.2%) in 20.00 min. Items per second: 28.65\n",
      "SLIMElasticNetRecommender: Processed 38121 (100.0%) in 22.19 min. Items per second: 28.63\n",
      "EvaluatorHoldout: Processed 35209 (100.0%) in 15.85 sec. Users per second: 2221\n"
     ]
    },
    {
     "name": "stderr",
     "output_type": "stream",
     "text": [
      "[I 2025-01-07 19:43:07,783] Trial 55 finished with value: 0.04766227024385267 and parameters: {'topK': 294, 'l1_ratio': 0.08368464497762373, 'alpha': 0.00024720008619957}. Best is trial 41 with value: 0.04775697569209002.\n"
     ]
    },
    {
     "name": "stdout",
     "output_type": "stream",
     "text": [
      "SLIMElasticNetRecommender: Processed 12322 (32.3%) in 5.00 min. Items per second: 41.07\n",
      "SLIMElasticNetRecommender: Processed 26098 (68.5%) in 10.00 min. Items per second: 43.49\n",
      "SLIMElasticNetRecommender: Processed 38121 (100.0%) in 14.24 min. Items per second: 44.63\n",
      "EvaluatorHoldout: Processed 35209 (100.0%) in 10.24 sec. Users per second: 3439\n"
     ]
    },
    {
     "name": "stderr",
     "output_type": "stream",
     "text": [
      "[I 2025-01-07 19:57:32,241] Trial 56 finished with value: 0.043125170467325454 and parameters: {'topK': 296, 'l1_ratio': 0.13835228195417107, 'alpha': 0.0008964326211747171}. Best is trial 41 with value: 0.04775697569209002.\n"
     ]
    },
    {
     "name": "stdout",
     "output_type": "stream",
     "text": [
      "SLIMElasticNetRecommender: Processed 8468 (22.2%) in 5.00 min. Items per second: 28.22\n",
      "SLIMElasticNetRecommender: Processed 17092 (44.8%) in 10.00 min. Items per second: 28.48\n",
      "SLIMElasticNetRecommender: Processed 25930 (68.0%) in 15.00 min. Items per second: 28.81\n",
      "SLIMElasticNetRecommender: Processed 34845 (91.4%) in 20.00 min. Items per second: 29.03\n",
      "SLIMElasticNetRecommender: Processed 38121 (100.0%) in 21.91 min. Items per second: 29.00\n",
      "EvaluatorHoldout: Processed 35209 (100.0%) in 13.78 sec. Users per second: 2555\n"
     ]
    },
    {
     "name": "stderr",
     "output_type": "stream",
     "text": [
      "[I 2025-01-07 20:19:40,546] Trial 57 finished with value: 0.047717178192623035 and parameters: {'topK': 291, 'l1_ratio': 0.11785761014525183, 'alpha': 0.0003043771693293893}. Best is trial 41 with value: 0.04775697569209002.\n"
     ]
    },
    {
     "name": "stdout",
     "output_type": "stream",
     "text": [
      "SLIMElasticNetRecommender: Processed 8463 (22.2%) in 5.00 min. Items per second: 28.20\n",
      "SLIMElasticNetRecommender: Processed 17007 (44.6%) in 10.00 min. Items per second: 28.34\n",
      "SLIMElasticNetRecommender: Processed 25611 (67.2%) in 15.00 min. Items per second: 28.45\n",
      "SLIMElasticNetRecommender: Processed 33135 (86.9%) in 20.00 min. Items per second: 27.61\n",
      "SLIMElasticNetRecommender: Processed 38121 (100.0%) in 23.67 min. Items per second: 26.84\n",
      "EvaluatorHoldout: Processed 35209 (100.0%) in 14.29 sec. Users per second: 2465\n"
     ]
    },
    {
     "name": "stderr",
     "output_type": "stream",
     "text": [
      "[I 2025-01-07 20:43:35,388] Trial 58 finished with value: 0.04776399500127629 and parameters: {'topK': 302, 'l1_ratio': 0.15441818210314104, 'alpha': 0.00022436326024560132}. Best is trial 58 with value: 0.04776399500127629.\n"
     ]
    },
    {
     "name": "stdout",
     "output_type": "stream",
     "text": [
      "SLIMElasticNetRecommender: Processed 7593 (19.9%) in 5.00 min. Items per second: 25.30\n",
      "SLIMElasticNetRecommender: Processed 15402 (40.4%) in 10.00 min. Items per second: 25.67\n",
      "SLIMElasticNetRecommender: Processed 23090 (60.6%) in 15.00 min. Items per second: 25.65\n",
      "SLIMElasticNetRecommender: Processed 30895 (81.0%) in 20.00 min. Items per second: 25.74\n",
      "SLIMElasticNetRecommender: Processed 38121 (100.0%) in 24.25 min. Items per second: 26.20\n",
      "EvaluatorHoldout: Processed 35209 (100.0%) in 13.86 sec. Users per second: 2541\n"
     ]
    },
    {
     "name": "stderr",
     "output_type": "stream",
     "text": [
      "[I 2025-01-07 21:08:04,093] Trial 59 finished with value: 0.04773873089807765 and parameters: {'topK': 301, 'l1_ratio': 0.1805273337378982, 'alpha': 0.00021813769301418402}. Best is trial 58 with value: 0.04776399500127629.\n"
     ]
    },
    {
     "name": "stdout",
     "output_type": "stream",
     "text": [
      "SLIMElasticNetRecommender: Processed 8107 (21.3%) in 5.00 min. Items per second: 27.02\n",
      "SLIMElasticNetRecommender: Processed 16583 (43.5%) in 10.00 min. Items per second: 27.63\n",
      "SLIMElasticNetRecommender: Processed 25095 (65.8%) in 15.00 min. Items per second: 27.88\n",
      "SLIMElasticNetRecommender: Processed 33758 (88.6%) in 20.00 min. Items per second: 28.13\n",
      "SLIMElasticNetRecommender: Processed 38121 (100.0%) in 22.59 min. Items per second: 28.12\n",
      "EvaluatorHoldout: Processed 35209 (100.0%) in 13.35 sec. Users per second: 2638\n"
     ]
    },
    {
     "name": "stderr",
     "output_type": "stream",
     "text": [
      "[I 2025-01-07 21:30:53,177] Trial 60 finished with value: 0.04769329698800669 and parameters: {'topK': 302, 'l1_ratio': 0.1970635853930286, 'alpha': 0.00021000744095874848}. Best is trial 58 with value: 0.04776399500127629.\n"
     ]
    },
    {
     "name": "stdout",
     "output_type": "stream",
     "text": [
      "SLIMElasticNetRecommender: Processed 8100 (21.2%) in 5.00 min. Items per second: 26.99\n"
     ]
    },
    {
     "name": "stderr",
     "output_type": "stream",
     "text": [
      "[W 2025-01-07 21:37:45,815] Trial 61 failed with parameters: {'topK': 305, 'l1_ratio': 0.15873717388383302, 'alpha': 0.0002179967491896293} because of the following error: KeyboardInterrupt().\n",
      "Traceback (most recent call last):\n",
      "  File \"/opt/miniconda3/envs/RecSys/lib/python3.12/site-packages/optuna/study/_optimize.py\", line 197, in _run_trial\n",
      "    value_or_values = func(trial)\n",
      "                      ^^^^^^^^^^^\n",
      "  File \"/var/folders/tr/d1rx7zt15lzgkp2yc1nwbg100000gn/T/ipykernel_70087/2150311757.py\", line 8, in objective\n",
      "    recommender.fit(**optuna_trial.params)\n",
      "  File \"/opt/miniconda3/envs/RecSys/lib/python3.12/site-packages/sklearn/utils/_testing.py\", line 160, in wrapper\n",
      "    return fn(*args, **kwargs)\n",
      "           ^^^^^^^^^^^^^^^^^^^\n",
      "  File \"/Users/safuan/Python/RecSysCompetition2024Polimi/libs/Recommenders/SLIM/SLIMElasticNetRecommender.py\", line 87, in fit\n",
      "    self.model.fit(URM_train, y)\n",
      "  File \"/opt/miniconda3/envs/RecSys/lib/python3.12/site-packages/sklearn/base.py\", line 1473, in wrapper\n",
      "    return fit_method(estimator, *args, **kwargs)\n",
      "           ^^^^^^^^^^^^^^^^^^^^^^^^^^^^^^^^^^^^^^\n",
      "  File \"/opt/miniconda3/envs/RecSys/lib/python3.12/site-packages/sklearn/linear_model/_coordinate_descent.py\", line 1077, in fit\n",
      "    _, this_coef, this_dual_gap, this_iter = self.path(\n",
      "                                             ^^^^^^^^^^\n",
      "  File \"/opt/miniconda3/envs/RecSys/lib/python3.12/site-packages/sklearn/utils/_param_validation.py\", line 186, in wrapper\n",
      "    return func(*args, **kwargs)\n",
      "           ^^^^^^^^^^^^^^^^^^^^^\n",
      "  File \"/opt/miniconda3/envs/RecSys/lib/python3.12/site-packages/sklearn/linear_model/_coordinate_descent.py\", line 658, in enet_path\n",
      "    model = cd_fast.sparse_enet_coordinate_descent(\n",
      "            ^^^^^^^^^^^^^^^^^^^^^^^^^^^^^^^^^^^^^^^\n",
      "KeyboardInterrupt\n",
      "[W 2025-01-07 21:37:45,820] Trial 61 failed with value None.\n"
     ]
    },
    {
     "ename": "KeyboardInterrupt",
     "evalue": "",
     "output_type": "error",
     "traceback": [
      "\u001b[0;31m---------------------------------------------------------------------------\u001b[0m",
      "\u001b[0;31mKeyboardInterrupt\u001b[0m                         Traceback (most recent call last)",
      "Cell \u001b[0;32mIn[17], line 3\u001b[0m\n\u001b[1;32m      1\u001b[0m study \u001b[38;5;241m=\u001b[39m op\u001b[38;5;241m.\u001b[39mcreate_study(direction\u001b[38;5;241m=\u001b[39m\u001b[38;5;124m\"\u001b[39m\u001b[38;5;124mmaximize\u001b[39m\u001b[38;5;124m\"\u001b[39m)\n\u001b[1;32m      2\u001b[0m save_results\u001b[38;5;241m=\u001b[39m SaveResults(\u001b[38;5;124m\"\u001b[39m\u001b[38;5;124mresult_experiments/SLIM/results_optuna_map.csv\u001b[39m\u001b[38;5;124m\"\u001b[39m)\n\u001b[0;32m----> 3\u001b[0m study\u001b[38;5;241m.\u001b[39moptimize(objective, callbacks\u001b[38;5;241m=\u001b[39m[save_results], n_trials\u001b[38;5;241m=\u001b[39m\u001b[38;5;241m100\u001b[39m)\n",
      "File \u001b[0;32m/opt/miniconda3/envs/RecSys/lib/python3.12/site-packages/optuna/study/study.py:475\u001b[0m, in \u001b[0;36mStudy.optimize\u001b[0;34m(self, func, n_trials, timeout, n_jobs, catch, callbacks, gc_after_trial, show_progress_bar)\u001b[0m\n\u001b[1;32m    373\u001b[0m \u001b[38;5;28;01mdef\u001b[39;00m \u001b[38;5;21moptimize\u001b[39m(\n\u001b[1;32m    374\u001b[0m     \u001b[38;5;28mself\u001b[39m,\n\u001b[1;32m    375\u001b[0m     func: ObjectiveFuncType,\n\u001b[0;32m   (...)\u001b[0m\n\u001b[1;32m    382\u001b[0m     show_progress_bar: \u001b[38;5;28mbool\u001b[39m \u001b[38;5;241m=\u001b[39m \u001b[38;5;28;01mFalse\u001b[39;00m,\n\u001b[1;32m    383\u001b[0m ) \u001b[38;5;241m-\u001b[39m\u001b[38;5;241m>\u001b[39m \u001b[38;5;28;01mNone\u001b[39;00m:\n\u001b[1;32m    384\u001b[0m \u001b[38;5;250m    \u001b[39m\u001b[38;5;124;03m\"\"\"Optimize an objective function.\u001b[39;00m\n\u001b[1;32m    385\u001b[0m \n\u001b[1;32m    386\u001b[0m \u001b[38;5;124;03m    Optimization is done by choosing a suitable set of hyperparameter values from a given\u001b[39;00m\n\u001b[0;32m   (...)\u001b[0m\n\u001b[1;32m    473\u001b[0m \u001b[38;5;124;03m            If nested invocation of this method occurs.\u001b[39;00m\n\u001b[1;32m    474\u001b[0m \u001b[38;5;124;03m    \"\"\"\u001b[39;00m\n\u001b[0;32m--> 475\u001b[0m     _optimize(\n\u001b[1;32m    476\u001b[0m         study\u001b[38;5;241m=\u001b[39m\u001b[38;5;28mself\u001b[39m,\n\u001b[1;32m    477\u001b[0m         func\u001b[38;5;241m=\u001b[39mfunc,\n\u001b[1;32m    478\u001b[0m         n_trials\u001b[38;5;241m=\u001b[39mn_trials,\n\u001b[1;32m    479\u001b[0m         timeout\u001b[38;5;241m=\u001b[39mtimeout,\n\u001b[1;32m    480\u001b[0m         n_jobs\u001b[38;5;241m=\u001b[39mn_jobs,\n\u001b[1;32m    481\u001b[0m         catch\u001b[38;5;241m=\u001b[39m\u001b[38;5;28mtuple\u001b[39m(catch) \u001b[38;5;28;01mif\u001b[39;00m \u001b[38;5;28misinstance\u001b[39m(catch, Iterable) \u001b[38;5;28;01melse\u001b[39;00m (catch,),\n\u001b[1;32m    482\u001b[0m         callbacks\u001b[38;5;241m=\u001b[39mcallbacks,\n\u001b[1;32m    483\u001b[0m         gc_after_trial\u001b[38;5;241m=\u001b[39mgc_after_trial,\n\u001b[1;32m    484\u001b[0m         show_progress_bar\u001b[38;5;241m=\u001b[39mshow_progress_bar,\n\u001b[1;32m    485\u001b[0m     )\n",
      "File \u001b[0;32m/opt/miniconda3/envs/RecSys/lib/python3.12/site-packages/optuna/study/_optimize.py:63\u001b[0m, in \u001b[0;36m_optimize\u001b[0;34m(study, func, n_trials, timeout, n_jobs, catch, callbacks, gc_after_trial, show_progress_bar)\u001b[0m\n\u001b[1;32m     61\u001b[0m \u001b[38;5;28;01mtry\u001b[39;00m:\n\u001b[1;32m     62\u001b[0m     \u001b[38;5;28;01mif\u001b[39;00m n_jobs \u001b[38;5;241m==\u001b[39m \u001b[38;5;241m1\u001b[39m:\n\u001b[0;32m---> 63\u001b[0m         _optimize_sequential(\n\u001b[1;32m     64\u001b[0m             study,\n\u001b[1;32m     65\u001b[0m             func,\n\u001b[1;32m     66\u001b[0m             n_trials,\n\u001b[1;32m     67\u001b[0m             timeout,\n\u001b[1;32m     68\u001b[0m             catch,\n\u001b[1;32m     69\u001b[0m             callbacks,\n\u001b[1;32m     70\u001b[0m             gc_after_trial,\n\u001b[1;32m     71\u001b[0m             reseed_sampler_rng\u001b[38;5;241m=\u001b[39m\u001b[38;5;28;01mFalse\u001b[39;00m,\n\u001b[1;32m     72\u001b[0m             time_start\u001b[38;5;241m=\u001b[39m\u001b[38;5;28;01mNone\u001b[39;00m,\n\u001b[1;32m     73\u001b[0m             progress_bar\u001b[38;5;241m=\u001b[39mprogress_bar,\n\u001b[1;32m     74\u001b[0m         )\n\u001b[1;32m     75\u001b[0m     \u001b[38;5;28;01melse\u001b[39;00m:\n\u001b[1;32m     76\u001b[0m         \u001b[38;5;28;01mif\u001b[39;00m n_jobs \u001b[38;5;241m==\u001b[39m \u001b[38;5;241m-\u001b[39m\u001b[38;5;241m1\u001b[39m:\n",
      "File \u001b[0;32m/opt/miniconda3/envs/RecSys/lib/python3.12/site-packages/optuna/study/_optimize.py:160\u001b[0m, in \u001b[0;36m_optimize_sequential\u001b[0;34m(study, func, n_trials, timeout, catch, callbacks, gc_after_trial, reseed_sampler_rng, time_start, progress_bar)\u001b[0m\n\u001b[1;32m    157\u001b[0m         \u001b[38;5;28;01mbreak\u001b[39;00m\n\u001b[1;32m    159\u001b[0m \u001b[38;5;28;01mtry\u001b[39;00m:\n\u001b[0;32m--> 160\u001b[0m     frozen_trial \u001b[38;5;241m=\u001b[39m _run_trial(study, func, catch)\n\u001b[1;32m    161\u001b[0m \u001b[38;5;28;01mfinally\u001b[39;00m:\n\u001b[1;32m    162\u001b[0m     \u001b[38;5;66;03m# The following line mitigates memory problems that can be occurred in some\u001b[39;00m\n\u001b[1;32m    163\u001b[0m     \u001b[38;5;66;03m# environments (e.g., services that use computing containers such as GitHub Actions).\u001b[39;00m\n\u001b[1;32m    164\u001b[0m     \u001b[38;5;66;03m# Please refer to the following PR for further details:\u001b[39;00m\n\u001b[1;32m    165\u001b[0m     \u001b[38;5;66;03m# https://github.com/optuna/optuna/pull/325.\u001b[39;00m\n\u001b[1;32m    166\u001b[0m     \u001b[38;5;28;01mif\u001b[39;00m gc_after_trial:\n",
      "File \u001b[0;32m/opt/miniconda3/envs/RecSys/lib/python3.12/site-packages/optuna/study/_optimize.py:248\u001b[0m, in \u001b[0;36m_run_trial\u001b[0;34m(study, func, catch)\u001b[0m\n\u001b[1;32m    241\u001b[0m         \u001b[38;5;28;01massert\u001b[39;00m \u001b[38;5;28;01mFalse\u001b[39;00m, \u001b[38;5;124m\"\u001b[39m\u001b[38;5;124mShould not reach.\u001b[39m\u001b[38;5;124m\"\u001b[39m\n\u001b[1;32m    243\u001b[0m \u001b[38;5;28;01mif\u001b[39;00m (\n\u001b[1;32m    244\u001b[0m     frozen_trial\u001b[38;5;241m.\u001b[39mstate \u001b[38;5;241m==\u001b[39m TrialState\u001b[38;5;241m.\u001b[39mFAIL\n\u001b[1;32m    245\u001b[0m     \u001b[38;5;129;01mand\u001b[39;00m func_err \u001b[38;5;129;01mis\u001b[39;00m \u001b[38;5;129;01mnot\u001b[39;00m \u001b[38;5;28;01mNone\u001b[39;00m\n\u001b[1;32m    246\u001b[0m     \u001b[38;5;129;01mand\u001b[39;00m \u001b[38;5;129;01mnot\u001b[39;00m \u001b[38;5;28misinstance\u001b[39m(func_err, catch)\n\u001b[1;32m    247\u001b[0m ):\n\u001b[0;32m--> 248\u001b[0m     \u001b[38;5;28;01mraise\u001b[39;00m func_err\n\u001b[1;32m    249\u001b[0m \u001b[38;5;28;01mreturn\u001b[39;00m frozen_trial\n",
      "File \u001b[0;32m/opt/miniconda3/envs/RecSys/lib/python3.12/site-packages/optuna/study/_optimize.py:197\u001b[0m, in \u001b[0;36m_run_trial\u001b[0;34m(study, func, catch)\u001b[0m\n\u001b[1;32m    195\u001b[0m \u001b[38;5;28;01mwith\u001b[39;00m get_heartbeat_thread(trial\u001b[38;5;241m.\u001b[39m_trial_id, study\u001b[38;5;241m.\u001b[39m_storage):\n\u001b[1;32m    196\u001b[0m     \u001b[38;5;28;01mtry\u001b[39;00m:\n\u001b[0;32m--> 197\u001b[0m         value_or_values \u001b[38;5;241m=\u001b[39m func(trial)\n\u001b[1;32m    198\u001b[0m     \u001b[38;5;28;01mexcept\u001b[39;00m exceptions\u001b[38;5;241m.\u001b[39mTrialPruned \u001b[38;5;28;01mas\u001b[39;00m e:\n\u001b[1;32m    199\u001b[0m         \u001b[38;5;66;03m# TODO(mamu): Handle multi-objective cases.\u001b[39;00m\n\u001b[1;32m    200\u001b[0m         state \u001b[38;5;241m=\u001b[39m TrialState\u001b[38;5;241m.\u001b[39mPRUNED\n",
      "Cell \u001b[0;32mIn[15], line 8\u001b[0m, in \u001b[0;36mobjective\u001b[0;34m(optuna_trial)\u001b[0m\n\u001b[1;32m      4\u001b[0m alpha \u001b[38;5;241m=\u001b[39m optuna_trial\u001b[38;5;241m.\u001b[39msuggest_float(\u001b[38;5;124m\"\u001b[39m\u001b[38;5;124malpha\u001b[39m\u001b[38;5;124m\"\u001b[39m, \u001b[38;5;241m0.0001\u001b[39m, \u001b[38;5;241m0.0009\u001b[39m)\n\u001b[1;32m      7\u001b[0m recommender \u001b[38;5;241m=\u001b[39m SLIMElasticNetRecommender(URM_train_val)\n\u001b[0;32m----> 8\u001b[0m recommender\u001b[38;5;241m.\u001b[39mfit(\u001b[38;5;241m*\u001b[39m\u001b[38;5;241m*\u001b[39moptuna_trial\u001b[38;5;241m.\u001b[39mparams)\n\u001b[1;32m     10\u001b[0m \u001b[38;5;66;03m#eval_res, _ = evaluator_validation.evaluateRecommender(recommender)\u001b[39;00m\n\u001b[1;32m     11\u001b[0m eval_res, _ \u001b[38;5;241m=\u001b[39m evaluator_test\u001b[38;5;241m.\u001b[39mevaluateRecommender(recommender)\n",
      "File \u001b[0;32m/opt/miniconda3/envs/RecSys/lib/python3.12/site-packages/sklearn/utils/_testing.py:160\u001b[0m, in \u001b[0;36m_IgnoreWarnings.__call__.<locals>.wrapper\u001b[0;34m(*args, **kwargs)\u001b[0m\n\u001b[1;32m    158\u001b[0m \u001b[38;5;28;01mwith\u001b[39;00m warnings\u001b[38;5;241m.\u001b[39mcatch_warnings():\n\u001b[1;32m    159\u001b[0m     warnings\u001b[38;5;241m.\u001b[39msimplefilter(\u001b[38;5;124m\"\u001b[39m\u001b[38;5;124mignore\u001b[39m\u001b[38;5;124m\"\u001b[39m, \u001b[38;5;28mself\u001b[39m\u001b[38;5;241m.\u001b[39mcategory)\n\u001b[0;32m--> 160\u001b[0m     \u001b[38;5;28;01mreturn\u001b[39;00m fn(\u001b[38;5;241m*\u001b[39margs, \u001b[38;5;241m*\u001b[39m\u001b[38;5;241m*\u001b[39mkwargs)\n",
      "File \u001b[0;32m~/Python/RecSysCompetition2024Polimi/libs/Recommenders/SLIM/SLIMElasticNetRecommender.py:87\u001b[0m, in \u001b[0;36mSLIMElasticNetRecommender.fit\u001b[0;34m(self, l1_ratio, alpha, positive_only, topK)\u001b[0m\n\u001b[1;32m     84\u001b[0m URM_train\u001b[38;5;241m.\u001b[39mdata[start_pos: end_pos] \u001b[38;5;241m=\u001b[39m \u001b[38;5;241m0.0\u001b[39m\n\u001b[1;32m     86\u001b[0m \u001b[38;5;66;03m# fit one ElasticNet model per column\u001b[39;00m\n\u001b[0;32m---> 87\u001b[0m \u001b[38;5;28mself\u001b[39m\u001b[38;5;241m.\u001b[39mmodel\u001b[38;5;241m.\u001b[39mfit(URM_train, y)\n\u001b[1;32m     89\u001b[0m \u001b[38;5;66;03m# self.model.coef_ contains the coefficient of the ElasticNet model\u001b[39;00m\n\u001b[1;32m     90\u001b[0m \u001b[38;5;66;03m# let's keep only the non-zero values\u001b[39;00m\n\u001b[1;32m     91\u001b[0m nonzero_model_coef_index \u001b[38;5;241m=\u001b[39m \u001b[38;5;28mself\u001b[39m\u001b[38;5;241m.\u001b[39mmodel\u001b[38;5;241m.\u001b[39msparse_coef_\u001b[38;5;241m.\u001b[39mindices\n",
      "File \u001b[0;32m/opt/miniconda3/envs/RecSys/lib/python3.12/site-packages/sklearn/base.py:1473\u001b[0m, in \u001b[0;36m_fit_context.<locals>.decorator.<locals>.wrapper\u001b[0;34m(estimator, *args, **kwargs)\u001b[0m\n\u001b[1;32m   1466\u001b[0m     estimator\u001b[38;5;241m.\u001b[39m_validate_params()\n\u001b[1;32m   1468\u001b[0m \u001b[38;5;28;01mwith\u001b[39;00m config_context(\n\u001b[1;32m   1469\u001b[0m     skip_parameter_validation\u001b[38;5;241m=\u001b[39m(\n\u001b[1;32m   1470\u001b[0m         prefer_skip_nested_validation \u001b[38;5;129;01mor\u001b[39;00m global_skip_validation\n\u001b[1;32m   1471\u001b[0m     )\n\u001b[1;32m   1472\u001b[0m ):\n\u001b[0;32m-> 1473\u001b[0m     \u001b[38;5;28;01mreturn\u001b[39;00m fit_method(estimator, \u001b[38;5;241m*\u001b[39margs, \u001b[38;5;241m*\u001b[39m\u001b[38;5;241m*\u001b[39mkwargs)\n",
      "File \u001b[0;32m/opt/miniconda3/envs/RecSys/lib/python3.12/site-packages/sklearn/linear_model/_coordinate_descent.py:1077\u001b[0m, in \u001b[0;36mElasticNet.fit\u001b[0;34m(self, X, y, sample_weight, check_input)\u001b[0m\n\u001b[1;32m   1075\u001b[0m \u001b[38;5;28;01melse\u001b[39;00m:\n\u001b[1;32m   1076\u001b[0m     this_Xy \u001b[38;5;241m=\u001b[39m \u001b[38;5;28;01mNone\u001b[39;00m\n\u001b[0;32m-> 1077\u001b[0m _, this_coef, this_dual_gap, this_iter \u001b[38;5;241m=\u001b[39m \u001b[38;5;28mself\u001b[39m\u001b[38;5;241m.\u001b[39mpath(\n\u001b[1;32m   1078\u001b[0m     X,\n\u001b[1;32m   1079\u001b[0m     y[:, k],\n\u001b[1;32m   1080\u001b[0m     l1_ratio\u001b[38;5;241m=\u001b[39m\u001b[38;5;28mself\u001b[39m\u001b[38;5;241m.\u001b[39ml1_ratio,\n\u001b[1;32m   1081\u001b[0m     eps\u001b[38;5;241m=\u001b[39m\u001b[38;5;28;01mNone\u001b[39;00m,\n\u001b[1;32m   1082\u001b[0m     n_alphas\u001b[38;5;241m=\u001b[39m\u001b[38;5;28;01mNone\u001b[39;00m,\n\u001b[1;32m   1083\u001b[0m     alphas\u001b[38;5;241m=\u001b[39m[alpha],\n\u001b[1;32m   1084\u001b[0m     precompute\u001b[38;5;241m=\u001b[39mprecompute,\n\u001b[1;32m   1085\u001b[0m     Xy\u001b[38;5;241m=\u001b[39mthis_Xy,\n\u001b[1;32m   1086\u001b[0m     copy_X\u001b[38;5;241m=\u001b[39m\u001b[38;5;28;01mTrue\u001b[39;00m,\n\u001b[1;32m   1087\u001b[0m     coef_init\u001b[38;5;241m=\u001b[39mcoef_[k],\n\u001b[1;32m   1088\u001b[0m     verbose\u001b[38;5;241m=\u001b[39m\u001b[38;5;28;01mFalse\u001b[39;00m,\n\u001b[1;32m   1089\u001b[0m     return_n_iter\u001b[38;5;241m=\u001b[39m\u001b[38;5;28;01mTrue\u001b[39;00m,\n\u001b[1;32m   1090\u001b[0m     positive\u001b[38;5;241m=\u001b[39m\u001b[38;5;28mself\u001b[39m\u001b[38;5;241m.\u001b[39mpositive,\n\u001b[1;32m   1091\u001b[0m     check_input\u001b[38;5;241m=\u001b[39m\u001b[38;5;28;01mFalse\u001b[39;00m,\n\u001b[1;32m   1092\u001b[0m     \u001b[38;5;66;03m# from here on **params\u001b[39;00m\n\u001b[1;32m   1093\u001b[0m     tol\u001b[38;5;241m=\u001b[39m\u001b[38;5;28mself\u001b[39m\u001b[38;5;241m.\u001b[39mtol,\n\u001b[1;32m   1094\u001b[0m     X_offset\u001b[38;5;241m=\u001b[39mX_offset,\n\u001b[1;32m   1095\u001b[0m     X_scale\u001b[38;5;241m=\u001b[39mX_scale,\n\u001b[1;32m   1096\u001b[0m     max_iter\u001b[38;5;241m=\u001b[39m\u001b[38;5;28mself\u001b[39m\u001b[38;5;241m.\u001b[39mmax_iter,\n\u001b[1;32m   1097\u001b[0m     random_state\u001b[38;5;241m=\u001b[39m\u001b[38;5;28mself\u001b[39m\u001b[38;5;241m.\u001b[39mrandom_state,\n\u001b[1;32m   1098\u001b[0m     selection\u001b[38;5;241m=\u001b[39m\u001b[38;5;28mself\u001b[39m\u001b[38;5;241m.\u001b[39mselection,\n\u001b[1;32m   1099\u001b[0m     sample_weight\u001b[38;5;241m=\u001b[39msample_weight,\n\u001b[1;32m   1100\u001b[0m )\n\u001b[1;32m   1101\u001b[0m coef_[k] \u001b[38;5;241m=\u001b[39m this_coef[:, \u001b[38;5;241m0\u001b[39m]\n\u001b[1;32m   1102\u001b[0m dual_gaps_[k] \u001b[38;5;241m=\u001b[39m this_dual_gap[\u001b[38;5;241m0\u001b[39m]\n",
      "File \u001b[0;32m/opt/miniconda3/envs/RecSys/lib/python3.12/site-packages/sklearn/utils/_param_validation.py:186\u001b[0m, in \u001b[0;36mvalidate_params.<locals>.decorator.<locals>.wrapper\u001b[0;34m(*args, **kwargs)\u001b[0m\n\u001b[1;32m    184\u001b[0m global_skip_validation \u001b[38;5;241m=\u001b[39m get_config()[\u001b[38;5;124m\"\u001b[39m\u001b[38;5;124mskip_parameter_validation\u001b[39m\u001b[38;5;124m\"\u001b[39m]\n\u001b[1;32m    185\u001b[0m \u001b[38;5;28;01mif\u001b[39;00m global_skip_validation:\n\u001b[0;32m--> 186\u001b[0m     \u001b[38;5;28;01mreturn\u001b[39;00m func(\u001b[38;5;241m*\u001b[39margs, \u001b[38;5;241m*\u001b[39m\u001b[38;5;241m*\u001b[39mkwargs)\n\u001b[1;32m    188\u001b[0m func_sig \u001b[38;5;241m=\u001b[39m signature(func)\n\u001b[1;32m    190\u001b[0m \u001b[38;5;66;03m# Map *args/**kwargs to the function signature\u001b[39;00m\n",
      "File \u001b[0;32m/opt/miniconda3/envs/RecSys/lib/python3.12/site-packages/sklearn/linear_model/_coordinate_descent.py:658\u001b[0m, in \u001b[0;36menet_path\u001b[0;34m(X, y, l1_ratio, eps, n_alphas, alphas, precompute, Xy, copy_X, coef_init, verbose, return_n_iter, positive, check_input, **params)\u001b[0m\n\u001b[1;32m    656\u001b[0m l2_reg \u001b[38;5;241m=\u001b[39m alpha \u001b[38;5;241m*\u001b[39m (\u001b[38;5;241m1.0\u001b[39m \u001b[38;5;241m-\u001b[39m l1_ratio) \u001b[38;5;241m*\u001b[39m n_samples\n\u001b[1;32m    657\u001b[0m \u001b[38;5;28;01mif\u001b[39;00m \u001b[38;5;129;01mnot\u001b[39;00m multi_output \u001b[38;5;129;01mand\u001b[39;00m sparse\u001b[38;5;241m.\u001b[39missparse(X):\n\u001b[0;32m--> 658\u001b[0m     model \u001b[38;5;241m=\u001b[39m cd_fast\u001b[38;5;241m.\u001b[39msparse_enet_coordinate_descent(\n\u001b[1;32m    659\u001b[0m         w\u001b[38;5;241m=\u001b[39mcoef_,\n\u001b[1;32m    660\u001b[0m         alpha\u001b[38;5;241m=\u001b[39ml1_reg,\n\u001b[1;32m    661\u001b[0m         beta\u001b[38;5;241m=\u001b[39ml2_reg,\n\u001b[1;32m    662\u001b[0m         X_data\u001b[38;5;241m=\u001b[39mX\u001b[38;5;241m.\u001b[39mdata,\n\u001b[1;32m    663\u001b[0m         X_indices\u001b[38;5;241m=\u001b[39mX\u001b[38;5;241m.\u001b[39mindices,\n\u001b[1;32m    664\u001b[0m         X_indptr\u001b[38;5;241m=\u001b[39mX\u001b[38;5;241m.\u001b[39mindptr,\n\u001b[1;32m    665\u001b[0m         y\u001b[38;5;241m=\u001b[39my,\n\u001b[1;32m    666\u001b[0m         sample_weight\u001b[38;5;241m=\u001b[39msample_weight,\n\u001b[1;32m    667\u001b[0m         X_mean\u001b[38;5;241m=\u001b[39mX_sparse_scaling,\n\u001b[1;32m    668\u001b[0m         max_iter\u001b[38;5;241m=\u001b[39mmax_iter,\n\u001b[1;32m    669\u001b[0m         tol\u001b[38;5;241m=\u001b[39mtol,\n\u001b[1;32m    670\u001b[0m         rng\u001b[38;5;241m=\u001b[39mrng,\n\u001b[1;32m    671\u001b[0m         random\u001b[38;5;241m=\u001b[39mrandom,\n\u001b[1;32m    672\u001b[0m         positive\u001b[38;5;241m=\u001b[39mpositive,\n\u001b[1;32m    673\u001b[0m     )\n\u001b[1;32m    674\u001b[0m \u001b[38;5;28;01melif\u001b[39;00m multi_output:\n\u001b[1;32m    675\u001b[0m     model \u001b[38;5;241m=\u001b[39m cd_fast\u001b[38;5;241m.\u001b[39menet_coordinate_descent_multi_task(\n\u001b[1;32m    676\u001b[0m         coef_, l1_reg, l2_reg, X, y, max_iter, tol, rng, random\n\u001b[1;32m    677\u001b[0m     )\n",
      "\u001b[0;31mKeyboardInterrupt\u001b[0m: "
     ]
    }
   ],
   "source": [
    "study = op.create_study(direction=\"maximize\")\n",
    "save_results= SaveResults(\"result_experiments/SLIM/results_optuna_map.csv\")\n",
    "study.optimize(objective, callbacks=[save_results], n_trials=100)"
   ]
  },
  {
   "cell_type": "code",
   "execution_count": 26,
   "id": "7510269b-0ca6-4ab0-a044-001a56067c91",
   "metadata": {},
   "outputs": [
    {
     "data": {
      "text/html": [
       "<div>\n",
       "<style scoped>\n",
       "    .dataframe tbody tr th:only-of-type {\n",
       "        vertical-align: middle;\n",
       "    }\n",
       "\n",
       "    .dataframe tbody tr th {\n",
       "        vertical-align: top;\n",
       "    }\n",
       "\n",
       "    .dataframe thead th {\n",
       "        text-align: right;\n",
       "    }\n",
       "</style>\n",
       "<table border=\"1\" class=\"dataframe\">\n",
       "  <thead>\n",
       "    <tr style=\"text-align: right;\">\n",
       "      <th></th>\n",
       "      <th>topK</th>\n",
       "      <th>l1_ratio</th>\n",
       "      <th>alpha</th>\n",
       "      <th>result</th>\n",
       "    </tr>\n",
       "  </thead>\n",
       "  <tbody>\n",
       "    <tr>\n",
       "      <th>0</th>\n",
       "      <td>720.0</td>\n",
       "      <td>0.343464</td>\n",
       "      <td>0.768518</td>\n",
       "      <td>0.000265</td>\n",
       "    </tr>\n",
       "    <tr>\n",
       "      <th>1</th>\n",
       "      <td>145.0</td>\n",
       "      <td>0.930758</td>\n",
       "      <td>0.587530</td>\n",
       "      <td>0.000265</td>\n",
       "    </tr>\n",
       "    <tr>\n",
       "      <th>2</th>\n",
       "      <td>386.0</td>\n",
       "      <td>0.106288</td>\n",
       "      <td>0.872912</td>\n",
       "      <td>0.000265</td>\n",
       "    </tr>\n",
       "    <tr>\n",
       "      <th>3</th>\n",
       "      <td>26.0</td>\n",
       "      <td>0.543890</td>\n",
       "      <td>0.859017</td>\n",
       "      <td>0.000265</td>\n",
       "    </tr>\n",
       "  </tbody>\n",
       "</table>\n",
       "</div>"
      ],
      "text/plain": [
       "    topK  l1_ratio     alpha    result\n",
       "0  720.0  0.343464  0.768518  0.000265\n",
       "1  145.0  0.930758  0.587530  0.000265\n",
       "2  386.0  0.106288  0.872912  0.000265\n",
       "3   26.0  0.543890  0.859017  0.000265"
      ]
     },
     "execution_count": 26,
     "metadata": {},
     "output_type": "execute_result"
    }
   ],
   "source": []
  },
  {
   "cell_type": "code",
   "execution_count": 3,
   "id": "d1483cef-5a38-4727-b0d3-5960bfdc41e1",
   "metadata": {},
   "outputs": [],
   "source": [
    "old_results = pd.read_csv(\"result_experiments/SLIM/results.csv\")"
   ]
  },
  {
   "cell_type": "code",
   "execution_count": 5,
   "id": "7e13c49f-6102-4445-85c8-31c9388d48d7",
   "metadata": {},
   "outputs": [
    {
     "data": {
      "text/html": [
       "<div>\n",
       "<style scoped>\n",
       "    .dataframe tbody tr th:only-of-type {\n",
       "        vertical-align: middle;\n",
       "    }\n",
       "\n",
       "    .dataframe tbody tr th {\n",
       "        vertical-align: top;\n",
       "    }\n",
       "\n",
       "    .dataframe thead th {\n",
       "        text-align: right;\n",
       "    }\n",
       "</style>\n",
       "<table border=\"1\" class=\"dataframe\">\n",
       "  <thead>\n",
       "    <tr style=\"text-align: right;\">\n",
       "      <th></th>\n",
       "      <th>topK</th>\n",
       "      <th>l1_ratio</th>\n",
       "      <th>alpha</th>\n",
       "      <th>time</th>\n",
       "      <th>cutoff</th>\n",
       "      <th>PRECISION</th>\n",
       "      <th>PRECISION_RECALL_MIN_DEN</th>\n",
       "      <th>RECALL</th>\n",
       "      <th>MAP</th>\n",
       "      <th>MAP_MIN_DEN</th>\n",
       "      <th>...</th>\n",
       "      <th>COVERAGE_USER</th>\n",
       "      <th>COVERAGE_USER_HIT</th>\n",
       "      <th>USERS_IN_GT</th>\n",
       "      <th>DIVERSITY_GINI</th>\n",
       "      <th>SHANNON_ENTROPY</th>\n",
       "      <th>RATIO_DIVERSITY_HERFINDAHL</th>\n",
       "      <th>RATIO_DIVERSITY_GINI</th>\n",
       "      <th>RATIO_SHANNON_ENTROPY</th>\n",
       "      <th>RATIO_AVERAGE_POPULARITY</th>\n",
       "      <th>RATIO_NOVELTY</th>\n",
       "    </tr>\n",
       "  </thead>\n",
       "  <tbody>\n",
       "    <tr>\n",
       "      <th>19</th>\n",
       "      <td>300</td>\n",
       "      <td>0.11800</td>\n",
       "      <td>0.00026</td>\n",
       "      <td>2024-11-30 07:54:47</td>\n",
       "      <td>10</td>\n",
       "      <td>0.111556</td>\n",
       "      <td>0.166356</td>\n",
       "      <td>0.141104</td>\n",
       "      <td>0.060479</td>\n",
       "      <td>0.087965</td>\n",
       "      <td>...</td>\n",
       "      <td>0.994991</td>\n",
       "      <td>0.569622</td>\n",
       "      <td>0.994991</td>\n",
       "      <td>0.240193</td>\n",
       "      <td>13.452813</td>\n",
       "      <td>0.999874</td>\n",
       "      <td>0.395067</td>\n",
       "      <td>0.911396</td>\n",
       "      <td>1.359627</td>\n",
       "      <td>0.243844</td>\n",
       "    </tr>\n",
       "    <tr>\n",
       "      <th>63</th>\n",
       "      <td>330</td>\n",
       "      <td>0.11100</td>\n",
       "      <td>0.00026</td>\n",
       "      <td>2024-12-01 06:51:24</td>\n",
       "      <td>10</td>\n",
       "      <td>0.111536</td>\n",
       "      <td>0.166336</td>\n",
       "      <td>0.141116</td>\n",
       "      <td>0.060466</td>\n",
       "      <td>0.087930</td>\n",
       "      <td>...</td>\n",
       "      <td>0.994991</td>\n",
       "      <td>0.569398</td>\n",
       "      <td>0.994991</td>\n",
       "      <td>0.240864</td>\n",
       "      <td>13.455295</td>\n",
       "      <td>0.999873</td>\n",
       "      <td>0.396171</td>\n",
       "      <td>0.911564</td>\n",
       "      <td>1.363084</td>\n",
       "      <td>0.243832</td>\n",
       "    </tr>\n",
       "    <tr>\n",
       "      <th>55</th>\n",
       "      <td>320</td>\n",
       "      <td>0.11625</td>\n",
       "      <td>0.00026</td>\n",
       "      <td>2024-12-01 04:02:42</td>\n",
       "      <td>10</td>\n",
       "      <td>0.111522</td>\n",
       "      <td>0.166355</td>\n",
       "      <td>0.141133</td>\n",
       "      <td>0.060464</td>\n",
       "      <td>0.087947</td>\n",
       "      <td>...</td>\n",
       "      <td>0.994991</td>\n",
       "      <td>0.569510</td>\n",
       "      <td>0.994991</td>\n",
       "      <td>0.240054</td>\n",
       "      <td>13.450461</td>\n",
       "      <td>0.999873</td>\n",
       "      <td>0.394839</td>\n",
       "      <td>0.911236</td>\n",
       "      <td>1.364541</td>\n",
       "      <td>0.243797</td>\n",
       "    </tr>\n",
       "    <tr>\n",
       "      <th>39</th>\n",
       "      <td>310</td>\n",
       "      <td>0.11800</td>\n",
       "      <td>0.00026</td>\n",
       "      <td>2024-11-30 22:22:20</td>\n",
       "      <td>10</td>\n",
       "      <td>0.111508</td>\n",
       "      <td>0.166290</td>\n",
       "      <td>0.141070</td>\n",
       "      <td>0.060463</td>\n",
       "      <td>0.087942</td>\n",
       "      <td>...</td>\n",
       "      <td>0.994991</td>\n",
       "      <td>0.569538</td>\n",
       "      <td>0.994991</td>\n",
       "      <td>0.239982</td>\n",
       "      <td>13.450652</td>\n",
       "      <td>0.999873</td>\n",
       "      <td>0.394719</td>\n",
       "      <td>0.911249</td>\n",
       "      <td>1.362562</td>\n",
       "      <td>0.243814</td>\n",
       "    </tr>\n",
       "    <tr>\n",
       "      <th>43</th>\n",
       "      <td>320</td>\n",
       "      <td>0.11100</td>\n",
       "      <td>0.00026</td>\n",
       "      <td>2024-11-30 23:49:08</td>\n",
       "      <td>10</td>\n",
       "      <td>0.111528</td>\n",
       "      <td>0.166322</td>\n",
       "      <td>0.141103</td>\n",
       "      <td>0.060460</td>\n",
       "      <td>0.087929</td>\n",
       "      <td>...</td>\n",
       "      <td>0.994991</td>\n",
       "      <td>0.569398</td>\n",
       "      <td>0.994991</td>\n",
       "      <td>0.241075</td>\n",
       "      <td>13.457495</td>\n",
       "      <td>0.999874</td>\n",
       "      <td>0.396518</td>\n",
       "      <td>0.911713</td>\n",
       "      <td>1.359875</td>\n",
       "      <td>0.243864</td>\n",
       "    </tr>\n",
       "    <tr>\n",
       "      <th>...</th>\n",
       "      <td>...</td>\n",
       "      <td>...</td>\n",
       "      <td>...</td>\n",
       "      <td>...</td>\n",
       "      <td>...</td>\n",
       "      <td>...</td>\n",
       "      <td>...</td>\n",
       "      <td>...</td>\n",
       "      <td>...</td>\n",
       "      <td>...</td>\n",
       "      <td>...</td>\n",
       "      <td>...</td>\n",
       "      <td>...</td>\n",
       "      <td>...</td>\n",
       "      <td>...</td>\n",
       "      <td>...</td>\n",
       "      <td>...</td>\n",
       "      <td>...</td>\n",
       "      <td>...</td>\n",
       "      <td>...</td>\n",
       "      <td>...</td>\n",
       "    </tr>\n",
       "    <tr>\n",
       "      <th>100</th>\n",
       "      <td>350</td>\n",
       "      <td>0.11100</td>\n",
       "      <td>0.00020</td>\n",
       "      <td>2024-12-02 03:04:27</td>\n",
       "      <td>10</td>\n",
       "      <td>0.111157</td>\n",
       "      <td>0.165720</td>\n",
       "      <td>0.140639</td>\n",
       "      <td>0.060305</td>\n",
       "      <td>0.087739</td>\n",
       "      <td>...</td>\n",
       "      <td>0.994991</td>\n",
       "      <td>0.568278</td>\n",
       "      <td>0.994991</td>\n",
       "      <td>0.253919</td>\n",
       "      <td>13.534857</td>\n",
       "      <td>0.999886</td>\n",
       "      <td>0.417643</td>\n",
       "      <td>0.916954</td>\n",
       "      <td>1.326083</td>\n",
       "      <td>0.244530</td>\n",
       "    </tr>\n",
       "    <tr>\n",
       "      <th>20</th>\n",
       "      <td>310</td>\n",
       "      <td>0.11100</td>\n",
       "      <td>0.00020</td>\n",
       "      <td>2024-11-30 08:15:55</td>\n",
       "      <td>10</td>\n",
       "      <td>0.111084</td>\n",
       "      <td>0.165681</td>\n",
       "      <td>0.140623</td>\n",
       "      <td>0.060299</td>\n",
       "      <td>0.087732</td>\n",
       "      <td>...</td>\n",
       "      <td>0.994991</td>\n",
       "      <td>0.568027</td>\n",
       "      <td>0.994991</td>\n",
       "      <td>0.255103</td>\n",
       "      <td>13.545145</td>\n",
       "      <td>0.999889</td>\n",
       "      <td>0.419591</td>\n",
       "      <td>0.917651</td>\n",
       "      <td>1.312987</td>\n",
       "      <td>0.244680</td>\n",
       "    </tr>\n",
       "    <tr>\n",
       "      <th>60</th>\n",
       "      <td>330</td>\n",
       "      <td>0.11100</td>\n",
       "      <td>0.00020</td>\n",
       "      <td>2024-12-01 05:48:24</td>\n",
       "      <td>10</td>\n",
       "      <td>0.111120</td>\n",
       "      <td>0.165680</td>\n",
       "      <td>0.140613</td>\n",
       "      <td>0.060298</td>\n",
       "      <td>0.087725</td>\n",
       "      <td>...</td>\n",
       "      <td>0.994991</td>\n",
       "      <td>0.568167</td>\n",
       "      <td>0.994991</td>\n",
       "      <td>0.254458</td>\n",
       "      <td>13.539355</td>\n",
       "      <td>0.999887</td>\n",
       "      <td>0.418530</td>\n",
       "      <td>0.917259</td>\n",
       "      <td>1.320494</td>\n",
       "      <td>0.244595</td>\n",
       "    </tr>\n",
       "    <tr>\n",
       "      <th>40</th>\n",
       "      <td>320</td>\n",
       "      <td>0.11100</td>\n",
       "      <td>0.00020</td>\n",
       "      <td>2024-11-30 22:44:29</td>\n",
       "      <td>10</td>\n",
       "      <td>0.111103</td>\n",
       "      <td>0.165689</td>\n",
       "      <td>0.140637</td>\n",
       "      <td>0.060292</td>\n",
       "      <td>0.087724</td>\n",
       "      <td>...</td>\n",
       "      <td>0.994991</td>\n",
       "      <td>0.568223</td>\n",
       "      <td>0.994991</td>\n",
       "      <td>0.254819</td>\n",
       "      <td>13.542520</td>\n",
       "      <td>0.999888</td>\n",
       "      <td>0.419124</td>\n",
       "      <td>0.917473</td>\n",
       "      <td>1.316684</td>\n",
       "      <td>0.244639</td>\n",
       "    </tr>\n",
       "    <tr>\n",
       "      <th>0</th>\n",
       "      <td>300</td>\n",
       "      <td>0.11100</td>\n",
       "      <td>0.00020</td>\n",
       "      <td>2024-11-30 01:14:18</td>\n",
       "      <td>10</td>\n",
       "      <td>0.111081</td>\n",
       "      <td>0.165700</td>\n",
       "      <td>0.140646</td>\n",
       "      <td>0.060276</td>\n",
       "      <td>0.087713</td>\n",
       "      <td>...</td>\n",
       "      <td>0.994991</td>\n",
       "      <td>0.567971</td>\n",
       "      <td>0.994991</td>\n",
       "      <td>0.255474</td>\n",
       "      <td>13.548310</td>\n",
       "      <td>0.999890</td>\n",
       "      <td>0.420202</td>\n",
       "      <td>0.917865</td>\n",
       "      <td>1.308909</td>\n",
       "      <td>0.244727</td>\n",
       "    </tr>\n",
       "  </tbody>\n",
       "</table>\n",
       "<p>143 rows × 32 columns</p>\n",
       "</div>"
      ],
      "text/plain": [
       "     topK  l1_ratio    alpha                 time  cutoff  PRECISION  \\\n",
       "19    300   0.11800  0.00026  2024-11-30 07:54:47      10   0.111556   \n",
       "63    330   0.11100  0.00026  2024-12-01 06:51:24      10   0.111536   \n",
       "55    320   0.11625  0.00026  2024-12-01 04:02:42      10   0.111522   \n",
       "39    310   0.11800  0.00026  2024-11-30 22:22:20      10   0.111508   \n",
       "43    320   0.11100  0.00026  2024-11-30 23:49:08      10   0.111528   \n",
       "..    ...       ...      ...                  ...     ...        ...   \n",
       "100   350   0.11100  0.00020  2024-12-02 03:04:27      10   0.111157   \n",
       "20    310   0.11100  0.00020  2024-11-30 08:15:55      10   0.111084   \n",
       "60    330   0.11100  0.00020  2024-12-01 05:48:24      10   0.111120   \n",
       "40    320   0.11100  0.00020  2024-11-30 22:44:29      10   0.111103   \n",
       "0     300   0.11100  0.00020  2024-11-30 01:14:18      10   0.111081   \n",
       "\n",
       "     PRECISION_RECALL_MIN_DEN    RECALL       MAP  MAP_MIN_DEN  ...  \\\n",
       "19                   0.166356  0.141104  0.060479     0.087965  ...   \n",
       "63                   0.166336  0.141116  0.060466     0.087930  ...   \n",
       "55                   0.166355  0.141133  0.060464     0.087947  ...   \n",
       "39                   0.166290  0.141070  0.060463     0.087942  ...   \n",
       "43                   0.166322  0.141103  0.060460     0.087929  ...   \n",
       "..                        ...       ...       ...          ...  ...   \n",
       "100                  0.165720  0.140639  0.060305     0.087739  ...   \n",
       "20                   0.165681  0.140623  0.060299     0.087732  ...   \n",
       "60                   0.165680  0.140613  0.060298     0.087725  ...   \n",
       "40                   0.165689  0.140637  0.060292     0.087724  ...   \n",
       "0                    0.165700  0.140646  0.060276     0.087713  ...   \n",
       "\n",
       "     COVERAGE_USER  COVERAGE_USER_HIT  USERS_IN_GT  DIVERSITY_GINI  \\\n",
       "19        0.994991           0.569622     0.994991        0.240193   \n",
       "63        0.994991           0.569398     0.994991        0.240864   \n",
       "55        0.994991           0.569510     0.994991        0.240054   \n",
       "39        0.994991           0.569538     0.994991        0.239982   \n",
       "43        0.994991           0.569398     0.994991        0.241075   \n",
       "..             ...                ...          ...             ...   \n",
       "100       0.994991           0.568278     0.994991        0.253919   \n",
       "20        0.994991           0.568027     0.994991        0.255103   \n",
       "60        0.994991           0.568167     0.994991        0.254458   \n",
       "40        0.994991           0.568223     0.994991        0.254819   \n",
       "0         0.994991           0.567971     0.994991        0.255474   \n",
       "\n",
       "     SHANNON_ENTROPY  RATIO_DIVERSITY_HERFINDAHL  RATIO_DIVERSITY_GINI  \\\n",
       "19         13.452813                    0.999874              0.395067   \n",
       "63         13.455295                    0.999873              0.396171   \n",
       "55         13.450461                    0.999873              0.394839   \n",
       "39         13.450652                    0.999873              0.394719   \n",
       "43         13.457495                    0.999874              0.396518   \n",
       "..               ...                         ...                   ...   \n",
       "100        13.534857                    0.999886              0.417643   \n",
       "20         13.545145                    0.999889              0.419591   \n",
       "60         13.539355                    0.999887              0.418530   \n",
       "40         13.542520                    0.999888              0.419124   \n",
       "0          13.548310                    0.999890              0.420202   \n",
       "\n",
       "     RATIO_SHANNON_ENTROPY  RATIO_AVERAGE_POPULARITY  RATIO_NOVELTY  \n",
       "19                0.911396                  1.359627       0.243844  \n",
       "63                0.911564                  1.363084       0.243832  \n",
       "55                0.911236                  1.364541       0.243797  \n",
       "39                0.911249                  1.362562       0.243814  \n",
       "43                0.911713                  1.359875       0.243864  \n",
       "..                     ...                       ...            ...  \n",
       "100               0.916954                  1.326083       0.244530  \n",
       "20                0.917651                  1.312987       0.244680  \n",
       "60                0.917259                  1.320494       0.244595  \n",
       "40                0.917473                  1.316684       0.244639  \n",
       "0                 0.917865                  1.308909       0.244727  \n",
       "\n",
       "[143 rows x 32 columns]"
      ]
     },
     "execution_count": 5,
     "metadata": {},
     "output_type": "execute_result"
    }
   ],
   "source": [
    "old_results.sort_values(by=['MAP'], ascending=False)"
   ]
  },
  {
   "cell_type": "code",
   "execution_count": 7,
   "id": "cfdfa209-908e-4193-9d27-ca08c0384719",
   "metadata": {},
   "outputs": [
    {
     "data": {
      "text/html": [
       "<div>\n",
       "<style scoped>\n",
       "    .dataframe tbody tr th:only-of-type {\n",
       "        vertical-align: middle;\n",
       "    }\n",
       "\n",
       "    .dataframe tbody tr th {\n",
       "        vertical-align: top;\n",
       "    }\n",
       "\n",
       "    .dataframe thead th {\n",
       "        text-align: right;\n",
       "    }\n",
       "</style>\n",
       "<table border=\"1\" class=\"dataframe\">\n",
       "  <thead>\n",
       "    <tr style=\"text-align: right;\">\n",
       "      <th></th>\n",
       "      <th>topK</th>\n",
       "      <th>l1_ratio</th>\n",
       "      <th>alpha</th>\n",
       "      <th>time</th>\n",
       "      <th>cutoff</th>\n",
       "      <th>PRECISION</th>\n",
       "      <th>PRECISION_RECALL_MIN_DEN</th>\n",
       "      <th>RECALL</th>\n",
       "      <th>MAP</th>\n",
       "      <th>MAP_MIN_DEN</th>\n",
       "      <th>...</th>\n",
       "      <th>COVERAGE_USER</th>\n",
       "      <th>COVERAGE_USER_HIT</th>\n",
       "      <th>USERS_IN_GT</th>\n",
       "      <th>DIVERSITY_GINI</th>\n",
       "      <th>SHANNON_ENTROPY</th>\n",
       "      <th>RATIO_DIVERSITY_HERFINDAHL</th>\n",
       "      <th>RATIO_DIVERSITY_GINI</th>\n",
       "      <th>RATIO_SHANNON_ENTROPY</th>\n",
       "      <th>RATIO_AVERAGE_POPULARITY</th>\n",
       "      <th>RATIO_NOVELTY</th>\n",
       "    </tr>\n",
       "  </thead>\n",
       "  <tbody>\n",
       "    <tr>\n",
       "      <th>75</th>\n",
       "      <td>330</td>\n",
       "      <td>0.11625</td>\n",
       "      <td>0.00026</td>\n",
       "      <td>2024-12-01 11:03:56</td>\n",
       "      <td>10</td>\n",
       "      <td>0.111503</td>\n",
       "      <td>0.166348</td>\n",
       "      <td>0.141143</td>\n",
       "      <td>0.060451</td>\n",
       "      <td>0.087932</td>\n",
       "      <td>...</td>\n",
       "      <td>0.994991</td>\n",
       "      <td>0.569510</td>\n",
       "      <td>0.994991</td>\n",
       "      <td>0.239853</td>\n",
       "      <td>13.448351</td>\n",
       "      <td>0.999872</td>\n",
       "      <td>0.394507</td>\n",
       "      <td>0.911093</td>\n",
       "      <td>1.367301</td>\n",
       "      <td>0.243768</td>\n",
       "    </tr>\n",
       "    <tr>\n",
       "      <th>55</th>\n",
       "      <td>320</td>\n",
       "      <td>0.11625</td>\n",
       "      <td>0.00026</td>\n",
       "      <td>2024-12-01 04:02:42</td>\n",
       "      <td>10</td>\n",
       "      <td>0.111522</td>\n",
       "      <td>0.166355</td>\n",
       "      <td>0.141133</td>\n",
       "      <td>0.060464</td>\n",
       "      <td>0.087947</td>\n",
       "      <td>...</td>\n",
       "      <td>0.994991</td>\n",
       "      <td>0.569510</td>\n",
       "      <td>0.994991</td>\n",
       "      <td>0.240054</td>\n",
       "      <td>13.450461</td>\n",
       "      <td>0.999873</td>\n",
       "      <td>0.394839</td>\n",
       "      <td>0.911236</td>\n",
       "      <td>1.364541</td>\n",
       "      <td>0.243797</td>\n",
       "    </tr>\n",
       "    <tr>\n",
       "      <th>103</th>\n",
       "      <td>350</td>\n",
       "      <td>0.11100</td>\n",
       "      <td>0.00026</td>\n",
       "      <td>2024-12-02 04:07:47</td>\n",
       "      <td>10</td>\n",
       "      <td>0.111497</td>\n",
       "      <td>0.166318</td>\n",
       "      <td>0.141127</td>\n",
       "      <td>0.060441</td>\n",
       "      <td>0.087900</td>\n",
       "      <td>...</td>\n",
       "      <td>0.994991</td>\n",
       "      <td>0.569314</td>\n",
       "      <td>0.994991</td>\n",
       "      <td>0.240487</td>\n",
       "      <td>13.451387</td>\n",
       "      <td>0.999872</td>\n",
       "      <td>0.395552</td>\n",
       "      <td>0.911299</td>\n",
       "      <td>1.368347</td>\n",
       "      <td>0.243777</td>\n",
       "    </tr>\n",
       "    <tr>\n",
       "      <th>63</th>\n",
       "      <td>330</td>\n",
       "      <td>0.11100</td>\n",
       "      <td>0.00026</td>\n",
       "      <td>2024-12-01 06:51:24</td>\n",
       "      <td>10</td>\n",
       "      <td>0.111536</td>\n",
       "      <td>0.166336</td>\n",
       "      <td>0.141116</td>\n",
       "      <td>0.060466</td>\n",
       "      <td>0.087930</td>\n",
       "      <td>...</td>\n",
       "      <td>0.994991</td>\n",
       "      <td>0.569398</td>\n",
       "      <td>0.994991</td>\n",
       "      <td>0.240864</td>\n",
       "      <td>13.455295</td>\n",
       "      <td>0.999873</td>\n",
       "      <td>0.396171</td>\n",
       "      <td>0.911564</td>\n",
       "      <td>1.363084</td>\n",
       "      <td>0.243832</td>\n",
       "    </tr>\n",
       "    <tr>\n",
       "      <th>79</th>\n",
       "      <td>330</td>\n",
       "      <td>0.11800</td>\n",
       "      <td>0.00026</td>\n",
       "      <td>2024-12-01 13:17:13</td>\n",
       "      <td>10</td>\n",
       "      <td>0.111480</td>\n",
       "      <td>0.166309</td>\n",
       "      <td>0.141116</td>\n",
       "      <td>0.060447</td>\n",
       "      <td>0.087918</td>\n",
       "      <td>...</td>\n",
       "      <td>0.994991</td>\n",
       "      <td>0.569482</td>\n",
       "      <td>0.994991</td>\n",
       "      <td>0.239611</td>\n",
       "      <td>13.446661</td>\n",
       "      <td>0.999872</td>\n",
       "      <td>0.394110</td>\n",
       "      <td>0.910979</td>\n",
       "      <td>1.368187</td>\n",
       "      <td>0.243756</td>\n",
       "    </tr>\n",
       "    <tr>\n",
       "      <th>...</th>\n",
       "      <td>...</td>\n",
       "      <td>...</td>\n",
       "      <td>...</td>\n",
       "      <td>...</td>\n",
       "      <td>...</td>\n",
       "      <td>...</td>\n",
       "      <td>...</td>\n",
       "      <td>...</td>\n",
       "      <td>...</td>\n",
       "      <td>...</td>\n",
       "      <td>...</td>\n",
       "      <td>...</td>\n",
       "      <td>...</td>\n",
       "      <td>...</td>\n",
       "      <td>...</td>\n",
       "      <td>...</td>\n",
       "      <td>...</td>\n",
       "      <td>...</td>\n",
       "      <td>...</td>\n",
       "      <td>...</td>\n",
       "      <td>...</td>\n",
       "    </tr>\n",
       "    <tr>\n",
       "      <th>40</th>\n",
       "      <td>320</td>\n",
       "      <td>0.11100</td>\n",
       "      <td>0.00020</td>\n",
       "      <td>2024-11-30 22:44:29</td>\n",
       "      <td>10</td>\n",
       "      <td>0.111103</td>\n",
       "      <td>0.165689</td>\n",
       "      <td>0.140637</td>\n",
       "      <td>0.060292</td>\n",
       "      <td>0.087724</td>\n",
       "      <td>...</td>\n",
       "      <td>0.994991</td>\n",
       "      <td>0.568223</td>\n",
       "      <td>0.994991</td>\n",
       "      <td>0.254819</td>\n",
       "      <td>13.542520</td>\n",
       "      <td>0.999888</td>\n",
       "      <td>0.419124</td>\n",
       "      <td>0.917473</td>\n",
       "      <td>1.316684</td>\n",
       "      <td>0.244639</td>\n",
       "    </tr>\n",
       "    <tr>\n",
       "      <th>80</th>\n",
       "      <td>340</td>\n",
       "      <td>0.11100</td>\n",
       "      <td>0.00020</td>\n",
       "      <td>2024-12-01 13:39:54</td>\n",
       "      <td>10</td>\n",
       "      <td>0.111162</td>\n",
       "      <td>0.165720</td>\n",
       "      <td>0.140635</td>\n",
       "      <td>0.060310</td>\n",
       "      <td>0.087736</td>\n",
       "      <td>...</td>\n",
       "      <td>0.994991</td>\n",
       "      <td>0.568306</td>\n",
       "      <td>0.994991</td>\n",
       "      <td>0.254164</td>\n",
       "      <td>13.537005</td>\n",
       "      <td>0.999887</td>\n",
       "      <td>0.418047</td>\n",
       "      <td>0.917100</td>\n",
       "      <td>1.323202</td>\n",
       "      <td>0.244562</td>\n",
       "    </tr>\n",
       "    <tr>\n",
       "      <th>140</th>\n",
       "      <td>370</td>\n",
       "      <td>0.11100</td>\n",
       "      <td>0.00020</td>\n",
       "      <td>2024-12-03 10:19:45</td>\n",
       "      <td>10</td>\n",
       "      <td>0.111148</td>\n",
       "      <td>0.165709</td>\n",
       "      <td>0.140625</td>\n",
       "      <td>0.060311</td>\n",
       "      <td>0.087738</td>\n",
       "      <td>...</td>\n",
       "      <td>0.994991</td>\n",
       "      <td>0.568278</td>\n",
       "      <td>0.994991</td>\n",
       "      <td>0.253398</td>\n",
       "      <td>13.529806</td>\n",
       "      <td>0.999884</td>\n",
       "      <td>0.416786</td>\n",
       "      <td>0.916612</td>\n",
       "      <td>1.333071</td>\n",
       "      <td>0.244459</td>\n",
       "    </tr>\n",
       "    <tr>\n",
       "      <th>20</th>\n",
       "      <td>310</td>\n",
       "      <td>0.11100</td>\n",
       "      <td>0.00020</td>\n",
       "      <td>2024-11-30 08:15:55</td>\n",
       "      <td>10</td>\n",
       "      <td>0.111084</td>\n",
       "      <td>0.165681</td>\n",
       "      <td>0.140623</td>\n",
       "      <td>0.060299</td>\n",
       "      <td>0.087732</td>\n",
       "      <td>...</td>\n",
       "      <td>0.994991</td>\n",
       "      <td>0.568027</td>\n",
       "      <td>0.994991</td>\n",
       "      <td>0.255103</td>\n",
       "      <td>13.545145</td>\n",
       "      <td>0.999889</td>\n",
       "      <td>0.419591</td>\n",
       "      <td>0.917651</td>\n",
       "      <td>1.312987</td>\n",
       "      <td>0.244680</td>\n",
       "    </tr>\n",
       "    <tr>\n",
       "      <th>60</th>\n",
       "      <td>330</td>\n",
       "      <td>0.11100</td>\n",
       "      <td>0.00020</td>\n",
       "      <td>2024-12-01 05:48:24</td>\n",
       "      <td>10</td>\n",
       "      <td>0.111120</td>\n",
       "      <td>0.165680</td>\n",
       "      <td>0.140613</td>\n",
       "      <td>0.060298</td>\n",
       "      <td>0.087725</td>\n",
       "      <td>...</td>\n",
       "      <td>0.994991</td>\n",
       "      <td>0.568167</td>\n",
       "      <td>0.994991</td>\n",
       "      <td>0.254458</td>\n",
       "      <td>13.539355</td>\n",
       "      <td>0.999887</td>\n",
       "      <td>0.418530</td>\n",
       "      <td>0.917259</td>\n",
       "      <td>1.320494</td>\n",
       "      <td>0.244595</td>\n",
       "    </tr>\n",
       "  </tbody>\n",
       "</table>\n",
       "<p>143 rows × 32 columns</p>\n",
       "</div>"
      ],
      "text/plain": [
       "     topK  l1_ratio    alpha                 time  cutoff  PRECISION  \\\n",
       "75    330   0.11625  0.00026  2024-12-01 11:03:56      10   0.111503   \n",
       "55    320   0.11625  0.00026  2024-12-01 04:02:42      10   0.111522   \n",
       "103   350   0.11100  0.00026  2024-12-02 04:07:47      10   0.111497   \n",
       "63    330   0.11100  0.00026  2024-12-01 06:51:24      10   0.111536   \n",
       "79    330   0.11800  0.00026  2024-12-01 13:17:13      10   0.111480   \n",
       "..    ...       ...      ...                  ...     ...        ...   \n",
       "40    320   0.11100  0.00020  2024-11-30 22:44:29      10   0.111103   \n",
       "80    340   0.11100  0.00020  2024-12-01 13:39:54      10   0.111162   \n",
       "140   370   0.11100  0.00020  2024-12-03 10:19:45      10   0.111148   \n",
       "20    310   0.11100  0.00020  2024-11-30 08:15:55      10   0.111084   \n",
       "60    330   0.11100  0.00020  2024-12-01 05:48:24      10   0.111120   \n",
       "\n",
       "     PRECISION_RECALL_MIN_DEN    RECALL       MAP  MAP_MIN_DEN  ...  \\\n",
       "75                   0.166348  0.141143  0.060451     0.087932  ...   \n",
       "55                   0.166355  0.141133  0.060464     0.087947  ...   \n",
       "103                  0.166318  0.141127  0.060441     0.087900  ...   \n",
       "63                   0.166336  0.141116  0.060466     0.087930  ...   \n",
       "79                   0.166309  0.141116  0.060447     0.087918  ...   \n",
       "..                        ...       ...       ...          ...  ...   \n",
       "40                   0.165689  0.140637  0.060292     0.087724  ...   \n",
       "80                   0.165720  0.140635  0.060310     0.087736  ...   \n",
       "140                  0.165709  0.140625  0.060311     0.087738  ...   \n",
       "20                   0.165681  0.140623  0.060299     0.087732  ...   \n",
       "60                   0.165680  0.140613  0.060298     0.087725  ...   \n",
       "\n",
       "     COVERAGE_USER  COVERAGE_USER_HIT  USERS_IN_GT  DIVERSITY_GINI  \\\n",
       "75        0.994991           0.569510     0.994991        0.239853   \n",
       "55        0.994991           0.569510     0.994991        0.240054   \n",
       "103       0.994991           0.569314     0.994991        0.240487   \n",
       "63        0.994991           0.569398     0.994991        0.240864   \n",
       "79        0.994991           0.569482     0.994991        0.239611   \n",
       "..             ...                ...          ...             ...   \n",
       "40        0.994991           0.568223     0.994991        0.254819   \n",
       "80        0.994991           0.568306     0.994991        0.254164   \n",
       "140       0.994991           0.568278     0.994991        0.253398   \n",
       "20        0.994991           0.568027     0.994991        0.255103   \n",
       "60        0.994991           0.568167     0.994991        0.254458   \n",
       "\n",
       "     SHANNON_ENTROPY  RATIO_DIVERSITY_HERFINDAHL  RATIO_DIVERSITY_GINI  \\\n",
       "75         13.448351                    0.999872              0.394507   \n",
       "55         13.450461                    0.999873              0.394839   \n",
       "103        13.451387                    0.999872              0.395552   \n",
       "63         13.455295                    0.999873              0.396171   \n",
       "79         13.446661                    0.999872              0.394110   \n",
       "..               ...                         ...                   ...   \n",
       "40         13.542520                    0.999888              0.419124   \n",
       "80         13.537005                    0.999887              0.418047   \n",
       "140        13.529806                    0.999884              0.416786   \n",
       "20         13.545145                    0.999889              0.419591   \n",
       "60         13.539355                    0.999887              0.418530   \n",
       "\n",
       "     RATIO_SHANNON_ENTROPY  RATIO_AVERAGE_POPULARITY  RATIO_NOVELTY  \n",
       "75                0.911093                  1.367301       0.243768  \n",
       "55                0.911236                  1.364541       0.243797  \n",
       "103               0.911299                  1.368347       0.243777  \n",
       "63                0.911564                  1.363084       0.243832  \n",
       "79                0.910979                  1.368187       0.243756  \n",
       "..                     ...                       ...            ...  \n",
       "40                0.917473                  1.316684       0.244639  \n",
       "80                0.917100                  1.323202       0.244562  \n",
       "140               0.916612                  1.333071       0.244459  \n",
       "20                0.917651                  1.312987       0.244680  \n",
       "60                0.917259                  1.320494       0.244595  \n",
       "\n",
       "[143 rows x 32 columns]"
      ]
     },
     "execution_count": 7,
     "metadata": {},
     "output_type": "execute_result"
    }
   ],
   "source": [
    "old_results.sort_values(by=['RECALL'], ascending=False)"
   ]
  },
  {
   "cell_type": "code",
   "execution_count": null,
   "id": "eadb49e7-3ee5-4b0e-987f-d2f2a02fcb95",
   "metadata": {},
   "outputs": [],
   "source": []
  }
 ],
 "metadata": {
  "kernelspec": {
   "display_name": "RecSys",
   "language": "python",
   "name": "recsys"
  },
  "language_info": {
   "codemirror_mode": {
    "name": "ipython",
    "version": 3
   },
   "file_extension": ".py",
   "mimetype": "text/x-python",
   "name": "python",
   "nbconvert_exporter": "python",
   "pygments_lexer": "ipython3",
   "version": "3.12.7"
  }
 },
 "nbformat": 4,
 "nbformat_minor": 5
}
