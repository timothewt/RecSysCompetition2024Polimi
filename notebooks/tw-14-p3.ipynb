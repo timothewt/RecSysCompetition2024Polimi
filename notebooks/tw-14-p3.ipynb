{
 "cells": [
  {
   "metadata": {},
   "cell_type": "code",
   "outputs": [],
   "execution_count": null,
   "source": [
    "import numpy as np\n",
    "from scipy import sparse as sp\n",
    "from tqdm import trange\n",
    "\n",
    "from src.hyperparameters_optimizer import HyperparametersOptimizer\n",
    "from src.recommender_model import RecommenderModel\n",
    "from src.utils import train_model, write_submission, tf_idf"
   ],
   "id": "294cdfdda22d3423"
  },
  {
   "metadata": {},
   "cell_type": "code",
   "outputs": [],
   "execution_count": null,
   "source": [
    "class P3(RecommenderModel):\n",
    "\tdef __init__(self):\n",
    "\t\tsuper(P3, self).__init__()\n",
    "\t\tself.alpha: float = 0\n",
    "\t\tself.beta: float = 0\n",
    "\n",
    "\tdef fit(\n",
    "\t\tself,\n",
    "\t\turm: sp.csr_matrix,\n",
    "\t\ticm: sp.csr_matrix,\n",
    "\t\turm_val: sp.csr_matrix,\n",
    "\t\tprogress_bar: bool = True,\n",
    "\t\talpha: float = 1.,\n",
    "\t\tbeta: float = 0.,\n",
    "\t\tuse_features_weighting: bool = True,\n",
    "\t\tuse_icm: bool = False,\n",
    "\t\ticm_multiplier: float = 1.,\n",
    "\t\tbatch_size: int = 256,\n",
    "\t\ttop_k: int = 300,\n",
    "\t\t**kwargs\n",
    "\t) -> None:\n",
    "\t\tself.urm = urm\n",
    "\t\tself.icm = icm\n",
    "\t\tself.alpha = alpha\n",
    "\t\tself.beta = beta\n",
    "\t\tnum_users, num_items = self.urm.shape\n",
    "\n",
    "\t\tif use_icm:\n",
    "\t\t\tself.urm = sp.vstack([self.urm, self.icm.T * icm_multiplier]).tocsr()\n",
    "\n",
    "\t\tif use_features_weighting:\n",
    "\t\t\tself.urm = tf_idf(self.urm)\n",
    "\n",
    "\t\tdeg_users = sp.diags(np.power(self.urm.sum(axis=1).A.ravel(), -1))\n",
    "\t\tdeg_items = sp.diags(np.power(self.urm.T.sum(axis=1).A.ravel(), -1))\n",
    "\n",
    "\t\tp_ui = (deg_users @ self.urm).power(self.alpha)\n",
    "\t\tp_iu = (deg_items @ self.urm.T).power(self.alpha)\n",
    "\n",
    "\t\tdeg_items_pop_scaling = np.power(deg_items.diagonal(), self.beta)\n",
    "\n",
    "\t\trows = np.zeros((top_k * num_items,), dtype=np.float32)\n",
    "\t\tcols = np.zeros((top_k * num_items,), dtype=np.float32)\n",
    "\t\tvalues = np.zeros((top_k * num_items,), dtype=np.float32)\n",
    "\t\tnum_values = 0\n",
    "\n",
    "\t\titerator = trange(0, num_users, batch_size, desc=\"Batch\") if progress_bar else range(0, num_users, batch_size)\n",
    "\t\tfor start_user_idx in iterator:\n",
    "\t\t\tsimilarity_block = (p_iu[start_user_idx:start_user_idx + batch_size] @ p_ui).toarray()\n",
    "\t\t\tfor user_batch_idx in range(batch_size):\n",
    "\t\t\t\tuser_row = similarity_block[user_batch_idx] * deg_items_pop_scaling\n",
    "\n",
    "\t\t\t\ttop_k_idxs = np.argpartition(-user_row, top_k)[:top_k]\n",
    "\t\t\t\ttop_k_values = user_row[top_k_idxs]\n",
    "\n",
    "\t\t\t\tnon_zero_mask = top_k_values != 0\n",
    "\t\t\t\ttop_k_values = top_k_values[non_zero_mask]\n",
    "\t\t\t\ttop_k_idxs = top_k_idxs[non_zero_mask]\n",
    "\t\t\t\titems_to_add = len(top_k_values)\n",
    "\n",
    "\t\t\t\trows[num_values:num_values + items_to_add] = start_user_idx + user_batch_idx\n",
    "\t\t\t\tcols[num_values:num_values + items_to_add] = top_k_idxs\n",
    "\t\t\t\tvalues[num_values:num_values + items_to_add] = top_k_values\n",
    "\n",
    "\t\t\t\tnum_values += items_to_add\n",
    "\n",
    "\t\tsimilarity = sp.csr_matrix((\n",
    "\t\t\tvalues[:num_values],\n",
    "\t\t\t(rows[:num_values], cols[:num_values]),\n",
    "\t\t), shape=(num_items, num_items))\n",
    "\n",
    "\t\tself.urm_pred = self.urm @ similarity"
   ],
   "id": "2576a78b88b37422"
  },
  {
   "metadata": {},
   "cell_type": "code",
   "outputs": [],
   "execution_count": null,
   "source": [
    "optimizer = HyperparametersOptimizer({\n",
    "\t'alpha': np.arange(.5, .81, .1),\n",
    "\t'beta': np.arange(.3, .51, .1),\n",
    "}, P3)\n",
    "_, best_parameters = optimizer.optimize()"
   ],
   "id": "c99901a1ef5f7204"
  },
  {
   "metadata": {},
   "cell_type": "code",
   "outputs": [],
   "execution_count": null,
   "source": [
    "p3_submission, _ = train_model(P3(), test_size=0, **best_parameters)\n",
    "write_submission(p3_submission, \"p3_submission.csv\")"
   ],
   "id": "79ff6e2d1df385b2"
  }
 ],
 "metadata": {
  "kernelspec": {
   "display_name": "Python 3",
   "language": "python",
   "name": "python3"
  },
  "language_info": {
   "codemirror_mode": {
    "name": "ipython",
    "version": 2
   },
   "file_extension": ".py",
   "mimetype": "text/x-python",
   "name": "python",
   "nbconvert_exporter": "python",
   "pygments_lexer": "ipython2",
   "version": "2.7.6"
  }
 },
 "nbformat": 4,
 "nbformat_minor": 5
}
