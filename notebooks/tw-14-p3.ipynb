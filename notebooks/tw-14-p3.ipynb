{
 "cells": [
  {
   "cell_type": "code",
   "id": "initial_id",
   "metadata": {
    "collapsed": true,
    "ExecuteTime": {
     "end_time": "2024-11-21T23:55:10.382316Z",
     "start_time": "2024-11-21T23:55:08.878805Z"
    }
   },
   "source": [
    "import numpy as np\n",
    "from scipy import sparse as sp\n",
    "from tqdm import trange\n",
    "\n",
    "from src.hyperparameters_optimizer import HyperparametersOptimizer\n",
    "from src.recommender_model import RecommenderModel\n",
    "from src.utils import train_model, write_submission, open_dataset"
   ],
   "outputs": [],
   "execution_count": 1
  },
  {
   "metadata": {
    "ExecuteTime": {
     "end_time": "2024-11-21T23:55:10.399244Z",
     "start_time": "2024-11-21T23:55:10.390729Z"
    }
   },
   "cell_type": "code",
   "source": [
    "class P3(RecommenderModel):\n",
    "    def __init__(self):\n",
    "        super(P3, self).__init__()\n",
    "        self.alpha: float = 0\n",
    "        self.beta: float = 0\n",
    "\n",
    "    def fit(self, urm: sp.csr_matrix, icm: sp.csr_matrix, urm_val: sp.csr_matrix, progress_bar: bool = True, alpha: float = 1., beta: float = 0., batch_size: int = 4096) -> None:\n",
    "        self.urm = urm\n",
    "        urm_t = urm.T\n",
    "        self.alpha = alpha\n",
    "        self.beta = beta\n",
    "        num_users, num_items = self.urm.shape\n",
    "\n",
    "        deg_users = sp.diags(np.power(self.urm.sum(axis=1).A.ravel(), -1))\n",
    "        deg_items = sp.diags(np.power(urm_t.sum(axis=1).A.ravel(), -1))\n",
    "\n",
    "        p_ui = (deg_users @ self.urm).power(self.alpha)\n",
    "        p_iu = (deg_items @ urm_t).power(self.alpha)\n",
    "\n",
    "        popularity_scaling = np.power(urm_t.sum(axis=1).A, -beta)\n",
    "        similarity = (p_iu @ p_ui).multiply(popularity_scaling)\n",
    "\n",
    "        self.urm_pred = np.zeros((num_users, num_items), dtype=np.float32)\n",
    "\n",
    "        iterator = trange(0, num_users, batch_size, desc=\"Users\") if progress_bar else range(0, num_users, batch_size)\n",
    "\n",
    "        for start_user_idx in iterator:\n",
    "            num_users_batch = min(batch_size, num_users - start_user_idx)\n",
    "            end_user_idx = start_user_idx + num_users_batch\n",
    "\n",
    "            batch_diag = sp.diags(np.ones(num_users_batch), shape=(num_users_batch, num_users_batch))\n",
    "\n",
    "            batch_pred = batch_diag @ p_ui[start_user_idx:end_user_idx, :] @ similarity\n",
    "            self.urm_pred[start_user_idx:end_user_idx, :] = batch_pred.toarray()\n"
   ],
   "id": "250a2bf4000a43c5",
   "outputs": [],
   "execution_count": 2
  },
  {
   "metadata": {
    "ExecuteTime": {
     "end_time": "2024-11-22T00:15:50.997227Z",
     "start_time": "2024-11-21T23:55:10.582531Z"
    }
   },
   "cell_type": "code",
   "source": [
    "optimizer = HyperparametersOptimizer({\n",
    "\t'alpha': np.arange(.9, 1.01, .1),\n",
    "\t'beta': np.arange(0, .41, .1),\n",
    "}, P3)\n",
    "_, best_parameters = optimizer.optimize()"
   ],
   "id": "e062ed0695fd27a",
   "outputs": [
    {
     "name": "stderr",
     "output_type": "stream",
     "text": [
      "100%|██████████| 10/10 [20:39<00:00, 123.91s/it, Best MAP@10: 0.0467 with ['alpha: 1.00e+00', 'beta: 2.00e-01']]\n"
     ]
    }
   ],
   "execution_count": 3
  },
  {
   "metadata": {
    "ExecuteTime": {
     "end_time": "2024-11-22T00:18:51.930828Z",
     "start_time": "2024-11-22T00:15:51.048319Z"
    }
   },
   "cell_type": "code",
   "source": [
    "p3_submission = train_model(P3(), test_size=0, **best_parameters)\n",
    "write_submission(p3_submission, \"p3_submission.csv\")"
   ],
   "id": "6545329411fd245a",
   "outputs": [
    {
     "name": "stderr",
     "output_type": "stream",
     "text": [
      "Users: 100%|██████████| 9/9 [02:55<00:00, 19.45s/it]\n"
     ]
    },
    {
     "ename": "AttributeError",
     "evalue": "'tuple' object has no attribute 'recommend'",
     "output_type": "error",
     "traceback": [
      "\u001B[0;31m---------------------------------------------------------------------------\u001B[0m",
      "\u001B[0;31mAttributeError\u001B[0m                            Traceback (most recent call last)",
      "Cell \u001B[0;32mIn[4], line 2\u001B[0m\n\u001B[1;32m      1\u001B[0m p3_submission \u001B[38;5;241m=\u001B[39m train_model(P3(), test_size\u001B[38;5;241m=\u001B[39m\u001B[38;5;241m0\u001B[39m, \u001B[38;5;241m*\u001B[39m\u001B[38;5;241m*\u001B[39mbest_parameters)\n\u001B[0;32m----> 2\u001B[0m \u001B[43mwrite_submission\u001B[49m\u001B[43m(\u001B[49m\u001B[43mp3_submission\u001B[49m\u001B[43m,\u001B[49m\u001B[43m \u001B[49m\u001B[38;5;124;43m\"\u001B[39;49m\u001B[38;5;124;43mp3_submission.csv\u001B[39;49m\u001B[38;5;124;43m\"\u001B[39;49m\u001B[43m)\u001B[49m\n",
      "File \u001B[0;32m~/PycharmProjects/RecSysCompetition2024Polimi/src/utils.py:135\u001B[0m, in \u001B[0;36mwrite_submission\u001B[0;34m(trained_model, filename, at)\u001B[0m\n\u001B[1;32m    123\u001B[0m \u001B[38;5;250m\u001B[39m\u001B[38;5;124;03m\"\"\"Builds the submission file from a trained recommender model. The file is saved in a CSV format.\u001B[39;00m\n\u001B[1;32m    124\u001B[0m \n\u001B[1;32m    125\u001B[0m \u001B[38;5;124;03m:param trained_model: A fitted recommender model\u001B[39;00m\n\u001B[0;32m   (...)\u001B[0m\n\u001B[1;32m    130\u001B[0m \u001B[38;5;124;03m:type at: int\u001B[39;00m\n\u001B[1;32m    131\u001B[0m \u001B[38;5;124;03m\"\"\"\u001B[39;00m\n\u001B[1;32m    132\u001B[0m target_users_test \u001B[38;5;241m=\u001B[39m pd\u001B[38;5;241m.\u001B[39mread_csv(\u001B[38;5;124m\"\u001B[39m\u001B[38;5;124m../data/data_target_users_test.csv\u001B[39m\u001B[38;5;124m\"\u001B[39m,)\u001B[38;5;241m.\u001B[39mto_numpy()\u001B[38;5;241m.\u001B[39mravel()\n\u001B[1;32m    134\u001B[0m recommendations \u001B[38;5;241m=\u001B[39m np\u001B[38;5;241m.\u001B[39marray([\n\u001B[0;32m--> 135\u001B[0m \t\u001B[43mtrained_model\u001B[49m\u001B[38;5;241;43m.\u001B[39;49m\u001B[43mrecommend\u001B[49m(user_id, at) \u001B[38;5;28;01mfor\u001B[39;00m user_id \u001B[38;5;129;01min\u001B[39;00m target_users_test\n\u001B[1;32m    136\u001B[0m ])\n\u001B[1;32m    138\u001B[0m \u001B[38;5;28;01mif\u001B[39;00m \u001B[38;5;129;01mnot\u001B[39;00m os\u001B[38;5;241m.\u001B[39mpath\u001B[38;5;241m.\u001B[39mexists(\u001B[38;5;124m\"\u001B[39m\u001B[38;5;124m../submissions\u001B[39m\u001B[38;5;124m\"\u001B[39m):\n\u001B[1;32m    139\u001B[0m \tos\u001B[38;5;241m.\u001B[39mmakedirs(\u001B[38;5;124m\"\u001B[39m\u001B[38;5;124m../submissions\u001B[39m\u001B[38;5;124m\"\u001B[39m)\n",
      "\u001B[0;31mAttributeError\u001B[0m: 'tuple' object has no attribute 'recommend'"
     ]
    }
   ],
   "execution_count": 4
  }
 ],
 "metadata": {
  "kernelspec": {
   "display_name": "Python 3",
   "language": "python",
   "name": "python3"
  },
  "language_info": {
   "codemirror_mode": {
    "name": "ipython",
    "version": 2
   },
   "file_extension": ".py",
   "mimetype": "text/x-python",
   "name": "python",
   "nbconvert_exporter": "python",
   "pygments_lexer": "ipython2",
   "version": "2.7.6"
  }
 },
 "nbformat": 4,
 "nbformat_minor": 5
}
