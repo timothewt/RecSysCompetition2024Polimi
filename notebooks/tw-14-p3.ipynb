{
 "cells": [
  {
   "cell_type": "code",
   "id": "initial_id",
   "metadata": {
    "collapsed": true,
    "ExecuteTime": {
     "end_time": "2024-11-21T19:05:28.921337Z",
     "start_time": "2024-11-21T19:05:27.739370Z"
    }
   },
   "source": [
    "import numpy as np\n",
    "from scipy import sparse as sp\n",
    "from tqdm import trange\n",
    "\n",
    "from src.recommender_model import RecommenderModel\n",
    "from src.utils import train_model, write_submission, open_dataset"
   ],
   "outputs": [],
   "execution_count": 1
  },
  {
   "metadata": {
    "ExecuteTime": {
     "end_time": "2024-11-21T19:05:28.950267Z",
     "start_time": "2024-11-21T19:05:28.939030Z"
    }
   },
   "cell_type": "code",
   "source": [
    "class P3(RecommenderModel):\n",
    "    def __init__(self):\n",
    "        super(P3, self).__init__()\n",
    "        self.alpha: float = 0\n",
    "        self.beta: float = 0\n",
    "\n",
    "    def fit(self, urm: sp.csr_matrix, icm: sp.csr_matrix, urm_val: sp.csr_matrix, progress_bar: bool = True, alpha: float = 1., beta: float = 0., batch_size: int = 4096) -> None:\n",
    "        self.urm = urm\n",
    "        urm_t = urm.T\n",
    "        self.alpha = alpha\n",
    "        self.beta = beta\n",
    "        num_users, num_items = self.urm.shape\n",
    "\n",
    "        deg_users = sp.diags(np.power(self.urm.sum(axis=1).A.ravel(), -1))\n",
    "        deg_items = sp.diags(np.power(urm_t.sum(axis=1).A.ravel(), -1))\n",
    "\n",
    "        p_ui = (deg_users @ self.urm).power(self.alpha)\n",
    "        p_iu = (deg_items @ urm_t).power(self.alpha)\n",
    "\n",
    "        popularity_scaling = np.power(urm_t.sum(axis=1).A, -beta)\n",
    "        similarity = (p_iu @ p_ui).multiply(popularity_scaling)\n",
    "\n",
    "        self.urm_pred = np.zeros((num_users, num_items), dtype=np.float32)\n",
    "\n",
    "        iterator = trange(0, num_users, batch_size, desc=\"Users\") if progress_bar else range(0, num_users, batch_size)\n",
    "\n",
    "        for start_user_idx in iterator:\n",
    "            num_users_batch = min(batch_size, num_users - start_user_idx)\n",
    "            end_user_idx = start_user_idx + num_users_batch\n",
    "\n",
    "            batch_diag = sp.diags(np.ones(num_users_batch), shape=(num_users_batch, num_users_batch))\n",
    "\n",
    "            batch_pred = batch_diag @ p_ui[start_user_idx:end_user_idx, :] @ similarity\n",
    "            self.urm_pred[start_user_idx:end_user_idx, :] = batch_pred.toarray()\n"
   ],
   "id": "250a2bf4000a43c5",
   "outputs": [],
   "execution_count": 2
  },
  {
   "metadata": {
    "ExecuteTime": {
     "end_time": "2024-11-21T19:53:40.860354Z",
     "start_time": "2024-11-21T19:42:54.012304Z"
    }
   },
   "cell_type": "code",
   "source": [
    "betas = np.arange(0, 1, .1)\n",
    "\n",
    "for beta in betas:\n",
    "\tprint(f\"beta={beta.item()}\")\n",
    "\ttrain_model(P3(), test_size=.2, beta=beta)"
   ],
   "id": "bffd878cfc75d544",
   "outputs": [
    {
     "name": "stdout",
     "output_type": "stream",
     "text": [
      "beta=0.0\n"
     ]
    },
    {
     "name": "stderr",
     "output_type": "stream",
     "text": [
      "Users: 100%|██████████| 9/9 [01:09<00:00,  7.71s/it]\n"
     ]
    },
    {
     "name": "stdout",
     "output_type": "stream",
     "text": [
      "MAP@10 evaluation of the P3 model: 0.04441\n",
      "beta=0.1\n"
     ]
    },
    {
     "name": "stderr",
     "output_type": "stream",
     "text": [
      "Users: 100%|██████████| 9/9 [01:11<00:00,  7.95s/it]\n"
     ]
    },
    {
     "name": "stdout",
     "output_type": "stream",
     "text": [
      "MAP@10 evaluation of the P3 model: 0.04442\n",
      "beta=0.2\n"
     ]
    },
    {
     "name": "stderr",
     "output_type": "stream",
     "text": [
      "Users: 100%|██████████| 9/9 [01:01<00:00,  6.84s/it]\n"
     ]
    },
    {
     "name": "stdout",
     "output_type": "stream",
     "text": [
      "MAP@10 evaluation of the P3 model: 0.04634\n",
      "beta=0.30000000000000004\n"
     ]
    },
    {
     "name": "stderr",
     "output_type": "stream",
     "text": [
      "Users: 100%|██████████| 9/9 [00:56<00:00,  6.31s/it]\n"
     ]
    },
    {
     "name": "stdout",
     "output_type": "stream",
     "text": [
      "MAP@10 evaluation of the P3 model: 0.04556\n",
      "beta=0.4\n"
     ]
    },
    {
     "name": "stderr",
     "output_type": "stream",
     "text": [
      "Users: 100%|██████████| 9/9 [00:54<00:00,  6.06s/it]\n"
     ]
    },
    {
     "name": "stdout",
     "output_type": "stream",
     "text": [
      "MAP@10 evaluation of the P3 model: 0.04594\n",
      "beta=0.5\n"
     ]
    },
    {
     "name": "stderr",
     "output_type": "stream",
     "text": [
      "Users: 100%|██████████| 9/9 [00:57<00:00,  6.36s/it]\n"
     ]
    },
    {
     "name": "stdout",
     "output_type": "stream",
     "text": [
      "MAP@10 evaluation of the P3 model: 0.04708\n",
      "beta=0.6000000000000001\n"
     ]
    },
    {
     "name": "stderr",
     "output_type": "stream",
     "text": [
      "Users: 100%|██████████| 9/9 [00:54<00:00,  6.04s/it]\n"
     ]
    },
    {
     "name": "stdout",
     "output_type": "stream",
     "text": [
      "MAP@10 evaluation of the P3 model: 0.04434\n",
      "beta=0.7000000000000001\n"
     ]
    },
    {
     "name": "stderr",
     "output_type": "stream",
     "text": [
      "Users: 100%|██████████| 9/9 [00:57<00:00,  6.43s/it]\n"
     ]
    },
    {
     "name": "stdout",
     "output_type": "stream",
     "text": [
      "MAP@10 evaluation of the P3 model: 0.04550\n",
      "beta=0.8\n"
     ]
    },
    {
     "name": "stderr",
     "output_type": "stream",
     "text": [
      "Users: 100%|██████████| 9/9 [00:49<00:00,  5.46s/it]\n"
     ]
    },
    {
     "name": "stdout",
     "output_type": "stream",
     "text": [
      "MAP@10 evaluation of the P3 model: 0.04702\n",
      "beta=0.9\n"
     ]
    },
    {
     "name": "stderr",
     "output_type": "stream",
     "text": [
      "Users: 100%|██████████| 9/9 [01:00<00:00,  6.71s/it]\n"
     ]
    },
    {
     "name": "stdout",
     "output_type": "stream",
     "text": [
      "MAP@10 evaluation of the P3 model: 0.04599\n"
     ]
    }
   ],
   "execution_count": 4
  },
  {
   "metadata": {
    "ExecuteTime": {
     "end_time": "2024-11-21T18:59:07.616828Z",
     "start_time": "2024-11-21T18:58:11.677403Z"
    }
   },
   "cell_type": "code",
   "outputs": [
    {
     "name": "stderr",
     "output_type": "stream",
     "text": [
      "Users: 100%|██████████| 5/5 [00:53<00:00, 10.62s/it]\n"
     ]
    },
    {
     "name": "stdout",
     "output_type": "stream",
     "text": [
      "MAP@10 evaluation of the P3A model: 0.04366\n"
     ]
    }
   ],
   "execution_count": 4,
   "source": "p3a_train, _ = train_model(P3(), test_size=.2)",
   "id": "c0766d738ee2a84f"
  },
  {
   "metadata": {},
   "cell_type": "code",
   "outputs": [],
   "execution_count": null,
   "source": "",
   "id": "e062ed0695fd27a"
  }
 ],
 "metadata": {
  "kernelspec": {
   "display_name": "Python 3",
   "language": "python",
   "name": "python3"
  },
  "language_info": {
   "codemirror_mode": {
    "name": "ipython",
    "version": 2
   },
   "file_extension": ".py",
   "mimetype": "text/x-python",
   "name": "python",
   "nbconvert_exporter": "python",
   "pygments_lexer": "ipython2",
   "version": "2.7.6"
  }
 },
 "nbformat": 4,
 "nbformat_minor": 5
}
